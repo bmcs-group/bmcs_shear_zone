{
 "cells": [
  {
   "cell_type": "code",
   "execution_count": 1,
   "metadata": {
    "collapsed": true
   },
   "outputs": [
    {
     "data": {
      "text/plain": "VBox(children=(Output(), Tab(children=(GridBox(children=(IntSlider(value=4, continuous_update=False, descripti…",
      "application/vnd.jupyter.widget-view+json": {
       "version_major": 2,
       "version_minor": 0,
       "model_id": "445ea5d013904dd3b0fca589f0609ad6"
      }
     },
     "metadata": {},
     "output_type": "display_data"
    },
    {
     "data": {
      "text/plain": "<Figure size 432x216 with 1 Axes>",
      "image/png": "[encoded data removed]"
     },
     "metadata": {
      "needs_background": "light"
     },
     "output_type": "display_data"
    }
   ],
   "source": [
    "from bmcs_shear_zone.shear_crack.beam_design import RCBeamDesign\n",
    "from bmcs_shear_zone.shear_crack.crack_path import SZCrackPath\n",
    "from bmcs_utils.api import InteractiveWindow\n",
    "\n",
    "sz_geo = RCBeamDesign(H=300 ,L=1000)\n",
    "sz_cp = SZCrackPath(sz_geo=sz_geo, x_00=500)\n",
    "sz_cp.add_x_tip_an([480 ,80])\n",
    "sz_cp.add_x_tip_an([350 ,160])\n",
    "\n",
    "ipw_plate = InteractiveWindow(\n",
    "    [sz_cp, sz_cp.sz_geo, sz_cp.sz_geo.cmm, sz_cp.sz_ctr],\n",
    "    figsize=(6 ,3)\n",
    ")\n",
    "ipw_plate.interact()\n"
   ]
  }
 ],
 "metadata": {
  "kernelspec": {
   "name": "pycharm-b2a3785d",
   "language": "python",
   "display_name": "PyCharm (bmcs_shear_zone)"
  },
  "language_info": {
   "codemirror_mode": {
    "name": "ipython",
    "version": 2
   },
   "file_extension": ".py",
   "mimetype": "text/x-python",
   "name": "python",
   "nbconvert_exporter": "python",
   "pygments_lexer": "ipython2",
   "version": "2.7.6"
  }
 },
 "nbformat": 4,
 "nbformat_minor": 0
}