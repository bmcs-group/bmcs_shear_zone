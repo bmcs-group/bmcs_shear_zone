{
 "cells": [
  {
   "cell_type": "code",
   "execution_count": 1,
   "metadata": {},
   "outputs": [
    {
     "data": {
      "application/vnd.jupyter.widget-view+json": {
       "model_id": "14c1be2fd97a4598a41d2fdbadd7996e",
       "version_major": 2,
       "version_minor": 0
      },
      "text/plain": [
       "VBox(children=(Output(), Tab(children=(GridBox(children=(IntSlider(value=4, continuous_update=False, descripti…"
      ]
     },
     "metadata": {},
     "output_type": "display_data"
    }
   ],
   "source": [
    "%matplotlib widget\n",
    "\n",
    "from bmcs_shear_zone.shear_crack.beam_design import RCBeamDesign\n",
    "from bmcs_shear_zone.shear_crack.crack_path import SZCrackPath\n",
    "from bmcs_utils.api import InteractiveWindow\n",
    "\n",
    "sz_geo = RCBeamDesign(H=300 ,L=1000)\n",
    "sz_cp = SZCrackPath(sz_geo=sz_geo, x_00=500)\n",
    "sz_cp.add_x_tip_an([480 ,80])\n",
    "sz_cp.add_x_tip_an([350 ,160])\n",
    "\n",
    "ipw_plate = InteractiveWindow(\n",
    "    [sz_cp, sz_cp.sz_geo, sz_cp.sz_geo.cmm, sz_cp.sz_ctr],\n",
    "    figsize=(6 ,3)\n",
    ")\n",
    "ipw_plate.interact()"
   ]
  },
  {
   "cell_type": "code",
   "execution_count": null,
   "metadata": {
    "pycharm": {
     "name": "#%%\n"
    }
   },
   "outputs": [],
   "source": []
  }
 ],
 "metadata": {
  "kernelspec": {
   "display_name": "PyCharm (bmcs_shear_zone)",
   "language": "python",
   "name": "pycharm-b2a3785d"
  },
  "language_info": {
   "codemirror_mode": {
    "name": "ipython",
    "version": 3
   },
   "file_extension": ".py",
   "mimetype": "text/x-python",
   "name": "python",
   "nbconvert_exporter": "python",
   "pygments_lexer": "ipython3",
   "version": "3.7.6"
  },
  "toc": {
   "base_numbering": 1,
   "nav_menu": {},
   "number_sections": true,
   "sideBar": true,
   "skip_h1_title": false,
   "title_cell": "Table of Contents",
   "title_sidebar": "Contents",
   "toc_cell": false,
   "toc_position": {},
   "toc_section_display": true,
   "toc_window_display": true
  }
 },
 "nbformat": 4,
 "nbformat_minor": 1
}
