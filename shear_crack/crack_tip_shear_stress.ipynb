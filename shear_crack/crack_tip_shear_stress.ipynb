{
 "cells": [
  {
   "cell_type": "code",
   "execution_count": 2,
   "metadata": {},
   "outputs": [
    {
     "data": {
      "application/vnd.jupyter.widget-view+json": {
       "model_id": "ef43f94e74004a6e974e46d4fef35b54",
       "version_major": 2,
       "version_minor": 0
      },
      "text/plain": [
       "VBox(children=(Output(), Tab(children=(GridBox(layout=Layout(grid_template_columns='1fr 1fr')), GridBox(layout…"
      ]
     },
     "metadata": {},
     "output_type": "display_data"
    },
    {
     "name": "stdout",
     "output_type": "stream",
     "text": [
      "Plotting shear_stress_at tip\n"
     ]
    }
   ],
   "source": [
    "%matplotlib widget\n",
    "\n",
    "from bmcs_shear_zone.shear_crack.crack_tip_rotation import SZCrackTipRotation\n",
    "from bmcs_shear_zone.shear_crack.beam_design import RCBeamDesign\n",
    "from bmcs_shear_zone.shear_crack.crack_path import SZCrackPath\n",
    "from bmcs_shear_zone.shear_crack.deformed_state import SZDeformedState\n",
    "from bmcs_shear_zone.shear_crack.stress_profile import SZStressProfile\n",
    "from bmcs_shear_zone.shear_crack.crack_tip_shear_stress import SZCrackTipShearStress\n",
    "from bmcs_utils.api import InteractiveWindow\n",
    "\n",
    "# In[87]:\n",
    "\n",
    "ctr = SZCrackTipRotation(L_fps=20, w=10)\n",
    "cp = SZCrackPath(sz_ctr=ctr, x_00=400)\n",
    "cp.add_x_tip_an([400, 50])\n",
    "cp.add_x_tip_an([300, 80])\n",
    "sz_ssp = SZCrackTipShearStress(sz_cp=cp)\n",
    "sz_ssp.Q, sz_ssp.tau_x_tip_1k\n",
    "\n",
    "# In[88]:\n",
    "\n",
    "\n",
    "sp_ii = InteractiveWindow([sz_ssp, sz_ssp.sz_stress_profile,\n",
    "                           sz_ssp.sz_cp, sz_ssp.beam_design])\n",
    "sp_ii.interact()\n",
    "\n"
   ]
  },
  {
   "cell_type": "code",
   "execution_count": null,
   "metadata": {},
   "outputs": [],
   "source": []
  },
  {
   "cell_type": "code",
   "execution_count": null,
   "metadata": {},
   "outputs": [],
   "source": []
  }
 ],
 "metadata": {
  "kernelspec": {
   "display_name": "PyCharm (bmcs_shear_zone)",
   "language": "python",
   "name": "pycharm-b2a3785d"
  },
  "language_info": {
   "codemirror_mode": {
    "name": "ipython",
    "version": 3
   },
   "file_extension": ".py",
   "mimetype": "text/x-python",
   "name": "python",
   "nbconvert_exporter": "python",
   "pygments_lexer": "ipython3",
   "version": "3.7.6"
  },
  "toc": {
   "base_numbering": 1,
   "nav_menu": {},
   "number_sections": true,
   "sideBar": true,
   "skip_h1_title": false,
   "title_cell": "Table of Contents",
   "title_sidebar": "Contents",
   "toc_cell": false,
   "toc_position": {},
   "toc_section_display": true,
   "toc_window_display": true
  }
 },
 "nbformat": 4,
 "nbformat_minor": 1
}