{
 "cells": [
  {
   "cell_type": "code",
   "execution_count": 1,
   "metadata": {
    "collapsed": true
   },
   "outputs": [],
   "source": [
    "%matplotlib widget\n",
    "import bmcs_utils.api as bu\n",
    "from bmcs_shear_zone.shear_crack.crack_extension import CrackExtension\n",
    "from bmcs_shear_zone.shear_crack.beam_design import RCBeamDesign\n",
    "from bmcs_shear_zone.shear_crack.crack_path import SZCrackPath\n",
    "import numpy as np"
   ]
  },
  {
   "cell_type": "code",
   "execution_count": 3,
   "outputs": [
    {
     "name": "stdout",
     "output_type": "stream",
     "text": [
      "sz_ctr - init 0.16666666666666666\n",
      "sz_ctr - init 0.16666666666666666\n",
      "sz_ctr - init 0.16666666666666666\n",
      "sz_ctr - init 0.16666666666666666\n",
      "sz_ctr - init 0.16666666666666666\n",
      "sz_ctr - init 0.16666666666666666\n"
     ]
    },
    {
     "data": {
      "text/plain": "VBox(children=(Output(), Tab(children=(GridBox(layout=Layout(grid_template_columns='1fr 1fr')),), _titles={'0'…",
      "application/vnd.jupyter.widget-view+json": {
       "version_major": 2,
       "version_minor": 0,
       "model_id": "c2e533e587064954b0acdc1fbb7df8f6"
      }
     },
     "metadata": {},
     "output_type": "display_data"
    },
    {
     "data": {
      "text/plain": "<Figure size 576x216 with 1 Axes>",
      "image/png": "[encoded data removed]"
     },
     "metadata": {
      "needs_background": "light"
     },
     "output_type": "display_data"
    }
   ],
   "source": [
    "bd = RCBeamDesign(H=600 ,L=1000, B=50)\n",
    "sz_cp = SZCrackPath(sz_geo=bd, x_00=500)\n",
    "#sz_cp.add_x_tip_an([400 ,400])\n",
    "sz_cp.add_x_tip_an([300 ,100])\n",
    "ce = CrackExtension(sz_cp=sz_cp)\n",
    "ce.init_state()\n",
    "ce.make_iter()"
   ],
   "metadata": {
    "collapsed": false,
    "pycharm": {
     "name": "#%%\n"
    }
   }
  },
  {
   "cell_type": "code",
   "execution_count": 27,
   "outputs": [
    {
     "data": {
      "text/plain": "<bmcs_shear_zone.shear_crack.beam_design.RCBeamDesign at 0x7f0adbc76bf0>"
     },
     "execution_count": 27,
     "metadata": {},
     "output_type": "execute_result"
    }
   ],
   "source": [
    "bu.InteractiveWindow([ce, ce.sz_stress_profile, ce.sz_stress_profile.ds, ce.sz_cp.sz_ctr]).interact()\n"
   ],
   "metadata": {
    "collapsed": false,
    "pycharm": {
     "name": "#%%\n"
    }
   }
  },
  {
   "cell_type": "code",
   "execution_count": 35,
   "outputs": [],
   "source": [
    "ce.beam_design"
   ],
   "metadata": {
    "collapsed": false,
    "pycharm": {
     "name": "#%%\n"
    }
   }
  },
  {
   "cell_type": "code",
   "execution_count": 38,
   "outputs": [
    {
     "name": "stdout",
     "output_type": "stream",
     "text": [
      "[0.30312668614395927, 0.30266131321082, 0.3018763372277104, 0.3007950977034799, 0.2994496997022564, 0.29787987810540006, 0.2961316130792753, 0.29425556978477396, 0.29230544051176877, 0.2903362656490077]\n"
     ]
    }
   ],
   "source": [
    "beta_arr = np.linspace(0, 1.5, 10)\n",
    "psi_arr = []\n",
    "for beta in beta_arr:\n",
    "    ce.sz_ctr.beta = beta\n",
    "    psi_arr.append(ce.crack_tip_orientation.get_psi())#bu.InteractiveWindow(ce).interact()"
   ],
   "metadata": {
    "collapsed": false,
    "pycharm": {
     "name": "#%%\n"
    }
   }
  },
  {
   "cell_type": "code",
   "execution_count": 36,
   "outputs": [
    {
     "name": "stderr",
     "output_type": "stream",
     "text": [
      "<string>:2: RuntimeWarning: invalid value encountered in sqrt\n"
     ]
    }
   ],
   "source": [
    "print(psi_arr)"
   ],
   "metadata": {
    "collapsed": false,
    "pycharm": {
     "name": "#%%\n"
    }
   }
  },
  {
   "cell_type": "code",
   "execution_count": 37,
   "outputs": [
    {
     "name": "stdout",
     "output_type": "stream",
     "text": [
      "[0.2903362656490077, 0.2903362656490077, 0.2903362656490077, 0.2903362656490077, 0.2903362656490077, 0.2903362656490077, 0.2903362656490077, 0.2903362656490077, 0.2903362656490077, 0.2903362656490077]\n"
     ]
    }
   ],
   "source": [
    "x_1_arr = np.linspace(0, 300, 10)\n",
    "psi2_arr = []\n",
    "for x_1 in x_1_arr:\n",
    "    ce.sz_ctr.x_rot_1k = x_1\n",
    "    psi2_arr.append(ce.crack_tip_orientation.get_psi())#bu.InteractiveWindow(ce).interact()"
   ],
   "metadata": {
    "collapsed": false,
    "pycharm": {
     "name": "#%%\n"
    }
   }
  },
  {
   "cell_type": "code",
   "execution_count": null,
   "outputs": [],
   "source": [
    "print(psi2_arr)\n"
   ],
   "metadata": {
    "collapsed": false,
    "pycharm": {
     "name": "#%%\n"
    }
   }
  },
  {
   "cell_type": "code",
   "execution_count": null,
   "outputs": [],
   "source": [],
   "metadata": {
    "collapsed": false,
    "pycharm": {
     "name": "#%%\n"
    }
   }
  }
 ],
 "metadata": {
  "kernelspec": {
   "name": "pycharm-b2a3785d",
   "language": "python",
   "display_name": "PyCharm (bmcs_shear_zone)"
  },
  "language_info": {
   "codemirror_mode": {
    "name": "ipython",
    "version": 2
   },
   "file_extension": ".py",
   "mimetype": "text/x-python",
   "name": "python",
   "nbconvert_exporter": "python",
   "pygments_lexer": "ipython2",
   "version": "2.7.6"
  }
 },
 "nbformat": 4,
 "nbformat_minor": 0
}