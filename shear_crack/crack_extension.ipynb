{
 "cells": [
  {
   "cell_type": "code",
   "execution_count": 1,
   "metadata": {},
   "outputs": [],
   "source": [
    "%matplotlib widget\n",
    "import bmcs_utils.api as bu\n",
    "from bmcs_shear_zone.shear_crack.crack_extension import CrackExtension\n",
    "from bmcs_shear_zone.shear_crack.beam_design import RCBeamDesign\n",
    "from bmcs_shear_zone.shear_crack.crack_path import SZCrackPath\n",
    "import numpy as np"
   ]
  },
  {
   "cell_type": "code",
   "execution_count": 12,
   "metadata": {
    "pycharm": {
     "name": "#%%\n"
    },
    "scrolled": false
   },
   "outputs": [
    {
     "name": "stdout",
     "output_type": "stream",
     "text": [
      "R_k 0.0804626111294556 -0.2443641217314084 552.2810423899325 Success True\n"
     ]
    },
    {
     "data": {
      "text/plain": [
       "array([-2.44364122e-01,  5.52281042e+02])"
      ]
     },
     "execution_count": 12,
     "metadata": {},
     "output_type": "execute_result"
    }
   ],
   "source": [
    "bd = RCBeamDesign(H=600 ,L=1000)\n",
    "sz_cp = SZCrackPath(sz_geo=bd, x_00=500)\n",
    "sz_cp.add_x_tip_an([400 ,400])\n",
    "sz_cp.add_x_tip_an([300 ,500])\n",
    "ce = CrackExtension(sz_cp=sz_cp)\n",
    "ce.init_state()\n",
    "ce.make_iter()"
   ]
  },
  {
   "cell_type": "code",
   "execution_count": 13,
   "metadata": {
    "pycharm": {
     "name": "#%%\n"
    }
   },
   "outputs": [
    {
     "data": {
      "application/vnd.jupyter.widget-view+json": {
       "model_id": "da1c397d9f5342939264d9a988b6a121",
       "version_major": 2,
       "version_minor": 0
      },
      "text/plain": [
       "VBox(children=(Output(), Tab(children=(GridBox(layout=Layout(grid_template_columns='1fr 1fr')), GridBox(layout…"
      ]
     },
     "metadata": {},
     "output_type": "display_data"
    }
   ],
   "source": [
    "bu.InteractiveWindow([ce, ce.sz_stress_profile, ce.sz_stress_profile.ds, ce.sz_cp.sz_ctr]).interact()"
   ]
  },
  {
   "cell_type": "code",
   "execution_count": 4,
   "metadata": {
    "pycharm": {
     "name": "#%%\n"
    }
   },
   "outputs": [],
   "source": [
    "psi0_arr = np.linspace(0, 1.5, 10)\n",
    "psi_arr = []\n",
    "for psi0 in psi0_arr:\n",
    "    ce.sz_ctr.psi = psi0\n",
    "    psi_arr.append(ce.crack_tip_orientation.get_psi())#bu.InteractiveWindow(ce).interact()"
   ]
  },
  {
   "cell_type": "code",
   "execution_count": 8,
   "metadata": {
    "pycharm": {
     "name": "#%%\n"
    }
   },
   "outputs": [
    {
     "name": "stdout",
     "output_type": "stream",
     "text": [
      "[0.6792481620792122, 0.6920293761677361, 0.658697284734288, 0.6508586848127443, 0.6450154434474797, 0.642767984961858, 0.6460900166460037, 0.6569390634750049, 0.6751561563162186, 0.6982690675935301]\n"
     ]
    }
   ],
   "source": [
    "print(psi_arr)"
   ]
  },
  {
   "cell_type": "code",
   "execution_count": 9,
   "metadata": {
    "pycharm": {
     "name": "#%%\n"
    }
   },
   "outputs": [
    {
     "name": "stderr",
     "output_type": "stream",
     "text": [
      "<string>:2: RuntimeWarning: invalid value encountered in sqrt\n",
      "<string>:2: RuntimeWarning: invalid value encountered in sqrt\n",
      "<string>:2: RuntimeWarning: invalid value encountered in sqrt\n",
      "<string>:2: RuntimeWarning: invalid value encountered in less\n",
      "<string>:2: RuntimeWarning: invalid value encountered in less_equal\n",
      "<string>:2: RuntimeWarning: invalid value encountered in less\n",
      "<string>:2: RuntimeWarning: invalid value encountered in less_equal\n"
     ]
    }
   ],
   "source": [
    "x_1_arr = np.linspace(0, 300, 10)\n",
    "psi2_arr = []\n",
    "for x_1 in x_1_arr:\n",
    "    ce.sz_ctr.x_rot_1k = x_1\n",
    "    psi2_arr.append(ce.crack_tip_orientation.get_psi())#bu.InteractiveWindow(ce).interact()"
   ]
  },
  {
   "cell_type": "code",
   "execution_count": 10,
   "metadata": {
    "pycharm": {
     "name": "#%%\n"
    }
   },
   "outputs": [
    {
     "name": "stdout",
     "output_type": "stream",
     "text": [
      "[nan, nan, 0.8029311792541587, 0.8070451050730643, 0.8176693498680648, 0.7132674450799619, 0.6459703687484943, 0.4548381565644998, 0.29565068077655515, 0.30837578807015453]\n"
     ]
    }
   ],
   "source": [
    "print(psi2_arr)\n"
   ]
  },
  {
   "cell_type": "code",
   "execution_count": null,
   "metadata": {
    "pycharm": {
     "name": "#%%\n"
    }
   },
   "outputs": [],
   "source": []
  }
 ],
 "metadata": {
  "kernelspec": {
   "display_name": "PyCharm (bmcs_shear_zone)",
   "language": "python",
   "name": "pycharm-b2a3785d"
  },
  "language_info": {
   "codemirror_mode": {
    "name": "ipython",
    "version": 3
   },
   "file_extension": ".py",
   "mimetype": "text/x-python",
   "name": "python",
   "nbconvert_exporter": "python",
   "pygments_lexer": "ipython3",
   "version": "3.7.6"
  },
  "toc": {
   "base_numbering": 1,
   "nav_menu": {},
   "number_sections": true,
   "sideBar": true,
   "skip_h1_title": false,
   "title_cell": "Table of Contents",
   "title_sidebar": "Contents",
   "toc_cell": false,
   "toc_position": {
    "height": "calc(100% - 180px)",
    "left": "10px",
    "top": "150px",
    "width": "165px"
   },
   "toc_section_display": true,
   "toc_window_display": true
  }
 },
 "nbformat": 4,
 "nbformat_minor": 1
}
