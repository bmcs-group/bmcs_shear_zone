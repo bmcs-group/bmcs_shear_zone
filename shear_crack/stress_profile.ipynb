{
 "cells": [
  {
   "cell_type": "code",
   "execution_count": 1,
   "metadata": {},
   "outputs": [],
   "source": [
    "%matplotlib widget\n",
    "\n",
    "from bmcs_shear_zone.shear_crack.crack_tip_rotation import SZCrackTipRotation\n",
    "from bmcs_shear_zone.shear_crack.beam_design import RCBeamDesign\n",
    "from bmcs_shear_zone.shear_crack.crack_path import SZCrackPath\n",
    "from bmcs_shear_zone.shear_crack.deformed_state import SZDeformedState\n",
    "from bmcs_shear_zone.shear_crack.stress_profile import SZStressProfile\n",
    "from bmcs_utils.api import InteractiveWindow"
   ]
  },
  {
   "cell_type": "code",
   "execution_count": 2,
   "metadata": {
    "pycharm": {
     "name": "#%%\n"
    }
   },
   "outputs": [
    {
     "data": {
      "text/plain": [
       "(array([-159729.56884144,     916.75894779]), 140.0, 6153408.317734264)"
      ]
     },
     "execution_count": 2,
     "metadata": {},
     "output_type": "execute_result"
    }
   ],
   "source": [
    "ctr = SZCrackTipRotation(L_fps=20, w=10)\n",
    "cp = SZCrackPath(sz_ctr=ctr, x_00=400)\n",
    "sz_sp = SZStressProfile(sz_cp=cp)\n",
    "cp.add_x_tip_an([400 ,50])\n",
    "cp.add_x_tip_an([300 ,80])\n",
    "sz_sp.F_a, sz_sp.ds.sz_ctr.x_rot_1k, sz_sp.M"
   ]
  },
  {
   "cell_type": "code",
   "execution_count": 3,
   "metadata": {
    "pycharm": {
     "name": "#%%\n"
    }
   },
   "outputs": [
    {
     "data": {
      "text/plain": [
       "array(0.86204366)"
      ]
     },
     "execution_count": 3,
     "metadata": {},
     "output_type": "execute_result"
    }
   ],
   "source": [
    "sz_sp.sig_x_tip_0k"
   ]
  },
  {
   "cell_type": "code",
   "execution_count": 4,
   "metadata": {},
   "outputs": [
    {
     "name": "stdout",
     "output_type": "stream",
     "text": [
      "30.710806470954253 [-159729.56884144     916.75894779]\n",
      "xxxxxxxxx\n",
      "31.071218476077775 [-97391.88068912   4767.97753078]\n",
      "xxxxxxxxx\n",
      "31.336991346691917 [-36464.06730744   7922.46569774]\n"
     ]
    }
   ],
   "source": [
    "print(sz_sp.u_La[0,0], sz_sp.F_a)\n",
    "sz_sp.ds.sz_ctr.x_rot_1k +=20\n",
    "print('xxxxxxxxx')\n",
    "print(sz_sp.u_La[0,0], sz_sp.F_a)\n",
    "sz_sp.ds.sz_ctr.x_rot_1k +=20\n",
    "print('xxxxxxxxx')\n",
    "print(sz_sp.u_La[0,0], sz_sp.F_a)"
   ]
  },
  {
   "cell_type": "code",
   "execution_count": 5,
   "metadata": {
    "pycharm": {
     "name": "#%%\n"
    }
   },
   "outputs": [
    {
     "data": {
      "application/vnd.jupyter.widget-view+json": {
       "model_id": "f5baf8b87e14402e856389fc23d712d9",
       "version_major": 2,
       "version_minor": 0
      },
      "text/plain": [
       "VBox(children=(Output(), Tab(children=(GridBox(layout=Layout(grid_template_columns='1fr 1fr')), GridBox(layout…"
      ]
     },
     "metadata": {},
     "output_type": "display_data"
    },
    {
     "data": {
      "text/plain": [
       "(array([-36464.06730744,   7922.46569774]), 1764225.3869451787)"
      ]
     },
     "execution_count": 5,
     "metadata": {},
     "output_type": "execute_result"
    }
   ],
   "source": [
    "ipw_plate = InteractiveWindow(\n",
    "    [sz_sp, sz_sp.ds, sz_sp.ds.sz_geo, sz_sp.ds.sz_geo.cmm, sz_sp.ds.sz_ctr], figsize=(9 ,4)\n",
    ")\n",
    "ipw_plate.interact()\n",
    "sz_sp.F_a, sz_sp.M"
   ]
  },
  {
   "cell_type": "code",
   "execution_count": null,
   "metadata": {
    "pycharm": {
     "name": "#%%\n"
    }
   },
   "outputs": [],
   "source": []
  },
  {
   "cell_type": "code",
   "execution_count": null,
   "metadata": {},
   "outputs": [],
   "source": []
  }
 ],
 "metadata": {
  "kernelspec": {
   "display_name": "PyCharm (bmcs_shear_zone)",
   "language": "python",
   "name": "pycharm-b2a3785d"
  },
  "language_info": {
   "codemirror_mode": {
    "name": "ipython",
    "version": 3
   },
   "file_extension": ".py",
   "mimetype": "text/x-python",
   "name": "python",
   "nbconvert_exporter": "python",
   "pygments_lexer": "ipython3",
   "version": "3.7.6"
  },
  "toc": {
   "base_numbering": 1,
   "nav_menu": {},
   "number_sections": true,
   "sideBar": true,
   "skip_h1_title": false,
   "title_cell": "Table of Contents",
   "title_sidebar": "Contents",
   "toc_cell": false,
   "toc_position": {
    "height": "calc(100% - 180px)",
    "left": "10px",
    "top": "150px",
    "width": "165px"
   },
   "toc_section_display": true,
   "toc_window_display": true
  }
 },
 "nbformat": 4,
 "nbformat_minor": 1
}
