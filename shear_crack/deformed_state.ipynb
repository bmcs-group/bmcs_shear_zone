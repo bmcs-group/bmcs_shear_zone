{
 "cells": [
  {
   "cell_type": "code",
   "execution_count": 1,
   "metadata": {},
   "outputs": [
    {
     "name": "stdout",
     "output_type": "stream",
     "text": [
      "L_fps-init 50\n",
      "cp - INC - reset\n",
      "cp - GEO - reset\n",
      "cp - INC - reset\n",
      "cp - INC - reset\n",
      "L_fps-init 50\n",
      "cp - INC - reset\n",
      "cp - INC - reset\n",
      "cp - INC - reset\n",
      "cp - INC - reset\n"
     ]
    },
    {
     "data": {
      "application/vnd.jupyter.widget-view+json": {
       "model_id": "da0a62e412a7433bbd16e1fc839c0e38",
       "version_major": 2,
       "version_minor": 0
      },
      "text/plain": [
       "VBox(children=(Output(), Tab(children=(GridBox(layout=Layout(grid_template_columns='1fr 1fr')), GridBox(childr…"
      ]
     },
     "metadata": {},
     "output_type": "display_data"
    },
    {
     "name": "stdout",
     "output_type": "stream",
     "text": [
      "bd - MAT - reset\n",
      "L_fps-set 50\n",
      "cp - INC - reset\n",
      "cp - INC - reset\n",
      "cp - MAT - reset\n",
      "cp - GEO - reset\n",
      "cp - INC - reset\n"
     ]
    }
   ],
   "source": [
    "%matplotlib widget\n",
    "\n",
    "from bmcs_shear_zone.shear_crack.crack_tip_rotation import SZCrackTipRotation\n",
    "from bmcs_shear_zone.shear_crack.beam_design import RCBeamDesign\n",
    "from bmcs_shear_zone.shear_crack.crack_path import SZCrackPath\n",
    "from bmcs_shear_zone.shear_crack.deformed_state import SZDeformedState\n",
    "from bmcs_utils.api import InteractiveWindow\n",
    "# In[71]:\n",
    "\n",
    "\n",
    "ctr = SZCrackTipRotation(w=1)\n",
    "cp = SZCrackPath(sz_ctr=ctr, x_00=500)\n",
    "sz_ds = SZDeformedState(sz_cp=cp)\n",
    "cp.add_x_tip_an([480 ,80])\n",
    "cp.add_x_tip_an([400 ,120])\n",
    "\n",
    "ipw_plate = InteractiveWindow(\n",
    "    [sz_ds, sz_ds.sz_cp, sz_ds.sz_bd, sz_ds.sz_bd.cmm, sz_ds.sz_ctr], figsize=(8 ,4)\n",
    ")\n",
    "\n",
    "ipw_plate.interact()"
   ]
  },
  {
   "cell_type": "code",
   "execution_count": null,
   "metadata": {},
   "outputs": [],
   "source": []
  }
 ],
 "metadata": {
  "kernelspec": {
   "display_name": "Python 3",
   "language": "python",
   "name": "python3"
  },
  "language_info": {
   "codemirror_mode": {
    "name": "ipython",
    "version": 3
   },
   "file_extension": ".py",
   "mimetype": "text/x-python",
   "name": "python",
   "nbconvert_exporter": "python",
   "pygments_lexer": "ipython3",
   "version": "3.7.6"
  },
  "toc": {
   "base_numbering": 1,
   "nav_menu": {},
   "number_sections": true,
   "sideBar": true,
   "skip_h1_title": false,
   "title_cell": "Table of Contents",
   "title_sidebar": "Contents",
   "toc_cell": false,
   "toc_position": {},
   "toc_section_display": true,
   "toc_window_display": false
  }
 },
 "nbformat": 4,
 "nbformat_minor": 1
}
