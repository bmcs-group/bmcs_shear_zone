{
 "cells": [
  {
   "cell_type": "code",
   "execution_count": null,
   "metadata": {},
   "outputs": [],
   "source": [
    "%matplotlib widget\n",
    "import ibvpy.api as ib\n",
    "import matplotlib.pylab as plt\n",
    "from matplotlib import cm\n",
    "from bmcs_shear.dic_crack import\\\n",
    "    DICGrid, DICInpUnstructuredPoints, DICStateFields, DICAlignedGrid\n",
    "from bmcs_shear.dic_crack.dic_crack_list import DICCrackList\n",
    "import numpy as np\n",
    "np.seterr(divide ='ignore', invalid='ignore');\n",
    "from bmcs_shear.dic_crack import sz_tests_series_2023"
   ]
  },
  {
   "cell_type": "code",
   "execution_count": null,
   "metadata": {},
   "outputs": [],
   "source": [
    "from cgitb import small\n",
    "\n",
    "\n",
    "def validate_crack_tips(X_Ca, h_x):\n",
    "    # Calculate the distances between neighboring points\n",
    "    x_C, y_C = X_Ca.T\n",
    "    dists = np.diff(x_C)\n",
    "\n",
    "    # \n",
    "    if not np.all(dists > 0):\n",
    "        raise ValueError(\"The horizontal positions of cracks\" + \n",
    "                         \"must be monotonically increasing.\")\n",
    "\n",
    "    return X_Ca"
   ]
  },
  {
   "cell_type": "code",
   "execution_count": null,
   "metadata": {},
   "outputs": [],
   "source": [
    "test = sz_tests_series_2023.B10_TV1\n",
    "dcl = sz_tests_series_2023.new_dcl(test)"
   ]
  },
  {
   "cell_type": "code",
   "execution_count": null,
   "metadata": {},
   "outputs": [],
   "source": [
    "dcl.dsf.dic_grid.t = 0.8\n",
    "X_tip_t_Ca = dcl.X_tip_t_Ca"
   ]
  },
  {
   "cell_type": "code",
   "execution_count": null,
   "metadata": {},
   "outputs": [],
   "source": [
    "x_range, y_range = X_tip_t_Ca.T\n",
    "x_0, y_0, x_1, y_1 = dcl.dsf.dic_grid.X_frame\n",
    "y_range"
   ]
  },
  {
   "cell_type": "code",
   "execution_count": null,
   "metadata": {},
   "outputs": [],
   "source": [
    "x_0_range = np.hstack([[x_0], x_range, [x_1]])\n",
    "y_0_range = np.hstack([y_range[:1], y_range, y_range[-1:]])\n",
    "x_1_range = np.copy(x_0_range)\n",
    "y_1_range = np.ones_like(x_1_range) * y_1\n",
    "y_0_range"
   ]
  },
  {
   "cell_type": "code",
   "execution_count": null,
   "metadata": {},
   "outputs": [],
   "source": [
    "fig, ax = plt.subplots(1,1,figsize=(10,3))\n",
    "ax.scatter(x_0_range, y_0_range)\n",
    "ax.scatter(x_1_range, y_1_range)\n",
    "ax.set_aspect('equal')"
   ]
  },
  {
   "cell_type": "code",
   "execution_count": null,
   "metadata": {},
   "outputs": [],
   "source": [
    "import ibvpy.api as ib"
   ]
  },
  {
   "cell_type": "code",
   "execution_count": null,
   "metadata": {},
   "outputs": [],
   "source": [
    "n_E, n_F = x_0_range.size, 1\n",
    "xmodel = ib.XDomainFEGrid(coord_min=(x_0, x_1), coord_max=(y_0, y_1),\n",
    "                 integ_factor=1, shape=(n_E, n_F),  # number of elements!\n",
    "                 fets=ib.FETS2D4Q());"
   ]
  },
  {
   "cell_type": "code",
   "execution_count": null,
   "metadata": {},
   "outputs": [],
   "source": [
    "xmodel.mesh.n_grid_elems"
   ]
  },
  {
   "cell_type": "code",
   "execution_count": null,
   "metadata": {},
   "outputs": [],
   "source": []
  }
 ],
 "metadata": {
  "kernelspec": {
   "display_name": "bmcs_env2",
   "language": "python",
   "name": "bmcs_env2"
  },
  "language_info": {
   "codemirror_mode": {
    "name": "ipython",
    "version": 3
   },
   "file_extension": ".py",
   "mimetype": "text/x-python",
   "name": "python",
   "nbconvert_exporter": "python",
   "pygments_lexer": "ipython3"
  }
 },
 "nbformat": 4,
 "nbformat_minor": 2
}
