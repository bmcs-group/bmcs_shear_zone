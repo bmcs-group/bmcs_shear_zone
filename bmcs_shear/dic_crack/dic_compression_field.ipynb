{
 "cells": [
  {
   "cell_type": "code",
   "execution_count": null,
   "metadata": {},
   "outputs": [],
   "source": [
    "%matplotlib widget\n",
    "import ibvpy.api as ib\n",
    "import matplotlib.pylab as plt\n",
    "from matplotlib import cm\n",
    "from bmcs_shear.dic_crack import\\\n",
    "    DICGrid, DICInpUnstructuredPoints, DICStateFields, DICAlignedGrid\n",
    "from bmcs_shear.dic_crack.dic_crack_list import DICCrackList\n",
    "import numpy as np\n",
    "np.seterr(divide ='ignore', invalid='ignore');\n",
    "from bmcs_shear.dic_crack import sz_tests_series_2023"
   ]
  },
  {
   "cell_type": "code",
   "execution_count": null,
   "metadata": {},
   "outputs": [],
   "source": [
    "from cgitb import small\n",
    "\n",
    "\n",
    "def validate_crack_tips(X_Ca, h_x):\n",
    "    # Calculate the distances between neighboring points\n",
    "    x_C, y_C = X_Ca.T\n",
    "    dists = np.diff(x_C)\n",
    "\n",
    "    # \n",
    "    if not np.all(dists > 0):\n",
    "        raise ValueError(\"The horizontal positions of cracks\" + \n",
    "                         \"must be monotonically increasing.\")\n",
    "\n",
    "    return X_Ca"
   ]
  },
  {
   "cell_type": "code",
   "execution_count": null,
   "metadata": {},
   "outputs": [],
   "source": [
    "test = sz_tests_series_2023.B9_TV1\n",
    "dcl = sz_tests_series_2023.new_dcl(test)"
   ]
  },
  {
   "cell_type": "code",
   "execution_count": null,
   "metadata": {},
   "outputs": [],
   "source": [
    "dcl.dsf.dic_grid.t = 0.15\n",
    "X_tip_t_Ca = dcl.X_tip_t_Ca"
   ]
  },
  {
   "cell_type": "code",
   "execution_count": null,
   "metadata": {},
   "outputs": [],
   "source": [
    "x_range, y_range = X_tip_t_Ca.T\n",
    "x_0, y_0, x_1, y_1 = dcl.dsf.dic_grid.X_frame\n",
    "y_range"
   ]
  },
  {
   "cell_type": "code",
   "execution_count": null,
   "metadata": {},
   "outputs": [],
   "source": [
    "x_0_range = np.hstack([[x_0], x_range, [x_1]])\n",
    "y_0_range = np.hstack([y_range[:1], y_range, y_range[-1:]])\n",
    "x_1_range = np.copy(x_0_range)\n",
    "y_1_range = np.ones_like(x_1_range) * y_1\n",
    "y_0_range"
   ]
  },
  {
   "cell_type": "code",
   "execution_count": null,
   "metadata": {},
   "outputs": [],
   "source": [
    "fig, ax = plt.subplots(1,1,figsize=(10,3))\n",
    "ax.scatter(x_0_range, y_0_range)\n",
    "ax.scatter(x_1_range, y_1_range)\n",
    "ax.set_aspect('equal')"
   ]
  },
  {
   "cell_type": "code",
   "execution_count": null,
   "metadata": {},
   "outputs": [],
   "source": [
    "import ibvpy.api as ib"
   ]
  },
  {
   "cell_type": "code",
   "execution_count": null,
   "metadata": {},
   "outputs": [],
   "source": [
    "n_E, n_F = x_0_range.size, 1\n",
    "xmodel = ib.XDomainFEGrid(coord_min=(x_0, x_1), coord_max=(y_0, y_1),\n",
    "                 integ_factor=1, shape=(n_E, n_F),  # number of elements!\n",
    "                 fets=ib.FETS2D4Q());"
   ]
  },
  {
   "cell_type": "code",
   "execution_count": null,
   "metadata": {},
   "outputs": [],
   "source": [
    "xmodel.mesh.n_grid_elems"
   ]
  },
  {
   "cell_type": "code",
   "execution_count": null,
   "metadata": {},
   "outputs": [],
   "source": [
    "x_IJ, y_IJ = np.einsum('IJa->aIJ', dcl.dsf.dic_grid.X_IJa)\n",
    "n_T, n_I, n_J = dcl.dsf.dic_grid.n_T, dcl.dsf.dic_grid.n_I, dcl.dsf.dic_grid.n_J"
   ]
  },
  {
   "cell_type": "code",
   "execution_count": null,
   "metadata": {},
   "outputs": [],
   "source": [
    "U_IJa = dcl.dsf.dic_grid.U_IJa\n",
    "\n",
    "# Set spacing in x and y directions\n",
    "dx = x_IJ[1,0]-x_IJ[0,0]\n",
    "dy = y_IJ[0,1]-y_IJ[0,0]\n",
    "\n",
    "# Compute the gradients\n",
    "gradient_x = np.gradient(U_IJa, dx, edge_order=2, axis=0)  # Gradient with respect to x\n",
    "gradient_y = np.gradient(U_IJa, dy, edge_order=2, axis=1)  # Gradient with respect to y\n",
    "\n",
    "# Now we have the gradients of the displacement field with respect to x and y.\n",
    "# We can compute the tensor F as follows:\n",
    "F_IJab = np.empty((n_I, n_J, 2, 2))\n",
    "\n",
    "F_IJab[..., 0, 0] = gradient_x[..., 0]\n",
    "F_IJab[..., 0, 1] = gradient_y[..., 0]\n",
    "F_IJab[..., 1, 0] = gradient_x[..., 1]\n",
    "F_IJab[..., 1, 1] = gradient_y[..., 1]\n",
    "\n",
    "# Compute the strain tensor using numpy.einsum\n",
    "eps_IJab = 0.5 * (F_IJab + np.einsum('...ij->...ji', F_IJab))"
   ]
  },
  {
   "cell_type": "code",
   "execution_count": null,
   "metadata": {},
   "outputs": [],
   "source": [
    "U_TIJa = dcl.dsf.dic_grid.U_TIJa\n",
    "\n",
    "# Set spacing in x and y directions\n",
    "dx = x_IJ[1,0]-x_IJ[0,0]\n",
    "dy = y_IJ[0,1]-y_IJ[0,0]\n",
    "\n",
    "# Compute the gradients\n",
    "gradient_x = np.gradient(U_TIJa, dx, edge_order=2, axis=1)  # Gradient with respect to x\n",
    "gradient_y = np.gradient(U_TIJa, dy, edge_order=2, axis=2)  # Gradient with respect to y"
   ]
  },
  {
   "cell_type": "code",
   "execution_count": null,
   "metadata": {},
   "outputs": [],
   "source": [
    "# Now we have the gradients of the displacement field with respect to x and y.\n",
    "# We can compute the tensor F as follows:\n",
    "F_TIJab = np.empty((n_T, n_I, n_J, 2, 2))\n",
    "\n",
    "F_TIJab[..., 0, 0] = gradient_x[..., 0]\n",
    "F_TIJab[..., 0, 1] = gradient_y[..., 0]\n",
    "F_TIJab[..., 1, 0] = gradient_x[..., 1]\n",
    "F_TIJab[..., 1, 1] = gradient_y[..., 1]\n",
    "\n",
    "# Compute the strain tensor using numpy.einsum\n",
    "eps_TIJab = 0.5 * (F_TIJab + np.einsum('...ij->...ji', F_TIJab))"
   ]
  },
  {
   "cell_type": "code",
   "execution_count": null,
   "metadata": {},
   "outputs": [],
   "source": [
    "x_MN, y_MN = dcl.dsf.xy_MN\n",
    "#eps_MNab = dcl.dsf.get_z_MN_ironed(x_IJ, y_IJ, eps_TIJab[-1], 15, x_MN, y_MN)\n",
    "eps_MNab = dcl.dsf.get_z_MN_ironed(x_IJ, y_IJ, eps_IJab, 15, x_MN, y_MN)"
   ]
  },
  {
   "cell_type": "code",
   "execution_count": null,
   "metadata": {},
   "outputs": [],
   "source": [
    "import matplotlib.pyplot as plt\n",
    "import numpy as np\n",
    "from matplotlib.colors import Normalize\n",
    "from matplotlib.colorbar import ColorbarBase\n",
    "\n",
    "def plot_eps_field(x_, y_, eps_):\n",
    "\n",
    "    fig, ax = plt.subplots(figsize=(10,4))\n",
    "\n",
    "    pos = np.ma.masked_less(eps_, 0)\n",
    "    neg = np.ma.masked_greater(eps_, 0)\n",
    "\n",
    "    cmap_pos = plt.cm.Reds\n",
    "    cmap_neg = plt.cm.Blues_r\n",
    "\n",
    "    levels_pos = np.linspace(0, pos.max(), 10)\n",
    "    levels_neg = np.linspace(neg.min(), 0, 10)\n",
    "\n",
    "    cf_pos = ax.contourf(x_, y_, pos, levels_pos, cmap=cmap_pos)\n",
    "    cf_neg = ax.contourf(x_, y_, neg, levels_neg, cmap=cmap_neg)\n",
    "\n",
    "    cax_neg = fig.add_axes([0.1, 0.1, 0.4, 0.05])\n",
    "    cax_pos = fig.add_axes([0.5, 0.1, 0.4, 0.05])\n",
    "\n",
    "    ColorbarBase(cax_pos, cmap=cmap_pos, norm=Normalize(vmin=0, vmax=pos.max()), orientation='horizontal')\n",
    "    ColorbarBase(cax_neg, cmap=cmap_neg, norm=Normalize(vmin=neg.min(), vmax=0), orientation='horizontal')\n",
    "\n",
    "    levels = [0]\n",
    "    fmt = {0: '0'}\n",
    "    cs = ax.contour(x_, y_, eps_, levels, linewidths=1, colors='k')\n",
    "    ax.clabel(cs, fmt=fmt, inline=1)\n",
    "    ax.set_aspect('equal')\n"
   ]
  },
  {
   "cell_type": "code",
   "execution_count": null,
   "metadata": {},
   "outputs": [],
   "source": [
    "fig, ax = plt.subplots(1,1,figsize=(8,3))\n",
    "fig.canvas.header_visible=False\n",
    "y_J = y_IJ[0, :]\n",
    "eps_meso_IJab = eps_IJab[0, :, 0, 0]\n",
    "#eps_meso_IJab = eps_TIJab[-1, 0, :, 0, 0]\n",
    "ax.plot(eps_meso_IJab, y_J, 'o-');\n",
    "y_M = y_MN[0, :]\n",
    "eps_macro_IJab = eps_MNab[0, :, 0, 0]\n",
    "ax.plot(eps_macro_IJab, y_M, 'o-');"
   ]
  },
  {
   "cell_type": "code",
   "execution_count": null,
   "metadata": {},
   "outputs": [],
   "source": [
    "eps_IJa, _ = np.linalg.eig(eps_IJab)\n",
    "eps_indices = np.argmax(np.fabs(eps_IJa), axis=-1)\n",
    "minmax_eps_IJ = np.take_along_axis(eps_IJa, eps_indices[..., np.newaxis], axis=-1).squeeze(axis=-1)\n",
    "plot_eps_field(x_IJ, y_IJ, minmax_eps_IJ)"
   ]
  },
  {
   "cell_type": "code",
   "execution_count": null,
   "metadata": {},
   "outputs": [],
   "source": [
    "\n",
    "eps_MNa, V_eps_MNab = np.linalg.eig(eps_MNab)\n",
    "eps_indices = np.argmax(np.fabs(eps_MNa), axis=-1)\n",
    "minmax_eps_MN = np.take_along_axis(eps_MNa, eps_indices[..., np.newaxis], axis=-1).squeeze(axis=-1)\n",
    "#plot_eps_field(x_MN, y_MN, minmax_eps_MN)\n",
    "plot_eps_field(x_MN, y_MN, eps_MNab[...,0,0])"
   ]
  },
  {
   "cell_type": "code",
   "execution_count": null,
   "metadata": {},
   "outputs": [],
   "source": [
    "V_eps_MNa = np.take_along_axis(V_eps_MNab, eps_indices[..., np.newaxis, np.newaxis], axis=-2).squeeze(axis=-2)\n",
    "u_eps_MNa, v_eps_MNa = np.einsum('MNa->aMN', V_eps_MNa)\n",
    "fig, ax = plt.subplots()\n",
    "scale = 0.05\n",
    "ax.quiver(x_MN, y_MN, u_eps_MNa, v_eps_MNa, angles='xy', scale_units='xy', scale=scale)\n",
    "ax.quiver(x_MN, y_MN, -u_eps_MNa, -v_eps_MNa, angles='xy', scale_units='xy', scale=scale)\n",
    "ax.set_aspect('equal')"
   ]
  },
  {
   "cell_type": "code",
   "execution_count": null,
   "metadata": {},
   "outputs": [],
   "source": [
    "fig, ax = plt.subplots()\n",
    "scale = 0.05\n",
    "U_eps_MNa, V_eps_MNa = np.einsum('MNab->bMNa', V_eps_MNab)\n",
    "u_eps_MN, v_eps_MN = np.einsum('MNa->aMN', U_eps_MNa)\n",
    "ax.quiver(x_MN, y_MN, u_eps_MN, v_eps_MN, angles='xy', scale_units='xy', scale=scale)\n",
    "ax.quiver(x_MN, y_MN, -u_eps_MN, -v_eps_MN, angles='xy', scale_units='xy', scale=scale)\n",
    "\n",
    "u_eps_MN, v_eps_MN = np.einsum('MNa->aMN', V_eps_MNa)\n",
    "ax.quiver(x_MN, y_MN, u_eps_MN, v_eps_MN, angles='xy', scale_units='xy', scale=scale)\n",
    "ax.quiver(x_MN, y_MN, -u_eps_MN, -v_eps_MN, angles='xy', scale_units='xy', scale=scale)\n",
    "\n",
    "ax.set_aspect('equal')"
   ]
  },
  {
   "cell_type": "code",
   "execution_count": null,
   "metadata": {},
   "outputs": [],
   "source": []
  }
 ],
 "metadata": {
  "kernelspec": {
   "display_name": "bmcs_env2",
   "language": "python",
   "name": "bmcs_env2"
  },
  "language_info": {
   "codemirror_mode": {
    "name": "ipython",
    "version": 3
   },
   "file_extension": ".py",
   "mimetype": "text/x-python",
   "name": "python",
   "nbconvert_exporter": "python",
   "pygments_lexer": "ipython3"
  }
 },
 "nbformat": 4,
 "nbformat_minor": 2
}
