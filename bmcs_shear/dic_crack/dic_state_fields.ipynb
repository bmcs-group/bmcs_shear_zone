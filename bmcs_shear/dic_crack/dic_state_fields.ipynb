{
 "cells": [
  {
   "cell_type": "markdown",
   "id": "c99b23ab-fdec-41de-a12e-a7ec4712d7ca",
   "metadata": {
    "pycharm": {
     "name": "#%% md\n"
    }
   },
   "source": [
    "# **Tutorial for DICStateField model component**"
   ]
  },
  {
   "cell_type": "markdown",
   "id": "230a3a0e-7463-492b-b02d-1219f002da42",
   "metadata": {
    "pycharm": {
     "name": "#%% md\n"
    }
   },
   "source": [
    "DICStateField takes the displacement history as an input to the calculation of the \n",
    "strain, damage and state fields on an interpolated grid in the **load-space-time** databasis."
   ]
  },
  {
   "cell_type": "code",
   "execution_count": 16,
   "id": "2212c080-90f1-4691-9995-1e6b80afbccd",
   "metadata": {
    "pycharm": {
     "name": "#%%\n"
    }
   },
   "outputs": [],
   "source": [
    "%matplotlib widget\n",
    "import matplotlib.pylab as plt\n",
    "import numpy as np\n",
    "from bmcs_shear.api import DICGrid, DICStateFields"
   ]
  },
  {
   "cell_type": "markdown",
   "id": "eaabbf02-9b9f-438b-8e37-b3076396cea0",
   "metadata": {
    "pycharm": {
     "name": "#%% md\n"
    }
   },
   "source": [
    "The input to the simulation is the `DICGrid` instance providing the history of the displacement field for a grid of markers. "
   ]
  },
  {
   "cell_type": "code",
   "execution_count": 17,
   "id": "bc0f416f-c31d-4d59-a67a-1fa73fb80a02",
   "metadata": {
    "pycharm": {
     "name": "#%%\n"
    }
   },
   "outputs": [],
   "source": [
    "dic_grid = DICGrid(U_factor=100, dir_name='B7_TV1', t=1)\n",
    "dic_grid.read_beam_design()"
   ]
  },
  {
   "cell_type": "markdown",
   "id": "2a718843-f9d4-4c6e-b4ba-8c69149e10ec",
   "metadata": {},
   "source": [
    "An instance of the state field model component is constructed as"
   ]
  },
  {
   "cell_type": "code",
   "execution_count": 18,
   "id": "94ac1983-25a1-4e70-8d7d-b046c851c0d5",
   "metadata": {},
   "outputs": [],
   "source": [
    "dsf = DICStateFields(dic_grid=dic_grid)"
   ]
  },
  {
   "cell_type": "markdown",
   "id": "99769804-a5b7-48cb-b22a-b7a3c27652c9",
   "metadata": {
    "pycharm": {
     "name": "#%% md\n"
    }
   },
   "source": [
    "The displacement-driven simulation of the the damage evolution using an anisotropic damage model is started using the `eval` method"
   ]
  },
  {
   "cell_type": "code",
   "execution_count": 19,
   "id": "b9729ba4-9b24-4a00-9d94-fd95d84a3a60",
   "metadata": {},
   "outputs": [],
   "source": [
    "dsf.eval()"
   ]
  },
  {
   "cell_type": "markdown",
   "id": "6b9769d9-35af-4934-b977-32da61cba543",
   "metadata": {},
   "source": [
    "The calculated fields can then be rendered using the `interact` methods"
   ]
  },
  {
   "cell_type": "code",
   "execution_count": 20,
   "id": "85ccc18b-e1a5-4f1b-a8cf-23c1da3bb77c",
   "metadata": {},
   "outputs": [
    {
     "data": {
      "application/vnd.jupyter.widget-view+json": {
       "model_id": "06e5b52f0b7640738e9d266412db7e29",
       "version_major": 2,
       "version_minor": 0
      },
      "text/plain": [
       "VBox(children=(HBox(children=(VBox(children=(Tree(layout=Layout(align_items='stretch', border='solid 1px black…"
      ]
     },
     "metadata": {},
     "output_type": "display_data"
    }
   ],
   "source": [
    "dsf.interact()"
   ]
  },
  {
   "cell_type": "markdown",
   "id": "5dd69aec-aaf2-4c9a-87a8-1c0a5117b7c7",
   "metadata": {},
   "source": [
    "## Grid of finite element quadrature points"
   ]
  },
  {
   "cell_type": "markdown",
   "id": "4c6bdda7-92ff-45a5-be0c-f1a87f721497",
   "metadata": {},
   "source": [
    "The calculation of the strain, stress and damage fields using the finite elements returns the values at the quadrature points of the rectangles. The global positions of these points are available via the property attribute `X_fe_MNa`. As an example, the corner point coordinates can be accessed as"
   ]
  },
  {
   "cell_type": "code",
   "execution_count": 21,
   "id": "9c3285d8-4fb4-40cb-a422-6731e0644aba",
   "metadata": {},
   "outputs": [
    {
     "data": {
      "text/plain": [
       "array([[  16.64914704,   25.64914704],\n",
       "       [  16.64914704,  302.35085296],\n",
       "       [1261.35085296,   25.64914704],\n",
       "       [1261.35085296,  302.35085296]])"
      ]
     },
     "execution_count": 21,
     "metadata": {},
     "output_type": "execute_result"
    }
   ],
   "source": [
    "dsf.X_fe_MNa[(0, 0, -1, -1),(0, -1, 0, -1), :]"
   ]
  },
  {
   "cell_type": "markdown",
   "id": "62d9555c-3a58-4d92-b9d8-20dbfe5c198a",
   "metadata": {},
   "source": [
    "Note that the grid `X_fe_MNa` has irregular spacing given by the optimal positioning of the quadrature points within the bilinear finite elements. This can be seen by slicing the first four markers along the first horizontal row $J=0$ and printing the $x$ coordinate $a=0$"
   ]
  },
  {
   "cell_type": "code",
   "execution_count": 22,
   "id": "2d9a4fbf-7e7f-4120-b824-81d863c0af2b",
   "metadata": {},
   "outputs": [
    {
     "data": {
      "text/plain": [
       "array([16.64914704, 29.35085296, 38.64914704, 51.35085296])"
      ]
     },
     "execution_count": 22,
     "metadata": {},
     "output_type": "execute_result"
    }
   ],
   "source": [
    "dsf.X_fe_MNa[:4, 0, 0]"
   ]
  },
  {
   "cell_type": "markdown",
   "id": "2cd1b6ec-33a8-4561-9954-7df23c34b291",
   "metadata": {},
   "source": [
    "A regular interpolation grid is provided within the frame covered by $X_{MNa}$ as $X^\\mathrm{ipl}_{MNa}$. The same slice along the four markers of the bottom row renders positions with constant spacing as "
   ]
  },
  {
   "cell_type": "code",
   "execution_count": 23,
   "id": "28f4bbf1-8d91-43a2-99b3-fee1ee65cfbb",
   "metadata": {},
   "outputs": [
    {
     "data": {
      "text/plain": [
       "array([16.64914704, 27.47264013, 38.29613323, 49.11962632])"
      ]
     },
     "execution_count": 23,
     "metadata": {},
     "output_type": "execute_result"
    }
   ],
   "source": [
    "dsf.X_ipl_MNa[:4, 0, 0]"
   ]
  },
  {
   "cell_type": "markdown",
   "id": "dd173ff7-8461-44c4-8088-4f5e908e2282",
   "metadata": {},
   "source": [
    "## Strain field"
   ]
  },
  {
   "cell_type": "markdown",
   "id": "705ca7fa-a0be-4d7d-a255-f66d88de3336",
   "metadata": {
    "pycharm": {
     "name": "#%%\n"
    }
   },
   "source": [
    "The strain field at ultimate load arranged in correspondence to the $M, N$ grid is obtained using the `eps_fields` property, which delivers a tuple with the fields\n",
    " - `eps_Emab` - strain tensor $\\varepsilon_{ab}$ with with $a,b \\in (0,1,2)$ iin each quadrature point $m \\in (0, 1, 2, 3)$ of an element $E \\in (0, n_E)$ \n",
    " - `eps_MNab` - strain tensor $\\varepsilon_{ab}$ with with $a,b \\in (0,1,2)$ iin each quadrature grid point with global horizontal index $M \\in n_M$ and vertical index $n_N$\n",
    " - `eps_MNa` - principal strain $\\varepsilon_a$ with $a \\in (0,1,2)$ in each quadrature grid point with global horizontal index $M \\in n_M$ and vertical index $n_N$\n",
    " - `max_eps_MN` - maximal strain in each quadrature grid point with global horizontal index $M \\in n_M$ and vertical index $n_N$"
   ]
  },
  {
   "cell_type": "code",
   "execution_count": 24,
   "id": "d9915973-46cb-4078-8b25-d76dd67f486e",
   "metadata": {},
   "outputs": [],
   "source": [
    "eps_Emab, eps_MNab, eps_MNa, max_eps_MN = dsf.eps_fe_fields"
   ]
  },
  {
   "cell_type": "markdown",
   "id": "18355781-2a42-4d5f-8c1d-deff97630982",
   "metadata": {},
   "source": [
    "The principal stresses in the corner points are obtained as"
   ]
  },
  {
   "cell_type": "code",
   "execution_count": 25,
   "id": "b55ffc05-2061-4b4e-ae6c-8030c90e3bb2",
   "metadata": {},
   "outputs": [
    {
     "data": {
      "text/plain": [
       "array([[-3.43199881e-04, -2.50283043e-04],\n",
       "       [-5.90662766e-04, -8.85815831e-05],\n",
       "       [ 3.45449734e-04,  6.62150083e-05],\n",
       "       [-2.20270959e-04,  3.00748522e-08]])"
      ]
     },
     "execution_count": 25,
     "metadata": {},
     "output_type": "execute_result"
    }
   ],
   "source": [
    "eps_MNa[(0, 0, -1, -1),(0, -1, 0, -1), :]"
   ]
  },
  {
   "cell_type": "markdown",
   "id": "6285bec3-4a07-45ce-9dcc-4b8f2e7e26a3",
   "metadata": {},
   "source": [
    "The maximum and minimum principal strain values are obtained using numpy.max method "
   ]
  },
  {
   "cell_type": "code",
   "execution_count": 26,
   "id": "8bb2919a-052c-47ab-b591-642bb20a92ca",
   "metadata": {},
   "outputs": [
    {
     "data": {
      "text/plain": [
       "(0.0349158315527906, -0.006383017336456406)"
      ]
     },
     "execution_count": 26,
     "metadata": {},
     "output_type": "execute_result"
    }
   ],
   "source": [
    "np.max(eps_MNa), np.min(eps_MNa)"
   ]
  },
  {
   "cell_type": "markdown",
   "id": "fc012a03-592b-40b9-989e-bc5bfa42c228",
   "metadata": {},
   "source": [
    "The history of strain tensor is accessible via the four dimensional array"
   ]
  },
  {
   "cell_type": "code",
   "execution_count": 27,
   "id": "b1aa22c4-2fd0-4106-9f93-d1277ec43dc2",
   "metadata": {},
   "outputs": [
    {
     "data": {
      "text/plain": [
       "array([[-3.11149976e-04,  4.41676289e-05],\n",
       "       [ 4.41676289e-05, -2.82332948e-04]])"
      ]
     },
     "execution_count": 27,
     "metadata": {},
     "output_type": "execute_result"
    }
   ],
   "source": [
    "dsf.eps_fe_TMNab[-1,0,0,:]"
   ]
  },
  {
   "cell_type": "markdown",
   "id": "bcc117e8-6da1-4ee4-8e30-54d859badabf",
   "metadata": {},
   "source": [
    "### Strain interpolator within the load-space domain"
   ]
  },
  {
   "cell_type": "markdown",
   "id": "0a236156-a78a-4bd5-8c2f-f892fb54852e",
   "metadata": {
    "pycharm": {
     "name": "#%% md\n"
    }
   },
   "source": [
    "To obtain the strain tensor at an arbitrary point of the load-space domain an interpolater over the data points provided for the indexes $T, M, N$ in load, horizontal and vertical dimensions named `f_eps_ipl_txy([t, x, y])` with $t \\in (0,1)$."
   ]
  },
  {
   "cell_type": "code",
   "execution_count": 28,
   "id": "414dcc2b-00a9-4722-919e-6d7b17da5a2f",
   "metadata": {
    "pycharm": {
     "name": "#%%\n"
    }
   },
   "outputs": [
    {
     "data": {
      "text/plain": [
       "array([[[-4.47210744e-04, -7.71511562e-05],\n",
       "        [-7.71511562e-05, -3.45282131e-04]]])"
      ]
     },
     "execution_count": 28,
     "metadata": {},
     "output_type": "execute_result"
    }
   ],
   "source": [
    "dsf.f_eps_fe_txy(np.array([0.3, 100, 30]))"
   ]
  },
  {
   "cell_type": "code",
   "execution_count": null,
   "id": "551e0c33-8d1b-405f-a409-fd59207d2859",
   "metadata": {
    "pycharm": {
     "name": "#%%\n"
    }
   },
   "outputs": [],
   "source": []
  },
  {
   "cell_type": "markdown",
   "id": "bf20ceaa-49ee-4f65-a791-1721c5506205",
   "metadata": {},
   "source": [
    "# Interpolators"
   ]
  },
  {
   "cell_type": "markdown",
   "id": "06f0f5b3-8608-4e29-b783-d071dc56e4d5",
   "metadata": {},
   "source": [
    "Interpolators are provided in form of properties\n",
    "- The interpolation of the displacements is done on the `DIC` grid with indexes denoted $I,J$.  \n",
    "- Interpolation of the strain, stress and damage fields is done on the `FE` quadrature grid $M, N$.\n",
    "- Interpolaters on a finer, interpolated regular grid `IPL` with indexes $M, N$."
   ]
  },
  {
   "cell_type": "code",
   "execution_count": null,
   "id": "b15c4a32-16d2-4c5d-be22-9607b988d29a",
   "metadata": {},
   "outputs": [],
   "source": []
  }
 ],
 "metadata": {
  "kernelspec": {
   "display_name": "bmcs_env",
   "language": "python",
   "name": "bmcs_env"
  },
  "language_info": {
   "codemirror_mode": {
    "name": "ipython",
    "version": 3
   },
   "file_extension": ".py",
   "mimetype": "text/x-python",
   "name": "python",
   "nbconvert_exporter": "python",
   "pygments_lexer": "ipython3",
   "version": "3.9.0"
  }
 },
 "nbformat": 4,
 "nbformat_minor": 5
}
