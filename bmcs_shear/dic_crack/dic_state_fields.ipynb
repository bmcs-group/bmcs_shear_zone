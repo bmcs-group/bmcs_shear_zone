{
 "cells": [
  {
   "cell_type": "markdown",
   "id": "c99b23ab-fdec-41de-a12e-a7ec4712d7ca",
   "metadata": {
    "pycharm": {
     "name": "#%% md\n"
    }
   },
   "source": [
    "# **Tutorial for DICStateField model component**"
   ]
  },
  {
   "cell_type": "markdown",
   "id": "230a3a0e-7463-492b-b02d-1219f002da42",
   "metadata": {
    "pycharm": {
     "name": "#%% md\n"
    }
   },
   "source": [
    "DICStateField takes the displacement history as an input to the calculation of the \n",
    "strain, damage and state fields on an interpolated grid in the **load-space-time** databasis."
   ]
  },
  {
   "cell_type": "code",
   "execution_count": null,
   "id": "2212c080-90f1-4691-9995-1e6b80afbccd",
   "metadata": {
    "pycharm": {
     "name": "#%%\n"
    }
   },
   "outputs": [],
   "source": [
    "%matplotlib widget\n",
    "import matplotlib.pylab as plt\n",
    "import numpy as np\n",
    "from bmcs_shear.api import DICGrid, DICInpUnstructuredPoints, DICStateFields\n",
    "import sz_tests_series_2023 as ts"
   ]
  },
  {
   "cell_type": "markdown",
   "id": "eaabbf02-9b9f-438b-8e37-b3076396cea0",
   "metadata": {
    "pycharm": {
     "name": "#%% md\n"
    }
   },
   "source": [
    "The input to the simulation is the `DICGrid` instance providing the history of the displacement field for a grid of markers. "
   ]
  },
  {
   "cell_type": "markdown",
   "id": "2a718843-f9d4-4c6e-b4ba-8c69149e10ec",
   "metadata": {
    "pycharm": {
     "name": "#%% md\n"
    }
   },
   "source": [
    "An instance of the state field model component is constructed as"
   ]
  },
  {
   "cell_type": "code",
   "execution_count": null,
   "id": "8cf3debd-176b-4004-81a8-f66e3c80004c",
   "metadata": {},
   "outputs": [],
   "source": [
    "dcl = ts.new_dcl(ts.B10_TV2)\n",
    "dsf = dcl.dsf"
   ]
  },
  {
   "cell_type": "code",
   "execution_count": null,
   "id": "9f921b4a",
   "metadata": {},
   "outputs": [],
   "source": [
    "fig, ax = plt.subplots(figsize=(9,3))\n",
    "dsf.dic_grid.t = 1.4\n",
    "dsf.plot_crack_detection_field(ax, fig)"
   ]
  },
  {
   "cell_type": "code",
   "execution_count": null,
   "id": "2597bfde",
   "metadata": {},
   "outputs": [],
   "source": [
    "dsf.R_MN, dsf.n_M, dsf.n_N, dsf.R, dsf.n_irn_M, dsf.n_irn_N"
   ]
  },
  {
   "cell_type": "code",
   "execution_count": null,
   "id": "00cf9fe7",
   "metadata": {},
   "outputs": [],
   "source": [
    "fig, ax = plt.subplots(figsize=(9,3))\n",
    "dsf.dic_grid.t = 1\n",
    "cax_neg = fig.add_axes([0.1, 0.1, 0.4, 0.05])\n",
    "cax_pos = fig.add_axes([0.5, 0.1, 0.4, 0.05])\n",
    "dsf.plot_eps_MNab(ax, cax_neg, cax_pos)"
   ]
  },
  {
   "cell_type": "markdown",
   "id": "99769804-a5b7-48cb-b22a-b7a3c27652c9",
   "metadata": {
    "pycharm": {
     "name": "#%% md\n"
    }
   },
   "source": [
    "The displacement-driven simulation of the the damage evolution using an anisotropic damage model is started using the `eval` method"
   ]
  },
  {
   "cell_type": "markdown",
   "id": "6b9769d9-35af-4934-b977-32da61cba543",
   "metadata": {
    "pycharm": {
     "name": "#%% md\n"
    }
   },
   "source": [
    "The calculated fields can then be rendered using the `interact` methods"
   ]
  },
  {
   "cell_type": "code",
   "execution_count": null,
   "id": "fa9bc249",
   "metadata": {},
   "outputs": [],
   "source": [
    "import numpy as np\n",
    "from scipy import signal\n",
    "\n",
    "def autocorr(x):\n",
    "    result = np.correlate(x, x, mode='full')\n",
    "    return result[result.size // 2:]\n",
    "\n",
    "def autocorr_length(x, x_mean):\n",
    "    ac = autocorr(x - x_mean)\n",
    "    # ac = autocorr(x - np.average(x))\n",
    "    ac = ac / np.max(ac)    # Normalize\n",
    "    return np.where(ac < 0)[0][0]\n",
    "\n",
    "def fit_eps_poly(x, eps):\n",
    "    # Fit a quadratic function to the data\n",
    "    n_coeffs = 7\n",
    "    coefficients = np.polyfit(x, eps, n_coeffs)\n",
    "\n",
    "    # You can create a function for the fitted line like this:\n",
    "    fitted_function = np.poly1d(coefficients)\n",
    "\n",
    "    # You can then use this function to calculate the fitted values\n",
    "    eps_fit = fitted_function(x)\n",
    "\n",
    "    return eps_fit"
   ]
  },
  {
   "cell_type": "code",
   "execution_count": null,
   "id": "7cfadf37",
   "metadata": {},
   "outputs": [],
   "source": [
    "fig, ax = plt.subplots(1,1,figsize=(12,4))\n",
    "X_L = dsf.X_IJa[:,-2,0]\n",
    "eps_L = dsf.eps_TIJab[-1,:,-2,0,0].T\n",
    "ax.plot(X_L, eps_L, color='blue')\n",
    "eps_glb_L = fit_eps_poly(X_L, eps_L)\n",
    "ax.plot(X_L, eps_glb_L, color='red')\n",
    "d_X = X_L[1] - X_L[0]\n",
    "corr_length = autocorr_length(eps_L, eps_glb_L) * d_X\n",
    "print(f'Estimated autocorrelation length: {corr_length:.1f} mm')"
   ]
  },
  {
   "cell_type": "code",
   "execution_count": null,
   "id": "f3771f46",
   "metadata": {},
   "outputs": [],
   "source": [
    "fig, ax = plt.subplots(1,1,figsize=(12,4))\n",
    "y_idx = -1\n",
    "X_L = dsf.X_IJa[:,y_idx,0]\n",
    "U_L = dsf.dic_grid.U_TIJa[-3,:,y_idx,0].T\n",
    "ax.plot(X_L, U_L, color='blue')\n",
    "U_glb_L = fit_eps_poly(X_L, U_L)\n",
    "ax.plot(X_L, U_glb_L, color='red')\n",
    "d_X = X_L[1] - X_L[0]\n",
    "corr_length = autocorr_length(U_L, U_glb_L) * d_X\n",
    "print(f'Estimated autocorrelation length: {corr_length:.1f} mm')"
   ]
  },
  {
   "cell_type": "code",
   "execution_count": null,
   "id": "17fbd56e",
   "metadata": {},
   "outputs": [],
   "source": [
    "x0, y0, x1, y1 = dsf.dic_grid.X_frame\n",
    "dsf.dic_grid.L_x / dsf.R / 5\n"
   ]
  },
  {
   "cell_type": "code",
   "execution_count": null,
   "id": "b6bcc0cf",
   "metadata": {},
   "outputs": [],
   "source": [
    "x_JK, y_JK = np.einsum('IJa->aIJ', dsf.dic_grid.X_IJa)\n",
    "x_MN, y_MN = np.einsum('MNa->aMN', dsf.X_ipl_MNa)\n",
    "U_JKa = dsf.dic_grid.U_IJa\n",
    "U_MNa = dsf.get_z_MN_ironed(x_JK, y_JK, U_JKa, 70, x_MN, y_MN)"
   ]
  },
  {
   "cell_type": "code",
   "execution_count": null,
   "id": "d98fe4f0",
   "metadata": {},
   "outputs": [],
   "source": [
    "U_MNa"
   ]
  },
  {
   "cell_type": "code",
   "execution_count": null,
   "id": "f44426a9",
   "metadata": {},
   "outputs": [],
   "source": [
    "dsf.dic_grid.t"
   ]
  },
  {
   "cell_type": "code",
   "execution_count": null,
   "id": "3856c8e5",
   "metadata": {},
   "outputs": [],
   "source": []
  },
  {
   "cell_type": "code",
   "execution_count": null,
   "id": "ba874387-e90f-4087-8666-6608805fc1a1",
   "metadata": {},
   "outputs": [],
   "source": [
    "np.max(max_eps_KL), np.average(max_eps_KL)"
   ]
  },
  {
   "cell_type": "code",
   "execution_count": null,
   "id": "11c2caca-f212-412e-b2c7-298214c881d0",
   "metadata": {},
   "outputs": [],
   "source": [
    "np.max(max_sig_KL), np.average(max_sig_KL)"
   ]
  },
  {
   "cell_type": "code",
   "execution_count": null,
   "id": "59ba47e8-c1bd-464f-a8f7-e14e9c2b0b87",
   "metadata": {
    "pycharm": {
     "name": "#%%\n"
    }
   },
   "outputs": [],
   "source": [
    "dsf.interact()"
   ]
  },
  {
   "cell_type": "code",
   "execution_count": null,
   "id": "78bc550c-5aba-41ab-ac52-4be360bf735e",
   "metadata": {},
   "outputs": [],
   "source": [
    "X0_a = np.array([40, 20])\n",
    "X1_a = np.array([600, 20])\n",
    "xi_p = np.linspace(0,1,500)\n",
    "dX_a = X1_a - X0_a"
   ]
  },
  {
   "cell_type": "code",
   "execution_count": null,
   "id": "fdf2342c-60f5-476e-8960-04a55215fb58",
   "metadata": {},
   "outputs": [],
   "source": [
    "X_pa = X0_a[np.newaxis, :] + dX_a[np.newaxis,:] * xi_p[:, np.newaxis]\n",
    "x_p, y_p = X_pa.T\n",
    "t_p = 1 * np.ones_like(x_p)"
   ]
  },
  {
   "cell_type": "code",
   "execution_count": null,
   "id": "ca8c6a81-9394-46c7-b79d-3ecfd9711b2e",
   "metadata": {},
   "outputs": [],
   "source": [
    "%matplotlib widget\n",
    "import matplotlib.pylab as plt\n",
    "fig, ax = plt.subplots(1,1)\n",
    "fig.canvas.header_visible = False\n",
    "u_0, u_1 = dsf.f_U_ipl_txy((t_p, x_p, y_p)).T\n",
    "ax.plot(xi_p, u_0)"
   ]
  },
  {
   "cell_type": "code",
   "execution_count": null,
   "id": "006feef8-a153-4241-990e-3b6285bf5c9c",
   "metadata": {},
   "outputs": [],
   "source": [
    "dsf.f_eps_fe_txy((0.5, 200, 200))"
   ]
  },
  {
   "cell_type": "code",
   "execution_count": null,
   "id": "2f16539d-5a7c-4c14-b037-8e169534fa03",
   "metadata": {},
   "outputs": [],
   "source": [
    "self = dsf\n",
    "t_TMN, X_TMN, Y_TMN = self.mgrid_ipl_TMN\n",
    "txy = np.c_[t_TMN.flatten(), X_TMN.flatten(), Y_TMN.flatten()]\n",
    "eps_ab_txy = self.f_eps_fe_txy(txy)\n",
    "eps_TMNab = eps_ab_txy.reshape(self.n_ipl_T, self.n_ipl_M, self.n_ipl_N, 2, 2)\n",
    "eps_TMNa, eps_ev_TMNab = np.linalg.eig(eps_TMNab)\n",
    "eps_ev_TMN0b = eps_ev_TMNab[...,0,:]"
   ]
  },
  {
   "cell_type": "code",
   "execution_count": null,
   "id": "44bdb8e9-385f-451e-9d13-c8c055c3e4ce",
   "metadata": {},
   "outputs": [],
   "source": [
    "self = dsf\n",
    "t_TMN, X_TMN, Y_TMN = self.mgrid_ipl_TMN\n",
    "txy = np.c_[t_TMN.flatten(), X_TMN.flatten(), Y_TMN.flatten()]\n",
    "kappa_txy = self.f_kappa_fe_txy(txy)\n",
    "kappa_TMN = kappa_txy.reshape(self.n_ipl_T, self.n_ipl_M, self.n_ipl_N)"
   ]
  },
  {
   "cell_type": "code",
   "execution_count": null,
   "id": "2d8b3b23-32be-4bc8-8444-5fab86fc6778",
   "metadata": {},
   "outputs": [],
   "source": [
    "%matplotlib widget\n",
    "fig, (ax, ax_eps, ax_kappa) = plt.subplots(3,1)\n",
    "x_MN, y_MN = np.einsum('...a->a...', dsf.X_ipl_MNa)\n",
    "T = -1\n",
    "eps_scale_TM = eps_TMNa[T,:,:,0]\n",
    "eps_ridge_TM = np.copy(eps_scale_TM)\n",
    "eps_cr = 0.0001\n",
    "eps_ridge_TM[np.where(eps_ridge_TM < eps_cr)] = 0\n",
    "max_eps_ridge = np.max(eps_ridge_TM)\n",
    "eps_ridge_TM /= max_eps_ridge\n",
    "ax_eps.contourf( x_MN, y_MN, eps_ridge_TM, cmap='BuPu')\n",
    "ax_eps.axis('equal')\n",
    "ax_eps.axis('off');\n",
    "contour_levels = np.linspace(0,1,10)\n",
    "ax.contourf( x_MN, y_MN, dsf.omega_irn_TMN[T], contour_levels, cmap='BuPu')\n",
    "#eps_scale[np.where(eps_scale > 0.003)] = 0\n",
    "eps_scale_TM[np.where(eps_scale_TM < eps_cr)] = 0\n",
    "eps_u_MN, eps_v_MN = np.einsum('...a->a...', eps_ev_TMN0b[T]) * eps_scale_TM\n",
    "ax.quiver( x_MN, y_MN, eps_u_MN, eps_v_MN, angles='xy', pivot='middle')\n",
    "ax.quiver( x_MN, y_MN, -eps_u_MN, -eps_v_MN, angles='xy', pivot='middle')\n",
    "ax.axis('equal')\n",
    "ax.axis('off');\n",
    "ax_kappa.contourf( x_MN, y_MN, kappa_TMN[T], levels=[0.002, 0.0022, 0.02, 0.05], cmap='BuPu')\n",
    "ax_kappa.axis('equal')\n",
    "ax_kappa.axis('off');\n"
   ]
  },
  {
   "cell_type": "markdown",
   "id": "5dd69aec-aaf2-4c9a-87a8-1c0a5117b7c7",
   "metadata": {
    "pycharm": {
     "name": "#%% md\n"
    }
   },
   "source": [
    "## Grid of finite element quadrature points"
   ]
  },
  {
   "cell_type": "markdown",
   "id": "4c6bdda7-92ff-45a5-be0c-f1a87f721497",
   "metadata": {
    "pycharm": {
     "name": "#%% md\n"
    }
   },
   "source": [
    "The calculation of the strain, stress and damage fields using the finite elements returns the values at the quadrature points of the rectangles. The global positions of these points are available via the property attribute `X_fe_KLa`. As an example, the corner point coordinates can be accessed as"
   ]
  },
  {
   "cell_type": "code",
   "execution_count": null,
   "id": "9c3285d8-4fb4-40cb-a422-6731e0644aba",
   "metadata": {
    "pycharm": {
     "name": "#%%\n"
    }
   },
   "outputs": [],
   "source": [
    "dsf.X_fe_KLa[(0, 0, -1, -1),(0, -1, 0, -1), :]"
   ]
  },
  {
   "cell_type": "markdown",
   "id": "62d9555c-3a58-4d92-b9d8-20dbfe5c198a",
   "metadata": {
    "pycharm": {
     "name": "#%% md\n"
    }
   },
   "source": [
    "Note that the grid `X_fe_KLa` has irregular spacing given by the optimal positioning of the quadrature points within the bilinear finite elements. This can be seen by slicing the first four markers along the first horizontal row $L=0$ and printing the $x$ coordinate $a=0$"
   ]
  },
  {
   "cell_type": "code",
   "execution_count": null,
   "id": "2d9a4fbf-7e7f-4120-b824-81d863c0af2b",
   "metadata": {
    "pycharm": {
     "name": "#%%\n"
    }
   },
   "outputs": [],
   "source": [
    "dsf.X_fe_KLa[:4, 0, 0]"
   ]
  },
  {
   "cell_type": "markdown",
   "id": "2cd1b6ec-33a8-4561-9954-7df23c34b291",
   "metadata": {
    "pycharm": {
     "name": "#%% md\n"
    }
   },
   "source": [
    "A regular interpolation grid is provided within the frame covered by $X^\\mathrm{fe}_{KLa}$ as $X^\\mathrm{ipl}_{MNa}$. The same slice along the four markers of the bottom row renders positions with constant spacing as "
   ]
  },
  {
   "cell_type": "code",
   "execution_count": null,
   "id": "28f4bbf1-8d91-43a2-99b3-fee1ee65cfbb",
   "metadata": {
    "pycharm": {
     "name": "#%%\n"
    }
   },
   "outputs": [],
   "source": [
    "dsf.X_ipl_MNa[:4, 0, 0]"
   ]
  },
  {
   "cell_type": "markdown",
   "id": "dd173ff7-8461-44c4-8088-4f5e908e2282",
   "metadata": {
    "pycharm": {
     "name": "#%% md\n"
    }
   },
   "source": [
    "## Strain field"
   ]
  },
  {
   "cell_type": "markdown",
   "id": "68fbba63-d1ef-41e5-ba72-8bd5a4d044ad",
   "metadata": {
    "jupyter": {
     "outputs_hidden": false
    },
    "pycharm": {
     "name": "#%%\n"
    }
   },
   "source": [
    "The strain field at ultimate load arranged in correspondence to the $K, L$ grid is obtained using the `eps_fields` property, which delivers a tuple with the fields\n",
    " - `eps_Emab` - strain tensor $\\varepsilon_{ab}$ with with $a,b \\in (0,1,2)$ iin each quadrature point $m \\in (0, 1, 2, 3)$ of an element $E \\in (0, n_E)$ \n",
    " - `eps_KLab` - strain tensor $\\varepsilon_{ab}$ with with $a,b \\in (0,1,2)$ iin each quadrature grid point with global horizontal index $K \\in n_K$ and vertical index $L \\in n_L$\n",
    " - `eps_KLa` - principal strain $\\varepsilon_a$ with $a \\in (0,1,2)$ in each quadrature grid point with global horizontal index $K \\in n_K$ and vertical index $L \\in n_L$\n",
    " - `max_eps_KL` - maximal strain in each quadrature grid point with global horizontal index $K \\in n_K$ and vertical index $L \\in n_L$"
   ]
  },
  {
   "cell_type": "code",
   "execution_count": null,
   "id": "d9915973-46cb-4078-8b25-d76dd67f486e",
   "metadata": {
    "pycharm": {
     "name": "#%%\n"
    }
   },
   "outputs": [],
   "source": [
    "eps_Emab, eps_KLab, eps_KLa, max_eps_KL = dsf.eps_fe_fields"
   ]
  },
  {
   "cell_type": "markdown",
   "id": "18355781-2a42-4d5f-8c1d-deff97630982",
   "metadata": {
    "pycharm": {
     "name": "#%% md\n"
    }
   },
   "source": [
    "The principal stresses in the corner points are obtained as"
   ]
  },
  {
   "cell_type": "code",
   "execution_count": null,
   "id": "b55ffc05-2061-4b4e-ae6c-8030c90e3bb2",
   "metadata": {
    "pycharm": {
     "name": "#%%\n"
    }
   },
   "outputs": [],
   "source": [
    "eps_KLa[(0, 0, -1, -1),(0, -1, 0, -1), :]"
   ]
  },
  {
   "cell_type": "markdown",
   "id": "6285bec3-4a07-45ce-9dcc-4b8f2e7e26a3",
   "metadata": {
    "pycharm": {
     "name": "#%% md\n"
    }
   },
   "source": [
    "The maximum and minimum principal strain values are obtained using numpy.max method "
   ]
  },
  {
   "cell_type": "code",
   "execution_count": null,
   "id": "8bb2919a-052c-47ab-b591-642bb20a92ca",
   "metadata": {
    "pycharm": {
     "name": "#%%\n"
    }
   },
   "outputs": [],
   "source": [
    "np.max(eps_KLa), np.min(eps_KLa)"
   ]
  },
  {
   "cell_type": "markdown",
   "id": "fc012a03-592b-40b9-989e-bc5bfa42c228",
   "metadata": {
    "pycharm": {
     "name": "#%% md\n"
    }
   },
   "source": [
    "The history of strain tensor is accessible via the five dimensional array `eps_fe_TKLab`. The last value of strain in the bottom left gauss point can be accessed via "
   ]
  },
  {
   "cell_type": "code",
   "execution_count": null,
   "id": "b1aa22c4-2fd0-4106-9f93-d1277ec43dc2",
   "metadata": {
    "pycharm": {
     "name": "#%%\n"
    }
   },
   "outputs": [],
   "source": [
    "dsf.eps_fe_TKLab[-1,0,0,:]"
   ]
  },
  {
   "cell_type": "markdown",
   "id": "bcc117e8-6da1-4ee4-8e30-54d859badabf",
   "metadata": {
    "pycharm": {
     "name": "#%% md\n"
    }
   },
   "source": [
    "### Strain interpolator within the load-space domain"
   ]
  },
  {
   "cell_type": "markdown",
   "id": "0a236156-a78a-4bd5-8c2f-f892fb54852e",
   "metadata": {
    "pycharm": {
     "name": "#%% md\n"
    }
   },
   "source": [
    "To obtain the strain tensor at an arbitrary point of the load-space domain an interpolater over the data points provided for the indexes $T, M, N$ in load, horizontal and vertical dimensions named `f_eps_ipl_txy([t, x, y])` with $t \\in (0,1)$."
   ]
  },
  {
   "cell_type": "code",
   "execution_count": null,
   "id": "414dcc2b-00a9-4722-919e-6d7b17da5a2f",
   "metadata": {
    "pycharm": {
     "name": "#%%\n"
    }
   },
   "outputs": [],
   "source": [
    "dsf.f_eps_fe_txy(np.array([0.3, 100, 30]))"
   ]
  },
  {
   "cell_type": "code",
   "execution_count": null,
   "id": "5c3b89a3",
   "metadata": {
    "jupyter": {
     "outputs_hidden": false
    },
    "pycharm": {
     "name": "#%%\n"
    }
   },
   "outputs": [],
   "source": [
    "# Damage field"
   ]
  },
  {
   "cell_type": "markdown",
   "id": "263d1894-9e75-45db-a965-2d657cd055fc",
   "metadata": {
    "pycharm": {
     "name": "#%% md\n"
    }
   },
   "source": [
    "The access to damage values in the grid of quadrature points is done in analogy to the strain. To get the variants of the damage tensor field $\\omega_{ab}$ we can access the property attribute"
   ]
  },
  {
   "cell_type": "code",
   "execution_count": null,
   "id": "4fd43558-e43f-456a-af56-9d344f3f9ed2",
   "metadata": {
    "pycharm": {
     "name": "#%%\n"
    }
   },
   "outputs": [],
   "source": [
    "dsf.f_omega_fe_txy(np.array([[1, 100, 30], [1, 1260.0, 30]]))"
   ]
  },
  {
   "cell_type": "code",
   "execution_count": null,
   "id": "ff052aaa-2ba8-4982-9b1d-946f89080e8f",
   "metadata": {
    "pycharm": {
     "name": "#%%\n"
    }
   },
   "outputs": [],
   "source": [
    "t_TMN, x_TMN, y_TMN = dsf.mgrid_ipl_TMN\n",
    "t_factor = (x_TMN[0, -1, -1] + y_TMN[0, -1, -1]) / 2"
   ]
  },
  {
   "cell_type": "markdown",
   "id": "fe8d749b-490e-4ad4-a0f2-5ad6cf3a16a3",
   "metadata": {
    "pycharm": {
     "name": "#%% md\n"
    }
   },
   "source": [
    "# Throughout the history, damage can only grow\n",
    "\n",
    "In some cases, damage indicator might diminish between the time steps.\n",
    "The reason is not yet completely clear. Below is the technique how\n",
    "to ensure an ascending history of damage for the case that it drops\n",
    "between the imposed DIC steps."
   ]
  },
  {
   "cell_type": "code",
   "execution_count": null,
   "id": "49234289-2e61-4dbe-9ccb-4fa105ddca6c",
   "metadata": {
    "pycharm": {
     "name": "#%%\n"
    },
    "tags": []
   },
   "outputs": [],
   "source": [
    "omega_TMN = dsf.omega_ipl_TMN"
   ]
  },
  {
   "cell_type": "code",
   "execution_count": null,
   "id": "98ef6f6f-32e1-409c-af76-d5837281a28e",
   "metadata": {
    "pycharm": {
     "name": "#%%\n"
    }
   },
   "outputs": [],
   "source": [
    "o_a = np.array([[10, 9, 4, 1, 0],\n",
    "                [10, 9, 4, 2, 0],\n",
    "                [10, 8, 0, 3, 0]])\n",
    "for T in range(1, len(o_a)):\n",
    "    a_change = np.where(o_a[-T-1] > o_a[-T])\n",
    "    o_a[-T-1,a_change] = o_a[-T,a_change]\n",
    "o_a"
   ]
  },
  {
   "cell_type": "code",
   "execution_count": null,
   "id": "13400e36-8d51-4389-baa8-4136e1fc30ca",
   "metadata": {
    "pycharm": {
     "name": "#%%\n"
    }
   },
   "outputs": [],
   "source": [
    "omega_asc_TMN = np.copy(omega_TMN)\n",
    "for T in np.arange(1, dsf.n_ipl_T):\n",
    "    # print(T)\n",
    "    MN_change = np.where(omega_asc_TMN[-T-1,...] > omega_asc_TMN[-T,...])\n",
    "    TMN0_change = (np.ones_like(MN_change[0])*(-T-1),) + MN_change\n",
    "    TMN1_change = (np.ones_like(MN_change[0])*(-T),) + MN_change\n",
    "    # print(MN_change[0].shape)\n",
    "    omega_asc_TMN[TMN0_change] = omega_asc_TMN[TMN1_change]"
   ]
  },
  {
   "cell_type": "markdown",
   "id": "4c783fd0-c3fc-4a42-b2f0-8ff709da3b5a",
   "metadata": {
    "pycharm": {
     "name": "#%% md\n"
    }
   },
   "source": [
    "# Smoothing algorithm"
   ]
  },
  {
   "cell_type": "code",
   "execution_count": null,
   "id": "4458f684-66a7-45b9-b60d-5d52fcd6f3db",
   "metadata": {
    "pycharm": {
     "name": "#%%\n"
    }
   },
   "outputs": [],
   "source": [
    "# from mayavi import mlab\n",
    "# mlab.contour3d(t_TMN * t_factor, x_TMN, y_TMN, omega_asc_TMN, contours=[0.75, 0.85, 0.92])\n",
    "# mlab.show()"
   ]
  },
  {
   "cell_type": "code",
   "execution_count": null,
   "id": "61478308-d1c8-4f67-9336-c328c6bbf6bd",
   "metadata": {
    "pycharm": {
     "name": "#%%\n"
    }
   },
   "outputs": [],
   "source": [
    "dsf.R = 9"
   ]
  },
  {
   "cell_type": "code",
   "execution_count": null,
   "id": "00cf43ef-d757-4760-9ca3-994e6d9eae42",
   "metadata": {
    "pycharm": {
     "name": "#%%\n"
    }
   },
   "outputs": [],
   "source": [
    "RR = dsf.R\n",
    "delta_x_MN = x_TMN[None, None, 0, ...] - x_TMN[0, ..., None, None]\n",
    "delta_y_MN = y_TMN[None, None, 0, ...] - y_TMN[0, ..., None, None]\n",
    "r2_MNOP = (delta_x_MN ** 2 + delta_y_MN ** 2) / (2 * RR ** 2)\n",
    "alpha_r_MNOP = np.exp(-r2_MNOP)\n",
    "a_OP = np.trapz(np.trapz(alpha_r_MNOP, x_TMN[0, :, 0], axis=-2), y_TMN[0, 0, :], axis=-1)\n",
    "normed_a_MNOP = np.einsum('MNOP,MN->MNOP', alpha_r_MNOP, 1 / a_OP)\n",
    "omega_TMNOP = np.einsum('MNOP,TOP...->TMNOP...', normed_a_MNOP, omega_asc_TMN)"
   ]
  },
  {
   "cell_type": "code",
   "execution_count": null,
   "id": "c726dbb9-9ca5-4673-ae6e-026f449a1c97",
   "metadata": {
    "pycharm": {
     "name": "#%%\n"
    }
   },
   "outputs": [],
   "source": [
    "Omega_TMNP_y = np.trapz(omega_TMNOP, y_TMN[0, 0, :], axis=-1)"
   ]
  },
  {
   "cell_type": "code",
   "execution_count": null,
   "id": "03213d5d-8f5c-4d65-8834-ea8ccb2f9c26",
   "metadata": {
    "pycharm": {
     "name": "#%%\n"
    }
   },
   "outputs": [],
   "source": [
    "Omega_TMN = np.trapz(Omega_TMNP_y, x_TMN[0, :, 0], axis=-1)"
   ]
  },
  {
   "cell_type": "code",
   "execution_count": null,
   "id": "5d639997-5764-4a28-8a19-941dbd66318f",
   "metadata": {
    "pycharm": {
     "name": "#%%\n"
    }
   },
   "outputs": [],
   "source": [
    "for T in np.arange(dsf.n_ipl_T, 1, -1)-1:\n",
    "    print(T, T-1)\n",
    "    MN_change = np.where(Omega_TMN[T,...] < Omega_TMN[T-1,...])\n",
    "    Omega_TMN[T-2, MN_change] = Omega_TMN[T, MN_change]"
   ]
  },
  {
   "cell_type": "code",
   "execution_count": null,
   "id": "94d08791-fb50-4f70-b479-24bbbf947236",
   "metadata": {
    "pycharm": {
     "name": "#%%\n"
    }
   },
   "outputs": [],
   "source": [
    "np.max(Omega_TMN)"
   ]
  },
  {
   "cell_type": "code",
   "execution_count": null,
   "id": "78fef2bb-7fd5-4d36-a824-00d0ceb74f24",
   "metadata": {
    "pycharm": {
     "name": "#%%\n"
    }
   },
   "outputs": [],
   "source": [
    "# note that the inner integral cancels the dimension J on the axis with\n",
    "# index 2. Therefore, the outer integral integrates over K - again on\n",
    "# the axis with index 2\n",
    "# omega_ipl_TMN = np.trapz(np.trapz(omega_TMNOP, x_TMN[:, :, 0], axis=3), y_TMN[:, 0, :], axis=3)\n"
   ]
  },
  {
   "cell_type": "code",
   "execution_count": null,
   "id": "4f9437dd-81f6-4be5-ba7a-7f8dbe4799ef",
   "metadata": {
    "pycharm": {
     "name": "#%%\n"
    }
   },
   "outputs": [],
   "source": [
    "x_NM = np.einsum('TMN->NMT', x_TMN)[...]\n",
    "y_NM = np.einsum('TMN->NMT', y_TMN)[...]\n",
    "z_NM = np.einsum('TMN->NMT', t_TMN)[...] * t_factor"
   ]
  },
  {
   "cell_type": "code",
   "execution_count": null,
   "id": "21ef942f-48b2-4f81-847a-ec6a16645606",
   "metadata": {
    "pycharm": {
     "name": "#%%\n"
    }
   },
   "outputs": [],
   "source": [
    "# from mayavi import mlab\n",
    "# mlab.contour3d(t_TMN * t_factor, x_TMN, y_TMN, omega_asc_TMN, contours=[0.75, 0.85, 0.92])\n",
    "# mlab.show()"
   ]
  },
  {
   "cell_type": "markdown",
   "id": "bf20ceaa-49ee-4f65-a791-1721c5506205",
   "metadata": {
    "pycharm": {
     "name": "#%% md\n"
    }
   },
   "source": [
    "# Interpolators"
   ]
  },
  {
   "cell_type": "markdown",
   "id": "06f0f5b3-8608-4e29-b783-d071dc56e4d5",
   "metadata": {
    "pycharm": {
     "name": "#%% md\n"
    },
    "tags": []
   },
   "source": [
    "Interpolators are provided in form of properties\n",
    "- The interpolation of the displacements is done on the `DIC` grid with indexes denoted $I,J$.  \n",
    "- Interpolation of the strain, stress and damage fields is done on the `FE` quadrature grid $M, N$.\n",
    "- Interpolaters on a finer, interpolated regular grid `IPL` with indexes $M, N$."
   ]
  },
  {
   "cell_type": "code",
   "execution_count": null,
   "id": "b15c4a32-16d2-4c5d-be22-9607b988d29a",
   "metadata": {
    "pycharm": {
     "name": "#%%\n"
    }
   },
   "outputs": [],
   "source": []
  },
  {
   "cell_type": "code",
   "execution_count": null,
   "id": "ddc91ea5-ca10-4ed3-a737-ea5ff6a2060d",
   "metadata": {},
   "outputs": [],
   "source": []
  }
 ],
 "metadata": {
  "kernelspec": {
   "display_name": "bmcs_env2",
   "language": "python",
   "name": "bmcs_env2"
  },
  "language_info": {
   "codemirror_mode": {
    "name": "ipython",
    "version": 3
   },
   "file_extension": ".py",
   "mimetype": "text/x-python",
   "name": "python",
   "nbconvert_exporter": "python",
   "pygments_lexer": "ipython3"
  }
 },
 "nbformat": 4,
 "nbformat_minor": 5
}
