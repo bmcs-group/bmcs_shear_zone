{
 "cells": [
  {
   "cell_type": "markdown",
   "id": "c99b23ab-fdec-41de-a12e-a7ec4712d7ca",
   "metadata": {},
   "source": [
    "# **Tutorial for DICGrid model component**"
   ]
  },
  {
   "cell_type": "markdown",
   "id": "230a3a0e-7463-492b-b02d-1219f002da42",
   "metadata": {},
   "source": [
    "DIC Grid serves for reading the data available as a sequence of files with displacement measurements stored in a directory, accompanied with the measured load deflection curve. It refers to the `BeamDesign` object defining the design of the reinforced beam. By combining the information from the optical measurement with statical scheme, geometry and reinforcement layout, this model component serves \n",
    "further analysis by providing the correct **load-space-time** databasis."
   ]
  },
  {
   "cell_type": "code",
   "execution_count": 1,
   "id": "2212c080-90f1-4691-9995-1e6b80afbccd",
   "metadata": {},
   "outputs": [],
   "source": [
    "%matplotlib widget\n",
    "import matplotlib.pylab as plt"
   ]
  },
  {
   "cell_type": "markdown",
   "id": "eaabbf02-9b9f-438b-8e37-b3076396cea0",
   "metadata": {},
   "source": [
    "Let us construct a grid example and render the interactive interface showing the measured displacmeent at the maximum load $t = 1$ and with displacement amplified by a factor $U_\\mathrm{factor} = 100$. "
   ]
  },
  {
   "cell_type": "code",
   "execution_count": 2,
   "id": "bc0f416f-c31d-4d59-a67a-1fa73fb80a02",
   "metadata": {},
   "outputs": [
    {
     "data": {
      "application/vnd.jupyter.widget-view+json": {
       "model_id": "75c29a0b255448458abe206556060478",
       "version_major": 2,
       "version_minor": 0
      },
      "text/plain": [
       "VBox(children=(HBox(children=(VBox(children=(Tree(layout=Layout(align_items='stretch', border='solid 1px black…"
      ]
     },
     "metadata": {},
     "output_type": "display_data"
    }
   ],
   "source": [
    "from dic_grid import DICGrid\n",
    "dic_grid = DICGrid(U_factor=100, dir_name='B7_TV1', t=1)\n",
    "dic_grid.interact()"
   ]
  },
  {
   "cell_type": "markdown",
   "id": "99769804-a5b7-48cb-b22a-b7a3c27652c9",
   "metadata": {},
   "source": [
    "Note that the orange markers denote the states with available DIC measurements performed during the history of loading."
   ]
  },
  {
   "cell_type": "markdown",
   "id": "aa0f91d7-703b-4a7d-b2b6-6872ad6ea624",
   "metadata": {},
   "source": [
    "## Read data format"
   ]
  },
  {
   "cell_type": "markdown",
   "id": "e92531b7-12a8-4673-a8b5-9f3a20db88cb",
   "metadata": {},
   "source": [
    "### Input directory structure"
   ]
  },
  {
   "cell_type": "markdown",
   "id": "2ca2c5c0-f4f0-42b9-b7eb-7f81619332e0",
   "metadata": {},
   "source": [
    "The `DICGrid` objects reads the data from a directory named as `dir_name`"
   ]
  },
  {
   "cell_type": "code",
   "execution_count": 3,
   "id": "962dfa80-8ed3-4bb5-b1a0-2af156971477",
   "metadata": {},
   "outputs": [
    {
     "data": {
      "text/plain": [
       "'B7_TV1'"
      ]
     },
     "execution_count": 3,
     "metadata": {},
     "output_type": "execute_result"
    }
   ],
   "source": [
    "dic_grid.dir_name"
   ]
  },
  {
   "cell_type": "markdown",
   "id": "e6146136-747a-407b-b5fb-ecfd92a52f25",
   "metadata": {},
   "source": [
    "The property trait `data_dir` assembles the path to the data directory using path starting in the home directory, i.e. \n",
    "\n",
    "```join(dic_grid.home_dir, 'simdb', 'data', 'shear_zone', dic_grid.dir_name)```\n",
    "\n",
    "For the current example, we obtain"
   ]
  },
  {
   "cell_type": "code",
   "execution_count": 4,
   "id": "5300dc6d-9d5c-42ef-8f65-878b0bf87e8e",
   "metadata": {},
   "outputs": [
    {
     "data": {
      "text/plain": [
       "'/home/rch/simdb/data/shear_zone/B7_TV1'"
      ]
     },
     "execution_count": 4,
     "metadata": {},
     "output_type": "execute_result"
    }
   ],
   "source": [
    "dic_grid.data_dir"
   ]
  },
  {
   "cell_type": "markdown",
   "id": "9e1999e4-2729-4bae-872d-5aa63a2434d1",
   "metadata": {},
   "source": [
    "To get the directory with the DIC data, issue "
   ]
  },
  {
   "cell_type": "code",
   "execution_count": 5,
   "id": "8aba74a2-c1ba-4627-9dfe-0f94e9f866bd",
   "metadata": {},
   "outputs": [
    {
     "data": {
      "text/plain": [
       "'/home/rch/simdb/data/shear_zone/B7_TV1/dic_data'"
      ]
     },
     "execution_count": 5,
     "metadata": {},
     "output_type": "execute_result"
    }
   ],
   "source": [
    "dic_grid.dic_data_dir"
   ]
  },
  {
   "cell_type": "markdown",
   "id": "5a106802-5c4c-4897-b285-1f89d9a54c67",
   "metadata": {},
   "source": [
    "### Load deflection response"
   ]
  },
  {
   "cell_type": "markdown",
   "id": "3dc37d7e-4923-430e-95e4-5dd5ae34057e",
   "metadata": {},
   "source": [
    "To obtain the directory with the load deflection curve, use"
   ]
  },
  {
   "cell_type": "code",
   "execution_count": 6,
   "id": "750ef745-8c1c-45b3-a316-6f4cf7cbc701",
   "metadata": {},
   "outputs": [
    {
     "data": {
      "text/plain": [
       "'/home/rch/simdb/data/shear_zone/B7_TV1/load_deflection'"
      ]
     },
     "execution_count": 6,
     "metadata": {},
     "output_type": "execute_result"
    }
   ],
   "source": [
    "dic_grid.Fw_data_dir"
   ]
  },
  {
   "cell_type": "markdown",
   "id": "2c54c63c-2c46-47cd-9dc0-95a2fb941bf9",
   "metadata": {},
   "source": [
    "### Beam parameters\n",
    "File specifying the beam parameters is assessed using the property traits `beam_param_fie` and is named `beam_params.txt` by default"
   ]
  },
  {
   "cell_type": "code",
   "execution_count": 7,
   "id": "4b965bc5-9dbe-46f7-8de6-d26f4f5f94b2",
   "metadata": {},
   "outputs": [
    {
     "data": {
      "text/plain": [
       "'/home/rch/simdb/data/shear_zone/B7_TV1/beam_params.txt'"
      ]
     },
     "execution_count": 7,
     "metadata": {},
     "output_type": "execute_result"
    }
   ],
   "source": [
    "dic_grid.beam_param_file"
   ]
  },
  {
   "cell_type": "markdown",
   "id": "a6dcd299-b959-45a0-94be-572fea490f3c",
   "metadata": {},
   "source": [
    "This file specifies the parameters \n",
    " - length $L$\n",
    " - width $B$\n",
    " - depth $H$\n",
    " - number of reinforcement bars $n_\\mathrm{s}$\n",
    " - vertical position of the bars $y_\\mathrm{s}$\n",
    " - diameter of the reinforcement $d_\\mathrm{s}$"
   ]
  },
  {
   "cell_type": "code",
   "execution_count": 8,
   "id": "28daca77-725e-4811-a3d8-c40517ea0687",
   "metadata": {},
   "outputs": [
    {
     "data": {
      "text/plain": [
       "{'L': float, 'B': float, 'H': float, 'n_s': float, 'y_s': float, 'd_s': float}"
      ]
     },
     "execution_count": 8,
     "metadata": {},
     "output_type": "execute_result"
    }
   ],
   "source": [
    "dic_grid.beam_param_types"
   ]
  },
  {
   "cell_type": "markdown",
   "id": "282e8742-c0c7-4476-a45d-fdf4e642a9e2",
   "metadata": {},
   "source": [
    "Currently, to setup the beam parmaters correctly, a call to `read_beam_design` must be assued using"
   ]
  },
  {
   "cell_type": "code",
   "execution_count": 9,
   "id": "c06b69b1-b2b4-4aa2-87a6-6fee9490afde",
   "metadata": {},
   "outputs": [],
   "source": [
    "dic_grid.read_beam_design()"
   ]
  },
  {
   "cell_type": "markdown",
   "id": "be27e653-3a20-4c0b-ae43-19917d099df6",
   "metadata": {},
   "source": [
    "**Note** This need should be avoided later by capturing the dependency with respect to the `data_dir` attribute. Currently, the notification mechanism does not allow this because of are further dependency links."
   ]
  },
  {
   "cell_type": "markdown",
   "id": "e07d69ca-a4cb-4f2a-b128-770c6dc5a05d",
   "metadata": {},
   "source": [
    "The beam design object is available in the attribute `sz_bd`. The type of the `RCBeamDesign` is general and specifies also the material models associated with individual material components."
   ]
  },
  {
   "cell_type": "markdown",
   "id": "54596172-70b3-4402-84ef-2f046a330b2f",
   "metadata": {},
   "source": [
    "The parameters relevant for correct configuration of the `dic_grid` within the beam design are the length and offset with respect the beam bounaries "
   ]
  },
  {
   "cell_type": "code",
   "execution_count": 10,
   "id": "1dd183a3-c645-464f-a46d-042aec9a1629",
   "metadata": {},
   "outputs": [
    {
     "data": {
      "text/plain": [
       "(1254.0, 286.0)"
      ]
     },
     "execution_count": 10,
     "metadata": {},
     "output_type": "execute_result"
    }
   ],
   "source": [
    "dic_grid.L_x, dic_grid.L_y"
   ]
  },
  {
   "cell_type": "markdown",
   "id": "09cb23de-6103-45e5-89c6-e6adcafcd0a6",
   "metadata": {},
   "source": [
    "### Grid parameters"
   ]
  },
  {
   "cell_type": "markdown",
   "id": "ae307d58-6a02-475c-a9c5-26572eb089e6",
   "metadata": {},
   "source": [
    "File specifying the grid data parameters is accessed using the property trait `grid_param_file` and is named\n",
    "`grid_params.txt` by default."
   ]
  },
  {
   "cell_type": "code",
   "execution_count": 11,
   "id": "ae5beab6-8e88-44d2-ac31-0c3b9e12762d",
   "metadata": {},
   "outputs": [
    {
     "data": {
      "text/plain": [
       "'/home/rch/simdb/data/shear_zone/B7_TV1/dic_data/grid_params.txt'"
      ]
     },
     "execution_count": 11,
     "metadata": {},
     "output_type": "execute_result"
    }
   ],
   "source": [
    "dic_grid.grid_param_file"
   ]
  },
  {
   "cell_type": "markdown",
   "id": "f0e87f75-a8e2-470c-aaf2-63bedbe8f455",
   "metadata": {},
   "source": [
    "This file contains the name-value pairs of the attributes defined by the `grid_param_types` dictionary"
   ]
  },
  {
   "cell_type": "code",
   "execution_count": 12,
   "id": "6fd25971-7b81-435d-b10c-177b6e88dba6",
   "metadata": {},
   "outputs": [
    {
     "data": {
      "text/plain": [
       "{'n_x': int,\n",
       " 'n_y': int,\n",
       " 'd_x': float,\n",
       " 'd_y': float,\n",
       " 'x_offset': float,\n",
       " 'y_offset': float,\n",
       " 'column_first_enum': <function dic_grid.convert_to_bool(str_bool)>,\n",
       " 'top_down_enum': <function dic_grid.convert_to_bool(str_bool)>}"
      ]
     },
     "execution_count": 12,
     "metadata": {},
     "output_type": "execute_result"
    }
   ],
   "source": [
    "dic_grid.grid_param_types"
   ]
  },
  {
   "cell_type": "markdown",
   "id": "f6f3d5b2-2071-4903-b46f-1952bd3c7d76",
   "metadata": {},
   "source": [
    "Thus, the `grid_params` of the current test `B7_TV1` read"
   ]
  },
  {
   "cell_type": "code",
   "execution_count": 13,
   "id": "5d3c5390-8b75-4834-a2b8-cb6042d63f94",
   "metadata": {},
   "outputs": [
    {
     "data": {
      "text/plain": [
       "{'n_x': 58,\n",
       " 'n_y': 14,\n",
       " 'd_x': 22.0,\n",
       " 'd_y': 22.0,\n",
       " 'x_offset': 12.0,\n",
       " 'y_offset': 21.0,\n",
       " 'column_first_enum': False,\n",
       " 'top_down_enum': False}"
      ]
     },
     "execution_count": 13,
     "metadata": {},
     "output_type": "execute_result"
    }
   ],
   "source": [
    "dic_grid.grid_params"
   ]
  },
  {
   "cell_type": "markdown",
   "id": "4c5614f4-1f23-4543-9e23-9c6fb6296d2b",
   "metadata": {},
   "source": [
    "The DIC data files corresponding to each measured step are assembled in the string list `files` "
   ]
  },
  {
   "cell_type": "markdown",
   "id": "4193efd3-5c0f-4845-a236-fa53e88e0daf",
   "metadata": {},
   "source": [
    "These parameters are available as properties and can be accessed via"
   ]
  },
  {
   "cell_type": "code",
   "execution_count": 14,
   "id": "6c9afdc7-42c7-4988-b66e-547b28009e67",
   "metadata": {},
   "outputs": [
    {
     "data": {
      "text/plain": [
       "(58, 14, 22.0, 22.0, 12.0, 21.0)"
      ]
     },
     "execution_count": 14,
     "metadata": {},
     "output_type": "execute_result"
    }
   ],
   "source": [
    "dic_grid.n_I, dic_grid.n_J, dic_grid.d_x, dic_grid.d_y, dic_grid.x_offset, dic_grid.y_offset"
   ]
  },
  {
   "cell_type": "markdown",
   "id": "64d64491-1ac4-47d4-a4dc-bbc017fa9183",
   "metadata": {},
   "source": [
    "Note that the naming of properties follows the mathematical indexing convention with $I$, $J$ representing the horizontal and vertical node indexes, respectively. Correspondingly, $n_I$ and $n_J$ denotes the number of horizontal and vertical nodes, respectively. "
   ]
  },
  {
   "cell_type": "markdown",
   "id": "bd1bf301-cfbe-459f-bf7c-a35414eed761",
   "metadata": {},
   "source": [
    "To position the DIC frame into the beam, the beam parameters and grid parameters are combined to obtain the coordinates of the \n",
    "bottom left and top right corners within the beam in the order $X_\\mathrm{frame} = (x_\\min, y_\\min, x_\\max, y_\\max)$"
   ]
  },
  {
   "cell_type": "code",
   "execution_count": 15,
   "id": "b0eac96d-30b5-4edb-8bd9-e1a255ae38b1",
   "metadata": {},
   "outputs": [
    {
     "data": {
      "text/plain": [
       "(12.0, 21.0, 1266.0, 307.0)"
      ]
     },
     "execution_count": 15,
     "metadata": {},
     "output_type": "execute_result"
    }
   ],
   "source": [
    "dic_grid.X_frame"
   ]
  },
  {
   "cell_type": "code",
   "execution_count": 16,
   "id": "44f6ab82-0fdf-45c2-9f8d-9192a7f77438",
   "metadata": {},
   "outputs": [
    {
     "data": {
      "text/plain": [
       "['/home/rch/simdb/data/shear_zone/B7_TV1/dic_data/Step_01_Load_000_KN.csv',\n",
       " '/home/rch/simdb/data/shear_zone/B7_TV1/dic_data/Step_02_Load_015_KN.csv',\n",
       " '/home/rch/simdb/data/shear_zone/B7_TV1/dic_data/Step_03_Load_025_KN.csv',\n",
       " '/home/rch/simdb/data/shear_zone/B7_TV1/dic_data/Step_04_Load_037_KN.csv',\n",
       " '/home/rch/simdb/data/shear_zone/B7_TV1/dic_data/Step_05_Load_050_KN.csv',\n",
       " '/home/rch/simdb/data/shear_zone/B7_TV1/dic_data/Step_06_Load_065_KN.csv',\n",
       " '/home/rch/simdb/data/shear_zone/B7_TV1/dic_data/Step_07_Load_075_KN.csv',\n",
       " '/home/rch/simdb/data/shear_zone/B7_TV1/dic_data/Step_08_Load_085_KN.csv',\n",
       " '/home/rch/simdb/data/shear_zone/B7_TV1/dic_data/Step_09_Load_100_KN.csv',\n",
       " '/home/rch/simdb/data/shear_zone/B7_TV1/dic_data/Step_10_Load_112_KN.csv',\n",
       " '/home/rch/simdb/data/shear_zone/B7_TV1/dic_data/Step_11_Load_125_KN.csv',\n",
       " '/home/rch/simdb/data/shear_zone/B7_TV1/dic_data/Step_12_Load_123_KN.csv',\n",
       " '/home/rch/simdb/data/shear_zone/B7_TV1/dic_data/Step_13_Load_122_KN.csv',\n",
       " '/home/rch/simdb/data/shear_zone/B7_TV1/dic_data/Step_14_Load_128_KN.csv',\n",
       " '/home/rch/simdb/data/shear_zone/B7_TV1/dic_data/Step_15_Load_134_KN.csv',\n",
       " '/home/rch/simdb/data/shear_zone/B7_TV1/dic_data/Step_16_Load_129_KN.csv',\n",
       " '/home/rch/simdb/data/shear_zone/B7_TV1/dic_data/Step_17_Load_127.761_KN.csv',\n",
       " '/home/rch/simdb/data/shear_zone/B7_TV1/dic_data/Step_18_Load_127.456_KN.csv',\n",
       " '/home/rch/simdb/data/shear_zone/B7_TV1/dic_data/Step_19_Load_126.940_KN.csv',\n",
       " '/home/rch/simdb/data/shear_zone/B7_TV1/dic_data/Step_20_Load_126.814_KN.csv',\n",
       " '/home/rch/simdb/data/shear_zone/B7_TV1/dic_data/Step_21_Load_135_KN.csv',\n",
       " '/home/rch/simdb/data/shear_zone/B7_TV1/dic_data/Step_22_Load_141.631_KN.csv',\n",
       " '/home/rch/simdb/data/shear_zone/B7_TV1/dic_data/Step_23_Load_145.859_KN.csv',\n",
       " '/home/rch/simdb/data/shear_zone/B7_TV1/dic_data/Step_24_Load_149.543_KN.csv',\n",
       " '/home/rch/simdb/data/shear_zone/B7_TV1/dic_data/Step_25_Load_150.105_KN.csv',\n",
       " '/home/rch/simdb/data/shear_zone/B7_TV1/dic_data/Step_26_Load_149.799_KN.csv']"
      ]
     },
     "execution_count": 16,
     "metadata": {},
     "output_type": "execute_result"
    }
   ],
   "source": [
    "dic_grid.files"
   ]
  },
  {
   "cell_type": "markdown",
   "id": "bfc5cf75-c2f1-4669-b135-f15dd9fcfc8c",
   "metadata": {},
   "source": [
    "Note that the `CSV` files are named according to the scheme specifying their load levels"
   ]
  },
  {
   "cell_type": "markdown",
   "id": "048aaeca-30b8-4211-abe7-9ae75715e422",
   "metadata": {},
   "source": [
    "## Time data"
   ]
  },
  {
   "cell_type": "markdown",
   "id": "25e9cfc9-d1d7-495f-af3c-fac49bcacd21",
   "metadata": {},
   "source": [
    "The load `F` corresponding to each history index `T` is provided in the `F_DIC_T` property."
   ]
  },
  {
   "cell_type": "code",
   "execution_count": 17,
   "id": "3cd547a8-f004-46c9-b09f-c04cc2508946",
   "metadata": {},
   "outputs": [
    {
     "data": {
      "text/plain": [
       "array([  0.   ,  15.   ,  25.   ,  37.   ,  50.   ,  65.   ,  75.   ,\n",
       "        85.   , 100.   , 112.   , 125.   , 123.   , 122.   , 128.   ,\n",
       "       134.   , 129.   , 127.761, 127.456, 126.94 , 126.814, 135.   ,\n",
       "       141.631, 145.859, 149.543, 150.105, 149.799])"
      ]
     },
     "execution_count": 17,
     "metadata": {},
     "output_type": "execute_result"
    }
   ],
   "source": [
    "dic_grid.F_DIC_T"
   ]
  },
  {
   "cell_type": "markdown",
   "id": "6570045c-3b0d-4a0b-90fd-66fad73af884",
   "metadata": {},
   "source": [
    "The index corresponding to the maximum load `F` is accessed via"
   ]
  },
  {
   "cell_type": "code",
   "execution_count": 18,
   "id": "996ffbaf-bea0-4988-bee7-bdf266929697",
   "metadata": {},
   "outputs": [
    {
     "data": {
      "text/plain": [
       "(24, 150.105)"
      ]
     },
     "execution_count": 18,
     "metadata": {},
     "output_type": "execute_result"
    }
   ],
   "source": [
    "argmax_T = dic_grid.argmax_F_dic_T\n",
    "argmax_T, dic_grid.F_DIC_T[argmax_T]"
   ]
  },
  {
   "cell_type": "markdown",
   "id": "0c66728a-8e0d-47a8-b1c0-ac5f80397e3a",
   "metadata": {},
   "source": [
    "The final index of snapshots is also available as `n_T`"
   ]
  },
  {
   "cell_type": "code",
   "execution_count": 19,
   "id": "98571e07-75f2-488c-a8b9-9cd0cb00e88d",
   "metadata": {},
   "outputs": [
    {
     "data": {
      "text/plain": [
       "24"
      ]
     },
     "execution_count": 19,
     "metadata": {},
     "output_type": "execute_result"
    }
   ],
   "source": [
    "dic_grid.n_T"
   ]
  },
  {
   "cell_type": "markdown",
   "id": "f5b92092-bb04-41d3-a9ef-41807843f325",
   "metadata": {},
   "source": [
    "History up to the peak load is distinguished by using lowercase `dic` in the property name  "
   ]
  },
  {
   "cell_type": "code",
   "execution_count": 20,
   "id": "b6011f5b-730d-4818-9e69-ea3e09144af6",
   "metadata": {},
   "outputs": [
    {
     "data": {
      "text/plain": [
       "array([  0.   ,  15.   ,  25.   ,  37.   ,  50.   ,  65.   ,  75.   ,\n",
       "        85.   , 100.   , 112.   , 125.   , 123.   , 122.   , 128.   ,\n",
       "       134.   , 129.   , 127.761, 127.456, 126.94 , 126.814, 135.   ,\n",
       "       141.631, 145.859, 149.543, 150.105])"
      ]
     },
     "execution_count": 20,
     "metadata": {},
     "output_type": "execute_result"
    }
   ],
   "source": [
    "dic_grid.F_dic_T"
   ]
  },
  {
   "cell_type": "markdown",
   "id": "584b2910-e4b3-456b-b6e6-14be6965d611",
   "metadata": {},
   "source": [
    "An instance of `dic_grid` keeps track of the current time $t \\in (0, 1)$ with 0 \n",
    "and 1 representing the states with zero and maximum force, respectively. Thus, by setting"
   ]
  },
  {
   "cell_type": "code",
   "execution_count": 21,
   "id": "0a8e9c7a-899e-4e46-b2c1-7d4fa08be6d4",
   "metadata": {},
   "outputs": [],
   "source": [
    "dic_grid.t = 0.5"
   ]
  },
  {
   "cell_type": "markdown",
   "id": "348cbc0d-af58-4855-a722-988f49c6689e",
   "metadata": {},
   "source": [
    "The grid will return displacement and position values corresponding to the half of the maximum load. When setting the value of $t$, the value of `T1` denoting the history index will be adapted automateically, i.e."
   ]
  },
  {
   "cell_type": "code",
   "execution_count": 23,
   "id": "78f2f3f9-4d54-40e3-a889-e791ae8e17db",
   "metadata": {},
   "outputs": [
    {
     "data": {
      "text/plain": [
       "(0, 24)"
      ]
     },
     "execution_count": 23,
     "metadata": {},
     "output_type": "execute_result"
    }
   ],
   "source": [
    "dic_grid.T0, dic_grid.n_T"
   ]
  },
  {
   "cell_type": "markdown",
   "id": "4df5bdb9-05df-495f-8f0f-197e3187da10",
   "metadata": {},
   "source": [
    "The whole load and deflection values for each history index $T$ are available in the table `Fw_T`, representing the raw format of the measured data. The "
   ]
  },
  {
   "cell_type": "code",
   "execution_count": 24,
   "id": "5d98ca9f-2c97-4231-ae1d-13f34bf0726f",
   "metadata": {},
   "outputs": [
    {
     "data": {
      "text/plain": [
       "(57242, 17)"
      ]
     },
     "execution_count": 24,
     "metadata": {},
     "output_type": "execute_result"
    }
   ],
   "source": [
    "dic_grid.Fw_T.shape"
   ]
  },
  {
   "cell_type": "markdown",
   "id": "f963929e-2526-450f-af2a-eb2ec4384bc6",
   "metadata": {},
   "source": [
    "To access the deflections and forces, we need to issue"
   ]
  },
  {
   "cell_type": "code",
   "execution_count": 25,
   "id": "e3d1d7c3-0963-4760-9e58-ffafbb6b1eef",
   "metadata": {},
   "outputs": [],
   "source": [
    "w = dic_grid.Fw_T[::50,2]\n",
    "F = -dic_grid.Fw_T[::50,1]"
   ]
  },
  {
   "cell_type": "markdown",
   "id": "8489292f-861e-4a13-bf8f-1ba518c16d69",
   "metadata": {},
   "source": [
    "**TODO**: provide properties"
   ]
  },
  {
   "cell_type": "markdown",
   "id": "e83b3a81-34fc-4355-9f3e-9c808c7e3036",
   "metadata": {},
   "source": [
    "## Grid data"
   ]
  },
  {
   "cell_type": "markdown",
   "id": "54f905eb-9f84-443e-ac2d-8430f78d2f08",
   "metadata": {},
   "source": [
    "The initial positions of the grid markers denoted as $X_{0IJa}$ is obtained from the `grid_params`. The initial position of the \n",
    "bottom left corner must match the values of the offset specified above in the $X_\\mathrm{frame}$. Let us verify that this feature is provided by printing the values of `X_0IJa[0,0,:]` and `X_0IJa[-1,-1,:]`."
   ]
  },
  {
   "cell_type": "code",
   "execution_count": 26,
   "id": "2054928d-affb-483e-a859-00f39bef837c",
   "metadata": {},
   "outputs": [
    {
     "data": {
      "text/plain": [
       "((12.0, 21.0, 1266.0, 307.0), array([12., 21.]), array([1266.,  307.]))"
      ]
     },
     "execution_count": 26,
     "metadata": {},
     "output_type": "execute_result"
    }
   ],
   "source": [
    "dic_grid.X_frame, dic_grid.X_IJa[0, 0, :], dic_grid.X_IJa[-1, -1, :]"
   ]
  },
  {
   "cell_type": "markdown",
   "id": "c431909b-0439-411a-a78f-a3c7d73db1d4",
   "metadata": {},
   "source": [
    "All files are read into the memory at once. This might be improvied in the future using the zipped binary `numpy` file management to save memory during processing."
   ]
  },
  {
   "cell_type": "markdown",
   "id": "4a916007-d346-4dd0-a380-277b29ddae45",
   "metadata": {},
   "source": [
    "The displacements of the grid nodes are stored in a four-dimensional array \n",
    "$U_{TIJa}$ with the indexes denoting the history index $T$, horizontal \n",
    "node index $I$, vertical index $J$, and the dimension index $a \\in (0,1) = (x,y)$.\n",
    "Thus, the displacement at the fifteenth step of the left bottom corner node\n",
    "in both directions can be obtained as"
   ]
  },
  {
   "cell_type": "code",
   "execution_count": 27,
   "id": "ad785aa7-2d3e-4c95-a228-16e6bd87061e",
   "metadata": {},
   "outputs": [
    {
     "data": {
      "text/plain": [
       "array([ 1.267, -5.054])"
      ]
     },
     "execution_count": 27,
     "metadata": {},
     "output_type": "execute_result"
    }
   ],
   "source": [
    "dic_grid.U_TIJa[-1, 40, 0, :]"
   ]
  },
  {
   "cell_type": "markdown",
   "id": "c67a85cb-fdc2-499f-a38e-17aeddd16a0f",
   "metadata": {},
   "source": [
    "The displacement corresponding to the current value of $t$ represented by the index T_t"
   ]
  },
  {
   "cell_type": "code",
   "execution_count": 28,
   "id": "8a01d0d0-6e20-446c-9851-fb6e7ce208f1",
   "metadata": {},
   "outputs": [
    {
     "data": {
      "text/plain": [
       "(0.5, 11)"
      ]
     },
     "execution_count": 28,
     "metadata": {},
     "output_type": "execute_result"
    }
   ],
   "source": [
    "dic_grid.t, dic_grid.T_t"
   ]
  },
  {
   "cell_type": "markdown",
   "id": "9609bc19-aa39-49c2-8204-fb479bc1d9fc",
   "metadata": {},
   "source": [
    "is available as property $U_{IJa}$"
   ]
  },
  {
   "cell_type": "code",
   "execution_count": 29,
   "id": "ebfb4089-4023-48c3-91da-ed0fa268990f",
   "metadata": {},
   "outputs": [
    {
     "data": {
      "text/plain": [
       "array([ 0.952, -3.825])"
      ]
     },
     "execution_count": 29,
     "metadata": {},
     "output_type": "execute_result"
    }
   ],
   "source": [
    "dic_grid.U_IJa[40, 0, :]"
   ]
  },
  {
   "cell_type": "markdown",
   "id": "3e7af24d-12d1-41d6-b1d9-827cffb4c6c2",
   "metadata": {},
   "source": [
    "# Plotting functions"
   ]
  },
  {
   "cell_type": "code",
   "execution_count": 30,
   "id": "dfe9feb2-41de-4c24-84ab-5ad7963ad366",
   "metadata": {},
   "outputs": [
    {
     "data": {
      "application/vnd.jupyter.widget-view+json": {
       "model_id": "8b325901e542448393ec81bf57a6fbd1",
       "version_major": 2,
       "version_minor": 0
      },
      "image/png": "[encoded data removed]",
      "text/html": [
       "\n",
       "            <div style=\"display: inline-block;\">\n",
       "                <div class=\"jupyter-widgets widget-label\" style=\"text-align: center;\">\n",
       "                    Figure\n",
       "                </div>\n",
       "                <img src='data:image/png;base64,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' width=640.0/>\n",
       "            </div>\n",
       "        "
      ],
      "text/plain": [
       "Canvas(toolbar=Toolbar(toolitems=[('Home', 'Reset original view', 'home', 'home'), ('Back', 'Back to previous …"
      ]
     },
     "metadata": {},
     "output_type": "display_data"
    }
   ],
   "source": [
    "%matplotlib widget\n",
    "_, ax = plt.subplots(1,1)\n",
    "dic_grid.t = 0.2\n",
    "dic_grid.plot_load_deflection(ax)"
   ]
  },
  {
   "cell_type": "markdown",
   "id": "f39bbea5-6cbd-4c36-9199-f796fb340a2d",
   "metadata": {},
   "source": [
    "**Remark**: Correct the scaling - t should be between the min max values of the load"
   ]
  },
  {
   "cell_type": "code",
   "execution_count": 31,
   "id": "96b8cecc-caa4-4882-9972-69bdaaa156c6",
   "metadata": {},
   "outputs": [
    {
     "data": {
      "application/vnd.jupyter.widget-view+json": {
       "model_id": "d135457548894ea1b1e76ecb594c58d9",
       "version_major": 2,
       "version_minor": 0
      },
      "image/png": "[encoded data removed]",
      "text/html": [
       "\n",
       "            <div style=\"display: inline-block;\">\n",
       "                <div class=\"jupyter-widgets widget-label\" style=\"text-align: center;\">\n",
       "                    Figure\n",
       "                </div>\n",
       "                <img src='data:image/png;base64,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' width=640.0/>\n",
       "            </div>\n",
       "        "
      ],
      "text/plain": [
       "Canvas(toolbar=Toolbar(toolitems=[('Home', 'Reset original view', 'home', 'home'), ('Back', 'Back to previous …"
      ]
     },
     "metadata": {},
     "output_type": "display_data"
    }
   ],
   "source": [
    "_, ax = plt.subplots(1,1)\n",
    "dic_grid.plot_grid(ax)"
   ]
  },
  {
   "cell_type": "code",
   "execution_count": 32,
   "id": "0658eac6-6fec-4370-971f-8056328c20ff",
   "metadata": {},
   "outputs": [
    {
     "data": {
      "application/vnd.jupyter.widget-view+json": {
       "model_id": "494348326c9244e69ac7a9413d3cd70b",
       "version_major": 2,
       "version_minor": 0
      },
      "image/png": "[encoded data removed]",
      "text/html": [
       "\n",
       "            <div style=\"display: inline-block;\">\n",
       "                <div class=\"jupyter-widgets widget-label\" style=\"text-align: center;\">\n",
       "                    Figure\n",
       "                </div>\n",
       "                <img src='data:image/png;base64,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' width=640.0/>\n",
       "            </div>\n",
       "        "
      ],
      "text/plain": [
       "Canvas(toolbar=Toolbar(toolitems=[('Home', 'Reset original view', 'home', 'home'), ('Back', 'Back to previous …"
      ]
     },
     "metadata": {},
     "output_type": "display_data"
    }
   ],
   "source": [
    "_, ax = plt.subplots(1,1)\n",
    "dic_grid.plot_bounding_box(ax)\n",
    "dic_grid.plot_box_annotate(ax)\n",
    "ax.set_aspect('equal')"
   ]
  },
  {
   "cell_type": "code",
   "execution_count": null,
   "id": "f92a502e-8e7c-44ca-bed5-d71f6e012849",
   "metadata": {},
   "outputs": [],
   "source": []
  }
 ],
 "metadata": {
  "kernelspec": {
   "display_name": "bmcs_env",
   "language": "python",
   "name": "bmcs_env"
  },
  "language_info": {
   "codemirror_mode": {
    "name": "ipython",
    "version": 3
   },
   "file_extension": ".py",
   "mimetype": "text/x-python",
   "name": "python",
   "nbconvert_exporter": "python",
   "pygments_lexer": "ipython3",
   "version": "3.9.0"
  }
 },
 "nbformat": 4,
 "nbformat_minor": 5
}
