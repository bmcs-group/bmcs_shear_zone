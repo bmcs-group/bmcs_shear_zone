{
 "cells": [
  {
   "cell_type": "code",
   "execution_count": 1,
   "id": "2212c080-90f1-4691-9995-1e6b80afbccd",
   "metadata": {},
   "outputs": [],
   "source": [
    "%matplotlib widget"
   ]
  },
  {
   "cell_type": "code",
   "execution_count": 2,
   "id": "bc0f416f-c31d-4d59-a67a-1fa73fb80a02",
   "metadata": {},
   "outputs": [],
   "source": [
    "from dic_grid import DICGrid"
   ]
  },
  {
   "cell_type": "code",
   "execution_count": 5,
   "id": "1a06b62b-35da-4100-895d-5a693f1560a3",
   "metadata": {},
   "outputs": [],
   "source": [
    "dic_grid = DICGrid(n_x=59, n_y=15, d_x=22, d_y=22,\n",
    "                   start_t=0, end_t=-1, U_factor=100, dir_name='B1_TV1', grid_column_first=False, \n",
    "                   grid_number_vertical=False)"
   ]
  },
  {
   "cell_type": "code",
   "execution_count": 6,
   "id": "8ae2d074-f88c-46e5-91f2-ed958d9d8b18",
   "metadata": {},
   "outputs": [
    {
     "data": {
      "application/vnd.jupyter.widget-view+json": {
       "model_id": "4549c1d3c19a4d49afcee84c7f5424dc",
       "version_major": 2,
       "version_minor": 0
      },
      "text/plain": [
       "VBox(children=(HBox(children=(VBox(children=(Tree(layout=Layout(align_items='stretch', border='solid 1px black…"
      ]
     },
     "metadata": {},
     "output_type": "display_data"
    }
   ],
   "source": [
    "dic_grid.interact()"
   ]
  },
  {
   "cell_type": "code",
   "execution_count": null,
   "id": "a5019977-d3cf-476e-bf72-a9ff7a313557",
   "metadata": {},
   "outputs": [],
   "source": []
  }
 ],
 "metadata": {
  "kernelspec": {
   "display_name": "bmcs_env",
   "language": "python",
   "name": "bmcs_env"
  },
  "language_info": {
   "codemirror_mode": {
    "name": "ipython",
    "version": 3
   },
   "file_extension": ".py",
   "mimetype": "text/x-python",
   "name": "python",
   "nbconvert_exporter": "python",
   "pygments_lexer": "ipython3",
   "version": "3.8.8"
  }
 },
 "nbformat": 4,
 "nbformat_minor": 5
}
