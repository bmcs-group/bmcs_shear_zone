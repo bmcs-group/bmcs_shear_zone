{
 "cells": [
  {
   "cell_type": "markdown",
   "id": "c99b23ab-fdec-41de-a12e-a7ec4712d7ca",
   "metadata": {},
   "source": [
    "# **Tutorial for DICGrid model component**"
   ]
  },
  {
   "cell_type": "markdown",
   "id": "230a3a0e-7463-492b-b02d-1219f002da42",
   "metadata": {},
   "source": [
    "DIC Grid serves for reading the data available as a sequence of files with displacement measurements stored in a directory, accompanied with the measured load deflection curve. It refers to the `BeamDesign` object defining the design of the reinforced beam. By combining the information from the optical measurement with statical scheme, geometry and reinforcement layout, this model component serves \n",
    "further analysis by providing the correct **load-space-time** databasis."
   ]
  },
  {
   "cell_type": "code",
   "execution_count": 1,
   "id": "2212c080-90f1-4691-9995-1e6b80afbccd",
   "metadata": {},
   "outputs": [],
   "source": [
    "%matplotlib widget"
   ]
  },
  {
   "cell_type": "markdown",
   "id": "eaabbf02-9b9f-438b-8e37-b3076396cea0",
   "metadata": {},
   "source": [
    "Let us construct a grid example and render the interactive interface showing the measured displacmeent at the maximum load $t = 1$ and with displacement amplified by a factor $U_\\mathrm{factor} = 100$. "
   ]
  },
  {
   "cell_type": "code",
   "execution_count": 2,
   "id": "bc0f416f-c31d-4d59-a67a-1fa73fb80a02",
   "metadata": {},
   "outputs": [
    {
     "data": {
      "application/vnd.jupyter.widget-view+json": {
       "model_id": "42b906525f6b4b429283e05fad92396b",
       "version_major": 2,
       "version_minor": 0
      },
      "text/plain": [
       "VBox(children=(HBox(children=(VBox(children=(Tree(layout=Layout(align_items='stretch', border='solid 1px black…"
      ]
     },
     "metadata": {},
     "output_type": "display_data"
    }
   ],
   "source": [
    "from dic_grid import DICGrid\n",
    "dic_grid = DICGrid(U_factor=100, dir_name='B7_TV1', t=1)\n",
    "dic_grid.interact()"
   ]
  },
  {
   "cell_type": "markdown",
   "id": "99769804-a5b7-48cb-b22a-b7a3c27652c9",
   "metadata": {},
   "source": [
    "Note that the orange markers denote the states with available DIC measurements performed during the history of loading."
   ]
  },
  {
   "cell_type": "markdown",
   "id": "aa0f91d7-703b-4a7d-b2b6-6872ad6ea624",
   "metadata": {},
   "source": [
    "## Read data format"
   ]
  },
  {
   "cell_type": "markdown",
   "id": "e92531b7-12a8-4673-a8b5-9f3a20db88cb",
   "metadata": {},
   "source": [
    "### Input directory structure"
   ]
  },
  {
   "cell_type": "markdown",
   "id": "2ca2c5c0-f4f0-42b9-b7eb-7f81619332e0",
   "metadata": {},
   "source": [
    "The `DICGrid` objects reads the data from a directory named as `dir_name`"
   ]
  },
  {
   "cell_type": "code",
   "execution_count": 39,
   "id": "962dfa80-8ed3-4bb5-b1a0-2af156971477",
   "metadata": {},
   "outputs": [
    {
     "data": {
      "text/plain": [
       "'B7_TV1'"
      ]
     },
     "execution_count": 39,
     "metadata": {},
     "output_type": "execute_result"
    }
   ],
   "source": [
    "dic_grid.dir_name"
   ]
  },
  {
   "cell_type": "markdown",
   "id": "e6146136-747a-407b-b5fb-ecfd92a52f25",
   "metadata": {},
   "source": [
    "The property trait `data_dir` assembles the path to the data directory using path starting in the home directory, i.e. \n",
    "\n",
    "```join(dic_grid.home_dir, 'simdb', 'data', 'shear_zone', dic_grid.dir_name)```\n",
    "\n",
    "For the current example, we obtain"
   ]
  },
  {
   "cell_type": "code",
   "execution_count": 40,
   "id": "5300dc6d-9d5c-42ef-8f65-878b0bf87e8e",
   "metadata": {},
   "outputs": [
    {
     "data": {
      "text/plain": [
       "'/home/rch/simdb/data/shear_zone/B7_TV1'"
      ]
     },
     "execution_count": 40,
     "metadata": {},
     "output_type": "execute_result"
    }
   ],
   "source": [
    "dic_grid.data_dir"
   ]
  },
  {
   "cell_type": "markdown",
   "id": "9e1999e4-2729-4bae-872d-5aa63a2434d1",
   "metadata": {},
   "source": [
    "To get the directory with the DIC data, issue "
   ]
  },
  {
   "cell_type": "code",
   "execution_count": 41,
   "id": "8aba74a2-c1ba-4627-9dfe-0f94e9f866bd",
   "metadata": {},
   "outputs": [
    {
     "data": {
      "text/plain": [
       "'/home/rch/simdb/data/shear_zone/B7_TV1/dic_data'"
      ]
     },
     "execution_count": 41,
     "metadata": {},
     "output_type": "execute_result"
    }
   ],
   "source": [
    "dic_grid.dic_data_dir"
   ]
  },
  {
   "cell_type": "markdown",
   "id": "5a106802-5c4c-4897-b285-1f89d9a54c67",
   "metadata": {},
   "source": [
    "### Load deflection response"
   ]
  },
  {
   "cell_type": "markdown",
   "id": "3dc37d7e-4923-430e-95e4-5dd5ae34057e",
   "metadata": {},
   "source": [
    "To obtain the directory with the load deflection curve, use"
   ]
  },
  {
   "cell_type": "code",
   "execution_count": 42,
   "id": "750ef745-8c1c-45b3-a316-6f4cf7cbc701",
   "metadata": {},
   "outputs": [
    {
     "data": {
      "text/plain": [
       "'/home/rch/simdb/data/shear_zone/B7_TV1/load_deflection'"
      ]
     },
     "execution_count": 42,
     "metadata": {},
     "output_type": "execute_result"
    }
   ],
   "source": [
    "dic_grid.Fw_data_dir"
   ]
  },
  {
   "cell_type": "markdown",
   "id": "2c54c63c-2c46-47cd-9dc0-95a2fb941bf9",
   "metadata": {},
   "source": [
    "### Beam parameters\n",
    "File specifying the beam parameters is assessed using the property traits `beam_param_fie` and is named `beam_params.txt` by default"
   ]
  },
  {
   "cell_type": "code",
   "execution_count": 54,
   "id": "4b965bc5-9dbe-46f7-8de6-d26f4f5f94b2",
   "metadata": {},
   "outputs": [
    {
     "data": {
      "text/plain": [
       "'/home/rch/simdb/data/shear_zone/B7_TV1/beam_params.txt'"
      ]
     },
     "execution_count": 54,
     "metadata": {},
     "output_type": "execute_result"
    }
   ],
   "source": [
    "dic_grid.beam_param_file"
   ]
  },
  {
   "cell_type": "markdown",
   "id": "a6dcd299-b959-45a0-94be-572fea490f3c",
   "metadata": {},
   "source": [
    "This file specifies the parameters \n",
    " - length $L$\n",
    " - width $B$\n",
    " - depth $H$\n",
    " - number of reinforcement bars $n_\\mathrm{s}$\n",
    " - vertical position of the bars $y_\\mathrm{s}$\n",
    " - diameter of the reinforcement $d_\\mathrm{s}$"
   ]
  },
  {
   "cell_type": "code",
   "execution_count": 56,
   "id": "28daca77-725e-4811-a3d8-c40517ea0687",
   "metadata": {},
   "outputs": [
    {
     "data": {
      "text/plain": [
       "{'L': float, 'B': float, 'H': float, 'n_s': float, 'y_s': float, 'd_s': float}"
      ]
     },
     "execution_count": 56,
     "metadata": {},
     "output_type": "execute_result"
    }
   ],
   "source": [
    "dic_grid.beam_param_types"
   ]
  },
  {
   "cell_type": "markdown",
   "id": "282e8742-c0c7-4476-a45d-fdf4e642a9e2",
   "metadata": {},
   "source": [
    "Currently, to setup the beam parmaters correctly, a call to `read_beam_design` must be assued using"
   ]
  },
  {
   "cell_type": "code",
   "execution_count": 48,
   "id": "c06b69b1-b2b4-4aa2-87a6-6fee9490afde",
   "metadata": {},
   "outputs": [],
   "source": [
    "dic_grid.read_beam_design()"
   ]
  },
  {
   "cell_type": "markdown",
   "id": "be27e653-3a20-4c0b-ae43-19917d099df6",
   "metadata": {},
   "source": [
    "**Note** This need should be avoided later by capturing the dependency with respect to the `data_dir` attribute. Currently, the notification mechanism does not allow this because of are further dependency links."
   ]
  },
  {
   "cell_type": "markdown",
   "id": "e07d69ca-a4cb-4f2a-b128-770c6dc5a05d",
   "metadata": {},
   "source": [
    "The beam design object is available in the attribute `sz_bd`. The type of the `RCBeamDesign` is general and specifies also the material models associated with individual material components."
   ]
  },
  {
   "cell_type": "markdown",
   "id": "54596172-70b3-4402-84ef-2f046a330b2f",
   "metadata": {},
   "source": [
    "The parameters relevant for correct configuration of the `dic_grid` within the beam design are the length and offset with respect the beam bounaries "
   ]
  },
  {
   "cell_type": "code",
   "execution_count": 53,
   "id": "1dd183a3-c645-464f-a46d-042aec9a1629",
   "metadata": {},
   "outputs": [
    {
     "data": {
      "text/plain": [
       "(1254.0, 286.0)"
      ]
     },
     "execution_count": 53,
     "metadata": {},
     "output_type": "execute_result"
    }
   ],
   "source": [
    "dic_grid.L_x, dic_grid.L_y"
   ]
  },
  {
   "cell_type": "markdown",
   "id": "09cb23de-6103-45e5-89c6-e6adcafcd0a6",
   "metadata": {},
   "source": [
    "### Grid parameters"
   ]
  },
  {
   "cell_type": "markdown",
   "id": "ae307d58-6a02-475c-a9c5-26572eb089e6",
   "metadata": {},
   "source": [
    "File specifying the grid data parameters is accessed using the property trait `grid_param_file` and is named\n",
    "`grid_params.txt` by default."
   ]
  },
  {
   "cell_type": "code",
   "execution_count": 44,
   "id": "ae5beab6-8e88-44d2-ac31-0c3b9e12762d",
   "metadata": {},
   "outputs": [
    {
     "data": {
      "text/plain": [
       "'/home/rch/simdb/data/shear_zone/B7_TV1/dic_data/grid_params.txt'"
      ]
     },
     "execution_count": 44,
     "metadata": {},
     "output_type": "execute_result"
    }
   ],
   "source": [
    "dic_grid.grid_param_file"
   ]
  },
  {
   "cell_type": "markdown",
   "id": "f0e87f75-a8e2-470c-aaf2-63bedbe8f455",
   "metadata": {},
   "source": [
    "This file contains the name-value pairs of the attributes defined by the `grid_param_types` dictionary"
   ]
  },
  {
   "cell_type": "code",
   "execution_count": 45,
   "id": "6fd25971-7b81-435d-b10c-177b6e88dba6",
   "metadata": {},
   "outputs": [
    {
     "data": {
      "text/plain": [
       "{'n_x': int,\n",
       " 'n_y': int,\n",
       " 'd_x': float,\n",
       " 'd_y': float,\n",
       " 'x_offset': float,\n",
       " 'y_offset': float,\n",
       " 'column_first_enum': <function dic_grid.convert_to_bool(str_bool)>,\n",
       " 'top_down_enum': <function dic_grid.convert_to_bool(str_bool)>}"
      ]
     },
     "execution_count": 45,
     "metadata": {},
     "output_type": "execute_result"
    }
   ],
   "source": [
    "dic_grid.grid_param_types"
   ]
  },
  {
   "cell_type": "markdown",
   "id": "f6f3d5b2-2071-4903-b46f-1952bd3c7d76",
   "metadata": {},
   "source": [
    "Thus, the `grid_params` of the current test `B7_TV1` read"
   ]
  },
  {
   "cell_type": "code",
   "execution_count": 23,
   "id": "5d3c5390-8b75-4834-a2b8-cb6042d63f94",
   "metadata": {},
   "outputs": [
    {
     "data": {
      "text/plain": [
       "{'n_x': 58,\n",
       " 'n_y': 14,\n",
       " 'd_x': 22.0,\n",
       " 'd_y': 22.0,\n",
       " 'x_offset': 12.0,\n",
       " 'y_offset': 21.0,\n",
       " 'column_first_enum': False,\n",
       " 'top_down_enum': False}"
      ]
     },
     "execution_count": 23,
     "metadata": {},
     "output_type": "execute_result"
    }
   ],
   "source": [
    "dic_grid.grid_params"
   ]
  },
  {
   "cell_type": "markdown",
   "id": "4c5614f4-1f23-4543-9e23-9c6fb6296d2b",
   "metadata": {},
   "source": [
    "The DIC data files corresponding to each measured step are assembled in the string list `files` "
   ]
  },
  {
   "cell_type": "markdown",
   "id": "4193efd3-5c0f-4845-a236-fa53e88e0daf",
   "metadata": {},
   "source": [
    "These parameters are available as properties and can be accessed via"
   ]
  },
  {
   "cell_type": "code",
   "execution_count": 24,
   "id": "6c9afdc7-42c7-4988-b66e-547b28009e67",
   "metadata": {},
   "outputs": [
    {
     "data": {
      "text/plain": [
       "(58, 14, 22.0, 22.0, 12.0, 21.0)"
      ]
     },
     "execution_count": 24,
     "metadata": {},
     "output_type": "execute_result"
    }
   ],
   "source": [
    "dic_grid.n_I, dic_grid.n_J, dic_grid.d_x, dic_grid.d_y, dic_grid.x_offset, dic_grid.y_offset"
   ]
  },
  {
   "cell_type": "markdown",
   "id": "64d64491-1ac4-47d4-a4dc-bbc017fa9183",
   "metadata": {},
   "source": [
    "Note that the naming of properties follows the mathematical indexing convention with $I$, $J$ representing the horizontal and vertical node indexes, respectively. Correspondingly, $n_I$ and $n_J$ denotes the number of horizontal and vertical nodes, respectively. "
   ]
  },
  {
   "cell_type": "markdown",
   "id": "bd1bf301-cfbe-459f-bf7c-a35414eed761",
   "metadata": {},
   "source": [
    "To position the DIC frame into the beam, the beam parameters and grid parameters are combined to obtain the coordinates of the \n",
    "bottom left and top right corners within the beam in the order $X_\\mathrm{frame} = (x_\\min, y_\\min, x_\\max, y_\\max)$"
   ]
  },
  {
   "cell_type": "code",
   "execution_count": 58,
   "id": "b0eac96d-30b5-4edb-8bd9-e1a255ae38b1",
   "metadata": {},
   "outputs": [
    {
     "data": {
      "text/plain": [
       "(12.0, 21.0, 1266.0, 307.0)"
      ]
     },
     "execution_count": 58,
     "metadata": {},
     "output_type": "execute_result"
    }
   ],
   "source": [
    "dic_grid.X_frame"
   ]
  },
  {
   "cell_type": "code",
   "execution_count": 59,
   "id": "44f6ab82-0fdf-45c2-9f8d-9192a7f77438",
   "metadata": {},
   "outputs": [
    {
     "data": {
      "text/plain": [
       "['/home/rch/simdb/data/shear_zone/B7_TV1/dic_data/Step_01_Load_000_KN.csv',\n",
       " '/home/rch/simdb/data/shear_zone/B7_TV1/dic_data/Step_02_Load_015_KN.csv',\n",
       " '/home/rch/simdb/data/shear_zone/B7_TV1/dic_data/Step_03_Load_025_KN.csv',\n",
       " '/home/rch/simdb/data/shear_zone/B7_TV1/dic_data/Step_04_Load_037_KN.csv',\n",
       " '/home/rch/simdb/data/shear_zone/B7_TV1/dic_data/Step_05_Load_050_KN.csv',\n",
       " '/home/rch/simdb/data/shear_zone/B7_TV1/dic_data/Step_06_Load_065_KN.csv',\n",
       " '/home/rch/simdb/data/shear_zone/B7_TV1/dic_data/Step_07_Load_075_KN.csv',\n",
       " '/home/rch/simdb/data/shear_zone/B7_TV1/dic_data/Step_08_Load_085_KN.csv',\n",
       " '/home/rch/simdb/data/shear_zone/B7_TV1/dic_data/Step_09_Load_100_KN.csv',\n",
       " '/home/rch/simdb/data/shear_zone/B7_TV1/dic_data/Step_10_Load_112_KN.csv',\n",
       " '/home/rch/simdb/data/shear_zone/B7_TV1/dic_data/Step_11_Load_125_KN.csv',\n",
       " '/home/rch/simdb/data/shear_zone/B7_TV1/dic_data/Step_12_Load_123_KN.csv',\n",
       " '/home/rch/simdb/data/shear_zone/B7_TV1/dic_data/Step_13_Load_122_KN.csv',\n",
       " '/home/rch/simdb/data/shear_zone/B7_TV1/dic_data/Step_14_Load_128_KN.csv',\n",
       " '/home/rch/simdb/data/shear_zone/B7_TV1/dic_data/Step_15_Load_134_KN.csv',\n",
       " '/home/rch/simdb/data/shear_zone/B7_TV1/dic_data/Step_16_Load_129_KN.csv',\n",
       " '/home/rch/simdb/data/shear_zone/B7_TV1/dic_data/Step_17_Load_127.761_KN.csv',\n",
       " '/home/rch/simdb/data/shear_zone/B7_TV1/dic_data/Step_18_Load_127.456_KN.csv',\n",
       " '/home/rch/simdb/data/shear_zone/B7_TV1/dic_data/Step_19_Load_126.940_KN.csv',\n",
       " '/home/rch/simdb/data/shear_zone/B7_TV1/dic_data/Step_20_Load_126.814_KN.csv',\n",
       " '/home/rch/simdb/data/shear_zone/B7_TV1/dic_data/Step_21_Load_135_KN.csv',\n",
       " '/home/rch/simdb/data/shear_zone/B7_TV1/dic_data/Step_22_Load_141.631_KN.csv',\n",
       " '/home/rch/simdb/data/shear_zone/B7_TV1/dic_data/Step_23_Load_145.859_KN.csv',\n",
       " '/home/rch/simdb/data/shear_zone/B7_TV1/dic_data/Step_24_Load_149.543_KN.csv',\n",
       " '/home/rch/simdb/data/shear_zone/B7_TV1/dic_data/Step_25_Load_150.105_KN.csv',\n",
       " '/home/rch/simdb/data/shear_zone/B7_TV1/dic_data/Step_26_Load_149.799_KN.csv']"
      ]
     },
     "execution_count": 59,
     "metadata": {},
     "output_type": "execute_result"
    }
   ],
   "source": [
    "dic_grid.files"
   ]
  },
  {
   "cell_type": "markdown",
   "id": "bfc5cf75-c2f1-4669-b135-f15dd9fcfc8c",
   "metadata": {},
   "source": [
    "Note that the `CSV` files are named according to the scheme specifying their load levels"
   ]
  },
  {
   "cell_type": "markdown",
   "id": "048aaeca-30b8-4211-abe7-9ae75715e422",
   "metadata": {},
   "source": [
    "## Time data"
   ]
  },
  {
   "cell_type": "markdown",
   "id": "25e9cfc9-d1d7-495f-af3c-fac49bcacd21",
   "metadata": {},
   "source": [
    "The load `F` corresponding to each history index `T` is provided in the `F_DIC_T` property."
   ]
  },
  {
   "cell_type": "code",
   "execution_count": 60,
   "id": "3cd547a8-f004-46c9-b09f-c04cc2508946",
   "metadata": {},
   "outputs": [
    {
     "data": {
      "text/plain": [
       "array([  0.   ,  15.   ,  25.   ,  37.   ,  50.   ,  65.   ,  75.   ,\n",
       "        85.   , 100.   , 112.   , 125.   , 123.   , 122.   , 128.   ,\n",
       "       134.   , 129.   , 127.761, 127.456, 126.94 , 126.814, 135.   ,\n",
       "       141.631, 145.859, 149.543, 150.105, 149.799])"
      ]
     },
     "execution_count": 60,
     "metadata": {},
     "output_type": "execute_result"
    }
   ],
   "source": [
    "dic_grid.F_DIC_T"
   ]
  },
  {
   "cell_type": "markdown",
   "id": "6570045c-3b0d-4a0b-90fd-66fad73af884",
   "metadata": {},
   "source": [
    "The index corresponding to the maximum load `F` is accessed via"
   ]
  },
  {
   "cell_type": "code",
   "execution_count": 68,
   "id": "996ffbaf-bea0-4988-bee7-bdf266929697",
   "metadata": {},
   "outputs": [
    {
     "data": {
      "text/plain": [
       "(24, 150.105)"
      ]
     },
     "execution_count": 68,
     "metadata": {},
     "output_type": "execute_result"
    }
   ],
   "source": [
    "argmax_T = dic_grid.argmax_F_dic_T\n",
    "argmax_T, dic_grid.F_DIC_T[argmax_T]"
   ]
  },
  {
   "cell_type": "markdown",
   "id": "0c66728a-8e0d-47a8-b1c0-ac5f80397e3a",
   "metadata": {},
   "source": [
    "Following the naming convention `n_` as number of something, the number of DIC snapshots is also named as `n_dic_T`"
   ]
  },
  {
   "cell_type": "code",
   "execution_count": 69,
   "id": "98571e07-75f2-488c-a8b9-9cd0cb00e88d",
   "metadata": {},
   "outputs": [
    {
     "data": {
      "text/plain": [
       "24"
      ]
     },
     "execution_count": 69,
     "metadata": {},
     "output_type": "execute_result"
    }
   ],
   "source": [
    "dic_grid.n_dic_T"
   ]
  },
  {
   "cell_type": "markdown",
   "id": "f5b92092-bb04-41d3-a9ef-41807843f325",
   "metadata": {},
   "source": [
    "History up to the peak load is distinguished by using lowercase `dic` in the property name  "
   ]
  },
  {
   "cell_type": "code",
   "execution_count": 71,
   "id": "b6011f5b-730d-4818-9e69-ea3e09144af6",
   "metadata": {},
   "outputs": [
    {
     "data": {
      "text/plain": [
       "array([  0.   ,  15.   ,  25.   ,  37.   ,  50.   ,  65.   ,  75.   ,\n",
       "        85.   , 100.   , 112.   , 125.   , 123.   , 122.   , 128.   ,\n",
       "       134.   , 129.   , 127.761, 127.456, 126.94 , 126.814, 135.   ,\n",
       "       141.631, 145.859, 149.543, 150.105])"
      ]
     },
     "execution_count": 71,
     "metadata": {},
     "output_type": "execute_result"
    }
   ],
   "source": [
    "dic_grid.F_dic_T"
   ]
  },
  {
   "cell_type": "markdown",
   "id": "584b2910-e4b3-456b-b6e6-14be6965d611",
   "metadata": {},
   "source": [
    "An instance of `dic_grid` keeps track of the current time $t \\in (0, 1)$ with 0 \n",
    "and 1 representing the states with zero and maximum force, respectively. Thus, by setting"
   ]
  },
  {
   "cell_type": "code",
   "execution_count": 73,
   "id": "0a8e9c7a-899e-4e46-b2c1-7d4fa08be6d4",
   "metadata": {},
   "outputs": [],
   "source": [
    "dic_grid.t = 0.5"
   ]
  },
  {
   "cell_type": "markdown",
   "id": "348cbc0d-af58-4855-a722-988f49c6689e",
   "metadata": {},
   "source": [
    "The grid will return displacement and position values corresponding to the half of the maximum load. When setting the value of $t$, the value of `T1` denoting the history index will be adapted automateically, i.e."
   ]
  },
  {
   "cell_type": "code",
   "execution_count": 83,
   "id": "78f2f3f9-4d54-40e3-a889-e791ae8e17db",
   "metadata": {},
   "outputs": [
    {
     "data": {
      "text/plain": [
       "(0, 11)"
      ]
     },
     "execution_count": 83,
     "metadata": {},
     "output_type": "execute_result"
    }
   ],
   "source": [
    "dic_grid.T0, dic_grid.T1"
   ]
  },
  {
   "cell_type": "markdown",
   "id": "604ce804-7b35-4dd4-a38a-e534ee322c46",
   "metadata": {},
   "source": [
    "**Remark** Consider change `T1` to `T` and `n_dic_T` to `T1`"
   ]
  },
  {
   "cell_type": "markdown",
   "id": "e83b3a81-34fc-4355-9f3e-9c808c7e3036",
   "metadata": {},
   "source": [
    "## Grid data"
   ]
  },
  {
   "cell_type": "markdown",
   "id": "54f905eb-9f84-443e-ac2d-8430f78d2f08",
   "metadata": {},
   "source": [
    "The initial positions of the grid markers denoted as $X_{0IJa}$ is obtained from the `grid_params`. The initial position of the \n",
    "bottom left corner must match the values of the offset specified above in the $X_\\mathrm{frame}$. Let us verify that this feature is provided by printing the values of `X_0IJa[0,0,:]` and `X_0IJa[-1,-1,:]`."
   ]
  },
  {
   "cell_type": "code",
   "execution_count": 89,
   "id": "2054928d-affb-483e-a859-00f39bef837c",
   "metadata": {},
   "outputs": [
    {
     "data": {
      "text/plain": [
       "((12.0, 21.0, 1266.0, 307.0), array([12., 21.]), array([1266.,  307.]))"
      ]
     },
     "execution_count": 89,
     "metadata": {},
     "output_type": "execute_result"
    }
   ],
   "source": [
    "dic_grid.X_frame, dic_grid.X_IJa[0, 0, :], dic_grid.X_IJa[-1, -1, :]"
   ]
  },
  {
   "cell_type": "markdown",
   "id": "c431909b-0439-411a-a78f-a3c7d73db1d4",
   "metadata": {},
   "source": [
    "All files are read into the memory at once. This might be improvied in the future using the zipped binary `numpy` file management to save memory during processing."
   ]
  },
  {
   "cell_type": "markdown",
   "id": "4a916007-d346-4dd0-a380-277b29ddae45",
   "metadata": {},
   "source": [
    "The displacements of the grid nodes are stored in a four-dimensional array \n",
    "$U_{TIJa}$ with the indexes denoting the history index $T$, horizontal \n",
    "node index $I$, vertical index $J$, and the dimension index $a \\in (0,1) = (x,y)$.\n",
    "Thus, the displacement at the fifteenth step of the left bottom corner node\n",
    "in both directions can be obtained as"
   ]
  },
  {
   "cell_type": "code",
   "execution_count": 90,
   "id": "ad785aa7-2d3e-4c95-a228-16e6bd87061e",
   "metadata": {},
   "outputs": [
    {
     "data": {
      "text/plain": [
       "array([ 0.979, -3.943])"
      ]
     },
     "execution_count": 90,
     "metadata": {},
     "output_type": "execute_result"
    }
   ],
   "source": [
    "dic_grid.U_TIJa[13, 40, 0, :]"
   ]
  },
  {
   "cell_type": "markdown",
   "id": "9609bc19-aa39-49c2-8204-fb479bc1d9fc",
   "metadata": {},
   "source": [
    "In analogy to the displacmenets, the positions at an intermediate state can be accessed a four-dimensional array $X_{TIJa}$"
   ]
  },
  {
   "cell_type": "code",
   "execution_count": 92,
   "id": "ebfb4089-4023-48c3-91da-ed0fa268990f",
   "metadata": {},
   "outputs": [
    {
     "data": {
      "text/plain": [
       "array([[[  12.,   21.],\n",
       "        [  12.,   43.],\n",
       "        [  12.,   65.],\n",
       "        ...,\n",
       "        [  12.,  263.],\n",
       "        [  12.,  285.],\n",
       "        [  12.,  307.]],\n",
       "\n",
       "       [[  34.,   21.],\n",
       "        [  34.,   43.],\n",
       "        [  34.,   65.],\n",
       "        ...,\n",
       "        [  34.,  263.],\n",
       "        [  34.,  285.],\n",
       "        [  34.,  307.]],\n",
       "\n",
       "       [[  56.,   21.],\n",
       "        [  56.,   43.],\n",
       "        [  56.,   65.],\n",
       "        ...,\n",
       "        [  56.,  263.],\n",
       "        [  56.,  285.],\n",
       "        [  56.,  307.]],\n",
       "\n",
       "       ...,\n",
       "\n",
       "       [[1222.,   21.],\n",
       "        [1222.,   43.],\n",
       "        [1222.,   65.],\n",
       "        ...,\n",
       "        [1222.,  263.],\n",
       "        [1222.,  285.],\n",
       "        [1222.,  307.]],\n",
       "\n",
       "       [[1244.,   21.],\n",
       "        [1244.,   43.],\n",
       "        [1244.,   65.],\n",
       "        ...,\n",
       "        [1244.,  263.],\n",
       "        [1244.,  285.],\n",
       "        [1244.,  307.]],\n",
       "\n",
       "       [[1266.,   21.],\n",
       "        [1266.,   43.],\n",
       "        [1266.,   65.],\n",
       "        ...,\n",
       "        [1266.,  263.],\n",
       "        [1266.,  285.],\n",
       "        [1266.,  307.]]])"
      ]
     },
     "execution_count": 92,
     "metadata": {},
     "output_type": "execute_result"
    }
   ],
   "source": [
    "dic_grid.X_TIJa[13, 40, 0, :]"
   ]
  },
  {
   "cell_type": "code",
   "execution_count": null,
   "id": "a034b75a-6718-4cb0-b2c0-c14cc2007345",
   "metadata": {},
   "outputs": [],
   "source": []
  }
 ],
 "metadata": {
  "kernelspec": {
   "display_name": "bmcs_env",
   "language": "python",
   "name": "bmcs_env"
  },
  "language_info": {
   "codemirror_mode": {
    "name": "ipython",
    "version": 3
   },
   "file_extension": ".py",
   "mimetype": "text/x-python",
   "name": "python",
   "nbconvert_exporter": "python",
   "pygments_lexer": "ipython3",
   "version": "3.9.0"
  }
 },
 "nbformat": 4,
 "nbformat_minor": 5
}
