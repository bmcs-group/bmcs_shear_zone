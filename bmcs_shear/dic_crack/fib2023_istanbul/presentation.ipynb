{
 "cells": [
  {
   "cell_type": "code",
   "execution_count": null,
   "id": "eba661e0-2a48-4328-a4b7-39e8d87168b4",
   "metadata": {},
   "outputs": [],
   "source": [
    "%matplotlib widget\n",
    "import ibvpy.api as ib\n",
    "import matplotlib.pylab as plt\n",
    "from matplotlib import cm\n",
    "from bmcs_shear.dic_crack import\\\n",
    "    DICGrid, DICInpUnstructuredPoints, DICStateFields, \\\n",
    "    DICAlignedGrid, DICGrid\n",
    "from bmcs_shear.dic_crack.dic_crack_list import DICCrackList\n",
    "import numpy as np\n",
    "np.seterr(divide ='ignore', invalid='ignore');"
   ]
  },
  {
   "cell_type": "code",
   "execution_count": null,
   "id": "5538fdb4-97da-4e81-8a48-7e31687c5976",
   "metadata": {},
   "outputs": [],
   "source": [
    "from bmcs_shear.dic_crack import sz_tests_series_2023"
   ]
  },
  {
   "cell_type": "code",
   "execution_count": null,
   "id": "7e6c94ea-53ec-464e-adcd-6d4c5e08d65d",
   "metadata": {},
   "outputs": [],
   "source": [
    "test = sz_tests_series_2023.B9_TV2\n",
    "dic_points = DICInpUnstructuredPoints(**test)\n",
    "dic_points.read_beam_design()\n",
    "dic_grid = DICGrid(dic_inp=dic_points, **test)"
   ]
  },
  {
   "cell_type": "code",
   "execution_count": null,
   "id": "52d7d772-8e26-4c73-8830-87eb4b457cf0",
   "metadata": {},
   "outputs": [],
   "source": [
    "dsf = DICStateFields(dic_grid=dic_grid, R=5, omega_threshold=0.2, verbose_eval=True, tmodel='scalar_damage')\n",
    "dsf.tmodel_.trait_set(E=1600, nu=0.18, omega_fn='exp-slope', strain_norm='Rankine', eps_max=0.01)\n",
    "dsf.tmodel_.omega_fn_.trait_set(kappa_0=0.002, kappa_f=0.003);"
   ]
  },
  {
   "cell_type": "code",
   "execution_count": null,
   "id": "843fbe88-f411-49e4-9e5c-be1077a4695b",
   "metadata": {},
   "outputs": [],
   "source": [
    "dsf.interact()"
   ]
  },
  {
   "cell_type": "code",
   "execution_count": null,
   "id": "2dc87ed0-6580-43a4-998c-4641dac2d399",
   "metadata": {},
   "outputs": [],
   "source": []
  },
  {
   "cell_type": "code",
   "execution_count": null,
   "id": "ef04e7be-b132-4db6-9b36-759799d1c710",
   "metadata": {},
   "outputs": [],
   "source": [
    "%matplotlib widget\n",
    "fig, ax_eps = plt.subplots(1,1)\n",
    "X_fe_KLa = self.X_fe_KLa\n",
    "# strain fields\n",
    "eps_Emab, eps_MNab, eps_MNa, max_eps_MN = dsf.eps_fe_fields\n",
    "# plot\n",
    "dsf.plot_eps_field(ax_eps, fig)\n"
   ]
  },
  {
   "cell_type": "code",
   "execution_count": null,
   "id": "eeb4f6f3-fe33-4a50-a1b2-db98ae887bdc",
   "metadata": {},
   "outputs": [],
   "source": [
    "%matplotlib widget\n",
    "fig, ax_sig = plt.subplots(1,1)\n",
    "\n",
    "self = dsf\n",
    "# spatial coordinates\n",
    "X_fe_KLa = self.X_fe_KLa\n",
    "#        X_fe_aKL = np.einsum('MNa->aMN', X_fe_KLa)\n",
    "# strain fields\n",
    "eps_Emab, eps_MNab, eps_MNa, max_eps_MN = self.eps_fe_fields\n",
    "# stress fields\n",
    "sig_Emab, sig_MNab, sig_MNa, max_sig_MN = self.sig_fe_fields\n",
    "# damage field\n",
    "omega_fe_KL = self.omega_fe_KL\n",
    "# plot\n",
    "self.plot_sig_field(ax_sig, fig)"
   ]
  },
  {
   "cell_type": "code",
   "execution_count": null,
   "id": "6f1960ea-5490-41a9-ba85-7d901f618bd5",
   "metadata": {},
   "outputs": [],
   "source": [
    "%matplotlib widget\n",
    "fig, ax_sig_eps = plt.subplots(1,1)\n",
    "\n",
    "# self.dic_grid.plot_load_deflection(ax_FU)\n",
    "\n",
    "ax_sig_eps.plot(eps_MNa[..., 0].flatten(), sig_MNa[..., 0].flatten(), 'o', color='green')\n",
    "self.plot_sig_eps(ax_sig_eps)\n",
    "ax_sig_eps.legend()"
   ]
  },
  {
   "cell_type": "code",
   "execution_count": null,
   "id": "6a49f5b0-d619-4536-a011-46088df8d3fe",
   "metadata": {},
   "outputs": [],
   "source": [
    "%matplotlib widget\n",
    "fig, ax_omega = plt.subplots(1,1)\n",
    "\n",
    "dsf.plot_crack_detection_field(ax_omega, fig)\n",
    "ax_omega.axis('equal');\n",
    "ax_omega.axis('off')\n",
    "\n"
   ]
  },
  {
   "cell_type": "code",
   "execution_count": null,
   "id": "9a99fbc8-d330-4870-936f-944b99519c40",
   "metadata": {},
   "outputs": [],
   "source": []
  }
 ],
 "metadata": {
  "kernelspec": {
   "display_name": "bmcs_env2",
   "language": "python",
   "name": "bmcs_env2"
  },
  "language_info": {
   "codemirror_mode": {
    "name": "ipython",
    "version": 3
   },
   "file_extension": ".py",
   "mimetype": "text/x-python",
   "name": "python",
   "nbconvert_exporter": "python",
   "pygments_lexer": "ipython3"
  }
 },
 "nbformat": 4,
 "nbformat_minor": 5
}
