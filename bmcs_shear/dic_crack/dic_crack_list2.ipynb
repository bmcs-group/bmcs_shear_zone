{
 "cells": [
  {
   "cell_type": "markdown",
   "id": "bd3d7b5d-f468-4dc9-a72c-78599931be3b",
   "metadata": {},
   "source": [
    "# Crack identification procedure"
   ]
  },
  {
   "cell_type": "code",
   "execution_count": null,
   "id": "c2fe6f9d-23fd-4852-bc53-56c37bb3cd3a",
   "metadata": {},
   "outputs": [],
   "source": [
    "%matplotlib widget\n",
    "import ibvpy.api as ib\n",
    "import matplotlib.pylab as plt\n",
    "from matplotlib import cm\n",
    "from bmcs_shear.dic_crack import\\\n",
    "    DICGrid, DICInpUnstructuredPoints, DICStateFields, \\\n",
    "    DICAlignedGrid, DICGrid\n",
    "from bmcs_shear.dic_crack.dic_crack_list2 import DICCrackList\n",
    "import numpy as np\n",
    "np.seterr(divide ='ignore', invalid='ignore');"
   ]
  },
  {
   "cell_type": "code",
   "execution_count": null,
   "id": "28038bd6-953d-4154-a122-51e7732dbc10",
   "metadata": {},
   "outputs": [],
   "source": [
    "dic_points = DICInpUnstructuredPoints(U_factor=10, dir_name='B9_TV2', t=1,\n",
    "                                      n_T_max=40, T_stepping='delta_T')\n",
    "dic_points.read_beam_design()\n",
    "dic_grid = DICGrid(dic_inp=dic_points, d_x=5, d_y=5)"
   ]
  },
  {
   "cell_type": "code",
   "execution_count": null,
   "id": "bff26c59-9221-429a-93c3-a06e2e39d30d",
   "metadata": {},
   "outputs": [],
   "source": [
    "dsf = DICStateFields(dic_grid=dic_grid, R=6, omega_threshold=0.15, verbose_eval=True)\n",
    "dsf.tmodel_.trait_set(E=1400, c_T=0.006, nu=0.18, epsilon_0=0.0018,\n",
    "                      epsilon_f=0.0019, eps_max=0.01);\n",
    "dsf = DICStateFields(dic_grid=dic_grid, R=5, omega_threshold=0.15, verbose_eval=True, tmodel='scalar_damage')\n",
    "dsf.tmodel_.trait_set(E=1600, nu=0.18, omega_fn='exp-slope', strain_norm='Rankine', eps_max=0.01)\n",
    "dsf.tmodel_.omega_fn_.trait_set(kappa_0=0.002, kappa_f=0.0028);\n",
    "dcl = DICCrackList(dsf=dsf, delta_alpha_min=-np.pi/6, delta_alpha_max=np.pi/3, delta_s = 25, x_boundary=30)"
   ]
  },
  {
   "cell_type": "code",
   "execution_count": null,
   "id": "a83ecbb2-3c59-4a9b-adbd-77081eea00b1",
   "metadata": {},
   "outputs": [],
   "source": [
    "dcl.interact()"
   ]
  },
  {
   "cell_type": "code",
   "execution_count": null,
   "id": "08c5e129-1057-49d5-8394-bccfc06e4766",
   "metadata": {},
   "outputs": [],
   "source": [
    "%%capture\n",
    "\n",
    "from matplotlib import animation, rc\n",
    "from IPython.display import HTML\n",
    "from traitlets import HasTraits\n",
    "import matplotlib.gridspec as gridspec\n",
    "\n",
    "\n",
    "fig = plt.figure(figsize=(12,3))"
   ]
  },
  {
   "cell_type": "code",
   "execution_count": null,
   "id": "b7c5bad9-ebe7-42f6-8abc-6d010dd63a68",
   "metadata": {},
   "outputs": [],
   "source": [
    "class CrackListAnimator(HasTraits):\n",
    "    \n",
    "    \n",
    "    def init(self):\n",
    "        print('init')\n",
    "        n_T = dsf.dic_grid.n_T\n",
    "        self.t_dic_T = np.hstack([\n",
    "            np.linspace(0,1,n_T),\n",
    "            np.ones((int(0.5*n_T),))\n",
    "        ])\n",
    "    \n",
    "    def subplots(self, fig):\n",
    "        gs = gridspec.GridSpec(ncols=2, nrows=1,\n",
    "                               width_ratios=[3, 1],\n",
    "                               #wspace=0.5,\n",
    "                               hspace=0.5,\n",
    "                               # height_ratios=[2, 1]\n",
    "                               )\n",
    "        ax_dcl = fig.add_subplot(gs[0, 0])\n",
    "        ax_FU = fig.add_subplot(gs[0, 1])\n",
    "#        return fig.subplots(1,1)\n",
    "#        return ax_dsf#, ax_FU\n",
    "        return ax_dcl, ax_FU\n",
    "\n",
    "    def plot(self, i):\n",
    "        fig.clear()\n",
    "        t = self.t_dic_T[i]\n",
    "        print('t', t)\n",
    "        axes = self.subplots(fig)\n",
    "        dcl.dsf.dic_grid.t = t\n",
    "        \n",
    "        ax_dcl, ax_FU = axes\n",
    "#        ax_dsf = axes\n",
    "#        ax_FU = axes\n",
    "        \n",
    "        dcl.bd.plot_sz_bd(ax_dcl)\n",
    "        dcl.dsf.plot_crack_detection_field(ax_dcl, fig)\n",
    "        dcl.plot_cracking_hist2(ax_dcl)\n",
    "        dcl.critical_crack.plot_x_t_crc_Ka(ax_dcl, line_width=2, line_color='red', tip_color='red')\n",
    "        ax_dcl.axis('equal')\n",
    "        ax_dcl.axis('off');\n",
    "        dcl.dsf.dic_grid.plot_load_deflection(ax_FU)\n",
    "        \n",
    "    def mp4_video(self):\n",
    "        n_t = len(self.t_dic_T)\n",
    "        # call the animator. blit=True means only re-draw the parts that have changed.\n",
    "        anim = animation.FuncAnimation(fig, self.plot, init_func=self.init,\n",
    "                                       frames=n_t, interval=300, blit=True)\n",
    "        return anim.save(\"cracking_animation.gif\")\n",
    "    \n",
    "    def html5_video(self):\n",
    "        n_t = len(self.t_dic_T)\n",
    "        # call the animator. blit=True means only re-draw the parts that have changed.\n",
    "        anim = animation.FuncAnimation(fig, self.plot, init_func=self.init,\n",
    "                                       frames=n_t, interval=300, blit=True)\n",
    "        return anim.to_html5_video()"
   ]
  },
  {
   "cell_type": "code",
   "execution_count": null,
   "id": "6bd81d82-9e67-4588-9ef9-bc9c086bfcde",
   "metadata": {},
   "outputs": [],
   "source": [
    "# anim = CrackListAnimator()\n",
    "# anim.init()\n",
    "# anim.mp4_video()"
   ]
  },
  {
   "cell_type": "code",
   "execution_count": null,
   "id": "69239cc4-8fef-4a13-9352-a036f9e81910",
   "metadata": {},
   "outputs": [],
   "source": [
    "anim = CrackListAnimator()\n",
    "anim.init()\n",
    "with open('cracking_animation.html','w') as html_video_file:\n",
    "    html_video_file.write(anim.html5_video())"
   ]
  },
  {
   "cell_type": "code",
   "execution_count": null,
   "id": "f2c6626d-a380-4a9e-9c20-a5be24feba14",
   "metadata": {},
   "outputs": [],
   "source": [
    "html_video_file = open('cracking_animation.html','r')\n",
    "HTML(html_video_file.read())"
   ]
  },
  {
   "cell_type": "markdown",
   "id": "047fe16e-3c58-4ad8-9158-81a12db7156b",
   "metadata": {},
   "source": [
    "Given the step length $\\Delta s$ get the damage values in the distance $s$ along an angle $\\alpha_\\min, \\alpha_\\max$"
   ]
  },
  {
   "cell_type": "code",
   "execution_count": null,
   "id": "9128f2d3-ae9b-49af-a7bb-467b5cd948f5",
   "metadata": {},
   "outputs": [],
   "source": [
    "from scipy.signal import argrelextrema\n",
    "self=dcl\n",
    "n_G = 40\n",
    "###\n",
    "delta_s = 10\n",
    "delta_alpha_left = np.pi / 6\n",
    "delta_alpha_right = np.pi / 6"
   ]
  },
  {
   "cell_type": "code",
   "execution_count": null,
   "id": "115bf5b8-7dc1-41bd-8a53-d5f981ef07d7",
   "metadata": {},
   "outputs": [],
   "source": [
    "# spatial coordinates\n",
    "xx_MN, yy_MN, omega_irn_1_MN = self.dsf.omega_irn_1_MN\n",
    "# number of points to skip on the left and right side based on the x_boundary parameters\n",
    "d_x = xx_MN[1,0] - xx_MN[0,0]\n",
    "M_offset = int(self.x_boundary / d_x)\n",
    "# initial crack positions at the bottom of the zone\n",
    "M_C_with_offset = argrelextrema(omega_irn_1_MN[M_offset:-M_offset, 0], np.greater)[0]\n",
    "M_C = M_C_with_offset + M_offset\n",
    "# running and stopped cracks\n",
    "n_C = len(M_C)\n",
    "C_r = np.arange(n_C)\n",
    "# initial points\n",
    "x_C0, y_C0 = xx_MN[M_C, 0], yy_MN[M_C, 0]\n",
    "X_C0a = np.array([x_C0, y_C0]).T\n",
    "X_C0a.shape"
   ]
  },
  {
   "cell_type": "code",
   "execution_count": null,
   "id": "6de247f2-9f49-4cf2-ad73-0a25e7ec6c19",
   "metadata": {},
   "outputs": [],
   "source": [
    "def get_X_C1a(X_C0a, C_r, alpha_C0):\n",
    "    # active crack tips     \n",
    "    X_r0a = X_C0a[C_r]\n",
    "    alpha_r0a = alpha_C0[C_r]\n",
    "    # range of angles in each crack\n",
    "    alpha_min_r1 = alpha_r0a - delta_alpha_left\n",
    "    alpha_max_r1 = alpha_r0a + delta_alpha_right\n",
    "    alpha_gr1 = np.linspace(alpha_min_r1, alpha_max_r1, n_G)\n",
    "    alpha_r1g = alpha_gr1.T\n",
    "    # range of points around the crack tip\n",
    "    delta_X_agr1 = np.array([-np.sin(alpha_gr1), np.cos(alpha_gr1)]) * delta_s\n",
    "    delta_X_r1ga = np.einsum('agr->rga', delta_X_agr1)\n",
    "    # global position of candidate crack tips\n",
    "    X_r1ga = X_r0a[:, np.newaxis, :] + delta_X_r1ga\n",
    "    x_r1g, y_r1g = np.einsum('...a->a...', X_r1ga)\n",
    "    # damage values in candidate crack tips\n",
    "    t_r1g = np.ones_like(x_r1g)\n",
    "    args = (t_r1g, x_r1g, y_r1g)\n",
    "    omega_r1g = self.dsf.f_omega_irn_txy(args)\n",
    "    # index of candidate with maximum damage in each active tip \n",
    "    arg_g_omega_r1 = np.argmax(omega_r1g, axis=-1)\n",
    "    r_r = np.arange(len(arg_g_omega_r1))\n",
    "    max_omega_r1 = omega_r1g[r_r, arg_g_omega_r1]\n",
    "    alpha_r1 = alpha_r1g[r_r, arg_g_omega_r1]\n",
    "    # Update active crack tips\n",
    "    C_C = np.arange(len(X_C0a))\n",
    "    r_running = np.where(max_omega_r1 > 0.1)\n",
    "    C_r = C_C[C_r[r_running]]\n",
    "    # new crack tip\n",
    "    X_r1a = X_r1ga[r_r, arg_g_omega_r1]\n",
    "    X_C1a = np.copy(X_C0a)\n",
    "    X_C1a[C_r] = X_r1a[r_running]\n",
    "    alpha_C1 = np.copy(alpha_C0)\n",
    "    alpha_C1[C_r] = alpha_r1[r_running]\n",
    "    return X_C1a, C_r, alpha_C1"
   ]
  },
  {
   "cell_type": "code",
   "execution_count": null,
   "id": "fd212726-1d65-44f8-b402-8fe547aa84c7",
   "metadata": {},
   "outputs": [],
   "source": [
    "X_KCa_ = [X_C0a]\n",
    "alpha_C0 = np.zeros((len(X_C0a),))\n",
    "while len(C_r) > 0:\n",
    "    X_C1a, C_r, alpha_C0 = get_X_C1a(X_C0a, C_r, alpha_C0)\n",
    "    X_KCa_.append(X_C1a)\n",
    "    X_C0a = X_C1a\n",
    "X_KCa = np.array(X_KCa_);"
   ]
  },
  {
   "cell_type": "code",
   "execution_count": null,
   "id": "ab5c4724-c30e-4aaf-ae99-3cedb8df7d34",
   "metadata": {},
   "outputs": [],
   "source": [
    "%matplotlib widget\n",
    "fig, ax = plt.subplots(1,1,figsize=(8,2.5))\n",
    "T = -1\n",
    "x_MN, y_MN = np.einsum('...a->a...', dsf.X_ipl_MNa)\n",
    "contour_levels = np.linspace(0,1,10)\n",
    "ax.contourf( x_MN, y_MN, dsf.omega_irn_TMN[T], contour_levels, cmap='BuPu')\n",
    "\n",
    "X_aCK = np.einsum('KCa->aKC', X_KCa)\n",
    "ax.plot(*X_aCK, 'o-', color='orange');\n",
    "ax.axis('equal');\n",
    "ax.axis('off');"
   ]
  },
  {
   "cell_type": "code",
   "execution_count": null,
   "id": "eb62ac92-76ce-4c19-91e9-70012e7ec55b",
   "metadata": {},
   "outputs": [],
   "source": []
  },
  {
   "cell_type": "code",
   "execution_count": null,
   "id": "26bc8e01-d422-4da7-86d2-4fd30c4dcb52",
   "metadata": {},
   "outputs": [],
   "source": []
  }
 ],
 "metadata": {
  "kernelspec": {
   "display_name": "bmcs_env2",
   "language": "python",
   "name": "bmcs_env2"
  },
  "language_info": {
   "codemirror_mode": {
    "name": "ipython",
    "version": 3
   },
   "file_extension": ".py",
   "mimetype": "text/x-python",
   "name": "python",
   "nbconvert_exporter": "python",
   "pygments_lexer": "ipython3"
  }
 },
 "nbformat": 4,
 "nbformat_minor": 5
}
