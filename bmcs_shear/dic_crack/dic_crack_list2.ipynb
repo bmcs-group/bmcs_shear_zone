{
 "cells": [
  {
   "cell_type": "markdown",
   "id": "bd3d7b5d-f468-4dc9-a72c-78599931be3b",
   "metadata": {},
   "source": [
    "# Crack identification procedure"
   ]
  },
  {
   "cell_type": "code",
   "execution_count": null,
   "id": "c2fe6f9d-23fd-4852-bc53-56c37bb3cd3a",
   "metadata": {},
   "outputs": [],
   "source": [
    "%matplotlib widget\n",
    "import ibvpy.api as ib\n",
    "import matplotlib.pylab as plt\n",
    "from matplotlib import cm\n",
    "from bmcs_shear.dic_crack import\\\n",
    "    DICGrid, DICInpUnstructuredPoints, DICStateFields, \\\n",
    "    DICAlignedGrid, DICGrid\n",
    "from bmcs_shear.dic_crack.dic_crack_list2 import DICCrackList\n",
    "import numpy as np\n",
    "np.seterr(divide ='ignore', invalid='ignore');"
   ]
  },
  {
   "cell_type": "code",
   "execution_count": null,
   "id": "28038bd6-953d-4154-a122-51e7732dbc10",
   "metadata": {},
   "outputs": [],
   "source": [
    "dic_points = DICInpUnstructuredPoints(U_factor=10, dir_name='B10_TV2', t=1,\n",
    "                                      n_T_max=40, T_stepping='delta_T')\n",
    "dic_points.read_beam_design()\n",
    "dic_grid = DICGrid(dic_inp=dic_points, d_x=5, d_y=5)"
   ]
  },
  {
   "cell_type": "code",
   "execution_count": null,
   "id": "bff26c59-9221-429a-93c3-a06e2e39d30d",
   "metadata": {},
   "outputs": [],
   "source": [
    "dsf = DICStateFields(dic_grid=dic_grid, R=8, omega_threshold=0.1, verbose_eval=True, tmodel='scalar_damage')\n",
    "dsf.tmodel_.trait_set(E=1600, nu=0.18, omega_fn='exp-slope', strain_norm='Rankine', eps_max=0.01)\n",
    "dsf.tmodel_.omega_fn_.trait_set(kappa_0=0.002, kappa_f=0.0028);\n",
    "dcl = DICCrackList(dsf=dsf, delta_alpha_min=-np.pi/6, delta_alpha_max=np.pi/3, delta_s = 25, x_boundary=30)"
   ]
  },
  {
   "cell_type": "code",
   "execution_count": null,
   "id": "a83ecbb2-3c59-4a9b-adbd-77081eea00b1",
   "metadata": {},
   "outputs": [],
   "source": [
    "dcl.interact()"
   ]
  },
  {
   "cell_type": "code",
   "execution_count": null,
   "id": "c046b8b0-cfb5-4954-8bac-e947215c1714",
   "metadata": {},
   "outputs": [],
   "source": [
    "len(dcl.cracks)"
   ]
  },
  {
   "cell_type": "code",
   "execution_count": null,
   "id": "bbeafa8a-a007-4ba8-b670-ecf49acf34e9",
   "metadata": {},
   "outputs": [],
   "source": [
    "self = dcl\n",
    "# get the array of crack tips\n",
    "x_tip_1_Ca = np.array([\n",
    "    crack.X_tip_1_a for crack in self.cracks\n",
    "])\n",
    "# constract the array of vectors connecting each with each crack tip\n",
    "diff_x_tip_1_CDa = x_tip_1_Ca[np.newaxis,:,:] - x_tip_1_Ca[:, np.newaxis,:] \n",
    "# get the distances\n",
    "delta_tip_1_CD = np.linalg.norm(diff_x_tip_1_CDa, axis=-1)\n",
    "# identify close crack tips below the threshold values\n",
    "close_CD = delta_tip_1_CD < 30\n",
    "# pick up the upper diagonal, the row index is smaller than col index\n",
    "triu_row, triu_col = np.triu_indices_from(close_CD)\n",
    "# select those that are close\n",
    "close_rc = close_CD[triu_row, triu_col]\n",
    "# realize that each crack tip is close to itself so that \n",
    "# its index will definitely appear in the active list\n",
    "# Other occurrences of the same index indicate that \n",
    "# there is a close crack that needs to be skipped.\n",
    "# Thus the primary cracks can be obtained using unique\n",
    "# method of numpy specifying the unique positions, all other\n",
    "# can be skipped\n",
    "secondary_C = triu_row[close_rc] - triu_col[close_rc] < 0\n",
    "secondary_D = np.unique(triu_col[close_rc][secondary_C])\n",
    "prim_C = np.ones_like(self.cracks, dtype=np.bool_)\n",
    "prim_C[secondary_D] = False\n",
    "self.cracks[prim_C]"
   ]
  },
  {
   "cell_type": "code",
   "execution_count": null,
   "id": "90f4ccf9-7697-4c56-91c7-1c86825c321c",
   "metadata": {},
   "outputs": [],
   "source": [
    "crack_s = dcl.items['1']"
   ]
  },
  {
   "cell_type": "code",
   "execution_count": null,
   "id": "ea708955-1531-422d-a4c6-4d0aa477932f",
   "metadata": {},
   "outputs": [],
   "source": [
    "crack_s.dic_grid.n_T"
   ]
  },
  {
   "cell_type": "code",
   "execution_count": null,
   "id": "d6028477",
   "metadata": {},
   "outputs": [],
   "source": [
    "crack_s.interact()"
   ]
  },
  {
   "cell_type": "code",
   "execution_count": null,
   "id": "08c5e129-1057-49d5-8394-bccfc06e4766",
   "metadata": {},
   "outputs": [],
   "source": [
    "%%capture\n",
    "\n",
    "from matplotlib import animation, rc\n",
    "from IPython.display import HTML\n",
    "from traitlets import HasTraits\n",
    "import matplotlib.gridspec as gridspec\n",
    "\n",
    "\n",
    "fig = plt.figure(figsize=(8,3))"
   ]
  },
  {
   "cell_type": "code",
   "execution_count": null,
   "id": "b7c5bad9-ebe7-42f6-8abc-6d010dd63a68",
   "metadata": {},
   "outputs": [],
   "source": [
    "class CrackListAnimator(HasTraits):\n",
    "    \n",
    "    \n",
    "    def init(self):\n",
    "        print('init')\n",
    "        n_T = dsf.dic_grid.n_T\n",
    "        self.t_dic_T = np.hstack([\n",
    "            np.linspace(0,1,n_T),\n",
    "            np.ones((int(0.5*n_T),))\n",
    "        ])\n",
    "    \n",
    "    def subplots(self, fig):\n",
    "        gs = gridspec.GridSpec(ncols=2, nrows=1,\n",
    "                               width_ratios=[3, 1],\n",
    "                               #wspace=0.5,\n",
    "                               hspace=0.5,\n",
    "                               # height_ratios=[2, 1]\n",
    "                               )\n",
    "        ax_dcl = fig.add_subplot(gs[0, 0])\n",
    "        ax_FU = fig.add_subplot(gs[0, 1])\n",
    "#        return fig.subplots(1,1)\n",
    "#        return ax_dsf#, ax_FU\n",
    "        return ax_dcl, ax_FU\n",
    "\n",
    "    def plot(self, i):\n",
    "        fig.clear()\n",
    "        t = self.t_dic_T[i]\n",
    "        print('t', t)\n",
    "        axes = self.subplots(fig)\n",
    "        dcl.dsf.dic_grid.t = t\n",
    "        \n",
    "        ax_dcl, ax_FU = axes\n",
    "#        ax_dsf = axes\n",
    "#        ax_FU = axes\n",
    "        \n",
    "        dcl.bd.plot_sz_bd(ax_dcl)\n",
    "        dcl.dsf.plot_crack_detection_field(ax_dcl, fig)\n",
    "        dcl.plot_cracking_hist2(ax_dcl)\n",
    "        dcl.critical_crack.plot_X_crc_t_Ka(ax_dcl, line_width=2, line_color='red', tip_color='red')\n",
    "        ax_dcl.axis('equal')\n",
    "        ax_dcl.axis('off');\n",
    "        dcl.dsf.dic_grid.plot_load_deflection(ax_FU)\n",
    "        \n",
    "    def mp4_video(self):\n",
    "        n_t = len(self.t_dic_T)\n",
    "        # call the animator. blit=True means only re-draw the parts that have changed.\n",
    "        anim = animation.FuncAnimation(fig, self.plot, init_func=self.init,\n",
    "                                       frames=n_t, interval=300, blit=True)\n",
    "        return anim.save(\"cracking_animation.gif\")\n",
    "    \n",
    "    def html5_video(self):\n",
    "        n_t = len(self.t_dic_T)\n",
    "        # call the animator. blit=True means only re-draw the parts that have changed.\n",
    "        anim = animation.FuncAnimation(fig, self.plot, init_func=self.init,\n",
    "                                       frames=n_t, interval=300, blit=True)\n",
    "        return anim.to_html5_video()"
   ]
  },
  {
   "cell_type": "code",
   "execution_count": null,
   "id": "6bd81d82-9e67-4588-9ef9-bc9c086bfcde",
   "metadata": {},
   "outputs": [],
   "source": [
    "# anim = CrackListAnimator()\n",
    "# anim.init()\n",
    "# anim.mp4_video()"
   ]
  },
  {
   "cell_type": "code",
   "execution_count": null,
   "id": "69239cc4-8fef-4a13-9352-a036f9e81910",
   "metadata": {},
   "outputs": [],
   "source": [
    "anim = CrackListAnimator()\n",
    "anim.init()\n",
    "with open('cracking_animation.html','w') as html_video_file:\n",
    "    html_video_file.write(anim.html5_video())"
   ]
  },
  {
   "cell_type": "code",
   "execution_count": null,
   "id": "f2c6626d-a380-4a9e-9c20-a5be24feba14",
   "metadata": {},
   "outputs": [],
   "source": [
    "html_video_file = open('cracking_animation.html','r')\n",
    "HTML(html_video_file.read())"
   ]
  },
  {
   "cell_type": "markdown",
   "id": "047fe16e-3c58-4ad8-9158-81a12db7156b",
   "metadata": {},
   "source": [
    "Given the step length $\\Delta s$ get the damage values in the distance $s$ along an angle $\\alpha_\\min, \\alpha_\\max$"
   ]
  },
  {
   "cell_type": "code",
   "execution_count": null,
   "id": "eb62ac92-76ce-4c19-91e9-70012e7ec55b",
   "metadata": {},
   "outputs": [],
   "source": []
  },
  {
   "cell_type": "code",
   "execution_count": null,
   "id": "26bc8e01-d422-4da7-86d2-4fd30c4dcb52",
   "metadata": {},
   "outputs": [],
   "source": []
  }
 ],
 "metadata": {
  "kernelspec": {
   "display_name": "bmcs_env2",
   "language": "python",
   "name": "bmcs_env2"
  },
  "language_info": {
   "codemirror_mode": {
    "name": "ipython",
    "version": 3
   },
   "file_extension": ".py",
   "mimetype": "text/x-python",
   "name": "python",
   "nbconvert_exporter": "python",
   "pygments_lexer": "ipython3"
  }
 },
 "nbformat": 4,
 "nbformat_minor": 5
}
