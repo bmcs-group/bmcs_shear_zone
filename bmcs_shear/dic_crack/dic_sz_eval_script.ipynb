{
 "cells": [
  {
   "cell_type": "markdown",
   "id": "79914c2e-454b-4cc7-b044-4a6a6525815b",
   "metadata": {},
   "source": [
    "# Evaluation script with the report generation"
   ]
  },
  {
   "cell_type": "code",
   "execution_count": null,
   "id": "196f51f0-9232-4276-b024-6f28bcac20b4",
   "metadata": {},
   "outputs": [],
   "source": [
    "%matplotlib widget\n",
    "import ibvpy.api as ib\n",
    "import matplotlib.pylab as plt\n",
    "from matplotlib import cm\n",
    "from bmcs_shear.dic_crack import\\\n",
    "    DICGridTri, DICStateFields, DICCrackList, \\\n",
    "    DICAlignedGrid, DICGrid\n",
    "import numpy as np\n",
    "np.seterr(divide ='ignore', invalid='ignore');\n",
    "import collections\n",
    "collections.Iterable = collections.abc.Iterable"
   ]
  },
  {
   "cell_type": "markdown",
   "id": "a4c23d52-2696-4a4c-84c9-cac386c60ee4",
   "metadata": {},
   "source": [
    "## Crack detection fields"
   ]
  },
  {
   "cell_type": "code",
   "execution_count": null,
   "id": "f8bba31f-a8ed-4480-bc1e-1b8bf533a236",
   "metadata": {},
   "outputs": [],
   "source": [
    "def get_dsf(test_name):\n",
    "    dic_grid = DICGridTri(U_factor=100, dir_name=test_name, t=1)\n",
    "    dic_grid.read_beam_design()\n",
    "    dic_grid.trait_set(d_x=5, d_y=5, n_T=10);\n",
    "    dsf = DICStateFields(dic_grid=dic_grid, R=10, omega_threshold=0.2, verbose_eval=True)\n",
    "    dsf.tmodel_.trait_set(E=1400, c_T=0.006, nu=0.18, epsilon_0=0.0018,\n",
    "                          epsilon_f=0.002, eps_max=0.01);\n",
    "    return dsf"
   ]
  },
  {
   "cell_type": "code",
   "execution_count": null,
   "id": "7679d3b8-dc60-423f-9328-d197e721ab45",
   "metadata": {},
   "outputs": [],
   "source": [
    "import datetime"
   ]
  },
  {
   "cell_type": "code",
   "execution_count": null,
   "id": "30fcb68a-67ae-43f9-92bb-4ef4d0164e53",
   "metadata": {},
   "outputs": [],
   "source": [
    "from matplotlib.backends.backend_pdf import PdfPages\n",
    "import os.path\n",
    "home_dir = os.path.expanduser('~')\n",
    "data_dir = os.path.join(home_dir, 'simdb', 'data', 'shear_zone')\n",
    "data_file = os.path.join(data_dir, 'report_crack_detection_field.pdf')\n",
    "\n",
    "test_list = ['B1_TV1', 'B1_TV2', 'B7_TV1']\n",
    "\n",
    "with PdfPages(data_file) as pdf:\n",
    "    for test_name in test_list:\n",
    "        \n",
    "        print('evaluating test {}'.format(test_name))\n",
    "        dsf = get_dsf(test_name)\n",
    "        dsf.eval()\n",
    "\n",
    "        plt.rc('text', usetex=False)\n",
    "        fig, ax = plt.subplots(1, 1) \n",
    "        dsf.plot_crack_detection_field(ax, fig)\n",
    "        dsf.dic_grid.plot_bounding_box(ax)\n",
    "        dsf.dic_grid.plot_box_annotate(ax)\n",
    "        \n",
    "        plt.title('Test {}'.format(test_name))\n",
    "        ax.axis('equal')\n",
    "        ax.axis('off');\n",
    "        pdf.savefig(fig)\n",
    "        plt.close()\n",
    "        \n",
    "    # We can also set the file's metadata via the PdfPages object:\n",
    "    d = pdf.infodict()\n",
    "    d['Title'] = 'Multipage PDF Example'\n",
    "    d['Author'] = u'Jouni K. Sepp\\xe4nen'\n",
    "    d['Subject'] = 'How to create a multipage pdf file and set its metadata'\n",
    "    d['Keywords'] = 'PdfPages multipage keywords author title subject'\n",
    "    d['CreationDate'] = datetime.datetime(2009, 11, 13)\n",
    "    d['ModDate'] = datetime.datetime.today()"
   ]
  },
  {
   "cell_type": "markdown",
   "id": "a68300f9-2fe1-4920-86ca-982d05a1c502",
   "metadata": {},
   "source": []
  },
  {
   "cell_type": "markdown",
   "id": "8b71ff10-dbda-4d98-a3df-74b6922c3e46",
   "metadata": {},
   "source": [
    "## Detected cracks"
   ]
  },
  {
   "cell_type": "code",
   "execution_count": null,
   "id": "2f92f5d5-5edf-43ea-8352-33b1f9e201e0",
   "metadata": {},
   "outputs": [],
   "source": [
    "def get_dcl(test_name):\n",
    "    dsf = get_dsf(test_name)\n",
    "    dsf.eval()\n",
    "    dcl = DICCrackList(dsf=dsf, corridor_left=3, corridor_right=1)\n",
    "    dcl.identify_cracks()\n",
    "    return dcl"
   ]
  },
  {
   "cell_type": "code",
   "execution_count": null,
   "id": "e0c1b4f8-899f-4aef-a41f-7f469f8df5d4",
   "metadata": {},
   "outputs": [],
   "source": []
  },
  {
   "cell_type": "code",
   "execution_count": null,
   "id": "392a75b0-46b4-4464-9f35-58a7cc2666a1",
   "metadata": {},
   "outputs": [],
   "source": [
    "from matplotlib.backends.backend_pdf import PdfPages\n",
    "import os.path\n",
    "home_dir = os.path.expanduser('~')\n",
    "data_dir = os.path.join(home_dir, 'simdb', 'data', 'shear_zone')\n",
    "data_file = os.path.join(data_dir, 'report_crack_list.pdf')\n",
    "\n",
    "test_list = ['B1_TV1', 'B1_TV2', 'B7_TV1']\n",
    "\n",
    "with PdfPages(data_file) as pdf:\n",
    "    for test_name in test_list:\n",
    "        \n",
    "        print('evaluating test {}'.format(test_name))\n",
    "        cdl = get_dcl(test_name)\n",
    "\n",
    "        plt.rc('text', usetex=False)\n",
    "        fig, ax = plt.subplots(1, 1)\n",
    "        \n",
    "        cdl.bd.plot_sz_bd(ax)\n",
    "        cdl.dsf.plot_crack_detection_field(ax, fig)\n",
    "        cdl.plot_cracking_hist2(ax)\n",
    "        cdl.critical_crack.plot_x_t_crc_Ka(ax, line_width=2, line_color='red', tip_color='red')\n",
    "        ax.axis('equal')\n",
    "        ax.axis('off');\n",
    "\n",
    "        cdl.dsf.dic_grid.plot_bounding_box(ax)\n",
    "        cdl.dsf.dic_grid.plot_box_annotate(ax)\n",
    "        \n",
    "        plt.title('Test {}'.format(test_name))\n",
    "        ax.axis('equal')\n",
    "        ax.axis('off');\n",
    "        pdf.savefig(fig)\n",
    "        plt.close()\n",
    "        \n",
    "    # We can also set the file's metadata via the PdfPages object:\n",
    "    d = pdf.infodict()\n",
    "    d['Title'] = 'Multipage PDF Example'\n",
    "    d['Author'] = u'Jouni K. Sepp\\xe4nen'\n",
    "    d['Subject'] = 'How to create a multipage pdf file and set its metadata'\n",
    "    d['Keywords'] = 'PdfPages multipage keywords author title subject'\n",
    "    d['CreationDate'] = datetime.datetime(2009, 11, 13)\n",
    "    d['ModDate'] = datetime.datetime.today()"
   ]
  },
  {
   "cell_type": "code",
   "execution_count": null,
   "id": "1572081f-f7d9-434e-91ab-5899b6f19e04",
   "metadata": {},
   "outputs": [],
   "source": []
  }
 ],
 "metadata": {
  "kernelspec": {
   "display_name": "bmcs_env",
   "language": "python",
   "name": "bmcs_env"
  },
  "language_info": {
   "codemirror_mode": {
    "name": "ipython",
    "version": 3
   },
   "file_extension": ".py",
   "mimetype": "text/x-python",
   "name": "python",
   "nbconvert_exporter": "python",
   "pygments_lexer": "ipython3"
  }
 },
 "nbformat": 4,
 "nbformat_minor": 5
}
