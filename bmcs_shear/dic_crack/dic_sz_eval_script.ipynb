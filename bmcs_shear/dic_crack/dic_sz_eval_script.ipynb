{
 "cells": [
  {
   "cell_type": "markdown",
   "id": "79914c2e-454b-4cc7-b044-4a6a6525815b",
   "metadata": {},
   "source": [
    "# Evaluation script with the report generation"
   ]
  },
  {
   "cell_type": "markdown",
   "id": "8c61540c-19fd-4a4e-a529-d324527aee4b",
   "metadata": {},
   "source": [
    "This notebook is used to prototype the model component that can generate the \n",
    "reports on the test evaluation and provide their full documentation\n",
    "in a pdf or html format.\n",
    "\n",
    "The input specification is performed by defining the labels of individual tests, e.g. `'B1_TV1'`.\n",
    "The model `ReportGenerator` component runs a loop over all tests and depending \n",
    "on the configuration, performs the evaluation for each test and adds the figures to \n",
    "the output file."
   ]
  },
  {
   "cell_type": "code",
   "execution_count": null,
   "id": "196f51f0-9232-4276-b024-6f28bcac20b4",
   "metadata": {},
   "outputs": [],
   "source": [
    "%matplotlib widget\n",
    "import ibvpy.api as ib\n",
    "import matplotlib.pylab as plt\n",
    "from matplotlib import cm\n",
    "from bmcs_shear.dic_crack import\\\n",
    "    DICGridTri, DICStateFields, DICCrackList, \\\n",
    "    DICAlignedGrid, DICGrid\n",
    "import numpy as np\n",
    "np.seterr(divide ='ignore', invalid='ignore');\n",
    "import datetime\n",
    "import collections\n",
    "collections.Iterable = collections.abc.Iterable"
   ]
  },
  {
   "cell_type": "markdown",
   "id": "6352fa98-f60f-4f16-a71c-43367b4809fb",
   "metadata": {},
   "source": [
    "## Crack list detector"
   ]
  },
  {
   "cell_type": "code",
   "execution_count": null,
   "id": "56f6948c-9693-4407-8e95-17c9470aa064",
   "metadata": {},
   "outputs": [],
   "source": [
    "def get_dcl(test_name):\n",
    "    dic_grid = DICGridTri(U_factor=100, dir_name=test_name, t=1)\n",
    "    dic_grid.read_beam_design()\n",
    "    dic_grid.trait_set(d_x=5, d_y=5, n_T=10);\n",
    "    dsf = DICStateFields(dic_grid=dic_grid, R=10, omega_threshold=0.2, verbose_eval=True)\n",
    "    dsf.tmodel_.trait_set(E=1400, c_T=0.006, nu=0.18, epsilon_0=0.0018,\n",
    "                          epsilon_f=0.002, eps_max=0.01);\n",
    "    dsf.eval()\n",
    "    dcl = DICCrackList(dsf=dsf, corridor_left=3, corridor_right=1, x_boundary=30)\n",
    "    dcl.identify_cracks()\n",
    "    return dcl"
   ]
  },
  {
   "cell_type": "markdown",
   "id": "8b71ff10-dbda-4d98-a3df-74b6922c3e46",
   "metadata": {},
   "source": [
    "## Detected cracks"
   ]
  },
  {
   "cell_type": "code",
   "execution_count": null,
   "id": "392a75b0-46b4-4464-9f35-58a7cc2666a1",
   "metadata": {},
   "outputs": [],
   "source": [
    "from matplotlib.backends.backend_pdf import PdfPages\n",
    "import os.path\n",
    "home_dir = os.path.expanduser('~')\n",
    "data_dir = os.path.join(home_dir, 'simdb', 'data', 'shear_zone')\n",
    "data_file = os.path.join(data_dir, 'report_crack_list.pdf')\n",
    "\n",
    "test_list = ['B1_TV1', 'B1_TV2', 'B7_TV1']\n",
    "# test_list = ['B7_TV1']\n",
    "\n",
    "with PdfPages(data_file) as pdf:\n",
    "    for test_name in test_list:\n",
    "        \n",
    "        print('evaluating test {}'.format(test_name))\n",
    "        cdl = get_dcl(test_name)\n",
    "\n",
    "        plt.rc('text', usetex=False)\n",
    "        fig, ax = plt.subplots(1, 1)\n",
    "        \n",
    "        cdl.bd.plot_sz_bd(ax)\n",
    "        cdl.dsf.plot_crack_detection_field(ax, fig)\n",
    "        try:\n",
    "            cdl.plot_cracking_hist2(ax)\n",
    "            cdl.critical_crack.plot_x_t_crc_Ka(ax, line_width=2, line_color='red', tip_color='red')\n",
    "        except:\n",
    "            pass\n",
    "        ax.axis('equal')\n",
    "        ax.axis('off');\n",
    "\n",
    "        cdl.dsf.dic_grid.plot_bounding_box(ax)\n",
    "        cdl.dsf.dic_grid.plot_box_annotate(ax)\n",
    "        \n",
    "        plt.title('Test {}'.format(test_name))\n",
    "        ax.axis('equal')\n",
    "        ax.axis('off');\n",
    "        pdf.savefig(fig)\n",
    "        plt.close()\n",
    "        \n",
    "    # We can also set the file's metadata via the PdfPages object:\n",
    "    d = pdf.infodict()\n",
    "    d['Title'] = 'Multipage PDF Example'\n",
    "    d['Author'] = u'Jouni K. Sepp\\xe4nen'\n",
    "    d['Subject'] = 'How to create a multipage pdf file and set its metadata'\n",
    "    d['Keywords'] = 'PdfPages multipage keywords author title subject'\n",
    "    d['CreationDate'] = datetime.datetime(2009, 11, 13)\n",
    "    d['ModDate'] = datetime.datetime.today()"
   ]
  },
  {
   "cell_type": "code",
   "execution_count": null,
   "id": "1572081f-f7d9-434e-91ab-5899b6f19e04",
   "metadata": {},
   "outputs": [],
   "source": []
  }
 ],
 "metadata": {
  "kernelspec": {
   "display_name": "bmcs_env",
   "language": "python",
   "name": "bmcs_env"
  },
  "language_info": {
   "codemirror_mode": {
    "name": "ipython",
    "version": 3
   },
   "file_extension": ".py",
   "mimetype": "text/x-python",
   "name": "python",
   "nbconvert_exporter": "python",
   "pygments_lexer": "ipython3"
  }
 },
 "nbformat": 4,
 "nbformat_minor": 5
}
