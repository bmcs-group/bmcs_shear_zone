{
 "cells": [
  {
   "cell_type": "markdown",
   "id": "c99b23ab-fdec-41de-a12e-a7ec4712d7ca",
   "metadata": {},
   "source": [
    "# **Tutorial for DICGrid model component**"
   ]
  },
  {
   "cell_type": "markdown",
   "id": "230a3a0e-7463-492b-b02d-1219f002da42",
   "metadata": {},
   "source": [
    "DIC Grid serves for reading the data available as a sequence of files with displacement measurements stored in a directory, accompanied with the measured load deflection curve. It refers to the `BeamDesign` object defining the design of the reinforced beam. By combining the information from the optical measurement with statical scheme, geometry and reinforcement layout, this model component serves \n",
    "further analysis by providing the correct **load-space-time** databasis."
   ]
  },
  {
   "cell_type": "code",
   "execution_count": null,
   "id": "2212c080-90f1-4691-9995-1e6b80afbccd",
   "metadata": {},
   "outputs": [],
   "source": [
    "%matplotlib widget\n",
    "import numpy as np\n",
    "import matplotlib.pylab as plt\n",
    "import collections\n",
    "collections.Iterable = collections.abc.Iterable\n",
    "from scipy.spatial import Delaunay"
   ]
  },
  {
   "cell_type": "markdown",
   "id": "eaabbf02-9b9f-438b-8e37-b3076396cea0",
   "metadata": {},
   "source": [
    "Let us construct a grid example and render the interactive interface showing the measured displacmeent at the maximum load $t = 1$ and with displacement amplified by a factor $U_\\mathrm{factor} = 100$. "
   ]
  },
  {
   "cell_type": "code",
   "execution_count": null,
   "id": "bc0f416f-c31d-4d59-a67a-1fa73fb80a02",
   "metadata": {},
   "outputs": [],
   "source": [
    "from bmcs_shear.api import DICGridTri\n",
    "dic_grid = DICGridTri(U_factor=100, dir_name='B10_TV1', t=1, padding=40, d_x=3, d_y=3, n_T=40)\n",
    "dic_grid.read_beam_design()"
   ]
  },
  {
   "cell_type": "code",
   "execution_count": null,
   "id": "b09e25a8-ed99-434a-ac1b-db174b21040c",
   "metadata": {},
   "outputs": [],
   "source": [
    "%matplotlib widget\n",
    "fig, ax = plt.subplots(1,1)\n",
    "dic_grid.plot_grid_on_triangulation(ax)"
   ]
  },
  {
   "cell_type": "code",
   "execution_count": null,
   "id": "40035ba5-9d76-4e1e-93bd-05076511dd6b",
   "metadata": {},
   "outputs": [],
   "source": []
  },
  {
   "cell_type": "code",
   "execution_count": null,
   "id": "7eeacf42-c73d-4706-ae72-11b8f711135a",
   "metadata": {},
   "outputs": [],
   "source": []
  },
  {
   "cell_type": "code",
   "execution_count": null,
   "id": "00340408-0b15-4a84-b596-69823e9c9260",
   "metadata": {},
   "outputs": [],
   "source": [
    "dic_grid.interact()"
   ]
  },
  {
   "cell_type": "markdown",
   "id": "99769804-a5b7-48cb-b22a-b7a3c27652c9",
   "metadata": {},
   "source": [
    "Note that the orange markers denote the states with available DIC measurements performed during the history of loading."
   ]
  },
  {
   "cell_type": "markdown",
   "id": "aa0f91d7-703b-4a7d-b2b6-6872ad6ea624",
   "metadata": {},
   "source": [
    "## Read data format"
   ]
  },
  {
   "cell_type": "markdown",
   "id": "e92531b7-12a8-4673-a8b5-9f3a20db88cb",
   "metadata": {},
   "source": [
    "### Input directory structure"
   ]
  },
  {
   "cell_type": "markdown",
   "id": "2ca2c5c0-f4f0-42b9-b7eb-7f81619332e0",
   "metadata": {},
   "source": [
    "The `DICGrid` objects reads the data from a directory named as `dir_name`"
   ]
  },
  {
   "cell_type": "code",
   "execution_count": null,
   "id": "962dfa80-8ed3-4bb5-b1a0-2af156971477",
   "metadata": {},
   "outputs": [],
   "source": [
    "dic_grid.dir_name"
   ]
  },
  {
   "cell_type": "markdown",
   "id": "e6146136-747a-407b-b5fb-ecfd92a52f25",
   "metadata": {},
   "source": [
    "The property trait `data_dir` assembles the path to the data directory using path starting in the home directory, i.e. \n",
    "\n",
    "```join(dic_grid.home_dir, 'simdb', 'data', 'shear_zone', dic_grid.dir_name)```\n",
    "\n",
    "For the current example, we obtain"
   ]
  },
  {
   "cell_type": "code",
   "execution_count": null,
   "id": "5300dc6d-9d5c-42ef-8f65-878b0bf87e8e",
   "metadata": {},
   "outputs": [],
   "source": [
    "dic_grid.data_dir"
   ]
  },
  {
   "cell_type": "markdown",
   "id": "9e1999e4-2729-4bae-872d-5aa63a2434d1",
   "metadata": {},
   "source": [
    "To get the directory with the DIC data, issue "
   ]
  },
  {
   "cell_type": "code",
   "execution_count": null,
   "id": "8aba74a2-c1ba-4627-9dfe-0f94e9f866bd",
   "metadata": {},
   "outputs": [],
   "source": [
    "dic_grid.dic_data_dir"
   ]
  },
  {
   "cell_type": "markdown",
   "id": "5a106802-5c4c-4897-b285-1f89d9a54c67",
   "metadata": {},
   "source": [
    "### Load deflection response"
   ]
  },
  {
   "cell_type": "markdown",
   "id": "3dc37d7e-4923-430e-95e4-5dd5ae34057e",
   "metadata": {},
   "source": [
    "To obtain the directory with the load deflection curve, use"
   ]
  },
  {
   "cell_type": "code",
   "execution_count": null,
   "id": "750ef745-8c1c-45b3-a316-6f4cf7cbc701",
   "metadata": {},
   "outputs": [],
   "source": [
    "dic_grid.Fw_data_dir"
   ]
  },
  {
   "cell_type": "markdown",
   "id": "2c54c63c-2c46-47cd-9dc0-95a2fb941bf9",
   "metadata": {},
   "source": [
    "### Beam parameters\n",
    "File specifying the beam parameters is assessed using the property traits `beam_param_fie` and is named `beam_params.txt` by default"
   ]
  },
  {
   "cell_type": "code",
   "execution_count": null,
   "id": "4b965bc5-9dbe-46f7-8de6-d26f4f5f94b2",
   "metadata": {},
   "outputs": [],
   "source": [
    "dic_grid.beam_param_file"
   ]
  },
  {
   "cell_type": "markdown",
   "id": "a6dcd299-b959-45a0-94be-572fea490f3c",
   "metadata": {},
   "source": [
    "This file specifies the parameters \n",
    " - length $L$\n",
    " - width $B$\n",
    " - depth $H$\n",
    " - number of reinforcement bars $n_\\mathrm{s}$\n",
    " - vertical position of the bars $y_\\mathrm{s}$\n",
    " - diameter of the reinforcement $d_\\mathrm{s}$"
   ]
  },
  {
   "cell_type": "code",
   "execution_count": null,
   "id": "28daca77-725e-4811-a3d8-c40517ea0687",
   "metadata": {},
   "outputs": [],
   "source": [
    "dic_grid.beam_param_types"
   ]
  },
  {
   "cell_type": "markdown",
   "id": "282e8742-c0c7-4476-a45d-fdf4e642a9e2",
   "metadata": {},
   "source": [
    "Currently, to setup the beam parmaters correctly, a call to `read_beam_design` must be issued using"
   ]
  },
  {
   "cell_type": "code",
   "execution_count": null,
   "id": "c06b69b1-b2b4-4aa2-87a6-6fee9490afde",
   "metadata": {},
   "outputs": [],
   "source": [
    "dic_grid.read_beam_design()"
   ]
  },
  {
   "cell_type": "markdown",
   "id": "be27e653-3a20-4c0b-ae43-19917d099df6",
   "metadata": {},
   "source": [
    "**Note** This need should be avoided later by capturing the dependency with respect to the `data_dir` attribute. Currently, the notification mechanism does not allow this because of are further dependency links."
   ]
  },
  {
   "cell_type": "markdown",
   "id": "e07d69ca-a4cb-4f2a-b128-770c6dc5a05d",
   "metadata": {},
   "source": [
    "The beam design object is available in the attribute `sz_bd`. The type of the `RCBeamDesign` is general and specifies also the material models associated with individual material components."
   ]
  },
  {
   "cell_type": "markdown",
   "id": "54596172-70b3-4402-84ef-2f046a330b2f",
   "metadata": {},
   "source": [
    "The parameters relevant for correct configuration of the `dic_grid` within the beam design are the length and offset with respect the beam bounaries "
   ]
  },
  {
   "cell_type": "code",
   "execution_count": null,
   "id": "b51b9cae-6554-454b-a480-21e622a23989",
   "metadata": {},
   "outputs": [],
   "source": [
    "dic_grid.asc_F_files"
   ]
  },
  {
   "cell_type": "code",
   "execution_count": null,
   "id": "1dd183a3-c645-464f-a46d-042aec9a1629",
   "metadata": {},
   "outputs": [],
   "source": [
    "dic_grid.L_x, dic_grid.L_y"
   ]
  },
  {
   "cell_type": "markdown",
   "id": "09cb23de-6103-45e5-89c6-e6adcafcd0a6",
   "metadata": {},
   "source": [
    "### Grid parameters"
   ]
  },
  {
   "cell_type": "markdown",
   "id": "ae307d58-6a02-475c-a9c5-26572eb089e6",
   "metadata": {},
   "source": [
    "File specifying the grid data parameters is accessed using the property trait `grid_param_file` and is named\n",
    "`grid_params.txt` by default."
   ]
  },
  {
   "cell_type": "code",
   "execution_count": null,
   "id": "ae5beab6-8e88-44d2-ac31-0c3b9e12762d",
   "metadata": {},
   "outputs": [],
   "source": [
    "dic_grid.grid_param_file"
   ]
  },
  {
   "cell_type": "markdown",
   "id": "f0e87f75-a8e2-470c-aaf2-63bedbe8f455",
   "metadata": {},
   "source": [
    "This file contains the name-value pairs of the attributes defined by the `grid_param_types` dictionary"
   ]
  },
  {
   "cell_type": "code",
   "execution_count": null,
   "id": "6fd25971-7b81-435d-b10c-177b6e88dba6",
   "metadata": {},
   "outputs": [],
   "source": [
    "dic_grid.grid_param_types"
   ]
  },
  {
   "cell_type": "markdown",
   "id": "f6f3d5b2-2071-4903-b46f-1952bd3c7d76",
   "metadata": {},
   "source": [
    "Thus, the `grid_params` of the current test `B7_TV1` read"
   ]
  },
  {
   "cell_type": "code",
   "execution_count": null,
   "id": "5d3c5390-8b75-4834-a2b8-cb6042d63f94",
   "metadata": {},
   "outputs": [],
   "source": [
    "dic_grid.grid_params"
   ]
  },
  {
   "cell_type": "markdown",
   "id": "4c5614f4-1f23-4543-9e23-9c6fb6296d2b",
   "metadata": {},
   "source": [
    "The DIC data files corresponding to each measured step are assembled in the string list `files` "
   ]
  },
  {
   "cell_type": "markdown",
   "id": "4193efd3-5c0f-4845-a236-fa53e88e0daf",
   "metadata": {},
   "source": [
    "These parameters are available as properties and can be accessed via"
   ]
  },
  {
   "cell_type": "code",
   "execution_count": null,
   "id": "6c9afdc7-42c7-4988-b66e-547b28009e67",
   "metadata": {},
   "outputs": [],
   "source": [
    "dic_grid.n_I, dic_grid.n_J, dic_grid.d_x, dic_grid.d_y, dic_grid.x_offset, dic_grid.y_offset"
   ]
  },
  {
   "cell_type": "markdown",
   "id": "64d64491-1ac4-47d4-a4dc-bbc017fa9183",
   "metadata": {},
   "source": [
    "Note that the naming of properties follows the mathematical indexing convention with $I$, $J$ representing the horizontal and vertical node indexes, respectively. Correspondingly, $n_I$ and $n_J$ denotes the number of horizontal and vertical nodes, respectively. "
   ]
  },
  {
   "cell_type": "markdown",
   "id": "bd1bf301-cfbe-459f-bf7c-a35414eed761",
   "metadata": {},
   "source": [
    "To position the DIC frame into the beam, the beam parameters and grid parameters are combined to obtain the coordinates of the \n",
    "bottom left and top right corners within the beam in the order $X_\\mathrm{frame} = (x_\\min, y_\\min, x_\\max, y_\\max)$"
   ]
  },
  {
   "cell_type": "code",
   "execution_count": null,
   "id": "b0eac96d-30b5-4edb-8bd9-e1a255ae38b1",
   "metadata": {},
   "outputs": [],
   "source": [
    "dic_grid.X_frame"
   ]
  },
  {
   "cell_type": "code",
   "execution_count": null,
   "id": "44f6ab82-0fdf-45c2-9f8d-9192a7f77438",
   "metadata": {},
   "outputs": [],
   "source": [
    "dic_grid.asc_F_files"
   ]
  },
  {
   "cell_type": "markdown",
   "id": "bfc5cf75-c2f1-4669-b135-f15dd9fcfc8c",
   "metadata": {},
   "source": [
    "Note that the `CSV` files are named according to the scheme specifying their load levels"
   ]
  },
  {
   "cell_type": "markdown",
   "id": "048aaeca-30b8-4211-abe7-9ae75715e422",
   "metadata": {},
   "source": [
    "## Time data"
   ]
  },
  {
   "cell_type": "markdown",
   "id": "25e9cfc9-d1d7-495f-af3c-fac49bcacd21",
   "metadata": {},
   "source": [
    "The load `F` corresponding to each history index `T` is provided in the `F_dic_T` property."
   ]
  },
  {
   "cell_type": "code",
   "execution_count": null,
   "id": "3cd547a8-f004-46c9-b09f-c04cc2508946",
   "metadata": {},
   "outputs": [],
   "source": [
    "dic_grid.F_dic_T"
   ]
  },
  {
   "cell_type": "markdown",
   "id": "6570045c-3b0d-4a0b-90fd-66fad73af884",
   "metadata": {},
   "source": [
    "The index corresponding to the maximum load `F` is accessed via"
   ]
  },
  {
   "cell_type": "markdown",
   "id": "0c66728a-8e0d-47a8-b1c0-ac5f80397e3a",
   "metadata": {},
   "source": [
    "The final index of snapshots is also available as `n_T`"
   ]
  },
  {
   "cell_type": "code",
   "execution_count": null,
   "id": "98571e07-75f2-488c-a8b9-9cd0cb00e88d",
   "metadata": {},
   "outputs": [],
   "source": [
    "dic_grid.n_T"
   ]
  },
  {
   "cell_type": "markdown",
   "id": "584b2910-e4b3-456b-b6e6-14be6965d611",
   "metadata": {},
   "source": [
    "An instance of `dic_grid` keeps track of the current time $t \\in (0, 1)$ with 0 \n",
    "and 1 representing the states with zero and maximum force, respectively. Thus, by setting"
   ]
  },
  {
   "cell_type": "code",
   "execution_count": null,
   "id": "0a8e9c7a-899e-4e46-b2c1-7d4fa08be6d4",
   "metadata": {},
   "outputs": [],
   "source": [
    "dic_grid.t = 0.5"
   ]
  },
  {
   "cell_type": "markdown",
   "id": "348cbc0d-af58-4855-a722-988f49c6689e",
   "metadata": {},
   "source": [
    "The grid will return displacement and position values corresponding to the half of the maximum load. When setting the value of $t$, the value of `T1` denoting the history index will be adapted automateically, i.e."
   ]
  },
  {
   "cell_type": "code",
   "execution_count": null,
   "id": "78f2f3f9-4d54-40e3-a889-e791ae8e17db",
   "metadata": {},
   "outputs": [],
   "source": [
    "dic_grid.T0, dic_grid.n_T"
   ]
  },
  {
   "cell_type": "markdown",
   "id": "4df5bdb9-05df-495f-8f0f-197e3187da10",
   "metadata": {},
   "source": [
    "The whole load and deflection values for each history index $T$ are available in the table `Fw_T`, representing the raw format of the measured data. The "
   ]
  },
  {
   "cell_type": "code",
   "execution_count": null,
   "id": "5d98ca9f-2c97-4231-ae1d-13f34bf0726f",
   "metadata": {},
   "outputs": [],
   "source": [
    "dic_grid.Fw_T.shape"
   ]
  },
  {
   "cell_type": "markdown",
   "id": "f963929e-2526-450f-af2a-eb2ec4384bc6",
   "metadata": {},
   "source": [
    "To access the deflections and forces, we need to issue"
   ]
  },
  {
   "cell_type": "code",
   "execution_count": null,
   "id": "e3d1d7c3-0963-4760-9e58-ffafbb6b1eef",
   "metadata": {},
   "outputs": [],
   "source": [
    "w = dic_grid.Fw_T[::50,2]\n",
    "F = -dic_grid.Fw_T[::50,1]"
   ]
  },
  {
   "cell_type": "markdown",
   "id": "8489292f-861e-4a13-bf8f-1ba518c16d69",
   "metadata": {},
   "source": [
    "**TODO**: provide properties"
   ]
  },
  {
   "cell_type": "code",
   "execution_count": null,
   "id": "61aa81e4-340c-4c1a-b232-edc3ecb746a7",
   "metadata": {},
   "outputs": [],
   "source": [
    "dic_grid.t = 1\n",
    "dic_grid.F_T_t"
   ]
  },
  {
   "cell_type": "markdown",
   "id": "e83b3a81-34fc-4355-9f3e-9c808c7e3036",
   "metadata": {},
   "source": [
    "## Grid data"
   ]
  },
  {
   "cell_type": "markdown",
   "id": "54f905eb-9f84-443e-ac2d-8430f78d2f08",
   "metadata": {},
   "source": [
    "The initial positions of the grid markers denoted as $X_{0IJa}$ is obtained from the `grid_params`. The initial position of the \n",
    "bottom left corner must match the values of the offset specified above in the $X_\\mathrm{frame}$. Let us verify that this feature is provided by printing the values of `X_0IJa[0,0,:]` and `X_0IJa[-1,-1,:]`."
   ]
  },
  {
   "cell_type": "code",
   "execution_count": null,
   "id": "2054928d-affb-483e-a859-00f39bef837c",
   "metadata": {},
   "outputs": [],
   "source": [
    "dic_grid.X_frame, dic_grid.X_IJa[0, 0, :], dic_grid.X_IJa[-1, -1, :]"
   ]
  },
  {
   "cell_type": "markdown",
   "id": "c431909b-0439-411a-a78f-a3c7d73db1d4",
   "metadata": {},
   "source": [
    "All files are read into the memory at once. This might be improvied in the future using the zipped binary `numpy` file management to save memory during processing."
   ]
  },
  {
   "cell_type": "markdown",
   "id": "4a916007-d346-4dd0-a380-277b29ddae45",
   "metadata": {},
   "source": [
    "The displacements of the grid nodes are stored in a four-dimensional array \n",
    "$U_{TIJa}$ with the indexes denoting the history index $T$, horizontal \n",
    "node index $I$, vertical index $J$, and the dimension index $a \\in (0,1) = (x,y)$.\n",
    "Thus, the displacement at the fifteenth step of the left bottom corner node\n",
    "in both directions can be obtained as"
   ]
  },
  {
   "cell_type": "code",
   "execution_count": null,
   "id": "ad785aa7-2d3e-4c95-a228-16e6bd87061e",
   "metadata": {},
   "outputs": [],
   "source": [
    "dic_grid.U_TIJa[-1, 40, 0, :]"
   ]
  },
  {
   "cell_type": "markdown",
   "id": "c67a85cb-fdc2-499f-a38e-17aeddd16a0f",
   "metadata": {},
   "source": [
    "The displacement corresponding to the current value of $t$ represented by the index T_t"
   ]
  },
  {
   "cell_type": "code",
   "execution_count": null,
   "id": "8a01d0d0-6e20-446c-9851-fb6e7ce208f1",
   "metadata": {},
   "outputs": [],
   "source": [
    "dic_grid.t, dic_grid.T_t"
   ]
  },
  {
   "cell_type": "markdown",
   "id": "9609bc19-aa39-49c2-8204-fb479bc1d9fc",
   "metadata": {},
   "source": [
    "is available as property $U_{IJa}$"
   ]
  },
  {
   "cell_type": "code",
   "execution_count": null,
   "id": "ebfb4089-4023-48c3-91da-ed0fa268990f",
   "metadata": {},
   "outputs": [],
   "source": [
    "dic_grid.U_IJa[40, 0, :]"
   ]
  },
  {
   "cell_type": "markdown",
   "id": "07578dc3-30cc-4aad-9202-1c7f8573b6a7",
   "metadata": {},
   "source": [
    "If a new time is set"
   ]
  },
  {
   "cell_type": "code",
   "execution_count": null,
   "id": "54c80077-133d-4f4e-a96e-d44f7901a5ef",
   "metadata": {},
   "outputs": [],
   "source": [
    "dic_grid.t = 0.6"
   ]
  },
  {
   "cell_type": "markdown",
   "id": "7ff1b0f5-b938-4c5c-9084-adf8617fe47f",
   "metadata": {},
   "source": [
    "A new value of displacement is obtained as"
   ]
  },
  {
   "cell_type": "code",
   "execution_count": null,
   "id": "527184ff-1ccd-40f8-9cf4-1465ade550d1",
   "metadata": {},
   "outputs": [],
   "source": [
    "dic_grid.U_IJa[40, 0, :]"
   ]
  },
  {
   "cell_type": "markdown",
   "id": "3e7af24d-12d1-41d6-b1d9-827cffb4c6c2",
   "metadata": {},
   "source": [
    "# Plotting functions"
   ]
  },
  {
   "cell_type": "code",
   "execution_count": null,
   "id": "dfe9feb2-41de-4c24-84ab-5ad7963ad366",
   "metadata": {},
   "outputs": [],
   "source": [
    "%matplotlib widget\n",
    "_, ax = plt.subplots(1,1)\n",
    "dic_grid.t = 0.2\n",
    "dic_grid.plot_load_deflection(ax)"
   ]
  },
  {
   "cell_type": "markdown",
   "id": "f39bbea5-6cbd-4c36-9199-f796fb340a2d",
   "metadata": {},
   "source": [
    "**Remark**: Correct the scaling - t should be between the min max values of the load"
   ]
  },
  {
   "cell_type": "code",
   "execution_count": null,
   "id": "96b8cecc-caa4-4882-9972-69bdaaa156c6",
   "metadata": {},
   "outputs": [],
   "source": [
    "_, ax = plt.subplots(1,1)\n",
    "dic_grid.plot_grid(ax)"
   ]
  },
  {
   "cell_type": "code",
   "execution_count": null,
   "id": "0658eac6-6fec-4370-971f-8056328c20ff",
   "metadata": {},
   "outputs": [],
   "source": [
    "_, ax = plt.subplots(1,1)\n",
    "dic_grid.plot_bounding_box(ax)\n",
    "dic_grid.plot_box_annotate(ax)\n",
    "ax.set_aspect('equal')"
   ]
  },
  {
   "cell_type": "markdown",
   "id": "7a65790d-5b82-4c42-87e7-e38161e3da96",
   "metadata": {},
   "source": [
    "# Use case - loop over time steps"
   ]
  },
  {
   "cell_type": "code",
   "execution_count": null,
   "id": "c43c2365-d3c5-4a19-906c-80cb21aac605",
   "metadata": {},
   "outputs": [],
   "source": [
    "import numpy as np\n",
    "dic_grid.t_dic_T"
   ]
  },
  {
   "cell_type": "code",
   "execution_count": null,
   "id": "4c6a022a-75a1-439c-898c-998dbd62e006",
   "metadata": {},
   "outputs": [],
   "source": [
    "dic_grid.t_dic_T[::-1]"
   ]
  },
  {
   "cell_type": "code",
   "execution_count": null,
   "id": "2706780f-83e7-489d-bcdb-61354af77714",
   "metadata": {},
   "outputs": [],
   "source": [
    "T_dic_t = []\n",
    "for t_dic in dic_grid.t_dic_T:\n",
    "    dic_grid.t = t_dic\n",
    "    T_dic_t.append(dic_grid.T_t)\n",
    "T_dic_t = np.array(T_dic_t)"
   ]
  },
  {
   "cell_type": "code",
   "execution_count": null,
   "id": "1b43a910-a22f-4176-a96b-bc9dea19f4fb",
   "metadata": {},
   "outputs": [],
   "source": [
    "dic_grid.U_TIJa[T_dic_t,0,-1,1] - dic_grid.U_TIJa[:,0,-1,1] "
   ]
  },
  {
   "cell_type": "markdown",
   "id": "f84fa6db-be73-4bd4-bfcf-15c0cb8e5165",
   "metadata": {},
   "source": [
    "Interpolation along the time domain is possible using the time index $T$, true time $t$, deflection $w$ or the force $F$.\n",
    "Time index $T$ refers to the spatial snapshots of dic. "
   ]
  },
  {
   "cell_type": "markdown",
   "id": "340e5dc8-642c-4c83-90dd-d5c20e2db4e7",
   "metadata": {},
   "source": [
    "The load deflection curve is provided in the form $F(t), w(t)$, where $t \\in \\mathcal{T}$ is the true time. \n",
    "The snapshots with DIC are obtained at times $t_\\mathrm{dic} \\in \\mathcal{T}_\\mathrm{dic} \\subset \\mathcal{T}$."
   ]
  },
  {
   "cell_type": "code",
   "execution_count": null,
   "id": "18b08c7f-501e-4133-aa72-43a8b0e3ea0a",
   "metadata": {},
   "outputs": [],
   "source": [
    "import numpy as np\n",
    "t, F, w = dic_grid.Fw_T[:,(0,1,2)].T\n",
    "argmax_F = np.argmax(-F)\n",
    "-F[:argmax_F]"
   ]
  },
  {
   "cell_type": "code",
   "execution_count": null,
   "id": "c603377e-1f32-4177-bdad-051a330dfc0b",
   "metadata": {},
   "outputs": [],
   "source": [
    "t, F, w = [ timeline[:argmax_F] for timeline in [t, -F, w] ] "
   ]
  },
  {
   "cell_type": "code",
   "execution_count": null,
   "id": "134f97b1-a308-4fda-aead-ea78ce12e415",
   "metadata": {},
   "outputs": [],
   "source": [
    "F"
   ]
  },
  {
   "cell_type": "code",
   "execution_count": null,
   "id": "8cf249b5-5672-4b69-a63c-034b68fa9986",
   "metadata": {},
   "outputs": [],
   "source": [
    "dic_grid.F_dic_T"
   ]
  },
  {
   "cell_type": "code",
   "execution_count": null,
   "id": "85c4f80b-f21c-47c9-83b6-c7b53ccf6851",
   "metadata": {},
   "outputs": [],
   "source": [
    "dic_grid.U_TIJa[:,0,-1,0].shape, dic_grid.F_dic_T.shape"
   ]
  },
  {
   "cell_type": "code",
   "execution_count": null,
   "id": "6c039cc3-5087-4efe-ab58-81e262b7c101",
   "metadata": {},
   "outputs": [],
   "source": [
    "idx = 0\n",
    "idx_list = []\n",
    "for F_dic in dic_grid.F_dic_T:\n",
    "    idx += np.argmax(-F[idx:] >= F_dic)\n",
    "    idx_list.append(idx)\n",
    "idx_ = np.array(idx_list)"
   ]
  },
  {
   "cell_type": "code",
   "execution_count": null,
   "id": "7dc340ab-cad3-4a2e-8023-9fcb08e95b2f",
   "metadata": {},
   "outputs": [],
   "source": [
    "-F[idx_]"
   ]
  },
  {
   "cell_type": "code",
   "execution_count": null,
   "id": "cb4da7f9-c2be-42ce-9769-78127af8c89a",
   "metadata": {},
   "outputs": [],
   "source": [
    "t = 0.96\n",
    "self = dic_grid\n",
    "F = -self.Fw_T[::50,1]\n",
    "F_max = np.max(F)\n",
    "F_t = t * F_max\n",
    "F_dic_T = self.F_dic_T\n",
    "dic_T = np.arange(len(F_dic_T))\n",
    "T_t = np.interp(F_t, F_dic_T, dic_T)\n",
    "int(T_t)"
   ]
  },
  {
   "cell_type": "code",
   "execution_count": null,
   "id": "c6baf59c-54d4-4a5f-8bcb-a433322c9ac2",
   "metadata": {},
   "outputs": [],
   "source": [
    "dic_T"
   ]
  },
  {
   "cell_type": "code",
   "execution_count": null,
   "id": "b977222c-7771-49d1-a6d2-7620f1f91406",
   "metadata": {},
   "outputs": [],
   "source": []
  }
 ],
 "metadata": {
  "kernelspec": {
   "display_name": "bmcs_env",
   "language": "python",
   "name": "bmcs_env"
  },
  "language_info": {
   "codemirror_mode": {
    "name": "ipython",
    "version": 3
   },
   "file_extension": ".py",
   "mimetype": "text/x-python",
   "name": "python",
   "nbconvert_exporter": "python",
   "pygments_lexer": "ipython3"
  }
 },
 "nbformat": 4,
 "nbformat_minor": 5
}
