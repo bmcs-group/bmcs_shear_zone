{
 "cells": [
  {
   "cell_type": "markdown",
   "id": "bd3d7b5d-f468-4dc9-a72c-78599931be3b",
   "metadata": {},
   "source": [
    "# Stress profile evaluation"
   ]
  },
  {
   "cell_type": "code",
   "execution_count": null,
   "id": "c2fe6f9d-23fd-4852-bc53-56c37bb3cd3a",
   "metadata": {},
   "outputs": [],
   "source": [
    "%matplotlib widget\n",
    "import ibvpy.api as ib\n",
    "import matplotlib.pylab as plt\n",
    "from matplotlib import cm\n",
    "from bmcs_shear.dic_crack import \\\n",
    "    DICGrid, DICInpUnstructuredPoints, DICStateFields, \\\n",
    "    DICAlignedGrid, DICGrid\n",
    "from bmcs_shear.dic_crack.dic_crack_list2 import DICCrackList\n",
    "import numpy as np\n",
    "np.seterr(divide ='ignore', invalid='ignore');"
   ]
  },
  {
   "cell_type": "code",
   "execution_count": null,
   "id": "28038bd6-953d-4154-a122-51e7732dbc10",
   "metadata": {},
   "outputs": [],
   "source": [
    "dic_points = DICInpUnstructuredPoints(U_factor=10, dir_name='B9_TV2', t=1,\n",
    "                                      n_T_max=40, T_stepping='delta_T')\n",
    "dic_points.read_beam_design()\n",
    "dic_grid = DICGrid(dic_inp=dic_points, d_x=5, d_y=5)"
   ]
  },
  {
   "cell_type": "code",
   "execution_count": null,
   "id": "bff26c59-9221-429a-93c3-a06e2e39d30d",
   "metadata": {},
   "outputs": [],
   "source": [
    "dsf = DICStateFields(dic_grid=dic_grid, R=6, omega_threshold=0.15, verbose_eval=True)\n",
    "dsf.tmodel_.trait_set(E=1400, c_T=0.006, nu=0.18, epsilon_0=0.0018,\n",
    "                      epsilon_f=0.0019, eps_max=0.01);\n",
    "dsf = DICStateFields(dic_grid=dic_grid, R=5, omega_threshold=0.15, verbose_eval=True, tmodel='scalar_damage')\n",
    "dsf.tmodel_.trait_set(E=1600, nu=0.18, omega_fn='exp-slope', strain_norm='Rankine', eps_max=0.01)\n",
    "dsf.tmodel_.omega_fn_.trait_set(kappa_0=0.002, kappa_f=0.0028);\n",
    "dcl = DICCrackList(dsf=dsf, delta_alpha_min=-np.pi/6, delta_alpha_max=np.pi/3, delta_s = 25, x_boundary=30)"
   ]
  },
  {
   "cell_type": "code",
   "execution_count": null,
   "id": "d4b5f834-1011-4597-8413-4d9105ba4e69",
   "metadata": {},
   "outputs": [],
   "source": [
    "dcl.interact()"
   ]
  },
  {
   "cell_type": "code",
   "execution_count": null,
   "id": "81b09740-bdb2-4e4b-8713-00d51fcbd616",
   "metadata": {},
   "outputs": [],
   "source": [
    "dcl.dsf.bd.matrix_.trait_set(\n",
    "    f_c = 38, f_t = 2.97, E_c = 26800\n",
    ")"
   ]
  },
  {
   "cell_type": "code",
   "execution_count": null,
   "id": "de2186f0-03eb-4a70-8b24-bd896e609f7a",
   "metadata": {},
   "outputs": [],
   "source": [
    "dcl.dsf.bd.interact()"
   ]
  },
  {
   "cell_type": "code",
   "execution_count": null,
   "id": "a83ecbb2-3c59-4a9b-adbd-77081eea00b1",
   "metadata": {},
   "outputs": [],
   "source": [
    "c = 3\n",
    "sp = dcl.cracks[str(c)].sp"
   ]
  },
  {
   "cell_type": "code",
   "execution_count": null,
   "id": "26bc8e01-d422-4da7-86d2-4fd30c4dcb52",
   "metadata": {},
   "outputs": [],
   "source": [
    "sp.interact()"
   ]
  },
  {
   "cell_type": "code",
   "execution_count": null,
   "id": "ad7a8d16-b1c7-4c2c-830e-c49b88a1e4e4",
   "metadata": {},
   "outputs": [],
   "source": [
    "import bmcs_utils.api as bu\n",
    "%matplotlib widget\n",
    "fig, ax_F = plt.subplots(1,1)\n",
    "ax_sig = ax_F.twiny()\n",
    "sp.plot_sig_t_crc_La(ax_sig)\n",
    "sp.plot_sig_t_unc_Lab(ax_sig)\n",
    "sp.plot_F_t_a(ax_F)\n",
    "bu.mpl_align_xaxis(ax_sig, ax_F)"
   ]
  },
  {
   "cell_type": "code",
   "execution_count": null,
   "id": "bf90bb89-1e6a-4c71-b66d-8b1d257521b6",
   "metadata": {},
   "outputs": [],
   "source": []
  },
  {
   "cell_type": "code",
   "execution_count": null,
   "id": "2de72ad5-ea82-40ac-b20e-362e1f117421",
   "metadata": {},
   "outputs": [],
   "source": [
    "self = sp\n",
    "X_mid_unc_t_a = np.average(self.X_unc_t_La, axis=0)\n",
    "# horizontal distance between dowel action and crack tip.\n",
    "x_La = self.X_crc_t_La\n",
    "x_rot, y_rot = X_mid_unc_t_a\n",
    "delta_x_crc_La = x_rot - x_La[:, 0]# - x_rot\n",
    "delta_y_crc_La = y_rot - x_La[:, 1]\n",
    "B = sp.dic_grid.sz_bd.B\n",
    "M_L_0 = np.trapz(delta_y_crc_La * self.sig_crc_t_La[:, 0], x_La[:,1]) * B\n",
    "M_L_1 = np.trapz(delta_x_crc_La * self.sig_crc_t_La[:, 1], x_La[:,0]) * B\n",
    "M = np.sum(M_L_0, axis=0) + np.sum(M_L_1, axis=0)\n",
    "M"
   ]
  },
  {
   "cell_type": "code",
   "execution_count": null,
   "id": "7c4f1870-7007-4447-bd88-cb8722a757c8",
   "metadata": {},
   "outputs": [],
   "source": [
    "delta_y_N = y_rot - self.z_N\n",
    "M_y = np.einsum('i,i', delta_y_N, self.F_t_Na[:, 0])\n",
    "# assuming that the horizontal position of the crack bridge\n",
    "# is almost equal to the initial position of the crack x_00\n",
    "# x_00 = np.ones_like(self.z_N) * self.sz_cp.x_00\n",
    "x_00 = self.dic_crack.C_cubic_spline(self.z_N)\n",
    "delta_x_N = x_00 - x_rot\n",
    "M_da = np.einsum('i,i', delta_x_N, self.F_t_Na[:, 1])\n",
    "M_y, M_da, M"
   ]
  },
  {
   "cell_type": "code",
   "execution_count": null,
   "id": "d0f0a7b5-64e6-4983-9208-d7c0480f2c66",
   "metadata": {},
   "outputs": [],
   "source": [
    "sp.M_mid_unc_t_a"
   ]
  },
  {
   "cell_type": "code",
   "execution_count": null,
   "id": "ba59792e-cba9-472d-b8df-f958c5fb08b4",
   "metadata": {},
   "outputs": [],
   "source": [
    "sp.M_ext_kN_t * 1000"
   ]
  },
  {
   "cell_type": "code",
   "execution_count": null,
   "id": "cd89e33e-8d92-48fc-b566-535d9e37652a",
   "metadata": {},
   "outputs": [],
   "source": [
    "M_cb_t_ = []\n",
    "M_da_t_ = []\n",
    "M_ag_t_ = []\n",
    "M_ext_t_ = []\n",
    "print('crack ', end='')\n",
    "c = 2\n",
    "crack = dcl.cracks[str(c)]\n",
    "sp = crack.sp\n",
    "t_range = np.linspace(0,1,10)\n",
    "for t in t_range:\n",
    "    dcl.dsf.dic_grid.t = t\n",
    "    M_cb, M_da, M_ag = sp.M_mid_unc_t_a\n",
    "    M_cb_t_.append(M_cb/1000)\n",
    "    M_da_t_.append(M_da/1000)\n",
    "    M_ag_t_.append(M_ag/1000)\n",
    "    M_ext_t_.append(self.M_ext_kN_t)\n",
    "M_cb_t = np.array(M_cb_t_)\n",
    "M_da_t = np.array(M_da_t_)\n",
    "M_ag_t = np.array(M_ag_t_)\n",
    "M_ext_t = np.array(M_ext_t_)"
   ]
  },
  {
   "cell_type": "code",
   "execution_count": null,
   "id": "2f68e9da-94e9-440c-90b9-0ea3f95eb077",
   "metadata": {},
   "outputs": [],
   "source": [
    "t_range, M_cb_t"
   ]
  },
  {
   "cell_type": "code",
   "execution_count": null,
   "id": "c63d2926-b1d3-4f5b-a74b-5914b36e64e8",
   "metadata": {},
   "outputs": [],
   "source": [
    "%matplotlib widget\n",
    "fig, ax = plt.subplots(1,1)\n",
    "colors = ['red', 'blue', 'green', 'magenta', 'brown', 'gray', 'yellow']\n",
    "ax.plot(t_range, M_cb_t, color='red')\n",
    "#ax.fill_between(t_range, M_cb_t, 0, 'red', alpha=0.2) \n",
    "ax.plot(t_range, M_da_t + M_cb_t, color='red')\n",
    "#ax.fill_between(t_range, M_da_t, M_cb_t, 'red', alpha=0.2) \n",
    "ax.plot(t_range, M_ag_t + M_da_t + M_cb_t, color='red')\n",
    "#ax.fill_between(t_range, M_ag_t, M_da_t, 'red', alpha=0.2) \n",
    "ax.plot(t_range, M_ext_t, color='black')\n",
    "#ax.legend();"
   ]
  },
  {
   "cell_type": "markdown",
   "id": "fa38510a-084a-4087-b911-ce370f33a3ee",
   "metadata": {},
   "source": [
    "# Check to see if the global moment equilibrium is related to the correct point"
   ]
  },
  {
   "cell_type": "code",
   "execution_count": null,
   "id": "7d89efcf-82a0-46b1-810c-708aba119612",
   "metadata": {},
   "outputs": [],
   "source": [
    "dcl.cracks"
   ]
  },
  {
   "cell_type": "code",
   "execution_count": null,
   "id": "fdca81b5-42c5-4fb3-a1ea-975d56141ba9",
   "metadata": {},
   "outputs": [],
   "source": [
    "V_crc_Ct = []\n",
    "V_unc_Ct = []\n",
    "V_ext_Ct = []\n",
    "print('crack ', end='')\n",
    "for c, crack in dcl.cracks.items():\n",
    "    print('{}, '.format(c), end='')\n",
    "    sp = crack.sp\n",
    "    V_crc_t_ = []\n",
    "    V_unc_t_ = []\n",
    "    V_ext_t_ = []\n",
    "    t_range = np.linspace(0,1,10)\n",
    "    for t in t_range:\n",
    "        dcl.dsf.dic_grid.t = t\n",
    "        V_crc_t_.append(sp.V_crc_y)\n",
    "        V_unc_t_.append(sp.V_unc_y)\n",
    "        V_ext_t_.append(sp.V_ext_kN_t)\n",
    "    V_ext_Ct.append(np.array(V_ext_t_))\n",
    "    V_crc_Ct.append(np.array(V_crc_t_)/1000)\n",
    "    V_unc_Ct.append(np.array(V_unc_t_)/1000)\n",
    "    "
   ]
  },
  {
   "cell_type": "code",
   "execution_count": null,
   "id": "5b9bf691-b44a-4359-be39-1e44d344791f",
   "metadata": {},
   "outputs": [],
   "source": [
    "sp.dic_grid.F_T_t"
   ]
  },
  {
   "cell_type": "code",
   "execution_count": null,
   "id": "07773552-f445-468d-ab47-3a33d7c439e7",
   "metadata": {},
   "outputs": [],
   "source": [
    "%matplotlib widget\n",
    "fig, ax = plt.subplots(1,1)\n",
    "colors = ['red', 'blue', 'green', 'magenta', 'brown', 'gray', 'yellow']\n",
    "for c, (color, V_crc_t, V_ext_t) in enumerate(zip(colors, V_crc_Ct, V_ext_Ct)):\n",
    "    ax.plot(t_range, V_crc_t[:,0], color=color, label='crack {}'.format(c))\n",
    "    ax.fill_between(t_range, V_crc_t[:,0], 0, color=color, alpha=0.1) \n",
    "    ax.plot(t_range, V_ext_t, linestyle='dotted', color='black')\n",
    "ax.plot(t_range, V_ext_t)\n",
    "ax.legend();"
   ]
  },
  {
   "cell_type": "code",
   "execution_count": null,
   "id": "053be315-9b5c-4235-871a-a6809e2cec73",
   "metadata": {},
   "outputs": [],
   "source": [
    "sp.V_crc_y"
   ]
  },
  {
   "cell_type": "code",
   "execution_count": null,
   "id": "2a8ad1a8-d1e6-4a0e-a4d4-3184517d485d",
   "metadata": {},
   "outputs": [],
   "source": []
  }
 ],
 "metadata": {
  "kernelspec": {
   "display_name": "bmcs_env2",
   "language": "python",
   "name": "bmcs_env2"
  },
  "language_info": {
   "codemirror_mode": {
    "name": "ipython",
    "version": 3
   },
   "file_extension": ".py",
   "mimetype": "text/x-python",
   "name": "python",
   "nbconvert_exporter": "python",
   "pygments_lexer": "ipython3"
  }
 },
 "nbformat": 4,
 "nbformat_minor": 5
}
