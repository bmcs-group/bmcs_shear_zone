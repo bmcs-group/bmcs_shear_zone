{
 "cells": [
  {
   "cell_type": "markdown",
   "id": "bd3d7b5d-f468-4dc9-a72c-78599931be3b",
   "metadata": {},
   "source": [
    "# Stress profile evaluation"
   ]
  },
  {
   "cell_type": "code",
   "execution_count": null,
   "id": "c2fe6f9d-23fd-4852-bc53-56c37bb3cd3a",
   "metadata": {},
   "outputs": [],
   "source": [
    "%matplotlib widget\n",
    "import ibvpy.api as ib\n",
    "import matplotlib.pylab as plt\n",
    "from matplotlib import cm\n",
    "from bmcs_shear.dic_crack import\\\n",
    "    DICGrid, DICInpUnstructuredPoints, DICStateFields, \\\n",
    "    DICAlignedGrid, DICGrid\n",
    "from bmcs_shear.dic_crack.dic_crack_list2 import DICCrackList\n",
    "import numpy as np\n",
    "np.seterr(divide ='ignore', invalid='ignore');"
   ]
  },
  {
   "cell_type": "code",
   "execution_count": null,
   "id": "28038bd6-953d-4154-a122-51e7732dbc10",
   "metadata": {},
   "outputs": [],
   "source": [
    "dic_points = DICInpUnstructuredPoints(U_factor=10, dir_name='B9_TV2', t=1,\n",
    "                                      n_T_max=40, T_stepping='delta_T')\n",
    "dic_points.read_beam_design()\n",
    "dic_grid = DICGrid(dic_inp=dic_points, d_x=5, d_y=5)"
   ]
  },
  {
   "cell_type": "code",
   "execution_count": null,
   "id": "bff26c59-9221-429a-93c3-a06e2e39d30d",
   "metadata": {},
   "outputs": [],
   "source": [
    "dsf = DICStateFields(dic_grid=dic_grid, R=6, omega_threshold=0.15, verbose_eval=True)\n",
    "dsf.tmodel_.trait_set(E=1400, c_T=0.006, nu=0.18, epsilon_0=0.0018,\n",
    "                      epsilon_f=0.0019, eps_max=0.01);\n",
    "dsf = DICStateFields(dic_grid=dic_grid, R=5, omega_threshold=0.15, verbose_eval=True, tmodel='scalar_damage')\n",
    "dsf.tmodel_.trait_set(E=1600, nu=0.18, omega_fn='exp-slope', strain_norm='Rankine', eps_max=0.01)\n",
    "dsf.tmodel_.omega_fn_.trait_set(kappa_0=0.002, kappa_f=0.0028);\n",
    "dcl = DICCrackList(dsf=dsf, delta_alpha_min=-np.pi/6, delta_alpha_max=np.pi/3, delta_s = 25, x_boundary=30)"
   ]
  },
  {
   "cell_type": "code",
   "execution_count": null,
   "id": "d4b5f834-1011-4597-8413-4d9105ba4e69",
   "metadata": {},
   "outputs": [],
   "source": [
    "dcl.interact()"
   ]
  },
  {
   "cell_type": "code",
   "execution_count": null,
   "id": "a83ecbb2-3c59-4a9b-adbd-77081eea00b1",
   "metadata": {},
   "outputs": [],
   "source": [
    "c = 5\n",
    "sp = dcl.cracks[str(c)].sp"
   ]
  },
  {
   "cell_type": "code",
   "execution_count": null,
   "id": "26bc8e01-d422-4da7-86d2-4fd30c4dcb52",
   "metadata": {},
   "outputs": [],
   "source": [
    "sp.interact()"
   ]
  },
  {
   "cell_type": "code",
   "execution_count": null,
   "id": "ad7a8d16-b1c7-4c2c-830e-c49b88a1e4e4",
   "metadata": {},
   "outputs": [],
   "source": [
    "import bmcs_utils.api as bu\n",
    "%matplotlib widget\n",
    "fig, ax_F = plt.subplots(1,1)\n",
    "ax_sig = ax_F.twiny()\n",
    "sp.plot_sig_t_crc_La(ax_sig)\n",
    "sp.plot_sig_t_unc_Lab(ax_sig)\n",
    "sp.plot_F_t_a(ax_F)\n",
    "bu.mpl_align_xaxis(ax_sig, ax_F)"
   ]
  },
  {
   "cell_type": "markdown",
   "id": "fa38510a-084a-4087-b911-ce370f33a3ee",
   "metadata": {},
   "source": [
    "# Check to see if the global moment equilibrium is related to the correct point"
   ]
  },
  {
   "cell_type": "code",
   "execution_count": null,
   "id": "7d89efcf-82a0-46b1-810c-708aba119612",
   "metadata": {},
   "outputs": [],
   "source": [
    "dcl.cracks"
   ]
  },
  {
   "cell_type": "code",
   "execution_count": null,
   "id": "fdca81b5-42c5-4fb3-a1ea-975d56141ba9",
   "metadata": {},
   "outputs": [],
   "source": [
    "%matplotlib widget\n",
    "fig, ax = plt.subplots(1,1)\n",
    "for c, crack in dcl.cracks.items():\n",
    "    print('crack', c)\n",
    "    sp = crack.sp\n",
    "    V_crc_t_ = []\n",
    "    V_unc_t_ = []\n",
    "    t_range = np.linspace(0,1,10)\n",
    "    for t in t_range:\n",
    "        dcl.dsf.dic_grid.t = t\n",
    "        V_crc_t_.append(sp.V_crc_y)\n",
    "        V_unc_t_.append(sp.V_unc_y)\n",
    "    V_crc_t = np.array(V_crc_t_)\n",
    "    V_unc_t = np.array(V_unc_t_)\n",
    "    ax.plot(t_range, V_crc_t[:,0], label=c)\n",
    "#    ax.plot(t_range, V_unc_t[:,0])\n",
    "ax.legend()"
   ]
  },
  {
   "cell_type": "code",
   "execution_count": null,
   "id": "59787024-fd1c-4b65-84bf-e6d0e1c5b303",
   "metadata": {},
   "outputs": [],
   "source": []
  },
  {
   "cell_type": "code",
   "execution_count": null,
   "id": "ba415392-70d1-44d1-b2d5-d182f66365be",
   "metadata": {},
   "outputs": [],
   "source": []
  },
  {
   "cell_type": "code",
   "execution_count": null,
   "id": "b60d822f-75b2-4d7a-a819-db382706c6b8",
   "metadata": {},
   "outputs": [],
   "source": []
  }
 ],
 "metadata": {
  "kernelspec": {
   "display_name": "bmcs_env2",
   "language": "python",
   "name": "bmcs_env2"
  },
  "language_info": {
   "codemirror_mode": {
    "name": "ipython",
    "version": 3
   },
   "file_extension": ".py",
   "mimetype": "text/x-python",
   "name": "python",
   "nbconvert_exporter": "python",
   "pygments_lexer": "ipython3"
  }
 },
 "nbformat": 4,
 "nbformat_minor": 5
}
