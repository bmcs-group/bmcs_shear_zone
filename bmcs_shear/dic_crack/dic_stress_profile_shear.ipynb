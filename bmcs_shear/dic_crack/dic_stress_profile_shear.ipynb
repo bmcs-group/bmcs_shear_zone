{
 "cells": [
  {
   "cell_type": "markdown",
   "id": "e73bd23f-21ba-44b4-b1fa-652fa2402bce",
   "metadata": {},
   "source": [
    "# Shear stress profile in uncracked region"
   ]
  },
  {
   "cell_type": "code",
   "execution_count": null,
   "id": "c03392ab-b068-4be1-a31c-7a5652d7a007",
   "metadata": {},
   "outputs": [],
   "source": [
    "%matplotlib widget\n",
    "import ibvpy.api as ib\n",
    "import bmcs_utils.api as bu\n",
    "import matplotlib.pylab as plt\n",
    "from matplotlib import cm\n",
    "from bmcs_shear.dic_crack import \\\n",
    "    DICGrid, DICInpUnstructuredPoints, DICStateFields, \\\n",
    "    DICAlignedGrid, DICGrid\n",
    "from bmcs_shear.dic_crack.dic_crack_list2 import DICCrackList\n",
    "import numpy as np\n",
    "np.seterr(divide ='ignore', invalid='ignore');"
   ]
  },
  {
   "cell_type": "markdown",
   "id": "587dcdbc-fe9f-4f0b-a6ba-ad6fb6fcc609",
   "metadata": {},
   "source": [
    "Read the data and detect cracks"
   ]
  },
  {
   "cell_type": "code",
   "execution_count": null,
   "id": "8481c7c1-31e4-4950-9581-19e61fb48410",
   "metadata": {},
   "outputs": [],
   "source": [
    "dic_points = DICInpUnstructuredPoints(U_factor=10, dir_name='B7_TV1', t=1,\n",
    "                                      n_T_max=40, T_stepping='delta_T')\n",
    "dic_points.read_beam_design()\n",
    "dic_grid = DICGrid(dic_inp=dic_points, d_x=5, d_y=5, t=0.2)\n",
    "dsf = DICStateFields(dic_grid=dic_grid, R=6, omega_threshold=0.15, verbose_eval=True)\n",
    "dsf.tmodel_.trait_set(E=1400, c_T=0.006, nu=0.18, epsilon_0=0.0018,\n",
    "                      epsilon_f=0.0019, eps_max=0.01);\n",
    "dsf = DICStateFields(dic_grid=dic_grid, R=8, omega_threshold=0.15, verbose_eval=True, tmodel='scalar_damage')\n",
    "dsf.tmodel_.trait_set(E=1600, nu=0.18, omega_fn='exp-slope', strain_norm='Rankine', eps_max=0.01)\n",
    "dsf.tmodel_.omega_fn_.trait_set(kappa_0=0.002, kappa_f=0.0028);\n",
    "dcl = DICCrackList(dsf=dsf, \n",
    "                   t_detect=0.95,\n",
    "                   delta_alpha_min=-0.5, # -np.pi/6, \n",
    "                   delta_alpha_max=np.pi/3, delta_s = 25, x_boundary=30)\n",
    "dcl.interact()"
   ]
  },
  {
   "cell_type": "markdown",
   "id": "31dcfe5b-0bff-44f4-89d3-76bf15c39b0e",
   "metadata": {},
   "source": [
    "## Stress profile in compressive region "
   ]
  },
  {
   "cell_type": "code",
   "execution_count": null,
   "id": "fb64087b-22ec-4b0b-b800-3402873d87cf",
   "metadata": {},
   "outputs": [],
   "source": [
    "c = 3\n",
    "crack = dcl.cracks[c]\n",
    "sp = crack.sp"
   ]
  },
  {
   "cell_type": "code",
   "execution_count": null,
   "id": "ee27ef00-7304-4134-908e-13e112b291d5",
   "metadata": {},
   "outputs": [],
   "source": [
    "%matplotlib widget\n",
    "fig, (ax_u, ax_F) = plt.subplots(1,2)\n",
    "ax_sig = ax_F.twiny()\n",
    "sp.plot_sig_t_crc_La(ax_sig)\n",
    "sp.plot_sig_t_unc_Lab(ax_sig)\n",
    "crack.plot_eps_unc_t_Kab(ax_u)\n",
    "X_unc_t_La = sp.X_unc_t_La\n",
    "ax_u.plot(sp.eps_unc_t_Lab[:, 0, 0], X_unc_t_La[:, 1], color='red')\n",
    "sp.plot_F_t_a(ax_F)\n",
    "bu.mpl_align_xaxis(ax_sig, ax_F)"
   ]
  },
  {
   "cell_type": "code",
   "execution_count": null,
   "id": "f91ba5b2-f8cf-46e2-968b-ddec05822e72",
   "metadata": {},
   "outputs": [],
   "source": [
    "dcl.dsf.X_ipl_MNa.shape"
   ]
  },
  {
   "cell_type": "code",
   "execution_count": null,
   "id": "38088b6c-c18e-4dd5-8dbd-e4d54ad0c0cb",
   "metadata": {},
   "outputs": [],
   "source": [
    "X_upper_line_Ma = dcl.dsf.X_ipl_MNa[:, -1, :]\n",
    "x_M, y_M = X_upper_line_Ma.T\n",
    "t_M = np.ones_like(x_M) * 0 # dic_grid.t\n",
    "tX_Ma = np.array([t_M, x_M, y_M], dtype=np.float_).T"
   ]
  },
  {
   "cell_type": "code",
   "execution_count": null,
   "id": "b431585f-ffe1-43df-8742-017ed7c5f202",
   "metadata": {},
   "outputs": [],
   "source": [
    "eps_Mab = dcl.dsf.f_eps_fe_txy(tX_Ma)"
   ]
  },
  {
   "cell_type": "code",
   "execution_count": null,
   "id": "3e062a02-c649-4040-b8ad-89ff3d45d432",
   "metadata": {},
   "outputs": [],
   "source": [
    "%matplotlib widget\n",
    "fig, ax = plt.subplots(1,1)\n",
    "fig.canvas.header_visible = False\n",
    "ax.plot(x_M, eps_Mab[:,0,0])"
   ]
  },
  {
   "cell_type": "code",
   "execution_count": null,
   "id": "27c86b06-06fc-43ab-900f-caa5109fd003",
   "metadata": {},
   "outputs": [],
   "source": [
    "from vtk.util import numpy_support"
   ]
  },
  {
   "cell_type": "code",
   "execution_count": null,
   "id": "dafe7f3d-9297-44a3-85e3-ad3edd016e4f",
   "metadata": {},
   "outputs": [],
   "source": [
    "#numpy_support.numpy_to_vtk(num_array=x_M.ravel(), deep=True, array_type=vtk.VTK_FLOAT)"
   ]
  },
  {
   "cell_type": "code",
   "execution_count": null,
   "id": "05704b43-8211-409f-a0b8-c45e09469db1",
   "metadata": {},
   "outputs": [],
   "source": []
  },
  {
   "cell_type": "markdown",
   "id": "1942950e-c42b-4341-b62a-65f8adbc63dd",
   "metadata": {},
   "source": [
    "## Direct quantification of compression stress from sthe strain profile "
   ]
  },
  {
   "cell_type": "code",
   "execution_count": null,
   "id": "364126a7-2536-4ebe-a3f9-b1544f298ea2",
   "metadata": {},
   "outputs": [],
   "source": [
    "t = 1\n",
    "sig_d_x = 250\n",
    "sig2_d_x = sig_d_x / 2\n",
    "x_K, y_K = crack.X_unc_t_Ka.T\n",
    "t_K = np.ones_like(x_K) * t\n",
    "\n",
    "tX_right_Ka = np.array([t_K, x_K + sig2_d_x, y_K], dtype=np.float_).T\n",
    "tX_left_Ka = np.array([t_K, x_K - sig2_d_x, y_K], dtype=np.float_).T\n",
    "ttX_right_Ka = np.array([x_K + sig2_d_x, y_K], dtype=np.float_).T\n",
    "ttX_left_Ka = np.array([x_K - sig2_d_x, y_K], dtype=np.float_).T"
   ]
  },
  {
   "cell_type": "code",
   "execution_count": null,
   "id": "80c24b39-ee16-42dc-b162-d8c4067d1847",
   "metadata": {},
   "outputs": [],
   "source": [
    "eps_left_Kab = crack.get_eps_Kab(crack.dic_grid.t, ttX_left_Ka)\n",
    "eps_right_Kab = crack.get_eps_Kab(crack.dic_grid.t, ttX_right_Ka)"
   ]
  },
  {
   "cell_type": "code",
   "execution_count": null,
   "id": "517fbed0-87a5-4be6-b80d-e86484e3dd1c",
   "metadata": {},
   "outputs": [],
   "source": [
    "eps_Kab = crack.get_eps_Kab(crack.dic_grid.t, crack.X_unc_t_Ka)"
   ]
  },
  {
   "cell_type": "code",
   "execution_count": null,
   "id": "f152643f-dcdf-4837-8e8e-4535cb4eefbd",
   "metadata": {},
   "outputs": [],
   "source": [
    "%matplotlib widget\n",
    "fig, ax_u = plt.subplots(1,1)\n",
    "crack.plot_eps_unc_t_Kab(ax_u)\n",
    "ax_u.plot(eps_left_Kab[:,0,0], y_K, color='red')\n",
    "ax_u.plot(eps_right_Kab[:,0,0], y_K, color='green')\n",
    "ax_u.plot(sp.eps_unc_t_Lab[:,0,0], X_unc_t_La[:, 1], color='orange');"
   ]
  },
  {
   "cell_type": "markdown",
   "id": "6c1182e3-4f4d-4bf5-845c-d8181bbce859",
   "metadata": {},
   "source": [
    "## Stress profile"
   ]
  },
  {
   "cell_type": "code",
   "execution_count": null,
   "id": "53802979-a907-40e6-b6a6-2ba32572cd52",
   "metadata": {},
   "outputs": [],
   "source": [
    "E_, nu_ = 28000, 0.2"
   ]
  },
  {
   "cell_type": "code",
   "execution_count": null,
   "id": "8c77e142-627e-448c-93d8-90d79e72fda8",
   "metadata": {},
   "outputs": [],
   "source": [
    "_1_nu_ = 1 / (1 - nu_)\n",
    "E_ab = E_ / (1 + nu_) * np.array([[ _1_nu_, _1_nu_, 0],\n",
    "                                  [ _1_nu_, _1_nu_, 0],\n",
    "                                  [ 0, 0, 0.5]])"
   ]
  },
  {
   "cell_type": "code",
   "execution_count": null,
   "id": "f2274168-d6e9-418b-89be-a416e5b14f84",
   "metadata": {},
   "outputs": [],
   "source": [
    "eps_left_Kd = np.hstack([eps_left_Kab[:, [0, 1], [0, 1]], 2 * eps_left_Kab[:, 0, 1, np.newaxis]])\n",
    "eps_right_Kd = np.hstack([eps_right_Kab[:, [0, 1], [0, 1]], 2 * eps_right_Kab[:, 0, 1, np.newaxis]])"
   ]
  },
  {
   "cell_type": "code",
   "execution_count": null,
   "id": "07d4ddc5-58e6-4301-b0e3-95bec6b14844",
   "metadata": {},
   "outputs": [],
   "source": [
    "sig_left_Kd = np.einsum('cd, ...d->...c', E_ab, eps_left_Kd)\n",
    "sig_right_Kd = np.einsum('cd, ...d->...c', E_ab, eps_right_Kd)"
   ]
  },
  {
   "cell_type": "code",
   "execution_count": null,
   "id": "545e3a2f-1ba1-4cad-bebf-58da8788f55d",
   "metadata": {},
   "outputs": [],
   "source": [
    "delta_sig_Kd = sig_right_Kd - sig_left_Kd"
   ]
  },
  {
   "cell_type": "code",
   "execution_count": null,
   "id": "48c177eb-2119-41d2-93fc-804f19c84530",
   "metadata": {},
   "outputs": [],
   "source": [
    "%matplotlib widget\n",
    "fig, ax = plt.subplots(1,1)\n",
    "fig.canvas.header_visible = False\n",
    "eps_K_ = sig_right_Kd[:, 0]\n",
    "ax.plot(eps_K_, y_K)\n",
    "sp.plot_sig_t_unc_Lab(ax)\n",
    "ax.plot(np.zeros_like(eps_K_), y_K)"
   ]
  },
  {
   "cell_type": "code",
   "execution_count": null,
   "id": "0f216e74-d169-4c5f-a908-137257e39a89",
   "metadata": {},
   "outputs": [],
   "source": []
  }
 ],
 "metadata": {
  "kernelspec": {
   "display_name": "bmcs_env2",
   "language": "python",
   "name": "bmcs_env2"
  },
  "language_info": {
   "codemirror_mode": {
    "name": "ipython",
    "version": 3
   },
   "file_extension": ".py",
   "mimetype": "text/x-python",
   "name": "python",
   "nbconvert_exporter": "python",
   "pygments_lexer": "ipython3"
  }
 },
 "nbformat": 4,
 "nbformat_minor": 5
}
