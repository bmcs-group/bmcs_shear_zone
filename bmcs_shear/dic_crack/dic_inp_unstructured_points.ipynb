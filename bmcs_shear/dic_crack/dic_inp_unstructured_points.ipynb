{
 "cells": [
  {
   "cell_type": "markdown",
   "id": "c99b23ab-fdec-41de-a12e-a7ec4712d7ca",
   "metadata": {},
   "source": [
    "# **Tutorial for DICUnstructuredPoints model component**"
   ]
  },
  {
   "cell_type": "markdown",
   "id": "230a3a0e-7463-492b-b02d-1219f002da42",
   "metadata": {},
   "source": [
    "DIC Grid serves for reading the data available as a sequence of files with displacement measurements stored in a directory, accompanied with the measured load deflection curve. It refers to the `BeamDesign` object defining the design of the reinforced beam. By combining the information from the optical measurement with statical scheme, geometry and reinforcement layout, this model component serves \n",
    "further analysis by providing the correct **load-space-time** databasis."
   ]
  },
  {
   "cell_type": "code",
   "execution_count": null,
   "id": "2212c080-90f1-4691-9995-1e6b80afbccd",
   "metadata": {},
   "outputs": [],
   "source": [
    "%matplotlib widget\n",
    "import numpy as np\n",
    "import matplotlib.pylab as plt"
   ]
  },
  {
   "cell_type": "markdown",
   "id": "eaabbf02-9b9f-438b-8e37-b3076396cea0",
   "metadata": {},
   "source": [
    "## Application example\n",
    "Let us construct a grid example and render the interactive interface showing the measured displacmeent at the maximum load $t = 1$ and with displacement amplified by a factor $U_\\mathrm{factor} = 100$. "
   ]
  },
  {
   "cell_type": "code",
   "execution_count": null,
   "id": "bc0f416f-c31d-4d59-a67a-1fa73fb80a02",
   "metadata": {},
   "outputs": [],
   "source": [
    "from bmcs_shear.dic_crack.dic_inp_unstructured_points import DICInpUnstructuredPoints\n",
    "dic_points = DICInpUnstructuredPoints(U_factor=10, dir_name='B1_TV1', t=1, padding=40, n_T_max=40, \n",
    "                                      T_stepping='delta_T')\n",
    "dic_points.read_beam_design()\n",
    "sz_bd = dic_points.sz_bd\n",
    "sz_bd.system = 'simple_beam_dist_load'"
   ]
  },
  {
   "cell_type": "code",
   "execution_count": null,
   "id": "a33a6ce3-dfcd-4478-b755-4abcf70e62b8",
   "metadata": {},
   "outputs": [],
   "source": [
    "dic_points.sz_bd.interact()"
   ]
  },
  {
   "cell_type": "code",
   "execution_count": null,
   "id": "00340408-0b15-4a84-b596-69823e9c9260",
   "metadata": {},
   "outputs": [],
   "source": [
    "dic_points.interact()"
   ]
  },
  {
   "cell_type": "markdown",
   "id": "99769804-a5b7-48cb-b22a-b7a3c27652c9",
   "metadata": {},
   "source": [
    "Note that the orange markers denote the states with available DIC measurements performed during the history of loading."
   ]
  },
  {
   "cell_type": "markdown",
   "id": "aa0f91d7-703b-4a7d-b2b6-6872ad6ea624",
   "metadata": {},
   "source": [
    "## Read data format"
   ]
  },
  {
   "cell_type": "code",
   "execution_count": null,
   "id": "5e205c60-54a3-417a-8117-957dc17fcc7e",
   "metadata": {},
   "outputs": [],
   "source": []
  },
  {
   "cell_type": "markdown",
   "id": "e92531b7-12a8-4673-a8b5-9f3a20db88cb",
   "metadata": {},
   "source": [
    "### Input directory structure"
   ]
  },
  {
   "cell_type": "markdown",
   "id": "2ca2c5c0-f4f0-42b9-b7eb-7f81619332e0",
   "metadata": {},
   "source": [
    "The `DICGrid` objects reads the data from a directory named as `dir_name`"
   ]
  },
  {
   "cell_type": "code",
   "execution_count": null,
   "id": "962dfa80-8ed3-4bb5-b1a0-2af156971477",
   "metadata": {},
   "outputs": [],
   "source": [
    "dic_points.dir_name"
   ]
  },
  {
   "cell_type": "markdown",
   "id": "e6146136-747a-407b-b5fb-ecfd92a52f25",
   "metadata": {},
   "source": [
    "The property trait `data_dir` assembles the path to the data directory using path starting in the home directory, i.e. \n",
    "\n",
    "```join(dic_grid.home_dir, 'simdb', 'data', 'shear_zone', dic_grid.dir_name)```\n",
    "\n",
    "For the current example, we obtain"
   ]
  },
  {
   "cell_type": "code",
   "execution_count": null,
   "id": "5300dc6d-9d5c-42ef-8f65-878b0bf87e8e",
   "metadata": {},
   "outputs": [],
   "source": [
    "dic_points.data_dir"
   ]
  },
  {
   "cell_type": "markdown",
   "id": "9e1999e4-2729-4bae-872d-5aa63a2434d1",
   "metadata": {},
   "source": [
    "To get the directory with the DIC data, issue "
   ]
  },
  {
   "cell_type": "code",
   "execution_count": null,
   "id": "8aba74a2-c1ba-4627-9dfe-0f94e9f866bd",
   "metadata": {},
   "outputs": [],
   "source": [
    "dic_points.dic_data_dir"
   ]
  },
  {
   "cell_type": "markdown",
   "id": "5a106802-5c4c-4897-b285-1f89d9a54c67",
   "metadata": {},
   "source": [
    "### Load deflection response"
   ]
  },
  {
   "cell_type": "markdown",
   "id": "3dc37d7e-4923-430e-95e4-5dd5ae34057e",
   "metadata": {},
   "source": [
    "To obtain the directory with the load deflection curve, use"
   ]
  },
  {
   "cell_type": "code",
   "execution_count": null,
   "id": "750ef745-8c1c-45b3-a316-6f4cf7cbc701",
   "metadata": {},
   "outputs": [],
   "source": [
    "dic_points.time_F_w_data_dir"
   ]
  },
  {
   "cell_type": "markdown",
   "id": "2c54c63c-2c46-47cd-9dc0-95a2fb941bf9",
   "metadata": {},
   "source": [
    "### Beam parameters\n",
    "File specifying the beam parameters is assessed using the property traits `beam_param_fie` and is named `beam_params.txt` by default"
   ]
  },
  {
   "cell_type": "code",
   "execution_count": null,
   "id": "4b965bc5-9dbe-46f7-8de6-d26f4f5f94b2",
   "metadata": {},
   "outputs": [],
   "source": [
    "dic_points.beam_param_file"
   ]
  },
  {
   "cell_type": "markdown",
   "id": "a6dcd299-b959-45a0-94be-572fea490f3c",
   "metadata": {},
   "source": [
    "This file specifies the parameters \n",
    " - length $L$\n",
    " - width $B$\n",
    " - depth $H$\n",
    " - number of reinforcement bars $n_\\mathrm{s}$\n",
    " - vertical position of the bars $y_\\mathrm{s}$\n",
    " - diameter of the reinforcement $d_\\mathrm{s}$"
   ]
  },
  {
   "cell_type": "code",
   "execution_count": null,
   "id": "28daca77-725e-4811-a3d8-c40517ea0687",
   "metadata": {},
   "outputs": [],
   "source": [
    "dic_points.beam_param_types"
   ]
  },
  {
   "cell_type": "markdown",
   "id": "282e8742-c0c7-4476-a45d-fdf4e642a9e2",
   "metadata": {},
   "source": [
    "Currently, to setup the beam parmaters correctly, a call to `read_beam_design` must be issued using"
   ]
  },
  {
   "cell_type": "code",
   "execution_count": null,
   "id": "c06b69b1-b2b4-4aa2-87a6-6fee9490afde",
   "metadata": {},
   "outputs": [],
   "source": [
    "dic_points.read_beam_design()"
   ]
  },
  {
   "cell_type": "markdown",
   "id": "be27e653-3a20-4c0b-ae43-19917d099df6",
   "metadata": {},
   "source": [
    "**Note** This need should be avoided later by capturing the dependency with respect to the `data_dir` attribute. Currently, the notification mechanism does not allow this because of are further dependency links."
   ]
  },
  {
   "cell_type": "markdown",
   "id": "e07d69ca-a4cb-4f2a-b128-770c6dc5a05d",
   "metadata": {},
   "source": [
    "The beam design object is available in the attribute `sz_bd`. The type of the `RCBeamDesign` is general and specifies also the material models associated with individual material components."
   ]
  },
  {
   "cell_type": "markdown",
   "id": "54596172-70b3-4402-84ef-2f046a330b2f",
   "metadata": {},
   "source": [
    "The parameters relevant for correct configuration of the `dic_grid` within the beam design are the length and offset with respect the beam bounaries "
   ]
  },
  {
   "cell_type": "code",
   "execution_count": null,
   "id": "b51b9cae-6554-454b-a480-21e622a23989",
   "metadata": {},
   "outputs": [],
   "source": [
    "dic_points.dic_data_dir"
   ]
  },
  {
   "cell_type": "code",
   "execution_count": null,
   "id": "1dd183a3-c645-464f-a46d-042aec9a1629",
   "metadata": {},
   "outputs": [],
   "source": [
    "dic_points.L_x, dic_points.L_y"
   ]
  },
  {
   "cell_type": "markdown",
   "id": "09cb23de-6103-45e5-89c6-e6adcafcd0a6",
   "metadata": {},
   "source": [
    "### Grid parameters"
   ]
  },
  {
   "cell_type": "markdown",
   "id": "ae307d58-6a02-475c-a9c5-26572eb089e6",
   "metadata": {},
   "source": [
    "File specifying the grid data parameters is accessed using the property trait `grid_param_file` and is named\n",
    "`grid_params.txt` by default."
   ]
  },
  {
   "cell_type": "code",
   "execution_count": null,
   "id": "ae5beab6-8e88-44d2-ac31-0c3b9e12762d",
   "metadata": {},
   "outputs": [],
   "source": [
    "dic_points.dic_param_file"
   ]
  },
  {
   "cell_type": "markdown",
   "id": "f0e87f75-a8e2-470c-aaf2-63bedbe8f455",
   "metadata": {},
   "source": [
    "This file contains the name-value pairs of the attributes defined by the `grid_param_types` dictionary"
   ]
  },
  {
   "cell_type": "code",
   "execution_count": null,
   "id": "6fd25971-7b81-435d-b10c-177b6e88dba6",
   "metadata": {},
   "outputs": [],
   "source": [
    "dic_points.dic_param_types"
   ]
  },
  {
   "cell_type": "markdown",
   "id": "f6f3d5b2-2071-4903-b46f-1952bd3c7d76",
   "metadata": {},
   "source": [
    "Thus, the `grid_params` of the current test `B7_TV1` read"
   ]
  },
  {
   "cell_type": "code",
   "execution_count": null,
   "id": "5d3c5390-8b75-4834-a2b8-cb6042d63f94",
   "metadata": {},
   "outputs": [],
   "source": [
    "dic_points.dic_params"
   ]
  },
  {
   "cell_type": "markdown",
   "id": "4c5614f4-1f23-4543-9e23-9c6fb6296d2b",
   "metadata": {},
   "source": [
    "The DIC data files corresponding to each measured step are assembled in the string list `files` "
   ]
  },
  {
   "cell_type": "markdown",
   "id": "4193efd3-5c0f-4845-a236-fa53e88e0daf",
   "metadata": {},
   "source": [
    "These parameters are available as properties and can be accessed via"
   ]
  },
  {
   "cell_type": "code",
   "execution_count": null,
   "id": "6c9afdc7-42c7-4988-b66e-547b28009e67",
   "metadata": {},
   "outputs": [],
   "source": [
    "dic_points.x_offset, dic_points.y_offset"
   ]
  },
  {
   "cell_type": "markdown",
   "id": "64d64491-1ac4-47d4-a4dc-bbc017fa9183",
   "metadata": {},
   "source": [
    "Note that the naming of properties follows the mathematical indexing convention with $I$, $J$ representing the horizontal and vertical node indexes, respectively. Correspondingly, $n_I$ and $n_J$ denotes the number of horizontal and vertical nodes, respectively. "
   ]
  },
  {
   "cell_type": "markdown",
   "id": "bd1bf301-cfbe-459f-bf7c-a35414eed761",
   "metadata": {},
   "source": [
    "To position the DIC frame into the beam, the beam parameters and grid parameters are combined to obtain the coordinates of the \n",
    "bottom left and top right corners within the beam in the order $X_\\mathrm{frame} = (x_\\min, y_\\min, x_\\max, y_\\max)$"
   ]
  },
  {
   "cell_type": "code",
   "execution_count": null,
   "id": "b0eac96d-30b5-4edb-8bd9-e1a255ae38b1",
   "metadata": {},
   "outputs": [],
   "source": [
    "dic_points.X_outer_frame"
   ]
  },
  {
   "cell_type": "markdown",
   "id": "bfc5cf75-c2f1-4669-b135-f15dd9fcfc8c",
   "metadata": {},
   "source": [
    "Note that the `CSV` files are named according to the scheme specifying their load levels"
   ]
  },
  {
   "cell_type": "markdown",
   "id": "048aaeca-30b8-4211-abe7-9ae75715e422",
   "metadata": {},
   "source": [
    "## Time data"
   ]
  },
  {
   "cell_type": "markdown",
   "id": "25e9cfc9-d1d7-495f-af3c-fac49bcacd21",
   "metadata": {},
   "source": [
    "Time `time` and load `F` corresponding to each history index `T` are provided in the `time_F_T` property."
   ]
  },
  {
   "cell_type": "code",
   "execution_count": null,
   "id": "3cd547a8-f004-46c9-b09f-c04cc2508946",
   "metadata": {},
   "outputs": [],
   "source": [
    "dic_points.time_F_T"
   ]
  },
  {
   "cell_type": "markdown",
   "id": "6570045c-3b0d-4a0b-90fd-66fad73af884",
   "metadata": {},
   "source": [
    "The index corresponding to the maximum load `F` is accessed via"
   ]
  },
  {
   "cell_type": "markdown",
   "id": "0c66728a-8e0d-47a8-b1c0-ac5f80397e3a",
   "metadata": {},
   "source": [
    "The final index of snapshots is also available as `n_T`"
   ]
  },
  {
   "cell_type": "code",
   "execution_count": null,
   "id": "98571e07-75f2-488c-a8b9-9cd0cb00e88d",
   "metadata": {},
   "outputs": [],
   "source": [
    "dic_points.n_T"
   ]
  },
  {
   "cell_type": "markdown",
   "id": "584b2910-e4b3-456b-b6e6-14be6965d611",
   "metadata": {},
   "source": [
    "An instance of `dic_points` keeps track of the current time $t \\in (0, 1)$ with 0 \n",
    "and 1 representing the states with zero and maximum force, respectively. Thus, by setting"
   ]
  },
  {
   "cell_type": "code",
   "execution_count": null,
   "id": "0a8e9c7a-899e-4e46-b2c1-7d4fa08be6d4",
   "metadata": {},
   "outputs": [],
   "source": [
    "dic_points.t = 0.5"
   ]
  },
  {
   "cell_type": "markdown",
   "id": "348cbc0d-af58-4855-a722-988f49c6689e",
   "metadata": {},
   "source": [
    "The grid will return displacement and position values corresponding to the half of the maximum load. When setting the value of $t$, the value of `T1` denoting the history index will be adapted automateically, i.e."
   ]
  },
  {
   "cell_type": "code",
   "execution_count": null,
   "id": "78f2f3f9-4d54-40e3-a889-e791ae8e17db",
   "metadata": {},
   "outputs": [],
   "source": [
    "dic_points.T0, dic_points.n_T"
   ]
  },
  {
   "cell_type": "markdown",
   "id": "4df5bdb9-05df-495f-8f0f-197e3187da10",
   "metadata": {},
   "source": [
    "The whole load and deflection values for each history index $T$ are available in the table `Fw_T`, representing the raw format of the measured data. The "
   ]
  },
  {
   "cell_type": "code",
   "execution_count": null,
   "id": "5d98ca9f-2c97-4231-ae1d-13f34bf0726f",
   "metadata": {},
   "outputs": [],
   "source": [
    "time_m, F_m, w_m = dic_points.time_F_w_m"
   ]
  },
  {
   "cell_type": "markdown",
   "id": "f963929e-2526-450f-af2a-eb2ec4384bc6",
   "metadata": {},
   "source": [
    "To access the deflections and forces, we need to issue"
   ]
  },
  {
   "cell_type": "code",
   "execution_count": null,
   "id": "e3d1d7c3-0963-4760-9e58-ffafbb6b1eef",
   "metadata": {},
   "outputs": [],
   "source": [
    "w = w_m[::50]\n",
    "F = -F_m[::50]"
   ]
  },
  {
   "cell_type": "markdown",
   "id": "8489292f-861e-4a13-bf8f-1ba518c16d69",
   "metadata": {},
   "source": [
    "**TODO**: provide properties"
   ]
  },
  {
   "cell_type": "markdown",
   "id": "7d7b1542-06b3-48d0-96ae-4065acbd75b4",
   "metadata": {},
   "source": [
    "# Implementation remark: DIC plane alignement\n",
    "\n",
    "The next code snippet shows how to rotate the DIC plane orthogonal to the \n",
    "observation point so that $z$ values are nearly zero. This functionality \n",
    "is not yet implemented in the input component (as of 2022-01-12). If needed\n",
    "the concept below can be used to included it."
   ]
  },
  {
   "cell_type": "code",
   "execution_count": null,
   "id": "3a15afee-c5cc-4789-b84e-037e8bcca5b0",
   "metadata": {},
   "outputs": [],
   "source": [
    "dic_points.X_outer_frame"
   ]
  },
  {
   "cell_type": "code",
   "execution_count": null,
   "id": "14b1e1a5-cb5a-4759-b02a-4e54e8eeae82",
   "metadata": {},
   "outputs": [],
   "source": [
    "dic_points.X_inner_frame"
   ]
  },
  {
   "cell_type": "code",
   "execution_count": null,
   "id": "d0d4f9fd-4faf-4b2a-9fb6-7be5d7485f2b",
   "metadata": {},
   "outputs": [],
   "source": [
    "from scipy.spatial import Delaunay\n",
    "from scipy.interpolate import LinearNDInterpolator\n",
    "X_Qa = dic_points.X_Qa\n",
    "points = X_Qa[:, :-1]\n",
    "get_z = LinearNDInterpolator(Delaunay(X_Qa[:, :-1]), X_Qa[:, 2])"
   ]
  },
  {
   "cell_type": "code",
   "execution_count": null,
   "id": "c53368c6-60ff-4f38-83da-5451427635c2",
   "metadata": {},
   "outputs": [],
   "source": [
    "bot_lft_Xa, top_rgt_Xa = dic_points.X_inner_frame\n",
    "bot_rgt_Xa = np.array([top_rgt_Xa[0], bot_lft_Xa[1]])  \n",
    "top_lft_Xa = np.array([bot_lft_Xa[0], top_rgt_Xa[1]])  \n",
    "get_z(*bot_lft_Xa), get_z(*bot_rgt_Xa), get_z(*top_lft_Xa)"
   ]
  },
  {
   "cell_type": "code",
   "execution_count": null,
   "id": "61259141-df06-4020-ba1b-aed637c60008",
   "metadata": {},
   "outputs": [],
   "source": [
    "X_plane_xy_Pa = np.array([ bot_lft_Xa, bot_rgt_Xa, top_lft_Xa ])\n",
    "X_plane_z_Pa = np.array([ get_z(*X_a) for X_a in X_plane_xy_Pa ])\n",
    "X_plane_Pa = np.hstack([X_plane_xy_Pa, X_plane_z_Pa[:, np.newaxis]])\n",
    "X_plane_Pa"
   ]
  },
  {
   "cell_type": "markdown",
   "id": "7da072b1-47f3-4c97-af87-3d37555e1cc1",
   "metadata": {},
   "source": [
    "### Orthonormal basis"
   ]
  },
  {
   "cell_type": "code",
   "execution_count": null,
   "id": "f35de333-aa48-4681-b5ac-0fafb01a25db",
   "metadata": {},
   "outputs": [],
   "source": [
    "EPS = np.zeros((3, 3, 3), dtype='f')\n",
    "EPS[(0, 1, 2), (1, 2, 0), (2, 0, 1)] = 1\n",
    "EPS[(2, 1, 0), (1, 0, 2), (0, 2, 1)] = -1\n",
    "u_x_a = X_plane_Pa[1] - X_plane_Pa[0]\n",
    "v_x_a = X_plane_Pa[2] - X_plane_Pa[0]\n",
    "un_x_a = u_x_a / np.linalg.norm(u_x_a)\n",
    "vn_x_a = v_x_a / np.linalg.norm(v_x_a)\n",
    "w0_x_a = np.einsum('ijk,j,k', EPS, un_x_a, vn_x_a)\n",
    "v0_x_a = np.einsum('ijk,j,k', EPS, w0_x_a, un_x_a)"
   ]
  },
  {
   "cell_type": "code",
   "execution_count": null,
   "id": "28864c9e-6764-4ea4-af54-8a0a3b8b9bbe",
   "metadata": {},
   "outputs": [],
   "source": [
    "T_ab = np.array([un_x_a, v0_x_a, w0_x_a])\n",
    "T_ab - T_ab.T"
   ]
  },
  {
   "cell_type": "code",
   "execution_count": null,
   "id": "3ef1dca9-a2ad-416a-ac99-fb1d1736587d",
   "metadata": {},
   "outputs": [],
   "source": [
    "X_orig_Ra = np.array([[0, 0, get_z(0, 0)]])\n",
    "X_orig_Ra"
   ]
  },
  {
   "cell_type": "code",
   "execution_count": null,
   "id": "c5dd97de-4c51-4265-846a-108b36185fe7",
   "metadata": {},
   "outputs": [],
   "source": [
    "X_Ra = np.einsum('ba, Pa->Pb', T_ab, X_plane_Pa + X_orig_Ra)"
   ]
  },
  {
   "cell_type": "code",
   "execution_count": null,
   "id": "83786c89-f6a7-45fc-b45a-4d8d0d109205",
   "metadata": {},
   "outputs": [],
   "source": []
  },
  {
   "cell_type": "code",
   "execution_count": null,
   "id": "366ccad4-1e22-4d2e-af39-b87b0e4a33b8",
   "metadata": {},
   "outputs": [],
   "source": [
    "X_plane_Pa, X_Ra"
   ]
  },
  {
   "cell_type": "code",
   "execution_count": null,
   "id": "435c5171-09e3-4a4c-b0d1-82b5f8a4bd42",
   "metadata": {},
   "outputs": [],
   "source": [
    "X_Ra = np.einsum('ba, Pa->Pb', T_ab, X_Qa)"
   ]
  },
  {
   "cell_type": "code",
   "execution_count": null,
   "id": "61aa81e4-340c-4c1a-b232-edc3ecb746a7",
   "metadata": {},
   "outputs": [],
   "source": [
    "dic_points.t = 1\n",
    "dic_points.F_T_t"
   ]
  },
  {
   "cell_type": "code",
   "execution_count": null,
   "id": "f8d5dab6-76b5-4515-b5c1-c0ff1f1cde32",
   "metadata": {},
   "outputs": [],
   "source": [
    "%matplotlib widget\n",
    "from matplotlib.pyplot import figure,show\n",
    "import numpy as np\n",
    "\n",
    "fig = plt.figure()\n",
    "ax = plt.axes(projection ='3d')\n",
    "ax.scatter3D(*X_Qa.T)\n",
    "ax.scatter3D(*X_Ra.T)"
   ]
  },
  {
   "cell_type": "code",
   "execution_count": null,
   "id": "daedde77-aee3-4db1-8ef9-8cc4ab1b02dc",
   "metadata": {},
   "outputs": [],
   "source": []
  }
 ],
 "metadata": {
  "kernelspec": {
   "display_name": "bmcs_env2",
   "language": "python",
   "name": "bmcs_env2"
  },
  "language_info": {
   "codemirror_mode": {
    "name": "ipython",
    "version": 3
   },
   "file_extension": ".py",
   "mimetype": "text/x-python",
   "name": "python",
   "nbconvert_exporter": "python",
   "pygments_lexer": "ipython3"
  }
 },
 "nbformat": 4,
 "nbformat_minor": 5
}
