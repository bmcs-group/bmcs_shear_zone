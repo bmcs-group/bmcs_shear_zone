{
 "cells": [
  {
   "cell_type": "markdown",
   "metadata": {},
   "source": [
    "# Input chanel synchronization"
   ]
  },
  {
   "cell_type": "markdown",
   "metadata": {},
   "source": [
    "## Time synchronization"
   ]
  },
  {
   "cell_type": "markdown",
   "metadata": {},
   "source": [
    "The test monitoring includes several sources of sensing, such as load scenario, LVDT measurements, DIC surface data and fiber-optical measurements inside a specimen. Each of these sources has its own clock which needs to be synchronized before processing the data. The synchronization is done by finding the time shift between the signals and then applying the shift to all the signals. There are the following options for synchronization:\n",
    "\n",
    " - manual synchronization, and\n",
    " - automatic synchronization using a shared sensor chanel,\n",
    "\n",
    "Manual synchronization is done by explicitly capturing the time shift between two signals during the test setup, for example by making a photo of the displays capturing the clock running during the experiment.\n",
    "\n",
    "Automatic synchronization can be used if two channels, e.g. if the load cell channel is connected both to the LVDT and DIC measurement. In this case, the software can automatically find the time shift between the two signals and apply it to all the other signals. This method is used here and it is described in the following.\n",
    " "
   ]
  },
  {
   "cell_type": "markdown",
   "metadata": {},
   "source": [
    "Assuming there are two sources delivering time dependent data, let us consider $x_1(t_1)$ and $x_2(t_1)$, where $t_1, t_2$ are the variables in the recording of the two data channels. They are shifted by $\\Delta t_{12}$ so that \n",
    "$$\n",
    " t_1 = t_2 + \\Delta t_{12}.\n",
    "$$"
   ]
  },
  {
   "cell_type": "markdown",
   "metadata": {},
   "source": [
    "## Control scale\n",
    "\n",
    "The interpolators are constructed along one of three possible control variables: $F$, $w$ and $t$. The minimum and maximum value of these variables is set via the slider variable $\\theta$. The control variable is then scaled between these two values.\n",
    "\n",
    "The slider variable $\\theta$ is scaled between the minimum and maximum values of the currently active control variable. By choosing a particular control variable, i.e. load $F$, the interpolators are constructed along this variable. In this case, the non-descending nature of the load-displacement curve is ensured by the following condition:\n",
    "\n",
    "$$\n",
    "\\theta_{min} = 0, \\quad \\theta_{max} = 1\n",
    "$$\n",
    "\n",
    "The control variable is then scaled between these two values. This means that the minimum and maximum values of the control variable are set to the minimum and maximum values of the load $F$.\n",
    "The scaling of the control variable is then given by the following equation:\n",
    "$$\n",
    "\\theta = \\frac{F - F_{min}}{F_{max} - F_{min}}  \n",
    "$$"
   ]
  },
  {
   "cell_type": "markdown",
   "metadata": {},
   "source": [
    "Assuming that the measurement times $t_T$ along the time line are distributed unevenly, the interpolator construction requires an explicit specification of these data points along the timeline. Corresponding to the times, the load and deformation values are available as \n",
    "$$ \n",
    "F_T, w_T, t_T\n",
    "$$ \n",
    "The corresponding values of the scaler are obtained as\n",
    "$$\n",
    "\\theta_T^F = \\frac{F_T - F_{\\min}}{F_{\\max} - F_{\\min}}, \\;\n",
    "\\theta_T^w = \\frac{w_T - w_{\\min}}{w_{\\max} - w_{\\min}}, \\;\n",
    "\\theta_T^t = \\frac{t_T - t_{\\min}}{t_{\\max} - t_{\\min}}. \n",
    "$$\n",
    "The values of $\\theta_T^{(.)}$ are used to construct the interpolators for the point, line and field variables monitored during the process, e.g.\n",
    "$$\n",
    " U_{Ta}(x_b), \\varepsilon_{Tab}(x_c), \\sigma_{Tab}(x_c), \\omega_{T}(x_a), Y_{T}(x_a)\n",
    "$$"
   ]
  },
  {
   "cell_type": "markdown",
   "metadata": {},
   "source": [
    "Thee physically most justified approach to reproduce the history of the changes in the observed object is to construct the interpolator for the time variable $t$ and to construct the interpolator for it. The conversion to the interpolators along the individual sliders can then be constructed by introducing the mappings along the time axis."
   ]
  },
  {
   "cell_type": "markdown",
   "metadata": {},
   "source": []
  },
  {
   "cell_type": "code",
   "execution_count": null,
   "metadata": {},
   "outputs": [],
   "source": [
    "%matplotlib widget\n",
    "import matplotlib.pylab as plt\n",
    "import numpy as np"
   ]
  },
  {
   "cell_type": "code",
   "execution_count": null,
   "metadata": {},
   "outputs": [],
   "source": [
    "from bmcs_shear.dic_crack.dic_inp_time_sync import DICInpTimeSync "
   ]
  },
  {
   "cell_type": "code",
   "execution_count": null,
   "metadata": {},
   "outputs": [],
   "source": [
    "time_sync = DICInpTimeSync(dir_name='B1_TV2')\n",
    "ld_time = time_sync.ld_time\n",
    "ld_time.n_w = 300"
   ]
  },
  {
   "cell_type": "code",
   "execution_count": null,
   "metadata": {},
   "outputs": [],
   "source": [
    "fig, (ax, ax_time) = plt.subplots(1,2)\n",
    "time, F, w = ld_time.time_F_w_m\n",
    "ax.plot(ld_time.w_T, ld_time.f_F_time(ld_time.f_time_w(ld_time.w_T)), 'o-', color='red')\n",
    "ld_time.plot_load_deflection(ax)\n",
    "ax_time.plot(ld_time.time_T, ld_time.f_F_time(ld_time.time_T), 'o-', color='green')\n",
    "ld_time.plot_time_F(ax_time)"
   ]
  },
  {
   "cell_type": "code",
   "execution_count": null,
   "metadata": {},
   "outputs": [],
   "source": [
    "time_sync.time_shift"
   ]
  },
  {
   "cell_type": "markdown",
   "metadata": {},
   "source": []
  },
  {
   "cell_type": "code",
   "execution_count": null,
   "metadata": {},
   "outputs": [],
   "source": [
    "fig, ax = plt.subplots(1,1)\n",
    "ld_time.plot_time_F(ax)\n",
    "time_sync.plot_time_F(ax)"
   ]
  },
  {
   "cell_type": "code",
   "execution_count": null,
   "metadata": {},
   "outputs": [],
   "source": []
  },
  {
   "cell_type": "code",
   "execution_count": null,
   "metadata": {},
   "outputs": [],
   "source": [
    "time_sync.interact()"
   ]
  },
  {
   "cell_type": "markdown",
   "metadata": {},
   "source": []
  },
  {
   "cell_type": "code",
   "execution_count": null,
   "metadata": {},
   "outputs": [],
   "source": []
  },
  {
   "cell_type": "code",
   "execution_count": null,
   "metadata": {},
   "outputs": [],
   "source": []
  }
 ],
 "metadata": {
  "kernelspec": {
   "display_name": "bmcs_env2",
   "language": "python",
   "name": "bmcs_env2"
  },
  "language_info": {
   "codemirror_mode": {
    "name": "ipython",
    "version": 3
   },
   "file_extension": ".py",
   "mimetype": "text/x-python",
   "name": "python",
   "nbconvert_exporter": "python",
   "pygments_lexer": "ipython3"
  }
 },
 "nbformat": 4,
 "nbformat_minor": 2
}
