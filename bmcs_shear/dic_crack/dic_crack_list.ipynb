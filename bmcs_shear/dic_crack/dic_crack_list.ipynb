{
 "cells": [
  {
   "cell_type": "markdown",
   "id": "bd3d7b5d-f468-4dc9-a72c-78599931be3b",
   "metadata": {},
   "source": [
    "# Crack identification procedure"
   ]
  },
  {
   "cell_type": "code",
   "execution_count": null,
   "id": "c2fe6f9d-23fd-4852-bc53-56c37bb3cd3a",
   "metadata": {},
   "outputs": [],
   "source": [
    "%matplotlib widget\n",
    "import ibvpy.api as ib\n",
    "import matplotlib.pylab as plt\n",
    "from matplotlib import cm\n",
    "from bmcs_shear.dic_crack import\\\n",
    "    DICGrid, DICInpUnstructuredPoints, DICStateFields, DICCrackList, \\\n",
    "    DICAlignedGrid, DICGrid\n",
    "import numpy as np\n",
    "np.seterr(divide ='ignore', invalid='ignore');"
   ]
  },
  {
   "cell_type": "code",
   "execution_count": null,
   "id": "28038bd6-953d-4154-a122-51e7732dbc10",
   "metadata": {},
   "outputs": [],
   "source": [
    "dic_points = DICInpUnstructuredPoints(U_factor=10, dir_name='B1_TV1', t=1,\n",
    "                                      n_T_max=40, T_stepping='delta_T')\n",
    "dic_points.read_beam_design()\n",
    "dic_grid = DICGrid(dic_inp=dic_points, d_x=5, d_y=5)"
   ]
  },
  {
   "cell_type": "code",
   "execution_count": null,
   "id": "bff26c59-9221-429a-93c3-a06e2e39d30d",
   "metadata": {},
   "outputs": [],
   "source": [
    "dsf = DICStateFields(dic_grid=dic_grid, R=8, omega_threshold=0.15, verbose_eval=True)\n",
    "# dsf.tmodel_.trait_set(E=1400, c_T=0.006, nu=0.18, epsilon_0=0.0018,\n",
    "#                       epsilon_f=0.0019, eps_max=0.01);\n",
    "#dsf.eval()\n",
    "# dsf = DICStateFields(dic_grid=dic_grid, R=5, omega_threshold=0.03, verbose_eval=True)\n",
    "dsf.tmodel_.trait_set(E=1400, c_T=0.006, nu=0.18, epsilon_0=0.0018,\n",
    "                      epsilon_f=0.0019, eps_max=0.01);\n",
    "\n",
    "dsf = DICStateFields(dic_grid=dic_grid, R=8, omega_threshold=0.15, verbose_eval=True, tmodel='scalar_damage')\n",
    "dsf.tmodel_.trait_set(E=1600, nu=0.18, omega_fn='exp-slope', strain_norm='Rankine', eps_max=0.01)\n",
    "dsf.tmodel_.omega_fn_.trait_set(kappa_0=0.002, kappa_f=0.0028);\n",
    "dcl = DICCrackList(dsf=dsf, corridor_left=4, corridor_right=0, x_boundary=30)"
   ]
  },
  {
   "cell_type": "code",
   "execution_count": null,
   "id": "c3ba439e-b4a2-4c01-b8aa-45be2ef1268d",
   "metadata": {},
   "outputs": [],
   "source": [
    "dcl.primary_cracks[0].shape"
   ]
  },
  {
   "cell_type": "code",
   "execution_count": null,
   "id": "72b23d82-11ce-4d80-9f23-31379f1423af",
   "metadata": {},
   "outputs": [],
   "source": [
    "dcl.identify_cracks()"
   ]
  },
  {
   "cell_type": "code",
   "execution_count": null,
   "id": "ac6265eb",
   "metadata": {
    "jupyter": {
     "outputs_hidden": false
    },
    "pycharm": {
     "name": "#%%\n"
    }
   },
   "outputs": [],
   "source": [
    "dcl.interact()"
   ]
  },
  {
   "cell_type": "code",
   "execution_count": null,
   "id": "8a7f09fe-dcf4-4eb4-b0d2-f4d61cfc6efa",
   "metadata": {},
   "outputs": [],
   "source": [
    "dcl.dsf.interact()"
   ]
  },
  {
   "cell_type": "code",
   "execution_count": null,
   "id": "e838f4ff-a955-4514-a807-849afafcaabc",
   "metadata": {},
   "outputs": [],
   "source": [
    "dcl.dsf.X_fe_KLa[(0,0,-1,-1),(0,0,-1,-1),(0,1,0,1)]"
   ]
  },
  {
   "cell_type": "code",
   "execution_count": null,
   "id": "d60fad60-0ed9-4ebc-970d-8cb5d9ce7b1a",
   "metadata": {},
   "outputs": [],
   "source": [
    "dcl.dsf.dic_grid.X_IJa[(0,0,-1,-1),(0,0,-1,-1),(0,1,0,1)]"
   ]
  },
  {
   "cell_type": "code",
   "execution_count": null,
   "id": "9d0156f0-40fd-4465-86c3-927a7f7d2114",
   "metadata": {},
   "outputs": [],
   "source": [
    "dcl.dsf.X_ipl_MNa[(0,0,-1,-1),(0,0,-1,-1),(0,1,0,1)]"
   ]
  },
  {
   "cell_type": "code",
   "execution_count": null,
   "id": "d9c17d63-1bfe-4a26-86e0-9de860e1dec1",
   "metadata": {},
   "outputs": [],
   "source": [
    "len(dcl.items)"
   ]
  },
  {
   "cell_type": "code",
   "execution_count": null,
   "id": "08c5e129-1057-49d5-8394-bccfc06e4766",
   "metadata": {},
   "outputs": [],
   "source": [
    "%%capture\n",
    "\n",
    "from matplotlib import animation, rc\n",
    "from IPython.display import HTML\n",
    "from traitlets import HasTraits\n",
    "import matplotlib.gridspec as gridspec\n",
    "\n",
    "\n",
    "fig = plt.figure(figsize=(12,3))"
   ]
  },
  {
   "cell_type": "code",
   "execution_count": null,
   "id": "b7c5bad9-ebe7-42f6-8abc-6d010dd63a68",
   "metadata": {},
   "outputs": [],
   "source": [
    "class CrackListAnimator(HasTraits):\n",
    "    \n",
    "    \n",
    "    def init(self):\n",
    "        print('init')\n",
    "        n_T = dsf.dic_grid.n_T\n",
    "        self.t_dic_T = np.hstack([\n",
    "            np.linspace(0,1,n_T),\n",
    "            np.ones((int(0.5*n_T),))\n",
    "        ])\n",
    "    \n",
    "    def subplots(self, fig):\n",
    "        gs = gridspec.GridSpec(ncols=2, nrows=1,\n",
    "                               width_ratios=[3, 1],\n",
    "                               #wspace=0.5,\n",
    "                               hspace=0.5,\n",
    "                               # height_ratios=[2, 1]\n",
    "                               )\n",
    "        ax_dcl = fig.add_subplot(gs[0, 0])\n",
    "        ax_FU = fig.add_subplot(gs[0, 1])\n",
    "#        return fig.subplots(1,1)\n",
    "#        return ax_dsf#, ax_FU\n",
    "        return ax_dcl, ax_FU\n",
    "\n",
    "    def plot(self, i):\n",
    "        fig.clear()\n",
    "        t = self.t_dic_T[i]\n",
    "        print('t', t)\n",
    "        axes = self.subplots(fig)\n",
    "        dcl.dsf.dic_grid.t = t\n",
    "        \n",
    "        ax_dcl, ax_FU = axes\n",
    "#        ax_dsf = axes\n",
    "#        ax_FU = axes\n",
    "        \n",
    "        dcl.bd.plot_sz_bd(ax_dcl)\n",
    "        dcl.dsf.plot_crack_detection_field(ax_dcl, fig)\n",
    "        dcl.plot_cracking_hist2(ax_dcl)\n",
    "        dcl.critical_crack.plot_x_t_crc_Ka(ax_dcl, line_width=2, line_color='red', tip_color='red')\n",
    "        ax_dcl.axis('equal')\n",
    "        ax_dcl.axis('off');\n",
    "        dcl.dsf.dic_grid.plot_load_deflection(ax_FU)\n",
    "        \n",
    "    def mp4_video(self):\n",
    "        n_t = len(self.t_dic_T)\n",
    "        # call the animator. blit=True means only re-draw the parts that have changed.\n",
    "        anim = animation.FuncAnimation(fig, self.plot, init_func=self.init,\n",
    "                                       frames=n_t, interval=300, blit=True)\n",
    "        return anim.save(\"cracking_animation.gif\")\n",
    "    \n",
    "    def html5_video(self):\n",
    "        n_t = len(self.t_dic_T)\n",
    "        # call the animator. blit=True means only re-draw the parts that have changed.\n",
    "        anim = animation.FuncAnimation(fig, self.plot, init_func=self.init,\n",
    "                                       frames=n_t, interval=300, blit=True)\n",
    "        return anim.to_html5_video()"
   ]
  },
  {
   "cell_type": "code",
   "execution_count": null,
   "id": "6bd81d82-9e67-4588-9ef9-bc9c086bfcde",
   "metadata": {},
   "outputs": [],
   "source": [
    "# anim = CrackListAnimator()\n",
    "# anim.init()\n",
    "# anim.mp4_video()"
   ]
  },
  {
   "cell_type": "code",
   "execution_count": null,
   "id": "69239cc4-8fef-4a13-9352-a036f9e81910",
   "metadata": {},
   "outputs": [],
   "source": [
    "anim = CrackListAnimator()\n",
    "anim.init()\n",
    "with open('cracking_animation.html','w') as html_video_file:\n",
    "    html_video_file.write(anim.html5_video())"
   ]
  },
  {
   "cell_type": "code",
   "execution_count": null,
   "id": "f2c6626d-a380-4a9e-9c20-a5be24feba14",
   "metadata": {},
   "outputs": [],
   "source": [
    "html_video_file = open('cracking_animation.html','r')\n",
    "HTML(html_video_file.read())"
   ]
  },
  {
   "cell_type": "code",
   "execution_count": null,
   "id": "9128f2d3-ae9b-49af-a7bb-467b5cd948f5",
   "metadata": {},
   "outputs": [],
   "source": []
  },
  {
   "cell_type": "code",
   "execution_count": null,
   "id": "42c79b0d-2e3a-4815-b6bb-70ba4fe36b3e",
   "metadata": {},
   "outputs": [],
   "source": [
    "A = (76/2)**2 * 3.14\n",
    "F = 3600000"
   ]
  },
  {
   "cell_type": "code",
   "execution_count": null,
   "id": "da324c7e-36eb-455b-b46a-4ba82484be0e",
   "metadata": {},
   "outputs": [],
   "source": [
    "F / A"
   ]
  },
  {
   "cell_type": "code",
   "execution_count": null,
   "id": "ab5c4724-c30e-4aaf-ae99-3cedb8df7d34",
   "metadata": {},
   "outputs": [],
   "source": []
  }
 ],
 "metadata": {
  "kernelspec": {
   "display_name": "bmcs_env2",
   "language": "python",
   "name": "bmcs_env2"
  },
  "language_info": {
   "codemirror_mode": {
    "name": "ipython",
    "version": 3
   },
   "file_extension": ".py",
   "mimetype": "text/x-python",
   "name": "python",
   "nbconvert_exporter": "python",
   "pygments_lexer": "ipython3"
  }
 },
 "nbformat": 4,
 "nbformat_minor": 5
}
