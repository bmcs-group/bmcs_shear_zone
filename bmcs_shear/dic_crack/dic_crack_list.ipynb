{
 "cells": [
  {
   "cell_type": "markdown",
   "id": "bd3d7b5d-f468-4dc9-a72c-78599931be3b",
   "metadata": {},
   "source": [
    "# Crack identification procedure"
   ]
  },
  {
   "cell_type": "code",
   "execution_count": null,
   "id": "c2fe6f9d-23fd-4852-bc53-56c37bb3cd3a",
   "metadata": {},
   "outputs": [],
   "source": [
    "%matplotlib widget\n",
    "import ibvpy.api as ib\n",
    "import matplotlib.pylab as plt\n",
    "from matplotlib import cm\n",
    "from bmcs_shear.dic_crack import\\\n",
    "    DICGrid, DICInpUnstructuredPoints, DICStateFields, DICAlignedGrid\n",
    "from bmcs_shear.dic_crack.dic_crack_list import DICCrackList\n",
    "import numpy as np\n",
    "np.seterr(divide ='ignore', invalid='ignore');"
   ]
  },
  {
   "cell_type": "code",
   "execution_count": null,
   "id": "10709bbb-ece0-4247-8fb7-476b05a6a488",
   "metadata": {},
   "outputs": [],
   "source": [
    "from bmcs_shear.dic_crack import sz_tests_series_2023"
   ]
  },
  {
   "cell_type": "code",
   "execution_count": null,
   "id": "28038bd6-953d-4154-a122-51e7732dbc10",
   "metadata": {},
   "outputs": [],
   "source": [
    "test = sz_tests_series_2023.B10_TV1\n",
    "dic_points = DICInpUnstructuredPoints(**test)\n",
    "dic_points.read_beam_design()\n",
    "#dic_points.interact()"
   ]
  },
  {
   "cell_type": "code",
   "execution_count": null,
   "id": "74c95e01-812d-447b-8565-faf1a1ad785d",
   "metadata": {},
   "outputs": [],
   "source": [
    "dic_grid = DICGrid(dic_inp=dic_points, **test)\n",
    "#dic_grid.interact()"
   ]
  },
  {
   "cell_type": "code",
   "execution_count": null,
   "id": "30873faa-0d34-4d0e-925d-9557b3517c71",
   "metadata": {},
   "outputs": [],
   "source": [
    "dsf = DICStateFields(dic_grid=dic_grid, **test)\n",
    "#dsf.interact()"
   ]
  },
  {
   "cell_type": "code",
   "execution_count": null,
   "id": "04bb390f",
   "metadata": {},
   "outputs": [],
   "source": [
    "dsf.tmodel_.trait_set(**test)\n",
    "dsf.tmodel_.omega_fn_.trait_set(kappa_0=0.002, kappa_f=0.0028);\n",
    "dcl = DICCrackList(dsf=dsf, **test)"
   ]
  },
  {
   "cell_type": "code",
   "execution_count": null,
   "id": "6599753a",
   "metadata": {},
   "outputs": [],
   "source": [
    "dcl.dsf.dic_grid.t = 0.97\n",
    "X_tip_t_Ca = dcl.X_tip_t_Ca"
   ]
  },
  {
   "cell_type": "code",
   "execution_count": null,
   "id": "de5447db",
   "metadata": {},
   "outputs": [],
   "source": [
    "from cgitb import small\n",
    "\n",
    "\n",
    "def validate_crack_tips(X_Ca, h_x):\n",
    "    # Calculate the distances between neighboring points\n",
    "    x_C, y_C = X_Ca.T\n",
    "    dists = np.diff(x_C)\n",
    "\n",
    "    # \n",
    "    if not np.all(dists > 0):\n",
    "        raise ValueError(\"The horizontal positions of cracks\" + \n",
    "                         \"must be monotonically increasing.\")\n",
    "\n",
    "    return X_Ca"
   ]
  },
  {
   "cell_type": "code",
   "execution_count": null,
   "id": "039162b7",
   "metadata": {},
   "outputs": [],
   "source": [
    "X_Ca = validate_crack_tips(X_tip_t_Ca, 60)\n",
    "x_0, y_0, x_1, y_1 = dcl.dsf.dic_grid.X_frame\n",
    "x_C0 = np.hstack([[x_0], X_Ca[:,0], x_1])\n",
    "x_C1 = np.hstack([[x_0], X_Ca[:,0], x_1])\n",
    "y_C0 = np.hstack([X_Ca[0,1], X_Ca[:,1], y_0])\n",
    "y_C1 = "
   ]
  },
  {
   "cell_type": "code",
   "execution_count": null,
   "id": "bff26c59-9221-429a-93c3-a06e2e39d30d",
   "metadata": {},
   "outputs": [],
   "source": [
    "\n",
    "dcl.interact()"
   ]
  },
  {
   "cell_type": "markdown",
   "id": "be9dde03-7bac-4426-9bf3-ed47c5584e67",
   "metadata": {},
   "source": [
    "To reproduce the history of cracking, the detection is running in several \n",
    "steps:\n",
    " - To distinguish the primary cracks, the crack detection uses the damage state\n",
    "   at the specified fraction of load expressed by the ratio $t_\\mathrm{prim}$.\n",
    " - Cracks that start at neighbouring positions and merge along the path\n",
    "   are identified by imposing a criterion of a minimum distance between\n",
    "   the crack tips\n",
    " - The tip range of the primary cracks is then detected in the loading range\n",
    "   $t \\in [t_\\mathrm{prim}, 1]$\n",
    " - Finally, the path of secondary cracks is identified by scanning the damage\n",
    "   along the primary cracks at the $t=1$."
   ]
  },
  {
   "cell_type": "code",
   "execution_count": null,
   "id": "a83ecbb2-3c59-4a9b-adbd-77081eea00b1",
   "metadata": {},
   "outputs": [],
   "source": [
    "dcl.cracks[0]"
   ]
  },
  {
   "cell_type": "code",
   "execution_count": null,
   "id": "c046b8b0-cfb5-4954-8bac-e947215c1714",
   "metadata": {},
   "outputs": [],
   "source": [
    "X_CKa = dcl.X_CKa"
   ]
  },
  {
   "cell_type": "code",
   "execution_count": null,
   "id": "5bb0cb1e-6ba6-4b7d-a714-106009faae56",
   "metadata": {},
   "outputs": [],
   "source": [
    "dcl.cracks[0].X_crc_1_Na"
   ]
  },
  {
   "cell_type": "code",
   "execution_count": null,
   "id": "b7c5bad9-ebe7-42f6-8abc-6d010dd63a68",
   "metadata": {},
   "outputs": [],
   "source": [
    "%%capture\n",
    "\n",
    "from matplotlib import animation, rc\n",
    "from IPython.display import HTML\n",
    "from traitlets import HasTraits\n",
    "import matplotlib.gridspec as gridspec\n",
    "\n",
    "\n",
    "fig = plt.figure(figsize=(8,3))\n",
    "class CrackListAnimator(HasTraits):\n",
    "    \n",
    "    \n",
    "    def init(self):\n",
    "        print('init')\n",
    "        n_T = dsf.dic_grid.n_T\n",
    "        self.t_dic_T = np.hstack([\n",
    "            np.linspace(0,1,n_T),\n",
    "            np.ones((int(0.5*n_T),))\n",
    "        ])\n",
    "    \n",
    "    def subplots(self, fig):\n",
    "        gs = gridspec.GridSpec(ncols=2, nrows=1,\n",
    "                               width_ratios=[3, 1],\n",
    "                               #wspace=0.5,\n",
    "                               hspace=0.5,\n",
    "                               # height_ratios=[2, 1]\n",
    "                               )\n",
    "        ax_dcl = fig.add_subplot(gs[0, 0])\n",
    "        ax_FU = fig.add_subplot(gs[0, 1])\n",
    "#        return fig.subplots(1,1)\n",
    "#        return ax_dsf#, ax_FU\n",
    "        return ax_dcl, ax_FU\n",
    "\n",
    "    def plot(self, i):\n",
    "        fig.clear()\n",
    "        t = self.t_dic_T[i]\n",
    "        print('t', t)\n",
    "        axes = self.subplots(fig)\n",
    "        dcl.dsf.dic_grid.t = t\n",
    "        \n",
    "        ax_dcl, ax_FU = axes\n",
    "#        ax_dsf = axes\n",
    "#        ax_FU = axes\n",
    "        \n",
    "        dcl.bd.plot_sz_bd(ax_dcl)\n",
    "        dcl.dsf.plot_crack_detection_field(ax_dcl, fig)\n",
    "        dcl.plot_primary_cracks(ax_dcl)\n",
    "        dcl.critical_crack.plot_X_crc_t_Ka(ax_dcl, line_width=2, line_color='red', tip_color='red')\n",
    "        # for crack in dcl.cracks:\n",
    "        #     crack.cor.trait_set(cor_marker_size=8, cor_marker_color='brown')\n",
    "            # crack.cor.plot_X_cor_t(ax_dcl)\n",
    "        ax_dcl.axis('equal')\n",
    "        ax_dcl.axis('off');\n",
    "        dcl.dsf.dic_grid.plot_load_deflection(ax_FU)\n",
    "        \n",
    "    def mp4_video(self):\n",
    "        n_t = len(self.t_dic_T)\n",
    "        # call the animator. blit=True means only re-draw the parts that have changed.\n",
    "        anim = animation.FuncAnimation(fig, self.plot, init_func=self.init,\n",
    "                                       frames=n_t, interval=300, blit=True)\n",
    "        return anim.save(\"cracking_animation.gif\")\n",
    "    \n",
    "    def html5_video(self):\n",
    "        n_t = len(self.t_dic_T)\n",
    "        # call the animator. blit=True means only re-draw the parts that have changed.\n",
    "        anim = animation.FuncAnimation(fig, self.plot, init_func=self.init,\n",
    "                                       frames=n_t, interval=300, blit=True)\n",
    "        return anim.to_html5_video()"
   ]
  },
  {
   "cell_type": "code",
   "execution_count": null,
   "id": "6bd81d82-9e67-4588-9ef9-bc9c086bfcde",
   "metadata": {},
   "outputs": [],
   "source": [
    "anim = CrackListAnimator()\n",
    "anim.init()\n",
    "anim.mp4_video()"
   ]
  },
  {
   "cell_type": "code",
   "execution_count": null,
   "id": "69239cc4-8fef-4a13-9352-a036f9e81910",
   "metadata": {},
   "outputs": [],
   "source": [
    "anim = CrackListAnimator()\n",
    "anim.init()\n",
    "with open('cracking_animation.html','w') as html_video_file:\n",
    "    html_video_file.write(anim.html5_video())"
   ]
  },
  {
   "cell_type": "code",
   "execution_count": null,
   "id": "f2c6626d-a380-4a9e-9c20-a5be24feba14",
   "metadata": {},
   "outputs": [],
   "source": [
    "html_video_file = open('cracking_animation.html','r')\n",
    "HTML(html_video_file.read())"
   ]
  },
  {
   "cell_type": "code",
   "execution_count": null,
   "id": "810ed9c5-3804-4ea9-b9c2-2298bf6d0e13",
   "metadata": {},
   "outputs": [],
   "source": [
    "import numpy as np\n",
    "import matplotlib.pyplot as plt\n",
    "import matplotlib.animation as animation\n",
    "\n",
    "\n",
    "def update_line(num, data, line):\n",
    "    line.set_data(data[..., :num])\n",
    "    return line,"
   ]
  },
  {
   "cell_type": "code",
   "execution_count": null,
   "id": "4c8e5185-b1b5-4865-810b-7604871f1b6f",
   "metadata": {},
   "outputs": [],
   "source": [
    "fig1 = plt.figure()\n",
    "\n",
    "# Fixing random state for reproducibility\n",
    "np.random.seed(19680801)\n",
    "\n",
    "data = np.random.rand(2, 25)\n",
    "l, = plt.plot([], [], 'r-')\n",
    "plt.xlim(0, 1)\n",
    "plt.ylim(0, 1)\n",
    "plt.xlabel('x')\n",
    "plt.title('test')\n",
    "line_ani = animation.FuncAnimation(fig1, update_line, 25, fargs=(data, l),\n",
    "                                   interval=50, blit=True)\n",
    "line_ani.save('lines.mp4')"
   ]
  },
  {
   "cell_type": "markdown",
   "id": "047fe16e-3c58-4ad8-9158-81a12db7156b",
   "metadata": {},
   "source": [
    "Given the step length $\\Delta s$ get the damage values in the distance $s$ along an angle $\\alpha_\\min, \\alpha_\\max$"
   ]
  },
  {
   "cell_type": "code",
   "execution_count": null,
   "id": "eb62ac92-76ce-4c19-91e9-70012e7ec55b",
   "metadata": {},
   "outputs": [],
   "source": [
    "dcl.cracks[3].cor.interact()"
   ]
  },
  {
   "cell_type": "code",
   "execution_count": null,
   "id": "26bc8e01-d422-4da7-86d2-4fd30c4dcb52",
   "metadata": {},
   "outputs": [],
   "source": [
    "test = sz_tests_series_2023.B6_TV1\n",
    "dic_points = DICInpUnstructuredPoints(**test)\n",
    "dic_points.read_beam_design()\n",
    "dic_grid = DICGrid(dic_inp=dic_points, **test)"
   ]
  },
  {
   "cell_type": "code",
   "execution_count": null,
   "id": "fb16906f-c63f-4175-a526-09361f22066b",
   "metadata": {},
   "outputs": [],
   "source": [
    "dic_grid.data_dir"
   ]
  },
  {
   "cell_type": "code",
   "execution_count": null,
   "id": "382be072-fe48-481a-a373-34791cf9db1f",
   "metadata": {},
   "outputs": [],
   "source": [
    "import os.path as op\n",
    "import pandas as pd\n",
    "fos_data_csv = op.join(dic_grid.data_dir,'fos_data','B6_1_FOS_N.CSV')"
   ]
  },
  {
   "cell_type": "code",
   "execution_count": null,
   "id": "f4c1ee22-a194-4c55-bfa0-25ca23ebc3c6",
   "metadata": {},
   "outputs": [],
   "source": [
    "fos_TM = pd.read_table(fos_data_csv, sep=';', decimal=',')"
   ]
  },
  {
   "cell_type": "code",
   "execution_count": null,
   "id": "6f9812d4-aecd-4932-aec6-7c5c121082a3",
   "metadata": {},
   "outputs": [],
   "source": [
    "fos_TM_ = fos_TM.to_numpy()"
   ]
  },
  {
   "cell_type": "code",
   "execution_count": null,
   "id": "f7623a84-e6f8-4684-997c-12b42ed5046b",
   "metadata": {},
   "outputs": [],
   "source": [
    "fos_TM_[0]"
   ]
  },
  {
   "cell_type": "code",
   "execution_count": null,
   "id": "3bd409e3-cd75-447d-a6f0-df09b76ee2cb",
   "metadata": {},
   "outputs": [],
   "source": [
    "fos_TM"
   ]
  },
  {
   "cell_type": "code",
   "execution_count": null,
   "id": "6e821303-b6a7-4d70-b233-b493b3d4d4ff",
   "metadata": {},
   "outputs": [],
   "source": [
    "np.where(fos_TM_[:,1] == np.NaN)"
   ]
  },
  {
   "cell_type": "code",
   "execution_count": null,
   "id": "2d0a1a3e-46f0-41de-89c0-d16fb6578e1c",
   "metadata": {},
   "outputs": [],
   "source": [
    "np.einsum('Eima,m->Eia', sig_Eima, w\n",
    "          _m)"
   ]
  }
 ],
 "metadata": {
  "kernelspec": {
   "display_name": "bmcs_env2",
   "language": "python",
   "name": "bmcs_env2"
  },
  "language_info": {
   "codemirror_mode": {
    "name": "ipython",
    "version": 3
   },
   "file_extension": ".py",
   "mimetype": "text/x-python",
   "name": "python",
   "nbconvert_exporter": "python",
   "pygments_lexer": "ipython3"
  }
 },
 "nbformat": 4,
 "nbformat_minor": 5
}
