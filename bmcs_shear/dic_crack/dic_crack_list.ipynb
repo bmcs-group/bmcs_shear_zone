{
 "cells": [
  {
   "cell_type": "markdown",
   "id": "bd3d7b5d-f468-4dc9-a72c-78599931be3b",
   "metadata": {},
   "source": [
    "# Crack identification procedure"
   ]
  },
  {
   "cell_type": "code",
   "execution_count": null,
   "id": "c2fe6f9d-23fd-4852-bc53-56c37bb3cd3a",
   "metadata": {},
   "outputs": [],
   "source": [
    "%matplotlib widget\n",
    "import ibvpy.api as ib\n",
    "import matplotlib.pylab as plt\n",
    "from matplotlib import cm\n",
    "from bmcs_shear.dic_crack import\\\n",
    "    DICGrid, DICInpUnstructuredPoints, DICStateFields, DICAlignedGrid\n",
    "from bmcs_shear.dic_crack.dic_crack_list import DICCrackList\n",
    "import numpy as np\n",
    "np.seterr(divide ='ignore', invalid='ignore');"
   ]
  },
  {
   "cell_type": "code",
   "execution_count": null,
   "id": "10709bbb-ece0-4247-8fb7-476b05a6a488",
   "metadata": {},
   "outputs": [],
   "source": [
    "import sz_tests_series_2023 as ts"
   ]
  },
  {
   "cell_type": "code",
   "execution_count": null,
   "id": "b5cd4a8a",
   "metadata": {},
   "outputs": [],
   "source": [
    "dcl = ts.new_dcl(ts.B6_TV2)\n",
    "dcl.dsf.dic_grid.t = 1"
   ]
  },
  {
   "cell_type": "code",
   "execution_count": null,
   "id": "48f60269",
   "metadata": {},
   "outputs": [],
   "source": [
    "fig, ax = plt.subplots(1,1, figsize=(10,3))\n",
    "dcl.plot_primary_cracks(ax)\n",
    "ax.axis('equal');"
   ]
  },
  {
   "cell_type": "code",
   "execution_count": null,
   "id": "1a5febf6",
   "metadata": {},
   "outputs": [],
   "source": [
    "dcl.interact()"
   ]
  },
  {
   "cell_type": "markdown",
   "id": "be9dde03-7bac-4426-9bf3-ed47c5584e67",
   "metadata": {},
   "source": [
    "To reproduce the history of cracking, the detection is running in several \n",
    "steps:\n",
    " - To distinguish the primary cracks, the crack detection uses the damage state\n",
    "   at the specified fraction of load expressed by the ratio $t_\\mathrm{prim}$.\n",
    " - Cracks that start at neighbouring positions and merge along the path\n",
    "   are identified by imposing a criterion of a minimum distance between\n",
    "   the crack tips\n",
    " - The tip range of the primary cracks is then detected in the loading range\n",
    "   $t \\in [t_\\mathrm{prim}, 1]$\n",
    " - Finally, the path of secondary cracks is identified by scanning the damage\n",
    "   along the primary cracks at the $t=1$."
   ]
  },
  {
   "cell_type": "code",
   "execution_count": null,
   "id": "a83ecbb2-3c59-4a9b-adbd-77081eea00b1",
   "metadata": {},
   "outputs": [],
   "source": [
    "dcl.cracks[0]"
   ]
  },
  {
   "cell_type": "code",
   "execution_count": null,
   "id": "c046b8b0-cfb5-4954-8bac-e947215c1714",
   "metadata": {},
   "outputs": [],
   "source": [
    "X_CKa = dcl.X_CKa"
   ]
  },
  {
   "cell_type": "code",
   "execution_count": null,
   "id": "5bb0cb1e-6ba6-4b7d-a714-106009faae56",
   "metadata": {},
   "outputs": [],
   "source": [
    "dcl.cracks[0].X_crc_1_Na"
   ]
  },
  {
   "cell_type": "markdown",
   "id": "047fe16e-3c58-4ad8-9158-81a12db7156b",
   "metadata": {},
   "source": [
    "Given the step length $\\Delta s$ get the damage values in the distance $s$ along an angle $\\alpha_\\min, \\alpha_\\max$"
   ]
  },
  {
   "cell_type": "code",
   "execution_count": null,
   "id": "26bc8e01-d422-4da7-86d2-4fd30c4dcb52",
   "metadata": {},
   "outputs": [],
   "source": [
    "dcl = ts.new_dcl(ts.B6_TV1)\n",
    "dic_grid = dcl.dsf.dic_grid"
   ]
  },
  {
   "cell_type": "code",
   "execution_count": null,
   "id": "fb16906f-c63f-4175-a526-09361f22066b",
   "metadata": {},
   "outputs": [],
   "source": [
    "dic_grid.data_dir"
   ]
  },
  {
   "cell_type": "code",
   "execution_count": null,
   "id": "382be072-fe48-481a-a373-34791cf9db1f",
   "metadata": {},
   "outputs": [],
   "source": [
    "import os.path as op\n",
    "import pandas as pd\n",
    "fos_data_csv = dic_grid.data_dir / 'fos_data' / 'B6_1_FOS_N.CSV'"
   ]
  },
  {
   "cell_type": "code",
   "execution_count": null,
   "id": "f4c1ee22-a194-4c55-bfa0-25ca23ebc3c6",
   "metadata": {},
   "outputs": [],
   "source": [
    "fos_TM = pd.read_table(fos_data_csv, sep=';', decimal=',')"
   ]
  },
  {
   "cell_type": "code",
   "execution_count": null,
   "id": "6f9812d4-aecd-4932-aec6-7c5c121082a3",
   "metadata": {},
   "outputs": [],
   "source": [
    "fos_TM_ = fos_TM.to_numpy()"
   ]
  },
  {
   "cell_type": "code",
   "execution_count": null,
   "id": "f7623a84-e6f8-4684-997c-12b42ed5046b",
   "metadata": {},
   "outputs": [],
   "source": [
    "fos_TM_[0]"
   ]
  },
  {
   "cell_type": "code",
   "execution_count": null,
   "id": "3bd409e3-cd75-447d-a6f0-df09b76ee2cb",
   "metadata": {},
   "outputs": [],
   "source": [
    "fos_TM"
   ]
  },
  {
   "cell_type": "code",
   "execution_count": null,
   "id": "6e821303-b6a7-4d70-b233-b493b3d4d4ff",
   "metadata": {},
   "outputs": [],
   "source": [
    "np.where(fos_TM_[:,1] == np.NaN)"
   ]
  },
  {
   "cell_type": "code",
   "execution_count": null,
   "id": "12b1e35e",
   "metadata": {},
   "outputs": [],
   "source": []
  }
 ],
 "metadata": {
  "kernelspec": {
   "display_name": "bmcs_env2",
   "language": "python",
   "name": "bmcs_env2"
  },
  "language_info": {
   "codemirror_mode": {
    "name": "ipython",
    "version": 3
   },
   "file_extension": ".py",
   "mimetype": "text/x-python",
   "name": "python",
   "nbconvert_exporter": "python",
   "pygments_lexer": "ipython3"
  }
 },
 "nbformat": 4,
 "nbformat_minor": 5
}
