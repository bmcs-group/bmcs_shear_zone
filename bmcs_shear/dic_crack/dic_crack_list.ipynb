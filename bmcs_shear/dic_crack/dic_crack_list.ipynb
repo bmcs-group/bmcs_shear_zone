{
 "cells": [
  {
   "cell_type": "markdown",
   "id": "bd3d7b5d-f468-4dc9-a72c-78599931be3b",
   "metadata": {},
   "source": [
    "# Crack identification procedure"
   ]
  },
  {
   "cell_type": "code",
   "execution_count": null,
   "id": "c2fe6f9d-23fd-4852-bc53-56c37bb3cd3a",
   "metadata": {},
   "outputs": [],
   "source": [
    "%matplotlib widget\n",
    "import ibvpy.api as ib\n",
    "import matplotlib.pylab as plt\n",
    "from matplotlib import cm\n",
    "from bmcs_shear.dic_crack import\\\n",
    "    DICGridTri, DICStateFields, DICCrackList, \\\n",
    "    DICAlignedGrid, DICGrid\n",
    "import numpy as np\n",
    "np.seterr(divide ='ignore', invalid='ignore');\n",
    "import collections\n",
    "collections.Iterable = collections.abc.Iterable"
   ]
  },
  {
   "cell_type": "code",
   "execution_count": null,
   "id": "41889a01",
   "metadata": {
    "jupyter": {
     "outputs_hidden": false
    },
    "pycharm": {
     "name": "#%%\n"
    }
   },
   "outputs": [],
   "source": [
    "dic_grid = DICGridTri(U_factor=100, dir_name='B7_TV1', t=1, d_x=5, d_y=5, n_T=10)\n",
    "#dic_grid = DICGrid(U_factor=100, dir_name='B1_TV1', t=1)"
   ]
  },
  {
   "cell_type": "code",
   "execution_count": null,
   "id": "4d06578e",
   "metadata": {
    "jupyter": {
     "outputs_hidden": false
    },
    "pycharm": {
     "name": "#%%\n"
    }
   },
   "outputs": [],
   "source": [
    "dic_grid.read_beam_design()"
   ]
  },
  {
   "cell_type": "code",
   "execution_count": null,
   "id": "74547a68",
   "metadata": {
    "jupyter": {
     "outputs_hidden": false
    },
    "pycharm": {
     "name": "#%%\n"
    }
   },
   "outputs": [],
   "source": [
    "from bmcs_shear.dic_crack import DICStressProfile\n",
    "dsf = DICStateFields(dic_grid=dic_grid, R=8, omega_threshold=0.2, verbose_eval=True)\n",
    "#dsf.tmodel_.trait_set(epsilon_f=0.00025, epsilon_0 = 0.000059)\n",
    "\n",
    "l_cb = dic_grid.d_x * 1\n",
    "dsf.tmodel_.trait_set(E=5000, c_T=0, nu=0.18, epsilon_0=0.0005, epsilon_f=0.002, eps_max=0.005);\n",
    "dsf.tmodel_.interact()"
   ]
  },
  {
   "cell_type": "code",
   "execution_count": null,
   "id": "9ad736bf-8c40-4c84-8ce9-4ba20abd2013",
   "metadata": {},
   "outputs": [],
   "source": [
    "# from bmcs_shear.dic_crack import DICStressProfile\n",
    "# dsf = DICStateFields(dic_grid=dic_grid, R=1, omega_threshold=0.1, verbose_eval=True)\n",
    "# l_cb = dic_grid.d_x * 1\n",
    "# dsf.tmodel_.trait_set(E=20000, c_T=0, nu=0.18, epsilon_0=0.0001, \n",
    "#                       epsilon_f=0.01, eps_max=0.1);"
   ]
  },
  {
   "cell_type": "code",
   "execution_count": null,
   "id": "ed20d5ac-7a84-47f2-a482-0ea8f97648cd",
   "metadata": {},
   "outputs": [],
   "source": [
    "dsf.eval()\n",
    "dsf.interact()"
   ]
  },
  {
   "cell_type": "code",
   "execution_count": null,
   "id": "b97704bb-db79-4103-8752-912d9ca31c1f",
   "metadata": {},
   "outputs": [],
   "source": [
    "dcl = DICCrackList(dsf=dsf, corridor_left=5, corridor_right=0)"
   ]
  },
  {
   "cell_type": "code",
   "execution_count": null,
   "id": "0806e206-1104-4aa9-b9e2-f1fb66982ebb",
   "metadata": {},
   "outputs": [],
   "source": [
    "dcl.identify_cracks()"
   ]
  },
  {
   "cell_type": "code",
   "execution_count": null,
   "id": "9cebe9da-7a47-4a53-96df-ea973955c587",
   "metadata": {},
   "outputs": [],
   "source": [
    "for c in dcl.items.values():\n",
    "    print(len(c.x_1_crc_Ka))"
   ]
  },
  {
   "cell_type": "code",
   "execution_count": null,
   "id": "ac6265eb",
   "metadata": {
    "jupyter": {
     "outputs_hidden": false
    },
    "pycharm": {
     "name": "#%%\n"
    }
   },
   "outputs": [],
   "source": [
    "dcl.interact()"
   ]
  },
  {
   "cell_type": "code",
   "execution_count": null,
   "id": "50c25af4-557b-4eb0-bbf3-e65888bd3c93",
   "metadata": {},
   "outputs": [],
   "source": [
    "dcl.plot_crack_"
   ]
  },
  {
   "cell_type": "code",
   "execution_count": null,
   "id": "e838f4ff-a955-4514-a807-849afafcaabc",
   "metadata": {},
   "outputs": [],
   "source": [
    "dcl.dsf.X_fe_KLa[(0,0,-1,-1),(0,0,-1,-1),(0,1,0,1)]"
   ]
  },
  {
   "cell_type": "code",
   "execution_count": null,
   "id": "d60fad60-0ed9-4ebc-970d-8cb5d9ce7b1a",
   "metadata": {},
   "outputs": [],
   "source": [
    "dcl.dsf.dic_grid.X_IJa[(0,0,-1,-1),(0,0,-1,-1),(0,1,0,1)]"
   ]
  },
  {
   "cell_type": "code",
   "execution_count": null,
   "id": "9d0156f0-40fd-4465-86c3-927a7f7d2114",
   "metadata": {},
   "outputs": [],
   "source": [
    "dcl.dsf.X_ipl_MNa[(0,0,-1,-1),(0,0,-1,-1),(0,1,0,1)]"
   ]
  },
  {
   "cell_type": "code",
   "execution_count": null,
   "id": "d9c17d63-1bfe-4a26-86e0-9de860e1dec1",
   "metadata": {},
   "outputs": [],
   "source": [
    "len(dcl.items)"
   ]
  },
  {
   "cell_type": "code",
   "execution_count": null,
   "id": "08c5e129-1057-49d5-8394-bccfc06e4766",
   "metadata": {},
   "outputs": [],
   "source": [
    "%%capture\n",
    "\n",
    "from matplotlib import animation, rc\n",
    "from IPython.display import HTML\n",
    "from traitlets import HasTraits\n",
    "\n",
    "fig = plt.figure()\n",
    "fig.set_size_inches(12, 6)"
   ]
  },
  {
   "cell_type": "code",
   "execution_count": null,
   "id": "b7c5bad9-ebe7-42f6-8abc-6d010dd63a68",
   "metadata": {},
   "outputs": [],
   "source": [
    "class CrackListAnimator(HasTraits):\n",
    "    \n",
    "    \n",
    "    def init(self):\n",
    "        print('init')\n",
    "        self.t_dic_T = np.hstack([dcl.dsf.dic_grid.t_dic_T, np.ones(10)])        \n",
    "    \n",
    "    def plot(self, i):\n",
    "        fig.clear()\n",
    "        t = self.t_dic_T[i]\n",
    "        print('t', t)\n",
    "        axes = dcl.subplots(fig)\n",
    "        dcl.dsf.dic_grid.t = t\n",
    "        dcl.update_plot(axes)\n",
    "        \n",
    "    def mp4_video(self):\n",
    "        n_t = len(self.t_dic_T)\n",
    "        # call the animator. blit=True means only re-draw the parts that have changed.\n",
    "        anim = animation.FuncAnimation(fig, self.plot, init_func=self.init,\n",
    "                                       frames=n_t, interval=300, blit=True)\n",
    "        return anim.save(\"cracking_animation.gif\")\n",
    "    \n",
    "    def html5_video(self):\n",
    "        n_t = len(self.t_dic_T)\n",
    "        # call the animator. blit=True means only re-draw the parts that have changed.\n",
    "        anim = animation.FuncAnimation(fig, self.plot, init_func=self.init,\n",
    "                                       frames=n_t, interval=300, blit=True)\n",
    "        return anim.to_html5_video()"
   ]
  },
  {
   "cell_type": "code",
   "execution_count": null,
   "id": "6bd81d82-9e67-4588-9ef9-bc9c086bfcde",
   "metadata": {},
   "outputs": [],
   "source": [
    "# anim = CrackListAnimator()\n",
    "# anim.init()\n",
    "# anim.mp4_video()"
   ]
  },
  {
   "cell_type": "code",
   "execution_count": null,
   "id": "69239cc4-8fef-4a13-9352-a036f9e81910",
   "metadata": {},
   "outputs": [],
   "source": [
    "anim = CrackListAnimator()\n",
    "anim.init()\n",
    "with open('cracking_animation.html','w') as html_video_file:\n",
    "    html_video_file.write(anim.html5_video())"
   ]
  },
  {
   "cell_type": "code",
   "execution_count": null,
   "id": "f2c6626d-a380-4a9e-9c20-a5be24feba14",
   "metadata": {},
   "outputs": [],
   "source": [
    "html_video_file = open('cracking_animation.html','r')\n",
    "HTML(html_video_file.read())"
   ]
  },
  {
   "cell_type": "code",
   "execution_count": null,
   "id": "9128f2d3-ae9b-49af-a7bb-467b5cd948f5",
   "metadata": {},
   "outputs": [],
   "source": []
  }
 ],
 "metadata": {
  "kernelspec": {
   "display_name": "bmcs_env",
   "language": "python",
   "name": "bmcs_env"
  },
  "language_info": {
   "codemirror_mode": {
    "name": "ipython",
    "version": 3
   },
   "file_extension": ".py",
   "mimetype": "text/x-python",
   "name": "python",
   "nbconvert_exporter": "python",
   "pygments_lexer": "ipython3"
  }
 },
 "nbformat": 4,
 "nbformat_minor": 5
}
