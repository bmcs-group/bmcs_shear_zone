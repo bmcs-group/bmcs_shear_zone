{
 "cells": [
  {
   "cell_type": "markdown",
   "id": "bd3d7b5d-f468-4dc9-a72c-78599931be3b",
   "metadata": {},
   "source": [
    "# Crack processing"
   ]
  },
  {
   "cell_type": "markdown",
   "id": "11ff1c3e-54a8-4d16-b1ad-ac4bc6cc8aa4",
   "metadata": {},
   "source": [
    "The crack propagation and state characterization is done using the class `DICCrack` which represents its geometry in form of a spline.\n",
    "Cracks are contained in the `DICCrackList` and can be accessed using the index operator with the crack label. Currently, the crack label is an enumeration running from left to right. "
   ]
  },
  {
   "cell_type": "code",
   "execution_count": null,
   "id": "c2fe6f9d-23fd-4852-bc53-56c37bb3cd3a",
   "metadata": {},
   "outputs": [],
   "source": [
    "%matplotlib widget\n",
    "import ibvpy.api as ib\n",
    "import matplotlib.pylab as plt\n",
    "from matplotlib import cm\n",
    "from bmcs_shear.dic_crack import\\\n",
    "    DICGridTri, DICStateFields, DICCrackList, \\\n",
    "    DICAlignedGrid\n",
    "import numpy as np\n",
    "np.seterr(divide ='ignore', invalid='ignore');\n",
    "import collections\n",
    "collections.Iterable = collections.abc.Iterable"
   ]
  },
  {
   "cell_type": "code",
   "execution_count": null,
   "id": "67c20e23-562d-4266-8e53-a2c089d1ab69",
   "metadata": {},
   "outputs": [],
   "source": [
    "dic_grid = DICGridTri(U_factor=100, dir_name='B1_TV1', t=1)\n",
    "dic_grid.read_beam_design()\n",
    "dic_grid.trait_set(d_x=5, d_y=5, n_T=10);\n",
    "dsf = DICStateFields(dic_grid=dic_grid, R=10, omega_threshold=0.2, verbose_eval=True)\n",
    "dsf.tmodel_.trait_set(E=1400, c_T=0.006, nu=0.18, epsilon_0=0.0018,\n",
    "                      epsilon_f=0.002, eps_max=0.01);"
   ]
  },
  {
   "cell_type": "code",
   "execution_count": null,
   "id": "94a7c257-3d7f-4c4a-a66d-849c386ef21a",
   "metadata": {},
   "outputs": [],
   "source": [
    "dsf.eval()\n",
    "dcl = DICCrackList(dsf=dsf, corridor_left=3, corridor_right=1)\n",
    "dcl.identify_cracks()"
   ]
  },
  {
   "cell_type": "code",
   "execution_count": null,
   "id": "850cb75e-6708-454f-a2fe-bedc0127d739",
   "metadata": {},
   "outputs": [],
   "source": [
    "dcl.interact()"
   ]
  },
  {
   "cell_type": "code",
   "execution_count": null,
   "id": "5b76a696-5322-4b56-b09f-4feae7e77d49",
   "metadata": {},
   "outputs": [],
   "source": [
    "dc =dcl.items['3']"
   ]
  },
  {
   "cell_type": "code",
   "execution_count": null,
   "id": "8f34ad16-b482-4cca-a6d8-14905d0fd173",
   "metadata": {},
   "outputs": [],
   "source": [
    "dc.interact()"
   ]
  },
  {
   "cell_type": "code",
   "execution_count": null,
   "id": "6667ec27-240e-4f88-936a-8fc85fda22ed",
   "metadata": {},
   "outputs": [],
   "source": [
    "%matplotlib widget\n",
    "fig, ax = plt.subplots(1,1)\n",
    "dcl.plot_cracking_hist2(ax)\n",
    "ax.axis('equal')\n",
    "ax.axis('off')"
   ]
  }
 ],
 "metadata": {
  "kernelspec": {
   "display_name": "bmcs_env",
   "language": "python",
   "name": "bmcs_env"
  },
  "language_info": {
   "codemirror_mode": {
    "name": "ipython",
    "version": 3
   },
   "file_extension": ".py",
   "mimetype": "text/x-python",
   "name": "python",
   "nbconvert_exporter": "python",
   "pygments_lexer": "ipython3"
  }
 },
 "nbformat": 4,
 "nbformat_minor": 5
}
