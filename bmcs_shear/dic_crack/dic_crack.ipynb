{
 "cells": [
  {
   "cell_type": "markdown",
   "id": "bd3d7b5d-f468-4dc9-a72c-78599931be3b",
   "metadata": {},
   "source": [
    "# Crack processing"
   ]
  },
  {
   "cell_type": "markdown",
   "id": "11ff1c3e-54a8-4d16-b1ad-ac4bc6cc8aa4",
   "metadata": {},
   "source": [
    "The crack propagation and state characterization is done using the class `DICCrack` which represents its geometry in form of a spline.\n",
    "Cracks are contained in the `DICCrackList` and can be accessed using the index operator with the crack label. Currently, the crack label is an enumeration running from left to right. "
   ]
  },
  {
   "cell_type": "code",
   "execution_count": null,
   "id": "c2fe6f9d-23fd-4852-bc53-56c37bb3cd3a",
   "metadata": {},
   "outputs": [],
   "source": [
    "%matplotlib widget\n",
    "import ibvpy.api as ib\n",
    "import matplotlib.pylab as plt\n",
    "from matplotlib import cm\n",
    "from bmcs_shear.dic_crack import\\\n",
    "    DICGrid, DICStateFields, DICCrackList, \\\n",
    "    DICAlignedGrid\n",
    "import numpy as np\n",
    "np.seterr(divide ='ignore', invalid='ignore');\n",
    "import collections\n",
    "collections.Iterable = collections.abc.Iterable"
   ]
  },
  {
   "cell_type": "code",
   "execution_count": null,
   "id": "4415b7b0-dac6-46e2-bf2e-1ef772623c7a",
   "metadata": {},
   "outputs": [],
   "source": [
    "dic_grid = DICGrid(U_factor=100, dir_name='B7_TV1', t=1)"
   ]
  },
  {
   "cell_type": "code",
   "execution_count": null,
   "id": "79722a78-2123-427c-9143-66bbeef41f1f",
   "metadata": {},
   "outputs": [],
   "source": [
    "dic_grid.read_beam_design()"
   ]
  },
  {
   "cell_type": "code",
   "execution_count": null,
   "id": "0e233e6b-2ae1-4c02-a0b4-bb2292fec622",
   "metadata": {},
   "outputs": [],
   "source": [
    "from bmcs_shear.dic_crack import DICStressProfile\n",
    "dsf = DICStateFields(dic_grid=dic_grid, R=8, omega_threshold=0.05)"
   ]
  },
  {
   "cell_type": "code",
   "execution_count": null,
   "id": "2f5aa83e-955d-441f-90ac-f17165aaaf9d",
   "metadata": {},
   "outputs": [],
   "source": [
    "l_cb = dic_grid.d_x * 1\n",
    "dsf.tmodel_.trait_set(E=5000, c_T=0, nu=0.18, epsilon_0=0.0005, epsilon_f=0.02/l_cb, eps_max=0.005);\n",
    "dsf.eval()"
   ]
  },
  {
   "cell_type": "code",
   "execution_count": null,
   "id": "432627c2-9545-4406-b52f-9c2e0d498fcb",
   "metadata": {},
   "outputs": [],
   "source": [
    "dcl = DICCrackList(dsf=dsf, corridor_left=3, corridor_right=0)\n",
    "dcl.identify_cracks()"
   ]
  },
  {
   "cell_type": "code",
   "execution_count": null,
   "id": "5b76a696-5322-4b56-b09f-4feae7e77d49",
   "metadata": {},
   "outputs": [],
   "source": [
    "dc =dcl.items['0']"
   ]
  },
  {
   "cell_type": "code",
   "execution_count": null,
   "id": "088bd084-cc90-413d-957d-05356908ed60",
   "metadata": {},
   "outputs": [],
   "source": [
    "dc.x_1_tip_a, dc.y_N, "
   ]
  },
  {
   "cell_type": "code",
   "execution_count": null,
   "id": "e0d586dc-1f40-43b4-b904-e943181992c5",
   "metadata": {},
   "outputs": [],
   "source": [
    "self = dc\n",
    "_, y_tip = self.x_1_tip_a - self.y_N[0]\n",
    "# Cracked fraction of cross-section\n",
    "d_y = y_tip / self.H_ligament\n",
    "y_tip"
   ]
  },
  {
   "cell_type": "code",
   "execution_count": null,
   "id": "e88245bb-8bb7-4b7a-abdf-8dbb011731ef",
   "metadata": {},
   "outputs": [],
   "source": [
    "self = dc\n",
    "# array of tip indexes for each dic time step\n",
    "K_tip_T = np.zeros((self.dic_grid.n_T,), dtype=np.int_)\n",
    "# consider only steps with at least one non-zero damage value\n",
    "K_omega_T = np.where(np.sum(self.omega_TK, axis=-1) > 0)[0]\n",
    "# search from the top of the ligament the first occurrence of damage\n",
    "# larger than threshold. The search starts from the crack tip identified\n",
    "# for the ultimate state and goes downwards to the point where the\n",
    "# damage reaches the overall damage threshold omega_threshold.\n",
    "L_tip_1 = self.n_K_ligament - self.K_tip_1\n",
    "# for each time step get the first indexes with omega larger than threshold\n",
    "L_omega = np.argmax(np.flip(self.omega_TK[K_omega_T], axis=-1)[:, L_tip_1:] >\n",
    "                    self.omega_threshold, axis=-1)\n",
    "# identify the indexes of the current crack tip from the bottom of the ligament\n",
    "K_omega_tip_T = self.K_tip_1 - L_omega\n",
    "# place the found indexes into the time array\n",
    "K_tip_T[K_omega_T] = K_omega_tip_T"
   ]
  },
  {
   "cell_type": "code",
   "execution_count": null,
   "id": "3a9c178e-f3aa-48f1-8b7b-62ee9fdca00b",
   "metadata": {},
   "outputs": [],
   "source": [
    "K_tip_T"
   ]
  },
  {
   "cell_type": "code",
   "execution_count": null,
   "id": "8f34ad16-b482-4cca-a6d8-14905d0fd173",
   "metadata": {},
   "outputs": [],
   "source": [
    "dc.interact()"
   ]
  },
  {
   "cell_type": "code",
   "execution_count": null,
   "id": "ff433970-b8ab-4e83-9dbe-a5c176e074ba",
   "metadata": {},
   "outputs": [],
   "source": [
    "dc.x_1_tip_a"
   ]
  },
  {
   "cell_type": "code",
   "execution_count": null,
   "id": "ca852c42-ec0e-4135-856c-9cb8dfd3fc14",
   "metadata": {},
   "outputs": [],
   "source": [
    "dc.x_t_tip_a"
   ]
  },
  {
   "cell_type": "code",
   "execution_count": null,
   "id": "fba66344-4d7e-4a15-b418-3744683d4ea6",
   "metadata": {},
   "outputs": [],
   "source": [
    "dc.T_t"
   ]
  },
  {
   "cell_type": "code",
   "execution_count": null,
   "id": "bf01dc1b-cbf7-4575-81d7-ea2193752ad4",
   "metadata": {},
   "outputs": [],
   "source": [
    "dc.dic_grid.T_t"
   ]
  },
  {
   "cell_type": "code",
   "execution_count": null,
   "id": "64141f68-4622-4319-9571-0d370bc3b236",
   "metadata": {},
   "outputs": [],
   "source": [
    "dc.K_tip_T[-1], dc.K_tip_1/dc.n_K_ligament"
   ]
  },
  {
   "cell_type": "code",
   "execution_count": null,
   "id": "a0aea283-c4db-46d9-acad-58b742222132",
   "metadata": {},
   "outputs": [],
   "source": [
    "dc.N_tip / len(dc.M_N)"
   ]
  },
  {
   "cell_type": "code",
   "execution_count": null,
   "id": "adac9efd-4ac7-48ba-8850-760fdc95378e",
   "metadata": {},
   "outputs": [],
   "source": [
    "dc.x_1_Ka[96,1]"
   ]
  },
  {
   "cell_type": "code",
   "execution_count": null,
   "id": "4155f237-f367-4369-8984-a1cb098563f2",
   "metadata": {},
   "outputs": [],
   "source": [
    "dc.y_N[dc.N_tip]"
   ]
  },
  {
   "cell_type": "code",
   "execution_count": null,
   "id": "7419aa15-f277-48ae-ad1b-c3299d18bec5",
   "metadata": {},
   "outputs": [],
   "source": [
    "dc.x_1_Ka[99,1], dc.y_N[dc.N_tip]"
   ]
  },
  {
   "cell_type": "code",
   "execution_count": null,
   "id": "518eb9da-916f-4aee-aff0-9338b569b067",
   "metadata": {},
   "outputs": [],
   "source": [
    "np.argmax(dc.x_1_Ka[:,1] > dc.x_1_tip_a[1]) - 1"
   ]
  },
  {
   "cell_type": "code",
   "execution_count": null,
   "id": "2f5fc635-ea7e-4880-b06b-e3361830f359",
   "metadata": {},
   "outputs": [],
   "source": []
  }
 ],
 "metadata": {
  "kernelspec": {
   "display_name": "bmcs_env",
   "language": "python",
   "name": "bmcs_env"
  },
  "language_info": {
   "codemirror_mode": {
    "name": "ipython",
    "version": 3
   },
   "file_extension": ".py",
   "mimetype": "text/x-python",
   "name": "python",
   "nbconvert_exporter": "python",
   "pygments_lexer": "ipython3"
  }
 },
 "nbformat": 4,
 "nbformat_minor": 5
}
