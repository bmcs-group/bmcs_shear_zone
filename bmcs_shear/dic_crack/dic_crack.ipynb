{
 "cells": [
  {
   "cell_type": "markdown",
   "id": "bd3d7b5d-f468-4dc9-a72c-78599931be3b",
   "metadata": {},
   "source": [
    "# Crack processing"
   ]
  },
  {
   "cell_type": "markdown",
   "id": "11ff1c3e-54a8-4d16-b1ad-ac4bc6cc8aa4",
   "metadata": {},
   "source": [
    "The crack propagation and state characterization is done using the class `DICCrack` which represents its geometry in form of a spline.\n",
    "Cracks are contained in the `DICCrackList` and can be accessed using the index operator with the crack label. Currently, the crack label is an enumeration running from left to right. "
   ]
  },
  {
   "cell_type": "code",
   "execution_count": null,
   "id": "c2fe6f9d-23fd-4852-bc53-56c37bb3cd3a",
   "metadata": {},
   "outputs": [],
   "source": [
    "%matplotlib widget\n",
    "import ibvpy.api as ib\n",
    "import matplotlib.pylab as plt\n",
    "from matplotlib import cm\n",
    "from bmcs_shear.dic_crack import\\\n",
    "    DICGrid, DICStateFields, DICCrackList, \\\n",
    "    DICAlignedGrid\n",
    "import numpy as np\n",
    "np.seterr(divide ='ignore', invalid='ignore');\n",
    "import collections\n",
    "collections.Iterable = collections.abc.Iterable"
   ]
  },
  {
   "cell_type": "code",
   "execution_count": null,
   "id": "4415b7b0-dac6-46e2-bf2e-1ef772623c7a",
   "metadata": {},
   "outputs": [],
   "source": [
    "dic_grid = DICGrid(U_factor=100, dir_name='B7_TV1', t=1)"
   ]
  },
  {
   "cell_type": "code",
   "execution_count": null,
   "id": "79722a78-2123-427c-9143-66bbeef41f1f",
   "metadata": {},
   "outputs": [],
   "source": [
    "dic_grid.read_beam_design()"
   ]
  },
  {
   "cell_type": "code",
   "execution_count": null,
   "id": "0e233e6b-2ae1-4c02-a0b4-bb2292fec622",
   "metadata": {},
   "outputs": [],
   "source": [
    "from bmcs_shear.dic_crack import DICStressProfile\n",
    "dsf = DICStateFields(dic_grid=dic_grid, R=8)"
   ]
  },
  {
   "cell_type": "code",
   "execution_count": null,
   "id": "2f5aa83e-955d-441f-90ac-f17165aaaf9d",
   "metadata": {},
   "outputs": [],
   "source": [
    "l_cb = dic_grid.d_x * 1\n",
    "dsf.tmodel_.trait_set(E=5000, c_T=0, nu=0.18, epsilon_0=0.0005, epsilon_f=0.02/l_cb, eps_max=0.005);\n",
    "dsf.eval()"
   ]
  },
  {
   "cell_type": "code",
   "execution_count": null,
   "id": "432627c2-9545-4406-b52f-9c2e0d498fcb",
   "metadata": {},
   "outputs": [],
   "source": [
    "dcl = DICCrackList(dsf=dsf, corridor_left=3, corridor_right=0)\n",
    "dcl.identify_cracks()"
   ]
  },
  {
   "cell_type": "code",
   "execution_count": null,
   "id": "5b76a696-5322-4b56-b09f-4feae7e77d49",
   "metadata": {},
   "outputs": [],
   "source": [
    "dc =dcl.items['0']"
   ]
  },
  {
   "cell_type": "code",
   "execution_count": null,
   "id": "8f34ad16-b482-4cca-a6d8-14905d0fd173",
   "metadata": {},
   "outputs": [],
   "source": [
    "dc.interact()"
   ]
  },
  {
   "cell_type": "code",
   "execution_count": null,
   "id": "5e722aa8-c637-4f50-8364-fb69e6a40e4c",
   "metadata": {},
   "outputs": [],
   "source": [
    "dc.parents"
   ]
  },
  {
   "cell_type": "code",
   "execution_count": null,
   "id": "60069f4f-ebaf-436c-9ed1-8cb5ee3f2287",
   "metadata": {},
   "outputs": [],
   "source": [
    "%matplotlib widget\n",
    "fig, ax_x = plt.subplots(1,1)\n",
    "dc.plot_x_1_Ka(ax_x)\n",
    "dc.cor.a_grid.U_factor=50\n",
    "dc.cor.a_grid.plot_init(ax_x)\n",
    "ax_x.axis('equal')"
   ]
  },
  {
   "cell_type": "code",
   "execution_count": null,
   "id": "7b3736c6-e8ee-4bff-91c9-ad1db5e72c22",
   "metadata": {},
   "outputs": [],
   "source": [
    "%matplotlib widget\n",
    "fig, ax_u = plt.subplots(1,1)\n",
    "self = dc.cor.a_grid\n",
    "X_t_MNa_scaled = np.einsum('...a->a...', self.X_t_MNa_scaled)\n",
    "ax_u.scatter(*X_t_MNa_scaled.reshape(2,-1), s=15, marker='o', color='darkgray')\n",
    "X_aij = np.einsum('...a->a...', self.X_MNa)\n",
    "ax_u.scatter(*X_aij.reshape(2,-1), s=15, marker='o', color='blue')\n",
    "x_MN, y_MN = X_aij\n",
    "ax_u.scatter(x_MN[self.MN_selection], y_MN[self.MN_selection], s=15, marker='o', color='red')\n",
    "X0_a = self.X_t_MNa_scaled[self.M0, self.N0, :]\n",
    "X1_a = self.X_t_MNa_scaled[self.M1, self.N1, :]\n",
    "X01_na = np.array([X0_a, X1_a])\n",
    "ax_u.plot(*X01_na.T, lw=3, color='green')\n",
    "self = dc.cor\n",
    "M_N = self.dic_crack.M_N\n",
    "N_N = np.arange(len(self.dic_crack.M_N))\n",
    "X_aMN = np.einsum('...a->a...', self.a_grid.X_MNa)\n",
    "x_N, y_N = X_aMN\n",
    "ax_u.plot(x_N[M_N, N_N], y_N[M_N, N_N], lw=3, color='yellow')"
   ]
  },
  {
   "cell_type": "code",
   "execution_count": null,
   "id": "a1f7dec5-3b23-4c00-82c5-b4b9de32d3cb",
   "metadata": {},
   "outputs": [],
   "source": []
  },
  {
   "cell_type": "code",
   "execution_count": null,
   "id": "c01463ab-10be-4ee1-ac73-c3bafd4a39ea",
   "metadata": {},
   "outputs": [],
   "source": []
  }
 ],
 "metadata": {
  "kernelspec": {
   "display_name": "bmcs_env",
   "language": "python",
   "name": "bmcs_env"
  },
  "language_info": {
   "codemirror_mode": {
    "name": "ipython",
    "version": 3
   },
   "file_extension": ".py",
   "mimetype": "text/x-python",
   "name": "python",
   "nbconvert_exporter": "python",
   "pygments_lexer": "ipython3"
  }
 },
 "nbformat": 4,
 "nbformat_minor": 5
}
