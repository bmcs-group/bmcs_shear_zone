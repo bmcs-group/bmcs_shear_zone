{
 "cells": [
  {
   "cell_type": "markdown",
   "id": "bd3d7b5d-f468-4dc9-a72c-78599931be3b",
   "metadata": {},
   "source": [
    "# Crack processing"
   ]
  },
  {
   "cell_type": "markdown",
   "id": "11ff1c3e-54a8-4d16-b1ad-ac4bc6cc8aa4",
   "metadata": {},
   "source": [
    "The crack propagation and state characterization is done using the class `DICCrack` which represents its geometry in form of a spline.\n",
    "Cracks are contained in the `DICCrackList` and can be accessed using the index operator with the crack label. Currently, the crack label is an enumeration running from left to right. "
   ]
  },
  {
   "cell_type": "code",
   "execution_count": null,
   "id": "c2fe6f9d-23fd-4852-bc53-56c37bb3cd3a",
   "metadata": {},
   "outputs": [],
   "source": [
    "%matplotlib widget\n",
    "from bmcs_shear.dic_crack import sz_tests_series_2023 as ts\n",
    "import ibvpy.api as ib\n",
    "import matplotlib.pylab as plt\n",
    "from matplotlib import cm\n",
    "from bmcs_shear.dic_crack import\\\n",
    "    DICGrid, DICInpUnstructuredPoints, DICStateFields, DICCrackList, \\\n",
    "    DICAlignedGrid\n",
    "import numpy as np\n",
    "np.seterr(divide ='ignore', invalid='ignore');\n",
    "import collections\n",
    "collections.Iterable = collections.abc.Iterable"
   ]
  },
  {
   "cell_type": "code",
   "execution_count": null,
   "id": "326fe6c3",
   "metadata": {},
   "outputs": [],
   "source": [
    "dcl = ts.new_dcl(ts.B1_TV2)"
   ]
  },
  {
   "cell_type": "code",
   "execution_count": null,
   "id": "7a803a9d",
   "metadata": {},
   "outputs": [],
   "source": [
    "dc = dcl.cracks[0]\n",
    "self = dc.sp\n",
    "self.dic_grid.t = 0.1\n",
    "eps_unc_t_Lab = self.eps_unc_t_Lab\n",
    "X_unc_t_La = self.X_unc_t_La"
   ]
  },
  {
   "cell_type": "code",
   "execution_count": null,
   "id": "089e5bf7",
   "metadata": {},
   "outputs": [],
   "source": [
    "fig, ax = plt.subplots(1,1)\n",
    "ax.plot(X_unc_t_La[:,1], eps_unc_t_Lab[:,0,0])\n",
    "ax.set_xlabel(r'$y$/mm')\n",
    "ax.set_ylabel(r'$\\varepsilon$/-')\n",
    "ax.set_title('strain profile over the height')"
   ]
  },
  {
   "cell_type": "code",
   "execution_count": null,
   "id": "0e624cc4",
   "metadata": {},
   "outputs": [],
   "source": [
    "import numpy as np\n",
    "from scipy import signal\n",
    "\n",
    "def autocorr(x):\n",
    "    result = np.correlate(x, x, mode='full')\n",
    "    return result[result.size // 2:]\n",
    "\n",
    "def autocorr_length(x):\n",
    "    ac = autocorr(x - np.mean(x))\n",
    "    ac = ac / np.max(ac)    # Normalize\n",
    "    return np.where(ac < 0)[0][0]\n",
    "\n",
    "X_L = X_unc_t_La[:,1]\n",
    "eps_L = eps_unc_t_Lab[:,0,0]\n",
    "\n",
    "d_X = X_L[1] - X_L[0]\n",
    "corr_length = autocorr_length(eps_L) * d_X\n",
    "print(f'Estimated autocorrelation length: {corr_length:.1f} mm')"
   ]
  },
  {
   "cell_type": "code",
   "execution_count": null,
   "id": "b68e2d9b",
   "metadata": {},
   "outputs": [],
   "source": [
    "cmm = self.bd.matrix_\n",
    "mdm = self.smeared_matmod\n",
    "mdm.trait_set(E=cmm.E_c, nu=0.2)\n",
    "n_K, _, _ = eps_unc_t_Lab.shape\n",
    "Eps = {\n",
    "    name: np.zeros((n_K,) + shape)\n",
    "    for name, shape in mdm.state_var_shapes.items()\n",
    "}\n",
    "sig_t_unc_Lab, _ = mdm.get_corr_pred(eps_unc_t_Lab, 1, **Eps)\n",
    "sig_t_unc_Lab"
   ]
  },
  {
   "cell_type": "code",
   "execution_count": null,
   "id": "5b76a696-5322-4b56-b09f-4feae7e77d49",
   "metadata": {},
   "outputs": [],
   "source": [
    "dc = dcl.cracks[3]\n",
    "sp = dc.sp\n",
    "fig, (ax_N, ax_V, ax_M) = plt.subplots(1,3, figsize=(13,3))\n",
    "sp.plot_ST(ax_N, ax_V, ax_M)"
   ]
  },
  {
   "cell_type": "code",
   "execution_count": null,
   "id": "6667ec27-240e-4f88-936a-8fc85fda22ed",
   "metadata": {},
   "outputs": [],
   "source": [
    "%matplotlib widget\n",
    "fig, ax = plt.subplots(1,1)\n",
    "#dcl.plot_cracking_hist2(ax)\n",
    "#dc.plot_omega_t_Ni(ax)\n",
    "ax.plot(dc.omega_t_N, dc.x_1_Ka[:,1], color='blue')\n",
    "ax.fill_between(dc.omega_t_N, dc.x_1_Ka[:,1], color='blue', alpha=0.4)\n",
    "#ax.axis('equal')\n",
    "#ax.axis('off')"
   ]
  },
  {
   "cell_type": "code",
   "execution_count": null,
   "id": "e8ede694-2dda-4be7-9d3d-4005959cdb25",
   "metadata": {},
   "outputs": [],
   "source": [
    "dc.M_N"
   ]
  },
  {
   "cell_type": "code",
   "execution_count": null,
   "id": "a2a0a8c0-cbcb-4278-94db-85931e5213a5",
   "metadata": {},
   "outputs": [],
   "source": [
    "N = np.arange(len(dc.M_N))"
   ]
  },
  {
   "cell_type": "code",
   "execution_count": null,
   "id": "686497de-2dc4-4467-8717-56d12817db2b",
   "metadata": {},
   "outputs": [],
   "source": [
    "xx_MN, yy_MN, cd_field_irn_MN = dcl.dsf.crack_detection_ipl_field\n",
    "y_N = yy_MN[0,:]"
   ]
  },
  {
   "cell_type": "code",
   "execution_count": null,
   "id": "3f6f02dd-9e1c-4e49-9f10-d374a30c9660",
   "metadata": {},
   "outputs": [],
   "source": [
    "fig, ax = plt.subplots(1,1)\n",
    "ax.plot(cd_field_irn_MN[dc.M_N, N], y_N)"
   ]
  },
  {
   "cell_type": "code",
   "execution_count": null,
   "id": "bd2f8d88-37be-431e-a86b-bd6cbece6884",
   "metadata": {},
   "outputs": [],
   "source": [
    "dc.x_t_tip_a[1], dc.x_1_tip_a[1]"
   ]
  },
  {
   "cell_type": "code",
   "execution_count": null,
   "id": "bf1b1961-94f1-4443-861c-d6357d3ec111",
   "metadata": {},
   "outputs": [],
   "source": [
    "dc.x_1_Ka[dc.K_tip_T[dc.T_t]]"
   ]
  },
  {
   "cell_type": "code",
   "execution_count": null,
   "id": "19722dd2-c8c9-413c-ab94-cce448400fa4",
   "metadata": {},
   "outputs": [],
   "source": [
    "dc.K_tip_T"
   ]
  },
  {
   "cell_type": "code",
   "execution_count": null,
   "id": "0735043a-34da-4bbc-b336-be109f3371c3",
   "metadata": {},
   "outputs": [],
   "source": [
    "xx_MN, yy_MN, cd_field_irn_MN = dcl.dsf.crack_detection_ipl_field\n",
    "cd_field_irn_MN[np.where(cd_field_irn_MN > 0)]"
   ]
  },
  {
   "cell_type": "code",
   "execution_count": null,
   "id": "e43affbd-6aee-4005-9d2c-19c33c8f572f",
   "metadata": {},
   "outputs": [],
   "source": []
  }
 ],
 "metadata": {
  "kernelspec": {
   "display_name": "bmcs_env2",
   "language": "python",
   "name": "bmcs_env2"
  },
  "language_info": {
   "codemirror_mode": {
    "name": "ipython",
    "version": 3
   },
   "file_extension": ".py",
   "mimetype": "text/x-python",
   "name": "python",
   "nbconvert_exporter": "python",
   "pygments_lexer": "ipython3"
  }
 },
 "nbformat": 4,
 "nbformat_minor": 5
}
