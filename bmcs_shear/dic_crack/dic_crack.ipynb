{
 "cells": [
  {
   "cell_type": "markdown",
   "id": "bd3d7b5d-f468-4dc9-a72c-78599931be3b",
   "metadata": {},
   "source": [
    "# Crack processing"
   ]
  },
  {
   "cell_type": "markdown",
   "id": "11ff1c3e-54a8-4d16-b1ad-ac4bc6cc8aa4",
   "metadata": {},
   "source": [
    "The crack propagation and state characterization is done using the class `DICCrack` which represents its geometry in form of a spline.\n",
    "Cracks are contained in the `DICCrackList` and can be accessed using the index operator with the crack label. Currently, the crack label is an enumeration running from left to right. "
   ]
  },
  {
   "cell_type": "code",
   "execution_count": null,
   "id": "c2fe6f9d-23fd-4852-bc53-56c37bb3cd3a",
   "metadata": {},
   "outputs": [],
   "source": [
    "%matplotlib widget\n",
    "from bmcs_shear.dic_crack import sz_tests_series_2023 as ts\n",
    "import ibvpy.api as ib\n",
    "import matplotlib.pylab as plt\n",
    "from matplotlib import cm\n",
    "from bmcs_shear.dic_crack import\\\n",
    "    DICGrid, DICInpUnstructuredPoints, DICStateFields, DICCrackList, \\\n",
    "    DICAlignedGrid\n",
    "import numpy as np\n",
    "np.seterr(divide ='ignore', invalid='ignore');\n",
    "import collections\n",
    "collections.Iterable = collections.abc.Iterable"
   ]
  },
  {
   "cell_type": "code",
   "execution_count": null,
   "id": "326fe6c3",
   "metadata": {},
   "outputs": [],
   "source": [
    "dcl = ts.new_dcl(ts.B10_TV1)"
   ]
  },
  {
   "cell_type": "code",
   "execution_count": null,
   "id": "089e5bf7",
   "metadata": {},
   "outputs": [],
   "source": [
    "dc = dcl.cracks[3]\n",
    "self = dc.sp\n",
    "self.dic_grid.t = 0.15\n",
    "eps_unc_t_Lab = self.eps_unc_t_Lab\n",
    "X_unc_t_La = self.X_unc_t_La\n",
    "fig, ax = plt.subplots(1,1)\n",
    "ax_sig = ax.twinx()\n",
    "ax.plot(X_unc_t_La[:,1], eps_unc_t_Lab[:,0,0])\n",
    "ax.set_xlabel(r'$y$/mm')\n",
    "ax.set_ylabel(r'$\\varepsilon$/-')\n",
    "ax.set_title('strain profile over the height')\n",
    "ax_sig.plot(X_unc_t_La[:,1], self.sig_unc_t_Lab[:,0,0])"
   ]
  },
  {
   "cell_type": "code",
   "execution_count": null,
   "id": "5b76a696-5322-4b56-b09f-4feae7e77d49",
   "metadata": {},
   "outputs": [],
   "source": [
    "dc = dcl.cracks[4]\n",
    "sp = dc.sp\n",
    "fig, (ax_N, ax_V, ax_M) = plt.subplots(1,3, figsize=(13,3))\n",
    "sp.plot_ST(ax_N, ax_V, ax_M)"
   ]
  },
  {
   "cell_type": "code",
   "execution_count": null,
   "id": "f5268b61",
   "metadata": {},
   "outputs": [],
   "source": [
    "sp.X_mid_unc_t_a"
   ]
  },
  {
   "cell_type": "code",
   "execution_count": null,
   "id": "6667ec27-240e-4f88-936a-8fc85fda22ed",
   "metadata": {},
   "outputs": [],
   "source": [
    "%matplotlib widget\n",
    "fig, ax = plt.subplots(1,1)\n",
    "ax.plot(dc.omega_t_K, dc.X_1_Ka[:,1], color='blue')\n",
    "ax.fill_between(dc.omega_t_K, dc.X_1_Ka[:,1], color='blue', alpha=0.4)"
   ]
  },
  {
   "cell_type": "code",
   "execution_count": null,
   "id": "e43affbd-6aee-4005-9d2c-19c33c8f572f",
   "metadata": {},
   "outputs": [],
   "source": []
  }
 ],
 "metadata": {
  "kernelspec": {
   "display_name": "bmcs_env2",
   "language": "python",
   "name": "bmcs_env2"
  },
  "language_info": {
   "codemirror_mode": {
    "name": "ipython",
    "version": 3
   },
   "file_extension": ".py",
   "mimetype": "text/x-python",
   "name": "python",
   "nbconvert_exporter": "python",
   "pygments_lexer": "ipython3"
  }
 },
 "nbformat": 4,
 "nbformat_minor": 5
}
