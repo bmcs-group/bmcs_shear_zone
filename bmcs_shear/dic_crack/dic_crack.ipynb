{
 "cells": [
  {
   "cell_type": "markdown",
   "id": "bd3d7b5d-f468-4dc9-a72c-78599931be3b",
   "metadata": {},
   "source": [
    "# Crack processing"
   ]
  },
  {
   "cell_type": "markdown",
   "id": "11ff1c3e-54a8-4d16-b1ad-ac4bc6cc8aa4",
   "metadata": {},
   "source": [
    "The crack propagation and state characterization is done using the class `DICCrack` which represents its geometry in form of a spline.\n",
    "Cracks are contained in the `DICCrackList` and can be accessed using the index operator with the crack label. Currently, the crack label is an enumeration running from left to right. "
   ]
  },
  {
   "cell_type": "code",
   "execution_count": null,
   "id": "c2fe6f9d-23fd-4852-bc53-56c37bb3cd3a",
   "metadata": {},
   "outputs": [],
   "source": [
    "%matplotlib widget\n",
    "import ibvpy.api as ib\n",
    "import matplotlib.pylab as plt\n",
    "from matplotlib import cm\n",
    "from bmcs_shear.dic_crack import\\\n",
    "    DICGridTri, DICStateFields, DICCrackList, \\\n",
    "    DICAlignedGrid\n",
    "import numpy as np\n",
    "np.seterr(divide ='ignore', invalid='ignore');\n",
    "import collections\n",
    "collections.Iterable = collections.abc.Iterable"
   ]
  },
  {
   "cell_type": "code",
   "execution_count": null,
   "id": "67c20e23-562d-4266-8e53-a2c089d1ab69",
   "metadata": {},
   "outputs": [],
   "source": [
    "dic_grid = DICGridTri(U_factor=100, dir_name='B9_TV2', t=1)\n",
    "dic_grid.read_beam_design()\n",
    "dic_grid.trait_set(d_x=5, d_y=5, n_T=10);\n",
    "dsf = DICStateFields(dic_grid=dic_grid, R=10, omega_threshold=0.2, verbose_eval=True)\n",
    "dsf.tmodel_.trait_set(E=1400, c_T=0.006, nu=0.18, epsilon_0=0.0018,\n",
    "                      epsilon_f=0.002, eps_max=0.01);\n",
    "dsf.eval()\n",
    "dcl = DICCrackList(dsf=dsf, corridor_left=4, corridor_right=1, x_boundary=30)\n",
    "dcl.identify_cracks()"
   ]
  },
  {
   "cell_type": "code",
   "execution_count": null,
   "id": "a19289a2-b376-4ac9-b054-58570bfedbee",
   "metadata": {},
   "outputs": [],
   "source": [
    "dcl.dsf.X_fe_KLa.shape"
   ]
  },
  {
   "cell_type": "code",
   "execution_count": null,
   "id": "6ed642ae-3946-49b6-be2d-c204fff243da",
   "metadata": {},
   "outputs": [],
   "source": [
    "dcl.dsf.n_ipl_N"
   ]
  },
  {
   "cell_type": "code",
   "execution_count": null,
   "id": "5b76a696-5322-4b56-b09f-4feae7e77d49",
   "metadata": {},
   "outputs": [],
   "source": [
    "dc =dcl.items['3']"
   ]
  },
  {
   "cell_type": "code",
   "execution_count": null,
   "id": "8f34ad16-b482-4cca-a6d8-14905d0fd173",
   "metadata": {},
   "outputs": [],
   "source": [
    "dc.interact()"
   ]
  },
  {
   "cell_type": "code",
   "execution_count": null,
   "id": "6667ec27-240e-4f88-936a-8fc85fda22ed",
   "metadata": {},
   "outputs": [],
   "source": [
    "%matplotlib widget\n",
    "fig, ax = plt.subplots(1,1)\n",
    "#dcl.plot_cracking_hist2(ax)\n",
    "#dc.plot_omega_t_Ni(ax)\n",
    "ax.plot(dc.omega_t_N, dc.x_1_Ka[:,1], color='blue')\n",
    "ax.fill_between(dc.omega_t_N, dc.x_1_Ka[:,1], color='blue', alpha=0.4)\n",
    "#ax.axis('equal')\n",
    "#ax.axis('off')"
   ]
  },
  {
   "cell_type": "code",
   "execution_count": null,
   "id": "e8ede694-2dda-4be7-9d3d-4005959cdb25",
   "metadata": {},
   "outputs": [],
   "source": [
    "dc.M_N"
   ]
  },
  {
   "cell_type": "code",
   "execution_count": null,
   "id": "a2a0a8c0-cbcb-4278-94db-85931e5213a5",
   "metadata": {},
   "outputs": [],
   "source": [
    "N = np.arange(len(dc.M_N))"
   ]
  },
  {
   "cell_type": "code",
   "execution_count": null,
   "id": "686497de-2dc4-4467-8717-56d12817db2b",
   "metadata": {},
   "outputs": [],
   "source": [
    "xx_MN, yy_MN, cd_field_irn_MN = dcl.dsf.crack_detection_ipl_field\n",
    "y_N = yy_MN[0,:]"
   ]
  },
  {
   "cell_type": "code",
   "execution_count": null,
   "id": "3f6f02dd-9e1c-4e49-9f10-d374a30c9660",
   "metadata": {},
   "outputs": [],
   "source": [
    "fig, ax = plt.subplots(1,1)\n",
    "ax.plot(cd_field_irn_MN[dc.M_N, N], y_N)"
   ]
  },
  {
   "cell_type": "code",
   "execution_count": null,
   "id": "bd2f8d88-37be-431e-a86b-bd6cbece6884",
   "metadata": {},
   "outputs": [],
   "source": [
    "dc.x_t_tip_a[1], dc.x_1_tip_a[1]"
   ]
  },
  {
   "cell_type": "code",
   "execution_count": null,
   "id": "bf1b1961-94f1-4443-861c-d6357d3ec111",
   "metadata": {},
   "outputs": [],
   "source": [
    "dc.x_1_Ka[dc.K_tip_T[dc.T_t]]"
   ]
  },
  {
   "cell_type": "code",
   "execution_count": null,
   "id": "19722dd2-c8c9-413c-ab94-cce448400fa4",
   "metadata": {},
   "outputs": [],
   "source": [
    "dc.K_tip_T"
   ]
  },
  {
   "cell_type": "code",
   "execution_count": null,
   "id": "0735043a-34da-4bbc-b336-be109f3371c3",
   "metadata": {},
   "outputs": [],
   "source": [
    "xx_MN, yy_MN, cd_field_irn_MN = dcl.dsf.crack_detection_ipl_field\n",
    "cd_field_irn_MN[np.where(cd_field_irn_MN > 0)]"
   ]
  },
  {
   "cell_type": "code",
   "execution_count": null,
   "id": "e43affbd-6aee-4005-9d2c-19c33c8f572f",
   "metadata": {},
   "outputs": [],
   "source": []
  }
 ],
 "metadata": {
  "kernelspec": {
   "display_name": "bmcs_env",
   "language": "python",
   "name": "bmcs_env"
  },
  "language_info": {
   "codemirror_mode": {
    "name": "ipython",
    "version": 3
   },
   "file_extension": ".py",
   "mimetype": "text/x-python",
   "name": "python",
   "nbconvert_exporter": "python",
   "pygments_lexer": "ipython3"
  }
 },
 "nbformat": 4,
 "nbformat_minor": 5
}
