{
 "cells": [
  {
   "cell_type": "markdown",
   "metadata": {},
   "source": [
    "# Input chanel synchronization"
   ]
  },
  {
   "cell_type": "markdown",
   "metadata": {},
   "source": [
    "The test monitoring includes several sources of sensing, such as load scenario, LVDT measurements, DIC surface data and fiber-optical measurements inside a specimen. Each of these sources has its own clock which needs to be synchronized before processing the data. The synchronization is done by finding the time shift between the signals and then applying the shift to all the signals. There are the following options for synchronization:\n",
    "\n",
    " - manual synchronization, and\n",
    " - automatic synchronization using a shared sensor chanel,\n",
    "\n",
    "Manual synchronization is done by explicitly capturing the time shift between two signals during the test setup, for example by making a photo of the displays capturing the clock running during the experiment.\n",
    "\n",
    "Automatic synchronization can be used if two channels, e.g. if the load cell channel is connected both to the LVDT and DIC measurement. In this case, the software can automatically find the time shift between the two signals and apply it to all the other signals. This method is used here and it is described in the following.\n",
    " "
   ]
  },
  {
   "cell_type": "markdown",
   "metadata": {},
   "source": [
    "Assuming there are two sources delivering time dependent data, let us consider $x_1(t_1)$ and $x_2(t_1)$, where $t_1, t_2$ are the variables in the recording of the two data channels. They are shifted by $\\Delta t_{12}$ so that \n",
    "$$\n",
    " t_1 = t_2 + \\Delta t_{12}.\n",
    "$$"
   ]
  },
  {
   "cell_type": "code",
   "execution_count": null,
   "metadata": {},
   "outputs": [],
   "source": [
    "%matplotlib widget\n",
    "import matplotlib.pylab as plt\n",
    "import numpy as np\n",
    "from bmcs_shear.dic_crack.dic_time_sync import DICTimeSync"
   ]
  },
  {
   "cell_type": "code",
   "execution_count": null,
   "metadata": {},
   "outputs": [],
   "source": [
    "tsync = DICTimeSync(dir_name='B1_TV2')"
   ]
  },
  {
   "cell_type": "code",
   "execution_count": null,
   "metadata": {},
   "outputs": [],
   "source": [
    "tsync.time_0"
   ]
  },
  {
   "cell_type": "code",
   "execution_count": null,
   "metadata": {},
   "outputs": [],
   "source": [
    "fig, ax = plt.subplots(1,1)\n",
    "time, F, w = tsync.time_F_w_m\n",
    "ax.plot(tsync.w_range, tsync.f_F_time(tsync.f_time_w(tsync.w_range)))\n",
    "tsync.plot_load_deflection(ax)"
   ]
  },
  {
   "cell_type": "code",
   "execution_count": null,
   "metadata": {},
   "outputs": [],
   "source": [
    "tsync.interact()"
   ]
  },
  {
   "cell_type": "markdown",
   "metadata": {},
   "source": []
  },
  {
   "cell_type": "code",
   "execution_count": null,
   "metadata": {},
   "outputs": [],
   "source": []
  },
  {
   "cell_type": "code",
   "execution_count": null,
   "metadata": {},
   "outputs": [],
   "source": []
  }
 ],
 "metadata": {
  "kernelspec": {
   "display_name": "bmcs_env2",
   "language": "python",
   "name": "bmcs_env2"
  },
  "language_info": {
   "codemirror_mode": {
    "name": "ipython",
    "version": 3
   },
   "file_extension": ".py",
   "mimetype": "text/x-python",
   "name": "python",
   "nbconvert_exporter": "python",
   "pygments_lexer": "ipython3"
  }
 },
 "nbformat": 4,
 "nbformat_minor": 2
}
