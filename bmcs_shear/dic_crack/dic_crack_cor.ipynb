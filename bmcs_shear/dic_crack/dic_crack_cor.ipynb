{
 "cells": [
  {
   "cell_type": "markdown",
   "id": "bd3d7b5d-f468-4dc9-a72c-78599931be3b",
   "metadata": {
    "pycharm": {
     "name": "#%% md\n"
    }
   },
   "source": [
    "# Center of rotation model"
   ]
  },
  {
   "cell_type": "markdown",
   "id": "11ff1c3e-54a8-4d16-b1ad-ac4bc6cc8aa4",
   "metadata": {
    "pycharm": {
     "name": "#%% md\n"
    }
   },
   "source": [
    "On top of the `DICCrack`, the crack-centered state representation is evaluated to examine the hypothesis of the rotation kinematics. First, cracks are identified over the whole DIC domain and then, one crack is selected to demonstrate the functionality and visualization."
   ]
  },
  {
   "cell_type": "code",
   "execution_count": null,
   "id": "c2fe6f9d-23fd-4852-bc53-56c37bb3cd3a",
   "metadata": {
    "pycharm": {
     "name": "#%%\n"
    }
   },
   "outputs": [],
   "source": [
    "%matplotlib widget\n",
    "import ibvpy.api as ib\n",
    "import matplotlib.pylab as plt\n",
    "from matplotlib import cm\n",
    "from bmcs_shear.dic_crack import\\\n",
    "    DICGrid, DICStateFields, DICCrackList, \\\n",
    "    DICAlignedGrid\n",
    "import numpy as np\n",
    "np.seterr(divide ='ignore', invalid='ignore');\n",
    "import collections\n",
    "collections.Iterable = collections.abc.Iterable"
   ]
  },
  {
   "cell_type": "code",
   "execution_count": null,
   "id": "4415b7b0-dac6-46e2-bf2e-1ef772623c7a",
   "metadata": {
    "pycharm": {
     "name": "#%%\n"
    }
   },
   "outputs": [],
   "source": [
    "dic_grid = DICGrid(U_factor=100, dir_name='B7_TV1', t=1)"
   ]
  },
  {
   "cell_type": "code",
   "execution_count": null,
   "id": "79722a78-2123-427c-9143-66bbeef41f1f",
   "metadata": {
    "pycharm": {
     "name": "#%%\n"
    }
   },
   "outputs": [],
   "source": [
    "dic_grid.read_beam_design()"
   ]
  },
  {
   "cell_type": "code",
   "execution_count": null,
   "id": "0e233e6b-2ae1-4c02-a0b4-bb2292fec622",
   "metadata": {
    "pycharm": {
     "name": "#%%\n"
    }
   },
   "outputs": [],
   "source": [
    "from bmcs_shear.dic_crack import DICStressProfile\n",
    "dsf = DICStateFields(dic_grid=dic_grid, R=8)"
   ]
  },
  {
   "cell_type": "code",
   "execution_count": null,
   "id": "2f5aa83e-955d-441f-90ac-f17165aaaf9d",
   "metadata": {
    "pycharm": {
     "name": "#%%\n"
    }
   },
   "outputs": [],
   "source": [
    "l_cb = dic_grid.d_x * 1\n",
    "dsf.tmodel_.trait_set(E=5000, c_T=0, nu=0.18, epsilon_0=0.0005, epsilon_f=0.02/l_cb, eps_max=0.005);\n",
    "dsf.eval()"
   ]
  },
  {
   "cell_type": "code",
   "execution_count": null,
   "id": "432627c2-9545-4406-b52f-9c2e0d498fcb",
   "metadata": {
    "pycharm": {
     "name": "#%%\n"
    }
   },
   "outputs": [],
   "source": [
    "dcl = DICCrackList(dsf=dsf, corridor_left=3, corridor_right=0)\n",
    "dcl.identify_cracks()"
   ]
  },
  {
   "cell_type": "code",
   "execution_count": null,
   "id": "5b76a696-5322-4b56-b09f-4feae7e77d49",
   "metadata": {
    "pycharm": {
     "name": "#%%\n"
    }
   },
   "outputs": [],
   "source": [
    "cor =dcl.items['2'].cor"
   ]
  },
  {
   "cell_type": "code",
   "execution_count": null,
   "id": "8f34ad16-b482-4cca-a6d8-14905d0fd173",
   "metadata": {
    "pycharm": {
     "name": "#%%\n"
    }
   },
   "outputs": [],
   "source": [
    "cor.interact()"
   ]
  },
  {
   "cell_type": "code",
   "execution_count": null,
   "id": "90265046-dc4d-4905-888f-733bda47e1aa",
   "metadata": {
    "pycharm": {
     "name": "#%%\n"
    }
   },
   "outputs": [],
   "source": [
    "cor.dic_grid.sz_bd.L"
   ]
  },
  {
   "cell_type": "code",
   "execution_count": null,
   "id": "8398ee70-b4fe-4e2c-980f-80fb9709511e",
   "metadata": {
    "pycharm": {
     "name": "#%%\n"
    }
   },
   "outputs": [],
   "source": [
    "for frame_position in ['vertical', 'inclined']:\n",
    "    cor.dic_grid.t = 1.0\n",
    "    cor.frame_position = frame_position\n",
    "    print(frame_position, cor.X_cor_t_a)"
   ]
  },
  {
   "cell_type": "code",
   "execution_count": null,
   "id": "88f68d90-e047-4596-be86-5b6907be9320",
   "metadata": {
    "pycharm": {
     "name": "#%%\n"
    }
   },
   "outputs": [],
   "source": [
    "cor.dic_grid.t = 0.98\n",
    "cor.frame_position = 'vertical'\n",
    "cor.dic_grid.t, cor.frame_position, cor.X_cor_t_a, cor.phi_t, cor.cov_phi_t"
   ]
  },
  {
   "cell_type": "code",
   "execution_count": null,
   "id": "e493ea9c-ed2c-421f-a6f7-d4ec24067104",
   "metadata": {
    "pycharm": {
     "name": "#%%\n"
    }
   },
   "outputs": [],
   "source": [
    "cor.dic_grid.t = 0.98\n",
    "cor.frame_position = 'inclined'\n",
    "cor.dic_grid.t, cor.frame_position, cor.X_cor_t_a, cor.phi_t, cor.cov_phi_t"
   ]
  },
  {
   "cell_type": "code",
   "execution_count": null,
   "id": "75db94b4-8a22-4270-96c2-a4ab8751173f",
   "metadata": {
    "pycharm": {
     "name": "#%%\n"
    }
   },
   "outputs": [],
   "source": []
  },
  {
   "cell_type": "code",
   "execution_count": null,
   "id": "a09fd27d-1598-4344-b4da-5a6235d8b31d",
   "metadata": {
    "pycharm": {
     "name": "#%%\n"
    }
   },
   "outputs": [],
   "source": [
    "n_C = len(dcl.items)\n",
    "M_phi_C_ = []\n",
    "for C in range(n_C):\n",
    "    print('crack', C)\n",
    "    cor = dcl.items[str(C)].cor\n",
    "    M_phi_list = []\n",
    "    for t in cor.dic_grid.t_dic_T:\n",
    "        cor.dic_grid.t = t\n",
    "        print('t', t)\n",
    "        M_phi_list.append([cor.M_t, cor.phi_t])\n",
    "    M_phi = np.array(M_phi_list)\n",
    "    M_phi_C_.append(M_phi)\n",
    "M_phi_C = np.array(M_phi_C_)"
   ]
  },
  {
   "cell_type": "code",
   "execution_count": null,
   "id": "590ebeff-a40a-4e3e-a984-b20920499b68",
   "metadata": {
    "pycharm": {
     "name": "#%%\n"
    }
   },
   "outputs": [],
   "source": [
    "M_phi_C.shape"
   ]
  },
  {
   "cell_type": "code",
   "execution_count": null,
   "id": "2ca016bc-2e96-404f-a336-81f4b506d969",
   "metadata": {
    "pycharm": {
     "name": "#%%\n"
    }
   },
   "outputs": [],
   "source": [
    "%matplotlib widget\n",
    "fig, ax = plt.subplots(1,1)\n",
    "ax.plot(M_phi[:,1], M_phi[:,0])"
   ]
  },
  {
   "cell_type": "code",
   "execution_count": null,
   "id": "c5c43a8c-6ffe-4573-8ad7-05527cd34348",
   "metadata": {
    "pycharm": {
     "name": "#%%\n"
    }
   },
   "outputs": [],
   "source": []
  }
 ],
 "metadata": {
  "kernelspec": {
   "display_name": "bmcs_env",
   "language": "python",
   "name": "bmcs_env"
  },
  "language_info": {
   "codemirror_mode": {
    "name": "ipython",
    "version": 3
   },
   "file_extension": ".py",
   "mimetype": "text/x-python",
   "name": "python",
   "nbconvert_exporter": "python",
   "pygments_lexer": "ipython3"
  }
 },
 "nbformat": 4,
 "nbformat_minor": 5
}
