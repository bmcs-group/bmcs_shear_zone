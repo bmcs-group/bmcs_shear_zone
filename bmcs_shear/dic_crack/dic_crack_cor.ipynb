{
 "cells": [
  {
   "cell_type": "markdown",
   "id": "bd3d7b5d-f468-4dc9-a72c-78599931be3b",
   "metadata": {
    "pycharm": {
     "name": "#%% md\n"
    }
   },
   "source": [
    "# Center of rotation model"
   ]
  },
  {
   "cell_type": "markdown",
   "id": "11ff1c3e-54a8-4d16-b1ad-ac4bc6cc8aa4",
   "metadata": {
    "pycharm": {
     "name": "#%% md\n"
    }
   },
   "source": [
    "On top of the `DICCrack`, the crack-centered state representation is evaluated to examine the hypothesis of the rotation kinematics. First, cracks are identified over the whole DIC domain and then, one crack is selected to demonstrate the functionality and visualization."
   ]
  },
  {
   "cell_type": "code",
   "execution_count": null,
   "id": "c2fe6f9d-23fd-4852-bc53-56c37bb3cd3a",
   "metadata": {
    "pycharm": {
     "name": "#%%\n"
    }
   },
   "outputs": [],
   "source": [
    "%matplotlib widget\n",
    "import ibvpy.api as ib\n",
    "import matplotlib.pylab as plt\n",
    "from matplotlib import cm\n",
    "from bmcs_shear.dic_crack import\\\n",
    "    DICGrid, DICStateFields, DICCrackList, \\\n",
    "    DICAlignedGrid\n",
    "import numpy as np\n",
    "np.seterr(divide ='ignore', invalid='ignore');\n",
    "import collections\n",
    "collections.Iterable = collections.abc.Iterable"
   ]
  },
  {
   "cell_type": "code",
   "execution_count": null,
   "id": "4415b7b0-dac6-46e2-bf2e-1ef772623c7a",
   "metadata": {
    "pycharm": {
     "name": "#%%\n"
    }
   },
   "outputs": [],
   "source": [
    "dic_grid = DICGrid(U_factor=100, dir_name='B7_TV1', t=1)"
   ]
  },
  {
   "cell_type": "code",
   "execution_count": null,
   "id": "79722a78-2123-427c-9143-66bbeef41f1f",
   "metadata": {
    "pycharm": {
     "name": "#%%\n"
    }
   },
   "outputs": [],
   "source": [
    "dic_grid.read_beam_design()"
   ]
  },
  {
   "cell_type": "code",
   "execution_count": null,
   "id": "0e233e6b-2ae1-4c02-a0b4-bb2292fec622",
   "metadata": {
    "pycharm": {
     "name": "#%%\n"
    }
   },
   "outputs": [],
   "source": [
    "from bmcs_shear.dic_crack import DICStressProfile\n",
    "dsf = DICStateFields(dic_grid=dic_grid, R=8)"
   ]
  },
  {
   "cell_type": "code",
   "execution_count": null,
   "id": "2f5aa83e-955d-441f-90ac-f17165aaaf9d",
   "metadata": {
    "pycharm": {
     "name": "#%%\n"
    }
   },
   "outputs": [],
   "source": [
    "l_cb = dic_grid.d_x * 1\n",
    "dsf.tmodel_.trait_set(E=5000, c_T=0, nu=0.18, epsilon_0=0.0005, epsilon_f=0.02/l_cb, eps_max=0.005);\n",
    "dsf.eval()"
   ]
  },
  {
   "cell_type": "code",
   "execution_count": null,
   "id": "432627c2-9545-4406-b52f-9c2e0d498fcb",
   "metadata": {
    "pycharm": {
     "name": "#%%\n"
    }
   },
   "outputs": [],
   "source": [
    "dcl = DICCrackList(dsf=dsf, corridor_left=3, corridor_right=0)\n",
    "dcl.identify_cracks()"
   ]
  },
  {
   "cell_type": "code",
   "execution_count": null,
   "id": "5b76a696-5322-4b56-b09f-4feae7e77d49",
   "metadata": {
    "pycharm": {
     "name": "#%%\n"
    }
   },
   "outputs": [],
   "source": [
    "cor =dcl.items['0'].cor"
   ]
  },
  {
   "cell_type": "code",
   "execution_count": null,
   "id": "8f34ad16-b482-4cca-a6d8-14905d0fd173",
   "metadata": {
    "pycharm": {
     "name": "#%%\n"
    }
   },
   "outputs": [],
   "source": [
    "cor.interact()"
   ]
  },
  {
   "cell_type": "code",
   "execution_count": null,
   "id": "c01463ab-10be-4ee1-ac73-c3bafd4a39ea",
   "metadata": {
    "pycharm": {
     "name": "#%%\n"
    }
   },
   "outputs": [],
   "source": []
  }
 ],
 "metadata": {
  "kernelspec": {
   "display_name": "bmcs_env",
   "language": "python",
   "name": "bmcs_env"
  },
  "language_info": {
   "codemirror_mode": {
    "name": "ipython",
    "version": 3
   },
   "file_extension": ".py",
   "mimetype": "text/x-python",
   "name": "python",
   "nbconvert_exporter": "python",
   "pygments_lexer": "ipython3"
  }
 },
 "nbformat": 4,
 "nbformat_minor": 5
}
