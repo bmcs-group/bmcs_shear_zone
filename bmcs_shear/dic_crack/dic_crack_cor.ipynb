{
 "cells": [
  {
   "cell_type": "markdown",
   "id": "bd3d7b5d-f468-4dc9-a72c-78599931be3b",
   "metadata": {
    "pycharm": {
     "name": "#%% md\n"
    }
   },
   "source": [
    "# Center of rotation model"
   ]
  },
  {
   "cell_type": "markdown",
   "id": "11ff1c3e-54a8-4d16-b1ad-ac4bc6cc8aa4",
   "metadata": {
    "pycharm": {
     "name": "#%% md\n"
    }
   },
   "source": [
    "On top of the `DICCrack`, the crack-centered state representation is evaluated to examine the hypothesis of the rotation kinematics. First, cracks are identified over the whole DIC domain and then, one crack is selected to demonstrate the functionality and visualization."
   ]
  },
  {
   "cell_type": "code",
   "execution_count": null,
   "id": "c2fe6f9d-23fd-4852-bc53-56c37bb3cd3a",
   "metadata": {
    "pycharm": {
     "name": "#%%\n"
    }
   },
   "outputs": [],
   "source": [
    "%matplotlib widget\n",
    "import ibvpy.api as ib\n",
    "import matplotlib.pylab as plt\n",
    "from matplotlib import cm\n",
    "from bmcs_shear.dic_crack import\\\n",
    "    DICInpUnstructuredPoints, DICGrid, DICStateFields, DICCrackList, \\\n",
    "    DICAlignedGrid\n",
    "import numpy as np\n",
    "np.seterr(divide ='ignore', invalid='ignore');\n",
    "import collections\n",
    "collections.Iterable = collections.abc.Iterable"
   ]
  },
  {
   "cell_type": "code",
   "execution_count": null,
   "id": "f8f7376b-a6a3-4c8a-abe2-04956fa6f66b",
   "metadata": {},
   "outputs": [],
   "source": [
    "from bmcs_shear.dic_crack import sz_tests_series_2023 as ts"
   ]
  },
  {
   "cell_type": "code",
   "execution_count": null,
   "id": "d727c209-022f-4a24-a46b-d4508a3280c0",
   "metadata": {},
   "outputs": [],
   "source": [
    "dcl = ts.new_dcl(ts.B10_TV1)"
   ]
  },
  {
   "cell_type": "code",
   "execution_count": null,
   "id": "d47f81e4-f370-450d-83c1-c9331662f540",
   "metadata": {},
   "outputs": [],
   "source": [
    "np.min(dcl.dsf.dic_grid.X_IJa[...,0])"
   ]
  },
  {
   "cell_type": "code",
   "execution_count": null,
   "id": "0f6dccb3-1263-4d07-9a61-449738023ce3",
   "metadata": {},
   "outputs": [],
   "source": [
    "cor = dcl.cracks[2].cor\n",
    "X_tip_t_a = cor.dic_crack.X_crc_t_Ka[-1, :]\n"
   ]
  },
  {
   "cell_type": "code",
   "execution_count": null,
   "id": "7977b1e4-6f87-493b-9703-a364ce36d804",
   "metadata": {},
   "outputs": [],
   "source": [
    "for cr in dcl.cracks:\n",
    "    cr.cor.X1_0_a"
   ]
  },
  {
   "cell_type": "code",
   "execution_count": null,
   "id": "787147be-1390-4050-b100-0a56a5f6106f",
   "metadata": {},
   "outputs": [],
   "source": [
    "dcl.interact()"
   ]
  },
  {
   "cell_type": "code",
   "execution_count": null,
   "id": "90265046-dc4d-4905-888f-733bda47e1aa",
   "metadata": {
    "pycharm": {
     "name": "#%%\n"
    }
   },
   "outputs": [],
   "source": [
    "cor.dic_grid.sz_bd.L"
   ]
  },
  {
   "cell_type": "code",
   "execution_count": null,
   "id": "75db94b4-8a22-4270-96c2-a4ab8751173f",
   "metadata": {
    "pycharm": {
     "name": "#%%\n"
    }
   },
   "outputs": [],
   "source": []
  },
  {
   "cell_type": "code",
   "execution_count": null,
   "id": "a09fd27d-1598-4344-b4da-5a6235d8b31d",
   "metadata": {
    "pycharm": {
     "name": "#%%\n"
    }
   },
   "outputs": [],
   "source": [
    "n_C = len(dcl.items)\n",
    "M_phi_C_ = []\n",
    "for C in range(n_C):\n",
    "    print('crack', C)\n",
    "    cor = dcl.items[str(C)].cor\n",
    "    M_phi_list = []\n",
    "    for t in cor.dic_grid.t_dic_T:\n",
    "        cor.dic_grid.t = t\n",
    "        print('t', t)\n",
    "        M_phi_list.append([cor.M_t, cor.phi_t])\n",
    "    M_phi = np.array(M_phi_list)\n",
    "    M_phi_C_.append(M_phi)\n",
    "M_phi_C = np.array(M_phi_C_)"
   ]
  },
  {
   "cell_type": "code",
   "execution_count": null,
   "id": "590ebeff-a40a-4e3e-a984-b20920499b68",
   "metadata": {
    "pycharm": {
     "name": "#%%\n"
    }
   },
   "outputs": [],
   "source": [
    "M_phi_C.shape"
   ]
  },
  {
   "cell_type": "code",
   "execution_count": null,
   "id": "2ca016bc-2e96-404f-a336-81f4b506d969",
   "metadata": {
    "pycharm": {
     "name": "#%%\n"
    }
   },
   "outputs": [],
   "source": [
    "%matplotlib widget\n",
    "fig, ax = plt.subplots(1,1)\n",
    "ax.plot(M_phi[:,1], M_phi[:,0])"
   ]
  },
  {
   "cell_type": "code",
   "execution_count": null,
   "id": "c5c43a8c-6ffe-4573-8ad7-05527cd34348",
   "metadata": {
    "pycharm": {
     "name": "#%%\n"
    }
   },
   "outputs": [],
   "source": []
  }
 ],
 "metadata": {
  "kernelspec": {
   "display_name": "bmcs_env2",
   "language": "python",
   "name": "python3"
  },
  "language_info": {
   "codemirror_mode": {
    "name": "ipython",
    "version": 3
   },
   "file_extension": ".py",
   "mimetype": "text/x-python",
   "name": "python",
   "nbconvert_exporter": "python",
   "pygments_lexer": "ipython3"
  }
 },
 "nbformat": 4,
 "nbformat_minor": 5
}
