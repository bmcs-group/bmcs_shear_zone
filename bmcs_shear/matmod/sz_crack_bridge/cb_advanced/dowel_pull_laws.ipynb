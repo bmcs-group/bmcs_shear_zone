{
 "cells": [
  {
   "cell_type": "code",
   "execution_count": null,
   "id": "f838ce24",
   "metadata": {},
   "outputs": [],
   "source": [
    "import sympy as sp\n",
    "import numpy as np\n",
    "import matplotlib.pylab as plt\n",
    "sp.init_printing()"
   ]
  },
  {
   "cell_type": "code",
   "execution_count": null,
   "id": "7b671ce7",
   "metadata": {},
   "outputs": [],
   "source": [
    "w, f_c = sp.symbols(r'w, f_c', real=True)\n",
    "B = sp.symbols(r'B', nonnegative=True)\n",
    "n, d_s = sp.symbols(r'n, d_s', nonnegative=True)\n",
    "s = sp.Symbol('s', nonnegative = True)\n",
    "E = sp.Symbol(r'E', nonnegative=True)\n",
    "p, P = sp.symbols(r'p, P', nonnegative=True)\n",
    "tau = sp.symbols(r'tau', nonnegative=True)\n",
    "sig_y = sp.symbols('sigma_y', positive=True)\n",
    "A = sp.Symbol(r'A', nonnegative = True)"
   ]
  },
  {
   "cell_type": "code",
   "execution_count": null,
   "id": "66830ab3-779b-4594-99e8-fb5f7c737b25",
   "metadata": {},
   "outputs": [],
   "source": [
    "params = (B, d_s, n, f_c, tau, E, sig_y)\n",
    "(s,)+params"
   ]
  },
  {
   "cell_type": "code",
   "execution_count": null,
   "id": "7b996ce5",
   "metadata": {},
   "outputs": [],
   "source": [
    "param_values = dict(\n",
    "    B=250,\n",
    "    d_s=28,\n",
    "    n=2,\n",
    "    f_c=33.3,\n",
    "    tau=0.4,\n",
    "    E=210000,\n",
    "    sigma_y=713,\n",
    "    )"
   ]
  },
  {
   "cell_type": "code",
   "execution_count": null,
   "id": "aaee20b6",
   "metadata": {},
   "outputs": [],
   "source": [
    "p = sp.pi * d_s\n",
    "A = sp.pi * d_s ** 2 / 4\n",
    "A"
   ]
  },
  {
   "cell_type": "markdown",
   "id": "9be49ac3-f847-4ef4-b411-57f81d138684",
   "metadata": {},
   "source": [
    "## Crack bridging action"
   ]
  },
  {
   "cell_type": "markdown",
   "id": "66f8e055-ff2e-470d-a920-4ee5385252a6",
   "metadata": {},
   "source": [
    "Check if this is slip or opening actually, the value $s = w / 2$ should be used here."
   ]
  },
  {
   "cell_type": "code",
   "execution_count": null,
   "id": "af9f87f9",
   "metadata": {},
   "outputs": [],
   "source": [
    "Pw_cb = sp.sqrt(2 * w/2 * tau * E * A * p)\n",
    "P_max = A * sig_y\n",
    "w_argmax = sp.solve(P_max - Pw_cb, w)[0]\n",
    "w_argmax"
   ]
  },
  {
   "cell_type": "code",
   "execution_count": null,
   "id": "2ab89d6d",
   "metadata": {},
   "outputs": [],
   "source": [
    "Pw_cb_y = sp.Piecewise(\n",
    "    (Pw_cb, w < w_argmax),\n",
    "    (P_max, w >= w_argmax))"
   ]
  },
  {
   "cell_type": "code",
   "execution_count": null,
   "id": "fd3bcdaf",
   "metadata": {},
   "outputs": [],
   "source": [
    "Pw_cb_y"
   ]
  },
  {
   "cell_type": "code",
   "execution_count": null,
   "id": "b3a3b2b5",
   "metadata": {},
   "outputs": [],
   "source": [
    "get_Pw_cb_y = sp.lambdify((w,)+params+('**kw',), Pw_cb_y, 'numpy')"
   ]
  },
  {
   "cell_type": "code",
   "execution_count": null,
   "id": "438724b0",
   "metadata": {},
   "outputs": [],
   "source": [
    "_, (ax1) = plt.subplots(1, 1, figsize=(10,5))\n",
    "w_data = np.linspace(0, 0.5, 100)\n",
    "Pw_cb_y_val = get_Pw_cb_y(w_data, **param_values)\n",
    "ax1.plot(w_data, Pw_cb_y_val / 1000, color='blue', lw=2);"
   ]
  },
  {
   "cell_type": "markdown",
   "id": "526b289b-be95-4134-8137-78bb07c29533",
   "metadata": {},
   "source": [
    "## Dowel action"
   ]
  },
  {
   "cell_type": "code",
   "execution_count": null,
   "id": "4cf04217",
   "metadata": {},
   "outputs": [],
   "source": [
    "b_n = B - n * d_s\n",
    "V_cr = 1.64 * b_n * d_s * f_c ** sp.Rational(1,3)\n",
    "# V_cr = 1.35 * b_n * d_s * f_c ** sp.Rational(1,3)\n",
    "V_da_1 = V_cr * (s / 0.05) * (2 - (s / 0.05))\n",
    "V_da_2 = V_cr * ((2.55 - s) / 2.5)\n",
    "V_da = sp.Piecewise(\n",
    "        (V_da_1, s <= 0.05),\n",
    "        (V_da_2, s > 0.05))"
   ]
  },
  {
   "cell_type": "markdown",
   "id": "005ef0e1-b684-44ec-8077-7130e69a376e",
   "metadata": {},
   "source": [
    "### Verify the shape of the law"
   ]
  },
  {
   "cell_type": "code",
   "execution_count": null,
   "id": "6e57f257",
   "metadata": {},
   "outputs": [],
   "source": [
    "get_V_da_V_cr = sp.lambdify(s, sp.simplify(V_da / V_cr))\n",
    "fig, ax = plt.subplots(1,1)\n",
    "s_range = np.linspace(0, 0.15, 100)\n",
    "ax.plot(s_range, get_V_da_V_cr(s_range))"
   ]
  },
  {
   "cell_type": "code",
   "execution_count": null,
   "id": "dbfcd64d",
   "metadata": {},
   "outputs": [],
   "source": [
    "get_V_da_val = sp.lambdify((s,)+params+('**kw',), V_da, 'numpy')"
   ]
  },
  {
   "cell_type": "code",
   "execution_count": null,
   "id": "5b22e052",
   "metadata": {},
   "outputs": [],
   "source": [
    "_, (ax1) = plt.subplots(1, 1, figsize=(10,5))\n",
    "s_data = np.linspace(0, 1, 100)\n",
    "V_da_val = get_V_da_val(s_data, **param_values)\n",
    "ax1.plot(s_data, V_da_val / 1000, color='blue', lw=2);"
   ]
  },
  {
   "cell_type": "code",
   "execution_count": null,
   "id": "b924cd33",
   "metadata": {},
   "outputs": [],
   "source": []
  },
  {
   "cell_type": "code",
   "execution_count": null,
   "id": "0f17d249-c714-4ee9-b561-08a87ebc8d21",
   "metadata": {},
   "outputs": [],
   "source": []
  },
  {
   "cell_type": "code",
   "execution_count": null,
   "id": "7ccdfa00-f0c6-4f1d-a345-df7045cfcd53",
   "metadata": {},
   "outputs": [],
   "source": []
  },
  {
   "cell_type": "code",
   "execution_count": null,
   "id": "d37f6f5f-459f-4b33-8054-bf949b03d2d1",
   "metadata": {},
   "outputs": [],
   "source": []
  }
 ],
 "metadata": {
  "kernelspec": {
   "display_name": "bmcs_env",
   "language": "python",
   "name": "bmcs_env"
  },
  "language_info": {
   "codemirror_mode": {
    "name": "ipython",
    "version": 3
   },
   "file_extension": ".py",
   "mimetype": "text/x-python",
   "name": "python",
   "nbconvert_exporter": "python",
   "pygments_lexer": "ipython3"
  }
 },
 "nbformat": 4,
 "nbformat_minor": 5
}
