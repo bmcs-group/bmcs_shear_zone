{
 "cells": [
  {
   "cell_type": "code",
   "execution_count": 1,
   "id": "f838ce24",
   "metadata": {},
   "outputs": [],
   "source": [
    "import sympy as sp\n",
    "import numpy as np\n",
    "import matplotlib.pylab as plt"
   ]
  },
  {
   "cell_type": "code",
   "execution_count": 2,
   "id": "7b671ce7",
   "metadata": {},
   "outputs": [],
   "source": [
    "w, f_c = sp.symbols(r'w, f_c', real=True)\n",
    "B = sp.symbols(r'B', nonnegative=True)\n",
    "n, d_s = sp.symbols(r'n, d_s', nonnegative=True)\n",
    "s = sp.Symbol('s', nonnegative = True)\n",
    "E = sp.Symbol(r'E', nonnegative=True)\n",
    "p, P = sp.symbols(r'p, P', nonnegative=True)\n",
    "tau = sp.symbols(r'\\bar{\\tau}', nonnegative=True)\n",
    "sig_y = sp.symbols('\\sigma_y', positive=True)\n",
    "A = sp.Symbol(r'A', nonnegative = True)\n",
    "pi = sp.Symbol(r'\\pi', nonnegative=True)"
   ]
  },
  {
   "cell_type": "code",
   "execution_count": 3,
   "id": "aaee20b6",
   "metadata": {},
   "outputs": [
    {
     "data": {
      "text/latex": [
       "$\\displaystyle \\frac{\\pi d_{s}^{2}}{4}$"
      ],
      "text/plain": [
       "\\pi*d_s**2/4"
      ]
     },
     "execution_count": 3,
     "metadata": {},
     "output_type": "execute_result"
    }
   ],
   "source": [
    "p = pi * d_s\n",
    "A = pi * d_s ** 2 / 4\n",
    "A"
   ]
  },
  {
   "cell_type": "code",
   "execution_count": 4,
   "id": "af9f87f9",
   "metadata": {},
   "outputs": [
    {
     "data": {
      "text/latex": [
       "$\\displaystyle \\frac{\\sigma_{y}^{2} d_{s}}{8 E \\bar{\\tau}}$"
      ],
      "text/plain": [
       "\\sigma_y**2*d_s/(8*E*\\bar{\\tau})"
      ]
     },
     "execution_count": 4,
     "metadata": {},
     "output_type": "execute_result"
    }
   ],
   "source": [
    "Pw_pull = sp.sqrt(2 * w * tau * E * A * p)\n",
    "\n",
    "P_max = A * sig_y\n",
    "\n",
    "w_argmax = sp.solve(P_max - Pw_pull, w)[0]\n",
    "w_argmax"
   ]
  },
  {
   "cell_type": "code",
   "execution_count": 5,
   "id": "2ab89d6d",
   "metadata": {},
   "outputs": [],
   "source": [
    "Pw_pull_y = sp.Piecewise(\n",
    "    (Pw_pull, w < w_argmax),\n",
    "    (P_max, w >= w_argmax))"
   ]
  },
  {
   "cell_type": "code",
   "execution_count": 6,
   "id": "fd3bcdaf",
   "metadata": {},
   "outputs": [
    {
     "data": {
      "text/latex": [
       "$\\displaystyle \\begin{cases} \\frac{\\sqrt{2} \\sqrt{E} \\sqrt{\\bar{\\tau}} \\pi d_{s}^{\\frac{3}{2}} \\sqrt{w}}{2} & \\text{for}\\: w < \\frac{\\sigma_{y}^{2} d_{s}}{8 E \\bar{\\tau}} \\\\\\frac{\\pi \\sigma_{y} d_{s}^{2}}{4} & \\text{otherwise} \\end{cases}$"
      ],
      "text/plain": [
       "Piecewise((sqrt(2)*sqrt(E)*sqrt(\\bar{\\tau})*\\pi*d_s**(3/2)*sqrt(w)/2, w < \\sigma_y**2*d_s/(8*E*\\bar{\\tau})), (\\pi*\\sigma_y*d_s**2/4, True))"
      ]
     },
     "execution_count": 6,
     "metadata": {},
     "output_type": "execute_result"
    }
   ],
   "source": [
    "Pw_pull_y"
   ]
  },
  {
   "cell_type": "code",
   "execution_count": 7,
   "id": "a3dd0769",
   "metadata": {},
   "outputs": [],
   "source": [
    "b_n = B - n * d_s"
   ]
  },
  {
   "cell_type": "code",
   "execution_count": 8,
   "id": "4cf04217",
   "metadata": {},
   "outputs": [],
   "source": [
    "V_d_max = 1.64 * b_n * d_s * f_c ** (1 / 3)\n",
    "\n",
    "V_da_1 = V_d_max * (s / 0.05) * (2 - (s / 0.05))\n",
    "\n",
    "V_da_2 = V_d_max * ((2.55 - s) / 2.5)"
   ]
  },
  {
   "cell_type": "code",
   "execution_count": 9,
   "id": "1731ab0f",
   "metadata": {},
   "outputs": [],
   "source": [
    "V_da = sp.Piecewise(\n",
    "        (V_da_1, s <= 0.05),\n",
    "        (V_da_2, s > 0.05))"
   ]
  },
  {
   "cell_type": "code",
   "execution_count": 10,
   "id": "6e57f257",
   "metadata": {},
   "outputs": [
    {
     "data": {
      "text/latex": [
       "$\\displaystyle \\begin{cases} 20.0 d_{s} f_{c}^{0.333333333333333} s \\left(2 - 20.0 s\\right) \\left(1.64 B - 1.64 d_{s} n\\right) & \\text{for}\\: s \\leq 0.05 \\\\d_{s} f_{c}^{0.333333333333333} \\cdot \\left(1.02 - 0.4 s\\right) \\left(1.64 B - 1.64 d_{s} n\\right) & \\text{otherwise} \\end{cases}$"
      ],
      "text/plain": [
       "Piecewise((20.0*d_s*f_c**0.333333333333333*s*(2 - 20.0*s)*(1.64*B - 1.64*d_s*n), s <= 0.05), (d_s*f_c**0.333333333333333*(1.02 - 0.4*s)*(1.64*B - 1.64*d_s*n), True))"
      ]
     },
     "execution_count": 10,
     "metadata": {},
     "output_type": "execute_result"
    }
   ],
   "source": [
    "V_da"
   ]
  },
  {
   "cell_type": "code",
   "execution_count": 11,
   "id": "7b996ce5",
   "metadata": {},
   "outputs": [],
   "source": [
    "params = {\n",
    "    B : 250,\n",
    "    d_s : 28,\n",
    "    n : 2,\n",
    "    f_c : 33.3,\n",
    "    tau : 0.4,\n",
    "    E : 210000,\n",
    "    sig_y : 713,\n",
    "    pi : 3.14\n",
    "    \n",
    "}"
   ]
  },
  {
   "cell_type": "code",
   "execution_count": 12,
   "id": "b3a3b2b5",
   "metadata": {},
   "outputs": [
    {
     "data": {
      "text/latex": [
       "$\\displaystyle \\begin{cases} 38923.8432634805 \\sqrt{6} \\sqrt{w} & \\text{for}\\: w < 21.1820416666667 \\\\438808.72 & \\text{otherwise} \\end{cases}$"
      ],
      "text/plain": [
       "Piecewise((38923.8432634805*sqrt(6)*sqrt(w), w < 21.1820416666667), (438808.72, True))"
      ]
     },
     "execution_count": 12,
     "metadata": {},
     "output_type": "execute_result"
    }
   ],
   "source": [
    "get_Pw_pull_y = sp.lambdify(w, Pw_pull_y.subs(params), 'numpy')\n",
    "Pw_pull_y.subs(params)"
   ]
  },
  {
   "cell_type": "code",
   "execution_count": 13,
   "id": "dbfcd64d",
   "metadata": {},
   "outputs": [
    {
     "data": {
      "text/latex": [
       "$\\displaystyle \\begin{cases} 573211.66016519 s \\left(2 - 20.0 s\\right) & \\text{for}\\: s \\leq 0.05 \\\\29233.7946684247 - 11464.2332033038 s & \\text{otherwise} \\end{cases}$"
      ],
      "text/plain": [
       "Piecewise((573211.66016519*s*(2 - 20.0*s), s <= 0.05), (29233.7946684247 - 11464.2332033038*s, True))"
      ]
     },
     "execution_count": 13,
     "metadata": {},
     "output_type": "execute_result"
    }
   ],
   "source": [
    "get_V_da_val = sp.lambdify(s, V_da.subs(params), 'numpy')\n",
    "V_da.subs(params)"
   ]
  },
  {
   "cell_type": "code",
   "execution_count": 18,
   "id": "5b22e052",
   "metadata": {},
   "outputs": [
    {
     "data": {
      "image/png": "[encoded data removed]",
      "text/plain": [
       "<Figure size 720x360 with 1 Axes>"
      ]
     },
     "metadata": {
      "needs_background": "light"
     },
     "output_type": "display_data"
    }
   ],
   "source": [
    "_, (ax1) = plt.subplots(1, 1, figsize=(10,5))\n",
    "s_data = np.linspace(0, 1, 100)\n",
    "V_da_val = get_V_da_val(s_data)\n",
    "ax1.plot(s_data, V_da_val / 1000, color='blue', lw=2);"
   ]
  },
  {
   "cell_type": "code",
   "execution_count": 17,
   "id": "438724b0",
   "metadata": {},
   "outputs": [
    {
     "data": {
      "image/png": "[encoded data removed]",
      "text/plain": [
       "<Figure size 720x360 with 1 Axes>"
      ]
     },
     "metadata": {
      "needs_background": "light"
     },
     "output_type": "display_data"
    }
   ],
   "source": [
    "_, (ax1) = plt.subplots(1, 1, figsize=(10,5))\n",
    "w_data = np.linspace(0, 1, 100)\n",
    "Pw_pull_y_val = get_Pw_pull_y(w_data)\n",
    "ax1.plot(w_data, Pw_pull_y_val / 1000, color='blue', lw=2);"
   ]
  },
  {
   "cell_type": "code",
   "execution_count": null,
   "id": "b924cd33",
   "metadata": {},
   "outputs": [],
   "source": []
  }
 ],
 "metadata": {
  "kernelspec": {
   "display_name": "bmcs_env",
   "language": "python",
   "name": "bmcs_env"
  },
  "language_info": {
   "codemirror_mode": {
    "name": "ipython",
    "version": 3
   },
   "file_extension": ".py",
   "mimetype": "text/x-python",
   "name": "python",
   "nbconvert_exporter": "python",
   "pygments_lexer": "ipython3",
   "version": "3.9.7"
  }
 },
 "nbformat": 4,
 "nbformat_minor": 5
}
