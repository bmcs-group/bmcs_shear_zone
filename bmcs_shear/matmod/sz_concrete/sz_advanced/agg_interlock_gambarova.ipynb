{
 "cells": [
  {
   "cell_type": "code",
   "execution_count": null,
   "id": "59636a39",
   "metadata": {},
   "outputs": [],
   "source": [
    "%matplotlib widget\n",
    "import sympy as sp\n",
    "import numpy as np\n",
    "import matplotlib.pylab as plt"
   ]
  },
  {
   "cell_type": "code",
   "execution_count": null,
   "id": "57e2fd74",
   "metadata": {},
   "outputs": [],
   "source": [
    "w = sp.Symbol(r'w', real=True)\n",
    "s = sp.Symbol(r's', real = True)\n",
    "d_a, E_c = sp.symbols(r'd_a, E_c', nonnegative=True)\n",
    "f_t = sp.symbols(r'f_t', nonnegative=True)\n",
    "c_2 = sp.Symbol('c_2', nonnegative=True)\n",
    "c_1 = sp.Symbol('c_1', nonnegative=True)\n",
    "f_c = sp.Symbol('f_c', nonnegative =True)\n",
    "# a_3, a_4, r = f_c = sp.symbols('a_3, a_4, r', nonnegative =True)\n",
    "# tau_0 = sp.Symbol(r'\\tau_0', nonnegative =True)"
   ]
  },
  {
   "cell_type": "code",
   "execution_count": null,
   "id": "50088dfe",
   "metadata": {},
   "outputs": [],
   "source": [
    "G_f = 0.028 * f_c ** 0.18 * d_a ** 0.32\n",
    "\n",
    "L_cr = E_c * G_f / f_t ** 2\n",
    "\n",
    "w_cr = f_t / E_c * L_cr\n",
    "\n",
    "f_w = f_t * sp.exp(-f_t * w / G_f)\n",
    "\n",
    "w_x = 5.14 * (G_f / f_t)\n",
    "\n",
    "\n",
    "r = s / w\n",
    "\n",
    "tau_0 = 0.3 * f_c\n",
    "\n",
    "a_3 = 2.45 / tau_0\n",
    "\n",
    "a_4 = 2.44 * (1 - (4 / tau_0))"
   ]
  },
  {
   "cell_type": "code",
   "execution_count": null,
   "id": "6cf8a1de",
   "metadata": {},
   "outputs": [],
   "source": [
    "tau_s = sp.Piecewise(\n",
    "        (0, w <= 0),\n",
    "        (tau_0 * (1 - sp.sqrt((2 * w) / d_a)) * r * (a_3 + (a_4 * np.abs(r) ** 3)) / (1 + (a_4 * r ** 4)), w > 0)\n",
    "\n",
    "    )\n",
    "tau_s"
   ]
  },
  {
   "cell_type": "code",
   "execution_count": null,
   "id": "90daad90",
   "metadata": {},
   "outputs": [],
   "source": [
    "sigma_ag = sp.Piecewise(\n",
    "        (0, w <= 0),\n",
    "        (-0.62 * tau_s * (s) / (w**2 + r ** 2) ** 0.25, w > 0)\n",
    "    )\n",
    "sigma_ag"
   ]
  },
  {
   "cell_type": "code",
   "execution_count": null,
   "id": "36de1fc9",
   "metadata": {},
   "outputs": [],
   "source": [
    "sig_w = sp.Piecewise(\n",
    "        (-f_c, w / L_cr <= - f_c / E_c),\n",
    "        (E_c * w / L_cr, w <= w_cr),\n",
    "#        (f_w, w <= w_x),\n",
    "        (-sigma_ag, True)\n",
    "    )"
   ]
  },
  {
   "cell_type": "code",
   "execution_count": null,
   "id": "7ed70fbc",
   "metadata": {},
   "outputs": [],
   "source": [
    "sig_w"
   ]
  },
  {
   "cell_type": "code",
   "execution_count": null,
   "id": "3b8225dc",
   "metadata": {},
   "outputs": [],
   "source": [
    "params = {\n",
    "    d_a : 22,\n",
    "    E_c : 28000,\n",
    "    f_t : 3,\n",
    "    c_2 : 6,\n",
    "    c_1 : 3,\n",
    "    f_c : 30\n",
    "}"
   ]
  },
  {
   "cell_type": "code",
   "execution_count": null,
   "id": "8aee3a7e",
   "metadata": {},
   "outputs": [],
   "source": [
    "get_sig_w = sp.lambdify((w,s), sig_w.subs(params), 'numpy')\n",
    "sig_w.subs(params)"
   ]
  },
  {
   "cell_type": "code",
   "execution_count": null,
   "id": "70e46dde",
   "metadata": {},
   "outputs": [],
   "source": [
    "get_tau_s = sp.lambdify((w,s), tau_s.subs(params), 'numpy')\n",
    "tau_s.subs(params)"
   ]
  },
  {
   "cell_type": "code",
   "execution_count": null,
   "id": "75ee4fed",
   "metadata": {},
   "outputs": [],
   "source": [
    "get_sig_ag = sp.lambdify((w,s), sigma_ag.subs(params), 'numpy')\n",
    "sigma_ag.subs(params)"
   ]
  },
  {
   "cell_type": "code",
   "execution_count": null,
   "id": "8dbfdfd9",
   "metadata": {},
   "outputs": [],
   "source": [
    "_, (ax1) = plt.subplots(1, 1, figsize=(10,5))\n",
    "w_ = 0.1\n",
    "s_data = np.linspace(0 , 1.5, 100)\n",
    "sig_ag = get_sig_ag(w_, s_data)\n",
    "ax1.plot(s_data, sig_ag, color='blue', lw=2);"
   ]
  },
  {
   "cell_type": "code",
   "execution_count": null,
   "id": "04cc8676",
   "metadata": {},
   "outputs": [],
   "source": [
    "_, (ax1) = plt.subplots(1, 1, figsize=(10,5))\n",
    "w_ = 2\n",
    "s_data = np.linspace(0 , 2, 100)\n",
    "#w_data = np.linspace(0, 3, 100)\n",
    "tau_s_val = get_tau_s(w_, s_data)\n",
    "#tau_s_val = get_tau_s(w_data, 2)\n",
    "ax1.plot(s_data, tau_s_val, color='blue', lw=2);\n",
    "plt.show()"
   ]
  },
  {
   "cell_type": "code",
   "execution_count": null,
   "id": "3cddf1c5",
   "metadata": {},
   "outputs": [],
   "source": [
    "_, (ax1) = plt.subplots(1, 1, figsize=(10,5))\n",
    "w_ = np.linspace(-1,1, 100)\n",
    "s_data = np.linspace(-1 , 1, 100)\n",
    "sig = get_sig_w(w_, s_data)\n",
    "ax1.plot(w_, sig, color='blue', lw=2);"
   ]
  },
  {
   "cell_type": "code",
   "execution_count": null,
   "id": "e7f9f6d9",
   "metadata": {},
   "outputs": [],
   "source": [
    "%matplotlib widget\n",
    "fig = plt.figure()\n",
    "ax3d = fig.add_subplot(1, 1, 1, projection='3d')\n",
    "w_min = 1e-9  # -1\n",
    "w_max = 3\n",
    "w_data = np.linspace(w_min, w_max, 100)\n",
    "s_max = 3\n",
    "s_data = np.linspace(-1.1 * s_max, 1.1 * s_max, 100)  # -1.1\n",
    "s_, w_ = np.meshgrid(s_data, w_data)\n",
    "tau_s = get_tau_s(w_, s_)\n",
    "ax3d.plot_surface(w_, s_, tau_s, cmap='viridis', edgecolor='none')\n",
    "ax3d.set_xlabel(r'$w\\;\\;\\mathrm{[mm]}$', fontsize=12)\n",
    "ax3d.set_ylabel(r'$s\\;\\;\\mathrm{[mm]}$', fontsize=12)\n",
    "ax3d.set_zlabel(r'$\\tau\\;\\;\\mathrm{[MPa]}$', fontsize=12)\n",
    "ax3d.set_title('aggregate interlock law', fontsize=12)\n"
   ]
  },
  {
   "cell_type": "code",
   "execution_count": null,
   "id": "d205229a-c716-4d6e-b04a-b77b8111e66c",
   "metadata": {},
   "outputs": [],
   "source": []
  },
  {
   "cell_type": "code",
   "execution_count": null,
   "id": "982e2b71",
   "metadata": {},
   "outputs": [],
   "source": [
    "%matplotlib widget\n",
    "fig, ax = plt.subplots(1,1)\n",
    "w_data = np.linspace(0.1, 1, 10)\n",
    "s_data = np.linspace(0, 2.5, 100)  # -1.1\n",
    "for w_ in w_data:\n",
    "    tau_s = get_tau_s(w_, s_data)\n",
    "    ax.plot(s_data, tau_s, color='blue', label='w = {}'.format(w_))\n"
   ]
  },
  {
   "cell_type": "code",
   "execution_count": null,
   "id": "9e52090a-4fc8-4f1e-bcf2-039d8349c208",
   "metadata": {},
   "outputs": [],
   "source": [
    "%matplotlib widget\n",
    "fig = plt.figure()\n",
    "ax3d = fig.add_subplot(1, 1, 1, projection='3d')\n",
    "w_min = 1e-9  # -1\n",
    "w_max = 3\n",
    "w_data = np.linspace(w_min, w_max, 100)\n",
    "s_max = 6\n",
    "s_data = np.linspace(-1.1 * s_max, 1.1 * s_max, 100)  # -1.1\n",
    "s_, w_ = np.meshgrid(s_data, w_data)\n",
    "tau_s = get_sig_w(w_, s_)\n",
    "ax3d.plot_surface(w_, s_, tau_s, cmap='viridis', edgecolor='none')\n",
    "ax3d.set_xlabel(r'$w\\;\\;\\mathrm{[mm]}$', fontsize=12)\n",
    "ax3d.set_ylabel(r'$s\\;\\;\\mathrm{[mm]}$', fontsize=12)\n",
    "ax3d.set_zlabel(r'$\\tau\\;\\;\\mathrm{[MPa]}$', fontsize=12)\n",
    "ax3d.set_title('aggregate interlock law', fontsize=12)\n"
   ]
  },
  {
   "cell_type": "code",
   "execution_count": null,
   "id": "550de53e",
   "metadata": {},
   "outputs": [],
   "source": [
    "%matplotlib widget\n",
    "fig, ax = plt.subplots(1,1)\n",
    "w_data = np.linspace(0.1, 1, 300)\n",
    "s_data = np.linspace(0, 2.5, 300)  # -1.1\n",
    "for w_ in w_data:\n",
    "    tau_s = get_sig_w(w_data, 3)\n",
    "    ax.plot(w_data, tau_s, color='blue', label='w = {}'.format(w_))\n"
   ]
  },
  {
   "cell_type": "code",
   "execution_count": null,
   "id": "d35e7fcf",
   "metadata": {},
   "outputs": [],
   "source": []
  },
  {
   "cell_type": "code",
   "execution_count": null,
   "id": "c36ebd02",
   "metadata": {},
   "outputs": [],
   "source": []
  },
  {
   "cell_type": "code",
   "execution_count": null,
   "id": "30a81f0a-66ad-412c-8626-b0943a131f91",
   "metadata": {},
   "outputs": [],
   "source": []
  },
  {
   "cell_type": "code",
   "execution_count": null,
   "id": "86f17298-51ad-4836-9ea5-178f8ab13a13",
   "metadata": {},
   "outputs": [],
   "source": []
  }
 ],
 "metadata": {
  "kernelspec": {
   "display_name": "bmcs_env2",
   "language": "python",
   "name": "bmcs_env2"
  },
  "language_info": {
   "codemirror_mode": {
    "name": "ipython",
    "version": 3
   },
   "file_extension": ".py",
   "mimetype": "text/x-python",
   "name": "python",
   "nbconvert_exporter": "python",
   "pygments_lexer": "ipython3"
  }
 },
 "nbformat": 4,
 "nbformat_minor": 5
}
