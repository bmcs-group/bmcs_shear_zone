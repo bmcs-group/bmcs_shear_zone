{
 "cells": [
  {
   "cell_type": "code",
   "execution_count": 16,
   "id": "59636a39",
   "metadata": {},
   "outputs": [],
   "source": [
    "import sympy as sp\n",
    "import numpy as np\n",
    "import matplotlib.pylab as plt"
   ]
  },
  {
   "cell_type": "code",
   "execution_count": 17,
   "id": "57e2fd74",
   "metadata": {},
   "outputs": [],
   "source": [
    "w = sp.Symbol(r'w', real=True)\n",
    "s = sp.Symbol(r's', real = True)\n",
    "d_a, E_c = sp.symbols(r'd_a, E_c', nonnegative=True)\n",
    "f_t = sp.symbols(r'f_t', nonnegative=True)\n",
    "c_2 = sp.Symbol('c_2', nonnegative=True)\n",
    "c_1 = sp.Symbol('c_1', nonnegative=True)\n",
    "f_c = sp.Symbol('f_c', nonnegative =True)\n",
    "# a_3, a_4, r = f_c = sp.symbols('a_3, a_4, r', nonnegative =True)\n",
    "# tau_0 = sp.Symbol(r'\\tau_0', nonnegative =True)"
   ]
  },
  {
   "cell_type": "code",
   "execution_count": 18,
   "id": "50088dfe",
   "metadata": {},
   "outputs": [],
   "source": [
    "G_f = 0.028 * f_c ** 0.18 * d_a ** 0.32\n",
    "\n",
    "L_cr = E_c * G_f / f_t ** 2\n",
    "\n",
    "w_cr = f_t / E_c * L_cr\n",
    "\n",
    "f_w = f_t * sp.exp(-f_t * w / G_f)\n",
    "\n",
    "w_x = 5.14 * (G_f / f_t)\n",
    "\n",
    "\n",
    "r = s / w\n",
    "\n",
    "tau_0 = 0.3 * f_c\n",
    "\n",
    "a_3 = 2.45 / tau_0\n",
    "\n",
    "a_4 = 2.44 * (1 - (4 / tau_0))"
   ]
  },
  {
   "cell_type": "code",
   "execution_count": 19,
   "id": "6cf8a1de",
   "metadata": {},
   "outputs": [
    {
     "data": {
      "text/latex": [
       "$\\displaystyle \\begin{cases} 0 & \\text{for}\\: w \\leq 0 \\\\\\frac{0.3 f_{c} s \\left(- \\sqrt{2} \\sqrt{\\frac{w}{d_{a}}} + 1\\right) \\left(\\left(2.44 - \\frac{32.5333333333333}{f_{c}}\\right) \\left|{\\frac{s}{w}}\\right|^{3} + \\frac{8.16666666666667}{f_{c}}\\right)}{w \\left(\\frac{s^{4} \\cdot \\left(2.44 - \\frac{32.5333333333333}{f_{c}}\\right)}{w^{4}} + 1\\right)} & \\text{otherwise} \\end{cases}$"
      ],
      "text/plain": [
       "Piecewise((0, w <= 0), (0.3*f_c*s*(-sqrt(2)*sqrt(w/d_a) + 1)*((2.44 - 32.5333333333333/f_c)*Abs(s/w)**3 + 8.16666666666667/f_c)/(w*(s**4*(2.44 - 32.5333333333333/f_c)/w**4 + 1)), True))"
      ]
     },
     "execution_count": 19,
     "metadata": {},
     "output_type": "execute_result"
    }
   ],
   "source": [
    "tau_s = sp.Piecewise(\n",
    "        (0, w <= 0),\n",
    "        (tau_0 * (1 - sp.sqrt((2 * w) / d_a)) * r * (a_3 + (a_4 * np.abs(r) ** 3)) / (1 + (a_4 * r ** 4)), w > 0)\n",
    "\n",
    "    )\n",
    "tau_s"
   ]
  },
  {
   "cell_type": "code",
   "execution_count": 20,
   "id": "90daad90",
   "metadata": {},
   "outputs": [
    {
     "data": {
      "text/latex": [
       "$\\displaystyle \\begin{cases} 0 & \\text{for}\\: w \\leq 0 \\\\- \\frac{0.62 s \\left(\\begin{cases} 0 & \\text{for}\\: w \\leq 0 \\\\\\frac{0.3 f_{c} s \\left(- \\sqrt{2} \\sqrt{\\frac{w}{d_{a}}} + 1\\right) \\left(\\left(2.44 - \\frac{32.5333333333333}{f_{c}}\\right) \\left|{\\frac{s}{w}}\\right|^{3} + \\frac{8.16666666666667}{f_{c}}\\right)}{w \\left(\\frac{s^{4} \\cdot \\left(2.44 - \\frac{32.5333333333333}{f_{c}}\\right)}{w^{4}} + 1\\right)} & \\text{otherwise} \\end{cases}\\right)}{\\left(\\frac{s^{2}}{w^{2}} + w^{2}\\right)^{0.25}} & \\text{otherwise} \\end{cases}$"
      ],
      "text/plain": [
       "Piecewise((0, w <= 0), (-0.62*s*Piecewise((0, w <= 0), (0.3*f_c*s*(-sqrt(2)*sqrt(w/d_a) + 1)*((2.44 - 32.5333333333333/f_c)*Abs(s/w)**3 + 8.16666666666667/f_c)/(w*(s**4*(2.44 - 32.5333333333333/f_c)/w**4 + 1)), True))/(s**2/w**2 + w**2)**0.25, True))"
      ]
     },
     "execution_count": 20,
     "metadata": {},
     "output_type": "execute_result"
    }
   ],
   "source": [
    "sigma_ag = sp.Piecewise(\n",
    "        (0, w <= 0),\n",
    "        (-0.62 * tau_s * (s) / (w**2 + r ** 2) ** 0.25, w > 0)\n",
    "    )\n",
    "sigma_ag"
   ]
  },
  {
   "cell_type": "code",
   "execution_count": 21,
   "id": "36de1fc9",
   "metadata": {},
   "outputs": [],
   "source": [
    "sig_w = sp.Piecewise(\n",
    "        (-f_c, w / L_cr <= - f_c / E_c),\n",
    "        (E_c * w / L_cr, w <= w_cr),\n",
    "        (f_w, w <= w_x),\n",
    "        (sigma_ag, True)\n",
    "    )"
   ]
  },
  {
   "cell_type": "code",
   "execution_count": 22,
   "id": "7ed70fbc",
   "metadata": {},
   "outputs": [
    {
     "data": {
      "text/latex": [
       "$\\displaystyle \\begin{cases} - f_{c} & \\text{for}\\: \\frac{f_{c}}{E_{c}} \\leq - \\frac{35.7142857142857 f_{t}^{2} w}{E_{c} d_{a}^{0.32} f_{c}^{0.18}} \\\\\\frac{35.7142857142857 f_{t}^{2} w}{d_{a}^{0.32} f_{c}^{0.18}} & \\text{for}\\: w \\leq \\frac{0.028 d_{a}^{0.32} f_{c}^{0.18}}{f_{t}} \\\\f_{t} e^{- \\frac{35.7142857142857 f_{t} w}{d_{a}^{0.32} f_{c}^{0.18}}} & \\text{for}\\: w \\leq \\frac{0.14392 d_{a}^{0.32} f_{c}^{0.18}}{f_{t}} \\\\\\begin{cases} 0 & \\text{for}\\: w \\leq 0 \\\\- \\frac{0.62 s \\left(\\begin{cases} 0 & \\text{for}\\: w \\leq 0 \\\\\\frac{0.3 f_{c} s \\left(- \\sqrt{2} \\sqrt{\\frac{w}{d_{a}}} + 1\\right) \\left(\\left(2.44 - \\frac{32.5333333333333}{f_{c}}\\right) \\left|{\\frac{s}{w}}\\right|^{3} + \\frac{8.16666666666667}{f_{c}}\\right)}{w \\left(\\frac{s^{4} \\cdot \\left(2.44 - \\frac{32.5333333333333}{f_{c}}\\right)}{w^{4}} + 1\\right)} & \\text{otherwise} \\end{cases}\\right)}{\\left(\\frac{s^{2}}{w^{2}} + w^{2}\\right)^{0.25}} & \\text{otherwise} \\end{cases} & \\text{otherwise} \\end{cases}$"
      ],
      "text/plain": [
       "Piecewise((-f_c, f_c/E_c <= -35.7142857142857*f_t**2*w/(E_c*d_a**0.32*f_c**0.18)), (35.7142857142857*f_t**2*w/(d_a**0.32*f_c**0.18), w <= 0.028*d_a**0.32*f_c**0.18/f_t), (f_t*exp(-35.7142857142857*f_t*w/(d_a**0.32*f_c**0.18)), w <= 0.14392*d_a**0.32*f_c**0.18/f_t), (Piecewise((0, w <= 0), (-0.62*s*Piecewise((0, w <= 0), (0.3*f_c*s*(-sqrt(2)*sqrt(w/d_a) + 1)*((2.44 - 32.5333333333333/f_c)*Abs(s/w)**3 + 8.16666666666667/f_c)/(w*(s**4*(2.44 - 32.5333333333333/f_c)/w**4 + 1)), True))/(s**2/w**2 + w**2)**0.25, True)), True))"
      ]
     },
     "execution_count": 22,
     "metadata": {},
     "output_type": "execute_result"
    }
   ],
   "source": [
    "sig_w"
   ]
  },
  {
   "cell_type": "code",
   "execution_count": 23,
   "id": "3b8225dc",
   "metadata": {},
   "outputs": [],
   "source": [
    "params = {\n",
    "    d_a : 22,\n",
    "    E_c : 28000,\n",
    "    f_t : 3,\n",
    "    c_2 : 6,\n",
    "    c_1 : 3,\n",
    "    f_c : 30\n",
    "}"
   ]
  },
  {
   "cell_type": "code",
   "execution_count": 24,
   "id": "8aee3a7e",
   "metadata": {},
   "outputs": [
    {
     "data": {
      "text/latex": [
       "$\\displaystyle \\begin{cases} -30 & \\text{for}\\: 64.8078172314006 w \\leq -30 \\\\64.8078172314006 w & \\text{for}\\: w \\leq 0.0462907119566811 \\\\3 e^{- 21.6026057438002 w} & \\text{for}\\: w \\leq 0.237934259457341 \\\\\\begin{cases} 0 & \\text{for}\\: w \\leq 0 \\\\- \\frac{0.62 s \\left(\\begin{cases} 0 & \\text{for}\\: w \\leq 0 \\\\\\frac{9.0 s \\left(- \\frac{\\sqrt{11} \\sqrt{w}}{11} + 1\\right) \\left(1.35555555555556 \\left|{\\frac{s}{w}}\\right|^{3} + 0.272222222222222\\right)}{w \\left(\\frac{1.35555555555556 s^{4}}{w^{4}} + 1\\right)} & \\text{otherwise} \\end{cases}\\right)}{\\left(\\frac{s^{2}}{w^{2}} + w^{2}\\right)^{0.25}} & \\text{otherwise} \\end{cases} & \\text{otherwise} \\end{cases}$"
      ],
      "text/plain": [
       "Piecewise((-30, 64.8078172314006*w <= -30), (64.8078172314006*w, w <= 0.0462907119566811), (3*exp(-21.6026057438002*w), w <= 0.237934259457341), (Piecewise((0, w <= 0), (-0.62*s*Piecewise((0, w <= 0), (9.0*s*(-sqrt(11)*sqrt(w)/11 + 1)*(1.35555555555556*Abs(s/w)**3 + 0.272222222222222)/(w*(1.35555555555556*s**4/w**4 + 1)), True))/(s**2/w**2 + w**2)**0.25, True)), True))"
      ]
     },
     "execution_count": 24,
     "metadata": {},
     "output_type": "execute_result"
    }
   ],
   "source": [
    "get_sig_w = sp.lambdify((w,s), sig_w.subs(params), 'numpy')\n",
    "sig_w.subs(params)"
   ]
  },
  {
   "cell_type": "code",
   "execution_count": 25,
   "id": "70e46dde",
   "metadata": {},
   "outputs": [
    {
     "data": {
      "text/latex": [
       "$\\displaystyle \\begin{cases} 0 & \\text{for}\\: w \\leq 0 \\\\\\frac{9.0 s \\left(- \\frac{\\sqrt{11} \\sqrt{w}}{11} + 1\\right) \\left(1.35555555555556 \\left|{\\frac{s}{w}}\\right|^{3} + 0.272222222222222\\right)}{w \\left(\\frac{1.35555555555556 s^{4}}{w^{4}} + 1\\right)} & \\text{otherwise} \\end{cases}$"
      ],
      "text/plain": [
       "Piecewise((0, w <= 0), (9.0*s*(-sqrt(11)*sqrt(w)/11 + 1)*(1.35555555555556*Abs(s/w)**3 + 0.272222222222222)/(w*(1.35555555555556*s**4/w**4 + 1)), True))"
      ]
     },
     "execution_count": 25,
     "metadata": {},
     "output_type": "execute_result"
    }
   ],
   "source": [
    "get_tau_s = sp.lambdify((w,s), tau_s.subs(params), 'numpy')\n",
    "tau_s.subs(params)"
   ]
  },
  {
   "cell_type": "code",
   "execution_count": 26,
   "id": "75ee4fed",
   "metadata": {},
   "outputs": [
    {
     "data": {
      "text/latex": [
       "$\\displaystyle \\begin{cases} 0 & \\text{for}\\: w \\leq 0 \\\\- \\frac{0.62 s \\left(\\begin{cases} 0 & \\text{for}\\: w \\leq 0 \\\\\\frac{9.0 s \\left(- \\frac{\\sqrt{11} \\sqrt{w}}{11} + 1\\right) \\left(1.35555555555556 \\left|{\\frac{s}{w}}\\right|^{3} + 0.272222222222222\\right)}{w \\left(\\frac{1.35555555555556 s^{4}}{w^{4}} + 1\\right)} & \\text{otherwise} \\end{cases}\\right)}{\\left(\\frac{s^{2}}{w^{2}} + w^{2}\\right)^{0.25}} & \\text{otherwise} \\end{cases}$"
      ],
      "text/plain": [
       "Piecewise((0, w <= 0), (-0.62*s*Piecewise((0, w <= 0), (9.0*s*(-sqrt(11)*sqrt(w)/11 + 1)*(1.35555555555556*Abs(s/w)**3 + 0.272222222222222)/(w*(1.35555555555556*s**4/w**4 + 1)), True))/(s**2/w**2 + w**2)**0.25, True))"
      ]
     },
     "execution_count": 26,
     "metadata": {},
     "output_type": "execute_result"
    }
   ],
   "source": [
    "get_sig_ag = sp.lambdify((w,s), sigma_ag.subs(params), 'numpy')\n",
    "sigma_ag.subs(params)"
   ]
  },
  {
   "cell_type": "code",
   "execution_count": 27,
   "id": "8dbfdfd9",
   "metadata": {},
   "outputs": [
    {
     "data": {
      "image/png": "[encoded data removed]",
      "text/plain": [
       "<Figure size 720x360 with 1 Axes>"
      ]
     },
     "metadata": {
      "needs_background": "light"
     },
     "output_type": "display_data"
    }
   ],
   "source": [
    "_, (ax1) = plt.subplots(1, 1, figsize=(10,5))\n",
    "w_ = 0.1\n",
    "s_data = np.linspace(0 , 1.5, 100)\n",
    "sig_ag = get_sig_ag(w_, s_data)\n",
    "ax1.plot(s_data, sig_ag, color='blue', lw=2);"
   ]
  },
  {
   "cell_type": "code",
   "execution_count": 28,
   "id": "04cc8676",
   "metadata": {},
   "outputs": [
    {
     "data": {
      "image/png": "[encoded data removed]",
      "text/plain": [
       "<Figure size 720x360 with 1 Axes>"
      ]
     },
     "metadata": {
      "needs_background": "light"
     },
     "output_type": "display_data"
    }
   ],
   "source": [
    "_, (ax1) = plt.subplots(1, 1, figsize=(10,5))\n",
    "w_ = 0.1\n",
    "s_data = np.linspace(0 , 1, 100)\n",
    "tau_s_val = get_tau_s(w_, s_data)\n",
    "ax1.plot(s_data, tau_s_val, color='blue', lw=2);\n",
    "plt.show()"
   ]
  },
  {
   "cell_type": "code",
   "execution_count": 29,
   "id": "3cddf1c5",
   "metadata": {},
   "outputs": [
    {
     "name": "stderr",
     "output_type": "stream",
     "text": [
      "<lambdifygenerated-4>:2: RuntimeWarning: invalid value encountered in sqrt\n",
      "  return select([less_equal(64.8078172314006*w, -30),less_equal(w, 0.0462907119566811),less_equal(w, 0.237934259457341),True], [-30,64.8078172314006*w,3*exp(-21.6026057438002*w),select([less_equal(w, 0),True], [0,-0.62*s*(s**2/w**2 + w**2)**(-0.25)*select([less_equal(w, 0),True], [0,9.0*s*(-1/11*sqrt(11)*sqrt(w) + 1)*(1.35555555555556*abs(s/w)**3 + 0.272222222222222)/(w*(1.35555555555556*s**4/w**4 + 1))], default=nan)], default=nan)], default=nan)\n"
     ]
    },
    {
     "data": {
      "image/png": "[encoded data removed]",
      "text/plain": [
       "<Figure size 720x360 with 1 Axes>"
      ]
     },
     "metadata": {
      "needs_background": "light"
     },
     "output_type": "display_data"
    }
   ],
   "source": [
    "_, (ax1) = plt.subplots(1, 1, figsize=(10,5))\n",
    "w_ = np.linspace(-1,1, 100)\n",
    "s_data = np.linspace(-1 , 1, 100)\n",
    "sig = get_sig_w(w_, s_data)\n",
    "ax1.plot(w_, sig, color='blue', lw=2);"
   ]
  },
  {
   "cell_type": "code",
   "execution_count": null,
   "id": "e7f9f6d9",
   "metadata": {},
   "outputs": [],
   "source": []
  },
  {
   "cell_type": "code",
   "execution_count": null,
   "id": "982e2b71",
   "metadata": {},
   "outputs": [],
   "source": []
  },
  {
   "cell_type": "code",
   "execution_count": null,
   "id": "550de53e",
   "metadata": {},
   "outputs": [],
   "source": []
  },
  {
   "cell_type": "code",
   "execution_count": null,
   "id": "d35e7fcf",
   "metadata": {},
   "outputs": [],
   "source": []
  },
  {
   "cell_type": "code",
   "execution_count": null,
   "id": "c36ebd02",
   "metadata": {},
   "outputs": [],
   "source": []
  }
 ],
 "metadata": {
  "kernelspec": {
   "display_name": "bmcs_env",
   "language": "python",
   "name": "bmcs_env"
  },
  "language_info": {
   "codemirror_mode": {
    "name": "ipython",
    "version": 3
   },
   "file_extension": ".py",
   "mimetype": "text/x-python",
   "name": "python",
   "nbconvert_exporter": "python",
   "pygments_lexer": "ipython3",
   "version": "3.9.7"
  }
 },
 "nbformat": 4,
 "nbformat_minor": 5
}
