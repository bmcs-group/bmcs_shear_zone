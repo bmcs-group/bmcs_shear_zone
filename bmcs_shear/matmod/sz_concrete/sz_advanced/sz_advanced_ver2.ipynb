{
 "cells": [
  {
   "cell_type": "code",
   "execution_count": 1,
   "metadata": {},
   "outputs": [],
   "source": [
    "%matplotlib widget\n",
    "from bmcs_shear.matmod.sz_concrete.sz_advanced.sz_advanced_ver2 import SZAdancedConModel"
   ]
  },
  {
   "cell_type": "code",
   "execution_count": 2,
   "metadata": {
    "pycharm": {
     "name": "#%%\n"
    }
   },
   "outputs": [
    {
     "name": "stderr",
     "output_type": "stream",
     "text": [
      "<lambdifygenerated-1>:2: RuntimeWarning: invalid value encountered in sqrt\n",
      "  return (select([less(1.0*f_t/E_c, -35.7142857142857*d_ag**(-0.32)*f_c**(-0.18)*f_t**2*w/E_c),greater(1.0*f_t/E_c, 35.7142857142857*d_ag**(-0.32)*f_c**(-0.18)*f_t**2*w/E_c),greater(w, 0.028*d_ag**0.32*f_c**0.18/f_t)], [-f_c,-2*f_t - 35.7142857142857*(f_c - 2*f_t)*sqrt(-E_c**2*(-d_ag**(-0.32)*f_c**(-0.18)*f_t**2*w/E_c + 0.028*f_t/E_c)**2/f_t**2 + 0.000784),-0.389105058365759*f_t*w*(c_1**3 + 1)*exp(-c_2) + f_t*(0.0589115744925372*c_1**3*f_t**3*w**3 + 1)*exp(-0.389105058365759*c_2*f_t*w)], default=nan))\n"
     ]
    },
    {
     "data": {
      "application/vnd.jupyter.widget-view+json": {
       "model_id": "0cb1528d97d8456d9c86fef72e6131c4",
       "version_major": 2,
       "version_minor": 0
      },
      "text/plain": [
       "VBox(children=(Output(), Tab(children=(VBox(children=(GridBox(children=(FloatText(value=33.3), FloatText(value…"
      ]
     },
     "metadata": {},
     "output_type": "display_data"
    }
   ],
   "source": [
    "SZAdancedConModel().interact()"
   ]
  },
  {
   "cell_type": "code",
   "execution_count": null,
   "metadata": {
    "pycharm": {
     "name": "#%%\n"
    }
   },
   "outputs": [],
   "source": []
  }
 ],
 "metadata": {
  "kernelspec": {
   "display_name": "Python 3",
   "language": "python",
   "name": "python3"
  },
  "language_info": {
   "codemirror_mode": {
    "name": "ipython",
    "version": 3
   },
   "file_extension": ".py",
   "mimetype": "text/x-python",
   "name": "python",
   "nbconvert_exporter": "python",
   "pygments_lexer": "ipython3",
   "version": "3.9.0"
  },
  "toc": {
   "base_numbering": 1,
   "nav_menu": {},
   "number_sections": true,
   "sideBar": true,
   "skip_h1_title": false,
   "title_cell": "Table of Contents",
   "title_sidebar": "Contents",
   "toc_cell": false,
   "toc_position": {},
   "toc_section_display": true,
   "toc_window_display": false
  }
 },
 "nbformat": 4,
 "nbformat_minor": 1
}
