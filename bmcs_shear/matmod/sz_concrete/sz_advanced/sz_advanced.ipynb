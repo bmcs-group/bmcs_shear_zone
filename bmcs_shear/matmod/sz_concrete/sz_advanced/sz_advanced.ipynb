{
 "cells": [
  {
   "cell_type": "code",
   "execution_count": 1,
   "metadata": {},
   "outputs": [
    {
     "name": "stdout",
     "output_type": "stream",
     "text": [
      "Piecewise((2.5*\\alpha*sqrt(f_c)*(s/s_1)**\\alpha/s, s <= s_1), (0, s <= s_2), (-1.5*sqrt(f_c)/(-s_2 + s_3), s <= s_3), (0, True))\n"
     ]
    }
   ],
   "source": [
    "%matplotlib widget\n",
    "from bmcs_shear.matmod.sz_concrete.sz_advanced import ConcreteMaterialModelAdv\n",
    "import numpy as np\n",
    "# w = np.linspace(0,1,100)\n",
    "# print(ConcreteMaterialModel.get_sigma_w(w))"
   ]
  },
  {
   "cell_type": "code",
   "execution_count": 2,
   "metadata": {
    "pycharm": {
     "name": "#%%\n"
    }
   },
   "outputs": [
    {
     "name": "stderr",
     "output_type": "stream",
     "text": [
      "<lambdifygenerated-5>:2: RuntimeWarning: invalid value encountered in true_divide\n",
      "  return (select([less_equal(s, s_1),less_equal(s, s_2),less_equal(s, s_3),True], [2.5*Dummy_32*sqrt(f_c)*(s/s_1)**Dummy_32/s,0,-1.5*sqrt(f_c)/(-s_2 + s_3),0], default=nan))\n"
     ]
    },
    {
     "data": {
      "application/vnd.jupyter.widget-view+json": {
       "model_id": "5ab79e6dbc4f47299126a822f268f964",
       "version_major": 2,
       "version_minor": 0
      },
      "text/plain": [
       "VBox(children=(Output(), Tab(children=(VBox(children=(GridBox(children=(FloatText(value=3.0), FloatText(value=…"
      ]
     },
     "metadata": {},
     "output_type": "display_data"
    }
   ],
   "source": [
    "ConcreteMaterialModelAdv().interact()"
   ]
  },
  {
   "cell_type": "code",
   "execution_count": null,
   "metadata": {},
   "outputs": [],
   "source": []
  }
 ],
 "metadata": {
  "kernelspec": {
   "display_name": "Python 3",
   "language": "python",
   "name": "python3"
  },
  "language_info": {
   "codemirror_mode": {
    "name": "ipython",
    "version": 3
   },
   "file_extension": ".py",
   "mimetype": "text/x-python",
   "name": "python",
   "nbconvert_exporter": "python",
   "pygments_lexer": "ipython3",
   "version": "3.9.0"
  },
  "toc": {
   "base_numbering": 1,
   "nav_menu": {},
   "number_sections": true,
   "sideBar": true,
   "skip_h1_title": false,
   "title_cell": "Table of Contents",
   "title_sidebar": "Contents",
   "toc_cell": false,
   "toc_position": {},
   "toc_section_display": true,
   "toc_window_display": false
  }
 },
 "nbformat": 4,
 "nbformat_minor": 1
}
