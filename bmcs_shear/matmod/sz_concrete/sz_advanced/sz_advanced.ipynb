{
 "cells": [
  {
   "cell_type": "code",
   "execution_count": 1,
   "metadata": {},
   "outputs": [],
   "source": [
    "%matplotlib widget\n",
    "from bmcs_shear.matmod.sz_concrete.sz_advanced import ConcreteMaterialModelAdv\n",
    "import numpy as np\n",
    "# w = np.linspace(0,1,100)\n",
    "# print(ConcreteMaterialModel.get_sigma_w(w))"
   ]
  },
  {
   "cell_type": "code",
   "execution_count": 2,
   "metadata": {},
   "outputs": [],
   "source": [
    "ccm = ConcreteMaterialModelAdv()"
   ]
  },
  {
   "cell_type": "code",
   "execution_count": 3,
   "metadata": {
    "pycharm": {
     "name": "#%%\n"
    },
    "scrolled": true
   },
   "outputs": [
    {
     "name": "stderr",
     "output_type": "stream",
     "text": [
      "<lambdifygenerated-5>:2: RuntimeWarning: invalid value encountered in sqrt\n",
      "  return (select([less_equal(w, 0),True], [0,0.25*f_c*s*(-sqrt(2)*sqrt(w/d_a) + 1)*((2.44 - 39.04/f_c)*abs(s/w)**3 + 9.8/f_c)/(w*(s**4*(2.44 - 39.04/f_c)/w**4 + 1))], default=nan))\n"
     ]
    },
    {
     "data": {
      "application/vnd.jupyter.widget-view+json": {
       "model_id": "97ede701172d46c9bb0c8f031955f648",
       "version_major": 2,
       "version_minor": 0
      },
      "text/plain": [
       "VBox(children=(Output(), Tab(children=(VBox(children=(GridBox(children=(FloatText(value=22.0, description='\\\\(…"
      ]
     },
     "metadata": {},
     "output_type": "display_data"
    }
   ],
   "source": [
    "ConcreteMaterialModelAdv().interact()"
   ]
  },
  {
   "cell_type": "code",
   "execution_count": 7,
   "metadata": {},
   "outputs": [
    {
     "data": {
      "text/plain": [
       "array([ 0.        ,  0.        ,  0.        ,  0.        ,  0.        ,\n",
       "        0.        ,  0.        ,  0.        ,  0.        ,  0.        ,\n",
       "        0.        ,  0.        ,  0.        ,  0.        ,  0.        ,\n",
       "        0.        ,  0.        ,  0.        ,  0.        ,  0.        ,\n",
       "        0.        ,  0.        ,  0.        ,  0.        ,  0.        ,\n",
       "        0.        ,  0.        ,  0.        ,  0.        ,  0.        ,\n",
       "        0.        ,  0.        ,  0.        ,  0.        ,  0.        ,\n",
       "        0.        ,  0.        ,  0.        ,  0.        ,  0.        ,\n",
       "        0.        ,  0.        ,  0.        ,  0.        ,  0.        ,\n",
       "        0.        ,  0.        ,  0.        ,  0.        ,  0.        ,\n",
       "       -0.26110021, -0.44189315, -0.56128585, -0.65527825, -0.73434434,\n",
       "       -0.80327984, -0.86475731, -0.9204472 , -0.97147626, -1.01864711,\n",
       "       -1.06255545, -1.10365787, -1.14231343, -1.17881058, -1.21338522,\n",
       "       -1.24623314, -1.27751901, -1.30738288, -1.33594504, -1.36330974,\n",
       "       -1.38956798, -1.41479982, -1.43907609, -1.46245983, -1.48500745,\n",
       "       -1.50676965, -1.5277922 , -1.5481166 , -1.5677806 , -1.58681866,\n",
       "       -1.60526237, -1.62314072, -1.64048044, -1.65730619, -1.67364083,\n",
       "       -1.68950557, -1.70492011, -1.71990286, -1.73447096, -1.74864047,\n",
       "       -1.76242643, -1.77584296, -1.78890335, -1.80162009, -1.81400496,\n",
       "       -1.82606909, -1.83782299, -1.84927663, -1.86043943, -1.87132035])"
      ]
     },
     "execution_count": 7,
     "metadata": {},
     "output_type": "execute_result"
    }
   ],
   "source": [
    "w = np.linspace(-1,1, 100)\n",
    "s = np.linspace(-1,1, 100)\n",
    "ccm.get_sigma_ag(w,s)"
   ]
  },
  {
   "cell_type": "code",
   "execution_count": 4,
   "metadata": {},
   "outputs": [
    {
     "data": {
      "text/plain": [
       "0.23793425945734095"
      ]
     },
     "execution_count": 4,
     "metadata": {},
     "output_type": "execute_result"
    }
   ],
   "source": [
    "ccm.get_w_tc()"
   ]
  },
  {
   "cell_type": "code",
   "execution_count": 5,
   "metadata": {},
   "outputs": [
    {
     "data": {
      "text/latex": [
       "$\\displaystyle \\operatorname{sign}{\\left(w \\right)}$"
      ],
      "text/plain": [
       "sign(w)"
      ]
     },
     "execution_count": 5,
     "metadata": {},
     "output_type": "execute_result"
    }
   ],
   "source": [
    "import sympy as sp\n",
    "w = sp.Symbol('w')\n",
    "\n",
    "sp.sign(w)"
   ]
  },
  {
   "cell_type": "code",
   "execution_count": 6,
   "metadata": {},
   "outputs": [
    {
     "data": {
      "text/plain": [
       "<function _lambdifygenerated(w)>"
      ]
     },
     "execution_count": 6,
     "metadata": {},
     "output_type": "execute_result"
    }
   ],
   "source": [
    "get_sign = sp.lambdify(w, sp.sign(w))\n",
    "get_sign"
   ]
  },
  {
   "cell_type": "code",
   "execution_count": 7,
   "metadata": {},
   "outputs": [
    {
     "data": {
      "text/plain": [
       "(array([4.00000000e+00, 3.95959596e+00, 3.91919192e+00, 3.87878788e+00,\n",
       "        3.83838384e+00, 3.79797980e+00, 3.75757576e+00, 3.71717172e+00,\n",
       "        3.67676768e+00, 3.63636364e+00, 3.59595959e+00, 3.55555555e+00,\n",
       "        3.51515151e+00, 3.47474747e+00, 3.43434343e+00, 3.39393939e+00,\n",
       "        3.35353535e+00, 3.31313131e+00, 3.27272727e+00, 3.23232323e+00,\n",
       "        3.19191919e+00, 3.15151515e+00, 3.11111111e+00, 3.07070707e+00,\n",
       "        3.03030303e+00, 2.98989899e+00, 2.94949495e+00, 2.90909091e+00,\n",
       "        2.86868687e+00, 2.82828283e+00, 2.78787879e+00, 2.74747475e+00,\n",
       "        2.70707071e+00, 2.66666667e+00, 2.62626263e+00, 2.58585858e+00,\n",
       "        2.54545454e+00, 2.50505050e+00, 2.46464646e+00, 2.42424242e+00,\n",
       "        2.38383838e+00, 2.34343434e+00, 2.30303030e+00, 2.26262626e+00,\n",
       "        2.22222222e+00, 2.18181818e+00, 2.14141414e+00, 2.10101010e+00,\n",
       "        2.06060606e+00, 2.02020202e+00, 1.97979798e+00, 1.93939394e+00,\n",
       "        1.89898990e+00, 1.85858586e+00, 1.81818182e+00, 1.77777778e+00,\n",
       "        1.73737374e+00, 1.69696970e+00, 1.65656566e+00, 1.61616162e+00,\n",
       "        1.57575757e+00, 1.53535353e+00, 1.49494949e+00, 1.45454545e+00,\n",
       "        1.41414141e+00, 1.37373737e+00, 1.33333333e+00, 1.29292929e+00,\n",
       "        1.25252525e+00, 1.21212121e+00, 1.17171717e+00, 1.13131313e+00,\n",
       "        1.09090909e+00, 1.05050505e+00, 1.01010101e+00, 9.69696969e-01,\n",
       "        9.29292928e-01, 8.88888888e-01, 8.48484847e-01, 8.08080807e-01,\n",
       "        7.67676767e-01, 7.27272726e-01, 6.86868686e-01, 6.46464645e-01,\n",
       "        6.06060605e-01, 5.65656565e-01, 5.25252524e-01, 4.84848484e-01,\n",
       "        4.44444443e-01, 4.04040403e-01, 3.63636363e-01, 3.23232322e-01,\n",
       "        2.82828282e-01, 2.42424241e-01, 2.02020201e-01, 1.61616161e-01,\n",
       "        1.21212120e-01, 8.08080798e-02, 4.04040394e-02, 1.00000000e-09]),\n",
       " array([-4.        , -3.95959596, -3.91919192, -3.87878788, -3.83838384,\n",
       "        -3.7979798 , -3.75757576, -3.71717172, -3.67676768, -3.63636364,\n",
       "        -3.5959596 , -3.55555556, -3.51515152, -3.47474747, -3.43434343,\n",
       "        -3.39393939, -3.35353535, -3.31313131, -3.27272727, -3.23232323,\n",
       "        -3.19191919, -3.15151515, -3.11111111, -3.07070707, -3.03030303,\n",
       "        -2.98989899, -2.94949495, -2.90909091, -2.86868687, -2.82828283,\n",
       "        -2.78787879, -2.74747475, -2.70707071, -2.66666667, -2.62626263,\n",
       "        -2.58585859, -2.54545455, -2.50505051, -2.46464646, -2.42424242,\n",
       "        -2.38383838, -2.34343434, -2.3030303 , -2.26262626, -2.22222222,\n",
       "        -2.18181818, -2.14141414, -2.1010101 , -2.06060606, -2.02020202,\n",
       "        -1.97979798, -1.93939394, -1.8989899 , -1.85858586, -1.81818182,\n",
       "        -1.77777778, -1.73737374, -1.6969697 , -1.65656566, -1.61616162,\n",
       "        -1.57575758, -1.53535354, -1.49494949, -1.45454545, -1.41414141,\n",
       "        -1.37373737, -1.33333333, -1.29292929, -1.25252525, -1.21212121,\n",
       "        -1.17171717, -1.13131313, -1.09090909, -1.05050505, -1.01010101,\n",
       "        -0.96969697, -0.92929293, -0.88888889, -0.84848485, -0.80808081,\n",
       "        -0.76767677, -0.72727273, -0.68686869, -0.64646465, -0.60606061,\n",
       "        -0.56565657, -0.52525253, -0.48484848, -0.44444444, -0.4040404 ,\n",
       "        -0.36363636, -0.32323232, -0.28282828, -0.24242424, -0.2020202 ,\n",
       "        -0.16161616, -0.12121212, -0.08080808, -0.04040404,  0.        ]))"
      ]
     },
     "execution_count": 7,
     "metadata": {},
     "output_type": "execute_result"
    }
   ],
   "source": [
    "import numpy as np\n",
    "w_ = np.linspace(-4,0, 100)\n",
    "s_ = np.linspace(-2,2, 10)\n",
    "#w_a =  2 - 1/2 * (get_sign(w_ )) * w_ #* w_  #* w_ 1/2 *   1 - 1/2 * + 1\n",
    "#w_a = get_sign(w_ - 1/2) * (w_)\n",
    "#w_a =\n",
    "w_1 = get_sign(w_ + 1/34) * (w_ + 1e-9)#+ 1e-9) #+ 1/34\n",
    "w_1, w_"
   ]
  },
  {
   "cell_type": "code",
   "execution_count": 8,
   "metadata": {},
   "outputs": [],
   "source": [
    "s_, w_1 = np.meshgrid(s_, w_1)"
   ]
  },
  {
   "cell_type": "code",
   "execution_count": 9,
   "metadata": {},
   "outputs": [
    {
     "ename": "TypeError",
     "evalue": "get_sig_a() takes 2 positional arguments but 3 were given",
     "output_type": "error",
     "traceback": [
      "\u001b[1;31m---------------------------------------------------------------------------\u001b[0m",
      "\u001b[1;31mTypeError\u001b[0m                                 Traceback (most recent call last)",
      "\u001b[1;32m<ipython-input-9-dd45b84978fa>\u001b[0m in \u001b[0;36m<module>\u001b[1;34m\u001b[0m\n\u001b[0;32m      1\u001b[0m \u001b[1;31m#ccm.get_sig_a(w_, s_)\u001b[0m\u001b[1;33m\u001b[0m\u001b[1;33m\u001b[0m\u001b[1;33m\u001b[0m\u001b[0m\n\u001b[1;32m----> 2\u001b[1;33m \u001b[0msig_a\u001b[0m\u001b[1;33m,\u001b[0m \u001b[0mtau_a\u001b[0m \u001b[1;33m=\u001b[0m \u001b[0mccm\u001b[0m\u001b[1;33m.\u001b[0m\u001b[0mget_sig_a\u001b[0m\u001b[1;33m(\u001b[0m\u001b[0mw_1\u001b[0m\u001b[1;33m,\u001b[0m \u001b[0ms_\u001b[0m\u001b[1;33m)\u001b[0m\u001b[1;33m\u001b[0m\u001b[1;33m\u001b[0m\u001b[0m\n\u001b[0m",
      "\u001b[1;31mTypeError\u001b[0m: get_sig_a() takes 2 positional arguments but 3 were given"
     ]
    }
   ],
   "source": [
    "#ccm.get_sig_a(w_, s_)\n",
    "sig_a, tau_a = ccm.get_sig_a(w_1, s_)"
   ]
  },
  {
   "cell_type": "code",
   "execution_count": null,
   "metadata": {},
   "outputs": [],
   "source": [
    "tau_a"
   ]
  },
  {
   "cell_type": "code",
   "execution_count": null,
   "metadata": {},
   "outputs": [],
   "source": [
    "import matplotlib.pyplot as plt\n",
    "plt.subplots(1, 1)\n",
    "ax_s = plt.axes(projection='3d')\n",
    "ax_s.plot_surface(w_1, s_, tau_a, cmap='viridis', edgecolor='none')\n",
    "ax_s.set_xlabel(r'$w\\;\\;\\mathrm{[mm]}$')\n",
    "ax_s.set_ylabel(r'$s\\;\\;\\mathrm{[mm]}$')\n",
    "ax_s.set_zlabel(r'$\\tau\\;\\;\\mathrm{[MPa]}$')"
   ]
  },
  {
   "cell_type": "code",
   "execution_count": null,
   "metadata": {
    "pycharm": {
     "name": "#%%\n"
    }
   },
   "outputs": [],
   "source": [
    "import sympy as sp\n",
    "import numpy as np\n",
    "import matplotlib.pylab as plt\n",
    "sp.init_printing()"
   ]
  },
  {
   "cell_type": "code",
   "execution_count": 10,
   "metadata": {
    "pycharm": {
     "name": "#%%\n"
    }
   },
   "outputs": [],
   "source": [
    "w = sp.Symbol(r'w', real=True)\n",
    "s = sp.Symbol(r's', real = True)\n",
    "d_a, E_c = sp.symbols(r'd_a, E_c', nonnegative=True)\n",
    "f_t = sp.symbols(r'f_t', nonnegative=True)\n",
    "c_2 = sp.Symbol('c_2', nonnegative=True)\n",
    "c_1 = sp.Symbol('c_1', nonnegative=True)\n",
    "f_c = sp.Symbol('f_c', nonnegative =True)\n",
    "#G_f, L_c = sp.symbols('G_f, L_c', nonnegative = True)"
   ]
  },
  {
   "cell_type": "code",
   "execution_count": 11,
   "metadata": {
    "pycharm": {
     "name": "#%%\n"
    }
   },
   "outputs": [],
   "source": [
    "G_f = 0.028 * f_c ** 0.18 * d_a ** 0.32\n",
    "\n",
    "L_c = E_c * G_f / f_t ** 2\n",
    "\n",
    "w_cr = f_t / E_c * L_c\n",
    "\n",
    "eps_cp = w_cr / L_c\n",
    "\n",
    "eps_p = w / L_c\n",
    "\n",
    "f_co = 2 * f_t\n",
    "\n",
    "w_tc = 5.14 * G_f / f_t"
   ]
  },
  {
   "cell_type": "code",
   "execution_count": 12,
   "metadata": {
    "pycharm": {
     "name": "#%%\n"
    }
   },
   "outputs": [],
   "source": [
    "sig_w = sp.Piecewise(\n",
    "        (- f_c, w < - w_cr),\n",
    "        (-(f_co + (f_c - f_co) * sp.sqrt(1 - ((eps_cp - eps_p) / (eps_cp)) ** 2)), - w_cr < w ),\n",
    "        (- 2 * f_t, w == 0),\n",
    "        (E_c * eps_p, E_c * w / L_c <= f_t),\n",
    "        (f_t * (1 + ((c_1 * w)/(w_tc))**3) * sp.exp((-c_2* w)/(w_tc)) - (w/w_tc) * \\\n",
    "        (1 + c_1**3) * sp.exp(-c_2), w > w_cr)\n",
    "    )"
   ]
  },
  {
   "cell_type": "code",
   "execution_count": 13,
   "metadata": {
    "pycharm": {
     "name": "#%%\n"
    }
   },
   "outputs": [
    {
     "data": {
      "text/latex": [
       "$\\displaystyle \\begin{cases} - f_{c} & \\text{for}\\: w < - \\frac{0.028 d_{a}^{0.32} f_{c}^{0.18}}{f_{t}} \\\\- 2 f_{t} - 35.7142857142857 \\left(f_{c} - 2 f_{t}\\right) \\sqrt{- \\frac{E_{c}^{2} \\left(- \\frac{f_{t}^{2} w}{E_{c} d_{a}^{0.32} f_{c}^{0.18}} + \\frac{0.028 f_{t}}{E_{c}}\\right)^{2}}{f_{t}^{2}} + 0.000784} & \\text{for}\\: w > - \\frac{0.028 d_{a}^{0.32} f_{c}^{0.18}}{f_{t}} \\\\\\frac{35.7142857142857 f_{t}^{2} w}{d_{a}^{0.32} f_{c}^{0.18}} & \\text{for}\\: f_{t} \\geq \\frac{35.7142857142857 f_{t}^{2} w}{d_{a}^{0.32} f_{c}^{0.18}} \\\\- \\frac{6.94830461367426 f_{t} w \\left(c_{1}^{3} + 1\\right) e^{- c_{2}}}{d_{a}^{0.32} f_{c}^{0.18}} + f_{t} \\left(\\frac{335.456760731011 c_{1}^{3} f_{t}^{3} w^{3}}{d_{a}^{0.96} f_{c}^{0.54}} + 1\\right) e^{- \\frac{6.94830461367426 c_{2} f_{t} w}{d_{a}^{0.32} f_{c}^{0.18}}} & \\text{for}\\: w > \\frac{0.028 d_{a}^{0.32} f_{c}^{0.18}}{f_{t}} \\end{cases}$"
      ],
      "text/plain": [
       "Piecewise((-f_c, w < -0.028*d_a**0.32*f_c**0.18/f_t), (-2*f_t - 35.7142857142857*(f_c - 2*f_t)*sqrt(-E_c**2*(-d_a**(-0.32)*f_c**(-0.18)*f_t**2*w/E_c + 0.028*f_t/E_c)**2/f_t**2 + 0.000784), w > -0.028*d_a**0.32*f_c**0.18/f_t), (35.7142857142857*d_a**(-0.32)*f_c**(-0.18)*f_t**2*w, f_t >= 35.7142857142857*d_a**(-0.32)*f_c**(-0.18)*f_t**2*w), (-6.94830461367426*d_a**(-0.32)*f_c**(-0.18)*f_t*w*(c_1**3 + 1)*exp(-c_2) + f_t*(335.456760731011*c_1**3*d_a**(-0.96)*f_c**(-0.54)*f_t**3*w**3 + 1)*exp(-6.94830461367426*c_2*d_a**(-0.32)*f_c**(-0.18)*f_t*w), w > 0.028*d_a**0.32*f_c**0.18/f_t))"
      ]
     },
     "execution_count": 13,
     "metadata": {},
     "output_type": "execute_result"
    }
   ],
   "source": [
    "sig_w"
   ]
  },
  {
   "cell_type": "code",
   "execution_count": 14,
   "metadata": {
    "pycharm": {
     "name": "#%%\n"
    }
   },
   "outputs": [],
   "source": [
    "params = {\n",
    "    d_a : 22,\n",
    "    E_c : 28000,\n",
    "    f_t : 3,\n",
    "    c_2 : 6,\n",
    "    c_1 : 3,\n",
    "    f_c : 30\n",
    "}"
   ]
  },
  {
   "cell_type": "code",
   "execution_count": 15,
   "metadata": {
    "pycharm": {
     "name": "#%%\n"
    }
   },
   "outputs": [
    {
     "data": {
      "text/latex": [
       "$\\displaystyle \\begin{cases} -30 & \\text{for}\\: w < -0.0462907119566811 \\\\- 518.462537851205 \\sqrt{0.00214283001345642 - \\left(0.0462907119566811 - w\\right)^{2}} - 6 & \\text{for}\\: w > -0.0462907119566811 \\\\64.8078172314006 w & \\text{for}\\: 64.8078172314006 w \\leq 3 \\\\- \\frac{117.679564363114 w}{e^{6}} + 3 \\left(2004.43891704877 w^{3} + 1\\right) e^{- 25.2170495063816 w} & \\text{for}\\: w > 0.0462907119566811 \\end{cases}$"
      ],
      "text/plain": [
       "Piecewise((-30, w < -0.0462907119566811), (-518.462537851205*sqrt(0.00214283001345642 - (0.0462907119566811 - w)**2) - 6, w > -0.0462907119566811), (64.8078172314006*w, 64.8078172314006*w <= 3), (-117.679564363114*w*exp(-6) + 3*(2004.43891704877*w**3 + 1)*exp(-25.2170495063816*w), w > 0.0462907119566811))"
      ]
     },
     "execution_count": 15,
     "metadata": {},
     "output_type": "execute_result"
    }
   ],
   "source": [
    "get_sig_w = sp.lambdify((w), sig_w.subs(params), 'numpy')\n",
    "sig_w.subs(params)"
   ]
  },
  {
   "cell_type": "code",
   "execution_count": 16,
   "metadata": {
    "pycharm": {
     "name": "#%%\n"
    }
   },
   "outputs": [
    {
     "ename": "NameError",
     "evalue": "name 'plt' is not defined",
     "output_type": "error",
     "traceback": [
      "\u001b[1;31m---------------------------------------------------------------------------\u001b[0m",
      "\u001b[1;31mNameError\u001b[0m                                 Traceback (most recent call last)",
      "\u001b[1;32m<ipython-input-16-07e8da44fc10>\u001b[0m in \u001b[0;36m<module>\u001b[1;34m\u001b[0m\n\u001b[1;32m----> 1\u001b[1;33m \u001b[0m_\u001b[0m\u001b[1;33m,\u001b[0m \u001b[1;33m(\u001b[0m\u001b[0max1\u001b[0m\u001b[1;33m)\u001b[0m \u001b[1;33m=\u001b[0m \u001b[0mplt\u001b[0m\u001b[1;33m.\u001b[0m\u001b[0msubplots\u001b[0m\u001b[1;33m(\u001b[0m\u001b[1;36m1\u001b[0m\u001b[1;33m,\u001b[0m \u001b[1;36m1\u001b[0m\u001b[1;33m,\u001b[0m \u001b[0mfigsize\u001b[0m\u001b[1;33m=\u001b[0m\u001b[1;33m(\u001b[0m\u001b[1;36m10\u001b[0m\u001b[1;33m,\u001b[0m\u001b[1;36m5\u001b[0m\u001b[1;33m)\u001b[0m\u001b[1;33m)\u001b[0m\u001b[1;33m\u001b[0m\u001b[1;33m\u001b[0m\u001b[0m\n\u001b[0m\u001b[0;32m      2\u001b[0m \u001b[0mw_\u001b[0m \u001b[1;33m=\u001b[0m \u001b[0mnp\u001b[0m\u001b[1;33m.\u001b[0m\u001b[0mlinspace\u001b[0m\u001b[1;33m(\u001b[0m\u001b[1;33m-\u001b[0m\u001b[1;36m1\u001b[0m\u001b[1;33m,\u001b[0m\u001b[1;36m1\u001b[0m\u001b[1;33m,\u001b[0m \u001b[1;36m100\u001b[0m\u001b[1;33m)\u001b[0m\u001b[1;33m\u001b[0m\u001b[1;33m\u001b[0m\u001b[0m\n\u001b[0;32m      3\u001b[0m \u001b[0msig\u001b[0m \u001b[1;33m=\u001b[0m \u001b[0mget_sig_w\u001b[0m\u001b[1;33m(\u001b[0m\u001b[0mw_\u001b[0m\u001b[1;33m)\u001b[0m\u001b[1;33m\u001b[0m\u001b[1;33m\u001b[0m\u001b[0m\n\u001b[0;32m      4\u001b[0m \u001b[0max1\u001b[0m\u001b[1;33m.\u001b[0m\u001b[0mplot\u001b[0m\u001b[1;33m(\u001b[0m\u001b[0mw_\u001b[0m\u001b[1;33m,\u001b[0m \u001b[0msig\u001b[0m\u001b[1;33m,\u001b[0m \u001b[0mcolor\u001b[0m\u001b[1;33m=\u001b[0m\u001b[1;34m'blue'\u001b[0m\u001b[1;33m,\u001b[0m \u001b[0mlw\u001b[0m\u001b[1;33m=\u001b[0m\u001b[1;36m2\u001b[0m\u001b[1;33m)\u001b[0m\u001b[1;33m;\u001b[0m\u001b[1;33m\u001b[0m\u001b[1;33m\u001b[0m\u001b[0m\n",
      "\u001b[1;31mNameError\u001b[0m: name 'plt' is not defined"
     ]
    }
   ],
   "source": [
    "_, (ax1) = plt.subplots(1, 1, figsize=(10,5))\n",
    "w_ = np.linspace(-1,1, 100)\n",
    "sig = get_sig_w(w_)\n",
    "ax1.plot(w_, sig, color='blue', lw=2);"
   ]
  },
  {
   "cell_type": "code",
   "execution_count": 17,
   "metadata": {
    "pycharm": {
     "name": "#%%\n"
    }
   },
   "outputs": [
    {
     "ename": "NameError",
     "evalue": "name 'sig' is not defined",
     "output_type": "error",
     "traceback": [
      "\u001b[1;31m---------------------------------------------------------------------------\u001b[0m",
      "\u001b[1;31mNameError\u001b[0m                                 Traceback (most recent call last)",
      "\u001b[1;32m<ipython-input-17-39269b411a08>\u001b[0m in \u001b[0;36m<module>\u001b[1;34m\u001b[0m\n\u001b[1;32m----> 1\u001b[1;33m \u001b[0mprint\u001b[0m\u001b[1;33m(\u001b[0m\u001b[0msig\u001b[0m\u001b[1;33m)\u001b[0m\u001b[1;33m\u001b[0m\u001b[1;33m\u001b[0m\u001b[0m\n\u001b[0m",
      "\u001b[1;31mNameError\u001b[0m: name 'sig' is not defined"
     ]
    }
   ],
   "source": [
    "print(sig)"
   ]
  },
  {
   "cell_type": "code",
   "execution_count": 18,
   "metadata": {
    "pycharm": {
     "name": "#%%\n"
    }
   },
   "outputs": [
    {
     "data": {
      "text/latex": [
       "$\\displaystyle \\begin{cases} - f_{c} & \\text{for}\\: f_{c} < - \\frac{35.7142857142857 f_{t}^{2} w}{d_{a}^{0.32} f_{c}^{0.18}} \\\\- 1.25 f_{c} \\left(- \\frac{35714.2857142857 f_{t}^{2} w}{E_{c} d_{a}^{0.32} f_{c}^{0.18}} - \\frac{318877551.020408 f_{t}^{4} w^{2}}{E_{c}^{2} d_{a}^{0.64} f_{c}^{0.36}}\\right) & \\text{for}\\: w \\leq \\frac{0.028 d_{a}^{0.32} f_{c}^{0.18}}{f_{t}} \\\\- \\frac{6.94830461367426 f_{t} w \\left(c_{1}^{3} + 1\\right) e^{- c_{2}}}{d_{a}^{0.32} f_{c}^{0.18}} + f_{t} \\left(\\frac{335.456760731011 c_{1}^{3} f_{t}^{3} w^{3}}{d_{a}^{0.96} f_{c}^{0.54}} + 1\\right) e^{- \\frac{6.94830461367426 c_{2} f_{t} w}{d_{a}^{0.32} f_{c}^{0.18}}} & \\text{otherwise} \\end{cases}$"
      ],
      "text/plain": [
       "Piecewise((-f_c, f_c < -35.7142857142857*d_a**(-0.32)*f_c**(-0.18)*f_t**2*w), (-1.25*f_c*(-35714.2857142857*d_a**(-0.32)*f_c**(-0.18)*f_t**2*w/E_c - 318877551.020408*d_a**(-0.64)*f_c**(-0.36)*f_t**4*w**2/E_c**2), w <= 0.028*d_a**0.32*f_c**0.18/f_t), (-6.94830461367426*d_a**(-0.32)*f_c**(-0.18)*f_t*w*(c_1**3 + 1)*exp(-c_2) + f_t*(335.456760731011*c_1**3*d_a**(-0.96)*f_c**(-0.54)*f_t**3*w**3 + 1)*exp(-6.94830461367426*c_2*d_a**(-0.32)*f_c**(-0.18)*f_t*w), True))"
      ]
     },
     "execution_count": 18,
     "metadata": {},
     "output_type": "execute_result"
    }
   ],
   "source": [
    "f_ce = f_c * (1 / (0.8))\n",
    "sig_w = sp.Piecewise(\n",
    "        (- f_c, E_c * w / L_c < - f_c),\n",
    "        (- f_ce * (2 * (eps_p / -0.002) - (eps_p / -0.002) ** 2), w <= w_cr),\n",
    "        (f_t * (1 + ((c_1 * w)/(w_tc))**3) * sp.exp((-c_2* w)/(w_tc)) - (w/w_tc) * \\\n",
    "        (1 + c_1**3) * sp.exp(-c_2), w > w_cr)\n",
    "    )\n",
    "sig_w"
   ]
  },
  {
   "cell_type": "code",
   "execution_count": 19,
   "metadata": {
    "pycharm": {
     "name": "#%%\n"
    }
   },
   "outputs": [
    {
     "data": {
      "text/latex": [
       "$\\displaystyle \\begin{cases} -30 & \\text{for}\\: 64.8078172314006 w < -30 \\\\50.2238501390939 w^{2} + 86.7961837920544 w & \\text{for}\\: w \\leq 0.0462907119566811 \\\\- \\frac{117.679564363114 w}{e^{6}} + 3 \\left(2004.43891704877 w^{3} + 1\\right) e^{- 25.2170495063816 w} & \\text{otherwise} \\end{cases}$"
      ],
      "text/plain": [
       "Piecewise((-30, 64.8078172314006*w < -30), (50.2238501390939*w**2 + 86.7961837920544*w, w <= 0.0462907119566811), (-117.679564363114*w*exp(-6) + 3*(2004.43891704877*w**3 + 1)*exp(-25.2170495063816*w), True))"
      ]
     },
     "execution_count": 19,
     "metadata": {},
     "output_type": "execute_result"
    }
   ],
   "source": [
    "get_sig_w = sp.lambdify((w), sig_w.subs(params), 'numpy')\n",
    "sig_w.subs(params)"
   ]
  },
  {
   "cell_type": "code",
   "execution_count": 20,
   "metadata": {
    "pycharm": {
     "name": "#%%\n"
    }
   },
   "outputs": [
    {
     "ename": "NameError",
     "evalue": "name 'plt' is not defined",
     "output_type": "error",
     "traceback": [
      "\u001b[1;31m---------------------------------------------------------------------------\u001b[0m",
      "\u001b[1;31mNameError\u001b[0m                                 Traceback (most recent call last)",
      "\u001b[1;32m<ipython-input-20-07e8da44fc10>\u001b[0m in \u001b[0;36m<module>\u001b[1;34m\u001b[0m\n\u001b[1;32m----> 1\u001b[1;33m \u001b[0m_\u001b[0m\u001b[1;33m,\u001b[0m \u001b[1;33m(\u001b[0m\u001b[0max1\u001b[0m\u001b[1;33m)\u001b[0m \u001b[1;33m=\u001b[0m \u001b[0mplt\u001b[0m\u001b[1;33m.\u001b[0m\u001b[0msubplots\u001b[0m\u001b[1;33m(\u001b[0m\u001b[1;36m1\u001b[0m\u001b[1;33m,\u001b[0m \u001b[1;36m1\u001b[0m\u001b[1;33m,\u001b[0m \u001b[0mfigsize\u001b[0m\u001b[1;33m=\u001b[0m\u001b[1;33m(\u001b[0m\u001b[1;36m10\u001b[0m\u001b[1;33m,\u001b[0m\u001b[1;36m5\u001b[0m\u001b[1;33m)\u001b[0m\u001b[1;33m)\u001b[0m\u001b[1;33m\u001b[0m\u001b[1;33m\u001b[0m\u001b[0m\n\u001b[0m\u001b[0;32m      2\u001b[0m \u001b[0mw_\u001b[0m \u001b[1;33m=\u001b[0m \u001b[0mnp\u001b[0m\u001b[1;33m.\u001b[0m\u001b[0mlinspace\u001b[0m\u001b[1;33m(\u001b[0m\u001b[1;33m-\u001b[0m\u001b[1;36m1\u001b[0m\u001b[1;33m,\u001b[0m\u001b[1;36m1\u001b[0m\u001b[1;33m,\u001b[0m \u001b[1;36m100\u001b[0m\u001b[1;33m)\u001b[0m\u001b[1;33m\u001b[0m\u001b[1;33m\u001b[0m\u001b[0m\n\u001b[0;32m      3\u001b[0m \u001b[0msig\u001b[0m \u001b[1;33m=\u001b[0m \u001b[0mget_sig_w\u001b[0m\u001b[1;33m(\u001b[0m\u001b[0mw_\u001b[0m\u001b[1;33m)\u001b[0m\u001b[1;33m\u001b[0m\u001b[1;33m\u001b[0m\u001b[0m\n\u001b[0;32m      4\u001b[0m \u001b[0max1\u001b[0m\u001b[1;33m.\u001b[0m\u001b[0mplot\u001b[0m\u001b[1;33m(\u001b[0m\u001b[0mw_\u001b[0m\u001b[1;33m,\u001b[0m \u001b[0msig\u001b[0m\u001b[1;33m,\u001b[0m \u001b[0mcolor\u001b[0m\u001b[1;33m=\u001b[0m\u001b[1;34m'blue'\u001b[0m\u001b[1;33m,\u001b[0m \u001b[0mlw\u001b[0m\u001b[1;33m=\u001b[0m\u001b[1;36m2\u001b[0m\u001b[1;33m)\u001b[0m\u001b[1;33m;\u001b[0m\u001b[1;33m\u001b[0m\u001b[1;33m\u001b[0m\u001b[0m\n",
      "\u001b[1;31mNameError\u001b[0m: name 'plt' is not defined"
     ]
    }
   ],
   "source": [
    "_, (ax1) = plt.subplots(1, 1, figsize=(10,5))\n",
    "w_ = np.linspace(-1,1, 100)\n",
    "sig = get_sig_w(w_)\n",
    "ax1.plot(w_, sig, color='blue', lw=2);"
   ]
  },
  {
   "cell_type": "code",
   "execution_count": 21,
   "metadata": {
    "pycharm": {
     "name": "#%%\n"
    }
   },
   "outputs": [
    {
     "ename": "NameError",
     "evalue": "name 'sig' is not defined",
     "output_type": "error",
     "traceback": [
      "\u001b[1;31m---------------------------------------------------------------------------\u001b[0m",
      "\u001b[1;31mNameError\u001b[0m                                 Traceback (most recent call last)",
      "\u001b[1;32m<ipython-input-21-a9cbb9490f6b>\u001b[0m in \u001b[0;36m<module>\u001b[1;34m\u001b[0m\n\u001b[1;32m----> 1\u001b[1;33m \u001b[0msig\u001b[0m\u001b[1;33m\u001b[0m\u001b[1;33m\u001b[0m\u001b[0m\n\u001b[0m",
      "\u001b[1;31mNameError\u001b[0m: name 'sig' is not defined"
     ]
    }
   ],
   "source": [
    "sig"
   ]
  },
  {
   "cell_type": "code",
   "execution_count": 22,
   "metadata": {
    "pycharm": {
     "name": "#%%\n"
    }
   },
   "outputs": [
    {
     "data": {
      "text/plain": [
       "array([-4.        , -3.95959596, -3.91919192, -3.87878788, -3.83838384,\n",
       "       -3.7979798 , -3.75757576, -3.71717172, -3.67676768, -3.63636364,\n",
       "       -3.5959596 , -3.55555556, -3.51515152, -3.47474747, -3.43434343,\n",
       "       -3.39393939, -3.35353535, -3.31313131, -3.27272727, -3.23232323,\n",
       "       -3.19191919, -3.15151515, -3.11111111, -3.07070707, -3.03030303,\n",
       "       -2.98989899, -2.94949495, -2.90909091, -2.86868687, -2.82828283,\n",
       "       -2.78787879, -2.74747475, -2.70707071, -2.66666667, -2.62626263,\n",
       "       -2.58585859, -2.54545455, -2.50505051, -2.46464646, -2.42424242,\n",
       "       -2.38383838, -2.34343434, -2.3030303 , -2.26262626, -2.22222222,\n",
       "       -2.18181818, -2.14141414, -2.1010101 , -2.06060606, -2.02020202,\n",
       "       -1.97979798, -1.93939394, -1.8989899 , -1.85858586, -1.81818182,\n",
       "       -1.77777778, -1.73737374, -1.6969697 , -1.65656566, -1.61616162,\n",
       "       -1.57575758, -1.53535354, -1.49494949, -1.45454545, -1.41414141,\n",
       "       -1.37373737, -1.33333333, -1.29292929, -1.25252525, -1.21212121,\n",
       "       -1.17171717, -1.13131313, -1.09090909, -1.05050505, -1.01010101,\n",
       "       -0.96969697, -0.92929293, -0.88888889, -0.84848485, -0.80808081,\n",
       "       -0.76767677, -0.72727273, -0.68686869, -0.64646465, -0.60606061,\n",
       "       -0.56565657, -0.52525253, -0.48484848, -0.44444444, -0.4040404 ,\n",
       "       -0.36363636, -0.32323232, -0.28282828, -0.24242424, -0.2020202 ,\n",
       "       -0.16161616, -0.12121212, -0.08080808, -0.04040404,  0.        ])"
      ]
     },
     "execution_count": 22,
     "metadata": {},
     "output_type": "execute_result"
    }
   ],
   "source": [
    "w_"
   ]
  },
  {
   "cell_type": "code",
   "execution_count": 23,
   "metadata": {
    "pycharm": {
     "name": "#%%\n"
    }
   },
   "outputs": [
    {
     "data": {
      "text/latex": [
       "$\\displaystyle \\frac{0.25 f_{c} s \\left(- \\sqrt{2} \\sqrt{\\frac{w}{d_{a}}} + 1\\right) \\left(\\left(2.44 - \\frac{39.04}{f_{c}}\\right) \\left|{\\frac{s}{w}}\\right|^{3} + \\frac{9.8}{f_{c}}\\right)}{w \\left(\\frac{s^{4} \\left(2.44 - \\frac{39.04}{f_{c}}\\right)}{w^{4}} + 1\\right)}$"
      ],
      "text/plain": [
       "0.25*f_c*s*(-sqrt(2)*sqrt(w/d_a) + 1)*((2.44 - 39.04/f_c)*Abs(s/w)**3 + 9.8/f_c)/(w*(s**4*(2.44 - 39.04/f_c)/w**4 + 1))"
      ]
     },
     "execution_count": 23,
     "metadata": {},
     "output_type": "execute_result"
    }
   ],
   "source": [
    "r = s / w\n",
    "\n",
    "tau_0 = 0.25 * f_c\n",
    "\n",
    "a_3 = 2.45 / tau_0\n",
    "\n",
    "a_4 = 2.44 * (1 - (4 / tau_0))\n",
    "tau_s = tau_0 * (1 - sp.sqrt((2 * w) / d_a)) * r * (a_3 + (a_4 * sp.Abs(r) ** 3)) / (1 + (a_4 * r ** 4))\n",
    "tau_s"
   ]
  },
  {
   "cell_type": "code",
   "execution_count": 24,
   "metadata": {
    "pycharm": {
     "name": "#%%\n"
    }
   },
   "outputs": [
    {
     "data": {
      "text/latex": [
       "$\\displaystyle \\frac{7.5 s \\left(- \\frac{\\sqrt{11} \\sqrt{w}}{11} + 1\\right) \\left(1.13866666666667 \\left|{\\frac{s}{w}}\\right|^{3} + 0.326666666666667\\right)}{w \\left(\\frac{1.13866666666667 s^{4}}{w^{4}} + 1\\right)}$"
      ],
      "text/plain": [
       "7.5*s*(-sqrt(11)*sqrt(w)/11 + 1)*(1.13866666666667*Abs(s/w)**3 + 0.326666666666667)/(w*(1.13866666666667*s**4/w**4 + 1))"
      ]
     },
     "execution_count": 24,
     "metadata": {},
     "output_type": "execute_result"
    }
   ],
   "source": [
    "get_tau_s = sp.lambdify((w,s), tau_s.subs(params), 'numpy')\n",
    "tau_s.subs(params)"
   ]
  },
  {
   "cell_type": "code",
   "execution_count": 25,
   "metadata": {
    "pycharm": {
     "name": "#%%\n"
    }
   },
   "outputs": [
    {
     "ename": "NameError",
     "evalue": "name 'plt' is not defined",
     "output_type": "error",
     "traceback": [
      "\u001b[1;31m---------------------------------------------------------------------------\u001b[0m",
      "\u001b[1;31mNameError\u001b[0m                                 Traceback (most recent call last)",
      "\u001b[1;32m<ipython-input-25-aa919e3e0264>\u001b[0m in \u001b[0;36m<module>\u001b[1;34m\u001b[0m\n\u001b[1;32m----> 1\u001b[1;33m \u001b[0m_\u001b[0m\u001b[1;33m,\u001b[0m \u001b[1;33m(\u001b[0m\u001b[0max1\u001b[0m\u001b[1;33m)\u001b[0m \u001b[1;33m=\u001b[0m \u001b[0mplt\u001b[0m\u001b[1;33m.\u001b[0m\u001b[0msubplots\u001b[0m\u001b[1;33m(\u001b[0m\u001b[1;36m1\u001b[0m\u001b[1;33m,\u001b[0m \u001b[1;36m1\u001b[0m\u001b[1;33m,\u001b[0m \u001b[0mfigsize\u001b[0m\u001b[1;33m=\u001b[0m\u001b[1;33m(\u001b[0m\u001b[1;36m10\u001b[0m\u001b[1;33m,\u001b[0m\u001b[1;36m5\u001b[0m\u001b[1;33m)\u001b[0m\u001b[1;33m)\u001b[0m\u001b[1;33m\u001b[0m\u001b[1;33m\u001b[0m\u001b[0m\n\u001b[0m\u001b[0;32m      2\u001b[0m \u001b[0mw_\u001b[0m \u001b[1;33m=\u001b[0m \u001b[0mnp\u001b[0m\u001b[1;33m.\u001b[0m\u001b[0mlinspace\u001b[0m\u001b[1;33m(\u001b[0m\u001b[1;36m0\u001b[0m\u001b[1;33m,\u001b[0m\u001b[1;36m1\u001b[0m\u001b[1;33m,\u001b[0m \u001b[1;36m100\u001b[0m\u001b[1;33m)\u001b[0m\u001b[1;33m\u001b[0m\u001b[1;33m\u001b[0m\u001b[0m\n\u001b[0;32m      3\u001b[0m \u001b[0ms_\u001b[0m \u001b[1;33m=\u001b[0m \u001b[0mnp\u001b[0m\u001b[1;33m.\u001b[0m\u001b[0mlinspace\u001b[0m\u001b[1;33m(\u001b[0m\u001b[1;33m-\u001b[0m\u001b[1;36m1\u001b[0m\u001b[1;33m,\u001b[0m\u001b[1;36m1\u001b[0m\u001b[1;33m,\u001b[0m \u001b[1;36m100\u001b[0m\u001b[1;33m)\u001b[0m\u001b[1;33m\u001b[0m\u001b[1;33m\u001b[0m\u001b[0m\n\u001b[0;32m      4\u001b[0m \u001b[0mtau\u001b[0m \u001b[1;33m=\u001b[0m \u001b[0mget_tau_s\u001b[0m\u001b[1;33m(\u001b[0m\u001b[0mw_\u001b[0m\u001b[1;33m,\u001b[0m \u001b[0ms_\u001b[0m\u001b[1;33m)\u001b[0m\u001b[1;33m\u001b[0m\u001b[1;33m\u001b[0m\u001b[0m\n\u001b[0;32m      5\u001b[0m \u001b[0max1\u001b[0m\u001b[1;33m.\u001b[0m\u001b[0mplot\u001b[0m\u001b[1;33m(\u001b[0m\u001b[0ms_\u001b[0m\u001b[1;33m,\u001b[0m \u001b[0mtau\u001b[0m\u001b[1;33m,\u001b[0m \u001b[0mcolor\u001b[0m\u001b[1;33m=\u001b[0m\u001b[1;34m'blue'\u001b[0m\u001b[1;33m,\u001b[0m \u001b[0mlw\u001b[0m\u001b[1;33m=\u001b[0m\u001b[1;36m2\u001b[0m\u001b[1;33m)\u001b[0m\u001b[1;33m;\u001b[0m\u001b[1;33m\u001b[0m\u001b[1;33m\u001b[0m\u001b[0m\n",
      "\u001b[1;31mNameError\u001b[0m: name 'plt' is not defined"
     ]
    }
   ],
   "source": [
    "_, (ax1) = plt.subplots(1, 1, figsize=(10,5))\n",
    "w_ = np.linspace(0,1, 100)\n",
    "s_ = np.linspace(-1,1, 100)\n",
    "tau = get_tau_s(w_, s_)\n",
    "ax1.plot(s_, tau, color='blue', lw=2);"
   ]
  },
  {
   "cell_type": "code",
   "execution_count": null,
   "metadata": {},
   "outputs": [],
   "source": []
  },
  {
   "cell_type": "code",
   "execution_count": 26,
   "metadata": {},
   "outputs": [],
   "source": [
    "w = sp.Symbol(r'w', real=True)\n",
    "s = sp.Symbol(r's', real = True)\n",
    "d_a, E_c = sp.symbols(r'd_a, E_c', nonnegative=True)\n",
    "f_t = sp.symbols(r'f_t', nonnegative=True)\n",
    "c_2 = sp.Symbol('c_2', nonnegative=True)\n",
    "c_1 = sp.Symbol('c_1', nonnegative=True)\n",
    "f_c = sp.Symbol('f_c', nonnegative =True)\n",
    "#G_f, L_c = sp.symbols('G_f, L_c', nonnegative = True)"
   ]
  },
  {
   "cell_type": "code",
   "execution_count": 27,
   "metadata": {},
   "outputs": [],
   "source": [
    "G_f = 0.028 * f_c ** 0.18 * d_a ** 0.32\n",
    "\n",
    "L_c = E_c * G_f / f_t ** 2\n",
    "\n",
    "w_cr = f_t / E_c * L_c\n",
    "\n",
    "eps_cp = w_cr / L_c\n",
    "\n",
    "eps_p = w / L_c\n",
    "\n",
    "f_co = 2 * f_t\n",
    "\n",
    "w_tc = 5.14 * G_f / f_t"
   ]
  },
  {
   "cell_type": "code",
   "execution_count": 28,
   "metadata": {},
   "outputs": [],
   "source": [
    "sig_w = sp.Piecewise(\n",
    "        (- f_c, w < - w_cr),\n",
    "        (-(f_co + (f_c - f_co) * sp.sqrt(1 - ((eps_cp - eps_p) / (eps_cp)) ** 2)), - w_cr < w ),\n",
    "        (- 2 * f_t, w == 0),\n",
    "        (E_c * eps_p, E_c * w / L_c <= f_t),\n",
    "        (f_t * (1 + ((c_1 * w)/(w_tc))**3) * sp.exp((-c_2* w)/(w_tc)) - (w/w_tc) * \\\n",
    "        (1 + c_1**3) * sp.exp(-c_2), w > w_cr)\n",
    "    )"
   ]
  },
  {
   "cell_type": "code",
   "execution_count": 29,
   "metadata": {},
   "outputs": [
    {
     "data": {
      "text/latex": [
       "$\\displaystyle \\begin{cases} - f_{c} & \\text{for}\\: w < - \\frac{0.028 d_{a}^{0.32} f_{c}^{0.18}}{f_{t}} \\\\- 2 f_{t} - 35.7142857142857 \\left(f_{c} - 2 f_{t}\\right) \\sqrt{- \\frac{E_{c}^{2} \\left(- \\frac{f_{t}^{2} w}{E_{c} d_{a}^{0.32} f_{c}^{0.18}} + \\frac{0.028 f_{t}}{E_{c}}\\right)^{2}}{f_{t}^{2}} + 0.000784} & \\text{for}\\: w > - \\frac{0.028 d_{a}^{0.32} f_{c}^{0.18}}{f_{t}} \\\\\\frac{35.7142857142857 f_{t}^{2} w}{d_{a}^{0.32} f_{c}^{0.18}} & \\text{for}\\: f_{t} \\geq \\frac{35.7142857142857 f_{t}^{2} w}{d_{a}^{0.32} f_{c}^{0.18}} \\\\- \\frac{6.94830461367426 f_{t} w \\left(c_{1}^{3} + 1\\right) e^{- c_{2}}}{d_{a}^{0.32} f_{c}^{0.18}} + f_{t} \\left(\\frac{335.456760731011 c_{1}^{3} f_{t}^{3} w^{3}}{d_{a}^{0.96} f_{c}^{0.54}} + 1\\right) e^{- \\frac{6.94830461367426 c_{2} f_{t} w}{d_{a}^{0.32} f_{c}^{0.18}}} & \\text{for}\\: w > \\frac{0.028 d_{a}^{0.32} f_{c}^{0.18}}{f_{t}} \\end{cases}$"
      ],
      "text/plain": [
       "Piecewise((-f_c, w < -0.028*d_a**0.32*f_c**0.18/f_t), (-2*f_t - 35.7142857142857*(f_c - 2*f_t)*sqrt(-E_c**2*(-d_a**(-0.32)*f_c**(-0.18)*f_t**2*w/E_c + 0.028*f_t/E_c)**2/f_t**2 + 0.000784), w > -0.028*d_a**0.32*f_c**0.18/f_t), (35.7142857142857*d_a**(-0.32)*f_c**(-0.18)*f_t**2*w, f_t >= 35.7142857142857*d_a**(-0.32)*f_c**(-0.18)*f_t**2*w), (-6.94830461367426*d_a**(-0.32)*f_c**(-0.18)*f_t*w*(c_1**3 + 1)*exp(-c_2) + f_t*(335.456760731011*c_1**3*d_a**(-0.96)*f_c**(-0.54)*f_t**3*w**3 + 1)*exp(-6.94830461367426*c_2*d_a**(-0.32)*f_c**(-0.18)*f_t*w), w > 0.028*d_a**0.32*f_c**0.18/f_t))"
      ]
     },
     "execution_count": 29,
     "metadata": {},
     "output_type": "execute_result"
    }
   ],
   "source": [
    "sig_w"
   ]
  },
  {
   "cell_type": "code",
   "execution_count": 30,
   "metadata": {},
   "outputs": [],
   "source": [
    "params = {\n",
    "    d_a : 22,\n",
    "    E_c : 28000,\n",
    "    f_t : 3,\n",
    "    c_2 : 6,\n",
    "    c_1 : 3,\n",
    "    f_c : 30\n",
    "}"
   ]
  },
  {
   "cell_type": "code",
   "execution_count": 31,
   "metadata": {},
   "outputs": [
    {
     "data": {
      "text/latex": [
       "$\\displaystyle \\begin{cases} -30 & \\text{for}\\: w < -0.0462907119566811 \\\\- 518.462537851205 \\sqrt{0.00214283001345642 - \\left(0.0462907119566811 - w\\right)^{2}} - 6 & \\text{for}\\: w > -0.0462907119566811 \\\\64.8078172314006 w & \\text{for}\\: 64.8078172314006 w \\leq 3 \\\\- \\frac{117.679564363114 w}{e^{6}} + 3 \\left(2004.43891704877 w^{3} + 1\\right) e^{- 25.2170495063816 w} & \\text{for}\\: w > 0.0462907119566811 \\end{cases}$"
      ],
      "text/plain": [
       "Piecewise((-30, w < -0.0462907119566811), (-518.462537851205*sqrt(0.00214283001345642 - (0.0462907119566811 - w)**2) - 6, w > -0.0462907119566811), (64.8078172314006*w, 64.8078172314006*w <= 3), (-117.679564363114*w*exp(-6) + 3*(2004.43891704877*w**3 + 1)*exp(-25.2170495063816*w), w > 0.0462907119566811))"
      ]
     },
     "execution_count": 31,
     "metadata": {},
     "output_type": "execute_result"
    }
   ],
   "source": [
    "get_sig_w = sp.lambdify((w), sig_w.subs(params), 'numpy')\n",
    "sig_w.subs(params)"
   ]
  },
  {
   "cell_type": "code",
   "execution_count": 32,
   "metadata": {},
   "outputs": [
    {
     "ename": "NameError",
     "evalue": "name 'plt' is not defined",
     "output_type": "error",
     "traceback": [
      "\u001b[1;31m---------------------------------------------------------------------------\u001b[0m",
      "\u001b[1;31mNameError\u001b[0m                                 Traceback (most recent call last)",
      "\u001b[1;32m<ipython-input-32-07e8da44fc10>\u001b[0m in \u001b[0;36m<module>\u001b[1;34m\u001b[0m\n\u001b[1;32m----> 1\u001b[1;33m \u001b[0m_\u001b[0m\u001b[1;33m,\u001b[0m \u001b[1;33m(\u001b[0m\u001b[0max1\u001b[0m\u001b[1;33m)\u001b[0m \u001b[1;33m=\u001b[0m \u001b[0mplt\u001b[0m\u001b[1;33m.\u001b[0m\u001b[0msubplots\u001b[0m\u001b[1;33m(\u001b[0m\u001b[1;36m1\u001b[0m\u001b[1;33m,\u001b[0m \u001b[1;36m1\u001b[0m\u001b[1;33m,\u001b[0m \u001b[0mfigsize\u001b[0m\u001b[1;33m=\u001b[0m\u001b[1;33m(\u001b[0m\u001b[1;36m10\u001b[0m\u001b[1;33m,\u001b[0m\u001b[1;36m5\u001b[0m\u001b[1;33m)\u001b[0m\u001b[1;33m)\u001b[0m\u001b[1;33m\u001b[0m\u001b[1;33m\u001b[0m\u001b[0m\n\u001b[0m\u001b[0;32m      2\u001b[0m \u001b[0mw_\u001b[0m \u001b[1;33m=\u001b[0m \u001b[0mnp\u001b[0m\u001b[1;33m.\u001b[0m\u001b[0mlinspace\u001b[0m\u001b[1;33m(\u001b[0m\u001b[1;33m-\u001b[0m\u001b[1;36m1\u001b[0m\u001b[1;33m,\u001b[0m\u001b[1;36m1\u001b[0m\u001b[1;33m,\u001b[0m \u001b[1;36m100\u001b[0m\u001b[1;33m)\u001b[0m\u001b[1;33m\u001b[0m\u001b[1;33m\u001b[0m\u001b[0m\n\u001b[0;32m      3\u001b[0m \u001b[0msig\u001b[0m \u001b[1;33m=\u001b[0m \u001b[0mget_sig_w\u001b[0m\u001b[1;33m(\u001b[0m\u001b[0mw_\u001b[0m\u001b[1;33m)\u001b[0m\u001b[1;33m\u001b[0m\u001b[1;33m\u001b[0m\u001b[0m\n\u001b[0;32m      4\u001b[0m \u001b[0max1\u001b[0m\u001b[1;33m.\u001b[0m\u001b[0mplot\u001b[0m\u001b[1;33m(\u001b[0m\u001b[0mw_\u001b[0m\u001b[1;33m,\u001b[0m \u001b[0msig\u001b[0m\u001b[1;33m,\u001b[0m \u001b[0mcolor\u001b[0m\u001b[1;33m=\u001b[0m\u001b[1;34m'blue'\u001b[0m\u001b[1;33m,\u001b[0m \u001b[0mlw\u001b[0m\u001b[1;33m=\u001b[0m\u001b[1;36m2\u001b[0m\u001b[1;33m)\u001b[0m\u001b[1;33m;\u001b[0m\u001b[1;33m\u001b[0m\u001b[1;33m\u001b[0m\u001b[0m\n",
      "\u001b[1;31mNameError\u001b[0m: name 'plt' is not defined"
     ]
    }
   ],
   "source": [
    "_, (ax1) = plt.subplots(1, 1, figsize=(10,5))\n",
    "w_ = np.linspace(-1,1, 100)\n",
    "sig = get_sig_w(w_)\n",
    "ax1.plot(w_, sig, color='blue', lw=2);"
   ]
  },
  {
   "cell_type": "code",
   "execution_count": 33,
   "metadata": {},
   "outputs": [
    {
     "ename": "NameError",
     "evalue": "name 'sig' is not defined",
     "output_type": "error",
     "traceback": [
      "\u001b[1;31m---------------------------------------------------------------------------\u001b[0m",
      "\u001b[1;31mNameError\u001b[0m                                 Traceback (most recent call last)",
      "\u001b[1;32m<ipython-input-33-39269b411a08>\u001b[0m in \u001b[0;36m<module>\u001b[1;34m\u001b[0m\n\u001b[1;32m----> 1\u001b[1;33m \u001b[0mprint\u001b[0m\u001b[1;33m(\u001b[0m\u001b[0msig\u001b[0m\u001b[1;33m)\u001b[0m\u001b[1;33m\u001b[0m\u001b[1;33m\u001b[0m\u001b[0m\n\u001b[0m",
      "\u001b[1;31mNameError\u001b[0m: name 'sig' is not defined"
     ]
    }
   ],
   "source": [
    "print(sig)"
   ]
  },
  {
   "cell_type": "code",
   "execution_count": 34,
   "metadata": {},
   "outputs": [
    {
     "data": {
      "text/latex": [
       "$\\displaystyle \\begin{cases} - f_{c} & \\text{for}\\: f_{c} < - \\frac{35.7142857142857 f_{t}^{2} w}{d_{a}^{0.32} f_{c}^{0.18}} \\\\- 1.25 f_{c} \\left(- \\frac{35714.2857142857 f_{t}^{2} w}{E_{c} d_{a}^{0.32} f_{c}^{0.18}} - \\frac{318877551.020408 f_{t}^{4} w^{2}}{E_{c}^{2} d_{a}^{0.64} f_{c}^{0.36}}\\right) & \\text{for}\\: w \\leq \\frac{0.028 d_{a}^{0.32} f_{c}^{0.18}}{f_{t}} \\\\- \\frac{6.94830461367426 f_{t} w \\left(c_{1}^{3} + 1\\right) e^{- c_{2}}}{d_{a}^{0.32} f_{c}^{0.18}} + f_{t} \\left(\\frac{335.456760731011 c_{1}^{3} f_{t}^{3} w^{3}}{d_{a}^{0.96} f_{c}^{0.54}} + 1\\right) e^{- \\frac{6.94830461367426 c_{2} f_{t} w}{d_{a}^{0.32} f_{c}^{0.18}}} & \\text{otherwise} \\end{cases}$"
      ],
      "text/plain": [
       "Piecewise((-f_c, f_c < -35.7142857142857*d_a**(-0.32)*f_c**(-0.18)*f_t**2*w), (-1.25*f_c*(-35714.2857142857*d_a**(-0.32)*f_c**(-0.18)*f_t**2*w/E_c - 318877551.020408*d_a**(-0.64)*f_c**(-0.36)*f_t**4*w**2/E_c**2), w <= 0.028*d_a**0.32*f_c**0.18/f_t), (-6.94830461367426*d_a**(-0.32)*f_c**(-0.18)*f_t*w*(c_1**3 + 1)*exp(-c_2) + f_t*(335.456760731011*c_1**3*d_a**(-0.96)*f_c**(-0.54)*f_t**3*w**3 + 1)*exp(-6.94830461367426*c_2*d_a**(-0.32)*f_c**(-0.18)*f_t*w), True))"
      ]
     },
     "execution_count": 34,
     "metadata": {},
     "output_type": "execute_result"
    }
   ],
   "source": [
    "f_ce = f_c * (1 / (0.8))\n",
    "sig_w = sp.Piecewise(\n",
    "        (- f_c, E_c * w / L_c < - f_c),\n",
    "        (- f_ce * (2 * (eps_p / -0.002) - (eps_p / -0.002) ** 2), w <= w_cr),\n",
    "        (f_t * (1 + ((c_1 * w)/(w_tc))**3) * sp.exp((-c_2* w)/(w_tc)) - (w/w_tc) * \\\n",
    "        (1 + c_1**3) * sp.exp(-c_2), w > w_cr)\n",
    "    )\n",
    "sig_w"
   ]
  },
  {
   "cell_type": "code",
   "execution_count": 35,
   "metadata": {},
   "outputs": [
    {
     "data": {
      "text/latex": [
       "$\\displaystyle \\begin{cases} -30 & \\text{for}\\: 64.8078172314006 w < -30 \\\\50.2238501390939 w^{2} + 86.7961837920544 w & \\text{for}\\: w \\leq 0.0462907119566811 \\\\- \\frac{117.679564363114 w}{e^{6}} + 3 \\left(2004.43891704877 w^{3} + 1\\right) e^{- 25.2170495063816 w} & \\text{otherwise} \\end{cases}$"
      ],
      "text/plain": [
       "Piecewise((-30, 64.8078172314006*w < -30), (50.2238501390939*w**2 + 86.7961837920544*w, w <= 0.0462907119566811), (-117.679564363114*w*exp(-6) + 3*(2004.43891704877*w**3 + 1)*exp(-25.2170495063816*w), True))"
      ]
     },
     "execution_count": 35,
     "metadata": {},
     "output_type": "execute_result"
    }
   ],
   "source": [
    "get_sig_w = sp.lambdify((w), sig_w.subs(params), 'numpy')\n",
    "sig_w.subs(params)"
   ]
  },
  {
   "cell_type": "code",
   "execution_count": 36,
   "metadata": {},
   "outputs": [
    {
     "ename": "NameError",
     "evalue": "name 'plt' is not defined",
     "output_type": "error",
     "traceback": [
      "\u001b[1;31m---------------------------------------------------------------------------\u001b[0m",
      "\u001b[1;31mNameError\u001b[0m                                 Traceback (most recent call last)",
      "\u001b[1;32m<ipython-input-36-07e8da44fc10>\u001b[0m in \u001b[0;36m<module>\u001b[1;34m\u001b[0m\n\u001b[1;32m----> 1\u001b[1;33m \u001b[0m_\u001b[0m\u001b[1;33m,\u001b[0m \u001b[1;33m(\u001b[0m\u001b[0max1\u001b[0m\u001b[1;33m)\u001b[0m \u001b[1;33m=\u001b[0m \u001b[0mplt\u001b[0m\u001b[1;33m.\u001b[0m\u001b[0msubplots\u001b[0m\u001b[1;33m(\u001b[0m\u001b[1;36m1\u001b[0m\u001b[1;33m,\u001b[0m \u001b[1;36m1\u001b[0m\u001b[1;33m,\u001b[0m \u001b[0mfigsize\u001b[0m\u001b[1;33m=\u001b[0m\u001b[1;33m(\u001b[0m\u001b[1;36m10\u001b[0m\u001b[1;33m,\u001b[0m\u001b[1;36m5\u001b[0m\u001b[1;33m)\u001b[0m\u001b[1;33m)\u001b[0m\u001b[1;33m\u001b[0m\u001b[1;33m\u001b[0m\u001b[0m\n\u001b[0m\u001b[0;32m      2\u001b[0m \u001b[0mw_\u001b[0m \u001b[1;33m=\u001b[0m \u001b[0mnp\u001b[0m\u001b[1;33m.\u001b[0m\u001b[0mlinspace\u001b[0m\u001b[1;33m(\u001b[0m\u001b[1;33m-\u001b[0m\u001b[1;36m1\u001b[0m\u001b[1;33m,\u001b[0m\u001b[1;36m1\u001b[0m\u001b[1;33m,\u001b[0m \u001b[1;36m100\u001b[0m\u001b[1;33m)\u001b[0m\u001b[1;33m\u001b[0m\u001b[1;33m\u001b[0m\u001b[0m\n\u001b[0;32m      3\u001b[0m \u001b[0msig\u001b[0m \u001b[1;33m=\u001b[0m \u001b[0mget_sig_w\u001b[0m\u001b[1;33m(\u001b[0m\u001b[0mw_\u001b[0m\u001b[1;33m)\u001b[0m\u001b[1;33m\u001b[0m\u001b[1;33m\u001b[0m\u001b[0m\n\u001b[0;32m      4\u001b[0m \u001b[0max1\u001b[0m\u001b[1;33m.\u001b[0m\u001b[0mplot\u001b[0m\u001b[1;33m(\u001b[0m\u001b[0mw_\u001b[0m\u001b[1;33m,\u001b[0m \u001b[0msig\u001b[0m\u001b[1;33m,\u001b[0m \u001b[0mcolor\u001b[0m\u001b[1;33m=\u001b[0m\u001b[1;34m'blue'\u001b[0m\u001b[1;33m,\u001b[0m \u001b[0mlw\u001b[0m\u001b[1;33m=\u001b[0m\u001b[1;36m2\u001b[0m\u001b[1;33m)\u001b[0m\u001b[1;33m;\u001b[0m\u001b[1;33m\u001b[0m\u001b[1;33m\u001b[0m\u001b[0m\n",
      "\u001b[1;31mNameError\u001b[0m: name 'plt' is not defined"
     ]
    }
   ],
   "source": [
    "_, (ax1) = plt.subplots(1, 1, figsize=(10,5))\n",
    "w_ = np.linspace(-1,1, 100)\n",
    "sig = get_sig_w(w_)\n",
    "ax1.plot(w_, sig, color='blue', lw=2);"
   ]
  },
  {
   "cell_type": "code",
   "execution_count": 37,
   "metadata": {},
   "outputs": [
    {
     "ename": "NameError",
     "evalue": "name 'sig' is not defined",
     "output_type": "error",
     "traceback": [
      "\u001b[1;31m---------------------------------------------------------------------------\u001b[0m",
      "\u001b[1;31mNameError\u001b[0m                                 Traceback (most recent call last)",
      "\u001b[1;32m<ipython-input-37-a9cbb9490f6b>\u001b[0m in \u001b[0;36m<module>\u001b[1;34m\u001b[0m\n\u001b[1;32m----> 1\u001b[1;33m \u001b[0msig\u001b[0m\u001b[1;33m\u001b[0m\u001b[1;33m\u001b[0m\u001b[0m\n\u001b[0m",
      "\u001b[1;31mNameError\u001b[0m: name 'sig' is not defined"
     ]
    }
   ],
   "source": [
    "sig"
   ]
  },
  {
   "cell_type": "code",
   "execution_count": 38,
   "metadata": {},
   "outputs": [
    {
     "data": {
      "text/plain": [
       "array([-4.        , -3.95959596, -3.91919192, -3.87878788, -3.83838384,\n",
       "       -3.7979798 , -3.75757576, -3.71717172, -3.67676768, -3.63636364,\n",
       "       -3.5959596 , -3.55555556, -3.51515152, -3.47474747, -3.43434343,\n",
       "       -3.39393939, -3.35353535, -3.31313131, -3.27272727, -3.23232323,\n",
       "       -3.19191919, -3.15151515, -3.11111111, -3.07070707, -3.03030303,\n",
       "       -2.98989899, -2.94949495, -2.90909091, -2.86868687, -2.82828283,\n",
       "       -2.78787879, -2.74747475, -2.70707071, -2.66666667, -2.62626263,\n",
       "       -2.58585859, -2.54545455, -2.50505051, -2.46464646, -2.42424242,\n",
       "       -2.38383838, -2.34343434, -2.3030303 , -2.26262626, -2.22222222,\n",
       "       -2.18181818, -2.14141414, -2.1010101 , -2.06060606, -2.02020202,\n",
       "       -1.97979798, -1.93939394, -1.8989899 , -1.85858586, -1.81818182,\n",
       "       -1.77777778, -1.73737374, -1.6969697 , -1.65656566, -1.61616162,\n",
       "       -1.57575758, -1.53535354, -1.49494949, -1.45454545, -1.41414141,\n",
       "       -1.37373737, -1.33333333, -1.29292929, -1.25252525, -1.21212121,\n",
       "       -1.17171717, -1.13131313, -1.09090909, -1.05050505, -1.01010101,\n",
       "       -0.96969697, -0.92929293, -0.88888889, -0.84848485, -0.80808081,\n",
       "       -0.76767677, -0.72727273, -0.68686869, -0.64646465, -0.60606061,\n",
       "       -0.56565657, -0.52525253, -0.48484848, -0.44444444, -0.4040404 ,\n",
       "       -0.36363636, -0.32323232, -0.28282828, -0.24242424, -0.2020202 ,\n",
       "       -0.16161616, -0.12121212, -0.08080808, -0.04040404,  0.        ])"
      ]
     },
     "execution_count": 38,
     "metadata": {},
     "output_type": "execute_result"
    }
   ],
   "source": [
    "w_"
   ]
  },
  {
   "cell_type": "code",
   "execution_count": 39,
   "metadata": {},
   "outputs": [
    {
     "data": {
      "text/latex": [
       "$\\displaystyle \\frac{0.25 f_{c} s \\left(- \\sqrt{2} \\sqrt{\\frac{w}{d_{a}}} + 1\\right) \\left(\\left(2.44 - \\frac{39.04}{f_{c}}\\right) \\left|{\\frac{s}{w}}\\right|^{3} + \\frac{9.8}{f_{c}}\\right)}{w \\left(\\frac{s^{4} \\left(2.44 - \\frac{39.04}{f_{c}}\\right)}{w^{4}} + 1\\right)}$"
      ],
      "text/plain": [
       "0.25*f_c*s*(-sqrt(2)*sqrt(w/d_a) + 1)*((2.44 - 39.04/f_c)*Abs(s/w)**3 + 9.8/f_c)/(w*(s**4*(2.44 - 39.04/f_c)/w**4 + 1))"
      ]
     },
     "execution_count": 39,
     "metadata": {},
     "output_type": "execute_result"
    }
   ],
   "source": [
    "r = s / w\n",
    "\n",
    "tau_0 = 0.25 * f_c\n",
    "\n",
    "a_3 = 2.45 / tau_0\n",
    "\n",
    "a_4 = 2.44 * (1 - (4 / tau_0))\n",
    "tau_s = tau_0 * (1 - sp.sqrt((2 * w) / d_a)) * r * (a_3 + (a_4 * sp.Abs(r) ** 3)) / (1 + (a_4 * r ** 4))\n",
    "tau_s"
   ]
  },
  {
   "cell_type": "code",
   "execution_count": 40,
   "metadata": {},
   "outputs": [
    {
     "data": {
      "text/latex": [
       "$\\displaystyle \\frac{7.5 s \\left(- \\frac{\\sqrt{11} \\sqrt{w}}{11} + 1\\right) \\left(1.13866666666667 \\left|{\\frac{s}{w}}\\right|^{3} + 0.326666666666667\\right)}{w \\left(\\frac{1.13866666666667 s^{4}}{w^{4}} + 1\\right)}$"
      ],
      "text/plain": [
       "7.5*s*(-sqrt(11)*sqrt(w)/11 + 1)*(1.13866666666667*Abs(s/w)**3 + 0.326666666666667)/(w*(1.13866666666667*s**4/w**4 + 1))"
      ]
     },
     "execution_count": 40,
     "metadata": {},
     "output_type": "execute_result"
    }
   ],
   "source": [
    "get_tau_s = sp.lambdify((w,s), tau_s.subs(params), 'numpy')\n",
    "tau_s.subs(params)"
   ]
  },
  {
   "cell_type": "code",
   "execution_count": 41,
   "metadata": {},
   "outputs": [
    {
     "ename": "NameError",
     "evalue": "name 'plt' is not defined",
     "output_type": "error",
     "traceback": [
      "\u001b[1;31m---------------------------------------------------------------------------\u001b[0m",
      "\u001b[1;31mNameError\u001b[0m                                 Traceback (most recent call last)",
      "\u001b[1;32m<ipython-input-41-aa919e3e0264>\u001b[0m in \u001b[0;36m<module>\u001b[1;34m\u001b[0m\n\u001b[1;32m----> 1\u001b[1;33m \u001b[0m_\u001b[0m\u001b[1;33m,\u001b[0m \u001b[1;33m(\u001b[0m\u001b[0max1\u001b[0m\u001b[1;33m)\u001b[0m \u001b[1;33m=\u001b[0m \u001b[0mplt\u001b[0m\u001b[1;33m.\u001b[0m\u001b[0msubplots\u001b[0m\u001b[1;33m(\u001b[0m\u001b[1;36m1\u001b[0m\u001b[1;33m,\u001b[0m \u001b[1;36m1\u001b[0m\u001b[1;33m,\u001b[0m \u001b[0mfigsize\u001b[0m\u001b[1;33m=\u001b[0m\u001b[1;33m(\u001b[0m\u001b[1;36m10\u001b[0m\u001b[1;33m,\u001b[0m\u001b[1;36m5\u001b[0m\u001b[1;33m)\u001b[0m\u001b[1;33m)\u001b[0m\u001b[1;33m\u001b[0m\u001b[1;33m\u001b[0m\u001b[0m\n\u001b[0m\u001b[0;32m      2\u001b[0m \u001b[0mw_\u001b[0m \u001b[1;33m=\u001b[0m \u001b[0mnp\u001b[0m\u001b[1;33m.\u001b[0m\u001b[0mlinspace\u001b[0m\u001b[1;33m(\u001b[0m\u001b[1;36m0\u001b[0m\u001b[1;33m,\u001b[0m\u001b[1;36m1\u001b[0m\u001b[1;33m,\u001b[0m \u001b[1;36m100\u001b[0m\u001b[1;33m)\u001b[0m\u001b[1;33m\u001b[0m\u001b[1;33m\u001b[0m\u001b[0m\n\u001b[0;32m      3\u001b[0m \u001b[0ms_\u001b[0m \u001b[1;33m=\u001b[0m \u001b[0mnp\u001b[0m\u001b[1;33m.\u001b[0m\u001b[0mlinspace\u001b[0m\u001b[1;33m(\u001b[0m\u001b[1;33m-\u001b[0m\u001b[1;36m1\u001b[0m\u001b[1;33m,\u001b[0m\u001b[1;36m1\u001b[0m\u001b[1;33m,\u001b[0m \u001b[1;36m100\u001b[0m\u001b[1;33m)\u001b[0m\u001b[1;33m\u001b[0m\u001b[1;33m\u001b[0m\u001b[0m\n\u001b[0;32m      4\u001b[0m \u001b[0mtau\u001b[0m \u001b[1;33m=\u001b[0m \u001b[0mget_tau_s\u001b[0m\u001b[1;33m(\u001b[0m\u001b[0mw_\u001b[0m\u001b[1;33m,\u001b[0m \u001b[0ms_\u001b[0m\u001b[1;33m)\u001b[0m\u001b[1;33m\u001b[0m\u001b[1;33m\u001b[0m\u001b[0m\n\u001b[0;32m      5\u001b[0m \u001b[0max1\u001b[0m\u001b[1;33m.\u001b[0m\u001b[0mplot\u001b[0m\u001b[1;33m(\u001b[0m\u001b[0ms_\u001b[0m\u001b[1;33m,\u001b[0m \u001b[0mtau\u001b[0m\u001b[1;33m,\u001b[0m \u001b[0mcolor\u001b[0m\u001b[1;33m=\u001b[0m\u001b[1;34m'blue'\u001b[0m\u001b[1;33m,\u001b[0m \u001b[0mlw\u001b[0m\u001b[1;33m=\u001b[0m\u001b[1;36m2\u001b[0m\u001b[1;33m)\u001b[0m\u001b[1;33m;\u001b[0m\u001b[1;33m\u001b[0m\u001b[1;33m\u001b[0m\u001b[0m\n",
      "\u001b[1;31mNameError\u001b[0m: name 'plt' is not defined"
     ]
    }
   ],
   "source": [
    "_, (ax1) = plt.subplots(1, 1, figsize=(10,5))\n",
    "w_ = np.linspace(0,1, 100)\n",
    "s_ = np.linspace(-1,1, 100)\n",
    "tau = get_tau_s(w_, s_)\n",
    "ax1.plot(s_, tau, color='blue', lw=2);"
   ]
  },
  {
   "cell_type": "code",
   "execution_count": 42,
   "metadata": {},
   "outputs": [
    {
     "data": {
      "text/latex": [
       "$\\displaystyle 2 f_{t} + \\left(f_{c} - 2 f_{t}\\right) \\sqrt{- \\frac{L_{c}^{2} \\left(- \\frac{w}{L_{c}} + \\frac{w_{cr}}{L_{c}}\\right)^{2}}{w_{cr}^{2}} + 1}$"
      ],
      "text/plain": [
       "2*f_t + (f_c - 2*f_t)*sqrt(-L_c**2*(-w/L_c + w_cr/L_c)**2/w_cr**2 + 1)"
      ]
     },
     "execution_count": 42,
     "metadata": {},
     "output_type": "execute_result"
    }
   ],
   "source": [
    "import sympy as sp\n",
    "w_cr, w, L_c = sp.symbols('w_cr, w, L_c')\n",
    "eps_cp = w_cr / L_c\n",
    "eps_p = w / L_c\n",
    "sigma_ = 2 *f_t + (f_c - 2 * f_t) * sp.sqrt(1 - ((eps_cp - eps_p) / (eps_cp))**2)\n",
    "sigma_"
   ]
  },
  {
   "cell_type": "code",
   "execution_count": 43,
   "metadata": {},
   "outputs": [
    {
     "data": {
      "text/latex": [
       "$\\displaystyle 2 f_{t} + \\sqrt{1 - \\frac{\\left(w_{cr} - \\left|{w}\\right|\\right)^{2}}{w_{cr}^{2}}} \\left(f_{c} - 2 f_{t}\\right)$"
      ],
      "text/plain": [
       "2*f_t + sqrt(1 - (w_cr - Abs(w))**2/w_cr**2)*(f_c - 2*f_t)"
      ]
     },
     "execution_count": 43,
     "metadata": {},
     "output_type": "execute_result"
    }
   ],
   "source": [
    "sig_ = sp.simplify(sigma_)\n",
    "sig_w = 2 * f_t + (f_c - 2 * f_t) * sp.sqrt(1 - ((w_cr - sp.Abs(w)) / (w_cr))**2)\n",
    "sig_w"
   ]
  },
  {
   "cell_type": "code",
   "execution_count": 44,
   "metadata": {},
   "outputs": [
    {
     "data": {
      "text/latex": [
       "$\\displaystyle \\frac{\\left(f_{c} - 2 f_{t}\\right) \\left(w_{cr} - \\left|{w}\\right|\\right) \\left(\\operatorname{re}{\\left(w\\right)} \\frac{d}{d w} \\operatorname{re}{\\left(w\\right)} + \\operatorname{im}{\\left(w\\right)} \\frac{d}{d w} \\operatorname{im}{\\left(w\\right)}\\right) \\operatorname{sign}{\\left(w \\right)}}{w w_{cr}^{2} \\sqrt{1 - \\frac{\\left(w_{cr} - \\left|{w}\\right|\\right)^{2}}{w_{cr}^{2}}}}$"
      ],
      "text/plain": [
       "(f_c - 2*f_t)*(w_cr - Abs(w))*(re(w)*Derivative(re(w), w) + im(w)*Derivative(im(w), w))*sign(w)/(w*w_cr**2*sqrt(1 - (w_cr - Abs(w))**2/w_cr**2))"
      ]
     },
     "execution_count": 44,
     "metadata": {},
     "output_type": "execute_result"
    }
   ],
   "source": [
    "sig_w.diff(w)"
   ]
  },
  {
   "cell_type": "code",
   "execution_count": 45,
   "metadata": {},
   "outputs": [],
   "source": [
    "params = {\n",
    "    f_t : 3,\n",
    "    f_c : -30,\n",
    "    w_cr : 0.1\n",
    "}"
   ]
  },
  {
   "cell_type": "code",
   "execution_count": 46,
   "metadata": {},
   "outputs": [
    {
     "data": {
      "text/plain": [
       "<function _lambdifygenerated(w)>"
      ]
     },
     "execution_count": 46,
     "metadata": {},
     "output_type": "execute_result"
    }
   ],
   "source": [
    "get_sig_val = sp.lambdify(w, sig_w.subs(params), 'numpy')\n",
    "get_sig_val"
   ]
  },
  {
   "cell_type": "code",
   "execution_count": 47,
   "metadata": {},
   "outputs": [
    {
     "ename": "NameError",
     "evalue": "name 'plt' is not defined",
     "output_type": "error",
     "traceback": [
      "\u001b[1;31m---------------------------------------------------------------------------\u001b[0m",
      "\u001b[1;31mNameError\u001b[0m                                 Traceback (most recent call last)",
      "\u001b[1;32m<ipython-input-47-0d31f2d6505e>\u001b[0m in \u001b[0;36m<module>\u001b[1;34m\u001b[0m\n\u001b[1;32m----> 1\u001b[1;33m \u001b[0m_\u001b[0m\u001b[1;33m,\u001b[0m \u001b[0max\u001b[0m \u001b[1;33m=\u001b[0m \u001b[0mplt\u001b[0m\u001b[1;33m.\u001b[0m\u001b[0msubplots\u001b[0m\u001b[1;33m(\u001b[0m\u001b[1;36m1\u001b[0m\u001b[1;33m,\u001b[0m\u001b[1;36m1\u001b[0m\u001b[1;33m)\u001b[0m\u001b[1;33m\u001b[0m\u001b[1;33m\u001b[0m\u001b[0m\n\u001b[0m\u001b[0;32m      2\u001b[0m \u001b[0mw_\u001b[0m \u001b[1;33m=\u001b[0m \u001b[0mnp\u001b[0m\u001b[1;33m.\u001b[0m\u001b[0mlinspace\u001b[0m\u001b[1;33m(\u001b[0m\u001b[1;33m-\u001b[0m\u001b[1;36m0.1\u001b[0m\u001b[1;33m,\u001b[0m \u001b[1;36m0\u001b[0m\u001b[1;33m,\u001b[0m \u001b[1;36m100\u001b[0m\u001b[1;33m)\u001b[0m\u001b[1;33m\u001b[0m\u001b[1;33m\u001b[0m\u001b[0m\n\u001b[0;32m      3\u001b[0m \u001b[0msig_val_\u001b[0m \u001b[1;33m=\u001b[0m \u001b[0mget_sig_val\u001b[0m\u001b[1;33m(\u001b[0m\u001b[0mw_\u001b[0m\u001b[1;33m)\u001b[0m\u001b[1;33m\u001b[0m\u001b[1;33m\u001b[0m\u001b[0m\n\u001b[0;32m      4\u001b[0m \u001b[0max\u001b[0m\u001b[1;33m.\u001b[0m\u001b[0mplot\u001b[0m\u001b[1;33m(\u001b[0m\u001b[0mw_\u001b[0m\u001b[1;33m,\u001b[0m \u001b[0msig_val_\u001b[0m\u001b[1;33m)\u001b[0m\u001b[1;33m\u001b[0m\u001b[1;33m\u001b[0m\u001b[0m\n",
      "\u001b[1;31mNameError\u001b[0m: name 'plt' is not defined"
     ]
    }
   ],
   "source": [
    "_, ax = plt.subplots(1,1)\n",
    "w_ = np.linspace(-0.1, 0, 100)\n",
    "sig_val_ = get_sig_val(w_)\n",
    "ax.plot(w_, sig_val_)"
   ]
  },
  {
   "cell_type": "code",
   "execution_count": 48,
   "metadata": {},
   "outputs": [
    {
     "data": {
      "text/latex": [
       "$\\displaystyle \\frac{E_{c} w}{L}$"
      ],
      "text/plain": [
       "E_c*w/L"
      ]
     },
     "execution_count": 48,
     "metadata": {},
     "output_type": "execute_result"
    }
   ],
   "source": [
    "E_c, L, w = sp.symbols('E_c, L, w')\n",
    "sig_w = E_c * w / L\n",
    "sig_w"
   ]
  },
  {
   "cell_type": "code",
   "execution_count": 49,
   "metadata": {},
   "outputs": [],
   "source": [
    "params = {\n",
    "    E_c : 28000,\n",
    "    L : 20000\n",
    "}"
   ]
  },
  {
   "cell_type": "code",
   "execution_count": 50,
   "metadata": {},
   "outputs": [
    {
     "data": {
      "text/plain": [
       "<function _lambdifygenerated(w)>"
      ]
     },
     "execution_count": 50,
     "metadata": {},
     "output_type": "execute_result"
    }
   ],
   "source": [
    "get_sig_w = sp.lambdify((w), sig_w.subs(params), 'numpy')\n",
    "get_sig_w"
   ]
  },
  {
   "cell_type": "code",
   "execution_count": 51,
   "metadata": {},
   "outputs": [
    {
     "ename": "NameError",
     "evalue": "name 'plt' is not defined",
     "output_type": "error",
     "traceback": [
      "\u001b[1;31m---------------------------------------------------------------------------\u001b[0m",
      "\u001b[1;31mNameError\u001b[0m                                 Traceback (most recent call last)",
      "\u001b[1;32m<ipython-input-51-60f464d49e9c>\u001b[0m in \u001b[0;36m<module>\u001b[1;34m\u001b[0m\n\u001b[1;32m----> 1\u001b[1;33m \u001b[0m_\u001b[0m\u001b[1;33m,\u001b[0m \u001b[0max\u001b[0m \u001b[1;33m=\u001b[0m \u001b[0mplt\u001b[0m\u001b[1;33m.\u001b[0m\u001b[0msubplots\u001b[0m\u001b[1;33m(\u001b[0m\u001b[1;36m1\u001b[0m\u001b[1;33m,\u001b[0m\u001b[1;36m1\u001b[0m\u001b[1;33m)\u001b[0m\u001b[1;33m\u001b[0m\u001b[1;33m\u001b[0m\u001b[0m\n\u001b[0m\u001b[0;32m      2\u001b[0m \u001b[0mw_1\u001b[0m \u001b[1;33m=\u001b[0m \u001b[0mnp\u001b[0m\u001b[1;33m.\u001b[0m\u001b[0mlinspace\u001b[0m\u001b[1;33m(\u001b[0m\u001b[1;36m0\u001b[0m\u001b[1;33m,\u001b[0m \u001b[1;36m0.1\u001b[0m\u001b[1;33m,\u001b[0m \u001b[1;36m100\u001b[0m\u001b[1;33m)\u001b[0m\u001b[1;33m\u001b[0m\u001b[1;33m\u001b[0m\u001b[0m\n\u001b[0;32m      3\u001b[0m \u001b[0msig_val_\u001b[0m \u001b[1;33m=\u001b[0m \u001b[0mget_sig_w\u001b[0m\u001b[1;33m(\u001b[0m\u001b[0mw_1\u001b[0m\u001b[1;33m)\u001b[0m\u001b[1;33m\u001b[0m\u001b[1;33m\u001b[0m\u001b[0m\n\u001b[0;32m      4\u001b[0m \u001b[0max\u001b[0m\u001b[1;33m.\u001b[0m\u001b[0mplot\u001b[0m\u001b[1;33m(\u001b[0m\u001b[0mw_1\u001b[0m\u001b[1;33m,\u001b[0m \u001b[0msig_val_\u001b[0m\u001b[1;33m)\u001b[0m\u001b[1;33m\u001b[0m\u001b[1;33m\u001b[0m\u001b[0m\n",
      "\u001b[1;31mNameError\u001b[0m: name 'plt' is not defined"
     ]
    }
   ],
   "source": [
    "_, ax = plt.subplots(1,1)\n",
    "w_1 = np.linspace(0, 0.1, 100)\n",
    "sig_val_ = get_sig_w(w_1)\n",
    "ax.plot(w_1, sig_val_)"
   ]
  },
  {
   "cell_type": "code",
   "execution_count": 52,
   "metadata": {},
   "outputs": [],
   "source": [
    "f_t = sp.symbols(r'f_t', nonnegative=True)\n",
    "c_2 = sp.Symbol('c_2', nonnegative=True)\n",
    "c_1 = sp.Symbol('c_1', nonnegative=True)\n",
    "f_c = sp.Symbol('f_c', nonnegative =True)\n",
    "G_f, L_c = sp.symbols('G_f, L_c', nonnegative = True)"
   ]
  },
  {
   "cell_type": "code",
   "execution_count": 53,
   "metadata": {},
   "outputs": [
    {
     "data": {
      "text/latex": [
       "$\\displaystyle f_{t} \\left(1 + \\frac{0.00736394681156715 c_{1}^{3} f_{t}^{3} w^{3}}{G_{f}^{3}}\\right) e^{- \\frac{0.194552529182879 c_{2} f_{t} w}{G_{f}}} - \\frac{0.194552529182879 f_{t} w \\left(c_{1}^{3} + 1\\right) e^{- c_{2}}}{G_{f}}$"
      ],
      "text/plain": [
       "f_t*(1 + 0.00736394681156715*c_1**3*f_t**3*w**3/G_f**3)*exp(-0.194552529182879*c_2*f_t*w/G_f) - 0.194552529182879*f_t*w*(c_1**3 + 1)*exp(-c_2)/G_f"
      ]
     },
     "execution_count": 53,
     "metadata": {},
     "output_type": "execute_result"
    }
   ],
   "source": [
    "G_f, f_t = sp.symbols('G_f, f_t')\n",
    "w_tc = 5.14 * G_f/f_t\n",
    "sigma_t = f_t * (1 + ((c_1 * w)/(w_tc))**3) * sp.exp((-c_2* w)/(w_tc)) - (w/w_tc) * (1 + c_1**3) * sp.exp(-c_2)\n",
    "sigma_t"
   ]
  },
  {
   "cell_type": "code",
   "execution_count": 54,
   "metadata": {},
   "outputs": [],
   "source": [
    "params = {\n",
    "    c_1 : 3,\n",
    "    c_2 : 6.93,\n",
    "    G_f : 0.5,\n",
    "    f_t : 3\n",
    "}"
   ]
  },
  {
   "cell_type": "code",
   "execution_count": 55,
   "metadata": {},
   "outputs": [
    {
     "data": {
      "text/latex": [
       "$\\displaystyle - 0.0319657871382152 w + 3 \\left(42.9465378050596 w^{3} + 1\\right) e^{- 8.08949416342412 w}$"
      ],
      "text/plain": [
       "-0.0319657871382152*w + 3*(42.9465378050596*w**3 + 1)*exp(-8.08949416342412*w)"
      ]
     },
     "execution_count": 55,
     "metadata": {},
     "output_type": "execute_result"
    }
   ],
   "source": [
    "get_sigma_t = sp.lambdify(w, sigma_t.subs(params))\n",
    "sigma_t.subs(params)"
   ]
  },
  {
   "cell_type": "code",
   "execution_count": 56,
   "metadata": {},
   "outputs": [
    {
     "ename": "NameError",
     "evalue": "name 'plt' is not defined",
     "output_type": "error",
     "traceback": [
      "\u001b[1;31m---------------------------------------------------------------------------\u001b[0m",
      "\u001b[1;31mNameError\u001b[0m                                 Traceback (most recent call last)",
      "\u001b[1;32m<ipython-input-56-81464408bc10>\u001b[0m in \u001b[0;36m<module>\u001b[1;34m\u001b[0m\n\u001b[1;32m----> 1\u001b[1;33m \u001b[0m_\u001b[0m\u001b[1;33m,\u001b[0m \u001b[0max\u001b[0m \u001b[1;33m=\u001b[0m \u001b[0mplt\u001b[0m\u001b[1;33m.\u001b[0m\u001b[0msubplots\u001b[0m\u001b[1;33m(\u001b[0m\u001b[1;36m1\u001b[0m\u001b[1;33m,\u001b[0m\u001b[1;36m1\u001b[0m\u001b[1;33m)\u001b[0m\u001b[1;33m\u001b[0m\u001b[1;33m\u001b[0m\u001b[0m\n\u001b[0m\u001b[0;32m      2\u001b[0m \u001b[0mw_\u001b[0m \u001b[1;33m=\u001b[0m \u001b[0mnp\u001b[0m\u001b[1;33m.\u001b[0m\u001b[0mlinspace\u001b[0m\u001b[1;33m(\u001b[0m\u001b[1;36m0.1\u001b[0m\u001b[1;33m,\u001b[0m \u001b[1;36m0.85\u001b[0m\u001b[1;33m,\u001b[0m \u001b[1;36m100\u001b[0m\u001b[1;33m)\u001b[0m\u001b[1;33m\u001b[0m\u001b[1;33m\u001b[0m\u001b[0m\n\u001b[0;32m      3\u001b[0m \u001b[0msig_t\u001b[0m \u001b[1;33m=\u001b[0m \u001b[0mget_sigma_t\u001b[0m\u001b[1;33m(\u001b[0m\u001b[0mw_\u001b[0m\u001b[1;33m)\u001b[0m\u001b[1;33m\u001b[0m\u001b[1;33m\u001b[0m\u001b[0m\n\u001b[0;32m      4\u001b[0m \u001b[0max\u001b[0m\u001b[1;33m.\u001b[0m\u001b[0mplot\u001b[0m\u001b[1;33m(\u001b[0m\u001b[0mw_\u001b[0m\u001b[1;33m,\u001b[0m \u001b[0msig_t\u001b[0m\u001b[1;33m)\u001b[0m\u001b[1;33m\u001b[0m\u001b[1;33m\u001b[0m\u001b[0m\n",
      "\u001b[1;31mNameError\u001b[0m: name 'plt' is not defined"
     ]
    }
   ],
   "source": [
    "_, ax = plt.subplots(1,1)\n",
    "w_ = np.linspace(0.1, 0.85, 100)\n",
    "sig_t = get_sigma_t(w_)\n",
    "ax.plot(w_, sig_t)"
   ]
  },
  {
   "cell_type": "code",
   "execution_count": 57,
   "metadata": {},
   "outputs": [],
   "source": [
    "sig_w_ = sp.Piecewise(\n",
    "            (- f_c, w < - w_cr),\n",
    "            (2 * f_t + (-f_c - 2 * f_t) * sp.sqrt(1 - ((w_cr - sp.Abs(w)) / (w_cr))**2), w < 0),\n",
    "            (E_c * w / L,  w < w_cr),\n",
    "            (f_t * (1 + ((c_1 * w)/(w_tc))**3) * sp.exp((-c_2* w)/(w_tc)) - (w/w_tc) * (1 + c_1**3) * sp.exp(-c_2), w > w_cr)\n",
    ")"
   ]
  },
  {
   "cell_type": "code",
   "execution_count": 58,
   "metadata": {},
   "outputs": [
    {
     "data": {
      "text/latex": [
       "$\\displaystyle \\begin{cases} - f_{c} & \\text{for}\\: w < - w_{cr} \\\\2 f_{t} + \\sqrt{1 - \\frac{\\left(w_{cr} - \\left|{w}\\right|\\right)^{2}}{w_{cr}^{2}}} \\left(- f_{c} - 2 f_{t}\\right) & \\text{for}\\: w < 0 \\\\\\frac{E_{c} w}{L} & \\text{for}\\: w < w_{cr} \\\\f_{t} \\left(1 + \\frac{0.00736394681156715 c_{1}^{3} f_{t}^{3} w^{3}}{G_{f}^{3}}\\right) e^{- \\frac{0.194552529182879 c_{2} f_{t} w}{G_{f}}} - \\frac{0.194552529182879 f_{t} w \\left(c_{1}^{3} + 1\\right) e^{- c_{2}}}{G_{f}} & \\text{for}\\: w > w_{cr} \\end{cases}$"
      ],
      "text/plain": [
       "Piecewise((-f_c, w < -w_cr), (2*f_t + sqrt(1 - (w_cr - Abs(w))**2/w_cr**2)*(-f_c - 2*f_t), w < 0), (E_c*w/L, w < w_cr), (f_t*(1 + 0.00736394681156715*c_1**3*f_t**3*w**3/G_f**3)*exp(-0.194552529182879*c_2*f_t*w/G_f) - 0.194552529182879*f_t*w*(c_1**3 + 1)*exp(-c_2)/G_f, w > w_cr))"
      ]
     },
     "execution_count": 58,
     "metadata": {},
     "output_type": "execute_result"
    }
   ],
   "source": [
    "sig_w_"
   ]
  },
  {
   "cell_type": "code",
   "execution_count": 59,
   "metadata": {},
   "outputs": [],
   "source": [
    "params = {\n",
    "    c_1 : 3,\n",
    "    c_2 : 6.93,\n",
    "    G_f : 0.5,\n",
    "    f_t : 3,\n",
    "    f_c : 30,\n",
    "    E_c : 28000,\n",
    "    L: 20000,\n",
    "    L_c : 435,\n",
    "    w_cr : 0.1\n",
    "}"
   ]
  },
  {
   "cell_type": "code",
   "execution_count": 60,
   "metadata": {},
   "outputs": [
    {
     "data": {
      "text/latex": [
       "$\\displaystyle \\begin{cases} -30 & \\text{for}\\: w < -0.1 \\\\6 - 360.0 \\sqrt{0.01 - \\left(0.1 - \\left|{w}\\right|\\right)^{2}} & \\text{for}\\: w < 0 \\\\\\frac{7 w}{5} & \\text{for}\\: w < 0.1 \\\\- 0.0319657871382152 w + 3 \\left(42.9465378050596 w^{3} + 1\\right) e^{- 8.08949416342412 w} & \\text{for}\\: w > 0.1 \\end{cases}$"
      ],
      "text/plain": [
       "Piecewise((-30, w < -0.1), (6 - 360.0*sqrt(0.01 - (0.1 - Abs(w))**2), w < 0), (7*w/5, w < 0.1), (-0.0319657871382152*w + 3*(42.9465378050596*w**3 + 1)*exp(-8.08949416342412*w), w > 0.1))"
      ]
     },
     "execution_count": 60,
     "metadata": {},
     "output_type": "execute_result"
    }
   ],
   "source": [
    "get_sigma_w = sp.lambdify(w, sig_w_.subs(params), 'numpy')\n",
    "sig_w_.subs(params)"
   ]
  },
  {
   "cell_type": "code",
   "execution_count": 61,
   "metadata": {},
   "outputs": [
    {
     "data": {
      "text/latex": [
       "$\\displaystyle \\begin{cases} 0 & \\text{for}\\: w < - w_{cr} \\\\\\frac{\\left(- f_{c} - 2 f_{t}\\right) \\left(w_{cr} - \\left|{w}\\right|\\right) \\left(\\operatorname{re}{\\left(w\\right)} \\frac{d}{d w} \\operatorname{re}{\\left(w\\right)} + \\operatorname{im}{\\left(w\\right)} \\frac{d}{d w} \\operatorname{im}{\\left(w\\right)}\\right) \\operatorname{sign}{\\left(w \\right)}}{w w_{cr}^{2} \\sqrt{1 - \\frac{\\left(w_{cr} - \\left|{w}\\right|\\right)^{2}}{w_{cr}^{2}}}} & \\text{for}\\: w < 0 \\\\\\frac{E_{c}}{L} & \\text{for}\\: w < w_{cr} \\\\- \\frac{0.194552529182879 c_{2} f_{t}^{2} \\left(1 + \\frac{0.00736394681156715 c_{1}^{3} f_{t}^{3} w^{3}}{G_{f}^{3}}\\right) e^{- \\frac{0.194552529182879 c_{2} f_{t} w}{G_{f}}}}{G_{f}} - \\frac{0.194552529182879 f_{t} \\left(c_{1}^{3} + 1\\right) e^{- c_{2}}}{G_{f}} + \\frac{0.0220918404347014 c_{1}^{3} f_{t}^{4} w^{2} e^{- \\frac{0.194552529182879 c_{2} f_{t} w}{G_{f}}}}{G_{f}^{3}} & \\text{for}\\: w > w_{cr} \\end{cases}$"
      ],
      "text/plain": [
       "Piecewise((0, w < -w_cr), ((-f_c - 2*f_t)*(w_cr - Abs(w))*(re(w)*Derivative(re(w), w) + im(w)*Derivative(im(w), w))*sign(w)/(w*w_cr**2*sqrt(1 - (w_cr - Abs(w))**2/w_cr**2)), w < 0), (E_c/L, w < w_cr), (-0.194552529182879*c_2*f_t**2*(1 + 0.00736394681156715*c_1**3*f_t**3*w**3/G_f**3)*exp(-0.194552529182879*c_2*f_t*w/G_f)/G_f - 0.194552529182879*f_t*(c_1**3 + 1)*exp(-c_2)/G_f + 0.0220918404347014*c_1**3*f_t**4*w**2*exp(-0.194552529182879*c_2*f_t*w/G_f)/G_f**3, w > w_cr))"
      ]
     },
     "execution_count": 61,
     "metadata": {},
     "output_type": "execute_result"
    }
   ],
   "source": [
    "sig_w_d = sig_w_.diff(w)\n",
    "sig_w_d"
   ]
  },
  {
   "cell_type": "code",
   "execution_count": 62,
   "metadata": {},
   "outputs": [],
   "source": [
    "#get_sig_w_d = sp.lambdify(w, sig_w_d.subs(params), 'numpy')\n",
    "#sig_w_diff.subs(params)"
   ]
  },
  {
   "cell_type": "code",
   "execution_count": 63,
   "metadata": {},
   "outputs": [
    {
     "ename": "NameError",
     "evalue": "name 'plt' is not defined",
     "output_type": "error",
     "traceback": [
      "\u001b[1;31m---------------------------------------------------------------------------\u001b[0m",
      "\u001b[1;31mNameError\u001b[0m                                 Traceback (most recent call last)",
      "\u001b[1;32m<ipython-input-63-d565f15580e6>\u001b[0m in \u001b[0;36m<module>\u001b[1;34m\u001b[0m\n\u001b[1;32m----> 1\u001b[1;33m \u001b[0m_\u001b[0m\u001b[1;33m,\u001b[0m \u001b[0max\u001b[0m \u001b[1;33m=\u001b[0m \u001b[0mplt\u001b[0m\u001b[1;33m.\u001b[0m\u001b[0msubplots\u001b[0m\u001b[1;33m(\u001b[0m\u001b[1;36m1\u001b[0m\u001b[1;33m,\u001b[0m\u001b[1;36m1\u001b[0m\u001b[1;33m)\u001b[0m\u001b[1;33m\u001b[0m\u001b[1;33m\u001b[0m\u001b[0m\n\u001b[0m\u001b[0;32m      2\u001b[0m \u001b[0mw_\u001b[0m \u001b[1;33m=\u001b[0m \u001b[0mnp\u001b[0m\u001b[1;33m.\u001b[0m\u001b[0mlinspace\u001b[0m\u001b[1;33m(\u001b[0m\u001b[1;33m-\u001b[0m\u001b[1;36m1\u001b[0m\u001b[1;33m,\u001b[0m\u001b[1;36m1\u001b[0m\u001b[1;33m,\u001b[0m \u001b[1;36m100\u001b[0m\u001b[1;33m)\u001b[0m\u001b[1;33m\u001b[0m\u001b[1;33m\u001b[0m\u001b[0m\n\u001b[0;32m      3\u001b[0m \u001b[0msig_w_\u001b[0m \u001b[1;33m=\u001b[0m \u001b[0mget_sigma_w\u001b[0m\u001b[1;33m(\u001b[0m\u001b[0mw_\u001b[0m\u001b[1;33m)\u001b[0m\u001b[1;33m\u001b[0m\u001b[1;33m\u001b[0m\u001b[0m\n\u001b[0;32m      4\u001b[0m \u001b[1;31m#sig_w_diff = get_sig_w_diff(w_)\u001b[0m\u001b[1;33m\u001b[0m\u001b[1;33m\u001b[0m\u001b[1;33m\u001b[0m\u001b[0m\n\u001b[0;32m      5\u001b[0m \u001b[0max\u001b[0m\u001b[1;33m.\u001b[0m\u001b[0mplot\u001b[0m\u001b[1;33m(\u001b[0m\u001b[0mw_\u001b[0m\u001b[1;33m,\u001b[0m \u001b[0msig_w_\u001b[0m\u001b[1;33m,\u001b[0m \u001b[0mcolor\u001b[0m \u001b[1;33m=\u001b[0m \u001b[1;34m'red'\u001b[0m\u001b[1;33m)\u001b[0m\u001b[1;33m\u001b[0m\u001b[1;33m\u001b[0m\u001b[0m\n",
      "\u001b[1;31mNameError\u001b[0m: name 'plt' is not defined"
     ]
    }
   ],
   "source": [
    "_, ax = plt.subplots(1,1)\n",
    "w_ = np.linspace(-1,1, 100)\n",
    "sig_w_ = get_sigma_w(w_)\n",
    "#sig_w_diff = get_sig_w_diff(w_)\n",
    "ax.plot(w_, sig_w_, color = 'red')\n",
    "ax.fill_between(w_, sig_w_, color='red', alpha=0.2)"
   ]
  },
  {
   "cell_type": "code",
   "execution_count": 64,
   "metadata": {},
   "outputs": [],
   "source": [
    "#sig_w_d = get_sig_w_d(w_)\n",
    "#ax.plot(w_, sig_w_d, color = 'orange')"
   ]
  },
  {
   "cell_type": "code",
   "execution_count": null,
   "metadata": {},
   "outputs": [],
   "source": []
  },
  {
   "cell_type": "code",
   "execution_count": null,
   "metadata": {},
   "outputs": [],
   "source": []
  }
 ],
 "metadata": {
  "kernelspec": {
   "display_name": "Python 3",
   "language": "python",
   "name": "python3"
  },
  "language_info": {
   "codemirror_mode": {
    "name": "ipython",
    "version": 3
   },
   "file_extension": ".py",
   "mimetype": "text/x-python",
   "name": "python",
   "nbconvert_exporter": "python",
   "pygments_lexer": "ipython3",
   "version": "3.9.1"
  },
  "toc": {
   "base_numbering": 1,
   "nav_menu": {},
   "number_sections": true,
   "sideBar": true,
   "skip_h1_title": false,
   "title_cell": "Table of Contents",
   "title_sidebar": "Contents",
   "toc_cell": false,
   "toc_position": {},
   "toc_section_display": true,
   "toc_window_display": false
  }
 },
 "nbformat": 4,
 "nbformat_minor": 1
}
