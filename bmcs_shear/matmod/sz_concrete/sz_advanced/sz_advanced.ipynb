{
 "cells": [
  {
   "cell_type": "code",
   "execution_count": null,
   "metadata": {},
   "outputs": [],
   "source": [
    "%matplotlib widget\n",
    "from bmcs_shear.matmod.sz_concrete.sz_advanced import ConcreteMaterialModelAdv\n",
    "import numpy as np\n",
    "# w = np.linspace(0,1,100)\n",
    "# print(ConcreteMaterialModel.get_sigma_w(w))"
   ]
  },
  {
   "cell_type": "code",
   "execution_count": null,
   "metadata": {},
   "outputs": [],
   "source": [
    "ccm = ConcreteMaterialModelAdv()"
   ]
  },
  {
   "cell_type": "code",
   "execution_count": null,
   "metadata": {
    "pycharm": {
     "name": "#%%\n"
    }
   },
   "outputs": [],
   "source": [
    "ConcreteMaterialModelAdv().interact()"
   ]
  },
  {
   "cell_type": "code",
   "execution_count": null,
   "metadata": {},
   "outputs": [],
   "source": [
    "ccm.w_cr"
   ]
  },
  {
   "cell_type": "code",
   "execution_count": null,
   "metadata": {},
   "outputs": [],
   "source": [
    "w = np.linspace(-1,1, 100)\n",
    "s = np.linspace(-1,1, 100)\n",
    "ccm.get_sigma_ag(w,s)"
   ]
  },
  {
   "cell_type": "code",
   "execution_count": null,
   "metadata": {},
   "outputs": [],
   "source": [
    "ccm.get_w_tc()"
   ]
  },
  {
   "cell_type": "code",
   "execution_count": null,
   "metadata": {},
   "outputs": [],
   "source": [
    "import sympy as sp\n",
    "w = sp.Symbol('w')\n",
    "\n",
    "sp.sign(w)"
   ]
  },
  {
   "cell_type": "code",
   "execution_count": null,
   "metadata": {},
   "outputs": [],
   "source": [
    "get_sign = sp.lambdify(w, sp.sign(w))\n",
    "get_sign"
   ]
  },
  {
   "cell_type": "code",
   "execution_count": null,
   "metadata": {},
   "outputs": [],
   "source": [
    "import numpy as np\n",
    "w_ = np.linspace(-4,0, 100)\n",
    "s_ = np.linspace(-2,2, 10)\n",
    "#w_a =  2 - 1/2 * (get_sign(w_ )) * w_ #* w_  #* w_ 1/2 *   1 - 1/2 * + 1\n",
    "#w_a = get_sign(w_ - 1/2) * (w_)\n",
    "#w_a =\n",
    "w_1 = get_sign(w_ + 1/34) * (w_ + 1e-9)#+ 1e-9) #+ 1/34\n",
    "w_1, w_"
   ]
  },
  {
   "cell_type": "code",
   "execution_count": null,
   "metadata": {},
   "outputs": [],
   "source": [
    "s_, w_1 = np.meshgrid(s_, w_1)"
   ]
  },
  {
   "cell_type": "code",
   "execution_count": null,
   "metadata": {},
   "outputs": [],
   "source": [
    "#ccm.get_sig_a(w_, s_)\n",
    "sig_a, tau_a = ccm.get_sig_a(w_1, s_)"
   ]
  },
  {
   "cell_type": "code",
   "execution_count": null,
   "metadata": {},
   "outputs": [],
   "source": [
    "tau_a"
   ]
  },
  {
   "cell_type": "code",
   "execution_count": null,
   "metadata": {},
   "outputs": [],
   "source": [
    "import matplotlib.pyplot as plt\n",
    "plt.subplots(1, 1)\n",
    "ax_s = plt.axes(projection='3d')\n",
    "ax_s.plot_surface(w_1, s_, tau_a, cmap='viridis', edgecolor='none')\n",
    "ax_s.set_xlabel(r'$w\\;\\;\\mathrm{[mm]}$')\n",
    "ax_s.set_ylabel(r'$s\\;\\;\\mathrm{[mm]}$')\n",
    "ax_s.set_zlabel(r'$\\tau\\;\\;\\mathrm{[MPa]}$')"
   ]
  },
  {
   "cell_type": "code",
   "execution_count": null,
   "metadata": {
    "pycharm": {
     "name": "#%%\n"
    }
   },
   "outputs": [],
   "source": [
    "import sympy as sp\n",
    "import numpy as np\n",
    "import matplotlib.pylab as plt\n",
    "sp.init_printing()"
   ]
  },
  {
   "cell_type": "code",
   "execution_count": null,
   "metadata": {
    "pycharm": {
     "name": "#%%\n"
    }
   },
   "outputs": [],
   "source": [
    "w = sp.Symbol(r'w', real=True)\n",
    "s = sp.Symbol(r's', real = True)\n",
    "d_a, E_c = sp.symbols(r'd_a, E_c', nonnegative=True)\n",
    "f_t = sp.symbols(r'f_t', nonnegative=True)\n",
    "c_2 = sp.Symbol('c_2', nonnegative=True)\n",
    "c_1 = sp.Symbol('c_1', nonnegative=True)\n",
    "f_c = sp.Symbol('f_c', nonnegative =True)\n",
    "#G_f, L_c = sp.symbols('G_f, L_c', nonnegative = True)"
   ]
  },
  {
   "cell_type": "code",
   "execution_count": null,
   "metadata": {
    "pycharm": {
     "name": "#%%\n"
    }
   },
   "outputs": [],
   "source": [
    "G_f = 0.028 * f_c ** 0.18 * d_a ** 0.32\n",
    "\n",
    "L_c = E_c * G_f / f_t ** 2\n",
    "\n",
    "w_cr = f_t / E_c * L_c\n",
    "\n",
    "eps_cp = w_cr / L_c\n",
    "\n",
    "eps_p = w / L_c\n",
    "\n",
    "f_co = 2 * f_t\n",
    "\n",
    "w_tc = 5.14 * G_f / f_t"
   ]
  },
  {
   "cell_type": "code",
   "execution_count": null,
   "metadata": {
    "pycharm": {
     "name": "#%%\n"
    }
   },
   "outputs": [],
   "source": [
    "sig_w = sp.Piecewise(\n",
    "        (- f_c, w < - w_cr),\n",
    "        (-(f_co + (f_c - f_co) * sp.sqrt(1 - ((eps_cp - eps_p) / (eps_cp)) ** 2)), - w_cr < w ),\n",
    "        (- 2 * f_t, w == 0),\n",
    "        (E_c * eps_p, E_c * w / L_c <= f_t),\n",
    "        (f_t * (1 + ((c_1 * w)/(w_tc))**3) * sp.exp((-c_2* w)/(w_tc)) - (w/w_tc) * \\\n",
    "        (1 + c_1**3) * sp.exp(-c_2), w > w_cr)\n",
    "    )"
   ]
  },
  {
   "cell_type": "code",
   "execution_count": null,
   "metadata": {
    "pycharm": {
     "name": "#%%\n"
    }
   },
   "outputs": [],
   "source": [
    "sig_w"
   ]
  },
  {
   "cell_type": "code",
   "execution_count": null,
   "metadata": {
    "pycharm": {
     "name": "#%%\n"
    }
   },
   "outputs": [],
   "source": [
    "params = {\n",
    "    d_a : 22,\n",
    "    E_c : 28000,\n",
    "    f_t : 3,\n",
    "    c_2 : 6,\n",
    "    c_1 : 3,\n",
    "    f_c : 30\n",
    "}"
   ]
  },
  {
   "cell_type": "code",
   "execution_count": null,
   "metadata": {
    "pycharm": {
     "name": "#%%\n"
    }
   },
   "outputs": [],
   "source": [
    "get_sig_w = sp.lambdify((w), sig_w.subs(params), 'numpy')\n",
    "sig_w.subs(params)"
   ]
  },
  {
   "cell_type": "code",
   "execution_count": null,
   "metadata": {
    "pycharm": {
     "name": "#%%\n"
    }
   },
   "outputs": [],
   "source": [
    "_, (ax1) = plt.subplots(1, 1, figsize=(10,5))\n",
    "w_ = np.linspace(-1,1, 100)\n",
    "sig = get_sig_w(w_)\n",
    "ax1.plot(w_, sig, color='blue', lw=2);"
   ]
  },
  {
   "cell_type": "code",
   "execution_count": null,
   "metadata": {
    "pycharm": {
     "name": "#%%\n"
    }
   },
   "outputs": [],
   "source": [
    "print(sig)"
   ]
  },
  {
   "cell_type": "code",
   "execution_count": null,
   "metadata": {
    "pycharm": {
     "name": "#%%\n"
    }
   },
   "outputs": [],
   "source": [
    "f_ce = f_c * (1 / (0.8))\n",
    "sig_w = sp.Piecewise(\n",
    "        (- f_c, E_c * w / L_c < - f_c),\n",
    "        (- f_ce * (2 * (eps_p / -0.002) - (eps_p / -0.002) ** 2), w <= w_cr),\n",
    "        (f_t * (1 + ((c_1 * w)/(w_tc))**3) * sp.exp((-c_2* w)/(w_tc)) - (w/w_tc) * \\\n",
    "        (1 + c_1**3) * sp.exp(-c_2), w > w_cr)\n",
    "    )\n",
    "sig_w"
   ]
  },
  {
   "cell_type": "code",
   "execution_count": null,
   "metadata": {
    "pycharm": {
     "name": "#%%\n"
    }
   },
   "outputs": [],
   "source": [
    "get_sig_w = sp.lambdify((w), sig_w.subs(params), 'numpy')\n",
    "sig_w.subs(params)"
   ]
  },
  {
   "cell_type": "code",
   "execution_count": null,
   "metadata": {
    "pycharm": {
     "name": "#%%\n"
    }
   },
   "outputs": [],
   "source": [
    "_, (ax1) = plt.subplots(1, 1, figsize=(10,5))\n",
    "w_ = np.linspace(-1,1, 100)\n",
    "sig = get_sig_w(w_)\n",
    "ax1.plot(w_, sig, color='blue', lw=2);"
   ]
  },
  {
   "cell_type": "code",
   "execution_count": null,
   "metadata": {
    "pycharm": {
     "name": "#%%\n"
    }
   },
   "outputs": [],
   "source": [
    "sig"
   ]
  },
  {
   "cell_type": "code",
   "execution_count": null,
   "metadata": {
    "pycharm": {
     "name": "#%%\n"
    }
   },
   "outputs": [],
   "source": [
    "w_"
   ]
  },
  {
   "cell_type": "code",
   "execution_count": null,
   "metadata": {
    "pycharm": {
     "name": "#%%\n"
    }
   },
   "outputs": [],
   "source": [
    "r = s / w\n",
    "\n",
    "tau_0 = 0.25 * f_c\n",
    "\n",
    "a_3 = 2.45 / tau_0\n",
    "\n",
    "a_4 = 2.44 * (1 - (4 / tau_0))\n",
    "tau_s = tau_0 * (1 - sp.sqrt((2 * w) / d_a)) * r * (a_3 + (a_4 * sp.Abs(r) ** 3)) / (1 + (a_4 * r ** 4))\n",
    "tau_s"
   ]
  },
  {
   "cell_type": "code",
   "execution_count": null,
   "metadata": {
    "pycharm": {
     "name": "#%%\n"
    }
   },
   "outputs": [],
   "source": [
    "get_tau_s = sp.lambdify((w,s), tau_s.subs(params), 'numpy')\n",
    "tau_s.subs(params)"
   ]
  },
  {
   "cell_type": "code",
   "execution_count": null,
   "metadata": {
    "pycharm": {
     "name": "#%%\n"
    }
   },
   "outputs": [],
   "source": [
    "_, (ax1) = plt.subplots(1, 1, figsize=(10,5))\n",
    "w_ = np.linspace(0,1, 100)\n",
    "s_ = np.linspace(-1,1, 100)\n",
    "tau = get_tau_s(w_, s_)\n",
    "ax1.plot(s_, tau, color='blue', lw=2);"
   ]
  },
  {
   "cell_type": "code",
   "execution_count": null,
   "metadata": {},
   "outputs": [],
   "source": []
  },
  {
   "cell_type": "code",
   "execution_count": null,
   "metadata": {},
   "outputs": [],
   "source": [
    "w = sp.Symbol(r'w', real=True)\n",
    "s = sp.Symbol(r's', real = True)\n",
    "d_a, E_c = sp.symbols(r'd_a, E_c', nonnegative=True)\n",
    "f_t = sp.symbols(r'f_t', nonnegative=True)\n",
    "c_2 = sp.Symbol('c_2', nonnegative=True)\n",
    "c_1 = sp.Symbol('c_1', nonnegative=True)\n",
    "f_c = sp.Symbol('f_c', nonnegative =True)\n",
    "#G_f, L_c = sp.symbols('G_f, L_c', nonnegative = True)"
   ]
  },
  {
   "cell_type": "code",
   "execution_count": null,
   "metadata": {},
   "outputs": [],
   "source": [
    "G_f = 0.028 * f_c ** 0.18 * d_a ** 0.32\n",
    "\n",
    "L_c = E_c * G_f / f_t ** 2\n",
    "\n",
    "w_cr = f_t / E_c * L_c\n",
    "\n",
    "eps_cp = w_cr / L_c\n",
    "\n",
    "eps_p = w / L_c\n",
    "\n",
    "f_co = 2 * f_t\n",
    "\n",
    "w_tc = 5.14 * G_f / f_t"
   ]
  },
  {
   "cell_type": "code",
   "execution_count": null,
   "metadata": {},
   "outputs": [],
   "source": [
    "sig_w = sp.Piecewise(\n",
    "        (- f_c, w < - w_cr),\n",
    "        (-(f_co + (f_c - f_co) * sp.sqrt(1 - ((eps_cp - eps_p) / (eps_cp)) ** 2)), - w_cr < w ),\n",
    "        (- 2 * f_t, w == 0),\n",
    "        (E_c * eps_p, E_c * w / L_c <= f_t),\n",
    "        (f_t * (1 + ((c_1 * w)/(w_tc))**3) * sp.exp((-c_2* w)/(w_tc)) - (w/w_tc) * \\\n",
    "        (1 + c_1**3) * sp.exp(-c_2), w > w_cr)\n",
    "    )"
   ]
  },
  {
   "cell_type": "code",
   "execution_count": null,
   "metadata": {},
   "outputs": [],
   "source": [
    "sig_w"
   ]
  },
  {
   "cell_type": "code",
   "execution_count": null,
   "metadata": {},
   "outputs": [],
   "source": [
    "params = {\n",
    "    d_a : 22,\n",
    "    E_c : 28000,\n",
    "    f_t : 3,\n",
    "    c_2 : 6,\n",
    "    c_1 : 3,\n",
    "    f_c : 30\n",
    "}"
   ]
  },
  {
   "cell_type": "code",
   "execution_count": null,
   "metadata": {},
   "outputs": [],
   "source": [
    "get_sig_w = sp.lambdify((w), sig_w.subs(params), 'numpy')\n",
    "sig_w.subs(params)"
   ]
  },
  {
   "cell_type": "code",
   "execution_count": null,
   "metadata": {},
   "outputs": [],
   "source": [
    "_, (ax1) = plt.subplots(1, 1, figsize=(10,5))\n",
    "w_ = np.linspace(-1,1, 100)\n",
    "sig = get_sig_w(w_)\n",
    "ax1.plot(w_, sig, color='blue', lw=2);"
   ]
  },
  {
   "cell_type": "code",
   "execution_count": null,
   "metadata": {},
   "outputs": [],
   "source": [
    "print(sig)"
   ]
  },
  {
   "cell_type": "code",
   "execution_count": null,
   "metadata": {},
   "outputs": [],
   "source": [
    "f_ce = f_c * (1 / (0.8))\n",
    "sig_w = sp.Piecewise(\n",
    "        (- f_c, E_c * w / L_c < - f_c),\n",
    "        (- f_ce * (2 * (eps_p / -0.002) - (eps_p / -0.002) ** 2), w <= w_cr),\n",
    "        (f_t * (1 + ((c_1 * w)/(w_tc))**3) * sp.exp((-c_2* w)/(w_tc)) - (w/w_tc) * \\\n",
    "        (1 + c_1**3) * sp.exp(-c_2), w > w_cr)\n",
    "    )\n",
    "sig_w"
   ]
  },
  {
   "cell_type": "code",
   "execution_count": null,
   "metadata": {},
   "outputs": [],
   "source": [
    "get_sig_w = sp.lambdify((w), sig_w.subs(params), 'numpy')\n",
    "sig_w.subs(params)"
   ]
  },
  {
   "cell_type": "code",
   "execution_count": null,
   "metadata": {},
   "outputs": [],
   "source": [
    "_, (ax1) = plt.subplots(1, 1, figsize=(10,5))\n",
    "w_ = np.linspace(-1,1, 100)\n",
    "sig = get_sig_w(w_)\n",
    "ax1.plot(w_, sig, color='blue', lw=2);"
   ]
  },
  {
   "cell_type": "code",
   "execution_count": null,
   "metadata": {},
   "outputs": [],
   "source": [
    "sig"
   ]
  },
  {
   "cell_type": "code",
   "execution_count": null,
   "metadata": {},
   "outputs": [],
   "source": [
    "w_"
   ]
  },
  {
   "cell_type": "code",
   "execution_count": null,
   "metadata": {},
   "outputs": [],
   "source": [
    "r = s / w\n",
    "\n",
    "tau_0 = 0.25 * f_c\n",
    "\n",
    "a_3 = 2.45 / tau_0\n",
    "\n",
    "a_4 = 2.44 * (1 - (4 / tau_0))\n",
    "tau_s = tau_0 * (1 - sp.sqrt((2 * w) / d_a)) * r * (a_3 + (a_4 * sp.Abs(r) ** 3)) / (1 + (a_4 * r ** 4))\n",
    "tau_s"
   ]
  },
  {
   "cell_type": "code",
   "execution_count": null,
   "metadata": {},
   "outputs": [],
   "source": [
    "get_tau_s = sp.lambdify((w,s), tau_s.subs(params), 'numpy')\n",
    "tau_s.subs(params)"
   ]
  },
  {
   "cell_type": "code",
   "execution_count": null,
   "metadata": {},
   "outputs": [],
   "source": [
    "_, (ax1) = plt.subplots(1, 1, figsize=(10,5))\n",
    "w_ = np.linspace(0,1, 100)\n",
    "s_ = np.linspace(-1,1, 100)\n",
    "tau = get_tau_s(w_, s_)\n",
    "ax1.plot(s_, tau, color='blue', lw=2);"
   ]
  },
  {
   "cell_type": "code",
   "execution_count": null,
   "metadata": {},
   "outputs": [],
   "source": [
    "import sympy as sp\n",
    "w_cr, w, L_c = sp.symbols('w_cr, w, L_c')\n",
    "eps_cp = w_cr / L_c\n",
    "eps_p = w / L_c\n",
    "sigma_ = 2 *f_t + (f_c - 2 * f_t) * sp.sqrt(1 - ((eps_cp - eps_p) / (eps_cp))**2)\n",
    "sigma_"
   ]
  },
  {
   "cell_type": "code",
   "execution_count": null,
   "metadata": {},
   "outputs": [],
   "source": [
    "sig_ = sp.simplify(sigma_)\n",
    "sig_w = 2 * f_t + (f_c - 2 * f_t) * sp.sqrt(1 - ((w_cr - sp.Abs(w)) / (w_cr))**2)\n",
    "sig_w"
   ]
  },
  {
   "cell_type": "code",
   "execution_count": null,
   "metadata": {},
   "outputs": [],
   "source": [
    "sig_w.diff(w)"
   ]
  },
  {
   "cell_type": "code",
   "execution_count": null,
   "metadata": {},
   "outputs": [],
   "source": [
    "params = {\n",
    "    f_t : 3,\n",
    "    f_c : -30,\n",
    "    w_cr : 0.1\n",
    "}"
   ]
  },
  {
   "cell_type": "code",
   "execution_count": null,
   "metadata": {},
   "outputs": [],
   "source": [
    "get_sig_val = sp.lambdify(w, sig_w.subs(params), 'numpy')\n",
    "get_sig_val"
   ]
  },
  {
   "cell_type": "code",
   "execution_count": null,
   "metadata": {},
   "outputs": [],
   "source": [
    "_, ax = plt.subplots(1,1)\n",
    "w_ = np.linspace(-0.1, 0, 100)\n",
    "sig_val_ = get_sig_val(w_)\n",
    "ax.plot(w_, sig_val_)"
   ]
  },
  {
   "cell_type": "code",
   "execution_count": null,
   "metadata": {},
   "outputs": [],
   "source": [
    "E_c, L, w = sp.symbols('E_c, L, w')\n",
    "sig_w = E_c * w / L\n",
    "sig_w"
   ]
  },
  {
   "cell_type": "code",
   "execution_count": null,
   "metadata": {},
   "outputs": [],
   "source": [
    "params = {\n",
    "    E_c : 28000,\n",
    "    L : 20000\n",
    "}"
   ]
  },
  {
   "cell_type": "code",
   "execution_count": null,
   "metadata": {},
   "outputs": [],
   "source": [
    "get_sig_w = sp.lambdify((w), sig_w.subs(params), 'numpy')\n",
    "get_sig_w"
   ]
  },
  {
   "cell_type": "code",
   "execution_count": null,
   "metadata": {},
   "outputs": [],
   "source": [
    "_, ax = plt.subplots(1,1)\n",
    "w_1 = np.linspace(0, 0.1, 100)\n",
    "sig_val_ = get_sig_w(w_1)\n",
    "ax.plot(w_1, sig_val_)"
   ]
  },
  {
   "cell_type": "code",
   "execution_count": null,
   "metadata": {},
   "outputs": [],
   "source": [
    "f_t = sp.symbols(r'f_t', nonnegative=True)\n",
    "c_2 = sp.Symbol('c_2', nonnegative=True)\n",
    "c_1 = sp.Symbol('c_1', nonnegative=True)\n",
    "f_c = sp.Symbol('f_c', nonnegative =True)\n",
    "G_f, L_c = sp.symbols('G_f, L_c', nonnegative = True)"
   ]
  },
  {
   "cell_type": "code",
   "execution_count": null,
   "metadata": {},
   "outputs": [],
   "source": [
    "G_f, f_t = sp.symbols('G_f, f_t')\n",
    "w_tc = 5.14 * G_f/f_t\n",
    "sigma_t = f_t * (1 + ((c_1 * w)/(w_tc))**3) * sp.exp((-c_2* w)/(w_tc)) - (w/w_tc) * (1 + c_1**3) * sp.exp(-c_2)\n",
    "sigma_t"
   ]
  },
  {
   "cell_type": "code",
   "execution_count": null,
   "metadata": {},
   "outputs": [],
   "source": [
    "params = {\n",
    "    c_1 : 3,\n",
    "    c_2 : 6.93,\n",
    "    G_f : 0.5,\n",
    "    f_t : 3\n",
    "}"
   ]
  },
  {
   "cell_type": "code",
   "execution_count": null,
   "metadata": {},
   "outputs": [],
   "source": [
    "get_sigma_t = sp.lambdify(w, sigma_t.subs(params))\n",
    "sigma_t.subs(params)"
   ]
  },
  {
   "cell_type": "code",
   "execution_count": null,
   "metadata": {},
   "outputs": [],
   "source": [
    "_, ax = plt.subplots(1,1)\n",
    "w_ = np.linspace(0.1, 0.85, 100)\n",
    "sig_t = get_sigma_t(w_)\n",
    "ax.plot(w_, sig_t)"
   ]
  },
  {
   "cell_type": "code",
   "execution_count": null,
   "metadata": {},
   "outputs": [],
   "source": [
    "sig_w_ = sp.Piecewise(\n",
    "            (- f_c, w < - w_cr),\n",
    "            (2 * f_t + (-f_c - 2 * f_t) * sp.sqrt(1 - ((w_cr - sp.Abs(w)) / (w_cr))**2), w < 0),\n",
    "            (E_c * w / L,  w < w_cr),\n",
    "            (f_t * (1 + ((c_1 * w)/(w_tc))**3) * sp.exp((-c_2* w)/(w_tc)) - (w/w_tc) * (1 + c_1**3) * sp.exp(-c_2), w > w_cr)\n",
    ")"
   ]
  },
  {
   "cell_type": "code",
   "execution_count": null,
   "metadata": {},
   "outputs": [],
   "source": [
    "sig_w_"
   ]
  },
  {
   "cell_type": "code",
   "execution_count": null,
   "metadata": {},
   "outputs": [],
   "source": [
    "params = {\n",
    "    c_1 : 3,\n",
    "    c_2 : 6.93,\n",
    "    G_f : 0.5,\n",
    "    f_t : 3,\n",
    "    f_c : 30,\n",
    "    E_c : 28000,\n",
    "    L: 20000,\n",
    "    L_c : 435,\n",
    "    w_cr : 0.1\n",
    "}"
   ]
  },
  {
   "cell_type": "code",
   "execution_count": null,
   "metadata": {},
   "outputs": [],
   "source": [
    "get_sigma_w = sp.lambdify(w, sig_w_.subs(params), 'numpy')\n",
    "sig_w_.subs(params)"
   ]
  },
  {
   "cell_type": "code",
   "execution_count": null,
   "metadata": {},
   "outputs": [],
   "source": [
    "sig_w_d = sig_w_.diff(w)\n",
    "sig_w_d"
   ]
  },
  {
   "cell_type": "code",
   "execution_count": null,
   "metadata": {},
   "outputs": [],
   "source": [
    "#get_sig_w_d = sp.lambdify(w, sig_w_d.subs(params), 'numpy')\n",
    "#sig_w_diff.subs(params)"
   ]
  },
  {
   "cell_type": "code",
   "execution_count": null,
   "metadata": {},
   "outputs": [],
   "source": [
    "_, ax = plt.subplots(1,1)\n",
    "w_ = np.linspace(-1,1, 100)\n",
    "sig_w_ = get_sigma_w(w_)\n",
    "#sig_w_diff = get_sig_w_diff(w_)\n",
    "ax.plot(w_, sig_w_, color = 'red')\n",
    "ax.fill_between(w_, sig_w_, color='red', alpha=0.2)"
   ]
  },
  {
   "cell_type": "code",
   "execution_count": null,
   "metadata": {},
   "outputs": [],
   "source": [
    "#sig_w_d = get_sig_w_d(w_)\n",
    "#ax.plot(w_, sig_w_d, color = 'orange')"
   ]
  },
  {
   "cell_type": "code",
   "execution_count": null,
   "metadata": {},
   "outputs": [],
   "source": []
  },
  {
   "cell_type": "code",
   "execution_count": null,
   "metadata": {},
   "outputs": [],
   "source": []
  }
 ],
 "metadata": {
  "kernelspec": {
   "display_name": "Python 3",
   "language": "python",
   "name": "python3"
  },
  "language_info": {
   "codemirror_mode": {
    "name": "ipython",
    "version": 3
   },
   "file_extension": ".py",
   "mimetype": "text/x-python",
   "name": "python",
   "nbconvert_exporter": "python",
   "pygments_lexer": "ipython3"
  },
  "toc": {
   "base_numbering": 1,
   "nav_menu": {},
   "number_sections": true,
   "sideBar": true,
   "skip_h1_title": false,
   "title_cell": "Table of Contents",
   "title_sidebar": "Contents",
   "toc_cell": false,
   "toc_position": {},
   "toc_section_display": true,
   "toc_window_display": false
  }
 },
 "nbformat": 4,
 "nbformat_minor": 1
}
