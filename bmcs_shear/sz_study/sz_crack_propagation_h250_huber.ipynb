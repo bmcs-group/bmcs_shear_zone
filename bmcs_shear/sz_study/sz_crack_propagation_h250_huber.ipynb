{
 "cells": [
  {
   "cell_type": "markdown",
   "metadata": {
    "pycharm": {
     "name": "#%%\n"
    }
   },
   "source": [
    "# 2D Crack propagation in a bended beam"
   ]
  },
  {
   "cell_type": "markdown",
   "metadata": {},
   "source": [
    " - @todo: Plot the residual value\n",
    " - @todo: State dependencies - recalculate upon material parameter change"
   ]
  },
  {
   "cell_type": "code",
   "execution_count": 1,
   "metadata": {
    "pycharm": {
     "name": "#%%\n"
    }
   },
   "outputs": [],
   "source": [
    "%matplotlib widget\n",
    "import bmcs_utils.api as bu\n",
    "from bmcs_shear.shear_crack.crack_propagation import CrackPropagation\n",
    "ce = CrackPropagation(n_seg=200)\n",
    "ce.sz_bd.cmm.trait_set(tau_1 = 4, s_1 = 0.2, tau_2 = 3, tau_3 = 2, s_2 = 1.4, s_3 = 5)\n",
    "ce.sz_bd.cmm.trait_set(f_c = 37.9, f_t = 3.06, d_a = 22)\n",
    "ce.sz_bd.Rectangle = True\n",
    "ce.sz_bd.trait_set(H=250, B=75, L=1400)\n",
    "ce.sz_cp.trait_set(x_00=ce.sz_bd.L * 0.7, n_m = 15)\n",
    "ce.sz_cp.sz_ctr.trait_set(ell = 1)\n",
    "ce.sz_bd.cross_section_layout.reinforcement.z_j[0] = 20\n",
    "ce.sz_bd.cross_section_layout.reinforcement.A_j[0] = 50.3 * 4\n",
    "ce.sz_bd.cross_section_layout.reinforcement.E_j[0] = 210000 / 100"
   ]
  },
  {
   "cell_type": "markdown",
   "metadata": {},
   "source": [
    "\\begin{align}\n",
    "\\sigma_\\mathrm{F} = E w / L_\\mathrm{eff}\n",
    "\\end{align}"
   ]
  },
  {
   "cell_type": "code",
   "execution_count": 2,
   "metadata": {
    "pycharm": {
     "name": "#%%\n"
    },
    "scrolled": false
   },
   "outputs": [
    {
     "name": "stderr",
     "output_type": "stream",
     "text": [
      "<lambdifygenerated-24>:2: RuntimeWarning: invalid value encountered in sqrt\n",
      "  return (select([less_equal(w, 0),True], [0,0.25*f_c*s*(-sqrt(2)*sqrt(w/d_a) + 1)*((2.44 - 39.04/f_c)*abs(s/w)**3 + 9.8/f_c)/(w*(s**4*(2.44 - 39.04/f_c)/w**4 + 1))], default=nan))\n"
     ]
    },
    {
     "data": {
      "application/vnd.jupyter.widget-view+json": {
       "model_id": "d006c9e8c5964d2095c872ab11640132",
       "version_major": 2,
       "version_minor": 0
      },
      "text/plain": [
       "VBox(children=(Output(), Tab(children=(VBox(children=(GridBox(children=(HBox(children=(Button(icon='play', lay…"
      ]
     },
     "metadata": {},
     "output_type": "display_data"
    }
   ],
   "source": [
    "bu.InteractiveWindow([ce, ce.sz_bd, ce.sz_bd.cross_section_layout, \n",
    "                      ce.sz_stress_profile, \n",
    "                      ce.sz_bd.cmm, ce.sz_bd.smm, ce.sz_cp, ce.sz_cp.sz_ctr]).interact()"
   ]
  },
  {
   "cell_type": "code",
   "execution_count": null,
   "metadata": {
    "pycharm": {
     "name": "#%%\n"
    }
   },
   "outputs": [],
   "source": [
    "import numpy as np\n",
    "S_Lb = ce.sz_stress_profile.S_Lb\n",
    "S_La = ce.sz_stress_profile.S_La\n",
    "idx = np.argmax(S_Lb[...,0])"
   ]
  },
  {
   "cell_type": "code",
   "execution_count": null,
   "metadata": {
    "pycharm": {
     "name": "#%%\n"
    }
   },
   "outputs": [],
   "source": [
    "S_Lb[idx,:], S_La[idx,:]"
   ]
  },
  {
   "cell_type": "code",
   "execution_count": null,
   "metadata": {
    "pycharm": {
     "name": "#%%\n"
    }
   },
   "outputs": [],
   "source": [
    "ce.sz_cp.T_Mab[idx,...]"
   ]
  },
  {
   "cell_type": "code",
   "execution_count": null,
   "metadata": {
    "pycharm": {
     "name": "#%%\n"
    }
   },
   "outputs": [],
   "source": [
    "np.einsum('i,i', S_Lb[idx,:], S_Lb[idx,:])"
   ]
  },
  {
   "cell_type": "code",
   "execution_count": null,
   "metadata": {
    "pycharm": {
     "name": "#%%\n"
    }
   },
   "outputs": [],
   "source": [
    "np.einsum('i,i', S_La[idx,:], S_La[idx,:])"
   ]
  },
  {
   "cell_type": "markdown",
   "metadata": {},
   "source": [
    "Todo:\n",
    "\n",
    " - include the reinforcement material law - partially done \n",
    "   (but for strain-based material law) - replace with the crack bridge law\n",
    " - transformation of the crack bridging force to the global coordinates\n",
    " - include the dowel effect "
   ]
  },
  {
   "cell_type": "code",
   "execution_count": null,
   "metadata": {
    "pycharm": {
     "name": "#%%\n"
    }
   },
   "outputs": [],
   "source": [
    "#ce.sz_cp._get_norm_n_vec_L()"
   ]
  },
  {
   "cell_type": "code",
   "execution_count": null,
   "metadata": {
    "pycharm": {
     "name": "#%%\n"
    }
   },
   "outputs": [],
   "source": [
    "#ce.sz_cp._get_x_Ka()"
   ]
  },
  {
   "cell_type": "code",
   "execution_count": null,
   "metadata": {
    "pycharm": {
     "name": "#%%\n"
    }
   },
   "outputs": [],
   "source": [
    "#ce.sz_stress_profile._get_S_La()"
   ]
  },
  {
   "cell_type": "code",
   "execution_count": null,
   "metadata": {
    "pycharm": {
     "name": "#%%\n"
    }
   },
   "outputs": [],
   "source": [
    "#ce.sz_stress_profile._get_F_La()"
   ]
  },
  {
   "cell_type": "code",
   "execution_count": null,
   "metadata": {
    "pycharm": {
     "name": "#%%\n"
    }
   },
   "outputs": [],
   "source": [
    "#ce.sz_stress_profile._get_F_ag()"
   ]
  },
  {
   "cell_type": "code",
   "execution_count": null,
   "metadata": {
    "pycharm": {
     "name": "#%%\n"
    }
   },
   "outputs": [],
   "source": [
    "#ce.sz_stress_profile._get_u_Lb()"
   ]
  },
  {
   "cell_type": "code",
   "execution_count": null,
   "metadata": {
    "pycharm": {
     "name": "#%%\n"
    }
   },
   "outputs": [],
   "source": [
    "#ce.sz_stress_profile._get_S_Lb()[:,1]"
   ]
  },
  {
   "cell_type": "code",
   "execution_count": null,
   "metadata": {
    "pycharm": {
     "name": "#%%\n"
    }
   },
   "outputs": [],
   "source": [
    "ce.sz_stress_profile.u_La[...,1]"
   ]
  },
  {
   "cell_type": "code",
   "execution_count": null,
   "metadata": {
    "pycharm": {
     "name": "#%%\n"
    }
   },
   "outputs": [],
   "source": [
    "ce.sz_cp.x_Ka"
   ]
  },
  {
   "cell_type": "code",
   "execution_count": null,
   "metadata": {
    "pycharm": {
     "name": "#%%\n"
    }
   },
   "outputs": [],
   "source": [
    "ce.sz_stress_profile.u_La[...,1]"
   ]
  },
  {
   "cell_type": "code",
   "execution_count": null,
   "metadata": {
    "pycharm": {
     "name": "#%%\n"
    }
   },
   "outputs": [],
   "source": [
    "#ce.sz_stress_profile.normalized_def #[...,1]"
   ]
  },
  {
   "cell_type": "code",
   "execution_count": null,
   "metadata": {
    "pycharm": {
     "name": "#%%\n"
    }
   },
   "outputs": [],
   "source": [
    "#ce.sz_stress_profile.tau_exp"
   ]
  },
  {
   "cell_type": "code",
   "execution_count": null,
   "metadata": {
    "pycharm": {
     "name": "#%%\n"
    }
   },
   "outputs": [],
   "source": [
    "ce.sz_stress_profile.F_Na[...,0]"
   ]
  },
  {
   "cell_type": "code",
   "execution_count": null,
   "metadata": {
    "pycharm": {
     "name": "#%%\n"
    }
   },
   "outputs": [],
   "source": [
    "ce.sz_ctr._get_x_rot_ak()"
   ]
  },
  {
   "cell_type": "code",
   "execution_count": 11,
   "metadata": {
    "pycharm": {
     "name": "#%%\n"
    }
   },
   "outputs": [
    {
     "data": {
      "text/plain": [
       "array([0.        , 0.00037018, 0.00041446, 0.00041797, 0.00042181,\n",
       "       0.00042495, 0.00042869, 0.00043274, 0.00043594, 0.00043925,\n",
       "       0.00044345, 0.00044723, 0.00045105, 0.00045489, 0.00045878,\n",
       "       0.00046269, 0.00046663, 0.00047062, 0.00047463, 0.00047868,\n",
       "       0.00048276, 0.00048687, 0.00049102, 0.00049521, 0.00049942,\n",
       "       0.00050367, 0.00050795, 0.00051224, 0.00051661, 0.00052099,\n",
       "       0.0005254 , 0.00052985, 0.00053433, 0.00053884, 0.00054339,\n",
       "       0.00054797, 0.00055258, 0.00055723, 0.00056191, 0.00056662,\n",
       "       0.00057137, 0.00057623, 0.00058097, 0.00058582, 0.0005907 ,\n",
       "       0.00059562, 0.00060057, 0.00060556, 0.00061059, 0.00061565,\n",
       "       0.00062074, 0.00062587, 0.00063104, 0.00063624, 0.00064149,\n",
       "       0.00064676, 0.00065208, 0.00065743, 0.00066283, 0.00066826,\n",
       "       0.00067373, 0.00067924, 0.0006848 , 0.00069039, 0.00069602,\n",
       "       0.0007017 , 0.00070742, 0.00071319, 0.00071899, 0.00072485,\n",
       "       0.00073075, 0.00073669, 0.00074268, 0.00074872, 0.00075481,\n",
       "       0.00076095, 0.00076714, 0.00077338, 0.00077968, 0.00078602,\n",
       "       0.00079908, 0.00079888, 0.0008054 , 0.00081197, 0.0008186 ,\n",
       "       0.00082529, 0.00083204, 0.00083886, 0.00084574, 0.00085268,\n",
       "       0.00085969, 0.00086677, 0.00087392, 0.00088114, 0.00088843,\n",
       "       0.00089579, 0.00090323, 0.00091075, 0.00091846, 0.00092602,\n",
       "       0.00093378, 0.00094162, 0.00094954, 0.00095755, 0.00096564,\n",
       "       0.00097382, 0.00098205, 0.00099045, 0.00099877, 0.00100708,\n",
       "       0.00101414, 0.00102506, 0.00103397, 0.00104294, 0.00105204,\n",
       "       0.00106114, 0.00107036, 0.00107927, 0.00108748, 0.00109566,\n",
       "       0.0011039 , 0.00112026, 0.00113049, 0.0011408 , 0.00115094,\n",
       "       0.00117875, 0.00117123, 0.00118124, 0.00119229, 0.00120249,\n",
       "       0.00121896, 0.00123089, 0.00124233, 0.00125439, 0.00126648,\n",
       "       0.00127888, 0.00131349, 0.00130418, 0.00131761, 0.0013339 ,\n",
       "       0.00134753, 0.00136159, 0.00137576, 0.00139067, 0.00140479,\n",
       "       0.00142009, 0.00143582, 0.00145179, 0.00146522, 0.00148635,\n",
       "       0.00150317, 0.00152029, 0.00153799, 0.00155649, 0.00157439,\n",
       "       0.00159356, 0.00161345, 0.00163364, 0.00164941, 0.001675  ,\n",
       "       0.00169624, 0.00171811, 0.00174096, 0.00176521, 0.00178879,\n",
       "       0.00181309, 0.0018375 , 0.00186341, 0.00188272, 0.00191548,\n",
       "       0.00194312, 0.0020235 , 0.00200133, 0.00203366, 0.00206359,\n",
       "       0.00209637, 0.00213006, 0.00216443, 0.00217944, 0.00228027,\n",
       "       0.0022702 , 0.00230922, 0.00234971, 0.00239378, 0.00243538,\n",
       "       0.00248069, 0.00252744, 0.00257493, 0.00259651, 0.00267002,\n",
       "       0.00272357, 0.00277921, 0.00283734, 0.00289807, 0.002962  ,\n",
       "       0.00302825, 0.00309682, 0.00316735, 0.00322097, 0.00344612,\n",
       "       0.00339059, 0.00347613])"
      ]
     },
     "execution_count": 11,
     "metadata": {},
     "output_type": "execute_result"
    }
   ],
   "source": [
    "import numpy as np\n",
    "v_ = np.array(ce.v_n)\n",
    "v_ / ce.sz_bd.L\n",
    "s_L = v_ / ce.sz_bd.cmm.L_c\n",
    "s_L"
   ]
  },
  {
   "cell_type": "code",
   "execution_count": 12,
   "metadata": {},
   "outputs": [],
   "source": [
    "F_ = np.array(ce.F_beam)"
   ]
  },
  {
   "cell_type": "code",
   "execution_count": 13,
   "metadata": {},
   "outputs": [
    {
     "data": {
      "text/plain": [
       "array([0.        , 0.91853397, 0.9242807 , 0.92992721, 0.93654507,\n",
       "       0.94132065, 0.94626962, 0.95279192, 0.95702217, 0.96148938,\n",
       "       0.96655883, 0.97134264, 0.97601162, 0.98056388, 0.9850183 ,\n",
       "       0.98931165, 0.99350427, 0.99758906, 1.00152174, 1.00534394,\n",
       "       1.00903883, 1.01260692, 1.01604769, 1.01936695, 1.02253896,\n",
       "       1.02560185, 1.02851927, 1.03126065, 1.03393635, 1.03646165,\n",
       "       1.03882717, 1.04107844, 1.0431941 , 1.0451644 , 1.04700296,\n",
       "       1.04870379, 1.05026826, 1.05169602, 1.05299104, 1.05414024,\n",
       "       1.0551566 , 1.05603872, 1.05677876, 1.05738488, 1.05785711,\n",
       "       1.05819373, 1.05839218, 1.0584594 , 1.05838999, 1.05818807,\n",
       "       1.05785136, 1.05738425, 1.05678659, 1.05605613, 1.05519772,\n",
       "       1.05420812, 1.05309478, 1.05184965, 1.05048196, 1.04898879,\n",
       "       1.0473717 , 1.04562967, 1.04377159, 1.04178982, 1.03969196,\n",
       "       1.03747612, 1.03514372, 1.0326964 , 1.03013713, 1.02746684,\n",
       "       1.0246849 , 1.02179509, 1.0188007 , 1.01569875, 1.01249335,\n",
       "       1.00918637, 1.00577891, 1.00227336, 0.9986714 , 0.99497385,\n",
       "       0.99118314, 0.98730078, 0.98332924, 0.97926951, 0.97512363,\n",
       "       0.97089417, 0.96658364, 0.962193  , 0.95772286, 0.95317808,\n",
       "       0.94855785, 0.94386578, 0.93910331, 0.93427245, 0.92937532,\n",
       "       0.92441419, 0.91939054, 0.91430721, 0.9091653 , 0.90396737,\n",
       "       0.89871515, 0.8934115 , 0.88805819, 0.8826545 , 0.87720881,\n",
       "       0.87171506, 0.86617086, 0.86062112, 0.85497679, 0.84929686,\n",
       "       0.84347832, 0.83807695, 0.83235688, 0.82659486, 0.82082095,\n",
       "       0.81500555, 0.80921617, 0.80339501, 0.79775403, 0.79291836,\n",
       "       0.78431688, 0.78028808, 0.77441968, 0.76855499, 0.76264933,\n",
       "       0.75680572, 0.75117932, 0.74588873, 0.74089794, 0.73243151,\n",
       "       0.72766295, 0.72186014, 0.71596635, 0.71025028, 0.70463434,\n",
       "       0.69925631, 0.69404187, 0.68887684, 0.68339809, 0.67590437,\n",
       "       0.67020948, 0.66461578, 0.65909487, 0.65393527, 0.64845339,\n",
       "       0.64341281, 0.63857838, 0.6333216 , 0.62753708, 0.62071532,\n",
       "       0.61541324, 0.61020009, 0.60512789, 0.60024139, 0.59536706,\n",
       "       0.59068911, 0.58601785, 0.5811901 , 0.57368534, 0.56926129,\n",
       "       0.56446273, 0.55978255, 0.55516931, 0.55120899, 0.54689802,\n",
       "       0.54250807, 0.53804481, 0.53370628, 0.5267398 , 0.52286219,\n",
       "       0.51864796, 0.51456561, 0.51059229, 0.50709757, 0.50302361,\n",
       "       0.49934078, 0.49562304, 0.49186287, 0.48461638, 0.48219199,\n",
       "       0.47861951, 0.47516702, 0.47183199, 0.4688926 , 0.46547792,\n",
       "       0.46238865, 0.45927752, 0.45612489, 0.44923044, 0.44769104,\n",
       "       0.44478018, 0.44197014, 0.43926985, 0.43666947, 0.43416498,\n",
       "       0.43168963, 0.42919626, 0.42665813, 0.42137079, 0.41945206,\n",
       "       0.41718076, 0.41501599])"
      ]
     },
     "execution_count": 13,
     "metadata": {},
     "output_type": "execute_result"
    }
   ],
   "source": [
    "tau_exp = F_ / (ce.sz_bd.B * 230 )\n",
    "tau_exp"
   ]
  },
  {
   "cell_type": "code",
   "execution_count": 14,
   "metadata": {},
   "outputs": [
    {
     "data": {
      "application/vnd.jupyter.widget-view+json": {
       "model_id": "21edcc27aeef48e5baa6fb74527d8a5b",
       "version_major": 2,
       "version_minor": 0
      },
      "text/plain": [
       "Canvas(toolbar=Toolbar(toolitems=[('Home', 'Reset original view', 'home', 'home'), ('Back', 'Back to previous …"
      ]
     },
     "metadata": {},
     "output_type": "display_data"
    }
   ],
   "source": [
    "import matplotlib.pylab as plt\n",
    "_, (ax1) = plt.subplots(1, 1, figsize=(12,7))\n",
    "ax1.plot(s_L, tau_exp, color='blue', lw=2);\n",
    "ax1.set_xlabel(r'$v/L$'); ax1.set_ylabel(r'$\\tau_{exp}$');"
   ]
  },
  {
   "cell_type": "code",
   "execution_count": 15,
   "metadata": {},
   "outputs": [
    {
     "data": {
      "text/plain": [
       "array([ 6.61060130e-05,  6.61051616e-05,  6.61043102e-05, ...,\n",
       "       -1.47742490e-07, -1.47797912e-07, -1.47853335e-07])"
      ]
     },
     "execution_count": 15,
     "metadata": {},
     "output_type": "execute_result"
    }
   ],
   "source": [
    "ce.sz_stress_profile.u_La[...,1] / ce.sz_bd.L"
   ]
  },
  {
   "cell_type": "code",
   "execution_count": null,
   "metadata": {},
   "outputs": [],
   "source": []
  }
 ],
 "metadata": {
  "kernelspec": {
   "display_name": "Python 3",
   "language": "python",
   "name": "python3"
  },
  "language_info": {
   "codemirror_mode": {
    "name": "ipython",
    "version": 3
   },
   "file_extension": ".py",
   "mimetype": "text/x-python",
   "name": "python",
   "nbconvert_exporter": "python",
   "pygments_lexer": "ipython3",
   "version": "3.9.0"
  },
  "toc": {
   "base_numbering": 1,
   "nav_menu": {},
   "number_sections": true,
   "sideBar": true,
   "skip_h1_title": false,
   "title_cell": "Table of Contents",
   "title_sidebar": "Contents",
   "toc_cell": false,
   "toc_position": {},
   "toc_section_display": true,
   "toc_window_display": false
  }
 },
 "nbformat": 4,
 "nbformat_minor": 1
}
