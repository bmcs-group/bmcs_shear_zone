{
 "cells": [
  {
   "cell_type": "markdown",
   "metadata": {
    "pycharm": {
     "name": "#%%\n"
    }
   },
   "source": [
    "# 2D Crack propagation in a bended beam"
   ]
  },
  {
   "cell_type": "markdown",
   "metadata": {},
   "source": [
    " - @todo: Plot the residual value\n",
    " - @todo: State dependencies - recalculate upon material parameter change"
   ]
  },
  {
   "cell_type": "markdown",
   "metadata": {},
   "source": [
    "\\begin{align}\n",
    "\\sigma_\\mathrm{F} = E w / L_\\mathrm{eff}\n",
    "\\end{align}"
   ]
  },
  {
   "cell_type": "code",
   "execution_count": 1,
   "metadata": {},
   "outputs": [
    {
     "data": {
      "text/plain": [
       "<function _lambdifygenerated(Dummy_22, Dummy_23)>"
      ]
     },
     "execution_count": 1,
     "metadata": {},
     "output_type": "execute_result"
    }
   ],
   "source": [
    "import sympy as sp\n",
    "xi = sp.Symbol(r'\\xi')\n",
    "G_f0 = sp.Symbol(r'G_{f0}')\n",
    "a = 1.038\n",
    "b = 0.245\n",
    "G_f = (1 + (a/(1+b/xi)) - (1 + a + b)/(1 + b) * xi**8) #G_f0 * \n",
    "get_G_F = sp.lambdify((xi,G_f0), G_f, 'numpy') \n",
    "get_G_F"
   ]
  },
  {
   "cell_type": "code",
   "execution_count": 2,
   "metadata": {},
   "outputs": [
    {
     "name": "stderr",
     "output_type": "stream",
     "text": [
      "<lambdifygenerated-1>:2: RuntimeWarning: divide by zero encountered in true_divide\n",
      "  return (-1.83373493975904*Dummy_22**8 + 1 + 1.038/(1 + 0.245/Dummy_22))\n"
     ]
    },
    {
     "data": {
      "image/png": "[encoded data removed]",
      "text/plain": [
       "<Figure size 504x288 with 1 Axes>"
      ]
     },
     "metadata": {
      "needs_background": "light"
     },
     "output_type": "display_data"
    }
   ],
   "source": [
    "import matplotlib.pylab as plt\n",
    "import numpy as np\n",
    "_, (ax1) = plt.subplots(1, 1, figsize=(7,4))\n",
    "xi = np.linspace(0,1,100)\n",
    "G_f0 = 86.7\n",
    "G_f = get_G_F(xi, G_f0)\n",
    "ax1.plot(xi, G_f , color = 'blue', lw= 2, label = '$V_{da}$');\n",
    "ax1.set_xlabel(r'$\\xi$'); ax1.set_ylabel(r'$\\frac{G_f}{G_{f0}}$');\n",
    "ax1.set_title(r'Effect of crack parallel stress on fracture energy')\n",
    "ax1.legend()\n",
    "plt.savefig(\"D:\\Shear zones\\Python plots\\Bazanttest.pdf\")"
   ]
  },
  {
   "cell_type": "code",
   "execution_count": 3,
   "metadata": {
    "pycharm": {
     "name": "#%%\n"
    }
   },
   "outputs": [],
   "source": [
    "# %matplotlib widget\n",
    "# import bmcs_utils.api as bu\n",
    "# from bmcs_shear.shear_crack.crack_propagation import CrackPropagation\n",
    "# ce = CrackPropagation(n_seg=5)\n",
    "# ce.sz_bd.cmm.trait_set(tau_1 = 4, s_1 = 0.2, tau_2 = 3, tau_3 = 2, s_2 = 1.4, s_3 = 5)\n",
    "# ce.sz_bd.cmm.trait_set(f_c = 33.3, f_t = 0.3 * 33.3 **(2/3), d_a = 16)\n",
    "# ce.sz_bd.Rectangle = True\n",
    "# ce.sz_bd.trait_set(H=600, B=250, L=3870)\n",
    "# ce.sz_cp.trait_set(x_00=ce.sz_bd.L * 0.5, n_m = 15)\n",
    "# ce.sz_cp.sz_ctr.trait_set(ell = 2)\n",
    "# ce.sz_bd.cross_section_layout.reinforcement.z_j[0] = 44\n",
    "# ce.sz_bd.cross_section_layout.reinforcement.A_j[0] = 615.44 #2 no 28\n",
    "# ce.sz_bd.cross_section_layout.reinforcement.E_j[0] = 210000 / 100"
   ]
  },
  {
   "cell_type": "code",
   "execution_count": 4,
   "metadata": {
    "scrolled": false
   },
   "outputs": [],
   "source": [
    "%matplotlib widget\n",
    "import numpy as np\n",
    "import bmcs_utils.api as bu\n",
    "from bmcs_shear.shear_crack.crack_propagation import CrackPropagation\n",
    "ce = CrackPropagation(n_seg=200)\n",
    "ce.sz_bd.cmm.trait_set(tau_1 = 4, s_1 = 0.2, tau_2 = 3, tau_3 = 2, s_2 = 1.4, s_3 = 5)\n",
    "ce.sz_bd.cmm.trait_set(f_c = 33.3, f_t = 0.3 * 33.3 **(2/3), d_a = 16)\n",
    "ce.sz_bd.Rectangle = True\n",
    "ce.sz_bd.trait_set(H=600, B=250, L=3870)\n",
    "ce.sz_cp.trait_set(x_00=ce.sz_bd.L * 0.1, n_m = 4)\n",
    "ce.sz_cp.sz_ctr.L_fps = 100\n",
    "ce.sz_cp.sz_ctr.trait_set(ell = 2)\n",
    "ce.sz_bd.cross_section_layout.reinforcement.z_j[0] = 44\n",
    "ce.sz_bd.cross_section_layout.reinforcement.A_j[0] = 615.44 #2 no 28\n",
    "ce.sz_bd.cross_section_layout.reinforcement.E_j[0] = 210000\n",
    "\n",
    "#F_La, F_Na, F_m, Q_reduce, c_p = ce.analyze() \n",
    "#print(F_La, F_Na, c_p)"
   ]
  },
  {
   "cell_type": "code",
   "execution_count": 5,
   "metadata": {
    "pycharm": {
     "name": "#%%\n"
    },
    "scrolled": false
   },
   "outputs": [
    {
     "name": "stderr",
     "output_type": "stream",
     "text": [
      "<lambdifygenerated-25>:2: RuntimeWarning: invalid value encountered in sqrt\n",
      "  return (select([less_equal(w, 0),True], [0,0.25*f_c*s*(-sqrt(2)*sqrt(w/d_a) + 1)*((2.44 - 39.04/f_c)*abs(s/w)**3 + 9.8/f_c)/(w*(s**4*(2.44 - 39.04/f_c)/w**4 + 1))], default=nan))\n"
     ]
    },
    {
     "data": {
      "application/vnd.jupyter.widget-view+json": {
       "model_id": "ced9afcd01ba41759b07f8b0423d0985",
       "version_major": 2,
       "version_minor": 0
      },
      "text/plain": [
       "VBox(children=(Output(), Tab(children=(VBox(children=(GridBox(children=(HBox(children=(Button(icon='play', lay…"
      ]
     },
     "metadata": {},
     "output_type": "display_data"
    }
   ],
   "source": [
    "bu.InteractiveWindow([ce, ce.sz_bd, ce.sz_bd.cross_section_layout, \n",
    "                      ce.sz_stress_profile, \n",
    "                      ce.sz_bd.cmm, ce.sz_bd.smm, ce.sz_cp, ce.sz_cp.sz_ctr]).interact()"
   ]
  },
  {
   "cell_type": "code",
   "execution_count": 6,
   "metadata": {},
   "outputs": [],
   "source": [
    "#ce.w"
   ]
  },
  {
   "cell_type": "code",
   "execution_count": 7,
   "metadata": {},
   "outputs": [
    {
     "name": "stderr",
     "output_type": "stream",
     "text": [
      "<lambdifygenerated-25>:2: RuntimeWarning: invalid value encountered in sqrt\n",
      "  return (select([less_equal(w, 0),True], [0,0.25*f_c*s*(-sqrt(2)*sqrt(w/d_a) + 1)*((2.44 - 39.04/f_c)*abs(s/w)**3 + 9.8/f_c)/(w*(s**4*(2.44 - 39.04/f_c)/w**4 + 1))], default=nan))\n"
     ]
    },
    {
     "name": "stdout",
     "output_type": "stream",
     "text": [
      "[600.0, array([598.00000078]), array([596.00000389]), array([594.00001092]), array([592.00002343]), array([590.000036]), array([588.00004858]), array([586.00008713]), array([584.00013755]), array([582.00018789]), array([580.00023837]), array([578.00029071]), array([576.00034306]), array([574.0003954]), array([572.00045073]), array([570.00050606]), array([568.00056792]), array([566.00062978]), array([564.00069407]), array([562.00098115]), array([560.001299]), array([558.00164923]), array([556.00203347]), array([554.00241603]), array([552.0028727]), array([550.00332936]), array([548.00379652]), array([546.00437194]), array([544.00494735]), array([542.00560889]), array([540.00631538]), array([538.00702186]), array([536.00777402]), array([534.00852619]), array([532.00942486]), array([530.01037438]), array([528.01137565]), array([526.01242968]), array([524.01353757]), array([522.01469976]), array([520.01591796]), array([518.01719251]), array([516.01852398])]\n"
     ]
    }
   ],
   "source": [
    "ce.reset()\n",
    "ini_crck_point = ce.sz_cp.trait_set(x_00= 0.1 * ce.sz_bd.L)\n",
    "ce.run()\n",
    "H_s = []\n",
    "F_beam = ce.F_beam\n",
    "F_max_ = np.max(F_beam)\n",
    "F_max_i_ = np.argmax(F_beam)\n",
    "F_max_i_int = np.array(F_max_i_)\n",
    "x_tip_1k_ = ce.x_tip_1k[F_max_i_int]\n",
    "for i in range(len(F_beam)):\n",
    "    if ce.x_tip_1k[i] <= x_tip_1k_:\n",
    "        H_s_ = ce.sz_bd.H - ce.x_tip_1k[i]\n",
    "        #shear_agg = ce.shear_agg[i]\n",
    "        H_s.append(H_s_)\n",
    "    else:\n",
    "        break\n",
    "print(H_s)\n",
    "    #print(shear_agg)\n",
    "# H_s = []\n",
    "# F_beam = ce.F_beam\n",
    "# F_max_ = np.max(F_beam)\n",
    "# for i in range(len(F_beam)):\n",
    "#     if F_beam[i] == F_max_:\n",
    "#         H_s = ce.H_s\n",
    "#         #H_s.append(H_s)\n",
    "#     else:\n",
    "#         break\n",
    "#     print(H_s)"
   ]
  },
  {
   "cell_type": "code",
   "execution_count": 8,
   "metadata": {},
   "outputs": [],
   "source": [
    "ce.reset()\n",
    "ini_crck_point = ce.sz_cp.trait_set(x_00= 0.1 * ce.sz_bd.L)\n",
    "ce.run()\n",
    "F_beam = ce.F_beam\n",
    "F_max_ = np.max(F_beam)\n",
    "for i in range(len(F_beam)):\n",
    "    if F_beam[i] < F_max_:\n",
    "        pass\n",
    "    elif F_beam[i] == F_max_:\n",
    "        slip = ce.slip[i]\n",
    "        #H_s = ce.H_s\n",
    "        shear_agg = ce.shear_agg[i]\n",
    "        #print(slip)\n",
    "        #print(shear_agg)\n",
    "        #print(H_s)"
   ]
  },
  {
   "cell_type": "code",
   "execution_count": 9,
   "metadata": {
    "scrolled": false
   },
   "outputs": [],
   "source": [
    "ce.reset()\n",
    "ini_crck_point = ce.sz_cp.trait_set(x_00= 0.1 * ce.sz_bd.L)\n",
    "ce.run()\n",
    "F_beam = ce.F_beam\n",
    "F_max_ = np.max(F_beam)\n",
    "F_max_idx = np.argmax(F_beam)\n",
    "F_Na_ = ce.F_Na[F_max_idx]\n",
    "s_s = ce.s_steel[:F_max_idx]\n",
    "V_da = ce.F_Na[:F_max_idx]\n",
    "#slip = ce.slip\n",
    "#shear_agg = ce.shear_agg"
   ]
  },
  {
   "cell_type": "code",
   "execution_count": 10,
   "metadata": {},
   "outputs": [
    {
     "data": {
      "application/vnd.jupyter.widget-view+json": {
       "model_id": "7affa3ac320f48a0b0c3cd74a5770b16",
       "version_major": 2,
       "version_minor": 0
      },
      "text/plain": [
       "Canvas(toolbar=Toolbar(toolitems=[('Home', 'Reset original view', 'home', 'home'), ('Back', 'Back to previous …"
      ]
     },
     "metadata": {},
     "output_type": "display_data"
    },
    {
     "name": "stderr",
     "output_type": "stream",
     "text": [
      "C:\\Users\\fahad\\Anaconda3\\envs\\bmcs_env\\lib\\site-packages\\numpy\\core\\_asarray.py:136: VisibleDeprecationWarning: Creating an ndarray from ragged nested sequences (which is a list-or-tuple of lists-or-tuples-or ndarrays with different lengths or shapes) is deprecated. If you meant to do this, you must specify 'dtype=object' when creating the ndarray\n",
      "  return array(a, dtype, copy=False, order=order, subok=True)\n"
     ]
    },
    {
     "data": {
      "text/plain": [
       "<matplotlib.legend.Legend at 0x265511be730>"
      ]
     },
     "execution_count": 10,
     "metadata": {},
     "output_type": "execute_result"
    }
   ],
   "source": [
    "import matplotlib.pylab as plt\n",
    "_, (ax1, ax2) = plt.subplots(1, 2, figsize=(11,4))\n",
    "ax1.plot(s_s, V_da , color = 'blue', lw= 2, label = '$V_{da}$');\n",
    "ax1.set_xlabel(r'$slip\\,(mm)}$'); ax1.set_ylabel(r'$V (N)$');\n",
    "ax1.set_title(r'Dowel Force Contribution')\n",
    "ax1.legend()\n",
    "ax2.plot(slip, shear_agg , color = 'red', lw= 2, label = r'$\\tau_{agg}$');\n",
    "ax2.set_xlabel(r'$slip\\,(mm)}$'); ax2.set_ylabel(r'$\\tau_{agg}$');\n",
    "ax2.set_title(r'Aggregate Force Contribution at Ultimate state')\n",
    "ax2.legend()\n",
    "#plt.savefig(\"D:\\Shear zones\\Python plots\\dowel_agg_09.pdf\")"
   ]
  },
  {
   "cell_type": "code",
   "execution_count": 11,
   "metadata": {},
   "outputs": [],
   "source": [
    "# import matplotlib.pylab as plt\n",
    "# _, (ax1, ax2) = plt.subplots(1, 2, figsize=(11,4))\n",
    "# ax1.plot(ce.sz_stress_profile.u_Lb[:,1], ce.sz_stress_profile.S_Lb[:,1] , color = 'blue', lw= 2, label = '$F_{agg}$');\n",
    "# ax2.plot(s_s, ce.sz_stress_profile.S_Lb[:,0] , color = 'blue', lw= 2, label = '$F_{agg}$');"
   ]
  },
  {
   "cell_type": "code",
   "execution_count": 12,
   "metadata": {},
   "outputs": [],
   "source": [
    "# import numpy as np\n",
    "# np.max(ce.F_beam)# + ce.crack_tip_shear_stress.Q + ce.crack_tip_shear_stress.Q_reduced"
   ]
  },
  {
   "cell_type": "code",
   "execution_count": 13,
   "metadata": {},
   "outputs": [],
   "source": [
    "#ce.sz_stress_profile.F_La"
   ]
  },
  {
   "cell_type": "code",
   "execution_count": 14,
   "metadata": {},
   "outputs": [
    {
     "name": "stderr",
     "output_type": "stream",
     "text": [
      "<lambdifygenerated-25>:2: RuntimeWarning: invalid value encountered in sqrt\n",
      "  return (select([less_equal(w, 0),True], [0,0.25*f_c*s*(-sqrt(2)*sqrt(w/d_a) + 1)*((2.44 - 39.04/f_c)*abs(s/w)**3 + 9.8/f_c)/(w*(s**4*(2.44 - 39.04/f_c)/w**4 + 1))], default=nan))\n"
     ]
    },
    {
     "name": "stdout",
     "output_type": "stream",
     "text": [
      "crack position = [ 387.  731. 1075. 1419. 1763. 2107. 2451. 2795. 3139. 3483.]\n",
      "w_steel = [array([0.05606143]), array([0.05747596]), array([0.0547385]), array([0.05606388]), array([0.05608275]), array([0.05608834]), array([0.05607257]), array([0.05475651]), array([0.05435094]), array([0.05277817])]\n",
      "w = [0.05925815897673649, 0.060328893228894336, 0.05829272963530123, 0.05927200263249007, 0.059303024580409605, 0.05931960048714371, 0.059314816095956596, 0.05835950506044401, 0.05814437839361339, 0.0571715605520126]\n"
     ]
    }
   ],
   "source": [
    "import numpy as np\n",
    "crack_positions = np.linspace(0.1 * ce.sz_bd.L, 0.9 * ce.sz_bd.L, 10)\n",
    "F_max = []\n",
    "F_a = []\n",
    "Q = []\n",
    "Q_red = []\n",
    "F_max_i = []\n",
    "F_Na = []\n",
    "F_s = []\n",
    "slip = []\n",
    "steel_slip = []\n",
    "shear_stress = []\n",
    "w = []\n",
    "w_steel = []\n",
    "V_c = []\n",
    "F_agg = []\n",
    "for crack_position in crack_positions:\n",
    "    ce.reset()\n",
    "    ce.sz_cp.trait_set(x_00=crack_position)\n",
    "    ce.run()\n",
    "    F_beam = ce.F_beam\n",
    "    F_max_ = np.max(F_beam)\n",
    "    F_max_i_ = np.argmax(F_beam)\n",
    "    F_max_i_int = np.array(F_max_i_)\n",
    "    F_Na_ = ce.F_Na[F_max_i_int]\n",
    "    F_s_ = ce.F_s[F_max_i_int]\n",
    "    slip_ = ce.slip[F_max_i_int][F_max_i_int]\n",
    "    w_ = ce.w[F_max_i_int][F_max_i_int]\n",
    "    steel_slip_ = ce.s_steel[F_max_i_int]\n",
    "    w_steel_ = ce.w_steel[F_max_i_int]\n",
    "    shear_stress_ = ce.shear_agg[F_max_i_int][F_max_i_int]\n",
    "    F_a_ = ce.F_a[F_max_i_int][1]\n",
    "    F_agg_ = F_a_ - F_Na_\n",
    "    Q_ = ce.Q[F_max_i_int]\n",
    "    Q_red_ =  ce.Q_red[F_max_i_int]\n",
    "    #V_c_ = Q_ + Q_red_ + F_a_\n",
    "    F_max.append(F_max_)\n",
    "    F_max_i.append(F_max_i_)\n",
    "    F_Na.append(F_Na_)\n",
    "    F_s.append(F_s_)\n",
    "    F_a.append(F_a_)\n",
    "    F_agg.append(F_agg_)\n",
    "    slip.append(slip_)\n",
    "    w.append(w_)\n",
    "    steel_slip.append(steel_slip_)\n",
    "    w_steel.append(w_steel_)\n",
    "    shear_stress.append(shear_stress_)\n",
    "    Q.append(Q_)\n",
    "    Q_red.append(Q_red_)\n",
    "    #V_c.append(V_c_)\n",
    "# print('F_max =', F_max)\n",
    "# print('F_max_i =', F_max_i)\n",
    "# print('F_Na =', F_Na)\n",
    "# print('F_s =', F_s)\n",
    "# #print(type(F_Na))\n",
    "# print('F_a = ', F_a)\n",
    "# print('Q =', Q)\n",
    "# print('Q_red =', Q_red)\n",
    "# # #print('V_c =', V_c)\n",
    "print('crack position =', crack_positions)\n",
    "#print('slip =', slip)\n",
    "#print('shear stress =', shear_stress)\n",
    "#print('steel slip =', steel_slip)\n",
    "#print('F_agg =', F_agg)\n",
    "print('w_steel =', w_steel)\n",
    "print('w =', w)"
   ]
  },
  {
   "cell_type": "code",
   "execution_count": 15,
   "metadata": {},
   "outputs": [],
   "source": [
    "#F_a"
   ]
  },
  {
   "cell_type": "code",
   "execution_count": 16,
   "metadata": {},
   "outputs": [
    {
     "data": {
      "application/vnd.jupyter.widget-view+json": {
       "model_id": "d48e1554868c40719e042557a46b1cb3",
       "version_major": 2,
       "version_minor": 0
      },
      "text/plain": [
       "Canvas(toolbar=Toolbar(toolitems=[('Home', 'Reset original view', 'home', 'home'), ('Back', 'Back to previous …"
      ]
     },
     "metadata": {},
     "output_type": "display_data"
    }
   ],
   "source": [
    "import matplotlib.pylab as plt\n",
    "_, (ax1, ax2) = plt.subplots(1, 2, figsize=(11,4))\n",
    "ax1.plot(crack_positions, F_agg , color = 'blue', lw= 2, label = r'$F_{agg}$'); #/1000#\n",
    "#ax1.plot(slip, , color = 'red', lw = 2, label = '$F_{dowel}$');\n",
    "ax1.set_xlabel(r'$\\mathrm{Length\\,of\\,the\\,beam\\,(mm)}$'); ax1.set_ylabel(r'$F\\,(N)$');\n",
    "ax1.set_title(r'Force contribution due to aggregate interlock')\n",
    "ax1.legend()\n",
    "plt.savefig(\"D:\\Shear zones\\Python plots\\shear_force_agg_Lfps100.pdf\")"
   ]
  },
  {
   "cell_type": "code",
   "execution_count": 17,
   "metadata": {},
   "outputs": [
    {
     "data": {
      "application/vnd.jupyter.widget-view+json": {
       "model_id": "91a8af32aeb34f2da0db13393e71943d",
       "version_major": 2,
       "version_minor": 0
      },
      "text/plain": [
       "Canvas(toolbar=Toolbar(toolitems=[('Home', 'Reset original view', 'home', 'home'), ('Back', 'Back to previous …"
      ]
     },
     "metadata": {},
     "output_type": "display_data"
    }
   ],
   "source": [
    "import matplotlib.pylab as plt\n",
    "_, (ax1, ax2) = plt.subplots(1, 2, figsize=(11,4))\n",
    "ax1.plot(crack_positions, shear_stress , color = 'blue', lw= 2, label = r'$\\tau_{agg}$'); #/1000#\n",
    "#ax1.plot(slip, , color = 'red', lw = 2, label = '$F_{dowel}$');\n",
    "ax1.set_xlabel(r'$\\mathrm{Length\\,of\\,the\\,beam\\,(mm)}$'); ax1.set_ylabel(r'$\\tau\\,(MPa)$');\n",
    "ax1.set_title(r'Shear Stress due to Aggregate Interlock')\n",
    "ax1.legend()\n",
    "ax2.plot(crack_positions, slip , color = 'red', lw= 2, label = '$slip\\,(mm)$');\n",
    "ax2.set_xlabel(r'$\\mathrm{Length\\,of\\,the\\,beam\\,(mm)}$'); ax2.set_ylabel(r'$slip\\,(mm)$');\n",
    "ax2.set_title(r'Slip due to Aggregate Interlock')\n",
    "ax2.legend()\n",
    "plt.savefig(\"D:\\Shear zones\\Python plots\\slip_shear_Lfps100.pdf\")"
   ]
  },
  {
   "cell_type": "code",
   "execution_count": 18,
   "metadata": {},
   "outputs": [
    {
     "data": {
      "application/vnd.jupyter.widget-view+json": {
       "model_id": "2746b8a61d7c412c883e6787de81ff50",
       "version_major": 2,
       "version_minor": 0
      },
      "text/plain": [
       "Canvas(toolbar=Toolbar(toolitems=[('Home', 'Reset original view', 'home', 'home'), ('Back', 'Back to previous …"
      ]
     },
     "metadata": {},
     "output_type": "display_data"
    }
   ],
   "source": [
    "import matplotlib.pylab as plt\n",
    "_, (ax1, ax2) = plt.subplots(1, 2, figsize=(11,4))\n",
    "ax1.plot(crack_positions,  F_Na, color = 'blue', lw= 2, label = r'$F_{Na}$'); #/1000#\n",
    "ax1.set_xlabel(r'$\\mathrm{Length\\,of\\,the\\,beam\\,(mm)}$'); ax1.set_ylabel(r'$F\\,(N)$');\n",
    "ax1.set_title(r'Dowel force due to Dowel Action')\n",
    "ax2.plot(crack_positions, steel_slip , color = 'red', lw= 2, label = '$slip\\,(mm)$');\n",
    "ax2.set_xlabel(r'$\\mathrm{Length\\,of\\,the\\,beam\\,(mm)}$'); ax2.set_ylabel(r'$steel\\,slip\\,(mm)$');\n",
    "ax2.set_title(r'Slip due to dowel force')\n",
    "ax2.legend()\n",
    "plt.savefig(\"D:\\Shear zones\\Python plots\\dowel_slip_length_Lfps100.pdf\")"
   ]
  },
  {
   "cell_type": "code",
   "execution_count": 19,
   "metadata": {},
   "outputs": [
    {
     "data": {
      "application/vnd.jupyter.widget-view+json": {
       "model_id": "61cc4a15bd494d59bff09e805161f7c7",
       "version_major": 2,
       "version_minor": 0
      },
      "text/plain": [
       "Canvas(toolbar=Toolbar(toolitems=[('Home', 'Reset original view', 'home', 'home'), ('Back', 'Back to previous …"
      ]
     },
     "metadata": {},
     "output_type": "display_data"
    }
   ],
   "source": [
    "import matplotlib.pylab as plt\n",
    "_, (ax1) = plt.subplots(1, 1, figsize=(6,4))\n",
    "# ax1.plot(crack_positions, w, color = 'blue', lw= 2, label = r'$w(mm)}$'); #/1000#\n",
    "# ax1.set_xlabel(r'$\\mathrm{Length\\,of\\,the\\,beam\\,(mm)}$'); ax1.set_ylabel(r'$w\\,(mm)$');\n",
    "# ax1.set_title(r'Crack opening at the ultimate state due to aggregate')\n",
    "# ax1.legend()\n",
    "ax1.plot(crack_positions, w_steel , color = 'red', lw= 2, label = '$w\\,(mm)$');\n",
    "ax1.set_xlabel(r'$\\mathrm{Length\\,of\\,the\\,beam\\,(mm)}$'); ax2.set_ylabel(r'$w\\,(mm)$');\n",
    "ax1.set_title(r'Crack Opening at the ultimate state at longitudinal reinforcement')\n",
    "ax1.legend()\n",
    "plt.savefig(\"D:\\Shear zones\\Python plots\\w_steel_Lfps100.pdf\")"
   ]
  },
  {
   "cell_type": "code",
   "execution_count": 26,
   "metadata": {},
   "outputs": [
    {
     "name": "stdout",
     "output_type": "stream",
     "text": [
      "slip = [-0.000726964483100147, -0.000516580322424475, -0.0003439246813061531, 0.0001843093497445993, 0.00041340741441192944, 0.0008034731812140191, 0.001033320991058186, 0.001601856050631189, 0.002424950764403015, 0.002143751263444145]\n",
      "w = [0.059303953716074824, 0.05899608940447942, 0.05898724802469888, 0.061083510709887316, 0.059324984148690016, 0.057971844177540297, 0.06068327025821125, 0.060682380931969745, 0.05996183945893459, 0.06142313890506613]\n",
      "w_steel = [array([0.05611296]), array([0.05567602]), array([0.05566353]), array([0.0584676]), array([0.05609967]), array([0.05429238]), array([0.05792077]), array([0.05784657]), array([0.05691484]), array([0.05881724])]\n",
      "steel_slip = [array([0.00032549]), array([0.00053263]), array([0.00078485]), array([0.00139925]), array([0.00163899]), array([0.00171555]), array([0.00241072]), array([0.00390869]), array([0.00374745]), array([0.00432857])]\n",
      "L_fps = [  2.  24.  46.  68.  90. 112. 134. 156. 178. 200.]\n"
     ]
    }
   ],
   "source": [
    "L_fps_ = np.linspace(2, 200, 10)\n",
    "crack_position = ce.sz_bd.L  * 0.5\n",
    "F_max = []\n",
    "F_max_i = []\n",
    "F_a = []\n",
    "F_Na = []\n",
    "F_s = []\n",
    "slip = []\n",
    "steel_slip = []\n",
    "shear_stress = []\n",
    "w = []\n",
    "w_steel = []\n",
    "F_agg = []\n",
    "for L_fps in L_fps_:\n",
    "    ce.reset()\n",
    "    ce.sz_cp.sz_ctr.trait_set(L_fps=L_fps)\n",
    "    ce.sz_cp.trait_set(x_00=crack_position)\n",
    "    ce.run()\n",
    "    F_beam = ce.F_beam\n",
    "    F_max_ = np.max(F_beam)\n",
    "    F_max_i_ = np.argmax(F_beam)\n",
    "    F_max_i_int = np.array(F_max_i_)\n",
    "    F_Na_ = ce.F_Na[F_max_i_int]\n",
    "    F_s_ = ce.F_s[F_max_i_int]\n",
    "    slip_ = ce.slip[F_max_i_int][F_max_i_int]\n",
    "    w_ = ce.w[F_max_i_int][F_max_i_int]\n",
    "    steel_slip_ = ce.s_steel[F_max_i_int]\n",
    "    w_steel_ = ce.w_steel[F_max_i_int]\n",
    "    shear_stress_ = ce.shear_agg[F_max_i_int][F_max_i_int]\n",
    "    F_a_ = ce.F_a[F_max_i_int][1]\n",
    "    F_agg_ = F_a_ - F_Na_\n",
    "#     F_beam = ce.F_beam\n",
    "#     F_max_ = np.max(F_beam)\n",
    "#     F_max_i_ = np.argmax(F_beam)\n",
    "#     F_max_i_int = np.array(F_max_i_)\n",
    "    F_max_i.append(F_max_i_)\n",
    "    F_max.append(F_max_)\n",
    "    F_Na.append(F_Na_)\n",
    "    F_s.append(F_s_)\n",
    "    F_a.append(F_a_)\n",
    "    F_agg.append(F_agg_)\n",
    "    slip.append(slip_)\n",
    "    w.append(w_)\n",
    "    steel_slip.append(steel_slip_)\n",
    "    w_steel.append(w_steel_)\n",
    "    shear_stress.append(shear_stress_)\n",
    "#print(F_max)\n",
    "#print(F_max_i)\n",
    "print('slip =', slip)\n",
    "print('w =', w)\n",
    "print('w_steel =', w_steel)\n",
    "print('steel_slip =', steel_slip)\n",
    "print('L_fps =', L_fps_)"
   ]
  },
  {
   "cell_type": "code",
   "execution_count": 27,
   "metadata": {},
   "outputs": [
    {
     "data": {
      "application/vnd.jupyter.widget-view+json": {
       "model_id": "75d129530e5047808d978df2fbad5e03",
       "version_major": 2,
       "version_minor": 0
      },
      "text/plain": [
       "Canvas(toolbar=Toolbar(toolitems=[('Home', 'Reset original view', 'home', 'home'), ('Back', 'Back to previous …"
      ]
     },
     "metadata": {},
     "output_type": "display_data"
    },
    {
     "data": {
      "text/plain": [
       "<matplotlib.legend.Legend at 0x265547728e0>"
      ]
     },
     "execution_count": 27,
     "metadata": {},
     "output_type": "execute_result"
    }
   ],
   "source": [
    "import matplotlib.pylab as plt\n",
    "_, (ax1, ax2) = plt.subplots(1, 2, figsize=(11,4))\n",
    "ax1.plot(L_fps_, steel_slip, color = 'blue', lw= 2, label = r'$s_{s}(mm)}$');#/1000#\n",
    "#ax1.plot(crack_positions, slip, color = 'red', lw= 2, label = r'$s(mm)}$');\n",
    "ax1.set_xlabel(r'$\\mathrm{Length\\,of\\,FPZ\\,(mm)}$'); ax1.set_ylabel(r'$s\\,(mm)$');\n",
    "ax1.set_title(r'Slip at the steel reinforcement $x_{00}$= 0.5L')\n",
    "ax1.legend()\n",
    "ax2.plot(L_fps_, w_steel , color = 'red', lw= 2, label = '$w\\,(mm)$');\n",
    "ax2.set_xlabel('$\\mathrm{Length\\,of\\,FPZ\\,(mm)}$'); ax2.set_ylabel(r'$w\\,(mm)$');\n",
    "ax2.set_title(r'Crack Opening at the ultimate state at longitudinal reinforcement')\n",
    "ax2.legend()\n",
    "#plt.savefig(\"D:\\Shear zones\\Python plots\\w_steel_Lfps.pdf\")"
   ]
  },
  {
   "cell_type": "code",
   "execution_count": 28,
   "metadata": {},
   "outputs": [
    {
     "data": {
      "application/vnd.jupyter.widget-view+json": {
       "model_id": "53d0797f100d40cda4679ef9a2cabeda",
       "version_major": 2,
       "version_minor": 0
      },
      "text/plain": [
       "Canvas(toolbar=Toolbar(toolitems=[('Home', 'Reset original view', 'home', 'home'), ('Back', 'Back to previous …"
      ]
     },
     "metadata": {},
     "output_type": "display_data"
    },
    {
     "data": {
      "text/plain": [
       "<matplotlib.legend.Legend at 0x2655703fe20>"
      ]
     },
     "execution_count": 28,
     "metadata": {},
     "output_type": "execute_result"
    }
   ],
   "source": [
    "import matplotlib.pylab as plt\n",
    "_, (ax1, ax2) = plt.subplots(1, 2, figsize=(11,4))\n",
    "ax1.plot(L_fps_,F_Na, color = 'blue', lw= 2, label = r'$s_{s}(mm)}$');#/1000#\n",
    "#ax1.plot(crack_positions, slip, color = 'red', lw= 2, label = r'$s(mm)}$');\n",
    "ax1.set_xlabel(r'$\\mathrm{Length\\,of\\,FPZ\\,(mm)}$'); ax1.set_ylabel(r'$F_{da}\\,(Na)$');\n",
    "ax1.set_title(r'Dowel Force')\n",
    "ax1.legend()\n",
    "ax2.plot(L_fps_, F_a , color = 'red', lw= 2, label = '$w\\,(mm)$');\n",
    "ax2.set_xlabel('$\\mathrm{Length\\,of\\,FPZ\\,(mm)}$'); ax2.set_ylabel(r'$F_{ag}\\,(mm)$');\n",
    "ax2.set_title(r'Aggregate Force')\n",
    "ax2.legend()\n",
    "#plt.savefig(\"D:\\Shear zones\\Python plots\\F_Na_agg.pdf\")"
   ]
  },
  {
   "cell_type": "code",
   "execution_count": 29,
   "metadata": {},
   "outputs": [
    {
     "data": {
      "application/vnd.jupyter.widget-view+json": {
       "model_id": "91b1b39c0ba948bb8376d5d199c9361e",
       "version_major": 2,
       "version_minor": 0
      },
      "text/plain": [
       "Canvas(toolbar=Toolbar(toolitems=[('Home', 'Reset original view', 'home', 'home'), ('Back', 'Back to previous …"
      ]
     },
     "metadata": {},
     "output_type": "display_data"
    },
    {
     "data": {
      "text/plain": [
       "<matplotlib.legend.Legend at 0x265547bcca0>"
      ]
     },
     "execution_count": 29,
     "metadata": {},
     "output_type": "execute_result"
    }
   ],
   "source": [
    "import matplotlib.pylab as plt\n",
    "_, (ax1, ax2) = plt.subplots(1, 2, figsize=(11,4))\n",
    "ax1.plot(L_fps_, slip, color = 'blue', lw= 2, label = r'$s_{s}(mm)}$');#/1000#\n",
    "#ax1.plot(crack_positions, slip, color = 'red', lw= 2, label = r'$s(mm)}$');\n",
    "ax1.set_xlabel(r'$\\mathrm{Length\\,of\\,FPZ\\,(mm)}$'); ax1.set_ylabel(r'$s\\,(mm)$');\n",
    "ax1.set_title(r'Slip at aggregate interlock')\n",
    "ax1.legend()\n",
    "ax2.plot(L_fps_, shear_stress , color = 'red', lw= 2, label = '$w\\,(mm)$');\n",
    "ax2.set_xlabel('$\\mathrm{Length\\,of\\,FPZ\\,(mm)}$'); ax2.set_ylabel(r'$\\tau_{ag}\\,(MPa)$');\n",
    "ax2.set_title(r'Shear stress due to aggregate interlock')\n",
    "ax2.legend()\n",
    "#plt.savefig(\"D:\\Shear zones\\Python plots\\shear_slip_agg.pdf\")"
   ]
  },
  {
   "cell_type": "code",
   "execution_count": 30,
   "metadata": {},
   "outputs": [
    {
     "data": {
      "application/vnd.jupyter.widget-view+json": {
       "model_id": "a806a7915074446887a6cbc41b7794f2",
       "version_major": 2,
       "version_minor": 0
      },
      "text/plain": [
       "Canvas(toolbar=Toolbar(toolitems=[('Home', 'Reset original view', 'home', 'home'), ('Back', 'Back to previous …"
      ]
     },
     "metadata": {},
     "output_type": "display_data"
    },
    {
     "data": {
      "text/plain": [
       "<matplotlib.legend.Legend at 0x26556f33dc0>"
      ]
     },
     "execution_count": 30,
     "metadata": {},
     "output_type": "execute_result"
    }
   ],
   "source": [
    "import matplotlib.pylab as plt\n",
    "_, (ax1, ax2) = plt.subplots(1, 2, figsize=(11,4))\n",
    "ax1.plot(L_fps_, F_max, color = 'blue', lw= 2, label = r'$s_{s}(mm)}$');#/1000#\n",
    "#ax1.plot(crack_positions, slip, color = 'red', lw= 2, label = r'$s(mm)}$');\n",
    "ax1.set_xlabel(r'$\\mathrm{Length\\,of\\,FPZ\\,(mm)}$'); ax1.set_ylabel(r'$F_{max}\\,(N)$');\n",
    "ax1.set_title(r'Maximum Force Contribution')\n",
    "ax1.legend()\n",
    "ax2.plot(L_fps_, F_s , color = 'red', lw= 2, label = '$w\\,(mm)$');\n",
    "ax2.set_xlabel('$\\mathrm{Length\\,of\\,FPZ\\,(mm)}$'); ax2.set_ylabel(r'$F_{s}\\,(N)$');\n",
    "ax2.set_title(r'Horizontal Force component at steel')\n",
    "ax2.legend()\n",
    "#plt.savefig(\"D:\\Shear zones\\Python plots\\F_max_F_steel.pdf\")"
   ]
  },
  {
   "cell_type": "code",
   "execution_count": 52,
   "metadata": {
    "scrolled": false
   },
   "outputs": [
    {
     "name": "stdout",
     "output_type": "stream",
     "text": [
      "387.0\n"
     ]
    },
    {
     "name": "stderr",
     "output_type": "stream",
     "text": [
      "<lambdifygenerated-25>:2: RuntimeWarning: invalid value encountered in sqrt\n",
      "  return (select([less_equal(w, 0),True], [0,0.25*f_c*s*(-sqrt(2)*sqrt(w/d_a) + 1)*((2.44 - 39.04/f_c)*abs(s/w)**3 + 9.8/f_c)/(w*(s**4*(2.44 - 39.04/f_c)/w**4 + 1))], default=nan))\n"
     ]
    },
    {
     "name": "stdout",
     "output_type": "stream",
     "text": [
      "387.0\n",
      "387.0\n"
     ]
    },
    {
     "name": "stderr",
     "output_type": "stream",
     "text": [
      "<lambdifygenerated-29>:2: RuntimeWarning: invalid value encountered in power\n",
      "  return (select([less_equal(s, s_1),less_equal(s, s_2),less_equal(s, s_3),True], [2.5*sqrt(f_c)*(s/s_1)**Dummy_181,2.5*sqrt(f_c),-1.5*sqrt(f_c)*(s - s_2)/(-s_2 + s_3) + 2.5*sqrt(f_c),1.0*sqrt(f_c)], default=nan))\n"
     ]
    },
    {
     "name": "stdout",
     "output_type": "stream",
     "text": [
      "387.0\n"
     ]
    },
    {
     "name": "stderr",
     "output_type": "stream",
     "text": [
      "<lambdifygenerated-24>:2: RuntimeWarning: overflow encountered in exp\n",
      "  return (select([less(f_c, -35.7142857142857*d_a**(-0.32)*f_c**(-0.18)*f_t**2*w),less_equal(w, 0.028*d_a**0.32*f_c**0.18/f_t),True], [-f_c,35.7142857142857*d_a**(-0.32)*f_c**(-0.18)*f_t**2*w,f_t*exp(-35.7142857142857*d_a**(-0.32)*f_c**(-0.18)*f_t*(-0.028*d_a**0.32*f_c**0.18/f_t + w))], default=nan))\n"
     ]
    },
    {
     "name": "stdout",
     "output_type": "stream",
     "text": [
      "774.0\n",
      "774.0\n",
      "774.0\n",
      "774.0\n",
      "1161.0\n",
      "1161.0\n",
      "1161.0\n",
      "1161.0\n",
      "1548.0\n",
      "1548.0\n",
      "1548.0\n",
      "1548.0\n",
      "1935.0\n",
      "1935.0\n",
      "1935.0\n",
      "1935.0\n",
      "2322.0\n",
      "2322.0\n",
      "2322.0\n",
      "2322.0\n",
      "2709.0\n",
      "2709.0\n",
      "2709.0\n",
      "2709.0\n",
      "3096.0\n",
      "3096.0\n",
      "3096.0\n",
      "3096.0\n",
      "3483.0\n",
      "3483.0\n",
      "3483.0\n",
      "3483.0\n",
      "F_max = [[ 33118.57045139  33181.29867415  33072.89145429  33693.17830644]\n",
      " [ 37195.63312798  37336.36218431  37285.34753056  37899.93560038]\n",
      " [ 42578.52991752  42626.1740633   42527.44070035  43259.4701105 ]\n",
      " [ 49624.52391897  49727.55316613  49617.12808937  50375.57659889]\n",
      " [ 59443.62779801  59663.65953539  59615.26710867  60507.72254131]\n",
      " [ 74264.97217263  74602.5715755   74336.05775697  75634.1311826 ]\n",
      " [ 99111.07754514  99389.48867381  99249.19899177 100586.22288786]\n",
      " [148154.328755   148770.33238473 148143.09442122 150104.18859956]\n",
      " [293533.46422136 295545.56508736 293818.05517616 295262.94970153]]\n",
      "F_Na = [[  6.75286238  29.4112745   45.7110626   82.19732217]\n",
      " [ 12.26419674  31.39119624  57.78416935  90.54898152]\n",
      " [  9.19949688  27.98518532  45.6394117   93.80181007]\n",
      " [ 14.33078986  34.25026812  86.4812763  128.32927278]\n",
      " [ 12.58191801  53.50643692  91.23850007 160.60397947]\n",
      " [ 15.77690792  55.5178423  100.01364717 177.35100414]\n",
      " [ 25.46525974  72.55817886 125.19766128 230.52882712]\n",
      " [ 17.70984581  97.12184645 171.30239803 309.26363272]\n",
      " [ 24.82738651 132.83940371 232.01855986 346.18348306]]\n",
      "F_s = [[3897.77584087 3962.11359875 3909.30862277 3936.24754736]\n",
      " [4002.08096711 3949.13583345 3961.3999976  3935.93943823]\n",
      " [3910.81868401 3872.58511133 3834.86610618 3884.38254948]\n",
      " [3976.15207359 3872.8111774  4013.88920108 3959.91205261]\n",
      " [3910.88215121 3975.71795258 3960.80257552 3985.21097214]\n",
      " [3912.0024913  3911.27630775 3908.43950268 3931.25504075]\n",
      " [3953.54963781 3912.15583849 3895.67372067 3926.51927378]\n",
      " [3829.55875378 3888.91975361 3868.66528848 3890.51793327]\n",
      " [3805.88789913 3822.57799481 3781.75792759 3710.24162081]]\n",
      "slip = [[-3.63345019e-04  5.51108848e-06  5.02555877e-04  1.39578653e-03]\n",
      " [-4.83734924e-04 -9.38266231e-05  5.84416664e-04  1.28902337e-03]\n",
      " [-4.57853544e-04 -6.27203996e-05  5.47672513e-04  1.26603044e-03]\n",
      " [-5.56493432e-04 -1.04352166e-04  1.14298674e-03  1.73476729e-03]\n",
      " [-7.26964483e-04  1.84309350e-04  1.03332099e-03  2.14375126e-03]\n",
      " [-8.42595904e-04  2.47750709e-04  9.80471956e-04  2.63328917e-03]\n",
      " [-1.27460242e-03  1.19511208e-04  1.44198652e-03  3.26028496e-03]\n",
      " [-1.47317131e-03 -4.36570459e-04  2.23959795e-03  4.51340122e-03]\n",
      " [-2.80459004e-03  9.10504900e-04  1.99746539e-03  6.23025918e-03]]\n",
      "w = [[0.05896002 0.06069569 0.05925995 0.06003496]\n",
      " [0.06178391 0.06034579 0.06067981 0.06003447]\n",
      " [0.05931057 0.05830155 0.05731394 0.05866157]\n",
      " [0.06107933 0.05831278 0.06212894 0.06069481]\n",
      " [0.05930395 0.06108351 0.06068327 0.06142314]\n",
      " [0.0593452  0.0593517  0.05927421 0.0599706 ]\n",
      " [0.06049696 0.0594016  0.05897235 0.05991801]\n",
      " [0.05722415 0.05883957 0.05830887 0.05910481]\n",
      " [0.05670955 0.05725041 0.0562914  0.05454825]]\n",
      "steel_slip = [[0.00017443 0.00076422 0.0011929  0.00216641]\n",
      " [0.00031724 0.00081609 0.00151286 0.00239204]\n",
      " [0.00023778 0.00072689 0.00119101 0.00248021]\n",
      " [0.0003709  0.00089109 0.00228201 0.0034264 ]\n",
      " [0.00032549 0.00139925 0.00241072 0.00432857]\n",
      " [0.00040848 0.00145264 0.00264905 0.00480379]\n",
      " [0.000661   0.0019073  0.00333979 0.00634709]\n",
      " [0.00045876 0.00257037 0.00463158 0.00873794]\n",
      " [0.00064433 0.00355142 0.00639111 0.00990812]]\n",
      "w_steel = [[0.05564402 0.05796872 0.05605654 0.05702724]\n",
      " [0.05944168 0.05749519 0.05794262 0.05701608]\n",
      " [0.05611069 0.05474933 0.0534259  0.05516725]\n",
      " [0.05848356 0.05475732 0.05988111 0.05788822]\n",
      " [0.05611296 0.0584676  0.05792077 0.05881724]\n",
      " [0.05615316 0.0561271  0.05602539 0.05684659]\n",
      " [0.05765598 0.05615866 0.05556903 0.05667554]\n",
      " [0.05324125 0.05532849 0.05461089 0.05538535]\n",
      " [0.05242233 0.05299895 0.05159536 0.04919057]]\n",
      "shear_stress = [[-3.45053289e+00  5.07700211e-02  4.74727930e+00  1.30074467e+01]\n",
      " [-4.37412071e+00 -8.69613916e-01  5.38534204e+00  1.20124767e+01]\n",
      " [-4.32114117e+00 -6.02672296e-01  5.35746675e+00  1.20875055e+01]\n",
      " [-5.09288890e+00 -1.00250438e+00  1.02754294e+01  1.59831026e+01]\n",
      " [-6.86180456e+00  1.68662692e+00  9.52154664e+00  1.95074829e+01]\n",
      " [-7.94749392e+00  2.33652703e+00  9.25962569e+00  2.45749373e+01]\n",
      " [-1.17829558e+01  1.12611362e+00  1.36917779e+01  3.04641193e+01]\n",
      " [-1.44355795e+01 -4.15481287e+00  2.15223738e+01  4.28320375e+01]\n",
      " [-2.77552715e+01  8.91724290e+00  1.99148387e+01  6.45783424e+01]]\n",
      "F_a = [[  165.86630814  1244.72304054  2261.33192367  4951.78533012]\n",
      " [  262.30839544  1327.17525253  2839.41833703  5545.76644849]\n",
      " [  218.58378856  1229.95088013  2279.89276739  5610.64329859]\n",
      " [  310.62886816  1526.21445998  4248.57593541  7849.52417884]\n",
      " [  293.3681072   2250.58362063  4510.98812947 10016.07425392]\n",
      " [  363.28789827  2393.46553291  5015.73342002 10979.13633611]\n",
      " [  545.22156428  3141.20040255  6287.55842231 14449.5945674 ]\n",
      " [  479.19712828  4260.87119946  8740.38699779 19806.50959273]\n",
      " [  714.6993041   5867.00260432 12018.55353    21809.00683814]]\n"
     ]
    }
   ],
   "source": [
    "L_fps_num = 4\n",
    "L_fps_ = np.linspace(2, 200, L_fps_num)\n",
    "crack_positions_num = 9\n",
    "crack_positions = np.linspace(ce.sz_bd.L  * 0.1, ce.sz_bd.L  * 0.9, crack_positions_num) \n",
    "# F_max = []\n",
    "F_max = np.zeros([crack_positions_num, L_fps_num])\n",
    "F_Na = np.zeros([crack_positions_num, L_fps_num])\n",
    "F_s = np.zeros([crack_positions_num, L_fps_num])\n",
    "F_a = np.zeros([crack_positions_num, L_fps_num])\n",
    "slip = np.zeros([crack_positions_num, L_fps_num])\n",
    "steel_slip = np.zeros([crack_positions_num, L_fps_num])\n",
    "shear_stress = np.zeros([crack_positions_num, L_fps_num])\n",
    "w = np.zeros([crack_positions_num, L_fps_num])\n",
    "w_steel = np.zeros([crack_positions_num, L_fps_num])\n",
    "F_agg = np.zeros([crack_positions_num, L_fps_num])\n",
    "for i in range(len(crack_positions)):\n",
    "    for j in range(len(L_fps_)):\n",
    "        ce.reset()\n",
    "        ce.sz_cp.trait_set(x_00=crack_positions[i])\n",
    "        print(crack_positions[i])\n",
    "        ce.sz_cp.sz_ctr.trait_set(L_fps=L_fps_[j])\n",
    "        #print(L_fps_[j])\n",
    "        ce.run()\n",
    "        F_beam = ce.F_beam\n",
    "        F_max_ = np.max(F_beam)\n",
    "        F_max_i_ = np.argmax(F_beam)\n",
    "        F_max_i_int = np.array(F_max_i_)\n",
    "        F_Na_ = ce.F_Na[F_max_i_int]\n",
    "        F_s_ = ce.F_s[F_max_i_int]\n",
    "        slip_ = ce.slip[F_max_i_int][F_max_i_int]\n",
    "        w_ = ce.w[F_max_i_int][F_max_i_int]\n",
    "        steel_slip_ = ce.s_steel[F_max_i_int]\n",
    "        w_steel_ = ce.w_steel[F_max_i_int]\n",
    "        shear_stress_ = ce.shear_agg[F_max_i_int][F_max_i_int]\n",
    "        F_a_ = ce.F_a[F_max_i_int][1]\n",
    "        F_agg_ = F_a_ - F_Na_\n",
    "        F_max[i, j] = F_max_\n",
    "        F_Na[i,j] = F_Na_\n",
    "        F_s[i,j] = F_s_\n",
    "        slip[i,j] = slip_\n",
    "        w[i,j] = w_\n",
    "        steel_slip[i,j] = steel_slip_\n",
    "        w_steel[i,j] = w_steel_\n",
    "        shear_stress[i,j] = shear_stress_\n",
    "        F_a[i,j] = F_a_\n",
    "        F_agg[i,j] = F_agg_\n",
    "        \n",
    "        \n",
    "#         F_max_i.append(F_max_i_)\n",
    "    #F_max_all = np.concatenate(F_max_1)\n",
    "print('F_max =', F_max)\n",
    "print('F_Na =', F_Na)\n",
    "print('F_s =', F_s)\n",
    "print('slip =', slip)\n",
    "print('w =', w)\n",
    "print('steel_slip =', steel_slip)\n",
    "print('w_steel =', w_steel)\n",
    "print('shear_stress =', shear_stress)\n",
    "print('F_a =', F_a)\n",
    "    #r.append(F_max)\n",
    "#         F_Na.append(F_Na_)\n",
    "#         F_s.append(F_s_)\n",
    "#         F_a.append(F_a_)\n",
    "#         F_agg.append(F_agg_)\n",
    "#         #slip.append(slip_)\n",
    "#         #w.append(w_)\n",
    "#         steel_slip.append(steel_slip_)\n",
    "#         w_steel.append(w_steel_)\n",
    "        #shear_stress.append(shear_stress_)\n",
    "    #print('slip =', slip)\n",
    "    #print('w =', w)\n",
    "#     print('steel_slip =', steel_slip)\n",
    "#     print('L_fps =', L_fps_)\n",
    "#     print('crack_position =', crack_positions)"
   ]
  },
  {
   "cell_type": "code",
   "execution_count": 57,
   "metadata": {
    "scrolled": false
   },
   "outputs": [
    {
     "data": {
      "application/vnd.jupyter.widget-view+json": {
       "model_id": "a9bcd252fbb542f8a7611c3f80183804",
       "version_major": 2,
       "version_minor": 0
      },
      "text/plain": [
       "Canvas(toolbar=Toolbar(toolitems=[('Home', 'Reset original view', 'home', 'home'), ('Back', 'Back to previous …"
      ]
     },
     "metadata": {},
     "output_type": "display_data"
    }
   ],
   "source": [
    "import matplotlib.pylab as plt\n",
    "_, (ax1, ax2) = plt.subplots(1, 2, figsize=(11,4))\n",
    "ax1.plot(L_fps_, F_max[0,:], lw= 2, label = r'$x_{00} = 0.1L$');\n",
    "ax1.plot(L_fps_, F_max[1,:], lw= 2, label = r'$x_{00} = 0.2L$');\n",
    "ax1.plot(L_fps_, F_max[2,:], lw= 2, label = r'$x_{00} = 0.3L$');\n",
    "ax1.plot(L_fps_, F_max[3,:], lw= 2, label = r'$x_{00} = 0.4L$');\n",
    "ax1.plot(L_fps_, F_max[4,:], lw= 2, label = r'$x_{00} = 0.5L$');\n",
    "ax1.plot(L_fps_, F_max[5,:], lw= 2, label = r'$x_{00} = 0.6L$');\n",
    "ax1.plot(L_fps_, F_max[6,:], lw= 2, label = r'$x_{00} = 0.7L$');\n",
    "ax1.plot(L_fps_, F_max[7,:], lw= 2, label = r'$x_{00} = 0.8L$');\n",
    "ax1.plot(L_fps_, F_max[8,:], lw= 2, label = r'$x_{00} = 0.9L$');\n",
    "#ax1.plot(crack_positions, slip, color = 'red', lw= 2, label = r'$s(mm)}$');\n",
    "ax1.set_xlabel(r'$\\mathrm{Length\\,of\\,FPZ\\,(mm)}$'); ax1.set_ylabel(r'$F_{max}\\,(N)$');\n",
    "ax1.set_title(r'Maximum Force Contribution')\n",
    "ax1.legend()\n",
    "ax2.plot(L_fps_, F_Na[0,:], lw= 2, label = r'$x_{00} = 0.1L$');\n",
    "ax2.plot(L_fps_, F_Na[1,:], lw= 2, label = r'$x_{00} = 0.2L$');\n",
    "ax2.plot(L_fps_, F_Na[2,:], lw= 2, label = r'$x_{00} = 0.3L$');\n",
    "ax2.plot(L_fps_, F_Na[3,:], lw= 2, label = r'$x_{00} = 0.4L$');\n",
    "ax2.plot(L_fps_, F_Na[4,:], lw= 2, label = r'$x_{00} = 0.5L$');\n",
    "ax2.plot(L_fps_, F_Na[5,:], lw= 2, label = r'$x_{00} = 0.6L$');\n",
    "ax2.plot(L_fps_, F_Na[6,:], lw= 2, label = r'$x_{00} = 0.7L$');\n",
    "ax2.plot(L_fps_, F_Na[7,:], lw= 2, label = r'$x_{00} = 0.8L$');\n",
    "ax2.plot(L_fps_, F_Na[8,:], lw= 2, label = r'$x_{00} = 0.9L$');\n",
    "ax2.set_xlabel(r'$\\mathrm{Length\\,of\\,FPZ\\,(mm)}$'); ax2.set_ylabel(r'$F_{Na}\\,(N)$');\n",
    "ax1.set_title(r'Maximum Dowel Force Contribution')\n",
    "ax2.legend()\n",
    "plt.savefig(\"D:\\Shear zones\\Python plots\\F_max_F_steel_all_crack_points.pdf\")"
   ]
  },
  {
   "cell_type": "code",
   "execution_count": 58,
   "metadata": {},
   "outputs": [
    {
     "data": {
      "application/vnd.jupyter.widget-view+json": {
       "model_id": "66a4661a185243ada075edaecaf37077",
       "version_major": 2,
       "version_minor": 0
      },
      "text/plain": [
       "Canvas(toolbar=Toolbar(toolitems=[('Home', 'Reset original view', 'home', 'home'), ('Back', 'Back to previous …"
      ]
     },
     "metadata": {},
     "output_type": "display_data"
    }
   ],
   "source": [
    "import matplotlib.pylab as plt\n",
    "_, (ax1, ax2) = plt.subplots(1, 2, figsize=(11,4))\n",
    "ax1.plot(L_fps_, F_s[0,:], lw= 2, label = r'$x_{00} = 0.1L$');\n",
    "ax1.plot(L_fps_, F_s[1,:], lw= 2, label = r'$x_{00} = 0.2L$');\n",
    "ax1.plot(L_fps_, F_s[2,:], lw= 2, label = r'$x_{00} = 0.3L$');\n",
    "ax1.plot(L_fps_, F_s[3,:], lw= 2, label = r'$x_{00} = 0.4L$');\n",
    "ax1.plot(L_fps_, F_s[4,:], lw= 2, label = r'$x_{00} = 0.5L$');\n",
    "ax1.plot(L_fps_, F_s[5,:], lw= 2, label = r'$x_{00} = 0.6L$');\n",
    "ax1.plot(L_fps_, F_s[6,:], lw= 2, label = r'$x_{00} = 0.7L$');\n",
    "ax1.plot(L_fps_, F_s[7,:], lw= 2, label = r'$x_{00} = 0.8L$');\n",
    "ax1.plot(L_fps_, F_s[8,:], lw= 2, label = r'$x_{00} = 0.9L$');\n",
    "#ax1.plot(crack_positions, slip, color = 'red', lw= 2, label = r'$s(mm)}$');\n",
    "ax1.set_xlabel(r'$\\mathrm{Length\\,of\\,FPZ\\,(mm)}$'); ax1.set_ylabel(r'$F_{max}\\,(N)$');\n",
    "ax1.set_title(r'Maximum Horizontal Force Contribution at reinforcement')\n",
    "ax1.legend()\n",
    "ax2.plot(L_fps_, F_a[0,:], lw= 2, label = r'$x_{00} = 0.1L$');\n",
    "ax2.plot(L_fps_, F_a[1,:], lw= 2, label = r'$x_{00} = 0.2L$');\n",
    "ax2.plot(L_fps_, F_a[2,:], lw= 2, label = r'$x_{00} = 0.3L$');\n",
    "ax2.plot(L_fps_, F_a[3,:], lw= 2, label = r'$x_{00} = 0.4L$');\n",
    "ax2.plot(L_fps_, F_a[4,:], lw= 2, label = r'$x_{00} = 0.5L$');\n",
    "ax2.plot(L_fps_, F_a[5,:], lw= 2, label = r'$x_{00} = 0.6L$');\n",
    "ax2.plot(L_fps_, F_a[6,:], lw= 2, label = r'$x_{00} = 0.7L$');\n",
    "ax2.plot(L_fps_, F_a[7,:], lw= 2, label = r'$x_{00} = 0.8L$');\n",
    "ax2.plot(L_fps_, F_a[8,:], lw= 2, label = r'$x_{00} = 0.9L$');\n",
    "#ax1.plot(crack_positions, slip, color = 'red', lw= 2, label = r'$s(mm)}$');\n",
    "ax2.set_xlabel(r'$\\mathrm{Length\\,of\\,FPZ\\,(mm)}$'); ax2.set_ylabel(r'$F_{max}\\,(N)$');\n",
    "ax2.set_title(r'Maximum Aggregate Force Contribution at Ultimate state')\n",
    "ax2.legend()\n",
    "plt.savefig(\"D:\\Shear zones\\Python plots\\F_a_F_steel_h_all_crack_points.pdf\")"
   ]
  },
  {
   "cell_type": "code",
   "execution_count": 59,
   "metadata": {},
   "outputs": [
    {
     "data": {
      "application/vnd.jupyter.widget-view+json": {
       "model_id": "3eec1d87fe0a450fb23d112f63e534cb",
       "version_major": 2,
       "version_minor": 0
      },
      "text/plain": [
       "Canvas(toolbar=Toolbar(toolitems=[('Home', 'Reset original view', 'home', 'home'), ('Back', 'Back to previous …"
      ]
     },
     "metadata": {},
     "output_type": "display_data"
    }
   ],
   "source": [
    "import matplotlib.pylab as plt\n",
    "_, (ax1, ax2) = plt.subplots(1, 2, figsize=(11,4))\n",
    "ax1.plot(L_fps_, steel_slip[0,:], lw= 2, label = r'$x_{00} = 0.1L$');\n",
    "ax1.plot(L_fps_, steel_slip[1,:], lw= 2, label = r'$x_{00} = 0.2L$');\n",
    "ax1.plot(L_fps_, steel_slip[2,:], lw= 2, label = r'$x_{00} = 0.3L$');\n",
    "ax1.plot(L_fps_, steel_slip[3,:], lw= 2, label = r'$x_{00} = 0.4L$');\n",
    "ax1.plot(L_fps_, steel_slip[4,:], lw= 2, label = r'$x_{00} = 0.5L$');\n",
    "ax1.plot(L_fps_, steel_slip[5,:], lw= 2, label = r'$x_{00} = 0.6L$');\n",
    "ax1.plot(L_fps_, steel_slip[6,:], lw= 2, label = r'$x_{00} = 0.7L$');\n",
    "ax1.plot(L_fps_, steel_slip[7,:], lw= 2, label = r'$x_{00} = 0.8L$');\n",
    "ax1.plot(L_fps_, steel_slip[8,:], lw= 2, label = r'$x_{00} = 0.9L$');\n",
    "#ax1.plot(crack_positions, slip, color = 'red', lw= 2, label = r'$s(mm)}$');\n",
    "ax1.set_xlabel(r'$\\mathrm{Length\\,of\\,FPZ\\,(mm)}$'); ax1.set_ylabel(r'$s\\,(mm)$');\n",
    "ax1.set_title(r'Slip displacement at steel reinforcement')\n",
    "ax1.legend()\n",
    "ax2.plot(L_fps_, w_steel[0,:], lw= 2, label = r'$x_{00} = 0.1L$');\n",
    "ax2.plot(L_fps_, w_steel[1,:], lw= 2, label = r'$x_{00} = 0.2L$');\n",
    "ax2.plot(L_fps_, w_steel[2,:], lw= 2, label = r'$x_{00} = 0.3L$');\n",
    "ax2.plot(L_fps_, w_steel[3,:], lw= 2, label = r'$x_{00} = 0.4L$');\n",
    "ax2.plot(L_fps_, w_steel[4,:], lw= 2, label = r'$x_{00} = 0.5L$');\n",
    "ax2.plot(L_fps_, w_steel[5,:], lw= 2, label = r'$x_{00} = 0.6L$');\n",
    "ax2.plot(L_fps_, w_steel[6,:], lw= 2, label = r'$x_{00} = 0.7L$');\n",
    "ax2.plot(L_fps_, w_steel[7,:], lw= 2, label = r'$x_{00} = 0.8L$');\n",
    "ax2.plot(L_fps_, w_steel[8,:], lw= 2, label = r'$x_{00} = 0.9L$');\n",
    "#ax1.plot(crack_positions, slip, color = 'red', lw= 2, label = r'$s(mm)}$');\n",
    "ax2.set_xlabel(r'$\\mathrm{Length\\,of\\,FPZ\\,(mm)}$'); ax2.set_ylabel(r'$w\\,(mm)$');\n",
    "ax2.set_title(r'Longitudinal crack opening at steel reinforcement')\n",
    "ax2.legend()\n",
    "plt.savefig(\"D:\\Shear zones\\Python plots\\slip_w_steel_all_crack_points.pdf\")"
   ]
  },
  {
   "cell_type": "code",
   "execution_count": 60,
   "metadata": {},
   "outputs": [
    {
     "data": {
      "application/vnd.jupyter.widget-view+json": {
       "model_id": "4d270058f4794e309afa78ae927162d6",
       "version_major": 2,
       "version_minor": 0
      },
      "text/plain": [
       "Canvas(toolbar=Toolbar(toolitems=[('Home', 'Reset original view', 'home', 'home'), ('Back', 'Back to previous …"
      ]
     },
     "metadata": {},
     "output_type": "display_data"
    }
   ],
   "source": [
    "import matplotlib.pylab as plt\n",
    "_, (ax1, ax2) = plt.subplots(1, 2, figsize=(11,4))\n",
    "ax1.plot(L_fps_, slip[0,:], lw= 2, label = r'$x_{00} = 0.1L$');\n",
    "ax1.plot(L_fps_, slip[1,:], lw= 2, label = r'$x_{00} = 0.2L$');\n",
    "ax1.plot(L_fps_, slip[2,:], lw= 2, label = r'$x_{00} = 0.3L$');\n",
    "ax1.plot(L_fps_, slip[3,:], lw= 2, label = r'$x_{00} = 0.4L$');\n",
    "ax1.plot(L_fps_, slip[4,:], lw= 2, label = r'$x_{00} = 0.5L$');\n",
    "ax1.plot(L_fps_, slip[5,:], lw= 2, label = r'$x_{00} = 0.6L$');\n",
    "ax1.plot(L_fps_, slip[6,:], lw= 2, label = r'$x_{00} = 0.7L$');\n",
    "ax1.plot(L_fps_, slip[7,:], lw= 2, label = r'$x_{00} = 0.8L$');\n",
    "ax1.plot(L_fps_, slip[8,:], lw= 2, label = r'$x_{00} = 0.9L$');\n",
    "#ax1.plot(crack_positions, slip, color = 'red', lw= 2, label = r'$s(mm)}$');\n",
    "ax1.set_xlabel(r'$\\mathrm{Length\\,of\\,FPZ\\,(mm)}$'); ax1.set_ylabel(r'$s\\,(mm)$');\n",
    "ax1.set_title(r'Slip displacement at interlock at ultimate state')\n",
    "ax1.legend()\n",
    "ax2.plot(L_fps_, shear_stress[0,:], lw= 2, label = r'$x_{00} = 0.1L$');\n",
    "ax2.plot(L_fps_, shear_stress[1,:], lw= 2, label = r'$x_{00} = 0.2L$');\n",
    "ax2.plot(L_fps_, shear_stress[2,:], lw= 2, label = r'$x_{00} = 0.3L$');\n",
    "ax2.plot(L_fps_, shear_stress[3,:], lw= 2, label = r'$x_{00} = 0.4L$');\n",
    "ax2.plot(L_fps_, shear_stress[4,:], lw= 2, label = r'$x_{00} = 0.5L$');\n",
    "ax2.plot(L_fps_, shear_stress[5,:], lw= 2, label = r'$x_{00} = 0.6L$');\n",
    "ax2.plot(L_fps_, shear_stress[6,:], lw= 2, label = r'$x_{00} = 0.7L$');\n",
    "ax2.plot(L_fps_, shear_stress[7,:], lw= 2, label = r'$x_{00} = 0.8L$');\n",
    "ax2.plot(L_fps_, shear_stress[8,:], lw= 2, label = r'$x_{00} = 0.9L$');\n",
    "#ax1.plot(crack_positions, slip, color = 'red', lw= 2, label = r'$s(mm)}$');\n",
    "ax2.set_xlabel(r'$\\mathrm{Length\\,of\\,FPZ\\,(mm)}$'); ax2.set_ylabel(r'$\\tau\\,(MPa)$');\n",
    "ax2.set_title(r'shear stress distribution due to aggregate interlock')\n",
    "ax2.legend()\n",
    "plt.savefig(\"D:\\Shear zones\\Python plots\\slip_shear_agg_all_crack_points.pdf\")"
   ]
  },
  {
   "cell_type": "code",
   "execution_count": null,
   "metadata": {},
   "outputs": [],
   "source": [
    "import matplotlib.pylab as plt\n",
    "_, (ax1) = plt.subplots(1, 1, figsize=(6,4))\n",
    "ax1.plot(crack_positions, F_s[:, 1], lw= 2, label = r'$F_s$');\n",
    "ax1.set_xlabel(r'$\\mathrm{Length\\,of\\,the\\,beam\\,(mm)}$'); ax1.set_ylabel(r'$F_{s}\\,(N)$');\n",
    "ax1.set_title(r'Maximum Horizontal Force Contribution at reinforcement')\n",
    "ax1.legend()\n",
    "plt.savefig(\"D:\\Shear zones\\Python plots\\F_s_length_beam.pdf\")"
   ]
  },
  {
   "cell_type": "code",
   "execution_count": 69,
   "metadata": {},
   "outputs": [
    {
     "name": "stderr",
     "output_type": "stream",
     "text": [
      "<lambdifygenerated-43>:2: RuntimeWarning: invalid value encountered in sqrt\n",
      "  return (select([less_equal(w, 0),True], [0,0.25*f_c*s*(-sqrt(2)*sqrt(w/d_a) + 1)*((2.44 - 39.04/f_c)*abs(s/w)**3 + 9.8/f_c)/(w*(s**4*(2.44 - 39.04/f_c)/w**4 + 1))], default=nan))\n",
      "<lambdifygenerated-42>:2: RuntimeWarning: overflow encountered in exp\n",
      "  return (select([less(f_c, -35.7142857142857*d_a**(-0.32)*f_c**(-0.18)*f_t**2*w),less_equal(w, 0.028*d_a**0.32*f_c**0.18/f_t),True], [-f_c,35.7142857142857*d_a**(-0.32)*f_c**(-0.18)*f_t**2*w,f_t*exp(-35.7142857142857*d_a**(-0.32)*f_c**(-0.18)*f_t*(-0.028*d_a**0.32*f_c**0.18/f_t + w))], default=nan))\n",
      "<lambdifygenerated-47>:2: RuntimeWarning: invalid value encountered in power\n",
      "  return (select([less_equal(s, s_1),less_equal(s, s_2),less_equal(s, s_3),True], [2.5*sqrt(f_c)*(s/s_1)**Dummy_212,2.5*sqrt(f_c),-1.5*sqrt(f_c)*(s - s_2)/(-s_2 + s_3) + 2.5*sqrt(f_c),1.0*sqrt(f_c)], default=nan))\n"
     ]
    },
    {
     "ename": "KeyboardInterrupt",
     "evalue": "",
     "output_type": "error",
     "traceback": [
      "\u001b[1;31m---------------------------------------------------------------------------\u001b[0m",
      "\u001b[1;31mKeyboardInterrupt\u001b[0m                         Traceback (most recent call last)",
      "\u001b[1;32m<ipython-input-69-4b76694a7e5d>\u001b[0m in \u001b[0;36m<module>\u001b[1;34m\u001b[0m\n\u001b[0;32m      9\u001b[0m     \u001b[0mce\u001b[0m\u001b[1;33m.\u001b[0m\u001b[0mreset\u001b[0m\u001b[1;33m(\u001b[0m\u001b[1;33m)\u001b[0m\u001b[1;33m\u001b[0m\u001b[1;33m\u001b[0m\u001b[0m\n\u001b[0;32m     10\u001b[0m     \u001b[0mce\u001b[0m\u001b[1;33m.\u001b[0m\u001b[0msz_cp\u001b[0m\u001b[1;33m.\u001b[0m\u001b[0mtrait_set\u001b[0m\u001b[1;33m(\u001b[0m\u001b[0mx_00\u001b[0m\u001b[1;33m=\u001b[0m\u001b[0mcrack_position\u001b[0m\u001b[1;33m)\u001b[0m\u001b[1;33m\u001b[0m\u001b[1;33m\u001b[0m\u001b[0m\n\u001b[1;32m---> 11\u001b[1;33m     \u001b[0mce\u001b[0m\u001b[1;33m.\u001b[0m\u001b[0mrun\u001b[0m\u001b[1;33m(\u001b[0m\u001b[1;33m)\u001b[0m\u001b[1;33m\u001b[0m\u001b[1;33m\u001b[0m\u001b[0m\n\u001b[0m\u001b[0;32m     12\u001b[0m     \u001b[0mF_beam\u001b[0m \u001b[1;33m=\u001b[0m \u001b[0mce\u001b[0m\u001b[1;33m.\u001b[0m\u001b[0mF_beam\u001b[0m\u001b[1;33m\u001b[0m\u001b[1;33m\u001b[0m\u001b[0m\n\u001b[0;32m     13\u001b[0m     \u001b[0mF_max_\u001b[0m \u001b[1;33m=\u001b[0m \u001b[0mnp\u001b[0m\u001b[1;33m.\u001b[0m\u001b[0mmax\u001b[0m\u001b[1;33m(\u001b[0m\u001b[0mF_beam\u001b[0m\u001b[1;33m)\u001b[0m\u001b[1;33m\u001b[0m\u001b[1;33m\u001b[0m\u001b[0m\n",
      "\u001b[1;32mc:\\users\\fahad\\pycharmprojects\\bmcs_shear_zone\\bmcs_shear\\shear_crack\\crack_propagation.py\u001b[0m in \u001b[0;36mrun\u001b[1;34m(self, update_progress)\u001b[0m\n\u001b[0;32m    113\u001b[0m             \u001b[1;32mif\u001b[0m \u001b[0mself\u001b[0m\u001b[1;33m.\u001b[0m\u001b[0minterrupt\u001b[0m\u001b[1;33m:\u001b[0m\u001b[1;33m\u001b[0m\u001b[1;33m\u001b[0m\u001b[0m\n\u001b[0;32m    114\u001b[0m                 \u001b[1;32mbreak\u001b[0m\u001b[1;33m\u001b[0m\u001b[1;33m\u001b[0m\u001b[0m\n\u001b[1;32m--> 115\u001b[1;33m             \u001b[0mself\u001b[0m\u001b[1;33m.\u001b[0m\u001b[0mmake_incr\u001b[0m\u001b[1;33m(\u001b[0m\u001b[1;33m)\u001b[0m\u001b[1;33m\u001b[0m\u001b[1;33m\u001b[0m\u001b[0m\n\u001b[0m\u001b[0;32m    116\u001b[0m             \u001b[1;32mif\u001b[0m \u001b[0mself\u001b[0m\u001b[1;33m.\u001b[0m\u001b[0mseg\u001b[0m \u001b[1;33m<\u001b[0m \u001b[0mself\u001b[0m\u001b[1;33m.\u001b[0m\u001b[0mn_seg\u001b[0m\u001b[1;33m:\u001b[0m\u001b[1;33m\u001b[0m\u001b[1;33m\u001b[0m\u001b[0m\n\u001b[0;32m    117\u001b[0m                 \u001b[0mself\u001b[0m\u001b[1;33m.\u001b[0m\u001b[0msz_cp\u001b[0m\u001b[1;33m.\u001b[0m\u001b[0madd_x_tip_an\u001b[0m\u001b[1;33m(\u001b[0m\u001b[0mself\u001b[0m\u001b[1;33m.\u001b[0m\u001b[0msz_cp\u001b[0m\u001b[1;33m.\u001b[0m\u001b[0msz_ctr\u001b[0m\u001b[1;33m.\u001b[0m\u001b[0mx_tip_ak\u001b[0m\u001b[1;33m[\u001b[0m\u001b[1;33m:\u001b[0m\u001b[1;33m,\u001b[0m \u001b[1;36m0\u001b[0m\u001b[1;33m]\u001b[0m\u001b[1;33m)\u001b[0m\u001b[1;33m\u001b[0m\u001b[1;33m\u001b[0m\u001b[0m\n",
      "\u001b[1;32mc:\\users\\fahad\\pycharmprojects\\bmcs_shear_zone\\bmcs_shear\\shear_crack\\crack_propagation.py\u001b[0m in \u001b[0;36mmake_incr\u001b[1;34m(self)\u001b[0m\n\u001b[0;32m     74\u001b[0m         '''Update the control, primary and state variabrles..\n\u001b[0;32m     75\u001b[0m         '''\n\u001b[1;32m---> 76\u001b[1;33m         \u001b[0mself\u001b[0m\u001b[1;33m.\u001b[0m\u001b[0mX\u001b[0m\u001b[1;33m\u001b[0m\u001b[1;33m\u001b[0m\u001b[0m\n\u001b[0m\u001b[0;32m     77\u001b[0m         \u001b[0mR_k\u001b[0m \u001b[1;33m=\u001b[0m \u001b[0mself\u001b[0m\u001b[1;33m.\u001b[0m\u001b[0mget_R\u001b[0m\u001b[1;33m(\u001b[0m\u001b[1;33m)\u001b[0m\u001b[1;33m\u001b[0m\u001b[1;33m\u001b[0m\u001b[0m\n\u001b[0;32m     78\u001b[0m         \u001b[0mself\u001b[0m\u001b[1;33m.\u001b[0m\u001b[0mt_n\u001b[0m \u001b[1;33m=\u001b[0m \u001b[0mself\u001b[0m\u001b[1;33m.\u001b[0m\u001b[0mt_n1\u001b[0m\u001b[1;33m\u001b[0m\u001b[1;33m\u001b[0m\u001b[0m\n",
      "\u001b[1;32m~\\Anaconda3\\envs\\bmcs_env\\lib\\site-packages\\traits\\has_traits.py\u001b[0m in \u001b[0;36mdecorator\u001b[1;34m(self)\u001b[0m\n\u001b[0;32m    859\u001b[0m         \u001b[0mresult\u001b[0m \u001b[1;33m=\u001b[0m \u001b[0mself\u001b[0m\u001b[1;33m.\u001b[0m\u001b[0m__dict__\u001b[0m\u001b[1;33m.\u001b[0m\u001b[0mget\u001b[0m\u001b[1;33m(\u001b[0m\u001b[0mname\u001b[0m\u001b[1;33m,\u001b[0m \u001b[0mUndefined\u001b[0m\u001b[1;33m)\u001b[0m\u001b[1;33m\u001b[0m\u001b[1;33m\u001b[0m\u001b[0m\n\u001b[0;32m    860\u001b[0m         \u001b[1;32mif\u001b[0m \u001b[0mresult\u001b[0m \u001b[1;32mis\u001b[0m \u001b[0mUndefined\u001b[0m\u001b[1;33m:\u001b[0m\u001b[1;33m\u001b[0m\u001b[1;33m\u001b[0m\u001b[0m\n\u001b[1;32m--> 861\u001b[1;33m             \u001b[0mself\u001b[0m\u001b[1;33m.\u001b[0m\u001b[0m__dict__\u001b[0m\u001b[1;33m[\u001b[0m\u001b[0mname\u001b[0m\u001b[1;33m]\u001b[0m \u001b[1;33m=\u001b[0m \u001b[0mresult\u001b[0m \u001b[1;33m=\u001b[0m \u001b[0mfunction\u001b[0m\u001b[1;33m(\u001b[0m\u001b[0mself\u001b[0m\u001b[1;33m)\u001b[0m\u001b[1;33m\u001b[0m\u001b[1;33m\u001b[0m\u001b[0m\n\u001b[0m\u001b[0;32m    862\u001b[0m \u001b[1;33m\u001b[0m\u001b[0m\n\u001b[0;32m    863\u001b[0m         \u001b[1;32mreturn\u001b[0m \u001b[0mresult\u001b[0m\u001b[1;33m\u001b[0m\u001b[1;33m\u001b[0m\u001b[0m\n",
      "\u001b[1;32mc:\\users\\fahad\\pycharmprojects\\bmcs_shear_zone\\bmcs_shear\\shear_crack\\crack_extension.py\u001b[0m in \u001b[0;36m_get_X\u001b[1;34m(self)\u001b[0m\n\u001b[0;32m     75\u001b[0m     \u001b[1;32mdef\u001b[0m \u001b[0m_get_X\u001b[0m\u001b[1;33m(\u001b[0m\u001b[0mself\u001b[0m\u001b[1;33m)\u001b[0m\u001b[1;33m:\u001b[0m\u001b[1;33m\u001b[0m\u001b[1;33m\u001b[0m\u001b[0m\n\u001b[0;32m     76\u001b[0m         \u001b[0mself\u001b[0m\u001b[1;33m.\u001b[0m\u001b[0minit\u001b[0m\u001b[1;33m(\u001b[0m\u001b[1;33m)\u001b[0m\u001b[1;33m\u001b[0m\u001b[1;33m\u001b[0m\u001b[0m\n\u001b[1;32m---> 77\u001b[1;33m         \u001b[0mself\u001b[0m\u001b[1;33m.\u001b[0m\u001b[0mmake_iter\u001b[0m\u001b[1;33m(\u001b[0m\u001b[1;33m)\u001b[0m\u001b[1;33m\u001b[0m\u001b[1;33m\u001b[0m\u001b[0m\n\u001b[0m\u001b[0;32m     78\u001b[0m         \u001b[1;32mreturn\u001b[0m \u001b[0mself\u001b[0m\u001b[1;33m.\u001b[0m\u001b[0mX_iter\u001b[0m\u001b[1;33m\u001b[0m\u001b[1;33m\u001b[0m\u001b[0m\n\u001b[0;32m     79\u001b[0m \u001b[1;33m\u001b[0m\u001b[0m\n",
      "\u001b[1;32mc:\\users\\fahad\\pycharmprojects\\bmcs_shear_zone\\bmcs_shear\\shear_crack\\crack_extension.py\u001b[0m in \u001b[0;36mmake_iter\u001b[1;34m(self)\u001b[0m\n\u001b[0;32m     87\u001b[0m             \u001b[0mR\u001b[0m \u001b[1;33m=\u001b[0m \u001b[0mself\u001b[0m\u001b[1;33m.\u001b[0m\u001b[0mget_R\u001b[0m\u001b[1;33m(\u001b[0m\u001b[1;33m)\u001b[0m\u001b[1;33m\u001b[0m\u001b[1;33m\u001b[0m\u001b[0m\n\u001b[0;32m     88\u001b[0m             \u001b[1;32mreturn\u001b[0m \u001b[0mR\u001b[0m\u001b[1;33m\u001b[0m\u001b[1;33m\u001b[0m\u001b[0m\n\u001b[1;32m---> 89\u001b[1;33m         res = root(get_R_X, X0, method='lm',\n\u001b[0m\u001b[0;32m     90\u001b[0m                    options={'xtol': self.xtol,})\n\u001b[0;32m     91\u001b[0m         \u001b[0mself\u001b[0m\u001b[1;33m.\u001b[0m\u001b[0mX_iter\u001b[0m\u001b[1;33m[\u001b[0m\u001b[1;33m:\u001b[0m\u001b[1;33m]\u001b[0m \u001b[1;33m=\u001b[0m \u001b[0mres\u001b[0m\u001b[1;33m.\u001b[0m\u001b[0mx\u001b[0m\u001b[1;33m\u001b[0m\u001b[1;33m\u001b[0m\u001b[0m\n",
      "\u001b[1;32m~\\Anaconda3\\envs\\bmcs_env\\lib\\site-packages\\scipy\\optimize\\_root.py\u001b[0m in \u001b[0;36mroot\u001b[1;34m(fun, x0, args, method, jac, tol, callback, options)\u001b[0m\n\u001b[0;32m    187\u001b[0m         \u001b[0msol\u001b[0m \u001b[1;33m=\u001b[0m \u001b[0m_root_hybr\u001b[0m\u001b[1;33m(\u001b[0m\u001b[0mfun\u001b[0m\u001b[1;33m,\u001b[0m \u001b[0mx0\u001b[0m\u001b[1;33m,\u001b[0m \u001b[0margs\u001b[0m\u001b[1;33m=\u001b[0m\u001b[0margs\u001b[0m\u001b[1;33m,\u001b[0m \u001b[0mjac\u001b[0m\u001b[1;33m=\u001b[0m\u001b[0mjac\u001b[0m\u001b[1;33m,\u001b[0m \u001b[1;33m**\u001b[0m\u001b[0moptions\u001b[0m\u001b[1;33m)\u001b[0m\u001b[1;33m\u001b[0m\u001b[1;33m\u001b[0m\u001b[0m\n\u001b[0;32m    188\u001b[0m     \u001b[1;32melif\u001b[0m \u001b[0mmeth\u001b[0m \u001b[1;33m==\u001b[0m \u001b[1;34m'lm'\u001b[0m\u001b[1;33m:\u001b[0m\u001b[1;33m\u001b[0m\u001b[1;33m\u001b[0m\u001b[0m\n\u001b[1;32m--> 189\u001b[1;33m         \u001b[0msol\u001b[0m \u001b[1;33m=\u001b[0m \u001b[0m_root_leastsq\u001b[0m\u001b[1;33m(\u001b[0m\u001b[0mfun\u001b[0m\u001b[1;33m,\u001b[0m \u001b[0mx0\u001b[0m\u001b[1;33m,\u001b[0m \u001b[0margs\u001b[0m\u001b[1;33m=\u001b[0m\u001b[0margs\u001b[0m\u001b[1;33m,\u001b[0m \u001b[0mjac\u001b[0m\u001b[1;33m=\u001b[0m\u001b[0mjac\u001b[0m\u001b[1;33m,\u001b[0m \u001b[1;33m**\u001b[0m\u001b[0moptions\u001b[0m\u001b[1;33m)\u001b[0m\u001b[1;33m\u001b[0m\u001b[1;33m\u001b[0m\u001b[0m\n\u001b[0m\u001b[0;32m    190\u001b[0m     \u001b[1;32melif\u001b[0m \u001b[0mmeth\u001b[0m \u001b[1;33m==\u001b[0m \u001b[1;34m'df-sane'\u001b[0m\u001b[1;33m:\u001b[0m\u001b[1;33m\u001b[0m\u001b[1;33m\u001b[0m\u001b[0m\n\u001b[0;32m    191\u001b[0m         \u001b[0m_warn_jac_unused\u001b[0m\u001b[1;33m(\u001b[0m\u001b[0mjac\u001b[0m\u001b[1;33m,\u001b[0m \u001b[0mmethod\u001b[0m\u001b[1;33m)\u001b[0m\u001b[1;33m\u001b[0m\u001b[1;33m\u001b[0m\u001b[0m\n",
      "\u001b[1;32m~\\Anaconda3\\envs\\bmcs_env\\lib\\site-packages\\scipy\\optimize\\_root.py\u001b[0m in \u001b[0;36m_root_leastsq\u001b[1;34m(fun, x0, args, jac, col_deriv, xtol, ftol, gtol, maxiter, eps, factor, diag, **unknown_options)\u001b[0m\n\u001b[0;32m    245\u001b[0m \u001b[1;33m\u001b[0m\u001b[0m\n\u001b[0;32m    246\u001b[0m     \u001b[0m_check_unknown_options\u001b[0m\u001b[1;33m(\u001b[0m\u001b[0munknown_options\u001b[0m\u001b[1;33m)\u001b[0m\u001b[1;33m\u001b[0m\u001b[1;33m\u001b[0m\u001b[0m\n\u001b[1;32m--> 247\u001b[1;33m     x, cov_x, info, msg, ier = leastsq(fun, x0, args=args, Dfun=jac,\n\u001b[0m\u001b[0;32m    248\u001b[0m                                        \u001b[0mfull_output\u001b[0m\u001b[1;33m=\u001b[0m\u001b[1;32mTrue\u001b[0m\u001b[1;33m,\u001b[0m\u001b[1;33m\u001b[0m\u001b[1;33m\u001b[0m\u001b[0m\n\u001b[0;32m    249\u001b[0m                                        \u001b[0mcol_deriv\u001b[0m\u001b[1;33m=\u001b[0m\u001b[0mcol_deriv\u001b[0m\u001b[1;33m,\u001b[0m \u001b[0mxtol\u001b[0m\u001b[1;33m=\u001b[0m\u001b[0mxtol\u001b[0m\u001b[1;33m,\u001b[0m\u001b[1;33m\u001b[0m\u001b[1;33m\u001b[0m\u001b[0m\n",
      "\u001b[1;32m~\\Anaconda3\\envs\\bmcs_env\\lib\\site-packages\\scipy\\optimize\\minpack.py\u001b[0m in \u001b[0;36mleastsq\u001b[1;34m(func, x0, args, Dfun, full_output, col_deriv, ftol, xtol, gtol, maxfev, epsfcn, factor, diag)\u001b[0m\n\u001b[0;32m    420\u001b[0m         \u001b[1;32mif\u001b[0m \u001b[0mmaxfev\u001b[0m \u001b[1;33m==\u001b[0m \u001b[1;36m0\u001b[0m\u001b[1;33m:\u001b[0m\u001b[1;33m\u001b[0m\u001b[1;33m\u001b[0m\u001b[0m\n\u001b[0;32m    421\u001b[0m             \u001b[0mmaxfev\u001b[0m \u001b[1;33m=\u001b[0m \u001b[1;36m200\u001b[0m\u001b[1;33m*\u001b[0m\u001b[1;33m(\u001b[0m\u001b[0mn\u001b[0m \u001b[1;33m+\u001b[0m \u001b[1;36m1\u001b[0m\u001b[1;33m)\u001b[0m\u001b[1;33m\u001b[0m\u001b[1;33m\u001b[0m\u001b[0m\n\u001b[1;32m--> 422\u001b[1;33m         retval = _minpack._lmdif(func, x0, args, full_output, ftol, xtol,\n\u001b[0m\u001b[0;32m    423\u001b[0m                                  gtol, maxfev, epsfcn, factor, diag)\n\u001b[0;32m    424\u001b[0m     \u001b[1;32melse\u001b[0m\u001b[1;33m:\u001b[0m\u001b[1;33m\u001b[0m\u001b[1;33m\u001b[0m\u001b[0m\n",
      "\u001b[1;32mc:\\users\\fahad\\pycharmprojects\\bmcs_shear_zone\\bmcs_shear\\shear_crack\\crack_extension.py\u001b[0m in \u001b[0;36mget_R_X\u001b[1;34m(X)\u001b[0m\n\u001b[0;32m     85\u001b[0m         \u001b[1;32mdef\u001b[0m \u001b[0mget_R_X\u001b[0m\u001b[1;33m(\u001b[0m\u001b[0mX\u001b[0m\u001b[1;33m)\u001b[0m\u001b[1;33m:\u001b[0m\u001b[1;33m\u001b[0m\u001b[1;33m\u001b[0m\u001b[0m\n\u001b[0;32m     86\u001b[0m             \u001b[0mself\u001b[0m\u001b[1;33m.\u001b[0m\u001b[0mX_iter\u001b[0m \u001b[1;33m=\u001b[0m \u001b[0mX\u001b[0m\u001b[1;33m\u001b[0m\u001b[1;33m\u001b[0m\u001b[0m\n\u001b[1;32m---> 87\u001b[1;33m             \u001b[0mR\u001b[0m \u001b[1;33m=\u001b[0m \u001b[0mself\u001b[0m\u001b[1;33m.\u001b[0m\u001b[0mget_R\u001b[0m\u001b[1;33m(\u001b[0m\u001b[1;33m)\u001b[0m\u001b[1;33m\u001b[0m\u001b[1;33m\u001b[0m\u001b[0m\n\u001b[0m\u001b[0;32m     88\u001b[0m             \u001b[1;32mreturn\u001b[0m \u001b[0mR\u001b[0m\u001b[1;33m\u001b[0m\u001b[1;33m\u001b[0m\u001b[0m\n\u001b[0;32m     89\u001b[0m         res = root(get_R_X, X0, method='lm',\n",
      "\u001b[1;32mc:\\users\\fahad\\pycharmprojects\\bmcs_shear_zone\\bmcs_shear\\shear_crack\\crack_extension.py\u001b[0m in \u001b[0;36mget_R\u001b[1;34m(self)\u001b[0m\n\u001b[0;32m    116\u001b[0m           \u001b[0mprocess\u001b[0m \u001b[0msegment\u001b[0m \u001b[1;33m(\u001b[0m\u001b[0mFPS\u001b[0m\u001b[1;33m)\u001b[0m\u001b[1;33m\u001b[0m\u001b[1;33m\u001b[0m\u001b[0m\n\u001b[0;32m    117\u001b[0m         '''\n\u001b[1;32m--> 118\u001b[1;33m         \u001b[0mN\u001b[0m\u001b[1;33m,\u001b[0m \u001b[0m_\u001b[0m \u001b[1;33m=\u001b[0m \u001b[0mself\u001b[0m\u001b[1;33m.\u001b[0m\u001b[0msz_stress_profile\u001b[0m\u001b[1;33m.\u001b[0m\u001b[0mF_a\u001b[0m\u001b[1;33m\u001b[0m\u001b[1;33m\u001b[0m\u001b[0m\n\u001b[0m\u001b[0;32m    119\u001b[0m         \u001b[0mpsi_bar\u001b[0m \u001b[1;33m=\u001b[0m \u001b[0mself\u001b[0m\u001b[1;33m.\u001b[0m\u001b[0mcrack_tip_orientation\u001b[0m\u001b[1;33m.\u001b[0m\u001b[0mget_psi\u001b[0m\u001b[1;33m(\u001b[0m\u001b[1;33m)\u001b[0m\u001b[1;33m\u001b[0m\u001b[1;33m\u001b[0m\u001b[0m\n\u001b[0;32m    120\u001b[0m         \u001b[0mR_M\u001b[0m \u001b[1;33m=\u001b[0m \u001b[1;33m(\u001b[0m\u001b[0mself\u001b[0m\u001b[1;33m.\u001b[0m\u001b[0mpsi\u001b[0m \u001b[1;33m-\u001b[0m \u001b[0mpsi_bar\u001b[0m\u001b[1;33m)\u001b[0m\u001b[1;33m\u001b[0m\u001b[1;33m\u001b[0m\u001b[0m\n",
      "\u001b[1;32m~\\Anaconda3\\envs\\bmcs_env\\lib\\site-packages\\traits\\has_traits.py\u001b[0m in \u001b[0;36mdecorator\u001b[1;34m(self)\u001b[0m\n\u001b[0;32m    859\u001b[0m         \u001b[0mresult\u001b[0m \u001b[1;33m=\u001b[0m \u001b[0mself\u001b[0m\u001b[1;33m.\u001b[0m\u001b[0m__dict__\u001b[0m\u001b[1;33m.\u001b[0m\u001b[0mget\u001b[0m\u001b[1;33m(\u001b[0m\u001b[0mname\u001b[0m\u001b[1;33m,\u001b[0m \u001b[0mUndefined\u001b[0m\u001b[1;33m)\u001b[0m\u001b[1;33m\u001b[0m\u001b[1;33m\u001b[0m\u001b[0m\n\u001b[0;32m    860\u001b[0m         \u001b[1;32mif\u001b[0m \u001b[0mresult\u001b[0m \u001b[1;32mis\u001b[0m \u001b[0mUndefined\u001b[0m\u001b[1;33m:\u001b[0m\u001b[1;33m\u001b[0m\u001b[1;33m\u001b[0m\u001b[0m\n\u001b[1;32m--> 861\u001b[1;33m             \u001b[0mself\u001b[0m\u001b[1;33m.\u001b[0m\u001b[0m__dict__\u001b[0m\u001b[1;33m[\u001b[0m\u001b[0mname\u001b[0m\u001b[1;33m]\u001b[0m \u001b[1;33m=\u001b[0m \u001b[0mresult\u001b[0m \u001b[1;33m=\u001b[0m \u001b[0mfunction\u001b[0m\u001b[1;33m(\u001b[0m\u001b[0mself\u001b[0m\u001b[1;33m)\u001b[0m\u001b[1;33m\u001b[0m\u001b[1;33m\u001b[0m\u001b[0m\n\u001b[0m\u001b[0;32m    862\u001b[0m \u001b[1;33m\u001b[0m\u001b[0m\n\u001b[0;32m    863\u001b[0m         \u001b[1;32mreturn\u001b[0m \u001b[0mresult\u001b[0m\u001b[1;33m\u001b[0m\u001b[1;33m\u001b[0m\u001b[0m\n",
      "\u001b[1;32mc:\\users\\fahad\\pycharmprojects\\bmcs_shear_zone\\bmcs_shear\\shear_crack\\stress_profile.py\u001b[0m in \u001b[0;36m_get_F_a\u001b[1;34m(self)\u001b[0m\n\u001b[0;32m    217\u001b[0m     \u001b[1;33m@\u001b[0m\u001b[0mtr\u001b[0m\u001b[1;33m.\u001b[0m\u001b[0mcached_property\u001b[0m\u001b[1;33m\u001b[0m\u001b[1;33m\u001b[0m\u001b[0m\n\u001b[0;32m    218\u001b[0m     \u001b[1;32mdef\u001b[0m \u001b[0m_get_F_a\u001b[0m\u001b[1;33m(\u001b[0m\u001b[0mself\u001b[0m\u001b[1;33m)\u001b[0m\u001b[1;33m:\u001b[0m\u001b[1;33m\u001b[0m\u001b[1;33m\u001b[0m\u001b[0m\n\u001b[1;32m--> 219\u001b[1;33m         \u001b[0mF_La\u001b[0m \u001b[1;33m=\u001b[0m \u001b[0mself\u001b[0m\u001b[1;33m.\u001b[0m\u001b[0mF_La\u001b[0m\u001b[1;33m\u001b[0m\u001b[1;33m\u001b[0m\u001b[0m\n\u001b[0m\u001b[0;32m    220\u001b[0m         \u001b[0mF_Na\u001b[0m \u001b[1;33m=\u001b[0m \u001b[0mself\u001b[0m\u001b[1;33m.\u001b[0m\u001b[0mF_Na\u001b[0m\u001b[1;33m\u001b[0m\u001b[1;33m\u001b[0m\u001b[0m\n\u001b[0;32m    221\u001b[0m         \u001b[0msum_F_La\u001b[0m \u001b[1;33m=\u001b[0m \u001b[0mnp\u001b[0m\u001b[1;33m.\u001b[0m\u001b[0msum\u001b[0m\u001b[1;33m(\u001b[0m\u001b[0mF_La\u001b[0m\u001b[1;33m,\u001b[0m \u001b[0maxis\u001b[0m\u001b[1;33m=\u001b[0m\u001b[1;36m0\u001b[0m\u001b[1;33m)\u001b[0m\u001b[1;33m\u001b[0m\u001b[1;33m\u001b[0m\u001b[0m\n",
      "\u001b[1;32m~\\Anaconda3\\envs\\bmcs_env\\lib\\site-packages\\traits\\has_traits.py\u001b[0m in \u001b[0;36mdecorator\u001b[1;34m(self)\u001b[0m\n\u001b[0;32m    859\u001b[0m         \u001b[0mresult\u001b[0m \u001b[1;33m=\u001b[0m \u001b[0mself\u001b[0m\u001b[1;33m.\u001b[0m\u001b[0m__dict__\u001b[0m\u001b[1;33m.\u001b[0m\u001b[0mget\u001b[0m\u001b[1;33m(\u001b[0m\u001b[0mname\u001b[0m\u001b[1;33m,\u001b[0m \u001b[0mUndefined\u001b[0m\u001b[1;33m)\u001b[0m\u001b[1;33m\u001b[0m\u001b[1;33m\u001b[0m\u001b[0m\n\u001b[0;32m    860\u001b[0m         \u001b[1;32mif\u001b[0m \u001b[0mresult\u001b[0m \u001b[1;32mis\u001b[0m \u001b[0mUndefined\u001b[0m\u001b[1;33m:\u001b[0m\u001b[1;33m\u001b[0m\u001b[1;33m\u001b[0m\u001b[0m\n\u001b[1;32m--> 861\u001b[1;33m             \u001b[0mself\u001b[0m\u001b[1;33m.\u001b[0m\u001b[0m__dict__\u001b[0m\u001b[1;33m[\u001b[0m\u001b[0mname\u001b[0m\u001b[1;33m]\u001b[0m \u001b[1;33m=\u001b[0m \u001b[0mresult\u001b[0m \u001b[1;33m=\u001b[0m \u001b[0mfunction\u001b[0m\u001b[1;33m(\u001b[0m\u001b[0mself\u001b[0m\u001b[1;33m)\u001b[0m\u001b[1;33m\u001b[0m\u001b[1;33m\u001b[0m\u001b[0m\n\u001b[0m\u001b[0;32m    862\u001b[0m \u001b[1;33m\u001b[0m\u001b[0m\n\u001b[0;32m    863\u001b[0m         \u001b[1;32mreturn\u001b[0m \u001b[0mresult\u001b[0m\u001b[1;33m\u001b[0m\u001b[1;33m\u001b[0m\u001b[0m\n",
      "\u001b[1;32mc:\\users\\fahad\\pycharmprojects\\bmcs_shear_zone\\bmcs_shear\\shear_crack\\stress_profile.py\u001b[0m in \u001b[0;36m_get_F_La\u001b[1;34m(self)\u001b[0m\n\u001b[0;32m    127\u001b[0m     \u001b[1;33m@\u001b[0m\u001b[0mtr\u001b[0m\u001b[1;33m.\u001b[0m\u001b[0mcached_property\u001b[0m\u001b[1;33m\u001b[0m\u001b[1;33m\u001b[0m\u001b[0m\n\u001b[0;32m    128\u001b[0m     \u001b[1;32mdef\u001b[0m \u001b[0m_get_F_La\u001b[0m\u001b[1;33m(\u001b[0m\u001b[0mself\u001b[0m\u001b[1;33m)\u001b[0m\u001b[1;33m:\u001b[0m\u001b[1;33m\u001b[0m\u001b[1;33m\u001b[0m\u001b[0m\n\u001b[1;32m--> 129\u001b[1;33m         \u001b[0mS_La\u001b[0m \u001b[1;33m=\u001b[0m \u001b[0mself\u001b[0m\u001b[1;33m.\u001b[0m\u001b[0mS_La\u001b[0m\u001b[1;33m\u001b[0m\u001b[1;33m\u001b[0m\u001b[0m\n\u001b[0m\u001b[0;32m    130\u001b[0m         \u001b[0mF_La\u001b[0m \u001b[1;33m=\u001b[0m \u001b[0mnp\u001b[0m\u001b[1;33m.\u001b[0m\u001b[0meinsum\u001b[0m\u001b[1;33m(\u001b[0m\u001b[1;34m'La,L->La'\u001b[0m\u001b[1;33m,\u001b[0m \u001b[0mS_La\u001b[0m\u001b[1;33m,\u001b[0m \u001b[0mself\u001b[0m\u001b[1;33m.\u001b[0m\u001b[0mds\u001b[0m\u001b[1;33m.\u001b[0m\u001b[0msz_cp\u001b[0m\u001b[1;33m.\u001b[0m\u001b[0mnorm_n_vec_L\u001b[0m\u001b[1;33m)\u001b[0m\u001b[1;33m\u001b[0m\u001b[1;33m\u001b[0m\u001b[0m\n\u001b[0;32m    131\u001b[0m         \u001b[1;32mreturn\u001b[0m \u001b[0mF_La\u001b[0m\u001b[1;33m\u001b[0m\u001b[1;33m\u001b[0m\u001b[0m\n",
      "\u001b[1;32m~\\Anaconda3\\envs\\bmcs_env\\lib\\site-packages\\traits\\has_traits.py\u001b[0m in \u001b[0;36mdecorator\u001b[1;34m(self)\u001b[0m\n\u001b[0;32m    859\u001b[0m         \u001b[0mresult\u001b[0m \u001b[1;33m=\u001b[0m \u001b[0mself\u001b[0m\u001b[1;33m.\u001b[0m\u001b[0m__dict__\u001b[0m\u001b[1;33m.\u001b[0m\u001b[0mget\u001b[0m\u001b[1;33m(\u001b[0m\u001b[0mname\u001b[0m\u001b[1;33m,\u001b[0m \u001b[0mUndefined\u001b[0m\u001b[1;33m)\u001b[0m\u001b[1;33m\u001b[0m\u001b[1;33m\u001b[0m\u001b[0m\n\u001b[0;32m    860\u001b[0m         \u001b[1;32mif\u001b[0m \u001b[0mresult\u001b[0m \u001b[1;32mis\u001b[0m \u001b[0mUndefined\u001b[0m\u001b[1;33m:\u001b[0m\u001b[1;33m\u001b[0m\u001b[1;33m\u001b[0m\u001b[0m\n\u001b[1;32m--> 861\u001b[1;33m             \u001b[0mself\u001b[0m\u001b[1;33m.\u001b[0m\u001b[0m__dict__\u001b[0m\u001b[1;33m[\u001b[0m\u001b[0mname\u001b[0m\u001b[1;33m]\u001b[0m \u001b[1;33m=\u001b[0m \u001b[0mresult\u001b[0m \u001b[1;33m=\u001b[0m \u001b[0mfunction\u001b[0m\u001b[1;33m(\u001b[0m\u001b[0mself\u001b[0m\u001b[1;33m)\u001b[0m\u001b[1;33m\u001b[0m\u001b[1;33m\u001b[0m\u001b[0m\n\u001b[0m\u001b[0;32m    862\u001b[0m \u001b[1;33m\u001b[0m\u001b[0m\n\u001b[0;32m    863\u001b[0m         \u001b[1;32mreturn\u001b[0m \u001b[0mresult\u001b[0m\u001b[1;33m\u001b[0m\u001b[1;33m\u001b[0m\u001b[0m\n",
      "\u001b[1;32mc:\\users\\fahad\\pycharmprojects\\bmcs_shear_zone\\bmcs_shear\\shear_crack\\stress_profile.py\u001b[0m in \u001b[0;36m_get_S_La\u001b[1;34m(self)\u001b[0m\n\u001b[0;32m    115\u001b[0m     \u001b[1;33m@\u001b[0m\u001b[0mtr\u001b[0m\u001b[1;33m.\u001b[0m\u001b[0mcached_property\u001b[0m\u001b[1;33m\u001b[0m\u001b[1;33m\u001b[0m\u001b[0m\n\u001b[0;32m    116\u001b[0m     \u001b[1;32mdef\u001b[0m \u001b[0m_get_S_La\u001b[0m\u001b[1;33m(\u001b[0m\u001b[0mself\u001b[0m\u001b[1;33m)\u001b[0m\u001b[1;33m:\u001b[0m\u001b[1;33m\u001b[0m\u001b[1;33m\u001b[0m\u001b[0m\n\u001b[1;32m--> 117\u001b[1;33m         \u001b[0mS_Lb\u001b[0m \u001b[1;33m=\u001b[0m \u001b[0mself\u001b[0m\u001b[1;33m.\u001b[0m\u001b[0mS_Lb\u001b[0m\u001b[1;33m\u001b[0m\u001b[1;33m\u001b[0m\u001b[0m\n\u001b[0m\u001b[0;32m    118\u001b[0m         \u001b[0mS_La\u001b[0m \u001b[1;33m=\u001b[0m \u001b[0mnp\u001b[0m\u001b[1;33m.\u001b[0m\u001b[0meinsum\u001b[0m\u001b[1;33m(\u001b[0m\u001b[1;34m'Lb,Lab->La'\u001b[0m\u001b[1;33m,\u001b[0m \u001b[0mS_Lb\u001b[0m\u001b[1;33m,\u001b[0m \u001b[0mself\u001b[0m\u001b[1;33m.\u001b[0m\u001b[0mds\u001b[0m\u001b[1;33m.\u001b[0m\u001b[0msz_cp\u001b[0m\u001b[1;33m.\u001b[0m\u001b[0mT_Mab\u001b[0m\u001b[1;33m)\u001b[0m\u001b[1;33m\u001b[0m\u001b[1;33m\u001b[0m\u001b[0m\n\u001b[0;32m    119\u001b[0m         \u001b[1;32mreturn\u001b[0m \u001b[0mS_La\u001b[0m\u001b[1;33m\u001b[0m\u001b[1;33m\u001b[0m\u001b[0m\n",
      "\u001b[1;32m~\\Anaconda3\\envs\\bmcs_env\\lib\\site-packages\\traits\\has_traits.py\u001b[0m in \u001b[0;36mdecorator\u001b[1;34m(self)\u001b[0m\n\u001b[0;32m    859\u001b[0m         \u001b[0mresult\u001b[0m \u001b[1;33m=\u001b[0m \u001b[0mself\u001b[0m\u001b[1;33m.\u001b[0m\u001b[0m__dict__\u001b[0m\u001b[1;33m.\u001b[0m\u001b[0mget\u001b[0m\u001b[1;33m(\u001b[0m\u001b[0mname\u001b[0m\u001b[1;33m,\u001b[0m \u001b[0mUndefined\u001b[0m\u001b[1;33m)\u001b[0m\u001b[1;33m\u001b[0m\u001b[1;33m\u001b[0m\u001b[0m\n\u001b[0;32m    860\u001b[0m         \u001b[1;32mif\u001b[0m \u001b[0mresult\u001b[0m \u001b[1;32mis\u001b[0m \u001b[0mUndefined\u001b[0m\u001b[1;33m:\u001b[0m\u001b[1;33m\u001b[0m\u001b[1;33m\u001b[0m\u001b[0m\n\u001b[1;32m--> 861\u001b[1;33m             \u001b[0mself\u001b[0m\u001b[1;33m.\u001b[0m\u001b[0m__dict__\u001b[0m\u001b[1;33m[\u001b[0m\u001b[0mname\u001b[0m\u001b[1;33m]\u001b[0m \u001b[1;33m=\u001b[0m \u001b[0mresult\u001b[0m \u001b[1;33m=\u001b[0m \u001b[0mfunction\u001b[0m\u001b[1;33m(\u001b[0m\u001b[0mself\u001b[0m\u001b[1;33m)\u001b[0m\u001b[1;33m\u001b[0m\u001b[1;33m\u001b[0m\u001b[0m\n\u001b[0m\u001b[0;32m    862\u001b[0m \u001b[1;33m\u001b[0m\u001b[0m\n\u001b[0;32m    863\u001b[0m         \u001b[1;32mreturn\u001b[0m \u001b[0mresult\u001b[0m\u001b[1;33m\u001b[0m\u001b[1;33m\u001b[0m\u001b[0m\n",
      "\u001b[1;32mc:\\users\\fahad\\pycharmprojects\\bmcs_shear_zone\\bmcs_shear\\shear_crack\\stress_profile.py\u001b[0m in \u001b[0;36m_get_S_Lb\u001b[1;34m(self)\u001b[0m\n\u001b[0;32m    102\u001b[0m     \u001b[1;33m@\u001b[0m\u001b[0mtr\u001b[0m\u001b[1;33m.\u001b[0m\u001b[0mcached_property\u001b[0m\u001b[1;33m\u001b[0m\u001b[1;33m\u001b[0m\u001b[0m\n\u001b[0;32m    103\u001b[0m     \u001b[1;32mdef\u001b[0m \u001b[0m_get_S_Lb\u001b[0m\u001b[1;33m(\u001b[0m\u001b[0mself\u001b[0m\u001b[1;33m)\u001b[0m\u001b[1;33m:\u001b[0m\u001b[1;33m\u001b[0m\u001b[1;33m\u001b[0m\u001b[0m\n\u001b[1;32m--> 104\u001b[1;33m         \u001b[0mu_Lb\u001b[0m \u001b[1;33m=\u001b[0m \u001b[0mself\u001b[0m\u001b[1;33m.\u001b[0m\u001b[0mu_Lb\u001b[0m\u001b[1;33m\u001b[0m\u001b[1;33m\u001b[0m\u001b[0m\n\u001b[0m\u001b[0;32m    105\u001b[0m         \u001b[0mcmm\u001b[0m \u001b[1;33m=\u001b[0m \u001b[0mself\u001b[0m\u001b[1;33m.\u001b[0m\u001b[0mds\u001b[0m\u001b[1;33m.\u001b[0m\u001b[0msz_bd\u001b[0m\u001b[1;33m.\u001b[0m\u001b[0mcmm\u001b[0m  \u001b[1;31m#adv cmm_adv\u001b[0m\u001b[1;33m\u001b[0m\u001b[1;33m\u001b[0m\u001b[0m\n\u001b[0;32m    106\u001b[0m         \u001b[0mB\u001b[0m \u001b[1;33m=\u001b[0m \u001b[0mself\u001b[0m\u001b[1;33m.\u001b[0m\u001b[0mds\u001b[0m\u001b[1;33m.\u001b[0m\u001b[0msz_bd\u001b[0m\u001b[1;33m.\u001b[0m\u001b[0mB\u001b[0m\u001b[1;33m\u001b[0m\u001b[1;33m\u001b[0m\u001b[0m\n",
      "\u001b[1;32m~\\Anaconda3\\envs\\bmcs_env\\lib\\site-packages\\traits\\has_traits.py\u001b[0m in \u001b[0;36mdecorator\u001b[1;34m(self)\u001b[0m\n\u001b[0;32m    859\u001b[0m         \u001b[0mresult\u001b[0m \u001b[1;33m=\u001b[0m \u001b[0mself\u001b[0m\u001b[1;33m.\u001b[0m\u001b[0m__dict__\u001b[0m\u001b[1;33m.\u001b[0m\u001b[0mget\u001b[0m\u001b[1;33m(\u001b[0m\u001b[0mname\u001b[0m\u001b[1;33m,\u001b[0m \u001b[0mUndefined\u001b[0m\u001b[1;33m)\u001b[0m\u001b[1;33m\u001b[0m\u001b[1;33m\u001b[0m\u001b[0m\n\u001b[0;32m    860\u001b[0m         \u001b[1;32mif\u001b[0m \u001b[0mresult\u001b[0m \u001b[1;32mis\u001b[0m \u001b[0mUndefined\u001b[0m\u001b[1;33m:\u001b[0m\u001b[1;33m\u001b[0m\u001b[1;33m\u001b[0m\u001b[0m\n\u001b[1;32m--> 861\u001b[1;33m             \u001b[0mself\u001b[0m\u001b[1;33m.\u001b[0m\u001b[0m__dict__\u001b[0m\u001b[1;33m[\u001b[0m\u001b[0mname\u001b[0m\u001b[1;33m]\u001b[0m \u001b[1;33m=\u001b[0m \u001b[0mresult\u001b[0m \u001b[1;33m=\u001b[0m \u001b[0mfunction\u001b[0m\u001b[1;33m(\u001b[0m\u001b[0mself\u001b[0m\u001b[1;33m)\u001b[0m\u001b[1;33m\u001b[0m\u001b[1;33m\u001b[0m\u001b[0m\n\u001b[0m\u001b[0;32m    862\u001b[0m \u001b[1;33m\u001b[0m\u001b[0m\n\u001b[0;32m    863\u001b[0m         \u001b[1;32mreturn\u001b[0m \u001b[0mresult\u001b[0m\u001b[1;33m\u001b[0m\u001b[1;33m\u001b[0m\u001b[0m\n",
      "\u001b[1;32mc:\\users\\fahad\\pycharmprojects\\bmcs_shear_zone\\bmcs_shear\\shear_crack\\stress_profile.py\u001b[0m in \u001b[0;36m_get_u_Lb\u001b[1;34m(self)\u001b[0m\n\u001b[0;32m     86\u001b[0m     \u001b[1;33m@\u001b[0m\u001b[0mtr\u001b[0m\u001b[1;33m.\u001b[0m\u001b[0mcached_property\u001b[0m\u001b[1;33m\u001b[0m\u001b[1;33m\u001b[0m\u001b[0m\n\u001b[0;32m     87\u001b[0m     \u001b[1;32mdef\u001b[0m \u001b[0m_get_u_Lb\u001b[0m\u001b[1;33m(\u001b[0m\u001b[0mself\u001b[0m\u001b[1;33m)\u001b[0m\u001b[1;33m:\u001b[0m\u001b[1;33m\u001b[0m\u001b[1;33m\u001b[0m\u001b[0m\n\u001b[1;32m---> 88\u001b[1;33m         \u001b[0mu_La\u001b[0m \u001b[1;33m=\u001b[0m \u001b[0mself\u001b[0m\u001b[1;33m.\u001b[0m\u001b[0mu_La\u001b[0m\u001b[1;33m\u001b[0m\u001b[1;33m\u001b[0m\u001b[0m\n\u001b[0m\u001b[0;32m     89\u001b[0m         \u001b[0mT_Mab\u001b[0m \u001b[1;33m=\u001b[0m \u001b[0mself\u001b[0m\u001b[1;33m.\u001b[0m\u001b[0msz_cp\u001b[0m\u001b[1;33m.\u001b[0m\u001b[0mT_Mab\u001b[0m\u001b[1;33m\u001b[0m\u001b[1;33m\u001b[0m\u001b[0m\n\u001b[0;32m     90\u001b[0m         u_Lb = np.einsum(\n",
      "\u001b[1;32m~\\Anaconda3\\envs\\bmcs_env\\lib\\site-packages\\traits\\has_traits.py\u001b[0m in \u001b[0;36mdecorator\u001b[1;34m(self)\u001b[0m\n\u001b[0;32m    859\u001b[0m         \u001b[0mresult\u001b[0m \u001b[1;33m=\u001b[0m \u001b[0mself\u001b[0m\u001b[1;33m.\u001b[0m\u001b[0m__dict__\u001b[0m\u001b[1;33m.\u001b[0m\u001b[0mget\u001b[0m\u001b[1;33m(\u001b[0m\u001b[0mname\u001b[0m\u001b[1;33m,\u001b[0m \u001b[0mUndefined\u001b[0m\u001b[1;33m)\u001b[0m\u001b[1;33m\u001b[0m\u001b[1;33m\u001b[0m\u001b[0m\n\u001b[0;32m    860\u001b[0m         \u001b[1;32mif\u001b[0m \u001b[0mresult\u001b[0m \u001b[1;32mis\u001b[0m \u001b[0mUndefined\u001b[0m\u001b[1;33m:\u001b[0m\u001b[1;33m\u001b[0m\u001b[1;33m\u001b[0m\u001b[0m\n\u001b[1;32m--> 861\u001b[1;33m             \u001b[0mself\u001b[0m\u001b[1;33m.\u001b[0m\u001b[0m__dict__\u001b[0m\u001b[1;33m[\u001b[0m\u001b[0mname\u001b[0m\u001b[1;33m]\u001b[0m \u001b[1;33m=\u001b[0m \u001b[0mresult\u001b[0m \u001b[1;33m=\u001b[0m \u001b[0mfunction\u001b[0m\u001b[1;33m(\u001b[0m\u001b[0mself\u001b[0m\u001b[1;33m)\u001b[0m\u001b[1;33m\u001b[0m\u001b[1;33m\u001b[0m\u001b[0m\n\u001b[0m\u001b[0;32m    862\u001b[0m \u001b[1;33m\u001b[0m\u001b[0m\n\u001b[0;32m    863\u001b[0m         \u001b[1;32mreturn\u001b[0m \u001b[0mresult\u001b[0m\u001b[1;33m\u001b[0m\u001b[1;33m\u001b[0m\u001b[0m\n",
      "\u001b[1;32mc:\\users\\fahad\\pycharmprojects\\bmcs_shear_zone\\bmcs_shear\\shear_crack\\stress_profile.py\u001b[0m in \u001b[0;36m_get_u_La\u001b[1;34m(self)\u001b[0m\n\u001b[0;32m     68\u001b[0m     \u001b[1;32mdef\u001b[0m \u001b[0m_get_u_La\u001b[0m\u001b[1;33m(\u001b[0m\u001b[0mself\u001b[0m\u001b[1;33m)\u001b[0m\u001b[1;33m:\u001b[0m\u001b[1;33m\u001b[0m\u001b[1;33m\u001b[0m\u001b[0m\n\u001b[0;32m     69\u001b[0m         \u001b[0mK_Li\u001b[0m \u001b[1;33m=\u001b[0m \u001b[0mself\u001b[0m\u001b[1;33m.\u001b[0m\u001b[0msz_cp\u001b[0m\u001b[1;33m.\u001b[0m\u001b[0mK_Li\u001b[0m\u001b[1;33m\u001b[0m\u001b[1;33m\u001b[0m\u001b[0m\n\u001b[1;32m---> 70\u001b[1;33m         \u001b[0mu_Ka\u001b[0m \u001b[1;33m=\u001b[0m \u001b[0mself\u001b[0m\u001b[1;33m.\u001b[0m\u001b[0mds\u001b[0m\u001b[1;33m.\u001b[0m\u001b[0mx1_Ka\u001b[0m \u001b[1;33m-\u001b[0m \u001b[0mself\u001b[0m\u001b[1;33m.\u001b[0m\u001b[0msz_cp\u001b[0m\u001b[1;33m.\u001b[0m\u001b[0mx_Ka\u001b[0m\u001b[1;33m\u001b[0m\u001b[1;33m\u001b[0m\u001b[0m\n\u001b[0m\u001b[0;32m     71\u001b[0m         \u001b[0mu_Lia\u001b[0m \u001b[1;33m=\u001b[0m \u001b[0mu_Ka\u001b[0m\u001b[1;33m[\u001b[0m\u001b[0mK_Li\u001b[0m\u001b[1;33m]\u001b[0m\u001b[1;33m\u001b[0m\u001b[1;33m\u001b[0m\u001b[0m\n\u001b[0;32m     72\u001b[0m         \u001b[0mu_La\u001b[0m \u001b[1;33m=\u001b[0m \u001b[0mnp\u001b[0m\u001b[1;33m.\u001b[0m\u001b[0msum\u001b[0m\u001b[1;33m(\u001b[0m\u001b[0mu_Lia\u001b[0m\u001b[1;33m,\u001b[0m \u001b[0maxis\u001b[0m\u001b[1;33m=\u001b[0m\u001b[1;36m1\u001b[0m\u001b[1;33m)\u001b[0m \u001b[1;33m/\u001b[0m \u001b[1;36m2\u001b[0m\u001b[1;33m\u001b[0m\u001b[1;33m\u001b[0m\u001b[0m\n",
      "\u001b[1;32m~\\Anaconda3\\envs\\bmcs_env\\lib\\site-packages\\traits\\has_traits.py\u001b[0m in \u001b[0;36mdecorator\u001b[1;34m(self)\u001b[0m\n\u001b[0;32m    859\u001b[0m         \u001b[0mresult\u001b[0m \u001b[1;33m=\u001b[0m \u001b[0mself\u001b[0m\u001b[1;33m.\u001b[0m\u001b[0m__dict__\u001b[0m\u001b[1;33m.\u001b[0m\u001b[0mget\u001b[0m\u001b[1;33m(\u001b[0m\u001b[0mname\u001b[0m\u001b[1;33m,\u001b[0m \u001b[0mUndefined\u001b[0m\u001b[1;33m)\u001b[0m\u001b[1;33m\u001b[0m\u001b[1;33m\u001b[0m\u001b[0m\n\u001b[0;32m    860\u001b[0m         \u001b[1;32mif\u001b[0m \u001b[0mresult\u001b[0m \u001b[1;32mis\u001b[0m \u001b[0mUndefined\u001b[0m\u001b[1;33m:\u001b[0m\u001b[1;33m\u001b[0m\u001b[1;33m\u001b[0m\u001b[0m\n\u001b[1;32m--> 861\u001b[1;33m             \u001b[0mself\u001b[0m\u001b[1;33m.\u001b[0m\u001b[0m__dict__\u001b[0m\u001b[1;33m[\u001b[0m\u001b[0mname\u001b[0m\u001b[1;33m]\u001b[0m \u001b[1;33m=\u001b[0m \u001b[0mresult\u001b[0m \u001b[1;33m=\u001b[0m \u001b[0mfunction\u001b[0m\u001b[1;33m(\u001b[0m\u001b[0mself\u001b[0m\u001b[1;33m)\u001b[0m\u001b[1;33m\u001b[0m\u001b[1;33m\u001b[0m\u001b[0m\n\u001b[0m\u001b[0;32m    862\u001b[0m \u001b[1;33m\u001b[0m\u001b[0m\n\u001b[0;32m    863\u001b[0m         \u001b[1;32mreturn\u001b[0m \u001b[0mresult\u001b[0m\u001b[1;33m\u001b[0m\u001b[1;33m\u001b[0m\u001b[0m\n",
      "\u001b[1;32mc:\\users\\fahad\\pycharmprojects\\bmcs_shear_zone\\bmcs_shear\\shear_crack\\deformed_state.py\u001b[0m in \u001b[0;36m_get_x1_Ka\u001b[1;34m(self)\u001b[0m\n\u001b[0;32m     81\u001b[0m         \u001b[0mP_ab\u001b[0m\u001b[1;33m,\u001b[0m \u001b[0m_\u001b[0m \u001b[1;33m=\u001b[0m \u001b[0mself\u001b[0m\u001b[1;33m.\u001b[0m\u001b[0msz_ctr\u001b[0m\u001b[1;33m.\u001b[0m\u001b[0mget_T_ab_dT_dI_abI\u001b[0m\u001b[1;33m(\u001b[0m\u001b[1;33m)\u001b[0m\u001b[1;33m\u001b[0m\u001b[1;33m\u001b[0m\u001b[0m\n\u001b[0;32m     82\u001b[0m         \u001b[0mx_rot_a\u001b[0m \u001b[1;33m=\u001b[0m \u001b[0mself\u001b[0m\u001b[1;33m.\u001b[0m\u001b[0msz_ctr\u001b[0m\u001b[1;33m.\u001b[0m\u001b[0mx_rot_ak\u001b[0m\u001b[1;33m[\u001b[0m\u001b[1;33m:\u001b[0m \u001b[1;33m,\u001b[0m\u001b[1;36m0\u001b[0m\u001b[1;33m]\u001b[0m\u001b[1;33m\u001b[0m\u001b[1;33m\u001b[0m\u001b[0m\n\u001b[1;32m---> 83\u001b[1;33m         \u001b[1;32mreturn\u001b[0m \u001b[0mself\u001b[0m\u001b[1;33m.\u001b[0m\u001b[0msz_ctr\u001b[0m\u001b[1;33m.\u001b[0m\u001b[0mget_x1_La\u001b[0m\u001b[1;33m(\u001b[0m\u001b[0mself\u001b[0m\u001b[1;33m.\u001b[0m\u001b[0msz_cp\u001b[0m\u001b[1;33m.\u001b[0m\u001b[0mx_Ka\u001b[0m\u001b[1;33m)\u001b[0m\u001b[1;33m\u001b[0m\u001b[1;33m\u001b[0m\u001b[0m\n\u001b[0m\u001b[0;32m     84\u001b[0m \u001b[1;33m\u001b[0m\u001b[0m\n\u001b[0;32m     85\u001b[0m     \u001b[0mx1_Ca\u001b[0m \u001b[1;33m=\u001b[0m \u001b[0mtr\u001b[0m\u001b[1;33m.\u001b[0m\u001b[0mProperty\u001b[0m\u001b[1;33m(\u001b[0m\u001b[0mdepends_on\u001b[0m\u001b[1;33m=\u001b[0m\u001b[1;34m'_INC, _GEO, _MAT'\u001b[0m\u001b[1;33m)\u001b[0m\u001b[1;33m\u001b[0m\u001b[1;33m\u001b[0m\u001b[0m\n",
      "\u001b[1;32mc:\\users\\fahad\\pycharmprojects\\bmcs_shear_zone\\bmcs_shear\\shear_crack\\crack_tip_rotation.py\u001b[0m in \u001b[0;36mget_x1_La\u001b[1;34m(self, x0_La)\u001b[0m\n\u001b[0;32m    757\u001b[0m         \u001b[0mP_ab\u001b[0m\u001b[1;33m,\u001b[0m \u001b[0m_\u001b[0m \u001b[1;33m=\u001b[0m \u001b[0mself\u001b[0m\u001b[1;33m.\u001b[0m\u001b[0mget_T_ab_dT_dI_abI\u001b[0m\u001b[1;33m(\u001b[0m\u001b[1;33m)\u001b[0m\u001b[1;33m\u001b[0m\u001b[1;33m\u001b[0m\u001b[0m\n\u001b[0;32m    758\u001b[0m         \u001b[0mx_rot_a\u001b[0m \u001b[1;33m=\u001b[0m \u001b[0mself\u001b[0m\u001b[1;33m.\u001b[0m\u001b[0mx_rot_ak\u001b[0m\u001b[1;33m[\u001b[0m\u001b[1;33m:\u001b[0m \u001b[1;33m,\u001b[0m\u001b[1;36m0\u001b[0m\u001b[1;33m]\u001b[0m\u001b[1;33m\u001b[0m\u001b[1;33m\u001b[0m\u001b[0m\n\u001b[1;32m--> 759\u001b[1;33m         \u001b[1;32mreturn\u001b[0m \u001b[0mget_x1_La\u001b[0m\u001b[1;33m(\u001b[0m\u001b[0mP_ab\u001b[0m\u001b[1;33m,\u001b[0m \u001b[0mx0_La\u001b[0m\u001b[1;33m,\u001b[0m \u001b[0mx_rot_a\u001b[0m\u001b[1;33m)\u001b[0m\u001b[1;33m\u001b[0m\u001b[1;33m\u001b[0m\u001b[0m\n\u001b[0m\u001b[0;32m    760\u001b[0m \u001b[1;33m\u001b[0m\u001b[0m\n\u001b[0;32m    761\u001b[0m     \u001b[1;32mdef\u001b[0m \u001b[0mplot_crack_tip_rotation\u001b[0m\u001b[1;33m(\u001b[0m\u001b[0mself\u001b[0m\u001b[1;33m,\u001b[0m \u001b[0max\u001b[0m\u001b[1;33m)\u001b[0m\u001b[1;33m:\u001b[0m\u001b[1;33m\u001b[0m\u001b[1;33m\u001b[0m\u001b[0m\n",
      "\u001b[1;32mc:\\users\\fahad\\pycharmprojects\\bmcs_shear_zone\\bmcs_shear\\shear_crack\\crack_tip_rotation.py\u001b[0m in \u001b[0;36mget_x1_La\u001b[1;34m(T_ab, x0_La, x_rot_a)\u001b[0m\n\u001b[0;32m    619\u001b[0m \u001b[1;32mdef\u001b[0m \u001b[0mget_x1_La\u001b[0m\u001b[1;33m(\u001b[0m\u001b[0mT_ab\u001b[0m\u001b[1;33m,\u001b[0m \u001b[0mx0_La\u001b[0m\u001b[1;33m,\u001b[0m \u001b[0mx_rot_a\u001b[0m\u001b[1;33m)\u001b[0m\u001b[1;33m:\u001b[0m\u001b[1;33m\u001b[0m\u001b[1;33m\u001b[0m\u001b[0m\n\u001b[0;32m    620\u001b[0m     \u001b[0mx_rot_La\u001b[0m \u001b[1;33m=\u001b[0m \u001b[0mx_rot_a\u001b[0m\u001b[1;33m[\u001b[0m\u001b[0mnp\u001b[0m\u001b[1;33m.\u001b[0m\u001b[0mnewaxis\u001b[0m\u001b[1;33m,\u001b[0m \u001b[1;33m...\u001b[0m\u001b[1;33m]\u001b[0m\u001b[1;33m\u001b[0m\u001b[1;33m\u001b[0m\u001b[0m\n\u001b[1;32m--> 621\u001b[1;33m     \u001b[1;32mreturn\u001b[0m \u001b[0mnp\u001b[0m\u001b[1;33m.\u001b[0m\u001b[0meinsum\u001b[0m\u001b[1;33m(\u001b[0m\u001b[1;34m'ab,Lb->La'\u001b[0m\u001b[1;33m,\u001b[0m \u001b[0mT_ab\u001b[0m\u001b[1;33m,\u001b[0m \u001b[0mx0_La\u001b[0m \u001b[1;33m-\u001b[0m \u001b[0mx_rot_La\u001b[0m\u001b[1;33m)\u001b[0m \u001b[1;33m+\u001b[0m \u001b[0mx_rot_La\u001b[0m\u001b[1;33m\u001b[0m\u001b[1;33m\u001b[0m\u001b[0m\n\u001b[0m\u001b[0;32m    622\u001b[0m \u001b[1;33m\u001b[0m\u001b[0m\n\u001b[0;32m    623\u001b[0m \u001b[1;31m# In[44]:\u001b[0m\u001b[1;33m\u001b[0m\u001b[1;33m\u001b[0m\u001b[1;33m\u001b[0m\u001b[0m\n",
      "\u001b[1;32m<__array_function__ internals>\u001b[0m in \u001b[0;36meinsum\u001b[1;34m(*args, **kwargs)\u001b[0m\n",
      "\u001b[1;32m~\\Anaconda3\\envs\\bmcs_env\\lib\\site-packages\\numpy\\core\\einsumfunc.py\u001b[0m in \u001b[0;36meinsum\u001b[1;34m(out, optimize, *operands, **kwargs)\u001b[0m\n\u001b[0;32m   1348\u001b[0m         \u001b[1;32mif\u001b[0m \u001b[0mspecified_out\u001b[0m\u001b[1;33m:\u001b[0m\u001b[1;33m\u001b[0m\u001b[1;33m\u001b[0m\u001b[0m\n\u001b[0;32m   1349\u001b[0m             \u001b[0mkwargs\u001b[0m\u001b[1;33m[\u001b[0m\u001b[1;34m'out'\u001b[0m\u001b[1;33m]\u001b[0m \u001b[1;33m=\u001b[0m \u001b[0mout\u001b[0m\u001b[1;33m\u001b[0m\u001b[1;33m\u001b[0m\u001b[0m\n\u001b[1;32m-> 1350\u001b[1;33m         \u001b[1;32mreturn\u001b[0m \u001b[0mc_einsum\u001b[0m\u001b[1;33m(\u001b[0m\u001b[1;33m*\u001b[0m\u001b[0moperands\u001b[0m\u001b[1;33m,\u001b[0m \u001b[1;33m**\u001b[0m\u001b[0mkwargs\u001b[0m\u001b[1;33m)\u001b[0m\u001b[1;33m\u001b[0m\u001b[1;33m\u001b[0m\u001b[0m\n\u001b[0m\u001b[0;32m   1351\u001b[0m \u001b[1;33m\u001b[0m\u001b[0m\n\u001b[0;32m   1352\u001b[0m     \u001b[1;31m# Check the kwargs to avoid a more cryptic error later, without having to\u001b[0m\u001b[1;33m\u001b[0m\u001b[1;33m\u001b[0m\u001b[1;33m\u001b[0m\u001b[0m\n",
      "\u001b[1;31mKeyboardInterrupt\u001b[0m: "
     ]
    }
   ],
   "source": [
    "import numpy as np\n",
    "crack_positions = np.linspace(0.1 * ce.sz_bd.L, 0.9 * ce.sz_bd.L, 10)\n",
    "F_max = []\n",
    "F_max_i = []\n",
    "slip = []\n",
    "F_Na = []\n",
    "shear_stress = []\n",
    "for crack_position in crack_positions:\n",
    "    ce.reset()\n",
    "    ce.sz_cp.trait_set(x_00=crack_position)\n",
    "    ce.run()\n",
    "    F_beam = ce.F_beam\n",
    "    F_max_ = np.max(F_beam)\n",
    "    F_max_i_ = np.argmax(F_beam)\n",
    "    F_max_i_int = np.array(F_max_i_)\n",
    "    F_Na_ = ce.F_Na[F_max_i_int]\n",
    "    slip_ = ce.slip[F_max_i_int][F_max_i_int]\n",
    "    shear_stress_ = ce.shear_agg[F_max_i_int][F_max_i_int]\n",
    "    F_max.append(F_max_)\n",
    "    F_max_i.append(F_max_i_)\n",
    "    slip.append(slip_)\n",
    "    shear_stress.append(shear_stress_)\n",
    "    F_Na.append(F_Na_)\n",
    "    F_max_i.append(F_max_i_)\n",
    "print('crack position =', crack_positions)\n",
    "print('slip =', slip)\n",
    "print('shear stress =', shear_stress)\n",
    "print('F_Na =', F_Na)\n",
    "print('F_max_i =', F_max_i)"
   ]
  },
  {
   "cell_type": "code",
   "execution_count": null,
   "metadata": {
    "scrolled": false
   },
   "outputs": [],
   "source": [
    "import matplotlib.pylab as plt\n",
    "_, (ax1, ax2) = plt.subplots(1, 2, figsize=(11,4))\n",
    "#ax1.plot(crack_positions, np.array(V_c) /1000, color = 'red', lw= 2);\n",
    "ax1.plot(crack_positions, np.array(F_a) , color = 'blue', lw= 2, label = '$F_{agg}$'); #/1000\n",
    "ax1.plot(crack_positions, F_Na, color = 'red', lw = 2, label = '$F_{dowel}$');\n",
    "#ax1.plot(crack_positions, np.array(Q) , color = 'green', lw= 2); #/1000\n",
    "ax1.plot(crack_positions, np.array(Q_red) , color = 'orange', lw= 2, label = '$F_{uncr}$'); #/1000\n",
    "ax1.set_xlabel(r'$\\mathrm{Length\\,of\\,the\\,beam\\,(mm)}$'); ax1.set_ylabel(r'$F\\,(N)$');\n",
    "ax1.set_title(r'Max Force Contribution')\n",
    "ax1.legend()\n",
    "ax2.plot(crack_positions, np.array(F_a) , color = 'blue', lw= 2, label = '$F_{agg}$');\n",
    "ax2.plot(crack_positions, F_Na, color = 'red', lw = 2, label = '$F_{dowel}$');\n",
    "ax2.set_xlabel(r'$\\mathrm{Length\\,of\\,the\\,beam\\,(mm)}$'); ax2.set_ylabel(r'$F\\,(N)$');\n",
    "#plt.savefig(\"D:\\Shear zones\\Python plots\\Force_comparisons_updated.pdf\")"
   ]
  },
  {
   "cell_type": "code",
   "execution_count": null,
   "metadata": {},
   "outputs": [],
   "source": []
  },
  {
   "cell_type": "code",
   "execution_count": null,
   "metadata": {},
   "outputs": [],
   "source": [
    "# import matplotlib.pylab as plt\n",
    "# _, (ax1, ax2) = plt.subplots(1, 2, figsize=(11,4))\n",
    "# ax1.plot(c_p, F_La, color = 'red', lw= 2);\n",
    "# ax1.set_xlabel(r'$\\mathrm{Length\\,of\\,the\\,beam\\,(mm)}$'); ax1.set_ylabel(r'$F\\,(N)$');\n",
    "# ax1.set_title(r'Force contribution Aggregate Interlock')\n",
    "# ax2.plot(c_p , F_Na, color='blue', lw=2);\n",
    "# ax2.set_xlabel(r'$\\mathrm{Length\\,of\\,the\\,beam\\,(mm)}$'); ax2.set_ylabel(r'$F_{da}\\,(N)$');\n",
    "# ax2.set_title(r'Force contribution Dowel Action')\n",
    "# #plt.savefig(\"D:\\Shear zones\\Python plots\\Force_comparisons.pdf\")"
   ]
  },
  {
   "cell_type": "code",
   "execution_count": null,
   "metadata": {},
   "outputs": [],
   "source": [
    "# import numpy as np\n",
    "# F_a_ = np.array(ce.F_a)\n",
    "# D = ce.sz_bd.H - ce.sz_bd.cross_section_layout.reinforcement.z_j[0]\n",
    "# x_tip_1n = np.array(ce.x_tip_1n)\n",
    "# x_tip_0n = np.array(ce.x_tip_0n)\n",
    "# x_tip_1k = np.array(ce.x_tip_1k)\n",
    "# L = ce.sz_bd.L\n",
    "# A_s = ce.sz_bd.cross_section_layout.reinforcement.A_j[0] \n",
    "# E_s = ce.sz_bd.cross_section_layout.reinforcement.E_j[0]\n",
    "# v_n = np.array(ce.v_n)\n",
    "# V_c = []\n",
    "# # for x_tip_0n in range(len(v_n)):\n",
    "# #     if x_tip_0n == 0:\n",
    "# #         V_c = ((ce.crack_tip_shear_stress.Q) ) #\\\n",
    "# #                #/ (ce.sz_bd.B * D * np.sqrt(33.3) ))\n",
    "# #     elif x_tip_0n > 0:\n",
    "# V_c = (np.array(ce.F_beam[1:])) / (1 - (0.5 * (ce.sz_bd.H - x_tip_1n[1:])/ x_tip_0n[1:])) #\\ #ce.crack_tip_shear_stress.Q\n",
    "#                #/ (ce.sz_bd.B * D * np.sqrt(33.3) ))      \n",
    "# #V_c = ((ce.crack_tip_shear_stress.Q) / (1 - (0.5 * (ce.sz_bd.H - x_tip_1n[1:])/ x_tip_0n[1:])) / (ce.sz_bd.B * D * np.sqrt(33.3) ))\n",
    "# V_e = np.ones_like(v_n) * 114000\n",
    "# V_f = v_n * A_s * E_s * (D - x_tip_1k/3) / ((D - x_tip_1k) * (L - x_tip_0n))\n",
    "# #V_f\n",
    "# #v_n\n",
    "# #ce.Q\n",
    "# #V_c"
   ]
  },
  {
   "cell_type": "code",
   "execution_count": null,
   "metadata": {},
   "outputs": [],
   "source": [
    "# import matplotlib.pylab as plt\n",
    "# _, (ax1, ax2) = plt.subplots(1, 2, figsize=(11,4))\n",
    "# ax1.plot(ce.v_n[1:], V_c, color = 'red', lw= 2, label = 'V_c');\n",
    "# #ax1.plot(ce.v_n, ce.F_beam, color = 'blue', lw = 2);\n",
    "# ax1.plot(ce.v_n[1:], V_e[1:], '--' , color = 'orange', lw = 2, label = 'V_exp')\n",
    "# ax1.plot(ce.v_n[1:], V_f[1:], '--' , color = 'green', lw = 2, label = 'V_load')\n",
    "# ax1.set_xlabel('deflection')\n",
    "# ax1.set_ylabel('V')\n",
    "# ax1.legend()"
   ]
  },
  {
   "cell_type": "code",
   "execution_count": null,
   "metadata": {},
   "outputs": [],
   "source": [
    "# import matplotlib.pylab as plt\n",
    "# _, (ax1) = plt.subplots(1, 1, figsize=(7,4))\n",
    "# ax1.plot(c_p, F_m, color = 'red', lw= 2);\n",
    "# ax1.set_xlabel(r'$\\mathrm{Length\\,of\\,the\\,beam\\,(mm)}$'); ax1.set_ylabel(r'$F_{max}\\,(N)$');\n",
    "# ax1.set_title(r'Maximum Force Contribution along the length of the beam')\n",
    "# #plt.savefig(\"D:\\Shear zones\\Python plots\\Max_Force_contributions.pdf\")"
   ]
  },
  {
   "cell_type": "code",
   "execution_count": null,
   "metadata": {
    "scrolled": false
   },
   "outputs": [],
   "source": [
    "# import matplotlib.pylab as plt\n",
    "# _, (ax1) = plt.subplots(1, 1, figsize=(7,5))\n",
    "# x_00_L = c_p/ ce.sz_bd.L\n",
    "# ones = np.ones_like(c_p)\n",
    "# V_exp = 114000 * ones \n",
    "# ax1.plot(x_00_L, F_m, color = 'red', lw= 2, label = (r'$V_{max}$'));\n",
    "# ax1.plot(x_00_L, V_exp, color = 'black',linestyle='--', lw =2, label = (r'$V_{exp}$'));\n",
    "# ax1.set_xlabel(r'$\\mathrm{\\frac{x_{00}}{Length\\,of\\,the\\,beam\\,(mm)}}$'); ax1.set_ylabel(r'$F_{max}\\,(N)$');\n",
    "# ax1.set_title(r'Maximum Force Contribution along the length of the beam')\n",
    "# ax1.legend()\n",
    "# #plt.savefig(\"D:\\Shear zones\\Python plots\\Max_Force_contributions_with_V_exp.pdf\")"
   ]
  },
  {
   "cell_type": "code",
   "execution_count": null,
   "metadata": {},
   "outputs": [],
   "source": [
    "# import matplotlib.pylab as plt\n",
    "# _, (ax1) = plt.subplots(1, 1, figsize=(6,5))\n",
    "# ones = np.ones_like(c_p)\n",
    "# V_exp = 114000 * ones \n",
    "# #ax1.plot(c_p, F_m, color = 'red', lw= 2, label = (r'$V_{max}$'));\n",
    "# #ax1.plot(c_p, V_exp, color = 'black',linestyle='--', lw =2, label = (r'$V_{exp}$'));\n",
    "# ax1.plot(c_p, Q_reduce, color = 'blue', lw =2, label = (r'$V_{uncr}$'));\n",
    "# #ax1.plot(c_p, F_La, color = 'orange', lw = 2, label = (r'$V_{agg}$'));\n",
    "# #ax1.plot(c_p, F_Na, color = 'green', lw =2, label = (r'$V_{da}$'));\n",
    "# ax1.set_xlabel(r'$\\mathrm{Length\\,of\\,the\\,beam\\,(mm)}$'); ax1.set_ylabel(r'$F_{max}\\,(N)$');\n",
    "# ax1.set_title(r'Maximum Force Contribution along the length of the beam')\n",
    "# ax1.legend()\n",
    "# plt.savefig(\"D:\\Shear zones\\Python plots\\Q_reduce_contributions.pdf\")"
   ]
  },
  {
   "cell_type": "code",
   "execution_count": null,
   "metadata": {
    "scrolled": false
   },
   "outputs": [],
   "source": [
    "# ce.crack_tip_orientation.get_psi(), ce.M_n"
   ]
  },
  {
   "cell_type": "code",
   "execution_count": null,
   "metadata": {},
   "outputs": [],
   "source": [
    "# ce.crack_tip_shear_stress.Q_reduced, ce.sz_stress_profile.F_La[47,0], ce.sz_stress_profile.F_Na[0,0]\n",
    "# ce.crack_tip_shear_stress.tau_x_tip_1k *ce.sz_bd.B\n",
    "# ce.sz_stress_profile.F_a\n",
    "# ce.crack_tip_shear_stress.Q_reduced"
   ]
  },
  {
   "cell_type": "code",
   "execution_count": null,
   "metadata": {},
   "outputs": [],
   "source": [
    "# import numpy as np\n",
    "# ce.sz_stress_profile.u_La[47,:]"
   ]
  },
  {
   "cell_type": "code",
   "execution_count": null,
   "metadata": {},
   "outputs": [],
   "source": [
    "# (ce.sz_stress_profile.M / 1000) / ((ce.crack_tip_shear_stress.Q) *\\\n",
    "#                                    (ce.sz_bd.H - ce.sz_bd.cross_section_layout.reinforcement.z_j[0]))"
   ]
  },
  {
   "cell_type": "code",
   "execution_count": null,
   "metadata": {
    "scrolled": true
   },
   "outputs": [],
   "source": [
    "# #V_uncr = np.sum(ce.crack_tip_shear_stress.tau_z) * ce.sz_bd.B\n",
    "# print(V_uncr)\n",
    "# V_da = ce.sz_stress_profile.F_Na[:,1]\n",
    "# print(V_da)\n",
    "# V_ai = np.sum(ce.sz_stress_profile.F_La[:,1]) #* ce.sz_bd.B #- np.sum(ce.sz_bd.cmm.get_sigma_ag(ce.sz_stress_profile.u_Lb[...,0],ce.sz_stress_profile.u_Lb[...,1])) #* np.cos((ce.sz_cp._get_beta()))\n",
    "# print(V_ai)\n",
    "# V_res = np.max(ce.F_beam)\n",
    "# print(V_res)\n",
    "# V_uncr + V_da + V_ai + V_res"
   ]
  },
  {
   "cell_type": "code",
   "execution_count": null,
   "metadata": {},
   "outputs": [],
   "source": [
    "# np.sum(ce.sz_stress_profile.F_La[:,1])"
   ]
  },
  {
   "cell_type": "code",
   "execution_count": null,
   "metadata": {},
   "outputs": [],
   "source": [
    "# np.sum(ce.sz_stress_profile.S_La[:,1]) * ce.sz_bd.B"
   ]
  },
  {
   "cell_type": "code",
   "execution_count": null,
   "metadata": {
    "pycharm": {
     "name": "#%%\n"
    }
   },
   "outputs": [],
   "source": [
    "# import numpy as np\n",
    "# S_Lb = ce.sz_stress_profile.S_Lb\n",
    "# S_La = ce.sz_stress_profile.S_La\n",
    "# idx = np.argmax(S_Lb[...,0])"
   ]
  },
  {
   "cell_type": "code",
   "execution_count": null,
   "metadata": {
    "pycharm": {
     "name": "#%%\n"
    }
   },
   "outputs": [],
   "source": [
    "# S_Lb[idx,:], S_La[idx,:]"
   ]
  },
  {
   "cell_type": "code",
   "execution_count": null,
   "metadata": {
    "pycharm": {
     "name": "#%%\n"
    }
   },
   "outputs": [],
   "source": [
    "# ce.sz_cp.T_Mab[idx,...]"
   ]
  },
  {
   "cell_type": "code",
   "execution_count": null,
   "metadata": {
    "pycharm": {
     "name": "#%%\n"
    }
   },
   "outputs": [],
   "source": [
    "# np.einsum('i,i', S_Lb[idx,:], S_Lb[idx,:])"
   ]
  },
  {
   "cell_type": "code",
   "execution_count": null,
   "metadata": {
    "pycharm": {
     "name": "#%%\n"
    }
   },
   "outputs": [],
   "source": [
    "# np.einsum('i,i', S_La[idx,:], S_La[idx,:])"
   ]
  },
  {
   "cell_type": "markdown",
   "metadata": {},
   "source": [
    "Todo:\n",
    "\n",
    " - include the reinforcement material law - partially done \n",
    "   (but for strain-based material law) - replace with the crack bridge law\n",
    " - transformation of the crack bridging force to the global coordinates\n",
    " - include the dowel effect "
   ]
  },
  {
   "cell_type": "code",
   "execution_count": null,
   "metadata": {
    "pycharm": {
     "name": "#%%\n"
    }
   },
   "outputs": [],
   "source": [
    "#ce.sz_ctr._get_x_rot_ak()"
   ]
  },
  {
   "cell_type": "code",
   "execution_count": null,
   "metadata": {
    "pycharm": {
     "name": "#%%\n"
    }
   },
   "outputs": [],
   "source": [
    "# ce.sz_stress_profile.F_Na"
   ]
  },
  {
   "cell_type": "code",
   "execution_count": null,
   "metadata": {},
   "outputs": [],
   "source": [
    "# ce.sz_stress_profile.u_Na"
   ]
  },
  {
   "cell_type": "code",
   "execution_count": null,
   "metadata": {},
   "outputs": [],
   "source": [
    "# np.max(ce.sz_stress_profile.F_La)"
   ]
  },
  {
   "cell_type": "code",
   "execution_count": null,
   "metadata": {},
   "outputs": [],
   "source": [
    "# np.sum(ce.sz_stress_profile.F_La)"
   ]
  },
  {
   "cell_type": "code",
   "execution_count": null,
   "metadata": {},
   "outputs": [],
   "source": [
    "# np.max(ce.sz_stress_profile.F_La)"
   ]
  },
  {
   "cell_type": "code",
   "execution_count": null,
   "metadata": {},
   "outputs": [],
   "source": []
  }
 ],
 "metadata": {
  "kernelspec": {
   "display_name": "Python 3",
   "language": "python",
   "name": "python3"
  },
  "language_info": {
   "codemirror_mode": {
    "name": "ipython",
    "version": 3
   },
   "file_extension": ".py",
   "mimetype": "text/x-python",
   "name": "python",
   "nbconvert_exporter": "python",
   "pygments_lexer": "ipython3",
   "version": "3.9.1"
  },
  "toc": {
   "base_numbering": 1,
   "nav_menu": {},
   "number_sections": true,
   "sideBar": true,
   "skip_h1_title": false,
   "title_cell": "Table of Contents",
   "title_sidebar": "Contents",
   "toc_cell": false,
   "toc_position": {},
   "toc_section_display": true,
   "toc_window_display": false
  }
 },
 "nbformat": 4,
 "nbformat_minor": 1
}
