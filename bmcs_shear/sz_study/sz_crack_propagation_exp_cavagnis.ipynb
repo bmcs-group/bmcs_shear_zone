{
 "cells": [
  {
   "cell_type": "code",
   "execution_count": 2,
   "metadata": {
    "pycharm": {
     "name": "#%%\n"
    }
   },
   "outputs": [],
   "source": [
    "# 2D Crack propagation in a bended beam"
   ]
  },
  {
   "cell_type": "markdown",
   "metadata": {},
   "source": [
    " - @todo: Plot the residual value\n",
    " - @todo: State dependencies - recalculate upon material parameter change"
   ]
  },
  {
   "cell_type": "code",
   "execution_count": 3,
   "metadata": {
    "pycharm": {
     "name": "#%%\n"
    }
   },
   "outputs": [],
   "source": [
    "%matplotlib widget\n",
    "import bmcs_utils.api as bu\n",
    "from bmcs_shear.shear_crack.crack_propagation import CrackPropagation\n",
    "ce = CrackPropagation(n_seg=250)\n",
    "ce.sz_bd.cmm.trait_set(tau_1 = 4, s_1 = 0.2, tau_2 = 3, tau_3 = 2, s_2 = 1.4, s_3 = 5)\n",
    "ce.sz_bd.cmm.trait_set(f_c = 33.3, f_t = 0.3 * 33.3 **(2/3), d_a = 16)\n",
    "ce.sz_bd.Rectangle = True\n",
    "ce.sz_bd.trait_set(H=600, B=250, L=3870)\n",
    "ce.sz_cp.trait_set(x_00=ce.sz_bd.L * 0.3, n_m = 15)\n",
    "ce.sz_cp.sz_ctr.trait_set(ell = 2)\n",
    "ce.sz_bd.cross_section_layout.reinforcement.z_j[0] = 30\n",
    "ce.sz_bd.cross_section_layout.reinforcement.A_j[0] = 615.44\n",
    "ce.sz_bd.cross_section_layout.reinforcement.E_j[0] = 210000 / 100"
   ]
  },
  {
   "cell_type": "markdown",
   "metadata": {},
   "source": [
    "\\begin{align}\n",
    "\\sigma_\\mathrm{F} = E w / L_\\mathrm{eff}\n",
    "\\end{align}"
   ]
  },
  {
   "cell_type": "code",
   "execution_count": 4,
   "metadata": {
    "pycharm": {
     "name": "#%%\n"
    }
   },
   "outputs": [
    {
     "name": "stderr",
     "output_type": "stream",
     "text": [
      "<lambdifygenerated-24>:2: RuntimeWarning: invalid value encountered in sqrt\n",
      "  return (select([less_equal(w, 0),True], [0,0.25*f_c*s*(-sqrt(2)*sqrt(w/d_a) + 1)*((2.44 - 39.04/f_c)*abs(s/w)**3 + 9.8/f_c)/(w*(s**4*(2.44 - 39.04/f_c)/w**4 + 1))], default=nan))\n"
     ]
    },
    {
     "data": {
      "application/vnd.jupyter.widget-view+json": {
       "model_id": "6c814e9e4e4241b58261faf5559202ed",
       "version_major": 2,
       "version_minor": 0
      },
      "text/plain": [
       "VBox(children=(Output(), Tab(children=(VBox(children=(GridBox(children=(HBox(children=(Button(icon='play', lay…"
      ]
     },
     "metadata": {},
     "output_type": "display_data"
    }
   ],
   "source": [
    "bu.InteractiveWindow([ce, ce.sz_bd, ce.sz_bd.cross_section_layout, \n",
    "                      ce.sz_stress_profile, \n",
    "                      ce.sz_bd.cmm, ce.sz_bd.smm, ce.sz_cp, ce.sz_cp.sz_ctr]).interact()"
   ]
  },
  {
   "cell_type": "code",
   "execution_count": 5,
   "metadata": {
    "pycharm": {
     "name": "#%%\n"
    }
   },
   "outputs": [],
   "source": [
    "import numpy as np\n",
    "S_Lb = ce.sz_stress_profile.S_Lb\n",
    "S_La = ce.sz_stress_profile.S_La\n",
    "idx = np.argmax(S_Lb[...,0])"
   ]
  },
  {
   "cell_type": "code",
   "execution_count": 6,
   "metadata": {
    "pycharm": {
     "name": "#%%\n"
    }
   },
   "outputs": [
    {
     "data": {
      "text/plain": [
       "(array([7.74426492e+02, 4.57123369e-02]),\n",
       " array([7.74426492e+02, 4.57123369e-02]))"
      ]
     },
     "execution_count": 6,
     "metadata": {},
     "output_type": "execute_result"
    }
   ],
   "source": [
    "S_Lb[idx,:], S_La[idx,:]"
   ]
  },
  {
   "cell_type": "code",
   "execution_count": 7,
   "metadata": {
    "pycharm": {
     "name": "#%%\n"
    }
   },
   "outputs": [
    {
     "data": {
      "text/plain": [
       "array([[1., 0.],\n",
       "       [0., 1.]])"
      ]
     },
     "execution_count": 7,
     "metadata": {},
     "output_type": "execute_result"
    }
   ],
   "source": [
    "ce.sz_cp.T_Mab[idx,...]"
   ]
  },
  {
   "cell_type": "code",
   "execution_count": 8,
   "metadata": {
    "pycharm": {
     "name": "#%%\n"
    }
   },
   "outputs": [
    {
     "data": {
      "text/plain": [
       "599736.3942562717"
      ]
     },
     "execution_count": 8,
     "metadata": {},
     "output_type": "execute_result"
    }
   ],
   "source": [
    "np.einsum('i,i', S_Lb[idx,:], S_Lb[idx,:])"
   ]
  },
  {
   "cell_type": "code",
   "execution_count": 9,
   "metadata": {
    "pycharm": {
     "name": "#%%\n"
    }
   },
   "outputs": [
    {
     "data": {
      "text/plain": [
       "599736.3942562715"
      ]
     },
     "execution_count": 9,
     "metadata": {},
     "output_type": "execute_result"
    }
   ],
   "source": [
    "np.einsum('i,i', S_La[idx,:], S_La[idx,:])"
   ]
  },
  {
   "cell_type": "markdown",
   "metadata": {},
   "source": [
    "Todo:\n",
    "\n",
    " - include the reinforcement material law - partially done \n",
    "   (but for strain-based material law) - replace with the crack bridge law\n",
    " - transformation of the crack bridging force to the global coordinates\n",
    " - include the dowel effect "
   ]
  },
  {
   "cell_type": "code",
   "execution_count": 10,
   "metadata": {
    "pycharm": {
     "name": "#%%\n"
    }
   },
   "outputs": [],
   "source": [
    "#ce.sz_cp._get_norm_n_vec_L()"
   ]
  },
  {
   "cell_type": "code",
   "execution_count": 11,
   "metadata": {
    "pycharm": {
     "name": "#%%\n"
    }
   },
   "outputs": [],
   "source": [
    "#ce.sz_cp._get_x_Ka()"
   ]
  },
  {
   "cell_type": "code",
   "execution_count": 12,
   "metadata": {
    "pycharm": {
     "name": "#%%\n"
    }
   },
   "outputs": [],
   "source": [
    "#ce.sz_stress_profile._get_S_La()"
   ]
  },
  {
   "cell_type": "code",
   "execution_count": 13,
   "metadata": {
    "pycharm": {
     "name": "#%%\n"
    }
   },
   "outputs": [],
   "source": [
    "#ce.sz_stress_profile._get_F_La()"
   ]
  },
  {
   "cell_type": "code",
   "execution_count": 14,
   "metadata": {
    "pycharm": {
     "name": "#%%\n"
    }
   },
   "outputs": [],
   "source": [
    "#ce.sz_stress_profile._get_F_ag()"
   ]
  },
  {
   "cell_type": "code",
   "execution_count": 15,
   "metadata": {
    "pycharm": {
     "name": "#%%\n"
    }
   },
   "outputs": [],
   "source": [
    "#ce.sz_stress_profile._get_u_Lb()"
   ]
  },
  {
   "cell_type": "code",
   "execution_count": 16,
   "metadata": {
    "pycharm": {
     "name": "#%%\n"
    }
   },
   "outputs": [],
   "source": [
    "#ce.sz_stress_profile._get_S_Lb()[:,1]"
   ]
  },
  {
   "cell_type": "code",
   "execution_count": 17,
   "metadata": {
    "pycharm": {
     "name": "#%%\n"
    }
   },
   "outputs": [
    {
     "data": {
      "text/plain": [
       "array([ 3.85459969e-06,  3.80843682e-06,  3.76227398e-06,  3.71611111e-06,\n",
       "        3.66994821e-06,  3.62378534e-06,  3.57762247e-06,  3.53145960e-06,\n",
       "        3.48529674e-06,  3.43913387e-06,  3.39297100e-06,  3.34680810e-06,\n",
       "        3.30064523e-06,  3.25448238e-06,  3.20319030e-06,  3.14676902e-06,\n",
       "        3.09034774e-06,  3.03392646e-06,  2.97750516e-06,  2.92108388e-06,\n",
       "        2.86466259e-06,  2.80824130e-06,  2.75182002e-06,  2.69539873e-06,\n",
       "        2.63897745e-06,  2.58255616e-06,  2.52613486e-06,  2.46971358e-06,\n",
       "        2.41329229e-06,  2.35687101e-06,  2.30044972e-06,  2.24402844e-06,\n",
       "        2.18760715e-06,  2.13118587e-06,  2.07476458e-06,  2.01834330e-06,\n",
       "        1.96192201e-06,  1.90550072e-06,  1.84907944e-06,  1.79265815e-06,\n",
       "        1.73623687e-06,  1.67981557e-06,  1.62339428e-06,  1.56697301e-06,\n",
       "        1.51055173e-06,  1.45413043e-06,  1.39770914e-06,  1.34128786e-06,\n",
       "        1.28486657e-06,  1.22844529e-06,  1.17202399e-06,  1.11560270e-06,\n",
       "        1.05918143e-06,  1.00276014e-06,  9.46338844e-07,  8.89917558e-07,\n",
       "        8.33496287e-07,  7.77075002e-07,  7.20653702e-07,  6.64232417e-07,\n",
       "        6.07811131e-07,  5.51389846e-07,  4.94968560e-07,  4.38547261e-07,\n",
       "        3.82125990e-07,  3.25704718e-07,  2.69283419e-07,  2.12862119e-07,\n",
       "        1.56440819e-07,  1.00019548e-07,  4.35982770e-08, -1.28230226e-08,\n",
       "       -6.92443223e-08, -1.25665593e-07, -1.82086865e-07, -2.38508164e-07,\n",
       "       -2.94929464e-07, -3.51350735e-07, -4.07772006e-07, -4.64193306e-07,\n",
       "       -5.20614606e-07, -5.77035877e-07, -6.33457148e-07, -6.89878448e-07,\n",
       "       -7.46299747e-07, -8.02721047e-07, -8.59142318e-07, -9.15563589e-07,\n",
       "       -9.71984889e-07, -1.02840619e-06, -1.08482749e-06, -1.14124876e-06,\n",
       "       -1.19767003e-06, -1.25409133e-06, -1.31051260e-06, -1.36693387e-06,\n",
       "       -1.42335517e-06, -1.47977647e-06, -1.53619777e-06, -1.59261904e-06,\n",
       "       -1.64904031e-06, -1.70546161e-06, -1.76188288e-06, -1.81830416e-06,\n",
       "       -1.87472546e-06, -1.93114676e-06, -1.98756806e-06, -2.04398935e-06,\n",
       "       -2.10041065e-06, -2.15683193e-06, -2.21325320e-06, -2.26967447e-06,\n",
       "       -2.32609577e-06, -2.38251707e-06, -2.43893834e-06, -2.49535964e-06,\n",
       "       -2.55178091e-06, -2.60820218e-06, -2.66462348e-06, -2.72104475e-06,\n",
       "       -2.77746602e-06, -2.83388732e-06, -2.89030862e-06, -2.94672992e-06,\n",
       "       -3.00315122e-06, -3.05957252e-06, -3.11599382e-06, -3.17241506e-06,\n",
       "       -3.22883631e-06, -3.28525761e-06, -3.34167891e-06, -3.39810020e-06,\n",
       "       -3.45452150e-06, -3.51094275e-06, -3.56736405e-06, -3.62378540e-06,\n",
       "       -3.68020670e-06, -3.73662800e-06, -3.79304925e-06, -3.84947049e-06])"
      ]
     },
     "execution_count": 17,
     "metadata": {},
     "output_type": "execute_result"
    }
   ],
   "source": [
    "ce.sz_stress_profile.u_La[...,1]"
   ]
  },
  {
   "cell_type": "code",
   "execution_count": 18,
   "metadata": {
    "pycharm": {
     "name": "#%%\n"
    }
   },
   "outputs": [
    {
     "data": {
      "text/plain": [
       "array([[1161.        ,    0.        ],\n",
       "       [1161.        ,    3.57142857],\n",
       "       [1161.        ,    7.14285714],\n",
       "       [1161.        ,   10.71428571],\n",
       "       [1161.        ,   14.28571429],\n",
       "       [1161.        ,   17.85714286],\n",
       "       [1161.        ,   21.42857143],\n",
       "       [1161.        ,   25.        ],\n",
       "       [1161.        ,   28.57142857],\n",
       "       [1161.        ,   32.14285714],\n",
       "       [1161.        ,   35.71428571],\n",
       "       [1161.        ,   39.28571429],\n",
       "       [1161.        ,   42.85714286],\n",
       "       [1161.        ,   46.42857143],\n",
       "       [1161.        ,   50.        ],\n",
       "       [1161.        ,   54.36507937],\n",
       "       [1161.        ,   58.73015873],\n",
       "       [1161.        ,   63.0952381 ],\n",
       "       [1161.        ,   67.46031746],\n",
       "       [1161.        ,   71.82539683],\n",
       "       [1161.        ,   76.19047619],\n",
       "       [1161.        ,   80.55555556],\n",
       "       [1161.        ,   84.92063492],\n",
       "       [1161.        ,   89.28571429],\n",
       "       [1161.        ,   93.65079365],\n",
       "       [1161.        ,   98.01587302],\n",
       "       [1161.        ,  102.38095238],\n",
       "       [1161.        ,  106.74603175],\n",
       "       [1161.        ,  111.11111111],\n",
       "       [1161.        ,  115.47619048],\n",
       "       [1161.        ,  119.84126984],\n",
       "       [1161.        ,  124.20634921],\n",
       "       [1161.        ,  128.57142857],\n",
       "       [1161.        ,  132.93650794],\n",
       "       [1161.        ,  137.3015873 ],\n",
       "       [1161.        ,  141.66666667],\n",
       "       [1161.        ,  146.03174603],\n",
       "       [1161.        ,  150.3968254 ],\n",
       "       [1161.        ,  154.76190476],\n",
       "       [1161.        ,  159.12698413],\n",
       "       [1161.        ,  163.49206349],\n",
       "       [1161.        ,  167.85714286],\n",
       "       [1161.        ,  172.22222222],\n",
       "       [1161.        ,  176.58730159],\n",
       "       [1161.        ,  180.95238095],\n",
       "       [1161.        ,  185.31746032],\n",
       "       [1161.        ,  189.68253968],\n",
       "       [1161.        ,  194.04761905],\n",
       "       [1161.        ,  198.41269841],\n",
       "       [1161.        ,  202.77777778],\n",
       "       [1161.        ,  207.14285714],\n",
       "       [1161.        ,  211.50793651],\n",
       "       [1161.        ,  215.87301587],\n",
       "       [1161.        ,  220.23809524],\n",
       "       [1161.        ,  224.6031746 ],\n",
       "       [1161.        ,  228.96825397],\n",
       "       [1161.        ,  233.33333333],\n",
       "       [1161.        ,  237.6984127 ],\n",
       "       [1161.        ,  242.06349206],\n",
       "       [1161.        ,  246.42857143],\n",
       "       [1161.        ,  250.79365079],\n",
       "       [1161.        ,  255.15873016],\n",
       "       [1161.        ,  259.52380952],\n",
       "       [1161.        ,  263.88888889],\n",
       "       [1161.        ,  268.25396825],\n",
       "       [1161.        ,  272.61904762],\n",
       "       [1161.        ,  276.98412698],\n",
       "       [1161.        ,  281.34920635],\n",
       "       [1161.        ,  285.71428571],\n",
       "       [1161.        ,  290.07936508],\n",
       "       [1161.        ,  294.44444444],\n",
       "       [1161.        ,  298.80952381],\n",
       "       [1161.        ,  303.17460317],\n",
       "       [1161.        ,  307.53968254],\n",
       "       [1161.        ,  311.9047619 ],\n",
       "       [1161.        ,  316.26984127],\n",
       "       [1161.        ,  320.63492063],\n",
       "       [1161.        ,  325.        ],\n",
       "       [1161.        ,  329.36507937],\n",
       "       [1161.        ,  333.73015873],\n",
       "       [1161.        ,  338.0952381 ],\n",
       "       [1161.        ,  342.46031746],\n",
       "       [1161.        ,  346.82539683],\n",
       "       [1161.        ,  351.19047619],\n",
       "       [1161.        ,  355.55555556],\n",
       "       [1161.        ,  359.92063492],\n",
       "       [1161.        ,  364.28571429],\n",
       "       [1161.        ,  368.65079365],\n",
       "       [1161.        ,  373.01587302],\n",
       "       [1161.        ,  377.38095238],\n",
       "       [1161.        ,  381.74603175],\n",
       "       [1161.        ,  386.11111111],\n",
       "       [1161.        ,  390.47619048],\n",
       "       [1161.        ,  394.84126984],\n",
       "       [1161.        ,  399.20634921],\n",
       "       [1161.        ,  403.57142857],\n",
       "       [1161.        ,  407.93650794],\n",
       "       [1161.        ,  412.3015873 ],\n",
       "       [1161.        ,  416.66666667],\n",
       "       [1161.        ,  421.03174603],\n",
       "       [1161.        ,  425.3968254 ],\n",
       "       [1161.        ,  429.76190476],\n",
       "       [1161.        ,  434.12698413],\n",
       "       [1161.        ,  438.49206349],\n",
       "       [1161.        ,  442.85714286],\n",
       "       [1161.        ,  447.22222222],\n",
       "       [1161.        ,  451.58730159],\n",
       "       [1161.        ,  455.95238095],\n",
       "       [1161.        ,  460.31746032],\n",
       "       [1161.        ,  464.68253968],\n",
       "       [1161.        ,  469.04761905],\n",
       "       [1161.        ,  473.41269841],\n",
       "       [1161.        ,  477.77777778],\n",
       "       [1161.        ,  482.14285714],\n",
       "       [1161.        ,  486.50793651],\n",
       "       [1161.        ,  490.87301587],\n",
       "       [1161.        ,  495.23809524],\n",
       "       [1161.        ,  499.6031746 ],\n",
       "       [1161.        ,  503.96825397],\n",
       "       [1161.        ,  508.33333333],\n",
       "       [1161.        ,  512.6984127 ],\n",
       "       [1161.        ,  517.06349206],\n",
       "       [1161.        ,  521.42857143],\n",
       "       [1161.        ,  525.79365079],\n",
       "       [1161.        ,  530.15873016],\n",
       "       [1161.        ,  534.52380952],\n",
       "       [1161.        ,  538.88888889],\n",
       "       [1161.        ,  543.25396825],\n",
       "       [1161.        ,  547.61904762],\n",
       "       [1161.        ,  551.98412698],\n",
       "       [1161.        ,  556.34920635],\n",
       "       [1161.        ,  560.71428571],\n",
       "       [1161.        ,  565.07936508],\n",
       "       [1161.        ,  569.44444444],\n",
       "       [1161.        ,  573.80952381],\n",
       "       [1161.        ,  578.17460317],\n",
       "       [1161.        ,  582.53968254],\n",
       "       [1161.        ,  586.9047619 ],\n",
       "       [1161.        ,  591.26984127],\n",
       "       [1161.        ,  595.63492063],\n",
       "       [1161.        ,  600.        ]])"
      ]
     },
     "execution_count": 18,
     "metadata": {},
     "output_type": "execute_result"
    }
   ],
   "source": [
    "ce.sz_cp.x_Ka"
   ]
  },
  {
   "cell_type": "code",
   "execution_count": 19,
   "metadata": {
    "pycharm": {
     "name": "#%%\n"
    }
   },
   "outputs": [
    {
     "data": {
      "text/plain": [
       "array([ 3.85459969e-06,  3.80843682e-06,  3.76227398e-06,  3.71611111e-06,\n",
       "        3.66994821e-06,  3.62378534e-06,  3.57762247e-06,  3.53145960e-06,\n",
       "        3.48529674e-06,  3.43913387e-06,  3.39297100e-06,  3.34680810e-06,\n",
       "        3.30064523e-06,  3.25448238e-06,  3.20319030e-06,  3.14676902e-06,\n",
       "        3.09034774e-06,  3.03392646e-06,  2.97750516e-06,  2.92108388e-06,\n",
       "        2.86466259e-06,  2.80824130e-06,  2.75182002e-06,  2.69539873e-06,\n",
       "        2.63897745e-06,  2.58255616e-06,  2.52613486e-06,  2.46971358e-06,\n",
       "        2.41329229e-06,  2.35687101e-06,  2.30044972e-06,  2.24402844e-06,\n",
       "        2.18760715e-06,  2.13118587e-06,  2.07476458e-06,  2.01834330e-06,\n",
       "        1.96192201e-06,  1.90550072e-06,  1.84907944e-06,  1.79265815e-06,\n",
       "        1.73623687e-06,  1.67981557e-06,  1.62339428e-06,  1.56697301e-06,\n",
       "        1.51055173e-06,  1.45413043e-06,  1.39770914e-06,  1.34128786e-06,\n",
       "        1.28486657e-06,  1.22844529e-06,  1.17202399e-06,  1.11560270e-06,\n",
       "        1.05918143e-06,  1.00276014e-06,  9.46338844e-07,  8.89917558e-07,\n",
       "        8.33496287e-07,  7.77075002e-07,  7.20653702e-07,  6.64232417e-07,\n",
       "        6.07811131e-07,  5.51389846e-07,  4.94968560e-07,  4.38547261e-07,\n",
       "        3.82125990e-07,  3.25704718e-07,  2.69283419e-07,  2.12862119e-07,\n",
       "        1.56440819e-07,  1.00019548e-07,  4.35982770e-08, -1.28230226e-08,\n",
       "       -6.92443223e-08, -1.25665593e-07, -1.82086865e-07, -2.38508164e-07,\n",
       "       -2.94929464e-07, -3.51350735e-07, -4.07772006e-07, -4.64193306e-07,\n",
       "       -5.20614606e-07, -5.77035877e-07, -6.33457148e-07, -6.89878448e-07,\n",
       "       -7.46299747e-07, -8.02721047e-07, -8.59142318e-07, -9.15563589e-07,\n",
       "       -9.71984889e-07, -1.02840619e-06, -1.08482749e-06, -1.14124876e-06,\n",
       "       -1.19767003e-06, -1.25409133e-06, -1.31051260e-06, -1.36693387e-06,\n",
       "       -1.42335517e-06, -1.47977647e-06, -1.53619777e-06, -1.59261904e-06,\n",
       "       -1.64904031e-06, -1.70546161e-06, -1.76188288e-06, -1.81830416e-06,\n",
       "       -1.87472546e-06, -1.93114676e-06, -1.98756806e-06, -2.04398935e-06,\n",
       "       -2.10041065e-06, -2.15683193e-06, -2.21325320e-06, -2.26967447e-06,\n",
       "       -2.32609577e-06, -2.38251707e-06, -2.43893834e-06, -2.49535964e-06,\n",
       "       -2.55178091e-06, -2.60820218e-06, -2.66462348e-06, -2.72104475e-06,\n",
       "       -2.77746602e-06, -2.83388732e-06, -2.89030862e-06, -2.94672992e-06,\n",
       "       -3.00315122e-06, -3.05957252e-06, -3.11599382e-06, -3.17241506e-06,\n",
       "       -3.22883631e-06, -3.28525761e-06, -3.34167891e-06, -3.39810020e-06,\n",
       "       -3.45452150e-06, -3.51094275e-06, -3.56736405e-06, -3.62378540e-06,\n",
       "       -3.68020670e-06, -3.73662800e-06, -3.79304925e-06, -3.84947049e-06])"
      ]
     },
     "execution_count": 19,
     "metadata": {},
     "output_type": "execute_result"
    }
   ],
   "source": [
    "ce.sz_stress_profile.u_La[...,1]"
   ]
  },
  {
   "cell_type": "code",
   "execution_count": 20,
   "metadata": {
    "pycharm": {
     "name": "#%%\n"
    }
   },
   "outputs": [
    {
     "ename": "AttributeError",
     "evalue": "'SZStressProfile' object has no attribute 'normalized_def'",
     "output_type": "error",
     "traceback": [
      "\u001B[0;31m---------------------------------------------------------------------------\u001B[0m",
      "\u001B[0;31mAttributeError\u001B[0m                            Traceback (most recent call last)",
      "\u001B[0;32m<ipython-input-20-54ff7f771790>\u001B[0m in \u001B[0;36m<module>\u001B[0;34m\u001B[0m\n\u001B[0;32m----> 1\u001B[0;31m \u001B[0mce\u001B[0m\u001B[0;34m.\u001B[0m\u001B[0msz_stress_profile\u001B[0m\u001B[0;34m.\u001B[0m\u001B[0mnormalized_def\u001B[0m \u001B[0;31m#[...,1]\u001B[0m\u001B[0;34m\u001B[0m\u001B[0;34m\u001B[0m\u001B[0m\n\u001B[0m",
      "\u001B[0;31mAttributeError\u001B[0m: 'SZStressProfile' object has no attribute 'normalized_def'"
     ]
    }
   ],
   "source": [
    "ce.sz_stress_profile.normalized_def #[...,1]"
   ]
  },
  {
   "cell_type": "code",
   "execution_count": 21,
   "metadata": {
    "pycharm": {
     "name": "#%%\n"
    }
   },
   "outputs": [
    {
     "ename": "AttributeError",
     "evalue": "'SZStressProfile' object has no attribute 'tau_exp'",
     "output_type": "error",
     "traceback": [
      "\u001B[0;31m---------------------------------------------------------------------------\u001B[0m",
      "\u001B[0;31mAttributeError\u001B[0m                            Traceback (most recent call last)",
      "\u001B[0;32m<ipython-input-21-f5ba515a9134>\u001B[0m in \u001B[0;36m<module>\u001B[0;34m\u001B[0m\n\u001B[0;32m----> 1\u001B[0;31m \u001B[0mce\u001B[0m\u001B[0;34m.\u001B[0m\u001B[0msz_stress_profile\u001B[0m\u001B[0;34m.\u001B[0m\u001B[0mtau_exp\u001B[0m\u001B[0;34m\u001B[0m\u001B[0;34m\u001B[0m\u001B[0m\n\u001B[0m",
      "\u001B[0;31mAttributeError\u001B[0m: 'SZStressProfile' object has no attribute 'tau_exp'"
     ]
    }
   ],
   "source": [
    "ce.sz_stress_profile.tau_exp"
   ]
  },
  {
   "cell_type": "code",
   "execution_count": null,
   "metadata": {
    "pycharm": {
     "name": "#%%\n"
    }
   },
   "outputs": [],
   "source": [
    "ce.sz_stress_profile.F_Na[...,0]"
   ]
  },
  {
   "cell_type": "code",
   "execution_count": null,
   "metadata": {
    "pycharm": {
     "name": "#%%\n"
    }
   },
   "outputs": [],
   "source": [
    "ce.sz_ctr._get_x_rot_ak()"
   ]
  },
  {
   "cell_type": "code",
   "execution_count": null,
   "metadata": {
    "pycharm": {
     "name": "#%%\n"
    }
   },
   "outputs": [],
   "source": [
    "\n",
    "\n"
   ]
  }
 ],
 "metadata": {
  "kernelspec": {
   "display_name": "Python 3",
   "language": "python",
   "name": "python3"
  },
  "language_info": {
   "codemirror_mode": {
    "name": "ipython",
    "version": 3
   },
   "file_extension": ".py",
   "mimetype": "text/x-python",
   "name": "python",
   "nbconvert_exporter": "python",
   "pygments_lexer": "ipython3",
   "version": "3.9.0"
  },
  "toc": {
   "base_numbering": 1,
   "nav_menu": {},
   "number_sections": true,
   "sideBar": true,
   "skip_h1_title": false,
   "title_cell": "Table of Contents",
   "title_sidebar": "Contents",
   "toc_cell": false,
   "toc_position": {},
   "toc_section_display": true,
   "toc_window_display": false
  }
 },
 "nbformat": 4,
 "nbformat_minor": 1
}