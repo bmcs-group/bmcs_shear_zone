{
 "cells": [
  {
   "cell_type": "markdown",
   "metadata": {
    "pycharm": {
     "name": "#%%\n"
    }
   },
   "source": [
    "# 2D Crack propagation in a bended beam"
   ]
  },
  {
   "cell_type": "markdown",
   "metadata": {},
   "source": [
    " - @todo: Plot the residual value\n",
    " - @todo: State dependencies - recalculate upon material parameter change"
   ]
  },
  {
   "cell_type": "markdown",
   "metadata": {},
   "source": [
    "\\begin{align}\n",
    "\\sigma_\\mathrm{F} = E w / L_\\mathrm{eff}\n",
    "\\end{align}"
   ]
  },
  {
   "cell_type": "code",
   "execution_count": 1,
   "metadata": {},
   "outputs": [
    {
     "data": {
      "text/plain": [
       "<function _lambdifygenerated(Dummy_23, Dummy_24)>"
      ]
     },
     "execution_count": 1,
     "metadata": {},
     "output_type": "execute_result"
    }
   ],
   "source": [
    "import sympy as sp\n",
    "xi = sp.Symbol(r'\\xi')\n",
    "G_f0 = sp.Symbol(r'G_{f0}')\n",
    "a = 1.038\n",
    "b = 0.245\n",
    "G_f = (1 + (a/(1+b/xi)) - (1 + a + b)/(1 + b) * xi**8) #G_f0 * \n",
    "get_G_F = sp.lambdify((xi,G_f0), G_f, 'numpy') \n",
    "get_G_F"
   ]
  },
  {
   "cell_type": "code",
   "execution_count": 2,
   "metadata": {},
   "outputs": [
    {
     "name": "stderr",
     "output_type": "stream",
     "text": [
      "<lambdifygenerated-1>:2: RuntimeWarning: divide by zero encountered in true_divide\n",
      "  return (-1.83373493975904*Dummy_23**8 + 1 + 1.038/(1 + 0.245/Dummy_23))\n",
      "No handles with labels found to put in legend.\n"
     ]
    },
    {
     "data": {
      "image/png": "[encoded data removed]",
      "text/plain": [
       "<Figure size 504x288 with 1 Axes>"
      ]
     },
     "metadata": {
      "needs_background": "light"
     },
     "output_type": "display_data"
    }
   ],
   "source": [
    "import matplotlib.pylab as plt\n",
    "from bmcs_cross_section.api import ReinfLayer\n",
    "import numpy as np\n",
    "_, (ax1) = plt.subplots(1, 1, figsize=(7,4))\n",
    "xi = np.linspace(0,1,100)\n",
    "G_f0 = 86.7\n",
    "G_f = get_G_F(xi, G_f0)\n",
    "ax1.plot(xi, G_f , color = 'blue', lw= 2);\n",
    "ax1.set_xlabel(r'$\\xi$'); ax1.set_ylabel(r'$\\frac{G_f}{G_{f0}}$');\n",
    "ax1.set_title(r'Effect of crack parallel stress on fracture energy')\n",
    "ax1.legend()\n",
    "plt.savefig(\"D:\\Shear zones\\Python plots\\Bazanttest.pdf\")"
   ]
  },
  {
   "cell_type": "code",
   "execution_count": 3,
   "metadata": {
    "pycharm": {
     "name": "#%%\n"
    }
   },
   "outputs": [],
   "source": [
    "# %matplotlib widget\n",
    "# import bmcs_utils.api as bu\n",
    "# from bmcs_shear.shear_crack.crack_propagation import CrackPropagation\n",
    "# ce = CrackPropagation(n_seg=5)\n",
    "# ce.sz_bd.cmm.trait_set(tau_1 = 4, s_1 = 0.2, tau_2 = 3, tau_3 = 2, s_2 = 1.4, s_3 = 5)\n",
    "# ce.sz_bd.cmm.trait_set(f_c = 33.3, f_t = 0.3 * 33.3 **(2/3), d_a = 16)\n",
    "# ce.sz_bd.Rectangle = True\n",
    "# ce.sz_bd.trait_set(H=600, B=250, L=3870)\n",
    "# ce.sz_cp.trait_set(x_00=ce.sz_bd.L * 0.5, n_m = 15)\n",
    "# ce.sz_cp.sz_ctr.trait_set(ell = 2)\n",
    "# ce.sz_bd.cross_section_layout.reinforcement.z_j[0] = 44\n",
    "# ce.sz_bd.cross_section_layout.reinforcement.A_j[0] = 615.44 #2 no 28\n",
    "# ce.sz_bd.cross_section_layout.reinforcement.E_j[0] = 210000 / 100"
   ]
  },
  {
   "cell_type": "code",
   "execution_count": 4,
   "metadata": {},
   "outputs": [
    {
     "data": {
      "text/plain": [
       "<bmcs_shear.shear_crack.beam_design.RCBeamDesign at 0x21ca3156a40>"
      ]
     },
     "execution_count": 4,
     "metadata": {},
     "output_type": "execute_result"
    }
   ],
   "source": [
    "%matplotlib widget\n",
    "import numpy as np\n",
    "import bmcs_utils.api as bu\n",
    "from bmcs_shear.shear_crack.crack_propagation import CrackPropagation\n",
    "ce = CrackPropagation(n_seg=202)\n",
    "#ce.sz_bd.cmm.trait_set(tau_1 = 4, s_1 = 0.2, tau_2 = 3, tau_3 = 2, s_2 = 1.4, s_3 = 5)\n",
    "#ce.sz_bd.cmm.trait_set(f_c = 33.3, f_t = 0.3 * 33.3 **(2/3), d_a = 16)\n",
    "ce.sz_bd.Rectangle = True\n",
    "ce.sz_bd.trait_set(H=600, B=250, L=3850)\n",
    "ce.sz_cp.trait_set(x_00=ce.sz_bd.L * 0.1, n_m = 4)\n",
    "ce.sz_cp.sz_ctr.L_fps = 80\n",
    "ce.sz_cp.sz_ctr.trait_set(ell = 2)\n",
    "\n",
    "bl1 = ReinfLayer(name='layer1', z=44, A=ce.sz_bd.smm.A_f, matmod='steel')\n",
    "bl1.matmod_.trait_set(E=ce.sz_bd.smm.E_f, f_t=ce.sz_bd.smm.sig_y)\n",
    "ce.sz_bd.cross_section_layout.add_layer(bl1)\n",
    "ce.sz_bd\n",
    "#F_La, F_Na, F_m, Q_reduce, c_p = ce.analyze() \n",
    "#print(F_La, F_Na, c_p)"
   ]
  },
  {
   "cell_type": "code",
   "execution_count": 5,
   "metadata": {
    "pycharm": {
     "name": "#%%\n"
    },
    "scrolled": false
   },
   "outputs": [
    {
     "name": "stderr",
     "output_type": "stream",
     "text": [
      "<lambdifygenerated-27>:2: RuntimeWarning: invalid value encountered in sqrt\n",
      "  return (select([less_equal(w, 0),True], [0,0.25*f_c*s*(-sqrt(2)*sqrt(w/d_a) + 1)*((2.44 - 39.04/f_c)*abs(s/w)**3 + 9.8/f_c)/(w*(s**4*(2.44 - 39.04/f_c)/w**4 + 1))], default=nan))\n"
     ]
    },
    {
     "data": {
      "application/vnd.jupyter.widget-view+json": {
       "model_id": "7f7f68172ae642deb9757cc6731faf9c",
       "version_major": 2,
       "version_minor": 0
      },
      "text/plain": [
       "VBox(children=(HBox(children=(VBox(children=(Tree(layout=Layout(align_items='stretch', border='solid 1px black…"
      ]
     },
     "metadata": {},
     "output_type": "display_data"
    }
   ],
   "source": [
    "# bu.InteractiveWindow([ce, ce.sz_bd, ce.sz_bd.cross_section_layout, \n",
    "#                       ce.sz_stress_profile, \n",
    "#                       ce.sz_bd.cmm, ce.sz_bd.smm, ce.sz_cp, ce.sz_cp.sz_ctr]).interact()\n",
    "ce.interact()"
   ]
  },
  {
   "cell_type": "code",
   "execution_count": 6,
   "metadata": {
    "scrolled": false
   },
   "outputs": [
    {
     "name": "stderr",
     "output_type": "stream",
     "text": [
      "<lambdifygenerated-36>:2: RuntimeWarning: invalid value encountered in sqrt\n",
      "  return (select([less_equal(w, 0),True], [0,0.25*f_c*s*(-sqrt(2)*sqrt(w/d_a) + 1)*((2.44 - 39.04/f_c)*abs(s/w)**3 + 9.8/f_c)/(w*(s**4*(2.44 - 39.04/f_c)/w**4 + 1))], default=nan))\n",
      "<lambdifygenerated-38>:2: RuntimeWarning: invalid value encountered in sqrt\n",
      "  return (select([less(w, (1/2)*A_f*Dummy_181**2/(Dummy_182*Dummy_183*p)),True], [sqrt(2)*sqrt(A_f)*sqrt(Dummy_182)*sqrt(Dummy_183)*sqrt(p)*sqrt(w),A_f*Dummy_181], default=nan))\n",
      "<lambdifygenerated-35>:2: RuntimeWarning: overflow encountered in exp\n",
      "  return (select([less(f_c, -35.7142857142857*d_a**(-0.32)*f_c**(-0.18)*f_t**2*w),less_equal(w, 0.028*d_a**0.32*f_c**0.18/f_t),True], [-f_c,35.7142857142857*d_a**(-0.32)*f_c**(-0.18)*f_t**2*w,f_t*exp(-35.7142857142857*d_a**(-0.32)*f_c**(-0.18)*f_t*(-0.028*d_a**0.32*f_c**0.18/f_t + w))], default=nan))\n"
     ]
    },
    {
     "name": "stdout",
     "output_type": "stream",
     "text": [
      "**************\n",
      "385.0\n",
      "132.91390211146467\n"
     ]
    },
    {
     "name": "stderr",
     "output_type": "stream",
     "text": [
      "<lambdifygenerated-35>:2: RuntimeWarning: overflow encountered in multiply\n",
      "  return (select([less(f_c, -35.7142857142857*d_a**(-0.32)*f_c**(-0.18)*f_t**2*w),less_equal(w, 0.028*d_a**0.32*f_c**0.18/f_t),True], [-f_c,35.7142857142857*d_a**(-0.32)*f_c**(-0.18)*f_t**2*w,f_t*exp(-35.7142857142857*d_a**(-0.32)*f_c**(-0.18)*f_t*(-0.028*d_a**0.32*f_c**0.18/f_t + w))], default=nan))\n"
     ]
    },
    {
     "name": "stdout",
     "output_type": "stream",
     "text": [
      "**************\n",
      "770.0\n",
      "133.34605053757574\n",
      "**************\n",
      "1155.0\n",
      "143.10746925716086\n",
      "**************\n",
      "1540.0\n",
      "171.25537496511004\n",
      "**************\n",
      "1925.0\n",
      "192.963337977149\n",
      "**************\n",
      "2310.0\n",
      "209.0496715922672\n",
      "**************\n",
      "2695.0\n",
      "246.6655761381657\n",
      "**************\n",
      "3080.0\n",
      "321.3263740119654\n",
      "**************\n",
      "3465.0\n",
      "523.6543558123033\n"
     ]
    }
   ],
   "source": [
    "import numpy as np\n",
    "import matplotlib.pylab as plt\n",
    "from bmcs_shear.shear_crack.crack_propagation import CrackPropagation\n",
    "n = 198\n",
    "ce = CrackPropagation(n_seg=n)\n",
    "ce.sz_bd.Rectangle = True\n",
    "ce.sz_bd.trait_set(H=600, B=250, L=3850)\n",
    "crack_positions = np.linspace(0.1 * ce.sz_bd.L, 0.9 * ce.sz_bd.L, 9)\n",
    "ce.sz_cp.sz_ctr.L_fps = 80\n",
    "ce.sz_cp.sz_ctr.trait_set(ell = 2)\n",
    "bl1 = ReinfLayer(name='layer1', z=44, A=ce.sz_bd.smm.A_f, matmod='steel')\n",
    "bl1.matmod_.trait_set(E=ce.sz_bd.smm.E_f, f_t=ce.sz_bd.smm.sig_y)\n",
    "ce.sz_bd.cross_section_layout.add_layer(bl1)\n",
    "ce.sz_bd\n",
    "F_beam = []\n",
    "v_beam = []\n",
    "for crack_position in crack_positions:\n",
    "    ce.reset()\n",
    "    ce.sz_cp.trait_set(x_00=crack_position)\n",
    "    ce.run()\n",
    "    F_beam_ = np.array(ce.F_beam) / 1000\n",
    "    v_beam_ = np.array(ce.v_n)\n",
    "    #F_beam_col = F_beam_[np.newaxis, :]\n",
    "    #v_beam_col = v_beam_[np.newaxis, :]\n",
    "    #F_beam = np.vstack(F_beam_[:, np.newaxis])\n",
    "    #v_beam = np.vstack(v_beam_[:, np.newaxis])\n",
    "    F_beam.append(F_beam_)\n",
    "    v_beam.append(v_beam_)\n",
    "    #_, ax1 = plt.subplots(1, 1, figsize=(11,4))\n",
    "    #ax1.plot(v_beam,  F_beam, color = 'blue', lw= 2, label = r'$F$'); #/1000#\n",
    "    #ax1.set_xlabel(r'$\\mathrm{Deflection\\,(mm)}$'); ax1.set_ylabel(r'$F\\,(kN)$');\n",
    "    #ax1.set_title(r'Load Deflection')\n",
    "    print('**************')\n",
    "    print(crack_position)\n",
    "    print(np.max(F_beam))\n",
    "    #print(F_beam)\n",
    "# for crack_position in crack_positions:\n",
    "#     ce.reset()\n",
    "#     ce.sz_cp.trait_set(x_00=crack_position)\n",
    "#     ce.sz_cp.sz_ctr.L_fps = 80\n",
    "#     ce.run()\n",
    "#     F_beam_ = ce.F_beam\n",
    "#     v_beam_ = ce.v_n\n",
    "#F_beam.append(F_beam_)\n",
    "#v_beam.append(v_beam_)\n"
   ]
  },
  {
   "cell_type": "code",
   "execution_count": 7,
   "metadata": {},
   "outputs": [
    {
     "data": {
      "application/vnd.jupyter.widget-view+json": {
       "model_id": "a0f20d7a9cdc4a3c9b1ba0f2cb05819b",
       "version_major": 2,
       "version_minor": 0
      },
      "text/plain": [
       "Canvas(toolbar=Toolbar(toolitems=[('Home', 'Reset original view', 'home', 'home'), ('Back', 'Back to previous …"
      ]
     },
     "metadata": {},
     "output_type": "display_data"
    },
    {
     "data": {
      "text/plain": [
       "<matplotlib.legend.Legend at 0x21ca4c56f10>"
      ]
     },
     "execution_count": 7,
     "metadata": {},
     "output_type": "execute_result"
    }
   ],
   "source": [
    "import matplotlib.pylab as plt\n",
    "_, ax1 = plt.subplots(1, 1, figsize=(11,4))\n",
    "ax1.plot(v_beam[0],  F_beam[0], lw= 2, label = r'$0.1L$'); #/1000#\n",
    "ax1.plot(v_beam[1],  F_beam[1], lw= 2, label = r'$0.2L$');\n",
    "ax1.plot(v_beam[2],  F_beam[2], lw= 2, label = r'$0.3L$');\n",
    "ax1.plot(v_beam[3],  F_beam[3], lw= 2, label = r'$0.4L$');\n",
    "ax1.plot(v_beam[4],  F_beam[4], lw= 2, label = r'$0.5L$');\n",
    "ax1.plot(v_beam[5],  F_beam[5], lw= 2, label = r'$0.6L$');\n",
    "ax1.plot(v_beam[6],  F_beam[6], lw= 2, label = r'$0.7L$');\n",
    "ax1.plot(v_beam[7],  F_beam[7], lw= 2, label = r'$0.8L$');\n",
    "ax1.plot(v_beam[8],  F_beam[8], lw= 2, label = r'$0.9L$');\n",
    "ax1.set_xlabel(r'$\\mathrm{Deflection\\,(mm)}$'); ax1.set_ylabel(r'$F\\,(kN)$');\n",
    "ax1.set_title(r'Load Deflection')\n",
    "ax1.legend()"
   ]
  },
  {
   "cell_type": "code",
   "execution_count": 8,
   "metadata": {
    "scrolled": false
   },
   "outputs": [
    {
     "data": {
      "application/vnd.jupyter.widget-view+json": {
       "model_id": "88926091f86d4c2ab85e197454841c8f",
       "version_major": 2,
       "version_minor": 0
      },
      "text/plain": [
       "Canvas(toolbar=Toolbar(toolitems=[('Home', 'Reset original view', 'home', 'home'), ('Back', 'Back to previous …"
      ]
     },
     "metadata": {},
     "output_type": "display_data"
    },
    {
     "name": "stderr",
     "output_type": "stream",
     "text": [
      "<lambdifygenerated-44>:2: RuntimeWarning: invalid value encountered in sqrt\n",
      "  return (select([less_equal(w, 0),True], [0,0.25*f_c*s*(-sqrt(2)*sqrt(w/d_a) + 1)*((2.44 - 39.04/f_c)*abs(s/w)**3 + 9.8/f_c)/(w*(s**4*(2.44 - 39.04/f_c)/w**4 + 1))], default=nan))\n",
      "<lambdifygenerated-46>:2: RuntimeWarning: invalid value encountered in sqrt\n",
      "  return (select([less(w, (1/2)*A_f*Dummy_202**2/(Dummy_203*Dummy_204*p)),True], [sqrt(2)*sqrt(A_f)*sqrt(Dummy_203)*sqrt(Dummy_204)*sqrt(p)*sqrt(w),A_f*Dummy_202], default=nan))\n",
      "<lambdifygenerated-43>:2: RuntimeWarning: overflow encountered in exp\n",
      "  return (select([less(f_c, -35.7142857142857*d_a**(-0.32)*f_c**(-0.18)*f_t**2*w),less_equal(w, 0.028*d_a**0.32*f_c**0.18/f_t),True], [-f_c,35.7142857142857*d_a**(-0.32)*f_c**(-0.18)*f_t**2*w,f_t*exp(-35.7142857142857*d_a**(-0.32)*f_c**(-0.18)*f_t*(-0.028*d_a**0.32*f_c**0.18/f_t + w))], default=nan))\n",
      "<lambdifygenerated-44>:2: RuntimeWarning: invalid value encountered in sqrt\n",
      "  return (select([less_equal(w, 0),True], [0,0.25*f_c*s*(-sqrt(2)*sqrt(w/d_a) + 1)*((2.44 - 39.04/f_c)*abs(s/w)**3 + 9.8/f_c)/(w*(s**4*(2.44 - 39.04/f_c)/w**4 + 1))], default=nan))\n",
      "<lambdifygenerated-43>:2: RuntimeWarning: overflow encountered in exp\n",
      "  return (select([less(f_c, -35.7142857142857*d_a**(-0.32)*f_c**(-0.18)*f_t**2*w),less_equal(w, 0.028*d_a**0.32*f_c**0.18/f_t),True], [-f_c,35.7142857142857*d_a**(-0.32)*f_c**(-0.18)*f_t**2*w,f_t*exp(-35.7142857142857*d_a**(-0.32)*f_c**(-0.18)*f_t*(-0.028*d_a**0.32*f_c**0.18/f_t + w))], default=nan))\n",
      "<lambdifygenerated-46>:2: RuntimeWarning: invalid value encountered in sqrt\n",
      "  return (select([less(w, (1/2)*A_f*Dummy_202**2/(Dummy_203*Dummy_204*p)),True], [sqrt(2)*sqrt(A_f)*sqrt(Dummy_203)*sqrt(Dummy_204)*sqrt(p)*sqrt(w),A_f*Dummy_202], default=nan))\n",
      "<lambdifygenerated-43>:2: RuntimeWarning: overflow encountered in multiply\n",
      "  return (select([less(f_c, -35.7142857142857*d_a**(-0.32)*f_c**(-0.18)*f_t**2*w),less_equal(w, 0.028*d_a**0.32*f_c**0.18/f_t),True], [-f_c,35.7142857142857*d_a**(-0.32)*f_c**(-0.18)*f_t**2*w,f_t*exp(-35.7142857142857*d_a**(-0.32)*f_c**(-0.18)*f_t*(-0.028*d_a**0.32*f_c**0.18/f_t + w))], default=nan))\n",
      "<lambdifygenerated-44>:2: RuntimeWarning: invalid value encountered in sqrt\n",
      "  return (select([less_equal(w, 0),True], [0,0.25*f_c*s*(-sqrt(2)*sqrt(w/d_a) + 1)*((2.44 - 39.04/f_c)*abs(s/w)**3 + 9.8/f_c)/(w*(s**4*(2.44 - 39.04/f_c)/w**4 + 1))], default=nan))\n",
      "<lambdifygenerated-43>:2: RuntimeWarning: overflow encountered in exp\n",
      "  return (select([less(f_c, -35.7142857142857*d_a**(-0.32)*f_c**(-0.18)*f_t**2*w),less_equal(w, 0.028*d_a**0.32*f_c**0.18/f_t),True], [-f_c,35.7142857142857*d_a**(-0.32)*f_c**(-0.18)*f_t**2*w,f_t*exp(-35.7142857142857*d_a**(-0.32)*f_c**(-0.18)*f_t*(-0.028*d_a**0.32*f_c**0.18/f_t + w))], default=nan))\n",
      "<lambdifygenerated-46>:2: RuntimeWarning: invalid value encountered in sqrt\n",
      "  return (select([less(w, (1/2)*A_f*Dummy_202**2/(Dummy_203*Dummy_204*p)),True], [sqrt(2)*sqrt(A_f)*sqrt(Dummy_203)*sqrt(Dummy_204)*sqrt(p)*sqrt(w),A_f*Dummy_202], default=nan))\n",
      "<lambdifygenerated-44>:2: RuntimeWarning: invalid value encountered in sqrt\n",
      "  return (select([less_equal(w, 0),True], [0,0.25*f_c*s*(-sqrt(2)*sqrt(w/d_a) + 1)*((2.44 - 39.04/f_c)*abs(s/w)**3 + 9.8/f_c)/(w*(s**4*(2.44 - 39.04/f_c)/w**4 + 1))], default=nan))\n",
      "<lambdifygenerated-43>:2: RuntimeWarning: overflow encountered in exp\n",
      "  return (select([less(f_c, -35.7142857142857*d_a**(-0.32)*f_c**(-0.18)*f_t**2*w),less_equal(w, 0.028*d_a**0.32*f_c**0.18/f_t),True], [-f_c,35.7142857142857*d_a**(-0.32)*f_c**(-0.18)*f_t**2*w,f_t*exp(-35.7142857142857*d_a**(-0.32)*f_c**(-0.18)*f_t*(-0.028*d_a**0.32*f_c**0.18/f_t + w))], default=nan))\n",
      "<lambdifygenerated-46>:2: RuntimeWarning: invalid value encountered in sqrt\n",
      "  return (select([less(w, (1/2)*A_f*Dummy_202**2/(Dummy_203*Dummy_204*p)),True], [sqrt(2)*sqrt(A_f)*sqrt(Dummy_203)*sqrt(Dummy_204)*sqrt(p)*sqrt(w),A_f*Dummy_202], default=nan))\n",
      "<lambdifygenerated-44>:2: RuntimeWarning: invalid value encountered in sqrt\n",
      "  return (select([less_equal(w, 0),True], [0,0.25*f_c*s*(-sqrt(2)*sqrt(w/d_a) + 1)*((2.44 - 39.04/f_c)*abs(s/w)**3 + 9.8/f_c)/(w*(s**4*(2.44 - 39.04/f_c)/w**4 + 1))], default=nan))\n",
      "<lambdifygenerated-43>:2: RuntimeWarning: overflow encountered in exp\n",
      "  return (select([less(f_c, -35.7142857142857*d_a**(-0.32)*f_c**(-0.18)*f_t**2*w),less_equal(w, 0.028*d_a**0.32*f_c**0.18/f_t),True], [-f_c,35.7142857142857*d_a**(-0.32)*f_c**(-0.18)*f_t**2*w,f_t*exp(-35.7142857142857*d_a**(-0.32)*f_c**(-0.18)*f_t*(-0.028*d_a**0.32*f_c**0.18/f_t + w))], default=nan))\n",
      "<lambdifygenerated-46>:2: RuntimeWarning: invalid value encountered in sqrt\n",
      "  return (select([less(w, (1/2)*A_f*Dummy_202**2/(Dummy_203*Dummy_204*p)),True], [sqrt(2)*sqrt(A_f)*sqrt(Dummy_203)*sqrt(Dummy_204)*sqrt(p)*sqrt(w),A_f*Dummy_202], default=nan))\n",
      "<lambdifygenerated-44>:2: RuntimeWarning: invalid value encountered in sqrt\n",
      "  return (select([less_equal(w, 0),True], [0,0.25*f_c*s*(-sqrt(2)*sqrt(w/d_a) + 1)*((2.44 - 39.04/f_c)*abs(s/w)**3 + 9.8/f_c)/(w*(s**4*(2.44 - 39.04/f_c)/w**4 + 1))], default=nan))\n",
      "<lambdifygenerated-43>:2: RuntimeWarning: overflow encountered in exp\n",
      "  return (select([less(f_c, -35.7142857142857*d_a**(-0.32)*f_c**(-0.18)*f_t**2*w),less_equal(w, 0.028*d_a**0.32*f_c**0.18/f_t),True], [-f_c,35.7142857142857*d_a**(-0.32)*f_c**(-0.18)*f_t**2*w,f_t*exp(-35.7142857142857*d_a**(-0.32)*f_c**(-0.18)*f_t*(-0.028*d_a**0.32*f_c**0.18/f_t + w))], default=nan))\n",
      "<lambdifygenerated-46>:2: RuntimeWarning: invalid value encountered in sqrt\n",
      "  return (select([less(w, (1/2)*A_f*Dummy_202**2/(Dummy_203*Dummy_204*p)),True], [sqrt(2)*sqrt(A_f)*sqrt(Dummy_203)*sqrt(Dummy_204)*sqrt(p)*sqrt(w),A_f*Dummy_202], default=nan))\n",
      "<lambdifygenerated-43>:2: RuntimeWarning: overflow encountered in multiply\n",
      "  return (select([less(f_c, -35.7142857142857*d_a**(-0.32)*f_c**(-0.18)*f_t**2*w),less_equal(w, 0.028*d_a**0.32*f_c**0.18/f_t),True], [-f_c,35.7142857142857*d_a**(-0.32)*f_c**(-0.18)*f_t**2*w,f_t*exp(-35.7142857142857*d_a**(-0.32)*f_c**(-0.18)*f_t*(-0.028*d_a**0.32*f_c**0.18/f_t + w))], default=nan))\n",
      "<lambdifygenerated-44>:2: RuntimeWarning: invalid value encountered in sqrt\n",
      "  return (select([less_equal(w, 0),True], [0,0.25*f_c*s*(-sqrt(2)*sqrt(w/d_a) + 1)*((2.44 - 39.04/f_c)*abs(s/w)**3 + 9.8/f_c)/(w*(s**4*(2.44 - 39.04/f_c)/w**4 + 1))], default=nan))\n",
      "<lambdifygenerated-43>:2: RuntimeWarning: overflow encountered in exp\n",
      "  return (select([less(f_c, -35.7142857142857*d_a**(-0.32)*f_c**(-0.18)*f_t**2*w),less_equal(w, 0.028*d_a**0.32*f_c**0.18/f_t),True], [-f_c,35.7142857142857*d_a**(-0.32)*f_c**(-0.18)*f_t**2*w,f_t*exp(-35.7142857142857*d_a**(-0.32)*f_c**(-0.18)*f_t*(-0.028*d_a**0.32*f_c**0.18/f_t + w))], default=nan))\n",
      "<lambdifygenerated-46>:2: RuntimeWarning: invalid value encountered in sqrt\n",
      "  return (select([less(w, (1/2)*A_f*Dummy_202**2/(Dummy_203*Dummy_204*p)),True], [sqrt(2)*sqrt(A_f)*sqrt(Dummy_203)*sqrt(Dummy_204)*sqrt(p)*sqrt(w),A_f*Dummy_202], default=nan))\n",
      "<lambdifygenerated-43>:2: RuntimeWarning: overflow encountered in multiply\n",
      "  return (select([less(f_c, -35.7142857142857*d_a**(-0.32)*f_c**(-0.18)*f_t**2*w),less_equal(w, 0.028*d_a**0.32*f_c**0.18/f_t),True], [-f_c,35.7142857142857*d_a**(-0.32)*f_c**(-0.18)*f_t**2*w,f_t*exp(-35.7142857142857*d_a**(-0.32)*f_c**(-0.18)*f_t*(-0.028*d_a**0.32*f_c**0.18/f_t + w))], default=nan))\n",
      "<lambdifygenerated-44>:2: RuntimeWarning: invalid value encountered in sqrt\n",
      "  return (select([less_equal(w, 0),True], [0,0.25*f_c*s*(-sqrt(2)*sqrt(w/d_a) + 1)*((2.44 - 39.04/f_c)*abs(s/w)**3 + 9.8/f_c)/(w*(s**4*(2.44 - 39.04/f_c)/w**4 + 1))], default=nan))\n",
      "<lambdifygenerated-43>:2: RuntimeWarning: overflow encountered in exp\n",
      "  return (select([less(f_c, -35.7142857142857*d_a**(-0.32)*f_c**(-0.18)*f_t**2*w),less_equal(w, 0.028*d_a**0.32*f_c**0.18/f_t),True], [-f_c,35.7142857142857*d_a**(-0.32)*f_c**(-0.18)*f_t**2*w,f_t*exp(-35.7142857142857*d_a**(-0.32)*f_c**(-0.18)*f_t*(-0.028*d_a**0.32*f_c**0.18/f_t + w))], default=nan))\n",
      "<lambdifygenerated-46>:2: RuntimeWarning: invalid value encountered in sqrt\n",
      "  return (select([less(w, (1/2)*A_f*Dummy_202**2/(Dummy_203*Dummy_204*p)),True], [sqrt(2)*sqrt(A_f)*sqrt(Dummy_203)*sqrt(Dummy_204)*sqrt(p)*sqrt(w),A_f*Dummy_202], default=nan))\n"
     ]
    },
    {
     "name": "stderr",
     "output_type": "stream",
     "text": [
      "<lambdifygenerated-44>:2: RuntimeWarning: invalid value encountered in sqrt\n",
      "  return (select([less_equal(w, 0),True], [0,0.25*f_c*s*(-sqrt(2)*sqrt(w/d_a) + 1)*((2.44 - 39.04/f_c)*abs(s/w)**3 + 9.8/f_c)/(w*(s**4*(2.44 - 39.04/f_c)/w**4 + 1))], default=nan))\n"
     ]
    }
   ],
   "source": [
    "fig, ax = plt.subplots(1,1, figsize = (10, 4))\n",
    "n = 198\n",
    "ce = CrackPropagation(n_seg=n)\n",
    "ce.sz_bd.Rectangle = True\n",
    "ce.sz_bd.trait_set(H=600, B=250, L=3850)\n",
    "crack_positions = np.linspace(0.1 * ce.sz_bd.L, 0.9 * ce.sz_bd.L, 9)\n",
    "ce.sz_cp.sz_ctr.L_fps = 80\n",
    "ce.sz_cp.sz_ctr.trait_set(ell = 2)\n",
    "bl1 = ReinfLayer(name='layer1', z=44, A=ce.sz_bd.smm.A_f, matmod='steel')\n",
    "bl1.matmod_.trait_set(E=ce.sz_bd.smm.E_f, f_t=ce.sz_bd.smm.sig_y)\n",
    "ce.sz_bd.cross_section_layout.add_layer(bl1)\n",
    "ce.sz_bd\n",
    "x_Ia = []\n",
    "for crack_position in crack_positions:\n",
    "    ce.reset()\n",
    "    ce.sz_cp.trait_set(x_00=crack_position)\n",
    "    ce.run()\n",
    "    sz_cp =ce.sz_cp\n",
    "    x_n_a =sz_cp.x_t_Ia[0,:]\n",
    "    x_Ia = sz_cp.x_t_Ia\n",
    "    ds = ce.crack_tip_orientation.crack_tip_shear_stress.sz_stress_profile.ds\n",
    "    ce.sz_cp.plot_sz0(ax)\n",
    "    ds.plot_sz1(ax)\n",
    "    #print(x_Ia)"
   ]
  },
  {
   "cell_type": "code",
   "execution_count": 9,
   "metadata": {},
   "outputs": [
    {
     "data": {
      "application/vnd.jupyter.widget-view+json": {
       "model_id": "f2cef629f1e847e08e5bad40fddd6589",
       "version_major": 2,
       "version_minor": 0
      },
      "text/plain": [
       "Canvas(toolbar=Toolbar(toolitems=[('Home', 'Reset original view', 'home', 'home'), ('Back', 'Back to previous …"
      ]
     },
     "metadata": {},
     "output_type": "display_data"
    },
    {
     "name": "stderr",
     "output_type": "stream",
     "text": [
      "<lambdifygenerated-52>:2: RuntimeWarning: invalid value encountered in sqrt\n",
      "  return (select([less_equal(w, 0),True], [0,0.25*f_c*s*(-sqrt(2)*sqrt(w/d_a) + 1)*((2.44 - 39.04/f_c)*abs(s/w)**3 + 9.8/f_c)/(w*(s**4*(2.44 - 39.04/f_c)/w**4 + 1))], default=nan))\n"
     ]
    }
   ],
   "source": [
    "import matplotlib.pylab as plt\n",
    "fig, axes = plt.subplots(1,1, figsize = (15, 6))\n",
    "n = 198\n",
    "ce = CrackPropagation(n_seg=n)\n",
    "ce.sz_bd.Rectangle = True\n",
    "ce.sz_bd.trait_set(H=600, B=250, L=3850)\n",
    "#crack_positions = np.linspace(0.1 * ce.sz_bd.L, 0.9 * ce.sz_bd.L, 9)\n",
    "crack_position = 0.9 * ce.sz_bd.L\n",
    "ce.sz_cp.sz_ctr.L_fps = 80\n",
    "ce.sz_cp.sz_ctr.trait_set(ell = 2)\n",
    "bl1 = ReinfLayer(name='layer1', z=44, A=ce.sz_bd.smm.A_f, matmod='steel')\n",
    "bl1.matmod_.trait_set(E=ce.sz_bd.smm.E_f, f_t=ce.sz_bd.smm.sig_y)\n",
    "ce.sz_bd.cross_section_layout.add_layer(bl1)\n",
    "ce.sz_bd\n",
    "ce.reset()\n",
    "ce.sz_cp.trait_set(x_00=crack_position)\n",
    "ce.run()\n",
    "fig.clf()\n",
    "axes = ce.sz_stress_profile.subplots(fig)\n",
    "ce.sz_stress_profile.update_plot(axes)\n",
    "ax_u_0, ax_w_0, ax_S_0, ax_F_0, ax_u_1, ax_w_1, ax_S_1, ax_F_1 = axes"
   ]
  },
  {
   "cell_type": "code",
   "execution_count": 10,
   "metadata": {},
   "outputs": [
    {
     "data": {
      "text/plain": [
       "array([[261638.38320102,  27450.70792535]])"
      ]
     },
     "execution_count": 10,
     "metadata": {},
     "output_type": "execute_result"
    }
   ],
   "source": [
    "ce.sz_stress_profile.F_Na"
   ]
  },
  {
   "cell_type": "code",
   "execution_count": 11,
   "metadata": {},
   "outputs": [
    {
     "name": "stderr",
     "output_type": "stream",
     "text": [
      "<lambdifygenerated-52>:2: RuntimeWarning: invalid value encountered in sqrt\n",
      "  return (select([less_equal(w, 0),True], [0,0.25*f_c*s*(-sqrt(2)*sqrt(w/d_a) + 1)*((2.44 - 39.04/f_c)*abs(s/w)**3 + 9.8/f_c)/(w*(s**4*(2.44 - 39.04/f_c)/w**4 + 1))], default=nan))\n",
      "<lambdifygenerated-54>:2: RuntimeWarning: invalid value encountered in sqrt\n",
      "  return (select([less(w, (1/2)*A_f*Dummy_223**2/(Dummy_224*Dummy_225*p)),True], [sqrt(2)*sqrt(A_f)*sqrt(Dummy_224)*sqrt(Dummy_225)*sqrt(p)*sqrt(w),A_f*Dummy_223], default=nan))\n",
      "<lambdifygenerated-51>:2: RuntimeWarning: overflow encountered in exp\n",
      "  return (select([less(f_c, -35.7142857142857*d_a**(-0.32)*f_c**(-0.18)*f_t**2*w),less_equal(w, 0.028*d_a**0.32*f_c**0.18/f_t),True], [-f_c,35.7142857142857*d_a**(-0.32)*f_c**(-0.18)*f_t**2*w,f_t*exp(-35.7142857142857*d_a**(-0.32)*f_c**(-0.18)*f_t*(-0.028*d_a**0.32*f_c**0.18/f_t + w))], default=nan))\n",
      "<ipython-input-11-77e6fef5b2a3>:12: VisibleDeprecationWarning: Creating an ndarray from ragged nested sequences (which is a list-or-tuple of lists-or-tuples-or ndarrays with different lengths or shapes) is deprecated. If you meant to do this, you must specify 'dtype=object' when creating the ndarray.\n",
      "  F_s_ = np.array(ce.F_s)\n"
     ]
    },
    {
     "data": {
      "text/plain": [
       "[0,\n",
       " 49375.80369605203,\n",
       " 49734.66337300136,\n",
       " 50095.95464134238,\n",
       " 50329.07846330884,\n",
       " 50693.26941648201,\n",
       " 50926.86379357359,\n",
       " 51293.90940687069,\n",
       " 51536.483068272704,\n",
       " 51838.705717932855,\n",
       " 52141.712262349865,\n",
       " 52515.750036304125,\n",
       " 52787.45001545259,\n",
       " 53033.62360392445,\n",
       " 53327.965001881756,\n",
       " 53620.492271077914,\n",
       " 54003.72232917355,\n",
       " 54199.47560319016,\n",
       " 54487.934958793005,\n",
       " 54772.35131524446,\n",
       " 55055.390375415525,\n",
       " 55448.441899366175,\n",
       " 55616.47349017171,\n",
       " 56013.48521295097,\n",
       " 56169.15071527232,\n",
       " 56442.63959111732,\n",
       " 56713.430863776404,\n",
       " 57118.75340331621,\n",
       " 57254.285135665705,\n",
       " 57519.34379893684,\n",
       " 57782.13563767149,\n",
       " 58116.006292460006,\n",
       " 58294.143313023626,\n",
       " 58553.99440185537,\n",
       " 58809.75522650304,\n",
       " 59057.91948496664,\n",
       " 59311.88635235945,\n",
       " 59557.462604586115,\n",
       " 59802.29335661489,\n",
       " 60045.1577597458,\n",
       " 60285.867616726064,\n",
       " 60524.874651006816,\n",
       " 60760.361148183656,\n",
       " 60993.4087359939,\n",
       " 61225.68111321457,\n",
       " 61453.97819041362,\n",
       " 61682.54839348679,\n",
       " 61905.51030587447,\n",
       " 62129.3441491587,\n",
       " 62350.15254497424,\n",
       " 62567.68417411798,\n",
       " 62783.45250186959,\n",
       " 62996.01944623725,\n",
       " 63210.16519985027,\n",
       " 63417.752113244715,\n",
       " 63624.88989291959,\n",
       " 63829.08171440301,\n",
       " 64032.54044784418,\n",
       " 64232.55295544515,\n",
       " 64432.11722120836,\n",
       " 64628.57690845891,\n",
       " 64825.70521594311,\n",
       " 65016.71434662926,\n",
       " 65206.824033081764,\n",
       " 65395.83562076169,\n",
       " 65584.20572814737,\n",
       " 65770.07949858303,\n",
       " 65955.65802089748,\n",
       " 66133.57651273011,\n",
       " 66312.8747564273,\n",
       " 66495.96309457041,\n",
       " 66670.41842001182,\n",
       " 66845.77741964378,\n",
       " 67019.92237561443,\n",
       " 67198.95272450802,\n",
       " 67364.67127616014,\n",
       " 67528.68175524416,\n",
       " 67703.96893522596,\n",
       " 67875.28981375336,\n",
       " 68039.84659510115,\n",
       " 68206.65303112821,\n",
       " 68372.0537928492,\n",
       " 68536.56423889112,\n",
       " 68700.60875813135,\n",
       " 68864.43714502011,\n",
       " 69026.0343371276,\n",
       " 69189.73228796045,\n",
       " 69351.85815106753,\n",
       " 69513.8345081005,\n",
       " 69676.00199179808,\n",
       " 69837.5788965242,\n",
       " 70000.13011372583,\n",
       " 70161.8686730215,\n",
       " 70324.20043924225,\n",
       " 70486.83062306927,\n",
       " 70650.77341084577,\n",
       " 70814.70459302684,\n",
       " 70979.72719466456,\n",
       " 71145.02782613845,\n",
       " 71312.0551288972,\n",
       " 71479.80101903582,\n",
       " 71649.44517090116,\n",
       " 71819.98726180971,\n",
       " 71992.66652039946,\n",
       " 72166.31206134691,\n",
       " 72341.43547736484,\n",
       " 72519.86183507962,\n",
       " 72701.26726537151,\n",
       " 72874.53090446725,\n",
       " 73058.85325173165,\n",
       " 73245.52415830239,\n",
       " 73432.96696159056,\n",
       " 73625.94534967077,\n",
       " 73820.95741256828,\n",
       " 74018.48771021978,\n",
       " 74221.85745288202,\n",
       " 74426.68330247054,\n",
       " 74636.8919999357,\n",
       " 74849.80494956976,\n",
       " 75067.45007263108,\n",
       " 75290.5748264706,\n",
       " 75516.603845472,\n",
       " 75748.86266134634,\n",
       " 75984.90617559754,\n",
       " 76227.37348219057,\n",
       " 76475.10353666097,\n",
       " 76729.21996223206,\n",
       " 76990.37062602096,\n",
       " 77257.3680244257,\n",
       " 77530.53150602587,\n",
       " 77810.90951538709,\n",
       " 78099.3013308143,\n",
       " 78395.42450915163,\n",
       " 78699.96835684252,\n",
       " 79014.73345703764,\n",
       " 79339.20526826814,\n",
       " 79670.74898505471,\n",
       " 80026.14668143257,\n",
       " 80365.83115443635,\n",
       " 80732.04069227677,\n",
       " 81121.75205174489,\n",
       " 81524.11874414672,\n",
       " 81924.74552172923,\n",
       " 82414.67748675334,\n",
       " 83785.74805502832,\n",
       " 83351.189239599,\n",
       " 84830.56669011418,\n",
       " 84084.65973084548,\n",
       " 85638.54834956965,\n",
       " 85750.15151924295,\n",
       " 86506.00961110811,\n",
       " 87285.64958344794,\n",
       " 87831.68991146205,\n",
       " 88254.38052735367,\n",
       " 85007.41685182221,\n",
       " 86916.47658315588,\n",
       " 87813.2671202371,\n",
       " 76129.5147161075,\n",
       " 79833.93588155544,\n",
       " 87884.85013824758,\n",
       " 87988.89170209198,\n",
       " 88581.43815683605,\n",
       " 86962.25941299542,\n",
       " 89440.99017090371,\n",
       " 90107.12960197148,\n",
       " 91617.4947470337,\n",
       " 91790.03288549773,\n",
       " 94564.1731324888,\n",
       " 96902.11018329603,\n",
       " 92200.96197055904,\n",
       " 94228.1431380131,\n",
       " 97986.10667911333,\n",
       " 100673.0944006623,\n",
       " 102481.06355397856,\n",
       " 101779.52210624852,\n",
       " 98527.86669806905,\n",
       " 100743.97987961274,\n",
       " 104020.14472394787,\n",
       " 107241.19293297255,\n",
       " 103284.99434997879,\n",
       " 107593.33047111619,\n",
       " 111200.86567392896,\n",
       " 112604.66154528085,\n",
       " 114081.47166452579,\n",
       " 115228.84740529086,\n",
       " 115941.38945154678,\n",
       " 118695.0775560874,\n",
       " 123499.68772957246,\n",
       " 120628.7467652765,\n",
       " 125665.07454891985,\n",
       " 122274.85115084081,\n",
       " 123328.98917767593,\n",
       " 127060.487362341,\n",
       " 132913.90211146467,\n",
       " 122340.85578083334,\n",
       " 118931.08833732197,\n",
       " 86882.40357399758,\n",
       " 92007.06575982834,\n",
       " 92943.70693304525,\n",
       " 93944.23102788396]"
      ]
     },
     "execution_count": 11,
     "metadata": {},
     "output_type": "execute_result"
    }
   ],
   "source": [
    "import numpy as np\n",
    "crack_position = 0.1 * ce.sz_bd.L\n",
    "ce.reset()\n",
    "ce.sz_cp.trait_set(x_00=crack_position)\n",
    "ce.sz_cp.sz_ctr.L_fps = 80\n",
    "ce.run()\n",
    "F_beam = ce.F_beam\n",
    "F_max_ = np.max(F_beam)\n",
    "F_max_i_ = np.argmax(F_beam)\n",
    "F_max_i_int = np.array(F_max_i_)\n",
    "F_Na_ = ce.F_Na[F_max_i_int]\n",
    "F_s_ = np.array(ce.F_s)\n",
    "w = ce.w_steel[F_max_i_int]\n",
    "#F_max_\n",
    "#F_s_\n",
    "F_beam"
   ]
  },
  {
   "cell_type": "code",
   "execution_count": 9,
   "metadata": {},
   "outputs": [
    {
     "name": "stdout",
     "output_type": "stream",
     "text": [
      "[600.0, array([598.00000285]), array([596.0000057]), array([594.00000855]), array([592.00001133]), array([590.00001411]), array([588.0001227]), array([586.00023129]), array([584.00038471]), array([582.00054826]), array([580.00086207]), array([578.00117587]), array([576.00150676]), array([574.00205117]), array([572.00268768]), array([570.00342411]), array([568.00416054]), array([566.0049298]), array([564.00601333]), array([562.00722824]), array([560.00848987]), array([558.00975149]), array([556.01140882]), array([554.01306615]), array([552.01505796]), array([550.0172288]), array([548.01958637]), array([546.02194393]), array([544.02469996]), array([542.02766595]), array([540.03084931]), array([538.03423345]), array([536.03787135]), array([534.04174931]), array([532.0458736]), array([530.05024884]), array([528.05488465]), array([526.05978479]), array([524.0649559]), array([522.07040388]), array([520.07613433]), array([518.08215281]), array([516.0884637]), array([514.0950716]), array([512.10198177]), array([510.10919739]), array([508.11672379]), array([506.12456246]), array([504.13271854]), array([502.14119444]), array([500.14999275]), array([498.15911527]), array([496.16856315]), array([494.17834064]), array([492.18844577]), array([490.1988806]), array([488.20964494]), array([486.22074009]), array([484.23216472]), array([482.24391959]), array([480.25600293]), array([478.26841572]), array([476.28115294]), array([474.2942135]), array([472.30759588]), array([470.32129857]), array([468.33531811]), array([466.349654]), array([464.36429604]), array([462.37924323]), array([460.39449651]), array([458.41004505]), array([456.42588644]), array([454.44201607]), array([452.45843472]), array([450.47512572]), array([448.49208296]), array([446.50931276]), array([444.52680625]), array([442.5445518]), array([440.56254615]), array([438.58078222]), array([436.59925325]), array([434.61795263]), array([432.63687562]), array([430.65601169]), array([428.67535602]), array([426.69490011]), array([424.71463667]), array([422.73455851]), array([420.75465755]), array([418.77492698]), array([416.79535827]), array([414.81594397]), array([412.83667624]), array([410.85754798]), array([408.87855086]), array([406.89967733]), array([404.92091912]), array([402.942269]), array([400.96372119]), array([398.98526601]), array([397.0068953]), array([395.02860172]), array([393.05037702]), array([391.07221329]), array([389.09410362]), array([387.11604081]), array([385.13848476]), array([383.1610086]), array([381.18360345]), array([379.20625926]), array([377.22896883]), array([375.25172248]), array([373.27451354]), array([371.29733119]), array([369.32016485]), array([367.34300557]), array([365.36584282]), array([363.38866659]), array([361.4114666]), array([359.43423124]), array([357.4569493]), array([355.47960821]), array([353.50219516]), array([351.52469617]), array([349.54709616]), array([347.56938168]), array([345.59153127]), array([343.61352464]), array([341.63533889]), array([339.65694781]), array([337.67832129]), array([335.69942417]), array([333.72021412]), array([331.74064056]), array([329.76078866]), array([327.78027968]), array([325.79956764]), array([323.81848979]), array([321.83577745]), array([319.85192953]), array([317.86651913]), array([315.87880695]), array([313.89109476]), array([311.89928813]), array([309.9074815]), array([307.91164394]), array([305.91580637]), array([303.91581059]), array([301.91582197]), array([299.91980543]), array([297.9274292]), array([295.93212969]), array([294.04516267]), array([292.10432955]), array([290.1456247]), array([288.56842479]), array([286.81641237]), array([284.90207825]), array([282.99838216]), array([281.09247545]), array([279.25283828]), array([277.34901671]), array([275.43985963]), array([273.50673202]), array([271.58232859]), array([269.60971404]), array([267.63709949]), array([265.73734407]), array([263.8101743]), array([261.81252627]), array([259.81487823]), array([257.82587192]), array([255.82943222]), array([253.87655936]), array([251.91564739]), array([249.92072468]), array([247.92580197]), array([245.96943457]), array([244.03007158]), array([242.09070859]), array([240.13245304]), array([238.1505818]), array([236.15357158]), array([234.15401553]), array([232.15401788]), array([230.15402023]), array([228.1547753]), array([226.15553037]), array([224.17301082]), array([222.19803323]), array([220.20011955]), array([218.20220586])]\n"
     ]
    }
   ],
   "source": [
    "ce.reset()\n",
    "ini_crck_point = ce.sz_cp.trait_set(x_00= 0.1 * ce.sz_bd.L)\n",
    "ce.run()\n",
    "H_s = []\n",
    "F_beam = ce.F_beam\n",
    "F_max_ = np.max(F_beam)\n",
    "F_max_i_ = np.argmax(F_beam)\n",
    "F_max_i_int = np.array(F_max_i_)\n",
    "x_tip_1k_ = ce.x_tip_1k[F_max_i_int]\n",
    "for i in range(len(F_beam)):\n",
    "    if ce.x_tip_1k[i] <= x_tip_1k_:\n",
    "        H_s_ = ce.sz_bd.H - ce.x_tip_1k[i]\n",
    "        #shear_agg = ce.shear_agg[i]\n",
    "        H_s.append(H_s_)\n",
    "    else:\n",
    "        break\n",
    "print(H_s)\n",
    "    #print(shear_agg)\n",
    "# H_s = []\n",
    "# F_beam = ce.F_beam\n",
    "# F_max_ = np.max(F_beam)\n",
    "# for i in range(len(F_beam)):\n",
    "#     if F_beam[i] == F_max_:\n",
    "#         H_s = ce.H_s\n",
    "#         #H_s.append(H_s)\n",
    "#     else:\n",
    "#         break\n",
    "#     print(H_s)"
   ]
  },
  {
   "cell_type": "code",
   "execution_count": 10,
   "metadata": {},
   "outputs": [
    {
     "data": {
      "application/vnd.jupyter.widget-view+json": {
       "model_id": "08b20a00fc1d48e995817e0f5bd524c9",
       "version_major": 2,
       "version_minor": 0
      },
      "text/plain": [
       "Canvas(toolbar=Toolbar(toolitems=[('Home', 'Reset original view', 'home', 'home'), ('Back', 'Back to previous …"
      ]
     },
     "metadata": {},
     "output_type": "display_data"
    },
    {
     "name": "stderr",
     "output_type": "stream",
     "text": [
      "C:\\Users\\fahad\\Anaconda3\\envs\\bmcs_env\\lib\\site-packages\\numpy\\core\\_asarray.py:171: VisibleDeprecationWarning: Creating an ndarray from ragged nested sequences (which is a list-or-tuple of lists-or-tuples-or ndarrays with different lengths or shapes) is deprecated. If you meant to do this, you must specify 'dtype=object' when creating the ndarray.\n",
      "  return array(a, dtype, copy=False, order=order, subok=True)\n"
     ]
    },
    {
     "ename": "ValueError",
     "evalue": "x and y must have same first dimension, but have shapes (194,) and (204,)",
     "output_type": "error",
     "traceback": [
      "\u001b[1;31m---------------------------------------------------------------------------\u001b[0m",
      "\u001b[1;31mValueError\u001b[0m                                Traceback (most recent call last)",
      "\u001b[1;32m<ipython-input-10-2cf15d5bb4b8>\u001b[0m in \u001b[0;36m<module>\u001b[1;34m\u001b[0m\n\u001b[0;32m      1\u001b[0m \u001b[1;32mimport\u001b[0m \u001b[0mmatplotlib\u001b[0m\u001b[1;33m.\u001b[0m\u001b[0mpylab\u001b[0m \u001b[1;32mas\u001b[0m \u001b[0mplt\u001b[0m\u001b[1;33m\u001b[0m\u001b[1;33m\u001b[0m\u001b[0m\n\u001b[0;32m      2\u001b[0m \u001b[0m_\u001b[0m\u001b[1;33m,\u001b[0m \u001b[1;33m(\u001b[0m\u001b[0max1\u001b[0m\u001b[1;33m)\u001b[0m \u001b[1;33m=\u001b[0m \u001b[0mplt\u001b[0m\u001b[1;33m.\u001b[0m\u001b[0msubplots\u001b[0m\u001b[1;33m(\u001b[0m\u001b[1;36m1\u001b[0m\u001b[1;33m,\u001b[0m \u001b[1;36m1\u001b[0m\u001b[1;33m,\u001b[0m \u001b[0mfigsize\u001b[0m\u001b[1;33m=\u001b[0m\u001b[1;33m(\u001b[0m\u001b[1;36m8\u001b[0m\u001b[1;33m,\u001b[0m\u001b[1;36m4\u001b[0m\u001b[1;33m)\u001b[0m\u001b[1;33m)\u001b[0m\u001b[1;33m\u001b[0m\u001b[1;33m\u001b[0m\u001b[0m\n\u001b[1;32m----> 3\u001b[1;33m \u001b[0max1\u001b[0m\u001b[1;33m.\u001b[0m\u001b[0mplot\u001b[0m\u001b[1;33m(\u001b[0m\u001b[0mH_s\u001b[0m\u001b[1;33m,\u001b[0m \u001b[0mF_s_\u001b[0m \u001b[1;33m/\u001b[0m \u001b[1;36m1000\u001b[0m\u001b[1;33m,\u001b[0m \u001b[0mcolor\u001b[0m \u001b[1;33m=\u001b[0m \u001b[1;34m'blue'\u001b[0m\u001b[1;33m,\u001b[0m \u001b[0mlw\u001b[0m\u001b[1;33m=\u001b[0m \u001b[1;36m2\u001b[0m\u001b[1;33m,\u001b[0m \u001b[0mlabel\u001b[0m \u001b[1;33m=\u001b[0m \u001b[1;34m'$\\mathrm{F_{s}}$'\u001b[0m\u001b[1;33m)\u001b[0m\u001b[1;33m;\u001b[0m\u001b[1;33m\u001b[0m\u001b[1;33m\u001b[0m\u001b[0m\n\u001b[0m\u001b[0;32m      4\u001b[0m \u001b[0max1\u001b[0m\u001b[1;33m.\u001b[0m\u001b[0mset_xlabel\u001b[0m\u001b[1;33m(\u001b[0m\u001b[1;34mr'$\\mathrm{Height\\,of\\,crack\\,(mm)}$'\u001b[0m\u001b[1;33m)\u001b[0m\u001b[1;33m;\u001b[0m \u001b[0max1\u001b[0m\u001b[1;33m.\u001b[0m\u001b[0mset_ylabel\u001b[0m\u001b[1;33m(\u001b[0m\u001b[1;34mr'$\\mathrm{F_s\\,(kN)}$'\u001b[0m\u001b[1;33m)\u001b[0m\u001b[1;33m;\u001b[0m\u001b[1;33m\u001b[0m\u001b[1;33m\u001b[0m\u001b[0m\n\u001b[0;32m      5\u001b[0m \u001b[0max1\u001b[0m\u001b[1;33m.\u001b[0m\u001b[0mset_title\u001b[0m\u001b[1;33m(\u001b[0m\u001b[1;34mr'Force at steel reinforcement'\u001b[0m\u001b[1;33m)\u001b[0m\u001b[1;33m\u001b[0m\u001b[1;33m\u001b[0m\u001b[0m\n",
      "\u001b[1;32m~\\Anaconda3\\envs\\bmcs_env\\lib\\site-packages\\matplotlib\\axes\\_axes.py\u001b[0m in \u001b[0;36mplot\u001b[1;34m(self, scalex, scaley, data, *args, **kwargs)\u001b[0m\n\u001b[0;32m   1603\u001b[0m         \"\"\"\n\u001b[0;32m   1604\u001b[0m         \u001b[0mkwargs\u001b[0m \u001b[1;33m=\u001b[0m \u001b[0mcbook\u001b[0m\u001b[1;33m.\u001b[0m\u001b[0mnormalize_kwargs\u001b[0m\u001b[1;33m(\u001b[0m\u001b[0mkwargs\u001b[0m\u001b[1;33m,\u001b[0m \u001b[0mmlines\u001b[0m\u001b[1;33m.\u001b[0m\u001b[0mLine2D\u001b[0m\u001b[1;33m)\u001b[0m\u001b[1;33m\u001b[0m\u001b[1;33m\u001b[0m\u001b[0m\n\u001b[1;32m-> 1605\u001b[1;33m         \u001b[0mlines\u001b[0m \u001b[1;33m=\u001b[0m \u001b[1;33m[\u001b[0m\u001b[1;33m*\u001b[0m\u001b[0mself\u001b[0m\u001b[1;33m.\u001b[0m\u001b[0m_get_lines\u001b[0m\u001b[1;33m(\u001b[0m\u001b[1;33m*\u001b[0m\u001b[0margs\u001b[0m\u001b[1;33m,\u001b[0m \u001b[0mdata\u001b[0m\u001b[1;33m=\u001b[0m\u001b[0mdata\u001b[0m\u001b[1;33m,\u001b[0m \u001b[1;33m**\u001b[0m\u001b[0mkwargs\u001b[0m\u001b[1;33m)\u001b[0m\u001b[1;33m]\u001b[0m\u001b[1;33m\u001b[0m\u001b[1;33m\u001b[0m\u001b[0m\n\u001b[0m\u001b[0;32m   1606\u001b[0m         \u001b[1;32mfor\u001b[0m \u001b[0mline\u001b[0m \u001b[1;32min\u001b[0m \u001b[0mlines\u001b[0m\u001b[1;33m:\u001b[0m\u001b[1;33m\u001b[0m\u001b[1;33m\u001b[0m\u001b[0m\n\u001b[0;32m   1607\u001b[0m             \u001b[0mself\u001b[0m\u001b[1;33m.\u001b[0m\u001b[0madd_line\u001b[0m\u001b[1;33m(\u001b[0m\u001b[0mline\u001b[0m\u001b[1;33m)\u001b[0m\u001b[1;33m\u001b[0m\u001b[1;33m\u001b[0m\u001b[0m\n",
      "\u001b[1;32m~\\Anaconda3\\envs\\bmcs_env\\lib\\site-packages\\matplotlib\\axes\\_base.py\u001b[0m in \u001b[0;36m__call__\u001b[1;34m(self, data, *args, **kwargs)\u001b[0m\n\u001b[0;32m    313\u001b[0m                 \u001b[0mthis\u001b[0m \u001b[1;33m+=\u001b[0m \u001b[0margs\u001b[0m\u001b[1;33m[\u001b[0m\u001b[1;36m0\u001b[0m\u001b[1;33m]\u001b[0m\u001b[1;33m,\u001b[0m\u001b[1;33m\u001b[0m\u001b[1;33m\u001b[0m\u001b[0m\n\u001b[0;32m    314\u001b[0m                 \u001b[0margs\u001b[0m \u001b[1;33m=\u001b[0m \u001b[0margs\u001b[0m\u001b[1;33m[\u001b[0m\u001b[1;36m1\u001b[0m\u001b[1;33m:\u001b[0m\u001b[1;33m]\u001b[0m\u001b[1;33m\u001b[0m\u001b[1;33m\u001b[0m\u001b[0m\n\u001b[1;32m--> 315\u001b[1;33m             \u001b[1;32myield\u001b[0m \u001b[1;32mfrom\u001b[0m \u001b[0mself\u001b[0m\u001b[1;33m.\u001b[0m\u001b[0m_plot_args\u001b[0m\u001b[1;33m(\u001b[0m\u001b[0mthis\u001b[0m\u001b[1;33m,\u001b[0m \u001b[0mkwargs\u001b[0m\u001b[1;33m)\u001b[0m\u001b[1;33m\u001b[0m\u001b[1;33m\u001b[0m\u001b[0m\n\u001b[0m\u001b[0;32m    316\u001b[0m \u001b[1;33m\u001b[0m\u001b[0m\n\u001b[0;32m    317\u001b[0m     \u001b[1;32mdef\u001b[0m \u001b[0mget_next_color\u001b[0m\u001b[1;33m(\u001b[0m\u001b[0mself\u001b[0m\u001b[1;33m)\u001b[0m\u001b[1;33m:\u001b[0m\u001b[1;33m\u001b[0m\u001b[1;33m\u001b[0m\u001b[0m\n",
      "\u001b[1;32m~\\Anaconda3\\envs\\bmcs_env\\lib\\site-packages\\matplotlib\\axes\\_base.py\u001b[0m in \u001b[0;36m_plot_args\u001b[1;34m(self, tup, kwargs, return_kwargs)\u001b[0m\n\u001b[0;32m    499\u001b[0m \u001b[1;33m\u001b[0m\u001b[0m\n\u001b[0;32m    500\u001b[0m         \u001b[1;32mif\u001b[0m \u001b[0mx\u001b[0m\u001b[1;33m.\u001b[0m\u001b[0mshape\u001b[0m\u001b[1;33m[\u001b[0m\u001b[1;36m0\u001b[0m\u001b[1;33m]\u001b[0m \u001b[1;33m!=\u001b[0m \u001b[0my\u001b[0m\u001b[1;33m.\u001b[0m\u001b[0mshape\u001b[0m\u001b[1;33m[\u001b[0m\u001b[1;36m0\u001b[0m\u001b[1;33m]\u001b[0m\u001b[1;33m:\u001b[0m\u001b[1;33m\u001b[0m\u001b[1;33m\u001b[0m\u001b[0m\n\u001b[1;32m--> 501\u001b[1;33m             raise ValueError(f\"x and y must have same first dimension, but \"\n\u001b[0m\u001b[0;32m    502\u001b[0m                              f\"have shapes {x.shape} and {y.shape}\")\n\u001b[0;32m    503\u001b[0m         \u001b[1;32mif\u001b[0m \u001b[0mx\u001b[0m\u001b[1;33m.\u001b[0m\u001b[0mndim\u001b[0m \u001b[1;33m>\u001b[0m \u001b[1;36m2\u001b[0m \u001b[1;32mor\u001b[0m \u001b[0my\u001b[0m\u001b[1;33m.\u001b[0m\u001b[0mndim\u001b[0m \u001b[1;33m>\u001b[0m \u001b[1;36m2\u001b[0m\u001b[1;33m:\u001b[0m\u001b[1;33m\u001b[0m\u001b[1;33m\u001b[0m\u001b[0m\n",
      "\u001b[1;31mValueError\u001b[0m: x and y must have same first dimension, but have shapes (194,) and (204,)"
     ]
    }
   ],
   "source": [
    "import matplotlib.pylab as plt\n",
    "_, (ax1) = plt.subplots(1, 1, figsize=(8,4))\n",
    "ax1.plot(H_s, F_s_ / 1000, color = 'blue', lw= 2, label = '$\\mathrm{F_{s}}$');\n",
    "ax1.set_xlabel(r'$\\mathrm{Height\\,of\\,crack\\,(mm)}$'); ax1.set_ylabel(r'$\\mathrm{F_s\\,(kN)}$');\n",
    "ax1.set_title(r'Force at steel reinforcement')\n",
    "ax1.legend()\n",
    "plt.savefig(\"D:\\Shear zones\\Python plots\\F_steel.pdf\")"
   ]
  },
  {
   "cell_type": "code",
   "execution_count": null,
   "metadata": {},
   "outputs": [],
   "source": [
    "#w, F_s_, F_max_"
   ]
  },
  {
   "cell_type": "code",
   "execution_count": 11,
   "metadata": {},
   "outputs": [
    {
     "name": "stderr",
     "output_type": "stream",
     "text": [
      "<lambdifygenerated-27>:2: RuntimeWarning: invalid value encountered in sqrt\n",
      "  return (select([less_equal(w, 0),True], [0,0.25*f_c*s*(-sqrt(2)*sqrt(w/d_a) + 1)*((2.44 - 39.04/f_c)*abs(s/w)**3 + 9.8/f_c)/(w*(s**4*(2.44 - 39.04/f_c)/w**4 + 1))], default=nan))\n",
      "<lambdifygenerated-29>:2: RuntimeWarning: invalid value encountered in sqrt\n",
      "  return (select([less(w, (1/2)*A_f*Dummy_161**2/(Dummy_162*Dummy_163*p)),True], [sqrt(2)*sqrt(A_f)*sqrt(Dummy_162)*sqrt(Dummy_163)*sqrt(p)*sqrt(w),A_f*Dummy_161], default=nan))\n",
      "<lambdifygenerated-26>:2: RuntimeWarning: overflow encountered in exp\n",
      "  return (select([less(f_c, -35.7142857142857*d_a**(-0.32)*f_c**(-0.18)*f_t**2*w),less_equal(w, 0.028*d_a**0.32*f_c**0.18/f_t),True], [-f_c,35.7142857142857*d_a**(-0.32)*f_c**(-0.18)*f_t**2*w,f_t*exp(-35.7142857142857*d_a**(-0.32)*f_c**(-0.18)*f_t*(-0.028*d_a**0.32*f_c**0.18/f_t + w))], default=nan))\n"
     ]
    }
   ],
   "source": [
    "import numpy as np\n",
    "crack_position = 0.1 * ce.sz_bd.L\n",
    "ce.reset()\n",
    "ce.sz_cp.trait_set(x_00=crack_position)\n",
    "ce.sz_cp.sz_ctr.L_fps = 80\n",
    "ce.run()\n",
    "F_beam = ce.F_beam\n",
    "F_max_ = np.max(F_beam)\n",
    "F_max_i_ = np.argmax(F_beam)\n",
    "F_max_i_int = np.array(F_max_i_)\n",
    "F_Na_ = ce.F_Na[F_max_i_int]\n",
    "F_s_ = ce.F_s[F_max_i_int]\n",
    "slip_ = ce.slip[F_max_i_int]\n",
    "w_ = ce.w[F_max_i_int][0]\n",
    "steel_slip_ = ce.s_steel[F_max_i_int]\n",
    "w_steel_ = ce.w_steel[F_max_i_int]\n",
    "shear_stress_ = ce.shear_agg[F_max_i_int]\n",
    "F_a_ = ce.F_a[F_max_i_int][1]\n",
    "F_agg_ = F_a_ - F_Na_\n",
    "# shear_stress_, slip_"
   ]
  },
  {
   "cell_type": "code",
   "execution_count": 12,
   "metadata": {},
   "outputs": [
    {
     "data": {
      "application/vnd.jupyter.widget-view+json": {
       "model_id": "94c8b55fa1c8457fb91eb5d6631e180b",
       "version_major": 2,
       "version_minor": 0
      },
      "text/plain": [
       "Canvas(toolbar=Toolbar(toolitems=[('Home', 'Reset original view', 'home', 'home'), ('Back', 'Back to previous …"
      ]
     },
     "metadata": {},
     "output_type": "display_data"
    }
   ],
   "source": [
    "import matplotlib.pylab as plt\n",
    "_, (ax1) = plt.subplots(1, 1, figsize=(8,4))\n",
    "s = np.linspace(0,0.3,100)\n",
    "V_df = ce.sz_bd.smm.get_V_df(s)\n",
    "ax1.plot(s, V_df , color = 'blue', lw= 2, label = '$V_{da}$');\n",
    "ax1.set_xlabel(r'$slip\\,(mm)}$'); ax1.set_ylabel(r'$V (N)$');\n",
    "ax1.set_title(r'Dowel Force Contribution')\n",
    "ax1.legend()\n",
    "plt.savefig(\"D:\\Shear zones\\Python plots\\Dowel_force.pdf\")"
   ]
  },
  {
   "cell_type": "code",
   "execution_count": 13,
   "metadata": {},
   "outputs": [],
   "source": [
    "# import numpy as np\n",
    "# ce.sz_stress_profile.u_La\n",
    "# idx = np.argmax(ce.F_beam)\n",
    "# #v_n = ce.v_n\n",
    "# #v_n[idx]\n",
    "# #ce.F_Na[idx]\n",
    "# idx"
   ]
  },
  {
   "cell_type": "code",
   "execution_count": 14,
   "metadata": {},
   "outputs": [],
   "source": [
    "# ce.sz_stress_profile.u_Na"
   ]
  },
  {
   "cell_type": "code",
   "execution_count": 15,
   "metadata": {},
   "outputs": [],
   "source": [
    "# ce.reset()\n",
    "# ini_crck_point = ce.sz_cp.trait_set(x_00= 0.1 * ce.sz_bd.L)\n",
    "# ce.run()\n",
    "# F_beam = ce.F_beam\n",
    "# F_max_ = np.max(F_beam)\n",
    "# for i in range(len(F_beam)):\n",
    "#     if F_beam[i] < F_max_:\n",
    "#         pass\n",
    "#     elif F_beam[i] == F_max_:\n",
    "#         slip = ce.slip[i]\n",
    "#         #H_s = ce.H_s\n",
    "#         shear_agg = ce.shear_agg[i]\n",
    "#         print('shear agg', shear_agg)\n",
    "#         print('slip', slip)\n",
    "#         #print(shear_agg)\n",
    "#         #print(H_s)"
   ]
  },
  {
   "cell_type": "code",
   "execution_count": 16,
   "metadata": {},
   "outputs": [],
   "source": [
    "# ce.reset()\n",
    "# ini_crck_point = ce.sz_cp.trait_set(x_00= 0.9 * ce.sz_bd.L)\n",
    "# ce.run()\n",
    "# F_beam = ce.F_beam\n",
    "# F_max_ = np.max(F_beam)\n",
    "# F_max_idx = np.argmax(F_beam)\n",
    "# F_Na_ = ce.F_Na[F_max_idx]\n",
    "# s_s = ce.s_steel[:F_max_idx]\n",
    "# V_da = ce.F_Na[:F_max_idx]\n",
    "# slip = ce.slip\n",
    "# shear_agg = ce.shear_agg"
   ]
  },
  {
   "cell_type": "code",
   "execution_count": 17,
   "metadata": {},
   "outputs": [],
   "source": [
    "# import matplotlib.pylab as plt\n",
    "# _, (ax1, ax2) = plt.subplots(1, 2, figsize=(11,4))\n",
    "# ax1.plot(s_s, V_da , color = 'blue', lw= 2, label = '$V_{da}$');\n",
    "# ax1.set_xlabel(r'$slip\\,(mm)}$'); ax1.set_ylabel(r'$V (N)$');\n",
    "# ax1.set_title(r'Dowel Force Contribution')\n",
    "# ax1.legend()\n",
    "# ax2.plot(slip, shear_agg , color = 'red', lw= 2, label = r'$\\tau_{agg}$');\n",
    "# ax2.set_xlabel(r'$slip\\,(mm)}$'); ax2.set_ylabel(r'$\\tau_{agg}$');\n",
    "# ax2.set_title(r'Aggregate Force Contribution at Ultimate state')\n",
    "# ax2.legend()\n",
    "# #plt.savefig(\"D:\\Shear zones\\Python plots\\dowel_agg_09.pdf\")"
   ]
  },
  {
   "cell_type": "code",
   "execution_count": 18,
   "metadata": {},
   "outputs": [],
   "source": [
    "# import matplotlib.pylab as plt\n",
    "# _, (ax1, ax2) = plt.subplots(1, 2, figsize=(11,4))\n",
    "# ax1.plot(ce.sz_stress_profile.u_Lb[:,1], ce.sz_stress_profile.S_Lb[:,1] , color = 'blue', lw= 2, label = '$F_{agg}$');\n",
    "# ax2.plot(s_s, ce.sz_stress_profile.S_Lb[:,0] , color = 'blue', lw= 2, label = '$F_{agg}$');"
   ]
  },
  {
   "cell_type": "code",
   "execution_count": 19,
   "metadata": {},
   "outputs": [],
   "source": [
    "# import numpy as np\n",
    "# np.max(ce.F_beam)# + ce.crack_tip_shear_stress.Q + ce.crack_tip_shear_stress.Q_reduced"
   ]
  },
  {
   "cell_type": "code",
   "execution_count": 20,
   "metadata": {},
   "outputs": [],
   "source": [
    "#ce.sz_stress_profile.F_La"
   ]
  },
  {
   "cell_type": "code",
   "execution_count": 21,
   "metadata": {},
   "outputs": [
    {
     "name": "stderr",
     "output_type": "stream",
     "text": [
      "<lambdifygenerated-27>:2: RuntimeWarning: invalid value encountered in sqrt\n",
      "  return (select([less_equal(w, 0),True], [0,0.25*f_c*s*(-sqrt(2)*sqrt(w/d_a) + 1)*((2.44 - 39.04/f_c)*abs(s/w)**3 + 9.8/f_c)/(w*(s**4*(2.44 - 39.04/f_c)/w**4 + 1))], default=nan))\n",
      "<lambdifygenerated-29>:2: RuntimeWarning: invalid value encountered in sqrt\n",
      "  return (select([less(w, (1/2)*A_f*Dummy_161**2/(Dummy_162*Dummy_163*p)),True], [sqrt(2)*sqrt(A_f)*sqrt(Dummy_162)*sqrt(Dummy_163)*sqrt(p)*sqrt(w),A_f*Dummy_161], default=nan))\n",
      "<lambdifygenerated-26>:2: RuntimeWarning: overflow encountered in exp\n",
      "  return (select([less(f_c, -35.7142857142857*d_a**(-0.32)*f_c**(-0.18)*f_t**2*w),less_equal(w, 0.028*d_a**0.32*f_c**0.18/f_t),True], [-f_c,35.7142857142857*d_a**(-0.32)*f_c**(-0.18)*f_t**2*w,f_t*exp(-35.7142857142857*d_a**(-0.32)*f_c**(-0.18)*f_t*(-0.028*d_a**0.32*f_c**0.18/f_t + w))], default=nan))\n"
     ]
    }
   ],
   "source": [
    "import numpy as np\n",
    "crack_position = 0.1 * ce.sz_bd.L\n",
    "ce.reset()\n",
    "ce.sz_cp.trait_set(x_00=crack_position)\n",
    "ce.sz_cp.sz_ctr.L_fps = 80\n",
    "ce.run()\n",
    "F_beam = ce.F_beam\n",
    "F_max_ = np.max(F_beam)\n",
    "F_max_i_ = np.argmax(F_beam)\n",
    "F_max_i_int = np.array(F_max_i_)\n",
    "F_Na_ = ce.F_Na[F_max_i_int]\n",
    "F_s_ = ce.F_s[F_max_i_int]\n",
    "M = ce.M\n",
    "slip_ = ce.slip[F_max_i_int]\n",
    "w_ = ce.w[F_max_i_int][0]\n",
    "steel_slip_ = ce.s_steel[F_max_i_int]\n",
    "w_steel_ = ce.w_steel\n",
    "shear_stress_ = ce.shear_agg[F_max_i_int]\n",
    "F_a_ = ce.F_a[F_max_i_int][1]\n",
    "F_agg_ = F_a_ - F_Na_\n",
    "#shear_stress_, slip_\n",
    "#M, w_steel_[F_max_i_int]"
   ]
  },
  {
   "cell_type": "code",
   "execution_count": 22,
   "metadata": {},
   "outputs": [
    {
     "data": {
      "application/vnd.jupyter.widget-view+json": {
       "model_id": "bd62664bc57d481688d889a86b486008",
       "version_major": 2,
       "version_minor": 0
      },
      "text/plain": [
       "Canvas(toolbar=Toolbar(toolitems=[('Home', 'Reset original view', 'home', 'home'), ('Back', 'Back to previous …"
      ]
     },
     "metadata": {},
     "output_type": "display_data"
    },
    {
     "name": "stderr",
     "output_type": "stream",
     "text": [
      "No handles with labels found to put in legend.\n"
     ]
    }
   ],
   "source": [
    "import matplotlib.pylab as plt\n",
    "E_s = 210000\n",
    "A_s = 2 * 3.14 * 28**2 / 4\n",
    "_, (ax1, ax2) = plt.subplots(1, 2, figsize=(11,4))\n",
    "ax1.plot(np.array(M[1:]) / (E_s * A_s), w_steel_[1:] , color = 'blue', lw= 2); #/1000#\n",
    "#ax1.plot(slip, , color = 'red', lw = 2, label = '$F_{dowel}$');\n",
    "ax1.set_xlabel(r'$\\frac{M}{E_s A_s}$'); ax1.set_ylabel(r'$w_{steel}\\,(mm)$');\n",
    "ax1.set_title(r'Bending moment crack opening relationship')\n",
    "ax1.legend()\n",
    "plt.savefig(\"D:\\Shear zones\\Python plots\\co.pdf\")"
   ]
  },
  {
   "cell_type": "code",
   "execution_count": 23,
   "metadata": {},
   "outputs": [
    {
     "name": "stderr",
     "output_type": "stream",
     "text": [
      "<lambdifygenerated-27>:2: RuntimeWarning: invalid value encountered in sqrt\n",
      "  return (select([less_equal(w, 0),True], [0,0.25*f_c*s*(-sqrt(2)*sqrt(w/d_a) + 1)*((2.44 - 39.04/f_c)*abs(s/w)**3 + 9.8/f_c)/(w*(s**4*(2.44 - 39.04/f_c)/w**4 + 1))], default=nan))\n",
      "<lambdifygenerated-29>:2: RuntimeWarning: invalid value encountered in sqrt\n",
      "  return (select([less(w, (1/2)*A_f*Dummy_161**2/(Dummy_162*Dummy_163*p)),True], [sqrt(2)*sqrt(A_f)*sqrt(Dummy_162)*sqrt(Dummy_163)*sqrt(p)*sqrt(w),A_f*Dummy_161], default=nan))\n",
      "<lambdifygenerated-26>:2: RuntimeWarning: overflow encountered in exp\n",
      "  return (select([less(f_c, -35.7142857142857*d_a**(-0.32)*f_c**(-0.18)*f_t**2*w),less_equal(w, 0.028*d_a**0.32*f_c**0.18/f_t),True], [-f_c,35.7142857142857*d_a**(-0.32)*f_c**(-0.18)*f_t**2*w,f_t*exp(-35.7142857142857*d_a**(-0.32)*f_c**(-0.18)*f_t*(-0.028*d_a**0.32*f_c**0.18/f_t + w))], default=nan))\n"
     ]
    },
    {
     "name": "stdout",
     "output_type": "stream",
     "text": [
      "crack position = [ 385. 1925. 3465.]\n",
      "F_max [132913.90211146467, 192963.337977149, 523654.3558123033]\n",
      "F_agg [array([4110.24626931]), array([33857.42582175]), array([20002.1661198])]\n",
      "F_Na [array([28423.40995509]), array([27849.36817223]), array([16656.42785989])]\n"
     ]
    }
   ],
   "source": [
    "import numpy as np\n",
    "crack_positions = np.linspace(0.1 * ce.sz_bd.L, 0.9 * ce.sz_bd.L, 3)\n",
    "F_max = []\n",
    "F_a = []\n",
    "Q = []\n",
    "Q_red = []\n",
    "F_max_i = []\n",
    "F_Na = []\n",
    "F_s = []\n",
    "slip = []\n",
    "steel_slip = []\n",
    "shear_stress = []\n",
    "w = []\n",
    "w_steel = []\n",
    "V_c = []\n",
    "F_agg = []\n",
    "for crack_position in crack_positions:\n",
    "    ce.reset()\n",
    "    ce.sz_cp.trait_set(x_00=crack_position)\n",
    "    ce.sz_cp.sz_ctr.L_fps = 80\n",
    "    ce.run()\n",
    "    F_beam = ce.F_beam\n",
    "    F_max_ = np.max(F_beam)\n",
    "    F_max_i_ = np.argmax(F_beam)\n",
    "    F_max_i_int = np.array(F_max_i_)\n",
    "    F_Na_ = ce.F_Na[F_max_i_int]\n",
    "    F_s_ = ce.F_s[F_max_i_int]\n",
    "    slip_ = ce.slip[F_max_i_int][0]\n",
    "    w_ = ce.w[F_max_i_int][0]\n",
    "    steel_slip_ = ce.s_steel[F_max_i_int]\n",
    "    w_steel_ = ce.w_steel[F_max_i_int]\n",
    "    shear_stress_ = ce.shear_agg[F_max_i_int][0]\n",
    "    F_a_ = ce.F_a[F_max_i_int][1]\n",
    "    F_agg_ = F_a_ - F_Na_\n",
    "    Q_ = ce.Q[F_max_i_int]\n",
    "    Q_red_ =  ce.Q_red[F_max_i_int]\n",
    "    #V_c_ = Q_ + Q_red_ + F_a_\n",
    "    F_max.append(F_max_)\n",
    "    F_max_i.append(F_max_i_)\n",
    "    F_Na.append(F_Na_)\n",
    "    F_s.append(F_s_)\n",
    "    F_a.append(F_a_)\n",
    "    F_agg.append(F_agg_)\n",
    "    slip.append(slip_)\n",
    "    w.append(w_)\n",
    "    steel_slip.append(steel_slip_)\n",
    "    w_steel.append(w_steel_)\n",
    "    shear_stress.append(shear_stress_)\n",
    "    Q.append(Q_)\n",
    "    Q_red.append(Q_red_)\n",
    "    #V_c.append(V_c_)\n",
    "# print('F_max =', F_max)\n",
    "# print('F_max_i =', F_max_i)\n",
    "# print('F_Na =', F_Na)\n",
    "# print('F_s =', F_s)\n",
    "# #print(type(F_Na))\n",
    "# print('F_a = ', F_a)\n",
    "# print('Q =', Q)\n",
    "# print('Q_red =', Q_red)\n",
    "# # #print('V_c =', V_c)\n",
    "print('crack position =', crack_positions)\n",
    "print('F_max',  F_max)\n",
    "print('F_agg', F_agg)\n",
    "print('F_Na', F_Na)\n",
    "#print('slip =', slip)\n",
    "#print('shear stress =', shear_stress)\n",
    "#print('steel slip =', steel_slip)\n",
    "#print('F_agg =', F_agg)"
   ]
  },
  {
   "cell_type": "code",
   "execution_count": 24,
   "metadata": {},
   "outputs": [],
   "source": [
    "#F_a"
   ]
  },
  {
   "cell_type": "code",
   "execution_count": 25,
   "metadata": {},
   "outputs": [
    {
     "data": {
      "application/vnd.jupyter.widget-view+json": {
       "model_id": "53b8abd226f444c291f546abdacdc90e",
       "version_major": 2,
       "version_minor": 0
      },
      "text/plain": [
       "Canvas(toolbar=Toolbar(toolitems=[('Home', 'Reset original view', 'home', 'home'), ('Back', 'Back to previous …"
      ]
     },
     "metadata": {},
     "output_type": "display_data"
    }
   ],
   "source": [
    "import matplotlib.pylab as plt\n",
    "_, (ax1, ax2) = plt.subplots(1, 2, figsize=(11,4))\n",
    "ax1.plot(crack_positions, F_agg , color = 'blue', lw= 2, label = r'$F_{agg}$'); #/1000#\n",
    "#ax1.plot(slip, , color = 'red', lw = 2, label = '$F_{dowel}$');\n",
    "ax1.set_xlabel(r'$\\mathrm{Initial\\,position\\,of\\,the\\,crack\\,(mm)}$'); ax1.set_ylabel(r'$F\\,(N)$');\n",
    "ax1.set_title(r'Force contribution due to aggregate interlock')\n",
    "ax1.legend()\n",
    "ax2.plot(crack_positions, F_max, color = 'blue', lw= 2, label = r'$F_{agg}$'); \n",
    "ax2.set_xlabel(r'$\\mathrm{Initial\\,position\\,of\\,the\\,crack\\,(mm)}$'); ax2.set_ylabel(r'$F\\,(N)$');\n",
    "ax2.set_title(r'Shear Capacity')\n",
    "ax2.legend()\n",
    "plt.savefig(\"D:\\Shear zones\\Python plots\\max_force_shear_force_agg_Lfps2.pdf\")"
   ]
  },
  {
   "cell_type": "code",
   "execution_count": 26,
   "metadata": {},
   "outputs": [
    {
     "data": {
      "application/vnd.jupyter.widget-view+json": {
       "model_id": "6b15b97162c840f1ab15b3042d30d81d",
       "version_major": 2,
       "version_minor": 0
      },
      "text/plain": [
       "Canvas(toolbar=Toolbar(toolitems=[('Home', 'Reset original view', 'home', 'home'), ('Back', 'Back to previous …"
      ]
     },
     "metadata": {},
     "output_type": "display_data"
    }
   ],
   "source": [
    "import matplotlib.pylab as plt\n",
    "_, (ax1, ax2) = plt.subplots(1, 2, figsize=(11,4))\n",
    "ax1.plot(crack_positions, shear_stress , color = 'blue', lw= 2, label = r'$\\tau_{agg}$'); #/1000#\n",
    "#ax1.plot(slip, , color = 'red', lw = 2, label = '$F_{dowel}$');\n",
    "ax1.set_xlabel(r'$\\mathrm{Initial\\,position\\,of\\,the\\,crack\\,(mm)}$'); ax1.set_ylabel(r'$\\tau\\,(MPa)$');\n",
    "ax1.set_title(r'Shear Stress due to Aggregate Interlock')\n",
    "ax1.legend()\n",
    "ax2.plot(crack_positions, slip , color = 'red', lw= 2, label = '$slip\\,(mm)$');\n",
    "ax2.set_xlabel(r'$\\mathrm{Initial\\,position\\,of\\,the\\,crack\\,(mm)}$'); ax2.set_ylabel(r'$slip\\,(mm)$');\n",
    "ax2.set_title(r'Slip due to Aggregate Interlock')\n",
    "ax2.legend()\n",
    "plt.savefig(\"D:\\Shear zones\\Python plots\\slip_shear_Lfps2.pdf\")"
   ]
  },
  {
   "cell_type": "code",
   "execution_count": 27,
   "metadata": {},
   "outputs": [
    {
     "data": {
      "application/vnd.jupyter.widget-view+json": {
       "model_id": "59d6968a10c346c9b040cade9f5a3a9f",
       "version_major": 2,
       "version_minor": 0
      },
      "text/plain": [
       "Canvas(toolbar=Toolbar(toolitems=[('Home', 'Reset original view', 'home', 'home'), ('Back', 'Back to previous …"
      ]
     },
     "metadata": {},
     "output_type": "display_data"
    }
   ],
   "source": [
    "import matplotlib.pylab as plt\n",
    "_, (ax1, ax2) = plt.subplots(1, 2, figsize=(11,4))\n",
    "ax1.plot(crack_positions,  F_Na, color = 'blue', lw= 2, label = r'$F_{Na}$'); #/1000#\n",
    "ax1.set_xlabel(r'$\\mathrm{Initial\\,position\\,of\\,the\\,crack\\,(mm)}$'); ax1.set_ylabel(r'$F\\,(N)$');\n",
    "ax1.set_title(r'Dowel force due to Dowel Action')\n",
    "ax2.plot(crack_positions, steel_slip , color = 'red', lw= 2, label = '$slip\\,(mm)$');\n",
    "ax2.set_xlabel(r'$\\mathrm{Initial\\,position\\,of\\,the\\,crack\\,(mm)}$'); ax2.set_ylabel(r'$steel\\,slip\\,(mm)$');\n",
    "ax2.set_title(r'Slip due to dowel force')\n",
    "ax2.legend()\n",
    "plt.savefig(\"D:\\Shear zones\\Python plots\\dowel_slip_length_Lfps2.pdf\")"
   ]
  },
  {
   "cell_type": "code",
   "execution_count": 28,
   "metadata": {},
   "outputs": [
    {
     "data": {
      "application/vnd.jupyter.widget-view+json": {
       "model_id": "425b718dd5ea47c28cca07837609ceb6",
       "version_major": 2,
       "version_minor": 0
      },
      "text/plain": [
       "Canvas(toolbar=Toolbar(toolitems=[('Home', 'Reset original view', 'home', 'home'), ('Back', 'Back to previous …"
      ]
     },
     "metadata": {},
     "output_type": "display_data"
    }
   ],
   "source": [
    "import matplotlib.pylab as plt\n",
    "_, (ax1, ax2) = plt.subplots(1, 2, figsize=(11,4))\n",
    "ax1.plot(crack_positions, w, color = 'blue', lw= 2, label = r'$w(mm)}$'); #/1000#\n",
    "ax1.set_xlabel(r'$\\mathrm{Length\\,of\\,the\\,beam\\,(mm)}$'); ax1.set_ylabel(r'$w\\,(mm)$');\n",
    "ax1.set_title(r'Crack opening at the ultimate state due to aggregate')\n",
    "ax1.legend()\n",
    "ax2.plot(crack_positions, w_steel , color = 'red', lw= 2, label = '$w\\,(mm)$');\n",
    "ax2.set_xlabel(r'$\\mathrm{Length\\,of\\,the\\,beam\\,(mm)}$'); ax2.set_ylabel(r'$w\\,(mm)$');\n",
    "ax2.set_title(r'Crack Opening at the ultimate state at longitudinal reinforcement')\n",
    "ax2.legend()\n",
    "plt.savefig(\"D:\\Shear zones\\Python plots\\w_steel_Lfps2.pdf\")"
   ]
  },
  {
   "cell_type": "code",
   "execution_count": 29,
   "metadata": {},
   "outputs": [
    {
     "data": {
      "application/vnd.jupyter.widget-view+json": {
       "model_id": "9da5c22560504db9a96e342f5a79fa58",
       "version_major": 2,
       "version_minor": 0
      },
      "text/plain": [
       "Canvas(toolbar=Toolbar(toolitems=[('Home', 'Reset original view', 'home', 'home'), ('Back', 'Back to previous …"
      ]
     },
     "metadata": {},
     "output_type": "display_data"
    }
   ],
   "source": [
    "import matplotlib.pylab as plt\n",
    "_, (ax1, ax2) = plt.subplots(1, 2, figsize=(11,4))\n",
    "ax1.plot(crack_positions, np.array(F_max) / 1000, lw= 2, label = r'$\\mathrm{F_{max}}$'); #/1000#\n",
    "ax1.set_xlabel(r'$\\mathrm{Position\\,of\\,single\\,crack\\,(mm)}$'); ax1.set_ylabel(r'$F\\,(kN)$');\n",
    "ax1.set_title(r'Maximum capacity and force contributions')\n",
    "ax1.legend()\n",
    "ax2.plot(crack_positions, np.array(F_agg) / 1000, lw= 2, label = r'$\\mathrm{F_{agg}}$');\n",
    "ax2.plot(crack_positions, np.array(F_Na) / 1000, lw= 2, label = r'$\\mathrm{F_{Na}}$');\n",
    "ax2.legend()\n",
    "#ax2.plot(crack_positions, np.array(Q_red) / 1000, lw= 2, label = r'$\\mathrm{F_{uncr}}$');\n",
    "plt.savefig(\"D:\\Shear zones\\Python plots\\contributions_conference.pdf\")"
   ]
  },
  {
   "cell_type": "code",
   "execution_count": 30,
   "metadata": {},
   "outputs": [
    {
     "data": {
      "application/vnd.jupyter.widget-view+json": {
       "model_id": "e9a898d310c348389ce9f4b004b66df6",
       "version_major": 2,
       "version_minor": 0
      },
      "text/plain": [
       "Canvas(toolbar=Toolbar(toolitems=[('Home', 'Reset original view', 'home', 'home'), ('Back', 'Back to previous …"
      ]
     },
     "metadata": {},
     "output_type": "display_data"
    }
   ],
   "source": [
    "import matplotlib.pylab as plt\n",
    "_, (ax1) = plt.subplots(1, 1, figsize=(11,4))\n",
    "ax1.plot(crack_positions, F_s, color = 'red', lw = 2, label = '$F_{s}$');\n",
    "ax1.set_xlabel(r'$initial\\,crack\\,position\\,(mm)$'); ax1.set_ylabel(r'$F_{steel}\\,(kN)$');\n",
    "ax1.legend()\n",
    "plt.savefig(\"D:\\Shear zones\\Python plots\\F_s.pdf\")"
   ]
  },
  {
   "cell_type": "code",
   "execution_count": 31,
   "metadata": {},
   "outputs": [
    {
     "name": "stderr",
     "output_type": "stream",
     "text": [
      "<lambdifygenerated-27>:2: RuntimeWarning: invalid value encountered in sqrt\n",
      "  return (select([less_equal(w, 0),True], [0,0.25*f_c*s*(-sqrt(2)*sqrt(w/d_a) + 1)*((2.44 - 39.04/f_c)*abs(s/w)**3 + 9.8/f_c)/(w*(s**4*(2.44 - 39.04/f_c)/w**4 + 1))], default=nan))\n",
      "<lambdifygenerated-26>:2: RuntimeWarning: overflow encountered in exp\n",
      "  return (select([less(f_c, -35.7142857142857*d_a**(-0.32)*f_c**(-0.18)*f_t**2*w),less_equal(w, 0.028*d_a**0.32*f_c**0.18/f_t),True], [-f_c,35.7142857142857*d_a**(-0.32)*f_c**(-0.18)*f_t**2*w,f_t*exp(-35.7142857142857*d_a**(-0.32)*f_c**(-0.18)*f_t*(-0.028*d_a**0.32*f_c**0.18/f_t + w))], default=nan))\n",
      "<lambdifygenerated-29>:2: RuntimeWarning: invalid value encountered in sqrt\n",
      "  return (select([less(w, (1/2)*A_f*Dummy_161**2/(Dummy_162*Dummy_163*p)),True], [sqrt(2)*sqrt(A_f)*sqrt(Dummy_162)*sqrt(Dummy_163)*sqrt(p)*sqrt(w),A_f*Dummy_161], default=nan))\n",
      "<lambdifygenerated-26>:2: RuntimeWarning: overflow encountered in multiply\n",
      "  return (select([less(f_c, -35.7142857142857*d_a**(-0.32)*f_c**(-0.18)*f_t**2*w),less_equal(w, 0.028*d_a**0.32*f_c**0.18/f_t),True], [-f_c,35.7142857142857*d_a**(-0.32)*f_c**(-0.18)*f_t**2*w,f_t*exp(-35.7142857142857*d_a**(-0.32)*f_c**(-0.18)*f_t*(-0.028*d_a**0.32*f_c**0.18/f_t + w))], default=nan))\n",
      "<lambdifygenerated-5>:2: RuntimeWarning: invalid value encountered in sqrt\n",
      "  return ((-Dummy_35*c_psi + Dummy_37*c_psi - Dummy_39*c_psi**2 - Dummy_39*s_psi**2 + Dummy_40*s_psi**2 - sqrt(Dummy_35**2*c_psi**2 - 2*Dummy_35*Dummy_37*c_psi**2 - 2*Dummy_35*Dummy_38*c_psi**2*s_psi - 2*Dummy_35*Dummy_38*s_psi**3 + 2*Dummy_35*Dummy_39*c_psi**3 + 2*Dummy_35*Dummy_39*c_psi*s_psi**2 - 2*Dummy_35*Dummy_40*c_psi*s_psi**2 + Dummy_37**2*c_psi**2 + 2*Dummy_37*Dummy_38*c_psi**2*s_psi + 2*Dummy_37*Dummy_38*s_psi**3 - 2*Dummy_37*Dummy_39*c_psi**3 - 2*Dummy_37*Dummy_39*c_psi*s_psi**2 + 2*Dummy_37*Dummy_40*c_psi*s_psi**2 - Dummy_38**2*c_psi**4 - 2*Dummy_38**2*c_psi**2*s_psi**2 - Dummy_38**2*s_psi**4 - 2*Dummy_38*Dummy_40*c_psi**3*s_psi - 2*Dummy_38*Dummy_40*c_psi*s_psi**3 + Dummy_39**2*c_psi**4 + 2*Dummy_39**2*c_psi**2*s_psi**2 + Dummy_39**2*s_psi**4 - 2*Dummy_39*Dummy_40*c_psi**2*s_psi**2 - 2*Dummy_39*Dummy_40*s_psi**4 + Dummy_40**2*s_psi**4))/(c_psi**2 + s_psi**2))\n",
      "<lambdifygenerated-13>:2: RuntimeWarning: invalid value encountered in sqrt\n",
      "  return ((-2*Dummy_87*s_psi + 2*Dummy_88*s_psi - (-Dummy_83*Dummy_86*c_psi**2 - 3*Dummy_83*Dummy_86*s_psi**2 + 2*Dummy_83*Dummy_87*c_psi*s_psi - 2*Dummy_83*Dummy_88*c_psi*s_psi + Dummy_85*Dummy_86*c_psi**2 + 3*Dummy_85*Dummy_86*s_psi**2 - 2*Dummy_85*Dummy_87*c_psi*s_psi + 2*Dummy_85*Dummy_88*c_psi*s_psi - 2*Dummy_86**2*c_psi**2*s_psi - 2*Dummy_86**2*s_psi**3 - Dummy_86*Dummy_88*c_psi**3 - 3*Dummy_86*Dummy_88*c_psi*s_psi**2 + 2*Dummy_87**2*c_psi**2*s_psi + 2*Dummy_87**2*s_psi**3 - 2*Dummy_87*Dummy_88*c_psi**2*s_psi - 4*Dummy_87*Dummy_88*s_psi**3 + 2*Dummy_88**2*s_psi**3)/sqrt(Dummy_83**2*c_psi**2 - 2*Dummy_83*Dummy_85*c_psi**2 - 2*Dummy_83*Dummy_86*c_psi**2*s_psi - 2*Dummy_83*Dummy_86*s_psi**3 + 2*Dummy_83*Dummy_87*c_psi**3 + 2*Dummy_83*Dummy_87*c_psi*s_psi**2 - 2*Dummy_83*Dummy_88*c_psi*s_psi**2 + Dummy_85**2*c_psi**2 + 2*Dummy_85*Dummy_86*c_psi**2*s_psi + 2*Dummy_85*Dummy_86*s_psi**3 - 2*Dummy_85*Dummy_87*c_psi**3 - 2*Dummy_85*Dummy_87*c_psi*s_psi**2 + 2*Dummy_85*Dummy_88*c_psi*s_psi**2 - Dummy_86**2*c_psi**4 - 2*Dummy_86**2*c_psi**2*s_psi**2 - Dummy_86**2*s_psi**4 - 2*Dummy_86*Dummy_88*c_psi**3*s_psi - 2*Dummy_86*Dummy_88*c_psi*s_psi**3 + Dummy_87**2*c_psi**4 + 2*Dummy_87**2*c_psi**2*s_psi**2 + Dummy_87**2*s_psi**4 - 2*Dummy_87*Dummy_88*c_psi**2*s_psi**2 - 2*Dummy_87*Dummy_88*s_psi**4 + Dummy_88**2*s_psi**4))*cos(psi) - (-Dummy_83 + Dummy_85 - 2*Dummy_87*c_psi - (Dummy_83**2*c_psi - 2*Dummy_83*Dummy_85*c_psi - 2*Dummy_83*Dummy_86*c_psi*s_psi + 3*Dummy_83*Dummy_87*c_psi**2 + Dummy_83*Dummy_87*s_psi**2 - Dummy_83*Dummy_88*s_psi**2 + Dummy_85**2*c_psi + 2*Dummy_85*Dummy_86*c_psi*s_psi - 3*Dummy_85*Dummy_87*c_psi**2 - Dummy_85*Dummy_87*s_psi**2 + Dummy_85*Dummy_88*s_psi**2 - 2*Dummy_86**2*c_psi**3 - 2*Dummy_86**2*c_psi*s_psi**2 - 3*Dummy_86*Dummy_88*c_psi**2*s_psi - Dummy_86*Dummy_88*s_psi**3 + 2*Dummy_87**2*c_psi**3 + 2*Dummy_87**2*c_psi*s_psi**2 - 2*Dummy_87*Dummy_88*c_psi*s_psi**2)/sqrt(Dummy_83**2*c_psi**2 - 2*Dummy_83*Dummy_85*c_psi**2 - 2*Dummy_83*Dummy_86*c_psi**2*s_psi - 2*Dummy_83*Dummy_86*s_psi**3 + 2*Dummy_83*Dummy_87*c_psi**3 + 2*Dummy_83*Dummy_87*c_psi*s_psi**2 - 2*Dummy_83*Dummy_88*c_psi*s_psi**2 + Dummy_85**2*c_psi**2 + 2*Dummy_85*Dummy_86*c_psi**2*s_psi + 2*Dummy_85*Dummy_86*s_psi**3 - 2*Dummy_85*Dummy_87*c_psi**3 - 2*Dummy_85*Dummy_87*c_psi*s_psi**2 + 2*Dummy_85*Dummy_88*c_psi*s_psi**2 - Dummy_86**2*c_psi**4 - 2*Dummy_86**2*c_psi**2*s_psi**2 - Dummy_86**2*s_psi**4 - 2*Dummy_86*Dummy_88*c_psi**3*s_psi - 2*Dummy_86*Dummy_88*c_psi*s_psi**3 + Dummy_87**2*c_psi**4 + 2*Dummy_87**2*c_psi**2*s_psi**2 + Dummy_87**2*s_psi**4 - 2*Dummy_87*Dummy_88*c_psi**2*s_psi**2 - 2*Dummy_87*Dummy_88*s_psi**4 + Dummy_88**2*s_psi**4))*sin(psi))\n",
      "<lambdifygenerated-14>:2: RuntimeWarning: invalid value encountered in sqrt\n",
      "  return (c_psi - (-Dummy_89*c_psi**2 + Dummy_91*c_psi**2 + Dummy_92*c_psi**2*s_psi + Dummy_92*s_psi**3 - Dummy_93*c_psi**3 - Dummy_93*c_psi*s_psi**2 + Dummy_94*c_psi*s_psi**2)/sqrt(Dummy_89**2*c_psi**2 - 2*Dummy_89*Dummy_91*c_psi**2 - 2*Dummy_89*Dummy_92*c_psi**2*s_psi - 2*Dummy_89*Dummy_92*s_psi**3 + 2*Dummy_89*Dummy_93*c_psi**3 + 2*Dummy_89*Dummy_93*c_psi*s_psi**2 - 2*Dummy_89*Dummy_94*c_psi*s_psi**2 + Dummy_91**2*c_psi**2 + 2*Dummy_91*Dummy_92*c_psi**2*s_psi + 2*Dummy_91*Dummy_92*s_psi**3 - 2*Dummy_91*Dummy_93*c_psi**3 - 2*Dummy_91*Dummy_93*c_psi*s_psi**2 + 2*Dummy_91*Dummy_94*c_psi*s_psi**2 - Dummy_92**2*c_psi**4 - 2*Dummy_92**2*c_psi**2*s_psi**2 - Dummy_92**2*s_psi**4 - 2*Dummy_92*Dummy_94*c_psi**3*s_psi - 2*Dummy_92*Dummy_94*c_psi*s_psi**3 + Dummy_93**2*c_psi**4 + 2*Dummy_93**2*c_psi**2*s_psi**2 + Dummy_93**2*s_psi**4 - 2*Dummy_93*Dummy_94*c_psi**2*s_psi**2 - 2*Dummy_93*Dummy_94*s_psi**4 + Dummy_94**2*s_psi**4))\n"
     ]
    },
    {
     "name": "stdout",
     "output_type": "stream",
     "text": [
      "slip = [0.22871060538812069, 0.22019763016421012, 0.20870699566218334, 769.6816447751357, 0.147484098361247, 0.1684406847695693, 0.08728896306456545, 0.0787186532679172, 0.14696537915807165, 0.12103009023641056]\n",
      "w = [0.6795391413538411, 0.6240584350566507, 0.5481838924242504, 87.5218838967862, 0.3704387242807543, 0.5015639691285302, 0.35611545495559366, 0.3350589761300158, 0.5156433851468198, 0.48048946388598496]\n",
      "w_steel = [array([0.60660212]), array([0.55652237]), array([0.48798707]), array([54.34948129]), array([0.32699701]), array([0.44573289]), array([0.3127106]), array([0.29624761]), array([0.45931546]), array([0.42743322])]\n",
      "steel_slip = [array([0.22813494]), array([0.21993018]), array([0.20857972]), array([697.10032192]), array([0.1470831]), array([0.16801811]), array([0.08688303]), array([0.07853553]), array([0.14645931]), array([0.1207605])]\n",
      "L_fps = [ 2.         10.66666667 19.33333333 28.         36.66666667 45.33333333\n",
      " 54.         62.66666667 71.33333333 80.        ]\n"
     ]
    }
   ],
   "source": [
    "L_fps_ = np.linspace(2, 80, 10)\n",
    "crack_position = ce.sz_bd.L  * 0.5\n",
    "F_max = []\n",
    "F_max_i = []\n",
    "F_a = []\n",
    "F_Na = []\n",
    "F_s = []\n",
    "slip = []\n",
    "steel_slip = []\n",
    "shear_stress = []\n",
    "w = []\n",
    "w_steel = []\n",
    "F_agg = []\n",
    "for L_fps in L_fps_:\n",
    "    ce.reset()\n",
    "    ce.sz_cp.sz_ctr.trait_set(L_fps=L_fps)\n",
    "    ce.sz_cp.trait_set(x_00=crack_position)\n",
    "    ce.run()\n",
    "    F_beam = ce.F_beam\n",
    "    F_max_ = np.max(F_beam)\n",
    "    F_max_i_ = np.argmax(F_beam)\n",
    "    F_max_i_int = np.array(F_max_i_)\n",
    "    F_Na_ = ce.F_Na[F_max_i_int]\n",
    "    F_s_ = ce.F_s[F_max_i_int]\n",
    "    slip_ = ce.slip[F_max_i_int][0]\n",
    "    w_ = ce.w[F_max_i_int][0]\n",
    "    steel_slip_ = ce.s_steel[F_max_i_int]\n",
    "    w_steel_ = ce.w_steel[F_max_i_int]\n",
    "    shear_stress_ = ce.shear_agg[F_max_i_int][0]\n",
    "    F_a_ = ce.F_a[F_max_i_int][1]\n",
    "    F_agg_ = F_a_ - F_Na_\n",
    "#     F_beam = ce.F_beam\n",
    "#     F_max_ = np.max(F_beam)\n",
    "#     F_max_i_ = np.argmax(F_beam)\n",
    "#     F_max_i_int = np.array(F_max_i_)\n",
    "    F_max_i.append(F_max_i_)\n",
    "    F_max.append(F_max_)\n",
    "    F_Na.append(F_Na_)\n",
    "    F_s.append(F_s_)\n",
    "    F_a.append(F_a_)\n",
    "    F_agg.append(F_agg_)\n",
    "    slip.append(slip_)\n",
    "    w.append(w_)\n",
    "    steel_slip.append(steel_slip_)\n",
    "    w_steel.append(w_steel_)\n",
    "    shear_stress.append(shear_stress_)\n",
    "#print(F_max)\n",
    "#print(F_max_i)\n",
    "print('slip =', slip)\n",
    "print('w =', w)\n",
    "print('w_steel =', w_steel)\n",
    "print('steel_slip =', steel_slip)\n",
    "print('L_fps =', L_fps_)"
   ]
  },
  {
   "cell_type": "code",
   "execution_count": 32,
   "metadata": {},
   "outputs": [
    {
     "data": {
      "application/vnd.jupyter.widget-view+json": {
       "model_id": "986fff305b81462ea535b3caa6a256a7",
       "version_major": 2,
       "version_minor": 0
      },
      "text/plain": [
       "Canvas(toolbar=Toolbar(toolitems=[('Home', 'Reset original view', 'home', 'home'), ('Back', 'Back to previous …"
      ]
     },
     "metadata": {},
     "output_type": "display_data"
    }
   ],
   "source": [
    "import matplotlib.pylab as plt\n",
    "_, (ax1, ax2) = plt.subplots(1, 2, figsize=(11,4))\n",
    "ax1.plot(L_fps_, steel_slip, color = 'blue', lw= 2, label = r'$s_{s}(mm)}$');#/1000#\n",
    "#ax1.plot(crack_positions, slip, color = 'red', lw= 2, label = r'$s(mm)}$');\n",
    "ax1.set_xlabel(r'$\\mathrm{Length\\,of\\,FPZ\\,(mm)}$'); ax1.set_ylabel(r'$s\\,(mm)$');\n",
    "ax1.set_title(r'Slip at the steel reinforcement $x_{00}$= 0.5L')\n",
    "ax1.legend()\n",
    "ax2.plot(L_fps_, w_steel , color = 'red', lw= 2, label = '$w\\,(mm)$');\n",
    "ax2.set_xlabel('$\\mathrm{Length\\,of\\,FPZ\\,(mm)}$'); ax2.set_ylabel(r'$w\\,(mm)$');\n",
    "ax2.set_title(r'Crack Opening at the ultimate state at longitudinal reinforcement')\n",
    "ax2.legend()\n",
    "plt.savefig(\"D:\\Shear zones\\Python plots\\w_steel_Lfps_vary.pdf\")"
   ]
  },
  {
   "cell_type": "code",
   "execution_count": 33,
   "metadata": {},
   "outputs": [
    {
     "data": {
      "application/vnd.jupyter.widget-view+json": {
       "model_id": "8ab76b0e03034e638124ac2dec2fa335",
       "version_major": 2,
       "version_minor": 0
      },
      "text/plain": [
       "Canvas(toolbar=Toolbar(toolitems=[('Home', 'Reset original view', 'home', 'home'), ('Back', 'Back to previous …"
      ]
     },
     "metadata": {},
     "output_type": "display_data"
    },
    {
     "name": "stderr",
     "output_type": "stream",
     "text": [
      "No handles with labels found to put in legend.\n",
      "No handles with labels found to put in legend.\n"
     ]
    }
   ],
   "source": [
    "import matplotlib.pylab as plt\n",
    "_, (ax1, ax2) = plt.subplots(1, 2, figsize=(11,4))\n",
    "ax1.plot(L_fps_,F_Na, color = 'blue', lw= 2);#/1000#\n",
    "#ax1.plot(crack_positions, slip, color = 'red', lw= 2, label = r'$s(mm)}$');\n",
    "ax1.set_xlabel(r'$\\mathrm{Length\\,of\\,FPZ\\,(mm)}$'); ax1.set_ylabel(r'$F_{da}\\,(Na)$');\n",
    "ax1.set_title(r'Dowel Force')\n",
    "ax1.legend()\n",
    "ax2.plot(L_fps_, F_a , color = 'red', lw= 2);\n",
    "ax2.set_xlabel('$\\mathrm{Length\\,of\\,FPZ\\,(mm)}$'); ax2.set_ylabel(r'$F_{ag}\\,(N)$');\n",
    "ax2.set_title(r'Aggregate Force')\n",
    "ax2.legend()\n",
    "plt.savefig(\"D:\\Shear zones\\Python plots\\F_Na_agg_vary.pdf\")"
   ]
  },
  {
   "cell_type": "code",
   "execution_count": 34,
   "metadata": {},
   "outputs": [
    {
     "data": {
      "application/vnd.jupyter.widget-view+json": {
       "model_id": "5b249e186cea450fb41e0174a8e54f46",
       "version_major": 2,
       "version_minor": 0
      },
      "text/plain": [
       "Canvas(toolbar=Toolbar(toolitems=[('Home', 'Reset original view', 'home', 'home'), ('Back', 'Back to previous …"
      ]
     },
     "metadata": {},
     "output_type": "display_data"
    }
   ],
   "source": [
    "import matplotlib.pylab as plt\n",
    "_, (ax1, ax2) = plt.subplots(1, 2, figsize=(11,4))\n",
    "ax1.plot(L_fps_, slip, color = 'blue', lw= 2, label = r'$s(mm)}$');#/1000#\n",
    "#ax1.plot(crack_positions, slip, color = 'red', lw= 2, label = r'$s(mm)}$');\n",
    "ax1.set_xlabel(r'$\\mathrm{Length\\,of\\,FPZ\\,(mm)}$'); ax1.set_ylabel(r'$s\\,(mm)$');\n",
    "ax1.set_title(r'Slip at aggregate interlock')\n",
    "ax1.legend()\n",
    "ax2.plot(L_fps_, shear_stress , color = 'red', lw= 2, label = '$\\tau\\,(MPa)$');\n",
    "ax2.set_xlabel('$\\mathrm{Length\\,of\\,FPZ\\,(mm)}$'); ax2.set_ylabel(r'$\\tau_{ag}\\,(MPa)$');\n",
    "ax2.set_title(r'Shear stress due to aggregate interlock')\n",
    "ax2.legend()\n",
    "plt.savefig(\"D:\\Shear zones\\Python plots\\shear_slip_agg_vary.pdf\")"
   ]
  },
  {
   "cell_type": "code",
   "execution_count": 35,
   "metadata": {},
   "outputs": [
    {
     "data": {
      "application/vnd.jupyter.widget-view+json": {
       "model_id": "f4873600613a429c8e820738107a604c",
       "version_major": 2,
       "version_minor": 0
      },
      "text/plain": [
       "Canvas(toolbar=Toolbar(toolitems=[('Home', 'Reset original view', 'home', 'home'), ('Back', 'Back to previous …"
      ]
     },
     "metadata": {},
     "output_type": "display_data"
    }
   ],
   "source": [
    "import matplotlib.pylab as plt\n",
    "_, (ax1, ax2) = plt.subplots(1, 2, figsize=(11,4))\n",
    "ax1.plot(L_fps_, F_max, color = 'blue', lw= 2, label = r'$F(N)}$');#/1000#\n",
    "#ax1.plot(crack_positions, slip, color = 'red', lw= 2, label = r'$s(mm)}$');\n",
    "ax1.set_xlabel(r'$\\mathrm{Length\\,of\\,FPZ\\,(mm)}$'); ax1.set_ylabel(r'$F_{max}\\,(N)$');\n",
    "ax1.set_title(r'Maximum Force Contribution')\n",
    "ax1.legend()\n",
    "ax2.plot(L_fps_, F_s , color = 'red', lw= 2, label = '$F_s\\,(mm)$');\n",
    "ax2.set_xlabel('$\\mathrm{Length\\,of\\,FPZ\\,(mm)}$'); ax2.set_ylabel(r'$F_{s}\\,(N)$');\n",
    "ax2.set_title(r'Horizontal Force component at steel')\n",
    "ax2.legend()\n",
    "plt.savefig(\"D:\\Shear zones\\Python plots\\F_max_F_steel_vary.pdf\")"
   ]
  },
  {
   "cell_type": "code",
   "execution_count": 36,
   "metadata": {},
   "outputs": [
    {
     "name": "stdout",
     "output_type": "stream",
     "text": [
      "385.0\n"
     ]
    },
    {
     "name": "stderr",
     "output_type": "stream",
     "text": [
      "<lambdifygenerated-27>:2: RuntimeWarning: invalid value encountered in sqrt\n",
      "  return (select([less_equal(w, 0),True], [0,0.25*f_c*s*(-sqrt(2)*sqrt(w/d_a) + 1)*((2.44 - 39.04/f_c)*abs(s/w)**3 + 9.8/f_c)/(w*(s**4*(2.44 - 39.04/f_c)/w**4 + 1))], default=nan))\n"
     ]
    },
    {
     "name": "stdout",
     "output_type": "stream",
     "text": [
      "385.0\n"
     ]
    },
    {
     "name": "stderr",
     "output_type": "stream",
     "text": [
      "<lambdifygenerated-26>:2: RuntimeWarning: overflow encountered in exp\n",
      "  return (select([less(f_c, -35.7142857142857*d_a**(-0.32)*f_c**(-0.18)*f_t**2*w),less_equal(w, 0.028*d_a**0.32*f_c**0.18/f_t),True], [-f_c,35.7142857142857*d_a**(-0.32)*f_c**(-0.18)*f_t**2*w,f_t*exp(-35.7142857142857*d_a**(-0.32)*f_c**(-0.18)*f_t*(-0.028*d_a**0.32*f_c**0.18/f_t + w))], default=nan))\n",
      "<lambdifygenerated-29>:2: RuntimeWarning: invalid value encountered in sqrt\n",
      "  return (select([less(w, (1/2)*A_f*Dummy_161**2/(Dummy_162*Dummy_163*p)),True], [sqrt(2)*sqrt(A_f)*sqrt(Dummy_162)*sqrt(Dummy_163)*sqrt(p)*sqrt(w),A_f*Dummy_161], default=nan))\n"
     ]
    },
    {
     "name": "stdout",
     "output_type": "stream",
     "text": [
      "385.0\n"
     ]
    },
    {
     "name": "stderr",
     "output_type": "stream",
     "text": [
      "<lambdifygenerated-26>:2: RuntimeWarning: overflow encountered in multiply\n",
      "  return (select([less(f_c, -35.7142857142857*d_a**(-0.32)*f_c**(-0.18)*f_t**2*w),less_equal(w, 0.028*d_a**0.32*f_c**0.18/f_t),True], [-f_c,35.7142857142857*d_a**(-0.32)*f_c**(-0.18)*f_t**2*w,f_t*exp(-35.7142857142857*d_a**(-0.32)*f_c**(-0.18)*f_t*(-0.028*d_a**0.32*f_c**0.18/f_t + w))], default=nan))\n"
     ]
    },
    {
     "name": "stdout",
     "output_type": "stream",
     "text": [
      "385.0\n",
      "770.0\n",
      "770.0\n",
      "770.0\n",
      "770.0\n",
      "1155.0\n",
      "1155.0\n",
      "1155.0\n",
      "1155.0\n",
      "1540.0\n",
      "1540.0\n",
      "1540.0\n"
     ]
    },
    {
     "name": "stderr",
     "output_type": "stream",
     "text": [
      "<lambdifygenerated-5>:2: RuntimeWarning: invalid value encountered in sqrt\n",
      "  return ((-Dummy_35*c_psi + Dummy_37*c_psi - Dummy_39*c_psi**2 - Dummy_39*s_psi**2 + Dummy_40*s_psi**2 - sqrt(Dummy_35**2*c_psi**2 - 2*Dummy_35*Dummy_37*c_psi**2 - 2*Dummy_35*Dummy_38*c_psi**2*s_psi - 2*Dummy_35*Dummy_38*s_psi**3 + 2*Dummy_35*Dummy_39*c_psi**3 + 2*Dummy_35*Dummy_39*c_psi*s_psi**2 - 2*Dummy_35*Dummy_40*c_psi*s_psi**2 + Dummy_37**2*c_psi**2 + 2*Dummy_37*Dummy_38*c_psi**2*s_psi + 2*Dummy_37*Dummy_38*s_psi**3 - 2*Dummy_37*Dummy_39*c_psi**3 - 2*Dummy_37*Dummy_39*c_psi*s_psi**2 + 2*Dummy_37*Dummy_40*c_psi*s_psi**2 - Dummy_38**2*c_psi**4 - 2*Dummy_38**2*c_psi**2*s_psi**2 - Dummy_38**2*s_psi**4 - 2*Dummy_38*Dummy_40*c_psi**3*s_psi - 2*Dummy_38*Dummy_40*c_psi*s_psi**3 + Dummy_39**2*c_psi**4 + 2*Dummy_39**2*c_psi**2*s_psi**2 + Dummy_39**2*s_psi**4 - 2*Dummy_39*Dummy_40*c_psi**2*s_psi**2 - 2*Dummy_39*Dummy_40*s_psi**4 + Dummy_40**2*s_psi**4))/(c_psi**2 + s_psi**2))\n",
      "<lambdifygenerated-13>:2: RuntimeWarning: invalid value encountered in sqrt\n",
      "  return ((-2*Dummy_87*s_psi + 2*Dummy_88*s_psi - (-Dummy_83*Dummy_86*c_psi**2 - 3*Dummy_83*Dummy_86*s_psi**2 + 2*Dummy_83*Dummy_87*c_psi*s_psi - 2*Dummy_83*Dummy_88*c_psi*s_psi + Dummy_85*Dummy_86*c_psi**2 + 3*Dummy_85*Dummy_86*s_psi**2 - 2*Dummy_85*Dummy_87*c_psi*s_psi + 2*Dummy_85*Dummy_88*c_psi*s_psi - 2*Dummy_86**2*c_psi**2*s_psi - 2*Dummy_86**2*s_psi**3 - Dummy_86*Dummy_88*c_psi**3 - 3*Dummy_86*Dummy_88*c_psi*s_psi**2 + 2*Dummy_87**2*c_psi**2*s_psi + 2*Dummy_87**2*s_psi**3 - 2*Dummy_87*Dummy_88*c_psi**2*s_psi - 4*Dummy_87*Dummy_88*s_psi**3 + 2*Dummy_88**2*s_psi**3)/sqrt(Dummy_83**2*c_psi**2 - 2*Dummy_83*Dummy_85*c_psi**2 - 2*Dummy_83*Dummy_86*c_psi**2*s_psi - 2*Dummy_83*Dummy_86*s_psi**3 + 2*Dummy_83*Dummy_87*c_psi**3 + 2*Dummy_83*Dummy_87*c_psi*s_psi**2 - 2*Dummy_83*Dummy_88*c_psi*s_psi**2 + Dummy_85**2*c_psi**2 + 2*Dummy_85*Dummy_86*c_psi**2*s_psi + 2*Dummy_85*Dummy_86*s_psi**3 - 2*Dummy_85*Dummy_87*c_psi**3 - 2*Dummy_85*Dummy_87*c_psi*s_psi**2 + 2*Dummy_85*Dummy_88*c_psi*s_psi**2 - Dummy_86**2*c_psi**4 - 2*Dummy_86**2*c_psi**2*s_psi**2 - Dummy_86**2*s_psi**4 - 2*Dummy_86*Dummy_88*c_psi**3*s_psi - 2*Dummy_86*Dummy_88*c_psi*s_psi**3 + Dummy_87**2*c_psi**4 + 2*Dummy_87**2*c_psi**2*s_psi**2 + Dummy_87**2*s_psi**4 - 2*Dummy_87*Dummy_88*c_psi**2*s_psi**2 - 2*Dummy_87*Dummy_88*s_psi**4 + Dummy_88**2*s_psi**4))*cos(psi) - (-Dummy_83 + Dummy_85 - 2*Dummy_87*c_psi - (Dummy_83**2*c_psi - 2*Dummy_83*Dummy_85*c_psi - 2*Dummy_83*Dummy_86*c_psi*s_psi + 3*Dummy_83*Dummy_87*c_psi**2 + Dummy_83*Dummy_87*s_psi**2 - Dummy_83*Dummy_88*s_psi**2 + Dummy_85**2*c_psi + 2*Dummy_85*Dummy_86*c_psi*s_psi - 3*Dummy_85*Dummy_87*c_psi**2 - Dummy_85*Dummy_87*s_psi**2 + Dummy_85*Dummy_88*s_psi**2 - 2*Dummy_86**2*c_psi**3 - 2*Dummy_86**2*c_psi*s_psi**2 - 3*Dummy_86*Dummy_88*c_psi**2*s_psi - Dummy_86*Dummy_88*s_psi**3 + 2*Dummy_87**2*c_psi**3 + 2*Dummy_87**2*c_psi*s_psi**2 - 2*Dummy_87*Dummy_88*c_psi*s_psi**2)/sqrt(Dummy_83**2*c_psi**2 - 2*Dummy_83*Dummy_85*c_psi**2 - 2*Dummy_83*Dummy_86*c_psi**2*s_psi - 2*Dummy_83*Dummy_86*s_psi**3 + 2*Dummy_83*Dummy_87*c_psi**3 + 2*Dummy_83*Dummy_87*c_psi*s_psi**2 - 2*Dummy_83*Dummy_88*c_psi*s_psi**2 + Dummy_85**2*c_psi**2 + 2*Dummy_85*Dummy_86*c_psi**2*s_psi + 2*Dummy_85*Dummy_86*s_psi**3 - 2*Dummy_85*Dummy_87*c_psi**3 - 2*Dummy_85*Dummy_87*c_psi*s_psi**2 + 2*Dummy_85*Dummy_88*c_psi*s_psi**2 - Dummy_86**2*c_psi**4 - 2*Dummy_86**2*c_psi**2*s_psi**2 - Dummy_86**2*s_psi**4 - 2*Dummy_86*Dummy_88*c_psi**3*s_psi - 2*Dummy_86*Dummy_88*c_psi*s_psi**3 + Dummy_87**2*c_psi**4 + 2*Dummy_87**2*c_psi**2*s_psi**2 + Dummy_87**2*s_psi**4 - 2*Dummy_87*Dummy_88*c_psi**2*s_psi**2 - 2*Dummy_87*Dummy_88*s_psi**4 + Dummy_88**2*s_psi**4))*sin(psi))\n",
      "<lambdifygenerated-14>:2: RuntimeWarning: invalid value encountered in sqrt\n",
      "  return (c_psi - (-Dummy_89*c_psi**2 + Dummy_91*c_psi**2 + Dummy_92*c_psi**2*s_psi + Dummy_92*s_psi**3 - Dummy_93*c_psi**3 - Dummy_93*c_psi*s_psi**2 + Dummy_94*c_psi*s_psi**2)/sqrt(Dummy_89**2*c_psi**2 - 2*Dummy_89*Dummy_91*c_psi**2 - 2*Dummy_89*Dummy_92*c_psi**2*s_psi - 2*Dummy_89*Dummy_92*s_psi**3 + 2*Dummy_89*Dummy_93*c_psi**3 + 2*Dummy_89*Dummy_93*c_psi*s_psi**2 - 2*Dummy_89*Dummy_94*c_psi*s_psi**2 + Dummy_91**2*c_psi**2 + 2*Dummy_91*Dummy_92*c_psi**2*s_psi + 2*Dummy_91*Dummy_92*s_psi**3 - 2*Dummy_91*Dummy_93*c_psi**3 - 2*Dummy_91*Dummy_93*c_psi*s_psi**2 + 2*Dummy_91*Dummy_94*c_psi*s_psi**2 - Dummy_92**2*c_psi**4 - 2*Dummy_92**2*c_psi**2*s_psi**2 - Dummy_92**2*s_psi**4 - 2*Dummy_92*Dummy_94*c_psi**3*s_psi - 2*Dummy_92*Dummy_94*c_psi*s_psi**3 + Dummy_93**2*c_psi**4 + 2*Dummy_93**2*c_psi**2*s_psi**2 + Dummy_93**2*s_psi**4 - 2*Dummy_93*Dummy_94*c_psi**2*s_psi**2 - 2*Dummy_93*Dummy_94*s_psi**4 + Dummy_94**2*s_psi**4))\n"
     ]
    },
    {
     "name": "stdout",
     "output_type": "stream",
     "text": [
      "1540.0\n",
      "1925.0\n",
      "1925.0\n",
      "1925.0\n",
      "1925.0\n",
      "2310.0\n",
      "2310.0\n",
      "2310.0\n",
      "2310.0\n",
      "2695.0\n",
      "2695.0\n",
      "2695.0\n",
      "2695.0\n",
      "3080.0\n",
      "3080.0\n",
      "3080.0\n",
      "3080.0\n",
      "3465.0\n",
      "3465.0\n",
      "3465.0\n",
      "3465.0\n",
      "F_max = [[ 148161.7343198   119325.75337597  873202.66834347  132913.90211146]\n",
      " [ 160457.58075781  128190.52706756  152900.86227618  133346.05053758]\n",
      " [ 176298.53739605  145571.68948662  146601.66962963  143107.46925716]\n",
      " [ 197301.62701104  202828.35513967  148446.33299444  171255.37496511]\n",
      " [ 225809.66960809 1807911.62983916  181630.38141613  192963.33797715]\n",
      " [ 266401.13797408  215141.04892309  257793.10489802  209049.67159227]\n",
      " [ 327707.89259823  268127.25723509  216747.73680331  246665.57613817]\n",
      " [ 428450.17257155  359242.87245833  294586.63963266 1844687.50753902]\n",
      " [ 643913.40286205  554173.47344641  540026.95395213  523654.3558123 ]]\n",
      "F_Na = [[   26589.30742288    26861.10810933 -8448375.94216762    28423.40995509]\n",
      " [   26621.02681246    27446.72092433    28372.90846489    28364.21715788]\n",
      " [   26640.94416117    27093.06248868    27372.51154619    28617.31117826]\n",
      " [   26638.40833717    28264.28435094    28636.08458775    28101.12263803]\n",
      " [   26618.40253821 -7962486.86196185    28237.74730898    27849.36817223]\n",
      " [   26582.38251334    26893.48373289    27137.86957466    27784.63178748]\n",
      " [   26534.62726401    26877.36393797    28273.99726468    27416.42026343]\n",
      " [   26520.67878995    26829.09448166    28132.51678525 -2340680.52308425]\n",
      " [   26486.44402948    16848.48469975    16257.20043866    16656.42785989]]\n",
      "F_s = [[526131.71754085 429379.96554576 878062.58030773 459514.51897995]\n",
      " [511480.98718259 402028.11721104 475461.1359897  413080.34707285]\n",
      " [497294.49254003 410679.03777538 431253.1507962  387477.62210911]\n",
      " [483698.74398586 448999.17876211 316956.31245431 410693.55937912]\n",
      " [469887.09901283 878062.58030773 337374.97122655 394435.22731038]\n",
      " [455119.21511388 387998.63053254 422528.35448123 356199.88681218]\n",
      " [437574.43910504 377999.24802501 270367.6897096  339561.9123396 ]\n",
      " [412851.18364232 364551.88280849 263727.56264299 878062.58030773]\n",
      " [383810.6160445  166656.50344591 154776.77525214 146627.98262893]]\n",
      "slip = [[2.31098939e-01 2.07253239e-01 8.15276521e+02 7.09773716e-02]\n",
      " [2.28319879e-01 1.56196925e-01 7.53555211e-02 7.61643484e-02]\n",
      " [2.26649443e-01 1.87106544e-01 1.62667325e-01 5.41123240e-02]\n",
      " [2.26945181e-01 8.50006653e-02 4.88552522e-02 9.89633072e-02]\n",
      " [2.28710605e-01 7.69681645e+02 8.72889631e-02 1.21030090e-01]\n",
      " [2.31955264e-01 2.04621515e-01 1.83266772e-01 1.26731472e-01]\n",
      " [2.36136005e-01 2.05833632e-01 8.40778389e-02 1.58766791e-01]\n",
      " [2.37671037e-01 2.10444057e-01 9.67102807e-02 2.19983185e+02]\n",
      " [2.41232282e-01 1.87490327e-02 1.76016334e-02 1.85006915e-02]]\n",
      "w = [[8.49693122e-01 5.70214798e-01 1.28790491e+02 6.49755249e-01]\n",
      " [8.03492868e-01 5.00563519e-01 6.94396159e-01 5.26420651e-01]\n",
      " [7.60016936e-01 5.22043887e-01 5.72010285e-01 4.63768750e-01]\n",
      " [7.19498602e-01 6.22617364e-01 3.14978755e-01 5.20006597e-01]\n",
      " [6.79539141e-01 8.75218839e+01 3.56115455e-01 4.80489464e-01]\n",
      " [6.38144234e-01 4.65760184e-01 5.52013389e-01 3.93146006e-01]\n",
      " [5.90800676e-01 4.42459299e-01 2.29320627e-01 3.58347984e-01]\n",
      " [5.27408533e-01 4.12524991e-01 2.18805581e-01 2.83229710e+02]\n",
      " [4.58628396e-01 9.07529098e-02 7.88397513e-02 7.11822676e-02]]\n",
      "steel_slip = [[2.30672841e-01 2.06964262e-01 7.39483364e+02 7.06880869e-02]\n",
      " [2.27906028e-01 1.55882536e-01 7.50932215e-02 7.58513452e-02]\n",
      " [2.26168681e-01 1.86731388e-01 1.62355658e-01 5.37745071e-02]\n",
      " [2.26389876e-01 8.45682655e-02 4.85381711e-02 9.88005050e-02]\n",
      " [2.28134938e-01 6.97100322e+02 8.68830337e-02 1.20760497e-01]\n",
      " [2.31276886e-01 2.04140207e-01 1.82822964e-01 1.26407310e-01]\n",
      " [2.35442472e-01 2.05546301e-01 8.37210293e-02 1.58525596e-01]\n",
      " [2.36659167e-01 2.09756740e-01 9.60620622e-02 2.06722445e+02]\n",
      " [2.39645390e-01 1.79010356e-02 1.71074485e-02 1.76411340e-02]]\n",
      "w_steel = [[7.60511607e-01 5.06524472e-01 9.89364103e+01 5.80116683e-01]\n",
      " [7.18746708e-01 4.44047812e-01 6.21079116e-01 4.68798211e-01]\n",
      " [6.79429153e-01 4.63363639e-01 5.10953574e-01 4.12486872e-01]\n",
      " [6.42786576e-01 5.53870165e-01 2.76004199e-01 4.63396408e-01]\n",
      " [6.06602117e-01 5.43494813e+01 3.12710598e-01 4.27433217e-01]\n",
      " [5.69072006e-01 4.13596890e-01 4.90488236e-01 3.48581579e-01]\n",
      " [5.26042422e-01 3.92553407e-01 2.00829015e-01 3.16777860e-01]\n",
      " [4.68278207e-01 3.65119956e-01 1.91085583e-01 2.51605789e+02]\n",
      " [4.04716439e-01 7.63064783e-02 6.58155427e-02 5.90677731e-02]]\n",
      "shear_stress = [[  121.1872639    192.67561471 -6272.07342296    48.09959367]\n",
      " [  129.56790884   160.1490948     47.13529719    66.70862129]\n",
      " [  139.39517067   191.84973513   139.09354264    54.61758091]\n",
      " [  151.63720871    60.92565199    77.31911543    89.27711575]\n",
      " [  167.33113435 -4803.70391641   125.39713424   123.85741323]\n",
      " [  188.62720472   266.15920915   170.93228385   173.46870522]\n",
      " [  220.18998221   294.92156618   221.08273839   280.3818661 ]\n",
      " [  271.80252492   349.59355623   295.67906305 -4863.78695415]\n",
      " [  363.35937341   117.08528724   128.6693864    154.1873166 ]]\n",
      "F_a = [[    49455.81774177    139557.91434515 -11292994.39970336\n",
      "      32533.6562244 ]\n",
      " [    48935.71348298    105241.11522724     38026.43501454\n",
      "      28077.26175754]\n",
      " [    48335.11675738    115511.83871895    124358.00680973\n",
      "      36853.33332391]\n",
      " [    47411.45957598    -31961.29022847    -32728.35625546\n",
      "      49042.65773804]\n",
      " [    46109.18283904  -9978897.80427971    -15126.25739389\n",
      "      61706.79399398]\n",
      " [    44109.79044867     94473.83320039     37543.42913322\n",
      "     126446.98623146]\n",
      " [    41240.62641631     84681.22711438     80606.58445461\n",
      "     138412.669169  ]\n",
      " [    37430.98114556     75149.91706846     81059.64316623\n",
      "   -2209012.45992684]\n",
      " [    28290.38182584     26756.19596133     31662.21898584\n",
      "      36658.59397969]]\n"
     ]
    }
   ],
   "source": [
    "L_fps_num = 4\n",
    "L_fps_ = np.linspace(2, 80, L_fps_num)\n",
    "crack_positions_num = 9\n",
    "crack_positions = np.linspace(ce.sz_bd.L  * 0.1, ce.sz_bd.L  * 0.9, crack_positions_num) \n",
    "# F_max = []\n",
    "F_max = np.zeros([crack_positions_num, L_fps_num])\n",
    "F_Na = np.zeros([crack_positions_num, L_fps_num])\n",
    "F_s = np.zeros([crack_positions_num, L_fps_num])\n",
    "F_a = np.zeros([crack_positions_num, L_fps_num])\n",
    "slip = np.zeros([crack_positions_num, L_fps_num])\n",
    "steel_slip = np.zeros([crack_positions_num, L_fps_num])\n",
    "shear_stress = np.zeros([crack_positions_num, L_fps_num])\n",
    "w = np.zeros([crack_positions_num, L_fps_num])\n",
    "w_steel = np.zeros([crack_positions_num, L_fps_num])\n",
    "F_agg = np.zeros([crack_positions_num, L_fps_num])\n",
    "for i in range(len(crack_positions)):\n",
    "    for j in range(len(L_fps_)):\n",
    "        ce.reset()\n",
    "        ce.sz_cp.trait_set(x_00=crack_positions[i])\n",
    "        print(crack_positions[i])\n",
    "        ce.sz_cp.sz_ctr.trait_set(L_fps=L_fps_[j])\n",
    "        #print(L_fps_[j])\n",
    "        ce.run()\n",
    "        F_beam = ce.F_beam\n",
    "        F_max_ = np.max(F_beam)\n",
    "        F_max_i_ = np.argmax(F_beam)\n",
    "        F_max_i_int = np.array(F_max_i_)\n",
    "        F_Na_ = ce.F_Na[F_max_i_int]\n",
    "        F_s_ = ce.F_s[F_max_i_int]\n",
    "        slip_ = ce.slip[F_max_i_int][0]\n",
    "        w_ = ce.w[F_max_i_int][0]\n",
    "        steel_slip_ = ce.s_steel[F_max_i_int]\n",
    "        w_steel_ = ce.w_steel[F_max_i_int]\n",
    "        shear_stress_ = ce.shear_agg[F_max_i_int][0]\n",
    "        F_a_ = ce.F_a[F_max_i_int][1]\n",
    "        F_agg_ = F_a_ - F_Na_\n",
    "        F_max[i, j] = F_max_\n",
    "        F_Na[i,j] = F_Na_\n",
    "        F_s[i,j] = F_s_\n",
    "        slip[i,j] = slip_\n",
    "        w[i,j] = w_\n",
    "        steel_slip[i,j] = steel_slip_\n",
    "        w_steel[i,j] = w_steel_\n",
    "        shear_stress[i,j] = shear_stress_\n",
    "        F_a[i,j] = F_a_\n",
    "        F_agg[i,j] = F_agg_\n",
    "        \n",
    "        \n",
    "#         F_max_i.append(F_max_i_)\n",
    "    #F_max_all = np.concatenate(F_max_1)\n",
    "print('F_max =', F_max)\n",
    "print('F_Na =', F_Na)\n",
    "print('F_s =', F_s)\n",
    "print('slip =', slip)\n",
    "print('w =', w)\n",
    "print('steel_slip =', steel_slip)\n",
    "print('w_steel =', w_steel)\n",
    "print('shear_stress =', shear_stress)\n",
    "print('F_a =', F_a)\n",
    "    #r.append(F_max)\n",
    "#         F_Na.append(F_Na_)\n",
    "#         F_s.append(F_s_)\n",
    "#         F_a.append(F_a_)\n",
    "#         F_agg.append(F_agg_)\n",
    "#         #slip.append(slip_)\n",
    "#         #w.append(w_)\n",
    "#         steel_slip.append(steel_slip_)\n",
    "#         w_steel.append(w_steel_)\n",
    "        #shear_stress.append(shear_stress_)\n",
    "    #print('slip =', slip)\n",
    "    #print('w =', w)\n",
    "#     print('steel_slip =', steel_slip)\n",
    "#     print('L_fps =', L_fps_)\n",
    "#     print('crack_position =', crack_positions)"
   ]
  },
  {
   "cell_type": "code",
   "execution_count": 37,
   "metadata": {},
   "outputs": [
    {
     "data": {
      "application/vnd.jupyter.widget-view+json": {
       "model_id": "3dcceed07a5f4a7bad60b01ed8cc487d",
       "version_major": 2,
       "version_minor": 0
      },
      "text/plain": [
       "Canvas(toolbar=Toolbar(toolitems=[('Home', 'Reset original view', 'home', 'home'), ('Back', 'Back to previous …"
      ]
     },
     "metadata": {},
     "output_type": "display_data"
    }
   ],
   "source": [
    "import matplotlib.pylab as plt\n",
    "_, (ax1, ax2) = plt.subplots(1, 2, figsize=(11,4))\n",
    "ax1.plot(L_fps_, F_max[0,:], lw= 2, label = r'$x_{00} = 0.1L$');\n",
    "ax1.plot(L_fps_, F_max[1,:], lw= 2, label = r'$x_{00} = 0.2L$');\n",
    "ax1.plot(L_fps_, F_max[2,:], lw= 2, label = r'$x_{00} = 0.3L$');\n",
    "ax1.plot(L_fps_, F_max[3,:], lw= 2, label = r'$x_{00} = 0.4L$');\n",
    "ax1.plot(L_fps_, F_max[4,:], lw= 2, label = r'$x_{00} = 0.5L$');\n",
    "ax1.plot(L_fps_, F_max[5,:], lw= 2, label = r'$x_{00} = 0.6L$');\n",
    "ax1.plot(L_fps_, F_max[6,:], lw= 2, label = r'$x_{00} = 0.7L$');\n",
    "ax1.plot(L_fps_, F_max[7,:], lw= 2, label = r'$x_{00} = 0.8L$');\n",
    "ax1.plot(L_fps_, F_max[8,:], lw= 2, label = r'$x_{00} = 0.9L$');\n",
    "#ax1.plot(crack_positions, slip, color = 'red', lw= 2, label = r'$s(mm)}$');\n",
    "ax1.set_xlabel(r'$\\mathrm{Length\\,of\\,FPZ\\,(mm)}$'); ax1.set_ylabel(r'$F_{max}\\,(N)$');\n",
    "ax1.set_title(r'Maximum Force Contribution')\n",
    "ax1.legend()\n",
    "ax2.plot(L_fps_, F_Na[0,:], lw= 2, label = r'$x_{00} = 0.1L$');\n",
    "ax2.plot(L_fps_, F_Na[1,:], lw= 2, label = r'$x_{00} = 0.2L$');\n",
    "ax2.plot(L_fps_, F_Na[2,:], lw= 2, label = r'$x_{00} = 0.3L$');\n",
    "ax2.plot(L_fps_, F_Na[3,:], lw= 2, label = r'$x_{00} = 0.4L$');\n",
    "ax2.plot(L_fps_, F_Na[4,:], lw= 2, label = r'$x_{00} = 0.5L$');\n",
    "ax2.plot(L_fps_, F_Na[5,:], lw= 2, label = r'$x_{00} = 0.6L$');\n",
    "ax2.plot(L_fps_, F_Na[6,:], lw= 2, label = r'$x_{00} = 0.7L$');\n",
    "ax2.plot(L_fps_, F_Na[7,:], lw= 2, label = r'$x_{00} = 0.8L$');\n",
    "ax2.plot(L_fps_, F_Na[8,:], lw= 2, label = r'$x_{00} = 0.9L$');\n",
    "ax2.set_xlabel(r'$\\mathrm{Length\\,of\\,FPZ\\,(mm)}$'); ax2.set_ylabel(r'$F_{Na}\\,(N)$');\n",
    "ax2.set_title(r'Maximum Dowel Force Contribution')\n",
    "ax2.legend()\n",
    "plt.savefig(\"D:\\Shear zones\\Python plots\\F_max_F_steel_all_crack_points.pdf\")"
   ]
  },
  {
   "cell_type": "code",
   "execution_count": 38,
   "metadata": {},
   "outputs": [
    {
     "data": {
      "application/vnd.jupyter.widget-view+json": {
       "model_id": "dcde8be1d77e449786978179eb902c2b",
       "version_major": 2,
       "version_minor": 0
      },
      "text/plain": [
       "Canvas(toolbar=Toolbar(toolitems=[('Home', 'Reset original view', 'home', 'home'), ('Back', 'Back to previous …"
      ]
     },
     "metadata": {},
     "output_type": "display_data"
    }
   ],
   "source": [
    "import matplotlib.pylab as plt\n",
    "_, (ax1, ax2) = plt.subplots(1, 2, figsize=(11,4))\n",
    "ax1.plot(L_fps_, F_s[0,:], lw= 2, label = r'$x_{00} = 0.1L$');\n",
    "ax1.plot(L_fps_, F_s[1,:], lw= 2, label = r'$x_{00} = 0.2L$');\n",
    "ax1.plot(L_fps_, F_s[2,:], lw= 2, label = r'$x_{00} = 0.3L$');\n",
    "ax1.plot(L_fps_, F_s[3,:], lw= 2, label = r'$x_{00} = 0.4L$');\n",
    "ax1.plot(L_fps_, F_s[4,:], lw= 2, label = r'$x_{00} = 0.5L$');\n",
    "ax1.plot(L_fps_, F_s[5,:], lw= 2, label = r'$x_{00} = 0.6L$');\n",
    "ax1.plot(L_fps_, F_s[6,:], lw= 2, label = r'$x_{00} = 0.7L$');\n",
    "ax1.plot(L_fps_, F_s[7,:], lw= 2, label = r'$x_{00} = 0.8L$');\n",
    "ax1.plot(L_fps_, F_s[8,:], lw= 2, label = r'$x_{00} = 0.9L$');\n",
    "#ax1.plot(crack_positions, slip, color = 'red', lw= 2, label = r'$s(mm)}$');\n",
    "ax1.set_xlabel(r'$\\mathrm{Length\\,of\\,FPZ\\,(mm)}$'); ax1.set_ylabel(r'$F_{s}\\,(N)$');\n",
    "ax1.set_title(r'Maximum Horizontal Force Contribution at reinforcement')\n",
    "ax1.legend()\n",
    "ax2.plot(L_fps_, F_a[0,:], lw= 2, label = r'$x_{00} = 0.1L$');\n",
    "ax2.plot(L_fps_, F_a[1,:], lw= 2, label = r'$x_{00} = 0.2L$');\n",
    "ax2.plot(L_fps_, F_a[2,:], lw= 2, label = r'$x_{00} = 0.3L$');\n",
    "ax2.plot(L_fps_, F_a[3,:], lw= 2, label = r'$x_{00} = 0.4L$');\n",
    "ax2.plot(L_fps_, F_a[4,:], lw= 2, label = r'$x_{00} = 0.5L$');\n",
    "ax2.plot(L_fps_, F_a[5,:], lw= 2, label = r'$x_{00} = 0.6L$');\n",
    "ax2.plot(L_fps_, F_a[6,:], lw= 2, label = r'$x_{00} = 0.7L$');\n",
    "ax2.plot(L_fps_, F_a[7,:], lw= 2, label = r'$x_{00} = 0.8L$');\n",
    "ax2.plot(L_fps_, F_a[8,:], lw= 2, label = r'$x_{00} = 0.9L$');\n",
    "#ax1.plot(crack_positions, slip, color = 'red', lw= 2, label = r'$s(mm)}$');\n",
    "ax2.set_xlabel(r'$\\mathrm{Length\\,of\\,FPZ\\,(mm)}$'); ax2.set_ylabel(r'$F_{ag}\\,(N)$');\n",
    "ax2.set_title(r'Maximum Aggregate Force Contribution at Ultimate state')\n",
    "ax2.legend()\n",
    "plt.savefig(\"D:\\Shear zones\\Python plots\\F_a_F_steel_h_all_crack_points.pdf\")"
   ]
  },
  {
   "cell_type": "code",
   "execution_count": 39,
   "metadata": {},
   "outputs": [
    {
     "data": {
      "application/vnd.jupyter.widget-view+json": {
       "model_id": "eb2ae6b668664ebaab7c799c167d95fd",
       "version_major": 2,
       "version_minor": 0
      },
      "text/plain": [
       "Canvas(toolbar=Toolbar(toolitems=[('Home', 'Reset original view', 'home', 'home'), ('Back', 'Back to previous …"
      ]
     },
     "metadata": {},
     "output_type": "display_data"
    }
   ],
   "source": [
    "import matplotlib.pylab as plt\n",
    "_, (ax1, ax2) = plt.subplots(1, 2, figsize=(11,4))\n",
    "ax1.plot(L_fps_, steel_slip[0,:], lw= 2, label = r'$x_{00} = 0.1L$');\n",
    "ax1.plot(L_fps_, steel_slip[1,:], lw= 2, label = r'$x_{00} = 0.2L$');\n",
    "ax1.plot(L_fps_, steel_slip[2,:], lw= 2, label = r'$x_{00} = 0.3L$');\n",
    "ax1.plot(L_fps_, steel_slip[3,:], lw= 2, label = r'$x_{00} = 0.4L$');\n",
    "ax1.plot(L_fps_, steel_slip[4,:], lw= 2, label = r'$x_{00} = 0.5L$');\n",
    "ax1.plot(L_fps_, steel_slip[5,:], lw= 2, label = r'$x_{00} = 0.6L$');\n",
    "ax1.plot(L_fps_, steel_slip[6,:], lw= 2, label = r'$x_{00} = 0.7L$');\n",
    "ax1.plot(L_fps_, steel_slip[7,:], lw= 2, label = r'$x_{00} = 0.8L$');\n",
    "ax1.plot(L_fps_, steel_slip[8,:], lw= 2, label = r'$x_{00} = 0.9L$');\n",
    "#ax1.plot(crack_positions, slip, color = 'red', lw= 2, label = r'$s(mm)}$');\n",
    "ax1.set_xlabel(r'$\\mathrm{Length\\,of\\,FPZ\\,(mm)}$'); ax1.set_ylabel(r'$s\\,(mm)$');\n",
    "ax1.set_title(r'Slip displacement at steel reinforcement')\n",
    "ax1.legend()\n",
    "ax2.plot(L_fps_, w_steel[0,:], lw= 2, label = r'$x_{00} = 0.1L$');\n",
    "ax2.plot(L_fps_, w_steel[1,:], lw= 2, label = r'$x_{00} = 0.2L$');\n",
    "ax2.plot(L_fps_, w_steel[2,:], lw= 2, label = r'$x_{00} = 0.3L$');\n",
    "ax2.plot(L_fps_, w_steel[3,:], lw= 2, label = r'$x_{00} = 0.4L$');\n",
    "ax2.plot(L_fps_, w_steel[4,:], lw= 2, label = r'$x_{00} = 0.5L$');\n",
    "ax2.plot(L_fps_, w_steel[5,:], lw= 2, label = r'$x_{00} = 0.6L$');\n",
    "ax2.plot(L_fps_, w_steel[6,:], lw= 2, label = r'$x_{00} = 0.7L$');\n",
    "ax2.plot(L_fps_, w_steel[7,:], lw= 2, label = r'$x_{00} = 0.8L$');\n",
    "ax2.plot(L_fps_, w_steel[8,:], lw= 2, label = r'$x_{00} = 0.9L$');\n",
    "#ax1.plot(crack_positions, slip, color = 'red', lw= 2, label = r'$s(mm)}$');\n",
    "ax2.set_xlabel(r'$\\mathrm{Length\\,of\\,FPZ\\,(mm)}$'); ax2.set_ylabel(r'$w\\,(mm)$');\n",
    "ax2.set_title(r'Longitudinal crack opening at steel reinforcement')\n",
    "ax2.legend()\n",
    "plt.savefig(\"D:\\Shear zones\\Python plots\\crack_position_l_2_newcrack_position_l_2_new.pdf\")"
   ]
  },
  {
   "cell_type": "code",
   "execution_count": 40,
   "metadata": {},
   "outputs": [
    {
     "data": {
      "application/vnd.jupyter.widget-view+json": {
       "model_id": "5ea715482fa94de784b789acd6241359",
       "version_major": 2,
       "version_minor": 0
      },
      "text/plain": [
       "Canvas(toolbar=Toolbar(toolitems=[('Home', 'Reset original view', 'home', 'home'), ('Back', 'Back to previous …"
      ]
     },
     "metadata": {},
     "output_type": "display_data"
    }
   ],
   "source": [
    "import matplotlib.pylab as plt\n",
    "_, (ax1, ax2) = plt.subplots(1, 2, figsize=(11,4))\n",
    "ax1.plot(L_fps_, slip[0,:], lw= 2, label = r'$x_{00} = 0.1L$');\n",
    "ax1.plot(L_fps_, slip[1,:], lw= 2, label = r'$x_{00} = 0.2L$');\n",
    "ax1.plot(L_fps_, slip[2,:], lw= 2, label = r'$x_{00} = 0.3L$');\n",
    "ax1.plot(L_fps_, slip[3,:], lw= 2, label = r'$x_{00} = 0.4L$');\n",
    "ax1.plot(L_fps_, slip[4,:], lw= 2, label = r'$x_{00} = 0.5L$');\n",
    "ax1.plot(L_fps_, slip[5,:], lw= 2, label = r'$x_{00} = 0.6L$');\n",
    "ax1.plot(L_fps_, slip[6,:], lw= 2, label = r'$x_{00} = 0.7L$');\n",
    "ax1.plot(L_fps_, slip[7,:], lw= 2, label = r'$x_{00} = 0.8L$');\n",
    "ax1.plot(L_fps_, slip[8,:], lw= 2, label = r'$x_{00} = 0.9L$');\n",
    "#ax1.plot(crack_positions, slip, color = 'red', lw= 2, label = r'$s(mm)}$');\n",
    "ax1.set_xlabel(r'$\\mathrm{Length\\,of\\,FPZ\\,(mm)}$'); ax1.set_ylabel(r'$s\\,(mm)$');\n",
    "ax1.set_title(r'Slip displacement at interlock at ultimate state')\n",
    "ax1.legend()\n",
    "ax2.plot(L_fps_, shear_stress[0,:], lw= 2, label = r'$x_{00} = 0.1L$');\n",
    "ax2.plot(L_fps_, shear_stress[1,:], lw= 2, label = r'$x_{00} = 0.2L$');\n",
    "ax2.plot(L_fps_, shear_stress[2,:], lw= 2, label = r'$x_{00} = 0.3L$');\n",
    "ax2.plot(L_fps_, shear_stress[3,:], lw= 2, label = r'$x_{00} = 0.4L$');\n",
    "ax2.plot(L_fps_, shear_stress[4,:], lw= 2, label = r'$x_{00} = 0.5L$');\n",
    "ax2.plot(L_fps_, shear_stress[5,:], lw= 2, label = r'$x_{00} = 0.6L$');\n",
    "ax2.plot(L_fps_, shear_stress[6,:], lw= 2, label = r'$x_{00} = 0.7L$');\n",
    "ax2.plot(L_fps_, shear_stress[7,:], lw= 2, label = r'$x_{00} = 0.8L$');\n",
    "ax2.plot(L_fps_, shear_stress[8,:], lw= 2, label = r'$x_{00} = 0.9L$');\n",
    "#ax1.plot(crack_positions, slip, color = 'red', lw= 2, label = r'$s(mm)}$');\n",
    "ax2.set_xlabel(r'$\\mathrm{Length\\,of\\,FPZ\\,(mm)}$'); ax2.set_ylabel(r'$\\tau\\,(MPa)$');\n",
    "ax2.set_title(r'shear stress distribution due to aggregate interlock')\n",
    "ax2.legend()\n",
    "plt.savefig(\"D:\\Shear zones\\Python plots\\slip_shear_agg_all_crack_points.pdf\")"
   ]
  },
  {
   "cell_type": "code",
   "execution_count": 41,
   "metadata": {},
   "outputs": [
    {
     "data": {
      "application/vnd.jupyter.widget-view+json": {
       "model_id": "8fa161ffb82e4374b6051baa4ba28c24",
       "version_major": 2,
       "version_minor": 0
      },
      "text/plain": [
       "Canvas(toolbar=Toolbar(toolitems=[('Home', 'Reset original view', 'home', 'home'), ('Back', 'Back to previous …"
      ]
     },
     "metadata": {},
     "output_type": "display_data"
    }
   ],
   "source": [
    "import matplotlib.pylab as plt\n",
    "_, (ax1) = plt.subplots(1, 1, figsize=(6,4))\n",
    "ax1.plot(crack_positions, F_s[:, 1], lw= 2, label = r'$F_s$');\n",
    "ax1.set_xlabel(r'$\\mathrm{Length\\,of\\,the\\,beam\\,(mm)}$'); ax1.set_ylabel(r'$F_{s}\\,(N)$');\n",
    "ax1.set_title(r'Maximum Horizontal Force Contribution at reinforcement')\n",
    "ax1.legend()\n",
    "plt.savefig(\"D:\\Shear zones\\Python plots\\F_s_length_beam.pdf\")"
   ]
  },
  {
   "cell_type": "code",
   "execution_count": 42,
   "metadata": {},
   "outputs": [],
   "source": [
    "# seg_num = 4\n",
    "# seg_ = np.linspace(40, 140, seg_num)\n",
    "# crack_positions_num = 9\n",
    "# crack_positions = np.linspace(ce.sz_bd.L  * 0.1, ce.sz_bd.L  * 0.9, crack_positions_num) \n",
    "# # F_max = []\n",
    "# F_max = np.zeros([seg_num, crack_positions_num])\n",
    "# F_Na = np.zeros([seg_num, crack_positions_num])\n",
    "# F_s = np.zeros([seg_num, crack_positions_num])\n",
    "# F_a = np.zeros([seg_num, crack_positions_num])\n",
    "# slip = np.zeros([seg_num, crack_positions_num])\n",
    "# steel_slip = np.zeros([seg_num, crack_positions_num])\n",
    "# shear_stress = np.zeros([seg_num, crack_positions_num])\n",
    "# w = np.zeros([seg_num, crack_positions_num])\n",
    "# w_steel = np.zeros([seg_num, crack_positions_num])\n",
    "# F_agg = np.zeros([seg_num, crack_positions_num])\n",
    "# for i in range(len(seg_)):\n",
    "#     ce = CrackPropagation(n_seg=seg_[i])\n",
    "#     for j in range(len(crack_positions)):\n",
    "#         ce.reset()\n",
    "#         ce.sz_cp.trait_set(x_00=crack_positions[i])\n",
    "#         print(crack_positions[i])\n",
    "#         ce.sz_cp.sz_ctr.trait_set(L_fps=80)\n",
    "#         #print(L_fps_[j])\n",
    "#         ce.run()\n",
    "#         F_beam = ce.F_beam\n",
    "#         F_max_ = np.max(F_beam)\n",
    "#         F_max_i_ = np.argmax(F_beam)\n",
    "#         F_max_i_int = np.array(F_max_i_)\n",
    "#         F_Na_ = ce.F_Na[F_max_i_int]\n",
    "#         F_s_ = ce.F_s[F_max_i_int]\n",
    "#         slip_ = ce.slip[F_max_i_int][0]\n",
    "#         w_ = ce.w[F_max_i_int][0]\n",
    "#         steel_slip_ = ce.s_steel[F_max_i_int]\n",
    "#         w_steel_ = ce.w_steel[F_max_i_int]\n",
    "#         shear_stress_ = ce.shear_agg[F_max_i_int][0]\n",
    "#         F_a_ = ce.F_a[F_max_i_int][1]\n",
    "#         F_agg_ = F_a_ - F_Na_\n",
    "#         F_max[i, j] = F_max_\n",
    "#         F_Na[i,j] = F_Na_\n",
    "#         F_s[i,j] = F_s_\n",
    "#         slip[i,j] = slip_\n",
    "#         w[i,j] = w_\n",
    "#         steel_slip[i,j] = steel_slip_\n",
    "#         w_steel[i,j] = w_steel_\n",
    "#         shear_stress[i,j] = shear_stress_\n",
    "#         F_a[i,j] = F_a_\n",
    "#         F_agg[i,j] = F_agg_\n",
    "        \n",
    "        \n",
    "# #         F_max_i.append(F_max_i_)\n",
    "#     #F_max_all = np.concatenate(F_max_1)\n",
    "# print('F_max =', F_max)\n",
    "# print('F_Na =', F_Na)\n",
    "# print('F_s =', F_s)\n",
    "# print('slip =', slip)\n",
    "# print('w =', w)\n",
    "# print('steel_slip =', steel_slip)\n",
    "# print('w_steel =', w_steel)\n",
    "# print('shear_stress =', shear_stress)\n",
    "# print('F_a =', F_a)\n",
    "#     #r.append(F_max)\n",
    "# #         F_Na.append(F_Na_)\n",
    "# #         F_s.append(F_s_)\n",
    "# #         F_a.append(F_a_)\n",
    "# #         F_agg.append(F_agg_)\n",
    "# #         #slip.append(slip_)\n",
    "# #         #w.append(w_)\n",
    "# #         steel_slip.append(steel_slip_)\n",
    "# #         w_steel.append(w_steel_)\n",
    "#         #shear_stress.append(shear_stress_)\n",
    "#     #print('slip =', slip)\n",
    "#     #print('w =', w)\n",
    "# #     print('steel_slip =', steel_slip)\n",
    "# #     print('L_fps =', L_fps_)\n",
    "# #     print('crack_position =', crack_positions)"
   ]
  },
  {
   "cell_type": "code",
   "execution_count": 43,
   "metadata": {},
   "outputs": [],
   "source": [
    "# import numpy as np\n",
    "# crack_positions = np.linspace(0.1 * ce.sz_bd.L, 0.9 * ce.sz_bd.L, 10)\n",
    "# F_max = []\n",
    "# F_max_i = []\n",
    "# slip = []\n",
    "# F_Na = []\n",
    "# shear_stress = []\n",
    "# for crack_position in crack_positions:\n",
    "#     ce.reset()\n",
    "#     ce.sz_cp.trait_set(x_00=crack_position)\n",
    "#     ce.run()\n",
    "#     F_beam = ce.F_beam\n",
    "#     F_max_ = np.max(F_beam)\n",
    "#     F_max_i_ = np.argmax(F_beam)\n",
    "#     F_max_i_int = np.array(F_max_i_)\n",
    "#     F_Na_ = ce.F_Na[F_max_i_int]\n",
    "#     slip_ = ce.slip[F_max_i_int][F_max_i_int]\n",
    "#     shear_stress_ = ce.shear_agg[F_max_i_int][F_max_i_int]\n",
    "#     F_max.append(F_max_)\n",
    "#     F_max_i.append(F_max_i_)\n",
    "#     slip.append(slip_)\n",
    "#     shear_stress.append(shear_stress_)\n",
    "#     F_Na.append(F_Na_)\n",
    "#     F_max_i.append(F_max_i_)\n",
    "# print('crack position =', crack_positions)\n",
    "# print('slip =', slip)\n",
    "# print('shear stress =', shear_stress)\n",
    "# print('F_Na =', F_Na)\n",
    "# print('F_max_i =', F_max_i)"
   ]
  },
  {
   "cell_type": "code",
   "execution_count": 44,
   "metadata": {},
   "outputs": [],
   "source": [
    "# import matplotlib.pylab as plt\n",
    "# _, (ax1, ax2) = plt.subplots(1, 2, figsize=(11,4))\n",
    "# #ax1.plot(crack_positions, np.array(V_c) /1000, color = 'red', lw= 2);\n",
    "# ax1.plot(crack_positions, np.array(F_a) , color = 'blue', lw= 2, label = '$F_{agg}$'); #/1000\n",
    "# ax1.plot(crack_positions, F_Na, color = 'red', lw = 2, label = '$F_{dowel}$');\n",
    "# #ax1.plot(crack_positions, np.array(Q) , color = 'green', lw= 2); #/1000\n",
    "# ax1.plot(crack_positions, np.array(Q_red) , color = 'orange', lw= 2, label = '$F_{uncr}$'); #/1000\n",
    "# ax1.set_xlabel(r'$\\mathrm{Length\\,of\\,the\\,beam\\,(mm)}$'); ax1.set_ylabel(r'$F\\,(N)$');\n",
    "# ax1.set_title(r'Max Force Contribution')\n",
    "# ax1.legend()\n",
    "# ax2.plot(crack_positions, np.array(F_a) , color = 'blue', lw= 2, label = '$F_{agg}$');\n",
    "# ax2.plot(crack_positions, F_Na, color = 'red', lw = 2, label = '$F_{dowel}$');\n",
    "# ax2.set_xlabel(r'$\\mathrm{Length\\,of\\,the\\,beam\\,(mm)}$'); ax2.set_ylabel(r'$F\\,(N)$');\n",
    "# #plt.savefig(\"D:\\Shear zones\\Python plots\\Force_comparisons_updated.pdf\")"
   ]
  },
  {
   "cell_type": "code",
   "execution_count": null,
   "metadata": {},
   "outputs": [],
   "source": []
  },
  {
   "cell_type": "code",
   "execution_count": null,
   "metadata": {},
   "outputs": [],
   "source": [
    "# import matplotlib.pylab as plt\n",
    "# _, (ax1, ax2) = plt.subplots(1, 2, figsize=(11,4))\n",
    "# ax1.plot(c_p, F_La, color = 'red', lw= 2);\n",
    "# ax1.set_xlabel(r'$\\mathrm{Length\\,of\\,the\\,beam\\,(mm)}$'); ax1.set_ylabel(r'$F\\,(N)$');\n",
    "# ax1.set_title(r'Force contribution Aggregate Interlock')\n",
    "# ax2.plot(c_p , F_Na, color='blue', lw=2);\n",
    "# ax2.set_xlabel(r'$\\mathrm{Length\\,of\\,the\\,beam\\,(mm)}$'); ax2.set_ylabel(r'$F_{da}\\,(N)$');\n",
    "# ax2.set_title(r'Force contribution Dowel Action')\n",
    "# #plt.savefig(\"D:\\Shear zones\\Python plots\\Force_comparisons.pdf\")"
   ]
  },
  {
   "cell_type": "code",
   "execution_count": null,
   "metadata": {},
   "outputs": [],
   "source": [
    "# import numpy as np\n",
    "# F_a_ = np.array(ce.F_a)\n",
    "# D = ce.sz_bd.H - ce.sz_bd.cross_section_layout.reinforcement.z_j[0]\n",
    "# x_tip_1n = np.array(ce.x_tip_1n)\n",
    "# x_tip_0n = np.array(ce.x_tip_0n)\n",
    "# x_tip_1k = np.array(ce.x_tip_1k)\n",
    "# L = ce.sz_bd.L\n",
    "# A_s = ce.sz_bd.cross_section_layout.reinforcement.A_j[0] \n",
    "# E_s = ce.sz_bd.cross_section_layout.reinforcement.E_j[0]\n",
    "# v_n = np.array(ce.v_n)\n",
    "# V_c = []\n",
    "# # for x_tip_0n in range(len(v_n)):\n",
    "# #     if x_tip_0n == 0:\n",
    "# #         V_c = ((ce.crack_tip_shear_stress.Q) ) #\\\n",
    "# #                #/ (ce.sz_bd.B * D * np.sqrt(33.3) ))\n",
    "# #     elif x_tip_0n > 0:\n",
    "# V_c = (np.array(ce.F_beam[1:])) / (1 - (0.5 * (ce.sz_bd.H - x_tip_1n[1:])/ x_tip_0n[1:])) #\\ #ce.crack_tip_shear_stress.Q\n",
    "#                #/ (ce.sz_bd.B * D * np.sqrt(33.3) ))      \n",
    "# #V_c = ((ce.crack_tip_shear_stress.Q) / (1 - (0.5 * (ce.sz_bd.H - x_tip_1n[1:])/ x_tip_0n[1:])) / (ce.sz_bd.B * D * np.sqrt(33.3) ))\n",
    "# V_e = np.ones_like(v_n) * 114000\n",
    "# V_f = v_n * A_s * E_s * (D - x_tip_1k/3) / ((D - x_tip_1k) * (L - x_tip_0n))\n",
    "# #V_f\n",
    "# #v_n\n",
    "# #ce.Q\n",
    "# #V_c"
   ]
  },
  {
   "cell_type": "code",
   "execution_count": null,
   "metadata": {},
   "outputs": [],
   "source": [
    "# import matplotlib.pylab as plt\n",
    "# _, (ax1, ax2) = plt.subplots(1, 2, figsize=(11,4))\n",
    "# ax1.plot(ce.v_n[1:], V_c, color = 'red', lw= 2, label = 'V_c');\n",
    "# #ax1.plot(ce.v_n, ce.F_beam, color = 'blue', lw = 2);\n",
    "# ax1.plot(ce.v_n[1:], V_e[1:], '--' , color = 'orange', lw = 2, label = 'V_exp')\n",
    "# ax1.plot(ce.v_n[1:], V_f[1:], '--' , color = 'green', lw = 2, label = 'V_load')\n",
    "# ax1.set_xlabel('deflection')\n",
    "# ax1.set_ylabel('V')\n",
    "# ax1.legend()"
   ]
  },
  {
   "cell_type": "code",
   "execution_count": null,
   "metadata": {},
   "outputs": [],
   "source": [
    "# import matplotlib.pylab as plt\n",
    "# _, (ax1) = plt.subplots(1, 1, figsize=(7,4))\n",
    "# ax1.plot(c_p, F_m, color = 'red', lw= 2);\n",
    "# ax1.set_xlabel(r'$\\mathrm{Length\\,of\\,the\\,beam\\,(mm)}$'); ax1.set_ylabel(r'$F_{max}\\,(N)$');\n",
    "# ax1.set_title(r'Maximum Force Contribution along the length of the beam')\n",
    "# #plt.savefig(\"D:\\Shear zones\\Python plots\\Max_Force_contributions.pdf\")"
   ]
  },
  {
   "cell_type": "code",
   "execution_count": null,
   "metadata": {},
   "outputs": [],
   "source": [
    "# import matplotlib.pylab as plt\n",
    "# _, (ax1) = plt.subplots(1, 1, figsize=(7,5))\n",
    "# x_00_L = c_p/ ce.sz_bd.L\n",
    "# ones = np.ones_like(c_p)\n",
    "# V_exp = 114000 * ones \n",
    "# ax1.plot(x_00_L, F_m, color = 'red', lw= 2, label = (r'$V_{max}$'));\n",
    "# ax1.plot(x_00_L, V_exp, color = 'black',linestyle='--', lw =2, label = (r'$V_{exp}$'));\n",
    "# ax1.set_xlabel(r'$\\mathrm{\\frac{x_{00}}{Length\\,of\\,the\\,beam\\,(mm)}}$'); ax1.set_ylabel(r'$F_{max}\\,(N)$');\n",
    "# ax1.set_title(r'Maximum Force Contribution along the length of the beam')\n",
    "# ax1.legend()\n",
    "# #plt.savefig(\"D:\\Shear zones\\Python plots\\Max_Force_contributions_with_V_exp.pdf\")"
   ]
  },
  {
   "cell_type": "code",
   "execution_count": null,
   "metadata": {},
   "outputs": [],
   "source": [
    "# import matplotlib.pylab as plt\n",
    "# _, (ax1) = plt.subplots(1, 1, figsize=(6,5))\n",
    "# ones = np.ones_like(c_p)\n",
    "# V_exp = 114000 * ones \n",
    "# #ax1.plot(c_p, F_m, color = 'red', lw= 2, label = (r'$V_{max}$'));\n",
    "# #ax1.plot(c_p, V_exp, color = 'black',linestyle='--', lw =2, label = (r'$V_{exp}$'));\n",
    "# ax1.plot(c_p, Q_reduce, color = 'blue', lw =2, label = (r'$V_{uncr}$'));\n",
    "# #ax1.plot(c_p, F_La, color = 'orange', lw = 2, label = (r'$V_{agg}$'));\n",
    "# #ax1.plot(c_p, F_Na, color = 'green', lw =2, label = (r'$V_{da}$'));\n",
    "# ax1.set_xlabel(r'$\\mathrm{Length\\,of\\,the\\,beam\\,(mm)}$'); ax1.set_ylabel(r'$F_{max}\\,(N)$');\n",
    "# ax1.set_title(r'Maximum Force Contribution along the length of the beam')\n",
    "# ax1.legend()\n",
    "# plt.savefig(\"D:\\Shear zones\\Python plots\\Q_reduce_contributions.pdf\")"
   ]
  },
  {
   "cell_type": "code",
   "execution_count": null,
   "metadata": {},
   "outputs": [],
   "source": [
    "# ce.crack_tip_orientation.get_psi(), ce.M_n"
   ]
  },
  {
   "cell_type": "code",
   "execution_count": null,
   "metadata": {},
   "outputs": [],
   "source": [
    "# ce.crack_tip_shear_stress.Q_reduced, ce.sz_stress_profile.F_La[47,0], ce.sz_stress_profile.F_Na[0,0]\n",
    "# ce.crack_tip_shear_stress.tau_x_tip_1k *ce.sz_bd.B\n",
    "# ce.sz_stress_profile.F_a\n",
    "# ce.crack_tip_shear_stress.Q_reduced"
   ]
  },
  {
   "cell_type": "code",
   "execution_count": null,
   "metadata": {},
   "outputs": [],
   "source": [
    "# import numpy as np\n",
    "# ce.sz_stress_profile.u_La[47,:]"
   ]
  },
  {
   "cell_type": "code",
   "execution_count": null,
   "metadata": {},
   "outputs": [],
   "source": [
    "# (ce.sz_stress_profile.M / 1000) / ((ce.crack_tip_shear_stress.Q) *\\\n",
    "#                                    (ce.sz_bd.H - ce.sz_bd.cross_section_layout.reinforcement.z_j[0]))"
   ]
  },
  {
   "cell_type": "code",
   "execution_count": null,
   "metadata": {
    "scrolled": true
   },
   "outputs": [],
   "source": [
    "# #V_uncr = np.sum(ce.crack_tip_shear_stress.tau_z) * ce.sz_bd.B\n",
    "# print(V_uncr)\n",
    "# V_da = ce.sz_stress_profile.F_Na[:,1]\n",
    "# print(V_da)\n",
    "# V_ai = np.sum(ce.sz_stress_profile.F_La[:,1]) #* ce.sz_bd.B #- np.sum(ce.sz_bd.cmm.get_sigma_ag(ce.sz_stress_profile.u_Lb[...,0],ce.sz_stress_profile.u_Lb[...,1])) #* np.cos((ce.sz_cp._get_beta()))\n",
    "# print(V_ai)\n",
    "# V_res = np.max(ce.F_beam)\n",
    "# print(V_res)\n",
    "# V_uncr + V_da + V_ai + V_res"
   ]
  },
  {
   "cell_type": "code",
   "execution_count": null,
   "metadata": {},
   "outputs": [],
   "source": [
    "# np.sum(ce.sz_stress_profile.F_La[:,1])"
   ]
  },
  {
   "cell_type": "code",
   "execution_count": null,
   "metadata": {},
   "outputs": [],
   "source": [
    "# np.sum(ce.sz_stress_profile.S_La[:,1]) * ce.sz_bd.B"
   ]
  },
  {
   "cell_type": "code",
   "execution_count": null,
   "metadata": {
    "pycharm": {
     "name": "#%%\n"
    }
   },
   "outputs": [],
   "source": [
    "# import numpy as np\n",
    "# S_Lb = ce.sz_stress_profile.S_Lb\n",
    "# S_La = ce.sz_stress_profile.S_La\n",
    "# idx = np.argmax(S_Lb[...,0])"
   ]
  },
  {
   "cell_type": "code",
   "execution_count": null,
   "metadata": {
    "pycharm": {
     "name": "#%%\n"
    }
   },
   "outputs": [],
   "source": [
    "# S_Lb[idx,:], S_La[idx,:]"
   ]
  },
  {
   "cell_type": "code",
   "execution_count": null,
   "metadata": {
    "pycharm": {
     "name": "#%%\n"
    }
   },
   "outputs": [],
   "source": [
    "# ce.sz_cp.T_Mab[idx,...]"
   ]
  },
  {
   "cell_type": "code",
   "execution_count": null,
   "metadata": {
    "pycharm": {
     "name": "#%%\n"
    }
   },
   "outputs": [],
   "source": [
    "# np.einsum('i,i', S_Lb[idx,:], S_Lb[idx,:])"
   ]
  },
  {
   "cell_type": "code",
   "execution_count": null,
   "metadata": {
    "pycharm": {
     "name": "#%%\n"
    }
   },
   "outputs": [],
   "source": [
    "# np.einsum('i,i', S_La[idx,:], S_La[idx,:])"
   ]
  },
  {
   "cell_type": "markdown",
   "metadata": {},
   "source": [
    "Todo:\n",
    "\n",
    " - include the reinforcement material law - partially done \n",
    "   (but for strain-based material law) - replace with the crack bridge law\n",
    " - transformation of the crack bridging force to the global coordinates\n",
    " - include the dowel effect "
   ]
  },
  {
   "cell_type": "code",
   "execution_count": null,
   "metadata": {
    "pycharm": {
     "name": "#%%\n"
    }
   },
   "outputs": [],
   "source": [
    "#ce.sz_ctr._get_x_rot_ak()"
   ]
  },
  {
   "cell_type": "code",
   "execution_count": null,
   "metadata": {
    "pycharm": {
     "name": "#%%\n"
    }
   },
   "outputs": [],
   "source": [
    "# ce.sz_stress_profile.F_Na"
   ]
  },
  {
   "cell_type": "code",
   "execution_count": null,
   "metadata": {},
   "outputs": [],
   "source": [
    "# ce.sz_stress_profile.u_Na"
   ]
  },
  {
   "cell_type": "code",
   "execution_count": null,
   "metadata": {},
   "outputs": [],
   "source": [
    "# np.max(ce.sz_stress_profile.F_La)"
   ]
  },
  {
   "cell_type": "code",
   "execution_count": null,
   "metadata": {},
   "outputs": [],
   "source": [
    "# np.sum(ce.sz_stress_profile.F_La)"
   ]
  },
  {
   "cell_type": "code",
   "execution_count": null,
   "metadata": {},
   "outputs": [],
   "source": [
    "# np.max(ce.sz_stress_profile.F_La)"
   ]
  },
  {
   "cell_type": "code",
   "execution_count": 21,
   "metadata": {},
   "outputs": [
    {
     "data": {
      "application/vnd.jupyter.widget-view+json": {
       "model_id": "001c555080ed471295e646e3bbcd760a",
       "version_major": 2,
       "version_minor": 0
      },
      "text/plain": [
       "Canvas(toolbar=Toolbar(toolitems=[('Home', 'Reset original view', 'home', 'home'), ('Back', 'Back to previous …"
      ]
     },
     "metadata": {},
     "output_type": "display_data"
    },
    {
     "name": "stderr",
     "output_type": "stream",
     "text": [
      "<lambdifygenerated-49>:2: RuntimeWarning: divide by zero encountered in power\n",
      "  return (select([less_equal(w, 0),True], [0,s*(1.8*w**(-0.8) + 7.7922*w**(-0.707) - 6.66) - 1.11], default=nan))\n",
      "<lambdifygenerated-49>:2: RuntimeWarning: invalid value encountered in multiply\n",
      "  return (select([less_equal(w, 0),True], [0,s*(1.8*w**(-0.8) + 7.7922*w**(-0.707) - 6.66) - 1.11], default=nan))\n"
     ]
    },
    {
     "data": {
      "text/plain": [
       "Text(0.5, 0.92, 'aggregate interlock law')"
      ]
     },
     "execution_count": 21,
     "metadata": {},
     "output_type": "execute_result"
    }
   ],
   "source": [
    "import sympy as sp\n",
    "import matplotlib.pylab as plt\n",
    "w,f_c, s = sp.symbols('w,f_c,s')\n",
    "tau_s_wal = sp.Piecewise(\n",
    "        (0, w <= 0),\n",
    "        ((- f_c / 30) + (1.8 * w**(-0.8) + (0.234 * w**(-0.707) - 0.2) * f_c ) * s, w > 0)\n",
    "    )\n",
    "\n",
    "f_c_ = 33.3\n",
    "get_tau_s_wal = sp.lambdify((w,s), tau_s_wal.subs(f_c,f_c_), 'numpy')\n",
    "\n",
    "w_min = 0 #-1\n",
    "w_max = 3\n",
    "w_data = np.linspace(w_min, w_max, 100)\n",
    "s_max = 3\n",
    "s_data = np.linspace(0*s_max, 1.1*s_max, 100) #-1.1\n",
    "s_, w_ = np.meshgrid(s_data, w_data)\n",
    "fig, ax = plt.subplots(1,1,figsize=(10,4))\n",
    "ax_3d = fig.add_subplot(1, 2, 1, projection='3d')\n",
    "tau_s = get_tau_s_wal(w_, s_)\n",
    "ax_3d.plot_surface(w_, s_, tau_s, cmap='viridis', edgecolor='none')\n",
    "ax_3d.set_xlabel(r'$w\\;\\;\\mathrm{[mm]}$', fontsize=12)\n",
    "ax_3d.set_ylabel(r'$s\\;\\;\\mathrm{[mm]}$', fontsize=12)\n",
    "ax_3d.set_zlabel(r'$\\tau\\;\\;\\mathrm{[MPa]}$', fontsize=12)\n",
    "ax_3d.set_title('aggregate interlock law', fontsize=12)"
   ]
  },
  {
   "cell_type": "code",
   "execution_count": 20,
   "metadata": {},
   "outputs": [
    {
     "data": {
      "text/plain": [
       "<function _lambdifygenerated(w, s)>"
      ]
     },
     "execution_count": 20,
     "metadata": {},
     "output_type": "execute_result"
    }
   ],
   "source": [
    "get_tau_s_wal"
   ]
  },
  {
   "cell_type": "code",
   "execution_count": null,
   "metadata": {},
   "outputs": [],
   "source": []
  }
 ],
 "metadata": {
  "kernelspec": {
   "display_name": "Python 3",
   "language": "python",
   "name": "python3"
  },
  "language_info": {
   "codemirror_mode": {
    "name": "ipython",
    "version": 3
   },
   "file_extension": ".py",
   "mimetype": "text/x-python",
   "name": "python",
   "nbconvert_exporter": "python",
   "pygments_lexer": "ipython3",
   "version": "3.9.1"
  },
  "toc": {
   "base_numbering": 1,
   "nav_menu": {},
   "number_sections": true,
   "sideBar": true,
   "skip_h1_title": false,
   "title_cell": "Table of Contents",
   "title_sidebar": "Contents",
   "toc_cell": false,
   "toc_position": {},
   "toc_section_display": true,
   "toc_window_display": false
  }
 },
 "nbformat": 4,
 "nbformat_minor": 4
}
