{
 "cells": [
  {
   "cell_type": "markdown",
   "metadata": {
    "pycharm": {
     "name": "#%%\n"
    }
   },
   "source": [
    "# 2D Crack propagation in a bended beam"
   ]
  },
  {
   "cell_type": "markdown",
   "metadata": {},
   "source": [
    " - @todo: Plot the residual value\n",
    " - @todo: State dependencies - recalculate upon material parameter change"
   ]
  },
  {
   "cell_type": "markdown",
   "metadata": {},
   "source": [
    "\\begin{align}\n",
    "\\sigma_\\mathrm{F} = E w / L_\\mathrm{eff}\n",
    "\\end{align}"
   ]
  },
  {
   "cell_type": "code",
   "execution_count": 1,
   "metadata": {},
   "outputs": [
    {
     "data": {
      "text/plain": [
       "<function _lambdifygenerated(Dummy_22, Dummy_23)>"
      ]
     },
     "execution_count": 1,
     "metadata": {},
     "output_type": "execute_result"
    }
   ],
   "source": [
    "import sympy as sp\n",
    "xi = sp.Symbol(r'\\xi')\n",
    "G_f0 = sp.Symbol(r'G_{f0}')\n",
    "a = 1.038\n",
    "b = 0.245\n",
    "G_f = (1 + (a/(1+b/xi)) - (1 + a + b)/(1 + b) * xi**8) #G_f0 * \n",
    "get_G_F = sp.lambdify((xi,G_f0), G_f, 'numpy') \n",
    "get_G_F"
   ]
  },
  {
   "cell_type": "code",
   "execution_count": 2,
   "metadata": {},
   "outputs": [
    {
     "name": "stderr",
     "output_type": "stream",
     "text": [
      "<lambdifygenerated-1>:2: RuntimeWarning: divide by zero encountered in true_divide\n",
      "  return (-1.83373493975904*Dummy_22**8 + 1 + 1.038/(1 + 0.245/Dummy_22))\n",
      "No handles with labels found to put in legend.\n"
     ]
    },
    {
     "data": {
      "image/png": "[encoded data removed]",
      "text/plain": [
       "<Figure size 504x288 with 1 Axes>"
      ]
     },
     "metadata": {
      "needs_background": "light"
     },
     "output_type": "display_data"
    }
   ],
   "source": [
    "import matplotlib.pylab as plt\n",
    "import numpy as np\n",
    "_, (ax1) = plt.subplots(1, 1, figsize=(7,4))\n",
    "xi = np.linspace(0,1,100)\n",
    "G_f0 = 86.7\n",
    "G_f = get_G_F(xi, G_f0)\n",
    "ax1.plot(xi, G_f , color = 'blue', lw= 2);\n",
    "ax1.set_xlabel(r'$\\xi$'); ax1.set_ylabel(r'$\\frac{G_f}{G_{f0}}$');\n",
    "ax1.set_title(r'Effect of crack parallel stress on fracture energy')\n",
    "ax1.legend()\n",
    "plt.savefig(\"D:\\Shear zones\\Python plots\\Bazanttest.pdf\")"
   ]
  },
  {
   "cell_type": "code",
   "execution_count": 3,
   "metadata": {
    "pycharm": {
     "name": "#%%\n"
    }
   },
   "outputs": [],
   "source": [
    "# %matplotlib widget\n",
    "# import bmcs_utils.api as bu\n",
    "# from bmcs_shear.shear_crack.crack_propagation import CrackPropagation\n",
    "# ce = CrackPropagation(n_seg=5)\n",
    "# ce.sz_bd.cmm.trait_set(tau_1 = 4, s_1 = 0.2, tau_2 = 3, tau_3 = 2, s_2 = 1.4, s_3 = 5)\n",
    "# ce.sz_bd.cmm.trait_set(f_c = 33.3, f_t = 0.3 * 33.3 **(2/3), d_a = 16)\n",
    "# ce.sz_bd.Rectangle = True\n",
    "# ce.sz_bd.trait_set(H=600, B=250, L=3870)\n",
    "# ce.sz_cp.trait_set(x_00=ce.sz_bd.L * 0.5, n_m = 15)\n",
    "# ce.sz_cp.sz_ctr.trait_set(ell = 2)\n",
    "# ce.sz_bd.cross_section_layout.reinforcement.z_j[0] = 44\n",
    "# ce.sz_bd.cross_section_layout.reinforcement.A_j[0] = 615.44 #2 no 28\n",
    "# ce.sz_bd.cross_section_layout.reinforcement.E_j[0] = 210000 / 100"
   ]
  },
  {
   "cell_type": "code",
   "execution_count": 4,
   "metadata": {
    "scrolled": false
   },
   "outputs": [
    {
     "data": {
      "text/plain": [
       "<bmcs_cross_section.cs_design.cs_layout.Reinforcement at 0x7fe684b709a0>"
      ]
     },
     "execution_count": 4,
     "metadata": {},
     "output_type": "execute_result"
    }
   ],
   "source": [
    "%matplotlib widget\n",
    "import numpy as np\n",
    "import bmcs_utils.api as bu\n",
    "from bmcs_shear.shear_crack.crack_propagation import CrackPropagation\n",
    "ce = CrackPropagation(n_seg=140)\n",
    "#ce.sz_bd.cmm.trait_set(tau_1 = 4, s_1 = 0.2, tau_2 = 3, tau_3 = 2, s_2 = 1.4, s_3 = 5)\n",
    "#ce.sz_bd.cmm.trait_set(f_c = 33.3, f_t = 0.3 * 33.3 **(2/3), d_a = 16)\n",
    "ce.sz_bd.Rectangle = True\n",
    "ce.sz_bd.trait_set(H=600, B=250, L=3870)\n",
    "ce.sz_cp.trait_set(x_00=ce.sz_bd.L * 0.1, n_m = 4)\n",
    "ce.sz_cp.sz_ctr.L_fps = 40\n",
    "ce.sz_cp.sz_ctr.trait_set(ell = 2)\n",
    "ce.sz_bd.cross_section_layout.reinforcement[0].trait_set(z=44, A=615.44, E=210000)\n",
    "\n",
    "#F_La, F_Na, F_m, Q_reduce, c_p = ce.analyze() \n",
    "#print(F_La, F_Na, c_p)"
   ]
  },
  {
   "cell_type": "code",
   "execution_count": 5,
   "metadata": {
    "pycharm": {
     "name": "#%%\n"
    },
    "scrolled": false
   },
   "outputs": [
    {
     "name": "stderr",
     "output_type": "stream",
     "text": [
      "<lambdifygenerated-25>:2: RuntimeWarning: invalid value encountered in sqrt\n",
      "  return (select([less_equal(w, 0),True], [0,0.25*f_c*s*(-sqrt(2)*sqrt(w/d_a) + 1)*((2.44 - 39.04/f_c)*abs(s/w)**3 + 9.8/f_c)/(w*(s**4*(2.44 - 39.04/f_c)/w**4 + 1))], default=nan))\n"
     ]
    },
    {
     "data": {
      "application/vnd.jupyter.widget-view+json": {
       "model_id": "4ea6a6ba68e149d4af3069cf6205fa19",
       "version_major": 2,
       "version_minor": 0
      },
      "text/plain": [
       "VBox(children=(Output(), Tab(children=(VBox(children=(GridBox(children=(HBox(children=(Button(icon='play', lay…"
      ]
     },
     "metadata": {},
     "output_type": "display_data"
    }
   ],
   "source": [
    "bu.InteractiveWindow([ce, ce.sz_bd, ce.sz_bd.cross_section_layout, \n",
    "                      ce.sz_stress_profile, \n",
    "                      ce.sz_bd.cmm, ce.sz_bd.smm, ce.sz_cp, ce.sz_cp.sz_ctr]).interact()"
   ]
  },
  {
   "cell_type": "code",
   "execution_count": 6,
   "metadata": {},
   "outputs": [
    {
     "name": "stderr",
     "output_type": "stream",
     "text": [
      "<lambdifygenerated-25>:2: RuntimeWarning: invalid value encountered in sqrt\n",
      "  return (select([less_equal(w, 0),True], [0,0.25*f_c*s*(-sqrt(2)*sqrt(w/d_a) + 1)*((2.44 - 39.04/f_c)*abs(s/w)**3 + 9.8/f_c)/(w*(s**4*(2.44 - 39.04/f_c)/w**4 + 1))], default=nan))\n"
     ]
    }
   ],
   "source": [
    "import numpy as np\n",
    "crack_position = 0.5 * ce.sz_bd.L\n",
    "ce.reset()\n",
    "ce.sz_cp.trait_set(x_00=crack_position)\n",
    "ce.sz_cp.sz_ctr.L_fps = 80\n",
    "ce.run()\n",
    "F_beam = ce.F_beam\n",
    "F_max_ = np.max(F_beam)\n",
    "F_max_i_ = np.argmax(F_beam)\n",
    "F_max_i_int = np.array(F_max_i_)\n",
    "F_Na_ = ce.F_Na[F_max_i_int]\n",
    "F_s_ = ce.F_s[F_max_i_int]\n",
    "w = ce.w_steel[F_max_i_int]"
   ]
  },
  {
   "cell_type": "code",
   "execution_count": 7,
   "metadata": {},
   "outputs": [],
   "source": [
    "#w, F_s_, F_max_"
   ]
  },
  {
   "cell_type": "code",
   "execution_count": 8,
   "metadata": {},
   "outputs": [],
   "source": [
    "import numpy as np\n",
    "crack_position = 0.1 * ce.sz_bd.L\n",
    "ce.reset()\n",
    "ce.sz_cp.trait_set(x_00=crack_position)\n",
    "ce.sz_cp.sz_ctr.L_fps = 80\n",
    "ce.run()\n",
    "F_beam = ce.F_beam\n",
    "F_max_ = np.max(F_beam)\n",
    "F_max_i_ = np.argmax(F_beam)\n",
    "F_max_i_int = np.array(F_max_i_)\n",
    "F_Na_ = ce.F_Na[F_max_i_int]\n",
    "F_s_ = ce.F_s[F_max_i_int]\n",
    "slip_ = ce.slip[F_max_i_int]\n",
    "w_ = ce.w[F_max_i_int][0]\n",
    "steel_slip_ = ce.s_steel[F_max_i_int]\n",
    "w_steel_ = ce.w_steel[F_max_i_int]\n",
    "shear_stress_ = ce.shear_agg[F_max_i_int]\n",
    "F_a_ = ce.F_a[F_max_i_int][1]\n",
    "F_agg_ = F_a_ - F_Na_\n",
    "# shear_stress_, slip_"
   ]
  },
  {
   "cell_type": "code",
   "execution_count": 9,
   "metadata": {},
   "outputs": [
    {
     "data": {
      "application/vnd.jupyter.widget-view+json": {
       "model_id": "34c92bbcedb54debb9e842304f1a0e55",
       "version_major": 2,
       "version_minor": 0
      },
      "text/plain": [
       "Canvas(toolbar=Toolbar(toolitems=[('Home', 'Reset original view', 'home', 'home'), ('Back', 'Back to previous …"
      ]
     },
     "metadata": {},
     "output_type": "display_data"
    }
   ],
   "source": [
    "import matplotlib.pylab as plt\n",
    "_, (ax1) = plt.subplots(1, 1, figsize=(8,4))\n",
    "s = np.linspace(0,1,100)\n",
    "V_df = ce.sz_bd.smm.get_V_df(s)\n",
    "ax1.plot(s, V_df , color = 'blue', lw= 2, label = '$V_{da}$');\n",
    "ax1.set_xlabel(r'$slip\\,(mm)}$'); ax1.set_ylabel(r'$V (N)$');\n",
    "ax1.set_title(r'Dowel Force Contribution')\n",
    "ax1.legend()\n",
    "plt.savefig(\"D:\\Shear zones\\Python plots\\Dowel_force.pdf\")"
   ]
  },
  {
   "cell_type": "code",
   "execution_count": 10,
   "metadata": {},
   "outputs": [],
   "source": [
    "# import numpy as np\n",
    "# ce.sz_stress_profile.u_La\n",
    "# idx = np.argmax(ce.F_beam)\n",
    "# #v_n = ce.v_n\n",
    "# #v_n[idx]\n",
    "# #ce.F_Na[idx]\n",
    "# idx"
   ]
  },
  {
   "cell_type": "code",
   "execution_count": 11,
   "metadata": {},
   "outputs": [],
   "source": [
    "# ce.sz_stress_profile.u_Na"
   ]
  },
  {
   "cell_type": "code",
   "execution_count": 12,
   "metadata": {},
   "outputs": [
    {
     "name": "stderr",
     "output_type": "stream",
     "text": [
      "<lambdifygenerated-25>:2: RuntimeWarning: invalid value encountered in sqrt\n",
      "  return (select([less_equal(w, 0),True], [0,0.25*f_c*s*(-sqrt(2)*sqrt(w/d_a) + 1)*((2.44 - 39.04/f_c)*abs(s/w)**3 + 9.8/f_c)/(w*(s**4*(2.44 - 39.04/f_c)/w**4 + 1))], default=nan))\n"
     ]
    },
    {
     "name": "stdout",
     "output_type": "stream",
     "text": [
      "[600.0, array([598.00000282]), array([596.00000564]), array([594.00000847]), array([592.0000123]), array([590.00001613]), array([588.0000205]), array([586.00002492]), array([584.00021999]), array([582.00041506]), array([580.00060744]), array([578.00098679]), array([576.0014422]), array([574.00198117]), array([572.00252015]), array([570.00313883]), array([568.00397474]), array([566.00492503]), array([564.00587532]), array([562.00687214]), array([560.00786896]), array([558.00935621]), array([556.01099725]), array([554.01279985]), array([552.01477187]), array([550.0167537]), array([548.01873552]), array([546.021264]), array([544.02399239]), array([542.02692883]), array([540.03008011]), array([538.03345441]), array([536.03682871]), array([534.04067015]), array([532.04475488]), array([530.04908959]), array([528.05374631]), array([526.05859988]), array([524.06372284]), array([522.0691206]), array([520.07479861]), array([518.08076246]), array([516.0870161]), array([514.09356442]), array([512.10041253]), array([510.10756385]), array([508.11502314]), array([506.12279385]), array([504.13087658]), array([502.13927722]), array([500.14799951]), array([498.15704427]), array([496.16641301]), array([494.17610755]), array([492.1861295]), array([490.19647862]), array([488.20715679]), array([486.21816199]), array([484.22950064]), array([482.24116368]), array([480.25315378]), array([478.26547002]), array([476.27811095]), array([474.29107547]), array([472.30437189]), array([470.31797595]), array([468.33189506]), array([466.34612852]), array([464.36067147]), array([462.37553051]), array([460.39068319]), array([458.40613722]), array([456.42188016]), array([454.43790578]), array([452.45422264]), array([450.47081734]), array([448.48768322]), array([446.50481832]), array([444.52221459]), array([442.53986729]), array([440.55777276]), array([438.57592077]), array([436.59430658]), array([434.61292357]), array([432.63176655]), array([430.65082708]), array([428.67009472]), array([426.68956697]), array([424.70923579]), array([422.72909207]), array([420.74912901]), array([418.76933954]), array([416.78971678]), array([414.81025196]), array([412.83093805]), array([410.85176722]), array([408.87273163]), array([406.89382441]), array([404.91503734]), array([402.9363631]), array([400.95779628]), array([398.97932634]), array([397.0009461]), array([395.02264811]), array([393.04442429]), array([391.06626709]), array([389.08816838]), array([387.11012128]), array([385.13259283]), array([383.1551487]), array([381.17778126]), array([379.20048261]), array([377.22322187]), array([375.246033]), array([373.26888943]), array([371.29177726]), array([369.31468774]), array([367.33761171]), array([365.36053855]), array([363.38345875]), array([361.40636159]), array([359.42923503]), array([357.45206825]), array([355.47484865]), array([353.49756289]), array([351.52019711]), array([349.54273578]), array([347.56516535]), array([345.58746407]), array([343.60961122]), array([341.63158336]), array([339.65335396]), array([337.67489219]), array([335.69616229]), array([333.71712258]), array([331.73772321]), array([329.75804944]), array([327.77771925]), array([325.7967892]), array([323.81576449]), array([321.83320355]), array([319.8513212])]\n"
     ]
    }
   ],
   "source": [
    "ce.reset()\n",
    "ini_crck_point = ce.sz_cp.trait_set(x_00= 0.1 * ce.sz_bd.L)\n",
    "ce.run()\n",
    "H_s = []\n",
    "F_beam = ce.F_beam\n",
    "F_max_ = np.max(F_beam)\n",
    "F_max_i_ = np.argmax(F_beam)\n",
    "F_max_i_int = np.array(F_max_i_)\n",
    "x_tip_1k_ = ce.x_tip_1k[F_max_i_int]\n",
    "for i in range(len(F_beam)):\n",
    "    if ce.x_tip_1k[i] <= x_tip_1k_:\n",
    "        H_s_ = ce.sz_bd.H - ce.x_tip_1k[i]\n",
    "        #shear_agg = ce.shear_agg[i]\n",
    "        H_s.append(H_s_)\n",
    "    else:\n",
    "        break\n",
    "print(H_s)\n",
    "    #print(shear_agg)\n",
    "# H_s = []\n",
    "# F_beam = ce.F_beam\n",
    "# F_max_ = np.max(F_beam)\n",
    "# for i in range(len(F_beam)):\n",
    "#     if F_beam[i] == F_max_:\n",
    "#         H_s = ce.H_s\n",
    "#         #H_s.append(H_s)\n",
    "#     else:\n",
    "#         break\n",
    "#     print(H_s)"
   ]
  },
  {
   "cell_type": "code",
   "execution_count": 13,
   "metadata": {},
   "outputs": [],
   "source": [
    "# ce.reset()\n",
    "# ini_crck_point = ce.sz_cp.trait_set(x_00= 0.1 * ce.sz_bd.L)\n",
    "# ce.run()\n",
    "# F_beam = ce.F_beam\n",
    "# F_max_ = np.max(F_beam)\n",
    "# for i in range(len(F_beam)):\n",
    "#     if F_beam[i] < F_max_:\n",
    "#         pass\n",
    "#     elif F_beam[i] == F_max_:\n",
    "#         slip = ce.slip[i]\n",
    "#         #H_s = ce.H_s\n",
    "#         shear_agg = ce.shear_agg[i]\n",
    "#         print('shear agg', shear_agg)\n",
    "#         print('slip', slip)\n",
    "#         #print(shear_agg)\n",
    "#         #print(H_s)"
   ]
  },
  {
   "cell_type": "code",
   "execution_count": 14,
   "metadata": {
    "scrolled": false
   },
   "outputs": [],
   "source": [
    "# ce.reset()\n",
    "# ini_crck_point = ce.sz_cp.trait_set(x_00= 0.9 * ce.sz_bd.L)\n",
    "# ce.run()\n",
    "# F_beam = ce.F_beam\n",
    "# F_max_ = np.max(F_beam)\n",
    "# F_max_idx = np.argmax(F_beam)\n",
    "# F_Na_ = ce.F_Na[F_max_idx]\n",
    "# s_s = ce.s_steel[:F_max_idx]\n",
    "# V_da = ce.F_Na[:F_max_idx]\n",
    "# slip = ce.slip\n",
    "# shear_agg = ce.shear_agg"
   ]
  },
  {
   "cell_type": "code",
   "execution_count": 15,
   "metadata": {},
   "outputs": [],
   "source": [
    "# import matplotlib.pylab as plt\n",
    "# _, (ax1, ax2) = plt.subplots(1, 2, figsize=(11,4))\n",
    "# ax1.plot(s_s, V_da , color = 'blue', lw= 2, label = '$V_{da}$');\n",
    "# ax1.set_xlabel(r'$slip\\,(mm)}$'); ax1.set_ylabel(r'$V (N)$');\n",
    "# ax1.set_title(r'Dowel Force Contribution')\n",
    "# ax1.legend()\n",
    "# ax2.plot(slip, shear_agg , color = 'red', lw= 2, label = r'$\\tau_{agg}$');\n",
    "# ax2.set_xlabel(r'$slip\\,(mm)}$'); ax2.set_ylabel(r'$\\tau_{agg}$');\n",
    "# ax2.set_title(r'Aggregate Force Contribution at Ultimate state')\n",
    "# ax2.legend()\n",
    "# #plt.savefig(\"D:\\Shear zones\\Python plots\\dowel_agg_09.pdf\")"
   ]
  },
  {
   "cell_type": "code",
   "execution_count": 16,
   "metadata": {},
   "outputs": [],
   "source": [
    "# import matplotlib.pylab as plt\n",
    "# _, (ax1, ax2) = plt.subplots(1, 2, figsize=(11,4))\n",
    "# ax1.plot(ce.sz_stress_profile.u_Lb[:,1], ce.sz_stress_profile.S_Lb[:,1] , color = 'blue', lw= 2, label = '$F_{agg}$');\n",
    "# ax2.plot(s_s, ce.sz_stress_profile.S_Lb[:,0] , color = 'blue', lw= 2, label = '$F_{agg}$');"
   ]
  },
  {
   "cell_type": "code",
   "execution_count": 17,
   "metadata": {},
   "outputs": [],
   "source": [
    "# import numpy as np\n",
    "# np.max(ce.F_beam)# + ce.crack_tip_shear_stress.Q + ce.crack_tip_shear_stress.Q_reduced"
   ]
  },
  {
   "cell_type": "code",
   "execution_count": 18,
   "metadata": {},
   "outputs": [],
   "source": [
    "#ce.sz_stress_profile.F_La"
   ]
  },
  {
   "cell_type": "code",
   "execution_count": 49,
   "metadata": {
    "scrolled": false
   },
   "outputs": [
    {
     "data": {
      "text/plain": [
       "([0,\n",
       "  85543757.45597857,\n",
       "  86165567.43589404,\n",
       "  86791593.1335751,\n",
       "  87163712.0577935,\n",
       "  87794203.67406529,\n",
       "  88230292.15401448,\n",
       "  88743675.36942378,\n",
       "  89290054.93386018,\n",
       "  89932693.73480228,\n",
       "  90342145.31976752,\n",
       "  90857584.61236528,\n",
       "  91374699.00021118,\n",
       "  91889137.65397295,\n",
       "  92547973.27901565,\n",
       "  92907074.74440287,\n",
       "  93416539.62560833,\n",
       "  93918118.45879436,\n",
       "  94590679.33498071,\n",
       "  94836813.39817524,\n",
       "  95515103.68176062,\n",
       "  95897114.2639837,\n",
       "  96384970.87711877,\n",
       "  96868753.09854066,\n",
       "  97349546.97109258,\n",
       "  97809900.69054806,\n",
       "  98511614.00767457,\n",
       "  98774040.78367202,\n",
       "  99238154.86214265,\n",
       "  99702989.28340128,\n",
       "  100160764.85762647,\n",
       "  100620437.37469879,\n",
       "  101346118.61449745,\n",
       "  101522823.3422626,\n",
       "  101968226.50537409,\n",
       "  102410371.28174707,\n",
       "  103128717.52771343,\n",
       "  103284224.10828394,\n",
       "  103718765.96582407,\n",
       "  104148089.10902885,\n",
       "  104573536.93628085,\n",
       "  104996369.98801847,\n",
       "  105411991.12191772,\n",
       "  105824567.93570635,\n",
       "  106235701.71660319,\n",
       "  106640944.34974541,\n",
       "  107045273.6700602,\n",
       "  107445643.34931652,\n",
       "  107835295.15333669,\n",
       "  108229627.45099413,\n",
       "  108621096.12312415,\n",
       "  109007253.48489141,\n",
       "  109388839.79936272,\n",
       "  109767501.86460909,\n",
       "  110143595.56984681,\n",
       "  110513518.68449818,\n",
       "  110883121.23741692,\n",
       "  111244383.16624123,\n",
       "  111616633.19570029,\n",
       "  111966949.04843852,\n",
       "  112321603.00882454,\n",
       "  112673507.9377422,\n",
       "  113022382.21238959,\n",
       "  113369597.99731824,\n",
       "  113734567.7308915,\n",
       "  114053373.51738699,\n",
       "  114389347.79802085,\n",
       "  114724674.42364535,\n",
       "  115056853.3464502,\n",
       "  115405764.6117749,\n",
       "  115717159.0018148,\n",
       "  116048579.110767,\n",
       "  116362770.99490748,\n",
       "  116671918.78247163,\n",
       "  117003744.0654815,\n",
       "  117318572.25560124,\n",
       "  117629232.71747607,\n",
       "  117944764.00118029,\n",
       "  118254619.45878628,\n",
       "  118565236.8484818,\n",
       "  118879131.37840511,\n",
       "  119184751.03980151,\n",
       "  119492485.1390907,\n",
       "  119799399.52814907,\n",
       "  120105070.29086986,\n",
       "  120410728.26044983,\n",
       "  120709513.75466624,\n",
       "  121016650.40689418,\n",
       "  121322178.7074261,\n",
       "  121624345.3125445,\n",
       "  121927840.12294352,\n",
       "  122232439.21821171,\n",
       "  122538883.2497527,\n",
       "  122843688.88515821,\n",
       "  123150552.96497332,\n",
       "  123458187.53672308,\n",
       "  123766685.87990266,\n",
       "  124078519.52334821,\n",
       "  124390931.21785651,\n",
       "  124706153.5115247,\n",
       "  125023344.78278808,\n",
       "  125341857.71661676,\n",
       "  125664117.05068424,\n",
       "  125989896.58629227,\n",
       "  126317729.98996535,\n",
       "  126649201.08921891,\n",
       "  126982834.91097844,\n",
       "  127322518.31796682,\n",
       "  127663211.29466164,\n",
       "  128007099.5663259,\n",
       "  128357997.27547792,\n",
       "  128716060.8540442,\n",
       "  129078219.90982717,\n",
       "  129443878.74701624,\n",
       "  129820378.8658888,\n",
       "  130197284.32937652,\n",
       "  130582760.16081704,\n",
       "  130976961.19193509,\n",
       "  131375571.35634717,\n",
       "  131784979.41405347,\n",
       "  132202253.91730216,\n",
       "  132622840.44007733,\n",
       "  133056903.45695221,\n",
       "  133498538.0386242,\n",
       "  133947954.26886989,\n",
       "  134410562.9588787,\n",
       "  134883372.31847692,\n",
       "  135362218.775217,\n",
       "  135856066.08672705,\n",
       "  136361129.64698124,\n",
       "  136878974.81826746,\n",
       "  137408526.51668096,\n",
       "  137951890.52441442,\n",
       "  138508689.74102953,\n",
       "  139077906.96855074,\n",
       "  139660384.71949226,\n",
       "  140261396.87861198,\n",
       "  140892249.55750522,\n",
       "  141531679.20720094,\n",
       "  142194452.51416302,\n",
       "  142874826.6875713,\n",
       "  143593501.400534],\n",
       " array([0.18591137]))"
      ]
     },
     "execution_count": 49,
     "metadata": {},
     "output_type": "execute_result"
    }
   ],
   "source": [
    "import numpy as np\n",
    "crack_position = 0.1 * ce.sz_bd.L\n",
    "ce.reset()\n",
    "ce.sz_cp.trait_set(x_00=crack_position)\n",
    "ce.sz_cp.sz_ctr.L_fps = 80\n",
    "ce.run()\n",
    "F_beam = ce.F_beam\n",
    "F_max_ = np.max(F_beam)\n",
    "F_max_i_ = np.argmax(F_beam)\n",
    "F_max_i_int = np.array(F_max_i_)\n",
    "F_Na_ = ce.F_Na[F_max_i_int]\n",
    "F_s_ = ce.F_s[F_max_i_int]\n",
    "M = ce.M\n",
    "slip_ = ce.slip[F_max_i_int]\n",
    "w_ = ce.w[F_max_i_int][0]\n",
    "steel_slip_ = ce.s_steel[F_max_i_int]\n",
    "w_steel_ = ce.w_steel\n",
    "shear_stress_ = ce.shear_agg[F_max_i_int]\n",
    "F_a_ = ce.F_a[F_max_i_int][1]\n",
    "F_agg_ = F_a_ - F_Na_\n",
    "#shear_stress_, slip_\n",
    "M, w_steel_[F_max_i_int]"
   ]
  },
  {
   "cell_type": "code",
   "execution_count": 47,
   "metadata": {},
   "outputs": [
    {
     "data": {
      "application/vnd.jupyter.widget-view+json": {
       "model_id": "e66c0897e49a4375b494e0027a1ffea4",
       "version_major": 2,
       "version_minor": 0
      },
      "text/plain": [
       "Canvas(toolbar=Toolbar(toolitems=[('Home', 'Reset original view', 'home', 'home'), ('Back', 'Back to previous …"
      ]
     },
     "metadata": {},
     "output_type": "display_data"
    },
    {
     "name": "stderr",
     "output_type": "stream",
     "text": [
      "No handles with labels found to put in legend.\n"
     ]
    }
   ],
   "source": [
    "import matplotlib.pylab as plt\n",
    "E_s = 210000\n",
    "A_s = 2 * 3.14 * 28**2 / 4\n",
    "_, (ax1, ax2) = plt.subplots(1, 2, figsize=(11,4))\n",
    "ax1.plot(np.array(M[1:]) / (E_s * A_s), w_steel_[1:] , color = 'blue', lw= 2); #/1000#\n",
    "#ax1.plot(slip, , color = 'red', lw = 2, label = '$F_{dowel}$');\n",
    "ax1.set_xlabel(r'$\\frac{M}{E_s A_s}$'); ax1.set_ylabel(r'$w_{steel}\\,(mm)$');\n",
    "ax1.set_title(r'Bending moment crack opening relationship')\n",
    "ax1.legend()\n",
    "plt.savefig(\"D:\\Shear zones\\Python plots\\co.pdf\")"
   ]
  },
  {
   "cell_type": "code",
   "execution_count": null,
   "metadata": {},
   "outputs": [],
   "source": [
    "import numpy as np\n",
    "crack_positions = np.linspace(0.1 * ce.sz_bd.L, 0.9 * ce.sz_bd.L, 10)\n",
    "F_max = []\n",
    "F_a = []\n",
    "Q = []\n",
    "Q_red = []\n",
    "F_max_i = []\n",
    "F_Na = []\n",
    "F_s = []\n",
    "slip = []\n",
    "steel_slip = []\n",
    "shear_stress = []\n",
    "w = []\n",
    "w_steel = []\n",
    "V_c = []\n",
    "F_agg = []\n",
    "for crack_position in crack_positions:\n",
    "    ce.reset()\n",
    "    ce.sz_cp.trait_set(x_00=crack_position)\n",
    "    ce.sz_cp.sz_ctr.L_fps = 80\n",
    "    ce.run()\n",
    "    F_beam = ce.F_beam\n",
    "    F_max_ = np.max(F_beam)\n",
    "    F_max_i_ = np.argmax(F_beam)\n",
    "    F_max_i_int = np.array(F_max_i_)\n",
    "    F_Na_ = ce.F_Na[F_max_i_int]\n",
    "    F_s_ = ce.F_s[F_max_i_int]\n",
    "    slip_ = ce.slip[F_max_i_int][0]\n",
    "    w_ = ce.w[F_max_i_int][0]\n",
    "    steel_slip_ = ce.s_steel[F_max_i_int]\n",
    "    w_steel_ = ce.w_steel[F_max_i_int]\n",
    "    shear_stress_ = ce.shear_agg[F_max_i_int][0]\n",
    "    F_a_ = ce.F_a[F_max_i_int][1]\n",
    "    F_agg_ = F_a_ - F_Na_\n",
    "    Q_ = ce.Q[F_max_i_int]\n",
    "    Q_red_ =  ce.Q_red[F_max_i_int]\n",
    "    #V_c_ = Q_ + Q_red_ + F_a_\n",
    "    F_max.append(F_max_)\n",
    "    F_max_i.append(F_max_i_)\n",
    "    F_Na.append(F_Na_)\n",
    "    F_s.append(F_s_)\n",
    "    F_a.append(F_a_)\n",
    "    F_agg.append(F_agg_)\n",
    "    slip.append(slip_)\n",
    "    w.append(w_)\n",
    "    steel_slip.append(steel_slip_)\n",
    "    w_steel.append(w_steel_)\n",
    "    shear_stress.append(shear_stress_)\n",
    "    Q.append(Q_)\n",
    "    Q_red.append(Q_red_)\n",
    "    #V_c.append(V_c_)\n",
    "# print('F_max =', F_max)\n",
    "# print('F_max_i =', F_max_i)\n",
    "# print('F_Na =', F_Na)\n",
    "# print('F_s =', F_s)\n",
    "# #print(type(F_Na))\n",
    "# print('F_a = ', F_a)\n",
    "# print('Q =', Q)\n",
    "# print('Q_red =', Q_red)\n",
    "# # #print('V_c =', V_c)\n",
    "print('crack position =', crack_positions)\n",
    "#print('slip =', slip)\n",
    "#print('shear stress =', shear_stress)\n",
    "#print('steel slip =', steel_slip)\n",
    "#print('F_agg =', F_agg)\n",
    "print('w_steel =', w_steel)\n",
    "print('w =', w)"
   ]
  },
  {
   "cell_type": "code",
   "execution_count": null,
   "metadata": {},
   "outputs": [],
   "source": [
    "#F_a"
   ]
  },
  {
   "cell_type": "code",
   "execution_count": null,
   "metadata": {},
   "outputs": [],
   "source": [
    "import matplotlib.pylab as plt\n",
    "_, (ax1, ax2) = plt.subplots(1, 2, figsize=(11,4))\n",
    "ax1.plot(crack_positions, F_agg , color = 'blue', lw= 2, label = r'$F_{agg}$'); #/1000#\n",
    "#ax1.plot(slip, , color = 'red', lw = 2, label = '$F_{dowel}$');\n",
    "ax1.set_xlabel(r'$\\mathrm{Initial\\,position\\,of\\,the\\,crack\\,(mm)}$'); ax1.set_ylabel(r'$F\\,(N)$');\n",
    "ax1.set_title(r'Force contribution due to aggregate interlock')\n",
    "ax1.legend()\n",
    "ax2.plot(crack_positions, F_max, color = 'blue', lw= 2, label = r'$F_{agg}$'); \n",
    "ax2.set_xlabel(r'$\\mathrm{Initial\\,position\\,of\\,the\\,crack\\,(mm)}$'); ax2.set_ylabel(r'$F\\,(N)$');\n",
    "ax2.set_title(r'Force contribution due to aggregate interlock')\n",
    "ax2.legend()\n",
    "plt.savefig(\"D:\\Shear zones\\Python plots\\max_force_shear_force_agg_Lfps2.pdf\")"
   ]
  },
  {
   "cell_type": "code",
   "execution_count": null,
   "metadata": {},
   "outputs": [],
   "source": [
    "import matplotlib.pylab as plt\n",
    "_, (ax1, ax2) = plt.subplots(1, 2, figsize=(11,4))\n",
    "ax1.plot(crack_positions, shear_stress , color = 'blue', lw= 2, label = r'$\\tau_{agg}$'); #/1000#\n",
    "#ax1.plot(slip, , color = 'red', lw = 2, label = '$F_{dowel}$');\n",
    "ax1.set_xlabel(r'$\\mathrm{Initial\\,position\\,of\\,the\\,crack\\,(mm)}$'); ax1.set_ylabel(r'$\\tau\\,(MPa)$');\n",
    "ax1.set_title(r'Shear Stress due to Aggregate Interlock')\n",
    "ax1.legend()\n",
    "ax2.plot(crack_positions, slip , color = 'red', lw= 2, label = '$slip\\,(mm)$');\n",
    "ax2.set_xlabel(r'$\\mathrm{Initial\\,position\\,of\\,the\\,crack\\,(mm)}$'); ax2.set_ylabel(r'$slip\\,(mm)$');\n",
    "ax2.set_title(r'Slip due to Aggregate Interlock')\n",
    "ax2.legend()\n",
    "plt.savefig(\"D:\\Shear zones\\Python plots\\slip_shear_Lfps2.pdf\")"
   ]
  },
  {
   "cell_type": "code",
   "execution_count": null,
   "metadata": {},
   "outputs": [],
   "source": [
    "import matplotlib.pylab as plt\n",
    "_, (ax1, ax2) = plt.subplots(1, 2, figsize=(11,4))\n",
    "ax1.plot(crack_positions,  F_Na, color = 'blue', lw= 2, label = r'$F_{Na}$'); #/1000#\n",
    "ax1.set_xlabel(r'$\\mathrm{Initial\\,position\\,of\\,the\\,crack\\,(mm)}$'); ax1.set_ylabel(r'$F\\,(N)$');\n",
    "ax1.set_title(r'Dowel force due to Dowel Action')\n",
    "ax2.plot(crack_positions, steel_slip , color = 'red', lw= 2, label = '$slip\\,(mm)$');\n",
    "ax2.set_xlabel(r'$\\mathrm{Initial\\,position\\,of\\,the\\,crack\\,(mm)}$'); ax2.set_ylabel(r'$steel\\,slip\\,(mm)$');\n",
    "ax2.set_title(r'Slip due to dowel force')\n",
    "ax2.legend()\n",
    "plt.savefig(\"D:\\Shear zones\\Python plots\\dowel_slip_length_Lfps2.pdf\")"
   ]
  },
  {
   "cell_type": "code",
   "execution_count": null,
   "metadata": {},
   "outputs": [],
   "source": [
    "import matplotlib.pylab as plt\n",
    "_, (ax1, ax2) = plt.subplots(1, 2, figsize=(11,4))\n",
    "ax1.plot(crack_positions, w, color = 'blue', lw= 2, label = r'$w(mm)}$'); #/1000#\n",
    "ax1.set_xlabel(r'$\\mathrm{Length\\,of\\,the\\,beam\\,(mm)}$'); ax1.set_ylabel(r'$w\\,(mm)$');\n",
    "ax1.set_title(r'Crack opening at the ultimate state due to aggregate')\n",
    "ax1.legend()\n",
    "ax2.plot(crack_positions, w_steel , color = 'red', lw= 2, label = '$w\\,(mm)$');\n",
    "ax2.set_xlabel(r'$\\mathrm{Length\\,of\\,the\\,beam\\,(mm)}$'); ax2.set_ylabel(r'$w\\,(mm)$');\n",
    "ax2.set_title(r'Crack Opening at the ultimate state at longitudinal reinforcement')\n",
    "ax2.legend()\n",
    "plt.savefig(\"D:\\Shear zones\\Python plots\\w_steel_Lfps2.pdf\")"
   ]
  },
  {
   "cell_type": "code",
   "execution_count": null,
   "metadata": {},
   "outputs": [],
   "source": [
    "L_fps_ = np.linspace(2, 80, 10)\n",
    "crack_position = ce.sz_bd.L  * 0.5\n",
    "F_max = []\n",
    "F_max_i = []\n",
    "F_a = []\n",
    "F_Na = []\n",
    "F_s = []\n",
    "slip = []\n",
    "steel_slip = []\n",
    "shear_stress = []\n",
    "w = []\n",
    "w_steel = []\n",
    "F_agg = []\n",
    "for L_fps in L_fps_:\n",
    "    ce.reset()\n",
    "    ce.sz_cp.sz_ctr.trait_set(L_fps=L_fps)\n",
    "    ce.sz_cp.trait_set(x_00=crack_position)\n",
    "    ce.run()\n",
    "    F_beam = ce.F_beam\n",
    "    F_max_ = np.max(F_beam)\n",
    "    F_max_i_ = np.argmax(F_beam)\n",
    "    F_max_i_int = np.array(F_max_i_)\n",
    "    F_Na_ = ce.F_Na[F_max_i_int]\n",
    "    F_s_ = ce.F_s[F_max_i_int]\n",
    "    slip_ = ce.slip[F_max_i_int][0]\n",
    "    w_ = ce.w[F_max_i_int][0]\n",
    "    steel_slip_ = ce.s_steel[F_max_i_int]\n",
    "    w_steel_ = ce.w_steel[F_max_i_int]\n",
    "    shear_stress_ = ce.shear_agg[F_max_i_int][0]\n",
    "    F_a_ = ce.F_a[F_max_i_int][1]\n",
    "    F_agg_ = F_a_ - F_Na_\n",
    "#     F_beam = ce.F_beam\n",
    "#     F_max_ = np.max(F_beam)\n",
    "#     F_max_i_ = np.argmax(F_beam)\n",
    "#     F_max_i_int = np.array(F_max_i_)\n",
    "    F_max_i.append(F_max_i_)\n",
    "    F_max.append(F_max_)\n",
    "    F_Na.append(F_Na_)\n",
    "    F_s.append(F_s_)\n",
    "    F_a.append(F_a_)\n",
    "    F_agg.append(F_agg_)\n",
    "    slip.append(slip_)\n",
    "    w.append(w_)\n",
    "    steel_slip.append(steel_slip_)\n",
    "    w_steel.append(w_steel_)\n",
    "    shear_stress.append(shear_stress_)\n",
    "#print(F_max)\n",
    "#print(F_max_i)\n",
    "print('slip =', slip)\n",
    "print('w =', w)\n",
    "print('w_steel =', w_steel)\n",
    "print('steel_slip =', steel_slip)\n",
    "print('L_fps =', L_fps_)"
   ]
  },
  {
   "cell_type": "code",
   "execution_count": null,
   "metadata": {},
   "outputs": [],
   "source": [
    "import matplotlib.pylab as plt\n",
    "_, (ax1, ax2) = plt.subplots(1, 2, figsize=(11,4))\n",
    "ax1.plot(L_fps_, steel_slip, color = 'blue', lw= 2, label = r'$s_{s}(mm)}$');#/1000#\n",
    "#ax1.plot(crack_positions, slip, color = 'red', lw= 2, label = r'$s(mm)}$');\n",
    "ax1.set_xlabel(r'$\\mathrm{Length\\,of\\,FPZ\\,(mm)}$'); ax1.set_ylabel(r'$s\\,(mm)$');\n",
    "ax1.set_title(r'Slip at the steel reinforcement $x_{00}$= 0.5L')\n",
    "ax1.legend()\n",
    "ax2.plot(L_fps_, w_steel , color = 'red', lw= 2, label = '$w\\,(mm)$');\n",
    "ax2.set_xlabel('$\\mathrm{Length\\,of\\,FPZ\\,(mm)}$'); ax2.set_ylabel(r'$w\\,(mm)$');\n",
    "ax2.set_title(r'Crack Opening at the ultimate state at longitudinal reinforcement')\n",
    "ax2.legend()\n",
    "plt.savefig(\"D:\\Shear zones\\Python plots\\w_steel_Lfps_vary.pdf\")"
   ]
  },
  {
   "cell_type": "code",
   "execution_count": null,
   "metadata": {
    "scrolled": false
   },
   "outputs": [],
   "source": [
    "import matplotlib.pylab as plt\n",
    "_, (ax1, ax2) = plt.subplots(1, 2, figsize=(11,4))\n",
    "ax1.plot(L_fps_,F_Na, color = 'blue', lw= 2, label = r'$s_{s}(mm)}$');#/1000#\n",
    "#ax1.plot(crack_positions, slip, color = 'red', lw= 2, label = r'$s(mm)}$');\n",
    "ax1.set_xlabel(r'$\\mathrm{Length\\,of\\,FPZ\\,(mm)}$'); ax1.set_ylabel(r'$F_{da}\\,(Na)$');\n",
    "ax1.set_title(r'Dowel Force')\n",
    "ax1.legend()\n",
    "ax2.plot(L_fps_, F_a , color = 'red', lw= 2, label = '$w\\,(mm)$');\n",
    "ax2.set_xlabel('$\\mathrm{Length\\,of\\,FPZ\\,(mm)}$'); ax2.set_ylabel(r'$F_{ag}\\,(N)$');\n",
    "ax2.set_title(r'Aggregate Force')\n",
    "ax2.legend()\n",
    "plt.savefig(\"D:\\Shear zones\\Python plots\\F_Na_agg_vary.pdf\")"
   ]
  },
  {
   "cell_type": "code",
   "execution_count": null,
   "metadata": {},
   "outputs": [],
   "source": [
    "import matplotlib.pylab as plt\n",
    "_, (ax1, ax2) = plt.subplots(1, 2, figsize=(11,4))\n",
    "ax1.plot(L_fps_, slip, color = 'blue', lw= 2, label = r'$s_{s}(mm)}$');#/1000#\n",
    "#ax1.plot(crack_positions, slip, color = 'red', lw= 2, label = r'$s(mm)}$');\n",
    "ax1.set_xlabel(r'$\\mathrm{Length\\,of\\,FPZ\\,(mm)}$'); ax1.set_ylabel(r'$s\\,(mm)$');\n",
    "ax1.set_title(r'Slip at aggregate interlock')\n",
    "ax1.legend()\n",
    "ax2.plot(L_fps_, shear_stress , color = 'red', lw= 2, label = '$w\\,(mm)$');\n",
    "ax2.set_xlabel('$\\mathrm{Length\\,of\\,FPZ\\,(mm)}$'); ax2.set_ylabel(r'$\\tau_{ag}\\,(MPa)$');\n",
    "ax2.set_title(r'Shear stress due to aggregate interlock')\n",
    "ax2.legend()\n",
    "plt.savefig(\"D:\\Shear zones\\Python plots\\shear_slip_agg_vary.pdf\")"
   ]
  },
  {
   "cell_type": "code",
   "execution_count": null,
   "metadata": {},
   "outputs": [],
   "source": [
    "import matplotlib.pylab as plt\n",
    "_, (ax1, ax2) = plt.subplots(1, 2, figsize=(11,4))\n",
    "ax1.plot(L_fps_, F_max, color = 'blue', lw= 2, label = r'$s_{s}(mm)}$');#/1000#\n",
    "#ax1.plot(crack_positions, slip, color = 'red', lw= 2, label = r'$s(mm)}$');\n",
    "ax1.set_xlabel(r'$\\mathrm{Length\\,of\\,FPZ\\,(mm)}$'); ax1.set_ylabel(r'$F_{max}\\,(N)$');\n",
    "ax1.set_title(r'Maximum Force Contribution')\n",
    "ax1.legend()\n",
    "ax2.plot(L_fps_, F_s , color = 'red', lw= 2, label = '$w\\,(mm)$');\n",
    "ax2.set_xlabel('$\\mathrm{Length\\,of\\,FPZ\\,(mm)}$'); ax2.set_ylabel(r'$F_{s}\\,(N)$');\n",
    "ax2.set_title(r'Horizontal Force component at steel')\n",
    "ax2.legend()\n",
    "plt.savefig(\"D:\\Shear zones\\Python plots\\F_max_F_steel_vary.pdf\")"
   ]
  },
  {
   "cell_type": "code",
   "execution_count": null,
   "metadata": {
    "scrolled": false
   },
   "outputs": [],
   "source": [
    "L_fps_num = 4\n",
    "L_fps_ = np.linspace(2, 80, L_fps_num)\n",
    "crack_positions_num = 9\n",
    "crack_positions = np.linspace(ce.sz_bd.L  * 0.1, ce.sz_bd.L  * 0.9, crack_positions_num) \n",
    "# F_max = []\n",
    "F_max = np.zeros([crack_positions_num, L_fps_num])\n",
    "F_Na = np.zeros([crack_positions_num, L_fps_num])\n",
    "F_s = np.zeros([crack_positions_num, L_fps_num])\n",
    "F_a = np.zeros([crack_positions_num, L_fps_num])\n",
    "slip = np.zeros([crack_positions_num, L_fps_num])\n",
    "steel_slip = np.zeros([crack_positions_num, L_fps_num])\n",
    "shear_stress = np.zeros([crack_positions_num, L_fps_num])\n",
    "w = np.zeros([crack_positions_num, L_fps_num])\n",
    "w_steel = np.zeros([crack_positions_num, L_fps_num])\n",
    "F_agg = np.zeros([crack_positions_num, L_fps_num])\n",
    "for i in range(len(crack_positions)):\n",
    "    for j in range(len(L_fps_)):\n",
    "        ce.reset()\n",
    "        ce.sz_cp.trait_set(x_00=crack_positions[i])\n",
    "        print(crack_positions[i])\n",
    "        ce.sz_cp.sz_ctr.trait_set(L_fps=L_fps_[j])\n",
    "        #print(L_fps_[j])\n",
    "        ce.run()\n",
    "        F_beam = ce.F_beam\n",
    "        F_max_ = np.max(F_beam)\n",
    "        F_max_i_ = np.argmax(F_beam)\n",
    "        F_max_i_int = np.array(F_max_i_)\n",
    "        F_Na_ = ce.F_Na[F_max_i_int]\n",
    "        F_s_ = ce.F_s[F_max_i_int]\n",
    "        slip_ = ce.slip[F_max_i_int][0]\n",
    "        w_ = ce.w[F_max_i_int][0]\n",
    "        steel_slip_ = ce.s_steel[F_max_i_int]\n",
    "        w_steel_ = ce.w_steel[F_max_i_int]\n",
    "        shear_stress_ = ce.shear_agg[F_max_i_int][0]\n",
    "        F_a_ = ce.F_a[F_max_i_int][1]\n",
    "        F_agg_ = F_a_ - F_Na_\n",
    "        F_max[i, j] = F_max_\n",
    "        F_Na[i,j] = F_Na_\n",
    "        F_s[i,j] = F_s_\n",
    "        slip[i,j] = slip_\n",
    "        w[i,j] = w_\n",
    "        steel_slip[i,j] = steel_slip_\n",
    "        w_steel[i,j] = w_steel_\n",
    "        shear_stress[i,j] = shear_stress_\n",
    "        F_a[i,j] = F_a_\n",
    "        F_agg[i,j] = F_agg_\n",
    "        \n",
    "        \n",
    "#         F_max_i.append(F_max_i_)\n",
    "    #F_max_all = np.concatenate(F_max_1)\n",
    "print('F_max =', F_max)\n",
    "print('F_Na =', F_Na)\n",
    "print('F_s =', F_s)\n",
    "print('slip =', slip)\n",
    "print('w =', w)\n",
    "print('steel_slip =', steel_slip)\n",
    "print('w_steel =', w_steel)\n",
    "print('shear_stress =', shear_stress)\n",
    "print('F_a =', F_a)\n",
    "    #r.append(F_max)\n",
    "#         F_Na.append(F_Na_)\n",
    "#         F_s.append(F_s_)\n",
    "#         F_a.append(F_a_)\n",
    "#         F_agg.append(F_agg_)\n",
    "#         #slip.append(slip_)\n",
    "#         #w.append(w_)\n",
    "#         steel_slip.append(steel_slip_)\n",
    "#         w_steel.append(w_steel_)\n",
    "        #shear_stress.append(shear_stress_)\n",
    "    #print('slip =', slip)\n",
    "    #print('w =', w)\n",
    "#     print('steel_slip =', steel_slip)\n",
    "#     print('L_fps =', L_fps_)\n",
    "#     print('crack_position =', crack_positions)"
   ]
  },
  {
   "cell_type": "code",
   "execution_count": null,
   "metadata": {
    "scrolled": false
   },
   "outputs": [],
   "source": [
    "import matplotlib.pylab as plt\n",
    "_, (ax1, ax2) = plt.subplots(1, 2, figsize=(11,4))\n",
    "ax1.plot(L_fps_, F_max[0,:], lw= 2, label = r'$x_{00} = 0.1L$');\n",
    "ax1.plot(L_fps_, F_max[1,:], lw= 2, label = r'$x_{00} = 0.2L$');\n",
    "ax1.plot(L_fps_, F_max[2,:], lw= 2, label = r'$x_{00} = 0.3L$');\n",
    "ax1.plot(L_fps_, F_max[3,:], lw= 2, label = r'$x_{00} = 0.4L$');\n",
    "ax1.plot(L_fps_, F_max[4,:], lw= 2, label = r'$x_{00} = 0.5L$');\n",
    "ax1.plot(L_fps_, F_max[5,:], lw= 2, label = r'$x_{00} = 0.6L$');\n",
    "ax1.plot(L_fps_, F_max[6,:], lw= 2, label = r'$x_{00} = 0.7L$');\n",
    "ax1.plot(L_fps_, F_max[7,:], lw= 2, label = r'$x_{00} = 0.8L$');\n",
    "ax1.plot(L_fps_, F_max[8,:], lw= 2, label = r'$x_{00} = 0.9L$');\n",
    "#ax1.plot(crack_positions, slip, color = 'red', lw= 2, label = r'$s(mm)}$');\n",
    "ax1.set_xlabel(r'$\\mathrm{Length\\,of\\,FPZ\\,(mm)}$'); ax1.set_ylabel(r'$F_{max}\\,(N)$');\n",
    "ax1.set_title(r'Maximum Force Contribution')\n",
    "ax1.legend()\n",
    "ax2.plot(L_fps_, F_Na[0,:], lw= 2, label = r'$x_{00} = 0.1L$');\n",
    "ax2.plot(L_fps_, F_Na[1,:], lw= 2, label = r'$x_{00} = 0.2L$');\n",
    "ax2.plot(L_fps_, F_Na[2,:], lw= 2, label = r'$x_{00} = 0.3L$');\n",
    "ax2.plot(L_fps_, F_Na[3,:], lw= 2, label = r'$x_{00} = 0.4L$');\n",
    "ax2.plot(L_fps_, F_Na[4,:], lw= 2, label = r'$x_{00} = 0.5L$');\n",
    "ax2.plot(L_fps_, F_Na[5,:], lw= 2, label = r'$x_{00} = 0.6L$');\n",
    "ax2.plot(L_fps_, F_Na[6,:], lw= 2, label = r'$x_{00} = 0.7L$');\n",
    "ax2.plot(L_fps_, F_Na[7,:], lw= 2, label = r'$x_{00} = 0.8L$');\n",
    "ax2.plot(L_fps_, F_Na[8,:], lw= 2, label = r'$x_{00} = 0.9L$');\n",
    "ax2.set_xlabel(r'$\\mathrm{Length\\,of\\,FPZ\\,(mm)}$'); ax2.set_ylabel(r'$F_{Na}\\,(N)$');\n",
    "ax1.set_title(r'Maximum Dowel Force Contribution')\n",
    "ax2.legend()\n",
    "plt.savefig(\"D:\\Shear zones\\Python plots\\F_max_F_steel_all_crack_points.pdf\")"
   ]
  },
  {
   "cell_type": "code",
   "execution_count": null,
   "metadata": {},
   "outputs": [],
   "source": [
    "import matplotlib.pylab as plt\n",
    "_, (ax1, ax2) = plt.subplots(1, 2, figsize=(11,4))\n",
    "ax1.plot(L_fps_, F_s[0,:], lw= 2, label = r'$x_{00} = 0.1L$');\n",
    "ax1.plot(L_fps_, F_s[1,:], lw= 2, label = r'$x_{00} = 0.2L$');\n",
    "ax1.plot(L_fps_, F_s[2,:], lw= 2, label = r'$x_{00} = 0.3L$');\n",
    "ax1.plot(L_fps_, F_s[3,:], lw= 2, label = r'$x_{00} = 0.4L$');\n",
    "ax1.plot(L_fps_, F_s[4,:], lw= 2, label = r'$x_{00} = 0.5L$');\n",
    "ax1.plot(L_fps_, F_s[5,:], lw= 2, label = r'$x_{00} = 0.6L$');\n",
    "ax1.plot(L_fps_, F_s[6,:], lw= 2, label = r'$x_{00} = 0.7L$');\n",
    "ax1.plot(L_fps_, F_s[7,:], lw= 2, label = r'$x_{00} = 0.8L$');\n",
    "ax1.plot(L_fps_, F_s[8,:], lw= 2, label = r'$x_{00} = 0.9L$');\n",
    "#ax1.plot(crack_positions, slip, color = 'red', lw= 2, label = r'$s(mm)}$');\n",
    "ax1.set_xlabel(r'$\\mathrm{Length\\,of\\,FPZ\\,(mm)}$'); ax1.set_ylabel(r'$F_{max}\\,(N)$');\n",
    "ax1.set_title(r'Maximum Horizontal Force Contribution at reinforcement')\n",
    "ax1.legend()\n",
    "ax2.plot(L_fps_, F_a[0,:], lw= 2, label = r'$x_{00} = 0.1L$');\n",
    "ax2.plot(L_fps_, F_a[1,:], lw= 2, label = r'$x_{00} = 0.2L$');\n",
    "ax2.plot(L_fps_, F_a[2,:], lw= 2, label = r'$x_{00} = 0.3L$');\n",
    "ax2.plot(L_fps_, F_a[3,:], lw= 2, label = r'$x_{00} = 0.4L$');\n",
    "ax2.plot(L_fps_, F_a[4,:], lw= 2, label = r'$x_{00} = 0.5L$');\n",
    "ax2.plot(L_fps_, F_a[5,:], lw= 2, label = r'$x_{00} = 0.6L$');\n",
    "ax2.plot(L_fps_, F_a[6,:], lw= 2, label = r'$x_{00} = 0.7L$');\n",
    "ax2.plot(L_fps_, F_a[7,:], lw= 2, label = r'$x_{00} = 0.8L$');\n",
    "ax2.plot(L_fps_, F_a[8,:], lw= 2, label = r'$x_{00} = 0.9L$');\n",
    "#ax1.plot(crack_positions, slip, color = 'red', lw= 2, label = r'$s(mm)}$');\n",
    "ax2.set_xlabel(r'$\\mathrm{Length\\,of\\,FPZ\\,(mm)}$'); ax2.set_ylabel(r'$F_{max}\\,(N)$');\n",
    "ax2.set_title(r'Maximum Aggregate Force Contribution at Ultimate state')\n",
    "ax2.legend()\n",
    "plt.savefig(\"D:\\Shear zones\\Python plots\\F_a_F_steel_h_all_crack_points.pdf\")"
   ]
  },
  {
   "cell_type": "code",
   "execution_count": null,
   "metadata": {},
   "outputs": [],
   "source": [
    "import matplotlib.pylab as plt\n",
    "_, (ax1, ax2) = plt.subplots(1, 2, figsize=(11,4))\n",
    "ax1.plot(L_fps_, steel_slip[0,:], lw= 2, label = r'$x_{00} = 0.1L$');\n",
    "ax1.plot(L_fps_, steel_slip[1,:], lw= 2, label = r'$x_{00} = 0.2L$');\n",
    "ax1.plot(L_fps_, steel_slip[2,:], lw= 2, label = r'$x_{00} = 0.3L$');\n",
    "ax1.plot(L_fps_, steel_slip[3,:], lw= 2, label = r'$x_{00} = 0.4L$');\n",
    "ax1.plot(L_fps_, steel_slip[4,:], lw= 2, label = r'$x_{00} = 0.5L$');\n",
    "ax1.plot(L_fps_, steel_slip[5,:], lw= 2, label = r'$x_{00} = 0.6L$');\n",
    "ax1.plot(L_fps_, steel_slip[6,:], lw= 2, label = r'$x_{00} = 0.7L$');\n",
    "ax1.plot(L_fps_, steel_slip[7,:], lw= 2, label = r'$x_{00} = 0.8L$');\n",
    "ax1.plot(L_fps_, steel_slip[8,:], lw= 2, label = r'$x_{00} = 0.9L$');\n",
    "#ax1.plot(crack_positions, slip, color = 'red', lw= 2, label = r'$s(mm)}$');\n",
    "ax1.set_xlabel(r'$\\mathrm{Length\\,of\\,FPZ\\,(mm)}$'); ax1.set_ylabel(r'$s\\,(mm)$');\n",
    "ax1.set_title(r'Slip displacement at steel reinforcement')\n",
    "ax1.legend()\n",
    "ax2.plot(L_fps_, w_steel[0,:], lw= 2, label = r'$x_{00} = 0.1L$');\n",
    "ax2.plot(L_fps_, w_steel[1,:], lw= 2, label = r'$x_{00} = 0.2L$');\n",
    "ax2.plot(L_fps_, w_steel[2,:], lw= 2, label = r'$x_{00} = 0.3L$');\n",
    "ax2.plot(L_fps_, w_steel[3,:], lw= 2, label = r'$x_{00} = 0.4L$');\n",
    "ax2.plot(L_fps_, w_steel[4,:], lw= 2, label = r'$x_{00} = 0.5L$');\n",
    "ax2.plot(L_fps_, w_steel[5,:], lw= 2, label = r'$x_{00} = 0.6L$');\n",
    "ax2.plot(L_fps_, w_steel[6,:], lw= 2, label = r'$x_{00} = 0.7L$');\n",
    "ax2.plot(L_fps_, w_steel[7,:], lw= 2, label = r'$x_{00} = 0.8L$');\n",
    "ax2.plot(L_fps_, w_steel[8,:], lw= 2, label = r'$x_{00} = 0.9L$');\n",
    "#ax1.plot(crack_positions, slip, color = 'red', lw= 2, label = r'$s(mm)}$');\n",
    "ax2.set_xlabel(r'$\\mathrm{Length\\,of\\,FPZ\\,(mm)}$'); ax2.set_ylabel(r'$w\\,(mm)$');\n",
    "ax2.set_title(r'Longitudinal crack opening at steel reinforcement')\n",
    "ax2.legend()\n",
    "plt.savefig(\"D:\\Shear zones\\Python plots\\crack_position_l_2_newcrack_position_l_2_new.pdf\")"
   ]
  },
  {
   "cell_type": "code",
   "execution_count": null,
   "metadata": {},
   "outputs": [],
   "source": [
    "import matplotlib.pylab as plt\n",
    "_, (ax1, ax2) = plt.subplots(1, 2, figsize=(11,4))\n",
    "ax1.plot(L_fps_, slip[0,:], lw= 2, label = r'$x_{00} = 0.1L$');\n",
    "ax1.plot(L_fps_, slip[1,:], lw= 2, label = r'$x_{00} = 0.2L$');\n",
    "ax1.plot(L_fps_, slip[2,:], lw= 2, label = r'$x_{00} = 0.3L$');\n",
    "ax1.plot(L_fps_, slip[3,:], lw= 2, label = r'$x_{00} = 0.4L$');\n",
    "ax1.plot(L_fps_, slip[4,:], lw= 2, label = r'$x_{00} = 0.5L$');\n",
    "ax1.plot(L_fps_, slip[5,:], lw= 2, label = r'$x_{00} = 0.6L$');\n",
    "ax1.plot(L_fps_, slip[6,:], lw= 2, label = r'$x_{00} = 0.7L$');\n",
    "ax1.plot(L_fps_, slip[7,:], lw= 2, label = r'$x_{00} = 0.8L$');\n",
    "ax1.plot(L_fps_, slip[8,:], lw= 2, label = r'$x_{00} = 0.9L$');\n",
    "#ax1.plot(crack_positions, slip, color = 'red', lw= 2, label = r'$s(mm)}$');\n",
    "ax1.set_xlabel(r'$\\mathrm{Length\\,of\\,FPZ\\,(mm)}$'); ax1.set_ylabel(r'$s\\,(mm)$');\n",
    "ax1.set_title(r'Slip displacement at interlock at ultimate state')\n",
    "ax1.legend()\n",
    "ax2.plot(L_fps_, shear_stress[0,:], lw= 2, label = r'$x_{00} = 0.1L$');\n",
    "ax2.plot(L_fps_, shear_stress[1,:], lw= 2, label = r'$x_{00} = 0.2L$');\n",
    "ax2.plot(L_fps_, shear_stress[2,:], lw= 2, label = r'$x_{00} = 0.3L$');\n",
    "ax2.plot(L_fps_, shear_stress[3,:], lw= 2, label = r'$x_{00} = 0.4L$');\n",
    "ax2.plot(L_fps_, shear_stress[4,:], lw= 2, label = r'$x_{00} = 0.5L$');\n",
    "ax2.plot(L_fps_, shear_stress[5,:], lw= 2, label = r'$x_{00} = 0.6L$');\n",
    "ax2.plot(L_fps_, shear_stress[6,:], lw= 2, label = r'$x_{00} = 0.7L$');\n",
    "ax2.plot(L_fps_, shear_stress[7,:], lw= 2, label = r'$x_{00} = 0.8L$');\n",
    "ax2.plot(L_fps_, shear_stress[8,:], lw= 2, label = r'$x_{00} = 0.9L$');\n",
    "#ax1.plot(crack_positions, slip, color = 'red', lw= 2, label = r'$s(mm)}$');\n",
    "ax2.set_xlabel(r'$\\mathrm{Length\\,of\\,FPZ\\,(mm)}$'); ax2.set_ylabel(r'$\\tau\\,(MPa)$');\n",
    "ax2.set_title(r'shear stress distribution due to aggregate interlock')\n",
    "ax2.legend()\n",
    "plt.savefig(\"D:\\Shear zones\\Python plots\\slip_shear_agg_all_crack_points.pdf\")"
   ]
  },
  {
   "cell_type": "code",
   "execution_count": null,
   "metadata": {},
   "outputs": [],
   "source": [
    "import matplotlib.pylab as plt\n",
    "_, (ax1) = plt.subplots(1, 1, figsize=(6,4))\n",
    "ax1.plot(crack_positions, F_s[:, 1], lw= 2, label = r'$F_s$');\n",
    "ax1.set_xlabel(r'$\\mathrm{Length\\,of\\,the\\,beam\\,(mm)}$'); ax1.set_ylabel(r'$F_{s}\\,(N)$');\n",
    "ax1.set_title(r'Maximum Horizontal Force Contribution at reinforcement')\n",
    "ax1.legend()\n",
    "plt.savefig(\"D:\\Shear zones\\Python plots\\F_s_length_beam.pdf\")"
   ]
  },
  {
   "cell_type": "code",
   "execution_count": null,
   "metadata": {},
   "outputs": [],
   "source": [
    "# import numpy as np\n",
    "# crack_positions = np.linspace(0.1 * ce.sz_bd.L, 0.9 * ce.sz_bd.L, 10)\n",
    "# F_max = []\n",
    "# F_max_i = []\n",
    "# slip = []\n",
    "# F_Na = []\n",
    "# shear_stress = []\n",
    "# for crack_position in crack_positions:\n",
    "#     ce.reset()\n",
    "#     ce.sz_cp.trait_set(x_00=crack_position)\n",
    "#     ce.run()\n",
    "#     F_beam = ce.F_beam\n",
    "#     F_max_ = np.max(F_beam)\n",
    "#     F_max_i_ = np.argmax(F_beam)\n",
    "#     F_max_i_int = np.array(F_max_i_)\n",
    "#     F_Na_ = ce.F_Na[F_max_i_int]\n",
    "#     slip_ = ce.slip[F_max_i_int][F_max_i_int]\n",
    "#     shear_stress_ = ce.shear_agg[F_max_i_int][F_max_i_int]\n",
    "#     F_max.append(F_max_)\n",
    "#     F_max_i.append(F_max_i_)\n",
    "#     slip.append(slip_)\n",
    "#     shear_stress.append(shear_stress_)\n",
    "#     F_Na.append(F_Na_)\n",
    "#     F_max_i.append(F_max_i_)\n",
    "# print('crack position =', crack_positions)\n",
    "# print('slip =', slip)\n",
    "# print('shear stress =', shear_stress)\n",
    "# print('F_Na =', F_Na)\n",
    "# print('F_max_i =', F_max_i)"
   ]
  },
  {
   "cell_type": "code",
   "execution_count": null,
   "metadata": {
    "scrolled": false
   },
   "outputs": [],
   "source": [
    "# import matplotlib.pylab as plt\n",
    "# _, (ax1, ax2) = plt.subplots(1, 2, figsize=(11,4))\n",
    "# #ax1.plot(crack_positions, np.array(V_c) /1000, color = 'red', lw= 2);\n",
    "# ax1.plot(crack_positions, np.array(F_a) , color = 'blue', lw= 2, label = '$F_{agg}$'); #/1000\n",
    "# ax1.plot(crack_positions, F_Na, color = 'red', lw = 2, label = '$F_{dowel}$');\n",
    "# #ax1.plot(crack_positions, np.array(Q) , color = 'green', lw= 2); #/1000\n",
    "# ax1.plot(crack_positions, np.array(Q_red) , color = 'orange', lw= 2, label = '$F_{uncr}$'); #/1000\n",
    "# ax1.set_xlabel(r'$\\mathrm{Length\\,of\\,the\\,beam\\,(mm)}$'); ax1.set_ylabel(r'$F\\,(N)$');\n",
    "# ax1.set_title(r'Max Force Contribution')\n",
    "# ax1.legend()\n",
    "# ax2.plot(crack_positions, np.array(F_a) , color = 'blue', lw= 2, label = '$F_{agg}$');\n",
    "# ax2.plot(crack_positions, F_Na, color = 'red', lw = 2, label = '$F_{dowel}$');\n",
    "# ax2.set_xlabel(r'$\\mathrm{Length\\,of\\,the\\,beam\\,(mm)}$'); ax2.set_ylabel(r'$F\\,(N)$');\n",
    "# #plt.savefig(\"D:\\Shear zones\\Python plots\\Force_comparisons_updated.pdf\")"
   ]
  },
  {
   "cell_type": "code",
   "execution_count": null,
   "metadata": {},
   "outputs": [],
   "source": []
  },
  {
   "cell_type": "code",
   "execution_count": null,
   "metadata": {},
   "outputs": [],
   "source": [
    "# import matplotlib.pylab as plt\n",
    "# _, (ax1, ax2) = plt.subplots(1, 2, figsize=(11,4))\n",
    "# ax1.plot(c_p, F_La, color = 'red', lw= 2);\n",
    "# ax1.set_xlabel(r'$\\mathrm{Length\\,of\\,the\\,beam\\,(mm)}$'); ax1.set_ylabel(r'$F\\,(N)$');\n",
    "# ax1.set_title(r'Force contribution Aggregate Interlock')\n",
    "# ax2.plot(c_p , F_Na, color='blue', lw=2);\n",
    "# ax2.set_xlabel(r'$\\mathrm{Length\\,of\\,the\\,beam\\,(mm)}$'); ax2.set_ylabel(r'$F_{da}\\,(N)$');\n",
    "# ax2.set_title(r'Force contribution Dowel Action')\n",
    "# #plt.savefig(\"D:\\Shear zones\\Python plots\\Force_comparisons.pdf\")"
   ]
  },
  {
   "cell_type": "code",
   "execution_count": null,
   "metadata": {},
   "outputs": [],
   "source": [
    "# import numpy as np\n",
    "# F_a_ = np.array(ce.F_a)\n",
    "# D = ce.sz_bd.H - ce.sz_bd.cross_section_layout.reinforcement.z_j[0]\n",
    "# x_tip_1n = np.array(ce.x_tip_1n)\n",
    "# x_tip_0n = np.array(ce.x_tip_0n)\n",
    "# x_tip_1k = np.array(ce.x_tip_1k)\n",
    "# L = ce.sz_bd.L\n",
    "# A_s = ce.sz_bd.cross_section_layout.reinforcement.A_j[0] \n",
    "# E_s = ce.sz_bd.cross_section_layout.reinforcement.E_j[0]\n",
    "# v_n = np.array(ce.v_n)\n",
    "# V_c = []\n",
    "# # for x_tip_0n in range(len(v_n)):\n",
    "# #     if x_tip_0n == 0:\n",
    "# #         V_c = ((ce.crack_tip_shear_stress.Q) ) #\\\n",
    "# #                #/ (ce.sz_bd.B * D * np.sqrt(33.3) ))\n",
    "# #     elif x_tip_0n > 0:\n",
    "# V_c = (np.array(ce.F_beam[1:])) / (1 - (0.5 * (ce.sz_bd.H - x_tip_1n[1:])/ x_tip_0n[1:])) #\\ #ce.crack_tip_shear_stress.Q\n",
    "#                #/ (ce.sz_bd.B * D * np.sqrt(33.3) ))      \n",
    "# #V_c = ((ce.crack_tip_shear_stress.Q) / (1 - (0.5 * (ce.sz_bd.H - x_tip_1n[1:])/ x_tip_0n[1:])) / (ce.sz_bd.B * D * np.sqrt(33.3) ))\n",
    "# V_e = np.ones_like(v_n) * 114000\n",
    "# V_f = v_n * A_s * E_s * (D - x_tip_1k/3) / ((D - x_tip_1k) * (L - x_tip_0n))\n",
    "# #V_f\n",
    "# #v_n\n",
    "# #ce.Q\n",
    "# #V_c"
   ]
  },
  {
   "cell_type": "code",
   "execution_count": null,
   "metadata": {},
   "outputs": [],
   "source": [
    "# import matplotlib.pylab as plt\n",
    "# _, (ax1, ax2) = plt.subplots(1, 2, figsize=(11,4))\n",
    "# ax1.plot(ce.v_n[1:], V_c, color = 'red', lw= 2, label = 'V_c');\n",
    "# #ax1.plot(ce.v_n, ce.F_beam, color = 'blue', lw = 2);\n",
    "# ax1.plot(ce.v_n[1:], V_e[1:], '--' , color = 'orange', lw = 2, label = 'V_exp')\n",
    "# ax1.plot(ce.v_n[1:], V_f[1:], '--' , color = 'green', lw = 2, label = 'V_load')\n",
    "# ax1.set_xlabel('deflection')\n",
    "# ax1.set_ylabel('V')\n",
    "# ax1.legend()"
   ]
  },
  {
   "cell_type": "code",
   "execution_count": null,
   "metadata": {},
   "outputs": [],
   "source": [
    "# import matplotlib.pylab as plt\n",
    "# _, (ax1) = plt.subplots(1, 1, figsize=(7,4))\n",
    "# ax1.plot(c_p, F_m, color = 'red', lw= 2);\n",
    "# ax1.set_xlabel(r'$\\mathrm{Length\\,of\\,the\\,beam\\,(mm)}$'); ax1.set_ylabel(r'$F_{max}\\,(N)$');\n",
    "# ax1.set_title(r'Maximum Force Contribution along the length of the beam')\n",
    "# #plt.savefig(\"D:\\Shear zones\\Python plots\\Max_Force_contributions.pdf\")"
   ]
  },
  {
   "cell_type": "code",
   "execution_count": null,
   "metadata": {
    "scrolled": false
   },
   "outputs": [],
   "source": [
    "# import matplotlib.pylab as plt\n",
    "# _, (ax1) = plt.subplots(1, 1, figsize=(7,5))\n",
    "# x_00_L = c_p/ ce.sz_bd.L\n",
    "# ones = np.ones_like(c_p)\n",
    "# V_exp = 114000 * ones \n",
    "# ax1.plot(x_00_L, F_m, color = 'red', lw= 2, label = (r'$V_{max}$'));\n",
    "# ax1.plot(x_00_L, V_exp, color = 'black',linestyle='--', lw =2, label = (r'$V_{exp}$'));\n",
    "# ax1.set_xlabel(r'$\\mathrm{\\frac{x_{00}}{Length\\,of\\,the\\,beam\\,(mm)}}$'); ax1.set_ylabel(r'$F_{max}\\,(N)$');\n",
    "# ax1.set_title(r'Maximum Force Contribution along the length of the beam')\n",
    "# ax1.legend()\n",
    "# #plt.savefig(\"D:\\Shear zones\\Python plots\\Max_Force_contributions_with_V_exp.pdf\")"
   ]
  },
  {
   "cell_type": "code",
   "execution_count": null,
   "metadata": {},
   "outputs": [],
   "source": [
    "# import matplotlib.pylab as plt\n",
    "# _, (ax1) = plt.subplots(1, 1, figsize=(6,5))\n",
    "# ones = np.ones_like(c_p)\n",
    "# V_exp = 114000 * ones \n",
    "# #ax1.plot(c_p, F_m, color = 'red', lw= 2, label = (r'$V_{max}$'));\n",
    "# #ax1.plot(c_p, V_exp, color = 'black',linestyle='--', lw =2, label = (r'$V_{exp}$'));\n",
    "# ax1.plot(c_p, Q_reduce, color = 'blue', lw =2, label = (r'$V_{uncr}$'));\n",
    "# #ax1.plot(c_p, F_La, color = 'orange', lw = 2, label = (r'$V_{agg}$'));\n",
    "# #ax1.plot(c_p, F_Na, color = 'green', lw =2, label = (r'$V_{da}$'));\n",
    "# ax1.set_xlabel(r'$\\mathrm{Length\\,of\\,the\\,beam\\,(mm)}$'); ax1.set_ylabel(r'$F_{max}\\,(N)$');\n",
    "# ax1.set_title(r'Maximum Force Contribution along the length of the beam')\n",
    "# ax1.legend()\n",
    "# plt.savefig(\"D:\\Shear zones\\Python plots\\Q_reduce_contributions.pdf\")"
   ]
  },
  {
   "cell_type": "code",
   "execution_count": null,
   "metadata": {
    "scrolled": false
   },
   "outputs": [],
   "source": [
    "# ce.crack_tip_orientation.get_psi(), ce.M_n"
   ]
  },
  {
   "cell_type": "code",
   "execution_count": null,
   "metadata": {},
   "outputs": [],
   "source": [
    "# ce.crack_tip_shear_stress.Q_reduced, ce.sz_stress_profile.F_La[47,0], ce.sz_stress_profile.F_Na[0,0]\n",
    "# ce.crack_tip_shear_stress.tau_x_tip_1k *ce.sz_bd.B\n",
    "# ce.sz_stress_profile.F_a\n",
    "# ce.crack_tip_shear_stress.Q_reduced"
   ]
  },
  {
   "cell_type": "code",
   "execution_count": null,
   "metadata": {},
   "outputs": [],
   "source": [
    "# import numpy as np\n",
    "# ce.sz_stress_profile.u_La[47,:]"
   ]
  },
  {
   "cell_type": "code",
   "execution_count": null,
   "metadata": {},
   "outputs": [],
   "source": [
    "# (ce.sz_stress_profile.M / 1000) / ((ce.crack_tip_shear_stress.Q) *\\\n",
    "#                                    (ce.sz_bd.H - ce.sz_bd.cross_section_layout.reinforcement.z_j[0]))"
   ]
  },
  {
   "cell_type": "code",
   "execution_count": null,
   "metadata": {
    "scrolled": true
   },
   "outputs": [],
   "source": [
    "# #V_uncr = np.sum(ce.crack_tip_shear_stress.tau_z) * ce.sz_bd.B\n",
    "# print(V_uncr)\n",
    "# V_da = ce.sz_stress_profile.F_Na[:,1]\n",
    "# print(V_da)\n",
    "# V_ai = np.sum(ce.sz_stress_profile.F_La[:,1]) #* ce.sz_bd.B #- np.sum(ce.sz_bd.cmm.get_sigma_ag(ce.sz_stress_profile.u_Lb[...,0],ce.sz_stress_profile.u_Lb[...,1])) #* np.cos((ce.sz_cp._get_beta()))\n",
    "# print(V_ai)\n",
    "# V_res = np.max(ce.F_beam)\n",
    "# print(V_res)\n",
    "# V_uncr + V_da + V_ai + V_res"
   ]
  },
  {
   "cell_type": "code",
   "execution_count": null,
   "metadata": {},
   "outputs": [],
   "source": [
    "# np.sum(ce.sz_stress_profile.F_La[:,1])"
   ]
  },
  {
   "cell_type": "code",
   "execution_count": null,
   "metadata": {},
   "outputs": [],
   "source": [
    "# np.sum(ce.sz_stress_profile.S_La[:,1]) * ce.sz_bd.B"
   ]
  },
  {
   "cell_type": "code",
   "execution_count": null,
   "metadata": {
    "pycharm": {
     "name": "#%%\n"
    }
   },
   "outputs": [],
   "source": [
    "# import numpy as np\n",
    "# S_Lb = ce.sz_stress_profile.S_Lb\n",
    "# S_La = ce.sz_stress_profile.S_La\n",
    "# idx = np.argmax(S_Lb[...,0])"
   ]
  },
  {
   "cell_type": "code",
   "execution_count": null,
   "metadata": {
    "pycharm": {
     "name": "#%%\n"
    }
   },
   "outputs": [],
   "source": [
    "# S_Lb[idx,:], S_La[idx,:]"
   ]
  },
  {
   "cell_type": "code",
   "execution_count": null,
   "metadata": {
    "pycharm": {
     "name": "#%%\n"
    }
   },
   "outputs": [],
   "source": [
    "# ce.sz_cp.T_Mab[idx,...]"
   ]
  },
  {
   "cell_type": "code",
   "execution_count": null,
   "metadata": {
    "pycharm": {
     "name": "#%%\n"
    }
   },
   "outputs": [],
   "source": [
    "# np.einsum('i,i', S_Lb[idx,:], S_Lb[idx,:])"
   ]
  },
  {
   "cell_type": "code",
   "execution_count": null,
   "metadata": {
    "pycharm": {
     "name": "#%%\n"
    }
   },
   "outputs": [],
   "source": [
    "# np.einsum('i,i', S_La[idx,:], S_La[idx,:])"
   ]
  },
  {
   "cell_type": "markdown",
   "metadata": {},
   "source": [
    "Todo:\n",
    "\n",
    " - include the reinforcement material law - partially done \n",
    "   (but for strain-based material law) - replace with the crack bridge law\n",
    " - transformation of the crack bridging force to the global coordinates\n",
    " - include the dowel effect "
   ]
  },
  {
   "cell_type": "code",
   "execution_count": null,
   "metadata": {
    "pycharm": {
     "name": "#%%\n"
    }
   },
   "outputs": [],
   "source": [
    "#ce.sz_ctr._get_x_rot_ak()"
   ]
  },
  {
   "cell_type": "code",
   "execution_count": null,
   "metadata": {
    "pycharm": {
     "name": "#%%\n"
    }
   },
   "outputs": [],
   "source": [
    "# ce.sz_stress_profile.F_Na"
   ]
  },
  {
   "cell_type": "code",
   "execution_count": null,
   "metadata": {},
   "outputs": [],
   "source": [
    "# ce.sz_stress_profile.u_Na"
   ]
  },
  {
   "cell_type": "code",
   "execution_count": null,
   "metadata": {},
   "outputs": [],
   "source": [
    "# np.max(ce.sz_stress_profile.F_La)"
   ]
  },
  {
   "cell_type": "code",
   "execution_count": null,
   "metadata": {},
   "outputs": [],
   "source": [
    "# np.sum(ce.sz_stress_profile.F_La)"
   ]
  },
  {
   "cell_type": "code",
   "execution_count": null,
   "metadata": {},
   "outputs": [],
   "source": [
    "# np.max(ce.sz_stress_profile.F_La)"
   ]
  },
  {
   "cell_type": "code",
   "execution_count": null,
   "metadata": {},
   "outputs": [],
   "source": []
  }
 ],
 "metadata": {
  "kernelspec": {
   "display_name": "Python 3",
   "language": "python",
   "name": "python3"
  },
  "language_info": {
   "codemirror_mode": {
    "name": "ipython",
    "version": 3
   },
   "file_extension": ".py",
   "mimetype": "text/x-python",
   "name": "python",
   "nbconvert_exporter": "python",
   "pygments_lexer": "ipython3",
   "version": "3.9.1"
  },
  "toc": {
   "base_numbering": 1,
   "nav_menu": {},
   "number_sections": true,
   "sideBar": true,
   "skip_h1_title": false,
   "title_cell": "Table of Contents",
   "title_sidebar": "Contents",
   "toc_cell": false,
   "toc_position": {},
   "toc_section_display": true,
   "toc_window_display": false
  }
 },
 "nbformat": 4,
 "nbformat_minor": 1
}
