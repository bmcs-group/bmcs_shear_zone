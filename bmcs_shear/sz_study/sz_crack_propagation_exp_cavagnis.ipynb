{
 "cells": [
  {
   "cell_type": "markdown",
   "metadata": {
    "pycharm": {
     "name": "#%%\n"
    }
   },
   "source": [
    "# 2D Crack propagation in a bended beam"
   ]
  },
  {
   "cell_type": "markdown",
   "metadata": {},
   "source": [
    " - @todo: Plot the residual value\n",
    " - @todo: State dependencies - recalculate upon material parameter change"
   ]
  },
  {
   "cell_type": "markdown",
   "metadata": {},
   "source": [
    "\\begin{align}\n",
    "\\sigma_\\mathrm{F} = E w / L_\\mathrm{eff}\n",
    "\\end{align}"
   ]
  },
  {
   "cell_type": "code",
   "execution_count": null,
   "metadata": {
    "pycharm": {
     "name": "#%%\n"
    }
   },
   "outputs": [],
   "source": [
    "# %matplotlib widget\n",
    "# import bmcs_utils.api as bu\n",
    "# from bmcs_shear.shear_crack.crack_propagation import CrackPropagation\n",
    "# ce = CrackPropagation(n_seg=5)\n",
    "# ce.sz_bd.cmm.trait_set(tau_1 = 4, s_1 = 0.2, tau_2 = 3, tau_3 = 2, s_2 = 1.4, s_3 = 5)\n",
    "# ce.sz_bd.cmm.trait_set(f_c = 33.3, f_t = 0.3 * 33.3 **(2/3), d_a = 16)\n",
    "# ce.sz_bd.Rectangle = True\n",
    "# ce.sz_bd.trait_set(H=600, B=250, L=3870)\n",
    "# ce.sz_cp.trait_set(x_00=ce.sz_bd.L * 0.5, n_m = 15)\n",
    "# ce.sz_cp.sz_ctr.trait_set(ell = 2)\n",
    "# ce.sz_bd.cross_section_layout.reinforcement.z_j[0] = 44\n",
    "# ce.sz_bd.cross_section_layout.reinforcement.A_j[0] = 615.44 #2 no 28\n",
    "# ce.sz_bd.cross_section_layout.reinforcement.E_j[0] = 210000 / 100"
   ]
  },
  {
   "cell_type": "code",
   "execution_count": 1,
   "metadata": {
    "scrolled": false
   },
   "outputs": [
    {
     "name": "stdout",
     "output_type": "stream",
     "text": [
      "*******************************\n",
      "crack position =  387.0\n"
     ]
    },
    {
     "name": "stderr",
     "output_type": "stream",
     "text": [
      "<lambdifygenerated-24>:2: RuntimeWarning: invalid value encountered in sqrt\n",
      "  return (select([less_equal(w, 0),True], [0,0.25*f_c*s*(-sqrt(2)*sqrt(w/d_a) + 1)*((2.44 - 39.04/f_c)*abs(s/w)**3 + 9.8/f_c)/(w*(s**4*(2.44 - 39.04/f_c)/w**4 + 1))], default=nan))\n"
     ]
    },
    {
     "name": "stdout",
     "output_type": "stream",
     "text": [
      "F_max =  33575.017385429805\n",
      "F_max_i =  41\n",
      "Q_red =  16155.258791497257\n",
      "F_La_max =  0.5916798674615807\n",
      "F_Na_max =  0.0\n",
      "*******************************\n",
      "crack position =  731.0\n",
      "F_max =  37338.54057311283\n",
      "F_max_i =  40\n",
      "Q_red =  16177.307632888407\n",
      "F_La_max =  0.6370924646720832\n",
      "F_Na_max =  0.0\n",
      "*******************************\n",
      "crack position =  1075.0\n",
      "F_max =  41836.562317406235\n",
      "F_max_i =  41\n",
      "Q_red =  16155.258791497257\n",
      "F_La_max =  0.7367807425644782\n",
      "F_Na_max =  0.0\n",
      "*******************************\n",
      "crack position =  1419.0\n",
      "F_max =  47804.771636866004\n",
      "F_max_i =  39\n",
      "Q_red =  16197.443195324546\n",
      "F_La_max =  0.7638312842613694\n",
      "F_Na_max =  0.0\n",
      "*******************************\n",
      "crack position =  1763.0\n",
      "F_max =  55613.09858153405\n",
      "F_max_i =  41\n",
      "Q_red =  16155.258791497257\n",
      "F_La_max =  0.9567321273363922\n",
      "F_Na_max =  0.0\n",
      "*******************************\n",
      "crack position =  2107.0\n",
      "F_max =  66303.21852202041\n",
      "F_max_i =  41\n",
      "Q_red =  16155.258791497257\n",
      "F_La_max =  1.1147884186716484\n",
      "F_Na_max =  0.0\n",
      "*******************************\n",
      "crack position =  2451.0\n",
      "F_max =  82532.85904782273\n",
      "F_max_i =  39\n",
      "Q_red =  16197.443195324546\n",
      "F_La_max =  1.354528352805998\n",
      "F_Na_max =  0.0\n",
      "*******************************\n",
      "crack position =  2795.0\n",
      "F_max =  108832.9930541574\n",
      "F_max_i =  37\n",
      "Q_red =  16232.638769240259\n",
      "F_La_max =  1.636755149785027\n",
      "F_Na_max =  0.0\n",
      "*******************************\n",
      "crack position =  3139.0\n",
      "F_max =  159834.80182066653\n",
      "F_max_i =  39\n",
      "Q_red =  16197.443195324546\n",
      "F_La_max =  2.489137662265309\n",
      "F_Na_max =  0.0\n",
      "*******************************\n",
      "crack position =  3483.0\n"
     ]
    },
    {
     "name": "stderr",
     "output_type": "stream",
     "text": [
      "<lambdifygenerated-28>:2: RuntimeWarning: invalid value encountered in sqrt\n",
      "  return (select([less(w, (1/2)*Dummy_181*sig_y**2/(Dummy_179*Dummy_180*p)),True], [sqrt(2)*sqrt(Dummy_179)*sqrt(Dummy_180)*sqrt(Dummy_181)*sqrt(p)*sqrt(w),Dummy_181*sig_y], default=nan))\n"
     ]
    },
    {
     "name": "stdout",
     "output_type": "stream",
     "text": [
      "F_max =  299735.5972351061\n",
      "F_max_i =  38\n",
      "Q_red =  16215.778848117865\n",
      "F_La_max =  4.56657283190536\n",
      "F_Na_max =  0.0\n"
     ]
    }
   ],
   "source": [
    "%matplotlib widget\n",
    "import numpy as np\n",
    "import bmcs_utils.api as bu\n",
    "from bmcs_shear.shear_crack.crack_propagation import CrackPropagation\n",
    "ce = CrackPropagation(n_seg=200)\n",
    "ce.sz_bd.cmm.trait_set(tau_1 = 4, s_1 = 0.2, tau_2 = 3, tau_3 = 2, s_2 = 1.4, s_3 = 5)\n",
    "ce.sz_bd.cmm.trait_set(f_c = 33.3, f_t = 0.3 * 33.3 **(2/3), d_a = 16)\n",
    "ce.sz_bd.Rectangle = True\n",
    "ce.sz_bd.trait_set(H=600, B=250, L=3870)\n",
    "ce.sz_cp.sz_ctr.trait_set(ell = 2)\n",
    "ce.sz_bd.cross_section_layout.reinforcement.z_j[0] = 44\n",
    "ce.sz_bd.cross_section_layout.reinforcement.A_j[0] = 615.44 #2 no 28\n",
    "ce.sz_bd.cross_section_layout.reinforcement.E_j[0] = 210000 / 100\n",
    "\n",
    "F_La, F_Na, F_m, Q_reduce, c_p = ce.analyze() \n",
    "#print(F_La, F_Na, c_p)"
   ]
  },
  {
   "cell_type": "code",
   "execution_count": 2,
   "metadata": {},
   "outputs": [
    {
     "data": {
      "application/vnd.jupyter.widget-view+json": {
       "model_id": "3a0c885ce9f2441a8519729b1dfe7f06",
       "version_major": 2,
       "version_minor": 0
      },
      "text/plain": [
       "Canvas(toolbar=Toolbar(toolitems=[('Home', 'Reset original view', 'home', 'home'), ('Back', 'Back to previous …"
      ]
     },
     "metadata": {},
     "output_type": "display_data"
    },
    {
     "data": {
      "text/plain": [
       "Text(0.5, 1.0, 'Force contribution Dowel Action')"
      ]
     },
     "execution_count": 2,
     "metadata": {},
     "output_type": "execute_result"
    }
   ],
   "source": [
    "import matplotlib.pylab as plt\n",
    "_, (ax1, ax2) = plt.subplots(1, 2, figsize=(11,4))\n",
    "ax1.plot(c_p, F_La, color = 'red', lw= 2);\n",
    "ax1.set_xlabel(r'$\\mathrm{Length\\,of\\,the\\,beam\\,(mm)}$'); ax1.set_ylabel(r'$F\\,(N)$');\n",
    "ax1.set_title(r'Force contribution Aggregate Interlock')\n",
    "ax2.plot(c_p , F_Na, color='blue', lw=2);\n",
    "ax2.set_xlabel(r'$\\mathrm{Length\\,of\\,the\\,beam\\,(mm)}$'); ax2.set_ylabel(r'$F_{da}\\,(N)$');\n",
    "ax2.set_title(r'Force contribution Dowel Action')\n",
    "#plt.savefig(\"D:\\Shear zones\\Python plots\\Force_comparisons.pdf\")"
   ]
  },
  {
   "cell_type": "code",
   "execution_count": 3,
   "metadata": {},
   "outputs": [
    {
     "data": {
      "application/vnd.jupyter.widget-view+json": {
       "model_id": "ecae221e3480419d809ab2258f5c0dfe",
       "version_major": 2,
       "version_minor": 0
      },
      "text/plain": [
       "Canvas(toolbar=Toolbar(toolitems=[('Home', 'Reset original view', 'home', 'home'), ('Back', 'Back to previous …"
      ]
     },
     "metadata": {},
     "output_type": "display_data"
    },
    {
     "data": {
      "text/plain": [
       "Text(0.5, 1.0, 'Maximum Force Contribution along the length of the beam')"
      ]
     },
     "execution_count": 3,
     "metadata": {},
     "output_type": "execute_result"
    }
   ],
   "source": [
    "import matplotlib.pylab as plt\n",
    "_, (ax1) = plt.subplots(1, 1, figsize=(7,4))\n",
    "ax1.plot(c_p, F_m, color = 'red', lw= 2);\n",
    "ax1.set_xlabel(r'$\\mathrm{Length\\,of\\,the\\,beam\\,(mm)}$'); ax1.set_ylabel(r'$F_{max}\\,(N)$');\n",
    "ax1.set_title(r'Maximum Force Contribution along the length of the beam')\n",
    "#plt.savefig(\"D:\\Shear zones\\Python plots\\Max_Force_contributions.pdf\")"
   ]
  },
  {
   "cell_type": "code",
   "execution_count": 4,
   "metadata": {
    "scrolled": false
   },
   "outputs": [
    {
     "data": {
      "application/vnd.jupyter.widget-view+json": {
       "model_id": "800afad44fb949da9ed6092cc8e5377e",
       "version_major": 2,
       "version_minor": 0
      },
      "text/plain": [
       "Canvas(toolbar=Toolbar(toolitems=[('Home', 'Reset original view', 'home', 'home'), ('Back', 'Back to previous …"
      ]
     },
     "metadata": {},
     "output_type": "display_data"
    },
    {
     "data": {
      "text/plain": [
       "<matplotlib.legend.Legend at 0x1839c90a640>"
      ]
     },
     "execution_count": 4,
     "metadata": {},
     "output_type": "execute_result"
    }
   ],
   "source": [
    "import matplotlib.pylab as plt\n",
    "_, (ax1) = plt.subplots(1, 1, figsize=(7,5))\n",
    "x_00_L = c_p/ ce.sz_bd.L\n",
    "ones = np.ones_like(c_p)\n",
    "V_exp = 114000 * ones \n",
    "ax1.plot(x_00_L, F_m, color = 'red', lw= 2, label = (r'$V_{max}$'));\n",
    "ax1.plot(x_00_L, V_exp, color = 'black',linestyle='--', lw =2, label = (r'$V_{exp}$'));\n",
    "ax1.set_xlabel(r'$\\mathrm{\\frac{x_{00}}{Length\\,of\\,the\\,beam\\,(mm)}}$'); ax1.set_ylabel(r'$F_{max}\\,(N)$');\n",
    "ax1.set_title(r'Maximum Force Contribution along the length of the beam')\n",
    "ax1.legend()\n",
    "#plt.savefig(\"D:\\Shear zones\\Python plots\\Max_Force_contributions_with_V_exp.pdf\")"
   ]
  },
  {
   "cell_type": "code",
   "execution_count": 5,
   "metadata": {},
   "outputs": [
    {
     "data": {
      "application/vnd.jupyter.widget-view+json": {
       "model_id": "f7e919edd8a54dfea395612f41d20c63",
       "version_major": 2,
       "version_minor": 0
      },
      "text/plain": [
       "Canvas(toolbar=Toolbar(toolitems=[('Home', 'Reset original view', 'home', 'home'), ('Back', 'Back to previous …"
      ]
     },
     "metadata": {},
     "output_type": "display_data"
    }
   ],
   "source": [
    "import matplotlib.pylab as plt\n",
    "_, (ax1) = plt.subplots(1, 1, figsize=(6,5))\n",
    "ones = np.ones_like(c_p)\n",
    "V_exp = 114000 * ones \n",
    "#ax1.plot(c_p, F_m, color = 'red', lw= 2, label = (r'$V_{max}$'));\n",
    "#ax1.plot(c_p, V_exp, color = 'black',linestyle='--', lw =2, label = (r'$V_{exp}$'));\n",
    "ax1.plot(c_p, Q_reduce, color = 'blue', lw =2, label = (r'$V_{uncr}$'));\n",
    "#ax1.plot(c_p, F_La, color = 'orange', lw = 2, label = (r'$V_{agg}$'));\n",
    "#ax1.plot(c_p, F_Na, color = 'green', lw =2, label = (r'$V_{da}$'));\n",
    "ax1.set_xlabel(r'$\\mathrm{Length\\,of\\,the\\,beam\\,(mm)}$'); ax1.set_ylabel(r'$F_{max}\\,(N)$');\n",
    "ax1.set_title(r'Maximum Force Contribution along the length of the beam')\n",
    "ax1.legend()\n",
    "plt.savefig(\"D:\\Shear zones\\Python plots\\Q_reduce_contributions.pdf\")"
   ]
  },
  {
   "cell_type": "code",
   "execution_count": null,
   "metadata": {
    "pycharm": {
     "name": "#%%\n"
    },
    "scrolled": false
   },
   "outputs": [],
   "source": [
    "bu.InteractiveWindow([ce, ce.sz_bd, ce.sz_bd.cross_section_layout, \n",
    "                      ce.sz_stress_profile, \n",
    "                      ce.sz_bd.cmm, ce.sz_bd.smm, ce.sz_cp, ce.sz_cp.sz_ctr]).interact()"
   ]
  },
  {
   "cell_type": "code",
   "execution_count": null,
   "metadata": {},
   "outputs": [],
   "source": [
    "ce.crack_tip_shear_stress.Q_reduced, ce.sz_stress_profile.F_La[47,0], ce.sz_stress_profile.F_Na[0,0]\n",
    "ce.crack_tip_shear_stress.tau_x_tip_1k *ce.sz_bd.B\n",
    "ce.sz_stress_profile.F_a\n",
    "ce.crack_tip_shear_stress.Q_reduced"
   ]
  },
  {
   "cell_type": "code",
   "execution_count": null,
   "metadata": {},
   "outputs": [],
   "source": [
    "# import numpy as np\n",
    "# ce.sz_stress_profile.u_La[47,:]"
   ]
  },
  {
   "cell_type": "code",
   "execution_count": null,
   "metadata": {},
   "outputs": [],
   "source": [
    "# (ce.sz_stress_profile.M / 1000) / ((ce.crack_tip_shear_stress.Q) *\\\n",
    "#                                    (ce.sz_bd.H - ce.sz_bd.cross_section_layout.reinforcement.z_j[0]))"
   ]
  },
  {
   "cell_type": "code",
   "execution_count": null,
   "metadata": {
    "scrolled": true
   },
   "outputs": [],
   "source": [
    "# #V_uncr = np.sum(ce.crack_tip_shear_stress.tau_z) * ce.sz_bd.B\n",
    "# print(V_uncr)\n",
    "# V_da = ce.sz_stress_profile.F_Na[:,1]\n",
    "# print(V_da)\n",
    "# V_ai = np.sum(ce.sz_stress_profile.F_La[:,1]) #* ce.sz_bd.B #- np.sum(ce.sz_bd.cmm.get_sigma_ag(ce.sz_stress_profile.u_Lb[...,0],ce.sz_stress_profile.u_Lb[...,1])) #* np.cos((ce.sz_cp._get_beta()))\n",
    "# print(V_ai)\n",
    "# V_res = np.max(ce.F_beam)\n",
    "# print(V_res)\n",
    "# V_uncr + V_da + V_ai + V_res"
   ]
  },
  {
   "cell_type": "code",
   "execution_count": null,
   "metadata": {},
   "outputs": [],
   "source": [
    "# np.sum(ce.sz_stress_profile.F_La[:,1])"
   ]
  },
  {
   "cell_type": "code",
   "execution_count": null,
   "metadata": {},
   "outputs": [],
   "source": [
    "# np.sum(ce.sz_stress_profile.S_La[:,1]) * ce.sz_bd.B"
   ]
  },
  {
   "cell_type": "code",
   "execution_count": null,
   "metadata": {
    "pycharm": {
     "name": "#%%\n"
    }
   },
   "outputs": [],
   "source": [
    "import numpy as np\n",
    "S_Lb = ce.sz_stress_profile.S_Lb\n",
    "S_La = ce.sz_stress_profile.S_La\n",
    "idx = np.argmax(S_Lb[...,0])"
   ]
  },
  {
   "cell_type": "code",
   "execution_count": null,
   "metadata": {
    "pycharm": {
     "name": "#%%\n"
    }
   },
   "outputs": [],
   "source": [
    "S_Lb[idx,:], S_La[idx,:]"
   ]
  },
  {
   "cell_type": "code",
   "execution_count": null,
   "metadata": {
    "pycharm": {
     "name": "#%%\n"
    }
   },
   "outputs": [],
   "source": [
    "ce.sz_cp.T_Mab[idx,...]"
   ]
  },
  {
   "cell_type": "code",
   "execution_count": null,
   "metadata": {
    "pycharm": {
     "name": "#%%\n"
    }
   },
   "outputs": [],
   "source": [
    "np.einsum('i,i', S_Lb[idx,:], S_Lb[idx,:])"
   ]
  },
  {
   "cell_type": "code",
   "execution_count": null,
   "metadata": {
    "pycharm": {
     "name": "#%%\n"
    }
   },
   "outputs": [],
   "source": [
    "np.einsum('i,i', S_La[idx,:], S_La[idx,:])"
   ]
  },
  {
   "cell_type": "markdown",
   "metadata": {},
   "source": [
    "Todo:\n",
    "\n",
    " - include the reinforcement material law - partially done \n",
    "   (but for strain-based material law) - replace with the crack bridge law\n",
    " - transformation of the crack bridging force to the global coordinates\n",
    " - include the dowel effect "
   ]
  },
  {
   "cell_type": "code",
   "execution_count": null,
   "metadata": {
    "pycharm": {
     "name": "#%%\n"
    }
   },
   "outputs": [],
   "source": [
    "#ce.sz_ctr._get_x_rot_ak()"
   ]
  },
  {
   "cell_type": "code",
   "execution_count": null,
   "metadata": {
    "pycharm": {
     "name": "#%%\n"
    }
   },
   "outputs": [],
   "source": [
    "# ce.sz_stress_profile.F_Na"
   ]
  },
  {
   "cell_type": "code",
   "execution_count": null,
   "metadata": {},
   "outputs": [],
   "source": [
    "# ce.sz_stress_profile.u_Na"
   ]
  },
  {
   "cell_type": "code",
   "execution_count": null,
   "metadata": {},
   "outputs": [],
   "source": [
    "# np.max(ce.sz_stress_profile.F_La)"
   ]
  },
  {
   "cell_type": "code",
   "execution_count": null,
   "metadata": {},
   "outputs": [],
   "source": [
    "# np.sum(ce.sz_stress_profile.F_La)"
   ]
  },
  {
   "cell_type": "code",
   "execution_count": null,
   "metadata": {},
   "outputs": [],
   "source": [
    "# np.max(ce.sz_stress_profile.F_La)"
   ]
  },
  {
   "cell_type": "code",
   "execution_count": null,
   "metadata": {},
   "outputs": [],
   "source": []
  }
 ],
 "metadata": {
  "kernelspec": {
   "display_name": "Python 3",
   "language": "python",
   "name": "python3"
  },
  "language_info": {
   "codemirror_mode": {
    "name": "ipython",
    "version": 3
   },
   "file_extension": ".py",
   "mimetype": "text/x-python",
   "name": "python",
   "nbconvert_exporter": "python",
   "pygments_lexer": "ipython3",
   "version": "3.9.1"
  },
  "toc": {
   "base_numbering": 1,
   "nav_menu": {},
   "number_sections": true,
   "sideBar": true,
   "skip_h1_title": false,
   "title_cell": "Table of Contents",
   "title_sidebar": "Contents",
   "toc_cell": false,
   "toc_position": {},
   "toc_section_display": true,
   "toc_window_display": false
  }
 },
 "nbformat": 4,
 "nbformat_minor": 1
}
