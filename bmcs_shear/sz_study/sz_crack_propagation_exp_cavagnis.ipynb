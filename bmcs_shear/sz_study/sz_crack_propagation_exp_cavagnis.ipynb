{
 "cells": [
  {
   "cell_type": "markdown",
   "metadata": {
    "pycharm": {
     "name": "#%%\n"
    }
   },
   "source": [
    "# 2D Crack propagation in a bended beam"
   ]
  },
  {
   "cell_type": "markdown",
   "metadata": {},
   "source": [
    " - @todo: Plot the residual value\n",
    " - @todo: State dependencies - recalculate upon material parameter change"
   ]
  },
  {
   "cell_type": "markdown",
   "metadata": {},
   "source": [
    "\\begin{align}\n",
    "\\sigma_\\mathrm{F} = E w / L_\\mathrm{eff}\n",
    "\\end{align}"
   ]
  },
  {
   "cell_type": "code",
   "execution_count": 1,
   "metadata": {},
   "outputs": [
    {
     "data": {
      "text/plain": [
       "<function _lambdifygenerated(Dummy_22, Dummy_23)>"
      ]
     },
     "execution_count": 1,
     "metadata": {},
     "output_type": "execute_result"
    }
   ],
   "source": [
    "import sympy as sp\n",
    "xi = sp.Symbol(r'\\xi')\n",
    "G_f0 = sp.Symbol(r'G_{f0}')\n",
    "a = 1.038\n",
    "b = 0.245\n",
    "G_f = (1 + (a/(1+b/xi)) - (1 + a + b)/(1 + b) * xi**8) #G_f0 * \n",
    "get_G_F = sp.lambdify((xi,G_f0), G_f, 'numpy') \n",
    "get_G_F"
   ]
  },
  {
   "cell_type": "code",
   "execution_count": 2,
   "metadata": {},
   "outputs": [
    {
     "name": "stderr",
     "output_type": "stream",
     "text": [
      "<lambdifygenerated-1>:2: RuntimeWarning: divide by zero encountered in true_divide\n",
      "  return (-1.83373493975904*Dummy_22**8 + 1 + 1.038/(1 + 0.245/Dummy_22))\n",
      "No handles with labels found to put in legend.\n"
     ]
    },
    {
     "data": {
      "image/png": "[encoded data removed]",
      "text/plain": [
       "<Figure size 504x288 with 1 Axes>"
      ]
     },
     "metadata": {
      "needs_background": "light"
     },
     "output_type": "display_data"
    }
   ],
   "source": [
    "import matplotlib.pylab as plt\n",
    "import numpy as np\n",
    "_, (ax1) = plt.subplots(1, 1, figsize=(7,4))\n",
    "xi = np.linspace(0,1,100)\n",
    "G_f0 = 86.7\n",
    "G_f = get_G_F(xi, G_f0)\n",
    "ax1.plot(xi, G_f , color = 'blue', lw= 2);\n",
    "ax1.set_xlabel(r'$\\xi$'); ax1.set_ylabel(r'$\\frac{G_f}{G_{f0}}$');\n",
    "ax1.set_title(r'Effect of crack parallel stress on fracture energy')\n",
    "ax1.legend()\n",
    "plt.savefig(\"D:\\Shear zones\\Python plots\\Bazanttest.pdf\")"
   ]
  },
  {
   "cell_type": "code",
   "execution_count": 3,
   "metadata": {
    "pycharm": {
     "name": "#%%\n"
    }
   },
   "outputs": [],
   "source": [
    "# %matplotlib widget\n",
    "# import bmcs_utils.api as bu\n",
    "# from bmcs_shear.shear_crack.crack_propagation import CrackPropagation\n",
    "# ce = CrackPropagation(n_seg=5)\n",
    "# ce.sz_bd.cmm.trait_set(tau_1 = 4, s_1 = 0.2, tau_2 = 3, tau_3 = 2, s_2 = 1.4, s_3 = 5)\n",
    "# ce.sz_bd.cmm.trait_set(f_c = 33.3, f_t = 0.3 * 33.3 **(2/3), d_a = 16)\n",
    "# ce.sz_bd.Rectangle = True\n",
    "# ce.sz_bd.trait_set(H=600, B=250, L=3870)\n",
    "# ce.sz_cp.trait_set(x_00=ce.sz_bd.L * 0.5, n_m = 15)\n",
    "# ce.sz_cp.sz_ctr.trait_set(ell = 2)\n",
    "# ce.sz_bd.cross_section_layout.reinforcement.z_j[0] = 44\n",
    "# ce.sz_bd.cross_section_layout.reinforcement.A_j[0] = 615.44 #2 no 28\n",
    "# ce.sz_bd.cross_section_layout.reinforcement.E_j[0] = 210000 / 100"
   ]
  },
  {
   "cell_type": "code",
   "execution_count": 4,
   "metadata": {
    "scrolled": false
   },
   "outputs": [],
   "source": [
    "%matplotlib widget\n",
    "import numpy as np\n",
    "import bmcs_utils.api as bu\n",
    "from bmcs_shear.shear_crack.crack_propagation import CrackPropagation\n",
    "ce = CrackPropagation(n_seg=140)\n",
    "#ce.sz_bd.cmm.trait_set(tau_1 = 4, s_1 = 0.2, tau_2 = 3, tau_3 = 2, s_2 = 1.4, s_3 = 5)\n",
    "#ce.sz_bd.cmm.trait_set(f_c = 33.3, f_t = 0.3 * 33.3 **(2/3), d_a = 16)\n",
    "ce.sz_bd.Rectangle = True\n",
    "ce.sz_bd.trait_set(H=600, B=250, L=3870)\n",
    "ce.sz_cp.trait_set(x_00=ce.sz_bd.L * 0.9, n_m = 4)\n",
    "ce.sz_cp.sz_ctr.L_fps = 80\n",
    "ce.sz_cp.sz_ctr.trait_set(ell = 2)\n",
    "ce.sz_bd.cross_section_layout.reinforcement.z_j[0] = 44\n",
    "ce.sz_bd.cross_section_layout.reinforcement.A_j[0] = 615.44 #2 no 28\n",
    "ce.sz_bd.cross_section_layout.reinforcement.E_j[0] = 210000\n",
    "\n",
    "#F_La, F_Na, F_m, Q_reduce, c_p = ce.analyze() \n",
    "#print(F_La, F_Na, c_p)"
   ]
  },
  {
   "cell_type": "code",
   "execution_count": 5,
   "metadata": {
    "pycharm": {
     "name": "#%%\n"
    },
    "scrolled": false
   },
   "outputs": [
    {
     "name": "stderr",
     "output_type": "stream",
     "text": [
      "<lambdifygenerated-24>:2: RuntimeWarning: invalid value encountered in sqrt\n",
      "  return (select([less(f_c, -35.7142857142857*d_a**(-0.32)*f_c**(-0.18)*f_t**2*w),less_equal(w, 0.028*d_a**0.32*f_c**0.18/f_t),less_equal(w, 0.14392*d_a**0.32*f_c**0.18/f_t),True], [-f_c,35.7142857142857*d_a**(-0.32)*f_c**(-0.18)*f_t**2*w,f_t*exp(-35.7142857142857*d_a**(-0.32)*f_c**(-0.18)*f_t*(-0.028*d_a**0.32*f_c**0.18/f_t + w)) + select([greater(w, 0.028*d_a**0.32*f_c**0.18/f_t)], [-0.62*s*(s**2/w**2 + 1)**(-0.25)*select([less_equal(w, 0),True], [0,0.25*f_c*s*(-sqrt(2)*sqrt(w/d_a) + 1)*((2.44 - 39.04/f_c)*abs(s/w)**3 + 9.8/f_c)/(w*(s**4*(2.44 - 39.04/f_c)/w**4 + 1))], default=nan)/sqrt(w)], default=nan),select([greater(w, 0.028*d_a**0.32*f_c**0.18/f_t)], [-0.62*s*(s**2/w**2 + 1)**(-0.25)*select([less_equal(w, 0),True], [0,0.25*f_c*s*(-sqrt(2)*sqrt(w/d_a) + 1)*((2.44 - 39.04/f_c)*abs(s/w)**3 + 9.8/f_c)/(w*(s**4*(2.44 - 39.04/f_c)/w**4 + 1))], default=nan)/sqrt(w)], default=nan)], default=nan))\n",
      "<lambdifygenerated-25>:2: RuntimeWarning: invalid value encountered in sqrt\n",
      "  return (select([less_equal(w, 0),True], [0,0.25*f_c*s*(-sqrt(2)*sqrt(w/d_a) + 1)*((2.44 - 39.04/f_c)*abs(s/w)**3 + 9.8/f_c)/(w*(s**4*(2.44 - 39.04/f_c)/w**4 + 1))], default=nan))\n"
     ]
    },
    {
     "data": {
      "application/vnd.jupyter.widget-view+json": {
       "model_id": "0a93b15cfc56406e90be597c66a151bd",
       "version_major": 2,
       "version_minor": 0
      },
      "text/plain": [
       "VBox(children=(Output(), Tab(children=(VBox(children=(GridBox(children=(HBox(children=(Button(icon='play', lay…"
      ]
     },
     "metadata": {},
     "output_type": "display_data"
    },
    {
     "name": "stderr",
     "output_type": "stream",
     "text": [
      "<lambdifygenerated-24>:2: RuntimeWarning: invalid value encountered in sqrt\n",
      "  return (select([less(f_c, -35.7142857142857*d_a**(-0.32)*f_c**(-0.18)*f_t**2*w),less_equal(w, 0.028*d_a**0.32*f_c**0.18/f_t),less_equal(w, 0.14392*d_a**0.32*f_c**0.18/f_t),True], [-f_c,35.7142857142857*d_a**(-0.32)*f_c**(-0.18)*f_t**2*w,f_t*exp(-35.7142857142857*d_a**(-0.32)*f_c**(-0.18)*f_t*(-0.028*d_a**0.32*f_c**0.18/f_t + w)) + select([greater(w, 0.028*d_a**0.32*f_c**0.18/f_t)], [-0.62*s*(s**2/w**2 + 1)**(-0.25)*select([less_equal(w, 0),True], [0,0.25*f_c*s*(-sqrt(2)*sqrt(w/d_a) + 1)*((2.44 - 39.04/f_c)*abs(s/w)**3 + 9.8/f_c)/(w*(s**4*(2.44 - 39.04/f_c)/w**4 + 1))], default=nan)/sqrt(w)], default=nan),select([greater(w, 0.028*d_a**0.32*f_c**0.18/f_t)], [-0.62*s*(s**2/w**2 + 1)**(-0.25)*select([less_equal(w, 0),True], [0,0.25*f_c*s*(-sqrt(2)*sqrt(w/d_a) + 1)*((2.44 - 39.04/f_c)*abs(s/w)**3 + 9.8/f_c)/(w*(s**4*(2.44 - 39.04/f_c)/w**4 + 1))], default=nan)/sqrt(w)], default=nan)], default=nan))\n",
      "<lambdifygenerated-25>:2: RuntimeWarning: invalid value encountered in sqrt\n",
      "  return (select([less_equal(w, 0),True], [0,0.25*f_c*s*(-sqrt(2)*sqrt(w/d_a) + 1)*((2.44 - 39.04/f_c)*abs(s/w)**3 + 9.8/f_c)/(w*(s**4*(2.44 - 39.04/f_c)/w**4 + 1))], default=nan))\n",
      "<lambdifygenerated-24>:2: RuntimeWarning: invalid value encountered in sqrt\n",
      "  return (select([less(f_c, -35.7142857142857*d_a**(-0.32)*f_c**(-0.18)*f_t**2*w),less_equal(w, 0.028*d_a**0.32*f_c**0.18/f_t),less_equal(w, 0.14392*d_a**0.32*f_c**0.18/f_t),True], [-f_c,35.7142857142857*d_a**(-0.32)*f_c**(-0.18)*f_t**2*w,f_t*exp(-35.7142857142857*d_a**(-0.32)*f_c**(-0.18)*f_t*(-0.028*d_a**0.32*f_c**0.18/f_t + w)) + select([greater(w, 0.028*d_a**0.32*f_c**0.18/f_t)], [-0.62*s*(s**2/w**2 + 1)**(-0.25)*select([less_equal(w, 0),True], [0,0.25*f_c*s*(-sqrt(2)*sqrt(w/d_a) + 1)*((2.44 - 39.04/f_c)*abs(s/w)**3 + 9.8/f_c)/(w*(s**4*(2.44 - 39.04/f_c)/w**4 + 1))], default=nan)/sqrt(w)], default=nan),select([greater(w, 0.028*d_a**0.32*f_c**0.18/f_t)], [-0.62*s*(s**2/w**2 + 1)**(-0.25)*select([less_equal(w, 0),True], [0,0.25*f_c*s*(-sqrt(2)*sqrt(w/d_a) + 1)*((2.44 - 39.04/f_c)*abs(s/w)**3 + 9.8/f_c)/(w*(s**4*(2.44 - 39.04/f_c)/w**4 + 1))], default=nan)/sqrt(w)], default=nan)], default=nan))\n",
      "<lambdifygenerated-25>:2: RuntimeWarning: invalid value encountered in sqrt\n",
      "  return (select([less_equal(w, 0),True], [0,0.25*f_c*s*(-sqrt(2)*sqrt(w/d_a) + 1)*((2.44 - 39.04/f_c)*abs(s/w)**3 + 9.8/f_c)/(w*(s**4*(2.44 - 39.04/f_c)/w**4 + 1))], default=nan))\n",
      "<lambdifygenerated-24>:2: RuntimeWarning: invalid value encountered in sqrt\n",
      "  return (select([less(f_c, -35.7142857142857*d_a**(-0.32)*f_c**(-0.18)*f_t**2*w),less_equal(w, 0.028*d_a**0.32*f_c**0.18/f_t),less_equal(w, 0.14392*d_a**0.32*f_c**0.18/f_t),True], [-f_c,35.7142857142857*d_a**(-0.32)*f_c**(-0.18)*f_t**2*w,f_t*exp(-35.7142857142857*d_a**(-0.32)*f_c**(-0.18)*f_t*(-0.028*d_a**0.32*f_c**0.18/f_t + w)) + select([greater(w, 0.028*d_a**0.32*f_c**0.18/f_t)], [-0.62*s*(s**2/w**2 + 1)**(-0.25)*select([less_equal(w, 0),True], [0,0.25*f_c*s*(-sqrt(2)*sqrt(w/d_a) + 1)*((2.44 - 39.04/f_c)*abs(s/w)**3 + 9.8/f_c)/(w*(s**4*(2.44 - 39.04/f_c)/w**4 + 1))], default=nan)/sqrt(w)], default=nan),select([greater(w, 0.028*d_a**0.32*f_c**0.18/f_t)], [-0.62*s*(s**2/w**2 + 1)**(-0.25)*select([less_equal(w, 0),True], [0,0.25*f_c*s*(-sqrt(2)*sqrt(w/d_a) + 1)*((2.44 - 39.04/f_c)*abs(s/w)**3 + 9.8/f_c)/(w*(s**4*(2.44 - 39.04/f_c)/w**4 + 1))], default=nan)/sqrt(w)], default=nan)], default=nan))\n",
      "<lambdifygenerated-25>:2: RuntimeWarning: invalid value encountered in sqrt\n",
      "  return (select([less_equal(w, 0),True], [0,0.25*f_c*s*(-sqrt(2)*sqrt(w/d_a) + 1)*((2.44 - 39.04/f_c)*abs(s/w)**3 + 9.8/f_c)/(w*(s**4*(2.44 - 39.04/f_c)/w**4 + 1))], default=nan))\n",
      "<lambdifygenerated-24>:2: RuntimeWarning: invalid value encountered in sqrt\n",
      "  return (select([less(f_c, -35.7142857142857*d_a**(-0.32)*f_c**(-0.18)*f_t**2*w),less_equal(w, 0.028*d_a**0.32*f_c**0.18/f_t),less_equal(w, 0.14392*d_a**0.32*f_c**0.18/f_t),True], [-f_c,35.7142857142857*d_a**(-0.32)*f_c**(-0.18)*f_t**2*w,f_t*exp(-35.7142857142857*d_a**(-0.32)*f_c**(-0.18)*f_t*(-0.028*d_a**0.32*f_c**0.18/f_t + w)) + select([greater(w, 0.028*d_a**0.32*f_c**0.18/f_t)], [-0.62*s*(s**2/w**2 + 1)**(-0.25)*select([less_equal(w, 0),True], [0,0.25*f_c*s*(-sqrt(2)*sqrt(w/d_a) + 1)*((2.44 - 39.04/f_c)*abs(s/w)**3 + 9.8/f_c)/(w*(s**4*(2.44 - 39.04/f_c)/w**4 + 1))], default=nan)/sqrt(w)], default=nan),select([greater(w, 0.028*d_a**0.32*f_c**0.18/f_t)], [-0.62*s*(s**2/w**2 + 1)**(-0.25)*select([less_equal(w, 0),True], [0,0.25*f_c*s*(-sqrt(2)*sqrt(w/d_a) + 1)*((2.44 - 39.04/f_c)*abs(s/w)**3 + 9.8/f_c)/(w*(s**4*(2.44 - 39.04/f_c)/w**4 + 1))], default=nan)/sqrt(w)], default=nan)], default=nan))\n",
      "<lambdifygenerated-25>:2: RuntimeWarning: invalid value encountered in sqrt\n",
      "  return (select([less_equal(w, 0),True], [0,0.25*f_c*s*(-sqrt(2)*sqrt(w/d_a) + 1)*((2.44 - 39.04/f_c)*abs(s/w)**3 + 9.8/f_c)/(w*(s**4*(2.44 - 39.04/f_c)/w**4 + 1))], default=nan))\n"
     ]
    }
   ],
   "source": [
    "bu.InteractiveWindow([ce, ce.sz_bd, ce.sz_bd.cross_section_layout, \n",
    "                      ce.sz_stress_profile, \n",
    "                      ce.sz_bd.cmm, ce.sz_bd.smm, ce.sz_cp, ce.sz_cp.sz_ctr]).interact()"
   ]
  },
  {
   "cell_type": "code",
   "execution_count": 6,
   "metadata": {},
   "outputs": [
    {
     "name": "stderr",
     "output_type": "stream",
     "text": [
      "<lambdifygenerated-24>:2: RuntimeWarning: invalid value encountered in sqrt\n",
      "  return (select([less(f_c, -35.7142857142857*d_a**(-0.32)*f_c**(-0.18)*f_t**2*w),less_equal(w, 0.028*d_a**0.32*f_c**0.18/f_t),less_equal(w, 0.14392*d_a**0.32*f_c**0.18/f_t),True], [-f_c,35.7142857142857*d_a**(-0.32)*f_c**(-0.18)*f_t**2*w,f_t*exp(-35.7142857142857*d_a**(-0.32)*f_c**(-0.18)*f_t*(-0.028*d_a**0.32*f_c**0.18/f_t + w)) + select([greater(w, 0.028*d_a**0.32*f_c**0.18/f_t)], [-0.62*s*(s**2/w**2 + 1)**(-0.25)*select([less_equal(w, 0),True], [0,0.25*f_c*s*(-sqrt(2)*sqrt(w/d_a) + 1)*((2.44 - 39.04/f_c)*abs(s/w)**3 + 9.8/f_c)/(w*(s**4*(2.44 - 39.04/f_c)/w**4 + 1))], default=nan)/sqrt(w)], default=nan),select([greater(w, 0.028*d_a**0.32*f_c**0.18/f_t)], [-0.62*s*(s**2/w**2 + 1)**(-0.25)*select([less_equal(w, 0),True], [0,0.25*f_c*s*(-sqrt(2)*sqrt(w/d_a) + 1)*((2.44 - 39.04/f_c)*abs(s/w)**3 + 9.8/f_c)/(w*(s**4*(2.44 - 39.04/f_c)/w**4 + 1))], default=nan)/sqrt(w)], default=nan)], default=nan))\n",
      "<lambdifygenerated-25>:2: RuntimeWarning: invalid value encountered in sqrt\n",
      "  return (select([less_equal(w, 0),True], [0,0.25*f_c*s*(-sqrt(2)*sqrt(w/d_a) + 1)*((2.44 - 39.04/f_c)*abs(s/w)**3 + 9.8/f_c)/(w*(s**4*(2.44 - 39.04/f_c)/w**4 + 1))], default=nan))\n",
      "<ipython-input-6-7c38da94aab4>:12: VisibleDeprecationWarning: Creating an ndarray from ragged nested sequences (which is a list-or-tuple of lists-or-tuples-or ndarrays with different lengths or shapes) is deprecated. If you meant to do this, you must specify 'dtype=object' when creating the ndarray\n",
      "  F_s_ = np.array(ce.F_s)\n"
     ]
    },
    {
     "data": {
      "text/plain": [
       "array([0, array([113010.17730626]), array([113487.62170359]),\n",
       "       array([113991.02258908]), array([114480.00135422]),\n",
       "       array([114994.72073445]), array([115507.16255372]),\n",
       "       array([116025.88091052]), array([116538.91958643]),\n",
       "       array([117078.5885286]), array([117615.03157284]),\n",
       "       array([118156.8499145]), array([118695.44827176]),\n",
       "       array([119259.13242497]), array([119811.08684977]),\n",
       "       array([120385.12171943]), array([120958.92352695]),\n",
       "       array([121538.00292542]), array([122123.318654]),\n",
       "       array([122710.4675739]), array([123312.93040999]),\n",
       "       array([123917.28600492]), array([124527.97034625]),\n",
       "       array([125145.0430616]), array([125770.08819644]),\n",
       "       array([126398.3973871]), array([127034.94235033]),\n",
       "       array([127678.08112586]), array([128326.87063754]),\n",
       "       array([128982.98668456]), array([129645.58124333]),\n",
       "       array([130314.16822381]), array([130989.83681569]),\n",
       "       array([131671.97084343]), array([132360.68726904]),\n",
       "       array([133056.10531124]), array([133783.21122345]),\n",
       "       array([134466.845389]), array([135182.28853904]),\n",
       "       array([135904.42697616]), array([136633.34138855]),\n",
       "       array([137369.03988623]), array([138111.5410305]),\n",
       "       array([138860.87526345]), array([139617.04540714]),\n",
       "       array([140379.76174181]), array([141149.6514326]),\n",
       "       array([141928.13689717]), array([142710.71186134]),\n",
       "       array([143501.75281866]), array([144297.80995219]),\n",
       "       array([145104.53620568]), array([145916.56624897]),\n",
       "       array([146735.47404751]), array([147561.81567092]),\n",
       "       array([148395.35728909]), array([149236.0088528]),\n",
       "       array([150084.25050614]), array([150940.3908322]),\n",
       "       array([151800.19774927]), array([152672.36430915]),\n",
       "       array([153550.49526022]), array([154435.56165403]),\n",
       "       array([155328.77771195]), array([156230.75019091]),\n",
       "       array([157137.69808524]), array([158053.12040937]),\n",
       "       array([158978.1925716]), array([159909.3711268]),\n",
       "       array([160850.51383056]), array([161803.28261905]),\n",
       "       array([162753.62685968]), array([163718.4791882]),\n",
       "       array([164690.61959399]), array([165671.87683036]),\n",
       "       array([166660.30469895]), array([167659.55460123]),\n",
       "       array([168665.03975802]), array([169681.38681926]),\n",
       "       array([170707.79678491]), array([171739.94637021]),\n",
       "       array([172782.72318638]), array([173834.76435469]),\n",
       "       array([174897.48759835]), array([175967.07717817]),\n",
       "       array([177047.04925462]), array([178137.15681061]),\n",
       "       array([179238.44203091]), array([180347.02760936]),\n",
       "       array([181467.74022379]), array([182598.47709836]),\n",
       "       array([183739.82114851]), array([184891.28748992]),\n",
       "       array([186053.35655574]), array([187227.68349736]),\n",
       "       array([188412.63775436]), array([189609.70292722]),\n",
       "       array([190817.89495458]), array([192037.69894645]),\n",
       "       array([193268.21963088]), array([194512.30731913]),\n",
       "       array([195768.80978623]), array([197037.9523449]),\n",
       "       array([198319.65277759]), array([199615.04814325]),\n",
       "       array([200923.60393685]), array([202245.71964511]),\n",
       "       array([203582.14973721]), array([204922.54676353]),\n",
       "       array([206286.38787428]), array([207663.55091469]),\n",
       "       array([209058.94433412]), array([210468.62657098]),\n",
       "       array([211892.94935127]), array([213331.27370011]),\n",
       "       array([214787.78567178]), array([216264.30109677]),\n",
       "       array([217755.63058681]), array([219261.06079231]),\n",
       "       array([220787.67124882]), array([222335.3346532]),\n",
       "       array([223898.8552667]), array([225480.4259507]),\n",
       "       array([227083.78274603]), array([228708.46430815]),\n",
       "       array([230351.05498499]), array([232020.19477739]),\n",
       "       array([233709.11559802]), array([235419.85223656]),\n",
       "       array([237153.93454206]), array([238913.7999691]),\n",
       "       array([240697.7193367]), array([242507.385201]),\n",
       "       array([244343.9898452]), array([246208.41808973]),\n",
       "       array([248099.3351016]), array([250024.02242404]),\n",
       "       array([251981.19889735]), array([253982.70502191]),\n",
       "       array([255986.66119015]), array([258066.43789706]),\n",
       "       array([260174.79001497])], dtype=object)"
      ]
     },
     "execution_count": 6,
     "metadata": {},
     "output_type": "execute_result"
    }
   ],
   "source": [
    "import numpy as np\n",
    "crack_position = 0.1 * ce.sz_bd.L\n",
    "ce.reset()\n",
    "ce.sz_cp.trait_set(x_00=crack_position)\n",
    "ce.sz_cp.sz_ctr.L_fps = 80\n",
    "ce.run()\n",
    "F_beam = ce.F_beam\n",
    "F_max_ = np.max(F_beam)\n",
    "F_max_i_ = np.argmax(F_beam)\n",
    "F_max_i_int = np.array(F_max_i_)\n",
    "F_Na_ = ce.F_Na[F_max_i_int]\n",
    "F_s_ = np.array(ce.F_s)\n",
    "w = ce.w_steel[F_max_i_int]\n",
    "F_max_\n",
    "F_s_"
   ]
  },
  {
   "cell_type": "code",
   "execution_count": 7,
   "metadata": {},
   "outputs": [
    {
     "name": "stdout",
     "output_type": "stream",
     "text": [
      "[600.0, array([598.00000282]), array([596.00000564]), array([594.00003164]), array([592.00005764]), array([590.00008351]), array([588.00010945]), array([586.00025721]), array([584.00040497]), array([582.00057603]), array([580.00088651]), array([578.00126562]), array([576.00164473]), array([574.00218339]), array([572.00272205]), array([570.00332775]), array([568.00416313]), array([566.00511288]), array([564.00618491]), array([562.00725694]), array([560.00859742]), array([558.0100835]), array([556.01172324]), array([554.01352443]), array([552.01532562]), array([550.01747295]), array([548.01980619]), array([546.02233324]), array([544.02505819]), array([542.02799183]), array([540.0311412]), array([538.03451174]), array([536.03811247]), array([534.04194967]), array([532.04603]), array([530.05036028]), array([528.05501147]), array([526.05986019]), array([524.06497735]), array([522.07036859]), array([520.07603948]), array([518.08199529]), array([516.08824097]), array([514.09478124]), array([512.10162049]), array([510.10876203]), array([508.11621037]), array([506.12397254]), array([504.13204549]), array([502.14043529]), array([500.14914088]), array([498.15817143]), array([496.16752497]), array([494.17720251]), array([492.18720576]), array([490.19753553]), array([488.20819203]), array([486.21917597]), array([484.23048821]), array([482.24212115]), array([480.25408324]), array([478.2663704]), array([476.27897988]), array([474.29191089]), array([472.30516308]), array([470.31872913]), array([468.33260741]), array([466.34679918]), array([464.36129672]), array([462.37609948]), array([460.39120914]), array([458.4066045]), array([456.42229105]), array([454.43826247]), array([452.4545148]), array([450.47104083]), array([448.48783833]), array([446.50489808]), array([444.52221713]), array([442.53979086]), array([440.55760863]), array([438.57566599]), array([436.59395635]), array([434.6124745]), array([432.63121229]), array([430.65016177]), array([428.66931628]), array([426.68866997]), array([424.70821251]), array([422.72793856]), array([420.74784034]), array([418.76791036]), array([416.78814047]), array([414.8085228]), array([412.82905085]), array([410.84971634]), array([408.8705121]), array([406.89143001]), array([404.91246213]), array([402.93359977]), array([400.95483857]), array([398.97615629]), array([396.99756958]), array([395.01905822]), array([393.04061487]), array([391.06223168]), array([389.08390095]), array([387.10561522]), array([385.12783108]), array([383.15012524]), array([381.17248809]), array([379.19491257]), array([377.21736791]), array([375.23988752]), array([373.2624427]), array([371.28502222]), array([369.30761791]), array([367.3302192]), array([365.35281516]), array([363.37539671]), array([361.3979539]), array([359.42047499]), array([357.44294828]), array([355.46536201]), array([353.48770334]), array([351.50995814]), array([349.53211176]), array([347.55415066]), array([345.57605368]), array([343.59780073]), array([341.61936896]), array([339.64073259]), array([337.66186185]), array([335.68272194]), array([333.70327182]), array([331.7234632]), array([329.74337688]), array([327.76265117]), array([325.78132688]), array([323.79991957]), array([321.81700546]), array([319.83467115])]\n"
     ]
    }
   ],
   "source": [
    "ce.reset()\n",
    "ini_crck_point = ce.sz_cp.trait_set(x_00= 0.1 * ce.sz_bd.L)\n",
    "ce.run()\n",
    "H_s = []\n",
    "F_beam = ce.F_beam\n",
    "F_max_ = np.max(F_beam)\n",
    "F_max_i_ = np.argmax(F_beam)\n",
    "F_max_i_int = np.array(F_max_i_)\n",
    "x_tip_1k_ = ce.x_tip_1k[F_max_i_int]\n",
    "for i in range(len(F_beam)):\n",
    "    if ce.x_tip_1k[i] <= x_tip_1k_:\n",
    "        H_s_ = ce.sz_bd.H - ce.x_tip_1k[i]\n",
    "        #shear_agg = ce.shear_agg[i]\n",
    "        H_s.append(H_s_)\n",
    "    else:\n",
    "        break\n",
    "print(H_s)\n",
    "    #print(shear_agg)\n",
    "# H_s = []\n",
    "# F_beam = ce.F_beam\n",
    "# F_max_ = np.max(F_beam)\n",
    "# for i in range(len(F_beam)):\n",
    "#     if F_beam[i] == F_max_:\n",
    "#         H_s = ce.H_s\n",
    "#         #H_s.append(H_s)\n",
    "#     else:\n",
    "#         break\n",
    "#     print(H_s)"
   ]
  },
  {
   "cell_type": "code",
   "execution_count": 8,
   "metadata": {},
   "outputs": [
    {
     "data": {
      "application/vnd.jupyter.widget-view+json": {
       "model_id": "055651e858964a8a93ef518e87eab4b6",
       "version_major": 2,
       "version_minor": 0
      },
      "text/plain": [
       "Canvas(toolbar=Toolbar(toolitems=[('Home', 'Reset original view', 'home', 'home'), ('Back', 'Back to previous …"
      ]
     },
     "metadata": {},
     "output_type": "display_data"
    },
    {
     "name": "stderr",
     "output_type": "stream",
     "text": [
      "C:\\Users\\fahad\\Anaconda3\\envs\\bmcs_env\\lib\\site-packages\\numpy\\core\\_asarray.py:136: VisibleDeprecationWarning: Creating an ndarray from ragged nested sequences (which is a list-or-tuple of lists-or-tuples-or ndarrays with different lengths or shapes) is deprecated. If you meant to do this, you must specify 'dtype=object' when creating the ndarray\n",
      "  return array(a, dtype, copy=False, order=order, subok=True)\n"
     ]
    }
   ],
   "source": [
    "import matplotlib.pylab as plt\n",
    "_, (ax1) = plt.subplots(1, 1, figsize=(8,4))\n",
    "ax1.plot(H_s, F_s_ / 1000, color = 'blue', lw= 2, label = '$\\mathrm{F_{s}}$');\n",
    "ax1.set_xlabel(r'$\\mathrm{Height\\,of\\,crack\\,(mm)}$'); ax1.set_ylabel(r'$\\mathrm{F_s\\,(kN)}$');\n",
    "ax1.set_title(r'Force at steel reinforcement')\n",
    "ax1.legend()\n",
    "plt.savefig(\"D:\\Shear zones\\Python plots\\F_steel.pdf\")"
   ]
  },
  {
   "cell_type": "code",
   "execution_count": 9,
   "metadata": {},
   "outputs": [],
   "source": [
    "#w, F_s_, F_max_"
   ]
  },
  {
   "cell_type": "code",
   "execution_count": 10,
   "metadata": {},
   "outputs": [
    {
     "name": "stderr",
     "output_type": "stream",
     "text": [
      "<lambdifygenerated-24>:2: RuntimeWarning: invalid value encountered in sqrt\n",
      "  return (select([less(f_c, -35.7142857142857*d_a**(-0.32)*f_c**(-0.18)*f_t**2*w),less_equal(w, 0.028*d_a**0.32*f_c**0.18/f_t),less_equal(w, 0.14392*d_a**0.32*f_c**0.18/f_t),True], [-f_c,35.7142857142857*d_a**(-0.32)*f_c**(-0.18)*f_t**2*w,f_t*exp(-35.7142857142857*d_a**(-0.32)*f_c**(-0.18)*f_t*(-0.028*d_a**0.32*f_c**0.18/f_t + w)) + select([greater(w, 0.028*d_a**0.32*f_c**0.18/f_t)], [-0.62*s*(s**2/w**2 + 1)**(-0.25)*select([less_equal(w, 0),True], [0,0.25*f_c*s*(-sqrt(2)*sqrt(w/d_a) + 1)*((2.44 - 39.04/f_c)*abs(s/w)**3 + 9.8/f_c)/(w*(s**4*(2.44 - 39.04/f_c)/w**4 + 1))], default=nan)/sqrt(w)], default=nan),select([greater(w, 0.028*d_a**0.32*f_c**0.18/f_t)], [-0.62*s*(s**2/w**2 + 1)**(-0.25)*select([less_equal(w, 0),True], [0,0.25*f_c*s*(-sqrt(2)*sqrt(w/d_a) + 1)*((2.44 - 39.04/f_c)*abs(s/w)**3 + 9.8/f_c)/(w*(s**4*(2.44 - 39.04/f_c)/w**4 + 1))], default=nan)/sqrt(w)], default=nan)], default=nan))\n",
      "<lambdifygenerated-25>:2: RuntimeWarning: invalid value encountered in sqrt\n",
      "  return (select([less_equal(w, 0),True], [0,0.25*f_c*s*(-sqrt(2)*sqrt(w/d_a) + 1)*((2.44 - 39.04/f_c)*abs(s/w)**3 + 9.8/f_c)/(w*(s**4*(2.44 - 39.04/f_c)/w**4 + 1))], default=nan))\n"
     ]
    }
   ],
   "source": [
    "import numpy as np\n",
    "crack_position = 0.1 * ce.sz_bd.L\n",
    "ce.reset()\n",
    "ce.sz_cp.trait_set(x_00=crack_position)\n",
    "ce.sz_cp.sz_ctr.L_fps = 80\n",
    "ce.run()\n",
    "F_beam = ce.F_beam\n",
    "F_max_ = np.max(F_beam)\n",
    "F_max_i_ = np.argmax(F_beam)\n",
    "F_max_i_int = np.array(F_max_i_)\n",
    "F_Na_ = ce.F_Na[F_max_i_int]\n",
    "F_s_ = ce.F_s[F_max_i_int]\n",
    "slip_ = ce.slip[F_max_i_int]\n",
    "w_ = ce.w[F_max_i_int][0]\n",
    "steel_slip_ = ce.s_steel[F_max_i_int]\n",
    "w_steel_ = ce.w_steel[F_max_i_int]\n",
    "shear_stress_ = ce.shear_agg[F_max_i_int]\n",
    "F_a_ = ce.F_a[F_max_i_int][1]\n",
    "F_agg_ = F_a_ - F_Na_\n",
    "# shear_stress_, slip_"
   ]
  },
  {
   "cell_type": "code",
   "execution_count": 11,
   "metadata": {},
   "outputs": [
    {
     "data": {
      "application/vnd.jupyter.widget-view+json": {
       "model_id": "9bf27e027e6f46c5bc9664ce64eb56d5",
       "version_major": 2,
       "version_minor": 0
      },
      "text/plain": [
       "Canvas(toolbar=Toolbar(toolitems=[('Home', 'Reset original view', 'home', 'home'), ('Back', 'Back to previous …"
      ]
     },
     "metadata": {},
     "output_type": "display_data"
    }
   ],
   "source": [
    "import matplotlib.pylab as plt\n",
    "_, (ax1) = plt.subplots(1, 1, figsize=(8,4))\n",
    "s = np.linspace(0,0.3,100)\n",
    "V_df = ce.sz_bd.smm.get_V_df(s)\n",
    "ax1.plot(s, V_df , color = 'blue', lw= 2, label = '$V_{da}$');\n",
    "ax1.set_xlabel(r'$slip\\,(mm)}$'); ax1.set_ylabel(r'$V (N)$');\n",
    "ax1.set_title(r'Dowel Force Contribution')\n",
    "ax1.legend()\n",
    "plt.savefig(\"D:\\Shear zones\\Python plots\\Dowel_force.pdf\")"
   ]
  },
  {
   "cell_type": "code",
   "execution_count": 12,
   "metadata": {},
   "outputs": [],
   "source": [
    "# import numpy as np\n",
    "# ce.sz_stress_profile.u_La\n",
    "# idx = np.argmax(ce.F_beam)\n",
    "# #v_n = ce.v_n\n",
    "# #v_n[idx]\n",
    "# #ce.F_Na[idx]\n",
    "# idx"
   ]
  },
  {
   "cell_type": "code",
   "execution_count": 13,
   "metadata": {},
   "outputs": [],
   "source": [
    "# ce.sz_stress_profile.u_Na"
   ]
  },
  {
   "cell_type": "code",
   "execution_count": 14,
   "metadata": {},
   "outputs": [],
   "source": [
    "# ce.reset()\n",
    "# ini_crck_point = ce.sz_cp.trait_set(x_00= 0.1 * ce.sz_bd.L)\n",
    "# ce.run()\n",
    "# F_beam = ce.F_beam\n",
    "# F_max_ = np.max(F_beam)\n",
    "# for i in range(len(F_beam)):\n",
    "#     if F_beam[i] < F_max_:\n",
    "#         pass\n",
    "#     elif F_beam[i] == F_max_:\n",
    "#         slip = ce.slip[i]\n",
    "#         #H_s = ce.H_s\n",
    "#         shear_agg = ce.shear_agg[i]\n",
    "#         print('shear agg', shear_agg)\n",
    "#         print('slip', slip)\n",
    "#         #print(shear_agg)\n",
    "#         #print(H_s)"
   ]
  },
  {
   "cell_type": "code",
   "execution_count": 15,
   "metadata": {
    "scrolled": false
   },
   "outputs": [],
   "source": [
    "# ce.reset()\n",
    "# ini_crck_point = ce.sz_cp.trait_set(x_00= 0.9 * ce.sz_bd.L)\n",
    "# ce.run()\n",
    "# F_beam = ce.F_beam\n",
    "# F_max_ = np.max(F_beam)\n",
    "# F_max_idx = np.argmax(F_beam)\n",
    "# F_Na_ = ce.F_Na[F_max_idx]\n",
    "# s_s = ce.s_steel[:F_max_idx]\n",
    "# V_da = ce.F_Na[:F_max_idx]\n",
    "# slip = ce.slip\n",
    "# shear_agg = ce.shear_agg"
   ]
  },
  {
   "cell_type": "code",
   "execution_count": 16,
   "metadata": {},
   "outputs": [],
   "source": [
    "# import matplotlib.pylab as plt\n",
    "# _, (ax1, ax2) = plt.subplots(1, 2, figsize=(11,4))\n",
    "# ax1.plot(s_s, V_da , color = 'blue', lw= 2, label = '$V_{da}$');\n",
    "# ax1.set_xlabel(r'$slip\\,(mm)}$'); ax1.set_ylabel(r'$V (N)$');\n",
    "# ax1.set_title(r'Dowel Force Contribution')\n",
    "# ax1.legend()\n",
    "# ax2.plot(slip, shear_agg , color = 'red', lw= 2, label = r'$\\tau_{agg}$');\n",
    "# ax2.set_xlabel(r'$slip\\,(mm)}$'); ax2.set_ylabel(r'$\\tau_{agg}$');\n",
    "# ax2.set_title(r'Aggregate Force Contribution at Ultimate state')\n",
    "# ax2.legend()\n",
    "# #plt.savefig(\"D:\\Shear zones\\Python plots\\dowel_agg_09.pdf\")"
   ]
  },
  {
   "cell_type": "code",
   "execution_count": 17,
   "metadata": {},
   "outputs": [],
   "source": [
    "# import matplotlib.pylab as plt\n",
    "# _, (ax1, ax2) = plt.subplots(1, 2, figsize=(11,4))\n",
    "# ax1.plot(ce.sz_stress_profile.u_Lb[:,1], ce.sz_stress_profile.S_Lb[:,1] , color = 'blue', lw= 2, label = '$F_{agg}$');\n",
    "# ax2.plot(s_s, ce.sz_stress_profile.S_Lb[:,0] , color = 'blue', lw= 2, label = '$F_{agg}$');"
   ]
  },
  {
   "cell_type": "code",
   "execution_count": 18,
   "metadata": {},
   "outputs": [],
   "source": [
    "# import numpy as np\n",
    "# np.max(ce.F_beam)# + ce.crack_tip_shear_stress.Q + ce.crack_tip_shear_stress.Q_reduced"
   ]
  },
  {
   "cell_type": "code",
   "execution_count": 19,
   "metadata": {},
   "outputs": [],
   "source": [
    "#ce.sz_stress_profile.F_La"
   ]
  },
  {
   "cell_type": "code",
   "execution_count": 20,
   "metadata": {
    "scrolled": false
   },
   "outputs": [
    {
     "name": "stderr",
     "output_type": "stream",
     "text": [
      "<lambdifygenerated-24>:2: RuntimeWarning: invalid value encountered in sqrt\n",
      "  return (select([less(f_c, -35.7142857142857*d_a**(-0.32)*f_c**(-0.18)*f_t**2*w),less_equal(w, 0.028*d_a**0.32*f_c**0.18/f_t),less_equal(w, 0.14392*d_a**0.32*f_c**0.18/f_t),True], [-f_c,35.7142857142857*d_a**(-0.32)*f_c**(-0.18)*f_t**2*w,f_t*exp(-35.7142857142857*d_a**(-0.32)*f_c**(-0.18)*f_t*(-0.028*d_a**0.32*f_c**0.18/f_t + w)) + select([greater(w, 0.028*d_a**0.32*f_c**0.18/f_t)], [-0.62*s*(s**2/w**2 + 1)**(-0.25)*select([less_equal(w, 0),True], [0,0.25*f_c*s*(-sqrt(2)*sqrt(w/d_a) + 1)*((2.44 - 39.04/f_c)*abs(s/w)**3 + 9.8/f_c)/(w*(s**4*(2.44 - 39.04/f_c)/w**4 + 1))], default=nan)/sqrt(w)], default=nan),select([greater(w, 0.028*d_a**0.32*f_c**0.18/f_t)], [-0.62*s*(s**2/w**2 + 1)**(-0.25)*select([less_equal(w, 0),True], [0,0.25*f_c*s*(-sqrt(2)*sqrt(w/d_a) + 1)*((2.44 - 39.04/f_c)*abs(s/w)**3 + 9.8/f_c)/(w*(s**4*(2.44 - 39.04/f_c)/w**4 + 1))], default=nan)/sqrt(w)], default=nan)], default=nan))\n",
      "<lambdifygenerated-25>:2: RuntimeWarning: invalid value encountered in sqrt\n",
      "  return (select([less_equal(w, 0),True], [0,0.25*f_c*s*(-sqrt(2)*sqrt(w/d_a) + 1)*((2.44 - 39.04/f_c)*abs(s/w)**3 + 9.8/f_c)/(w*(s**4*(2.44 - 39.04/f_c)/w**4 + 1))], default=nan))\n"
     ]
    }
   ],
   "source": [
    "import numpy as np\n",
    "crack_position = 0.1 * ce.sz_bd.L\n",
    "ce.reset()\n",
    "ce.sz_cp.trait_set(x_00=crack_position)\n",
    "ce.sz_cp.sz_ctr.L_fps = 80\n",
    "ce.run()\n",
    "F_beam = ce.F_beam\n",
    "F_max_ = np.max(F_beam)\n",
    "F_max_i_ = np.argmax(F_beam)\n",
    "F_max_i_int = np.array(F_max_i_)\n",
    "F_Na_ = ce.F_Na[F_max_i_int]\n",
    "F_s_ = ce.F_s[F_max_i_int]\n",
    "M = ce.M\n",
    "slip_ = ce.slip[F_max_i_int]\n",
    "w_ = ce.w[F_max_i_int][0]\n",
    "steel_slip_ = ce.s_steel[F_max_i_int]\n",
    "w_steel_ = ce.w_steel\n",
    "shear_stress_ = ce.shear_agg[F_max_i_int]\n",
    "F_a_ = ce.F_a[F_max_i_int][1]\n",
    "F_agg_ = F_a_ - F_Na_\n",
    "#shear_stress_, slip_\n",
    "#M, w_steel_[F_max_i_int]"
   ]
  },
  {
   "cell_type": "code",
   "execution_count": 21,
   "metadata": {},
   "outputs": [
    {
     "data": {
      "application/vnd.jupyter.widget-view+json": {
       "model_id": "c8468c068a284ddb9afe42761c834068",
       "version_major": 2,
       "version_minor": 0
      },
      "text/plain": [
       "Canvas(toolbar=Toolbar(toolitems=[('Home', 'Reset original view', 'home', 'home'), ('Back', 'Back to previous …"
      ]
     },
     "metadata": {},
     "output_type": "display_data"
    },
    {
     "name": "stderr",
     "output_type": "stream",
     "text": [
      "No handles with labels found to put in legend.\n"
     ]
    }
   ],
   "source": [
    "import matplotlib.pylab as plt\n",
    "E_s = 210000\n",
    "A_s = 2 * 3.14 * 28**2 / 4\n",
    "_, (ax1, ax2) = plt.subplots(1, 2, figsize=(11,4))\n",
    "ax1.plot(np.array(M[1:]) / (E_s * A_s), w_steel_[1:] , color = 'blue', lw= 2); #/1000#\n",
    "#ax1.plot(slip, , color = 'red', lw = 2, label = '$F_{dowel}$');\n",
    "ax1.set_xlabel(r'$\\frac{M}{E_s A_s}$'); ax1.set_ylabel(r'$w_{steel}\\,(mm)$');\n",
    "ax1.set_title(r'Bending moment crack opening relationship')\n",
    "ax1.legend()\n",
    "plt.savefig(\"D:\\Shear zones\\Python plots\\co.pdf\")"
   ]
  },
  {
   "cell_type": "code",
   "execution_count": 22,
   "metadata": {
    "scrolled": false
   },
   "outputs": [
    {
     "name": "stderr",
     "output_type": "stream",
     "text": [
      "<lambdifygenerated-24>:2: RuntimeWarning: invalid value encountered in sqrt\n",
      "  return (select([less(f_c, -35.7142857142857*d_a**(-0.32)*f_c**(-0.18)*f_t**2*w),less_equal(w, 0.028*d_a**0.32*f_c**0.18/f_t),less_equal(w, 0.14392*d_a**0.32*f_c**0.18/f_t),True], [-f_c,35.7142857142857*d_a**(-0.32)*f_c**(-0.18)*f_t**2*w,f_t*exp(-35.7142857142857*d_a**(-0.32)*f_c**(-0.18)*f_t*(-0.028*d_a**0.32*f_c**0.18/f_t + w)) + select([greater(w, 0.028*d_a**0.32*f_c**0.18/f_t)], [-0.62*s*(s**2/w**2 + 1)**(-0.25)*select([less_equal(w, 0),True], [0,0.25*f_c*s*(-sqrt(2)*sqrt(w/d_a) + 1)*((2.44 - 39.04/f_c)*abs(s/w)**3 + 9.8/f_c)/(w*(s**4*(2.44 - 39.04/f_c)/w**4 + 1))], default=nan)/sqrt(w)], default=nan),select([greater(w, 0.028*d_a**0.32*f_c**0.18/f_t)], [-0.62*s*(s**2/w**2 + 1)**(-0.25)*select([less_equal(w, 0),True], [0,0.25*f_c*s*(-sqrt(2)*sqrt(w/d_a) + 1)*((2.44 - 39.04/f_c)*abs(s/w)**3 + 9.8/f_c)/(w*(s**4*(2.44 - 39.04/f_c)/w**4 + 1))], default=nan)/sqrt(w)], default=nan)], default=nan))\n",
      "<lambdifygenerated-25>:2: RuntimeWarning: invalid value encountered in sqrt\n",
      "  return (select([less_equal(w, 0),True], [0,0.25*f_c*s*(-sqrt(2)*sqrt(w/d_a) + 1)*((2.44 - 39.04/f_c)*abs(s/w)**3 + 9.8/f_c)/(w*(s**4*(2.44 - 39.04/f_c)/w**4 + 1))], default=nan))\n"
     ]
    },
    {
     "name": "stdout",
     "output_type": "stream",
     "text": [
      "crack position = [ 387. 1935. 3483.]\n",
      "F_max [81090.77049156539, 137166.85797859656, 521620.6766109533]\n",
      "F_agg [array([19860.52994205]), array([36709.40627208]), array([19138.56803521])]\n",
      "F_Na [array([20693.77351454]), array([27926.28935227]), array([15960.45790078])]\n"
     ]
    }
   ],
   "source": [
    "import numpy as np\n",
    "crack_positions = np.linspace(0.1 * ce.sz_bd.L, 0.9 * ce.sz_bd.L, 3)\n",
    "F_max = []\n",
    "F_a = []\n",
    "Q = []\n",
    "Q_red = []\n",
    "F_max_i = []\n",
    "F_Na = []\n",
    "F_s = []\n",
    "slip = []\n",
    "steel_slip = []\n",
    "shear_stress = []\n",
    "w = []\n",
    "w_steel = []\n",
    "V_c = []\n",
    "F_agg = []\n",
    "for crack_position in crack_positions:\n",
    "    ce.reset()\n",
    "    ce.sz_cp.trait_set(x_00=crack_position)\n",
    "    ce.sz_cp.sz_ctr.L_fps = 80\n",
    "    ce.run()\n",
    "    F_beam = ce.F_beam\n",
    "    F_max_ = np.max(F_beam)\n",
    "    F_max_i_ = np.argmax(F_beam)\n",
    "    F_max_i_int = np.array(F_max_i_)\n",
    "    F_Na_ = ce.F_Na[F_max_i_int]\n",
    "    F_s_ = ce.F_s[F_max_i_int]\n",
    "    slip_ = ce.slip[F_max_i_int][0]\n",
    "    w_ = ce.w[F_max_i_int][0]\n",
    "    steel_slip_ = ce.s_steel[F_max_i_int]\n",
    "    w_steel_ = ce.w_steel[F_max_i_int]\n",
    "    shear_stress_ = ce.shear_agg[F_max_i_int][0]\n",
    "    F_a_ = ce.F_a[F_max_i_int][1]\n",
    "    F_agg_ = F_a_ - F_Na_\n",
    "    Q_ = ce.Q[F_max_i_int]\n",
    "    Q_red_ =  ce.Q_red[F_max_i_int]\n",
    "    #V_c_ = Q_ + Q_red_ + F_a_\n",
    "    F_max.append(F_max_)\n",
    "    F_max_i.append(F_max_i_)\n",
    "    F_Na.append(F_Na_)\n",
    "    F_s.append(F_s_)\n",
    "    F_a.append(F_a_)\n",
    "    F_agg.append(F_agg_)\n",
    "    slip.append(slip_)\n",
    "    w.append(w_)\n",
    "    steel_slip.append(steel_slip_)\n",
    "    w_steel.append(w_steel_)\n",
    "    shear_stress.append(shear_stress_)\n",
    "    Q.append(Q_)\n",
    "    Q_red.append(Q_red_)\n",
    "    #V_c.append(V_c_)\n",
    "# print('F_max =', F_max)\n",
    "# print('F_max_i =', F_max_i)\n",
    "# print('F_Na =', F_Na)\n",
    "# print('F_s =', F_s)\n",
    "# #print(type(F_Na))\n",
    "# print('F_a = ', F_a)\n",
    "# print('Q =', Q)\n",
    "# print('Q_red =', Q_red)\n",
    "# # #print('V_c =', V_c)\n",
    "print('crack position =', crack_positions)\n",
    "print('F_max',  F_max)\n",
    "print('F_agg', F_agg)\n",
    "print('F_Na', F_Na)\n",
    "#print('slip =', slip)\n",
    "#print('shear stress =', shear_stress)\n",
    "#print('steel slip =', steel_slip)\n",
    "#print('F_agg =', F_agg)"
   ]
  },
  {
   "cell_type": "code",
   "execution_count": 23,
   "metadata": {},
   "outputs": [],
   "source": [
    "#F_a"
   ]
  },
  {
   "cell_type": "code",
   "execution_count": 24,
   "metadata": {},
   "outputs": [
    {
     "data": {
      "application/vnd.jupyter.widget-view+json": {
       "model_id": "9e9648f298da44f2afdb3842d6f5e3b5",
       "version_major": 2,
       "version_minor": 0
      },
      "text/plain": [
       "Canvas(toolbar=Toolbar(toolitems=[('Home', 'Reset original view', 'home', 'home'), ('Back', 'Back to previous …"
      ]
     },
     "metadata": {},
     "output_type": "display_data"
    }
   ],
   "source": [
    "import matplotlib.pylab as plt\n",
    "_, (ax1, ax2) = plt.subplots(1, 2, figsize=(11,4))\n",
    "ax1.plot(crack_positions, F_agg , color = 'blue', lw= 2, label = r'$F_{agg}$'); #/1000#\n",
    "#ax1.plot(slip, , color = 'red', lw = 2, label = '$F_{dowel}$');\n",
    "ax1.set_xlabel(r'$\\mathrm{Initial\\,position\\,of\\,the\\,crack\\,(mm)}$'); ax1.set_ylabel(r'$F\\,(N)$');\n",
    "ax1.set_title(r'Force contribution due to aggregate interlock')\n",
    "ax1.legend()\n",
    "ax2.plot(crack_positions, F_max, color = 'blue', lw= 2, label = r'$F_{agg}$'); \n",
    "ax2.set_xlabel(r'$\\mathrm{Initial\\,position\\,of\\,the\\,crack\\,(mm)}$'); ax2.set_ylabel(r'$F\\,(N)$');\n",
    "ax2.set_title(r'Shear Capacity')\n",
    "ax2.legend()\n",
    "plt.savefig(\"D:\\Shear zones\\Python plots\\max_force_shear_force_agg_Lfps2.pdf\")"
   ]
  },
  {
   "cell_type": "code",
   "execution_count": 25,
   "metadata": {},
   "outputs": [
    {
     "data": {
      "application/vnd.jupyter.widget-view+json": {
       "model_id": "563c6c542ee34d78ad30c906bff411e4",
       "version_major": 2,
       "version_minor": 0
      },
      "text/plain": [
       "Canvas(toolbar=Toolbar(toolitems=[('Home', 'Reset original view', 'home', 'home'), ('Back', 'Back to previous …"
      ]
     },
     "metadata": {},
     "output_type": "display_data"
    }
   ],
   "source": [
    "import matplotlib.pylab as plt\n",
    "_, (ax1, ax2) = plt.subplots(1, 2, figsize=(11,4))\n",
    "ax1.plot(crack_positions, shear_stress , color = 'blue', lw= 2, label = r'$\\tau_{agg}$'); #/1000#\n",
    "#ax1.plot(slip, , color = 'red', lw = 2, label = '$F_{dowel}$');\n",
    "ax1.set_xlabel(r'$\\mathrm{Initial\\,position\\,of\\,the\\,crack\\,(mm)}$'); ax1.set_ylabel(r'$\\tau\\,(MPa)$');\n",
    "ax1.set_title(r'Shear Stress due to Aggregate Interlock')\n",
    "ax1.legend()\n",
    "ax2.plot(crack_positions, slip , color = 'red', lw= 2, label = '$slip\\,(mm)$');\n",
    "ax2.set_xlabel(r'$\\mathrm{Initial\\,position\\,of\\,the\\,crack\\,(mm)}$'); ax2.set_ylabel(r'$slip\\,(mm)$');\n",
    "ax2.set_title(r'Slip due to Aggregate Interlock')\n",
    "ax2.legend()\n",
    "plt.savefig(\"D:\\Shear zones\\Python plots\\slip_shear_Lfps2.pdf\")"
   ]
  },
  {
   "cell_type": "code",
   "execution_count": 26,
   "metadata": {},
   "outputs": [
    {
     "data": {
      "application/vnd.jupyter.widget-view+json": {
       "model_id": "38e21518535f4352a50f5e65a0ea6e83",
       "version_major": 2,
       "version_minor": 0
      },
      "text/plain": [
       "Canvas(toolbar=Toolbar(toolitems=[('Home', 'Reset original view', 'home', 'home'), ('Back', 'Back to previous …"
      ]
     },
     "metadata": {},
     "output_type": "display_data"
    }
   ],
   "source": [
    "import matplotlib.pylab as plt\n",
    "_, (ax1, ax2) = plt.subplots(1, 2, figsize=(11,4))\n",
    "ax1.plot(crack_positions,  F_Na, color = 'blue', lw= 2, label = r'$F_{Na}$'); #/1000#\n",
    "ax1.set_xlabel(r'$\\mathrm{Initial\\,position\\,of\\,the\\,crack\\,(mm)}$'); ax1.set_ylabel(r'$F\\,(N)$');\n",
    "ax1.set_title(r'Dowel force due to Dowel Action')\n",
    "ax2.plot(crack_positions, steel_slip , color = 'red', lw= 2, label = '$slip\\,(mm)$');\n",
    "ax2.set_xlabel(r'$\\mathrm{Initial\\,position\\,of\\,the\\,crack\\,(mm)}$'); ax2.set_ylabel(r'$steel\\,slip\\,(mm)$');\n",
    "ax2.set_title(r'Slip due to dowel force')\n",
    "ax2.legend()\n",
    "plt.savefig(\"D:\\Shear zones\\Python plots\\dowel_slip_length_Lfps2.pdf\")"
   ]
  },
  {
   "cell_type": "code",
   "execution_count": 27,
   "metadata": {},
   "outputs": [
    {
     "data": {
      "application/vnd.jupyter.widget-view+json": {
       "model_id": "4b893601962440eabe59dbe44e20d878",
       "version_major": 2,
       "version_minor": 0
      },
      "text/plain": [
       "Canvas(toolbar=Toolbar(toolitems=[('Home', 'Reset original view', 'home', 'home'), ('Back', 'Back to previous …"
      ]
     },
     "metadata": {},
     "output_type": "display_data"
    }
   ],
   "source": [
    "import matplotlib.pylab as plt\n",
    "_, (ax1, ax2) = plt.subplots(1, 2, figsize=(11,4))\n",
    "ax1.plot(crack_positions, w, color = 'blue', lw= 2, label = r'$w(mm)}$'); #/1000#\n",
    "ax1.set_xlabel(r'$\\mathrm{Length\\,of\\,the\\,beam\\,(mm)}$'); ax1.set_ylabel(r'$w\\,(mm)$');\n",
    "ax1.set_title(r'Crack opening at the ultimate state due to aggregate')\n",
    "ax1.legend()\n",
    "ax2.plot(crack_positions, w_steel , color = 'red', lw= 2, label = '$w\\,(mm)$');\n",
    "ax2.set_xlabel(r'$\\mathrm{Length\\,of\\,the\\,beam\\,(mm)}$'); ax2.set_ylabel(r'$w\\,(mm)$');\n",
    "ax2.set_title(r'Crack Opening at the ultimate state at longitudinal reinforcement')\n",
    "ax2.legend()\n",
    "plt.savefig(\"D:\\Shear zones\\Python plots\\w_steel_Lfps2.pdf\")"
   ]
  },
  {
   "cell_type": "code",
   "execution_count": 28,
   "metadata": {},
   "outputs": [
    {
     "data": {
      "application/vnd.jupyter.widget-view+json": {
       "model_id": "a449e620b7c64053bdb430c22265856f",
       "version_major": 2,
       "version_minor": 0
      },
      "text/plain": [
       "Canvas(toolbar=Toolbar(toolitems=[('Home', 'Reset original view', 'home', 'home'), ('Back', 'Back to previous …"
      ]
     },
     "metadata": {},
     "output_type": "display_data"
    }
   ],
   "source": [
    "import matplotlib.pylab as plt\n",
    "_, (ax1, ax2) = plt.subplots(1, 2, figsize=(11,4))\n",
    "ax1.plot(crack_positions, np.array(F_max) / 1000, lw= 2, label = r'$\\mathrm{F_{max}}$'); #/1000#\n",
    "ax1.set_xlabel(r'$\\mathrm{Position\\,of\\,single\\,crack\\,(mm)}$'); ax1.set_ylabel(r'$F\\,(kN)$');\n",
    "ax1.set_title(r'Maximum capacity and force contributions')\n",
    "ax1.legend()\n",
    "ax2.plot(crack_positions, np.array(F_agg) / 1000, lw= 2, label = r'$\\mathrm{F_{agg}}$');\n",
    "ax2.plot(crack_positions, np.array(F_Na) / 1000, lw= 2, label = r'$\\mathrm{F_{Na}}$');\n",
    "ax2.legend()\n",
    "#ax2.plot(crack_positions, np.array(Q_red) / 1000, lw= 2, label = r'$\\mathrm{F_{uncr}}$');\n",
    "plt.savefig(\"D:\\Shear zones\\Python plots\\contributions_conference.pdf\")"
   ]
  },
  {
   "cell_type": "code",
   "execution_count": 29,
   "metadata": {},
   "outputs": [
    {
     "data": {
      "application/vnd.jupyter.widget-view+json": {
       "model_id": "1f8f8fe93304477ca620538595093961",
       "version_major": 2,
       "version_minor": 0
      },
      "text/plain": [
       "Canvas(toolbar=Toolbar(toolitems=[('Home', 'Reset original view', 'home', 'home'), ('Back', 'Back to previous …"
      ]
     },
     "metadata": {},
     "output_type": "display_data"
    }
   ],
   "source": [
    "import matplotlib.pylab as plt\n",
    "_, (ax1) = plt.subplots(1, 1, figsize=(11,4))\n",
    "ax1.plot(crack_positions, F_s, color = 'red', lw = 2, label = '$F_{s}$');\n",
    "ax1.set_xlabel(r'$initial\\,crack\\,position\\,(mm)$'); ax1.set_ylabel(r'$F_{steel}\\,(kN)$');\n",
    "ax1.legend()\n",
    "plt.savefig(\"D:\\Shear zones\\Python plots\\F_s.pdf\")"
   ]
  },
  {
   "cell_type": "code",
   "execution_count": 30,
   "metadata": {},
   "outputs": [
    {
     "name": "stderr",
     "output_type": "stream",
     "text": [
      "<lambdifygenerated-24>:2: RuntimeWarning: invalid value encountered in sqrt\n",
      "  return (select([less(f_c, -35.7142857142857*d_a**(-0.32)*f_c**(-0.18)*f_t**2*w),less_equal(w, 0.028*d_a**0.32*f_c**0.18/f_t),less_equal(w, 0.14392*d_a**0.32*f_c**0.18/f_t),True], [-f_c,35.7142857142857*d_a**(-0.32)*f_c**(-0.18)*f_t**2*w,f_t*exp(-35.7142857142857*d_a**(-0.32)*f_c**(-0.18)*f_t*(-0.028*d_a**0.32*f_c**0.18/f_t + w)) + select([greater(w, 0.028*d_a**0.32*f_c**0.18/f_t)], [-0.62*s*(s**2/w**2 + 1)**(-0.25)*select([less_equal(w, 0),True], [0,0.25*f_c*s*(-sqrt(2)*sqrt(w/d_a) + 1)*((2.44 - 39.04/f_c)*abs(s/w)**3 + 9.8/f_c)/(w*(s**4*(2.44 - 39.04/f_c)/w**4 + 1))], default=nan)/sqrt(w)], default=nan),select([greater(w, 0.028*d_a**0.32*f_c**0.18/f_t)], [-0.62*s*(s**2/w**2 + 1)**(-0.25)*select([less_equal(w, 0),True], [0,0.25*f_c*s*(-sqrt(2)*sqrt(w/d_a) + 1)*((2.44 - 39.04/f_c)*abs(s/w)**3 + 9.8/f_c)/(w*(s**4*(2.44 - 39.04/f_c)/w**4 + 1))], default=nan)/sqrt(w)], default=nan)], default=nan))\n",
      "<lambdifygenerated-25>:2: RuntimeWarning: invalid value encountered in sqrt\n",
      "  return (select([less_equal(w, 0),True], [0,0.25*f_c*s*(-sqrt(2)*sqrt(w/d_a) + 1)*((2.44 - 39.04/f_c)*abs(s/w)**3 + 9.8/f_c)/(w*(s**4*(2.44 - 39.04/f_c)/w**4 + 1))], default=nan))\n"
     ]
    },
    {
     "name": "stdout",
     "output_type": "stream",
     "text": [
      "slip = [0.03533829010337974, 0.036243986468206014, 0.037957995196283796, 0.03911230902171427, 0.04075392608316124, 0.041442516642949664, 0.042835212931324765, 0.043059044337198565, 0.04327986552476295, 0.04220536664948393]\n",
      "w = [0.21849956732225426, 0.21409644145702472, 0.2115060183691286, 0.20832174131854495, 0.2059425309653403, 0.20383910346244183, 0.20183469982361066, 0.20072422601772638, 0.2001704858304989, 0.20061910175016462]\n",
      "w_steel = [array([0.19112566]), array([0.18718897]), array([0.18486558]), array([0.18202401]), array([0.17990177]), array([0.17801395]), array([0.17622972]), array([0.17522962]), array([0.17475093]), array([0.17517915])]\n",
      "steel_slip = [array([0.03503383]), array([0.03599142]), array([0.03776503]), array([0.03888585]), array([0.04051825]), array([0.04117574]), array([0.04261268]), array([0.04286041]), array([0.04297716]), array([0.04199682])]\n",
      "L_fps = [ 2.         10.66666667 19.33333333 28.         36.66666667 45.33333333\n",
      " 54.         62.66666667 71.33333333 80.        ]\n"
     ]
    }
   ],
   "source": [
    "L_fps_ = np.linspace(2, 80, 10)\n",
    "crack_position = ce.sz_bd.L  * 0.5\n",
    "F_max = []\n",
    "F_max_i = []\n",
    "F_a = []\n",
    "F_Na = []\n",
    "F_s = []\n",
    "slip = []\n",
    "steel_slip = []\n",
    "shear_stress = []\n",
    "w = []\n",
    "w_steel = []\n",
    "F_agg = []\n",
    "for L_fps in L_fps_:\n",
    "    ce.reset()\n",
    "    ce.sz_cp.sz_ctr.trait_set(L_fps=L_fps)\n",
    "    ce.sz_cp.trait_set(x_00=crack_position)\n",
    "    ce.run()\n",
    "    F_beam = ce.F_beam\n",
    "    F_max_ = np.max(F_beam)\n",
    "    F_max_i_ = np.argmax(F_beam)\n",
    "    F_max_i_int = np.array(F_max_i_)\n",
    "    F_Na_ = ce.F_Na[F_max_i_int]\n",
    "    F_s_ = ce.F_s[F_max_i_int]\n",
    "    slip_ = ce.slip[F_max_i_int][0]\n",
    "    w_ = ce.w[F_max_i_int][0]\n",
    "    steel_slip_ = ce.s_steel[F_max_i_int]\n",
    "    w_steel_ = ce.w_steel[F_max_i_int]\n",
    "    shear_stress_ = ce.shear_agg[F_max_i_int][0]\n",
    "    F_a_ = ce.F_a[F_max_i_int][1]\n",
    "    F_agg_ = F_a_ - F_Na_\n",
    "#     F_beam = ce.F_beam\n",
    "#     F_max_ = np.max(F_beam)\n",
    "#     F_max_i_ = np.argmax(F_beam)\n",
    "#     F_max_i_int = np.array(F_max_i_)\n",
    "    F_max_i.append(F_max_i_)\n",
    "    F_max.append(F_max_)\n",
    "    F_Na.append(F_Na_)\n",
    "    F_s.append(F_s_)\n",
    "    F_a.append(F_a_)\n",
    "    F_agg.append(F_agg_)\n",
    "    slip.append(slip_)\n",
    "    w.append(w_)\n",
    "    steel_slip.append(steel_slip_)\n",
    "    w_steel.append(w_steel_)\n",
    "    shear_stress.append(shear_stress_)\n",
    "#print(F_max)\n",
    "#print(F_max_i)\n",
    "print('slip =', slip)\n",
    "print('w =', w)\n",
    "print('w_steel =', w_steel)\n",
    "print('steel_slip =', steel_slip)\n",
    "print('L_fps =', L_fps_)"
   ]
  },
  {
   "cell_type": "code",
   "execution_count": 31,
   "metadata": {},
   "outputs": [
    {
     "data": {
      "application/vnd.jupyter.widget-view+json": {
       "model_id": "f58bf8dd155246b0a6440db893a178e7",
       "version_major": 2,
       "version_minor": 0
      },
      "text/plain": [
       "Canvas(toolbar=Toolbar(toolitems=[('Home', 'Reset original view', 'home', 'home'), ('Back', 'Back to previous …"
      ]
     },
     "metadata": {},
     "output_type": "display_data"
    }
   ],
   "source": [
    "import matplotlib.pylab as plt\n",
    "_, (ax1, ax2) = plt.subplots(1, 2, figsize=(11,4))\n",
    "ax1.plot(L_fps_, steel_slip, color = 'blue', lw= 2, label = r'$s_{s}(mm)}$');#/1000#\n",
    "#ax1.plot(crack_positions, slip, color = 'red', lw= 2, label = r'$s(mm)}$');\n",
    "ax1.set_xlabel(r'$\\mathrm{Length\\,of\\,FPZ\\,(mm)}$'); ax1.set_ylabel(r'$s\\,(mm)$');\n",
    "ax1.set_title(r'Slip at the steel reinforcement $x_{00}$= 0.5L')\n",
    "ax1.legend()\n",
    "ax2.plot(L_fps_, w_steel , color = 'red', lw= 2, label = '$w\\,(mm)$');\n",
    "ax2.set_xlabel('$\\mathrm{Length\\,of\\,FPZ\\,(mm)}$'); ax2.set_ylabel(r'$w\\,(mm)$');\n",
    "ax2.set_title(r'Crack Opening at the ultimate state at longitudinal reinforcement')\n",
    "ax2.legend()\n",
    "plt.savefig(\"D:\\Shear zones\\Python plots\\w_steel_Lfps_vary.pdf\")"
   ]
  },
  {
   "cell_type": "code",
   "execution_count": 32,
   "metadata": {
    "scrolled": false
   },
   "outputs": [
    {
     "data": {
      "application/vnd.jupyter.widget-view+json": {
       "model_id": "ee2a8b4c50414f1f9d752319cddd0200",
       "version_major": 2,
       "version_minor": 0
      },
      "text/plain": [
       "Canvas(toolbar=Toolbar(toolitems=[('Home', 'Reset original view', 'home', 'home'), ('Back', 'Back to previous …"
      ]
     },
     "metadata": {},
     "output_type": "display_data"
    },
    {
     "name": "stderr",
     "output_type": "stream",
     "text": [
      "No handles with labels found to put in legend.\n",
      "No handles with labels found to put in legend.\n"
     ]
    }
   ],
   "source": [
    "import matplotlib.pylab as plt\n",
    "_, (ax1, ax2) = plt.subplots(1, 2, figsize=(11,4))\n",
    "ax1.plot(L_fps_,F_Na, color = 'blue', lw= 2);#/1000#\n",
    "#ax1.plot(crack_positions, slip, color = 'red', lw= 2, label = r'$s(mm)}$');\n",
    "ax1.set_xlabel(r'$\\mathrm{Length\\,of\\,FPZ\\,(mm)}$'); ax1.set_ylabel(r'$F_{da}\\,(Na)$');\n",
    "ax1.set_title(r'Dowel Force')\n",
    "ax1.legend()\n",
    "ax2.plot(L_fps_, F_a , color = 'red', lw= 2);\n",
    "ax2.set_xlabel('$\\mathrm{Length\\,of\\,FPZ\\,(mm)}$'); ax2.set_ylabel(r'$F_{ag}\\,(N)$');\n",
    "ax2.set_title(r'Aggregate Force')\n",
    "ax2.legend()\n",
    "plt.savefig(\"D:\\Shear zones\\Python plots\\F_Na_agg_vary.pdf\")"
   ]
  },
  {
   "cell_type": "code",
   "execution_count": 33,
   "metadata": {},
   "outputs": [
    {
     "data": {
      "application/vnd.jupyter.widget-view+json": {
       "model_id": "223f6e9168c54c5d9100cb0b3f045bf7",
       "version_major": 2,
       "version_minor": 0
      },
      "text/plain": [
       "Canvas(toolbar=Toolbar(toolitems=[('Home', 'Reset original view', 'home', 'home'), ('Back', 'Back to previous …"
      ]
     },
     "metadata": {},
     "output_type": "display_data"
    }
   ],
   "source": [
    "import matplotlib.pylab as plt\n",
    "_, (ax1, ax2) = plt.subplots(1, 2, figsize=(11,4))\n",
    "ax1.plot(L_fps_, slip, color = 'blue', lw= 2, label = r'$s(mm)}$');#/1000#\n",
    "#ax1.plot(crack_positions, slip, color = 'red', lw= 2, label = r'$s(mm)}$');\n",
    "ax1.set_xlabel(r'$\\mathrm{Length\\,of\\,FPZ\\,(mm)}$'); ax1.set_ylabel(r'$s\\,(mm)$');\n",
    "ax1.set_title(r'Slip at aggregate interlock')\n",
    "ax1.legend()\n",
    "ax2.plot(L_fps_, shear_stress , color = 'red', lw= 2, label = '$\\tau\\,(MPa)$');\n",
    "ax2.set_xlabel('$\\mathrm{Length\\,of\\,FPZ\\,(mm)}$'); ax2.set_ylabel(r'$\\tau_{ag}\\,(MPa)$');\n",
    "ax2.set_title(r'Shear stress due to aggregate interlock')\n",
    "ax2.legend()\n",
    "plt.savefig(\"D:\\Shear zones\\Python plots\\shear_slip_agg_vary.pdf\")"
   ]
  },
  {
   "cell_type": "code",
   "execution_count": 34,
   "metadata": {},
   "outputs": [
    {
     "data": {
      "application/vnd.jupyter.widget-view+json": {
       "model_id": "30794e09ce4e41c9a351c5c1eca7cfc6",
       "version_major": 2,
       "version_minor": 0
      },
      "text/plain": [
       "Canvas(toolbar=Toolbar(toolitems=[('Home', 'Reset original view', 'home', 'home'), ('Back', 'Back to previous …"
      ]
     },
     "metadata": {},
     "output_type": "display_data"
    }
   ],
   "source": [
    "import matplotlib.pylab as plt\n",
    "_, (ax1, ax2) = plt.subplots(1, 2, figsize=(11,4))\n",
    "ax1.plot(L_fps_, F_max, color = 'blue', lw= 2, label = r'$F(N)}$');#/1000#\n",
    "#ax1.plot(crack_positions, slip, color = 'red', lw= 2, label = r'$s(mm)}$');\n",
    "ax1.set_xlabel(r'$\\mathrm{Length\\,of\\,FPZ\\,(mm)}$'); ax1.set_ylabel(r'$F_{max}\\,(N)$');\n",
    "ax1.set_title(r'Maximum Force Contribution')\n",
    "ax1.legend()\n",
    "ax2.plot(L_fps_, F_s , color = 'red', lw= 2, label = '$F_s\\,(mm)$');\n",
    "ax2.set_xlabel('$\\mathrm{Length\\,of\\,FPZ\\,(mm)}$'); ax2.set_ylabel(r'$F_{s}\\,(N)$');\n",
    "ax2.set_title(r'Horizontal Force component at steel')\n",
    "ax2.legend()\n",
    "plt.savefig(\"D:\\Shear zones\\Python plots\\F_max_F_steel_vary.pdf\")"
   ]
  },
  {
   "cell_type": "code",
   "execution_count": 35,
   "metadata": {
    "scrolled": false
   },
   "outputs": [
    {
     "name": "stdout",
     "output_type": "stream",
     "text": [
      "387.0\n"
     ]
    },
    {
     "name": "stderr",
     "output_type": "stream",
     "text": [
      "<lambdifygenerated-24>:2: RuntimeWarning: invalid value encountered in sqrt\n",
      "  return (select([less(f_c, -35.7142857142857*d_a**(-0.32)*f_c**(-0.18)*f_t**2*w),less_equal(w, 0.028*d_a**0.32*f_c**0.18/f_t),less_equal(w, 0.14392*d_a**0.32*f_c**0.18/f_t),True], [-f_c,35.7142857142857*d_a**(-0.32)*f_c**(-0.18)*f_t**2*w,f_t*exp(-35.7142857142857*d_a**(-0.32)*f_c**(-0.18)*f_t*(-0.028*d_a**0.32*f_c**0.18/f_t + w)) + select([greater(w, 0.028*d_a**0.32*f_c**0.18/f_t)], [-0.62*s*(s**2/w**2 + 1)**(-0.25)*select([less_equal(w, 0),True], [0,0.25*f_c*s*(-sqrt(2)*sqrt(w/d_a) + 1)*((2.44 - 39.04/f_c)*abs(s/w)**3 + 9.8/f_c)/(w*(s**4*(2.44 - 39.04/f_c)/w**4 + 1))], default=nan)/sqrt(w)], default=nan),select([greater(w, 0.028*d_a**0.32*f_c**0.18/f_t)], [-0.62*s*(s**2/w**2 + 1)**(-0.25)*select([less_equal(w, 0),True], [0,0.25*f_c*s*(-sqrt(2)*sqrt(w/d_a) + 1)*((2.44 - 39.04/f_c)*abs(s/w)**3 + 9.8/f_c)/(w*(s**4*(2.44 - 39.04/f_c)/w**4 + 1))], default=nan)/sqrt(w)], default=nan)], default=nan))\n",
      "<lambdifygenerated-25>:2: RuntimeWarning: invalid value encountered in sqrt\n",
      "  return (select([less_equal(w, 0),True], [0,0.25*f_c*s*(-sqrt(2)*sqrt(w/d_a) + 1)*((2.44 - 39.04/f_c)*abs(s/w)**3 + 9.8/f_c)/(w*(s**4*(2.44 - 39.04/f_c)/w**4 + 1))], default=nan))\n"
     ]
    },
    {
     "name": "stdout",
     "output_type": "stream",
     "text": [
      "387.0\n",
      "387.0\n",
      "387.0\n",
      "774.0\n",
      "774.0\n",
      "774.0\n",
      "774.0\n",
      "1161.0\n",
      "1161.0\n",
      "1161.0\n",
      "1161.0\n",
      "1548.0\n",
      "1548.0\n",
      "1548.0\n",
      "1548.0\n",
      "1935.0\n",
      "1935.0\n",
      "1935.0\n",
      "1935.0\n",
      "2322.0\n",
      "2322.0\n",
      "2322.0\n",
      "2322.0\n",
      "2709.0\n",
      "2709.0\n",
      "2709.0\n",
      "2709.0\n",
      "3096.0\n",
      "3096.0\n",
      "3096.0\n",
      "3096.0\n",
      "3483.0\n",
      "3483.0\n",
      "3483.0\n"
     ]
    },
    {
     "name": "stderr",
     "output_type": "stream",
     "text": [
      "<lambdifygenerated-24>:2: RuntimeWarning: overflow encountered in exp\n",
      "  return (select([less(f_c, -35.7142857142857*d_a**(-0.32)*f_c**(-0.18)*f_t**2*w),less_equal(w, 0.028*d_a**0.32*f_c**0.18/f_t),less_equal(w, 0.14392*d_a**0.32*f_c**0.18/f_t),True], [-f_c,35.7142857142857*d_a**(-0.32)*f_c**(-0.18)*f_t**2*w,f_t*exp(-35.7142857142857*d_a**(-0.32)*f_c**(-0.18)*f_t*(-0.028*d_a**0.32*f_c**0.18/f_t + w)) + select([greater(w, 0.028*d_a**0.32*f_c**0.18/f_t)], [-0.62*s*(s**2/w**2 + 1)**(-0.25)*select([less_equal(w, 0),True], [0,0.25*f_c*s*(-sqrt(2)*sqrt(w/d_a) + 1)*((2.44 - 39.04/f_c)*abs(s/w)**3 + 9.8/f_c)/(w*(s**4*(2.44 - 39.04/f_c)/w**4 + 1))], default=nan)/sqrt(w)], default=nan),select([greater(w, 0.028*d_a**0.32*f_c**0.18/f_t)], [-0.62*s*(s**2/w**2 + 1)**(-0.25)*select([less_equal(w, 0),True], [0,0.25*f_c*s*(-sqrt(2)*sqrt(w/d_a) + 1)*((2.44 - 39.04/f_c)*abs(s/w)**3 + 9.8/f_c)/(w*(s**4*(2.44 - 39.04/f_c)/w**4 + 1))], default=nan)/sqrt(w)], default=nan)], default=nan))\n",
      "<lambdifygenerated-28>:2: RuntimeWarning: invalid value encountered in sqrt\n",
      "  return (select([less(w, (1/2)*A_f*Dummy_188**2/(Dummy_189*Dummy_190*p)),True], [sqrt(2)*sqrt(A_f)*sqrt(Dummy_189)*sqrt(Dummy_190)*sqrt(p)*sqrt(w),A_f*Dummy_188], default=nan))\n"
     ]
    },
    {
     "name": "stdout",
     "output_type": "stream",
     "text": [
      "3483.0\n",
      "F_max = [[ 82122.45042688  81393.47224785  81048.59633225  81090.77049157]\n",
      " [ 92122.50028973  91057.18981364  90525.96993832  90491.42321628]\n",
      " [104883.85352717 103272.46277004 102417.28120317 102309.44323423]\n",
      " [121690.61465758 119201.75163799 117712.59957406 117425.05282511]\n",
      " [144760.01845284 140852.46925836 137764.49303354 137166.8579786 ]\n",
      " [178439.75080476 172102.64421915 166390.83124378 163783.65879766]\n",
      " [232020.32539461 221527.33648327 211011.55720022 202613.97690938]\n",
      " [329183.42854173 311306.64564237 291471.16943581 282343.28284603]\n",
      " [563205.22116802 551139.87685262 540660.89939708 521620.67661095]]\n",
      "F_Na = [[19207.51979374 20372.56464268 21111.72105727 20693.77351454]\n",
      " [20733.03747778 21983.63004227 22770.01304233 22445.06733233]\n",
      " [22404.68083919 23742.68032564 24533.55618311 24313.64125574]\n",
      " [24233.27025265 25546.15206741 26362.82118447 26215.18648826]\n",
      " [26092.75203098 27244.47013794 28034.95035672 27926.28935227]\n",
      " [27742.62428295 28434.70521458 28660.50749452 28652.34101023]\n",
      " [28645.81267764 28618.91793    28564.380127   28613.87391561]\n",
      " [28559.11951793 28507.60876429 28541.51321618 22117.34235354]\n",
      " [17059.03462491 16819.52856935 16299.69210314 15960.45790078]]\n",
      "F_s = [[263233.70338398 260957.41385538 260087.38909116 260174.79001497]\n",
      " [263331.51458665 260430.9957647  259237.269025   259190.65108081]\n",
      " [263487.46617428 259724.124936   258035.96283859 257863.35904267]\n",
      " [263625.50753342 258754.05726803 256260.45757824 255885.72241621]\n",
      " [263755.21913579 257398.43454807 253268.47762789 252512.43468914]\n",
      " [263644.27360369 255459.79561695 249338.3532564  246802.93720811]\n",
      " [262765.3107725  252592.98853719 244132.82266675 230697.78319646]\n",
      " [259395.58819116 248027.02792482 229852.89231699 173067.42387631]\n",
      " [179673.87836602 166600.59512527 154827.80220447 145283.3478232 ]]\n",
      "slip = [[0.02143779 0.02326619 0.02447682 0.02381295]\n",
      " [0.02387397 0.02604614 0.02751073 0.02691771]\n",
      " [0.02683829 0.02948452 0.03124215 0.03054916]\n",
      " [0.0305819  0.03371938 0.03607787 0.0356495 ]\n",
      " [0.03533829 0.03911231 0.04283521 0.04220537]\n",
      " [0.04140036 0.04589227 0.05036785 0.05103333]\n",
      " [0.04934377 0.05405492 0.05866737 0.05443075]\n",
      " [0.05955156 0.0639153  0.06107824 0.02662989]\n",
      " [0.01915802 0.01859577 0.01694331 0.01744025]]\n",
      "w = [[0.21753673 0.21386826 0.2124752  0.21260854]\n",
      " [0.21771096 0.21304076 0.2111306  0.21104   ]\n",
      " [0.21798581 0.21193272 0.20924333 0.20894769]\n",
      " [0.21824381 0.21041956 0.20646875 0.20584882]\n",
      " [0.21849957 0.20832174 0.2018347  0.2006191 ]\n",
      " [0.21839968 0.20535527 0.19584893 0.19193057]\n",
      " [0.21713005 0.20103839 0.18810469 0.16851604]\n",
      " [0.21203565 0.19432223 0.16763786 0.09726173]\n",
      " [0.1047014  0.09068083 0.07887873 0.06992408]]\n",
      "steel_slip = [[0.02128467 0.02311235 0.02433932 0.02363852]\n",
      " [0.02370357 0.0258667  0.02733237 0.02671555]\n",
      " [0.02664002 0.02928822 0.03102656 0.0305276 ]\n",
      " [0.03034841 0.03351774 0.03584271 0.03539498]\n",
      " [0.03503383 0.03888585 0.04261268 0.04199682]\n",
      " [0.04105173 0.04556121 0.05000659 0.05071893]\n",
      " [0.04886493 0.05363435 0.05839157 0.05407433]\n",
      " [0.05885044 0.06334361 0.0603862  0.02610957]\n",
      " [0.0181884  0.01786172 0.01716384 0.01671631]]\n",
      "w_steel = [[0.19037059 0.18709241 0.18584696 0.18597189]\n",
      " [0.1905121  0.18633834 0.18463403 0.18456763]\n",
      " [0.19073781 0.18532818 0.18292681 0.18268217]\n",
      " [0.19093772 0.18394637 0.18041809 0.17989081]\n",
      " [0.19112566 0.18202401 0.17622972 0.17517915]\n",
      " [0.19096491 0.17929245 0.17080283 0.16734684]\n",
      " [0.18969371 0.17529094 0.16374544 0.14621897]\n",
      " [0.18485962 0.16901097 0.14514993 0.08229009]\n",
      " [0.08869247 0.07625529 0.06585895 0.05798939]]\n",
      "shear_stress = [[ 50.60887517  56.03682539  59.43565191  57.75459905]\n",
      " [ 56.39422804  63.13892154  67.45683456  65.99710037]\n",
      " [ 63.45024896  72.13612938  77.71238271  76.04463946]\n",
      " [ 72.46566684  83.62146037  91.78888803  90.94802099]\n",
      " [ 84.12319022  99.03279451 113.55312545 112.519749  ]\n",
      " [ 99.60365965 120.09584821 141.82335896 147.84275522]\n",
      " [121.7276293  149.19597383 180.70611411 191.03700807]\n",
      " [156.52701144 193.25973842 225.58015876 161.2517634 ]\n",
      " [101.7269222  116.14029827 123.22841885 147.01956807]]\n",
      "F_a = [[26298.38110551 32218.75280709 36076.60779794 40554.3034566 ]\n",
      " [28393.36705597 35327.05628974 39886.29300645 45071.21343202]\n",
      " [30601.99413728 38897.23273696 44438.04979336 50707.10331751]\n",
      " [32906.44633867 42876.32468663 49805.23524078 56286.91014321]\n",
      " [34925.23871345 46918.75354957 57552.08500256 64635.69562435]\n",
      " [36215.74891386 50202.89445462 63348.97345705 74096.00766054]\n",
      " [35747.71684922 51615.27302105 67869.00890742 78503.26656114]\n",
      " [32674.9166108  50819.12979422 66412.81631587 51934.9971856 ]\n",
      " [18523.24526083 26563.49231707 32108.94746667 35099.02593599]]\n"
     ]
    }
   ],
   "source": [
    "L_fps_num = 4\n",
    "L_fps_ = np.linspace(2, 80, L_fps_num)\n",
    "crack_positions_num = 9\n",
    "crack_positions = np.linspace(ce.sz_bd.L  * 0.1, ce.sz_bd.L  * 0.9, crack_positions_num) \n",
    "# F_max = []\n",
    "F_max = np.zeros([crack_positions_num, L_fps_num])\n",
    "F_Na = np.zeros([crack_positions_num, L_fps_num])\n",
    "F_s = np.zeros([crack_positions_num, L_fps_num])\n",
    "F_a = np.zeros([crack_positions_num, L_fps_num])\n",
    "slip = np.zeros([crack_positions_num, L_fps_num])\n",
    "steel_slip = np.zeros([crack_positions_num, L_fps_num])\n",
    "shear_stress = np.zeros([crack_positions_num, L_fps_num])\n",
    "w = np.zeros([crack_positions_num, L_fps_num])\n",
    "w_steel = np.zeros([crack_positions_num, L_fps_num])\n",
    "F_agg = np.zeros([crack_positions_num, L_fps_num])\n",
    "for i in range(len(crack_positions)):\n",
    "    for j in range(len(L_fps_)):\n",
    "        ce.reset()\n",
    "        ce.sz_cp.trait_set(x_00=crack_positions[i])\n",
    "        print(crack_positions[i])\n",
    "        ce.sz_cp.sz_ctr.trait_set(L_fps=L_fps_[j])\n",
    "        #print(L_fps_[j])\n",
    "        ce.run()\n",
    "        F_beam = ce.F_beam\n",
    "        F_max_ = np.max(F_beam)\n",
    "        F_max_i_ = np.argmax(F_beam)\n",
    "        F_max_i_int = np.array(F_max_i_)\n",
    "        F_Na_ = ce.F_Na[F_max_i_int]\n",
    "        F_s_ = ce.F_s[F_max_i_int]\n",
    "        slip_ = ce.slip[F_max_i_int][0]\n",
    "        w_ = ce.w[F_max_i_int][0]\n",
    "        steel_slip_ = ce.s_steel[F_max_i_int]\n",
    "        w_steel_ = ce.w_steel[F_max_i_int]\n",
    "        shear_stress_ = ce.shear_agg[F_max_i_int][0]\n",
    "        F_a_ = ce.F_a[F_max_i_int][1]\n",
    "        F_agg_ = F_a_ - F_Na_\n",
    "        F_max[i, j] = F_max_\n",
    "        F_Na[i,j] = F_Na_\n",
    "        F_s[i,j] = F_s_\n",
    "        slip[i,j] = slip_\n",
    "        w[i,j] = w_\n",
    "        steel_slip[i,j] = steel_slip_\n",
    "        w_steel[i,j] = w_steel_\n",
    "        shear_stress[i,j] = shear_stress_\n",
    "        F_a[i,j] = F_a_\n",
    "        F_agg[i,j] = F_agg_\n",
    "        \n",
    "        \n",
    "#         F_max_i.append(F_max_i_)\n",
    "    #F_max_all = np.concatenate(F_max_1)\n",
    "print('F_max =', F_max)\n",
    "print('F_Na =', F_Na)\n",
    "print('F_s =', F_s)\n",
    "print('slip =', slip)\n",
    "print('w =', w)\n",
    "print('steel_slip =', steel_slip)\n",
    "print('w_steel =', w_steel)\n",
    "print('shear_stress =', shear_stress)\n",
    "print('F_a =', F_a)\n",
    "    #r.append(F_max)\n",
    "#         F_Na.append(F_Na_)\n",
    "#         F_s.append(F_s_)\n",
    "#         F_a.append(F_a_)\n",
    "#         F_agg.append(F_agg_)\n",
    "#         #slip.append(slip_)\n",
    "#         #w.append(w_)\n",
    "#         steel_slip.append(steel_slip_)\n",
    "#         w_steel.append(w_steel_)\n",
    "        #shear_stress.append(shear_stress_)\n",
    "    #print('slip =', slip)\n",
    "    #print('w =', w)\n",
    "#     print('steel_slip =', steel_slip)\n",
    "#     print('L_fps =', L_fps_)\n",
    "#     print('crack_position =', crack_positions)"
   ]
  },
  {
   "cell_type": "code",
   "execution_count": 36,
   "metadata": {
    "scrolled": false
   },
   "outputs": [
    {
     "data": {
      "application/vnd.jupyter.widget-view+json": {
       "model_id": "bb6d7ffa8555410191819c6d18d5890e",
       "version_major": 2,
       "version_minor": 0
      },
      "text/plain": [
       "Canvas(toolbar=Toolbar(toolitems=[('Home', 'Reset original view', 'home', 'home'), ('Back', 'Back to previous …"
      ]
     },
     "metadata": {},
     "output_type": "display_data"
    }
   ],
   "source": [
    "import matplotlib.pylab as plt\n",
    "_, (ax1, ax2) = plt.subplots(1, 2, figsize=(11,4))\n",
    "ax1.plot(L_fps_, F_max[0,:], lw= 2, label = r'$x_{00} = 0.1L$');\n",
    "ax1.plot(L_fps_, F_max[1,:], lw= 2, label = r'$x_{00} = 0.2L$');\n",
    "ax1.plot(L_fps_, F_max[2,:], lw= 2, label = r'$x_{00} = 0.3L$');\n",
    "ax1.plot(L_fps_, F_max[3,:], lw= 2, label = r'$x_{00} = 0.4L$');\n",
    "ax1.plot(L_fps_, F_max[4,:], lw= 2, label = r'$x_{00} = 0.5L$');\n",
    "ax1.plot(L_fps_, F_max[5,:], lw= 2, label = r'$x_{00} = 0.6L$');\n",
    "ax1.plot(L_fps_, F_max[6,:], lw= 2, label = r'$x_{00} = 0.7L$');\n",
    "ax1.plot(L_fps_, F_max[7,:], lw= 2, label = r'$x_{00} = 0.8L$');\n",
    "ax1.plot(L_fps_, F_max[8,:], lw= 2, label = r'$x_{00} = 0.9L$');\n",
    "#ax1.plot(crack_positions, slip, color = 'red', lw= 2, label = r'$s(mm)}$');\n",
    "ax1.set_xlabel(r'$\\mathrm{Length\\,of\\,FPZ\\,(mm)}$'); ax1.set_ylabel(r'$F_{max}\\,(N)$');\n",
    "ax1.set_title(r'Maximum Force Contribution')\n",
    "ax1.legend()\n",
    "ax2.plot(L_fps_, F_Na[0,:], lw= 2, label = r'$x_{00} = 0.1L$');\n",
    "ax2.plot(L_fps_, F_Na[1,:], lw= 2, label = r'$x_{00} = 0.2L$');\n",
    "ax2.plot(L_fps_, F_Na[2,:], lw= 2, label = r'$x_{00} = 0.3L$');\n",
    "ax2.plot(L_fps_, F_Na[3,:], lw= 2, label = r'$x_{00} = 0.4L$');\n",
    "ax2.plot(L_fps_, F_Na[4,:], lw= 2, label = r'$x_{00} = 0.5L$');\n",
    "ax2.plot(L_fps_, F_Na[5,:], lw= 2, label = r'$x_{00} = 0.6L$');\n",
    "ax2.plot(L_fps_, F_Na[6,:], lw= 2, label = r'$x_{00} = 0.7L$');\n",
    "ax2.plot(L_fps_, F_Na[7,:], lw= 2, label = r'$x_{00} = 0.8L$');\n",
    "ax2.plot(L_fps_, F_Na[8,:], lw= 2, label = r'$x_{00} = 0.9L$');\n",
    "ax2.set_xlabel(r'$\\mathrm{Length\\,of\\,FPZ\\,(mm)}$'); ax2.set_ylabel(r'$F_{Na}\\,(N)$');\n",
    "ax2.set_title(r'Maximum Dowel Force Contribution')\n",
    "ax2.legend()\n",
    "plt.savefig(\"D:\\Shear zones\\Python plots\\F_max_F_steel_all_crack_points.pdf\")"
   ]
  },
  {
   "cell_type": "code",
   "execution_count": 37,
   "metadata": {},
   "outputs": [
    {
     "data": {
      "application/vnd.jupyter.widget-view+json": {
       "model_id": "550bdb9b542340c991dc1a2a10f4f6f1",
       "version_major": 2,
       "version_minor": 0
      },
      "text/plain": [
       "Canvas(toolbar=Toolbar(toolitems=[('Home', 'Reset original view', 'home', 'home'), ('Back', 'Back to previous …"
      ]
     },
     "metadata": {},
     "output_type": "display_data"
    }
   ],
   "source": [
    "import matplotlib.pylab as plt\n",
    "_, (ax1, ax2) = plt.subplots(1, 2, figsize=(11,4))\n",
    "ax1.plot(L_fps_, F_s[0,:], lw= 2, label = r'$x_{00} = 0.1L$');\n",
    "ax1.plot(L_fps_, F_s[1,:], lw= 2, label = r'$x_{00} = 0.2L$');\n",
    "ax1.plot(L_fps_, F_s[2,:], lw= 2, label = r'$x_{00} = 0.3L$');\n",
    "ax1.plot(L_fps_, F_s[3,:], lw= 2, label = r'$x_{00} = 0.4L$');\n",
    "ax1.plot(L_fps_, F_s[4,:], lw= 2, label = r'$x_{00} = 0.5L$');\n",
    "ax1.plot(L_fps_, F_s[5,:], lw= 2, label = r'$x_{00} = 0.6L$');\n",
    "ax1.plot(L_fps_, F_s[6,:], lw= 2, label = r'$x_{00} = 0.7L$');\n",
    "ax1.plot(L_fps_, F_s[7,:], lw= 2, label = r'$x_{00} = 0.8L$');\n",
    "ax1.plot(L_fps_, F_s[8,:], lw= 2, label = r'$x_{00} = 0.9L$');\n",
    "#ax1.plot(crack_positions, slip, color = 'red', lw= 2, label = r'$s(mm)}$');\n",
    "ax1.set_xlabel(r'$\\mathrm{Length\\,of\\,FPZ\\,(mm)}$'); ax1.set_ylabel(r'$F_{s}\\,(N)$');\n",
    "ax1.set_title(r'Maximum Horizontal Force Contribution at reinforcement')\n",
    "ax1.legend()\n",
    "ax2.plot(L_fps_, F_a[0,:], lw= 2, label = r'$x_{00} = 0.1L$');\n",
    "ax2.plot(L_fps_, F_a[1,:], lw= 2, label = r'$x_{00} = 0.2L$');\n",
    "ax2.plot(L_fps_, F_a[2,:], lw= 2, label = r'$x_{00} = 0.3L$');\n",
    "ax2.plot(L_fps_, F_a[3,:], lw= 2, label = r'$x_{00} = 0.4L$');\n",
    "ax2.plot(L_fps_, F_a[4,:], lw= 2, label = r'$x_{00} = 0.5L$');\n",
    "ax2.plot(L_fps_, F_a[5,:], lw= 2, label = r'$x_{00} = 0.6L$');\n",
    "ax2.plot(L_fps_, F_a[6,:], lw= 2, label = r'$x_{00} = 0.7L$');\n",
    "ax2.plot(L_fps_, F_a[7,:], lw= 2, label = r'$x_{00} = 0.8L$');\n",
    "ax2.plot(L_fps_, F_a[8,:], lw= 2, label = r'$x_{00} = 0.9L$');\n",
    "#ax1.plot(crack_positions, slip, color = 'red', lw= 2, label = r'$s(mm)}$');\n",
    "ax2.set_xlabel(r'$\\mathrm{Length\\,of\\,FPZ\\,(mm)}$'); ax2.set_ylabel(r'$F_{ag}\\,(N)$');\n",
    "ax2.set_title(r'Maximum Aggregate Force Contribution at Ultimate state')\n",
    "ax2.legend()\n",
    "plt.savefig(\"D:\\Shear zones\\Python plots\\F_a_F_steel_h_all_crack_points.pdf\")"
   ]
  },
  {
   "cell_type": "code",
   "execution_count": 38,
   "metadata": {},
   "outputs": [
    {
     "data": {
      "application/vnd.jupyter.widget-view+json": {
       "model_id": "43bb87e373474bb39ad24a23c07bc41c",
       "version_major": 2,
       "version_minor": 0
      },
      "text/plain": [
       "Canvas(toolbar=Toolbar(toolitems=[('Home', 'Reset original view', 'home', 'home'), ('Back', 'Back to previous …"
      ]
     },
     "metadata": {},
     "output_type": "display_data"
    }
   ],
   "source": [
    "import matplotlib.pylab as plt\n",
    "_, (ax1, ax2) = plt.subplots(1, 2, figsize=(11,4))\n",
    "ax1.plot(L_fps_, steel_slip[0,:], lw= 2, label = r'$x_{00} = 0.1L$');\n",
    "ax1.plot(L_fps_, steel_slip[1,:], lw= 2, label = r'$x_{00} = 0.2L$');\n",
    "ax1.plot(L_fps_, steel_slip[2,:], lw= 2, label = r'$x_{00} = 0.3L$');\n",
    "ax1.plot(L_fps_, steel_slip[3,:], lw= 2, label = r'$x_{00} = 0.4L$');\n",
    "ax1.plot(L_fps_, steel_slip[4,:], lw= 2, label = r'$x_{00} = 0.5L$');\n",
    "ax1.plot(L_fps_, steel_slip[5,:], lw= 2, label = r'$x_{00} = 0.6L$');\n",
    "ax1.plot(L_fps_, steel_slip[6,:], lw= 2, label = r'$x_{00} = 0.7L$');\n",
    "ax1.plot(L_fps_, steel_slip[7,:], lw= 2, label = r'$x_{00} = 0.8L$');\n",
    "ax1.plot(L_fps_, steel_slip[8,:], lw= 2, label = r'$x_{00} = 0.9L$');\n",
    "#ax1.plot(crack_positions, slip, color = 'red', lw= 2, label = r'$s(mm)}$');\n",
    "ax1.set_xlabel(r'$\\mathrm{Length\\,of\\,FPZ\\,(mm)}$'); ax1.set_ylabel(r'$s\\,(mm)$');\n",
    "ax1.set_title(r'Slip displacement at steel reinforcement')\n",
    "ax1.legend()\n",
    "ax2.plot(L_fps_, w_steel[0,:], lw= 2, label = r'$x_{00} = 0.1L$');\n",
    "ax2.plot(L_fps_, w_steel[1,:], lw= 2, label = r'$x_{00} = 0.2L$');\n",
    "ax2.plot(L_fps_, w_steel[2,:], lw= 2, label = r'$x_{00} = 0.3L$');\n",
    "ax2.plot(L_fps_, w_steel[3,:], lw= 2, label = r'$x_{00} = 0.4L$');\n",
    "ax2.plot(L_fps_, w_steel[4,:], lw= 2, label = r'$x_{00} = 0.5L$');\n",
    "ax2.plot(L_fps_, w_steel[5,:], lw= 2, label = r'$x_{00} = 0.6L$');\n",
    "ax2.plot(L_fps_, w_steel[6,:], lw= 2, label = r'$x_{00} = 0.7L$');\n",
    "ax2.plot(L_fps_, w_steel[7,:], lw= 2, label = r'$x_{00} = 0.8L$');\n",
    "ax2.plot(L_fps_, w_steel[8,:], lw= 2, label = r'$x_{00} = 0.9L$');\n",
    "#ax1.plot(crack_positions, slip, color = 'red', lw= 2, label = r'$s(mm)}$');\n",
    "ax2.set_xlabel(r'$\\mathrm{Length\\,of\\,FPZ\\,(mm)}$'); ax2.set_ylabel(r'$w\\,(mm)$');\n",
    "ax2.set_title(r'Longitudinal crack opening at steel reinforcement')\n",
    "ax2.legend()\n",
    "plt.savefig(\"D:\\Shear zones\\Python plots\\crack_position_l_2_newcrack_position_l_2_new.pdf\")"
   ]
  },
  {
   "cell_type": "code",
   "execution_count": 39,
   "metadata": {},
   "outputs": [
    {
     "data": {
      "application/vnd.jupyter.widget-view+json": {
       "model_id": "bf5a413e34f441c3a7af806854dfb816",
       "version_major": 2,
       "version_minor": 0
      },
      "text/plain": [
       "Canvas(toolbar=Toolbar(toolitems=[('Home', 'Reset original view', 'home', 'home'), ('Back', 'Back to previous …"
      ]
     },
     "metadata": {},
     "output_type": "display_data"
    }
   ],
   "source": [
    "import matplotlib.pylab as plt\n",
    "_, (ax1, ax2) = plt.subplots(1, 2, figsize=(11,4))\n",
    "ax1.plot(L_fps_, slip[0,:], lw= 2, label = r'$x_{00} = 0.1L$');\n",
    "ax1.plot(L_fps_, slip[1,:], lw= 2, label = r'$x_{00} = 0.2L$');\n",
    "ax1.plot(L_fps_, slip[2,:], lw= 2, label = r'$x_{00} = 0.3L$');\n",
    "ax1.plot(L_fps_, slip[3,:], lw= 2, label = r'$x_{00} = 0.4L$');\n",
    "ax1.plot(L_fps_, slip[4,:], lw= 2, label = r'$x_{00} = 0.5L$');\n",
    "ax1.plot(L_fps_, slip[5,:], lw= 2, label = r'$x_{00} = 0.6L$');\n",
    "ax1.plot(L_fps_, slip[6,:], lw= 2, label = r'$x_{00} = 0.7L$');\n",
    "ax1.plot(L_fps_, slip[7,:], lw= 2, label = r'$x_{00} = 0.8L$');\n",
    "ax1.plot(L_fps_, slip[8,:], lw= 2, label = r'$x_{00} = 0.9L$');\n",
    "#ax1.plot(crack_positions, slip, color = 'red', lw= 2, label = r'$s(mm)}$');\n",
    "ax1.set_xlabel(r'$\\mathrm{Length\\,of\\,FPZ\\,(mm)}$'); ax1.set_ylabel(r'$s\\,(mm)$');\n",
    "ax1.set_title(r'Slip displacement at interlock at ultimate state')\n",
    "ax1.legend()\n",
    "ax2.plot(L_fps_, shear_stress[0,:], lw= 2, label = r'$x_{00} = 0.1L$');\n",
    "ax2.plot(L_fps_, shear_stress[1,:], lw= 2, label = r'$x_{00} = 0.2L$');\n",
    "ax2.plot(L_fps_, shear_stress[2,:], lw= 2, label = r'$x_{00} = 0.3L$');\n",
    "ax2.plot(L_fps_, shear_stress[3,:], lw= 2, label = r'$x_{00} = 0.4L$');\n",
    "ax2.plot(L_fps_, shear_stress[4,:], lw= 2, label = r'$x_{00} = 0.5L$');\n",
    "ax2.plot(L_fps_, shear_stress[5,:], lw= 2, label = r'$x_{00} = 0.6L$');\n",
    "ax2.plot(L_fps_, shear_stress[6,:], lw= 2, label = r'$x_{00} = 0.7L$');\n",
    "ax2.plot(L_fps_, shear_stress[7,:], lw= 2, label = r'$x_{00} = 0.8L$');\n",
    "ax2.plot(L_fps_, shear_stress[8,:], lw= 2, label = r'$x_{00} = 0.9L$');\n",
    "#ax1.plot(crack_positions, slip, color = 'red', lw= 2, label = r'$s(mm)}$');\n",
    "ax2.set_xlabel(r'$\\mathrm{Length\\,of\\,FPZ\\,(mm)}$'); ax2.set_ylabel(r'$\\tau\\,(MPa)$');\n",
    "ax2.set_title(r'shear stress distribution due to aggregate interlock')\n",
    "ax2.legend()\n",
    "plt.savefig(\"D:\\Shear zones\\Python plots\\slip_shear_agg_all_crack_points.pdf\")"
   ]
  },
  {
   "cell_type": "code",
   "execution_count": 40,
   "metadata": {},
   "outputs": [
    {
     "data": {
      "application/vnd.jupyter.widget-view+json": {
       "model_id": "ef292a53da89445f9f3b98286bfce45d",
       "version_major": 2,
       "version_minor": 0
      },
      "text/plain": [
       "Canvas(toolbar=Toolbar(toolitems=[('Home', 'Reset original view', 'home', 'home'), ('Back', 'Back to previous …"
      ]
     },
     "metadata": {},
     "output_type": "display_data"
    }
   ],
   "source": [
    "import matplotlib.pylab as plt\n",
    "_, (ax1) = plt.subplots(1, 1, figsize=(6,4))\n",
    "ax1.plot(crack_positions, F_s[:, 1], lw= 2, label = r'$F_s$');\n",
    "ax1.set_xlabel(r'$\\mathrm{Length\\,of\\,the\\,beam\\,(mm)}$'); ax1.set_ylabel(r'$F_{s}\\,(N)$');\n",
    "ax1.set_title(r'Maximum Horizontal Force Contribution at reinforcement')\n",
    "ax1.legend()\n",
    "plt.savefig(\"D:\\Shear zones\\Python plots\\F_s_length_beam.pdf\")"
   ]
  },
  {
   "cell_type": "code",
   "execution_count": 41,
   "metadata": {},
   "outputs": [],
   "source": [
    "# seg_num = 4\n",
    "# seg_ = np.linspace(40, 140, seg_num)\n",
    "# crack_positions_num = 9\n",
    "# crack_positions = np.linspace(ce.sz_bd.L  * 0.1, ce.sz_bd.L  * 0.9, crack_positions_num) \n",
    "# # F_max = []\n",
    "# F_max = np.zeros([seg_num, crack_positions_num])\n",
    "# F_Na = np.zeros([seg_num, crack_positions_num])\n",
    "# F_s = np.zeros([seg_num, crack_positions_num])\n",
    "# F_a = np.zeros([seg_num, crack_positions_num])\n",
    "# slip = np.zeros([seg_num, crack_positions_num])\n",
    "# steel_slip = np.zeros([seg_num, crack_positions_num])\n",
    "# shear_stress = np.zeros([seg_num, crack_positions_num])\n",
    "# w = np.zeros([seg_num, crack_positions_num])\n",
    "# w_steel = np.zeros([seg_num, crack_positions_num])\n",
    "# F_agg = np.zeros([seg_num, crack_positions_num])\n",
    "# for i in range(len(seg_)):\n",
    "#     ce = CrackPropagation(n_seg=seg_[i])\n",
    "#     for j in range(len(crack_positions)):\n",
    "#         ce.reset()\n",
    "#         ce.sz_cp.trait_set(x_00=crack_positions[i])\n",
    "#         print(crack_positions[i])\n",
    "#         ce.sz_cp.sz_ctr.trait_set(L_fps=80)\n",
    "#         #print(L_fps_[j])\n",
    "#         ce.run()\n",
    "#         F_beam = ce.F_beam\n",
    "#         F_max_ = np.max(F_beam)\n",
    "#         F_max_i_ = np.argmax(F_beam)\n",
    "#         F_max_i_int = np.array(F_max_i_)\n",
    "#         F_Na_ = ce.F_Na[F_max_i_int]\n",
    "#         F_s_ = ce.F_s[F_max_i_int]\n",
    "#         slip_ = ce.slip[F_max_i_int][0]\n",
    "#         w_ = ce.w[F_max_i_int][0]\n",
    "#         steel_slip_ = ce.s_steel[F_max_i_int]\n",
    "#         w_steel_ = ce.w_steel[F_max_i_int]\n",
    "#         shear_stress_ = ce.shear_agg[F_max_i_int][0]\n",
    "#         F_a_ = ce.F_a[F_max_i_int][1]\n",
    "#         F_agg_ = F_a_ - F_Na_\n",
    "#         F_max[i, j] = F_max_\n",
    "#         F_Na[i,j] = F_Na_\n",
    "#         F_s[i,j] = F_s_\n",
    "#         slip[i,j] = slip_\n",
    "#         w[i,j] = w_\n",
    "#         steel_slip[i,j] = steel_slip_\n",
    "#         w_steel[i,j] = w_steel_\n",
    "#         shear_stress[i,j] = shear_stress_\n",
    "#         F_a[i,j] = F_a_\n",
    "#         F_agg[i,j] = F_agg_\n",
    "        \n",
    "        \n",
    "# #         F_max_i.append(F_max_i_)\n",
    "#     #F_max_all = np.concatenate(F_max_1)\n",
    "# print('F_max =', F_max)\n",
    "# print('F_Na =', F_Na)\n",
    "# print('F_s =', F_s)\n",
    "# print('slip =', slip)\n",
    "# print('w =', w)\n",
    "# print('steel_slip =', steel_slip)\n",
    "# print('w_steel =', w_steel)\n",
    "# print('shear_stress =', shear_stress)\n",
    "# print('F_a =', F_a)\n",
    "#     #r.append(F_max)\n",
    "# #         F_Na.append(F_Na_)\n",
    "# #         F_s.append(F_s_)\n",
    "# #         F_a.append(F_a_)\n",
    "# #         F_agg.append(F_agg_)\n",
    "# #         #slip.append(slip_)\n",
    "# #         #w.append(w_)\n",
    "# #         steel_slip.append(steel_slip_)\n",
    "# #         w_steel.append(w_steel_)\n",
    "#         #shear_stress.append(shear_stress_)\n",
    "#     #print('slip =', slip)\n",
    "#     #print('w =', w)\n",
    "# #     print('steel_slip =', steel_slip)\n",
    "# #     print('L_fps =', L_fps_)\n",
    "# #     print('crack_position =', crack_positions)"
   ]
  },
  {
   "cell_type": "code",
   "execution_count": 42,
   "metadata": {},
   "outputs": [],
   "source": [
    "# import numpy as np\n",
    "# crack_positions = np.linspace(0.1 * ce.sz_bd.L, 0.9 * ce.sz_bd.L, 10)\n",
    "# F_max = []\n",
    "# F_max_i = []\n",
    "# slip = []\n",
    "# F_Na = []\n",
    "# shear_stress = []\n",
    "# for crack_position in crack_positions:\n",
    "#     ce.reset()\n",
    "#     ce.sz_cp.trait_set(x_00=crack_position)\n",
    "#     ce.run()\n",
    "#     F_beam = ce.F_beam\n",
    "#     F_max_ = np.max(F_beam)\n",
    "#     F_max_i_ = np.argmax(F_beam)\n",
    "#     F_max_i_int = np.array(F_max_i_)\n",
    "#     F_Na_ = ce.F_Na[F_max_i_int]\n",
    "#     slip_ = ce.slip[F_max_i_int][F_max_i_int]\n",
    "#     shear_stress_ = ce.shear_agg[F_max_i_int][F_max_i_int]\n",
    "#     F_max.append(F_max_)\n",
    "#     F_max_i.append(F_max_i_)\n",
    "#     slip.append(slip_)\n",
    "#     shear_stress.append(shear_stress_)\n",
    "#     F_Na.append(F_Na_)\n",
    "#     F_max_i.append(F_max_i_)\n",
    "# print('crack position =', crack_positions)\n",
    "# print('slip =', slip)\n",
    "# print('shear stress =', shear_stress)\n",
    "# print('F_Na =', F_Na)\n",
    "# print('F_max_i =', F_max_i)"
   ]
  },
  {
   "cell_type": "code",
   "execution_count": 43,
   "metadata": {
    "scrolled": false
   },
   "outputs": [],
   "source": [
    "# import matplotlib.pylab as plt\n",
    "# _, (ax1, ax2) = plt.subplots(1, 2, figsize=(11,4))\n",
    "# #ax1.plot(crack_positions, np.array(V_c) /1000, color = 'red', lw= 2);\n",
    "# ax1.plot(crack_positions, np.array(F_a) , color = 'blue', lw= 2, label = '$F_{agg}$'); #/1000\n",
    "# ax1.plot(crack_positions, F_Na, color = 'red', lw = 2, label = '$F_{dowel}$');\n",
    "# #ax1.plot(crack_positions, np.array(Q) , color = 'green', lw= 2); #/1000\n",
    "# ax1.plot(crack_positions, np.array(Q_red) , color = 'orange', lw= 2, label = '$F_{uncr}$'); #/1000\n",
    "# ax1.set_xlabel(r'$\\mathrm{Length\\,of\\,the\\,beam\\,(mm)}$'); ax1.set_ylabel(r'$F\\,(N)$');\n",
    "# ax1.set_title(r'Max Force Contribution')\n",
    "# ax1.legend()\n",
    "# ax2.plot(crack_positions, np.array(F_a) , color = 'blue', lw= 2, label = '$F_{agg}$');\n",
    "# ax2.plot(crack_positions, F_Na, color = 'red', lw = 2, label = '$F_{dowel}$');\n",
    "# ax2.set_xlabel(r'$\\mathrm{Length\\,of\\,the\\,beam\\,(mm)}$'); ax2.set_ylabel(r'$F\\,(N)$');\n",
    "# #plt.savefig(\"D:\\Shear zones\\Python plots\\Force_comparisons_updated.pdf\")"
   ]
  },
  {
   "cell_type": "code",
   "execution_count": null,
   "metadata": {},
   "outputs": [],
   "source": []
  },
  {
   "cell_type": "code",
   "execution_count": null,
   "metadata": {},
   "outputs": [],
   "source": [
    "# import matplotlib.pylab as plt\n",
    "# _, (ax1, ax2) = plt.subplots(1, 2, figsize=(11,4))\n",
    "# ax1.plot(c_p, F_La, color = 'red', lw= 2);\n",
    "# ax1.set_xlabel(r'$\\mathrm{Length\\,of\\,the\\,beam\\,(mm)}$'); ax1.set_ylabel(r'$F\\,(N)$');\n",
    "# ax1.set_title(r'Force contribution Aggregate Interlock')\n",
    "# ax2.plot(c_p , F_Na, color='blue', lw=2);\n",
    "# ax2.set_xlabel(r'$\\mathrm{Length\\,of\\,the\\,beam\\,(mm)}$'); ax2.set_ylabel(r'$F_{da}\\,(N)$');\n",
    "# ax2.set_title(r'Force contribution Dowel Action')\n",
    "# #plt.savefig(\"D:\\Shear zones\\Python plots\\Force_comparisons.pdf\")"
   ]
  },
  {
   "cell_type": "code",
   "execution_count": null,
   "metadata": {},
   "outputs": [],
   "source": [
    "# import numpy as np\n",
    "# F_a_ = np.array(ce.F_a)\n",
    "# D = ce.sz_bd.H - ce.sz_bd.cross_section_layout.reinforcement.z_j[0]\n",
    "# x_tip_1n = np.array(ce.x_tip_1n)\n",
    "# x_tip_0n = np.array(ce.x_tip_0n)\n",
    "# x_tip_1k = np.array(ce.x_tip_1k)\n",
    "# L = ce.sz_bd.L\n",
    "# A_s = ce.sz_bd.cross_section_layout.reinforcement.A_j[0] \n",
    "# E_s = ce.sz_bd.cross_section_layout.reinforcement.E_j[0]\n",
    "# v_n = np.array(ce.v_n)\n",
    "# V_c = []\n",
    "# # for x_tip_0n in range(len(v_n)):\n",
    "# #     if x_tip_0n == 0:\n",
    "# #         V_c = ((ce.crack_tip_shear_stress.Q) ) #\\\n",
    "# #                #/ (ce.sz_bd.B * D * np.sqrt(33.3) ))\n",
    "# #     elif x_tip_0n > 0:\n",
    "# V_c = (np.array(ce.F_beam[1:])) / (1 - (0.5 * (ce.sz_bd.H - x_tip_1n[1:])/ x_tip_0n[1:])) #\\ #ce.crack_tip_shear_stress.Q\n",
    "#                #/ (ce.sz_bd.B * D * np.sqrt(33.3) ))      \n",
    "# #V_c = ((ce.crack_tip_shear_stress.Q) / (1 - (0.5 * (ce.sz_bd.H - x_tip_1n[1:])/ x_tip_0n[1:])) / (ce.sz_bd.B * D * np.sqrt(33.3) ))\n",
    "# V_e = np.ones_like(v_n) * 114000\n",
    "# V_f = v_n * A_s * E_s * (D - x_tip_1k/3) / ((D - x_tip_1k) * (L - x_tip_0n))\n",
    "# #V_f\n",
    "# #v_n\n",
    "# #ce.Q\n",
    "# #V_c"
   ]
  },
  {
   "cell_type": "code",
   "execution_count": null,
   "metadata": {},
   "outputs": [],
   "source": [
    "# import matplotlib.pylab as plt\n",
    "# _, (ax1, ax2) = plt.subplots(1, 2, figsize=(11,4))\n",
    "# ax1.plot(ce.v_n[1:], V_c, color = 'red', lw= 2, label = 'V_c');\n",
    "# #ax1.plot(ce.v_n, ce.F_beam, color = 'blue', lw = 2);\n",
    "# ax1.plot(ce.v_n[1:], V_e[1:], '--' , color = 'orange', lw = 2, label = 'V_exp')\n",
    "# ax1.plot(ce.v_n[1:], V_f[1:], '--' , color = 'green', lw = 2, label = 'V_load')\n",
    "# ax1.set_xlabel('deflection')\n",
    "# ax1.set_ylabel('V')\n",
    "# ax1.legend()"
   ]
  },
  {
   "cell_type": "code",
   "execution_count": null,
   "metadata": {},
   "outputs": [],
   "source": [
    "# import matplotlib.pylab as plt\n",
    "# _, (ax1) = plt.subplots(1, 1, figsize=(7,4))\n",
    "# ax1.plot(c_p, F_m, color = 'red', lw= 2);\n",
    "# ax1.set_xlabel(r'$\\mathrm{Length\\,of\\,the\\,beam\\,(mm)}$'); ax1.set_ylabel(r'$F_{max}\\,(N)$');\n",
    "# ax1.set_title(r'Maximum Force Contribution along the length of the beam')\n",
    "# #plt.savefig(\"D:\\Shear zones\\Python plots\\Max_Force_contributions.pdf\")"
   ]
  },
  {
   "cell_type": "code",
   "execution_count": null,
   "metadata": {
    "scrolled": false
   },
   "outputs": [],
   "source": [
    "# import matplotlib.pylab as plt\n",
    "# _, (ax1) = plt.subplots(1, 1, figsize=(7,5))\n",
    "# x_00_L = c_p/ ce.sz_bd.L\n",
    "# ones = np.ones_like(c_p)\n",
    "# V_exp = 114000 * ones \n",
    "# ax1.plot(x_00_L, F_m, color = 'red', lw= 2, label = (r'$V_{max}$'));\n",
    "# ax1.plot(x_00_L, V_exp, color = 'black',linestyle='--', lw =2, label = (r'$V_{exp}$'));\n",
    "# ax1.set_xlabel(r'$\\mathrm{\\frac{x_{00}}{Length\\,of\\,the\\,beam\\,(mm)}}$'); ax1.set_ylabel(r'$F_{max}\\,(N)$');\n",
    "# ax1.set_title(r'Maximum Force Contribution along the length of the beam')\n",
    "# ax1.legend()\n",
    "# #plt.savefig(\"D:\\Shear zones\\Python plots\\Max_Force_contributions_with_V_exp.pdf\")"
   ]
  },
  {
   "cell_type": "code",
   "execution_count": null,
   "metadata": {},
   "outputs": [],
   "source": [
    "# import matplotlib.pylab as plt\n",
    "# _, (ax1) = plt.subplots(1, 1, figsize=(6,5))\n",
    "# ones = np.ones_like(c_p)\n",
    "# V_exp = 114000 * ones \n",
    "# #ax1.plot(c_p, F_m, color = 'red', lw= 2, label = (r'$V_{max}$'));\n",
    "# #ax1.plot(c_p, V_exp, color = 'black',linestyle='--', lw =2, label = (r'$V_{exp}$'));\n",
    "# ax1.plot(c_p, Q_reduce, color = 'blue', lw =2, label = (r'$V_{uncr}$'));\n",
    "# #ax1.plot(c_p, F_La, color = 'orange', lw = 2, label = (r'$V_{agg}$'));\n",
    "# #ax1.plot(c_p, F_Na, color = 'green', lw =2, label = (r'$V_{da}$'));\n",
    "# ax1.set_xlabel(r'$\\mathrm{Length\\,of\\,the\\,beam\\,(mm)}$'); ax1.set_ylabel(r'$F_{max}\\,(N)$');\n",
    "# ax1.set_title(r'Maximum Force Contribution along the length of the beam')\n",
    "# ax1.legend()\n",
    "# plt.savefig(\"D:\\Shear zones\\Python plots\\Q_reduce_contributions.pdf\")"
   ]
  },
  {
   "cell_type": "code",
   "execution_count": null,
   "metadata": {
    "scrolled": false
   },
   "outputs": [],
   "source": [
    "# ce.crack_tip_orientation.get_psi(), ce.M_n"
   ]
  },
  {
   "cell_type": "code",
   "execution_count": null,
   "metadata": {},
   "outputs": [],
   "source": [
    "# ce.crack_tip_shear_stress.Q_reduced, ce.sz_stress_profile.F_La[47,0], ce.sz_stress_profile.F_Na[0,0]\n",
    "# ce.crack_tip_shear_stress.tau_x_tip_1k *ce.sz_bd.B\n",
    "# ce.sz_stress_profile.F_a\n",
    "# ce.crack_tip_shear_stress.Q_reduced"
   ]
  },
  {
   "cell_type": "code",
   "execution_count": null,
   "metadata": {},
   "outputs": [],
   "source": [
    "# import numpy as np\n",
    "# ce.sz_stress_profile.u_La[47,:]"
   ]
  },
  {
   "cell_type": "code",
   "execution_count": null,
   "metadata": {},
   "outputs": [],
   "source": [
    "# (ce.sz_stress_profile.M / 1000) / ((ce.crack_tip_shear_stress.Q) *\\\n",
    "#                                    (ce.sz_bd.H - ce.sz_bd.cross_section_layout.reinforcement.z_j[0]))"
   ]
  },
  {
   "cell_type": "code",
   "execution_count": null,
   "metadata": {
    "scrolled": true
   },
   "outputs": [],
   "source": [
    "# #V_uncr = np.sum(ce.crack_tip_shear_stress.tau_z) * ce.sz_bd.B\n",
    "# print(V_uncr)\n",
    "# V_da = ce.sz_stress_profile.F_Na[:,1]\n",
    "# print(V_da)\n",
    "# V_ai = np.sum(ce.sz_stress_profile.F_La[:,1]) #* ce.sz_bd.B #- np.sum(ce.sz_bd.cmm.get_sigma_ag(ce.sz_stress_profile.u_Lb[...,0],ce.sz_stress_profile.u_Lb[...,1])) #* np.cos((ce.sz_cp._get_beta()))\n",
    "# print(V_ai)\n",
    "# V_res = np.max(ce.F_beam)\n",
    "# print(V_res)\n",
    "# V_uncr + V_da + V_ai + V_res"
   ]
  },
  {
   "cell_type": "code",
   "execution_count": null,
   "metadata": {},
   "outputs": [],
   "source": [
    "# np.sum(ce.sz_stress_profile.F_La[:,1])"
   ]
  },
  {
   "cell_type": "code",
   "execution_count": null,
   "metadata": {},
   "outputs": [],
   "source": [
    "# np.sum(ce.sz_stress_profile.S_La[:,1]) * ce.sz_bd.B"
   ]
  },
  {
   "cell_type": "code",
   "execution_count": null,
   "metadata": {
    "pycharm": {
     "name": "#%%\n"
    }
   },
   "outputs": [],
   "source": [
    "# import numpy as np\n",
    "# S_Lb = ce.sz_stress_profile.S_Lb\n",
    "# S_La = ce.sz_stress_profile.S_La\n",
    "# idx = np.argmax(S_Lb[...,0])"
   ]
  },
  {
   "cell_type": "code",
   "execution_count": null,
   "metadata": {
    "pycharm": {
     "name": "#%%\n"
    }
   },
   "outputs": [],
   "source": [
    "# S_Lb[idx,:], S_La[idx,:]"
   ]
  },
  {
   "cell_type": "code",
   "execution_count": null,
   "metadata": {
    "pycharm": {
     "name": "#%%\n"
    }
   },
   "outputs": [],
   "source": [
    "# ce.sz_cp.T_Mab[idx,...]"
   ]
  },
  {
   "cell_type": "code",
   "execution_count": null,
   "metadata": {
    "pycharm": {
     "name": "#%%\n"
    }
   },
   "outputs": [],
   "source": [
    "# np.einsum('i,i', S_Lb[idx,:], S_Lb[idx,:])"
   ]
  },
  {
   "cell_type": "code",
   "execution_count": null,
   "metadata": {
    "pycharm": {
     "name": "#%%\n"
    }
   },
   "outputs": [],
   "source": [
    "# np.einsum('i,i', S_La[idx,:], S_La[idx,:])"
   ]
  },
  {
   "cell_type": "markdown",
   "metadata": {},
   "source": [
    "Todo:\n",
    "\n",
    " - include the reinforcement material law - partially done \n",
    "   (but for strain-based material law) - replace with the crack bridge law\n",
    " - transformation of the crack bridging force to the global coordinates\n",
    " - include the dowel effect "
   ]
  },
  {
   "cell_type": "code",
   "execution_count": null,
   "metadata": {
    "pycharm": {
     "name": "#%%\n"
    }
   },
   "outputs": [],
   "source": [
    "#ce.sz_ctr._get_x_rot_ak()"
   ]
  },
  {
   "cell_type": "code",
   "execution_count": null,
   "metadata": {
    "pycharm": {
     "name": "#%%\n"
    }
   },
   "outputs": [],
   "source": [
    "# ce.sz_stress_profile.F_Na"
   ]
  },
  {
   "cell_type": "code",
   "execution_count": null,
   "metadata": {},
   "outputs": [],
   "source": [
    "# ce.sz_stress_profile.u_Na"
   ]
  },
  {
   "cell_type": "code",
   "execution_count": null,
   "metadata": {},
   "outputs": [],
   "source": [
    "# np.max(ce.sz_stress_profile.F_La)"
   ]
  },
  {
   "cell_type": "code",
   "execution_count": null,
   "metadata": {},
   "outputs": [],
   "source": [
    "# np.sum(ce.sz_stress_profile.F_La)"
   ]
  },
  {
   "cell_type": "code",
   "execution_count": null,
   "metadata": {},
   "outputs": [],
   "source": [
    "# np.max(ce.sz_stress_profile.F_La)"
   ]
  },
  {
   "cell_type": "code",
   "execution_count": null,
   "metadata": {},
   "outputs": [],
   "source": []
  }
 ],
 "metadata": {
  "kernelspec": {
   "display_name": "Python 3",
   "language": "python",
   "name": "python3"
  },
  "language_info": {
   "codemirror_mode": {
    "name": "ipython",
    "version": 3
   },
   "file_extension": ".py",
   "mimetype": "text/x-python",
   "name": "python",
   "nbconvert_exporter": "python",
   "pygments_lexer": "ipython3",
   "version": "3.9.1"
  },
  "toc": {
   "base_numbering": 1,
   "nav_menu": {},
   "number_sections": true,
   "sideBar": true,
   "skip_h1_title": false,
   "title_cell": "Table of Contents",
   "title_sidebar": "Contents",
   "toc_cell": false,
   "toc_position": {},
   "toc_section_display": true,
   "toc_window_display": false
  }
 },
 "nbformat": 4,
 "nbformat_minor": 1
}
