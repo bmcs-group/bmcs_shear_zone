{
 "cells": [
  {
   "cell_type": "markdown",
   "metadata": {
    "pycharm": {
     "name": "#%%\n"
    }
   },
   "source": [
    "# 2D Crack propagation in a bended beam"
   ]
  },
  {
   "cell_type": "markdown",
   "metadata": {},
   "source": [
    " - @todo: Plot the residual value\n",
    " - @todo: State dependencies - recalculate upon material parameter change"
   ]
  },
  {
   "cell_type": "markdown",
   "metadata": {},
   "source": [
    "\\begin{align}\n",
    "\\sigma_\\mathrm{F} = E w / L_\\mathrm{eff}\n",
    "\\end{align}"
   ]
  },
  {
   "cell_type": "code",
   "execution_count": 80,
   "metadata": {},
   "outputs": [
    {
     "data": {
      "text/plain": [
       "<bmcs_shear.shear_crack.beam_design.RCBeamDesign at 0x2626fb4e860>"
      ]
     },
     "execution_count": 80,
     "metadata": {},
     "output_type": "execute_result"
    }
   ],
   "source": [
    "%matplotlib widget\n",
    "import numpy as np\n",
    "import matplotlib.pylab as plt\n",
    "from bmcs_cross_section.api import ReinfLayer\n",
    "import bmcs_utils.api as bu\n",
    "from bmcs_shear.shear_crack.crack_propagation import CrackPropagation\n",
    "ce = CrackPropagation(n_seg=100)\n",
    "#ce.sz_bd.cmm.trait_set(tau_1 = 4, s_1 = 0.2, tau_2 = 3, tau_3 = 2, s_2 = 1.4, s_3 = 5)\n",
    "ce.sz_bd.cmm.trait_set(f_c = 32.9, f_t = 0.3 * 32.9 **(2/3), d_a = 16)\n",
    "ce.sz_bd.Rectangle = True\n",
    "ce.sz_bd.trait_set(H=600, B=250, L=3150)\n",
    "ce.sz_cp.trait_set(x_00=ce.sz_bd.L * 0.1, n_m = 4)\n",
    "ce.sz_cp.sz_ctr.L_fps = 80\n",
    "ce.sz_cp.sz_ctr.trait_set(ell = 2)\n",
    "ce.sz_bd.smm.trait_set(d_s = 28, n = 2)\n",
    "bl1 = ReinfLayer(name='layer1', z=44, A=ce.sz_bd.smm.A_f, matmod='steel')\n",
    "bl1.matmod_.trait_set(E=ce.sz_bd.smm.E_f, f_t=ce.sz_bd.smm.sig_y)\n",
    "ce.sz_bd.cross_section_layout.add_layer(bl1)\n",
    "ce.sz_bd\n",
    "#F_La, F_Na, F_m, Q_reduce, c_p = ce.analyze() \n",
    "#print(F_La, F_Na, c_p)"
   ]
  },
  {
   "cell_type": "code",
   "execution_count": 81,
   "metadata": {
    "pycharm": {
     "name": "#%%\n"
    },
    "scrolled": false
   },
   "outputs": [
    {
     "name": "stderr",
     "output_type": "stream",
     "text": [
      "<lambdifygenerated-332>:2: RuntimeWarning: invalid value encountered in sqrt\n",
      "  return (select([less_equal(w, 0),True], [0,0.25*f_c*s*(-sqrt(2)*sqrt(w/d_a) + 1)*((2.44 - 39.04/f_c)*abs(s/w)**3 + 9.8/f_c)/(w*(s**4*(2.44 - 39.04/f_c)/w**4 + 1))], default=nan))\n"
     ]
    },
    {
     "data": {
      "application/vnd.jupyter.widget-view+json": {
       "model_id": "6e5fbb91ba70425a9cbd440c7c112555",
       "version_major": 2,
       "version_minor": 0
      },
      "text/plain": [
       "VBox(children=(HBox(children=(VBox(children=(Tree(layout=Layout(align_items='stretch', border='solid 1px black…"
      ]
     },
     "metadata": {},
     "output_type": "display_data"
    },
    {
     "name": "stderr",
     "output_type": "stream",
     "text": [
      "<lambdifygenerated-332>:2: RuntimeWarning: invalid value encountered in sqrt\n",
      "  return (select([less_equal(w, 0),True], [0,0.25*f_c*s*(-sqrt(2)*sqrt(w/d_a) + 1)*((2.44 - 39.04/f_c)*abs(s/w)**3 + 9.8/f_c)/(w*(s**4*(2.44 - 39.04/f_c)/w**4 + 1))], default=nan))\n"
     ]
    }
   ],
   "source": [
    "# bu.InteractiveWindow([ce, ce.sz_bd, ce.sz_bd.cross_section_layout, \n",
    "#                       ce.sz_stress_profile, \n",
    "#                       ce.sz_bd.cmm, ce.sz_bd.smm, ce.sz_cp, ce.sz_cp.sz_ctr]).interact()\n",
    "ce.interact()"
   ]
  },
  {
   "cell_type": "code",
   "execution_count": 11,
   "metadata": {},
   "outputs": [
    {
     "data": {
      "text/plain": [
       "array([[1.15412003e+05, 2.99848142e+00]])"
      ]
     },
     "execution_count": 11,
     "metadata": {},
     "output_type": "execute_result"
    }
   ],
   "source": [
    "ce.sz_stress_profile.F_Na"
   ]
  },
  {
   "cell_type": "code",
   "execution_count": null,
   "metadata": {},
   "outputs": [],
   "source": [
    "import numpy as np\n",
    "crack_position = 0.1 * ce.sz_bd.L\n",
    "ce.reset()\n",
    "ce.sz_cp.trait_set(x_00=crack_position)\n",
    "ce.sz_cp.sz_ctr.L_fps = 80\n",
    "ce.run()\n",
    "F_beam = ce.F_beam\n",
    "F_max_ = np.max(F_beam)\n",
    "F_max_i_ = np.argmax(F_beam)\n",
    "F_max_i_int = np.array(F_max_i_)\n",
    "F_Na_ = ce.F_Na[F_max_i_int]\n",
    "F_s_ = np.array(ce.F_s)\n",
    "w = ce.w_steel[F_max_i_int]\n",
    "F_max_\n",
    "F_s_"
   ]
  },
  {
   "cell_type": "code",
   "execution_count": null,
   "metadata": {},
   "outputs": [],
   "source": [
    "ce.reset()\n",
    "ini_crck_point = ce.sz_cp.trait_set(x_00= 0.1 * ce.sz_bd.L)\n",
    "ce.run()\n",
    "H_s = []\n",
    "F_beam = ce.F_beam\n",
    "F_max_ = np.max(F_beam)\n",
    "F_max_i_ = np.argmax(F_beam)\n",
    "F_max_i_int = np.array(F_max_i_)\n",
    "x_tip_1k_ = ce.x_tip_1k[F_max_i_int]\n",
    "for i in range(len(F_beam)):\n",
    "    if ce.x_tip_1k[i] <= x_tip_1k_:\n",
    "        H_s_ = ce.sz_bd.H - ce.x_tip_1k[i]\n",
    "        #shear_agg = ce.shear_agg[i]\n",
    "        H_s.append(H_s_)\n",
    "    else:\n",
    "        break\n",
    "print(H_s)\n",
    "    #print(shear_agg)\n",
    "# H_s = []\n",
    "# F_beam = ce.F_beam\n",
    "# F_max_ = np.max(F_beam)\n",
    "# for i in range(len(F_beam)):\n",
    "#     if F_beam[i] == F_max_:\n",
    "#         H_s = ce.H_s\n",
    "#         #H_s.append(H_s)\n",
    "#     else:\n",
    "#         break\n",
    "#     print(H_s)"
   ]
  },
  {
   "cell_type": "code",
   "execution_count": null,
   "metadata": {},
   "outputs": [],
   "source": [
    "import matplotlib.pylab as plt\n",
    "_, (ax1) = plt.subplots(1, 1, figsize=(8,4))\n",
    "ax1.plot(H_s, F_s_ / 1000, color = 'blue', lw= 2, label = '$\\mathrm{F_{s}}$');\n",
    "ax1.set_xlabel(r'$\\mathrm{Height\\,of\\,crack\\,(mm)}$'); ax1.set_ylabel(r'$\\mathrm{F_s\\,(kN)}$');\n",
    "ax1.set_title(r'Force at steel reinforcement')\n",
    "ax1.legend()\n",
    "plt.savefig(\"D:\\Shear zones\\Python plots\\F_steel.pdf\")"
   ]
  },
  {
   "cell_type": "code",
   "execution_count": null,
   "metadata": {},
   "outputs": [],
   "source": [
    "#w, F_s_, F_max_"
   ]
  },
  {
   "cell_type": "code",
   "execution_count": null,
   "metadata": {},
   "outputs": [],
   "source": [
    "import numpy as np\n",
    "crack_position = 0.1 * ce.sz_bd.L\n",
    "ce.reset()\n",
    "ce.sz_cp.trait_set(x_00=crack_position)\n",
    "ce.sz_cp.sz_ctr.L_fps = 80\n",
    "ce.run()\n",
    "F_beam = ce.F_beam\n",
    "F_max_ = np.max(F_beam)\n",
    "F_max_i_ = np.argmax(F_beam)\n",
    "F_max_i_int = np.array(F_max_i_)\n",
    "F_Na_ = ce.F_Na[F_max_i_int]\n",
    "F_s_ = ce.F_s[F_max_i_int]\n",
    "slip_ = ce.slip[F_max_i_int]\n",
    "w_ = ce.w[F_max_i_int][0]\n",
    "steel_slip_ = ce.s_steel[F_max_i_int]\n",
    "w_steel_ = ce.w_steel[F_max_i_int]\n",
    "shear_stress_ = ce.shear_agg[F_max_i_int]\n",
    "F_a_ = ce.F_a[F_max_i_int][1]\n",
    "F_agg_ = F_a_ - F_Na_\n",
    "# shear_stress_, slip_"
   ]
  },
  {
   "cell_type": "code",
   "execution_count": null,
   "metadata": {},
   "outputs": [],
   "source": [
    "import matplotlib.pylab as plt\n",
    "_, (ax1) = plt.subplots(1, 1, figsize=(8,4))\n",
    "s = np.linspace(0,0.3,100)\n",
    "V_df = ce.sz_bd.smm.get_V_df(s)\n",
    "ax1.plot(s, V_df , color = 'blue', lw= 2, label = '$V_{da}$');\n",
    "ax1.set_xlabel(r'$slip\\,(mm)}$'); ax1.set_ylabel(r'$V (N)$');\n",
    "ax1.set_title(r'Dowel Force Contribution')\n",
    "ax1.legend()\n",
    "plt.savefig(\"D:\\Shear zones\\Python plots\\Dowel_force.pdf\")"
   ]
  },
  {
   "cell_type": "code",
   "execution_count": null,
   "metadata": {},
   "outputs": [],
   "source": [
    "# import numpy as np\n",
    "# ce.sz_stress_profile.u_La\n",
    "# idx = np.argmax(ce.F_beam)\n",
    "# #v_n = ce.v_n\n",
    "# #v_n[idx]\n",
    "# #ce.F_Na[idx]\n",
    "# idx"
   ]
  },
  {
   "cell_type": "code",
   "execution_count": null,
   "metadata": {},
   "outputs": [],
   "source": [
    "# ce.sz_stress_profile.u_Na"
   ]
  },
  {
   "cell_type": "code",
   "execution_count": null,
   "metadata": {},
   "outputs": [],
   "source": [
    "# ce.reset()\n",
    "# ini_crck_point = ce.sz_cp.trait_set(x_00= 0.1 * ce.sz_bd.L)\n",
    "# ce.run()\n",
    "# F_beam = ce.F_beam\n",
    "# F_max_ = np.max(F_beam)\n",
    "# for i in range(len(F_beam)):\n",
    "#     if F_beam[i] < F_max_:\n",
    "#         pass\n",
    "#     elif F_beam[i] == F_max_:\n",
    "#         slip = ce.slip[i]\n",
    "#         #H_s = ce.H_s\n",
    "#         shear_agg = ce.shear_agg[i]\n",
    "#         print('shear agg', shear_agg)\n",
    "#         print('slip', slip)\n",
    "#         #print(shear_agg)\n",
    "#         #print(H_s)"
   ]
  },
  {
   "cell_type": "code",
   "execution_count": null,
   "metadata": {},
   "outputs": [],
   "source": [
    "# ce.reset()\n",
    "# ini_crck_point = ce.sz_cp.trait_set(x_00= 0.9 * ce.sz_bd.L)\n",
    "# ce.run()\n",
    "# F_beam = ce.F_beam\n",
    "# F_max_ = np.max(F_beam)\n",
    "# F_max_idx = np.argmax(F_beam)\n",
    "# F_Na_ = ce.F_Na[F_max_idx]\n",
    "# s_s = ce.s_steel[:F_max_idx]\n",
    "# V_da = ce.F_Na[:F_max_idx]\n",
    "# slip = ce.slip\n",
    "# shear_agg = ce.shear_agg"
   ]
  },
  {
   "cell_type": "code",
   "execution_count": null,
   "metadata": {},
   "outputs": [],
   "source": [
    "# import matplotlib.pylab as plt\n",
    "# _, (ax1, ax2) = plt.subplots(1, 2, figsize=(11,4))\n",
    "# ax1.plot(s_s, V_da , color = 'blue', lw= 2, label = '$V_{da}$');\n",
    "# ax1.set_xlabel(r'$slip\\,(mm)}$'); ax1.set_ylabel(r'$V (N)$');\n",
    "# ax1.set_title(r'Dowel Force Contribution')\n",
    "# ax1.legend()\n",
    "# ax2.plot(slip, shear_agg , color = 'red', lw= 2, label = r'$\\tau_{agg}$');\n",
    "# ax2.set_xlabel(r'$slip\\,(mm)}$'); ax2.set_ylabel(r'$\\tau_{agg}$');\n",
    "# ax2.set_title(r'Aggregate Force Contribution at Ultimate state')\n",
    "# ax2.legend()\n",
    "# #plt.savefig(\"D:\\Shear zones\\Python plots\\dowel_agg_09.pdf\")"
   ]
  },
  {
   "cell_type": "code",
   "execution_count": null,
   "metadata": {},
   "outputs": [],
   "source": [
    "# import matplotlib.pylab as plt\n",
    "# _, (ax1, ax2) = plt.subplots(1, 2, figsize=(11,4))\n",
    "# ax1.plot(ce.sz_stress_profile.u_Lb[:,1], ce.sz_stress_profile.S_Lb[:,1] , color = 'blue', lw= 2, label = '$F_{agg}$');\n",
    "# ax2.plot(s_s, ce.sz_stress_profile.S_Lb[:,0] , color = 'blue', lw= 2, label = '$F_{agg}$');"
   ]
  },
  {
   "cell_type": "code",
   "execution_count": null,
   "metadata": {},
   "outputs": [],
   "source": [
    "# import numpy as np\n",
    "# np.max(ce.F_beam)# + ce.crack_tip_shear_stress.Q + ce.crack_tip_shear_stress.Q_reduced"
   ]
  },
  {
   "cell_type": "code",
   "execution_count": null,
   "metadata": {},
   "outputs": [],
   "source": [
    "#ce.sz_stress_profile.F_La"
   ]
  },
  {
   "cell_type": "code",
   "execution_count": null,
   "metadata": {},
   "outputs": [],
   "source": [
    "import numpy as np\n",
    "crack_position = 0.1 * ce.sz_bd.L\n",
    "ce.reset()\n",
    "ce.sz_cp.trait_set(x_00=crack_position)\n",
    "ce.sz_cp.sz_ctr.L_fps = 80\n",
    "ce.run()\n",
    "F_beam = ce.F_beam\n",
    "F_max_ = np.max(F_beam)\n",
    "F_max_i_ = np.argmax(F_beam)\n",
    "F_max_i_int = np.array(F_max_i_)\n",
    "F_Na_ = ce.F_Na[F_max_i_int]\n",
    "F_s_ = ce.F_s[F_max_i_int]\n",
    "M = ce.M\n",
    "slip_ = ce.slip[F_max_i_int]\n",
    "w_ = ce.w[F_max_i_int][0]\n",
    "steel_slip_ = ce.s_steel[F_max_i_int]\n",
    "w_steel_ = ce.w_steel\n",
    "shear_stress_ = ce.shear_agg[F_max_i_int]\n",
    "F_a_ = ce.F_a[F_max_i_int][1]\n",
    "F_agg_ = F_a_ - F_Na_\n",
    "#shear_stress_, slip_\n",
    "#M, w_steel_[F_max_i_int]"
   ]
  },
  {
   "cell_type": "code",
   "execution_count": null,
   "metadata": {},
   "outputs": [],
   "source": [
    "import matplotlib.pylab as plt\n",
    "E_s = 210000\n",
    "A_s = 2 * 3.14 * 28**2 / 4\n",
    "_, (ax1, ax2) = plt.subplots(1, 2, figsize=(11,4))\n",
    "ax1.plot(np.array(M[1:]) / (E_s * A_s), w_steel_[1:] , color = 'blue', lw= 2); #/1000#\n",
    "#ax1.plot(slip, , color = 'red', lw = 2, label = '$F_{dowel}$');\n",
    "ax1.set_xlabel(r'$\\frac{M}{E_s A_s}$'); ax1.set_ylabel(r'$w_{steel}\\,(mm)$');\n",
    "ax1.set_title(r'Bending moment crack opening relationship')\n",
    "ax1.legend()\n",
    "plt.savefig(\"D:\\Shear zones\\Python plots\\co.pdf\")"
   ]
  },
  {
   "cell_type": "code",
   "execution_count": null,
   "metadata": {},
   "outputs": [],
   "source": [
    "import numpy as np\n",
    "crack_positions = np.linspace(0.1 * ce.sz_bd.L, 0.9 * ce.sz_bd.L, 3)\n",
    "F_max = []\n",
    "F_a = []\n",
    "Q = []\n",
    "Q_red = []\n",
    "F_max_i = []\n",
    "F_Na = []\n",
    "F_s = []\n",
    "slip = []\n",
    "steel_slip = []\n",
    "shear_stress = []\n",
    "w = []\n",
    "w_steel = []\n",
    "V_c = []\n",
    "F_agg = []\n",
    "for crack_position in crack_positions:\n",
    "    ce.reset()\n",
    "    ce.sz_cp.trait_set(x_00=crack_position)\n",
    "    ce.sz_cp.sz_ctr.L_fps = 80\n",
    "    ce.run()\n",
    "    F_beam = ce.F_beam\n",
    "    F_max_ = np.max(F_beam)\n",
    "    F_max_i_ = np.argmax(F_beam)\n",
    "    F_max_i_int = np.array(F_max_i_)\n",
    "    F_Na_ = ce.F_Na[F_max_i_int]\n",
    "    F_s_ = ce.F_s[F_max_i_int]\n",
    "    slip_ = ce.slip[F_max_i_int][0]\n",
    "    w_ = ce.w[F_max_i_int][0]\n",
    "    steel_slip_ = ce.s_steel[F_max_i_int]\n",
    "    w_steel_ = ce.w_steel[F_max_i_int]\n",
    "    shear_stress_ = ce.shear_agg[F_max_i_int][0]\n",
    "    F_a_ = ce.F_a[F_max_i_int][1]\n",
    "    F_agg_ = F_a_ - F_Na_\n",
    "    Q_ = ce.Q[F_max_i_int]\n",
    "    Q_red_ =  ce.Q_red[F_max_i_int]\n",
    "    #V_c_ = Q_ + Q_red_ + F_a_\n",
    "    F_max.append(F_max_)\n",
    "    F_max_i.append(F_max_i_)\n",
    "    F_Na.append(F_Na_)\n",
    "    F_s.append(F_s_)\n",
    "    F_a.append(F_a_)\n",
    "    F_agg.append(F_agg_)\n",
    "    slip.append(slip_)\n",
    "    w.append(w_)\n",
    "    steel_slip.append(steel_slip_)\n",
    "    w_steel.append(w_steel_)\n",
    "    shear_stress.append(shear_stress_)\n",
    "    Q.append(Q_)\n",
    "    Q_red.append(Q_red_)\n",
    "    #V_c.append(V_c_)\n",
    "# print('F_max =', F_max)\n",
    "# print('F_max_i =', F_max_i)\n",
    "# print('F_Na =', F_Na)\n",
    "# print('F_s =', F_s)\n",
    "# #print(type(F_Na))\n",
    "# print('F_a = ', F_a)\n",
    "# print('Q =', Q)\n",
    "# print('Q_red =', Q_red)\n",
    "# # #print('V_c =', V_c)\n",
    "print('crack position =', crack_positions)\n",
    "print('F_max',  F_max)\n",
    "print('F_agg', F_agg)\n",
    "print('F_Na', F_Na)\n",
    "#print('slip =', slip)\n",
    "#print('shear stress =', shear_stress)\n",
    "#print('steel slip =', steel_slip)\n",
    "#print('F_agg =', F_agg)"
   ]
  },
  {
   "cell_type": "code",
   "execution_count": null,
   "metadata": {},
   "outputs": [],
   "source": [
    "#F_a"
   ]
  },
  {
   "cell_type": "code",
   "execution_count": null,
   "metadata": {},
   "outputs": [],
   "source": [
    "import matplotlib.pylab as plt\n",
    "_, (ax1, ax2) = plt.subplots(1, 2, figsize=(11,4))\n",
    "ax1.plot(crack_positions, F_agg , color = 'blue', lw= 2, label = r'$F_{agg}$'); #/1000#\n",
    "#ax1.plot(slip, , color = 'red', lw = 2, label = '$F_{dowel}$');\n",
    "ax1.set_xlabel(r'$\\mathrm{Initial\\,position\\,of\\,the\\,crack\\,(mm)}$'); ax1.set_ylabel(r'$F\\,(N)$');\n",
    "ax1.set_title(r'Force contribution due to aggregate interlock')\n",
    "ax1.legend()\n",
    "ax2.plot(crack_positions, F_max, color = 'blue', lw= 2, label = r'$F_{agg}$'); \n",
    "ax2.set_xlabel(r'$\\mathrm{Initial\\,position\\,of\\,the\\,crack\\,(mm)}$'); ax2.set_ylabel(r'$F\\,(N)$');\n",
    "ax2.set_title(r'Shear Capacity')\n",
    "ax2.legend()\n",
    "plt.savefig(\"D:\\Shear zones\\Python plots\\max_force_shear_force_agg_Lfps2.pdf\")"
   ]
  },
  {
   "cell_type": "code",
   "execution_count": null,
   "metadata": {},
   "outputs": [],
   "source": [
    "import matplotlib.pylab as plt\n",
    "_, (ax1, ax2) = plt.subplots(1, 2, figsize=(11,4))\n",
    "ax1.plot(crack_positions, shear_stress , color = 'blue', lw= 2, label = r'$\\tau_{agg}$'); #/1000#\n",
    "#ax1.plot(slip, , color = 'red', lw = 2, label = '$F_{dowel}$');\n",
    "ax1.set_xlabel(r'$\\mathrm{Initial\\,position\\,of\\,the\\,crack\\,(mm)}$'); ax1.set_ylabel(r'$\\tau\\,(MPa)$');\n",
    "ax1.set_title(r'Shear Stress due to Aggregate Interlock')\n",
    "ax1.legend()\n",
    "ax2.plot(crack_positions, slip , color = 'red', lw= 2, label = '$slip\\,(mm)$');\n",
    "ax2.set_xlabel(r'$\\mathrm{Initial\\,position\\,of\\,the\\,crack\\,(mm)}$'); ax2.set_ylabel(r'$slip\\,(mm)$');\n",
    "ax2.set_title(r'Slip due to Aggregate Interlock')\n",
    "ax2.legend()\n",
    "plt.savefig(\"D:\\Shear zones\\Python plots\\slip_shear_Lfps2.pdf\")"
   ]
  },
  {
   "cell_type": "code",
   "execution_count": null,
   "metadata": {},
   "outputs": [],
   "source": [
    "import matplotlib.pylab as plt\n",
    "_, (ax1, ax2) = plt.subplots(1, 2, figsize=(11,4))\n",
    "ax1.plot(crack_positions,  F_Na, color = 'blue', lw= 2, label = r'$F_{Na}$'); #/1000#\n",
    "ax1.set_xlabel(r'$\\mathrm{Initial\\,position\\,of\\,the\\,crack\\,(mm)}$'); ax1.set_ylabel(r'$F\\,(N)$');\n",
    "ax1.set_title(r'Dowel force due to Dowel Action')\n",
    "ax2.plot(crack_positions, steel_slip , color = 'red', lw= 2, label = '$slip\\,(mm)$');\n",
    "ax2.set_xlabel(r'$\\mathrm{Initial\\,position\\,of\\,the\\,crack\\,(mm)}$'); ax2.set_ylabel(r'$steel\\,slip\\,(mm)$');\n",
    "ax2.set_title(r'Slip due to dowel force')\n",
    "ax2.legend()\n",
    "plt.savefig(\"D:\\Shear zones\\Python plots\\dowel_slip_length_Lfps2.pdf\")"
   ]
  },
  {
   "cell_type": "code",
   "execution_count": null,
   "metadata": {},
   "outputs": [],
   "source": [
    "import matplotlib.pylab as plt\n",
    "_, (ax1, ax2) = plt.subplots(1, 2, figsize=(11,4))\n",
    "ax1.plot(crack_positions, w, color = 'blue', lw= 2, label = r'$w(mm)}$'); #/1000#\n",
    "ax1.set_xlabel(r'$\\mathrm{Length\\,of\\,the\\,beam\\,(mm)}$'); ax1.set_ylabel(r'$w\\,(mm)$');\n",
    "ax1.set_title(r'Crack opening at the ultimate state due to aggregate')\n",
    "ax1.legend()\n",
    "ax2.plot(crack_positions, w_steel , color = 'red', lw= 2, label = '$w\\,(mm)$');\n",
    "ax2.set_xlabel(r'$\\mathrm{Length\\,of\\,the\\,beam\\,(mm)}$'); ax2.set_ylabel(r'$w\\,(mm)$');\n",
    "ax2.set_title(r'Crack Opening at the ultimate state at longitudinal reinforcement')\n",
    "ax2.legend()\n",
    "plt.savefig(\"D:\\Shear zones\\Python plots\\w_steel_Lfps2.pdf\")"
   ]
  },
  {
   "cell_type": "code",
   "execution_count": null,
   "metadata": {},
   "outputs": [],
   "source": [
    "import matplotlib.pylab as plt\n",
    "_, (ax1, ax2) = plt.subplots(1, 2, figsize=(11,4))\n",
    "ax1.plot(crack_positions, np.array(F_max) / 1000, lw= 2, label = r'$\\mathrm{F_{max}}$'); #/1000#\n",
    "ax1.set_xlabel(r'$\\mathrm{Position\\,of\\,single\\,crack\\,(mm)}$'); ax1.set_ylabel(r'$F\\,(kN)$');\n",
    "ax1.set_title(r'Maximum capacity and force contributions')\n",
    "ax1.legend()\n",
    "ax2.plot(crack_positions, np.array(F_agg) / 1000, lw= 2, label = r'$\\mathrm{F_{agg}}$');\n",
    "ax2.plot(crack_positions, np.array(F_Na) / 1000, lw= 2, label = r'$\\mathrm{F_{Na}}$');\n",
    "ax2.legend()\n",
    "#ax2.plot(crack_positions, np.array(Q_red) / 1000, lw= 2, label = r'$\\mathrm{F_{uncr}}$');\n",
    "plt.savefig(\"D:\\Shear zones\\Python plots\\contributions_conference.pdf\")"
   ]
  },
  {
   "cell_type": "code",
   "execution_count": null,
   "metadata": {},
   "outputs": [],
   "source": [
    "import matplotlib.pylab as plt\n",
    "_, (ax1) = plt.subplots(1, 1, figsize=(11,4))\n",
    "ax1.plot(crack_positions, F_s, color = 'red', lw = 2, label = '$F_{s}$');\n",
    "ax1.set_xlabel(r'$initial\\,crack\\,position\\,(mm)$'); ax1.set_ylabel(r'$F_{steel}\\,(kN)$');\n",
    "ax1.legend()\n",
    "plt.savefig(\"D:\\Shear zones\\Python plots\\F_s.pdf\")"
   ]
  },
  {
   "cell_type": "code",
   "execution_count": null,
   "metadata": {},
   "outputs": [],
   "source": [
    "L_fps_ = np.linspace(2, 80, 10)\n",
    "crack_position = ce.sz_bd.L  * 0.5\n",
    "F_max = []\n",
    "F_max_i = []\n",
    "F_a = []\n",
    "F_Na = []\n",
    "F_s = []\n",
    "slip = []\n",
    "steel_slip = []\n",
    "shear_stress = []\n",
    "w = []\n",
    "w_steel = []\n",
    "F_agg = []\n",
    "for L_fps in L_fps_:\n",
    "    ce.reset()\n",
    "    ce.sz_cp.sz_ctr.trait_set(L_fps=L_fps)\n",
    "    ce.sz_cp.trait_set(x_00=crack_position)\n",
    "    ce.run()\n",
    "    F_beam = ce.F_beam\n",
    "    F_max_ = np.max(F_beam)\n",
    "    F_max_i_ = np.argmax(F_beam)\n",
    "    F_max_i_int = np.array(F_max_i_)\n",
    "    F_Na_ = ce.F_Na[F_max_i_int]\n",
    "    F_s_ = ce.F_s[F_max_i_int]\n",
    "    slip_ = ce.slip[F_max_i_int][0]\n",
    "    w_ = ce.w[F_max_i_int][0]\n",
    "    steel_slip_ = ce.s_steel[F_max_i_int]\n",
    "    w_steel_ = ce.w_steel[F_max_i_int]\n",
    "    shear_stress_ = ce.shear_agg[F_max_i_int][0]\n",
    "    F_a_ = ce.F_a[F_max_i_int][1]\n",
    "    F_agg_ = F_a_ - F_Na_\n",
    "#     F_beam = ce.F_beam\n",
    "#     F_max_ = np.max(F_beam)\n",
    "#     F_max_i_ = np.argmax(F_beam)\n",
    "#     F_max_i_int = np.array(F_max_i_)\n",
    "    F_max_i.append(F_max_i_)\n",
    "    F_max.append(F_max_)\n",
    "    F_Na.append(F_Na_)\n",
    "    F_s.append(F_s_)\n",
    "    F_a.append(F_a_)\n",
    "    F_agg.append(F_agg_)\n",
    "    slip.append(slip_)\n",
    "    w.append(w_)\n",
    "    steel_slip.append(steel_slip_)\n",
    "    w_steel.append(w_steel_)\n",
    "    shear_stress.append(shear_stress_)\n",
    "#print(F_max)\n",
    "#print(F_max_i)\n",
    "print('slip =', slip)\n",
    "print('w =', w)\n",
    "print('w_steel =', w_steel)\n",
    "print('steel_slip =', steel_slip)\n",
    "print('L_fps =', L_fps_)"
   ]
  },
  {
   "cell_type": "code",
   "execution_count": null,
   "metadata": {},
   "outputs": [],
   "source": [
    "import matplotlib.pylab as plt\n",
    "_, (ax1, ax2) = plt.subplots(1, 2, figsize=(11,4))\n",
    "ax1.plot(L_fps_, steel_slip, color = 'blue', lw= 2, label = r'$s_{s}(mm)}$');#/1000#\n",
    "#ax1.plot(crack_positions, slip, color = 'red', lw= 2, label = r'$s(mm)}$');\n",
    "ax1.set_xlabel(r'$\\mathrm{Length\\,of\\,FPZ\\,(mm)}$'); ax1.set_ylabel(r'$s\\,(mm)$');\n",
    "ax1.set_title(r'Slip at the steel reinforcement $x_{00}$= 0.5L')\n",
    "ax1.legend()\n",
    "ax2.plot(L_fps_, w_steel , color = 'red', lw= 2, label = '$w\\,(mm)$');\n",
    "ax2.set_xlabel('$\\mathrm{Length\\,of\\,FPZ\\,(mm)}$'); ax2.set_ylabel(r'$w\\,(mm)$');\n",
    "ax2.set_title(r'Crack Opening at the ultimate state at longitudinal reinforcement')\n",
    "ax2.legend()\n",
    "plt.savefig(\"D:\\Shear zones\\Python plots\\w_steel_Lfps_vary.pdf\")"
   ]
  },
  {
   "cell_type": "code",
   "execution_count": null,
   "metadata": {},
   "outputs": [],
   "source": [
    "import matplotlib.pylab as plt\n",
    "_, (ax1, ax2) = plt.subplots(1, 2, figsize=(11,4))\n",
    "ax1.plot(L_fps_,F_Na, color = 'blue', lw= 2);#/1000#\n",
    "#ax1.plot(crack_positions, slip, color = 'red', lw= 2, label = r'$s(mm)}$');\n",
    "ax1.set_xlabel(r'$\\mathrm{Length\\,of\\,FPZ\\,(mm)}$'); ax1.set_ylabel(r'$F_{da}\\,(Na)$');\n",
    "ax1.set_title(r'Dowel Force')\n",
    "ax1.legend()\n",
    "ax2.plot(L_fps_, F_a , color = 'red', lw= 2);\n",
    "ax2.set_xlabel('$\\mathrm{Length\\,of\\,FPZ\\,(mm)}$'); ax2.set_ylabel(r'$F_{ag}\\,(N)$');\n",
    "ax2.set_title(r'Aggregate Force')\n",
    "ax2.legend()\n",
    "plt.savefig(\"D:\\Shear zones\\Python plots\\F_Na_agg_vary.pdf\")"
   ]
  },
  {
   "cell_type": "code",
   "execution_count": null,
   "metadata": {},
   "outputs": [],
   "source": [
    "import matplotlib.pylab as plt\n",
    "_, (ax1, ax2) = plt.subplots(1, 2, figsize=(11,4))\n",
    "ax1.plot(L_fps_, slip, color = 'blue', lw= 2, label = r'$s(mm)}$');#/1000#\n",
    "#ax1.plot(crack_positions, slip, color = 'red', lw= 2, label = r'$s(mm)}$');\n",
    "ax1.set_xlabel(r'$\\mathrm{Length\\,of\\,FPZ\\,(mm)}$'); ax1.set_ylabel(r'$s\\,(mm)$');\n",
    "ax1.set_title(r'Slip at aggregate interlock')\n",
    "ax1.legend()\n",
    "ax2.plot(L_fps_, shear_stress , color = 'red', lw= 2, label = '$\\tau\\,(MPa)$');\n",
    "ax2.set_xlabel('$\\mathrm{Length\\,of\\,FPZ\\,(mm)}$'); ax2.set_ylabel(r'$\\tau_{ag}\\,(MPa)$');\n",
    "ax2.set_title(r'Shear stress due to aggregate interlock')\n",
    "ax2.legend()\n",
    "plt.savefig(\"D:\\Shear zones\\Python plots\\shear_slip_agg_vary.pdf\")"
   ]
  },
  {
   "cell_type": "code",
   "execution_count": null,
   "metadata": {},
   "outputs": [],
   "source": [
    "import matplotlib.pylab as plt\n",
    "_, (ax1, ax2) = plt.subplots(1, 2, figsize=(11,4))\n",
    "ax1.plot(L_fps_, F_max, color = 'blue', lw= 2, label = r'$F(N)}$');#/1000#\n",
    "#ax1.plot(crack_positions, slip, color = 'red', lw= 2, label = r'$s(mm)}$');\n",
    "ax1.set_xlabel(r'$\\mathrm{Length\\,of\\,FPZ\\,(mm)}$'); ax1.set_ylabel(r'$F_{max}\\,(N)$');\n",
    "ax1.set_title(r'Maximum Force Contribution')\n",
    "ax1.legend()\n",
    "ax2.plot(L_fps_, F_s , color = 'red', lw= 2, label = '$F_s\\,(mm)$');\n",
    "ax2.set_xlabel('$\\mathrm{Length\\,of\\,FPZ\\,(mm)}$'); ax2.set_ylabel(r'$F_{s}\\,(N)$');\n",
    "ax2.set_title(r'Horizontal Force component at steel')\n",
    "ax2.legend()\n",
    "plt.savefig(\"D:\\Shear zones\\Python plots\\F_max_F_steel_vary.pdf\")"
   ]
  },
  {
   "cell_type": "code",
   "execution_count": null,
   "metadata": {},
   "outputs": [],
   "source": [
    "L_fps_num = 4\n",
    "L_fps_ = np.linspace(2, 80, L_fps_num)\n",
    "crack_positions_num = 9\n",
    "crack_positions = np.linspace(ce.sz_bd.L  * 0.1, ce.sz_bd.L  * 0.9, crack_positions_num) \n",
    "# F_max = []\n",
    "F_max = np.zeros([crack_positions_num, L_fps_num])\n",
    "F_Na = np.zeros([crack_positions_num, L_fps_num])\n",
    "F_s = np.zeros([crack_positions_num, L_fps_num])\n",
    "F_a = np.zeros([crack_positions_num, L_fps_num])\n",
    "slip = np.zeros([crack_positions_num, L_fps_num])\n",
    "steel_slip = np.zeros([crack_positions_num, L_fps_num])\n",
    "shear_stress = np.zeros([crack_positions_num, L_fps_num])\n",
    "w = np.zeros([crack_positions_num, L_fps_num])\n",
    "w_steel = np.zeros([crack_positions_num, L_fps_num])\n",
    "F_agg = np.zeros([crack_positions_num, L_fps_num])\n",
    "for i in range(len(crack_positions)):\n",
    "    for j in range(len(L_fps_)):\n",
    "        ce.reset()\n",
    "        ce.sz_cp.trait_set(x_00=crack_positions[i])\n",
    "        print(crack_positions[i])\n",
    "        ce.sz_cp.sz_ctr.trait_set(L_fps=L_fps_[j])\n",
    "        #print(L_fps_[j])\n",
    "        ce.run()\n",
    "        F_beam = ce.F_beam\n",
    "        F_max_ = np.max(F_beam)\n",
    "        F_max_i_ = np.argmax(F_beam)\n",
    "        F_max_i_int = np.array(F_max_i_)\n",
    "        F_Na_ = ce.F_Na[F_max_i_int]\n",
    "        F_s_ = ce.F_s[F_max_i_int]\n",
    "        slip_ = ce.slip[F_max_i_int][0]\n",
    "        w_ = ce.w[F_max_i_int][0]\n",
    "        steel_slip_ = ce.s_steel[F_max_i_int]\n",
    "        w_steel_ = ce.w_steel[F_max_i_int]\n",
    "        shear_stress_ = ce.shear_agg[F_max_i_int][0]\n",
    "        F_a_ = ce.F_a[F_max_i_int][1]\n",
    "        F_agg_ = F_a_ - F_Na_\n",
    "        F_max[i, j] = F_max_\n",
    "        F_Na[i,j] = F_Na_\n",
    "        F_s[i,j] = F_s_\n",
    "        slip[i,j] = slip_\n",
    "        w[i,j] = w_\n",
    "        steel_slip[i,j] = steel_slip_\n",
    "        w_steel[i,j] = w_steel_\n",
    "        shear_stress[i,j] = shear_stress_\n",
    "        F_a[i,j] = F_a_\n",
    "        F_agg[i,j] = F_agg_\n",
    "        \n",
    "        \n",
    "#         F_max_i.append(F_max_i_)\n",
    "    #F_max_all = np.concatenate(F_max_1)\n",
    "print('F_max =', F_max)\n",
    "print('F_Na =', F_Na)\n",
    "print('F_s =', F_s)\n",
    "print('slip =', slip)\n",
    "print('w =', w)\n",
    "print('steel_slip =', steel_slip)\n",
    "print('w_steel =', w_steel)\n",
    "print('shear_stress =', shear_stress)\n",
    "print('F_a =', F_a)\n",
    "    #r.append(F_max)\n",
    "#         F_Na.append(F_Na_)\n",
    "#         F_s.append(F_s_)\n",
    "#         F_a.append(F_a_)\n",
    "#         F_agg.append(F_agg_)\n",
    "#         #slip.append(slip_)\n",
    "#         #w.append(w_)\n",
    "#         steel_slip.append(steel_slip_)\n",
    "#         w_steel.append(w_steel_)\n",
    "        #shear_stress.append(shear_stress_)\n",
    "    #print('slip =', slip)\n",
    "    #print('w =', w)\n",
    "#     print('steel_slip =', steel_slip)\n",
    "#     print('L_fps =', L_fps_)\n",
    "#     print('crack_position =', crack_positions)"
   ]
  },
  {
   "cell_type": "code",
   "execution_count": null,
   "metadata": {},
   "outputs": [],
   "source": [
    "import matplotlib.pylab as plt\n",
    "_, (ax1, ax2) = plt.subplots(1, 2, figsize=(11,4))\n",
    "ax1.plot(L_fps_, F_max[0,:], lw= 2, label = r'$x_{00} = 0.1L$');\n",
    "ax1.plot(L_fps_, F_max[1,:], lw= 2, label = r'$x_{00} = 0.2L$');\n",
    "ax1.plot(L_fps_, F_max[2,:], lw= 2, label = r'$x_{00} = 0.3L$');\n",
    "ax1.plot(L_fps_, F_max[3,:], lw= 2, label = r'$x_{00} = 0.4L$');\n",
    "ax1.plot(L_fps_, F_max[4,:], lw= 2, label = r'$x_{00} = 0.5L$');\n",
    "ax1.plot(L_fps_, F_max[5,:], lw= 2, label = r'$x_{00} = 0.6L$');\n",
    "ax1.plot(L_fps_, F_max[6,:], lw= 2, label = r'$x_{00} = 0.7L$');\n",
    "ax1.plot(L_fps_, F_max[7,:], lw= 2, label = r'$x_{00} = 0.8L$');\n",
    "ax1.plot(L_fps_, F_max[8,:], lw= 2, label = r'$x_{00} = 0.9L$');\n",
    "#ax1.plot(crack_positions, slip, color = 'red', lw= 2, label = r'$s(mm)}$');\n",
    "ax1.set_xlabel(r'$\\mathrm{Length\\,of\\,FPZ\\,(mm)}$'); ax1.set_ylabel(r'$F_{max}\\,(N)$');\n",
    "ax1.set_title(r'Maximum Force Contribution')\n",
    "ax1.legend()\n",
    "ax2.plot(L_fps_, F_Na[0,:], lw= 2, label = r'$x_{00} = 0.1L$');\n",
    "ax2.plot(L_fps_, F_Na[1,:], lw= 2, label = r'$x_{00} = 0.2L$');\n",
    "ax2.plot(L_fps_, F_Na[2,:], lw= 2, label = r'$x_{00} = 0.3L$');\n",
    "ax2.plot(L_fps_, F_Na[3,:], lw= 2, label = r'$x_{00} = 0.4L$');\n",
    "ax2.plot(L_fps_, F_Na[4,:], lw= 2, label = r'$x_{00} = 0.5L$');\n",
    "ax2.plot(L_fps_, F_Na[5,:], lw= 2, label = r'$x_{00} = 0.6L$');\n",
    "ax2.plot(L_fps_, F_Na[6,:], lw= 2, label = r'$x_{00} = 0.7L$');\n",
    "ax2.plot(L_fps_, F_Na[7,:], lw= 2, label = r'$x_{00} = 0.8L$');\n",
    "ax2.plot(L_fps_, F_Na[8,:], lw= 2, label = r'$x_{00} = 0.9L$');\n",
    "ax2.set_xlabel(r'$\\mathrm{Length\\,of\\,FPZ\\,(mm)}$'); ax2.set_ylabel(r'$F_{Na}\\,(N)$');\n",
    "ax2.set_title(r'Maximum Dowel Force Contribution')\n",
    "ax2.legend()\n",
    "plt.savefig(\"D:\\Shear zones\\Python plots\\F_max_F_steel_all_crack_points.pdf\")"
   ]
  },
  {
   "cell_type": "code",
   "execution_count": null,
   "metadata": {},
   "outputs": [],
   "source": [
    "import matplotlib.pylab as plt\n",
    "_, (ax1, ax2) = plt.subplots(1, 2, figsize=(11,4))\n",
    "ax1.plot(L_fps_, F_s[0,:], lw= 2, label = r'$x_{00} = 0.1L$');\n",
    "ax1.plot(L_fps_, F_s[1,:], lw= 2, label = r'$x_{00} = 0.2L$');\n",
    "ax1.plot(L_fps_, F_s[2,:], lw= 2, label = r'$x_{00} = 0.3L$');\n",
    "ax1.plot(L_fps_, F_s[3,:], lw= 2, label = r'$x_{00} = 0.4L$');\n",
    "ax1.plot(L_fps_, F_s[4,:], lw= 2, label = r'$x_{00} = 0.5L$');\n",
    "ax1.plot(L_fps_, F_s[5,:], lw= 2, label = r'$x_{00} = 0.6L$');\n",
    "ax1.plot(L_fps_, F_s[6,:], lw= 2, label = r'$x_{00} = 0.7L$');\n",
    "ax1.plot(L_fps_, F_s[7,:], lw= 2, label = r'$x_{00} = 0.8L$');\n",
    "ax1.plot(L_fps_, F_s[8,:], lw= 2, label = r'$x_{00} = 0.9L$');\n",
    "#ax1.plot(crack_positions, slip, color = 'red', lw= 2, label = r'$s(mm)}$');\n",
    "ax1.set_xlabel(r'$\\mathrm{Length\\,of\\,FPZ\\,(mm)}$'); ax1.set_ylabel(r'$F_{s}\\,(N)$');\n",
    "ax1.set_title(r'Maximum Horizontal Force Contribution at reinforcement')\n",
    "ax1.legend()\n",
    "ax2.plot(L_fps_, F_a[0,:], lw= 2, label = r'$x_{00} = 0.1L$');\n",
    "ax2.plot(L_fps_, F_a[1,:], lw= 2, label = r'$x_{00} = 0.2L$');\n",
    "ax2.plot(L_fps_, F_a[2,:], lw= 2, label = r'$x_{00} = 0.3L$');\n",
    "ax2.plot(L_fps_, F_a[3,:], lw= 2, label = r'$x_{00} = 0.4L$');\n",
    "ax2.plot(L_fps_, F_a[4,:], lw= 2, label = r'$x_{00} = 0.5L$');\n",
    "ax2.plot(L_fps_, F_a[5,:], lw= 2, label = r'$x_{00} = 0.6L$');\n",
    "ax2.plot(L_fps_, F_a[6,:], lw= 2, label = r'$x_{00} = 0.7L$');\n",
    "ax2.plot(L_fps_, F_a[7,:], lw= 2, label = r'$x_{00} = 0.8L$');\n",
    "ax2.plot(L_fps_, F_a[8,:], lw= 2, label = r'$x_{00} = 0.9L$');\n",
    "#ax1.plot(crack_positions, slip, color = 'red', lw= 2, label = r'$s(mm)}$');\n",
    "ax2.set_xlabel(r'$\\mathrm{Length\\,of\\,FPZ\\,(mm)}$'); ax2.set_ylabel(r'$F_{ag}\\,(N)$');\n",
    "ax2.set_title(r'Maximum Aggregate Force Contribution at Ultimate state')\n",
    "ax2.legend()\n",
    "plt.savefig(\"D:\\Shear zones\\Python plots\\F_a_F_steel_h_all_crack_points.pdf\")"
   ]
  },
  {
   "cell_type": "code",
   "execution_count": null,
   "metadata": {},
   "outputs": [],
   "source": [
    "import matplotlib.pylab as plt\n",
    "_, (ax1, ax2) = plt.subplots(1, 2, figsize=(11,4))\n",
    "ax1.plot(L_fps_, steel_slip[0,:], lw= 2, label = r'$x_{00} = 0.1L$');\n",
    "ax1.plot(L_fps_, steel_slip[1,:], lw= 2, label = r'$x_{00} = 0.2L$');\n",
    "ax1.plot(L_fps_, steel_slip[2,:], lw= 2, label = r'$x_{00} = 0.3L$');\n",
    "ax1.plot(L_fps_, steel_slip[3,:], lw= 2, label = r'$x_{00} = 0.4L$');\n",
    "ax1.plot(L_fps_, steel_slip[4,:], lw= 2, label = r'$x_{00} = 0.5L$');\n",
    "ax1.plot(L_fps_, steel_slip[5,:], lw= 2, label = r'$x_{00} = 0.6L$');\n",
    "ax1.plot(L_fps_, steel_slip[6,:], lw= 2, label = r'$x_{00} = 0.7L$');\n",
    "ax1.plot(L_fps_, steel_slip[7,:], lw= 2, label = r'$x_{00} = 0.8L$');\n",
    "ax1.plot(L_fps_, steel_slip[8,:], lw= 2, label = r'$x_{00} = 0.9L$');\n",
    "#ax1.plot(crack_positions, slip, color = 'red', lw= 2, label = r'$s(mm)}$');\n",
    "ax1.set_xlabel(r'$\\mathrm{Length\\,of\\,FPZ\\,(mm)}$'); ax1.set_ylabel(r'$s\\,(mm)$');\n",
    "ax1.set_title(r'Slip displacement at steel reinforcement')\n",
    "ax1.legend()\n",
    "ax2.plot(L_fps_, w_steel[0,:], lw= 2, label = r'$x_{00} = 0.1L$');\n",
    "ax2.plot(L_fps_, w_steel[1,:], lw= 2, label = r'$x_{00} = 0.2L$');\n",
    "ax2.plot(L_fps_, w_steel[2,:], lw= 2, label = r'$x_{00} = 0.3L$');\n",
    "ax2.plot(L_fps_, w_steel[3,:], lw= 2, label = r'$x_{00} = 0.4L$');\n",
    "ax2.plot(L_fps_, w_steel[4,:], lw= 2, label = r'$x_{00} = 0.5L$');\n",
    "ax2.plot(L_fps_, w_steel[5,:], lw= 2, label = r'$x_{00} = 0.6L$');\n",
    "ax2.plot(L_fps_, w_steel[6,:], lw= 2, label = r'$x_{00} = 0.7L$');\n",
    "ax2.plot(L_fps_, w_steel[7,:], lw= 2, label = r'$x_{00} = 0.8L$');\n",
    "ax2.plot(L_fps_, w_steel[8,:], lw= 2, label = r'$x_{00} = 0.9L$');\n",
    "#ax1.plot(crack_positions, slip, color = 'red', lw= 2, label = r'$s(mm)}$');\n",
    "ax2.set_xlabel(r'$\\mathrm{Length\\,of\\,FPZ\\,(mm)}$'); ax2.set_ylabel(r'$w\\,(mm)$');\n",
    "ax2.set_title(r'Longitudinal crack opening at steel reinforcement')\n",
    "ax2.legend()\n",
    "plt.savefig(\"D:\\Shear zones\\Python plots\\crack_position_l_2_newcrack_position_l_2_new.pdf\")"
   ]
  },
  {
   "cell_type": "code",
   "execution_count": null,
   "metadata": {},
   "outputs": [],
   "source": [
    "import matplotlib.pylab as plt\n",
    "_, (ax1, ax2) = plt.subplots(1, 2, figsize=(11,4))\n",
    "ax1.plot(L_fps_, slip[0,:], lw= 2, label = r'$x_{00} = 0.1L$');\n",
    "ax1.plot(L_fps_, slip[1,:], lw= 2, label = r'$x_{00} = 0.2L$');\n",
    "ax1.plot(L_fps_, slip[2,:], lw= 2, label = r'$x_{00} = 0.3L$');\n",
    "ax1.plot(L_fps_, slip[3,:], lw= 2, label = r'$x_{00} = 0.4L$');\n",
    "ax1.plot(L_fps_, slip[4,:], lw= 2, label = r'$x_{00} = 0.5L$');\n",
    "ax1.plot(L_fps_, slip[5,:], lw= 2, label = r'$x_{00} = 0.6L$');\n",
    "ax1.plot(L_fps_, slip[6,:], lw= 2, label = r'$x_{00} = 0.7L$');\n",
    "ax1.plot(L_fps_, slip[7,:], lw= 2, label = r'$x_{00} = 0.8L$');\n",
    "ax1.plot(L_fps_, slip[8,:], lw= 2, label = r'$x_{00} = 0.9L$');\n",
    "#ax1.plot(crack_positions, slip, color = 'red', lw= 2, label = r'$s(mm)}$');\n",
    "ax1.set_xlabel(r'$\\mathrm{Length\\,of\\,FPZ\\,(mm)}$'); ax1.set_ylabel(r'$s\\,(mm)$');\n",
    "ax1.set_title(r'Slip displacement at interlock at ultimate state')\n",
    "ax1.legend()\n",
    "ax2.plot(L_fps_, shear_stress[0,:], lw= 2, label = r'$x_{00} = 0.1L$');\n",
    "ax2.plot(L_fps_, shear_stress[1,:], lw= 2, label = r'$x_{00} = 0.2L$');\n",
    "ax2.plot(L_fps_, shear_stress[2,:], lw= 2, label = r'$x_{00} = 0.3L$');\n",
    "ax2.plot(L_fps_, shear_stress[3,:], lw= 2, label = r'$x_{00} = 0.4L$');\n",
    "ax2.plot(L_fps_, shear_stress[4,:], lw= 2, label = r'$x_{00} = 0.5L$');\n",
    "ax2.plot(L_fps_, shear_stress[5,:], lw= 2, label = r'$x_{00} = 0.6L$');\n",
    "ax2.plot(L_fps_, shear_stress[6,:], lw= 2, label = r'$x_{00} = 0.7L$');\n",
    "ax2.plot(L_fps_, shear_stress[7,:], lw= 2, label = r'$x_{00} = 0.8L$');\n",
    "ax2.plot(L_fps_, shear_stress[8,:], lw= 2, label = r'$x_{00} = 0.9L$');\n",
    "#ax1.plot(crack_positions, slip, color = 'red', lw= 2, label = r'$s(mm)}$');\n",
    "ax2.set_xlabel(r'$\\mathrm{Length\\,of\\,FPZ\\,(mm)}$'); ax2.set_ylabel(r'$\\tau\\,(MPa)$');\n",
    "ax2.set_title(r'shear stress distribution due to aggregate interlock')\n",
    "ax2.legend()\n",
    "plt.savefig(\"D:\\Shear zones\\Python plots\\slip_shear_agg_all_crack_points.pdf\")"
   ]
  },
  {
   "cell_type": "code",
   "execution_count": null,
   "metadata": {},
   "outputs": [],
   "source": [
    "import matplotlib.pylab as plt\n",
    "_, (ax1) = plt.subplots(1, 1, figsize=(6,4))\n",
    "ax1.plot(crack_positions, F_s[:, 1], lw= 2, label = r'$F_s$');\n",
    "ax1.set_xlabel(r'$\\mathrm{Length\\,of\\,the\\,beam\\,(mm)}$'); ax1.set_ylabel(r'$F_{s}\\,(N)$');\n",
    "ax1.set_title(r'Maximum Horizontal Force Contribution at reinforcement')\n",
    "ax1.legend()\n",
    "plt.savefig(\"D:\\Shear zones\\Python plots\\F_s_length_beam.pdf\")"
   ]
  },
  {
   "cell_type": "code",
   "execution_count": null,
   "metadata": {},
   "outputs": [],
   "source": [
    "# seg_num = 4\n",
    "# seg_ = np.linspace(40, 140, seg_num)\n",
    "# crack_positions_num = 9\n",
    "# crack_positions = np.linspace(ce.sz_bd.L  * 0.1, ce.sz_bd.L  * 0.9, crack_positions_num) \n",
    "# # F_max = []\n",
    "# F_max = np.zeros([seg_num, crack_positions_num])\n",
    "# F_Na = np.zeros([seg_num, crack_positions_num])\n",
    "# F_s = np.zeros([seg_num, crack_positions_num])\n",
    "# F_a = np.zeros([seg_num, crack_positions_num])\n",
    "# slip = np.zeros([seg_num, crack_positions_num])\n",
    "# steel_slip = np.zeros([seg_num, crack_positions_num])\n",
    "# shear_stress = np.zeros([seg_num, crack_positions_num])\n",
    "# w = np.zeros([seg_num, crack_positions_num])\n",
    "# w_steel = np.zeros([seg_num, crack_positions_num])\n",
    "# F_agg = np.zeros([seg_num, crack_positions_num])\n",
    "# for i in range(len(seg_)):\n",
    "#     ce = CrackPropagation(n_seg=seg_[i])\n",
    "#     for j in range(len(crack_positions)):\n",
    "#         ce.reset()\n",
    "#         ce.sz_cp.trait_set(x_00=crack_positions[i])\n",
    "#         print(crack_positions[i])\n",
    "#         ce.sz_cp.sz_ctr.trait_set(L_fps=80)\n",
    "#         #print(L_fps_[j])\n",
    "#         ce.run()\n",
    "#         F_beam = ce.F_beam\n",
    "#         F_max_ = np.max(F_beam)\n",
    "#         F_max_i_ = np.argmax(F_beam)\n",
    "#         F_max_i_int = np.array(F_max_i_)\n",
    "#         F_Na_ = ce.F_Na[F_max_i_int]\n",
    "#         F_s_ = ce.F_s[F_max_i_int]\n",
    "#         slip_ = ce.slip[F_max_i_int][0]\n",
    "#         w_ = ce.w[F_max_i_int][0]\n",
    "#         steel_slip_ = ce.s_steel[F_max_i_int]\n",
    "#         w_steel_ = ce.w_steel[F_max_i_int]\n",
    "#         shear_stress_ = ce.shear_agg[F_max_i_int][0]\n",
    "#         F_a_ = ce.F_a[F_max_i_int][1]\n",
    "#         F_agg_ = F_a_ - F_Na_\n",
    "#         F_max[i, j] = F_max_\n",
    "#         F_Na[i,j] = F_Na_\n",
    "#         F_s[i,j] = F_s_\n",
    "#         slip[i,j] = slip_\n",
    "#         w[i,j] = w_\n",
    "#         steel_slip[i,j] = steel_slip_\n",
    "#         w_steel[i,j] = w_steel_\n",
    "#         shear_stress[i,j] = shear_stress_\n",
    "#         F_a[i,j] = F_a_\n",
    "#         F_agg[i,j] = F_agg_\n",
    "        \n",
    "        \n",
    "# #         F_max_i.append(F_max_i_)\n",
    "#     #F_max_all = np.concatenate(F_max_1)\n",
    "# print('F_max =', F_max)\n",
    "# print('F_Na =', F_Na)\n",
    "# print('F_s =', F_s)\n",
    "# print('slip =', slip)\n",
    "# print('w =', w)\n",
    "# print('steel_slip =', steel_slip)\n",
    "# print('w_steel =', w_steel)\n",
    "# print('shear_stress =', shear_stress)\n",
    "# print('F_a =', F_a)\n",
    "#     #r.append(F_max)\n",
    "# #         F_Na.append(F_Na_)\n",
    "# #         F_s.append(F_s_)\n",
    "# #         F_a.append(F_a_)\n",
    "# #         F_agg.append(F_agg_)\n",
    "# #         #slip.append(slip_)\n",
    "# #         #w.append(w_)\n",
    "# #         steel_slip.append(steel_slip_)\n",
    "# #         w_steel.append(w_steel_)\n",
    "#         #shear_stress.append(shear_stress_)\n",
    "#     #print('slip =', slip)\n",
    "#     #print('w =', w)\n",
    "# #     print('steel_slip =', steel_slip)\n",
    "# #     print('L_fps =', L_fps_)\n",
    "# #     print('crack_position =', crack_positions)"
   ]
  },
  {
   "cell_type": "code",
   "execution_count": null,
   "metadata": {},
   "outputs": [],
   "source": [
    "# import numpy as np\n",
    "# crack_positions = np.linspace(0.1 * ce.sz_bd.L, 0.9 * ce.sz_bd.L, 10)\n",
    "# F_max = []\n",
    "# F_max_i = []\n",
    "# slip = []\n",
    "# F_Na = []\n",
    "# shear_stress = []\n",
    "# for crack_position in crack_positions:\n",
    "#     ce.reset()\n",
    "#     ce.sz_cp.trait_set(x_00=crack_position)\n",
    "#     ce.run()\n",
    "#     F_beam = ce.F_beam\n",
    "#     F_max_ = np.max(F_beam)\n",
    "#     F_max_i_ = np.argmax(F_beam)\n",
    "#     F_max_i_int = np.array(F_max_i_)\n",
    "#     F_Na_ = ce.F_Na[F_max_i_int]\n",
    "#     slip_ = ce.slip[F_max_i_int][F_max_i_int]\n",
    "#     shear_stress_ = ce.shear_agg[F_max_i_int][F_max_i_int]\n",
    "#     F_max.append(F_max_)\n",
    "#     F_max_i.append(F_max_i_)\n",
    "#     slip.append(slip_)\n",
    "#     shear_stress.append(shear_stress_)\n",
    "#     F_Na.append(F_Na_)\n",
    "#     F_max_i.append(F_max_i_)\n",
    "# print('crack position =', crack_positions)\n",
    "# print('slip =', slip)\n",
    "# print('shear stress =', shear_stress)\n",
    "# print('F_Na =', F_Na)\n",
    "# print('F_max_i =', F_max_i)"
   ]
  },
  {
   "cell_type": "code",
   "execution_count": null,
   "metadata": {},
   "outputs": [],
   "source": [
    "# import matplotlib.pylab as plt\n",
    "# _, (ax1, ax2) = plt.subplots(1, 2, figsize=(11,4))\n",
    "# #ax1.plot(crack_positions, np.array(V_c) /1000, color = 'red', lw= 2);\n",
    "# ax1.plot(crack_positions, np.array(F_a) , color = 'blue', lw= 2, label = '$F_{agg}$'); #/1000\n",
    "# ax1.plot(crack_positions, F_Na, color = 'red', lw = 2, label = '$F_{dowel}$');\n",
    "# #ax1.plot(crack_positions, np.array(Q) , color = 'green', lw= 2); #/1000\n",
    "# ax1.plot(crack_positions, np.array(Q_red) , color = 'orange', lw= 2, label = '$F_{uncr}$'); #/1000\n",
    "# ax1.set_xlabel(r'$\\mathrm{Length\\,of\\,the\\,beam\\,(mm)}$'); ax1.set_ylabel(r'$F\\,(N)$');\n",
    "# ax1.set_title(r'Max Force Contribution')\n",
    "# ax1.legend()\n",
    "# ax2.plot(crack_positions, np.array(F_a) , color = 'blue', lw= 2, label = '$F_{agg}$');\n",
    "# ax2.plot(crack_positions, F_Na, color = 'red', lw = 2, label = '$F_{dowel}$');\n",
    "# ax2.set_xlabel(r'$\\mathrm{Length\\,of\\,the\\,beam\\,(mm)}$'); ax2.set_ylabel(r'$F\\,(N)$');\n",
    "# #plt.savefig(\"D:\\Shear zones\\Python plots\\Force_comparisons_updated.pdf\")"
   ]
  },
  {
   "cell_type": "code",
   "execution_count": null,
   "metadata": {},
   "outputs": [],
   "source": []
  },
  {
   "cell_type": "code",
   "execution_count": null,
   "metadata": {},
   "outputs": [],
   "source": [
    "# import matplotlib.pylab as plt\n",
    "# _, (ax1, ax2) = plt.subplots(1, 2, figsize=(11,4))\n",
    "# ax1.plot(c_p, F_La, color = 'red', lw= 2);\n",
    "# ax1.set_xlabel(r'$\\mathrm{Length\\,of\\,the\\,beam\\,(mm)}$'); ax1.set_ylabel(r'$F\\,(N)$');\n",
    "# ax1.set_title(r'Force contribution Aggregate Interlock')\n",
    "# ax2.plot(c_p , F_Na, color='blue', lw=2);\n",
    "# ax2.set_xlabel(r'$\\mathrm{Length\\,of\\,the\\,beam\\,(mm)}$'); ax2.set_ylabel(r'$F_{da}\\,(N)$');\n",
    "# ax2.set_title(r'Force contribution Dowel Action')\n",
    "# #plt.savefig(\"D:\\Shear zones\\Python plots\\Force_comparisons.pdf\")"
   ]
  },
  {
   "cell_type": "code",
   "execution_count": null,
   "metadata": {},
   "outputs": [],
   "source": [
    "# import numpy as np\n",
    "# F_a_ = np.array(ce.F_a)\n",
    "# D = ce.sz_bd.H - ce.sz_bd.cross_section_layout.reinforcement.z_j[0]\n",
    "# x_tip_1n = np.array(ce.x_tip_1n)\n",
    "# x_tip_0n = np.array(ce.x_tip_0n)\n",
    "# x_tip_1k = np.array(ce.x_tip_1k)\n",
    "# L = ce.sz_bd.L\n",
    "# A_s = ce.sz_bd.cross_section_layout.reinforcement.A_j[0] \n",
    "# E_s = ce.sz_bd.cross_section_layout.reinforcement.E_j[0]\n",
    "# v_n = np.array(ce.v_n)\n",
    "# V_c = []\n",
    "# # for x_tip_0n in range(len(v_n)):\n",
    "# #     if x_tip_0n == 0:\n",
    "# #         V_c = ((ce.crack_tip_shear_stress.Q) ) #\\\n",
    "# #                #/ (ce.sz_bd.B * D * np.sqrt(33.3) ))\n",
    "# #     elif x_tip_0n > 0:\n",
    "# V_c = (np.array(ce.F_beam[1:])) / (1 - (0.5 * (ce.sz_bd.H - x_tip_1n[1:])/ x_tip_0n[1:])) #\\ #ce.crack_tip_shear_stress.Q\n",
    "#                #/ (ce.sz_bd.B * D * np.sqrt(33.3) ))      \n",
    "# #V_c = ((ce.crack_tip_shear_stress.Q) / (1 - (0.5 * (ce.sz_bd.H - x_tip_1n[1:])/ x_tip_0n[1:])) / (ce.sz_bd.B * D * np.sqrt(33.3) ))\n",
    "# V_e = np.ones_like(v_n) * 114000\n",
    "# V_f = v_n * A_s * E_s * (D - x_tip_1k/3) / ((D - x_tip_1k) * (L - x_tip_0n))\n",
    "# #V_f\n",
    "# #v_n\n",
    "# #ce.Q\n",
    "# #V_c"
   ]
  },
  {
   "cell_type": "code",
   "execution_count": null,
   "metadata": {},
   "outputs": [],
   "source": [
    "# import matplotlib.pylab as plt\n",
    "# _, (ax1, ax2) = plt.subplots(1, 2, figsize=(11,4))\n",
    "# ax1.plot(ce.v_n[1:], V_c, color = 'red', lw= 2, label = 'V_c');\n",
    "# #ax1.plot(ce.v_n, ce.F_beam, color = 'blue', lw = 2);\n",
    "# ax1.plot(ce.v_n[1:], V_e[1:], '--' , color = 'orange', lw = 2, label = 'V_exp')\n",
    "# ax1.plot(ce.v_n[1:], V_f[1:], '--' , color = 'green', lw = 2, label = 'V_load')\n",
    "# ax1.set_xlabel('deflection')\n",
    "# ax1.set_ylabel('V')\n",
    "# ax1.legend()"
   ]
  },
  {
   "cell_type": "code",
   "execution_count": null,
   "metadata": {},
   "outputs": [],
   "source": [
    "# import matplotlib.pylab as plt\n",
    "# _, (ax1) = plt.subplots(1, 1, figsize=(7,4))\n",
    "# ax1.plot(c_p, F_m, color = 'red', lw= 2);\n",
    "# ax1.set_xlabel(r'$\\mathrm{Length\\,of\\,the\\,beam\\,(mm)}$'); ax1.set_ylabel(r'$F_{max}\\,(N)$');\n",
    "# ax1.set_title(r'Maximum Force Contribution along the length of the beam')\n",
    "# #plt.savefig(\"D:\\Shear zones\\Python plots\\Max_Force_contributions.pdf\")"
   ]
  },
  {
   "cell_type": "code",
   "execution_count": null,
   "metadata": {},
   "outputs": [],
   "source": [
    "# import matplotlib.pylab as plt\n",
    "# _, (ax1) = plt.subplots(1, 1, figsize=(7,5))\n",
    "# x_00_L = c_p/ ce.sz_bd.L\n",
    "# ones = np.ones_like(c_p)\n",
    "# V_exp = 114000 * ones \n",
    "# ax1.plot(x_00_L, F_m, color = 'red', lw= 2, label = (r'$V_{max}$'));\n",
    "# ax1.plot(x_00_L, V_exp, color = 'black',linestyle='--', lw =2, label = (r'$V_{exp}$'));\n",
    "# ax1.set_xlabel(r'$\\mathrm{\\frac{x_{00}}{Length\\,of\\,the\\,beam\\,(mm)}}$'); ax1.set_ylabel(r'$F_{max}\\,(N)$');\n",
    "# ax1.set_title(r'Maximum Force Contribution along the length of the beam')\n",
    "# ax1.legend()\n",
    "# #plt.savefig(\"D:\\Shear zones\\Python plots\\Max_Force_contributions_with_V_exp.pdf\")"
   ]
  },
  {
   "cell_type": "code",
   "execution_count": null,
   "metadata": {},
   "outputs": [],
   "source": [
    "# import matplotlib.pylab as plt\n",
    "# _, (ax1) = plt.subplots(1, 1, figsize=(6,5))\n",
    "# ones = np.ones_like(c_p)\n",
    "# V_exp = 114000 * ones \n",
    "# #ax1.plot(c_p, F_m, color = 'red', lw= 2, label = (r'$V_{max}$'));\n",
    "# #ax1.plot(c_p, V_exp, color = 'black',linestyle='--', lw =2, label = (r'$V_{exp}$'));\n",
    "# ax1.plot(c_p, Q_reduce, color = 'blue', lw =2, label = (r'$V_{uncr}$'));\n",
    "# #ax1.plot(c_p, F_La, color = 'orange', lw = 2, label = (r'$V_{agg}$'));\n",
    "# #ax1.plot(c_p, F_Na, color = 'green', lw =2, label = (r'$V_{da}$'));\n",
    "# ax1.set_xlabel(r'$\\mathrm{Length\\,of\\,the\\,beam\\,(mm)}$'); ax1.set_ylabel(r'$F_{max}\\,(N)$');\n",
    "# ax1.set_title(r'Maximum Force Contribution along the length of the beam')\n",
    "# ax1.legend()\n",
    "# plt.savefig(\"D:\\Shear zones\\Python plots\\Q_reduce_contributions.pdf\")"
   ]
  },
  {
   "cell_type": "code",
   "execution_count": null,
   "metadata": {},
   "outputs": [],
   "source": [
    "# ce.crack_tip_orientation.get_psi(), ce.M_n"
   ]
  },
  {
   "cell_type": "code",
   "execution_count": null,
   "metadata": {},
   "outputs": [],
   "source": [
    "# ce.crack_tip_shear_stress.Q_reduced, ce.sz_stress_profile.F_La[47,0], ce.sz_stress_profile.F_Na[0,0]\n",
    "# ce.crack_tip_shear_stress.tau_x_tip_1k *ce.sz_bd.B\n",
    "# ce.sz_stress_profile.F_a\n",
    "# ce.crack_tip_shear_stress.Q_reduced"
   ]
  },
  {
   "cell_type": "code",
   "execution_count": null,
   "metadata": {},
   "outputs": [],
   "source": [
    "# import numpy as np\n",
    "# ce.sz_stress_profile.u_La[47,:]"
   ]
  },
  {
   "cell_type": "code",
   "execution_count": null,
   "metadata": {},
   "outputs": [],
   "source": [
    "# (ce.sz_stress_profile.M / 1000) / ((ce.crack_tip_shear_stress.Q) *\\\n",
    "#                                    (ce.sz_bd.H - ce.sz_bd.cross_section_layout.reinforcement.z_j[0]))"
   ]
  },
  {
   "cell_type": "code",
   "execution_count": null,
   "metadata": {
    "scrolled": true
   },
   "outputs": [],
   "source": [
    "# #V_uncr = np.sum(ce.crack_tip_shear_stress.tau_z) * ce.sz_bd.B\n",
    "# print(V_uncr)\n",
    "# V_da = ce.sz_stress_profile.F_Na[:,1]\n",
    "# print(V_da)\n",
    "# V_ai = np.sum(ce.sz_stress_profile.F_La[:,1]) #* ce.sz_bd.B #- np.sum(ce.sz_bd.cmm.get_sigma_ag(ce.sz_stress_profile.u_Lb[...,0],ce.sz_stress_profile.u_Lb[...,1])) #* np.cos((ce.sz_cp._get_beta()))\n",
    "# print(V_ai)\n",
    "# V_res = np.max(ce.F_beam)\n",
    "# print(V_res)\n",
    "# V_uncr + V_da + V_ai + V_res"
   ]
  },
  {
   "cell_type": "code",
   "execution_count": null,
   "metadata": {},
   "outputs": [],
   "source": [
    "# np.sum(ce.sz_stress_profile.F_La[:,1])"
   ]
  },
  {
   "cell_type": "code",
   "execution_count": null,
   "metadata": {},
   "outputs": [],
   "source": [
    "# np.sum(ce.sz_stress_profile.S_La[:,1]) * ce.sz_bd.B"
   ]
  },
  {
   "cell_type": "code",
   "execution_count": null,
   "metadata": {
    "pycharm": {
     "name": "#%%\n"
    }
   },
   "outputs": [],
   "source": [
    "# import numpy as np\n",
    "# S_Lb = ce.sz_stress_profile.S_Lb\n",
    "# S_La = ce.sz_stress_profile.S_La\n",
    "# idx = np.argmax(S_Lb[...,0])"
   ]
  },
  {
   "cell_type": "code",
   "execution_count": null,
   "metadata": {
    "pycharm": {
     "name": "#%%\n"
    }
   },
   "outputs": [],
   "source": [
    "# S_Lb[idx,:], S_La[idx,:]"
   ]
  },
  {
   "cell_type": "code",
   "execution_count": null,
   "metadata": {
    "pycharm": {
     "name": "#%%\n"
    }
   },
   "outputs": [],
   "source": [
    "# ce.sz_cp.T_Mab[idx,...]"
   ]
  },
  {
   "cell_type": "code",
   "execution_count": null,
   "metadata": {
    "pycharm": {
     "name": "#%%\n"
    }
   },
   "outputs": [],
   "source": [
    "# np.einsum('i,i', S_Lb[idx,:], S_Lb[idx,:])"
   ]
  },
  {
   "cell_type": "code",
   "execution_count": null,
   "metadata": {
    "pycharm": {
     "name": "#%%\n"
    }
   },
   "outputs": [],
   "source": [
    "# np.einsum('i,i', S_La[idx,:], S_La[idx,:])"
   ]
  },
  {
   "cell_type": "markdown",
   "metadata": {},
   "source": [
    "Todo:\n",
    "\n",
    " - include the reinforcement material law - partially done \n",
    "   (but for strain-based material law) - replace with the crack bridge law\n",
    " - transformation of the crack bridging force to the global coordinates\n",
    " - include the dowel effect "
   ]
  },
  {
   "cell_type": "code",
   "execution_count": null,
   "metadata": {
    "pycharm": {
     "name": "#%%\n"
    }
   },
   "outputs": [],
   "source": [
    "#ce.sz_ctr._get_x_rot_ak()"
   ]
  },
  {
   "cell_type": "code",
   "execution_count": null,
   "metadata": {
    "pycharm": {
     "name": "#%%\n"
    }
   },
   "outputs": [],
   "source": [
    "# ce.sz_stress_profile.F_Na"
   ]
  },
  {
   "cell_type": "code",
   "execution_count": null,
   "metadata": {},
   "outputs": [],
   "source": [
    "# ce.sz_stress_profile.u_Na"
   ]
  },
  {
   "cell_type": "code",
   "execution_count": null,
   "metadata": {},
   "outputs": [],
   "source": [
    "# np.max(ce.sz_stress_profile.F_La)"
   ]
  },
  {
   "cell_type": "code",
   "execution_count": null,
   "metadata": {},
   "outputs": [],
   "source": [
    "# np.sum(ce.sz_stress_profile.F_La)"
   ]
  },
  {
   "cell_type": "code",
   "execution_count": null,
   "metadata": {},
   "outputs": [],
   "source": [
    "# np.max(ce.sz_stress_profile.F_La)"
   ]
  },
  {
   "cell_type": "code",
   "execution_count": 21,
   "metadata": {},
   "outputs": [
    {
     "data": {
      "application/vnd.jupyter.widget-view+json": {
       "model_id": "001c555080ed471295e646e3bbcd760a",
       "version_major": 2,
       "version_minor": 0
      },
      "text/plain": [
       "Canvas(toolbar=Toolbar(toolitems=[('Home', 'Reset original view', 'home', 'home'), ('Back', 'Back to previous …"
      ]
     },
     "metadata": {},
     "output_type": "display_data"
    },
    {
     "name": "stderr",
     "output_type": "stream",
     "text": [
      "<lambdifygenerated-49>:2: RuntimeWarning: divide by zero encountered in power\n",
      "  return (select([less_equal(w, 0),True], [0,s*(1.8*w**(-0.8) + 7.7922*w**(-0.707) - 6.66) - 1.11], default=nan))\n",
      "<lambdifygenerated-49>:2: RuntimeWarning: invalid value encountered in multiply\n",
      "  return (select([less_equal(w, 0),True], [0,s*(1.8*w**(-0.8) + 7.7922*w**(-0.707) - 6.66) - 1.11], default=nan))\n"
     ]
    },
    {
     "data": {
      "text/plain": [
       "Text(0.5, 0.92, 'aggregate interlock law')"
      ]
     },
     "execution_count": 21,
     "metadata": {},
     "output_type": "execute_result"
    }
   ],
   "source": [
    "import sympy as sp\n",
    "import matplotlib.pylab as plt\n",
    "w,f_c, s = sp.symbols('w,f_c,s')\n",
    "tau_s_wal = sp.Piecewise(\n",
    "        (0, w <= 0),\n",
    "        ((- f_c / 30) + (1.8 * w**(-0.8) + (0.234 * w**(-0.707) - 0.2) * f_c ) * s, w > 0)\n",
    "    )\n",
    "\n",
    "f_c_ = 33.3\n",
    "get_tau_s_wal = sp.lambdify((w,s), tau_s_wal.subs(f_c,f_c_), 'numpy')\n",
    "\n",
    "w_min = 0 #-1\n",
    "w_max = 3\n",
    "w_data = np.linspace(w_min, w_max, 100)\n",
    "s_max = 3\n",
    "s_data = np.linspace(0*s_max, 1.1*s_max, 100) #-1.1\n",
    "s_, w_ = np.meshgrid(s_data, w_data)\n",
    "fig, ax = plt.subplots(1,1,figsize=(10,4))\n",
    "ax_3d = fig.add_subplot(1, 2, 1, projection='3d')\n",
    "tau_s = get_tau_s_wal(w_, s_)\n",
    "ax_3d.plot_surface(w_, s_, tau_s, cmap='viridis', edgecolor='none')\n",
    "ax_3d.set_xlabel(r'$w\\;\\;\\mathrm{[mm]}$', fontsize=12)\n",
    "ax_3d.set_ylabel(r'$s\\;\\;\\mathrm{[mm]}$', fontsize=12)\n",
    "ax_3d.set_zlabel(r'$\\tau\\;\\;\\mathrm{[MPa]}$', fontsize=12)\n",
    "ax_3d.set_title('aggregate interlock law', fontsize=12)"
   ]
  },
  {
   "cell_type": "code",
   "execution_count": 20,
   "metadata": {},
   "outputs": [
    {
     "data": {
      "text/plain": [
       "<function _lambdifygenerated(w, s)>"
      ]
     },
     "execution_count": 20,
     "metadata": {},
     "output_type": "execute_result"
    }
   ],
   "source": [
    "get_tau_s_wal"
   ]
  },
  {
   "cell_type": "code",
   "execution_count": null,
   "metadata": {},
   "outputs": [],
   "source": []
  }
 ],
 "metadata": {
  "kernelspec": {
   "display_name": "Python 3",
   "language": "python",
   "name": "python3"
  },
  "language_info": {
   "codemirror_mode": {
    "name": "ipython",
    "version": 3
   },
   "file_extension": ".py",
   "mimetype": "text/x-python",
   "name": "python",
   "nbconvert_exporter": "python",
   "pygments_lexer": "ipython3",
   "version": "3.9.1"
  },
  "toc": {
   "base_numbering": 1,
   "nav_menu": {},
   "number_sections": true,
   "sideBar": true,
   "skip_h1_title": false,
   "title_cell": "Table of Contents",
   "title_sidebar": "Contents",
   "toc_cell": false,
   "toc_position": {},
   "toc_section_display": true,
   "toc_window_display": false
  }
 },
 "nbformat": 4,
 "nbformat_minor": 4
}
