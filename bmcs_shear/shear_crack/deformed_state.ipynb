{
 "cells": [
  {
   "cell_type": "code",
   "execution_count": null,
   "metadata": {},
   "outputs": [],
   "source": [
    "%matplotlib widget\n",
    "\n",
    "from bmcs_shear.shear_crack.crack_tip_rotation import SZCrackTipRotation\n",
    "from bmcs_shear.shear_crack.crack_path import SZCrackPath\n",
    "from bmcs_shear.shear_crack.deformed_state import SZDeformedState\n",
    "from bmcs_utils.api import InteractiveWindow\n",
    "# In[71]:\n",
    "\n",
    "\n",
    "ctr = SZCrackTipRotation(w=1)\n",
    "cp = SZCrackPath(sz_ctr=ctr, x_00=500)\n",
    "sz_ds = SZDeformedState(sz_cp=cp)\n",
    "cp.add_x_tip_an([480 ,80])\n",
    "cp.add_x_tip_an([400 ,120])\n",
    "\n",
    "ipw_plate = InteractiveWindow(\n",
    "    [sz_ds, sz_ds.sz_cp, sz_ds.sz_bd, sz_ds.sz_bd.cmm, sz_ds.sz_ctr], figsize=(8 ,4)\n",
    ")\n",
    "\n",
    "ipw_plate.interact()"
   ]
  },
  {
   "cell_type": "code",
   "execution_count": null,
   "metadata": {},
   "outputs": [],
   "source": []
  }
 ],
 "metadata": {
  "kernelspec": {
   "display_name": "Python 3",
   "language": "python",
   "name": "python3"
  },
  "language_info": {
   "codemirror_mode": {
    "name": "ipython",
    "version": 3
   },
   "file_extension": ".py",
   "mimetype": "text/x-python",
   "name": "python",
   "nbconvert_exporter": "python",
   "pygments_lexer": "ipython3",
   "version": "3.7.6"
  },
  "toc": {
   "base_numbering": 1,
   "nav_menu": {},
   "number_sections": true,
   "sideBar": true,
   "skip_h1_title": false,
   "title_cell": "Table of Contents",
   "title_sidebar": "Contents",
   "toc_cell": false,
   "toc_position": {},
   "toc_section_display": true,
   "toc_window_display": false
  }
 },
 "nbformat": 4,
 "nbformat_minor": 1
}
