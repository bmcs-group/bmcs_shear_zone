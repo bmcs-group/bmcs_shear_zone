{
 "cells": [
  {
   "cell_type": "code",
   "execution_count": null,
   "metadata": {},
   "outputs": [],
   "source": [
    "%matplotlib widget\n",
    "\n",
    "from bmcs_shear.shear_crack.crack_tip_rotation import SZCrackTipRotation\n",
    "from bmcs_shear.shear_crack.crack_path import SZCrackPath\n",
    "from bmcs_shear.shear_crack.deformed_state import SZDeformedState\n",
    "from bmcs_utils.api import InteractiveWindow\n",
    "# In[71]:\n",
    "\n",
    "\n",
    "ctr = SZCrackTipRotation(w=1)\n",
    "cp = SZCrackPath(sz_ctr=ctr, x_00=500)\n",
    "sz_ds = SZDeformedState(sz_cp=cp)\n",
    "cp.add_x_tip_an([480 ,80])\n",
    "# cp.add_x_tip_an([400 ,120])\n",
    "\n",
    "sz_ds.interact()"
   ]
  },
  {
   "cell_type": "code",
   "execution_count": null,
   "metadata": {},
   "outputs": [],
   "source": [
    "cp.T_tip_k_ab"
   ]
  },
  {
   "cell_type": "code",
   "execution_count": null,
   "metadata": {},
   "outputs": [],
   "source": [
    "cp.sz_bd.csl.z_j"
   ]
  },
  {
   "cell_type": "code",
   "execution_count": null,
   "metadata": {},
   "outputs": [],
   "source": []
  }
 ],
 "metadata": {
  "kernelspec": {
   "display_name": "bmcs_env2",
   "language": "python",
   "name": "bmcs_env2"
  },
  "language_info": {
   "codemirror_mode": {
    "name": "ipython",
    "version": 3
   },
   "file_extension": ".py",
   "mimetype": "text/x-python",
   "name": "python",
   "nbconvert_exporter": "python",
   "pygments_lexer": "ipython3"
  },
  "toc": {
   "base_numbering": 1,
   "nav_menu": {},
   "number_sections": true,
   "sideBar": true,
   "skip_h1_title": false,
   "title_cell": "Table of Contents",
   "title_sidebar": "Contents",
   "toc_cell": false,
   "toc_position": {},
   "toc_section_display": true,
   "toc_window_display": false
  }
 },
 "nbformat": 4,
 "nbformat_minor": 4
}
