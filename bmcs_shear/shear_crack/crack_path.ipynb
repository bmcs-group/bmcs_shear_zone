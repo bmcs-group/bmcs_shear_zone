{
 "cells": [
  {
   "cell_type": "code",
   "execution_count": 3,
   "metadata": {
    "scrolled": false
   },
   "outputs": [
    {
     "data": {
      "application/vnd.jupyter.widget-view+json": {
       "model_id": "536e2e3410ed43bdbfc04c379ebd741c",
       "version_major": 2,
       "version_minor": 0
      },
      "text/plain": [
       "VBox(children=(Output(), Tab(children=(VBox(children=(GridBox(children=(IntText(value=4, description='\\\\(n_m\\\\…"
      ]
     },
     "metadata": {},
     "output_type": "display_data"
    }
   ],
   "source": [
    "%matplotlib widget\n",
    "\n",
    "from bmcs_shear.shear_crack.beam_design import RCBeamDesign\n",
    "from bmcs_shear.shear_crack.crack_path import SZCrackPath\n",
    "from bmcs_utils.api import InteractiveWindow\n",
    "\n",
    "sz_bd = RCBeamDesign(H=300 ,L=1000)\n",
    "sz_cp = SZCrackPath(sz_bd=sz_bd, x_00=500)\n",
    "sz_cp.add_x_tip_an([480 ,80])\n",
    "sz_cp.add_x_tip_an([350 ,160])\n",
    "\n",
    "ipw_plate = InteractiveWindow(\n",
    "    [sz_cp, sz_cp.sz_bd, sz_cp.sz_bd.cmm, sz_cp.sz_ctr],\n",
    "    figsize=(6 ,3)\n",
    ")\n",
    "ipw_plate.interact()"
   ]
  },
  {
   "cell_type": "code",
   "execution_count": 4,
   "metadata": {},
   "outputs": [
    {
     "data": {
      "text/plain": [
       "array([[500.        ,   0.        ],\n",
       "       [493.33333333,  26.66666667],\n",
       "       [486.66666667,  53.33333333],\n",
       "       [480.        ,  80.        ],\n",
       "       [436.66666667, 106.66666667],\n",
       "       [393.33333333, 133.33333333],\n",
       "       [350.        , 160.        ],\n",
       "       [350.        , 176.66666667],\n",
       "       [350.        , 193.33333333],\n",
       "       [350.        , 210.        ],\n",
       "       [350.        , 213.33333333],\n",
       "       [350.        , 216.66666667],\n",
       "       [350.        , 220.        ],\n",
       "       [350.        , 223.33333333],\n",
       "       [350.        , 226.66666667],\n",
       "       [350.        , 230.        ],\n",
       "       [350.        , 233.33333333],\n",
       "       [350.        , 236.66666667],\n",
       "       [350.        , 240.        ],\n",
       "       [350.        , 243.33333333],\n",
       "       [350.        , 246.66666667],\n",
       "       [350.        , 250.        ],\n",
       "       [350.        , 253.33333333],\n",
       "       [350.        , 256.66666667],\n",
       "       [350.        , 260.        ],\n",
       "       [350.        , 263.33333333],\n",
       "       [350.        , 266.66666667],\n",
       "       [350.        , 270.        ],\n",
       "       [350.        , 273.33333333],\n",
       "       [350.        , 276.66666667],\n",
       "       [350.        , 280.        ],\n",
       "       [350.        , 283.33333333],\n",
       "       [350.        , 286.66666667],\n",
       "       [350.        , 290.        ],\n",
       "       [350.        , 293.33333333],\n",
       "       [350.        , 296.66666667],\n",
       "       [350.        , 300.        ]])"
      ]
     },
     "execution_count": 4,
     "metadata": {},
     "output_type": "execute_result"
    }
   ],
   "source": [
    "sz_cp.x_Ka"
   ]
  },
  {
   "cell_type": "code",
   "execution_count": null,
   "metadata": {},
   "outputs": [],
   "source": []
  },
  {
   "cell_type": "code",
   "execution_count": null,
   "metadata": {},
   "outputs": [],
   "source": []
  }
 ],
 "metadata": {
  "kernelspec": {
   "display_name": "Python 3",
   "language": "python",
   "name": "python3"
  },
  "language_info": {
   "codemirror_mode": {
    "name": "ipython",
    "version": 3
   },
   "file_extension": ".py",
   "mimetype": "text/x-python",
   "name": "python",
   "nbconvert_exporter": "python",
   "pygments_lexer": "ipython3",
   "version": "3.9.1"
  },
  "toc": {
   "base_numbering": 1,
   "nav_menu": {},
   "number_sections": true,
   "sideBar": true,
   "skip_h1_title": false,
   "title_cell": "Table of Contents",
   "title_sidebar": "Contents",
   "toc_cell": false,
   "toc_position": {},
   "toc_section_display": true,
   "toc_window_display": false
  }
 },
 "nbformat": 4,
 "nbformat_minor": 1
}
