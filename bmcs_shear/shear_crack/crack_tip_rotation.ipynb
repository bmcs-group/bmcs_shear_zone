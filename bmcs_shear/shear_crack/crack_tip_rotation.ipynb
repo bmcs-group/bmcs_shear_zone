{
 "cells": [
  {
   "cell_type": "code",
   "execution_count": 1,
   "metadata": {},
   "outputs": [],
   "source": [
    "%matplotlib widget\n",
    "\n",
    "import bmcs_utils.api as bu\n",
    "from bmcs_shear.shear_crack.crack_tip_rotation import \\\n",
    "    SZCrackTipRotation\n",
    "\n",
    "\n",
    "sz_ctr = SZCrackTipRotation()"
   ]
  },
  {
   "cell_type": "code",
   "execution_count": 2,
   "metadata": {
    "pycharm": {
     "name": "#%%\n"
    }
   },
   "outputs": [
    {
     "data": {
      "application/vnd.jupyter.widget-view+json": {
       "model_id": "5fd0711226e444fbbfa6b6d673790751",
       "version_major": 2,
       "version_minor": 0
      },
      "text/plain": [
       "VBox(children=(Output(), Tab(children=(VBox(children=(GridBox(children=(FloatText(value=0.8, description='\\\\(\\…"
      ]
     },
     "metadata": {},
     "output_type": "display_data"
    },
    {
     "name": "stderr",
     "output_type": "stream",
     "text": [
      "<lambdifygenerated-2>:2: RuntimeWarning: invalid value encountered in sqrt\n",
      "  return ((-Dummy_31*c_psi + Dummy_33*c_psi - Dummy_35*c_psi**2 - Dummy_35*s_psi**2 + Dummy_36*s_psi**2 - sqrt(Dummy_31**2*c_psi**2 - 2*Dummy_31*Dummy_33*c_psi**2 - 2*Dummy_31*Dummy_34*c_psi**2*s_psi - 2*Dummy_31*Dummy_34*s_psi**3 + 2*Dummy_31*Dummy_35*c_psi**3 + 2*Dummy_31*Dummy_35*c_psi*s_psi**2 - 2*Dummy_31*Dummy_36*c_psi*s_psi**2 + Dummy_33**2*c_psi**2 + 2*Dummy_33*Dummy_34*c_psi**2*s_psi + 2*Dummy_33*Dummy_34*s_psi**3 - 2*Dummy_33*Dummy_35*c_psi**3 - 2*Dummy_33*Dummy_35*c_psi*s_psi**2 + 2*Dummy_33*Dummy_36*c_psi*s_psi**2 - Dummy_34**2*c_psi**4 - 2*Dummy_34**2*c_psi**2*s_psi**2 - Dummy_34**2*s_psi**4 - 2*Dummy_34*Dummy_36*c_psi**3*s_psi - 2*Dummy_34*Dummy_36*c_psi*s_psi**3 + Dummy_35**2*c_psi**4 + 2*Dummy_35**2*c_psi**2*s_psi**2 + Dummy_35**2*s_psi**4 - 2*Dummy_35*Dummy_36*c_psi**2*s_psi**2 - 2*Dummy_35*Dummy_36*s_psi**4 + Dummy_36**2*s_psi**4))/(c_psi**2 + s_psi**2))\n",
      "<lambdifygenerated-2>:2: RuntimeWarning: invalid value encountered in sqrt\n",
      "  return ((-Dummy_31*c_psi + Dummy_33*c_psi - Dummy_35*c_psi**2 - Dummy_35*s_psi**2 + Dummy_36*s_psi**2 - sqrt(Dummy_31**2*c_psi**2 - 2*Dummy_31*Dummy_33*c_psi**2 - 2*Dummy_31*Dummy_34*c_psi**2*s_psi - 2*Dummy_31*Dummy_34*s_psi**3 + 2*Dummy_31*Dummy_35*c_psi**3 + 2*Dummy_31*Dummy_35*c_psi*s_psi**2 - 2*Dummy_31*Dummy_36*c_psi*s_psi**2 + Dummy_33**2*c_psi**2 + 2*Dummy_33*Dummy_34*c_psi**2*s_psi + 2*Dummy_33*Dummy_34*s_psi**3 - 2*Dummy_33*Dummy_35*c_psi**3 - 2*Dummy_33*Dummy_35*c_psi*s_psi**2 + 2*Dummy_33*Dummy_36*c_psi*s_psi**2 - Dummy_34**2*c_psi**4 - 2*Dummy_34**2*c_psi**2*s_psi**2 - Dummy_34**2*s_psi**4 - 2*Dummy_34*Dummy_36*c_psi**3*s_psi - 2*Dummy_34*Dummy_36*c_psi*s_psi**3 + Dummy_35**2*c_psi**4 + 2*Dummy_35**2*c_psi**2*s_psi**2 + Dummy_35**2*s_psi**4 - 2*Dummy_35*Dummy_36*c_psi**2*s_psi**2 - 2*Dummy_35*Dummy_36*s_psi**4 + Dummy_36**2*s_psi**4))/(c_psi**2 + s_psi**2))\n",
      "<lambdifygenerated-2>:2: RuntimeWarning: invalid value encountered in sqrt\n",
      "  return ((-Dummy_31*c_psi + Dummy_33*c_psi - Dummy_35*c_psi**2 - Dummy_35*s_psi**2 + Dummy_36*s_psi**2 - sqrt(Dummy_31**2*c_psi**2 - 2*Dummy_31*Dummy_33*c_psi**2 - 2*Dummy_31*Dummy_34*c_psi**2*s_psi - 2*Dummy_31*Dummy_34*s_psi**3 + 2*Dummy_31*Dummy_35*c_psi**3 + 2*Dummy_31*Dummy_35*c_psi*s_psi**2 - 2*Dummy_31*Dummy_36*c_psi*s_psi**2 + Dummy_33**2*c_psi**2 + 2*Dummy_33*Dummy_34*c_psi**2*s_psi + 2*Dummy_33*Dummy_34*s_psi**3 - 2*Dummy_33*Dummy_35*c_psi**3 - 2*Dummy_33*Dummy_35*c_psi*s_psi**2 + 2*Dummy_33*Dummy_36*c_psi*s_psi**2 - Dummy_34**2*c_psi**4 - 2*Dummy_34**2*c_psi**2*s_psi**2 - Dummy_34**2*s_psi**4 - 2*Dummy_34*Dummy_36*c_psi**3*s_psi - 2*Dummy_34*Dummy_36*c_psi*s_psi**3 + Dummy_35**2*c_psi**4 + 2*Dummy_35**2*c_psi**2*s_psi**2 + Dummy_35**2*s_psi**4 - 2*Dummy_35*Dummy_36*c_psi**2*s_psi**2 - 2*Dummy_35*Dummy_36*s_psi**4 + Dummy_36**2*s_psi**4))/(c_psi**2 + s_psi**2))\n",
      "<lambdifygenerated-2>:2: RuntimeWarning: invalid value encountered in sqrt\n",
      "  return ((-Dummy_31*c_psi + Dummy_33*c_psi - Dummy_35*c_psi**2 - Dummy_35*s_psi**2 + Dummy_36*s_psi**2 - sqrt(Dummy_31**2*c_psi**2 - 2*Dummy_31*Dummy_33*c_psi**2 - 2*Dummy_31*Dummy_34*c_psi**2*s_psi - 2*Dummy_31*Dummy_34*s_psi**3 + 2*Dummy_31*Dummy_35*c_psi**3 + 2*Dummy_31*Dummy_35*c_psi*s_psi**2 - 2*Dummy_31*Dummy_36*c_psi*s_psi**2 + Dummy_33**2*c_psi**2 + 2*Dummy_33*Dummy_34*c_psi**2*s_psi + 2*Dummy_33*Dummy_34*s_psi**3 - 2*Dummy_33*Dummy_35*c_psi**3 - 2*Dummy_33*Dummy_35*c_psi*s_psi**2 + 2*Dummy_33*Dummy_36*c_psi*s_psi**2 - Dummy_34**2*c_psi**4 - 2*Dummy_34**2*c_psi**2*s_psi**2 - Dummy_34**2*s_psi**4 - 2*Dummy_34*Dummy_36*c_psi**3*s_psi - 2*Dummy_34*Dummy_36*c_psi*s_psi**3 + Dummy_35**2*c_psi**4 + 2*Dummy_35**2*c_psi**2*s_psi**2 + Dummy_35**2*s_psi**4 - 2*Dummy_35*Dummy_36*c_psi**2*s_psi**2 - 2*Dummy_35*Dummy_36*s_psi**4 + Dummy_36**2*s_psi**4))/(c_psi**2 + s_psi**2))\n",
      "<lambdifygenerated-2>:2: RuntimeWarning: invalid value encountered in sqrt\n",
      "  return ((-Dummy_31*c_psi + Dummy_33*c_psi - Dummy_35*c_psi**2 - Dummy_35*s_psi**2 + Dummy_36*s_psi**2 - sqrt(Dummy_31**2*c_psi**2 - 2*Dummy_31*Dummy_33*c_psi**2 - 2*Dummy_31*Dummy_34*c_psi**2*s_psi - 2*Dummy_31*Dummy_34*s_psi**3 + 2*Dummy_31*Dummy_35*c_psi**3 + 2*Dummy_31*Dummy_35*c_psi*s_psi**2 - 2*Dummy_31*Dummy_36*c_psi*s_psi**2 + Dummy_33**2*c_psi**2 + 2*Dummy_33*Dummy_34*c_psi**2*s_psi + 2*Dummy_33*Dummy_34*s_psi**3 - 2*Dummy_33*Dummy_35*c_psi**3 - 2*Dummy_33*Dummy_35*c_psi*s_psi**2 + 2*Dummy_33*Dummy_36*c_psi*s_psi**2 - Dummy_34**2*c_psi**4 - 2*Dummy_34**2*c_psi**2*s_psi**2 - Dummy_34**2*s_psi**4 - 2*Dummy_34*Dummy_36*c_psi**3*s_psi - 2*Dummy_34*Dummy_36*c_psi*s_psi**3 + Dummy_35**2*c_psi**4 + 2*Dummy_35**2*c_psi**2*s_psi**2 + Dummy_35**2*s_psi**4 - 2*Dummy_35*Dummy_36*c_psi**2*s_psi**2 - 2*Dummy_35*Dummy_36*s_psi**4 + Dummy_36**2*s_psi**4))/(c_psi**2 + s_psi**2))\n",
      "<lambdifygenerated-2>:2: RuntimeWarning: invalid value encountered in sqrt\n",
      "  return ((-Dummy_31*c_psi + Dummy_33*c_psi - Dummy_35*c_psi**2 - Dummy_35*s_psi**2 + Dummy_36*s_psi**2 - sqrt(Dummy_31**2*c_psi**2 - 2*Dummy_31*Dummy_33*c_psi**2 - 2*Dummy_31*Dummy_34*c_psi**2*s_psi - 2*Dummy_31*Dummy_34*s_psi**3 + 2*Dummy_31*Dummy_35*c_psi**3 + 2*Dummy_31*Dummy_35*c_psi*s_psi**2 - 2*Dummy_31*Dummy_36*c_psi*s_psi**2 + Dummy_33**2*c_psi**2 + 2*Dummy_33*Dummy_34*c_psi**2*s_psi + 2*Dummy_33*Dummy_34*s_psi**3 - 2*Dummy_33*Dummy_35*c_psi**3 - 2*Dummy_33*Dummy_35*c_psi*s_psi**2 + 2*Dummy_33*Dummy_36*c_psi*s_psi**2 - Dummy_34**2*c_psi**4 - 2*Dummy_34**2*c_psi**2*s_psi**2 - Dummy_34**2*s_psi**4 - 2*Dummy_34*Dummy_36*c_psi**3*s_psi - 2*Dummy_34*Dummy_36*c_psi*s_psi**3 + Dummy_35**2*c_psi**4 + 2*Dummy_35**2*c_psi**2*s_psi**2 + Dummy_35**2*s_psi**4 - 2*Dummy_35*Dummy_36*c_psi**2*s_psi**2 - 2*Dummy_35*Dummy_36*s_psi**4 + Dummy_36**2*s_psi**4))/(c_psi**2 + s_psi**2))\n"
     ]
    }
   ],
   "source": [
    "sz_ctr.interact()"
   ]
  },
  {
   "cell_type": "code",
   "execution_count": null,
   "metadata": {},
   "outputs": [],
   "source": []
  }
 ],
 "metadata": {
  "kernelspec": {
   "display_name": "Python 3",
   "language": "python",
   "name": "python3"
  },
  "language_info": {
   "codemirror_mode": {
    "name": "ipython",
    "version": 3
   },
   "file_extension": ".py",
   "mimetype": "text/x-python",
   "name": "python",
   "nbconvert_exporter": "python",
   "pygments_lexer": "ipython3",
   "version": "3.8.8"
  },
  "toc": {
   "base_numbering": 1,
   "nav_menu": {},
   "number_sections": true,
   "sideBar": true,
   "skip_h1_title": false,
   "title_cell": "Table of Contents",
   "title_sidebar": "Contents",
   "toc_cell": false,
   "toc_position": {},
   "toc_section_display": true,
   "toc_window_display": false
  }
 },
 "nbformat": 4,
 "nbformat_minor": 4
}
