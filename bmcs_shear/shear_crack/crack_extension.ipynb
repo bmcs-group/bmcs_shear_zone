{
 "cells": [
  {
   "cell_type": "code",
   "execution_count": 7,
   "metadata": {},
   "outputs": [],
   "source": [
    "%matplotlib widget\n",
    "import bmcs_utils.api as bu\n",
    "from bmcs_shear.shear_crack.crack_extension import CrackExtension\n",
    "from bmcs_shear.shear_crack.beam_design import RCBeamDesign\n",
    "from bmcs_shear.shear_crack.crack_path import SZCrackPath\n",
    "import numpy as np"
   ]
  },
  {
   "cell_type": "code",
   "execution_count": 8,
   "metadata": {
    "pycharm": {
     "name": "#%%\n"
    }
   },
   "outputs": [
    {
     "data": {
      "text/plain": [
       "<bmcs_shear.matmod.sz_matmod.ConcreteMaterialModel at 0x7f85e81982c0>"
      ]
     },
     "execution_count": 8,
     "metadata": {},
     "output_type": "execute_result"
    }
   ],
   "source": [
    "x_00 = 500\n",
    "bd = RCBeamDesign(H=400 ,L=1000, B=100)\n",
    "ce = CrackExtension(sz_bd=bd)\n",
    "ce.sz_cp.trait_set(x_00=x_00, n_m=10)\n",
    "ce.sz_bd.cmm.trait_set(L_fps=50)"
   ]
  },
  {
   "cell_type": "code",
   "execution_count": 9,
   "metadata": {},
   "outputs": [],
   "source": [
    "ce.sz_cp.trait_set(n_m=10)\n",
    "ce.sz_bd.Rectangle = True\n",
    "ce.sz_bd.cross_section_layout.reinforcement.z_j[0] = 25\n",
    "ce.sz_bd.cross_section_layout.reinforcement.A_j[0] = 100\n",
    "ce.sz_bd.cross_section_layout.reinforcement.E_j[0] = 210000 / 100\n",
    "ce.sz_cp.add_x_tip_an([x_00 ,100])"
   ]
  },
  {
   "cell_type": "code",
   "execution_count": 10,
   "metadata": {
    "pycharm": {
     "name": "#%%\n"
    }
   },
   "outputs": [
    {
     "data": {
      "application/vnd.jupyter.widget-view+json": {
       "model_id": "fe0619d3519342b28aabc07c66b0fcfc",
       "version_major": 2,
       "version_minor": 0
      },
      "text/plain": [
       "VBox(children=(Output(), Tab(children=(VBox(children=(GridBox(layout=Layout(grid_template_columns='1fr 1fr', p…"
      ]
     },
     "metadata": {},
     "output_type": "display_data"
    }
   ],
   "source": [
    "bu.InteractiveWindow([ce, ce.sz_stress_profile, \n",
    "                      ce.sz_bd.cmm, ce.sz_cp, ce.sz_cp.sz_ctr]).interact()\n"
   ]
  },
  {
   "cell_type": "code",
   "execution_count": null,
   "metadata": {
    "pycharm": {
     "name": "#%%\n"
    }
   },
   "outputs": [],
   "source": []
  },
  {
   "cell_type": "code",
   "execution_count": null,
   "metadata": {},
   "outputs": [],
   "source": []
  }
 ],
 "metadata": {
  "kernelspec": {
   "display_name": "bmcs_env",
   "language": "python",
   "name": "bmcs_env"
  },
  "language_info": {
   "codemirror_mode": {
    "name": "ipython",
    "version": 3
   },
   "file_extension": ".py",
   "mimetype": "text/x-python",
   "name": "python",
   "nbconvert_exporter": "python",
   "pygments_lexer": "ipython3",
   "version": "3.9.0"
  },
  "toc": {
   "base_numbering": 1,
   "nav_menu": {},
   "number_sections": true,
   "sideBar": true,
   "skip_h1_title": false,
   "title_cell": "Table of Contents",
   "title_sidebar": "Contents",
   "toc_cell": false,
   "toc_position": {},
   "toc_section_display": true,
   "toc_window_display": false
  }
 },
 "nbformat": 4,
 "nbformat_minor": 1
}
