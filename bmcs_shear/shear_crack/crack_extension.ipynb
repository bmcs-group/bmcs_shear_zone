{
 "cells": [
  {
   "cell_type": "code",
   "execution_count": 5,
   "metadata": {},
   "outputs": [],
   "source": [
    "%matplotlib widget\n",
    "import bmcs_utils.api as bu\n",
    "from bmcs_shear.shear_crack.crack_extension import CrackExtension\n",
    "from bmcs_shear.shear_crack.beam_design import RCBeamDesign\n",
    "from bmcs_shear.shear_crack.crack_path import SZCrackPath\n",
    "import numpy as np"
   ]
  },
  {
   "cell_type": "code",
   "execution_count": 6,
   "metadata": {
    "pycharm": {
     "name": "#%%\n"
    }
   },
   "outputs": [
    {
     "data": {
      "text/plain": [
       "<bmcs_shear.matmod.sz_concrete.sz_advanced.sz_advanced.ConcreteMaterialModelAdv at 0x7f514e256a40>"
      ]
     },
     "execution_count": 6,
     "metadata": {},
     "output_type": "execute_result"
    }
   ],
   "source": [
    "x_00 = 900\n",
    "bd = RCBeamDesign(H=400 ,L=1000, B=50)\n",
    "sz_cp = SZCrackPath(sz_bd=bd, x_00=x_00)\n",
    "sz_cp.add_x_tip_an([x_00 ,100])\n",
    "ce = CrackExtension(sz_cp=sz_cp)\n",
    "ce.sz_bd.cmm.trait_set(L_fps=50)"
   ]
  },
  {
   "cell_type": "code",
   "execution_count": 7,
   "metadata": {},
   "outputs": [
    {
     "name": "stderr",
     "output_type": "stream",
     "text": [
      "<lambdifygenerated-45>:2: RuntimeWarning: invalid value encountered in sqrt\n",
      "  return (select([less_equal(w, 0),True], [0,0.25*f_c*s*(-sqrt(2)*sqrt(w/d_a) + 1)*((2.44 - 39.04/f_c)*abs(s/w)**3 + 9.8/f_c)/(w*(s**4*(2.44 - 39.04/f_c)/w**4 + 1))], default=nan))\n",
      "<lambdifygenerated-44>:2: RuntimeWarning: overflow encountered in exp\n",
      "  return (select([less(f_c, -35.7142857142857*d_a**(-0.32)*f_c**(-0.18)*f_t**2*w),less_equal(w, 0.028*d_a**0.32*f_c**0.18/f_t),True], [-f_c,35.7142857142857*d_a**(-0.32)*f_c**(-0.18)*f_t**2*w,f_t*exp(-35.7142857142857*d_a**(-0.32)*f_c**(-0.18)*f_t*(-0.028*d_a**0.32*f_c**0.18/f_t + w))], default=nan))\n",
      "<lambdifygenerated-52>:2: RuntimeWarning: invalid value encountered in sqrt\n",
      "  return (select([less(s, (1/2)*A_f*Dummy_230**2/(Dummy_231*Dummy_232*p)),True], [sqrt(2)*sqrt(A_f)*sqrt(Dummy_231)*sqrt(Dummy_232)*sqrt(p)*sqrt(s),A_f*Dummy_230], default=nan))\n"
     ]
    },
    {
     "data": {
      "text/plain": [
       "array([ 10.53960213, 120.28828944])"
      ]
     },
     "execution_count": 7,
     "metadata": {},
     "output_type": "execute_result"
    }
   ],
   "source": [
    "ce.X"
   ]
  },
  {
   "cell_type": "code",
   "execution_count": 8,
   "metadata": {
    "pycharm": {
     "name": "#%%\n"
    }
   },
   "outputs": [
    {
     "data": {
      "application/vnd.jupyter.widget-view+json": {
       "model_id": "ed9aa4e54fb44010af1fc855ceeacd88",
       "version_major": 2,
       "version_minor": 0
      },
      "text/plain": [
       "VBox(children=(Output(), Tab(children=(VBox(children=(GridBox(layout=Layout(grid_template_columns='1fr 1fr', p…"
      ]
     },
     "metadata": {},
     "output_type": "display_data"
    }
   ],
   "source": [
    "bu.InteractiveWindow([ce, ce.sz_stress_profile, \n",
    "                      ce.sz_bd.cmm, ce.sz_cp, ce.sz_cp.sz_ctr]).interact()\n"
   ]
  },
  {
   "cell_type": "code",
   "execution_count": 6,
   "metadata": {
    "pycharm": {
     "name": "#%%\n"
    }
   },
   "outputs": [],
   "source": [
    "beta_arr = np.linspace(0, 1.5, 10)\n",
    "psi_arr = []\n",
    "for beta in beta_arr:\n",
    "    ce.sz_ctr.beta = beta\n",
    "    psi_arr.append(ce.crack_tip_orientation.get_psi())#bu.InteractiveWindow(ce).interact()"
   ]
  },
  {
   "cell_type": "code",
   "execution_count": 7,
   "metadata": {
    "pycharm": {
     "name": "#%%\n"
    }
   },
   "outputs": [
    {
     "name": "stdout",
     "output_type": "stream",
     "text": [
      "[0.7943163189119268, 0.7943163189119268, 0.7943163189119268, 0.7943163189119268, 0.7943163189119268, 0.7943163189119268, 0.7943163189119268, 0.7943163189119268, 0.7943163189119268, 0.7943163189119268]\n"
     ]
    }
   ],
   "source": [
    "print(psi_arr)"
   ]
  },
  {
   "cell_type": "code",
   "execution_count": 8,
   "metadata": {
    "pycharm": {
     "name": "#%%\n"
    }
   },
   "outputs": [
    {
     "name": "stderr",
     "output_type": "stream",
     "text": [
      "<lambdifygenerated-29>:2: RuntimeWarning: invalid value encountered in sqrt\n",
      "  return (select([less_equal(w, 0),True], [0,0.25*f_c*s*(-sqrt(2)*sqrt(w/d_a) + 1)*((2.44 - 39.04/f_c)*abs(s/w)**3 + 9.8/f_c)/(w*(s**4*(2.44 - 39.04/f_c)/w**4 + 1))], default=nan))\n",
      "<lambdifygenerated-36>:2: RuntimeWarning: invalid value encountered in sqrt\n",
      "  return (select([less(s, (1/2)*A_f*Dummy_198**2/(Dummy_199*Dummy_200*p)),True], [sqrt(2)*sqrt(A_f)*sqrt(Dummy_199)*sqrt(Dummy_200)*sqrt(p)*sqrt(s),A_f*Dummy_198], default=nan))\n",
      "<lambdifygenerated-28>:2: RuntimeWarning: overflow encountered in exp\n",
      "  return (select([less(f_c, -35.7142857142857*d_a**(-0.32)*f_c**(-0.18)*f_t**2*w),less_equal(w, 0.028*d_a**0.32*f_c**0.18/f_t),True], [-f_c,35.7142857142857*d_a**(-0.32)*f_c**(-0.18)*f_t**2*w,f_t*exp(-35.7142857142857*d_a**(-0.32)*f_c**(-0.18)*f_t*(-0.028*d_a**0.32*f_c**0.18/f_t + w))], default=nan))\n"
     ]
    }
   ],
   "source": [
    "x_1_arr = np.linspace(0, 300, 10)\n",
    "psi2_arr = []\n",
    "for x_1 in x_1_arr:\n",
    "    ce.sz_ctr.x_rot_1k = x_1\n",
    "    psi2_arr.append(ce.crack_tip_orientation.get_psi())#bu.InteractiveWindow(ce).interact()"
   ]
  },
  {
   "cell_type": "code",
   "execution_count": 9,
   "metadata": {
    "pycharm": {
     "name": "#%%\n"
    }
   },
   "outputs": [
    {
     "name": "stdout",
     "output_type": "stream",
     "text": [
      "[nan, nan, 0.8466441436587951, 0.811621336356311, 0.7901860811761493, 0.7886042491449666, 0.7853193598185636, 0.7851910317454058, 0.7723756515142234, 0.774018887282633]\n"
     ]
    }
   ],
   "source": [
    "print(psi2_arr)\n"
   ]
  },
  {
   "cell_type": "code",
   "execution_count": null,
   "metadata": {
    "pycharm": {
     "name": "#%%\n"
    }
   },
   "outputs": [],
   "source": []
  },
  {
   "cell_type": "code",
   "execution_count": null,
   "metadata": {},
   "outputs": [],
   "source": []
  }
 ],
 "metadata": {
  "kernelspec": {
   "display_name": "Python 3",
   "language": "python",
   "name": "python3"
  },
  "language_info": {
   "codemirror_mode": {
    "name": "ipython",
    "version": 3
   },
   "file_extension": ".py",
   "mimetype": "text/x-python",
   "name": "python",
   "nbconvert_exporter": "python",
   "pygments_lexer": "ipython3",
   "version": "3.9.1"
  },
  "toc": {
   "base_numbering": 1,
   "nav_menu": {},
   "number_sections": true,
   "sideBar": true,
   "skip_h1_title": false,
   "title_cell": "Table of Contents",
   "title_sidebar": "Contents",
   "toc_cell": false,
   "toc_position": {},
   "toc_section_display": true,
   "toc_window_display": false
  }
 },
 "nbformat": 4,
 "nbformat_minor": 1
}
