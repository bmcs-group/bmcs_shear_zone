{
 "cells": [
  {
   "cell_type": "code",
   "execution_count": null,
   "metadata": {},
   "outputs": [],
   "source": [
    "%matplotlib widget\n",
    "import bmcs_utils.api as bu\n",
    "from bmcs_shear.beam_design import RCBeamDesign\n",
    "from bmcs_shear.shear_crack.crack_extension import CrackExtension\n",
    "from bmcs_shear.api import CrackBridgeAdv\n",
    "import numpy as np\n",
    "np.seterr(divide='ignore', invalid='ignore') ;"
   ]
  },
  {
   "cell_type": "code",
   "execution_count": null,
   "metadata": {},
   "outputs": [],
   "source": [
    "ce = CrackExtension()\n",
    "ce.sz_cp.trait_set(x_00=400, n_m=12)\n",
    "ce.sz_bd.trait_set(H=400 ,L=1000, B=50);"
   ]
  },
  {
   "cell_type": "code",
   "execution_count": null,
   "metadata": {},
   "outputs": [],
   "source": [
    "ce.X_iter\n",
    "ce.x_rot_1k"
   ]
  },
  {
   "cell_type": "code",
   "execution_count": null,
   "metadata": {},
   "outputs": [],
   "source": [
    "ce.sz_bd.interact()"
   ]
  },
  {
   "cell_type": "code",
   "execution_count": null,
   "metadata": {},
   "outputs": [],
   "source": [
    "ce.sz_cp.add_x_tip_an([400,5])\n",
    "ce.X"
   ]
  },
  {
   "cell_type": "code",
   "execution_count": null,
   "metadata": {},
   "outputs": [],
   "source": [
    "ce = CrackExtension()\n",
    "ce.sz_cp.trait_set(x_00=400, n_m=12)\n",
    "ce.sz_bd.trait_set(H=400 ,L=1000, B=50);"
   ]
  },
  {
   "cell_type": "code",
   "execution_count": null,
   "metadata": {},
   "outputs": [],
   "source": [
    "ce.X"
   ]
  },
  {
   "cell_type": "code",
   "execution_count": null,
   "metadata": {},
   "outputs": [],
   "source": [
    "ce.sz_cp.add_x_tip_an([400,2])\n",
    "ce.X"
   ]
  },
  {
   "cell_type": "code",
   "execution_count": null,
   "metadata": {},
   "outputs": [],
   "source": [
    "ce.sz_bd.csl.add_layer(\n",
    "    CrackBridgeAdv(z=44, n=2, d_s=0.01, E = 210000, tau = 16, sig_y = 713, \n",
    "                   dowel_factor = 1, f_c = 33.3)\n",
    ")\n",
    "ce.sz_cp.add_x_tip_an([400,100])"
   ]
  },
  {
   "cell_type": "code",
   "execution_count": null,
   "metadata": {},
   "outputs": [],
   "source": [
    "ce.X"
   ]
  },
  {
   "cell_type": "code",
   "execution_count": null,
   "metadata": {},
   "outputs": [],
   "source": [
    "ce.interact()"
   ]
  },
  {
   "cell_type": "code",
   "execution_count": null,
   "metadata": {
    "pycharm": {
     "name": "#%%\n"
    }
   },
   "outputs": [],
   "source": [
    "x_00 = 900\n",
    "bd = RCBeamDesign(H=400 ,L=1000, B=50)\n",
    "sz_cp = SZCrackPath(sz_bd=bd, x_00=x_00)\n",
    "sz_cp.add_x_tip_an([x_00 ,100])\n",
    "ce = CrackExtension(sz_cp=sz_cp)\n",
    "ce.sz_bd.matrix_.trait_set(L_fps=50)"
   ]
  },
  {
   "cell_type": "code",
   "execution_count": null,
   "metadata": {},
   "outputs": [],
   "source": [
    "ce.sz_bd.csl.add_layer(\n",
    "    CrackBridgeAdv(z=44, n=2, d_s=28, E = 210000, tau = 16, sig_y = 713, \n",
    "                   dowel_factor = 1, f_c = 33.3)\n",
    ")"
   ]
  },
  {
   "cell_type": "code",
   "execution_count": null,
   "metadata": {},
   "outputs": [],
   "source": [
    "sz_sp = ce.sz_stress_profile"
   ]
  },
  {
   "cell_type": "code",
   "execution_count": null,
   "metadata": {},
   "outputs": [],
   "source": [
    "sz_cp.x_t_Ia"
   ]
  },
  {
   "cell_type": "code",
   "execution_count": null,
   "metadata": {},
   "outputs": [],
   "source": [
    "sz_cp.T_Lab"
   ]
  },
  {
   "cell_type": "code",
   "execution_count": null,
   "metadata": {},
   "outputs": [],
   "source": [
    "x_tip_1 = sz_cp.sz_ctr.x_tip_ak[1]\n",
    "idx_tip = np.argmax( sz_cp.x_Ka[:,1] >= x_tip_1 )\n",
    "u_a = sz_sp.ds.x1_Ka[idx_tip] - sz_cp.x_Ka[idx_tip]\n",
    "T_ab = sz_sp.sz_cp.T_Lab[-1,:]\n",
    "u_b = np.einsum('a,ab->b', u_a, T_ab)\n",
    "sig_b = sz_sp.ds.sz_bd.matrix_.get_sig_a(u_b)\n",
    "sig_a = np.einsum('b,ab->a', sig_b, T_ab)"
   ]
  },
  {
   "cell_type": "code",
   "execution_count": null,
   "metadata": {},
   "outputs": [],
   "source": [
    "sig_a"
   ]
  },
  {
   "cell_type": "code",
   "execution_count": null,
   "metadata": {},
   "outputs": [],
   "source": [
    "ce.X"
   ]
  },
  {
   "cell_type": "code",
   "execution_count": null,
   "metadata": {
    "pycharm": {
     "name": "#%%\n"
    }
   },
   "outputs": [],
   "source": [
    "bu.InteractiveWindow([ce, ce.sz_stress_profile, \n",
    "                      ce.sz_bd.cmm, ce.sz_cp, ce.sz_cp.sz_ctr]).interact()\n"
   ]
  },
  {
   "cell_type": "code",
   "execution_count": null,
   "metadata": {
    "pycharm": {
     "name": "#%%\n"
    }
   },
   "outputs": [],
   "source": [
    "beta_arr = np.linspace(0, 1.5, 10)\n",
    "psi_arr = []\n",
    "for beta in beta_arr:\n",
    "    ce.sz_ctr.beta = beta\n",
    "    psi_arr.append(ce.crack_tip_orientation.get_psi())#bu.InteractiveWindow(ce).interact()"
   ]
  },
  {
   "cell_type": "code",
   "execution_count": null,
   "metadata": {
    "pycharm": {
     "name": "#%%\n"
    }
   },
   "outputs": [],
   "source": [
    "print(psi_arr)"
   ]
  },
  {
   "cell_type": "code",
   "execution_count": null,
   "metadata": {
    "pycharm": {
     "name": "#%%\n"
    }
   },
   "outputs": [],
   "source": [
    "x_1_arr = np.linspace(0, 300, 10)\n",
    "psi2_arr = []\n",
    "for x_1 in x_1_arr:\n",
    "    ce.sz_ctr.x_rot_1k = x_1\n",
    "    psi2_arr.append(ce.crack_tip_orientation.get_psi())#bu.InteractiveWindow(ce).interact()"
   ]
  },
  {
   "cell_type": "code",
   "execution_count": null,
   "metadata": {
    "pycharm": {
     "name": "#%%\n"
    }
   },
   "outputs": [],
   "source": [
    "print(psi2_arr)\n"
   ]
  },
  {
   "cell_type": "code",
   "execution_count": null,
   "metadata": {
    "pycharm": {
     "name": "#%%\n"
    }
   },
   "outputs": [],
   "source": []
  },
  {
   "cell_type": "code",
   "execution_count": null,
   "metadata": {},
   "outputs": [],
   "source": []
  }
 ],
 "metadata": {
  "kernelspec": {
   "display_name": "bmcs_env2",
   "language": "python",
   "name": "bmcs_env2"
  },
  "language_info": {
   "codemirror_mode": {
    "name": "ipython",
    "version": 3
   },
   "file_extension": ".py",
   "mimetype": "text/x-python",
   "name": "python",
   "nbconvert_exporter": "python",
   "pygments_lexer": "ipython3"
  },
  "toc": {
   "base_numbering": 1,
   "nav_menu": {},
   "number_sections": true,
   "sideBar": true,
   "skip_h1_title": false,
   "title_cell": "Table of Contents",
   "title_sidebar": "Contents",
   "toc_cell": false,
   "toc_position": {},
   "toc_section_display": true,
   "toc_window_display": false
  }
 },
 "nbformat": 4,
 "nbformat_minor": 4
}
