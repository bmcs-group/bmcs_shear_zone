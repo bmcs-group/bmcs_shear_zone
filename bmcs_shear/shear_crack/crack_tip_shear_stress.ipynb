{
 "cells": [
  {
   "cell_type": "code",
   "execution_count": 1,
   "metadata": {},
   "outputs": [
    {
     "name": "stdout",
     "output_type": "stream",
     "text": [
      "Piecewise((2.5*\\alpha*sqrt(f_c)*(s/s_1)**\\alpha/s, s <= s_1), (0, s <= s_2), (-1.5*sqrt(f_c)/(-s_2 + s_3), s <= s_3), (0, True))\n"
     ]
    },
    {
     "name": "stderr",
     "output_type": "stream",
     "text": [
      "<lambdifygenerated-24>:2: RuntimeWarning: invalid value encountered in sqrt\n",
      "  return (select([less_equal(w, 0),True], [0,0.25*f_c*s*(-sqrt(2)*sqrt(w/d_a) + 1)*((2.44 - 39.04/f_c)*abs(s/w)**3 + 9.8/f_c)/(w*(s**4*(2.44 - 39.04/f_c)/w**4 + 1))], default=nan))\n"
     ]
    },
    {
     "data": {
      "application/vnd.jupyter.widget-view+json": {
       "model_id": "f3bd800902d84cee98ad7e0939e1ddcf",
       "version_major": 2,
       "version_minor": 0
      },
      "text/plain": [
       "VBox(children=(Output(), Tab(children=(VBox(children=(GridBox(layout=Layout(grid_template_columns='1fr 1fr', p…"
      ]
     },
     "metadata": {},
     "output_type": "display_data"
    }
   ],
   "source": [
    "%matplotlib widget\n",
    "\n",
    "from bmcs_shear.shear_crack.crack_tip_rotation import SZCrackTipRotation\n",
    "from bmcs_shear.shear_crack.crack_path import SZCrackPath\n",
    "from bmcs_shear.shear_crack.crack_tip_shear_stress import SZCrackTipShearStress\n",
    "from bmcs_utils.api import InteractiveWindow\n",
    "\n",
    "# In[87]:\n",
    "\n",
    "ctr = SZCrackTipRotation() # L_fps=20, w=1)\n",
    "cp = SZCrackPath(sz_ctr=ctr, x_00=400)\n",
    "cp.add_x_tip_an([400, 50])\n",
    "cp.add_x_tip_an([300, 80])\n",
    "sz_ssp = SZCrackTipShearStress(sz_cp=cp)\n",
    "sz_ssp.Q, sz_ssp.tau_x_tip_1k\n",
    "\n",
    "# In[88]:\n",
    "\n",
    "\n",
    "sp_ii = InteractiveWindow([sz_ssp, sz_ssp.sz_cp.sz_ctr, sz_ssp.sz_stress_profile, sz_ssp.sz_stress_profile.ds,\n",
    "                           sz_ssp.sz_cp])\n",
    "sp_ii.interact()\n",
    "\n"
   ]
  },
  {
   "cell_type": "code",
   "execution_count": null,
   "metadata": {},
   "outputs": [],
   "source": [
    "sz_ssp.Q"
   ]
  },
  {
   "cell_type": "code",
   "execution_count": 7,
   "metadata": {},
   "outputs": [
    {
     "data": {
      "text/plain": [
       "147.9289928979118"
      ]
     },
     "execution_count": 7,
     "metadata": {},
     "output_type": "execute_result"
    }
   ],
   "source": [
    "import numpy as np\n",
    "np.sum(sz_ssp.tau_z)"
   ]
  },
  {
   "cell_type": "code",
   "execution_count": null,
   "metadata": {},
   "outputs": [],
   "source": []
  }
 ],
 "metadata": {
  "kernelspec": {
   "display_name": "Python 3",
   "language": "python",
   "name": "python3"
  },
  "language_info": {
   "codemirror_mode": {
    "name": "ipython",
    "version": 3
   },
   "file_extension": ".py",
   "mimetype": "text/x-python",
   "name": "python",
   "nbconvert_exporter": "python",
   "pygments_lexer": "ipython3",
   "version": "3.9.1"
  },
  "toc": {
   "base_numbering": 1,
   "nav_menu": {},
   "number_sections": true,
   "sideBar": true,
   "skip_h1_title": false,
   "title_cell": "Table of Contents",
   "title_sidebar": "Contents",
   "toc_cell": false,
   "toc_position": {},
   "toc_section_display": true,
   "toc_window_display": false
  }
 },
 "nbformat": 4,
 "nbformat_minor": 1
}
