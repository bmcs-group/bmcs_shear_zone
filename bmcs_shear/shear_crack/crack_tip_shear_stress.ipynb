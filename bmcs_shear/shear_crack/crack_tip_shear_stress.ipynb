{
 "cells": [
  {
   "cell_type": "code",
   "execution_count": 1,
   "metadata": {
    "scrolled": false
   },
   "outputs": [
    {
     "name": "stderr",
     "output_type": "stream",
     "text": [
      "<lambdifygenerated-22>:2: RuntimeWarning: invalid value encountered in sqrt\n",
      "  return (arctan((-sigma_x + sigma_y + sqrt(sigma_x**2 - 2*sigma_x*sigma_y + sigma_y**2 + (10*f_cm*f_ct - 5*f_cm*sigma_x - 5*f_cm*sigma_y + 4*f_ct*sigma_x + 4*f_ct*sigma_y + (5*f_cm + 4*f_ct)*(-sigma_x + sigma_y))*(10*f_cm*f_ct - 5*f_cm*sigma_x - 5*f_cm*sigma_y + 4*f_ct*sigma_x + 4*f_ct*sigma_y + (5*f_cm + 4*f_ct)*(sigma_x - sigma_y))/(5*f_cm + 4*f_ct)**2))/sqrt((10*f_cm*f_ct - 5*f_cm*sigma_x - 5*f_cm*sigma_y + 4*f_ct*sigma_x + 4*f_ct*sigma_y + (5*f_cm + 4*f_ct)*(-sigma_x + sigma_y))*(10*f_cm*f_ct - 5*f_cm*sigma_x - 5*f_cm*sigma_y + 4*f_ct*sigma_x + 4*f_ct*sigma_y + (5*f_cm + 4*f_ct)*(sigma_x - sigma_y))/(5*f_cm + 4*f_ct)**2)))\n",
      "<lambdifygenerated-22>:2: RuntimeWarning: invalid value encountered in sqrt\n",
      "  return (arctan((-sigma_x + sigma_y + sqrt(sigma_x**2 - 2*sigma_x*sigma_y + sigma_y**2 + (10*f_cm*f_ct - 5*f_cm*sigma_x - 5*f_cm*sigma_y + 4*f_ct*sigma_x + 4*f_ct*sigma_y + (5*f_cm + 4*f_ct)*(-sigma_x + sigma_y))*(10*f_cm*f_ct - 5*f_cm*sigma_x - 5*f_cm*sigma_y + 4*f_ct*sigma_x + 4*f_ct*sigma_y + (5*f_cm + 4*f_ct)*(sigma_x - sigma_y))/(5*f_cm + 4*f_ct)**2))/sqrt((10*f_cm*f_ct - 5*f_cm*sigma_x - 5*f_cm*sigma_y + 4*f_ct*sigma_x + 4*f_ct*sigma_y + (5*f_cm + 4*f_ct)*(-sigma_x + sigma_y))*(10*f_cm*f_ct - 5*f_cm*sigma_x - 5*f_cm*sigma_y + 4*f_ct*sigma_x + 4*f_ct*sigma_y + (5*f_cm + 4*f_ct)*(sigma_x - sigma_y))/(5*f_cm + 4*f_ct)**2)))\n",
      "<lambdifygenerated-22>:2: RuntimeWarning: invalid value encountered in sqrt\n",
      "  return (arctan((-sigma_x + sigma_y + sqrt(sigma_x**2 - 2*sigma_x*sigma_y + sigma_y**2 + (10*f_cm*f_ct - 5*f_cm*sigma_x - 5*f_cm*sigma_y + 4*f_ct*sigma_x + 4*f_ct*sigma_y + (5*f_cm + 4*f_ct)*(-sigma_x + sigma_y))*(10*f_cm*f_ct - 5*f_cm*sigma_x - 5*f_cm*sigma_y + 4*f_ct*sigma_x + 4*f_ct*sigma_y + (5*f_cm + 4*f_ct)*(sigma_x - sigma_y))/(5*f_cm + 4*f_ct)**2))/sqrt((10*f_cm*f_ct - 5*f_cm*sigma_x - 5*f_cm*sigma_y + 4*f_ct*sigma_x + 4*f_ct*sigma_y + (5*f_cm + 4*f_ct)*(-sigma_x + sigma_y))*(10*f_cm*f_ct - 5*f_cm*sigma_x - 5*f_cm*sigma_y + 4*f_ct*sigma_x + 4*f_ct*sigma_y + (5*f_cm + 4*f_ct)*(sigma_x - sigma_y))/(5*f_cm + 4*f_ct)**2)))\n",
      "<lambdifygenerated-22>:2: RuntimeWarning: invalid value encountered in sqrt\n",
      "  return (arctan((-sigma_x + sigma_y + sqrt(sigma_x**2 - 2*sigma_x*sigma_y + sigma_y**2 + (10*f_cm*f_ct - 5*f_cm*sigma_x - 5*f_cm*sigma_y + 4*f_ct*sigma_x + 4*f_ct*sigma_y + (5*f_cm + 4*f_ct)*(-sigma_x + sigma_y))*(10*f_cm*f_ct - 5*f_cm*sigma_x - 5*f_cm*sigma_y + 4*f_ct*sigma_x + 4*f_ct*sigma_y + (5*f_cm + 4*f_ct)*(sigma_x - sigma_y))/(5*f_cm + 4*f_ct)**2))/sqrt((10*f_cm*f_ct - 5*f_cm*sigma_x - 5*f_cm*sigma_y + 4*f_ct*sigma_x + 4*f_ct*sigma_y + (5*f_cm + 4*f_ct)*(-sigma_x + sigma_y))*(10*f_cm*f_ct - 5*f_cm*sigma_x - 5*f_cm*sigma_y + 4*f_ct*sigma_x + 4*f_ct*sigma_y + (5*f_cm + 4*f_ct)*(sigma_x - sigma_y))/(5*f_cm + 4*f_ct)**2)))\n",
      "<lambdifygenerated-21>:2: RuntimeWarning: invalid value encountered in sqrt\n",
      "  return ((1/2)*sqrt((10*f_cm*f_ct - 5*f_cm*sigma_x - 5*f_cm*sigma_y + 4*f_ct*sigma_x + 4*f_ct*sigma_y + (5*f_cm + 4*f_ct)*(-sigma_x + sigma_y))*(10*f_cm*f_ct - 5*f_cm*sigma_x - 5*f_cm*sigma_y + 4*f_ct*sigma_x + 4*f_ct*sigma_y + (5*f_cm + 4*f_ct)*(sigma_x - sigma_y))/(5*f_cm + 4*f_ct)**2))\n",
      "<lambdifygenerated-22>:2: RuntimeWarning: invalid value encountered in sqrt\n",
      "  return (arctan((-sigma_x + sigma_y + sqrt(sigma_x**2 - 2*sigma_x*sigma_y + sigma_y**2 + (10*f_cm*f_ct - 5*f_cm*sigma_x - 5*f_cm*sigma_y + 4*f_ct*sigma_x + 4*f_ct*sigma_y + (5*f_cm + 4*f_ct)*(-sigma_x + sigma_y))*(10*f_cm*f_ct - 5*f_cm*sigma_x - 5*f_cm*sigma_y + 4*f_ct*sigma_x + 4*f_ct*sigma_y + (5*f_cm + 4*f_ct)*(sigma_x - sigma_y))/(5*f_cm + 4*f_ct)**2))/sqrt((10*f_cm*f_ct - 5*f_cm*sigma_x - 5*f_cm*sigma_y + 4*f_ct*sigma_x + 4*f_ct*sigma_y + (5*f_cm + 4*f_ct)*(-sigma_x + sigma_y))*(10*f_cm*f_ct - 5*f_cm*sigma_x - 5*f_cm*sigma_y + 4*f_ct*sigma_x + 4*f_ct*sigma_y + (5*f_cm + 4*f_ct)*(sigma_x - sigma_y))/(5*f_cm + 4*f_ct)**2)))\n",
      "<lambdifygenerated-21>:2: RuntimeWarning: invalid value encountered in sqrt\n",
      "  return ((1/2)*sqrt((10*f_cm*f_ct - 5*f_cm*sigma_x - 5*f_cm*sigma_y + 4*f_ct*sigma_x + 4*f_ct*sigma_y + (5*f_cm + 4*f_ct)*(-sigma_x + sigma_y))*(10*f_cm*f_ct - 5*f_cm*sigma_x - 5*f_cm*sigma_y + 4*f_ct*sigma_x + 4*f_ct*sigma_y + (5*f_cm + 4*f_ct)*(sigma_x - sigma_y))/(5*f_cm + 4*f_ct)**2))\n",
      "<lambdifygenerated-22>:2: RuntimeWarning: invalid value encountered in sqrt\n",
      "  return (arctan((-sigma_x + sigma_y + sqrt(sigma_x**2 - 2*sigma_x*sigma_y + sigma_y**2 + (10*f_cm*f_ct - 5*f_cm*sigma_x - 5*f_cm*sigma_y + 4*f_ct*sigma_x + 4*f_ct*sigma_y + (5*f_cm + 4*f_ct)*(-sigma_x + sigma_y))*(10*f_cm*f_ct - 5*f_cm*sigma_x - 5*f_cm*sigma_y + 4*f_ct*sigma_x + 4*f_ct*sigma_y + (5*f_cm + 4*f_ct)*(sigma_x - sigma_y))/(5*f_cm + 4*f_ct)**2))/sqrt((10*f_cm*f_ct - 5*f_cm*sigma_x - 5*f_cm*sigma_y + 4*f_ct*sigma_x + 4*f_ct*sigma_y + (5*f_cm + 4*f_ct)*(-sigma_x + sigma_y))*(10*f_cm*f_ct - 5*f_cm*sigma_x - 5*f_cm*sigma_y + 4*f_ct*sigma_x + 4*f_ct*sigma_y + (5*f_cm + 4*f_ct)*(sigma_x - sigma_y))/(5*f_cm + 4*f_ct)**2)))\n",
      "<lambdifygenerated-21>:2: RuntimeWarning: invalid value encountered in sqrt\n",
      "  return ((1/2)*sqrt((10*f_cm*f_ct - 5*f_cm*sigma_x - 5*f_cm*sigma_y + 4*f_ct*sigma_x + 4*f_ct*sigma_y + (5*f_cm + 4*f_ct)*(-sigma_x + sigma_y))*(10*f_cm*f_ct - 5*f_cm*sigma_x - 5*f_cm*sigma_y + 4*f_ct*sigma_x + 4*f_ct*sigma_y + (5*f_cm + 4*f_ct)*(sigma_x - sigma_y))/(5*f_cm + 4*f_ct)**2))\n"
     ]
    },
    {
     "data": {
      "application/vnd.jupyter.widget-view+json": {
       "model_id": "b0ee712608994133a69c49a05da2307f",
       "version_major": 2,
       "version_minor": 0
      },
      "text/plain": [
       "VBox(children=(HBox(children=(VBox(children=(Tree(layout=Layout(align_items='stretch', border='solid 1px black…"
      ]
     },
     "metadata": {},
     "output_type": "display_data"
    }
   ],
   "source": [
    "%matplotlib widget\n",
    "\n",
    "from bmcs_shear.shear_crack.crack_tip_rotation import SZCrackTipRotation\n",
    "from bmcs_shear.shear_crack.crack_path import SZCrackPath\n",
    "from bmcs_shear.shear_crack.crack_tip_shear_stress import SZCrackTipShearStress\n",
    "from bmcs_shear.shear_crack.crack_tip_shear_stress_local import SZCrackTipShearStressLocal\n",
    "from bmcs_utils.api import InteractiveWindow\n",
    "\n",
    "# In[87]:\n",
    "\n",
    "#ctr = SZCrackTipRotation() # L_fps=20, w=1)\n",
    "#cp = SZCrackPath(sz_ctr=ctr, x_00=400)\n",
    "#cp.add_x_tip_an([400, 50])\n",
    "#cp.add_x_tip_an([300, 80])\n",
    "sz_ssp = SZCrackTipShearStressLocal() #sz_cp=cp\n",
    "# sz_ssp.Q, sz_ssp.tau_x_tip_1k\n",
    "\n",
    "# # In[88]:\n",
    "\n",
    "\n",
    "# #sp_ii = InteractiveWindow([sz_ssp, sz_ssp.sz_cp.sz_ctr, sz_ssp.sz_stress_profile, sz_ssp.sz_stress_profile.ds,\n",
    "#                            sz_ssp.sz_cp])\n",
    "# sp_ii.interact()\n",
    "\n",
    "sz_ssp.interact()"
   ]
  },
  {
   "cell_type": "code",
   "execution_count": 2,
   "metadata": {},
   "outputs": [
    {
     "name": "stderr",
     "output_type": "stream",
     "text": [
      "<lambdifygenerated-22>:2: RuntimeWarning: invalid value encountered in sqrt\n",
      "  return (select([less(f_c, -35.7142857142857*d_a**(-0.32)*f_c**(-0.18)*f_t**2*w),less_equal(w, 0.028*d_a**0.32*f_c**0.18/f_t),less_equal(w, 0.14392*d_a**0.32*f_c**0.18/f_t),True], [-f_c,35.7142857142857*d_a**(-0.32)*f_c**(-0.18)*f_t**2*w,f_t*exp(-35.7142857142857*d_a**(-0.32)*f_c**(-0.18)*f_t*(-0.028*d_a**0.32*f_c**0.18/f_t + w)),select([greater(w, 0.028*d_a**0.32*f_c**0.18/f_t)], [-0.62*s*(s**2/w**2 + 1)**(-0.25)*select([less_equal(w, 0),True], [0,0.25*f_c*s*(-sqrt(2)*sqrt(w/d_a) + 1)*((2.44 - 39.04/f_c)*abs(s/w)**3 + 9.8/f_c)/(w*(s**4*(2.44 - 39.04/f_c)/w**4 + 1))], default=nan)/sqrt(w)], default=nan)], default=nan))\n",
      "<lambdifygenerated-23>:2: RuntimeWarning: invalid value encountered in sqrt\n",
      "  return (select([less_equal(w, 0),True], [0,0.25*f_c*s*(-sqrt(2)*sqrt(w/d_a) + 1)*((2.44 - 39.04/f_c)*abs(s/w)**3 + 9.8/f_c)/(w*(s**4*(2.44 - 39.04/f_c)/w**4 + 1))], default=nan))\n"
     ]
    },
    {
     "data": {
      "application/vnd.jupyter.widget-view+json": {
       "model_id": "31d53d8b16de4f49aa2c4da56907acef",
       "version_major": 2,
       "version_minor": 0
      },
      "text/plain": [
       "VBox(children=(HBox(children=(VBox(children=(Tree(layout=Layout(align_items='stretch', border='solid 1px black…"
      ]
     },
     "metadata": {},
     "output_type": "display_data"
    }
   ],
   "source": [
    "%matplotlib widget\n",
    "\n",
    "from bmcs_shear.shear_crack.crack_tip_rotation import SZCrackTipRotation\n",
    "from bmcs_shear.shear_crack.crack_path import SZCrackPath\n",
    "from bmcs_shear.shear_crack.crack_tip_shear_stress import SZCrackTipShearStress\n",
    "from bmcs_shear.shear_crack.crack_tip_shear_stress_global import SZCrackTipShearStressGlobal\n",
    "from bmcs_utils.api import InteractiveWindow\n",
    "\n",
    "# In[87]:\n",
    "\n",
    "#ctr = SZCrackTipRotation() # L_fps=20, w=1)\n",
    "#cp = SZCrackPath(sz_ctr=ctr, x_00=400)\n",
    "#cp.add_x_tip_an([400, 50])\n",
    "#cp.add_x_tip_an([300, 80])\n",
    "sz_ssp = SZCrackTipShearStressGlobal() #sz_cp=cp\n",
    "# sz_ssp.Q, sz_ssp.tau_x_tip_1k\n",
    "\n",
    "# # In[88]:\n",
    "\n",
    "\n",
    "# #sp_ii = InteractiveWindow([sz_ssp, sz_ssp.sz_cp.sz_ctr, sz_ssp.sz_stress_profile, sz_ssp.sz_stress_profile.ds,\n",
    "#                            sz_ssp.sz_cp])\n",
    "# sp_ii.interact()\n",
    "\n",
    "sz_ssp.interact()"
   ]
  },
  {
   "cell_type": "code",
   "execution_count": null,
   "metadata": {},
   "outputs": [],
   "source": [
    "import numpy as np\n",
    "idx_tip = np.argmax( sz_ssp.sz_cp.x_Ka[:,1] >= sz_ssp.sz_cp.get_x_tip_an()[1] )\n",
    "N_c = np.sum(sz_ssp.sz_stress_profile.F_La[idx_tip:,0])"
   ]
  },
  {
   "cell_type": "code",
   "execution_count": null,
   "metadata": {},
   "outputs": [],
   "source": [
    "sz_ssp.sz_cp.sz_ctr.x_tip_ak[:,0]"
   ]
  },
  {
   "cell_type": "code",
   "execution_count": null,
   "metadata": {},
   "outputs": [],
   "source": [
    "import numpy as np\n",
    "np.sum(sz_ssp.tau_z)"
   ]
  },
  {
   "cell_type": "code",
   "execution_count": null,
   "metadata": {},
   "outputs": [],
   "source": [
    "sz_ssp.sigma_c"
   ]
  },
  {
   "cell_type": "code",
   "execution_count": null,
   "metadata": {},
   "outputs": [],
   "source": []
  }
 ],
 "metadata": {
  "kernelspec": {
   "display_name": "Python 3",
   "language": "python",
   "name": "python3"
  },
  "language_info": {
   "codemirror_mode": {
    "name": "ipython",
    "version": 3
   },
   "file_extension": ".py",
   "mimetype": "text/x-python",
   "name": "python",
   "nbconvert_exporter": "python",
   "pygments_lexer": "ipython3",
   "version": "3.9.1"
  },
  "toc": {
   "base_numbering": 1,
   "nav_menu": {},
   "number_sections": true,
   "sideBar": true,
   "skip_h1_title": false,
   "title_cell": "Table of Contents",
   "title_sidebar": "Contents",
   "toc_cell": false,
   "toc_position": {},
   "toc_section_display": true,
   "toc_window_display": false
  }
 },
 "nbformat": 4,
 "nbformat_minor": 1
}
