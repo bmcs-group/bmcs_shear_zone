{
 "cells": [
  {
   "cell_type": "code",
   "execution_count": 1,
   "metadata": {},
   "outputs": [
    {
     "name": "stderr",
     "output_type": "stream",
     "text": [
      "<lambdifygenerated-24>:2: RuntimeWarning: invalid value encountered in sqrt\n",
      "  return (select([less_equal(w, 0),True], [0,0.25*f_c*s*(-sqrt(2)*sqrt(w/d_a) + 1)*((2.44 - 39.04/f_c)*abs(s/w)**3 + 9.8/f_c)/(w*(s**4*(2.44 - 39.04/f_c)/w**4 + 1))], default=nan))\n"
     ]
    },
    {
     "ename": "TraitError",
     "evalue": "The 'model' trait of an AppWindow instance must be an IModel or None, but a value of [<bmcs_shear.shear_crack.crack_tip_shear_stress.SZCrackTipShearStress object at 0x00000217EAF1A4A0>, <bmcs_shear.shear_crack.crack_tip_rotation.SZCrackTipRotation object at 0x00000217EAC8A590>, <bmcs_shear.shear_crack.stress_profile.SZStressProfile object at 0x00000217EAF1AB80>, <bmcs_shear.shear_crack.deformed_state.SZDeformedState object at 0x00000217EAEF9950>, <bmcs_shear.shear_crack.crack_path.SZCrackPath object at 0x00000217EAECAEF0>] <class 'list'> was specified.",
     "output_type": "error",
     "traceback": [
      "\u001b[1;31m---------------------------------------------------------------------------\u001b[0m",
      "\u001b[1;31mTraitError\u001b[0m                                Traceback (most recent call last)",
      "\u001b[1;32m<ipython-input-1-32e4453bffe6>\u001b[0m in \u001b[0;36m<module>\u001b[1;34m\u001b[0m\n\u001b[0;32m     18\u001b[0m \u001b[1;33m\u001b[0m\u001b[0m\n\u001b[0;32m     19\u001b[0m \u001b[1;33m\u001b[0m\u001b[0m\n\u001b[1;32m---> 20\u001b[1;33m sp_ii = InteractiveWindow([sz_ssp, sz_ssp.sz_cp.sz_ctr, sz_ssp.sz_stress_profile, sz_ssp.sz_stress_profile.ds,\n\u001b[0m\u001b[0;32m     21\u001b[0m                            sz_ssp.sz_cp])\n\u001b[0;32m     22\u001b[0m \u001b[0msp_ii\u001b[0m\u001b[1;33m.\u001b[0m\u001b[0minteract\u001b[0m\u001b[1;33m(\u001b[0m\u001b[1;33m)\u001b[0m\u001b[1;33m\u001b[0m\u001b[1;33m\u001b[0m\u001b[0m\n",
      "\u001b[1;32mc:\\users\\fahad\\pycharmprojects\\bmcs_utils\\bmcs_utils\\app_window.py\u001b[0m in \u001b[0;36m__init__\u001b[1;34m(self, model, **kw)\u001b[0m\n\u001b[0;32m     87\u001b[0m     \u001b[1;32mdef\u001b[0m \u001b[0m__init__\u001b[0m\u001b[1;33m(\u001b[0m\u001b[0mself\u001b[0m\u001b[1;33m,\u001b[0m \u001b[0mmodel\u001b[0m\u001b[1;33m,\u001b[0m \u001b[1;33m**\u001b[0m\u001b[0mkw\u001b[0m\u001b[1;33m)\u001b[0m\u001b[1;33m:\u001b[0m\u001b[1;33m\u001b[0m\u001b[1;33m\u001b[0m\u001b[0m\n\u001b[0;32m     88\u001b[0m         \u001b[0msuper\u001b[0m\u001b[1;33m(\u001b[0m\u001b[0mAppWindow\u001b[0m\u001b[1;33m,\u001b[0m \u001b[0mself\u001b[0m\u001b[1;33m)\u001b[0m\u001b[1;33m.\u001b[0m\u001b[0m__init__\u001b[0m\u001b[1;33m(\u001b[0m\u001b[1;33m**\u001b[0m\u001b[0mkw\u001b[0m\u001b[1;33m)\u001b[0m\u001b[1;33m\u001b[0m\u001b[1;33m\u001b[0m\u001b[0m\n\u001b[1;32m---> 89\u001b[1;33m         \u001b[0mself\u001b[0m\u001b[1;33m.\u001b[0m\u001b[0mmodel\u001b[0m \u001b[1;33m=\u001b[0m \u001b[0mmodel\u001b[0m\u001b[1;33m\u001b[0m\u001b[1;33m\u001b[0m\u001b[0m\n\u001b[0m\u001b[0;32m     90\u001b[0m         \u001b[0mself\u001b[0m\u001b[1;33m.\u001b[0m\u001b[0moutput\u001b[0m \u001b[1;33m=\u001b[0m \u001b[0mipw\u001b[0m\u001b[1;33m.\u001b[0m\u001b[0mOutput\u001b[0m\u001b[1;33m(\u001b[0m\u001b[1;33m)\u001b[0m\u001b[1;33m\u001b[0m\u001b[1;33m\u001b[0m\u001b[0m\n\u001b[0;32m     91\u001b[0m \u001b[1;33m\u001b[0m\u001b[0m\n",
      "\u001b[1;32m~\\Anaconda3\\envs\\bmcs_env\\lib\\site-packages\\traits\\base_trait_handler.py\u001b[0m in \u001b[0;36merror\u001b[1;34m(self, object, name, value)\u001b[0m\n\u001b[0;32m     72\u001b[0m             \u001b[0mThe\u001b[0m \u001b[0mproposed\u001b[0m \u001b[0mnew\u001b[0m \u001b[0mvalue\u001b[0m \u001b[1;32mfor\u001b[0m \u001b[0mthe\u001b[0m \u001b[0mattribute\u001b[0m\u001b[1;33m.\u001b[0m\u001b[1;33m\u001b[0m\u001b[1;33m\u001b[0m\u001b[0m\n\u001b[0;32m     73\u001b[0m         \"\"\"\n\u001b[1;32m---> 74\u001b[1;33m         raise TraitError(\n\u001b[0m\u001b[0;32m     75\u001b[0m             \u001b[0mobject\u001b[0m\u001b[1;33m,\u001b[0m \u001b[0mname\u001b[0m\u001b[1;33m,\u001b[0m \u001b[0mself\u001b[0m\u001b[1;33m.\u001b[0m\u001b[0mfull_info\u001b[0m\u001b[1;33m(\u001b[0m\u001b[0mobject\u001b[0m\u001b[1;33m,\u001b[0m \u001b[0mname\u001b[0m\u001b[1;33m,\u001b[0m \u001b[0mvalue\u001b[0m\u001b[1;33m)\u001b[0m\u001b[1;33m,\u001b[0m \u001b[0mvalue\u001b[0m\u001b[1;33m\u001b[0m\u001b[1;33m\u001b[0m\u001b[0m\n\u001b[0;32m     76\u001b[0m         )\n",
      "\u001b[1;31mTraitError\u001b[0m: The 'model' trait of an AppWindow instance must be an IModel or None, but a value of [<bmcs_shear.shear_crack.crack_tip_shear_stress.SZCrackTipShearStress object at 0x00000217EAF1A4A0>, <bmcs_shear.shear_crack.crack_tip_rotation.SZCrackTipRotation object at 0x00000217EAC8A590>, <bmcs_shear.shear_crack.stress_profile.SZStressProfile object at 0x00000217EAF1AB80>, <bmcs_shear.shear_crack.deformed_state.SZDeformedState object at 0x00000217EAEF9950>, <bmcs_shear.shear_crack.crack_path.SZCrackPath object at 0x00000217EAECAEF0>] <class 'list'> was specified."
     ]
    }
   ],
   "source": [
    "%matplotlib widget\n",
    "\n",
    "from bmcs_shear.shear_crack.crack_tip_rotation import SZCrackTipRotation\n",
    "from bmcs_shear.shear_crack.crack_path import SZCrackPath\n",
    "from bmcs_shear.shear_crack.crack_tip_shear_stress import SZCrackTipShearStress\n",
    "from bmcs_utils.api import InteractiveWindow\n",
    "\n",
    "# In[87]:\n",
    "\n",
    "ctr = SZCrackTipRotation() # L_fps=20, w=1)\n",
    "cp = SZCrackPath(sz_ctr=ctr, x_00=400)\n",
    "cp.add_x_tip_an([400, 50])\n",
    "cp.add_x_tip_an([300, 80])\n",
    "sz_ssp = SZCrackTipShearStress(sz_cp=cp)\n",
    "sz_ssp.Q, sz_ssp.tau_x_tip_1k\n",
    "\n",
    "# In[88]:\n",
    "\n",
    "\n",
    "sp_ii = InteractiveWindow([sz_ssp, sz_ssp.sz_cp.sz_ctr, sz_ssp.sz_stress_profile, sz_ssp.sz_stress_profile.ds,\n",
    "                           sz_ssp.sz_cp])\n",
    "sp_ii.interact()\n",
    "\n"
   ]
  },
  {
   "cell_type": "code",
   "execution_count": null,
   "metadata": {},
   "outputs": [],
   "source": [
    "import numpy as np\n",
    "idx_tip = np.argmax( sz_ssp.sz_cp.x_Ka[:,1] >= sz_ssp.sz_cp.get_x_tip_an()[1] )\n",
    "N_c = np.sum(sz_ssp.sz_stress_profile.F_La[idx_tip:,0])"
   ]
  },
  {
   "cell_type": "code",
   "execution_count": null,
   "metadata": {},
   "outputs": [],
   "source": [
    "sz_ssp.sz_cp.sz_ctr.x_tip_ak[:,0]"
   ]
  },
  {
   "cell_type": "code",
   "execution_count": null,
   "metadata": {},
   "outputs": [],
   "source": [
    "import numpy as np\n",
    "np.sum(sz_ssp.tau_z)"
   ]
  },
  {
   "cell_type": "code",
   "execution_count": null,
   "metadata": {},
   "outputs": [],
   "source": [
    "sz_ssp.sigma_c"
   ]
  },
  {
   "cell_type": "code",
   "execution_count": null,
   "metadata": {},
   "outputs": [],
   "source": []
  }
 ],
 "metadata": {
  "kernelspec": {
   "display_name": "Python 3",
   "language": "python",
   "name": "python3"
  },
  "language_info": {
   "codemirror_mode": {
    "name": "ipython",
    "version": 3
   },
   "file_extension": ".py",
   "mimetype": "text/x-python",
   "name": "python",
   "nbconvert_exporter": "python",
   "pygments_lexer": "ipython3",
   "version": "3.9.1"
  },
  "toc": {
   "base_numbering": 1,
   "nav_menu": {},
   "number_sections": true,
   "sideBar": true,
   "skip_h1_title": false,
   "title_cell": "Table of Contents",
   "title_sidebar": "Contents",
   "toc_cell": false,
   "toc_position": {},
   "toc_section_display": true,
   "toc_window_display": false
  }
 },
 "nbformat": 4,
 "nbformat_minor": 1
}
