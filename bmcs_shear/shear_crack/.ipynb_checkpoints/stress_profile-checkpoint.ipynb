{
 "cells": [
  {
   "cell_type": "code",
   "execution_count": 1,
   "metadata": {},
   "outputs": [],
   "source": [
    "%matplotlib widget\n",
    "\n",
    "from bmcs_shear.shear_crack.crack_path import SZCrackPath\n",
    "from bmcs_shear.shear_crack.deformed_state import SZDeformedState\n",
    "from bmcs_shear.shear_crack.stress_profile import SZStressProfile\n",
    "import numpy as np\n",
    "np.seterr(divide='ignore', invalid='ignore') ;"
   ]
  },
  {
   "cell_type": "code",
   "execution_count": 2,
   "metadata": {
    "pycharm": {
     "name": "#%%\n"
    }
   },
   "outputs": [],
   "source": [
    "sz_sp = SZStressProfile()\n",
    "sz_ds = sz_sp.sz_ds\n",
    "sz_cp = sz_sp.sz_cp\n",
    "sz_cp.add_x_tip_an([400 ,10])\n",
    "sz_cp.add_x_tip_an([300 ,80])"
   ]
  },
  {
   "cell_type": "code",
   "execution_count": 3,
   "metadata": {},
   "outputs": [],
   "source": [
    "sz_cp.state_change_debug=True\n",
    "sz_ds.state_change_debug=True\n",
    "sz_sp.state_change_debug=True"
   ]
  },
  {
   "cell_type": "code",
   "execution_count": 4,
   "metadata": {},
   "outputs": [
    {
     "name": "stdout",
     "output_type": "stream",
     "text": [
      "state_changed <bmcs_shear.shear_crack.crack_path.SZCrackPath object at 0x7f5c54695b80> TraitChangeEvent(object=<bmcs_shear.shear_crack.crack_tip_rotation.SZCrackTipRotation object at 0x7f5c545cf1d0>, name='state_changed', old=<undefined>, new=True)\n",
      "state_changed <bmcs_shear.shear_crack.deformed_state.SZDeformedState object at 0x7f5c54917f90> TraitChangeEvent(object=<bmcs_shear.shear_crack.crack_path.SZCrackPath object at 0x7f5c54695b80>, name='state_changed', old=<undefined>, new=True)\n",
      "state_changed <bmcs_shear.shear_crack.stress_profile.SZStressProfile object at 0x7f5cb09768b0> TraitChangeEvent(object=<bmcs_shear.shear_crack.deformed_state.SZDeformedState object at 0x7f5c54917f90>, name='state_changed', old=<undefined>, new=True)\n",
      "[300. 130.] [3.00283991e+02 4.03253948e-04]\n",
      "state_changed <bmcs_shear.shear_crack.crack_path.SZCrackPath object at 0x7f5c54695b80> TraitChangeEvent(object=<bmcs_shear.shear_crack.crack_tip_rotation.SZCrackTipRotation object at 0x7f5c545cf1d0>, name='state_changed', old=<undefined>, new=True)\n",
      "state_changed <bmcs_shear.shear_crack.deformed_state.SZDeformedState object at 0x7f5c54917f90> TraitChangeEvent(object=<bmcs_shear.shear_crack.crack_path.SZCrackPath object at 0x7f5c54695b80>, name='state_changed', old=<undefined>, new=True)\n",
      "state_changed <bmcs_shear.shear_crack.stress_profile.SZStressProfile object at 0x7f5cb09768b0> TraitChangeEvent(object=<bmcs_shear.shear_crack.deformed_state.SZDeformedState object at 0x7f5c54917f90>, name='state_changed', old=<undefined>, new=True)\n",
      "[276.02872307 123.87912809] [3.00177206e+02 4.26445770e-02]\n"
     ]
    }
   ],
   "source": [
    "sz_cp.sz_ctr.psi = 0.0\n",
    "print(sz_cp.x_Ia[-1], sz_ds.x1_Ia[0])\n",
    "sz_cp.sz_ctr.psi = 0.5\n",
    "print(sz_cp.x_Ia[-1], sz_ds.x1_Ia[0])"
   ]
  },
  {
   "cell_type": "code",
   "execution_count": 5,
   "metadata": {
    "pycharm": {
     "name": "#%%\n"
    }
   },
   "outputs": [
    {
     "data": {
      "application/vnd.jupyter.widget-view+json": {
       "model_id": "f46a57b647a640c8b726ef41eeb86383",
       "version_major": 2,
       "version_minor": 0
      },
      "text/plain": [
       "VBox(children=(HBox(children=(VBox(children=(Tree(layout=Layout(align_items='stretch', border='solid 1px black…"
      ]
     },
     "metadata": {},
     "output_type": "display_data"
    }
   ],
   "source": [
    "sz_sp.interact()"
   ]
  },
  {
   "cell_type": "code",
   "execution_count": 4,
   "metadata": {},
   "outputs": [
    {
     "data": {
      "application/vnd.jupyter.widget-view+json": {
       "model_id": "6031488d6271464ca76fd73a3c225d1b",
       "version_major": 2,
       "version_minor": 0
      },
      "text/plain": [
       "VBox(children=(HBox(children=(VBox(children=(Tree(layout=Layout(align_items='stretch', border='solid 1px black…"
      ]
     },
     "metadata": {},
     "output_type": "display_data"
    }
   ],
   "source": [
    "cp = SZCrackPath(x_00=400, n_m=10)\n",
    "sz_sp = SZStressProfile(sz_cp=cp)\n",
    "cp.add_x_tip_an([400 ,100])\n",
    "sz_sp.ds.sz_cp.sz_bd.matrix_.L_fps = 200\n",
    "sz_sp.interact()"
   ]
  },
  {
   "cell_type": "code",
   "execution_count": null,
   "metadata": {},
   "outputs": [],
   "source": []
  },
  {
   "cell_type": "code",
   "execution_count": null,
   "metadata": {},
   "outputs": [],
   "source": []
  }
 ],
 "metadata": {
  "kernelspec": {
   "display_name": "bmcs_env",
   "language": "python",
   "name": "bmcs_env"
  },
  "language_info": {
   "codemirror_mode": {
    "name": "ipython",
    "version": 3
   },
   "file_extension": ".py",
   "mimetype": "text/x-python",
   "name": "python",
   "nbconvert_exporter": "python",
   "pygments_lexer": "ipython3",
   "version": "3.8.8"
  },
  "toc": {
   "base_numbering": 1,
   "nav_menu": {},
   "number_sections": true,
   "sideBar": true,
   "skip_h1_title": false,
   "title_cell": "Table of Contents",
   "title_sidebar": "Contents",
   "toc_cell": false,
   "toc_position": {
    "height": "calc(100% - 180px)",
    "left": "10px",
    "top": "150px",
    "width": "165px"
   },
   "toc_section_display": true,
   "toc_window_display": false
  }
 },
 "nbformat": 4,
 "nbformat_minor": 4
}
