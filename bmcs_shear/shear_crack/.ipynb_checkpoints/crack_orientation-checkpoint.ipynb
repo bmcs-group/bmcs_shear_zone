{
 "cells": [
  {
   "cell_type": "code",
   "execution_count": null,
   "metadata": {
    "pycharm": {
     "name": "#%%\n"
    }
   },
   "outputs": [],
   "source": [
    "import sympy as sp\n",
    "import numpy as np\n",
    "import matplotlib.pylab as plt\n",
    "sp.init_printing()"
   ]
  },
  {
   "cell_type": "markdown",
   "metadata": {},
   "source": [
    "# Principal stress directions in FPS"
   ]
  },
  {
   "cell_type": "markdown",
   "metadata": {},
   "source": [
    "The corresponding tensile stress at this position which must be perpendicular to the crack propagation\n",
    "\\begin{align}\n",
    "\\sigma^{\\mathrm{tip},\\psi}_1 = f_{\\mathrm{t}}\n",
    "\\end{align}"
   ]
  },
  {
   "cell_type": "markdown",
   "metadata": {},
   "source": [
    "\\begin{align}\n",
    "\\sigma_{ij} =\n",
    "\\left[\n",
    "\\begin{array}{cc}\n",
    "\\sigma_{x} & \\tau^\\mathrm{tip} \\\\\n",
    "\\tau^\\mathrm{tip} & \\sigma_{z}\n",
    "\\end{array}\n",
    "\\right]\n",
    "\\end{align}"
   ]
  },
  {
   "cell_type": "code",
   "execution_count": null,
   "metadata": {
    "pycharm": {
     "name": "#%%\n"
    }
   },
   "outputs": [],
   "source": [
    "tau_tip, sigma_x, sigma_z = sp.symbols(r'\\tau^\\mathrm{tip}, sigma_x, sigma_z')"
   ]
  },
  {
   "cell_type": "code",
   "execution_count": null,
   "metadata": {
    "pycharm": {
     "name": "#%%\n"
    }
   },
   "outputs": [],
   "source": [
    "f_ct = sp.Symbol('f_{\\mathrm{ct}}', nonnegative=True)"
   ]
  },
  {
   "cell_type": "code",
   "execution_count": null,
   "metadata": {
    "pycharm": {
     "name": "#%%\n"
    }
   },
   "outputs": [],
   "source": [
    "sigma_xz = sp.Matrix([[sigma_x, tau_tip],\n",
    "                     [tau_tip, sigma_z]])\n",
    "sigma_x0 = sigma_xz.subs(sigma_z,0)\n",
    "sigma_x0"
   ]
  },
  {
   "cell_type": "code",
   "execution_count": null,
   "metadata": {
    "pycharm": {
     "name": "#%%\n"
    }
   },
   "outputs": [],
   "source": [
    "P_xz, D_xz = sigma_xz.diagonalize()\n",
    "P_x0, D_x0 = P_xz.subs(sigma_z,0), D_xz.subs(sigma_z,0)\n",
    "D_x0"
   ]
  },
  {
   "cell_type": "code",
   "execution_count": null,
   "metadata": {
    "pycharm": {
     "name": "#%%\n"
    }
   },
   "outputs": [],
   "source": [
    "P_xz, D_xz"
   ]
  },
  {
   "cell_type": "code",
   "execution_count": null,
   "metadata": {
    "pycharm": {
     "name": "#%%\n"
    }
   },
   "outputs": [],
   "source": [
    "P_x0, D_x0"
   ]
  },
  {
   "cell_type": "code",
   "execution_count": null,
   "metadata": {
    "pycharm": {
     "name": "#%%\n"
    }
   },
   "outputs": [],
   "source": [
    "sp.simplify(P_xz* D_xz * P_xz**(-1))"
   ]
  },
  {
   "cell_type": "code",
   "execution_count": null,
   "metadata": {
    "pycharm": {
     "name": "#%%\n"
    }
   },
   "outputs": [],
   "source": [
    "sp.simplify(P_x0* D_x0 * P_x0**(-1))"
   ]
  },
  {
   "cell_type": "code",
   "execution_count": null,
   "metadata": {
    "pycharm": {
     "name": "#%%\n"
    }
   },
   "outputs": [],
   "source": [
    "subs_sigma_z = sp.solve({D_xz[1,1] - f_ct}, {sigma_z})[0]\n",
    "subs_sigma_z"
   ]
  },
  {
   "cell_type": "code",
   "execution_count": null,
   "metadata": {
    "pycharm": {
     "name": "#%%\n"
    }
   },
   "outputs": [],
   "source": [
    "sp.limit( sigma_z.subs(subs_sigma_z), sigma_x, f_ct)"
   ]
  },
  {
   "cell_type": "code",
   "execution_count": null,
   "metadata": {
    "pycharm": {
     "name": "#%%\n"
    }
   },
   "outputs": [],
   "source": [
    "sigma_xf = sigma_xz.subs(subs_sigma_z)\n",
    "sigma_xf"
   ]
  },
  {
   "cell_type": "code",
   "execution_count": null,
   "metadata": {
    "pycharm": {
     "name": "#%%\n"
    }
   },
   "outputs": [],
   "source": [
    "P_xf = P_xz.subs(subs_sigma_z)\n",
    "D_xf = D_xz.subs(subs_sigma_z)\n",
    "P_xf"
   ]
  },
  {
   "cell_type": "code",
   "execution_count": null,
   "metadata": {
    "pycharm": {
     "name": "#%%\n"
    }
   },
   "outputs": [],
   "source": [
    "theta_f = sp.atan( sp.simplify(-P_xf[0,0] / P_xf[1,0]))\n",
    "theta_0 = sp.atan( sp.simplify(-P_x0[0,0] / P_x0[1,0]))\n",
    "theta_f, theta_0"
   ]
  },
  {
   "cell_type": "code",
   "execution_count": null,
   "metadata": {
    "pycharm": {
     "name": "#%%\n"
    }
   },
   "outputs": [],
   "source": [
    "get_theta_f = sp.lambdify((tau_tip, sigma_x, f_ct), theta_f)\n",
    "get_theta_0 = sp.lambdify((tau_tip, sigma_x, f_ct), theta_0)"
   ]
  },
  {
   "cell_type": "code",
   "execution_count": null,
   "metadata": {
    "pycharm": {
     "name": "#%%\n"
    }
   },
   "outputs": [],
   "source": [
    "get_sigma_z = sp.lambdify((tau_tip, sigma_x, f_ct),sigma_z.subs(subs_sigma_z))"
   ]
  },
  {
   "cell_type": "code",
   "execution_count": null,
   "metadata": {
    "pycharm": {
     "name": "#%%\n"
    }
   },
   "outputs": [],
   "source": [
    "f_ct_val = 3"
   ]
  },
  {
   "cell_type": "code",
   "execution_count": null,
   "metadata": {
    "pycharm": {
     "name": "#%%\n"
    }
   },
   "outputs": [],
   "source": [
    "_, (ax1) = plt.subplots(1, 1, figsize=(10,5))\n",
    "sig_x = np.linspace(f_ct_val - 0.000001,-2*f_ct_val,100)\n",
    "eta = 0.01\n",
    "tau_xx = eta * f_ct_val\n",
    "th_f = get_theta_f(\n",
    "    tau_xx,sig_x[:, np.newaxis], f_ct_val)\n",
    "th_0 = get_theta_0(\n",
    "    tau_xx,sig_x[:, np.newaxis], f_ct_val)\n",
    "ax1.plot(sig_x, th_f/np.pi * 180, color='blue', lw=2);\n",
    "ax1.plot(sig_x, th_0/np.pi * 180, color='green', lw=2);"
   ]
  },
  {
   "cell_type": "code",
   "execution_count": null,
   "metadata": {
    "pycharm": {
     "name": "#%%\n"
    }
   },
   "outputs": [],
   "source": [
    "_, (ax1) = plt.subplots(1, 1, figsize=(10,5))\n",
    "tau_val = np.linspace(0.00001, 0.1, 100)\n",
    "th_f = get_theta_f(\n",
    "    tau_val[np.newaxis, :],\n",
    "    sig_x[:, np.newaxis], f_ct_val)\n",
    "sig_z = get_sigma_z(\n",
    "    tau_val[np.newaxis, :],\n",
    "    sig_x[:, np.newaxis], f_ct_val)\n",
    "ax1.plot(th_f, sig_z);"
   ]
  },
  {
   "cell_type": "code",
   "execution_count": null,
   "metadata": {
    "pycharm": {
     "name": "#%%\n"
    }
   },
   "outputs": [],
   "source": [
    "DELTA = np.ones(2)\n",
    "P_x0_norm = P_x0.norm()\n",
    "get_P_x0 = sp.lambdify((tau_tip, sigma_x, f_ct), P_x0, 'numpy')\n",
    "get_P_xf = sp.lambdify((tau_tip, sigma_x, f_ct), P_xf, 'numpy')\n",
    "get_D_x0 = sp.lambdify((tau_tip, sigma_x, f_ct), D_x0, 'numpy')\n",
    "get_D_xf = sp.lambdify((tau_tip, sigma_x, f_ct), D_xf, 'numpy')"
   ]
  },
  {
   "cell_type": "code",
   "execution_count": null,
   "metadata": {
    "pycharm": {
     "name": "#%%\n"
    }
   },
   "outputs": [],
   "source": [
    "def get_D_x0_vals(tau_val = 1, sig_val = 2.8, f_ct = 3.0):\n",
    "    D_x0_vals = get_D_x0(tau_val,sig_val, f_ct)\n",
    "    D_x0_vct = np.einsum('...i,...ij->...j', DELTA, D_x0_vals)\n",
    "    return D_x0_vct[np.newaxis,:]"
   ]
  },
  {
   "cell_type": "code",
   "execution_count": null,
   "metadata": {
    "pycharm": {
     "name": "#%%\n"
    }
   },
   "outputs": [],
   "source": [
    "def get_D_xf_vals(tau_val = 1, sig_val = 2.8, f_ct = 3):\n",
    "    D_xf_vals = get_D_xf(tau_val,sig_val,f_ct)\n",
    "    D_xf_vct = np.einsum('i,ij->j', DELTA, D_xf_vals)\n",
    "    return D_xf_vct[np.newaxis,:]"
   ]
  },
  {
   "cell_type": "code",
   "execution_count": null,
   "metadata": {
    "pycharm": {
     "name": "#%%\n"
    }
   },
   "outputs": [],
   "source": [
    "def get_T_x0_args(tau_val, sig_val, f_ct):\n",
    "    P_x0_vals = get_P_x0(tau_val,sig_val,f_ct)\n",
    "    print(P_x0_vals)\n",
    "    norm_P_x0_vals2 = np.sqrt(np.einsum('ij,ij->j', P_x0_vals, P_x0_vals))\n",
    "    T_x0 = P_x0_vals / norm_P_x0_vals2\n",
    "    T_x0_scaled = T_x0 * get_D_x0_vals(tau_val, sig_val, f_ct)\n",
    "    T_x0_0 = np.zeros_like(T_x0)\n",
    "    T_x0_args = np.einsum('ijk->jik', np.array([T_x0_0, T_x0_scaled]))\n",
    "    return T_x0_args"
   ]
  },
  {
   "cell_type": "code",
   "execution_count": null,
   "metadata": {
    "pycharm": {
     "name": "#%%\n"
    }
   },
   "outputs": [],
   "source": [
    "def get_T_xf_args(tau_val, sig_val, f_ct, pos = np.array([[0,0]])):\n",
    "    P_xf_vals = get_P_xf(tau_val,sig_val,f_ct)\n",
    "    norm_P_xf_vals2 = np.sqrt(np.einsum('ij,ij->j', P_xf_vals, P_xf_vals))\n",
    "    T_xf = P_xf_vals / norm_P_xf_vals2\n",
    "    T_xf_scaled = T_xf * get_D_xf_vals(tau_val, sig_val, f_ct)\n",
    "    T_xf_0 = np.zeros_like(T_xf)\n",
    "    T_vxt = np.array([T_xf_0, T_xf_scaled])\n",
    "    pos_lk = pos\n",
    "    T_xf_args = pos_lk[:,None,:, None] + T_vxt[None,:,:,:]\n",
    "    return np.einsum('lijk->jlik', T_xf_args)"
   ]
  },
  {
   "cell_type": "code",
   "execution_count": null,
   "metadata": {
    "pycharm": {
     "name": "#%%\n"
    }
   },
   "outputs": [],
   "source": [
    "tau_, sig_x_ = 1, 0.1\n",
    "T_xf_args = get_T_xf_args(2,sig_x_,3, np.array([[1,0]]))\n",
    "T_xf_args"
   ]
  },
  {
   "cell_type": "code",
   "execution_count": null,
   "metadata": {
    "pycharm": {
     "name": "#%%\n"
    }
   },
   "outputs": [],
   "source": [
    "sig_x_ = np.linspace(2.5, -2.5, 4)\n",
    "sig_z_ = get_sigma_z(tau_,sig_x_, f_ct_val)\n",
    "pos_lk = np.c_[sig_x_, sig_z_]\n",
    "pos_lk"
   ]
  },
  {
   "cell_type": "code",
   "execution_count": null,
   "metadata": {
    "pycharm": {
     "name": "#%%\n"
    }
   },
   "outputs": [],
   "source": [
    "tau_, sig_x_ = 1, 0.1\n",
    "T_x0_args = get_T_x0_args(tau_,sig_x_,3)\n",
    "T_xf_args = get_T_xf_args(tau_,sig_x_,3, pos_lk)\n",
    "fix, ax = plt.subplots(1,1)\n",
    "ax.axis('equal');\n",
    "ax.plot(*T_x0_args, color='blue');\n",
    "ax.plot(*T_xf_args.reshape(2,-1,2), color='green');"
   ]
  },
  {
   "cell_type": "code",
   "execution_count": null,
   "metadata": {
    "pycharm": {
     "name": "#%%\n"
    }
   },
   "outputs": [],
   "source": []
  },
  {
   "cell_type": "code",
   "execution_count": null,
   "metadata": {
    "pycharm": {
     "name": "#%%\n"
    }
   },
   "outputs": [],
   "source": []
  },
  {
   "cell_type": "code",
   "execution_count": null,
   "metadata": {
    "pycharm": {
     "name": "#%%\n"
    }
   },
   "outputs": [],
   "source": []
  },
  {
   "cell_type": "code",
   "execution_count": null,
   "metadata": {
    "pycharm": {
     "name": "#%%\n"
    }
   },
   "outputs": [],
   "source": []
  },
  {
   "cell_type": "code",
   "execution_count": null,
   "metadata": {
    "pycharm": {
     "name": "#%%\n"
    }
   },
   "outputs": [],
   "source": []
  },
  {
   "cell_type": "code",
   "execution_count": null,
   "metadata": {
    "pycharm": {
     "name": "#%%\n"
    }
   },
   "outputs": [],
   "source": []
  }
 ],
 "metadata": {
  "kernelspec": {
   "display_name": "Python 3",
   "language": "python",
   "name": "python3"
  },
  "language_info": {
   "codemirror_mode": {
    "name": "ipython",
    "version": 3
   },
   "file_extension": ".py",
   "mimetype": "text/x-python",
   "name": "python",
   "nbconvert_exporter": "python",
   "pygments_lexer": "ipython3"
  },
  "toc": {
   "base_numbering": 1,
   "nav_menu": {},
   "number_sections": true,
   "sideBar": true,
   "skip_h1_title": false,
   "title_cell": "Table of Contents",
   "title_sidebar": "Contents",
   "toc_cell": false,
   "toc_position": {},
   "toc_section_display": true,
   "toc_window_display": false
  }
 },
 "nbformat": 4,
 "nbformat_minor": 1
}
