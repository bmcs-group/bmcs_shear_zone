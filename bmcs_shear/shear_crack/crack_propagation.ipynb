{
 "cells": [
  {
   "cell_type": "markdown",
   "metadata": {},
   "source": [
    "# 2D Crack propagation in a bended beam"
   ]
  },
  {
   "cell_type": "markdown",
   "metadata": {},
   "source": [
    " - @todo: Plot the residual value\n",
    " - @todo: State dependencies - recalculate upon material parameter change"
   ]
  },
  {
   "cell_type": "code",
   "execution_count": 1,
   "metadata": {
    "scrolled": true
   },
   "outputs": [],
   "source": [
    "%matplotlib widget\n",
    "import bmcs_utils.api as bu\n",
    "from bmcs_shear.shear_crack.crack_propagation import CrackPropagation\n",
    "ce = CrackPropagation(n_seg=28)\n",
    "ce.sz_bd.cmm.trait_set(tau_1 = 4, s_1 = 0.2, tau_2 = 3, tau_3 = 2, s_2 = 1.4, s_3 = 5)\n",
    "ce.sz_cp.trait_set(x_00=ce.sz_bd.L * 0.3, n_m = 15)\n",
    "ce.sz_bd.Rectangle = True\n",
    "ce.sz_bd.trait_set(H=300, B=200, L=1000)\n",
    "ce.sz_bd.cross_section_layout.reinforcement.z_j[0] = 20\n",
    "ce.sz_bd.cross_section_layout.reinforcement.A_j[0] = 506.45\n",
    "ce.sz_bd.cross_section_layout.reinforcement.E_j[0] = 210000 / 100"
   ]
  },
  {
   "cell_type": "markdown",
   "metadata": {},
   "source": [
    "\\begin{align}\n",
    "\\sigma_\\mathrm{F} = E w / L_\\mathrm{eff}\n",
    "\\end{align}"
   ]
  },
  {
   "cell_type": "code",
   "execution_count": 2,
   "metadata": {
    "pycharm": {
     "name": "#%%\n"
    },
    "scrolled": false
   },
   "outputs": [
    {
     "name": "stderr",
     "output_type": "stream",
     "text": [
      "<lambdifygenerated-24>:2: RuntimeWarning: invalid value encountered in sqrt\n",
      "  return (select([less_equal(w, 0),True], [0,0.25*f_c*s*(-sqrt(2)*sqrt(w/d_a) + 1)*((2.44 - 39.04/f_c)*abs(s/w)**3 + 9.8/f_c)/(w*(s**4*(2.44 - 39.04/f_c)/w**4 + 1))], default=nan))\n"
     ]
    },
    {
     "name": "stdout",
     "output_type": "stream",
     "text": [
      "sig_x_tip_0 1.9068470305743594 0.01051044003371902\n"
     ]
    },
    {
     "data": {
      "application/vnd.jupyter.widget-view+json": {
       "model_id": "54be1cc0002b489a91681e5461fad309",
       "version_major": 2,
       "version_minor": 0
      },
      "text/plain": [
       "VBox(children=(Output(), Tab(children=(VBox(children=(GridBox(children=(HBox(children=(Button(icon='play', lay…"
      ]
     },
     "metadata": {},
     "output_type": "display_data"
    },
    {
     "name": "stdout",
     "output_type": "stream",
     "text": [
      "sig_x_tip_0 1.9068470305743594 0.01051044003371902\n",
      "sig_x_tip_0 1.9068470305743594 0.01051044003371902\n",
      "sig_x_tip_0 1.9068470305743594 0.01051044003371902\n",
      "sig_x_tip_0 1.9068470305740783 0.010510439937115795\n",
      "sig_x_tip_0 1.9068470470047927 0.010510439782588178\n",
      "sig_x_tip_0 1.9074475261547925 0.010434053846071432\n",
      "sig_x_tip_0 1.9074475261547925 0.010434053846071432\n",
      "sig_x_tip_0 1.9074475261547925 0.010434053846071432\n",
      "sig_x_tip_0 1.9074475261547925 0.010434053846071432\n",
      "sig_x_tip_0 1.8771258714373227 0.02150427693296874\n",
      "sig_x_tip_0 1.8771258714373227 0.02150427693296874\n",
      "sig_x_tip_0 1.8771258714373227 0.02150427693296874\n",
      "sig_x_tip_0 1.8771258771627757 0.021504276919967584\n",
      "sig_x_tip_0 1.8771258922575504 0.02150427637980442\n",
      "sig_x_tip_0 1.8913615617271196 0.020937550445967897\n",
      "sig_x_tip_0 1.879060946921667 0.021444250508444847\n",
      "sig_x_tip_0 1.8790609469229878 0.021444250506170187\n",
      "sig_x_tip_0 1.8790609676144912 0.021444249960776856\n",
      "sig_x_tip_0 1.879101061026746 0.021399353817701677\n",
      "sig_x_tip_0 1.8791010648622501 0.021399353807424745\n",
      "sig_x_tip_0 1.8791010817206655 0.02139935327051712\n",
      "sig_x_tip_0 1.8826803283038556 0.02121253375686956\n",
      "sig_x_tip_0 1.879101061026746 0.021399353817701677\n",
      "sig_x_tip_0 1.879101061026746 0.021399353817701677\n",
      "sig_x_tip_0 1.879101061026746 0.021399353817701677\n",
      "sig_x_tip_0 1.8297131756072278 0.033387451108848436\n",
      "sig_x_tip_0 1.8297131756072278 0.033387451108848436\n",
      "sig_x_tip_0 1.8297131756072278 0.033387451108848436\n",
      "sig_x_tip_0 1.8297131721382829 0.03338745111910038\n",
      "sig_x_tip_0 1.8297131913412832 0.03338745022877078\n",
      "sig_x_tip_0 1.812982786424786 0.033716094834035926\n",
      "sig_x_tip_0 1.830240565854127 0.033290846710650815\n",
      "sig_x_tip_0 1.8302405710702974 0.03329084668148682\n",
      "sig_x_tip_0 1.8302405832880584 0.0332908458262503\n",
      "sig_x_tip_0 1.8329105243031085 0.03316599154480422\n",
      "sig_x_tip_0 1.8329105243065005 0.03316599153881836\n",
      "sig_x_tip_0 1.8329105397800916 0.03316599067994968\n",
      "sig_x_tip_0 1.8332209775604433 0.03304198976331061\n",
      "sig_x_tip_0 1.8332209775663104 0.03304198975559088\n",
      "sig_x_tip_0 1.8332209895247358 0.03304198891756358\n",
      "sig_x_tip_0 1.8335377648808386 0.032811765061903114\n",
      "sig_x_tip_0 1.8335377613956496 0.03281176506705624\n",
      "sig_x_tip_0"
     ]
    },
    {
     "name": "stderr",
     "output_type": "stream",
     "text": [
      "<lambdifygenerated-24>:2: RuntimeWarning: invalid value encountered in sqrt\n",
      "  return (select([less_equal(w, 0),True], [0,0.25*f_c*s*(-sqrt(2)*sqrt(w/d_a) + 1)*((2.44 - 39.04/f_c)*abs(s/w)**3 + 9.8/f_c)/(w*(s**4*(2.44 - 39.04/f_c)/w**4 + 1))], default=nan))\n"
     ]
    },
    {
     "name": "stdout",
     "output_type": "stream",
     "text": [
      " 1.8335377838444262 0.03281176418758247\n",
      "sig_x_tip_0 1.8326468314761497 0.03279949012032586\n",
      "sig_x_tip_0 1.8335377648808386 0.032811765061903114\n",
      "sig_x_tip_0 1.8335377648808386 0.032811765061903114\n",
      "sig_x_tip_0 1.8335377648808386 0.032811765061903114\n",
      "sig_x_tip_0 1.796040134108243 0.04510155240191597\n",
      "sig_x_tip_0 1.796040134108243 0.04510155240191597\n",
      "sig_x_tip_0 1.796040134108243 0.04510155240191597\n",
      "sig_x_tip_0 1.7960401309423977 0.045101552411006954\n",
      "sig_x_tip_0 1.7960401516572921 0.0451015511374726\n",
      "sig_x_tip_0 1.793369642632467 0.04476995971780568\n",
      "sig_x_tip_0 1.7978581597533994 0.044884252614975764\n",
      "sig_x_tip_0 1.7978581661490807 0.044884252545241865\n",
      "sig_x_tip_0 1.7978581835463192 0.04488425131173329\n",
      "sig_x_tip_0 1.8000330174203227 0.04478435477768096\n",
      "sig_x_tip_0 1.8000330174346004 0.044784354760232306\n",
      "sig_x_tip_0 1.800033034650161 0.04478435353915454\n",
      "sig_x_tip_0 1.8013491705974074 0.04453548574711786\n",
      "sig_x_tip_0 1.801349167402789 0.04453548575319669\n",
      "sig_x_tip_0 1.8013491909538286 0.0445354844926421\n",
      "sig_x_tip_0 1.798435403364546 0.04447343408490209\n",
      "sig_x_tip_0 1.8013491705974074 0.04453548574711786\n",
      "sig_x_tip_0 1.8013491705974074 0.04453548574711786\n",
      "sig_x_tip_0 1.8013491705974074 0.04453548574711786\n",
      "sig_x_tip_0 1.7590685908816674 0.05746841446010899\n",
      "sig_x_tip_0 1.7590685908816674 0.05746841446010899\n",
      "sig_x_tip_0 1.7590685908816674 0.05746841446010899\n",
      "sig_x_tip_0 1.7590685923539298 0.05746841441430756\n",
      "sig_x_tip_0 1.7590686150813197 0.05746841269022988\n",
      "sig_x_tip_0 1.772030953448877 0.055665749462982264\n",
      "sig_x_tip_0 1.7720309549814421 0.055665749403135796\n",
      "sig_x_tip_0 1.7720309738179874 0.05566574784259856\n",
      "sig_x_tip_0 1.767310891988844 0.0559854904397307\n",
      "sig_x_tip_0 1.7673108920338236 0.055985490398115074\n",
      "sig_x_tip_0 1.7673109171590422 0.055985488724968425\n",
      "sig_x_tip_0 1.7671389406372082 0.05599691979136125\n",
      "sig_x_tip_0 1.7671389406372082 0.05599691979136125\n",
      "sig_x_tip_0 1.7671389406372082 0.05599691979136125\n",
      "sig_x_tip_0 1.7671389406372082 0.05599691979136125\n",
      "sig_x_tip_0 1.7108817790906654 0.0697228235100639\n",
      "sig_x_tip_0 1.7108817790906654 0.0697228235100639\n",
      "sig_x_tip_0 1.7108817790906654 0.0697228235100639\n",
      "sig_x_tip_0 1.7108817804539143 0.0697228234312638\n",
      "sig_x_tip_0 1.7108818021582324 0.06972282128257136\n",
      "sig_x_tip_0 1.722836061048381 0.06791721549455743\n",
      "sig_x_tip_0 1.7228360651603314 0.06791721535476553\n",
      "sig_x_tip_0 1.7228360859434944 0.06791721334643849\n",
      "sig_x_tip_0 1.7207761505335943 0.06808077319074164\n",
      "sig_x_tip_0 1.7207761506020745 0.06808077312423985\n",
      "sig_x_tip_0 1.720776171558634 0.06808077109533094\n",
      "sig_x_tip_0 1.720564186158639 0.06809771220027587\n",
      "sig_x_tip_0 1.720564186158639 0.06809771220027587\n",
      "sig_x_tip_0 1.720564186158639 0.06809771220027587\n",
      "sig_x_tip_0 1.720564186158639 0.06809771220027587\n",
      "sig_x_tip_0 1.6707994329182556 0.0819745367389354\n",
      "sig_x_tip_0 1.6707994329182556 0.0819745367389354\n",
      "sig_x_tip_0 1.6707994329182556 0.0819745367389354\n",
      "sig_x_tip_0 1.6707994329906575 0.08197453665374808\n",
      "sig_x_tip_0 1.6707994577279661 0.08197453395537489\n",
      "sig_x_tip_0 1.6827468875562372 0.07981646626237081\n",
      "sig_x_tip_0 1.6827468864285087 0.07981646619325385\n",
      "sig_x_tip_0 1.6827469102726706 0.07981646366362753\n",
      "sig_x_tip_0 1.6828841416625724 0.07980075428610696\n",
      "sig_x_tip_0 1.6828841416625724 0.07980075428610696\n",
      "sig_x_tip_0 1.6828841416625724 0.07980075428610696\n",
      "sig_x_tip_0 1.6828841416625724 0.07980075428610696\n",
      "sig_x_tip_0 1.6281610734817071 0.09418961271553822\n",
      "sig_x_tip_0 1.6281610734817071 0.09418961271553822\n",
      "sig_x_tip_0 1.6281610734817071 0.09418961271553822\n",
      "sig_x_tip_0 1.628161073585742 0.09418961259148469\n",
      "sig_x_tip_0 1.6281611016965556 0.09418960926729057\n",
      "sig_x_tip_0 1.6428243970148868 0.09135691724752176\n",
      "sig_x_tip_0 1.6428243971497083 0.09135691710718108\n",
      "sig_x_tip_0 1.6428244252965354 0.09135691398643518\n",
      "sig_x_tip_0 1.6429065097919229 0.09134231759432936\n",
      "sig_x_tip_0 1.6429065097919229 0.09134231759432936\n",
      "sig_x_tip_0 1.6429065097919229 0.09134231759432936\n",
      "sig_x_tip_0 1.6429065097919229 0.09134231759432936\n",
      "sig_x_tip_0 1.5831636385874892 0.10623354137404084\n",
      "sig_x_tip_0 1.5831636385874892 0.10623354137404084\n",
      "sig_x_tip_0 1.5831636385874892 0.10623354137404084\n",
      "sig_x_tip_0 1.5831636397177138 0.10623354116339816\n",
      "sig_x_tip_0 1.5831636705143433 0.10623353716952298\n",
      "sig_x_tip_0 1.6026127556535121 0.10244212932167718\n",
      "sig_x_tip_0 1.6026127558289245sig_x_tip_0 1.6026127558289245 0.10244212913158546\n",
      " 0.10244212913158546\n",
      "sig_x_tip_0 1.6026127861830637 0.10244212545217543\n",
      "sig_x_tip_0 1.6007326386670064 0.10262081608069733\n",
      "sig_x_tip_0 1.6007326398653248 0.10262081585036807\n",
      "sig_x_tip_0 1.6007326662867956 0.10262081229780046\n",
      "sig_x_tip_0 1.6007587040675517 0.10261801935301045\n",
      "sig_x_tip_0 1.6007587040675517 0.10261801935301045\n",
      "sig_x_tip_0 1.6007587040675517 0.10261801935301045\n",
      "sig_x_tip_0 1.6007587040675517 0.10261801935301045\n",
      "sig_x_tip_0 1.5334615075967883 0.1181835247364348\n",
      "sig_x_tip_0 1.5334615075967883 0.1181835247364348\n",
      "sig_x_tip_0 1.5334615075967883 0.1181835247364348\n",
      "sig_x_tip_0 1.5334615086740235 0.11818352446100751\n"
     ]
    },
    {
     "name": "stderr",
     "output_type": "stream",
     "text": [
      "<lambdifygenerated-24>:2: RuntimeWarning: invalid value encountered in sqrt\n",
      "  return (select([less_equal(w, 0),True], [0,0.25*f_c*s*(-sqrt(2)*sqrt(w/d_a) + 1)*((2.44 - 39.04/f_c)*abs(s/w)**3 + 9.8/f_c)/(w*(s**4*(2.44 - 39.04/f_c)/w**4 + 1))], default=nan))\n",
      "<lambdifygenerated-24>:2: RuntimeWarning: invalid value encountered in sqrt\n",
      "  return (select([less_equal(w, 0),True], [0,0.25*f_c*s*(-sqrt(2)*sqrt(w/d_a) + 1)*((2.44 - 39.04/f_c)*abs(s/w)**3 + 9.8/f_c)/(w*(s**4*(2.44 - 39.04/f_c)/w**4 + 1))], default=nan))\n",
      "<lambdifygenerated-24>:2: RuntimeWarning: invalid value encountered in sqrt\n",
      "  return (select([less_equal(w, 0),True], [0,0.25*f_c*s*(-sqrt(2)*sqrt(w/d_a) + 1)*((2.44 - 39.04/f_c)*abs(s/w)**3 + 9.8/f_c)/(w*(s**4*(2.44 - 39.04/f_c)/w**4 + 1))], default=nan))\n"
     ]
    },
    {
     "name": "stdout",
     "output_type": "stream",
     "text": [
      "sig_x_tip_0 1.5334615398082014 0.11818351986183362\n",
      "sig_x_tip_0 1.554996999736857 0.11357265967656141\n",
      "sig_x_tip_0 1.5549969990285728 0.11357265946548475\n",
      "sig_x_tip_0 1.554997029362588 0.11357265527883639\n",
      "sig_x_tip_0 1.5534436457498597 0.11371896319737734\n",
      "sig_x_tip_0 1.553443645047147 0.11371896298446695\n",
      "sig_x_tip_0 1.5534436773681803 0.11371895868642613\n",
      "sig_x_tip_0 1.5535256768651928 0.11370996730421624\n",
      "sig_x_tip_0 1.5535256768651928 0.11370996730421624\n",
      "sig_x_tip_0 1.5535256768651928 0.11370996730421624\n",
      "sig_x_tip_0 1.5535256768651928 0.11370996730421624\n",
      "sig_x_tip_0 1.4859151108894335 0.12940382751811544\n",
      "sig_x_tip_0 1.4859151108894335 0.12940382751811544\n",
      "sig_x_tip_0 1.4859151108894335 0.12940382751811544\n",
      "sig_x_tip_0 1.4859151111255213 0.12940382720110166\n",
      "sig_x_tip_0 1.485915144304294 0.12940382187380237\n",
      "sig_x_tip_0 1.5086655387548027 0.12412915734958535\n",
      "sig_x_tip_0 1.508665536505948 0.1241291571543176\n",
      "sig_x_tip_0 1.508665570334904 0.12412915224132123\n",
      "sig_x_tip_0 1.5090377066365002 0.12404854571675951\n",
      "sig_x_tip_0 1.5090377066365002 0.12404854571675951\n",
      "sig_x_tip_0 1.5090377066365002 0.12404854571675951\n",
      "sig_x_tip_0 1.5090377066365002 0.12404854571675951\n",
      "sig_x_tip_0 1.4362523159755671 0.14016713361891892\n",
      "sig_x_tip_0 1.4362523159755671 0.14016713361891892\n",
      "sig_x_tip_0 1.4362523159755671 0.14016713361891892\n",
      "sig_x_tip_0 1.4362523169950492 0.14016713317574256\n",
      "sig_x_tip_0 1.4362523557978562 0.1401671268534522\n",
      "sig_x_tip_0 1.4644422112323514 0.13365725838681586\n",
      "sig_x_tip_0 1.4644422100284604 0.1336572580651963\n",
      "sig_x_tip_0 1.4644422458333568 0.13365725252707816\n",
      "sig_x_tip_0 1.4626728959035524 0.1338022091366462\n",
      "sig_x_tip_0 1.4626728947099812 0.13380220881129742\n",
      "sig_x_tip_0 1.462672931434159 0.1338022031899391\n",
      "sig_x_tip_0 1.4628852916817638 0.13377809919316022\n",
      "sig_x_tip_0 1.4628852916817638 0.13377809919316022\n",
      "sig_x_tip_0 1.4628852916817638 0.13377809919316022\n",
      "sig_x_tip_0 1.4628852916817638 0.13377809919316022\n",
      "sig_x_tip_0 1.3848916885005764 0.15029910098663193\n",
      "sig_x_tip_0 1.3848916885005764 0.15029910098663193\n",
      "sig_x_tip_0 1.3848916885005764 0.15029910098663193\n",
      "sig_x_tip_0 1.384891688197622 0.15029910052895992\n",
      "sig_x_tip_0 1.3848917267160956 0.1502990935198631\n",
      "sig_x_tip_0 1.4128445335867164 0.14314500030059993\n",
      "sig_x_tip_0 1.4128445339842974 0.14314499977580963\n",
      "sig_x_tip_0 1.4128445735419135 0.14314499336980768\n",
      "sig_x_tip_0 1.4149870668417 0.14283277482515244\n",
      "sig_x_tip_0 1.4149870672369442 0.14283277430263464\n",
      "sig_x_tip_0 1.4149871059204095 0.14283276799900985\n"
     ]
    }
   ],
   "source": [
    "bu.InteractiveWindow([ce, ce.sz_bd, ce.sz_bd.cross_section_layout, \n",
    "                      ce.sz_stress_profile, \n",
    "                      ce.sz_bd.cmm, ce.sz_bd.smm, ce.sz_cp, ce.sz_cp.sz_ctr]).interact()"
   ]
  },
  {
   "cell_type": "code",
   "execution_count": 3,
   "metadata": {},
   "outputs": [],
   "source": [
    "import numpy as np\n",
    "S_Lb = ce.sz_stress_profile.S_Lb\n",
    "S_La = ce.sz_stress_profile.S_La\n",
    "idx = np.argmax(S_Lb[...,0])"
   ]
  },
  {
   "cell_type": "code",
   "execution_count": null,
   "metadata": {},
   "outputs": [],
   "source": [
    "S_Lb[idx,:], S_La[idx,:]"
   ]
  },
  {
   "cell_type": "code",
   "execution_count": null,
   "metadata": {},
   "outputs": [],
   "source": [
    "ce.sz_cp.T_Mab[idx,...]"
   ]
  },
  {
   "cell_type": "code",
   "execution_count": null,
   "metadata": {},
   "outputs": [],
   "source": [
    "np.einsum('i,i', S_Lb[idx,:], S_Lb[idx,:])"
   ]
  },
  {
   "cell_type": "code",
   "execution_count": null,
   "metadata": {},
   "outputs": [],
   "source": [
    "np.einsum('i,i', S_La[idx,:], S_La[idx,:])"
   ]
  },
  {
   "cell_type": "markdown",
   "metadata": {},
   "source": [
    "Todo:\n",
    "\n",
    " - include the reinforcement material law - partially done \n",
    "   (but for strain-based material law) - replace with the crack bridge law\n",
    " - transformation of the crack bridging force to the global coordinates\n",
    " - include the dowel effect "
   ]
  },
  {
   "cell_type": "code",
   "execution_count": null,
   "metadata": {},
   "outputs": [],
   "source": [
    "#ce.sz_cp._get_norm_n_vec_L()"
   ]
  },
  {
   "cell_type": "code",
   "execution_count": null,
   "metadata": {},
   "outputs": [],
   "source": [
    "#ce.sz_cp._get_x_Ka()"
   ]
  },
  {
   "cell_type": "code",
   "execution_count": null,
   "metadata": {},
   "outputs": [],
   "source": [
    "#ce.sz_stress_profile._get_S_La()"
   ]
  },
  {
   "cell_type": "code",
   "execution_count": null,
   "metadata": {},
   "outputs": [],
   "source": [
    "#ce.sz_stress_profile._get_F_La()"
   ]
  },
  {
   "cell_type": "code",
   "execution_count": null,
   "metadata": {},
   "outputs": [],
   "source": [
    "#ce.sz_stress_profile._get_F_ag()"
   ]
  },
  {
   "cell_type": "code",
   "execution_count": null,
   "metadata": {},
   "outputs": [],
   "source": [
    "#ce.sz_stress_profile._get_u_Lb()"
   ]
  },
  {
   "cell_type": "code",
   "execution_count": null,
   "metadata": {},
   "outputs": [],
   "source": [
    "#ce.sz_stress_profile._get_S_Lb()[:,1]"
   ]
  },
  {
   "cell_type": "code",
   "execution_count": null,
   "metadata": {},
   "outputs": [],
   "source": [
    "ce.sz_stress_profile.u_La[...,1]"
   ]
  },
  {
   "cell_type": "code",
   "execution_count": null,
   "metadata": {},
   "outputs": [],
   "source": [
    "ce.sz_cp.x_Ka"
   ]
  },
  {
   "cell_type": "code",
   "execution_count": null,
   "metadata": {},
   "outputs": [],
   "source": [
    "ce.sz_stress_profile.u_La[...,1]"
   ]
  },
  {
   "cell_type": "code",
   "execution_count": null,
   "metadata": {},
   "outputs": [],
   "source": [
    "ce.sz_stress_profile.normalized_def #[...,1]"
   ]
  },
  {
   "cell_type": "code",
   "execution_count": null,
   "metadata": {},
   "outputs": [],
   "source": [
    "ce.sz_stress_profile.tau_exp"
   ]
  },
  {
   "cell_type": "code",
   "execution_count": null,
   "metadata": {},
   "outputs": [],
   "source": [
    "ce.sz_stress_profile.F_Na[...,0]"
   ]
  },
  {
   "cell_type": "code",
   "execution_count": null,
   "metadata": {},
   "outputs": [],
   "source": [
    "ce.sz_ctr._get_x_rot_ak()"
   ]
  },
  {
   "cell_type": "code",
   "execution_count": null,
   "metadata": {},
   "outputs": [],
   "source": []
  }
 ],
 "metadata": {
  "kernelspec": {
   "display_name": "Python 3",
   "language": "python",
   "name": "python3"
  },
  "language_info": {
   "codemirror_mode": {
    "name": "ipython",
    "version": 3
   },
   "file_extension": ".py",
   "mimetype": "text/x-python",
   "name": "python",
   "nbconvert_exporter": "python",
   "pygments_lexer": "ipython3",
   "version": "3.9.0"
  },
  "toc": {
   "base_numbering": 1,
   "nav_menu": {},
   "number_sections": true,
   "sideBar": true,
   "skip_h1_title": true,
   "title_cell": "Table of Contents",
   "title_sidebar": "Contents",
   "toc_cell": false,
   "toc_position": {
    "height": "calc(100% - 180px)",
    "left": "10px",
    "top": "150px",
    "width": "165px"
   },
   "toc_section_display": true,
   "toc_window_display": false
  }
 },
 "nbformat": 4,
 "nbformat_minor": 1
}
