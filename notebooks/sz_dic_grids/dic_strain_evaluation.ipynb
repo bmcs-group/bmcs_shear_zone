{
 "cells": [
  {
   "cell_type": "markdown",
   "id": "784b51b9",
   "metadata": {},
   "source": [
    "# **Strain evaluation**"
   ]
  },
  {
   "cell_type": "code",
   "execution_count": 1,
   "id": "87f788ee",
   "metadata": {},
   "outputs": [],
   "source": [
    "%matplotlib widget"
   ]
  },
  {
   "cell_type": "code",
   "execution_count": 2,
   "id": "56799eb0",
   "metadata": {},
   "outputs": [],
   "source": [
    "from bmcs_shear.dic_crack import DICGrid, DICAlignedGrid, DICCOR\n",
    "import ibvpy.api as ib\n",
    "import numpy as np\n",
    "import matplotlib.pylab as plt"
   ]
  },
  {
   "cell_type": "code",
   "execution_count": 3,
   "id": "13e08342-0f3a-4ec1-8103-bf0338830a63",
   "metadata": {},
   "outputs": [],
   "source": [
    "dic_grid = DICGrid(n_x=59, n_y=15, d_x=22, d_y=22,\n",
    "                   start_t=0, end_t=-1, U_factor=100, dir_name='B1_TV1', grid_column_first=False, \n",
    "                   grid_number_vertical=False)"
   ]
  },
  {
   "cell_type": "code",
   "execution_count": 4,
   "id": "f3f830e0-cfa1-4390-a379-97c80c963b53",
   "metadata": {},
   "outputs": [
    {
     "data": {
      "application/vnd.jupyter.widget-view+json": {
       "model_id": "225f08c960094d49a7d994c534e1e4a7",
       "version_major": 2,
       "version_minor": 0
      },
      "text/plain": [
       "VBox(children=(HBox(children=(VBox(children=(Tree(layout=Layout(align_items='stretch', border='solid 1px black…"
      ]
     },
     "metadata": {},
     "output_type": "display_data"
    }
   ],
   "source": [
    "dic_grid.interact()"
   ]
  },
  {
   "cell_type": "code",
   "execution_count": 5,
   "id": "5647110d",
   "metadata": {},
   "outputs": [],
   "source": [
    "n_x, n_y = dic_grid.n_x, dic_grid.n_y\n",
    "L_x, L_y = dic_grid.L_x, dic_grid.L_y"
   ]
  },
  {
   "cell_type": "code",
   "execution_count": 6,
   "id": "e62827a0",
   "metadata": {},
   "outputs": [
    {
     "data": {
      "text/plain": [
       "1276.0"
      ]
     },
     "execution_count": 6,
     "metadata": {},
     "output_type": "execute_result"
    }
   ],
   "source": [
    "L_x"
   ]
  },
  {
   "cell_type": "markdown",
   "id": "a59a8eb1",
   "metadata": {},
   "source": [
    "Construct the FEGrid  with the same structure as DICGrid "
   ]
  },
  {
   "cell_type": "code",
   "execution_count": 7,
   "id": "d91c8f14",
   "metadata": {},
   "outputs": [],
   "source": [
    "xdomain = ib.XDomainFEGrid(coord_min=(L_x, 0),\n",
    "                 coord_max=(0, L_y),\n",
    "                 integ_factor=1,\n",
    "                 shape=(n_x-1, n_y-1), # number of elements!\n",
    "                 fets=ib.FETS2D4Q());"
   ]
  },
  {
   "cell_type": "markdown",
   "id": "874b5cff",
   "metadata": {},
   "source": [
    "Check if the order of nodes is consistent in dic_grid and in xdomain"
   ]
  },
  {
   "cell_type": "code",
   "execution_count": 8,
   "id": "5191c1da",
   "metadata": {},
   "outputs": [
    {
     "data": {
      "text/plain": [
       "array([[1276.,    0.],\n",
       "       [1276.,   22.],\n",
       "       [1276.,   44.],\n",
       "       [1276.,   66.],\n",
       "       [1276.,   88.],\n",
       "       [1276.,  110.],\n",
       "       [1276.,  132.],\n",
       "       [1276.,  154.],\n",
       "       [1276.,  176.],\n",
       "       [1276.,  198.],\n",
       "       [1276.,  220.],\n",
       "       [1276.,  242.],\n",
       "       [1276.,  264.],\n",
       "       [1276.,  286.],\n",
       "       [1276.,  308.]])"
      ]
     },
     "execution_count": 8,
     "metadata": {},
     "output_type": "execute_result"
    }
   ],
   "source": [
    "xdomain.mesh.X_Id[:15]"
   ]
  },
  {
   "cell_type": "markdown",
   "id": "167eeda8",
   "metadata": {},
   "source": [
    "Since the fe_grid does not distinguish the ij coordinates but only I\n",
    "reshape the dic_grid in the same way to ensure the order of nodes is the same"
   ]
  },
  {
   "cell_type": "code",
   "execution_count": 9,
   "id": "e70da3e7",
   "metadata": {},
   "outputs": [],
   "source": [
    "X_ija = dic_grid.X_ija"
   ]
  },
  {
   "cell_type": "code",
   "execution_count": 10,
   "id": "a5b68118",
   "metadata": {},
   "outputs": [],
   "source": [
    "X_Ia = X_ija.reshape(-1,2)"
   ]
  },
  {
   "cell_type": "markdown",
   "id": "bcce7f88",
   "metadata": {},
   "source": [
    "Now check that the first five nodes are ordered in the same way as above in `xdomain.mesh.X_Id` "
   ]
  },
  {
   "cell_type": "code",
   "execution_count": 11,
   "id": "a0ecd481",
   "metadata": {},
   "outputs": [
    {
     "data": {
      "text/plain": [
       "array([[1276.,    0.],\n",
       "       [1276.,   22.],\n",
       "       [1276.,   44.],\n",
       "       [1276.,   66.],\n",
       "       [1276.,   88.],\n",
       "       [1276.,  110.],\n",
       "       [1276.,  132.],\n",
       "       [1276.,  154.],\n",
       "       [1276.,  176.],\n",
       "       [1276.,  198.],\n",
       "       [1276.,  220.],\n",
       "       [1276.,  242.],\n",
       "       [1276.,  264.],\n",
       "       [1276.,  286.],\n",
       "       [1276.,  308.]])"
      ]
     },
     "execution_count": 11,
     "metadata": {},
     "output_type": "execute_result"
    }
   ],
   "source": [
    "X_Ia[:15]"
   ]
  },
  {
   "cell_type": "markdown",
   "id": "0673ed95",
   "metadata": {},
   "source": [
    "Now we can use the displacement measured on `dic_grid` and reshape it into the \n",
    "form `Ia` that can be used in `xdomain` to calculate the strains"
   ]
  },
  {
   "cell_type": "code",
   "execution_count": 12,
   "id": "32a78ea3",
   "metadata": {},
   "outputs": [
    {
     "data": {
      "text/plain": [
       "array([[  1.866,  -1.146],\n",
       "       [  1.643,  -1.156],\n",
       "       [  1.425,  -1.147],\n",
       "       ...,\n",
       "       [ -0.339, -10.582],\n",
       "       [ -0.365, -10.569],\n",
       "       [ -0.358, -10.578]])"
      ]
     },
     "execution_count": 12,
     "metadata": {},
     "output_type": "execute_result"
    }
   ],
   "source": [
    "U_ija = dic_grid.U_tija[8]\n",
    "U_Ia = U_ija.reshape(-1,2)\n",
    "U_o = U_Ia.flatten() # array of displacements corresponding to the DOF enumeration\n",
    "U_Ia"
   ]
  },
  {
   "cell_type": "code",
   "execution_count": 13,
   "id": "0bff0757",
   "metadata": {},
   "outputs": [],
   "source": [
    "U_Eia = U_o[xdomain.o_Eia]\n",
    "u_Ema = np.einsum('im,Eia->Ema',xdomain.fets.N_im, U_Eia) #displacement at 4 gauss points in an element\n",
    "u_Ea = np.average(u_Ema, axis=1) #average of displacement for an element"
   ]
  },
  {
   "cell_type": "markdown",
   "id": "87d556a4",
   "metadata": {},
   "source": [
    "The mapping from global displacement vector `U_o` to the strain tensor `eps_Emab`"
   ]
  },
  {
   "cell_type": "code",
   "execution_count": 14,
   "id": "61668892",
   "metadata": {},
   "outputs": [],
   "source": [
    "eps_Emab = xdomain.map_U_to_field(U_o)\n",
    "eps_abp = np.einsum('Emab->abEm', eps_Emab).reshape(2,2,-1) #strain within the flat list of points"
   ]
  },
  {
   "cell_type": "markdown",
   "id": "3e248212",
   "metadata": {},
   "source": [
    "Evaluate the eigenvalues and eigenvectors in each material point `Em`"
   ]
  },
  {
   "cell_type": "code",
   "execution_count": 15,
   "id": "0478e504",
   "metadata": {},
   "outputs": [],
   "source": [
    "eps_Emc, eps_Emcd = np.linalg.eig(eps_Emab) # eps_Emc = principal strains at 4 gauss points, eps_Emcd = principal directions \n",
    "eps_Ec = np.average(eps_Emc, axis=1) #principal strains at mid points of elements"
   ]
  },
  {
   "cell_type": "code",
   "execution_count": 16,
   "id": "d3e23dfc",
   "metadata": {},
   "outputs": [],
   "source": [
    "max_eps_E = np.max(eps_Ec, axis=-1)\n",
    "pos_max_eps_E = ((max_eps_E + np.fabs(max_eps_E)) / 2) #ignoring the negative maximums"
   ]
  },
  {
   "cell_type": "code",
   "execution_count": 17,
   "id": "ed9e5af1",
   "metadata": {},
   "outputs": [],
   "source": [
    "x_Ea = np.average(xdomain.x_Ema, axis=1)\n",
    "x_aE = np.einsum('Ea->aE', x_Ea + u_Ea * 10) #flatten\n"
   ]
  },
  {
   "cell_type": "code",
   "execution_count": 18,
   "id": "66ba5df1",
   "metadata": {},
   "outputs": [
    {
     "data": {
      "application/vnd.jupyter.widget-view+json": {
       "model_id": "0eda085d4a394b31a44c994408ba8d47",
       "version_major": 2,
       "version_minor": 0
      },
      "text/plain": [
       "Canvas(toolbar=Toolbar(toolitems=[('Home', 'Reset original view', 'home', 'home'), ('Back', 'Back to previous …"
      ]
     },
     "metadata": {},
     "output_type": "display_data"
    },
    {
     "data": {
      "text/plain": [
       "(-56.53937500000001, 1346.276875, -113.63374999999999, 303.62375000000003)"
      ]
     },
     "execution_count": 18,
     "metadata": {},
     "output_type": "execute_result"
    }
   ],
   "source": [
    "fig, ax = plt.subplots(1,1)\n",
    "ax.scatter(*x_aE, s=1000*pos_max_eps_E, color='red', alpha=0.4)\n",
    "ax.axis('equal')"
   ]
  },
  {
   "cell_type": "markdown",
   "id": "2cc49340",
   "metadata": {},
   "source": [
    "# Discussion of approaches to an automatic crack detection\n",
    "\n",
    "The goal is to use the above field representation with the help of interpolation functions\n",
    "that can automatically detect the cracks and teeth at the ultimate state."
   ]
  },
  {
   "cell_type": "markdown",
   "id": "efa4d3f6",
   "metadata": {},
   "source": [
    "Interpolate the above grid using the shape functions\n",
    "$$\n",
    "e_E = N_{i} e_{Ei}\n",
    "$$"
   ]
  },
  {
   "cell_type": "markdown",
   "id": "4b33ab38",
   "metadata": {},
   "source": [
    "The derivative of the principle tensile strain field can then be constructed as\n",
    "$$\n",
    " \\nabla_\\boldsymbol{x} e_{E} = \\nabla_\\boldsymbol{x} N_i e_{Ei}\n",
    "$$"
   ]
  },
  {
   "cell_type": "markdown",
   "id": "579a93a8",
   "metadata": {},
   "source": [
    "Using the index notation $\\boldsymbol{x} = x_a$, we can rewrite this equation as\n",
    "$$\n",
    "e_{E,a} = N_{i,a} e_{Ei}\n",
    "$$"
   ]
  },
  {
   "cell_type": "markdown",
   "id": "c10fd55a",
   "metadata": {},
   "source": [
    "It is possible to pick also the direction of the principal tensile strain and then to \n",
    "use the approximation  "
   ]
  },
  {
   "cell_type": "markdown",
   "id": "366e0f38",
   "metadata": {},
   "source": [
    "# Model component: **DICStrainGrid**\n",
    "\n",
    "The above prototyping code has been implemented within the `DICStrainGrid` model component\n",
    "as part of the `DICInspector`"
   ]
  },
  {
   "cell_type": "code",
   "execution_count": 19,
   "id": "ddab9673",
   "metadata": {},
   "outputs": [],
   "source": [
    "from bmcs_shear.dic_crack import DICStrainGrid"
   ]
  },
  {
   "cell_type": "code",
   "execution_count": 20,
   "id": "7fae8827",
   "metadata": {},
   "outputs": [],
   "source": [
    "dic_eps = DICStrainGrid(dic_grid=dic_grid)"
   ]
  },
  {
   "cell_type": "code",
   "execution_count": 21,
   "id": "a880c209",
   "metadata": {},
   "outputs": [
    {
     "data": {
      "application/vnd.jupyter.widget-view+json": {
       "model_id": "af578a61e3814d88b91eb7c36b4d7c5c",
       "version_major": 2,
       "version_minor": 0
      },
      "text/plain": [
       "VBox(children=(HBox(children=(VBox(children=(Tree(layout=Layout(align_items='stretch', border='solid 1px black…"
      ]
     },
     "metadata": {},
     "output_type": "display_data"
    }
   ],
   "source": [
    "dic_eps.interact()"
   ]
  },
  {
   "cell_type": "code",
   "execution_count": null,
   "id": "76747cfd",
   "metadata": {},
   "outputs": [],
   "source": []
  }
 ],
 "metadata": {
  "kernelspec": {
   "display_name": "Python 3",
   "language": "python",
   "name": "python3"
  },
  "language_info": {
   "codemirror_mode": {
    "name": "ipython",
    "version": 3
   },
   "file_extension": ".py",
   "mimetype": "text/x-python",
   "name": "python",
   "nbconvert_exporter": "python",
   "pygments_lexer": "ipython3",
   "version": "3.8.8"
  }
 },
 "nbformat": 4,
 "nbformat_minor": 5
}
