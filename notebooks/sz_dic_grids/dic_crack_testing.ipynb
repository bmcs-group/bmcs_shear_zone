{
 "cells": [
  {
   "cell_type": "markdown",
   "id": "7dc3651e",
   "metadata": {},
   "source": [
    "# **DIC Shear Crack Inspector**"
   ]
  },
  {
   "cell_type": "code",
   "execution_count": null,
   "id": "ff698efd",
   "metadata": {},
   "outputs": [],
   "source": [
    "%matplotlib widget\n",
    "import numpy as np"
   ]
  },
  {
   "cell_type": "code",
   "execution_count": null,
   "id": "c73f2661",
   "metadata": {},
   "outputs": [],
   "source": [
    "from bmcs_shear.dic_crack import DICGrid, DICAlignedGrid, DICCOR, DICInspector, DICCrack"
   ]
  },
  {
   "cell_type": "markdown",
   "id": "4b94c601",
   "metadata": {},
   "source": [
    "# B1_TV1"
   ]
  },
  {
   "cell_type": "code",
   "execution_count": null,
   "id": "2e78e7b3",
   "metadata": {},
   "outputs": [],
   "source": [
    "dic_grid = DICGrid(dir_name='B1_TV1', start_t=0, end_t=-1, U_factor=100)\n",
    "dic_aligned_grid = DICAlignedGrid(dic_grid=dic_grid,\n",
    "                                  y_ref_i=-20, y_ref_j_min=1, y_ref_j_max=10)\n",
    "dic_cor = DICCOR(dic_aligned_grid=dic_aligned_grid,\n",
    "                 n_x_min=29, n_x_max=37, n_x_step=1, n_y_min=7, n_y_step=1)"
   ]
  },
  {
   "cell_type": "code",
   "execution_count": null,
   "id": "311d85b5-a827-48c4-9cf0-7256d41bbb63",
   "metadata": {},
   "outputs": [],
   "source": [
    "dic_grid.interact()"
   ]
  },
  {
   "cell_type": "code",
   "execution_count": null,
   "id": "e029c434-6903-456c-87d9-6a46e763ddbc",
   "metadata": {},
   "outputs": [],
   "source": [
    "import numpy as np\n",
    "da = dic_aligned_grid\n",
    "# Get the global displaced configuration without reference point displacement\n",
    "X_ref_ija = da.X_ija + da.U_ref_ija\n",
    "X_ref_ija[da.y_ref_i, :da.y_ref_j_max]"
   ]
  },
  {
   "cell_type": "code",
   "execution_count": null,
   "id": "319fc89d-f1e6-429f-8ba2-a217082b7dc3",
   "metadata": {},
   "outputs": [],
   "source": [
    "# Put the origin of the coordinate system into the reference point\n",
    "X0_a = X_ref_ija[da.y_ref_i, 0]\n",
    "X0_ija = X_ref_ija - X0_a[np.newaxis, np.newaxis, :]\n",
    "X0_ja = X0_ija[da.y_ref_i, :da.y_ref_j_max]\n",
    "X0_ja"
   ]
  },
  {
   "cell_type": "code",
   "execution_count": null,
   "id": "9f60b524-4342-4a91-aa15-aed90a3e0b30",
   "metadata": {},
   "outputs": [],
   "source": [
    "alpha0 = np.arctan(X0_ja[1:,0] / X0_ja[1:,1]) \n",
    "np.average(alpha0), da.alpha_ref"
   ]
  },
  {
   "cell_type": "code",
   "execution_count": null,
   "id": "11f8305c-cd4f-44d3-b4a0-a02b58dc2c9d",
   "metadata": {},
   "outputs": [],
   "source": [
    "# Rotate all points by the inclination of the vertical axis alpha\n",
    "x0_ija = np.einsum('ba,...a->...b', da.T_ab, X0_ija)"
   ]
  },
  {
   "cell_type": "code",
   "execution_count": null,
   "id": "1cb7da77-56d5-4620-aabe-e83d8d63ce62",
   "metadata": {},
   "outputs": [],
   "source": [
    "da = dic_aligned_grid\n",
    "y0_ja = x0_ija[da.y_ref_i, :da.y_ref_j_max]\n",
    "(y0_ja-y0_ja[0])\n",
    "alpha0 = np.arctan(y0_ja[1:,0] / y0_ja[1:,1]) \n",
    "np.average(alpha0)"
   ]
  },
  {
   "cell_type": "code",
   "execution_count": null,
   "id": "295c3db7",
   "metadata": {},
   "outputs": [],
   "source": [
    "dic_cor.interact()"
   ]
  },
  {
   "cell_type": "markdown",
   "id": "06c43539",
   "metadata": {},
   "source": [
    "# B1_TV2"
   ]
  },
  {
   "cell_type": "code",
   "execution_count": null,
   "id": "9bf7d6ff",
   "metadata": {},
   "outputs": [],
   "source": [
    "dic_grid = DICGrid(dir_name='B1_TV2', end_t =7, U_factor = 60)\n",
    "dic_aligned_grid = DICAlignedGrid(dic_grid=dic_grid,\n",
    "                                 y_ref_i = -7, y_ref_j_min=1, y_ref_j_max=10 )\n",
    "dic_cor = DICCOR(dic_aligned_grid=dic_aligned_grid,\n",
    "                 n_x_min = -16, n_x_max = -12, n_x_step=1, n_y_min = 7, n_y_max=-1, n_y_step = 1)\n",
    "dic_cor.interact()"
   ]
  },
  {
   "cell_type": "code",
   "execution_count": null,
   "id": "d0e95c3b",
   "metadata": {},
   "outputs": [],
   "source": [
    "dic_grid.interact()"
   ]
  },
  {
   "cell_type": "markdown",
   "id": "f0adcf55",
   "metadata": {},
   "source": [
    "# B6_TV1"
   ]
  },
  {
   "cell_type": "code",
   "execution_count": null,
   "id": "4df2fbe8",
   "metadata": {},
   "outputs": [],
   "source": [
    "dic_grid = DICGrid(n_x=58, n_y=15, d_x = 22, d_y = 22, \n",
    "                     start_t = 0, end_t =8, U_factor = 100, dir_name='B6_TV1', grid_column_first = False, \n",
    "                    grid_number_vertical = False)\n",
    "dic_aligned_grid = DICAlignedGrid(dic_grid=dic_grid,\n",
    "                                 y_ref_i=-21, y_ref_j_min=1, y_ref_j_max=7 )\n",
    "dic_cor = DICCOR(dic_aligned_grid=dic_aligned_grid,\n",
    "                 n_x_min = -29, n_x_max = -23, n_x_step=1, n_y_min = 4, n_y_max=8, n_y_step = 1)\n",
    "dic_cor.interact()"
   ]
  },
  {
   "cell_type": "code",
   "execution_count": null,
   "id": "a4ae419c",
   "metadata": {},
   "outputs": [],
   "source": [
    "dic_grid.interact()"
   ]
  },
  {
   "cell_type": "markdown",
   "id": "cba48aaa",
   "metadata": {},
   "source": [
    "# B6_TV2"
   ]
  },
  {
   "cell_type": "code",
   "execution_count": null,
   "id": "828c5a03",
   "metadata": {},
   "outputs": [],
   "source": [
    "dic_grid = DICGrid(n_x=57, n_y=13, d_x = 22, d_y = 22, start_t = 0, end_t =-3, U_factor = 100, dir_name='B6_TV2_',\n",
    "                  grid_column_first = False, grid_number_vertical = False)\n",
    "dic_aligned_grid = DICAlignedGrid(dic_grid=dic_grid,\n",
    "                                 y_ref_i = -15, y_ref_j_min=1, y_ref_j_max=10 )\n",
    "dic_cor = DICCOR(dic_aligned_grid=dic_aligned_grid,\n",
    "                 n_x_min = -19, n_x_max = -16, n_x_step=1, n_y_min = 1, n_y_max=8, n_y_step = 1)\n",
    "dic_cor.interact()"
   ]
  },
  {
   "cell_type": "code",
   "execution_count": null,
   "id": "ea7d1170",
   "metadata": {},
   "outputs": [],
   "source": [
    "dic_grid.interact()"
   ]
  },
  {
   "cell_type": "markdown",
   "id": "0a4b531c",
   "metadata": {},
   "source": [
    "# B7_TV1"
   ]
  },
  {
   "cell_type": "code",
   "execution_count": null,
   "id": "f81508a5",
   "metadata": {},
   "outputs": [],
   "source": [
    "dic_grid = DICGrid(n_x=58, n_y=14, d_x=22, d_y=22, start_t=0, end_t=8, U_factor=100, dir_name='B7_TV1',\n",
    "                   grid_column_first=False, grid_number_vertical=False)\n",
    "dic_aligned_grid = DICAlignedGrid(dic_grid=dic_grid, y_ref_i=-1, y_ref_j_min=1, y_ref_j_max=10 )\n",
    "dic_cor = DICCOR(dic_aligned_grid=dic_aligned_grid, n_x_min=-12, n_x_max=-8, n_x_step=1, n_y_min=1, n_y_max=10, n_y_step = 1)\n",
    "dic_cor.interact()"
   ]
  },
  {
   "cell_type": "code",
   "execution_count": null,
   "id": "cd935ea9",
   "metadata": {},
   "outputs": [],
   "source": [
    "dic_grid.interact()"
   ]
  },
  {
   "cell_type": "code",
   "execution_count": null,
   "id": "69da21c1-d5f5-46e3-9e2f-3819fd9ff62e",
   "metadata": {},
   "outputs": [],
   "source": [
    "#dic_grid.u_tija.shape"
   ]
  },
  {
   "cell_type": "markdown",
   "id": "8459b85c",
   "metadata": {},
   "source": [
    "# B10_TV2"
   ]
  },
  {
   "cell_type": "code",
   "execution_count": null,
   "id": "1888705e",
   "metadata": {},
   "outputs": [],
   "source": [
    "dic_grid = DICGrid(n_x=54, n_y=13, d_x = 23, d_y = 23, start_t = 0, end_t =10, U_factor = 100, dir_name='B10_TV2',\n",
    "                  grid_column_first = False, grid_number_vertical = False)\n",
    "dic_aligned_grid = DICAlignedGrid(dic_grid=dic_grid,\n",
    "                                 y_ref_i=-6, y_ref_j_min=1, y_ref_j_max=4)\n",
    "dic_cor = DICCOR(dic_aligned_grid=dic_aligned_grid,\n",
    "                 n_x_min = -11, n_x_max = -8, n_x_step=1, n_y_min = 1, n_y_max=5, n_y_step = 1)\n",
    "dic_cor.interact()"
   ]
  },
  {
   "cell_type": "code",
   "execution_count": null,
   "id": "1a377f61",
   "metadata": {},
   "outputs": [],
   "source": [
    "dic_grid.interact()"
   ]
  },
  {
   "cell_type": "markdown",
   "id": "50be6ff5",
   "metadata": {},
   "source": [
    "# Beams having grid numbering from top to bottom"
   ]
  },
  {
   "cell_type": "markdown",
   "id": "26fe1939",
   "metadata": {},
   "source": [
    "# B5_TV1"
   ]
  },
  {
   "cell_type": "code",
   "execution_count": null,
   "id": "1c39397f",
   "metadata": {},
   "outputs": [],
   "source": [
    "dic_grid = DICGrid(n_x=68, n_y=11, d_x = 25, d_y = 25,  \n",
    "                   start_t = 0, end_t =23, U_factor = 100, dir_name='B5_TV1', grid_column_first = True, \n",
    "                   grid_number_vertical = True)\n",
    "dic_aligned_grid = DICAlignedGrid(dic_grid=dic_grid,\n",
    "                                 y_ref_i=-23, y_ref_j_min=1, y_ref_j_max=10)\n",
    "dic_cor = DICCOR(dic_aligned_grid=dic_aligned_grid,\n",
    "                 n_x_min=-30, n_x_max=-27, n_x_step=1, n_y_min = 1, n_y_max=8, n_y_step = 1)"
   ]
  },
  {
   "cell_type": "code",
   "execution_count": null,
   "id": "7da94bff",
   "metadata": {},
   "outputs": [],
   "source": [
    "dic_cor.interact()"
   ]
  },
  {
   "cell_type": "code",
   "execution_count": null,
   "id": "c4933aec",
   "metadata": {},
   "outputs": [],
   "source": [
    "dic_grid.interact()"
   ]
  },
  {
   "cell_type": "markdown",
   "id": "ed53e867",
   "metadata": {},
   "source": [
    "# B5_TV2"
   ]
  },
  {
   "cell_type": "code",
   "execution_count": null,
   "id": "a955ece9",
   "metadata": {},
   "outputs": [],
   "source": [
    "dic_grid = DICGrid(n_x=71, n_y=12, d_x = 25, d_y = 25,  \n",
    "                   start_t = 0, end_t =20, U_factor = 100, dir_name='B5_TV2', grid_column_first = True, \n",
    "                   grid_number_vertical = True)\n",
    "dic_aligned_grid = DICAlignedGrid(dic_grid=dic_grid,\n",
    "                                 y_ref_i=-26, y_ref_j_min=1, y_ref_j_max=10)\n",
    "dic_cor = DICCOR(dic_aligned_grid=dic_aligned_grid,\n",
    "                 n_x_min=-31, n_x_max=-28, n_x_step=1, n_y_min = 3, n_y_max=10, n_y_step = 1)"
   ]
  },
  {
   "cell_type": "code",
   "execution_count": null,
   "id": "3b9a4bd8",
   "metadata": {},
   "outputs": [],
   "source": [
    "dic_cor.interact()"
   ]
  },
  {
   "cell_type": "code",
   "execution_count": null,
   "id": "2bdc2ffb",
   "metadata": {},
   "outputs": [],
   "source": [
    "dic_grid.interact()"
   ]
  },
  {
   "cell_type": "markdown",
   "id": "f6a85c31",
   "metadata": {},
   "source": [
    "# B7_TV2"
   ]
  },
  {
   "cell_type": "code",
   "execution_count": null,
   "id": "2002e534",
   "metadata": {},
   "outputs": [],
   "source": [
    "dic_grid = DICGrid(n_x=53, n_y=12, d_x = 23, d_y = 23,  \n",
    "                   start_t = 0, end_t =15, U_factor = 100, dir_name='B7_TV2', grid_column_first = True, \n",
    "                   grid_number_vertical = True)\n",
    "dic_aligned_grid = DICAlignedGrid(dic_grid=dic_grid,\n",
    "                                 y_ref_i=-28, y_ref_j_min=1, y_ref_j_max=10)\n",
    "dic_cor = DICCOR(dic_aligned_grid=dic_aligned_grid,\n",
    "                 n_x_min = 1, n_x_max = 12, n_x_step=1, n_y_min = 1, n_y_max=-1, n_y_step = 1)"
   ]
  },
  {
   "cell_type": "code",
   "execution_count": null,
   "id": "43f43ff3",
   "metadata": {},
   "outputs": [],
   "source": [
    "dic_cor.interact()"
   ]
  },
  {
   "cell_type": "code",
   "execution_count": null,
   "id": "5b31f77b",
   "metadata": {},
   "outputs": [],
   "source": [
    "dic_grid.interact()"
   ]
  },
  {
   "cell_type": "markdown",
   "id": "eb6aa837",
   "metadata": {},
   "source": [
    "# B8_TV1"
   ]
  },
  {
   "cell_type": "code",
   "execution_count": null,
   "id": "a4ba4bb8",
   "metadata": {},
   "outputs": [],
   "source": [
    "dic_grid = DICGrid(n_x=56, n_y=13, d_x = 23, d_y = 23,  \n",
    "                   start_t = 0, end_t =14, U_factor = 100, dir_name='B8_TV1', grid_column_first = True, \n",
    "                   grid_number_vertical = True)\n",
    "dic_aligned_grid = DICAlignedGrid(dic_grid=dic_grid,\n",
    "                                 y_ref_i=-33, y_ref_j_min=1, y_ref_j_max=8)\n",
    "dic_cor = DICCOR(dic_aligned_grid=dic_aligned_grid,\n",
    "                 n_x_min=1, n_x_max=15, n_x_step=1, n_y_min = 2, n_y_max=12, n_y_step = 1)"
   ]
  },
  {
   "cell_type": "code",
   "execution_count": null,
   "id": "2301fcc4",
   "metadata": {},
   "outputs": [],
   "source": [
    "dic_cor.interact()"
   ]
  },
  {
   "cell_type": "code",
   "execution_count": null,
   "id": "ccaeb20b",
   "metadata": {},
   "outputs": [],
   "source": [
    "dic_grid.interact()"
   ]
  },
  {
   "cell_type": "markdown",
   "id": "e31ea5fe",
   "metadata": {},
   "source": [
    "# B8_TV2"
   ]
  },
  {
   "cell_type": "code",
   "execution_count": null,
   "id": "8a458195",
   "metadata": {},
   "outputs": [],
   "source": [
    "dic_grid = DICGrid(n_x=56, n_y=14, d_x = 23, d_y = 23,  \n",
    "                   start_t = 0, end_t =14, U_factor = 100, dir_name='B8_TV2', grid_column_first = True, \n",
    "                   grid_number_vertical = True)\n",
    "dic_aligned_grid = DICAlignedGrid(dic_grid=dic_grid,\n",
    "                                 y_ref_i=-8, y_ref_j_min=1, y_ref_j_max=10)\n",
    "dic_cor = DICCOR(dic_aligned_grid=dic_aligned_grid,\n",
    "                 n_x_min = -16, n_x_max = -13, n_x_step=1, n_y_min = 5, n_y_max=11, n_y_step = 1)"
   ]
  },
  {
   "cell_type": "code",
   "execution_count": null,
   "id": "a027de26",
   "metadata": {},
   "outputs": [],
   "source": [
    "dic_cor.interact()"
   ]
  },
  {
   "cell_type": "code",
   "execution_count": null,
   "id": "6a82c1d2",
   "metadata": {},
   "outputs": [],
   "source": [
    "dic_grid.interact()"
   ]
  },
  {
   "cell_type": "markdown",
   "id": "a59901d5",
   "metadata": {},
   "source": [
    "# B9_TV1"
   ]
  },
  {
   "cell_type": "code",
   "execution_count": null,
   "id": "2d3f3366",
   "metadata": {},
   "outputs": [],
   "source": [
    "dic_grid = DICGrid(n_x=54, n_y=12, d_x = 23, d_y = 23, start_t = 0, end_t =19, U_factor = 100, dir_name='B9_TV1_',\n",
    "                  grid_column_first = True, grid_number_vertical = True)\n",
    "dic_aligned_grid = DICAlignedGrid(dic_grid=dic_grid,\n",
    "                                 y_ref_i=-33, y_ref_j_min=1, y_ref_j_max=6)\n",
    "dic_cor = DICCOR(dic_aligned_grid=dic_aligned_grid,\n",
    "                 n_x_min=1, n_x_max=14, n_x_step=1, n_y_min = 1, n_y_max=10, n_y_step = 1)"
   ]
  },
  {
   "cell_type": "code",
   "execution_count": null,
   "id": "c921c1d2",
   "metadata": {},
   "outputs": [],
   "source": [
    "dic_cor.interact()"
   ]
  },
  {
   "cell_type": "code",
   "execution_count": null,
   "id": "d1814c42",
   "metadata": {},
   "outputs": [],
   "source": [
    "dic_grid.interact()"
   ]
  },
  {
   "cell_type": "markdown",
   "id": "37cf4030",
   "metadata": {},
   "source": [
    "# B9_TV2"
   ]
  },
  {
   "cell_type": "code",
   "execution_count": null,
   "id": "6a9b5eea",
   "metadata": {},
   "outputs": [],
   "source": [
    "dic_grid = DICGrid(n_x=57, n_y=13, d_x = 22, d_y = 22,  \n",
    "                   start_t = 0, end_t =13, U_factor = 100, dir_name='B9_TV2', grid_column_first = True, \n",
    "                   grid_number_vertical = True)\n",
    "dic_aligned_grid = DICAlignedGrid(dic_grid=dic_grid,\n",
    "                                 y_ref_i=-33, y_ref_j_min=1, y_ref_j_max=8)\n",
    "dic_cor = DICCOR(dic_aligned_grid=dic_aligned_grid,\n",
    "                 n_x_min=1, n_x_max=14, n_x_step=1, n_y_min = 1, n_y_max=10, n_y_step = 1)"
   ]
  },
  {
   "cell_type": "code",
   "execution_count": null,
   "id": "57f0cc04",
   "metadata": {},
   "outputs": [],
   "source": [
    "dic_cor.interact()"
   ]
  },
  {
   "cell_type": "code",
   "execution_count": null,
   "id": "cdf1c3f6",
   "metadata": {},
   "outputs": [],
   "source": [
    "dic_grid.interact()"
   ]
  },
  {
   "cell_type": "markdown",
   "id": "3afc9598",
   "metadata": {},
   "source": [
    "# B10_TV1"
   ]
  },
  {
   "cell_type": "code",
   "execution_count": null,
   "id": "59bf09f3",
   "metadata": {},
   "outputs": [],
   "source": [
    "dic_grid = DICGrid(n_x=57, n_y=14, d_x = 22, d_y = 22,  \n",
    "                   start_t = 0, end_t =15, U_factor = 100, dir_name='B10_TV1', grid_column_first = True, \n",
    "                   grid_number_vertical = True)\n",
    "dic_aligned_grid = DICAlignedGrid(dic_grid=dic_grid,\n",
    "                                 y_ref_i=-14, y_ref_j_min=1, y_ref_j_max=10)\n",
    "dic_cor = DICCOR(dic_aligned_grid=dic_aligned_grid,\n",
    "                 n_x_min = -25, n_x_max = -22, n_x_step=1, n_y_min = 5, n_y_max=10, n_y_step = 1)"
   ]
  },
  {
   "cell_type": "code",
   "execution_count": null,
   "id": "89ac8df3",
   "metadata": {},
   "outputs": [],
   "source": [
    "dic_cor.interact()"
   ]
  },
  {
   "cell_type": "code",
   "execution_count": null,
   "id": "b6f731ab",
   "metadata": {},
   "outputs": [],
   "source": [
    "dic_grid.interact()"
   ]
  },
  {
   "cell_type": "code",
   "execution_count": null,
   "id": "fbf6e4ea",
   "metadata": {},
   "outputs": [],
   "source": [
    "+--++"
   ]
  }
 ],
 "metadata": {
  "kernelspec": {
   "display_name": "Python 3",
   "language": "python",
   "name": "python3"
  },
  "language_info": {
   "codemirror_mode": {
    "name": "ipython",
    "version": 3
   },
   "file_extension": ".py",
   "mimetype": "text/x-python",
   "name": "python",
   "nbconvert_exporter": "python",
   "pygments_lexer": "ipython3"
  }
 },
 "nbformat": 4,
 "nbformat_minor": 5
}
