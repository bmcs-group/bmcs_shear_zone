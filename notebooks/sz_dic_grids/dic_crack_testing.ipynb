{
 "cells": [
  {
   "cell_type": "markdown",
   "id": "7dc3651e",
   "metadata": {},
   "source": [
    "# **DIC Shear Crack Inspector**"
   ]
  },
  {
   "cell_type": "code",
   "execution_count": 1,
   "id": "ff698efd",
   "metadata": {},
   "outputs": [],
   "source": [
    "%matplotlib widget\n",
    "import numpy as np"
   ]
  },
  {
   "cell_type": "code",
   "execution_count": 2,
   "id": "c73f2661",
   "metadata": {},
   "outputs": [],
   "source": [
    "from bmcs_shear.dic_crack import DICGrid, DICAlignedGrid, DICCOR, DICInspector, DICCrack"
   ]
  },
  {
   "cell_type": "markdown",
   "id": "4b94c601",
   "metadata": {},
   "source": [
    "# B1_TV1"
   ]
  },
  {
   "cell_type": "code",
   "execution_count": 3,
   "id": "2e78e7b3",
   "metadata": {},
   "outputs": [],
   "source": [
    "dic_grid = DICGrid(dir_name='B1_TV1', start_t=0, end_t=-1, U_factor=100)\n",
    "dic_aligned_grid = DICAlignedGrid(dic_grid=dic_grid,\n",
    "                                  y_ref_i=-20, y_ref_j_min=1, y_ref_j_max=10)\n",
    "dic_cor = DICCOR(dic_aligned_grid=dic_aligned_grid,\n",
    "                 n_x_min=29, n_x_max=37, n_x_step=1, n_y_min=7, n_y_step=1)"
   ]
  },
  {
   "cell_type": "code",
   "execution_count": 4,
   "id": "311d85b5-a827-48c4-9cf0-7256d41bbb63",
   "metadata": {},
   "outputs": [
    {
     "data": {
      "application/vnd.jupyter.widget-view+json": {
       "model_id": "5defd63434dc4fcdb82b56fe9e69382c",
       "version_major": 2,
       "version_minor": 0
      },
      "text/plain": [
       "VBox(children=(HBox(children=(VBox(children=(Tree(layout=Layout(align_items='stretch', border='solid 1px black…"
      ]
     },
     "metadata": {},
     "output_type": "display_data"
    }
   ],
   "source": [
    "dic_grid.interact()"
   ]
  },
  {
   "cell_type": "code",
   "execution_count": 5,
   "id": "e029c434-6903-456c-87d9-6a46e763ddbc",
   "metadata": {},
   "outputs": [
    {
     "data": {
      "text/plain": [
       "array([[418.   ,   0.   ],\n",
       "       [417.886,  21.999],\n",
       "       [417.777,  43.999],\n",
       "       [417.664,  65.998],\n",
       "       [417.55 ,  87.988],\n",
       "       [417.441, 109.986],\n",
       "       [417.328, 131.982],\n",
       "       [417.211, 153.973],\n",
       "       [417.133, 176.055],\n",
       "       [417.063, 198.258]])"
      ]
     },
     "execution_count": 5,
     "metadata": {},
     "output_type": "execute_result"
    }
   ],
   "source": [
    "import numpy as np\n",
    "da = dic_aligned_grid\n",
    "# Get the global displaced configuration without reference point displacement\n",
    "X_ref_ija = da.X_ija + da.U_ref_ija\n",
    "X_ref_ija[da.y_ref_i, :da.y_ref_j_max]"
   ]
  },
  {
   "cell_type": "code",
   "execution_count": 6,
   "id": "319fc89d-f1e6-429f-8ba2-a217082b7dc3",
   "metadata": {},
   "outputs": [
    {
     "data": {
      "text/plain": [
       "array([[ 0.00000e+00,  0.00000e+00],\n",
       "       [-1.14000e-01,  2.19990e+01],\n",
       "       [-2.23000e-01,  4.39990e+01],\n",
       "       [-3.36000e-01,  6.59980e+01],\n",
       "       [-4.50000e-01,  8.79880e+01],\n",
       "       [-5.59000e-01,  1.09986e+02],\n",
       "       [-6.72000e-01,  1.31982e+02],\n",
       "       [-7.89000e-01,  1.53973e+02],\n",
       "       [-8.67000e-01,  1.76055e+02],\n",
       "       [-9.37000e-01,  1.98258e+02]])"
      ]
     },
     "execution_count": 6,
     "metadata": {},
     "output_type": "execute_result"
    }
   ],
   "source": [
    "# Put the origin of the coordinate system into the reference point\n",
    "X0_a = X_ref_ija[da.y_ref_i, 0]\n",
    "X0_ija = X_ref_ija - X0_a[np.newaxis, np.newaxis, :]\n",
    "X0_ja = X0_ija[da.y_ref_i, :da.y_ref_j_max]\n",
    "X0_ja"
   ]
  },
  {
   "cell_type": "code",
   "execution_count": 7,
   "id": "9f60b524-4342-4a91-aa15-aed90a3e0b30",
   "metadata": {},
   "outputs": [
    {
     "data": {
      "text/plain": [
       "(-0.005044940856657044, -0.005044940856657044)"
      ]
     },
     "execution_count": 7,
     "metadata": {},
     "output_type": "execute_result"
    }
   ],
   "source": [
    "alpha0 = np.arctan(X0_ja[1:,0] / X0_ja[1:,1]) \n",
    "np.average(alpha0), da.alpha_ref"
   ]
  },
  {
   "cell_type": "code",
   "execution_count": 8,
   "id": "11f8305c-cd4f-44d3-b4a0-a02b58dc2c9d",
   "metadata": {},
   "outputs": [],
   "source": [
    "# Rotate all points by the inclination of the vertical axis alpha\n",
    "x0_ija = np.einsum('ba,...a->...b', da.T_ab, X0_ija)"
   ]
  },
  {
   "cell_type": "code",
   "execution_count": 9,
   "id": "1cb7da77-56d5-4620-aabe-e83d8d63ce62",
   "metadata": {},
   "outputs": [
    {
     "data": {
      "text/plain": [
       "4.2765752359150455e-19"
      ]
     },
     "execution_count": 9,
     "metadata": {},
     "output_type": "execute_result"
    }
   ],
   "source": [
    "da = dic_aligned_grid\n",
    "y0_ja = x0_ija[da.y_ref_i, :da.y_ref_j_max]\n",
    "(y0_ja-y0_ja[0])\n",
    "alpha0 = np.arctan(y0_ja[1:,0] / y0_ja[1:,1]) \n",
    "np.average(alpha0)"
   ]
  },
  {
   "cell_type": "code",
   "execution_count": 10,
   "id": "295c3db7",
   "metadata": {},
   "outputs": [
    {
     "data": {
      "application/vnd.jupyter.widget-view+json": {
       "model_id": "b86faf4b4a694b8290894e494146970f",
       "version_major": 2,
       "version_minor": 0
      },
      "text/plain": [
       "VBox(children=(HBox(children=(VBox(children=(Tree(layout=Layout(align_items='stretch', border='solid 1px black…"
      ]
     },
     "metadata": {},
     "output_type": "display_data"
    }
   ],
   "source": [
    "dic_cor.interact()"
   ]
  },
  {
   "cell_type": "markdown",
   "id": "06c43539",
   "metadata": {},
   "source": [
    "# B1_TV2"
   ]
  },
  {
   "cell_type": "code",
   "execution_count": 11,
   "id": "9bf7d6ff",
   "metadata": {},
   "outputs": [
    {
     "data": {
      "application/vnd.jupyter.widget-view+json": {
       "model_id": "f50bef69a973425eb41e28c37748ebcc",
       "version_major": 2,
       "version_minor": 0
      },
      "text/plain": [
       "VBox(children=(HBox(children=(VBox(children=(Tree(layout=Layout(align_items='stretch', border='solid 1px black…"
      ]
     },
     "metadata": {},
     "output_type": "display_data"
    }
   ],
   "source": [
    "dic_grid = DICGrid(dir_name='B1_TV2', end_t =7, U_factor = 60)\n",
    "dic_aligned_grid = DICAlignedGrid(dic_grid=dic_grid,\n",
    "                                 y_ref_i = -7, y_ref_j_min=1, y_ref_j_max=10 )\n",
    "dic_cor = DICCOR(dic_aligned_grid=dic_aligned_grid,\n",
    "                 n_x_min = -16, n_x_max = -12, n_x_step=1, n_y_min = 7, n_y_max=-1, n_y_step = 1)\n",
    "dic_cor.interact()"
   ]
  },
  {
   "cell_type": "code",
   "execution_count": 12,
   "id": "d0e95c3b",
   "metadata": {},
   "outputs": [
    {
     "data": {
      "application/vnd.jupyter.widget-view+json": {
       "model_id": "e19a9bc794aa42dc82e305be1941192c",
       "version_major": 2,
       "version_minor": 0
      },
      "text/plain": [
       "VBox(children=(HBox(children=(VBox(children=(Tree(layout=Layout(align_items='stretch', border='solid 1px black…"
      ]
     },
     "metadata": {},
     "output_type": "display_data"
    }
   ],
   "source": [
    "dic_grid.interact()"
   ]
  },
  {
   "cell_type": "markdown",
   "id": "f0adcf55",
   "metadata": {},
   "source": [
    "# B6_TV1"
   ]
  },
  {
   "cell_type": "code",
   "execution_count": 15,
   "id": "4df2fbe8",
   "metadata": {},
   "outputs": [
    {
     "data": {
      "application/vnd.jupyter.widget-view+json": {
       "model_id": "ec2a3521c8514e5fb693ae91d681940c",
       "version_major": 2,
       "version_minor": 0
      },
      "text/plain": [
       "VBox(children=(HBox(children=(VBox(children=(Tree(layout=Layout(align_items='stretch', border='solid 1px black…"
      ]
     },
     "metadata": {},
     "output_type": "display_data"
    }
   ],
   "source": [
    "dic_grid = DICGrid(n_x=58, n_y=15, d_x = 22, d_y = 22, \n",
    "                     start_t = 0, end_t =8, U_factor = 100, dir_name='B6_TV1', grid_column_first = False, \n",
    "                    grid_number_vertical = False)\n",
    "dic_aligned_grid = DICAlignedGrid(dic_grid=dic_grid,\n",
    "                                 y_ref_i=-21, y_ref_j_min=1, y_ref_j_max=7 )\n",
    "dic_cor = DICCOR(dic_aligned_grid=dic_aligned_grid,\n",
    "                 n_x_min = -29, n_x_max = -23, n_x_step=1, n_y_min = 4, n_y_max=8, n_y_step = 1)\n",
    "dic_cor.interact()"
   ]
  },
  {
   "cell_type": "code",
   "execution_count": 16,
   "id": "a4ae419c",
   "metadata": {},
   "outputs": [
    {
     "data": {
      "application/vnd.jupyter.widget-view+json": {
       "model_id": "e88f5839e5764567b44d6035611aa0f5",
       "version_major": 2,
       "version_minor": 0
      },
      "text/plain": [
       "VBox(children=(HBox(children=(VBox(children=(Tree(layout=Layout(align_items='stretch', border='solid 1px black…"
      ]
     },
     "metadata": {},
     "output_type": "display_data"
    }
   ],
   "source": [
    "dic_grid.interact()"
   ]
  },
  {
   "cell_type": "markdown",
   "id": "cba48aaa",
   "metadata": {},
   "source": [
    "# B6_TV2"
   ]
  },
  {
   "cell_type": "code",
   "execution_count": 17,
   "id": "828c5a03",
   "metadata": {},
   "outputs": [
    {
     "data": {
      "application/vnd.jupyter.widget-view+json": {
       "model_id": "9be51fe72577441698848b12ce5e6ba3",
       "version_major": 2,
       "version_minor": 0
      },
      "text/plain": [
       "VBox(children=(HBox(children=(VBox(children=(Tree(layout=Layout(align_items='stretch', border='solid 1px black…"
      ]
     },
     "metadata": {},
     "output_type": "display_data"
    }
   ],
   "source": [
    "dic_grid = DICGrid(n_x=57, n_y=13, d_x = 22, d_y = 22, start_t = 0, end_t =-3, U_factor = 100, dir_name='B6_TV2_',\n",
    "                  grid_column_first = False, grid_number_vertical = False)\n",
    "dic_aligned_grid = DICAlignedGrid(dic_grid=dic_grid,\n",
    "                                 y_ref_i = -15, y_ref_j_min=1, y_ref_j_max=10 )\n",
    "dic_cor = DICCOR(dic_aligned_grid=dic_aligned_grid,\n",
    "                 n_x_min = -19, n_x_max = -16, n_x_step=1, n_y_min = 1, n_y_max=8, n_y_step = 1)\n",
    "dic_cor.interact()"
   ]
  },
  {
   "cell_type": "code",
   "execution_count": 18,
   "id": "ea7d1170",
   "metadata": {},
   "outputs": [
    {
     "data": {
      "application/vnd.jupyter.widget-view+json": {
       "model_id": "edae0c5161444d0da1ed78c2b0fb5453",
       "version_major": 2,
       "version_minor": 0
      },
      "text/plain": [
       "VBox(children=(HBox(children=(VBox(children=(Tree(layout=Layout(align_items='stretch', border='solid 1px black…"
      ]
     },
     "metadata": {},
     "output_type": "display_data"
    }
   ],
   "source": [
    "dic_grid.interact()"
   ]
  },
  {
   "cell_type": "markdown",
   "id": "0a4b531c",
   "metadata": {},
   "source": [
    "# B7_TV1"
   ]
  },
  {
   "cell_type": "code",
   "execution_count": 19,
   "id": "f81508a5",
   "metadata": {},
   "outputs": [
    {
     "data": {
      "application/vnd.jupyter.widget-view+json": {
       "model_id": "42196ff9f44e41288c3c7983b989e16f",
       "version_major": 2,
       "version_minor": 0
      },
      "text/plain": [
       "VBox(children=(HBox(children=(VBox(children=(Tree(layout=Layout(align_items='stretch', border='solid 1px black…"
      ]
     },
     "metadata": {},
     "output_type": "display_data"
    }
   ],
   "source": [
    "dic_grid = DICGrid(n_x=58, n_y=14, d_x=22, d_y=22, start_t=0, end_t=8, U_factor=100, dir_name='B7_TV1',\n",
    "                   grid_column_first=False, grid_number_vertical=False)\n",
    "dic_aligned_grid = DICAlignedGrid(dic_grid=dic_grid, y_ref_i=-1, y_ref_j_min=1, y_ref_j_max=10 )\n",
    "dic_cor = DICCOR(dic_aligned_grid=dic_aligned_grid, n_x_min=-12, n_x_max=-8, n_x_step=1, n_y_min=1, n_y_max=10, n_y_step = 1)\n",
    "dic_cor.interact()"
   ]
  },
  {
   "cell_type": "code",
   "execution_count": 20,
   "id": "cd935ea9",
   "metadata": {},
   "outputs": [
    {
     "data": {
      "application/vnd.jupyter.widget-view+json": {
       "model_id": "7e53ec44c9e44700972e1375729e6f20",
       "version_major": 2,
       "version_minor": 0
      },
      "text/plain": [
       "VBox(children=(HBox(children=(VBox(children=(Tree(layout=Layout(align_items='stretch', border='solid 1px black…"
      ]
     },
     "metadata": {},
     "output_type": "display_data"
    }
   ],
   "source": [
    "dic_grid.interact()"
   ]
  },
  {
   "cell_type": "code",
   "execution_count": 21,
   "id": "69da21c1-d5f5-46e3-9e2f-3819fd9ff62e",
   "metadata": {},
   "outputs": [],
   "source": [
    "#dic_grid.u_tija.shape"
   ]
  },
  {
   "cell_type": "markdown",
   "id": "8459b85c",
   "metadata": {},
   "source": [
    "# B10_TV2"
   ]
  },
  {
   "cell_type": "code",
   "execution_count": 22,
   "id": "1888705e",
   "metadata": {},
   "outputs": [
    {
     "data": {
      "application/vnd.jupyter.widget-view+json": {
       "model_id": "729ba0f0f2944db388ce1817ebab92e7",
       "version_major": 2,
       "version_minor": 0
      },
      "text/plain": [
       "VBox(children=(HBox(children=(VBox(children=(Tree(layout=Layout(align_items='stretch', border='solid 1px black…"
      ]
     },
     "metadata": {},
     "output_type": "display_data"
    }
   ],
   "source": [
    "dic_grid = DICGrid(n_x=54, n_y=13, d_x = 23, d_y = 23, start_t = 0, end_t =10, U_factor = 100, dir_name='B10_TV2',\n",
    "                  grid_column_first = False, grid_number_vertical = False)\n",
    "dic_aligned_grid = DICAlignedGrid(dic_grid=dic_grid,\n",
    "                                 y_ref_i=-6, y_ref_j_min=1, y_ref_j_max=4)\n",
    "dic_cor = DICCOR(dic_aligned_grid=dic_aligned_grid,\n",
    "                 n_x_min = -11, n_x_max = -8, n_x_step=1, n_y_min = 1, n_y_max=5, n_y_step = 1)\n",
    "dic_cor.interact()"
   ]
  },
  {
   "cell_type": "code",
   "execution_count": 23,
   "id": "1a377f61",
   "metadata": {},
   "outputs": [
    {
     "data": {
      "application/vnd.jupyter.widget-view+json": {
       "model_id": "9303a2cab0ad4fb3852ea3fd87c531eb",
       "version_major": 2,
       "version_minor": 0
      },
      "text/plain": [
       "VBox(children=(HBox(children=(VBox(children=(Tree(layout=Layout(align_items='stretch', border='solid 1px black…"
      ]
     },
     "metadata": {},
     "output_type": "display_data"
    }
   ],
   "source": [
    "dic_grid.interact()"
   ]
  },
  {
   "cell_type": "markdown",
   "id": "50be6ff5",
   "metadata": {},
   "source": [
    "# Beams having grid numbering from top to bottom"
   ]
  },
  {
   "cell_type": "markdown",
   "id": "26fe1939",
   "metadata": {},
   "source": [
    "# B5_TV1"
   ]
  },
  {
   "cell_type": "code",
   "execution_count": 24,
   "id": "1c39397f",
   "metadata": {},
   "outputs": [],
   "source": [
    "dic_grid = DICGrid(n_x=68, n_y=11, d_x = 25, d_y = 25,  \n",
    "                   start_t = 0, end_t =23, U_factor = 100, dir_name='B5_TV1', grid_column_first = True, \n",
    "                   grid_number_vertical = True)\n",
    "dic_aligned_grid = DICAlignedGrid(dic_grid=dic_grid,\n",
    "                                 y_ref_i=-23, y_ref_j_min=1, y_ref_j_max=10)\n",
    "dic_cor = DICCOR(dic_aligned_grid=dic_aligned_grid,\n",
    "                 n_x_min=-30, n_x_max=-27, n_x_step=1, n_y_min = 1, n_y_max=8, n_y_step = 1)"
   ]
  },
  {
   "cell_type": "code",
   "execution_count": 25,
   "id": "7da94bff",
   "metadata": {},
   "outputs": [
    {
     "data": {
      "application/vnd.jupyter.widget-view+json": {
       "model_id": "5c2eb803e23f434989d1edb6a7e7685f",
       "version_major": 2,
       "version_minor": 0
      },
      "text/plain": [
       "VBox(children=(HBox(children=(VBox(children=(Tree(layout=Layout(align_items='stretch', border='solid 1px black…"
      ]
     },
     "metadata": {},
     "output_type": "display_data"
    }
   ],
   "source": [
    "dic_cor.interact()"
   ]
  },
  {
   "cell_type": "code",
   "execution_count": 26,
   "id": "c4933aec",
   "metadata": {},
   "outputs": [
    {
     "data": {
      "application/vnd.jupyter.widget-view+json": {
       "model_id": "9ec8398515f5481c956f3ba836015812",
       "version_major": 2,
       "version_minor": 0
      },
      "text/plain": [
       "VBox(children=(HBox(children=(VBox(children=(Tree(layout=Layout(align_items='stretch', border='solid 1px black…"
      ]
     },
     "metadata": {},
     "output_type": "display_data"
    }
   ],
   "source": [
    "dic_grid.interact()"
   ]
  },
  {
   "cell_type": "markdown",
   "id": "ed53e867",
   "metadata": {},
   "source": [
    "# B5_TV2"
   ]
  },
  {
   "cell_type": "code",
   "execution_count": 27,
   "id": "a955ece9",
   "metadata": {},
   "outputs": [],
   "source": [
    "dic_grid = DICGrid(n_x=71, n_y=12, d_x = 25, d_y = 25,  \n",
    "                   start_t = 0, end_t =20, U_factor = 100, dir_name='B5_TV2', grid_column_first = True, \n",
    "                   grid_number_vertical = True)\n",
    "dic_aligned_grid = DICAlignedGrid(dic_grid=dic_grid,\n",
    "                                 y_ref_i=-26, y_ref_j_min=1, y_ref_j_max=10)\n",
    "dic_cor = DICCOR(dic_aligned_grid=dic_aligned_grid,\n",
    "                 n_x_min=-31, n_x_max=-28, n_x_step=1, n_y_min = 3, n_y_max=10, n_y_step = 1)"
   ]
  },
  {
   "cell_type": "code",
   "execution_count": 28,
   "id": "3b9a4bd8",
   "metadata": {},
   "outputs": [
    {
     "data": {
      "application/vnd.jupyter.widget-view+json": {
       "model_id": "26cc6b9fff864683b2f8480c07eff3c6",
       "version_major": 2,
       "version_minor": 0
      },
      "text/plain": [
       "VBox(children=(HBox(children=(VBox(children=(Tree(layout=Layout(align_items='stretch', border='solid 1px black…"
      ]
     },
     "metadata": {},
     "output_type": "display_data"
    }
   ],
   "source": [
    "dic_cor.interact()"
   ]
  },
  {
   "cell_type": "code",
   "execution_count": 29,
   "id": "2bdc2ffb",
   "metadata": {},
   "outputs": [
    {
     "data": {
      "application/vnd.jupyter.widget-view+json": {
       "model_id": "2d11459c43824942af8d0bd4c176188c",
       "version_major": 2,
       "version_minor": 0
      },
      "text/plain": [
       "VBox(children=(HBox(children=(VBox(children=(Tree(layout=Layout(align_items='stretch', border='solid 1px black…"
      ]
     },
     "metadata": {},
     "output_type": "display_data"
    }
   ],
   "source": [
    "dic_grid.interact()"
   ]
  },
  {
   "cell_type": "markdown",
   "id": "f6a85c31",
   "metadata": {},
   "source": [
    "# B7_TV2"
   ]
  },
  {
   "cell_type": "code",
   "execution_count": 30,
   "id": "2002e534",
   "metadata": {},
   "outputs": [],
   "source": [
    "dic_grid = DICGrid(n_x=53, n_y=12, d_x = 23, d_y = 23,  \n",
    "                   start_t = 0, end_t =15, U_factor = 100, dir_name='B7_TV2', grid_column_first = True, \n",
    "                   grid_number_vertical = True)\n",
    "dic_aligned_grid = DICAlignedGrid(dic_grid=dic_grid,\n",
    "                                 y_ref_i=-28, y_ref_j_min=1, y_ref_j_max=10)\n",
    "dic_cor = DICCOR(dic_aligned_grid=dic_aligned_grid,\n",
    "                 n_x_min = 1, n_x_max = 12, n_x_step=1, n_y_min = 1, n_y_max=-1, n_y_step = 1)"
   ]
  },
  {
   "cell_type": "code",
   "execution_count": 31,
   "id": "43f43ff3",
   "metadata": {},
   "outputs": [
    {
     "data": {
      "application/vnd.jupyter.widget-view+json": {
       "model_id": "ada8949b077b466ba50c20a25404fb32",
       "version_major": 2,
       "version_minor": 0
      },
      "text/plain": [
       "VBox(children=(HBox(children=(VBox(children=(Tree(layout=Layout(align_items='stretch', border='solid 1px black…"
      ]
     },
     "metadata": {},
     "output_type": "display_data"
    }
   ],
   "source": [
    "dic_cor.interact()"
   ]
  },
  {
   "cell_type": "code",
   "execution_count": 32,
   "id": "5b31f77b",
   "metadata": {},
   "outputs": [
    {
     "data": {
      "application/vnd.jupyter.widget-view+json": {
       "model_id": "2a3d09910a544d058b9cb1783515904e",
       "version_major": 2,
       "version_minor": 0
      },
      "text/plain": [
       "VBox(children=(HBox(children=(VBox(children=(Tree(layout=Layout(align_items='stretch', border='solid 1px black…"
      ]
     },
     "metadata": {},
     "output_type": "display_data"
    }
   ],
   "source": [
    "dic_grid.interact()"
   ]
  },
  {
   "cell_type": "markdown",
   "id": "eb6aa837",
   "metadata": {},
   "source": [
    "# B8_TV1"
   ]
  },
  {
   "cell_type": "code",
   "execution_count": 33,
   "id": "a4ba4bb8",
   "metadata": {},
   "outputs": [],
   "source": [
    "dic_grid = DICGrid(n_x=56, n_y=13, d_x = 23, d_y = 23,  \n",
    "                   start_t = 0, end_t =14, U_factor = 100, dir_name='B8_TV1', grid_column_first = True, \n",
    "                   grid_number_vertical = True)\n",
    "dic_aligned_grid = DICAlignedGrid(dic_grid=dic_grid,\n",
    "                                 y_ref_i=-33, y_ref_j_min=1, y_ref_j_max=8)\n",
    "dic_cor = DICCOR(dic_aligned_grid=dic_aligned_grid,\n",
    "                 n_x_min=1, n_x_max=15, n_x_step=1, n_y_min = 2, n_y_max=12, n_y_step = 1)"
   ]
  },
  {
   "cell_type": "code",
   "execution_count": 34,
   "id": "2301fcc4",
   "metadata": {},
   "outputs": [
    {
     "data": {
      "application/vnd.jupyter.widget-view+json": {
       "model_id": "a01152f9eb8b43d0ba4d147c29e1a698",
       "version_major": 2,
       "version_minor": 0
      },
      "text/plain": [
       "VBox(children=(HBox(children=(VBox(children=(Tree(layout=Layout(align_items='stretch', border='solid 1px black…"
      ]
     },
     "metadata": {},
     "output_type": "display_data"
    }
   ],
   "source": [
    "dic_cor.interact()"
   ]
  },
  {
   "cell_type": "code",
   "execution_count": 35,
   "id": "ccaeb20b",
   "metadata": {},
   "outputs": [
    {
     "data": {
      "application/vnd.jupyter.widget-view+json": {
       "model_id": "d1d6408d6702418eaa2da82c2af2cc4a",
       "version_major": 2,
       "version_minor": 0
      },
      "text/plain": [
       "VBox(children=(HBox(children=(VBox(children=(Tree(layout=Layout(align_items='stretch', border='solid 1px black…"
      ]
     },
     "metadata": {},
     "output_type": "display_data"
    }
   ],
   "source": [
    "dic_grid.interact()"
   ]
  },
  {
   "cell_type": "markdown",
   "id": "e31ea5fe",
   "metadata": {},
   "source": [
    "# B8_TV2"
   ]
  },
  {
   "cell_type": "code",
   "execution_count": 36,
   "id": "8a458195",
   "metadata": {},
   "outputs": [],
   "source": [
    "dic_grid = DICGrid(n_x=56, n_y=14, d_x = 23, d_y = 23,  \n",
    "                   start_t = 0, end_t =14, U_factor = 100, dir_name='B8_TV2', grid_column_first = True, \n",
    "                   grid_number_vertical = True)\n",
    "dic_aligned_grid = DICAlignedGrid(dic_grid=dic_grid,\n",
    "                                 y_ref_i=-8, y_ref_j_min=1, y_ref_j_max=10)\n",
    "dic_cor = DICCOR(dic_aligned_grid=dic_aligned_grid,\n",
    "                 n_x_min = -16, n_x_max = -13, n_x_step=1, n_y_min = 5, n_y_max=11, n_y_step = 1)"
   ]
  },
  {
   "cell_type": "code",
   "execution_count": 37,
   "id": "a027de26",
   "metadata": {},
   "outputs": [
    {
     "name": "stderr",
     "output_type": "stream",
     "text": [
      "c:\\users\\fahad\\pycharmprojects\\bmcs_utils\\bmcs_utils\\app_window.py:34: RuntimeWarning: More than 20 figures have been opened. Figures created through the pyplot interface (`matplotlib.pyplot.figure`) are retained until explicitly closed and may consume too much memory. (To control this warning, see the rcParam `figure.max_open_warning`).\n",
      "  fig = plt.figure(tight_layout=True, *args, **kw)\n"
     ]
    },
    {
     "data": {
      "application/vnd.jupyter.widget-view+json": {
       "model_id": "2aa4b22fd23a49b498d5f38baf0174fa",
       "version_major": 2,
       "version_minor": 0
      },
      "text/plain": [
       "VBox(children=(HBox(children=(VBox(children=(Tree(layout=Layout(align_items='stretch', border='solid 1px black…"
      ]
     },
     "metadata": {},
     "output_type": "display_data"
    }
   ],
   "source": [
    "dic_cor.interact()"
   ]
  },
  {
   "cell_type": "code",
   "execution_count": 38,
   "id": "6a82c1d2",
   "metadata": {},
   "outputs": [
    {
     "data": {
      "application/vnd.jupyter.widget-view+json": {
       "model_id": "63c4387e911a49df8a1cd8fafcdbfe3a",
       "version_major": 2,
       "version_minor": 0
      },
      "text/plain": [
       "VBox(children=(HBox(children=(VBox(children=(Tree(layout=Layout(align_items='stretch', border='solid 1px black…"
      ]
     },
     "metadata": {},
     "output_type": "display_data"
    }
   ],
   "source": [
    "dic_grid.interact()"
   ]
  },
  {
   "cell_type": "markdown",
   "id": "a59901d5",
   "metadata": {},
   "source": [
    "# B9_TV1"
   ]
  },
  {
   "cell_type": "code",
   "execution_count": 39,
   "id": "2d3f3366",
   "metadata": {},
   "outputs": [],
   "source": [
    "dic_grid = DICGrid(n_x=54, n_y=12, d_x = 23, d_y = 23, start_t = 0, end_t =19, U_factor = 100, dir_name='B9_TV1_',\n",
    "                  grid_column_first = True, grid_number_vertical = True)\n",
    "dic_aligned_grid = DICAlignedGrid(dic_grid=dic_grid,\n",
    "                                 y_ref_i=-33, y_ref_j_min=1, y_ref_j_max=6)\n",
    "dic_cor = DICCOR(dic_aligned_grid=dic_aligned_grid,\n",
    "                 n_x_min=1, n_x_max=14, n_x_step=1, n_y_min = 1, n_y_max=10, n_y_step = 1)"
   ]
  },
  {
   "cell_type": "code",
   "execution_count": 40,
   "id": "c921c1d2",
   "metadata": {},
   "outputs": [
    {
     "data": {
      "application/vnd.jupyter.widget-view+json": {
       "model_id": "a5902f9d4d004f319e8c7c629c411bdd",
       "version_major": 2,
       "version_minor": 0
      },
      "text/plain": [
       "VBox(children=(HBox(children=(VBox(children=(Tree(layout=Layout(align_items='stretch', border='solid 1px black…"
      ]
     },
     "metadata": {},
     "output_type": "display_data"
    }
   ],
   "source": [
    "dic_cor.interact()"
   ]
  },
  {
   "cell_type": "code",
   "execution_count": 41,
   "id": "d1814c42",
   "metadata": {},
   "outputs": [
    {
     "data": {
      "application/vnd.jupyter.widget-view+json": {
       "model_id": "7e332a71f24749f59cc206a151185f4f",
       "version_major": 2,
       "version_minor": 0
      },
      "text/plain": [
       "VBox(children=(HBox(children=(VBox(children=(Tree(layout=Layout(align_items='stretch', border='solid 1px black…"
      ]
     },
     "metadata": {},
     "output_type": "display_data"
    }
   ],
   "source": [
    "dic_grid.interact()"
   ]
  },
  {
   "cell_type": "markdown",
   "id": "37cf4030",
   "metadata": {},
   "source": [
    "# B9_TV2"
   ]
  },
  {
   "cell_type": "code",
   "execution_count": 42,
   "id": "6a9b5eea",
   "metadata": {},
   "outputs": [],
   "source": [
    "dic_grid = DICGrid(n_x=57, n_y=13, d_x = 22, d_y = 22,  \n",
    "                   start_t = 0, end_t =13, U_factor = 100, dir_name='B9_TV2', grid_column_first = True, \n",
    "                   grid_number_vertical = True)\n",
    "dic_aligned_grid = DICAlignedGrid(dic_grid=dic_grid,\n",
    "                                 y_ref_i=-33, y_ref_j_min=1, y_ref_j_max=8)\n",
    "dic_cor = DICCOR(dic_aligned_grid=dic_aligned_grid,\n",
    "                 n_x_min=1, n_x_max=14, n_x_step=1, n_y_min = 1, n_y_max=10, n_y_step = 1)"
   ]
  },
  {
   "cell_type": "code",
   "execution_count": 43,
   "id": "57f0cc04",
   "metadata": {},
   "outputs": [
    {
     "data": {
      "application/vnd.jupyter.widget-view+json": {
       "model_id": "91afd95a49b044389f56e1161a28629c",
       "version_major": 2,
       "version_minor": 0
      },
      "text/plain": [
       "VBox(children=(HBox(children=(VBox(children=(Tree(layout=Layout(align_items='stretch', border='solid 1px black…"
      ]
     },
     "metadata": {},
     "output_type": "display_data"
    }
   ],
   "source": [
    "dic_cor.interact()"
   ]
  },
  {
   "cell_type": "code",
   "execution_count": 44,
   "id": "cdf1c3f6",
   "metadata": {},
   "outputs": [
    {
     "data": {
      "application/vnd.jupyter.widget-view+json": {
       "model_id": "4473a36cccf5428cbc558176568e6a3c",
       "version_major": 2,
       "version_minor": 0
      },
      "text/plain": [
       "VBox(children=(HBox(children=(VBox(children=(Tree(layout=Layout(align_items='stretch', border='solid 1px black…"
      ]
     },
     "metadata": {},
     "output_type": "display_data"
    }
   ],
   "source": [
    "dic_grid.interact()"
   ]
  },
  {
   "cell_type": "markdown",
   "id": "3afc9598",
   "metadata": {},
   "source": [
    "# B10_TV1"
   ]
  },
  {
   "cell_type": "code",
   "execution_count": 45,
   "id": "59bf09f3",
   "metadata": {},
   "outputs": [],
   "source": [
    "dic_grid = DICGrid(n_x=57, n_y=14, d_x = 22, d_y = 22,  \n",
    "                   start_t = 0, end_t =15, U_factor = 100, dir_name='B10_TV1', grid_column_first = True, \n",
    "                   grid_number_vertical = True)\n",
    "dic_aligned_grid = DICAlignedGrid(dic_grid=dic_grid,\n",
    "                                 y_ref_i=-14, y_ref_j_min=1, y_ref_j_max=10)\n",
    "dic_cor = DICCOR(dic_aligned_grid=dic_aligned_grid,\n",
    "                 n_x_min = -25, n_x_max = -22, n_x_step=1, n_y_min = 5, n_y_max=10, n_y_step = 1)"
   ]
  },
  {
   "cell_type": "code",
   "execution_count": 46,
   "id": "89ac8df3",
   "metadata": {},
   "outputs": [
    {
     "data": {
      "application/vnd.jupyter.widget-view+json": {
       "model_id": "ef9841ea589c486dbbd0a6d7c2d535ff",
       "version_major": 2,
       "version_minor": 0
      },
      "text/plain": [
       "VBox(children=(HBox(children=(VBox(children=(Tree(layout=Layout(align_items='stretch', border='solid 1px black…"
      ]
     },
     "metadata": {},
     "output_type": "display_data"
    }
   ],
   "source": [
    "dic_cor.interact()"
   ]
  },
  {
   "cell_type": "code",
   "execution_count": 47,
   "id": "b6f731ab",
   "metadata": {},
   "outputs": [
    {
     "data": {
      "application/vnd.jupyter.widget-view+json": {
       "model_id": "0cf34c1e760f401e83f7b62221f85921",
       "version_major": 2,
       "version_minor": 0
      },
      "text/plain": [
       "VBox(children=(HBox(children=(VBox(children=(Tree(layout=Layout(align_items='stretch', border='solid 1px black…"
      ]
     },
     "metadata": {},
     "output_type": "display_data"
    }
   ],
   "source": [
    "dic_grid.interact()"
   ]
  },
  {
   "cell_type": "code",
   "execution_count": null,
   "id": "fbf6e4ea",
   "metadata": {},
   "outputs": [],
   "source": [
    "+--++"
   ]
  }
 ],
 "metadata": {
  "kernelspec": {
   "display_name": "Python 3",
   "language": "python",
   "name": "python3"
  },
  "language_info": {
   "codemirror_mode": {
    "name": "ipython",
    "version": 3
   },
   "file_extension": ".py",
   "mimetype": "text/x-python",
   "name": "python",
   "nbconvert_exporter": "python",
   "pygments_lexer": "ipython3",
   "version": "3.8.8"
  }
 },
 "nbformat": 4,
 "nbformat_minor": 5
}
