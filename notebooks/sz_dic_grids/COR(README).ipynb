{
 "cells": [
  {
   "cell_type": "code",
   "execution_count": 6,
   "id": "309a85c7",
   "metadata": {},
   "outputs": [],
   "source": [
    "import numpy as np\n",
    "from bmcs_shear.dic_crack import DICGrid, DICAlignedGrid, DICCOR, DICInspector, DICCrack\n",
    "from bmcs_shear.api import CrackBridgeAdv"
   ]
  },
  {
   "cell_type": "markdown",
   "id": "c7882556",
   "metadata": {},
   "source": [
    "# **DIC Shear Zone Inspector**"
   ]
  },
  {
   "cell_type": "markdown",
   "id": "42788bcc",
   "metadata": {},
   "source": [
    "## Evaluation of center of rotation"
   ]
  },
  {
   "cell_type": "markdown",
   "id": "0e27a0c0",
   "metadata": {},
   "source": [
    "<img src=\"cor new one.png\" width=\"1000\"/> \n",
    "a) Evaluation of center of rotation (COR), b) Evaluation of angle of rotation "
   ]
  },
  {
   "cell_type": "markdown",
   "id": "92b123dc",
   "metadata": {},
   "source": [
    "### Evaluation"
   ]
  },
  {
   "cell_type": "markdown",
   "id": "34fe4c46",
   "metadata": {},
   "source": [
    "The analysis is based on the grid of points $X_{ija}$ (see figure \\ref{eq: COR}) that are extracted from DIC images where indexes $i\\in(0,N_i-1)$ and $j\\in(0,N_j-1)$ denoting the nodes in horizontal and vertical direction, respectively. The index $a \\in (0,1)$ represents the coordinate in $x$ and $y$ directions. The displacement of these points at time $t$ is denoted as $\\mathrm{U}_{tija}$ where $\\mathrm{U}$ represents the global displacement and is written as:\n",
    "\\begin{equation}\n",
    "\\mathrm{U}_{tija} = u_{tija} - u_{0ija}\n",
    "\\label{eq: global displacement}\n",
    "\\end{equation}\n",
    "here, $u_{0ija}$ depicts the initial displacement while $u_{tija}$ is the relative displacement increment at each time step. The displacement field is numerically analyzed to detect the relative center of rotation between the concrete teeth of the cracked zone. In order to obtain this center of rotation, a local reference coordinate system is defined that narrows down the focus to one concrete teeth and hence, obtain the relative center of rotation of the selected points. To achieve this, the displacement increment to the lower left corner is obtained i.e. along the local reference system. Hence, the increment becomes:\n",
    "\\begin{equation}\n",
    "U^{\\mathrm{ref}}_{ija} = \\mathrm{U}_{tija} - \\mathrm{U}^{0}_{11a}\n",
    "\\label{eq: displacement lower left corner}\n",
    "\\end{equation}\n",
    "where, $\\mathrm{U}^{0}_{11a}$ is the displacement of the referenced left corner. Now, the position of the grid of points with respect to the local coordinate system reads as:\n",
    "\\begin{equation}\n",
    "X^{\\mathrm{ref}}_{ija} = \\mathrm{X}_{ija} + \\mathrm{U}^{\\mathrm{ref}}_{ija}\n",
    "\\label{eq: grid wrt left corner}\n",
    "\\end{equation}\n",
    "Now, The rotation of points along the reference boundary can be calculated as:\n",
    "\\begin{equation}\n",
    "\\alpha^{\\mathrm{ref}} = \\arcsin\\left(\\frac{\\mathrm{X}^{0}_{j0}}{\\mathrm{X}^{0}_{j1}}\\right)\n",
    "\\label{eq: delta alpha}\n",
    "\\end{equation}\n",
    "where, $[\\mathrm{X}^{0}_{j0}, \\mathrm{X}^{0}_{j1}] = \\mathrm{X}^{0}_{ja}$ and $\\mathrm{X}^{0}_{ja} = \\mathrm{X}^{\\mathrm{ref}}_{ja} - \\mathrm{X}^{0}_{a}$. Here, $\\mathrm{X}^{0}_{a}$ is the base point. Hence, the ratio of horizontal displacement and distance of points gives $\\alpha^{\\mathrm{ref}}$ (figure \\ref{eq: COR}(b)). Now, all points will be rotated by inclination of vertical axis $\\alpha^{\\mathrm{ref}}$ so:\n",
    "\\begin{equation}\n",
    "x^{0}_{ija} = T_{ab} X^{0}_{ija}\n",
    "\\label{eq: x_0}\n",
    "\\end{equation}\n",
    "where, $X^{0}_{ija} = X^{\\mathrm{ref}}_{ija} - X^0_{a}$ and the transformation matrix $T_{ab}$ will be written as:\n",
    "\\begin{gather}\n",
    "T_{ab} = \n",
    "\\left[\n",
    "\\begin{array}{cc}\n",
    "\\cos \\alpha^{\\mathrm{ref}} & -\\sin \\alpha^{\\mathrm{ref}} \\\\\n",
    "\\sin \\alpha^{\\mathrm{ref}} &  \\cos \\alpha^{\\mathrm{ref}}\n",
    "\\end{array} \\right]\n",
    "\\label{eq:Tab}\n",
    "\\end{gather}\n",
    "Now, the position of grid of points with respect to the global coordinate system will be written as:\n",
    "\\begin{equation}\n",
    "x^{\\mathrm{ref}}_{ija} = x^{0}_{ija} + X^{0}_a\n",
    "\\label{eq: x global}\n",
    "\\end{equation}\n",
    "The displacement increment relative to the reference frame reads as:\n",
    "\\begin{equation}\n",
    "u^{\\mathrm{ref}}_{ija} = x^{\\mathrm{ref}}_{ija} - X_{ija}\n",
    "\\label{u global}\n",
    "\\end{equation}\n",
    "Furthermore, the displacement vectors will become:\n",
    "\\begin{equation}\n",
    "{xu}^{\\mathrm{ref}}_{nija} = [X_{ija}, {x}^{\\mathrm{ref}}_{ija}]\n",
    "\\label{xu vector}\n",
    "\\end{equation}\n",
    "The midpoints of the displacement vectors at which the perpendiculars are drawn in the search of the center of rotation are defined as:\n",
    "\\begin{equation}\n",
    "{xu}^{\\mathrm{mid}}_{ija} = \\frac{\\left(x^{\\mathrm{ref}}_{ija} + X_{ija}\\right)}{2}\n",
    "\\label{xu mid}\n",
    "\\end{equation}\n",
    "whereas, the perpendicular vectors will now be written as: \n",
    "\\begin{equation}\n",
    "{w}^{\\mathrm{ref}}_{aij} = \\left[ u^{\\mathrm{ref}}_{ij1}, -u^{\\mathrm{ref}}_{ij0}\\right]\n",
    "\\label{w mid vec}\n",
    "\\end{equation}\n",
    "Now, the indices will be re-orded as:\n",
    "\\begin{equation}\n",
    "{w}^{\\mathrm{ref}}_{ija} = {w}^{\\mathrm{ref}}_{aij}\n",
    "\\label{w mid vec idx}\n",
    "\\end{equation}\n",
    "The center of rotation (COR) can be identified as an optimization problem such that for each point movement the COR lies on the normal vector. This can be done by adding an unknown scalar variable $\\eta_p$ defining the position of $\\mathrm{COR}_p$ of a point $p$. To find the center of rotation (COR) for a single crack in between a concrete teeth, patch of points notated as $X_{pa}$ are selected and the COR for each of these selected point is calculated separately as:\n",
    "\\begin{equation}\n",
    "X^{\\mathrm{cor}}_{pa} = {xu}^{\\mathrm{mid}}_{pa} + \\eta_p {w}^{\\mathrm{ref}}_{pa}\n",
    "\\label{x cor pa}\n",
    "\\end{equation}\n",
    "where, index $p$ represents a point. Afterwards, the norm of an optimization problem is defined that identifies the value of $\\eta_p$ such that the sum of square of distances between $\\mathrm{COR}$ and the individual $\\mathrm{COR}_p$ of a point $p$ is minimized. Therefore: \n",
    "\\begin{equation}\n",
    "R  = \\sqrt{(X^{\\mathrm{cor}} - X^{\\mathrm{cor}}_{pa})^2}\n",
    "\\label{eq: Residuum}\n",
    "\\end{equation}\n",
    "The result will be a crowd of points whose average will depict the center of rotation for a selected grid of points in a concrete teeth (see figure \\ref{eq: COR})."
   ]
  },
  {
   "cell_type": "markdown",
   "id": "498a7388",
   "metadata": {},
   "source": [
    "### Angle of rotation\n",
    "As we already know the position of the center of rotation and the initial and final displacements of the selected patch of points, hence the angle of rotation for each point can be easily calculated. In this regard, distance formula can be used to find distances in between the three points such that:\n",
    "\\begin{equation}\n",
    "\\begin{split}\n",
    "    d_{0t} = \\sqrt{(x_t - x_0)^2 + (y_t - y_0)^2}  \\\\\n",
    "    d_{0c} = \\sqrt{(x_c - x_0)^2 + (y_c - y_0)^2}\n",
    "    \\end{split}\n",
    "    \\label{dis_form}\n",
    "\\end{equation}\n",
    "After, evaluating the distances, the angle of rotation can be found by:\n",
    "\\begin{equation}\n",
    "    \\varphi = \\arctan \\left(\\frac{d_{0t}}{d_{0c}}\\right)\n",
    "    \\label{eq: varphi}\n",
    "\\end{equation}"
   ]
  },
  {
   "cell_type": "markdown",
   "id": "43260f94",
   "metadata": {},
   "source": [
    "### Strain"
   ]
  },
  {
   "cell_type": "markdown",
   "id": "a6c155cd",
   "metadata": {},
   "source": [
    "## Discussion of Results"
   ]
  },
  {
   "cell_type": "markdown",
   "id": "37e9940c",
   "metadata": {},
   "source": [
    "The aim of the section is to validate the implemented procedure on the experiments to find out the location as well as the movement of the center of rotation (COR) for each shear crack propagating on the beam under different loading scenarios during the test. The section is decomposed into various subsections, where a unit beam verification studies, the center of rotation for all cracks on a beam and comparison of the movement of the center of rotation in relation to change in material parameters are shown. A simple layout of all these beams is shown in figure \\ref{fig: Beam layout} and their geometrical parameters are presented in table ...: "
   ]
  },
  {
   "cell_type": "markdown",
   "id": "379fcca5",
   "metadata": {},
   "source": [
    "### [Unit beam verification studies](single_material_point_study.ipynb)"
   ]
  },
  {
   "cell_type": "markdown",
   "id": "ecdd42a6",
   "metadata": {},
   "source": [
    "<img src=\"single point detail paper.png\" width=\"600\"/> \n",
    "Rotation of points $\\mathrm{P1}$ and $\\mathrm{P3}$ with respect to $\\mathrm{P4}$"
   ]
  },
  {
   "cell_type": "markdown",
   "id": "195d24dd",
   "metadata": {},
   "source": [
    "The proposed procedure is implemented on a unit beam to check the accuracy in determining the center of rotation (figure \\ref{eq: unitbeam}(a)). The displacements are found by hand calculations with an aim to get the position of center of rotation at point $\\mathrm{P4}$ (figure \\ref{eq: unitbeam dis}). After the calculation of displacements, they were used as an input parameter into the model to validate the location of the position of center of rotation at point $\\mathrm{P4}$ using optimization procedure as explained in section \\ref{sec: ecor}. The rotation vectors are plotted and the perpendicular vectors from the midpoint of these rotation vectors are drawn that directs to the unique center of rotation i.e point $\\mathrm{P4}$ (figure \\ref{eq: unitbeam}(b, c)). The studies on a unit beam verifies the accuracy of the procedure in calculating the location of the center of rotation which now will be applied on the tested beams."
   ]
  },
  {
   "cell_type": "markdown",
   "id": "b489571d",
   "metadata": {},
   "source": [
    "<img src=\"unit beam verification.png\" width=\"900\"/> \n",
    "a) Unit beam, b) Displaced points and the reference system, c) verification of COR evaluation"
   ]
  },
  {
   "cell_type": "markdown",
   "id": "5da1ac7a",
   "metadata": {},
   "source": [
    "### Center of rotation evaluation for a shear crack in a beam\n",
    "In a real case scenario, center of rotation for the chunk of points in the vicinity of a crack in a concrete teeth is desired. In order to achieve this, displacement data for a grid of points is needed. This displacement field data is being extracted using GOM Correlate from DIC measurements recorded during testing. Both horizontal and vertical displacements are used as an input parameter to calculate the rotation vectors and the perpendiculars from the midpoint of these rotation vectors. The local reference system for a concrete teeth is set and the chunk of points whose center of rotation is desired are selected. The location and movement of the center of rotation for a single test is shown in figure \\ref{eq: b6 ld} along with the load deflection curve that depicts that as the shear crack propagates upwards under increasing load, the corresponding center of rotation also moves.\n",
    "\n",
    "The deflections are recorded with LVDTs and the load step is being noted as applied on a longitudinally reinforced concrete beam. Three different points on the load deflection curve are selected and the location of the center of rotation for a critical crack for these three loading steps are shown. The grey dots in figure shows the grid of points while the black dots represents the selected chunk of points whose center of rotation is desired. The corresponding local reference system for this particular concrete teeth is highlighted in green. All the selected points will point individually to a center of rotation depicted in blue while their average will yield the unique center of rotation that is represented in red. The location of crack can also be visualized by red balls of variable sizes where its size illustrates the thickness of the crack. From, Load step 1 and Load step 2 it can be anticipated that the center of rotation exists and is seen to move slightly diagonally upwards. Furthermore, for Load step 3 the diagonal movement of the center of rotation continues upward trend as the crack moves into the compression zone.\n",
    "\n",
    "The center of rotation for all the cracks existing in a beam can be found with the same rigid kinematics proposed above and the corresponding load rotation and moment rotation curves can be plotted (figure \\ref{eq: b7 lr mr}) that helps in clarifying the location of the critical shear crack. The Moment for the crack will be calculated as:\n",
    "\\begin{equation}\n",
    "    M = \\frac{F}{2}\\left( L - X^{\\mathrm{cor}}_0\\right)\n",
    "    \\label{eq: m}\n",
    "\\end{equation}\n",
    "where, $F$ is the load value acting on the beam, $L$ is the length of the shear span and $X^{\\mathrm{cor}}_0$ is the horizontal position of the center of rotation. With respect to figure \\ref{eq: b7 lr mr}, it can be visualized that the location of the critical crack is for instance crack 1, due to the fact that it has the largest load-rotation and moment rotation values for crack 1."
   ]
  },
  {
   "cell_type": "markdown",
   "id": "ddca33de",
   "metadata": {},
   "source": [
    "<img src=\"COR updated evaluation (critical crack b7).png\" width=\"1000\"/> "
   ]
  },
  {
   "cell_type": "markdown",
   "id": "457d144f",
   "metadata": {},
   "source": [
    "### [DIC Crack Inspector](dic_crack_inspector_.ipynb)"
   ]
  },
  {
   "cell_type": "code",
   "execution_count": null,
   "id": "331b7f6f",
   "metadata": {},
   "outputs": [],
   "source": []
  }
 ],
 "metadata": {
  "kernelspec": {
   "display_name": "Python 3",
   "language": "python",
   "name": "python3"
  },
  "language_info": {
   "codemirror_mode": {
    "name": "ipython",
    "version": 3
   },
   "file_extension": ".py",
   "mimetype": "text/x-python",
   "name": "python",
   "nbconvert_exporter": "python",
   "pygments_lexer": "ipython3",
   "version": "3.8.8"
  }
 },
 "nbformat": 4,
 "nbformat_minor": 5
}
