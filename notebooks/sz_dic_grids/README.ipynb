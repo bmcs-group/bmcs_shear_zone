{
 "cells": [
  {
   "cell_type": "markdown",
   "id": "3df99464-51fb-4759-9d18-47785fb756e3",
   "metadata": {},
   "source": [
    "# **DIC data analysis**"
   ]
  },
  {
   "cell_type": "markdown",
   "id": "24e5e49a-81bb-4994-a0af-55348ba0f30a",
   "metadata": {},
   "source": [
    "[DIC grid](dic_grid.ipynb) shows how to use the class `DICGrid` to read and display the displacement field."
   ]
  },
  {
   "cell_type": "markdown",
   "id": "8101a9c4-3031-4d3c-a7e8-d09e7b6fcca7",
   "metadata": {},
   "source": [
    "[State field processing](dic_state_field_processing.ipynb) shows the prototyping of the \n",
    "detailed analysis of DIC data to define a crack detection algorithm."
   ]
  },
  {
   "cell_type": "markdown",
   "id": "74c38110-ddf2-4c1c-80bc-eafd1235b96f",
   "metadata": {},
   "source": [
    "# TODO"
   ]
  },
  {
   "cell_type": "markdown",
   "id": "74f6ad7c-307c-4e16-9e30-1a7dc60bb376",
   "metadata": {},
   "source": [
    "1. I will refresh my simdb with the beam parameters first. [Done]\n",
    "\n",
    "   1.1. Extend the ligament such that it includes the bottom and top of the cross section \n",
    "     This includes a) the extension of the crack path, b) extrapolation of the displacements\n",
    "     along the ligament. Then the stress resultants are reflected correctly.\n",
    "\n",
    "2. Then, the crack detection must be enhanced with the crack propagation\n",
    "   history:\n",
    "   \n",
    "   2.1 where do they start\n",
    "   \n",
    "   2.2 in which direction do they propagate?\n",
    "   \n",
    "   2.3 what is the distance between them?\n",
    "   \n",
    "   2.4 at which load level are they most apparent?\n",
    "   \n",
    "   Three pass detection procedure\n",
    "   \n",
    "   2.5 Step 1 - crack detection at 90% load\n",
    "   \n",
    "   2.6 Step 2 - crack propagation to 100% load\n",
    "   \n",
    "   2.7 Step 3 - reversed crack tracing back to 0% load.\n",
    "\n",
    "3. Evaluate the kinematics w, s (eps_N, eps_T) along the ligament as a function of the load / time factor\n",
    "   for all load levels F = 0, F_max, or better - t = 0, t_max (when going beyond the peak\n",
    "\n",
    "4. Evaluate the stress sig_N, sig_T across the ligament for w, s - assuming damage\n",
    "   no stress recovery upon crack closure.\n",
    "\n",
    "5. Evaluation of M, N, Q from the obtained opening and slip profiles for all tests.\n",
    "\n",
    "6. Comparison with the measured/observed M, N, Q. Basis\n",
    "   for the revision of the constitutive laws\n",
    "\n",
    "7. Implement a monitoring of the local stress state / intensity\n",
    "   factors at the (propagating) FPZ. Identify the possibilities to\n",
    "   improve the representation of the crack tip state -\n",
    "   characteristic length, or a_eff, Westergaard solution\n",
    "   crack parallel compression ...\n",
    "\n",
    "8. Possibility to make observations on the crack interaction in the light\n",
    "   of the local stress state in the FPZ.\n",
    "\n",
    "9. With a more realistic description of the discrete ligament,\n",
    "   discuss the results in the light of the shear capacity\n",
    "   assessment models."
   ]
  },
  {
   "cell_type": "code",
   "execution_count": null,
   "id": "7c8fbcaa-809a-4846-9015-8366c66e2722",
   "metadata": {},
   "outputs": [],
   "source": []
  }
 ],
 "metadata": {
  "kernelspec": {
   "display_name": "bmcs_env",
   "language": "python",
   "name": "bmcs_env"
  },
  "language_info": {
   "codemirror_mode": {
    "name": "ipython",
    "version": 3
   },
   "file_extension": ".py",
   "mimetype": "text/x-python",
   "name": "python",
   "nbconvert_exporter": "python",
   "pygments_lexer": "ipython3",
   "version": "3.8.8"
  }
 },
 "nbformat": 4,
 "nbformat_minor": 5
}
