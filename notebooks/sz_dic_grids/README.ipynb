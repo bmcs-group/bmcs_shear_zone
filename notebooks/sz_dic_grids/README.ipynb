{
 "cells": [
  {
   "cell_type": "markdown",
   "id": "3df99464-51fb-4759-9d18-47785fb756e3",
   "metadata": {},
   "source": [
    "# **DIC data analysis**"
   ]
  },
  {
   "cell_type": "markdown",
   "id": "24e5e49a-81bb-4994-a0af-55348ba0f30a",
   "metadata": {},
   "source": [
    "[DIC grid](dic_grid.ipynb) shows how to use the class `DICGrid` to read and display the displacement field."
   ]
  },
  {
   "cell_type": "markdown",
   "id": "8101a9c4-3031-4d3c-a7e8-d09e7b6fcca7",
   "metadata": {},
   "source": [
    "[State field processing](dic_state_field_processing.ipynb) shows the prototyping of the \n",
    "detailed analysis of DIC data to define a crack detection algorithm."
   ]
  },
  {
   "cell_type": "code",
   "execution_count": null,
   "id": "acd15ad5-30af-43ab-be54-47e2b3f432f1",
   "metadata": {},
   "outputs": [],
   "source": []
  }
 ],
 "metadata": {
  "kernelspec": {
   "display_name": "bmcs_env",
   "language": "python",
   "name": "bmcs_env"
  },
  "language_info": {
   "codemirror_mode": {
    "name": "ipython",
    "version": 3
   },
   "file_extension": ".py",
   "mimetype": "text/x-python",
   "name": "python",
   "nbconvert_exporter": "python",
   "pygments_lexer": "ipython3",
   "version": "3.8.8"
  }
 },
 "nbformat": 4,
 "nbformat_minor": 5
}
