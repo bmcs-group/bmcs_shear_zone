{
 "cells": [
  {
   "cell_type": "markdown",
   "id": "e43222ac-fdc6-44a2-8afe-dfae159e8df1",
   "metadata": {
    "pycharm": {
     "name": "#%% md\n"
    }
   },
   "source": [
    "# Current to do's 2022-28\n",
    "\n",
    "- naming of coordinates - x horizontal, y vertical - encapsulate the differences in dic_grid, so that any further level works \n",
    "   without swapping\n",
    " - extend interpolation in dsf to cdf - including the time index - this will allow for the crack detection and spline representation    of the functions \n",
    "$$\n",
    "\\omega_C( t, y )\n",
    "$$\n",
    " - use this function to determine\n",
    "$$\n",
    "y^\\mathrm{tip}_C( t )\n",
    "$$ \n",
    "$$\n",
    "\\Delta u_{Ca}( y, t ) = u( x+r, y, t ) - u( x-r, y, t ) \n",
    "$$\n",
    " - Constitutive laws applied across the crack ligament\n",
    "$$\n",
    " \\sigma_{Cab}(y, t) = \\mathcal{S}_{ab}(\\Delta u{Ca}(y, t))\n",
    "$$\n",
    " - distinguish the change events - finer resolution of the tag types (TIME, ALG, MESH)."
   ]
  },
  {
   "cell_type": "markdown",
   "id": "a89177ca-df71-4964-869b-bb2f5814741c",
   "metadata": {
    "pycharm": {
     "name": "#%% md\n"
    }
   },
   "source": [
    "# Crack detection strategy\n",
    "\n",
    "The detection algorithm uses the knowledge about shear crack propagation \n",
    " - distance between cracks is related to the shielded length given by the reinforcement ratio      and bond properties\n",
    " - cracks start from the bottom of the cross section\n",
    " - cracks propagate upwards and bend in the direction of an increasing cross-sectional moment\n",
    " \n",
    "The crack pattern in the shear zone gets most visible prior shortly before the maximum load has been reached. Near to the failure, the regularity of the crack pattern is lost and the specimen cannot be viewed as a series of individual shear cracks any more. The initiation of failure via a horizontal crossing crack initiated by a vertical stress component is initiated either near the reinforcement layer due to the dowel action or by a crack tip propagating horizontally through a compression zone.\n",
    "\n",
    "## Full crack detection strategy\n",
    "\n",
    "This observation is exploited by the crack detection algorithm by adapting the following strategy. \n",
    "\n",
    " - The displacement field $U_{IJa}^{F_\\gamma}$ corresponding to $F_{\\gamma} = 0.9 F_{\\max}$ is taken first to calculate the strain, damage and stress fields.\n",
    " - The DIC-FE state fields are interpolated and smoothed as a basis for the crack detection step. The crack detection algorithm is employed to detect the crack path $\\mathcal{C}(F_\\gamma)$ at the near-failure level of load. The algorithm delivers the crack tip positions.\n",
    " - The obtained crack path is then refined by analyzing the cracking process in reverse order $F = [F_\\gamma, 0]$. The difference between damage fields $\\omega_{MN}(F_\\gamma)$ and $\\omega_{MN}(F), n = [0, n_C-1]$  obtained using DIC-FE-MDM calculation for each $U_{IJa}$ state are analyzed to refine the crack geometry in the previous states of loading. After that, the load range between the crack detection state and the ultimate load is analyzed based on the known cracking state at the level $F\\tilde{}$.\n",
    " - Define a spline function representing the damage along the crack\n",
    " \n",
    "## Current strategy\n",
    "\n",
    "The crack detection load level $\\gamma$ is used to identify the primary cracks. The cracks that develop at the level $\\gamma = 0.9$ up to the 0.4 of the cross sectional height are recognized as primary cracks. Partially, secondary cracks and noise in DIC data and FE approximation are avoided  by smoothing the damage field within a radius that reflects the element resolution / characteristic length? Currently, the primary cracks are identified first to obtain the crack zones."
   ]
  },
  {
   "cell_type": "markdown",
   "id": "bc301f3e-aefe-4cc0-a375-045063201701",
   "metadata": {
    "pycharm": {
     "name": "#%% md\n"
    }
   },
   "source": [
    "# Stress profile evaluation\n",
    "\n",
    " - M, N, Q - evaluated from the constitutive laws along the ligament\n",
    " - Crack-tip stress / strain / opening. \n",
    " - How to include the history of damage into the stress evaluation (softening law)\n"
   ]
  },
  {
   "cell_type": "markdown",
   "id": "1e676faa-e40a-4c0b-966e-b95f25f2af56",
   "metadata": {
    "pycharm": {
     "name": "#%% md\n"
    }
   },
   "source": [
    "## Constitutive laws along the ligament\n",
    "\n",
    "The transition between strain concentration and discrete crack representation is based on the threshold value of the critical strain $\\varepsilon_\\mathrm{cr}$. This value corresponds to the strain with the onset of softening, i.e.\n",
    "$$\n",
    " \\varepsilon_\\mathrm{cr} = \\mathrm{argmax}_\\varepsilon \\mathcal{S}(\\varepsilon).\n",
    "$$\n",
    "In case of a linear ascending branch, this relation is obtained as\n",
    "$$\n",
    " \\varepsilon_\\mathrm{cr} = \\frac{ f_\\mathrm{t} }{ E }\n",
    "$$"
   ]
  },
  {
   "cell_type": "markdown",
   "id": "6663955d-1aa6-4dbf-93bb-d850764477ca",
   "metadata": {
    "pycharm": {
     "name": "#%% md\n"
    }
   },
   "source": [
    "The stress in the ascending range is controlled by strain \n",
    "$$\n",
    "\\sigma_a\n",
    "  = \\left\\{  \n",
    " \\begin{array}{l}\n",
    " \\mathcal{S}(\\varepsilon)\\; \\mathrm{if} \\; \\varepsilon < \\varepsilon_\\mathrm{cr}\n",
    " \\\\\n",
    " \\mathcal{S}(w) \\; \\mathrm{otherwise}\n",
    " \\end{array}\n",
    " \\right.\n",
    "$$"
   ]
  },
  {
   "cell_type": "markdown",
   "id": "06ed2e1e-cc90-4322-a106-1e076d00fadb",
   "metadata": {
    "pycharm": {
     "name": "#%% md\n"
    }
   },
   "source": [
    "An alternative approach is to introduce an equivalent strain or yield function."
   ]
  },
  {
   "cell_type": "markdown",
   "id": "feb8639b-6125-402c-88f0-717e221a5afd",
   "metadata": {
    "pycharm": {
     "name": "#%% md\n"
    }
   },
   "source": [
    "# Todo\n",
    "\n",
    " - Add the extrapolation to include the top layer of the cross section [RC-done]\n",
    " - Separate the constitutive law for compression and tension [RC-done]\n",
    " - Include compression law considering the 3D stress state (plain stress)\n",
    " - In stress and force plot - align the ligament axis and show the capacity value for the reinforcement to indicate that it is yielding\n",
    " - bmcs_utils - improve the dependency management so that the tree nodes are not needed everywhere\n",
    " - Animation of the center of rotation - start with a localized crack up to 1/3 of the cross section"
   ]
  },
  {
   "cell_type": "markdown",
   "id": "91f9e03c",
   "metadata": {
    "pycharm": {
     "name": "#%% md\n"
    }
   },
   "source": [
    "# Questions\n",
    "\n",
    "- How to explain that the opening and sliding profiles are almost constant for shear crack while there is a center of rotation near the tip?"
   ]
  },
  {
   "cell_type": "code",
   "execution_count": 1,
   "id": "7f03eef1-2ae3-4ba2-8740-e22aebd48b28",
   "metadata": {
    "pycharm": {
     "name": "#%%\n"
    }
   },
   "outputs": [],
   "source": [
    "%matplotlib widget\n",
    "import matplotlib.pylab as plt\n",
    "from bmcs_shear.dic_crack import\\\n",
    "    DICGrid, DICStateFields, DICCrackList, DICCrack, DICCrackCOR\n",
    "from bmcs_shear.shear_crack.crack_path import get_T_Lab\n",
    "import numpy as np\n",
    "np.seterr(divide='ignore', invalid='ignore');"
   ]
  },
  {
   "cell_type": "code",
   "execution_count": 2,
   "id": "ee34bf85-6d51-4ca2-a05f-0bcb70a7725b",
   "metadata": {
    "pycharm": {
     "name": "#%%\n"
    }
   },
   "outputs": [
    {
     "name": "stderr",
     "output_type": "stream",
     "text": [
      "Exception occurred in traits notification handler for event object: TraitChangeEvent(object=<bmcs_shear.dic_crack.dic_grid.DICGrid object at 0x7fa194695ea0>, name='dir_name', old='<unnamed>', new='B1_TV1')\n",
      "Traceback (most recent call last):\n",
      "  File \"/home/rch/miniconda3/envs/bmcs_env/lib/python3.9/site-packages/traits/observation/_trait_event_notifier.py\", line 122, in __call__\n",
      "    self.dispatcher(handler, event)\n",
      "  File \"/home/rch/miniconda3/envs/bmcs_env/lib/python3.9/site-packages/traits/observation/observe.py\", line 27, in dispatch_same\n",
      "    handler(event)\n",
      "  File \"/home/rch/PycharmProjects/bmcs_shear_zone/bmcs_shear/dic_crack/dic_grid.py\", line 78, in reset_beam_design\n",
      "    self.sz_bd = self.get_beam_design()\n",
      "  File \"/home/rch/PycharmProjects/bmcs_shear_zone/bmcs_shear/dic_crack/dic_grid.py\", line 91, in get_beam_design\n",
      "    sz_bd.trait_set(**{key: params[key] for key in ['H', 'B', 'L']})\n",
      "  File \"/home/rch/miniconda3/envs/bmcs_env/lib/python3.9/site-packages/traits/has_traits.py\", line 1520, in trait_set\n",
      "    setattr(self, name, value)\n",
      "  File \"/home/rch/PycharmProjects/bmcs_beam/bmcs_beam/beam_config/beam_design.py\", line 34, in _set_L\n",
      "    self.system_.L = L\n",
      "AttributeError: 'RCBeamDesign' object has no attribute 'system_'\n"
     ]
    },
    {
     "name": "stdout",
     "output_type": "stream",
     "text": [
      "trait <traits.ctrait.CTrait object at 0x7fa135efba40>\n",
      "<bmcs_shear.beam_design.beam_design.RCBeamDesign object at 0x7fa135e65d10> matrix <bmcs_utils.trait_types.either_type2.EitherType2 object at 0x7fa13a571070>\n",
      "trait <traits.ctrait.CTrait object at 0x7fa135efbae0>\n",
      "<bmcs_shear.beam_design.beam_design.RCBeamDesign object at 0x7fa135e65d10> cross_section_shape <bmcs_utils.trait_types.either_type2.EitherType2 object at 0x7fa13a5710a0>\n",
      "trait <traits.ctrait.CTrait object at 0x7fa1396962c0>\n",
      "<bmcs_shear.beam_design.beam_design.RCBeamDesign object at 0x7fa135e65d10> cross_section_layout <bmcs_utils.trait_types.instance_type.Instance object at 0x7fa13a5070a0>\n",
      "trait <traits.ctrait.CTrait object at 0x7fa137a3ab80>\n",
      "<bmcs_shear.dic_crack.dic_grid.DICGrid object at 0x7fa194695ea0> sz_bd <bmcs_utils.trait_types.instance_type.Instance object at 0x7fa14f5b22b0>\n"
     ]
    }
   ],
   "source": [
    "dic_grid = DICGrid(U_factor=100, dir_name='B1_TV1', t=0.1)"
   ]
  },
  {
   "cell_type": "code",
   "execution_count": 14,
   "id": "cf16c5bd",
   "metadata": {
    "collapsed": false,
    "jupyter": {
     "outputs_hidden": false
    },
    "pycharm": {
     "name": "#%%\n"
    }
   },
   "outputs": [
    {
     "name": "stdout",
     "output_type": "stream",
     "text": [
      "xtrait <bmcs_utils.trait_types.instance_type.Instance object at 0x7fc1cdc16160>\n",
      "name sz_bd\n",
      "trait None\n"
     ]
    },
    {
     "ename": "ValueError",
     "evalue": "trait sz_bd not found in <bmcs_shear.dic_crack.dic_grid.DICGrid object at 0x7fc1984b2b80>",
     "output_type": "error",
     "traceback": [
      "\u001b[0;31m---------------------------------------------------------------------------\u001b[0m",
      "\u001b[0;31mValueError\u001b[0m                                Traceback (most recent call last)",
      "Input \u001b[0;32mIn [14]\u001b[0m, in \u001b[0;36m<module>\u001b[0;34m\u001b[0m\n\u001b[1;32m     10\u001b[0m \u001b[38;5;28mprint\u001b[39m(\u001b[38;5;124m'\u001b[39m\u001b[38;5;124mtrait\u001b[39m\u001b[38;5;124m'\u001b[39m, trait_)\n\u001b[1;32m     11\u001b[0m \u001b[38;5;28;01mif\u001b[39;00m trait_ \u001b[38;5;129;01mis\u001b[39;00m \u001b[38;5;28;01mNone\u001b[39;00m:\n\u001b[0;32m---> 12\u001b[0m     \u001b[38;5;28;01mraise\u001b[39;00m \u001b[38;5;167;01mValueError\u001b[39;00m(\u001b[38;5;124m'\u001b[39m\u001b[38;5;124mtrait \u001b[39m\u001b[38;5;132;01m%s\u001b[39;00m\u001b[38;5;124m not found in \u001b[39m\u001b[38;5;132;01m%s\u001b[39;00m\u001b[38;5;124m'\u001b[39m \u001b[38;5;241m%\u001b[39m (name_, \u001b[38;5;28mself\u001b[39m))\n\u001b[1;32m     13\u001b[0m submodels\u001b[38;5;241m.\u001b[39mappend(trait_)\n",
      "\u001b[0;31mValueError\u001b[0m: trait sz_bd not found in <bmcs_shear.dic_crack.dic_grid.DICGrid object at 0x7fc1984b2b80>"
     ]
    }
   ],
   "source": [
    "submodels = []\n",
    "self= dic_grid\n",
    "for name in self.get_tree_items():\n",
    "    trait = self.trait(name)\n",
    "    trait_type = trait.trait_type\n",
    "    print('xtrait', trait_type)\n",
    "    name_ = trait_type.get_name_(name)\n",
    "    print('name', name_)\n",
    "    trait_ = getattr(self, name_, None)\n",
    "    print('trait', trait_)\n",
    "    if trait_ is None:\n",
    "        raise ValueError('trait %s not found in %s' % (name_, self))\n",
    "    submodels.append(trait_)\n"
   ]
  },
  {
   "cell_type": "code",
   "execution_count": 17,
   "id": "e5832da5",
   "metadata": {
    "collapsed": false,
    "jupyter": {
     "outputs_hidden": false
    },
    "pycharm": {
     "name": "#%%\n"
    }
   },
   "outputs": [
    {
     "ename": "AttributeError",
     "evalue": "'RCBeamDesign' object has no attribute 'cross_section_shape_'",
     "output_type": "error",
     "traceback": [
      "\u001b[0;31m---------------------------------------------------------------------------\u001b[0m",
      "\u001b[0;31mAttributeError\u001b[0m                            Traceback (most recent call last)",
      "Input \u001b[0;32mIn [17]\u001b[0m, in \u001b[0;36m<module>\u001b[0;34m\u001b[0m\n\u001b[0;32m----> 1\u001b[0m \u001b[38;5;28;43mgetattr\u001b[39;49m\u001b[43m(\u001b[49m\u001b[43mdic_grid\u001b[49m\u001b[43m,\u001b[49m\u001b[43m \u001b[49m\u001b[38;5;124;43m'\u001b[39;49m\u001b[38;5;124;43msz_bd\u001b[39;49m\u001b[38;5;124;43m'\u001b[39;49m\u001b[43m)\u001b[49m\n",
      "File \u001b[0;32m~/miniconda3/envs/bmcs_env/lib/python3.9/site-packages/traits/has_traits.py:960\u001b[0m, in \u001b[0;36mcached_property.<locals>.decorator\u001b[0;34m(self)\u001b[0m\n\u001b[1;32m    958\u001b[0m result \u001b[38;5;241m=\u001b[39m \u001b[38;5;28mself\u001b[39m\u001b[38;5;241m.\u001b[39m\u001b[38;5;18m__dict__\u001b[39m\u001b[38;5;241m.\u001b[39mget(name, Undefined)\n\u001b[1;32m    959\u001b[0m \u001b[38;5;28;01mif\u001b[39;00m result \u001b[38;5;129;01mis\u001b[39;00m Undefined:\n\u001b[0;32m--> 960\u001b[0m     \u001b[38;5;28mself\u001b[39m\u001b[38;5;241m.\u001b[39m\u001b[38;5;18m__dict__\u001b[39m[name] \u001b[38;5;241m=\u001b[39m result \u001b[38;5;241m=\u001b[39m \u001b[43mfunction\u001b[49m\u001b[43m(\u001b[49m\u001b[38;5;28;43mself\u001b[39;49m\u001b[43m)\u001b[49m\n\u001b[1;32m    962\u001b[0m \u001b[38;5;28;01mreturn\u001b[39;00m result\n",
      "File \u001b[0;32m~/PycharmProjects/bmcs_shear_zone/bmcs_shear/dic_crack/dic_grid.py:65\u001b[0m, in \u001b[0;36mDICGrid._get_sz_bd\u001b[0;34m(self)\u001b[0m\n\u001b[1;32m     63\u001b[0m \u001b[38;5;66;03m# convert the strings to the paramater types specified in the param_types table\u001b[39;00m\n\u001b[1;32m     64\u001b[0m params \u001b[38;5;241m=\u001b[39m {key : type_(params_str[key]) \u001b[38;5;28;01mfor\u001b[39;00m key, type_ \u001b[38;5;129;01min\u001b[39;00m \u001b[38;5;28mself\u001b[39m\u001b[38;5;241m.\u001b[39mbeam_param_types\u001b[38;5;241m.\u001b[39mitems()}\n\u001b[0;32m---> 65\u001b[0m sz_bd \u001b[38;5;241m=\u001b[39m \u001b[43mRCBeamDesign\u001b[49m\u001b[43m(\u001b[49m\u001b[38;5;241;43m*\u001b[39;49m\u001b[38;5;241;43m*\u001b[39;49m\u001b[43m{\u001b[49m\u001b[43mkey\u001b[49m\u001b[43m:\u001b[49m\u001b[43m \u001b[49m\u001b[43mparams\u001b[49m\u001b[43m[\u001b[49m\u001b[43mkey\u001b[49m\u001b[43m]\u001b[49m\u001b[43m \u001b[49m\u001b[38;5;28;43;01mfor\u001b[39;49;00m\u001b[43m \u001b[49m\u001b[43mkey\u001b[49m\u001b[43m \u001b[49m\u001b[38;5;129;43;01min\u001b[39;49;00m\u001b[43m \u001b[49m\u001b[43m[\u001b[49m\u001b[38;5;124;43m'\u001b[39;49m\u001b[38;5;124;43mH\u001b[39;49m\u001b[38;5;124;43m'\u001b[39;49m\u001b[43m,\u001b[49m\u001b[43m \u001b[49m\u001b[38;5;124;43m'\u001b[39;49m\u001b[38;5;124;43mB\u001b[39;49m\u001b[38;5;124;43m'\u001b[39;49m\u001b[43m,\u001b[49m\u001b[43m \u001b[49m\u001b[38;5;124;43m'\u001b[39;49m\u001b[38;5;124;43mL\u001b[39;49m\u001b[38;5;124;43m'\u001b[39;49m\u001b[43m]\u001b[49m\u001b[43m}\u001b[49m\u001b[43m)\u001b[49m\n\u001b[1;32m     66\u001b[0m sz_bd\u001b[38;5;241m.\u001b[39mRectangle \u001b[38;5;241m=\u001b[39m \u001b[38;5;28;01mTrue\u001b[39;00m\n\u001b[1;32m     67\u001b[0m sz_bd\u001b[38;5;241m.\u001b[39mcsl\u001b[38;5;241m.\u001b[39madd_layer(CrackBridgeAdv(z\u001b[38;5;241m=\u001b[39mparams[\u001b[38;5;124m'\u001b[39m\u001b[38;5;124my_s\u001b[39m\u001b[38;5;124m'\u001b[39m], n\u001b[38;5;241m=\u001b[39mparams[\u001b[38;5;124m'\u001b[39m\u001b[38;5;124mn_s\u001b[39m\u001b[38;5;124m'\u001b[39m], d_s\u001b[38;5;241m=\u001b[39mparams[\u001b[38;5;124m'\u001b[39m\u001b[38;5;124md_s\u001b[39m\u001b[38;5;124m'\u001b[39m]))\n",
      "File \u001b[0;32m~/PycharmProjects/bmcs_utils/bmcs_utils/model.py:28\u001b[0m, in \u001b[0;36mModel.__init__\u001b[0;34m(self, *args, **kw)\u001b[0m\n\u001b[1;32m     27\u001b[0m \u001b[38;5;28;01mdef\u001b[39;00m \u001b[38;5;21m__init__\u001b[39m(\u001b[38;5;28mself\u001b[39m,\u001b[38;5;241m*\u001b[39margs,\u001b[38;5;241m*\u001b[39m\u001b[38;5;241m*\u001b[39mkw):\n\u001b[0;32m---> 28\u001b[0m     \u001b[38;5;28;43msuper\u001b[39;49m\u001b[43m(\u001b[49m\u001b[43m)\u001b[49m\u001b[38;5;241;43m.\u001b[39;49m\u001b[38;5;21;43m__init__\u001b[39;49m\u001b[43m(\u001b[49m\u001b[38;5;241;43m*\u001b[39;49m\u001b[43margs\u001b[49m\u001b[43m,\u001b[49m\u001b[43m \u001b[49m\u001b[38;5;241;43m*\u001b[39;49m\u001b[38;5;241;43m*\u001b[39;49m\u001b[43mkw\u001b[49m\u001b[43m)\u001b[49m\n",
      "File \u001b[0;32m~/PycharmProjects/bmcs_cross_section/bmcs_cross_section/cs_design/cs_design.py:36\u001b[0m, in \u001b[0;36mCrossSectionDesign._set_H\u001b[0;34m(self, value)\u001b[0m\n\u001b[1;32m     35\u001b[0m \u001b[38;5;28;01mdef\u001b[39;00m \u001b[38;5;21m_set_H\u001b[39m(\u001b[38;5;28mself\u001b[39m,value):\n\u001b[0;32m---> 36\u001b[0m     \u001b[38;5;28;43mself\u001b[39;49m\u001b[38;5;241;43m.\u001b[39;49m\u001b[43mcross_section_shape_\u001b[49m\u001b[38;5;241m.\u001b[39mH \u001b[38;5;241m=\u001b[39m value\n",
      "\u001b[0;31mAttributeError\u001b[0m: 'RCBeamDesign' object has no attribute 'cross_section_shape_'"
     ]
    }
   ],
   "source": [
    "getattr(dic_grid, 'sz_bd')"
   ]
  },
  {
   "cell_type": "code",
   "execution_count": null,
   "id": "c5fc8f48",
   "metadata": {
    "collapsed": false,
    "jupyter": {
     "outputs_hidden": false
    },
    "pycharm": {
     "name": "#%%\n"
    }
   },
   "outputs": [],
   "source": [
    "dic_grid.interact()"
   ]
  },
  {
   "cell_type": "code",
   "execution_count": 25,
   "id": "953ac2fa-d0a3-48d0-90b4-4cd0b9bf3c59",
   "metadata": {
    "pycharm": {
     "name": "#%%\n"
    }
   },
   "outputs": [
    {
     "data": {
      "text/plain": [
       "0.07805377028082207"
      ]
     },
     "execution_count": 25,
     "metadata": {},
     "output_type": "execute_result"
    }
   ],
   "source": [
    "l_cb = dic_grid.d_x * 1\n",
    "dsf = DICStateFields(dic_grid=dic_grid)\n",
    "dsf.tmodel_.trait_set(E=5000, c_T=0, nu=0.18, epsilon_0=0.0005, epsilon_f=0.02/l_cb, eps_max=0.005);\n",
    "dsf.tmodel_.G_f * dic_grid.d_x"
   ]
  },
  {
   "cell_type": "code",
   "execution_count": 26,
   "id": "e87ba588-1916-4b89-ae14-b470ea3d8089",
   "metadata": {
    "pycharm": {
     "name": "#%%\n"
    }
   },
   "outputs": [],
   "source": [
    "dsf.eval()\n",
    "dsf.dic_grid.sz_bd.matrix_.L_cr = 30"
   ]
  },
  {
   "cell_type": "markdown",
   "id": "1a401943",
   "metadata": {
    "pycharm": {
     "name": "#%% md\n"
    }
   },
   "source": [
    "# Detect the cracks"
   ]
  },
  {
   "cell_type": "code",
   "execution_count": 27,
   "id": "80555c92-c101-4b5d-874a-eac026ae139c",
   "metadata": {
    "pycharm": {
     "name": "#%%\n"
    }
   },
   "outputs": [],
   "source": [
    "dcl = DICCrackList(dsf=dsf, eta=1)"
   ]
  },
  {
   "cell_type": "code",
   "execution_count": 28,
   "id": "38c3f98f-d11a-446c-a810-27971c396656",
   "metadata": {
    "pycharm": {
     "name": "#%%\n"
    }
   },
   "outputs": [
    {
     "data": {
      "application/vnd.jupyter.widget-view+json": {
       "model_id": "f7d9bfaf02c94f589af7b4a2ff7e82cf",
       "version_major": 2,
       "version_minor": 0
      },
      "text/plain": [
       "VBox(children=(HBox(children=(VBox(children=(Tree(layout=Layout(align_items='stretch', border='solid 1px black…"
      ]
     },
     "metadata": {},
     "output_type": "display_data"
    }
   ],
   "source": [
    "dcl.identify_cracks()\n",
    "dcl.interact()"
   ]
  },
  {
   "cell_type": "code",
   "execution_count": 29,
   "id": "da7abdaa-31d8-4e3c-aaee-de10be9da311",
   "metadata": {
    "pycharm": {
     "name": "#%%\n"
    }
   },
   "outputs": [
    {
     "data": {
      "text/plain": [
       "array([[ 67.99271262, 236.87615739],\n",
       "       [ 67.99271262, 240.35227991],\n",
       "       [ 67.99271262, 243.82840244],\n",
       "       [ 67.99271262, 247.30452497],\n",
       "       [ 67.99271262, 250.78064749],\n",
       "       [ 67.99271262, 254.25677002],\n",
       "       [ 67.99271262, 257.73289254],\n",
       "       [ 67.99271262, 261.20901507],\n",
       "       [ 67.99271262, 264.6851376 ],\n",
       "       [ 67.99271262, 268.16126012],\n",
       "       [ 67.99271262, 271.63738265],\n",
       "       [ 67.99271262, 275.11350517],\n",
       "       [ 67.99271262, 278.5896277 ],\n",
       "       [ 67.99271262, 282.06575023],\n",
       "       [ 67.99271262, 285.54187275],\n",
       "       [ 67.99271262, 289.01799528],\n",
       "       [ 67.99271262, 292.4941178 ],\n",
       "       [ 67.99271262, 295.97024033],\n",
       "       [ 67.99271262, 299.44636286],\n",
       "       [ 67.99271262, 302.92248538],\n",
       "       [ 67.99271262, 306.39860791],\n",
       "       [ 67.99271262, 309.87473043],\n",
       "       [ 67.99271262, 313.35085296]])"
      ]
     },
     "execution_count": 29,
     "metadata": {},
     "output_type": "execute_result"
    }
   ],
   "source": [
    "dcl['0'].x_t_unc_Ka"
   ]
  },
  {
   "cell_type": "code",
   "execution_count": 30,
   "id": "1621088a-c965-46d0-8152-752558bc2b77",
   "metadata": {
    "pycharm": {
     "name": "#%%\n"
    }
   },
   "outputs": [
    {
     "data": {
      "text/plain": [
       "<bmcs_shear.matmod.sz_concrete.sz_advanced.sz_advanced.ConcreteMaterialModelAdv at 0x7fa6f1c2d720>"
      ]
     },
     "execution_count": 30,
     "metadata": {},
     "output_type": "execute_result"
    }
   ],
   "source": [
    "cl1 = dcl.items['1']\n",
    "cl1.dic_grid.sz_bd.matrix_"
   ]
  },
  {
   "cell_type": "code",
   "execution_count": null,
   "id": "47b87b49-954f-47be-ac77-032c021da6b3",
   "metadata": {
    "pycharm": {
     "name": "#%%\n"
    }
   },
   "outputs": [],
   "source": []
  },
  {
   "cell_type": "markdown",
   "id": "362a90a6",
   "metadata": {
    "pycharm": {
     "name": "#%% md\n"
    }
   },
   "source": [
    "# Analyze one crack"
   ]
  },
  {
   "cell_type": "code",
   "execution_count": 8,
   "id": "3fbf08af-79bb-4f9f-be19-f0b9a44f9a2d",
   "metadata": {
    "pycharm": {
     "name": "#%%\n"
    }
   },
   "outputs": [
    {
     "data": {
      "application/vnd.jupyter.widget-view+json": {
       "model_id": "8ece41d66a774ea3bacbabcd8224a5d4",
       "version_major": 2,
       "version_minor": 0
      },
      "text/plain": [
       "VBox(children=(HBox(children=(VBox(children=(Tree(layout=Layout(align_items='stretch', border='solid 1px black…"
      ]
     },
     "metadata": {},
     "output_type": "display_data"
    }
   ],
   "source": [
    "cl1.interact()"
   ]
  },
  {
   "cell_type": "markdown",
   "id": "c8bb5c2e",
   "metadata": {
    "pycharm": {
     "name": "#%% md\n"
    }
   },
   "source": [
    "# Verify the center of rotation"
   ]
  },
  {
   "cell_type": "markdown",
   "id": "ba5e394d",
   "metadata": {
    "pycharm": {
     "name": "#%% md\n"
    }
   },
   "source": []
  },
  {
   "cell_type": "code",
   "execution_count": 9,
   "id": "ef9eb899-ff27-46a3-b37d-f12ae41377aa",
   "metadata": {
    "pycharm": {
     "name": "#%%\n"
    }
   },
   "outputs": [
    {
     "data": {
      "application/vnd.jupyter.widget-view+json": {
       "model_id": "e6c4354bed0d4fc488a390563d8acc1a",
       "version_major": 2,
       "version_minor": 0
      },
      "text/plain": [
       "VBox(children=(HBox(children=(VBox(children=(Tree(layout=Layout(align_items='stretch', border='solid 1px black…"
      ]
     },
     "metadata": {},
     "output_type": "display_data"
    }
   ],
   "source": [
    "cl1.cor.trait_set(step_N_COR=2)\n",
    "cl1.cor.interact()"
   ]
  },
  {
   "cell_type": "markdown",
   "id": "2ab5e907-f21a-4eef-bf42-525b3510ec82",
   "metadata": {
    "pycharm": {
     "name": "#%% md\n"
    }
   },
   "source": [
    "## Reverse crack detection - Put into separate notebook with explanation\n",
    "\n",
    " * Get the crack detection field and the primary cracks\n",
    "   detected at the state of the mature cracking stage, \n",
    "   i.e. near the ultimate load."
   ]
  },
  {
   "cell_type": "markdown",
   "id": "0e4b87c0-7b43-4831-927a-04a92bcb0386",
   "metadata": {
    "pycharm": {
     "name": "#%% md\n"
    }
   },
   "source": [
    "### How to access the values of crack detection field at the crack tip"
   ]
  },
  {
   "cell_type": "code",
   "execution_count": 8,
   "id": "87efd187-83d8-4711-974d-bc14fd7e8dfb",
   "metadata": {
    "pycharm": {
     "name": "#%%\n"
    }
   },
   "outputs": [],
   "source": [
    "def get_crack_t(eta = 0.95):\n",
    "    '''Get the crack history starting with the critical\n",
    "    '''\n",
    "    # identify the near feilure crack pattern\n",
    "    t_eta_idx = dcl.dsf.dic_grid.get_F_eta_dic_idx(eta)\n",
    "    dcl.dsf.dic_grid.end_t = t_eta_idx\n",
    "    xx_NC, yy_NC, N_tip_C, M_NC = dcl.primary_cracks\n",
    "    # pripare the list of crack tip states as a funciton of t\n",
    "    N_tip_Ct = np.zeros((len(N_tip_C), t_eta_idx+1), np.int_)\n",
    "    M_tip_Ct = np.zeros_like(N_tip_Ct)\n",
    "    print('t_idx: ', end='')\n",
    "    for t_idx in range(t_eta_idx, -1, -1):\n",
    "        N_tip_C = np.copy(N_tip_C)\n",
    "        N_tip_Ct[:, t_idx] = np.copy(N_tip_C)\n",
    "        M_tip_Ct[:, t_idx] = M_NC[N_tip_C, np.arange(len(N_tip_C))]\n",
    "        print(t_idx, end=' ')\n",
    "        # get the crack detection field for the current time index\n",
    "        dcl.dsf.dic_grid.end_t = t_idx\n",
    "        _, _, cdf_MN = dcl.dsf.crack_detection_field\n",
    "        # for each crack get the indexes starting from the current tip\n",
    "        N_tip_CN = [np.arange(N_tip, -1, -1) for N_tip in N_tip_C]\n",
    "        M_tip_CN = [M_NC[N_tip_t, C] for C, N_tip_t in enumerate(N_tip_CN)]\n",
    "        # evaluate crack detection field along each crack\n",
    "        cdf_CN = [cdf_MN[M_tip_N, N_tip_N] \n",
    "                  for M_tip_N, N_tip_N in zip(M_tip_CN, N_tip_CN)]\n",
    "        # if cdf is zero completely - the crack did not emerge yet\n",
    "        cdf_nonzero_C = np.array([np.sum(cdf_N) for cdf_N in cdf_CN]) > 0\n",
    "        # find the row index distance from the tip with damage larger \n",
    "        # than threshold\n",
    "        dN_C = np.array([np.argmax(cdf_C >= 0.2) for cdf_C in cdf_CN])\n",
    "        N_tip_C[cdf_nonzero_C] -= dN_C[cdf_nonzero_C]\n",
    "        N_tip_C[np.logical_not(cdf_nonzero_C)] = 0\n",
    "    return M_tip_Ct, N_tip_Ct"
   ]
  },
  {
   "cell_type": "code",
   "execution_count": 9,
   "id": "cbb9ad47-4090-4ce1-8dd0-2c213b03bced",
   "metadata": {
    "pycharm": {
     "name": "#%%\n"
    }
   },
   "outputs": [
    {
     "ename": "AttributeError",
     "evalue": "'DICGrid' object has no attribute 'get_F_eta_dic_idx'",
     "output_type": "error",
     "traceback": [
      "\u001b[0;31m---------------------------------------------------------------------------\u001b[0m",
      "\u001b[0;31mAttributeError\u001b[0m                            Traceback (most recent call last)",
      "Input \u001b[0;32mIn [9]\u001b[0m, in \u001b[0;36m<module>\u001b[0;34m\u001b[0m\n\u001b[0;32m----> 1\u001b[0m get_crack_t()\n",
      "Input \u001b[0;32mIn [8]\u001b[0m, in \u001b[0;36mget_crack_t\u001b[0;34m(eta)\u001b[0m\n\u001b[1;32m      2\u001b[0m \u001b[39m'''Get the crack history starting with the critical\u001b[39;00m\n\u001b[1;32m      3\u001b[0m \u001b[39m'''\u001b[39;00m\n\u001b[1;32m      4\u001b[0m \u001b[39m# identify the near feilure crack pattern\u001b[39;00m\n\u001b[0;32m----> 5\u001b[0m t_eta_idx \u001b[39m=\u001b[39m dcl\u001b[39m.\u001b[39;49mdsf\u001b[39m.\u001b[39;49mdic_grid\u001b[39m.\u001b[39;49mget_F_eta_dic_idx(eta)\n\u001b[1;32m      6\u001b[0m dcl\u001b[39m.\u001b[39mdsf\u001b[39m.\u001b[39mdic_grid\u001b[39m.\u001b[39mend_t \u001b[39m=\u001b[39m t_eta_idx\n\u001b[1;32m      7\u001b[0m xx_NC, yy_NC, N_tip_C, M_NC \u001b[39m=\u001b[39m dcl\u001b[39m.\u001b[39mprimary_cracks\n",
      "\u001b[0;31mAttributeError\u001b[0m: 'DICGrid' object has no attribute 'get_F_eta_dic_idx'"
     ]
    }
   ],
   "source": [
    "get_crack_t()"
   ]
  },
  {
   "cell_type": "code",
   "execution_count": null,
   "id": "ef219434-21bb-4f7b-8697-fffcaf212315",
   "metadata": {
    "pycharm": {
     "name": "#%%\n"
    }
   },
   "outputs": [
    {
     "name": "stdout",
     "output_type": "stream",
     "text": [
      "t_idx: 18 17 16 15 14 13 12 11 10 9 8 7 6 5 4 3 2 1 0 "
     ]
    },
    {
     "data": {
      "text/plain": [
       "([array([ 6, 13, 26, 38, 56, 74, 92]),\n",
       "  array([ 6, 13, 26, 38, 56, 74, 92]),\n",
       "  array([ 6, 13, 26, 38, 56, 74, 92]),\n",
       "  array([ 6, 13, 26, 38, 56, 74, 92]),\n",
       "  array([ 6, 13, 26, 38, 56, 74, 94]),\n",
       "  array([ 6, 13, 27, 38, 56, 74, 95]),\n",
       "  array([ 7, 13, 27, 38, 57, 74, 95]),\n",
       "  array([ 8, 13, 27, 39, 58, 74, 95]),\n",
       "  array([ 9, 13, 27, 39, 59, 74, 95]),\n",
       "  array([ 9, 13, 27, 39, 60, 74, 95]),\n",
       "  array([10, 13, 27, 39, 60, 75, 95]),\n",
       "  array([10, 13, 27, 40, 60, 76, 95]),\n",
       "  array([10, 14, 28, 40, 60, 76, 95]),\n",
       "  array([10, 14, 28, 40, 60, 76, 95]),\n",
       "  array([10, 15, 29, 41, 61, 76, 95]),\n",
       "  array([10, 16, 29, 42, 61, 76, 95]),\n",
       "  array([10, 16, 29, 42, 61, 76, 95]),\n",
       "  array([10, 16, 29, 42, 61, 76, 95]),\n",
       "  array([10, 16, 29, 42, 61, 76, 95])],\n",
       " [array([19, 18, 17, 19, 19, 16, 10]),\n",
       "  array([19, 18, 17, 19, 19, 16, 10]),\n",
       "  array([19, 18, 17, 19, 19, 16, 10]),\n",
       "  array([19, 18, 17, 19, 19, 16, 10]),\n",
       "  array([19, 18, 17, 19, 19, 16,  8]),\n",
       "  array([18, 18, 16, 19, 19, 16,  7]),\n",
       "  array([16, 18, 16, 19, 17, 16,  7]),\n",
       "  array([14, 18, 16, 18, 16, 15,  6]),\n",
       "  array([ 9, 18, 15, 18, 14, 11,  6]),\n",
       "  array([ 9, 18, 15, 16, 13, 11,  6]),\n",
       "  array([ 7, 18, 12, 16, 12, 10,  6]),\n",
       "  array([ 7, 18, 12, 15, 12,  6,  6]),\n",
       "  array([ 5, 17,  9, 15,  8,  4,  6]),\n",
       "  array([ 2, 16,  9, 15,  7,  3,  6]),\n",
       "  array([ 2, 15,  7, 12,  3,  3,  6]),\n",
       "  array([ 2, 11,  1,  8,  3,  3,  6]),\n",
       "  array([2, 5, 1, 8, 3, 3, 6]),\n",
       "  array([2, 5, 1, 8, 3, 3, 6]),\n",
       "  array([2, 5, 1, 8, 3, 3, 6])])"
      ]
     },
     "execution_count": 8,
     "metadata": {},
     "output_type": "execute_result"
    }
   ],
   "source": [
    "dcl.cracks_t"
   ]
  },
  {
   "cell_type": "code",
   "execution_count": null,
   "id": "31cabce3-f500-4616-b41e-39c59337e8c3",
   "metadata": {
    "pycharm": {
     "name": "#%%\n"
    }
   },
   "outputs": [
    {
     "data": {
      "text/plain": [
       "(116, 28)"
      ]
     },
     "execution_count": 40,
     "metadata": {},
     "output_type": "execute_result"
    }
   ],
   "source": [
    "_, _, cdf_eta_MN = dcl.dsf.crack_detection_field"
   ]
  },
  {
   "cell_type": "code",
   "execution_count": null,
   "id": "c1be16c5-a723-4d0d-ad7e-286deead69f1",
   "metadata": {
    "pycharm": {
     "name": "#%%\n"
    }
   },
   "outputs": [],
   "source": [
    "xx_NC, yy_NC, N_tip_C, M_NC = dcl.primary_cracks"
   ]
  },
  {
   "cell_type": "code",
   "execution_count": null,
   "id": "380f33a8-66a1-4371-8186-f546bc6ecf17",
   "metadata": {
    "pycharm": {
     "name": "#%%\n"
    }
   },
   "outputs": [
    {
     "data": {
      "text/plain": [
       "array([19, 18, 17, 19, 19, 16, 10])"
      ]
     },
     "execution_count": 28,
     "metadata": {},
     "output_type": "execute_result"
    }
   ],
   "source": [
    "N_tip_C"
   ]
  },
  {
   "cell_type": "code",
   "execution_count": null,
   "id": "75f0340d-ad33-486f-a4ef-0fcc37975215",
   "metadata": {
    "pycharm": {
     "name": "#%%\n"
    }
   },
   "outputs": [],
   "source": [
    "M_tip_C = M_NC[N_tip_C,np.arange(len(N_tip_C))]"
   ]
  },
  {
   "cell_type": "code",
   "execution_count": null,
   "id": "9459ad9f-2ae4-4686-9e54-159eefbaf419",
   "metadata": {
    "pycharm": {
     "name": "#%%\n"
    }
   },
   "outputs": [
    {
     "data": {
      "text/plain": [
       "array([ 6, 13, 26, 38, 56, 74, 92])"
      ]
     },
     "execution_count": 30,
     "metadata": {},
     "output_type": "execute_result"
    }
   ],
   "source": [
    "M_tip_C"
   ]
  },
  {
   "cell_type": "code",
   "execution_count": null,
   "id": "ad46024b-cec2-448c-b6cd-7206382a4b9e",
   "metadata": {
    "pycharm": {
     "name": "#%%\n"
    }
   },
   "outputs": [
    {
     "data": {
      "text/plain": [
       "array([0.24249924, 0.27093637, 0.22398292, 0.38911079, 0.23217991,\n",
       "       0.24228758, 0.2987822 ])"
      ]
     },
     "execution_count": 31,
     "metadata": {},
     "output_type": "execute_result"
    }
   ],
   "source": [
    "cdf_eta_MN[M_tip_C, N_tip_C]"
   ]
  },
  {
   "cell_type": "code",
   "execution_count": null,
   "id": "24faac86-987c-497e-8f8f-d82b21df2985",
   "metadata": {
    "pycharm": {
     "name": "#%%\n"
    }
   },
   "outputs": [
    {
     "data": {
      "text/plain": [
       "(116, 28)"
      ]
     },
     "execution_count": 36,
     "metadata": {},
     "output_type": "execute_result"
    }
   ],
   "source": [
    "_, _, cdf_MN = dcl.dsf.crack_detection_field\n",
    "cdf_MN.shape"
   ]
  },
  {
   "cell_type": "code",
   "execution_count": null,
   "id": "2c59d4eb-d9a2-4250-86c5-60f4f112cb56",
   "metadata": {
    "pycharm": {
     "name": "#%%\n"
    }
   },
   "outputs": [
    {
     "data": {
      "text/plain": [
       "array([0.2102562 , 0.33028572, 0.22957975, 0.28097628, 0.31755808,\n",
       "       0.30542646, 0.2718454 ])"
      ]
     },
     "execution_count": 38,
     "metadata": {},
     "output_type": "execute_result"
    }
   ],
   "source": [
    "cdf_MN[M_tip_C, N_tip_C]"
   ]
  },
  {
   "cell_type": "code",
   "execution_count": null,
   "id": "1e901cfc-f10e-4555-b458-0c859a9f36d7",
   "metadata": {
    "pycharm": {
     "name": "#%%\n"
    }
   },
   "outputs": [],
   "source": []
  },
  {
   "cell_type": "markdown",
   "id": "a2a6f7c0-8529-4fb9-a220-dfbdb850973a",
   "metadata": {
    "pycharm": {
     "name": "#%% md\n"
    }
   },
   "source": [
    "### How to access the crack detection field for lower load levels"
   ]
  },
  {
   "cell_type": "code",
   "execution_count": null,
   "id": "cf7a1b35-57b6-41e0-83b6-33e2bcc244e2",
   "metadata": {
    "pycharm": {
     "name": "#%%\n"
    }
   },
   "outputs": [
    {
     "data": {
      "text/plain": [
       "11"
      ]
     },
     "execution_count": 15,
     "metadata": {},
     "output_type": "execute_result"
    }
   ],
   "source": [
    "dcl.dsf.dic_grid.end_t"
   ]
  },
  {
   "cell_type": "code",
   "execution_count": null,
   "id": "b31dc6a5-9fd1-47fb-809f-7c20d4e08376",
   "metadata": {
    "pycharm": {
     "name": "#%%\n"
    }
   },
   "outputs": [],
   "source": [
    "sp = dcl.items[3]"
   ]
  },
  {
   "cell_type": "code",
   "execution_count": null,
   "id": "ab391dd4-4528-44b5-83a8-1b8eada2ed1e",
   "metadata": {
    "pycharm": {
     "name": "#%%\n"
    }
   },
   "outputs": [
    {
     "data": {
      "text/plain": [
       "array([423.21144987, 235.67818428])"
      ]
     },
     "execution_count": 17,
     "metadata": {},
     "output_type": "execute_result"
    }
   ],
   "source": [
    "sp.X_neutral_a"
   ]
  },
  {
   "cell_type": "code",
   "execution_count": null,
   "id": "93aac55b-c262-4d3e-a62b-81d6abcf25ae",
   "metadata": {
    "pycharm": {
     "name": "#%%\n"
    }
   },
   "outputs": [],
   "source": [
    "x_00 = sp.dic_crack.C_cubic_spline(sp.z_N)"
   ]
  },
  {
   "cell_type": "code",
   "execution_count": null,
   "id": "6b99f6bf-f63a-4ace-a77e-130c5b34dda9",
   "metadata": {
    "pycharm": {
     "name": "#%%\n"
    }
   },
   "outputs": [
    {
     "data": {
      "text/plain": [
       "array([472.76657979])"
      ]
     },
     "execution_count": 19,
     "metadata": {},
     "output_type": "execute_result"
    }
   ],
   "source": [
    "x_00"
   ]
  },
  {
   "cell_type": "code",
   "execution_count": null,
   "id": "c0d83490-c8a8-44c0-9990-6ce791caa9ac",
   "metadata": {
    "pycharm": {
     "name": "#%%\n"
    }
   },
   "outputs": [
    {
     "data": {
      "text/plain": [
       "nan"
      ]
     },
     "execution_count": 20,
     "metadata": {},
     "output_type": "execute_result"
    }
   ],
   "source": [
    "sp.M"
   ]
  },
  {
   "cell_type": "code",
   "execution_count": null,
   "id": "d01f6b62-6393-475a-9783-db3922c08176",
   "metadata": {
    "pycharm": {
     "name": "#%%\n"
    }
   },
   "outputs": [
    {
     "data": {
      "application/vnd.jupyter.widget-view+json": {
       "model_id": "a1e74607554b4063b9d7b06f8fdfb2dc",
       "version_major": 2,
       "version_minor": 0
      },
      "text/plain": [
       "VBox(children=(HBox(children=(VBox(children=(Tree(layout=Layout(align_items='stretch', border='solid 1px black…"
      ]
     },
     "metadata": {},
     "output_type": "display_data"
    }
   ],
   "source": [
    "dcl.interact()"
   ]
  },
  {
   "cell_type": "code",
   "execution_count": null,
   "id": "52c2900d-353a-4d80-a8f4-c49e4cee7379",
   "metadata": {
    "pycharm": {
     "name": "#%%\n"
    }
   },
   "outputs": [],
   "source": [
    "crack_0 = dcl.items[2]"
   ]
  },
  {
   "cell_type": "code",
   "execution_count": null,
   "id": "b35fd859-cd37-45f0-a812-555a9affc208",
   "metadata": {
    "pycharm": {
     "name": "#%%\n"
    }
   },
   "outputs": [
    {
     "data": {
      "text/plain": [
       "(nan, nan)"
      ]
     },
     "execution_count": 13,
     "metadata": {},
     "output_type": "execute_result"
    }
   ],
   "source": [
    "crack_0.pos_F_y"
   ]
  },
  {
   "cell_type": "code",
   "execution_count": null,
   "id": "cfb6ff25-6524-455f-b54f-6f4de6f6d6f8",
   "metadata": {
    "pycharm": {
     "name": "#%%\n"
    }
   },
   "outputs": [
    {
     "data": {
      "application/vnd.jupyter.widget-view+json": {
       "model_id": "2cd945eed0d044d2ade087920b8edae1",
       "version_major": 2,
       "version_minor": 0
      },
      "text/plain": [
       "Canvas(toolbar=Toolbar(toolitems=[('Home', 'Reset original view', 'home', 'home'), ('Back', 'Back to previous …"
      ]
     },
     "metadata": {},
     "output_type": "display_data"
    },
    {
     "data": {
      "text/plain": [
       "(248.36770344360858, 480.1367773488707, -7.550799748321647, 274.79547068760746)"
      ]
     },
     "execution_count": 9,
     "metadata": {},
     "output_type": "execute_result"
    }
   ],
   "source": [
    "fig, ax = plt.subplots(1,1)\n",
    "crack_0.dic_crack.plot_u_Nib(ax)\n",
    "crack_0.dic_crack.plot_x_Na(ax)\n",
    "crack_0.plot_COR(ax)\n",
    "crack_0.plot_cor_markers(ax)\n",
    "ax.axis('equal')"
   ]
  },
  {
   "cell_type": "code",
   "execution_count": null,
   "id": "320aa8df-2c2f-4558-a0b3-85f2f57c3262",
   "metadata": {
    "pycharm": {
     "name": "#%%\n"
    }
   },
   "outputs": [],
   "source": [
    "crack_0.M_N[20]"
   ]
  },
  {
   "cell_type": "code",
   "execution_count": null,
   "id": "14fe59bd-94bc-4b0c-8f08-132b8bcf4757",
   "metadata": {
    "pycharm": {
     "name": "#%%\n"
    }
   },
   "outputs": [],
   "source": [
    "dc_cor = DICCrackCOR(dic_crack=dcl.items[2])"
   ]
  },
  {
   "cell_type": "code",
   "execution_count": null,
   "id": "12070508-4ab0-43dc-9c55-1f515fa2ae30",
   "metadata": {
    "pycharm": {
     "name": "#%%\n"
    }
   },
   "outputs": [],
   "source": [
    "dc_cor.M_N.dtype"
   ]
  },
  {
   "cell_type": "code",
   "execution_count": null,
   "id": "6b344a05-7d62-4b2e-963e-f4263a89bbd2",
   "metadata": {
    "pycharm": {
     "name": "#%%\n"
    }
   },
   "outputs": [],
   "source": [
    "slice_M_N = slice(dc_cor.M_N,dc_cor.M_N+3)"
   ]
  },
  {
   "cell_type": "code",
   "execution_count": null,
   "id": "fa1355b6-eb55-493f-820d-039f557a2f93",
   "metadata": {
    "pycharm": {
     "name": "#%%\n"
    }
   },
   "outputs": [],
   "source": [
    "X_mNa = np.array([dc_cor.X_MNa[dc_cor.M_N+i, np.arange(len(dc_cor.M_N))] for i in range(5)])"
   ]
  },
  {
   "cell_type": "code",
   "execution_count": null,
   "id": "95171df6-d6f2-4c4a-bb9a-73cc744609b0",
   "metadata": {
    "pycharm": {
     "name": "#%%\n"
    }
   },
   "outputs": [],
   "source": [
    "X_mNa[-1,0]"
   ]
  },
  {
   "cell_type": "code",
   "execution_count": null,
   "id": "e0590c3a-0abd-46fd-833d-16406443d955",
   "metadata": {
    "pycharm": {
     "name": "#%%\n"
    }
   },
   "outputs": [],
   "source": [
    "dc_cor.M0"
   ]
  },
  {
   "cell_type": "code",
   "execution_count": null,
   "id": "6dfe3c0e-d231-4d98-8490-a588bcd75cd1",
   "metadata": {
    "pycharm": {
     "name": "#%%\n"
    }
   },
   "outputs": [],
   "source": [
    "dc_cor.interact()"
   ]
  },
  {
   "cell_type": "code",
   "execution_count": null,
   "id": "2bf86666-0ab5-4591-9ca3-f44aaa33b7e4",
   "metadata": {
    "pycharm": {
     "name": "#%%\n"
    }
   },
   "outputs": [],
   "source": [
    "dc_cor.X0_a - dc_cor.U0_a"
   ]
  },
  {
   "cell_type": "code",
   "execution_count": null,
   "id": "d7b10baf-4323-4222-a2cb-ccbf93c698ec",
   "metadata": {
    "pycharm": {
     "name": "#%%\n"
    }
   },
   "outputs": [
    {
     "data": {
      "text/plain": [
       "array([[330.87272231,   4.85905338],\n",
       "       [330.87254552,  13.86303457],\n",
       "       [330.87358701,  22.868741  ],\n",
       "       [330.87234085,  31.88218863],\n",
       "       [330.87220829,  40.89703656]])"
      ]
     },
     "execution_count": 19,
     "metadata": {},
     "output_type": "execute_result"
    }
   ],
   "source": [
    "dc_cor.x_ref_MNa_scaled[dc_cor.M0, :dc_cor.N0_max]"
   ]
  },
  {
   "cell_type": "code",
   "execution_count": null,
   "id": "687bbc1c-dc35-4496-97e3-1c1462ff4162",
   "metadata": {
    "pycharm": {
     "name": "#%%\n"
    }
   },
   "outputs": [],
   "source": []
  },
  {
   "cell_type": "code",
   "execution_count": null,
   "id": "6b7c63aa-55b3-4480-9768-b3915f84c8b9",
   "metadata": {
    "pycharm": {
     "name": "#%%\n"
    }
   },
   "outputs": [],
   "source": []
  }
 ],
 "metadata": {
  "interpreter": {
   "hash": "ebcff91b5d652715d8939a8899ef0ddafa7c15917479d2b47c651d9565cfe207"
  },
  "kernelspec": {
   "display_name": "bmcs_env",
   "language": "python",
   "name": "bmcs_env"
  },
  "language_info": {
   "codemirror_mode": {
    "name": "ipython",
    "version": 3
   },
   "file_extension": ".py",
   "mimetype": "text/x-python",
   "name": "python",
   "nbconvert_exporter": "python",
   "pygments_lexer": "ipython3",
   "version": "3.9.0"
  }
 },
 "nbformat": 4,
 "nbformat_minor": 5
}
