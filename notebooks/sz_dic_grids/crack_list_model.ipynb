{
 "cells": [
  {
   "cell_type": "markdown",
   "id": "e43222ac-fdc6-44a2-8afe-dfae159e8df1",
   "metadata": {
    "pycharm": {
     "name": "#%% md\n"
    }
   },
   "source": [
    "# Current to do's 2022-28\n",
    "\n",
    "- naming of coordinates - x horizontal, y vertical - encapsulate the differences in dic_grid, so that any further level works \n",
    "   without swapping\n",
    " - extend interpolation in dsf to cdf - including the time index - this will allow for the crack detection and spline representation    of the functions \n",
    "$$\n",
    "\\omega_C( t, y )\n",
    "$$\n",
    " - use this function to determine\n",
    "$$\n",
    "y^\\mathrm{tip}_C( t )\n",
    "$$ \n",
    "$$\n",
    "\\Delta u_{Ca}( y, t ) = u( x+r, y, t ) - u( x-r, y, t ) \n",
    "$$\n",
    " - Constitutive laws applied across the crack ligament\n",
    "$$\n",
    " \\sigma_{Cab}(y, t) = \\mathcal{S}_{ab}(\\Delta u{Ca}(y, t))\n",
    "$$\n",
    " - distinguish the change events - finer resolution of the tag types (TIME, ALG, MESH)."
   ]
  },
  {
   "cell_type": "markdown",
   "id": "a89177ca-df71-4964-869b-bb2f5814741c",
   "metadata": {
    "pycharm": {
     "name": "#%% md\n"
    }
   },
   "source": [
    "# Crack detection strategy\n",
    "\n",
    "The detection algorithm uses the knowledge about shear crack propagation \n",
    " - distance between cracks is related to the shielded length given by the reinforcement ratio      and bond properties\n",
    " - cracks start from the bottom of the cross section\n",
    " - cracks propagate upwards and bend in the direction of an increasing cross-sectional moment\n",
    " \n",
    "The crack pattern in the shear zone gets most visible prior shortly before the maximum load has been reached. Near to the failure, the regularity of the crack pattern is lost and the specimen cannot be viewed as a series of individual shear cracks any more. The initiation of failure via a horizontal crossing crack initiated by a vertical stress component is initiated either near the reinforcement layer due to the dowel action or by a crack tip propagating horizontally through a compression zone.\n",
    "\n",
    "## Full crack detection strategy\n",
    "\n",
    "This observation is exploited by the crack detection algorithm by adapting the following strategy. \n",
    "\n",
    " - The displacement field $U_{IJa}^{F_\\gamma}$ corresponding to $F_{\\gamma} = 0.9 F_{\\max}$ is taken first to calculate the strain, damage and stress fields.\n",
    " - The DIC-FE state fields are interpolated and smoothed as a basis for the crack detection step. The crack detection algorithm is employed to detect the crack path $\\mathcal{C}(F_\\gamma)$ at the near-failure level of load. The algorithm delivers the crack tip positions.\n",
    " - The obtained crack path is then refined by analyzing the cracking process in reverse order $F = [F_\\gamma, 0]$. The difference between damage fields $\\omega_{MN}(F_\\gamma)$ and $\\omega_{MN}(F), n = [0, n_C-1]$  obtained using DIC-FE-MDM calculation for each $U_{IJa}$ state are analyzed to refine the crack geometry in the previous states of loading. After that, the load range between the crack detection state and the ultimate load is analyzed based on the known cracking state at the level $F\\tilde{}$.\n",
    " - Define a spline function representing the damage along the crack\n",
    " \n",
    "## Current strategy\n",
    "\n",
    "The crack detection load level $\\gamma$ is used to identify the primary cracks. The cracks that develop at the level $\\gamma = 0.9$ up to the 0.4 of the cross sectional height are recognized as primary cracks. Partially, secondary cracks and noise in DIC data and FE approximation are avoided  by smoothing the damage field within a radius that reflects the element resolution / characteristic length? Currently, the primary cracks are identified first to obtain the crack zones."
   ]
  },
  {
   "cell_type": "markdown",
   "id": "bc301f3e-aefe-4cc0-a375-045063201701",
   "metadata": {
    "pycharm": {
     "name": "#%% md\n"
    }
   },
   "source": [
    "# Stress profile evaluation\n",
    "\n",
    " - M, N, Q - evaluated from the constitutive laws along the ligament\n",
    " - Crack-tip stress / strain / opening. \n",
    " - How to include the history of damage into the stress evaluation (softening law)\n"
   ]
  },
  {
   "cell_type": "markdown",
   "id": "1e676faa-e40a-4c0b-966e-b95f25f2af56",
   "metadata": {
    "pycharm": {
     "name": "#%% md\n"
    }
   },
   "source": [
    "## Constitutive laws along the ligament\n",
    "\n",
    "The transition between strain concentration and discrete crack representation is based on the threshold value of the critical strain $\\varepsilon_\\mathrm{cr}$. This value corresponds to the strain with the onset of softening, i.e.\n",
    "$$\n",
    " \\varepsilon_\\mathrm{cr} = \\mathrm{argmax}_\\varepsilon \\mathcal{S}(\\varepsilon).\n",
    "$$\n",
    "In case of a linear ascending branch, this relation is obtained as\n",
    "$$\n",
    " \\varepsilon_\\mathrm{cr} = \\frac{ f_\\mathrm{t} }{ E }\n",
    "$$"
   ]
  },
  {
   "cell_type": "markdown",
   "id": "6663955d-1aa6-4dbf-93bb-d850764477ca",
   "metadata": {
    "pycharm": {
     "name": "#%% md\n"
    }
   },
   "source": [
    "The stress in the ascending range is controlled by strain \n",
    "$$\n",
    "\\sigma_a\n",
    "  = \\left\\{  \n",
    " \\begin{array}{l}\n",
    " \\mathcal{S}(\\varepsilon)\\; \\mathrm{if} \\; \\varepsilon < \\varepsilon_\\mathrm{cr}\n",
    " \\\\\n",
    " \\mathcal{S}(w) \\; \\mathrm{otherwise}\n",
    " \\end{array}\n",
    " \\right.\n",
    "$$"
   ]
  },
  {
   "cell_type": "markdown",
   "id": "06ed2e1e-cc90-4322-a106-1e076d00fadb",
   "metadata": {
    "pycharm": {
     "name": "#%% md\n"
    }
   },
   "source": [
    "An alternative approach is to introduce an equivalent strain or yield function."
   ]
  },
  {
   "cell_type": "markdown",
   "id": "feb8639b-6125-402c-88f0-717e221a5afd",
   "metadata": {
    "pycharm": {
     "name": "#%% md\n"
    }
   },
   "source": [
    "# Todo\n",
    "\n",
    " - Add the extrapolation to include the top layer of the cross section [RC-done]\n",
    " - Separate the constitutive law for compression and tension [RC-done]\n",
    " - Include compression law considering the 3D stress state (plain stress)\n",
    " - In stress and force plot - align the ligament axis and show the capacity value for the reinforcement to indicate that it is yielding\n",
    " - bmcs_utils - improve the dependency management so that the tree nodes are not needed everywhere\n",
    " - Animation of the center of rotation - start with a localized crack up to 1/3 of the cross section"
   ]
  },
  {
   "cell_type": "markdown",
   "id": "91f9e03c",
   "metadata": {
    "pycharm": {
     "name": "#%% md\n"
    }
   },
   "source": [
    "# Questions\n",
    "\n",
    "- How to explain that the opening and sliding profiles are almost constant for shear crack while there is a center of rotation near the tip?"
   ]
  },
  {
   "cell_type": "code",
   "execution_count": 1,
   "id": "7f03eef1-2ae3-4ba2-8740-e22aebd48b28",
   "metadata": {
    "pycharm": {
     "name": "#%%\n"
    }
   },
   "outputs": [],
   "source": [
    "%matplotlib widget\n",
    "import matplotlib.pylab as plt\n",
    "from bmcs_shear.dic_crack import\\\n",
    "    DICGrid, DICStateFields, DICCrackList, DICCrack, DICCrackCOR\n",
    "from bmcs_shear.shear_crack.crack_path import get_T_Lab\n",
    "import numpy as np\n",
    "np.seterr(divide='ignore', invalid='ignore');"
   ]
  },
  {
   "cell_type": "code",
   "execution_count": 2,
   "id": "ee34bf85-6d51-4ca2-a05f-0bcb70a7725b",
   "metadata": {
    "pycharm": {
     "name": "#%%\n"
    }
   },
   "outputs": [],
   "source": [
    "dic_grid = DICGrid(U_factor=100, dir_name='B10_TV1', t=0.1)"
   ]
  },
  {
   "cell_type": "code",
   "execution_count": 3,
   "id": "cf16c5bd",
   "metadata": {
    "jupyter": {
     "outputs_hidden": false
    },
    "pycharm": {
     "name": "#%%\n"
    }
   },
   "outputs": [
    {
     "name": "stdout",
     "output_type": "stream",
     "text": [
      "xtrait <bmcs_utils.trait_types.instance_type.Instance object at 0x000002A4CA3F9FD0>\n",
      "name sz_bd\n",
      "trait <bmcs_shear.beam_design.beam_design.RCBeamDesign object at 0x000002A4C803CF90>\n"
     ]
    }
   ],
   "source": [
    "submodels = []\n",
    "self= dic_grid\n",
    "for name in self.get_tree_items():\n",
    "    trait = self.trait(name)\n",
    "    trait_type = trait.trait_type\n",
    "    print('xtrait', trait_type)\n",
    "    name_ = trait_type.get_name_(name)\n",
    "    print('name', name_)\n",
    "    trait_ = getattr(self, name_, None)\n",
    "    print('trait', trait_)\n",
    "    if trait_ is None:\n",
    "        raise ValueError('trait %s not found in %s' % (name_, self))\n",
    "    submodels.append(trait_)\n"
   ]
  },
  {
   "cell_type": "code",
   "execution_count": 4,
   "id": "e5832da5",
   "metadata": {
    "jupyter": {
     "outputs_hidden": false
    },
    "pycharm": {
     "name": "#%%\n"
    }
   },
   "outputs": [
    {
     "data": {
      "text/plain": [
       "<bmcs_shear.beam_design.beam_design.RCBeamDesign at 0x2a4c803cf90>"
      ]
     },
     "execution_count": 4,
     "metadata": {},
     "output_type": "execute_result"
    }
   ],
   "source": [
    "getattr(dic_grid, 'sz_bd')"
   ]
  },
  {
   "cell_type": "code",
   "execution_count": 5,
   "id": "c5fc8f48",
   "metadata": {
    "jupyter": {
     "outputs_hidden": false
    },
    "pycharm": {
     "name": "#%%\n"
    }
   },
   "outputs": [
    {
     "data": {
      "application/vnd.jupyter.widget-view+json": {
       "model_id": "2468f73f761b45bf8a86960a0830ef59",
       "version_major": 2,
       "version_minor": 0
      },
      "text/plain": [
       "VBox(children=(HBox(children=(VBox(children=(Tree(layout=Layout(align_items='stretch', border='solid 1px black…"
      ]
     },
     "metadata": {},
     "output_type": "display_data"
    }
   ],
   "source": [
    "dic_grid.interact()"
   ]
  },
  {
   "cell_type": "code",
   "execution_count": 6,
   "id": "953ac2fa-d0a3-48d0-90b4-4cd0b9bf3c59",
   "metadata": {
    "pycharm": {
     "name": "#%%\n"
    }
   },
   "outputs": [
    {
     "data": {
      "text/plain": [
       "0.07805377028082208"
      ]
     },
     "execution_count": 6,
     "metadata": {},
     "output_type": "execute_result"
    }
   ],
   "source": [
    "l_cb = dic_grid.d_x * 1\n",
    "dsf = DICStateFields(dic_grid=dic_grid)\n",
    "dsf.tmodel_.trait_set(E=5000, c_T=0, nu=0.18, epsilon_0=0.0005, epsilon_f=0.02/l_cb, eps_max=0.005);\n",
    "dsf.tmodel_.G_f * dic_grid.d_x"
   ]
  },
  {
   "cell_type": "code",
   "execution_count": 7,
   "id": "e87ba588-1916-4b89-ae14-b470ea3d8089",
   "metadata": {
    "pycharm": {
     "name": "#%%\n"
    }
   },
   "outputs": [],
   "source": [
    "dsf.eval()\n",
    "dsf.dic_grid.sz_bd.matrix_.L_cr = 30"
   ]
  },
  {
   "cell_type": "markdown",
   "id": "1a401943",
   "metadata": {
    "pycharm": {
     "name": "#%% md\n"
    }
   },
   "source": [
    "# Detect the cracks"
   ]
  },
  {
   "cell_type": "code",
   "execution_count": 8,
   "id": "80555c92-c101-4b5d-874a-eac026ae139c",
   "metadata": {
    "pycharm": {
     "name": "#%%\n"
    }
   },
   "outputs": [],
   "source": [
    "dcl = DICCrackList(dsf=dsf, eta=1)"
   ]
  },
  {
   "cell_type": "code",
   "execution_count": 9,
   "id": "38c3f98f-d11a-446c-a810-27971c396656",
   "metadata": {
    "pycharm": {
     "name": "#%%\n"
    }
   },
   "outputs": [
    {
     "data": {
      "application/vnd.jupyter.widget-view+json": {
       "model_id": "04c6c65666b1435cb5e9fab105f9a1ee",
       "version_major": 2,
       "version_minor": 0
      },
      "text/plain": [
       "VBox(children=(HBox(children=(VBox(children=(Tree(layout=Layout(align_items='stretch', border='solid 1px black…"
      ]
     },
     "metadata": {},
     "output_type": "display_data"
    }
   ],
   "source": [
    "dcl.identify_cracks()\n",
    "dcl.interact()"
   ]
  },
  {
   "cell_type": "code",
   "execution_count": 10,
   "id": "da7abdaa-31d8-4e3c-aaee-de10be9da311",
   "metadata": {
    "pycharm": {
     "name": "#%%\n"
    }
   },
   "outputs": [
    {
     "data": {
      "text/plain": [
       "array([[ 48.91352453, 231.41971412],\n",
       "       [ 48.91352453, 235.36033294],\n",
       "       [ 48.91352453, 239.30095176],\n",
       "       [ 48.91352453, 243.24157059],\n",
       "       [ 48.91352453, 247.18218941],\n",
       "       [ 48.91352453, 251.12280824],\n",
       "       [ 48.91352453, 255.06342706],\n",
       "       [ 48.91352453, 259.00404589],\n",
       "       [ 48.91352453, 262.94466471],\n",
       "       [ 48.91352453, 266.88528354],\n",
       "       [ 48.91352453, 270.82590236],\n",
       "       [ 48.91352453, 274.76652119],\n",
       "       [ 48.91352453, 278.70714001],\n",
       "       [ 48.91352453, 282.64775884],\n",
       "       [ 48.91352453, 286.58837766],\n",
       "       [ 48.91352453, 290.52899649],\n",
       "       [ 48.91352453, 294.46961531],\n",
       "       [ 48.91352453, 298.41023414],\n",
       "       [ 48.91352453, 302.35085296]])"
      ]
     },
     "execution_count": 10,
     "metadata": {},
     "output_type": "execute_result"
    }
   ],
   "source": [
    "dcl['0'].x_t_unc_Ka"
   ]
  },
  {
   "cell_type": "code",
   "execution_count": 11,
   "id": "1621088a-c965-46d0-8152-752558bc2b77",
   "metadata": {
    "pycharm": {
     "name": "#%%\n"
    }
   },
   "outputs": [
    {
     "data": {
      "text/plain": [
       "<bmcs_shear.matmod.sz_concrete.sz_advanced.sz_advanced.ConcreteMaterialModelAdv at 0x2a4d1f849f0>"
      ]
     },
     "execution_count": 11,
     "metadata": {},
     "output_type": "execute_result"
    }
   ],
   "source": [
    "cl1 = dcl.items['1']\n",
    "cl1.dic_grid.sz_bd.matrix_"
   ]
  },
  {
   "cell_type": "code",
   "execution_count": null,
   "id": "47b87b49-954f-47be-ac77-032c021da6b3",
   "metadata": {
    "pycharm": {
     "name": "#%%\n"
    }
   },
   "outputs": [],
   "source": []
  },
  {
   "cell_type": "markdown",
   "id": "362a90a6",
   "metadata": {
    "pycharm": {
     "name": "#%% md\n"
    }
   },
   "source": [
    "# Analyze one crack"
   ]
  },
  {
   "cell_type": "code",
   "execution_count": 12,
   "id": "3fbf08af-79bb-4f9f-be19-f0b9a44f9a2d",
   "metadata": {
    "pycharm": {
     "name": "#%%\n"
    }
   },
   "outputs": [
    {
     "ename": "AttributeError",
     "evalue": "'RCBeamDesign' object has no attribute 'L'",
     "output_type": "error",
     "traceback": [
      "\u001b[1;31m---------------------------------------------------------------------------\u001b[0m",
      "\u001b[1;31mAttributeError\u001b[0m                            Traceback (most recent call last)",
      "\u001b[1;32m~\\AppData\\Local\\Temp/ipykernel_24488/1949732001.py\u001b[0m in \u001b[0;36m<module>\u001b[1;34m\u001b[0m\n\u001b[1;32m----> 1\u001b[1;33m \u001b[0mcl1\u001b[0m\u001b[1;33m.\u001b[0m\u001b[0minteract\u001b[0m\u001b[1;33m(\u001b[0m\u001b[1;33m)\u001b[0m\u001b[1;33m\u001b[0m\u001b[1;33m\u001b[0m\u001b[0m\n\u001b[0m",
      "\u001b[1;32mc:\\users\\fahad\\pycharmprojects\\bmcs_utils\\bmcs_utils\\model.py\u001b[0m in \u001b[0;36minteract\u001b[1;34m(self, **kw)\u001b[0m\n\u001b[0;32m     54\u001b[0m     \u001b[1;32mdef\u001b[0m \u001b[0minteract\u001b[0m\u001b[1;33m(\u001b[0m\u001b[0mself\u001b[0m\u001b[1;33m,\u001b[0m\u001b[1;33m**\u001b[0m\u001b[0mkw\u001b[0m\u001b[1;33m)\u001b[0m\u001b[1;33m:\u001b[0m\u001b[1;33m\u001b[0m\u001b[1;33m\u001b[0m\u001b[0m\n\u001b[0;32m     55\u001b[0m         \u001b[0mapp_window\u001b[0m \u001b[1;33m=\u001b[0m \u001b[0mself\u001b[0m\u001b[1;33m.\u001b[0m\u001b[0mnew_app_window\u001b[0m\u001b[1;33m(\u001b[0m\u001b[1;33m)\u001b[0m\u001b[1;33m\u001b[0m\u001b[1;33m\u001b[0m\u001b[0m\n\u001b[1;32m---> 56\u001b[1;33m         \u001b[1;32mreturn\u001b[0m \u001b[0mapp_window\u001b[0m\u001b[1;33m.\u001b[0m\u001b[0minteract\u001b[0m\u001b[1;33m(\u001b[0m\u001b[1;33m)\u001b[0m\u001b[1;33m\u001b[0m\u001b[1;33m\u001b[0m\u001b[0m\n\u001b[0m\u001b[0;32m     57\u001b[0m \u001b[1;33m\u001b[0m\u001b[0m\n\u001b[0;32m     58\u001b[0m     \u001b[1;32mdef\u001b[0m \u001b[0mapp\u001b[0m\u001b[1;33m(\u001b[0m\u001b[0mself\u001b[0m\u001b[1;33m,\u001b[0m\u001b[1;33m**\u001b[0m\u001b[0mkw\u001b[0m\u001b[1;33m)\u001b[0m\u001b[1;33m:\u001b[0m\u001b[1;33m\u001b[0m\u001b[1;33m\u001b[0m\u001b[0m\n",
      "\u001b[1;32mc:\\users\\fahad\\pycharmprojects\\bmcs_utils\\bmcs_utils\\app_window.py\u001b[0m in \u001b[0;36minteract\u001b[1;34m(self)\u001b[0m\n\u001b[0;32m    149\u001b[0m                              layout=ipw.Layout(align_items=\"stretch\",\n\u001b[0;32m    150\u001b[0m                                                width=\"100%\"))\n\u001b[1;32m--> 151\u001b[1;33m         \u001b[0mself\u001b[0m\u001b[1;33m.\u001b[0m\u001b[0mmodel_tree\u001b[0m\u001b[1;33m.\u001b[0m\u001b[0mselected\u001b[0m \u001b[1;33m=\u001b[0m \u001b[1;32mTrue\u001b[0m\u001b[1;33m\u001b[0m\u001b[1;33m\u001b[0m\u001b[0m\n\u001b[0m\u001b[0;32m    152\u001b[0m         \u001b[0mdisplay\u001b[0m\u001b[1;33m(\u001b[0m\u001b[0mapp_print\u001b[0m\u001b[1;33m)\u001b[0m\u001b[1;33m\u001b[0m\u001b[1;33m\u001b[0m\u001b[0m\n\u001b[0;32m    153\u001b[0m \u001b[1;33m\u001b[0m\u001b[0m\n",
      "\u001b[1;32m~\\Anaconda3\\envs\\bmcs_env\\lib\\site-packages\\traitlets\\traitlets.py\u001b[0m in \u001b[0;36m__set__\u001b[1;34m(self, obj, value)\u001b[0m\n\u001b[0;32m    604\u001b[0m             \u001b[1;32mraise\u001b[0m \u001b[0mTraitError\u001b[0m\u001b[1;33m(\u001b[0m\u001b[1;34m'The \"%s\" trait is read-only.'\u001b[0m \u001b[1;33m%\u001b[0m \u001b[0mself\u001b[0m\u001b[1;33m.\u001b[0m\u001b[0mname\u001b[0m\u001b[1;33m)\u001b[0m\u001b[1;33m\u001b[0m\u001b[1;33m\u001b[0m\u001b[0m\n\u001b[0;32m    605\u001b[0m         \u001b[1;32melse\u001b[0m\u001b[1;33m:\u001b[0m\u001b[1;33m\u001b[0m\u001b[1;33m\u001b[0m\u001b[0m\n\u001b[1;32m--> 606\u001b[1;33m             \u001b[0mself\u001b[0m\u001b[1;33m.\u001b[0m\u001b[0mset\u001b[0m\u001b[1;33m(\u001b[0m\u001b[0mobj\u001b[0m\u001b[1;33m,\u001b[0m \u001b[0mvalue\u001b[0m\u001b[1;33m)\u001b[0m\u001b[1;33m\u001b[0m\u001b[1;33m\u001b[0m\u001b[0m\n\u001b[0m\u001b[0;32m    607\u001b[0m \u001b[1;33m\u001b[0m\u001b[0m\n\u001b[0;32m    608\u001b[0m     \u001b[1;32mdef\u001b[0m \u001b[0m_validate\u001b[0m\u001b[1;33m(\u001b[0m\u001b[0mself\u001b[0m\u001b[1;33m,\u001b[0m \u001b[0mobj\u001b[0m\u001b[1;33m,\u001b[0m \u001b[0mvalue\u001b[0m\u001b[1;33m)\u001b[0m\u001b[1;33m:\u001b[0m\u001b[1;33m\u001b[0m\u001b[1;33m\u001b[0m\u001b[0m\n",
      "\u001b[1;32m~\\Anaconda3\\envs\\bmcs_env\\lib\\site-packages\\traitlets\\traitlets.py\u001b[0m in \u001b[0;36mset\u001b[1;34m(self, obj, value)\u001b[0m\n\u001b[0;32m    593\u001b[0m             \u001b[1;31m# we explicitly compare silent to True just in case the equality\u001b[0m\u001b[1;33m\u001b[0m\u001b[1;33m\u001b[0m\u001b[0m\n\u001b[0;32m    594\u001b[0m             \u001b[1;31m# comparison above returns something other than True/False\u001b[0m\u001b[1;33m\u001b[0m\u001b[1;33m\u001b[0m\u001b[0m\n\u001b[1;32m--> 595\u001b[1;33m             \u001b[0mobj\u001b[0m\u001b[1;33m.\u001b[0m\u001b[0m_notify_trait\u001b[0m\u001b[1;33m(\u001b[0m\u001b[0mself\u001b[0m\u001b[1;33m.\u001b[0m\u001b[0mname\u001b[0m\u001b[1;33m,\u001b[0m \u001b[0mold_value\u001b[0m\u001b[1;33m,\u001b[0m \u001b[0mnew_value\u001b[0m\u001b[1;33m)\u001b[0m\u001b[1;33m\u001b[0m\u001b[1;33m\u001b[0m\u001b[0m\n\u001b[0m\u001b[0;32m    596\u001b[0m \u001b[1;33m\u001b[0m\u001b[0m\n\u001b[0;32m    597\u001b[0m     \u001b[1;32mdef\u001b[0m \u001b[0m__set__\u001b[0m\u001b[1;33m(\u001b[0m\u001b[0mself\u001b[0m\u001b[1;33m,\u001b[0m \u001b[0mobj\u001b[0m\u001b[1;33m,\u001b[0m \u001b[0mvalue\u001b[0m\u001b[1;33m)\u001b[0m\u001b[1;33m:\u001b[0m\u001b[1;33m\u001b[0m\u001b[1;33m\u001b[0m\u001b[0m\n",
      "\u001b[1;32m~\\Anaconda3\\envs\\bmcs_env\\lib\\site-packages\\traitlets\\traitlets.py\u001b[0m in \u001b[0;36m_notify_trait\u001b[1;34m(self, name, old_value, new_value)\u001b[0m\n\u001b[0;32m   1217\u001b[0m \u001b[1;33m\u001b[0m\u001b[0m\n\u001b[0;32m   1218\u001b[0m     \u001b[1;32mdef\u001b[0m \u001b[0m_notify_trait\u001b[0m\u001b[1;33m(\u001b[0m\u001b[0mself\u001b[0m\u001b[1;33m,\u001b[0m \u001b[0mname\u001b[0m\u001b[1;33m,\u001b[0m \u001b[0mold_value\u001b[0m\u001b[1;33m,\u001b[0m \u001b[0mnew_value\u001b[0m\u001b[1;33m)\u001b[0m\u001b[1;33m:\u001b[0m\u001b[1;33m\u001b[0m\u001b[1;33m\u001b[0m\u001b[0m\n\u001b[1;32m-> 1219\u001b[1;33m         self.notify_change(Bunch(\n\u001b[0m\u001b[0;32m   1220\u001b[0m             \u001b[0mname\u001b[0m\u001b[1;33m=\u001b[0m\u001b[0mname\u001b[0m\u001b[1;33m,\u001b[0m\u001b[1;33m\u001b[0m\u001b[1;33m\u001b[0m\u001b[0m\n\u001b[0;32m   1221\u001b[0m             \u001b[0mold\u001b[0m\u001b[1;33m=\u001b[0m\u001b[0mold_value\u001b[0m\u001b[1;33m,\u001b[0m\u001b[1;33m\u001b[0m\u001b[1;33m\u001b[0m\u001b[0m\n",
      "\u001b[1;32m~\\Anaconda3\\envs\\bmcs_env\\lib\\site-packages\\ipywidgets\\widgets\\widget.py\u001b[0m in \u001b[0;36mnotify_change\u001b[1;34m(self, change)\u001b[0m\n\u001b[0;32m    604\u001b[0m                 \u001b[1;31m# Send new state to front-end\u001b[0m\u001b[1;33m\u001b[0m\u001b[1;33m\u001b[0m\u001b[0m\n\u001b[0;32m    605\u001b[0m                 \u001b[0mself\u001b[0m\u001b[1;33m.\u001b[0m\u001b[0msend_state\u001b[0m\u001b[1;33m(\u001b[0m\u001b[0mkey\u001b[0m\u001b[1;33m=\u001b[0m\u001b[0mname\u001b[0m\u001b[1;33m)\u001b[0m\u001b[1;33m\u001b[0m\u001b[1;33m\u001b[0m\u001b[0m\n\u001b[1;32m--> 606\u001b[1;33m         \u001b[0msuper\u001b[0m\u001b[1;33m(\u001b[0m\u001b[0mWidget\u001b[0m\u001b[1;33m,\u001b[0m \u001b[0mself\u001b[0m\u001b[1;33m)\u001b[0m\u001b[1;33m.\u001b[0m\u001b[0mnotify_change\u001b[0m\u001b[1;33m(\u001b[0m\u001b[0mchange\u001b[0m\u001b[1;33m)\u001b[0m\u001b[1;33m\u001b[0m\u001b[1;33m\u001b[0m\u001b[0m\n\u001b[0m\u001b[0;32m    607\u001b[0m \u001b[1;33m\u001b[0m\u001b[0m\n\u001b[0;32m    608\u001b[0m     \u001b[1;32mdef\u001b[0m \u001b[0m__repr__\u001b[0m\u001b[1;33m(\u001b[0m\u001b[0mself\u001b[0m\u001b[1;33m)\u001b[0m\u001b[1;33m:\u001b[0m\u001b[1;33m\u001b[0m\u001b[1;33m\u001b[0m\u001b[0m\n",
      "\u001b[1;32m~\\Anaconda3\\envs\\bmcs_env\\lib\\site-packages\\traitlets\\traitlets.py\u001b[0m in \u001b[0;36mnotify_change\u001b[1;34m(self, change)\u001b[0m\n\u001b[0;32m   1227\u001b[0m     \u001b[1;32mdef\u001b[0m \u001b[0mnotify_change\u001b[0m\u001b[1;33m(\u001b[0m\u001b[0mself\u001b[0m\u001b[1;33m,\u001b[0m \u001b[0mchange\u001b[0m\u001b[1;33m)\u001b[0m\u001b[1;33m:\u001b[0m\u001b[1;33m\u001b[0m\u001b[1;33m\u001b[0m\u001b[0m\n\u001b[0;32m   1228\u001b[0m         \u001b[1;34m\"\"\"Notify observers of a change event\"\"\"\u001b[0m\u001b[1;33m\u001b[0m\u001b[1;33m\u001b[0m\u001b[0m\n\u001b[1;32m-> 1229\u001b[1;33m         \u001b[1;32mreturn\u001b[0m \u001b[0mself\u001b[0m\u001b[1;33m.\u001b[0m\u001b[0m_notify_observers\u001b[0m\u001b[1;33m(\u001b[0m\u001b[0mchange\u001b[0m\u001b[1;33m)\u001b[0m\u001b[1;33m\u001b[0m\u001b[1;33m\u001b[0m\u001b[0m\n\u001b[0m\u001b[0;32m   1230\u001b[0m \u001b[1;33m\u001b[0m\u001b[0m\n\u001b[0;32m   1231\u001b[0m     \u001b[1;32mdef\u001b[0m \u001b[0m_notify_observers\u001b[0m\u001b[1;33m(\u001b[0m\u001b[0mself\u001b[0m\u001b[1;33m,\u001b[0m \u001b[0mevent\u001b[0m\u001b[1;33m)\u001b[0m\u001b[1;33m:\u001b[0m\u001b[1;33m\u001b[0m\u001b[1;33m\u001b[0m\u001b[0m\n",
      "\u001b[1;32m~\\Anaconda3\\envs\\bmcs_env\\lib\\site-packages\\traitlets\\traitlets.py\u001b[0m in \u001b[0;36m_notify_observers\u001b[1;34m(self, event)\u001b[0m\n\u001b[0;32m   1264\u001b[0m                 \u001b[0mc\u001b[0m \u001b[1;33m=\u001b[0m \u001b[0mgetattr\u001b[0m\u001b[1;33m(\u001b[0m\u001b[0mself\u001b[0m\u001b[1;33m,\u001b[0m \u001b[0mc\u001b[0m\u001b[1;33m.\u001b[0m\u001b[0mname\u001b[0m\u001b[1;33m)\u001b[0m\u001b[1;33m\u001b[0m\u001b[1;33m\u001b[0m\u001b[0m\n\u001b[0;32m   1265\u001b[0m \u001b[1;33m\u001b[0m\u001b[0m\n\u001b[1;32m-> 1266\u001b[1;33m             \u001b[0mc\u001b[0m\u001b[1;33m(\u001b[0m\u001b[0mevent\u001b[0m\u001b[1;33m)\u001b[0m\u001b[1;33m\u001b[0m\u001b[1;33m\u001b[0m\u001b[0m\n\u001b[0m\u001b[0;32m   1267\u001b[0m \u001b[1;33m\u001b[0m\u001b[0m\n\u001b[0;32m   1268\u001b[0m     \u001b[1;32mdef\u001b[0m \u001b[0m_add_notifiers\u001b[0m\u001b[1;33m(\u001b[0m\u001b[0mself\u001b[0m\u001b[1;33m,\u001b[0m \u001b[0mhandler\u001b[0m\u001b[1;33m,\u001b[0m \u001b[0mname\u001b[0m\u001b[1;33m,\u001b[0m \u001b[0mtype\u001b[0m\u001b[1;33m)\u001b[0m\u001b[1;33m:\u001b[0m\u001b[1;33m\u001b[0m\u001b[1;33m\u001b[0m\u001b[0m\n",
      "\u001b[1;32mc:\\users\\fahad\\pycharmprojects\\bmcs_utils\\bmcs_utils\\app_window.py\u001b[0m in \u001b[0;36mselect_node\u001b[1;34m(self, event)\u001b[0m\n\u001b[0;32m    252\u001b[0m         \u001b[0mself\u001b[0m\u001b[1;33m.\u001b[0m\u001b[0mset_plot_backend\u001b[0m\u001b[1;33m(\u001b[0m\u001b[0mbackend\u001b[0m\u001b[1;33m)\u001b[0m\u001b[1;33m\u001b[0m\u001b[1;33m\u001b[0m\u001b[0m\n\u001b[0;32m    253\u001b[0m         \u001b[0mself\u001b[0m\u001b[1;33m.\u001b[0m\u001b[0msetup_plot\u001b[0m\u001b[1;33m(\u001b[0m\u001b[0mcontroller\u001b[0m\u001b[1;33m.\u001b[0m\u001b[0mmodel\u001b[0m\u001b[1;33m)\u001b[0m\u001b[1;33m\u001b[0m\u001b[1;33m\u001b[0m\u001b[0m\n\u001b[1;32m--> 254\u001b[1;33m         \u001b[0mself\u001b[0m\u001b[1;33m.\u001b[0m\u001b[0mupdate_plot\u001b[0m\u001b[1;33m(\u001b[0m\u001b[0mcontroller\u001b[0m\u001b[1;33m.\u001b[0m\u001b[0mmodel\u001b[0m\u001b[1;33m)\u001b[0m\u001b[1;33m\u001b[0m\u001b[1;33m\u001b[0m\u001b[0m\n\u001b[0m\u001b[0;32m    255\u001b[0m \u001b[1;33m\u001b[0m\u001b[0m\n\u001b[0;32m    256\u001b[0m     \u001b[0mcurrent_plot_backend\u001b[0m \u001b[1;33m=\u001b[0m \u001b[0mtr\u001b[0m\u001b[1;33m.\u001b[0m\u001b[0mStr\u001b[0m\u001b[1;33m\u001b[0m\u001b[1;33m\u001b[0m\u001b[0m\n",
      "\u001b[1;32mc:\\users\\fahad\\pycharmprojects\\bmcs_utils\\bmcs_utils\\app_window.py\u001b[0m in \u001b[0;36mupdate_plot\u001b[1;34m(self, model)\u001b[0m\n\u001b[0;32m    277\u001b[0m     \u001b[1;32mdef\u001b[0m \u001b[0mupdate_plot\u001b[0m\u001b[1;33m(\u001b[0m\u001b[0mself\u001b[0m\u001b[1;33m,\u001b[0m \u001b[0mmodel\u001b[0m\u001b[1;33m)\u001b[0m\u001b[1;33m:\u001b[0m\u001b[1;33m\u001b[0m\u001b[1;33m\u001b[0m\u001b[0m\n\u001b[0;32m    278\u001b[0m         \u001b[0mpb\u001b[0m \u001b[1;33m=\u001b[0m \u001b[0mself\u001b[0m\u001b[1;33m.\u001b[0m\u001b[0mplot_backend_table\u001b[0m\u001b[1;33m[\u001b[0m\u001b[0mself\u001b[0m\u001b[1;33m.\u001b[0m\u001b[0mcurrent_plot_backend\u001b[0m\u001b[1;33m]\u001b[0m\u001b[1;33m\u001b[0m\u001b[1;33m\u001b[0m\u001b[0m\n\u001b[1;32m--> 279\u001b[1;33m         \u001b[0mpb\u001b[0m\u001b[1;33m.\u001b[0m\u001b[0mupdate_plot\u001b[0m\u001b[1;33m(\u001b[0m\u001b[0mmodel\u001b[0m\u001b[1;33m)\u001b[0m\u001b[1;33m\u001b[0m\u001b[1;33m\u001b[0m\u001b[0m\n\u001b[0m\u001b[0;32m    280\u001b[0m         \u001b[0mpb\u001b[0m\u001b[1;33m.\u001b[0m\u001b[0mshow_fig\u001b[0m\u001b[1;33m(\u001b[0m\u001b[1;33m)\u001b[0m\u001b[1;33m\u001b[0m\u001b[1;33m\u001b[0m\u001b[0m\n\u001b[0;32m    281\u001b[0m \u001b[1;33m\u001b[0m\u001b[0m\n",
      "\u001b[1;32mc:\\users\\fahad\\pycharmprojects\\bmcs_utils\\bmcs_utils\\app_window.py\u001b[0m in \u001b[0;36mupdate_plot\u001b[1;34m(self, model)\u001b[0m\n\u001b[0;32m     52\u001b[0m         \u001b[0mself\u001b[0m\u001b[1;33m.\u001b[0m\u001b[0mplot_fig\u001b[0m\u001b[1;33m.\u001b[0m\u001b[0mclf\u001b[0m\u001b[1;33m(\u001b[0m\u001b[1;33m)\u001b[0m\u001b[1;33m\u001b[0m\u001b[1;33m\u001b[0m\u001b[0m\n\u001b[0;32m     53\u001b[0m         \u001b[0mself\u001b[0m\u001b[1;33m.\u001b[0m\u001b[0maxes\u001b[0m \u001b[1;33m=\u001b[0m \u001b[0mmodel\u001b[0m\u001b[1;33m.\u001b[0m\u001b[0msubplots\u001b[0m\u001b[1;33m(\u001b[0m\u001b[0mself\u001b[0m\u001b[1;33m.\u001b[0m\u001b[0mplot_fig\u001b[0m\u001b[1;33m)\u001b[0m\u001b[1;33m\u001b[0m\u001b[1;33m\u001b[0m\u001b[0m\n\u001b[1;32m---> 54\u001b[1;33m         \u001b[0mmodel\u001b[0m\u001b[1;33m.\u001b[0m\u001b[0mupdate_plot\u001b[0m\u001b[1;33m(\u001b[0m\u001b[0mself\u001b[0m\u001b[1;33m.\u001b[0m\u001b[0maxes\u001b[0m\u001b[1;33m)\u001b[0m\u001b[1;33m\u001b[0m\u001b[1;33m\u001b[0m\u001b[0m\n\u001b[0m\u001b[0;32m     55\u001b[0m \u001b[1;33m\u001b[0m\u001b[0m\n\u001b[0;32m     56\u001b[0m \u001b[1;32mclass\u001b[0m \u001b[0mK3DBackend\u001b[0m\u001b[1;33m(\u001b[0m\u001b[0mPlotBackend\u001b[0m\u001b[1;33m)\u001b[0m\u001b[1;33m:\u001b[0m\u001b[1;33m\u001b[0m\u001b[1;33m\u001b[0m\u001b[0m\n",
      "\u001b[1;32mc:\\users\\fahad\\pycharmprojects\\bmcs_shear_zone\\bmcs_shear\\dic_crack\\dic_crack.py\u001b[0m in \u001b[0;36mupdate_plot\u001b[1;34m(self, axes)\u001b[0m\n\u001b[0;32m    542\u001b[0m         \u001b[0mself\u001b[0m\u001b[1;33m.\u001b[0m\u001b[0mdic_grid\u001b[0m\u001b[1;33m.\u001b[0m\u001b[0mplot_bounding_box\u001b[0m\u001b[1;33m(\u001b[0m\u001b[0max_cl\u001b[0m\u001b[1;33m)\u001b[0m\u001b[1;33m\u001b[0m\u001b[1;33m\u001b[0m\u001b[0m\n\u001b[0;32m    543\u001b[0m         \u001b[0mself\u001b[0m\u001b[1;33m.\u001b[0m\u001b[0mdic_grid\u001b[0m\u001b[1;33m.\u001b[0m\u001b[0mplot_box_annotate\u001b[0m\u001b[1;33m(\u001b[0m\u001b[0max_cl\u001b[0m\u001b[1;33m)\u001b[0m\u001b[1;33m\u001b[0m\u001b[1;33m\u001b[0m\u001b[0m\n\u001b[1;32m--> 544\u001b[1;33m         \u001b[0mself\u001b[0m\u001b[1;33m.\u001b[0m\u001b[0mbd\u001b[0m\u001b[1;33m.\u001b[0m\u001b[0mplot_sz_bd\u001b[0m\u001b[1;33m(\u001b[0m\u001b[0max_cl\u001b[0m\u001b[1;33m)\u001b[0m\u001b[1;33m\u001b[0m\u001b[1;33m\u001b[0m\u001b[0m\n\u001b[0m\u001b[0;32m    545\u001b[0m         \u001b[1;32mif\u001b[0m \u001b[0mself\u001b[0m\u001b[1;33m.\u001b[0m\u001b[0mplot_field\u001b[0m \u001b[1;33m==\u001b[0m \u001b[1;34m'damage'\u001b[0m\u001b[1;33m:\u001b[0m\u001b[1;33m\u001b[0m\u001b[1;33m\u001b[0m\u001b[0m\n\u001b[0;32m    546\u001b[0m             \u001b[0mself\u001b[0m\u001b[1;33m.\u001b[0m\u001b[0mcl\u001b[0m\u001b[1;33m.\u001b[0m\u001b[0mplot_crack_detection_field\u001b[0m\u001b[1;33m(\u001b[0m\u001b[0max_cl\u001b[0m\u001b[1;33m,\u001b[0m \u001b[0mself\u001b[0m\u001b[1;33m.\u001b[0m\u001b[0mfig\u001b[0m\u001b[1;33m)\u001b[0m\u001b[1;33m\u001b[0m\u001b[1;33m\u001b[0m\u001b[0m\n",
      "\u001b[1;32mc:\\users\\fahad\\pycharmprojects\\bmcs_shear_zone\\bmcs_shear\\beam_design\\beam_design.py\u001b[0m in \u001b[0;36mplot_sz_bd\u001b[1;34m(self, ax)\u001b[0m\n\u001b[0;32m    113\u001b[0m \u001b[1;33m\u001b[0m\u001b[0m\n\u001b[0;32m    114\u001b[0m     \u001b[1;32mdef\u001b[0m \u001b[0mplot_sz_bd\u001b[0m\u001b[1;33m(\u001b[0m\u001b[0mself\u001b[0m\u001b[1;33m,\u001b[0m \u001b[0max\u001b[0m\u001b[1;33m)\u001b[0m\u001b[1;33m:\u001b[0m\u001b[1;33m\u001b[0m\u001b[1;33m\u001b[0m\u001b[0m\n\u001b[1;32m--> 115\u001b[1;33m         \u001b[0mL\u001b[0m\u001b[1;33m,\u001b[0m \u001b[0mH\u001b[0m \u001b[1;33m=\u001b[0m \u001b[0mself\u001b[0m\u001b[1;33m.\u001b[0m\u001b[0mL\u001b[0m\u001b[1;33m,\u001b[0m \u001b[0mself\u001b[0m\u001b[1;33m.\u001b[0m\u001b[0mH\u001b[0m\u001b[1;33m\u001b[0m\u001b[1;33m\u001b[0m\u001b[0m\n\u001b[0m\u001b[0;32m    116\u001b[0m         \u001b[0mX_00\u001b[0m \u001b[1;33m=\u001b[0m \u001b[1;33m[\u001b[0m\u001b[1;36m0\u001b[0m\u001b[1;33m,\u001b[0m \u001b[1;36m0\u001b[0m\u001b[1;33m]\u001b[0m\u001b[1;33m\u001b[0m\u001b[1;33m\u001b[0m\u001b[0m\n\u001b[0;32m    117\u001b[0m         \u001b[0mX_01\u001b[0m \u001b[1;33m=\u001b[0m \u001b[1;33m[\u001b[0m\u001b[0mL\u001b[0m\u001b[1;33m,\u001b[0m \u001b[1;36m0\u001b[0m\u001b[1;33m]\u001b[0m\u001b[1;33m\u001b[0m\u001b[1;33m\u001b[0m\u001b[0m\n",
      "\u001b[1;31mAttributeError\u001b[0m: 'RCBeamDesign' object has no attribute 'L'"
     ]
    }
   ],
   "source": [
    "cl1.interact()"
   ]
  },
  {
   "cell_type": "markdown",
   "id": "c8bb5c2e",
   "metadata": {
    "pycharm": {
     "name": "#%% md\n"
    }
   },
   "source": [
    "# Verify the center of rotation"
   ]
  },
  {
   "cell_type": "markdown",
   "id": "ba5e394d",
   "metadata": {
    "pycharm": {
     "name": "#%% md\n"
    }
   },
   "source": []
  },
  {
   "cell_type": "code",
   "execution_count": null,
   "id": "ef9eb899-ff27-46a3-b37d-f12ae41377aa",
   "metadata": {
    "pycharm": {
     "name": "#%%\n"
    }
   },
   "outputs": [],
   "source": [
    "cl1.cor.trait_set(step_N_COR=2)\n",
    "cl1.cor.interact()"
   ]
  },
  {
   "cell_type": "markdown",
   "id": "2ab5e907-f21a-4eef-bf42-525b3510ec82",
   "metadata": {
    "pycharm": {
     "name": "#%% md\n"
    }
   },
   "source": [
    "## Reverse crack detection - Put into separate notebook with explanation\n",
    "\n",
    " * Get the crack detection field and the primary cracks\n",
    "   detected at the state of the mature cracking stage, \n",
    "   i.e. near the ultimate load."
   ]
  },
  {
   "cell_type": "markdown",
   "id": "0e4b87c0-7b43-4831-927a-04a92bcb0386",
   "metadata": {
    "pycharm": {
     "name": "#%% md\n"
    }
   },
   "source": [
    "### How to access the values of crack detection field at the crack tip"
   ]
  },
  {
   "cell_type": "code",
   "execution_count": null,
   "id": "87efd187-83d8-4711-974d-bc14fd7e8dfb",
   "metadata": {
    "pycharm": {
     "name": "#%%\n"
    }
   },
   "outputs": [],
   "source": [
    "def get_crack_t(eta = 0.95):\n",
    "    '''Get the crack history starting with the critical\n",
    "    '''\n",
    "    # identify the near feilure crack pattern\n",
    "    t_eta_idx = dcl.dsf.dic_grid.get_F_eta_dic_idx(eta)\n",
    "    dcl.dsf.dic_grid.end_t = t_eta_idx\n",
    "    xx_NC, yy_NC, N_tip_C, M_NC = dcl.primary_cracks\n",
    "    # pripare the list of crack tip states as a funciton of t\n",
    "    N_tip_Ct = np.zeros((len(N_tip_C), t_eta_idx+1), np.int_)\n",
    "    M_tip_Ct = np.zeros_like(N_tip_Ct)\n",
    "    print('t_idx: ', end='')\n",
    "    for t_idx in range(t_eta_idx, -1, -1):\n",
    "        N_tip_C = np.copy(N_tip_C)\n",
    "        N_tip_Ct[:, t_idx] = np.copy(N_tip_C)\n",
    "        M_tip_Ct[:, t_idx] = M_NC[N_tip_C, np.arange(len(N_tip_C))]\n",
    "        print(t_idx, end=' ')\n",
    "        # get the crack detection field for the current time index\n",
    "        dcl.dsf.dic_grid.end_t = t_idx\n",
    "        _, _, cdf_MN = dcl.dsf.crack_detection_field\n",
    "        # for each crack get the indexes starting from the current tip\n",
    "        N_tip_CN = [np.arange(N_tip, -1, -1) for N_tip in N_tip_C]\n",
    "        M_tip_CN = [M_NC[N_tip_t, C] for C, N_tip_t in enumerate(N_tip_CN)]\n",
    "        # evaluate crack detection field along each crack\n",
    "        cdf_CN = [cdf_MN[M_tip_N, N_tip_N] \n",
    "                  for M_tip_N, N_tip_N in zip(M_tip_CN, N_tip_CN)]\n",
    "        # if cdf is zero completely - the crack did not emerge yet\n",
    "        cdf_nonzero_C = np.array([np.sum(cdf_N) for cdf_N in cdf_CN]) > 0\n",
    "        # find the row index distance from the tip with damage larger \n",
    "        # than threshold\n",
    "        dN_C = np.array([np.argmax(cdf_C >= 0.2) for cdf_C in cdf_CN])\n",
    "        N_tip_C[cdf_nonzero_C] -= dN_C[cdf_nonzero_C]\n",
    "        N_tip_C[np.logical_not(cdf_nonzero_C)] = 0\n",
    "    return M_tip_Ct, N_tip_Ct"
   ]
  },
  {
   "cell_type": "code",
   "execution_count": null,
   "id": "cbb9ad47-4090-4ce1-8dd0-2c213b03bced",
   "metadata": {
    "pycharm": {
     "name": "#%%\n"
    }
   },
   "outputs": [],
   "source": [
    "get_crack_t()"
   ]
  },
  {
   "cell_type": "code",
   "execution_count": null,
   "id": "ef219434-21bb-4f7b-8697-fffcaf212315",
   "metadata": {
    "pycharm": {
     "name": "#%%\n"
    }
   },
   "outputs": [],
   "source": [
    "dcl.cracks_t"
   ]
  },
  {
   "cell_type": "code",
   "execution_count": null,
   "id": "31cabce3-f500-4616-b41e-39c59337e8c3",
   "metadata": {
    "pycharm": {
     "name": "#%%\n"
    }
   },
   "outputs": [],
   "source": [
    "_, _, cdf_eta_MN = dcl.dsf.crack_detection_field"
   ]
  },
  {
   "cell_type": "code",
   "execution_count": null,
   "id": "c1be16c5-a723-4d0d-ad7e-286deead69f1",
   "metadata": {
    "pycharm": {
     "name": "#%%\n"
    }
   },
   "outputs": [],
   "source": [
    "xx_NC, yy_NC, N_tip_C, M_NC = dcl.primary_cracks"
   ]
  },
  {
   "cell_type": "code",
   "execution_count": null,
   "id": "380f33a8-66a1-4371-8186-f546bc6ecf17",
   "metadata": {
    "pycharm": {
     "name": "#%%\n"
    }
   },
   "outputs": [],
   "source": [
    "N_tip_C"
   ]
  },
  {
   "cell_type": "code",
   "execution_count": null,
   "id": "75f0340d-ad33-486f-a4ef-0fcc37975215",
   "metadata": {
    "pycharm": {
     "name": "#%%\n"
    }
   },
   "outputs": [],
   "source": [
    "M_tip_C = M_NC[N_tip_C,np.arange(len(N_tip_C))]"
   ]
  },
  {
   "cell_type": "code",
   "execution_count": null,
   "id": "9459ad9f-2ae4-4686-9e54-159eefbaf419",
   "metadata": {
    "pycharm": {
     "name": "#%%\n"
    }
   },
   "outputs": [],
   "source": [
    "M_tip_C"
   ]
  },
  {
   "cell_type": "code",
   "execution_count": null,
   "id": "ad46024b-cec2-448c-b6cd-7206382a4b9e",
   "metadata": {
    "pycharm": {
     "name": "#%%\n"
    }
   },
   "outputs": [],
   "source": [
    "cdf_eta_MN[M_tip_C, N_tip_C]"
   ]
  },
  {
   "cell_type": "code",
   "execution_count": null,
   "id": "24faac86-987c-497e-8f8f-d82b21df2985",
   "metadata": {
    "pycharm": {
     "name": "#%%\n"
    }
   },
   "outputs": [],
   "source": [
    "_, _, cdf_MN = dcl.dsf.crack_detection_field\n",
    "cdf_MN.shape"
   ]
  },
  {
   "cell_type": "code",
   "execution_count": null,
   "id": "2c59d4eb-d9a2-4250-86c5-60f4f112cb56",
   "metadata": {
    "pycharm": {
     "name": "#%%\n"
    }
   },
   "outputs": [],
   "source": [
    "cdf_MN[M_tip_C, N_tip_C]"
   ]
  },
  {
   "cell_type": "code",
   "execution_count": null,
   "id": "1e901cfc-f10e-4555-b458-0c859a9f36d7",
   "metadata": {
    "pycharm": {
     "name": "#%%\n"
    }
   },
   "outputs": [],
   "source": []
  },
  {
   "cell_type": "markdown",
   "id": "a2a6f7c0-8529-4fb9-a220-dfbdb850973a",
   "metadata": {
    "pycharm": {
     "name": "#%% md\n"
    }
   },
   "source": [
    "### How to access the crack detection field for lower load levels"
   ]
  },
  {
   "cell_type": "code",
   "execution_count": null,
   "id": "cf7a1b35-57b6-41e0-83b6-33e2bcc244e2",
   "metadata": {
    "pycharm": {
     "name": "#%%\n"
    }
   },
   "outputs": [],
   "source": [
    "dcl.dsf.dic_grid.end_t"
   ]
  },
  {
   "cell_type": "code",
   "execution_count": null,
   "id": "b31dc6a5-9fd1-47fb-809f-7c20d4e08376",
   "metadata": {
    "pycharm": {
     "name": "#%%\n"
    }
   },
   "outputs": [],
   "source": [
    "sp = dcl.items[3]"
   ]
  },
  {
   "cell_type": "code",
   "execution_count": null,
   "id": "ab391dd4-4528-44b5-83a8-1b8eada2ed1e",
   "metadata": {
    "pycharm": {
     "name": "#%%\n"
    }
   },
   "outputs": [],
   "source": [
    "sp.X_neutral_a"
   ]
  },
  {
   "cell_type": "code",
   "execution_count": null,
   "id": "93aac55b-c262-4d3e-a62b-81d6abcf25ae",
   "metadata": {
    "pycharm": {
     "name": "#%%\n"
    }
   },
   "outputs": [],
   "source": [
    "x_00 = sp.dic_crack.C_cubic_spline(sp.z_N)"
   ]
  },
  {
   "cell_type": "code",
   "execution_count": null,
   "id": "6b99f6bf-f63a-4ace-a77e-130c5b34dda9",
   "metadata": {
    "pycharm": {
     "name": "#%%\n"
    }
   },
   "outputs": [],
   "source": [
    "x_00"
   ]
  },
  {
   "cell_type": "code",
   "execution_count": null,
   "id": "c0d83490-c8a8-44c0-9990-6ce791caa9ac",
   "metadata": {
    "pycharm": {
     "name": "#%%\n"
    }
   },
   "outputs": [],
   "source": [
    "sp.M"
   ]
  },
  {
   "cell_type": "code",
   "execution_count": null,
   "id": "d01f6b62-6393-475a-9783-db3922c08176",
   "metadata": {
    "pycharm": {
     "name": "#%%\n"
    }
   },
   "outputs": [],
   "source": [
    "dcl.interact()"
   ]
  },
  {
   "cell_type": "code",
   "execution_count": null,
   "id": "52c2900d-353a-4d80-a8f4-c49e4cee7379",
   "metadata": {
    "pycharm": {
     "name": "#%%\n"
    }
   },
   "outputs": [],
   "source": [
    "crack_0 = dcl.items[2]"
   ]
  },
  {
   "cell_type": "code",
   "execution_count": null,
   "id": "b35fd859-cd37-45f0-a812-555a9affc208",
   "metadata": {
    "pycharm": {
     "name": "#%%\n"
    }
   },
   "outputs": [],
   "source": [
    "crack_0.pos_F_y"
   ]
  },
  {
   "cell_type": "code",
   "execution_count": null,
   "id": "cfb6ff25-6524-455f-b54f-6f4de6f6d6f8",
   "metadata": {
    "pycharm": {
     "name": "#%%\n"
    }
   },
   "outputs": [],
   "source": [
    "fig, ax = plt.subplots(1,1)\n",
    "crack_0.dic_crack.plot_u_Nib(ax)\n",
    "crack_0.dic_crack.plot_x_Na(ax)\n",
    "crack_0.plot_COR(ax)\n",
    "crack_0.plot_cor_markers(ax)\n",
    "ax.axis('equal')"
   ]
  },
  {
   "cell_type": "code",
   "execution_count": null,
   "id": "320aa8df-2c2f-4558-a0b3-85f2f57c3262",
   "metadata": {
    "pycharm": {
     "name": "#%%\n"
    }
   },
   "outputs": [],
   "source": [
    "crack_0.M_N[20]"
   ]
  },
  {
   "cell_type": "code",
   "execution_count": null,
   "id": "14fe59bd-94bc-4b0c-8f08-132b8bcf4757",
   "metadata": {
    "pycharm": {
     "name": "#%%\n"
    }
   },
   "outputs": [],
   "source": [
    "dc_cor = DICCrackCOR(dic_crack=dcl.items[2])"
   ]
  },
  {
   "cell_type": "code",
   "execution_count": null,
   "id": "12070508-4ab0-43dc-9c55-1f515fa2ae30",
   "metadata": {
    "pycharm": {
     "name": "#%%\n"
    }
   },
   "outputs": [],
   "source": [
    "dc_cor.M_N.dtype"
   ]
  },
  {
   "cell_type": "code",
   "execution_count": null,
   "id": "6b344a05-7d62-4b2e-963e-f4263a89bbd2",
   "metadata": {
    "pycharm": {
     "name": "#%%\n"
    }
   },
   "outputs": [],
   "source": [
    "slice_M_N = slice(dc_cor.M_N,dc_cor.M_N+3)"
   ]
  },
  {
   "cell_type": "code",
   "execution_count": null,
   "id": "fa1355b6-eb55-493f-820d-039f557a2f93",
   "metadata": {
    "pycharm": {
     "name": "#%%\n"
    }
   },
   "outputs": [],
   "source": [
    "X_mNa = np.array([dc_cor.X_MNa[dc_cor.M_N+i, np.arange(len(dc_cor.M_N))] for i in range(5)])"
   ]
  },
  {
   "cell_type": "code",
   "execution_count": null,
   "id": "95171df6-d6f2-4c4a-bb9a-73cc744609b0",
   "metadata": {
    "pycharm": {
     "name": "#%%\n"
    }
   },
   "outputs": [],
   "source": [
    "X_mNa[-1,0]"
   ]
  },
  {
   "cell_type": "code",
   "execution_count": null,
   "id": "e0590c3a-0abd-46fd-833d-16406443d955",
   "metadata": {
    "pycharm": {
     "name": "#%%\n"
    }
   },
   "outputs": [],
   "source": [
    "dc_cor.M0"
   ]
  },
  {
   "cell_type": "code",
   "execution_count": null,
   "id": "6dfe3c0e-d231-4d98-8490-a588bcd75cd1",
   "metadata": {
    "pycharm": {
     "name": "#%%\n"
    }
   },
   "outputs": [],
   "source": [
    "dc_cor.interact()"
   ]
  },
  {
   "cell_type": "code",
   "execution_count": null,
   "id": "2bf86666-0ab5-4591-9ca3-f44aaa33b7e4",
   "metadata": {
    "pycharm": {
     "name": "#%%\n"
    }
   },
   "outputs": [],
   "source": [
    "dc_cor.X0_a - dc_cor.U0_a"
   ]
  },
  {
   "cell_type": "code",
   "execution_count": null,
   "id": "d7b10baf-4323-4222-a2cb-ccbf93c698ec",
   "metadata": {
    "pycharm": {
     "name": "#%%\n"
    }
   },
   "outputs": [],
   "source": [
    "dc_cor.x_ref_MNa_scaled[dc_cor.M0, :dc_cor.N0_max]"
   ]
  },
  {
   "cell_type": "code",
   "execution_count": null,
   "id": "687bbc1c-dc35-4496-97e3-1c1462ff4162",
   "metadata": {
    "pycharm": {
     "name": "#%%\n"
    }
   },
   "outputs": [],
   "source": []
  },
  {
   "cell_type": "code",
   "execution_count": null,
   "id": "6b7c63aa-55b3-4480-9768-b3915f84c8b9",
   "metadata": {
    "pycharm": {
     "name": "#%%\n"
    }
   },
   "outputs": [],
   "source": []
  },
  {
   "cell_type": "code",
   "execution_count": null,
   "id": "e9333fa5",
   "metadata": {},
   "outputs": [],
   "source": []
  }
 ],
 "metadata": {
  "interpreter": {
   "hash": "ebcff91b5d652715d8939a8899ef0ddafa7c15917479d2b47c651d9565cfe207"
  },
  "kernelspec": {
   "display_name": "Python 3",
   "language": "python",
   "name": "python3"
  },
  "language_info": {
   "codemirror_mode": {
    "name": "ipython",
    "version": 3
   },
   "file_extension": ".py",
   "mimetype": "text/x-python",
   "name": "python",
   "nbconvert_exporter": "python",
   "pygments_lexer": "ipython3",
   "version": "3.9.7"
  }
 },
 "nbformat": 4,
 "nbformat_minor": 5
}
