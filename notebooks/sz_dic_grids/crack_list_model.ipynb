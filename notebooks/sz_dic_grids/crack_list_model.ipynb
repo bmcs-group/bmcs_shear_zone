{
 "cells": [
  {
   "cell_type": "markdown",
   "id": "e43222ac-fdc6-44a2-8afe-dfae159e8df1",
   "metadata": {},
   "source": [
    "# Current to do's 2022-28\n",
    "\n",
    "- naming of coordinates - x horizontal, y vertical - encapsulate the differences in dic_grid, so that any further level works \n",
    "   without swapping\n",
    " - extend interpolation in dsf to cdf - including the time index - this will allow for the crack detection and spline representation    of the functions \n",
    "$$\n",
    "\\omega_C( t, y )\n",
    "$$\n",
    " - use this function to determine\n",
    "$$\n",
    "y^\\mathrm{tip}_C( t )\n",
    "$$ \n",
    "$$\n",
    "\\Delta u_{Ca}( y, t ) = u( x+r, y, t ) - u( x-r, y, t ) \n",
    "$$\n",
    " - Constitutive laws applied across the crack ligament\n",
    "$$\n",
    " \\sigma_{Cab}(y, t) = \\mathcal{S}_{ab}(\\Delta u{Ca}(y, t))\n",
    "$$\n",
    " - distinguish the change events - finer resolution of the tag types (TIME, ALG, MESH)."
   ]
  },
  {
   "cell_type": "markdown",
   "id": "a89177ca-df71-4964-869b-bb2f5814741c",
   "metadata": {},
   "source": [
    "# Crack detection strategy\n",
    "\n",
    "The detection algorithm uses the knowledge about shear crack propagation \n",
    " - distance between cracks is related to the shielded length given by the reinforcement ratio      and bond properties\n",
    " - cracks start from the bottom of the cross section\n",
    " - cracks propagate upwards and bend in the direction of an increasing cross-sectional moment\n",
    " \n",
    "The crack pattern in the shear zone gets most visible prior shortly before the maximum load has been reached. Near to the failure, the regularity of the crack pattern is lost and the specimen cannot be viewed as a series of individual shear cracks any more. The initiation of failure via a horizontal crossing crack initiated by a vertical stress component is initiated either near the reinforcement layer due to the dowel action or by a crack tip propagating horizontally through a compression zone.\n",
    "\n",
    "## Full crack detection strategy\n",
    "\n",
    "This observation is exploited by the crack detection algorithm by adapting the following strategy. \n",
    "\n",
    " - The displacement field $U_{IJa}^{F_\\gamma}$ corresponding to $F_\\gamma = 0.9 F_\\max$ is taken first to calculate the strain, damage and stress fields.\n",
    " - The DIC-FE state fields are interpolated and smoothed as a basis for the crack detection step. The crack detection algorithm is employed to detect the crack path $\\mathcal{C}(F_\\gamma)$ at the near-failure level of load. The algorithm delivers the crack tip positions.\n",
    " - The obtained crack path is then refined by analyzing the cracking process in reverse order $F = [F_\\gamma, 0]$. The difference between damage fields $\\omega_{MN}(F_\\gamma)$ and $\\omega_{MN}(F), n = [0, n_C-1]$  obtained using DIC-FE-MDM calculation for each $U_{IJa}$ state are analyzed to refine the crack geometry in the previous states of loading. After that, the load range between the crack detection state and the ultimate load is analyzed based on the known cracking state at the level $F\\tilde{}$.\n",
    " - Define a spline function representing the damage along the crack\n",
    " \n",
    "## Current strategy\n",
    "\n",
    "The crack detection load level $\\gamma$ is used to identify the primary cracks. The cracks that develop at the level $\\gamma = 0.9$ up to the 0.4 of the cross sectional height are recognized as primary cracks. Partially, secondary cracks and noise in DIC data and FE approximation are avoided  by smoothing the damage field within a radius that reflects the element resolution / characteristic length? Currently, the primary cracks are identified first to obtain the crack zones."
   ]
  },
  {
   "cell_type": "markdown",
   "id": "bc301f3e-aefe-4cc0-a375-045063201701",
   "metadata": {},
   "source": [
    "# Stress profile evaluation\n",
    "\n",
    " - M, N, Q - evaluated from the constitutive laws along the ligament\n",
    " - Crack-tip stress / strain / opening. \n",
    " - How to include the history of damage into the stress evaluation (softening law)\n"
   ]
  },
  {
   "cell_type": "markdown",
   "id": "1e676faa-e40a-4c0b-966e-b95f25f2af56",
   "metadata": {},
   "source": [
    "## Constitutive laws along the ligament\n",
    "\n",
    "The transition between strain concentration and discrete crack representation is based on the threshold value of the critical strain $\\varepsilon_\\mathrm{cr}$. This value corresponds to the strain with the onset of softening, i.e.\n",
    "$$\n",
    " \\varepsilon_\\mathrm{cr} = \\mathrm{argmax}_\\varepsilon \\mathcal{S}(\\varepsilon).\n",
    "$$\n",
    "In case of a linear ascending branch, this relation is obtained as\n",
    "$$\n",
    " \\varepsilon_\\mathrm{cr} = \\frac{ f_\\mathrm{t} }{ E }\n",
    "$$"
   ]
  },
  {
   "cell_type": "markdown",
   "id": "6663955d-1aa6-4dbf-93bb-d850764477ca",
   "metadata": {},
   "source": [
    "The stress in the ascending range is controlled by strain \n",
    "$$\n",
    "\\sigma_a\n",
    "  = \\left\\{  \n",
    " \\begin{array}{l}\n",
    " \\mathcal{S}(\\varepsilon)\\; \\mathrm{if} \\; \\varepsilon < \\varepsilon_\\mathrm{cr}\n",
    " \\\\\n",
    " \\mathcal{S}(w) \\; \\mathrm{otherwise}\n",
    " \\end{array}\n",
    " \\right.\n",
    "$$"
   ]
  },
  {
   "cell_type": "markdown",
   "id": "06ed2e1e-cc90-4322-a106-1e076d00fadb",
   "metadata": {},
   "source": [
    "An alternative approach is to introduce an equivalent strain or yield function."
   ]
  },
  {
   "cell_type": "markdown",
   "id": "feb8639b-6125-402c-88f0-717e221a5afd",
   "metadata": {},
   "source": [
    "# Todo\n",
    "\n",
    " - Add the extrapolation to include the top layer of the cross section [Done]\n",
    " - Separate the constitutive law for compression and tension\n",
    " - Include compression law considering the 3D stress state (plain stress)\n",
    " - In stress and force plot - align the ligament axis and show the capacity value for the reinforcement to indicate that it is yielding\n",
    " - bmcs_utils - improve the dependency management so that the tree nodes are not needed everywhere"
   ]
  },
  {
   "cell_type": "code",
   "execution_count": 1,
   "id": "7f03eef1-2ae3-4ba2-8740-e22aebd48b28",
   "metadata": {},
   "outputs": [],
   "source": [
    "%matplotlib widget\n",
    "import ibvpy.api as ib\n",
    "import matplotlib.pylab as plt\n",
    "from matplotlib import cm\n",
    "from scipy.interpolate import interp2d\n",
    "from scipy.signal import argrelextrema\n",
    "from bmcs_shear.api import CrackBridgeAdv\n",
    "from bmcs_shear.dic_crack import\\\n",
    "    DICGrid, DICStateFields, DICCrackList, DICCrack, DICCrackCOR\n",
    "from bmcs_shear.shear_crack.crack_path import get_T_Lab\n",
    "import numpy as np\n",
    "np.seterr(divide='ignore', invalid='ignore');"
   ]
  },
  {
   "cell_type": "code",
   "execution_count": 2,
   "id": "ee34bf85-6d51-4ca2-a05f-0bcb70a7725b",
   "metadata": {},
   "outputs": [
    {
     "data": {
      "application/vnd.jupyter.widget-view+json": {
       "model_id": "a24d4cf6aa1845f19219e4409fc0e4f1",
       "version_major": 2,
       "version_minor": 0
      },
      "text/plain": [
       "VBox(children=(HBox(children=(VBox(children=(Tree(layout=Layout(align_items='stretch', border='solid 1px black…"
      ]
     },
     "metadata": {},
     "output_type": "display_data"
    }
   ],
   "source": [
    "dic_grid = DICGrid(U_factor=100, dir_name='B7_TV1', t=0.1)\n",
    "dic_grid.interact()"
   ]
  },
  {
   "cell_type": "code",
   "execution_count": 3,
   "id": "953ac2fa-d0a3-48d0-90b4-4cd0b9bf3c59",
   "metadata": {},
   "outputs": [],
   "source": [
    "l_cb = dic_grid.d_x * 1"
   ]
  },
  {
   "cell_type": "code",
   "execution_count": 4,
   "id": "dfd4b486-1444-47bd-a24e-d8d8d9326729",
   "metadata": {},
   "outputs": [
    {
     "data": {
      "text/plain": [
       "0.07805377028082207"
      ]
     },
     "execution_count": 4,
     "metadata": {},
     "output_type": "execute_result"
    }
   ],
   "source": [
    "dsf = DICStateFields(dic_grid=dic_grid)\n",
    "dsf.tmodel_.trait_set(E=5000, c_T=0, nu=0.18, epsilon_0=0.0005, epsilon_f=0.02/l_cb, eps_max=0.005);\n",
    "dsf.tmodel_.G_f * dic_grid.d_x"
   ]
  },
  {
   "cell_type": "code",
   "execution_count": 5,
   "id": "774a6ea4-db70-4936-9e22-c740761cbcba",
   "metadata": {},
   "outputs": [
    {
     "data": {
      "application/vnd.jupyter.widget-view+json": {
       "model_id": "d78560671c2342bebaa75b7416903997",
       "version_major": 2,
       "version_minor": 0
      },
      "text/plain": [
       "VBox(children=(HBox(children=(VBox(children=(Tree(layout=Layout(align_items='stretch', border='solid 1px black…"
      ]
     },
     "metadata": {},
     "output_type": "display_data"
    }
   ],
   "source": [
    "dsf.tmodel_.interact()"
   ]
  },
  {
   "cell_type": "code",
   "execution_count": 6,
   "id": "e87ba588-1916-4b89-ae14-b470ea3d8089",
   "metadata": {},
   "outputs": [],
   "source": [
    "dsf.eval()\n",
    "dsf.dic_grid.sz_bd.matrix_.L_cr = 30"
   ]
  },
  {
   "cell_type": "code",
   "execution_count": 7,
   "id": "4d0f7144-c4ff-4a0e-b6fb-125362e4ff87",
   "metadata": {},
   "outputs": [
    {
     "data": {
      "application/vnd.jupyter.widget-view+json": {
       "model_id": "b324a683fbe0425081b9e7484b980a49",
       "version_major": 2,
       "version_minor": 0
      },
      "text/plain": [
       "VBox(children=(HBox(children=(VBox(children=(Tree(layout=Layout(align_items='stretch', border='solid 1px black…"
      ]
     },
     "metadata": {},
     "output_type": "display_data"
    }
   ],
   "source": [
    "dsf.interact()"
   ]
  },
  {
   "cell_type": "code",
   "execution_count": 8,
   "id": "80555c92-c101-4b5d-874a-eac026ae139c",
   "metadata": {},
   "outputs": [
    {
     "name": "stdout",
     "output_type": "stream",
     "text": [
      "Creating cracks\n"
     ]
    }
   ],
   "source": [
    "dcl = DICCrackList(dsf=dsf, eta=1)"
   ]
  },
  {
   "cell_type": "code",
   "execution_count": 9,
   "id": "79755fae-2bf4-457a-9e5e-0c19671f754d",
   "metadata": {},
   "outputs": [],
   "source": [
    "# dcl.interact()"
   ]
  },
  {
   "cell_type": "code",
   "execution_count": 10,
   "id": "bac28b99-57f0-4d64-b7e8-a86652739b69",
   "metadata": {},
   "outputs": [
    {
     "data": {
      "application/vnd.jupyter.widget-view+json": {
       "model_id": "7227eaefdde54d0ebbdb55170ec18912",
       "version_major": 2,
       "version_minor": 0
      },
      "text/plain": [
       "VBox(children=(HBox(children=(VBox(children=(Tree(layout=Layout(align_items='stretch', border='solid 1px black…"
      ]
     },
     "metadata": {},
     "output_type": "display_data"
    }
   ],
   "source": [
    "dcl.items[1].sp.smeared_matmod.interact()"
   ]
  },
  {
   "cell_type": "code",
   "execution_count": 11,
   "id": "3fbf08af-79bb-4f9f-be19-f0b9a44f9a2d",
   "metadata": {},
   "outputs": [],
   "source": [
    "cl1 = dcl.items[4]"
   ]
  },
  {
   "cell_type": "code",
   "execution_count": 12,
   "id": "acd7a84e-57f4-44e7-87d2-1a73f921ae19",
   "metadata": {},
   "outputs": [
    {
     "data": {
      "application/vnd.jupyter.widget-view+json": {
       "model_id": "90f2a6b851634a65837146e48521a52a",
       "version_major": 2,
       "version_minor": 0
      },
      "text/plain": [
       "VBox(children=(HBox(children=(VBox(children=(Tree(layout=Layout(align_items='stretch', border='solid 1px black…"
      ]
     },
     "metadata": {},
     "output_type": "display_data"
    }
   ],
   "source": [
    "cl1.interact()"
   ]
  },
  {
   "cell_type": "code",
   "execution_count": 13,
   "id": "ef9eb899-ff27-46a3-b37d-f12ae41377aa",
   "metadata": {},
   "outputs": [
    {
     "data": {
      "application/vnd.jupyter.widget-view+json": {
       "model_id": "29f43529d2844e799c7622f378717dea",
       "version_major": 2,
       "version_minor": 0
      },
      "text/plain": [
       "VBox(children=(HBox(children=(VBox(children=(Tree(layout=Layout(align_items='stretch', border='solid 1px black…"
      ]
     },
     "metadata": {},
     "output_type": "display_data"
    }
   ],
   "source": [
    "cl1.cor.interact()"
   ]
  },
  {
   "cell_type": "code",
   "execution_count": null,
   "id": "392c661a-1daf-46d4-9fa7-2e2863ff1c20",
   "metadata": {},
   "outputs": [],
   "source": []
  },
  {
   "cell_type": "code",
   "execution_count": 14,
   "id": "70525ca9-29f7-47bd-b152-c578249227e4",
   "metadata": {},
   "outputs": [
    {
     "data": {
      "application/vnd.jupyter.widget-view+json": {
       "model_id": "ec6234471aba455f9bf165ee31a80a35",
       "version_major": 2,
       "version_minor": 0
      },
      "text/plain": [
       "VBox(children=(HBox(children=(VBox(children=(Tree(layout=Layout(align_items='stretch', border='solid 1px black…"
      ]
     },
     "metadata": {},
     "output_type": "display_data"
    }
   ],
   "source": [
    "dcl.dsf.interact()"
   ]
  },
  {
   "cell_type": "code",
   "execution_count": 7,
   "id": "8f4f0b51-6f5f-4aa0-a64d-185942a1700f",
   "metadata": {},
   "outputs": [
    {
     "data": {
      "text/plain": [
       "0"
      ]
     },
     "execution_count": 7,
     "metadata": {},
     "output_type": "execute_result"
    }
   ],
   "source": [
    "a_M = np.arange(3)\n",
    "b_N = np.arange(3, 3+4)\n",
    "c_T = np.arange(3+4, 3+4+5)\n",
    "a_MN, b_MN = np.meshgrid(a_M, b_N, indexing='ij')\n",
    "c_TMN, a_TMN, b_TMN = np.meshgrid(c_T, a_M, b_N, indexing='ij')\n",
    "C_TMN, A_TMN, B_TMN = np.broadcast_arrays(c_T[:, np.newaxis, np.newaxis],\n",
    "                                          a_MN[np.newaxis, :, :], \n",
    "                                          b_MN[np.newaxis, :, :], \n",
    "                                          )\n",
    "np.sum(b_TMN - B_TMN)"
   ]
  },
  {
   "cell_type": "markdown",
   "id": "2ab5e907-f21a-4eef-bf42-525b3510ec82",
   "metadata": {},
   "source": [
    "## Reverse crack detection \n",
    "\n",
    " * Get the crack detection field and the primary cracks\n",
    "   detected at the state of the mature cracking stage, \n",
    "   i.e. near the ultimate load."
   ]
  },
  {
   "cell_type": "markdown",
   "id": "0e4b87c0-7b43-4831-927a-04a92bcb0386",
   "metadata": {},
   "source": [
    "### How to access the values of crack detection field at the crack tip"
   ]
  },
  {
   "cell_type": "code",
   "execution_count": 18,
   "id": "87efd187-83d8-4711-974d-bc14fd7e8dfb",
   "metadata": {},
   "outputs": [],
   "source": [
    "def get_crack_t(eta = 0.95):\n",
    "    '''Get the crack history starting with the critical\n",
    "    '''\n",
    "    # identify the near feilure crack pattern\n",
    "    t_eta_idx = dcl.dsf.dic_grid.get_F_eta_dic_idx(eta)\n",
    "    dcl.dsf.dic_grid.end_t = t_eta_idx\n",
    "    xx_NC, yy_NC, N_tip_C, M_NC = dcl.primary_cracks\n",
    "    # pripare the list of crack tip states as a funciton of t\n",
    "    N_tip_Ct = np.zeros((len(N_tip_C), t_eta_idx+1), np.int_)\n",
    "    M_tip_Ct = np.zeros_like(N_tip_Ct)\n",
    "    print('t_idx: ', end='')\n",
    "    for t_idx in range(t_eta_idx, -1, -1):\n",
    "        N_tip_C = np.copy(N_tip_C)\n",
    "        N_tip_Ct[:, t_idx] = np.copy(N_tip_C)\n",
    "        M_tip_Ct[:, t_idx] = M_NC[N_tip_C, np.arange(len(N_tip_C))]\n",
    "        print(t_idx, end=' ')\n",
    "        # get the crack detection field for the current time index\n",
    "        dcl.dsf.dic_grid.end_t = t_idx\n",
    "        _, _, cdf_MN = dcl.dsf.crack_detection_field\n",
    "        # for each crack get the indexes starting from the current tip\n",
    "        N_tip_CN = [np.arange(N_tip, -1, -1) for N_tip in N_tip_C]\n",
    "        M_tip_CN = [M_NC[N_tip_t, C] for C, N_tip_t in enumerate(N_tip_CN)]\n",
    "        # evaluate crack detection field along each crack\n",
    "        cdf_CN = [cdf_MN[M_tip_N, N_tip_N] \n",
    "                  for M_tip_N, N_tip_N in zip(M_tip_CN, N_tip_CN)]\n",
    "        # if cdf is zero completely - the crack did not emerge yet\n",
    "        cdf_nonzero_C = np.array([np.sum(cdf_N) for cdf_N in cdf_CN]) > 0\n",
    "        # find the row index distance from the tip with damage larger \n",
    "        # than threshold\n",
    "        dN_C = np.array([np.argmax(cdf_C >= 0.2) for cdf_C in cdf_CN])\n",
    "        N_tip_C[cdf_nonzero_C] -= dN_C[cdf_nonzero_C]\n",
    "        N_tip_C[np.logical_not(cdf_nonzero_C)] = 0\n",
    "    return M_tip_Ct, N_tip_Ct"
   ]
  },
  {
   "cell_type": "code",
   "execution_count": 19,
   "id": "cbb9ad47-4090-4ce1-8dd0-2c213b03bced",
   "metadata": {},
   "outputs": [
    {
     "name": "stdout",
     "output_type": "stream",
     "text": [
      "t_idx: 18 17 16 15 14 13 12 11 10 9 8 7 6 5 4 3 2 1 0 "
     ]
    },
    {
     "data": {
      "text/plain": [
       "(array([[ 9,  9,  9,  9,  9, 10, 10, 10, 10,  9,  9,  8,  7,  6,  6,  6,\n",
       "          6,  6,  6],\n",
       "        [17, 17, 16, 16, 15, 14, 14, 13, 13, 13, 13, 13, 13, 13, 13, 13,\n",
       "         13, 13, 13],\n",
       "        [29, 29, 29, 29, 29, 28, 28, 27, 27, 27, 27, 27, 27, 27, 26, 26,\n",
       "         26, 26, 26],\n",
       "        [43, 43, 43, 42, 41, 40, 40, 40, 39, 39, 39, 39, 38, 38, 38, 38,\n",
       "         38, 38, 38],\n",
       "        [62, 62, 62, 62, 61, 60, 60, 60, 60, 60, 59, 58, 57, 56, 56, 56,\n",
       "         56, 56, 56],\n",
       "        [76, 76, 76, 76, 76, 76, 76, 76, 75, 74, 74, 74, 74, 74, 74, 74,\n",
       "         74, 74, 74],\n",
       "        [94, 94, 94, 94, 94, 94, 94, 94, 94, 94, 94, 95, 95, 95, 94, 92,\n",
       "         92, 92, 92]]),\n",
       " array([[ 0,  0,  0,  0,  0,  2,  5,  7,  7,  9,  9, 14, 16, 18, 19, 19,\n",
       "         19, 19, 19],\n",
       "        [ 0,  0,  5, 11, 15, 16, 17, 18, 18, 18, 18, 18, 18, 18, 18, 18,\n",
       "         18, 18, 18],\n",
       "        [ 0,  0,  0,  1,  7,  9,  9, 12, 12, 15, 15, 16, 16, 16, 17, 17,\n",
       "         17, 17, 17],\n",
       "        [ 0,  0,  0,  8, 12, 15, 15, 15, 16, 16, 18, 18, 19, 19, 19, 19,\n",
       "         19, 19, 19],\n",
       "        [ 0,  0,  0,  0,  3,  7,  8, 12, 12, 13, 14, 16, 17, 19, 19, 19,\n",
       "         19, 19, 19],\n",
       "        [ 0,  0,  0,  0,  3,  3,  4,  6, 10, 11, 11, 15, 16, 16, 16, 16,\n",
       "         16, 16, 16],\n",
       "        [ 0,  0,  0,  0,  0,  0,  0,  0,  0,  0,  0,  6,  7,  7,  8, 10,\n",
       "         10, 10, 10]]))"
      ]
     },
     "execution_count": 19,
     "metadata": {},
     "output_type": "execute_result"
    }
   ],
   "source": [
    "get_crack_t()"
   ]
  },
  {
   "cell_type": "code",
   "execution_count": 8,
   "id": "ef219434-21bb-4f7b-8697-fffcaf212315",
   "metadata": {},
   "outputs": [
    {
     "name": "stdout",
     "output_type": "stream",
     "text": [
      "t_idx: 18 17 16 15 14 13 12 11 10 9 8 7 6 5 4 3 2 1 0 "
     ]
    },
    {
     "data": {
      "text/plain": [
       "([array([ 6, 13, 26, 38, 56, 74, 92]),\n",
       "  array([ 6, 13, 26, 38, 56, 74, 92]),\n",
       "  array([ 6, 13, 26, 38, 56, 74, 92]),\n",
       "  array([ 6, 13, 26, 38, 56, 74, 92]),\n",
       "  array([ 6, 13, 26, 38, 56, 74, 94]),\n",
       "  array([ 6, 13, 27, 38, 56, 74, 95]),\n",
       "  array([ 7, 13, 27, 38, 57, 74, 95]),\n",
       "  array([ 8, 13, 27, 39, 58, 74, 95]),\n",
       "  array([ 9, 13, 27, 39, 59, 74, 95]),\n",
       "  array([ 9, 13, 27, 39, 60, 74, 95]),\n",
       "  array([10, 13, 27, 39, 60, 75, 95]),\n",
       "  array([10, 13, 27, 40, 60, 76, 95]),\n",
       "  array([10, 14, 28, 40, 60, 76, 95]),\n",
       "  array([10, 14, 28, 40, 60, 76, 95]),\n",
       "  array([10, 15, 29, 41, 61, 76, 95]),\n",
       "  array([10, 16, 29, 42, 61, 76, 95]),\n",
       "  array([10, 16, 29, 42, 61, 76, 95]),\n",
       "  array([10, 16, 29, 42, 61, 76, 95]),\n",
       "  array([10, 16, 29, 42, 61, 76, 95])],\n",
       " [array([19, 18, 17, 19, 19, 16, 10]),\n",
       "  array([19, 18, 17, 19, 19, 16, 10]),\n",
       "  array([19, 18, 17, 19, 19, 16, 10]),\n",
       "  array([19, 18, 17, 19, 19, 16, 10]),\n",
       "  array([19, 18, 17, 19, 19, 16,  8]),\n",
       "  array([18, 18, 16, 19, 19, 16,  7]),\n",
       "  array([16, 18, 16, 19, 17, 16,  7]),\n",
       "  array([14, 18, 16, 18, 16, 15,  6]),\n",
       "  array([ 9, 18, 15, 18, 14, 11,  6]),\n",
       "  array([ 9, 18, 15, 16, 13, 11,  6]),\n",
       "  array([ 7, 18, 12, 16, 12, 10,  6]),\n",
       "  array([ 7, 18, 12, 15, 12,  6,  6]),\n",
       "  array([ 5, 17,  9, 15,  8,  4,  6]),\n",
       "  array([ 2, 16,  9, 15,  7,  3,  6]),\n",
       "  array([ 2, 15,  7, 12,  3,  3,  6]),\n",
       "  array([ 2, 11,  1,  8,  3,  3,  6]),\n",
       "  array([2, 5, 1, 8, 3, 3, 6]),\n",
       "  array([2, 5, 1, 8, 3, 3, 6]),\n",
       "  array([2, 5, 1, 8, 3, 3, 6])])"
      ]
     },
     "execution_count": 8,
     "metadata": {},
     "output_type": "execute_result"
    }
   ],
   "source": [
    "dcl.cracks_t"
   ]
  },
  {
   "cell_type": "code",
   "execution_count": 40,
   "id": "31cabce3-f500-4616-b41e-39c59337e8c3",
   "metadata": {},
   "outputs": [
    {
     "data": {
      "text/plain": [
       "(116, 28)"
      ]
     },
     "execution_count": 40,
     "metadata": {},
     "output_type": "execute_result"
    }
   ],
   "source": [
    "_, _, cdf_eta_MN = dcl.dsf.crack_detection_field"
   ]
  },
  {
   "cell_type": "code",
   "execution_count": 27,
   "id": "c1be16c5-a723-4d0d-ad7e-286deead69f1",
   "metadata": {},
   "outputs": [],
   "source": [
    "xx_NC, yy_NC, N_tip_C, M_NC = dcl.primary_cracks"
   ]
  },
  {
   "cell_type": "code",
   "execution_count": 28,
   "id": "380f33a8-66a1-4371-8186-f546bc6ecf17",
   "metadata": {},
   "outputs": [
    {
     "data": {
      "text/plain": [
       "array([19, 18, 17, 19, 19, 16, 10])"
      ]
     },
     "execution_count": 28,
     "metadata": {},
     "output_type": "execute_result"
    }
   ],
   "source": [
    "N_tip_C"
   ]
  },
  {
   "cell_type": "code",
   "execution_count": 29,
   "id": "75f0340d-ad33-486f-a4ef-0fcc37975215",
   "metadata": {},
   "outputs": [],
   "source": [
    "M_tip_C = M_NC[N_tip_C,np.arange(len(N_tip_C))]"
   ]
  },
  {
   "cell_type": "code",
   "execution_count": 30,
   "id": "9459ad9f-2ae4-4686-9e54-159eefbaf419",
   "metadata": {},
   "outputs": [
    {
     "data": {
      "text/plain": [
       "array([ 6, 13, 26, 38, 56, 74, 92])"
      ]
     },
     "execution_count": 30,
     "metadata": {},
     "output_type": "execute_result"
    }
   ],
   "source": [
    "M_tip_C"
   ]
  },
  {
   "cell_type": "code",
   "execution_count": 31,
   "id": "ad46024b-cec2-448c-b6cd-7206382a4b9e",
   "metadata": {},
   "outputs": [
    {
     "data": {
      "text/plain": [
       "array([0.24249924, 0.27093637, 0.22398292, 0.38911079, 0.23217991,\n",
       "       0.24228758, 0.2987822 ])"
      ]
     },
     "execution_count": 31,
     "metadata": {},
     "output_type": "execute_result"
    }
   ],
   "source": [
    "cdf_eta_MN[M_tip_C, N_tip_C]"
   ]
  },
  {
   "cell_type": "code",
   "execution_count": 35,
   "id": "3e503094-0407-42a5-9572-949b95e47cc0",
   "metadata": {},
   "outputs": [],
   "source": [
    "dcl.dsf.dic_grid.end_t = t_eta_idx - 1"
   ]
  },
  {
   "cell_type": "code",
   "execution_count": 36,
   "id": "24faac86-987c-497e-8f8f-d82b21df2985",
   "metadata": {},
   "outputs": [
    {
     "data": {
      "text/plain": [
       "(116, 28)"
      ]
     },
     "execution_count": 36,
     "metadata": {},
     "output_type": "execute_result"
    }
   ],
   "source": [
    "_, _, cdf_MN = dcl.dsf.crack_detection_field\n",
    "cdf_MN.shape"
   ]
  },
  {
   "cell_type": "code",
   "execution_count": 38,
   "id": "2c59d4eb-d9a2-4250-86c5-60f4f112cb56",
   "metadata": {},
   "outputs": [
    {
     "data": {
      "text/plain": [
       "array([0.2102562 , 0.33028572, 0.22957975, 0.28097628, 0.31755808,\n",
       "       0.30542646, 0.2718454 ])"
      ]
     },
     "execution_count": 38,
     "metadata": {},
     "output_type": "execute_result"
    }
   ],
   "source": [
    "cdf_MN[M_tip_C, N_tip_C]"
   ]
  },
  {
   "cell_type": "code",
   "execution_count": null,
   "id": "1e901cfc-f10e-4555-b458-0c859a9f36d7",
   "metadata": {},
   "outputs": [],
   "source": []
  },
  {
   "cell_type": "markdown",
   "id": "a2a6f7c0-8529-4fb9-a220-dfbdb850973a",
   "metadata": {},
   "source": [
    "### How to access the crack detection field for lower load levels"
   ]
  },
  {
   "cell_type": "code",
   "execution_count": 15,
   "id": "cf7a1b35-57b6-41e0-83b6-33e2bcc244e2",
   "metadata": {},
   "outputs": [
    {
     "data": {
      "text/plain": [
       "11"
      ]
     },
     "execution_count": 15,
     "metadata": {},
     "output_type": "execute_result"
    }
   ],
   "source": [
    "dcl.dsf.dic_grid.end_t"
   ]
  },
  {
   "cell_type": "code",
   "execution_count": 16,
   "id": "b31dc6a5-9fd1-47fb-809f-7c20d4e08376",
   "metadata": {},
   "outputs": [],
   "source": [
    "sp = dcl.items[3]"
   ]
  },
  {
   "cell_type": "code",
   "execution_count": 17,
   "id": "ab391dd4-4528-44b5-83a8-1b8eada2ed1e",
   "metadata": {},
   "outputs": [
    {
     "data": {
      "text/plain": [
       "array([423.21144987, 235.67818428])"
      ]
     },
     "execution_count": 17,
     "metadata": {},
     "output_type": "execute_result"
    }
   ],
   "source": [
    "sp.X_neutral_a"
   ]
  },
  {
   "cell_type": "code",
   "execution_count": 18,
   "id": "93aac55b-c262-4d3e-a62b-81d6abcf25ae",
   "metadata": {},
   "outputs": [],
   "source": [
    "x_00 = sp.dic_crack.C_cubic_spline(sp.z_N)"
   ]
  },
  {
   "cell_type": "code",
   "execution_count": 19,
   "id": "6b99f6bf-f63a-4ace-a77e-130c5b34dda9",
   "metadata": {},
   "outputs": [
    {
     "data": {
      "text/plain": [
       "array([472.76657979])"
      ]
     },
     "execution_count": 19,
     "metadata": {},
     "output_type": "execute_result"
    }
   ],
   "source": [
    "x_00"
   ]
  },
  {
   "cell_type": "code",
   "execution_count": 20,
   "id": "c0d83490-c8a8-44c0-9990-6ce791caa9ac",
   "metadata": {},
   "outputs": [
    {
     "data": {
      "text/plain": [
       "nan"
      ]
     },
     "execution_count": 20,
     "metadata": {},
     "output_type": "execute_result"
    }
   ],
   "source": [
    "sp.M"
   ]
  },
  {
   "cell_type": "code",
   "execution_count": 11,
   "id": "d01f6b62-6393-475a-9783-db3922c08176",
   "metadata": {},
   "outputs": [
    {
     "data": {
      "application/vnd.jupyter.widget-view+json": {
       "model_id": "a1e74607554b4063b9d7b06f8fdfb2dc",
       "version_major": 2,
       "version_minor": 0
      },
      "text/plain": [
       "VBox(children=(HBox(children=(VBox(children=(Tree(layout=Layout(align_items='stretch', border='solid 1px black…"
      ]
     },
     "metadata": {},
     "output_type": "display_data"
    }
   ],
   "source": [
    "dcl.interact()"
   ]
  },
  {
   "cell_type": "code",
   "execution_count": 12,
   "id": "52c2900d-353a-4d80-a8f4-c49e4cee7379",
   "metadata": {},
   "outputs": [],
   "source": [
    "crack_0 = dcl.items[2]"
   ]
  },
  {
   "cell_type": "code",
   "execution_count": 13,
   "id": "b35fd859-cd37-45f0-a812-555a9affc208",
   "metadata": {},
   "outputs": [
    {
     "data": {
      "text/plain": [
       "(nan, nan)"
      ]
     },
     "execution_count": 13,
     "metadata": {},
     "output_type": "execute_result"
    }
   ],
   "source": [
    "crack_0.pos_F_y"
   ]
  },
  {
   "cell_type": "code",
   "execution_count": 9,
   "id": "cfb6ff25-6524-455f-b54f-6f4de6f6d6f8",
   "metadata": {},
   "outputs": [
    {
     "data": {
      "application/vnd.jupyter.widget-view+json": {
       "model_id": "2cd945eed0d044d2ade087920b8edae1",
       "version_major": 2,
       "version_minor": 0
      },
      "text/plain": [
       "Canvas(toolbar=Toolbar(toolitems=[('Home', 'Reset original view', 'home', 'home'), ('Back', 'Back to previous …"
      ]
     },
     "metadata": {},
     "output_type": "display_data"
    },
    {
     "data": {
      "text/plain": [
       "(248.36770344360858, 480.1367773488707, -7.550799748321647, 274.79547068760746)"
      ]
     },
     "execution_count": 9,
     "metadata": {},
     "output_type": "execute_result"
    }
   ],
   "source": [
    "fig, ax = plt.subplots(1,1)\n",
    "crack_0.dic_crack.plot_u_Nib(ax)\n",
    "crack_0.dic_crack.plot_x_Na(ax)\n",
    "crack_0.plot_COR(ax)\n",
    "crack_0.plot_cor_markers(ax)\n",
    "ax.axis('equal')"
   ]
  },
  {
   "cell_type": "code",
   "execution_count": null,
   "id": "320aa8df-2c2f-4558-a0b3-85f2f57c3262",
   "metadata": {},
   "outputs": [],
   "source": [
    "crack_0.M_N[20]"
   ]
  },
  {
   "cell_type": "code",
   "execution_count": null,
   "id": "14fe59bd-94bc-4b0c-8f08-132b8bcf4757",
   "metadata": {},
   "outputs": [],
   "source": [
    "dc_cor = DICCrackCOR(dic_crack=dcl.items[2])"
   ]
  },
  {
   "cell_type": "code",
   "execution_count": null,
   "id": "12070508-4ab0-43dc-9c55-1f515fa2ae30",
   "metadata": {},
   "outputs": [],
   "source": [
    "dc_cor.M_N.dtype"
   ]
  },
  {
   "cell_type": "code",
   "execution_count": null,
   "id": "6b344a05-7d62-4b2e-963e-f4263a89bbd2",
   "metadata": {},
   "outputs": [],
   "source": [
    "slice_M_N = slice(dc_cor.M_N,dc_cor.M_N+3)"
   ]
  },
  {
   "cell_type": "code",
   "execution_count": null,
   "id": "fa1355b6-eb55-493f-820d-039f557a2f93",
   "metadata": {},
   "outputs": [],
   "source": [
    "X_mNa = np.array([dc_cor.X_MNa[dc_cor.M_N+i, np.arange(len(dc_cor.M_N))] for i in range(5)])"
   ]
  },
  {
   "cell_type": "code",
   "execution_count": null,
   "id": "95171df6-d6f2-4c4a-bb9a-73cc744609b0",
   "metadata": {},
   "outputs": [],
   "source": [
    "X_mNa[-1,0]"
   ]
  },
  {
   "cell_type": "code",
   "execution_count": null,
   "id": "e0590c3a-0abd-46fd-833d-16406443d955",
   "metadata": {},
   "outputs": [],
   "source": [
    "dc_cor.M0"
   ]
  },
  {
   "cell_type": "code",
   "execution_count": null,
   "id": "6dfe3c0e-d231-4d98-8490-a588bcd75cd1",
   "metadata": {},
   "outputs": [],
   "source": [
    "dc_cor.interact()"
   ]
  },
  {
   "cell_type": "code",
   "execution_count": null,
   "id": "2bf86666-0ab5-4591-9ca3-f44aaa33b7e4",
   "metadata": {},
   "outputs": [],
   "source": [
    "dc_cor.X0_a - dc_cor.U0_a"
   ]
  },
  {
   "cell_type": "code",
   "execution_count": 19,
   "id": "d7b10baf-4323-4222-a2cb-ccbf93c698ec",
   "metadata": {},
   "outputs": [
    {
     "data": {
      "text/plain": [
       "array([[330.87272231,   4.85905338],\n",
       "       [330.87254552,  13.86303457],\n",
       "       [330.87358701,  22.868741  ],\n",
       "       [330.87234085,  31.88218863],\n",
       "       [330.87220829,  40.89703656]])"
      ]
     },
     "execution_count": 19,
     "metadata": {},
     "output_type": "execute_result"
    }
   ],
   "source": [
    "dc_cor.x_ref_MNa_scaled[dc_cor.M0, :dc_cor.N0_max]"
   ]
  },
  {
   "cell_type": "code",
   "execution_count": null,
   "id": "687bbc1c-dc35-4496-97e3-1c1462ff4162",
   "metadata": {},
   "outputs": [],
   "source": []
  },
  {
   "cell_type": "code",
   "execution_count": null,
   "id": "6b7c63aa-55b3-4480-9768-b3915f84c8b9",
   "metadata": {},
   "outputs": [],
   "source": []
  }
 ],
 "metadata": {
  "kernelspec": {
   "display_name": "bmcs_env",
   "language": "python",
   "name": "bmcs_env"
  },
  "language_info": {
   "codemirror_mode": {
    "name": "ipython",
    "version": 3
   },
   "file_extension": ".py",
   "mimetype": "text/x-python",
   "name": "python",
   "nbconvert_exporter": "python",
   "pygments_lexer": "ipython3",
   "version": "3.9.0"
  }
 },
 "nbformat": 4,
 "nbformat_minor": 5
}
