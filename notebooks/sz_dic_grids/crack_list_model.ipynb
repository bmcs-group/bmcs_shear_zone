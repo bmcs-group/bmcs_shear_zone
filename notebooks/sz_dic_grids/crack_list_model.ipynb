{
 "cells": [
  {
   "cell_type": "markdown",
   "id": "e43222ac-fdc6-44a2-8afe-dfae159e8df1",
   "metadata": {},
   "source": [
    "# Current to do's 2022-28\n",
    "\n",
    "- naming of coordinates - x horizontal, y vertical - encapsulate the differences in dic_grid, so that any further level works \n",
    "   without swapping\n",
    " - extend interpolation in dsf to cdf - including the time index - this will allow for the crack detection and spline representation    of the functions \n",
    "$$\n",
    "\\omega_C( t, y )\n",
    "$$\n",
    " - use this function to determine\n",
    "$$\n",
    "y^\\mathrm{tip}_C( t )\n",
    "$$ \n",
    "$$\n",
    "\\Delta u_{Ca}( y, t ) = u( x+r, y, t ) - u( x-r, y, t ) \n",
    "$$\n",
    " - Constitutive laws applied across the crack ligament\n",
    "$$\n",
    " \\sigma_{Cab}(y, t) = \\mathcal{S}_{ab}(\\Delta u{Ca}(y, t))\n",
    "$$\n",
    " - distinguish the change events - finer resolution of the tag types (TIME, ALG, MESH)."
   ]
  },
  {
   "cell_type": "markdown",
   "id": "a89177ca-df71-4964-869b-bb2f5814741c",
   "metadata": {},
   "source": [
    "# Crack detection strategy\n",
    "\n",
    "The detection algorithm uses the knowledge about shear crack propagation \n",
    " - distance between cracks is related to the shielded length given by the reinforcement ratio      and bond properties\n",
    " - cracks start from the bottom of the cross section\n",
    " - cracks propagate upwards and bend in the direction of an increasing cross-sectional moment\n",
    " \n",
    "The crack pattern in the shear zone gets most visible prior shortly before the maximum load has been reached. Near to the failure, the regularity of the crack pattern is lost and the specimen cannot be viewed as a series of individual shear cracks any more. The initiation of failure via a horizontal crossing crack initiated by a vertical stress component is initiated either near the reinforcement layer due to the dowel action or by a crack tip propagating horizontally through a compression zone.\n",
    "\n",
    "## Full crack detection strategy\n",
    "\n",
    "This observation is exploited by the crack detection algorithm by adapting the following strategy. \n",
    "\n",
    " - The displacement field $U_{IJa}^{F_\\gamma}$ corresponding to $F_\\gamma = 0.9 F_\\max$ is taken first to calculate the strain, damage and stress fields.\n",
    " - The DIC-FE state fields are interpolated and smoothed as a basis for the crack detection step. The crack detection algorithm is employed to detect the crack path $\\mathcal{C}(F_\\gamma)$ at the near-failure level of load. The algorithm delivers the crack tip positions.\n",
    " - The obtained crack path is then refined by analyzing the cracking process in reverse order $F = [F_\\gamma, 0]$. The difference between damage fields $\\omega_{MN}(F_\\gamma)$ and $\\omega_{MN}(F), n = [0, n_C-1]$  obtained using DIC-FE-MDM calculation for each $U_{IJa}$ state are analyzed to refine the crack geometry in the previous states of loading. After that, the load range between the crack detection state and the ultimate load is analyzed based on the known cracking state at the level $F\\tilde{}$.\n",
    " - Define a spline function representing the damage along the crack\n",
    " \n",
    "## Current strategy\n",
    "\n",
    "The crack detection load level $\\gamma$ is used to identify the primary cracks. The cracks that develop at the level $\\gamma = 0.9$ up to the 0.4 of the cross sectional height are recognized as primary cracks. Partially, secondary cracks and noise in DIC data and FE approximation are avoided  by smoothing the damage field within a radius that reflects the element resolution / characteristic length? Currently, the primary cracks are identified first to obtain the crack zones."
   ]
  },
  {
   "cell_type": "markdown",
   "id": "bc301f3e-aefe-4cc0-a375-045063201701",
   "metadata": {},
   "source": [
    "# Stress profile evaluation\n",
    "\n",
    " - M, N, Q - evaluated from the constitutive laws along the ligament\n",
    " - Crack-tip stress / strain / opening. \n",
    " - How to include the history of damage into the stress evaluation (softening law)\n"
   ]
  },
  {
   "cell_type": "markdown",
   "id": "1e676faa-e40a-4c0b-966e-b95f25f2af56",
   "metadata": {},
   "source": [
    "## Constitutive laws along the ligament\n",
    "\n",
    "The transition between strain concentration and discrete crack representation is based on the threshold value of the critical strain $\\varepsilon_\\mathrm{cr}$. This value corresponds to the strain with the onset of softening, i.e.\n",
    "$$\n",
    " \\varepsilon_\\mathrm{cr} = \\mathrm{argmax}_\\varepsilon \\mathcal{S}(\\varepsilon).\n",
    "$$\n",
    "In case of a linear ascending branch, this relation is obtained as\n",
    "$$\n",
    " \\varepsilon_\\mathrm{cr} = \\frac{ f_\\mathrm{t} }{ E }\n",
    "$$"
   ]
  },
  {
   "cell_type": "markdown",
   "id": "6663955d-1aa6-4dbf-93bb-d850764477ca",
   "metadata": {},
   "source": [
    "The stress in the ascending range is controlled by strain \n",
    "$$\n",
    "\\sigma_a\n",
    "  = \\left\\{  \n",
    " \\begin{array}{l}\n",
    " \\mathcal{S}(\\varepsilon)\\; \\mathrm{if} \\; \\varepsilon < \\varepsilon_\\mathrm{cr}\n",
    " \\\\\n",
    " \\mathcal{S}(w) \\; \\mathrm{otherwise}\n",
    " \\end{array}\n",
    " \\right.\n",
    "$$"
   ]
  },
  {
   "cell_type": "markdown",
   "id": "06ed2e1e-cc90-4322-a106-1e076d00fadb",
   "metadata": {},
   "source": [
    "An alternative approach is to introduce an equivalent strain or yield function."
   ]
  },
  {
   "cell_type": "markdown",
   "id": "feb8639b-6125-402c-88f0-717e221a5afd",
   "metadata": {},
   "source": [
    "# Todo\n",
    "\n",
    " - Add the extrapolation to include the top layer of the cross section [Done]\n",
    " - Separate the constitutive law for compression and tension\n",
    " - Include compression law considering the 3D stress state (plain stress)\n",
    " - In stress and force plot - align the ligament axis and show the capacity value for the reinforcement to indicate that it is yielding\n",
    " - bmcs_utils - improve the dependency management so that the tree nodes are not needed everywhere"
   ]
  },
  {
   "cell_type": "code",
   "execution_count": 1,
   "id": "7f03eef1-2ae3-4ba2-8740-e22aebd48b28",
   "metadata": {},
   "outputs": [],
   "source": [
    "%matplotlib widget\n",
    "import ibvpy.api as ib\n",
    "import matplotlib.pylab as plt\n",
    "from matplotlib import cm\n",
    "from scipy.interpolate import interp2d\n",
    "from scipy.signal import argrelextrema\n",
    "from bmcs_shear.api import CrackBridgeAdv\n",
    "from bmcs_shear.dic_crack import\\\n",
    "    DICGrid, DICStateFields, DICCrackList, DICCrack, DICCrackCOR\n",
    "from bmcs_shear.shear_crack.crack_path import get_T_Lab\n",
    "import numpy as np\n",
    "np.seterr(divide='ignore', invalid='ignore');"
   ]
  },
  {
   "cell_type": "code",
   "execution_count": 16,
   "id": "ee34bf85-6d51-4ca2-a05f-0bcb70a7725b",
   "metadata": {},
   "outputs": [],
   "source": [
    "dic_grid = DICGrid(U_factor=100, dir_name='B6_TV1', t=0.1)"
   ]
  },
  {
   "cell_type": "code",
   "execution_count": 17,
   "id": "953ac2fa-d0a3-48d0-90b4-4cd0b9bf3c59",
   "metadata": {},
   "outputs": [
    {
     "data": {
      "text/plain": [
       "22.0"
      ]
     },
     "execution_count": 17,
     "metadata": {},
     "output_type": "execute_result"
    }
   ],
   "source": [
    "l_cb = dic_grid.d_x * 1\n",
    "l_cb"
   ]
  },
  {
   "cell_type": "code",
   "execution_count": 18,
   "id": "dfd4b486-1444-47bd-a24e-d8d8d9326729",
   "metadata": {},
   "outputs": [
    {
     "data": {
      "text/plain": [
       "0.07805377028082207"
      ]
     },
     "execution_count": 18,
     "metadata": {},
     "output_type": "execute_result"
    }
   ],
   "source": [
    "dsf = DICStateFields(dic_grid=dic_grid)\n",
    "dsf.tmodel_.trait_set(E=5000, c_T=0, nu=0.18, epsilon_0=0.0005, epsilon_f=0.02/l_cb, eps_max=0.005);\n",
    "dsf.tmodel_.G_f * dic_grid.d_x"
   ]
  },
  {
   "cell_type": "code",
   "execution_count": 19,
   "id": "774a6ea4-db70-4936-9e22-c740761cbcba",
   "metadata": {},
   "outputs": [
    {
     "data": {
      "application/vnd.jupyter.widget-view+json": {
       "model_id": "38310cfc582c4f7d91faa99469d994bf",
       "version_major": 2,
       "version_minor": 0
      },
      "text/plain": [
       "VBox(children=(HBox(children=(VBox(children=(Tree(layout=Layout(align_items='stretch', border='solid 1px black…"
      ]
     },
     "metadata": {},
     "output_type": "display_data"
    }
   ],
   "source": [
    "dsf.tmodel_.interact()"
   ]
  },
  {
   "cell_type": "code",
   "execution_count": 20,
   "id": "e87ba588-1916-4b89-ae14-b470ea3d8089",
   "metadata": {},
   "outputs": [],
   "source": [
    "dsf.eval()\n",
    "dsf.dic_grid.sz_bd.matrix_.L_cr = 30"
   ]
  },
  {
   "cell_type": "code",
   "execution_count": 21,
   "id": "4d0f7144-c4ff-4a0e-b6fb-125362e4ff87",
   "metadata": {},
   "outputs": [
    {
     "data": {
      "application/vnd.jupyter.widget-view+json": {
       "model_id": "aaa2d171cb234b92b5733a92c70b03a3",
       "version_major": 2,
       "version_minor": 0
      },
      "text/plain": [
       "VBox(children=(HBox(children=(VBox(children=(Tree(layout=Layout(align_items='stretch', border='solid 1px black…"
      ]
     },
     "metadata": {},
     "output_type": "display_data"
    }
   ],
   "source": [
    "dsf.interact()"
   ]
  },
  {
   "cell_type": "code",
   "execution_count": 22,
   "id": "80555c92-c101-4b5d-874a-eac026ae139c",
   "metadata": {},
   "outputs": [
    {
     "name": "stdout",
     "output_type": "stream",
     "text": [
      "Creating cracks\n"
     ]
    }
   ],
   "source": [
    "dcl = DICCrackList(dsf=dsf, eta=1)"
   ]
  },
  {
   "cell_type": "code",
   "execution_count": 23,
   "id": "bac28b99-57f0-4d64-b7e8-a86652739b69",
   "metadata": {},
   "outputs": [
    {
     "data": {
      "application/vnd.jupyter.widget-view+json": {
       "model_id": "96e257a597c640aca41a031164cf83ff",
       "version_major": 2,
       "version_minor": 0
      },
      "text/plain": [
       "VBox(children=(HBox(children=(VBox(children=(Tree(layout=Layout(align_items='stretch', border='solid 1px black…"
      ]
     },
     "metadata": {},
     "output_type": "display_data"
    }
   ],
   "source": [
    "dcl.items[1].sp.smeared_matmod.interact()"
   ]
  },
  {
   "cell_type": "code",
   "execution_count": 24,
   "id": "8e158185-9280-4f2e-a494-b47073bf0d7e",
   "metadata": {},
   "outputs": [],
   "source": [
    "# dcl.items[1].state_change_debug = True\n",
    "# dcl.items[1].sp.state_change_debug = True\n",
    "# dcl.state_change_debug = False"
   ]
  },
  {
   "cell_type": "code",
   "execution_count": 25,
   "id": "de216aa1-52ac-4055-883e-b071313cab7b",
   "metadata": {},
   "outputs": [
    {
     "data": {
      "text/plain": [
       "0.00010714285714285714"
      ]
     },
     "execution_count": 25,
     "metadata": {},
     "output_type": "execute_result"
    }
   ],
   "source": [
    "dcl.bd.matrix_.f_t / dcl.bd.matrix_.E_c"
   ]
  },
  {
   "cell_type": "code",
   "execution_count": null,
   "id": "af048f7d-d4e1-4cfa-aaf5-2e859d069207",
   "metadata": {},
   "outputs": [],
   "source": []
  },
  {
   "cell_type": "code",
   "execution_count": 26,
   "id": "3fbf08af-79bb-4f9f-be19-f0b9a44f9a2d",
   "metadata": {},
   "outputs": [],
   "source": [
    "#dcl.interact()"
   ]
  },
  {
   "cell_type": "code",
   "execution_count": 27,
   "id": "8928c3d8-58d5-4a03-94c7-2663e75173de",
   "metadata": {},
   "outputs": [
    {
     "name": "stdout",
     "output_type": "stream",
     "text": [
      "updating omega 0.1\n",
      "number 48.2\n"
     ]
    },
    {
     "data": {
      "application/vnd.jupyter.widget-view+json": {
       "model_id": "b68beaf068c14ecbb2b509b739bbddbd",
       "version_major": 2,
       "version_minor": 0
      },
      "text/plain": [
       "VBox(children=(HBox(children=(VBox(children=(Tree(layout=Layout(align_items='stretch', border='solid 1px black…"
      ]
     },
     "metadata": {},
     "output_type": "display_data"
    }
   ],
   "source": [
    "dcl.items[1].sp.dic_crack.interact()"
   ]
  },
  {
   "cell_type": "code",
   "execution_count": 28,
   "id": "ef9eb899-ff27-46a3-b37d-f12ae41377aa",
   "metadata": {},
   "outputs": [
    {
     "data": {
      "text/plain": [
       "3"
      ]
     },
     "execution_count": 28,
     "metadata": {},
     "output_type": "execute_result"
    }
   ],
   "source": [
    "dcl.dsf.dic_grid.sz_bd.matrix_.f_t"
   ]
  },
  {
   "cell_type": "code",
   "execution_count": 15,
   "id": "505362ad-3c40-4470-bd0a-085d292c9004",
   "metadata": {},
   "outputs": [],
   "source": [
    "eps_cr = -dcl.dsf.dic_grid.sz_bd.matrix_.f_c / dcl.dsf.dic_grid.sz_bd.matrix_.E_c"
   ]
  },
  {
   "cell_type": "code",
   "execution_count": 11,
   "id": "c1548266-b120-4dce-bddd-c768a8859005",
   "metadata": {},
   "outputs": [
    {
     "data": {
      "text/plain": [
       "-0.000191616629396113"
      ]
     },
     "execution_count": 11,
     "metadata": {},
     "output_type": "execute_result"
    }
   ],
   "source": [
    "dcl.items[1].U1_Kb[-1, 0]"
   ]
  },
  {
   "cell_type": "code",
   "execution_count": 19,
   "id": "572661e2-835a-4ac2-a66a-4d3a9e73d1dd",
   "metadata": {},
   "outputs": [
    {
     "name": "stdout",
     "output_type": "stream",
     "text": [
      "before sig call [-0.00179487 -0.00184615 -0.00189744 -0.00194872 -0.002     ]\n",
      "aftersig call -33.3\n",
      "f_c 33.3\n",
      "E_c 28000 0.0011892857142857141\n"
     ]
    },
    {
     "data": {
      "text/plain": [
       "[<matplotlib.lines.Line2D at 0x7fc9e006b0a0>]"
      ]
     },
     "execution_count": 19,
     "metadata": {},
     "output_type": "execute_result"
    }
   ],
   "source": [
    "_, ax = plt.subplots(1,1)\n",
    "eps = np.array([np.linspace(0, -0.002, 40),\n",
    "                  np.linspace(0, -0.002, 40)]).T\n",
    "ax.plot(eps[:,0], dcl.dsf.dic_grid.sz_bd.matrix_.get_sig_a(eps)[:,0])\n",
    "ax.plot([eps_cr],[0],'o')"
   ]
  },
  {
   "cell_type": "code",
   "execution_count": 21,
   "id": "4a3b64c4-56c0-45d6-8b21-e5ebd8248034",
   "metadata": {},
   "outputs": [
    {
     "data": {
      "text/latex": [
       "$\\displaystyle \\begin{cases} - f_{c} & \\text{for}\\: E_{c} w \\leq - \\frac{f_{c}}{E_{c}} \\\\E_{c} w & \\text{for}\\: w \\leq 0 \\\\\\frac{35.7142857142857 f_{t}^{2} w}{d_{a}^{0.32} f_{c}^{0.18}} & \\text{for}\\: w \\leq \\frac{0.028 d_{a}^{0.32} f_{c}^{0.18}}{f_{t}} \\\\f_{t} e^{- \\frac{35.7142857142857 f_{t} \\left(- \\frac{0.028 d_{a}^{0.32} f_{c}^{0.18}}{f_{t}} + w\\right)}{d_{a}^{0.32} f_{c}^{0.18}}} & \\text{for}\\: w \\leq \\frac{0.14392 d_{a}^{0.32} f_{c}^{0.18}}{f_{t}} \\\\\\begin{cases} - \\frac{0.62 s \\left(\\begin{cases} 0 & \\text{for}\\: w \\leq 0 \\\\\\frac{0.25 f_{c} s \\left(- \\sqrt{2} \\sqrt{\\frac{w}{d_{a}}} + 1\\right) \\left(\\left(2.44 - \\frac{39.04}{f_{c}}\\right) \\left|{\\frac{s}{w}}\\right|^{3} + \\frac{9.8}{f_{c}}\\right)}{w \\left(\\frac{s^{4} \\left(2.44 - \\frac{39.04}{f_{c}}\\right)}{w^{4}} + 1\\right)} & \\text{otherwise} \\end{cases}\\right)}{\\sqrt{w} \\left(\\frac{s^{2}}{w^{2}} + 1\\right)^{0.25}} & \\text{for}\\: w > \\frac{0.028 d_{a}^{0.32} f_{c}^{0.18}}{f_{t}} \\end{cases} & \\text{otherwise} \\end{cases}$"
      ],
      "text/plain": [
       "Piecewise((-f_c, E_c*w <= -f_c/E_c), (E_c*w, w <= 0), (35.7142857142857*f_t**2*w/(d_a**0.32*f_c**0.18), w <= 0.028*d_a**0.32*f_c**0.18/f_t), (f_t*exp(-35.7142857142857*f_t*(-0.028*d_a**0.32*f_c**0.18/f_t + w)/(d_a**0.32*f_c**0.18)), w <= 0.14392*d_a**0.32*f_c**0.18/f_t), (Piecewise((-0.62*s*Piecewise((0, w <= 0), (0.25*f_c*s*(-sqrt(2)*sqrt(w/d_a) + 1)*((2.44 - 39.04/f_c)*Abs(s/w)**3 + 9.8/f_c)/(w*(s**4*(2.44 - 39.04/f_c)/w**4 + 1)), True))/(sqrt(w)*(s**2/w**2 + 1)**0.25), w > 0.028*d_a**0.32*f_c**0.18/f_t)), True))"
      ]
     },
     "execution_count": 21,
     "metadata": {},
     "output_type": "execute_result"
    }
   ],
   "source": [
    "dcl.dsf.dic_grid.sz_bd.matrix_.symb.sig_w"
   ]
  },
  {
   "cell_type": "code",
   "execution_count": 17,
   "id": "6f4aa9b7-a43d-469f-9fca-f41bbe5a9cbe",
   "metadata": {},
   "outputs": [
    {
     "ename": "IndexError",
     "evalue": "too many indices for array: array is 0-dimensional, but 1 were indexed",
     "output_type": "error",
     "traceback": [
      "\u001b[0;31m---------------------------------------------------------------------------\u001b[0m",
      "\u001b[0;31mIndexError\u001b[0m                                Traceback (most recent call last)",
      "\u001b[0;32m<ipython-input-17-fd35ea192dbe>\u001b[0m in \u001b[0;36m<module>\u001b[0;34m\u001b[0m\n\u001b[0;32m----> 1\u001b[0;31m \u001b[0mdcl\u001b[0m\u001b[0;34m.\u001b[0m\u001b[0mdsf\u001b[0m\u001b[0;34m.\u001b[0m\u001b[0mdic_grid\u001b[0m\u001b[0;34m.\u001b[0m\u001b[0msz_bd\u001b[0m\u001b[0;34m.\u001b[0m\u001b[0mmatrix_\u001b[0m\u001b[0;34m.\u001b[0m\u001b[0mget_sig_a\u001b[0m\u001b[0;34m(\u001b[0m\u001b[0mdcl\u001b[0m\u001b[0;34m.\u001b[0m\u001b[0mitems\u001b[0m\u001b[0;34m[\u001b[0m\u001b[0;36m1\u001b[0m\u001b[0;34m]\u001b[0m\u001b[0;34m.\u001b[0m\u001b[0mU1_Kb\u001b[0m\u001b[0;34m[\u001b[0m\u001b[0;34m-\u001b[0m\u001b[0;36m1\u001b[0m\u001b[0;34m,\u001b[0m \u001b[0;34m:\u001b[0m\u001b[0;34m]\u001b[0m\u001b[0;34m)\u001b[0m\u001b[0;34m\u001b[0m\u001b[0;34m\u001b[0m\u001b[0m\n\u001b[0m",
      "\u001b[0;32m~/PycharmProjects/bmcs_shear_zone/bmcs_shear/matmod/sz_concrete/sz_advanced/sz_advanced.py\u001b[0m in \u001b[0;36mget_sig_a\u001b[0;34m(self, u_a)\u001b[0m\n\u001b[1;32m    168\u001b[0m         '''Calculating stresses\n\u001b[1;32m    169\u001b[0m         '''\n\u001b[0;32m--> 170\u001b[0;31m         \u001b[0msig_w\u001b[0m \u001b[0;34m=\u001b[0m \u001b[0mself\u001b[0m\u001b[0;34m.\u001b[0m\u001b[0mget_sig_w\u001b[0m\u001b[0;34m(\u001b[0m\u001b[0mu_a\u001b[0m\u001b[0;34m[\u001b[0m\u001b[0;34m...\u001b[0m\u001b[0;34m,\u001b[0m\u001b[0;36m0\u001b[0m\u001b[0;34m]\u001b[0m\u001b[0;34m,\u001b[0m\u001b[0mu_a\u001b[0m\u001b[0;34m[\u001b[0m\u001b[0;34m...\u001b[0m\u001b[0;34m,\u001b[0m\u001b[0;36m1\u001b[0m\u001b[0;34m]\u001b[0m\u001b[0;34m)\u001b[0m\u001b[0;34m\u001b[0m\u001b[0;34m\u001b[0m\u001b[0m\n\u001b[0m\u001b[1;32m    171\u001b[0m         \u001b[0mtau_s\u001b[0m \u001b[0;34m=\u001b[0m \u001b[0mself\u001b[0m\u001b[0;34m.\u001b[0m\u001b[0mget_tau_s\u001b[0m\u001b[0;34m(\u001b[0m\u001b[0mu_a\u001b[0m\u001b[0;34m[\u001b[0m\u001b[0;34m...\u001b[0m\u001b[0;34m,\u001b[0m\u001b[0;36m0\u001b[0m\u001b[0;34m]\u001b[0m\u001b[0;34m,\u001b[0m\u001b[0mu_a\u001b[0m\u001b[0;34m[\u001b[0m\u001b[0;34m...\u001b[0m\u001b[0;34m,\u001b[0m\u001b[0;36m1\u001b[0m\u001b[0;34m]\u001b[0m\u001b[0;34m)\u001b[0m\u001b[0;34m\u001b[0m\u001b[0;34m\u001b[0m\u001b[0m\n\u001b[1;32m    172\u001b[0m         \u001b[0;32mreturn\u001b[0m \u001b[0mnp\u001b[0m\u001b[0;34m.\u001b[0m\u001b[0meinsum\u001b[0m\u001b[0;34m(\u001b[0m\u001b[0;34m'b...->...b'\u001b[0m\u001b[0;34m,\u001b[0m \u001b[0mnp\u001b[0m\u001b[0;34m.\u001b[0m\u001b[0marray\u001b[0m\u001b[0;34m(\u001b[0m\u001b[0;34m[\u001b[0m\u001b[0msig_w\u001b[0m\u001b[0;34m,\u001b[0m \u001b[0mtau_s\u001b[0m\u001b[0;34m]\u001b[0m\u001b[0;34m,\u001b[0m \u001b[0mdtype\u001b[0m\u001b[0;34m=\u001b[0m\u001b[0mnp\u001b[0m\u001b[0;34m.\u001b[0m\u001b[0mfloat_\u001b[0m\u001b[0;34m)\u001b[0m\u001b[0;34m)\u001b[0m \u001b[0;31m#, tau_s\u001b[0m\u001b[0;34m\u001b[0m\u001b[0;34m\u001b[0m\u001b[0m\n",
      "\u001b[0;32m~/PycharmProjects/bmcs_shear_zone/bmcs_shear/matmod/sz_concrete/sz_advanced/sz_advanced.py\u001b[0m in \u001b[0;36mget_sig_w\u001b[0;34m(self, w, s)\u001b[0m\n\u001b[1;32m    173\u001b[0m \u001b[0;34m\u001b[0m\u001b[0m\n\u001b[1;32m    174\u001b[0m     \u001b[0;32mdef\u001b[0m \u001b[0mget_sig_w\u001b[0m\u001b[0;34m(\u001b[0m\u001b[0mself\u001b[0m\u001b[0;34m,\u001b[0m\u001b[0mw\u001b[0m\u001b[0;34m,\u001b[0m \u001b[0ms\u001b[0m\u001b[0;34m)\u001b[0m\u001b[0;34m:\u001b[0m\u001b[0;34m\u001b[0m\u001b[0;34m\u001b[0m\u001b[0m\n\u001b[0;32m--> 175\u001b[0;31m         \u001b[0mprint\u001b[0m\u001b[0;34m(\u001b[0m\u001b[0;34m'before sig call'\u001b[0m\u001b[0;34m,\u001b[0m \u001b[0mw\u001b[0m\u001b[0;34m[\u001b[0m\u001b[0;34m...\u001b[0m\u001b[0;34m,\u001b[0m\u001b[0;34m-\u001b[0m\u001b[0;36m5\u001b[0m\u001b[0;34m:\u001b[0m\u001b[0;34m]\u001b[0m\u001b[0;34m)\u001b[0m\u001b[0;34m\u001b[0m\u001b[0;34m\u001b[0m\u001b[0m\n\u001b[0m\u001b[1;32m    176\u001b[0m         \u001b[0msig_w\u001b[0m \u001b[0;34m=\u001b[0m \u001b[0mself\u001b[0m\u001b[0;34m.\u001b[0m\u001b[0msymb\u001b[0m\u001b[0;34m.\u001b[0m\u001b[0mget_sig_w\u001b[0m\u001b[0;34m(\u001b[0m\u001b[0mw\u001b[0m\u001b[0;34m,\u001b[0m \u001b[0ms\u001b[0m\u001b[0;34m)\u001b[0m\u001b[0;34m\u001b[0m\u001b[0;34m\u001b[0m\u001b[0m\n\u001b[1;32m    177\u001b[0m         \u001b[0mprint\u001b[0m\u001b[0;34m(\u001b[0m\u001b[0;34m'aftersig call'\u001b[0m\u001b[0;34m,\u001b[0m \u001b[0msig_w\u001b[0m\u001b[0;34m[\u001b[0m\u001b[0;34m...\u001b[0m\u001b[0;34m,\u001b[0m\u001b[0;34m-\u001b[0m\u001b[0;36m5\u001b[0m\u001b[0;34m:\u001b[0m\u001b[0;34m]\u001b[0m\u001b[0;34m)\u001b[0m\u001b[0;34m\u001b[0m\u001b[0;34m\u001b[0m\u001b[0m\n",
      "\u001b[0;31mIndexError\u001b[0m: too many indices for array: array is 0-dimensional, but 1 were indexed"
     ]
    }
   ],
   "source": [
    "dcl.dsf.dic_grid.sz_bd.matrix_.get_sig_a(dcl.items[1].U1_Kb[-1, :])"
   ]
  },
  {
   "cell_type": "code",
   "execution_count": 18,
   "id": "e54186b5-4180-4c3e-b38e-3b84486169bf",
   "metadata": {},
   "outputs": [
    {
     "ename": "IndexError",
     "evalue": "too many indices for array: array is 0-dimensional, but 1 were indexed",
     "output_type": "error",
     "traceback": [
      "\u001b[0;31m---------------------------------------------------------------------------\u001b[0m",
      "\u001b[0;31mIndexError\u001b[0m                                Traceback (most recent call last)",
      "\u001b[0;32m<ipython-input-18-fd35ea192dbe>\u001b[0m in \u001b[0;36m<module>\u001b[0;34m\u001b[0m\n\u001b[0;32m----> 1\u001b[0;31m \u001b[0mdcl\u001b[0m\u001b[0;34m.\u001b[0m\u001b[0mdsf\u001b[0m\u001b[0;34m.\u001b[0m\u001b[0mdic_grid\u001b[0m\u001b[0;34m.\u001b[0m\u001b[0msz_bd\u001b[0m\u001b[0;34m.\u001b[0m\u001b[0mmatrix_\u001b[0m\u001b[0;34m.\u001b[0m\u001b[0mget_sig_a\u001b[0m\u001b[0;34m(\u001b[0m\u001b[0mdcl\u001b[0m\u001b[0;34m.\u001b[0m\u001b[0mitems\u001b[0m\u001b[0;34m[\u001b[0m\u001b[0;36m1\u001b[0m\u001b[0;34m]\u001b[0m\u001b[0;34m.\u001b[0m\u001b[0mU1_Kb\u001b[0m\u001b[0;34m[\u001b[0m\u001b[0;34m-\u001b[0m\u001b[0;36m1\u001b[0m\u001b[0;34m,\u001b[0m \u001b[0;34m:\u001b[0m\u001b[0;34m]\u001b[0m\u001b[0;34m)\u001b[0m\u001b[0;34m\u001b[0m\u001b[0;34m\u001b[0m\u001b[0m\n\u001b[0m",
      "\u001b[0;32m~/PycharmProjects/bmcs_shear_zone/bmcs_shear/matmod/sz_concrete/sz_advanced/sz_advanced.py\u001b[0m in \u001b[0;36mget_sig_a\u001b[0;34m(self, u_a)\u001b[0m\n\u001b[1;32m    168\u001b[0m         '''Calculating stresses\n\u001b[1;32m    169\u001b[0m         '''\n\u001b[0;32m--> 170\u001b[0;31m         \u001b[0msig_w\u001b[0m \u001b[0;34m=\u001b[0m \u001b[0mself\u001b[0m\u001b[0;34m.\u001b[0m\u001b[0mget_sig_w\u001b[0m\u001b[0;34m(\u001b[0m\u001b[0mu_a\u001b[0m\u001b[0;34m[\u001b[0m\u001b[0;34m...\u001b[0m\u001b[0;34m,\u001b[0m\u001b[0;36m0\u001b[0m\u001b[0;34m]\u001b[0m\u001b[0;34m,\u001b[0m\u001b[0mu_a\u001b[0m\u001b[0;34m[\u001b[0m\u001b[0;34m...\u001b[0m\u001b[0;34m,\u001b[0m\u001b[0;36m1\u001b[0m\u001b[0;34m]\u001b[0m\u001b[0;34m)\u001b[0m\u001b[0;34m\u001b[0m\u001b[0;34m\u001b[0m\u001b[0m\n\u001b[0m\u001b[1;32m    171\u001b[0m         \u001b[0mtau_s\u001b[0m \u001b[0;34m=\u001b[0m \u001b[0mself\u001b[0m\u001b[0;34m.\u001b[0m\u001b[0mget_tau_s\u001b[0m\u001b[0;34m(\u001b[0m\u001b[0mu_a\u001b[0m\u001b[0;34m[\u001b[0m\u001b[0;34m...\u001b[0m\u001b[0;34m,\u001b[0m\u001b[0;36m0\u001b[0m\u001b[0;34m]\u001b[0m\u001b[0;34m,\u001b[0m\u001b[0mu_a\u001b[0m\u001b[0;34m[\u001b[0m\u001b[0;34m...\u001b[0m\u001b[0;34m,\u001b[0m\u001b[0;36m1\u001b[0m\u001b[0;34m]\u001b[0m\u001b[0;34m)\u001b[0m\u001b[0;34m\u001b[0m\u001b[0;34m\u001b[0m\u001b[0m\n\u001b[1;32m    172\u001b[0m         \u001b[0;32mreturn\u001b[0m \u001b[0mnp\u001b[0m\u001b[0;34m.\u001b[0m\u001b[0meinsum\u001b[0m\u001b[0;34m(\u001b[0m\u001b[0;34m'b...->...b'\u001b[0m\u001b[0;34m,\u001b[0m \u001b[0mnp\u001b[0m\u001b[0;34m.\u001b[0m\u001b[0marray\u001b[0m\u001b[0;34m(\u001b[0m\u001b[0;34m[\u001b[0m\u001b[0msig_w\u001b[0m\u001b[0;34m,\u001b[0m \u001b[0mtau_s\u001b[0m\u001b[0;34m]\u001b[0m\u001b[0;34m,\u001b[0m \u001b[0mdtype\u001b[0m\u001b[0;34m=\u001b[0m\u001b[0mnp\u001b[0m\u001b[0;34m.\u001b[0m\u001b[0mfloat_\u001b[0m\u001b[0;34m)\u001b[0m\u001b[0;34m)\u001b[0m \u001b[0;31m#, tau_s\u001b[0m\u001b[0;34m\u001b[0m\u001b[0;34m\u001b[0m\u001b[0m\n",
      "\u001b[0;32m~/PycharmProjects/bmcs_shear_zone/bmcs_shear/matmod/sz_concrete/sz_advanced/sz_advanced.py\u001b[0m in \u001b[0;36mget_sig_w\u001b[0;34m(self, w, s)\u001b[0m\n\u001b[1;32m    173\u001b[0m \u001b[0;34m\u001b[0m\u001b[0m\n\u001b[1;32m    174\u001b[0m     \u001b[0;32mdef\u001b[0m \u001b[0mget_sig_w\u001b[0m\u001b[0;34m(\u001b[0m\u001b[0mself\u001b[0m\u001b[0;34m,\u001b[0m\u001b[0mw\u001b[0m\u001b[0;34m,\u001b[0m \u001b[0ms\u001b[0m\u001b[0;34m)\u001b[0m\u001b[0;34m:\u001b[0m\u001b[0;34m\u001b[0m\u001b[0;34m\u001b[0m\u001b[0m\n\u001b[0;32m--> 175\u001b[0;31m         \u001b[0mprint\u001b[0m\u001b[0;34m(\u001b[0m\u001b[0;34m'before sig call'\u001b[0m\u001b[0;34m,\u001b[0m \u001b[0mw\u001b[0m\u001b[0;34m[\u001b[0m\u001b[0;34m...\u001b[0m\u001b[0;34m,\u001b[0m\u001b[0;34m-\u001b[0m\u001b[0;36m5\u001b[0m\u001b[0;34m:\u001b[0m\u001b[0;34m]\u001b[0m\u001b[0;34m)\u001b[0m\u001b[0;34m\u001b[0m\u001b[0;34m\u001b[0m\u001b[0m\n\u001b[0m\u001b[1;32m    176\u001b[0m         \u001b[0msig_w\u001b[0m \u001b[0;34m=\u001b[0m \u001b[0mself\u001b[0m\u001b[0;34m.\u001b[0m\u001b[0msymb\u001b[0m\u001b[0;34m.\u001b[0m\u001b[0mget_sig_w\u001b[0m\u001b[0;34m(\u001b[0m\u001b[0mw\u001b[0m\u001b[0;34m,\u001b[0m \u001b[0ms\u001b[0m\u001b[0;34m)\u001b[0m\u001b[0;34m\u001b[0m\u001b[0;34m\u001b[0m\u001b[0m\n\u001b[1;32m    177\u001b[0m         \u001b[0mprint\u001b[0m\u001b[0;34m(\u001b[0m\u001b[0;34m'aftersig call'\u001b[0m\u001b[0;34m,\u001b[0m \u001b[0msig_w\u001b[0m\u001b[0;34m[\u001b[0m\u001b[0;34m...\u001b[0m\u001b[0;34m,\u001b[0m\u001b[0;34m-\u001b[0m\u001b[0;36m5\u001b[0m\u001b[0;34m:\u001b[0m\u001b[0;34m]\u001b[0m\u001b[0;34m)\u001b[0m\u001b[0;34m\u001b[0m\u001b[0;34m\u001b[0m\u001b[0m\n",
      "\u001b[0;31mIndexError\u001b[0m: too many indices for array: array is 0-dimensional, but 1 were indexed"
     ]
    }
   ],
   "source": [
    "dcl.dsf.dic_grid.sz_bd.matrix_.get_sig_a(dcl.items[1].U1_Kb[-1, :])"
   ]
  },
  {
   "cell_type": "code",
   "execution_count": null,
   "id": "392c661a-1daf-46d4-9fa7-2e2863ff1c20",
   "metadata": {},
   "outputs": [],
   "source": []
  },
  {
   "cell_type": "code",
   "execution_count": 11,
   "id": "70525ca9-29f7-47bd-b152-c578249227e4",
   "metadata": {},
   "outputs": [
    {
     "data": {
      "application/vnd.jupyter.widget-view+json": {
       "model_id": "ea77c6da0b654380831c23981cbe9acb",
       "version_major": 2,
       "version_minor": 0
      },
      "text/plain": [
       "VBox(children=(HBox(children=(VBox(children=(Tree(layout=Layout(align_items='stretch', border='solid 1px black…"
      ]
     },
     "metadata": {},
     "output_type": "display_data"
    }
   ],
   "source": [
    "dcl.dsf.interact()"
   ]
  },
  {
   "cell_type": "code",
   "execution_count": 7,
   "id": "8f4f0b51-6f5f-4aa0-a64d-185942a1700f",
   "metadata": {},
   "outputs": [
    {
     "data": {
      "text/plain": [
       "0"
      ]
     },
     "execution_count": 7,
     "metadata": {},
     "output_type": "execute_result"
    }
   ],
   "source": [
    "a_M = np.arange(3)\n",
    "b_N = np.arange(3, 3+4)\n",
    "c_T = np.arange(3+4, 3+4+5)\n",
    "a_MN, b_MN = np.meshgrid(a_M, b_N, indexing='ij')\n",
    "c_TMN, a_TMN, b_TMN = np.meshgrid(c_T, a_M, b_N, indexing='ij')\n",
    "C_TMN, A_TMN, B_TMN = np.broadcast_arrays(c_T[:, np.newaxis, np.newaxis],\n",
    "                                          a_MN[np.newaxis, :, :], \n",
    "                                          b_MN[np.newaxis, :, :], \n",
    "                                          )\n",
    "np.sum(b_TMN - B_TMN)"
   ]
  },
  {
   "cell_type": "markdown",
   "id": "2ab5e907-f21a-4eef-bf42-525b3510ec82",
   "metadata": {},
   "source": [
    "## Reverse crack detection \n",
    "\n",
    " * Get the crack detection field and the primary cracks\n",
    "   detected at the state of the mature cracking stage, \n",
    "   i.e. near the ultimate load."
   ]
  },
  {
   "cell_type": "markdown",
   "id": "0e4b87c0-7b43-4831-927a-04a92bcb0386",
   "metadata": {},
   "source": [
    "### How to access the values of crack detection field at the crack tip"
   ]
  },
  {
   "cell_type": "code",
   "execution_count": 18,
   "id": "87efd187-83d8-4711-974d-bc14fd7e8dfb",
   "metadata": {},
   "outputs": [],
   "source": [
    "def get_crack_t(eta = 0.95):\n",
    "    '''Get the crack history starting with the critical\n",
    "    '''\n",
    "    # identify the near feilure crack pattern\n",
    "    t_eta_idx = dcl.dsf.dic_grid.get_F_eta_dic_idx(eta)\n",
    "    dcl.dsf.dic_grid.end_t = t_eta_idx\n",
    "    xx_NC, yy_NC, N_tip_C, M_NC = dcl.primary_cracks\n",
    "    # pripare the list of crack tip states as a funciton of t\n",
    "    N_tip_Ct = np.zeros((len(N_tip_C), t_eta_idx+1), np.int_)\n",
    "    M_tip_Ct = np.zeros_like(N_tip_Ct)\n",
    "    print('t_idx: ', end='')\n",
    "    for t_idx in range(t_eta_idx, -1, -1):\n",
    "        N_tip_C = np.copy(N_tip_C)\n",
    "        N_tip_Ct[:, t_idx] = np.copy(N_tip_C)\n",
    "        M_tip_Ct[:, t_idx] = M_NC[N_tip_C, np.arange(len(N_tip_C))]\n",
    "        print(t_idx, end=' ')\n",
    "        # get the crack detection field for the current time index\n",
    "        dcl.dsf.dic_grid.end_t = t_idx\n",
    "        _, _, cdf_MN = dcl.dsf.crack_detection_field\n",
    "        # for each crack get the indexes starting from the current tip\n",
    "        N_tip_CN = [np.arange(N_tip, -1, -1) for N_tip in N_tip_C]\n",
    "        M_tip_CN = [M_NC[N_tip_t, C] for C, N_tip_t in enumerate(N_tip_CN)]\n",
    "        # evaluate crack detection field along each crack\n",
    "        cdf_CN = [cdf_MN[M_tip_N, N_tip_N] \n",
    "                  for M_tip_N, N_tip_N in zip(M_tip_CN, N_tip_CN)]\n",
    "        # if cdf is zero completely - the crack did not emerge yet\n",
    "        cdf_nonzero_C = np.array([np.sum(cdf_N) for cdf_N in cdf_CN]) > 0\n",
    "        # find the row index distance from the tip with damage larger \n",
    "        # than threshold\n",
    "        dN_C = np.array([np.argmax(cdf_C >= 0.2) for cdf_C in cdf_CN])\n",
    "        N_tip_C[cdf_nonzero_C] -= dN_C[cdf_nonzero_C]\n",
    "        N_tip_C[np.logical_not(cdf_nonzero_C)] = 0\n",
    "    return M_tip_Ct, N_tip_Ct"
   ]
  },
  {
   "cell_type": "code",
   "execution_count": 19,
   "id": "cbb9ad47-4090-4ce1-8dd0-2c213b03bced",
   "metadata": {},
   "outputs": [
    {
     "name": "stdout",
     "output_type": "stream",
     "text": [
      "t_idx: 18 17 16 15 14 13 12 11 10 9 8 7 6 5 4 3 2 1 0 "
     ]
    },
    {
     "data": {
      "text/plain": [
       "(array([[ 9,  9,  9,  9,  9, 10, 10, 10, 10,  9,  9,  8,  7,  6,  6,  6,\n",
       "          6,  6,  6],\n",
       "        [17, 17, 16, 16, 15, 14, 14, 13, 13, 13, 13, 13, 13, 13, 13, 13,\n",
       "         13, 13, 13],\n",
       "        [29, 29, 29, 29, 29, 28, 28, 27, 27, 27, 27, 27, 27, 27, 26, 26,\n",
       "         26, 26, 26],\n",
       "        [43, 43, 43, 42, 41, 40, 40, 40, 39, 39, 39, 39, 38, 38, 38, 38,\n",
       "         38, 38, 38],\n",
       "        [62, 62, 62, 62, 61, 60, 60, 60, 60, 60, 59, 58, 57, 56, 56, 56,\n",
       "         56, 56, 56],\n",
       "        [76, 76, 76, 76, 76, 76, 76, 76, 75, 74, 74, 74, 74, 74, 74, 74,\n",
       "         74, 74, 74],\n",
       "        [94, 94, 94, 94, 94, 94, 94, 94, 94, 94, 94, 95, 95, 95, 94, 92,\n",
       "         92, 92, 92]]),\n",
       " array([[ 0,  0,  0,  0,  0,  2,  5,  7,  7,  9,  9, 14, 16, 18, 19, 19,\n",
       "         19, 19, 19],\n",
       "        [ 0,  0,  5, 11, 15, 16, 17, 18, 18, 18, 18, 18, 18, 18, 18, 18,\n",
       "         18, 18, 18],\n",
       "        [ 0,  0,  0,  1,  7,  9,  9, 12, 12, 15, 15, 16, 16, 16, 17, 17,\n",
       "         17, 17, 17],\n",
       "        [ 0,  0,  0,  8, 12, 15, 15, 15, 16, 16, 18, 18, 19, 19, 19, 19,\n",
       "         19, 19, 19],\n",
       "        [ 0,  0,  0,  0,  3,  7,  8, 12, 12, 13, 14, 16, 17, 19, 19, 19,\n",
       "         19, 19, 19],\n",
       "        [ 0,  0,  0,  0,  3,  3,  4,  6, 10, 11, 11, 15, 16, 16, 16, 16,\n",
       "         16, 16, 16],\n",
       "        [ 0,  0,  0,  0,  0,  0,  0,  0,  0,  0,  0,  6,  7,  7,  8, 10,\n",
       "         10, 10, 10]]))"
      ]
     },
     "execution_count": 19,
     "metadata": {},
     "output_type": "execute_result"
    }
   ],
   "source": [
    "get_crack_t()"
   ]
  },
  {
   "cell_type": "code",
   "execution_count": 8,
   "id": "ef219434-21bb-4f7b-8697-fffcaf212315",
   "metadata": {},
   "outputs": [
    {
     "name": "stdout",
     "output_type": "stream",
     "text": [
      "t_idx: 18 17 16 15 14 13 12 11 10 9 8 7 6 5 4 3 2 1 0 "
     ]
    },
    {
     "data": {
      "text/plain": [
       "([array([ 6, 13, 26, 38, 56, 74, 92]),\n",
       "  array([ 6, 13, 26, 38, 56, 74, 92]),\n",
       "  array([ 6, 13, 26, 38, 56, 74, 92]),\n",
       "  array([ 6, 13, 26, 38, 56, 74, 92]),\n",
       "  array([ 6, 13, 26, 38, 56, 74, 94]),\n",
       "  array([ 6, 13, 27, 38, 56, 74, 95]),\n",
       "  array([ 7, 13, 27, 38, 57, 74, 95]),\n",
       "  array([ 8, 13, 27, 39, 58, 74, 95]),\n",
       "  array([ 9, 13, 27, 39, 59, 74, 95]),\n",
       "  array([ 9, 13, 27, 39, 60, 74, 95]),\n",
       "  array([10, 13, 27, 39, 60, 75, 95]),\n",
       "  array([10, 13, 27, 40, 60, 76, 95]),\n",
       "  array([10, 14, 28, 40, 60, 76, 95]),\n",
       "  array([10, 14, 28, 40, 60, 76, 95]),\n",
       "  array([10, 15, 29, 41, 61, 76, 95]),\n",
       "  array([10, 16, 29, 42, 61, 76, 95]),\n",
       "  array([10, 16, 29, 42, 61, 76, 95]),\n",
       "  array([10, 16, 29, 42, 61, 76, 95]),\n",
       "  array([10, 16, 29, 42, 61, 76, 95])],\n",
       " [array([19, 18, 17, 19, 19, 16, 10]),\n",
       "  array([19, 18, 17, 19, 19, 16, 10]),\n",
       "  array([19, 18, 17, 19, 19, 16, 10]),\n",
       "  array([19, 18, 17, 19, 19, 16, 10]),\n",
       "  array([19, 18, 17, 19, 19, 16,  8]),\n",
       "  array([18, 18, 16, 19, 19, 16,  7]),\n",
       "  array([16, 18, 16, 19, 17, 16,  7]),\n",
       "  array([14, 18, 16, 18, 16, 15,  6]),\n",
       "  array([ 9, 18, 15, 18, 14, 11,  6]),\n",
       "  array([ 9, 18, 15, 16, 13, 11,  6]),\n",
       "  array([ 7, 18, 12, 16, 12, 10,  6]),\n",
       "  array([ 7, 18, 12, 15, 12,  6,  6]),\n",
       "  array([ 5, 17,  9, 15,  8,  4,  6]),\n",
       "  array([ 2, 16,  9, 15,  7,  3,  6]),\n",
       "  array([ 2, 15,  7, 12,  3,  3,  6]),\n",
       "  array([ 2, 11,  1,  8,  3,  3,  6]),\n",
       "  array([2, 5, 1, 8, 3, 3, 6]),\n",
       "  array([2, 5, 1, 8, 3, 3, 6]),\n",
       "  array([2, 5, 1, 8, 3, 3, 6])])"
      ]
     },
     "execution_count": 8,
     "metadata": {},
     "output_type": "execute_result"
    }
   ],
   "source": [
    "dcl.cracks_t"
   ]
  },
  {
   "cell_type": "code",
   "execution_count": 40,
   "id": "31cabce3-f500-4616-b41e-39c59337e8c3",
   "metadata": {},
   "outputs": [
    {
     "data": {
      "text/plain": [
       "(116, 28)"
      ]
     },
     "execution_count": 40,
     "metadata": {},
     "output_type": "execute_result"
    }
   ],
   "source": [
    "_, _, cdf_eta_MN = dcl.dsf.crack_detection_field"
   ]
  },
  {
   "cell_type": "code",
   "execution_count": 27,
   "id": "c1be16c5-a723-4d0d-ad7e-286deead69f1",
   "metadata": {},
   "outputs": [],
   "source": [
    "xx_NC, yy_NC, N_tip_C, M_NC = dcl.primary_cracks"
   ]
  },
  {
   "cell_type": "code",
   "execution_count": 28,
   "id": "380f33a8-66a1-4371-8186-f546bc6ecf17",
   "metadata": {},
   "outputs": [
    {
     "data": {
      "text/plain": [
       "array([19, 18, 17, 19, 19, 16, 10])"
      ]
     },
     "execution_count": 28,
     "metadata": {},
     "output_type": "execute_result"
    }
   ],
   "source": [
    "N_tip_C"
   ]
  },
  {
   "cell_type": "code",
   "execution_count": 29,
   "id": "75f0340d-ad33-486f-a4ef-0fcc37975215",
   "metadata": {},
   "outputs": [],
   "source": [
    "M_tip_C = M_NC[N_tip_C,np.arange(len(N_tip_C))]"
   ]
  },
  {
   "cell_type": "code",
   "execution_count": 30,
   "id": "9459ad9f-2ae4-4686-9e54-159eefbaf419",
   "metadata": {},
   "outputs": [
    {
     "data": {
      "text/plain": [
       "array([ 6, 13, 26, 38, 56, 74, 92])"
      ]
     },
     "execution_count": 30,
     "metadata": {},
     "output_type": "execute_result"
    }
   ],
   "source": [
    "M_tip_C"
   ]
  },
  {
   "cell_type": "code",
   "execution_count": 31,
   "id": "ad46024b-cec2-448c-b6cd-7206382a4b9e",
   "metadata": {},
   "outputs": [
    {
     "data": {
      "text/plain": [
       "array([0.24249924, 0.27093637, 0.22398292, 0.38911079, 0.23217991,\n",
       "       0.24228758, 0.2987822 ])"
      ]
     },
     "execution_count": 31,
     "metadata": {},
     "output_type": "execute_result"
    }
   ],
   "source": [
    "cdf_eta_MN[M_tip_C, N_tip_C]"
   ]
  },
  {
   "cell_type": "code",
   "execution_count": 35,
   "id": "3e503094-0407-42a5-9572-949b95e47cc0",
   "metadata": {},
   "outputs": [],
   "source": [
    "dcl.dsf.dic_grid.end_t = t_eta_idx - 1"
   ]
  },
  {
   "cell_type": "code",
   "execution_count": 36,
   "id": "24faac86-987c-497e-8f8f-d82b21df2985",
   "metadata": {},
   "outputs": [
    {
     "data": {
      "text/plain": [
       "(116, 28)"
      ]
     },
     "execution_count": 36,
     "metadata": {},
     "output_type": "execute_result"
    }
   ],
   "source": [
    "_, _, cdf_MN = dcl.dsf.crack_detection_field\n",
    "cdf_MN.shape"
   ]
  },
  {
   "cell_type": "code",
   "execution_count": 38,
   "id": "2c59d4eb-d9a2-4250-86c5-60f4f112cb56",
   "metadata": {},
   "outputs": [
    {
     "data": {
      "text/plain": [
       "array([0.2102562 , 0.33028572, 0.22957975, 0.28097628, 0.31755808,\n",
       "       0.30542646, 0.2718454 ])"
      ]
     },
     "execution_count": 38,
     "metadata": {},
     "output_type": "execute_result"
    }
   ],
   "source": [
    "cdf_MN[M_tip_C, N_tip_C]"
   ]
  },
  {
   "cell_type": "code",
   "execution_count": null,
   "id": "1e901cfc-f10e-4555-b458-0c859a9f36d7",
   "metadata": {},
   "outputs": [],
   "source": []
  },
  {
   "cell_type": "markdown",
   "id": "a2a6f7c0-8529-4fb9-a220-dfbdb850973a",
   "metadata": {},
   "source": [
    "### How to access the crack detection field for lower load levels"
   ]
  },
  {
   "cell_type": "code",
   "execution_count": 15,
   "id": "cf7a1b35-57b6-41e0-83b6-33e2bcc244e2",
   "metadata": {},
   "outputs": [
    {
     "data": {
      "text/plain": [
       "11"
      ]
     },
     "execution_count": 15,
     "metadata": {},
     "output_type": "execute_result"
    }
   ],
   "source": [
    "dcl.dsf.dic_grid.end_t"
   ]
  },
  {
   "cell_type": "code",
   "execution_count": 16,
   "id": "b31dc6a5-9fd1-47fb-809f-7c20d4e08376",
   "metadata": {},
   "outputs": [],
   "source": [
    "sp = dcl.items[3]"
   ]
  },
  {
   "cell_type": "code",
   "execution_count": 17,
   "id": "ab391dd4-4528-44b5-83a8-1b8eada2ed1e",
   "metadata": {},
   "outputs": [
    {
     "data": {
      "text/plain": [
       "array([423.21144987, 235.67818428])"
      ]
     },
     "execution_count": 17,
     "metadata": {},
     "output_type": "execute_result"
    }
   ],
   "source": [
    "sp.X_neutral_a"
   ]
  },
  {
   "cell_type": "code",
   "execution_count": 18,
   "id": "93aac55b-c262-4d3e-a62b-81d6abcf25ae",
   "metadata": {},
   "outputs": [],
   "source": [
    "x_00 = sp.dic_crack.C_cubic_spline(sp.z_N)"
   ]
  },
  {
   "cell_type": "code",
   "execution_count": 19,
   "id": "6b99f6bf-f63a-4ace-a77e-130c5b34dda9",
   "metadata": {},
   "outputs": [
    {
     "data": {
      "text/plain": [
       "array([472.76657979])"
      ]
     },
     "execution_count": 19,
     "metadata": {},
     "output_type": "execute_result"
    }
   ],
   "source": [
    "x_00"
   ]
  },
  {
   "cell_type": "code",
   "execution_count": 20,
   "id": "c0d83490-c8a8-44c0-9990-6ce791caa9ac",
   "metadata": {},
   "outputs": [
    {
     "data": {
      "text/plain": [
       "nan"
      ]
     },
     "execution_count": 20,
     "metadata": {},
     "output_type": "execute_result"
    }
   ],
   "source": [
    "sp.M"
   ]
  },
  {
   "cell_type": "code",
   "execution_count": 11,
   "id": "d01f6b62-6393-475a-9783-db3922c08176",
   "metadata": {},
   "outputs": [
    {
     "data": {
      "application/vnd.jupyter.widget-view+json": {
       "model_id": "a1e74607554b4063b9d7b06f8fdfb2dc",
       "version_major": 2,
       "version_minor": 0
      },
      "text/plain": [
       "VBox(children=(HBox(children=(VBox(children=(Tree(layout=Layout(align_items='stretch', border='solid 1px black…"
      ]
     },
     "metadata": {},
     "output_type": "display_data"
    }
   ],
   "source": [
    "dcl.interact()"
   ]
  },
  {
   "cell_type": "code",
   "execution_count": 12,
   "id": "52c2900d-353a-4d80-a8f4-c49e4cee7379",
   "metadata": {},
   "outputs": [],
   "source": [
    "crack_0 = dcl.items[2]"
   ]
  },
  {
   "cell_type": "code",
   "execution_count": 13,
   "id": "b35fd859-cd37-45f0-a812-555a9affc208",
   "metadata": {},
   "outputs": [
    {
     "data": {
      "text/plain": [
       "(nan, nan)"
      ]
     },
     "execution_count": 13,
     "metadata": {},
     "output_type": "execute_result"
    }
   ],
   "source": [
    "crack_0.pos_F_y"
   ]
  },
  {
   "cell_type": "code",
   "execution_count": 9,
   "id": "cfb6ff25-6524-455f-b54f-6f4de6f6d6f8",
   "metadata": {},
   "outputs": [
    {
     "data": {
      "application/vnd.jupyter.widget-view+json": {
       "model_id": "2cd945eed0d044d2ade087920b8edae1",
       "version_major": 2,
       "version_minor": 0
      },
      "text/plain": [
       "Canvas(toolbar=Toolbar(toolitems=[('Home', 'Reset original view', 'home', 'home'), ('Back', 'Back to previous …"
      ]
     },
     "metadata": {},
     "output_type": "display_data"
    },
    {
     "data": {
      "text/plain": [
       "(248.36770344360858, 480.1367773488707, -7.550799748321647, 274.79547068760746)"
      ]
     },
     "execution_count": 9,
     "metadata": {},
     "output_type": "execute_result"
    }
   ],
   "source": [
    "fig, ax = plt.subplots(1,1)\n",
    "crack_0.dic_crack.plot_u_Nib(ax)\n",
    "crack_0.dic_crack.plot_x_Na(ax)\n",
    "crack_0.plot_COR(ax)\n",
    "crack_0.plot_cor_markers(ax)\n",
    "ax.axis('equal')"
   ]
  },
  {
   "cell_type": "code",
   "execution_count": null,
   "id": "320aa8df-2c2f-4558-a0b3-85f2f57c3262",
   "metadata": {},
   "outputs": [],
   "source": [
    "crack_0.M_N[20]"
   ]
  },
  {
   "cell_type": "code",
   "execution_count": null,
   "id": "14fe59bd-94bc-4b0c-8f08-132b8bcf4757",
   "metadata": {},
   "outputs": [],
   "source": [
    "dc_cor = DICCrackCOR(dic_crack=dcl.items[2])"
   ]
  },
  {
   "cell_type": "code",
   "execution_count": null,
   "id": "12070508-4ab0-43dc-9c55-1f515fa2ae30",
   "metadata": {},
   "outputs": [],
   "source": [
    "dc_cor.M_N.dtype"
   ]
  },
  {
   "cell_type": "code",
   "execution_count": null,
   "id": "6b344a05-7d62-4b2e-963e-f4263a89bbd2",
   "metadata": {},
   "outputs": [],
   "source": [
    "slice_M_N = slice(dc_cor.M_N,dc_cor.M_N+3)"
   ]
  },
  {
   "cell_type": "code",
   "execution_count": null,
   "id": "fa1355b6-eb55-493f-820d-039f557a2f93",
   "metadata": {},
   "outputs": [],
   "source": [
    "X_mNa = np.array([dc_cor.X_MNa[dc_cor.M_N+i, np.arange(len(dc_cor.M_N))] for i in range(5)])"
   ]
  },
  {
   "cell_type": "code",
   "execution_count": null,
   "id": "95171df6-d6f2-4c4a-bb9a-73cc744609b0",
   "metadata": {},
   "outputs": [],
   "source": [
    "X_mNa[-1,0]"
   ]
  },
  {
   "cell_type": "code",
   "execution_count": null,
   "id": "e0590c3a-0abd-46fd-833d-16406443d955",
   "metadata": {},
   "outputs": [],
   "source": [
    "dc_cor.M0"
   ]
  },
  {
   "cell_type": "code",
   "execution_count": null,
   "id": "6dfe3c0e-d231-4d98-8490-a588bcd75cd1",
   "metadata": {},
   "outputs": [],
   "source": [
    "dc_cor.interact()"
   ]
  },
  {
   "cell_type": "code",
   "execution_count": null,
   "id": "2bf86666-0ab5-4591-9ca3-f44aaa33b7e4",
   "metadata": {},
   "outputs": [],
   "source": [
    "dc_cor.X0_a - dc_cor.U0_a"
   ]
  },
  {
   "cell_type": "code",
   "execution_count": 19,
   "id": "d7b10baf-4323-4222-a2cb-ccbf93c698ec",
   "metadata": {},
   "outputs": [
    {
     "data": {
      "text/plain": [
       "array([[330.87272231,   4.85905338],\n",
       "       [330.87254552,  13.86303457],\n",
       "       [330.87358701,  22.868741  ],\n",
       "       [330.87234085,  31.88218863],\n",
       "       [330.87220829,  40.89703656]])"
      ]
     },
     "execution_count": 19,
     "metadata": {},
     "output_type": "execute_result"
    }
   ],
   "source": [
    "dc_cor.x_ref_MNa_scaled[dc_cor.M0, :dc_cor.N0_max]"
   ]
  },
  {
   "cell_type": "code",
   "execution_count": null,
   "id": "687bbc1c-dc35-4496-97e3-1c1462ff4162",
   "metadata": {},
   "outputs": [],
   "source": []
  },
  {
   "cell_type": "code",
   "execution_count": null,
   "id": "6b7c63aa-55b3-4480-9768-b3915f84c8b9",
   "metadata": {},
   "outputs": [],
   "source": []
  }
 ],
 "metadata": {
  "kernelspec": {
   "display_name": "bmcs_env",
   "language": "python",
   "name": "bmcs_env"
  },
  "language_info": {
   "codemirror_mode": {
    "name": "ipython",
    "version": 3
   },
   "file_extension": ".py",
   "mimetype": "text/x-python",
   "name": "python",
   "nbconvert_exporter": "python",
   "pygments_lexer": "ipython3",
   "version": "3.9.0"
  }
 },
 "nbformat": 4,
 "nbformat_minor": 5
}
