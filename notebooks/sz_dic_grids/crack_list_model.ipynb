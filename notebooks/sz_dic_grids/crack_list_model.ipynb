{
 "cells": [
  {
   "cell_type": "markdown",
   "id": "e43222ac-fdc6-44a2-8afe-dfae159e8df1",
   "metadata": {
    "pycharm": {
     "name": "#%% md\n"
    }
   },
   "source": [
    "# Current to do's 2022-28\n",
    "\n",
    "- naming of coordinates - x horizontal, y vertical - encapsulate the differences in dic_grid, so that any further level works \n",
    "   without swapping\n",
    " - extend interpolation in dsf to cdf - including the time index - this will allow for the crack detection and spline representation    of the functions \n",
    "$$\n",
    "\\omega_C( t, y )\n",
    "$$\n",
    " - use this function to determine\n",
    "$$\n",
    "y^\\mathrm{tip}_C( t )\n",
    "$$ \n",
    "$$\n",
    "\\Delta u_{Ca}( y, t ) = u( x+r, y, t ) - u( x-r, y, t ) \n",
    "$$\n",
    " - Constitutive laws applied across the crack ligament\n",
    "$$\n",
    " \\sigma_{Cab}(y, t) = \\mathcal{S}_{ab}(\\Delta u{Ca}(y, t))\n",
    "$$\n",
    " - distinguish the change events - finer resolution of the tag types (TIME, ALG, MESH)."
   ]
  },
  {
   "cell_type": "markdown",
   "id": "a89177ca-df71-4964-869b-bb2f5814741c",
   "metadata": {
    "pycharm": {
     "name": "#%% md\n"
    }
   },
   "source": [
    "# Crack detection strategy\n",
    "\n",
    "The detection algorithm uses the knowledge about shear crack propagation \n",
    " - distance between cracks is related to the shielded length given by the reinforcement ratio      and bond properties\n",
    " - cracks start from the bottom of the cross section\n",
    " - cracks propagate upwards and bend in the direction of an increasing cross-sectional moment\n",
    " \n",
    "The crack pattern in the shear zone gets most visible prior shortly before the maximum load has been reached. Near to the failure, the regularity of the crack pattern is lost and the specimen cannot be viewed as a series of individual shear cracks any more. The initiation of failure via a horizontal crossing crack initiated by a vertical stress component is initiated either near the reinforcement layer due to the dowel action or by a crack tip propagating horizontally through a compression zone.\n",
    "\n",
    "## Full crack detection strategy\n",
    "\n",
    "This observation is exploited by the crack detection algorithm by adapting the following strategy. \n",
    "\n",
    " - The displacement field $U_{IJa}^{F_\\gamma}$ corresponding to $F_{\\gamma} = 0.9 F_{\\max}$ is taken first to calculate the strain, damage and stress fields.\n",
    " - The DIC-FE state fields are interpolated and smoothed as a basis for the crack detection step. The crack detection algorithm is employed to detect the crack path $\\mathcal{C}(F_\\gamma)$ at the near-failure level of load. The algorithm delivers the crack tip positions.\n",
    " - The obtained crack path is then refined by analyzing the cracking process in reverse order $F = [F_\\gamma, 0]$. The difference between damage fields $\\omega_{MN}(F_\\gamma)$ and $\\omega_{MN}(F), n = [0, n_C-1]$  obtained using DIC-FE-MDM calculation for each $U_{IJa}$ state are analyzed to refine the crack geometry in the previous states of loading. After that, the load range between the crack detection state and the ultimate load is analyzed based on the known cracking state at the level $F\\tilde{}$.\n",
    " - Define a spline function representing the damage along the crack\n",
    " \n",
    "## Current strategy\n",
    "\n",
    "The crack detection load level $\\gamma$ is used to identify the primary cracks. The cracks that develop at the level $\\gamma = 0.9$ up to the 0.4 of the cross sectional height are recognized as primary cracks. Partially, secondary cracks and noise in DIC data and FE approximation are avoided  by smoothing the damage field within a radius that reflects the element resolution / characteristic length? Currently, the primary cracks are identified first to obtain the crack zones."
   ]
  },
  {
   "cell_type": "markdown",
   "id": "bc301f3e-aefe-4cc0-a375-045063201701",
   "metadata": {
    "pycharm": {
     "name": "#%% md\n"
    }
   },
   "source": [
    "# Stress profile evaluation\n",
    "\n",
    " - M, N, Q - evaluated from the constitutive laws along the ligament\n",
    " - Crack-tip stress / strain / opening. \n",
    " - How to include the history of damage into the stress evaluation (softening law)\n"
   ]
  },
  {
   "cell_type": "markdown",
   "id": "1e676faa-e40a-4c0b-966e-b95f25f2af56",
   "metadata": {
    "pycharm": {
     "name": "#%% md\n"
    }
   },
   "source": [
    "## Constitutive laws along the ligament\n",
    "\n",
    "The transition between strain concentration and discrete crack representation is based on the threshold value of the critical strain $\\varepsilon_\\mathrm{cr}$. This value corresponds to the strain with the onset of softening, i.e.\n",
    "$$\n",
    " \\varepsilon_\\mathrm{cr} = \\mathrm{argmax}_\\varepsilon \\mathcal{S}(\\varepsilon).\n",
    "$$\n",
    "In case of a linear ascending branch, this relation is obtained as\n",
    "$$\n",
    " \\varepsilon_\\mathrm{cr} = \\frac{ f_\\mathrm{t} }{ E }\n",
    "$$"
   ]
  },
  {
   "cell_type": "markdown",
   "id": "6663955d-1aa6-4dbf-93bb-d850764477ca",
   "metadata": {
    "pycharm": {
     "name": "#%% md\n"
    }
   },
   "source": [
    "The stress in the ascending range is controlled by strain \n",
    "$$\n",
    "\\sigma_a\n",
    "  = \\left\\{  \n",
    " \\begin{array}{l}\n",
    " \\mathcal{S}(\\varepsilon)\\; \\mathrm{if} \\; \\varepsilon < \\varepsilon_\\mathrm{cr}\n",
    " \\\\\n",
    " \\mathcal{S}(w) \\; \\mathrm{otherwise}\n",
    " \\end{array}\n",
    " \\right.\n",
    "$$"
   ]
  },
  {
   "cell_type": "markdown",
   "id": "06ed2e1e-cc90-4322-a106-1e076d00fadb",
   "metadata": {
    "pycharm": {
     "name": "#%% md\n"
    }
   },
   "source": [
    "An alternative approach is to introduce an equivalent strain or yield function."
   ]
  },
  {
   "cell_type": "markdown",
   "id": "feb8639b-6125-402c-88f0-717e221a5afd",
   "metadata": {
    "pycharm": {
     "name": "#%% md\n"
    }
   },
   "source": [
    "# Todo\n",
    "\n",
    " - Add the extrapolation to include the top layer of the cross section [RC-done]\n",
    " - Separate the constitutive law for compression and tension [RC-done]\n",
    " - Include compression law considering the 3D stress state (plain stress)\n",
    " - In stress and force plot - align the ligament axis and show the capacity value for the reinforcement to indicate that it is yielding\n",
    " - bmcs_utils - improve the dependency management so that the tree nodes are not needed everywhere\n",
    " - Animation of the center of rotation - start with a localized crack up to 1/3 of the cross section"
   ]
  },
  {
   "cell_type": "markdown",
   "id": "91f9e03c",
   "metadata": {
    "pycharm": {
     "name": "#%% md\n"
    }
   },
   "source": [
    "# Questions\n",
    "\n",
    "- How to explain that the opening and sliding profiles are almost constant for shear crack while there is a center of rotation near the tip?"
   ]
  },
  {
   "cell_type": "code",
   "execution_count": null,
   "id": "7f03eef1-2ae3-4ba2-8740-e22aebd48b28",
   "metadata": {
    "pycharm": {
     "name": "#%%\n"
    }
   },
   "outputs": [],
   "source": [
    "%matplotlib widget\n",
    "import matplotlib.pylab as plt\n",
    "from bmcs_shear.dic_crack import\\\n",
    "    DICGrid, DICStateFields, DICCrackList, DICCrack, DICCrackCOR\n",
    "from bmcs_shear.shear_crack.crack_path import get_T_Lab\n",
    "import numpy as np\n",
    "np.seterr(divide='ignore', invalid='ignore');"
   ]
  },
  {
   "cell_type": "code",
   "execution_count": null,
   "id": "ee34bf85-6d51-4ca2-a05f-0bcb70a7725b",
   "metadata": {
    "pycharm": {
     "name": "#%%\n"
    }
   },
   "outputs": [],
   "source": [
    "dic_grid = DICGrid(U_factor=100, dir_name='B10_TV1', t=0.1)"
   ]
  },
  {
   "cell_type": "code",
   "execution_count": null,
   "id": "cf16c5bd",
   "metadata": {
    "jupyter": {
     "outputs_hidden": false
    },
    "pycharm": {
     "name": "#%%\n"
    }
   },
   "outputs": [],
   "source": [
    "submodels = []\n",
    "self= dic_grid\n",
    "for name in self.get_tree_items():\n",
    "    trait = self.trait(name)\n",
    "    trait_type = trait.trait_type\n",
    "    print('xtrait', trait_type)\n",
    "    name_ = trait_type.get_name_(name)\n",
    "    print('name', name_)\n",
    "    trait_ = getattr(self, name_, None)\n",
    "    print('trait', trait_)\n",
    "    if trait_ is None:\n",
    "        raise ValueError('trait %s not found in %s' % (name_, self))\n",
    "    submodels.append(trait_)\n"
   ]
  },
  {
   "cell_type": "code",
   "execution_count": null,
   "id": "e5832da5",
   "metadata": {
    "jupyter": {
     "outputs_hidden": false
    },
    "pycharm": {
     "name": "#%%\n"
    }
   },
   "outputs": [],
   "source": [
    "getattr(dic_grid, 'sz_bd')"
   ]
  },
  {
   "cell_type": "code",
   "execution_count": null,
   "id": "c5fc8f48",
   "metadata": {
    "jupyter": {
     "outputs_hidden": false
    },
    "pycharm": {
     "name": "#%%\n"
    }
   },
   "outputs": [],
   "source": [
    "dic_grid.interact()"
   ]
  },
  {
   "cell_type": "code",
   "execution_count": null,
   "id": "953ac2fa-d0a3-48d0-90b4-4cd0b9bf3c59",
   "metadata": {
    "pycharm": {
     "name": "#%%\n"
    }
   },
   "outputs": [],
   "source": [
    "l_cb = dic_grid.d_x * 1\n",
    "dsf = DICStateFields(dic_grid=dic_grid)\n",
    "dsf.tmodel_.trait_set(E=5000, c_T=0, nu=0.18, epsilon_0=0.0005, epsilon_f=0.02/l_cb, eps_max=0.005);\n",
    "dsf.tmodel_.G_f * dic_grid.d_x"
   ]
  },
  {
   "cell_type": "code",
   "execution_count": null,
   "id": "e87ba588-1916-4b89-ae14-b470ea3d8089",
   "metadata": {
    "pycharm": {
     "name": "#%%\n"
    }
   },
   "outputs": [],
   "source": [
    "dsf.eval()\n",
    "dsf.dic_grid.sz_bd.matrix_.L_cr = 30"
   ]
  },
  {
   "cell_type": "markdown",
   "id": "1a401943",
   "metadata": {
    "pycharm": {
     "name": "#%% md\n"
    }
   },
   "source": [
    "# Detect the cracks"
   ]
  },
  {
   "cell_type": "code",
   "execution_count": null,
   "id": "80555c92-c101-4b5d-874a-eac026ae139c",
   "metadata": {
    "pycharm": {
     "name": "#%%\n"
    }
   },
   "outputs": [],
   "source": [
    "dcl = DICCrackList(dsf=dsf, eta=1)"
   ]
  },
  {
   "cell_type": "code",
   "execution_count": null,
   "id": "38c3f98f-d11a-446c-a810-27971c396656",
   "metadata": {
    "pycharm": {
     "name": "#%%\n"
    }
   },
   "outputs": [],
   "source": [
    "dcl.identify_cracks()\n",
    "dcl.interact()"
   ]
  },
  {
   "cell_type": "code",
   "execution_count": null,
   "id": "da7abdaa-31d8-4e3c-aaee-de10be9da311",
   "metadata": {
    "pycharm": {
     "name": "#%%\n"
    }
   },
   "outputs": [],
   "source": [
    "dcl['0'].x_t_unc_Ka"
   ]
  },
  {
   "cell_type": "code",
   "execution_count": null,
   "id": "1621088a-c965-46d0-8152-752558bc2b77",
   "metadata": {
    "pycharm": {
     "name": "#%%\n"
    }
   },
   "outputs": [],
   "source": [
    "cl1 = dcl.items['1']\n",
    "cl1.dic_grid.sz_bd.matrix_"
   ]
  },
  {
   "cell_type": "code",
   "execution_count": null,
   "id": "47b87b49-954f-47be-ac77-032c021da6b3",
   "metadata": {
    "pycharm": {
     "name": "#%%\n"
    }
   },
   "outputs": [],
   "source": []
  },
  {
   "cell_type": "markdown",
   "id": "362a90a6",
   "metadata": {
    "pycharm": {
     "name": "#%% md\n"
    }
   },
   "source": [
    "# Analyze one crack"
   ]
  },
  {
   "cell_type": "code",
   "execution_count": null,
   "id": "3fbf08af-79bb-4f9f-be19-f0b9a44f9a2d",
   "metadata": {
    "pycharm": {
     "name": "#%%\n"
    }
   },
   "outputs": [],
   "source": [
    "cl1.interact()"
   ]
  },
  {
   "cell_type": "markdown",
   "id": "c8bb5c2e",
   "metadata": {
    "pycharm": {
     "name": "#%% md\n"
    }
   },
   "source": [
    "# Verify the center of rotation"
   ]
  },
  {
   "cell_type": "markdown",
   "id": "ba5e394d",
   "metadata": {
    "pycharm": {
     "name": "#%% md\n"
    }
   },
   "source": []
  },
  {
   "cell_type": "code",
   "execution_count": null,
   "id": "ef9eb899-ff27-46a3-b37d-f12ae41377aa",
   "metadata": {
    "pycharm": {
     "name": "#%%\n"
    }
   },
   "outputs": [],
   "source": [
    "cl1.cor.trait_set(step_N_COR=2)\n",
    "cl1.cor.interact()"
   ]
  },
  {
   "cell_type": "markdown",
   "id": "2ab5e907-f21a-4eef-bf42-525b3510ec82",
   "metadata": {
    "pycharm": {
     "name": "#%% md\n"
    }
   },
   "source": [
    "## Reverse crack detection - Put into separate notebook with explanation\n",
    "\n",
    " * Get the crack detection field and the primary cracks\n",
    "   detected at the state of the mature cracking stage, \n",
    "   i.e. near the ultimate load."
   ]
  },
  {
   "cell_type": "markdown",
   "id": "0e4b87c0-7b43-4831-927a-04a92bcb0386",
   "metadata": {
    "pycharm": {
     "name": "#%% md\n"
    }
   },
   "source": [
    "### How to access the values of crack detection field at the crack tip"
   ]
  },
  {
   "cell_type": "code",
   "execution_count": null,
   "id": "87efd187-83d8-4711-974d-bc14fd7e8dfb",
   "metadata": {
    "pycharm": {
     "name": "#%%\n"
    }
   },
   "outputs": [],
   "source": [
    "def get_crack_t(eta = 0.95):\n",
    "    '''Get the crack history starting with the critical\n",
    "    '''\n",
    "    # identify the near feilure crack pattern\n",
    "    t_eta_idx = dcl.dsf.dic_grid.get_F_eta_dic_idx(eta)\n",
    "    dcl.dsf.dic_grid.end_t = t_eta_idx\n",
    "    xx_NC, yy_NC, N_tip_C, M_NC = dcl.primary_cracks\n",
    "    # pripare the list of crack tip states as a funciton of t\n",
    "    N_tip_Ct = np.zeros((len(N_tip_C), t_eta_idx+1), np.int_)\n",
    "    M_tip_Ct = np.zeros_like(N_tip_Ct)\n",
    "    print('t_idx: ', end='')\n",
    "    for t_idx in range(t_eta_idx, -1, -1):\n",
    "        N_tip_C = np.copy(N_tip_C)\n",
    "        N_tip_Ct[:, t_idx] = np.copy(N_tip_C)\n",
    "        M_tip_Ct[:, t_idx] = M_NC[N_tip_C, np.arange(len(N_tip_C))]\n",
    "        print(t_idx, end=' ')\n",
    "        # get the crack detection field for the current time index\n",
    "        dcl.dsf.dic_grid.end_t = t_idx\n",
    "        _, _, cdf_MN = dcl.dsf.crack_detection_field\n",
    "        # for each crack get the indexes starting from the current tip\n",
    "        N_tip_CN = [np.arange(N_tip, -1, -1) for N_tip in N_tip_C]\n",
    "        M_tip_CN = [M_NC[N_tip_t, C] for C, N_tip_t in enumerate(N_tip_CN)]\n",
    "        # evaluate crack detection field along each crack\n",
    "        cdf_CN = [cdf_MN[M_tip_N, N_tip_N] \n",
    "                  for M_tip_N, N_tip_N in zip(M_tip_CN, N_tip_CN)]\n",
    "        # if cdf is zero completely - the crack did not emerge yet\n",
    "        cdf_nonzero_C = np.array([np.sum(cdf_N) for cdf_N in cdf_CN]) > 0\n",
    "        # find the row index distance from the tip with damage larger \n",
    "        # than threshold\n",
    "        dN_C = np.array([np.argmax(cdf_C >= 0.2) for cdf_C in cdf_CN])\n",
    "        N_tip_C[cdf_nonzero_C] -= dN_C[cdf_nonzero_C]\n",
    "        N_tip_C[np.logical_not(cdf_nonzero_C)] = 0\n",
    "    return M_tip_Ct, N_tip_Ct"
   ]
  },
  {
   "cell_type": "code",
   "execution_count": null,
   "id": "cbb9ad47-4090-4ce1-8dd0-2c213b03bced",
   "metadata": {
    "pycharm": {
     "name": "#%%\n"
    }
   },
   "outputs": [],
   "source": [
    "get_crack_t()"
   ]
  },
  {
   "cell_type": "code",
   "execution_count": null,
   "id": "ef219434-21bb-4f7b-8697-fffcaf212315",
   "metadata": {
    "pycharm": {
     "name": "#%%\n"
    }
   },
   "outputs": [],
   "source": [
    "dcl.cracks_t"
   ]
  },
  {
   "cell_type": "code",
   "execution_count": null,
   "id": "31cabce3-f500-4616-b41e-39c59337e8c3",
   "metadata": {
    "pycharm": {
     "name": "#%%\n"
    }
   },
   "outputs": [],
   "source": [
    "_, _, cdf_eta_MN = dcl.dsf.crack_detection_field"
   ]
  },
  {
   "cell_type": "code",
   "execution_count": null,
   "id": "c1be16c5-a723-4d0d-ad7e-286deead69f1",
   "metadata": {
    "pycharm": {
     "name": "#%%\n"
    }
   },
   "outputs": [],
   "source": [
    "xx_NC, yy_NC, N_tip_C, M_NC = dcl.primary_cracks"
   ]
  },
  {
   "cell_type": "code",
   "execution_count": null,
   "id": "380f33a8-66a1-4371-8186-f546bc6ecf17",
   "metadata": {
    "pycharm": {
     "name": "#%%\n"
    }
   },
   "outputs": [],
   "source": [
    "N_tip_C"
   ]
  },
  {
   "cell_type": "code",
   "execution_count": null,
   "id": "75f0340d-ad33-486f-a4ef-0fcc37975215",
   "metadata": {
    "pycharm": {
     "name": "#%%\n"
    }
   },
   "outputs": [],
   "source": [
    "M_tip_C = M_NC[N_tip_C,np.arange(len(N_tip_C))]"
   ]
  },
  {
   "cell_type": "code",
   "execution_count": null,
   "id": "9459ad9f-2ae4-4686-9e54-159eefbaf419",
   "metadata": {
    "pycharm": {
     "name": "#%%\n"
    }
   },
   "outputs": [],
   "source": [
    "M_tip_C"
   ]
  },
  {
   "cell_type": "code",
   "execution_count": null,
   "id": "ad46024b-cec2-448c-b6cd-7206382a4b9e",
   "metadata": {
    "pycharm": {
     "name": "#%%\n"
    }
   },
   "outputs": [],
   "source": [
    "cdf_eta_MN[M_tip_C, N_tip_C]"
   ]
  },
  {
   "cell_type": "code",
   "execution_count": null,
   "id": "24faac86-987c-497e-8f8f-d82b21df2985",
   "metadata": {
    "pycharm": {
     "name": "#%%\n"
    }
   },
   "outputs": [],
   "source": [
    "_, _, cdf_MN = dcl.dsf.crack_detection_field\n",
    "cdf_MN.shape"
   ]
  },
  {
   "cell_type": "code",
   "execution_count": null,
   "id": "2c59d4eb-d9a2-4250-86c5-60f4f112cb56",
   "metadata": {
    "pycharm": {
     "name": "#%%\n"
    }
   },
   "outputs": [],
   "source": [
    "cdf_MN[M_tip_C, N_tip_C]"
   ]
  },
  {
   "cell_type": "code",
   "execution_count": null,
   "id": "1e901cfc-f10e-4555-b458-0c859a9f36d7",
   "metadata": {
    "pycharm": {
     "name": "#%%\n"
    }
   },
   "outputs": [],
   "source": []
  },
  {
   "cell_type": "markdown",
   "id": "a2a6f7c0-8529-4fb9-a220-dfbdb850973a",
   "metadata": {
    "pycharm": {
     "name": "#%% md\n"
    }
   },
   "source": [
    "### How to access the crack detection field for lower load levels"
   ]
  },
  {
   "cell_type": "code",
   "execution_count": null,
   "id": "cf7a1b35-57b6-41e0-83b6-33e2bcc244e2",
   "metadata": {
    "pycharm": {
     "name": "#%%\n"
    }
   },
   "outputs": [],
   "source": [
    "dcl.dsf.dic_grid.end_t"
   ]
  },
  {
   "cell_type": "code",
   "execution_count": null,
   "id": "b31dc6a5-9fd1-47fb-809f-7c20d4e08376",
   "metadata": {
    "pycharm": {
     "name": "#%%\n"
    }
   },
   "outputs": [],
   "source": [
    "sp = dcl.items[3]"
   ]
  },
  {
   "cell_type": "code",
   "execution_count": null,
   "id": "ab391dd4-4528-44b5-83a8-1b8eada2ed1e",
   "metadata": {
    "pycharm": {
     "name": "#%%\n"
    }
   },
   "outputs": [],
   "source": [
    "sp.X_neutral_a"
   ]
  },
  {
   "cell_type": "code",
   "execution_count": null,
   "id": "93aac55b-c262-4d3e-a62b-81d6abcf25ae",
   "metadata": {
    "pycharm": {
     "name": "#%%\n"
    }
   },
   "outputs": [],
   "source": [
    "x_00 = sp.dic_crack.C_cubic_spline(sp.z_N)"
   ]
  },
  {
   "cell_type": "code",
   "execution_count": null,
   "id": "6b99f6bf-f63a-4ace-a77e-130c5b34dda9",
   "metadata": {
    "pycharm": {
     "name": "#%%\n"
    }
   },
   "outputs": [],
   "source": [
    "x_00"
   ]
  },
  {
   "cell_type": "code",
   "execution_count": null,
   "id": "c0d83490-c8a8-44c0-9990-6ce791caa9ac",
   "metadata": {
    "pycharm": {
     "name": "#%%\n"
    }
   },
   "outputs": [],
   "source": [
    "sp.M"
   ]
  },
  {
   "cell_type": "code",
   "execution_count": null,
   "id": "d01f6b62-6393-475a-9783-db3922c08176",
   "metadata": {
    "pycharm": {
     "name": "#%%\n"
    }
   },
   "outputs": [],
   "source": [
    "dcl.interact()"
   ]
  },
  {
   "cell_type": "code",
   "execution_count": null,
   "id": "52c2900d-353a-4d80-a8f4-c49e4cee7379",
   "metadata": {
    "pycharm": {
     "name": "#%%\n"
    }
   },
   "outputs": [],
   "source": [
    "crack_0 = dcl.items[2]"
   ]
  },
  {
   "cell_type": "code",
   "execution_count": null,
   "id": "b35fd859-cd37-45f0-a812-555a9affc208",
   "metadata": {
    "pycharm": {
     "name": "#%%\n"
    }
   },
   "outputs": [],
   "source": [
    "crack_0.pos_F_y"
   ]
  },
  {
   "cell_type": "code",
   "execution_count": null,
   "id": "cfb6ff25-6524-455f-b54f-6f4de6f6d6f8",
   "metadata": {
    "pycharm": {
     "name": "#%%\n"
    }
   },
   "outputs": [],
   "source": [
    "fig, ax = plt.subplots(1,1)\n",
    "crack_0.dic_crack.plot_u_Nib(ax)\n",
    "crack_0.dic_crack.plot_x_Na(ax)\n",
    "crack_0.plot_COR(ax)\n",
    "crack_0.plot_cor_markers(ax)\n",
    "ax.axis('equal')"
   ]
  },
  {
   "cell_type": "code",
   "execution_count": null,
   "id": "320aa8df-2c2f-4558-a0b3-85f2f57c3262",
   "metadata": {
    "pycharm": {
     "name": "#%%\n"
    }
   },
   "outputs": [],
   "source": [
    "crack_0.M_N[20]"
   ]
  },
  {
   "cell_type": "code",
   "execution_count": null,
   "id": "14fe59bd-94bc-4b0c-8f08-132b8bcf4757",
   "metadata": {
    "pycharm": {
     "name": "#%%\n"
    }
   },
   "outputs": [],
   "source": [
    "dc_cor = DICCrackCOR(dic_crack=dcl.items[2])"
   ]
  },
  {
   "cell_type": "code",
   "execution_count": null,
   "id": "12070508-4ab0-43dc-9c55-1f515fa2ae30",
   "metadata": {
    "pycharm": {
     "name": "#%%\n"
    }
   },
   "outputs": [],
   "source": [
    "dc_cor.M_N.dtype"
   ]
  },
  {
   "cell_type": "code",
   "execution_count": null,
   "id": "6b344a05-7d62-4b2e-963e-f4263a89bbd2",
   "metadata": {
    "pycharm": {
     "name": "#%%\n"
    }
   },
   "outputs": [],
   "source": [
    "slice_M_N = slice(dc_cor.M_N,dc_cor.M_N+3)"
   ]
  },
  {
   "cell_type": "code",
   "execution_count": null,
   "id": "fa1355b6-eb55-493f-820d-039f557a2f93",
   "metadata": {
    "pycharm": {
     "name": "#%%\n"
    }
   },
   "outputs": [],
   "source": [
    "X_mNa = np.array([dc_cor.X_MNa[dc_cor.M_N+i, np.arange(len(dc_cor.M_N))] for i in range(5)])"
   ]
  },
  {
   "cell_type": "code",
   "execution_count": null,
   "id": "95171df6-d6f2-4c4a-bb9a-73cc744609b0",
   "metadata": {
    "pycharm": {
     "name": "#%%\n"
    }
   },
   "outputs": [],
   "source": [
    "X_mNa[-1,0]"
   ]
  },
  {
   "cell_type": "code",
   "execution_count": null,
   "id": "e0590c3a-0abd-46fd-833d-16406443d955",
   "metadata": {
    "pycharm": {
     "name": "#%%\n"
    }
   },
   "outputs": [],
   "source": [
    "dc_cor.M0"
   ]
  },
  {
   "cell_type": "code",
   "execution_count": null,
   "id": "6dfe3c0e-d231-4d98-8490-a588bcd75cd1",
   "metadata": {
    "pycharm": {
     "name": "#%%\n"
    }
   },
   "outputs": [],
   "source": [
    "dc_cor.interact()"
   ]
  },
  {
   "cell_type": "code",
   "execution_count": null,
   "id": "2bf86666-0ab5-4591-9ca3-f44aaa33b7e4",
   "metadata": {
    "pycharm": {
     "name": "#%%\n"
    }
   },
   "outputs": [],
   "source": [
    "dc_cor.X0_a - dc_cor.U0_a"
   ]
  },
  {
   "cell_type": "code",
   "execution_count": null,
   "id": "d7b10baf-4323-4222-a2cb-ccbf93c698ec",
   "metadata": {
    "pycharm": {
     "name": "#%%\n"
    }
   },
   "outputs": [],
   "source": [
    "dc_cor.x_ref_MNa_scaled[dc_cor.M0, :dc_cor.N0_max]"
   ]
  },
  {
   "cell_type": "code",
   "execution_count": null,
   "id": "687bbc1c-dc35-4496-97e3-1c1462ff4162",
   "metadata": {
    "pycharm": {
     "name": "#%%\n"
    }
   },
   "outputs": [],
   "source": []
  },
  {
   "cell_type": "code",
   "execution_count": null,
   "id": "6b7c63aa-55b3-4480-9768-b3915f84c8b9",
   "metadata": {
    "pycharm": {
     "name": "#%%\n"
    }
   },
   "outputs": [],
   "source": []
  },
  {
   "cell_type": "code",
   "execution_count": null,
   "id": "e9333fa5",
   "metadata": {},
   "outputs": [],
   "source": []
  }
 ],
 "metadata": {
  "interpreter": {
   "hash": "ebcff91b5d652715d8939a8899ef0ddafa7c15917479d2b47c651d9565cfe207"
  },
  "kernelspec": {
   "display_name": "Python 3",
   "language": "python",
   "name": "python3"
  },
  "language_info": {
   "codemirror_mode": {
    "name": "ipython",
    "version": 3
   },
   "file_extension": ".py",
   "mimetype": "text/x-python",
   "name": "python",
   "nbconvert_exporter": "python",
   "pygments_lexer": "ipython3"
  }
 },
 "nbformat": 4,
 "nbformat_minor": 5
}
