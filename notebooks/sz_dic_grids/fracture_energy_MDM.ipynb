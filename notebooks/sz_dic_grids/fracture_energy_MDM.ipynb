{
 "cells": [
  {
   "cell_type": "markdown",
   "id": "7fe163db-9193-44c1-9033-f79a48775c99",
   "metadata": {},
   "source": [
    "# **Calibration MDM to reproduce tensile stress within the shear zone**"
   ]
  },
  {
   "cell_type": "markdown",
   "id": "a1af772b-a50e-4b71-873e-6713eda2ec74",
   "metadata": {},
   "source": [
    "Test the elementary load cases - tension, compression and sliding"
   ]
  },
  {
   "cell_type": "code",
   "execution_count": null,
   "id": "d7b4549e-c36b-4c4c-96d2-8a71c0b9aae8",
   "metadata": {},
   "outputs": [],
   "source": [
    "%matplotlib widget\n",
    "import numpy as np\n",
    "np.seterr(divide='ignore', invalid='ignore') \n",
    "import matplotlib.pylab as plt\n",
    "from ibvpy.bcond import BCSlice, BCDof\n",
    "from ibvpy.fets import FETS3D8H\n",
    "from ibvpy.tmodel.mats3D import MATS3DElastic\n",
    "import bmcs_matmod.ms1.concrete_material_db as mp_db\n",
    "\n",
    "from ibvpy.tmodel.viz3d_scalar_field import \\\n",
    "    Vis3DStateField, Viz3DScalarField\n",
    "from ibvpy.tmodel.viz3d_tensor_field import \\\n",
    "    Vis3DTensorField, Viz3DTensorField\n",
    "from ibvpy.sim.tstep_bc import TStepBC\n",
    "from ibvpy.xmodel.xdomain_fe_grid import XDomainFEGrid\n",
    "from ibvpy.api import TStepBC, TFCyclicNonsymmetricConstant, TFBilinear\n",
    "from mayavi import mlab\n",
    "from bmcs_matmod.ms1 import MS13D\n",
    "from ibvpy.tmodel.mats3D.mats3D_microplane.vmats3D_mpl_d_eeq import \\\n",
    "    MATS3DMplDamageEEQ\n",
    "import ibvpy.api as ib"
   ]
  },
  {
   "cell_type": "markdown",
   "id": "ba100a01-94a4-46c2-b391-f49d51dde0d3",
   "metadata": {},
   "source": [
    "## MDM calibration"
   ]
  },
  {
   "cell_type": "code",
   "execution_count": null,
   "id": "83314282-9ef2-4e9a-a6ae-d3094d82b13a",
   "metadata": {},
   "outputs": [],
   "source": [
    "from bmcs_utils.api import \\\n",
    "    Float, Model\n",
    "\n",
    "class PhiFnStrainSoftening(Model):\n",
    "    '''\n",
    "    Damage function.\n",
    "    '''\n",
    "    G_f = Float(0.035,\n",
    "                label='G_f',\n",
    "                desc='fracture energy',\n",
    "                auto_set=False, enter_set=True)\n",
    "    f_t = Float(16,\n",
    "                label='f_t',\n",
    "                desc='tensile strength',\n",
    "                auto_set=False, enter_set=True)\n",
    "    md = Float(0.0,\n",
    "               label='md',\n",
    "               desc='factor affecting the compresive strength (explain more precisely)',\n",
    "               auto_set=False, enter_set=True)\n",
    "    h = Float(20.0,\n",
    "              label='h',\n",
    "              desc='element size to norm the fracture energy',\n",
    "              auto_set=False, enter_set=True)\n",
    "    E = Float(40000.0,\n",
    "              label='h',\n",
    "              desc='element size to norm the fracture energy',\n",
    "              auto_set=False, enter_set=True)\n",
    "\n",
    "    Epp = Float(\n",
    "        desc='strain at the onset of damage', enter_set=True, auto_set=False)\n",
    "    Efp = Float(desc='strain at total damaged', enter_set=True, auto_set=False)\n",
    "\n",
    "    def fit_microplane_params(self):\n",
    "        '''\n",
    "        Calculate the parameters of the damage function\n",
    "        '''\n",
    "\n",
    "        E = self.E\n",
    "        G_f = self.G_f\n",
    "        f_t = self.f_t\n",
    "        md = self.md\n",
    "        h = self.h\n",
    "\n",
    "        gamma = (E * G_f) / (h * f_t ** 2)\n",
    "        if gamma < 2.0:\n",
    "            print ('WARNING: elements too big -> refine, h should be at maximum only half of the characteristic length')\n",
    "            print ('in FIT PARAMS: gamma set to 2.0')\n",
    "            gamma = 2.0\n",
    "\n",
    "        Epp = f_t / \\\n",
    "            ((E * (1 - md) ** 2) * (1.95 - 0.95 / (gamma - 1) ** (0.5)))\n",
    "        Efp = (G_f / ((1 - md) * h * E * Epp) +\n",
    "               (2.13 - 1.13 * md) * Epp) / (2.73 - md) - Epp\n",
    "        self.Epp = Epp\n",
    "        self.Efp = Efp"
   ]
  },
  {
   "cell_type": "code",
   "execution_count": null,
   "id": "d6317e32-9a2c-4285-90fb-3de126c7e5b5",
   "metadata": {},
   "outputs": [],
   "source": [
    "phi = PhiFnStrainSoftening()\n",
    "phi.fit_microplane_params()\n",
    "phi.Epp, phi.Efp"
   ]
  },
  {
   "cell_type": "code",
   "execution_count": null,
   "id": "164128d1-89d3-4863-987f-065205b3f5fc",
   "metadata": {},
   "outputs": [],
   "source": [
    "mdm_params = dict(\n",
    "    epsilon_0 = 59.0e-6,\n",
    "    epsilon_f = 250.0e-6 * 500,\n",
    "    c_T = 0.02,\n",
    "    E = 42000,\n",
    "    nu = 0.18\n",
    ")"
   ]
  },
  {
   "cell_type": "markdown",
   "id": "4d98b7be-a348-42c9-9108-5098c522063c",
   "metadata": {},
   "source": [
    "## Uniaxial tension 3D"
   ]
  },
  {
   "cell_type": "code",
   "execution_count": null,
   "id": "4cf92ce1-281d-456a-bdca-178411917089",
   "metadata": {},
   "outputs": [],
   "source": [
    "size_x = 50\n",
    "size_y = 50\n",
    "size_z = 1\n",
    "n_e_x = 1\n",
    "n_e_y = 1\n",
    "n_e_x = 1\n",
    "\n",
    "xmodel = XDomainFEGrid(coord_min=(0, 0, 0),\n",
    "                       coord_max=(size_x, size_y, size_z),\n",
    "                       shape=(n_e_x, n_e_y, n_e_x),\n",
    "                     integ_factor=1,\n",
    "                     fets=FETS3D8H())\n",
    "E = 34000\n",
    "\n",
    "m_inelastic = MATS3DMplDamageEEQ(**mdm_params)\n",
    "\n",
    "m_elastic = MATS3DElastic(E=34000, nu=0.2)\n",
    "m = TStepBC(\n",
    "    domains=[(xmodel, m_inelastic),\n",
    "             ]\n",
    ")"
   ]
  },
  {
   "cell_type": "code",
   "execution_count": null,
   "id": "0040901c-31fd-4244-a4b8-b5a29b5dc842",
   "metadata": {},
   "outputs": [],
   "source": [
    "w_max = 0.01 * size_x\n",
    "\n",
    "# Tension bc\n",
    "bc_l_x = BCSlice(slice=xmodel.mesh[0, :, :, 0, :, :],\n",
    "                  var='u', dims=[0], value=0.0)\n",
    "bc_r_x = BCSlice(slice=xmodel.mesh[-1, :, :, -1, :, :],\n",
    "                 var='u', dims=[0], value=w_max)\n",
    "bc_xy_z0 = BCSlice(slice=xmodel.mesh[:, :, 0, :, :, 0],\n",
    "                  var='u', dims=[2], value=0)\n",
    "bc_xz_y0 = BCSlice(slice=xmodel.mesh[:, 0, :, :, 0, :],\n",
    "                 var='u', dims=[1], value=0)"
   ]
  },
  {
   "cell_type": "code",
   "execution_count": null,
   "id": "8ff87d55-b253-443f-81ac-1c4505b5dea1",
   "metadata": {},
   "outputs": [],
   "source": [
    "bc1 = [bc_l_x, bc_r_x, bc_xy_z0, bc_xz_y0]"
   ]
  },
  {
   "cell_type": "code",
   "execution_count": null,
   "id": "eb5b4816-d776-44e5-82c4-44617e710c2c",
   "metadata": {},
   "outputs": [],
   "source": [
    "m.bc=bc1\n",
    "m.hist.vis_record = {\n",
    "#    'strain': Vis3DTensorField(var='eps_ab'),\n",
    "#    'stress': Vis3DTensorField(var='sig_ab'),\n",
    "#        'kinematic hardening': Vis3DStateField(var='z_a')\n",
    "}\n",
    "\n",
    "s = m.sim\n",
    "s.tloop.verbose = False\n",
    "s.tloop.k_max = 1000\n",
    "s.tline.step = 0.02\n",
    "# Accessing the following property - ensures serialization\n",
    "s.tstep.fe_domain.serialized_subdomains\n",
    "s.reset()\n",
    "s.run()"
   ]
  },
  {
   "cell_type": "code",
   "execution_count": null,
   "id": "66d63d84-3f36-48b7-a3fe-5030a8cc83f2",
   "metadata": {},
   "outputs": [],
   "source": [
    "U_last = m.hist.U_t[-1]\n",
    "F_last = m.hist.U_t[-1]\n",
    "U_t = np.average(m.hist.U_t[:, bc_r_x.dofs], axis=-1)\n",
    "F_t = np.sum(m.hist.F_t[:, bc_r_x.dofs], axis=-1)\n",
    "fig, (ax1, ax2) = plt.subplots(1, 2)\n",
    "ax1.plot(U_t, F_t)\n",
    "# ax1.plot(U_t_2, F_t_2)\n",
    "ax2.plot(U_t/size_x, F_t/(size_y*size_z))\n",
    "# ax2.plot(U_t_2/size_x, F_t_2/(size_y*size_z))\n",
    "G = np.trapz(F_t, x=U_t)\n",
    "G2 = np.trapz(F_t/(size_y*size_z), x=U_t/size_x)\n",
    "print(G/((size_z)*(size_y))*1000)\n",
    "print(G2)"
   ]
  },
  {
   "cell_type": "markdown",
   "id": "430e8756-9e6b-4455-9f64-6aa5129af9a3",
   "metadata": {},
   "source": [
    "## Uniaxial tension 2D"
   ]
  },
  {
   "cell_type": "code",
   "execution_count": null,
   "id": "750339bb-4446-40bc-9ee1-765fa86b73d1",
   "metadata": {},
   "outputs": [],
   "source": [
    "class MATS2DMPlDebug(ib.MATS2DMplDamageEEQ):\n",
    "    def update_state_variables(self, eps_ab, kappa_n, omega_n):\n",
    "        e_na = self._get_e_na(eps_ab)\n",
    "        eps_eq_n = self._get_e_equiv_n(e_na)\n",
    "        f_trial_n = eps_eq_n - self.epsilon_0\n",
    "        #print('f', f_trial_n)\n",
    "        I = np.where(f_trial_n > 0)\n",
    "        k_n = np.max(np.array([kappa_n[I], eps_eq_n[I]]), axis=0)\n",
    "        kappa_n[I] = k_n\n",
    "        omega_n[I] = self._get_omega(k_n)"
   ]
  },
  {
   "cell_type": "code",
   "execution_count": null,
   "id": "09085b08-f145-4270-8958-01a98e05a21b",
   "metadata": {},
   "outputs": [],
   "source": [
    "size_x = 50\n",
    "size_y = 50\n",
    "n_e_x = 1\n",
    "n_e_y = 1\n",
    "\n",
    "xmodel = XDomainFEGrid(coord_min=(0, 0),\n",
    "                       coord_max=(size_x ,size_y),\n",
    "                       shape=(n_e_x, n_e_y),\n",
    "                     integ_factor=1,\n",
    "                     fets=ib.FETS2D4Q())\n",
    "E = 34000\n",
    "\n",
    "m_inelastic = MATS2DMPlDebug(**mdm_params)\n",
    "#m_inelastic = ib.MATS2DMplDamageEEQ(**mdm_params)\n",
    "\n",
    "m = TStepBC(\n",
    "    domains=[(xmodel, m_inelastic),          ]\n",
    ")"
   ]
  },
  {
   "cell_type": "code",
   "execution_count": null,
   "id": "15b091e2-ad4a-4bd3-aa6e-d46af661f003",
   "metadata": {},
   "outputs": [],
   "source": [
    "w_max = 0.01 * size_x\n",
    "\n",
    "# Tension bc\n",
    "bc_l_x = BCSlice(slice=xmodel.mesh[0, :, 0, :],\n",
    "                 var='u', dims=[0], value=0.0)\n",
    "bc_r_x = BCSlice(slice=xmodel.mesh[-1, :, -1, :],\n",
    "                 var='u', dims=[0], value=w_max)\n",
    "bc_x_y0 = BCSlice(slice=xmodel.mesh[:, 0, :, 0],\n",
    "                  var='u', dims=[1], value=0)"
   ]
  },
  {
   "cell_type": "code",
   "execution_count": null,
   "id": "c58c1955-7d82-4198-b53c-fd3a2eb2bfb0",
   "metadata": {},
   "outputs": [],
   "source": [
    "bc1 = [bc_l_x, bc_r_x, bc_x_y0]"
   ]
  },
  {
   "cell_type": "code",
   "execution_count": null,
   "id": "c3eddafb-b830-48fc-adcf-215c0b0f0531",
   "metadata": {},
   "outputs": [],
   "source": [
    "m.bc=bc1\n",
    "m.hist.vis_record = {\n",
    "#    'strain': Vis3DTensorField(var='eps_ab'),\n",
    "#     'stress': Vis3DTensorField(var='sig_ab'),\n",
    "    #        'kinematic hardening': Vis3DStateField(var='z_a')\n",
    "}\n",
    "\n",
    "s = m.sim\n",
    "s.tloop.verbose = True\n",
    "s.tloop.k_max = 1000\n",
    "s.tline.step = 0.02\n",
    "# Accessing the following property - ensures serialization\n",
    "s.tstep.fe_domain.serialized_subdomains\n",
    "s.reset()\n",
    "s.run()"
   ]
  },
  {
   "cell_type": "code",
   "execution_count": null,
   "id": "bb701612-7075-4a0f-8d39-0be16415a90e",
   "metadata": {},
   "outputs": [],
   "source": [
    "U_last = m.hist.U_t[-1]\n",
    "F_last = m.hist.U_t[-1]\n",
    "U_t = np.average(m.hist.U_t[:, bc_r_x.dofs], axis=-1)\n",
    "F_t = np.sum(m.hist.F_t[:, bc_r_x.dofs], axis=-1)\n",
    "fig, (ax1, ax2) = plt.subplots(1, 2)\n",
    "ax1.plot(U_t, F_t)\n",
    "# ax1.plot(U_t_2, F_t_2)\n",
    "ax2.plot(U_t/size_x, F_t/(size_y))\n",
    "# ax2.plot(U_t_2/size_x, F_t_2/(size_y*size_z))\n",
    "G = np.trapz(F_t, x=U_t)\n",
    "G2 = np.trapz(F_t/(size_y), x=U_t/size_x)\n",
    "print(G/((size_y))*1000)\n",
    "print(G2)"
   ]
  },
  {
   "cell_type": "code",
   "execution_count": null,
   "id": "8831978d-5686-4ebb-a995-37211e06dc1e",
   "metadata": {},
   "outputs": [],
   "source": [
    "# m.hist.F_t[:, bc_r_x.dofs]\n",
    "# bc_r_x.dofs"
   ]
  },
  {
   "cell_type": "code",
   "execution_count": null,
   "id": "c41a0cd8-77aa-4fa6-b89f-1a43069301b1",
   "metadata": {},
   "outputs": [],
   "source": [
    "# eps_Emab = xmodel.map_U_to_field(U_last)\n",
    "# eps_Emab"
   ]
  },
  {
   "cell_type": "code",
   "execution_count": null,
   "id": "5efc8eec-f884-48c7-990c-37496d3f2fe8",
   "metadata": {},
   "outputs": [],
   "source": [
    "if False:\n",
    "    mlab.options.backend = 'envisage'\n",
    "    mlab.options.offscreen = False # 'envisage'\n",
    "    f_strain = mlab.figure()\n",
    "    scene = mlab.get_engine().scenes[-1]\n",
    "    scene.name = 'stress'\n",
    "    strain_viz = Viz3DTensorField(vis3d=m.hist['stress'])\n",
    "    strain_viz.setup()\n",
    "    strain_viz.warp_vector.filter.scale_factor = 0.1\n",
    "    strain_viz.plot(s.tstep.t_n)\n",
    "    mlab.show()"
   ]
  },
  {
   "cell_type": "code",
   "execution_count": null,
   "id": "0b28c8f7-3377-42a4-a876-ea7e69f8ff8c",
   "metadata": {
    "tags": []
   },
   "outputs": [],
   "source": [
    "# eps_Emab = xmodel.map_U_to_field(U_t[-1])\n",
    "m.fe_domain[0].state_k\n",
    "# m_inelastic.get_corr_pred(eps_Emab, 1, **m.fe_domain[2].state_k)"
   ]
  },
  {
   "cell_type": "markdown",
   "id": "ea6fc885-0dc8-4425-a23f-cd5a50cff94e",
   "metadata": {
    "tags": []
   },
   "source": [
    "## Compression dc"
   ]
  },
  {
   "cell_type": "code",
   "execution_count": null,
   "id": "3f3cac3b-ec1b-462d-b668-53cb872a0f46",
   "metadata": {},
   "outputs": [],
   "source": [
    "size_x = 1\n",
    "size_y = 20\n",
    "size_z = 12.5\n",
    "n_e_x = 1\n",
    "n_e_y = 1\n",
    "n_e_x = 1\n",
    "\n",
    "xmodel = XDomainFEGrid(coord_min=(0, 0, 0),\n",
    "                       coord_max=(size_x ,size_y, size_z),\n",
    "                       shape=(n_e_x, n_e_y, n_e_x),\n",
    "                     integ_factor=1,\n",
    "                     fets=FETS3D8H())\n",
    "E = 34000\n",
    "\n",
    "m_inelastic = MATS3DMplDamageEEQ(**CAxisymmMDM)\n",
    "m_elastic = MATS3DElastic(E=34000, nu=0.2)\n",
    "m = TStepBC(\n",
    "    domains=[(xmodel, m_inelastic),\n",
    "             ]\n",
    ")"
   ]
  },
  {
   "cell_type": "code",
   "execution_count": null,
   "id": "bb0502cd-ff51-432f-98aa-02d909d0299a",
   "metadata": {},
   "outputs": [],
   "source": [
    "w_max = -0.01 * size_x \n",
    "\n",
    "# Tension bc\n",
    "bc_l_x = BCSlice(slice=xmodel.mesh[0, :, :, 0, :, :],\n",
    "                  var='u', dims=[0], value=0.0)\n",
    "bc_r_x = BCSlice(slice=xmodel.mesh[-1, :, :, -1, :, :],\n",
    "                 var='u', dims=[0], value=w_max)\n",
    "bc_xy_z0 = BCSlice(slice=xmodel.mesh[:, :, 0, :, :, 0],\n",
    "                  var='u', dims=[2], value=0)\n",
    "bc_xz_y0 = BCSlice(slice=xmodel.mesh[:, 0, :, :, 0, :],\n",
    "                 var='u', dims=[1], value=0)"
   ]
  },
  {
   "cell_type": "code",
   "execution_count": null,
   "id": "7c293d33-a44f-4071-b978-9dd0b16614b9",
   "metadata": {},
   "outputs": [],
   "source": [
    "xmodel.mesh[:, :, :, :, :, 0].dofs"
   ]
  },
  {
   "cell_type": "code",
   "execution_count": null,
   "id": "1787c231-162f-4af1-ada0-222cfe372f2c",
   "metadata": {},
   "outputs": [],
   "source": [
    "bc1 = [bc_l_x, bc_r_x, bc_xy_z0, bc_xz_y0]"
   ]
  },
  {
   "cell_type": "code",
   "execution_count": null,
   "id": "2aaea1de-7b38-439b-add5-3f748f7bfdb5",
   "metadata": {},
   "outputs": [],
   "source": [
    "m.bc=bc1\n",
    "m.hist.vis_record = {\n",
    "#    'strain': Vis3DTensorField(var='eps_ab'),\n",
    "    'stress': Vis3DTensorField(var='sig_ab'),\n",
    "    #        'kinematic hardening': Vis3DStateField(var='z_a')\n",
    "}\n",
    "\n",
    "s = m.sim\n",
    "s.tloop.verbose = False\n",
    "s.tloop.k_max = 1000\n",
    "s.tline.step = 0.01\n",
    "# Accessing the following property - ensures serialization\n",
    "s.tstep.fe_domain.serialized_subdomains\n",
    "s.reset()\n",
    "s.run()"
   ]
  },
  {
   "cell_type": "code",
   "execution_count": null,
   "id": "13dd3980-b8ee-4367-9578-347516f55c27",
   "metadata": {},
   "outputs": [],
   "source": [
    "U_last = m.hist.U_t[-1]\n",
    "F_last = m.hist.U_t[-1]\n",
    "U_t = np.average(m.hist.U_t[:, bc_r_x.dofs], axis=-1)\n",
    "F_t = np.sum(m.hist.F_t[:, bc_r_x.dofs], axis=-1)\n",
    "fig, (ax1,ax2) = plt.subplots(1, 2)\n",
    "ax1.plot(-U_t, -F_t)\n",
    "ax2.plot(-U_t/size_x, -F_t/(size_y*size_z))\n",
    "G = np.trapz(F_t, x=U_t)\n",
    "print(G/((size_z)*(size_y))*1000)"
   ]
  },
  {
   "cell_type": "code",
   "execution_count": null,
   "id": "e1b0aabf-b9ef-482b-8047-249ba84be12f",
   "metadata": {},
   "outputs": [],
   "source": [
    "if False:\n",
    "    mlab.options.backend = 'envisage'\n",
    "    mlab.options.offscreen = False # 'envisage'\n",
    "    f_strain = mlab.figure()\n",
    "    scene = mlab.get_engine().scenes[-1]\n",
    "    scene.name = 'stress'\n",
    "    strain_viz = Viz3DTensorField(vis3d=m.hist['stress'])\n",
    "    strain_viz.setup()\n",
    "    strain_viz.warp_vector.filter.scale_factor = 0.1\n",
    "    strain_viz.plot(s.tstep.t_n)\n",
    "    mlab.show()"
   ]
  },
  {
   "cell_type": "markdown",
   "id": "72adeefe-eac8-492d-9bda-199f0e13fb41",
   "metadata": {
    "tags": []
   },
   "source": [
    "## Shear dc"
   ]
  },
  {
   "cell_type": "code",
   "execution_count": null,
   "id": "b883d495-4bae-428d-b72a-3220fe6068e0",
   "metadata": {},
   "outputs": [],
   "source": [
    "size_x = 1\n",
    "size_y = 20\n",
    "size_z = 12.5\n",
    "n_e_x = 1\n",
    "n_e_y = 1\n",
    "n_e_x = 1\n",
    "\n",
    "xmodel = XDomainFEGrid(coord_min=(0, 0, 0),\n",
    "                       coord_max=(size_x ,size_y, size_z),\n",
    "                       shape=(n_e_x, n_e_y, n_e_x),\n",
    "                     integ_factor=1,\n",
    "                     fets=FETS3D8H())\n",
    "E = 34000\n",
    "\n",
    "m_inelastic = MATS3DMplDamageEEQ(**CAxisymmMDM)\n",
    "m_elastic = MATS3DElastic(E=34000, nu=0.2)\n",
    "m = TStepBC(\n",
    "    domains=[(xmodel, m_inelastic),\n",
    "             ]\n",
    ")"
   ]
  },
  {
   "cell_type": "code",
   "execution_count": null,
   "id": "ec223c18-f521-411e-854d-ba951db44526",
   "metadata": {},
   "outputs": [],
   "source": [
    "w_max = 0.0025 * size_y\n",
    "\n",
    "# Shear bc\n",
    "bc_l_x = BCSlice(slice=xmodel.mesh[0, :, :, 0, :, :],\n",
    "                  var='u', dims=[0,1,2], value=0.0)\n",
    "bc_r_x = BCSlice(slice=xmodel.mesh[-1, :, :, -1, :, :],\n",
    "                 var='u', dims=[1], value=w_max)\n",
    "bc_r_x_2 = BCSlice(slice=xmodel.mesh[-1, :, :, -1, :, :],\n",
    "                 var='u', dims=[0], value=0.0)"
   ]
  },
  {
   "cell_type": "code",
   "execution_count": null,
   "id": "d2edc1ef-81b3-43f7-80a4-7af367ef609d",
   "metadata": {},
   "outputs": [],
   "source": [
    "xmodel.mesh[:, :, :, :, :, 0].dofs"
   ]
  },
  {
   "cell_type": "code",
   "execution_count": null,
   "id": "e6163ddb-7a33-43d6-83b7-633a1220657e",
   "metadata": {},
   "outputs": [],
   "source": [
    "bc1 = [bc_l_x, bc_r_x,bc_r_x_2]"
   ]
  },
  {
   "cell_type": "code",
   "execution_count": null,
   "id": "28f865b9-1416-40fd-9a0a-2a1877cf8d4d",
   "metadata": {},
   "outputs": [],
   "source": [
    "m.bc=bc1\n",
    "m.hist.vis_record = {\n",
    "#    'strain': Vis3DTensorField(var='eps_ab'),\n",
    "    'stress': Vis3DTensorField(var='sig_ab'),\n",
    "    #        'kinematic hardening': Vis3DStateField(var='z_a')\n",
    "}\n",
    "\n",
    "s = m.sim\n",
    "s.tloop.verbose = False\n",
    "s.tloop.k_max = 1000\n",
    "s.tline.step = 0.01\n",
    "# Accessing the following property - ensures serialization\n",
    "s.tstep.fe_domain.serialized_subdomains\n",
    "s.reset()\n",
    "s.run()"
   ]
  },
  {
   "cell_type": "code",
   "execution_count": null,
   "id": "431def5b-8f8d-4b52-8a04-815505d9f541",
   "metadata": {},
   "outputs": [],
   "source": [
    "U_last = m.hist.U_t[-1]\n",
    "F_last = m.hist.U_t[-1]\n",
    "U_t = np.average(m.hist.U_t[:, bc_r_x.dofs], axis=-1)\n",
    "F_t = np.sum(m.hist.F_t[:, bc_r_x.dofs], axis=-1)\n",
    "fig, (ax1,ax2) = plt.subplots(1, 2)\n",
    "ax1.plot(U_t, F_t)\n",
    "ax2.plot(U_t/size_x, F_t/(size_y*size_z))\n",
    "G = np.trapz(F_t, x=U_t)\n",
    "print(G/((size_z)*(size_y))*1000)"
   ]
  },
  {
   "cell_type": "code",
   "execution_count": null,
   "id": "429e6f42-8b48-4481-81a8-4e637996c3ad",
   "metadata": {},
   "outputs": [],
   "source": [
    "if False:\n",
    "    mlab.options.backend = 'envisage'\n",
    "    mlab.options.offscreen = False # 'envisage'\n",
    "    f_strain = mlab.figure()\n",
    "    scene = mlab.get_engine().scenes[-1]\n",
    "    scene.name = 'stress'\n",
    "    strain_viz = Viz3DTensorField(vis3d=m.hist['stress'])\n",
    "    strain_viz.setup()\n",
    "    strain_viz.warp_vector.filter.scale_factor = 0.1\n",
    "    strain_viz.plot(s.tstep.t_n)\n",
    "    mlab.show()"
   ]
  },
  {
   "cell_type": "markdown",
   "id": "2b106142-8c49-4d2c-b937-1b6e78787f98",
   "metadata": {},
   "source": [
    "## Shear dc + Compression fc"
   ]
  },
  {
   "cell_type": "code",
   "execution_count": null,
   "id": "505cac26-6409-44f0-acaf-d7ee527c2ff0",
   "metadata": {},
   "outputs": [],
   "source": [
    "size_x = 2\n",
    "size_y = 20\n",
    "size_z = 1\n",
    "n_e_x = 1\n",
    "n_e_y = 2\n",
    "n_e_x = 1\n",
    "\n",
    "xmodel = XDomainFEGrid(coord_min=(0, 0, 0),\n",
    "                       coord_max=(size_x ,size_y, size_z),\n",
    "                       shape=(n_e_x, n_e_y, n_e_x),\n",
    "                     integ_factor=1,\n",
    "                     fets=FETS3D8H())\n",
    "E = 34000\n",
    "\n",
    "m_inelastic = MS13D(**CAxisymm)\n",
    "m_elastic = MATS3DElastic(E=34000, nu=0.2)\n",
    "m = TStepBC(\n",
    "    domains=[(xmodel, m_inelastic),\n",
    "             ]\n",
    ")"
   ]
  },
  {
   "cell_type": "code",
   "execution_count": null,
   "id": "abb6fc6a-75eb-4347-8888-8267612d4543",
   "metadata": {},
   "outputs": [],
   "source": [
    "tf_precrompression = TFBilinear(loading_ratio = 1.0, time_ratio=0.1)\n",
    "tf_sliding = TFBilinear(loading_ratio = 0.0, time_ratio=0.1)"
   ]
  },
  {
   "cell_type": "code",
   "execution_count": null,
   "id": "83131725-cc9a-4c2f-81ea-034586a8bd42",
   "metadata": {
    "tags": []
   },
   "outputs": [],
   "source": [
    "w_max = 0.05 \n",
    "\n",
    "# Shear bc\n",
    "bc_l_x = BCSlice(slice=xmodel.mesh[0, :, :, 0, :, :],\n",
    "                  var='u', dims=[0,1,2], value=0.0)\n",
    "\n",
    "slide_slice = BCSlice(slice=xmodel.mesh[-1, :, :, -1, :, :],\n",
    "                 var='u', dims=[1], value=w_max)\n",
    "slide_dofs = slide_slice.dofs\n",
    "slide = [BCDof(var='u', dof=dof, value=w_max , time_function=tf_sliding) \n",
    "                     for dof in slide_dofs ]\n",
    "\n",
    "\n",
    "compression_slice = BCSlice(slice=xmodel.mesh[-1, :, :, -1, :, :],\n",
    "                 var='u', dims=[0], value=-w_max/100)\n",
    "compression_dofs = compression_slice.dofs\n",
    "compression_force = -1 * (size_y*size_z) / len(compression_dofs)\n",
    "compression_force_first = [BCDof(var='f', dof=dof, value=compression_force, time_function=tf_precrompression) \n",
    "                                 for dof in compression_dofs ]\n"
   ]
  },
  {
   "cell_type": "code",
   "execution_count": null,
   "id": "7b618570-c980-4823-85b2-c2845e83fac5",
   "metadata": {},
   "outputs": [],
   "source": [
    "bc1 = [bc_l_x]  + slide + compression_force_first"
   ]
  },
  {
   "cell_type": "code",
   "execution_count": null,
   "id": "c01f3cd0-aeff-4c2a-817c-8aa442d21934",
   "metadata": {},
   "outputs": [],
   "source": [
    "m.bc=bc1\n",
    "m.hist.vis_record = {\n",
    "#    'strain': Vis3DTensorField(var='eps_ab'),\n",
    "    'stress': Vis3DTensorField(var='sig_ab'),\n",
    "    #        'kinematic hardening': Vis3DStateField(var='z_a')\n",
    "}\n",
    "\n",
    "s = m.sim\n",
    "s.tloop.verbose = True\n",
    "s.tloop.k_max = 1000\n",
    "s.tline.step = 0.05\n",
    "# Accessing the following property - ensures serialization\n",
    "s.tstep.fe_domain.serialized_subdomains\n",
    "s.reset()\n",
    "s.run()"
   ]
  },
  {
   "cell_type": "code",
   "execution_count": null,
   "id": "62553563-943c-4cff-852b-afd0733a1cca",
   "metadata": {},
   "outputs": [],
   "source": [
    "U_last = m.hist.U_t[-1]\n",
    "F_last = m.hist.U_t[-1]\n",
    "U_t = np.average(m.hist.U_t[:, slide_dofs], axis=-1)\n",
    "F_t = np.sum(m.hist.F_t[:, slide_dofs], axis=-1)\n",
    "F_t_c = np.sum(m.hist.F_t[:, compression_dofs], axis=-1)\n",
    "fig, ax = plt.subplots(1, 1)\n",
    "ax.plot(U_t, F_t)\n",
    "ax.plot(U_t, F_t_c)"
   ]
  },
  {
   "cell_type": "code",
   "execution_count": null,
   "id": "dde8d6cc-a1d6-4a53-8896-f774fe33964b",
   "metadata": {},
   "outputs": [],
   "source": [
    "if True:\n",
    "    mlab.options.backend = 'envisage'\n",
    "    mlab.options.offscreen = False # 'envisage'\n",
    "    f_strain = mlab.figure()\n",
    "    scene = mlab.get_engine().scenes[-1]\n",
    "    scene.name = 'stress'\n",
    "    strain_viz = Viz3DTensorField(vis3d=m.hist['stress'])\n",
    "    strain_viz.setup()\n",
    "    strain_viz.warp_vector.filter.scale_factor = 0.1\n",
    "    strain_viz.plot(s.tstep.t_n)\n",
    "    mlab.show()"
   ]
  },
  {
   "cell_type": "code",
   "execution_count": null,
   "id": "1e3ba787-a996-4195-a70a-7ba129d975f4",
   "metadata": {},
   "outputs": [],
   "source": []
  }
 ],
 "metadata": {
  "kernelspec": {
   "display_name": "bmcs_env",
   "language": "python",
   "name": "bmcs_env"
  },
  "language_info": {
   "codemirror_mode": {
    "name": "ipython",
    "version": 3
   },
   "file_extension": ".py",
   "mimetype": "text/x-python",
   "name": "python",
   "nbconvert_exporter": "python",
   "pygments_lexer": "ipython3"
  }
 },
 "nbformat": 4,
 "nbformat_minor": 5
}
