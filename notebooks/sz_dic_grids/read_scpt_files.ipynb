{
 "cells": [
  {
   "cell_type": "code",
   "execution_count": null,
   "id": "2034b97c",
   "metadata": {},
   "outputs": [],
   "source": [
    "import sympy as sp\n",
    "import numpy as np\n",
    "from os.path import expanduser, join\n",
    "import os"
   ]
  },
  {
   "cell_type": "code",
   "execution_count": null,
   "id": "9dc0c8f0",
   "metadata": {},
   "outputs": [],
   "source": [
    "# home_dir = expanduser('~')\n",
    "# data_dir = join(home_dir,'SCPT files')\n",
    "# data_dir"
   ]
  },
  {
   "cell_type": "code",
   "execution_count": null,
   "id": "91c0fb01",
   "metadata": {},
   "outputs": [],
   "source": [
    "# results = [join(data_dir,each) \n",
    "#            for each in sorted(os.listdir(data_dir)) \n",
    "#            if each.endswith('.csv')]\n",
    "# results"
   ]
  },
  {
   "cell_type": "code",
   "execution_count": null,
   "id": "81b0ed7c",
   "metadata": {},
   "outputs": [],
   "source": [
    "# np.loadtxt(results, dtype=float, \n",
    "#             skiprows=1, delimiter=',', usecols=54, unpack=False)"
   ]
  },
  {
   "cell_type": "code",
   "execution_count": null,
   "id": "c321aeeb",
   "metadata": {},
   "outputs": [],
   "source": [
    "# import pandas as pd"
   ]
  },
  {
   "cell_type": "code",
   "execution_count": null,
   "id": "67d6fea4",
   "metadata": {},
   "outputs": [],
   "source": [
    "# pd.read_csv(results, dtype=float, \n",
    "#             skiprows=1, delimiter=',', usecols=(30))"
   ]
  },
  {
   "cell_type": "code",
   "execution_count": null,
   "id": "1767c275",
   "metadata": {},
   "outputs": [],
   "source": [
    "# w_top = pd.read_excel('D:\\Shear zones\\SCPT files\\B1-TV1 opening.xlsx', usecols=('BA'), nrows = 156)\n",
    "# #w_top"
   ]
  },
  {
   "cell_type": "code",
   "execution_count": null,
   "id": "bffdbb6c",
   "metadata": {},
   "outputs": [],
   "source": [
    "# w_bott_1 = pd.read_excel('D:\\Shear zones\\SCPT files\\B1-TV1 opening.xlsx', usecols=('BB'), nrows = 156)\n",
    "# #w_bott_1"
   ]
  },
  {
   "cell_type": "code",
   "execution_count": null,
   "id": "a629b76c",
   "metadata": {},
   "outputs": [],
   "source": [
    "# w_bott_0 = pd.read_excel('D:\\Shear zones\\SCPT files\\B1-TV1 opening.xlsx', usecols=('BC'), nrows = 156)\n",
    "# #w_bott_0"
   ]
  },
  {
   "cell_type": "code",
   "execution_count": null,
   "id": "9952e98e",
   "metadata": {},
   "outputs": [],
   "source": [
    "# s_bott = pd.read_excel('D:\\Shear zones\\SCPT files\\B1-TV1 opening.xlsx', usecols=('BD'), nrows = 156)\n",
    "# #s_bott"
   ]
  },
  {
   "cell_type": "code",
   "execution_count": null,
   "id": "706ffee5",
   "metadata": {},
   "outputs": [],
   "source": [
    "# height = pd.read_excel('D:\\Shear zones\\SCPT files\\B1-TV1 opening.xlsx', usecols=('H'), nrows = 156)\n",
    "# #height"
   ]
  },
  {
   "cell_type": "code",
   "execution_count": null,
   "id": "60e7f81c",
   "metadata": {},
   "outputs": [],
   "source": [
    "# w_top_arr = np.array([w_top])\n",
    "# s_bott_arr = np.array([s_bott])\n",
    "# w_bott_0_arr = np.array([w_bott_0])\n",
    "# w_bott_1_arr = np.array([w_bott_1])\n",
    "# height_arr = np.array([height])\n",
    "# #height_arr"
   ]
  },
  {
   "cell_type": "code",
   "execution_count": null,
   "id": "1f3f6af2",
   "metadata": {},
   "outputs": [],
   "source": [
    "%matplotlib widget\n",
    "import ibvpy.api as ib\n",
    "import matplotlib.pylab as plt\n",
    "from matplotlib import cm\n",
    "from scipy.interpolate import interp2d\n",
    "from scipy.signal import argrelextrema\n",
    "from bmcs_shear.api import CrackBridgeAdv\n",
    "from bmcs_shear.dic_crack import\\\n",
    "    DICGrid, DICStateFields, DICCrackList, DICCrack, DICCrackCOR, DICAlignedGrid\n",
    "from bmcs_shear.shear_crack.crack_path import get_T_Lab\n",
    "import numpy as np\n",
    "import ibvpy.api as ib\n",
    "np.seterr(divide ='ignore', invalid='ignore');"
   ]
  },
  {
   "cell_type": "code",
   "execution_count": null,
   "id": "64c93e5e",
   "metadata": {},
   "outputs": [],
   "source": [
    "dic_grid = DICGrid(U_factor=100, dir_name='B1_TV1', t=1)\n",
    "#dic_grid = DICGrid(start_t=0, end_t=1, U_factor=100, dir_name='B9_TV1', t=1)\n",
    "dsf = DICStateFields(dic_grid=dic_grid)\n",
    "dsf.tmodel_.trait_set(E=5000, c_T=0, nu=0.18, epsilon_0=0.0005, epsilon_f=0.01);\n",
    "dsf.eval()\n",
    "\n",
    "dcl = DICCrackList(dsf=dsf)\n",
    "crit_crack = dcl.items[3]\n",
    "crit_crack.cl.dsf\n",
    "dc_cor = DICCrackCOR(dic_crack = crit_crack)"
   ]
  },
  {
   "cell_type": "code",
   "execution_count": null,
   "id": "b33c1472",
   "metadata": {},
   "outputs": [],
   "source": [
    "from bmcs_shear.dic_crack import DICStressProfile\n",
    "dic_grid = DICGrid(U_factor=100, dir_name='B1_TV1', t=1)\n",
    "#dic_grid = DICGrid(start_t=0, end_t=1, U_factor=100, dir_name='B9_TV1', t=1)\n",
    "dsf = DICStateFields(dic_grid=dic_grid)\n",
    "dsf.tmodel_.trait_set(E=5000, c_T=0, nu=0.18, epsilon_0=0.0005, epsilon_f=0.01);\n",
    "dsf.eval()\n",
    "\n",
    "dcl = DICCrackList(dsf=dsf)\n",
    "crack_5 = dcl.items[3]\n",
    "crack_5.cl.dsf\n",
    "dc_cor = DICCrackCOR(dic_crack = crack_5)\n",
    "\n",
    "\n",
    "sp = DICStressProfile(dic_crack = crack_5)"
   ]
  },
  {
   "cell_type": "code",
   "execution_count": null,
   "id": "6270ba82",
   "metadata": {},
   "outputs": [],
   "source": [
    "np.shape(sp.u_t_crc_Kb[:73,0])"
   ]
  },
  {
   "cell_type": "code",
   "execution_count": null,
   "id": "c4b1c9eb",
   "metadata": {},
   "outputs": [],
   "source": [
    "np.shape(crack_5.x_1_crc_Ka[:,1])"
   ]
  },
  {
   "cell_type": "code",
   "execution_count": null,
   "id": "c21b6c7e",
   "metadata": {},
   "outputs": [],
   "source": [
    "# w_array = np.arange(w_bott_1_arr[0,150,0], w_bott_0_arr[0,150,0], -0.01)\n",
    "# w_array"
   ]
  },
  {
   "cell_type": "code",
   "execution_count": null,
   "id": "454f7cde",
   "metadata": {},
   "outputs": [],
   "source": [
    "# w_bott_0_arr[0,150,0]"
   ]
  },
  {
   "cell_type": "code",
   "execution_count": null,
   "id": "9abe9511",
   "metadata": {},
   "outputs": [],
   "source": [
    "# height_model = crack_5.y_N#[:dc_cor.dic_crack.N_tip]\n",
    "# height_model"
   ]
  },
  {
   "cell_type": "code",
   "execution_count": null,
   "id": "d2291992",
   "metadata": {},
   "outputs": [],
   "source": [
    "# height_scpt = np.arange(14,height_arr[0,150,0], 7.7)\n",
    "# height_scpt"
   ]
  },
  {
   "cell_type": "code",
   "execution_count": null,
   "id": "39dd3414",
   "metadata": {},
   "outputs": [],
   "source": [
    "# fig, ax = plt.subplots()\n",
    "# #ax.plot(s_bott_arr[0,:,0], height_arr[0,:,0], color='green');\n",
    "# #ax.plot(dc_cor.dic_crack.U1_Kb[:dc_cor.dic_crack.N_tip,1], height_model)\n",
    "# ax.plot(sp.u_t_crc_Kb[:73,0], crack_5.x_1_crc_Ka[:,1])\n",
    "# ax.plot(w_array, height_scpt[:26], color='green')"
   ]
  },
  {
   "cell_type": "code",
   "execution_count": null,
   "id": "672ddf8c",
   "metadata": {},
   "outputs": [],
   "source": [
    "# s_array = np.linspace(s_bott_arr[0,150,0], s_bott_arr[0,150,0], 26)\n",
    "# s_array"
   ]
  },
  {
   "cell_type": "code",
   "execution_count": null,
   "id": "7c4e275d",
   "metadata": {},
   "outputs": [],
   "source": [
    "# fig, ax = plt.subplots()\n",
    "# #ax.plot(s_bott_arr[0,:,0], height_arr[0,:,0], color='green');\n",
    "# #ax.plot(dc_cor.dic_crack.U1_Kb[:dc_cor.dic_crack.N_tip,1], height_model)\n",
    "# ax.plot(sp.u_t_crc_Kb[:73,1], crack_5.x_1_crc_Ka[:,1])\n",
    "# ax.plot(s_array, height_scpt[:26], color='green')"
   ]
  },
  {
   "cell_type": "code",
   "execution_count": null,
   "id": "08eb69a4",
   "metadata": {},
   "outputs": [],
   "source": [
    "dic_grid = DICGrid(U_factor=100, dir_name='B1_TV1')\n",
    "dsf = DICStateFields(dic_grid=dic_grid)\n",
    "dsf.tmodel_.trait_set(E=5000, c_T=0, nu=0.18, epsilon_0=0.0005, epsilon_f=0.01);\n",
    "dsf.eval()\n",
    "dcl = DICCrackList(dsf=dsf)\n",
    "crack_s = dcl.items[3]"
   ]
  },
  {
   "cell_type": "code",
   "execution_count": null,
   "id": "550666a9",
   "metadata": {},
   "outputs": [],
   "source": [
    "U_bottom = []\n",
    "for t in np.linspace(0,1,10):\n",
    "    print('t =', t)\n",
    "    dic_grid.t = t\n",
    "    U_bottom.append(crack_s.sp.u_t_crc_Kb[0])\n",
    "U_bottom"
   ]
  },
  {
   "cell_type": "code",
   "execution_count": null,
   "id": "972ed836",
   "metadata": {},
   "outputs": [],
   "source": [
    "dic_grid = DICGrid(U_factor=100, dir_name='B1_TV1')\n",
    "t1 = dic_grid.argmax_F_dic_T\n",
    "\n",
    "#t_arr = np.arange(0, t1, dic_grid.t)\n",
    "t_arr = np.linspace(0,1,t1)\n",
    "print(t_arr)\n",
    "for t in t_arr[::1]:\n",
    "    \n",
    "    dic_grid.t = t\n",
    "\n",
    "    #dc_cor.state_changed = True\n",
    "    print('*********')\n",
    "    print(t)\n",
    "    print(dic_grid.t)\n",
    "    print(dic_grid.F_T1)\n",
    "    \n",
    "    \n",
    "    dsf = DICStateFields(dic_grid=dic_grid)\n",
    "    dsf.tmodel_.trait_set(E=5000, c_T=0, nu=0.18, epsilon_0=0.0005, epsilon_f=0.01);\n",
    "    dsf.eval()\n",
    "    print('t1', dsf.T1)\n",
    "    #print(dsf.omega_TMN)\n",
    "    \n",
    "\n",
    "    \n",
    "    dcl = DICCrackList(dsf=dsf)\n",
    "    #print(dcl.cracks_T)\n",
    "    crack_s = dcl.items[3]\n",
    "    #crack_5.cl.dsf \n",
    "    #dc_cor = DICCrackCOR(dic_crack = crack_5)\n",
    "    print(crack_s.T1)\n",
    "#     sp = DICStressProfile(dic_crack = crack_5)\n",
    "#     print(sp.dic_crack.T1)"
   ]
  },
  {
   "cell_type": "code",
   "execution_count": null,
   "id": "25f02e4f",
   "metadata": {},
   "outputs": [],
   "source": [
    "# file = open('D:\\Shear zones\\SCPT files\\B1-TV1 opening.csv')\n",
    "# file"
   ]
  },
  {
   "cell_type": "code",
   "execution_count": null,
   "id": "db994041",
   "metadata": {},
   "outputs": [],
   "source": [
    "U_TPa = np.array([\n",
    "            np.loadtxt('D:\\Shear zones\\SCPT files\\B1-TV1 opening.csv', dtype=float,\n",
    "                       skiprows=1, delimiter=',', usecols=(2,3), unpack=False)\n",
    "        ], dtype=np.float_)"
   ]
  },
  {
   "cell_type": "code",
   "execution_count": null,
   "id": "1246c390",
   "metadata": {},
   "outputs": [],
   "source": [
    "data = np.loadtxt('D:\\Shear zones\\SCPT files\\B1-TV1 opening.csv', \n",
    "           dtype={'names': ('point', 'empty', 'x', 'y'), 'formats': \n",
    "                  (np.str_, np.str_, np.float_, np.float_)},\n",
    "                       skiprows=0, delimiter=',', unpack=False)"
   ]
  },
  {
   "cell_type": "code",
   "execution_count": null,
   "id": "24f9d48f",
   "metadata": {},
   "outputs": [],
   "source": []
  }
 ],
 "metadata": {
  "kernelspec": {
   "display_name": "Python 3",
   "language": "python",
   "name": "python3"
  },
  "language_info": {
   "codemirror_mode": {
    "name": "ipython",
    "version": 3
   },
   "file_extension": ".py",
   "mimetype": "text/x-python",
   "name": "python",
   "nbconvert_exporter": "python",
   "pygments_lexer": "ipython3"
  }
 },
 "nbformat": 4,
 "nbformat_minor": 5
}
