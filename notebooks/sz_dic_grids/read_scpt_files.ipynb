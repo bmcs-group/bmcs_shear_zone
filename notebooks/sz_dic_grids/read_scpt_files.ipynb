{
 "cells": [
  {
   "cell_type": "code",
   "execution_count": 1,
   "id": "2034b97c",
   "metadata": {},
   "outputs": [],
   "source": [
    "import sympy as sp\n",
    "import numpy as np\n",
    "from os.path import expanduser, join\n",
    "import os"
   ]
  },
  {
   "cell_type": "code",
   "execution_count": 2,
   "id": "9dc0c8f0",
   "metadata": {},
   "outputs": [],
   "source": [
    "# home_dir = expanduser('~')\n",
    "# data_dir = join(home_dir,'SCPT files')\n",
    "# data_dir"
   ]
  },
  {
   "cell_type": "code",
   "execution_count": 3,
   "id": "91c0fb01",
   "metadata": {},
   "outputs": [],
   "source": [
    "# results = [join(data_dir,each) \n",
    "#            for each in sorted(os.listdir(data_dir)) \n",
    "#            if each.endswith('.csv')]\n",
    "# results"
   ]
  },
  {
   "cell_type": "code",
   "execution_count": 4,
   "id": "81b0ed7c",
   "metadata": {},
   "outputs": [],
   "source": [
    "# np.loadtxt(results, dtype=float, \n",
    "#             skiprows=1, delimiter=',', usecols=54, unpack=False)"
   ]
  },
  {
   "cell_type": "code",
   "execution_count": 5,
   "id": "c321aeeb",
   "metadata": {},
   "outputs": [],
   "source": [
    "# import pandas as pd"
   ]
  },
  {
   "cell_type": "code",
   "execution_count": 6,
   "id": "67d6fea4",
   "metadata": {},
   "outputs": [],
   "source": [
    "# pd.read_csv(results, dtype=float, \n",
    "#             skiprows=1, delimiter=',', usecols=(30))"
   ]
  },
  {
   "cell_type": "code",
   "execution_count": 7,
   "id": "1767c275",
   "metadata": {},
   "outputs": [],
   "source": [
    "# w_top = pd.read_excel('D:\\Shear zones\\SCPT files\\B1-TV1 opening.xlsx', usecols=('BA'), nrows = 156)\n",
    "# #w_top"
   ]
  },
  {
   "cell_type": "code",
   "execution_count": 8,
   "id": "bffdbb6c",
   "metadata": {},
   "outputs": [],
   "source": [
    "# w_bott_1 = pd.read_excel('D:\\Shear zones\\SCPT files\\B1-TV1 opening.xlsx', usecols=('BB'), nrows = 156)\n",
    "# #w_bott_1"
   ]
  },
  {
   "cell_type": "code",
   "execution_count": 9,
   "id": "a629b76c",
   "metadata": {},
   "outputs": [],
   "source": [
    "# w_bott_0 = pd.read_excel('D:\\Shear zones\\SCPT files\\B1-TV1 opening.xlsx', usecols=('BC'), nrows = 156)\n",
    "# #w_bott_0"
   ]
  },
  {
   "cell_type": "code",
   "execution_count": 10,
   "id": "9952e98e",
   "metadata": {},
   "outputs": [],
   "source": [
    "# s_bott = pd.read_excel('D:\\Shear zones\\SCPT files\\B1-TV1 opening.xlsx', usecols=('BD'), nrows = 156)\n",
    "# #s_bott"
   ]
  },
  {
   "cell_type": "code",
   "execution_count": 11,
   "id": "706ffee5",
   "metadata": {},
   "outputs": [],
   "source": [
    "# height = pd.read_excel('D:\\Shear zones\\SCPT files\\B1-TV1 opening.xlsx', usecols=('H'), nrows = 156)\n",
    "# #height"
   ]
  },
  {
   "cell_type": "code",
   "execution_count": 12,
   "id": "60e7f81c",
   "metadata": {
    "scrolled": false
   },
   "outputs": [],
   "source": [
    "# w_top_arr = np.array([w_top])\n",
    "# s_bott_arr = np.array([s_bott])\n",
    "# w_bott_0_arr = np.array([w_bott_0])\n",
    "# w_bott_1_arr = np.array([w_bott_1])\n",
    "# height_arr = np.array([height])\n",
    "# #height_arr"
   ]
  },
  {
   "cell_type": "code",
   "execution_count": 13,
   "id": "1f3f6af2",
   "metadata": {},
   "outputs": [],
   "source": [
    "%matplotlib widget\n",
    "import ibvpy.api as ib\n",
    "import matplotlib.pylab as plt\n",
    "from matplotlib import cm\n",
    "from scipy.interpolate import interp2d\n",
    "from scipy.signal import argrelextrema\n",
    "from bmcs_shear.api import CrackBridgeAdv\n",
    "from bmcs_shear.dic_crack import\\\n",
    "    DICGrid, DICStateFields, DICCrackList, DICCrack, DICCrackCOR, DICAlignedGrid\n",
    "from bmcs_shear.shear_crack.crack_path import get_T_Lab\n",
    "import numpy as np\n",
    "import ibvpy.api as ib\n",
    "np.seterr(divide ='ignore', invalid='ignore');"
   ]
  },
  {
   "cell_type": "code",
   "execution_count": 14,
   "id": "64c93e5e",
   "metadata": {},
   "outputs": [
    {
     "name": "stdout",
     "output_type": "stream",
     "text": [
      "Creating cracks\n"
     ]
    }
   ],
   "source": [
    "dic_grid = DICGrid(U_factor=100, dir_name='B1_TV1', t=1)\n",
    "#dic_grid = DICGrid(start_t=0, end_t=1, U_factor=100, dir_name='B9_TV1', t=1)\n",
    "dsf = DICStateFields(dic_grid=dic_grid)\n",
    "dsf.tmodel_.trait_set(E=5000, c_T=0, nu=0.18, epsilon_0=0.0005, epsilon_f=0.01);\n",
    "dsf.eval()\n",
    "\n",
    "dcl = DICCrackList(dsf=dsf)\n",
    "crit_crack = dcl.items[3]\n",
    "crit_crack.cl.dsf\n",
    "dc_cor = DICCrackCOR(dic_crack = crit_crack)"
   ]
  },
  {
   "cell_type": "code",
   "execution_count": 15,
   "id": "b33c1472",
   "metadata": {},
   "outputs": [
    {
     "name": "stdout",
     "output_type": "stream",
     "text": [
      "Creating cracks\n"
     ]
    }
   ],
   "source": [
    "from bmcs_shear.dic_crack import DICStressProfile\n",
    "dic_grid = DICGrid(U_factor=100, dir_name='B1_TV1', t=1)\n",
    "#dic_grid = DICGrid(start_t=0, end_t=1, U_factor=100, dir_name='B9_TV1', t=1)\n",
    "dsf = DICStateFields(dic_grid=dic_grid)\n",
    "dsf.tmodel_.trait_set(E=5000, c_T=0, nu=0.18, epsilon_0=0.0005, epsilon_f=0.01);\n",
    "dsf.eval()\n",
    "\n",
    "dcl = DICCrackList(dsf=dsf)\n",
    "crack_5 = dcl.items[3]\n",
    "crack_5.cl.dsf\n",
    "dc_cor = DICCrackCOR(dic_crack = crack_5)\n",
    "\n",
    "\n",
    "sp = DICStressProfile(dic_crack = crack_5)"
   ]
  },
  {
   "cell_type": "code",
   "execution_count": 16,
   "id": "6270ba82",
   "metadata": {},
   "outputs": [
    {
     "data": {
      "text/plain": [
       "(73,)"
      ]
     },
     "execution_count": 16,
     "metadata": {},
     "output_type": "execute_result"
    }
   ],
   "source": [
    "np.shape(sp.u_t_crc_Kb[:73,0])"
   ]
  },
  {
   "cell_type": "code",
   "execution_count": 17,
   "id": "c4b1c9eb",
   "metadata": {},
   "outputs": [
    {
     "data": {
      "text/plain": [
       "(73,)"
      ]
     },
     "execution_count": 17,
     "metadata": {},
     "output_type": "execute_result"
    }
   ],
   "source": [
    "np.shape(crack_5.x_1_crc_Ka[:,1])"
   ]
  },
  {
   "cell_type": "code",
   "execution_count": 18,
   "id": "c21b6c7e",
   "metadata": {},
   "outputs": [],
   "source": [
    "# w_array = np.arange(w_bott_1_arr[0,150,0], w_bott_0_arr[0,150,0], -0.01)\n",
    "# w_array"
   ]
  },
  {
   "cell_type": "code",
   "execution_count": 19,
   "id": "454f7cde",
   "metadata": {},
   "outputs": [],
   "source": [
    "# w_bott_0_arr[0,150,0]"
   ]
  },
  {
   "cell_type": "code",
   "execution_count": 20,
   "id": "9abe9511",
   "metadata": {},
   "outputs": [],
   "source": [
    "# height_model = crack_5.y_N#[:dc_cor.dic_crack.N_tip]\n",
    "# height_model"
   ]
  },
  {
   "cell_type": "code",
   "execution_count": 21,
   "id": "d2291992",
   "metadata": {},
   "outputs": [],
   "source": [
    "# height_scpt = np.arange(14,height_arr[0,150,0], 7.7)\n",
    "# height_scpt"
   ]
  },
  {
   "cell_type": "code",
   "execution_count": 22,
   "id": "39dd3414",
   "metadata": {},
   "outputs": [],
   "source": [
    "# fig, ax = plt.subplots()\n",
    "# #ax.plot(s_bott_arr[0,:,0], height_arr[0,:,0], color='green');\n",
    "# #ax.plot(dc_cor.dic_crack.U1_Kb[:dc_cor.dic_crack.N_tip,1], height_model)\n",
    "# ax.plot(sp.u_t_crc_Kb[:73,0], crack_5.x_1_crc_Ka[:,1])\n",
    "# ax.plot(w_array, height_scpt[:26], color='green')"
   ]
  },
  {
   "cell_type": "code",
   "execution_count": 23,
   "id": "672ddf8c",
   "metadata": {
    "scrolled": false
   },
   "outputs": [],
   "source": [
    "# s_array = np.linspace(s_bott_arr[0,150,0], s_bott_arr[0,150,0], 26)\n",
    "# s_array"
   ]
  },
  {
   "cell_type": "code",
   "execution_count": 24,
   "id": "7c4e275d",
   "metadata": {},
   "outputs": [],
   "source": [
    "# fig, ax = plt.subplots()\n",
    "# #ax.plot(s_bott_arr[0,:,0], height_arr[0,:,0], color='green');\n",
    "# #ax.plot(dc_cor.dic_crack.U1_Kb[:dc_cor.dic_crack.N_tip,1], height_model)\n",
    "# ax.plot(sp.u_t_crc_Kb[:73,1], crack_5.x_1_crc_Ka[:,1])\n",
    "# ax.plot(s_array, height_scpt[:26], color='green')"
   ]
  },
  {
   "cell_type": "code",
   "execution_count": 26,
   "id": "972ed836",
   "metadata": {
    "scrolled": false
   },
   "outputs": [
    {
     "name": "stdout",
     "output_type": "stream",
     "text": [
      "[0.         0.03846154 0.07692308 0.11538462 0.15384615 0.19230769\n",
      " 0.23076923 0.26923077 0.30769231 0.34615385 0.38461538 0.42307692\n",
      " 0.46153846 0.5        0.53846154 0.57692308 0.61538462 0.65384615\n",
      " 0.69230769 0.73076923 0.76923077 0.80769231 0.84615385 0.88461538\n",
      " 0.92307692 0.96153846 1.        ]\n",
      "*********\n",
      "0.0\n",
      "0.0\n",
      "0.0\n",
      "t1 0\n",
      "Creating cracks\n",
      "18\n",
      "*********\n",
      "0.038461538461538464\n",
      "0.038461538461538464\n",
      "13.0\n",
      "t1 1\n",
      "Creating cracks\n",
      "18\n",
      "*********\n",
      "0.07692307692307693\n",
      "0.07692307692307693\n",
      "24.0\n",
      "t1 2\n",
      "Creating cracks\n",
      "18\n",
      "*********\n",
      "0.11538461538461539\n",
      "0.11538461538461539\n",
      "39.0\n",
      "t1 3\n",
      "Creating cracks\n",
      "18\n",
      "*********\n",
      "0.15384615384615385\n",
      "0.15384615384615385\n",
      "50.0\n",
      "t1 4\n",
      "Creating cracks\n",
      "18\n",
      "*********\n",
      "0.19230769230769232\n",
      "0.19230769230769232\n",
      "66.0\n",
      "t1 5\n",
      "Creating cracks\n",
      "18\n",
      "*********\n",
      "0.23076923076923078\n",
      "0.23076923076923078\n",
      "77.0\n",
      "t1 6\n",
      "Creating cracks\n",
      "18\n",
      "*********\n",
      "0.2692307692307693\n",
      "0.2692307692307693\n",
      "87.0\n",
      "t1 7\n",
      "Creating cracks\n",
      "18\n",
      "*********\n",
      "0.3076923076923077\n",
      "0.3076923076923077\n",
      "103.0\n",
      "t1 8\n",
      "Creating cracks\n",
      "18\n",
      "*********\n",
      "0.34615384615384615\n",
      "0.34615384615384615\n",
      "113.0\n",
      "t1 9\n",
      "Creating cracks\n",
      "18\n",
      "*********\n",
      "0.38461538461538464\n",
      "0.38461538461538464\n",
      "125.0\n",
      "t1 10\n",
      "Creating cracks\n",
      "18\n",
      "*********\n",
      "0.42307692307692313\n",
      "0.42307692307692313\n",
      "136.0\n",
      "t1 11\n",
      "Creating cracks\n",
      "18\n",
      "*********\n",
      "0.46153846153846156\n",
      "0.46153846153846156\n",
      "150.0\n",
      "t1 12\n",
      "Creating cracks\n",
      "18\n",
      "*********\n",
      "0.5\n",
      "0.5\n",
      "163.0\n",
      "t1 13\n",
      "Creating cracks\n",
      "18\n",
      "*********\n",
      "0.5384615384615385\n",
      "0.5384615384615385\n",
      "175.0\n",
      "t1 14\n",
      "Creating cracks\n",
      "18\n",
      "*********\n",
      "0.576923076923077\n",
      "0.576923076923077\n",
      "170.0\n",
      "t1 15\n",
      "Creating cracks\n",
      "18\n",
      "*********\n",
      "0.6153846153846154\n",
      "0.6153846153846154\n",
      "169.0\n",
      "t1 16\n",
      "Creating cracks\n",
      "18\n",
      "*********\n",
      "0.6538461538461539\n",
      "0.6538461538461539\n",
      "175.0\n",
      "t1 17\n",
      "Creating cracks\n",
      "18\n",
      "*********\n",
      "0.6923076923076923\n",
      "0.6923076923076923\n",
      "183.0\n",
      "t1 18\n",
      "Creating cracks\n",
      "18\n",
      "*********\n",
      "0.7307692307692308\n",
      "0.7307692307692308\n",
      "191.0\n",
      "t1 19\n",
      "Creating cracks\n",
      "18\n",
      "*********\n",
      "0.7692307692307693\n",
      "0.7692307692307693\n",
      "194.541\n",
      "t1 20\n",
      "Creating cracks\n",
      "18\n",
      "*********\n",
      "0.8076923076923077\n",
      "0.8076923076923077\n",
      "194.738\n",
      "t1 21\n",
      "Creating cracks\n",
      "18\n",
      "*********\n",
      "0.8461538461538463\n",
      "0.8461538461538463\n",
      "194.915\n",
      "t1 22\n",
      "Creating cracks\n",
      "18\n",
      "*********\n",
      "0.8846153846153847\n",
      "0.8846153846153847\n",
      "195.12\n",
      "t1 23\n",
      "Creating cracks\n",
      "18\n",
      "*********\n",
      "0.9230769230769231\n",
      "0.9230769230769231\n",
      "195.215\n",
      "t1 24\n",
      "Creating cracks\n",
      "18\n",
      "*********\n",
      "0.9615384615384616\n",
      "0.9615384615384616\n",
      "195.384\n",
      "t1 25\n",
      "Creating cracks\n",
      "18\n",
      "*********\n",
      "1.0\n",
      "1.0\n",
      "195.549\n",
      "t1 26\n",
      "Creating cracks\n",
      "18\n"
     ]
    }
   ],
   "source": [
    "dic_grid = DICGrid(U_factor=100, dir_name='B1_TV1')\n",
    "t1 = dic_grid.argmax_F_dic_T\n",
    "\n",
    "#t_arr = np.arange(0, t1, dic_grid.t)\n",
    "t_arr = np.linspace(0,1,t1)\n",
    "print(t_arr)\n",
    "for t in t_arr[::1]:\n",
    "    \n",
    "    dic_grid.t = t\n",
    "\n",
    "    #dc_cor.state_changed = True\n",
    "    print('*********')\n",
    "    print(t)\n",
    "    print(dic_grid.t)\n",
    "    print(dic_grid.F_T1)\n",
    "    \n",
    "    \n",
    "    dsf = DICStateFields(dic_grid=dic_grid)\n",
    "    dsf.tmodel_.trait_set(E=5000, c_T=0, nu=0.18, epsilon_0=0.0005, epsilon_f=0.01);\n",
    "    dsf.eval()\n",
    "    print('t1', dsf.T1)\n",
    "    #print(dsf.omega_TMN)\n",
    "    \n",
    "\n",
    "    \n",
    "    dcl = DICCrackList(dsf=dsf)\n",
    "    #print(dcl.cracks_T)\n",
    "    crack_s = dcl.items[3]\n",
    "    #crack_5.cl.dsf \n",
    "    #dc_cor = DICCrackCOR(dic_crack = crack_5)\n",
    "    print(crack_s.T1)\n",
    "#     sp = DICStressProfile(dic_crack = crack_5)\n",
    "#     print(sp.dic_crack.T1)"
   ]
  },
  {
   "cell_type": "code",
   "execution_count": 5,
   "id": "25f02e4f",
   "metadata": {},
   "outputs": [
    {
     "data": {
      "text/plain": [
       "<_io.TextIOWrapper name='D:\\\\Shear zones\\\\SCPT files\\\\B1-TV1 opening.csv' mode='r' encoding='cp1252'>"
      ]
     },
     "execution_count": 5,
     "metadata": {},
     "output_type": "execute_result"
    }
   ],
   "source": [
    "# file = open('D:\\Shear zones\\SCPT files\\B1-TV1 opening.csv')\n",
    "# file"
   ]
  },
  {
   "cell_type": "code",
   "execution_count": 6,
   "id": "db994041",
   "metadata": {},
   "outputs": [
    {
     "ename": "ValueError",
     "evalue": "could not convert string to float: ''",
     "output_type": "error",
     "traceback": [
      "\u001b[1;31m---------------------------------------------------------------------------\u001b[0m",
      "\u001b[1;31mValueError\u001b[0m                                Traceback (most recent call last)",
      "\u001b[1;32m~\\AppData\\Local\\Temp/ipykernel_20364/4066242377.py\u001b[0m in \u001b[0;36m<module>\u001b[1;34m\u001b[0m\n\u001b[0;32m      1\u001b[0m U_TPa = np.array([\n\u001b[1;32m----> 2\u001b[1;33m             np.loadtxt('D:\\Shear zones\\SCPT files\\B1-TV1 opening.csv', dtype=float,\n\u001b[0m\u001b[0;32m      3\u001b[0m                        skiprows=1, delimiter=',', usecols=(2,3), unpack=False)\n\u001b[0;32m      4\u001b[0m         ], dtype=np.float_)\n",
      "\u001b[1;32m~\\Anaconda3\\envs\\bmcs_env\\lib\\site-packages\\numpy\\lib\\npyio.py\u001b[0m in \u001b[0;36mloadtxt\u001b[1;34m(fname, dtype, comments, delimiter, converters, skiprows, usecols, unpack, ndmin, encoding, max_rows, like)\u001b[0m\n\u001b[0;32m   1161\u001b[0m                 \u001b[1;31m# Convert each value according to its column, then pack it\u001b[0m\u001b[1;33m\u001b[0m\u001b[1;33m\u001b[0m\u001b[0m\n\u001b[0;32m   1162\u001b[0m                 \u001b[1;31m# according to the dtype's nesting, and store it.\u001b[0m\u001b[1;33m\u001b[0m\u001b[1;33m\u001b[0m\u001b[0m\n\u001b[1;32m-> 1163\u001b[1;33m                 \u001b[0mchunk\u001b[0m\u001b[1;33m.\u001b[0m\u001b[0mappend\u001b[0m\u001b[1;33m(\u001b[0m\u001b[0mpacker\u001b[0m\u001b[1;33m(\u001b[0m\u001b[0mconvert_row\u001b[0m\u001b[1;33m(\u001b[0m\u001b[0mwords\u001b[0m\u001b[1;33m)\u001b[0m\u001b[1;33m)\u001b[0m\u001b[1;33m)\u001b[0m\u001b[1;33m\u001b[0m\u001b[1;33m\u001b[0m\u001b[0m\n\u001b[0m\u001b[0;32m   1164\u001b[0m             \u001b[1;32mif\u001b[0m \u001b[1;32mnot\u001b[0m \u001b[0mchunk\u001b[0m\u001b[1;33m:\u001b[0m  \u001b[1;31m# The islice is empty, i.e. we're done.\u001b[0m\u001b[1;33m\u001b[0m\u001b[1;33m\u001b[0m\u001b[0m\n\u001b[0;32m   1165\u001b[0m                 \u001b[1;32mbreak\u001b[0m\u001b[1;33m\u001b[0m\u001b[1;33m\u001b[0m\u001b[0m\n",
      "\u001b[1;32m~\\Anaconda3\\envs\\bmcs_env\\lib\\site-packages\\numpy\\lib\\npyio.py\u001b[0m in \u001b[0;36mconvert_row\u001b[1;34m(vals, _conv)\u001b[0m\n\u001b[0;32m   1140\u001b[0m             \u001b[1;31m# equal dtypes.\u001b[0m\u001b[1;33m\u001b[0m\u001b[1;33m\u001b[0m\u001b[0m\n\u001b[0;32m   1141\u001b[0m             \u001b[1;32mdef\u001b[0m \u001b[0mconvert_row\u001b[0m\u001b[1;33m(\u001b[0m\u001b[0mvals\u001b[0m\u001b[1;33m,\u001b[0m \u001b[0m_conv\u001b[0m\u001b[1;33m=\u001b[0m\u001b[0mconverters\u001b[0m\u001b[1;33m[\u001b[0m\u001b[1;36m0\u001b[0m\u001b[1;33m]\u001b[0m\u001b[1;33m)\u001b[0m\u001b[1;33m:\u001b[0m\u001b[1;33m\u001b[0m\u001b[1;33m\u001b[0m\u001b[0m\n\u001b[1;32m-> 1142\u001b[1;33m                 \u001b[1;32mreturn\u001b[0m \u001b[1;33m[\u001b[0m\u001b[1;33m*\u001b[0m\u001b[0mmap\u001b[0m\u001b[1;33m(\u001b[0m\u001b[0m_conv\u001b[0m\u001b[1;33m,\u001b[0m \u001b[0mvals\u001b[0m\u001b[1;33m)\u001b[0m\u001b[1;33m]\u001b[0m\u001b[1;33m\u001b[0m\u001b[1;33m\u001b[0m\u001b[0m\n\u001b[0m\u001b[0;32m   1143\u001b[0m         \u001b[1;32melse\u001b[0m\u001b[1;33m:\u001b[0m\u001b[1;33m\u001b[0m\u001b[1;33m\u001b[0m\u001b[0m\n\u001b[0;32m   1144\u001b[0m             \u001b[1;32mdef\u001b[0m \u001b[0mconvert_row\u001b[0m\u001b[1;33m(\u001b[0m\u001b[0mvals\u001b[0m\u001b[1;33m)\u001b[0m\u001b[1;33m:\u001b[0m\u001b[1;33m\u001b[0m\u001b[1;33m\u001b[0m\u001b[0m\n",
      "\u001b[1;32m~\\Anaconda3\\envs\\bmcs_env\\lib\\site-packages\\numpy\\lib\\npyio.py\u001b[0m in \u001b[0;36m_floatconv\u001b[1;34m(x)\u001b[0m\n\u001b[0;32m    723\u001b[0m \u001b[1;32mdef\u001b[0m \u001b[0m_floatconv\u001b[0m\u001b[1;33m(\u001b[0m\u001b[0mx\u001b[0m\u001b[1;33m)\u001b[0m\u001b[1;33m:\u001b[0m\u001b[1;33m\u001b[0m\u001b[1;33m\u001b[0m\u001b[0m\n\u001b[0;32m    724\u001b[0m     \u001b[1;32mtry\u001b[0m\u001b[1;33m:\u001b[0m\u001b[1;33m\u001b[0m\u001b[1;33m\u001b[0m\u001b[0m\n\u001b[1;32m--> 725\u001b[1;33m         \u001b[1;32mreturn\u001b[0m \u001b[0mfloat\u001b[0m\u001b[1;33m(\u001b[0m\u001b[0mx\u001b[0m\u001b[1;33m)\u001b[0m  \u001b[1;31m# The fastest path.\u001b[0m\u001b[1;33m\u001b[0m\u001b[1;33m\u001b[0m\u001b[0m\n\u001b[0m\u001b[0;32m    726\u001b[0m     \u001b[1;32mexcept\u001b[0m \u001b[0mValueError\u001b[0m\u001b[1;33m:\u001b[0m\u001b[1;33m\u001b[0m\u001b[1;33m\u001b[0m\u001b[0m\n\u001b[0;32m    727\u001b[0m         \u001b[1;32mif\u001b[0m \u001b[1;34m'0x'\u001b[0m \u001b[1;32min\u001b[0m \u001b[0mx\u001b[0m\u001b[1;33m:\u001b[0m  \u001b[1;31m# Don't accidentally convert \"a\" (\"0xa\") to 10.\u001b[0m\u001b[1;33m\u001b[0m\u001b[1;33m\u001b[0m\u001b[0m\n",
      "\u001b[1;31mValueError\u001b[0m: could not convert string to float: ''"
     ]
    }
   ],
   "source": [
    "U_TPa = np.array([\n",
    "            np.loadtxt('D:\\Shear zones\\SCPT files\\B1-TV1 opening.csv', dtype=float,\n",
    "                       skiprows=1, delimiter=',', usecols=(2,3), unpack=False)\n",
    "        ], dtype=np.float_)"
   ]
  },
  {
   "cell_type": "code",
   "execution_count": 7,
   "id": "1246c390",
   "metadata": {},
   "outputs": [
    {
     "ename": "ValueError",
     "evalue": "could not convert string to float: ''",
     "output_type": "error",
     "traceback": [
      "\u001b[1;31m---------------------------------------------------------------------------\u001b[0m",
      "\u001b[1;31mValueError\u001b[0m                                Traceback (most recent call last)",
      "\u001b[1;32m~\\AppData\\Local\\Temp/ipykernel_20364/2953066168.py\u001b[0m in \u001b[0;36m<module>\u001b[1;34m\u001b[0m\n\u001b[1;32m----> 1\u001b[1;33m data = np.loadtxt('D:\\Shear zones\\SCPT files\\B1-TV1 opening.csv', \n\u001b[0m\u001b[0;32m      2\u001b[0m            dtype={'names': ('point', 'empty', 'x', 'y'), 'formats': \n\u001b[0;32m      3\u001b[0m                   (np.str_, np.str_, np.float_, np.float_)},\n\u001b[0;32m      4\u001b[0m                        skiprows=0, delimiter=',', unpack=False)\n",
      "\u001b[1;32m~\\Anaconda3\\envs\\bmcs_env\\lib\\site-packages\\numpy\\lib\\npyio.py\u001b[0m in \u001b[0;36mloadtxt\u001b[1;34m(fname, dtype, comments, delimiter, converters, skiprows, usecols, unpack, ndmin, encoding, max_rows, like)\u001b[0m\n\u001b[0;32m   1161\u001b[0m                 \u001b[1;31m# Convert each value according to its column, then pack it\u001b[0m\u001b[1;33m\u001b[0m\u001b[1;33m\u001b[0m\u001b[0m\n\u001b[0;32m   1162\u001b[0m                 \u001b[1;31m# according to the dtype's nesting, and store it.\u001b[0m\u001b[1;33m\u001b[0m\u001b[1;33m\u001b[0m\u001b[0m\n\u001b[1;32m-> 1163\u001b[1;33m                 \u001b[0mchunk\u001b[0m\u001b[1;33m.\u001b[0m\u001b[0mappend\u001b[0m\u001b[1;33m(\u001b[0m\u001b[0mpacker\u001b[0m\u001b[1;33m(\u001b[0m\u001b[0mconvert_row\u001b[0m\u001b[1;33m(\u001b[0m\u001b[0mwords\u001b[0m\u001b[1;33m)\u001b[0m\u001b[1;33m)\u001b[0m\u001b[1;33m)\u001b[0m\u001b[1;33m\u001b[0m\u001b[1;33m\u001b[0m\u001b[0m\n\u001b[0m\u001b[0;32m   1164\u001b[0m             \u001b[1;32mif\u001b[0m \u001b[1;32mnot\u001b[0m \u001b[0mchunk\u001b[0m\u001b[1;33m:\u001b[0m  \u001b[1;31m# The islice is empty, i.e. we're done.\u001b[0m\u001b[1;33m\u001b[0m\u001b[1;33m\u001b[0m\u001b[0m\n\u001b[0;32m   1165\u001b[0m                 \u001b[1;32mbreak\u001b[0m\u001b[1;33m\u001b[0m\u001b[1;33m\u001b[0m\u001b[0m\n",
      "\u001b[1;32m~\\Anaconda3\\envs\\bmcs_env\\lib\\site-packages\\numpy\\lib\\npyio.py\u001b[0m in \u001b[0;36mconvert_row\u001b[1;34m(vals)\u001b[0m\n\u001b[0;32m   1143\u001b[0m         \u001b[1;32melse\u001b[0m\u001b[1;33m:\u001b[0m\u001b[1;33m\u001b[0m\u001b[1;33m\u001b[0m\u001b[0m\n\u001b[0;32m   1144\u001b[0m             \u001b[1;32mdef\u001b[0m \u001b[0mconvert_row\u001b[0m\u001b[1;33m(\u001b[0m\u001b[0mvals\u001b[0m\u001b[1;33m)\u001b[0m\u001b[1;33m:\u001b[0m\u001b[1;33m\u001b[0m\u001b[1;33m\u001b[0m\u001b[0m\n\u001b[1;32m-> 1145\u001b[1;33m                 \u001b[1;32mreturn\u001b[0m \u001b[1;33m[\u001b[0m\u001b[0mconv\u001b[0m\u001b[1;33m(\u001b[0m\u001b[0mval\u001b[0m\u001b[1;33m)\u001b[0m \u001b[1;32mfor\u001b[0m \u001b[0mconv\u001b[0m\u001b[1;33m,\u001b[0m \u001b[0mval\u001b[0m \u001b[1;32min\u001b[0m \u001b[0mzip\u001b[0m\u001b[1;33m(\u001b[0m\u001b[0mconverters\u001b[0m\u001b[1;33m,\u001b[0m \u001b[0mvals\u001b[0m\u001b[1;33m)\u001b[0m\u001b[1;33m]\u001b[0m\u001b[1;33m\u001b[0m\u001b[1;33m\u001b[0m\u001b[0m\n\u001b[0m\u001b[0;32m   1146\u001b[0m \u001b[1;33m\u001b[0m\u001b[0m\n\u001b[0;32m   1147\u001b[0m         \u001b[1;31m# read data in chunks and fill it into an array via resize\u001b[0m\u001b[1;33m\u001b[0m\u001b[1;33m\u001b[0m\u001b[0m\n",
      "\u001b[1;32m~\\Anaconda3\\envs\\bmcs_env\\lib\\site-packages\\numpy\\lib\\npyio.py\u001b[0m in \u001b[0;36m<listcomp>\u001b[1;34m(.0)\u001b[0m\n\u001b[0;32m   1143\u001b[0m         \u001b[1;32melse\u001b[0m\u001b[1;33m:\u001b[0m\u001b[1;33m\u001b[0m\u001b[1;33m\u001b[0m\u001b[0m\n\u001b[0;32m   1144\u001b[0m             \u001b[1;32mdef\u001b[0m \u001b[0mconvert_row\u001b[0m\u001b[1;33m(\u001b[0m\u001b[0mvals\u001b[0m\u001b[1;33m)\u001b[0m\u001b[1;33m:\u001b[0m\u001b[1;33m\u001b[0m\u001b[1;33m\u001b[0m\u001b[0m\n\u001b[1;32m-> 1145\u001b[1;33m                 \u001b[1;32mreturn\u001b[0m \u001b[1;33m[\u001b[0m\u001b[0mconv\u001b[0m\u001b[1;33m(\u001b[0m\u001b[0mval\u001b[0m\u001b[1;33m)\u001b[0m \u001b[1;32mfor\u001b[0m \u001b[0mconv\u001b[0m\u001b[1;33m,\u001b[0m \u001b[0mval\u001b[0m \u001b[1;32min\u001b[0m \u001b[0mzip\u001b[0m\u001b[1;33m(\u001b[0m\u001b[0mconverters\u001b[0m\u001b[1;33m,\u001b[0m \u001b[0mvals\u001b[0m\u001b[1;33m)\u001b[0m\u001b[1;33m]\u001b[0m\u001b[1;33m\u001b[0m\u001b[1;33m\u001b[0m\u001b[0m\n\u001b[0m\u001b[0;32m   1146\u001b[0m \u001b[1;33m\u001b[0m\u001b[0m\n\u001b[0;32m   1147\u001b[0m         \u001b[1;31m# read data in chunks and fill it into an array via resize\u001b[0m\u001b[1;33m\u001b[0m\u001b[1;33m\u001b[0m\u001b[0m\n",
      "\u001b[1;32m~\\Anaconda3\\envs\\bmcs_env\\lib\\site-packages\\numpy\\lib\\npyio.py\u001b[0m in \u001b[0;36m_floatconv\u001b[1;34m(x)\u001b[0m\n\u001b[0;32m    723\u001b[0m \u001b[1;32mdef\u001b[0m \u001b[0m_floatconv\u001b[0m\u001b[1;33m(\u001b[0m\u001b[0mx\u001b[0m\u001b[1;33m)\u001b[0m\u001b[1;33m:\u001b[0m\u001b[1;33m\u001b[0m\u001b[1;33m\u001b[0m\u001b[0m\n\u001b[0;32m    724\u001b[0m     \u001b[1;32mtry\u001b[0m\u001b[1;33m:\u001b[0m\u001b[1;33m\u001b[0m\u001b[1;33m\u001b[0m\u001b[0m\n\u001b[1;32m--> 725\u001b[1;33m         \u001b[1;32mreturn\u001b[0m \u001b[0mfloat\u001b[0m\u001b[1;33m(\u001b[0m\u001b[0mx\u001b[0m\u001b[1;33m)\u001b[0m  \u001b[1;31m# The fastest path.\u001b[0m\u001b[1;33m\u001b[0m\u001b[1;33m\u001b[0m\u001b[0m\n\u001b[0m\u001b[0;32m    726\u001b[0m     \u001b[1;32mexcept\u001b[0m \u001b[0mValueError\u001b[0m\u001b[1;33m:\u001b[0m\u001b[1;33m\u001b[0m\u001b[1;33m\u001b[0m\u001b[0m\n\u001b[0;32m    727\u001b[0m         \u001b[1;32mif\u001b[0m \u001b[1;34m'0x'\u001b[0m \u001b[1;32min\u001b[0m \u001b[0mx\u001b[0m\u001b[1;33m:\u001b[0m  \u001b[1;31m# Don't accidentally convert \"a\" (\"0xa\") to 10.\u001b[0m\u001b[1;33m\u001b[0m\u001b[1;33m\u001b[0m\u001b[0m\n",
      "\u001b[1;31mValueError\u001b[0m: could not convert string to float: ''"
     ]
    }
   ],
   "source": [
    "data = np.loadtxt('D:\\Shear zones\\SCPT files\\B1-TV1 opening.csv', \n",
    "           dtype={'names': ('point', 'empty', 'x', 'y'), 'formats': \n",
    "                  (np.str_, np.str_, np.float_, np.float_)},\n",
    "                       skiprows=0, delimiter=',', unpack=False)"
   ]
  },
  {
   "cell_type": "code",
   "execution_count": null,
   "id": "24f9d48f",
   "metadata": {},
   "outputs": [],
   "source": []
  }
 ],
 "metadata": {
  "kernelspec": {
   "display_name": "Python 3",
   "language": "python",
   "name": "python3"
  },
  "language_info": {
   "codemirror_mode": {
    "name": "ipython",
    "version": 3
   },
   "file_extension": ".py",
   "mimetype": "text/x-python",
   "name": "python",
   "nbconvert_exporter": "python",
   "pygments_lexer": "ipython3",
   "version": "3.9.7"
  }
 },
 "nbformat": 4,
 "nbformat_minor": 5
}
