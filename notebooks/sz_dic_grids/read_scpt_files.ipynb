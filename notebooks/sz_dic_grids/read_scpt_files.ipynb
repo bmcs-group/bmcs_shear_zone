{
 "cells": [
  {
   "cell_type": "code",
   "execution_count": 1,
   "id": "2034b97c",
   "metadata": {},
   "outputs": [],
   "source": [
    "import sympy as sp\n",
    "import numpy as np\n",
    "from os.path import expanduser, join\n",
    "import os"
   ]
  },
  {
   "cell_type": "code",
   "execution_count": 2,
   "id": "9dc0c8f0",
   "metadata": {},
   "outputs": [
    {
     "data": {
      "text/plain": [
       "'C:\\\\Users\\\\fahad\\\\SCPT files'"
      ]
     },
     "execution_count": 2,
     "metadata": {},
     "output_type": "execute_result"
    }
   ],
   "source": [
    "# home_dir = expanduser('~')\n",
    "# data_dir = join(home_dir,'SCPT files')\n",
    "# data_dir"
   ]
  },
  {
   "cell_type": "code",
   "execution_count": 3,
   "id": "91c0fb01",
   "metadata": {},
   "outputs": [
    {
     "data": {
      "text/plain": [
       "['C:\\\\Users\\\\fahad\\\\SCPT files\\\\B1-TV1 opening.csv']"
      ]
     },
     "execution_count": 3,
     "metadata": {},
     "output_type": "execute_result"
    }
   ],
   "source": [
    "# results = [join(data_dir,each) \n",
    "#            for each in sorted(os.listdir(data_dir)) \n",
    "#            if each.endswith('.csv')]\n",
    "# results"
   ]
  },
  {
   "cell_type": "code",
   "execution_count": 4,
   "id": "81b0ed7c",
   "metadata": {},
   "outputs": [],
   "source": [
    "# np.loadtxt(results, dtype=float, \n",
    "#             skiprows=1, delimiter=',', usecols=54, unpack=False)"
   ]
  },
  {
   "cell_type": "code",
   "execution_count": 5,
   "id": "c321aeeb",
   "metadata": {},
   "outputs": [],
   "source": [
    "# import pandas as pd"
   ]
  },
  {
   "cell_type": "code",
   "execution_count": 6,
   "id": "67d6fea4",
   "metadata": {},
   "outputs": [],
   "source": [
    "# pd.read_csv(results, dtype=float, \n",
    "#             skiprows=1, delimiter=',', usecols=(30))"
   ]
  },
  {
   "cell_type": "code",
   "execution_count": 7,
   "id": "1767c275",
   "metadata": {},
   "outputs": [],
   "source": [
    "# w_top = pd.read_excel('D:\\Shear zones\\SCPT files\\B1-TV1 opening.xlsx', usecols=('BA'), nrows = 156)\n",
    "# #w_top"
   ]
  },
  {
   "cell_type": "code",
   "execution_count": 8,
   "id": "bffdbb6c",
   "metadata": {},
   "outputs": [],
   "source": [
    "# w_bott_1 = pd.read_excel('D:\\Shear zones\\SCPT files\\B1-TV1 opening.xlsx', usecols=('BB'), nrows = 156)\n",
    "# #w_bott_1"
   ]
  },
  {
   "cell_type": "code",
   "execution_count": 9,
   "id": "a629b76c",
   "metadata": {},
   "outputs": [],
   "source": [
    "# w_bott_0 = pd.read_excel('D:\\Shear zones\\SCPT files\\B1-TV1 opening.xlsx', usecols=('BC'), nrows = 156)\n",
    "# #w_bott_0"
   ]
  },
  {
   "cell_type": "code",
   "execution_count": 10,
   "id": "9952e98e",
   "metadata": {},
   "outputs": [],
   "source": [
    "# s_bott = pd.read_excel('D:\\Shear zones\\SCPT files\\B1-TV1 opening.xlsx', usecols=('BD'), nrows = 156)\n",
    "# #s_bott"
   ]
  },
  {
   "cell_type": "code",
   "execution_count": 11,
   "id": "706ffee5",
   "metadata": {},
   "outputs": [],
   "source": [
    "# height = pd.read_excel('D:\\Shear zones\\SCPT files\\B1-TV1 opening.xlsx', usecols=('H'), nrows = 156)\n",
    "# #height"
   ]
  },
  {
   "cell_type": "code",
   "execution_count": 12,
   "id": "60e7f81c",
   "metadata": {
    "scrolled": false
   },
   "outputs": [],
   "source": [
    "# w_top_arr = np.array([w_top])\n",
    "# s_bott_arr = np.array([s_bott])\n",
    "# w_bott_0_arr = np.array([w_bott_0])\n",
    "# w_bott_1_arr = np.array([w_bott_1])\n",
    "# height_arr = np.array([height])\n",
    "# #height_arr"
   ]
  },
  {
   "cell_type": "code",
   "execution_count": 13,
   "id": "1f3f6af2",
   "metadata": {},
   "outputs": [],
   "source": [
    "%matplotlib widget\n",
    "import ibvpy.api as ib\n",
    "import matplotlib.pylab as plt\n",
    "from matplotlib import cm\n",
    "from scipy.interpolate import interp2d\n",
    "from scipy.signal import argrelextrema\n",
    "from bmcs_shear.api import CrackBridgeAdv\n",
    "from bmcs_shear.dic_crack import\\\n",
    "    DICGrid, DICStateFields, DICCrackList, DICCrack, DICCrackCOR, DICAlignedGrid\n",
    "from bmcs_shear.shear_crack.crack_path import get_T_Lab\n",
    "import numpy as np\n",
    "import ibvpy.api as ib\n",
    "np.seterr(divide ='ignore', invalid='ignore');"
   ]
  },
  {
   "cell_type": "code",
   "execution_count": 14,
   "id": "64c93e5e",
   "metadata": {},
   "outputs": [
    {
     "name": "stdout",
     "output_type": "stream",
     "text": [
      "Creating cracks\n"
     ]
    }
   ],
   "source": [
    "dic_grid = DICGrid(U_factor=100, dir_name='B1_TV1', t=1)\n",
    "#dic_grid = DICGrid(start_t=0, end_t=1, U_factor=100, dir_name='B9_TV1', t=1)\n",
    "dsf = DICStateFields(dic_grid=dic_grid)\n",
    "dsf.tmodel_.trait_set(E=5000, c_T=0, nu=0.18, epsilon_0=0.0005, epsilon_f=0.01);\n",
    "dsf.eval()\n",
    "\n",
    "dcl = DICCrackList(dsf=dsf)\n",
    "crit_crack = dcl.items[3]\n",
    "crit_crack.cl.dsf\n",
    "dc_cor = DICCrackCOR(dic_crack = crit_crack)"
   ]
  },
  {
   "cell_type": "code",
   "execution_count": 15,
   "id": "b33c1472",
   "metadata": {},
   "outputs": [
    {
     "name": "stdout",
     "output_type": "stream",
     "text": [
      "Creating cracks\n"
     ]
    }
   ],
   "source": [
    "from bmcs_shear.dic_crack import DICStressProfile\n",
    "dic_grid = DICGrid(U_factor=100, dir_name='B1_TV1', t=1)\n",
    "#dic_grid = DICGrid(start_t=0, end_t=1, U_factor=100, dir_name='B9_TV1', t=1)\n",
    "dsf = DICStateFields(dic_grid=dic_grid)\n",
    "dsf.tmodel_.trait_set(E=5000, c_T=0, nu=0.18, epsilon_0=0.0005, epsilon_f=0.01);\n",
    "dsf.eval()\n",
    "\n",
    "dcl = DICCrackList(dsf=dsf)\n",
    "crack_5 = dcl.items[3]\n",
    "crack_5.cl.dsf\n",
    "dc_cor = DICCrackCOR(dic_crack = crack_5)\n",
    "\n",
    "\n",
    "sp = DICStressProfile(dic_crack = crack_5)"
   ]
  },
  {
   "cell_type": "code",
   "execution_count": 16,
   "id": "6270ba82",
   "metadata": {},
   "outputs": [
    {
     "data": {
      "text/plain": [
       "(73,)"
      ]
     },
     "execution_count": 16,
     "metadata": {},
     "output_type": "execute_result"
    }
   ],
   "source": [
    "np.shape(sp.u_t_crc_Kb[:73,0])"
   ]
  },
  {
   "cell_type": "code",
   "execution_count": 17,
   "id": "c4b1c9eb",
   "metadata": {},
   "outputs": [
    {
     "data": {
      "text/plain": [
       "(73,)"
      ]
     },
     "execution_count": 17,
     "metadata": {},
     "output_type": "execute_result"
    }
   ],
   "source": [
    "np.shape(crack_5.x_1_crc_Ka[:,1])"
   ]
  },
  {
   "cell_type": "code",
   "execution_count": 18,
   "id": "c21b6c7e",
   "metadata": {},
   "outputs": [
    {
     "data": {
      "text/plain": [
       "array([0.35822228, 0.34822228, 0.33822228, 0.32822228, 0.31822228,\n",
       "       0.30822228, 0.29822228, 0.28822228, 0.27822228, 0.26822228,\n",
       "       0.25822228, 0.24822228, 0.23822228, 0.22822228, 0.21822228,\n",
       "       0.20822228, 0.19822228, 0.18822228, 0.17822228, 0.16822228,\n",
       "       0.15822228, 0.14822228, 0.13822228, 0.12822228, 0.11822228,\n",
       "       0.10822228])"
      ]
     },
     "execution_count": 18,
     "metadata": {},
     "output_type": "execute_result"
    }
   ],
   "source": [
    "w_array = np.arange(w_bott_1_arr[0,150,0], w_bott_0_arr[0,150,0], -0.01)\n",
    "w_array"
   ]
  },
  {
   "cell_type": "code",
   "execution_count": 19,
   "id": "454f7cde",
   "metadata": {},
   "outputs": [
    {
     "data": {
      "text/plain": [
       "0.102529484"
      ]
     },
     "execution_count": 19,
     "metadata": {},
     "output_type": "execute_result"
    }
   ],
   "source": [
    "w_bott_0_arr[0,150,0]"
   ]
  },
  {
   "cell_type": "code",
   "execution_count": 20,
   "id": "9abe9511",
   "metadata": {},
   "outputs": [
    {
     "data": {
      "text/plain": [
       "array([ 14.64914704,  25.71217318,  36.77519933,  47.83822547,\n",
       "        58.90125162,  69.96427777,  81.02730391,  92.09033006,\n",
       "       103.1533562 , 114.21638235, 125.27940849, 136.34243464,\n",
       "       147.40546078, 158.46848693, 169.53151307, 180.59453922,\n",
       "       191.65756536, 202.72059151, 213.78361765, 224.8466438 ,\n",
       "       235.90966994, 246.97269609, 258.03572223, 269.09874838,\n",
       "       280.16177453, 291.22480067, 302.28782682, 313.35085296])"
      ]
     },
     "execution_count": 20,
     "metadata": {},
     "output_type": "execute_result"
    }
   ],
   "source": [
    "height_model = crack_5.y_N#[:dc_cor.dic_crack.N_tip]\n",
    "height_model"
   ]
  },
  {
   "cell_type": "code",
   "execution_count": 21,
   "id": "d2291992",
   "metadata": {},
   "outputs": [
    {
     "data": {
      "text/plain": [
       "array([ 14. ,  21.7,  29.4,  37.1,  44.8,  52.5,  60.2,  67.9,  75.6,\n",
       "        83.3,  91. ,  98.7, 106.4, 114.1, 121.8, 129.5, 137.2, 144.9,\n",
       "       152.6, 160.3, 168. , 175.7, 183.4, 191.1, 198.8, 206.5])"
      ]
     },
     "execution_count": 21,
     "metadata": {},
     "output_type": "execute_result"
    }
   ],
   "source": [
    "height_scpt = np.arange(14,height_arr[0,150,0], 7.7)\n",
    "height_scpt"
   ]
  },
  {
   "cell_type": "code",
   "execution_count": 22,
   "id": "39dd3414",
   "metadata": {},
   "outputs": [
    {
     "data": {
      "text/plain": [
       "[<matplotlib.lines.Line2D at 0x216c1a78e50>]"
      ]
     },
     "execution_count": 22,
     "metadata": {},
     "output_type": "execute_result"
    },
    {
     "data": {
      "application/vnd.jupyter.widget-view+json": {
       "model_id": "41351ad9fc3d48648e63aab001e1d9c8",
       "version_major": 2,
       "version_minor": 0
      },
      "image/png": "[encoded data removed]",
      "text/html": [
       "\n",
       "            <div style=\"display: inline-block;\">\n",
       "                <div class=\"jupyter-widgets widget-label\" style=\"text-align: center;\">\n",
       "                    Figure\n",
       "                </div>\n",
       "                <img src='data:image/png;base64,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' width=640.0/>\n",
       "            </div>\n",
       "        "
      ],
      "text/plain": [
       "Canvas(toolbar=Toolbar(toolitems=[('Home', 'Reset original view', 'home', 'home'), ('Back', 'Back to previous …"
      ]
     },
     "metadata": {},
     "output_type": "display_data"
    }
   ],
   "source": [
    "fig, ax = plt.subplots()\n",
    "#ax.plot(s_bott_arr[0,:,0], height_arr[0,:,0], color='green');\n",
    "#ax.plot(dc_cor.dic_crack.U1_Kb[:dc_cor.dic_crack.N_tip,1], height_model)\n",
    "ax.plot(sp.u_t_crc_Kb[:73,0], crack_5.x_1_crc_Ka[:,1])\n",
    "ax.plot(w_array, height_scpt[:26], color='green')"
   ]
  },
  {
   "cell_type": "code",
   "execution_count": 23,
   "id": "672ddf8c",
   "metadata": {
    "scrolled": false
   },
   "outputs": [
    {
     "data": {
      "text/plain": [
       "array([0.05880183, 0.05880183, 0.05880183, 0.05880183, 0.05880183,\n",
       "       0.05880183, 0.05880183, 0.05880183, 0.05880183, 0.05880183,\n",
       "       0.05880183, 0.05880183, 0.05880183, 0.05880183, 0.05880183,\n",
       "       0.05880183, 0.05880183, 0.05880183, 0.05880183, 0.05880183,\n",
       "       0.05880183, 0.05880183, 0.05880183, 0.05880183, 0.05880183,\n",
       "       0.05880183])"
      ]
     },
     "execution_count": 23,
     "metadata": {},
     "output_type": "execute_result"
    }
   ],
   "source": [
    "s_array = np.linspace(s_bott_arr[0,150,0], s_bott_arr[0,150,0], 26)\n",
    "s_array"
   ]
  },
  {
   "cell_type": "code",
   "execution_count": 24,
   "id": "7c4e275d",
   "metadata": {},
   "outputs": [
    {
     "data": {
      "text/plain": [
       "[<matplotlib.lines.Line2D at 0x216c1b583d0>]"
      ]
     },
     "execution_count": 24,
     "metadata": {},
     "output_type": "execute_result"
    },
    {
     "data": {
      "application/vnd.jupyter.widget-view+json": {
       "model_id": "508d7de939314c5e8b022bd5e7363d96",
       "version_major": 2,
       "version_minor": 0
      },
      "image/png": "[encoded data removed]",
      "text/html": [
       "\n",
       "            <div style=\"display: inline-block;\">\n",
       "                <div class=\"jupyter-widgets widget-label\" style=\"text-align: center;\">\n",
       "                    Figure\n",
       "                </div>\n",
       "                <img src='data:image/png;base64,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' width=640.0/>\n",
       "            </div>\n",
       "        "
      ],
      "text/plain": [
       "Canvas(toolbar=Toolbar(toolitems=[('Home', 'Reset original view', 'home', 'home'), ('Back', 'Back to previous …"
      ]
     },
     "metadata": {},
     "output_type": "display_data"
    }
   ],
   "source": [
    "fig, ax = plt.subplots()\n",
    "#ax.plot(s_bott_arr[0,:,0], height_arr[0,:,0], color='green');\n",
    "#ax.plot(dc_cor.dic_crack.U1_Kb[:dc_cor.dic_crack.N_tip,1], height_model)\n",
    "ax.plot(sp.u_t_crc_Kb[:73,1], crack_5.x_1_crc_Ka[:,1])\n",
    "ax.plot(s_array, height_scpt[:26], color='green')"
   ]
  },
  {
   "cell_type": "code",
   "execution_count": 26,
   "id": "972ed836",
   "metadata": {
    "scrolled": false
   },
   "outputs": [
    {
     "name": "stdout",
     "output_type": "stream",
     "text": [
      "[0.         0.03846154 0.07692308 0.11538462 0.15384615 0.19230769\n",
      " 0.23076923 0.26923077 0.30769231 0.34615385 0.38461538 0.42307692\n",
      " 0.46153846 0.5        0.53846154 0.57692308 0.61538462 0.65384615\n",
      " 0.69230769 0.73076923 0.76923077 0.80769231 0.84615385 0.88461538\n",
      " 0.92307692 0.96153846 1.        ]\n",
      "*********\n",
      "0.0\n",
      "0.0\n",
      "0.0\n",
      "t1 0\n",
      "Creating cracks\n",
      "18\n",
      "*********\n",
      "0.038461538461538464\n",
      "0.038461538461538464\n",
      "13.0\n",
      "t1 1\n",
      "Creating cracks\n",
      "18\n",
      "*********\n",
      "0.07692307692307693\n",
      "0.07692307692307693\n",
      "24.0\n",
      "t1 2\n",
      "Creating cracks\n",
      "18\n",
      "*********\n",
      "0.11538461538461539\n",
      "0.11538461538461539\n",
      "39.0\n",
      "t1 3\n",
      "Creating cracks\n",
      "18\n",
      "*********\n",
      "0.15384615384615385\n",
      "0.15384615384615385\n",
      "50.0\n",
      "t1 4\n",
      "Creating cracks\n",
      "18\n",
      "*********\n",
      "0.19230769230769232\n",
      "0.19230769230769232\n",
      "66.0\n",
      "t1 5\n",
      "Creating cracks\n",
      "18\n",
      "*********\n",
      "0.23076923076923078\n",
      "0.23076923076923078\n",
      "77.0\n",
      "t1 6\n",
      "Creating cracks\n",
      "18\n",
      "*********\n",
      "0.2692307692307693\n",
      "0.2692307692307693\n",
      "87.0\n",
      "t1 7\n",
      "Creating cracks\n",
      "18\n",
      "*********\n",
      "0.3076923076923077\n",
      "0.3076923076923077\n",
      "103.0\n",
      "t1 8\n",
      "Creating cracks\n",
      "18\n",
      "*********\n",
      "0.34615384615384615\n",
      "0.34615384615384615\n",
      "113.0\n",
      "t1 9\n",
      "Creating cracks\n",
      "18\n",
      "*********\n",
      "0.38461538461538464\n",
      "0.38461538461538464\n",
      "125.0\n",
      "t1 10\n",
      "Creating cracks\n",
      "18\n",
      "*********\n",
      "0.42307692307692313\n",
      "0.42307692307692313\n",
      "136.0\n",
      "t1 11\n",
      "Creating cracks\n",
      "18\n",
      "*********\n",
      "0.46153846153846156\n",
      "0.46153846153846156\n",
      "150.0\n",
      "t1 12\n",
      "Creating cracks\n",
      "18\n",
      "*********\n",
      "0.5\n",
      "0.5\n",
      "163.0\n",
      "t1 13\n",
      "Creating cracks\n",
      "18\n",
      "*********\n",
      "0.5384615384615385\n",
      "0.5384615384615385\n",
      "175.0\n",
      "t1 14\n",
      "Creating cracks\n",
      "18\n",
      "*********\n",
      "0.576923076923077\n",
      "0.576923076923077\n",
      "170.0\n",
      "t1 15\n",
      "Creating cracks\n",
      "18\n",
      "*********\n",
      "0.6153846153846154\n",
      "0.6153846153846154\n",
      "169.0\n",
      "t1 16\n",
      "Creating cracks\n",
      "18\n",
      "*********\n",
      "0.6538461538461539\n",
      "0.6538461538461539\n",
      "175.0\n",
      "t1 17\n",
      "Creating cracks\n",
      "18\n",
      "*********\n",
      "0.6923076923076923\n",
      "0.6923076923076923\n",
      "183.0\n",
      "t1 18\n",
      "Creating cracks\n",
      "18\n",
      "*********\n",
      "0.7307692307692308\n",
      "0.7307692307692308\n",
      "191.0\n",
      "t1 19\n",
      "Creating cracks\n",
      "18\n",
      "*********\n",
      "0.7692307692307693\n",
      "0.7692307692307693\n",
      "194.541\n",
      "t1 20\n",
      "Creating cracks\n",
      "18\n",
      "*********\n",
      "0.8076923076923077\n",
      "0.8076923076923077\n",
      "194.738\n",
      "t1 21\n",
      "Creating cracks\n",
      "18\n",
      "*********\n",
      "0.8461538461538463\n",
      "0.8461538461538463\n",
      "194.915\n",
      "t1 22\n",
      "Creating cracks\n",
      "18\n",
      "*********\n",
      "0.8846153846153847\n",
      "0.8846153846153847\n",
      "195.12\n",
      "t1 23\n",
      "Creating cracks\n",
      "18\n",
      "*********\n",
      "0.9230769230769231\n",
      "0.9230769230769231\n",
      "195.215\n",
      "t1 24\n",
      "Creating cracks\n",
      "18\n",
      "*********\n",
      "0.9615384615384616\n",
      "0.9615384615384616\n",
      "195.384\n",
      "t1 25\n",
      "Creating cracks\n",
      "18\n",
      "*********\n",
      "1.0\n",
      "1.0\n",
      "195.549\n",
      "t1 26\n",
      "Creating cracks\n",
      "18\n"
     ]
    }
   ],
   "source": [
    "dic_grid = DICGrid(U_factor=100, dir_name='B1_TV1')\n",
    "t1 = dic_grid.argmax_F_dic_T\n",
    "\n",
    "#t_arr = np.arange(0, t1, dic_grid.t)\n",
    "t_arr = np.linspace(0,1,t1)\n",
    "print(t_arr)\n",
    "for t in t_arr[::1]:\n",
    "    \n",
    "    dic_grid.t = t\n",
    "\n",
    "    #dc_cor.state_changed = True\n",
    "    print('*********')\n",
    "    print(t)\n",
    "    print(dic_grid.t)\n",
    "    print(dic_grid.F_T1)\n",
    "    \n",
    "    \n",
    "    dsf = DICStateFields(dic_grid=dic_grid)\n",
    "    dsf.tmodel_.trait_set(E=5000, c_T=0, nu=0.18, epsilon_0=0.0005, epsilon_f=0.01);\n",
    "    dsf.eval()\n",
    "    print('t1', dsf.T1)\n",
    "    #print(dsf.omega_TMN)\n",
    "    \n",
    "\n",
    "    \n",
    "    dcl = DICCrackList(dsf=dsf)\n",
    "    #print(dcl.cracks_T)\n",
    "    crack_s = dcl.items[3]\n",
    "    #crack_5.cl.dsf \n",
    "    #dc_cor = DICCrackCOR(dic_crack = crack_5)\n",
    "    print(crack_s.T1)\n",
    "#     sp = DICStressProfile(dic_crack = crack_5)\n",
    "#     print(sp.dic_crack.T1)"
   ]
  },
  {
   "cell_type": "code",
   "execution_count": 5,
   "id": "25f02e4f",
   "metadata": {},
   "outputs": [
    {
     "data": {
      "text/plain": [
       "<_io.TextIOWrapper name='D:\\\\Shear zones\\\\SCPT files\\\\B1-TV1 opening.csv' mode='r' encoding='cp1252'>"
      ]
     },
     "execution_count": 5,
     "metadata": {},
     "output_type": "execute_result"
    }
   ],
   "source": [
    "# file = open('D:\\Shear zones\\SCPT files\\B1-TV1 opening.csv')\n",
    "# file"
   ]
  },
  {
   "cell_type": "code",
   "execution_count": 6,
   "id": "db994041",
   "metadata": {},
   "outputs": [
    {
     "ename": "ValueError",
     "evalue": "could not convert string to float: ''",
     "output_type": "error",
     "traceback": [
      "\u001b[1;31m---------------------------------------------------------------------------\u001b[0m",
      "\u001b[1;31mValueError\u001b[0m                                Traceback (most recent call last)",
      "\u001b[1;32m~\\AppData\\Local\\Temp/ipykernel_20364/4066242377.py\u001b[0m in \u001b[0;36m<module>\u001b[1;34m\u001b[0m\n\u001b[0;32m      1\u001b[0m U_TPa = np.array([\n\u001b[1;32m----> 2\u001b[1;33m             np.loadtxt('D:\\Shear zones\\SCPT files\\B1-TV1 opening.csv', dtype=float,\n\u001b[0m\u001b[0;32m      3\u001b[0m                        skiprows=1, delimiter=',', usecols=(2,3), unpack=False)\n\u001b[0;32m      4\u001b[0m         ], dtype=np.float_)\n",
      "\u001b[1;32m~\\Anaconda3\\envs\\bmcs_env\\lib\\site-packages\\numpy\\lib\\npyio.py\u001b[0m in \u001b[0;36mloadtxt\u001b[1;34m(fname, dtype, comments, delimiter, converters, skiprows, usecols, unpack, ndmin, encoding, max_rows, like)\u001b[0m\n\u001b[0;32m   1161\u001b[0m                 \u001b[1;31m# Convert each value according to its column, then pack it\u001b[0m\u001b[1;33m\u001b[0m\u001b[1;33m\u001b[0m\u001b[0m\n\u001b[0;32m   1162\u001b[0m                 \u001b[1;31m# according to the dtype's nesting, and store it.\u001b[0m\u001b[1;33m\u001b[0m\u001b[1;33m\u001b[0m\u001b[0m\n\u001b[1;32m-> 1163\u001b[1;33m                 \u001b[0mchunk\u001b[0m\u001b[1;33m.\u001b[0m\u001b[0mappend\u001b[0m\u001b[1;33m(\u001b[0m\u001b[0mpacker\u001b[0m\u001b[1;33m(\u001b[0m\u001b[0mconvert_row\u001b[0m\u001b[1;33m(\u001b[0m\u001b[0mwords\u001b[0m\u001b[1;33m)\u001b[0m\u001b[1;33m)\u001b[0m\u001b[1;33m)\u001b[0m\u001b[1;33m\u001b[0m\u001b[1;33m\u001b[0m\u001b[0m\n\u001b[0m\u001b[0;32m   1164\u001b[0m             \u001b[1;32mif\u001b[0m \u001b[1;32mnot\u001b[0m \u001b[0mchunk\u001b[0m\u001b[1;33m:\u001b[0m  \u001b[1;31m# The islice is empty, i.e. we're done.\u001b[0m\u001b[1;33m\u001b[0m\u001b[1;33m\u001b[0m\u001b[0m\n\u001b[0;32m   1165\u001b[0m                 \u001b[1;32mbreak\u001b[0m\u001b[1;33m\u001b[0m\u001b[1;33m\u001b[0m\u001b[0m\n",
      "\u001b[1;32m~\\Anaconda3\\envs\\bmcs_env\\lib\\site-packages\\numpy\\lib\\npyio.py\u001b[0m in \u001b[0;36mconvert_row\u001b[1;34m(vals, _conv)\u001b[0m\n\u001b[0;32m   1140\u001b[0m             \u001b[1;31m# equal dtypes.\u001b[0m\u001b[1;33m\u001b[0m\u001b[1;33m\u001b[0m\u001b[0m\n\u001b[0;32m   1141\u001b[0m             \u001b[1;32mdef\u001b[0m \u001b[0mconvert_row\u001b[0m\u001b[1;33m(\u001b[0m\u001b[0mvals\u001b[0m\u001b[1;33m,\u001b[0m \u001b[0m_conv\u001b[0m\u001b[1;33m=\u001b[0m\u001b[0mconverters\u001b[0m\u001b[1;33m[\u001b[0m\u001b[1;36m0\u001b[0m\u001b[1;33m]\u001b[0m\u001b[1;33m)\u001b[0m\u001b[1;33m:\u001b[0m\u001b[1;33m\u001b[0m\u001b[1;33m\u001b[0m\u001b[0m\n\u001b[1;32m-> 1142\u001b[1;33m                 \u001b[1;32mreturn\u001b[0m \u001b[1;33m[\u001b[0m\u001b[1;33m*\u001b[0m\u001b[0mmap\u001b[0m\u001b[1;33m(\u001b[0m\u001b[0m_conv\u001b[0m\u001b[1;33m,\u001b[0m \u001b[0mvals\u001b[0m\u001b[1;33m)\u001b[0m\u001b[1;33m]\u001b[0m\u001b[1;33m\u001b[0m\u001b[1;33m\u001b[0m\u001b[0m\n\u001b[0m\u001b[0;32m   1143\u001b[0m         \u001b[1;32melse\u001b[0m\u001b[1;33m:\u001b[0m\u001b[1;33m\u001b[0m\u001b[1;33m\u001b[0m\u001b[0m\n\u001b[0;32m   1144\u001b[0m             \u001b[1;32mdef\u001b[0m \u001b[0mconvert_row\u001b[0m\u001b[1;33m(\u001b[0m\u001b[0mvals\u001b[0m\u001b[1;33m)\u001b[0m\u001b[1;33m:\u001b[0m\u001b[1;33m\u001b[0m\u001b[1;33m\u001b[0m\u001b[0m\n",
      "\u001b[1;32m~\\Anaconda3\\envs\\bmcs_env\\lib\\site-packages\\numpy\\lib\\npyio.py\u001b[0m in \u001b[0;36m_floatconv\u001b[1;34m(x)\u001b[0m\n\u001b[0;32m    723\u001b[0m \u001b[1;32mdef\u001b[0m \u001b[0m_floatconv\u001b[0m\u001b[1;33m(\u001b[0m\u001b[0mx\u001b[0m\u001b[1;33m)\u001b[0m\u001b[1;33m:\u001b[0m\u001b[1;33m\u001b[0m\u001b[1;33m\u001b[0m\u001b[0m\n\u001b[0;32m    724\u001b[0m     \u001b[1;32mtry\u001b[0m\u001b[1;33m:\u001b[0m\u001b[1;33m\u001b[0m\u001b[1;33m\u001b[0m\u001b[0m\n\u001b[1;32m--> 725\u001b[1;33m         \u001b[1;32mreturn\u001b[0m \u001b[0mfloat\u001b[0m\u001b[1;33m(\u001b[0m\u001b[0mx\u001b[0m\u001b[1;33m)\u001b[0m  \u001b[1;31m# The fastest path.\u001b[0m\u001b[1;33m\u001b[0m\u001b[1;33m\u001b[0m\u001b[0m\n\u001b[0m\u001b[0;32m    726\u001b[0m     \u001b[1;32mexcept\u001b[0m \u001b[0mValueError\u001b[0m\u001b[1;33m:\u001b[0m\u001b[1;33m\u001b[0m\u001b[1;33m\u001b[0m\u001b[0m\n\u001b[0;32m    727\u001b[0m         \u001b[1;32mif\u001b[0m \u001b[1;34m'0x'\u001b[0m \u001b[1;32min\u001b[0m \u001b[0mx\u001b[0m\u001b[1;33m:\u001b[0m  \u001b[1;31m# Don't accidentally convert \"a\" (\"0xa\") to 10.\u001b[0m\u001b[1;33m\u001b[0m\u001b[1;33m\u001b[0m\u001b[0m\n",
      "\u001b[1;31mValueError\u001b[0m: could not convert string to float: ''"
     ]
    }
   ],
   "source": [
    "U_TPa = np.array([\n",
    "            np.loadtxt('D:\\Shear zones\\SCPT files\\B1-TV1 opening.csv', dtype=float,\n",
    "                       skiprows=1, delimiter=',', usecols=(2,3), unpack=False)\n",
    "        ], dtype=np.float_)"
   ]
  },
  {
   "cell_type": "code",
   "execution_count": 7,
   "id": "1246c390",
   "metadata": {},
   "outputs": [
    {
     "ename": "ValueError",
     "evalue": "could not convert string to float: ''",
     "output_type": "error",
     "traceback": [
      "\u001b[1;31m---------------------------------------------------------------------------\u001b[0m",
      "\u001b[1;31mValueError\u001b[0m                                Traceback (most recent call last)",
      "\u001b[1;32m~\\AppData\\Local\\Temp/ipykernel_20364/2953066168.py\u001b[0m in \u001b[0;36m<module>\u001b[1;34m\u001b[0m\n\u001b[1;32m----> 1\u001b[1;33m data = np.loadtxt('D:\\Shear zones\\SCPT files\\B1-TV1 opening.csv', \n\u001b[0m\u001b[0;32m      2\u001b[0m            dtype={'names': ('point', 'empty', 'x', 'y'), 'formats': \n\u001b[0;32m      3\u001b[0m                   (np.str_, np.str_, np.float_, np.float_)},\n\u001b[0;32m      4\u001b[0m                        skiprows=0, delimiter=',', unpack=False)\n",
      "\u001b[1;32m~\\Anaconda3\\envs\\bmcs_env\\lib\\site-packages\\numpy\\lib\\npyio.py\u001b[0m in \u001b[0;36mloadtxt\u001b[1;34m(fname, dtype, comments, delimiter, converters, skiprows, usecols, unpack, ndmin, encoding, max_rows, like)\u001b[0m\n\u001b[0;32m   1161\u001b[0m                 \u001b[1;31m# Convert each value according to its column, then pack it\u001b[0m\u001b[1;33m\u001b[0m\u001b[1;33m\u001b[0m\u001b[0m\n\u001b[0;32m   1162\u001b[0m                 \u001b[1;31m# according to the dtype's nesting, and store it.\u001b[0m\u001b[1;33m\u001b[0m\u001b[1;33m\u001b[0m\u001b[0m\n\u001b[1;32m-> 1163\u001b[1;33m                 \u001b[0mchunk\u001b[0m\u001b[1;33m.\u001b[0m\u001b[0mappend\u001b[0m\u001b[1;33m(\u001b[0m\u001b[0mpacker\u001b[0m\u001b[1;33m(\u001b[0m\u001b[0mconvert_row\u001b[0m\u001b[1;33m(\u001b[0m\u001b[0mwords\u001b[0m\u001b[1;33m)\u001b[0m\u001b[1;33m)\u001b[0m\u001b[1;33m)\u001b[0m\u001b[1;33m\u001b[0m\u001b[1;33m\u001b[0m\u001b[0m\n\u001b[0m\u001b[0;32m   1164\u001b[0m             \u001b[1;32mif\u001b[0m \u001b[1;32mnot\u001b[0m \u001b[0mchunk\u001b[0m\u001b[1;33m:\u001b[0m  \u001b[1;31m# The islice is empty, i.e. we're done.\u001b[0m\u001b[1;33m\u001b[0m\u001b[1;33m\u001b[0m\u001b[0m\n\u001b[0;32m   1165\u001b[0m                 \u001b[1;32mbreak\u001b[0m\u001b[1;33m\u001b[0m\u001b[1;33m\u001b[0m\u001b[0m\n",
      "\u001b[1;32m~\\Anaconda3\\envs\\bmcs_env\\lib\\site-packages\\numpy\\lib\\npyio.py\u001b[0m in \u001b[0;36mconvert_row\u001b[1;34m(vals)\u001b[0m\n\u001b[0;32m   1143\u001b[0m         \u001b[1;32melse\u001b[0m\u001b[1;33m:\u001b[0m\u001b[1;33m\u001b[0m\u001b[1;33m\u001b[0m\u001b[0m\n\u001b[0;32m   1144\u001b[0m             \u001b[1;32mdef\u001b[0m \u001b[0mconvert_row\u001b[0m\u001b[1;33m(\u001b[0m\u001b[0mvals\u001b[0m\u001b[1;33m)\u001b[0m\u001b[1;33m:\u001b[0m\u001b[1;33m\u001b[0m\u001b[1;33m\u001b[0m\u001b[0m\n\u001b[1;32m-> 1145\u001b[1;33m                 \u001b[1;32mreturn\u001b[0m \u001b[1;33m[\u001b[0m\u001b[0mconv\u001b[0m\u001b[1;33m(\u001b[0m\u001b[0mval\u001b[0m\u001b[1;33m)\u001b[0m \u001b[1;32mfor\u001b[0m \u001b[0mconv\u001b[0m\u001b[1;33m,\u001b[0m \u001b[0mval\u001b[0m \u001b[1;32min\u001b[0m \u001b[0mzip\u001b[0m\u001b[1;33m(\u001b[0m\u001b[0mconverters\u001b[0m\u001b[1;33m,\u001b[0m \u001b[0mvals\u001b[0m\u001b[1;33m)\u001b[0m\u001b[1;33m]\u001b[0m\u001b[1;33m\u001b[0m\u001b[1;33m\u001b[0m\u001b[0m\n\u001b[0m\u001b[0;32m   1146\u001b[0m \u001b[1;33m\u001b[0m\u001b[0m\n\u001b[0;32m   1147\u001b[0m         \u001b[1;31m# read data in chunks and fill it into an array via resize\u001b[0m\u001b[1;33m\u001b[0m\u001b[1;33m\u001b[0m\u001b[0m\n",
      "\u001b[1;32m~\\Anaconda3\\envs\\bmcs_env\\lib\\site-packages\\numpy\\lib\\npyio.py\u001b[0m in \u001b[0;36m<listcomp>\u001b[1;34m(.0)\u001b[0m\n\u001b[0;32m   1143\u001b[0m         \u001b[1;32melse\u001b[0m\u001b[1;33m:\u001b[0m\u001b[1;33m\u001b[0m\u001b[1;33m\u001b[0m\u001b[0m\n\u001b[0;32m   1144\u001b[0m             \u001b[1;32mdef\u001b[0m \u001b[0mconvert_row\u001b[0m\u001b[1;33m(\u001b[0m\u001b[0mvals\u001b[0m\u001b[1;33m)\u001b[0m\u001b[1;33m:\u001b[0m\u001b[1;33m\u001b[0m\u001b[1;33m\u001b[0m\u001b[0m\n\u001b[1;32m-> 1145\u001b[1;33m                 \u001b[1;32mreturn\u001b[0m \u001b[1;33m[\u001b[0m\u001b[0mconv\u001b[0m\u001b[1;33m(\u001b[0m\u001b[0mval\u001b[0m\u001b[1;33m)\u001b[0m \u001b[1;32mfor\u001b[0m \u001b[0mconv\u001b[0m\u001b[1;33m,\u001b[0m \u001b[0mval\u001b[0m \u001b[1;32min\u001b[0m \u001b[0mzip\u001b[0m\u001b[1;33m(\u001b[0m\u001b[0mconverters\u001b[0m\u001b[1;33m,\u001b[0m \u001b[0mvals\u001b[0m\u001b[1;33m)\u001b[0m\u001b[1;33m]\u001b[0m\u001b[1;33m\u001b[0m\u001b[1;33m\u001b[0m\u001b[0m\n\u001b[0m\u001b[0;32m   1146\u001b[0m \u001b[1;33m\u001b[0m\u001b[0m\n\u001b[0;32m   1147\u001b[0m         \u001b[1;31m# read data in chunks and fill it into an array via resize\u001b[0m\u001b[1;33m\u001b[0m\u001b[1;33m\u001b[0m\u001b[0m\n",
      "\u001b[1;32m~\\Anaconda3\\envs\\bmcs_env\\lib\\site-packages\\numpy\\lib\\npyio.py\u001b[0m in \u001b[0;36m_floatconv\u001b[1;34m(x)\u001b[0m\n\u001b[0;32m    723\u001b[0m \u001b[1;32mdef\u001b[0m \u001b[0m_floatconv\u001b[0m\u001b[1;33m(\u001b[0m\u001b[0mx\u001b[0m\u001b[1;33m)\u001b[0m\u001b[1;33m:\u001b[0m\u001b[1;33m\u001b[0m\u001b[1;33m\u001b[0m\u001b[0m\n\u001b[0;32m    724\u001b[0m     \u001b[1;32mtry\u001b[0m\u001b[1;33m:\u001b[0m\u001b[1;33m\u001b[0m\u001b[1;33m\u001b[0m\u001b[0m\n\u001b[1;32m--> 725\u001b[1;33m         \u001b[1;32mreturn\u001b[0m \u001b[0mfloat\u001b[0m\u001b[1;33m(\u001b[0m\u001b[0mx\u001b[0m\u001b[1;33m)\u001b[0m  \u001b[1;31m# The fastest path.\u001b[0m\u001b[1;33m\u001b[0m\u001b[1;33m\u001b[0m\u001b[0m\n\u001b[0m\u001b[0;32m    726\u001b[0m     \u001b[1;32mexcept\u001b[0m \u001b[0mValueError\u001b[0m\u001b[1;33m:\u001b[0m\u001b[1;33m\u001b[0m\u001b[1;33m\u001b[0m\u001b[0m\n\u001b[0;32m    727\u001b[0m         \u001b[1;32mif\u001b[0m \u001b[1;34m'0x'\u001b[0m \u001b[1;32min\u001b[0m \u001b[0mx\u001b[0m\u001b[1;33m:\u001b[0m  \u001b[1;31m# Don't accidentally convert \"a\" (\"0xa\") to 10.\u001b[0m\u001b[1;33m\u001b[0m\u001b[1;33m\u001b[0m\u001b[0m\n",
      "\u001b[1;31mValueError\u001b[0m: could not convert string to float: ''"
     ]
    }
   ],
   "source": [
    "data = np.loadtxt('D:\\Shear zones\\SCPT files\\B1-TV1 opening.csv', \n",
    "           dtype={'names': ('point', 'empty', 'x', 'y'), 'formats': \n",
    "                  (np.str_, np.str_, np.float_, np.float_)},\n",
    "                       skiprows=0, delimiter=',', unpack=False)"
   ]
  },
  {
   "cell_type": "code",
   "execution_count": null,
   "id": "24f9d48f",
   "metadata": {},
   "outputs": [],
   "source": []
  }
 ],
 "metadata": {
  "kernelspec": {
   "display_name": "Python 3",
   "language": "python",
   "name": "python3"
  },
  "language_info": {
   "codemirror_mode": {
    "name": "ipython",
    "version": 3
   },
   "file_extension": ".py",
   "mimetype": "text/x-python",
   "name": "python",
   "nbconvert_exporter": "python",
   "pygments_lexer": "ipython3",
   "version": "3.9.7"
  }
 },
 "nbformat": 4,
 "nbformat_minor": 5
}
