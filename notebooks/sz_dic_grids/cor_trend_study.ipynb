{
 "cells": [
  {
   "cell_type": "code",
   "execution_count": null,
   "id": "8820583f",
   "metadata": {},
   "outputs": [],
   "source": [
    "%matplotlib widget\n",
    "import ibvpy.api as ib\n",
    "import matplotlib.pylab as plt\n",
    "from matplotlib import cm\n",
    "from scipy.interpolate import interp2d\n",
    "from scipy.signal import argrelextrema\n",
    "from bmcs_shear.api import CrackBridgeAdv\n",
    "from bmcs_shear.dic_crack import\\\n",
    "    DICGrid, DICStateFields, DICCrackList, DICCrack, DICCrackCOR, DICAlignedGrid, DICStressProfile\n",
    "from bmcs_shear.shear_crack.crack_path import get_T_Lab\n",
    "import numpy as np\n",
    "import ibvpy.api as ib\n",
    "np.seterr(divide ='ignore', invalid='ignore');\n",
    "import collections\n",
    "collections.Iterable = collections.abc.Iterable\n",
    "from bmcs_shear.api import DICGridTri"
   ]
  },
  {
   "cell_type": "code",
   "execution_count": null,
   "id": "df2b98cf",
   "metadata": {},
   "outputs": [],
   "source": [
    "dic_grid = DICGridTri(U_factor=100, dir_name='B1_TV1', t=1, padding=40, d_x=3, d_y=3, n_T=100)\n",
    "dic_grid.read_beam_design()\n",
    "dic_grid.trait_set(d_x=5, d_y=5, n_T=10);\n",
    "dsf = DICStateFields(dic_grid=dic_grid, R=8, omega_threshold=0.2, verbose_eval=True)\n",
    "dsf.tmodel_.trait_set(E=1400, c_T=0.006, nu=0.18, epsilon_0=0.0018,\n",
    "                      epsilon_f=0.002, eps_max=0.01);"
   ]
  },
  {
   "cell_type": "code",
   "execution_count": null,
   "id": "f596ea6e",
   "metadata": {},
   "outputs": [],
   "source": [
    "dsf.eval()\n",
    "dcl = DICCrackList(dsf=dsf, corridor_left=4, corridor_right=1, x_boundary = 15)\n",
    "dcl.identify_cracks()"
   ]
  },
  {
   "cell_type": "code",
   "execution_count": null,
   "id": "e6cadb31-87db-494c-b5b9-5940be4c8c79",
   "metadata": {},
   "outputs": [],
   "source": [
    "dic_grid.t = 0.1\n",
    "crack_label = '3'\n",
    "cor =dcl.items[crack_label].cor\n",
    "dc =dcl.items[crack_label]\n",
    "dc.x_t_tip_a[:]\n",
    "dc.x_t_crc_Ka"
   ]
  },
  {
   "cell_type": "code",
   "execution_count": null,
   "id": "2b984883-8cea-4456-8952-50c82019df6c",
   "metadata": {},
   "outputs": [],
   "source": [
    "cor.X_cor_t_a[:]    "
   ]
  },
  {
   "cell_type": "code",
   "execution_count": null,
   "id": "3cfafc25",
   "metadata": {},
   "outputs": [],
   "source": []
  }
 ],
 "metadata": {
  "kernelspec": {
   "display_name": "bmcs_env",
   "language": "python",
   "name": "bmcs_env"
  },
  "language_info": {
   "codemirror_mode": {
    "name": "ipython",
    "version": 3
   },
   "file_extension": ".py",
   "mimetype": "text/x-python",
   "name": "python",
   "nbconvert_exporter": "python",
   "pygments_lexer": "ipython3"
  }
 },
 "nbformat": 4,
 "nbformat_minor": 5
}
