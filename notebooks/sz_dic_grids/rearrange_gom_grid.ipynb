{
 "cells": [
  {
   "cell_type": "code",
   "execution_count": 15,
   "id": "803aa04c-e207-4ccb-85ec-e04806c1978e",
   "metadata": {},
   "outputs": [],
   "source": [
    "%matplotlib widget\n",
    "import numpy as np"
   ]
  },
  {
   "cell_type": "code",
   "execution_count": 16,
   "id": "33ae680d-75d0-437c-975b-4ff1e6d27c33",
   "metadata": {},
   "outputs": [],
   "source": [
    "import matplotlib.pylab as plt"
   ]
  },
  {
   "cell_type": "code",
   "execution_count": 236,
   "id": "7f6d382b-52b1-4981-92dd-b947c7a23e9b",
   "metadata": {},
   "outputs": [],
   "source": [
    "n_M, n_N = 4,5"
   ]
  },
  {
   "cell_type": "code",
   "execution_count": 237,
   "id": "7b9a9940-38a1-4327-a0ae-6586d007ae83",
   "metadata": {},
   "outputs": [],
   "source": [
    "M_idx, N_idx = np.mgrid[0:n_M:1, 0:n_N:1]"
   ]
  },
  {
   "cell_type": "code",
   "execution_count": 238,
   "id": "da84860c-9b05-4abd-9982-cba854ed9006",
   "metadata": {},
   "outputs": [
    {
     "data": {
      "text/plain": [
       "(array([[0, 1, 2, 3],\n",
       "        [0, 1, 2, 3],\n",
       "        [0, 1, 2, 3],\n",
       "        [0, 1, 2, 3],\n",
       "        [0, 1, 2, 3]]),\n",
       " array([[4, 4, 4, 4],\n",
       "        [3, 3, 3, 3],\n",
       "        [2, 2, 2, 2],\n",
       "        [1, 1, 1, 1],\n",
       "        [0, 0, 0, 0]]))"
      ]
     },
     "execution_count": 238,
     "metadata": {},
     "output_type": "execute_result"
    }
   ],
   "source": [
    "M_idx.T, N_idx.T[::-1]"
   ]
  },
  {
   "cell_type": "code",
   "execution_count": 239,
   "id": "ad6e8329-cad3-448b-b83c-8eda3b392cff",
   "metadata": {},
   "outputs": [
    {
     "data": {
      "text/plain": [
       "(2, 2, 2, 2, 2)"
      ]
     },
     "execution_count": 239,
     "metadata": {},
     "output_type": "execute_result"
    }
   ],
   "source": [
    "n_c = min(int((n_M) / 2), int(n_N / 2))\n",
    "n_A_depth = min(int(n_M / 2), int((n_N+1) / 2))\n",
    "n_B_depth = min(int((n_M+1) / 2), int(n_N / 2))\n",
    "n_C_depth = min(int((n_M) / 2), int(n_N / 2))\n",
    "n_D_depth = min(int((n_M) / 2), int(n_N / 2))\n",
    "n_c, n_A_depth, n_B_depth, n_C_depth, n_D_depth"
   ]
  },
  {
   "cell_type": "code",
   "execution_count": 240,
   "id": "c89b63e8-01f8-4ec6-9741-096f3fbe64bc",
   "metadata": {},
   "outputs": [
    {
     "data": {
      "text/plain": [
       "([array([0, 1, 2]), array([1])], [array([4, 4, 4]), array([3])])"
      ]
     },
     "execution_count": 240,
     "metadata": {},
     "output_type": "execute_result"
    }
   ],
   "source": [
    "A_M = [M_idx[d: n_M-d-1, -1-d] for d in range(n_A_depth)]\n",
    "A_N = [N_idx[d: n_M-d-1, -1-d] for d in range(n_A_depth)]\n",
    "A_M, A_N"
   ]
  },
  {
   "cell_type": "code",
   "execution_count": 241,
   "id": "21806d56-f64e-45f0-bbee-c3ba98363c2c",
   "metadata": {},
   "outputs": [
    {
     "data": {
      "text/plain": [
       "([array([3, 3, 3, 3]), array([2, 2])], [array([4, 3, 2, 1]), array([3, 2])])"
      ]
     },
     "execution_count": 241,
     "metadata": {},
     "output_type": "execute_result"
    }
   ],
   "source": [
    "B_M = [M_idx[-1-d, d+1: n_N-d] for d in range(n_B_depth)]\n",
    "B_N = [N_idx[-1-d, d+1: n_N-d][::-1] for d in range(n_B_depth)]\n",
    "B_M, B_N"
   ]
  },
  {
   "cell_type": "code",
   "execution_count": 242,
   "id": "3a2bdf4f-3278-4c5f-97bd-9be9dd4a8de8",
   "metadata": {},
   "outputs": [
    {
     "data": {
      "text/plain": [
       "([array([3, 2, 1]), array([2])], [array([0, 0, 0]), array([1])])"
      ]
     },
     "execution_count": 242,
     "metadata": {},
     "output_type": "execute_result"
    }
   ],
   "source": [
    "C_M = [M_idx[d+1: n_M-d, d][::-1] for d in range(n_C_depth)]\n",
    "C_N = [N_idx[d+1: n_M-d, d] for d in range(n_C_depth)]\n",
    "C_M, C_N"
   ]
  },
  {
   "cell_type": "code",
   "execution_count": 243,
   "id": "3c5d1cc1-bc05-48b3-83fa-eed4a4bb3b7e",
   "metadata": {},
   "outputs": [
    {
     "data": {
      "text/plain": [
       "([array([0, 0, 0, 0]), array([1, 1])], [array([0, 1, 2, 3]), array([1, 2])])"
      ]
     },
     "execution_count": 243,
     "metadata": {},
     "output_type": "execute_result"
    }
   ],
   "source": [
    "D_M = [M_idx[d, d: n_N-d-1] for d in range(n_D_depth)]\n",
    "D_N = [N_idx[d, d: n_N-d-1] for d in range(n_D_depth)]\n",
    "D_M, D_N"
   ]
  },
  {
   "cell_type": "code",
   "execution_count": 244,
   "id": "6bb22d35-f1fc-49b4-9486-615b89c49cf9",
   "metadata": {},
   "outputs": [],
   "source": [
    "if n_A_depth < n_B_depth:\n",
    "    E_M = B_M[-1] # + [M_idx[n_A_depth, -n_B_depth]]\n",
    "    E_N = B_N[-1] # + [N_idx[n_A_depth, -n_B_depth]]\n",
    "elif n_A_depth > n_B_depth:\n",
    "    E_M = A_M[-1] # + [M_idx[n_A_depth, -n_B_depth]]\n",
    "    E_N = A_N[-1] # + [N_idx[n_A_depth, -n_B_depth]]\n",
    "else:\n",
    "    E_M = np.array([], np.int_)\n",
    "    E_N = np.array([], np.int_)"
   ]
  },
  {
   "cell_type": "code",
   "execution_count": null,
   "id": "8d18d296-24db-4c05-bb99-b3fc03684828",
   "metadata": {},
   "outputs": [],
   "source": []
  },
  {
   "cell_type": "code",
   "execution_count": 245,
   "id": "f52735cd-d302-44c2-94fd-920e62348b37",
   "metadata": {},
   "outputs": [],
   "source": [
    "F_M, F_N = [], []\n",
    "if n_M % 2 != 0 or n_N % 2 != 0:\n",
    "    F_M = [M_idx[n_A_depth, -n_B_depth-1]]\n",
    "    F_N = [N_idx[n_A_depth, -n_B_depth-1]]"
   ]
  },
  {
   "cell_type": "code",
   "execution_count": 246,
   "id": "065262f8-9c92-440a-bba7-fc9a4fb5cf08",
   "metadata": {},
   "outputs": [
    {
     "data": {
      "text/plain": [
       "([2], [2])"
      ]
     },
     "execution_count": 246,
     "metadata": {},
     "output_type": "execute_result"
    }
   ],
   "source": [
    "F_M, F_N"
   ]
  },
  {
   "cell_type": "code",
   "execution_count": 247,
   "id": "8438dc36-43a9-4691-949f-8e650a388b5c",
   "metadata": {},
   "outputs": [],
   "source": [
    "c_M = np.hstack([np.hstack([A_M[c], B_M[c], C_M[c], D_M[c]]) for c in range(n_c)] \n",
    "                + [E_M] + F_M)\n",
    "c_N = np.hstack([np.hstack([A_N[c], B_N[c], C_N[c], D_N[c]]) for c in range(n_c)] \n",
    "                + [E_N] + F_N)"
   ]
  },
  {
   "cell_type": "code",
   "execution_count": 248,
   "id": "00a8dbc9-0d8c-4ccc-9103-95f034a7c43a",
   "metadata": {},
   "outputs": [
    {
     "data": {
      "text/plain": [
       "array([4, 4, 4, 4, 3, 2, 1, 0, 0, 0, 0, 1, 2, 3, 3, 3, 2, 1, 1, 2, 2])"
      ]
     },
     "execution_count": 248,
     "metadata": {},
     "output_type": "execute_result"
    }
   ],
   "source": [
    "c_N"
   ]
  },
  {
   "cell_type": "code",
   "execution_count": 249,
   "id": "257cdfd5-979e-4220-b601-8caa9121950e",
   "metadata": {},
   "outputs": [
    {
     "data": {
      "text/plain": [
       "array([4, 4, 4, 4, 3, 2, 1, 0, 0, 0, 0, 1, 2, 3, 3, 3, 2, 1, 1, 2, 2])"
      ]
     },
     "execution_count": 249,
     "metadata": {},
     "output_type": "execute_result"
    }
   ],
   "source": [
    "N_idx[c_M, c_N]"
   ]
  },
  {
   "cell_type": "code",
   "execution_count": 250,
   "id": "ea0fd6fc-f914-4d10-8e21-4d1d1cef6c3c",
   "metadata": {},
   "outputs": [
    {
     "data": {
      "text/plain": [
       "[<matplotlib.lines.Line2D at 0x7ff7a63c26d0>]"
      ]
     },
     "execution_count": 250,
     "metadata": {},
     "output_type": "execute_result"
    },
    {
     "data": {
      "application/vnd.jupyter.widget-view+json": {
       "model_id": "9b0979e8a79245bc958beb7057a1deb0",
       "version_major": 2,
       "version_minor": 0
      },
      "image/png": "[encoded data removed]",
      "text/html": [
       "\n",
       "            <div style=\"display: inline-block;\">\n",
       "                <div class=\"jupyter-widgets widget-label\" style=\"text-align: center;\">\n",
       "                    Figure\n",
       "                </div>\n",
       "                <img src='data:image/png;base64,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' width=640.0/>\n",
       "            </div>\n",
       "        "
      ],
      "text/plain": [
       "Canvas(toolbar=Toolbar(toolitems=[('Home', 'Reset original view', 'home', 'home'), ('Back', 'Back to previous …"
      ]
     },
     "metadata": {},
     "output_type": "display_data"
    }
   ],
   "source": [
    "fig, ax = plt.subplots(1,1)\n",
    "ax.plot(c_M, c_N, '-o')"
   ]
  },
  {
   "cell_type": "code",
   "execution_count": null,
   "id": "2e27a31d-d29a-45ff-9b2e-5791bc3b037d",
   "metadata": {},
   "outputs": [],
   "source": []
  },
  {
   "cell_type": "code",
   "execution_count": null,
   "id": "18243a9a-5a9e-4aa5-8042-46882cb583c5",
   "metadata": {},
   "outputs": [],
   "source": []
  },
  {
   "cell_type": "code",
   "execution_count": null,
   "id": "038a21e2-0f6c-4389-b112-5cbc8248747a",
   "metadata": {},
   "outputs": [],
   "source": []
  }
 ],
 "metadata": {
  "kernelspec": {
   "display_name": "bmcs_env",
   "language": "python",
   "name": "bmcs_env"
  },
  "language_info": {
   "codemirror_mode": {
    "name": "ipython",
    "version": 3
   },
   "file_extension": ".py",
   "mimetype": "text/x-python",
   "name": "python",
   "nbconvert_exporter": "python",
   "pygments_lexer": "ipython3",
   "version": "3.9.0"
  }
 },
 "nbformat": 4,
 "nbformat_minor": 5
}
