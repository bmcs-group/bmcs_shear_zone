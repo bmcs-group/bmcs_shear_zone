{
 "cells": [
  {
   "cell_type": "code",
   "execution_count": null,
   "id": "803aa04c-e207-4ccb-85ec-e04806c1978e",
   "metadata": {},
   "outputs": [],
   "source": [
    "%matplotlib widget\n",
    "import numpy as np"
   ]
  },
  {
   "cell_type": "code",
   "execution_count": null,
   "id": "33ae680d-75d0-437c-975b-4ff1e6d27c33",
   "metadata": {},
   "outputs": [],
   "source": [
    "import matplotlib.pylab as plt"
   ]
  },
  {
   "cell_type": "code",
   "execution_count": null,
   "id": "7f6d382b-52b1-4981-92dd-b947c7a23e9b",
   "metadata": {},
   "outputs": [],
   "source": [
    "n_M, n_N = 4,5"
   ]
  },
  {
   "cell_type": "code",
   "execution_count": null,
   "id": "7b9a9940-38a1-4327-a0ae-6586d007ae83",
   "metadata": {},
   "outputs": [],
   "source": [
    "M_idx, N_idx = np.mgrid[0:n_M:1, 0:n_N:1]"
   ]
  },
  {
   "cell_type": "code",
   "execution_count": null,
   "id": "da84860c-9b05-4abd-9982-cba854ed9006",
   "metadata": {},
   "outputs": [],
   "source": [
    "M_idx.T, N_idx.T[::-1]"
   ]
  },
  {
   "cell_type": "code",
   "execution_count": null,
   "id": "ad6e8329-cad3-448b-b83c-8eda3b392cff",
   "metadata": {},
   "outputs": [],
   "source": [
    "n_c = min(int((n_M) / 2), int(n_N / 2))\n",
    "n_A_depth = min(int(n_M / 2), int((n_N+1) / 2))\n",
    "n_B_depth = min(int((n_M+1) / 2), int(n_N / 2))\n",
    "n_C_depth = min(int((n_M) / 2), int(n_N / 2))\n",
    "n_D_depth = min(int((n_M) / 2), int(n_N / 2))\n",
    "n_c, n_A_depth, n_B_depth, n_C_depth, n_D_depth"
   ]
  },
  {
   "cell_type": "code",
   "execution_count": null,
   "id": "c89b63e8-01f8-4ec6-9741-096f3fbe64bc",
   "metadata": {},
   "outputs": [],
   "source": [
    "A_M = [M_idx[d: n_M-d-1, -1-d] for d in range(n_A_depth)]\n",
    "A_N = [N_idx[d: n_M-d-1, -1-d] for d in range(n_A_depth)]\n",
    "A_M, A_N"
   ]
  },
  {
   "cell_type": "code",
   "execution_count": null,
   "id": "21806d56-f64e-45f0-bbee-c3ba98363c2c",
   "metadata": {},
   "outputs": [],
   "source": [
    "B_M = [M_idx[-1-d, d+1: n_N-d] for d in range(n_B_depth)]\n",
    "B_N = [N_idx[-1-d, d+1: n_N-d][::-1] for d in range(n_B_depth)]\n",
    "B_M, B_N"
   ]
  },
  {
   "cell_type": "code",
   "execution_count": null,
   "id": "3a2bdf4f-3278-4c5f-97bd-9be9dd4a8de8",
   "metadata": {},
   "outputs": [],
   "source": [
    "C_M = [M_idx[d+1: n_M-d, d][::-1] for d in range(n_C_depth)]\n",
    "C_N = [N_idx[d+1: n_M-d, d] for d in range(n_C_depth)]\n",
    "C_M, C_N"
   ]
  },
  {
   "cell_type": "code",
   "execution_count": null,
   "id": "3c5d1cc1-bc05-48b3-83fa-eed4a4bb3b7e",
   "metadata": {},
   "outputs": [],
   "source": [
    "D_M = [M_idx[d, d: n_N-d-1] for d in range(n_D_depth)]\n",
    "D_N = [N_idx[d, d: n_N-d-1] for d in range(n_D_depth)]\n",
    "D_M, D_N"
   ]
  },
  {
   "cell_type": "code",
   "execution_count": null,
   "id": "6bb22d35-f1fc-49b4-9486-615b89c49cf9",
   "metadata": {},
   "outputs": [],
   "source": [
    "if n_A_depth < n_B_depth:\n",
    "    E_M = B_M[-1] # + [M_idx[n_A_depth, -n_B_depth]]\n",
    "    E_N = B_N[-1] # + [N_idx[n_A_depth, -n_B_depth]]\n",
    "elif n_A_depth > n_B_depth:\n",
    "    E_M = A_M[-1] # + [M_idx[n_A_depth, -n_B_depth]]\n",
    "    E_N = A_N[-1] # + [N_idx[n_A_depth, -n_B_depth]]\n",
    "else:\n",
    "    E_M = np.array([], np.int_)\n",
    "    E_N = np.array([], np.int_)"
   ]
  },
  {
   "cell_type": "code",
   "execution_count": null,
   "id": "8d18d296-24db-4c05-bb99-b3fc03684828",
   "metadata": {},
   "outputs": [],
   "source": []
  },
  {
   "cell_type": "code",
   "execution_count": null,
   "id": "f52735cd-d302-44c2-94fd-920e62348b37",
   "metadata": {},
   "outputs": [],
   "source": [
    "F_M, F_N = [], []\n",
    "if n_M % 2 != 0 or n_N % 2 != 0:\n",
    "    F_M = [M_idx[n_A_depth, -n_B_depth-1]]\n",
    "    F_N = [N_idx[n_A_depth, -n_B_depth-1]]"
   ]
  },
  {
   "cell_type": "code",
   "execution_count": null,
   "id": "065262f8-9c92-440a-bba7-fc9a4fb5cf08",
   "metadata": {},
   "outputs": [],
   "source": [
    "F_M, F_N"
   ]
  },
  {
   "cell_type": "code",
   "execution_count": null,
   "id": "8438dc36-43a9-4691-949f-8e650a388b5c",
   "metadata": {},
   "outputs": [],
   "source": [
    "c_M = np.hstack([np.hstack([A_M[c], B_M[c], C_M[c], D_M[c]]) for c in range(n_c)] \n",
    "                + [E_M] + F_M)\n",
    "c_N = np.hstack([np.hstack([A_N[c], B_N[c], C_N[c], D_N[c]]) for c in range(n_c)] \n",
    "                + [E_N] + F_N)"
   ]
  },
  {
   "cell_type": "code",
   "execution_count": null,
   "id": "00a8dbc9-0d8c-4ccc-9103-95f034a7c43a",
   "metadata": {},
   "outputs": [],
   "source": [
    "c_N"
   ]
  },
  {
   "cell_type": "code",
   "execution_count": null,
   "id": "257cdfd5-979e-4220-b601-8caa9121950e",
   "metadata": {},
   "outputs": [],
   "source": [
    "N_idx[c_M, c_N]"
   ]
  },
  {
   "cell_type": "code",
   "execution_count": null,
   "id": "ea0fd6fc-f914-4d10-8e21-4d1d1cef6c3c",
   "metadata": {},
   "outputs": [],
   "source": [
    "fig, ax = plt.subplots(1,1)\n",
    "ax.plot(c_M, c_N, '-o')"
   ]
  },
  {
   "cell_type": "code",
   "execution_count": null,
   "id": "2e27a31d-d29a-45ff-9b2e-5791bc3b037d",
   "metadata": {},
   "outputs": [],
   "source": []
  },
  {
   "cell_type": "code",
   "execution_count": null,
   "id": "18243a9a-5a9e-4aa5-8042-46882cb583c5",
   "metadata": {},
   "outputs": [],
   "source": []
  },
  {
   "cell_type": "code",
   "execution_count": null,
   "id": "038a21e2-0f6c-4389-b112-5cbc8248747a",
   "metadata": {},
   "outputs": [],
   "source": []
  }
 ],
 "metadata": {
  "kernelspec": {
   "display_name": "bmcs_env",
   "language": "python",
   "name": "bmcs_env"
  },
  "language_info": {
   "codemirror_mode": {
    "name": "ipython",
    "version": 3
   },
   "file_extension": ".py",
   "mimetype": "text/x-python",
   "name": "python",
   "nbconvert_exporter": "python",
   "pygments_lexer": "ipython3"
  }
 },
 "nbformat": 4,
 "nbformat_minor": 5
}
