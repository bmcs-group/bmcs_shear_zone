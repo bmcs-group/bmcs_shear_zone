{
 "cells": [
  {
   "cell_type": "markdown",
   "metadata": {},
   "source": [
    "# Valley of shear"
   ]
  },
  {
   "cell_type": "code",
   "execution_count": null,
   "metadata": {},
   "outputs": [],
   "source": [
    "%matplotlib widget\n",
    "import numpy as np\n",
    "import matplotlib.pyplot as plt\n",
    "from mpl_toolkits.mplot3d import Axes3D\n",
    "import matplotlib.tri as mtri\n",
    "from scipy.spatial import Delaunay\n",
    "import ipyvolume as ipv\n",
    "import ipywidgets as ipw"
   ]
  },
  {
   "cell_type": "code",
   "execution_count": null,
   "metadata": {
    "hide_input": true
   },
   "outputs": [],
   "source": [
    "%%html\n",
    "<style>\n",
    ".output_wrapper button.btn.btn-default,\n",
    ".output_wrapper .ui-dialog-titlebar {\n",
    "  display: none;\n",
    "}\n",
    "</style>"
   ]
  },
  {
   "cell_type": "markdown",
   "metadata": {},
   "source": [
    "I keep the data separate from the code - the `schubtaltex.csv` file is kept in my home\n",
    "directory \n",
    "\n",
    "`~/simdb/data/`\n",
    "\n",
    "Adapt the path to the relevant location using `os.path.join`"
   ]
  },
  {
   "cell_type": "code",
   "execution_count": null,
   "metadata": {},
   "outputs": [],
   "source": [
    "import os.path as op\n",
    "input_file = op.join(\n",
    "    op.expanduser('~'), 'simdb', 'data', 'schubtaltex.csv'\n",
    ")\n",
    "input_file"
   ]
  },
  {
   "cell_type": "markdown",
   "metadata": {},
   "source": [
    "Read the data using `loadtxt` to get a two dimensional array"
   ]
  },
  {
   "cell_type": "code",
   "execution_count": null,
   "metadata": {},
   "outputs": [],
   "source": [
    "xyz_data = np.loadtxt(input_file,delimiter=';',skiprows=1)"
   ]
  },
  {
   "cell_type": "markdown",
   "metadata": {},
   "source": [
    "# Add corner points\n",
    "\n",
    "Set up a rectangular domain around the measured data.\n",
    "Currently, the values on the border are set to 1.0, which is not \n",
    "useful for cases when the border should stop at a certain cut through \n",
    "the boundaries. In such cases, the data values in $z$ direction \n",
    "along the boundary triangle edges should be projected onto the \n",
    "boundary of the bounding box. This has not yet been done here."
   ]
  },
  {
   "cell_type": "code",
   "execution_count": null,
   "metadata": {},
   "outputs": [],
   "source": [
    "br = 0.01 # boundary ratio\n",
    "min_rho, max_rho = (1-br) * np.min(xyz_data[:,0]), (1+0*br) * np.max(xyz_data[:,0])\n",
    "min_lam, max_lam = (1-br) * np.min(xyz_data[:,1]), (1+br) * np.max(xyz_data[:,1])\n",
    "mid_rho = (min_rho + max_rho) / 2\n",
    "mid_lam = (min_lam + max_lam) / 2\n",
    "cxyz = np.array([[min_rho, min_lam, 1],\n",
    "                 [min_rho, max_lam, 1],\n",
    "                 [max_rho, min_lam, 1],\n",
    "                 [max_rho, max_lam, 1],\n",
    "                [mid_rho*0.25, min_lam, 1],\n",
    "                [mid_rho*0.5, min_lam, 1],\n",
    "                [mid_rho*1.5, min_lam, 1],\n",
    "                [mid_rho, max_lam, 1],\n",
    "                [min_rho, mid_lam, 1],\n",
    "#                 [max_rho, mid_lam, 0.3]\n",
    "                ], dtype=np.float_)\n",
    "rho_boundary = mid_rho * 0.02\n",
    "lam_boundary = mid_lam * 0.02\n",
    "mm_min_rho = -2 # min_rho-rho_boundary\n",
    "mm_max_rho = max_rho+rho_boundary*(-0.0)\n",
    "mm_min_lam = -1 \n",
    "mm_max_lam = max_lam+5\n",
    "bxyz = np.array([[mm_min_rho, mm_min_lam, 1],\n",
    "                 [mid_rho, mm_min_lam, 1],\n",
    "                 [mm_min_rho, mm_max_lam, 1],\n",
    "                 [mm_max_rho, mm_min_lam, 1],\n",
    "                 [mm_max_rho, mm_max_lam, 1],\n",
    "                ], dtype=np.float_)\n",
    "xyz = np.vstack([xyz_data, cxyz])#, bxyz])"
   ]
  },
  {
   "cell_type": "markdown",
   "metadata": {},
   "source": []
  },
  {
   "cell_type": "markdown",
   "metadata": {},
   "source": [
    "# Construct the surface\n",
    "First quick fix to connect the data is based on the $x-y$ plane\n",
    "representing the slenderness \n",
    "\\begin{align}\n",
    "\\lambda = \\frac{a}{d}\n",
    "\\end{align}\n",
    "and reinforcement ratio \n",
    "\\begin{align}\n",
    "\\rho = \\frac{A_\\mathrm{st}}{b_w d}\n",
    "\\end{align}"
   ]
  },
  {
   "cell_type": "markdown",
   "metadata": {},
   "source": [
    "Take the data along the first two axes, use the `trisurf` method of `Delaunay` to make an $xy$ triangulation"
   ]
  },
  {
   "cell_type": "code",
   "execution_count": null,
   "metadata": {},
   "outputs": [],
   "source": [
    "tri = Delaunay(xyz[:,:-1])\n",
    "triangles=tri.simplices"
   ]
  },
  {
   "cell_type": "markdown",
   "metadata": {},
   "source": [
    "# Plot using matplotlib with 3d projection\n",
    "This version is static"
   ]
  },
  {
   "cell_type": "code",
   "execution_count": null,
   "metadata": {},
   "outputs": [],
   "source": [
    "fig = plt.figure(figsize=(10,8))\n",
    "ax = fig.add_subplot(1, 1, 1, projection='3d')\n",
    "x, y, z = xyz.T\n",
    "ax.plot_trisurf(x, y, z, triangles=triangles, cmap=plt.cm.Spectral)\n",
    "ax.set_xlabel(r'$\\rho$')\n",
    "ax.set_ylabel(r'$\\lambda$')\n",
    "ax.set_zlabel(r'$M_\\mathrm{uV} / M_\\mathrm{Rd}$')\n",
    "ax.view_init(20, 20)\n",
    "ax.set_zlim(0,1);"
   ]
  },
  {
   "cell_type": "markdown",
   "metadata": {},
   "source": [
    "# Triangular interpolation"
   ]
  },
  {
   "cell_type": "markdown",
   "metadata": {},
   "source": [
    "## Explanation using a symbolic implementation"
   ]
  },
  {
   "cell_type": "markdown",
   "metadata": {},
   "source": [
    "Interpolate the values of the response surface using the \n",
    "triangular elements. Coordinates on the surface are defined as\n",
    "\\begin{align}\n",
    "x_a = \\xi_i \\hat{x}_{ia}, \\; i = 1\\ldots3, \\; a = 1\\ldots2\n",
    "\\end{align}\n",
    "where\n",
    "\\begin{align}\n",
    "\\xi_i \\delta_{ii} = 1\n",
    "\\end{align}\n",
    "Thus, a point within the triangle is defined by two values $\\xi_1$, $\\xi_2$ and the third one \n",
    "is obtained \n",
    "\\begin{align}\n",
    "\\xi_3 = 1 - \\xi_1 - \\xi_2\n",
    "\\end{align}\n",
    "\n",
    "For a point $x$, \n",
    " - identify the triangle by evaluating \n",
    " - identify the $\\xi$ = $L_1$, $L_2$ and $L_3$ within the triangle\n",
    " - evaluate $u_\\xi$"
   ]
  },
  {
   "cell_type": "code",
   "execution_count": null,
   "metadata": {},
   "outputs": [],
   "source": [
    "import sympy as sp\n",
    "sp.init_printing()\n",
    "xi_1, xi_2, xi_3 = sp.symbols(r'xi_1, xi_2, xi3')\n",
    "xh_11, xh_21, xh_31 = sp.symbols(r'X_{11}, X_{21}, X_{31}')\n",
    "xh_12, xh_22, xh_32 = sp.symbols(r'X_{12}, X_{22}, X_{32}')\n",
    "x_a_1, x_a_2 = sp.symbols(r'x^\\xi_1, x^\\xi_2')\n",
    "x_hat = sp.Matrix([[ xh_11, xh_21, xh_31],\n",
    "                   [ xh_12, xh_22, xh_32]])\n",
    "xi = sp.Matrix([xi_1, xi_2, xi_3])\n",
    "x_a = sp.Matrix([x_a_1, x_a_2])"
   ]
  },
  {
   "cell_type": "code",
   "execution_count": null,
   "metadata": {},
   "outputs": [],
   "source": [
    "xi_3_subs = {xi_3: 1 - xi_1- xi_2} \n",
    "xi_3_subs"
   ]
  },
  {
   "cell_type": "code",
   "execution_count": null,
   "metadata": {},
   "outputs": [],
   "source": [
    "xi.T, x_hat.T"
   ]
  },
  {
   "cell_type": "code",
   "execution_count": null,
   "metadata": {},
   "outputs": [],
   "source": [
    "x_a_ = xi.T * x_hat.T\n",
    "x_a_"
   ]
  },
  {
   "cell_type": "code",
   "execution_count": null,
   "metadata": {},
   "outputs": [],
   "source": [
    "x_a_.subs(xi_3_subs)"
   ]
  },
  {
   "cell_type": "code",
   "execution_count": null,
   "metadata": {},
   "outputs": [],
   "source": [
    "x_a2 = x_a_.subs(xi_3_subs).T\n",
    "x_a2"
   ]
  },
  {
   "cell_type": "code",
   "execution_count": null,
   "metadata": {},
   "outputs": [],
   "source": [
    "xi_12 = sp.solve(x_a - x_a2, [xi_1, xi_2])\n",
    "xi_12"
   ]
  },
  {
   "cell_type": "code",
   "execution_count": null,
   "metadata": {},
   "outputs": [],
   "source": [
    "xi_12_ = sp.Matrix([xi_12[xi_1], xi_12[xi_2]])"
   ]
  },
  {
   "cell_type": "code",
   "execution_count": null,
   "metadata": {},
   "outputs": [],
   "source": [
    "xi_12_"
   ]
  },
  {
   "cell_type": "code",
   "execution_count": null,
   "metadata": {},
   "outputs": [],
   "source": [
    "get_xi_12 = sp.lambdify((xh_11, xh_21, xh_31, xh_12, xh_22, xh_32, x_a_1, x_a_2), xi_12_, 'numpy')"
   ]
  },
  {
   "cell_type": "code",
   "execution_count": null,
   "metadata": {},
   "outputs": [],
   "source": [
    "def get_xi_123(*args):\n",
    "    xi_12 = get_xi_12(*args)\n",
    "    xi_3 = 1 - xi_12[0] - xi_12[1]\n",
    "    return np.vstack([xi_12, xi_3]) #, axis=-1)"
   ]
  },
  {
   "cell_type": "code",
   "execution_count": null,
   "metadata": {},
   "outputs": [],
   "source": [
    "get_xi_123(0, 1, 0, 0, 0, 1, 0.5, 0.8)"
   ]
  },
  {
   "cell_type": "markdown",
   "metadata": {},
   "source": [
    "## Numerical implementation"
   ]
  },
  {
   "cell_type": "markdown",
   "metadata": {},
   "source": [
    "\\begin{align}\n",
    "\\left[\n",
    "\\begin{array}{l}\n",
    "    \\xi_1 \\\\ \\xi_2 \\\\ \\xi_3\n",
    "\\end{array}\n",
    "\\right]\n",
    "    &=\n",
    "\\left[\n",
    "\\begin{array}{l}\n",
    "    0 \\\\ 0 \\\\ 1\n",
    "\\end{array}\n",
    "\\right] +\n",
    "\\left[\n",
    "\\begin{array}{rr}\n",
    "1 & 0  \\\\\n",
    "0 & 1  \\\\\n",
    "-1 & -1 \n",
    "\\end{array}\n",
    "\\right]\n",
    "\\left[\n",
    "\\begin{array}{l}\n",
    "    \\xi_1 \\\\ \\xi_2\n",
    "\\end{array}\n",
    "\\right]\n",
    "\\end{align}"
   ]
  },
  {
   "cell_type": "code",
   "execution_count": null,
   "metadata": {},
   "outputs": [],
   "source": [
    "delta_3_ib = np.array([[1,0],\n",
    "                   [0,1],\n",
    "                   [-1,-1]], dtype=np.float_)\n",
    "I_i = np.array([0,0,1], dtype=np.float_).T"
   ]
  },
  {
   "cell_type": "markdown",
   "metadata": {},
   "source": [
    "that can be expressed as\n",
    "\\begin{align}\n",
    "\\xi_i = I_i + \\delta^{(3)}_{ib} \\xi_b, \\; i = 1\\ldots3, \\; b = 1\\ldots2\n",
    "\\end{align}"
   ]
  },
  {
   "cell_type": "markdown",
   "metadata": {},
   "source": [
    "Thus we can rewrite the approximation using $b =1 \\ldots 2$\n",
    "\\begin{align}\n",
    "x_a = \\hat{x}_{ia} (I_i + \\delta^{(3)}_{ib} \\xi_b)  , \\; i = 1\\ldots3, \\; a = 1\\ldots2, \\; b = 1\\ldots2\n",
    "\\end{align}"
   ]
  },
  {
   "cell_type": "markdown",
   "metadata": {},
   "source": [
    "which can be rearranged to\n",
    "\\begin{align}\n",
    "\\hat{x}_{ia} \\delta^{(3)}_{ib} \\xi_b = x_a - \\hat{x}_{ia} I_i\n",
    "\\end{align} "
   ]
  },
  {
   "cell_type": "markdown",
   "metadata": {},
   "source": [
    "\\begin{align}\n",
    "\\xi_b = \\left[ \\hat{x}_{ia} \\delta^{(3)}_{ib} \\right]^{-1}  \n",
    "\\left( x_a -  \\hat{x}_{ia} I_i \n",
    "\\right)\n",
    "\\end{align}"
   ]
  },
  {
   "cell_type": "markdown",
   "metadata": {},
   "source": [
    "The calculation of the $\\xi_i$ is done using the following procedure. The inputs are the triangulation nodes arranged in array with `Tia` dimensions and grid coordinates of the nodes `JKa`. "
   ]
  },
  {
   "cell_type": "code",
   "execution_count": null,
   "metadata": {},
   "outputs": [],
   "source": [
    "def get_xi_TJi(hat_x_Tia, x_JKa):\n",
    "    # remember the grid shape\n",
    "    x_sh = x_JKa.shape[:-1]\n",
    "    # flatten the grid nodes to have linear index at first position\n",
    "    x_Ja = x_JKa.reshape(-1,2)\n",
    "    # evaluate the inverse mapping matrix (see above)\n",
    "    inv_x_delta_Tab = np.linalg.inv( np.einsum('Tia,ib->Tab', hat_x_Tia, delta_3_ib) )\n",
    "    # distance matrix between triangle nodes and grid nodes\n",
    "    x_I_TJa = x_Ja[None,:,:] - np.einsum('Tia,i->Ta', hat_x_Tia, I_i)[:,None,:]\n",
    "    # get the xi_b - with two independent barycentric coordinates\n",
    "    xi_TJb = np.einsum('Tba,TJa->TJb', inv_x_delta_Tab, x_I_TJa)\n",
    "    # expand the barycentric coordinates to contatin 3 components\n",
    "    xi_TJi = I_i[None,None,:] + np.einsum('ib,TJb->TJi', delta_3_ib, xi_TJb)\n",
    "    # reshape the barycentric map back to the input shape of x_JKa and return\n",
    "    xi_sh = (-1,) + x_sh + (3,)\n",
    "    return xi_TJi.reshape(*xi_sh)"
   ]
  },
  {
   "cell_type": "markdown",
   "metadata": {},
   "source": [
    "**Verification plots**"
   ]
  },
  {
   "cell_type": "code",
   "execution_count": null,
   "metadata": {},
   "outputs": [],
   "source": [
    "def plot_triangulation( ax, hat_x_Ia, T_i ):\n",
    "    hat_x_Tia_closed = hat_x_Ia[np.hstack([T_i, T_i[...,[0]]])]\n",
    "    ax.plot(*np.einsum('Tia->aiT',hat_x_Tia_closed), color='blue');"
   ]
  },
  {
   "cell_type": "code",
   "execution_count": null,
   "metadata": {},
   "outputs": [],
   "source": [
    "def plot_points(ax, x_Ja):\n",
    "    ax.plot(*np.einsum('Ja->aJ',x_Ja)[:,None,:], color='red', marker='o')"
   ]
  },
  {
   "cell_type": "markdown",
   "metadata": {},
   "source": [
    "## Example\n",
    "Define nodes of the triangulation"
   ]
  },
  {
   "cell_type": "markdown",
   "metadata": {},
   "source": [
    "Define the nodes of the triangulation hat_x_Ia where I is the index of triangulation, a is the dimensional index [0,1]. The array `I_Ti` is the map of triangles - for a given triangle index `T` and local node index `i` within a triangle return the global node of the triangulation  `I`"
   ]
  },
  {
   "cell_type": "code",
   "execution_count": null,
   "metadata": {},
   "outputs": [],
   "source": [
    "hat_x_Ia = np.array([[0,0],[1,0],[1,2],[0,1],[0,2]], dtype=np.float_)\n",
    "I_Ti = np.array([[0,1,3],[1,2,3],[2,3,4]], dtype=np.int_)"
   ]
  },
  {
   "cell_type": "code",
   "execution_count": null,
   "metadata": {},
   "outputs": [],
   "source": [
    "z_I1 = np.zeros_like(hat_x_Ia[...,0], dtype=np.float_)\n",
    "z_I1[3] = 1"
   ]
  },
  {
   "cell_type": "markdown",
   "metadata": {},
   "source": [
    "Rearrange the node coordinates according the triangulation to make them accessible via the index triple `Tia`"
   ]
  },
  {
   "cell_type": "code",
   "execution_count": null,
   "metadata": {},
   "outputs": [],
   "source": [
    "hat_x_Tia = hat_x_Ia[I_Ti]"
   ]
  },
  {
   "cell_type": "markdown",
   "metadata": {},
   "source": [
    "Define the grid `x_aJK`. Mgrid generates the array with the dimensional index on the first position. Rearrange the index order using `einsum`"
   ]
  },
  {
   "cell_type": "code",
   "execution_count": null,
   "metadata": {},
   "outputs": [],
   "source": [
    "x_aJK = np.mgrid[0:1:3j,0:2:3j]\n",
    "x_JKa = np.einsum('aJK->JKa', x_aJK)"
   ]
  },
  {
   "cell_type": "markdown",
   "metadata": {},
   "source": [
    "Flatten the first grid index `JK` of `x_JKa` to plot the points."
   ]
  },
  {
   "cell_type": "code",
   "execution_count": null,
   "metadata": {},
   "outputs": [],
   "source": [
    "x_Ja = x_JKa.reshape(-1,2)\n",
    "fig, ax = plt.subplots(1,1,figsize=(4,4))\n",
    "plot_triangulation(ax, hat_x_Ia, I_Ti)\n",
    "plot_points(ax, x_Ja)\n",
    "ax.axis('equal');"
   ]
  },
  {
   "cell_type": "markdown",
   "metadata": {},
   "source": [
    "Identify the containing triangle `T` of a grid point `JK`"
   ]
  },
  {
   "cell_type": "code",
   "execution_count": null,
   "metadata": {},
   "outputs": [],
   "source": [
    "def get_xi_JTi(xi_TJi):\n",
    "    # Put the grid node indexes at the first pos.\n",
    "    return np.einsum('T...i->...Ti', xi_TJi)"
   ]
  },
  {
   "cell_type": "markdown",
   "metadata": {},
   "source": [
    "Get the index of the triangle corresponding to the node `J`"
   ]
  },
  {
   "cell_type": "code",
   "execution_count": null,
   "metadata": {},
   "outputs": [],
   "source": [
    "def get_J_T(xi_TJi):\n",
    "    # take only triangles with all xi >=0  \n",
    "    mask_TJ = np.all(xi_TJi>=0, axis=-1)\n",
    "    # find the first containing triangle\n",
    "    J_T = np.argmax(mask_TJ, axis=-1) \n",
    "    return J_T"
   ]
  },
  {
   "cell_type": "markdown",
   "metadata": {},
   "source": [
    "Get the barycentric coordinates of `x_Ja` within the respective containing triangle"
   ]
  },
  {
   "cell_type": "code",
   "execution_count": null,
   "metadata": {},
   "outputs": [],
   "source": [
    "def get_xi_Ji(xi_JTi, J_T):\n",
    "    sh_JT = J_T.shape \n",
    "    n_T = xi_JTi.shape[-2]\n",
    "    xi_JTi_ = xi_JTi.reshape(-1, n_T, 3)\n",
    "    J_T_ = J_T.flatten()\n",
    "    xi_Ji_ = xi_JTi_[np.arange(len(J_T_)), J_T_]\n",
    "    return xi_Ji_.reshape(sh_JT + (3,)) "
   ]
  },
  {
   "cell_type": "markdown",
   "metadata": {},
   "source": [
    "Recover the original coordinates $x_a$"
   ]
  },
  {
   "cell_type": "code",
   "execution_count": null,
   "metadata": {},
   "outputs": [],
   "source": [
    "def get_z_JK(hat_x_Ia, I_Ti, x_aJK, z_I):\n",
    "    x_JKa = np.einsum('aJK->JKa', x_aJK)\n",
    "    hat_x_Tia = hat_x_Ia[I_Ti]\n",
    "    z_Ti = z_I[I_Ti]\n",
    "    xi_TJi = get_xi_TJi(hat_x_Tia, x_JKa)\n",
    "    xi_JTi = get_xi_JTi(xi_TJi)\n",
    "    J_T = get_J_T(xi_JTi)\n",
    "    xi_Ji = get_xi_Ji(xi_JTi, J_T)\n",
    "    z_Ji = z_Ti[J_T]\n",
    "    z_JK = np.einsum('...i,...i->...', xi_Ji, z_Ji)\n",
    "    return z_JK"
   ]
  },
  {
   "cell_type": "code",
   "execution_count": null,
   "metadata": {},
   "outputs": [],
   "source": [
    "z_JK = get_z_JK(hat_x_Ia, I_Ti, x_aJK, z_I1)"
   ]
  },
  {
   "cell_type": "markdown",
   "metadata": {},
   "source": [
    "## Plot the triangulated data"
   ]
  },
  {
   "cell_type": "markdown",
   "metadata": {},
   "source": [
    "Choose the resolution in the $\\rho$ and $\\lambda$ directions "
   ]
  },
  {
   "cell_type": "code",
   "execution_count": null,
   "metadata": {},
   "outputs": [],
   "source": [
    "n_J, n_K = 99, 99\n",
    "x_aJK = np.mgrid[min_rho:max_rho:complex(n_J),\n",
    "                 min_lam:max_lam:complex(n_K)]\n",
    "x_JK, y_JK = x_aJK"
   ]
  },
  {
   "cell_type": "code",
   "execution_count": null,
   "metadata": {},
   "outputs": [],
   "source": [
    "hat_x_Ia = xyz[:,:-1]\n",
    "I_Ti = triangles\n",
    "z_I = xyz[:,-1]\n",
    "z_JK = get_z_JK(hat_x_Ia, I_Ti, x_aJK, z_I)"
   ]
  },
  {
   "cell_type": "code",
   "execution_count": null,
   "metadata": {},
   "outputs": [],
   "source": [
    "fig = plt.figure(figsize=(10,8))\n",
    "ax = fig.add_subplot(1, 1, 1, projection='3d')\n",
    "surf = ax.plot_surface(x_JK, y_JK, z_JK, cmap=plt.cm.coolwarm,\n",
    "                       linewidth=0, antialiased=False)\n",
    "\n",
    "# Customize the z axis.\n",
    "ax.set_zlim(0, 1.01)\n",
    "ax.zaxis.set_major_locator(plt.LinearLocator(10))\n",
    "ax.zaxis.set_major_formatter(plt.FormatStrFormatter('%.02f'))\n",
    "\n",
    "# Add a color bar which maps values to colors.\n",
    "fig.colorbar(surf, shrink=0.5, aspect=5);\n"
   ]
  },
  {
   "cell_type": "code",
   "execution_count": null,
   "metadata": {},
   "outputs": [],
   "source": [
    "H_JK = np.ones_like(z_JK)\n",
    "H_JK[x_JK < min_rho] = 0\n",
    "H_JK[x_JK > max_rho] = 0\n",
    "H_JK[y_JK < min_lam] = 0\n",
    "H_JK[y_JK > max_lam] = 0"
   ]
  },
  {
   "cell_type": "markdown",
   "metadata": {},
   "source": [
    "# Ironing\n",
    "This is just a sketch - something more advanced is needed. Maybe some inspiration is here:\n"
   ]
  },
  {
   "cell_type": "markdown",
   "metadata": {},
   "source": [
    "\\begin{align}\n",
    "\\bar{f}(x) = \\int   \\frac{\\alpha(x - \\xi)}{\\int \\alpha(x - \\xi)\\;\\mathrm{d}\\xi} f(\\xi) \\; \\mathrm{d}\\xi\n",
    "\\end{align}"
   ]
  },
  {
   "cell_type": "markdown",
   "metadata": {},
   "source": [
    "Gigen the coordinate grid $x_{JK}, y_{JK}$ calculate the distances between each two nodes (JK), (MN).\n",
    "as \n",
    "\\begin{align}\n",
    " r_{IJMN} = (x_{IJ}-x_{MN})^2 + ( y_{IJ} - y_{MN} )^2 \n",
    "\\end{align}"
   ]
  },
  {
   "cell_type": "markdown",
   "metadata": {},
   "source": [
    "Scale the x-y plane to a unit square"
   ]
  },
  {
   "cell_type": "markdown",
   "metadata": {},
   "source": [
    "Use the ironing function\n",
    "\\begin{align}\n",
    " \\alpha = \\exp{\\left(-\\frac{r^2}{2R^2}\\right)}\n",
    "\\end{align}\n",
    "in the integral above"
   ]
  },
  {
   "cell_type": "markdown",
   "metadata": {},
   "source": [
    "Note that this procedure provides serves for non-local averaging of field function weighted by the distance from an actual point."
   ]
  },
  {
   "cell_type": "code",
   "execution_count": null,
   "metadata": {},
   "outputs": [],
   "source": [
    "def get_z_MN_ironed(x_JK, y_JK, z_JK, RR):\n",
    "    min_x, max_x = np.min(x_JK), np.max(x_JK)\n",
    "    min_y, max_y = np.min(y_JK), np.max(y_JK)\n",
    "    len_x = max_x - min_x\n",
    "    len_y = max_y - min_y\n",
    "    nx_JK = (x_JK - min_x) / len_x\n",
    "    ny_JK = (y_JK - min_y) / len_y\n",
    "    d_x = len_x / n_J\n",
    "    d_y = len_y / n_K\n",
    "    a_dxdy = d_x * d_y\n",
    "    delta_x_JK = nx_JK[None,None,...] - nx_JK[...,None,None]\n",
    "    delta_y_JK = ny_JK[None,None,...] - ny_JK[...,None,None]\n",
    "    r2_n = (delta_x_JK**2 + delta_y_JK**2) / (2*RR**2) # (2*R**2)\n",
    "    alpha_r_MNJK = np.exp(-r2_n)\n",
    "    print(alpha_r_MNJK.shape, nx_JK.shape)\n",
    "    a_MN = np.trapz(np.trapz(alpha_r_MNJK, nx_JK[:,0], axis=-1), ny_JK[0,:], axis=-1)\n",
    "    normed_a_MNJK = np.einsum('MNJK,MN->MNJK', alpha_r_MNJK, 1 / a_MN)\n",
    "    z_MNJK = np.einsum('...JK,JK->...JK',normed_a_MNJK, z_JK)\n",
    "    z_MN = np.trapz(np.trapz(z_MNJK, nx_JK[:,0], axis=-1), ny_JK[0,:], axis=-1)\n",
    "    return z_MN"
   ]
  },
  {
   "cell_type": "code",
   "execution_count": null,
   "metadata": {},
   "outputs": [],
   "source": [
    "fig = plt.figure(figsize=(8,5))\n",
    "ax = fig.add_subplot(1, 1, 1, projection='3d')\n",
    "\n",
    "def plot(ax, x_JK, y_JK, z_MN):\n",
    "    surf = ax.plot_surface(x_JK, \n",
    "                           y_JK, \n",
    "                           z_MN,cmap=plt.cm.coolwarm,\n",
    "                           linewidth=0)\n",
    "    return surf\n",
    "\n",
    "# Add a color bar which maps values to colors.\n",
    "xs, ys, zs = xyz.T\n",
    "\n",
    "azim=30\n",
    "elev=45\n",
    "\n",
    "def update_azim(elev, azim):\n",
    "    ax.view_init(elev=elev, azim=azim)\n",
    "    fig.show()\n",
    "\n",
    "def update(R):\n",
    "    print('R-refreshing for', R)\n",
    "    ax.clear()\n",
    "    ax.set_zlim(0, 1.0)\n",
    "    ax.set_xlabel(r'$\\rho$')\n",
    "    ax.set_ylabel(r'$\\lambda$')\n",
    "    ax.set_zlabel(r'$M\\mathrm{uV} / M\\mathrm{Rd}$')\n",
    "    ax.zaxis.set_major_locator(plt.LinearLocator(10))\n",
    "    ax.zaxis.set_major_formatter(plt.FormatStrFormatter('%.02f'))\n",
    "    z_MN = get_z_MN_ironed(x_JK, y_JK, z_JK, R)\n",
    "    ax.scatter( xs, ys, zs=zs, zdir='z', marker='o', depthshade=True)\n",
    "    print('plotting')\n",
    "    surf = plot(ax, x_JK, y_JK, z_MN) \n",
    "    ax.view_init(elev=elev, azim=azim)\n",
    "    \n",
    "R_max = 0.3\n",
    "# sliders\n",
    "R_slider = ipw.FloatSlider(description=r'iron radius', value=0.06, min=0.001,max=0.3,step=R_max/40,\n",
    "                                 continuous_update=False)\n",
    "azim_slider = ipw.FloatSlider(description=r'azimuth', value=30, min=-90,max=90,step=1,              \n",
    "                               continuous_update=True)\n",
    "elev_slider = ipw.FloatSlider(description=r'elevation', value=30, min=-90,max=90,step=1,              \n",
    "                               continuous_update=True)\n",
    "\n",
    "# couple sliders with methods to call upon sliding\n",
    "i1 = ipw.interactive_output(\n",
    "    update, {'R': R_slider})\n",
    "i2 = ipw.interactive_output(\n",
    "    update_azim, {'azim': azim_slider,'elev': elev_slider});\n",
    "\n",
    "# layout\n",
    "hbox = ipw.HBox([R_slider, azim_slider, elev_slider])\n",
    "display(hbox, i1, i2)"
   ]
  },
  {
   "cell_type": "code",
   "execution_count": null,
   "metadata": {},
   "outputs": [],
   "source": []
  },
  {
   "cell_type": "code",
   "execution_count": null,
   "metadata": {},
   "outputs": [],
   "source": []
  }
 ],
 "metadata": {
  "kernelspec": {
   "display_name": "bmcs_env",
   "language": "python",
   "name": "bmcs_env"
  },
  "language_info": {
   "codemirror_mode": {
    "name": "ipython",
    "version": 3
   },
   "file_extension": ".py",
   "mimetype": "text/x-python",
   "name": "python",
   "nbconvert_exporter": "python",
   "pygments_lexer": "ipython3"
  },
  "toc": {
   "base_numbering": 1,
   "nav_menu": {},
   "number_sections": true,
   "sideBar": true,
   "skip_h1_title": false,
   "title_cell": "Table of Contents",
   "title_sidebar": "Contents",
   "toc_cell": false,
   "toc_position": {},
   "toc_section_display": true,
   "toc_window_display": false
  }
 },
 "nbformat": 4,
 "nbformat_minor": 4
}
