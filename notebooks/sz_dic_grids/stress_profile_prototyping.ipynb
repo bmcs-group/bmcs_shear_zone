{
 "cells": [
  {
   "cell_type": "markdown",
   "id": "26dd03d8-8397-429d-9e14-87738df9b92c",
   "metadata": {},
   "source": [
    "# Derivation, prototyping and verification of stress resultant calculation"
   ]
  },
  {
   "cell_type": "code",
   "execution_count": null,
   "id": "f24e5686-6e11-4965-97ff-8cc2b060eedd",
   "metadata": {},
   "outputs": [],
   "source": [
    "%matplotlib widget\n",
    "import matplotlib.pylab as plt\n",
    "from matplotlib import cm\n",
    "from bmcs_shear.api import CrackBridgeAdv\n",
    "from bmcs_shear.dic_crack import\\\n",
    "    DICGrid, DICStateFields, DICCrackList, DICCrack, DICCrackCOR\n",
    "from bmcs_shear.dic_crack.dic_test_crack import DICTestCrack\n",
    "from bmcs_shear.dic_crack.dic_stress_profile import DICStressProfile\n",
    "import numpy as np\n",
    "np.seterr(divide='ignore', invalid='ignore');"
   ]
  },
  {
   "cell_type": "code",
   "execution_count": null,
   "id": "7879920f-9b61-4f2a-a732-10a3a2ad0aec",
   "metadata": {},
   "outputs": [],
   "source": [
    "dtc = DICTestCrack()"
   ]
  },
  {
   "cell_type": "code",
   "execution_count": null,
   "id": "a35c634f-962f-48cb-b0dc-6b974d54ed46",
   "metadata": {},
   "outputs": [],
   "source": [
    "dtc.sp"
   ]
  },
  {
   "cell_type": "code",
   "execution_count": null,
   "id": "26a40a1d-fd70-4c3a-9461-9fb2a2097956",
   "metadata": {},
   "outputs": [],
   "source": [
    "dtc.interact()"
   ]
  },
  {
   "cell_type": "markdown",
   "id": "672e2479-7e00-4dd2-8c71-149f53247223",
   "metadata": {},
   "source": [
    "## Verification of the stress profile values"
   ]
  },
  {
   "cell_type": "markdown",
   "id": "6bbbbf03-6979-4cda-9501-26fce0471f5e",
   "metadata": {},
   "source": [
    "Access the material properties, assume elastic state and evaluate the stress at individual nodes of a ligament."
   ]
  },
  {
   "cell_type": "code",
   "execution_count": null,
   "id": "5ba185c4-4801-4b20-97a4-0baa21826721",
   "metadata": {},
   "outputs": [],
   "source": [
    "dsp.u_La"
   ]
  },
  {
   "cell_type": "code",
   "execution_count": null,
   "id": "37f4d222-6bb9-4412-81b1-d8d4929a78c5",
   "metadata": {},
   "outputs": [],
   "source": [
    "dsp.bd.matrix_.E_c * dsp.u_La"
   ]
  },
  {
   "cell_type": "code",
   "execution_count": null,
   "id": "b0c25c62-0ccc-4741-b7f9-0e133614cf4e",
   "metadata": {},
   "outputs": [],
   "source": [
    "dsp.bd.matrix_.get_sig_a(np.array([0.1, 0.2]))"
   ]
  },
  {
   "cell_type": "markdown",
   "id": "99e45969-7534-458b-bac2-f3318346c078",
   "metadata": {},
   "source": [
    "# Center of gravity\n",
    "\n",
    "$$\n",
    " \\bar{y} \\int_0^{y_\\max} \\sigma(y) \\; \\mathrm{d}y = \n",
    " \\int_0^{y_\\max} \\sigma(y) y \\; \\mathrm{d}y \n",
    "$$"
   ]
  },
  {
   "cell_type": "markdown",
   "id": "60561f22-5b0f-4997-b466-cd05bc159edf",
   "metadata": {},
   "source": [
    "$$\n",
    " \\sigma_i(y) = \\sigma_i + \\frac{\\Delta \\sigma_i}{\\Delta y_i} (y - y_i)\n",
    "$$"
   ]
  },
  {
   "cell_type": "markdown",
   "id": "b46c6303-338a-4c85-a7f3-d55011dc532d",
   "metadata": {},
   "source": [
    "where\n",
    "$$\n",
    "\\; \\Delta \\sigma_i = \\sigma_{i+1} - \\sigma_i, \\; \\Delta y_i = y_{i+1} - y_i\n",
    "$$"
   ]
  },
  {
   "cell_type": "markdown",
   "id": "ead36133-4cdf-450a-ad10-3055ccf22d41",
   "metadata": {},
   "source": [
    "$$\n",
    " n_i = \\int_{y_i}^{y_{i+1}} \\sigma_i(y) \\; \\mathrm{d}y\n",
    "$$"
   ]
  },
  {
   "cell_type": "markdown",
   "id": "69094266-b512-45f9-9cbf-9f1c66d52eec",
   "metadata": {},
   "source": [
    "$$\n",
    " m_i = \\int_{y_i}^{y_{i+1}} \\sigma_i(y) y \\; \\mathrm{d}y\n",
    "$$"
   ]
  },
  {
   "cell_type": "markdown",
   "id": "5c502cfe-3fb6-4346-8910-4b65dbeb4f34",
   "metadata": {},
   "source": [
    "$$\n",
    " \\bar{y}_i = \\frac{m_i}{n_i}\n",
    "$$"
   ]
  },
  {
   "cell_type": "markdown",
   "id": "33cb3f6e-4dad-41f0-8400-e9254c569010",
   "metadata": {},
   "source": [
    "$$\n",
    " \\bar{y} = \\frac{ \\sum_i m_i}{ \\sum_i n_i } \n",
    "$$"
   ]
  },
  {
   "cell_type": "code",
   "execution_count": null,
   "id": "642a9236-25a3-4776-982c-8c7a0bf52598",
   "metadata": {},
   "outputs": [],
   "source": [
    "import sympy as sp\n",
    "sp.init_printing()"
   ]
  },
  {
   "cell_type": "code",
   "execution_count": null,
   "id": "a4510ca6-7796-4207-958f-aac8b7fe58e1",
   "metadata": {},
   "outputs": [],
   "source": [
    "y, S1, S2, y1, y2 = sp.symbols('y, S1, S2, y1, y2')\n",
    "Y = sp.integrate(S1 + (S2-S1)/(y2-y1)*(y-y1)*y, (y, y1, y2)) / sp.integrate(S1 + (S2-S1)/(y2-y1)*(y-y1),(y, y1, y2))\n",
    "sp.simplify(Y)"
   ]
  },
  {
   "cell_type": "code",
   "execution_count": null,
   "id": "7fc619b8-3a88-4515-baf4-65a0d9ed2ecf",
   "metadata": {},
   "outputs": [],
   "source": [
    "y, S1, S2, y1, y2 = sp.symbols('y, S1, S2, y1, y2')\n",
    "S = sp.integrate(S1 + (S2 - S1) / (y2 - y1) * (y - y1), (y, y1, y2))\n",
    "SY = sp.integrate((S1 + (S2 - S1) / (y2 - y1) * (y - y1)) * y, (y, y1, y2))\n",
    "Y = SY / S\n",
    "get_Y = sp.lambdify((S1, S2, y1, y2), Y)\n",
    "get_S = sp.lambdify((S1, S2, y1, y2), S)"
   ]
  },
  {
   "cell_type": "code",
   "execution_count": null,
   "id": "40f2b022-d1c5-47a9-8163-427c21eb479f",
   "metadata": {},
   "outputs": [],
   "source": [
    "n_y = 2\n",
    "S = np.linspace(0, 3, n_y)\n",
    "y = np.linspace(0, 3, n_y)"
   ]
  },
  {
   "cell_type": "code",
   "execution_count": null,
   "id": "b7976cd3-c950-4430-a5d3-fee17d18808f",
   "metadata": {},
   "outputs": [],
   "source": [
    "S, y"
   ]
  },
  {
   "cell_type": "code",
   "execution_count": null,
   "id": "d741cf55-4378-4838-88dd-bf335865b2db",
   "metadata": {},
   "outputs": [],
   "source": [
    "y_L = get_Y(S[:-1], S[1:], y[:-1], y[1:])\n",
    "S_L = get_S(S[:-1], S[1:], y[:-1], y[1:])\n",
    "S_L, y_L"
   ]
  },
  {
   "cell_type": "code",
   "execution_count": null,
   "id": "c378eed5-8d25-4f13-beb7-5bbbb95b2975",
   "metadata": {},
   "outputs": [],
   "source": [
    "sum_n = np.sum(S_L)\n",
    "sum_m = np.sum(S_L * y_L)\n",
    "bar_y = sum_m / sum_n\n",
    "bar_y"
   ]
  },
  {
   "cell_type": "code",
   "execution_count": null,
   "id": "4cf1f02f-2696-4c81-8ebe-4acdb62b90bb",
   "metadata": {},
   "outputs": [],
   "source": []
  },
  {
   "cell_type": "code",
   "execution_count": null,
   "id": "1de77579-7e1c-4d23-a05e-80f8a1c9e8d8",
   "metadata": {},
   "outputs": [],
   "source": []
  }
 ],
 "metadata": {
  "kernelspec": {
   "display_name": "bmcs_env",
   "language": "python",
   "name": "bmcs_env"
  },
  "language_info": {
   "codemirror_mode": {
    "name": "ipython",
    "version": 3
   },
   "file_extension": ".py",
   "mimetype": "text/x-python",
   "name": "python",
   "nbconvert_exporter": "python",
   "pygments_lexer": "ipython3"
  }
 },
 "nbformat": 4,
 "nbformat_minor": 5
}
