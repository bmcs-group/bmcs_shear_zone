{
 "cells": [
  {
   "cell_type": "code",
   "execution_count": 1,
   "id": "7f03eef1-2ae3-4ba2-8740-e22aebd48b28",
   "metadata": {},
   "outputs": [],
   "source": [
    "%matplotlib widget\n",
    "import ibvpy.api as ib\n",
    "import matplotlib.pylab as plt\n",
    "from matplotlib import cm\n",
    "from scipy.interpolate import interp2d\n",
    "from scipy.signal import argrelextrema\n",
    "from bmcs_shear.api import CrackBridgeAdv\n",
    "from bmcs_shear.dic_crack import \\\n",
    "    DICGrid, DICStateFields\n",
    "import numpy as np\n",
    "np.seterr(divide='ignore', invalid='ignore');"
   ]
  },
  {
   "cell_type": "code",
   "execution_count": 2,
   "id": "ee34bf85-6d51-4ca2-a05f-0bcb70a7725b",
   "metadata": {},
   "outputs": [],
   "source": [
    "dic_grid = DICGrid(start_t=0, end_t=1, U_factor=100, dir_name='B1_TV1')"
   ]
  },
  {
   "cell_type": "code",
   "execution_count": 3,
   "id": "dfd4b486-1444-47bd-a24e-d8d8d9326729",
   "metadata": {},
   "outputs": [],
   "source": [
    "dsf = DICStateFields(dic_grid=dic_grid, t=0.5)\n",
    "dsf.tmodel_.trait_set(E=5000, c_T=0, nu=0.18, epsilon_0=0.0005, epsilon_f=0.01);\n",
    "dsf.eval()"
   ]
  },
  {
   "cell_type": "markdown",
   "id": "ea7bc639-4264-4e8c-8633-099954b93932",
   "metadata": {},
   "source": [
    "# Identify the time index corresponding to 75 % of the ultimate load"
   ]
  },
  {
   "cell_type": "markdown",
   "id": "588d5dd7-4ca1-424d-8cf5-0040aaaaad70",
   "metadata": {},
   "source": [
    "**Remark:** do it in dic_grid"
   ]
  },
  {
   "cell_type": "markdown",
   "id": "f172d73d-30b5-45f0-8fac-697f62ccd46c",
   "metadata": {},
   "source": [
    "# Identify the cracks that cross the mid height of the section"
   ]
  },
  {
   "cell_type": "code",
   "execution_count": 4,
   "id": "99094277-41f1-46af-bcc9-80b70fd09dbb",
   "metadata": {},
   "outputs": [],
   "source": [
    "x_NC, y_NC, N_tip_C, arg_x_NC = dsf.cracks"
   ]
  },
  {
   "cell_type": "code",
   "execution_count": 5,
   "id": "6596d37b-970f-44c3-a3b0-055009748be7",
   "metadata": {},
   "outputs": [],
   "source": [
    "n_M = dic_grid.n_x"
   ]
  },
  {
   "cell_type": "code",
   "execution_count": 7,
   "id": "dfce1882-c26e-4c1b-8158-503852c91416",
   "metadata": {},
   "outputs": [
    {
     "data": {
      "text/plain": [
       "array([19, 18, 17, 19, 19, 17, 13,  0])"
      ]
     },
     "execution_count": 7,
     "metadata": {},
     "output_type": "execute_result"
    }
   ],
   "source": [
    "N_tip_C"
   ]
  },
  {
   "cell_type": "code",
   "execution_count": 8,
   "id": "0999be94-72e8-440e-ad30-ce22fe110b8b",
   "metadata": {},
   "outputs": [],
   "source": [
    "n_N, n_C = arg_x_NC.shape"
   ]
  },
  {
   "cell_type": "code",
   "execution_count": 9,
   "id": "73e6fc8c-c88e-4b06-9e21-bdc1ce8a5e11",
   "metadata": {},
   "outputs": [],
   "source": [
    "mid_N = int(n_N / 3)"
   ]
  },
  {
   "cell_type": "code",
   "execution_count": 10,
   "id": "3d38ddb1-c779-42a2-8811-fe541b5b4a2e",
   "metadata": {},
   "outputs": [
    {
     "data": {
      "text/plain": [
       "array([0, 1, 2, 3, 4, 5, 6])"
      ]
     },
     "execution_count": 10,
     "metadata": {},
     "output_type": "execute_result"
    }
   ],
   "source": [
    "primary_cracks = np.where(N_tip_C >= mid_N)[0]\n",
    "primary_cracks"
   ]
  },
  {
   "cell_type": "markdown",
   "id": "4fa3c8dd-b2d9-4faf-9dae-2e0b98448053",
   "metadata": {},
   "source": [
    "To extract the opening and sliding displacements along the crack path, let us\n",
    "construct an interploator which takes the input displacements $x_{IJ}$.\n",
    "Given the line of the crack x(s), y(s) find a normal to the crack from the point $x_{IJ}$"
   ]
  },
  {
   "cell_type": "code",
   "execution_count": 30,
   "id": "e7e0a61d-1517-479a-8397-a1ad6dc9e4c3",
   "metadata": {},
   "outputs": [],
   "source": [
    "def get_f_ironed(x, y, r=10):\n",
    "    '''Averaging of a function using a bell-shaped ironing function\n",
    "    '''\n",
    "    RR = r\n",
    "    n = len(x)\n",
    "    delta_x = x[None, ...] - x[..., None]\n",
    "    r2_n = (delta_x ** 2) / (2 * RR ** 2)\n",
    "    alpha_r_MJ = np.exp(-r2_n)\n",
    "    a_M = np.trapz(alpha_r_MJ, x, axis=-1)\n",
    "    normed_a_MJ = np.einsum('MJ,M->MJ', alpha_r_MJ, 1 / a_M)\n",
    "    y_MJ = np.einsum('MJ,J->MJ', normed_a_MJ, y)\n",
    "    y_smooth = np.trapz(y_MJ, x, axis=-1)\n",
    "    return y_smooth"
   ]
  },
  {
   "cell_type": "code",
   "execution_count": 12,
   "id": "1a69b1fe-84ca-4ab4-be90-bf18e12969ca",
   "metadata": {},
   "outputs": [],
   "source": [
    "from scipy.interpolate import CubicSpline, UnivariateSpline"
   ]
  },
  {
   "cell_type": "code",
   "execution_count": 13,
   "id": "f5979fb8-4f80-401a-bade-c6e46c835d21",
   "metadata": {},
   "outputs": [],
   "source": [
    "C = 4\n",
    "R = 20\n",
    "x_C, y_C = x_NC[:, C], y_NC[:, C]\n",
    "x_C_irn = get_f_ironed(y_C, x_C, R)"
   ]
  },
  {
   "cell_type": "code",
   "execution_count": 14,
   "id": "7d57cf34-08bd-4a81-b3b7-006fc252f4dc",
   "metadata": {},
   "outputs": [],
   "source": [
    "cs = CubicSpline(y_C[:N_tip_C[C]+3], x_C_irn[:N_tip_C[C]+3], bc_type='clamped')"
   ]
  },
  {
   "cell_type": "code",
   "execution_count": 15,
   "id": "79fa09fd-c461-4adb-b23a-27ca7bd6c32a",
   "metadata": {},
   "outputs": [
    {
     "data": {
      "application/vnd.jupyter.widget-view+json": {
       "model_id": "34d45b97db214407956d8d67a54de63e",
       "version_major": 2,
       "version_minor": 0
      },
      "text/plain": [
       "Canvas(toolbar=Toolbar(toolitems=[('Home', 'Reset original view', 'home', 'home'), ('Back', 'Back to previous …"
      ]
     },
     "metadata": {},
     "output_type": "display_data"
    }
   ],
   "source": [
    "fig, ax = plt.subplots(1,1)\n",
    "#ax.plot(x_C_irn[:tip_NC[C]], y_C[:tip_NC[1]], color='orange')\n",
    "ax.plot(x_C, y_C, 'o')\n",
    "y_range = np.linspace(y_C[0], y_C[N_tip_C[C]+2], 20)\n",
    "ax.plot(cs(y_range), y_range, color='green');\n",
    "ax.axis('equal');"
   ]
  },
  {
   "cell_type": "code",
   "execution_count": 16,
   "id": "53de2629-aa5c-4b93-adfc-c234d00e69bb",
   "metadata": {},
   "outputs": [
    {
     "data": {
      "text/plain": [
       "array([[ 2.23104361e-01,  4.87742458e-01],\n",
       "       [ 2.14781342e-01,  4.68651023e-01],\n",
       "       [ 2.03563809e-01,  4.63273397e-01],\n",
       "       [ 1.90493296e-01,  4.69461799e-01],\n",
       "       [ 1.82462337e-01,  4.67287407e-01],\n",
       "       [ 1.76399521e-01,  4.63358885e-01],\n",
       "       [ 1.61187015e-01,  4.56115421e-01],\n",
       "       [ 1.44598783e-01,  4.51192745e-01],\n",
       "       [ 1.34447412e-01,  4.55495451e-01],\n",
       "       [ 1.18839999e-01,  4.57774245e-01],\n",
       "       [ 1.03639556e-01,  4.61349269e-01],\n",
       "       [ 8.83807032e-02,  4.52894975e-01],\n",
       "       [ 7.07824266e-02,  4.37567971e-01],\n",
       "       [ 5.15279397e-02,  4.40851623e-01],\n",
       "       [ 2.79464212e-02,  4.50042910e-01],\n",
       "       [ 2.43120522e-02,  4.33451013e-01],\n",
       "       [ 2.83191199e-02,  4.18053585e-01],\n",
       "       [ 2.28072556e-02,  4.04652535e-01],\n",
       "       [ 1.38142772e-02,  4.03289682e-01],\n",
       "       [-4.23829430e-04,  4.07010835e-01]])"
      ]
     },
     "execution_count": 16,
     "metadata": {},
     "output_type": "execute_result"
    }
   ],
   "source": [
    "d_x = 30\n",
    "X_right = np.array([cs(y_range) + d_x, y_range], dtype=np.float_).T\n",
    "X_left = np.array([cs(y_range) - d_x, y_range], dtype=np.float_).T\n",
    "U_C = dsf.interp_U(X_right) - dsf.interp_U(X_left)\n",
    "U_C"
   ]
  },
  {
   "cell_type": "markdown",
   "id": "8209dc2a-9acf-410a-933a-0cfd5152db7b",
   "metadata": {},
   "source": [
    "# Identify the index ranges corresponding to the cracks"
   ]
  },
  {
   "cell_type": "code",
   "execution_count": 17,
   "id": "abf73fd1-1baf-409e-b88b-6bdc0776ccf7",
   "metadata": {},
   "outputs": [],
   "source": [
    "xx_MN, yy_MN, cd_field_irn_MN = dsf.crack_detection_field"
   ]
  },
  {
   "cell_type": "code",
   "execution_count": 18,
   "id": "89e1f8a2-4a20-436b-b6e1-573a88387093",
   "metadata": {},
   "outputs": [],
   "source": [
    "nn_M, nn_N = xx_MN.shape"
   ]
  },
  {
   "cell_type": "code",
   "execution_count": 19,
   "id": "47b2e5ee-2027-42a9-ab00-9be01598417d",
   "metadata": {},
   "outputs": [],
   "source": [
    "arg_x_NP = arg_x_NC[:,primary_cracks]"
   ]
  },
  {
   "cell_type": "code",
   "execution_count": 20,
   "id": "2fc70baa-4e6e-4aea-ad79-dd8bf7d47106",
   "metadata": {},
   "outputs": [
    {
     "data": {
      "text/plain": [
       "array([[  0,   9,  17,  29,  43,  62,  76,  94, 116],\n",
       "       [  0,  10,  17,  29,  43,  61,  76,  94, 116],\n",
       "       [  0,  10,  17,  29,  43,  61,  76,  94, 116],\n",
       "       [  0,  10,  17,  29,  43,  61,  76,  94, 116],\n",
       "       [  0,  10,  17,  29,  43,  60,  77,  94, 116],\n",
       "       [  0,  10,  16,  29,  43,  60,  77,  94, 116],\n",
       "       [  0,  11,  16,  29,  43,  60,  77,  94, 116],\n",
       "       [  0,  10,  16,  29,  42,  60,  76,  95, 116],\n",
       "       [  0,  10,  15,  29,  42,  61,  76,  94, 116]])"
      ]
     },
     "execution_count": 20,
     "metadata": {},
     "output_type": "execute_result"
    }
   ],
   "source": [
    "first_x_NP = np.zeros((mid_N,1), dtype=np.int_)\n",
    "last_x_NP = np.zeros((mid_N,1), dtype=np.int_) + nn_M\n",
    "arg_mid_NP = np.hstack([ \n",
    "    first_x_NP, arg_x_NP[:mid_N,:], last_x_NP\n",
    "])\n",
    "arg_mid_NP"
   ]
  },
  {
   "cell_type": "code",
   "execution_count": 21,
   "id": "0a79d586-4cab-435a-8ef6-9631b9f60e3e",
   "metadata": {},
   "outputs": [],
   "source": [
    "# BNT - boundary, row, tooth\n",
    "teeths_BNT = np.array([\n",
    "    arg_mid_NP[:, :-1],\n",
    "    arg_mid_NP[:, 1:]\n",
    "]\n",
    ")\n",
    "teeths_TNB = np.einsum('BNT->TNB', teeths_BNT)"
   ]
  },
  {
   "cell_type": "code",
   "execution_count": 22,
   "id": "879b74e9-7115-41c1-91e2-9570c315a3e9",
   "metadata": {},
   "outputs": [
    {
     "data": {
      "text/plain": [
       "array([3, 3, 3, 3, 3, 3, 3, 3, 3])"
      ]
     },
     "execution_count": 22,
     "metadata": {},
     "output_type": "execute_result"
    }
   ],
   "source": [
    "teeths_TNB[0, :, 0] + 3"
   ]
  },
  {
   "cell_type": "code",
   "execution_count": 23,
   "id": "77600ed6-bae8-49f4-9de0-9944e5fbae60",
   "metadata": {},
   "outputs": [],
   "source": [
    "teeth_list_aP = []\n",
    "for tooth_NB in teeths_TNB[1:]:\n",
    "    tooth_aP = [\n",
    "        np.array([np.arange(*tooth_B),\n",
    "                  np.ones(tooth_B[1]-tooth_B[0])*row],\n",
    "                 dtype=np.int_)\n",
    "        for row, tooth_B in enumerate(tooth_NB)\n",
    "    ]\n",
    "    teeth_list_aP.append(np.hstack(tooth_aP))"
   ]
  },
  {
   "cell_type": "code",
   "execution_count": 24,
   "id": "4cb5d925-a97f-4679-b35f-82e5977e9092",
   "metadata": {},
   "outputs": [
    {
     "data": {
      "text/plain": [
       "array([[ 94,  95,  96,  97,  98,  99, 100, 101, 102, 103, 104, 105, 106,\n",
       "        107, 108, 109, 110, 111, 112, 113, 114, 115,  94,  95,  96,  97,\n",
       "         98,  99, 100, 101, 102, 103, 104, 105, 106, 107, 108, 109, 110,\n",
       "        111, 112, 113, 114, 115,  94,  95,  96,  97,  98,  99, 100, 101,\n",
       "        102, 103, 104, 105, 106, 107, 108, 109, 110, 111, 112, 113, 114,\n",
       "        115,  94,  95,  96,  97,  98,  99, 100, 101, 102, 103, 104, 105,\n",
       "        106, 107, 108, 109, 110, 111, 112, 113, 114, 115,  94,  95,  96,\n",
       "         97,  98,  99, 100, 101, 102, 103, 104, 105, 106, 107, 108, 109,\n",
       "        110, 111, 112, 113, 114, 115,  94,  95,  96,  97,  98,  99, 100,\n",
       "        101, 102, 103, 104, 105, 106, 107, 108, 109, 110, 111, 112, 113,\n",
       "        114, 115,  94,  95,  96,  97,  98,  99, 100, 101, 102, 103, 104,\n",
       "        105, 106, 107, 108, 109, 110, 111, 112, 113, 114, 115,  95,  96,\n",
       "         97,  98,  99, 100, 101, 102, 103, 104, 105, 106, 107, 108, 109,\n",
       "        110, 111, 112, 113, 114, 115,  94,  95,  96,  97,  98,  99, 100,\n",
       "        101, 102, 103, 104, 105, 106, 107, 108, 109, 110, 111, 112, 113,\n",
       "        114, 115],\n",
       "       [  0,   0,   0,   0,   0,   0,   0,   0,   0,   0,   0,   0,   0,\n",
       "          0,   0,   0,   0,   0,   0,   0,   0,   0,   1,   1,   1,   1,\n",
       "          1,   1,   1,   1,   1,   1,   1,   1,   1,   1,   1,   1,   1,\n",
       "          1,   1,   1,   1,   1,   2,   2,   2,   2,   2,   2,   2,   2,\n",
       "          2,   2,   2,   2,   2,   2,   2,   2,   2,   2,   2,   2,   2,\n",
       "          2,   3,   3,   3,   3,   3,   3,   3,   3,   3,   3,   3,   3,\n",
       "          3,   3,   3,   3,   3,   3,   3,   3,   3,   3,   4,   4,   4,\n",
       "          4,   4,   4,   4,   4,   4,   4,   4,   4,   4,   4,   4,   4,\n",
       "          4,   4,   4,   4,   4,   4,   5,   5,   5,   5,   5,   5,   5,\n",
       "          5,   5,   5,   5,   5,   5,   5,   5,   5,   5,   5,   5,   5,\n",
       "          5,   5,   6,   6,   6,   6,   6,   6,   6,   6,   6,   6,   6,\n",
       "          6,   6,   6,   6,   6,   6,   6,   6,   6,   6,   6,   7,   7,\n",
       "          7,   7,   7,   7,   7,   7,   7,   7,   7,   7,   7,   7,   7,\n",
       "          7,   7,   7,   7,   7,   7,   8,   8,   8,   8,   8,   8,   8,\n",
       "          8,   8,   8,   8,   8,   8,   8,   8,   8,   8,   8,   8,   8,\n",
       "          8,   8]])"
      ]
     },
     "execution_count": 24,
     "metadata": {},
     "output_type": "execute_result"
    }
   ],
   "source": [
    "teeth_list_aP[-1]"
   ]
  },
  {
   "cell_type": "code",
   "execution_count": 25,
   "id": "b7b43b8d-46c6-4cb6-b04d-e8118c2af8a5",
   "metadata": {},
   "outputs": [
    {
     "data": {
      "text/plain": [
       "array([324.07827288, 434.22624731, 390.16705754, 346.10786777,\n",
       "       456.25584219, 412.19665242, 368.13746265, 324.07827288,\n",
       "       434.22624731, 390.16705754, 346.10786777, 456.25584219,\n",
       "       423.21144987])"
      ]
     },
     "execution_count": 25,
     "metadata": {},
     "output_type": "execute_result"
    }
   ],
   "source": [
    "xx_MN[teeth_list_aP[2][0], teeth_list_aP[2][1]][::10]"
   ]
  },
  {
   "cell_type": "code",
   "execution_count": 26,
   "id": "72f147fe-e3c1-4582-af69-64beffe49778",
   "metadata": {},
   "outputs": [
    {
     "data": {
      "text/plain": [
       "(28, 7)"
      ]
     },
     "execution_count": 26,
     "metadata": {},
     "output_type": "execute_result"
    }
   ],
   "source": [
    "arg_x_NP.shape"
   ]
  },
  {
   "cell_type": "markdown",
   "id": "a2a6e92e-fe00-407b-bc19-2fe174ff6039",
   "metadata": {},
   "source": [
    "# Get the indexes along the crack ligament"
   ]
  },
  {
   "cell_type": "code",
   "execution_count": 27,
   "id": "e3fec792-429b-4a01-a6a9-4f386ae6f6a0",
   "metadata": {},
   "outputs": [],
   "source": [
    "arg_x_NP_left = arg_x_NP[:, :, np.newaxis] + np.arange(-2, 0)[np.newaxis, np.newaxis, :];\n",
    "arg_x_NP_right = arg_x_NP[:, :, np.newaxis] + np.arange(1, 3)[np.newaxis, np.newaxis, :]"
   ]
  },
  {
   "cell_type": "code",
   "execution_count": 28,
   "id": "12d5537e-e7d7-4a7e-b366-50cbe97110bc",
   "metadata": {},
   "outputs": [
    {
     "data": {
      "text/plain": [
       "(array([7, 8]), array([10, 11]))"
      ]
     },
     "execution_count": 28,
     "metadata": {},
     "output_type": "execute_result"
    }
   ],
   "source": [
    "arg_x_NP_left[0,0,:], arg_x_NP_right[0,0,:]"
   ]
  },
  {
   "cell_type": "code",
   "execution_count": 29,
   "id": "f9df8949-6b1e-4118-858f-92c0ace553b7",
   "metadata": {},
   "outputs": [
    {
     "data": {
      "text/plain": [
       "9"
      ]
     },
     "execution_count": 29,
     "metadata": {},
     "output_type": "execute_result"
    }
   ],
   "source": [
    "arg_x_NP[0,0]"
   ]
  },
  {
   "cell_type": "markdown",
   "id": "3f75579e-1dfc-41f8-bfb8-522ed4a0d062",
   "metadata": {},
   "source": [
    "The indexes are obtained on a resolution xx - i.e. the grid used for interpolation of \n",
    "the crack detection field."
   ]
  },
  {
   "cell_type": "markdown",
   "id": "e57feda3-713d-4824-8b1e-5be72a43b906",
   "metadata": {},
   "source": [
    "- the evaluation of sliding and opening makes only sense in the localized range\n",
    "- construct an `xx` interpolation of the displacement field over the whole domain.\n",
    "- construct the crack path and smooth it\n",
    "- construct the ortho-normal bases along the crack path (available in crack-path object)\n",
    "- discretize along the normal direction within a predefined range\n",
    "- pick up the global displacements $U_{na}$ along the normal vectors\n",
    "- use the ortho-normal bases to transform the displacements into the local coordinate system\n",
    "- center the displacement vector relative to the displacement at the crack position\n",
    "- find the maximum difference in tangential and normal directions "
   ]
  },
  {
   "cell_type": "markdown",
   "id": "85761389-cb18-41b9-b3c5-f5270f0d1606",
   "metadata": {},
   "source": [
    "# How to define the fixed and rotating frames"
   ]
  },
  {
   "cell_type": "markdown",
   "id": "e882edea-4b83-4877-8bc9-cef8480adeea",
   "metadata": {},
   "source": [
    "Is the current implementation applicable also for the aligned grid analysis?\n",
    "Actually, it should and it should."
   ]
  },
  {
   "cell_type": "code",
   "execution_count": null,
   "id": "34f9ed9d-fe88-4b8d-a95e-ab217933dfdd",
   "metadata": {},
   "outputs": [],
   "source": []
  }
 ],
 "metadata": {
  "kernelspec": {
   "display_name": "bmcs_env",
   "language": "python",
   "name": "bmcs_env"
  },
  "language_info": {
   "codemirror_mode": {
    "name": "ipython",
    "version": 3
   },
   "file_extension": ".py",
   "mimetype": "text/x-python",
   "name": "python",
   "nbconvert_exporter": "python",
   "pygments_lexer": "ipython3",
   "version": "3.8.8"
  }
 },
 "nbformat": 4,
 "nbformat_minor": 5
}
