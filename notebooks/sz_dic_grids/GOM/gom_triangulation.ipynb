{
 "cells": [
  {
   "cell_type": "markdown",
   "metadata": {},
   "source": [
    "# Convert GOM data to CDT-grid"
   ]
  },
  {
   "cell_type": "code",
   "execution_count": null,
   "metadata": {},
   "outputs": [],
   "source": [
    "%matplotlib widget\n",
    "import numpy as np\n",
    "import matplotlib.pyplot as plt\n",
    "from mpl_toolkits.mplot3d import Axes3D\n",
    "import matplotlib.tri as mtri\n",
    "from scipy.spatial import Delaunay\n",
    "import scipy.interpolate\n",
    "import collections\n",
    "collections.Iterable = collections.abc.Iterable\n",
    "collections.Mapping = collections.abc.Mapping\n",
    "import ipywidgets as ipw\n",
    "#import ipyvolume as ipv\n",
    "import os"
   ]
  },
  {
   "cell_type": "markdown",
   "metadata": {},
   "source": [
    "I keep the data separate from the code - the `schubtaltex.csv` file is kept in my home\n",
    "directory \n",
    "\n",
    "`~/simdb/data/`\n",
    "\n",
    "Adapt the path to the relevant location using `os.path.join`"
   ]
  },
  {
   "cell_type": "code",
   "execution_count": null,
   "metadata": {},
   "outputs": [],
   "source": [
    "import os.path as op\n",
    "input_dir = op.join(\n",
    "    op.expanduser('~'), 'simdb', 'data', 'shear_zone', 'B1_TV1', 'dic_fine_data'\n",
    ")\n",
    "input_dir"
   ]
  },
  {
   "cell_type": "markdown",
   "metadata": {},
   "source": [
    "# Read all DIC states into a list of arrays"
   ]
  },
  {
   "cell_type": "code",
   "execution_count": null,
   "metadata": {},
   "outputs": [],
   "source": [
    "pxyz_files = [op.join(input_dir, each)\n",
    "         for each in sorted(os.listdir(input_dir))\n",
    "         if each.endswith('.csv')]"
   ]
  },
  {
   "cell_type": "code",
   "execution_count": null,
   "metadata": {},
   "outputs": [],
   "source": [
    "pxyz_list = [\n",
    "    np.loadtxt(csv_file, dtype=np.float_,\n",
    "               skiprows=6, delimiter=';')\n",
    "    for csv_file in pxyz_files\n",
    "]"
   ]
  },
  {
   "cell_type": "markdown",
   "metadata": {},
   "source": [
    "# Identify the points that are included in all time steps."
   ]
  },
  {
   "cell_type": "code",
   "execution_count": null,
   "metadata": {},
   "outputs": [],
   "source": [
    "P_list = [ np.array(pxyz[:,0], dtype=np.int_)\n",
    "    for pxyz in pxyz_list\n",
    "]"
   ]
  },
  {
   "cell_type": "code",
   "execution_count": null,
   "metadata": {},
   "outputs": [],
   "source": [
    "max_n_P = np.max(np.array([ np.max(P_) for P_ in P_list ])) + 1"
   ]
  },
  {
   "cell_type": "code",
   "execution_count": null,
   "metadata": {},
   "outputs": [],
   "source": [
    "P_Q = P_list[0] \n",
    "for P_next in P_list[1:]:\n",
    "    P_Q = np.intersect1d(P_Q, P_next)\n",
    "P_Q"
   ]
  },
  {
   "cell_type": "markdown",
   "metadata": {},
   "source": [
    "# Define the initial configuration"
   ]
  },
  {
   "cell_type": "code",
   "execution_count": null,
   "metadata": {},
   "outputs": [],
   "source": [
    "n_T = len(pxyz_list)\n",
    "X_TPa = np.zeros((n_T, max_n_P, 3), dtype=np.float_)\n",
    "for T in range(n_T):\n",
    "    X_TPa[T, P_list[T]] = pxyz_list[T][:,1:]"
   ]
  },
  {
   "cell_type": "code",
   "execution_count": null,
   "metadata": {},
   "outputs": [],
   "source": [
    "U_TPa = np.zeros_like(X_TPa)\n",
    "for T in range(1, n_T):\n",
    "    U_TPa[T, P_Q] = X_TPa[T, P_Q] - X_TPa[0, P_Q]"
   ]
  },
  {
   "cell_type": "code",
   "execution_count": null,
   "metadata": {},
   "outputs": [],
   "source": [
    "X_Qa = X_TPa[0, P_Q]\n",
    "U_TQa = U_TPa[:, P_Q]"
   ]
  },
  {
   "cell_type": "markdown",
   "metadata": {},
   "source": [
    "# Add corner points\n",
    "\n",
    "Set up a rectangular domain around the measured data.\n",
    "Currently, the values on the border are set to 1.0, which is not \n",
    "useful for cases when the border should stop at a certain cut through \n",
    "the boundaries. In such cases, the data values in $z$ direction \n",
    "along the boundary triangle edges should be projected onto the \n",
    "boundary of the bounding box. This has not yet been done here."
   ]
  },
  {
   "cell_type": "code",
   "execution_count": null,
   "metadata": {},
   "outputs": [],
   "source": [
    "min_x, min_y, min_z = np.min(X_Qa, axis=0)\n",
    "max_x, max_y, max_z = np.max(X_Qa, axis=0)"
   ]
  },
  {
   "cell_type": "code",
   "execution_count": null,
   "metadata": {},
   "outputs": [],
   "source": [
    "argmin_x, argmax_x = np.argmin(X_Qa[:,0]), np.argmax(X_Qa[:,0])\n",
    "argmin_y, argmax_y = np.argmin(X_Qa[:,1]), np.argmax(X_Qa[:,1])\n",
    "argmin_z, argmax_z = np.argmin(X_Qa[:,2]), np.argmax(X_Qa[:,2])\n",
    "argmin_x, argmax_x, argmin_y, argmax_y"
   ]
  },
  {
   "cell_type": "code",
   "execution_count": null,
   "metadata": {},
   "outputs": [],
   "source": [
    "arg_ll = X_Qa[:,0] * X_Qa[:,1]"
   ]
  },
  {
   "cell_type": "code",
   "execution_count": null,
   "metadata": {},
   "outputs": [],
   "source": [
    "X_0 = X_Qa[argmin_x, :]\n",
    "X_1 = X_Qa[argmax_x, :]\n",
    "X_2 = X_Qa[argmin_y, :]\n",
    "V_0 = X_1 - X_0\n",
    "V_1 = X_2 - X_0\n",
    "v_0 = V_0 / np.linalg.norm(V_0)\n",
    "v_1 = V_1 / np.linalg.norm(V_1)\n",
    "EPS = np.zeros((3, 3, 3), dtype='f')\n",
    "EPS[(0, 1, 2), (1, 2, 0), (2, 0, 1)] = 1\n",
    "EPS[(2, 1, 0), (1, 0, 2), (0, 2, 1)] = -1\n",
    "V_3 = np.einsum('abc,b,c->a', EPS, v_0, v_1)\n",
    "v_3 = V_3 / np.linalg.norm(V_3)\n",
    "v_3"
   ]
  },
  {
   "cell_type": "markdown",
   "metadata": {},
   "source": [
    "# Construct the surface"
   ]
  },
  {
   "cell_type": "markdown",
   "metadata": {},
   "source": [
    "Take the data along the first two axes, use the `trisurf` method of `Delaunay` to make an $xy$ triangulation"
   ]
  },
  {
   "cell_type": "code",
   "execution_count": null,
   "metadata": {},
   "outputs": [],
   "source": [
    "points = X_Qa[:, :-1]\n",
    "values = U_TQa[15, :, 1]\n",
    "delaunay = Delaunay(points)\n",
    "triangles=delaunay.simplices"
   ]
  },
  {
   "cell_type": "code",
   "execution_count": null,
   "metadata": {},
   "outputs": [],
   "source": [
    "triangles.shape"
   ]
  },
  {
   "cell_type": "markdown",
   "metadata": {},
   "source": [
    "# Plot using matplotlib with 3d projection\n",
    "This version is static"
   ]
  },
  {
   "cell_type": "code",
   "execution_count": null,
   "metadata": {},
   "outputs": [],
   "source": [
    "fig = plt.figure(figsize=(10,8))\n",
    "ax = fig.add_subplot(1, 1, 1, projection='3d')\n",
    "#ax = fig.add_subplot(1, 1, 1)\n",
    "x, y = points.T\n",
    "z = values\n",
    "ax.plot_trisurf(x, y, z, triangles=triangles, cmap=plt.cm.Spectral)\n",
    "ax.set_xlabel(r'$x$')\n",
    "ax.set_ylabel(r'$y$')\n",
    "ax.set_zlabel(r'$z$')\n",
    "#ax.axis('equal')\n",
    "ax.view_init(20, 20)\n",
    "# ax.set_zlim(0,1);"
   ]
  },
  {
   "cell_type": "markdown",
   "metadata": {},
   "source": [
    "# Define the grid"
   ]
  },
  {
   "cell_type": "code",
   "execution_count": null,
   "metadata": {},
   "outputs": [],
   "source": [
    "d_x = max_x - min_x\n",
    "d_y = max_y - min_y\n",
    "d_x, d_y\n",
    "boundary = d_y * 0.1"
   ]
  },
  {
   "cell_type": "code",
   "execution_count": null,
   "metadata": {},
   "outputs": [],
   "source": [
    "delta_x, delta_y = 1, 1 # [mm]"
   ]
  },
  {
   "cell_type": "code",
   "execution_count": null,
   "metadata": {},
   "outputs": [],
   "source": [
    "n_I = int(d_x / delta_x)\n",
    "n_J = int(d_y / delta_y)\n",
    "n_I, n_J"
   ]
  },
  {
   "cell_type": "code",
   "execution_count": null,
   "metadata": {},
   "outputs": [],
   "source": [
    "X_aIJ = np.mgrid[min_x+boundary:max_x-boundary:complex(n_I),\n",
    "                 min_y+boundary:max_y-boundary:complex(n_J)]\n",
    "x_IJ, y_IJ = X_aIJ"
   ]
  },
  {
   "cell_type": "markdown",
   "metadata": {},
   "source": [
    "# Interpolate the values on the grid"
   ]
  },
  {
   "cell_type": "code",
   "execution_count": null,
   "metadata": {},
   "outputs": [],
   "source": [
    "points = X_Qa[:, :-1]\n",
    "delaunay = Delaunay(points)\n",
    "triangles=delaunay.simplices\n",
    "values = U_TQa[16, :, :]\n",
    "get_U = scipy.interpolate.LinearNDInterpolator(delaunay, values)"
   ]
  },
  {
   "cell_type": "code",
   "execution_count": null,
   "metadata": {},
   "outputs": [],
   "source": [
    "get_U(40, 40)"
   ]
  },
  {
   "cell_type": "code",
   "execution_count": null,
   "metadata": {},
   "outputs": [],
   "source": [
    "points = X_Qa[:, :-1]\n",
    "delaunay = Delaunay(points)\n",
    "triangles=delaunay.simplices\n",
    "U_IJa_list = []\n",
    "for T in range(n_T):\n",
    "    values = U_TQa[T, :, :]\n",
    "    get_U = scipy.interpolate.LinearNDInterpolator(delaunay, values)\n",
    "    U_IJa = get_U(x_IJ, y_IJ)\n",
    "    U_IJa_list.append(U_IJa)\n",
    "U_TIJa = np.array(U_IJa_list)"
   ]
  },
  {
   "cell_type": "code",
   "execution_count": null,
   "metadata": {},
   "outputs": [],
   "source": [
    "U_TIJa.shape"
   ]
  },
  {
   "cell_type": "markdown",
   "metadata": {},
   "source": [
    "# Plot the values"
   ]
  },
  {
   "cell_type": "code",
   "execution_count": null,
   "metadata": {},
   "outputs": [],
   "source": [
    "fig = plt.figure(figsize=(10,8))\n",
    "ax = fig.add_subplot(1, 1, 1, projection='3d')\n",
    "z_IJ = U_TIJa[-4,...,1]\n",
    "surf = ax.plot_surface(x_IJ, y_IJ, z_IJ, cmap=plt.cm.coolwarm,\n",
    "                       linewidth=0, antialiased=False)\n",
    "\n",
    "# Customize the z axis.\n",
    "#ax.set_zlim(0, 1.01)\n",
    "ax.zaxis.set_major_locator(plt.LinearLocator(10))\n",
    "ax.zaxis.set_major_formatter(plt.FormatStrFormatter('%.02f'))\n",
    "\n",
    "# Add a color bar which maps values to colors.\n",
    "fig.colorbar(surf, shrink=0.5, aspect=5);\n"
   ]
  },
  {
   "cell_type": "code",
   "execution_count": null,
   "metadata": {},
   "outputs": [],
   "source": []
  },
  {
   "cell_type": "code",
   "execution_count": null,
   "metadata": {},
   "outputs": [],
   "source": []
  }
 ],
 "metadata": {
  "kernelspec": {
   "display_name": "bmcs_env2",
   "language": "python",
   "name": "bmcs_env2"
  },
  "language_info": {
   "codemirror_mode": {
    "name": "ipython",
    "version": 3
   },
   "file_extension": ".py",
   "mimetype": "text/x-python",
   "name": "python",
   "nbconvert_exporter": "python",
   "pygments_lexer": "ipython3"
  },
  "toc": {
   "base_numbering": 1,
   "nav_menu": {},
   "number_sections": true,
   "sideBar": true,
   "skip_h1_title": false,
   "title_cell": "Table of Contents",
   "title_sidebar": "Contents",
   "toc_cell": false,
   "toc_position": {},
   "toc_section_display": true,
   "toc_window_display": false
  }
 },
 "nbformat": 4,
 "nbformat_minor": 4
}
