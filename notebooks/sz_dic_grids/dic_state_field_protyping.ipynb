{
 "cells": [
  {
   "cell_type": "markdown",
   "id": "784b51b9",
   "metadata": {},
   "source": [
    "# **DIC interpretation using nonlinear FE model**\n",
    "\n",
    "This notebook shows how to derive a deeper interpretation of the DIC displacements measured on a grid.\n",
    "Based on an FE-mesh, it delivers the strain, stress and damage tensors. Further processing of the \n",
    "anisotropic damage tensor is used to detect the localized cracks."
   ]
  },
  {
   "cell_type": "code",
   "execution_count": 1,
   "id": "87f788ee",
   "metadata": {},
   "outputs": [],
   "source": [
    "%matplotlib widget"
   ]
  },
  {
   "cell_type": "code",
   "execution_count": 2,
   "id": "56799eb0",
   "metadata": {},
   "outputs": [],
   "source": [
    "import ibvpy.api as ib\n",
    "import matplotlib.pylab as plt\n",
    "from matplotlib import cm\n",
    "from tvtk.api import tvtk\n",
    "from mayavi import mlab\n",
    "from scipy.interpolate import interp2d\n",
    "from scipy.signal import argrelextrema\n",
    "from bmcs_shear.api import CrackBridgeAdv\n",
    "from bmcs_shear.dic_crack import \\\n",
    "    DICGrid, DICAlignedGrid, DICCOR, DICStateFields\n",
    "import numpy as np\n",
    "np.seterr(divide='ignore', invalid='ignore');"
   ]
  },
  {
   "cell_type": "markdown",
   "id": "7fe3660c-bdd3-4875-b9b1-850ed2a8cbf8",
   "metadata": {},
   "source": [
    "## Transform material point data of FE mesh to a numpy grid"
   ]
  },
  {
   "cell_type": "markdown",
   "id": "43de153e-be78-4e6f-af57-1c18e0c0f123",
   "metadata": {},
   "source": [
    "Rearrange the regular element grid with integration points into a 2D point grid  "
   ]
  },
  {
   "cell_type": "code",
   "execution_count": 3,
   "id": "048627f9-5ca1-4300-9d58-00d8a0dc5aa4",
   "metadata": {},
   "outputs": [],
   "source": [
    "def transform_mesh_to_grid(field_Em, n_E, n_F):\n",
    "    field_Em_shape = field_Em.shape\n",
    "    # reshape into EFmn and preserve the dimensionality of the input field\n",
    "    field_EFmn_shape = (n_E, n_F, 2, 2) + field_Em_shape[2:]\n",
    "    # reorder the Gauss points to comply with the grid point order\n",
    "    # this reordering might be parameterized by the finite-element formulation\n",
    "    field_EFmn = field_Em[:, (0, 3, 1, 2)].reshape(*field_EFmn_shape)\n",
    "    # swap the dimensions of elements and gauss points\n",
    "    field_EmFn = np.einsum('EFmn...->EmFn...', field_EFmn)\n",
    "    # merge the element index and gauss point subgrid into globarl point indexes \n",
    "    field_MN_shape = (2*n_E, 2*n_F) + field_Em_shape[2:]\n",
    "    # reshape the field\n",
    "    field_MN = field_EmFn.reshape(*field_MN_shape)\n",
    "    return field_MN"
   ]
  },
  {
   "cell_type": "markdown",
   "id": "a3e56ebb-0236-48a6-b507-3dd936859e68",
   "metadata": {},
   "source": [
    "## Smoothing of a field\n",
    "\n",
    "\\begin{align}\n",
    "\\bar{f}(x) = \\int   \\frac{\\alpha(x - \\xi)}{\\int \\alpha(x - \\xi)\\;\\mathrm{d}\\xi} f(\\xi) \\; \\mathrm{d}\\xi\n",
    "\\end{align}"
   ]
  },
  {
   "cell_type": "markdown",
   "id": "d0efbb7e-00ed-43f5-99dd-bddc4400a35d",
   "metadata": {},
   "source": [
    "Gigen the coordinate grid $x_{JK}, y_{JK}$ calculate the distances between each two nodes (JK), (MN).\n",
    "as \n",
    "\\begin{align}\n",
    " r_{IJMN} = (x_{IJ}-x_{MN})^2 + ( y_{IJ} - y_{MN} )^2 \n",
    "\\end{align}"
   ]
  },
  {
   "cell_type": "markdown",
   "id": "23abe660-dacd-479c-b410-cfc4e297703c",
   "metadata": {},
   "source": [
    "Scale the x-y plane to a unit square"
   ]
  },
  {
   "cell_type": "markdown",
   "id": "cb4f66b7-48ad-477e-b0ad-a8766d747d23",
   "metadata": {},
   "source": [
    "Use the ironing function\n",
    "\\begin{align}\n",
    " \\alpha = \\exp{\\left(-\\frac{r^2}{2R^2}\\right)}\n",
    "\\end{align}\n",
    "in the integral above"
   ]
  },
  {
   "cell_type": "markdown",
   "id": "6f0888c6-672e-4e35-9f11-894605366a1d",
   "metadata": {},
   "source": [
    "Note that this procedure provides serves for non-local averaging of field function weighted by the distance from an actual point."
   ]
  },
  {
   "cell_type": "code",
   "execution_count": 4,
   "id": "50be4cca-a92d-465e-9892-1196497ac693",
   "metadata": {},
   "outputs": [],
   "source": [
    "def get_z_MN_ironed(x_JK, y_JK, z_JK, RR):\n",
    "    n_J, n_K = x_JK.shape\n",
    "    delta_x_JK = x_JK[None, None, ...] - x_JK[..., None, None]\n",
    "    delta_y_JK = y_JK[None, None, ...] - y_JK[..., None, None]\n",
    "    r2_n = (delta_x_JK**2 + delta_y_JK**2) / (2*RR**2)\n",
    "    alpha_r_MNJK = np.exp(-r2_n)\n",
    "    a_MN = np.trapz(np.trapz(alpha_r_MNJK, x_JK[:, 0], axis=-2), y_JK[0, :], axis=-1)\n",
    "    normed_a_MNJK = np.einsum('MNJK,MN->MNJK', alpha_r_MNJK, 1 / a_MN)\n",
    "    z_MNJK = np.einsum('MNJK,JK...->MNJK...', normed_a_MNJK, z_JK)\n",
    "    # note that the inner integral cancels the dimension J on the axis with \n",
    "    # index 2. Therefore, the outer integral integrates over K - again on \n",
    "    # the axis with index 2\n",
    "    z_MN = np.trapz(np.trapz(z_MNJK, x_JK[:, 0], axis=2), y_JK[0, :], axis=2)\n",
    "    return z_MN"
   ]
  },
  {
   "cell_type": "markdown",
   "id": "81a4da94-8867-4c7e-b208-ae4076df6137",
   "metadata": {},
   "source": [
    "## Interpolate damage field"
   ]
  },
  {
   "cell_type": "code",
   "execution_count": 5,
   "id": "c756e41c-008c-40b0-b54f-9a20dba13a18",
   "metadata": {},
   "outputs": [],
   "source": [
    "def interp_omega(x_MN, y_MN, omega_MN, n_x, n_y):\n",
    "    x_M, x_N = x_MN[:, 0], y_MN[0, :]\n",
    "    f_omega = interp2d(x_M, x_N, omega_MN.T, kind='cubic')\n",
    "    xx_M = np.linspace(x_M[-1], x_M[0], n_x)\n",
    "    yy_N = np.linspace(x_N[0], x_N[-1], n_y)\n",
    "    xx_NM, yy_NM = np.meshgrid(xx_M, yy_N)\n",
    "    omega_ipl_NM = f_omega(xx_M, yy_N)\n",
    "    omega_ipl_NM[omega_ipl_NM < 0] = 0\n",
    "    return xx_NM, yy_NM, omega_ipl_NM"
   ]
  },
  {
   "cell_type": "markdown",
   "id": "d8331a61-a978-4ef1-8063-fcd6e219e576",
   "metadata": {},
   "source": [
    "## Crack tracing algorithm"
   ]
  },
  {
   "cell_type": "code",
   "execution_count": 6,
   "id": "af13b744-963b-42f5-bdd4-3fa8dbeb72d0",
   "metadata": {},
   "outputs": [],
   "source": [
    "def crack_detection(xx_MN, yy_MN, omega_MN):\n",
    "    N_range = np.arange(yy_MN.shape[1])\n",
    "    omega_NM = omega_MN.T\n",
    "    n_N, n_M = omega_NM.shape\n",
    "    omega_NM[omega_NM < 0.15] = 0  # cutoff small damage values\n",
    "    # smooth the landscape\n",
    "    # initial crack positions at the bottom of the zone\n",
    "    arg_C = argrelextrema(omega_NM[0, :], np.greater)[0]\n",
    "    if len(arg_C) == 0:\n",
    "        return np.zeros((n_N, 0)), np.zeros((n_N, 0))\n",
    "    # list of intervals decomposing the crack\n",
    "    intervals_Cp_ = []\n",
    "    # distance between right interval boundary and crack position\n",
    "    arg_C_shift_ = []\n",
    "    # list of crack horizontal indexes for each horizontal slice\n",
    "    arg_x_NC_ = [np.copy(arg_C)]\n",
    "    for N1 in N_range[1:]:\n",
    "        # horizontal indexes of midpoints between cracks\n",
    "        arg_C_left_ = np.hstack([[int(arg_C[0]/2)], \n",
    "                                 np.array((0.25*arg_C[:-1] + 0.75*arg_C[1:]), \n",
    "                                          dtype=np.int_)])\n",
    "        arg_C_right_ = arg_C + 1\n",
    "        # array of intervals - first index - crack, second index (left, right)\n",
    "        intervals_Cp = np.vstack([arg_C_left_, arg_C_right_]).T\n",
    "        # index distance from the right boundary of the crack interval\n",
    "        arg_C_shift = np.array([\n",
    "            np.argmax(omega_NM[N1, interval_p[-1]:interval_p[0]:-1])\n",
    "            for interval_p in intervals_Cp\n",
    "        ])\n",
    "        # cracks, for which the next point could be identified\n",
    "        C_shift = arg_C_shift > 0\n",
    "        # next index position of the crack\n",
    "        arg_C[C_shift] = intervals_Cp[C_shift, -1] - arg_C_shift[C_shift]\n",
    "        arg_x_NC_.append(np.copy(arg_C))\n",
    "        # for debugging\n",
    "        intervals_Cp_.append(intervals_Cp)\n",
    "        arg_C_shift_.append(arg_C_shift)\n",
    "    arg_x_NC = np.array(arg_x_NC_)\n",
    "    n_C = arg_x_NC.shape[1]\n",
    "    arg_y_C = np.arange(n_N)\n",
    "    arg_y_NC = np.repeat(arg_y_C, n_C).reshape(n_N, -1)\n",
    "    xx_NC = xx_MN[arg_x_NC, arg_y_NC]\n",
    "    yy_NC = yy_MN[arg_x_NC, arg_y_NC]\n",
    "    return xx_NC, yy_NC"
   ]
  },
  {
   "cell_type": "markdown",
   "id": "bc52a4b7-7752-4540-bb07-603d02545986",
   "metadata": {},
   "source": [
    "## 3D Plotting functions \n",
    "\n",
    "show scalar and tensor field in mayavi"
   ]
  },
  {
   "cell_type": "code",
   "execution_count": 39,
   "id": "6f36aefc-c670-4c2a-a9c3-ba4e1ae2bf53",
   "metadata": {},
   "outputs": [],
   "source": [
    "def mlab_tensor(x_NM, y_NM, omega_NM, tensor_MNab, factor=100, label='damage'):\n",
    "    mlab.figure()\n",
    "    scene = mlab.get_engine().scenes[-1]\n",
    "    scene.name = label\n",
    "    scene.scene.background = (1.0, 1.0, 1.0)\n",
    "    scene.scene.foreground = (0.0, 0.0, 0.0)\n",
    "    scene.scene.z_plus_view()\n",
    "    scene.scene.parallel_projection = True\n",
    "    pts_shape = x_NM.shape + (1,)\n",
    "    pts = np.empty(pts_shape + (3,), dtype=float)\n",
    "    pts[..., 0] = x_NM[..., np.newaxis]\n",
    "    pts[..., 1] = y_NM[..., np.newaxis]\n",
    "    #pts[..., 2] = omega_NM[..., np.newaxis] * factor\n",
    "    tensor_MNa, _ = np.linalg.eig(tensor_MNab)\n",
    "    max_tensor_MN = np.max(tensor_MNa, axis=-1)\n",
    "    max_tensor_NM = max_tensor_MN.T\n",
    "    max_tensor_NM[max_tensor_NM < 0] = 0\n",
    "    pts[..., 2] = max_tensor_NM[..., np.newaxis] * factor\n",
    "    pts = pts.transpose(2, 1, 0, 3).copy()\n",
    "    pts.shape = int(pts.size / 3), 3\n",
    "    sg = tvtk.StructuredGrid(dimensions=pts_shape, points=pts)\n",
    "    sg.point_data.scalars = omega_NM.ravel()\n",
    "    sg.point_data.scalars.name = 'damage'\n",
    "    delta_23 = np.array([[1, 0, 0], [0, 1, 0]], dtype=np.float_)\n",
    "    tensor_MNab_3D = np.einsum('...ab,ac,bd->...cd', tensor_MNab, delta_23, delta_23)\n",
    "    sg.point_data.tensors = tensor_MNab_3D.reshape(-1,9)\n",
    "    sg.point_data.tensors.name = label\n",
    "    # Now visualize the data.\n",
    "    d = mlab.pipeline.add_dataset(sg)\n",
    "    mlab.pipeline.iso_surface(d)\n",
    "    mlab.pipeline.surface(d)\n",
    "    mlab.show()"
   ]
  },
  {
   "cell_type": "code",
   "execution_count": 8,
   "id": "20d65109-2c84-4b29-9ab3-8db10a4f123b",
   "metadata": {},
   "outputs": [],
   "source": [
    "def mlab_scalar(x_NM, y_NM, z_NM, factor=100, label='damage'):\n",
    "    mlab.figure()\n",
    "    scene = mlab.get_engine().scenes[-1]\n",
    "    scene.name = label\n",
    "    scene.scene.background = (1.0, 1.0, 1.0)\n",
    "    scene.scene.foreground = (0.0, 0.0, 0.0)\n",
    "    scene.scene.z_plus_view()\n",
    "    scene.scene.parallel_projection = True\n",
    "    pts_shape = xx_NM.shape + (1,)\n",
    "    pts = np.empty(pts_shape + (3,), dtype=float)\n",
    "    pts[..., 0] = x_NM[..., np.newaxis]\n",
    "    pts[..., 1] = y_NM[..., np.newaxis]\n",
    "    pts[..., 2] = z_NM[..., np.newaxis] * factor\n",
    "    pts = pts.transpose(2, 1, 0, 3).copy()\n",
    "    pts.shape = int(pts.size / 3), 3\n",
    "    sg = tvtk.StructuredGrid(dimensions=pts_shape, points=pts)\n",
    "    sg.point_data.scalars = z_NM.T.ravel()\n",
    "    sg.point_data.scalars.name = label\n",
    "    d = mlab.pipeline.add_dataset(sg)\n",
    "    mlab.pipeline.iso_surface(d)\n",
    "    mlab.pipeline.surface(d)\n",
    "    mlab.show()"
   ]
  },
  {
   "cell_type": "markdown",
   "id": "4656ba6d-d81f-42ff-af07-add3063aa957",
   "metadata": {},
   "source": [
    "# DIC grid"
   ]
  },
  {
   "cell_type": "markdown",
   "id": "dc6b4b2b-5795-4546-9592-fa35a77fe60e",
   "metadata": {},
   "source": [
    "## Input displacements on a grid"
   ]
  },
  {
   "cell_type": "code",
   "execution_count": 10,
   "id": "f8e13176-c341-4865-8cf3-dc4de28af238",
   "metadata": {},
   "outputs": [],
   "source": [
    "dic_grid = DICGrid(start_t=0, end_t=1, U_factor=100, dir_name='B1_TV1')\n",
    "dic_grid.sz_bd.Rectangle = True\n",
    "dic_grid.sz_bd.matrix_.trait_set(f_t=0.3 * 38**(2/3), f_c=38, d_a=16, E_c=28000)\n",
    "dic_grid.sz_bd.trait_set(H=350, B=320, L=1500)\n",
    "dic_grid.sz_bd.csl.add_layer(CrackBridgeAdv(z=50, n=5, d_s=16, E=210000, f_c=38))"
   ]
  },
  {
   "cell_type": "markdown",
   "id": "ebf87b11-d26b-42b3-95aa-8a7d49cfeec8",
   "metadata": {},
   "source": [
    "## Finite element processing of the displacement field"
   ]
  },
  {
   "cell_type": "code",
   "execution_count": 12,
   "id": "b77f4dec-cc48-4ed1-be70-0e8c8040b057",
   "metadata": {},
   "outputs": [],
   "source": [
    "dsf = DICStateFields(dic_grid=dic_grid)\n",
    "dsf.tmodel_.trait_set(E=5000, c_T=0, nu=0.18, epsilon_0=0.0005, epsilon_f=0.01);\n",
    "dsf.eval()"
   ]
  },
  {
   "cell_type": "markdown",
   "id": "39911961-7efc-492e-be43-137e3dc89ecd",
   "metadata": {},
   "source": [
    "# State fields on a regular grid"
   ]
  },
  {
   "cell_type": "code",
   "execution_count": 24,
   "id": "349a5c0e-d3dc-404a-a978-11d4fe34d815",
   "metadata": {},
   "outputs": [],
   "source": [
    "t_idx = -5\n",
    "kappa_Emr = dsf.hist.state_vars[t_idx][0]['kappa']\n",
    "omega_Emr = dsf.hist.state_vars[t_idx][0]['omega']\n",
    "phi_Emab = dsf.tmodel_._get_phi_Emab(kappa_Emr)"
   ]
  },
  {
   "cell_type": "code",
   "execution_count": 25,
   "id": "51fa866f-53ce-4393-877a-956756b84382",
   "metadata": {},
   "outputs": [],
   "source": [
    "n_E, n_F = dic_grid.n_x-1, dic_grid.n_y-1"
   ]
  },
  {
   "cell_type": "markdown",
   "id": "e5bac050-cf1c-4aac-8761-f3f46c34fd00",
   "metadata": {},
   "source": [
    "## Spatial coordinates"
   ]
  },
  {
   "cell_type": "code",
   "execution_count": 26,
   "id": "bc09794f-2503-421e-a088-e8fbbdde6628",
   "metadata": {},
   "outputs": [],
   "source": [
    "x_MNa = transform_mesh_to_grid(dsf.xmodel.x_Ema, n_E, n_F)\n",
    "x_aMN = np.einsum('MNa->aMN', x_MNa)\n",
    "x_MN, y_MN = x_aMN"
   ]
  },
  {
   "cell_type": "code",
   "execution_count": 27,
   "id": "ea4338be-a772-4386-8735-a4fd98cc5ab4",
   "metadata": {},
   "outputs": [],
   "source": [
    "max_sig = 5\n",
    "max_eps = 0.02"
   ]
  },
  {
   "cell_type": "markdown",
   "id": "778178a3-7d15-409f-b850-43c0779e8aa6",
   "metadata": {},
   "source": [
    "## Strain tensor field"
   ]
  },
  {
   "cell_type": "code",
   "execution_count": 28,
   "id": "06017322-858f-4051-b343-21a4088efad1",
   "metadata": {},
   "outputs": [],
   "source": [
    "U_o = dsf.hist.U_t[t_idx]\n",
    "eps_Emab = dsf.xmodel.map_U_to_field(U_o)\n",
    "eps_MNab = transform_mesh_to_grid(eps_Emab, n_E, n_F)\n",
    "eps_MNa, _ = np.linalg.eig(eps_MNab)\n",
    "max_eps_MN = np.max(eps_MNa, axis=-1)\n",
    "max_eps_MN[max_eps_MN < 0] = 0"
   ]
  },
  {
   "cell_type": "markdown",
   "id": "4d9ae370-46ba-4428-8c23-986294ea78d7",
   "metadata": {},
   "source": [
    "## Stress tensor field"
   ]
  },
  {
   "cell_type": "code",
   "execution_count": 29,
   "id": "f9e2b431-f4e0-4391-b954-1c0edc9c8165",
   "metadata": {},
   "outputs": [],
   "source": [
    "sig_Emab, _ = dsf.tmodel_.get_corr_pred(eps_Emab, 1, kappa_Emr, omega_Emr)\n",
    "sig_MNab = transform_mesh_to_grid(sig_Emab, n_E, n_F)\n",
    "sig_MNa, _ = np.linalg.eig(sig_MNab)\n",
    "max_sig_MN = np.max(sig_MNa, axis=-1)\n",
    "max_sig_MN[max_sig_MN < 0] = 0"
   ]
  },
  {
   "cell_type": "markdown",
   "id": "e41a6154-e672-447b-89f0-3bea5130ab65",
   "metadata": {},
   "source": [
    "## Integrity tensor field"
   ]
  },
  {
   "cell_type": "code",
   "execution_count": 30,
   "id": "092a57ee-c85b-4dd4-8af9-a7e3a0701682",
   "metadata": {},
   "outputs": [],
   "source": [
    "phi_MNab = transform_mesh_to_grid(phi_Emab, n_E, n_F)\n",
    "omega_MNab = np.identity(2) - phi_MNab\n",
    "phi_MNa, _ = np.linalg.eig(phi_MNab)\n",
    "min_phi_MN = np.min(phi_MNa, axis=-1)\n",
    "omega_MN = 1 - min_phi_MN\n",
    "omega_MN[omega_MN < 0.2] = 0"
   ]
  },
  {
   "cell_type": "markdown",
   "id": "36343e5e-ca97-40c8-bfbd-3d09f7d16d3b",
   "metadata": {},
   "source": [
    "## Cumulative analysis of stress-strain in the field"
   ]
  },
  {
   "cell_type": "code",
   "execution_count": 31,
   "id": "db804761-bdc5-4cb3-a758-539b3570437f",
   "metadata": {},
   "outputs": [],
   "source": [
    "kappa_zero = np.zeros_like(kappa_Emr[0,0,:])\n",
    "omega_zero = np.zeros_like(kappa_zero)\n",
    "eps_test = np.zeros((2,2), dtype=np.float_)\n",
    "eps_range = np.linspace(0, 0.5, 1000)\n",
    "sig_range = []\n",
    "for eps_i in eps_range:\n",
    "    eps_test[0, 0] = eps_i\n",
    "    arg_sig, _ = dsf.tmodel_.get_corr_pred(eps_test, 1, kappa_zero, omega_zero)\n",
    "    sig_range.append(arg_sig)\n",
    "#max_eps = np.max(max_eps_MN)\n",
    "arg_max_eps = np.argwhere(eps_range > max_eps)[0][0]\n",
    "sig_range = np.array(sig_range, dtype=np.float_)\n",
    "G_f = np.trapz(sig_range[:, 0, 0], eps_range)"
   ]
  },
  {
   "cell_type": "markdown",
   "id": "f52b423c-46ca-4794-81d5-c2be9da00f53",
   "metadata": {},
   "source": [
    "## Crack detection"
   ]
  },
  {
   "cell_type": "code",
   "execution_count": 32,
   "id": "4445c62f-c2df-44b2-bd89-a59dd3aa8332",
   "metadata": {},
   "outputs": [],
   "source": [
    "xx_NM, yy_NM, omega_ipl_NM = interp_omega(x_MN, y_MN, omega_MN, 116, 28)\n",
    "xx_MN, yy_MN, omega_ipl_MN = xx_NM.T, yy_NM.T, omega_ipl_NM.T\n",
    "omega_irn_MN = get_z_MN_ironed(xx_MN, yy_MN, omega_ipl_MN, 8)\n",
    "xx_NC, yy_NC = crack_detection(xx_MN, yy_MN, omega_irn_MN)"
   ]
  },
  {
   "cell_type": "markdown",
   "id": "d4a82e26-246a-47de-9f39-0529bcf06f9f",
   "metadata": {},
   "source": [
    "# State fields - 2D Plots "
   ]
  },
  {
   "cell_type": "code",
   "execution_count": 33,
   "id": "4e30ca0c-5bd8-490b-9af6-6aab82f6f792",
   "metadata": {},
   "outputs": [
    {
     "data": {
      "application/vnd.jupyter.widget-view+json": {
       "model_id": "768fe58afab94df7a1e0e34931a8b96d",
       "version_major": 2,
       "version_minor": 0
      },
      "text/plain": [
       "Canvas(toolbar=Toolbar(toolitems=[('Home', 'Reset original view', 'home', 'home'), ('Back', 'Back to previous …"
      ]
     },
     "metadata": {},
     "output_type": "display_data"
    }
   ],
   "source": [
    "fig, ((ax_eps, ax_FU), (ax_sig, ax_sig_eps), (ax_omega, ax_cracks)) = plt.subplots(\n",
    "    3, 2, figsize=(14,7), tight_layout=True)\n",
    "cs_eps = ax_eps.contourf(x_aMN[0], x_aMN[1], max_eps_MN, cmap='BuPu', \n",
    "                         vmin=0, vmax=max_eps)\n",
    "cbar_eps = fig.colorbar(cm.ScalarMappable(norm=cs_eps.norm, cmap=cs_eps.cmap), \n",
    "                        ax=ax_eps, ticks=np.arange(0, max_eps*1.01, 0.005),\n",
    "                        orientation='horizontal')\n",
    "cbar_eps.set_label(r'$\\max(\\varepsilon_I) > 0$')\n",
    "ax_eps.axis('equal')\n",
    "ax_eps.axis('off')\n",
    "cs_sig = ax_sig.contourf(x_aMN[0], x_aMN[1], max_sig_MN, cmap='Reds',\n",
    "                         vmin=0, vmax=max_sig)\n",
    "cbar_sig = fig.colorbar(cm.ScalarMappable(norm=cs_sig.norm, cmap=cs_sig.cmap), \n",
    "                        ax=ax_sig, ticks=np.arange(0, max_sig*1.01, 0.5),\n",
    "                        orientation='horizontal')\n",
    "cbar_sig.set_label(r'$\\max(\\sigma_I) > 0$')\n",
    "ax_sig.axis('equal')\n",
    "ax_sig.axis('off')\n",
    "cs = ax_omega.contourf(x_aMN[0], x_aMN[1], omega_MN, cmap='BuPu', vmin=0, vmax=1)\n",
    "cbar_omega = fig.colorbar(cm.ScalarMappable(norm=cs.norm, cmap=cs.cmap), \n",
    "                          ax=ax_omega, ticks=np.arange(0, 1.1, 0.2),\n",
    "                          orientation='horizontal')\n",
    "cbar_omega.set_label(r'$\\omega = 1 - \\min(\\phi_I)$')\n",
    "ax_omega.axis('equal');\n",
    "ax_omega.axis('off')\n",
    "\n",
    "dsf.dic_grid.plot_load_deflection(ax_FU)\n",
    "\n",
    "ax_sig_eps.plot(eps_MNa[..., 0].flatten(), sig_MNa[..., 0].flatten(), 'o', color='green')\n",
    "ax_sig_eps.plot(eps_range[:arg_max_eps], sig_range[:arg_max_eps, 0, 0], \n",
    "                color='white', lw=2, label='$G_f$ = %g [N/mm]' % G_f)\n",
    "ax_sig_eps.set_xlabel(r'$\\varepsilon$ [-]')\n",
    "ax_sig_eps.set_ylabel(r'$\\sigma$ [MPa]')\n",
    "ax_sig_eps.legend()\n",
    "\n",
    "ax_cracks.plot(xx_NC, yy_NC, color='black', linewidth=3);\n",
    "ax_cracks.contour(xx_MN, yy_MN, omega_irn_MN, cmap=cm.coolwarm, antialiased=False)\n",
    "ax_cracks.axis('equal')\n",
    "ax_cracks.axis('off');"
   ]
  },
  {
   "cell_type": "markdown",
   "id": "d51102f5-489a-4794-83e2-ee3e09c13f19",
   "metadata": {},
   "source": [
    "# 3D plots "
   ]
  },
  {
   "cell_type": "code",
   "execution_count": 41,
   "id": "0b15c63e-9f54-4374-a95c-2e78c48a7c82",
   "metadata": {},
   "outputs": [],
   "source": [
    "eps_irn_MNab = get_z_MN_ironed(x_MN, y_MN, eps_MNab, 8)"
   ]
  },
  {
   "cell_type": "code",
   "execution_count": 42,
   "id": "04ef4987-97b9-455c-9f7d-75fb5229d8ba",
   "metadata": {},
   "outputs": [],
   "source": [
    "mlab_tensor(x_MN.T, y_MN.T, omega_MN.T, eps_irn_MNab, factor=5000)\n",
    "# mlab_scalar(xx_NM, yy_NM, omega_ipl_NM)\n",
    "# mlab_scalar(xx_NM, yy_NM, omega_irn_MN.T)"
   ]
  },
  {
   "cell_type": "code",
   "execution_count": null,
   "id": "605b91b2-d779-4298-82a0-44899a7bf9c4",
   "metadata": {},
   "outputs": [],
   "source": []
  }
 ],
 "metadata": {
  "kernelspec": {
   "display_name": "bmcs_env",
   "language": "python",
   "name": "bmcs_env"
  },
  "language_info": {
   "codemirror_mode": {
    "name": "ipython",
    "version": 3
   },
   "file_extension": ".py",
   "mimetype": "text/x-python",
   "name": "python",
   "nbconvert_exporter": "python",
   "pygments_lexer": "ipython3",
   "version": "3.8.8"
  }
 },
 "nbformat": 4,
 "nbformat_minor": 5
}
