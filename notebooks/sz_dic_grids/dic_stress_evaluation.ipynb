{
 "cells": [
  {
   "cell_type": "markdown",
   "id": "784b51b9",
   "metadata": {},
   "source": [
    "# **Stress evaluation**"
   ]
  },
  {
   "cell_type": "code",
   "execution_count": 63,
   "id": "87f788ee",
   "metadata": {},
   "outputs": [],
   "source": [
    "%matplotlib widget"
   ]
  },
  {
   "cell_type": "code",
   "execution_count": 64,
   "id": "56799eb0",
   "metadata": {},
   "outputs": [],
   "source": [
    "from bmcs_shear.dic_crack import DICGrid, DICAlignedGrid, DICCOR, DICStateFields\n",
    "import ibvpy.api as ib\n",
    "import numpy as np\n",
    "import matplotlib.pylab as plt\n",
    "from matplotlib import cm\n",
    "from ibvpy.tmodel.viz3d_scalar_field import \\\n",
    "    Vis3DStateField, Viz3DScalarField\n",
    "from ibvpy.tmodel.viz3d_tensor_field import \\\n",
    "    Vis3DTensorField, Viz3DTensorField"
   ]
  },
  {
   "cell_type": "code",
   "execution_count": 65,
   "id": "13e08342-0f3a-4ec1-8103-bf0338830a63",
   "metadata": {},
   "outputs": [],
   "source": [
    "dic_grid = DICGrid(n_x=59, n_y=15, d_x=22, d_y=22,\n",
    "                   start_t=0, end_t=1, U_factor=100, dir_name='B1_TV1', grid_column_first=False, \n",
    "                   grid_number_vertical=False)"
   ]
  },
  {
   "cell_type": "code",
   "execution_count": 66,
   "id": "a7ac4524-9712-470f-93e8-060fa0c1289a",
   "metadata": {},
   "outputs": [],
   "source": [
    "dsf = DICStateFields(dic_grid=dic_grid)"
   ]
  },
  {
   "cell_type": "code",
   "execution_count": 67,
   "id": "f0f6413c-8d34-480d-a586-85c4534b304a",
   "metadata": {},
   "outputs": [
    {
     "data": {
      "text/latex": [
       "\n",
       "        \\begin{array}{lrrl}\\hline\n",
       "        \\textrm{stress_state} & \\textrm{plane_stress} & & \\textrm{None}  \\\\\n",
       "                \\hline\n",
       "        \\hline\n",
       "        \\end{array}\n",
       "        "
      ],
      "text/plain": [
       "<ibvpy.tmodel.mats2D.mats2D_microplane.vmats2D_mpl_d_eeq.MATS2DMplDamageEEQ at 0x7f3a7daed5e0>"
      ]
     },
     "execution_count": 67,
     "metadata": {},
     "output_type": "execute_result"
    }
   ],
   "source": [
    "dsf.tmodel.trait_set(E=5000, c_T=0, nu=0.18, epsilon_0=0.0005, epsilon_f=0.001)"
   ]
  },
  {
   "cell_type": "code",
   "execution_count": 68,
   "id": "dde76e85-52d2-44c3-9631-990779207071",
   "metadata": {},
   "outputs": [],
   "source": [
    "dsf.hist.vis_record = {\n",
    "  'strain': Vis3DTensorField(var='eps_ab'),\n",
    "  'stress': Vis3DTensorField(var='sig_ab'),\n",
    "#   'damage': Vis3DStateField(var='omega')\n",
    "}"
   ]
  },
  {
   "cell_type": "code",
   "execution_count": 69,
   "id": "c008f389-e9bb-428b-9595-90daf3874410",
   "metadata": {},
   "outputs": [],
   "source": [
    "dsf.eval()"
   ]
  },
  {
   "cell_type": "code",
   "execution_count": 70,
   "id": "c8e5c014-3c3f-4ac6-a3b9-2f9a95730ae5",
   "metadata": {},
   "outputs": [],
   "source": [
    "if False:\n",
    "    from mayavi import mlab\n",
    "    mlab.options.backend = 'envisage'\n",
    "    mlab.options.offscreen = False # 'envisage'\n",
    "    f_strain = mlab.figure()\n",
    "    scene = mlab.get_engine().scenes[-1]\n",
    "    scene.name = 'stress'\n",
    "    scene.scene.background = (1.0, 1.0, 1.0)\n",
    "    scene.scene.foreground = (0.0, 0.0, 0.0)\n",
    "    scene.scene.z_plus_view()\n",
    "    scene.scene.parallel_projection = True\n",
    "#     strain_viz = Viz3DTensorField(vis3d=dsf.hist['strain'])\n",
    "#     strain_viz.setup()\n",
    "#     strain_viz.warp_vector.filter.scale_factor = 20\n",
    "#     strain_viz.plot(0)\n",
    "    stress_viz = Viz3DTensorField(vis3d=dsf.hist['stress'])\n",
    "    stress_viz.setup()\n",
    "    stress_viz.warp_vector.filter.scale_factor = 20\n",
    "    stress_viz.plot(0)\n",
    "#     damage_viz = Viz3DScalarField(vis3d=dsf.hist['damage'])\n",
    "#     damage_viz.setup()\n",
    "#     damage_viz.warp_vector.filter.scale_factor = 20\n",
    "#     damage_viz.plot(0)\n",
    "    mlab.show()"
   ]
  },
  {
   "cell_type": "markdown",
   "id": "6e60b8e7-be75-400a-ac39-9539fdfe6958",
   "metadata": {},
   "source": [
    "# Structured data of the damage field"
   ]
  },
  {
   "cell_type": "code",
   "execution_count": 71,
   "id": "f7110b76-db03-43e8-9442-18463fd4f3f2",
   "metadata": {},
   "outputs": [],
   "source": [
    "t_idx = 25\n",
    "kappa_Emr = dsf.hist.state_vars[t_idx][0]['kappa']\n",
    "omega_Emr = dsf.hist.state_vars[t_idx][0]['omega']"
   ]
  },
  {
   "cell_type": "code",
   "execution_count": 72,
   "id": "a7c3a636-e3b1-4e29-899f-3e9ad0bde0d0",
   "metadata": {},
   "outputs": [],
   "source": [
    "phi_Emab = dsf.tmodel._get_phi_Emab(kappa_Emr)"
   ]
  },
  {
   "cell_type": "code",
   "execution_count": 73,
   "id": "cf2a1371-6d62-475f-aa59-40cd2742740f",
   "metadata": {},
   "outputs": [],
   "source": [
    "omega_Em = np.max(omega_Emr, axis=-1)"
   ]
  },
  {
   "cell_type": "code",
   "execution_count": 74,
   "id": "7dcaa18f-0876-4809-8e8f-ee802d53c7ae",
   "metadata": {},
   "outputs": [],
   "source": [
    "X_pa = dsf.xmodel.x_Ema.reshape(-1,2)"
   ]
  },
  {
   "cell_type": "code",
   "execution_count": 75,
   "id": "239299ac-a046-4c31-a04e-4db9ee5f9cae",
   "metadata": {},
   "outputs": [
    {
     "data": {
      "application/vnd.jupyter.widget-view+json": {
       "model_id": "e216cb274b554a29bc652d27c0199637",
       "version_major": 2,
       "version_minor": 0
      },
      "text/plain": [
       "Canvas(toolbar=Toolbar(toolitems=[('Home', 'Reset original view', 'home', 'home'), ('Back', 'Back to previous …"
      ]
     },
     "metadata": {},
     "output_type": "display_data"
    }
   ],
   "source": [
    "fig, ax = plt.subplots(1,1)\n",
    "ax.scatter(*X_pa.T, s=15*omega_Em.flatten(), color='red', alpha=0.4)\n",
    "ax.axis('equal');"
   ]
  },
  {
   "cell_type": "markdown",
   "id": "54634724-48bf-4cce-8df8-5ffc0a629eaf",
   "metadata": {},
   "source": [
    "Rearrange the regular element grid with integration points into a 2D point grid  "
   ]
  },
  {
   "cell_type": "code",
   "execution_count": 76,
   "id": "bc09794f-2503-421e-a088-e8fbbdde6628",
   "metadata": {},
   "outputs": [],
   "source": [
    "n_E, n_F = dic_grid.n_x-1, dic_grid.n_y-1\n",
    "x_EFmna = dsf.xmodel.x_Ema[:,(0,3,1,2)].reshape(n_E, n_F, 2, 2, 2)\n",
    "x_EmFna = np.einsum('EFmna->EmFna', x_EFmna)\n",
    "x_MNa = x_EmFna.reshape(2*n_E, 2*n_F, 2)\n",
    "x_aMN = np.einsum('MNa->aMN', x_MNa)"
   ]
  },
  {
   "cell_type": "markdown",
   "id": "bcbfb9a4-1d6f-413d-a13f-68260daa7ae4",
   "metadata": {},
   "source": [
    "Rearrange the damage field"
   ]
  },
  {
   "cell_type": "code",
   "execution_count": 77,
   "id": "88d1e818-f38d-410f-a886-de3029e3c33a",
   "metadata": {},
   "outputs": [],
   "source": [
    "omega_EFmn = omega_Em[:,(0,3,1,2)].reshape(n_E, n_F, 2, 2)\n",
    "omega_EmFn = np.einsum('EFmn->EmFn', omega_EFmn)\n",
    "omega_MN = omega_EmFn.reshape(2*n_E, 2*n_F)"
   ]
  },
  {
   "cell_type": "markdown",
   "id": "c78faaaf-2832-4050-8c7b-8fe149ca0111",
   "metadata": {},
   "source": [
    "Rearrange the strain field"
   ]
  },
  {
   "cell_type": "code",
   "execution_count": 78,
   "id": "800ca5d7-5cc1-4319-a30d-304d8c500560",
   "metadata": {},
   "outputs": [],
   "source": [
    "U_o = dsf.hist.U_t[t_idx]\n",
    "eps_Emab = dsf.xmodel.map_U_to_field(U_o)\n",
    "eps_EFmnab = eps_Emab[:, (0, 3, 1, 2)].reshape(n_E, n_F, 2, 2, 2, 2)\n",
    "eps_EmFnab = np.einsum('EFmnab->EmFnab', eps_EFmnab)\n",
    "eps_MNab = eps_EmFnab.reshape(2*n_E, 2*n_F, 2, 2)\n",
    "delta_23 = np.array([[1, 0, 0],[0, 1, 0]])\n",
    "eps_MNab = np.einsum('MNab,ac,bd->MNcd', eps_MNab, delta_23, delta_23)"
   ]
  },
  {
   "cell_type": "code",
   "execution_count": 79,
   "id": "3c5d5268-b440-47a1-b27f-e1bf65013018",
   "metadata": {},
   "outputs": [
    {
     "data": {
      "application/vnd.jupyter.widget-view+json": {
       "model_id": "45f28f175fdd416db99efcf30cade7f0",
       "version_major": 2,
       "version_minor": 0
      },
      "text/plain": [
       "Canvas(toolbar=Toolbar(toolitems=[('Home', 'Reset original view', 'home', 'home'), ('Back', 'Back to previous …"
      ]
     },
     "metadata": {},
     "output_type": "display_data"
    },
    {
     "data": {
      "text/plain": [
       "0.020816914234722154"
      ]
     },
     "execution_count": 79,
     "metadata": {},
     "output_type": "execute_result"
    }
   ],
   "source": [
    "eps_MNa, _ = np.linalg.eig(eps_MNab)\n",
    "max_eps_MN = np.max(eps_MNa, axis=-1)\n",
    "fig, ax = plt.subplots(1, 1, figsize=(8,3))\n",
    "cs = ax.contour(x_aMN[0], x_aMN[1], max_eps_MN, cmap=cm.coolwarm)\n",
    "ax.clabel(cs, inline=1, fontsize=10)\n",
    "ax.axis('equal')\n",
    "np.max(max_eps_MN)"
   ]
  },
  {
   "cell_type": "code",
   "execution_count": 80,
   "id": "eafbb2d6-f04d-4e38-8e44-56cf23892aa5",
   "metadata": {},
   "outputs": [],
   "source": [
    "sig_Emab, _ = dsf.tmodel.get_corr_pred(eps_Emab, 1, kappa_Emr, omega_Emr)\n",
    "sig_EFmnab = sig_Emab[:,(0,3,1,2)].reshape(n_E, n_F, 2, 2, 2, 2)\n",
    "sig_EmFnab = np.einsum('EFmnab->EmFnab', sig_EFmnab)\n",
    "sig_MNab = sig_EmFnab.reshape(2*n_E, 2*n_F, 2, 2)\n",
    "delta_23 = np.array([[1, 0, 0],[0, 1, 0]])\n",
    "sig_MNab = np.einsum('MNab,ac,bd->MNcd', sig_MNab, delta_23, delta_23)"
   ]
  },
  {
   "cell_type": "code",
   "execution_count": 81,
   "id": "4e30ca0c-5bd8-490b-9af6-6aab82f6f792",
   "metadata": {},
   "outputs": [
    {
     "data": {
      "application/vnd.jupyter.widget-view+json": {
       "model_id": "e917e1538d304499b98a8cea27b7a6a4",
       "version_major": 2,
       "version_minor": 0
      },
      "text/plain": [
       "Canvas(toolbar=Toolbar(toolitems=[('Home', 'Reset original view', 'home', 'home'), ('Back', 'Back to previous …"
      ]
     },
     "metadata": {},
     "output_type": "display_data"
    },
    {
     "data": {
      "text/plain": [
       "(4.649147038914116, 1271.3508529610858, 4.649147038914116, 303.3508529610859)"
      ]
     },
     "execution_count": 81,
     "metadata": {},
     "output_type": "execute_result"
    }
   ],
   "source": [
    "sig_MNa, _ = np.linalg.eig(sig_MNab)\n",
    "max_sig_MN = np.max(sig_MNa, axis=-1)\n",
    "fig, ax = plt.subplots(1, 1, figsize=(8,3))\n",
    "cs = ax.contour(x_aMN[0], x_aMN[1], max_sig_MN, cmap=cm.coolwarm)\n",
    "ax.clabel(cs, inline=1, fontsize=10)\n",
    "ax.axis('equal')"
   ]
  },
  {
   "cell_type": "code",
   "execution_count": 82,
   "id": "2ee05b50-01b6-431d-9c04-d6443a8ef8db",
   "metadata": {},
   "outputs": [
    {
     "data": {
      "application/vnd.jupyter.widget-view+json": {
       "model_id": "b5fa0862bb4043c0bdaceea4154a8368",
       "version_major": 2,
       "version_minor": 0
      },
      "text/plain": [
       "Canvas(toolbar=Toolbar(toolitems=[('Home', 'Reset original view', 'home', 'home'), ('Back', 'Back to previous …"
      ]
     },
     "metadata": {},
     "output_type": "display_data"
    },
    {
     "data": {
      "text/plain": [
       "(4.649147038914116, 1271.3508529610858, 4.649147038914116, 303.3508529610859)"
      ]
     },
     "execution_count": 82,
     "metadata": {},
     "output_type": "execute_result"
    }
   ],
   "source": [
    "from matplotlib import cm\n",
    "fig, ax = plt.subplots(1, 1, figsize=(8,3))\n",
    "ax.contour(x_aMN[0], x_aMN[1], omega_MN, cmap=cm.coolwarm)\n",
    "ax.axis('equal')"
   ]
  },
  {
   "cell_type": "code",
   "execution_count": 83,
   "id": "3f91a6fa-63a3-4617-88ee-58c5c2e50344",
   "metadata": {},
   "outputs": [],
   "source": [
    "phi_EFmnab = phi_Emab[:, (0, 3, 1, 2)].reshape(n_E, n_F, 2, 2, 2, 2)\n",
    "phi_EmFnab = np.einsum('EFmnab->EmFnab', phi_EFmnab)\n",
    "omega_MNab = np.identity(2)[np.newaxis, np.newaxis, ...] - phi_EmFnab.reshape(2*n_E, 2*n_F, 2, 2)\n",
    "delta_23 = np.array([[1, 0, 0],[0, 1, 0]])\n",
    "omega_MNab = np.einsum('MNab,ac,bd->MNcd', omega_MNab, delta_23, delta_23)\n",
    "omega_MNa, _ = np.linalg.eig(omega_MNab)\n",
    "omega_MN = np.max(omega_MNa, axis=-1)\n",
    "omega_MN[omega_MN < 0.3] = 0"
   ]
  },
  {
   "cell_type": "code",
   "execution_count": 84,
   "id": "93083104-979f-4e92-92e9-166257a8c4f2",
   "metadata": {},
   "outputs": [
    {
     "data": {
      "application/vnd.jupyter.widget-view+json": {
       "model_id": "774b0891522c4829b8500e45b207a510",
       "version_major": 2,
       "version_minor": 0
      },
      "text/plain": [
       "Canvas(toolbar=Toolbar(toolitems=[('Home', 'Reset original view', 'home', 'home'), ('Back', 'Back to previous …"
      ]
     },
     "metadata": {},
     "output_type": "display_data"
    },
    {
     "data": {
      "text/plain": [
       "(4.649147038914116, 1271.3508529610858, 4.649147038914116, 303.3508529610859)"
      ]
     },
     "execution_count": 84,
     "metadata": {},
     "output_type": "execute_result"
    }
   ],
   "source": [
    "fig, ax = plt.subplots(1, 1, figsize=(8,3))\n",
    "ax.contour(x_aMN[0], x_aMN[1], omega_MN, cmap=cm.coolwarm)\n",
    "ax.axis('equal')"
   ]
  },
  {
   "cell_type": "code",
   "execution_count": 85,
   "id": "97759862-7294-4d7c-83fb-620d8168791a",
   "metadata": {},
   "outputs": [],
   "source": [
    "eps_Ema, _ = np.linalg.eig(eps_Emab)\n",
    "max_eps_Em = np.max(eps_Ema, axis=-1)\n",
    "arg_max_eps = np.argmax(max_eps_Em, axis=None)\n",
    "arg_Em = np.unravel_index(arg_max_eps, max_eps_Em.shape)"
   ]
  },
  {
   "cell_type": "code",
   "execution_count": 86,
   "id": "bd1ce7ab-82af-469e-88d1-cccac4ebb6e3",
   "metadata": {},
   "outputs": [],
   "source": [
    "arg_eps = eps_Emab[arg_Em]\n",
    "arg_phi = phi_Emab[arg_Em]\n",
    "arg_kappa = kappa_Emr[arg_Em]\n",
    "arg_omega = omega_Emr[arg_Em]"
   ]
  },
  {
   "cell_type": "code",
   "execution_count": 87,
   "id": "6923524c-b243-4e6d-88c2-63e33b856bcd",
   "metadata": {},
   "outputs": [
    {
     "data": {
      "text/plain": [
       "array([[-0.0161455 ,  0.12518003],\n",
       "       [ 0.12518003, -0.44714317]])"
      ]
     },
     "execution_count": 87,
     "metadata": {},
     "output_type": "execute_result"
    }
   ],
   "source": [
    "dsf.tmodel.update_state_variables(arg_eps, arg_kappa, arg_omega)\n",
    "dsf.tmodel._get_phi_Emab(arg_kappa)\n",
    "beta_Emabcd = dsf.tmodel._get_beta_Emabcd(arg_phi)\n",
    "D_Emijab = np.einsum(\n",
    "            '...ijab, abef, ...cdef -> ...ijcd',\n",
    "            beta_Emabcd, dsf.tmodel.D_abef, beta_Emabcd\n",
    "        )\n",
    "sig_Emab = np.einsum('...abef,...ef -> ...ab', D_Emijab, arg_eps)\n",
    "sig_Emab"
   ]
  },
  {
   "cell_type": "code",
   "execution_count": 88,
   "id": "e1df1d31-e609-4cd3-8a6f-368bf4cd2296",
   "metadata": {},
   "outputs": [
    {
     "data": {
      "text/plain": [
       "(array([[ 0.02012349,  0.00381175],\n",
       "        [ 0.00381175, -0.00013636]]),\n",
       " array([0.02016638, 0.02051054, 0.0172427 , 0.01145562, 0.00516045,\n",
       "        0.00055881, 0.        , 0.00174691, 0.0070861 , 0.01344815,\n",
       "        0.01862211, 0.02080992, 0.01928962, 0.01455166, 0.00822967,\n",
       "        0.00252067, 0.        , 0.        , 0.00415554, 0.01027817,\n",
       "        0.01631435, 0.02016638]),\n",
       " array([[ 0.02172997, -0.05657826],\n",
       "        [-0.05657826,  0.35255155]]))"
      ]
     },
     "execution_count": 88,
     "metadata": {},
     "output_type": "execute_result"
    }
   ],
   "source": [
    "arg_eps, arg_kappa, arg_phi"
   ]
  },
  {
   "cell_type": "code",
   "execution_count": 89,
   "id": "fb5a65f4-8cfb-4314-9552-18a27b314eec",
   "metadata": {},
   "outputs": [
    {
     "data": {
      "application/vnd.jupyter.widget-view+json": {
       "model_id": "0b951de84b824d298ca7ac217a7d16c0",
       "version_major": 2,
       "version_minor": 0
      },
      "text/plain": [
       "Canvas(toolbar=Toolbar(toolitems=[('Home', 'Reset original view', 'home', 'home'), ('Back', 'Back to previous …"
      ]
     },
     "metadata": {},
     "output_type": "display_data"
    },
    {
     "data": {
      "text/plain": [
       "[<matplotlib.lines.Line2D at 0x7f3a87636ca0>]"
      ]
     },
     "execution_count": 89,
     "metadata": {},
     "output_type": "execute_result"
    }
   ],
   "source": [
    "kappa_zero = np.zeros_like(arg_kappa)\n",
    "omega_zero = np.zeros_like(arg_omega)\n",
    "eps_test = np.zeros_like(arg_eps)\n",
    "eps_range = np.linspace(0,0.02,100)\n",
    "sig_range = []\n",
    "for eps_i in eps_range:\n",
    "    eps_test[0,0] = eps_i\n",
    "    arg_sig, _ = dsf.tmodel.get_corr_pred(eps_test, 1, kappa_zero, omega_zero)\n",
    "    sig_range.append(arg_sig)\n",
    "fig, ax = plt.subplots(1,1)\n",
    "ax.plot(eps_range, np.array(sig_range)[:,0,0])"
   ]
  },
  {
   "cell_type": "code",
   "execution_count": 90,
   "id": "f1f8e726-f45e-4725-af42-21b2dbc5317e",
   "metadata": {},
   "outputs": [],
   "source": [
    "from numpy import mgrid, empty, sin, pi\n",
    "from tvtk.api import tvtk\n",
    "from mayavi import mlab"
   ]
  },
  {
   "cell_type": "code",
   "execution_count": 91,
   "id": "05c20981-0199-4e65-9c4b-ee5de19256bb",
   "metadata": {},
   "outputs": [],
   "source": [
    "# The actual points.\n",
    "pts_shape = x_aMN[0].shape + (1,)\n",
    "pts = np.empty(pts_shape + (3,), dtype=float)\n",
    "pts[..., 0] = x_aMN[0, ..., np.newaxis]\n",
    "pts[..., 1] = x_aMN[1, ..., np.newaxis]\n",
    "pts[..., 2] = omega_MN[..., np.newaxis] * 100 #  np.zeros_like(pts[...,1])\n",
    "pts = pts.transpose(2, 1, 0, 3).copy()\n",
    "pts.shape = int(pts.size / 3), 3"
   ]
  },
  {
   "cell_type": "code",
   "execution_count": 92,
   "id": "09a20170-b187-45ec-9bf6-5a405ee088a7",
   "metadata": {},
   "outputs": [],
   "source": [
    "if False:\n",
    "    sg = tvtk.StructuredGrid(dimensions=pts_shape, points=pts)\n",
    "    sg.point_data.scalars = np.einsum('MN...->NM...', omega_MN).ravel()\n",
    "    sg.point_data.scalars.name = 'damage'\n",
    "    sg.point_data.tensors = np.einsum('MN...->NM...', eps_MNab).reshape(-1,9)\n",
    "    sg.point_data.tensors.name = 'strain'\n",
    "    sg.point_data.tensors = np.einsum('MN...->NM...', sig_MNab).reshape(-1,9)\n",
    "    sg.point_data.tensors.name = 'stress'\n",
    "    sg.point_data.tensors = np.einsum('MN...->NM...', omega_MNab).reshape(-1,9)\n",
    "    sg.point_data.tensors.name = 'omega'\n",
    "    # Now visualize the data.\n",
    "    d = mlab.pipeline.add_dataset(sg)\n",
    "    iso = mlab.pipeline.iso_surface(d)\n",
    "    surf = mlab.pipeline.surface(d)\n",
    "    mlab.show()"
   ]
  },
  {
   "cell_type": "markdown",
   "id": "dfa00c74-ea02-4fce-be23-6a6e792076b8",
   "metadata": {},
   "source": [
    "# Interpolate damage field"
   ]
  },
  {
   "cell_type": "code",
   "execution_count": 93,
   "id": "9eb07649-059c-47fd-9db1-1cf67fb209ee",
   "metadata": {},
   "outputs": [],
   "source": [
    "from scipy.interpolate import interp2d"
   ]
  },
  {
   "cell_type": "code",
   "execution_count": 94,
   "id": "0ae329c3-f801-4e5d-b1d5-757a9c005d6e",
   "metadata": {},
   "outputs": [],
   "source": [
    "x_0 = x_aMN[0, :, 0]\n",
    "x_1 = x_aMN[1, 0, :]\n",
    "f_omega = interp2d(x_0, x_1, omega_MN.T, kind='cubic')"
   ]
  },
  {
   "cell_type": "code",
   "execution_count": 95,
   "id": "6ce29f3b-5fea-46d3-9c80-121faf7fd18d",
   "metadata": {},
   "outputs": [],
   "source": [
    "xnew = np.linspace(x_0[-1], x_0[0], 116)\n",
    "ynew = np.linspace(x_1[0], x_1[-1], 28)\n",
    "xx_NM, yy_NM = np.meshgrid(xnew, ynew)"
   ]
  },
  {
   "cell_type": "code",
   "execution_count": 96,
   "id": "76e50962-ffac-483b-86ca-379e3d8b3495",
   "metadata": {},
   "outputs": [],
   "source": [
    "f_omega_NM = f_omega(xnew, ynew)\n",
    "f_omega_NM[f_omega_NM < 0] = 0"
   ]
  },
  {
   "cell_type": "code",
   "execution_count": 97,
   "id": "4703e088-0424-4260-b401-45a5c75df280",
   "metadata": {},
   "outputs": [],
   "source": [
    "# The actual points.\n",
    "pts_shape = xx_NM.shape + (1,)\n",
    "pts = np.empty(pts_shape + (3,), dtype=float)\n",
    "pts[..., 0] = xx_NM[...,np.newaxis]\n",
    "pts[..., 1] = yy_NM[...,np.newaxis]\n",
    "pts[..., 2] = f_omega_NM[..., np.newaxis] * 100 #  np.zeros_like(pts[...,1])\n",
    "pts = pts.transpose(2, 1, 0, 3).copy()\n",
    "pts.shape = int(pts.size / 3), 3\n",
    "if True:\n",
    "    sg = tvtk.StructuredGrid(dimensions=pts_shape, points=pts)\n",
    "    sg.point_data.scalars = np.einsum('NM...->MN...', f_omega_NM).ravel()\n",
    "    sg.point_data.scalars.name = 'damage'\n",
    "    d = mlab.pipeline.add_dataset(sg)\n",
    "    iso = mlab.pipeline.iso_surface(d)\n",
    "    surf = mlab.pipeline.surface(d)\n",
    "    mlab.show()"
   ]
  },
  {
   "cell_type": "markdown",
   "id": "8c225c22-b4b3-4cd0-a7eb-74a1f787c626",
   "metadata": {},
   "source": [
    "# Smoothing"
   ]
  },
  {
   "cell_type": "code",
   "execution_count": 98,
   "id": "823170ad-6020-4f3a-bbbb-2961e41a3c91",
   "metadata": {},
   "outputs": [],
   "source": [
    "def get_z_MN_ironed(x_JK, y_JK, z_JK, RR):\n",
    "    n_J, n_K = x_JK.shape\n",
    "    min_x, max_x = np.min(x_JK), np.max(x_JK)\n",
    "    min_y, max_y = np.min(y_JK), np.max(y_JK)\n",
    "    len_x = max_x - min_x\n",
    "    len_y = max_y - min_y\n",
    "    nx_JK = (x_JK - min_x) / len_x\n",
    "    ny_JK = (y_JK - min_y) / len_y\n",
    "    d_x = len_x / n_J\n",
    "    d_y = len_y / n_K\n",
    "    a_dxdy = d_x * d_y\n",
    "    delta_x_JK = nx_JK[None, None, ...] - nx_JK[..., None, None]\n",
    "    delta_y_JK = ny_JK[None, None, ...] - ny_JK[..., None, None]\n",
    "    r2_n = (delta_x_JK**2 + delta_y_JK**2) / (2*RR**2) # (2*R**2)\n",
    "    alpha_r_MNJK = np.exp(-r2_n)\n",
    "    print(alpha_r_MNJK.shape, nx_JK[:,0].shape)\n",
    "    np.trapz(alpha_r_MNJK, nx_JK[:,0], axis=-2)\n",
    "    a_MN = np.trapz(np.trapz(alpha_r_MNJK, nx_JK[:, 0], axis=-2), ny_JK[0, :], axis=-1)\n",
    "    normed_a_MNJK = np.einsum('MNJK,MN->MNJK', alpha_r_MNJK, 1 / a_MN)\n",
    "    z_MNJK = np.einsum('...JK,JK->...JK',normed_a_MNJK, z_JK)\n",
    "    z_MN = np.trapz(np.trapz(z_MNJK, nx_JK[:, 0], axis=-2), ny_JK[0,:], axis=-1)\n",
    "    return z_MN"
   ]
  },
  {
   "cell_type": "code",
   "execution_count": 99,
   "id": "7f2f477f-120e-4de8-b6e8-5542d8d1a55d",
   "metadata": {},
   "outputs": [],
   "source": [
    "xx_MN, yy_MN, f_omega_MN = np.einsum('NM->MN', xx_NM), np.einsum('NM->MN', yy_NM), np.einsum('NM->MN', f_omega_NM)"
   ]
  },
  {
   "cell_type": "code",
   "execution_count": 100,
   "id": "9b244e6a-9002-41f4-9dc1-52065ac794b3",
   "metadata": {},
   "outputs": [
    {
     "name": "stdout",
     "output_type": "stream",
     "text": [
      "(116, 28, 116, 28) (116,)\n"
     ]
    }
   ],
   "source": [
    "fi_omega_MN = get_z_MN_ironed(xx_MN, yy_MN, f_omega_MN, 0.01)"
   ]
  },
  {
   "cell_type": "code",
   "execution_count": 101,
   "id": "24179dc5-e411-4257-a079-67d9e544c437",
   "metadata": {},
   "outputs": [],
   "source": [
    "# The actual points.\n",
    "pts_shape = xx_NM.shape + (1,)\n",
    "pts = np.empty(pts_shape + (3,), dtype=float)\n",
    "pts[..., 0] = xx_NM[...,np.newaxis]\n",
    "pts[..., 1] = yy_NM[...,np.newaxis]\n",
    "pts[..., 2] = fi_omega_MN.T[..., np.newaxis] * 100 #  np.zeros_like(pts[...,1])\n",
    "pts = pts.transpose(2, 1, 0, 3).copy()\n",
    "pts.shape = int(pts.size / 3), 3\n",
    "if True:\n",
    "    sg = tvtk.StructuredGrid(dimensions=pts_shape, points=pts)\n",
    "    sg.point_data.scalars = fi_omega_MN.ravel()\n",
    "    sg.point_data.scalars.name = 'damage'\n",
    "    d = mlab.pipeline.add_dataset(sg)\n",
    "    iso = mlab.pipeline.iso_surface(d)\n",
    "    surf = mlab.pipeline.surface(d)\n",
    "    mlab.show()"
   ]
  },
  {
   "cell_type": "code",
   "execution_count": 102,
   "id": "5e2efed9-ad76-4526-b9bc-dec522aa1ccf",
   "metadata": {},
   "outputs": [],
   "source": [
    "from scipy.signal import argrelextrema"
   ]
  },
  {
   "cell_type": "markdown",
   "id": "aa60fd6c-94c0-4f91-bce9-d49a93854e98",
   "metadata": {},
   "source": [
    "# Crack tracing algorithm"
   ]
  },
  {
   "cell_type": "code",
   "execution_count": 111,
   "id": "9a19b89b-0998-413e-95db-2e9cd0a8f5c2",
   "metadata": {},
   "outputs": [],
   "source": [
    "N_range = np.arange(len(ynew))\n",
    "omega_NM = fi_omega_MN.T\n",
    "n_N, n_M = omega_NM.shape\n",
    "omega_NM[omega_NM < 0.15] = 0  # cutoff small damage values\n",
    "# smooth the landscape\n",
    "# initial crack positions at the bottom of the zone\n",
    "arg_C = argrelextrema(omega_NM[0, :], np.greater)[0]\n",
    "# list of intervals decomposing the crack\n",
    "intervals_Cp_ = []\n",
    "# distance between right interval boundary and crack position\n",
    "arg_C_shift_ = []\n",
    "# list of crack horizontal indexes for each horizontal slice\n",
    "arg_x_NC_ = [np.copy(arg_C)]\n",
    "for N1 in N_range[1:]:\n",
    "    # horizontal indexes of midpoints between cracks\n",
    "    arg_C_left_ = np.hstack([[int(arg_C[0]/2)], np.array((0.25*arg_C[:-1] + 0.75*arg_C[1:]), dtype=np.int_)])\n",
    "    arg_C_right_ = arg_C + 1\n",
    "    # array of intervals - first index - crack, second index (left, right)\n",
    "    intervals_Cp = np.vstack([arg_C_left_, arg_C_right_]).T\n",
    "    # index distance from the right boundary of the crack interval\n",
    "    arg_C_shift = np.array([\n",
    "        np.argmax(omega_NM[N1, interval_p[-1]:interval_p[0]:-1])\n",
    "        for interval_p in intervals_Cp\n",
    "    ])\n",
    "    # cracks, for which the next point could be identified\n",
    "    C_shift = arg_C_shift>0\n",
    "    # next index position of the crack\n",
    "    arg_C[C_shift] = intervals_Cp[C_shift, -1] - arg_C_shift[C_shift]\n",
    "    arg_x_NC_.append(np.copy(arg_C))\n",
    "    # for debugging\n",
    "    intervals_Cp_.append(intervals_Cp)\n",
    "    arg_C_shift_.append(arg_C_shift)\n",
    "arg_x_NC = np.array(arg_x_NC_)"
   ]
  },
  {
   "cell_type": "code",
   "execution_count": 112,
   "id": "ccb84002-b612-4518-975a-0c895ccfb4e8",
   "metadata": {},
   "outputs": [],
   "source": [
    "n_C = arg_x_NC.shape[1]\n",
    "arg_y_C = np.arange(n_N)\n",
    "arg_y_NC = np.repeat(arg_y_C, n_C).reshape(n_N,-1)"
   ]
  },
  {
   "cell_type": "code",
   "execution_count": 113,
   "id": "76652ecb-1c19-45e0-b92b-a55127b3a0ff",
   "metadata": {},
   "outputs": [],
   "source": [
    "x_MN, y_MN, omega_MN = xx_NM.T, yy_NM.T, omega_NM.T"
   ]
  },
  {
   "cell_type": "code",
   "execution_count": 114,
   "id": "c92ddcb2-e370-4342-8312-bf048d2e0918",
   "metadata": {},
   "outputs": [
    {
     "data": {
      "application/vnd.jupyter.widget-view+json": {
       "model_id": "d1638df67f9b4028a1dc8d43f98b0738",
       "version_major": 2,
       "version_minor": 0
      },
      "text/plain": [
       "Canvas(toolbar=Toolbar(toolitems=[('Home', 'Reset original view', 'home', 'home'), ('Back', 'Back to previous …"
      ]
     },
     "metadata": {},
     "output_type": "display_data"
    },
    {
     "data": {
      "text/plain": [
       "(4.649147038914116, 1271.3508529610858, 4.649147038914116, 303.3508529610859)"
      ]
     },
     "execution_count": 114,
     "metadata": {},
     "output_type": "execute_result"
    }
   ],
   "source": [
    "fig, ax = plt.subplots(1,1, figsize=(8,3))\n",
    "ax.plot(x_MN[arg_x_NC, arg_y_NC], y_MN[arg_x_NC, arg_y_NC], color='black', linewidth=3);\n",
    "ax.contour(x_MN, y_MN, omega_MN, cmap=cm.coolwarm,\n",
    "                antialiased=False)\n",
    "ax.axis('equal')"
   ]
  },
  {
   "cell_type": "markdown",
   "id": "2cc49340",
   "metadata": {},
   "source": [
    "# Discussion of approaches to an automatic crack detection\n",
    "\n",
    "**The below discussion is currently not relevant.**\n",
    "\n",
    "The crack detection algorithm shown above\n",
    "exploits the knowledge that cracks start from the bottom and propagate upwards and left.\n",
    "Still I keep here for the case that a finite element approximation or variational approach\n",
    "to crack detection might become relevant in the future."
   ]
  },
  {
   "cell_type": "markdown",
   "id": "a5718527-7ae0-4dfa-af42-f1b68155aed1",
   "metadata": {},
   "source": [
    "The goal is to use the above field representation with the help of interpolation functions\n",
    "that can automatically detect the cracks and teeth at the ultimate state."
   ]
  },
  {
   "cell_type": "markdown",
   "id": "efa4d3f6",
   "metadata": {},
   "source": [
    "Interpolate the above grid using the shape functions\n",
    "$$\n",
    "e_E = N_{i} e_{Ei}\n",
    "$$"
   ]
  },
  {
   "cell_type": "markdown",
   "id": "4b33ab38",
   "metadata": {},
   "source": [
    "The derivative of the principle tensile strain field can then be constructed as\n",
    "$$\n",
    " \\nabla_\\boldsymbol{x} e_{E} = \\nabla_\\boldsymbol{x} N_i e_{Ei}\n",
    "$$"
   ]
  },
  {
   "cell_type": "markdown",
   "id": "579a93a8",
   "metadata": {},
   "source": [
    "Using the index notation $\\boldsymbol{x} = x_a$, we can rewrite this equation as\n",
    "$$\n",
    "e_{E,a} = N_{i,a} e_{Ei}\n",
    "$$"
   ]
  },
  {
   "cell_type": "markdown",
   "id": "c10fd55a",
   "metadata": {},
   "source": [
    "It is possible to pick also the direction of the principal tensile strain and then to \n",
    "use the approximation  "
   ]
  },
  {
   "cell_type": "markdown",
   "id": "366e0f38",
   "metadata": {},
   "source": [
    "# Model component: **DICStrainGrid**\n",
    "\n",
    "The above prototyping code has been implemented within the `DICStrainGrid` model component\n",
    "as part of the `DICInspector`"
   ]
  },
  {
   "cell_type": "code",
   "execution_count": 59,
   "id": "ddab9673",
   "metadata": {},
   "outputs": [],
   "source": [
    "from bmcs_shear.dic_crack import DICStrainGrid"
   ]
  },
  {
   "cell_type": "code",
   "execution_count": 60,
   "id": "7fae8827",
   "metadata": {},
   "outputs": [],
   "source": [
    "dic_eps = DICStrainGrid(dic_grid=dic_grid)"
   ]
  },
  {
   "cell_type": "code",
   "execution_count": 61,
   "id": "a880c209",
   "metadata": {},
   "outputs": [
    {
     "data": {
      "application/vnd.jupyter.widget-view+json": {
       "model_id": "5226e0180d3d464db4da51e79e0af884",
       "version_major": 2,
       "version_minor": 0
      },
      "text/plain": [
       "VBox(children=(HBox(children=(VBox(children=(Tree(layout=Layout(align_items='stretch', border='solid 1px black…"
      ]
     },
     "metadata": {},
     "output_type": "display_data"
    }
   ],
   "source": [
    "dic_eps.interact()"
   ]
  },
  {
   "cell_type": "code",
   "execution_count": null,
   "id": "76747cfd",
   "metadata": {},
   "outputs": [],
   "source": []
  }
 ],
 "metadata": {
  "kernelspec": {
   "display_name": "bmcs_env",
   "language": "python",
   "name": "bmcs_env"
  },
  "language_info": {
   "codemirror_mode": {
    "name": "ipython",
    "version": 3
   },
   "file_extension": ".py",
   "mimetype": "text/x-python",
   "name": "python",
   "nbconvert_exporter": "python",
   "pygments_lexer": "ipython3",
   "version": "3.8.8"
  }
 },
 "nbformat": 4,
 "nbformat_minor": 5
}
