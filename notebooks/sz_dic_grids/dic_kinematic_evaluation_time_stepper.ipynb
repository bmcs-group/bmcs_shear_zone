{
 "cells": [
  {
   "cell_type": "code",
   "execution_count": null,
   "id": "5fee2143",
   "metadata": {},
   "outputs": [],
   "source": [
    "import sympy as sp\n",
    "import numpy as np\n",
    "from os.path import expanduser, join\n",
    "import os\n",
    "import pandas as pd"
   ]
  },
  {
   "cell_type": "code",
   "execution_count": null,
   "id": "7990753a",
   "metadata": {},
   "outputs": [],
   "source": [
    "%matplotlib widget\n",
    "import ibvpy.api as ib\n",
    "import matplotlib.pylab as plt\n",
    "from matplotlib import cm\n",
    "from scipy.interpolate import interp2d\n",
    "from scipy.signal import argrelextrema\n",
    "from bmcs_shear.api import CrackBridgeAdv\n",
    "from bmcs_shear.dic_crack import\\\n",
    "    DICGrid, DICStateFields, DICCrackList, DICCrack, DICCrackCOR, DICAlignedGrid\n",
    "from bmcs_shear.shear_crack.crack_path import get_T_Lab\n",
    "import numpy as np\n",
    "import ibvpy.api as ib\n",
    "np.seterr(divide ='ignore', invalid='ignore');"
   ]
  },
  {
   "cell_type": "code",
   "execution_count": null,
   "id": "25ea590b",
   "metadata": {},
   "outputs": [],
   "source": [
    "dic_grid = DICGrid(U_factor=100, dir_name='B1_TV1')\n",
    "dsf = DICStateFields(dic_grid=dic_grid, R = 8)\n",
    "dsf.tmodel_.trait_set(E=5000, c_T=0, nu=0.18, epsilon_0=0.0005, epsilon_f=0.01);\n",
    "dsf.eval()\n",
    "dcl = DICCrackList(dsf=dsf)\n",
    "dcl.identify_cracks()\n",
    "crack_s = dcl.items['3']\n",
    "crack_s.trait_set(d_x=44)"
   ]
  },
  {
   "cell_type": "code",
   "execution_count": null,
   "id": "569b4f8c",
   "metadata": {},
   "outputs": [],
   "source": [
    "U_bottom = []\n",
    "V_bottom = []\n",
    "F = []\n",
    "for t in np.linspace(0,1,10):\n",
    "    print('t =', t )\n",
    "    print('F', dic_grid.F_T_t) #1\n",
    "    dic_grid.t = t \n",
    "    U_bottom.append(crack_s.sp.u_t_crc_Kb[0][0])\n",
    "    V_bottom.append(crack_s.sp.u_t_crc_Kb[0][1])\n",
    "    F.append(dic_grid.F_T_t) #1\n",
    "U_bottom, F, V_bottom"
   ]
  },
  {
   "cell_type": "code",
   "execution_count": null,
   "id": "c670ccb4",
   "metadata": {},
   "outputs": [],
   "source": []
  }
 ],
 "metadata": {
  "kernelspec": {
   "display_name": "bmcs_env",
   "language": "python",
   "name": "bmcs_env"
  },
  "language_info": {
   "codemirror_mode": {
    "name": "ipython",
    "version": 3
   },
   "file_extension": ".py",
   "mimetype": "text/x-python",
   "name": "python",
   "nbconvert_exporter": "python",
   "pygments_lexer": "ipython3"
  }
 },
 "nbformat": 4,
 "nbformat_minor": 5
}
