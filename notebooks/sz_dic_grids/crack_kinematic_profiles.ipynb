{
 "cells": [
  {
   "cell_type": "code",
   "execution_count": 1,
   "id": "22fa5cd7",
   "metadata": {},
   "outputs": [],
   "source": [
    "%matplotlib widget\n",
    "import ibvpy.api as ib\n",
    "import matplotlib.pylab as plt\n",
    "from matplotlib import cm\n",
    "from scipy.interpolate import interp2d\n",
    "from scipy.signal import argrelextrema\n",
    "from bmcs_shear.api import CrackBridgeAdv\n",
    "from bmcs_shear.dic_crack import\\\n",
    "    DICGrid, DICStateFields, DICCrackList, DICCrack, DICCrackCOR, DICAlignedGrid\n",
    "from bmcs_shear.shear_crack.crack_path import get_T_Lab\n",
    "import numpy as np\n",
    "import ibvpy.api as ib\n",
    "np.seterr(divide ='ignore', invalid='ignore');"
   ]
  },
  {
   "cell_type": "code",
   "execution_count": 2,
   "id": "b44d37f4",
   "metadata": {},
   "outputs": [
    {
     "data": {
      "application/vnd.jupyter.widget-view+json": {
       "model_id": "346e674256f84f73baba58b68d62ee40",
       "version_major": 2,
       "version_minor": 0
      },
      "text/plain": [
       "VBox(children=(HBox(children=(VBox(children=(Tree(layout=Layout(align_items='stretch', border='solid 1px black…"
      ]
     },
     "metadata": {},
     "output_type": "display_data"
    }
   ],
   "source": [
    "from bmcs_shear.dic_crack import DICStressProfile\n",
    "dic_grid = DICGrid(U_factor=100, dir_name='B7_TV1', t=1)\n",
    "#dic_grid = DICGrid(start_t=0, end_t=1, U_factor=100, dir_name='B9_TV1', t=1)\n",
    "dsf = DICStateFields(dic_grid=dic_grid)\n",
    "l_cb = dic_grid.d_x * 1\n",
    "dsf.tmodel_.trait_set(E=5000, c_T=0, nu=0.18, epsilon_0=0.0005, epsilon_f=0.02/l_cb, eps_max=0.005);\n",
    "dsf.eval()\n",
    "\n",
    "dcl = DICCrackList(dsf=dsf)\n",
    "dcl.identify_cracks()\n",
    "dcl.interact()"
   ]
  },
  {
   "cell_type": "code",
   "execution_count": 3,
   "id": "6a25c220-ef57-44d3-bb56-0f6847862513",
   "metadata": {},
   "outputs": [
    {
     "data": {
      "application/vnd.jupyter.widget-view+json": {
       "model_id": "cac13cf30faa45dcaccebbac72ad906e",
       "version_major": 2,
       "version_minor": 0
      },
      "text/plain": [
       "VBox(children=(HBox(children=(VBox(children=(Tree(layout=Layout(align_items='stretch', border='solid 1px black…"
      ]
     },
     "metadata": {},
     "output_type": "display_data"
    }
   ],
   "source": [
    "crack_s = dcl.items['0']\n",
    "crack_s.interact()"
   ]
  },
  {
   "cell_type": "code",
   "execution_count": 4,
   "id": "85fb12bc-5cd5-46f7-b7f9-d435daa8877f",
   "metadata": {},
   "outputs": [],
   "source": [
    "dc_cor = DICCrackCOR(dic_crack = crack_s)\n",
    "sp = DICStressProfile(dic_crack = crack_s)"
   ]
  },
  {
   "cell_type": "code",
   "execution_count": null,
   "id": "680f2f42",
   "metadata": {},
   "outputs": [],
   "source": [
    "import bmcs_utils.api as bu\n",
    "fig, ax = plt.subplots()\n",
    "crack_s.plot_u_t_crc_Kb(ax)\n",
    "x1, x2 = ax.get_xlim()\n",
    "ax2=ax.twiny()\n",
    "crack_s.plot_eps_t_Kab(ax2)\n",
    "ax2.set_xlim([-0.0020,0.0020])\n",
    "ax.set_xlim([-0.1,0.5])\n",
    "plt.ylim([0, 350])\n",
    "bu.mpl_align_xaxis(ax, ax2)\n",
    "plt.show()"
   ]
  },
  {
   "cell_type": "code",
   "execution_count": 6,
   "id": "f9a88636",
   "metadata": {},
   "outputs": [],
   "source": [
    "import bmcs_utils.api as bu\n",
    "crack_s.cor.trait_set(step_N_COR=2)\n",
    "fig, ax = plt.subplots()\n",
    "crack_s.plot_x_1_Ka(ax)\n",
    "crack_s.cor.plot_VW_rot_t(ax)\n",
    "crack_s.cor.plot_X_cor_rot_t(ax)"
   ]
  },
  {
   "cell_type": "code",
   "execution_count": null,
   "id": "4973cef7",
   "metadata": {},
   "outputs": [],
   "source": []
  }
 ],
 "metadata": {
  "kernelspec": {
   "display_name": "Python 3 (ipykernel)",
   "language": "python",
   "name": "python3"
  },
  "language_info": {
   "codemirror_mode": {
    "name": "ipython",
    "version": 3
   },
   "file_extension": ".py",
   "mimetype": "text/x-python",
   "name": "python",
   "nbconvert_exporter": "python",
   "pygments_lexer": "ipython3",
   "version": "3.9.0"
  }
 },
 "nbformat": 4,
 "nbformat_minor": 5
}
