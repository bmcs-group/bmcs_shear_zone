{
 "cells": [
  {
   "cell_type": "code",
   "execution_count": null,
   "id": "22fa5cd7",
   "metadata": {
    "pycharm": {
     "name": "#%%\n"
    }
   },
   "outputs": [],
   "source": [
    "%matplotlib widget\n",
    "import ibvpy.api as ib\n",
    "import matplotlib.pylab as plt\n",
    "from matplotlib import cm\n",
    "from scipy.interpolate import interp2d\n",
    "from scipy.signal import argrelextrema\n",
    "from bmcs_shear.api import CrackBridgeAdv\n",
    "from bmcs_shear.dic_crack import\\\n",
    "    DICGrid, DICStateFields, DICCrackList, DICCrack, DICCrackCOR, DICAlignedGrid\n",
    "from bmcs_shear.shear_crack.crack_path import get_T_Lab\n",
    "import numpy as np\n",
    "import ibvpy.api as ib\n",
    "np.seterr(divide ='ignore', invalid='ignore');\n",
    "import collections\n",
    "collections.Iterable = collections.abc.Iterable"
   ]
  },
  {
   "cell_type": "code",
   "execution_count": null,
   "id": "273d64bc-db39-4cb3-a320-b78d78f0d918",
   "metadata": {},
   "outputs": [],
   "source": [
    "dic_grid = DICGrid(U_factor=100, dir_name='B10_TV1', t=1)"
   ]
  },
  {
   "cell_type": "code",
   "execution_count": null,
   "id": "65ca1b3c-e0b4-4754-8fa3-dae0efc3f87c",
   "metadata": {},
   "outputs": [],
   "source": [
    "dic_grid.sz_bd.system_"
   ]
  },
  {
   "cell_type": "code",
   "execution_count": null,
   "id": "12a17a32-97ed-4765-a8b3-782e3c6fda9c",
   "metadata": {},
   "outputs": [],
   "source": [
    "dic_grid.read_beam_design()"
   ]
  },
  {
   "cell_type": "code",
   "execution_count": null,
   "id": "b44d37f4",
   "metadata": {
    "pycharm": {
     "name": "#%%\n"
    }
   },
   "outputs": [],
   "source": [
    "from bmcs_shear.dic_crack import DICStressProfile\n",
    "#dic_grid = DICGrid(start_t=0, end_t=1, U_factor=100, dir_name='B9_TV1', t=1)\n",
    "dsf = DICStateFields(dic_grid=dic_grid)"
   ]
  },
  {
   "cell_type": "code",
   "execution_count": null,
   "id": "af0c191b-d31a-4353-b9bf-6bf6ead4c94e",
   "metadata": {},
   "outputs": [],
   "source": [
    "l_cb = dic_grid.d_x * 1\n",
    "dsf.tmodel_.trait_set(E=5000, c_T=0, nu=0.18, epsilon_0=0.0005, epsilon_f=0.02/l_cb, eps_max=0.005);\n",
    "dsf.eval()"
   ]
  },
  {
   "cell_type": "code",
   "execution_count": null,
   "id": "f98fa4a0-165b-4f38-a44c-848949002e2f",
   "metadata": {},
   "outputs": [],
   "source": [
    "a_grid = DICAlignedGrid(dsf=dsf)"
   ]
  },
  {
   "cell_type": "code",
   "execution_count": null,
   "id": "8e58c334-feb7-4dd2-a6ba-efea21fdc0f3",
   "metadata": {},
   "outputs": [],
   "source": [
    "a_grid.interact()"
   ]
  },
  {
   "cell_type": "code",
   "execution_count": null,
   "id": "64ef8c32-9805-478d-889f-002f59fb7315",
   "metadata": {},
   "outputs": [],
   "source": [
    "dcl = DICCrackList(dsf=dsf)\n",
    "dcl.identify_cracks()\n",
    "dcl.interact()"
   ]
  },
  {
   "cell_type": "code",
   "execution_count": null,
   "id": "6a25c220-ef57-44d3-bb56-0f6847862513",
   "metadata": {
    "pycharm": {
     "name": "#%%\n"
    }
   },
   "outputs": [],
   "source": [
    "crack_s = dcl.items['6']\n",
    "crack_s.interact()"
   ]
  },
  {
   "cell_type": "code",
   "execution_count": null,
   "id": "85fb12bc-5cd5-46f7-b7f9-d435daa8877f",
   "metadata": {
    "pycharm": {
     "name": "#%%\n"
    }
   },
   "outputs": [],
   "source": [
    "dc_cor = DICCrackCOR(dic_crack = crack_s)\n",
    "sp = DICStressProfile(dic_crack = crack_s)"
   ]
  },
  {
   "cell_type": "code",
   "execution_count": null,
   "id": "680f2f42",
   "metadata": {
    "pycharm": {
     "name": "#%%\n"
    }
   },
   "outputs": [],
   "source": [
    "import bmcs_utils.api as bu\n",
    "fig, ax = plt.subplots()\n",
    "crack_s.plot_u_t_crc_Kb(ax)\n",
    "x1, x2 = ax.get_xlim()\n",
    "ax2=ax.twiny()\n",
    "crack_s.plot_eps_t_Kab(ax2)\n",
    "ax2.set_xlim([-0.0020,0.0020])\n",
    "ax.set_xlim([-0.1,0.5])\n",
    "plt.ylim([0, 350])\n",
    "bu.mpl_align_xaxis(ax, ax2)\n",
    "plt.show()"
   ]
  },
  {
   "cell_type": "code",
   "execution_count": null,
   "id": "bbcaa750-9ff8-46f7-88a6-dc7422af2c99",
   "metadata": {},
   "outputs": [],
   "source": [
    "x_t_cor_a = crack_s.cor.X_cor_rot_t_a\n",
    "x_t_cor_pa = crack_s.cor.X_cor_rot_t_pa_sol\n",
    "v_rot_t_pa, W_rot_pa = crack_s.cor.VW_rot_t_pa\n",
    "x_t_cor_a"
   ]
  },
  {
   "cell_type": "code",
   "execution_count": null,
   "id": "a64c0da7-82c8-463b-9dc8-682cba0948af",
   "metadata": {},
   "outputs": [],
   "source": [
    "a_grid = crack_s.cl.a_grid\n",
    "X0_t_a = a_grid.X_t_MNa[a_grid.M0, a_grid.N0]\n",
    "X0_t_a"
   ]
  },
  {
   "cell_type": "code",
   "execution_count": null,
   "id": "cf016412-1cf0-4917-878a-5a1fe29e142c",
   "metadata": {},
   "outputs": [],
   "source": [
    "x_t_cor_a_ = np.einsum('a, ab->b', x_t_cor_a, a_grid.T_t_ab)\n",
    "x_t_cor_pa_ = np.einsum('pa, ab->pb', x_t_cor_pa, a_grid.T_t_ab)\n",
    "v_rot_t_pa_ = np.einsum('pa, ab->pb', v_rot_t_pa, a_grid.T_t_ab)"
   ]
  },
  {
   "cell_type": "code",
   "execution_count": null,
   "id": "6526cebe-a3d7-4f1a-92d7-61e22ec9075b",
   "metadata": {},
   "outputs": [],
   "source": [
    "x_t_cor_a_ = np.einsum('ba,...a->...b', a_grid.T_t_ab, x_t_cor_a)\n",
    "x_t_cor_pa_ = np.einsum('ba,...a->...b', a_grid.T_t_ab, x_t_cor_pa)\n",
    "v_rot_t_pa_ = np.einsum('ba,...a->...b', a_grid.T_t_ab, v_rot_t_pa)\n",
    "#np.einsum('ba,...a->...b', self.T_ab, self.X_pull_MNa)"
   ]
  },
  {
   "cell_type": "code",
   "execution_count": null,
   "id": "ce399ff0-b095-46ab-a89f-2aeda9bc2bdd",
   "metadata": {},
   "outputs": [],
   "source": [
    "X_t_cor_a = x_t_cor_a_ + X0_t_a\n",
    "X_t_cor_pa = x_t_cor_pa_ + X0_t_a[np.newaxis, :]\n",
    "V_rot_t_pa = v_rot_t_pa_ + X0_t_a[np.newaxis, :]"
   ]
  },
  {
   "cell_type": "code",
   "execution_count": null,
   "id": "f9a88636",
   "metadata": {
    "pycharm": {
     "name": "#%%\n"
    }
   },
   "outputs": [],
   "source": [
    "%matplotlib widget\n",
    "import bmcs_utils.api as bu\n",
    "crack_s.cor.trait_set(step_N_COR=2)\n",
    "fig, ax = plt.subplots()\n",
    "dcl.dsf.dic_grid.plot_bounding_box(ax)\n",
    "dcl.dsf.dic_grid.plot_box_annotate(ax)\n",
    "crack_s.bd.plot_sz_bd(ax)\n",
    "\n",
    "crack_s.plot_x_1_Ka(ax)\n",
    "ax.plot(*V_rot_t_pa.T, 'o', color='orange');\n",
    "ax.plot(*X_t_cor_pa.T, 'o', color='blue');\n",
    "ax.plot([X_t_cor_a[0]], [X_t_cor_a[1]], 'o', color='red');\n",
    "ax.axis('equal');\n",
    "# crack_s.cor.plot_VW_rot_t(ax)\n",
    "#crack_s.cor.plot_X_cor_rot_t(ax)"
   ]
  },
  {
   "cell_type": "markdown",
   "id": "13ee8e36-0aad-4a61-afe5-0d0922646eee",
   "metadata": {
    "pycharm": {
     "name": "#%%\n"
    }
   },
   "source": [
    "Transformation between global system and the crack-centered coordinates and displacements must verified - nomenclature of the symbols `X` is the global `x` is the local symbol. Pull and and align used in a_grid expresses the displacements in the local coordinate system. Inversally rotate and push must be done to return from local to global system. "
   ]
  },
  {
   "cell_type": "code",
   "execution_count": null,
   "id": "a5cad465-b0ab-48d1-8364-08d5d4bc5e41",
   "metadata": {},
   "outputs": [],
   "source": [
    "fig, ax = plt.subplots()\n",
    "dic_grid.plot_load_deflection(ax)\n",
    "ax.set_xlim([0,8])\n",
    "plt.savefig(\"B10_V1LDd.pdf\", format=\"pdf\")\n",
    "#ax_load.xlim([0,8])"
   ]
  },
  {
   "cell_type": "code",
   "execution_count": null,
   "id": "37896f77",
   "metadata": {},
   "outputs": [],
   "source": []
  }
 ],
 "metadata": {
  "kernelspec": {
   "display_name": "bmcs_env",
   "language": "python",
   "name": "bmcs_env"
  },
  "language_info": {
   "codemirror_mode": {
    "name": "ipython",
    "version": 3
   },
   "file_extension": ".py",
   "mimetype": "text/x-python",
   "name": "python",
   "nbconvert_exporter": "python",
   "pygments_lexer": "ipython3"
  }
 },
 "nbformat": 4,
 "nbformat_minor": 5
}
