{
 "cells": [
  {
   "cell_type": "code",
   "execution_count": 1,
   "id": "8b2054da-fcbe-4995-8aa1-67daff6227e0",
   "metadata": {},
   "outputs": [],
   "source": [
    "import numpy as np"
   ]
  },
  {
   "cell_type": "markdown",
   "id": "b0ba2db0-654b-4735-81aa-0740d8d44beb",
   "metadata": {},
   "source": [
    "# Read the data from the cvs file"
   ]
  },
  {
   "cell_type": "code",
   "execution_count": 2,
   "id": "039c32ad-d1cd-4eed-b2d7-5e0e1ee2c2f9",
   "metadata": {},
   "outputs": [],
   "source": [
    "data = np.loadtxt('load_data_with_void_markers.csv', \n",
    "           dtype={'names': ('point', 'empty', 'x', 'y'), 'formats': \n",
    "                  (np.str_, np.str_, np.float_, np.float_)},\n",
    "                       skiprows=0, delimiter=',', unpack=False)"
   ]
  },
  {
   "cell_type": "code",
   "execution_count": 3,
   "id": "7a98f805-cddf-435e-a015-d1c4b8981414",
   "metadata": {},
   "outputs": [
    {
     "data": {
      "text/plain": [
       "('', '', -1.367, -11.148)"
      ]
     },
     "execution_count": 3,
     "metadata": {},
     "output_type": "execute_result"
    }
   ],
   "source": [
    "data[0]"
   ]
  },
  {
   "cell_type": "markdown",
   "id": "6b40d049-3ffd-4b6b-aff0-655506c3c211",
   "metadata": {},
   "source": [
    "# Identify the missing indexes"
   ]
  },
  {
   "cell_type": "code",
   "execution_count": 6,
   "id": "9a97c349-bf94-48be-8fb7-6a8d649150d6",
   "metadata": {},
   "outputs": [],
   "source": [
    "idx_data_ = np.array([0,1,2,3,5,6,7,8])"
   ]
  },
  {
   "cell_type": "code",
   "execution_count": 7,
   "id": "aabe9a04-36a8-436d-ae10-ad21a4957f43",
   "metadata": {},
   "outputs": [],
   "source": [
    "i_grid, j_grid = np.mgrid[0:3, 0:3]"
   ]
  },
  {
   "cell_type": "code",
   "execution_count": 8,
   "id": "c6a8abbf-28fb-4d89-96e0-1d95f38e5b2d",
   "metadata": {},
   "outputs": [
    {
     "data": {
      "text/plain": [
       "(array([0, 0, 0, 1, 1, 2, 2, 2]), array([0, 1, 2, 0, 1, 2, 0, 1, 2]))"
      ]
     },
     "execution_count": 8,
     "metadata": {},
     "output_type": "execute_result"
    }
   ],
   "source": [
    "i_grid_f, j_grid_f = i_grid.flatten(), j_grid.flatten()\n",
    "i_grid_f_, j_grid_f_ = i_grid_f[idx_data_], j_grid_f[idx_data_]\n",
    "i_grid_f_, j_grid_f"
   ]
  },
  {
   "cell_type": "code",
   "execution_count": 9,
   "id": "b8470ead-7bcf-4ab3-ba7b-26c8e210a577",
   "metadata": {},
   "outputs": [
    {
     "data": {
      "text/plain": [
       "array([[0, 0],\n",
       "       [0, 1],\n",
       "       [0, 2],\n",
       "       [1, 0],\n",
       "       [1, 2],\n",
       "       [2, 0],\n",
       "       [2, 1],\n",
       "       [2, 2]])"
      ]
     },
     "execution_count": 9,
     "metadata": {},
     "output_type": "execute_result"
    }
   ],
   "source": [
    "P_IJ = np.array([i_grid_f_, j_grid_f_], dtype=np.int_).T\n",
    "P_IJ"
   ]
  },
  {
   "cell_type": "code",
   "execution_count": 10,
   "id": "b21067a4-7ed3-4535-9905-30997c9f9268",
   "metadata": {},
   "outputs": [
    {
     "data": {
      "text/plain": [
       "array([[ True,  True,  True],\n",
       "       [ True, False,  True],\n",
       "       [ True,  True,  True]])"
      ]
     },
     "execution_count": 10,
     "metadata": {},
     "output_type": "execute_result"
    }
   ],
   "source": [
    "ij_grid = np.zeros((3,3,), dtype=np.bool_)\n",
    "ij_grid[i_grid_f_, j_grid_f_] = True\n",
    "ij_grid"
   ]
  },
  {
   "cell_type": "code",
   "execution_count": 11,
   "id": "e2507f88-7f0d-406d-8d37-5c62edb586ac",
   "metadata": {},
   "outputs": [],
   "source": [
    "missing_points = np.where(ij_grid == False)"
   ]
  },
  {
   "cell_type": "code",
   "execution_count": 12,
   "id": "b8de98dc-ea14-473f-9752-51e65d679ab9",
   "metadata": {},
   "outputs": [],
   "source": [
    "mp_i, mp_j = missing_points"
   ]
  },
  {
   "cell_type": "code",
   "execution_count": 13,
   "id": "9a3aa8a3-a4de-46e4-a29d-438f9ce6649f",
   "metadata": {},
   "outputs": [
    {
     "data": {
      "text/plain": [
       "array([1])"
      ]
     },
     "execution_count": 13,
     "metadata": {},
     "output_type": "execute_result"
    }
   ],
   "source": [
    "mp_i"
   ]
  },
  {
   "cell_type": "code",
   "execution_count": 14,
   "id": "092526bc-e535-4048-9f2b-f273b36ae4f4",
   "metadata": {},
   "outputs": [
    {
     "data": {
      "text/plain": [
       "array([[[0],\n",
       "        [1]],\n",
       "\n",
       "       [[2],\n",
       "        [1]],\n",
       "\n",
       "       [[1],\n",
       "        [0]],\n",
       "\n",
       "       [[1],\n",
       "        [2]]])"
      ]
     },
     "execution_count": 14,
     "metadata": {},
     "output_type": "execute_result"
    }
   ],
   "source": [
    "interp_idx_nam = np.array([[mp_i - 1, mp_j],\n",
    "                       [mp_i + 1, mp_j],\n",
    "                       [mp_i, mp_j - 1],\n",
    "                       [mp_i, mp_j + 1]]) \n",
    "interp_idx_nam"
   ]
  },
  {
   "cell_type": "markdown",
   "id": "25be2542-f0fc-475a-b731-0af28ae6a4c7",
   "metadata": {},
   "source": [
    "# Emulate the GOM data with a missing point "
   ]
  },
  {
   "cell_type": "code",
   "execution_count": 15,
   "id": "6fe4a67d-7e41-4dd7-9486-e1368474fbf4",
   "metadata": {},
   "outputs": [],
   "source": [
    "X, Y = np.mgrid[10:13,20:23] "
   ]
  },
  {
   "cell_type": "code",
   "execution_count": 26,
   "id": "9c2fa809-653d-40dd-b4d6-044de1b55310",
   "metadata": {},
   "outputs": [
    {
     "data": {
      "text/plain": [
       "array([[10, 20],\n",
       "       [10, 21],\n",
       "       [10, 22],\n",
       "       [11, 20],\n",
       "       [11, 21],\n",
       "       [11, 22],\n",
       "       [12, 20],\n",
       "       [12, 21],\n",
       "       [12, 22]])"
      ]
     },
     "execution_count": 26,
     "metadata": {},
     "output_type": "execute_result"
    }
   ],
   "source": [
    "gom_data = np.array([X.flatten(), Y.flatten()]).T\n",
    "XY_Pa = gom_data\n",
    "gom_data"
   ]
  },
  {
   "cell_type": "code",
   "execution_count": 17,
   "id": "17174f15-8bb7-4afd-8001-62ab89d4d53c",
   "metadata": {},
   "outputs": [],
   "source": [
    "gom_data_ = gom_data[idx_data_]"
   ]
  },
  {
   "cell_type": "code",
   "execution_count": 18,
   "id": "8be320db-bacc-4ec5-86af-0248ec019cd1",
   "metadata": {},
   "outputs": [
    {
     "data": {
      "text/plain": [
       "array([[10, 20],\n",
       "       [10, 21],\n",
       "       [10, 22],\n",
       "       [11, 20],\n",
       "       [11, 22],\n",
       "       [12, 20],\n",
       "       [12, 21],\n",
       "       [12, 22]])"
      ]
     },
     "execution_count": 18,
     "metadata": {},
     "output_type": "execute_result"
    }
   ],
   "source": [
    "gom_data_"
   ]
  },
  {
   "cell_type": "markdown",
   "id": "92399ab5-fee1-49f9-8330-dc2047ebf920",
   "metadata": {},
   "source": [
    "# Interpolate the data in the missing points"
   ]
  },
  {
   "cell_type": "code",
   "execution_count": 19,
   "id": "85658682-0f38-4e8e-aab5-9bf6b31f3478",
   "metadata": {},
   "outputs": [
    {
     "data": {
      "text/plain": [
       "(array([[10., 10., 10.],\n",
       "        [11.,  0., 11.],\n",
       "        [12., 12., 12.]]),\n",
       " array([[20., 21., 22.],\n",
       "        [20.,  0., 22.],\n",
       "        [20., 21., 22.]]))"
      ]
     },
     "execution_count": 19,
     "metadata": {},
     "output_type": "execute_result"
    }
   ],
   "source": [
    "X_IJ, Y_IJ = np.zeros((3,3,), dtype=np.float_), np.zeros((3,3,), dtype=np.float_)\n",
    "X_IJ[i_grid_f_, j_grid_f_] = gom_data_[:,0]\n",
    "Y_IJ[i_grid_f_, j_grid_f_] = gom_data_[:,1]\n",
    "X_IJ, Y_IJ"
   ]
  },
  {
   "cell_type": "code",
   "execution_count": 20,
   "id": "e03dafc3-16a2-4dc4-acaa-19110d9be7ef",
   "metadata": {},
   "outputs": [],
   "source": [
    "ij_anm = np.einsum('nam->anm', interp_idx_nam)\n",
    "i_nm, j_nm = ij_anm"
   ]
  },
  {
   "cell_type": "code",
   "execution_count": 21,
   "id": "f9cfd3a8-a48e-4acb-98d6-f7c0ffa4dfc9",
   "metadata": {},
   "outputs": [
    {
     "data": {
      "text/plain": [
       "(array([11.]), array([21.]))"
      ]
     },
     "execution_count": 21,
     "metadata": {},
     "output_type": "execute_result"
    }
   ],
   "source": [
    "X_inp = np.average(X_IJ[i_nm, j_nm], axis=-2)\n",
    "Y_inp = np.average(Y_IJ[i_nm, j_nm], axis=-2)\n",
    "X_inp, Y_inp"
   ]
  },
  {
   "cell_type": "code",
   "execution_count": 22,
   "id": "40de1e55-42b8-487f-a626-b78cf51e32d9",
   "metadata": {},
   "outputs": [
    {
     "data": {
      "text/plain": [
       "(array([[10., 10., 10.],\n",
       "        [11., 11., 11.],\n",
       "        [12., 12., 12.]]),\n",
       " array([[20., 21., 22.],\n",
       "        [20., 21., 22.],\n",
       "        [20., 21., 22.]]))"
      ]
     },
     "execution_count": 22,
     "metadata": {},
     "output_type": "execute_result"
    }
   ],
   "source": [
    "X_IJ[ij_grid == False] = X_inp\n",
    "Y_IJ[ij_grid == False] = Y_inp\n",
    "X_IJ, Y_IJ"
   ]
  },
  {
   "cell_type": "code",
   "execution_count": null,
   "id": "8605f205-fb19-407f-aef8-33591a3c630c",
   "metadata": {},
   "outputs": [],
   "source": []
  },
  {
   "cell_type": "code",
   "execution_count": null,
   "id": "5c2fd1f5-02be-4f96-b480-d0d5ce2353a2",
   "metadata": {},
   "outputs": [],
   "source": []
  }
 ],
 "metadata": {
  "kernelspec": {
   "display_name": "bmcs_env",
   "language": "python",
   "name": "bmcs_env"
  },
  "language_info": {
   "codemirror_mode": {
    "name": "ipython",
    "version": 3
   },
   "file_extension": ".py",
   "mimetype": "text/x-python",
   "name": "python",
   "nbconvert_exporter": "python",
   "pygments_lexer": "ipython3",
   "version": "3.9.0"
  }
 },
 "nbformat": 4,
 "nbformat_minor": 5
}
