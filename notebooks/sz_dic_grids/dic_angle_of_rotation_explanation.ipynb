{
 "cells": [
  {
   "cell_type": "code",
   "execution_count": null,
   "metadata": {},
   "outputs": [],
   "source": [
    "%matplotlib widget"
   ]
  },
  {
   "cell_type": "code",
   "execution_count": null,
   "metadata": {},
   "outputs": [],
   "source": [
    "from bmcs_shear.dic_crack import DICGrid, DICAlignedGrid, DICCOR, DICInspector, DICCrack"
   ]
  },
  {
   "cell_type": "markdown",
   "metadata": {},
   "source": [
    "# $\\varphi$ Evaluation"
   ]
  },
  {
   "cell_type": "markdown",
   "metadata": {},
   "source": [
    "<img src=\"phi eval.png\" width=\"700\"/> "
   ]
  },
  {
   "cell_type": "markdown",
   "metadata": {},
   "source": [
    "The distance formulas for calculating $d_{0t}$ and $d_[0c]$ are as follows:\n",
    "\\begin{equation}\n",
    "    d_{0t} = \\sqrt{(x_t - x_0)^2 + (y_t - y_0)^2}\n",
    "\\end{equation}\n",
    "\n",
    "\\begin{equation}\n",
    "    d_{0c} = \\sqrt{(x_{\\mathrm{COR}} - x_0)^2 + (y_{\\mathrm{COR}} - y_0)^2}\n",
    "\\end{equation}\n",
    "After calculating the distances, the angle of rotation $\\varphi$ can be calculated as:\n",
    "\\begin{equation}\n",
    "    \\varphi = \\arctan \\left(\\frac{d_{0t}}{d_{0c}} \\right)\n",
    "\\end{equation}"
   ]
  },
  {
   "cell_type": "code",
   "execution_count": null,
   "metadata": {},
   "outputs": [],
   "source": [
    "dic_grid = DICGrid(n_x=58, n_y=15, d_x=22, d_y=22, \n",
    "                   start_t=0, end_t=-1, U_factor=1, dir_name='B6_TV1')\n",
    "dic_aligned_grid = DICAlignedGrid(dic_grid=dic_grid,\n",
    "                                  y_ref_i=-17, y_ref_j_min=1, y_ref_j_max=10)\n",
    "dic_cor = DICCOR(dic_aligned_grid=dic_aligned_grid,\n",
    "                 n_x_min=29, n_x_max=38, n_x_step=1, n_y_min=4, n_y_step=1)"
   ]
  },
  {
   "cell_type": "code",
   "execution_count": null,
   "metadata": {},
   "outputs": [],
   "source": [
    "import numpy as np\n",
    "end_t_arr = np.arange(1,31,1)\n",
    "phi_arr = []\n",
    "for end_t in end_t_arr[::1]:\n",
    "    print('evaluating step', end_t)\n",
    "\n",
    "    dic_grid.end_t = end_t\n",
    "\n",
    "    # selected points for rotation\n",
    "    XU_ija = dic_cor.dic_aligned_grid.x_ref_ija_scaled # check the refence system and verify\n",
    "    XU_ija_sel = (XU_ija[dic_cor.n_x_min:dic_cor.n_x_max:dic_cor.n_x_step,\n",
    "                         dic_cor.n_y_min:dic_cor.n_y_max:dic_cor.n_y_step])\n",
    "    XU_pr = XU_ija_sel.reshape(-1, 2)\n",
    "\n",
    "    dic_cor.dic_grid.X_ija\n",
    "    # selection of grid of points\n",
    "    X_ija_sel = dic_cor.dic_grid.X_ija[dic_cor.n_x_min:dic_cor.n_x_max:dic_cor.n_x_step,\n",
    "                                       dic_cor.n_y_min:dic_cor.n_y_max:dic_cor.n_y_step]\n",
    "    X_pr = X_ija_sel.reshape(-1, 2)\n",
    "\n",
    "    # evaluating distances using distance formula\n",
    "    X_cor_r = dic_cor.X_cor\n",
    "    XU_mid_pr = (XU_pr + X_pr) / 2\n",
    "\n",
    "    V_X_XU_mid_pr = X_cor_r[np.newaxis, :] - XU_mid_pr\n",
    "    V_XU_XU_mid_pr = XU_pr - XU_mid_pr\n",
    "\n",
    "    len_d_0c = np.sqrt(np.einsum('...i,...i->...', V_X_XU_mid_pr, V_X_XU_mid_pr ))\n",
    "    len_d_0t = np.sqrt(np.einsum('...i,...i->...', V_XU_XU_mid_pr, V_XU_XU_mid_pr ))\n",
    "\n",
    "    phi = 2*np.arctan(len_d_0t/len_d_0c)\n",
    "    phi_avg = np.average(phi)\n",
    "    phi_arr.append(phi_avg)\n",
    "\n",
    "    print('phi_avg', phi_avg)"
   ]
  },
  {
   "cell_type": "code",
   "execution_count": null,
   "metadata": {},
   "outputs": [],
   "source": [
    "from os.path import expanduser, join\n",
    "import os"
   ]
  },
  {
   "cell_type": "code",
   "execution_count": null,
   "metadata": {},
   "outputs": [],
   "source": [
    "home_dir = expanduser('~')\n",
    "data_dir = join(home_dir,'simdb','data','load','B6_V1')\n",
    "data_dir"
   ]
  },
  {
   "cell_type": "code",
   "execution_count": null,
   "metadata": {},
   "outputs": [],
   "source": [
    "results = [join(data_dir,each) \n",
    "           for each in sorted(os.listdir(data_dir)) \n",
    "           if each.endswith('.csv')]\n",
    "results"
   ]
  },
  {
   "cell_type": "code",
   "execution_count": null,
   "metadata": {},
   "outputs": [],
   "source": [
    "load = np.loadtxt(results[0], dtype=float, \n",
    "            skiprows=1, delimiter=',', usecols=(0), unpack=False)\n",
    "load"
   ]
  },
  {
   "cell_type": "code",
   "execution_count": null,
   "metadata": {},
   "outputs": [],
   "source": [
    "import matplotlib.pyplot as plt\n",
    "_, ax1 = plt.subplots(1, 1, figsize=(10,6))\n",
    "\n",
    "ax1.plot(phi_arr[:-12], load[:-13], color = 'blue')\n",
    "ax1.set_xlabel(r'$\\varphi$'), ax1.set_ylabel('Load')"
   ]
  },
  {
   "cell_type": "code",
   "execution_count": null,
   "metadata": {},
   "outputs": [],
   "source": [
    "# import numpy as np\n",
    "# end_t_arr = np.arange(1,31,1)\n",
    "# phi_arr = []\n",
    "# for end_t in end_t_arr:\n",
    "#     print('evaluating step', end_t)\n",
    "#     # dic_grd, dic_aligned_grid, dic_cor\n",
    "#     dic_grid = DICGrid(n_x=58, n_y=15, d_x=22, d_y=22, \n",
    "#                      start_t=0, end_t=end_t, U_factor=1, dir_name='B6_TV1')\n",
    "#     dic_aligned_grid = DICAlignedGrid(dic_grid=dic_grid,\n",
    "#                                  y_ref_i=-17, y_ref_j_min=1, y_ref_j_max=10)\n",
    "#     dic_cor = DICCOR(dic_aligned_grid=dic_aligned_grid,\n",
    "#                  n_x_min = 29, n_x_max = 38, n_x_step=1, n_y_min = 4, n_y_step = 1)\n",
    "\n",
    "#     # evaluating deltas\n",
    "#     delta_u_ul_ija = dic_cor.dic_aligned_grid.delta_u_ul_ija\n",
    "#     delta_u0_ul_ija = dic_cor.dic_aligned_grid.delta_u0_ul_ija\n",
    "    \n",
    "#     # selected points for rotation\n",
    "#     rot_Xu_ija = dic_cor.dic_aligned_grid.rot_Xu_ija\n",
    "#     rot_Xu_ija_sel = (dic_cor.dic_aligned_grid.rot_Xu_ija[dic_cor.n_x_min:dic_cor.n_x_max:dic_cor.n_x_step,\n",
    "#                                    dic_cor.n_y_min:dic_cor.n_y_max:dic_cor.n_y_step])\n",
    "#     rot_X_pa_sel = rot_Xu_ija_sel.reshape(-1, 2)\n",
    "\n",
    "#     # selection of grid of points\n",
    "#     X_ija_sel = dic_cor.dic_grid.X_ija[dic_cor.n_x_min:dic_cor.n_x_max:dic_cor.n_x_step,\n",
    "#                     dic_cor.n_y_min:dic_cor.n_y_max:dic_cor.n_y_step]\n",
    "#     X_pa_sel = X_ija_sel.reshape(-1, 2)\n",
    "\n",
    "#     # evaluating distances using distance formula\n",
    "\n",
    "#     d_0c = np.sqrt((dic_cor.x_cor_pa_sol[:, 0] - X_pa_sel[:, 0]) ** 2\n",
    "#                                      + (dic_cor.x_cor_pa_sol[:, 1] - X_pa_sel[:, 1]) ** 2)\n",
    "\n",
    "#     d_0t = np.sqrt((rot_X_pa_sel[:, 0] - X_pa_sel[:, 0]) ** 2\n",
    "#                                      + (rot_X_pa_sel[:, 1] - X_pa_sel[:, 1]) ** 2)\n",
    "    \n",
    "#     phi = np.arctan(d_0t/d_0c)\n",
    "    \n",
    "#     phi_avg = np.average(phi)\n",
    "    \n",
    "#     phi_arr.append(phi_avg)\n",
    "    \n",
    "#     print('phi_avg', phi_avg)"
   ]
  },
  {
   "cell_type": "code",
   "execution_count": null,
   "metadata": {},
   "outputs": [],
   "source": [
    "load = np.loadtxt(r\"D:\\Shear zones\\load text files\\Load_b6_tv1.txt\", unpack=True)\n",
    "#np.shape(load)\n",
    "#load"
   ]
  },
  {
   "cell_type": "code",
   "execution_count": null,
   "metadata": {},
   "outputs": [],
   "source": [
    "import matplotlib.pyplot as plt\n",
    "_, ax1 = plt.subplots(1, 1, figsize=(10,6))\n",
    "\n",
    "ax1.plot(phi_arr[0:18], load[1:19], color = 'blue')\n",
    "ax1.set_xlabel(r'$\\varphi$'), ax1.set_ylabel('Load')\n",
    "#plt.savefig(\"D:\\\\Shear zones\\drawings\\Load_rotation.pdf\")"
   ]
  },
  {
   "cell_type": "code",
   "execution_count": null,
   "metadata": {},
   "outputs": [],
   "source": [
    "#     d_tc = np.sqrt((dic_cor.x_cor_pa_sol[:, 0] - rot_X_pa_sel[:, 0]) ** 2\n",
    "#                                    + (dic_cor.x_cor_pa_sol[:, 1] - rot_X_pa_sel[:, 1]) ** 2)\n",
    "\n",
    "    \n",
    "#     # averaging all distances\n",
    "#     d_tc_avg = np.average(d_tc)\n",
    "#     d_0c_avg = np.average(d_0c)\n",
    "#     d_0t_avg = np.average(d_0t)\n",
    "\n",
    "\n",
    "    \n",
    "#     # calculating phi using law of cosine\n",
    "#     phi = np.arccos(\n",
    "#             (d_tc_avg ** 2 + d_0c_avg ** 2 - d_0t_avg ** 2)\n",
    "#             / (2 * d_tc_avg * d_0c_avg))\n",
    "#     phi_val.append(phi)\n",
    "    #print(phi_val)\n",
    "    "
   ]
  },
  {
   "cell_type": "code",
   "execution_count": null,
   "metadata": {},
   "outputs": [],
   "source": []
  }
 ],
 "metadata": {
  "kernelspec": {
   "display_name": "Python 3",
   "language": "python",
   "name": "python3"
  },
  "language_info": {
   "codemirror_mode": {
    "name": "ipython",
    "version": 3
   },
   "file_extension": ".py",
   "mimetype": "text/x-python",
   "name": "python",
   "nbconvert_exporter": "python",
   "pygments_lexer": "ipython3"
  }
 },
 "nbformat": 4,
 "nbformat_minor": 4
}
