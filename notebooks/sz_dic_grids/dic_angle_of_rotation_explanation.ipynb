{
 "cells": [
  {
   "cell_type": "code",
   "execution_count": 1,
   "metadata": {},
   "outputs": [],
   "source": [
    "%matplotlib widget"
   ]
  },
  {
   "cell_type": "code",
   "execution_count": 2,
   "metadata": {},
   "outputs": [],
   "source": [
    "from bmcs_shear.dic_crack import DICGrid, DICAlignedGrid, DICCOR, DICInspector, DICCrack"
   ]
  },
  {
   "cell_type": "markdown",
   "metadata": {},
   "source": [
    "# $\\varphi$ Evaluation"
   ]
  },
  {
   "cell_type": "markdown",
   "metadata": {},
   "source": [
    "<img src=\"phi eval.png\" width=\"700\"/> "
   ]
  },
  {
   "cell_type": "markdown",
   "metadata": {},
   "source": [
    "The distance formulas for calculating $d_{0t}$ and $d_[0c]$ are as follows:\n",
    "\\begin{equation}\n",
    "    d_{0t} = \\sqrt{(x_t - x_0)^2 + (y_t - y_0)^2}\n",
    "\\end{equation}\n",
    "\n",
    "\\begin{equation}\n",
    "    d_{0c} = \\sqrt{(x_{\\mathrm{COR}} - x_0)^2 + (y_{\\mathrm{COR}} - y_0)^2}\n",
    "\\end{equation}\n",
    "After calculating the distances, the angle of rotation $\\varphi$ can be calculated as:\n",
    "\\begin{equation}\n",
    "    \\varphi = \\arctan \\left(\\frac{d_{0t}}{d_{0c}} \\right)\n",
    "\\end{equation}"
   ]
  },
  {
   "cell_type": "code",
   "execution_count": 3,
   "metadata": {},
   "outputs": [],
   "source": [
    "dic_grid = DICGrid(n_x=58, n_y=15, d_x=22, d_y=22, \n",
    "                   start_t=0, end_t=-1, U_factor=1, dir_name='B6_TV1')\n",
    "dic_aligned_grid = DICAlignedGrid(dic_grid=dic_grid,\n",
    "                                  y_ref_i=-17, y_ref_j_min=1, y_ref_j_max=10)\n",
    "dic_cor = DICCOR(dic_aligned_grid=dic_aligned_grid,\n",
    "                 n_x_min=29, n_x_max=38, n_x_step=1, n_y_min=4, n_y_step=1)"
   ]
  },
  {
   "cell_type": "code",
   "execution_count": 4,
   "metadata": {},
   "outputs": [
    {
     "name": "stdout",
     "output_type": "stream",
     "text": [
      "evaluating step 1\n",
      "phi_avg 0.00502384481252922\n",
      "evaluating step 2\n",
      "phi_avg 0.007425975370428152\n",
      "evaluating step 3\n",
      "phi_avg 0.011759988749011362\n",
      "evaluating step 4\n",
      "phi_avg 0.014398962747931236\n",
      "evaluating step 5\n",
      "phi_avg 0.014814228120429162\n",
      "evaluating step 6\n",
      "phi_avg 0.015212780873063152\n",
      "evaluating step 7\n",
      "phi_avg 0.01781225729931489\n",
      "evaluating step 8\n",
      "phi_avg 0.0169553219216478\n",
      "evaluating step 9\n",
      "phi_avg 0.019281484855807444\n",
      "evaluating step 10\n",
      "phi_avg 0.015701630612261826\n",
      "evaluating step 11\n",
      "phi_avg 0.01797354752557545\n",
      "evaluating step 12\n",
      "phi_avg 0.017596117915219502\n",
      "evaluating step 13\n",
      "phi_avg 0.01744898801396457\n",
      "evaluating step 14\n",
      "phi_avg 0.01785334090985618\n",
      "evaluating step 15\n",
      "phi_avg 0.02111893436830367\n",
      "evaluating step 16\n",
      "phi_avg 0.020003181815066124\n",
      "evaluating step 17\n",
      "phi_avg 0.02022190164579802\n",
      "evaluating step 18\n",
      "phi_avg 0.04284208328630005\n",
      "evaluating step 19\n",
      "phi_avg 0.019756363947199644\n",
      "evaluating step 20\n",
      "phi_avg 0.018485886409616275\n",
      "evaluating step 21\n",
      "phi_avg 0.015339406442754486\n",
      "evaluating step 22\n",
      "phi_avg 0.019788115233159632\n",
      "evaluating step 23\n",
      "phi_avg 0.02407162018317274\n",
      "evaluating step 24\n",
      "phi_avg 0.018929734059827785\n",
      "evaluating step 25\n",
      "phi_avg 0.01995613706358391\n",
      "evaluating step 26\n",
      "phi_avg 0.014216726508062546\n",
      "evaluating step 27\n",
      "phi_avg 0.0148836720335605\n",
      "evaluating step 28\n",
      "phi_avg 0.014546521302703386\n",
      "evaluating step 29\n",
      "phi_avg 0.008437751615342798\n",
      "evaluating step 30\n",
      "phi_avg 0.00643161722420023\n"
     ]
    }
   ],
   "source": [
    "import numpy as np\n",
    "end_t_arr = np.arange(1,31,1)\n",
    "phi_arr = []\n",
    "for end_t in end_t_arr[::1]:\n",
    "    print('evaluating step', end_t)\n",
    "\n",
    "    dic_grid.end_t = end_t\n",
    "\n",
    "    # selected points for rotation\n",
    "    XU_ija = dic_cor.dic_aligned_grid.x_ref_ija_scaled # check the refence system and verify\n",
    "    XU_ija_sel = (XU_ija[dic_cor.n_x_min:dic_cor.n_x_max:dic_cor.n_x_step,\n",
    "                         dic_cor.n_y_min:dic_cor.n_y_max:dic_cor.n_y_step])\n",
    "    XU_pr = XU_ija_sel.reshape(-1, 2)\n",
    "\n",
    "    dic_cor.dic_grid.X_ija\n",
    "    # selection of grid of points\n",
    "    X_ija_sel = dic_cor.dic_grid.X_ija[dic_cor.n_x_min:dic_cor.n_x_max:dic_cor.n_x_step,\n",
    "                                       dic_cor.n_y_min:dic_cor.n_y_max:dic_cor.n_y_step]\n",
    "    X_pr = X_ija_sel.reshape(-1, 2)\n",
    "\n",
    "    # evaluating distances using distance formula\n",
    "    X_cor_r = dic_cor.X_cor\n",
    "    XU_mid_pr = (XU_pr + X_pr) / 2\n",
    "\n",
    "    V_X_XU_mid_pr = X_cor_r[np.newaxis, :] - XU_mid_pr\n",
    "    V_XU_XU_mid_pr = XU_pr - XU_mid_pr\n",
    "\n",
    "    len_d_0c = np.sqrt(np.einsum('...i,...i->...', V_X_XU_mid_pr, V_X_XU_mid_pr ))\n",
    "    len_d_0t = np.sqrt(np.einsum('...i,...i->...', V_XU_XU_mid_pr, V_XU_XU_mid_pr ))\n",
    "\n",
    "    phi = 2*np.arctan(len_d_0t/len_d_0c)\n",
    "    phi_avg = np.average(phi)\n",
    "    phi_arr.append(phi_avg)\n",
    "\n",
    "    print('phi_avg', phi_avg)"
   ]
  },
  {
   "cell_type": "code",
   "execution_count": 5,
   "metadata": {},
   "outputs": [],
   "source": [
    "from os.path import expanduser, join\n",
    "import os"
   ]
  },
  {
   "cell_type": "code",
   "execution_count": 6,
   "metadata": {},
   "outputs": [
    {
     "data": {
      "text/plain": [
       "'C:\\\\Users\\\\fahad\\\\simdb\\\\data\\\\load\\\\B6_V1'"
      ]
     },
     "execution_count": 6,
     "metadata": {},
     "output_type": "execute_result"
    }
   ],
   "source": [
    "home_dir = expanduser('~')\n",
    "data_dir = join(home_dir,'simdb','data','load','B6_V1')\n",
    "data_dir"
   ]
  },
  {
   "cell_type": "code",
   "execution_count": 7,
   "metadata": {},
   "outputs": [
    {
     "ename": "FileNotFoundError",
     "evalue": "[WinError 3] The system cannot find the path specified: 'C:\\\\Users\\\\fahad\\\\simdb\\\\data\\\\load\\\\B6_V1'",
     "output_type": "error",
     "traceback": [
      "\u001b[1;31m---------------------------------------------------------------------------\u001b[0m",
      "\u001b[1;31mFileNotFoundError\u001b[0m                         Traceback (most recent call last)",
      "\u001b[1;32m~\\AppData\\Local\\Temp/ipykernel_22268/2281377270.py\u001b[0m in \u001b[0;36m<module>\u001b[1;34m\u001b[0m\n\u001b[0;32m      1\u001b[0m results = [join(data_dir,each) \n\u001b[1;32m----> 2\u001b[1;33m            \u001b[1;32mfor\u001b[0m \u001b[0meach\u001b[0m \u001b[1;32min\u001b[0m \u001b[0msorted\u001b[0m\u001b[1;33m(\u001b[0m\u001b[0mos\u001b[0m\u001b[1;33m.\u001b[0m\u001b[0mlistdir\u001b[0m\u001b[1;33m(\u001b[0m\u001b[0mdata_dir\u001b[0m\u001b[1;33m)\u001b[0m\u001b[1;33m)\u001b[0m\u001b[1;33m\u001b[0m\u001b[1;33m\u001b[0m\u001b[0m\n\u001b[0m\u001b[0;32m      3\u001b[0m            if each.endswith('.csv')]\n\u001b[0;32m      4\u001b[0m \u001b[0mresults\u001b[0m\u001b[1;33m\u001b[0m\u001b[1;33m\u001b[0m\u001b[0m\n",
      "\u001b[1;31mFileNotFoundError\u001b[0m: [WinError 3] The system cannot find the path specified: 'C:\\\\Users\\\\fahad\\\\simdb\\\\data\\\\load\\\\B6_V1'"
     ]
    }
   ],
   "source": [
    "results = [join(data_dir,each) \n",
    "           for each in sorted(os.listdir(data_dir)) \n",
    "           if each.endswith('.csv')]\n",
    "results"
   ]
  },
  {
   "cell_type": "code",
   "execution_count": null,
   "metadata": {},
   "outputs": [],
   "source": [
    "load = np.loadtxt(results[0], dtype=float, \n",
    "            skiprows=1, delimiter=',', usecols=(0), unpack=False)\n",
    "load"
   ]
  },
  {
   "cell_type": "code",
   "execution_count": 21,
   "metadata": {},
   "outputs": [
    {
     "data": {
      "text/plain": [
       "(Text(0.5, 0, '$\\\\varphi$'), Text(0, 0.5, 'Load'))"
      ]
     },
     "execution_count": 21,
     "metadata": {},
     "output_type": "execute_result"
    },
    {
     "data": {
      "application/vnd.jupyter.widget-view+json": {
       "model_id": "fd6ec026eb6e4183903c93f3873974ea",
       "version_major": 2,
       "version_minor": 0
      },
      "text/html": [
       "\n",
       "            <div style=\"display: inline-block;\">\n",
       "                <div class=\"jupyter-widgets widget-label\" style=\"text-align: center;\">\n",
       "                    Figure\n",
       "                </div>\n",
       "                <img src='data:image/png;base64,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' width=1000.0/>\n",
       "            </div>\n",
       "        "
      ],
      "text/plain": [
       "Canvas(toolbar=Toolbar(toolitems=[('Home', 'Reset original view', 'home', 'home'), ('Back', 'Back to previous …"
      ]
     },
     "metadata": {},
     "output_type": "display_data"
    }
   ],
   "source": [
    "import matplotlib.pyplot as plt\n",
    "_, ax1 = plt.subplots(1, 1, figsize=(10,6))\n",
    "\n",
    "ax1.plot(phi_arr[:-12], load[:-13], color = 'blue')\n",
    "ax1.set_xlabel(r'$\\varphi$'), ax1.set_ylabel('Load')"
   ]
  },
  {
   "cell_type": "code",
   "execution_count": 3,
   "metadata": {},
   "outputs": [
    {
     "name": "stdout",
     "output_type": "stream",
     "text": [
      "evaluating step 1\n",
      "phi_avg 0.0122229106702519\n",
      "evaluating step 2\n",
      "phi_avg 0.016094583751408282\n",
      "evaluating step 3\n",
      "phi_avg 0.05513367611516827\n",
      "evaluating step 4\n",
      "phi_avg 0.05579961153844669\n",
      "evaluating step 5\n",
      "phi_avg 0.11996935016400637\n",
      "evaluating step 6\n",
      "phi_avg 0.12040228000507716\n",
      "evaluating step 7\n",
      "phi_avg 0.12608153662523652\n",
      "evaluating step 8\n",
      "phi_avg 0.13164695674670884\n",
      "evaluating step 9\n",
      "phi_avg 0.08218906525226433\n",
      "evaluating step 10\n",
      "phi_avg 0.11996935016400637\n",
      "evaluating step 11\n",
      "phi_avg 0.10326890910485441\n",
      "evaluating step 12\n",
      "phi_avg 0.12040228000507716\n",
      "evaluating step 13\n",
      "phi_avg 0.12722081595633547\n",
      "evaluating step 14\n",
      "phi_avg 0.12365483492551235\n",
      "evaluating step 15\n",
      "phi_avg 0.11730561444407521\n",
      "evaluating step 16\n",
      "phi_avg 0.12485706242450283\n",
      "evaluating step 17\n",
      "phi_avg 0.14172350144068913\n",
      "evaluating step 18\n",
      "phi_avg 0.1383843937048634\n",
      "evaluating step 19\n"
     ]
    },
    {
     "name": "stderr",
     "output_type": "stream",
     "text": [
      "<ipython-input-3-9ce84de8ac07>:37: RuntimeWarning: invalid value encountered in true_divide\n",
      "  phi = np.arctan(d_0t/d_0c)\n"
     ]
    },
    {
     "name": "stdout",
     "output_type": "stream",
     "text": [
      "phi_avg nan\n",
      "evaluating step 20\n",
      "phi_avg 0.1385144137364011\n",
      "evaluating step 21\n",
      "phi_avg 0.1228824851998865\n",
      "evaluating step 22\n",
      "phi_avg 0.1240260113771447\n",
      "evaluating step 23\n",
      "phi_avg 0.1236940637529132\n",
      "evaluating step 24\n",
      "phi_avg 0.136541904960108\n",
      "evaluating step 25\n",
      "phi_avg 0.1274495500867469\n",
      "evaluating step 26\n",
      "phi_avg 0.14469229331382738\n",
      "evaluating step 27\n",
      "phi_avg 0.14079073446911697\n",
      "evaluating step 28\n",
      "phi_avg 0.1333560491964985\n",
      "evaluating step 29\n",
      "phi_avg 0.12598062787454214\n",
      "evaluating step 30\n",
      "phi_avg 0.0016357673424745956\n"
     ]
    }
   ],
   "source": [
    "# import numpy as np\n",
    "# end_t_arr = np.arange(1,31,1)\n",
    "# phi_arr = []\n",
    "# for end_t in end_t_arr:\n",
    "#     print('evaluating step', end_t)\n",
    "#     # dic_grd, dic_aligned_grid, dic_cor\n",
    "#     dic_grid = DICGrid(n_x=58, n_y=15, d_x=22, d_y=22, \n",
    "#                      start_t=0, end_t=end_t, U_factor=1, dir_name='B6_TV1')\n",
    "#     dic_aligned_grid = DICAlignedGrid(dic_grid=dic_grid,\n",
    "#                                  y_ref_i=-17, y_ref_j_min=1, y_ref_j_max=10)\n",
    "#     dic_cor = DICCOR(dic_aligned_grid=dic_aligned_grid,\n",
    "#                  n_x_min = 29, n_x_max = 38, n_x_step=1, n_y_min = 4, n_y_step = 1)\n",
    "\n",
    "#     # evaluating deltas\n",
    "#     delta_u_ul_ija = dic_cor.dic_aligned_grid.delta_u_ul_ija\n",
    "#     delta_u0_ul_ija = dic_cor.dic_aligned_grid.delta_u0_ul_ija\n",
    "    \n",
    "#     # selected points for rotation\n",
    "#     rot_Xu_ija = dic_cor.dic_aligned_grid.rot_Xu_ija\n",
    "#     rot_Xu_ija_sel = (dic_cor.dic_aligned_grid.rot_Xu_ija[dic_cor.n_x_min:dic_cor.n_x_max:dic_cor.n_x_step,\n",
    "#                                    dic_cor.n_y_min:dic_cor.n_y_max:dic_cor.n_y_step])\n",
    "#     rot_X_pa_sel = rot_Xu_ija_sel.reshape(-1, 2)\n",
    "\n",
    "#     # selection of grid of points\n",
    "#     X_ija_sel = dic_cor.dic_grid.X_ija[dic_cor.n_x_min:dic_cor.n_x_max:dic_cor.n_x_step,\n",
    "#                     dic_cor.n_y_min:dic_cor.n_y_max:dic_cor.n_y_step]\n",
    "#     X_pa_sel = X_ija_sel.reshape(-1, 2)\n",
    "\n",
    "#     # evaluating distances using distance formula\n",
    "\n",
    "#     d_0c = np.sqrt((dic_cor.x_cor_pa_sol[:, 0] - X_pa_sel[:, 0]) ** 2\n",
    "#                                      + (dic_cor.x_cor_pa_sol[:, 1] - X_pa_sel[:, 1]) ** 2)\n",
    "\n",
    "#     d_0t = np.sqrt((rot_X_pa_sel[:, 0] - X_pa_sel[:, 0]) ** 2\n",
    "#                                      + (rot_X_pa_sel[:, 1] - X_pa_sel[:, 1]) ** 2)\n",
    "    \n",
    "#     phi = np.arctan(d_0t/d_0c)\n",
    "    \n",
    "#     phi_avg = np.average(phi)\n",
    "    \n",
    "#     phi_arr.append(phi_avg)\n",
    "    \n",
    "#     print('phi_avg', phi_avg)"
   ]
  },
  {
   "cell_type": "code",
   "execution_count": 4,
   "metadata": {},
   "outputs": [
    {
     "ename": "OSError",
     "evalue": "D:\\Shear zones\\load text files\\Load_b6_tv1.txt not found.",
     "output_type": "error",
     "traceback": [
      "\u001b[0;31m---------------------------------------------------------------------------\u001b[0m",
      "\u001b[0;31mOSError\u001b[0m                                   Traceback (most recent call last)",
      "\u001b[0;32m<ipython-input-4-c6117f01fdd7>\u001b[0m in \u001b[0;36m<module>\u001b[0;34m\u001b[0m\n\u001b[0;32m----> 1\u001b[0;31m \u001b[0mload\u001b[0m \u001b[0;34m=\u001b[0m \u001b[0mnp\u001b[0m\u001b[0;34m.\u001b[0m\u001b[0mloadtxt\u001b[0m\u001b[0;34m(\u001b[0m\u001b[0;34mr\"D:\\Shear zones\\load text files\\Load_b6_tv1.txt\"\u001b[0m\u001b[0;34m,\u001b[0m \u001b[0munpack\u001b[0m\u001b[0;34m=\u001b[0m\u001b[0;32mTrue\u001b[0m\u001b[0;34m)\u001b[0m\u001b[0;34m\u001b[0m\u001b[0;34m\u001b[0m\u001b[0m\n\u001b[0m\u001b[1;32m      2\u001b[0m \u001b[0;31m#np.shape(load)\u001b[0m\u001b[0;34m\u001b[0m\u001b[0;34m\u001b[0m\u001b[0;34m\u001b[0m\u001b[0m\n\u001b[1;32m      3\u001b[0m \u001b[0;31m#load\u001b[0m\u001b[0;34m\u001b[0m\u001b[0;34m\u001b[0m\u001b[0;34m\u001b[0m\u001b[0m\n",
      "\u001b[0;32m~/miniconda3/envs/bmcs_env/lib/python3.8/site-packages/numpy/lib/npyio.py\u001b[0m in \u001b[0;36mloadtxt\u001b[0;34m(fname, dtype, comments, delimiter, converters, skiprows, usecols, unpack, ndmin, encoding, max_rows, like)\u001b[0m\n\u001b[1;32m   1063\u001b[0m             \u001b[0mfname\u001b[0m \u001b[0;34m=\u001b[0m \u001b[0mos_fspath\u001b[0m\u001b[0;34m(\u001b[0m\u001b[0mfname\u001b[0m\u001b[0;34m)\u001b[0m\u001b[0;34m\u001b[0m\u001b[0;34m\u001b[0m\u001b[0m\n\u001b[1;32m   1064\u001b[0m         \u001b[0;32mif\u001b[0m \u001b[0m_is_string_like\u001b[0m\u001b[0;34m(\u001b[0m\u001b[0mfname\u001b[0m\u001b[0;34m)\u001b[0m\u001b[0;34m:\u001b[0m\u001b[0;34m\u001b[0m\u001b[0;34m\u001b[0m\u001b[0m\n\u001b[0;32m-> 1065\u001b[0;31m             \u001b[0mfh\u001b[0m \u001b[0;34m=\u001b[0m \u001b[0mnp\u001b[0m\u001b[0;34m.\u001b[0m\u001b[0mlib\u001b[0m\u001b[0;34m.\u001b[0m\u001b[0m_datasource\u001b[0m\u001b[0;34m.\u001b[0m\u001b[0mopen\u001b[0m\u001b[0;34m(\u001b[0m\u001b[0mfname\u001b[0m\u001b[0;34m,\u001b[0m \u001b[0;34m'rt'\u001b[0m\u001b[0;34m,\u001b[0m \u001b[0mencoding\u001b[0m\u001b[0;34m=\u001b[0m\u001b[0mencoding\u001b[0m\u001b[0;34m)\u001b[0m\u001b[0;34m\u001b[0m\u001b[0;34m\u001b[0m\u001b[0m\n\u001b[0m\u001b[1;32m   1066\u001b[0m             \u001b[0mfencoding\u001b[0m \u001b[0;34m=\u001b[0m \u001b[0mgetattr\u001b[0m\u001b[0;34m(\u001b[0m\u001b[0mfh\u001b[0m\u001b[0;34m,\u001b[0m \u001b[0;34m'encoding'\u001b[0m\u001b[0;34m,\u001b[0m \u001b[0;34m'latin1'\u001b[0m\u001b[0;34m)\u001b[0m\u001b[0;34m\u001b[0m\u001b[0;34m\u001b[0m\u001b[0m\n\u001b[1;32m   1067\u001b[0m             \u001b[0mfh\u001b[0m \u001b[0;34m=\u001b[0m \u001b[0miter\u001b[0m\u001b[0;34m(\u001b[0m\u001b[0mfh\u001b[0m\u001b[0;34m)\u001b[0m\u001b[0;34m\u001b[0m\u001b[0;34m\u001b[0m\u001b[0m\n",
      "\u001b[0;32m~/miniconda3/envs/bmcs_env/lib/python3.8/site-packages/numpy/lib/_datasource.py\u001b[0m in \u001b[0;36mopen\u001b[0;34m(path, mode, destpath, encoding, newline)\u001b[0m\n\u001b[1;32m    192\u001b[0m \u001b[0;34m\u001b[0m\u001b[0m\n\u001b[1;32m    193\u001b[0m     \u001b[0mds\u001b[0m \u001b[0;34m=\u001b[0m \u001b[0mDataSource\u001b[0m\u001b[0;34m(\u001b[0m\u001b[0mdestpath\u001b[0m\u001b[0;34m)\u001b[0m\u001b[0;34m\u001b[0m\u001b[0;34m\u001b[0m\u001b[0m\n\u001b[0;32m--> 194\u001b[0;31m     \u001b[0;32mreturn\u001b[0m \u001b[0mds\u001b[0m\u001b[0;34m.\u001b[0m\u001b[0mopen\u001b[0m\u001b[0;34m(\u001b[0m\u001b[0mpath\u001b[0m\u001b[0;34m,\u001b[0m \u001b[0mmode\u001b[0m\u001b[0;34m,\u001b[0m \u001b[0mencoding\u001b[0m\u001b[0;34m=\u001b[0m\u001b[0mencoding\u001b[0m\u001b[0;34m,\u001b[0m \u001b[0mnewline\u001b[0m\u001b[0;34m=\u001b[0m\u001b[0mnewline\u001b[0m\u001b[0;34m)\u001b[0m\u001b[0;34m\u001b[0m\u001b[0;34m\u001b[0m\u001b[0m\n\u001b[0m\u001b[1;32m    195\u001b[0m \u001b[0;34m\u001b[0m\u001b[0m\n\u001b[1;32m    196\u001b[0m \u001b[0;34m\u001b[0m\u001b[0m\n",
      "\u001b[0;32m~/miniconda3/envs/bmcs_env/lib/python3.8/site-packages/numpy/lib/_datasource.py\u001b[0m in \u001b[0;36mopen\u001b[0;34m(self, path, mode, encoding, newline)\u001b[0m\n\u001b[1;32m    529\u001b[0m                                       encoding=encoding, newline=newline)\n\u001b[1;32m    530\u001b[0m         \u001b[0;32melse\u001b[0m\u001b[0;34m:\u001b[0m\u001b[0;34m\u001b[0m\u001b[0;34m\u001b[0m\u001b[0m\n\u001b[0;32m--> 531\u001b[0;31m             \u001b[0;32mraise\u001b[0m \u001b[0mIOError\u001b[0m\u001b[0;34m(\u001b[0m\u001b[0;34m\"%s not found.\"\u001b[0m \u001b[0;34m%\u001b[0m \u001b[0mpath\u001b[0m\u001b[0;34m)\u001b[0m\u001b[0;34m\u001b[0m\u001b[0;34m\u001b[0m\u001b[0m\n\u001b[0m\u001b[1;32m    532\u001b[0m \u001b[0;34m\u001b[0m\u001b[0m\n\u001b[1;32m    533\u001b[0m \u001b[0;34m\u001b[0m\u001b[0m\n",
      "\u001b[0;31mOSError\u001b[0m: D:\\Shear zones\\load text files\\Load_b6_tv1.txt not found."
     ]
    }
   ],
   "source": [
    "load = np.loadtxt(r\"D:\\Shear zones\\load text files\\Load_b6_tv1.txt\", unpack=True)\n",
    "#np.shape(load)\n",
    "#load"
   ]
  },
  {
   "cell_type": "code",
   "execution_count": null,
   "metadata": {},
   "outputs": [],
   "source": [
    "import matplotlib.pyplot as plt\n",
    "_, ax1 = plt.subplots(1, 1, figsize=(10,6))\n",
    "\n",
    "ax1.plot(phi_arr[0:18], load[1:19], color = 'blue')\n",
    "ax1.set_xlabel(r'$\\varphi$'), ax1.set_ylabel('Load')\n",
    "#plt.savefig(\"D:\\\\Shear zones\\drawings\\Load_rotation.pdf\")"
   ]
  },
  {
   "cell_type": "code",
   "execution_count": null,
   "metadata": {},
   "outputs": [],
   "source": [
    "#     d_tc = np.sqrt((dic_cor.x_cor_pa_sol[:, 0] - rot_X_pa_sel[:, 0]) ** 2\n",
    "#                                    + (dic_cor.x_cor_pa_sol[:, 1] - rot_X_pa_sel[:, 1]) ** 2)\n",
    "\n",
    "    \n",
    "#     # averaging all distances\n",
    "#     d_tc_avg = np.average(d_tc)\n",
    "#     d_0c_avg = np.average(d_0c)\n",
    "#     d_0t_avg = np.average(d_0t)\n",
    "\n",
    "\n",
    "    \n",
    "#     # calculating phi using law of cosine\n",
    "#     phi = np.arccos(\n",
    "#             (d_tc_avg ** 2 + d_0c_avg ** 2 - d_0t_avg ** 2)\n",
    "#             / (2 * d_tc_avg * d_0c_avg))\n",
    "#     phi_val.append(phi)\n",
    "    #print(phi_val)\n",
    "    "
   ]
  },
  {
   "cell_type": "code",
   "execution_count": null,
   "metadata": {},
   "outputs": [],
   "source": []
  }
 ],
 "metadata": {
  "kernelspec": {
   "display_name": "Python 3",
   "language": "python",
   "name": "python3"
  },
  "language_info": {
   "codemirror_mode": {
    "name": "ipython",
    "version": 3
   },
   "file_extension": ".py",
   "mimetype": "text/x-python",
   "name": "python",
   "nbconvert_exporter": "python",
   "pygments_lexer": "ipython3",
   "version": "3.9.7"
  }
 },
 "nbformat": 4,
 "nbformat_minor": 4
}
