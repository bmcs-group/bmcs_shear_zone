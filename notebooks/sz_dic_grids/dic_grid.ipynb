{
 "cells": [
  {
   "cell_type": "markdown",
   "id": "37f44a69",
   "metadata": {},
   "source": [
    "# DIC Crack Inspector"
   ]
  },
  {
   "cell_type": "code",
   "execution_count": 25,
   "id": "41eef2fc",
   "metadata": {},
   "outputs": [],
   "source": [
    "%matplotlib widget"
   ]
  },
  {
   "cell_type": "code",
   "execution_count": 26,
   "id": "af7dc67c",
   "metadata": {},
   "outputs": [],
   "source": [
    "from bmcs_shear.dic_crack import DICGrid\n",
    "import numpy as np\n",
    "from bmcs_shear.api import CrackBridgeAdv\n",
    "np.seterr(divide='ignore', invalid='ignore');"
   ]
  },
  {
   "cell_type": "markdown",
   "id": "3d674d56",
   "metadata": {},
   "source": [
    "Convenience function to construct cracks"
   ]
  },
  {
   "cell_type": "markdown",
   "id": "61bc77ce",
   "metadata": {},
   "source": [
    "| Name | d | b | $\\lambda$ | $d_{s}$ | $\\rho$ | $d_{agg}$ | h |\n",
    "| --- | --- | --- | --- | --- | --- | --- | --- |\n",
    "| Versuche 1 | 0.30 | 0.32 | 4.30 | 16 | 0.0105 | 16 | 0.35 |\n",
    "| Versuche 5 | 0.30 | 0.32 | 6.00 | 16 | 0.0105 | 16 | 0.35 |\n",
    "| Versuche 6 | 0.30 | 0.32 | 4.30 | 16 | 0.0105 | 8 | 0.35 |\n",
    "| Versuche 7 | 0.30 | 0.32 | 4.30 | 16 | 0.0065 | 16 | 0.35 |\n",
    "| Versuche 8 | 0.30 | 0.32 | 4.30 | 25 | 0.01025 | 16 | 0.35 |\n",
    "| Versuche 9 | 0.30 | 0.32 | 4.30 | 16 | 0.0105 | 32 | 0.35 |\n",
    "| Versuche 10 | 0.30 | 0.32 | 4.30 | 16 | 0.0147 | 16 | 0.35 |"
   ]
  },
  {
   "cell_type": "markdown",
   "id": "e26a9517",
   "metadata": {},
   "source": [
    "\\begin{equation}\n",
    "M = \\frac{F}{2} (L - X^{cor})\n",
    "\\end{equation}"
   ]
  },
  {
   "cell_type": "markdown",
   "id": "823aea65",
   "metadata": {},
   "source": [
    "# B1_TV1"
   ]
  },
  {
   "cell_type": "code",
   "execution_count": 28,
   "id": "e452396c",
   "metadata": {},
   "outputs": [
    {
     "data": {
      "application/vnd.jupyter.widget-view+json": {
       "model_id": "eafe010041484ea682c83db8dd18f937",
       "version_major": 2,
       "version_minor": 0
      },
      "text/plain": [
       "VBox(children=(HBox(children=(VBox(children=(Tree(layout=Layout(align_items='stretch', border='solid 1px black…"
      ]
     },
     "metadata": {},
     "output_type": "display_data"
    }
   ],
   "source": [
    "dic_grid = DICGrid(dir_name='B1_TV1', start_t = 0, end_t =31, U_factor = 10, L = 1500)\n",
    "dic_grid.interact()"
   ]
  },
  {
   "cell_type": "markdown",
   "id": "11b6096c",
   "metadata": {},
   "source": [
    "# B1_TV2"
   ]
  },
  {
   "cell_type": "code",
   "execution_count": 29,
   "id": "82e611e7",
   "metadata": {},
   "outputs": [
    {
     "data": {
      "application/vnd.jupyter.widget-view+json": {
       "model_id": "b91f1f723fe0464288a7d80a62e40c5d",
       "version_major": 2,
       "version_minor": 0
      },
      "text/plain": [
       "VBox(children=(HBox(children=(VBox(children=(Tree(layout=Layout(align_items='stretch', border='solid 1px black…"
      ]
     },
     "metadata": {},
     "output_type": "display_data"
    }
   ],
   "source": [
    "dic_grid = DICGrid(dir_name='B1_TV2', start_t = 0, end_t=12, L=1500, U_factor=100)\n",
    "dic_grid.interact()"
   ]
  },
  {
   "cell_type": "markdown",
   "id": "6ac1df42",
   "metadata": {},
   "source": [
    "# B5_TV1"
   ]
  },
  {
   "cell_type": "code",
   "execution_count": 30,
   "id": "e7ddf8ca",
   "metadata": {},
   "outputs": [
    {
     "data": {
      "application/vnd.jupyter.widget-view+json": {
       "model_id": "5c658e645185463fbd5f5d9616eb1823",
       "version_major": 2,
       "version_minor": 0
      },
      "text/plain": [
       "VBox(children=(HBox(children=(VBox(children=(Tree(layout=Layout(align_items='stretch', border='solid 1px black…"
      ]
     },
     "metadata": {},
     "output_type": "display_data"
    }
   ],
   "source": [
    "dic_grid = DICGrid(start_t = 0, end_t =23, L = 1800, U_factor = 10, \n",
    "                   dir_name='B5_TV1')\n",
    "dic_grid.interact()"
   ]
  },
  {
   "cell_type": "markdown",
   "id": "d72396c1",
   "metadata": {},
   "source": [
    "# B5_TV2"
   ]
  },
  {
   "cell_type": "code",
   "execution_count": 31,
   "id": "fb5e4a2d",
   "metadata": {},
   "outputs": [
    {
     "data": {
      "application/vnd.jupyter.widget-view+json": {
       "model_id": "bcfa15ec789b4c1ebded6b1b7422b7ed",
       "version_major": 2,
       "version_minor": 0
      },
      "text/plain": [
       "VBox(children=(HBox(children=(VBox(children=(Tree(layout=Layout(align_items='stretch', border='solid 1px black…"
      ]
     },
     "metadata": {},
     "output_type": "display_data"
    }
   ],
   "source": [
    "dic_grid = DICGrid(start_t = 0, end_t =20, L = 1800, U_factor = 10, \n",
    "                   dir_name='B5_TV2')\n",
    "dic_grid.interact()"
   ]
  },
  {
   "cell_type": "markdown",
   "id": "56476e10",
   "metadata": {},
   "source": [
    "# B6_TV1"
   ]
  },
  {
   "cell_type": "code",
   "execution_count": 32,
   "id": "071f80e2",
   "metadata": {},
   "outputs": [],
   "source": [
    "dic_grid = DICGrid(start_t=0, end_t=12, L=1500, U_factor=100, \n",
    "                   dir_name='B6_TV1')"
   ]
  },
  {
   "cell_type": "code",
   "execution_count": 33,
   "id": "47712b0d-11aa-40c5-99da-8d3a677f8a47",
   "metadata": {},
   "outputs": [
    {
     "data": {
      "application/vnd.jupyter.widget-view+json": {
       "model_id": "dfd7e955087c4075ad268b9d4e2a39eb",
       "version_major": 2,
       "version_minor": 0
      },
      "text/plain": [
       "VBox(children=(HBox(children=(VBox(children=(Tree(layout=Layout(align_items='stretch', border='solid 1px black…"
      ]
     },
     "metadata": {},
     "output_type": "display_data"
    }
   ],
   "source": [
    "dic_grid.interact()"
   ]
  },
  {
   "cell_type": "markdown",
   "id": "919b7584",
   "metadata": {},
   "source": [
    "# B6_TV2"
   ]
  },
  {
   "cell_type": "code",
   "execution_count": 34,
   "id": "02ae18a4",
   "metadata": {},
   "outputs": [
    {
     "data": {
      "application/vnd.jupyter.widget-view+json": {
       "model_id": "22112e738a7f4812bd3a9f5d3c1e92f6",
       "version_major": 2,
       "version_minor": 0
      },
      "text/plain": [
       "VBox(children=(HBox(children=(VBox(children=(Tree(layout=Layout(align_items='stretch', border='solid 1px black…"
      ]
     },
     "metadata": {},
     "output_type": "display_data"
    }
   ],
   "source": [
    "dic_grid = DICGrid(start_t = 0, end_t =19, L = 1500, U_factor = 100, \n",
    "                   dir_name='B6_TV2_')\n",
    "dic_grid.interact()"
   ]
  },
  {
   "cell_type": "markdown",
   "id": "6aec91ae",
   "metadata": {},
   "source": [
    "# B7_TV1"
   ]
  },
  {
   "cell_type": "code",
   "execution_count": 35,
   "id": "646aea9e",
   "metadata": {},
   "outputs": [
    {
     "data": {
      "application/vnd.jupyter.widget-view+json": {
       "model_id": "bccae7482c484c4795d1157b644ce5ea",
       "version_major": 2,
       "version_minor": 0
      },
      "text/plain": [
       "VBox(children=(HBox(children=(VBox(children=(Tree(layout=Layout(align_items='stretch', border='solid 1px black…"
      ]
     },
     "metadata": {},
     "output_type": "display_data"
    }
   ],
   "source": [
    "dic_grid = DICGrid(start_t = 0, end_t =12, L = 1500, U_factor = 100, \n",
    "                   dir_name='B7_TV1')\n",
    "dic_grid.interact()"
   ]
  },
  {
   "cell_type": "markdown",
   "id": "f3e0650a",
   "metadata": {},
   "source": [
    "# B7_TV2"
   ]
  },
  {
   "cell_type": "code",
   "execution_count": 36,
   "id": "006cdb97",
   "metadata": {},
   "outputs": [
    {
     "data": {
      "application/vnd.jupyter.widget-view+json": {
       "model_id": "67dca81b203844c792df92bfbc867b5e",
       "version_major": 2,
       "version_minor": 0
      },
      "text/plain": [
       "VBox(children=(HBox(children=(VBox(children=(Tree(layout=Layout(align_items='stretch', border='solid 1px black…"
      ]
     },
     "metadata": {},
     "output_type": "display_data"
    }
   ],
   "source": [
    "dic_grid = DICGrid(start_t = 0, end_t =15, L = 1500, U_factor = 10, \n",
    "                   dir_name='B7_TV2')\n",
    "dic_grid.interact()"
   ]
  },
  {
   "cell_type": "markdown",
   "id": "00dc91eb",
   "metadata": {},
   "source": [
    "# B8_TV1"
   ]
  },
  {
   "cell_type": "code",
   "execution_count": 37,
   "id": "043d8889",
   "metadata": {},
   "outputs": [
    {
     "data": {
      "application/vnd.jupyter.widget-view+json": {
       "model_id": "b358cb88b3054007bf4c1c591a2acf46",
       "version_major": 2,
       "version_minor": 0
      },
      "text/plain": [
       "VBox(children=(HBox(children=(VBox(children=(Tree(layout=Layout(align_items='stretch', border='solid 1px black…"
      ]
     },
     "metadata": {},
     "output_type": "display_data"
    }
   ],
   "source": [
    "dic_grid = DICGrid(start_t = 0, end_t =14, L = 1500, U_factor = 10, \n",
    "                   dir_name='B8_TV1')\n",
    "dic_grid.interact()"
   ]
  },
  {
   "cell_type": "markdown",
   "id": "4f09c771",
   "metadata": {},
   "source": [
    "# B8_TV2"
   ]
  },
  {
   "cell_type": "code",
   "execution_count": 15,
   "id": "4018f024",
   "metadata": {},
   "outputs": [
    {
     "data": {
      "application/vnd.jupyter.widget-view+json": {
       "model_id": "321c5641f74045fcb0d8e1378028caef",
       "version_major": 2,
       "version_minor": 0
      },
      "text/plain": [
       "VBox(children=(HBox(children=(VBox(children=(Tree(layout=Layout(align_items='stretch', border='solid 1px black…"
      ]
     },
     "metadata": {},
     "output_type": "display_data"
    }
   ],
   "source": [
    "dic_grid = DICGrid(start_t = 0, end_t =15,  L = 1500, U_factor = 10, dir_name='B8_TV2')\n",
    "dic_grid.interact()"
   ]
  },
  {
   "cell_type": "markdown",
   "id": "ec167418",
   "metadata": {},
   "source": [
    "# B9_TV1"
   ]
  },
  {
   "cell_type": "code",
   "execution_count": 16,
   "id": "bd3f6e86",
   "metadata": {},
   "outputs": [
    {
     "data": {
      "application/vnd.jupyter.widget-view+json": {
       "model_id": "1fa9c1b7d8f04179a271bae2d4ea57a8",
       "version_major": 2,
       "version_minor": 0
      },
      "text/plain": [
       "VBox(children=(HBox(children=(VBox(children=(Tree(layout=Layout(align_items='stretch', border='solid 1px black…"
      ]
     },
     "metadata": {},
     "output_type": "display_data"
    }
   ],
   "source": [
    "dic_grid = DICGrid(start_t = 0, end_t =18, L = 1500, U_factor = 10, dir_name='B9_TV1_')\n",
    "dic_grid.interact()"
   ]
  },
  {
   "cell_type": "markdown",
   "id": "1db489e9",
   "metadata": {},
   "source": [
    "# B9_TV2"
   ]
  },
  {
   "cell_type": "code",
   "execution_count": 17,
   "id": "80d6a483",
   "metadata": {},
   "outputs": [
    {
     "data": {
      "application/vnd.jupyter.widget-view+json": {
       "model_id": "db88246139dc4a639003d0df3ec887dd",
       "version_major": 2,
       "version_minor": 0
      },
      "text/plain": [
       "VBox(children=(HBox(children=(VBox(children=(Tree(layout=Layout(align_items='stretch', border='solid 1px black…"
      ]
     },
     "metadata": {},
     "output_type": "display_data"
    }
   ],
   "source": [
    "dic_grid = DICGrid(start_t = 0, end_t =16, L = 1500, U_factor = 10, \n",
    "                   dir_name='B9_TV2')\n",
    "dic_grid.interact()"
   ]
  },
  {
   "cell_type": "markdown",
   "id": "91768d4a",
   "metadata": {},
   "source": [
    "# B10_TV1"
   ]
  },
  {
   "cell_type": "code",
   "execution_count": 18,
   "id": "ca065bb1",
   "metadata": {},
   "outputs": [
    {
     "data": {
      "application/vnd.jupyter.widget-view+json": {
       "model_id": "8cc2bf16943d410ebc8e463bfe69f18e",
       "version_major": 2,
       "version_minor": 0
      },
      "text/plain": [
       "VBox(children=(HBox(children=(VBox(children=(Tree(layout=Layout(align_items='stretch', border='solid 1px black…"
      ]
     },
     "metadata": {},
     "output_type": "display_data"
    }
   ],
   "source": [
    "dic_grid = DICGrid(start_t=0, end_t=15, L=1500, U_factor=10, \n",
    "                   dir_name='B10_TV1')\n",
    "dic_grid.interact()"
   ]
  },
  {
   "cell_type": "markdown",
   "id": "1dbce6c5",
   "metadata": {},
   "source": [
    "# B10_TV2"
   ]
  },
  {
   "cell_type": "code",
   "execution_count": 19,
   "id": "4a1e3786",
   "metadata": {},
   "outputs": [
    {
     "data": {
      "application/vnd.jupyter.widget-view+json": {
       "model_id": "405d0a82c3044dd498c82e547429c028",
       "version_major": 2,
       "version_minor": 0
      },
      "text/plain": [
       "VBox(children=(HBox(children=(VBox(children=(Tree(layout=Layout(align_items='stretch', border='solid 1px black…"
      ]
     },
     "metadata": {},
     "output_type": "display_data"
    }
   ],
   "source": [
    "dic_grid = DICGrid(start_t = 0, end_t =10, L = 1500, U_factor = 10, \n",
    "                   dir_name='B10_TV2')\n",
    "dic_grid.interact()"
   ]
  },
  {
   "cell_type": "code",
   "execution_count": null,
   "id": "fbc7bbec-4c8b-4967-a7c8-65c79a046e79",
   "metadata": {},
   "outputs": [],
   "source": []
  }
 ],
 "metadata": {
  "kernelspec": {
   "display_name": "bmcs_env",
   "language": "python",
   "name": "bmcs_env"
  },
  "language_info": {
   "codemirror_mode": {
    "name": "ipython",
    "version": 3
   },
   "file_extension": ".py",
   "mimetype": "text/x-python",
   "name": "python",
   "nbconvert_exporter": "python",
   "pygments_lexer": "ipython3",
   "version": "3.8.8"
  }
 },
 "nbformat": 4,
 "nbformat_minor": 5
}
