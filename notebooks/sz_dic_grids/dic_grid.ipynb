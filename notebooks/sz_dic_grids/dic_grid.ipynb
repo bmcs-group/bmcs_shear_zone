{
 "cells": [
  {
   "cell_type": "markdown",
   "id": "37f44a69",
   "metadata": {},
   "source": [
    "# DIC Crack Inspector"
   ]
  },
  {
   "cell_type": "code",
   "execution_count": null,
   "id": "41eef2fc",
   "metadata": {},
   "outputs": [],
   "source": [
    "%matplotlib widget"
   ]
  },
  {
   "cell_type": "code",
   "execution_count": null,
   "id": "af7dc67c",
   "metadata": {},
   "outputs": [],
   "source": [
    "from bmcs_shear.dic_crack import DICGrid\n",
    "import numpy as np\n",
    "from bmcs_shear.api import CrackBridgeAdv\n",
    "np.seterr(divide='ignore', invalid='ignore');"
   ]
  },
  {
   "cell_type": "markdown",
   "id": "3d674d56",
   "metadata": {},
   "source": [
    "Convenience function to construct cracks"
   ]
  },
  {
   "cell_type": "markdown",
   "id": "61bc77ce",
   "metadata": {},
   "source": [
    "| Name | d | b | $\\lambda$ | $d_{s}$ | $\\rho$ | $d_{agg}$ | h |\n",
    "| --- | --- | --- | --- | --- | --- | --- | --- |\n",
    "| Versuche 1 | 0.30 | 0.32 | 4.30 | 16 | 0.0105 | 16 | 0.35 |\n",
    "| Versuche 5 | 0.30 | 0.32 | 6.00 | 16 | 0.0105 | 16 | 0.35 |\n",
    "| Versuche 6 | 0.30 | 0.32 | 4.30 | 16 | 0.0105 | 8 | 0.35 |\n",
    "| Versuche 7 | 0.30 | 0.32 | 4.30 | 16 | 0.0065 | 16 | 0.35 |\n",
    "| Versuche 8 | 0.30 | 0.32 | 4.30 | 25 | 0.01025 | 16 | 0.35 |\n",
    "| Versuche 9 | 0.30 | 0.32 | 4.30 | 16 | 0.0105 | 32 | 0.35 |\n",
    "| Versuche 10 | 0.30 | 0.32 | 4.30 | 16 | 0.0147 | 16 | 0.35 |"
   ]
  },
  {
   "cell_type": "markdown",
   "id": "e26a9517",
   "metadata": {},
   "source": [
    "\\begin{equation}\n",
    "M = \\frac{F}{2} (L - X^{cor})\n",
    "\\end{equation}"
   ]
  },
  {
   "cell_type": "markdown",
   "id": "823aea65",
   "metadata": {},
   "source": [
    "# B1_TV1"
   ]
  },
  {
   "cell_type": "code",
   "execution_count": null,
   "id": "e452396c",
   "metadata": {},
   "outputs": [],
   "source": [
    "dic_grid = DICGrid(dir_name='B1_TV1', start_t = 0, end_t =31, U_factor = 10, L = 1500)\n",
    "dic_grid.interact()"
   ]
  },
  {
   "cell_type": "markdown",
   "id": "11b6096c",
   "metadata": {},
   "source": [
    "# B1_TV2"
   ]
  },
  {
   "cell_type": "code",
   "execution_count": null,
   "id": "82e611e7",
   "metadata": {},
   "outputs": [],
   "source": [
    "dic_grid = DICGrid(dir_name='B1_TV2', start_t = 0, end_t=12, L=1500, U_factor=100)\n",
    "dic_grid.interact()"
   ]
  },
  {
   "cell_type": "markdown",
   "id": "6ac1df42",
   "metadata": {},
   "source": [
    "# B5_TV1"
   ]
  },
  {
   "cell_type": "code",
   "execution_count": null,
   "id": "e7ddf8ca",
   "metadata": {},
   "outputs": [],
   "source": [
    "dic_grid = DICGrid(start_t = 0, end_t =23, L = 1800, U_factor = 10, \n",
    "                   dir_name='B5_TV1')\n",
    "dic_grid.interact()"
   ]
  },
  {
   "cell_type": "markdown",
   "id": "d72396c1",
   "metadata": {},
   "source": [
    "# B5_TV2"
   ]
  },
  {
   "cell_type": "code",
   "execution_count": null,
   "id": "fb5e4a2d",
   "metadata": {},
   "outputs": [],
   "source": [
    "dic_grid = DICGrid(start_t = 0, end_t =20, L = 1800, U_factor = 10, \n",
    "                   dir_name='B5_TV2')\n",
    "dic_grid.interact()"
   ]
  },
  {
   "cell_type": "markdown",
   "id": "56476e10",
   "metadata": {},
   "source": [
    "# B6_TV1"
   ]
  },
  {
   "cell_type": "code",
   "execution_count": null,
   "id": "071f80e2",
   "metadata": {},
   "outputs": [],
   "source": [
    "dic_grid = DICGrid(start_t=0, end_t=12, L=1500, U_factor=100, \n",
    "                   dir_name='B6_TV1')"
   ]
  },
  {
   "cell_type": "code",
   "execution_count": null,
   "id": "47712b0d-11aa-40c5-99da-8d3a677f8a47",
   "metadata": {},
   "outputs": [],
   "source": [
    "dic_grid.interact()"
   ]
  },
  {
   "cell_type": "markdown",
   "id": "919b7584",
   "metadata": {},
   "source": [
    "# B6_TV2"
   ]
  },
  {
   "cell_type": "code",
   "execution_count": null,
   "id": "02ae18a4",
   "metadata": {},
   "outputs": [],
   "source": [
    "dic_grid = DICGrid(start_t = 0, end_t =19, L = 1500, U_factor = 100, \n",
    "                   dir_name='B6_TV2_')\n",
    "dic_grid.interact()"
   ]
  },
  {
   "cell_type": "markdown",
   "id": "6aec91ae",
   "metadata": {},
   "source": [
    "# B7_TV1"
   ]
  },
  {
   "cell_type": "code",
   "execution_count": null,
   "id": "646aea9e",
   "metadata": {},
   "outputs": [],
   "source": [
    "dic_grid = DICGrid(start_t = 0, end_t =12, L = 1500, U_factor = 100, \n",
    "                   dir_name='B7_TV1')\n",
    "dic_grid.interact()"
   ]
  },
  {
   "cell_type": "markdown",
   "id": "f3e0650a",
   "metadata": {},
   "source": [
    "# B7_TV2"
   ]
  },
  {
   "cell_type": "code",
   "execution_count": null,
   "id": "006cdb97",
   "metadata": {},
   "outputs": [],
   "source": [
    "dic_grid = DICGrid(start_t = 0, end_t =15, L = 1500, U_factor = 10, \n",
    "                   dir_name='B7_TV2')\n",
    "dic_grid.interact()"
   ]
  },
  {
   "cell_type": "markdown",
   "id": "00dc91eb",
   "metadata": {},
   "source": [
    "# B8_TV1"
   ]
  },
  {
   "cell_type": "code",
   "execution_count": null,
   "id": "043d8889",
   "metadata": {},
   "outputs": [],
   "source": [
    "dic_grid = DICGrid(start_t = 0, end_t =14, L = 1500, U_factor = 10, \n",
    "                   dir_name='B8_TV1')\n",
    "dic_grid.interact()"
   ]
  },
  {
   "cell_type": "markdown",
   "id": "4f09c771",
   "metadata": {},
   "source": [
    "# B8_TV2"
   ]
  },
  {
   "cell_type": "code",
   "execution_count": null,
   "id": "4018f024",
   "metadata": {},
   "outputs": [],
   "source": [
    "dic_grid = DICGrid(start_t = 0, end_t =15,  L = 1500, U_factor = 10, dir_name='B8_TV2')\n",
    "dic_grid.interact()"
   ]
  },
  {
   "cell_type": "markdown",
   "id": "ec167418",
   "metadata": {},
   "source": [
    "# B9_TV1"
   ]
  },
  {
   "cell_type": "code",
   "execution_count": null,
   "id": "bd3f6e86",
   "metadata": {},
   "outputs": [],
   "source": [
    "dic_grid = DICGrid(start_t = 0, end_t =18, L = 1500, U_factor = 10, dir_name='B9_TV1_')\n",
    "dic_grid.interact()"
   ]
  },
  {
   "cell_type": "markdown",
   "id": "1db489e9",
   "metadata": {},
   "source": [
    "# B9_TV2"
   ]
  },
  {
   "cell_type": "code",
   "execution_count": null,
   "id": "80d6a483",
   "metadata": {},
   "outputs": [],
   "source": [
    "dic_grid = DICGrid(start_t = 0, end_t =16, L = 1500, U_factor = 10, \n",
    "                   dir_name='B9_TV2')\n",
    "dic_grid.interact()"
   ]
  },
  {
   "cell_type": "markdown",
   "id": "91768d4a",
   "metadata": {},
   "source": [
    "# B10_TV1"
   ]
  },
  {
   "cell_type": "code",
   "execution_count": null,
   "id": "ca065bb1",
   "metadata": {},
   "outputs": [],
   "source": [
    "dic_grid = DICGrid(start_t=0, end_t=15, L=1500, U_factor=10, \n",
    "                   dir_name='B10_TV1')\n",
    "dic_grid.interact()"
   ]
  },
  {
   "cell_type": "markdown",
   "id": "1dbce6c5",
   "metadata": {},
   "source": [
    "# B10_TV2"
   ]
  },
  {
   "cell_type": "code",
   "execution_count": null,
   "id": "4a1e3786",
   "metadata": {},
   "outputs": [],
   "source": [
    "dic_grid = DICGrid(start_t = 0, end_t =10, L = 1500, U_factor = 10, \n",
    "                   dir_name='B10_TV2')\n",
    "dic_grid.interact()"
   ]
  },
  {
   "cell_type": "code",
   "execution_count": null,
   "id": "fbc7bbec-4c8b-4967-a7c8-65c79a046e79",
   "metadata": {},
   "outputs": [],
   "source": []
  }
 ],
 "metadata": {
  "kernelspec": {
   "display_name": "bmcs_env",
   "language": "python",
   "name": "bmcs_env"
  },
  "language_info": {
   "codemirror_mode": {
    "name": "ipython",
    "version": 3
   },
   "file_extension": ".py",
   "mimetype": "text/x-python",
   "name": "python",
   "nbconvert_exporter": "python",
   "pygments_lexer": "ipython3"
  }
 },
 "nbformat": 4,
 "nbformat_minor": 5
}
