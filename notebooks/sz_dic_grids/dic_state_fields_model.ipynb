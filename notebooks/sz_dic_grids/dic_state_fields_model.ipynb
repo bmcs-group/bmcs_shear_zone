{
 "cells": [
  {
   "cell_type": "markdown",
   "id": "784b51b9",
   "metadata": {},
   "source": [
    "# **DIC driven FE interpretation of a shear zone**\n",
    "\n",
    "This notebook shows how to derive a deeper interpretation of the DIC displacements measured on a grid.\n",
    "Based on an FE-mesh, it delivers the strain, stress and damage tensors. Further processing of the \n",
    "anisotropic damage tensor is used to detect the localized cracks."
   ]
  },
  {
   "cell_type": "code",
   "execution_count": 1,
   "id": "87f788ee",
   "metadata": {},
   "outputs": [],
   "source": [
    "%matplotlib widget"
   ]
  },
  {
   "cell_type": "code",
   "execution_count": 2,
   "id": "56799eb0",
   "metadata": {},
   "outputs": [],
   "source": [
    "import ibvpy.api as ib\n",
    "import matplotlib.pylab as plt\n",
    "from mayavi import mlab\n",
    "from bmcs_shear.api import CrackBridgeAdv\n",
    "from bmcs_shear.dic_crack import \\\n",
    "    DICGrid, DICAlignedGrid, DICCOR, DICStateFields\n",
    "from bmcs_shear.dic_crack.dic_state_fields import DICStateFields\n",
    "from matplotlib import cm\n",
    "import numpy as np\n",
    "np.seterr(divide='ignore', invalid='ignore');"
   ]
  },
  {
   "cell_type": "markdown",
   "id": "4656ba6d-d81f-42ff-af07-add3063aa957",
   "metadata": {},
   "source": [
    "# DIC grid"
   ]
  },
  {
   "cell_type": "markdown",
   "id": "dc6b4b2b-5795-4546-9592-fa35a77fe60e",
   "metadata": {},
   "source": [
    "## Input displacements on a grid"
   ]
  },
  {
   "cell_type": "code",
   "execution_count": 3,
   "id": "f8e13176-c341-4865-8cf3-dc4de28af238",
   "metadata": {},
   "outputs": [],
   "source": [
    "dic_grid = DICGrid(start_t=0, end_t=1, U_factor=100, dir_name='B1_TV1')"
   ]
  },
  {
   "cell_type": "code",
   "execution_count": 4,
   "id": "58a11c8d-abc7-4f1a-97d3-658a0ee14624",
   "metadata": {},
   "outputs": [],
   "source": [
    "dic_grid = DICGrid(start_t = 0, end_t =26, L = 1500, U_factor = 1, dir_name='B1_TV2')"
   ]
  },
  {
   "cell_type": "code",
   "execution_count": 5,
   "id": "8dd1604a-b3af-4425-822f-8b79cae5959c",
   "metadata": {},
   "outputs": [],
   "source": [
    "dic_grid = DICGrid(start_t=0, end_t=1, U_factor=100, dir_name='B10_TV2')"
   ]
  },
  {
   "cell_type": "markdown",
   "id": "ebf87b11-d26b-42b3-95aa-8a7d49cfeec8",
   "metadata": {},
   "source": [
    "## Finite element processing of the displacement field"
   ]
  },
  {
   "cell_type": "code",
   "execution_count": 6,
   "id": "11162d1d-0a55-49db-ac3f-22f90ed143e7",
   "metadata": {},
   "outputs": [],
   "source": [
    "dsf = DICStateFields(dic_grid=dic_grid, t=0.5)\n",
    "dsf.tmodel_.trait_set(E=5000, c_T=0, nu=0.18, epsilon_0=0.0005, epsilon_f=0.01);\n",
    "dsf.eval()"
   ]
  },
  {
   "cell_type": "markdown",
   "id": "39911961-7efc-492e-be43-137e3dc89ecd",
   "metadata": {},
   "source": [
    "# State fields on a regular grid"
   ]
  },
  {
   "cell_type": "code",
   "execution_count": 7,
   "id": "92337645-a68a-499e-aae6-296a373f32f3",
   "metadata": {},
   "outputs": [
    {
     "data": {
      "application/vnd.jupyter.widget-view+json": {
       "model_id": "fcab7802bdb3420f9074a1033ad2411c",
       "version_major": 2,
       "version_minor": 0
      },
      "text/plain": [
       "VBox(children=(HBox(children=(VBox(children=(Tree(layout=Layout(align_items='stretch', border='solid 1px black…"
      ]
     },
     "metadata": {},
     "output_type": "display_data"
    }
   ],
   "source": [
    "dsf.interact()"
   ]
  },
  {
   "cell_type": "code",
   "execution_count": null,
   "id": "1bacfd97-23f3-4d5d-a08d-a99f9410dbe9",
   "metadata": {},
   "outputs": [],
   "source": []
  },
  {
   "cell_type": "markdown",
   "id": "78a68a63-e231-4c26-85a1-3173358c25b0",
   "metadata": {},
   "source": [
    "# TODO - in the `DICStateFields` class\n",
    "\n",
    " - decompose the fields into properties"
   ]
  },
  {
   "cell_type": "markdown",
   "id": "f93db897-1bd9-44b8-9724-64ae3b047492",
   "metadata": {},
   "source": [
    "# Next steps in crack detection\n",
    "\n",
    " - identify the crack tip \n",
    " - identify the index regions between cracks in the final stage (reference frame -- and rotating frame)\n",
    " - improve the detection of the cracks at the bottom - avoid multiple cracks next to each other\n",
    " - incremental analysis - backward and forward crack processing\n",
    " - exploit the principle damage direction to limit the range of the crack increment\n",
    " - how to detect the start of the failure crack - this would only work for incremental evaluation?"
   ]
  },
  {
   "cell_type": "markdown",
   "id": "35dab7e0-f1a9-4cc4-b2fa-a39ce8eb6c3a",
   "metadata": {},
   "source": [
    "# Detection provided "
   ]
  },
  {
   "cell_type": "markdown",
   "id": "675e2c93-d74a-4211-896f-1a166af02b33",
   "metadata": {},
   "source": [
    "Along the detected crack, process the crack opening and sliding starting from the tip."
   ]
  },
  {
   "cell_type": "markdown",
   "id": "de09b619-ef32-4cf0-b9ce-fbb473c969d1",
   "metadata": {},
   "source": [
    "With the fixed and rotating frames detected - process the COR histories "
   ]
  },
  {
   "cell_type": "markdown",
   "id": "5d719927-d4f4-4287-b0cd-2c0d02d6052d",
   "metadata": {},
   "source": [
    "Derive the moment - rotation relation for each crack"
   ]
  },
  {
   "cell_type": "markdown",
   "id": "7e45660f-1d5b-475a-99f4-e972f2489ea2",
   "metadata": {},
   "source": [
    "Use the rigid rotation kinematics to evaluate the opening and sliding - compare with the experimental values"
   ]
  },
  {
   "cell_type": "markdown",
   "id": "06b17bdb-aecc-4d34-a159-6a506c74d0a7",
   "metadata": {},
   "source": [
    "Apply the values needed for comparison "
   ]
  },
  {
   "cell_type": "code",
   "execution_count": 8,
   "id": "84c0da46-9c33-421b-8793-1a4dd8474c68",
   "metadata": {},
   "outputs": [],
   "source": [
    "eps_EMab, eps_MNab, eps_MNa, max_eps_MN = dsf.eps_fields"
   ]
  },
  {
   "cell_type": "code",
   "execution_count": 9,
   "id": "5c456df1-866a-451a-9b6c-09db98d80257",
   "metadata": {},
   "outputs": [],
   "source": [
    "x_MNa = dsf.x_MNa\n",
    "x_MN, y_MN = np.einsum('...a->a...', x_MNa)"
   ]
  },
  {
   "cell_type": "code",
   "execution_count": 10,
   "id": "c75ac49b-34fe-475c-b622-202c5d6ac7ba",
   "metadata": {},
   "outputs": [],
   "source": [
    "dsf.mlab_scalar(x_MN.T, y_MN.T, dsf.omega_MN.T, factor=100)"
   ]
  },
  {
   "cell_type": "code",
   "execution_count": 11,
   "id": "5531f54d-d2a1-4bcd-9333-d6e5740b7d8b",
   "metadata": {},
   "outputs": [
    {
     "ename": "TypeError",
     "evalue": "interp_U() takes 2 positional arguments but 3 were given",
     "output_type": "error",
     "traceback": [
      "\u001b[0;31m---------------------------------------------------------------------------\u001b[0m",
      "\u001b[0;31mTypeError\u001b[0m                                 Traceback (most recent call last)",
      "\u001b[0;32m<ipython-input-11-56c2907be052>\u001b[0m in \u001b[0;36m<module>\u001b[0;34m\u001b[0m\n\u001b[1;32m      3\u001b[0m \u001b[0myy_N\u001b[0m \u001b[0;34m=\u001b[0m \u001b[0mnp\u001b[0m\u001b[0;34m.\u001b[0m\u001b[0mlinspace\u001b[0m\u001b[0;34m(\u001b[0m\u001b[0mx_N\u001b[0m\u001b[0;34m[\u001b[0m\u001b[0;36m0\u001b[0m\u001b[0;34m]\u001b[0m\u001b[0;34m,\u001b[0m \u001b[0mx_N\u001b[0m\u001b[0;34m[\u001b[0m\u001b[0;34m-\u001b[0m\u001b[0;36m1\u001b[0m\u001b[0;34m]\u001b[0m\u001b[0;34m,\u001b[0m \u001b[0;36m30\u001b[0m\u001b[0;34m)\u001b[0m\u001b[0;34m\u001b[0m\u001b[0;34m\u001b[0m\u001b[0m\n\u001b[1;32m      4\u001b[0m \u001b[0mxx_NM\u001b[0m\u001b[0;34m,\u001b[0m \u001b[0myy_NM\u001b[0m \u001b[0;34m=\u001b[0m \u001b[0mnp\u001b[0m\u001b[0;34m.\u001b[0m\u001b[0mmeshgrid\u001b[0m\u001b[0;34m(\u001b[0m\u001b[0mxx_M\u001b[0m\u001b[0;34m,\u001b[0m \u001b[0myy_N\u001b[0m\u001b[0;34m)\u001b[0m\u001b[0;34m\u001b[0m\u001b[0;34m\u001b[0m\u001b[0m\n\u001b[0;32m----> 5\u001b[0;31m \u001b[0mu_NMa\u001b[0m \u001b[0;34m=\u001b[0m \u001b[0mdsf\u001b[0m\u001b[0;34m.\u001b[0m\u001b[0minterp_U\u001b[0m\u001b[0;34m(\u001b[0m\u001b[0mxx_M\u001b[0m\u001b[0;34m,\u001b[0m \u001b[0myy_N\u001b[0m\u001b[0;34m)\u001b[0m\u001b[0;34m\u001b[0m\u001b[0;34m\u001b[0m\u001b[0m\n\u001b[0m",
      "\u001b[0;31mTypeError\u001b[0m: interp_U() takes 2 positional arguments but 3 were given"
     ]
    }
   ],
   "source": [
    "x_M, x_N = x_MN[:, 0], y_MN[0, :]\n",
    "xx_M = np.linspace(x_M[-1], x_M[0], 100)\n",
    "yy_N = np.linspace(x_N[0], x_N[-1], 30)\n",
    "xx_NM, yy_NM = np.meshgrid(xx_M, yy_N)\n",
    "u_NMa = dsf.interp_U(xx_M, yy_N)"
   ]
  },
  {
   "cell_type": "code",
   "execution_count": null,
   "id": "833ae541-d54d-4d64-aedc-f8a0a8c4b16f",
   "metadata": {},
   "outputs": [],
   "source": [
    "from mayavi import mlab\n",
    "from tvtk.api import tvtk\n",
    "import numpy as np\n",
    "\n",
    "def mlab_vector(x_NM, y_NM, vector_NMa, factor=100, label='displ'):\n",
    "    mlab.figure()\n",
    "    scene = mlab.get_engine().scenes[-1]\n",
    "    scene.name = label\n",
    "    scene.scene.background = (1.0, 1.0, 1.0)\n",
    "    scene.scene.foreground = (0.0, 0.0, 0.0)\n",
    "    scene.scene.z_plus_view()\n",
    "    scene.scene.parallel_projection = True\n",
    "    pts_shape = x_NM.shape + (1,)\n",
    "    pts = np.empty(pts_shape + (3,), dtype=float)\n",
    "    pts[..., 0] = x_NM[..., np.newaxis]\n",
    "    pts[..., 1] = y_NM[..., np.newaxis]\n",
    "    len_vector_NM = np.sqrt(np.einsum('...a,...a->...', vector_NMa, vector_NMa))\n",
    "    pts[..., 2] = len_vector_NM[..., np.newaxis] * factor\n",
    "    pts = pts.transpose(2, 1, 0, 3).copy()\n",
    "    pts.shape = int(pts.size / 3), 3\n",
    "    sg = tvtk.StructuredGrid(dimensions=pts_shape, points=pts)\n",
    "    sg.point_data.scalars = len_vector_NM.ravel()\n",
    "    sg.point_data.scalars.name = 'length'\n",
    "#     delta_23 = np.array([[1, 0, 0], [0, 1, 0]], dtype=np.float_)\n",
    "#     vector_NMa_3D = np.einsum('...a,ab->...b', vector_NMa, delta_23)\n",
    "#     sg.point_data.vectors = vector_NMa_3D.reshape(-1, 3)\n",
    "#     sg.point_data.vectors.name = label\n",
    "    # Now visualize the data.\n",
    "    d = mlab.pipeline.add_dataset(sg)\n",
    "    mlab.pipeline.iso_surface(d)\n",
    "    mlab.pipeline.surface(d)\n",
    "    mlab.show()\n"
   ]
  },
  {
   "cell_type": "code",
   "execution_count": null,
   "id": "c1a41599-e896-4d4b-90ab-0a821238ecb6",
   "metadata": {},
   "outputs": [],
   "source": [
    "len_vector_NM = np.sqrt(np.einsum('...a,...a->...', u_NMa, u_NMa))\n",
    "len_vector_NM.shape"
   ]
  },
  {
   "cell_type": "code",
   "execution_count": null,
   "id": "2f2b7531-ab23-4583-8fad-d647a8b340a0",
   "metadata": {},
   "outputs": [],
   "source": [
    "mlab_vector(xx_NM, yy_NM, u_NMa)"
   ]
  },
  {
   "cell_type": "code",
   "execution_count": null,
   "id": "b5bd03e2-14e3-4bc6-abce-89716f888560",
   "metadata": {},
   "outputs": [],
   "source": []
  },
  {
   "cell_type": "code",
   "execution_count": null,
   "id": "bbb15883-7ab2-4182-9786-f79c5e380da4",
   "metadata": {},
   "outputs": [],
   "source": []
  }
 ],
 "metadata": {
  "kernelspec": {
   "display_name": "bmcs_env",
   "language": "python",
   "name": "bmcs_env"
  },
  "language_info": {
   "codemirror_mode": {
    "name": "ipython",
    "version": 3
   },
   "file_extension": ".py",
   "mimetype": "text/x-python",
   "name": "python",
   "nbconvert_exporter": "python",
   "pygments_lexer": "ipython3",
   "version": "3.8.8"
  }
 },
 "nbformat": 4,
 "nbformat_minor": 5
}
