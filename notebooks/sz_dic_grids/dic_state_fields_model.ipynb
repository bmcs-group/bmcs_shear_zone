{
 "cells": [
  {
   "cell_type": "markdown",
   "id": "784b51b9",
   "metadata": {},
   "source": [
    "# **DIC driven FE interpretation of a shear zone**\n",
    "\n",
    "This notebook shows how to derive a deeper interpretation of the DIC displacements measured on a grid.\n",
    "Based on an FE-mesh, it delivers the strain, stress and damage tensors. Further processing of the \n",
    "anisotropic damage tensor is used to detect the localized cracks."
   ]
  },
  {
   "cell_type": "code",
   "execution_count": 1,
   "id": "87f788ee",
   "metadata": {},
   "outputs": [],
   "source": [
    "%matplotlib widget"
   ]
  },
  {
   "cell_type": "code",
   "execution_count": 2,
   "id": "56799eb0",
   "metadata": {},
   "outputs": [],
   "source": [
    "import ibvpy.api as ib\n",
    "import matplotlib.pylab as plt\n",
    "from mayavi import mlab\n",
    "from bmcs_shear.api import CrackBridgeAdv\n",
    "from bmcs_shear.dic_crack import \\\n",
    "    DICGrid, DICAlignedGrid, DICCOR, DICStateFields\n",
    "from bmcs_shear.dic_crack.dic_state_fields import DICStateFields\n",
    "from matplotlib import cm\n",
    "import numpy as np\n",
    "np.seterr(divide='ignore', invalid='ignore');"
   ]
  },
  {
   "cell_type": "markdown",
   "id": "4656ba6d-d81f-42ff-af07-add3063aa957",
   "metadata": {},
   "source": [
    "# DIC grid"
   ]
  },
  {
   "cell_type": "markdown",
   "id": "dc6b4b2b-5795-4546-9592-fa35a77fe60e",
   "metadata": {},
   "source": [
    "## Input displacements on a grid"
   ]
  },
  {
   "cell_type": "code",
   "execution_count": 3,
   "id": "f8e13176-c341-4865-8cf3-dc4de28af238",
   "metadata": {},
   "outputs": [],
   "source": [
    "dic_grid = DICGrid(start_t=0, end_t=1, U_factor=100, dir_name='B1_TV1')\n",
    "dic_grid.sz_bd.Rectangle = True\n",
    "dic_grid.sz_bd.matrix_.trait_set(f_t=0.3 * 38**(2/3), f_c=38, d_a=16, E_c=28000)\n",
    "dic_grid.sz_bd.trait_set(H=350, B=320, L=1500)\n",
    "dic_grid.sz_bd.csl.add_layer(CrackBridgeAdv(z=50, n=5, d_s=16, E=210000, f_c=38))"
   ]
  },
  {
   "cell_type": "code",
   "execution_count": 4,
   "id": "58a11c8d-abc7-4f1a-97d3-658a0ee14624",
   "metadata": {},
   "outputs": [],
   "source": [
    "dic_grid = DICGrid(start_t = 0, end_t =26, L = 1500, U_factor = 1, dir_name='B1_TV2')\n",
    "dic_grid.sz_bd.Rectangle = True\n",
    "dic_grid.sz_bd.matrix_.trait_set(f_t = 0.3 * 38 **(2/3), f_c = 38, d_a = 16, E_c = 28000) \n",
    "dic_grid.sz_bd.trait_set(H=350, B=320, L=1500)\n",
    "dic_grid.sz_bd.csl.add_layer(CrackBridgeAdv(z=50, n=5, d_s=16, E = 210000, f_c = 38))"
   ]
  },
  {
   "cell_type": "code",
   "execution_count": 9,
   "id": "8dd1604a-b3af-4425-822f-8b79cae5959c",
   "metadata": {},
   "outputs": [],
   "source": [
    "dic_grid = DICGrid(start_t=0, end_t=1, U_factor=100, dir_name='B10_TV2')"
   ]
  },
  {
   "cell_type": "markdown",
   "id": "ebf87b11-d26b-42b3-95aa-8a7d49cfeec8",
   "metadata": {},
   "source": [
    "## Finite element processing of the displacement field"
   ]
  },
  {
   "cell_type": "code",
   "execution_count": 10,
   "id": "1a2d5ad7-917b-4c6e-b4b8-904dd41a6555",
   "metadata": {},
   "outputs": [],
   "source": [
    "import traits.api as tr\n",
    "from scipy.signal import argrelextrema\n",
    "class DICSFDebug(DICStateFields):\n",
    "    pass\n"
   ]
  },
  {
   "cell_type": "code",
   "execution_count": 11,
   "id": "11162d1d-0a55-49db-ac3f-22f90ed143e7",
   "metadata": {},
   "outputs": [],
   "source": [
    "#dsf = DICStateFields(dic_grid=dic_grid, t=0.5)\n",
    "dsf = DICSFDebug(dic_grid=dic_grid, t=0.5)\n",
    "dsf.tmodel_.trait_set(E=5000, c_T=0, nu=0.18, epsilon_0=0.0005, epsilon_f=0.01);\n",
    "dsf.eval()"
   ]
  },
  {
   "cell_type": "markdown",
   "id": "39911961-7efc-492e-be43-137e3dc89ecd",
   "metadata": {},
   "source": [
    "# State fields on a regular grid"
   ]
  },
  {
   "cell_type": "code",
   "execution_count": 12,
   "id": "92337645-a68a-499e-aae6-296a373f32f3",
   "metadata": {},
   "outputs": [
    {
     "name": "stdout",
     "output_type": "stream",
     "text": [
      "(28, 7) (28, 7) [ 5 18 16  4 15 14  1] (28, 7)\n"
     ]
    },
    {
     "data": {
      "application/vnd.jupyter.widget-view+json": {
       "model_id": "7e6fa58392ba406b8e687abbff8aa713",
       "version_major": 2,
       "version_minor": 0
      },
      "text/plain": [
       "VBox(children=(HBox(children=(VBox(children=(Tree(layout=Layout(align_items='stretch', border='solid 1px black…"
      ]
     },
     "metadata": {},
     "output_type": "display_data"
    }
   ],
   "source": [
    "dsf.interact()"
   ]
  },
  {
   "cell_type": "markdown",
   "id": "78a68a63-e231-4c26-85a1-3173358c25b0",
   "metadata": {},
   "source": [
    "# TODO - in the `DICStateFields` class\n",
    "\n",
    " - decompose the fields into properties"
   ]
  },
  {
   "cell_type": "markdown",
   "id": "f93db897-1bd9-44b8-9724-64ae3b047492",
   "metadata": {},
   "source": [
    "# Next steps in crack detection\n",
    "\n",
    " - identify the crack tip \n",
    " - identify the index regions between cracks in the final stage (reference frame -- and rotating frame)\n",
    " - improve the detection of the cracks at the bottom - avoid multiple cracks next to each other\n",
    " - incremental analysis - backward and forward crack processing\n",
    " - exploit the principle damage direction to limit the range of the crack increment\n",
    " - how to detect the start of the failure crack - this would only work for incremental evaluation?"
   ]
  },
  {
   "cell_type": "markdown",
   "id": "35dab7e0-f1a9-4cc4-b2fa-a39ce8eb6c3a",
   "metadata": {},
   "source": [
    "# Detection provided "
   ]
  },
  {
   "cell_type": "markdown",
   "id": "675e2c93-d74a-4211-896f-1a166af02b33",
   "metadata": {},
   "source": [
    "Along the detected crack, process the crack opening and sliding starting from the tip."
   ]
  },
  {
   "cell_type": "markdown",
   "id": "de09b619-ef32-4cf0-b9ce-fbb473c969d1",
   "metadata": {},
   "source": [
    "With the fixed and rotating frames detected - process the COR histories "
   ]
  },
  {
   "cell_type": "markdown",
   "id": "5d719927-d4f4-4287-b0cd-2c0d02d6052d",
   "metadata": {},
   "source": [
    "Derive the moment - rotation relation for each crack"
   ]
  },
  {
   "cell_type": "markdown",
   "id": "7e45660f-1d5b-475a-99f4-e972f2489ea2",
   "metadata": {},
   "source": [
    "Use the rigid rotation kinematics to evaluate the opening and sliding - compare with the experimental values"
   ]
  },
  {
   "cell_type": "markdown",
   "id": "06b17bdb-aecc-4d34-a159-6a506c74d0a7",
   "metadata": {},
   "source": [
    "Apply the values needed for comparison "
   ]
  }
 ],
 "metadata": {
  "kernelspec": {
   "display_name": "bmcs_env",
   "language": "python",
   "name": "bmcs_env"
  },
  "language_info": {
   "codemirror_mode": {
    "name": "ipython",
    "version": 3
   },
   "file_extension": ".py",
   "mimetype": "text/x-python",
   "name": "python",
   "nbconvert_exporter": "python",
   "pygments_lexer": "ipython3",
   "version": "3.8.8"
  }
 },
 "nbformat": 4,
 "nbformat_minor": 5
}
