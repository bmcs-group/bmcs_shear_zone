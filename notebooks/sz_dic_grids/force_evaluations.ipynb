{
 "cells": [
  {
   "cell_type": "code",
   "execution_count": null,
   "id": "c3bf7321",
   "metadata": {},
   "outputs": [],
   "source": [
    "%matplotlib widget\n",
    "import ibvpy.api as ib\n",
    "import matplotlib.pylab as plt\n",
    "from matplotlib import cm\n",
    "from bmcs_shear.dic_crack import\\\n",
    "    DICGrid, DICInpUnstructuredPoints, DICStateFields,  \\\n",
    "    DICAlignedGrid, DICCrackCOR, DICStressProfile #DICCrackList,\n",
    "import numpy as np\n",
    "np.seterr(divide ='ignore', invalid='ignore');\n",
    "import collections\n",
    "collections.Iterable = collections.abc.Iterable\n",
    "from bmcs_shear.dic_crack.dic_crack_list2 import DICCrackList"
   ]
  },
  {
   "cell_type": "code",
   "execution_count": null,
   "id": "d8e9e05c",
   "metadata": {},
   "outputs": [],
   "source": [
    "dic_points = DICInpUnstructuredPoints(U_factor=10, dir_name='B1_TV1', t=1,\n",
    "                                      n_T_max=40, T_stepping='delta_n')\n",
    "dic_points.read_beam_design()\n",
    "dic_grid = DICGrid(dic_inp=dic_points, d_x=5, d_y=5)\n",
    "dic_grid.bd.matrix_.trait_set(f_c = 36.9, f_t = 2.93, E_c = 26900, d_a = 16)"
   ]
  },
  {
   "cell_type": "code",
   "execution_count": null,
   "id": "3a523596",
   "metadata": {},
   "outputs": [],
   "source": [
    "dsf = DICStateFields(dic_grid=dic_grid)"
   ]
  },
  {
   "cell_type": "code",
   "execution_count": null,
   "id": "2a27a986",
   "metadata": {},
   "outputs": [],
   "source": [
    "dsf.tmodel_.trait_set(E=1400, c_T=0.006, nu=0.18, epsilon_0=0.0018,\n",
    "                      epsilon_f=0.0019, eps_max=0.01);\n",
    "\n",
    "dsf = DICStateFields(dic_grid=dic_grid, R=12, omega_threshold=0.2, verbose_eval=True, tmodel='scalar_damage')\n",
    "dsf.tmodel_.trait_set(E=1600, nu=0.18, omega_fn='exp-slope', strain_norm='Rankine', eps_max=0.01)\n",
    "dsf.tmodel_.omega_fn_.trait_set(kappa_0=0.002, kappa_f=0.0028);"
   ]
  },
  {
   "cell_type": "code",
   "execution_count": null,
   "id": "df174ed6",
   "metadata": {},
   "outputs": [],
   "source": [
    "dcl = DICCrackList(dsf=dsf, corridor_left=4, corridor_right=1, x_boundary=30)"
   ]
  },
  {
   "cell_type": "code",
   "execution_count": null,
   "id": "a4c3e0d8",
   "metadata": {},
   "outputs": [],
   "source": [
    "c = 4\n",
    "c1 = dcl.cracks[str(c)]"
   ]
  },
  {
   "cell_type": "code",
   "execution_count": null,
   "id": "00c22e9e",
   "metadata": {},
   "outputs": [],
   "source": [
    "dcl.interact()"
   ]
  },
  {
   "cell_type": "code",
   "execution_count": null,
   "id": "094fe7d4",
   "metadata": {},
   "outputs": [],
   "source": [
    "#crack_s = dcl.items['4']"
   ]
  },
  {
   "cell_type": "code",
   "execution_count": null,
   "id": "16a77188",
   "metadata": {},
   "outputs": [],
   "source": [
    "dc_cor = DICCrackCOR(dic_crack = c1)\n",
    "sp = DICStressProfile(dic_crack = c1)"
   ]
  },
  {
   "cell_type": "code",
   "execution_count": null,
   "id": "ce90a44b",
   "metadata": {},
   "outputs": [],
   "source": [
    "sp.interact()"
   ]
  },
  {
   "cell_type": "code",
   "execution_count": null,
   "id": "841105b1",
   "metadata": {},
   "outputs": [],
   "source": [
    "sp.F_t_a"
   ]
  },
  {
   "cell_type": "code",
   "execution_count": null,
   "id": "423fd625",
   "metadata": {},
   "outputs": [],
   "source": [
    "sp.M"
   ]
  },
  {
   "cell_type": "code",
   "execution_count": null,
   "id": "e58f17f6",
   "metadata": {},
   "outputs": [],
   "source": []
  },
  {
   "cell_type": "code",
   "execution_count": null,
   "id": "ab037be1",
   "metadata": {},
   "outputs": [],
   "source": []
  }
 ],
 "metadata": {
  "kernelspec": {
   "display_name": "bmcs_env2",
   "language": "python",
   "name": "bmcs_env2"
  },
  "language_info": {
   "codemirror_mode": {
    "name": "ipython",
    "version": 3
   },
   "file_extension": ".py",
   "mimetype": "text/x-python",
   "name": "python",
   "nbconvert_exporter": "python",
   "pygments_lexer": "ipython3"
  }
 },
 "nbformat": 4,
 "nbformat_minor": 5
}
