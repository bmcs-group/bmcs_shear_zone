{
 "cells": [
  {
   "cell_type": "code",
   "execution_count": null,
   "id": "0502fe59-8fd4-40c5-8fea-3802ecb95887",
   "metadata": {},
   "outputs": [],
   "source": [
    "from pyevtk.hl import gridToVTK "
   ]
  },
  {
   "cell_type": "code",
   "execution_count": null,
   "id": "dc5071ff-7949-4f8c-95d7-fc2fc03a860f",
   "metadata": {},
   "outputs": [],
   "source": []
  },
  {
   "cell_type": "code",
   "execution_count": null,
   "id": "bfd5a36e-9ab0-4dfb-8a6f-cc2a0aaf9097",
   "metadata": {},
   "outputs": [],
   "source": [
    "import os\n",
    "#from pyevtk.hl import rectilinearToVTK\n",
    "from pyevtk.hl import gridToVTK\n",
    "import numpy as np\n",
    "\n",
    "FILE_PATH = \"./rectilinear\"\n",
    "def clean():\n",
    "    try:\n",
    "        os.remove(FILE_PATH + \".vtr\")\n",
    "    except:\n",
    "        pass\n",
    "        \n",
    "def run():\n",
    "    print(\"Running rectilinear...\")\n",
    "\n",
    "    # Dimensions\n",
    "    nx, ny, nz = 6, 6, 2\n",
    "    lx, ly, lz = 1.0, 1.0, 1.0\n",
    "    dx, dy, dz = lx/nx, ly/ny, lz/nz\n",
    "\n",
    "    ncells = nx * ny * nz\n",
    "    npoints = (nx + 1) * (ny + 1) * (nz + 1)\n",
    "\n",
    "    # Coordinates\n",
    "    x = np.arange(0, lx + 0.1*dx, dx, dtype='float64')\n",
    "    y = np.arange(0, ly + 0.1*dy, dy, dtype='float64')\n",
    "    z = np.arange(0, lz + 0.1*dz, dz, dtype='float64')\n",
    "\n",
    "    # Variables\n",
    "    pressure = np.random.rand(ncells).reshape( (nx, ny, nz))\n",
    "    temp = np.random.rand(npoints).reshape( (nx + 1, ny + 1, nz + 1))\n",
    "\n",
    "    comments = [ \"comment 1\", \"comment 2\" ]\n",
    "    gridToVTK(FILE_PATH, x, y, z, cellData = {\"pressure\" : pressure}, \n",
    "              pointData = {\"temp\" : temp}) #, comments = comments)\n",
    "\n",
    "if __name__ == \"__main__\":\n",
    "    run()"
   ]
  },
  {
   "cell_type": "code",
   "execution_count": null,
   "id": "5d57c088-3b6e-41a1-82ff-d5b172b85277",
   "metadata": {},
   "outputs": [],
   "source": []
  }
 ],
 "metadata": {
  "kernelspec": {
   "display_name": "bmcs_env2",
   "language": "python",
   "name": "bmcs_env2"
  },
  "language_info": {
   "codemirror_mode": {
    "name": "ipython",
    "version": 3
   },
   "file_extension": ".py",
   "mimetype": "text/x-python",
   "name": "python",
   "nbconvert_exporter": "python",
   "pygments_lexer": "ipython3"
  }
 },
 "nbformat": 4,
 "nbformat_minor": 5
}
