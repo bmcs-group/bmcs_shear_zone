{
 "cells": [
  {
   "cell_type": "markdown",
   "id": "b981cb87-4869-4679-a98a-9a123d32c4ba",
   "metadata": {},
   "source": [
    "# Tutorial for DIC data processing"
   ]
  },
  {
   "cell_type": "markdown",
   "id": "2a827447-0cfb-4224-9046-b83f099b556f",
   "metadata": {},
   "source": [
    "## Preliminaries"
   ]
  },
  {
   "cell_type": "markdown",
   "id": "d7e33335-d5b0-4a79-bb35-71c12540b30e",
   "metadata": {},
   "source": [
    "### Environment"
   ]
  },
  {
   "cell_type": "markdown",
   "id": "9f622341-aa29-4552-bc8f-9f581d46fcc5",
   "metadata": {},
   "source": [
    "The notebooks can be executed in any python environment containing \n",
    "the packages and `numpy`, `scipy`, `matplotlib`."
   ]
  },
  {
   "cell_type": "markdown",
   "id": "8b5200b7-6710-47d7-b974-31d1addb803d",
   "metadata": {},
   "source": [
    "### Python\n",
    "\n",
    "In this tutorial we focus on scripting. This means, every line is meant\n",
    "to be executed after `SHIFT+ENTER` has been pressed. We will not need\n",
    "abstract elements of the `Python` language, like methods or classes.\n",
    "These language elements are useful to implement packages with the \n",
    "code presented here packed into an application programming interface \n",
    "`API` and/or user interface `UI`."
   ]
  },
  {
   "cell_type": "markdown",
   "id": "a7e14c21-1a13-4761-af34-f8a9e2b26766",
   "metadata": {},
   "source": [
    "### Numpy\n",
    "\n",
    "An important concept to understand before diving into the presented data processing concepts is the \n",
    " - multi-dimensional storage format of the `numpy` package\n",
    " - indexing and slicing scheme to address and select elements of a `numpy` array\n",
    " - broadcasing concept when combining two arrays using algebraic operators (`+`,`-`,`*`,`/`,`**`)\n",
    " - index-based operators that mimic the Einstein summation rule (it can be compared as a generalized multi-dimensional `sumproduct` operator in Excel)\n",
    " "
   ]
  },
  {
   "cell_type": "markdown",
   "id": "90812c7e-1251-4a34-8bc6-6c2be9427da7",
   "metadata": {},
   "source": [
    "## Scipy\n",
    "\n",
    "To transform the `DIC` data from unstructured format to structured grid format, two methods from `scipy` package will be used\n",
    " - Delaunay triangulator\n",
    " - Grid interpolator"
   ]
  },
  {
   "cell_type": "markdown",
   "id": "a7606d7d-1aa4-4f79-b3a8-403ce9e12678",
   "metadata": {},
   "source": [
    "### Matplotlib\n",
    "\n",
    "General plotting tool implemented using `numpy` arrays. It can be embedded in various front-ends, including `jupyter` notebooks.\n",
    "Good starting point is a gallery of examples provided at [matplotlib.org](https://matplotlib.org/stable/gallery/index.html).\n",
    "Each example is assocated with a corresponding code snippet that can be copied into a notebook and directly executed.\n",
    "In the present tutorial, one can see the pragma\n",
    "\n",
    "`%matplotlib widget`\n",
    "\n",
    "At the top of some cells. With this command, the jupyter notebook uses the most recent front-end for visualization in jupyter notebooks, that also support interactive changes."
   ]
  },
  {
   "cell_type": "markdown",
   "id": "115d051e-fdb6-4687-8a3b-a325c57eb367",
   "metadata": {},
   "source": [
    "## Data file management"
   ]
  },
  {
   "cell_type": "markdown",
   "id": "a8b25d2c-d738-43ce-92c6-9b1d70b9bccf",
   "metadata": {},
   "source": [
    "The `DIC` related management of data files usually includes a loose set of data files with names indicating the chronology of the measurements. To start with an efficient processing of this data using `numpy` multidimensional arrays, we need to perform a transformation first. \n",
    "\n",
    " - We start by reading the `csv` files in a directory in a loop, respecting the chronology. \n",
    " - Then, we need to make the data uniform, so that each time-step includes the same number of data points\n",
    " - Finally, we can construct a time-space array which can be saved in a single file with a reduced size.\n",
    " \n",
    " These steps are addressed in the [notebook 01](01_data_file_manipulations.ipynb)."
   ]
  },
  {
   "cell_type": "markdown",
   "id": "9f241774-2fe6-4371-9f7c-e341653c8e33",
   "metadata": {},
   "source": [
    "## Transformation of displacement data to a grid"
   ]
  },
  {
   "cell_type": "markdown",
   "id": "e3f83bf7-795f-49a1-a4d1-d5afe354672a",
   "metadata": {},
   "source": [
    "Once the data is provided a form of point histories loosely distributed through the monitored zone, they need to be transformed into the grid format. The reason is that we want to construct a gradient of the displacements\n",
    "$$\n",
    "  \\frac{\\partial u_a}{\\partial x_b},\n",
    "$$\n",
    "where $u$ represents the vector field with horizontal and vertical displacements and $x$ are the horizontal and vertical coordinates. The horizontal and vertical components of both vector fields are indexed as $a, b \\in (0,1)$.\n",
    "To this end, we need to interpolate the point displacements using some kind of interpolation functions. The approach chosen here, uses bilinear interpolation functions defined over a rectangular domain.\n",
    "\n",
    "This procedure is implemnted and explained in the [notebook 02](02_first_steps_dic_data_proceesing.ipynb)"
   ]
  },
  {
   "cell_type": "markdown",
   "id": "5b12db7d-ce5e-42ab-9549-4e596116be11",
   "metadata": {},
   "source": [
    "## Evaluation of the strain field"
   ]
  },
  {
   "cell_type": "markdown",
   "id": "d30592d7-2e9e-443c-9354-3e1b43b60765",
   "metadata": {},
   "source": [
    "$$\n",
    "\\varepsilon_{ab} = \\frac{1}{2} (u_{a,b} + u_{b,a})\n",
    "$$\n",
    "The calculation of strains follows the approach used to approximate strains in the finite-element method. The construction of shape function is done in the following notebook."
   ]
  },
  {
   "cell_type": "markdown",
   "id": "1bc7ac53-a433-4851-9c4d-1a4ea2e8e2eb",
   "metadata": {},
   "source": [
    "## Visualization in 3D - Paraview"
   ]
  },
  {
   "cell_type": "markdown",
   "id": "48c944b1-13fd-410e-b1ad-01dd6f55f973",
   "metadata": {},
   "source": [
    "## From strain history to damage history"
   ]
  },
  {
   "cell_type": "markdown",
   "id": "bd2c50a3-69e6-4499-b6b6-b40fa4e293f1",
   "metadata": {},
   "source": [
    "## From damage history to discrite crack propagation history"
   ]
  },
  {
   "cell_type": "markdown",
   "id": "f883197f-c945-4c1d-8ed7-52caad8de79a",
   "metadata": {},
   "source": [
    "## Local crack kinematics - opening and sliding history"
   ]
  },
  {
   "cell_type": "markdown",
   "id": "a2a5323e-8a8c-41d9-965a-81a8c8ad9bb4",
   "metadata": {},
   "source": [
    "## Local displacement analysis - center of rotation"
   ]
  },
  {
   "cell_type": "markdown",
   "id": "fe0122e3-8b58-4f1c-9b4f-70adf33c7036",
   "metadata": {},
   "source": []
  }
 ],
 "metadata": {
  "kernelspec": {
   "display_name": "bmcs_env2",
   "language": "python",
   "name": "bmcs_env2"
  },
  "language_info": {
   "codemirror_mode": {
    "name": "ipython",
    "version": 3
   },
   "file_extension": ".py",
   "mimetype": "text/x-python",
   "name": "python",
   "nbconvert_exporter": "python",
   "pygments_lexer": "ipython3"
  }
 },
 "nbformat": 4,
 "nbformat_minor": 5
}
