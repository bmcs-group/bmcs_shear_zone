{
 "cells": [
  {
   "cell_type": "markdown",
   "id": "590a30ab-70d5-4dac-9e2a-23301b09e567",
   "metadata": {},
   "source": [
    "# Processing of DIC data using numpy/scipy"
   ]
  },
  {
   "cell_type": "markdown",
   "id": "7e91b927-7314-444f-ab06-719854833b06",
   "metadata": {},
   "source": [
    "Enable plotting using the `widget` front-end of matplotlib and import numpy and matplotlib packages as `np` and `plt`."
   ]
  },
  {
   "cell_type": "code",
   "execution_count": null,
   "id": "7dfe60c8-d447-4778-b51b-b153247abe01",
   "metadata": {},
   "outputs": [],
   "source": [
    "%matplotlib widget\n",
    "import numpy as np\n",
    "import matplotlib.pylab as plt\n",
    "import pandas as pd"
   ]
  },
  {
   "cell_type": "markdown",
   "id": "cc405de4-7d3b-4b7c-b817-6c0b1fbf11c5",
   "metadata": {},
   "source": [
    "Import the regular grid interpolator"
   ]
  },
  {
   "cell_type": "code",
   "execution_count": null,
   "id": "1f38d945-44ae-4ba5-b0a4-bb1b14363457",
   "metadata": {},
   "outputs": [],
   "source": [
    "from scipy.interpolate import LinearNDInterpolator\n",
    "from scipy.spatial import Delaunay"
   ]
  },
  {
   "cell_type": "code",
   "execution_count": null,
   "id": "806f8076-039d-4cc7-9cd5-ab3dc6f8937f",
   "metadata": {},
   "outputs": [],
   "source": [
    "import os.path as op\n",
    "import os"
   ]
  },
  {
   "cell_type": "markdown",
   "id": "4411d482-b1d7-493d-8bfc-f74ae291428d",
   "metadata": {},
   "source": [
    "## Read the history of displacements and strains"
   ]
  },
  {
   "cell_type": "code",
   "execution_count": null,
   "id": "5677df62-171b-463a-a590-d303004be0c5",
   "metadata": {},
   "outputs": [],
   "source": [
    "XU_TQa_file = '/home/data/S16.npz'\n",
    "data = np.load(XU_TQa_file)"
   ]
  },
  {
   "cell_type": "code",
   "execution_count": null,
   "id": "deda5f54-cb3b-458d-8525-0ea7eeadcbe3",
   "metadata": {},
   "outputs": [],
   "source": [
    "X_TQa, U_TQa = data['X_TQa'], data['U_TQa']"
   ]
  },
  {
   "cell_type": "code",
   "execution_count": null,
   "id": "b546b124-a4af-459b-8be8-62464f8d0a68",
   "metadata": {},
   "outputs": [],
   "source": [
    "fig = plt.figure()\n",
    "ax = fig.add_subplot(projection='3d')\n",
    "T = 0\n",
    "args = (X_TQa[T,:,0], X_TQa[T, :, 1], eps_TQ[T]) #  X_TQa[-1,:,2])\n",
    "ax.scatter(*args);"
   ]
  },
  {
   "cell_type": "markdown",
   "id": "5a539304-9b35-45b0-871c-03fca27acc44",
   "metadata": {},
   "source": [
    "### Displacement at nodes"
   ]
  },
  {
   "cell_type": "code",
   "execution_count": null,
   "id": "5528ee46-142f-4663-ae48-f22cafb2e89f",
   "metadata": {},
   "outputs": [],
   "source": [
    "X_0Qa = X_TQa[0]\n",
    "U_TQa =  X_TQa - X_0Qa[None, ...]"
   ]
  },
  {
   "cell_type": "code",
   "execution_count": null,
   "id": "a7f478e5-3ad9-4c1c-a6ec-b6f14eab4b1b",
   "metadata": {},
   "outputs": [],
   "source": [
    "fig = plt.figure()\n",
    "ax = fig.add_subplot()\n",
    "T = 1\n",
    "U_factor = 10\n",
    "X_scaled_TQa = X_0Qa + U_factor * U_TQa\n",
    "args = (X_scaled_TQa[T, :, 0], X_scaled_TQa[T, :, 1])\n",
    "ax.scatter(*args);\n",
    "ax.axis('equal');"
   ]
  },
  {
   "cell_type": "code",
   "execution_count": null,
   "id": "2cf456ef-3030-47f3-9f63-d95ee53a252d",
   "metadata": {},
   "outputs": [],
   "source": [
    "fig = plt.figure()\n",
    "ax = fig.add_subplot(projection='3d')\n",
    "T = -1\n",
    "U_factor = 1\n",
    "X_scaled_TQa = X_0Qa + U_factor * U_TQa\n",
    "#args = (X_scaled_TQa[T, :, 0], X_scaled_TQa[T, :, 1], eps_TQ)\n",
    "ax.plot_trisurf(*(X_TQa[T].T));"
   ]
  },
  {
   "cell_type": "code",
   "execution_count": null,
   "id": "ad0bc090-5e97-4a17-9346-b4a8a1e06223",
   "metadata": {},
   "outputs": [],
   "source": [
    "points = X_0Qa[:, :-1]\n",
    "delauney = Delaunay(points)"
   ]
  },
  {
   "cell_type": "markdown",
   "id": "3ae99999-3045-49d4-9a55-7bf9aee49c89",
   "metadata": {},
   "source": [
    "## Displacement interpolation grid to calculate strains"
   ]
  },
  {
   "cell_type": "code",
   "execution_count": null,
   "id": "daabd592-45b0-4e06-bdd9-36813d2c0957",
   "metadata": {},
   "outputs": [],
   "source": [
    "pad_b, pad_t, pad_r, pad_l = 40, 40, 40, 40"
   ]
  },
  {
   "cell_type": "code",
   "execution_count": null,
   "id": "f3da2bfe-b120-415e-a52c-79a7719c376a",
   "metadata": {},
   "outputs": [],
   "source": [
    "X_outer_frame = np.min(X_0Qa, axis=0), np.max(X_0Qa, axis=0)\n",
    "X_outer_frame"
   ]
  },
  {
   "cell_type": "code",
   "execution_count": null,
   "id": "16494528-7954-4d81-8251-b22c75aeb69b",
   "metadata": {},
   "outputs": [],
   "source": [
    "n_a = 2"
   ]
  },
  {
   "cell_type": "markdown",
   "id": "03d77064-81e5-4632-8de0-cfb58590c092",
   "metadata": {},
   "source": [
    "### Interpolation grid"
   ]
  },
  {
   "cell_type": "code",
   "execution_count": null,
   "id": "6de257d7-f8a0-41d8-a4c2-ea31993c1e12",
   "metadata": {},
   "outputs": [],
   "source": [
    "X_min_a, X_max_a = X_outer_frame\n",
    "L_a = X_max_a - X_min_a # frame dimensions\n",
    "d = 4 # 4 mm distances\n",
    "n_a = 2 # number of spatial dimensions\n",
    "n_I, n_J = np.array( L_a[:-1] / d, dtype=np.int_ )\n",
    "d_X_a = [L_a[0]/n_I, L_a[1]/n_J]\n",
    "n_I, n_J"
   ]
  },
  {
   "cell_type": "code",
   "execution_count": null,
   "id": "1185264f-7dea-4b26-8220-0fc54557c9fc",
   "metadata": {},
   "outputs": [],
   "source": [
    "min_x, min_y, _ = X_min_a\n",
    "max_x, max_y, _ = X_max_a\n",
    "X_aIJ = np.mgrid[\n",
    "        min_x + pad_l:max_x - pad_r:complex(n_I),\n",
    "        min_y + pad_b:max_y - pad_t:complex(n_J)]\n",
    "x_IJ, y_IJ = X_aIJ\n",
    "X0_IJa = np.einsum('aIJ->IJa', np.array([x_IJ, y_IJ]))"
   ]
  },
  {
   "cell_type": "code",
   "execution_count": null,
   "id": "ea88dd1c-763b-4bc9-aef1-92506881a771",
   "metadata": {},
   "outputs": [],
   "source": [
    "x0_IJ, y0_IJ = np.einsum('IJa->aIJ', X0_IJa)\n",
    "U_IJa_list = []\n",
    "for T in range(n_T):\n",
    "    values = U_TQa[T, :, :]\n",
    "    get_U = LinearNDInterpolator(delauney, values)\n",
    "    U_IJa = get_U(x0_IJ, y0_IJ)\n",
    "    U_IJa_list.append(U_IJa)\n",
    "U_TIJa = np.array(U_IJa_list)[...,:-1]"
   ]
  },
  {
   "cell_type": "markdown",
   "id": "1a8e08e6-3af6-4757-9c33-0456e163e1ee",
   "metadata": {},
   "source": [
    "## Strain field history"
   ]
  },
  {
   "cell_type": "code",
   "execution_count": null,
   "id": "58f0955c-f2fe-447f-8e19-5a5e7c11bfa0",
   "metadata": {},
   "outputs": [],
   "source": [
    "I,J,a = [np.arange(n) for n in (n_I,n_J,n_a)]\n",
    "G_aIJ = (np.einsum('a, I->aI', (1-a), I)[:,:, None] + \n",
    "         np.einsum('a, J->aJ', a, J)[:,None, :])"
   ]
  },
  {
   "cell_type": "code",
   "execution_count": null,
   "id": "381f549a-fb0e-47ba-8758-9db59118f420",
   "metadata": {},
   "outputs": [],
   "source": [
    "n_i, n_j = 2, 2\n",
    "g_aij = G_aIJ[:,:n_i,:n_j]\n",
    "n_E, n_F = n_I-1, n_J-1\n",
    "G_aEF = G_aIJ[:,:-1,:-1]\n",
    "H_aEiFj = G_aEF[:,:,None,:,None] + g_aij[:,None,:,None,:]\n",
    "X_EiFja = X0_IJa[(*H_aEiFj,)]\n",
    "U_TEiFja = U_TIJa[(slice(None), *H_aEiFj)]"
   ]
  },
  {
   "cell_type": "code",
   "execution_count": null,
   "id": "b135de67-212f-4e9c-8e74-5529171afa81",
   "metadata": {},
   "outputs": [],
   "source": [
    "delta_rs = np.eye(2, dtype=np.int_)\n",
    "xi_rij = (H_aEiFj[:,0,:,0,:] * 2) - 1\n",
    "n_m, n_n = n_i, n_j\n",
    "eta_rmn = 3**(-1/2) * xi_rij\n",
    "N_ijmn = (1 + \n",
    "  np.einsum('rmn,rij->ijmn', eta_rmn, xi_rij) +\n",
    "  np.einsum('rs,smn,sij,rmn,rij->ijmn', (1-delta_rs), eta_rmn, xi_rij, eta_rmn, xi_rij) / 2\n",
    ")/4"
   ]
  },
  {
   "cell_type": "code",
   "execution_count": null,
   "id": "e598ef9a-6110-4b08-ac62-40bd280b953f",
   "metadata": {},
   "outputs": [],
   "source": [
    "dN_sijmn = (\n",
    "    xi_rij[:,:,:,None,None] + \n",
    "    np.einsum('rs,sij,rmn,rij->sijmn', (1 - delta_rs), xi_rij, eta_rmn, xi_rij)\n",
    ") / 4\n",
    "J_EmFnas = np.einsum(\n",
    " 'sijmn,EiFja->EmFnas',\n",
    " dN_sijmn, X_EiFja\n",
    ")\n",
    "inv_J_EmFnsa = np.linalg.inv(J_EmFnas)"
   ]
  },
  {
   "cell_type": "code",
   "execution_count": null,
   "id": "0d9ff3b6-2e62-45b4-9d9e-781fbe0b3981",
   "metadata": {},
   "outputs": [],
   "source": [
    "delta_ab = np.eye(2)\n",
    "Diff1_abcd = 0.5 * (\n",
    "    np.einsum('ac,bd->abcd', delta_ab, delta_ab) +\n",
    "    np.einsum('ad,bc->abcd', delta_ab, delta_ab)\n",
    ")\n",
    "B_EiFjmnabc = np.einsum(\n",
    "    'abcd,sijmn,EmFnsd->EiFjmnabc',\n",
    "    Diff1_abcd, dN_sijmn, inv_J_EmFnsa\n",
    ")"
   ]
  },
  {
   "cell_type": "code",
   "execution_count": null,
   "id": "13a060d4-dc68-466e-8091-cb65549bbdc4",
   "metadata": {},
   "outputs": [],
   "source": [
    "eps_TEmFnab = np.einsum(\n",
    "    'EiFjmnabc,TEiFjc->TEmFnab',\n",
    "    B_EiFjmnabc, U_TEiFja\n",
    ")\n",
    "eps_TEmFnab.shape"
   ]
  },
  {
   "cell_type": "code",
   "execution_count": null,
   "id": "e9aa2f31-0c50-4265-8ac7-14dfad5b7dcd",
   "metadata": {},
   "outputs": [],
   "source": [
    "eps_TEmFna, _ = np.linalg.eig(eps_TEmFnab)"
   ]
  },
  {
   "cell_type": "code",
   "execution_count": null,
   "id": "7aaed824-be93-4d72-807a-fb598d984259",
   "metadata": {},
   "outputs": [],
   "source": [
    "kappa_TEmFn = np.max(eps_TEmFna, axis=-1)\n",
    "kappa_TKL = kappa_TEmFn.reshape(-1, n_E*n_m, n_F*n_n)\n",
    "kappa_TKL[np.where(kappa_TKL<0)] = 0"
   ]
  },
  {
   "cell_type": "code",
   "execution_count": null,
   "id": "7d67630d-431b-41b2-9443-df109d5acdd7",
   "metadata": {},
   "outputs": [],
   "source": [
    "eps_0=0.002\n",
    "#eps_f=0.0028\n",
    "eps_f=0.003"
   ]
  },
  {
   "cell_type": "code",
   "execution_count": null,
   "id": "2b35ad0e-f1c0-49dd-8c9d-25b2ab81119e",
   "metadata": {},
   "outputs": [],
   "source": [
    "I = np.where(kappa_TEmFn>=eps_0)\n",
    "omega_TEmFn = np.zeros_like(kappa_TEmFn)\n",
    "omega_TEmFn[I] = 1.0-(eps_0/kappa_TEmFn[I]*np.exp(\n",
    "    -(kappa_TEmFn[I]-eps_0)/(eps_f-eps_0))\n",
    ")"
   ]
  },
  {
   "cell_type": "code",
   "execution_count": null,
   "id": "2950fdf9-7c49-4aec-a83a-c9acc9dd08df",
   "metadata": {},
   "outputs": [],
   "source": [
    "X_aEmFn = np.einsum('ijmn,EiFja->aEmFn', N_ijmn, X_EiFja)\n",
    "X_aKL = X_aEmFn.reshape(-1,(n_I-1)*2, (n_J-1)*2)"
   ]
  },
  {
   "cell_type": "code",
   "execution_count": null,
   "id": "f8bbbbec-059a-4743-a579-d117b7913060",
   "metadata": {},
   "outputs": [],
   "source": [
    "omega_TKL = omega_TEmFn.reshape(-1, n_E*n_m, n_F*n_n)"
   ]
  },
  {
   "cell_type": "code",
   "execution_count": null,
   "id": "494c4504-797b-4d2a-8ad9-1efe5c9d4564",
   "metadata": {},
   "outputs": [],
   "source": [
    "fig = plt.figure(figsize=(12,5), tight_layout=True)\n",
    "fig.canvas.header_visible = False\n",
    "T_selection = [0, -100, -30, -1]\n",
    "rows = fig.subplots(len(T_selection), 2)\n",
    "for (ax_eps, ax_omega), T in zip(rows, T_selection):\n",
    "    ax_eps.contourf(X_aKL[0], X_aKL[1], kappa_TKL[T], cmap='PuRd', \n",
    "                    levels=np.linspace(0,0.05,15)) # , vmin=eps_0, vmax=50*eps_0,)\n",
    "    ax_eps.axis('equal');\n",
    "    ax_eps.axis('off');\n",
    "    ax_eps.set_title(r'$\\varepsilon(T={}$)'.format(T));\n",
    "    ax_omega.contourf( X_aKL[0], X_aKL[1], omega_TKL[T], cmap='BuPu', levels=np.linspace(0,1,15))\n",
    "#                      vmin=0, vmax=1)\n",
    "    ax_omega.axis('equal');\n",
    "    ax_omega.axis('off');\n",
    "    ax_omega.set_title(r'$\\omega(T={})$'.format(T));"
   ]
  },
  {
   "cell_type": "code",
   "execution_count": null,
   "id": "9d0596d8-7174-42fa-a26b-39a08c3e5b57",
   "metadata": {},
   "outputs": [],
   "source": [
    "eps_TKLa = eps_TEmFna.reshape(-1, n_E*n_m, n_F*n_n, n_a)"
   ]
  },
  {
   "cell_type": "code",
   "execution_count": null,
   "id": "8384ecaa-8a2a-46ed-99a7-81ca059f50c6",
   "metadata": {},
   "outputs": [],
   "source": [
    "np.max(eps_TKLa)"
   ]
  },
  {
   "cell_type": "code",
   "execution_count": null,
   "id": "a70b0f41-d2f2-4809-afad-d9276f21555f",
   "metadata": {},
   "outputs": [],
   "source": [
    "eps_TKL_comp = np.copy(eps_TKLa[:, :, :, 1])\n",
    "eps_TKL_comp[eps_TKL_comp>0] = 0\n",
    "eps_TKL_comp[eps_TKLa[:, :, :, 0] > 0.005 ] = 0\n",
    "eps_min_val = np.min(eps_TKL_comp)\n",
    "eps_min_val"
   ]
  },
  {
   "cell_type": "code",
   "execution_count": null,
   "id": "5d80ae79-8b6b-47df-a956-c65c942e955c",
   "metadata": {},
   "outputs": [],
   "source": [
    "fig = plt.figure(figsize=(8,5), tight_layout=True)\n",
    "fig.canvas.header_visible = False\n",
    "T = 20\n",
    "ax = fig.subplots(1,1)\n",
    "ax.contourf(X_aKL[0], X_aKL[1], eps_TKL_comp[-1], cmap='PuRd_r'), \n",
    "#                    levels=np.linspace(0,1,10)) # , vmin=eps_0, vmax=50*eps_0,)\n",
    "ax.axis('equal');\n",
    "ax.axis('off');\n",
    "ax.set_title(r'$\\varepsilon(T={})$'.format(T));"
   ]
  },
  {
   "cell_type": "code",
   "execution_count": null,
   "id": "e377b168-1a80-4a0d-8fab-3d17d3eeaf89",
   "metadata": {},
   "outputs": [],
   "source": [
    "eps_TKLab = eps_TEmFnab.reshape(-1, n_E*n_m, n_F*n_n, n_a, n_a)\n",
    "sig_TKLab = np.einsum(',...,...ab->...ab', 30000, (1 - omega_TKL), eps_TKLab)"
   ]
  },
  {
   "cell_type": "code",
   "execution_count": null,
   "id": "eba737aa-10a5-4988-ab83-43382c866b3c",
   "metadata": {},
   "outputs": [],
   "source": [
    "E_TKL = np.einsum('...ab,...ab->...', sig_TKLab, eps_TKLab) "
   ]
  },
  {
   "cell_type": "code",
   "execution_count": null,
   "id": "21f29495-ecd0-467a-b80b-ecd05697de2e",
   "metadata": {},
   "outputs": [],
   "source": [
    "np.max(E_TKL), np.min(E_TKL)"
   ]
  },
  {
   "cell_type": "code",
   "execution_count": null,
   "id": "04c35525-b54d-4ddd-99fd-9f2dcb38d3c1",
   "metadata": {},
   "outputs": [],
   "source": [
    "fig = plt.figure(figsize=(8,5), tight_layout=True)\n",
    "\n",
    "T = 20\n",
    "ax = fig.subplots(1,1)\n",
    "ax.contourf(X_aKL[0], X_aKL[1], E_TKL[T], cmap='PuRd'), \n",
    "#                    levels=np.linspace(0,1,10)) # , vmin=eps_0, vmax=50*eps_0,)\n",
    "ax.axis('equal');\n",
    "ax.axis('off');\n",
    "ax.set_title(r'$E(T={})$'.format(T));"
   ]
  },
  {
   "cell_type": "code",
   "execution_count": null,
   "id": "6b6f46e5-367d-4dae-a7f5-0424f08c38c6",
   "metadata": {},
   "outputs": [],
   "source": []
  },
  {
   "cell_type": "code",
   "execution_count": null,
   "id": "58db9a54-ddb6-4ba8-91e8-935dd80435d5",
   "metadata": {},
   "outputs": [],
   "source": []
  }
 ],
 "metadata": {
  "kernelspec": {
   "display_name": "bmcs_env2",
   "language": "python",
   "name": "bmcs_env2"
  },
  "language_info": {
   "codemirror_mode": {
    "name": "ipython",
    "version": 3
   },
   "file_extension": ".py",
   "mimetype": "text/x-python",
   "name": "python",
   "nbconvert_exporter": "python",
   "pygments_lexer": "ipython3"
  }
 },
 "nbformat": 4,
 "nbformat_minor": 5
}
