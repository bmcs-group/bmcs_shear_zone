{
 "cells": [
  {
   "cell_type": "code",
   "execution_count": null,
   "id": "34471052",
   "metadata": {},
   "outputs": [],
   "source": [
    "%matplotlib widget\n",
    "import ibvpy.api as ib\n",
    "import matplotlib.pylab as plt\n",
    "from matplotlib import cm\n",
    "from bmcs_shear.dic_crack import\\\n",
    "    DICGrid, DICStateFields, DICCrackList, \\\n",
    "    DICAlignedGrid\n",
    "from bmcs_shear.api import DICInpUnstructuredPoints\n",
    "import numpy as np\n",
    "np.seterr(divide ='ignore', invalid='ignore');\n",
    "import collections\n",
    "collections.Iterable = collections.abc.Iterable\n",
    "from bmcs_shear.dic_crack import DICStressProfile"
   ]
  },
  {
   "cell_type": "code",
   "execution_count": null,
   "id": "9981a683",
   "metadata": {},
   "outputs": [],
   "source": [
    "tests = {'B9_TV2': [1, 7], \n",
    "         'B1_TV1': [4]}\n",
    "\n",
    "phi_M_list = []\n",
    "\n",
    "for test, C_range in tests.items():\n",
    "    dic_grid = DICGridTri(U_factor=100, dir_name=test, t=1, padding=40, d_x=3, d_y=3,\n",
    "                         T_stepping='delta_T', n_T_max = 40)\n",
    "    dic_grid.read_beam_design()\n",
    "    dic_grid.trait_set(d_x=5, d_y=5);\n",
    "    dsf = DICStateFields(dic_grid=dic_grid, R=10, omega_threshold=0.2, verbose_eval=True)\n",
    "    dsf.tmodel_.trait_set(E=1400, c_T=0.006, nu=0.18, epsilon_0=0.0018,\n",
    "                          epsilon_f=0.002, eps_max=0.01);\n",
    "    dsf.eval()\n",
    "    dcl = DICCrackList(dsf=dsf, corridor_left=4, corridor_right=1, x_boundary = 15)\n",
    "    dcl.identify_cracks()\n",
    "    \n",
    "    n_C = len(dcl.items)\n",
    "    t_range = np.linspace(0, 1, dic_grid.n_T) \n",
    "    for C in C_range:\n",
    "        print('crack', C)\n",
    "        phi_M_ = []\n",
    "        cor = dcl.items[str(C)].cor\n",
    "        for t in t_range: \n",
    "            cor.dic_grid.t = t\n",
    "            phi_M_.append([cor.phi_t, cor.M_t])\n",
    "        phi_M_list.append(np.array(phi_M_))"
   ]
  },
  {
   "cell_type": "code",
   "execution_count": null,
   "id": "17650575-3d1a-41d2-90eb-89f191d71fc7",
   "metadata": {},
   "outputs": [],
   "source": []
  },
  {
   "cell_type": "code",
   "execution_count": null,
   "id": "9bba75db",
   "metadata": {},
   "outputs": [],
   "source": [
    "# np.savez_compressed('phi_M_C', phi_M_C=phi_M_C)"
   ]
  },
  {
   "cell_type": "code",
   "execution_count": null,
   "id": "7851bce9-8e65-4e7a-bff9-46e14ed1e223",
   "metadata": {},
   "outputs": [],
   "source": [
    "# loaded = np.load('phi_M_C.npz')"
   ]
  },
  {
   "cell_type": "code",
   "execution_count": null,
   "id": "071be4dd",
   "metadata": {},
   "outputs": [],
   "source": [
    "%matplotlib widget\n",
    "fig, ax = plt.subplots(1,1)\n",
    "colors = ['red', 'blue', 'purple', 'orange', 'green', 'black', 'magenta']\n",
    "for C, (phi_M, color) in enumerate(zip(phi_M_list, colors)):\n",
    "    ax.plot(*phi_M.T, color=color, label=str(C))\n",
    "ax.legend()\n",
    "# ax.plot(*M_phi_C[0].T, color='orange')\n",
    "# ax.plot(*M_phi_C[1].T, color='purple')\n",
    "# ax.plot(*phi_M_C.T)"
   ]
  },
  {
   "cell_type": "code",
   "execution_count": null,
   "id": "28c33435",
   "metadata": {},
   "outputs": [],
   "source": []
  }
 ],
 "metadata": {
  "kernelspec": {
   "display_name": "bmcs_env",
   "language": "python",
   "name": "bmcs_env"
  },
  "language_info": {
   "codemirror_mode": {
    "name": "ipython",
    "version": 3
   },
   "file_extension": ".py",
   "mimetype": "text/x-python",
   "name": "python",
   "nbconvert_exporter": "python",
   "pygments_lexer": "ipython3",
   "version": "3.9.7"
  }
 },
 "nbformat": 4,
 "nbformat_minor": 5
}
