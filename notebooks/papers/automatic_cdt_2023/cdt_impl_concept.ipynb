{
 "cells": [
  {
   "cell_type": "markdown",
   "id": "3deca867-1bb5-4dc9-aa76-aa7cc81e3895",
   "metadata": {},
   "source": [
    "# Demonstration of the implementation concept of CDT"
   ]
  },
  {
   "cell_type": "code",
   "execution_count": null,
   "id": "15cf06f7-ce0f-466e-95f1-8a0c90cbcdeb",
   "metadata": {},
   "outputs": [],
   "source": [
    "import numpy as np"
   ]
  },
  {
   "cell_type": "code",
   "execution_count": null,
   "id": "08ed0882-9861-409a-9b70-d71aa3a80155",
   "metadata": {},
   "outputs": [],
   "source": [
    "n_I, n_J, n_a = 5, 3, 2\n",
    "L_x, L_y = 4, 2\n",
    "# L_x, L_y = 10, 6\n",
    "# n_I, n_J, n_a = 2, 2, 2\n",
    "# L_x, L_y = 1, 1\n",
    "X_aIJ = np.mgrid[0:L_x:complex(n_I),0:L_y:complex(n_J)]\n",
    "X_IJa = np.einsum('aIJ->IJa', X_aIJ)\n",
    "X_IJa.shape"
   ]
  },
  {
   "cell_type": "markdown",
   "id": "6d67ee42-ec39-4b7a-aa32-7a92baf25072",
   "metadata": {},
   "source": [
    "Given a column index $I = [0, n_I-1\\}$, row index $J = [0, n_J-1]$ and direction index $a = [0,1]$ \n",
    "the index expression\n",
    "$$\n",
    "\\mathcal{G}_{IJa} = (1-a)I + a J\n",
    "$$\n",
    "introduces a grid index map rendering the horizontal/column indexes of individual grid nodes for $a=0$ and vertical / row indexes for $a=1$."
   ]
  },
  {
   "cell_type": "markdown",
   "id": "05c0ac79-1e52-454a-81cb-1a658ae00acd",
   "metadata": {},
   "source": [
    "$$\n",
    " a = 0 \\rightarrow (\\zeta = 1, \\eta = 0)\n",
    "$$\n",
    "$$\n",
    " a = 1 \\rightarrow (\\zeta = 0, \\eta = 1)\n",
    "$$\n",
    "$$\n",
    "\\zeta = 1-a\n",
    "$$\n",
    "$$\n",
    "\\eta = a\n",
    "$$"
   ]
  },
  {
   "cell_type": "code",
   "execution_count": null,
   "id": "f78b3440-213f-4262-951d-64ac52fc27f5",
   "metadata": {},
   "outputs": [],
   "source": [
    "I, J, a = np.arange(n_I), np.arange(n_J), np.arange(n_a)\n",
    "G_aIJ = (np.einsum('a, I->aI', (1-a), I)[:,:, None] + \n",
    "         np.einsum('a, J->aJ', a, J)[:,None, :])\n",
    "G_aIJ"
   ]
  },
  {
   "cell_type": "markdown",
   "id": "33a72e7d-d4bb-45ee-9301-ef40ce1d2701",
   "metadata": {},
   "source": [
    "Given the step length \n",
    "$$\n",
    "\\Delta X_a = \\left[\\frac{L_x}{n_I}, \\frac{L_y}{n_J} \\right],\n",
    "$$\n",
    "the distance between grid points is\n",
    "The coordinates of all nodes are expressed as\n",
    "$$\n",
    "X_{aIJ} = \\Delta X_{a} \\, \\mathcal{G}_{aIJ}\n",
    "$$"
   ]
  },
  {
   "cell_type": "code",
   "execution_count": null,
   "id": "99fe0d45-8ab3-4710-a52f-f91bba0c17da",
   "metadata": {},
   "outputs": [],
   "source": [
    "delta_X_a = np.array([L_x/(n_I-1), L_y/(n_J-1)])\n",
    "X_aIJ = np.einsum('aIJ, a->aIJ', G_aIJ, delta_X_a)\n",
    "X_aIJ"
   ]
  },
  {
   "cell_type": "markdown",
   "id": "2559cb8c-8f0e-4605-95d5-890f42648fc1",
   "metadata": {},
   "source": [
    "The enumeration of nodes within a single element can be defined for the $\\xi$ and $\\eta$ directions using the index \n",
    "map\n",
    "$$\n",
    "\\mathcal{g}_{ai} = \\left[\n",
    "\\begin{array}{cccc}\n",
    "0,& 1, &1, & 0 \\\\ 0,& 0,& 1,& 1\n",
    "\\end{array}\n",
    "\\right]\n",
    "$$"
   ]
  },
  {
   "cell_type": "code",
   "execution_count": null,
   "id": "96ff2653-a5dd-46ba-8a0f-e70b54471bec",
   "metadata": {},
   "outputs": [],
   "source": [
    "g_ai = np.array([[0, 1, 1, 0], [0, 0, 1, 1]], dtype=np.int_)"
   ]
  },
  {
   "cell_type": "markdown",
   "id": "ece5abef-bb91-415e-828a-25c486a44bee",
   "metadata": {},
   "source": [
    "By introducing the element indexes $E = [0, n_I-2]$ and $F = [0, n_J-2]$ in the \n",
    "horizontal and vertical direction, we can introduce the index map identifying\n",
    "the local element nodes enumerated counter clock-wise in each element of the grid as\n",
    "$$\n",
    "\\mathcal{H}_{aEFi} = \\mathcal{G}_{aEF} + g_{ai}\n",
    "$$"
   ]
  },
  {
   "cell_type": "code",
   "execution_count": null,
   "id": "e0099d01-1f77-4145-854d-da70281a68f7",
   "metadata": {},
   "outputs": [],
   "source": [
    "G_aEF = G_aIJ[:,:-1,:-1]\n",
    "G_aEF"
   ]
  },
  {
   "cell_type": "code",
   "execution_count": null,
   "id": "73aab138-a553-4656-91d7-db030c0d45b6",
   "metadata": {},
   "outputs": [],
   "source": [
    "H_aEFi = G_aEF[:, :, :, None] + g_ai[:, None, None, :]\n",
    "H_EFia = np.einsum('aEFi->EFia', H_aEFi)\n",
    "X_IJa = np.einsum('aIJ->IJa', X_aIJ)\n",
    "H_EFia[0,0], X_IJa.shape, len(I)"
   ]
  },
  {
   "cell_type": "markdown",
   "id": "beb7c5c9-48e2-4a79-8b4d-763b328fcf8c",
   "metadata": {},
   "source": [
    "$$\n",
    "  X_{EFia} = X_{I=\\mathcal{H}_{0EFi}, I=\\mathcal{H}_{1EFi}}\n",
    "$$"
   ]
  },
  {
   "cell_type": "code",
   "execution_count": null,
   "id": "6d3d7c99-10fd-4c37-ab2f-7ab658e8f2d8",
   "metadata": {},
   "outputs": [],
   "source": [
    "X_EFia = X_IJa[tuple(H_aEFi)]"
   ]
  },
  {
   "cell_type": "code",
   "execution_count": null,
   "id": "de03f554-3648-4189-b541-bcf47072be76",
   "metadata": {},
   "outputs": [],
   "source": [
    "X_aEFi = np.einsum('EFia->aEFi', X_EFia)"
   ]
  },
  {
   "cell_type": "markdown",
   "id": "a8158b8e-c27e-4ed2-a94e-3056f2fb5a45",
   "metadata": {},
   "source": [
    "## Nodal coordinates and quadrature points of an element"
   ]
  },
  {
   "cell_type": "code",
   "execution_count": null,
   "id": "c26f32e7-45a0-493b-9aac-ba62cd5e6215",
   "metadata": {},
   "outputs": [],
   "source": [
    "delta_rs = np.eye(2, dtype=np.int_)"
   ]
  },
  {
   "cell_type": "code",
   "execution_count": null,
   "id": "116e8225-15eb-4a0d-b706-a5554d2a620f",
   "metadata": {},
   "outputs": [],
   "source": [
    "xi_ir = np.array([[-1, -1], [1, -1], [1, 1], [-1, 1]])"
   ]
  },
  {
   "cell_type": "markdown",
   "id": "51618fcf-2e60-4b30-9c2f-aca6da91c999",
   "metadata": {},
   "source": [
    "$$\n",
    " \\eta_{mr} = \\frac{1}{\\sqrt{3}} \\xi{mr}\n",
    "$$"
   ]
  },
  {
   "cell_type": "code",
   "execution_count": null,
   "id": "6babe2ff-66d2-4cde-8be4-d5d309161e44",
   "metadata": {},
   "outputs": [],
   "source": [
    "eta_mr = 3**(-1/2) * xi_ir\n",
    "eta_mr"
   ]
  },
  {
   "cell_type": "markdown",
   "id": "2f1797af-aabd-4151-b36e-a2ba31b1dc17",
   "metadata": {},
   "source": [
    "## Bilinear Lagrange shape functions"
   ]
  },
  {
   "cell_type": "markdown",
   "id": "83eee275-0cff-4d44-834a-21ddeecc5887",
   "metadata": {},
   "source": [
    "### Dimensional directions explicitly referenced in the product expression\n",
    "$$\n",
    "N_{mi} = \\frac{1}{4}(1 + \\eta_{m0} \\xi_{i0})(1 + \\eta_{m1} \\xi_{i1})\n",
    "$$"
   ]
  },
  {
   "cell_type": "code",
   "execution_count": null,
   "id": "2df99cc3-cbe0-4133-8e93-f50b8f64cebc",
   "metadata": {},
   "outputs": [],
   "source": [
    "N1_im = (\n",
    "    (1 + np.einsum('m,i->mi', eta_mr[:,0], xi_ir[:,0]))* \n",
    "    (1 + np.einsum('m,i->mi', eta_mr[:,1], xi_ir[:,1]))\n",
    ") / 4"
   ]
  },
  {
   "cell_type": "markdown",
   "id": "899bc386-6908-4d2e-a03f-024537797691",
   "metadata": {},
   "source": [
    "### Dimensional directions included in the index operator\n",
    "$$\n",
    "N_i(\\eta_r) \n",
    "=\n",
    "\\frac{1}{4}(\n",
    "1 + \\eta_0 \\xi_{i0} + \\eta_1 \\xi_{i1} + \\eta_0 \\xi_{i0} \\eta_1 \\xi_{i1}\n",
    ")\n",
    "$$"
   ]
  },
  {
   "cell_type": "markdown",
   "id": "7edf03bc-48c1-47e4-be6a-7dd590d19a1c",
   "metadata": {},
   "source": [
    "$$\n",
    "N_{im}\n",
    "=\n",
    "\\frac{1}{4}\\left(\n",
    "1 + \\eta_{mr} \\xi_{ir} + \\frac{1}{2}(1 - \\delta_{rs}) \\eta_{ms} \\xi_{is} \\eta_{mr} \\xi_{ir}\n",
    "\\right)\n",
    "$$"
   ]
  },
  {
   "cell_type": "code",
   "execution_count": null,
   "id": "154a7acb-1331-4e4c-b131-dce799b92eed",
   "metadata": {},
   "outputs": [],
   "source": [
    "N_im = (1 + \n",
    "  np.einsum('mr,ir->im', eta_mr, xi_ir) +\n",
    "  np.einsum('rs,ms,is,mr,ir->im', (1-delta_rs), eta_mr, xi_ir, eta_mr, xi_ir) / 2\n",
    ")/4\n",
    "N_im - N1_im"
   ]
  },
  {
   "cell_type": "markdown",
   "id": "575d23dc-3b51-40a1-b03a-f550757c9eab",
   "metadata": {},
   "source": [
    "## Derivatives of the shape functions w.r.t. parametric coordinates"
   ]
  },
  {
   "cell_type": "markdown",
   "id": "7c24432d-9e1a-47c1-8a77-5d3172c9b531",
   "metadata": {},
   "source": [
    "$$\n",
    "\\frac{\\partial N_i }{\\partial \\eta_0}\n",
    "= \n",
    "\\frac{1}{4}( \\xi_{i0} + \\eta_1 \\xi_{i1} ), \\;\\;\n",
    "\\frac{\\partial N_i }{\\partial \\eta_1}\n",
    "= \n",
    "\\frac{1}{4}( \\xi_{i1} + \\eta_0 \\xi_{i0} )\n",
    "$$"
   ]
  },
  {
   "cell_type": "markdown",
   "id": "b558a018-931e-4183-95bb-55d9e8dbb47b",
   "metadata": {},
   "source": [
    "$$\n",
    "N_{i,s}(\\eta_r)\n",
    "= \n",
    "\\frac{1}{4}( \\xi_{is} +\n",
    "(1-\\delta_{rs}) \\xi_{is} \\eta_{r} \\xi_{ir}\n",
    ")\n",
    "$$"
   ]
  },
  {
   "cell_type": "markdown",
   "id": "ae8d3726-054f-46da-9de8-81c6841b4f18",
   "metadata": {},
   "source": [
    "$$\n",
    "N_{im,s}\n",
    "= \n",
    "\\frac{1}{4}\n",
    "\\left[ \\xi_{is} +\n",
    "(1-\\delta_{rs}) \\, \\xi_{is} \\eta_{rm} \\xi_{ir}\n",
    "\\right]\n",
    "$$"
   ]
  },
  {
   "cell_type": "code",
   "execution_count": null,
   "id": "4ddc3cd8-2191-4bb2-909b-fc06b54154ae",
   "metadata": {},
   "outputs": [],
   "source": [
    "dN_ims = (\n",
    "    xi_ir[:,None,:] + \n",
    "    np.einsum('rs,is, mr,ir->ims', (1 - delta_rs), xi_ir, eta_mr, xi_ir)\n",
    ") / 4"
   ]
  },
  {
   "cell_type": "markdown",
   "id": "44c4af73-6f91-4624-b4b7-5910cd3eb7f2",
   "metadata": {},
   "source": [
    "## Verification of shape functions"
   ]
  },
  {
   "cell_type": "markdown",
   "id": "c6fa1b03-7fe0-4247-9a56-f599abd9b399",
   "metadata": {},
   "source": [
    "## Jacobi matrix"
   ]
  },
  {
   "cell_type": "code",
   "execution_count": null,
   "id": "93b8004d-13a3-4055-b0b9-2060f81c91ba",
   "metadata": {},
   "outputs": [],
   "source": [
    "J_EFmas = np.einsum(\n",
    " 'ims,EFia->EFmas',\n",
    " dN_ims, X_EFia\n",
    ")"
   ]
  },
  {
   "cell_type": "code",
   "execution_count": null,
   "id": "7074f2d7-341c-48d9-b0ba-6a213c1610c8",
   "metadata": {},
   "outputs": [],
   "source": [
    "inv_J_EFmsa = np.linalg.inv(J_EFmas)"
   ]
  },
  {
   "cell_type": "code",
   "execution_count": null,
   "id": "9af2835b-7d00-47fb-8167-0076ee8711ef",
   "metadata": {},
   "outputs": [],
   "source": [
    "delta_ab = np.eye(2)\n",
    "Diff1_abcd = 0.5 * (\n",
    "    np.einsum('ac,bd->abcd', delta_ab, delta_ab) +\n",
    "    np.einsum('ad,bc->abcd', delta_ab, delta_ab)\n",
    ")"
   ]
  },
  {
   "cell_type": "code",
   "execution_count": null,
   "id": "c826df9c-64d1-4102-b0a8-0b0527bfe06c",
   "metadata": {},
   "outputs": [],
   "source": [
    "B_EFimabc = np.einsum(\n",
    "    'abcd,ims,EFmsd->EFimabc',\n",
    "    Diff1_abcd, dN_ims, inv_J_EFmsa\n",
    ")"
   ]
  },
  {
   "cell_type": "code",
   "execution_count": null,
   "id": "6bd1d1cc-e1ed-4938-9626-7dc629e3e322",
   "metadata": {},
   "outputs": [],
   "source": [
    "B_EFimabc.shape"
   ]
  },
  {
   "cell_type": "code",
   "execution_count": null,
   "id": "a20c3a44-fd27-49a9-8a67-a4223b658f88",
   "metadata": {},
   "outputs": [],
   "source": [
    "X_EFia[0,0]"
   ]
  },
  {
   "cell_type": "code",
   "execution_count": null,
   "id": "d06e4baa-6495-4e00-aed0-3c2a20286616",
   "metadata": {},
   "outputs": [],
   "source": [
    "eps_EFmab = np.einsum(\n",
    "    'EFimabc,EFic->EFmab',\n",
    "    B_EFimabc, X_EFia * 0.0001\n",
    ")\n",
    "eps_EFmab[0,0]"
   ]
  },
  {
   "cell_type": "code",
   "execution_count": null,
   "id": "18ada955-5852-49eb-a573-e9ca1efcff90",
   "metadata": {},
   "outputs": [],
   "source": [
    "n_mp = 30\n",
    "alpha = np.linspace(0, 2 * np.pi, n_mp)\n",
    "MPN_en = np.array([np.cos(alpha), np.sin(alpha)])"
   ]
  },
  {
   "cell_type": "code",
   "execution_count": null,
   "id": "98cfb849-aee2-4927-a211-e210f284bbf6",
   "metadata": {},
   "outputs": [],
   "source": [
    "MPW = 1/n_mp"
   ]
  },
  {
   "cell_type": "code",
   "execution_count": null,
   "id": "4ccbd7c1-edee-488f-bb5f-6b207cffcf65",
   "metadata": {},
   "outputs": [],
   "source": [
    "MPNN_nij = np.einsum('en,fn->nef', MPN_en, MPN_en)"
   ]
  },
  {
   "cell_type": "code",
   "execution_count": null,
   "id": "6b8e129f-fa93-4667-8b52-adb829ad1c96",
   "metadata": {},
   "outputs": [],
   "source": [
    "MPTT_nijr = 0.5 * (\n",
    "        np.einsum('en,fr -> nefr', MPN_en, np.eye(2)) +\n",
    "        np.einsum('fn,re -> nfer', MPN_en, np.eye(2)) - 2 *\n",
    "        np.einsum('en,fn,gn -> nefg', MPN_en, MPN_en, MPN_en)\n",
    ")"
   ]
  },
  {
   "cell_type": "code",
   "execution_count": null,
   "id": "aa55f876-a1ea-40f7-8d43-c90a981c2749",
   "metadata": {},
   "outputs": [],
   "source": [
    "e_N_EFmn = np.einsum('nij,...ij->...n', MPNN_nij, eps_EFmab)\n",
    "e_T_EFmna = np.einsum('nija,...ij->...na', MPTT_nijr, eps_EFmab)"
   ]
  },
  {
   "cell_type": "code",
   "execution_count": null,
   "id": "03184467-b2b9-4633-b00b-490ac3db940a",
   "metadata": {},
   "outputs": [],
   "source": [
    "e_N_pos_EFmn = (np.abs(e_N_EFmn) + e_N_EFmn) / 2\n",
    "e_TT_EFmn = np.einsum('...ni,...ni -> ...n', e_T_EFmna, e_T_EFmna)"
   ]
  },
  {
   "cell_type": "code",
   "execution_count": null,
   "id": "78820ca6-d06d-4125-9d9a-154d1ff4a100",
   "metadata": {},
   "outputs": [],
   "source": [
    "c_T = 0\n",
    "e_equiv_EFmn = np.sqrt(e_N_pos_EFmn * e_N_pos_EFmn + c_T * e_TT_EFmn)\n",
    "epsilon_0 = 5e-5\n",
    "epsilon_f = 0.001"
   ]
  },
  {
   "cell_type": "code",
   "execution_count": null,
   "id": "d4b629e1-4354-462d-a7ae-19b15858a95a",
   "metadata": {},
   "outputs": [],
   "source": [
    "I = np.where(e_equiv_EFmn >= epsilon_0)\n",
    "kappa_EFmn = np.zeros_like(e_equiv_EFmn)\n",
    "omega_EFmn = np.zeros_like(e_equiv_EFmn)\n",
    "kappa_EFmn[I] = e_equiv_EFmn[I]"
   ]
  },
  {
   "cell_type": "code",
   "execution_count": null,
   "id": "0edefbf7-3998-4018-a466-ab597363e802",
   "metadata": {},
   "outputs": [],
   "source": [
    "omega_EFmn[I] = np.array(\n",
    "    1.0 - (epsilon_0 / kappa_EFmn[I] * np.exp(-1.0 * (kappa_EFmn[I] - epsilon_0) / (epsilon_f - epsilon_0))))"
   ]
  },
  {
   "cell_type": "code",
   "execution_count": null,
   "id": "14da56b9-643e-499b-b70e-d990c563ecfb",
   "metadata": {},
   "outputs": [],
   "source": [
    "phi_EFmn = np.sqrt(1.0 - omega_EFmn)"
   ]
  },
  {
   "cell_type": "code",
   "execution_count": null,
   "id": "b19a6d7f-d836-45f4-a093-5151b878ec9e",
   "metadata": {},
   "outputs": [],
   "source": [
    "phi_EFmab = np.einsum('...n,nab->...ab', phi_EFmn, MPNN_nij) / n_mp"
   ]
  },
  {
   "cell_type": "code",
   "execution_count": null,
   "id": "66e01c5d-52b1-4f4d-8a2e-784689e4acae",
   "metadata": {},
   "outputs": [],
   "source": [
    "delta = np.eye(2)\n",
    "beta_EFmijkl = 0.25 * (np.einsum('...ik,jl->...ijkl', phi_EFmab, delta) +\n",
    "                      np.einsum('...il,jk->...ijkl', phi_EFmab, delta) +\n",
    "                      np.einsum('...jk,il->...ijkl', phi_EFmab, delta) +\n",
    "                      np.einsum('...jl,ik->...ijkl', phi_EFmab, delta))"
   ]
  },
  {
   "cell_type": "code",
   "execution_count": null,
   "id": "f4951511-dda3-493c-b022-196a030cecd2",
   "metadata": {},
   "outputs": [],
   "source": [
    "E_ = 24000\n",
    "nu_ = 0.18"
   ]
  },
  {
   "cell_type": "code",
   "execution_count": null,
   "id": "42b70718-67f8-4e32-8bdf-bc23833927df",
   "metadata": {},
   "outputs": [],
   "source": [
    "la = E_ * nu_ / ((1. + nu_) * (1. - 2. * nu_))\n",
    "mu = E_ / (2. + 2. * nu_)\n",
    "delta = np.eye(2)\n",
    "D_abef = (np.einsum(',ij,kl->ijkl', la, delta, delta) +\n",
    "          np.einsum(',ik,jl->ijkl', mu, delta, delta) +\n",
    "          np.einsum(',il,jk->ijkl', mu, delta, delta))"
   ]
  },
  {
   "cell_type": "code",
   "execution_count": null,
   "id": "fb839402-9f6e-401f-901b-3acbf1b86591",
   "metadata": {},
   "outputs": [],
   "source": [
    "D_EFmijab = np.einsum(\n",
    "    '...ijab, abef, ...cdef -> ...ijcd',\n",
    "    beta_EFmijkl, D_abef, beta_EFmijkl\n",
    ")\n",
    "\n",
    "sig_EFmab = np.einsum('...abef,...ef -> ...ab', D_EFmijab, eps_EFmab)"
   ]
  },
  {
   "cell_type": "code",
   "execution_count": null,
   "id": "6336e12a-fec0-48b2-9f30-5a449ad6edf6",
   "metadata": {},
   "outputs": [],
   "source": [
    "sig_EFmab[0,0]"
   ]
  },
  {
   "cell_type": "code",
   "execution_count": null,
   "id": "5c09eba2-8aee-468b-89be-5f3f3908368c",
   "metadata": {},
   "outputs": [],
   "source": []
  }
 ],
 "metadata": {
  "kernelspec": {
   "display_name": "bmcs_env",
   "language": "python",
   "name": "bmcs_env"
  },
  "language_info": {
   "codemirror_mode": {
    "name": "ipython",
    "version": 3
   },
   "file_extension": ".py",
   "mimetype": "text/x-python",
   "name": "python",
   "nbconvert_exporter": "python",
   "pygments_lexer": "ipython3"
  }
 },
 "nbformat": 4,
 "nbformat_minor": 5
}
