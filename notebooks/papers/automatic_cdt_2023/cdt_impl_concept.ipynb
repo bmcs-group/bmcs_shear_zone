{
 "cells": [
  {
   "cell_type": "markdown",
   "id": "3deca867-1bb5-4dc9-aa76-aa7cc81e3895",
   "metadata": {},
   "source": [
    "# Demonstration of the implementation concept of CDT\n",
    "\n",
    "This notebook accompanies the paper describing the \n",
    "\n",
    "Automated detection of propagating cracks in RC beams based on DIC driven modeling of damage localization,\n",
    "F. Seemab, M. Schmidt, A. Baktheer, M. Classen, R. Chudoba, Engineering Structures, 2023\n",
    "\n",
    "that presents the implementation concept that exploting the close relation between the mathematical formulation using the indexed-based notation based on Eistein summation rule and the direct execution using the `einsum` method provied in the `numpy` package for multi-dimensional arrays. "
   ]
  },
  {
   "cell_type": "code",
   "execution_count": null,
   "id": "15cf06f7-ce0f-466e-95f1-8a0c90cbcdeb",
   "metadata": {
    "pycharm": {
     "is_executing": true
    }
   },
   "outputs": [],
   "source": [
    "%matplotlib widget\n",
    "import numpy as np\n",
    "import matplotlib.pylab as plt\n",
    "import collections\n",
    "collections.Iterable = collections.abc.Iterable"
   ]
  },
  {
   "cell_type": "code",
   "execution_count": null,
   "id": "8ff0bf40-a3c8-48c7-8651-5e24760c2309",
   "metadata": {},
   "outputs": [],
   "source": [
    "from scipy.interpolate import \\\n",
    "  RegularGridInterpolator as RGI"
   ]
  },
  {
   "cell_type": "code",
   "execution_count": null,
   "id": "0d734ff7-4ee3-485d-aec9-afa293491ef7",
   "metadata": {},
   "outputs": [],
   "source": [
    "test = 'B9_TV2'"
   ]
  },
  {
   "cell_type": "code",
   "execution_count": null,
   "id": "a6dde72a-471f-41f5-a4f8-c2a2fa69d925",
   "metadata": {},
   "outputs": [],
   "source": [
    "from bmcs_shear.api import DICGridTri\n",
    "dic_grid = DICGridTri(U_factor=100, dir_name=test, t=1, padding=40, \n",
    "                      d_x=3, d_y=3, n_T_max=40, T_stepping='delta_T')\n",
    "dic_grid.read_beam_design()\n",
    "time_T, F_T = dic_grid.time_F_T\n",
    "w_T = dic_grid.w_T\n",
    "np.savez_compressed(test, X_TPa=dic_grid.X_TQa[:,:,:-1], F_T=F_T, w_T=w_T)"
   ]
  },
  {
   "cell_type": "markdown",
   "id": "f7101d10-b080-4278-88ca-c90b88fa09e2",
   "metadata": {},
   "source": [
    "## Input format"
   ]
  },
  {
   "cell_type": "code",
   "execution_count": null,
   "id": "98ae4792-d8fa-4526-b3ba-4d1386e4df4c",
   "metadata": {},
   "outputs": [],
   "source": [
    "loaded = np.load('{}.npz'.format(test))\n",
    "X_TPa, F_T, w_T = loaded['X_TPa'], loaded['F_T'], loaded['w_T']"
   ]
  },
  {
   "cell_type": "code",
   "execution_count": null,
   "id": "a515d940-b236-49b0-8ce2-5044da9dea8e",
   "metadata": {},
   "outputs": [],
   "source": [
    "X_0Pa = X_TPa[0]\n",
    "U_TPa = X_TPa - X_0Pa[None,...]\n",
    "n_T = len(U_TPa)"
   ]
  },
  {
   "cell_type": "markdown",
   "id": "3a2675c6-9396-497f-a4c4-e244a82d3d44",
   "metadata": {},
   "source": [
    "## Grid definition"
   ]
  },
  {
   "cell_type": "code",
   "execution_count": null,
   "id": "25fa6d87-1494-4dbc-90cf-49ecfe0e7348",
   "metadata": {},
   "outputs": [],
   "source": [
    "pad_a = np.array([40, 40])\n",
    "X_min_a = np.array([np.min(X_0Pa[:,a]+pad_a[a]) for a in (0,1)]) # left&bottom\n",
    "X_max_a = np.array([np.max(X_0Pa[:,a]-pad_a[a]) for a in (0,1)]) # right&top"
   ]
  },
  {
   "cell_type": "code",
   "execution_count": null,
   "id": "5b2c605b-3c16-41d3-885e-cce406465991",
   "metadata": {},
   "outputs": [],
   "source": [
    "L_a = X_max_a - X_min_a # frame dimensions\n",
    "d = 4 # 4 mm distances\n",
    "n_a = 2 # number of spatial dimensions\n",
    "n_I, n_J = np.array( L_a / d, dtype=np.int_ )\n",
    "d_X_a = [L_a[0]/n_I, L_a[1]/n_J]\n",
    "n_I, n_J"
   ]
  },
  {
   "cell_type": "markdown",
   "id": "6d67ee42-ec39-4b7a-aa32-7a92baf25072",
   "metadata": {},
   "source": [
    "Given a column index $I = [0, n_I-1\\}$, row index $J = [0, n_J-1]$ and direction index $a = [0,1]$ \n",
    "the index expression\n",
    "$$\n",
    "\\mathcal{G}_{IJa} = (1-a)I + a J\n",
    "$$\n",
    "introduces a grid index map rendering the horizontal/column indexes of individual grid nodes for $a=0$ and vertical / row indexes for $a=1$."
   ]
  },
  {
   "cell_type": "markdown",
   "id": "05c0ac79-1e52-454a-81cb-1a658ae00acd",
   "metadata": {},
   "source": [
    "$$\n",
    " a = 0 \\rightarrow (\\zeta = 1, \\eta = 0)\n",
    "$$\n",
    "$$\n",
    " a = 1 \\rightarrow (\\zeta = 0, \\eta = 1)\n",
    "$$\n",
    "$$\n",
    "\\zeta = 1-a\n",
    "$$\n",
    "$$\n",
    "\\eta = a\n",
    "$$"
   ]
  },
  {
   "cell_type": "code",
   "execution_count": null,
   "id": "f78b3440-213f-4262-951d-64ac52fc27f5",
   "metadata": {},
   "outputs": [],
   "source": [
    "I,J,a = [np.arange(n) for n in (n_I,n_J,n_a)]\n",
    "G_aIJ = (np.einsum('a, I->aI', (1-a), I)[:,:, None] + \n",
    "         np.einsum('a, J->aJ', a, J)[:,None, :])"
   ]
  },
  {
   "cell_type": "markdown",
   "id": "33a72e7d-d4bb-45ee-9301-ef40ce1d2701",
   "metadata": {},
   "source": [
    "Given the step length \n",
    "$$\n",
    "\\Delta X_a = \\left[\\frac{L_x}{n_I}, \\frac{L_y}{n_J} \\right],\n",
    "$$\n",
    "the distance between grid points is\n",
    "The coordinates of all nodes are expressed as\n",
    "$$\n",
    "X_{aIJ} = \\Delta X_{a} \\, \\mathcal{G}_{aIJ}\n",
    "$$"
   ]
  },
  {
   "cell_type": "code",
   "execution_count": null,
   "id": "99fe0d45-8ab3-4710-a52f-f91bba0c17da",
   "metadata": {},
   "outputs": [],
   "source": [
    "X_aIJ = X_min_a[:,None,None] + np.einsum('aIJ,a->aIJ', G_aIJ, d_X_a)\n",
    "X_IJa = np.einsum('aIJ->IJa', X_aIJ)"
   ]
  },
  {
   "cell_type": "code",
   "execution_count": null,
   "id": "4596b7f0-30d2-45ce-865a-131c16821488",
   "metadata": {},
   "outputs": [],
   "source": [
    "from scipy.spatial import Delaunay\n",
    "from scipy.interpolate import \\\n",
    "    LinearNDInterpolator as LNDI\n",
    "tri = Delaunay(X_0Pa)"
   ]
  },
  {
   "cell_type": "markdown",
   "id": "3866408d-fc07-4061-a9f8-c0ce587b8311",
   "metadata": {},
   "source": [
    "Use an interpolator over the Delaunay triangulation to obtain the values over a regular grid $X_{aIJ}$"
   ]
  },
  {
   "cell_type": "code",
   "execution_count": null,
   "id": "7ac0247f-a52c-4e93-bc55-bf523d6b0188",
   "metadata": {},
   "outputs": [],
   "source": [
    "U_TIJa = np.array([\n",
    "    LNDI(tri, U_TPa[T])(*X_aIJ) for T in range(n_T)\n",
    "])"
   ]
  },
  {
   "cell_type": "markdown",
   "id": "2559cb8c-8f0e-4605-95d5-890f42648fc1",
   "metadata": {},
   "source": [
    "The enumeration of nodes within a single element is defined for the $\\xi$ and $\\eta$ directions consistently with the enumeration of the $\\mathcal{G}_{aIJ}$ grid by setting \n",
    "$$\n",
    "{g}_{aij} = \\mathcal{G}_{a; I=i; J=i}, \\; i \\in (0,1) \\times (0,1)\n",
    "$$"
   ]
  },
  {
   "cell_type": "code",
   "execution_count": null,
   "id": "96ff2653-a5dd-46ba-8a0f-e70b54471bec",
   "metadata": {},
   "outputs": [],
   "source": [
    "n_i, n_j = 2, 2\n",
    "g_aij = G_aIJ[:,:n_i,:n_j]"
   ]
  },
  {
   "cell_type": "markdown",
   "id": "ece5abef-bb91-415e-828a-25c486a44bee",
   "metadata": {},
   "source": [
    "By introducing the element indexes $E = [0, n_I-2]$ and $F = [0, n_J-2]$ in the \n",
    "horizontal and vertical direction, we can introduce the index map identifying\n",
    "the local element nodes enumerated counter clock-wise in each element of the grid as\n",
    "$$\n",
    "\\mathcal{H}_{aEiFj} = \\mathcal{G}_{aEF} + g_{aij}\n",
    "$$"
   ]
  },
  {
   "cell_type": "code",
   "execution_count": null,
   "id": "e0099d01-1f77-4145-854d-da70281a68f7",
   "metadata": {},
   "outputs": [],
   "source": [
    "n_E, n_F = n_I-1, n_J-1\n",
    "G_aEF = G_aIJ[:,:-1,:-1]"
   ]
  },
  {
   "cell_type": "code",
   "execution_count": null,
   "id": "73aab138-a553-4656-91d7-db030c0d45b6",
   "metadata": {},
   "outputs": [],
   "source": [
    "H_aEiFj = G_aEF[:,:,None,:,None] + g_aij[:,None,:,None,:]"
   ]
  },
  {
   "cell_type": "markdown",
   "id": "beb7c5c9-48e2-4a79-8b4d-763b328fcf8c",
   "metadata": {},
   "source": [
    "$$\n",
    "  X_{EiFja} = X_{I=\\mathcal{H}_{0EiFj}, I=\\mathcal{H}_{1EiFj}}\n",
    "$$"
   ]
  },
  {
   "cell_type": "code",
   "execution_count": null,
   "id": "6d3d7c99-10fd-4c37-ab2f-7ab658e8f2d8",
   "metadata": {},
   "outputs": [],
   "source": [
    "X_EiFja = X_IJa[(*H_aEiFj,)]\n",
    "U_TEiFja = U_TIJa[(slice(None), *H_aEiFj)]"
   ]
  },
  {
   "cell_type": "markdown",
   "id": "a8158b8e-c27e-4ed2-a94e-3056f2fb5a45",
   "metadata": {},
   "source": [
    "## Nodal coordinates and quadrature points of an element"
   ]
  },
  {
   "cell_type": "code",
   "execution_count": null,
   "id": "c26f32e7-45a0-493b-9aac-ba62cd5e6215",
   "metadata": {},
   "outputs": [],
   "source": [
    "delta_rs = np.eye(2, dtype=np.int_)"
   ]
  },
  {
   "cell_type": "markdown",
   "id": "604c5c0c-ec75-44bb-812d-b2b2b27f51d5",
   "metadata": {},
   "source": [
    "$$\n",
    "\\xi_{rij} = 2 X_{a;E=0;i;F=0;j} - 1\n",
    "$$"
   ]
  },
  {
   "cell_type": "code",
   "execution_count": null,
   "id": "116e8225-15eb-4a0d-b706-a5554d2a620f",
   "metadata": {},
   "outputs": [],
   "source": [
    "xi_rij = (H_aEiFj[:,0,:,0,:] * 2) - 1"
   ]
  },
  {
   "cell_type": "markdown",
   "id": "51618fcf-2e60-4b30-9c2f-aca6da91c999",
   "metadata": {},
   "source": [
    "$$\n",
    " \\eta_{rmn} = \\frac{1}{\\sqrt{3}} \\xi_{r;i=m;j=n}, \\; m, n \\in (0,1) \\times (0,1)\n",
    "$$"
   ]
  },
  {
   "cell_type": "code",
   "execution_count": null,
   "id": "6babe2ff-66d2-4cde-8be4-d5d309161e44",
   "metadata": {},
   "outputs": [],
   "source": [
    "n_m, n_n = n_i, n_j\n",
    "eta_rmn = 3**(-1/2) * xi_rij"
   ]
  },
  {
   "cell_type": "markdown",
   "id": "2f1797af-aabd-4151-b36e-a2ba31b1dc17",
   "metadata": {},
   "source": [
    "## Bilinear Lagrange shape functions"
   ]
  },
  {
   "cell_type": "markdown",
   "id": "83eee275-0cff-4d44-834a-21ddeecc5887",
   "metadata": {},
   "source": [
    "Dimensional directions explicitly referenced in the product expression\n",
    "$$\n",
    "N_{ijmn} = \\frac{1}{4}(1 + \\eta_{r=0;mn} \\xi_{r=0;ij})\\,(1 + \\eta_{r=1;mn} \\xi_{r=1;ij})\n",
    "$$"
   ]
  },
  {
   "cell_type": "code",
   "execution_count": null,
   "id": "2df99cc3-cbe0-4133-8e93-f50b8f64cebc",
   "metadata": {},
   "outputs": [],
   "source": [
    "N1_ijmn = (\n",
    "    (1 + np.einsum('mn,ij->mnij', eta_rmn[0], xi_rij[0]))* \n",
    "    (1 + np.einsum('mn,ij->mnij', eta_rmn[1], xi_rij[1]))\n",
    ") / 4"
   ]
  },
  {
   "cell_type": "markdown",
   "id": "899bc386-6908-4d2e-a03f-024537797691",
   "metadata": {},
   "source": [
    "Dimensional directions included in the index operator\n",
    "$$\n",
    "N_{ij}(\\eta_r) \n",
    "=\n",
    "\\frac{1}{4}(\n",
    "1 + \\eta_0 \\xi_{0ij} + \\eta_1 \\xi_{1ij} + \\eta_0 \\xi_{0ij} \\eta_1 \\xi_{1ij}\n",
    ")\n",
    "$$"
   ]
  },
  {
   "cell_type": "markdown",
   "id": "7edf03bc-48c1-47e4-be6a-7dd590d19a1c",
   "metadata": {},
   "source": [
    "$$\n",
    "N_{ijmn}\n",
    "=\n",
    "\\frac{1}{4}\\left(\n",
    "1 + \\eta_{rmn} \\xi_{rij} + \\frac{1}{2}(1 - \\delta_{rs}) \\eta_{smn} \\xi_{sij} \\eta_{rmn} \\xi_{rij}\n",
    "\\right)\n",
    "$$"
   ]
  },
  {
   "cell_type": "code",
   "execution_count": null,
   "id": "154a7acb-1331-4e4c-b131-dce799b92eed",
   "metadata": {},
   "outputs": [],
   "source": [
    "N_ijmn = (1 + \n",
    "  np.einsum('rmn,rij->ijmn', eta_rmn, xi_rij) +\n",
    "  np.einsum('rs,smn,sij,rmn,rij->ijmn', (1-delta_rs), eta_rmn, xi_rij, eta_rmn, xi_rij) / 2\n",
    ")/4\n",
    "np.sum(N_ijmn - N1_ijmn)"
   ]
  },
  {
   "cell_type": "markdown",
   "id": "575d23dc-3b51-40a1-b03a-f550757c9eab",
   "metadata": {},
   "source": [
    "Derivatives of the shape functions w.r.t. parametric coordinates"
   ]
  },
  {
   "cell_type": "markdown",
   "id": "7c24432d-9e1a-47c1-8a77-5d3172c9b531",
   "metadata": {},
   "source": [
    "$$\n",
    "\\frac{\\partial N_{ij} }{\\partial \\eta_0}\n",
    "= \n",
    "\\frac{1}{4}( \\xi_{0ij} + \\eta_1 \\xi_{1ij} ), \\;\\;\n",
    "\\frac{\\partial N_{ij} }{\\partial \\eta_1}\n",
    "= \n",
    "\\frac{1}{4}( \\xi_{1ij} + \\eta_0 \\xi_{0ij} )\n",
    "$$"
   ]
  },
  {
   "cell_type": "markdown",
   "id": "30527a2c-8f36-4a62-8657-47aae80bbbc8",
   "metadata": {},
   "source": [
    "can be rewritten in the index notation as"
   ]
  },
  {
   "cell_type": "markdown",
   "id": "b558a018-931e-4183-95bb-55d9e8dbb47b",
   "metadata": {},
   "source": [
    "$$\n",
    "N_{ij,s}(\\eta_r)\n",
    "= \n",
    "\\frac{1}{4}( \\xi_{sij} +\n",
    "(1-\\delta_{rs}) \\xi_{sij} \\eta_{r} \\xi_{rij}\n",
    ")\n",
    "$$"
   ]
  },
  {
   "cell_type": "markdown",
   "id": "ef6a28dd-2717-4f05-b3ab-656aa95438de",
   "metadata": {},
   "source": [
    "and directly evaluated in the quadrature points $\\eta_{rmn}$"
   ]
  },
  {
   "cell_type": "markdown",
   "id": "ae8d3726-054f-46da-9de8-81c6841b4f18",
   "metadata": {},
   "source": [
    "$$\n",
    "N_{ijmn,s}\n",
    "= \n",
    "\\frac{1}{4}\n",
    "\\left[ \\xi_{sij} +\n",
    "(1-\\delta_{rs}) \\, \\xi_{sij} \\eta_{rmn} \\xi_{rij}\n",
    "\\right]\n",
    "$$"
   ]
  },
  {
   "cell_type": "code",
   "execution_count": null,
   "id": "4ddc3cd8-2191-4bb2-909b-fc06b54154ae",
   "metadata": {},
   "outputs": [],
   "source": [
    "dN_sijmn = (\n",
    "    xi_rij[:,:,:,None,None] + \n",
    "    np.einsum('rs,sij,rmn,rij->sijmn', (1 - delta_rs), xi_rij, eta_rmn, xi_rij)\n",
    ") / 4"
   ]
  },
  {
   "cell_type": "markdown",
   "id": "c6fa1b03-7fe0-4247-9a56-f599abd9b399",
   "metadata": {},
   "source": [
    "## Kinematic operator"
   ]
  },
  {
   "cell_type": "markdown",
   "id": "cdafbedb-550c-4e1f-bb7b-afbcc3e7ee02",
   "metadata": {},
   "source": [
    "Jacobi matrix in every quadrature point reads\n",
    "$$\n",
    "J_{EmFnas} = N_{ijmn,s} X_{EiFja}\n",
    "$$"
   ]
  },
  {
   "cell_type": "code",
   "execution_count": null,
   "id": "93b8004d-13a3-4055-b0b9-2060f81c91ba",
   "metadata": {},
   "outputs": [],
   "source": [
    "J_EmFnas = np.einsum(\n",
    " 'sijmn,EiFja->EmFnas',\n",
    " dN_sijmn, X_EiFja\n",
    ")"
   ]
  },
  {
   "cell_type": "markdown",
   "id": "ca3c9cec-4693-47fd-80b5-baae687443bd",
   "metadata": {},
   "source": [
    "The inverse of Jacobi matrix in all quadrature points"
   ]
  },
  {
   "cell_type": "code",
   "execution_count": null,
   "id": "7074f2d7-341c-48d9-b0ba-6a213c1610c8",
   "metadata": {},
   "outputs": [],
   "source": [
    "inv_J_EmFnsa = np.linalg.inv(J_EmFnas)"
   ]
  },
  {
   "cell_type": "markdown",
   "id": "47c1b3ed-b249-46e3-a6ff-6d7a579d3e52",
   "metadata": {},
   "source": [
    "The strain operator \n",
    "$$\n",
    " \\varepsilon_{ab} = \\frac{1}{2}( u_{a,b} + u_{b,a} )\n",
    "$$\n",
    "is represented by the cross combination of the dimensions as"
   ]
  },
  {
   "cell_type": "code",
   "execution_count": null,
   "id": "9af2835b-7d00-47fb-8167-0076ee8711ef",
   "metadata": {},
   "outputs": [],
   "source": [
    "delta_ab = np.eye(2)\n",
    "Diff1_abcd = 0.5 * (\n",
    "    np.einsum('ac,bd->abcd', delta_ab, delta_ab) +\n",
    "    np.einsum('ad,bc->abcd', delta_ab, delta_ab)\n",
    ")"
   ]
  },
  {
   "cell_type": "markdown",
   "id": "de224c0d-2bb5-4f41-919a-931232046145",
   "metadata": {},
   "source": [
    "$$\n",
    "B_{EiFjmnabc} = D_{abcd} N_{ijmn,s} J^{-1}_{EmFnsd}\n",
    "$$"
   ]
  },
  {
   "cell_type": "code",
   "execution_count": null,
   "id": "c826df9c-64d1-4102-b0a8-0b0527bfe06c",
   "metadata": {},
   "outputs": [],
   "source": [
    "B_EiFjmnabc = np.einsum(\n",
    "    'abcd,sijmn,EmFnsd->EiFjmnabc',\n",
    "    Diff1_abcd, dN_sijmn, inv_J_EmFnsa\n",
    ")"
   ]
  },
  {
   "cell_type": "markdown",
   "id": "f5e3229e-ea7d-44e7-8be3-03c8f88f2888",
   "metadata": {},
   "source": [
    "$$\n",
    "\\varepsilon_{EmFnab} = B_{EiFjmnabc} U_{EiFjc}\n",
    "$$"
   ]
  },
  {
   "cell_type": "code",
   "execution_count": null,
   "id": "d06e4baa-6495-4e00-aed0-3c2a20286616",
   "metadata": {},
   "outputs": [],
   "source": [
    "eps_TEmFnab = np.einsum(\n",
    "    'EiFjmnabc,TEiFjc->TEmFnab',\n",
    "    B_EiFjmnabc, U_TEiFja\n",
    ")\n",
    "eps_TEmFnab.shape"
   ]
  },
  {
   "cell_type": "markdown",
   "id": "7807664a-8ac1-40c6-9a30-c048f9b95cf6",
   "metadata": {},
   "source": [
    "## Scalar damage model"
   ]
  },
  {
   "cell_type": "markdown",
   "id": "58e634f8-6b5e-46f4-a619-98d12b42dda0",
   "metadata": {},
   "source": [
    "The strain state is reduced to a scalar value using maximum value of the principal strain\n",
    "$\\kappa_{TEmFn}$ and reshaped to a grid $K \\times L$."
   ]
  },
  {
   "cell_type": "code",
   "execution_count": null,
   "id": "d4f5ee4b-f284-49fd-97fe-e4a5def4131f",
   "metadata": {},
   "outputs": [],
   "source": [
    "eps_TEmFna, _ = np.linalg.eig(eps_TEmFnab)\n",
    "kappa_TEmFn = np.max(eps_TEmFna, axis=-1)\n",
    "kappa_TKL = kappa_TEmFn.reshape(-1, n_E*n_m, n_F*n_n)"
   ]
  },
  {
   "cell_type": "markdown",
   "id": "df183847-4a84-4d4c-9e60-1998696a9b78",
   "metadata": {},
   "source": [
    "Then, the damage value is quantified using the exponential damage law\n",
    "$$\n",
    "\\omega = \\frac{\\varepsilon_\\mathrm{o}}{\\kappa} \\exp\\left(-\\frac{\\kappa - \\varepsilon_\\mathrm{o}}\n",
    "{ \\varepsilon_\\mathrm{f} - \\varepsilon_\\mathrm{o} }\\right)\n",
    "$$"
   ]
  },
  {
   "cell_type": "code",
   "execution_count": null,
   "id": "97cdad6f-00cb-47db-87c7-961646fef2b8",
   "metadata": {},
   "outputs": [],
   "source": [
    "E_ = 1400\n",
    "nu_ = 0.18\n",
    "eps_0=0.002\n",
    "#eps_f=0.0028\n",
    "eps_f=0.005\n",
    "I = np.where(kappa_TEmFn>=eps_0)\n",
    "omega_TEmFn = np.zeros_like(kappa_TEmFn)\n",
    "omega_TEmFn[I] = 1.0-(eps_0/kappa_TEmFn[I]*np.exp(\n",
    "    -(kappa_TEmFn[I]-eps_0)/(eps_f-eps_0))\n",
    ")"
   ]
  },
  {
   "cell_type": "markdown",
   "id": "33e4df37-d92a-4a4f-836f-c01fe47381d3",
   "metadata": {},
   "source": [
    "## Plot localized damage field"
   ]
  },
  {
   "cell_type": "code",
   "execution_count": null,
   "id": "445552a9-63c6-461c-85d1-2440c41c67a7",
   "metadata": {},
   "outputs": [],
   "source": [
    "X_aEmFn = np.einsum('ijmn,EiFja->aEmFn', N_ijmn, X_EiFja)\n",
    "X_aKL = X_aEmFn.reshape(-1,(n_I-1)*2, (n_J-1)*2)"
   ]
  },
  {
   "cell_type": "code",
   "execution_count": null,
   "id": "09aa480a-e7b0-43d6-95ed-8f4e39903b98",
   "metadata": {},
   "outputs": [],
   "source": [
    "omega_TKL = omega_TEmFn.reshape(-1, n_E*n_m, n_F*n_n)"
   ]
  },
  {
   "cell_type": "code",
   "execution_count": null,
   "id": "121df7e9-02a6-4d47-978c-0f97f824fc07",
   "metadata": {},
   "outputs": [],
   "source": [
    "fig = plt.figure(figsize=(12,5))\n",
    "rows = fig.subplots(2,2)\n",
    "for (ax_s, ax_o), T in zip(rows, [10, -1]):\n",
    "    ax_o.contourf( X_aKL[0], X_aKL[1], omega_TKL[T], cmap='BuPu',vmin=0, vmax=1)\n",
    "    ax_o.axis('equal');\n",
    "    ax_o.axis('off');\n",
    "    ax_s.contourf( X_aKL[0], X_aKL[1], kappa_TKL[T], cmap='BuPu', vmin=eps_0, vmax=50*eps_0)\n",
    "    ax_s.axis('equal');\n",
    "    ax_s.axis('off');"
   ]
  },
  {
   "cell_type": "markdown",
   "id": "fed40901-6597-4d8b-8a9a-ee679e515dee",
   "metadata": {},
   "source": [
    "## Constitutive law"
   ]
  },
  {
   "cell_type": "code",
   "execution_count": null,
   "id": "2cbba0d5-b579-458d-b865-e129ed7f724e",
   "metadata": {},
   "outputs": [],
   "source": [
    "la = E_*nu_/((1+ nu_)*(1-2*nu_))\n",
    "mu = E_/(2+2*nu_)\n",
    "delta = np.eye(2)\n",
    "D_abef = (\n",
    " np.einsum(',ij,kl->ijkl',la,delta,delta)+\n",
    " np.einsum(',ik,jl->ijkl',mu,delta,delta)+\n",
    " np.einsum(',il,jk->ijkl',mu,delta,delta))"
   ]
  },
  {
   "cell_type": "code",
   "execution_count": null,
   "id": "ce9803e7-dd27-4856-a5d0-c46e67cff433",
   "metadata": {},
   "outputs": [],
   "source": [
    "E = E_\n",
    "nu = nu_\n",
    "D_stress = np.zeros([3, 3])\n",
    "D_stress[0, 0] = E / (1 - nu * nu)\n",
    "D_stress[0, 1] = E / (1 - nu * nu) * nu\n",
    "D_stress[1, 0] = E / (1 - nu * nu) * nu\n",
    "D_stress[1, 1] = E / (1 - nu * nu)\n",
    "D_stress[2, 2] = E / (1 - nu * nu) * (1 / 2 - nu / 2)"
   ]
  },
  {
   "cell_type": "code",
   "execution_count": null,
   "id": "abc43a5e-8c86-4b11-8cdd-248a5b17a1e9",
   "metadata": {},
   "outputs": [],
   "source": [
    "D_strain = np.zeros([3, 3])\n",
    "D_strain[0, 0] = E * (1.0 - nu) / (1.0 + nu) / (1.0 - 2.0 * nu)\n",
    "D_strain[0, 1] = E / (1.0 + nu) / (1.0 - 2.0 * nu) * nu\n",
    "D_strain[1, 0] = E / (1.0 + nu) / (1.0 - 2.0 * nu) * nu\n",
    "D_strain[1, 1] = E * (1.0 - nu) / (1.0 + nu) / (1.0 - 2.0 * nu)\n",
    "D_strain[2, 2] = E * (1.0 - nu) / (1.0 + nu) / (2.0 - 2.0 * nu)"
   ]
  },
  {
   "cell_type": "code",
   "execution_count": null,
   "id": "f94f5cef-1534-446a-8cb8-7413a73928c0",
   "metadata": {},
   "outputs": [],
   "source": [
    "map2d_ijkl2a = np.array([[[[0, 0],\n",
    "                              [0, 0]],\n",
    "                             [[2, 2],\n",
    "                              [2, 2]]],\n",
    "                            [[[2, 2],\n",
    "                              [2, 2]],\n",
    "                             [[1, 1],\n",
    "                              [1, 1]]]],\n",
    "                       dtype=np.int_)\n",
    "map2d_ijkl2b = np.array([[[[0, 2],\n",
    "                              [2, 1]],\n",
    "                             [[0, 2],\n",
    "                              [2, 1]]],\n",
    "                            [[[0, 2],\n",
    "                              [2, 1]],\n",
    "                             [[0, 2],\n",
    "                              [2, 1]]]],\n",
    "                       dtype=np.int_)\n"
   ]
  },
  {
   "cell_type": "code",
   "execution_count": null,
   "id": "b802f973-fb58-43a2-8082-f4ef898fd39b",
   "metadata": {},
   "outputs": [],
   "source": [
    "D_abcd = D_stress[map2d_ijkl2a, map2d_ijkl2b]"
   ]
  },
  {
   "cell_type": "code",
   "execution_count": null,
   "id": "2d155efd-b771-4256-97fc-20b095123468",
   "metadata": {},
   "outputs": [],
   "source": [
    "sig_TEmFnab = np.einsum('...,abef,...ef -> ...ab', \n",
    " (1-omega_TEmFn), D_abef, eps_TEmFnab)\n",
    "sig_TEmFnab2 = np.einsum('...,abef,...ef -> ...ab', \n",
    " (1-omega_TEmFn), D_abcd, eps_TEmFnab)"
   ]
  },
  {
   "cell_type": "code",
   "execution_count": null,
   "id": "4f33e365-6a03-4778-a915-0aa6a2ba135e",
   "metadata": {},
   "outputs": [],
   "source": [
    "sig_TEmFna, _ = np.linalg.eig(sig_TEmFnab)\n",
    "sig_TEmFna2, _ = np.linalg.eig(sig_TEmFnab2)"
   ]
  },
  {
   "cell_type": "code",
   "execution_count": null,
   "id": "7a65994b-51bf-40f1-9929-d4b74d40f1d6",
   "metadata": {},
   "outputs": [],
   "source": [
    "max_sig = np.max(sig_TEmFna)\n",
    "max_sig2 = np.max(sig_TEmFna2)\n",
    "D_sig = max_sig - max_sig2\n",
    "max_sig, max_sig2, D_sig, max_sig-max_sig2"
   ]
  },
  {
   "cell_type": "code",
   "execution_count": null,
   "id": "dac138f2-e3c8-423b-a94d-b7962df8658c",
   "metadata": {},
   "outputs": [],
   "source": [
    "eps_T, sig_T = np.max(eps_TEmFna[-1], axis=-1).flatten(), np.max(sig_TEmFna[-1], axis=-1).flatten()\n",
    "_, ax = plt.subplots(1,1)\n",
    "ax.plot(eps_T, sig_T,'.')\n",
    "ax.plot([0, 0.0005], [0, 3], color='red')"
   ]
  },
  {
   "cell_type": "code",
   "execution_count": null,
   "id": "d009df3c-05c9-4f31-91fe-856e84098fb2",
   "metadata": {},
   "outputs": [],
   "source": [
    "sig_TKL = np.max(sig_TEmFna2, axis=-1).reshape(-1, n_E*n_m, n_F*n_n)\n",
    "sig_TKL[sig_TKL<0] = 0"
   ]
  },
  {
   "cell_type": "code",
   "execution_count": null,
   "id": "b2765c04-b300-4289-a650-e3b81f81c0d9",
   "metadata": {},
   "outputs": [],
   "source": [
    "from matplotlib import cm\n",
    "fig = plt.figure(figsize=(11,3), tight_layout=True)\n",
    "ax_rows = fig.subplots(3,2)\n",
    "for (ax_o, ax_s), T in zip(ax_rows, [3, 8, -1]):\n",
    "    # ax_e.contourf( X_aKL[0], X_aKL[1], kappa_TKL[T]-eps_0, cmap='BuPu', vmin=0, vmax=eps_0*3)\n",
    "    # ax_e.axis('equal');\n",
    "    # ax_e.axis('off');\n",
    "    ax_o.contourf( X_aKL[0], X_aKL[1], omega_TKL[T], cmap='BuPu', vmin=0, vmax=1)\n",
    "    ax_o.axis('equal');\n",
    "    ax_o.axis('off');\n",
    "    cs_sig = ax_s.contourf( X_aKL[0], X_aKL[1], sig_TKL[T], cmap='RdPu', vmin=0.1)\n",
    "    ax_s.axis('equal');\n",
    "    ax_s.axis('off');\n",
    "# cbar_sig = fig.colorbar(cm.ScalarMappable(norm=cs_sig.norm, cmap=cs_sig.cmap),\n",
    "#                         ax=ax_s, #ticks=np.arange(0, max_fe_eps * 1.01, 0.005),\n",
    "#                         orientation='horizontal')    "
   ]
  },
  {
   "cell_type": "code",
   "execution_count": null,
   "id": "3c9f077f-1960-4e00-8558-52e392783ff4",
   "metadata": {},
   "outputs": [],
   "source": [
    "I1_TEmFn2 = np.einsum('aa,...aa->...', delta_ab, sig_TEmFnab2)\n",
    "s_TEmFnab2 = sig_TEmFnab2 - np.einsum('ab,...->...ab', delta_ab, I1_TEmFn2) \n",
    "J2_TEnFn2 = 0.5*np.einsum('...ab,...ba->...', s_TEmFnab2, s_TEmFnab2)"
   ]
  },
  {
   "cell_type": "code",
   "execution_count": null,
   "id": "1e873062-a6f3-44eb-a99e-59a211cdd3a4",
   "metadata": {},
   "outputs": [],
   "source": [
    "I1_TKL = I1_TEmFn2.reshape(-1, n_E*n_m, n_F*n_n)\n",
    "J2_TKL = J2_TEnFn2.reshape(-1, n_E*n_m, n_F*n_n)"
   ]
  },
  {
   "cell_type": "code",
   "execution_count": null,
   "id": "827852c4-a591-4142-b48e-ba313ea93fb3",
   "metadata": {},
   "outputs": [],
   "source": [
    "from matplotlib import cm\n",
    "fig = plt.figure(figsize=(11,3))\n",
    "ax_rows = fig.subplots(3,3)\n",
    "print(ax_rows)\n",
    "for (ax_comp, ax_o, ax_s), T in zip(ax_rows, [1, 10, -1]):\n",
    "    I1_KL = np.copy(I1_TKL[T])\n",
    "    I1_KL[I1_KL > 0] = 0\n",
    "    vmin, vmax= -8, -0.1\n",
    "    levels = np.linspace(vmin, vmax, 4)\n",
    "    cs_comp = ax_comp.contourf( X_aKL[0], X_aKL[1], I1_KL, levels=levels, vmin=vmin, vmax=vmax) #, cmap='RdPu')\n",
    "    ax_comp.axis('equal');\n",
    "    ax_comp.axis('off');\n",
    "    vmin, vmax = 1, 6\n",
    "    levels = np.linspace(vmin, vmax, 6)\n",
    "    ax_o.contourf( X_aKL[0], X_aKL[1], I1_TKL[T], levels=levels, vmin=vmin, vmax=vmax, cmap='RdPu')\n",
    "    ax_o.axis('equal');\n",
    "    ax_o.axis('off');\n",
    "    s = slice(0,None)\n",
    "    cs_sig = ax_s.contourf( X_aKL[0][s], X_aKL[1][s], J2_TKL[T][s], levels=levels, vmin=vmin, vmax=vmax, cmap='RdPu')\n",
    "    ax_s.axis('equal');\n",
    "    ax_s.axis('off');\n",
    "fig.subplots_adjust(right=0.92)\n",
    "cbar_ax = fig.add_axes([0.95, 0.1, 0.01, 0.8])\n",
    "fig.colorbar(cs_sig, cax=cbar_ax)\n",
    "\n",
    "fig.subplots_adjust(left=0.08)\n",
    "cbar_ax = fig.add_axes([0.05, 0.1, 0.01, 0.8])\n",
    "fig.colorbar(cs_comp, cax=cbar_ax)\n",
    "\n",
    "# fig.colorbar(cs_sig) # cm.ScalarMappable(norm=cs_sig.norm, cmap=cs_sig.cmap),\n",
    "# cbar_sig = fig.colorbar(cm.ScalarMappable(norm=cs_sig.norm, cmap=cs_sig.cmap),\n",
    "#                          ax=ax_s, #ticks=np.arange(0, max_fe_eps * 1.01, 0.005),\n",
    "#                          orientation='horizontal')    "
   ]
  },
  {
   "cell_type": "markdown",
   "id": "f5224623-e2e7-4b86-a429-d9fc46f04661",
   "metadata": {},
   "source": [
    "## Smoothing and interpolation of the damage field"
   ]
  },
  {
   "cell_type": "code",
   "execution_count": null,
   "id": "c25027d0-1ea8-4cdf-a526-dea481b69290",
   "metadata": {},
   "outputs": [],
   "source": [
    "from scipy.interpolate import RectBivariateSpline"
   ]
  },
  {
   "cell_type": "code",
   "execution_count": null,
   "id": "7bc5ba97-f3f2-48f8-a2df-e7c4b5d9318b",
   "metadata": {},
   "outputs": [],
   "source": [
    "x_K, y_L = X_aKL[0,:,0], X_aKL[1,0,:]"
   ]
  },
  {
   "cell_type": "code",
   "execution_count": null,
   "id": "0bc456c8-d824-48bb-ba88-d7c23be9ed80",
   "metadata": {},
   "outputs": [],
   "source": [
    "get_omega_xy = RectBivariateSpline(x_K, y_L, omega_TKL[-1])"
   ]
  },
  {
   "cell_type": "code",
   "execution_count": null,
   "id": "b9626e48-83af-4a47-b991-6bcb2f82a4d7",
   "metadata": {},
   "outputs": [],
   "source": [
    "omega_ipl_MN = get_omega_xy(x_K[:,None], y_L[None,:])"
   ]
  },
  {
   "cell_type": "code",
   "execution_count": null,
   "id": "d3bde3db-bc81-4acf-89a6-3f624aa59441",
   "metadata": {},
   "outputs": [],
   "source": [
    "np.max(omega_ipl_MN)"
   ]
  },
  {
   "cell_type": "code",
   "execution_count": null,
   "id": "27e7d61a-93e2-4cb3-9b83-4b43d0059906",
   "metadata": {},
   "outputs": [],
   "source": [
    "fig = plt.figure(figsize=(8,5))\n",
    "ax1, ax2 = fig.subplots(2,1)\n",
    "for ax, T in zip([ax1, ax2], [10, -1]):\n",
    "    get_omega_xy = RectBivariateSpline(x_K, y_L, omega_TKL[T], s=40)\n",
    "    omega_ipl_MN = get_omega_xy(x_K[:,None], y_L[None,:])\n",
    "    ax.contourf( X_aKL[0], X_aKL[1], omega_ipl_MN, cmap='BuPu',\n",
    "                levels=[0.0, 0.2, 0.4, 0.8, 0.9, 1.0], vmin=0, vmax=1)\n",
    "    ax.axis('equal');\n",
    "    ax.axis('off');"
   ]
  },
  {
   "cell_type": "code",
   "execution_count": null,
   "id": "0fffedea-5c76-4e0f-8b29-ba8623b8d2bb",
   "metadata": {},
   "outputs": [],
   "source": [
    "la_T = F_T / np.max(F_T)"
   ]
  },
  {
   "cell_type": "code",
   "execution_count": null,
   "id": "36b381d7-d366-477f-b614-194f21046e70",
   "metadata": {},
   "outputs": [],
   "source": [
    "x_I, y_J = X_aIJ[0,:,0], X_aIJ[1,0,:]\n",
    "X_TIJa = X_IJa[None,...] + U_TIJa\n",
    "get_omega_lxy = RGI((la_T, x_K, y_L), omega_TKL)\n",
    "get_Xa_lxy = RGI((la_T, x_I, y_J), X_TIJa) \n",
    "get_Ua_lxy = RGI((la_T, x_I, y_J), U_TIJa) "
   ]
  },
  {
   "cell_type": "code",
   "execution_count": null,
   "id": "2b1751be-b5ca-4a3f-8f88-b8f8d5765097",
   "metadata": {},
   "outputs": [],
   "source": [
    "get_Xa_lxy([1, 0.200, 100])"
   ]
  },
  {
   "cell_type": "code",
   "execution_count": null,
   "id": "4be33565-c8f0-48ae-aba2-1c6bb3a1d9c3",
   "metadata": {},
   "outputs": [],
   "source": []
  },
  {
   "cell_type": "code",
   "execution_count": null,
   "id": "aa0c1e6a-7a4f-4ae6-8fad-4fbb4fb5843d",
   "metadata": {},
   "outputs": [],
   "source": []
  }
 ],
 "metadata": {
  "kernelspec": {
   "display_name": "mayavi_env",
   "language": "python",
   "name": "mayavi_env"
  },
  "language_info": {
   "codemirror_mode": {
    "name": "ipython",
    "version": 3
   },
   "file_extension": ".py",
   "mimetype": "text/x-python",
   "name": "python",
   "nbconvert_exporter": "python",
   "pygments_lexer": "ipython3"
  }
 },
 "nbformat": 4,
 "nbformat_minor": 5
}
