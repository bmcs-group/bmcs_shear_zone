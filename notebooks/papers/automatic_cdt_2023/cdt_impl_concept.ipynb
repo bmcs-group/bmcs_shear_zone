{
 "cells": [
  {
   "cell_type": "markdown",
   "id": "3deca867-1bb5-4dc9-aa76-aa7cc81e3895",
   "metadata": {},
   "source": [
    "# Demonstration of the implementation concept of CDT"
   ]
  },
  {
   "cell_type": "code",
   "execution_count": null,
   "id": "15cf06f7-ce0f-466e-95f1-8a0c90cbcdeb",
   "metadata": {
    "pycharm": {
     "is_executing": true
    }
   },
   "outputs": [],
   "source": [
    "%matplotlib widget\n",
    "import numpy as np\n",
    "import matplotlib.pylab as plt\n",
    "import collections\n",
    "collections.Iterable = collections.abc.Iterable"
   ]
  },
  {
   "cell_type": "code",
   "execution_count": null,
   "id": "a6dde72a-471f-41f5-a4f8-c2a2fa69d925",
   "metadata": {},
   "outputs": [],
   "source": [
    "# from bmcs_shear.api import DICGridTri\n",
    "# dic_grid = DICGridTri(U_factor=100, dir_name='B10_TV1', t=1, padding=40, d_x=3, d_y=3, n_T=40)\n",
    "# dic_grid.read_beam_design()\n",
    "# np.savez_compressed('X_TPa', X_TPa=dic_grid.X_TQa[:,:,:-1])"
   ]
  },
  {
   "cell_type": "markdown",
   "id": "f7101d10-b080-4278-88ca-c90b88fa09e2",
   "metadata": {},
   "source": [
    "## Input format"
   ]
  },
  {
   "cell_type": "code",
   "execution_count": null,
   "id": "98ae4792-d8fa-4526-b3ba-4d1386e4df4c",
   "metadata": {},
   "outputs": [],
   "source": [
    "loaded = np.load('X_TPa.npz')\n",
    "X_TPa = loaded['X_TPa']"
   ]
  },
  {
   "cell_type": "code",
   "execution_count": null,
   "id": "a515d940-b236-49b0-8ce2-5044da9dea8e",
   "metadata": {},
   "outputs": [],
   "source": [
    "X_0Pa = X_TPa[0]\n",
    "U_TPa = X_TPa - X_0Pa[None,...]\n",
    "n_T = len(U_TPa)"
   ]
  },
  {
   "cell_type": "markdown",
   "id": "3a2675c6-9396-497f-a4c4-e244a82d3d44",
   "metadata": {},
   "source": [
    "## Grid definition"
   ]
  },
  {
   "cell_type": "code",
   "execution_count": null,
   "id": "25fa6d87-1494-4dbc-90cf-49ecfe0e7348",
   "metadata": {},
   "outputs": [],
   "source": [
    "pad_a = np.array([40, 40])\n",
    "X_min_a = np.array([np.min(X_0Pa[:,a]+pad_a[a]) for a in (0,1)]) # left&bottom\n",
    "X_max_a = np.array([np.max(X_0Pa[:,a]-pad_a[a]) for a in (0,1)]) # right&top"
   ]
  },
  {
   "cell_type": "code",
   "execution_count": null,
   "id": "5b2c605b-3c16-41d3-885e-cce406465991",
   "metadata": {},
   "outputs": [],
   "source": [
    "L_a = X_max_a - X_min_a # frame dimensions\n",
    "delta_a = 4 # 4 mm distances\n",
    "n_I, n_J = np.array( L_a / delta_a, dtype=np.int_ )\n",
    "delta_X_a = [L_a[0]/n_I, L_a[1]/n_J]\n",
    "n_a = 2\n",
    "n_I, n_J"
   ]
  },
  {
   "cell_type": "markdown",
   "id": "6d67ee42-ec39-4b7a-aa32-7a92baf25072",
   "metadata": {},
   "source": [
    "Given a column index $I = [0, n_I-1\\}$, row index $J = [0, n_J-1]$ and direction index $a = [0,1]$ \n",
    "the index expression\n",
    "$$\n",
    "\\mathcal{G}_{IJa} = (1-a)I + a J\n",
    "$$\n",
    "introduces a grid index map rendering the horizontal/column indexes of individual grid nodes for $a=0$ and vertical / row indexes for $a=1$."
   ]
  },
  {
   "cell_type": "markdown",
   "id": "05c0ac79-1e52-454a-81cb-1a658ae00acd",
   "metadata": {},
   "source": [
    "$$\n",
    " a = 0 \\rightarrow (\\zeta = 1, \\eta = 0)\n",
    "$$\n",
    "$$\n",
    " a = 1 \\rightarrow (\\zeta = 0, \\eta = 1)\n",
    "$$\n",
    "$$\n",
    "\\zeta = 1-a\n",
    "$$\n",
    "$$\n",
    "\\eta = a\n",
    "$$"
   ]
  },
  {
   "cell_type": "code",
   "execution_count": null,
   "id": "f78b3440-213f-4262-951d-64ac52fc27f5",
   "metadata": {},
   "outputs": [],
   "source": [
    "I,J,a = [np.arange(n) for n in (n_I,n_J,n_a)]\n",
    "G_aIJ = (np.einsum('a, I->aI', (1-a), I)[:,:, None] + \n",
    "         np.einsum('a, J->aJ', a, J)[:,None, :])"
   ]
  },
  {
   "cell_type": "markdown",
   "id": "33a72e7d-d4bb-45ee-9301-ef40ce1d2701",
   "metadata": {},
   "source": [
    "Given the step length \n",
    "$$\n",
    "\\Delta X_a = \\left[\\frac{L_x}{n_I}, \\frac{L_y}{n_J} \\right],\n",
    "$$\n",
    "the distance between grid points is\n",
    "The coordinates of all nodes are expressed as\n",
    "$$\n",
    "X_{aIJ} = \\Delta X_{a} \\, \\mathcal{G}_{aIJ}\n",
    "$$"
   ]
  },
  {
   "cell_type": "code",
   "execution_count": null,
   "id": "99fe0d45-8ab3-4710-a52f-f91bba0c17da",
   "metadata": {},
   "outputs": [],
   "source": [
    "X_aIJ = X_min_a[:,None,None] + np.einsum('aIJ,a->aIJ', G_aIJ, delta_X_a)\n",
    "X_IJa = np.einsum('aIJ->IJa', X_aIJ)"
   ]
  },
  {
   "cell_type": "code",
   "execution_count": null,
   "id": "4596b7f0-30d2-45ce-865a-131c16821488",
   "metadata": {},
   "outputs": [],
   "source": [
    "from scipy.spatial import Delaunay\n",
    "from scipy.interpolate import \\\n",
    "    LinearNDInterpolator as LNDI\n",
    "tri = Delaunay(X_0Pa)"
   ]
  },
  {
   "cell_type": "markdown",
   "id": "3866408d-fc07-4061-a9f8-c0ce587b8311",
   "metadata": {},
   "source": [
    "Use an interpolator over the Delaunay triangulation to obtain the values over a regular grid $X_{aIJ}$"
   ]
  },
  {
   "cell_type": "code",
   "execution_count": null,
   "id": "7ac0247f-a52c-4e93-bc55-bf523d6b0188",
   "metadata": {},
   "outputs": [],
   "source": [
    "U_TIJa = np.array([\n",
    "    LNDI(tri, U_TPa[T])(*X_aIJ) for T in range(n_T)\n",
    "])"
   ]
  },
  {
   "cell_type": "markdown",
   "id": "2559cb8c-8f0e-4605-95d5-890f42648fc1",
   "metadata": {},
   "source": [
    "The enumeration of nodes within a single element is defined for the $\\xi$ and $\\eta$ directions consistently with the enumeration of the $\\mathcal{G}_{aIJ}$ grid by setting \n",
    "$$\n",
    "{g}_{aij} = \\mathcal{G}_{a; I=i; J=i}, \\; i \\in (0,1) \\times (0,1)\n",
    "$$"
   ]
  },
  {
   "cell_type": "code",
   "execution_count": null,
   "id": "96ff2653-a5dd-46ba-8a0f-e70b54471bec",
   "metadata": {},
   "outputs": [],
   "source": [
    "g_aij = G_aIJ[:,:2,:2]"
   ]
  },
  {
   "cell_type": "markdown",
   "id": "ece5abef-bb91-415e-828a-25c486a44bee",
   "metadata": {},
   "source": [
    "By introducing the element indexes $E = [0, n_I-2]$ and $F = [0, n_J-2]$ in the \n",
    "horizontal and vertical direction, we can introduce the index map identifying\n",
    "the local element nodes enumerated counter clock-wise in each element of the grid as\n",
    "$$\n",
    "\\mathcal{H}_{aEiFj} = \\mathcal{G}_{aEF} + g_{aij}\n",
    "$$"
   ]
  },
  {
   "cell_type": "code",
   "execution_count": null,
   "id": "e0099d01-1f77-4145-854d-da70281a68f7",
   "metadata": {},
   "outputs": [],
   "source": [
    "G_aEF = G_aIJ[:,:-1,:-1]"
   ]
  },
  {
   "cell_type": "code",
   "execution_count": null,
   "id": "73aab138-a553-4656-91d7-db030c0d45b6",
   "metadata": {},
   "outputs": [],
   "source": [
    "H_aEiFj = G_aEF[:,:,None,:,None] + g_aij[:,None,:,None,:]"
   ]
  },
  {
   "cell_type": "markdown",
   "id": "beb7c5c9-48e2-4a79-8b4d-763b328fcf8c",
   "metadata": {},
   "source": [
    "$$\n",
    "  X_{EiFja} = X_{I=\\mathcal{H}_{0EiFj}, I=\\mathcal{H}_{1EiFj}}\n",
    "$$"
   ]
  },
  {
   "cell_type": "code",
   "execution_count": null,
   "id": "6d3d7c99-10fd-4c37-ab2f-7ab658e8f2d8",
   "metadata": {},
   "outputs": [],
   "source": [
    "X_EiFja = X_IJa[(*H_aEiFj,)]\n",
    "U_TEiFja = U_TIJa[(slice(None), *H_aEiFj)]"
   ]
  },
  {
   "cell_type": "markdown",
   "id": "a8158b8e-c27e-4ed2-a94e-3056f2fb5a45",
   "metadata": {},
   "source": [
    "## Nodal coordinates and quadrature points of an element"
   ]
  },
  {
   "cell_type": "code",
   "execution_count": null,
   "id": "c26f32e7-45a0-493b-9aac-ba62cd5e6215",
   "metadata": {},
   "outputs": [],
   "source": [
    "delta_rs = np.eye(2, dtype=np.int_)"
   ]
  },
  {
   "cell_type": "markdown",
   "id": "604c5c0c-ec75-44bb-812d-b2b2b27f51d5",
   "metadata": {},
   "source": [
    "$$\n",
    "\\xi_{rij} = 2 X_{a;E=0;i;F=0;j} - 1\n",
    "$$"
   ]
  },
  {
   "cell_type": "code",
   "execution_count": null,
   "id": "116e8225-15eb-4a0d-b706-a5554d2a620f",
   "metadata": {},
   "outputs": [],
   "source": [
    "xi_rij = (H_aEiFj[:,0,:,0,:] * 2) - 1"
   ]
  },
  {
   "cell_type": "markdown",
   "id": "51618fcf-2e60-4b30-9c2f-aca6da91c999",
   "metadata": {},
   "source": [
    "$$\n",
    " \\eta_{rmn} = \\frac{1}{\\sqrt{3}} \\xi_{r;i=m;j=n}, \\; m, n \\in (0,1) \\times (0,1)\n",
    "$$"
   ]
  },
  {
   "cell_type": "code",
   "execution_count": null,
   "id": "6babe2ff-66d2-4cde-8be4-d5d309161e44",
   "metadata": {},
   "outputs": [],
   "source": [
    "eta_rmn = 3**(-1/2) * xi_rij"
   ]
  },
  {
   "cell_type": "markdown",
   "id": "2f1797af-aabd-4151-b36e-a2ba31b1dc17",
   "metadata": {},
   "source": [
    "## Bilinear Lagrange shape functions"
   ]
  },
  {
   "cell_type": "markdown",
   "id": "83eee275-0cff-4d44-834a-21ddeecc5887",
   "metadata": {},
   "source": [
    "### Dimensional directions explicitly referenced in the product expression\n",
    "$$\n",
    "N_{ijmn} = \\frac{1}{4}(1 + \\eta_{r=0;mn} \\xi_{r=0;ij})\\,(1 + \\eta_{r=1;mn} \\xi_{r=1;ij})\n",
    "$$"
   ]
  },
  {
   "cell_type": "code",
   "execution_count": null,
   "id": "2df99cc3-cbe0-4133-8e93-f50b8f64cebc",
   "metadata": {},
   "outputs": [],
   "source": [
    "N1_ijmn = (\n",
    "    (1 + np.einsum('mn,ij->mnij', eta_rmn[0], xi_rij[0]))* \n",
    "    (1 + np.einsum('mn,ij->mnij', eta_rmn[1], xi_rij[1]))\n",
    ") / 4"
   ]
  },
  {
   "cell_type": "markdown",
   "id": "899bc386-6908-4d2e-a03f-024537797691",
   "metadata": {},
   "source": [
    "### Dimensional directions included in the index operator\n",
    "$$\n",
    "N_{ij}(\\eta_r) \n",
    "=\n",
    "\\frac{1}{4}(\n",
    "1 + \\eta_0 \\xi_{0ij} + \\eta_1 \\xi_{1ij} + \\eta_0 \\xi_{0ij} \\eta_1 \\xi_{1ij}\n",
    ")\n",
    "$$"
   ]
  },
  {
   "cell_type": "markdown",
   "id": "7edf03bc-48c1-47e4-be6a-7dd590d19a1c",
   "metadata": {},
   "source": [
    "$$\n",
    "N_{ijmn}\n",
    "=\n",
    "\\frac{1}{4}\\left(\n",
    "1 + \\eta_{rmn} \\xi_{rij} + \\frac{1}{2}(1 - \\delta_{rs}) \\eta_{smn} \\xi_{sij} \\eta_{rmn} \\xi_{rij}\n",
    "\\right)\n",
    "$$"
   ]
  },
  {
   "cell_type": "code",
   "execution_count": null,
   "id": "154a7acb-1331-4e4c-b131-dce799b92eed",
   "metadata": {},
   "outputs": [],
   "source": [
    "N_ijmn = (1 + \n",
    "  np.einsum('rmn,rij->ijmn', eta_rmn, xi_rij) +\n",
    "  np.einsum('rs,smn,sij,rmn,rij->ijmn', (1-delta_rs), eta_rmn, xi_rij, eta_rmn, xi_rij) / 2\n",
    ")/4\n",
    "np.sum(N_ijmn - N1_ijmn)"
   ]
  },
  {
   "cell_type": "markdown",
   "id": "575d23dc-3b51-40a1-b03a-f550757c9eab",
   "metadata": {},
   "source": [
    "### Derivatives of the shape functions w.r.t. parametric coordinates"
   ]
  },
  {
   "cell_type": "markdown",
   "id": "7c24432d-9e1a-47c1-8a77-5d3172c9b531",
   "metadata": {},
   "source": [
    "$$\n",
    "\\frac{\\partial N_{ij} }{\\partial \\eta_0}\n",
    "= \n",
    "\\frac{1}{4}( \\xi_{0ij} + \\eta_1 \\xi_{1ij} ), \\;\\;\n",
    "\\frac{\\partial N_{ij} }{\\partial \\eta_1}\n",
    "= \n",
    "\\frac{1}{4}( \\xi_{1ij} + \\eta_0 \\xi_{0ij} )\n",
    "$$"
   ]
  },
  {
   "cell_type": "markdown",
   "id": "b558a018-931e-4183-95bb-55d9e8dbb47b",
   "metadata": {},
   "source": [
    "$$\n",
    "N_{ij,s}(\\eta_r)\n",
    "= \n",
    "\\frac{1}{4}( \\xi_{sij} +\n",
    "(1-\\delta_{rs}) \\xi_{sij} \\eta_{r} \\xi_{rij}\n",
    ")\n",
    "$$"
   ]
  },
  {
   "cell_type": "markdown",
   "id": "ae8d3726-054f-46da-9de8-81c6841b4f18",
   "metadata": {},
   "source": [
    "$$\n",
    "N_{ijmn,s}\n",
    "= \n",
    "\\frac{1}{4}\n",
    "\\left[ \\xi_{sij} +\n",
    "(1-\\delta_{rs}) \\, \\xi_{sij} \\eta_{rmn} \\xi_{rij}\n",
    "\\right]\n",
    "$$"
   ]
  },
  {
   "cell_type": "code",
   "execution_count": null,
   "id": "4ddc3cd8-2191-4bb2-909b-fc06b54154ae",
   "metadata": {},
   "outputs": [],
   "source": [
    "dN_sijmn = (\n",
    "    xi_rij[:,:,:,None,None] + \n",
    "    np.einsum('rs,sij,rmn,rij->sijmn', (1 - delta_rs), xi_rij, eta_rmn, xi_rij)\n",
    ") / 4"
   ]
  },
  {
   "cell_type": "markdown",
   "id": "c6fa1b03-7fe0-4247-9a56-f599abd9b399",
   "metadata": {},
   "source": [
    "## Kinematic operator"
   ]
  },
  {
   "cell_type": "markdown",
   "id": "cdafbedb-550c-4e1f-bb7b-afbcc3e7ee02",
   "metadata": {},
   "source": [
    "$$\n",
    "J_{EmFnas} = N_{ijmn,s} X_{EiFja}\n",
    "$$"
   ]
  },
  {
   "cell_type": "code",
   "execution_count": null,
   "id": "93b8004d-13a3-4055-b0b9-2060f81c91ba",
   "metadata": {},
   "outputs": [],
   "source": [
    "J_EmFnas = np.einsum(\n",
    " 'sijmn,EiFja->EmFnas',\n",
    " dN_sijmn, X_EiFja\n",
    ")"
   ]
  },
  {
   "cell_type": "code",
   "execution_count": null,
   "id": "7074f2d7-341c-48d9-b0ba-6a213c1610c8",
   "metadata": {},
   "outputs": [],
   "source": [
    "inv_J_EmFnsa = np.linalg.inv(J_EmFnas)"
   ]
  },
  {
   "cell_type": "code",
   "execution_count": null,
   "id": "9af2835b-7d00-47fb-8167-0076ee8711ef",
   "metadata": {},
   "outputs": [],
   "source": [
    "delta_ab = np.eye(2)\n",
    "Diff1_abcd = 0.5 * (\n",
    "    np.einsum('ac,bd->abcd', delta_ab, delta_ab) +\n",
    "    np.einsum('ad,bc->abcd', delta_ab, delta_ab)\n",
    ")"
   ]
  },
  {
   "cell_type": "markdown",
   "id": "de224c0d-2bb5-4f41-919a-931232046145",
   "metadata": {},
   "source": [
    "$$\n",
    "B_{EiFjmnabc} = D_{abcd} N_{ijmn,s} J^{-1}_{EmFnsd}\n",
    "$$"
   ]
  },
  {
   "cell_type": "code",
   "execution_count": null,
   "id": "c826df9c-64d1-4102-b0a8-0b0527bfe06c",
   "metadata": {},
   "outputs": [],
   "source": [
    "B_EiFjmnabc = np.einsum(\n",
    "    'abcd,sijmn,EmFnsd->EiFjmnabc',\n",
    "    Diff1_abcd, dN_sijmn, inv_J_EmFnsa\n",
    ")"
   ]
  },
  {
   "cell_type": "markdown",
   "id": "f5e3229e-ea7d-44e7-8be3-03c8f88f2888",
   "metadata": {},
   "source": [
    "$$\n",
    "\\varepsilon_{EmFnab} = B_{EiFjmnabc} U_{EiFjc}\n",
    "$$"
   ]
  },
  {
   "cell_type": "code",
   "execution_count": null,
   "id": "d06e4baa-6495-4e00-aed0-3c2a20286616",
   "metadata": {},
   "outputs": [],
   "source": [
    "eps_TEmFnab = np.einsum(\n",
    "    'EiFjmnabc,TEiFjc->TEmFnab',\n",
    "    B_EiFjmnabc, U_TEiFja\n",
    ")"
   ]
  },
  {
   "cell_type": "markdown",
   "id": "7807664a-8ac1-40c6-9a30-c048f9b95cf6",
   "metadata": {},
   "source": [
    "## Scalar damage model"
   ]
  },
  {
   "cell_type": "markdown",
   "id": "58e634f8-6b5e-46f4-a619-98d12b42dda0",
   "metadata": {},
   "source": [
    "### Equivalent strain"
   ]
  },
  {
   "cell_type": "code",
   "execution_count": null,
   "id": "d4f5ee4b-f284-49fd-97fe-e4a5def4131f",
   "metadata": {},
   "outputs": [],
   "source": [
    "eps_TEmFna, _ = np.linalg.eig(eps_TEmFnab)\n",
    "kappa_TEmFn = np.max(eps_TEmFna, axis=-1)"
   ]
  },
  {
   "cell_type": "markdown",
   "id": "df183847-4a84-4d4c-9e60-1998696a9b78",
   "metadata": {},
   "source": [
    "### Scalar damage model"
   ]
  },
  {
   "cell_type": "code",
   "execution_count": null,
   "id": "97cdad6f-00cb-47db-87c7-961646fef2b8",
   "metadata": {},
   "outputs": [],
   "source": [
    "eps_0=1e-3\n",
    "eps_f=0.01\n",
    "I = np.where(kappa_TEmFn>=eps_0)\n",
    "omega_TEmFn = np.zeros_like(kappa_TEmFn)\n",
    "omega_TEmFn[I] = 1.0-(eps_0/kappa_TEmFn[I]*np.exp(\n",
    "    -(kappa_TEmFn[I]-eps_0)/(eps_f-eps_0)))"
   ]
  },
  {
   "cell_type": "markdown",
   "id": "fed40901-6597-4d8b-8a9a-ee679e515dee",
   "metadata": {},
   "source": [
    "### Constitutive law"
   ]
  },
  {
   "cell_type": "code",
   "execution_count": null,
   "id": "2d155efd-b771-4256-97fc-20b095123468",
   "metadata": {},
   "outputs": [],
   "source": [
    "E_ = 28000\n",
    "nu_ = 0.18\n",
    "la = E_*nu_/((1+ nu_)*(1-2*nu_))\n",
    "mu = E_/(2+2*nu_)\n",
    "delta = np.eye(2)\n",
    "D_abef = (\n",
    " np.einsum(',ij,kl->ijkl',la,delta,delta)+\n",
    " np.einsum(',ik,jl->ijkl',mu,delta,delta)+\n",
    " np.einsum(',il,jk->ijkl',mu,delta,delta))\n",
    "sig_TEmFnab = np.einsum('...,abef,...ef -> ...ab', \n",
    " omega_TEmFn, D_abef, eps_TEmFnab)"
   ]
  },
  {
   "cell_type": "markdown",
   "id": "33e4df37-d92a-4a4f-836f-c01fe47381d3",
   "metadata": {},
   "source": [
    "## Plot localized damage field"
   ]
  },
  {
   "cell_type": "code",
   "execution_count": null,
   "id": "445552a9-63c6-461c-85d1-2440c41c67a7",
   "metadata": {},
   "outputs": [],
   "source": [
    "X_aEmFn = np.einsum('ijmn,EiFja->aEmFn', N_ijmn, X_EiFja)\n",
    "X_aKL = X_aEmFn.reshape(-1,(n_I-1)*2, (n_J-1)*2)"
   ]
  },
  {
   "cell_type": "code",
   "execution_count": null,
   "id": "09aa480a-e7b0-43d6-95ed-8f4e39903b98",
   "metadata": {},
   "outputs": [],
   "source": [
    "omega_TKL = omega_TEmFn.reshape(-1,(n_I-1)*2, (n_J-1)*2)"
   ]
  },
  {
   "cell_type": "code",
   "execution_count": null,
   "id": "121df7e9-02a6-4d47-978c-0f97f824fc07",
   "metadata": {},
   "outputs": [],
   "source": [
    "fig = plt.figure(figsize=(8,5))\n",
    "ax1, ax2 = fig.subplots(2,1)\n",
    "for ax, T in zip([ax1, ax2], [10, 30]):\n",
    "    ax.contourf(X_aKL[0], X_aKL[1], omega_TKL[T], cmap='BuPu',\n",
    "                levels=[0.0, 0.2, 0.4, 0.8, 0.9, 1.0], vmin=0, vmax=1)\n",
    "    ax.axis('equal');\n",
    "    ax.axis('off');"
   ]
  }
 ],
 "metadata": {
  "kernelspec": {
   "display_name": "bmcs_env",
   "language": "python",
   "name": "bmcs_env"
  },
  "language_info": {
   "codemirror_mode": {
    "name": "ipython",
    "version": 3
   },
   "file_extension": ".py",
   "mimetype": "text/x-python",
   "name": "python",
   "nbconvert_exporter": "python",
   "pygments_lexer": "ipython3"
  }
 },
 "nbformat": 4,
 "nbformat_minor": 5
}
