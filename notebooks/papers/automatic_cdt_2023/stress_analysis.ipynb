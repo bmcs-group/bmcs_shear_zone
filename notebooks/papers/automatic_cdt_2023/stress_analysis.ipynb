{
 "cells": [
  {
   "cell_type": "markdown",
   "id": "59ad450a-474e-4aab-b942-dfeaa1eb042d",
   "metadata": {},
   "source": [
    "# Stress analysis of a shear zone using MDM\n",
    "\n",
    "Conclusion - the MDM model does not provide the sufficient flexibility to cover both the stress analysis in the elastic regime and the softening branch used to detect the localized cracks. It is not able to show the smooth response."
   ]
  },
  {
   "cell_type": "code",
   "execution_count": null,
   "id": "e9681998-6166-44b0-bc8e-b2fe3841c957",
   "metadata": {},
   "outputs": [],
   "source": [
    "%matplotlib widget\n",
    "import ibvpy.api as ib\n",
    "import matplotlib.pylab as plt\n",
    "from matplotlib import cm\n",
    "from bmcs_shear.dic_crack import\\\n",
    "    DICGrid, DICStateFields, DICCrackList, \\\n",
    "    DICAlignedGrid\n",
    "from bmcs_shear.api import DICGridTri\n",
    "import numpy as np\n",
    "np.seterr(divide ='ignore', invalid='ignore');\n",
    "# import collections\n",
    "# collections.Iterable = collections.abc.Iterable"
   ]
  },
  {
   "cell_type": "code",
   "execution_count": null,
   "id": "62b93560-4bfc-44be-b540-26a132f56a62",
   "metadata": {},
   "outputs": [],
   "source": [
    "test = 'B9_TV2'\n",
    "dic_grid = DICGridTri(U_factor=100, dir_name=test, t=1, padding=40, d_x=3, d_y=3,\n",
    "                     T_stepping='delta_T', n_T_max = 40)\n",
    "dic_grid.read_beam_design()\n",
    "dic_grid.trait_set(d_x=5, d_y=5);"
   ]
  },
  {
   "cell_type": "markdown",
   "id": "b88292e0-3fc1-4ed0-9716-549efdf5e541",
   "metadata": {},
   "source": [
    "The grid size with $d_x = 5$ mm and \n",
    "The $E$ modulus is set very low to attain the crack level in the range of"
   ]
  },
  {
   "cell_type": "code",
   "execution_count": null,
   "id": "5e6ab2c8-f0e9-458d-87e3-c020ca839816",
   "metadata": {},
   "outputs": [],
   "source": [
    "dsf = DICStateFields(dic_grid=dic_grid, R=10, omega_threshold=0.2, verbose_eval=True)\n",
    "dsf.tmodel_.trait_set(E=1400, c_T=0.006, nu=0.18, epsilon_0=0.0018,\n",
    "                      epsilon_f=0.002, eps_max=0.01);"
   ]
  },
  {
   "cell_type": "code",
   "execution_count": null,
   "id": "50360508-8bc0-4ee8-a8ed-a013778fa21b",
   "metadata": {},
   "outputs": [],
   "source": [
    "dsf.tmodel_.interact()"
   ]
  },
  {
   "cell_type": "code",
   "execution_count": null,
   "id": "82bd3566-b31d-41ee-ab4f-b814f63b702a",
   "metadata": {},
   "outputs": [],
   "source": [
    "dsf.eval()"
   ]
  },
  {
   "cell_type": "code",
   "execution_count": null,
   "id": "60f54c54-6ed4-4df3-9a7b-f42f47847120",
   "metadata": {},
   "outputs": [],
   "source": [
    "delta_ab = np.eye(2)\n",
    "sig_TEmab = np.array(dsf.sig_TEmab)\n",
    "I1_TEm = np.einsum('aa,...aa->...', delta_ab, sig_TEmab)\n",
    "s_TEmab = sig_TEmab - np.einsum('ab,...->...ab', delta_ab, I1_TEm) \n",
    "J2_TEm = 0.5*np.einsum('...ab,...ba->...', s_TEmab, s_TEmab)"
   ]
  },
  {
   "cell_type": "code",
   "execution_count": null,
   "id": "8dd3e6d6-8e6f-4556-ad2b-dda909d696f4",
   "metadata": {},
   "outputs": [],
   "source": [
    "x_KL, y_KL = np.einsum('KLa->aKL', dsf.X_fe_KLa)"
   ]
  },
  {
   "cell_type": "markdown",
   "id": "9f2ca43d-bd69-4046-ac7c-1216df582124",
   "metadata": {},
   "source": [
    "The resulting compression stress is very small because of a low value of $E$ modulus. "
   ]
  },
  {
   "cell_type": "code",
   "execution_count": null,
   "id": "9c71bff0-28e6-4c6b-bdbd-0f9368745492",
   "metadata": {},
   "outputs": [],
   "source": [
    "%matplotlib widget\n",
    "from matplotlib import cm\n",
    "fig = plt.figure(figsize=(11,3))\n",
    "ax_rows = fig.subplots(3,3)\n",
    "for (ax_comp, ax_o, ax_s), T in zip(ax_rows, [1, 10, -1]):\n",
    "    I1_Em = np.copy(I1_TEm[T])\n",
    "    I1_KL = dsf.transform_mesh_to_grid(I1_Em)\n",
    "    I1_KL[I1_KL > 0] = 0\n",
    "    vmin, vmax= -10, -0.1\n",
    "    levels = np.linspace(vmin, vmax, 4)\n",
    "    cs_comp = ax_comp.contourf( x_KL, y_KL, I1_KL, levels=levels, vmin=vmin, vmax=vmax, cmap='RdPu_r')\n",
    "    ax_comp.axis('equal');\n",
    "    ax_comp.axis('off');\n",
    "    I1_KL = dsf.transform_mesh_to_grid(I1_Em)\n",
    "    vmin, vmax = 1, 6\n",
    "    levels = np.linspace(vmin, vmax, 6)\n",
    "    ax_o.contourf( x_KL, y_KL, I1_KL, levels=levels, vmin=vmin, vmax=vmax, cmap='RdPu')\n",
    "    ax_o.axis('equal');\n",
    "    ax_o.axis('off');\n",
    "    J2_Em = np.copy(J2_TEm[T])\n",
    "    J2_KL = dsf.transform_mesh_to_grid(J2_Em)\n",
    "    s = slice(0,None)\n",
    "    cs_sig = ax_s.contourf( x_KL, y_KL, J2_KL, levels=levels, vmin=vmin, vmax=vmax, cmap='RdPu')\n",
    "    ax_s.axis('equal');\n",
    "    ax_s.axis('off');\n",
    "fig.subplots_adjust(right=0.92)\n",
    "cbar_ax = fig.add_axes([0.95, 0.1, 0.01, 0.8])\n",
    "fig.colorbar(cs_sig, cax=cbar_ax)\n",
    "\n",
    "fig.subplots_adjust(left=0.08)\n",
    "cbar_ax = fig.add_axes([0.05, 0.1, 0.01, 0.8])\n",
    "fig.colorbar(cs_comp, cax=cbar_ax)\n",
    "\n",
    "# fig.colorbar(cs_sig) # cm.ScalarMappable(norm=cs_sig.norm, cmap=cs_sig.cmap),\n",
    "# cbar_sig = fig.colorbar(cm.ScalarMappable(norm=cs_sig.norm, cmap=cs_sig.cmap),\n",
    "#                          ax=ax_s, #ticks=np.arange(0, max_fe_eps * 1.01, 0.005),\n",
    "#                          orientation='horizontal')    "
   ]
  },
  {
   "cell_type": "code",
   "execution_count": null,
   "id": "b286d5fd-d4d7-4ba2-9325-794da8f24494",
   "metadata": {},
   "outputs": [],
   "source": []
  },
  {
   "cell_type": "code",
   "execution_count": null,
   "id": "c4b2a2b3-196a-41ce-89e6-e2556aa5497e",
   "metadata": {},
   "outputs": [],
   "source": []
  }
 ],
 "metadata": {
  "kernelspec": {
   "display_name": "bmcs_env2",
   "language": "python",
   "name": "bmcs_env2"
  },
  "language_info": {
   "codemirror_mode": {
    "name": "ipython",
    "version": 3
   },
   "file_extension": ".py",
   "mimetype": "text/x-python",
   "name": "python",
   "nbconvert_exporter": "python",
   "pygments_lexer": "ipython3"
  }
 },
 "nbformat": 4,
 "nbformat_minor": 5
}
