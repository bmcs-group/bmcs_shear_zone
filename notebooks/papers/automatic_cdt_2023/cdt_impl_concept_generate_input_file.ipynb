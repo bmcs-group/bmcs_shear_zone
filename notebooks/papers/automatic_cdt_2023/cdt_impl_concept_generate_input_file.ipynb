{
 "cells": [
  {
   "cell_type": "markdown",
   "id": "870ca5b1-1589-4e1b-9864-996bf51bf2d7",
   "metadata": {},
   "source": [
    "# Generate input file for the demostration notebook\n",
    "\n",
    "This notebeook supports the interactive notebook by providing the \n",
    "compressed data of a selected a test on shear zones."
   ]
  },
  {
   "cell_type": "code",
   "execution_count": null,
   "id": "fb8d154b-c907-49ac-952e-ac9e196f372c",
   "metadata": {},
   "outputs": [],
   "source": [
    "import numpy as np\n",
    "from bmcs_shear.api import DICGridTri\n",
    "test = 'B9_TV2'\n",
    "dic_grid = DICGridTri(U_factor=100, dir_name=test, t=1, padding=40, \n",
    "                      d_x=3, d_y=3, n_T_max=40, T_stepping='delta_T')\n",
    "dic_grid.read_beam_design()\n",
    "time_T, F_T = dic_grid.time_F_T\n",
    "w_T = dic_grid.w_T\n",
    "np.savez_compressed(test, X_TPa=dic_grid.X_TQa[:,:,:-1], F_T=F_T, w_T=w_T)"
   ]
  },
  {
   "cell_type": "code",
   "execution_count": null,
   "id": "defa6bbf-b2a2-41fe-ad0e-226609e50ca3",
   "metadata": {},
   "outputs": [],
   "source": []
  }
 ],
 "metadata": {
  "kernelspec": {
   "display_name": "bmcs_env2",
   "language": "python",
   "name": "bmcs_env2"
  },
  "language_info": {
   "codemirror_mode": {
    "name": "ipython",
    "version": 3
   },
   "file_extension": ".py",
   "mimetype": "text/x-python",
   "name": "python",
   "nbconvert_exporter": "python",
   "pygments_lexer": "ipython3"
  }
 },
 "nbformat": 4,
 "nbformat_minor": 5
}
