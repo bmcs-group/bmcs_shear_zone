{
 "cells": [
  {
   "cell_type": "code",
   "execution_count": 1,
   "metadata": {},
   "outputs": [],
   "source": [
    "import sympy as sp\n",
    "import numpy as np"
   ]
  },
  {
   "cell_type": "code",
   "execution_count": 6,
   "metadata": {},
   "outputs": [],
   "source": [
    "f_ct = sp.Symbol(r'f_{ct}', nonnegative = True)\n",
    "c_t = sp.Symbol(r'c_t', nonnegative = True)\n",
    "s_t = sp.Symbol(r's_t', nonnegative = True)\n",
    "sigma_x = sp.Symbol(r'\\sigma_x', nonnegative = True)\n",
    "tau_xy = sp.Symbol(r'\\tau_{xy}', nonnegative = True)\n",
    "x = sp.Symbol(r'x', nonnegative = True)"
   ]
  },
  {
   "cell_type": "code",
   "execution_count": 7,
   "metadata": {},
   "outputs": [
    {
     "data": {
      "text/latex": [
       "$\\displaystyle \\left[\\begin{matrix}\\sigma_x & \\tau_{xy}\\\\\\tau_{xy} & 0\\end{matrix}\\right]$"
      ],
      "text/plain": [
       "Matrix([\n",
       "[ \\sigma_x, \\tau_{xy}],\n",
       "[\\tau_{xy},         0]])"
      ]
     },
     "execution_count": 7,
     "metadata": {},
     "output_type": "execute_result"
    }
   ],
   "source": [
    "sigma_tip = sp.Matrix([[sigma_x, tau_xy],\n",
    "                       [tau_xy, 0]])\n",
    "sigma_tip"
   ]
  },
  {
   "cell_type": "code",
   "execution_count": 9,
   "metadata": {},
   "outputs": [
    {
     "data": {
      "text/latex": [
       "$\\displaystyle \\left[\\begin{matrix}c_{t} & - s_{t}\\\\s_{t} & c_{t}\\end{matrix}\\right]$"
      ],
      "text/plain": [
       "Matrix([\n",
       "[c_t, -s_t],\n",
       "[s_t,  c_t]])"
      ]
     },
     "execution_count": 9,
     "metadata": {},
     "output_type": "execute_result"
    }
   ],
   "source": [
    "R_theta = sp.Matrix([[c_t, -s_t],\n",
    "                       [s_t, c_t]])\n",
    "R_theta"
   ]
  },
  {
   "cell_type": "code",
   "execution_count": 10,
   "metadata": {},
   "outputs": [
    {
     "data": {
      "text/latex": [
       "$\\displaystyle \\left[\\begin{matrix}f_{ct} & 0\\\\0 & x\\end{matrix}\\right]$"
      ],
      "text/plain": [
       "Matrix([\n",
       "[f_{ct}, 0],\n",
       "[     0, x]])"
      ]
     },
     "execution_count": 10,
     "metadata": {},
     "output_type": "execute_result"
    }
   ],
   "source": [
    "sigma_rot = sp.Matrix([[f_ct, 0],\n",
    "                       [0, x]])\n",
    "sigma_rot"
   ]
  },
  {
   "cell_type": "code",
   "execution_count": 11,
   "metadata": {},
   "outputs": [
    {
     "data": {
      "text/latex": [
       "$\\displaystyle \\left[\\begin{matrix}\\tau_{xy} c_{t} s_{t} + c_{t} \\left(\\sigma_x c_{t} + \\tau_{xy} s_{t}\\right) & \\tau_{xy} c_{t}^{2} - s_{t} \\left(\\sigma_x c_{t} + \\tau_{xy} s_{t}\\right)\\\\- \\tau_{xy} s_{t}^{2} + c_{t} \\left(- \\sigma_x s_{t} + \\tau_{xy} c_{t}\\right) & - \\tau_{xy} c_{t} s_{t} - s_{t} \\left(- \\sigma_x s_{t} + \\tau_{xy} c_{t}\\right)\\end{matrix}\\right]$"
      ],
      "text/plain": [
       "Matrix([\n",
       "[ \\tau_{xy}*c_t*s_t + c_t*(\\sigma_x*c_t + \\tau_{xy}*s_t),    \\tau_{xy}*c_t**2 - s_t*(\\sigma_x*c_t + \\tau_{xy}*s_t)],\n",
       "[-\\tau_{xy}*s_t**2 + c_t*(-\\sigma_x*s_t + \\tau_{xy}*c_t), -\\tau_{xy}*c_t*s_t - s_t*(-\\sigma_x*s_t + \\tau_{xy}*c_t)]])"
      ]
     },
     "execution_count": 11,
     "metadata": {},
     "output_type": "execute_result"
    }
   ],
   "source": [
    "sigma_rot_ = R_theta.T * sigma_tip * R_theta\n",
    "sigma_rot_"
   ]
  },
  {
   "cell_type": "code",
   "execution_count": 12,
   "metadata": {},
   "outputs": [
    {
     "data": {
      "text/latex": [
       "$\\displaystyle \\left[\\begin{matrix}\\tau_{xy} c_{t} s_{t} + c_{t} \\left(\\sigma_x c_{t} + \\tau_{xy} s_{t}\\right) & \\tau_{xy} c_{t}^{2} - s_{t} \\left(\\sigma_x c_{t} + \\tau_{xy} s_{t}\\right)\\\\- \\tau_{xy} s_{t}^{2} + c_{t} \\left(- \\sigma_x s_{t} + \\tau_{xy} c_{t}\\right) & - \\tau_{xy} c_{t} s_{t} - s_{t} \\left(- \\sigma_x s_{t} + \\tau_{xy} c_{t}\\right)\\end{matrix}\\right] = \\left[\\begin{matrix}f_{ct} & 0\\\\0 & x\\end{matrix}\\right]$"
      ],
      "text/plain": [
       "Eq(Matrix([\n",
       "[ \\tau_{xy}*c_t*s_t + c_t*(\\sigma_x*c_t + \\tau_{xy}*s_t),    \\tau_{xy}*c_t**2 - s_t*(\\sigma_x*c_t + \\tau_{xy}*s_t)],\n",
       "[-\\tau_{xy}*s_t**2 + c_t*(-\\sigma_x*s_t + \\tau_{xy}*c_t), -\\tau_{xy}*c_t*s_t - s_t*(-\\sigma_x*s_t + \\tau_{xy}*c_t)]]), Matrix([\n",
       "[f_{ct}, 0],\n",
       "[     0, x]]))"
      ]
     },
     "execution_count": 12,
     "metadata": {},
     "output_type": "execute_result"
    }
   ],
   "source": [
    "sp.Eq(sigma_rot_, sigma_rot)"
   ]
  },
  {
   "cell_type": "code",
   "execution_count": 15,
   "metadata": {},
   "outputs": [
    {
     "data": {
      "text/latex": [
       "$\\displaystyle \\frac{- 2 \\tau_{xy} c_{t} s_{t} + f_{ct}}{c_{t}^{2}}$"
      ],
      "text/plain": [
       "(-2*\\tau_{xy}*c_t*s_t + f_{ct})/c_t**2"
      ]
     },
     "execution_count": 15,
     "metadata": {},
     "output_type": "execute_result"
    }
   ],
   "source": [
    "sigma_x_val = sp.solve(sp.Eq(sigma_rot_[0,0], sigma_rot[0,0]), sigma_x)\n",
    "sigma_x_val[0]"
   ]
  },
  {
   "cell_type": "code",
   "execution_count": 18,
   "metadata": {},
   "outputs": [
    {
     "data": {
      "text/latex": [
       "$\\displaystyle - \\frac{s_{t} \\left(2 \\tau_{xy} c_{t}^{3} + s_{t} \\left(2 \\tau_{xy} c_{t} s_{t} - f_{ct}\\right)\\right)}{c_{t}^{2}}$"
      ],
      "text/plain": [
       "-s_t*(2*\\tau_{xy}*c_t**3 + s_t*(2*\\tau_{xy}*c_t*s_t - f_{ct}))/c_t**2"
      ]
     },
     "execution_count": 18,
     "metadata": {},
     "output_type": "execute_result"
    }
   ],
   "source": [
    "sigma_rot_y = sp.simplify(sigma_rot_[1,1].subs(sigma_x, sigma_x_val[0]))\n",
    "sigma_rot_y"
   ]
  },
  {
   "cell_type": "code",
   "execution_count": 21,
   "metadata": {},
   "outputs": [
    {
     "data": {
      "text/latex": [
       "$\\displaystyle \\frac{s_{t} \\left(- 2 \\tau_{xy} c_{t}^{3} - 2 \\tau_{xy} c_{t} s_{t}^{2} + f_{ct} s_{t}\\right)}{c_{t}^{2}}$"
      ],
      "text/plain": [
       "s_t*(-2*\\tau_{xy}*c_t**3 - 2*\\tau_{xy}*c_t*s_t**2 + f_{ct}*s_t)/c_t**2"
      ]
     },
     "execution_count": 21,
     "metadata": {},
     "output_type": "execute_result"
    }
   ],
   "source": [
    "x_val = sp.solve(sp.Eq(sigma_rot_y,sigma_rot[1,1]), x)\n",
    "x_val[0]"
   ]
  },
  {
   "cell_type": "code",
   "execution_count": 23,
   "metadata": {},
   "outputs": [
    {
     "data": {
      "text/latex": [
       "$\\displaystyle \\left[\\begin{matrix}\\frac{- 2 \\tau_{xy} c_{t} s_{t} + f_{ct}}{c_{t}^{2}} & \\tau_{xy}\\\\\\tau_{xy} & 0\\end{matrix}\\right]$"
      ],
      "text/plain": [
       "Matrix([\n",
       "[(-2*\\tau_{xy}*c_t*s_t + f_{ct})/c_t**2, \\tau_{xy}],\n",
       "[                             \\tau_{xy},         0]])"
      ]
     },
     "execution_count": 23,
     "metadata": {},
     "output_type": "execute_result"
    }
   ],
   "source": [
    "sigma_tip_ = sp.Matrix([[sigma_x_val[0], tau_xy],\n",
    "                       [tau_xy, 0]])\n",
    "sigma_tip_"
   ]
  },
  {
   "cell_type": "code",
   "execution_count": 24,
   "metadata": {},
   "outputs": [
    {
     "data": {
      "text/latex": [
       "$\\displaystyle \\left[\\begin{matrix}f_{ct} & \\frac{\\tau_{xy} c_{t}^{3} - s_{t} \\left(- \\tau_{xy} c_{t} s_{t} + f_{ct}\\right)}{c_{t}}\\\\\\tau_{xy} c_{t}^{2} + \\tau_{xy} s_{t}^{2} - \\frac{f_{ct} s_{t}}{c_{t}} & - \\frac{s_{t} \\left(2 \\tau_{xy} c_{t}^{3} + s_{t} \\left(2 \\tau_{xy} c_{t} s_{t} - f_{ct}\\right)\\right)}{c_{t}^{2}}\\end{matrix}\\right]$"
      ],
      "text/plain": [
       "Matrix([\n",
       "[                                              f_{ct},            (\\tau_{xy}*c_t**3 - s_t*(-\\tau_{xy}*c_t*s_t + f_{ct}))/c_t],\n",
       "[\\tau_{xy}*c_t**2 + \\tau_{xy}*s_t**2 - f_{ct}*s_t/c_t, -s_t*(2*\\tau_{xy}*c_t**3 + s_t*(2*\\tau_{xy}*c_t*s_t - f_{ct}))/c_t**2]])"
      ]
     },
     "execution_count": 24,
     "metadata": {},
     "output_type": "execute_result"
    }
   ],
   "source": [
    "sigma_rot_check = R_theta.T * sigma_tip_ * R_theta\n",
    "sp.simplify(sigma_rot_check)"
   ]
  },
  {
   "cell_type": "markdown",
   "metadata": {},
   "source": [
    "<img src=\"fig/westergaard_functions.png\" width=\"1000\"/>"
   ]
  },
  {
   "cell_type": "code",
   "execution_count": null,
   "metadata": {},
   "outputs": [],
   "source": []
  }
 ],
 "metadata": {
  "kernelspec": {
   "display_name": "Python 3",
   "language": "python",
   "name": "python3"
  },
  "language_info": {
   "codemirror_mode": {
    "name": "ipython",
    "version": 3
   },
   "file_extension": ".py",
   "mimetype": "text/x-python",
   "name": "python",
   "nbconvert_exporter": "python",
   "pygments_lexer": "ipython3",
   "version": "3.7.6"
  },
  "toc": {
   "base_numbering": 1,
   "nav_menu": {},
   "number_sections": true,
   "sideBar": true,
   "skip_h1_title": false,
   "title_cell": "Table of Contents",
   "title_sidebar": "Contents",
   "toc_cell": false,
   "toc_position": {},
   "toc_section_display": true,
   "toc_window_display": false
  }
 },
 "nbformat": 4,
 "nbformat_minor": 4
}
