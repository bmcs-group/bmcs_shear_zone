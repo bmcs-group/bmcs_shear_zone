{
 "cells": [
  {
   "cell_type": "markdown",
   "metadata": {},
   "source": [
    "## Dimensions of the Beam"
   ]
  },
  {
   "cell_type": "code",
   "execution_count": 57,
   "metadata": {},
   "outputs": [],
   "source": [
    "import sympy as sp\n",
    "import numpy as np\n",
    "import matplotlib.pylab as plt\n",
    "sp.init_printing()"
   ]
  },
  {
   "cell_type": "code",
   "execution_count": 58,
   "metadata": {},
   "outputs": [],
   "source": [
    "b_w  = sp.Symbol('b_w', nonnegative = True)\n",
    "d = sp.Symbol('d', nonnegative = True)\n",
    "h = sp.Symbol('h', nonnegative = True)\n",
    "f_c = sp.Symbol('f_c', nonnegative = True)\n",
    "d_b =  sp.Symbol('d_b', nonnegative = True)\n",
    "n = sp.Symbol('n', nonnegative = True)"
   ]
  },
  {
   "cell_type": "code",
   "execution_count": 59,
   "metadata": {},
   "outputs": [],
   "source": [
    "params = {\n",
    "    b_w : 75,#mm\n",
    "    d : 230, #mm\n",
    "    h : 250, #mm\n",
    "    f_c : 37.9, #MPa\n",
    "    d_b : 25.4, #mm\n",
    "    n : 4, \n",
    "    h : 250, #mm\n",
    "    \n",
    "}"
   ]
  },
  {
   "cell_type": "markdown",
   "metadata": {},
   "source": [
    "| Parameters | Cavagnis(Thesis) | Huber(Journal) | Tureyan(Journal) |\n",
    "| --- | --- | --- |--- |\n",
    "| $B$| $250 \\;mm$| $75 \\;mm$ | $457 \\;mm$ |\n",
    "| $D$|  $570 \\;mm$ | $230 \\;mm$ | $360 \\;mm$ |\n",
    "| $H$| $600 \\;mm$ | $250 \\;mm$ | $406 \\;mm$ |\n",
    "| $f_c$| $33.3 \\;\\frac{N}{mm^2}$ | $37.9 \\;\\frac{N}{mm^2}$ | $34.5 \\;\\frac{N}{mm^2}$ |\n",
    "| $f_t$| $0.3 f_c^{2/3}$ and $0.3 (50 f_c)^{1/3}$ | $3.06\\;\\frac{N}{mm^2}$ | $-$ |\n",
    "| $d_a$| $ 16 \\;mm$ | $ 22 \\;mm$ | $19 \\;mm$ |\n",
    "| $n$| $2$ | $4$ | $7 $ |\n",
    "| $d_s$| $28 \\;mm$ | $25.4 \\;mm$ | $50.8 \\;mm$ |\n",
    "| $\\rho$| $0.88 \\%$ | $1.2 \\%$ |  $0.96 \\%$ |\n",
    "| $L$| $3870 \\;mm$ | $5.6H$| $330 \\;mm$ |\n",
    "| $L_{cc}$| $2700 \\;mm$ | $3.04D$ | $165 \\;mm$ |"
   ]
  },
  {
   "cell_type": "markdown",
   "metadata": {},
   "source": [
    "*$0.3 f_c^{2/3}\\; for \\; f_c \\;< 50 (\\mathrm{MPa})\\;  0.3 (50 f_c)^{1/3}\\; for \\; f_c > \\;50 \\mathrm{MPa}$"
   ]
  },
  {
   "cell_type": "markdown",
   "metadata": {},
   "source": [
    "## Reinforcement Area"
   ]
  },
  {
   "cell_type": "code",
   "execution_count": 60,
   "metadata": {},
   "outputs": [
    {
     "data": {
      "image/png": "[encoded data removed]",
      "text/latex": [
       "$\\displaystyle 2026.82991638999$"
      ],
      "text/plain": [
       "2026.82991638999"
      ]
     },
     "execution_count": 60,
     "metadata": {},
     "output_type": "execute_result"
    }
   ],
   "source": [
    "A_b = n * np.pi * d_b**2 / 4 #mm2\n",
    "A_b.subs(params)"
   ]
  },
  {
   "cell_type": "markdown",
   "metadata": {},
   "source": [
    "## fib Model Code 2010\n",
    "In the case of monotonic loading, the reference $\\tau_{b0}$ value of the bond stresses between concrete and reinforcing bar for pullout and splitting failure can be calculated as a function of the relative displacement $s$ parallel to the bar axis.\n",
    "\\begin{equation}\n",
    "\\tau_{b0} = \\tau_{b\\, max} \\left(\\frac{s}{s_1}\\right)\\,\\, \\mathrm{for}\\,\\,0\\leq s \\leq s_1 \\\\\n",
    "\\tau_{b0} = \\tau_{b\\, max} \\,\\, \\mathrm{for}\\,\\,s_1 \\leq s \\leq s_2 \\\\\n",
    "\\tau_{b0} = \\tau_{b\\, max} - \\left( \\tau_{b\\, max} - \\tau_{bf} \\left(\\frac{s -s_2}{s_3 - s_2}\\right) \\right) \\,\\, \\mathrm{for}\\,\\,s_2 \\leq s \\leq s_3 \\\\\n",
    "\\tau_{b0} = \\tau_{bf} \\,\\, \\mathrm{for}\\,\\,s_3 < s \\\\\n",
    "\\end{equation}\n",
    "The parameters to be applied depend primarily on the failure mode i.e. Pullout or Splitting.\n",
    "### Pullout\n",
    "#### Good Bond Condition \n",
    "\\begin{equation}\n",
    "\\tau_{b\\,max} = 2.5 \\sqrt{f_{c}} \\,;\\, s_1  = 1.00 \\,;\\, s_2 = 2.00 \\,;\\, s_3 = c_{clear} \\,;\\, \\alpha = 0.4 \\,;\\, \n",
    "\\tau_{bf} = 0.4 \\tau_{bmax} \\\\\n",
    "\\end{equation}"
   ]
  },
  {
   "cell_type": "code",
   "execution_count": 61,
   "metadata": {},
   "outputs": [],
   "source": [
    "s  = sp.Symbol('s', nonnegative = True)\n",
    "s_1  = sp.Symbol('s_1', nonnegative = True)\n",
    "s_2 = sp.Symbol('s_2', nonnegative = True)\n",
    "s_3 = sp.Symbol('s_3', nonnegative = True)\n",
    "alpha = sp.Symbol(r'\\alpha', nonnegative = True)"
   ]
  },
  {
   "cell_type": "code",
   "execution_count": 62,
   "metadata": {},
   "outputs": [
    {
     "data": {
      "image/png": "[encoded data removed]",
      "text/latex": [
       "$\\displaystyle 2.5 \\sqrt{f_{c}}$"
      ],
      "text/plain": [
       "      _____\n",
       "2.5⋅╲╱ f_c "
      ]
     },
     "execution_count": 62,
     "metadata": {},
     "output_type": "execute_result"
    }
   ],
   "source": [
    "tau_b_max = 2.5 * sp.sqrt(f_c)\n",
    "tau_b_max"
   ]
  },
  {
   "cell_type": "code",
   "execution_count": 63,
   "metadata": {},
   "outputs": [],
   "source": [
    "params_bm = {\n",
    "    f_c : 37.9, #MPa\n",
    "    s_1 : 1,\n",
    "    s_2 : 2,\n",
    "    s_3 : 4, ##c_clear = clear distance between ribs\n",
    "    alpha : 0.4\n",
    "}"
   ]
  },
  {
   "cell_type": "code",
   "execution_count": 64,
   "metadata": {},
   "outputs": [
    {
     "data": {
      "image/png": "[encoded data removed]",
      "text/latex": [
       "$\\displaystyle 1.0 \\sqrt{f_{c}}$"
      ],
      "text/plain": [
       "      _____\n",
       "1.0⋅╲╱ f_c "
      ]
     },
     "execution_count": 64,
     "metadata": {},
     "output_type": "execute_result"
    }
   ],
   "source": [
    "tau_bf = 0.4 * tau_b_max\n",
    "tau_bf"
   ]
  },
  {
   "cell_type": "code",
   "execution_count": 65,
   "metadata": {},
   "outputs": [
    {
     "data": {
      "image/png": "[encoded data removed]",
      "text/latex": [
       "$\\displaystyle \\begin{cases} 2.5 \\sqrt{f_{c}} \\left(\\frac{s}{s_{1}}\\right)^{\\alpha} & \\text{for}\\: s \\leq s_{1} \\\\2.5 \\sqrt{f_{c}} & \\text{for}\\: s \\leq s_{2} \\\\- \\frac{1.5 \\sqrt{f_{c}} \\left(s - s_{2}\\right)}{- s_{2} + s_{3}} + 2.5 \\sqrt{f_{c}} & \\text{for}\\: s \\leq s_{3} \\\\1.0 \\sqrt{f_{c}} & \\text{for}\\: s \\geq s_{3} \\end{cases}$"
      ],
      "text/plain": [
       "⎧                       \\alpha                   \n",
       "⎪             _____ ⎛s ⎞                         \n",
       "⎪       2.5⋅╲╱ f_c ⋅⎜──⎟               for s ≤ s₁\n",
       "⎪                   ⎝s₁⎠                         \n",
       "⎪                                                \n",
       "⎪                  _____                         \n",
       "⎪            2.5⋅╲╱ f_c                for s ≤ s₂\n",
       "⎨                                                \n",
       "⎪        _____                                   \n",
       "⎪  1.5⋅╲╱ f_c ⋅(s - s₂)         _____            \n",
       "⎪- ──────────────────── + 2.5⋅╲╱ f_c   for s ≤ s₃\n",
       "⎪        -s₂ + s₃                                \n",
       "⎪                                                \n",
       "⎪                  _____                         \n",
       "⎩            1.0⋅╲╱ f_c                for s ≥ s₃"
      ]
     },
     "execution_count": 65,
     "metadata": {},
     "output_type": "execute_result"
    }
   ],
   "source": [
    "tau_b0 = sp.Piecewise(\n",
    "    (tau_b_max * (s/s_1)**alpha,  s <= s_1),\n",
    "    (tau_b_max ,  s <= s_2),\n",
    "    (tau_b_max - ((tau_b_max - tau_bf)*(s - s_2)/(s_3 - s_2) ), s <= s_3),\n",
    "    (tau_bf, s >= s_3)\n",
    ")\n",
    "tau_b0"
   ]
  },
  {
   "cell_type": "code",
   "execution_count": 66,
   "metadata": {},
   "outputs": [
    {
     "data": {
      "text/plain": [
       "<function _lambdifygenerated(s)>"
      ]
     },
     "execution_count": 66,
     "metadata": {},
     "output_type": "execute_result"
    }
   ],
   "source": [
    "get_tau_b0 = sp.lambdify((s), tau_b0.subs(params_bm), 'numpy')\n",
    "get_tau_b0"
   ]
  },
  {
   "cell_type": "code",
   "execution_count": 69,
   "metadata": {},
   "outputs": [
    {
     "data": {
      "image/png": "[encoded data removed]",
      "text/plain": [
       "<Figure size 864x504 with 1 Axes>"
      ]
     },
     "metadata": {
      "needs_background": "light"
     },
     "output_type": "display_data"
    }
   ],
   "source": [
    "_, (ax1) = plt.subplots(1, 1, figsize=(12,7))\n",
    "s_ = np.linspace(0, 6, 100)\n",
    "tau_b0_val = get_tau_b0(s_)\n",
    "ax1.plot(s_, tau_b0_val, color='blue', lw=2);\n",
    "ax1.set_xlabel(r'$s$'); ax1.set_ylabel(r'$\\tau_{b0}$');"
   ]
  },
  {
   "cell_type": "markdown",
   "metadata": {},
   "source": [
    "## Dowel Action"
   ]
  },
  {
   "cell_type": "markdown",
   "metadata": {},
   "source": [
    "### Baumann and Rusch Approach"
   ]
  },
  {
   "cell_type": "markdown",
   "metadata": {},
   "source": [
    "According to Baumann and Rusch, the vertical displacement along the opening of the crack and the shear resistance resulting from dowel action is assumed to be linear elastic before the maximum shear force $V_{dmax}$ is reached. Thereafter, the shear resistance remains constant upon any further shear displacement. Therefore, the maximum shear force carried by dowel action is given as:\n",
    "\\begin{equation}\n",
    "    V_{d\\,max} =  1.64 b_n d_b f_c^{1/3}\n",
    "    \\label{eq: V_dmax}\n",
    "\\end{equation}\n",
    "where, $b_n$ is the clear width of the beam $(b_w - n d_b)$. Here, $d_b, n, b_w$ represents diameter of bar, number of bars and width of beam respectively. \n",
    "\\begin{equation}\n",
    "    V_{da} =  V_{d\\,max} \\frac{\\delta}{0.08}\\,\\mathrm{for\\, \\delta < 0.08 \\,mm}\n",
    "    \\label{eq: V_daBR}\n",
    "\\end{equation}\n",
    "where $\\delta$ is vertical shear deformation.\n"
   ]
  },
  {
   "cell_type": "code",
   "execution_count": 70,
   "metadata": {},
   "outputs": [],
   "source": [
    "delta = sp.Symbol('\\delta', nonnegative = True)"
   ]
  },
  {
   "cell_type": "code",
   "execution_count": 71,
   "metadata": {},
   "outputs": [
    {
     "data": {
      "image/png": "[encoded data removed]",
      "text/latex": [
       "$\\displaystyle b_{w} - d_{b} n$"
      ],
      "text/plain": [
       "b_w - d_b⋅n"
      ]
     },
     "execution_count": 71,
     "metadata": {},
     "output_type": "execute_result"
    }
   ],
   "source": [
    "b_n = b_w - n * d_b\n",
    "b_n"
   ]
  },
  {
   "cell_type": "code",
   "execution_count": 72,
   "metadata": {},
   "outputs": [
    {
     "data": {
      "image/png": "[encoded data removed]",
      "text/latex": [
       "$\\displaystyle d_{b} f_{c}^{0.333333333333333} \\left(1.64 b_{w} - 1.64 d_{b} n\\right)$"
      ],
      "text/plain": [
       "       0.333333333333333                        \n",
       "d_b⋅f_c                 ⋅(1.64⋅b_w - 1.64⋅d_b⋅n)"
      ]
     },
     "execution_count": 72,
     "metadata": {},
     "output_type": "execute_result"
    }
   ],
   "source": [
    "V_d_max = 1.64 * b_n * d_b * f_c**(1/3)\n",
    "V_d_max"
   ]
  },
  {
   "cell_type": "code",
   "execution_count": 73,
   "metadata": {},
   "outputs": [
    {
     "data": {
      "image/png": "[encoded data removed]",
      "text/latex": [
       "$\\displaystyle \\begin{cases} 12.5 \\delta d_{b} f_{c}^{0.333333333333333} \\left(1.64 b_{w} - 1.64 d_{b} n\\right) & \\text{for}\\: \\delta < 0.08 \\\\d_{b} f_{c}^{0.333333333333333} \\left(1.64 b_{w} - 1.64 d_{b} n\\right) & \\text{otherwise} \\end{cases}$"
      ],
      "text/plain": [
       "⎧                   0.333333333333333                                         \n",
       "⎪12.5⋅\\delta⋅d_b⋅f_c                 ⋅(1.64⋅b_w - 1.64⋅d_b⋅n)  for \\delta < 0.\n",
       "⎨                                                                             \n",
       "⎪             0.333333333333333                                               \n",
       "⎩      d_b⋅f_c                 ⋅(1.64⋅b_w - 1.64⋅d_b⋅n)            otherwise  \n",
       "\n",
       "  \n",
       "08\n",
       "  \n",
       "  \n",
       "  "
      ]
     },
     "execution_count": 73,
     "metadata": {},
     "output_type": "execute_result"
    }
   ],
   "source": [
    "V_da_br = sp.Piecewise(\n",
    "    (V_d_max * (delta/0.08), delta < 0.08),\n",
    "    (V_d_max , delta >= 0.08)\n",
    "    ) \n",
    "V_da_br "
   ]
  },
  {
   "cell_type": "code",
   "execution_count": 74,
   "metadata": {},
   "outputs": [
    {
     "data": {
      "text/plain": [
       "<function _lambdifygenerated(Dummy_176)>"
      ]
     },
     "execution_count": 74,
     "metadata": {},
     "output_type": "execute_result"
    }
   ],
   "source": [
    "get_V_da_br = sp.lambdify((delta), V_da_br.subs(params), 'numpy')\n",
    "get_V_da_br"
   ]
  },
  {
   "cell_type": "markdown",
   "metadata": {},
   "source": [
    "<img src=\"fig/dowel_fig_baumann.png\" width=\"800\"/>"
   ]
  },
  {
   "cell_type": "markdown",
   "metadata": {},
   "source": [
    "#### Martin's Approach for calculating $V_{da}$ and $\\delta_k$\n",
    "Peak force for pre-peak and ductile post peak dowel deformation is calculated as:\n",
    "\\begin{equation}\n",
    "    V_{da} =  V_{d\\,max} \\frac{\\delta}{0.05}\\left(2 - \\frac{\\delta}{0.05}\\right)\\,\\mathrm{for\\, \\delta \\leq 0.05 \\,mm}\n",
    "    \\label{eq: V_da1}\n",
    "\\end{equation}\n",
    "\\begin{equation}\n",
    "    V_{da} =  V_{d\\,max} \\frac{2.55 - \\delta}{2.5}\\,\\mathrm{for \\,\\delta > 0.05 \\,mm}\n",
    "    \\label{eq: V_da2}\n",
    "\\end{equation}\n",
    "where $\\delta$ is vertical shear deformation and is given as(SCPT):\n",
    "\\begin{equation}\n",
    "    \\delta = \\varphi \\left(\\frac{y_1}{\\tan{\\beta_1}} + \\frac{ y_2 }{\\tan{\\beta_2}} \\right) \n",
    "    \\label{eq: deltak}\n",
    "\\end{equation}\n",
    "$\\varphi, \\beta_{1,2}, y_{1,2}$ rotation of center of rotation of shear crack, angles of the cracks and length of the cracks in vertical coordinates."
   ]
  },
  {
   "cell_type": "code",
   "execution_count": 80,
   "metadata": {},
   "outputs": [
    {
     "data": {
      "image/png": "[encoded data removed]",
      "text/latex": [
       "$\\displaystyle \\begin{cases} 20.0 \\delta d_{b} f_{c}^{0.333333333333333} \\left(2 - 20.0 \\delta\\right) \\left(1.64 b_{w} - 1.64 d_{b} n\\right) & \\text{for}\\: \\delta \\leq 0.05 \\\\d_{b} f_{c}^{0.333333333333333} \\left(1.02 - 0.4 \\delta\\right) \\left(1.64 b_{w} - 1.64 d_{b} n\\right) & \\text{otherwise} \\end{cases}$"
      ],
      "text/plain": [
       "⎧                   0.333333333333333                                         \n",
       "⎪20.0⋅\\delta⋅d_b⋅f_c                 ⋅(2 - 20.0⋅\\delta)⋅(1.64⋅b_w - 1.64⋅d_b⋅n\n",
       "⎨                                                                             \n",
       "⎪            0.333333333333333                                                \n",
       "⎩     d_b⋅f_c                 ⋅(1.02 - 0.4⋅\\delta)⋅(1.64⋅b_w - 1.64⋅d_b⋅n)    \n",
       "\n",
       "                    \n",
       ")  for \\delta ≤ 0.05\n",
       "                    \n",
       "                    \n",
       "       otherwise    "
      ]
     },
     "execution_count": 80,
     "metadata": {},
     "output_type": "execute_result"
    }
   ],
   "source": [
    "V_da = sp.Piecewise(\n",
    "    (V_d_max * (delta/0.05) * (2 - (delta/0.05)), delta <= 0.05),\n",
    "    (V_d_max * ((2.55 - delta) / 2.5), delta > 0.05)\n",
    "    ) \n",
    "V_da"
   ]
  },
  {
   "cell_type": "code",
   "execution_count": 81,
   "metadata": {},
   "outputs": [
    {
     "data": {
      "text/plain": [
       "<function _lambdifygenerated(Dummy_178)>"
      ]
     },
     "execution_count": 81,
     "metadata": {},
     "output_type": "execute_result"
    }
   ],
   "source": [
    "get_V_da = sp.lambdify((delta), V_da.subs(params), 'numpy')\n",
    "get_V_da"
   ]
  },
  {
   "cell_type": "code",
   "execution_count": 82,
   "metadata": {},
   "outputs": [
    {
     "data": {
      "image/png": "[encoded data removed]",
      "text/plain": [
       "<Figure size 864x504 with 1 Axes>"
      ]
     },
     "metadata": {
      "needs_background": "light"
     },
     "output_type": "display_data"
    }
   ],
   "source": [
    "_, (ax1) = plt.subplots(1, 1, figsize=(12,7))\n",
    "delta_ = np.linspace(0.001, 1, 100)\n",
    "V_da_val = get_V_da(delta_)\n",
    "ax1.plot(delta_, V_da_val, color='blue', lw=2);\n",
    "ax1.set_xlabel(r'$\\delta$'); ax1.set_ylabel(r'$V_{da}$');"
   ]
  },
  {
   "cell_type": "markdown",
   "metadata": {},
   "source": [
    "## Aggregate Interlock"
   ]
  },
  {
   "cell_type": "markdown",
   "metadata": {},
   "source": [
    "### Bazant's Approach refined by Gambarova\n",
    "The Rough Crack Model proposed by Bazant was later refined by Gambarova in which he modified the relationship between normal stresses $\\sigma_{ag}$ and crack kinematics (w and s). He further stated that the aggregate size $d_g$ plays a greater role in transferring shear. The stress can be transferred according to the following equations:\n",
    "\\begin{equation}\n",
    "\\sigma_{ag} = -0.62 \\sqrt{w} \\frac{r}{(1 + r^2)^{0.25}} \\tau_{ag} \\\\\n",
    "\\tau_{ag} = \\tau_0 \\left( 1 - \\sqrt{\\frac{2 w}{d_g}}\\right) r \\frac{a_3 + a_4 \\|r\\|^3}{1 + a_4 r^4}\n",
    "\\end{equation}\n",
    "where,\n",
    "\\begin{equation}\n",
    "r = \\frac{\\delta}{w} \\\\\n",
    "\\tau_0 = 0.25 f_c \\\\\n",
    "a_3 = \\frac{2.45}{\\tau_0} \\\\\n",
    "a_4 = 2.44 \\left( 1 - \\frac{4}{\\tau_0}\\right)\n",
    "\\end{equation}"
   ]
  },
  {
   "cell_type": "markdown",
   "metadata": {},
   "source": [
    "<img src=\"fig/aggregate_interlock.png\" width=\"800\"/>"
   ]
  },
  {
   "cell_type": "code",
   "execution_count": 83,
   "metadata": {},
   "outputs": [],
   "source": [
    "w = sp.Symbol('w', nonnegative = True)\n",
    "d_g  = sp.Symbol('d_g', nonnegative = True)"
   ]
  },
  {
   "cell_type": "code",
   "execution_count": 84,
   "metadata": {},
   "outputs": [
    {
     "data": {
      "image/png": "[encoded data removed]",
      "text/latex": [
       "$\\displaystyle \\frac{\\delta}{w}$"
      ],
      "text/plain": [
       "\\delta\n",
       "──────\n",
       "  w   "
      ]
     },
     "execution_count": 84,
     "metadata": {},
     "output_type": "execute_result"
    }
   ],
   "source": [
    "r = delta/w\n",
    "r"
   ]
  },
  {
   "cell_type": "code",
   "execution_count": 85,
   "metadata": {},
   "outputs": [
    {
     "data": {
      "image/png": "[encoded data removed]",
      "text/latex": [
       "$\\displaystyle 0.25 f_{c}$"
      ],
      "text/plain": [
       "0.25⋅f_c"
      ]
     },
     "execution_count": 85,
     "metadata": {},
     "output_type": "execute_result"
    }
   ],
   "source": [
    "tau_0 = 0.25 * f_c\n",
    "tau_0"
   ]
  },
  {
   "cell_type": "code",
   "execution_count": 86,
   "metadata": {},
   "outputs": [
    {
     "data": {
      "image/png": "[encoded data removed]",
      "text/latex": [
       "$\\displaystyle \\frac{9.8}{f_{c}}$"
      ],
      "text/plain": [
       "9.8\n",
       "───\n",
       "f_c"
      ]
     },
     "execution_count": 86,
     "metadata": {},
     "output_type": "execute_result"
    }
   ],
   "source": [
    "a_3  =  2.45/tau_0\n",
    "a_3"
   ]
  },
  {
   "cell_type": "code",
   "execution_count": 87,
   "metadata": {},
   "outputs": [
    {
     "data": {
      "image/png": "[encoded data removed]",
      "text/latex": [
       "$\\displaystyle 2.44 - \\frac{39.04}{f_{c}}$"
      ],
      "text/plain": [
       "       39.04\n",
       "2.44 - ─────\n",
       "        f_c "
      ]
     },
     "execution_count": 87,
     "metadata": {},
     "output_type": "execute_result"
    }
   ],
   "source": [
    "a_4  = 2.44 * (1 - (4/tau_0))\n",
    "a_4"
   ]
  },
  {
   "cell_type": "code",
   "execution_count": 88,
   "metadata": {},
   "outputs": [
    {
     "data": {
      "image/png": "[encoded data removed]",
      "text/latex": [
       "$\\displaystyle \\frac{0.25 \\delta f_{c} \\left(1 - \\frac{\\sqrt{2} \\sqrt{w}}{\\sqrt{d_{g}}}\\right) \\left(\\frac{\\delta^{3} \\left(2.44 - \\frac{39.04}{f_{c}}\\right)}{w^{3}} + \\frac{9.8}{f_{c}}\\right)}{w \\left(\\frac{\\delta^{4} \\left(2.44 - \\frac{39.04}{f_{c}}\\right)}{w^{4}} + 1\\right)}$"
      ],
      "text/plain": [
       "                              ⎛      3 ⎛       39.04⎞      ⎞\n",
       "                              ⎜\\delta ⋅⎜2.44 - ─────⎟      ⎟\n",
       "                ⎛     √2⋅√w ⎞ ⎜        ⎝        f_c ⎠   9.8⎟\n",
       "0.25⋅\\delta⋅f_c⋅⎜1 - ───────⎟⋅⎜────────────────────── + ───⎟\n",
       "                ⎜      _____⎟ ⎜           3             f_c⎟\n",
       "                ⎝    ╲╱ d_g ⎠ ⎝          w                 ⎠\n",
       "────────────────────────────────────────────────────────────\n",
       "                 ⎛      4 ⎛       39.04⎞    ⎞               \n",
       "                 ⎜\\delta ⋅⎜2.44 - ─────⎟    ⎟               \n",
       "                 ⎜        ⎝        f_c ⎠    ⎟               \n",
       "               w⋅⎜────────────────────── + 1⎟               \n",
       "                 ⎜           4              ⎟               \n",
       "                 ⎝          w               ⎠               "
      ]
     },
     "execution_count": 88,
     "metadata": {},
     "output_type": "execute_result"
    }
   ],
   "source": [
    "tau_ag = tau_0 * (1 - sp.sqrt((2 * w)/d_g)) * r * (a_3 + (a_4 * sp.Abs(r)**3)) / (1 + (a_4 *r**4))\n",
    "tau_ag"
   ]
  },
  {
   "cell_type": "code",
   "execution_count": 89,
   "metadata": {},
   "outputs": [
    {
     "data": {
      "image/png": "[encoded data removed]",
      "text/latex": [
       "$\\displaystyle - \\frac{0.155 \\delta^{2} f_{c} \\left(1 - \\frac{\\sqrt{2} \\sqrt{w}}{\\sqrt{d_{g}}}\\right) \\left(\\frac{\\delta^{3} \\left(2.44 - \\frac{39.04}{f_{c}}\\right)}{w^{3}} + \\frac{9.8}{f_{c}}\\right)}{w^{\\frac{3}{2}} \\left(\\frac{\\delta^{2}}{w^{2}} + 1\\right)^{0.25} \\left(\\frac{\\delta^{4} \\left(2.44 - \\frac{39.04}{f_{c}}\\right)}{w^{4}} + 1\\right)}$"
      ],
      "text/plain": [
       "                                              -0.25 ⎛      3 ⎛       39.04⎞   \n",
       "                                 ⎛      2    ⎞      ⎜\\delta ⋅⎜2.44 - ─────⎟   \n",
       "             2     ⎛     √2⋅√w ⎞ ⎜\\delta     ⎟      ⎜        ⎝        f_c ⎠   \n",
       "-0.155⋅\\delta ⋅f_c⋅⎜1 - ───────⎟⋅⎜─────── + 1⎟     ⋅⎜────────────────────── + \n",
       "                   ⎜      _____⎟ ⎜    2      ⎟      ⎜           3             \n",
       "                   ⎝    ╲╱ d_g ⎠ ⎝   w       ⎠      ⎝          w              \n",
       "──────────────────────────────────────────────────────────────────────────────\n",
       "                              ⎛      4 ⎛       39.04⎞    ⎞                    \n",
       "                              ⎜\\delta ⋅⎜2.44 - ─────⎟    ⎟                    \n",
       "                          3/2 ⎜        ⎝        f_c ⎠    ⎟                    \n",
       "                         w   ⋅⎜────────────────────── + 1⎟                    \n",
       "                              ⎜           4              ⎟                    \n",
       "                              ⎝          w               ⎠                    \n",
       "\n",
       "   ⎞ \n",
       "   ⎟ \n",
       "9.8⎟ \n",
       "───⎟ \n",
       "f_c⎟ \n",
       "   ⎠ \n",
       "─────\n",
       "     \n",
       "     \n",
       "     \n",
       "     \n",
       "     \n",
       "     "
      ]
     },
     "execution_count": 89,
     "metadata": {},
     "output_type": "execute_result"
    }
   ],
   "source": [
    "sigma_ag = -0.62 * sp.sqrt(w) * (r)/(1 + r**2)**0.25 * tau_ag\n",
    "sigma_ag"
   ]
  },
  {
   "cell_type": "code",
   "execution_count": 90,
   "metadata": {},
   "outputs": [],
   "source": [
    "params_ag = {\n",
    "    f_c : 37.9, #MPa\n",
    "    d_g : 22, ##mm\n",
    "}"
   ]
  },
  {
   "cell_type": "code",
   "execution_count": 91,
   "metadata": {},
   "outputs": [
    {
     "data": {
      "image/png": "[encoded data removed]",
      "text/latex": [
       "$\\displaystyle \\frac{9.475 \\delta \\left(- \\frac{\\sqrt{11} \\sqrt{w}}{11} + 1\\right) \\left(\\frac{1.40992084432718 \\delta^{3}}{w^{3}} + 0.258575197889182\\right)}{w \\left(\\frac{1.40992084432718 \\delta^{4}}{w^{4}} + 1\\right)}$"
      ],
      "text/plain": [
       "                            ⎛                       3                    ⎞\n",
       "             ⎛  √11⋅√w    ⎞ ⎜1.40992084432718⋅\\delta                     ⎟\n",
       "9.475⋅\\delta⋅⎜- ────── + 1⎟⋅⎜──────────────────────── + 0.258575197889182⎟\n",
       "             ⎝    11      ⎠ ⎜            3                               ⎟\n",
       "                            ⎝           w                                ⎠\n",
       "──────────────────────────────────────────────────────────────────────────\n",
       "                       ⎛                       4    ⎞                     \n",
       "                       ⎜1.40992084432718⋅\\delta     ⎟                     \n",
       "                     w⋅⎜──────────────────────── + 1⎟                     \n",
       "                       ⎜            4               ⎟                     \n",
       "                       ⎝           w                ⎠                     "
      ]
     },
     "execution_count": 91,
     "metadata": {},
     "output_type": "execute_result"
    }
   ],
   "source": [
    "get_tau_ag = sp.lambdify((w, delta), tau_ag.subs(params_ag), 'numpy')\n",
    "tau_ag.subs(params_ag)"
   ]
  },
  {
   "cell_type": "code",
   "execution_count": 92,
   "metadata": {},
   "outputs": [
    {
     "data": {
      "image/png": "[encoded data removed]",
      "text/latex": [
       "$\\displaystyle - \\frac{5.8745 \\delta^{2} \\left(- \\frac{\\sqrt{11} \\sqrt{w}}{11} + 1\\right) \\left(\\frac{1.40992084432718 \\delta^{3}}{w^{3}} + 0.258575197889182\\right)}{w^{\\frac{3}{2}} \\left(\\frac{\\delta^{2}}{w^{2}} + 1\\right)^{0.25} \\left(\\frac{1.40992084432718 \\delta^{4}}{w^{4}} + 1\\right)}$"
      ],
      "text/plain": [
       "                                            -0.25                             \n",
       "                               ⎛      2    ⎞      ⎛                       3   \n",
       "              2 ⎛  √11⋅√w    ⎞ ⎜\\delta     ⎟      ⎜1.40992084432718⋅\\delta    \n",
       "-5.8745⋅\\delta ⋅⎜- ────── + 1⎟⋅⎜─────── + 1⎟     ⋅⎜──────────────────────── + \n",
       "                ⎝    11      ⎠ ⎜    2      ⎟      ⎜            3              \n",
       "                               ⎝   w       ⎠      ⎝           w               \n",
       "──────────────────────────────────────────────────────────────────────────────\n",
       "                                    ⎛                       4    ⎞            \n",
       "                                3/2 ⎜1.40992084432718⋅\\delta     ⎟            \n",
       "                               w   ⋅⎜──────────────────────── + 1⎟            \n",
       "                                    ⎜            4               ⎟            \n",
       "                                    ⎝           w                ⎠            \n",
       "\n",
       "                   \n",
       "                 ⎞ \n",
       "                 ⎟ \n",
       "0.258575197889182⎟ \n",
       "                 ⎟ \n",
       "                 ⎠ \n",
       "───────────────────\n",
       "                   \n",
       "                   \n",
       "                   \n",
       "                   \n",
       "                   "
      ]
     },
     "execution_count": 92,
     "metadata": {},
     "output_type": "execute_result"
    }
   ],
   "source": [
    "get_sigma_ag = sp.lambdify((w, delta), sigma_ag.subs(params_ag), 'numpy')\n",
    "sigma_ag.subs(params_ag)"
   ]
  },
  {
   "cell_type": "code",
   "execution_count": 93,
   "metadata": {},
   "outputs": [],
   "source": [
    "w_ = np.linspace(0.1, 1, 3)\n",
    "tau_ag = np.zeros((100,3))\n",
    "for i, w in enumerate(w_):\n",
    "    delta_ = np.linspace(0.001, 1, 100)\n",
    "    for j, delta in enumerate(delta_):\n",
    "        tau_ag[j,i] = get_tau_ag(w, delta)\n",
    "#print(tau_ag);"
   ]
  },
  {
   "cell_type": "code",
   "execution_count": 94,
   "metadata": {},
   "outputs": [],
   "source": [
    "w_ = np.linspace(0.1, 1, 3)\n",
    "sigma_ag = np.zeros((100,3))\n",
    "for i, w in enumerate(w_):\n",
    "    delta_ = np.linspace(0.001, 1, 100)\n",
    "    for j, delta in enumerate(delta_):\n",
    "        sigma_ag[j,i] = get_sigma_ag(w, delta)\n",
    "#print(sigma_ag)"
   ]
  },
  {
   "cell_type": "code",
   "execution_count": 124,
   "metadata": {},
   "outputs": [
    {
     "data": {
      "text/plain": [
       "<matplotlib.legend.Legend at 0x7f62c7e06280>"
      ]
     },
     "execution_count": 124,
     "metadata": {},
     "output_type": "execute_result"
    },
    {
     "data": {
      "image/png": "[encoded data removed]",
      "text/plain": [
       "<Figure size 576x288 with 1 Axes>"
      ]
     },
     "metadata": {
      "needs_background": "light"
     },
     "output_type": "display_data"
    }
   ],
   "source": [
    "_, (ax1) = plt.subplots(1, 1, figsize=(8,4))\n",
    "ax1.plot(delta_, tau_ag[:,0], color='blue', lw=2, label = (r'$w = 0.1$'))\n",
    "ax1.plot(delta_, tau_ag[:,1], color='black', lw=2, label = (r'$w = 0.5$'))\n",
    "ax1.plot(delta_, tau_ag[:,2], color='green', lw=2, label = (r'$w = 1$'))\n",
    "ax1.set_xlabel(r'$s$'); ax1.set_ylabel(r'$\\tau_{ag}$')\n",
    "ax1.legend()"
   ]
  },
  {
   "cell_type": "code",
   "execution_count": 123,
   "metadata": {},
   "outputs": [
    {
     "data": {
      "text/plain": [
       "<matplotlib.legend.Legend at 0x7f62c7eb1b20>"
      ]
     },
     "execution_count": 123,
     "metadata": {},
     "output_type": "execute_result"
    },
    {
     "data": {
      "image/png": "[encoded data removed]",
      "text/plain": [
       "<Figure size 576x288 with 1 Axes>"
      ]
     },
     "metadata": {
      "needs_background": "light"
     },
     "output_type": "display_data"
    }
   ],
   "source": [
    "_, (ax1) = plt.subplots(1, 1, figsize=(8,4))\n",
    "ax1.plot(delta_, sigma_ag[:,0], color='blue', lw=2, label = (r'$w = 0.1$'))\n",
    "ax1.plot(delta_, sigma_ag[:,1], color='black', lw=2, label = (r'$w = 0.5$'))\n",
    "ax1.plot(delta_, sigma_ag[:,2], color='green', lw=2, label = (r'$w = 1$'))\n",
    "ax1.set_xlabel(r'$s$'); ax1.set_ylabel(r'$\\sigma_{ag}$')\n",
    "ax1.legend()"
   ]
  },
  {
   "cell_type": "markdown",
   "metadata": {},
   "source": [
    "## Assumptions for tensile behavior (softening curve)"
   ]
  },
  {
   "cell_type": "markdown",
   "metadata": {},
   "source": [
    "The mathematical bilinear softening cohesive stress vs crack opening is given as:\n",
    "\\begin{gather*}\n",
    "\\sigma = f_\\mathrm{t} - (f_\\mathrm{t} - \\sigma_s(w_1)) \\frac{w}{w_1} ; \\: \\mathrm{for}\\; 0 \\leq w \\leq w_1\n",
    "\\end{gather*}\n",
    "\\begin{gather*}\n",
    "\\sigma = \\sigma_s \\frac{w_2 - w}{w_2 - w_1} ; \\: \\mathrm{for}\\; w_1 \\leq w \\leq w_2\n",
    "\\end{gather*}"
   ]
  },
  {
   "cell_type": "markdown",
   "metadata": {},
   "source": [
    "However, the parameters used in the bilinear softening curve can be evaluated by using formula by Xu. Hence,\n",
    "\\begin{gather*}\n",
    "\\sigma_s (CTOD_c) = \\frac{f_t(2 - f_t \\frac{CTOD_c}{G_f})}{\\alpha_f} \\\\\n",
    "w_1 = CTOD_c \\\\\n",
    "w_2 = \\alpha_f \\frac{G_f}{f_t} \\\\\n",
    "\\alpha_f = \\lambda - \\frac{d_{max}}{8} \\\\\n",
    "\\end{gather*}\n",
    "where, $f_t$ represents tensile strength that can be obtained by either splitting tests or by the formula $f_t = 0.4983 \\sqrt f_c$ . Here, $G_f$, $\\lambda$, $\\alpha_f$ represents Fracture Energy, calibration factor, deformation coefficient of concrete respectively. Furthermore, $d_{max}$ depicts maximum size of coarse aggregate and $CTOD_c$ is the critical crack tip opening displacement which can be determined by replacing $x = a_0$ in the equation for $w_x$."
   ]
  },
  {
   "cell_type": "code",
   "execution_count": 97,
   "metadata": {},
   "outputs": [],
   "source": [
    "f_t = sp.Symbol('f_t', nonnegative = True)\n",
    "CTOD_c = sp.Symbol('CTOD_c', nonnegative = True)\n",
    "G_f  = sp.Symbol('G_f', nonnegative = True)\n",
    "w_1 = CTOD_c\n",
    "d_ag = sp.Symbol('d_{ag}', nonnegative = True)\n",
    "lamda = sp.Symbol('\\lambda', nonnegative = True)\n",
    "w_2 = sp.Symbol('w_2', nonnegative = True)\n",
    "w = sp.Symbol('w', nonnegative = True)"
   ]
  },
  {
   "cell_type": "code",
   "execution_count": 98,
   "metadata": {},
   "outputs": [
    {
     "data": {
      "image/png": "[encoded data removed]",
      "text/latex": [
       "$\\displaystyle \\lambda - \\frac{d_{ag}}{8}$"
      ],
      "text/plain": [
       "          d_{ag}\n",
       "\\lambda - ──────\n",
       "            8   "
      ]
     },
     "execution_count": 98,
     "metadata": {},
     "output_type": "execute_result"
    }
   ],
   "source": [
    "alpha_f = lamda - d_ag/8\n",
    "alpha_f"
   ]
  },
  {
   "cell_type": "code",
   "execution_count": 99,
   "metadata": {},
   "outputs": [
    {
     "data": {
      "image/png": "[encoded data removed]",
      "text/latex": [
       "$\\displaystyle \\frac{f_{t} \\left(- \\frac{CTOD_{c} f_{t}}{G_{f}} + 2\\right)}{\\lambda - \\frac{d_{ag}}{8}}$"
      ],
      "text/plain": [
       "   ⎛  CTOD_c⋅fₜ    ⎞\n",
       "fₜ⋅⎜- ───────── + 2⎟\n",
       "   ⎝     G_f       ⎠\n",
       "────────────────────\n",
       "            d_{ag}  \n",
       "  \\lambda - ──────  \n",
       "              8     "
      ]
     },
     "execution_count": 99,
     "metadata": {},
     "output_type": "execute_result"
    }
   ],
   "source": [
    "sigma_s = (f_t * (2 - f_t * (CTOD_c / G_f))) / alpha_f\n",
    "sigma_s"
   ]
  },
  {
   "cell_type": "code",
   "execution_count": 100,
   "metadata": {},
   "outputs": [
    {
     "data": {
      "image/png": "[encoded data removed]",
      "text/latex": [
       "$\\displaystyle \\frac{f_{t} \\left(- w + w_{2}\\right) \\left(- \\frac{CTOD_{c} f_{t}}{G_{f}} + 2\\right)}{\\left(- CTOD_{c} + w_{2}\\right) \\left(\\lambda - \\frac{d_{ag}}{8}\\right)}$"
      ],
      "text/plain": [
       "               ⎛  CTOD_c⋅fₜ    ⎞ \n",
       "  fₜ⋅(-w + w₂)⋅⎜- ───────── + 2⎟ \n",
       "               ⎝     G_f       ⎠ \n",
       "─────────────────────────────────\n",
       "               ⎛          d_{ag}⎞\n",
       "(-CTOD_c + w₂)⋅⎜\\lambda - ──────⎟\n",
       "               ⎝            8   ⎠"
      ]
     },
     "execution_count": 100,
     "metadata": {},
     "output_type": "execute_result"
    }
   ],
   "source": [
    "sigma_s * (w_2 - w) / (w_2 - w_1)"
   ]
  },
  {
   "cell_type": "code",
   "execution_count": 101,
   "metadata": {},
   "outputs": [
    {
     "data": {
      "image/png": "[encoded data removed]",
      "text/latex": [
       "$\\displaystyle \\begin{cases} f_{t} - \\frac{w \\left(f_{t} - \\frac{f_{t} \\left(- \\frac{CTOD_{c} f_{t}}{G_{f}} + 2\\right)}{\\lambda - \\frac{d_{ag}}{8}}\\right)}{CTOD_{c}} & \\text{for}\\: CTOD_{c} \\geq w \\\\\\frac{f_{t} \\left(- w + w_{2}\\right) \\left(- \\frac{CTOD_{c} f_{t}}{G_{f}} + 2\\right)}{\\left(- CTOD_{c} + w_{2}\\right) \\left(\\lambda - \\frac{d_{ag}}{8}\\right)} & \\text{for}\\: w \\leq w_{2} \\end{cases}$"
      ],
      "text/plain": [
       "⎧       ⎛        ⎛  CTOD_c⋅fₜ    ⎞⎞                \n",
       "⎪       ⎜     fₜ⋅⎜- ───────── + 2⎟⎟                \n",
       "⎪       ⎜        ⎝     G_f       ⎠⎟                \n",
       "⎪     w⋅⎜fₜ - ────────────────────⎟                \n",
       "⎪       ⎜                 d_{ag}  ⎟                \n",
       "⎪       ⎜       \\lambda - ──────  ⎟                \n",
       "⎪       ⎝                   8     ⎠                \n",
       "⎪fₜ - ─────────────────────────────  for CTOD_c ≥ w\n",
       "⎨                 CTOD_c                           \n",
       "⎪                                                  \n",
       "⎪               ⎛  CTOD_c⋅fₜ    ⎞                  \n",
       "⎪  fₜ⋅(-w + w₂)⋅⎜- ───────── + 2⎟                  \n",
       "⎪               ⎝     G_f       ⎠                  \n",
       "⎪─────────────────────────────────     for w ≤ w₂  \n",
       "⎪               ⎛          d_{ag}⎞                 \n",
       "⎪(-CTOD_c + w₂)⋅⎜\\lambda - ──────⎟                 \n",
       "⎩               ⎝            8   ⎠                 "
      ]
     },
     "execution_count": 101,
     "metadata": {},
     "output_type": "execute_result"
    }
   ],
   "source": [
    "sigma_w = sp.Piecewise(\n",
    "            (f_t - (f_t - sigma_s) * (w / w_1), w <= w_1 ),\n",
    "            (sigma_s * (w_2 - w) / (w_2 - w_1),  w <= w_2),\n",
    ")\n",
    "sigma_w"
   ]
  },
  {
   "cell_type": "code",
   "execution_count": 106,
   "metadata": {},
   "outputs": [],
   "source": [
    "params = {\n",
    "    d_ag : 22,\n",
    "    CTOD_c : 0.3,\n",
    "    lamda : 4,\n",
    "    f_t : 3,\n",
    "    w_2 : 1,\n",
    "    G_f : 0.5\n",
    "}"
   ]
  },
  {
   "cell_type": "code",
   "execution_count": 107,
   "metadata": {},
   "outputs": [
    {
     "data": {
      "image/png": "[encoded data removed]",
      "text/latex": [
       "$\\displaystyle \\begin{cases} 3 - 8.4 w & \\text{for}\\: w \\leq 0.3 \\\\0.685714285714286 - 0.685714285714286 w & \\text{for}\\: w \\leq 1 \\end{cases}$"
      ],
      "text/plain": [
       "⎧               3 - 8.4⋅w                 for w ≤ 0.3\n",
       "⎨                                                    \n",
       "⎩0.685714285714286 - 0.685714285714286⋅w   for w ≤ 1 "
      ]
     },
     "execution_count": 107,
     "metadata": {},
     "output_type": "execute_result"
    }
   ],
   "source": [
    "get_sigma_w = sp.lambdify((w), sigma_w.subs(params), 'numpy')\n",
    "sigma_w.subs(params)"
   ]
  },
  {
   "cell_type": "code",
   "execution_count": 108,
   "metadata": {},
   "outputs": [
    {
     "name": "stderr",
     "output_type": "stream",
     "text": [
      "No handles with labels found to put in legend.\n"
     ]
    },
    {
     "data": {
      "text/plain": [
       "<matplotlib.legend.Legend at 0x7f62c7fba5b0>"
      ]
     },
     "execution_count": 108,
     "metadata": {},
     "output_type": "execute_result"
    },
    {
     "data": {
      "image/png": "[encoded data removed]",
      "text/plain": [
       "<Figure size 576x288 with 1 Axes>"
      ]
     },
     "metadata": {
      "needs_background": "light"
     },
     "output_type": "display_data"
    }
   ],
   "source": [
    "w_ = np.linspace(0, 1,100)\n",
    "sigma_w_ = get_sigma_w(w_)\n",
    "_, (ax1) = plt.subplots(1, 1, figsize=(8,4))\n",
    "ax1.plot(w_, sigma_w_, color='blue', lw=2)\n",
    "ax1.set_xlabel(r'$w$'); ax1.set_ylabel(r'$\\sigma_{w}$')\n",
    "ax1.legend()"
   ]
  },
  {
   "cell_type": "code",
   "execution_count": 109,
   "metadata": {},
   "outputs": [
    {
     "data": {
      "text/plain": [
       "array([3.        , 2.91515152, 2.83030303, 2.74545455, 2.66060606,\n",
       "       2.57575758, 2.49090909, 2.40606061, 2.32121212, 2.23636364,\n",
       "       2.15151515, 2.06666667, 1.98181818, 1.8969697 , 1.81212121,\n",
       "       1.72727273, 1.64242424, 1.55757576, 1.47272727, 1.38787879,\n",
       "       1.3030303 , 1.21818182, 1.13333333, 1.04848485, 0.96363636,\n",
       "       0.87878788, 0.79393939, 0.70909091, 0.62424242, 0.53939394,\n",
       "       0.47792208, 0.47099567, 0.46406926, 0.45714286, 0.45021645,\n",
       "       0.44329004, 0.43636364, 0.42943723, 0.42251082, 0.41558442,\n",
       "       0.40865801, 0.4017316 , 0.39480519, 0.38787879, 0.38095238,\n",
       "       0.37402597, 0.36709957, 0.36017316, 0.35324675, 0.34632035,\n",
       "       0.33939394, 0.33246753, 0.32554113, 0.31861472, 0.31168831,\n",
       "       0.3047619 , 0.2978355 , 0.29090909, 0.28398268, 0.27705628,\n",
       "       0.27012987, 0.26320346, 0.25627706, 0.24935065, 0.24242424,\n",
       "       0.23549784, 0.22857143, 0.22164502, 0.21471861, 0.20779221,\n",
       "       0.2008658 , 0.19393939, 0.18701299, 0.18008658, 0.17316017,\n",
       "       0.16623377, 0.15930736, 0.15238095, 0.14545455, 0.13852814,\n",
       "       0.13160173, 0.12467532, 0.11774892, 0.11082251, 0.1038961 ,\n",
       "       0.0969697 , 0.09004329, 0.08311688, 0.07619048, 0.06926407,\n",
       "       0.06233766, 0.05541126, 0.04848485, 0.04155844, 0.03463203,\n",
       "       0.02770563, 0.02077922, 0.01385281, 0.00692641, 0.        ])"
      ]
     },
     "execution_count": 109,
     "metadata": {},
     "output_type": "execute_result"
    }
   ],
   "source": [
    "sigma_w_ "
   ]
  },
  {
   "cell_type": "markdown",
   "metadata": {},
   "source": [
    "## Menetry-William Failure Surface (Compressive Model)\n",
    "This model consists of an ascending branch that represents the hardening phase. The material is found to behave linearly in the hardening phase upto a compressive stress value of $f_{co} = 2 f_t$. The nonlinear behavior is given by:\n",
    "\\begin{equation}\n",
    "\\sigma_c = f_{co} + (f_c - f_{co}) \\sqrt{1 - \\left(\\frac{\\epsilon_{cp} - \\epsilon_{p}}{\\epsilon_{cp}}\\right)^2}\n",
    "\\end{equation}\n",
    "here, $\\epsilon_p, \\epsilon_{cp}$ is the plastic strain, plastic strain corresponding to compressive strength. "
   ]
  },
  {
   "cell_type": "code",
   "execution_count": 110,
   "metadata": {},
   "outputs": [],
   "source": [
    "eps_cp = sp.Symbol('\\epsilon_{cp}', nonnegative = True)\n",
    "eps_p = sp.Symbol('\\epsilon_{p}', nonnegative = True)"
   ]
  },
  {
   "cell_type": "code",
   "execution_count": 111,
   "metadata": {},
   "outputs": [
    {
     "data": {
      "image/png": "[encoded data removed]",
      "text/latex": [
       "$\\displaystyle 2 f_{t}$"
      ],
      "text/plain": [
       "2⋅fₜ"
      ]
     },
     "execution_count": 111,
     "metadata": {},
     "output_type": "execute_result"
    }
   ],
   "source": [
    "f_co = 2* f_t\n",
    "f_co"
   ]
  },
  {
   "cell_type": "code",
   "execution_count": 112,
   "metadata": {},
   "outputs": [
    {
     "data": {
      "image/png": "[encoded data removed]",
      "text/latex": [
       "$\\displaystyle \\begin{cases} 2 f_{t} + \\sqrt{1 - \\frac{\\left(\\epsilon_{cp} - \\epsilon_{p}\\right)^{2}}{\\epsilon_{cp}^{2}}} \\left(f_{c} - 2 f_{t}\\right) & \\text{for}\\: \\epsilon_{cp} \\geq \\epsilon_{p} \\\\f_{c} & \\text{otherwise} \\end{cases}$"
      ],
      "text/plain": [
       "⎧             _____________________________________                           \n",
       "⎪            ╱                                   2                            \n",
       "⎪           ╱      (\\epsilon_{cp} - \\epsilon_{p})                             \n",
       "⎪2⋅fₜ +    ╱   1 - ─────────────────────────────── ⋅(f_c - 2⋅fₜ)  for \\epsilon\n",
       "⎨         ╱                              2                                    \n",
       "⎪       ╲╱                  \\epsilon_{cp}                                     \n",
       "⎪                                                                             \n",
       "⎪                              f_c                                           o\n",
       "⎩                                                                             \n",
       "\n",
       "                    \n",
       "                    \n",
       "                    \n",
       "_{cp} ≥ \\epsilon_{p}\n",
       "                    \n",
       "                    \n",
       "                    \n",
       "therwise            \n",
       "                    "
      ]
     },
     "execution_count": 112,
     "metadata": {},
     "output_type": "execute_result"
    }
   ],
   "source": [
    "sigma_c = sp.Piecewise(\n",
    "(2 * f_t, eps_p == 0),\n",
    "(f_co + (f_c - f_co) * sp.sqrt(1 - ((eps_cp - eps_p)/(eps_cp))**2), eps_p <= eps_cp),\n",
    "(f_c, eps_p > eps_cp)\n",
    ")\n",
    "sigma_c"
   ]
  },
  {
   "cell_type": "code",
   "execution_count": 113,
   "metadata": {},
   "outputs": [],
   "source": [
    "params = {\n",
    "    f_t : 3,\n",
    "    f_c : 37.9,\n",
    "    eps_cp : 0.0014\n",
    "}"
   ]
  },
  {
   "cell_type": "code",
   "execution_count": 114,
   "metadata": {},
   "outputs": [
    {
     "data": {
      "text/plain": [
       "<function _lambdifygenerated(Dummy_181)>"
      ]
     },
     "execution_count": 114,
     "metadata": {},
     "output_type": "execute_result"
    }
   ],
   "source": [
    "get_sigma_c = sp.lambdify((eps_p), sigma_c.subs(params), 'numpy')\n",
    "get_sigma_c"
   ]
  },
  {
   "cell_type": "code",
   "execution_count": 115,
   "metadata": {},
   "outputs": [
    {
     "name": "stderr",
     "output_type": "stream",
     "text": [
      "No handles with labels found to put in legend.\n"
     ]
    },
    {
     "data": {
      "text/plain": [
       "<matplotlib.legend.Legend at 0x7f62e4140760>"
      ]
     },
     "execution_count": 115,
     "metadata": {},
     "output_type": "execute_result"
    },
    {
     "data": {
      "image/png": "[encoded data removed]",
      "text/plain": [
       "<Figure size 576x288 with 1 Axes>"
      ]
     },
     "metadata": {
      "needs_background": "light"
     },
     "output_type": "display_data"
    }
   ],
   "source": [
    "eps_p_ = np.linspace(0, 0.0020, 100)\n",
    "sigma_c_ = get_sigma_c(eps_p_)\n",
    "_, (ax1) = plt.subplots(1, 1, figsize=(8,4))\n",
    "ax1.plot(eps_p_, sigma_c_, color='blue', lw=2)\n",
    "ax1.set_xlabel(r'$\\epsilon$'); ax1.set_ylabel(r'$\\sigma_{c}$')\n",
    "ax1.legend()"
   ]
  },
  {
   "cell_type": "markdown",
   "metadata": {},
   "source": [
    "## Tension Model experimentally derived by Hordijk\n",
    "The exponential function of the crack opening is given by:\n",
    "\\begin{equation}\n",
    "\\sigma_t = f_t \\left( 1 + \\left(c_1\\frac{w_t}{w_{tc}}\\right)^3\\right) \\exp\\left( -c_2 \\frac{w_t}{w_{tc}}\\right)-\\left(\\frac{w_t}{w_{tc}}\\right)(1+c_1^3)\\exp(-c_2)\n",
    "\\end{equation}"
   ]
  },
  {
   "cell_type": "code",
   "execution_count": 116,
   "metadata": {},
   "outputs": [],
   "source": [
    "w_t = sp.Symbol('w_t', nonnegative = True)\n",
    "#w_tc = sp.Symbol('w_{tc}', nonnegative = True)\n",
    "c_2 = sp.Symbol('c_2', nonnegative = True)\n",
    "c_1 = sp.Symbol('c_1', nonnegative = True)"
   ]
  },
  {
   "cell_type": "code",
   "execution_count": 117,
   "metadata": {},
   "outputs": [
    {
     "data": {
      "image/png": "[encoded data removed]",
      "text/latex": [
       "$\\displaystyle \\frac{5.14 G_{f}}{f_{t}}$"
      ],
      "text/plain": [
       "5.14⋅G_f\n",
       "────────\n",
       "   fₜ   "
      ]
     },
     "execution_count": 117,
     "metadata": {},
     "output_type": "execute_result"
    }
   ],
   "source": [
    "w_tc = 5.14 * G_f/f_t\n",
    "w_tc"
   ]
  },
  {
   "cell_type": "code",
   "execution_count": 118,
   "metadata": {},
   "outputs": [
    {
     "data": {
      "image/png": "[encoded data removed]",
      "text/latex": [
       "$\\displaystyle f_{t} \\left(1 + \\frac{0.00736394681156715 c_{1}^{3} f_{t}^{3} w_{t}^{3}}{G_{f}^{3}}\\right) e^{- \\frac{0.194552529182879 c_{2} f_{t} w_{t}}{G_{f}}} - \\frac{0.194552529182879 f_{t} w_{t} \\left(c_{1}^{3} + 1\\right) e^{- c_{2}}}{G_{f}}$"
      ],
      "text/plain": [
       "                                          -0.194552529182879⋅c₂⋅fₜ⋅wₜ         \n",
       "   ⎛                          3   3   3⎞  ────────────────────────────        \n",
       "   ⎜    0.00736394681156715⋅c₁ ⋅fₜ ⋅wₜ ⎟              G_f                0.194\n",
       "fₜ⋅⎜1 + ───────────────────────────────⎟⋅ℯ                             - ─────\n",
       "   ⎜                     3             ⎟                                      \n",
       "   ⎝                  G_f              ⎠                                      \n",
       "\n",
       "                                 \n",
       "                   ⎛  3    ⎞  -c₂\n",
       "552529182879⋅fₜ⋅wₜ⋅⎝c₁  + 1⎠⋅ℯ   \n",
       "─────────────────────────────────\n",
       "            G_f                  \n",
       "                                 "
      ]
     },
     "execution_count": 118,
     "metadata": {},
     "output_type": "execute_result"
    }
   ],
   "source": [
    "sigma_t = f_t * (1 + ((c_1 * w_t)/(w_tc))**3) * sp.exp((-c_2* w_t)/(w_tc)) - (w_t/w_tc) * (1 + c_1**3) * sp.exp(-c_2)\n",
    "sigma_t"
   ]
  },
  {
   "cell_type": "code",
   "execution_count": 119,
   "metadata": {},
   "outputs": [],
   "source": [
    "params = {\n",
    "    c_1 : 3,\n",
    "    c_2 : 6.93,\n",
    "    G_f : 0.5,\n",
    "    f_t : 3\n",
    "}"
   ]
  },
  {
   "cell_type": "code",
   "execution_count": 120,
   "metadata": {},
   "outputs": [
    {
     "data": {
      "image/png": "[encoded data removed]",
      "text/latex": [
       "$\\displaystyle 0.856666666666667$"
      ],
      "text/plain": [
       "0.856666666666667"
      ]
     },
     "execution_count": 120,
     "metadata": {},
     "output_type": "execute_result"
    }
   ],
   "source": [
    "w_tc.subs(params)"
   ]
  },
  {
   "cell_type": "code",
   "execution_count": 121,
   "metadata": {},
   "outputs": [
    {
     "data": {
      "text/plain": [
       "<function _lambdifygenerated(w_t)>"
      ]
     },
     "execution_count": 121,
     "metadata": {},
     "output_type": "execute_result"
    }
   ],
   "source": [
    "get_sigma_t = sp.lambdify((w_t), sigma_t.subs(params), 'numpy')\n",
    "get_sigma_t"
   ]
  },
  {
   "cell_type": "code",
   "execution_count": 122,
   "metadata": {},
   "outputs": [
    {
     "name": "stderr",
     "output_type": "stream",
     "text": [
      "No handles with labels found to put in legend.\n"
     ]
    },
    {
     "data": {
      "text/plain": [
       "<matplotlib.legend.Legend at 0x7f62c7ee0580>"
      ]
     },
     "execution_count": 122,
     "metadata": {},
     "output_type": "execute_result"
    },
    {
     "data": {
      "image/png": "[encoded data removed]",
      "text/plain": [
       "<Figure size 576x288 with 1 Axes>"
      ]
     },
     "metadata": {
      "needs_background": "light"
     },
     "output_type": "display_data"
    }
   ],
   "source": [
    "w_t_ = np.linspace(0, 0.85, 100)\n",
    "sigma_t_ = get_sigma_t(w_t_)\n",
    "_, (ax1) = plt.subplots(1, 1, figsize=(8,4))\n",
    "ax1.plot(w_t_, sigma_t_, color='blue', lw=2)\n",
    "ax1.set_xlabel(r'$w$'); ax1.set_ylabel(r'$\\sigma_{t}$')\n",
    "ax1.legend()"
   ]
  },
  {
   "cell_type": "code",
   "execution_count": null,
   "metadata": {},
   "outputs": [],
   "source": []
  },
  {
   "cell_type": "code",
   "execution_count": null,
   "metadata": {},
   "outputs": [],
   "source": []
  }
 ],
 "metadata": {
  "kernelspec": {
   "display_name": "Python 3",
   "language": "python",
   "name": "python3"
  },
  "language_info": {
   "codemirror_mode": {
    "name": "ipython",
    "version": 3
   },
   "file_extension": ".py",
   "mimetype": "text/x-python",
   "name": "python",
   "nbconvert_exporter": "python",
   "pygments_lexer": "ipython3",
   "version": "3.9.0"
  },
  "toc": {
   "base_numbering": 1,
   "nav_menu": {},
   "number_sections": true,
   "sideBar": true,
   "skip_h1_title": false,
   "title_cell": "Table of Contents",
   "title_sidebar": "Contents",
   "toc_cell": false,
   "toc_position": {
    "height": "calc(100% - 180px)",
    "left": "10px",
    "top": "150px",
    "width": "207.933px"
   },
   "toc_section_display": true,
   "toc_window_display": true
  }
 },
 "nbformat": 4,
 "nbformat_minor": 4
}
