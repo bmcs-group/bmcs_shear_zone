{
 "cells": [
  {
   "cell_type": "markdown",
   "metadata": {},
   "source": [
    "## Dimensions of the Beam"
   ]
  },
  {
   "cell_type": "code",
   "execution_count": 1,
   "metadata": {},
   "outputs": [],
   "source": [
    "import sympy as sp\n",
    "import numpy as np\n",
    "import matplotlib.pylab as plt\n",
    "sp.init_printing()"
   ]
  },
  {
   "cell_type": "code",
   "execution_count": null,
   "metadata": {},
   "outputs": [],
   "source": [
    "b_w  = sp.Symbol('b_w', nonnegative = True)\n",
    "d = sp.Symbol('d', nonnegative = True)\n",
    "h = sp.Symbol('h', nonnegative = True)\n",
    "f_c = sp.Symbol('f_c', nonnegative = True)\n",
    "d_b =  sp.Symbol('d_b', nonnegative = True)\n",
    "n = sp.Symbol('n', nonnegative = True)\n",
    "n"
   ]
  },
  {
   "cell_type": "code",
   "execution_count": null,
   "metadata": {},
   "outputs": [],
   "source": [
    "params = {\n",
    "    b_w : 75,#mm\n",
    "    d : 230, #mm\n",
    "    h : 250, #mm\n",
    "    f_c : 37.9, #MPa\n",
    "    d_b : 25.4, #mm\n",
    "    n : 4, \n",
    "    h : 250, #mm\n",
    "    \n",
    "}"
   ]
  },
  {
   "cell_type": "markdown",
   "metadata": {},
   "source": [
    "| Parameters | Cavagnis(Thesis) | Huber(Journal) | Tureyan(Journal) |\n",
    "| --- | --- | --- |--- |\n",
    "| $B$| $250 \\;mm$| $75 \\;mm$ | $457 \\;mm$ |\n",
    "| $D$|  $570 \\;mm$ | $230 \\;mm$ | $360 \\;mm$ |\n",
    "| $H$| $600 \\;mm$ | $250 \\;mm$ | $406 \\;mm$ |\n",
    "| $f_c$| $33.3 \\;\\frac{N}{mm^2}$ | $37.9 \\;\\frac{N}{mm^2}$ | $34.5 \\;\\frac{N}{mm^2}$ |\n",
    "| $f_t$| $0.3 f_c^{2/3}$ and $0.3 (50 f_c)^{1/3}$ | $3.06\\;\\frac{N}{mm^2}$ | $-$ |\n",
    "| $d_a$| $ 16 \\;mm$ | $ 22 \\;mm$ | $19 \\;mm$ |\n",
    "| $n$| $2$ | $4$ | $7 $ |\n",
    "| $d_s$| $28 \\;mm$ | $25.4 \\;mm$ | $50.8 \\;mm$ |\n",
    "| $\\rho$| $0.88 \\%$ | $1.2 \\%$ |  $0.96 \\%$ |\n",
    "| $L$| $3870 \\;mm$ | $5.6H$| $330 \\;mm$ |\n",
    "| $L_{cc}$| $2700 \\;mm$ | $3.04D$ | $165 \\;mm$ |"
   ]
  },
  {
   "cell_type": "markdown",
   "metadata": {},
   "source": [
    "*$0.3 f_c^{2/3}\\; for \\; f_c \\;< 50 (\\mathrm{MPa})\\;  0.3 (50 f_c)^{1/3}\\; for \\; f_c > \\;50 \\mathrm{MPa}$"
   ]
  },
  {
   "cell_type": "markdown",
   "metadata": {},
   "source": [
    "## Reinforcement Area"
   ]
  },
  {
   "cell_type": "code",
   "execution_count": null,
   "metadata": {},
   "outputs": [],
   "source": [
    "A_b = n * np.pi * d_b**2 / 4 #mm2\n",
    "A_b.subs(params)"
   ]
  },
  {
   "cell_type": "markdown",
   "metadata": {},
   "source": [
    "## fib Model Code 2010\n",
    "In the case of monotonic loading, the reference $\\tau_{b0}$ value of the bond stresses between concrete and reinforcing bar for pullout and splitting failure can be calculated as a function of the relative displacement $s$ parallel to the bar axis.\n",
    "\\begin{equation}\n",
    "\\tau_{b0} = \\tau_{b\\, max} \\left(\\frac{s}{s_1}\\right)\\,\\, \\mathrm{for}\\,\\,0\\leq s \\leq s_1 \\\\\n",
    "\\tau_{b0} = \\tau_{b\\, max} \\,\\, \\mathrm{for}\\,\\,s_1 \\leq s \\leq s_2 \\\\\n",
    "\\tau_{b0} = \\tau_{b\\, max} - \\left( \\tau_{b\\, max} - \\tau_{bf} \\left(\\frac{s -s_2}{s_3 - s_2}\\right) \\right) \\,\\, \\mathrm{for}\\,\\,s_2 \\leq s \\leq s_3 \\\\\n",
    "\\tau_{b0} = \\tau_{bf} \\,\\, \\mathrm{for}\\,\\,s_3 < s \\\\\n",
    "\\end{equation}\n",
    "The parameters to be applied depend primarily on the failure mode i.e. Pullout or Splitting.\n",
    "### Pullout\n",
    "#### Good Bond Condition \n",
    "\\begin{equation}\n",
    "\\tau_{b\\,max} = 2.5 \\sqrt{f_{c}} \\,;\\, s_1  = 1.00 \\,;\\, s_2 = 2.00 \\,;\\, s_3 = c_{clear} \\,;\\, \\alpha = 0.4 \\,;\\, \n",
    "\\tau_{bf} = 0.4 \\tau_{bmax} \\\\\n",
    "\\end{equation}"
   ]
  },
  {
   "cell_type": "code",
   "execution_count": null,
   "metadata": {},
   "outputs": [],
   "source": [
    "s  = sp.Symbol('s', nonnegative = True)\n",
    "s_1  = sp.Symbol('s_1', nonnegative = True)\n",
    "s_2 = sp.Symbol('s_2', nonnegative = True)\n",
    "s_3 = sp.Symbol('s_3', nonnegative = True)\n",
    "alpha = sp.Symbol(r'\\alpha', nonnegative = True)"
   ]
  },
  {
   "cell_type": "code",
   "execution_count": null,
   "metadata": {},
   "outputs": [],
   "source": [
    "tau_b_max = 2.5 * sp.sqrt(f_c)\n",
    "tau_b_max"
   ]
  },
  {
   "cell_type": "code",
   "execution_count": null,
   "metadata": {},
   "outputs": [],
   "source": [
    "params_bm = {\n",
    "    f_c : 37.9, #MPa\n",
    "    s_1 : 1,\n",
    "    s_2 : 2,\n",
    "    s_3 : 4, ##c_clear = clear distance between ribs\n",
    "    alpha : 0.4\n",
    "}"
   ]
  },
  {
   "cell_type": "code",
   "execution_count": null,
   "metadata": {},
   "outputs": [],
   "source": [
    "tau_bf = 0.4 * tau_b_max\n",
    "tau_bf"
   ]
  },
  {
   "cell_type": "code",
   "execution_count": null,
   "metadata": {},
   "outputs": [],
   "source": [
    "tau_b0 = sp.Piecewise(\n",
    "    (tau_b_max * (s/s_1)**alpha,  s <= s_1),\n",
    "    (tau_b_max ,  s <= s_2),\n",
    "    (tau_b_max - ((tau_b_max - tau_bf)*(s - s_2)/(s_3 - s_2) ), s <= s_3),\n",
    "    (tau_bf, s >= s_3)\n",
    ")\n",
    "tau_b0"
   ]
  },
  {
   "cell_type": "code",
   "execution_count": null,
   "metadata": {},
   "outputs": [],
   "source": [
    "get_tau_b0 = sp.lambdify((s), tau_b0.subs(params_bm), 'numpy')\n",
    "get_tau_b0"
   ]
  },
  {
   "cell_type": "code",
   "execution_count": null,
   "metadata": {},
   "outputs": [],
   "source": [
    "_, (ax1) = plt.subplots(1, 1, figsize=(12,7))\n",
    "s_ = np.linspace(0, 6, 100)\n",
    "tau_b0_val = get_tau_b0(s_)\n",
    "ax1.plot(s_, tau_b0_val, color='blue', lw=2);\n",
    "ax1.set_xlabel(r'$s$'); ax1.set_ylabel(r'$\\tau_{b0}$');"
   ]
  },
  {
   "cell_type": "markdown",
   "metadata": {},
   "source": [
    "## Dowel Action"
   ]
  },
  {
   "cell_type": "markdown",
   "metadata": {},
   "source": [
    "### Baumann and Rusch Approach"
   ]
  },
  {
   "cell_type": "markdown",
   "metadata": {},
   "source": [
    "According to Baumann and Rusch, the vertical displacement along the opening of the crack and the shear resistance resulting from dowel action is assumed to be linear elastic before the maximum shear force $V_{dmax}$ is reached. Thereafter, the shear resistance remains constant upon any further shear displacement. Therefore, the maximum shear force carried by dowel action is given as:\n",
    "\\begin{equation}\n",
    "    V_{d\\,max} =  1.64 b_n d_b f_c^{1/3}\n",
    "    \\label{eq: V_dmax}\n",
    "\\end{equation}\n",
    "where, $b_n$ is the clear width of the beam $(b_w - n d_b)$. Here, $d_b, n, b_w$ represents diameter of bar, number of bars and width of beam respectively. \n",
    "\\begin{equation}\n",
    "    V_{da} =  V_{d\\,max} \\frac{\\delta}{0.08}\\,\\mathrm{for\\, \\delta < 0.08 \\,mm}\n",
    "    \\label{eq: V_daBR}\n",
    "\\end{equation}\n",
    "where $\\delta$ is vertical shear deformation.\n"
   ]
  },
  {
   "cell_type": "code",
   "execution_count": null,
   "metadata": {},
   "outputs": [],
   "source": [
    "delta = sp.Symbol('\\delta', nonnegative = True)"
   ]
  },
  {
   "cell_type": "code",
   "execution_count": null,
   "metadata": {},
   "outputs": [],
   "source": [
    "b_n = b_w - n * d_b\n",
    "b_n"
   ]
  },
  {
   "cell_type": "code",
   "execution_count": null,
   "metadata": {},
   "outputs": [],
   "source": [
    "V_d_max = 1.64 * b_n * d_b * f_c**(1/3)\n",
    "V_d_max"
   ]
  },
  {
   "cell_type": "code",
   "execution_count": null,
   "metadata": {},
   "outputs": [],
   "source": [
    "V_da_br = sp.Piecewise(\n",
    "    (V_d_max * (delta/0.08), delta < 0.08),\n",
    "    (V_d_max , delta >= 0.08)\n",
    "    ) \n",
    "V_da_br "
   ]
  },
  {
   "cell_type": "code",
   "execution_count": null,
   "metadata": {},
   "outputs": [],
   "source": [
    "get_V_da_br = sp.lambdify((delta), V_da_br.subs(params), 'numpy')\n",
    "get_V_da_br"
   ]
  },
  {
   "cell_type": "markdown",
   "metadata": {},
   "source": [
    "<img src=\"fig/dowel_fig_baumann.png\" width=\"800\"/>"
   ]
  },
  {
   "cell_type": "markdown",
   "metadata": {},
   "source": [
    "#### Martin's Approach for calculating $V_{da}$ and $\\delta_k$\n",
    "Peak force for pre-peak and ductile post peak dowel deformation is calculated as:\n",
    "\\begin{equation}\n",
    "    V_{da} =  V_{d\\,max} \\frac{\\delta}{0.05}\\left(2 - \\frac{\\delta}{0.05}\\right)\\,\\mathrm{for\\, \\delta \\leq 0.05 \\,mm}\n",
    "    \\label{eq: V_da1}\n",
    "\\end{equation}\n",
    "\\begin{equation}\n",
    "    V_{da} =  V_{d\\,max} \\frac{2.55 - \\delta}{2.5}\\,\\mathrm{for \\,\\delta > 0.05 \\,mm}\n",
    "    \\label{eq: V_da2}\n",
    "\\end{equation}\n",
    "where $\\delta$ is vertical shear deformation and is given as(SCPT):\n",
    "\\begin{equation}\n",
    "    \\delta = \\varphi \\left(\\frac{y_1}{\\tan{\\beta_1}} + \\frac{ y_2 }{\\tan{\\beta_2}} \\right) \n",
    "    \\label{eq: deltak}\n",
    "\\end{equation}\n",
    "$\\varphi, \\beta_{1,2}, y_{1,2}$ rotation of center of rotation of shear crack, angles of the cracks and length of the cracks in vertical coordinates."
   ]
  },
  {
   "cell_type": "code",
   "execution_count": null,
   "metadata": {},
   "outputs": [],
   "source": [
    "V_da = sp.Piecewise(\n",
    "    (V_d_max * (delta/0.05) * (2 - (delta/0.05)), delta <= 0.05),\n",
    "    (V_d_max * ((2.55 - delta) / 2.5), delta > 0.05)\n",
    "    ) \n",
    "V_da"
   ]
  },
  {
   "cell_type": "code",
   "execution_count": null,
   "metadata": {},
   "outputs": [],
   "source": [
    "get_V_da = sp.lambdify((delta), V_da.subs(params), 'numpy')\n",
    "get_V_da"
   ]
  },
  {
   "cell_type": "code",
   "execution_count": null,
   "metadata": {},
   "outputs": [],
   "source": [
    "_, (ax1) = plt.subplots(1, 1, figsize=(12,7))\n",
    "delta_ = np.linspace(0.001, 1, 100)\n",
    "V_da_val = get_V_da(delta_)\n",
    "ax1.plot(delta_, V_da_val, color='blue', lw=2);\n",
    "ax1.set_xlabel(r'$\\delta$'); ax1.set_ylabel(r'$V_{da}$');"
   ]
  },
  {
   "cell_type": "markdown",
   "metadata": {},
   "source": [
    "## Aggregate Interlock"
   ]
  },
  {
   "cell_type": "markdown",
   "metadata": {},
   "source": [
    "### Bazant's Approach refined by Gambarova\n",
    "The Rough Crack Model proposed by Bazant was later refined by Gambarova in which he modified the relationship between normal stresses $\\sigma_{ag}$ and crack kinematics (w and s). He further stated that the aggregate size $d_g$ plays a greater role in transferring shear. The stress can be transferred according to the following equations:\n",
    "\\begin{equation}\n",
    "\\sigma_{ag} = -0.62 \\sqrt{w} \\frac{r}{(1 + r^2)^{0.25}} \\tau_{ag} \\\\\n",
    "\\tau_{ag} = \\tau_0 \\left( 1 - \\sqrt{\\frac{2 w}{d_g}}\\right) r \\frac{a_3 + a_4 \\|r\\|^3}{1 + a_4 r^4}\n",
    "\\end{equation}\n",
    "where,\n",
    "\\begin{equation}\n",
    "r = \\frac{\\delta}{w} \\\\\n",
    "\\tau_0 = 0.25 f_c \\\\\n",
    "a_3 = \\frac{2.45}{\\tau_0} \\\\\n",
    "a_4 = 2.44 \\left( 1 - \\frac{4}{\\tau_0}\\right)\n",
    "\\end{equation}"
   ]
  },
  {
   "cell_type": "markdown",
   "metadata": {},
   "source": [
    "<img src=\"fig/aggregate_interlock.png\" width=\"800\"/>"
   ]
  },
  {
   "cell_type": "code",
   "execution_count": null,
   "metadata": {},
   "outputs": [],
   "source": [
    "w = sp.Symbol('w', nonnegative = True)\n",
    "d_g  = sp.Symbol('d_g', nonnegative = True)"
   ]
  },
  {
   "cell_type": "code",
   "execution_count": null,
   "metadata": {},
   "outputs": [],
   "source": [
    "r = delta/w\n",
    "r"
   ]
  },
  {
   "cell_type": "code",
   "execution_count": null,
   "metadata": {},
   "outputs": [],
   "source": [
    "tau_0 = 0.25 * f_c\n",
    "tau_0"
   ]
  },
  {
   "cell_type": "code",
   "execution_count": null,
   "metadata": {},
   "outputs": [],
   "source": [
    "a_3  =  2.45/tau_0\n",
    "a_3"
   ]
  },
  {
   "cell_type": "code",
   "execution_count": null,
   "metadata": {},
   "outputs": [],
   "source": [
    "a_4  = 2.44 * (1 - (4/tau_0))\n",
    "a_4"
   ]
  },
  {
   "cell_type": "code",
   "execution_count": null,
   "metadata": {},
   "outputs": [],
   "source": [
    "tau_ag = tau_0 * (1 - sp.sqrt((2 * w)/d_g)) * r * (a_3 + (a_4 * sp.Abs(r)**3)) / (1 + (a_4 *r**4))\n",
    "tau_ag"
   ]
  },
  {
   "cell_type": "code",
   "execution_count": null,
   "metadata": {},
   "outputs": [],
   "source": [
    "sigma_ag = -0.62 * sp.sqrt(w) * (r)/(1 + r**2)**0.25 * tau_ag\n",
    "sigma_ag"
   ]
  },
  {
   "cell_type": "code",
   "execution_count": null,
   "metadata": {},
   "outputs": [],
   "source": [
    "params_ag = {\n",
    "    f_c : 37.9, #MPa\n",
    "    d_g : 22, ##mm\n",
    "}"
   ]
  },
  {
   "cell_type": "code",
   "execution_count": null,
   "metadata": {},
   "outputs": [],
   "source": [
    "get_tau_ag = sp.lambdify((w, delta), tau_ag.subs(params_ag), 'numpy')\n",
    "tau_ag.subs(params_ag)"
   ]
  },
  {
   "cell_type": "code",
   "execution_count": null,
   "metadata": {},
   "outputs": [],
   "source": [
    "get_sigma_ag = sp.lambdify((w, delta), sigma_ag.subs(params_ag), 'numpy')\n",
    "sigma_ag.subs(params_ag)"
   ]
  },
  {
   "cell_type": "code",
   "execution_count": null,
   "metadata": {},
   "outputs": [],
   "source": [
    "w_ = np.linspace(0.1, 1, 3)\n",
    "tau_ag = np.zeros((100,3))\n",
    "for i, w in enumerate(w_):\n",
    "    delta_ = np.linspace(0.001, 1, 100)\n",
    "    for j, delta in enumerate(delta_):\n",
    "        tau_ag[j,i] = get_tau_ag(w, delta)\n",
    "#print(tau_ag);"
   ]
  },
  {
   "cell_type": "code",
   "execution_count": null,
   "metadata": {},
   "outputs": [],
   "source": [
    "w_ = np.linspace(0.1, 1, 3)\n",
    "sigma_ag = np.zeros((100,3))\n",
    "for i, w in enumerate(w_):\n",
    "    delta_ = np.linspace(0.001, 1, 100)\n",
    "    for j, delta in enumerate(delta_):\n",
    "        sigma_ag[j,i] = get_sigma_ag(w, delta)\n",
    "#print(sigma_ag)"
   ]
  },
  {
   "cell_type": "code",
   "execution_count": null,
   "metadata": {},
   "outputs": [],
   "source": [
    "_, (ax1) = plt.subplots(1, 1, figsize=(8,4))\n",
    "ax1.plot(delta_, tau_ag[:,0], color='blue', lw=2, label = (r'$w = 0.1$'))\n",
    "ax1.plot(delta_, tau_ag[:,1], color='black', lw=2, label = (r'$w = 0.5$'))\n",
    "ax1.plot(delta_, tau_ag[:,2], color='green', lw=2, label = (r'$w = 1$'))\n",
    "ax1.set_xlabel(r'$s$'); ax1.set_ylabel(r'$\\tau_{ag}$')\n",
    "ax1.legend()"
   ]
  },
  {
   "cell_type": "code",
   "execution_count": null,
   "metadata": {},
   "outputs": [],
   "source": [
    "_, (ax1) = plt.subplots(1, 1, figsize=(8,4))\n",
    "ax1.plot(delta_, sigma_ag[:,0], color='blue', lw=2, label = (r'$w = 0.1$'))\n",
    "ax1.plot(delta_, sigma_ag[:,1], color='black', lw=2, label = (r'$w = 0.5$'))\n",
    "ax1.plot(delta_, sigma_ag[:,2], color='green', lw=2, label = (r'$w = 1$'))\n",
    "ax1.set_xlabel(r'$s$'); ax1.set_ylabel(r'$\\sigma_{ag}$')\n",
    "ax1.legend()"
   ]
  },
  {
   "cell_type": "markdown",
   "metadata": {},
   "source": [
    "## Assumptions for tensile behavior (softening curve)"
   ]
  },
  {
   "cell_type": "markdown",
   "metadata": {},
   "source": [
    "The mathematical bilinear softening cohesive stress vs crack opening is given as:\n",
    "\\begin{gather*}\n",
    "\\sigma = f_\\mathrm{t} - (f_\\mathrm{t} - \\sigma_s(w_1)) \\frac{w}{w_1} ; \\: \\mathrm{for}\\; 0 \\leq w \\leq w_1\n",
    "\\end{gather*}\n",
    "\\begin{gather*}\n",
    "\\sigma = \\sigma_s \\frac{w_2 - w}{w_2 - w_1} ; \\: \\mathrm{for}\\; w_1 \\leq w \\leq w_2\n",
    "\\end{gather*}"
   ]
  },
  {
   "cell_type": "markdown",
   "metadata": {},
   "source": [
    "However, the parameters used in the bilinear softening curve can be evaluated by using formula by Xu. Hence,\n",
    "\\begin{gather*}\n",
    "\\sigma_s (CTOD_c) = \\frac{f_t(2 - f_t \\frac{CTOD_c}{G_f})}{\\alpha_f} \\\\\n",
    "w_1 = CTOD_c \\\\\n",
    "w_2 = \\alpha_f \\frac{G_f}{f_t} \\\\\n",
    "\\alpha_f = \\lambda - \\frac{d_{max}}{8} \\\\\n",
    "\\end{gather*}\n",
    "where, $f_t$ represents tensile strength that can be obtained by either splitting tests or by the formula $f_t = 0.4983 \\sqrt f_c$ . Here, $G_f$, $\\lambda$, $\\alpha_f$ represents Fracture Energy, calibration factor, deformation coefficient of concrete respectively. Furthermore, $d_{max}$ depicts maximum size of coarse aggregate and $CTOD_c$ is the critical crack tip opening displacement which can be determined by replacing $x = a_0$ in the equation for $w_x$."
   ]
  },
  {
   "cell_type": "code",
   "execution_count": null,
   "metadata": {},
   "outputs": [],
   "source": [
    "f_t = sp.Symbol('f_t', nonnegative = True)\n",
    "CTOD_c = sp.Symbol('CTOD_c', nonnegative = True)\n",
    "G_f  = sp.Symbol('G_f', nonnegative = True)\n",
    "w_1 = CTOD_c\n",
    "d_ag = sp.Symbol('d_{ag}', nonnegative = True)\n",
    "lamda = sp.Symbol('\\lambda', nonnegative = True)\n",
    "w_2 = sp.Symbol('w_2', nonnegative = True)\n",
    "w = sp.Symbol('w', nonnegative = True)"
   ]
  },
  {
   "cell_type": "code",
   "execution_count": null,
   "metadata": {},
   "outputs": [],
   "source": [
    "alpha_f = lamda - d_ag/8\n",
    "alpha_f"
   ]
  },
  {
   "cell_type": "code",
   "execution_count": null,
   "metadata": {},
   "outputs": [],
   "source": [
    "sigma_s = (f_t * (2 - f_t * (CTOD_c / G_f))) / alpha_f\n",
    "sigma_s"
   ]
  },
  {
   "cell_type": "code",
   "execution_count": null,
   "metadata": {},
   "outputs": [],
   "source": [
    "sigma_s * (w_2 - w) / (w_2 - w_1)"
   ]
  },
  {
   "cell_type": "code",
   "execution_count": null,
   "metadata": {},
   "outputs": [],
   "source": [
    "sigma_w = sp.Piecewise(\n",
    "            (f_t - (f_t - sigma_s) * (w / w_1), w <= w_1 ),\n",
    "            (sigma_s * (w_2 - w) / (w_2 - w_1),  w <= w_2),\n",
    ")\n",
    "sigma_w"
   ]
  },
  {
   "cell_type": "code",
   "execution_count": null,
   "metadata": {},
   "outputs": [],
   "source": [
    "params = {\n",
    "    d_ag : 22,\n",
    "    CTOD_c : 0.3,\n",
    "    lamda : 4,\n",
    "    f_t : 3,\n",
    "    w_2 : 1,\n",
    "    G_f : 0.5\n",
    "}"
   ]
  },
  {
   "cell_type": "code",
   "execution_count": null,
   "metadata": {},
   "outputs": [],
   "source": [
    "get_sigma_w = sp.lambdify((w), sigma_w.subs(params), 'numpy')\n",
    "sigma_w.subs(params)"
   ]
  },
  {
   "cell_type": "code",
   "execution_count": null,
   "metadata": {},
   "outputs": [],
   "source": [
    "w_ = np.linspace(0, 1,100)\n",
    "sigma_w_ = get_sigma_w(w_)\n",
    "_, (ax1) = plt.subplots(1, 1, figsize=(8,4))\n",
    "ax1.plot(w_, sigma_w_, color='blue', lw=2)\n",
    "ax1.set_xlabel(r'$w$'); ax1.set_ylabel(r'$\\sigma_{w}$')\n",
    "ax1.legend()"
   ]
  },
  {
   "cell_type": "code",
   "execution_count": null,
   "metadata": {},
   "outputs": [],
   "source": [
    "sigma_w_ "
   ]
  },
  {
   "cell_type": "markdown",
   "metadata": {},
   "source": [
    "## Menetry-William Failure Surface (Compressive Model)\n",
    "This model consists of an ascending branch that represents the hardening phase. The material is found to behave linearly in the hardening phase upto a compressive stress value of $f_{co} = 2 f_t$. The nonlinear behavior is given by:\n",
    "\\begin{equation}\n",
    "\\sigma_c = f_{co} + (f_c - f_{co}) \\sqrt{1 - \\left(\\frac{\\epsilon_{cp} - \\epsilon_{p}}{\\epsilon_{cp}}\\right)^2}\n",
    "\\end{equation}\n",
    "here, $\\epsilon_p, \\epsilon_{cp}$ is the plastic strain, plastic strain corresponding to compressive strength. "
   ]
  },
  {
   "cell_type": "code",
   "execution_count": null,
   "metadata": {},
   "outputs": [],
   "source": [
    "eps_cp = sp.Symbol('\\epsilon_{cp}', real = True)\n",
    "eps_p = sp.Symbol('\\epsilon_{p}', real = True)"
   ]
  },
  {
   "cell_type": "code",
   "execution_count": null,
   "metadata": {},
   "outputs": [],
   "source": [
    "f_co = 2* f_t\n",
    "f_co"
   ]
  },
  {
   "cell_type": "code",
   "execution_count": null,
   "metadata": {},
   "outputs": [],
   "source": [
    "sigma_c = sp.Piecewise(\n",
    "(2 * f_t, eps_p == 0),\n",
    "(f_co + (f_c - f_co) * sp.sqrt(1 - ((eps_cp - eps_p)/(eps_cp))**2), eps_p <= eps_cp),\n",
    "(f_c, eps_p > eps_cp)\n",
    ")\n",
    "-sigma_c"
   ]
  },
  {
   "cell_type": "code",
   "execution_count": null,
   "metadata": {},
   "outputs": [],
   "source": [
    "params = {\n",
    "    f_t : 3,\n",
    "    f_c : 37.9,\n",
    "    eps_cp : -0.0014\n",
    "}"
   ]
  },
  {
   "cell_type": "code",
   "execution_count": null,
   "metadata": {},
   "outputs": [],
   "source": [
    "get_sigma_c = sp.lambdify((eps_p), -sigma_c.subs(params), 'numpy')\n",
    "-sigma_c.subs(params)"
   ]
  },
  {
   "cell_type": "code",
   "execution_count": null,
   "metadata": {},
   "outputs": [],
   "source": [
    "eps_p_ = np.linspace(-0.002, 0, 100)\n",
    "sigma_c_ = get_sigma_c(eps_p_)\n",
    "_, (ax1) = plt.subplots(1, 1, figsize=(8,4))\n",
    "ax1.plot(eps_p_, sigma_c_, color='blue', lw=2)\n",
    "ax1.set_xlabel(r'$\\epsilon$'); ax1.set_ylabel(r'$\\sigma_{c}$')\n",
    "ax1.legend()"
   ]
  },
  {
   "cell_type": "markdown",
   "metadata": {},
   "source": [
    "## Tension Model experimentally derived by Hordijk\n",
    "The exponential function of the crack opening is given by:\n",
    "\\begin{equation}\n",
    "\\sigma_t = f_t \\left( 1 + \\left(c_1\\frac{w_t}{w_{tc}}\\right)^3\\right) \\exp\\left( -c_2 \\frac{w_t}{w_{tc}}\\right)-\\left(\\frac{w_t}{w_{tc}}\\right)(1+c_1^3)\\exp(-c_2)\n",
    "\\end{equation}"
   ]
  },
  {
   "cell_type": "code",
   "execution_count": null,
   "metadata": {},
   "outputs": [],
   "source": [
    "w_t = sp.Symbol('w_t', nonnegative = True)\n",
    "#w_tc = sp.Symbol('w_{tc}', nonnegative = True)\n",
    "c_2 = sp.Symbol('c_2', nonnegative = True)\n",
    "c_1 = sp.Symbol('c_1', nonnegative = True)"
   ]
  },
  {
   "cell_type": "code",
   "execution_count": null,
   "metadata": {},
   "outputs": [],
   "source": [
    "w_tc = 5.14 * G_f/f_t\n",
    "w_tc"
   ]
  },
  {
   "cell_type": "code",
   "execution_count": null,
   "metadata": {},
   "outputs": [],
   "source": [
    "sigma_t = f_t * (1 + ((c_1 * w_t)/(w_tc))**3) * sp.exp((-c_2* w_t)/(w_tc)) - (w_t/w_tc) * (1 + c_1**3) * sp.exp(-c_2)\n",
    "sigma_t"
   ]
  },
  {
   "cell_type": "code",
   "execution_count": null,
   "metadata": {},
   "outputs": [],
   "source": [
    "params = {\n",
    "    c_1 : 3,\n",
    "    c_2 : 6.93,\n",
    "    G_f : 0.5,\n",
    "    f_t : 3\n",
    "}"
   ]
  },
  {
   "cell_type": "code",
   "execution_count": null,
   "metadata": {},
   "outputs": [],
   "source": [
    "w_tc.subs(params)"
   ]
  },
  {
   "cell_type": "code",
   "execution_count": null,
   "metadata": {},
   "outputs": [],
   "source": [
    "get_sigma_t = sp.lambdify((w_t), sigma_t.subs(params), 'numpy')\n",
    "get_sigma_t"
   ]
  },
  {
   "cell_type": "code",
   "execution_count": null,
   "metadata": {},
   "outputs": [],
   "source": [
    "w_t_ = np.linspace(0, 0.85, 100)\n",
    "sigma_t_ = get_sigma_t(w_t_)\n",
    "_, (ax1) = plt.subplots(1, 1, figsize=(8,4))\n",
    "ax1.plot(w_t_, sigma_t_, color='blue', lw=2)\n",
    "ax1.set_xlabel(r'$w$'); ax1.set_ylabel(r'$\\sigma_{t}$')\n",
    "ax1.legend()"
   ]
  },
  {
   "cell_type": "code",
   "execution_count": null,
   "metadata": {},
   "outputs": [],
   "source": []
  },
  {
   "cell_type": "code",
   "execution_count": null,
   "metadata": {},
   "outputs": [],
   "source": []
  }
 ],
 "metadata": {
  "kernelspec": {
   "display_name": "Python 3",
   "language": "python",
   "name": "python3"
  },
  "language_info": {
   "codemirror_mode": {
    "name": "ipython",
    "version": 3
   },
   "file_extension": ".py",
   "mimetype": "text/x-python",
   "name": "python",
   "nbconvert_exporter": "python",
   "pygments_lexer": "ipython3",
   "version": "3.9.1"
  },
  "toc": {
   "base_numbering": 1,
   "nav_menu": {},
   "number_sections": true,
   "sideBar": true,
   "skip_h1_title": false,
   "title_cell": "Table of Contents",
   "title_sidebar": "Contents",
   "toc_cell": false,
   "toc_position": {
    "height": "calc(100% - 180px)",
    "left": "10px",
    "top": "150px",
    "width": "207.933px"
   },
   "toc_section_display": true,
   "toc_window_display": true
  }
 },
 "nbformat": 4,
 "nbformat_minor": 4
}
