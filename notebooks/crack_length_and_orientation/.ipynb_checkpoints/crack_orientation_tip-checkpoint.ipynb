{
 "cells": [
  {
   "cell_type": "code",
   "execution_count": 1,
   "metadata": {
    "pycharm": {
     "name": "#%%\n"
    }
   },
   "outputs": [],
   "source": [
    "import sympy as sp\n",
    "import numpy as np\n",
    "import matplotlib.pylab as plt\n",
    "sp.init_printing()"
   ]
  },
  {
   "cell_type": "markdown",
   "metadata": {},
   "source": [
    "# Principal stress directions in FPS"
   ]
  },
  {
   "cell_type": "markdown",
   "metadata": {},
   "source": [
    "The corresponding tensile stress at this position which must be perpendicular to the crack propagation\n",
    "\\begin{align}\n",
    "\\sigma^{\\mathrm{tip},\\psi}_1 = f_{\\mathrm{t}}\n",
    "\\end{align}"
   ]
  },
  {
   "cell_type": "markdown",
   "metadata": {},
   "source": [
    "\\begin{align}\n",
    "\\sigma_{ij} =\n",
    "\\left[\n",
    "\\begin{array}{cc}\n",
    "\\sigma_{x} & \\tau^\\mathrm{tip} \\\\\n",
    "\\tau^\\mathrm{tip} & 0\n",
    "\\end{array}\n",
    "\\right]\n",
    "\\end{align}"
   ]
  },
  {
   "cell_type": "markdown",
   "metadata": {},
   "source": [
    "\\begin{align}\n",
    "{\\tilde{\\sigma}^{\\theta}_{ij}} =\n",
    "\\left[\n",
    "\\begin{array}{cc}\n",
    "\\mathrm{f_{ct}} & 0 \\\\\n",
    "0 & x\n",
    "\\end{array}\n",
    "\\right]\n",
    "\\end{align}"
   ]
  },
  {
   "cell_type": "markdown",
   "metadata": {},
   "source": [
    "<img src=\"fig/transformation.png\" width=\"500\"/>"
   ]
  },
  {
   "cell_type": "markdown",
   "metadata": {},
   "source": [
    "As we know that the stress profile along the propagating crack is the transformation of the tip stress profile along the angle of propagation $\\theta$, therefore, we can obtain the stress state at the crack tip by retracing back from the stress field of the propagating crack back to crack tip stress by inverting the transformation procedure as shown with the help of python code below:"
   ]
  },
  {
   "cell_type": "code",
   "execution_count": 2,
   "metadata": {},
   "outputs": [],
   "source": [
    "f_ct = sp.Symbol(r'f_{ct}', nonnegative = True)\n",
    "c_t = sp.Symbol(r'c_t', nonnegative = True)\n",
    "s_t = sp.Symbol(r's_t', nonnegative = True)\n",
    "sigma_x = sp.Symbol(r'\\sigma_x', nonnegative = True)\n",
    "tau_tip = sp.Symbol(r'\\tau_{\\mathrm{tip}}', nonnegative = True)\n",
    "x = sp.Symbol(r'x', nonnegative = True)\n",
    "theta = sp.Symbol(r'\\theta', nonnegative = True)"
   ]
  },
  {
   "cell_type": "code",
   "execution_count": 3,
   "metadata": {},
   "outputs": [
    {
     "data": {
      "image/png": "[encoded data removed]",
      "text/latex": [
       "$\\displaystyle \\left[\\begin{matrix}\\sigma_x & \\tau_{\\mathrm{tip}}\\\\\\tau_{\\mathrm{tip}} & 0\\end{matrix}\\right]$"
      ],
      "text/plain": [
       "⎡      \\sigmaₓ        \\tau_{\\mathrm{tip}}⎤\n",
       "⎢                                        ⎥\n",
       "⎣\\tau_{\\mathrm{tip}}           0         ⎦"
      ]
     },
     "execution_count": 3,
     "metadata": {},
     "output_type": "execute_result"
    }
   ],
   "source": [
    "sigma_tip_ij = sp.Matrix([[sigma_x, tau_tip],\n",
    "                       [tau_tip, 0]])\n",
    "sigma_tip_ij"
   ]
  },
  {
   "cell_type": "code",
   "execution_count": 4,
   "metadata": {},
   "outputs": [
    {
     "data": {
      "image/png": "[encoded data removed]",
      "text/latex": [
       "$\\displaystyle \\left[\\begin{matrix}f_{ct} & 0\\\\0 & x\\end{matrix}\\right]$"
      ],
      "text/plain": [
       "⎡f_{ct}  0⎤\n",
       "⎢         ⎥\n",
       "⎣  0     x⎦"
      ]
     },
     "execution_count": 4,
     "metadata": {},
     "output_type": "execute_result"
    }
   ],
   "source": [
    "tilde_sigma_theta = sp.Matrix([[f_ct, 0],\n",
    "                       [0, x]])\n",
    "tilde_sigma_theta"
   ]
  },
  {
   "cell_type": "markdown",
   "metadata": {},
   "source": [
    "## Transformation Matrix\n",
    "\\begin{align}\n",
    "\\mathrm{R}^{\\theta}_{kl} =\n",
    "\\left[\n",
    "\\begin{array}{cc}\n",
    "\\cos \\theta & - \\sin \\theta \\\\\n",
    "\\sin \\theta & \\cos \\theta\n",
    "\\end{array}\n",
    "\\right]\n",
    "\\end{align}"
   ]
  },
  {
   "cell_type": "code",
   "execution_count": 5,
   "metadata": {},
   "outputs": [
    {
     "data": {
      "image/png": "[encoded data removed]",
      "text/latex": [
       "$\\displaystyle \\left[\\begin{matrix}c_{t} & - s_{t}\\\\s_{t} & c_{t}\\end{matrix}\\right]$"
      ],
      "text/plain": [
       "⎡cₜ  -sₜ⎤\n",
       "⎢       ⎥\n",
       "⎣sₜ  cₜ ⎦"
      ]
     },
     "execution_count": 5,
     "metadata": {},
     "output_type": "execute_result"
    }
   ],
   "source": [
    "R_theta_kl = sp.Matrix([[c_t, -s_t],\n",
    "                       [s_t, c_t]])\n",
    "R_theta_kl"
   ]
  },
  {
   "cell_type": "code",
   "execution_count": 6,
   "metadata": {},
   "outputs": [
    {
     "data": {
      "image/png": "[encoded data removed]",
      "text/latex": [
       "$\\displaystyle \\left[\\begin{matrix}\\tau_{\\mathrm{tip}} c_{t} s_{t} + c_{t} \\left(\\sigma_x c_{t} + \\tau_{\\mathrm{tip}} s_{t}\\right) & \\tau_{\\mathrm{tip}} c_{t}^{2} - s_{t} \\left(\\sigma_x c_{t} + \\tau_{\\mathrm{tip}} s_{t}\\right)\\\\- \\tau_{\\mathrm{tip}} s_{t}^{2} + c_{t} \\left(- \\sigma_x s_{t} + \\tau_{\\mathrm{tip}} c_{t}\\right) & - \\tau_{\\mathrm{tip}} c_{t} s_{t} - s_{t} \\left(- \\sigma_x s_{t} + \\tau_{\\mathrm{tip}} c_{t}\\right)\\end{matrix}\\right]$"
      ],
      "text/plain": [
       "⎡                                                                             \n",
       "⎢\\tau_{\\mathrm{tip}}⋅cₜ⋅sₜ + cₜ⋅(\\sigmaₓ⋅cₜ + \\tau_{\\mathrm{tip}}⋅sₜ)     \\tau\n",
       "⎢                                                                             \n",
       "⎢                        2                                                    \n",
       "⎣- \\tau_{\\mathrm{tip}}⋅sₜ  + cₜ⋅(-\\sigmaₓ⋅sₜ + \\tau_{\\mathrm{tip}}⋅cₜ)  -\\tau_\n",
       "\n",
       "                  2                                             ⎤\n",
       "_{\\mathrm{tip}}⋅cₜ  - sₜ⋅(\\sigmaₓ⋅cₜ + \\tau_{\\mathrm{tip}}⋅sₜ)  ⎥\n",
       "                                                                ⎥\n",
       "                                                                ⎥\n",
       "{\\mathrm{tip}}⋅cₜ⋅sₜ - sₜ⋅(-\\sigmaₓ⋅sₜ + \\tau_{\\mathrm{tip}}⋅cₜ)⎦"
      ]
     },
     "execution_count": 6,
     "metadata": {},
     "output_type": "execute_result"
    }
   ],
   "source": [
    "tilde_sigma_theta_ij = R_theta_kl.T * sigma_tip_ij * R_theta_kl\n",
    "tilde_sigma_theta_ij"
   ]
  },
  {
   "cell_type": "markdown",
   "metadata": {},
   "source": [
    "## Calculating $\\sigma_x$"
   ]
  },
  {
   "cell_type": "code",
   "execution_count": 7,
   "metadata": {},
   "outputs": [
    {
     "data": {
      "image/png": "[encoded data removed]",
      "text/latex": [
       "$\\displaystyle \\left[\\begin{matrix}\\tau_{\\mathrm{tip}} c_{t} s_{t} + c_{t} \\left(\\sigma_x c_{t} + \\tau_{\\mathrm{tip}} s_{t}\\right) & \\tau_{\\mathrm{tip}} c_{t}^{2} - s_{t} \\left(\\sigma_x c_{t} + \\tau_{\\mathrm{tip}} s_{t}\\right)\\\\- \\tau_{\\mathrm{tip}} s_{t}^{2} + c_{t} \\left(- \\sigma_x s_{t} + \\tau_{\\mathrm{tip}} c_{t}\\right) & - \\tau_{\\mathrm{tip}} c_{t} s_{t} - s_{t} \\left(- \\sigma_x s_{t} + \\tau_{\\mathrm{tip}} c_{t}\\right)\\end{matrix}\\right] = \\left[\\begin{matrix}f_{ct} & 0\\\\0 & x\\end{matrix}\\right]$"
      ],
      "text/plain": [
       "⎡                                                                             \n",
       "⎢\\tau_{\\mathrm{tip}}⋅cₜ⋅sₜ + cₜ⋅(\\sigmaₓ⋅cₜ + \\tau_{\\mathrm{tip}}⋅sₜ)     \\tau\n",
       "⎢                                                                             \n",
       "⎢                        2                                                    \n",
       "⎣- \\tau_{\\mathrm{tip}}⋅sₜ  + cₜ⋅(-\\sigmaₓ⋅sₜ + \\tau_{\\mathrm{tip}}⋅cₜ)  -\\tau_\n",
       "\n",
       "                  2                                             ⎤             \n",
       "_{\\mathrm{tip}}⋅cₜ  - sₜ⋅(\\sigmaₓ⋅cₜ + \\tau_{\\mathrm{tip}}⋅sₜ)  ⎥   ⎡f_{ct}  0\n",
       "                                                                ⎥ = ⎢         \n",
       "                                                                ⎥   ⎣  0     x\n",
       "{\\mathrm{tip}}⋅cₜ⋅sₜ - sₜ⋅(-\\sigmaₓ⋅sₜ + \\tau_{\\mathrm{tip}}⋅cₜ)⎦             \n",
       "\n",
       " \n",
       "⎤\n",
       "⎥\n",
       "⎦\n",
       " "
      ]
     },
     "execution_count": 7,
     "metadata": {},
     "output_type": "execute_result"
    }
   ],
   "source": [
    "sp.Eq(tilde_sigma_theta_ij, tilde_sigma_theta)"
   ]
  },
  {
   "cell_type": "code",
   "execution_count": 8,
   "metadata": {},
   "outputs": [
    {
     "data": {
      "image/png": "[encoded data removed]",
      "text/latex": [
       "$\\displaystyle \\frac{- 2 \\tau_{\\mathrm{tip}} c_{t} s_{t} + f_{ct}}{c_{t}^{2}}$"
      ],
      "text/plain": [
       "-2⋅\\tau_{\\mathrm{tip}}⋅cₜ⋅sₜ + f_{ct}\n",
       "─────────────────────────────────────\n",
       "                   2                 \n",
       "                 cₜ                  "
      ]
     },
     "execution_count": 8,
     "metadata": {},
     "output_type": "execute_result"
    }
   ],
   "source": [
    "sigma_x_val = sp.solve(sp.Eq(tilde_sigma_theta_ij[0,0], tilde_sigma_theta[0,0]), sigma_x)\n",
    "sigma_x_val[0]"
   ]
  },
  {
   "cell_type": "code",
   "execution_count": 9,
   "metadata": {},
   "outputs": [
    {
     "data": {
      "image/png": "[encoded data removed]",
      "text/latex": [
       "$\\displaystyle \\left[\\begin{matrix}f_{ct} & 0\\\\0 & x\\end{matrix}\\right] = \\left[\\begin{matrix}f_{ct} & \\frac{\\tau_{\\mathrm{tip}} c_{t}^{3} - s_{t} \\left(- \\tau_{\\mathrm{tip}} c_{t} s_{t} + f_{ct}\\right)}{c_{t}}\\\\\\tau_{\\mathrm{tip}} c_{t}^{2} + \\tau_{\\mathrm{tip}} s_{t}^{2} - \\frac{f_{ct} s_{t}}{c_{t}} & - \\frac{s_{t} \\left(2 \\tau_{\\mathrm{tip}} c_{t}^{3} + s_{t} \\left(2 \\tau_{\\mathrm{tip}} c_{t} s_{t} - f_{ct}\\right)\\right)}{c_{t}^{2}}\\end{matrix}\\right]$"
      ],
      "text/plain": [
       "              ⎡                                                               \n",
       "              ⎢                                                               \n",
       "              ⎢                           f_{ct}                              \n",
       "              ⎢                                                               \n",
       "⎡f_{ct}  0⎤   ⎢                                                               \n",
       "⎢         ⎥ = ⎢                                                               \n",
       "⎣  0     x⎦   ⎢                      2                         2   f_{ct}⋅sₜ  \n",
       "              ⎢\\tau_{\\mathrm{tip}}⋅cₜ  + \\tau_{\\mathrm{tip}}⋅sₜ  - ─────────  \n",
       "              ⎢                                                        cₜ     \n",
       "              ⎣                                                               \n",
       "\n",
       "                           3                                                ⎤\n",
       "     \\tau_{\\mathrm{tip}}⋅cₜ  - sₜ⋅(-\\tau_{\\mathrm{tip}}⋅cₜ⋅sₜ + f_{ct})     ⎥\n",
       "     ──────────────────────────────────────────────────────────────────     ⎥\n",
       "                                     cₜ                                     ⎥\n",
       "                                                                            ⎥\n",
       "    ⎛                        3                                            ⎞ ⎥\n",
       "-sₜ⋅⎝2⋅\\tau_{\\mathrm{tip}}⋅cₜ  + sₜ⋅(2⋅\\tau_{\\mathrm{tip}}⋅cₜ⋅sₜ - f_{ct})⎠ ⎥\n",
       "────────────────────────────────────────────────────────────────────────────⎥\n",
       "                                      2                                     ⎥\n",
       "                                    cₜ                                      ⎦"
      ]
     },
     "execution_count": 9,
     "metadata": {},
     "output_type": "execute_result"
    }
   ],
   "source": [
    "sp.simplify(sp.Eq(tilde_sigma_theta_ij.subs(sigma_x, sigma_x_val[0]), tilde_sigma_theta))"
   ]
  },
  {
   "cell_type": "code",
   "execution_count": 10,
   "metadata": {},
   "outputs": [
    {
     "data": {
      "image/png": "[encoded data removed]",
      "text/latex": [
       "$\\displaystyle \\left[ - 2 \\operatorname{atan}{\\left(\\frac{f_{ct} - \\sqrt{\\tau_{\\mathrm{tip}}^{2} + f_{ct}^{2}}}{\\tau_{\\mathrm{tip}}} \\right)}, \\  - 2 \\operatorname{atan}{\\left(\\frac{f_{ct} + \\sqrt{\\tau_{\\mathrm{tip}}^{2} + f_{ct}^{2}}}{\\tau_{\\mathrm{tip}}} \\right)}\\right]$"
      ],
      "text/plain": [
       "⎡       ⎛            ________________________________⎞         ⎛            __\n",
       "⎢       ⎜           ╱                    2         2 ⎟         ⎜           ╱  \n",
       "⎢       ⎜f_{ct} - ╲╱  \\tau_{\\mathrm{tip}}  + f_{ct}  ⎟         ⎜f_{ct} + ╲╱  \\\n",
       "⎢-2⋅atan⎜────────────────────────────────────────────⎟, -2⋅atan⎜──────────────\n",
       "⎣       ⎝            \\tau_{\\mathrm{tip}}             ⎠         ⎝            \\t\n",
       "\n",
       "______________________________⎞⎤\n",
       "                  2         2 ⎟⎥\n",
       "tau_{\\mathrm{tip}}  + f_{ct}  ⎟⎥\n",
       "──────────────────────────────⎟⎥\n",
       "au_{\\mathrm{tip}}             ⎠⎦"
      ]
     },
     "execution_count": 10,
     "metadata": {},
     "output_type": "execute_result"
    }
   ],
   "source": [
    "theta_val = sp.solve(sp.Eq(tilde_sigma_theta_ij.subs(sigma_x, sigma_x_val[0]).subs(c_t, sp.cos(theta)).subs(s_t, sp.sin(theta))[0,1]\\\n",
    "                                                                       , tilde_sigma_theta[0,1]), theta)\n",
    "theta_val"
   ]
  },
  {
   "cell_type": "code",
   "execution_count": 11,
   "metadata": {},
   "outputs": [
    {
     "data": {
      "text/plain": [
       "<function _lambdifygenerated(Dummy_171)>"
      ]
     },
     "execution_count": 11,
     "metadata": {},
     "output_type": "execute_result"
    }
   ],
   "source": [
    "f_ct_val = 3\n",
    "get_theta_ = sp.lambdify((tau_tip), theta_val[0].subs(f_ct, f_ct_val), 'numpy')\n",
    "get_theta_"
   ]
  },
  {
   "cell_type": "code",
   "execution_count": 12,
   "metadata": {},
   "outputs": [
    {
     "name": "stderr",
     "output_type": "stream",
     "text": [
      "<string>:2: RuntimeWarning: invalid value encountered in true_divide\n"
     ]
    },
    {
     "data": {
      "image/png": "[encoded data removed]",
      "text/plain": [
       "<Figure size 720x360 with 1 Axes>"
      ]
     },
     "metadata": {
      "needs_background": "light"
     },
     "output_type": "display_data"
    }
   ],
   "source": [
    "_, (ax1) = plt.subplots(1, 1, figsize=(10,5))\n",
    "#f_ct_val = 3\n",
    "tau_tip_ = np.linspace(0, 10, 100)\n",
    "theta_val = get_theta_(tau_tip_)\n",
    "ax1.plot(tau_tip_, theta_val/np.pi * 180, color='blue', lw=2);"
   ]
  },
  {
   "cell_type": "markdown",
   "metadata": {},
   "source": [
    "## Calculating x"
   ]
  },
  {
   "cell_type": "code",
   "execution_count": 13,
   "metadata": {},
   "outputs": [
    {
     "data": {
      "image/png": "[encoded data removed]",
      "text/latex": [
       "$\\displaystyle - \\frac{s_{t} \\left(2 \\tau_{\\mathrm{tip}} c_{t}^{3} + s_{t} \\left(2 \\tau_{\\mathrm{tip}} c_{t} s_{t} - f_{ct}\\right)\\right)}{c_{t}^{2}}$"
      ],
      "text/plain": [
       "    ⎛                        3                                            ⎞ \n",
       "-sₜ⋅⎝2⋅\\tau_{\\mathrm{tip}}⋅cₜ  + sₜ⋅(2⋅\\tau_{\\mathrm{tip}}⋅cₜ⋅sₜ - f_{ct})⎠ \n",
       "────────────────────────────────────────────────────────────────────────────\n",
       "                                      2                                     \n",
       "                                    cₜ                                      "
      ]
     },
     "execution_count": 13,
     "metadata": {},
     "output_type": "execute_result"
    }
   ],
   "source": [
    "tilde_sigma_theta_jj = sp.simplify(tilde_sigma_theta_ij[1,1].subs(sigma_x, sigma_x_val[0]))\n",
    "tilde_sigma_theta_jj"
   ]
  },
  {
   "cell_type": "code",
   "execution_count": 14,
   "metadata": {},
   "outputs": [
    {
     "data": {
      "image/png": "[encoded data removed]",
      "text/latex": [
       "$\\displaystyle \\frac{s_{t} \\left(- 2 \\tau_{\\mathrm{tip}} c_{t}^{3} - 2 \\tau_{\\mathrm{tip}} c_{t} s_{t}^{2} + f_{ct} s_{t}\\right)}{c_{t}^{2}}$"
      ],
      "text/plain": [
       "   ⎛                          3                              2            ⎞\n",
       "sₜ⋅⎝- 2⋅\\tau_{\\mathrm{tip}}⋅cₜ  - 2⋅\\tau_{\\mathrm{tip}}⋅cₜ⋅sₜ  + f_{ct}⋅sₜ⎠\n",
       "───────────────────────────────────────────────────────────────────────────\n",
       "                                      2                                    \n",
       "                                    cₜ                                     "
      ]
     },
     "execution_count": 14,
     "metadata": {},
     "output_type": "execute_result"
    }
   ],
   "source": [
    "x_val = sp.solve(sp.Eq(tilde_sigma_theta_jj, tilde_sigma_theta[1,1]), x)\n",
    "x_val[0]"
   ]
  },
  {
   "cell_type": "code",
   "execution_count": null,
   "metadata": {
    "pycharm": {
     "name": "#%%\n"
    }
   },
   "outputs": [],
   "source": []
  }
 ],
 "metadata": {
  "kernelspec": {
   "display_name": "Python 3",
   "language": "python",
   "name": "python3"
  },
  "language_info": {
   "codemirror_mode": {
    "name": "ipython",
    "version": 3
   },
   "file_extension": ".py",
   "mimetype": "text/x-python",
   "name": "python",
   "nbconvert_exporter": "python",
   "pygments_lexer": "ipython3",
   "version": "3.7.6"
  },
  "toc": {
   "base_numbering": 1,
   "nav_menu": {},
   "number_sections": true,
   "sideBar": true,
   "skip_h1_title": false,
   "title_cell": "Table of Contents",
   "title_sidebar": "Contents",
   "toc_cell": false,
   "toc_position": {},
   "toc_section_display": true,
   "toc_window_display": false
  }
 },
 "nbformat": 4,
 "nbformat_minor": 1
}
