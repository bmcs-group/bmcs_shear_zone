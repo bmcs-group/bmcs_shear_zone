{
 "cells": [
  {
   "cell_type": "markdown",
   "metadata": {},
   "source": [
    "# R-curve (Concept)"
   ]
  },
  {
   "cell_type": "code",
   "execution_count": 1,
   "metadata": {},
   "outputs": [],
   "source": [
    "%matplotlib notebook\n",
    "import matplotlib.pyplot as plt\n",
    "import numpy as np\n",
    "import sympy as sp\n",
    "sp.init_printing()\n",
    "import ipywidgets as ipw"
   ]
  },
  {
   "cell_type": "markdown",
   "metadata": {},
   "source": [
    "<img src=\"Equivalent Elastic Crack Concept.png\" width=\"800\"/>"
   ]
  },
  {
   "cell_type": "code",
   "execution_count": 2,
   "metadata": {},
   "outputs": [],
   "source": [
    "f_1 = sp.Symbol('f_1', nonnegative = True)\n",
    "f_2 = sp.Symbol('f_2', nonnegative = True)\n",
    "E = sp.Symbol('E', nonnegative = True)\n",
    "alpha = sp.Symbol('alpha', nonnegative = True)\n",
    "a_0 = sp.Symbol('a_0', nonnegative = True)\n",
    "a_c = sp.Symbol('a_c', nonnegative = True)\n",
    "pi = sp.Symbol(r'\\pi', nonnegative = True)\n",
    "D = sp.Symbol('D', nonnegative = True)\n",
    "H_0 = sp.Symbol('H_0', nonnegative = True)\n",
    "B = sp.Symbol('B', nonnegative = True)\n",
    "P_max = sp.Symbol('P_max', nonnegative = True)\n",
    "P = sp.Symbol('P', nonnegative = True)\n",
    "S = sp.Symbol('S', nonnegative = True)\n",
    "B = sp.Symbol('B', nonnegative = True)\n",
    "a = sp.Symbol('a', nonnegative = True)\n",
    "COD = sp.Symbol('COD', nonnegative = True)\n",
    "K_Ic = sp.Symbol('K_{Ic}', nonnegative = True)"
   ]
  },
  {
   "cell_type": "code",
   "execution_count": 3,
   "metadata": {},
   "outputs": [
    {
     "data": {
      "image/png": "[encoded data removed]",
      "text/latex": [
       "$\\displaystyle 1 - \\frac{d_{2} - \\frac{\\alpha - 1}{\\alpha}}{d_{1} - \\frac{\\alpha - 1}{\\alpha}}$"
      ],
      "text/plain": [
       "         α - 1\n",
       "    d₂ - ─────\n",
       "           α  \n",
       "1 - ──────────\n",
       "         α - 1\n",
       "    d₁ - ─────\n",
       "           α  "
      ]
     },
     "execution_count": 3,
     "metadata": {},
     "output_type": "execute_result"
    }
   ],
   "source": [
    "d_1 = sp.Symbol('d_1')\n",
    "d_2 = sp.Symbol('d_2')\n",
    "psi = 1 - ((d_2 - (alpha - 1)/alpha)/(d_1 - (alpha - 1)/alpha)) * \\\n",
    "        ((alpha * a_0 - a_0)/(alpha * a_0 - a_0))**(d_2 - d_1)\n",
    "psi"
   ]
  },
  {
   "cell_type": "code",
   "execution_count": 4,
   "metadata": {},
   "outputs": [],
   "source": [
    "params = {f_2 : 1.42, \n",
    "          E: 20000, #N/mm2\n",
    "          P_max : 10, #N \n",
    "          D : 19, #mm\n",
    "          H_0 : 3, #mm\n",
    "          B : 76.2, #mm\n",
    "          S : 304.8, #mm\n",
    "          P : 120, #N\n",
    "          pi : 3.14, \n",
    "          #a_0: 10, #mm\n",
    "          f_1: 1.123,\n",
    "          #COD : 0.0094, ##mm\n",
    "          K_Ic : 31.4 #N/mm2\n",
    "         }"
   ]
  },
  {
   "cell_type": "code",
   "execution_count": 5,
   "metadata": {},
   "outputs": [
    {
     "data": {
      "image/png": "[encoded data removed]",
      "text/latex": [
       "$\\displaystyle 6.2992125984252$"
      ],
      "text/plain": [
       "6.29921259842520"
      ]
     },
     "execution_count": 5,
     "metadata": {},
     "output_type": "execute_result"
    }
   ],
   "source": [
    "sigma_x = (P * S) / B**2\n",
    "sigma_x_ = sigma_x.subs(params)\n",
    "sigma_x_"
   ]
  },
  {
   "cell_type": "code",
   "execution_count": 6,
   "metadata": {},
   "outputs": [
    {
     "data": {
      "image/png": "[encoded data removed]",
      "text/latex": [
       "$\\displaystyle \\left( \\sqrt{0.25 + \\frac{\\alpha - 1}{\\alpha} - \\frac{\\left(\\alpha - 1\\right)^{2}}{\\alpha^{2}}} + 0.5 + \\frac{\\alpha - 1}{\\alpha}, \\  - \\sqrt{0.25 + \\frac{\\alpha - 1}{\\alpha} - \\frac{\\left(\\alpha - 1\\right)^{2}}{\\alpha^{2}}} + 0.5 + \\frac{\\alpha - 1}{\\alpha}\\right)$"
      ],
      "text/plain": [
       "⎛      ___________________________________                             _______\n",
       "⎜     ╱                                 2                             ╱       \n",
       "⎜    ╱         \\alpha - 1   (\\alpha - 1)           \\alpha - 1        ╱        \n",
       "⎜   ╱   0.25 + ────────── - ─────────────  + 0.5 + ──────────, -    ╱   0.25 +\n",
       "⎜  ╱             \\alpha              2               \\alpha        ╱          \n",
       "⎝╲╱                            \\alpha                            ╲╱           \n",
       "\n",
       "____________________________                   ⎞\n",
       "                          2                    ⎟\n",
       " \\alpha - 1   (\\alpha - 1)           \\alpha - 1⎟\n",
       " ────────── - ─────────────  + 0.5 + ──────────⎟\n",
       "   \\alpha              2               \\alpha  ⎟\n",
       "                 \\alpha                        ⎠"
      ]
     },
     "execution_count": 6,
     "metadata": {},
     "output_type": "execute_result"
    }
   ],
   "source": [
    "alpha_ = sp.Symbol(r'\\alpha')\n",
    "d_1 = (1/2) + ((alpha_ - 1) / alpha_) + sp.sqrt(1/4 + (alpha_ - 1) / alpha_\\\n",
    "                                                            - ((alpha_ - 1) / alpha_)**2)\n",
    "d_2 = (1/2) + ((alpha_ - 1) / alpha_) - sp.sqrt(1/4 + (alpha_ - 1) / alpha_ \\\n",
    "                                                            - ((alpha_ - 1) / alpha_)**2)\n",
    "d_1, d_2"
   ]
  },
  {
   "cell_type": "code",
   "execution_count": 7,
   "metadata": {},
   "outputs": [
    {
     "data": {
      "image/png": "[encoded data removed]",
      "text/latex": [
       "$\\displaystyle \\frac{K_{Ic}^{2} \\left(\\alpha a_{0} - a_{0}\\right)^{- d_{2}}}{E \\left(1 - \\frac{d_{2} - \\frac{\\alpha - 1}{\\alpha}}{d_{1} - \\frac{\\alpha - 1}{\\alpha}}\\right)}$"
      ],
      "text/plain": [
       "    2                 -d₂\n",
       "K_Ic ⋅(\\alpha⋅a₀ - a₀)   \n",
       "─────────────────────────\n",
       "   ⎛         \\alpha - 1⎞ \n",
       "   ⎜    d₂ - ──────────⎟ \n",
       "   ⎜           \\alpha  ⎟ \n",
       " E⋅⎜1 - ───────────────⎟ \n",
       "   ⎜         \\alpha - 1⎟ \n",
       "   ⎜    d₁ - ──────────⎟ \n",
       "   ⎝           \\alpha  ⎠ "
      ]
     },
     "execution_count": 7,
     "metadata": {},
     "output_type": "execute_result"
    }
   ],
   "source": [
    "K_Ic = sp.Symbol('K_Ic')\n",
    "alpha_ = sp.Symbol(r'\\alpha')\n",
    "a_0_ = sp.Symbol(r'a_0')\n",
    "d_2 = sp.Symbol(r'd_2')\n",
    "E = sp.Symbol(r'E')\n",
    "d_1 = sp.Symbol(r'd_1')\n",
    "beta_2 = (K_Ic**2 * (alpha_ * a_0_ - a_0_)**(-d_2)) / (E * (1 - (d_2 - ((alpha_-1)/alpha_))\\\n",
    "                                                            /(d_1 - ((alpha_-1)/alpha_))))\n",
    "beta_2"
   ]
  },
  {
   "cell_type": "code",
   "execution_count": 8,
   "metadata": {},
   "outputs": [
    {
     "data": {
      "image/png": "[encoded data removed]",
      "text/latex": [
       "$\\displaystyle \\frac{COD^{2} E^{2} \\pi f_{1}^{2}}{32 K_{Ic}^{2} a_{0} f_{2}^{2}} + \\sqrt{\\frac{COD^{2} E^{2} \\pi f_{1}^{2}}{32 K_{Ic}^{2} a_{0} f_{2}^{2}} + 1}$"
      ],
      "text/plain": [
       "                          _______________________\n",
       "    2  2       2         ╱     2  2       2      \n",
       " COD ⋅E ⋅\\pi⋅f₁         ╱   COD ⋅E ⋅\\pi⋅f₁       \n",
       "───────────────── +    ╱   ───────────────── + 1 \n",
       "         2      2     ╱             2      2     \n",
       "32⋅K_{Ic} ⋅a₀⋅f₂    ╲╱     32⋅K_{Ic} ⋅a₀⋅f₂      "
      ]
     },
     "execution_count": 8,
     "metadata": {},
     "output_type": "execute_result"
    }
   ],
   "source": [
    "f_1 = sp.Symbol('f_1', nonnegative = True)\n",
    "f_2 = sp.Symbol('f_2', nonnegative = True)\n",
    "E = sp.Symbol('E', nonnegative = True)\n",
    "a_0 = sp.Symbol('a_0', nonnegative = True)\n",
    "pi = sp.Symbol(r'\\pi', nonnegative = True)\n",
    "COD_ = sp.Symbol('COD', nonnegative = True)\n",
    "K_Ic = sp.Symbol('K_{Ic}', nonnegative = True)\n",
    "alpha_ = (pi * E**2 * f_1**2 * COD_**2) / (32 * a_0 * K_Ic**2 * f_2**2) \\\n",
    "        + sp.sqrt((pi * E**2 * f_1**2 * COD_**2) / (32 * a_0 * K_Ic**2 * f_2**2) + 1)\n",
    "alpha_"
   ]
  },
  {
   "cell_type": "code",
   "execution_count": 9,
   "metadata": {},
   "outputs": [
    {
     "data": {
      "image/png": "[encoded data removed]",
      "text/latex": [
       "$\\displaystyle 1 - \\frac{d_{2} - \\frac{\\alpha - 1}{\\alpha}}{d_{1} - \\frac{\\alpha - 1}{\\alpha}}$"
      ],
      "text/plain": [
       "         \\alpha - 1\n",
       "    d₂ - ──────────\n",
       "           \\alpha  \n",
       "1 - ───────────────\n",
       "         \\alpha - 1\n",
       "    d₁ - ──────────\n",
       "           \\alpha  "
      ]
     },
     "execution_count": 9,
     "metadata": {},
     "output_type": "execute_result"
    }
   ],
   "source": [
    "a_0_ = sp.Symbol(r'a_0')\n",
    "d_2 = sp.Symbol(r'd_2')\n",
    "E = sp.Symbol(r'E')\n",
    "d_1 = sp.Symbol(r'd_1')\n",
    "alpha_ = sp.Symbol(r'\\alpha')\n",
    "psi = 1 - ((d_2 - (alpha_ - 1)/alpha_)/(d_1 - (alpha_ - 1)/alpha_)\\\n",
    "              ) * ((alpha_ * a_0_ - a_0_)/(alpha_ * a_0_ - a_0_))**(d_2 - d_1) \n",
    "psi"
   ]
  },
  {
   "cell_type": "code",
   "execution_count": 10,
   "metadata": {},
   "outputs": [
    {
     "data": {
      "image/png": "[encoded data removed]",
      "text/latex": [
       "$\\displaystyle \\frac{4 P S f_{2}}{B^{2} E}$"
      ],
      "text/plain": [
       "4⋅P⋅S⋅f₂\n",
       "────────\n",
       "   2    \n",
       "  B ⋅E  "
      ]
     },
     "execution_count": 10,
     "metadata": {},
     "output_type": "execute_result"
    }
   ],
   "source": [
    "CMOD = (4 * sigma_x * f_2) / E\n",
    "CMOD"
   ]
  },
  {
   "cell_type": "code",
   "execution_count": 11,
   "metadata": {},
   "outputs": [
    {
     "data": {
      "image/png": "[encoded data removed]",
      "text/latex": [
       "$\\displaystyle \\frac{4 P S f_{2} \\sqrt{a_{0}^{2} \\alpha^{2} - a_{0}^{2}}}{B^{2} E}$"
      ],
      "text/plain": [
       "            ______________\n",
       "           ╱   2  2     2 \n",
       "4⋅P⋅S⋅f₂⋅╲╱  a₀ ⋅α  - a₀  \n",
       "──────────────────────────\n",
       "            2             \n",
       "           B ⋅E           "
      ]
     },
     "execution_count": 11,
     "metadata": {},
     "output_type": "execute_result"
    }
   ],
   "source": [
    "COD = CMOD * sp.sqrt((alpha * a_0)**2 - a_0**2)\n",
    "COD_ = COD#.subs(params)\n",
    "COD_"
   ]
  },
  {
   "cell_type": "code",
   "execution_count": 12,
   "metadata": {},
   "outputs": [
    {
     "data": {
      "image/png": "[encoded data removed]",
      "text/latex": [
       "$\\displaystyle -1 + \\frac{P^{2} S^{2} \\pi a_{0} \\alpha f_{1}^{2}}{B^{4} K_{Ic}^{2}} + \\frac{P^{2} S^{2} \\pi a_{0} \\alpha f_{1}^{2}}{2 B^{4} K_{Ic}^{2} \\sqrt{1 + \\frac{P^{2} S^{2} \\pi f_{1}^{2} \\left(a_{0}^{2} \\alpha^{2} - a_{0}^{2}\\right)}{2 B^{4} K_{Ic}^{2} a_{0}}}}$"
      ],
      "text/plain": [
       "      2  2            2                      2  2            2                \n",
       "     P ⋅S ⋅\\pi⋅a₀⋅α⋅f₁                      P ⋅S ⋅\\pi⋅a₀⋅α⋅f₁                 \n",
       "-1 + ────────────────── + ────────────────────────────────────────────────────\n",
       "          4       2                          _________________________________\n",
       "         B ⋅K_{Ic}                          ╱      2  2       2 ⎛  2  2     2⎞\n",
       "                             4       2     ╱      P ⋅S ⋅\\pi⋅f₁ ⋅⎝a₀ ⋅α  - a₀ ⎠\n",
       "                          2⋅B ⋅K_{Ic} ⋅   ╱   1 + ────────────────────────────\n",
       "                                         ╱                 4       2          \n",
       "                                       ╲╱               2⋅B ⋅K_{Ic} ⋅a₀       \n",
       "\n",
       " \n",
       " \n",
       "─\n",
       "_\n",
       " \n",
       " \n",
       " \n",
       " \n",
       " "
      ]
     },
     "execution_count": 12,
     "metadata": {},
     "output_type": "execute_result"
    }
   ],
   "source": [
    "alpha_ = (pi * E**2 * f_1**2 * COD_**2) / (32 * a_0 * K_Ic**2 * f_2**2) \\\n",
    "        + sp.sqrt((pi * E**2 * f_1**2 * COD_**2) / (32 * a_0 * K_Ic**2 * f_2**2) + 1)\n",
    "#alpha_sim = sp.simplify(alpha_.subs(params))\n",
    "alpha_val = alpha_ - alpha\n",
    "alpha_diff = alpha_val.diff(alpha)\n",
    "#alpha_val\n",
    "alpha_diff"
   ]
  },
  {
   "cell_type": "markdown",
   "metadata": {},
   "source": [
    "## Impact of Critical Stress Intensity Factor on R-curve"
   ]
  },
  {
   "cell_type": "code",
   "execution_count": null,
   "metadata": {},
   "outputs": [],
   "source": [
    "K_Ic_val = np.linspace(30,90,5)\n",
    "alpha_0 = 1\n",
    "d_1 = np.zeros((100,5))\n",
    "d_2 = np.zeros((100,5))\n",
    "beta_2 = np.zeros((100,5))\n",
    "psi = np.zeros((100,5))\n",
    "alpha_ans = np.zeros((100,5))\n",
    "COD = np.zeros((100,5))\n",
    "R = np.zeros((100,5))\n",
    "R_c = np.zeros((5,1))\n",
    "a_c = np.zeros((5,1))\n",
    "for i, K_Ic_ in enumerate(K_Ic_val):\n",
    "    a_01 = np.linspace(10, 40, 100)\n",
    "    for j, a in enumerate(a_01):\n",
    "        if a == 10:\n",
    "            R[j, i] = 0\n",
    "        elif a > 10:\n",
    "            alpha_ans = 1\n",
    "        params = {\n",
    "              E : 20000, #N/mm2,\n",
    "              f_2 : 1.42, \n",
    "              E: 20000, #N/mm2\n",
    "              B : 76.2, #mm\n",
    "              S : 304.8, #mm\n",
    "              P : 120, #N\n",
    "              pi : 3.14, \n",
    "              a_0: 10, #mm\n",
    "              f_1: 1.123}\n",
    "        CMOD = (4 * sigma_x_ * f_2.subs(params)) / E.subs(params)\n",
    "        alpha_ = (pi * E**2 * f_1**2 * (CMOD * sp.sqrt((alpha * a_0)**2 \\\n",
    "            - a_0**2))**2) / (32 * a_0 * K_Ic_**2 * f_2**2) \\\n",
    "             + sp.sqrt((pi * E**2 * f_1**2 * (CMOD * sp.sqrt((alpha * a_0)**2 - a_0**2))**2) \\\n",
    "                   / (32 * a_0 * K_Ic_**2 * f_2**2)+ 1)\n",
    "        alpha_val = alpha_.subs(params) - alpha\n",
    "        alpha_diff = alpha_val.diff(alpha)\n",
    "        alpha_n = alpha_0 - (alpha_val/alpha_diff)\n",
    "        alpha_sol = sp.solve(alpha_n, alpha)\n",
    "        #print('*************')\n",
    "        #print('a = ', j, a)\n",
    "        #print('K_Ic =', i, K_Ic_)\n",
    "        #print('alpha_sol=', alpha_sol)\n",
    "        if alpha_sol[0] > 1:\n",
    "            alpha_ans = alpha_sol[0]\n",
    "        elif alpha_sol[0] < 1:\n",
    "            alpha_ans = alpha_sol[1]\n",
    "        #print('alpha =', alpha_ans)\n",
    "        d_1 = (1/2) + ((alpha_ans - 1) /  alpha_ans) + sp.sqrt(1/4 + ( alpha_ans - 1) /  alpha_ans\\\n",
    "                                            - (( alpha_ans - 1) /  alpha_ans)**2)\n",
    "        #print('d_1 =', d_1)\n",
    "        d_2 = (1/2) + (( alpha_ans - 1) /  alpha_ans) - sp.sqrt(1/4 + ( alpha_ans - 1) /  alpha_ans \\\n",
    "                                         - (( alpha_ans - 1) /  alpha_ans)**2)\n",
    "        #print('d_2 = ', d_2)\n",
    "        beta_2 = (K_Ic_**2 * ( alpha_ans * a_0.subs(params) - a_0.subs(params))**(-d_2)) / (E.subs(params) * (1 - (d_2 \\\n",
    "                                                        - (( alpha_ans-1)/ alpha_ans))\\\n",
    "                                                         /(d_1 - (( alpha_ans-1)/ alpha_ans))))\n",
    "        psi = 1 - ((d_2 - ( alpha_ans - 1) /  alpha_ans)/(d_1  - ( alpha_ans - 1) /  alpha_ans))\\\n",
    "            *  ((alpha_ans * a_0.subs(params) - a_0.subs(params))/(alpha_ans * a_0.subs(params) \\\n",
    "              - a_0.subs(params)))**(d_2 - d_1)\n",
    "        #print('beta =', beta_2)\n",
    "        R[j, i] = beta_2 * psi * (a - a_0.subs(params))**d_2\n",
    "        R_c[i] = ((K_Ic_)**2 / E.subs(params))\n",
    "        a_c[i] = alpha_ans * a_0.subs(params)\n",
    "        if R[j, i] <= ((K_Ic_)**2 / E.subs(params)):\n",
    "            R[j, i] = beta_2 * psi * (a - a_0.subs(params))**d_2\n",
    "        else:\n",
    "                R[j, i] = ((K_Ic_)**2 / E.subs(params))\n",
    "        #print('R =',[i, j], R[j, i])\n",
    "        #print('*************')\n",
    "    print('R =',R)\n",
    "    print('R_c = ', R_c)\n",
    "    print('a_c =', a_c)\n",
    "    #i +=1\n",
    "    "
   ]
  },
  {
   "cell_type": "code",
   "execution_count": null,
   "metadata": {},
   "outputs": [],
   "source": [
    "_, (ax1) = plt.subplots(1, 1, figsize=(8,4))\n",
    "ax1.plot(a_01, R[:,0], color='red', lw=2, label = (r'$K_{Ic} = 30\\,N/(mm)^{3/2}$'))\n",
    "ax1.plot(a_01, R[:,1], color='blue', lw=2, label = (r'$K_{Ic} = 45\\,N/(mm)^{3/2}$'))\n",
    "ax1.plot(a_01, R[:,2], color='green', lw=2, label = (r'$K_{Ic} = 60\\,N/(mm)^{3/2}$'))\n",
    "ax1.plot(a_01, R[:,3], color='orange', lw=2, label = (r'$K_{Ic} = 75\\,N/(mm)^{3/2}$'))\n",
    "ax1.plot(a_01, R[:,4], color='black', lw=2, label = (r'$K_{Ic} = 90\\,N/(mm)^{3/2}$'))\n",
    "#ax1.annotate(a_c[:,0], R_c[:,0], color='black', label = ('$R_{Ic}$') )\n",
    "#ax1.plot(a_0_val, R_c, color='orange', lw=2, label = (r'R_c'))\n",
    "ax1.set_xlabel('a'); ax1.set_ylabel('R')\n",
    "ax1.legend()\n",
    "_.savefig(\"R_K_Ic.pdf\", bbox_inches='tight')"
   ]
  },
  {
   "cell_type": "markdown",
   "metadata": {},
   "source": [
    "## Impact of Modulus of Elasticity on R-curve"
   ]
  },
  {
   "cell_type": "code",
   "execution_count": null,
   "metadata": {},
   "outputs": [],
   "source": [
    "K_Ic = sp.Symbol('K_{Ic}', nonengative = True)"
   ]
  },
  {
   "cell_type": "code",
   "execution_count": null,
   "metadata": {},
   "outputs": [],
   "source": [
    "E_val = np.linspace(20000,40000,3)\n",
    "alpha_0 = 1\n",
    "d_1 = np.zeros((100,3))\n",
    "d_2 = np.zeros((100,3))\n",
    "beta_2 = np.zeros((100,3))\n",
    "psi = np.zeros((100,3))\n",
    "alpha_ans = np.zeros((100,3))\n",
    "COD = np.zeros((100,3))\n",
    "R = np.zeros((100,3))\n",
    "R_c = np.zeros((3,1))\n",
    "a_c = np.zeros((3,1))\n",
    "for i, E_ in enumerate(E_val):\n",
    "    a_01 = np.linspace(10, 40, 100)\n",
    "    for j, a in enumerate(a_01):\n",
    "        if a == 10:\n",
    "            R[j, i] = 0\n",
    "        elif a > 10:\n",
    "            alpha_ans = 1\n",
    "        params = {\n",
    "              K_Ic : 30, #N/mm(3/2),\n",
    "              f_2 : 1.42, \n",
    "              #E: 20000, #N/mm2\n",
    "              B : 76.2, #mm\n",
    "              S : 304.8, #mm\n",
    "              P : 120, #N\n",
    "              pi : 3.14, \n",
    "              a_0: 10, #mm\n",
    "              f_1: 1.123}\n",
    "        CMOD = (4 * sigma_x_ * f_2.subs(params)) / E_\n",
    "        alpha_ = (pi * E_**2 * f_1**2 * (CMOD * sp.sqrt((alpha * a_0)**2 \\\n",
    "            - a_0**2))**2) / (32 * a_0 * K_Ic**2 * f_2**2) \\\n",
    "             + sp.sqrt((pi * E_**2 * f_1**2 * (CMOD * sp.sqrt((alpha * a_0)**2 - a_0**2))**2) \\\n",
    "                   / (32 * a_0 *  K_Ic**2 * f_2**2)+ 1)\n",
    "        alpha_val = alpha_.subs(params) - alpha\n",
    "        alpha_diff = alpha_val.diff(alpha)\n",
    "        alpha_n = alpha_0 - (alpha_val/alpha_diff)\n",
    "        alpha_sol = sp.solve(alpha_n, alpha)\n",
    "        #print('*************')\n",
    "        #print('a = ', j, a)\n",
    "        #print('E =', i, E_)\n",
    "        #print('alpha_sol=', alpha_sol)\n",
    "        if alpha_sol[0] > 1:\n",
    "            alpha_ans = alpha_sol[0]\n",
    "        elif alpha_sol[0] < 1:\n",
    "            alpha_ans = alpha_sol[1]\n",
    "        #print('alpha =', alpha_ans)\n",
    "        d_1 = (1/2) + ((alpha_ans - 1) /  alpha_ans) + sp.sqrt(1/4 + ( alpha_ans - 1) /  alpha_ans\\\n",
    "                                            - (( alpha_ans - 1) /  alpha_ans)**2)\n",
    "        #print('d_1 =', d_1)\n",
    "        d_2 = (1/2) + (( alpha_ans - 1) /  alpha_ans) - sp.sqrt(1/4 + ( alpha_ans - 1) /  alpha_ans \\\n",
    "                                         - (( alpha_ans - 1) /  alpha_ans)**2)\n",
    "        #print('d_2 = ', d_2)\n",
    "        beta_2 = (K_Ic.subs(params)**2 * ( alpha_ans * a_0.subs(params) - a_0.subs(params))**(-d_2)) / (E_ * (1 - (d_2 \\\n",
    "                                                        - (( alpha_ans-1)/ alpha_ans))\\\n",
    "                                                         /(d_1 - (( alpha_ans-1)/ alpha_ans))))\n",
    "        psi = 1 - ((d_2 - ( alpha_ans - 1) /  alpha_ans)/(d_1  - ( alpha_ans - 1) /  alpha_ans))\\\n",
    "            *  ((alpha_ans * a_0.subs(params) - a_0.subs(params))/(alpha_ans * a_0.subs(params) \\\n",
    "              - a_0.subs(params)))**(d_2 - d_1)\n",
    "        #print('beta =', beta_2)\n",
    "        R[j, i] = beta_2 * psi * (a - a_0.subs(params))**d_2\n",
    "        R_c[i] = ((K_Ic.subs(params))**2 / E_)\n",
    "        a_c[i] = alpha_ans * a_0.subs(params)\n",
    "        if R[j, i] <= ((K_Ic.subs(params))**2 / E_):\n",
    "            R[j, i] = beta_2 * psi * (a - a_0.subs(params))**d_2\n",
    "        else:\n",
    "                R[j, i] = ((K_Ic.subs(params))**2 / E_)\n",
    "        #print('R =',[i, j], R[j, i])\n",
    "        #print('*************')\n",
    "    print('R =',R)\n",
    "    #i +=1    "
   ]
  },
  {
   "cell_type": "code",
   "execution_count": null,
   "metadata": {},
   "outputs": [],
   "source": [
    "_, (ax1) = plt.subplots(1, 1, figsize=(8,4))\n",
    "ax1.plot(a_01, R[:,0], color='red', lw=2, label = (r'$E = 20000\\,MPa$'))\n",
    "ax1.plot(a_01, R[:,1], color='blue', lw=2, label = (r'$E = 30000\\,MPa$'))\n",
    "ax1.plot(a_01, R[:,2], color='green', lw=2, label = (r'$E = 40000\\,MPa$'))\n",
    "#ax1.plot(a_0_val, R_c, color='orange', lw=2, label = (r'R_c'))\n",
    "ax1.set_xlabel('a'); ax1.set_ylabel('R')\n",
    "ax1.legend()\n",
    "_.savefig(\"R_E.pdf\", bbox_inches='tight')"
   ]
  },
  {
   "cell_type": "markdown",
   "metadata": {},
   "source": [
    "## Impact of Normalized Applied load $\\sigma$ on R-curve"
   ]
  },
  {
   "cell_type": "code",
   "execution_count": null,
   "metadata": {},
   "outputs": [],
   "source": [
    "sigma_val = np.linspace(1,10,10)\n",
    "alpha_0 = 1\n",
    "d_1 = np.zeros((100,10))\n",
    "d_2 = np.zeros((100,10))\n",
    "beta_2 = np.zeros((100,10))\n",
    "psi = np.zeros((100,10))\n",
    "alpha_ans = np.zeros((100,10))\n",
    "COD = np.zeros((100,10))\n",
    "R = np.zeros((100,10))\n",
    "R_c = np.zeros((10,1))\n",
    "a_c = np.zeros((10,1))\n",
    "for i, sigma_ in enumerate(sigma_val):\n",
    "    a_01 = np.linspace(10, 40, 100)\n",
    "    for j, a in enumerate(a_01):\n",
    "        if a == 10:\n",
    "            R[j, i] = 0\n",
    "        elif a > 10:\n",
    "            alpha_ans = 1\n",
    "        params = {\n",
    "              K_Ic : 30, #N/mm(3/2),\n",
    "              f_2 : 1.42, \n",
    "              E: 20000, #N/mm2\n",
    "              B : 76.2, #mm\n",
    "              S : 304.8, #mm\n",
    "              P : 120, #N\n",
    "              pi : 3.14, \n",
    "              a_0: 10, #mm\n",
    "              f_1: 1.123}\n",
    "        CMOD = (4 * sigma_ * f_2.subs(params)) / E.subs(params)\n",
    "        alpha_ = (pi * E**2 * f_1**2 * (CMOD * sp.sqrt((alpha * a_0)**2 \\\n",
    "            - a_0**2))**2) / (32 * a_0 * K_Ic**2 * f_2**2) \\\n",
    "             + sp.sqrt((pi * E**2 * f_1**2 * (CMOD * sp.sqrt((alpha * a_0)**2 - a_0**2))**2) \\\n",
    "                   / (32 * a_0 * K_Ic**2 * f_2**2)+ 1)\n",
    "        alpha_val = alpha_.subs(params) - alpha\n",
    "        alpha_diff = alpha_val.diff(alpha)\n",
    "        alpha_n = alpha_0 - (alpha_val/alpha_diff)\n",
    "        alpha_sol = sp.solve(alpha_n, alpha)\n",
    "        print('*************')\n",
    "        print('a = ', j, a)\n",
    "        print('sigma =', i, sigma_)\n",
    "        print('alpha_sol=', alpha_sol)\n",
    "        if alpha_sol[0] >= 1:\n",
    "            alpha_ans = alpha_sol[0]\n",
    "        elif alpha_sol[0] < 1:\n",
    "            alpha_ans = alpha_sol[1]\n",
    "        print('alpha =', alpha_ans)\n",
    "        d_1 = (1/2) + ((alpha_ans - 1) /  alpha_ans) + sp.sqrt(1/4 + ( alpha_ans - 1) /  alpha_ans\\\n",
    "                                            - (( alpha_ans - 1) /  alpha_ans)**2)\n",
    "        print('d_1 =', d_1)\n",
    "        d_2 = (1/2) + (( alpha_ans - 1) /  alpha_ans) - sp.sqrt(1/4 + ( alpha_ans - 1) /  alpha_ans \\\n",
    "                                         - (( alpha_ans - 1) /  alpha_ans)**2)\n",
    "        print('d_2 = ', d_2)\n",
    "        beta_2 = (K_Ic.subs(params)**2 * ( alpha_ans * a_0.subs(params) - a_0.subs(params))**(-d_2)) / (E.subs(params) * (1 - (d_2 \\\n",
    "                                                        - (( alpha_ans-1)/ alpha_ans))\\\n",
    "                                                         /(d_1 - (( alpha_ans-1)/ alpha_ans))))\n",
    "        psi = 1 - ((d_2 - ( alpha_ans - 1) /  alpha_ans)/(d_1  - ( alpha_ans - 1) /  alpha_ans))\\\n",
    "            *  ((alpha_ans * a_0.subs(params) - a_0.subs(params))/(alpha_ans * a_0.subs(params) \\\n",
    "              - a_0.subs(params)))**(d_2 - d_1)\n",
    "        print('beta =', beta_2)\n",
    "        R[j, i] = beta_2 * psi * (a - a_0.subs(params))**d_2\n",
    "        R_c[i] = ((K_Ic.subs(params))**2 / E.subs(params))\n",
    "        a_c[i] = alpha_ans * a_0.subs(params)\n",
    "        if R[j, i] <= ((K_Ic.subs(params))**2 / E.subs(params)):\n",
    "            R[j, i] = beta_2 * psi * (a - a_0.subs(params))**d_2\n",
    "        else:\n",
    "                R[j, i] = ((K_Ic.subs(params))**2 / E.subs(params))\n",
    "        print('R =',[i, j], R[j, i])\n",
    "        print('*************')\n",
    "    print('R =',R)\n",
    "    print('R_c =', R_c)\n",
    "    print('a_c =', a_c)\n",
    "    #i +=1 "
   ]
  },
  {
   "cell_type": "code",
   "execution_count": null,
   "metadata": {},
   "outputs": [],
   "source": [
    "_, (ax1) = plt.subplots(1, 1, figsize=(8,4))\n",
    "ax1.plot(a_01, R[:,0], color='red', lw=2, label = (r'$\\sigma = 1$'))\n",
    "ax1.plot(a_01, R[:,1], color='blue', lw=2, label = (r'$\\sigma = 2$'))\n",
    "ax1.plot(a_01, R[:,2], color='green', lw=2, label = (r'$\\sigma = 3$'))\n",
    "ax1.plot(a_01, R[:,3], color='orange', lw=2, label = (r'$\\sigma = 4$'))\n",
    "ax1.plot(a_01, R[:,4], color='black', lw=2, label = (r'$\\sigma = 5$'))\n",
    "ax1.plot(a_01, R[:,5], color='yellow', lw=2, label = (r'$\\sigma = 6$'))\n",
    "ax1.plot(a_01, R[:,6], color='purple', lw=2, label = (r'$\\sigma = 7$'))\n",
    "ax1.plot(a_01, R[:,7], color='grey', lw=2, label = (r'$\\sigma = 8$'))\n",
    "ax1.plot(a_01, R[:,8], lw=2, label = (r'$\\sigma = 9$'))\n",
    "ax1.plot(a_01, R[:,9], lw=2, label = (r'$\\sigma = 10$'))\n",
    "#ax1.plot(a_0_val, R_c, color='orange', lw=2, label = (r'R_c'))\n",
    "ax1.set_xlabel('a'); ax1.set_ylabel('R')\n",
    "ax1.legend()\n",
    "_.savefig(\"R_sigma.pdf\", bbox_inches='tight')"
   ]
  },
  {
   "cell_type": "markdown",
   "metadata": {},
   "source": [
    "## Impact of geometry factor $f_1$ on R-curve"
   ]
  },
  {
   "cell_type": "code",
   "execution_count": null,
   "metadata": {},
   "outputs": [],
   "source": [
    "f_1_val = np.linspace(1,10,3)\n",
    "alpha_0 = 1\n",
    "d_1 = np.zeros((100,3))\n",
    "d_2 = np.zeros((100,3))\n",
    "beta_2 = np.zeros((100,3))\n",
    "psi = np.zeros((100,3))\n",
    "alpha_ans = np.zeros((100,3))\n",
    "COD = np.zeros((100,3))\n",
    "R = np.zeros((100,3))\n",
    "R_c = np.zeros((3,1))\n",
    "a_c = np.zeros((3,1))\n",
    "for i, f_1_ in enumerate(f_1_val):\n",
    "    a_01 = np.linspace(10, 40, 100)\n",
    "    for j, a in enumerate(a_01):\n",
    "        if a == 10:\n",
    "            R[j, i] = 0\n",
    "        elif a > 10:\n",
    "            alpha_ans = 1\n",
    "        params = {\n",
    "              K_Ic : 30, #N/mm(3/2),\n",
    "              f_2 : 1.42, \n",
    "              E: 20000, #N/mm2\n",
    "              B : 76.2, #mm\n",
    "              S : 304.8, #mm\n",
    "              P : 120, #N\n",
    "              pi : 3.14, \n",
    "              a_0: 10, #mm\n",
    "              f_1: 1.123}\n",
    "        CMOD = (4 * sigma_x_ * f_2.subs(params)) / E.subs(params)\n",
    "        #print(CMOD)\n",
    "        alpha_ = (pi * E**2 * f_1_**2 * (CMOD * sp.sqrt((alpha * a_0)**2 \\\n",
    "            - a_0**2))**2) / (32 * a_0 * K_Ic**2 * f_2**2) \\\n",
    "             + sp.sqrt((pi * E**2 * f_1_**2 * (CMOD * sp.sqrt((alpha * a_0)**2 - a_0**2))**2) \\\n",
    "                   / (32 * a_0 * K_Ic**2 * f_2**2)+ 1)\n",
    "        alpha_val = alpha_.subs(params) - alpha\n",
    "        alpha_diff = alpha_val.diff(alpha)\n",
    "        print(alpha_diff)\n",
    "        alpha_n = alpha_0 - (alpha_val/alpha_diff)\n",
    "        alpha_sol = sp.solve(alpha_n, alpha)\n",
    "        #print('*************')\n",
    "        #print('a = ', j, a)\n",
    "        #print('f_1 =', i, f_1_)\n",
    "        #print('alpha_sol=', alpha_sol)\n",
    "        if alpha_sol[0] > 1:\n",
    "            alpha_ans = alpha_sol[0]\n",
    "        elif alpha_sol[0] < 1:\n",
    "            alpha_ans = alpha_sol[1]\n",
    "        #print('alpha =', alpha_ans)\n",
    "        d_1 = (1/2) + ((alpha_ans - 1) /  alpha_ans) + sp.sqrt(1/4 + ( alpha_ans - 1) /  alpha_ans\\\n",
    "                                            - (( alpha_ans - 1) /  alpha_ans)**2)\n",
    "        #print('d_1 =', d_1)\n",
    "        d_2 = (1/2) + (( alpha_ans - 1) /  alpha_ans) - sp.sqrt(1/4 + ( alpha_ans - 1) /  alpha_ans \\\n",
    "                                         - (( alpha_ans - 1) /  alpha_ans)**2)\n",
    "        #print('d_2 = ', d_2)\n",
    "        beta_2 = (K_Ic.subs(params)**2 * ( alpha_ans * a_0.subs(params) - a_0.subs(params))**(-d_2)) / (E.subs(params) * (1 - (d_2 \\\n",
    "                                                        - (( alpha_ans-1)/ alpha_ans))\\\n",
    "                                                         /(d_1 - (( alpha_ans-1)/ alpha_ans))))\n",
    "        psi = 1 - ((d_2 - ( alpha_ans - 1) /  alpha_ans)/(d_1  - ( alpha_ans - 1) /  alpha_ans))\\\n",
    "            *  ((alpha_ans * a_0.subs(params) - a_0.subs(params))/(alpha_ans * a_0.subs(params) \\\n",
    "              - a_0.subs(params)))**(d_2 - d_1)\n",
    "        #print('beta =', beta_2)\n",
    "        R[j, i] = beta_2 * psi * (a - a_0.subs(params))**d_2\n",
    "        R_c[i] = ((K_Ic.subs(params))**2 / E.subs(params))\n",
    "        a_c[i] = alpha_ans * a_0.subs(params)\n",
    "        if R[j, i] <= ((K_Ic.subs(params))**2 / E.subs(params)):\n",
    "            R[j, i] = beta_2 * psi * (a - a_0.subs(params))**d_2\n",
    "        else:\n",
    "                R[j, i] = ((K_Ic.subs(params))**2 / E.subs(params))\n",
    "        #print('R =',[i, j], R[j, i])\n",
    "        #print('*************')\n",
    "    print('R =',R)\n",
    "    print('R_c =', R_c)\n",
    "    print('a_c =', a_c)\n",
    "    #i +=1 "
   ]
  },
  {
   "cell_type": "code",
   "execution_count": null,
   "metadata": {},
   "outputs": [],
   "source": [
    "_, (ax1) = plt.subplots(1, 1, figsize=(8,4))\n",
    "ax1.plot(a_01, R[:,0], color='red', lw=2, label = (r'$f_1 = 1$'))\n",
    "ax1.plot(a_01, R[:,1], color='blue', lw=2, label = (r'$f_1 = 1.5$'))\n",
    "ax1.plot(a_01, R[:,2], color='green', lw=2, label = (r'$f_1 = 2$'))\n",
    "#ax1.plot(a_0_val, R_c, color='orange', lw=2, label = (r'R_c'))\n",
    "ax1.set_xlabel('a'); ax1.set_ylabel('R')\n",
    "ax1.legend()\n",
    "_.savefig(\"R_f_1.pdf\", bbox_inches='tight')"
   ]
  },
  {
   "cell_type": "markdown",
   "metadata": {},
   "source": [
    "## Impact of geometry factor $f_2$ on R-curve"
   ]
  },
  {
   "cell_type": "code",
   "execution_count": null,
   "metadata": {},
   "outputs": [],
   "source": [
    "f_2_val = np.linspace(1,4,3)\n",
    "alpha_0 = 1\n",
    "d_1 = np.zeros((100,3))\n",
    "d_2 = np.zeros((100,3))\n",
    "beta_2 = np.zeros((100,3))\n",
    "psi = np.zeros((100,3))\n",
    "alpha_ans = np.zeros((100,3))\n",
    "COD = np.zeros((100,3))\n",
    "R = np.zeros((100,3))\n",
    "R_c = np.zeros((3,1))\n",
    "a_c = np.zeros((3,1))\n",
    "for i, f_2_ in enumerate(f_2_val):\n",
    "    a_01 = np.linspace(10, 40, 100)\n",
    "    for j, a in enumerate(a_01):\n",
    "        if a == 10:\n",
    "            R[j, i] = 0\n",
    "        elif a > 10:\n",
    "            alpha_ans = 1\n",
    "        params = {\n",
    "              K_Ic : 30, #N/mm(3/2),\n",
    "              f_2 : 1.42, \n",
    "              E: 20000, #N/mm2\n",
    "              B : 76.2, #mm\n",
    "              S : 304.8, #mm\n",
    "              P : 120, #N\n",
    "              pi : 3.14, \n",
    "              a_0: 10, #mm\n",
    "              f_1: 1.123}\n",
    "        CMOD = (4 * sigma_x_ * f_2_) / E.subs(params)\n",
    "        #print(CMOD)\n",
    "        alpha_ = (pi * E**2 * f_1**2 * (CMOD * sp.sqrt((alpha * a_0)**2 \\\n",
    "            - a_0**2))**2) / (32 * a_0 * K_Ic**2 * f_2_**2) \\\n",
    "             + sp.sqrt((pi * E**2 * f_1**2 * (CMOD * sp.sqrt((alpha * a_0)**2 - a_0**2))**2) \\\n",
    "                   / (32 * a_0 *  K_Ic**2 * f_2_**2) + 1)\n",
    "        alpha_val = alpha_.subs(params) - alpha\n",
    "        alpha_diff = alpha_val.diff(alpha)\n",
    "        alpha_n = alpha_0 - (alpha_val/alpha_diff)\n",
    "        alpha_sol = sp.solve(alpha_n, alpha)\n",
    "        #print('*************')\n",
    "        #print('a = ', j, a)\n",
    "        #print('f_2 =', i, f_2_)\n",
    "        #print('alpha_sol=', alpha_sol)\n",
    "        if alpha_sol[0] > 1:\n",
    "            alpha_ans = alpha_sol[0]\n",
    "        elif alpha_sol[0] < 1:\n",
    "            alpha_ans = alpha_sol[1]\n",
    "        #print('alpha =', alpha_ans)\n",
    "        d_1 = (1/2) + ((alpha_ans - 1) /  alpha_ans) + sp.sqrt(1/4 + ( alpha_ans - 1) /  alpha_ans\\\n",
    "                                            - (( alpha_ans - 1) /  alpha_ans)**2)\n",
    "        #print('d_1 =', d_1)\n",
    "        d_2 = (1/2) + (( alpha_ans - 1) /  alpha_ans) - sp.sqrt(1/4 + ( alpha_ans - 1) /  alpha_ans \\\n",
    "                                         - (( alpha_ans - 1) /  alpha_ans)**2)\n",
    "        #print('d_2 = ', d_2)\n",
    "        beta_2 = (K_Ic.subs(params)**2 * ( alpha_ans * a_0.subs(params) - a_0.subs(params))**(-d_2)) / (E.subs(params) * (1 - (d_2 \\\n",
    "                                                        - (( alpha_ans-1)/ alpha_ans))\\\n",
    "                                                         /(d_1 - (( alpha_ans-1)/ alpha_ans))))\n",
    "        psi = 1 - ((d_2 - ( alpha_ans - 1) /  alpha_ans)/(d_1  - ( alpha_ans - 1) /  alpha_ans))\\\n",
    "            *  ((alpha_ans * a_0.subs(params) - a_0.subs(params))/(alpha_ans * a_0.subs(params) \\\n",
    "              - a_0.subs(params)))**(d_2 - d_1)\n",
    "        #print('beta =', beta_2)\n",
    "        R[j, i] = beta_2 * psi * (a - a_0.subs(params))**d_2\n",
    "        R_c[i] = ((K_Ic_)**2 / E.subs(params))\n",
    "        a_c[i] = alpha_ans * a_0.subs(params)\n",
    "        if R[j, i] <= ((K_Ic.subs(params))**2 / E.subs(params)):\n",
    "            R[j, i] = beta_2 * psi * (a - a_0.subs(params))**d_2\n",
    "        else:\n",
    "                R[j, i] = ((K_Ic.subs(params))**2 / E.subs(params))\n",
    "        #print('R =',[i, j], R[j, i])\n",
    "        #print('*************')\n",
    "    print('R =',R)\n",
    "    print('R_c =', R_c)\n",
    "    print('a_c =', a_c)\n",
    "    #i +=1 "
   ]
  },
  {
   "cell_type": "code",
   "execution_count": null,
   "metadata": {},
   "outputs": [],
   "source": [
    "_, (ax1) = plt.subplots(1, 1, figsize=(8,4))\n",
    "ax1.plot(a_01, R[:,0], color='red', lw=2, label = (r'$f_2 = 1$'))\n",
    "ax1.plot(a_01, R[:,1], color='blue', lw=2, label = (r'$f_2 = 2.5$'))\n",
    "ax1.plot(a_01, R[:,2], color='green', lw=2, label = (r'$f_2 = 4$'))\n",
    "#ax1.plot(a_0_val, R_c, color='orange', lw=2, label = (r'R_c'))\n",
    "ax1.set_xlabel('a'); ax1.set_ylabel('R')\n",
    "ax1.legend()\n",
    "_.savefig(\"R_f_2.pdf\", bbox_inches='tight')"
   ]
  },
  {
   "cell_type": "code",
   "execution_count": null,
   "metadata": {},
   "outputs": [],
   "source": []
  }
 ],
 "metadata": {
  "kernelspec": {
   "display_name": "Python 3",
   "language": "python",
   "name": "python3"
  },
  "language_info": {
   "codemirror_mode": {
    "name": "ipython",
    "version": 3
   },
   "file_extension": ".py",
   "mimetype": "text/x-python",
   "name": "python",
   "nbconvert_exporter": "python",
   "pygments_lexer": "ipython3",
   "version": "3.7.6"
  },
  "toc": {
   "base_numbering": 1,
   "nav_menu": {},
   "number_sections": true,
   "sideBar": true,
   "skip_h1_title": false,
   "title_cell": "Table of Contents",
   "title_sidebar": "Contents",
   "toc_cell": false,
   "toc_position": {},
   "toc_section_display": true,
   "toc_window_display": false
  }
 },
 "nbformat": 4,
 "nbformat_minor": 4
}
