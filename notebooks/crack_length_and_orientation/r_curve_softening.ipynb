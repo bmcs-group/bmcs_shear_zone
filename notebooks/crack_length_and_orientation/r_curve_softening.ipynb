{
 "cells": [
  {
   "cell_type": "markdown",
   "metadata": {},
   "source": [
    "# R-curve for cohesive materials"
   ]
  },
  {
   "cell_type": "code",
   "execution_count": 1,
   "metadata": {},
   "outputs": [],
   "source": [
    "%matplotlib notebook\n",
    "import matplotlib.pyplot as plt\n",
    "import numpy as np\n",
    "import sympy as sp\n",
    "sp.init_printing()\n",
    "import ipywidgets as ipw\n"
   ]
  },
  {
   "cell_type": "markdown",
   "metadata": {},
   "source": [
    "<img src=\"Development of Fracture Process Zone.png\" width=\"800\"/>"
   ]
  },
  {
   "cell_type": "markdown",
   "metadata": {},
   "source": [
    "<img src=\"bilinear softening and damage.png\" width=\"500\"/>"
   ]
  },
  {
   "cell_type": "markdown",
   "metadata": {},
   "source": [
    "In cohesive models, the inclusion of process zone at the tip of the crack is considered and normal constitutive law for tensile normal stress $\\sigma$ and relative displacement $w$ is assumed. Process zone starts to dvelop when stress reaches the tensile strength $f_t$ of the material. The relation between $\\sigma - w$ is given by a softening law where stress is a decreasing function of relative displacement w and area under the stress displacement curve gives the fracture energy $G_c$. The constitutive law is given as:\n",
    "\\begin{equation}\n",
    "\\sigma = (1 - \\omega) K^{init} w\n",
    "\\end{equation}\n",
    "The figure above shows two conditions i.e. a) the process zone is developing and b) the state of fully developed process zone."
   ]
  },
  {
   "cell_type": "code",
   "execution_count": 2,
   "metadata": {},
   "outputs": [],
   "source": [
    "K_init = sp.Symbol('K_init', nonnegative = True)\n",
    "w = sp.Symbol(r'w', nonnegative = True)\n",
    "w_0 = sp.Symbol(r'w_0', nonnegative = True)\n",
    "w_c = sp.Symbol(r'w_c', nonnegative = True)\n",
    "omega = sp.Symbol('\\omega', nonnegative = True)\n",
    "E = sp.Symbol('E', nonnegative = True)\n",
    "G_c_2 = sp.Symbol(r'\\bar{G_c}', nonnegative = True)\n",
    "nu = sp.Symbol(r'\\nu', nonnegative = True)\n",
    "f_t = sp.Symbol(r'f_t', nonnegative = True)"
   ]
  },
  {
   "cell_type": "code",
   "execution_count": 3,
   "metadata": {},
   "outputs": [
    {
     "data": {
      "image/png": "[encoded data removed]",
      "text/latex": [
       "$\\displaystyle K_{init} w \\left(1 - \\omega\\right)$"
      ],
      "text/plain": [
       "Kᵢₙᵢₜ⋅w⋅(1 - \\omega)"
      ]
     },
     "execution_count": 3,
     "metadata": {},
     "output_type": "execute_result"
    }
   ],
   "source": [
    "sigma_soft = (1 - omega) * K_init * w\n",
    "sigma_soft"
   ]
  },
  {
   "cell_type": "markdown",
   "metadata": {},
   "source": [
    "In order to obtain the R-curve for a cohesive material, following steps are followed:\n",
    "\n",
    "1) Consider a softening constitutive law for the interface\n",
    "    \\begin{equation}\n",
    "    \\sigma = K^{init} w \\,\\,\\mathrm{when}\\,\\, w \\leq w_0 \\\\\n",
    "    \\sigma = K^{init} w_0 \\frac{w_c - w}{w_c - w_0}\\,\\, \\mathrm{when}\\,\\, w_0 < w_0 < w_c \\\\\n",
    "    \\sigma = 0 \\,\\,\\mathrm{when} w_c \\geq w\n",
    "    \\end{equation}"
   ]
  },
  {
   "cell_type": "code",
   "execution_count": 4,
   "metadata": {},
   "outputs": [
    {
     "data": {
      "image/png": "[encoded data removed]",
      "text/latex": [
       "$\\displaystyle \\begin{cases} K_{init} w & \\text{for}\\: w \\leq w_{0} \\\\\\frac{K_{init} w_{0} \\left(- w + w_{c}\\right)}{- w_{0} + w_{c}} & \\text{for}\\: w < w_{c} \\\\0 & \\text{otherwise} \\end{cases}$"
      ],
      "text/plain": [
       "⎧      Kᵢₙᵢₜ⋅w        for w ≤ w₀ \n",
       "⎪                                \n",
       "⎪Kᵢₙᵢₜ⋅w₀⋅(-w + w_c)             \n",
       "⎨───────────────────  for w < w_c\n",
       "⎪     -w₀ + w_c                  \n",
       "⎪                                \n",
       "⎩         0            otherwise "
      ]
     },
     "execution_count": 4,
     "metadata": {},
     "output_type": "execute_result"
    }
   ],
   "source": [
    "sigma = sp.Piecewise(\n",
    "    (K_init * w, w <= w_0),\n",
    "    (K_init * w_0 * ((w_c - w)/(w_c - w_0)), w < w_c),\n",
    "    (0, True)\n",
    ")\n",
    "sigma"
   ]
  },
  {
   "cell_type": "markdown",
   "metadata": {},
   "source": [
    "2) Assume relative displacement. Here, relative displacement is taken as the cubic function of $\\xi$:\n",
    "    \\begin{equation}\n",
    "        w(\\xi,\\zeta) = \\frac{1}{L^3}\\left[a(\\zeta)\\xi^3 + b(\\zeta)\\xi^2 + c(\\zeta)\\xi + d(\\zeta)\\right]\n",
    "    \\end{equation}\n",
    "   The coefficients can be found by the boundaring conditions stated below:\n",
    "   \\begin{equation}\n",
    "        w(\\zeta - L,\\zeta) = w_c \\\\\n",
    "        w(\\zeta ,\\zeta) = w_0 \\\\ \n",
    "        \\frac{\\partial \\hat{w}}{\\xi} = 0\n",
    "    \\end{equation}\n",
    "    where the derivative will be replaced by $\\zeta - L, \\zeta$ to give two more boundary conditions."
   ]
  },
  {
   "cell_type": "code",
   "execution_count": 5,
   "metadata": {},
   "outputs": [
    {
     "data": {
      "image/png": "[encoded data removed]",
      "text/latex": [
       "$\\displaystyle \\frac{\\xi^{3} a + \\xi^{2} b + \\xi c + d}{L^{3}}$"
      ],
      "text/plain": [
       "   3        2              \n",
       "\\xi ⋅a + \\xi ⋅b + \\xi⋅c + d\n",
       "───────────────────────────\n",
       "              3            \n",
       "             L             "
      ]
     },
     "execution_count": 5,
     "metadata": {},
     "output_type": "execute_result"
    }
   ],
   "source": [
    "# Relative Displacement taken as cubic function\n",
    "L = sp.Symbol('L', nonnegative = True)\n",
    "a = sp.Symbol('a', nonnegative = True)\n",
    "b = sp.Symbol('b', nonnegative = True)\n",
    "c = sp.Symbol('c', nonnegative = True)\n",
    "d = sp.Symbol('d', nonnegative = True)\n",
    "xi = sp.Symbol(r'\\xi', nonnegative = True)\n",
    "hat_w = (1 / L**3) * (a * xi**3 + b * xi**2 + c * xi + d)\n",
    "hat_w"
   ]
  },
  {
   "cell_type": "code",
   "execution_count": 6,
   "metadata": {},
   "outputs": [
    {
     "data": {
      "image/png": "[encoded data removed]",
      "text/latex": [
       "$\\displaystyle \\frac{- a \\left(L - \\zeta\\right)^{3} + b \\left(L - \\zeta\\right)^{2} - c \\left(L - \\zeta\\right) + d}{L^{3}}$"
      ],
      "text/plain": [
       "               3                2                    \n",
       "- a⋅(L - \\zeta)  + b⋅(L - \\zeta)  - c⋅(L - \\zeta) + d\n",
       "─────────────────────────────────────────────────────\n",
       "                           3                         \n",
       "                          L                          "
      ]
     },
     "execution_count": 6,
     "metadata": {},
     "output_type": "execute_result"
    }
   ],
   "source": [
    "zeta = sp.Symbol(r'\\zeta', nonnegative = True)\n",
    "hat_w_c = hat_w.subs(xi,(zeta - L))\n",
    "hat_w_c_sim = sp.simplify(hat_w_c)\n",
    "hat_w_c_sim"
   ]
  },
  {
   "cell_type": "code",
   "execution_count": 7,
   "metadata": {},
   "outputs": [
    {
     "data": {
      "image/png": "[encoded data removed]",
      "text/latex": [
       "$\\displaystyle \\frac{\\zeta^{3} a + \\zeta^{2} b + \\zeta c + d}{L^{3}}$"
      ],
      "text/plain": [
       "     3          2                \n",
       "\\zeta ⋅a + \\zeta ⋅b + \\zeta⋅c + d\n",
       "─────────────────────────────────\n",
       "                 3               \n",
       "                L                "
      ]
     },
     "execution_count": 7,
     "metadata": {},
     "output_type": "execute_result"
    }
   ],
   "source": [
    "hat_w_0 = hat_w.subs(xi,zeta)\n",
    "hat_w_0_sim = sp.simplify(hat_w_0)\n",
    "hat_w_0_sim"
   ]
  },
  {
   "cell_type": "code",
   "execution_count": 8,
   "metadata": {},
   "outputs": [
    {
     "data": {
      "image/png": "[encoded data removed]",
      "text/latex": [
       "$\\displaystyle \\frac{3 \\xi^{2} a + 2 \\xi b + c}{L^{3}}$"
      ],
      "text/plain": [
       "     2                \n",
       "3⋅\\xi ⋅a + 2⋅\\xi⋅b + c\n",
       "──────────────────────\n",
       "           3          \n",
       "          L           "
      ]
     },
     "execution_count": 8,
     "metadata": {},
     "output_type": "execute_result"
    }
   ],
   "source": [
    "diff_hat_w = hat_w.diff(xi)\n",
    "diff_hat_w"
   ]
  },
  {
   "cell_type": "code",
   "execution_count": 9,
   "metadata": {},
   "outputs": [
    {
     "data": {
      "image/png": "[encoded data removed]",
      "text/latex": [
       "$\\displaystyle \\frac{3 a \\left(- L + \\zeta\\right)^{2} + 2 b \\left(- L + \\zeta\\right) + c}{L^{3}}$"
      ],
      "text/plain": [
       "                2                       \n",
       "3⋅a⋅(-L + \\zeta)  + 2⋅b⋅(-L + \\zeta) + c\n",
       "────────────────────────────────────────\n",
       "                    3                   \n",
       "                   L                    "
      ]
     },
     "execution_count": 9,
     "metadata": {},
     "output_type": "execute_result"
    }
   ],
   "source": [
    "diff_hat_val_c = diff_hat_w.subs(xi, (zeta - L))\n",
    "diff_hat_val_c"
   ]
  },
  {
   "cell_type": "code",
   "execution_count": 10,
   "metadata": {},
   "outputs": [
    {
     "data": {
      "image/png": "[encoded data removed]",
      "text/latex": [
       "$\\displaystyle \\frac{3 \\zeta^{2} a + 2 \\zeta b + c}{L^{3}}$"
      ],
      "text/plain": [
       "       2                  \n",
       "3⋅\\zeta ⋅a + 2⋅\\zeta⋅b + c\n",
       "──────────────────────────\n",
       "             3            \n",
       "            L             "
      ]
     },
     "execution_count": 10,
     "metadata": {},
     "output_type": "execute_result"
    }
   ],
   "source": [
    "diff_hat_val_0 = diff_hat_w.subs(xi, zeta)\n",
    "diff_hat_val_0"
   ]
  },
  {
   "cell_type": "code",
   "execution_count": 11,
   "metadata": {},
   "outputs": [
    {
     "data": {
      "image/png": "[encoded data removed]",
      "text/latex": [
       "$\\displaystyle \\frac{- a \\left(L - \\zeta\\right)^{3} + b \\left(L - \\zeta\\right)^{2} - c \\left(L - \\zeta\\right) + d}{L^{3}} = w_{c}$"
      ],
      "text/plain": [
       "               3                2                          \n",
       "- a⋅(L - \\zeta)  + b⋅(L - \\zeta)  - c⋅(L - \\zeta) + d      \n",
       "───────────────────────────────────────────────────── = w_c\n",
       "                           3                               \n",
       "                          L                                "
      ]
     },
     "execution_count": 11,
     "metadata": {},
     "output_type": "execute_result"
    }
   ],
   "source": [
    "hat_w_c_eq = sp.Eq(hat_w_c_sim, w_c)\n",
    "hat_w_c_eq"
   ]
  },
  {
   "cell_type": "code",
   "execution_count": 12,
   "metadata": {},
   "outputs": [
    {
     "data": {
      "image/png": "[encoded data removed]",
      "text/latex": [
       "$\\displaystyle \\frac{\\zeta^{3} a + \\zeta^{2} b + \\zeta c + d}{L^{3}} = w_{0}$"
      ],
      "text/plain": [
       "     3          2                     \n",
       "\\zeta ⋅a + \\zeta ⋅b + \\zeta⋅c + d     \n",
       "───────────────────────────────── = w₀\n",
       "                 3                    \n",
       "                L                     "
      ]
     },
     "execution_count": 12,
     "metadata": {},
     "output_type": "execute_result"
    }
   ],
   "source": [
    "hat_w_0_eq = sp.Eq(hat_w_0_sim, w_0)\n",
    "hat_w_0_eq"
   ]
  },
  {
   "cell_type": "code",
   "execution_count": 13,
   "metadata": {},
   "outputs": [
    {
     "data": {
      "image/png": "[encoded data removed]",
      "text/latex": [
       "$\\displaystyle \\left\\{ a : - 2 w_{0} + 2 w_{c}, \\  b : - 3 L w_{0} + 3 L w_{c} + 6 \\zeta w_{0} - 6 \\zeta w_{c}, \\  c : 6 \\zeta \\left(L w_{0} - L w_{c} - \\zeta w_{0} + \\zeta w_{c}\\right), \\  d : L^{3} w_{0} - 3 L \\zeta^{2} w_{0} + 3 L \\zeta^{2} w_{c} + 2 \\zeta^{3} w_{0} - 2 \\zeta^{3} w_{c}\\right\\}$"
      ],
      "text/plain": [
       "⎧                                                                             \n",
       "⎨a: -2⋅w₀ + 2⋅w_c, b: -3⋅L⋅w₀ + 3⋅L⋅w_c + 6⋅\\zeta⋅w₀ - 6⋅\\zeta⋅w_c, c: 6⋅\\zeta\n",
       "⎩                                                                             \n",
       "\n",
       "                                            3               2               2 \n",
       "⋅(L⋅w₀ - L⋅w_c - \\zeta⋅w₀ + \\zeta⋅w_c), d: L ⋅w₀ - 3⋅L⋅\\zeta ⋅w₀ + 3⋅L⋅\\zeta ⋅\n",
       "                                                                              \n",
       "\n",
       "             3             3    ⎫\n",
       "w_c + 2⋅\\zeta ⋅w₀ - 2⋅\\zeta ⋅w_c⎬\n",
       "                                ⎭"
      ]
     },
     "execution_count": 13,
     "metadata": {},
     "output_type": "execute_result"
    }
   ],
   "source": [
    "co_efficients = sp.solve([(sp.Eq(diff_hat_val_0, 0)), (sp.Eq(diff_hat_val_c, 0)), (sp.Eq(hat_w_0_sim, w_0)),(sp.Eq(hat_w_c_sim, w_c))]\\\n",
    "                         , (a,b,c,d))\n",
    "co_efficients"
   ]
  },
  {
   "cell_type": "code",
   "execution_count": 14,
   "metadata": {},
   "outputs": [
    {
     "data": {
      "image/png": "[encoded data removed]",
      "text/latex": [
       "$\\displaystyle \\frac{L^{3} w_{0} - 3 L \\zeta^{2} w_{0} + 3 L \\zeta^{2} w_{c} + 2 \\xi^{3} \\left(- w_{0} + w_{c}\\right) + 3 \\xi^{2} \\left(- L w_{0} + L w_{c} + 2 \\zeta w_{0} - 2 \\zeta w_{c}\\right) + 6 \\xi \\zeta \\left(L w_{0} - L w_{c} - \\zeta w_{0} + \\zeta w_{c}\\right) + 2 \\zeta^{3} w_{0} - 2 \\zeta^{3} w_{c}}{L^{3}}$"
      ],
      "text/plain": [
       " 3               2               2            3                    2          \n",
       "L ⋅w₀ - 3⋅L⋅\\zeta ⋅w₀ + 3⋅L⋅\\zeta ⋅w_c + 2⋅\\xi ⋅(-w₀ + w_c) + 3⋅\\xi ⋅(-L⋅w₀ + \n",
       "──────────────────────────────────────────────────────────────────────────────\n",
       "                                                                              \n",
       "                                                                              \n",
       "\n",
       "                                                                              \n",
       "L⋅w_c + 2⋅\\zeta⋅w₀ - 2⋅\\zeta⋅w_c) + 6⋅\\xi⋅\\zeta⋅(L⋅w₀ - L⋅w_c - \\zeta⋅w₀ + \\ze\n",
       "──────────────────────────────────────────────────────────────────────────────\n",
       "                  3                                                           \n",
       "                 L                                                            \n",
       "\n",
       "                 3             3    \n",
       "ta⋅w_c) + 2⋅\\zeta ⋅w₀ - 2⋅\\zeta ⋅w_c\n",
       "────────────────────────────────────\n",
       "                                    \n",
       "                                    "
      ]
     },
     "execution_count": 14,
     "metadata": {},
     "output_type": "execute_result"
    }
   ],
   "source": [
    "hat_w_sub = hat_w.subs(a,co_efficients[a]).subs(b,co_efficients[b]).subs(c,co_efficients[c]).subs(d,co_efficients[d])\n",
    "hat_w_sim = sp.simplify(hat_w_sub)\n",
    "hat_w_sim"
   ]
  },
  {
   "cell_type": "markdown",
   "metadata": {},
   "source": [
    "3) Now obtain the damage distribution combining the constitutive relationship and the assigned relative displacement:"
   ]
  },
  {
   "cell_type": "code",
   "execution_count": 15,
   "metadata": {},
   "outputs": [
    {
     "data": {
      "image/png": "[encoded data removed]",
      "text/latex": [
       "$\\displaystyle \\begin{cases} 0 & \\text{for}\\: w \\leq w_{0} \\\\- \\frac{w_{c} \\left(w - w_{0}\\right)}{w \\left(w_{0} - w_{c}\\right)} & \\text{for}\\: w < w_{c} \\\\1 & \\text{otherwise} \\end{cases}$"
      ],
      "text/plain": [
       "⎧      0         for w ≤ w₀ \n",
       "⎪                           \n",
       "⎪-w_c⋅(w - w₀)              \n",
       "⎨──────────────  for w < w_c\n",
       "⎪ w⋅(w₀ - w_c)              \n",
       "⎪                           \n",
       "⎩      1          otherwise "
      ]
     },
     "execution_count": 15,
     "metadata": {},
     "output_type": "execute_result"
    }
   ],
   "source": [
    "omega_val = sp.solve(sp.Eq(sigma_soft, sigma), omega)\n",
    "omega_val[0]"
   ]
  },
  {
   "cell_type": "code",
   "execution_count": 16,
   "metadata": {},
   "outputs": [
    {
     "data": {
      "image/png": "[encoded data removed]",
      "text/latex": [
       "$\\displaystyle \\frac{L^{3} w_{c} \\left(- w_{0} + \\frac{L^{3} w_{0} - 3 L \\zeta^{2} w_{0} + 3 L \\zeta^{2} w_{c} + 2 \\xi^{3} \\left(- w_{0} + w_{c}\\right) + 3 \\xi^{2} \\left(- L w_{0} + L w_{c} + 2 \\zeta w_{0} - 2 \\zeta w_{c}\\right) + 6 \\xi \\zeta \\left(L w_{0} - L w_{c} - \\zeta w_{0} + \\zeta w_{c}\\right) + 2 \\zeta^{3} w_{0} - 2 \\zeta^{3} w_{c}}{L^{3}}\\right)}{\\left(- w_{0} + w_{c}\\right) \\left(L^{3} w_{0} - 3 L \\zeta^{2} w_{0} + 3 L \\zeta^{2} w_{c} + 2 \\xi^{3} \\left(- w_{0} + w_{c}\\right) + 3 \\xi^{2} \\left(- L w_{0} + L w_{c} + 2 \\zeta w_{0} - 2 \\zeta w_{c}\\right) + 6 \\xi \\zeta \\left(L w_{0} - L w_{c} - \\zeta w_{0} + \\zeta w_{c}\\right) + 2 \\zeta^{3} w_{0} - 2 \\zeta^{3} w_{c}\\right)}$"
      ],
      "text/plain": [
       "       ⎛       3               2               2            3                 \n",
       " 3     ⎜      L ⋅w₀ - 3⋅L⋅\\zeta ⋅w₀ + 3⋅L⋅\\zeta ⋅w_c + 2⋅\\xi ⋅(-w₀ + w_c) + 3⋅\n",
       "L ⋅w_c⋅⎜-w₀ + ────────────────────────────────────────────────────────────────\n",
       "       ⎜                                                                      \n",
       "       ⎝                                                                      \n",
       "──────────────────────────────────────────────────────────────────────────────\n",
       "             ⎛ 3               2               2            3                 \n",
       " (-w₀ + w_c)⋅⎝L ⋅w₀ - 3⋅L⋅\\zeta ⋅w₀ + 3⋅L⋅\\zeta ⋅w_c + 2⋅\\xi ⋅(-w₀ + w_c) + 3⋅\n",
       "\n",
       "   2                                                                          \n",
       "\\xi ⋅(-L⋅w₀ + L⋅w_c + 2⋅\\zeta⋅w₀ - 2⋅\\zeta⋅w_c) + 6⋅\\xi⋅\\zeta⋅(L⋅w₀ - L⋅w_c - \n",
       "──────────────────────────────────────────────────────────────────────────────\n",
       "                                3                                             \n",
       "                               L                                              \n",
       "──────────────────────────────────────────────────────────────────────────────\n",
       "   2                                                                          \n",
       "\\xi ⋅(-L⋅w₀ + L⋅w_c + 2⋅\\zeta⋅w₀ - 2⋅\\zeta⋅w_c) + 6⋅\\xi⋅\\zeta⋅(L⋅w₀ - L⋅w_c - \n",
       "\n",
       "                               3             3    ⎞\n",
       "\\zeta⋅w₀ + \\zeta⋅w_c) + 2⋅\\zeta ⋅w₀ - 2⋅\\zeta ⋅w_c⎟\n",
       "──────────────────────────────────────────────────⎟\n",
       "                                                  ⎟\n",
       "                                                  ⎠\n",
       "───────────────────────────────────────────────────\n",
       "                               3             3    ⎞\n",
       "\\zeta⋅w₀ + \\zeta⋅w_c) + 2⋅\\zeta ⋅w₀ - 2⋅\\zeta ⋅w_c⎠"
      ]
     },
     "execution_count": 16,
     "metadata": {},
     "output_type": "execute_result"
    }
   ],
   "source": [
    "omega = (w_c * (hat_w_sim - w_0))/(hat_w_sim * (w_c - w_0))\n",
    "    #d_val[0].subs(omega, hat_omega_sim)\n",
    "#d_sim = sp.simplify(d_sub)\n",
    "omega"
   ]
  },
  {
   "cell_type": "code",
   "execution_count": 30,
   "metadata": {},
   "outputs": [
    {
     "data": {
      "image/png": "[encoded data removed]",
      "text/latex": [
       "$\\displaystyle \\frac{L^{3} w_{c} \\left(- w_{0} + \\frac{L^{3} w_{0} - 3 L \\zeta^{2} w_{0} + 3 L \\zeta^{2} w_{c} + 2 \\xi^{3} \\left(- w_{0} + w_{c}\\right) + 3 \\xi^{2} \\left(- L w_{0} + L w_{c} + 2 \\zeta w_{0} - 2 \\zeta w_{c}\\right) + 6 \\xi \\zeta \\left(L w_{0} - L w_{c} - \\zeta w_{0} + \\zeta w_{c}\\right) + 2 \\zeta^{3} w_{0} - 2 \\zeta^{3} w_{c}}{L^{3}}\\right) \\left(6 L \\zeta w_{0} - 6 L \\zeta w_{c} - 3 \\xi^{2} \\left(2 w_{0} - 2 w_{c}\\right) - 6 \\xi \\zeta \\left(- w_{0} + w_{c}\\right) - 6 \\xi \\left(L w_{0} - L w_{c} - \\zeta w_{0} + \\zeta w_{c}\\right) - 6 \\zeta^{2} w_{0} + 6 \\zeta^{2} w_{c}\\right)}{\\left(- w_{0} + w_{c}\\right) \\left(L^{3} w_{0} - 3 L \\zeta^{2} w_{0} + 3 L \\zeta^{2} w_{c} + 2 \\xi^{3} \\left(- w_{0} + w_{c}\\right) + 3 \\xi^{2} \\left(- L w_{0} + L w_{c} + 2 \\zeta w_{0} - 2 \\zeta w_{c}\\right) + 6 \\xi \\zeta \\left(L w_{0} - L w_{c} - \\zeta w_{0} + \\zeta w_{c}\\right) + 2 \\zeta^{3} w_{0} - 2 \\zeta^{3} w_{c}\\right)^{2}} + \\frac{w_{c} \\left(- 6 L \\zeta w_{0} + 6 L \\zeta w_{c} + 3 \\xi^{2} \\left(2 w_{0} - 2 w_{c}\\right) + 6 \\xi \\zeta \\left(- w_{0} + w_{c}\\right) + 6 \\xi \\left(L w_{0} - L w_{c} - \\zeta w_{0} + \\zeta w_{c}\\right) + 6 \\zeta^{2} w_{0} - 6 \\zeta^{2} w_{c}\\right)}{\\left(- w_{0} + w_{c}\\right) \\left(L^{3} w_{0} - 3 L \\zeta^{2} w_{0} + 3 L \\zeta^{2} w_{c} + 2 \\xi^{3} \\left(- w_{0} + w_{c}\\right) + 3 \\xi^{2} \\left(- L w_{0} + L w_{c} + 2 \\zeta w_{0} - 2 \\zeta w_{c}\\right) + 6 \\xi \\zeta \\left(L w_{0} - L w_{c} - \\zeta w_{0} + \\zeta w_{c}\\right) + 2 \\zeta^{3} w_{0} - 2 \\zeta^{3} w_{c}\\right)}$"
      ],
      "text/plain": [
       "       ⎛       3               2               2            3                 \n",
       " 3     ⎜      L ⋅w₀ - 3⋅L⋅\\zeta ⋅w₀ + 3⋅L⋅\\zeta ⋅w_c + 2⋅\\xi ⋅(-w₀ + w_c) + 3⋅\n",
       "L ⋅w_c⋅⎜-w₀ + ────────────────────────────────────────────────────────────────\n",
       "       ⎜                                                                      \n",
       "       ⎝                                                                      \n",
       "──────────────────────────────────────────────────────────────────────────────\n",
       "                                                                              \n",
       "                                                                              \n",
       "                                                                              \n",
       "\n",
       "   2                                                                          \n",
       "\\xi ⋅(-L⋅w₀ + L⋅w_c + 2⋅\\zeta⋅w₀ - 2⋅\\zeta⋅w_c) + 6⋅\\xi⋅\\zeta⋅(L⋅w₀ - L⋅w_c - \n",
       "──────────────────────────────────────────────────────────────────────────────\n",
       "                                3                                             \n",
       "                               L                                              \n",
       "──────────────────────────────────────────────────────────────────────────────\n",
       "                                                                              \n",
       "            ⎛ 3               2               2            3                  \n",
       "(-w₀ + w_c)⋅⎝L ⋅w₀ - 3⋅L⋅\\zeta ⋅w₀ + 3⋅L⋅\\zeta ⋅w_c + 2⋅\\xi ⋅(-w₀ + w_c) + 3⋅\\\n",
       "\n",
       "                               3             3    ⎞                           \n",
       "\\zeta⋅w₀ + \\zeta⋅w_c) + 2⋅\\zeta ⋅w₀ - 2⋅\\zeta ⋅w_c⎟ ⎛                         \n",
       "──────────────────────────────────────────────────⎟⋅⎝6⋅L⋅\\zeta⋅w₀ - 6⋅L⋅\\zeta⋅\n",
       "                                                  ⎟                           \n",
       "                                                  ⎠                           \n",
       "──────────────────────────────────────────────────────────────────────────────\n",
       "                                                                              \n",
       "  2                                                                           \n",
       "xi ⋅(-L⋅w₀ + L⋅w_c + 2⋅\\zeta⋅w₀ - 2⋅\\zeta⋅w_c) + 6⋅\\xi⋅\\zeta⋅(L⋅w₀ - L⋅w_c - \\\n",
       "\n",
       "                                                                              \n",
       "           2                                                                  \n",
       "w_c - 3⋅\\xi ⋅(2⋅w₀ - 2⋅w_c) - 6⋅\\xi⋅\\zeta⋅(-w₀ + w_c) - 6⋅\\xi⋅(L⋅w₀ - L⋅w_c - \n",
       "                                                                              \n",
       "                                                                              \n",
       "──────────────────────────────────────────────────────────────────────────────\n",
       "                                                  2                           \n",
       "                              3             3    ⎞                            \n",
       "zeta⋅w₀ + \\zeta⋅w_c) + 2⋅\\zeta ⋅w₀ - 2⋅\\zeta ⋅w_c⎠                            \n",
       "\n",
       "                                                                              \n",
       "                               2             2    ⎞                           \n",
       "\\zeta⋅w₀ + \\zeta⋅w_c) - 6⋅\\zeta ⋅w₀ + 6⋅\\zeta ⋅w_c⎠                           \n",
       "                                                                              \n",
       "                                                                             w\n",
       "─────────────────────────────────────────────────── + ────────────────────────\n",
       "                                                                  ⎛ 3         \n",
       "                                                      (-w₀ + w_c)⋅⎝L ⋅w₀ - 3⋅L\n",
       "                                                                              \n",
       "\n",
       "                                                                              \n",
       "                                                                              \n",
       "                                                                              \n",
       "   ⎛                                     2                                    \n",
       "_c⋅⎝-6⋅L⋅\\zeta⋅w₀ + 6⋅L⋅\\zeta⋅w_c + 3⋅\\xi ⋅(2⋅w₀ - 2⋅w_c) + 6⋅\\xi⋅\\zeta⋅(-w₀ +\n",
       "──────────────────────────────────────────────────────────────────────────────\n",
       "      2               2            3                    2                     \n",
       "⋅\\zeta ⋅w₀ + 3⋅L⋅\\zeta ⋅w_c + 2⋅\\xi ⋅(-w₀ + w_c) + 3⋅\\xi ⋅(-L⋅w₀ + L⋅w_c + 2⋅\\\n",
       "                                                                              \n",
       "\n",
       "                                                                              \n",
       "                                                                              \n",
       "                                                                              \n",
       "                                                             2             2  \n",
       " w_c) + 6⋅\\xi⋅(L⋅w₀ - L⋅w_c - \\zeta⋅w₀ + \\zeta⋅w_c) + 6⋅\\zeta ⋅w₀ - 6⋅\\zeta ⋅w\n",
       "──────────────────────────────────────────────────────────────────────────────\n",
       "                                                                              \n",
       "zeta⋅w₀ - 2⋅\\zeta⋅w_c) + 6⋅\\xi⋅\\zeta⋅(L⋅w₀ - L⋅w_c - \\zeta⋅w₀ + \\zeta⋅w_c) + 2\n",
       "                                                                              \n",
       "\n",
       "                          \n",
       "                          \n",
       "                          \n",
       "  ⎞                       \n",
       "_c⎠                       \n",
       "──────────────────────────\n",
       "      3             3    ⎞\n",
       "⋅\\zeta ⋅w₀ - 2⋅\\zeta ⋅w_c⎠\n",
       "                          "
      ]
     },
     "execution_count": 30,
     "metadata": {},
     "output_type": "execute_result"
    }
   ],
   "source": [
    "omega.diff(zeta)"
   ]
  },
  {
   "cell_type": "markdown",
   "metadata": {},
   "source": [
    "4) Consider a set $L$ of $n_L$ possible fracture zone lengths such as:\n",
    "    \\begin{equation}\n",
    "    L = L_1, L_2,...., L_i, ...., L_{n_L}\n",
    "    \\end{equation}\n",
    "5) Assign $L = L_i$"
   ]
  },
  {
   "cell_type": "code",
   "execution_count": 31,
   "metadata": {},
   "outputs": [],
   "source": [
    "L_val = np.linspace(200,600,3)"
   ]
  },
  {
   "cell_type": "markdown",
   "metadata": {},
   "source": [
    "6) Determine R-curve as:\n",
    "    \\begin{equation}\n",
    "    R = \\frac{1}{2} K^{init} \\int_{(\\zeta - L)^+}^{\\zeta} w^2 \\frac{\\partial D}{\\partial \\zeta} d \\xi\n",
    "    \\end{equation}"
   ]
  },
  {
   "cell_type": "code",
   "execution_count": 32,
   "metadata": {},
   "outputs": [
    {
     "data": {
      "image/png": "[encoded data removed]",
      "text/latex": [
       "$\\displaystyle - \\frac{0.5 K_{init} \\xi w_{0} w_{c} \\left(2 \\xi^{2} + 3 \\xi \\left(L - 2 \\zeta\\right) - 6 \\zeta \\left(L - \\zeta\\right)\\right)}{L^{3}}$"
      ],
      "text/plain": [
       "                      ⎛     2                                            ⎞ \n",
       "-0.5⋅Kᵢₙᵢₜ⋅\\xi⋅w₀⋅w_c⋅⎝2⋅\\xi  + 3⋅\\xi⋅(L - 2⋅\\zeta) - 6⋅\\zeta⋅(L - \\zeta)⎠ \n",
       "───────────────────────────────────────────────────────────────────────────\n",
       "                                      3                                    \n",
       "                                     L                                     "
      ]
     },
     "execution_count": 32,
     "metadata": {},
     "output_type": "execute_result"
    }
   ],
   "source": [
    "# R-curve\n",
    "xi_ = zeta - L\n",
    "R = ((1/2) * K_init * sp.integrate(hat_w_sim**2 * omega.diff(zeta), xi))#, (zeta - L, zeta))\n",
    "#R_eq = R.subs(omega, hat_omega_sim)\n",
    "R_sim = sp.simplify(R)\n",
    "R_sim"
   ]
  },
  {
   "cell_type": "code",
   "execution_count": 33,
   "metadata": {},
   "outputs": [
    {
     "data": {
      "image/png": "[encoded data removed]",
      "text/latex": [
       "$\\displaystyle - \\frac{0.5 K_{init} w_{0} w_{c} \\left(L - \\zeta\\right)^{2} \\left(L + 2 \\zeta\\right)}{L^{3}}$"
      ],
      "text/plain": [
       "                             2               \n",
       "-0.5⋅Kᵢₙᵢₜ⋅w₀⋅w_c⋅(L - \\zeta) ⋅(L + 2⋅\\zeta) \n",
       "─────────────────────────────────────────────\n",
       "                       3                     \n",
       "                      L                      "
      ]
     },
     "execution_count": 33,
     "metadata": {},
     "output_type": "execute_result"
    }
   ],
   "source": [
    "R_xi = R_sim.subs(xi, xi_)\n",
    "R_curve = sp.simplify(R_xi)\n",
    "R_curve"
   ]
  },
  {
   "cell_type": "code",
   "execution_count": 35,
   "metadata": {},
   "outputs": [
    {
     "data": {
      "text/plain": [
       "<function _lambdifygenerated(K_init, w_0, w_c, L, Dummy_224)>"
      ]
     },
     "execution_count": 35,
     "metadata": {},
     "output_type": "execute_result"
    }
   ],
   "source": [
    "w_0 = sp.Symbol(r'w_0', nonnegative = True)\n",
    "w_c = sp.Symbol(r'w_c', nonnegative = True)\n",
    "get_R = sp.lambdify((K_init, w_0,w_c, L, zeta), R_curve, 'numpy')\n",
    "get_R"
   ]
  },
  {
   "cell_type": "code",
   "execution_count": 36,
   "metadata": {},
   "outputs": [
    {
     "data": {
      "image/png": "[encoded data removed]",
      "text/latex": [
       "$\\displaystyle \\frac{2 \\bar{G_c}}{f_{t}}$"
      ],
      "text/plain": [
       "2⋅\\bar{G_c}\n",
       "───────────\n",
       "     fₜ    "
      ]
     },
     "execution_count": 36,
     "metadata": {},
     "output_type": "execute_result"
    }
   ],
   "source": [
    "params = {E : 30000, #N/mm2\n",
    "         G_c_2 : 0.025, #N/mm2\n",
    "         K_init : 100000000, #N/mm3\n",
    "         nu : 0.2, \n",
    "         f_t : 3 #N/mm2\n",
    "         }\n",
    "w_0 = f_t / K_init\n",
    "w_c = 2 * G_c_2 / f_t\n",
    "w_c"
   ]
  },
  {
   "cell_type": "code",
   "execution_count": 56,
   "metadata": {},
   "outputs": [
    {
     "name": "stdout",
     "output_type": "stream",
     "text": [
      "R [-0.0250000000000000 -0.0202846364883402 -0.0104252400548697\n",
      " -0.00185185185185185 -0.000994513031550069 -0.0142832647462277\n",
      " -0.0481481481481482 -0.109019204389575 -0.203326474622771\n",
      " -0.337500000000000]\n",
      "R [-0.0125000000000000 -0.00940393518518518 -0.00648148148148148\n",
      " -0.00390625000000000 -0.00185185185185185 -0.000491898148148148 0\n",
      " -0.000549768518518520 -0.00231481481481482 -0.00546875000000000]\n",
      "R [-0.00648148148148148 -0.00587308845196362 -0.00528374739623025\n",
      " -0.00471536351165981 -0.00416984199563075 -0.00364908804552152\n",
      " -0.00315500685871056 -0.00268950363257633 -0.00225448356449728\n",
      " -0.00185185185185185]\n",
      "zeta_val [  0.          54.54545455 109.09090909 163.63636364 218.18181818\n",
      " 272.72727273 327.27272727 381.81818182 436.36363636 490.90909091\n",
      " 545.45454545 600.        ]\n"
     ]
    }
   ],
   "source": [
    "L_val = np.linspace(200,600,3)\n",
    "R_xi_1 = np.zeros(10)\n",
    "R_xi_2 = np.zeros(10)\n",
    "R_xi_3 = np.zeros(10)\n",
    "for i, L_ in enumerate(L_val):\n",
    "    params = {E : 30000, #N/mm2\n",
    "         G_c_2 : 0.025, #N/mm2\n",
    "         K_init : 100000000, #N/mm3\n",
    "         nu : 0.2, \n",
    "         f_t : 3 #N/mm2\n",
    "         }\n",
    "    w_0 = f_t.subs(params) / K_init.subs(params)\n",
    "    w_c = 2 * G_c_2.subs(params) / f_t.subs(params)\n",
    "    zeta_val = np.linspace(0, 600, 12)\n",
    "    for j, z_ in enumerate(zeta_val): \n",
    "        if L_ == 200:\n",
    "            zeta_1 = np.linspace(0, 500, 10)\n",
    "            R_xi_1 = get_R(K_init.subs(params), w_0, w_c, L_, zeta_1)\n",
    "        if L_ == 400:\n",
    "            zeta_2 = np.linspace(200, 500, 10)\n",
    "            R_xi_2 = get_R(K_init.subs(params), w_0, w_c, L_, zeta_2)\n",
    "        if L_ == 600:\n",
    "            zeta_3 = np.linspace(400, 500, 10)\n",
    "            R_xi_3 = get_R(K_init.subs(params), w_0, w_c, L_, zeta_3)\n",
    "    #R_xi_ = np.concatenate(R_xi_1, R_xi_2, R_xi_3)\n",
    "print('R', R_xi_1)\n",
    "print('R', R_xi_2)\n",
    "print('R', R_xi_3)\n",
    "print('zeta_val', zeta_val)\n",
    "\n",
    "    "
   ]
  },
  {
   "cell_type": "code",
   "execution_count": 57,
   "metadata": {},
   "outputs": [
    {
     "data": {
      "application/javascript": [
       "/* Put everything inside the global mpl namespace */\n",
       "window.mpl = {};\n",
       "\n",
       "\n",
       "mpl.get_websocket_type = function() {\n",
       "    if (typeof(WebSocket) !== 'undefined') {\n",
       "        return WebSocket;\n",
       "    } else if (typeof(MozWebSocket) !== 'undefined') {\n",
       "        return MozWebSocket;\n",
       "    } else {\n",
       "        alert('Your browser does not have WebSocket support. ' +\n",
       "              'Please try Chrome, Safari or Firefox ≥ 6. ' +\n",
       "              'Firefox 4 and 5 are also supported but you ' +\n",
       "              'have to enable WebSockets in about:config.');\n",
       "    };\n",
       "}\n",
       "\n",
       "mpl.figure = function(figure_id, websocket, ondownload, parent_element) {\n",
       "    this.id = figure_id;\n",
       "\n",
       "    this.ws = websocket;\n",
       "\n",
       "    this.supports_binary = (this.ws.binaryType != undefined);\n",
       "\n",
       "    if (!this.supports_binary) {\n",
       "        var warnings = document.getElementById(\"mpl-warnings\");\n",
       "        if (warnings) {\n",
       "            warnings.style.display = 'block';\n",
       "            warnings.textContent = (\n",
       "                \"This browser does not support binary websocket messages. \" +\n",
       "                    \"Performance may be slow.\");\n",
       "        }\n",
       "    }\n",
       "\n",
       "    this.imageObj = new Image();\n",
       "\n",
       "    this.context = undefined;\n",
       "    this.message = undefined;\n",
       "    this.canvas = undefined;\n",
       "    this.rubberband_canvas = undefined;\n",
       "    this.rubberband_context = undefined;\n",
       "    this.format_dropdown = undefined;\n",
       "\n",
       "    this.image_mode = 'full';\n",
       "\n",
       "    this.root = $('<div/>');\n",
       "    this._root_extra_style(this.root)\n",
       "    this.root.attr('style', 'display: inline-block');\n",
       "\n",
       "    $(parent_element).append(this.root);\n",
       "\n",
       "    this._init_header(this);\n",
       "    this._init_canvas(this);\n",
       "    this._init_toolbar(this);\n",
       "\n",
       "    var fig = this;\n",
       "\n",
       "    this.waiting = false;\n",
       "\n",
       "    this.ws.onopen =  function () {\n",
       "            fig.send_message(\"supports_binary\", {value: fig.supports_binary});\n",
       "            fig.send_message(\"send_image_mode\", {});\n",
       "            if (mpl.ratio != 1) {\n",
       "                fig.send_message(\"set_dpi_ratio\", {'dpi_ratio': mpl.ratio});\n",
       "            }\n",
       "            fig.send_message(\"refresh\", {});\n",
       "        }\n",
       "\n",
       "    this.imageObj.onload = function() {\n",
       "            if (fig.image_mode == 'full') {\n",
       "                // Full images could contain transparency (where diff images\n",
       "                // almost always do), so we need to clear the canvas so that\n",
       "                // there is no ghosting.\n",
       "                fig.context.clearRect(0, 0, fig.canvas.width, fig.canvas.height);\n",
       "            }\n",
       "            fig.context.drawImage(fig.imageObj, 0, 0);\n",
       "        };\n",
       "\n",
       "    this.imageObj.onunload = function() {\n",
       "        fig.ws.close();\n",
       "    }\n",
       "\n",
       "    this.ws.onmessage = this._make_on_message_function(this);\n",
       "\n",
       "    this.ondownload = ondownload;\n",
       "}\n",
       "\n",
       "mpl.figure.prototype._init_header = function() {\n",
       "    var titlebar = $(\n",
       "        '<div class=\"ui-dialog-titlebar ui-widget-header ui-corner-all ' +\n",
       "        'ui-helper-clearfix\"/>');\n",
       "    var titletext = $(\n",
       "        '<div class=\"ui-dialog-title\" style=\"width: 100%; ' +\n",
       "        'text-align: center; padding: 3px;\"/>');\n",
       "    titlebar.append(titletext)\n",
       "    this.root.append(titlebar);\n",
       "    this.header = titletext[0];\n",
       "}\n",
       "\n",
       "\n",
       "\n",
       "mpl.figure.prototype._canvas_extra_style = function(canvas_div) {\n",
       "\n",
       "}\n",
       "\n",
       "\n",
       "mpl.figure.prototype._root_extra_style = function(canvas_div) {\n",
       "\n",
       "}\n",
       "\n",
       "mpl.figure.prototype._init_canvas = function() {\n",
       "    var fig = this;\n",
       "\n",
       "    var canvas_div = $('<div/>');\n",
       "\n",
       "    canvas_div.attr('style', 'position: relative; clear: both; outline: 0');\n",
       "\n",
       "    function canvas_keyboard_event(event) {\n",
       "        return fig.key_event(event, event['data']);\n",
       "    }\n",
       "\n",
       "    canvas_div.keydown('key_press', canvas_keyboard_event);\n",
       "    canvas_div.keyup('key_release', canvas_keyboard_event);\n",
       "    this.canvas_div = canvas_div\n",
       "    this._canvas_extra_style(canvas_div)\n",
       "    this.root.append(canvas_div);\n",
       "\n",
       "    var canvas = $('<canvas/>');\n",
       "    canvas.addClass('mpl-canvas');\n",
       "    canvas.attr('style', \"left: 0; top: 0; z-index: 0; outline: 0\")\n",
       "\n",
       "    this.canvas = canvas[0];\n",
       "    this.context = canvas[0].getContext(\"2d\");\n",
       "\n",
       "    var backingStore = this.context.backingStorePixelRatio ||\n",
       "\tthis.context.webkitBackingStorePixelRatio ||\n",
       "\tthis.context.mozBackingStorePixelRatio ||\n",
       "\tthis.context.msBackingStorePixelRatio ||\n",
       "\tthis.context.oBackingStorePixelRatio ||\n",
       "\tthis.context.backingStorePixelRatio || 1;\n",
       "\n",
       "    mpl.ratio = (window.devicePixelRatio || 1) / backingStore;\n",
       "\n",
       "    var rubberband = $('<canvas/>');\n",
       "    rubberband.attr('style', \"position: absolute; left: 0; top: 0; z-index: 1;\")\n",
       "\n",
       "    var pass_mouse_events = true;\n",
       "\n",
       "    canvas_div.resizable({\n",
       "        start: function(event, ui) {\n",
       "            pass_mouse_events = false;\n",
       "        },\n",
       "        resize: function(event, ui) {\n",
       "            fig.request_resize(ui.size.width, ui.size.height);\n",
       "        },\n",
       "        stop: function(event, ui) {\n",
       "            pass_mouse_events = true;\n",
       "            fig.request_resize(ui.size.width, ui.size.height);\n",
       "        },\n",
       "    });\n",
       "\n",
       "    function mouse_event_fn(event) {\n",
       "        if (pass_mouse_events)\n",
       "            return fig.mouse_event(event, event['data']);\n",
       "    }\n",
       "\n",
       "    rubberband.mousedown('button_press', mouse_event_fn);\n",
       "    rubberband.mouseup('button_release', mouse_event_fn);\n",
       "    // Throttle sequential mouse events to 1 every 20ms.\n",
       "    rubberband.mousemove('motion_notify', mouse_event_fn);\n",
       "\n",
       "    rubberband.mouseenter('figure_enter', mouse_event_fn);\n",
       "    rubberband.mouseleave('figure_leave', mouse_event_fn);\n",
       "\n",
       "    canvas_div.on(\"wheel\", function (event) {\n",
       "        event = event.originalEvent;\n",
       "        event['data'] = 'scroll'\n",
       "        if (event.deltaY < 0) {\n",
       "            event.step = 1;\n",
       "        } else {\n",
       "            event.step = -1;\n",
       "        }\n",
       "        mouse_event_fn(event);\n",
       "    });\n",
       "\n",
       "    canvas_div.append(canvas);\n",
       "    canvas_div.append(rubberband);\n",
       "\n",
       "    this.rubberband = rubberband;\n",
       "    this.rubberband_canvas = rubberband[0];\n",
       "    this.rubberband_context = rubberband[0].getContext(\"2d\");\n",
       "    this.rubberband_context.strokeStyle = \"#000000\";\n",
       "\n",
       "    this._resize_canvas = function(width, height) {\n",
       "        // Keep the size of the canvas, canvas container, and rubber band\n",
       "        // canvas in synch.\n",
       "        canvas_div.css('width', width)\n",
       "        canvas_div.css('height', height)\n",
       "\n",
       "        canvas.attr('width', width * mpl.ratio);\n",
       "        canvas.attr('height', height * mpl.ratio);\n",
       "        canvas.attr('style', 'width: ' + width + 'px; height: ' + height + 'px;');\n",
       "\n",
       "        rubberband.attr('width', width);\n",
       "        rubberband.attr('height', height);\n",
       "    }\n",
       "\n",
       "    // Set the figure to an initial 600x600px, this will subsequently be updated\n",
       "    // upon first draw.\n",
       "    this._resize_canvas(600, 600);\n",
       "\n",
       "    // Disable right mouse context menu.\n",
       "    $(this.rubberband_canvas).bind(\"contextmenu\",function(e){\n",
       "        return false;\n",
       "    });\n",
       "\n",
       "    function set_focus () {\n",
       "        canvas.focus();\n",
       "        canvas_div.focus();\n",
       "    }\n",
       "\n",
       "    window.setTimeout(set_focus, 100);\n",
       "}\n",
       "\n",
       "mpl.figure.prototype._init_toolbar = function() {\n",
       "    var fig = this;\n",
       "\n",
       "    var nav_element = $('<div/>');\n",
       "    nav_element.attr('style', 'width: 100%');\n",
       "    this.root.append(nav_element);\n",
       "\n",
       "    // Define a callback function for later on.\n",
       "    function toolbar_event(event) {\n",
       "        return fig.toolbar_button_onclick(event['data']);\n",
       "    }\n",
       "    function toolbar_mouse_event(event) {\n",
       "        return fig.toolbar_button_onmouseover(event['data']);\n",
       "    }\n",
       "\n",
       "    for(var toolbar_ind in mpl.toolbar_items) {\n",
       "        var name = mpl.toolbar_items[toolbar_ind][0];\n",
       "        var tooltip = mpl.toolbar_items[toolbar_ind][1];\n",
       "        var image = mpl.toolbar_items[toolbar_ind][2];\n",
       "        var method_name = mpl.toolbar_items[toolbar_ind][3];\n",
       "\n",
       "        if (!name) {\n",
       "            // put a spacer in here.\n",
       "            continue;\n",
       "        }\n",
       "        var button = $('<button/>');\n",
       "        button.addClass('ui-button ui-widget ui-state-default ui-corner-all ' +\n",
       "                        'ui-button-icon-only');\n",
       "        button.attr('role', 'button');\n",
       "        button.attr('aria-disabled', 'false');\n",
       "        button.click(method_name, toolbar_event);\n",
       "        button.mouseover(tooltip, toolbar_mouse_event);\n",
       "\n",
       "        var icon_img = $('<span/>');\n",
       "        icon_img.addClass('ui-button-icon-primary ui-icon');\n",
       "        icon_img.addClass(image);\n",
       "        icon_img.addClass('ui-corner-all');\n",
       "\n",
       "        var tooltip_span = $('<span/>');\n",
       "        tooltip_span.addClass('ui-button-text');\n",
       "        tooltip_span.html(tooltip);\n",
       "\n",
       "        button.append(icon_img);\n",
       "        button.append(tooltip_span);\n",
       "\n",
       "        nav_element.append(button);\n",
       "    }\n",
       "\n",
       "    var fmt_picker_span = $('<span/>');\n",
       "\n",
       "    var fmt_picker = $('<select/>');\n",
       "    fmt_picker.addClass('mpl-toolbar-option ui-widget ui-widget-content');\n",
       "    fmt_picker_span.append(fmt_picker);\n",
       "    nav_element.append(fmt_picker_span);\n",
       "    this.format_dropdown = fmt_picker[0];\n",
       "\n",
       "    for (var ind in mpl.extensions) {\n",
       "        var fmt = mpl.extensions[ind];\n",
       "        var option = $(\n",
       "            '<option/>', {selected: fmt === mpl.default_extension}).html(fmt);\n",
       "        fmt_picker.append(option);\n",
       "    }\n",
       "\n",
       "    // Add hover states to the ui-buttons\n",
       "    $( \".ui-button\" ).hover(\n",
       "        function() { $(this).addClass(\"ui-state-hover\");},\n",
       "        function() { $(this).removeClass(\"ui-state-hover\");}\n",
       "    );\n",
       "\n",
       "    var status_bar = $('<span class=\"mpl-message\"/>');\n",
       "    nav_element.append(status_bar);\n",
       "    this.message = status_bar[0];\n",
       "}\n",
       "\n",
       "mpl.figure.prototype.request_resize = function(x_pixels, y_pixels) {\n",
       "    // Request matplotlib to resize the figure. Matplotlib will then trigger a resize in the client,\n",
       "    // which will in turn request a refresh of the image.\n",
       "    this.send_message('resize', {'width': x_pixels, 'height': y_pixels});\n",
       "}\n",
       "\n",
       "mpl.figure.prototype.send_message = function(type, properties) {\n",
       "    properties['type'] = type;\n",
       "    properties['figure_id'] = this.id;\n",
       "    this.ws.send(JSON.stringify(properties));\n",
       "}\n",
       "\n",
       "mpl.figure.prototype.send_draw_message = function() {\n",
       "    if (!this.waiting) {\n",
       "        this.waiting = true;\n",
       "        this.ws.send(JSON.stringify({type: \"draw\", figure_id: this.id}));\n",
       "    }\n",
       "}\n",
       "\n",
       "\n",
       "mpl.figure.prototype.handle_save = function(fig, msg) {\n",
       "    var format_dropdown = fig.format_dropdown;\n",
       "    var format = format_dropdown.options[format_dropdown.selectedIndex].value;\n",
       "    fig.ondownload(fig, format);\n",
       "}\n",
       "\n",
       "\n",
       "mpl.figure.prototype.handle_resize = function(fig, msg) {\n",
       "    var size = msg['size'];\n",
       "    if (size[0] != fig.canvas.width || size[1] != fig.canvas.height) {\n",
       "        fig._resize_canvas(size[0], size[1]);\n",
       "        fig.send_message(\"refresh\", {});\n",
       "    };\n",
       "}\n",
       "\n",
       "mpl.figure.prototype.handle_rubberband = function(fig, msg) {\n",
       "    var x0 = msg['x0'] / mpl.ratio;\n",
       "    var y0 = (fig.canvas.height - msg['y0']) / mpl.ratio;\n",
       "    var x1 = msg['x1'] / mpl.ratio;\n",
       "    var y1 = (fig.canvas.height - msg['y1']) / mpl.ratio;\n",
       "    x0 = Math.floor(x0) + 0.5;\n",
       "    y0 = Math.floor(y0) + 0.5;\n",
       "    x1 = Math.floor(x1) + 0.5;\n",
       "    y1 = Math.floor(y1) + 0.5;\n",
       "    var min_x = Math.min(x0, x1);\n",
       "    var min_y = Math.min(y0, y1);\n",
       "    var width = Math.abs(x1 - x0);\n",
       "    var height = Math.abs(y1 - y0);\n",
       "\n",
       "    fig.rubberband_context.clearRect(\n",
       "        0, 0, fig.canvas.width / mpl.ratio, fig.canvas.height / mpl.ratio);\n",
       "\n",
       "    fig.rubberband_context.strokeRect(min_x, min_y, width, height);\n",
       "}\n",
       "\n",
       "mpl.figure.prototype.handle_figure_label = function(fig, msg) {\n",
       "    // Updates the figure title.\n",
       "    fig.header.textContent = msg['label'];\n",
       "}\n",
       "\n",
       "mpl.figure.prototype.handle_cursor = function(fig, msg) {\n",
       "    var cursor = msg['cursor'];\n",
       "    switch(cursor)\n",
       "    {\n",
       "    case 0:\n",
       "        cursor = 'pointer';\n",
       "        break;\n",
       "    case 1:\n",
       "        cursor = 'default';\n",
       "        break;\n",
       "    case 2:\n",
       "        cursor = 'crosshair';\n",
       "        break;\n",
       "    case 3:\n",
       "        cursor = 'move';\n",
       "        break;\n",
       "    }\n",
       "    fig.rubberband_canvas.style.cursor = cursor;\n",
       "}\n",
       "\n",
       "mpl.figure.prototype.handle_message = function(fig, msg) {\n",
       "    fig.message.textContent = msg['message'];\n",
       "}\n",
       "\n",
       "mpl.figure.prototype.handle_draw = function(fig, msg) {\n",
       "    // Request the server to send over a new figure.\n",
       "    fig.send_draw_message();\n",
       "}\n",
       "\n",
       "mpl.figure.prototype.handle_image_mode = function(fig, msg) {\n",
       "    fig.image_mode = msg['mode'];\n",
       "}\n",
       "\n",
       "mpl.figure.prototype.updated_canvas_event = function() {\n",
       "    // Called whenever the canvas gets updated.\n",
       "    this.send_message(\"ack\", {});\n",
       "}\n",
       "\n",
       "// A function to construct a web socket function for onmessage handling.\n",
       "// Called in the figure constructor.\n",
       "mpl.figure.prototype._make_on_message_function = function(fig) {\n",
       "    return function socket_on_message(evt) {\n",
       "        if (evt.data instanceof Blob) {\n",
       "            /* FIXME: We get \"Resource interpreted as Image but\n",
       "             * transferred with MIME type text/plain:\" errors on\n",
       "             * Chrome.  But how to set the MIME type?  It doesn't seem\n",
       "             * to be part of the websocket stream */\n",
       "            evt.data.type = \"image/png\";\n",
       "\n",
       "            /* Free the memory for the previous frames */\n",
       "            if (fig.imageObj.src) {\n",
       "                (window.URL || window.webkitURL).revokeObjectURL(\n",
       "                    fig.imageObj.src);\n",
       "            }\n",
       "\n",
       "            fig.imageObj.src = (window.URL || window.webkitURL).createObjectURL(\n",
       "                evt.data);\n",
       "            fig.updated_canvas_event();\n",
       "            fig.waiting = false;\n",
       "            return;\n",
       "        }\n",
       "        else if (typeof evt.data === 'string' && evt.data.slice(0, 21) == \"data:image/png;base64\") {\n",
       "            fig.imageObj.src = evt.data;\n",
       "            fig.updated_canvas_event();\n",
       "            fig.waiting = false;\n",
       "            return;\n",
       "        }\n",
       "\n",
       "        var msg = JSON.parse(evt.data);\n",
       "        var msg_type = msg['type'];\n",
       "\n",
       "        // Call the  \"handle_{type}\" callback, which takes\n",
       "        // the figure and JSON message as its only arguments.\n",
       "        try {\n",
       "            var callback = fig[\"handle_\" + msg_type];\n",
       "        } catch (e) {\n",
       "            console.log(\"No handler for the '\" + msg_type + \"' message type: \", msg);\n",
       "            return;\n",
       "        }\n",
       "\n",
       "        if (callback) {\n",
       "            try {\n",
       "                // console.log(\"Handling '\" + msg_type + \"' message: \", msg);\n",
       "                callback(fig, msg);\n",
       "            } catch (e) {\n",
       "                console.log(\"Exception inside the 'handler_\" + msg_type + \"' callback:\", e, e.stack, msg);\n",
       "            }\n",
       "        }\n",
       "    };\n",
       "}\n",
       "\n",
       "// from http://stackoverflow.com/questions/1114465/getting-mouse-location-in-canvas\n",
       "mpl.findpos = function(e) {\n",
       "    //this section is from http://www.quirksmode.org/js/events_properties.html\n",
       "    var targ;\n",
       "    if (!e)\n",
       "        e = window.event;\n",
       "    if (e.target)\n",
       "        targ = e.target;\n",
       "    else if (e.srcElement)\n",
       "        targ = e.srcElement;\n",
       "    if (targ.nodeType == 3) // defeat Safari bug\n",
       "        targ = targ.parentNode;\n",
       "\n",
       "    // jQuery normalizes the pageX and pageY\n",
       "    // pageX,Y are the mouse positions relative to the document\n",
       "    // offset() returns the position of the element relative to the document\n",
       "    var x = e.pageX - $(targ).offset().left;\n",
       "    var y = e.pageY - $(targ).offset().top;\n",
       "\n",
       "    return {\"x\": x, \"y\": y};\n",
       "};\n",
       "\n",
       "/*\n",
       " * return a copy of an object with only non-object keys\n",
       " * we need this to avoid circular references\n",
       " * http://stackoverflow.com/a/24161582/3208463\n",
       " */\n",
       "function simpleKeys (original) {\n",
       "  return Object.keys(original).reduce(function (obj, key) {\n",
       "    if (typeof original[key] !== 'object')\n",
       "        obj[key] = original[key]\n",
       "    return obj;\n",
       "  }, {});\n",
       "}\n",
       "\n",
       "mpl.figure.prototype.mouse_event = function(event, name) {\n",
       "    var canvas_pos = mpl.findpos(event)\n",
       "\n",
       "    if (name === 'button_press')\n",
       "    {\n",
       "        this.canvas.focus();\n",
       "        this.canvas_div.focus();\n",
       "    }\n",
       "\n",
       "    var x = canvas_pos.x * mpl.ratio;\n",
       "    var y = canvas_pos.y * mpl.ratio;\n",
       "\n",
       "    this.send_message(name, {x: x, y: y, button: event.button,\n",
       "                             step: event.step,\n",
       "                             guiEvent: simpleKeys(event)});\n",
       "\n",
       "    /* This prevents the web browser from automatically changing to\n",
       "     * the text insertion cursor when the button is pressed.  We want\n",
       "     * to control all of the cursor setting manually through the\n",
       "     * 'cursor' event from matplotlib */\n",
       "    event.preventDefault();\n",
       "    return false;\n",
       "}\n",
       "\n",
       "mpl.figure.prototype._key_event_extra = function(event, name) {\n",
       "    // Handle any extra behaviour associated with a key event\n",
       "}\n",
       "\n",
       "mpl.figure.prototype.key_event = function(event, name) {\n",
       "\n",
       "    // Prevent repeat events\n",
       "    if (name == 'key_press')\n",
       "    {\n",
       "        if (event.which === this._key)\n",
       "            return;\n",
       "        else\n",
       "            this._key = event.which;\n",
       "    }\n",
       "    if (name == 'key_release')\n",
       "        this._key = null;\n",
       "\n",
       "    var value = '';\n",
       "    if (event.ctrlKey && event.which != 17)\n",
       "        value += \"ctrl+\";\n",
       "    if (event.altKey && event.which != 18)\n",
       "        value += \"alt+\";\n",
       "    if (event.shiftKey && event.which != 16)\n",
       "        value += \"shift+\";\n",
       "\n",
       "    value += 'k';\n",
       "    value += event.which.toString();\n",
       "\n",
       "    this._key_event_extra(event, name);\n",
       "\n",
       "    this.send_message(name, {key: value,\n",
       "                             guiEvent: simpleKeys(event)});\n",
       "    return false;\n",
       "}\n",
       "\n",
       "mpl.figure.prototype.toolbar_button_onclick = function(name) {\n",
       "    if (name == 'download') {\n",
       "        this.handle_save(this, null);\n",
       "    } else {\n",
       "        this.send_message(\"toolbar_button\", {name: name});\n",
       "    }\n",
       "};\n",
       "\n",
       "mpl.figure.prototype.toolbar_button_onmouseover = function(tooltip) {\n",
       "    this.message.textContent = tooltip;\n",
       "};\n",
       "mpl.toolbar_items = [[\"Home\", \"Reset original view\", \"fa fa-home icon-home\", \"home\"], [\"Back\", \"Back to previous view\", \"fa fa-arrow-left icon-arrow-left\", \"back\"], [\"Forward\", \"Forward to next view\", \"fa fa-arrow-right icon-arrow-right\", \"forward\"], [\"\", \"\", \"\", \"\"], [\"Pan\", \"Pan axes with left mouse, zoom with right\", \"fa fa-arrows icon-move\", \"pan\"], [\"Zoom\", \"Zoom to rectangle\", \"fa fa-square-o icon-check-empty\", \"zoom\"], [\"\", \"\", \"\", \"\"], [\"Download\", \"Download plot\", \"fa fa-floppy-o icon-save\", \"download\"]];\n",
       "\n",
       "mpl.extensions = [\"eps\", \"jpeg\", \"pdf\", \"png\", \"ps\", \"raw\", \"svg\", \"tif\"];\n",
       "\n",
       "mpl.default_extension = \"png\";var comm_websocket_adapter = function(comm) {\n",
       "    // Create a \"websocket\"-like object which calls the given IPython comm\n",
       "    // object with the appropriate methods. Currently this is a non binary\n",
       "    // socket, so there is still some room for performance tuning.\n",
       "    var ws = {};\n",
       "\n",
       "    ws.close = function() {\n",
       "        comm.close()\n",
       "    };\n",
       "    ws.send = function(m) {\n",
       "        //console.log('sending', m);\n",
       "        comm.send(m);\n",
       "    };\n",
       "    // Register the callback with on_msg.\n",
       "    comm.on_msg(function(msg) {\n",
       "        //console.log('receiving', msg['content']['data'], msg);\n",
       "        // Pass the mpl event to the overridden (by mpl) onmessage function.\n",
       "        ws.onmessage(msg['content']['data'])\n",
       "    });\n",
       "    return ws;\n",
       "}\n",
       "\n",
       "mpl.mpl_figure_comm = function(comm, msg) {\n",
       "    // This is the function which gets called when the mpl process\n",
       "    // starts-up an IPython Comm through the \"matplotlib\" channel.\n",
       "\n",
       "    var id = msg.content.data.id;\n",
       "    // Get hold of the div created by the display call when the Comm\n",
       "    // socket was opened in Python.\n",
       "    var element = $(\"#\" + id);\n",
       "    var ws_proxy = comm_websocket_adapter(comm)\n",
       "\n",
       "    function ondownload(figure, format) {\n",
       "        window.open(figure.imageObj.src);\n",
       "    }\n",
       "\n",
       "    var fig = new mpl.figure(id, ws_proxy,\n",
       "                           ondownload,\n",
       "                           element.get(0));\n",
       "\n",
       "    // Call onopen now - mpl needs it, as it is assuming we've passed it a real\n",
       "    // web socket which is closed, not our websocket->open comm proxy.\n",
       "    ws_proxy.onopen();\n",
       "\n",
       "    fig.parent_element = element.get(0);\n",
       "    fig.cell_info = mpl.find_output_cell(\"<div id='\" + id + \"'></div>\");\n",
       "    if (!fig.cell_info) {\n",
       "        console.error(\"Failed to find cell for figure\", id, fig);\n",
       "        return;\n",
       "    }\n",
       "\n",
       "    var output_index = fig.cell_info[2]\n",
       "    var cell = fig.cell_info[0];\n",
       "\n",
       "};\n",
       "\n",
       "mpl.figure.prototype.handle_close = function(fig, msg) {\n",
       "    var width = fig.canvas.width/mpl.ratio\n",
       "    fig.root.unbind('remove')\n",
       "\n",
       "    // Update the output cell to use the data from the current canvas.\n",
       "    fig.push_to_output();\n",
       "    var dataURL = fig.canvas.toDataURL();\n",
       "    // Re-enable the keyboard manager in IPython - without this line, in FF,\n",
       "    // the notebook keyboard shortcuts fail.\n",
       "    IPython.keyboard_manager.enable()\n",
       "    $(fig.parent_element).html('<img src=\"' + dataURL + '\" width=\"' + width + '\">');\n",
       "    fig.close_ws(fig, msg);\n",
       "}\n",
       "\n",
       "mpl.figure.prototype.close_ws = function(fig, msg){\n",
       "    fig.send_message('closing', msg);\n",
       "    // fig.ws.close()\n",
       "}\n",
       "\n",
       "mpl.figure.prototype.push_to_output = function(remove_interactive) {\n",
       "    // Turn the data on the canvas into data in the output cell.\n",
       "    var width = this.canvas.width/mpl.ratio\n",
       "    var dataURL = this.canvas.toDataURL();\n",
       "    this.cell_info[1]['text/html'] = '<img src=\"' + dataURL + '\" width=\"' + width + '\">';\n",
       "}\n",
       "\n",
       "mpl.figure.prototype.updated_canvas_event = function() {\n",
       "    // Tell IPython that the notebook contents must change.\n",
       "    IPython.notebook.set_dirty(true);\n",
       "    this.send_message(\"ack\", {});\n",
       "    var fig = this;\n",
       "    // Wait a second, then push the new image to the DOM so\n",
       "    // that it is saved nicely (might be nice to debounce this).\n",
       "    setTimeout(function () { fig.push_to_output() }, 1000);\n",
       "}\n",
       "\n",
       "mpl.figure.prototype._init_toolbar = function() {\n",
       "    var fig = this;\n",
       "\n",
       "    var nav_element = $('<div/>');\n",
       "    nav_element.attr('style', 'width: 100%');\n",
       "    this.root.append(nav_element);\n",
       "\n",
       "    // Define a callback function for later on.\n",
       "    function toolbar_event(event) {\n",
       "        return fig.toolbar_button_onclick(event['data']);\n",
       "    }\n",
       "    function toolbar_mouse_event(event) {\n",
       "        return fig.toolbar_button_onmouseover(event['data']);\n",
       "    }\n",
       "\n",
       "    for(var toolbar_ind in mpl.toolbar_items){\n",
       "        var name = mpl.toolbar_items[toolbar_ind][0];\n",
       "        var tooltip = mpl.toolbar_items[toolbar_ind][1];\n",
       "        var image = mpl.toolbar_items[toolbar_ind][2];\n",
       "        var method_name = mpl.toolbar_items[toolbar_ind][3];\n",
       "\n",
       "        if (!name) { continue; };\n",
       "\n",
       "        var button = $('<button class=\"btn btn-default\" href=\"#\" title=\"' + name + '\"><i class=\"fa ' + image + ' fa-lg\"></i></button>');\n",
       "        button.click(method_name, toolbar_event);\n",
       "        button.mouseover(tooltip, toolbar_mouse_event);\n",
       "        nav_element.append(button);\n",
       "    }\n",
       "\n",
       "    // Add the status bar.\n",
       "    var status_bar = $('<span class=\"mpl-message\" style=\"text-align:right; float: right;\"/>');\n",
       "    nav_element.append(status_bar);\n",
       "    this.message = status_bar[0];\n",
       "\n",
       "    // Add the close button to the window.\n",
       "    var buttongrp = $('<div class=\"btn-group inline pull-right\"></div>');\n",
       "    var button = $('<button class=\"btn btn-mini btn-primary\" href=\"#\" title=\"Stop Interaction\"><i class=\"fa fa-power-off icon-remove icon-large\"></i></button>');\n",
       "    button.click(function (evt) { fig.handle_close(fig, {}); } );\n",
       "    button.mouseover('Stop Interaction', toolbar_mouse_event);\n",
       "    buttongrp.append(button);\n",
       "    var titlebar = this.root.find($('.ui-dialog-titlebar'));\n",
       "    titlebar.prepend(buttongrp);\n",
       "}\n",
       "\n",
       "mpl.figure.prototype._root_extra_style = function(el){\n",
       "    var fig = this\n",
       "    el.on(\"remove\", function(){\n",
       "\tfig.close_ws(fig, {});\n",
       "    });\n",
       "}\n",
       "\n",
       "mpl.figure.prototype._canvas_extra_style = function(el){\n",
       "    // this is important to make the div 'focusable\n",
       "    el.attr('tabindex', 0)\n",
       "    // reach out to IPython and tell the keyboard manager to turn it's self\n",
       "    // off when our div gets focus\n",
       "\n",
       "    // location in version 3\n",
       "    if (IPython.notebook.keyboard_manager) {\n",
       "        IPython.notebook.keyboard_manager.register_events(el);\n",
       "    }\n",
       "    else {\n",
       "        // location in version 2\n",
       "        IPython.keyboard_manager.register_events(el);\n",
       "    }\n",
       "\n",
       "}\n",
       "\n",
       "mpl.figure.prototype._key_event_extra = function(event, name) {\n",
       "    var manager = IPython.notebook.keyboard_manager;\n",
       "    if (!manager)\n",
       "        manager = IPython.keyboard_manager;\n",
       "\n",
       "    // Check for shift+enter\n",
       "    if (event.shiftKey && event.which == 13) {\n",
       "        this.canvas_div.blur();\n",
       "        // select the cell after this one\n",
       "        var index = IPython.notebook.find_cell_index(this.cell_info[0]);\n",
       "        IPython.notebook.select(index + 1);\n",
       "    }\n",
       "}\n",
       "\n",
       "mpl.figure.prototype.handle_save = function(fig, msg) {\n",
       "    fig.ondownload(fig, null);\n",
       "}\n",
       "\n",
       "\n",
       "mpl.find_output_cell = function(html_output) {\n",
       "    // Return the cell and output element which can be found *uniquely* in the notebook.\n",
       "    // Note - this is a bit hacky, but it is done because the \"notebook_saving.Notebook\"\n",
       "    // IPython event is triggered only after the cells have been serialised, which for\n",
       "    // our purposes (turning an active figure into a static one), is too late.\n",
       "    var cells = IPython.notebook.get_cells();\n",
       "    var ncells = cells.length;\n",
       "    for (var i=0; i<ncells; i++) {\n",
       "        var cell = cells[i];\n",
       "        if (cell.cell_type === 'code'){\n",
       "            for (var j=0; j<cell.output_area.outputs.length; j++) {\n",
       "                var data = cell.output_area.outputs[j];\n",
       "                if (data.data) {\n",
       "                    // IPython >= 3 moved mimebundle to data attribute of output\n",
       "                    data = data.data;\n",
       "                }\n",
       "                if (data['text/html'] == html_output) {\n",
       "                    return [cell, data, j];\n",
       "                }\n",
       "            }\n",
       "        }\n",
       "    }\n",
       "}\n",
       "\n",
       "// Register the function which deals with the matplotlib target/channel.\n",
       "// The kernel may be null if the page has been refreshed.\n",
       "if (IPython.notebook.kernel != null) {\n",
       "    IPython.notebook.kernel.comm_manager.register_target('matplotlib', mpl.mpl_figure_comm);\n",
       "}\n"
      ],
      "text/plain": [
       "<IPython.core.display.Javascript object>"
      ]
     },
     "metadata": {},
     "output_type": "display_data"
    },
    {
     "data": {
      "text/html": [
       "<img src=\"data:image/png;base64,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\" width=\"799.9999826604674\">"
      ],
      "text/plain": [
       "<IPython.core.display.HTML object>"
      ]
     },
     "metadata": {},
     "output_type": "display_data"
    },
    {
     "data": {
      "text/plain": [
       "<matplotlib.legend.Legend at 0x227b60f6748>"
      ]
     },
     "execution_count": 57,
     "metadata": {},
     "output_type": "execute_result"
    }
   ],
   "source": [
    "_, (ax1) = plt.subplots(1, 1, figsize=(8,4))\n",
    "ax1.plot(zeta_1, R_xi_1, color='red', lw=2, label = (r'$R_1$'))\n",
    "ax1.plot(zeta_2, R_xi_2, color='blue', lw=2, label = (r'$R_2$'))\n",
    "ax1.plot(zeta_3, R_xi_3, color='green', lw=2, label = (r'$R_3$'))\n",
    "ax1.set_xlabel(r'$\\zeta$'); ax1.set_ylabel('R')\n",
    "ax1.legend()\n",
    "#_.savefig(\"R_f_2.pdf\", bbox_inches='tight')"
   ]
  },
  {
   "cell_type": "code",
   "execution_count": null,
   "metadata": {},
   "outputs": [],
   "source": [
    "L_val = 200\n",
    "R_xi_ = np.zeros((10,1))\n",
    "zeta_val = np.linspace(0, 200, 10)\n",
    "for j, zeta_ in enumerate(zeta_val):\n",
    "                 params = {E : 30000, #N/mm2\n",
    "                           G_c_2 : 0.025, #N/mm2\n",
    "                           K_init : 100000000, #N/mm3\n",
    "                           nu : 0.2, \n",
    "                           f_t : 3 #N/mm2\n",
    "                        }\n",
    "                 w_0 = f_t.subs(params) / K_init.subs(params)\n",
    "                 w_c = 2 * G_c_2.subs(params) / f_t.subs(params)\n",
    "                 R_xi_[j] = get_R(K_init.subs(params), w_0, w_c, L_, zeta_)\n",
    "                 print(R_xi_[j])"
   ]
  },
  {
   "cell_type": "code",
   "execution_count": null,
   "metadata": {},
   "outputs": [],
   "source": [
    "_, (ax1) = plt.subplots(1, 1, figsize=(8,4))\n",
    "ax1.plot(zeta_val, R_xi_[:,0], color='red', lw=2, label = (r'$R_1$'))\n",
    "ax1.set_xlabel(r'$\\zeta$'); ax1.set_ylabel('R')\n",
    "ax1.legend()\n",
    "#_.savefig(\"R_f_2.pdf\", bbox_inches='tight')"
   ]
  },
  {
   "cell_type": "markdown",
   "metadata": {},
   "source": [
    "6) Evaluate the stiffness $K(\\zeta)$ through finite element analysis for each value of the damage zone length $\\zeta$."
   ]
  },
  {
   "cell_type": "markdown",
   "metadata": {},
   "source": [
    "7) Calculate the derivative $\\frac{d K(\\zeta)}{d \\zeta}$ as finite difference $\\frac{\\Delta K(\\zeta)}{\\Delta \\zeta}$."
   ]
  },
  {
   "cell_type": "markdown",
   "metadata": {},
   "source": [
    "8) Calculate displacement and Load as:\n",
    "    \\begin{equation}\n",
    "    \\eta (\\zeta) = \\sqrt{2 R(\\zeta) \\left(\\frac{d K(\\zeta)}{d \\zeta}\\right)^{-1}} \\\\\n",
    "    P (\\zeta) = K(\\zeta) \\eta(\\zeta)\n",
    "    \\end{equation}"
   ]
  },
  {
   "cell_type": "code",
   "execution_count": null,
   "metadata": {},
   "outputs": [],
   "source": [
    "f_2_val = np.linspace(1,4,3)\n",
    "alpha_0 = 1\n",
    "d_1 = np.zeros((10,3))\n",
    "d_2 = np.zeros((10,3))\n",
    "beta_2 = np.zeros((10,3))\n",
    "psi = np.zeros((10,3))\n",
    "alpha_ans = np.zeros((10,3))\n",
    "COD = np.zeros((10,3))\n",
    "R = np.zeros((10,3))\n",
    "for i, f_2_ in enumerate(f_2_val):\n",
    "    a_01 = np.linspace(10, 40, 10)\n",
    "    for j, a in enumerate(a_01):\n",
    "        if a == 10:\n",
    "            R[j, i] = 0\n",
    "        elif a > 10:\n",
    "            alpha_ans = 1\n",
    "        params = {\n",
    "              K_Ic : 30, #N/mm(3/2),\n",
    "              f_2 : 1.42, \n",
    "              E: 20000, #N/mm2\n",
    "              B : 76.2, #mm\n",
    "              S : 304.8, #mm\n",
    "              P : 120, #N\n",
    "              pi : 3.14, \n",
    "              a_0: 10, #mm\n",
    "              f_1: 1.123}\n",
    "        CMOD = (4 * sigma_x_ * f_2_) / E.subs(params)\n",
    "        print(CMOD)\n",
    "        alpha_ = (pi * E**2 * f_1**2 * (CMOD * sp.sqrt((alpha * a_0)**2 \\\n",
    "            - a_0**2))**2) / (32 * a_0 * K_Ic**2 * f_2_**2) \\\n",
    "             + sp.sqrt((pi * E**2 * f_1**2 * (CMOD * sp.sqrt((alpha * a_0)**2 - a_0**2))**2) \\\n",
    "                   / (32 * a_0 *  K_Ic**2 * f_2_**2) + 1)\n",
    "        alpha_val = alpha_.subs(params) - alpha\n",
    "        alpha_diff = alpha_val.diff(alpha)\n",
    "        alpha_n = alpha_0 - (alpha_val/alpha_diff)\n",
    "        alpha_sol = sp.solve(alpha_n, alpha)\n",
    "        print('*************')\n",
    "        print('a = ', j, a)\n",
    "        print('f_2 =', i, f_2_)\n",
    "        print('alpha_sol=', alpha_sol)\n",
    "        if alpha_sol[0] > 1:\n",
    "            alpha_ans = alpha_sol[0]\n",
    "        elif alpha_sol[0] < 1:\n",
    "            alpha_ans = alpha_sol[1]\n",
    "        print('alpha =', alpha_ans)\n",
    "        d_1 = (1/2) + ((alpha_ans - 1) /  alpha_ans) + sp.sqrt(1/4 + ( alpha_ans - 1) /  alpha_ans\\\n",
    "                                            - (( alpha_ans - 1) /  alpha_ans)**2)\n",
    "        print('d_1 =', d_1)\n",
    "        d_2 = (1/2) + (( alpha_ans - 1) /  alpha_ans) - sp.sqrt(1/4 + ( alpha_ans - 1) /  alpha_ans \\\n",
    "                                         - (( alpha_ans - 1) /  alpha_ans)**2)\n",
    "        print('d_2 = ', d_2)\n",
    "        beta_2 = (K_Ic.subs(params)**2 * ( alpha_ans * a_0.subs(params) - a_0.subs(params))**(-d_2)) / (E.subs(params) * (1 - (d_2 \\\n",
    "                                                        - (( alpha_ans-1)/ alpha_ans))\\\n",
    "                                                         /(d_1 - (( alpha_ans-1)/ alpha_ans))))\n",
    "        psi = 1 - ((d_2 - ( alpha_ans - 1) /  alpha_ans)/(d_1  - ( alpha_ans - 1) /  alpha_ans))\\\n",
    "            *  ((alpha_ans * a_0.subs(params) - a_0.subs(params))/(alpha_ans * a_0.subs(params) \\\n",
    "              - a_0.subs(params)))**(d_2 - d_1)\n",
    "        print('beta =', beta_2)\n",
    "        R[j, i] = beta_2 * psi * (a - a_0.subs(params))**d_2\n",
    "        if R[j, i] <= ((K_Ic.subs(params))**2 / E.subs(params)):\n",
    "            R[j, i] = beta_2 * psi * (a - a_0.subs(params))**d_2\n",
    "        else:\n",
    "                R[j, i] = ((K_Ic.subs(params))**2 / E.subs(params))\n",
    "        print('R =',[i, j], R[j, i])\n",
    "        print('*************')\n",
    "    print('R =',R)\n",
    "    #i +=1 "
   ]
  },
  {
   "cell_type": "code",
   "execution_count": null,
   "metadata": {},
   "outputs": [],
   "source": [
    "R.subs(params)"
   ]
  },
  {
   "cell_type": "code",
   "execution_count": null,
   "metadata": {},
   "outputs": [],
   "source": [
    "R.subs(xi, zeta - L)"
   ]
  },
  {
   "cell_type": "code",
   "execution_count": null,
   "metadata": {},
   "outputs": [],
   "source": [
    "R.subs(xi, zeta)"
   ]
  },
  {
   "cell_type": "code",
   "execution_count": null,
   "metadata": {},
   "outputs": [],
   "source": [
    "_, (ax1) = plt.subplots(1, 1, figsize=(8,4))\n",
    "ax1.plot(a_01, R[:,0], color='red', lw=2, label = (r'$f_2 = 1$'))\n",
    "ax1.plot(a_01, R[:,1], color='blue', lw=2, label = (r'$f_2 = 2.5$'))\n",
    "ax1.plot(a_01, R[:,2], color='green', lw=2, label = (r'$f_2 = 4$'))\n",
    "#ax1.plot(a_0_val, R_c, color='orange', lw=2, label = (r'R_c'))\n",
    "ax1.set_xlabel('a'); ax1.set_ylabel('R')\n",
    "ax1.legend()\n",
    "_.savefig(\"R_f_2.pdf\", bbox_inches='tight')"
   ]
  },
  {
   "cell_type": "code",
   "execution_count": null,
   "metadata": {},
   "outputs": [],
   "source": []
  }
 ],
 "metadata": {
  "kernelspec": {
   "display_name": "Python 3",
   "language": "python",
   "name": "python3"
  },
  "language_info": {
   "codemirror_mode": {
    "name": "ipython",
    "version": 3
   },
   "file_extension": ".py",
   "mimetype": "text/x-python",
   "name": "python",
   "nbconvert_exporter": "python",
   "pygments_lexer": "ipython3",
   "version": "3.7.6"
  },
  "toc": {
   "base_numbering": 1,
   "nav_menu": {},
   "number_sections": true,
   "sideBar": true,
   "skip_h1_title": false,
   "title_cell": "Table of Contents",
   "title_sidebar": "Contents",
   "toc_cell": false,
   "toc_position": {},
   "toc_section_display": true,
   "toc_window_display": false
  }
 },
 "nbformat": 4,
 "nbformat_minor": 4
}
