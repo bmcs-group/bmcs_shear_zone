{
 "cells": [
  {
   "cell_type": "code",
   "execution_count": 1,
   "metadata": {
    "pycharm": {
     "name": "#%%\n"
    }
   },
   "outputs": [],
   "source": [
    "import sympy as sp\n",
    "import numpy as np\n",
    "import matplotlib.pylab as plt\n",
    "sp.init_printing()"
   ]
  },
  {
   "cell_type": "markdown",
   "metadata": {},
   "source": [
    "# Principal stress directions in FPS"
   ]
  },
  {
   "cell_type": "markdown",
   "metadata": {},
   "source": [
    "The corresponding tensile stress at this position which must be perpendicular to the crack propagation\n",
    "\\begin{align}\n",
    "\\sigma^{\\mathrm{tip},\\psi}_1 = f_{\\mathrm{t}}\n",
    "\\end{align}"
   ]
  },
  {
   "cell_type": "markdown",
   "metadata": {},
   "source": [
    "\\begin{align}\n",
    "\\sigma_{ij} =\n",
    "\\left[\n",
    "\\begin{array}{cc}\n",
    "\\sigma_{x} & \\tau^\\mathrm{tip} \\\\\n",
    "\\tau^\\mathrm{tip} & 0\n",
    "\\end{array}\n",
    "\\right]\n",
    "\\end{align}"
   ]
  },
  {
   "cell_type": "markdown",
   "metadata": {},
   "source": [
    "\\begin{align}\n",
    "{\\tilde{\\sigma}^{\\psi}_{ij}} =\n",
    "\\left[\n",
    "\\begin{array}{cc}\n",
    "\\mathrm{f_{ct}} & 0 \\\\\n",
    "0 & x\n",
    "\\end{array}\n",
    "\\right]\n",
    "\\end{align}"
   ]
  },
  {
   "cell_type": "markdown",
   "metadata": {},
   "source": [
    "<img src=\"fig/transformation.png\" width=\"500\"/>"
   ]
  },
  {
   "cell_type": "markdown",
   "metadata": {},
   "source": [
    "As we know that the stress profile along the propagating crack is the transformation of the tip stress profile along the angle of propagation $\\theta$, therefore, we can obtain the stress state at the crack tip by retracing back from the stress field of the propagating crack back to crack tip stress by inverting the transformation procedure as shown with the help of python code below:"
   ]
  },
  {
   "cell_type": "code",
   "execution_count": 2,
   "metadata": {},
   "outputs": [],
   "source": [
    "f_ct = sp.Symbol(r'f_{ct}', nonnegative = True)\n",
    "c_s = sp.Symbol(r'c_s', nonnegative = True)\n",
    "s_s = sp.Symbol(r's_s', nonnegative = True)\n",
    "sigma_x = sp.Symbol(r'\\sigma_x', nonnegative = True)\n",
    "tau_tip = sp.Symbol(r'\\tau_{\\mathrm{tip}}', nonnegative = True)\n",
    "x = sp.Symbol(r'x', nonnegative = True)\n",
    "psi = sp.Symbol(r'\\psi', nonnegative = True)"
   ]
  },
  {
   "cell_type": "code",
   "execution_count": 3,
   "metadata": {},
   "outputs": [
    {
     "data": {
      "text/plain": "⎡      \\sigmaₓ        \\tau_{\\mathrm{tip}}⎤\n⎢                                        ⎥\n⎣\\tau_{\\mathrm{tip}}           0         ⎦",
      "image/png": "[encoded data removed]",
      "text/latex": "$\\displaystyle \\left[\\begin{matrix}\\sigma_x & \\tau_{\\mathrm{tip}}\\\\\\tau_{\\mathrm{tip}} & 0\\end{matrix}\\right]$"
     },
     "execution_count": 3,
     "metadata": {},
     "output_type": "execute_result"
    }
   ],
   "source": [
    "sigma_tip_ij = sp.Matrix([[sigma_x, tau_tip],\n",
    "                       [tau_tip, 0]])\n",
    "sigma_tip_ij"
   ]
  },
  {
   "cell_type": "code",
   "execution_count": 4,
   "metadata": {},
   "outputs": [
    {
     "data": {
      "text/plain": "⎡f_{ct}  0⎤\n⎢         ⎥\n⎣  0     x⎦",
      "image/png": "[encoded data removed]",
      "text/latex": "$\\displaystyle \\left[\\begin{matrix}f_{ct} & 0\\\\0 & x\\end{matrix}\\right]$"
     },
     "execution_count": 4,
     "metadata": {},
     "output_type": "execute_result"
    }
   ],
   "source": [
    "tilde_sigma_psi = sp.Matrix([[f_ct, 0],\n",
    "                       [0, x]])\n",
    "tilde_sigma_psi"
   ]
  },
  {
   "cell_type": "markdown",
   "metadata": {},
   "source": [
    "## Transformation Matrix\n",
    "\\begin{align}\n",
    "\\mathrm{R}^{\\psi}_{kl} =\n",
    "\\left[\n",
    "\\begin{array}{cc}\n",
    "\\cos \\psi & - \\sin \\psi \\\\\n",
    "\\sin \\psi & \\cos \\psi\n",
    "\\end{array}\n",
    "\\right]\n",
    "\\end{align}"
   ]
  },
  {
   "cell_type": "code",
   "execution_count": 5,
   "metadata": {},
   "outputs": [
    {
     "data": {
      "text/plain": "⎡cₛ  -sₛ⎤\n⎢       ⎥\n⎣sₛ  cₛ ⎦",
      "image/png": "[encoded data removed]",
      "text/latex": "$\\displaystyle \\left[\\begin{matrix}c_{s} & - s_{s}\\\\s_{s} & c_{s}\\end{matrix}\\right]$"
     },
     "execution_count": 5,
     "metadata": {},
     "output_type": "execute_result"
    }
   ],
   "source": [
    "R_psi_kl = sp.Matrix([[c_s, -s_s],\n",
    "                       [s_s, c_s]])\n",
    "R_psi_kl"
   ]
  },
  {
   "cell_type": "code",
   "execution_count": 6,
   "metadata": {},
   "outputs": [
    {
     "data": {
      "text/plain": "⎡                                                                             \n⎢\\tau_{\\mathrm{tip}}⋅cₛ⋅sₛ + cₛ⋅(\\sigmaₓ⋅cₛ + \\tau_{\\mathrm{tip}}⋅sₛ)     \\tau\n⎢                                                                             \n⎢                        2                                                    \n⎣- \\tau_{\\mathrm{tip}}⋅sₛ  + cₛ⋅(-\\sigmaₓ⋅sₛ + \\tau_{\\mathrm{tip}}⋅cₛ)  -\\tau_\n\n                  2                                             ⎤\n_{\\mathrm{tip}}⋅cₛ  - sₛ⋅(\\sigmaₓ⋅cₛ + \\tau_{\\mathrm{tip}}⋅sₛ)  ⎥\n                                                                ⎥\n                                                                ⎥\n{\\mathrm{tip}}⋅cₛ⋅sₛ - sₛ⋅(-\\sigmaₓ⋅sₛ + \\tau_{\\mathrm{tip}}⋅cₛ)⎦",
      "image/png": "[encoded data removed]",
      "text/latex": "$\\displaystyle \\left[\\begin{matrix}\\tau_{\\mathrm{tip}} c_{s} s_{s} + c_{s} \\left(\\sigma_x c_{s} + \\tau_{\\mathrm{tip}} s_{s}\\right) & \\tau_{\\mathrm{tip}} c_{s}^{2} - s_{s} \\left(\\sigma_x c_{s} + \\tau_{\\mathrm{tip}} s_{s}\\right)\\\\- \\tau_{\\mathrm{tip}} s_{s}^{2} + c_{s} \\left(- \\sigma_x s_{s} + \\tau_{\\mathrm{tip}} c_{s}\\right) & - \\tau_{\\mathrm{tip}} c_{s} s_{s} - s_{s} \\left(- \\sigma_x s_{s} + \\tau_{\\mathrm{tip}} c_{s}\\right)\\end{matrix}\\right]$"
     },
     "execution_count": 6,
     "metadata": {},
     "output_type": "execute_result"
    }
   ],
   "source": [
    "tilde_sigma_psi_ij = R_psi_kl.T * sigma_tip_ij * R_psi_kl\n",
    "tilde_sigma_psi_ij"
   ]
  },
  {
   "cell_type": "markdown",
   "metadata": {},
   "source": [
    "## Calculating $\\sigma_x$"
   ]
  },
  {
   "cell_type": "code",
   "execution_count": 7,
   "metadata": {},
   "outputs": [
    {
     "data": {
      "text/plain": "⎡                                                                             \n⎢\\tau_{\\mathrm{tip}}⋅cₛ⋅sₛ + cₛ⋅(\\sigmaₓ⋅cₛ + \\tau_{\\mathrm{tip}}⋅sₛ)     \\tau\n⎢                                                                             \n⎢                        2                                                    \n⎣- \\tau_{\\mathrm{tip}}⋅sₛ  + cₛ⋅(-\\sigmaₓ⋅sₛ + \\tau_{\\mathrm{tip}}⋅cₛ)  -\\tau_\n\n                  2                                             ⎤             \n_{\\mathrm{tip}}⋅cₛ  - sₛ⋅(\\sigmaₓ⋅cₛ + \\tau_{\\mathrm{tip}}⋅sₛ)  ⎥   ⎡f_{ct}  0\n                                                                ⎥ = ⎢         \n                                                                ⎥   ⎣  0     x\n{\\mathrm{tip}}⋅cₛ⋅sₛ - sₛ⋅(-\\sigmaₓ⋅sₛ + \\tau_{\\mathrm{tip}}⋅cₛ)⎦             \n\n \n⎤\n⎥\n⎦\n ",
      "image/png": "[encoded data removed]",
      "text/latex": "$\\displaystyle \\left[\\begin{matrix}\\tau_{\\mathrm{tip}} c_{s} s_{s} + c_{s} \\left(\\sigma_x c_{s} + \\tau_{\\mathrm{tip}} s_{s}\\right) & \\tau_{\\mathrm{tip}} c_{s}^{2} - s_{s} \\left(\\sigma_x c_{s} + \\tau_{\\mathrm{tip}} s_{s}\\right)\\\\- \\tau_{\\mathrm{tip}} s_{s}^{2} + c_{s} \\left(- \\sigma_x s_{s} + \\tau_{\\mathrm{tip}} c_{s}\\right) & - \\tau_{\\mathrm{tip}} c_{s} s_{s} - s_{s} \\left(- \\sigma_x s_{s} + \\tau_{\\mathrm{tip}} c_{s}\\right)\\end{matrix}\\right] = \\left[\\begin{matrix}f_{ct} & 0\\\\0 & x\\end{matrix}\\right]$"
     },
     "execution_count": 7,
     "metadata": {},
     "output_type": "execute_result"
    }
   ],
   "source": [
    "sp.Eq(tilde_sigma_psi_ij, tilde_sigma_psi)"
   ]
  },
  {
   "cell_type": "code",
   "execution_count": 8,
   "metadata": {},
   "outputs": [
    {
     "data": {
      "text/plain": "-2⋅\\tau_{\\mathrm{tip}}⋅cₛ⋅sₛ + f_{ct}\n─────────────────────────────────────\n                   2                 \n                 cₛ                  ",
      "image/png": "[encoded data removed]",
      "text/latex": "$\\displaystyle \\frac{- 2 \\tau_{\\mathrm{tip}} c_{s} s_{s} + f_{ct}}{c_{s}^{2}}$"
     },
     "execution_count": 8,
     "metadata": {},
     "output_type": "execute_result"
    }
   ],
   "source": [
    "sigma_x_val = sp.solve(sp.Eq(tilde_sigma_psi_ij[0,0], tilde_sigma_psi[0,0]), sigma_x)\n",
    "sigma_x_val[0]"
   ]
  },
  {
   "cell_type": "code",
   "execution_count": 9,
   "metadata": {},
   "outputs": [
    {
     "data": {
      "text/plain": "              ⎡                                                               \n              ⎢                                                               \n              ⎢                           f_{ct}                              \n              ⎢                                                               \n⎡f_{ct}  0⎤   ⎢                                                               \n⎢         ⎥ = ⎢                                                               \n⎣  0     x⎦   ⎢                      2                         2   f_{ct}⋅sₛ  \n              ⎢\\tau_{\\mathrm{tip}}⋅cₛ  + \\tau_{\\mathrm{tip}}⋅sₛ  - ─────────  \n              ⎢                                                        cₛ     \n              ⎣                                                               \n\n                           3                                                ⎤\n     \\tau_{\\mathrm{tip}}⋅cₛ  - sₛ⋅(-\\tau_{\\mathrm{tip}}⋅cₛ⋅sₛ + f_{ct})     ⎥\n     ──────────────────────────────────────────────────────────────────     ⎥\n                                     cₛ                                     ⎥\n                                                                            ⎥\n    ⎛                        3                                            ⎞ ⎥\n-sₛ⋅⎝2⋅\\tau_{\\mathrm{tip}}⋅cₛ  + sₛ⋅(2⋅\\tau_{\\mathrm{tip}}⋅cₛ⋅sₛ - f_{ct})⎠ ⎥\n────────────────────────────────────────────────────────────────────────────⎥\n                                      2                                     ⎥\n                                    cₛ                                      ⎦",
      "image/png": "[encoded data removed]",
      "text/latex": "$\\displaystyle \\left[\\begin{matrix}f_{ct} & 0\\\\0 & x\\end{matrix}\\right] = \\left[\\begin{matrix}f_{ct} & \\frac{\\tau_{\\mathrm{tip}} c_{s}^{3} - s_{s} \\left(- \\tau_{\\mathrm{tip}} c_{s} s_{s} + f_{ct}\\right)}{c_{s}}\\\\\\tau_{\\mathrm{tip}} c_{s}^{2} + \\tau_{\\mathrm{tip}} s_{s}^{2} - \\frac{f_{ct} s_{s}}{c_{s}} & - \\frac{s_{s} \\left(2 \\tau_{\\mathrm{tip}} c_{s}^{3} + s_{s} \\left(2 \\tau_{\\mathrm{tip}} c_{s} s_{s} - f_{ct}\\right)\\right)}{c_{s}^{2}}\\end{matrix}\\right]$"
     },
     "execution_count": 9,
     "metadata": {},
     "output_type": "execute_result"
    }
   ],
   "source": [
    "sp.simplify(sp.Eq(tilde_sigma_psi_ij.subs(sigma_x, sigma_x_val[0]), tilde_sigma_psi))"
   ]
  },
  {
   "cell_type": "code",
   "execution_count": 12,
   "metadata": {},
   "outputs": [
    {
     "data": {
      "text/plain": "⎡       ⎛            ________________________________⎞         ⎛            __\n⎢       ⎜           ╱                    2         2 ⎟         ⎜           ╱  \n⎢       ⎜f_{ct} - ╲╱  \\tau_{\\mathrm{tip}}  + f_{ct}  ⎟         ⎜f_{ct} + ╲╱  \\\n⎢-2⋅atan⎜────────────────────────────────────────────⎟, -2⋅atan⎜──────────────\n⎣       ⎝            \\tau_{\\mathrm{tip}}             ⎠         ⎝            \\t\n\n______________________________⎞⎤\n                  2         2 ⎟⎥\ntau_{\\mathrm{tip}}  + f_{ct}  ⎟⎥\n──────────────────────────────⎟⎥\nau_{\\mathrm{tip}}             ⎠⎦",
      "image/png": "[encoded data removed]",
      "text/latex": "$\\displaystyle \\left[ - 2 \\operatorname{atan}{\\left(\\frac{f_{ct} - \\sqrt{\\tau_{\\mathrm{tip}}^{2} + f_{ct}^{2}}}{\\tau_{\\mathrm{tip}}} \\right)}, \\  - 2 \\operatorname{atan}{\\left(\\frac{f_{ct} + \\sqrt{\\tau_{\\mathrm{tip}}^{2} + f_{ct}^{2}}}{\\tau_{\\mathrm{tip}}} \\right)}\\right]$"
     },
     "execution_count": 12,
     "metadata": {},
     "output_type": "execute_result"
    }
   ],
   "source": [
    "psi_val = sp.solve(sp.Eq(tilde_sigma_psi_ij.subs(sigma_x, sigma_x_val[0]).subs(c_s, sp.cos(psi)).subs(s_s, sp.sin(psi))[0,1]\\\n",
    "                                                                       , tilde_sigma_psi[0,1]), psi)\n",
    "psi_val"
   ]
  },
  {
   "cell_type": "code",
   "execution_count": 13,
   "metadata": {},
   "outputs": [
    {
     "data": {
      "text/plain": "<function _lambdifygenerated(Dummy_177)>"
     },
     "execution_count": 13,
     "metadata": {},
     "output_type": "execute_result"
    }
   ],
   "source": [
    "f_ct_val = 3\n",
    "get_psi_ = sp.lambdify((tau_tip), psi_val[0].subs(f_ct, f_ct_val), 'numpy')\n",
    "get_psi_"
   ]
  },
  {
   "cell_type": "code",
   "execution_count": 12,
   "metadata": {},
   "outputs": [
    {
     "name": "stderr",
     "output_type": "stream",
     "text": [
      "<string>:2: RuntimeWarning: invalid value encountered in true_divide\n"
     ]
    },
    {
     "data": {
      "image/png": "[encoded data removed]",
      "text/plain": [
       "<Figure size 720x360 with 1 Axes>"
      ]
     },
     "metadata": {
      "needs_background": "light"
     },
     "output_type": "display_data"
    }
   ],
   "source": [
    "_, (ax1) = plt.subplots(1, 1, figsize=(10,5))\n",
    "#f_ct_val = 3\n",
    "tau_tip_ = np.linspace(0, 10, 100)\n",
    "psi_val = get_psi_(tau_tip_)\n",
    "ax1.plot(tau_tip_, psi_val/np.pi * 180, color='blue', lw=2);"
   ]
  },
  {
   "cell_type": "markdown",
   "metadata": {},
   "source": [
    "## Calculating x"
   ]
  },
  {
   "cell_type": "code",
   "execution_count": 13,
   "metadata": {},
   "outputs": [
    {
     "data": {
      "image/png": "[encoded data removed]",
      "text/latex": [
       "$\\displaystyle - \\frac{s_{s} \\left(2 \\tau_{\\mathrm{tip}} c_{s}^{3} + s_{s} \\left(2 \\tau_{\\mathrm{tip}} c_{s} s_{s} - f_{ct}\\right)\\right)}{c_{s}^{2}}$"
      ],
      "text/plain": [
       "    ⎛                        3                                            ⎞ \n",
       "-sₛ⋅⎝2⋅\\tau_{\\mathrm{tip}}⋅cₛ  + sₛ⋅(2⋅\\tau_{\\mathrm{tip}}⋅cₛ⋅sₛ - f_{ct})⎠ \n",
       "────────────────────────────────────────────────────────────────────────────\n",
       "                                      2                                     \n",
       "                                    cₛ                                      "
      ]
     },
     "execution_count": 13,
     "metadata": {},
     "output_type": "execute_result"
    }
   ],
   "source": [
    "tilde_sigma_psi_jj = sp.simplify(tilde_sigma_psi_ij[1,1].subs(sigma_x, sigma_x_val[0]))\n",
    "tilde_sigma_psi_jj"
   ]
  },
  {
   "cell_type": "code",
   "execution_count": 14,
   "metadata": {},
   "outputs": [
    {
     "data": {
      "image/png": "[encoded data removed]",
      "text/latex": [
       "$\\displaystyle \\frac{s_{s} \\left(- 2 \\tau_{\\mathrm{tip}} c_{s}^{3} - 2 \\tau_{\\mathrm{tip}} c_{s} s_{s}^{2} + f_{ct} s_{s}\\right)}{c_{s}^{2}}$"
      ],
      "text/plain": [
       "   ⎛                          3                              2            ⎞\n",
       "sₛ⋅⎝- 2⋅\\tau_{\\mathrm{tip}}⋅cₛ  - 2⋅\\tau_{\\mathrm{tip}}⋅cₛ⋅sₛ  + f_{ct}⋅sₛ⎠\n",
       "───────────────────────────────────────────────────────────────────────────\n",
       "                                      2                                    \n",
       "                                    cₛ                                     "
      ]
     },
     "execution_count": 14,
     "metadata": {},
     "output_type": "execute_result"
    }
   ],
   "source": [
    "x_val = sp.solve(sp.Eq(tilde_sigma_psi_jj, tilde_sigma_psi[1,1]), x)\n",
    "x_val[0]"
   ]
  },
  {
   "cell_type": "code",
   "execution_count": null,
   "metadata": {
    "pycharm": {
     "name": "#%%\n"
    }
   },
   "outputs": [],
   "source": []
  }
 ],
 "metadata": {
  "kernelspec": {
   "display_name": "Python 3",
   "language": "python",
   "name": "python3"
  },
  "language_info": {
   "codemirror_mode": {
    "name": "ipython",
    "version": 3
   },
   "file_extension": ".py",
   "mimetype": "text/x-python",
   "name": "python",
   "nbconvert_exporter": "python",
   "pygments_lexer": "ipython3",
   "version": "3.7.6"
  },
  "toc": {
   "base_numbering": 1,
   "nav_menu": {},
   "number_sections": true,
   "sideBar": true,
   "skip_h1_title": false,
   "title_cell": "Table of Contents",
   "title_sidebar": "Contents",
   "toc_cell": false,
   "toc_position": {},
   "toc_section_display": true,
   "toc_window_display": false
  }
 },
 "nbformat": 4,
 "nbformat_minor": 1
}