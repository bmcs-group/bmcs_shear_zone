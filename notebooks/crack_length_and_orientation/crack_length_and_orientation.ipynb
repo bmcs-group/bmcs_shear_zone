{
 "cells": [
  {
   "cell_type": "markdown",
   "metadata": {},
   "source": [
    "# Maximum Principal Stress Criterion"
   ]
  },
  {
   "cell_type": "code",
   "execution_count": null,
   "metadata": {},
   "outputs": [],
   "source": [
    "%matplotlib notebook\n",
    "import matplotlib.pyplot as plt\n",
    "import numpy as np\n",
    "import sympy as sp\n",
    "sp.init_printing()\n",
    "import ipywidgets as ipw"
   ]
  },
  {
   "cell_type": "markdown",
   "metadata": {},
   "source": [
    "<img src=\"fig/far_field_stress.png\" width=\"700\"/>"
   ]
  },
  {
   "cell_type": "markdown",
   "metadata": {},
   "source": [
    "The theory of Maximum Principal Stress was first introduced by Erdogan and Sih (1963). According to this theory, crack growth will take place for an in-plane mixed mode along the direction for which the initial normal stress across the possible crack path is tensile, principal and maximum \\cite{bazant1997fracture}. The theory evaluates the stresses in the vicinity of crack tip based on the dependence on the angle of the initial and current crack propagation and the far field stresses. The external stresses at a point in the finite element and along the crack are shown in  figure and the far field stress profile at a point in a finite element is represented in equation.\n",
    "\\begin{align}\n",
    "\\bar{\\sigma}_{ij} = \n",
    "\\left[\n",
    "\\begin{array}{cc}\n",
    "\\bar{\\sigma}_{x} & \\bar{\\sigma}_{xy} \\\\\n",
    "\\bar{\\sigma}_{xy} & \\bar{\\sigma}_{y}\n",
    "\\end{array}\n",
    "\\right] =\n",
    "\\left[\n",
    "\\begin{array}{cc}\n",
    "(1 - \\eta)\\bar{\\sigma} & \\eta \\bar{\\sigma} \\\\\n",
    "\\eta \\bar{\\sigma} & 0\n",
    "\\end{array}\n",
    "\\right] \n",
    "\\label{eq:sigmaxz}\n",
    "\\end{align}\n",
    "Here, $\\bar{\\sigma}_x = (1 - \\eta)\\,\\bar{\\sigma}_x, \\bar{\\sigma}_{xy} = \\eta\\,\\bar{\\sigma}_x, \\bar{\\sigma}_y = 0$ depicts the horizontal, shear and vertical far field stresses at a point whereas $\\eta$ represents the shear co-efficient whose value range from $0$ to $1$ acting as a switch to constitute the cases from pure tension to pure shear. Figure gives a visual representation of a condition for shear zones i.e. $\\bar{\\sigma}_y = 0$. Furthermore, it also shows an assumed orientation of an initial crack making an angle $\\beta$ with respect to the vertical axis. Moreover, these assumptions will act as boundary conditions for the proposed model calculating orientation of the crack."
   ]
  },
  {
   "cell_type": "code",
   "execution_count": null,
   "metadata": {},
   "outputs": [],
   "source": [
    "r = sp.Symbol('r', nonnegative = True)\n",
    "theta = sp.Symbol(r'\\theta', nonnegative = True)\n",
    "K_I = sp.Symbol('K_I', nonnegative = True)\n",
    "K_II = sp.Symbol('K_{II}', nonnegative = True)\n",
    "T = sp.Symbol('T', nonnegative = True)\n",
    "sigma_x =  sp.Symbol(r'\\sigma_x', nonnegative = True)\n",
    "eta =  sp.Symbol(r'\\eta', nonnegative = True)\n",
    "sigma_z =  sp.Symbol(r'\\sigma_z', nonnegative = True)\n",
    "tau_fps = sp.Symbol(r'\\tau_\\mathrm{fps}')\n",
    "a = sp.Symbol('a', nonnegative = True)\n",
    "beta = sp.Symbol(r'\\beta', nonnegative = True)\n",
    "f = sp.Symbol(r'f', nonnegative = True)\n",
    "eta"
   ]
  },
  {
   "cell_type": "markdown",
   "metadata": {},
   "source": [
    "## Stress Intensity Factors\n",
    "As far field stresses show the stress profile at a point in the element but we need to transform it with respect to the initial crack as we are solely concerned to evaluate the stresses along the rupture and the stress field of the propagating fracture. In order to obtain the profile along the crack, transformation is required which is shown as:\n",
    "\\begin{align}\n",
    "R^{\\beta}_{kl} = \n",
    "\\left[\n",
    "\\begin{array}{cc}\n",
    "\\cos \\beta & -\\sin \\beta \\\\\n",
    "\\sin \\beta & \\cos \\beta\n",
    "\\end{array}\n",
    "\\right]\n",
    "\\label{eq:R}\n",
    "\\end{align}\n",
    "\\begin{align}\n",
    "\\bar{\\sigma}^{\\beta}_{kl} = \n",
    "R^{\\beta}_{ki} \\bar{\\sigma}_{ij} R^{\\beta}_{jl}\n",
    "\\label{eq:sigmat}\n",
    "\\end{align}\n",
    "The matrix $R^{\\beta}_{kl}$ represents rotation matrix with respect to angle $\\beta$. Equation shows the transformed stress field along the rupture. In order to proceed further and obtain the stress at the tip of fracture we need to convert this stress profile into stress intensity factors (SIFs). The reason for using stress intensity factors is due to the fact that they give complete severity of the stress state at the crack tip by taking into account the transformed far field stresses and the length of the rupture. The SIFs were first introduced by Irwin while calculating the stress state at the tip of crack. Hence,\n",
    "\\begin{align}\n",
    "K_I = \\sqrt{ \\pi a}\\, \\bar{\\sigma}^\\beta_{11} %\\sigma_{n} \n",
    "\\label{eq:KI}\n",
    "\\end{align}\n",
    "In analogy, the mode II is given as\n",
    "\\begin{align}\n",
    "\\mathrm{K}_{II} = \\sqrt{ \\pi a}\\, \\bar{\\sigma}^\\beta_{12}\n",
    "\\label{eq:KII}\n",
    "\\end{align}\n",
    "As we know that shear crack propagates due to mixed mode i.e. opening and tangential stress, hence, SIFs taken into account $K_I$, $K_{II}$ represent the mode I (opening) and mode II (sliding) Stress Intensity factors. The positive sign of $K_I$ highlights stress as tension whereas negative sign constitutes compression. Similarly, negative sign of $K_{II}$ represents stress in opposite direction."
   ]
  },
  {
   "cell_type": "markdown",
   "metadata": {},
   "source": [
    "<img src=\"transformationofstressfield.png\" width=\"300\"/>"
   ]
  },
  {
   "cell_type": "code",
   "execution_count": null,
   "metadata": {},
   "outputs": [],
   "source": [
    "s_b, c_b = sp.symbols('s_b, c_b')\n",
    "s_b"
   ]
  },
  {
   "cell_type": "code",
   "execution_count": null,
   "metadata": {},
   "outputs": [],
   "source": [
    "sigma_ij = sp.Matrix([[(1 - eta) * sigma_x, eta * sigma_x],\n",
    "                    [ eta * sigma_x, 0]])\n",
    "sigma_ij"
   ]
  },
  {
   "cell_type": "code",
   "execution_count": null,
   "metadata": {},
   "outputs": [],
   "source": [
    "R_beta = sp.Matrix([[c_b, -s_b],\n",
    "                    [s_b, c_b]])\n",
    "R_beta"
   ]
  },
  {
   "cell_type": "code",
   "execution_count": null,
   "metadata": {},
   "outputs": [],
   "source": [
    "sigma_beta_ij = R_beta.T * sigma_ij * R_beta\n",
    "sigma_beta_ij"
   ]
  },
  {
   "cell_type": "code",
   "execution_count": null,
   "metadata": {},
   "outputs": [],
   "source": [
    "sigma_beta_ij_sim_ = sp.simplify(sigma_beta_ij)\n",
    "sigma_beta_ij_sim_"
   ]
  },
  {
   "cell_type": "code",
   "execution_count": null,
   "metadata": {},
   "outputs": [],
   "source": [
    "K_I = sp.sqrt(sp.pi * a) * sigma_beta_ij_sim_[0,0]\n",
    "K_II  = sp.sqrt(sp.pi * a) * sigma_beta_ij_sim_[1,0]\n",
    "K_I, K_II"
   ]
  },
  {
   "cell_type": "code",
   "execution_count": null,
   "metadata": {},
   "outputs": [],
   "source": [
    "#a = sp.simplify(SIF_field)\n",
    "#l = (Rot.T).inv() * a * Rot.inv()\n",
    "#l"
   ]
  },
  {
   "cell_type": "code",
   "execution_count": null,
   "metadata": {},
   "outputs": [],
   "source": [
    "#sp.simplify(l)"
   ]
  },
  {
   "cell_type": "code",
   "execution_count": null,
   "metadata": {},
   "outputs": [],
   "source": [
    "#params1 = {beta:45*np.pi/180}"
   ]
  },
  {
   "cell_type": "code",
   "execution_count": null,
   "metadata": {},
   "outputs": [],
   "source": [
    "#K_I_ = K_I#.subs(params)\n",
    "#K_II_ = K_II#.subs(params)\n",
    "#K_I_, K_II_"
   ]
  },
  {
   "cell_type": "code",
   "execution_count": null,
   "metadata": {},
   "outputs": [],
   "source": [
    "## Representation of sin and cos components as s_t and c_t for simplicity.\n",
    "s_t, c_t = sp.symbols('s_t,c_t')\n",
    "#T_t = sp.Matrix([[c_t, -s_t],[s_t, c_t]])\n",
    "#T_t"
   ]
  },
  {
   "cell_type": "code",
   "execution_count": null,
   "metadata": {},
   "outputs": [],
   "source": [
    "cs_theta = sp.Matrix([c_t, s_t])\n",
    "cs_theta"
   ]
  },
  {
   "cell_type": "code",
   "execution_count": null,
   "metadata": {},
   "outputs": [],
   "source": [
    "cs_theta_ = sp.Matrix([sp.cos(theta), sp.sin(theta)])\n",
    "cs_theta_"
   ]
  },
  {
   "cell_type": "markdown",
   "metadata": {},
   "source": [
    "## Stress at Crack tip\n",
    "Thus, the local stress state ahead of the crack tip aligned with the prexisting crack direction \n",
    "can be expressed as a function of $r$ representing the distance from the crack tip\n",
    "\\begin{align}\n",
    "\\tilde{\\sigma}^\\beta_{11}(r) &= \\frac{1}{\\sqrt{2 \\pi r}} K_I \\\\\n",
    "\\tilde{\\sigma}^\\beta_{12}(r) &= \\frac{1}{\\sqrt{2 \\pi r}} K_{II}.\n",
    "\\end{align}\n",
    "The stress component parallel to crack is assumed uniform so that\n",
    "\\begin{align}\n",
    "\\tilde{\\sigma}^\\beta_{22}(r) &= \\bar{\\sigma}^\\beta_{22}.\n",
    "\\end{align}\n",
    "The tensor $\\tilde{\\sigma}^\\beta_{ij}$ is aligned with the existing crack.\n",
    "To identify the direction of the crack growth we first need to introduce \n",
    "the rotation angle $\\theta$ relative to the existing crack $\\beta$.\n",
    "Then, a rotation operator can be introduced as a matrix\n",
    "\\begin{gather}\n",
    "R^{\\theta}_{kl} = \n",
    "\\left[\n",
    "\\begin{array}{cc}\n",
    "\\cos \\theta & -\\sin \\theta \\\\\n",
    "\\sin \\theta &  \\cos \\theta\n",
    "\\end{array} \\right]\n",
    "\\label{eq:Tmat}\n",
    "\\end{gather}\n",
    "so that the local stress state around the crack tip can be defined \n",
    "in polar coordinates as\n",
    "\\begin{align}\n",
    "\\tilde{\\sigma}^{\\theta}_{ij}(\\theta, r) = R^\\theta_{ki} \\tilde{\\sigma}^\\beta_{ij} R^\\theta_{jl}.\n",
    "\\end{align}\n",
    "A solution for the stress field around the crack tip shown in figure was conceptualized by Westergaard which was further simplified by Irwin using the Airy Stress Functions based on the assumption that the material is isotropic. The solution of stress field in an infinite plate containing a crack found by Westergaard is given in complex numbers. Furthermore, this equation of complex numbers was taken to obtain stress field around the rupture which can generally be represented as:\n",
    "\\begin{align}\n",
    "\\bar{\\sigma}^{\\beta}_{ij}(\\rho) = \\frac{\\left[ K_I S_{ij}^I(\\theta) + K_{II} S_{ij}^{II}(\\theta) \\right]}{\\sqrt{2\\pi \\rho}}\n",
    "\\label{eq:dominantstresses}\n",
    "\\end{align}\n",
    "Hence, with respect to equation the local stress state in the vicinity of the crack tip can be described \n",
    "using the stress intensity factors $K_I$ and $K_{II}$ in combination with \n",
    "angular functions for mode I and mode II. The angular functions were obtained during Irwin formulation and are reported here directly as:\n",
    "\\rch{specify a reference to where is it derived.}\n",
    "\\rch{This was denoted as $\\sigma^{\\mathrm{tip}}$ before. But this is simply rotating the \n",
    "}\n",
    "\\rch{Don't use mathrm for mathematical symbols!}\n",
    "\\rch{\n",
    "by saying \"obtained from\" you indicate that you want to explain \n",
    "what is the procedure to derive these angular functions -- but you just\n",
    "write down the formulas. How are they derived?}\n",
    "\\begin{gather}\n",
    "S_{ij}^{I}(\\theta) = \n",
    "\\left[\n",
    "\\begin{array}{cc}\n",
    "S^{I}_{11} & S^{I}_{12} \\\\\n",
    "S^{I}_{12} &  S^{I}_{22}\n",
    "\\end{array}\n",
    "\\right] =\n",
    "\\\\\\left[\n",
    "\\begin{array}{cc}\n",
    "2 \\cos\\frac{\\theta}{2} -\\cos\\frac{\\theta}{2} \\left[ 1 + \\sin\\frac{\\theta}{2}\\sin\\frac{3\\theta}{2}\\right] & \\cos\\frac{\\theta}{2}\\sin\\frac{\\theta}{2}\\cos\\frac{3\\theta}{2} \\\\\n",
    "\\cos\\frac{\\theta}{2}\\sin\\frac{\\theta}{2}\\cos\\frac{3\\theta}{2} &  \\cos\\frac{\\theta}{2} \\left[ 1 + \\sin\\frac{\\theta}{2}\\sin\\frac{3\\theta}{2}\\right]\n",
    "\\end{array}\n",
    "\\right] \n",
    "\\label{eq:SI}\n",
    "\\end{gather}\n",
    "\\begin{gather}\n",
    "S_{ij}^{II}(\\theta) = \n",
    "\\left[\n",
    "\\begin{array}{cc}\n",
    "S^{II}_{11} & S^{II}_{12} \\\\\n",
    "S^{II}_{12} &  S^{II}_{22}\n",
    "\\end{array}\n",
    "\\right] =\n",
    "\\\\\\left[\n",
    "\\begin{array}{cc}\n",
    "-2 \\sin\\frac{\\theta}{2} - \\sin\\frac{\\theta}{2}\\cos\\frac{\\theta}{2}\\cos\\frac{3\\theta}{2} & \\cos\\frac{\\theta}{2}\\left[ 1 - \\sin\\frac{\\theta}{2}\\sin\\frac{3\\theta}{2}\\right] \\\\\n",
    "\\cos\\frac{\\theta}{2}\\left[ 1 - \\sin\\frac{\\theta}{2}\\sin\\frac{3\\theta}{2}\\right] &  \\sin\\frac{\\theta}{2}\\cos\\frac{\\theta}{2}\\cos\\frac{3\\theta}{2}\n",
    "\\end{array}\n",
    "\\right] \n",
    "\\label{eq:SII}\n",
    "\\end{gather}\n",
    "where, $\\rho$ shows radial distance for the crack to propagate and $\\theta$ constitutes the angle of propagation whose direction depends on the loading direction of the far field stresses. "
   ]
  },
  {
   "cell_type": "markdown",
   "metadata": {},
   "source": [
    "<img src=\"Transformationfigure.png\" width=\"500\"/>"
   ]
  },
  {
   "cell_type": "markdown",
   "metadata": {},
   "source": [
    "## Angular Function"
   ]
  },
  {
   "cell_type": "code",
   "execution_count": null,
   "metadata": {},
   "outputs": [],
   "source": [
    "s_3t = 3 * s_t - 4 * s_t**3\n",
    "c_3t = 4 * c_t**3 - 3 * c_t\n",
    "S_I_11 = 2 * c_t - c_t * (1 + s_t * s_3t) \n",
    "S_I_22 = c_t * (1 + s_t * s_3t)\n",
    "S_I_12 = c_t * s_t * c_3t\n",
    "S_I = sp.Matrix([[S_I_11, S_I_12],[S_I_12, S_I_22]])\n",
    "S_I_ = sp.simplify(S_I)\n",
    "S_I_"
   ]
  },
  {
   "cell_type": "code",
   "execution_count": null,
   "metadata": {},
   "outputs": [],
   "source": [
    "S_II_11 = - 2 * s_t - s_t * c_t * c_3t  \n",
    "S_II_22 = s_t * c_t * c_3t\n",
    "S_II_12 = c_t * (1 - s_t * s_3t)\n",
    "S_II = sp.Matrix([[S_II_11, S_II_12],[S_II_12, S_II_22]])\n",
    "S_II_ = sp.simplify(S_II)\n",
    "S_II_"
   ]
  },
  {
   "cell_type": "code",
   "execution_count": null,
   "metadata": {},
   "outputs": [],
   "source": [
    "c_t_h = sp.sqrt((1 + c_t)/2)\n",
    "s_t_h = sp.sqrt((1 - c_t)/2)\n",
    "s_t_h"
   ]
  },
  {
   "cell_type": "code",
   "execution_count": null,
   "metadata": {},
   "outputs": [],
   "source": [
    "sigma_tip_ij = sp.Matrix([[K_I * S_I_[0,0] + K_II * S_II_[0,0], K_I * S_I_[0,1] + K_II * S_II_[0,1]],\n",
    "                   [K_I * S_I_[0,1] + K_II * S_II_[0,1], K_I * S_I_[1,1] + K_II * S_II_[1,1]]])\n",
    "sigma_tip_ij_ = sp.simplify(sigma_tip_ij.subs(c_t, c_t_h).subs(s_t, s_t_h)) / sp.sqrt(2 * sp.pi * r)\n",
    "sigma_tip_ij_"
   ]
  },
  {
   "cell_type": "markdown",
   "metadata": {},
   "source": [
    "## Tip Stress Transformation\n",
    "Here again, transformation is required to represent the stress profile with respect to the polar coordinates for exact representation of the stresses on the propagating crack. Hence,\n",
    "\\begin{gather}\n",
    "\\tilde{\\sigma}^{\\theta}_{ij}(\\theta, r) = R^\\theta_{ki} \\tilde{\\sigma}^\\beta_{ij} R^\\theta_{jl}\n",
    "\\label{eq:sigmatt}\n",
    "\\end{gather}\n",
    "where,\n",
    "\\begin{gather}\n",
    "R^{\\theta}_{kl} = \n",
    "\\left[\n",
    "\\begin{array}{cc}\n",
    "\\cos \\theta & -\\sin \\theta \\\\\n",
    "\\sin \\theta &  \\cos \\theta\n",
    "\\end{array} \\right]\n",
    "\\end{gather}\n",
    "For better understanding of the concept the complete transformation from the far field stresses to the stress profile on the propagating crack is shown in figure. "
   ]
  },
  {
   "cell_type": "code",
   "execution_count": null,
   "metadata": {},
   "outputs": [],
   "source": [
    "R_theta = sp.Matrix([[cs_theta[0], -cs_theta[1]],[cs_theta[1], cs_theta[0]]])\n",
    "R_theta"
   ]
  },
  {
   "cell_type": "code",
   "execution_count": null,
   "metadata": {},
   "outputs": [],
   "source": [
    "sig_tip_theta_ij = R_theta.T * sigma_tip_ij_ * R_theta\n",
    "sig_tip_theta_ij_ = sp.simplify(sig_tip_theta_ij)\n",
    "sig_tip_theta_ij_;"
   ]
  },
  {
   "cell_type": "markdown",
   "metadata": {},
   "source": [
    "Replacing sine component with cosine for transforming the equation into a single trignometric ratio for simpicity."
   ]
  },
  {
   "cell_type": "code",
   "execution_count": null,
   "metadata": {},
   "outputs": [],
   "source": [
    "s_t_ = sp.sqrt(1 - c_t**2)\n",
    "sig_tip_theta_ij_sub = sig_tip_theta_ij_.subs(s_t, s_t_)\n",
    "sig_tip_theta_ij_sub;"
   ]
  },
  {
   "cell_type": "code",
   "execution_count": null,
   "metadata": {},
   "outputs": [],
   "source": [
    "sig_tip_theta_ij_sim = sp.simplify(sig_tip_theta_ij_sub)\n",
    "sig_tip_theta_ij_sim;"
   ]
  },
  {
   "cell_type": "markdown",
   "metadata": {},
   "source": [
    "However, the direction angle of the propagating crack can be obtained by using the main condition of Maximum Principal Stress Theory (MPS), which states that the stresses are principal i.e. $\\tilde{\\sigma}^{\\theta}_{11}$ and $\\tilde{\\sigma}^{\\theta}_{22}$ are maximum, therefore:\n",
    "\\begin{align}\n",
    "\\tilde{\\sigma}^{\\theta}_{12} = 0\n",
    "\\label{eq:condition}\n",
    "\\end{align}"
   ]
  },
  {
   "cell_type": "code",
   "execution_count": null,
   "metadata": {},
   "outputs": [],
   "source": [
    "#sig_tip_theta_sim[1,0].subs(params)"
   ]
  },
  {
   "cell_type": "code",
   "execution_count": null,
   "metadata": {},
   "outputs": [],
   "source": [
    "params = {eta : 0}\n",
    "cos_theta_sigma_tension = sp.solve(sig_tip_theta_ij_sim[1,0].subs(params), c_t)\n",
    "cos_theta_sigma_tension"
   ]
  },
  {
   "cell_type": "code",
   "execution_count": null,
   "metadata": {},
   "outputs": [],
   "source": [
    "theta_pure_tension = cos_theta_sigma_tension[2].subs(c_b, sp.cos(beta)).subs(s_b, sp.sin(beta))\n",
    "theta_pt = sp.acos(theta_pure_tension)\n",
    "get_theta_sig_pt = sp.lambdify((beta), theta_pt, 'numpy')\n",
    "get_theta_sig_pt"
   ]
  },
  {
   "cell_type": "code",
   "execution_count": null,
   "metadata": {},
   "outputs": [],
   "source": [
    "_, (ax1) = plt.subplots(1, 1, figsize=(7,3))\n",
    "beta_0_ts = np.linspace(0 * np.pi/180, 31.70 * np.pi/180, 20)\n",
    "beta_1_ts = np.linspace(31.70 * np.pi/180, 90 * np.pi/180, 80)\n",
    "beta_ts = np.concatenate((beta_0_ts, beta_1_ts  ))\n",
    "theta_sig_pt = -get_theta_sig_pt(beta_ts)\n",
    "ax1.plot(beta_ts * 180/np.pi, theta_sig_pt * 180/ np.pi, color='orange', lw=2, label = r'$Uniaxial\\,Tension$')\n",
    "ax1.set_xlabel(r'$\\beta$'); ax1.set_ylabel(r'$\\theta$')\n",
    "ax1.legend()\n",
    "_.savefig(\"crackpropagationagainstinclination.pdf\", bbox_inches='tight')"
   ]
  },
  {
   "cell_type": "code",
   "execution_count": null,
   "metadata": {},
   "outputs": [],
   "source": [
    "a_ = 1\n",
    "H_ = 60\n",
    "H_crack = 20\n",
    "V_crack = 0\n",
    "i = 0\n",
    "beta_ = 1.57\n",
    "coordinates_pt = np.zeros((1,2))\n",
    "coordinates_pt = coordinates_pt[np.newaxis,:,:]\n",
    "for i in range(500):\n",
    "    new_coord = np.array([H_crack,V_crack]).reshape(1,2)\n",
    "    new_coord = new_coord[np.newaxis,:,:]\n",
    "    coordinates_pt = np.concatenate((coordinates_pt,new_coord))\n",
    "    V_crack += (a_ * np.cos(beta_))\n",
    "    H_crack += (a_ * np.sin(beta_))\n",
    "    if beta_ < 0:\n",
    "        #beta_ += get_theta_sig_xy02(beta_)\n",
    "        beta_ += get_theta_sig_pt(beta_)\n",
    "    #beta_ = abs(beta_)\n",
    "    elif beta_ > 0:\n",
    "        beta_ += -get_theta_sig_pt(beta_)\n",
    "    \n",
    "    \n",
    "        \n",
    "    print(beta_* 180/np.pi)\n",
    "    #print(V_crack)\n",
    "    #print(H_crack)\n",
    "    #print(\"**********************\")\n",
    "    i += 1\n",
    "    #print(i)\n",
    "    \n",
    "    if abs(V_crack) > H_ or H_crack > 60: #or V_crack < 0:# or i>15:\n",
    "        break\n",
    "#print(coordinates)"
   ]
  },
  {
   "cell_type": "code",
   "execution_count": null,
   "metadata": {},
   "outputs": [],
   "source": [
    "L_, H_, B_ = 60, 60, 20\n",
    "x_aC = np.array([[0, L_, L_, 0, 0], \n",
    "                 [0, 0, H_, H_, 0]], dtype=np.float_)\n",
    "x_Ca = x_aC.T\n",
    "x_Ca"
   ]
  },
  {
   "cell_type": "code",
   "execution_count": null,
   "metadata": {},
   "outputs": [],
   "source": [
    "_, (ax1) = plt.subplots(1, 1, figsize=(7,3))\n",
    "ax1.plot(x_Ca[:,0], x_Ca[:,1], color='blue', lw=2, label = r'$beam$')\n",
    "ax1.plot(coordinates_pt[:,:,0], coordinates_pt[:,:,1], color='red', lw=2, label = r'$crack$')\n",
    "ax1.set_xlabel(r'$H$'); ax1.set_ylabel(r'$V$')\n",
    "ax1.legend()\n",
    "_.savefig(\"crackplotnew1.pdf\", bbox_inches='tight')"
   ]
  },
  {
   "cell_type": "markdown",
   "metadata": {},
   "source": [
    "# R-curve concept for calculating crack length"
   ]
  },
  {
   "cell_type": "code",
   "execution_count": null,
   "metadata": {},
   "outputs": [],
   "source": [
    "f_1 = sp.Symbol('f_1', nonnegative = True)\n",
    "f_2 = sp.Symbol('f_2', nonnegative = True)\n",
    "E = sp.Symbol('E', nonnegative = True)\n",
    "alpha = sp.Symbol('alpha', nonnegative = True)\n",
    "a_0 = sp.Symbol('a_0', nonnegative = True)\n",
    "a_c = sp.Symbol('a_c', nonnegative = True)\n",
    "pi = sp.Symbol(r'\\pi', nonnegative = True)\n",
    "D = sp.Symbol('D', nonnegative = True)\n",
    "H_0 = sp.Symbol('H_0', nonnegative = True)\n",
    "B = sp.Symbol('B', nonnegative = True)\n",
    "P_max = sp.Symbol('P_max', nonnegative = True)\n",
    "P = sp.Symbol('P', nonnegative = True)\n",
    "S = sp.Symbol('S', nonnegative = True)\n",
    "B = sp.Symbol('B', nonnegative = True)\n",
    "a = sp.Symbol('a', nonnegative = True)\n",
    "COD = sp.Symbol('COD', nonnegative = True)\n",
    "K_Ic = sp.Symbol('K_{Ic}', nonnegative = True)"
   ]
  },
  {
   "cell_type": "code",
   "execution_count": null,
   "metadata": {},
   "outputs": [],
   "source": [
    "d_1 = sp.Symbol('d_1')\n",
    "d_2 = sp.Symbol('d_2')\n",
    "psi = 1 - ((d_2 - (alpha - 1)/alpha)/(d_1 - (alpha - 1)/alpha)) * \\\n",
    "        ((alpha * a_0 - a_0)/(alpha * a_0 - a_0))**(d_2 - d_1)\n",
    "psi"
   ]
  },
  {
   "cell_type": "code",
   "execution_count": null,
   "metadata": {},
   "outputs": [],
   "source": [
    "params = {f_2 : 1.42, \n",
    "          E: 20000, #N/mm2\n",
    "          P_max : 10, #N \n",
    "          D : 19, #mm\n",
    "          H_0 : 3, #mm\n",
    "          B : 76.2, #mm\n",
    "          S : 304.8, #mm\n",
    "          P : 120, #N\n",
    "          pi : 3.14, \n",
    "          #a_0: 10, #mm\n",
    "          f_1: 1.123,\n",
    "          #COD : 0.0094, ##mm\n",
    "          K_Ic : 31.4 #N/mm2\n",
    "         }"
   ]
  },
  {
   "cell_type": "code",
   "execution_count": null,
   "metadata": {},
   "outputs": [],
   "source": [
    "sigma_x = (P * S) / B**2\n",
    "sigma_x_ = sigma_x.subs(params)\n",
    "sigma_x_"
   ]
  },
  {
   "cell_type": "code",
   "execution_count": null,
   "metadata": {},
   "outputs": [],
   "source": [
    "alpha_ = sp.Symbol(r'\\alpha')\n",
    "d_1 = (1/2) + ((alpha_ - 1) / alpha_) + sp.sqrt(1/4 + (alpha_ - 1) / alpha_\\\n",
    "                                                            - ((alpha_ - 1) / alpha_)**2)\n",
    "d_2 = (1/2) + ((alpha_ - 1) / alpha_) - sp.sqrt(1/4 + (alpha_ - 1) / alpha_ \\\n",
    "                                                            - ((alpha_ - 1) / alpha_)**2)\n",
    "d_1, d_2"
   ]
  },
  {
   "cell_type": "code",
   "execution_count": null,
   "metadata": {},
   "outputs": [],
   "source": [
    "K_Ic = sp.Symbol('K_Ic')\n",
    "alpha_ = sp.Symbol(r'\\alpha')\n",
    "a_0_ = sp.Symbol(r'a_0')\n",
    "d_2 = sp.Symbol(r'd_2')\n",
    "E = sp.Symbol(r'E')\n",
    "d_1 = sp.Symbol(r'd_1')\n",
    "beta_2 = (K_Ic**2 * (alpha_ * a_0_ - a_0_)**(-d_2)) / (E * (1 - (d_2 - ((alpha_-1)/alpha_))\\\n",
    "                                                            /(d_1 - ((alpha_-1)/alpha_))))\n",
    "beta_2"
   ]
  },
  {
   "cell_type": "code",
   "execution_count": null,
   "metadata": {},
   "outputs": [],
   "source": [
    "f_1 = sp.Symbol('f_1', nonnegative = True)\n",
    "f_2 = sp.Symbol('f_2', nonnegative = True)\n",
    "E = sp.Symbol('E', nonnegative = True)\n",
    "a_0 = sp.Symbol('a_0', nonnegative = True)\n",
    "pi = sp.Symbol(r'\\pi', nonnegative = True)\n",
    "COD_ = sp.Symbol('COD', nonnegative = True)\n",
    "K_Ic = sp.Symbol('K_{Ic}', nonnegative = True)\n",
    "alpha_ = (pi * E**2 * f_1**2 * COD_**2) / (32 * a_0 * K_Ic**2 * f_2**2) \\\n",
    "        + sp.sqrt((pi * E**2 * f_1**2 * COD_**2) / (32 * a_0 * K_Ic**2 * f_2**2) + 1)\n",
    "alpha_"
   ]
  },
  {
   "cell_type": "code",
   "execution_count": null,
   "metadata": {},
   "outputs": [],
   "source": [
    "a_0_ = sp.Symbol(r'a_0')\n",
    "d_2 = sp.Symbol(r'd_2')\n",
    "E = sp.Symbol(r'E')\n",
    "d_1 = sp.Symbol(r'd_1')\n",
    "alpha_ = sp.Symbol(r'\\alpha')\n",
    "psi = 1 - ((d_2 - (alpha_ - 1)/alpha_)/(d_1 - (alpha_ - 1)/alpha_)\\\n",
    "              ) * ((alpha_ * a_0_ - a_0_)/(alpha_ * a_0_ - a_0_))**(d_2 - d_1) \n",
    "psi"
   ]
  },
  {
   "cell_type": "code",
   "execution_count": null,
   "metadata": {},
   "outputs": [],
   "source": [
    "CMOD = (4 * sigma_x.subs(params) * f_2.subs(params)) / E.subs(params)\n",
    "CMOD"
   ]
  },
  {
   "cell_type": "code",
   "execution_count": null,
   "metadata": {},
   "outputs": [],
   "source": [
    "COD = CMOD * sp.sqrt((alpha * a_0)**2 - a_0**2)\n",
    "COD_ = COD.subs(params)\n",
    "COD_"
   ]
  },
  {
   "cell_type": "code",
   "execution_count": null,
   "metadata": {},
   "outputs": [],
   "source": [
    "alpha_ = (pi * E**2 * f_1**2 * COD_**2) / (32 * a_0 * K_Ic**2 * f_2**2) \\\n",
    "        + sp.sqrt((pi * E**2 * f_1**2 * COD_**2) / (32 * a_0 * K_Ic**2 * f_2**2) + 1)\n",
    "alpha_sim = sp.simplify(alpha_.subs(params))\n",
    "alpha_val = alpha_sim - alpha\n",
    "alpha_diff = alpha_val.diff(alpha)\n",
    "#alpha_val\n",
    "alpha_val"
   ]
  },
  {
   "cell_type": "code",
   "execution_count": null,
   "metadata": {},
   "outputs": [],
   "source": [
    "alpha_0 = 1\n",
    "a_0_ = 1\n",
    "alpha_val = alpha_sim - alpha\n",
    "alpha_val.subs(a_0, a_0_)\n",
    "get_alpha_val = sp.lambdify((alpha), alpha_val.subs(a_0, a_0_), 'numpy')\n",
    "get_alpha_val"
   ]
  },
  {
   "cell_type": "code",
   "execution_count": null,
   "metadata": {},
   "outputs": [],
   "source": [
    "import scipy.optimize as sc\n",
    "a_0_ = 1\n",
    "H_ = 600\n",
    "V_ = 200\n",
    "H_crack = 20\n",
    "V_crack = 0\n",
    "beta_ = 0.78\n",
    "alpha_0 = 1.00\n",
    "E_ = 20000 #N/mm2\n",
    "K_Ic_ = 31.4 #N/mm2\n",
    "i = 0\n",
    "#alpha_ans = []\n",
    "coordinates_pt = np.zeros((1,2))\n",
    "coordinates_pt = coordinates_pt[np.newaxis,:,:]\n",
    "for i in range(20):\n",
    "    new_coord = np.array([H_crack,V_crack]).reshape(1,2)\n",
    "    new_coord = new_coord[np.newaxis,:,:]\n",
    "    coordinates_pt = np.concatenate((coordinates_pt,new_coord))\n",
    "    V_crack += (a_0_ * np.cos(beta_))\n",
    "    H_crack += (a_0_ * np.sin(beta_))\n",
    "    alpha_val = alpha_sim - alpha\n",
    "    alpha_diff = alpha_val.diff(alpha)\n",
    "    alpha_n = alpha_0 - (alpha_val/alpha_diff)\n",
    "    alpha_val = sp.solve(alpha_n.subs(a_0, a_0_))\n",
    "    if alpha_val[0] > 1:\n",
    "        alpha_ans = alpha_val[0]\n",
    "    elif alpha_val[0] < 1:\n",
    "        alpha_ans = alpha_val[1]\n",
    "    #print('alpha =',alpha_ans)\n",
    "    print('beta = ', beta_* 180/np.pi)\n",
    "    if beta_ < 0:\n",
    "            #beta_ += get_theta_sig_xy02(beta_)\n",
    "            beta_ += get_theta_sig_pt(beta_)\n",
    "            #beta_ = abs(beta_)\n",
    "    elif beta_ > 0:\n",
    "            beta_ += -get_theta_sig_pt(beta_)\n",
    "    \n",
    "    COD_val = COD_.subs(alpha, alpha_ans).subs(a_0, a_0_).subs(E, E_)\n",
    "    d_1 = (1/2) + (( alpha_ans - 1) /  alpha_ans) + sp.sqrt(1/4 + ( alpha_ans - 1) /  alpha_ans\\\n",
    "                                         - (( alpha_ans - 1) /  alpha_ans)**2)\n",
    "    d_2 = (1/2) + (( alpha_ans - 1) /  alpha_ans) - sp.sqrt(1/4 + ( alpha_ans - 1) /  alpha_ans \\\n",
    "                                         - (( alpha_ans - 1) /  alpha_ans)**2)\n",
    "    beta_2 = (K_Ic_**2 * ( alpha_ans * a_0_ - a_0_)**(-d_2)) / (E_ * (1 - (d_2 - (( alpha_ans-1)/ alpha_ans))\\\n",
    "                                 /(d_1 - (( alpha_ans-1)/ alpha_ans))))\n",
    "    #beta_2_ = beta_2.subs(E, E_).subs(K_Ic, K_Ic_)\n",
    "    psi = 1 - ((d_2 - ( alpha_ans - 1) /  alpha_ans)/(d_1  - ( alpha_ans - 1) /  alpha_ans)) * \\\n",
    "            ((alpha_ * a_0_ - a_0_)/(alpha_ * a_0_ - a_0_))**(d_2 - d_1)#- (alpha_ - 1)/alpha_)\n",
    "                \n",
    "    #R_ = R.subs(E, E_).subs(K_Ic, K_Ic_)\n",
    "    #R =  beta_2_ * psi * ((alpha_ans * a_0_) - a_0_)**d_2\n",
    "    R = beta_2 * (( alpha_ans * a_0_) - a_0_)**d_2\n",
    "    a_0_ =  alpha_ans * a_0_\n",
    "    #alpha_0 = alpha_ans\n",
    "    print('a_0=', a_0_)\n",
    "    print('COD_val=', COD_val)\n",
    "    print('V_crack=', V_crack)\n",
    "    print('H_crack=', H_crack)\n",
    "    print('beta_2 =', beta_2)\n",
    "    print('d_1 =',d_1)\n",
    "    print('d_2 =',d_2)\n",
    "    print('psi =',psi)\n",
    "    print('R =',R)\n",
    "    print('alpha =',alpha_ans)\n",
    "    print('alpha_root =',alpha_val)\n",
    "    print('*******************')\n",
    "    i  += 1\n",
    "    if abs(V_crack) > V_ or H_crack > H_: #or V_crack < 0:# or i>15:\n",
    "        break"
   ]
  },
  {
   "cell_type": "code",
   "execution_count": null,
   "metadata": {},
   "outputs": [],
   "source": [
    "L_, H_, B_ = 100, 200, 20\n",
    "x_aC = np.array([[0, L_, L_, 0, 0], \n",
    "                 [0, 0, H_, H_, 0]], dtype=np.float_)\n",
    "x_Ca = x_aC.T\n",
    "x_Ca"
   ]
  },
  {
   "cell_type": "code",
   "execution_count": null,
   "metadata": {},
   "outputs": [],
   "source": [
    "_, (ax1) = plt.subplots(1, 1, figsize=(7,3))\n",
    "ax1.plot(x_Ca[:,0], x_Ca[:,1], color='blue', lw=2, label = r'$beam$')\n",
    "ax1.plot(coordinates_pt[:,:,0], coordinates_pt[:,:,1], color='red', lw=2, label = r'$crack$')\n",
    "ax1.set_xlabel(r'$H$'); ax1.set_ylabel(r'$V$')\n",
    "ax1.legend()\n",
    "_.savefig(\"crackplotnew1.pdf\", bbox_inches='tight')"
   ]
  },
  {
   "cell_type": "code",
   "execution_count": null,
   "metadata": {},
   "outputs": [],
   "source": [
    "params_ = {eta : 1} \n",
    "cos_theta_sigma_pure_shear = sp.solve(sig_tip_theta_ij_sim[1,0].subs(params_), c_t)\n",
    "cos_theta_sigma_pure_shear"
   ]
  },
  {
   "cell_type": "code",
   "execution_count": null,
   "metadata": {},
   "outputs": [],
   "source": [
    "theta_pure_shear = cos_theta_sigma_pure_shear[2].subs(c_b, sp.cos(beta)).subs(s_b, sp.sin(beta))\n",
    "theta_sig_ps = sp.acos(theta_pure_shear)\n",
    "get_theta_sig_ps = sp.lambdify((beta), theta_sig_ps, 'numpy')\n",
    "get_theta_sig_ps"
   ]
  },
  {
   "cell_type": "code",
   "execution_count": null,
   "metadata": {},
   "outputs": [],
   "source": [
    "alpha = sp.Symbol('alpha', nonnegative = True)\n",
    "alpha_ = (pi * E**2 * f_1**2 * COD_**2) / (32 * a_0 * K_Ic**2 * f_2**2) \\\n",
    "        + sp.sqrt((pi * E**2 * f_1**2 * COD_**2) / (32 * a_0 * K_Ic**2 * f_2**2) + 1)\n",
    "alpha_sim = sp.simplify(alpha_.subs(params))\n",
    "alpha_val = alpha_sim - alpha\n",
    "alpha_diff = alpha_val.diff(alpha)\n",
    "#alpha_val\n",
    "alpha_val"
   ]
  },
  {
   "cell_type": "code",
   "execution_count": null,
   "metadata": {},
   "outputs": [],
   "source": [
    "import scipy.optimize as sc\n",
    "a_0_ = 1\n",
    "H_ = 600\n",
    "V_ = 200\n",
    "H_crack = 20\n",
    "V_crack = 0\n",
    "beta_ = 0\n",
    "alpha_0 = 1.00\n",
    "E_ = 20000 #N/mm2\n",
    "K_Ic_ = 31.4 #N/mm2\n",
    "i = 0\n",
    "coordinates_ps = np.zeros((1,2))\n",
    "coordinates_ps = coordinates_ps[np.newaxis,:,:]\n",
    "for i in range(10):\n",
    "    new_coord = np.array([H_crack,V_crack]).reshape(1,2)\n",
    "    new_coord = new_coord[np.newaxis,:,:]\n",
    "    coordinates_ps = np.concatenate((coordinates_ps,new_coord))\n",
    "    V_crack += (a_0_ * np.cos(beta_))\n",
    "    H_crack += (a_0_ * np.sin(beta_))\n",
    "    alpha_val = alpha_sim - alpha\n",
    "    alpha_diff = alpha_val.diff(alpha)\n",
    "    alpha_n = alpha_0 - (alpha_val/alpha_diff)\n",
    "    alpha_val = sp.solve(alpha_n.subs(a_0, a_0_))\n",
    "    if alpha_val[0] > 1:\n",
    "        alpha_ans = alpha_val[0]\n",
    "    elif alpha_val[0] < 1:\n",
    "        alpha_ans = alpha_val[1]\n",
    "    #print('alpha =',alpha_ans)\n",
    "    print('beta = ', beta_* 180/np.pi)\n",
    "    if beta_ < 0.78:\n",
    "        #beta_ += get_theta_sig_xy02(beta_)\n",
    "        beta_ += +get_theta_sig_ps(beta_)\n",
    "    elif beta_ > 0.78:\n",
    "        beta_ += -get_theta_sig_ps(beta_)\n",
    "    COD_val = COD_.subs(alpha, alpha_ans).subs(a_0, a_0_).subs(E, E_)\n",
    "    d_1 = (1/2) + (( alpha_ans - 1) /  alpha_ans) + sp.sqrt(1/4 + ( alpha_ans - 1) /  alpha_ans\\\n",
    "                                         - (( alpha_ans - 1) /  alpha_ans)**2)\n",
    "    d_2 = (1/2) + (( alpha_ans - 1) /  alpha_ans) - sp.sqrt(1/4 + ( alpha_ans - 1) /  alpha_ans \\\n",
    "                                         - (( alpha_ans - 1) /  alpha_ans)**2)\n",
    "    beta_2 = (K_Ic_**2 * ( alpha_ans * a_0_ - a_0_)**(-d_2)) / (E_ * (1 - (d_2 - (( alpha_ans-1)/ alpha_ans))\\\n",
    "                                 /(d_1 - (( alpha_ans-1)/ alpha_ans))))\n",
    "    #beta_2_ = beta_2.subs(E, E_).subs(K_Ic, K_Ic_)\n",
    "    psi = 1 - ((d_2 - ( alpha_ans - 1) /  alpha_ans)/(d_1  - ( alpha_ans - 1) /  alpha_ans)) * \\\n",
    "            ((alpha_ * a_0_ - a_0_)/(alpha_ * a_0_ - a_0_))**(d_2 - d_1)#- (alpha_ - 1)/alpha_)\n",
    "                \n",
    "    #R_ = R.subs(E, E_).subs(K_Ic, K_Ic_)\n",
    "    #R =  beta_2_ * psi * ((alpha_ans * a_0_) - a_0_)**d_2\n",
    "    R = beta_2 * (( alpha_ans * a_0_) - a_0_)**d_2\n",
    "    a_0_ =  alpha_ans * a_0_\n",
    "    #alpha_0 = alpha_ans\n",
    "    print('a_0=', a_0_)\n",
    "    print('COD_val=', COD_val)\n",
    "    print('V_crack=', V_crack)\n",
    "    print('H_crack=', H_crack)\n",
    "    print('beta_2 =', beta_2)\n",
    "    print('d_1 =',d_1)\n",
    "    print('d_2 =',d_2)\n",
    "    print('psi =',psi)\n",
    "    print('R =',R)\n",
    "    print('alpha =',alpha_ans)\n",
    "    print('alpha_root =',alpha_val)\n",
    "    print('*******************')\n",
    "    i  += 1\n",
    "    if abs(V_crack) > V_ or H_crack > H_: #or V_crack < 0:# or i>15:\n",
    "        break"
   ]
  },
  {
   "cell_type": "code",
   "execution_count": null,
   "metadata": {},
   "outputs": [],
   "source": [
    "L_, H_, B_ = 600, 200, 20\n",
    "x_aC = np.array([[0, L_, L_, 0, 0], \n",
    "                 [0, 0, H_, H_, 0]], dtype=np.float_)\n",
    "x_Ca = x_aC.T\n",
    "x_Ca"
   ]
  },
  {
   "cell_type": "code",
   "execution_count": null,
   "metadata": {},
   "outputs": [],
   "source": [
    "_, (ax1) = plt.subplots(1, 1, figsize=(7,3))\n",
    "ax1.plot(x_Ca[:,0], x_Ca[:,1], color='blue', lw=2, label = r'$beam$')\n",
    "ax1.plot(coordinates_ps[:,:,0], coordinates_ps[:,:,1], color='red', lw=2, label = r'$crack$')\n",
    "ax1.set_xlabel(r'$H$'); ax1.set_ylabel(r'$V$')\n",
    "ax1.legend()\n",
    "_.savefig(\"crackplotnew1.pdf\", bbox_inches='tight')"
   ]
  },
  {
   "cell_type": "code",
   "execution_count": null,
   "metadata": {},
   "outputs": [],
   "source": [
    "params_ = {eta : 0.5} \n",
    "cos_theta_sigma_tension_shear = sp.solve(sig_tip_theta_ij_sim[1,0].subs(params_), c_t)\n",
    "cos_theta_sigma_tension_shear"
   ]
  },
  {
   "cell_type": "code",
   "execution_count": null,
   "metadata": {},
   "outputs": [],
   "source": [
    "theta_sig_tension_shear = cos_theta_sigma_tension_shear[2].subs(c_b, sp.cos(beta)).subs(s_b, sp.sin(beta))\n",
    "theta_sig_ts = sp.acos(theta_sig_tension_shear)\n",
    "get_theta_sig_ts = sp.lambdify((beta), theta_sig_ts, 'numpy')\n",
    "get_theta_sig_ts"
   ]
  },
  {
   "cell_type": "code",
   "execution_count": null,
   "metadata": {},
   "outputs": [],
   "source": [
    "alpha = sp.Symbol('alpha', nonnegative = True)\n",
    "alpha_ = (pi * E**2 * f_1**2 * COD_**2) / (32 * a_0 * K_Ic**2 * f_2**2) \\\n",
    "        + sp.sqrt((pi * E**2 * f_1**2 * COD_**2) / (32 * a_0 * K_Ic**2 * f_2**2) + 1)\n",
    "alpha_sim = sp.simplify(alpha_.subs(params))\n",
    "alpha_val = alpha_sim - alpha\n",
    "alpha_diff = alpha_val.diff(alpha)\n",
    "#alpha_val\n",
    "alpha_val"
   ]
  },
  {
   "cell_type": "code",
   "execution_count": null,
   "metadata": {},
   "outputs": [],
   "source": [
    "import scipy.optimize as sc\n",
    "a_0_ = 1\n",
    "H_ = 100\n",
    "V_ = 100\n",
    "H_crack = 20\n",
    "V_crack = 0\n",
    "beta_ = 0\n",
    "alpha_0 = 1.00\n",
    "E_ = 20000 #N/mm2\n",
    "K_Ic_ = 31.4 #N/mm2\n",
    "i = 0\n",
    "coordinates_ts = np.zeros((1,2))\n",
    "coordinates_ts = coordinates_ts[np.newaxis,:,:]\n",
    "for i in range(10):\n",
    "    new_coord = np.array([H_crack,V_crack]).reshape(1,2)\n",
    "    new_coord = new_coord[np.newaxis,:,:]\n",
    "    coordinates_ts = np.concatenate((coordinates_ts,new_coord))\n",
    "    V_crack += (a_0_ * np.cos(beta_))\n",
    "    H_crack += (a_0_ * np.sin(beta_))\n",
    "    alpha_val = alpha_sim - alpha\n",
    "    alpha_diff = alpha_val.diff(alpha)\n",
    "    alpha_n = alpha_0 - (alpha_val/alpha_diff)\n",
    "    alpha_val = sp.solve(alpha_n.subs(a_0, a_0_))\n",
    "    if alpha_val[0] > 1:\n",
    "        alpha_ans = alpha_val[0]\n",
    "    elif alpha_val[0] < 1:\n",
    "        alpha_ans = alpha_val[1]\n",
    "    #print('alpha =',alpha_ans)\n",
    "    print('beta = ', beta_* 180/np.pi)\n",
    "    if beta_ < 0.39:\n",
    "        #beta_ += get_theta_sig_xy02(beta_)\n",
    "        beta_ += +get_theta_sig_ts(beta_)\n",
    "    elif beta_ > 0.39:\n",
    "        beta_ += -get_theta_sig_ts(beta_)\n",
    "    COD_val = COD_.subs(alpha, alpha_ans).subs(a_0, a_0_).subs(E, E_)\n",
    "    d_1 = (1/2) + (( alpha_ans - 1) /  alpha_ans) + sp.sqrt(1/4 + ( alpha_ans - 1) /  alpha_ans\\\n",
    "                                         - (( alpha_ans - 1) /  alpha_ans)**2)\n",
    "    d_2 = (1/2) + (( alpha_ans - 1) /  alpha_ans) - sp.sqrt(1/4 + ( alpha_ans - 1) /  alpha_ans \\\n",
    "                                         - (( alpha_ans - 1) /  alpha_ans)**2)\n",
    "    beta_2 = (K_Ic_**2 * ( alpha_ans * a_0_ - a_0_)**(-d_2)) / (E_ * (1 - (d_2 - (( alpha_ans-1)/ alpha_ans))\\\n",
    "                                 /(d_1 - (( alpha_ans-1)/ alpha_ans))))\n",
    "    #beta_2_ = beta_2.subs(E, E_).subs(K_Ic, K_Ic_)\n",
    "    psi = 1 - ((d_2 - ( alpha_ans - 1) /  alpha_ans)/(d_1  - ( alpha_ans - 1) /  alpha_ans)) * \\\n",
    "            ((alpha_ * a_0_ - a_0_)/(alpha_ * a_0_ - a_0_))**(d_2 - d_1)#- (alpha_ - 1)/alpha_)\n",
    "                \n",
    "    #R_ = R.subs(E, E_).subs(K_Ic, K_Ic_)\n",
    "    #R =  beta_2_ * psi * ((alpha_ans * a_0_) - a_0_)**d_2\n",
    "    R = beta_2 * (( alpha_ans * a_0_) - a_0_)**d_2\n",
    "    a_0_ =  alpha_ans * a_0_\n",
    "    #alpha_0 = alpha_ans\n",
    "    print('a_0=', a_0_)\n",
    "    print('COD_val=', COD_val)\n",
    "    print('V_crack=', V_crack)\n",
    "    print('H_crack=', H_crack)\n",
    "    print('beta_2 =', beta_2)\n",
    "    print('d_1 =',d_1)\n",
    "    print('d_2 =',d_2)\n",
    "    print('psi =',psi)\n",
    "    print('R =',R)\n",
    "    print('alpha =',alpha_ans)\n",
    "    print('alpha_root =',alpha_val)\n",
    "    print('*******************')\n",
    "    i  += 1\n",
    "    if abs(V_crack) > V_ or H_crack > H_: #or V_crack < 0:# or i>15:\n",
    "        break"
   ]
  },
  {
   "cell_type": "code",
   "execution_count": null,
   "metadata": {},
   "outputs": [],
   "source": [
    "L_, H_, B_ = 100, 100, 20\n",
    "x_aC = np.array([[0, L_, L_, 0, 0], \n",
    "                 [0, 0, H_, H_, 0]], dtype=np.float_)\n",
    "x_Ca = x_aC.T\n",
    "x_Ca"
   ]
  },
  {
   "cell_type": "code",
   "execution_count": null,
   "metadata": {},
   "outputs": [],
   "source": [
    "_, (ax1) = plt.subplots(1, 1, figsize=(7,3))\n",
    "ax1.plot(x_Ca[:,0], x_Ca[:,1], color='blue', lw=2, label = r'$beam$')\n",
    "ax1.plot(coordinates_ts[:,:,0], coordinates_ts[:,:,1], color='red', lw=2, label = r'$crack$')\n",
    "ax1.set_xlabel(r'$H$'); ax1.set_ylabel(r'$V$')\n",
    "ax1.legend()\n",
    "_.savefig(\"crackplotnew1.pdf\", bbox_inches='tight')"
   ]
  },
  {
   "cell_type": "code",
   "execution_count": null,
   "metadata": {},
   "outputs": [],
   "source": [
    "_, (ax1) = plt.subplots(1, 1, figsize=(7,3))\n",
    "ax1.plot(x_Ca[:,0], x_Ca[:,1], color='blue', lw=2, label = r'$beam$')\n",
    "ax1.plot(coordinates_pt[:,:,0], coordinates_pt[:,:,1], color='green', lw=2, label = r'$pure\\, tension$')\n",
    "ax1.plot(coordinates_ts[:,:,0], coordinates_ts[:,:,1], color='orange', lw=2, label = r'$tension\\,shear$')\n",
    "ax1.plot(coordinates_ps[:,:,0], coordinates_ps[:,:,1], color='red', lw=2, label = r'$pure\\,shear$')\n",
    "ax1.set_xlabel(r'$H$'); ax1.set_ylabel(r'$V$')\n",
    "ax1.legend()\n",
    "_.savefig(\"crackplotnew1.pdf\", bbox_inches='tight')"
   ]
  },
  {
   "cell_type": "code",
   "execution_count": null,
   "metadata": {},
   "outputs": [],
   "source": [
    "_, (ax1) = plt.subplots(1, 1, figsize=(7,3))\n",
    "beta_pt_0 = np.linspace(-90 * np.pi/180, 0 * np.pi/180, 50)\n",
    "beta_pt_1 = np.linspace(0 * np.pi/180, 90 * np.pi/180, 50)\n",
    "beta_pt = np.concatenate((beta_pt_0, beta_pt_1  ))\n",
    "beta_0_ts = np.linspace(0 * np.pi/180, 31.70 * np.pi/180, 20)\n",
    "beta_1_ts = np.linspace(31.70 * np.pi/180, 90 * np.pi/180, 80)\n",
    "beta_ts = np.concatenate((beta_0_ts, beta_1_ts  ))\n",
    "theta_sig_pt_0 = get_theta_sig_pt(beta_pt_0)\n",
    "theta_sig_pt_1 = -get_theta_sig_pt(beta_pt_1)\n",
    "theta_sig_pt = np.concatenate((theta_sig_pt_0, theta_sig_pt_1  ))\n",
    "theta_sig_pt = -get_theta_sig_pt(beta_ts)\n",
    "beta_0_ps = np.linspace(0 * np.pi/180, 45 * np.pi/180, 50)\n",
    "beta_1_ps = np.linspace(45 * np.pi/180, 90 * np.pi/180, 50)\n",
    "beta_ps = np.concatenate((beta_0_ps, beta_1_ps))\n",
    "theta_sig_ps_1 = get_theta_sig_ps(beta_0_ps)\n",
    "theta_sig_ps_2 = -get_theta_sig_ps(beta_1_ps)\n",
    "#if beta_ps.any() == 45 * np.pi/180:\n",
    "#theta_ps_0 = 0\n",
    "theta_sig_ps_fin = np.concatenate((theta_sig_ps_1, theta_sig_ps_2)) #, theta_ps_0\n",
    "theta_ts_1 = get_theta_sig_ts(beta_0_ts)\n",
    "theta_ts_2 = -get_theta_sig_ts(beta_1_ts)\n",
    "theta_sig_ts_fin = np.concatenate((theta_ts_1, theta_ts_2))\n",
    "ax1.plot(beta_ts * 180/np.pi, theta_sig_ts_fin * 180/ np.pi, color='blue', lw=2, label = r'$Tension\\,Shear$')\n",
    "ax1.plot(beta_ps * 180/np.pi, theta_sig_ps_fin * 180/ np.pi, color='red', lw=2, label = r'$Pure\\,Shear$')\n",
    "ax1.plot(beta_ts * 180/np.pi, theta_sig_pt * 180/ np.pi, color='orange', lw=2, label = r'$Uniaxial\\,Tension$')\n",
    "ax1.set_xlabel(r'$\\beta$'); ax1.set_ylabel(r'$\\theta$')\n",
    "ax1.legend()\n",
    "_.savefig(\"crackpropagationagainstinclination.pdf\", bbox_inches='tight')"
   ]
  },
  {
   "cell_type": "code",
   "execution_count": null,
   "metadata": {},
   "outputs": [],
   "source": [
    "theta_sig_pt * 180/ np.pi"
   ]
  },
  {
   "cell_type": "code",
   "execution_count": null,
   "metadata": {},
   "outputs": [],
   "source": [
    "beta_ts * 180/np.pi"
   ]
  },
  {
   "cell_type": "code",
   "execution_count": null,
   "metadata": {},
   "outputs": [],
   "source": [
    "a_ = 5\n",
    "H_ = 60\n",
    "H_crack = 20\n",
    "V_crack = 0\n",
    "i = 0\n",
    "beta_ = 1.57\n",
    "coordinates_ts = np.zeros((1,2))\n",
    "coordinates_ts = coordinates_ts[np.newaxis,:,:]\n",
    "for i in range(300):\n",
    "    new_coord = np.array([H_crack,V_crack]).reshape(1,2)\n",
    "    new_coord = new_coord[np.newaxis,:,:]\n",
    "    coordinates_ts = np.concatenate((coordinates_ts,new_coord))\n",
    "    V_crack += (a_ * np.cos(beta_))\n",
    "    H_crack += (a_ * np.sin(beta_))\n",
    "    if beta_ < 0.39:\n",
    "        #beta_ += get_theta_sig_xy02(beta_)\n",
    "        beta_ += +get_theta_sig_ts(beta_)\n",
    "    elif beta_ > 0.39:\n",
    "        beta_ += -get_theta_sig_ts(beta_)\n",
    "    \n",
    "    \n",
    "        \n",
    "    #print(beta_* 180/np.pi)\n",
    "    #print(V_crack)\n",
    "    #print(H_crack)\n",
    "    #print(\"**********************\")\n",
    "    i += 1\n",
    "    #print(i)\n",
    "    \n",
    "    if abs(V_crack) > H_ or H_crack > 200:# or i>15:\n",
    "        break\n",
    "#print(coordinates)"
   ]
  },
  {
   "cell_type": "code",
   "execution_count": null,
   "metadata": {},
   "outputs": [],
   "source": [
    "L_, H_, B_ = 60, 60, 20\n",
    "x_aC = np.array([[0, L_, L_, 0, 0], \n",
    "                 [0, 0, H_, H_, 0]], dtype=np.float_)\n",
    "x_Ca = x_aC.T\n",
    "x_Ca"
   ]
  },
  {
   "cell_type": "code",
   "execution_count": null,
   "metadata": {},
   "outputs": [],
   "source": [
    "_, (ax1) = plt.subplots(1, 1, figsize=(7,3))\n",
    "ax1.plot(x_Ca[:,0], x_Ca[:,1], color='blue', lw=2, label = r'$beam$')\n",
    "ax1.plot(coordinates_ts[:,:,0], coordinates_ts[:,:,1], color='red', lw=2, label = r'$crack$')\n",
    "ax1.set_xlabel(r'$H$'); ax1.set_ylabel(r'$V$')\n",
    "ax1.legend()\n",
    "_.savefig(\"crackplotnew1.pdf\", bbox_inches='tight')"
   ]
  },
  {
   "cell_type": "code",
   "execution_count": null,
   "metadata": {},
   "outputs": [],
   "source": [
    "a_ = 5\n",
    "H_ = 60\n",
    "H_crack = 20\n",
    "V_crack = 0\n",
    "i = 0\n",
    "beta_ = 1.57\n",
    "coordinates_ps = np.zeros((1,2))\n",
    "coordinates_ps = coordinates_ps[np.newaxis,:,:]\n",
    "for i in range(300):\n",
    "    new_coord = np.array([H_crack,V_crack]).reshape(1,2)\n",
    "    new_coord = new_coord[np.newaxis,:,:]\n",
    "    coordinates_ps = np.concatenate((coordinates_ps,new_coord))\n",
    "    V_crack += (a_ * np.cos(beta_))\n",
    "    H_crack += (a_ * np.sin(beta_))\n",
    "    if beta_ < 0.78:\n",
    "        #beta_ += get_theta_sig_xy02(beta_)\n",
    "        beta_ += +get_theta_sig_ps(beta_)\n",
    "    elif beta_ > 0.78:\n",
    "        beta_ += -get_theta_sig_ps(beta_)\n",
    "    #elif beta_ == 0.78:\n",
    "    #    beta_ = beta_\n",
    "    \n",
    "        \n",
    "    #print(beta_* 180/np.pi)\n",
    "    #print(V_crack)\n",
    "    #print(H_crack)\n",
    "    #print(\"**********************\")\n",
    "    i += 1\n",
    "    #print(i)\n",
    "    #print(get_theta_sig_ps(beta_)* 180/np.pi)\n",
    "    if abs(V_crack) > H_ or H_crack > 60:# or i>15:\n",
    "        break\n",
    "#print(coordinates)"
   ]
  },
  {
   "cell_type": "code",
   "execution_count": null,
   "metadata": {},
   "outputs": [],
   "source": [
    "_, (ax1) = plt.subplots(1, 1, figsize=(7,3))\n",
    "ax1.plot(x_Ca[:,0], x_Ca[:,1], color='blue', lw=2, label = r'$beam$')\n",
    "ax1.plot(coordinates_ps[:,:,0], coordinates_ps[:,:,1], color='red', lw=2, label = r'$crack$')\n",
    "ax1.set_xlabel(r'$H$'); ax1.set_ylabel(r'$V$')\n",
    "ax1.legend()\n",
    "_.savefig(\"crackplotshear.pdf\", bbox_inches='tight')"
   ]
  },
  {
   "cell_type": "code",
   "execution_count": null,
   "metadata": {},
   "outputs": [],
   "source": [
    "a_ = 5\n",
    "H_ = 60\n",
    "H_crack = 20\n",
    "V_crack = 0\n",
    "i = 0\n",
    "beta_ = 1.57\n",
    "coordinates_pt = np.zeros((1,2))\n",
    "coordinates_pt = coordinates_pt[np.newaxis,:,:]\n",
    "for i in range(500):\n",
    "    new_coord = np.array([H_crack,V_crack]).reshape(1,2)\n",
    "    new_coord = new_coord[np.newaxis,:,:]\n",
    "    coordinates_pt = np.concatenate((coordinates_pt,new_coord))\n",
    "    V_crack += (a_ * np.cos(beta_))\n",
    "    H_crack += (a_ * np.sin(beta_))\n",
    "    if beta_ < 0:\n",
    "        #beta_ += get_theta_sig_xy02(beta_)\n",
    "        beta_ += get_theta_sig_pt(beta_)\n",
    "    #beta_ = abs(beta_)\n",
    "    elif beta_ > 0:\n",
    "        beta_ += -get_theta_sig_pt(beta_)\n",
    "    \n",
    "    \n",
    "        \n",
    "    print(beta_* 180/np.pi)\n",
    "    #print(V_crack)\n",
    "    #print(H_crack)\n",
    "    #print(\"**********************\")\n",
    "    i += 1\n",
    "    #print(i)\n",
    "    \n",
    "    if abs(V_crack) > H_ or H_crack > 60: #or V_crack < 0:# or i>15:\n",
    "        break\n",
    "#print(coordinates)"
   ]
  },
  {
   "cell_type": "code",
   "execution_count": null,
   "metadata": {},
   "outputs": [],
   "source": [
    "_, (ax1) = plt.subplots(1, 1, figsize=(7,3))\n",
    "ax1.plot(x_Ca[:,0], x_Ca[:,1], color='blue', lw=2, label = r'$beam$')\n",
    "ax1.plot(coordinates_pt[:,:,0], coordinates_pt[:,:,1], color='red', lw=2, label = r'$crack$')\n",
    "ax1.set_xlabel(r'$H$'); ax1.set_ylabel(r'$V$')\n",
    "ax1.legend()\n",
    "#_.savefig(\"crackplotnew1.pdf\", bbox_inches='tight')"
   ]
  },
  {
   "cell_type": "code",
   "execution_count": null,
   "metadata": {},
   "outputs": [],
   "source": [
    "_, (ax1) = plt.subplots(1, 1, figsize=(7,3))\n",
    "ax1.plot(x_Ca[:,0], x_Ca[:,1], color='black', lw=2, label = r'$beam$')\n",
    "ax1.plot(coordinates_pt[:,:,0], coordinates_pt[:,:,1], color='red', lw=2, label = r'$pure\\,tension$')\n",
    "ax1.plot(coordinates_ts[:,:,0], coordinates_ts[:,:,1], color='orange', lw=2, label = r'$tension\\,shear$')\n",
    "ax1.plot(coordinates_ps[:,:,0], coordinates_ps[:,:,1], color='green', lw=2, label = r'$pure\\,shear$')\n",
    "ax1.set_xlabel(r'$H$'); ax1.set_ylabel(r'$V$')\n",
    "ax1.legend()\n",
    "_.savefig(\"crackplotangleforthreecaseswhenbeta0.pdf\", bbox_inches='tight')"
   ]
  },
  {
   "cell_type": "code",
   "execution_count": null,
   "metadata": {},
   "outputs": [],
   "source": [
    "_, (ax1) = plt.subplots(1, 1, figsize=(7,3))\n",
    "ax1.plot(x_Ca[:,0], x_Ca[:,1], color='black', lw=2, label = r'$beam$')\n",
    "ax1.plot(coordinates_pt[:,:,0], coordinates_pt[:,:,1], color='red', lw=2, label = r'$pure\\,tension$')\n",
    "ax1.plot(coordinates_ts[:,:,0], coordinates_ts[:,:,1], color='orange', lw=2, label = r'$tension\\,shear$')\n",
    "ax1.plot(coordinates_ps[:,:,0], coordinates_ps[:,:,1], color='green', lw=2, label = r'$pure\\,shear$')\n",
    "ax1.set_xlabel(r'$H$'); ax1.set_ylabel(r'$V$')\n",
    "ax1.legend()\n",
    "#_.savefig(\"crackplotnew1.pdf\", bbox_inches='tight')"
   ]
  },
  {
   "cell_type": "code",
   "execution_count": null,
   "metadata": {},
   "outputs": [],
   "source": [
    "#sigma_rr = sigma_tip_ij_[0,0].subs(c_b, sp.cos(beta)).subs(s_b, sp.sin(beta)).subs(c_t, sp.cos(theta))\n",
    "#sigma_rr "
   ]
  },
  {
   "cell_type": "code",
   "execution_count": null,
   "metadata": {},
   "outputs": [],
   "source": [
    "#p = {eta:0, a:1}\n",
    "#sigma_rr_p = sigma_rr.subs(p)\n",
    "#sigma_rr_p"
   ]
  },
  {
   "cell_type": "code",
   "execution_count": null,
   "metadata": {},
   "outputs": [],
   "source": [
    "#get_sigma_rr = sp.lambdify((sigma_x, r, theta, beta), sigma_rr_p, 'numpy')\n",
    "#get_sigma_rr"
   ]
  },
  {
   "cell_type": "code",
   "execution_count": null,
   "metadata": {},
   "outputs": [],
   "source": [
    "#_, (ax1) = plt.subplots(1, 1, figsize=(7,3))\n",
    "#beta_0 = np.linspace(0 * np.pi/180, 90 * np.pi/180, 3)\n",
    "#theta_ = (0, 50.83 * np.pi/180, 70.5 * np.pi/180)\n",
    "#r_ = np.linspace(0, 4, 10)\n",
    "#sigma_x_ = 1\n",
    "#sig_rr = get_sigma_rr(sigma_x_,r_, theta_[0], beta_0[0])\n",
    "#sig_rr_1 = get_sigma_rr(sigma_x_,r_, theta_[1], beta_0[1])\n",
    "#sig_rr_2 = get_sigma_rr(sigma_x_,r_, theta_[2], beta_0[2])\n",
    "#ax1.plot(r_, sig_rr, color='blue', lw=2, label = r'$\\eta = 0.5, \\sigma_X = 1$')\n",
    "#ax1.plot(r_, sig_rr_1, color='red', lw=2, label = r'$\\eta = 0.5, \\sigma_X = 1$')\n",
    "#ax1.plot(r_, sig_rr_2, color='green', lw=2, label = r'$\\eta = 0.5, \\sigma_X = 1$')\n",
    "#ax1.set_xlabel(r'$\\beta$'); ax1.set_ylabel(r'$\\sigma_{\\theta \\theta}$')\n",
    "#ax1.legend()"
   ]
  },
  {
   "cell_type": "code",
   "execution_count": null,
   "metadata": {},
   "outputs": [],
   "source": [
    "#import matplotlib.pyplot as plt\n",
    "#from mpl_toolkits.mplot3d import Axes3D\n",
    "#fig = plt.figure()\n",
    "#ax = fig.add_subplot(111, projection='3d')\n",
    "#beta_0 = np.linspace(0 * np.pi/180, 90 * np.pi/180, 3)\n",
    "#theta_ = get_theta_sig_xy0(beta_0[0])\n",
    "#r_ = np.linspace(0, 4, 3)\n",
    "#sig_rr = get_sigma_rr(sigma_x_,r_, theta_, beta_0[0])\n",
    "#sig_rr_ = get_sigma_rr(sigma_x_,r_, theta_, beta_0[1])\n",
    "#sig_rr_1 = get_sigma_rr(sigma_x_,r_, theta_, beta_0[2])\n",
    "#ax.plot3D(r_, beta_0*180/np.pi, sig_rr)\n",
    "#ax.plot3D(r_, beta_0*180/np.pi, sig_rr_)\n",
    "#ax.plot3D(r_, beta_0*180/np.pi, sig_rr_1)"
   ]
  },
  {
   "cell_type": "markdown",
   "metadata": {},
   "source": [
    "## Mixity Parameter"
   ]
  },
  {
   "cell_type": "markdown",
   "metadata": {},
   "source": [
    "Mode mixity is given as: \n",
    "\\begin{gather*}\n",
    "    M_e = \\left|\\frac{2}{\\pi} \\arctan \\left(\\frac{K_I}{K_{II}} \\right)\\right|\n",
    "\\end{gather*}\n",
    "where $M_e = 0$ depicts the pure mode II failure and $M_e = 1$ highlights a pure mode I failure."
   ]
  },
  {
   "cell_type": "code",
   "execution_count": null,
   "metadata": {},
   "outputs": [],
   "source": [
    "beta = sp.Symbol(r'\\beta', nonnegative = True)\n",
    "eta = sp.Symbol(r'\\eta', Znonnegative = True)"
   ]
  },
  {
   "cell_type": "code",
   "execution_count": null,
   "metadata": {},
   "outputs": [],
   "source": [
    "sigma_ij = sp.Matrix([[(1 - eta) * sigma_x, eta * sigma_x], #eta * sigma_x\n",
    "                      [eta * sigma_x, 0]])\n",
    "sigma_ij"
   ]
  },
  {
   "cell_type": "code",
   "execution_count": null,
   "metadata": {},
   "outputs": [],
   "source": [
    "R_beta = sp.Matrix([[c_b, -s_b],\n",
    "                    [s_b, c_b]])\n",
    "R_beta"
   ]
  },
  {
   "cell_type": "code",
   "execution_count": null,
   "metadata": {},
   "outputs": [],
   "source": [
    "sigma_beta_ij = R_beta.T * sigma_ij * R_beta\n",
    "sigma_beta_ij"
   ]
  },
  {
   "cell_type": "code",
   "execution_count": null,
   "metadata": {},
   "outputs": [],
   "source": [
    "sigma_beta_ij_sim_ = sp.simplify(sigma_beta_ij)\n",
    "sigma_beta_ij_sim_"
   ]
  },
  {
   "cell_type": "code",
   "execution_count": null,
   "metadata": {},
   "outputs": [],
   "source": [
    "K_I = sp.sqrt(sp.pi * a) * sigma_beta_ij_sim_[0,0]\n",
    "K_II  = sp.sqrt(sp.pi * a) * sigma_beta_ij_sim_[1,0]\n",
    "K_I, K_II"
   ]
  },
  {
   "cell_type": "code",
   "execution_count": null,
   "metadata": {},
   "outputs": [],
   "source": [
    "M_e = (2 / sp.pi) * sp.atan(K_I/K_II)\n",
    "M_e_ = sp.Abs(M_e.subs(s_b, sp.sin(beta)).subs(c_b, sp.cos(beta)))\n",
    "M_e_"
   ]
  },
  {
   "cell_type": "code",
   "execution_count": null,
   "metadata": {},
   "outputs": [],
   "source": [
    "get_M_e = sp.lambdify((eta, beta), M_e_, 'numpy')\n",
    "get_M_e"
   ]
  },
  {
   "cell_type": "code",
   "execution_count": null,
   "metadata": {},
   "outputs": [],
   "source": [
    "theta_pure_tension = cos_theta_sigma_tension[2].subs(c_b, sp.cos(beta)).subs(s_b, sp.sin(beta))\n",
    "theta_pt = sp.acos(theta_pure_tension)\n",
    "get_theta_sig_pt = sp.lambdify((beta), theta_pt, 'numpy')\n",
    "get_theta_sig_pt"
   ]
  },
  {
   "cell_type": "code",
   "execution_count": null,
   "metadata": {},
   "outputs": [],
   "source": [
    "theta_pure_shear = cos_theta_sigma_pure_shear[2].subs(c_b, sp.cos(beta)).subs(s_b, sp.sin(beta))\n",
    "theta_sig_ps = sp.acos(theta_pure_shear)\n",
    "get_theta_sig_ps = sp.lambdify((beta), theta_sig_ps, 'numpy')\n",
    "get_theta_sig_ps"
   ]
  },
  {
   "cell_type": "code",
   "execution_count": null,
   "metadata": {},
   "outputs": [],
   "source": [
    "theta_sig_tension_shear = cos_theta_sigma_tension_shear[2].subs(c_b, sp.cos(beta)).subs(s_b, sp.sin(beta))\n",
    "theta_sig_ts = sp.acos(theta_sig_tension_shear)\n",
    "get_theta_sig_ts = sp.lambdify((beta), theta_sig_ts, 'numpy')\n",
    "get_theta_sig_ts"
   ]
  },
  {
   "cell_type": "code",
   "execution_count": null,
   "metadata": {},
   "outputs": [],
   "source": [
    "_, (ax1) = plt.subplots(1, 1, figsize=(6,4))\n",
    "eta_0 = 0\n",
    "eta_05 = 0.5\n",
    "eta_1 = 1\n",
    "beta_ = np.linspace(0, 90 * np.pi/180, 100)\n",
    "beta_ps1 = np.linspace(0, 45 * np.pi/180, 50)\n",
    "beta_ps2 = np.linspace(45 * np.pi/180, 90 * np.pi/180, 50)\n",
    "beta_ps = np.concatenate((beta_ps1, beta_ps2))\n",
    "beta_ts1 = np.linspace(0, 31.70 * np.pi/180, 20)\n",
    "beta_ts2 = np.linspace(31.70 * np.pi/180, 90 * np.pi/180, 80)\n",
    "beta_ts = np.concatenate((beta_ts1, beta_ts2))\n",
    "theta_sig_pt = get_theta_sig_pt(beta_)\n",
    "theta_sig_ps1 = get_theta_sig_ps(beta_ps1)\n",
    "theta_sig_ps2 = -get_theta_sig_ps(beta_ps2)\n",
    "theta_sig_ps = np.concatenate((theta_sig_ps1, theta_sig_ps2))\n",
    "theta_sig_ts1 = get_theta_sig_ts(beta_ts1)\n",
    "theta_sig_ts2 = -get_theta_sig_ts(beta_ts2)\n",
    "theta_sig_ts = np.concatenate((theta_sig_ts1, theta_sig_ts2))\n",
    "M_e_pt = get_M_e(eta_0, beta_)\n",
    "M_e_ts = get_M_e(eta_05, beta_ts)\n",
    "M_e_ps = get_M_e(eta_1, beta_ps)\n",
    "#ax1.plot(M_e_pt, theta_sig_pt * 180/ np.pi, color='blue', lw=2, label = r'$Pure\\,Tension$')\n",
    "#ax1.plot(M_e_ts, theta_sig_ts * 180/ np.pi, color='red', lw=2, label = r'$Tension\\,Shear$')\n",
    "ax1.plot(M_e_ps, theta_sig_ps * 180/ np.pi, color='green', lw=2, label = r'$Pure\\,Shear$')\n",
    "ax1.set_xlabel(r'$M^e$'); ax1.set_ylabel(r'$\\theta$')\n",
    "ax1.legend()\n",
    "_.savefig(\"thetaMeps.pdf\", bbox_inches='tight')"
   ]
  },
  {
   "cell_type": "code",
   "execution_count": null,
   "metadata": {},
   "outputs": [],
   "source": [
    "theta_sig_ts * 180/ np.pi"
   ]
  },
  {
   "cell_type": "markdown",
   "metadata": {},
   "source": [
    "## Normalized Parameters"
   ]
  },
  {
   "cell_type": "markdown",
   "metadata": {},
   "source": [
    "The critical mode I stress intensity factor is given as:\n",
    "\\begin{gather*}\n",
    "    K_{Ic} = \\sigma_X \\sqrt{\\pi a}\n",
    "\\end{gather*}\n",
    "Now, the stress intensity factors will be normalized with respect to the $K_{Ic}$ to visualize the failure locus."
   ]
  },
  {
   "cell_type": "code",
   "execution_count": null,
   "metadata": {},
   "outputs": [],
   "source": [
    "K_Ic = sigma_x * sp.sqrt( sp.pi * a)\n",
    "K_Ic"
   ]
  },
  {
   "cell_type": "code",
   "execution_count": null,
   "metadata": {},
   "outputs": [],
   "source": [
    "beta = sp.Symbol(r'\\beta', nonnegative = True)\n",
    "eta = sp.Symbol(r'\\eta', nonnegative = True)"
   ]
  },
  {
   "cell_type": "code",
   "execution_count": null,
   "metadata": {},
   "outputs": [],
   "source": [
    "sigma_ij = sp.Matrix([[(1 - eta) * sigma_x, eta * sigma_x],\n",
    "                    [ eta * sigma_x, 0]])\n",
    "sigma_ij"
   ]
  },
  {
   "cell_type": "code",
   "execution_count": null,
   "metadata": {},
   "outputs": [],
   "source": [
    "R_beta = sp.Matrix([[c_b, -s_b],\n",
    "                    [s_b, c_b]])\n",
    "R_beta"
   ]
  },
  {
   "cell_type": "code",
   "execution_count": null,
   "metadata": {},
   "outputs": [],
   "source": [
    "sigma_beta_ij = R_beta.T * sigma_ij * R_beta\n",
    "sigma_beta_ij"
   ]
  },
  {
   "cell_type": "code",
   "execution_count": null,
   "metadata": {},
   "outputs": [],
   "source": [
    "sigma_beta_ij_sim_ = sp.simplify(sigma_beta_ij)\n",
    "sigma_beta_ij_sim_"
   ]
  },
  {
   "cell_type": "code",
   "execution_count": null,
   "metadata": {},
   "outputs": [],
   "source": [
    "K_I = sp.sqrt(sp.pi * a) * sigma_beta_ij_sim_[0,0]\n",
    "K_II  = sp.sqrt(sp.pi * a) * sigma_beta_ij_sim_[1,0]\n",
    "K_I, K_II"
   ]
  },
  {
   "cell_type": "code",
   "execution_count": null,
   "metadata": {},
   "outputs": [],
   "source": [
    "Norm_K_I = K_I / K_Ic\n",
    "Norm_K_I_ = Norm_K_I.subs(s_b, sp.sin(beta)).subs(c_b, sp.cos(beta))\n",
    "Norm_K_I_"
   ]
  },
  {
   "cell_type": "code",
   "execution_count": null,
   "metadata": {},
   "outputs": [],
   "source": [
    "get_Norm_K_I = sp.lambdify((eta, beta), Norm_K_I_, 'numpy')\n",
    "get_Norm_K_I"
   ]
  },
  {
   "cell_type": "code",
   "execution_count": null,
   "metadata": {},
   "outputs": [],
   "source": [
    "Norm_K_II = K_II / K_Ic\n",
    "Norm_K_II_ = (Norm_K_II.subs(s_b, sp.sin(beta)).subs(c_b, sp.cos(beta)))\n",
    "Norm_K_II_"
   ]
  },
  {
   "cell_type": "code",
   "execution_count": null,
   "metadata": {},
   "outputs": [],
   "source": [
    "get_Norm_K_II = sp.lambdify((eta, beta), Norm_K_II_, 'numpy')\n",
    "get_Norm_K_II"
   ]
  },
  {
   "cell_type": "code",
   "execution_count": null,
   "metadata": {},
   "outputs": [],
   "source": [
    "_, (ax1) = plt.subplots(1, 1, figsize=(6,4))\n",
    "eta_0 = 0\n",
    "eta_05 = 0.5\n",
    "eta_1 = 1\n",
    "beta_ = np.linspace(-90 * np.pi/180, 90 * np.pi/180, 100)\n",
    "K_I_K_Ic = get_Norm_K_I(eta_0, beta_)\n",
    "K_II_K_Ic = get_Norm_K_II(eta_0, beta_)\n",
    "K_I_K_Ic_ts = get_Norm_K_I(eta_05, beta_)\n",
    "K_II_K_Ic_ts = get_Norm_K_II(eta_05, beta_)\n",
    "K_I_K_Ic_ps = get_Norm_K_I(eta_1, beta_)\n",
    "K_II_K_Ic_ps = get_Norm_K_II(eta_1, beta_)\n",
    "ax1.plot(K_I_K_Ic, K_II_K_Ic, color='blue', lw=2, label = r'$Pure\\,Tension$')\n",
    "ax1.plot(K_I_K_Ic_ts, K_II_K_Ic_ts, color='red', lw=2, label = r'$Tension\\,Shear$')\n",
    "ax1.plot(K_I_K_Ic_ps, K_II_K_Ic_ps, color='green', lw=2, label = r'$Pure\\,Shear$')\n",
    "ax1.set_xlabel(r'$K_{If}/K_{Ic}$'); ax1.set_ylabel(r'$K_{IIf}/K_{Ic}$')\n",
    "ax1.legend()\n",
    "_.savefig(\"Failurelocus.pdf\", bbox_inches='tight')"
   ]
  },
  {
   "cell_type": "markdown",
   "metadata": {},
   "source": [
    "## Variation Of SIFs against $\\beta$"
   ]
  },
  {
   "cell_type": "code",
   "execution_count": null,
   "metadata": {},
   "outputs": [],
   "source": [
    "params = {sigma_x : 1, a : 1}\n",
    "K_I_ = K_I.subs(params).subs(s_b, sp.sin(beta)).subs(c_b, sp.cos(beta))\n",
    "K_I_"
   ]
  },
  {
   "cell_type": "code",
   "execution_count": null,
   "metadata": {},
   "outputs": [],
   "source": [
    "K_II_ = (K_II.subs(params).subs(s_b, sp.sin(beta)).subs(c_b, sp.cos(beta)))\n",
    "K_II_"
   ]
  },
  {
   "cell_type": "code",
   "execution_count": null,
   "metadata": {},
   "outputs": [],
   "source": [
    "get_K_I = sp.lambdify((eta, beta), K_I_, 'numpy')\n",
    "get_K_I"
   ]
  },
  {
   "cell_type": "code",
   "execution_count": null,
   "metadata": {},
   "outputs": [],
   "source": [
    "get_K_II = sp.lambdify((eta, beta), K_II_, 'numpy')\n",
    "get_K_II"
   ]
  },
  {
   "cell_type": "code",
   "execution_count": null,
   "metadata": {},
   "outputs": [],
   "source": [
    "_, (ax1) = plt.subplots(1, 1, figsize=(6,4))\n",
    "eta_0 = 0\n",
    "eta_05 = 0.5\n",
    "eta_1 = 1\n",
    "beta_ = np.linspace(0, 90 * np.pi/180, 100)\n",
    "K_I_pt = get_K_I(eta_0, beta_)\n",
    "K_I_ts = get_K_I(eta_05, beta_)\n",
    "K_I_ps = get_K_I(eta_1, beta_)\n",
    "ax1.plot(beta_ * 180/np.pi, K_I_pt, color='blue', lw=2, label = r'$Pure\\,Tension$')\n",
    "ax1.plot(beta_ * 180/np.pi, K_I_ts, color='red', lw=2, label = r'$Tension\\,Shear$')\n",
    "ax1.plot(beta_ * 180/np.pi, K_I_ps, color='green', lw=2, label = r'$Pure\\,Shear$')\n",
    "ax1.set_xlabel(r'$\\beta$'); ax1.set_ylabel(r'$K_{I}$')\n",
    "ax1.legend()\n",
    "_.savefig(\"KIbeta.pdf\", bbox_inches='tight')"
   ]
  },
  {
   "cell_type": "code",
   "execution_count": null,
   "metadata": {},
   "outputs": [],
   "source": [
    "_, (ax1) = plt.subplots(1, 1, figsize=(6,4))\n",
    "eta_0 = 0\n",
    "eta_05 = 0.5\n",
    "eta_1 = 1\n",
    "beta_ = np.linspace(0, 90 * np.pi/180, 100)\n",
    "K_II_pt = get_K_II(eta_0, beta_)\n",
    "K_II_ts = get_K_II(eta_05, beta_)\n",
    "K_II_ps = get_K_II(eta_1, beta_)\n",
    "ax1.plot(beta_ * 180/np.pi, K_II_pt, color='blue', lw=2, label = r'$Pure\\,Tension$')\n",
    "ax1.plot(beta_ * 180/np.pi, K_II_ts, color='red', lw=2, label = r'$Tension\\,Shear$')\n",
    "ax1.plot(beta_ * 180/np.pi, K_II_ps, color='green', lw=2, label = r'$Pure\\,Shear$')\n",
    "ax1.set_xlabel(r'$\\beta$'); ax1.set_ylabel(r'$K_{II}$')\n",
    "ax1.legend()\n",
    "_.savefig(\"KIIbeta.pdf\", bbox_inches='tight')"
   ]
  },
  {
   "cell_type": "code",
   "execution_count": null,
   "metadata": {},
   "outputs": [],
   "source": [
    "sigma_tip_ii = sig_tip_theta_ij_[0,0].subs(s_b, sp.sin(beta)).subs(c_b, sp.cos(beta)).subs(c_t, sp.cos(theta)).subs(s_t, sp.sin(theta))\n",
    "sigma_tip_ii"
   ]
  },
  {
   "cell_type": "code",
   "execution_count": null,
   "metadata": {},
   "outputs": [],
   "source": [
    "sigma_tip_jj = sig_tip_theta_ij_[1,1].subs(s_b, sp.sin(beta)).subs(c_b, sp.cos(beta)).subs(c_t, sp.cos(theta)).subs(s_t, sp.sin(theta))\n",
    "sigma_tip_jj"
   ]
  },
  {
   "cell_type": "code",
   "execution_count": null,
   "metadata": {},
   "outputs": [],
   "source": [
    "params_ = {sigma_x : 1, r : 1}\n",
    "sig_tip_ii = sigma_tip_ii.subs(params_)\n",
    "sig_tip_jj = sigma_tip_jj.subs(params_)\n",
    "sig_tip_jj"
   ]
  },
  {
   "cell_type": "code",
   "execution_count": null,
   "metadata": {},
   "outputs": [],
   "source": [
    "get_sig_ii = sp.lambdify((a, eta, beta, theta), sig_tip_ii, 'numpy')\n",
    "get_sig_ii"
   ]
  },
  {
   "cell_type": "code",
   "execution_count": null,
   "metadata": {},
   "outputs": [],
   "source": [
    "get_sig_jj = sp.lambdify((a, eta, beta, theta),sig_tip_jj, 'numpy')\n",
    "get_sig_jj"
   ]
  },
  {
   "cell_type": "code",
   "execution_count": null,
   "metadata": {},
   "outputs": [],
   "source": [
    "_, (ax1) = plt.subplots(1, 1, figsize=(6,4))\n",
    "a_ = 1\n",
    "eta_pt = 0\n",
    "eta_ts = 0.5\n",
    "eta_ps = 1\n",
    "beta_0_ts = np.linspace(0 * np.pi/180, 31.70 * np.pi/180, 20)\n",
    "beta_1_ts = np.linspace(31.70 * np.pi/180, 90 * np.pi/180, 80)\n",
    "beta_ts = np.concatenate((beta_0_ts, beta_1_ts))\n",
    "#for beta_ in range(beta_ts):\n",
    "theta_sig_pt_r = get_theta_sig_pt(beta_ts)\n",
    "beta_0_ps = np.linspace(0 * np.pi/180, 45 * np.pi/180, 50)\n",
    "beta_1_ps = np.linspace(45 * np.pi/180, 90 * np.pi/180, 50)\n",
    "beta_ps = np.concatenate((beta_0_ps, beta_1_ps))\n",
    "theta_sig_ps_1 = get_theta_sig_ps(beta_0_ps)\n",
    "theta_sig_ps_2 = -get_theta_sig_ps(beta_1_ps)\n",
    "#if beta_ps.any() == 45 * np.pi/180:\n",
    "#theta_ps_0 = 0\n",
    "theta_sig_ps_fin = np.concatenate((theta_sig_ps_1, theta_sig_ps_2)) #, theta_ps_0\n",
    "theta_ts_1 = get_theta_sig_ts(beta_0_ts)\n",
    "theta_ts_2 = -get_theta_sig_ts(beta_1_ts)\n",
    "theta_sig_ts_fin = np.concatenate((theta_ts_1, theta_ts_2))\n",
    "sig_ii_pt = get_sig_ii(a_, eta_pt, beta_ts, theta_sig_pt_r)\n",
    "sig_ii_ts = get_sig_ii(a_, eta_ts, beta_ts, theta_sig_ts_fin)\n",
    "sig_ii_ps = get_sig_ii(a_, eta_ps, beta_ps, theta_sig_ps_fin)\n",
    "sig_jj_pt = get_sig_jj(a_, eta_pt, beta_ts, theta_sig_pt_r)\n",
    "sig_jj_ts = get_sig_jj(a_, eta_ts, beta_ts, theta_sig_ts_fin)\n",
    "sig_jj_ps = get_sig_jj(a_, eta_ps, beta_ps, theta_sig_ps_fin)\n",
    "ax1.plot(beta_ts * 180/np.pi, sig_ii_pt, color='blue', lw=2, label = r'$\\sigma_{\\rho \\rho}$')\n",
    "ax1.plot(beta_ts * 180/np.pi, sig_ii_ts, color='red', lw=2, label = r'$\\sigma_{\\rho \\rho}$')\n",
    "ax1.plot(beta_ps * 180/np.pi, sig_ii_ps, color='green', lw=2, label = r'$\\sigma_{\\rho \\rho}$')\n",
    "ax1.set_xlabel(r'$\\beta$'); ax1.set_ylabel(r'$\\sigma$')\n",
    "ax1.legend()\n",
    "#_.savefig(\"KIIbeta.pdf\", bbox_inches='tight')\n",
    "#sig_jj_pt"
   ]
  },
  {
   "cell_type": "code",
   "execution_count": null,
   "metadata": {},
   "outputs": [],
   "source": [
    "_, (ax1) = plt.subplots(1, 1, figsize=(6,4))\n",
    "ax1.plot(beta_ts * 180/np.pi, sig_jj_pt, color='blue', lw=2, label = r'$\\sigma_{\\theta \\theta}$')\n",
    "ax1.plot(beta_ts * 180/np.pi, sig_jj_ts, color='red', lw=2, label = r'$\\sigma_{\\theta \\theta}$')\n",
    "ax1.plot(beta_ps * 180/np.pi, sig_jj_ps, color='green', lw=2, label = r'$\\sigma_{\\theta \\theta}$')\n",
    "ax1.set_xlabel(r'$\\beta$'); ax1.set_ylabel(r'$\\sigma$')\n",
    "ax1.legend()"
   ]
  },
  {
   "cell_type": "code",
   "execution_count": null,
   "metadata": {},
   "outputs": [],
   "source": [
    "_, (ax1) = plt.subplots(1, 1, figsize=(6,4))\n",
    "a_ = np.linspace(0,1,10)\n",
    "eta_pt = 0\n",
    "eta_ts = 0.5\n",
    "eta_ps = 1\n",
    "#beta_0_ts = np.linspace(0 * np.pi/180, 31.70 * np.pi/180, 20)\n",
    "#beta_1_ts = np.linspace(31.70 * np.pi/180, 90 * np.pi/180, 80)\n",
    "#beta_ts = np.concatenate((beta_0_ts, beta_1_ts))\n",
    "#for beta_ in range(beta_ts):\n",
    "beta_ts = 0\n",
    "theta_sig_pt_r = get_theta_sig_pt(beta_ts)\n",
    "#beta_0_ps = np.linspace(0 * np.pi/180, 45 * np.pi/180, 50)\n",
    "#beta_1_ps = np.linspace(45 * np.pi/180, 90 * np.pi/180, 50)\n",
    "#beta_ps = np.concatenate((beta_0_ps, beta_1_ps))\n",
    "beta_ps = 0\n",
    "theta_sig_ps_1 = get_theta_sig_ps(beta_ps)\n",
    "#theta_sig_ps_2 = -get_theta_sig_ps(beta_1_ps)\n",
    "#if beta_ps.any() == 45 * np.pi/180:\n",
    "#theta_ps_0 = 0\n",
    "#theta_sig_ps_fin = np.concatenate((theta_sig_ps_1, theta_sig_ps_2)) #, theta_ps_0\n",
    "theta_ts_1 = get_theta_sig_ts(beta_ts)\n",
    "#theta_ts_2 = -get_theta_sig_ts(beta_1_ts)\n",
    "#theta_sig_ts_fin = np.concatenate((theta_ts_1, theta_ts_2))\n",
    "sig_ii_pt = get_sig_ii(a_, eta_pt, beta_ts, theta_sig_pt_r)\n",
    "sig_ii_ts = get_sig_ii(a_, eta_pt, beta_ts, theta_ts_1)\n",
    "sig_ii_ps = get_sig_ii(a_, eta_pt, beta_ps, theta_sig_ps_1)\n",
    "sig_jj_pt = get_sig_jj(a_, eta_pt, beta_ts, theta_sig_pt_r)\n",
    "sig_jj_ts = get_sig_jj(a_, eta_pt, beta_ts,  theta_ts_1)\n",
    "sig_jj_ps = get_sig_jj(a_, eta_pt, beta_ps, theta_sig_ps_1)\n",
    "ax1.plot(a_ , sig_ii_pt, color='blue', lw=2, label = r'$\\sigma_{\\rho \\rho}$')\n",
    "ax1.plot(a_ , sig_ii_ts, color='red', lw=2, label = r'$\\sigma_{\\rho \\rho}$')\n",
    "ax1.plot(a_ , sig_ii_ps, color='green', lw=2, label = r'$\\sigma_{\\rho \\rho}$')\n",
    "ax1.set_xlabel(r'$a$'); ax1.set_ylabel(r'$\\sigma$')\n",
    "ax1.legend()\n",
    "#_.savefig(\"KIIbeta.pdf\", bbox_inches='tight')\n",
    "#sig_jj_pt"
   ]
  },
  {
   "cell_type": "code",
   "execution_count": null,
   "metadata": {},
   "outputs": [],
   "source": [
    "_, (ax1) = plt.subplots(1, 1, figsize=(6,4))\n",
    "ax1.plot(a_ , sig_jj_pt, color='blue', lw=2, label = r'$\\sigma_{\\theta \\theta}$')\n",
    "ax1.plot(a_ , sig_jj_ts, color='red', lw=2, label = r'$\\sigma_{\\theta \\theta}$')\n",
    "ax1.plot(a_ , sig_jj_ps, color='green', lw=2, label = r'$\\sigma_{\\theta \\theta}$')\n",
    "ax1.set_xlabel(r'$a$'); ax1.set_ylabel(r'$\\sigma$')\n",
    "ax1.legend()"
   ]
  },
  {
   "cell_type": "code",
   "execution_count": null,
   "metadata": {},
   "outputs": [],
   "source": [
    "_, (ax1) = plt.subplots(1, 1, figsize=(6,4))\n",
    "a_ = 1\n",
    "eta_pt = 0\n",
    "eta_ts = 0.5\n",
    "eta_ps = 1\n",
    "beta_0_ts = np.linspace(0 * np.pi/180, 31.70 * np.pi/180, 20)\n",
    "beta_1_ts = np.linspace(31.70 * np.pi/180, 90 * np.pi/180, 80)\n",
    "beta_ts = np.concatenate((beta_0_ts, beta_1_ts))\n",
    "#for beta_ in range(beta_ts):\n",
    "theta_sig_pt_r = get_theta_sig_pt(beta_ts)\n",
    "beta_0_ps = np.linspace(0 * np.pi/180, 45 * np.pi/180, 50)\n",
    "beta_1_ps = np.linspace(45 * np.pi/180, 90 * np.pi/180, 50)\n",
    "beta_ps = np.concatenate((beta_0_ps, beta_1_ps))\n",
    "theta_sig_ps_1 = get_theta_sig_ps(beta_0_ps)\n",
    "theta_sig_ps_2 = -get_theta_sig_ps(beta_1_ps)\n",
    "#if beta_ps.any() == 45 * np.pi/180:\n",
    "#theta_ps_0 = 0\n",
    "theta_sig_ps_fin = np.concatenate((theta_sig_ps_1, theta_sig_ps_2)) #, theta_ps_0\n",
    "theta_ts_1 = get_theta_sig_ts(beta_0_ts)\n",
    "theta_ts_2 = -get_theta_sig_ts(beta_1_ts)\n",
    "theta_sig_ts_fin = np.concatenate((theta_ts_1, theta_ts_2))\n",
    "sig_ii_pt = get_sig_ii(a_, eta_pt, beta_ts, theta_sig_pt_r)\n",
    "sig_ii_ts = get_sig_ii(a_, eta_ts, beta_ts, theta_sig_ts_fin)\n",
    "sig_ii_ps = get_sig_ii(a_, eta_ps, beta_ps, theta_sig_ps_fin)\n",
    "sig_jj_pt = get_sig_jj(a_, eta_pt, beta_ts, theta_sig_pt_r)\n",
    "sig_jj_ts = get_sig_jj(a_, eta_ts, beta_ts, theta_sig_ts_fin)\n",
    "sig_jj_ps = get_sig_jj(a_, eta_ps, beta_ps, theta_sig_ps_fin)\n",
    "ax1.plot(theta_sig_pt_r * 180/np.pi, sig_ii_pt, color='blue', lw=2, label = r'$\\sigma_{\\rho \\rho}$')\n",
    "ax1.plot(theta_sig_ts_fin * 180/np.pi, sig_ii_ts, color='red', lw=2, label = r'$\\sigma_{\\rho \\rho}$')\n",
    "ax1.plot(theta_sig_ps_fin * 180/np.pi, sig_ii_ps, color='green', lw=2, label = r'$\\sigma_{\\rho \\rho}$')\n",
    "ax1.set_xlabel(r'$\\theta$'); ax1.set_ylabel(r'$\\sigma$')\n",
    "ax1.legend()\n",
    "#_.savefig(\"KIIbeta.pdf\", bbox_inches='tight')\n",
    "#sig_jj_pt"
   ]
  },
  {
   "cell_type": "code",
   "execution_count": null,
   "metadata": {},
   "outputs": [],
   "source": [
    "_, (ax1) = plt.subplots(1, 1, figsize=(6,4))\n",
    "ax1.plot(theta_sig_pt_r * 180/np.pi, sig_jj_pt, color='blue', lw=2, label = r'$\\sigma_{\\theta \\theta}$')\n",
    "ax1.plot(theta_sig_ts_fin * 180/np.pi, sig_jj_ts, color='red', lw=2, label = r'$\\sigma_{\\theta \\theta}$')\n",
    "ax1.plot(theta_sig_ps_fin * 180/np.pi, sig_jj_ps, color='green', lw=2, label = r'$\\sigma_{\\theta \\theta}$')\n",
    "ax1.set_xlabel(r'$\\theta$'); ax1.set_ylabel(r'$\\sigma$')\n",
    "ax1.legend()"
   ]
  },
  {
   "cell_type": "markdown",
   "metadata": {},
   "source": [
    "## R-Curve\n",
    "The fracture of quasi-brittle materials can be depicted by an R-curve which is also termed as fracture resistance. R-Curve is an envelope of energy release rate. For quasi-brittle materials, R is an increasing and convex function. This curve may be dependent on specimen geometry and material. \n",
    "A figure shown below highlights that the convex envelope of R-curve serves as the limit for crack gorwth, beyond which the unstable crack grows.\n"
   ]
  },
  {
   "cell_type": "markdown",
   "metadata": {},
   "source": [
    "<img src=\"Rcurve.png\" width=\"500\"/>"
   ]
  },
  {
   "cell_type": "markdown",
   "metadata": {},
   "source": [
    "For an infinite size specimen, the energy release rate is given by:\n",
    "\\begin{gather*}\n",
    "G = \\frac{\\sigma^2 \\pi a f_1^2}{E}\n",
    "\\end{gather*}\n",
    "where, $\\sigma = \\frac{Ps}{b^2}$ for three point bending beam, $a$, $E$ represent the crack length and the modulus of elasticity respectively. The term $f_1$ in $\\alpha$ equation is a geometry factor for the stress intensity factor and its value is equal to 1.123 for three point beam."
   ]
  },
  {
   "cell_type": "code",
   "execution_count": null,
   "metadata": {},
   "outputs": [],
   "source": [
    "f_1 = sp.Symbol('f_1', nonnegative = True)\n",
    "f_2 = sp.Symbol('f_2', nonnegative = True)\n",
    "E = sp.Symbol('E', nonnegative = True)\n",
    "alpha = sp.Symbol('alpha', nonnegative = True)\n",
    "a_0 = sp.Symbol('a_0', nonnegative = True)\n",
    "a_c = sp.Symbol('a_c', nonnegative = True)\n",
    "pi = sp.Symbol(r'\\pi', nonnegative = True)\n",
    "D = sp.Symbol('D', nonnegative = True)\n",
    "H_0 = sp.Symbol('H_0', nonnegative = True)\n",
    "B = sp.Symbol('B', nonnegative = True)\n",
    "P_max = sp.Symbol('P_max', nonnegative = True)\n",
    "P = sp.Symbol('P', nonnegative = True)\n",
    "S = sp.Symbol('S', nonnegative = True)\n",
    "B = sp.Symbol('B', nonnegative = True)\n",
    "a = sp.Symbol('a', nonnegative = True)\n",
    "COD = sp.Symbol('COD', nonnegative = True)\n",
    "K_Ic = sp.Symbol('K_{Ic}', nonnegative = True)"
   ]
  },
  {
   "cell_type": "code",
   "execution_count": null,
   "metadata": {},
   "outputs": [],
   "source": [
    "params = {f_2 : 1.42, \n",
    "          E: 20000, #N/mm2\n",
    "          P_max : 10, #N \n",
    "          D : 19, #mm\n",
    "          H_0 : 3, #mm\n",
    "          B : 76.2, #mm\n",
    "          S : 304.8, #mm\n",
    "          P : 120, #N\n",
    "          pi : 3.14, \n",
    "          #a_0: 10, #mm\n",
    "          f_1: 1.123,\n",
    "          #COD : 0.0094, ##mm\n",
    "          K_Ic : 31.4 #N/mm2\n",
    "         }"
   ]
  },
  {
   "cell_type": "code",
   "execution_count": null,
   "metadata": {},
   "outputs": [],
   "source": [
    "#sigma_x = (P * S) / B**2\n",
    "#sigma_x_ = sigma_x.subs(params)\n",
    "#sigma_x_"
   ]
  },
  {
   "cell_type": "code",
   "execution_count": null,
   "metadata": {},
   "outputs": [],
   "source": [
    "#G = (sigma_x_ * pi * a * f_1**2)/E\n",
    "#G"
   ]
  },
  {
   "cell_type": "code",
   "execution_count": null,
   "metadata": {},
   "outputs": [],
   "source": [
    "#G_ = G.subs(params)\n",
    "#G_"
   ]
  },
  {
   "cell_type": "code",
   "execution_count": null,
   "metadata": {},
   "outputs": [],
   "source": [
    "#get_G = sp.lambdify((a), G_, 'numpy')\n",
    "#get_G"
   ]
  },
  {
   "cell_type": "markdown",
   "metadata": {},
   "source": [
    "With reference to Shah, the Crack Mouth Opening Displacement can be calculated as follows:\n",
    "\\begin{gather*}\n",
    "CMOD = \\frac{4 \\sigma f_2}{E}\n",
    "\\end{gather*}"
   ]
  },
  {
   "cell_type": "code",
   "execution_count": null,
   "metadata": {},
   "outputs": [],
   "source": [
    "CMOD = (4 * sigma_x.subs(params) * f_2.subs(params)) / E.subs(params)\n",
    "CMOD"
   ]
  },
  {
   "cell_type": "markdown",
   "metadata": {},
   "source": [
    "For the case, when critical crack mouth opening displacement $CMOD_c$ is known from experiment, the crack opening displacement $COD$ can be obtained from the equation given by Jenq and Shah:\n",
    "\\begin{gather*}\n",
    "COD = CMOD_c\\left[\\left(1 - \\frac{a_0}{a}\\right)^2 + \\left(1.081 - 1.149 \\left(\\frac{a}{D}\\right)\\right)\\left[\\frac{a_0}{a} - \\left(\\frac{a_0}{a}\\right)^2\\right]\\right]^{1/2} \n",
    "\\end{gather*}\n",
    "In order to obtain the $COD_c$ at the tip of the crack we will replace $x$ with $a_0$. "
   ]
  },
  {
   "cell_type": "code",
   "execution_count": null,
   "metadata": {},
   "outputs": [],
   "source": [
    "COD = CMOD * sp.sqrt((alpha * a_0)**2 - a_0**2)\n",
    "COD_ = COD.subs(params)\n",
    "COD_"
   ]
  },
  {
   "cell_type": "code",
   "execution_count": null,
   "metadata": {},
   "outputs": [],
   "source": [
    "#COD = CMOD * sp.sqrt((1 - a_0/a)**2 + (1.081 - 1.149*(a/D))*(a_0/a - (a_0/a)**2))\n",
    "#COD_ = COD.subs(params)\n",
    "#a_ = alpha * a_0\n",
    "#COD_a = COD_.subs(a, a_)\n",
    "#COD_a"
   ]
  },
  {
   "cell_type": "markdown",
   "metadata": {},
   "source": [
    "In order to obtain R-Curve the following equation is to be evaluated:\n",
    "\\begin{gather*}\n",
    "R = \\beta_2 \\psi (a - a_0)^{d_{2}}\n",
    "\\end{gather*}\n",
    "The value of $\\psi$ is normally close to one, hence it can be ignored whereas to calculate factor $\\beta_2$ two critical conditions have to be considered i.e. $K_I = K_{IC}$ and $COD = CTOD_c$. Therefore, with reference to Maximum Tangential Stress Criterion $K_{IC}$ will be calculated as:\n",
    "\\begin{gather*}\n",
    "K_{Ic} = \\sigma_x \\sqrt{\\pi a}\n",
    "\\end{gather*}"
   ]
  },
  {
   "cell_type": "code",
   "execution_count": null,
   "metadata": {},
   "outputs": [],
   "source": [
    "#K_Ic = sigma_x_ * sp.sqrt( sp.pi * a)\n",
    "#K_Ic_ = K_Ic.subs(a, a_)\n",
    "#K_Ic_"
   ]
  },
  {
   "cell_type": "markdown",
   "metadata": {},
   "source": [
    "With reference to Shah, the value of $\\beta_2$ can be calculated as:\n",
    "\\begin{gather*}\n",
    "\\beta_2 = \\frac {K_{Ic}^2 (\\alpha a_0 - a_0)^{-d_2}}{E \\left(1 - \\frac{d_2 - \\frac{\\alpha - 1}{\\alpha}}{d_1 - \\frac{\\alpha - 1}{\\alpha}} \\right)}\n",
    "\\end{gather*}\n",
    "and the unknown terms $\\alpha$, $d_{1,2}$ in the above equation can be obtained from:\n",
    "\\begin{gather*}\n",
    "\\alpha = \\frac {\\pi E^2 f_1^2 CTOD_c^2}{32 a_0 K_{Ic}^2 f_2^2} + \\sqrt {\\frac {\\pi E^2 f_1^2 CTOD_c^2}{32 a_0 K_{Ic}^2 f_2^2} + 1} \\\\\n",
    "d_{1,2} = \\frac{1}{2} + \\frac{\\alpha - 1} {\\alpha} \\pm \\sqrt{\\left(\\frac{1}{4} + \\frac{\\alpha - 1} {\\alpha} - \\left(\\frac{\\alpha - 1} {\\alpha}\\right)^2\\right)}\n",
    "\\end{gather*}\n",
    "where, $f_2$ is a geometry parameter ad is equal to 1.42 for three point bend beam. $\\alpha$ is the precritical stable crack growth ($\\alpha \\geq 1$). It is equal to 1 for a pure brittle material whereas it is greater than 1 for quasi-brittle materials. "
   ]
  },
  {
   "cell_type": "code",
   "execution_count": null,
   "metadata": {},
   "outputs": [],
   "source": [
    "alpha_ = (pi * E**2 * f_1**2 * COD_**2) / (32 * a_0 * K_Ic**2 * f_2**2) \\\n",
    "        + sp.sqrt((pi * E**2 * f_1**2 * COD_**2) / (32 * a_0 * K_Ic**2 * f_2**2) + 1)\n",
    "alpha_sim = sp.simplify(alpha_.subs(params))\n",
    "#alpha_val = alpha_sim - alpha\n",
    "#alpha_diff = alpha_val.diff(alpha)\n",
    "#get_alpha_val = sp.lambdify((alpha), alpha_val, 'numpy')\n",
    "#alpha_val\n",
    "alpha_"
   ]
  },
  {
   "cell_type": "code",
   "execution_count": null,
   "metadata": {},
   "outputs": [],
   "source": [
    "alpha_0 = 1\n",
    "a_0_ = 1\n",
    "alpha_val = alpha_sim - alpha\n",
    "alpha_val.subs(a_0, a_0_)"
   ]
  },
  {
   "cell_type": "code",
   "execution_count": null,
   "metadata": {},
   "outputs": [],
   "source": [
    "import scipy.optimize as sc\n",
    "alpha_calc = sc.newton(get_alpha_val, 1) #fprime = alpha_diff)\n",
    "alpha_calc"
   ]
  },
  {
   "cell_type": "code",
   "execution_count": null,
   "metadata": {},
   "outputs": [],
   "source": [
    "#Check\n",
    "x = sp.Symbol('x')\n",
    "f = x**2 - 4\n",
    "get_f = sp.lambdify((x), f, 'numpy')\n",
    "f_calc = sc.newton(get_f,6)\n",
    "f_calc"
   ]
  },
  {
   "cell_type": "code",
   "execution_count": null,
   "metadata": {},
   "outputs": [],
   "source": [
    "d_1 = (1/2) + ((alpha_calc - 1) / alpha_calc) + sp.sqrt(1/4 + (alpha_calc - 1) / alpha_calc - ((alpha_calc - 1) / alpha_calc)**2)\n",
    "d_2 = (1/2) + ((alpha_calc - 1) / alpha_calc) - sp.sqrt(1/4 + (alpha_calc - 1) / alpha_calc - ((alpha_calc - 1) / alpha_calc)**2)\n",
    "d_2, d_1"
   ]
  },
  {
   "cell_type": "code",
   "execution_count": null,
   "metadata": {
    "slideshow": {
     "slide_type": "subslide"
    }
   },
   "outputs": [],
   "source": [
    "beta_2 = (K_Ic**2 * (alpha_calc * a_0 - a_0)**(-d_2)) / (E * (1 - (d_2 - ((alpha_calc-1)/alpha_calc))\\\n",
    "                                                            /(d_1 - ((alpha_calc-1)/alpha_calc))))\n",
    "beta_2_ = beta_2.subs(params)\n",
    "beta_2_"
   ]
  },
  {
   "cell_type": "code",
   "execution_count": null,
   "metadata": {},
   "outputs": [],
   "source": [
    "R = beta_2_ * (a - a_0)**d_2\n",
    "R_ = R.subs(params)\n",
    "sp.simplify(R_)\n",
    "R_"
   ]
  },
  {
   "cell_type": "code",
   "execution_count": null,
   "metadata": {},
   "outputs": [],
   "source": [
    "get_R = sp.lambdify((a), R_, 'numpy')\n",
    "get_R"
   ]
  },
  {
   "cell_type": "markdown",
   "metadata": {},
   "source": [
    "The value of R must not exceed its maximum value which is:\n",
    "\\begin{gather*}\n",
    "R_{Ic} = \\frac{K_{Ic}^2}{E}\n",
    "\\end{gather*}"
   ]
  },
  {
   "cell_type": "code",
   "execution_count": null,
   "metadata": {},
   "outputs": [],
   "source": [
    "R_Ic = (K_Ic)**2 / E\n",
    "#R_Ic_ =R_Ic.subs(a, a_c_).subs(params)\n",
    "R_Ic_ = R_Ic.subs(params)\n",
    "R_Ic_"
   ]
  },
  {
   "cell_type": "code",
   "execution_count": null,
   "metadata": {},
   "outputs": [],
   "source": [
    "#get_R_Ic = sp.lambdify((s_b), R_Ic_, 'numpy')\n",
    "#get_R_Ic"
   ]
  },
  {
   "cell_type": "code",
   "execution_count": null,
   "metadata": {},
   "outputs": [],
   "source": [
    "alpha = sp.Symbol(r'\\alpha', nonnegative = True)"
   ]
  },
  {
   "cell_type": "code",
   "execution_count": null,
   "metadata": {},
   "outputs": [],
   "source": [
    "import scipy.optimize as sc\n",
    "a_0_ = 12\n",
    "H_ = 100\n",
    "V_ = 60\n",
    "H_crack = 20\n",
    "V_crack = 0\n",
    "beta_ = 0.78\n",
    "alpha_0 = 1.00\n",
    "#coordinates_pt = np.zeros((1,2))\n",
    "#coordinates_pt = coordinates_pt[np.newaxis,:,:]\n",
    "#new_coord = np.array([H_crack,V_crack]).reshape(1,2)\n",
    "#new_coord = new_coord[np.newaxis,:,:]\n",
    "#coordinates_pt = np.concatenate((coordinates_pt,new_coord))\n",
    "if V_crack <= V_ or H_crack <= H_:\n",
    "    alpha_val = alpha_sim - alpha\n",
    "    alpha_subs = alpha_val.subs(a_0, a_0_)\n",
    "    get_alpha_v = sp.lambdify((alpha), alpha_subs, 'numpy')\n",
    "    alpha = sc.newton(get_alpha_v, alpha_0)\n",
    "    a_0_ = alpha * a_0_\n",
    "    print(a_0_)\n",
    "    #alpha_0 = sc.newton(get_alpha_v, alpha_0)\n",
    "    #a_0_ = alpha_calc * a_0_\n",
    "    #V_crack += (a_0 * np.cos(beta_))\n",
    "    #H_crack += (a_0 * np.sin(beta_)) \n",
    "    #print(get_alpha_val)\n",
    "#if abs(V_crack) > H_ or H_crack > 60: #or V_crack < 0:# or i>15:\n",
    "#    break"
   ]
  },
  {
   "cell_type": "code",
   "execution_count": null,
   "metadata": {},
   "outputs": [],
   "source": [
    "sigma_x = (P * S) / B**2\n",
    "sigma_x_ = sigma_x.subs(params)\n",
    "sigma_x_"
   ]
  },
  {
   "cell_type": "code",
   "execution_count": null,
   "metadata": {},
   "outputs": [],
   "source": [
    "alpha_ = (pi * E**2 * f_1**2 * COD_**2) / (32 * a_0 * K_Ic**2 * f_2**2) \\\n",
    "        + sp.sqrt((pi * E**2 * f_1**2 * COD_**2) / (32 * a_0 * K_Ic**2 * f_2**2) + 1)\n",
    "alpha_sim = sp.simplify(alpha_.subs(params))\n",
    "alpha_val = alpha_sim - alpha\n",
    "alpha_diff = alpha_val.diff(alpha)\n",
    "#alpha_val\n",
    "alpha_val"
   ]
  },
  {
   "cell_type": "code",
   "execution_count": null,
   "metadata": {},
   "outputs": [],
   "source": [
    "a_0_ = 1\n",
    "H_ = 100\n",
    "V_ = 100\n",
    "H_crack = 20\n",
    "V_crack = 0\n",
    "beta_ = 0.78\n",
    "E_ = 20000 #N/mm2\n",
    "K_Ic_ = 31.4 #N/mm2\n",
    "f_1 = 1.123\n",
    "f_2 = 1.42\n",
    "i = 0\n",
    "#alpha_ans = []\n",
    "coordinates_pt = np.zeros((1,2))\n",
    "coordinates_pt = coordinates_pt[np.newaxis,:,:]\n",
    "for i in range(10):\n",
    "    alpha_0 = 1.00\n",
    "    new_coord = np.array([H_crack,V_crack]).reshape(1,2)\n",
    "    new_coord = new_coord[np.newaxis,:,:]\n",
    "    coordinates_pt = np.concatenate((coordinates_pt,new_coord))\n",
    "    V_crack += (a_0_)\n",
    "    H_crack += (a_0_) * np.tan(beta_)\n",
    "    #alpha_val = alpha_sim - alpha\n",
    "    #alpha_diff = alpha_val.diff(alpha)\n",
    "    alpha_n = alpha_0 - (alpha_val/alpha_diff)\n",
    "    alpha_val = sp.solve(alpha_n.subs(a_0, a_0_))\n",
    "    print('alpha_val =',alpha_val)\n",
    "    if alpha_val[0] > 1:\n",
    "        alpha_0 = alpha_val[0]\n",
    "    elif alpha_val[0] < 1:\n",
    "        alpha_0 = alpha_val[1]\n",
    "    #print('alpha =',alpha_ans)\n",
    "    #COD_val = COD_.subs(alpha, alpha_0).subs(a_0, a_0_).subs(E, E_)\n",
    "    #d_1 = (1/2) + (( alpha_0 - 1) /  alpha_0) + sp.sqrt(1/4 + ( alpha_0 - 1) /  alpha_0\\\n",
    "    #                                     - (( alpha_0 - 1) /  alpha_0)**2)\n",
    "    #d_2 = (1/2) + (( alpha_0 - 1) /  alpha_0) - sp.sqrt(1/4 + ( alpha_0 - 1) /  alpha_0 \\\n",
    "    #                                     - (( alpha_0 - 1) /  alpha_0)**2)\n",
    "    #beta_2 = (K_Ic_**2 * ( alpha_0 * a_0_ - a_0_)**(-d_2)) / (E_ * (1 - (d_2 - (( alpha_0-1)/ alpha_0))\\\n",
    "    #                             /(d_1 - (( alpha_0-1)/ alpha_0))))\n",
    "    #beta_2_ = beta_2.subs(E, E_).subs(K_Ic, K_Ic_)\n",
    "    #psi = 1 - ((d_2 - ( alpha_0 - 1) /  alpha_0)/(d_1  - ( alpha_0 - 1) /  alpha_0)) * \\\n",
    "    #        ((alpha_0 * a_0_ - a_0_)/(alpha_0 * a_0_ - a_0_))**(d_2 - d_1)#- (alpha_ - 1)/alpha_)\n",
    "    #R_ = R.subs(E, E_).subs(K_Ic, K_Ic_)\n",
    "    #R =  beta_2_ * psi * ((alpha_ans * a_0_) - a_0_)**d_2\n",
    "    #R = beta_2 * (( alpha_0 * a_0_) - a_0_)**d_2\n",
    "    a_0_ =  alpha_0 * a_0_\n",
    "    #alpha_0 = alpha_ans\n",
    "    print('a_0=', a_0_)\n",
    "    print('COD_val=', COD_val)\n",
    "    print('V_crack=', V_crack)\n",
    "    print('H_crack=', H_crack)\n",
    "    print('beta_2 =', beta_2)\n",
    "    print('d_1 =',d_1)\n",
    "    print('d_2 =',d_2)\n",
    "    print('psi =',psi)\n",
    "    print('R =',R)\n",
    "    print('alpha =',alpha_0)\n",
    "    print('alpha_root =',alpha_val)\n",
    "    print('*******************')\n",
    "    i  += 1\n",
    "    if abs(V_crack) > V_ or H_crack > H_: #or V_crack < 0:# or i>15:\n",
    "        break"
   ]
  },
  {
   "cell_type": "code",
   "execution_count": null,
   "metadata": {},
   "outputs": [],
   "source": []
  },
  {
   "cell_type": "code",
   "execution_count": null,
   "metadata": {},
   "outputs": [],
   "source": []
  },
  {
   "cell_type": "code",
   "execution_count": null,
   "metadata": {},
   "outputs": [],
   "source": []
  },
  {
   "cell_type": "code",
   "execution_count": null,
   "metadata": {},
   "outputs": [],
   "source": []
  }
 ],
 "metadata": {
  "kernelspec": {
   "display_name": "PyCharm (bmcs_shear_zone)",
   "language": "python",
   "name": "pycharm-b2a3785d"
  },
  "language_info": {
   "codemirror_mode": {
    "name": "ipython",
    "version": 3
   },
   "file_extension": ".py",
   "mimetype": "text/x-python",
   "name": "python",
   "nbconvert_exporter": "python",
   "pygments_lexer": "ipython3"
  },
  "toc": {
   "base_numbering": 1,
   "nav_menu": {},
   "number_sections": true,
   "sideBar": true,
   "skip_h1_title": false,
   "title_cell": "Table of Contents",
   "title_sidebar": "Contents",
   "toc_cell": false,
   "toc_position": {
    "height": "calc(100% - 180px)",
    "left": "10px",
    "top": "150px",
    "width": "165px"
   },
   "toc_section_display": true,
   "toc_window_display": true
  }
 },
 "nbformat": 4,
 "nbformat_minor": 2
}
