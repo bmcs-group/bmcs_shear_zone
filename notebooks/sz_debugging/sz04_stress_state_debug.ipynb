{
 "cells": [
  {
   "cell_type": "code",
   "execution_count": 1,
   "id": "57d7aa31-5bad-4cd8-831b-a856e9ced1ee",
   "metadata": {},
   "outputs": [],
   "source": [
    "%matplotlib widget\n",
    "from bmcs_shear.shear_crack.beam_design import RCBeamDesign\n",
    "from bmcs_shear.api import CrackBridgeAdv\n",
    "from bmcs_shear.shear_crack.crack_propagation import CrackPropagation\n",
    "#from bmcs_shear.shear_crack.crack_extension import CrackExtension\n",
    "import numpy as np\n",
    "np.seterr(divide='ignore', invalid='ignore') ;"
   ]
  },
  {
   "cell_type": "code",
   "execution_count": 2,
   "id": "43fc0c8b-a90c-41bc-b804-cdff729f5365",
   "metadata": {},
   "outputs": [],
   "source": [
    "ce = CrackPropagation(n_seg=25)\n",
    "ce.sz_cp.trait_set(x_00=1250, n_m=12)\n",
    "ce.sz_bd.trait_set(H=400, L=2000, B=50);\n",
    "ce.sz_bd.csl.add_layer(CrackBridgeAdv(z=9, n=2, d_s=10, E = 210000, tau = 16, sig_y = 713, \n",
    "                   dowel_factor = 1, f_c = 33.3)\n",
    ")\n",
    "ce.sz_cp.sz_ctr.ell=15\n",
    "ce.sz_ctss.L_cs = 100\n",
    "ce.sz_cp.add_x_tip_an([1250,100])"
   ]
  },
  {
   "cell_type": "code",
   "execution_count": 3,
   "id": "e4ddad23-3622-4642-a165-b99f5c39000e",
   "metadata": {},
   "outputs": [
    {
     "data": {
      "text/plain": [
       "2.9999999997502442"
      ]
     },
     "execution_count": 3,
     "metadata": {},
     "output_type": "execute_result"
    }
   ],
   "source": [
    "ce.sz_ctss.sig_x_tip_0"
   ]
  },
  {
   "cell_type": "code",
   "execution_count": 4,
   "id": "41a441bc-3a27-42b5-b4c5-2d26f6446eba",
   "metadata": {},
   "outputs": [
    {
     "name": "stdout",
     "output_type": "stream",
     "text": [
      "[5311.87733468] [5107.72535206]\n",
      "sig_tip_1 6.488368897143931\n"
     ]
    },
    {
     "data": {
      "text/plain": [
       "6.488368897143931"
      ]
     },
     "execution_count": 4,
     "metadata": {},
     "output_type": "execute_result"
    }
   ],
   "source": [
    "ce.sz_ctss.sig_z_tip_1"
   ]
  },
  {
   "cell_type": "code",
   "execution_count": 5,
   "id": "21ff840c-4310-47fd-8e84-7e2ceacab0b0",
   "metadata": {},
   "outputs": [
    {
     "data": {
      "text/plain": [
       "0.7853981637070414"
      ]
     },
     "execution_count": 5,
     "metadata": {},
     "output_type": "execute_result"
    }
   ],
   "source": [
    "ce.sz_ctss.psi_k"
   ]
  },
  {
   "cell_type": "code",
   "execution_count": 6,
   "id": "bdffa752-e6b2-4815-b02b-b487f1f1c795",
   "metadata": {},
   "outputs": [
    {
     "data": {
      "text/plain": [
       "0.20168067237699508"
      ]
     },
     "execution_count": 6,
     "metadata": {},
     "output_type": "execute_result"
    }
   ],
   "source": [
    "ce.sz_ctss.tau_x_tip_1k"
   ]
  },
  {
   "cell_type": "code",
   "execution_count": 7,
   "id": "f345a989-be51-443a-b663-4f119bfbae64",
   "metadata": {},
   "outputs": [],
   "source": [
    "import sympy as sp\n",
    "sp.init_printing()"
   ]
  },
  {
   "cell_type": "code",
   "execution_count": 8,
   "id": "36d68977-63df-4816-ba03-d94b8f757c59",
   "metadata": {},
   "outputs": [],
   "source": [
    "tau_fps, sigma_x, sigma_y = sp.symbols(r'tau, sigma_x, sigma_y')\n",
    "sigma_1, sigma_2 = sp.symbols(r'sigma_1, sigma_2')\n",
    "f_ct, f_cm = sp.symbols(r'f_ct, f_cm', nonnegative=True)\n",
    "\n",
    "sigma_xy = sp.Matrix([[sigma_x, tau_fps],\n",
    "                     [tau_fps, sigma_y]])\n",
    "sigma_12 = sp.Matrix([[sigma_1, 0],\n",
    "                      [0, sigma_2]])\n",
    "\n",
    "P_xy, D_xy = sigma_xy.diagonalize()\n",
    "\n",
    "sigma_1_xy = D_xy[0,0]\n",
    "sigma_2_xy = D_xy[1,1]\n",
    "\n",
    "Kupfer_ct = sp.Eq(sigma_2 / f_ct - sp.Rational(8,10) * sigma_1 / f_cm, 1)\n",
    "\n",
    "sigma_2_ct_solved = sp.solve(Kupfer_ct, sigma_2)[0]\n",
    "\n",
    "sig_2_ct_eq = sp.Eq(sigma_2_ct_solved, sigma_2_xy)\n",
    "\n",
    "sig_2_ct_eq_xy = sig_2_ct_eq.subs(sigma_1, sigma_1_xy)\n",
    "\n",
    "tau_fps_ct_solved = sp.solve(sig_2_ct_eq_xy, tau_fps)[0]\n",
    "\n",
    "get_tau_fps = sp.lambdify((sigma_x, sigma_y, f_cm, f_ct), tau_fps_ct_solved, 'numpy')\n",
    "\n",
    "psi = sp.atan( sp.simplify(-P_xy[0,0] / P_xy[1,0])).subs(tau_fps, tau_fps_ct_solved)\n",
    "\n",
    "get_psi = sp.lambdify((sigma_x, sigma_y, f_cm, f_ct), psi, 'numpy')"
   ]
  },
  {
   "cell_type": "code",
   "execution_count": 9,
   "id": "4ce69aad-7fe7-4bf7-8298-c5ffd750fdc2",
   "metadata": {},
   "outputs": [],
   "source": [
    "f_ct = ce.sz_ctss.f_t\n",
    "#        print('f_ct', f_ct)\n",
    "f_cm = ce.sz_ctss.f_c\n",
    "#        print('f_cm', f_cm)\n",
    "sigma_x = ce.sz_ctss.sig_x_tip_0\n",
    "#        print('sigma_x', sigma_x)\n",
    "sigma_y = ce.sz_ctss.sig_z_tip_1\n",
    "#        print('sigma_y', sigma_y)\n",
    "tau_x_tip_1k = get_tau_fps(sigma_x, sigma_y, f_cm, f_ct)\n",
    "#        print('tau_x_tip_1k', tau_x_tip_1k)\n"
   ]
  },
  {
   "cell_type": "code",
   "execution_count": 10,
   "id": "7d70f964-91e6-42f6-94f2-396f79349f67",
   "metadata": {},
   "outputs": [
    {
     "data": {
      "image/png": "[encoded data removed]",
      "text/latex": [
       "$\\displaystyle \\left( 2.99999999975024, \\  6.48836889714393, \\  \\text{NaN}\\right)$"
      ],
      "text/plain": [
       "(2.9999999997502442, 6.488368897143931, nan)"
      ]
     },
     "execution_count": 10,
     "metadata": {},
     "output_type": "execute_result"
    }
   ],
   "source": [
    "sigma_x, sigma_y, tau_x_tip_1k"
   ]
  }
 ],
 "metadata": {
  "kernelspec": {
   "display_name": "bmcs_env",
   "language": "python",
   "name": "bmcs_env"
  },
  "language_info": {
   "codemirror_mode": {
    "name": "ipython",
    "version": 3
   },
   "file_extension": ".py",
   "mimetype": "text/x-python",
   "name": "python",
   "nbconvert_exporter": "python",
   "pygments_lexer": "ipython3",
   "version": "3.8.8"
  }
 },
 "nbformat": 4,
 "nbformat_minor": 5
}
