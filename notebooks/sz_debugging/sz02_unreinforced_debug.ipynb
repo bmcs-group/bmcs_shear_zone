{
 "cells": [
  {
   "cell_type": "code",
   "execution_count": null,
   "metadata": {},
   "outputs": [],
   "source": [
    "%matplotlib widget\n",
    "from bmcs_shear.shear_crack.beam_design import RCBeamDesign\n",
    "from bmcs_shear.api import CrackBridgeAdv\n",
    "from bmcs_shear.shear_crack.crack_propagation import CrackPropagation\n",
    "#from bmcs_shear.shear_crack.crack_extension import CrackExtension\n",
    "import numpy as np\n",
    "np.seterr(divide='ignore', invalid='ignore') ;"
   ]
  },
  {
   "cell_type": "code",
   "execution_count": null,
   "metadata": {},
   "outputs": [],
   "source": [
    "ce = CrackPropagation(n_seg=12)\n",
    "ce.sz_cp.trait_set(x_00=400, n_m=12)\n",
    "ce.sz_bd.trait_set(H=400 ,L=1000, B=50);"
   ]
  },
  {
   "cell_type": "code",
   "execution_count": null,
   "metadata": {},
   "outputs": [],
   "source": [
    "ce.sz_cp.sz_ctr.ell = 30"
   ]
  },
  {
   "cell_type": "code",
   "execution_count": null,
   "metadata": {
    "scrolled": false
   },
   "outputs": [],
   "source": [
    "ce.run()"
   ]
  },
  {
   "cell_type": "code",
   "execution_count": null,
   "metadata": {},
   "outputs": [],
   "source": [
    "ce.interact()"
   ]
  },
  {
   "cell_type": "code",
   "execution_count": null,
   "metadata": {},
   "outputs": [],
   "source": []
  }
 ],
 "metadata": {
  "kernelspec": {
   "display_name": "Python 3",
   "language": "python",
   "name": "python3"
  },
  "language_info": {
   "codemirror_mode": {
    "name": "ipython",
    "version": 3
   },
   "file_extension": ".py",
   "mimetype": "text/x-python",
   "name": "python",
   "nbconvert_exporter": "python",
   "pygments_lexer": "ipython3",
   "version": "3.9.1"
  }
 },
 "nbformat": 4,
 "nbformat_minor": 5
}
