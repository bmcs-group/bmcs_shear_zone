{
 "cells": [
  {
   "cell_type": "code",
   "execution_count": 1,
   "id": "da368086-afc2-4474-a9d0-949d4dd73ce5",
   "metadata": {},
   "outputs": [],
   "source": [
    "%matplotlib widget\n",
    "import bmcs_utils.api as bu\n",
    "from bmcs_shear.shear_crack.beam_design import RCBeamDesign\n",
    "from bmcs_shear.shear_crack.crack_extension import CrackExtension\n",
    "from bmcs_shear.api import CrackBridgeAdv\n",
    "import numpy as np\n",
    "np.seterr(divide='ignore', invalid='ignore') ;"
   ]
  },
  {
   "cell_type": "code",
   "execution_count": 2,
   "id": "a6cd1628-7fa6-4a45-b190-733220e80df8",
   "metadata": {},
   "outputs": [],
   "source": [
    "ce = CrackExtension()\n",
    "ce.sz_cp.trait_set(x_00=400, n_m=12)\n",
    "ce.sz_bd.trait_set(H=400 ,L=1000, B=50);"
   ]
  },
  {
   "cell_type": "code",
   "execution_count": 3,
   "id": "9468242f-9f17-4084-a50b-3914f1ca55cc",
   "metadata": {},
   "outputs": [
    {
     "name": "stdout",
     "output_type": "stream",
     "text": [
      "sig_tip_1 0\n",
      "sig_tip_1 0\n",
      "sig_tip_1 0\n",
      "sig_tip_1 0\n"
     ]
    },
    {
     "data": {
      "text/plain": [
       "array([4.79319751e-04, 2.00061146e+02])"
      ]
     },
     "execution_count": 3,
     "metadata": {},
     "output_type": "execute_result"
    }
   ],
   "source": [
    "ce.X"
   ]
  },
  {
   "cell_type": "code",
   "execution_count": 4,
   "id": "da3f315c-7221-4ad5-b566-7d1529a47d1b",
   "metadata": {},
   "outputs": [
    {
     "name": "stdout",
     "output_type": "stream",
     "text": [
      "sig_tip_1 0\n",
      "sig_tip_1 0\n",
      "sig_tip_1 0\n",
      "sig_tip_1 42.82266881208178\n",
      "sig_tip_1 0\n"
     ]
    },
    {
     "data": {
      "text/plain": [
       "array([  0.        , 200.06114623])"
      ]
     },
     "execution_count": 4,
     "metadata": {},
     "output_type": "execute_result"
    }
   ],
   "source": [
    "ce.sz_cp.add_x_tip_an([400,5])\n",
    "ce.X"
   ]
  },
  {
   "cell_type": "code",
   "execution_count": 5,
   "id": "fac9c706-309c-48ba-afbd-abc90ba20298",
   "metadata": {},
   "outputs": [],
   "source": [
    "ce = CrackExtension()\n",
    "ce.sz_cp.trait_set(x_00=400, n_m=12)\n",
    "ce.sz_bd.trait_set(H=400 ,L=1000, B=50);\n",
    "ce.sz_bd.csl.add_layer(\n",
    "    CrackBridgeAdv(z=44, n=2, d_s=16, E = 210000, tau = 16, sig_y = 713, \n",
    "                   dowel_factor = 1, f_c = 33.3)\n",
    ")\n",
    "ce.sz_cp.add_x_tip_an([400,100])"
   ]
  },
  {
   "cell_type": "code",
   "execution_count": 6,
   "id": "0a7d0463-dde1-4feb-9eb3-43599003cac9",
   "metadata": {},
   "outputs": [
    {
     "name": "stdout",
     "output_type": "stream",
     "text": [
      "[22975.30555661] [16344.72112658]\n",
      "sig_tip_1 2.9874406726313008\n",
      "[22975.30554391] [16344.72112658]\n",
      "sig_tip_1 2.9874406088627956\n",
      "[22975.30541452] [16344.72112658]\n",
      "sig_tip_1 2.9874406727538436\n",
      "[47756.46378869] [16344.72112658]\n",
      "sig_tip_1 0.3131185512817478\n",
      "[22053.91456544] [16344.72112658]\n",
      "sig_tip_1 2.6476634575772864\n",
      "[22585.01502395] [16344.72112658]\n",
      "sig_tip_1 2.2464858615208083\n",
      "[25760.05103575] [16344.72112658]\n",
      "sig_tip_1 0.9643225411608723\n",
      "[26182.41709771] [16344.72112658]\n",
      "sig_tip_1 0.9432057405154717\n",
      "[24944.43750393] [16344.72112658]\n",
      "sig_tip_1 3.0072038913376944\n",
      "[26434.15701309] [16344.72112658]\n",
      "sig_tip_1 0.971799106789357\n",
      "[26255.38046189] [16344.72112658]\n",
      "sig_tip_1 1.2787162783939803\n",
      "[26425.52007975] [16344.72112658]\n",
      "sig_tip_1 1.0900213267216137\n",
      "[26411.2295768] [16344.72112658]\n",
      "sig_tip_1 1.1067468229394584\n",
      "[26413.96139308] [16344.72112658]\n",
      "sig_tip_1 1.1038941667838067\n",
      "[26413.88962896] [16344.72112658]\n",
      "sig_tip_1 1.103966568843577\n"
     ]
    },
    {
     "data": {
      "text/plain": [
       "array([  0.28415773, 153.82736344])"
      ]
     },
     "execution_count": 6,
     "metadata": {},
     "output_type": "execute_result"
    }
   ],
   "source": [
    "ce.X"
   ]
  },
  {
   "cell_type": "code",
   "execution_count": 7,
   "id": "472732c8-2a3d-465b-9f40-8881b668e436",
   "metadata": {},
   "outputs": [
    {
     "data": {
      "application/vnd.jupyter.widget-view+json": {
       "model_id": "d31ed88b701341389dd637bbd2015fd2",
       "version_major": 2,
       "version_minor": 0
      },
      "text/plain": [
       "VBox(children=(HBox(children=(VBox(children=(Tree(layout=Layout(align_items='stretch', border='solid 1px black…"
      ]
     },
     "metadata": {},
     "output_type": "display_data"
    }
   ],
   "source": [
    "ce.interact()"
   ]
  },
  {
   "cell_type": "code",
   "execution_count": null,
   "id": "cc5e3d14-6537-4149-bc41-09226005a72d",
   "metadata": {},
   "outputs": [],
   "source": []
  }
 ],
 "metadata": {
  "kernelspec": {
   "display_name": "bmcs_env",
   "language": "python",
   "name": "bmcs_env"
  },
  "language_info": {
   "codemirror_mode": {
    "name": "ipython",
    "version": 3
   },
   "file_extension": ".py",
   "mimetype": "text/x-python",
   "name": "python",
   "nbconvert_exporter": "python",
   "pygments_lexer": "ipython3",
   "version": "3.8.8"
  }
 },
 "nbformat": 4,
 "nbformat_minor": 5
}
