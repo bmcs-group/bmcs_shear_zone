{
 "cells": [
  {
   "cell_type": "code",
   "execution_count": null,
   "id": "da368086-afc2-4474-a9d0-949d4dd73ce5",
   "metadata": {},
   "outputs": [],
   "source": [
    "%matplotlib widget\n",
    "import bmcs_utils.api as bu\n",
    "from bmcs_shear.shear_crack.beam_design import RCBeamDesign\n",
    "from bmcs_shear.shear_crack.crack_extension import CrackExtension\n",
    "from bmcs_shear.api import CrackBridgeAdv\n",
    "import numpy as np\n",
    "np.seterr(divide='ignore', invalid='ignore') ;"
   ]
  },
  {
   "cell_type": "code",
   "execution_count": null,
   "id": "a6cd1628-7fa6-4a45-b190-733220e80df8",
   "metadata": {},
   "outputs": [],
   "source": [
    "ce = CrackExtension()\n",
    "ce.sz_cp.trait_set(x_00=400, n_m=12)\n",
    "ce.sz_bd.trait_set(H=400 ,L=1000, B=50);"
   ]
  },
  {
   "cell_type": "code",
   "execution_count": null,
   "id": "9468242f-9f17-4084-a50b-3914f1ca55cc",
   "metadata": {},
   "outputs": [],
   "source": [
    "ce.X"
   ]
  },
  {
   "cell_type": "code",
   "execution_count": null,
   "id": "da3f315c-7221-4ad5-b566-7d1529a47d1b",
   "metadata": {},
   "outputs": [],
   "source": [
    "ce.sz_cp.add_x_tip_an([400,5])\n",
    "ce.X"
   ]
  },
  {
   "cell_type": "code",
   "execution_count": null,
   "id": "fac9c706-309c-48ba-afbd-abc90ba20298",
   "metadata": {},
   "outputs": [],
   "source": [
    "ce = CrackExtension()\n",
    "ce.sz_cp.trait_set(x_00=400, n_m=12)\n",
    "ce.sz_bd.trait_set(H=400 ,L=1000, B=50);\n",
    "ce.sz_bd.csl.add_layer(\n",
    "    CrackBridgeAdv(z=44, n=2, d_s=16, E = 210000, tau = 16, sig_y = 713, \n",
    "                   dowel_factor = 1, f_c = 33.3)\n",
    ")\n",
    "ce.sz_cp.add_x_tip_an([400,100])"
   ]
  },
  {
   "cell_type": "code",
   "execution_count": null,
   "id": "0a7d0463-dde1-4feb-9eb3-43599003cac9",
   "metadata": {},
   "outputs": [],
   "source": [
    "ce.X"
   ]
  },
  {
   "cell_type": "code",
   "execution_count": null,
   "id": "472732c8-2a3d-465b-9f40-8881b668e436",
   "metadata": {},
   "outputs": [],
   "source": [
    "ce.interact()"
   ]
  },
  {
   "cell_type": "code",
   "execution_count": null,
   "id": "cc5e3d14-6537-4149-bc41-09226005a72d",
   "metadata": {},
   "outputs": [],
   "source": []
  }
 ],
 "metadata": {
  "kernelspec": {
   "display_name": "bmcs_env",
   "language": "python",
   "name": "bmcs_env"
  },
  "language_info": {
   "codemirror_mode": {
    "name": "ipython",
    "version": 3
   },
   "file_extension": ".py",
   "mimetype": "text/x-python",
   "name": "python",
   "nbconvert_exporter": "python",
   "pygments_lexer": "ipython3"
  }
 },
 "nbformat": 4,
 "nbformat_minor": 5
}
