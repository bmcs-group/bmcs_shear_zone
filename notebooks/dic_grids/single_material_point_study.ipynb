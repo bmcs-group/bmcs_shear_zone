{
 "cells": [
  {
   "cell_type": "markdown",
   "id": "957c48b2",
   "metadata": {},
   "source": [
    "# Single material point study"
   ]
  },
  {
   "cell_type": "code",
   "execution_count": 4,
   "id": "aa14eb1f",
   "metadata": {},
   "outputs": [],
   "source": [
    "%matplotlib widget\n",
    "import numpy as np\n",
    "from bmcs_shear.dic_crack import DICGrid, DICAlignedGrid, DICCOR, DICInspector, DICCrack"
   ]
  },
  {
   "cell_type": "markdown",
   "id": "a0962002",
   "metadata": {},
   "source": [
    "<img src=\"single point detail.png\" width=\"700\"/> "
   ]
  },
  {
   "cell_type": "code",
   "execution_count": 5,
   "id": "b65d6fbc",
   "metadata": {},
   "outputs": [],
   "source": [
    "dic_grid = DICGrid(n_x=2, n_y=2, d_x = 1, d_y = 1,  \n",
    "                    start_t = 0, end_t = 4, U_factor = 1, dir_name='unit_beam_', grid_column_first = False, \n",
    "                    grid_number_vertical = False)\n",
    "dic_aligned_grid = DICAlignedGrid(dic_grid=dic_grid,\n",
    "                                 y_ref_i=-1, y_ref_j_min=0, y_ref_j_max=1)\n",
    "dic_cor = DICCOR(dic_aligned_grid=dic_aligned_grid,\n",
    "                 n_x_min = 0, n_x_max = 1, n_x_step=1, n_y_min = 0, n_y_max = 2, n_y_step = 1)"
   ]
  },
  {
   "cell_type": "code",
   "execution_count": 6,
   "id": "b9e955d0",
   "metadata": {},
   "outputs": [
    {
     "data": {
      "application/vnd.jupyter.widget-view+json": {
       "model_id": "f9779b2956f94feba7c0d43b47f60290",
       "version_major": 2,
       "version_minor": 0
      },
      "text/plain": [
       "VBox(children=(HBox(children=(VBox(children=(Tree(layout=Layout(align_items='stretch', border='solid 1px black…"
      ]
     },
     "metadata": {},
     "output_type": "display_data"
    }
   ],
   "source": [
    "dic_grid.interact()"
   ]
  },
  {
   "cell_type": "code",
   "execution_count": 8,
   "id": "8b18b432",
   "metadata": {},
   "outputs": [
    {
     "data": {
      "application/vnd.jupyter.widget-view+json": {
       "model_id": "ffb3bac5145242dda79fdaa1159166ef",
       "version_major": 2,
       "version_minor": 0
      },
      "text/plain": [
       "VBox(children=(HBox(children=(VBox(children=(Tree(layout=Layout(align_items='stretch', border='solid 1px black…"
      ]
     },
     "metadata": {},
     "output_type": "display_data"
    }
   ],
   "source": [
    "dic_aligned_grid.interact()"
   ]
  },
  {
   "cell_type": "code",
   "execution_count": 9,
   "id": "2aeff10e",
   "metadata": {},
   "outputs": [
    {
     "data": {
      "application/vnd.jupyter.widget-view+json": {
       "model_id": "0a005f5a960b4b828f8ff08ecef2ac10",
       "version_major": 2,
       "version_minor": 0
      },
      "text/plain": [
       "VBox(children=(HBox(children=(VBox(children=(Tree(layout=Layout(align_items='stretch', border='solid 1px black…"
      ]
     },
     "metadata": {},
     "output_type": "display_data"
    }
   ],
   "source": [
    "dic_cor.interact()"
   ]
  },
  {
   "cell_type": "code",
   "execution_count": 10,
   "id": "3b02e6a3",
   "metadata": {},
   "outputs": [
    {
     "name": "stdout",
     "output_type": "stream",
     "text": [
      "evaluating step 1\n",
      "phi_avg 9.716535771265434\n",
      "evaluating step 2\n",
      "phi_avg 20.44835101502574\n",
      "evaluating step 3\n",
      "phi_avg 29.643547071012996\n",
      "evaluating step 4\n",
      "phi_avg 39.966532496576335\n"
     ]
    }
   ],
   "source": [
    "import numpy as np\n",
    "end_t_arr = np.arange(1,5,1)\n",
    "phi_arr = []\n",
    "for end_t in end_t_arr[::1]:\n",
    "    print('evaluating step', end_t)\n",
    "\n",
    "    dic_grid.end_t = end_t\n",
    "\n",
    "    # selected points for rotation\n",
    "    XU_ija = dic_cor.dic_aligned_grid.rot_Xu_ija # check the refence system and verify\n",
    "    XU_ija_sel = (XU_ija[dic_cor.n_x_min:dic_cor.n_x_max:dic_cor.n_x_step,\n",
    "                         dic_cor.n_y_min:dic_cor.n_y_max:dic_cor.n_y_step])\n",
    "    XU_pr = XU_ija_sel.reshape(-1, 2)\n",
    "\n",
    "    dic_cor.dic_grid.X_ija\n",
    "    # selection of grid of points\n",
    "    X_ija_sel = dic_cor.dic_grid.X_ija[dic_cor.n_x_min:dic_cor.n_x_max:dic_cor.n_x_step,\n",
    "                                       dic_cor.n_y_min:dic_cor.n_y_max:dic_cor.n_y_step]\n",
    "    X_pr = X_ija_sel.reshape(-1, 2)\n",
    "\n",
    "    # evaluating distances using distance formula\n",
    "    X_cor_r = dic_cor.X_cor\n",
    "    XU_mid_pr = (XU_pr + X_pr) / 2\n",
    "\n",
    "    V_X_XU_mid_pr = X_cor_r[np.newaxis, :] - XU_mid_pr\n",
    "    V_XU_XU_mid_pr = XU_pr - XU_mid_pr\n",
    "\n",
    "    len_d_0c = np.sqrt(np.einsum('...i,...i->...', V_X_XU_mid_pr, V_X_XU_mid_pr ))\n",
    "    len_d_0t = np.sqrt(np.einsum('...i,...i->...', V_XU_XU_mid_pr, V_XU_XU_mid_pr ))\n",
    "\n",
    "    phi = 2*np.arctan(len_d_0t/len_d_0c)\n",
    "    phi_avg = np.average(phi)\n",
    "    phi_arr.append(phi_avg)\n",
    "\n",
    "    print('phi_avg', phi_avg * 180 / np.pi)"
   ]
  },
  {
   "cell_type": "code",
   "execution_count": 11,
   "id": "6d15eb70",
   "metadata": {},
   "outputs": [],
   "source": [
    "from os.path import expanduser, join\n",
    "import os"
   ]
  },
  {
   "cell_type": "code",
   "execution_count": 12,
   "id": "485616ad",
   "metadata": {},
   "outputs": [
    {
     "data": {
      "text/plain": [
       "'/home/rch/simdb/data/load/unit_beam'"
      ]
     },
     "execution_count": 12,
     "metadata": {},
     "output_type": "execute_result"
    }
   ],
   "source": [
    "home_dir = expanduser('~')\n",
    "data_dir = join(home_dir,'simdb','data','load','unit_beam')\n",
    "data_dir"
   ]
  },
  {
   "cell_type": "code",
   "execution_count": 13,
   "id": "798ef859",
   "metadata": {},
   "outputs": [
    {
     "ename": "FileNotFoundError",
     "evalue": "[Errno 2] No such file or directory: '/home/rch/simdb/data/load/unit_beam'",
     "output_type": "error",
     "traceback": [
      "\u001b[0;31m---------------------------------------------------------------------------\u001b[0m",
      "\u001b[0;31mFileNotFoundError\u001b[0m                         Traceback (most recent call last)",
      "\u001b[0;32m<ipython-input-13-a61b9b23fcf0>\u001b[0m in \u001b[0;36m<module>\u001b[0;34m\u001b[0m\n\u001b[1;32m      1\u001b[0m results = [join(data_dir,each) \n\u001b[0;32m----> 2\u001b[0;31m            \u001b[0;32mfor\u001b[0m \u001b[0meach\u001b[0m \u001b[0;32min\u001b[0m \u001b[0msorted\u001b[0m\u001b[0;34m(\u001b[0m\u001b[0mos\u001b[0m\u001b[0;34m.\u001b[0m\u001b[0mlistdir\u001b[0m\u001b[0;34m(\u001b[0m\u001b[0mdata_dir\u001b[0m\u001b[0;34m)\u001b[0m\u001b[0;34m)\u001b[0m\u001b[0;34m\u001b[0m\u001b[0;34m\u001b[0m\u001b[0m\n\u001b[0m\u001b[1;32m      3\u001b[0m            if each.endswith('.csv')]\n\u001b[1;32m      4\u001b[0m \u001b[0mresults\u001b[0m\u001b[0;34m\u001b[0m\u001b[0;34m\u001b[0m\u001b[0m\n",
      "\u001b[0;31mFileNotFoundError\u001b[0m: [Errno 2] No such file or directory: '/home/rch/simdb/data/load/unit_beam'"
     ]
    }
   ],
   "source": [
    "results = [join(data_dir,each) \n",
    "           for each in sorted(os.listdir(data_dir)) \n",
    "           if each.endswith('.csv')]\n",
    "results"
   ]
  },
  {
   "cell_type": "code",
   "execution_count": 67,
   "id": "df3e72e2",
   "metadata": {},
   "outputs": [
    {
     "data": {
      "text/plain": [
       "array([0.025, 0.5  , 0.75 , 1.   ])"
      ]
     },
     "execution_count": 67,
     "metadata": {},
     "output_type": "execute_result"
    }
   ],
   "source": [
    "load = np.loadtxt(results[0], dtype=float, \n",
    "            skiprows=1, delimiter=',', usecols=(0), unpack=False)\n",
    "load"
   ]
  },
  {
   "cell_type": "code",
   "execution_count": 68,
   "id": "b6868952",
   "metadata": {},
   "outputs": [
    {
     "data": {
      "text/plain": [
       "(Text(0.5, 0, '$\\\\varphi$'), Text(0, 0.5, 'Load'))"
      ]
     },
     "execution_count": 68,
     "metadata": {},
     "output_type": "execute_result"
    },
    {
     "data": {
      "image/png": "[encoded data removed]",
      "text/plain": [
       "<Figure size 720x432 with 1 Axes>"
      ]
     },
     "metadata": {
      "needs_background": "light"
     },
     "output_type": "display_data"
    }
   ],
   "source": [
    "import matplotlib.pyplot as plt\n",
    "_, ax1 = plt.subplots(1, 1, figsize=(10,6))\n",
    "\n",
    "ax1.plot(phi_arr, load, color = 'blue')\n",
    "ax1.set_xlabel(r'$\\varphi$'), ax1.set_ylabel('Load')"
   ]
  },
  {
   "cell_type": "code",
   "execution_count": null,
   "id": "d997fcef",
   "metadata": {},
   "outputs": [],
   "source": []
  }
 ],
 "metadata": {
  "kernelspec": {
   "display_name": "Python 3",
   "language": "python",
   "name": "python3"
  },
  "language_info": {
   "codemirror_mode": {
    "name": "ipython",
    "version": 3
   },
   "file_extension": ".py",
   "mimetype": "text/x-python",
   "name": "python",
   "nbconvert_exporter": "python",
   "pygments_lexer": "ipython3",
   "version": "3.8.8"
  }
 },
 "nbformat": 4,
 "nbformat_minor": 5
}
