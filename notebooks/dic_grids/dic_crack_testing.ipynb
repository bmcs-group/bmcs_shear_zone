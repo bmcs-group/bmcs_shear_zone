{
 "cells": [
  {
   "cell_type": "markdown",
   "id": "f1e2b2e7-591f-40cd-9a02-063f9a59e9fc",
   "metadata": {},
   "source": [
    "# **DIC Shear Crack Inspector**"
   ]
  },
  {
   "cell_type": "code",
   "execution_count": 1,
   "id": "41c01fbb",
   "metadata": {},
   "outputs": [],
   "source": [
    "%matplotlib widget"
   ]
  },
  {
   "cell_type": "code",
   "execution_count": 2,
   "id": "5e4dc307",
   "metadata": {},
   "outputs": [],
   "source": [
    "from bmcs_shear.dic_crack import DICGrid, DICAlignedGrid, DICCOR, DICInspector, DICCrack"
   ]
  },
  {
   "cell_type": "markdown",
   "id": "938b42de",
   "metadata": {},
   "source": [
    "# B1_TV1"
   ]
  },
  {
   "cell_type": "code",
   "execution_count": 3,
   "id": "059710d6",
   "metadata": {},
   "outputs": [],
   "source": [
    "dic_grid = DICGrid(n_x=59, n_y=15, d_x = 22, d_y = 22,  \n",
    "                     start_t = 0, end_t =8, U_factor = 40, dir_name='B1_TV1')\n",
    "dic_aligned_grid = DICAlignedGrid(dic_grid=dic_grid,\n",
    "                                 y_ref_i=-17, y_ref_j_min=1, y_ref_j_max=10)\n",
    "dic_cor = DICCOR(dic_aligned_grid=dic_aligned_grid,\n",
    "                 n_x_min = 29, n_x_max = 38, n_x_step=1, n_y_min = 7, n_y_step = 1)"
   ]
  },
  {
   "cell_type": "code",
   "execution_count": 4,
   "id": "9fdc7b36-7119-4a97-b966-9490051b3730",
   "metadata": {},
   "outputs": [
    {
     "data": {
      "application/vnd.jupyter.widget-view+json": {
       "model_id": "fc20763ee4074482bbfb0e94e71db869",
       "version_major": 2,
       "version_minor": 0
      },
      "text/plain": [
       "VBox(children=(HBox(children=(VBox(children=(Tree(layout=Layout(align_items='stretch', border='solid 1px black…"
      ]
     },
     "metadata": {},
     "output_type": "display_data"
    }
   ],
   "source": [
    "dic_cor.interact()"
   ]
  },
  {
   "cell_type": "markdown",
   "id": "c759453d",
   "metadata": {},
   "source": [
    "# B6_TV1"
   ]
  },
  {
   "cell_type": "code",
   "execution_count": 10,
   "id": "5c23e5ae-5b15-42d2-8862-ee1cda57fc62",
   "metadata": {},
   "outputs": [
    {
     "data": {
      "application/vnd.jupyter.widget-view+json": {
       "model_id": "3e1f6063ed6646a59b811795a1c3175e",
       "version_major": 2,
       "version_minor": 0
      },
      "text/plain": [
       "VBox(children=(HBox(children=(VBox(children=(Tree(layout=Layout(align_items='stretch', border='solid 1px black…"
      ]
     },
     "metadata": {},
     "output_type": "display_data"
    }
   ],
   "source": [
    "dic_grid = DICGrid(n_x=58, n_y=15, d_x = 22, d_y = 22, \n",
    "                     start_t = 0, end_t =8, U_factor = 100, dir_name='B6_TV1')\n",
    "dic_aligned_grid = DICAlignedGrid(dic_grid=dic_grid,\n",
    "                                 y_ref_i=-18, y_ref_j_min=1, y_ref_j_max=10 )\n",
    "dic_cor = DICCOR(dic_aligned_grid=dic_aligned_grid,\n",
    "                 n_x_min = 29, n_x_max = 38, n_x_step=1, n_y_min = 7, n_y_step = 1)\n",
    "dic_cor.interact()"
   ]
  },
  {
   "cell_type": "markdown",
   "id": "841caeeb",
   "metadata": {},
   "source": [
    "# B7_TV1"
   ]
  },
  {
   "cell_type": "code",
   "execution_count": 11,
   "id": "56d6bf3e-a73c-4a4c-a0d1-166be7a96ae2",
   "metadata": {},
   "outputs": [
    {
     "data": {
      "application/vnd.jupyter.widget-view+json": {
       "model_id": "91e8a246dbf84fe899a5648b331ce315",
       "version_major": 2,
       "version_minor": 0
      },
      "text/plain": [
       "VBox(children=(HBox(children=(VBox(children=(Tree(layout=Layout(align_items='stretch', border='solid 1px black…"
      ]
     },
     "metadata": {},
     "output_type": "display_data"
    }
   ],
   "source": [
    "dic_grid = DICGrid(n_x=58, n_y=14, d_x = 22, d_y = 22, start_t = 0, end_t =6, U_factor = 100, dir_name='B7_TV1')\n",
    "dic_aligned_grid = DICAlignedGrid(dic_grid=dic_grid,\n",
    "                                 y_ref_i=-1, y_ref_j_min=1, y_ref_j_max=10 )\n",
    "dic_cor = DICCOR(dic_aligned_grid=dic_aligned_grid,\n",
    "                 n_x_min = 45, n_x_max = 51, n_x_step=1, n_y_min = 0, n_y_step = 1)\n",
    "dic_cor.interact()"
   ]
  },
  {
   "cell_type": "markdown",
   "id": "5205c735",
   "metadata": {},
   "source": [
    "# B1_TV2"
   ]
  },
  {
   "cell_type": "code",
   "execution_count": 12,
   "id": "97d4c47c-28bc-4d14-8684-c3119ad2365f",
   "metadata": {},
   "outputs": [
    {
     "data": {
      "application/vnd.jupyter.widget-view+json": {
       "model_id": "9c06005e38b04e00814cd8967717588e",
       "version_major": 2,
       "version_minor": 0
      },
      "text/plain": [
       "VBox(children=(HBox(children=(VBox(children=(Tree(layout=Layout(align_items='stretch', border='solid 1px black…"
      ]
     },
     "metadata": {},
     "output_type": "display_data"
    }
   ],
   "source": [
    "dic_grid = DICGrid(n_x=57, n_y=15, d_x = 22, d_y = 22, tart_t = 0, end_t =7, \n",
    "                     U_factor = 100, dir_name='B1_TV2')\n",
    "dic_aligned_grid = DICAlignedGrid(dic_grid=dic_grid,\n",
    "                                 y_ref_i = 20, y_ref_j_min=1, y_ref_j_max=10 )\n",
    "dic_cor = DICCOR(dic_aligned_grid=dic_aligned_grid,\n",
    "                 n_x_min = 0, n_x_max = 10, n_y_step=2, n_y_min = 0, n_x_step = 2)\n",
    "dic_cor.interact()"
   ]
  },
  {
   "cell_type": "markdown",
   "id": "524fb63e",
   "metadata": {},
   "source": [
    "# B6_TV2"
   ]
  },
  {
   "cell_type": "code",
   "execution_count": 7,
   "id": "ec75419c-e1be-41b9-86e1-575eefda37df",
   "metadata": {},
   "outputs": [
    {
     "data": {
      "application/vnd.jupyter.widget-view+json": {
       "model_id": "8fb5758811bd43339d7fad66d6904314",
       "version_major": 2,
       "version_minor": 0
      },
      "text/plain": [
       "VBox(children=(HBox(children=(VBox(children=(Tree(layout=Layout(align_items='stretch', border='solid 1px black…"
      ]
     },
     "metadata": {},
     "output_type": "display_data"
    }
   ],
   "source": [
    "dic_grid = DICGrid(n_x=58, n_y=15, d_x = 22, d_y = 22, start_t = 0, end_t =7, U_factor = 100, dir_name='B6_TV2')\n",
    "dic_aligned_grid = DICAlignedGrid(dic_grid=dic_grid,\n",
    "                                 y_ref_i = -1, y_ref_j_min=1, y_ref_j_max=10 )\n",
    "dic_cor = DICCOR(dic_aligned_grid=dic_aligned_grid,\n",
    "                 n_x_min = -10, n_x_max = -5, n_x_step=1, n_y_min = 0, n_y_step = 2)\n",
    "dic_cor.interact()"
   ]
  },
  {
   "cell_type": "code",
   "execution_count": null,
   "id": "d28115ac",
   "metadata": {},
   "outputs": [],
   "source": []
  }
 ],
 "metadata": {
  "kernelspec": {
   "display_name": "bmcs_env",
   "language": "python",
   "name": "bmcs_env"
  },
  "language_info": {
   "codemirror_mode": {
    "name": "ipython",
    "version": 3
   },
   "file_extension": ".py",
   "mimetype": "text/x-python",
   "name": "python",
   "nbconvert_exporter": "python",
   "pygments_lexer": "ipython3",
   "version": "3.8.8"
  }
 },
 "nbformat": 4,
 "nbformat_minor": 5
}
