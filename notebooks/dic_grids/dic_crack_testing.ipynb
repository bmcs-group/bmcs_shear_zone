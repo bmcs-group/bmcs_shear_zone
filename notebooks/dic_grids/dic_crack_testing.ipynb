{
 "cells": [
  {
   "cell_type": "markdown",
   "id": "7dc3651e",
   "metadata": {},
   "source": [
    "# **DIC Shear Crack Inspector**"
   ]
  },
  {
   "cell_type": "code",
   "execution_count": 1,
   "id": "ff698efd",
   "metadata": {},
   "outputs": [],
   "source": [
    "%matplotlib widget"
   ]
  },
  {
   "cell_type": "code",
   "execution_count": 2,
   "id": "c73f2661",
   "metadata": {},
   "outputs": [],
   "source": [
    "from bmcs_shear.dic_crack import DICGrid, DICAlignedGrid, DICCOR, DICInspector, DICCrack"
   ]
  },
  {
   "cell_type": "markdown",
   "id": "4b94c601",
   "metadata": {},
   "source": [
    "# B1_TV1"
   ]
  },
  {
   "cell_type": "code",
   "execution_count": 3,
   "id": "2e78e7b3",
   "metadata": {},
   "outputs": [],
   "source": [
    "dic_grid = DICGrid(n_x=59, n_y=15, d_x=22, d_y=22,\n",
    "                   start_t=0, end_t=-1, U_factor=100, dir_name='B1_TV1', grid_column_first=False, \n",
    "                   grid_number_vertical=False)\n",
    "dic_aligned_grid = DICAlignedGrid(dic_grid=dic_grid,\n",
    "                                 y_ref_i=-20, y_ref_j_min=1, y_ref_j_max=10)\n",
    "dic_cor = DICCOR(dic_aligned_grid=dic_aligned_grid,\n",
    "                 n_x_min=29, n_x_max=37, n_x_step=1, n_y_min=7, n_y_step=1)"
   ]
  },
  {
   "cell_type": "code",
   "execution_count": 4,
   "id": "e029c434-6903-456c-87d9-6a46e763ddbc",
   "metadata": {},
   "outputs": [
    {
     "data": {
      "text/plain": [
       "array([[418.   ,   0.   ],\n",
       "       [417.943,  22.002],\n",
       "       [417.886,  44.015],\n",
       "       [417.831,  65.993],\n",
       "       [417.768,  87.995],\n",
       "       [417.713, 109.995],\n",
       "       [417.661, 131.996],\n",
       "       [417.603, 153.996],\n",
       "       [417.554, 176.007],\n",
       "       [417.499, 198.003]])"
      ]
     },
     "execution_count": 4,
     "metadata": {},
     "output_type": "execute_result"
    }
   ],
   "source": [
    "import numpy as np\n",
    "da = dic_aligned_grid\n",
    "# Get the global displaced configuration without reference point displacement\n",
    "X_ref_ija = da.X_ija + da.U_ref_ija\n",
    "X_ref_ija[da.y_ref_i, :da.y_ref_j_max]"
   ]
  },
  {
   "cell_type": "code",
   "execution_count": 5,
   "id": "319fc89d-f1e6-429f-8ba2-a217082b7dc3",
   "metadata": {},
   "outputs": [
    {
     "data": {
      "text/plain": [
       "array([[ 0.00000e+00,  0.00000e+00],\n",
       "       [-5.70000e-02,  2.20020e+01],\n",
       "       [-1.14000e-01,  4.40150e+01],\n",
       "       [-1.69000e-01,  6.59930e+01],\n",
       "       [-2.32000e-01,  8.79950e+01],\n",
       "       [-2.87000e-01,  1.09995e+02],\n",
       "       [-3.39000e-01,  1.31996e+02],\n",
       "       [-3.97000e-01,  1.53996e+02],\n",
       "       [-4.46000e-01,  1.76007e+02],\n",
       "       [-5.01000e-01,  1.98003e+02]])"
      ]
     },
     "execution_count": 5,
     "metadata": {},
     "output_type": "execute_result"
    }
   ],
   "source": [
    "# Put the origin of the coordinate system into the reference point\n",
    "X0_a = X_ref_ija[da.y_ref_i, 0]\n",
    "X0_ija = X_ref_ija - X0_a[np.newaxis, np.newaxis, :]\n",
    "X0_ja = X0_ija[da.y_ref_i, :da.y_ref_j_max]\n",
    "X0_ja"
   ]
  },
  {
   "cell_type": "code",
   "execution_count": 7,
   "id": "9f60b524-4342-4a91-aa15-aed90a3e0b30",
   "metadata": {},
   "outputs": [
    {
     "data": {
      "text/plain": [
       "(-0.0025775280470835367, -0.0025775280470835367)"
      ]
     },
     "execution_count": 7,
     "metadata": {},
     "output_type": "execute_result"
    }
   ],
   "source": [
    "alpha0 = np.arctan(X0_ja[1:,0] / X0_ja[1:,1]) \n",
    "np.average(alpha0), da.alpha_ref"
   ]
  },
  {
   "cell_type": "code",
   "execution_count": 8,
   "id": "11f8305c-cd4f-44d3-b4a0-a02b58dc2c9d",
   "metadata": {},
   "outputs": [],
   "source": [
    "# Rotate all points by the inclination of the vertical axis alpha\n",
    "x0_ija = np.einsum('ba,...a->...b', da.T_ab, X0_ija)"
   ]
  },
  {
   "cell_type": "code",
   "execution_count": 9,
   "id": "1cb7da77-56d5-4620-aabe-e83d8d63ce62",
   "metadata": {},
   "outputs": [
    {
     "data": {
      "text/plain": [
       "-2.793326430500848e-19"
      ]
     },
     "execution_count": 9,
     "metadata": {},
     "output_type": "execute_result"
    }
   ],
   "source": [
    "da = dic_aligned_grid\n",
    "y0_ja = x0_ija[da.y_ref_i, :da.y_ref_j_max]\n",
    "(y0_ja-y0_ja[0])\n",
    "alpha0 = np.arctan(y0_ja[1:,0] / y0_ja[1:,1]) \n",
    "np.average(alpha0)"
   ]
  },
  {
   "cell_type": "code",
   "execution_count": 11,
   "id": "295c3db7",
   "metadata": {},
   "outputs": [
    {
     "data": {
      "application/vnd.jupyter.widget-view+json": {
       "model_id": "ca96e309297b42018b4bedcfa10a9df8",
       "version_major": 2,
       "version_minor": 0
      },
      "text/plain": [
       "VBox(children=(HBox(children=(VBox(children=(Tree(layout=Layout(align_items='stretch', border='solid 1px black…"
      ]
     },
     "metadata": {},
     "output_type": "display_data"
    }
   ],
   "source": [
    "dic_cor.interact()"
   ]
  },
  {
   "cell_type": "markdown",
   "id": "06c43539",
   "metadata": {},
   "source": [
    "# B1_TV2"
   ]
  },
  {
   "cell_type": "code",
   "execution_count": 12,
   "id": "9bf7d6ff",
   "metadata": {},
   "outputs": [
    {
     "data": {
      "application/vnd.jupyter.widget-view+json": {
       "model_id": "78c932d4f6834ff6989a1bac1fdb485a",
       "version_major": 2,
       "version_minor": 0
      },
      "text/plain": [
       "VBox(children=(HBox(children=(VBox(children=(Tree(layout=Layout(align_items='stretch', border='solid 1px black…"
      ]
     },
     "metadata": {},
     "output_type": "display_data"
    }
   ],
   "source": [
    "dic_grid = DICGrid(n_x=57, n_y=15, d_x = 22, d_y = 22, tart_t = 0, end_t =7, \n",
    "                     U_factor = 60, dir_name='B1_TV2', grid_column_first = False, grid_number_vertical = False)\n",
    "dic_aligned_grid = DICAlignedGrid(dic_grid=dic_grid,\n",
    "                                 y_ref_i = -7, y_ref_j_min=1, y_ref_j_max=10 )\n",
    "dic_cor = DICCOR(dic_aligned_grid=dic_aligned_grid,\n",
    "                 n_x_min = -16, n_x_max = -12, n_x_step=1, n_y_min = 7, n_y_max=-1, n_y_step = 1)\n",
    "dic_cor.interact()"
   ]
  },
  {
   "cell_type": "markdown",
   "id": "f0adcf55",
   "metadata": {},
   "source": [
    "# B6_TV1"
   ]
  },
  {
   "cell_type": "code",
   "execution_count": 13,
   "id": "4df2fbe8",
   "metadata": {},
   "outputs": [
    {
     "data": {
      "application/vnd.jupyter.widget-view+json": {
       "model_id": "7d57292dc564492db6c71759a4db8de1",
       "version_major": 2,
       "version_minor": 0
      },
      "text/plain": [
       "VBox(children=(HBox(children=(VBox(children=(Tree(layout=Layout(align_items='stretch', border='solid 1px black…"
      ]
     },
     "metadata": {},
     "output_type": "display_data"
    }
   ],
   "source": [
    "dic_grid = DICGrid(n_x=58, n_y=15, d_x = 22, d_y = 22, \n",
    "                     start_t = 0, end_t =8, U_factor = 100, dir_name='B6_TV1', grid_column_first = False, \n",
    "                    grid_number_vertical = False)\n",
    "dic_aligned_grid = DICAlignedGrid(dic_grid=dic_grid,\n",
    "                                 y_ref_i=-21, y_ref_j_min=1, y_ref_j_max=7 )\n",
    "dic_cor = DICCOR(dic_aligned_grid=dic_aligned_grid,\n",
    "                 n_x_min = -29, n_x_max = -23, n_x_step=1, n_y_min = 4, n_y_max=8, n_y_step = 1)\n",
    "dic_cor.interact()"
   ]
  },
  {
   "cell_type": "markdown",
   "id": "cba48aaa",
   "metadata": {},
   "source": [
    "# B6_TV2"
   ]
  },
  {
   "cell_type": "code",
   "execution_count": 14,
   "id": "828c5a03",
   "metadata": {},
   "outputs": [
    {
     "data": {
      "application/vnd.jupyter.widget-view+json": {
       "model_id": "3b8f4ccbafe04062a0f4f40e26149842",
       "version_major": 2,
       "version_minor": 0
      },
      "text/plain": [
       "VBox(children=(HBox(children=(VBox(children=(Tree(layout=Layout(align_items='stretch', border='solid 1px black…"
      ]
     },
     "metadata": {},
     "output_type": "display_data"
    }
   ],
   "source": [
    "dic_grid = DICGrid(n_x=57, n_y=13, d_x = 22, d_y = 22, start_t = 0, end_t =-3, U_factor = 100, dir_name='B6_TV2_',\n",
    "                  grid_column_first = False, grid_number_vertical = False)\n",
    "dic_aligned_grid = DICAlignedGrid(dic_grid=dic_grid,\n",
    "                                 y_ref_i = -15, y_ref_j_min=1, y_ref_j_max=10 )\n",
    "dic_cor = DICCOR(dic_aligned_grid=dic_aligned_grid,\n",
    "                 n_x_min = -19, n_x_max = -16, n_x_step=1, n_y_min = 1, n_y_max=8, n_y_step = 1)\n",
    "dic_cor.interact()"
   ]
  },
  {
   "cell_type": "markdown",
   "id": "0a4b531c",
   "metadata": {},
   "source": [
    "# B7_TV1"
   ]
  },
  {
   "cell_type": "code",
   "execution_count": 13,
   "id": "f81508a5",
   "metadata": {},
   "outputs": [
    {
     "data": {
      "application/vnd.jupyter.widget-view+json": {
       "model_id": "5c9ccbbba8614eb49baaa26c57c8bcd0",
       "version_major": 2,
       "version_minor": 0
      },
      "text/plain": [
       "VBox(children=(HBox(children=(VBox(children=(Tree(layout=Layout(align_items='stretch', border='solid 1px black…"
      ]
     },
     "metadata": {},
     "output_type": "display_data"
    }
   ],
   "source": [
    "dic_grid = DICGrid(n_x=58, n_y=14, d_x=22, d_y=22, start_t=0, end_t=17, U_factor=100, dir_name='B7_TV1',\n",
    "                   grid_column_first=False, grid_number_vertical=False)\n",
    "dic_aligned_grid = DICAlignedGrid(dic_grid=dic_grid,\n",
    "                                  y_ref_i=-1, y_ref_j_min=1, y_ref_j_max=10 )\n",
    "dic_cor = DICCOR(dic_aligned_grid=dic_aligned_grid,\n",
    "                 n_x_min = -12, n_x_max = -8, n_x_step=1, n_y_min = 1, n_y_max=10, n_y_step = 1)\n",
    "dic_cor.interact()"
   ]
  },
  {
   "cell_type": "markdown",
   "id": "8459b85c",
   "metadata": {},
   "source": [
    "# B10_TV2"
   ]
  },
  {
   "cell_type": "code",
   "execution_count": 15,
   "id": "1888705e",
   "metadata": {},
   "outputs": [
    {
     "data": {
      "application/vnd.jupyter.widget-view+json": {
       "model_id": "b36211fce24643d08d54bbfa96df7714",
       "version_major": 2,
       "version_minor": 0
      },
      "text/plain": [
       "VBox(children=(HBox(children=(VBox(children=(Tree(layout=Layout(align_items='stretch', border='solid 1px black…"
      ]
     },
     "metadata": {},
     "output_type": "display_data"
    }
   ],
   "source": [
    "dic_grid = DICGrid(n_x=54, n_y=13, d_x = 23, d_y = 23, start_t = 0, end_t =10, U_factor = 100, dir_name='B10_TV2',\n",
    "                  grid_column_first = False, grid_number_vertical = False)\n",
    "dic_aligned_grid = DICAlignedGrid(dic_grid=dic_grid,\n",
    "                                 y_ref_i=-6, y_ref_j_min=1, y_ref_j_max=4)\n",
    "dic_cor = DICCOR(dic_aligned_grid=dic_aligned_grid,\n",
    "                 n_x_min = -11, n_x_max = -8, n_x_step=1, n_y_min = 1, n_y_max=5, n_y_step = 1)\n",
    "dic_cor.interact()"
   ]
  },
  {
   "cell_type": "markdown",
   "id": "50be6ff5",
   "metadata": {},
   "source": [
    "# Beams having grid numbering from top to bottom"
   ]
  },
  {
   "cell_type": "markdown",
   "id": "26fe1939",
   "metadata": {},
   "source": [
    "# B5_TV1"
   ]
  },
  {
   "cell_type": "code",
   "execution_count": 16,
   "id": "1c39397f",
   "metadata": {},
   "outputs": [],
   "source": [
    "dic_grid = DICGrid(n_x=68, n_y=11, d_x = 25, d_y = 25,  \n",
    "                   start_t = 0, end_t =23, U_factor = 100, dir_name='B5_TV1', grid_column_first = True, \n",
    "                   grid_number_vertical = True)\n",
    "dic_aligned_grid = DICAlignedGrid(dic_grid=dic_grid,\n",
    "                                 y_ref_i=-23, y_ref_j_min=1, y_ref_j_max=10)\n",
    "dic_cor = DICCOR(dic_aligned_grid=dic_aligned_grid,\n",
    "                 n_x_min=-30, n_x_max=-27, n_x_step=1, n_y_min = 1, n_y_max=8, n_y_step = 1)"
   ]
  },
  {
   "cell_type": "code",
   "execution_count": 17,
   "id": "7da94bff",
   "metadata": {},
   "outputs": [
    {
     "data": {
      "application/vnd.jupyter.widget-view+json": {
       "model_id": "ff9e638e1e6b43a2bcadd32defa1ee4c",
       "version_major": 2,
       "version_minor": 0
      },
      "text/plain": [
       "VBox(children=(HBox(children=(VBox(children=(Tree(layout=Layout(align_items='stretch', border='solid 1px black…"
      ]
     },
     "metadata": {},
     "output_type": "display_data"
    }
   ],
   "source": [
    "dic_cor.interact()"
   ]
  },
  {
   "cell_type": "markdown",
   "id": "ed53e867",
   "metadata": {},
   "source": [
    "# B5_TV2"
   ]
  },
  {
   "cell_type": "code",
   "execution_count": 18,
   "id": "a955ece9",
   "metadata": {},
   "outputs": [],
   "source": [
    "dic_grid = DICGrid(n_x=71, n_y=12, d_x = 25, d_y = 25,  \n",
    "                   start_t = 0, end_t =20, U_factor = 100, dir_name='B5_TV2', grid_column_first = True, \n",
    "                   grid_number_vertical = True)\n",
    "dic_aligned_grid = DICAlignedGrid(dic_grid=dic_grid,\n",
    "                                 y_ref_i=-26, y_ref_j_min=1, y_ref_j_max=10)\n",
    "dic_cor = DICCOR(dic_aligned_grid=dic_aligned_grid,\n",
    "                 n_x_min=-31, n_x_max=-28, n_x_step=1, n_y_min = 3, n_y_max=10, n_y_step = 1)"
   ]
  },
  {
   "cell_type": "code",
   "execution_count": 19,
   "id": "3b9a4bd8",
   "metadata": {},
   "outputs": [
    {
     "data": {
      "application/vnd.jupyter.widget-view+json": {
       "model_id": "a04c13398dbd4a49a0437b761d851b5f",
       "version_major": 2,
       "version_minor": 0
      },
      "text/plain": [
       "VBox(children=(HBox(children=(VBox(children=(Tree(layout=Layout(align_items='stretch', border='solid 1px black…"
      ]
     },
     "metadata": {},
     "output_type": "display_data"
    }
   ],
   "source": [
    "dic_cor.interact()"
   ]
  },
  {
   "cell_type": "markdown",
   "id": "f6a85c31",
   "metadata": {},
   "source": [
    "# B7_TV2"
   ]
  },
  {
   "cell_type": "code",
   "execution_count": 20,
   "id": "2002e534",
   "metadata": {},
   "outputs": [],
   "source": [
    "dic_grid = DICGrid(n_x=53, n_y=12, d_x = 23, d_y = 23,  \n",
    "                   start_t = 0, end_t =15, U_factor = 100, dir_name='B7_TV2', grid_column_first = True, \n",
    "                   grid_number_vertical = True)\n",
    "dic_aligned_grid = DICAlignedGrid(dic_grid=dic_grid,\n",
    "                                 y_ref_i=-28, y_ref_j_min=1, y_ref_j_max=10)\n",
    "dic_cor = DICCOR(dic_aligned_grid=dic_aligned_grid,\n",
    "                 n_x_min = 1, n_x_max = 12, n_x_step=1, n_y_min = 1, n_y_max=-1, n_y_step = 1)"
   ]
  },
  {
   "cell_type": "code",
   "execution_count": 21,
   "id": "43f43ff3",
   "metadata": {},
   "outputs": [
    {
     "data": {
      "application/vnd.jupyter.widget-view+json": {
       "model_id": "6a13aa2f459a40cdbb15da4351ff6d3b",
       "version_major": 2,
       "version_minor": 0
      },
      "text/plain": [
       "VBox(children=(HBox(children=(VBox(children=(Tree(layout=Layout(align_items='stretch', border='solid 1px black…"
      ]
     },
     "metadata": {},
     "output_type": "display_data"
    }
   ],
   "source": [
    "dic_cor.interact()"
   ]
  },
  {
   "cell_type": "markdown",
   "id": "eb6aa837",
   "metadata": {},
   "source": [
    "# B8_TV1"
   ]
  },
  {
   "cell_type": "code",
   "execution_count": 22,
   "id": "a4ba4bb8",
   "metadata": {},
   "outputs": [],
   "source": [
    "dic_grid = DICGrid(n_x=56, n_y=13, d_x = 23, d_y = 23,  \n",
    "                   start_t = 0, end_t =14, U_factor = 100, dir_name='B8_TV1', grid_column_first = True, \n",
    "                   grid_number_vertical = True)\n",
    "dic_aligned_grid = DICAlignedGrid(dic_grid=dic_grid,\n",
    "                                 y_ref_i=-33, y_ref_j_min=1, y_ref_j_max=8)\n",
    "dic_cor = DICCOR(dic_aligned_grid=dic_aligned_grid,\n",
    "                 n_x_min=1, n_x_max=15, n_x_step=1, n_y_min = 2, n_y_max=12, n_y_step = 1)"
   ]
  },
  {
   "cell_type": "code",
   "execution_count": 23,
   "id": "2301fcc4",
   "metadata": {},
   "outputs": [
    {
     "data": {
      "application/vnd.jupyter.widget-view+json": {
       "model_id": "36ae89b78314404c9014a3ce8f1ba19c",
       "version_major": 2,
       "version_minor": 0
      },
      "text/plain": [
       "VBox(children=(HBox(children=(VBox(children=(Tree(layout=Layout(align_items='stretch', border='solid 1px black…"
      ]
     },
     "metadata": {},
     "output_type": "display_data"
    }
   ],
   "source": [
    "dic_cor.interact()"
   ]
  },
  {
   "cell_type": "markdown",
   "id": "e31ea5fe",
   "metadata": {},
   "source": [
    "# B8_TV2"
   ]
  },
  {
   "cell_type": "code",
   "execution_count": 24,
   "id": "8a458195",
   "metadata": {},
   "outputs": [],
   "source": [
    "dic_grid = DICGrid(n_x=56, n_y=14, d_x = 23, d_y = 23,  \n",
    "                   start_t = 0, end_t =14, U_factor = 100, dir_name='B8_TV2', grid_column_first = True, \n",
    "                   grid_number_vertical = True)\n",
    "dic_aligned_grid = DICAlignedGrid(dic_grid=dic_grid,\n",
    "                                 y_ref_i=-8, y_ref_j_min=1, y_ref_j_max=10)\n",
    "dic_cor = DICCOR(dic_aligned_grid=dic_aligned_grid,\n",
    "                 n_x_min = -16, n_x_max = -13, n_x_step=1, n_y_min = 5, n_y_max=11, n_y_step = 1)"
   ]
  },
  {
   "cell_type": "code",
   "execution_count": 25,
   "id": "a027de26",
   "metadata": {},
   "outputs": [
    {
     "data": {
      "application/vnd.jupyter.widget-view+json": {
       "model_id": "bc0312114dfc43e9b9779bb41777b8ce",
       "version_major": 2,
       "version_minor": 0
      },
      "text/plain": [
       "VBox(children=(HBox(children=(VBox(children=(Tree(layout=Layout(align_items='stretch', border='solid 1px black…"
      ]
     },
     "metadata": {},
     "output_type": "display_data"
    }
   ],
   "source": [
    "dic_cor.interact()"
   ]
  },
  {
   "cell_type": "markdown",
   "id": "a59901d5",
   "metadata": {},
   "source": [
    "# B9_TV1"
   ]
  },
  {
   "cell_type": "code",
   "execution_count": 28,
   "id": "2d3f3366",
   "metadata": {},
   "outputs": [],
   "source": [
    "dic_grid = DICGrid(n_x=54, n_y=12, d_x = 23, d_y = 23, start_t = 0, end_t =19, U_factor = 100, dir_name='B9_TV1_',\n",
    "                  grid_column_first = True, grid_number_vertical = True)\n",
    "dic_aligned_grid = DICAlignedGrid(dic_grid=dic_grid,\n",
    "                                 y_ref_i=-33, y_ref_j_min=1, y_ref_j_max=6)\n",
    "dic_cor = DICCOR(dic_aligned_grid=dic_aligned_grid,\n",
    "                 n_x_min=1, n_x_max=14, n_x_step=1, n_y_min = 1, n_y_max=10, n_y_step = 1)"
   ]
  },
  {
   "cell_type": "code",
   "execution_count": 29,
   "id": "c921c1d2",
   "metadata": {},
   "outputs": [
    {
     "data": {
      "application/vnd.jupyter.widget-view+json": {
       "model_id": "45326cf78c6d453888a953234c01e388",
       "version_major": 2,
       "version_minor": 0
      },
      "text/plain": [
       "VBox(children=(HBox(children=(VBox(children=(Tree(layout=Layout(align_items='stretch', border='solid 1px black…"
      ]
     },
     "metadata": {},
     "output_type": "display_data"
    }
   ],
   "source": [
    "dic_cor.interact()"
   ]
  },
  {
   "cell_type": "markdown",
   "id": "37cf4030",
   "metadata": {},
   "source": [
    "# B9_TV2"
   ]
  },
  {
   "cell_type": "code",
   "execution_count": 34,
   "id": "6a9b5eea",
   "metadata": {},
   "outputs": [],
   "source": [
    "dic_grid = DICGrid(n_x=57, n_y=13, d_x = 22, d_y = 22,  \n",
    "                   start_t = 0, end_t =13, U_factor = 100, dir_name='B9_TV2', grid_column_first = True, \n",
    "                   grid_number_vertical = True)\n",
    "dic_aligned_grid = DICAlignedGrid(dic_grid=dic_grid,\n",
    "                                 y_ref_i=-33, y_ref_j_min=1, y_ref_j_max=8)\n",
    "dic_cor = DICCOR(dic_aligned_grid=dic_aligned_grid,\n",
    "                 n_x_min=1, n_x_max=14, n_x_step=1, n_y_min = 1, n_y_max=10, n_y_step = 1)"
   ]
  },
  {
   "cell_type": "code",
   "execution_count": 35,
   "id": "57f0cc04",
   "metadata": {},
   "outputs": [
    {
     "data": {
      "application/vnd.jupyter.widget-view+json": {
       "model_id": "36af8eb347c4479d8c4e19abd2a2d00f",
       "version_major": 2,
       "version_minor": 0
      },
      "text/plain": [
       "VBox(children=(HBox(children=(VBox(children=(Tree(layout=Layout(align_items='stretch', border='solid 1px black…"
      ]
     },
     "metadata": {},
     "output_type": "display_data"
    }
   ],
   "source": [
    "dic_cor.interact()"
   ]
  },
  {
   "cell_type": "markdown",
   "id": "3afc9598",
   "metadata": {},
   "source": [
    "# B10_TV1"
   ]
  },
  {
   "cell_type": "code",
   "execution_count": 37,
   "id": "59bf09f3",
   "metadata": {},
   "outputs": [],
   "source": [
    "dic_grid = DICGrid(n_x=57, n_y=14, d_x = 22, d_y = 22,  \n",
    "                   start_t = 0, end_t =15, U_factor = 100, dir_name='B10_TV1', grid_column_first = True, \n",
    "                   grid_number_vertical = True)\n",
    "dic_aligned_grid = DICAlignedGrid(dic_grid=dic_grid,\n",
    "                                 y_ref_i=-14, y_ref_j_min=1, y_ref_j_max=10)\n",
    "dic_cor = DICCOR(dic_aligned_grid=dic_aligned_grid,\n",
    "                 n_x_min = -25, n_x_max = -22, n_x_step=1, n_y_min = 5, n_y_max=10, n_y_step = 1)"
   ]
  },
  {
   "cell_type": "code",
   "execution_count": 38,
   "id": "89ac8df3",
   "metadata": {},
   "outputs": [
    {
     "data": {
      "application/vnd.jupyter.widget-view+json": {
       "model_id": "36797e457cc549cdaa0ffa9c8d1da96a",
       "version_major": 2,
       "version_minor": 0
      },
      "text/plain": [
       "VBox(children=(HBox(children=(VBox(children=(Tree(layout=Layout(align_items='stretch', border='solid 1px black…"
      ]
     },
     "metadata": {},
     "output_type": "display_data"
    }
   ],
   "source": [
    "dic_cor.interact()"
   ]
  },
  {
   "cell_type": "code",
   "execution_count": 34,
   "id": "b26db531",
   "metadata": {},
   "outputs": [
    {
     "data": {
      "text/plain": [
       "array([0])"
      ]
     },
     "execution_count": 34,
     "metadata": {},
     "output_type": "execute_result"
    }
   ],
   "source": [
    "import numpy as np\n",
    "x = np.array([0, 1, 2, 3, 4, 5, 6, 7, 8, 9])\n",
    "x[:1]"
   ]
  },
  {
   "cell_type": "code",
   "execution_count": null,
   "id": "b6f731ab",
   "metadata": {},
   "outputs": [],
   "source": []
  }
 ],
 "metadata": {
  "kernelspec": {
   "display_name": "bmcs_env",
   "language": "python",
   "name": "bmcs_env"
  },
  "language_info": {
   "codemirror_mode": {
    "name": "ipython",
    "version": 3
   },
   "file_extension": ".py",
   "mimetype": "text/x-python",
   "name": "python",
   "nbconvert_exporter": "python",
   "pygments_lexer": "ipython3",
   "version": "3.8.8"
  }
 },
 "nbformat": 4,
 "nbformat_minor": 5
}
