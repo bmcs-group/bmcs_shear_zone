{
 "cells": [
  {
   "cell_type": "markdown",
   "id": "76da2ba7-901d-445c-881e-ea4fba13aac1",
   "metadata": {},
   "source": [
    "# DIC shear zone inspector  DICCI"
   ]
  },
  {
   "cell_type": "markdown",
   "id": "6447463a-94a9-407e-95aa-80da07a6db3e",
   "metadata": {},
   "source": [
    "## Notebook for the development of the model components:\n",
    "\n",
    "- DICHistory \n",
    "  - reads the n files and generants a list of n-1 DICIncrement\n",
    "  - provides the grid of `X_ija` - initial spatial coordinates\n",
    "  - provides the grids of total displacements `U_tija`\n",
    "- DICIncrement\n",
    "  - has a backward link to the History and provides the \n",
    "  - it has also an index to the relevant time step\n",
    "  - displacement u including the rigid body motion, \n",
    "  - displacement rot_u without rigid body motion\n",
    "  - vector perp_u - perpendicular to rot_u"
   ]
  },
  {
   "cell_type": "code",
   "execution_count": 1,
   "id": "6814f4bd-5566-4c9b-aaac-234dcb367ef9",
   "metadata": {},
   "outputs": [],
   "source": [
    "%matplotlib widget"
   ]
  },
  {
   "cell_type": "code",
   "execution_count": 2,
   "id": "262043d7-7f35-4077-b475-3f170e2acbce",
   "metadata": {},
   "outputs": [],
   "source": [
    "from bmcs_shear.dic_crack import DICCrack, DICCOR"
   ]
  },
  {
   "cell_type": "code",
   "execution_count": 3,
   "id": "75105e31-986a-4ef0-8b82-be320b40a2a2",
   "metadata": {},
   "outputs": [],
   "source": [
    "dic_crack = DICCrack(n_x=35, n_y=24, U_factor=10, dir_name='B1_TV1')"
   ]
  },
  {
   "cell_type": "code",
   "execution_count": 4,
   "id": "2ba9af99-356c-4491-bf0c-c822222642b9",
   "metadata": {},
   "outputs": [
    {
     "data": {
      "text/plain": [
       "-0.0008837743654872898"
      ]
     },
     "execution_count": 4,
     "metadata": {},
     "output_type": "execute_result"
    }
   ],
   "source": [
    "dic_crack.delta_alpha"
   ]
  },
  {
   "cell_type": "code",
   "execution_count": 5,
   "id": "ff19ba13-3f31-441f-920a-03f4cb93a89c",
   "metadata": {},
   "outputs": [
    {
     "data": {
      "text/plain": [
       "array([[ 9.99999609e-01,  8.83774250e-04],\n",
       "       [-8.83774250e-04,  9.99999609e-01]])"
      ]
     },
     "execution_count": 5,
     "metadata": {},
     "output_type": "execute_result"
    }
   ],
   "source": [
    "dic_crack.T_ab"
   ]
  },
  {
   "cell_type": "code",
   "execution_count": 6,
   "id": "a72e6077-e7e5-4c60-b347-ec5822b4f736",
   "metadata": {},
   "outputs": [
    {
     "data": {
      "application/vnd.jupyter.widget-view+json": {
       "model_id": "38b7a386a3524aa39bef366238368af7",
       "version_major": 2,
       "version_minor": 0
      },
      "text/plain": [
       "VBox(children=(HBox(children=(VBox(children=(Tree(layout=Layout(align_items='stretch', border='solid 1px black…"
      ]
     },
     "metadata": {},
     "output_type": "display_data"
    }
   ],
   "source": [
    "dic_crack.interact()"
   ]
  },
  {
   "cell_type": "code",
   "execution_count": 9,
   "id": "4f47b13a-1caa-4a57-ac06-933fdde3ac09",
   "metadata": {},
   "outputs": [],
   "source": [
    "dic_cor = DICCOR( dic_crack=dic_crack,\n",
    "                n_y_min=0)"
   ]
  },
  {
   "cell_type": "code",
   "execution_count": 10,
   "id": "0bc0bc08-0f66-4fa5-a42c-b22c2353edd2",
   "metadata": {},
   "outputs": [
    {
     "data": {
      "application/vnd.jupyter.widget-view+json": {
       "model_id": "c678a6857ddc42eab2479016d02c2347",
       "version_major": 2,
       "version_minor": 0
      },
      "text/plain": [
       "VBox(children=(HBox(children=(VBox(children=(Tree(layout=Layout(align_items='stretch', border='solid 1px black…"
      ]
     },
     "metadata": {},
     "output_type": "display_data"
    }
   ],
   "source": [
    "dic_cor.interact()"
   ]
  },
  {
   "cell_type": "code",
   "execution_count": null,
   "id": "26b59dc5-64f9-48fb-be83-900ab509d50e",
   "metadata": {},
   "outputs": [],
   "source": []
  },
  {
   "cell_type": "markdown",
   "id": "7d0a75d3-5ac2-4195-905d-ea4955011edf",
   "metadata": {},
   "source": []
  },
  {
   "cell_type": "markdown",
   "id": "d0937b30-ab23-43d9-a714-8dc10c81c92d",
   "metadata": {},
   "source": []
  }
 ],
 "metadata": {
  "kernelspec": {
   "display_name": "bmcs_env",
   "language": "python",
   "name": "bmcs_env"
  },
  "language_info": {
   "codemirror_mode": {
    "name": "ipython",
    "version": 3
   },
   "file_extension": ".py",
   "mimetype": "text/x-python",
   "name": "python",
   "nbconvert_exporter": "python",
   "pygments_lexer": "ipython3",
   "version": "3.8.8"
  }
 },
 "nbformat": 4,
 "nbformat_minor": 5
}
