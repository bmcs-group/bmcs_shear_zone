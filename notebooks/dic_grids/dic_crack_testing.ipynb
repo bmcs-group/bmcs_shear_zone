{
 "cells": [
  {
   "cell_type": "code",
   "execution_count": 1,
   "id": "6814f4bd-5566-4c9b-aaac-234dcb367ef9",
   "metadata": {},
   "outputs": [],
   "source": [
    "%matplotlib widget"
   ]
  },
  {
   "cell_type": "code",
   "execution_count": 2,
   "id": "262043d7-7f35-4077-b475-3f170e2acbce",
   "metadata": {},
   "outputs": [],
   "source": [
    "from bmcs_shear.dic_crack import DICCrack, DICCOR"
   ]
  },
  {
   "cell_type": "code",
   "execution_count": 3,
   "id": "75105e31-986a-4ef0-8b82-be320b40a2a2",
   "metadata": {},
   "outputs": [],
   "source": [
    "dic_crack = DICCrack(n_x=35, n_y=24, dir_name='B1_TV1')"
   ]
  },
  {
   "cell_type": "code",
   "execution_count": 4,
   "id": "4f47b13a-1caa-4a57-ac06-933fdde3ac09",
   "metadata": {},
   "outputs": [],
   "source": [
    "dic_cor = DICCOR( dic_crack=dic_crack)"
   ]
  },
  {
   "cell_type": "code",
   "execution_count": 5,
   "id": "1127c7f1-5802-457f-98fb-9eccf905c6fe",
   "metadata": {},
   "outputs": [
    {
     "data": {
      "application/vnd.jupyter.widget-view+json": {
       "model_id": "b98707d40f2b47c98172e551b6aa1cd7",
       "version_major": 2,
       "version_minor": 0
      },
      "text/plain": [
       "VBox(children=(HBox(children=(VBox(children=(Tree(layout=Layout(align_items='stretch', border='solid 1px black…"
      ]
     },
     "metadata": {},
     "output_type": "display_data"
    }
   ],
   "source": [
    "dic_cor.interact()"
   ]
  },
  {
   "cell_type": "code",
   "execution_count": null,
   "id": "26b59dc5-64f9-48fb-be83-900ab509d50e",
   "metadata": {},
   "outputs": [],
   "source": []
  },
  {
   "cell_type": "code",
   "execution_count": null,
   "id": "c6817a4e-9ebe-422c-98cb-d5ac26766300",
   "metadata": {},
   "outputs": [],
   "source": []
  }
 ],
 "metadata": {
  "kernelspec": {
   "display_name": "bmcs_env",
   "language": "python",
   "name": "bmcs_env"
  },
  "language_info": {
   "codemirror_mode": {
    "name": "ipython",
    "version": 3
   },
   "file_extension": ".py",
   "mimetype": "text/x-python",
   "name": "python",
   "nbconvert_exporter": "python",
   "pygments_lexer": "ipython3",
   "version": "3.8.8"
  }
 },
 "nbformat": 4,
 "nbformat_minor": 5
}
