{
 "cells": [
  {
   "cell_type": "code",
   "execution_count": 1,
   "id": "5177fdb0",
   "metadata": {},
   "outputs": [],
   "source": [
    "import bmcs_utils.api as bu\n",
    "import traits.api as tr\n",
    "import numpy as np\n",
    "import ibvpy.api as ib\n",
    "import numpy as np"
   ]
  },
  {
   "cell_type": "code",
   "execution_count": 2,
   "id": "f55cd679",
   "metadata": {},
   "outputs": [],
   "source": [
    "fe_grid = tr.Property(bu.Instance(ib.XDomainFEGrid), depends_on='state_changed')\n",
    "n_x, n_y = 10, 10\n",
    "L_x, L_y = 10, 10\n",
    "ib.XDomainFEGrid(coord_min=(L_x, 0),\n",
    "                coord_max=(0, L_y),\n",
    "                integ_factor=1,\n",
    "                shape=(n_x-1, n_y-1), # number of elements!\n",
    "                fets=ib.FETS2D4Q());"
   ]
  },
  {
   "cell_type": "code",
   "execution_count": 3,
   "id": "243563c8",
   "metadata": {},
   "outputs": [
    {
     "name": "stdout",
     "output_type": "stream",
     "text": [
      "<ibvpy.xmodel.xdomain_fe_grid.XDomainFEGrid object at 0x00000144DD1CD3B0>\n"
     ]
    }
   ],
   "source": [
    "print(ib.XDomainFEGrid(coord_min=(L_x, 0),\n",
    "                coord_max=(0, L_y),\n",
    "                integ_factor=1,\n",
    "                shape=(n_x-1, n_y-1), # number of elements!\n",
    "                fets=ib.FETS2D4Q()))"
   ]
  },
  {
   "cell_type": "code",
   "execution_count": 4,
   "id": "3daecfa6",
   "metadata": {},
   "outputs": [],
   "source": [
    "from bmcs_shear.dic_crack import DICGrid, DICAlignedGrid, DICCOR, DICInspector, DICCrack"
   ]
  },
  {
   "cell_type": "code",
   "execution_count": 16,
   "id": "05e82f45",
   "metadata": {},
   "outputs": [
    {
     "data": {
      "text/plain": [
       "'C:\\\\Users\\\\fahad\\\\simdb\\\\data\\\\shear_zone\\\\B1_TV1'"
      ]
     },
     "execution_count": 16,
     "metadata": {},
     "output_type": "execute_result"
    }
   ],
   "source": [
    "from os.path import expanduser, join\n",
    "import os\n",
    "home_dir = expanduser('~')\n",
    "data_dir = join(home_dir,'simdb','data','shear_zone','B1_TV1')\n",
    "data_dir"
   ]
  },
  {
   "cell_type": "code",
   "execution_count": 15,
   "id": "a4178acd",
   "metadata": {},
   "outputs": [
    {
     "data": {
      "text/plain": [
       "['C:\\\\Users\\\\fahad\\\\simdb\\\\data\\\\shear_zone\\\\B1_TV1\\\\Step_01_Load_000_KN.csv',\n",
       " 'C:\\\\Users\\\\fahad\\\\simdb\\\\data\\\\shear_zone\\\\B1_TV1\\\\Step_02_Load_013_KN.csv',\n",
       " 'C:\\\\Users\\\\fahad\\\\simdb\\\\data\\\\shear_zone\\\\B1_TV1\\\\Step_03_Load_024_KN.csv',\n",
       " 'C:\\\\Users\\\\fahad\\\\simdb\\\\data\\\\shear_zone\\\\B1_TV1\\\\Step_04_Load_039_KN.csv',\n",
       " 'C:\\\\Users\\\\fahad\\\\simdb\\\\data\\\\shear_zone\\\\B1_TV1\\\\Step_05_Load_050_KN.csv',\n",
       " 'C:\\\\Users\\\\fahad\\\\simdb\\\\data\\\\shear_zone\\\\B1_TV1\\\\Step_06_Load_066_KN.csv',\n",
       " 'C:\\\\Users\\\\fahad\\\\simdb\\\\data\\\\shear_zone\\\\B1_TV1\\\\Step_07_Load_077_KN.csv',\n",
       " 'C:\\\\Users\\\\fahad\\\\simdb\\\\data\\\\shear_zone\\\\B1_TV1\\\\Step_08_Load_087_KN.csv',\n",
       " 'C:\\\\Users\\\\fahad\\\\simdb\\\\data\\\\shear_zone\\\\B1_TV1\\\\Step_09_Load_103_KN.csv',\n",
       " 'C:\\\\Users\\\\fahad\\\\simdb\\\\data\\\\shear_zone\\\\B1_TV1\\\\Step_10_Load_113_KN.csv',\n",
       " 'C:\\\\Users\\\\fahad\\\\simdb\\\\data\\\\shear_zone\\\\B1_TV1\\\\Step_11_Load_125_KN.csv',\n",
       " 'C:\\\\Users\\\\fahad\\\\simdb\\\\data\\\\shear_zone\\\\B1_TV1\\\\Step_12_Load_136_KN.csv',\n",
       " 'C:\\\\Users\\\\fahad\\\\simdb\\\\data\\\\shear_zone\\\\B1_TV1\\\\Step_13_Load_150_KN.csv',\n",
       " 'C:\\\\Users\\\\fahad\\\\simdb\\\\data\\\\shear_zone\\\\B1_TV1\\\\Step_14_Load_163_KN.csv',\n",
       " 'C:\\\\Users\\\\fahad\\\\simdb\\\\data\\\\shear_zone\\\\B1_TV1\\\\Step_15_Load_175_KN.csv',\n",
       " 'C:\\\\Users\\\\fahad\\\\simdb\\\\data\\\\shear_zone\\\\B1_TV1\\\\Step_16_Load_170_KN.csv',\n",
       " 'C:\\\\Users\\\\fahad\\\\simdb\\\\data\\\\shear_zone\\\\B1_TV1\\\\Step_17_Load_169_KN.csv',\n",
       " 'C:\\\\Users\\\\fahad\\\\simdb\\\\data\\\\shear_zone\\\\B1_TV1\\\\Step_18_Load_175_KN.csv',\n",
       " 'C:\\\\Users\\\\fahad\\\\simdb\\\\data\\\\shear_zone\\\\B1_TV1\\\\Step_19_Load_183_KN.csv',\n",
       " 'C:\\\\Users\\\\fahad\\\\simdb\\\\data\\\\shear_zone\\\\B1_TV1\\\\Step_20_Load_191_KN.csv',\n",
       " 'C:\\\\Users\\\\fahad\\\\simdb\\\\data\\\\shear_zone\\\\B1_TV1\\\\Step_21_load_194.541_KN.csv',\n",
       " 'C:\\\\Users\\\\fahad\\\\simdb\\\\data\\\\shear_zone\\\\B1_TV1\\\\Step_22_Load_194.738_KN.csv',\n",
       " 'C:\\\\Users\\\\fahad\\\\simdb\\\\data\\\\shear_zone\\\\B1_TV1\\\\Step_23_Load_194.915_KN.csv',\n",
       " 'C:\\\\Users\\\\fahad\\\\simdb\\\\data\\\\shear_zone\\\\B1_TV1\\\\Step_24_Load_195.120_KN.csv',\n",
       " 'C:\\\\Users\\\\fahad\\\\simdb\\\\data\\\\shear_zone\\\\B1_TV1\\\\Step_25_Load_195.215_KN.csv',\n",
       " 'C:\\\\Users\\\\fahad\\\\simdb\\\\data\\\\shear_zone\\\\B1_TV1\\\\Step_26_Load_195.384_KN.csv',\n",
       " 'C:\\\\Users\\\\fahad\\\\simdb\\\\data\\\\shear_zone\\\\B1_TV1\\\\Step_27_Load_195.549_KN.csv',\n",
       " 'C:\\\\Users\\\\fahad\\\\simdb\\\\data\\\\shear_zone\\\\B1_TV1\\\\Step_28_Load_195.566_KN.csv',\n",
       " 'C:\\\\Users\\\\fahad\\\\simdb\\\\data\\\\shear_zone\\\\B1_TV1\\\\Step_29_Load_195.178_KN.csv',\n",
       " 'C:\\\\Users\\\\fahad\\\\simdb\\\\data\\\\shear_zone\\\\B1_TV1\\\\Step_30_Load_194.719_KN.csv',\n",
       " 'C:\\\\Users\\\\fahad\\\\simdb\\\\data\\\\shear_zone\\\\B1_TV1\\\\Step_31_Load_194_KN.csv',\n",
       " 'C:\\\\Users\\\\fahad\\\\simdb\\\\data\\\\shear_zone\\\\B1_TV1\\\\Step_32_Load_191_KN.csv']"
      ]
     },
     "execution_count": 15,
     "metadata": {},
     "output_type": "execute_result"
    }
   ],
   "source": [
    "results = [join(data_dir,each) \n",
    "           for each in sorted(os.listdir(data_dir)) \n",
    "           if each.endswith('.csv')]\n",
    "results"
   ]
  },
  {
   "cell_type": "code",
   "execution_count": 18,
   "id": "4fae1e2c",
   "metadata": {},
   "outputs": [
    {
     "data": {
      "text/plain": [
       "array([[0., 0.],\n",
       "       [0., 0.],\n",
       "       [0., 0.],\n",
       "       ...,\n",
       "       [0., 0.],\n",
       "       [0., 0.],\n",
       "       [0., 0.]])"
      ]
     },
     "execution_count": 18,
     "metadata": {},
     "output_type": "execute_result"
    }
   ],
   "source": [
    "np.loadtxt(results[0], dtype=float, \n",
    "            skiprows=1, delimiter=',', usecols=(2,3), unpack=False)"
   ]
  },
  {
   "cell_type": "code",
   "execution_count": 24,
   "id": "4401071a",
   "metadata": {},
   "outputs": [],
   "source": [
    "files = [join(data_dir, each)\n",
    "               for each in sorted(os.listdir(data_dir))\n",
    "               if each.endswith('.csv')]"
   ]
  },
  {
   "cell_type": "code",
   "execution_count": 25,
   "id": "7b6df4f5",
   "metadata": {},
   "outputs": [
    {
     "data": {
      "text/plain": [
       "array([[[  0.   ,   0.   ],\n",
       "        [  0.   ,   0.   ],\n",
       "        [  0.   ,   0.   ],\n",
       "        ...,\n",
       "        [  0.   ,   0.   ],\n",
       "        [  0.   ,   0.   ],\n",
       "        [  0.   ,   0.   ]],\n",
       "\n",
       "       [[  0.437,  -0.225],\n",
       "        [  0.43 ,  -0.218],\n",
       "        [  0.426,  -0.212],\n",
       "        ...,\n",
       "        [  0.431,  -0.285],\n",
       "        [  0.436,  -0.283],\n",
       "        [  0.436,  -0.278]],\n",
       "\n",
       "       [[  0.51 ,  -0.36 ],\n",
       "        [  0.485,  -0.362],\n",
       "        [  0.496,  -0.365],\n",
       "        ...,\n",
       "        [  0.436,  -0.615],\n",
       "        [  0.436,  -0.607],\n",
       "        [  0.447,  -0.611]],\n",
       "\n",
       "       ...,\n",
       "\n",
       "       [[  1.854,  -1.189],\n",
       "        [  1.847,  -1.382],\n",
       "        [  1.847,  -1.595],\n",
       "        ...,\n",
       "        [ -0.441, -10.489],\n",
       "        [ -0.396, -10.526],\n",
       "        [ -0.364, -10.535]],\n",
       "\n",
       "       [[  1.832,  -1.187],\n",
       "        [  1.839,  -1.382],\n",
       "        [  1.853,  -1.593],\n",
       "        ...,\n",
       "        [ -0.445, -10.505],\n",
       "        [ -0.41 , -10.526],\n",
       "        [ -0.364, -10.545]],\n",
       "\n",
       "       [[  1.835,  -1.183],\n",
       "        [  1.832,  -1.374],\n",
       "        [  1.835,  -1.575],\n",
       "        ...,\n",
       "        [ -0.439, -10.551],\n",
       "        [ -0.4  , -10.567],\n",
       "        [ -0.358, -10.577]]])"
      ]
     },
     "execution_count": 25,
     "metadata": {},
     "output_type": "execute_result"
    }
   ],
   "source": [
    "u_tpa = np.array([\n",
    "            np.loadtxt(csv_file, dtype=float,\n",
    "                       skiprows=1, delimiter=',', usecols=(2,3), unpack=False)\n",
    "            for csv_file in files\n",
    "        ], dtype=np.float_)\n",
    "u_tpa"
   ]
  },
  {
   "cell_type": "code",
   "execution_count": 28,
   "id": "997b7b8a",
   "metadata": {},
   "outputs": [],
   "source": [
    "n_t, n_e, n_a = u_tpa.shape # get the dimensions of the time and entry dimensions\n",
    "n_x, n_y = 59, 15"
   ]
  },
  {
   "cell_type": "code",
   "execution_count": 42,
   "id": "7513415d",
   "metadata": {},
   "outputs": [],
   "source": [
    "u_tjia = u_tpa.reshape(n_t, n_y, n_x, 2) # for numbering from bottom right to left\n",
    "u_tija = np.einsum('tjia->tija', u_tjia)\n",
    "u_val = u_tija"
   ]
  },
  {
   "cell_type": "code",
   "execution_count": 43,
   "id": "d929518a",
   "metadata": {},
   "outputs": [],
   "source": [
    "dic_grid = DICGrid()\n",
    "end_t = dic_grid.end_t\n",
    "u_ija = u_tjia[end_t]\n",
    "U_Ia = u_ija.reshape(-1, 2)\n",
    "U_o = U_Ia.flatten()"
   ]
  },
  {
   "cell_type": "code",
   "execution_count": 48,
   "id": "882534d3",
   "metadata": {},
   "outputs": [
    {
     "ename": "AttributeError",
     "evalue": "'ForwardProperty' object has no attribute 'o_Eia'",
     "output_type": "error",
     "traceback": [
      "\u001b[1;31m---------------------------------------------------------------------------\u001b[0m",
      "\u001b[1;31mAttributeError\u001b[0m                            Traceback (most recent call last)",
      "\u001b[1;32m~\\AppData\\Local\\Temp/ipykernel_22996/426047505.py\u001b[0m in \u001b[0;36m<module>\u001b[1;34m\u001b[0m\n\u001b[0;32m      1\u001b[0m \u001b[0mfe_grid\u001b[0m \u001b[1;33m=\u001b[0m \u001b[0mtr\u001b[0m\u001b[1;33m.\u001b[0m\u001b[0mProperty\u001b[0m\u001b[1;33m(\u001b[0m\u001b[0mbu\u001b[0m\u001b[1;33m.\u001b[0m\u001b[0mInstance\u001b[0m\u001b[1;33m(\u001b[0m\u001b[0mib\u001b[0m\u001b[1;33m.\u001b[0m\u001b[0mXDomainFEGrid\u001b[0m\u001b[1;33m)\u001b[0m\u001b[1;33m,\u001b[0m \u001b[0mdepends_on\u001b[0m\u001b[1;33m=\u001b[0m\u001b[1;34m'state_changed'\u001b[0m\u001b[1;33m)\u001b[0m\u001b[1;33m\u001b[0m\u001b[1;33m\u001b[0m\u001b[0m\n\u001b[0;32m      2\u001b[0m \u001b[0mU_o\u001b[0m \u001b[1;33m=\u001b[0m \u001b[0mU_o\u001b[0m\u001b[1;33m\u001b[0m\u001b[1;33m\u001b[0m\u001b[0m\n\u001b[1;32m----> 3\u001b[1;33m \u001b[0mU_Eia\u001b[0m \u001b[1;33m=\u001b[0m \u001b[0mU_o\u001b[0m\u001b[1;33m[\u001b[0m\u001b[0mfe_grid\u001b[0m\u001b[1;33m.\u001b[0m\u001b[0mo_Eia\u001b[0m\u001b[1;33m]\u001b[0m\u001b[1;33m\u001b[0m\u001b[1;33m\u001b[0m\u001b[0m\n\u001b[0m\u001b[0;32m      4\u001b[0m \u001b[1;31m#u_Ema = np.einsum('im,Eia->Ema', self.fe_grid.fets.N_im, U_Eia)\u001b[0m\u001b[1;33m\u001b[0m\u001b[1;33m\u001b[0m\u001b[0m\n\u001b[0;32m      5\u001b[0m \u001b[1;31m#u_Ea = np.average(u_Ema, axis=1)\u001b[0m\u001b[1;33m\u001b[0m\u001b[1;33m\u001b[0m\u001b[0m\n",
      "\u001b[1;31mAttributeError\u001b[0m: 'ForwardProperty' object has no attribute 'o_Eia'"
     ]
    }
   ],
   "source": [
    "fe_grid = tr.Property(bu.Instance(ib.XDomainFEGrid), depends_on='state_changed')\n",
    "U_o = U_o\n",
    "U_Eia = U_o[fe_grid.o_Eia]\n",
    "#u_Ema = np.einsum('im,Eia->Ema', self.fe_grid.fets.N_im, U_Eia)\n",
    "#u_Ea = np.average(u_Ema, axis=1)"
   ]
  },
  {
   "cell_type": "code",
   "execution_count": 45,
   "id": "5a363461",
   "metadata": {},
   "outputs": [
    {
     "ename": "NameError",
     "evalue": "name 'U_Eia' is not defined",
     "output_type": "error",
     "traceback": [
      "\u001b[1;31m---------------------------------------------------------------------------\u001b[0m",
      "\u001b[1;31mNameError\u001b[0m                                 Traceback (most recent call last)",
      "\u001b[1;32m~\\AppData\\Local\\Temp/ipykernel_22996/414172216.py\u001b[0m in \u001b[0;36m<module>\u001b[1;34m\u001b[0m\n\u001b[1;32m----> 1\u001b[1;33m \u001b[0mU_Eia\u001b[0m\u001b[1;33m\u001b[0m\u001b[1;33m\u001b[0m\u001b[0m\n\u001b[0m",
      "\u001b[1;31mNameError\u001b[0m: name 'U_Eia' is not defined"
     ]
    }
   ],
   "source": [
    "U_Eia"
   ]
  },
  {
   "cell_type": "code",
   "execution_count": 1,
   "id": "01665807",
   "metadata": {},
   "outputs": [
    {
     "data": {
      "text/plain": [
       "'C:\\\\Users\\\\fahad\\\\simdb\\\\data\\\\shear_zone\\\\load_deflection'"
      ]
     },
     "execution_count": 1,
     "metadata": {},
     "output_type": "execute_result"
    }
   ],
   "source": [
    "from os.path import expanduser, join\n",
    "import os\n",
    "home_dir = expanduser('~')\n",
    "data_dir = join(home_dir,'simdb','data','shear_zone', 'load_deflection')\n",
    "data_dir"
   ]
  },
  {
   "cell_type": "code",
   "execution_count": 2,
   "id": "1dced71e",
   "metadata": {},
   "outputs": [
    {
     "data": {
      "text/plain": [
       "['C:\\\\Users\\\\fahad\\\\simdb\\\\data\\\\shear_zone\\\\load_deflection\\\\B1_TV1.csv']"
      ]
     },
     "execution_count": 2,
     "metadata": {},
     "output_type": "execute_result"
    }
   ],
   "source": [
    "results = [join(data_dir,each) \n",
    "           for each in sorted(os.listdir(data_dir)) \n",
    "           if each.endswith('.csv')]\n",
    "results"
   ]
  },
  {
   "cell_type": "code",
   "execution_count": 3,
   "id": "c336de2d",
   "metadata": {},
   "outputs": [
    {
     "ename": "IndexError",
     "evalue": "list index out of range",
     "output_type": "error",
     "traceback": [
      "\u001b[1;31m---------------------------------------------------------------------------\u001b[0m",
      "\u001b[1;31mIndexError\u001b[0m                                Traceback (most recent call last)",
      "\u001b[1;32m~\\AppData\\Local\\Temp/ipykernel_18528/1309579419.py\u001b[0m in \u001b[0;36m<module>\u001b[1;34m\u001b[0m\n\u001b[0;32m      1\u001b[0m \u001b[1;32mimport\u001b[0m \u001b[0mnumpy\u001b[0m \u001b[1;32mas\u001b[0m \u001b[0mnp\u001b[0m\u001b[1;33m\u001b[0m\u001b[1;33m\u001b[0m\u001b[0m\n\u001b[1;32m----> 2\u001b[1;33m np.loadtxt(results[0], dtype=float, \n\u001b[0m\u001b[0;32m      3\u001b[0m             skiprows=1, delimiter=None , usecols=(2,3), unpack=False)\n",
      "\u001b[1;32m~\\Anaconda3\\envs\\bmcs_env\\lib\\site-packages\\numpy\\lib\\npyio.py\u001b[0m in \u001b[0;36mloadtxt\u001b[1;34m(fname, dtype, comments, delimiter, converters, skiprows, usecols, unpack, ndmin, encoding, max_rows, like)\u001b[0m\n\u001b[0;32m   1146\u001b[0m         \u001b[1;31m# converting the data\u001b[0m\u001b[1;33m\u001b[0m\u001b[1;33m\u001b[0m\u001b[0m\n\u001b[0;32m   1147\u001b[0m         \u001b[0mX\u001b[0m \u001b[1;33m=\u001b[0m \u001b[1;32mNone\u001b[0m\u001b[1;33m\u001b[0m\u001b[1;33m\u001b[0m\u001b[0m\n\u001b[1;32m-> 1148\u001b[1;33m         \u001b[1;32mfor\u001b[0m \u001b[0mx\u001b[0m \u001b[1;32min\u001b[0m \u001b[0mread_data\u001b[0m\u001b[1;33m(\u001b[0m\u001b[0m_loadtxt_chunksize\u001b[0m\u001b[1;33m)\u001b[0m\u001b[1;33m:\u001b[0m\u001b[1;33m\u001b[0m\u001b[1;33m\u001b[0m\u001b[0m\n\u001b[0m\u001b[0;32m   1149\u001b[0m             \u001b[1;32mif\u001b[0m \u001b[0mX\u001b[0m \u001b[1;32mis\u001b[0m \u001b[1;32mNone\u001b[0m\u001b[1;33m:\u001b[0m\u001b[1;33m\u001b[0m\u001b[1;33m\u001b[0m\u001b[0m\n\u001b[0;32m   1150\u001b[0m                 \u001b[0mX\u001b[0m \u001b[1;33m=\u001b[0m \u001b[0mnp\u001b[0m\u001b[1;33m.\u001b[0m\u001b[0marray\u001b[0m\u001b[1;33m(\u001b[0m\u001b[0mx\u001b[0m\u001b[1;33m,\u001b[0m \u001b[0mdtype\u001b[0m\u001b[1;33m)\u001b[0m\u001b[1;33m\u001b[0m\u001b[1;33m\u001b[0m\u001b[0m\n",
      "\u001b[1;32m~\\Anaconda3\\envs\\bmcs_env\\lib\\site-packages\\numpy\\lib\\npyio.py\u001b[0m in \u001b[0;36mread_data\u001b[1;34m(chunk_size)\u001b[0m\n\u001b[0;32m    990\u001b[0m                 \u001b[1;32mcontinue\u001b[0m\u001b[1;33m\u001b[0m\u001b[1;33m\u001b[0m\u001b[0m\n\u001b[0;32m    991\u001b[0m             \u001b[1;32mif\u001b[0m \u001b[0musecols\u001b[0m\u001b[1;33m:\u001b[0m\u001b[1;33m\u001b[0m\u001b[1;33m\u001b[0m\u001b[0m\n\u001b[1;32m--> 992\u001b[1;33m                 \u001b[0mvals\u001b[0m \u001b[1;33m=\u001b[0m \u001b[1;33m[\u001b[0m\u001b[0mvals\u001b[0m\u001b[1;33m[\u001b[0m\u001b[0mj\u001b[0m\u001b[1;33m]\u001b[0m \u001b[1;32mfor\u001b[0m \u001b[0mj\u001b[0m \u001b[1;32min\u001b[0m \u001b[0musecols\u001b[0m\u001b[1;33m]\u001b[0m\u001b[1;33m\u001b[0m\u001b[1;33m\u001b[0m\u001b[0m\n\u001b[0m\u001b[0;32m    993\u001b[0m             \u001b[1;32mif\u001b[0m \u001b[0mlen\u001b[0m\u001b[1;33m(\u001b[0m\u001b[0mvals\u001b[0m\u001b[1;33m)\u001b[0m \u001b[1;33m!=\u001b[0m \u001b[0mN\u001b[0m\u001b[1;33m:\u001b[0m\u001b[1;33m\u001b[0m\u001b[1;33m\u001b[0m\u001b[0m\n\u001b[0;32m    994\u001b[0m                 \u001b[0mline_num\u001b[0m \u001b[1;33m=\u001b[0m \u001b[0mi\u001b[0m \u001b[1;33m+\u001b[0m \u001b[0mskiprows\u001b[0m \u001b[1;33m+\u001b[0m \u001b[1;36m1\u001b[0m\u001b[1;33m\u001b[0m\u001b[1;33m\u001b[0m\u001b[0m\n",
      "\u001b[1;32m~\\Anaconda3\\envs\\bmcs_env\\lib\\site-packages\\numpy\\lib\\npyio.py\u001b[0m in \u001b[0;36m<listcomp>\u001b[1;34m(.0)\u001b[0m\n\u001b[0;32m    990\u001b[0m                 \u001b[1;32mcontinue\u001b[0m\u001b[1;33m\u001b[0m\u001b[1;33m\u001b[0m\u001b[0m\n\u001b[0;32m    991\u001b[0m             \u001b[1;32mif\u001b[0m \u001b[0musecols\u001b[0m\u001b[1;33m:\u001b[0m\u001b[1;33m\u001b[0m\u001b[1;33m\u001b[0m\u001b[0m\n\u001b[1;32m--> 992\u001b[1;33m                 \u001b[0mvals\u001b[0m \u001b[1;33m=\u001b[0m \u001b[1;33m[\u001b[0m\u001b[0mvals\u001b[0m\u001b[1;33m[\u001b[0m\u001b[0mj\u001b[0m\u001b[1;33m]\u001b[0m \u001b[1;32mfor\u001b[0m \u001b[0mj\u001b[0m \u001b[1;32min\u001b[0m \u001b[0musecols\u001b[0m\u001b[1;33m]\u001b[0m\u001b[1;33m\u001b[0m\u001b[1;33m\u001b[0m\u001b[0m\n\u001b[0m\u001b[0;32m    993\u001b[0m             \u001b[1;32mif\u001b[0m \u001b[0mlen\u001b[0m\u001b[1;33m(\u001b[0m\u001b[0mvals\u001b[0m\u001b[1;33m)\u001b[0m \u001b[1;33m!=\u001b[0m \u001b[0mN\u001b[0m\u001b[1;33m:\u001b[0m\u001b[1;33m\u001b[0m\u001b[1;33m\u001b[0m\u001b[0m\n\u001b[0;32m    994\u001b[0m                 \u001b[0mline_num\u001b[0m \u001b[1;33m=\u001b[0m \u001b[0mi\u001b[0m \u001b[1;33m+\u001b[0m \u001b[0mskiprows\u001b[0m \u001b[1;33m+\u001b[0m \u001b[1;36m1\u001b[0m\u001b[1;33m\u001b[0m\u001b[1;33m\u001b[0m\u001b[0m\n",
      "\u001b[1;31mIndexError\u001b[0m: list index out of range"
     ]
    }
   ],
   "source": [
    "import numpy as np\n",
    "np.loadtxt(results[0], dtype=float, \n",
    "            skiprows=1, delimiter=None , usecols=(2,3), unpack=False)"
   ]
  },
  {
   "cell_type": "code",
   "execution_count": 3,
   "id": "38e214dc",
   "metadata": {},
   "outputs": [
    {
     "name": "stderr",
     "output_type": "stream",
     "text": [
      "C:\\Users\\fahad\\Anaconda3\\envs\\bmcs_env\\lib\\site-packages\\pandas\\util\\_decorators.py:311: ParserWarning: Falling back to the 'python' engine because the 'c' engine does not support sep=None with delim_whitespace=False; you can avoid this warning by specifying engine='python'.\n",
      "  return func(*args, **kwargs)\n"
     ]
    }
   ],
   "source": [
    "import pandas as pd\n",
    "results_up = pd.read_csv(results[0], sep = None, decimal=\",\", skiprows=1, delimiter=None)"
   ]
  },
  {
   "cell_type": "code",
   "execution_count": 8,
   "id": "14968199",
   "metadata": {},
   "outputs": [],
   "source": [
    "import numpy as np\n",
    "ld = np.array(results_up)\n",
    "deflection = ld[:,2]\n",
    "load = ld[:,1]"
   ]
  },
  {
   "cell_type": "code",
   "execution_count": 10,
   "id": "fb76f3b2",
   "metadata": {},
   "outputs": [
    {
     "data": {
      "image/png": "[encoded data removed]",
      "text/plain": [
       "<Figure size 792x288 with 1 Axes>"
      ]
     },
     "metadata": {
      "needs_background": "light"
     },
     "output_type": "display_data"
    }
   ],
   "source": [
    "import matplotlib.pylab as plt\n",
    "_, ax1 = plt.subplots(1, 1, figsize=(11,4))\n",
    "\n",
    "ax1.plot(deflection, -load, color = 'black')\n",
    "plt.savefig(\"D:\\\\Shear zones\\drawings\\Load_def_B6.pdf\")"
   ]
  },
  {
   "cell_type": "code",
   "execution_count": null,
   "id": "443b1bcf",
   "metadata": {},
   "outputs": [],
   "source": []
  }
 ],
 "metadata": {
  "kernelspec": {
   "display_name": "Python 3",
   "language": "python",
   "name": "python3"
  },
  "language_info": {
   "codemirror_mode": {
    "name": "ipython",
    "version": 3
   },
   "file_extension": ".py",
   "mimetype": "text/x-python",
   "name": "python",
   "nbconvert_exporter": "python",
   "pygments_lexer": "ipython3",
   "version": "3.9.7"
  }
 },
 "nbformat": 4,
 "nbformat_minor": 5
}
