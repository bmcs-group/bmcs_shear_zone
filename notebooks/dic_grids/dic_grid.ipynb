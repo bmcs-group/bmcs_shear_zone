{
 "cells": [
  {
   "cell_type": "code",
   "execution_count": 18,
   "metadata": {},
   "outputs": [],
   "source": [
    "from bmcs_shear.dic_crack import DICGrid, DICAlignedGrid, DICCOR, DICInspector, DICCrack"
   ]
  },
  {
   "cell_type": "code",
   "execution_count": 3,
   "metadata": {},
   "outputs": [
    {
     "data": {
      "text/plain": [
       "(array([  0,  14,  28,  42,  56,  70,  84,  98, 112, 126, 140, 154, 168,\n",
       "        182, 196, 210, 224, 238, 252]),\n",
       " array([  0,  14,  28,  42,  56,  70,  84,  98, 112, 126, 140, 154, 168,\n",
       "        182, 196, 210, 224, 238, 252]))"
      ]
     },
     "execution_count": 3,
     "metadata": {},
     "output_type": "execute_result"
    }
   ],
   "source": [
    "import numpy as np\n",
    "n_x, n_y = 20, 20\n",
    "d_x, d_y = 14, 14\n",
    "x_range = np.arange(n_x)[:-1:] * d_x\n",
    "y_range = np.arange(n_y)[:-1] * d_y\n",
    "y_ij, x_ij = np.meshgrid(y_range, x_range)\n",
    "X_aij = np.array([x_ij, y_ij])\n",
    "X_ija = np.einsum('aij->ija', X_aij)\n",
    "x_range, y_range"
   ]
  },
  {
   "cell_type": "code",
   "execution_count": 4,
   "metadata": {},
   "outputs": [
    {
     "data": {
      "text/plain": [
       "(array([266, 252, 238, 224, 210, 196, 182, 168, 154, 140, 126, 112,  98,\n",
       "         84,  70,  56,  42,  28,  14,   0]),\n",
       " array([  0,  14,  28,  42,  56,  70,  84,  98, 112, 126, 140, 154, 168,\n",
       "        182, 196, 210, 224, 238, 252, 266]))"
      ]
     },
     "execution_count": 4,
     "metadata": {},
     "output_type": "execute_result"
    }
   ],
   "source": [
    "n_x, n_y = 20, 20\n",
    "d_x, d_y = 14, 14\n",
    "x_range = np.arange(n_x)[::-1] * d_x\n",
    "y_range = np.arange(n_y) * d_y\n",
    "y_ij, x_ij = np.meshgrid(y_range, x_range)\n",
    "X_aij = np.array([x_ij, y_ij])\n",
    "X_ija = np.einsum('aij->ija', X_aij)\n",
    "x_range, y_range"
   ]
  },
  {
   "cell_type": "code",
   "execution_count": 5,
   "metadata": {},
   "outputs": [
    {
     "data": {
      "text/plain": [
       "array([19, 18, 17, 16, 15, 14, 13, 12, 11, 10,  9,  8,  7,  6,  5,  4,  3,\n",
       "        2,  1,  0])"
      ]
     },
     "execution_count": 5,
     "metadata": {},
     "output_type": "execute_result"
    }
   ],
   "source": [
    "np.arange(n_x)[::-1]"
   ]
  },
  {
   "cell_type": "code",
   "execution_count": 6,
   "metadata": {},
   "outputs": [
    {
     "data": {
      "text/plain": [
       "array([ 0,  1,  2,  3,  4,  5,  6,  7,  8,  9, 10, 11, 12, 13, 14, 15, 16,\n",
       "       17, 18])"
      ]
     },
     "execution_count": 6,
     "metadata": {},
     "output_type": "execute_result"
    }
   ],
   "source": [
    "np.arange(n_x)[:-1:]"
   ]
  },
  {
   "cell_type": "code",
   "execution_count": 7,
   "metadata": {},
   "outputs": [
    {
     "data": {
      "text/plain": [
       "array([ 0,  1,  2,  3,  4,  5,  6,  7,  8,  9, 10, 11, 12, 13, 14, 15, 16,\n",
       "       17, 18, 19])"
      ]
     },
     "execution_count": 7,
     "metadata": {},
     "output_type": "execute_result"
    }
   ],
   "source": [
    "np.arange(n_y)[::1]"
   ]
  },
  {
   "cell_type": "code",
   "execution_count": 8,
   "metadata": {},
   "outputs": [
    {
     "data": {
      "text/plain": [
       "(array([  0,  14,  28,  42,  56,  70,  84,  98, 112, 126, 140, 154, 168,\n",
       "        182, 196, 210, 224, 238, 252, 266]),\n",
       " array([266, 252, 238, 224, 210, 196, 182, 168, 154, 140, 126, 112,  98,\n",
       "         84,  70,  56,  42,  28,  14,   0]))"
      ]
     },
     "execution_count": 8,
     "metadata": {},
     "output_type": "execute_result"
    }
   ],
   "source": [
    "n_x, n_y = 20, 20\n",
    "d_x, d_y = 14, 14\n",
    "y_range = np.arange(n_y)[::-1] * d_y\n",
    "x_range = np.arange(n_x) * d_x\n",
    "x_range, y_range"
   ]
  },
  {
   "cell_type": "code",
   "execution_count": 9,
   "metadata": {},
   "outputs": [
    {
     "data": {
      "text/plain": [
       "array([ 0,  1,  2,  3,  4,  5,  6,  7,  8,  9, 10, 11, 12, 13, 14, 15, 16,\n",
       "       17, 18, 19])"
      ]
     },
     "execution_count": 9,
     "metadata": {},
     "output_type": "execute_result"
    }
   ],
   "source": [
    "np.arange(n_y)[::1]"
   ]
  },
  {
   "cell_type": "code",
   "execution_count": 10,
   "metadata": {},
   "outputs": [
    {
     "data": {
      "text/plain": [
       "array([ 0,  1,  2,  3,  4,  5,  6,  7,  8,  9, 10, 11, 12, 13, 14, 15, 16,\n",
       "       17, 18, 19])"
      ]
     },
     "execution_count": 10,
     "metadata": {},
     "output_type": "execute_result"
    }
   ],
   "source": [
    "np.arange(n_x)"
   ]
  },
  {
   "cell_type": "code",
   "execution_count": 11,
   "metadata": {},
   "outputs": [
    {
     "data": {
      "text/plain": [
       "array([19, 18, 17, 16, 15, 14, 13, 12, 11, 10,  9,  8,  7,  6,  5,  4,  3,\n",
       "        2,  1,  0])"
      ]
     },
     "execution_count": 11,
     "metadata": {},
     "output_type": "execute_result"
    }
   ],
   "source": [
    "np.arange(n_x)[::-1]\n"
   ]
  },
  {
   "cell_type": "code",
   "execution_count": 12,
   "metadata": {},
   "outputs": [
    {
     "name": "stdout",
     "output_type": "stream",
     "text": [
      "[0, 1, 2, 3, 4, 5, 6, 7, 8, 9, 10, 11, 12, 13, 14, 15, 16, 17, 18, 19]\n"
     ]
    }
   ],
   "source": [
    "print(list(reversed(np.arange(n_y)[::-1])))"
   ]
  },
  {
   "cell_type": "code",
   "execution_count": 13,
   "metadata": {},
   "outputs": [
    {
     "data": {
      "text/plain": [
       "array([ 0,  1,  2,  3,  4,  5,  6,  7,  8,  9, 10, 11, 12, 13, 14, 15, 16,\n",
       "       17, 18, 19])"
      ]
     },
     "execution_count": 13,
     "metadata": {},
     "output_type": "execute_result"
    }
   ],
   "source": [
    "np.arange(n_y)[::1]"
   ]
  },
  {
   "cell_type": "code",
   "execution_count": 14,
   "metadata": {},
   "outputs": [
    {
     "data": {
      "text/plain": [
       "array([19, 18, 17, 16, 15, 14, 13, 12, 11, 10,  9,  8,  7,  6,  5,  4,  3,\n",
       "        2,  1,  0])"
      ]
     },
     "execution_count": 14,
     "metadata": {},
     "output_type": "execute_result"
    }
   ],
   "source": [
    "np.arange(n_x)[::-1]"
   ]
  },
  {
   "cell_type": "code",
   "execution_count": 15,
   "metadata": {},
   "outputs": [
    {
     "data": {
      "text/plain": [
       "array([19, 18, 17, 16, 15, 14, 13, 12, 11, 10,  9,  8,  7,  6,  5,  4,  3,\n",
       "        2,  1,  0])"
      ]
     },
     "execution_count": 15,
     "metadata": {},
     "output_type": "execute_result"
    }
   ],
   "source": [
    "np.arange(n_y)[::-1]"
   ]
  },
  {
   "cell_type": "code",
   "execution_count": 16,
   "metadata": {},
   "outputs": [
    {
     "data": {
      "text/plain": [
       "(array([56, 42, 28, 14,  0]), array([56, 42, 28, 14,  0]))"
      ]
     },
     "execution_count": 16,
     "metadata": {},
     "output_type": "execute_result"
    }
   ],
   "source": [
    "n_x, n_y = 5, 5\n",
    "d_x, d_y = 14, 14\n",
    "x_range = np.arange(n_x)[::-1] * d_x\n",
    "y_range = np.arange(n_y)[::-1] * d_y\n",
    "y_ij, x_ij = np.meshgrid(y_range, x_range)\n",
    "X_aij = np.array([x_ij, y_ij])\n",
    "X_ija = np.einsum('aij->ija', X_aij)\n",
    "x_range, y_range"
   ]
  },
  {
   "cell_type": "code",
   "execution_count": 20,
   "metadata": {
    "scrolled": false
   },
   "outputs": [
    {
     "data": {
      "text/plain": [
       "array([[[266, 266],\n",
       "        [266, 252],\n",
       "        [266, 238],\n",
       "        [266, 224],\n",
       "        [266, 210],\n",
       "        [266, 196],\n",
       "        [266, 182],\n",
       "        [266, 168],\n",
       "        [266, 154],\n",
       "        [266, 140],\n",
       "        [266, 126],\n",
       "        [266, 112],\n",
       "        [266,  98],\n",
       "        [266,  84],\n",
       "        [266,  70],\n",
       "        [266,  56],\n",
       "        [266,  42],\n",
       "        [266,  28],\n",
       "        [266,  14],\n",
       "        [266,   0]],\n",
       "\n",
       "       [[252, 266],\n",
       "        [252, 252],\n",
       "        [252, 238],\n",
       "        [252, 224],\n",
       "        [252, 210],\n",
       "        [252, 196],\n",
       "        [252, 182],\n",
       "        [252, 168],\n",
       "        [252, 154],\n",
       "        [252, 140],\n",
       "        [252, 126],\n",
       "        [252, 112],\n",
       "        [252,  98],\n",
       "        [252,  84],\n",
       "        [252,  70],\n",
       "        [252,  56],\n",
       "        [252,  42],\n",
       "        [252,  28],\n",
       "        [252,  14],\n",
       "        [252,   0]],\n",
       "\n",
       "       [[238, 266],\n",
       "        [238, 252],\n",
       "        [238, 238],\n",
       "        [238, 224],\n",
       "        [238, 210],\n",
       "        [238, 196],\n",
       "        [238, 182],\n",
       "        [238, 168],\n",
       "        [238, 154],\n",
       "        [238, 140],\n",
       "        [238, 126],\n",
       "        [238, 112],\n",
       "        [238,  98],\n",
       "        [238,  84],\n",
       "        [238,  70],\n",
       "        [238,  56],\n",
       "        [238,  42],\n",
       "        [238,  28],\n",
       "        [238,  14],\n",
       "        [238,   0]],\n",
       "\n",
       "       [[224, 266],\n",
       "        [224, 252],\n",
       "        [224, 238],\n",
       "        [224, 224],\n",
       "        [224, 210],\n",
       "        [224, 196],\n",
       "        [224, 182],\n",
       "        [224, 168],\n",
       "        [224, 154],\n",
       "        [224, 140],\n",
       "        [224, 126],\n",
       "        [224, 112],\n",
       "        [224,  98],\n",
       "        [224,  84],\n",
       "        [224,  70],\n",
       "        [224,  56],\n",
       "        [224,  42],\n",
       "        [224,  28],\n",
       "        [224,  14],\n",
       "        [224,   0]],\n",
       "\n",
       "       [[210, 266],\n",
       "        [210, 252],\n",
       "        [210, 238],\n",
       "        [210, 224],\n",
       "        [210, 210],\n",
       "        [210, 196],\n",
       "        [210, 182],\n",
       "        [210, 168],\n",
       "        [210, 154],\n",
       "        [210, 140],\n",
       "        [210, 126],\n",
       "        [210, 112],\n",
       "        [210,  98],\n",
       "        [210,  84],\n",
       "        [210,  70],\n",
       "        [210,  56],\n",
       "        [210,  42],\n",
       "        [210,  28],\n",
       "        [210,  14],\n",
       "        [210,   0]],\n",
       "\n",
       "       [[196, 266],\n",
       "        [196, 252],\n",
       "        [196, 238],\n",
       "        [196, 224],\n",
       "        [196, 210],\n",
       "        [196, 196],\n",
       "        [196, 182],\n",
       "        [196, 168],\n",
       "        [196, 154],\n",
       "        [196, 140],\n",
       "        [196, 126],\n",
       "        [196, 112],\n",
       "        [196,  98],\n",
       "        [196,  84],\n",
       "        [196,  70],\n",
       "        [196,  56],\n",
       "        [196,  42],\n",
       "        [196,  28],\n",
       "        [196,  14],\n",
       "        [196,   0]],\n",
       "\n",
       "       [[182, 266],\n",
       "        [182, 252],\n",
       "        [182, 238],\n",
       "        [182, 224],\n",
       "        [182, 210],\n",
       "        [182, 196],\n",
       "        [182, 182],\n",
       "        [182, 168],\n",
       "        [182, 154],\n",
       "        [182, 140],\n",
       "        [182, 126],\n",
       "        [182, 112],\n",
       "        [182,  98],\n",
       "        [182,  84],\n",
       "        [182,  70],\n",
       "        [182,  56],\n",
       "        [182,  42],\n",
       "        [182,  28],\n",
       "        [182,  14],\n",
       "        [182,   0]],\n",
       "\n",
       "       [[168, 266],\n",
       "        [168, 252],\n",
       "        [168, 238],\n",
       "        [168, 224],\n",
       "        [168, 210],\n",
       "        [168, 196],\n",
       "        [168, 182],\n",
       "        [168, 168],\n",
       "        [168, 154],\n",
       "        [168, 140],\n",
       "        [168, 126],\n",
       "        [168, 112],\n",
       "        [168,  98],\n",
       "        [168,  84],\n",
       "        [168,  70],\n",
       "        [168,  56],\n",
       "        [168,  42],\n",
       "        [168,  28],\n",
       "        [168,  14],\n",
       "        [168,   0]],\n",
       "\n",
       "       [[154, 266],\n",
       "        [154, 252],\n",
       "        [154, 238],\n",
       "        [154, 224],\n",
       "        [154, 210],\n",
       "        [154, 196],\n",
       "        [154, 182],\n",
       "        [154, 168],\n",
       "        [154, 154],\n",
       "        [154, 140],\n",
       "        [154, 126],\n",
       "        [154, 112],\n",
       "        [154,  98],\n",
       "        [154,  84],\n",
       "        [154,  70],\n",
       "        [154,  56],\n",
       "        [154,  42],\n",
       "        [154,  28],\n",
       "        [154,  14],\n",
       "        [154,   0]],\n",
       "\n",
       "       [[140, 266],\n",
       "        [140, 252],\n",
       "        [140, 238],\n",
       "        [140, 224],\n",
       "        [140, 210],\n",
       "        [140, 196],\n",
       "        [140, 182],\n",
       "        [140, 168],\n",
       "        [140, 154],\n",
       "        [140, 140],\n",
       "        [140, 126],\n",
       "        [140, 112],\n",
       "        [140,  98],\n",
       "        [140,  84],\n",
       "        [140,  70],\n",
       "        [140,  56],\n",
       "        [140,  42],\n",
       "        [140,  28],\n",
       "        [140,  14],\n",
       "        [140,   0]],\n",
       "\n",
       "       [[126, 266],\n",
       "        [126, 252],\n",
       "        [126, 238],\n",
       "        [126, 224],\n",
       "        [126, 210],\n",
       "        [126, 196],\n",
       "        [126, 182],\n",
       "        [126, 168],\n",
       "        [126, 154],\n",
       "        [126, 140],\n",
       "        [126, 126],\n",
       "        [126, 112],\n",
       "        [126,  98],\n",
       "        [126,  84],\n",
       "        [126,  70],\n",
       "        [126,  56],\n",
       "        [126,  42],\n",
       "        [126,  28],\n",
       "        [126,  14],\n",
       "        [126,   0]],\n",
       "\n",
       "       [[112, 266],\n",
       "        [112, 252],\n",
       "        [112, 238],\n",
       "        [112, 224],\n",
       "        [112, 210],\n",
       "        [112, 196],\n",
       "        [112, 182],\n",
       "        [112, 168],\n",
       "        [112, 154],\n",
       "        [112, 140],\n",
       "        [112, 126],\n",
       "        [112, 112],\n",
       "        [112,  98],\n",
       "        [112,  84],\n",
       "        [112,  70],\n",
       "        [112,  56],\n",
       "        [112,  42],\n",
       "        [112,  28],\n",
       "        [112,  14],\n",
       "        [112,   0]],\n",
       "\n",
       "       [[ 98, 266],\n",
       "        [ 98, 252],\n",
       "        [ 98, 238],\n",
       "        [ 98, 224],\n",
       "        [ 98, 210],\n",
       "        [ 98, 196],\n",
       "        [ 98, 182],\n",
       "        [ 98, 168],\n",
       "        [ 98, 154],\n",
       "        [ 98, 140],\n",
       "        [ 98, 126],\n",
       "        [ 98, 112],\n",
       "        [ 98,  98],\n",
       "        [ 98,  84],\n",
       "        [ 98,  70],\n",
       "        [ 98,  56],\n",
       "        [ 98,  42],\n",
       "        [ 98,  28],\n",
       "        [ 98,  14],\n",
       "        [ 98,   0]],\n",
       "\n",
       "       [[ 84, 266],\n",
       "        [ 84, 252],\n",
       "        [ 84, 238],\n",
       "        [ 84, 224],\n",
       "        [ 84, 210],\n",
       "        [ 84, 196],\n",
       "        [ 84, 182],\n",
       "        [ 84, 168],\n",
       "        [ 84, 154],\n",
       "        [ 84, 140],\n",
       "        [ 84, 126],\n",
       "        [ 84, 112],\n",
       "        [ 84,  98],\n",
       "        [ 84,  84],\n",
       "        [ 84,  70],\n",
       "        [ 84,  56],\n",
       "        [ 84,  42],\n",
       "        [ 84,  28],\n",
       "        [ 84,  14],\n",
       "        [ 84,   0]],\n",
       "\n",
       "       [[ 70, 266],\n",
       "        [ 70, 252],\n",
       "        [ 70, 238],\n",
       "        [ 70, 224],\n",
       "        [ 70, 210],\n",
       "        [ 70, 196],\n",
       "        [ 70, 182],\n",
       "        [ 70, 168],\n",
       "        [ 70, 154],\n",
       "        [ 70, 140],\n",
       "        [ 70, 126],\n",
       "        [ 70, 112],\n",
       "        [ 70,  98],\n",
       "        [ 70,  84],\n",
       "        [ 70,  70],\n",
       "        [ 70,  56],\n",
       "        [ 70,  42],\n",
       "        [ 70,  28],\n",
       "        [ 70,  14],\n",
       "        [ 70,   0]],\n",
       "\n",
       "       [[ 56, 266],\n",
       "        [ 56, 252],\n",
       "        [ 56, 238],\n",
       "        [ 56, 224],\n",
       "        [ 56, 210],\n",
       "        [ 56, 196],\n",
       "        [ 56, 182],\n",
       "        [ 56, 168],\n",
       "        [ 56, 154],\n",
       "        [ 56, 140],\n",
       "        [ 56, 126],\n",
       "        [ 56, 112],\n",
       "        [ 56,  98],\n",
       "        [ 56,  84],\n",
       "        [ 56,  70],\n",
       "        [ 56,  56],\n",
       "        [ 56,  42],\n",
       "        [ 56,  28],\n",
       "        [ 56,  14],\n",
       "        [ 56,   0]],\n",
       "\n",
       "       [[ 42, 266],\n",
       "        [ 42, 252],\n",
       "        [ 42, 238],\n",
       "        [ 42, 224],\n",
       "        [ 42, 210],\n",
       "        [ 42, 196],\n",
       "        [ 42, 182],\n",
       "        [ 42, 168],\n",
       "        [ 42, 154],\n",
       "        [ 42, 140],\n",
       "        [ 42, 126],\n",
       "        [ 42, 112],\n",
       "        [ 42,  98],\n",
       "        [ 42,  84],\n",
       "        [ 42,  70],\n",
       "        [ 42,  56],\n",
       "        [ 42,  42],\n",
       "        [ 42,  28],\n",
       "        [ 42,  14],\n",
       "        [ 42,   0]],\n",
       "\n",
       "       [[ 28, 266],\n",
       "        [ 28, 252],\n",
       "        [ 28, 238],\n",
       "        [ 28, 224],\n",
       "        [ 28, 210],\n",
       "        [ 28, 196],\n",
       "        [ 28, 182],\n",
       "        [ 28, 168],\n",
       "        [ 28, 154],\n",
       "        [ 28, 140],\n",
       "        [ 28, 126],\n",
       "        [ 28, 112],\n",
       "        [ 28,  98],\n",
       "        [ 28,  84],\n",
       "        [ 28,  70],\n",
       "        [ 28,  56],\n",
       "        [ 28,  42],\n",
       "        [ 28,  28],\n",
       "        [ 28,  14],\n",
       "        [ 28,   0]],\n",
       "\n",
       "       [[ 14, 266],\n",
       "        [ 14, 252],\n",
       "        [ 14, 238],\n",
       "        [ 14, 224],\n",
       "        [ 14, 210],\n",
       "        [ 14, 196],\n",
       "        [ 14, 182],\n",
       "        [ 14, 168],\n",
       "        [ 14, 154],\n",
       "        [ 14, 140],\n",
       "        [ 14, 126],\n",
       "        [ 14, 112],\n",
       "        [ 14,  98],\n",
       "        [ 14,  84],\n",
       "        [ 14,  70],\n",
       "        [ 14,  56],\n",
       "        [ 14,  42],\n",
       "        [ 14,  28],\n",
       "        [ 14,  14],\n",
       "        [ 14,   0]],\n",
       "\n",
       "       [[  0, 266],\n",
       "        [  0, 252],\n",
       "        [  0, 238],\n",
       "        [  0, 224],\n",
       "        [  0, 210],\n",
       "        [  0, 196],\n",
       "        [  0, 182],\n",
       "        [  0, 168],\n",
       "        [  0, 154],\n",
       "        [  0, 140],\n",
       "        [  0, 126],\n",
       "        [  0, 112],\n",
       "        [  0,  98],\n",
       "        [  0,  84],\n",
       "        [  0,  70],\n",
       "        [  0,  56],\n",
       "        [  0,  42],\n",
       "        [  0,  28],\n",
       "        [  0,  14],\n",
       "        [  0,   0]]])"
      ]
     },
     "execution_count": 20,
     "metadata": {},
     "output_type": "execute_result"
    }
   ],
   "source": [
    "dic_grid = DICGrid()\n",
    "dic_grid.X_ija"
   ]
  },
  {
   "cell_type": "code",
   "execution_count": 1,
   "metadata": {},
   "outputs": [],
   "source": [
    "from os.path import join, expanduser\n",
    "import os\n",
    "import numpy as np"
   ]
  },
  {
   "cell_type": "code",
   "execution_count": 24,
   "metadata": {},
   "outputs": [
    {
     "data": {
      "text/plain": [
       "'C:\\\\Users\\\\fahad\\\\simdb\\\\data\\\\shear_zone\\\\B8_TV1'"
      ]
     },
     "execution_count": 24,
     "metadata": {},
     "output_type": "execute_result"
    }
   ],
   "source": [
    "home_dir = expanduser('~')\n",
    "data_dir = join(home_dir,'simdb','data','shear_zone','B8_TV1')\n",
    "data_dir"
   ]
  },
  {
   "cell_type": "code",
   "execution_count": 52,
   "metadata": {},
   "outputs": [],
   "source": [
    "files = [join(data_dir, each)\n",
    "               for each in sorted(os.listdir(data_dir))\n",
    "               if each.endswith('.csv')]\n",
    "u_tpa = np.array([\n",
    "    np.loadtxt(csv_file, dtype=float,\n",
    "                       skiprows=1, delimiter=',', usecols=(2,3), unpack=False)\n",
    "for csv_file in files\n",
    "], dtype=np.float_)\n",
    "n_t, n_e, n_a = u_tpa.shape  # get the dimensions of the time and entry dimensions\n",
    "n_x, n_y = 56, 13\n",
    "u_tjia = u_tpa.reshape(n_t, n_x, n_y, 2)\n",
    "u_tija = np.einsum('tjia->tija', u_tjia)"
   ]
  },
  {
   "cell_type": "code",
   "execution_count": 53,
   "metadata": {
    "scrolled": false
   },
   "outputs": [
    {
     "data": {
      "text/plain": [
       "(15, 728, 2)"
      ]
     },
     "execution_count": 53,
     "metadata": {},
     "output_type": "execute_result"
    }
   ],
   "source": [
    "np.shape(u_tpa)"
   ]
  },
  {
   "cell_type": "code",
   "execution_count": 54,
   "metadata": {},
   "outputs": [
    {
     "data": {
      "text/plain": [
       "array([[[ 0.016, -0.115],\n",
       "        [ 0.018, -0.115],\n",
       "        [ 0.019, -0.117],\n",
       "        ...,\n",
       "        [ 0.049, -0.122],\n",
       "        [ 0.054, -0.124],\n",
       "        [ 0.058, -0.122]],\n",
       "\n",
       "       [[ 0.01 , -0.117],\n",
       "        [ 0.017, -0.119],\n",
       "        [ 0.021, -0.123],\n",
       "        ...,\n",
       "        [ 0.053, -0.126],\n",
       "        [ 0.051, -0.128],\n",
       "        [ 0.056, -0.129]],\n",
       "\n",
       "       [[ 0.016, -0.124],\n",
       "        [ 0.014, -0.124],\n",
       "        [ 0.019, -0.127],\n",
       "        ...,\n",
       "        [ 0.042, -0.132],\n",
       "        [ 0.053, -0.133],\n",
       "        [ 0.055, -0.13 ]],\n",
       "\n",
       "       ...,\n",
       "\n",
       "       [[ 0.02 , -0.264],\n",
       "        [ 0.021, -0.266],\n",
       "        [ 0.021, -0.267],\n",
       "        ...,\n",
       "        [ 0.019, -0.27 ],\n",
       "        [ 0.019, -0.266],\n",
       "        [ 0.019, -0.265]],\n",
       "\n",
       "       [[ 0.017, -0.266],\n",
       "        [ 0.02 , -0.266],\n",
       "        [ 0.019, -0.264],\n",
       "        ...,\n",
       "        [ 0.02 , -0.268],\n",
       "        [ 0.02 , -0.267],\n",
       "        [ 0.017, -0.269]],\n",
       "\n",
       "       [[ 0.018, -0.265],\n",
       "        [ 0.022, -0.266],\n",
       "        [ 0.018, -0.265],\n",
       "        ...,\n",
       "        [ 0.019, -0.268],\n",
       "        [ 0.019, -0.268],\n",
       "        [ 0.018, -0.265]]])"
      ]
     },
     "execution_count": 54,
     "metadata": {},
     "output_type": "execute_result"
    }
   ],
   "source": [
    "u_tjia[1]"
   ]
  },
  {
   "cell_type": "code",
   "execution_count": 55,
   "metadata": {},
   "outputs": [
    {
     "data": {
      "text/plain": [
       "'C:\\\\Users\\\\fahad\\\\simdb\\\\data\\\\shear_zone\\\\B8_TV1'"
      ]
     },
     "execution_count": 55,
     "metadata": {},
     "output_type": "execute_result"
    }
   ],
   "source": [
    "home_dir = expanduser('~')\n",
    "data_dir = join(home_dir,'simdb','data','shear_zone','B8_TV1')\n",
    "data_dir"
   ]
  },
  {
   "cell_type": "code",
   "execution_count": 56,
   "metadata": {},
   "outputs": [
    {
     "data": {
      "text/plain": [
       "['C:\\\\Users\\\\fahad\\\\simdb\\\\data\\\\shear_zone\\\\B8_TV1\\\\Load_000_KN.csv',\n",
       " 'C:\\\\Users\\\\fahad\\\\simdb\\\\data\\\\shear_zone\\\\B8_TV1\\\\Load_012_KN.csv',\n",
       " 'C:\\\\Users\\\\fahad\\\\simdb\\\\data\\\\shear_zone\\\\B8_TV1\\\\Load_024_KN.csv',\n",
       " 'C:\\\\Users\\\\fahad\\\\simdb\\\\data\\\\shear_zone\\\\B8_TV1\\\\Load_038_KN.csv',\n",
       " 'C:\\\\Users\\\\fahad\\\\simdb\\\\data\\\\shear_zone\\\\B8_TV1\\\\Load_052_KN.csv',\n",
       " 'C:\\\\Users\\\\fahad\\\\simdb\\\\data\\\\shear_zone\\\\B8_TV1\\\\Load_063_KN.csv',\n",
       " 'C:\\\\Users\\\\fahad\\\\simdb\\\\data\\\\shear_zone\\\\B8_TV1\\\\Load_075_KN.csv',\n",
       " 'C:\\\\Users\\\\fahad\\\\simdb\\\\data\\\\shear_zone\\\\B8_TV1\\\\Load_087_KN.csv',\n",
       " 'C:\\\\Users\\\\fahad\\\\simdb\\\\data\\\\shear_zone\\\\B8_TV1\\\\Load_101_KN.csv',\n",
       " 'C:\\\\Users\\\\fahad\\\\simdb\\\\data\\\\shear_zone\\\\B8_TV1\\\\Load_112_KN.csv',\n",
       " 'C:\\\\Users\\\\fahad\\\\simdb\\\\data\\\\shear_zone\\\\B8_TV1\\\\Load_126_KN.csv',\n",
       " 'C:\\\\Users\\\\fahad\\\\simdb\\\\data\\\\shear_zone\\\\B8_TV1\\\\Load_137_KN.csv',\n",
       " 'C:\\\\Users\\\\fahad\\\\simdb\\\\data\\\\shear_zone\\\\B8_TV1\\\\Load_152_KN.csv',\n",
       " 'C:\\\\Users\\\\fahad\\\\simdb\\\\data\\\\shear_zone\\\\B8_TV1\\\\Load_162_KN.csv',\n",
       " 'C:\\\\Users\\\\fahad\\\\simdb\\\\data\\\\shear_zone\\\\B8_TV1\\\\Load_175_KN.csv']"
      ]
     },
     "execution_count": 56,
     "metadata": {},
     "output_type": "execute_result"
    }
   ],
   "source": [
    "results = [join(data_dir,each) \n",
    "           for each in sorted(os.listdir(data_dir)) \n",
    "           if each.endswith('.csv')]\n",
    "results"
   ]
  },
  {
   "cell_type": "code",
   "execution_count": 57,
   "metadata": {},
   "outputs": [
    {
     "data": {
      "text/plain": [
       "array([[[ 0.016, -0.115],\n",
       "        [ 0.01 , -0.117],\n",
       "        [ 0.016, -0.124],\n",
       "        ...,\n",
       "        [ 0.02 , -0.264],\n",
       "        [ 0.017, -0.266],\n",
       "        [ 0.018, -0.265]],\n",
       "\n",
       "       [[ 0.018, -0.115],\n",
       "        [ 0.017, -0.119],\n",
       "        [ 0.014, -0.124],\n",
       "        ...,\n",
       "        [ 0.021, -0.266],\n",
       "        [ 0.02 , -0.266],\n",
       "        [ 0.022, -0.266]],\n",
       "\n",
       "       [[ 0.019, -0.117],\n",
       "        [ 0.021, -0.123],\n",
       "        [ 0.019, -0.127],\n",
       "        ...,\n",
       "        [ 0.021, -0.267],\n",
       "        [ 0.019, -0.264],\n",
       "        [ 0.018, -0.265]],\n",
       "\n",
       "       ...,\n",
       "\n",
       "       [[ 0.049, -0.122],\n",
       "        [ 0.053, -0.126],\n",
       "        [ 0.042, -0.132],\n",
       "        ...,\n",
       "        [ 0.019, -0.27 ],\n",
       "        [ 0.02 , -0.268],\n",
       "        [ 0.019, -0.268]],\n",
       "\n",
       "       [[ 0.054, -0.124],\n",
       "        [ 0.051, -0.128],\n",
       "        [ 0.053, -0.133],\n",
       "        ...,\n",
       "        [ 0.019, -0.266],\n",
       "        [ 0.02 , -0.267],\n",
       "        [ 0.019, -0.268]],\n",
       "\n",
       "       [[ 0.058, -0.122],\n",
       "        [ 0.056, -0.129],\n",
       "        [ 0.055, -0.13 ],\n",
       "        ...,\n",
       "        [ 0.019, -0.265],\n",
       "        [ 0.017, -0.269],\n",
       "        [ 0.018, -0.265]]])"
      ]
     },
     "execution_count": 57,
     "metadata": {},
     "output_type": "execute_result"
    }
   ],
   "source": [
    "u_tija[1] - u_tija[0]"
   ]
  },
  {
   "cell_type": "code",
   "execution_count": 64,
   "metadata": {},
   "outputs": [
    {
     "data": {
      "text/plain": [
       "array([[ 0.016, -0.115],\n",
       "       [ 0.01 , -0.117],\n",
       "       [ 0.016, -0.124],\n",
       "       [ 0.01 , -0.127],\n",
       "       [ 0.013, -0.132],\n",
       "       [ 0.014, -0.137],\n",
       "       [ 0.017, -0.139],\n",
       "       [ 0.013, -0.146],\n",
       "       [ 0.014, -0.15 ],\n",
       "       [ 0.014, -0.151],\n",
       "       [ 0.015, -0.157],\n",
       "       [ 0.007, -0.164],\n",
       "       [ 0.001, -0.169],\n",
       "       [ 0.001, -0.173],\n",
       "       [ 0.002, -0.178],\n",
       "       [ 0.003, -0.182],\n",
       "       [ 0.005, -0.186],\n",
       "       [ 0.003, -0.19 ],\n",
       "       [ 0.004, -0.191],\n",
       "       [ 0.005, -0.194],\n",
       "       [ 0.007, -0.197],\n",
       "       [ 0.007, -0.2  ],\n",
       "       [ 0.007, -0.2  ],\n",
       "       [ 0.007, -0.206],\n",
       "       [ 0.007, -0.207],\n",
       "       [ 0.009, -0.21 ],\n",
       "       [ 0.009, -0.212],\n",
       "       [ 0.009, -0.216],\n",
       "       [ 0.007, -0.218],\n",
       "       [ 0.008, -0.22 ],\n",
       "       [ 0.006, -0.225],\n",
       "       [ 0.006, -0.229],\n",
       "       [ 0.008, -0.232],\n",
       "       [ 0.006, -0.234],\n",
       "       [ 0.008, -0.235],\n",
       "       [ 0.011, -0.241],\n",
       "       [ 0.011, -0.242],\n",
       "       [ 0.011, -0.247],\n",
       "       [ 0.011, -0.25 ],\n",
       "       [ 0.012, -0.251],\n",
       "       [ 0.012, -0.252],\n",
       "       [ 0.012, -0.254],\n",
       "       [ 0.012, -0.254],\n",
       "       [ 0.012, -0.256],\n",
       "       [ 0.015, -0.258],\n",
       "       [ 0.019, -0.259],\n",
       "       [ 0.015, -0.261],\n",
       "       [ 0.015, -0.263],\n",
       "       [ 0.013, -0.262],\n",
       "       [ 0.013, -0.265],\n",
       "       [ 0.017, -0.265],\n",
       "       [ 0.018, -0.266],\n",
       "       [ 0.016, -0.265],\n",
       "       [ 0.02 , -0.264],\n",
       "       [ 0.017, -0.266],\n",
       "       [ 0.018, -0.265]])"
      ]
     },
     "execution_count": 64,
     "metadata": {},
     "output_type": "execute_result"
    }
   ],
   "source": [
    "# u_tija[1][0]"
   ]
  },
  {
   "cell_type": "code",
   "execution_count": 59,
   "metadata": {},
   "outputs": [
    {
     "data": {
      "text/plain": [
       "array([[1265,  276],\n",
       "       [1265,  253],\n",
       "       [1265,  230],\n",
       "       [1265,  207],\n",
       "       [1265,  184],\n",
       "       [1265,  161],\n",
       "       [1265,  138],\n",
       "       [1265,  115],\n",
       "       [1265,   92],\n",
       "       [1265,   69],\n",
       "       [1265,   46],\n",
       "       [1265,   23],\n",
       "       [1265,    0]])"
      ]
     },
     "execution_count": 59,
     "metadata": {},
     "output_type": "execute_result"
    }
   ],
   "source": [
    "x_range = np.arange(n_x)[::-1] * 23\n",
    "#y_range = np.arange(n_y) * self.d_y #for beams having grid number from right to left\n",
    "y_range = np.arange(n_y)[::-1] * 23 #for beams having grid number from top to bottom\n",
    "y_ij, x_ij = np.meshgrid(y_range, x_range)\n",
    "X_aij = np.array([x_ij, y_ij])\n",
    "X_ija = np.einsum('aij->ija', X_aij)\n",
    "X_ija[0]"
   ]
  },
  {
   "cell_type": "code",
   "execution_count": 60,
   "metadata": {},
   "outputs": [
    {
     "data": {
      "text/plain": [
       "array([[[1265,    0],\n",
       "        [1265,   23],\n",
       "        [1265,   46],\n",
       "        ...,\n",
       "        [1265,  230],\n",
       "        [1265,  253],\n",
       "        [1265,  276]],\n",
       "\n",
       "       [[1242,    0],\n",
       "        [1242,   23],\n",
       "        [1242,   46],\n",
       "        ...,\n",
       "        [1242,  230],\n",
       "        [1242,  253],\n",
       "        [1242,  276]],\n",
       "\n",
       "       [[1219,    0],\n",
       "        [1219,   23],\n",
       "        [1219,   46],\n",
       "        ...,\n",
       "        [1219,  230],\n",
       "        [1219,  253],\n",
       "        [1219,  276]],\n",
       "\n",
       "       ...,\n",
       "\n",
       "       [[  46,    0],\n",
       "        [  46,   23],\n",
       "        [  46,   46],\n",
       "        ...,\n",
       "        [  46,  230],\n",
       "        [  46,  253],\n",
       "        [  46,  276]],\n",
       "\n",
       "       [[  23,    0],\n",
       "        [  23,   23],\n",
       "        [  23,   46],\n",
       "        ...,\n",
       "        [  23,  230],\n",
       "        [  23,  253],\n",
       "        [  23,  276]],\n",
       "\n",
       "       [[   0,    0],\n",
       "        [   0,   23],\n",
       "        [   0,   46],\n",
       "        ...,\n",
       "        [   0,  230],\n",
       "        [   0,  253],\n",
       "        [   0,  276]]])"
      ]
     },
     "execution_count": 60,
     "metadata": {},
     "output_type": "execute_result"
    }
   ],
   "source": [
    "x_range = np.arange(n_x)[::-1] * 23\n",
    "y_range = np.arange(n_y) * 23 #for beams having grid number from right to left\n",
    "#y_range = np.arange(n_y)[::-1] * 23 #for beams having grid number from top to bottom\n",
    "y_ij, x_ij = np.meshgrid(y_range, x_range)\n",
    "X_aij = np.array([x_ij, y_ij])\n",
    "X_ija = np.einsum('aij->ija', X_aij)\n",
    "X_ija"
   ]
  },
  {
   "cell_type": "code",
   "execution_count": null,
   "metadata": {},
   "outputs": [],
   "source": []
  },
  {
   "cell_type": "code",
   "execution_count": null,
   "metadata": {},
   "outputs": [],
   "source": []
  }
 ],
 "metadata": {
  "kernelspec": {
   "display_name": "Python 3",
   "language": "python",
   "name": "python3"
  },
  "language_info": {
   "codemirror_mode": {
    "name": "ipython",
    "version": 3
   },
   "file_extension": ".py",
   "mimetype": "text/x-python",
   "name": "python",
   "nbconvert_exporter": "python",
   "pygments_lexer": "ipython3",
   "version": "3.9.7"
  }
 },
 "nbformat": 4,
 "nbformat_minor": 4
}
