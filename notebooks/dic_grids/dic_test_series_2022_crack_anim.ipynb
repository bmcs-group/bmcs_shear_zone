{
 "cells": [
  {
   "cell_type": "code",
   "execution_count": null,
   "id": "8aec1577-502a-4596-849d-bc0d9b586945",
   "metadata": {},
   "outputs": [],
   "source": [
    "%matplotlib widget\n",
    "import ibvpy.api as ib\n",
    "import matplotlib.pylab as plt\n",
    "from matplotlib import cm\n",
    "from bmcs_shear.dic_crack import\\\n",
    "    DICGrid, DICInpUnstructuredPoints, DICStateFields, \\\n",
    "    DICAlignedGrid, DICGrid\n",
    "from bmcs_shear.dic_crack.dic_crack_list2 import DICCrackList\n",
    "import numpy as np\n",
    "np.seterr(divide ='ignore', invalid='ignore');"
   ]
  },
  {
   "cell_type": "code",
   "execution_count": null,
   "id": "0b1bd994-8878-4547-aa90-748901de47e7",
   "metadata": {},
   "outputs": [],
   "source": [
    "from bmcs_shear.dic_crack import sz_tests_series_2023 as ts\n",
    "tests = [\n",
    "    ts.B1_TV1, ts.B1_TV2,\n",
    "    ts.B7_TV1, ts.B7_TV2, \n",
    "    ts.B8_TV1, ts.B8_TV2, \n",
    "    ts.B9_TV1, ts.B9_TV2, \n",
    "    ts.B10_TV1, ts.B10_TV2\n",
    "]"
   ]
  },
  {
   "cell_type": "code",
   "execution_count": null,
   "id": "b8c8bffd-5aea-415d-aa44-e75575122617",
   "metadata": {},
   "outputs": [],
   "source": [
    "for test in tests:\n",
    "    dcl = ts.new_dcl(test)\n",
    "    print(dcl.dir_name)\n",
    "    dcl.interact()"
   ]
  },
  {
   "cell_type": "code",
   "execution_count": null,
   "id": "1215d0fe-67d5-4c57-b738-04e993a84f4d",
   "metadata": {},
   "outputs": [],
   "source": []
  },
  {
   "cell_type": "code",
   "execution_count": null,
   "id": "8fd0de64-30c7-4a2b-90ba-24ac9cf8d96a",
   "metadata": {},
   "outputs": [],
   "source": [
    "import urllib\n",
    "from smb.SMBHandler import SMBHandler"
   ]
  },
  {
   "cell_type": "code",
   "execution_count": null,
   "id": "5a176244-9577-4a9d-8921-9dc0c7b8e783",
   "metadata": {},
   "outputs": [],
   "source": [
    "opener = urllib.request.build_opener(SMBHandler)\n",
    "fh = opener.open('smb://host/share/file.txt')\n",
    "data = fh.read()\n",
    "fh.close()"
   ]
  },
  {
   "cell_type": "code",
   "execution_count": null,
   "id": "96c46a67-8363-4131-9270-660f8e8e364f",
   "metadata": {},
   "outputs": [],
   "source": []
  }
 ],
 "metadata": {
  "kernelspec": {
   "display_name": "bmcs_env2",
   "language": "python",
   "name": "bmcs_env2"
  },
  "language_info": {
   "codemirror_mode": {
    "name": "ipython",
    "version": 3
   },
   "file_extension": ".py",
   "mimetype": "text/x-python",
   "name": "python",
   "nbconvert_exporter": "python",
   "pygments_lexer": "ipython3"
  }
 },
 "nbformat": 4,
 "nbformat_minor": 5
}
