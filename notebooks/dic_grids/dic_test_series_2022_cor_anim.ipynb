{
 "cells": [
  {
   "cell_type": "code",
   "execution_count": null,
   "id": "227443ce-cd93-4669-8958-ac8b27a0431a",
   "metadata": {},
   "outputs": [],
   "source": [
    "%matplotlib widget\n",
    "import ibvpy.api as ib\n",
    "import matplotlib.pylab as plt\n",
    "from matplotlib import cm\n",
    "from bmcs_shear.dic_crack import\\\n",
    "    DICGrid, DICInpUnstructuredPoints, DICStateFields, \\\n",
    "    DICAlignedGrid, DICGrid\n",
    "from bmcs_shear.dic_crack.dic_crack_list2 import DICCrackList\n",
    "import numpy as np\n",
    "np.seterr(divide ='ignore', invalid='ignore');"
   ]
  },
  {
   "cell_type": "code",
   "execution_count": null,
   "id": "02fe9a95-d09d-43a0-95be-029bc217bc76",
   "metadata": {},
   "outputs": [],
   "source": [
    "from bmcs_shear.dic_crack import sz_tests_series_2023 as ts\n",
    "tests = [\n",
    "    ts.B1_TV1, ts.B1_TV2,\n",
    "    ts.B7_TV1, ts.B7_TV2, \n",
    "    ts.B8_TV1, ts.B8_TV2, \n",
    "    ts.B9_TV1, ts.B9_TV2, \n",
    "    ts.B10_TV1, ts.B10_TV2\n",
    "]"
   ]
  },
  {
   "cell_type": "code",
   "execution_count": null,
   "id": "9d39724b-7826-4df4-a7a1-0a884ad8c437",
   "metadata": {},
   "outputs": [],
   "source": [
    "dcl = ts.new_dcl(ts.B1_TV2)"
   ]
  },
  {
   "cell_type": "code",
   "execution_count": null,
   "id": "00043a18-2bb9-4050-be23-73f0aa18f429",
   "metadata": {},
   "outputs": [],
   "source": [
    "%%capture\n",
    "\n",
    "from matplotlib import animation, rc\n",
    "from IPython.display import HTML\n",
    "from traitlets import HasTraits\n",
    "import matplotlib.gridspec as gridspec\n",
    "\n",
    "\n",
    "fig = plt.figure(figsize=(8,3))\n",
    "class CrackListAnimator(HasTraits):\n",
    "    \n",
    "    \n",
    "    def init(self):\n",
    "        print('init')\n",
    "        n_T = dcl.dsf.dic_grid.n_T\n",
    "        self.t_dic_T = np.hstack([\n",
    "            np.linspace(0,1,n_T),\n",
    "            np.ones((int(0.5*n_T),))\n",
    "        ])\n",
    "    \n",
    "    def subplots(self, fig):\n",
    "        gs = gridspec.GridSpec(ncols=2, nrows=1,\n",
    "                               width_ratios=[3, 1],\n",
    "                               #wspace=0.5,\n",
    "                               hspace=0.5,\n",
    "                               # height_ratios=[2, 1]\n",
    "                               )\n",
    "        ax_dcl = fig.add_subplot(gs[0, 0])\n",
    "        ax_FU = fig.add_subplot(gs[0, 1])\n",
    "#        return fig.subplots(1,1)\n",
    "#        return ax_dsf#, ax_FU\n",
    "        return ax_dcl, ax_FU\n",
    "\n",
    "    def plot(self, i):\n",
    "        fig.clear()\n",
    "        t = self.t_dic_T[i]\n",
    "        print('t', t)\n",
    "        axes = self.subplots(fig)\n",
    "        dcl.dsf.dic_grid.t = t\n",
    "        \n",
    "        ax_dcl, ax_FU = axes\n",
    "#        ax_dsf = axes\n",
    "#        ax_FU = axes\n",
    "        \n",
    "        dcl.bd.plot_sz_bd(ax_dcl)\n",
    "        dcl.dsf.plot_crack_detection_field(ax_dcl, fig)\n",
    "        dcl.plot_primary_cracks(ax_dcl)\n",
    "        dcl.critical_crack.plot_X_crc_t_Ka(ax_dcl, line_width=2, line_color='red', tip_color='red')\n",
    "        for crack in dcl.cracks:\n",
    "            crack.cor.trait_set(cor_marker_size=8, cor_marker_color='brown')\n",
    "            crack.cor.plot_X_cor_t(ax_dcl)\n",
    "        ax_dcl.axis('equal')\n",
    "        ax_dcl.axis('off');\n",
    "        dcl.dsf.dic_grid.plot_load_deflection(ax_FU)\n",
    "        \n",
    "    def mp4_video(self):\n",
    "        n_t = len(self.t_dic_T)\n",
    "        # call the animator. blit=True means only re-draw the parts that have changed.\n",
    "        anim = animation.FuncAnimation(fig, self.plot, init_func=self.init,\n",
    "                                       frames=n_t, interval=300, blit=True)\n",
    "        return anim.save(\"cracking_animation.gif\")\n",
    "    \n",
    "    def html5_video(self):\n",
    "        n_t = len(self.t_dic_T)\n",
    "        # call the animator. blit=True means only re-draw the parts that have changed.\n",
    "        anim = animation.FuncAnimation(fig, self.plot, init_func=self.init,\n",
    "                                       frames=n_t, interval=300, blit=True)\n",
    "        return anim.to_html5_video()"
   ]
  },
  {
   "cell_type": "code",
   "execution_count": null,
   "id": "434f39b5-9006-49ec-87c5-e7df36fa8609",
   "metadata": {},
   "outputs": [],
   "source": [
    "anim = CrackListAnimator()\n",
    "anim.init()\n",
    "with open('cracking_animation.html','w') as html_video_file:\n",
    "    html_video_file.write(anim.html5_video())"
   ]
  },
  {
   "cell_type": "code",
   "execution_count": null,
   "id": "b9cb20d9-07f7-4b9a-aa72-be420ccfde44",
   "metadata": {},
   "outputs": [],
   "source": [
    "html_video_file = open('cracking_animation.html','r')\n",
    "HTML(html_video_file.read())"
   ]
  },
  {
   "cell_type": "code",
   "execution_count": null,
   "id": "9b069b81-e11f-44bf-b9b0-39feefdb1950",
   "metadata": {},
   "outputs": [],
   "source": []
  }
 ],
 "metadata": {
  "kernelspec": {
   "display_name": "bmcs_env2",
   "language": "python",
   "name": "bmcs_env2"
  },
  "language_info": {
   "codemirror_mode": {
    "name": "ipython",
    "version": 3
   },
   "file_extension": ".py",
   "mimetype": "text/x-python",
   "name": "python",
   "nbconvert_exporter": "python",
   "pygments_lexer": "ipython3"
  }
 },
 "nbformat": 4,
 "nbformat_minor": 5
}
