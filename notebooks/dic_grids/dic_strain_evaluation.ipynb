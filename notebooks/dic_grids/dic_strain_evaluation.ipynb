{
 "cells": [
  {
   "cell_type": "markdown",
   "id": "49556e1e-5c86-4fa5-8824-181ac4125992",
   "metadata": {},
   "source": [
    "# **Strain evaluation**"
   ]
  },
  {
   "cell_type": "code",
   "execution_count": 28,
   "id": "ee8ca4b8-5a60-4117-b81c-453db3df4ab3",
   "metadata": {},
   "outputs": [],
   "source": [
    "%matplotlib widget"
   ]
  },
  {
   "cell_type": "code",
   "execution_count": 29,
   "id": "37912d43-927d-4298-9eb6-65ba4960ced0",
   "metadata": {},
   "outputs": [],
   "source": [
    "from bmcs_shear.dic_crack import DICGrid, DICAlignedGrid, DICCOR\n",
    "import ibvpy.api as ib\n",
    "import numpy as np\n",
    "import matplotlib.pylab as plt"
   ]
  },
  {
   "cell_type": "code",
   "execution_count": 30,
   "id": "2e0fc07b-f919-4b66-86cd-949c61e080c5",
   "metadata": {},
   "outputs": [],
   "source": [
    "dic_grid = DICGrid(n_x=59, n_y=15, d_x = 22, d_y = 22,  \n",
    "                     start_t = 0, end_t =8, U_factor = 100, dir_name='B1_TV1')"
   ]
  },
  {
   "cell_type": "code",
   "execution_count": 31,
   "id": "2cfceb87-cd9e-44af-a250-7de1ddefdbb8",
   "metadata": {},
   "outputs": [],
   "source": [
    "n_x, n_y = dic_grid.n_x, dic_grid.n_y\n",
    "L_x, L_y = dic_grid.L_x, dic_grid.L_y"
   ]
  },
  {
   "cell_type": "code",
   "execution_count": 32,
   "id": "fd9170ee-56db-43c4-8c21-df2bae0e5fbe",
   "metadata": {},
   "outputs": [
    {
     "data": {
      "text/plain": [
       "1276.0"
      ]
     },
     "execution_count": 32,
     "metadata": {},
     "output_type": "execute_result"
    }
   ],
   "source": [
    "L_x"
   ]
  },
  {
   "cell_type": "markdown",
   "id": "8c55af57-cbec-48ff-82d7-7d7d3551aff3",
   "metadata": {},
   "source": [
    "Construct the FEGrid  with the same structure as DICGrid "
   ]
  },
  {
   "cell_type": "code",
   "execution_count": 33,
   "id": "2d333f47-5560-4bef-a439-e0ad62ea0318",
   "metadata": {},
   "outputs": [],
   "source": [
    "xdomain = ib.XDomainFEGrid(coord_min=(L_x, 0),\n",
    "                 coord_max=(0, L_y),\n",
    "                 integ_factor=1,\n",
    "                 shape=(n_x-1, n_y-1), # number of elements!\n",
    "                 fets=ib.FETS2D4Q());"
   ]
  },
  {
   "cell_type": "markdown",
   "id": "61205000-2197-4bac-aedb-4f87e17a6d18",
   "metadata": {},
   "source": [
    "Check if the order of nodes is consistent in dic_grid and in xdomain"
   ]
  },
  {
   "cell_type": "code",
   "execution_count": 34,
   "id": "01618346-4e68-40ae-9ba6-f1b5e90719ba",
   "metadata": {},
   "outputs": [
    {
     "data": {
      "text/plain": [
       "array([[1276.,    0.],\n",
       "       [1276.,   22.],\n",
       "       [1276.,   44.],\n",
       "       [1276.,   66.],\n",
       "       [1276.,   88.]])"
      ]
     },
     "execution_count": 34,
     "metadata": {},
     "output_type": "execute_result"
    }
   ],
   "source": [
    "xdomain.mesh.X_Id[:5]"
   ]
  },
  {
   "cell_type": "markdown",
   "id": "564fc2ca-3920-434b-b105-5374f55372c2",
   "metadata": {},
   "source": [
    "Since the fe_grid does not distinguish the ij coordinates but only I\n",
    "reshape the dic_grid in the same way to ensure the order of nodes is the same"
   ]
  },
  {
   "cell_type": "code",
   "execution_count": 35,
   "id": "6e87d5db-736f-4956-9f19-6557204a50a2",
   "metadata": {},
   "outputs": [],
   "source": [
    "X_ija = dic_grid.X_ija"
   ]
  },
  {
   "cell_type": "code",
   "execution_count": 36,
   "id": "51fd5f5b-a898-45e2-91e8-c74eaac382cb",
   "metadata": {},
   "outputs": [],
   "source": [
    "X_Ia = X_ija.reshape(-1,2)"
   ]
  },
  {
   "cell_type": "markdown",
   "id": "3c3015f7-eff1-472e-8ca9-56da8a2e5237",
   "metadata": {},
   "source": [
    "Now check that the first five nodes are ordered in the same way as above in `xdomain.mesh.X_Id` "
   ]
  },
  {
   "cell_type": "code",
   "execution_count": 37,
   "id": "b93a1670-f64e-44a9-92a5-893ede71e718",
   "metadata": {},
   "outputs": [
    {
     "data": {
      "text/plain": [
       "array([[1276.,    0.],\n",
       "       [1276.,   22.],\n",
       "       [1276.,   44.],\n",
       "       [1276.,   66.],\n",
       "       [1276.,   88.]])"
      ]
     },
     "execution_count": 37,
     "metadata": {},
     "output_type": "execute_result"
    }
   ],
   "source": [
    "X_Ia[:5]"
   ]
  },
  {
   "cell_type": "markdown",
   "id": "160c6c43-d5df-4f5d-9d9a-84dd72b1c75e",
   "metadata": {},
   "source": [
    "Now we can use the displacement measured on `dic_grid` and reshape it into the \n",
    "form `Ia` that can be used in `xdomain` to calculate the strains"
   ]
  },
  {
   "cell_type": "code",
   "execution_count": 38,
   "id": "13546740-5ed3-42b7-9bb7-075223df45f2",
   "metadata": {},
   "outputs": [],
   "source": [
    "u_ija = dic_grid.u_tija[8]\n",
    "U_Ia = u_ija.reshape(-1,2)\n",
    "U_o = U_Ia.flatten() # array of displacements corresponding to the DOF enumeration"
   ]
  },
  {
   "cell_type": "code",
   "execution_count": 39,
   "id": "9385c49a-a35b-422a-8688-2a08c0141373",
   "metadata": {},
   "outputs": [],
   "source": [
    "U_Eia = U_o[xdomain.o_Eia]\n",
    "u_Ema = np.einsum('im,Eia->Ema',xdomain.fets.N_im, U_Eia)\n",
    "u_Ea = np.average(u_Ema, axis=1)"
   ]
  },
  {
   "cell_type": "markdown",
   "id": "2a5d23f2-b7d3-474b-8c99-d32eb1471b52",
   "metadata": {},
   "source": [
    "The mapping from global displacement vector `U_o` to the strain tensor `eps_Emab`"
   ]
  },
  {
   "cell_type": "code",
   "execution_count": 40,
   "id": "89980203-f703-488d-9a0a-af4e0efbdccf",
   "metadata": {},
   "outputs": [],
   "source": [
    "eps_Emab = xdomain.map_U_to_field(U_o)\n",
    "eps_abp = np.einsum('Emab->abEm', eps_Emab).reshape(2,2,-1)"
   ]
  },
  {
   "cell_type": "markdown",
   "id": "ed54edd4-ded9-4c4e-a7c0-a4f9852db464",
   "metadata": {},
   "source": [
    "Evaluate the eigenvalues and eigenvectors in each material point `Em`"
   ]
  },
  {
   "cell_type": "code",
   "execution_count": 41,
   "id": "3449767c-4b8f-4e44-af89-9c25e277c4b5",
   "metadata": {},
   "outputs": [],
   "source": [
    "eps_Emc, eps_Emcd = np.linalg.eig(eps_Emab)\n",
    "eps_Ec = np.average(eps_Emc, axis=1)"
   ]
  },
  {
   "cell_type": "code",
   "execution_count": 42,
   "id": "fc5a34b3-1eb0-49d0-8555-537b1f980b2e",
   "metadata": {},
   "outputs": [],
   "source": [
    "max_eps_E = np.max(eps_Ec, axis=-1)\n",
    "pos_max_eps_E = ((max_eps_E + np.fabs(max_eps_E)) / 2)"
   ]
  },
  {
   "cell_type": "code",
   "execution_count": 43,
   "id": "63f96147-d54b-4cdf-bb6a-9d81d98dd214",
   "metadata": {},
   "outputs": [],
   "source": [
    "x_Ea = np.average(xdomain.x_Ema, axis=1)\n",
    "x_aE = np.einsum('Ea->aE', x_Ea + u_Ea * 10)"
   ]
  },
  {
   "cell_type": "code",
   "execution_count": 44,
   "id": "86200937-206e-4b2f-9e3d-0be0599df7bf",
   "metadata": {},
   "outputs": [
    {
     "data": {
      "application/vnd.jupyter.widget-view+json": {
       "model_id": "89744e9931e44db1854312e494e107b7",
       "version_major": 2,
       "version_minor": 0
      },
      "text/plain": [
       "Canvas(toolbar=Toolbar(toolitems=[('Home', 'Reset original view', 'home', 'home'), ('Back', 'Back to previous …"
      ]
     },
     "metadata": {},
     "output_type": "display_data"
    },
    {
     "data": {
      "text/plain": [
       "(-56.53937500000001, 1346.276875, -113.63374999999999, 303.62375000000003)"
      ]
     },
     "execution_count": 44,
     "metadata": {},
     "output_type": "execute_result"
    }
   ],
   "source": [
    "fig, ax = plt.subplots(1,1)\n",
    "ax.scatter(*x_aE, s=2000*pos_max_eps_E, color='red', alpha=0.4)\n",
    "ax.axis('equal')"
   ]
  },
  {
   "cell_type": "markdown",
   "id": "97cd406b-4aee-4f8c-97f3-b9008e0b5b23",
   "metadata": {},
   "source": [
    "# Discussion of approaches to an automatic crack detection\n",
    "\n",
    "The goal is to use the above field representation with the help of interpolation functions\n",
    "that can automatically detect the cracks and teeth at the ultimate state."
   ]
  },
  {
   "cell_type": "markdown",
   "id": "02ed3e30-04c4-415a-b742-9a3f19be98a9",
   "metadata": {},
   "source": [
    "Interpolate the above grid using the shape functions\n",
    "$$\n",
    "e_E = N_{i} e_{Ei}\n",
    "$$"
   ]
  },
  {
   "cell_type": "markdown",
   "id": "65502332-1841-4b2c-a808-f1a3704335f2",
   "metadata": {},
   "source": [
    "The derivative of the principle tensile strain field can then be constructed as\n",
    "$$\n",
    " \\nabla_\\boldsymbol{x} e_{E} = \\nabla_\\boldsymbol{x} N_i e_{Ei}\n",
    "$$"
   ]
  },
  {
   "cell_type": "markdown",
   "id": "f37b3b03-2f25-4507-82b1-447ff3b53453",
   "metadata": {},
   "source": [
    "Using the index notation $\\boldsymbol{x} = x_a$, we can rewrite this equation as\n",
    "$$\n",
    "e_{E,a} = N_{i,a} e_{Ei}\n",
    "$$"
   ]
  },
  {
   "cell_type": "markdown",
   "id": "650b3c03-fb88-44cd-a6c0-9398bd342b62",
   "metadata": {},
   "source": [
    "It is possible to pick also the direction of the principal tensile strain and then to \n",
    "use the approximation  "
   ]
  },
  {
   "cell_type": "markdown",
   "id": "fe07d356-718c-4ac0-9ec8-53d1088e6666",
   "metadata": {},
   "source": [
    "# Model component: **DICStrainGrid**\n",
    "\n",
    "The above prototyping code has been implemented within the `DICStrainGrid` model component\n",
    "as part of the `DICInspector`"
   ]
  },
  {
   "cell_type": "code",
   "execution_count": 45,
   "id": "6a45424e-5f39-4a05-a30e-dc7fd0785cac",
   "metadata": {},
   "outputs": [],
   "source": [
    "from bmcs_shear.dic_crack import DICStrainGrid"
   ]
  },
  {
   "cell_type": "code",
   "execution_count": 46,
   "id": "218e9769-fcd2-4d2d-b6aa-e6b08b36910d",
   "metadata": {},
   "outputs": [],
   "source": [
    "dic_eps = DICStrainGrid(dic_grid=dic_grid)"
   ]
  },
  {
   "cell_type": "code",
   "execution_count": 47,
   "id": "9c67fc7b-977b-4988-b558-05490db34838",
   "metadata": {},
   "outputs": [
    {
     "data": {
      "application/vnd.jupyter.widget-view+json": {
       "model_id": "35f5d22306194cb393669f04d0673be6",
       "version_major": 2,
       "version_minor": 0
      },
      "text/plain": [
       "VBox(children=(HBox(children=(VBox(children=(Tree(layout=Layout(align_items='stretch', border='solid 1px black…"
      ]
     },
     "metadata": {},
     "output_type": "display_data"
    }
   ],
   "source": [
    "dic_eps.interact()"
   ]
  },
  {
   "cell_type": "code",
   "execution_count": null,
   "id": "9bbad4bb-4988-4e70-8539-b872e4d52937",
   "metadata": {},
   "outputs": [],
   "source": []
  }
 ],
 "metadata": {
  "kernelspec": {
   "display_name": "bmcs_env",
   "language": "python",
   "name": "bmcs_env"
  },
  "language_info": {
   "codemirror_mode": {
    "name": "ipython",
    "version": 3
   },
   "file_extension": ".py",
   "mimetype": "text/x-python",
   "name": "python",
   "nbconvert_exporter": "python",
   "pygments_lexer": "ipython3",
   "version": "3.8.8"
  }
 },
 "nbformat": 4,
 "nbformat_minor": 5
}
