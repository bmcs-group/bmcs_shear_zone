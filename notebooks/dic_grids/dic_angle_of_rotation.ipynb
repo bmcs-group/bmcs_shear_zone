{
 "cells": [
  {
   "cell_type": "code",
   "execution_count": 3,
   "metadata": {},
   "outputs": [],
   "source": [
    "%matplotlib widget"
   ]
  },
  {
   "cell_type": "code",
   "execution_count": 4,
   "metadata": {},
   "outputs": [],
   "source": [
    "from bmcs_shear.dic_crack import DICGrid, DICAlignedGrid, DICCOR, DICInspector, DICCrack"
   ]
  },
  {
   "cell_type": "markdown",
   "metadata": {},
   "source": [
    "# $\\varphi$ Evaluation"
   ]
  },
  {
   "cell_type": "markdown",
   "metadata": {},
   "source": [
    "<img src=\"phi eval.png\" width=\"700\"/> "
   ]
  },
  {
   "cell_type": "code",
   "execution_count": 5,
   "metadata": {
    "scrolled": false
   },
   "outputs": [],
   "source": [
    "import numpy as np\n",
    "end_t_val = np.arange(1,26,1)\n",
    "phi_val = []\n",
    "for i in range(len(end_t_val)):\n",
    "    \n",
    "    # dic_grd, dic_aligned_grid, dic_cor\n",
    "    dic_grid = DICGrid(n_x=58, n_y=15, d_x = 22, d_y = 22, \n",
    "                     start_t = 0, end_t =end_t_val[i], U_factor = 1, dir_name='B6_TV1')\n",
    "    dic_aligned_grid = DICAlignedGrid(dic_grid=dic_grid,\n",
    "                                 y_ref_i=-17, y_ref_j_min=1, y_ref_j_max=10)\n",
    "    dic_cor = DICCOR(dic_aligned_grid=dic_aligned_grid,\n",
    "                 n_x_min = 29, n_x_max = 38, n_x_step=1, n_y_min = 4, n_y_step = 1)\n",
    "    \n",
    "    # evaluating deltas\n",
    "    delta_u_ul_ija = dic_cor.dic_aligned_grid.delta_u_ul_ija\n",
    "    delta_u0_ul_ija = dic_cor.dic_aligned_grid.delta_u0_ul_ija\n",
    "    \n",
    "    # selected points for rotation\n",
    "    rot_Xu_ija = dic_cor.dic_aligned_grid.rot_Xu_ija\n",
    "    rot_Xu_ija_sel = (dic_cor.dic_aligned_grid.rot_Xu_ija[dic_cor.n_x_min:dic_cor.n_x_max:dic_cor.n_x_step,\n",
    "                                   dic_cor.n_y_min:dic_cor.n_y_max:dic_cor.n_y_step])\n",
    "    rot_X_pa_sel = rot_Xu_ija_sel.reshape(-1, 2)\n",
    "\n",
    "    # selection of grid of points\n",
    "    X_ija_sel = dic_cor.dic_grid.X_ija[dic_cor.n_x_min:dic_cor.n_x_max:dic_cor.n_x_step,\n",
    "                    dic_cor.n_y_min:dic_cor.n_y_max:dic_cor.n_y_step]\n",
    "    X_pa_sel = X_ija_sel.reshape(-1, 2)\n",
    "\n",
    "    # evaluating distances using distance formula\n",
    "    d_tc = np.sqrt((dic_cor.x_cor_pa_sol[:, 0] - rot_X_pa_sel[:, 0]) ** 2\n",
    "                                   + (dic_cor.x_cor_pa_sol[:, 1] - rot_X_pa_sel[:, 1]) ** 2)\n",
    "\n",
    "    d_0c = np.sqrt((dic_cor.x_cor_pa_sol[:, 0] - X_pa_sel[:, 0]) ** 2\n",
    "                                     + (dic_cor.x_cor_pa_sol[:, 1] - X_pa_sel[:, 1]) ** 2)\n",
    "\n",
    "    d_0t = np.sqrt((rot_X_pa_sel[:, 0] - X_pa_sel[:, 0]) ** 2\n",
    "                                     + (rot_X_pa_sel[:, 1] - X_pa_sel[:, 1]) ** 2)\n",
    "\n",
    "    # averaging all distances\n",
    "    d_tc_avg = np.average(d_tc)\n",
    "    d_0c_avg = np.average(d_0c)\n",
    "    d_0t_avg = np.average(d_0t)\n",
    "    \n",
    "    # calculating phi using law of cosine\n",
    "    phi = np.arccos(\n",
    "            (d_tc_avg ** 2 + d_0c_avg ** 2 - d_0t_avg ** 2)\n",
    "            / (2 * d_tc_avg * d_0c_avg))\n",
    "    phi_val.append(phi)\n",
    "    #print(phi_val)"
   ]
  },
  {
   "cell_type": "code",
   "execution_count": 6,
   "metadata": {},
   "outputs": [],
   "source": [
    "load = np.loadtxt(r\"D:\\Shear zones\\load text files\\Load_b6_tv1.txt\", unpack=True)\n",
    "#np.shape(load)\n",
    "#load"
   ]
  },
  {
   "cell_type": "code",
   "execution_count": 7,
   "metadata": {},
   "outputs": [
    {
     "data": {
      "application/vnd.jupyter.widget-view+json": {
       "model_id": "a03c09f8bec1441c88b6425cf2177642",
       "version_major": 2,
       "version_minor": 0
      },
      "text/html": [
       "\n",
       "            <div style=\"display: inline-block;\">\n",
       "                <div class=\"jupyter-widgets widget-label\" style=\"text-align: center;\">\n",
       "                    Figure\n",
       "                </div>\n",
       "                <img src='data:image/png;base64,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' width=1000.0/>\n",
       "            </div>\n",
       "        "
      ],
      "text/plain": [
       "Canvas(toolbar=Toolbar(toolitems=[('Home', 'Reset original view', 'home', 'home'), ('Back', 'Back to previous …"
      ]
     },
     "metadata": {},
     "output_type": "display_data"
    }
   ],
   "source": [
    "import matplotlib.pyplot as plt\n",
    "_, ax1 = plt.subplots(1, 1, figsize=(10,6))\n",
    "\n",
    "ax1.plot(phi_val[0:18], load[1:19], color = 'blue')\n",
    "ax1.set_xlabel(r'$\\varphi$'), ax1.set_ylabel('Load')\n",
    "plt.savefig(\"D:\\\\Shear zones\\drawings\\Load_rotation.pdf\")"
   ]
  },
  {
   "cell_type": "code",
   "execution_count": 8,
   "metadata": {},
   "outputs": [],
   "source": [
    "# home_dir = expanduser('~')\n",
    "# data_dir = join(home_dir,'simdb','data','load')\n",
    "# data_dir"
   ]
  },
  {
   "cell_type": "code",
   "execution_count": 9,
   "metadata": {},
   "outputs": [],
   "source": [
    "# results = [join(data_dir,each) \n",
    "#            for each in sorted(os.listdir(data_dir)) \n",
    "#            if each.endswith('.txt')]\n",
    "# results"
   ]
  },
  {
   "cell_type": "code",
   "execution_count": null,
   "metadata": {},
   "outputs": [],
   "source": []
  },
  {
   "cell_type": "code",
   "execution_count": 10,
   "metadata": {},
   "outputs": [],
   "source": [
    "# import numpy as np\n",
    "\n",
    "# _, rot_vect_u_anp, _ = dic_cor.dic_aligned_grid.displ_grids\n",
    "# rot_vect_u_anp_sel = rot_vect_u_anp[:,:,dic_cor.dic_aligned_grid.y_ref_j_min:dic_cor.dic_aligned_grid.y_ref_j_max]\n",
    "# rot_Xu_ija_sel = (dic_cor.dic_aligned_grid.rot_Xu_ija[dic_cor.n_x_min:dic_cor.n_x_max:dic_cor.n_x_step,\n",
    "#                                    dic_cor.n_y_min:dic_cor.n_y_max:dic_cor.n_y_step])\n",
    "# rot_X_pa_sel = rot_Xu_ija_sel.reshape(-1, 2) \n",
    "# dist_x_cor_u_end = np.sqrt((dic_cor.x_cor_pa_sol[:,0] - rot_X_pa_sel[:,0])**2\n",
    "#                      +(dic_cor.x_cor_pa_sol[:,1] - rot_X_pa_sel[:,1])**2)\n",
    "# np.shape(rot_vect_u_anp[:,:,dic_cor.n_y_min:dic_cor.n_y_max:dic_cor.n_y_step])\n",
    "# rot_vect_u_anp[:,:,:]\n",
    "# X_ija_sel = dic_cor.dic_grid.X_ija[dic_cor.n_x_min:dic_cor.n_x_max:dic_cor.n_x_step,\n",
    "#                                    dic_cor.n_y_min:dic_cor.n_y_max:dic_cor.n_y_step]\n",
    "# X_pa_sel = X_ija_sel.reshape(-1, 2)\n",
    "# dist_x_cor_u_start = np.sqrt((dic_cor.x_cor_pa_sol[:,0] - X_pa_sel[:,0])**2\n",
    "#                       +(dic_cor.x_cor_pa_sol[:,1] - X_pa_sel[:,1])**2)\n",
    "# dist_u_end_u_start = np.sqrt((rot_X_pa_sel[:,0] - X_pa_sel[:,0])**2\n",
    "#                       +(rot_X_pa_sel[:,1] - X_pa_sel[:,1])**2)\n",
    "# # phi = np.arccos((dist_x_cor_u_end**2 + dist_x_cor_u_start**2 - dist_u_end_u_start**2)\n",
    "# #                 / (2 * dist_x_cor_u_end * dist_x_cor_u_start))\n",
    "# dist_x_cor_u_end_average = np.average(dist_x_cor_u_end)\n",
    "# dist_x_cor_u_start_average = np.average(dist_x_cor_u_start)\n",
    "# dist_u_end_u_start_average = np.average(dist_u_end_u_start)\n",
    "# dist_x_cor_u_end_average, dist_x_cor_u_start_average, dist_u_end_u_start_average\n",
    "# phi = np.arccos((dist_x_cor_u_end_average**2 + dist_x_cor_u_start_average**2 - dist_u_end_u_start_average**2)\n",
    "#                 / (2 * dist_x_cor_u_end_average * dist_x_cor_u_start_average))\n",
    "# phi * 180/np.pi"
   ]
  },
  {
   "cell_type": "code",
   "execution_count": null,
   "metadata": {},
   "outputs": [],
   "source": []
  }
 ],
 "metadata": {
  "kernelspec": {
   "display_name": "Python 3",
   "language": "python",
   "name": "python3"
  },
  "language_info": {
   "codemirror_mode": {
    "name": "ipython",
    "version": 3
   },
   "file_extension": ".py",
   "mimetype": "text/x-python",
   "name": "python",
   "nbconvert_exporter": "python",
   "pygments_lexer": "ipython3",
   "version": "3.9.7"
  }
 },
 "nbformat": 4,
 "nbformat_minor": 4
}
