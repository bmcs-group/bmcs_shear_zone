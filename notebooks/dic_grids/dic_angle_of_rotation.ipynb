{
 "cells": [
  {
   "cell_type": "code",
   "execution_count": 6,
   "metadata": {},
   "outputs": [],
   "source": [
    "%matplotlib widget"
   ]
  },
  {
   "cell_type": "code",
   "execution_count": 7,
   "metadata": {},
   "outputs": [],
   "source": [
    "from bmcs_shear.dic_crack import DICGrid, DICAlignedGrid, DICCOR, DICInspector, DICCrack"
   ]
  },
  {
   "cell_type": "markdown",
   "metadata": {},
   "source": [
    "# $\\varphi$ Evaluation"
   ]
  },
  {
   "cell_type": "markdown",
   "metadata": {},
   "source": [
    "<img src=\"phi eval.png\" width=\"700\"/> "
   ]
  },
  {
   "cell_type": "markdown",
   "metadata": {},
   "source": [
    "The distance formulas for calculating $d_{0t}$ and $d_[0c]$ are as follows:\n",
    "\\begin{equation}\n",
    "    d_{0t} = \\sqrt{(x_t - x_0)^2 + (y_t - y_0)^2}\n",
    "    \\label{d_0t}\n",
    "\\end{equation}\n",
    "\n",
    "\\begin{equation}\n",
    "    d_{0c} = \\sqrt{(x_{\\mathrm{COR}} - x_0)^2 + (y_{\\mathrm{COR}} - y_0)^2}\n",
    "    \\label{d_0c}\n",
    "\\end{equation}\n",
    "After calculating the distances, the angle of rotation $\\varphi$ can be calculated as:\n",
    "\\begin{equation}\n",
    "    \\varphi = \\arctan \\left(\\frac{d_{0t}}{d_{0c}} \\right)\n",
    "    \\label{varphi}\n",
    "\\end{equation}"
   ]
  },
  {
   "cell_type": "code",
   "execution_count": 17,
   "metadata": {
    "scrolled": false
   },
   "outputs": [
    {
     "name": "stdout",
     "output_type": "stream",
     "text": [
      "phi_avg 0.008974807379963055\n",
      "phi_avg 0.027847481375581996\n",
      "phi_avg 0.04381331265356346\n",
      "phi_avg 0.055978615353909404\n",
      "phi_avg 0.06245813632601581\n",
      "phi_avg 0.06840892303563316\n",
      "phi_avg 0.06505087460884663\n",
      "phi_avg 0.07321531909703938\n",
      "phi_avg 0.0737476687583077\n",
      "phi_avg 0.08222713825157449\n",
      "phi_avg 0.07802921095800469\n",
      "phi_avg 0.07734420222783003\n",
      "phi_avg 0.07238917830757183\n",
      "phi_avg 0.07449255011437024\n",
      "phi_avg 0.07844323423048204\n",
      "phi_avg 0.07427167348231953\n",
      "phi_avg 0.0749021962827637\n",
      "phi_avg 0.08506587419975753\n",
      "phi_avg 0.07999661716459774\n",
      "phi_avg 0.079994232349502\n",
      "phi_avg 0.046311839775123195\n",
      "phi_avg 0.08149194026255381\n",
      "phi_avg 0.08029587865590047\n",
      "phi_avg 0.07639584095831205\n",
      "phi_avg 0.0861478057018022\n",
      "phi_avg 0.09087965967291733\n",
      "phi_avg 0.07324386854169807\n",
      "phi_avg 0.05838215301080176\n",
      "phi_avg 0.06038048442992672\n",
      "phi_avg 0.011275507784096105\n"
     ]
    }
   ],
   "source": [
    "import numpy as np\n",
    "end_t_arr = np.arange(1,31,1)\n",
    "phi_arr = []\n",
    "#for i in range(len(end_t_val)):\n",
    "for end_t in end_t_arr:\n",
    "    \n",
    "    # dic_grd, dic_aligned_grid, dic_cor\n",
    "    dic_grid = DICGrid(n_x=58, n_y=15, d_x=22, d_y=22, \n",
    "                     start_t=0, end_t=end_t, U_factor=1, dir_name='B6_TV1')\n",
    "    dic_aligned_grid = DICAlignedGrid(dic_grid=dic_grid,\n",
    "                                 y_ref_i=-17, y_ref_j_min=1, y_ref_j_max=10)\n",
    "    dic_cor = DICCOR(dic_aligned_grid=dic_aligned_grid,\n",
    "                 n_x_min = 29, n_x_max = 38, n_x_step=1, n_y_min = 4, n_y_step = 1)\n",
    "    \n",
    "    # evaluating deltas\n",
    "    delta_u_ul_ija = dic_cor.dic_aligned_grid.delta_u_ul_ija\n",
    "    delta_u0_ul_ija = dic_cor.dic_aligned_grid.delta_u0_ul_ija\n",
    "    \n",
    "    # selected points for rotation\n",
    "    rot_Xu_ija = dic_cor.dic_aligned_grid.rot_Xu_ija\n",
    "    rot_Xu_ija_sel = (dic_cor.dic_aligned_grid.rot_Xu_ija[dic_cor.n_x_min:dic_cor.n_x_max:dic_cor.n_x_step,\n",
    "                                   dic_cor.n_y_min:dic_cor.n_y_max:dic_cor.n_y_step])\n",
    "    rot_X_pa_sel = rot_Xu_ija_sel.reshape(-1, 2)\n",
    "\n",
    "    # selection of grid of points\n",
    "    X_ija_sel = dic_cor.dic_grid.X_ija[dic_cor.n_x_min:dic_cor.n_x_max:dic_cor.n_x_step,\n",
    "                    dic_cor.n_y_min:dic_cor.n_y_max:dic_cor.n_y_step]\n",
    "    X_pa_sel = X_ija_sel.reshape(-1, 2)\n",
    "\n",
    "    # evaluating distances using distance formula\n",
    "\n",
    "    d_0c = np.sqrt((dic_cor.x_cor_pa_sol[:, 0] - X_pa_sel[:, 0]) ** 2\n",
    "                                     + (dic_cor.x_cor_pa_sol[:, 1] - X_pa_sel[:, 1]) ** 2)\n",
    "\n",
    "    d_0t = np.sqrt((rot_X_pa_sel[:, 0] - X_pa_sel[:, 0]) ** 2\n",
    "                                     + (rot_X_pa_sel[:, 1] - X_pa_sel[:, 1]) ** 2)\n",
    "    \n",
    "    phi = np.arctan(d_0t/d_0c)\n",
    "    \n",
    "    phi_avg = np.average(phi)\n",
    "    \n",
    "    phi_arr.append(phi_avg)\n",
    "    \n",
    "    print('phi_avg', phi_avg)"
   ]
  },
  {
   "cell_type": "code",
   "execution_count": 18,
   "metadata": {},
   "outputs": [],
   "source": [
    "load = np.loadtxt(r\"D:\\Shear zones\\load text files\\Load_b6_tv1.txt\", unpack=True)\n",
    "#np.shape(load)\n",
    "#load"
   ]
  },
  {
   "cell_type": "code",
   "execution_count": 23,
   "metadata": {},
   "outputs": [
    {
     "data": {
      "text/plain": [
       "(Text(0.5, 0, '$\\\\varphi$'), Text(0, 0.5, 'Load'))"
      ]
     },
     "execution_count": 23,
     "metadata": {},
     "output_type": "execute_result"
    },
    {
     "data": {
      "application/vnd.jupyter.widget-view+json": {
       "model_id": "c30a05a3a9f343f9b3ba15b43bc07d21",
       "version_major": 2,
       "version_minor": 0
      },
      "text/html": [
       "\n",
       "            <div style=\"display: inline-block;\">\n",
       "                <div class=\"jupyter-widgets widget-label\" style=\"text-align: center;\">\n",
       "                    Figure\n",
       "                </div>\n",
       "                <img src='data:image/png;base64,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' width=1000.0/>\n",
       "            </div>\n",
       "        "
      ],
      "text/plain": [
       "Canvas(toolbar=Toolbar(toolitems=[('Home', 'Reset original view', 'home', 'home'), ('Back', 'Back to previous …"
      ]
     },
     "metadata": {},
     "output_type": "display_data"
    }
   ],
   "source": [
    "import matplotlib.pyplot as plt\n",
    "_, ax1 = plt.subplots(1, 1, figsize=(10,6))\n",
    "\n",
    "ax1.plot(phi_arr[0:18], load[1:19], color = 'blue')\n",
    "ax1.set_xlabel(r'$\\varphi$'), ax1.set_ylabel('Load')\n",
    "#plt.savefig(\"D:\\\\Shear zones\\drawings\\Load_rotation.pdf\")"
   ]
  },
  {
   "cell_type": "code",
   "execution_count": null,
   "metadata": {},
   "outputs": [],
   "source": [
    "#     d_tc = np.sqrt((dic_cor.x_cor_pa_sol[:, 0] - rot_X_pa_sel[:, 0]) ** 2\n",
    "#                                    + (dic_cor.x_cor_pa_sol[:, 1] - rot_X_pa_sel[:, 1]) ** 2)\n",
    "\n",
    "    \n",
    "#     # averaging all distances\n",
    "#     d_tc_avg = np.average(d_tc)\n",
    "#     d_0c_avg = np.average(d_0c)\n",
    "#     d_0t_avg = np.average(d_0t)\n",
    "\n",
    "\n",
    "    \n",
    "#     # calculating phi using law of cosine\n",
    "#     phi = np.arccos(\n",
    "#             (d_tc_avg ** 2 + d_0c_avg ** 2 - d_0t_avg ** 2)\n",
    "#             / (2 * d_tc_avg * d_0c_avg))\n",
    "#     phi_val.append(phi)\n",
    "    #print(phi_val)\n",
    "    "
   ]
  }
 ],
 "metadata": {
  "kernelspec": {
   "display_name": "Python 3",
   "language": "python",
   "name": "python3"
  },
  "language_info": {
   "codemirror_mode": {
    "name": "ipython",
    "version": 3
   },
   "file_extension": ".py",
   "mimetype": "text/x-python",
   "name": "python",
   "nbconvert_exporter": "python",
   "pygments_lexer": "ipython3",
   "version": "3.9.7"
  }
 },
 "nbformat": 4,
 "nbformat_minor": 4
}
