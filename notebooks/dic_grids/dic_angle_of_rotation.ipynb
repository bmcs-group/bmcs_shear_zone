{
 "cells": [
  {
   "cell_type": "code",
   "execution_count": 1,
   "metadata": {},
   "outputs": [],
   "source": [
    "%matplotlib widget"
   ]
  },
  {
   "cell_type": "code",
   "execution_count": 2,
   "metadata": {},
   "outputs": [],
   "source": [
    "from bmcs_shear.dic_crack import DICGrid, DICAlignedGrid, DICCOR, DICInspector, DICCrack"
   ]
  },
  {
   "cell_type": "markdown",
   "metadata": {},
   "source": [
    "# $\\varphi$ Evaluation"
   ]
  },
  {
   "cell_type": "markdown",
   "metadata": {},
   "source": [
    "<img src=\"phi eval.png\" width=\"700\"/> "
   ]
  },
  {
   "cell_type": "markdown",
   "metadata": {},
   "source": [
    "The distance formulas for calculating $d_{0t}$ and $d_[0c]$ are as follows:\n",
    "\\begin{equation}\n",
    "    d_{0t} = \\sqrt{(x_t - x_0)^2 + (y_t - y_0)^2}\n",
    "    \\label{d_0t}\n",
    "\\end{equation}\n",
    "\n",
    "\\begin{equation}\n",
    "    d_{0c} = \\sqrt{(x_{\\mathrm{COR}} - x_0)^2 + (y_{\\mathrm{COR}} - y_0)^2}\n",
    "    \\label{d_0c}\n",
    "\\end{equation}\n",
    "After calculating the distances, the angle of rotation $\\varphi$ can be calculated as:\n",
    "\\begin{equation}\n",
    "    \\varphi = \\arctan \\left(\\frac{d_{0t}}{d_{0c}} \\right)\n",
    "    \\label{varphi}\n",
    "\\end{equation}"
   ]
  },
  {
   "cell_type": "code",
   "execution_count": 21,
   "metadata": {},
   "outputs": [],
   "source": [
    "dic_grid = DICGrid(n_x=58, n_y=15, d_x=22, d_y=22, \n",
    "                   start_t=0, end_t=-1, U_factor=1, dir_name='B6_TV1')\n",
    "dic_aligned_grid = DICAlignedGrid(dic_grid=dic_grid,\n",
    "                                  y_ref_i=-17, y_ref_j_min=1, y_ref_j_max=10)\n",
    "dic_cor = DICCOR(dic_aligned_grid=dic_aligned_grid,\n",
    "                 n_x_min=29, n_x_max=38, n_x_step=1, n_y_min=4, n_y_step=1)"
   ]
  },
  {
   "cell_type": "code",
   "execution_count": 22,
   "metadata": {},
   "outputs": [
    {
     "name": "stdout",
     "output_type": "stream",
     "text": [
      "evaluating step 1\n",
      "phi_avg 0.0007544421205206335\n",
      "evaluating step 5\n",
      "phi_avg 0.010358894700952909\n",
      "evaluating step 9\n",
      "phi_avg 0.008088457340519759\n",
      "evaluating step 13\n",
      "phi_avg 0.014549479888480352\n",
      "evaluating step 17\n",
      "phi_avg 0.018225807677771492\n",
      "evaluating step 21\n",
      "phi_avg 0.018188392169299728\n",
      "evaluating step 25\n",
      "phi_avg 0.018815503875041065\n",
      "evaluating step 29\n",
      "phi_avg 0.019300120841369037\n"
     ]
    }
   ],
   "source": [
    "import numpy as np\n",
    "end_t_arr = np.arange(1,31,1)\n",
    "phi_arr = []\n",
    "for end_t in end_t_arr[::4]:\n",
    "    print('evaluating step', end_t)\n",
    "\n",
    "    dic_grid.end_t = end_t\n",
    "\n",
    "    # selected points for rotation\n",
    "    XU_ija = dic_cor.dic_aligned_grid.rot_Xu_ija # check the refence system and verify\n",
    "    XU_ija_sel = (XU_ija[dic_cor.n_x_min:dic_cor.n_x_max:dic_cor.n_x_step,\n",
    "                         dic_cor.n_y_min:dic_cor.n_y_max:dic_cor.n_y_step])\n",
    "    XU_pr = XU_ija_sel.reshape(-1, 2)\n",
    "\n",
    "    dic_cor.dic_grid.X_ija\n",
    "    # selection of grid of points\n",
    "    X_ija_sel = dic_cor.dic_grid.X_ija[dic_cor.n_x_min:dic_cor.n_x_max:dic_cor.n_x_step,\n",
    "                                       dic_cor.n_y_min:dic_cor.n_y_max:dic_cor.n_y_step]\n",
    "    X_pr = X_ija_sel.reshape(-1, 2)\n",
    "\n",
    "    # evaluating distances using distance formula\n",
    "    X_cor_r = dic_cor.X_cor\n",
    "    XU_mid_pr = (XU_pr + X_pr) / 2\n",
    "\n",
    "    V_X_XU_mid_pr = X_cor_r[np.newaxis, :] - XU_mid_pr\n",
    "    V_XU_XU_mid_pr = XU_pr - XU_mid_pr\n",
    "\n",
    "    len_d_0c = np.sqrt(np.einsum('...i,...i->...', V_X_XU_mid_pr, V_X_XU_mid_pr ))\n",
    "    len_d_0t = np.sqrt(np.einsum('...i,...i->...', V_XU_XU_mid_pr, V_XU_XU_mid_pr ))\n",
    "\n",
    "    phi = 2*np.arctan(len_d_0t/len_d_0c)\n",
    "    phi_avg = np.average(phi)\n",
    "    phi_arr.append(phi_avg)\n",
    "\n",
    "    print('phi_avg', phi_avg)"
   ]
  },
  {
   "cell_type": "code",
   "execution_count": 3,
   "metadata": {},
   "outputs": [
    {
     "name": "stdout",
     "output_type": "stream",
     "text": [
      "evaluating step 1\n",
      "phi_avg 0.0122229106702519\n",
      "evaluating step 2\n",
      "phi_avg 0.016094583751408282\n",
      "evaluating step 3\n",
      "phi_avg 0.05513367611516827\n",
      "evaluating step 4\n",
      "phi_avg 0.05579961153844669\n",
      "evaluating step 5\n",
      "phi_avg 0.11996935016400637\n",
      "evaluating step 6\n",
      "phi_avg 0.12040228000507716\n",
      "evaluating step 7\n",
      "phi_avg 0.12608153662523652\n",
      "evaluating step 8\n",
      "phi_avg 0.13164695674670884\n",
      "evaluating step 9\n",
      "phi_avg 0.08218906525226433\n",
      "evaluating step 10\n",
      "phi_avg 0.11996935016400637\n",
      "evaluating step 11\n",
      "phi_avg 0.10326890910485441\n",
      "evaluating step 12\n",
      "phi_avg 0.12040228000507716\n",
      "evaluating step 13\n",
      "phi_avg 0.12722081595633547\n",
      "evaluating step 14\n",
      "phi_avg 0.12365483492551235\n",
      "evaluating step 15\n",
      "phi_avg 0.11730561444407521\n",
      "evaluating step 16\n",
      "phi_avg 0.12485706242450283\n",
      "evaluating step 17\n",
      "phi_avg 0.14172350144068913\n",
      "evaluating step 18\n",
      "phi_avg 0.1383843937048634\n",
      "evaluating step 19\n"
     ]
    },
    {
     "name": "stderr",
     "output_type": "stream",
     "text": [
      "<ipython-input-3-9ce84de8ac07>:37: RuntimeWarning: invalid value encountered in true_divide\n",
      "  phi = np.arctan(d_0t/d_0c)\n"
     ]
    },
    {
     "name": "stdout",
     "output_type": "stream",
     "text": [
      "phi_avg nan\n",
      "evaluating step 20\n",
      "phi_avg 0.1385144137364011\n",
      "evaluating step 21\n",
      "phi_avg 0.1228824851998865\n",
      "evaluating step 22\n",
      "phi_avg 0.1240260113771447\n",
      "evaluating step 23\n",
      "phi_avg 0.1236940637529132\n",
      "evaluating step 24\n",
      "phi_avg 0.136541904960108\n",
      "evaluating step 25\n",
      "phi_avg 0.1274495500867469\n",
      "evaluating step 26\n",
      "phi_avg 0.14469229331382738\n",
      "evaluating step 27\n",
      "phi_avg 0.14079073446911697\n",
      "evaluating step 28\n",
      "phi_avg 0.1333560491964985\n",
      "evaluating step 29\n",
      "phi_avg 0.12598062787454214\n",
      "evaluating step 30\n",
      "phi_avg 0.0016357673424745956\n"
     ]
    }
   ],
   "source": [
    "import numpy as np\n",
    "end_t_arr = np.arange(1,31,1)\n",
    "phi_arr = []\n",
    "for end_t in end_t_arr:\n",
    "    print('evaluating step', end_t)\n",
    "    # dic_grd, dic_aligned_grid, dic_cor\n",
    "    dic_grid = DICGrid(n_x=58, n_y=15, d_x=22, d_y=22, \n",
    "                     start_t=0, end_t=end_t, U_factor=1, dir_name='B6_TV1')\n",
    "    dic_aligned_grid = DICAlignedGrid(dic_grid=dic_grid,\n",
    "                                 y_ref_i=-17, y_ref_j_min=1, y_ref_j_max=10)\n",
    "    dic_cor = DICCOR(dic_aligned_grid=dic_aligned_grid,\n",
    "                 n_x_min = 29, n_x_max = 38, n_x_step=1, n_y_min = 4, n_y_step = 1)\n",
    "\n",
    "    # evaluating deltas\n",
    "    delta_u_ul_ija = dic_cor.dic_aligned_grid.delta_u_ul_ija\n",
    "    delta_u0_ul_ija = dic_cor.dic_aligned_grid.delta_u0_ul_ija\n",
    "    \n",
    "    # selected points for rotation\n",
    "    rot_Xu_ija = dic_cor.dic_aligned_grid.rot_Xu_ija\n",
    "    rot_Xu_ija_sel = (dic_cor.dic_aligned_grid.rot_Xu_ija[dic_cor.n_x_min:dic_cor.n_x_max:dic_cor.n_x_step,\n",
    "                                   dic_cor.n_y_min:dic_cor.n_y_max:dic_cor.n_y_step])\n",
    "    rot_X_pa_sel = rot_Xu_ija_sel.reshape(-1, 2)\n",
    "\n",
    "    # selection of grid of points\n",
    "    X_ija_sel = dic_cor.dic_grid.X_ija[dic_cor.n_x_min:dic_cor.n_x_max:dic_cor.n_x_step,\n",
    "                    dic_cor.n_y_min:dic_cor.n_y_max:dic_cor.n_y_step]\n",
    "    X_pa_sel = X_ija_sel.reshape(-1, 2)\n",
    "\n",
    "    # evaluating distances using distance formula\n",
    "\n",
    "    d_0c = np.sqrt((dic_cor.x_cor_pa_sol[:, 0] - X_pa_sel[:, 0]) ** 2\n",
    "                                     + (dic_cor.x_cor_pa_sol[:, 1] - X_pa_sel[:, 1]) ** 2)\n",
    "\n",
    "    d_0t = np.sqrt((rot_X_pa_sel[:, 0] - X_pa_sel[:, 0]) ** 2\n",
    "                                     + (rot_X_pa_sel[:, 1] - X_pa_sel[:, 1]) ** 2)\n",
    "    \n",
    "    phi = np.arctan(d_0t/d_0c)\n",
    "    \n",
    "    phi_avg = np.average(phi)\n",
    "    \n",
    "    phi_arr.append(phi_avg)\n",
    "    \n",
    "    print('phi_avg', phi_avg)"
   ]
  },
  {
   "cell_type": "code",
   "execution_count": 4,
   "metadata": {},
   "outputs": [
    {
     "ename": "OSError",
     "evalue": "D:\\Shear zones\\load text files\\Load_b6_tv1.txt not found.",
     "output_type": "error",
     "traceback": [
      "\u001b[0;31m---------------------------------------------------------------------------\u001b[0m",
      "\u001b[0;31mOSError\u001b[0m                                   Traceback (most recent call last)",
      "\u001b[0;32m<ipython-input-4-c6117f01fdd7>\u001b[0m in \u001b[0;36m<module>\u001b[0;34m\u001b[0m\n\u001b[0;32m----> 1\u001b[0;31m \u001b[0mload\u001b[0m \u001b[0;34m=\u001b[0m \u001b[0mnp\u001b[0m\u001b[0;34m.\u001b[0m\u001b[0mloadtxt\u001b[0m\u001b[0;34m(\u001b[0m\u001b[0;34mr\"D:\\Shear zones\\load text files\\Load_b6_tv1.txt\"\u001b[0m\u001b[0;34m,\u001b[0m \u001b[0munpack\u001b[0m\u001b[0;34m=\u001b[0m\u001b[0;32mTrue\u001b[0m\u001b[0;34m)\u001b[0m\u001b[0;34m\u001b[0m\u001b[0;34m\u001b[0m\u001b[0m\n\u001b[0m\u001b[1;32m      2\u001b[0m \u001b[0;31m#np.shape(load)\u001b[0m\u001b[0;34m\u001b[0m\u001b[0;34m\u001b[0m\u001b[0;34m\u001b[0m\u001b[0m\n\u001b[1;32m      3\u001b[0m \u001b[0;31m#load\u001b[0m\u001b[0;34m\u001b[0m\u001b[0;34m\u001b[0m\u001b[0;34m\u001b[0m\u001b[0m\n",
      "\u001b[0;32m~/miniconda3/envs/bmcs_env/lib/python3.8/site-packages/numpy/lib/npyio.py\u001b[0m in \u001b[0;36mloadtxt\u001b[0;34m(fname, dtype, comments, delimiter, converters, skiprows, usecols, unpack, ndmin, encoding, max_rows, like)\u001b[0m\n\u001b[1;32m   1063\u001b[0m             \u001b[0mfname\u001b[0m \u001b[0;34m=\u001b[0m \u001b[0mos_fspath\u001b[0m\u001b[0;34m(\u001b[0m\u001b[0mfname\u001b[0m\u001b[0;34m)\u001b[0m\u001b[0;34m\u001b[0m\u001b[0;34m\u001b[0m\u001b[0m\n\u001b[1;32m   1064\u001b[0m         \u001b[0;32mif\u001b[0m \u001b[0m_is_string_like\u001b[0m\u001b[0;34m(\u001b[0m\u001b[0mfname\u001b[0m\u001b[0;34m)\u001b[0m\u001b[0;34m:\u001b[0m\u001b[0;34m\u001b[0m\u001b[0;34m\u001b[0m\u001b[0m\n\u001b[0;32m-> 1065\u001b[0;31m             \u001b[0mfh\u001b[0m \u001b[0;34m=\u001b[0m \u001b[0mnp\u001b[0m\u001b[0;34m.\u001b[0m\u001b[0mlib\u001b[0m\u001b[0;34m.\u001b[0m\u001b[0m_datasource\u001b[0m\u001b[0;34m.\u001b[0m\u001b[0mopen\u001b[0m\u001b[0;34m(\u001b[0m\u001b[0mfname\u001b[0m\u001b[0;34m,\u001b[0m \u001b[0;34m'rt'\u001b[0m\u001b[0;34m,\u001b[0m \u001b[0mencoding\u001b[0m\u001b[0;34m=\u001b[0m\u001b[0mencoding\u001b[0m\u001b[0;34m)\u001b[0m\u001b[0;34m\u001b[0m\u001b[0;34m\u001b[0m\u001b[0m\n\u001b[0m\u001b[1;32m   1066\u001b[0m             \u001b[0mfencoding\u001b[0m \u001b[0;34m=\u001b[0m \u001b[0mgetattr\u001b[0m\u001b[0;34m(\u001b[0m\u001b[0mfh\u001b[0m\u001b[0;34m,\u001b[0m \u001b[0;34m'encoding'\u001b[0m\u001b[0;34m,\u001b[0m \u001b[0;34m'latin1'\u001b[0m\u001b[0;34m)\u001b[0m\u001b[0;34m\u001b[0m\u001b[0;34m\u001b[0m\u001b[0m\n\u001b[1;32m   1067\u001b[0m             \u001b[0mfh\u001b[0m \u001b[0;34m=\u001b[0m \u001b[0miter\u001b[0m\u001b[0;34m(\u001b[0m\u001b[0mfh\u001b[0m\u001b[0;34m)\u001b[0m\u001b[0;34m\u001b[0m\u001b[0;34m\u001b[0m\u001b[0m\n",
      "\u001b[0;32m~/miniconda3/envs/bmcs_env/lib/python3.8/site-packages/numpy/lib/_datasource.py\u001b[0m in \u001b[0;36mopen\u001b[0;34m(path, mode, destpath, encoding, newline)\u001b[0m\n\u001b[1;32m    192\u001b[0m \u001b[0;34m\u001b[0m\u001b[0m\n\u001b[1;32m    193\u001b[0m     \u001b[0mds\u001b[0m \u001b[0;34m=\u001b[0m \u001b[0mDataSource\u001b[0m\u001b[0;34m(\u001b[0m\u001b[0mdestpath\u001b[0m\u001b[0;34m)\u001b[0m\u001b[0;34m\u001b[0m\u001b[0;34m\u001b[0m\u001b[0m\n\u001b[0;32m--> 194\u001b[0;31m     \u001b[0;32mreturn\u001b[0m \u001b[0mds\u001b[0m\u001b[0;34m.\u001b[0m\u001b[0mopen\u001b[0m\u001b[0;34m(\u001b[0m\u001b[0mpath\u001b[0m\u001b[0;34m,\u001b[0m \u001b[0mmode\u001b[0m\u001b[0;34m,\u001b[0m \u001b[0mencoding\u001b[0m\u001b[0;34m=\u001b[0m\u001b[0mencoding\u001b[0m\u001b[0;34m,\u001b[0m \u001b[0mnewline\u001b[0m\u001b[0;34m=\u001b[0m\u001b[0mnewline\u001b[0m\u001b[0;34m)\u001b[0m\u001b[0;34m\u001b[0m\u001b[0;34m\u001b[0m\u001b[0m\n\u001b[0m\u001b[1;32m    195\u001b[0m \u001b[0;34m\u001b[0m\u001b[0m\n\u001b[1;32m    196\u001b[0m \u001b[0;34m\u001b[0m\u001b[0m\n",
      "\u001b[0;32m~/miniconda3/envs/bmcs_env/lib/python3.8/site-packages/numpy/lib/_datasource.py\u001b[0m in \u001b[0;36mopen\u001b[0;34m(self, path, mode, encoding, newline)\u001b[0m\n\u001b[1;32m    529\u001b[0m                                       encoding=encoding, newline=newline)\n\u001b[1;32m    530\u001b[0m         \u001b[0;32melse\u001b[0m\u001b[0;34m:\u001b[0m\u001b[0;34m\u001b[0m\u001b[0;34m\u001b[0m\u001b[0m\n\u001b[0;32m--> 531\u001b[0;31m             \u001b[0;32mraise\u001b[0m \u001b[0mIOError\u001b[0m\u001b[0;34m(\u001b[0m\u001b[0;34m\"%s not found.\"\u001b[0m \u001b[0;34m%\u001b[0m \u001b[0mpath\u001b[0m\u001b[0;34m)\u001b[0m\u001b[0;34m\u001b[0m\u001b[0;34m\u001b[0m\u001b[0m\n\u001b[0m\u001b[1;32m    532\u001b[0m \u001b[0;34m\u001b[0m\u001b[0m\n\u001b[1;32m    533\u001b[0m \u001b[0;34m\u001b[0m\u001b[0m\n",
      "\u001b[0;31mOSError\u001b[0m: D:\\Shear zones\\load text files\\Load_b6_tv1.txt not found."
     ]
    }
   ],
   "source": [
    "load = np.loadtxt(r\"D:\\Shear zones\\load text files\\Load_b6_tv1.txt\", unpack=True)\n",
    "#np.shape(load)\n",
    "#load"
   ]
  },
  {
   "cell_type": "code",
   "execution_count": null,
   "metadata": {},
   "outputs": [],
   "source": [
    "import matplotlib.pyplot as plt\n",
    "_, ax1 = plt.subplots(1, 1, figsize=(10,6))\n",
    "\n",
    "ax1.plot(phi_arr[0:18], load[1:19], color = 'blue')\n",
    "ax1.set_xlabel(r'$\\varphi$'), ax1.set_ylabel('Load')\n",
    "#plt.savefig(\"D:\\\\Shear zones\\drawings\\Load_rotation.pdf\")"
   ]
  },
  {
   "cell_type": "code",
   "execution_count": null,
   "metadata": {},
   "outputs": [],
   "source": [
    "#     d_tc = np.sqrt((dic_cor.x_cor_pa_sol[:, 0] - rot_X_pa_sel[:, 0]) ** 2\n",
    "#                                    + (dic_cor.x_cor_pa_sol[:, 1] - rot_X_pa_sel[:, 1]) ** 2)\n",
    "\n",
    "    \n",
    "#     # averaging all distances\n",
    "#     d_tc_avg = np.average(d_tc)\n",
    "#     d_0c_avg = np.average(d_0c)\n",
    "#     d_0t_avg = np.average(d_0t)\n",
    "\n",
    "\n",
    "    \n",
    "#     # calculating phi using law of cosine\n",
    "#     phi = np.arccos(\n",
    "#             (d_tc_avg ** 2 + d_0c_avg ** 2 - d_0t_avg ** 2)\n",
    "#             / (2 * d_tc_avg * d_0c_avg))\n",
    "#     phi_val.append(phi)\n",
    "    #print(phi_val)\n",
    "    "
   ]
  },
  {
   "cell_type": "code",
   "execution_count": null,
   "metadata": {},
   "outputs": [],
   "source": []
  }
 ],
 "metadata": {
  "kernelspec": {
   "display_name": "Python 3",
   "language": "python",
   "name": "python3"
  },
  "language_info": {
   "codemirror_mode": {
    "name": "ipython",
    "version": 3
   },
   "file_extension": ".py",
   "mimetype": "text/x-python",
   "name": "python",
   "nbconvert_exporter": "python",
   "pygments_lexer": "ipython3",
   "version": "3.8.8"
  }
 },
 "nbformat": 4,
 "nbformat_minor": 4
}
