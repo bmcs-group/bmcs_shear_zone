{
 "cells": [
  {
   "cell_type": "markdown",
   "id": "5d99bebc",
   "metadata": {},
   "source": [
    "# Unit square(Rotated)"
   ]
  },
  {
   "cell_type": "code",
   "execution_count": 1,
   "id": "4916715b",
   "metadata": {},
   "outputs": [],
   "source": [
    "import numpy as np\n",
    "from bmcs_shear.dic_crack import DICGrid, DICAlignedGrid, DICCOR, DICInspector, DICCrack"
   ]
  },
  {
   "cell_type": "markdown",
   "id": "1874eda1",
   "metadata": {},
   "source": [
    "<img src=\"single point rotated_.png\" width=\"1000\"/> "
   ]
  },
  {
   "cell_type": "code",
   "execution_count": 2,
   "id": "f9a99973",
   "metadata": {},
   "outputs": [],
   "source": [
    "dic_grid = DICGrid(n_x=2, n_y=2, d_x = 1, d_y = 1,  \n",
    "                    start_t = 0, end_t = 3, U_factor = 3, dir_name='unit_beam_rotated', grid_column_first = False, \n",
    "                    grid_number_vertical = False)\n",
    "dic_aligned_grid = DICAlignedGrid(dic_grid=dic_grid,\n",
    "                                 y_ref_i=-1, y_ref_j_min=0, y_ref_j_max=1)\n",
    "dic_cor = DICCOR(dic_aligned_grid=dic_aligned_grid,\n",
    "                 n_x_min = 0, n_x_max = 1, n_x_step=1, n_y_min = 0, n_y_max = 2, n_y_step = 1)"
   ]
  },
  {
   "cell_type": "code",
   "execution_count": 3,
   "id": "436af49e",
   "metadata": {},
   "outputs": [
    {
     "data": {
      "application/vnd.jupyter.widget-view+json": {
       "model_id": "fecfbef2c5a34af585484b7c212ab0b4",
       "version_major": 2,
       "version_minor": 0
      },
      "text/plain": [
       "VBox(children=(HBox(children=(VBox(children=(Tree(layout=Layout(align_items='stretch', border='solid 1px black…"
      ]
     },
     "metadata": {},
     "output_type": "display_data"
    },
    {
     "data": {
      "image/png": "[encoded data removed]",
      "text/plain": [
       "<Figure size 432x288 with 1 Axes>"
      ]
     },
     "metadata": {
      "needs_background": "light"
     },
     "output_type": "display_data"
    }
   ],
   "source": [
    "dic_grid.interact()"
   ]
  },
  {
   "cell_type": "code",
   "execution_count": 4,
   "id": "9e46a451",
   "metadata": {},
   "outputs": [
    {
     "name": "stderr",
     "output_type": "stream",
     "text": [
      "C:\\Users\\fahad\\Anaconda3\\envs\\bmcs_env\\lib\\site-packages\\numpy\\lib\\function_base.py:380: RuntimeWarning: Mean of empty slice.\n",
      "  avg = a.mean(axis)\n",
      "C:\\Users\\fahad\\Anaconda3\\envs\\bmcs_env\\lib\\site-packages\\numpy\\core\\_methods.py:189: RuntimeWarning: invalid value encountered in double_scalars\n",
      "  ret = ret.dtype.type(ret / rcount)\n"
     ]
    },
    {
     "data": {
      "application/vnd.jupyter.widget-view+json": {
       "model_id": "b04e67b3af0c4d0daba63ceede931e16",
       "version_major": 2,
       "version_minor": 0
      },
      "text/plain": [
       "VBox(children=(HBox(children=(VBox(children=(Tree(layout=Layout(align_items='stretch', border='solid 1px black…"
      ]
     },
     "metadata": {},
     "output_type": "display_data"
    },
    {
     "data": {
      "image/png": "[encoded data removed]",
      "text/plain": [
       "<Figure size 432x288 with 1 Axes>"
      ]
     },
     "metadata": {
      "needs_background": "light"
     },
     "output_type": "display_data"
    },
    {
     "name": "stderr",
     "output_type": "stream",
     "text": [
      "C:\\Users\\fahad\\Anaconda3\\envs\\bmcs_env\\lib\\site-packages\\numpy\\lib\\function_base.py:380: RuntimeWarning: Mean of empty slice.\n",
      "  avg = a.mean(axis)\n",
      "C:\\Users\\fahad\\Anaconda3\\envs\\bmcs_env\\lib\\site-packages\\numpy\\core\\_methods.py:189: RuntimeWarning: invalid value encountered in double_scalars\n",
      "  ret = ret.dtype.type(ret / rcount)\n"
     ]
    }
   ],
   "source": [
    "dic_aligned_grid.interact()"
   ]
  },
  {
   "cell_type": "code",
   "execution_count": 5,
   "id": "eaadc32e",
   "metadata": {},
   "outputs": [
    {
     "data": {
      "application/vnd.jupyter.widget-view+json": {
       "model_id": "5e476dab02f44896adcb95846c9b9597",
       "version_major": 2,
       "version_minor": 0
      },
      "text/plain": [
       "VBox(children=(HBox(children=(VBox(children=(Tree(layout=Layout(align_items='stretch', border='solid 1px black…"
      ]
     },
     "metadata": {},
     "output_type": "display_data"
    },
    {
     "data": {
      "image/png": "[encoded data removed]",
      "text/plain": [
       "<Figure size 432x288 with 1 Axes>"
      ]
     },
     "metadata": {
      "needs_background": "light"
     },
     "output_type": "display_data"
    }
   ],
   "source": [
    "dic_cor.interact()"
   ]
  },
  {
   "cell_type": "code",
   "execution_count": null,
   "id": "97426f0b",
   "metadata": {},
   "outputs": [],
   "source": []
  },
  {
   "cell_type": "code",
   "execution_count": null,
   "id": "346a34da",
   "metadata": {},
   "outputs": [],
   "source": []
  }
 ],
 "metadata": {
  "kernelspec": {
   "display_name": "Python 3",
   "language": "python",
   "name": "python3"
  },
  "language_info": {
   "codemirror_mode": {
    "name": "ipython",
    "version": 3
   },
   "file_extension": ".py",
   "mimetype": "text/x-python",
   "name": "python",
   "nbconvert_exporter": "python",
   "pygments_lexer": "ipython3",
   "version": "3.9.7"
  }
 },
 "nbformat": 4,
 "nbformat_minor": 5
}
