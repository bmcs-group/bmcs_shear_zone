{
 "cells": [
  {
   "cell_type": "markdown",
   "id": "37f44a69",
   "metadata": {},
   "source": [
    "# DIC Crack Inspector"
   ]
  },
  {
   "cell_type": "code",
   "execution_count": 1,
   "id": "41eef2fc",
   "metadata": {},
   "outputs": [],
   "source": [
    "%matplotlib widget"
   ]
  },
  {
   "cell_type": "code",
   "execution_count": 2,
   "id": "af7dc67c",
   "metadata": {},
   "outputs": [],
   "source": [
    "from bmcs_shear.dic_crack import DICGrid, DICAlignedGrid, DICCOR, DICInspector, DICCrack, DICBeamDesign"
   ]
  },
  {
   "cell_type": "markdown",
   "id": "3d674d56",
   "metadata": {},
   "source": [
    "Convenience function to construct cracks"
   ]
  },
  {
   "cell_type": "code",
   "execution_count": 3,
   "id": "49795423",
   "metadata": {},
   "outputs": [],
   "source": [
    "def construct_dic_cracks(cracks):\n",
    "    '''Use the supplied list of crack specifications to construct the DICCrack objects'''\n",
    "    dic_cracks = []\n",
    "    for i, (ref_frame, rot_grid) in enumerate(cracks):\n",
    "        dic_aligned_grid = DICAlignedGrid(dic_grid=dic_grid)\n",
    "        dic_aligned_grid.trait_set(**ref_frame)\n",
    "        dic_cor = DICCOR(dic_aligned_grid=dic_aligned_grid, crack_idx=i+1)\n",
    "        dic_cor.trait_set(**rot_grid)\n",
    "        dic_crack = DICCrack(name='crack #%d' % (i+1), dic_cor=dic_cor)\n",
    "        dic_cracks.append(dic_crack)\n",
    "    return dic_cracks"
   ]
  },
  {
   "cell_type": "markdown",
   "id": "61bc77ce",
   "metadata": {},
   "source": [
    "| Name | d | b | $\\lambda$ | $d_{s}$ | $\\rho$ | $d_{agg}$ | h |\n",
    "| --- | --- | --- | --- | --- | --- | --- | --- |\n",
    "| Versuche 1 | 0.30 | 0.32 | 4.30 | 16 | 0.0105 | 16 | 0.35 |\n",
    "| Versuche 5 | 0.30 | 0.32 | 6.00 | 16 | 0.0105 | 16 | 0.35 |\n",
    "| Versuche 6 | 0.30 | 0.32 | 4.30 | 16 | 0.0105 | 8 | 0.35 |\n",
    "| Versuche 7 | 0.30 | 0.32 | 4.30 | 16 | 0.0065 | 16 | 0.35 |\n",
    "| Versuche 8 | 0.30 | 0.32 | 4.30 | 25 | 0.01025 | 16 | 0.35 |\n",
    "| Versuche 9 | 0.30 | 0.32 | 4.30 | 16 | 0.0105 | 32 | 0.35 |\n",
    "| Versuche 10 | 0.30 | 0.32 | 4.30 | 16 | 0.0147 | 16 | 0.35 |"
   ]
  },
  {
   "cell_type": "markdown",
   "id": "e26a9517",
   "metadata": {},
   "source": [
    "\\begin{equation}\n",
    "M = \\frac{F}{2} (L - X^{cor})\n",
    "\\end{equation}"
   ]
  },
  {
   "cell_type": "markdown",
   "id": "823aea65",
   "metadata": {},
   "source": [
    "# B1_TV1"
   ]
  },
  {
   "cell_type": "code",
   "execution_count": 4,
   "id": "3bb2884e",
   "metadata": {},
   "outputs": [],
   "source": [
    "# import numpy as np\n",
    "# phi = np.array([np.nan, 5, 6])\n",
    "# print(phi)\n",
    "# phi = np.where(np.isnan(phi), 0, phi)\n",
    "# phi"
   ]
  },
  {
   "cell_type": "code",
   "execution_count": 5,
   "id": "355fb845",
   "metadata": {},
   "outputs": [],
   "source": [
    "B1_TV1_cracks = [\n",
    "    # crack 1\n",
    "    (dict(y_ref_i=-1, y_ref_j_min=1, y_ref_j_max=10),\n",
    "     dict(n_x_min = -7, n_x_max = -6, n_x_step=1, n_y_min = 1, n_y_max=-2, n_y_step = 1)),\n",
    "    # crack 2\n",
    "    (dict(y_ref_i=-7, y_ref_j_min=1, y_ref_j_max=10),\n",
    "     dict(n_x_min = -13, n_x_max = -10, n_x_step=1, n_y_min = 1, n_y_max=-1, n_y_step = 1)),\n",
    "    # crack 3\n",
    "    (dict(y_ref_i=-11, y_ref_j_min=1, y_ref_j_max=10),\n",
    "     dict(n_x_min = -20, n_x_max = -17, n_x_step=1, n_y_min = 1, n_y_max=7, n_y_step = 1)),\n",
    "    # crack 4\n",
    "    (dict(y_ref_i=-20, y_ref_j_min=1, y_ref_j_max=10),\n",
    "    dict(n_x_min = 29, n_x_max = 37, n_x_step=1, n_y_min = 7, n_y_step = 1)),\n",
    "    # crack 5\n",
    "    (dict(y_ref_i=-28, y_ref_j_min=1, y_ref_j_max=10),\n",
    "    dict(n_x_min=-35, n_x_max=-32, n_x_step=1, n_y_min = 2, n_y_max=12, n_y_step = 1)),\n",
    "    # crack 6\n",
    "    (dict(y_ref_i=-33, y_ref_j_min=1, y_ref_j_max=10),\n",
    "    dict(n_x_min=-46, n_x_max=-39, n_x_step=2, n_y_min = 6, n_y_max=-1, n_y_step = 2)),\n",
    "    # crack 7\n",
    "    (dict(y_ref_i=13, y_ref_j_min=1, y_ref_j_max=10),\n",
    "    dict(n_x_min=1, n_x_max=8, n_x_step=2, n_y_min = 2, n_y_max=10, n_y_step = 2)),\n",
    "]"
   ]
  },
  {
   "cell_type": "code",
   "execution_count": 6,
   "id": "4f4d0d95",
   "metadata": {
    "scrolled": false
   },
   "outputs": [
    {
     "name": "stderr",
     "output_type": "stream",
     "text": [
      "c:\\users\\fahad\\pycharmprojects\\bmcs_shear_zone\\bmcs_shear\\dic_crack\\dic_cor.py:142: RuntimeWarning: invalid value encountered in true_divide\n",
      "  phi = 2 * np.arctan(len_d_0t / len_d_0c)\n"
     ]
    },
    {
     "data": {
      "application/vnd.jupyter.widget-view+json": {
       "model_id": "beea6d7d0c264b169a6a915f1abca64e",
       "version_major": 2,
       "version_minor": 0
      },
      "text/plain": [
       "VBox(children=(HBox(children=(VBox(children=(Tree(layout=Layout(align_items='stretch', border='solid 1px black…"
      ]
     },
     "metadata": {},
     "output_type": "display_data"
    }
   ],
   "source": [
    "dic_beam_design = DICBeamDesign(B = 320, L = 1500, H = 350, Rectangle = True)\n",
    "dic_grid = DICGrid(n_x=59, n_y=15, d_x = 22, d_y = 22,  start_t = 0, end_t =31, U_factor = 1, L = 1500, \n",
    "                   dir_name='B1_TV1', grid_column_first = False, grid_number_vertical = False)\n",
    "dic_insp = DICInspector(dic_grid=dic_grid)\n",
    "dic_insp.dic_cracks.items = construct_dic_cracks(B1_TV1_cracks)\n",
    "dic_insp.interact()"
   ]
  },
  {
   "cell_type": "code",
   "execution_count": 7,
   "id": "30e59048",
   "metadata": {
    "scrolled": false
   },
   "outputs": [],
   "source": [
    "# dic_aligned_grid = DICAlignedGrid(dic_grid = dic_grid)\n",
    "# dic_cor = DICCOR(dic_aligned_grid=dic_aligned_grid)\n",
    "# #dic_grid.load_levels / 2 * dic_cor.X_cor\n",
    "# end_t_arr = np.arange(0, 31, 1)\n",
    "# phi_arr = []\n",
    "# for end_t in end_t_arr[::1]:\n",
    "#     dic_grid.end_t = end_t\n",
    "#     X_cor_r = dic_cor.X_cor[0]    #dic_cor.X_cor[0]\n",
    "#     print(X_cor_r)"
   ]
  },
  {
   "cell_type": "code",
   "execution_count": 8,
   "id": "603bd9ba",
   "metadata": {
    "scrolled": false
   },
   "outputs": [],
   "source": [
    "# dic_grid = DICGrid(n_x=59, n_y=15, d_x = 22, d_y = 22,  start_t = 0, end_t =31, U_factor = 1, \n",
    "#                    dir_name='B1_TV1', grid_column_first = False, grid_number_vertical = False)\n",
    "# dic_aligned_grid = DICAlignedGrid(dic_grid=dic_grid,\n",
    "#                                   y_ref_i=-1, y_ref_j_min=1, y_ref_j_max=10)\n",
    "# dic_cor = DICCOR(dic_aligned_grid=dic_aligned_grid,\n",
    "#                  n_x_min = -7, n_x_max = -6, n_x_step=1, n_y_min = 1, n_y_max=-5, n_y_step = 1)\n",
    "# #dic_cor.interact()\n",
    "# end_t_arr = np.arange(0, 31, 1)\n",
    "# X_cor_arr = []\n",
    "# for end_t in end_t_arr[::1]:\n",
    "#     dic_grid.end_t = end_t\n",
    "#     X_cor_r = dic_cor.X_cor[0] #dic_cor.X_cor[0]\n",
    "#     X_cor_arr.append(X_cor_r)\n",
    "#     print('X_cor_r', X_cor_r)\n",
    "#     print(np.array(dic_grid.load_levels[1:][end_t] / 2) * (X_cor_r))\n",
    "# #print(np.shape(X_cor_arr))\n",
    "# #dic_grid.load_levels[1:] #/ 2 * X_cor_arr"
   ]
  },
  {
   "cell_type": "code",
   "execution_count": 9,
   "id": "0deddb99",
   "metadata": {},
   "outputs": [],
   "source": [
    "dic_cor = dic_insp.dic_cracks.items[1].dic_cor"
   ]
  },
  {
   "cell_type": "code",
   "execution_count": 10,
   "id": "602eb6a1",
   "metadata": {},
   "outputs": [],
   "source": [
    "#dic_cor.dic_aligned_grid.X_ref_a"
   ]
  },
  {
   "cell_type": "code",
   "execution_count": 11,
   "id": "4b7c441b",
   "metadata": {},
   "outputs": [
    {
     "data": {
      "text/plain": [
       "(array([122.49004961, 230.33016422]), array([122.9958694 , 230.35044256]))"
      ]
     },
     "execution_count": 11,
     "metadata": {},
     "output_type": "execute_result"
    }
   ],
   "source": [
    "dic_cor.X_cor, dic_cor.X_cor_b"
   ]
  },
  {
   "cell_type": "markdown",
   "id": "11b6096c",
   "metadata": {},
   "source": [
    "# B1_TV2"
   ]
  },
  {
   "cell_type": "code",
   "execution_count": 7,
   "id": "14261f80",
   "metadata": {},
   "outputs": [],
   "source": [
    "B1_TV2_cracks = [\n",
    "    # crack 1\n",
    "    (dict(y_ref_i=-1, y_ref_j_min=1, y_ref_j_max=10),\n",
    "     dict(n_x_min = -7, n_x_max = -6, n_x_step=1, n_y_min = 1, n_y_max=-6, n_y_step = 1)),\n",
    "    # crack 2\n",
    "    (dict(y_ref_i=-7, y_ref_j_min=1, y_ref_j_max=10),\n",
    "     dict(n_x_min = -15, n_x_max = -12, n_x_step=1, n_y_min = 8, n_y_max=-1, n_y_step = 1)),\n",
    "    # crack 3\n",
    "    (dict(y_ref_i=-23, y_ref_j_min=1, y_ref_j_max=10),\n",
    "     dict(n_x_min = -31, n_x_max = -26, n_x_step=1, n_y_min = 4, n_y_max=7, n_y_step = 1)),\n",
    "    # crack 4\n",
    "    (dict(y_ref_i=-31, y_ref_j_min=1, y_ref_j_max=10),\n",
    "     dict(n_x_min = 20, n_x_max = 24, n_x_step=1, n_y_min = 7, n_y_step = 1)),\n",
    "    # crack 5\n",
    "    (dict(y_ref_i=15, y_ref_j_min=1, y_ref_j_max=10),\n",
    "     dict(n_x_min=5, n_x_max=9, n_x_step=1, n_y_min = 7, n_y_max=12, n_y_step = 1)),\n",
    "]"
   ]
  },
  {
   "cell_type": "code",
   "execution_count": 8,
   "id": "82e611e7",
   "metadata": {
    "scrolled": false
   },
   "outputs": [
    {
     "name": "stderr",
     "output_type": "stream",
     "text": [
      "c:\\users\\fahad\\pycharmprojects\\bmcs_shear_zone\\bmcs_shear\\dic_crack\\dic_cor.py:142: RuntimeWarning: invalid value encountered in true_divide\n",
      "  phi = 2 * np.arctan(len_d_0t / len_d_0c)\n"
     ]
    },
    {
     "data": {
      "application/vnd.jupyter.widget-view+json": {
       "model_id": "df09c3fc820b471ca2fc7eaf0540fc18",
       "version_major": 2,
       "version_minor": 0
      },
      "text/plain": [
       "VBox(children=(HBox(children=(VBox(children=(Tree(layout=Layout(align_items='stretch', border='solid 1px black…"
      ]
     },
     "metadata": {},
     "output_type": "display_data"
    }
   ],
   "source": [
    "dic_grid = DICGrid(n_x=57, n_y=15, d_x = 22, d_y = 22,  start_t = 0, end_t =27, L = 1500, U_factor = 1, \n",
    "                   dir_name='B1_TV2', grid_column_first = False, grid_number_vertical = False)\n",
    "dic_insp = DICInspector(dic_grid=dic_grid)\n",
    "dic_insp.dic_cracks.items = construct_dic_cracks(B1_TV2_cracks)\n",
    "dic_insp.interact()"
   ]
  },
  {
   "cell_type": "code",
   "execution_count": 9,
   "id": "7ae38e05",
   "metadata": {},
   "outputs": [],
   "source": [
    "#dic_grid.load_levels"
   ]
  },
  {
   "cell_type": "markdown",
   "id": "6ac1df42",
   "metadata": {},
   "source": [
    "# B5_TV1"
   ]
  },
  {
   "cell_type": "code",
   "execution_count": 10,
   "id": "2de04377",
   "metadata": {},
   "outputs": [],
   "source": [
    "B5_TV1_cracks = [\n",
    "    # crack 1\n",
    "    (dict(y_ref_i=-1, y_ref_j_min=1, y_ref_j_max=10),\n",
    "     dict(n_x_min = -4, n_x_max = -2, n_x_step=1, n_y_min = 1, n_y_max=-5, n_y_step = 1)),\n",
    "    # crack 2\n",
    "    (dict(y_ref_i=-4, y_ref_j_min=1, y_ref_j_max=10),\n",
    "     dict(n_x_min = -12, n_x_max = -9, n_x_step=1, n_y_min = 1, n_y_max=-5, n_y_step = 1)),\n",
    "#     # crack 3\n",
    "#     (dict(y_ref_i=-9, y_ref_j_min=1, y_ref_j_max=10),\n",
    "#      dict(n_x_min = -12, n_x_max = -11, n_x_step=1, n_y_min = 1, n_y_max=-5, n_y_step = 1)),\n",
    "    # crack 4\n",
    "    (dict(y_ref_i=-12, y_ref_j_min=1, y_ref_j_max=10),\n",
    "     dict(n_x_min = -18, n_x_max = -16, n_x_step=1, n_y_min = 1, n_y_max=7, n_y_step = 1)),\n",
    "    # crack 5\n",
    "    (dict(y_ref_i=-18, y_ref_j_min=1, y_ref_j_max=10),\n",
    "     dict(n_x_min = -23, n_x_max = -21, n_x_step=1, n_y_min = 5, n_y_step = 1)),\n",
    "    # crack 6\n",
    "    (dict(y_ref_i=-23, y_ref_j_min=1, y_ref_j_max=10),\n",
    "     dict(n_x_min=-30, n_x_max=-27, n_x_step=1, n_y_min = 1, n_y_max=8, n_y_step = 1)),\n",
    "    # crack 7\n",
    "    (dict(y_ref_i=-30, y_ref_j_min=1, y_ref_j_max=10),\n",
    "     dict(n_x_min=-37, n_x_max=-34, n_x_step=1, n_y_min = 1, n_y_max=8, n_y_step = 1)),\n",
    "    # crack 8\n",
    "    (dict(y_ref_i=-37, y_ref_j_min=1, y_ref_j_max=10),\n",
    "     dict(n_x_min=-46, n_x_max=-42, n_x_step=1, n_y_min = 5, n_y_max=12, n_y_step = 1)),\n",
    "    # crack 9\n",
    "    (dict(y_ref_i=-44, y_ref_j_min=1, y_ref_j_max=10),\n",
    "     dict(n_x_min=-52, n_x_max=-50, n_x_step=1, n_y_min = 5, n_y_max=12, n_y_step = 1)),\n",
    "    # crack 10\n",
    "    (dict(y_ref_i=-52, y_ref_j_min=1, y_ref_j_max=10),\n",
    "     dict(n_x_min=-64, n_x_max=-58, n_x_step=1, n_y_min = 1, n_y_max=9, n_y_step = 1)),\n",
    "]"
   ]
  },
  {
   "cell_type": "code",
   "execution_count": 11,
   "id": "09dfacdc",
   "metadata": {},
   "outputs": [],
   "source": [
    "# dic_grid = DICGrid(n_x=68, n_y=11, d_x = 25, d_y = 25,  start_t = 0, end_t =23, U_factor = 1, \n",
    "#                    dir_name='B5_TV1', grid_column_first = True, grid_number_vertical = True)\n",
    "# dic_aligned_grid = DICAlignedGrid(dic_grid=dic_grid,\n",
    "#                                  y_ref_i=-1, y_ref_j_min=1, y_ref_j_max=10)\n",
    "# dic_cor = DICCOR(dic_aligned_grid=dic_aligned_grid,\n",
    "#                  n_x_min = -7, n_x_max = -6, n_x_step=1, n_y_min = 1, n_y_max=-5, n_y_step = 1)\n",
    "# dic_cor.interact()"
   ]
  },
  {
   "cell_type": "code",
   "execution_count": 12,
   "id": "e7ddf8ca",
   "metadata": {
    "scrolled": false
   },
   "outputs": [
    {
     "name": "stderr",
     "output_type": "stream",
     "text": [
      "c:\\users\\fahad\\pycharmprojects\\bmcs_shear_zone\\bmcs_shear\\dic_crack\\dic_cor.py:142: RuntimeWarning: invalid value encountered in true_divide\n",
      "  phi = 2 * np.arctan(len_d_0t / len_d_0c)\n",
      "c:\\users\\fahad\\pycharmprojects\\bmcs_shear_zone\\bmcs_shear\\dic_crack\\dic_cor.py:142: RuntimeWarning: invalid value encountered in true_divide\n",
      "  phi = 2 * np.arctan(len_d_0t / len_d_0c)\n",
      "c:\\users\\fahad\\pycharmprojects\\bmcs_shear_zone\\bmcs_shear\\dic_crack\\dic_cor.py:142: RuntimeWarning: invalid value encountered in true_divide\n",
      "  phi = 2 * np.arctan(len_d_0t / len_d_0c)\n"
     ]
    },
    {
     "data": {
      "application/vnd.jupyter.widget-view+json": {
       "model_id": "131061bdb62e454cb936a1d1d4312baf",
       "version_major": 2,
       "version_minor": 0
      },
      "text/plain": [
       "VBox(children=(HBox(children=(VBox(children=(Tree(layout=Layout(align_items='stretch', border='solid 1px black…"
      ]
     },
     "metadata": {},
     "output_type": "display_data"
    }
   ],
   "source": [
    "dic_grid = DICGrid(n_x=68, n_y=11, d_x = 25, d_y = 25,  start_t = 0, end_t =23, L = 1800, U_factor = 1, \n",
    "                   dir_name='B5_TV1', grid_column_first = True, grid_number_vertical = True)\n",
    "dic_insp = DICInspector(dic_grid=dic_grid)\n",
    "dic_insp.dic_cracks.items = construct_dic_cracks(B5_TV1_cracks)\n",
    "dic_insp.interact()"
   ]
  },
  {
   "cell_type": "markdown",
   "id": "d72396c1",
   "metadata": {},
   "source": [
    "# B5_TV2"
   ]
  },
  {
   "cell_type": "code",
   "execution_count": 13,
   "id": "54d7894e",
   "metadata": {},
   "outputs": [],
   "source": [
    "B5_TV2_cracks = [\n",
    "    # crack 1\n",
    "    (dict(y_ref_i=-1, y_ref_j_min=1, y_ref_j_max=10),\n",
    "     dict(n_x_min = -7, n_x_max = -5, n_x_step=1, n_y_min = 9, n_y_max=11, n_y_step = 1)),\n",
    "    # crack 2\n",
    "    (dict(y_ref_i=-6, y_ref_j_min=1, y_ref_j_max=10),\n",
    "     dict(n_x_min = -13, n_x_max = -11, n_x_step=1, n_y_min = 5, n_y_max=9, n_y_step = 1)),\n",
    "    # crack 3\n",
    "    (dict(y_ref_i=-13, y_ref_j_min=1, y_ref_j_max=10),\n",
    "     dict(n_x_min = -18, n_x_max = -16, n_x_step=1, n_y_min = 5, n_y_max=9, n_y_step = 1)),\n",
    "    # crack 4\n",
    "    (dict(y_ref_i=-18, y_ref_j_min=1, y_ref_j_max=10),\n",
    "     dict(n_x_min = -26, n_x_max = -23, n_x_step=1, n_y_min = 5, n_y_step = 1)),\n",
    "    # crack 5\n",
    "    (dict(y_ref_i=-26, y_ref_j_min=1, y_ref_j_max=10),\n",
    "     dict(n_x_min=-31, n_x_max=-28, n_x_step=1, n_y_min = 3, n_y_max=10, n_y_step = 1)),\n",
    "    # crack 6\n",
    "    (dict(y_ref_i=-31, y_ref_j_min=1, y_ref_j_max=10),\n",
    "     dict(n_x_min=-37, n_x_max=-35, n_x_step=1, n_y_min = 4, n_y_max=11, n_y_step = 1)),\n",
    "    # crack 7\n",
    "    (dict(y_ref_i=-37, y_ref_j_min=1, y_ref_j_max=10),\n",
    "     dict(n_x_min=-46, n_x_max=-42, n_x_step=1, n_y_min = 5, n_y_max=10, n_y_step = 1)),\n",
    "    # crack 8\n",
    "    (dict(y_ref_i=-46, y_ref_j_min=1, y_ref_j_max=10),\n",
    "     dict(n_x_min=-51, n_x_max=-48, n_x_step=1, n_y_min = 5, n_y_max=10, n_y_step = 1)),\n",
    "    # crack 9\n",
    "    (dict(y_ref_i=-52, y_ref_j_min=1, y_ref_j_max=10),\n",
    "     dict(n_x_min=-64, n_x_max=-58, n_x_step=1, n_y_min = 2, n_y_max=9, n_y_step = 1)),\n",
    "]"
   ]
  },
  {
   "cell_type": "code",
   "execution_count": 14,
   "id": "fb5e4a2d",
   "metadata": {
    "scrolled": false
   },
   "outputs": [
    {
     "name": "stderr",
     "output_type": "stream",
     "text": [
      "c:\\users\\fahad\\pycharmprojects\\bmcs_shear_zone\\bmcs_shear\\dic_crack\\dic_cor.py:142: RuntimeWarning: invalid value encountered in true_divide\n",
      "  phi = 2 * np.arctan(len_d_0t / len_d_0c)\n",
      "c:\\users\\fahad\\pycharmprojects\\bmcs_shear_zone\\bmcs_shear\\dic_crack\\dic_cor.py:142: RuntimeWarning: invalid value encountered in true_divide\n",
      "  phi = 2 * np.arctan(len_d_0t / len_d_0c)\n"
     ]
    },
    {
     "data": {
      "application/vnd.jupyter.widget-view+json": {
       "model_id": "b6149e1228234b5b8c68261298dabb1e",
       "version_major": 2,
       "version_minor": 0
      },
      "text/plain": [
       "VBox(children=(HBox(children=(VBox(children=(Tree(layout=Layout(align_items='stretch', border='solid 1px black…"
      ]
     },
     "metadata": {},
     "output_type": "display_data"
    }
   ],
   "source": [
    "dic_grid = DICGrid(n_x=71, n_y=12, d_x = 25, d_y = 25,  start_t = 0, end_t =20, L = 1800, U_factor = 1, \n",
    "                   dir_name='B5_TV2', grid_column_first = True, grid_number_vertical = True)\n",
    "dic_insp = DICInspector(dic_grid=dic_grid)\n",
    "dic_insp.dic_cracks.items = construct_dic_cracks(B5_TV2_cracks)\n",
    "dic_insp.interact()"
   ]
  },
  {
   "cell_type": "markdown",
   "id": "56476e10",
   "metadata": {},
   "source": [
    "# B6_TV1"
   ]
  },
  {
   "cell_type": "code",
   "execution_count": 15,
   "id": "3f61cff6",
   "metadata": {},
   "outputs": [],
   "source": [
    "B6_TV1_cracks = [\n",
    "    # crack 1\n",
    "    (dict(y_ref_i=-1, y_ref_j_min=1, y_ref_j_max=10),\n",
    "     dict(n_x_min = -6, n_x_max = -4, n_x_step=1, n_y_min = 1, n_y_max=10, n_y_step = 1)),\n",
    "    # crack 2\n",
    "    (dict(y_ref_i=-6, y_ref_j_min=1, y_ref_j_max=10),\n",
    "     dict(n_x_min = -10, n_x_max = -9, n_x_step=1, n_y_min = 1, n_y_max=10, n_y_step = 1)),\n",
    "    # crack 3\n",
    "    (dict(y_ref_i=-10, y_ref_j_min=1, y_ref_j_max=10),\n",
    "     dict(n_x_min = -16, n_x_max = -13, n_x_step=1, n_y_min = 1, n_y_max=10, n_y_step = 1)),\n",
    "    # crack 4\n",
    "    (dict(y_ref_i=-15, y_ref_j_min=1, y_ref_j_max=10),\n",
    "     dict(n_x_min = -20, n_x_max = -18, n_x_step=1, n_y_min = 1, n_y_max=7, n_y_step = 1)),\n",
    "    # crack 5\n",
    "    (dict(y_ref_i=-21, y_ref_j_min=1, y_ref_j_max=10),\n",
    "     dict(n_x_min = -29, n_x_max = -23, n_x_step=1, n_y_min = 4, n_y_max=-1, n_y_step = 1)),\n",
    "    # crack 6\n",
    "    (dict(y_ref_i=31, y_ref_j_min=1, y_ref_j_max=10),\n",
    "     dict(n_x_min = 21, n_x_max = 26, n_x_step=1, n_y_min =3, n_y_max=-1, n_y_step = 1)),\n",
    "    # crack 7\n",
    "    (dict(y_ref_i=22, y_ref_j_min=1, y_ref_j_max=10),#22\n",
    "     dict(n_x_min = 1, n_x_max = 14, n_x_step=2, n_y_min = 3, n_y_max=-3, n_y_step = 2))\n",
    "]"
   ]
  },
  {
   "cell_type": "code",
   "execution_count": 16,
   "id": "071f80e2",
   "metadata": {
    "scrolled": false
   },
   "outputs": [
    {
     "name": "stderr",
     "output_type": "stream",
     "text": [
      "c:\\users\\fahad\\pycharmprojects\\bmcs_shear_zone\\bmcs_shear\\dic_crack\\dic_cor.py:142: RuntimeWarning: invalid value encountered in true_divide\n",
      "  phi = 2 * np.arctan(len_d_0t / len_d_0c)\n",
      "c:\\users\\fahad\\pycharmprojects\\bmcs_shear_zone\\bmcs_shear\\dic_crack\\dic_cor.py:142: RuntimeWarning: invalid value encountered in true_divide\n",
      "  phi = 2 * np.arctan(len_d_0t / len_d_0c)\n",
      "c:\\users\\fahad\\pycharmprojects\\bmcs_shear_zone\\bmcs_shear\\dic_crack\\dic_cor.py:142: RuntimeWarning: invalid value encountered in true_divide\n",
      "  phi = 2 * np.arctan(len_d_0t / len_d_0c)\n",
      "c:\\users\\fahad\\pycharmprojects\\bmcs_shear_zone\\bmcs_shear\\dic_crack\\dic_cor.py:142: RuntimeWarning: invalid value encountered in true_divide\n",
      "  phi = 2 * np.arctan(len_d_0t / len_d_0c)\n"
     ]
    },
    {
     "data": {
      "application/vnd.jupyter.widget-view+json": {
       "model_id": "c8e34f7a23604d548914dbe89051918d",
       "version_major": 2,
       "version_minor": 0
      },
      "text/plain": [
       "VBox(children=(HBox(children=(VBox(children=(Tree(layout=Layout(align_items='stretch', border='solid 1px black…"
      ]
     },
     "metadata": {},
     "output_type": "display_data"
    }
   ],
   "source": [
    "dic_grid = DICGrid(n_x=58, n_y=15, d_x = 22, d_y = 22, start_t = 0, end_t =31, L = 1500, U_factor = 1, \n",
    "                   dir_name='B6_TV1', grid_column_first = False, grid_number_vertical = False)\n",
    "dic_insp = DICInspector(dic_grid=dic_grid)\n",
    "dic_insp.dic_cracks.items = construct_dic_cracks(B6_TV1_cracks)\n",
    "dic_insp.interact()"
   ]
  },
  {
   "cell_type": "markdown",
   "id": "919b7584",
   "metadata": {},
   "source": [
    "# B6_TV2"
   ]
  },
  {
   "cell_type": "code",
   "execution_count": 17,
   "id": "fe29530d",
   "metadata": {},
   "outputs": [],
   "source": [
    "B6_TV2_cracks = [\n",
    "    # crask 1\n",
    "    (dict(y_ref_i=-1, y_ref_j_min=1, y_ref_j_max=10),\n",
    "     dict(n_x_min = -7, n_x_max = -4, n_x_step=1, n_y_min = 1, n_y_max=10, n_y_step = 1)),\n",
    "    # crack 2\n",
    "    (dict(y_ref_i=-7, y_ref_j_min=1, y_ref_j_max=10),\n",
    "     dict(n_x_min = -15, n_x_max = -12, n_x_step=1, n_y_min = 5, n_y_max=12, n_y_step = 1)),\n",
    "    # crack 3\n",
    "    (dict(y_ref_i=-15, y_ref_j_min=1, y_ref_j_max=10),\n",
    "     dict(n_x_min = -25, n_x_max = -21, n_x_step=1, n_y_min = 7, n_y_max=12, n_y_step = 1)),\n",
    "    # crack 4\n",
    "    (dict(y_ref_i=20, y_ref_j_min=1, y_ref_j_max=10),\n",
    "     dict(n_x_min = 1, n_x_max = 5, n_x_step=2, n_y_min = 1, n_y_max=-4, n_y_step = 2)),\n",
    "#     # crack 5\n",
    "#     (dict(y_ref_i=31, y_ref_j_min=1, y_ref_j_max=10),\n",
    "#      dict(n_x_min = 21, n_x_max = 26, n_x_step=1, n_y_min =3, n_y_max=-1, n_y_step = 1)),\n",
    "#     # crack 6\n",
    "#     (dict(y_ref_i=22, y_ref_j_min=1, y_ref_j_max=10),#22\n",
    "#      dict(n_x_min = 1, n_x_max = 14, n_x_step=2, n_y_min = 3, n_y_max=-3, n_y_step = 2))\n",
    "]"
   ]
  },
  {
   "cell_type": "code",
   "execution_count": 18,
   "id": "02ae18a4",
   "metadata": {
    "scrolled": false
   },
   "outputs": [
    {
     "name": "stderr",
     "output_type": "stream",
     "text": [
      "c:\\users\\fahad\\pycharmprojects\\bmcs_shear_zone\\bmcs_shear\\dic_crack\\dic_cor.py:142: RuntimeWarning: invalid value encountered in true_divide\n",
      "  phi = 2 * np.arctan(len_d_0t / len_d_0c)\n",
      "c:\\users\\fahad\\pycharmprojects\\bmcs_shear_zone\\bmcs_shear\\dic_crack\\dic_cor.py:142: RuntimeWarning: invalid value encountered in true_divide\n",
      "  phi = 2 * np.arctan(len_d_0t / len_d_0c)\n"
     ]
    },
    {
     "data": {
      "application/vnd.jupyter.widget-view+json": {
       "model_id": "fa83a4d1f37944da8719281976c01243",
       "version_major": 2,
       "version_minor": 0
      },
      "text/plain": [
       "VBox(children=(HBox(children=(VBox(children=(Tree(layout=Layout(align_items='stretch', border='solid 1px black…"
      ]
     },
     "metadata": {},
     "output_type": "display_data"
    }
   ],
   "source": [
    "dic_grid = DICGrid(n_x=57, n_y=13, d_x = 22, d_y = 22, start_t = 0, end_t =19, L = 1500, U_factor = 1, \n",
    "                   dir_name='B6_TV2_', grid_column_first = False, grid_number_vertical = False)\n",
    "dic_insp = DICInspector(dic_grid=dic_grid)\n",
    "dic_insp.dic_cracks.items = construct_dic_cracks(B6_TV2_cracks)\n",
    "dic_insp.interact()"
   ]
  },
  {
   "cell_type": "markdown",
   "id": "6aec91ae",
   "metadata": {},
   "source": [
    "# B7_TV1"
   ]
  },
  {
   "cell_type": "code",
   "execution_count": 19,
   "id": "437dd9ea",
   "metadata": {},
   "outputs": [],
   "source": [
    "B7_TV1_cracks = [\n",
    "    # crask 1\n",
    "    (dict(y_ref_i=-1, y_ref_j_min=1, y_ref_j_max=10),\n",
    "     dict(n_x_min = -12, n_x_max = -8, n_x_step=1, n_y_min = 1, n_y_max=10, n_y_step = 1)),\n",
    "    # crack 2\n",
    "    (dict(y_ref_i=-12, y_ref_j_min=1, y_ref_j_max=10),\n",
    "     dict(n_x_min = -19, n_x_max = -16, n_x_step=1, n_y_min = 1, n_y_max=10, n_y_step = 1)),\n",
    "     # crack 3\n",
    "     (dict(y_ref_i=-19, y_ref_j_min=1, y_ref_j_max=10),\n",
    "      dict(n_x_min = 32, n_x_max = 35, n_x_step=1, n_y_min = 1, n_y_max=8, n_y_step = 1)),\n",
    "     # crack 4\n",
    "     (dict(y_ref_i=32, y_ref_j_min=1, y_ref_j_max=10),\n",
    "      dict(n_x_min = 23, n_x_max = 26, n_x_step=1, n_y_min = 1, n_y_max=7, n_y_step = 1)),\n",
    "     # crack 5\n",
    "     (dict(y_ref_i=25, y_ref_j_min=1, y_ref_j_max=10),\n",
    "      dict(n_x_min = 0, n_x_max = 18, n_x_step=2, n_y_min = 1, n_y_max=-1, n_y_step = 2)),\n",
    "]"
   ]
  },
  {
   "cell_type": "code",
   "execution_count": 20,
   "id": "646aea9e",
   "metadata": {
    "scrolled": false
   },
   "outputs": [
    {
     "name": "stderr",
     "output_type": "stream",
     "text": [
      "c:\\users\\fahad\\pycharmprojects\\bmcs_shear_zone\\bmcs_shear\\dic_crack\\dic_cor.py:142: RuntimeWarning: invalid value encountered in true_divide\n",
      "  phi = 2 * np.arctan(len_d_0t / len_d_0c)\n",
      "c:\\users\\fahad\\pycharmprojects\\bmcs_shear_zone\\bmcs_shear\\dic_crack\\dic_cor.py:142: RuntimeWarning: invalid value encountered in true_divide\n",
      "  phi = 2 * np.arctan(len_d_0t / len_d_0c)\n"
     ]
    },
    {
     "data": {
      "application/vnd.jupyter.widget-view+json": {
       "model_id": "3ca55ae252b04439abb4fe97990ac136",
       "version_major": 2,
       "version_minor": 0
      },
      "text/plain": [
       "VBox(children=(HBox(children=(VBox(children=(Tree(layout=Layout(align_items='stretch', border='solid 1px black…"
      ]
     },
     "metadata": {},
     "output_type": "display_data"
    }
   ],
   "source": [
    "dic_grid = DICGrid(n_x=58, n_y=14, d_x = 22, d_y = 22, start_t = 0, end_t =25, L = 1500, U_factor = 1, \n",
    "                   dir_name='B7_TV1', grid_column_first = False, grid_number_vertical = False)\n",
    "dic_insp = DICInspector(dic_grid=dic_grid)\n",
    "dic_insp.dic_cracks.items = construct_dic_cracks(B7_TV1_cracks)\n",
    "dic_insp.interact()"
   ]
  },
  {
   "cell_type": "markdown",
   "id": "f3e0650a",
   "metadata": {},
   "source": [
    "# B7_TV2"
   ]
  },
  {
   "cell_type": "code",
   "execution_count": 21,
   "id": "f981baab",
   "metadata": {},
   "outputs": [],
   "source": [
    "B7_TV2_cracks = [\n",
    "    # crask 1\n",
    "    (dict(y_ref_i=-1, y_ref_j_min=1, y_ref_j_max=10),\n",
    "     dict(n_x_min = -8, n_x_max = -6, n_x_step=1, n_y_min = 1, n_y_max=10, n_y_step = 1)),\n",
    "    # crack 2\n",
    "    (dict(y_ref_i=-8, y_ref_j_min=1, y_ref_j_max=10),\n",
    "     dict(n_x_min = -13, n_x_max = -11, n_x_step=1, n_y_min = 1, n_y_max=10, n_y_step = 1)),\n",
    "     # crack 3\n",
    "     (dict(y_ref_i=-13, y_ref_j_min=1, y_ref_j_max=10),\n",
    "      dict(n_x_min = -23, n_x_max = -18, n_x_step=1, n_y_min = 3, n_y_max=8, n_y_step = 1)),\n",
    "     # crack 4\n",
    "     (dict(y_ref_i=-23, y_ref_j_min=1, y_ref_j_max=10),\n",
    "      dict(n_x_min = -28, n_x_max = -24, n_x_step=1, n_y_min = 3, n_y_max=7, n_y_step = 1)),\n",
    "     # crack 5\n",
    "     (dict(y_ref_i=-28, y_ref_j_min=1, y_ref_j_max=10),\n",
    "      dict(n_x_min = 1, n_x_max = 12, n_x_step=2, n_y_min = 1, n_y_max=-1, n_y_step = 2)),\n",
    "]"
   ]
  },
  {
   "cell_type": "code",
   "execution_count": 22,
   "id": "006cdb97",
   "metadata": {
    "scrolled": false
   },
   "outputs": [
    {
     "name": "stderr",
     "output_type": "stream",
     "text": [
      "c:\\users\\fahad\\pycharmprojects\\bmcs_shear_zone\\bmcs_shear\\dic_crack\\dic_cor.py:142: RuntimeWarning: invalid value encountered in true_divide\n",
      "  phi = 2 * np.arctan(len_d_0t / len_d_0c)\n"
     ]
    },
    {
     "data": {
      "application/vnd.jupyter.widget-view+json": {
       "model_id": "401a9a2ae7264171994f8d7dfcc40d4e",
       "version_major": 2,
       "version_minor": 0
      },
      "text/plain": [
       "VBox(children=(HBox(children=(VBox(children=(Tree(layout=Layout(align_items='stretch', border='solid 1px black…"
      ]
     },
     "metadata": {},
     "output_type": "display_data"
    }
   ],
   "source": [
    "dic_grid = DICGrid(n_x=53, n_y=12, d_x = 23, d_y = 23, start_t = 0, end_t =15, L = 1500, U_factor = 1, \n",
    "                   dir_name='B7_TV2', grid_column_first = True, grid_number_vertical = True)\n",
    "dic_insp = DICInspector(dic_grid=dic_grid)\n",
    "dic_insp.dic_cracks.items = construct_dic_cracks(B7_TV2_cracks)\n",
    "dic_insp.interact()"
   ]
  },
  {
   "cell_type": "markdown",
   "id": "00dc91eb",
   "metadata": {},
   "source": [
    "# B8_TV1"
   ]
  },
  {
   "cell_type": "code",
   "execution_count": 23,
   "id": "d65f46d9",
   "metadata": {},
   "outputs": [],
   "source": [
    "B8_TV1_cracks = [\n",
    "    # crack 1\n",
    "    (dict(y_ref_i=-1 , y_ref_j_min=1, y_ref_j_max=10),\n",
    "     dict(n_x_min = -15, n_x_max = -8, n_x_step=1, n_y_min = 5, n_y_max=-2, n_y_step = 1)),\n",
    "    # crack 2\n",
    "    (dict(y_ref_i=-13, y_ref_j_min=1, y_ref_j_max=10),\n",
    "     dict(n_x_min = -19, n_x_max = -17, n_x_step=1, n_y_min = 8, n_y_max=-1, n_y_step = 1)),\n",
    "    # crack 3\n",
    "    (dict(y_ref_i=-19, y_ref_j_min=1, y_ref_j_max=10),\n",
    "     dict(n_x_min = -24, n_x_max = -21, n_x_step=1, n_y_min = 5, n_y_max=-1, n_y_step = 1)),\n",
    "    # crack 4\n",
    "    (dict(y_ref_i=-24, y_ref_j_min=1, y_ref_j_max=10),\n",
    "     dict(n_x_min = -33, n_x_max = -29, n_x_step=1, n_y_min = 2, n_y_max=7, n_y_step = 1)),\n",
    "    # crack 5\n",
    "    (dict(y_ref_i=-33, y_ref_j_min=1, y_ref_j_max=10),\n",
    "     dict(n_x_min=1, n_x_max=15, n_x_step=2, n_y_min = 2, n_y_max=12, n_y_step = 2)),\n",
    "]"
   ]
  },
  {
   "cell_type": "code",
   "execution_count": 24,
   "id": "043d8889",
   "metadata": {
    "scrolled": false
   },
   "outputs": [
    {
     "name": "stderr",
     "output_type": "stream",
     "text": [
      "c:\\users\\fahad\\pycharmprojects\\bmcs_shear_zone\\bmcs_shear\\dic_crack\\dic_cor.py:142: RuntimeWarning: invalid value encountered in true_divide\n",
      "  phi = 2 * np.arctan(len_d_0t / len_d_0c)\n",
      "c:\\users\\fahad\\pycharmprojects\\bmcs_shear_zone\\bmcs_shear\\dic_crack\\dic_cor.py:142: RuntimeWarning: invalid value encountered in true_divide\n",
      "  phi = 2 * np.arctan(len_d_0t / len_d_0c)\n"
     ]
    },
    {
     "data": {
      "application/vnd.jupyter.widget-view+json": {
       "model_id": "dbe11d1aaaca45f8816cde9d7d623e84",
       "version_major": 2,
       "version_minor": 0
      },
      "text/plain": [
       "VBox(children=(HBox(children=(VBox(children=(Tree(layout=Layout(align_items='stretch', border='solid 1px black…"
      ]
     },
     "metadata": {},
     "output_type": "display_data"
    }
   ],
   "source": [
    "dic_grid = DICGrid(n_x=56, n_y=13, d_x = 23, d_y = 23,  start_t = 0, end_t =14, L = 1500, U_factor = 1, \n",
    "                   dir_name='B8_TV1', grid_column_first = True, grid_number_vertical = True)\n",
    "dic_insp = DICInspector(dic_grid=dic_grid)\n",
    "dic_insp.dic_cracks.items = construct_dic_cracks(B8_TV1_cracks)\n",
    "dic_insp.interact()"
   ]
  },
  {
   "cell_type": "markdown",
   "id": "4f09c771",
   "metadata": {},
   "source": [
    "# B8_TV2"
   ]
  },
  {
   "cell_type": "code",
   "execution_count": 25,
   "id": "46c43d6d",
   "metadata": {},
   "outputs": [],
   "source": [
    "B8_TV2_cracks = [\n",
    "    # crack 1\n",
    "    (dict(y_ref_i=-1 , y_ref_j_min=1, y_ref_j_max=10),\n",
    "     dict(n_x_min = -8, n_x_max = -3, n_x_step=1, n_y_min = 5, n_y_max=-2, n_y_step = 1)),\n",
    "    # crack 2\n",
    "    (dict(y_ref_i=-8, y_ref_j_min=1, y_ref_j_max=10),\n",
    "     dict(n_x_min = -16, n_x_max = -13, n_x_step=1, n_y_min = 5, n_y_max=11, n_y_step = 1)),\n",
    "    # crack 3\n",
    "    (dict(y_ref_i=-16, y_ref_j_min=1, y_ref_j_max=10),\n",
    "     dict(n_x_min = -25, n_x_max = -21, n_x_step=1, n_y_min = 5, n_y_max=10, n_y_step = 1)),\n",
    "    # crack 4\n",
    "    (dict(y_ref_i=-24, y_ref_j_min=1, y_ref_j_max=10),\n",
    "     dict(n_x_min = -35, n_x_max = -31, n_x_step=1, n_y_min = 1, n_y_max=7, n_y_step = 1)),\n",
    "    # crack 5\n",
    "    (dict(y_ref_i=-33, y_ref_j_min=1, y_ref_j_max=10),\n",
    "     dict(n_x_min=1, n_x_max=14, n_x_step=2, n_y_min = 3, n_y_max=12, n_y_step = 2)),\n",
    "]"
   ]
  },
  {
   "cell_type": "code",
   "execution_count": 26,
   "id": "4018f024",
   "metadata": {
    "scrolled": false
   },
   "outputs": [
    {
     "name": "stderr",
     "output_type": "stream",
     "text": [
      "c:\\users\\fahad\\pycharmprojects\\bmcs_shear_zone\\bmcs_shear\\dic_crack\\dic_cor.py:142: RuntimeWarning: invalid value encountered in true_divide\n",
      "  phi = 2 * np.arctan(len_d_0t / len_d_0c)\n",
      "c:\\users\\fahad\\pycharmprojects\\bmcs_shear_zone\\bmcs_shear\\dic_crack\\dic_cor.py:142: RuntimeWarning: invalid value encountered in true_divide\n",
      "  phi = 2 * np.arctan(len_d_0t / len_d_0c)\n"
     ]
    },
    {
     "data": {
      "application/vnd.jupyter.widget-view+json": {
       "model_id": "873b9b11df914770b9d031fa9d7e2237",
       "version_major": 2,
       "version_minor": 0
      },
      "text/plain": [
       "VBox(children=(HBox(children=(VBox(children=(Tree(layout=Layout(align_items='stretch', border='solid 1px black…"
      ]
     },
     "metadata": {},
     "output_type": "display_data"
    }
   ],
   "source": [
    "dic_grid = DICGrid(n_x=56, n_y=14, d_x = 23, d_y = 23,  start_t = 0, end_t =15,  L = 1500, U_factor = 1, \n",
    "                   dir_name='B8_TV2', grid_column_first = True, grid_number_vertical = True)\n",
    "dic_insp = DICInspector(dic_grid=dic_grid)\n",
    "dic_insp.dic_cracks.items = construct_dic_cracks(B8_TV2_cracks)\n",
    "dic_insp.interact()"
   ]
  },
  {
   "cell_type": "markdown",
   "id": "ec167418",
   "metadata": {},
   "source": [
    "# B9_TV1"
   ]
  },
  {
   "cell_type": "code",
   "execution_count": 27,
   "id": "27bd9d98",
   "metadata": {},
   "outputs": [],
   "source": [
    "B9_TV1_cracks = [\n",
    "    # crack 1\n",
    "    (dict(y_ref_i=-1 , y_ref_j_min=1, y_ref_j_max=10),\n",
    "     dict(n_x_min = -9, n_x_max = -6, n_x_step=1, n_y_min = 5, n_y_max=-2, n_y_step = 1)),\n",
    "    # crack 2\n",
    "    (dict(y_ref_i=-9, y_ref_j_min=1, y_ref_j_max=10),\n",
    "     dict(n_x_min = -15, n_x_max = -12, n_x_step=1, n_y_min = 5, n_y_max=-1, n_y_step = 1)),\n",
    "    # crack 3\n",
    "    (dict(y_ref_i=-14, y_ref_j_min=1, y_ref_j_max=10),\n",
    "     dict(n_x_min = -19, n_x_max = -16, n_x_step=1, n_y_min = 5, n_y_max=10, n_y_step = 1)),\n",
    "    # crack 4\n",
    "    (dict(y_ref_i=-19, y_ref_j_min=1, y_ref_j_max=10),\n",
    "     dict(n_x_min = -25, n_x_max = -22, n_x_step=1, n_y_min = 3, n_y_max = 8, n_y_step = 1)),\n",
    "    # crack 5\n",
    "    (dict(y_ref_i=-25, y_ref_j_min=1, y_ref_j_max=10),\n",
    "     dict(n_x_min=-32, n_x_max=-29, n_x_step=1, n_y_min = 5, n_y_max=-1, n_y_step = 1)),\n",
    "    # crack 6\n",
    "    (dict(y_ref_i=-30, y_ref_j_min=1, y_ref_j_max=10),\n",
    "     dict(n_x_min=1, n_x_max=14, n_x_step=2, n_y_min = 1, n_y_max=10, n_y_step = 2)),\n",
    "]"
   ]
  },
  {
   "cell_type": "code",
   "execution_count": 28,
   "id": "bd3f6e86",
   "metadata": {
    "scrolled": false
   },
   "outputs": [
    {
     "name": "stderr",
     "output_type": "stream",
     "text": [
      "c:\\users\\fahad\\pycharmprojects\\bmcs_shear_zone\\bmcs_shear\\dic_crack\\dic_cor.py:142: RuntimeWarning: invalid value encountered in true_divide\n",
      "  phi = 2 * np.arctan(len_d_0t / len_d_0c)\n",
      "c:\\users\\fahad\\pycharmprojects\\bmcs_shear_zone\\bmcs_shear\\dic_crack\\dic_cor.py:142: RuntimeWarning: invalid value encountered in true_divide\n",
      "  phi = 2 * np.arctan(len_d_0t / len_d_0c)\n",
      "c:\\users\\fahad\\pycharmprojects\\bmcs_shear_zone\\bmcs_shear\\dic_crack\\dic_cor.py:142: RuntimeWarning: invalid value encountered in true_divide\n",
      "  phi = 2 * np.arctan(len_d_0t / len_d_0c)\n",
      "c:\\users\\fahad\\pycharmprojects\\bmcs_shear_zone\\bmcs_shear\\dic_crack\\dic_cor.py:142: RuntimeWarning: invalid value encountered in true_divide\n",
      "  phi = 2 * np.arctan(len_d_0t / len_d_0c)\n"
     ]
    },
    {
     "data": {
      "application/vnd.jupyter.widget-view+json": {
       "model_id": "8ed2d4cd5ff045c583484e920121e707",
       "version_major": 2,
       "version_minor": 0
      },
      "text/plain": [
       "VBox(children=(HBox(children=(VBox(children=(Tree(layout=Layout(align_items='stretch', border='solid 1px black…"
      ]
     },
     "metadata": {},
     "output_type": "display_data"
    }
   ],
   "source": [
    "dic_grid = DICGrid(n_x=54, n_y=12, d_x = 23, d_y = 23, start_t = 0, end_t =18, L = 1500, U_factor = 1, \n",
    "                   dir_name='B9_TV1_', grid_column_first = True, grid_number_vertical = True)\n",
    "dic_insp = DICInspector(dic_grid=dic_grid)\n",
    "dic_insp.dic_cracks.items = construct_dic_cracks(B9_TV1_cracks)\n",
    "dic_insp.interact()"
   ]
  },
  {
   "cell_type": "markdown",
   "id": "1db489e9",
   "metadata": {},
   "source": [
    "# B9_TV2"
   ]
  },
  {
   "cell_type": "code",
   "execution_count": 29,
   "id": "d572cdeb",
   "metadata": {},
   "outputs": [],
   "source": [
    "B9_TV2_cracks = [\n",
    "    # crack 1\n",
    "    (dict(y_ref_i=-1 , y_ref_j_min=1, y_ref_j_max=10),\n",
    "     dict(n_x_min = -9, n_x_max = -6, n_x_step=1, n_y_min = 5, n_y_max=-2, n_y_step = 1)),\n",
    "    # crack 2\n",
    "    (dict(y_ref_i=-9, y_ref_j_min=1, y_ref_j_max=10),\n",
    "     dict(n_x_min = -15, n_x_max = -11, n_x_step=1, n_y_min = 6, n_y_max=10, n_y_step = 1)),\n",
    "    # crack 3\n",
    "    (dict(y_ref_i=-14, y_ref_j_min=1, y_ref_j_max=10),\n",
    "     dict(n_x_min = -20, n_x_max = -17, n_x_step=1, n_y_min = 5, n_y_max=10, n_y_step = 1)),\n",
    "    # crack 4\n",
    "    (dict(y_ref_i=-19, y_ref_j_min=1, y_ref_j_max=10),\n",
    "     dict(n_x_min = -26, n_x_max = -23, n_x_step=1, n_y_min = 3, n_y_max = 8, n_y_step = 1)),\n",
    "    # crack 5\n",
    "    (dict(y_ref_i=-25, y_ref_j_min=1, y_ref_j_max=10),\n",
    "     dict(n_x_min=-33, n_x_max=-30, n_x_step=1, n_y_min = 1, n_y_max=6, n_y_step = 1)),\n",
    "    # crack 6\n",
    "    (dict(y_ref_i=-33, y_ref_j_min=1, y_ref_j_max=10),\n",
    "     dict(n_x_min=1, n_x_max=14, n_x_step=2, n_y_min = 1, n_y_max=10, n_y_step = 2)),\n",
    "]"
   ]
  },
  {
   "cell_type": "code",
   "execution_count": 30,
   "id": "80d6a483",
   "metadata": {
    "scrolled": false
   },
   "outputs": [
    {
     "name": "stderr",
     "output_type": "stream",
     "text": [
      "c:\\users\\fahad\\pycharmprojects\\bmcs_shear_zone\\bmcs_shear\\dic_crack\\dic_cor.py:142: RuntimeWarning: invalid value encountered in true_divide\n",
      "  phi = 2 * np.arctan(len_d_0t / len_d_0c)\n",
      "c:\\users\\fahad\\pycharmprojects\\bmcs_shear_zone\\bmcs_shear\\dic_crack\\dic_cor.py:142: RuntimeWarning: invalid value encountered in true_divide\n",
      "  phi = 2 * np.arctan(len_d_0t / len_d_0c)\n",
      "c:\\users\\fahad\\pycharmprojects\\bmcs_shear_zone\\bmcs_shear\\dic_crack\\dic_cor.py:142: RuntimeWarning: invalid value encountered in true_divide\n",
      "  phi = 2 * np.arctan(len_d_0t / len_d_0c)\n",
      "c:\\users\\fahad\\pycharmprojects\\bmcs_shear_zone\\bmcs_shear\\dic_crack\\dic_cor.py:142: RuntimeWarning: invalid value encountered in true_divide\n",
      "  phi = 2 * np.arctan(len_d_0t / len_d_0c)\n"
     ]
    },
    {
     "data": {
      "application/vnd.jupyter.widget-view+json": {
       "model_id": "efec065bcb7f4c4e938b51ab4f454d56",
       "version_major": 2,
       "version_minor": 0
      },
      "text/plain": [
       "VBox(children=(HBox(children=(VBox(children=(Tree(layout=Layout(align_items='stretch', border='solid 1px black…"
      ]
     },
     "metadata": {},
     "output_type": "display_data"
    }
   ],
   "source": [
    "dic_grid = DICGrid(n_x=57, n_y=13, d_x = 22, d_y = 22, start_t = 0, end_t =16, L = 1500, U_factor = 1, \n",
    "                   dir_name='B9_TV2', grid_column_first = True, grid_number_vertical = True)\n",
    "dic_insp = DICInspector(dic_grid=dic_grid)\n",
    "dic_insp.dic_cracks.items = construct_dic_cracks(B9_TV2_cracks)\n",
    "dic_insp.interact()"
   ]
  },
  {
   "cell_type": "markdown",
   "id": "91768d4a",
   "metadata": {},
   "source": [
    "# B10_TV1"
   ]
  },
  {
   "cell_type": "code",
   "execution_count": 31,
   "id": "33d79787",
   "metadata": {},
   "outputs": [],
   "source": [
    "B10_TV1_cracks = [\n",
    "    # crack 1\n",
    "    (dict(y_ref_i=-1 , y_ref_j_min=1, y_ref_j_max=10),\n",
    "     dict(n_x_min = -6, n_x_max = -4, n_x_step=1, n_y_min = 7, n_y_max=-1, n_y_step = 1)),\n",
    "    # crack 2\n",
    "    (dict(y_ref_i=-6 , y_ref_j_min=1, y_ref_j_max=10),\n",
    "     dict(n_x_min = -10, n_x_max = -7, n_x_step=1, n_y_min = 1, n_y_max=5, n_y_step = 1)),\n",
    "    # crack 3\n",
    "    (dict(y_ref_i=-6, y_ref_j_min=1, y_ref_j_max=10),\n",
    "     dict(n_x_min = -16, n_x_max = -13, n_x_step=1, n_y_min = 5, n_y_max=9, n_y_step = 1)),\n",
    "    # crack 4\n",
    "    (dict(y_ref_i=-14, y_ref_j_min=1, y_ref_j_max=10),\n",
    "     dict(n_x_min = -25, n_x_max = -22, n_x_step=1, n_y_min = 5, n_y_max=10, n_y_step = 1)),\n",
    "    # crack 5\n",
    "    (dict(y_ref_i=-25, y_ref_j_min=1, y_ref_j_max=10),\n",
    "     dict(n_x_min = -33, n_x_max = -28, n_x_step=1, n_y_min = 1, n_y_max = 7, n_y_step = 1)),\n",
    "    # crack 6\n",
    "    (dict(y_ref_i=-33, y_ref_j_min=1, y_ref_j_max=7),\n",
    "     dict(n_x_min=1, n_x_max=14, n_x_step=2, n_y_min = 1, n_y_max=12, n_y_step = 2)),\n",
    "]"
   ]
  },
  {
   "cell_type": "code",
   "execution_count": 32,
   "id": "ca065bb1",
   "metadata": {
    "scrolled": false
   },
   "outputs": [
    {
     "name": "stderr",
     "output_type": "stream",
     "text": [
      "c:\\users\\fahad\\pycharmprojects\\bmcs_shear_zone\\bmcs_shear\\dic_crack\\dic_cor.py:142: RuntimeWarning: invalid value encountered in true_divide\n",
      "  phi = 2 * np.arctan(len_d_0t / len_d_0c)\n"
     ]
    },
    {
     "data": {
      "application/vnd.jupyter.widget-view+json": {
       "model_id": "3022092cbb1e4862a0b3c8a68dd769cc",
       "version_major": 2,
       "version_minor": 0
      },
      "text/plain": [
       "VBox(children=(HBox(children=(VBox(children=(Tree(layout=Layout(align_items='stretch', border='solid 1px black…"
      ]
     },
     "metadata": {},
     "output_type": "display_data"
    }
   ],
   "source": [
    "dic_grid = DICGrid(n_x=57, n_y=14, d_x = 22, d_y = 22, start_t = 0, end_t =15, L = 1500, U_factor = 1, \n",
    "                   dir_name='B10_TV1', grid_column_first = True, grid_number_vertical = True)\n",
    "dic_insp = DICInspector(dic_grid=dic_grid)\n",
    "dic_insp.dic_cracks.items = construct_dic_cracks(B10_TV1_cracks)\n",
    "dic_insp.interact()"
   ]
  },
  {
   "cell_type": "markdown",
   "id": "1dbce6c5",
   "metadata": {},
   "source": [
    "# B10_TV2"
   ]
  },
  {
   "cell_type": "code",
   "execution_count": 33,
   "id": "0c06e3bf",
   "metadata": {},
   "outputs": [],
   "source": [
    "B10_TV2_cracks = [\n",
    "    # crack 1\n",
    "    (dict(y_ref_i=-1 , y_ref_j_min=1, y_ref_j_max=10),\n",
    "     dict(n_x_min = -4, n_x_max = -3, n_x_step=1, n_y_min = 7, n_y_max=-1, n_y_step = 1)),\n",
    "    # crack 2\n",
    "    (dict(y_ref_i=-5 , y_ref_j_min=1, y_ref_j_max=10),\n",
    "     dict(n_x_min = -11, n_x_max = -8, n_x_step=1, n_y_min = 1, n_y_max=5, n_y_step = 1)),\n",
    "    # crack 3\n",
    "    (dict(y_ref_i=-11, y_ref_j_min=1, y_ref_j_max=10),\n",
    "     dict(n_x_min = -16, n_x_max = -13, n_x_step=1, n_y_min = 1, n_y_max=4, n_y_step = 1)),\n",
    "    # crack 4\n",
    "    (dict(y_ref_i=-16, y_ref_j_min=1, y_ref_j_max=10),\n",
    "     dict(n_x_min = -21, n_x_max = -18, n_x_step=1, n_y_min = 1, n_y_max=5, n_y_step = 1)),\n",
    "    # crack 5\n",
    "    (dict(y_ref_i=-21, y_ref_j_min=1, y_ref_j_max=10),\n",
    "     dict(n_x_min = -29, n_x_max = -24, n_x_step=1, n_y_min = 1, n_y_max = 7, n_y_step = 1)),\n",
    "#     # crack 6\n",
    "#     (dict(y_ref_i=-29, y_ref_j_min=1, y_ref_j_max=10),\n",
    "#      dict(n_x_min=-37, n_x_max=-33, n_x_step=1, n_y_min = 1, n_y_max=5, n_y_step = 1)),\n",
    "#      # crack 7\n",
    "#     (dict(y_ref_i=-35, y_ref_j_min=1, y_ref_j_max=10),\n",
    "#      dict(n_x_min=0, n_x_max=14, n_x_step=2, n_y_min = 1, n_y_max=10, n_y_step = 2)),\n",
    "]"
   ]
  },
  {
   "cell_type": "code",
   "execution_count": 34,
   "id": "4a1e3786",
   "metadata": {},
   "outputs": [
    {
     "name": "stderr",
     "output_type": "stream",
     "text": [
      "c:\\users\\fahad\\pycharmprojects\\bmcs_shear_zone\\bmcs_shear\\dic_crack\\dic_cor.py:142: RuntimeWarning: invalid value encountered in true_divide\n",
      "  phi = 2 * np.arctan(len_d_0t / len_d_0c)\n",
      "c:\\users\\fahad\\pycharmprojects\\bmcs_shear_zone\\bmcs_shear\\dic_crack\\dic_cor.py:142: RuntimeWarning: invalid value encountered in true_divide\n",
      "  phi = 2 * np.arctan(len_d_0t / len_d_0c)\n"
     ]
    },
    {
     "data": {
      "application/vnd.jupyter.widget-view+json": {
       "model_id": "1f76dc450bec408ca4917d8011b023e9",
       "version_major": 2,
       "version_minor": 0
      },
      "text/plain": [
       "VBox(children=(HBox(children=(VBox(children=(Tree(layout=Layout(align_items='stretch', border='solid 1px black…"
      ]
     },
     "metadata": {},
     "output_type": "display_data"
    }
   ],
   "source": [
    "dic_grid = DICGrid(n_x=54, n_y=13, d_x = 23, d_y = 23, start_t = 0, end_t =10, L = 1500, U_factor = 1, \n",
    "                   dir_name='B10_TV2', grid_column_first = False, grid_number_vertical = False)\n",
    "dic_insp = DICInspector(dic_grid=dic_grid)\n",
    "dic_insp.dic_cracks.items = construct_dic_cracks(B10_TV2_cracks)\n",
    "dic_insp.interact()"
   ]
  },
  {
   "cell_type": "code",
   "execution_count": null,
   "id": "6e6d7a06",
   "metadata": {},
   "outputs": [],
   "source": []
  }
 ],
 "metadata": {
  "kernelspec": {
   "display_name": "Python 3",
   "language": "python",
   "name": "python3"
  },
  "language_info": {
   "codemirror_mode": {
    "name": "ipython",
    "version": 3
   },
   "file_extension": ".py",
   "mimetype": "text/x-python",
   "name": "python",
   "nbconvert_exporter": "python",
   "pygments_lexer": "ipython3",
   "version": "3.9.7"
  }
 },
 "nbformat": 4,
 "nbformat_minor": 5
}
