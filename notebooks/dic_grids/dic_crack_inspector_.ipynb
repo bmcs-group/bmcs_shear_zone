{
 "cells": [
  {
   "cell_type": "markdown",
   "id": "f7a3046f",
   "metadata": {},
   "source": [
    "# DIC Crack Inspector"
   ]
  },
  {
   "cell_type": "code",
   "execution_count": 1,
   "id": "6c8f22c4",
   "metadata": {},
   "outputs": [],
   "source": [
    "%matplotlib widget"
   ]
  },
  {
   "cell_type": "code",
   "execution_count": 2,
   "id": "fde18ee0",
   "metadata": {},
   "outputs": [],
   "source": [
    "from bmcs_shear.dic_crack import DICGrid, DICAlignedGrid, DICCOR, DICInspector, DICCrack"
   ]
  },
  {
   "cell_type": "markdown",
   "id": "6714df0b",
   "metadata": {},
   "source": [
    "Convenience function to construct cracks"
   ]
  },
  {
   "cell_type": "code",
   "execution_count": 3,
   "id": "1fc61f03",
   "metadata": {},
   "outputs": [],
   "source": [
    "def construct_dic_cracks(cracks):\n",
    "    '''Use the supplied list of crack specifications to construct the DICCrack objects'''\n",
    "    dic_cracks = []\n",
    "    for i, (ref_frame, rot_grid) in enumerate(cracks):\n",
    "        dic_aligned_grid = DICAlignedGrid(dic_grid=dic_grid)\n",
    "        dic_aligned_grid.trait_set(**ref_frame)\n",
    "        dic_cor = DICCOR(dic_aligned_grid=dic_aligned_grid, crack_idx=i+1)\n",
    "        dic_cor.trait_set(**rot_grid)\n",
    "        dic_crack = DICCrack(name='crack #%d' % (i+1), dic_cor=dic_cor)\n",
    "        dic_cracks.append(dic_crack)\n",
    "    return dic_cracks"
   ]
  },
  {
   "cell_type": "markdown",
   "id": "d767bb6b",
   "metadata": {},
   "source": [
    "# B1_TV1"
   ]
  },
  {
   "cell_type": "code",
   "execution_count": 4,
   "id": "d23f1bf7",
   "metadata": {},
   "outputs": [
    {
     "name": "stdout",
     "output_type": "stream",
     "text": [
      "[nan  5.  6.]\n"
     ]
    },
    {
     "data": {
      "text/plain": [
       "array([0., 5., 6.])"
      ]
     },
     "execution_count": 4,
     "metadata": {},
     "output_type": "execute_result"
    }
   ],
   "source": [
    "import numpy as np\n",
    "phi = np.array([np.nan, 5, 6])\n",
    "print(phi)\n",
    "phi = np.where(np.isnan(phi), 0, phi)\n",
    "phi"
   ]
  },
  {
   "cell_type": "code",
   "execution_count": 5,
   "id": "c84c6f79",
   "metadata": {},
   "outputs": [],
   "source": [
    "B1_TV1_cracks = [\n",
    "    # crack 1\n",
    "    (dict(y_ref_i=-1, y_ref_j_min=1, y_ref_j_max=10),\n",
    "     dict(n_x_min = -7, n_x_max = -6, n_x_step=1, n_y_min = 1, n_y_max=-2, n_y_step = 1)),\n",
    "    # crack 2\n",
    "    (dict(y_ref_i=-7, y_ref_j_min=1, y_ref_j_max=10),\n",
    "     dict(n_x_min = -13, n_x_max = -10, n_x_step=1, n_y_min = 1, n_y_max=-1, n_y_step = 1)),\n",
    "    # crack 3\n",
    "    (dict(y_ref_i=-11, y_ref_j_min=1, y_ref_j_max=10),\n",
    "     dict(n_x_min = -20, n_x_max = -17, n_x_step=1, n_y_min = 1, n_y_max=7, n_y_step = 1)),\n",
    "    # crack 4\n",
    "    (dict(y_ref_i=-20, y_ref_j_min=1, y_ref_j_max=10),\n",
    "    dict(n_x_min = 29, n_x_max = 37, n_x_step=1, n_y_min = 7, n_y_step = 1)),\n",
    "    # crack 5\n",
    "    (dict(y_ref_i=-28, y_ref_j_min=1, y_ref_j_max=10),\n",
    "    dict(n_x_min=-35, n_x_max=-32, n_x_step=1, n_y_min = 2, n_y_max=12, n_y_step = 1)),\n",
    "    # crack 6\n",
    "    (dict(y_ref_i=-33, y_ref_j_min=1, y_ref_j_max=10),\n",
    "    dict(n_x_min=-46, n_x_max=-39, n_x_step=2, n_y_min = 6, n_y_max=-1, n_y_step = 2)),\n",
    "    # crack 7\n",
    "    (dict(y_ref_i=13, y_ref_j_min=1, y_ref_j_max=10),\n",
    "    dict(n_x_min=1, n_x_max=8, n_x_step=2, n_y_min = 2, n_y_max=10, n_y_step = 2)),\n",
    "]"
   ]
  },
  {
   "cell_type": "code",
   "execution_count": 6,
   "id": "a0d0d7a4",
   "metadata": {
    "scrolled": false
   },
   "outputs": [
    {
     "name": "stderr",
     "output_type": "stream",
     "text": [
      "c:\\users\\fahad\\pycharmprojects\\bmcs_shear_zone\\bmcs_shear\\dic_crack\\dic_cor.py:142: RuntimeWarning: invalid value encountered in true_divide\n",
      "  phi = 2 * np.arctan(len_d_0t / len_d_0c)\n"
     ]
    },
    {
     "data": {
      "application/vnd.jupyter.widget-view+json": {
       "model_id": "03e999d511c7420793cee9941beff5b1",
       "version_major": 2,
       "version_minor": 0
      },
      "text/plain": [
       "VBox(children=(HBox(children=(VBox(children=(Tree(layout=Layout(align_items='stretch', border='solid 1px black…"
      ]
     },
     "metadata": {},
     "output_type": "display_data"
    }
   ],
   "source": [
    "dic_grid = DICGrid(n_x=59, n_y=15, d_x = 22, d_y = 22,  start_t = 0, end_t =31, U_factor = 1, \n",
    "                   dir_name='B1_TV1', grid_column_first = False, grid_number_vertical = False)\n",
    "dic_insp = DICInspector(dic_grid=dic_grid)\n",
    "dic_insp.dic_cracks.items = construct_dic_cracks(B1_TV1_cracks)\n",
    "dic_insp.interact()"
   ]
  },
  {
   "cell_type": "code",
   "execution_count": 7,
   "id": "2c899e94",
   "metadata": {},
   "outputs": [],
   "source": [
    "dic_cor = dic_insp.dic_cracks.items[1].dic_cor"
   ]
  },
  {
   "cell_type": "code",
   "execution_count": 8,
   "id": "81c6e6f3",
   "metadata": {},
   "outputs": [],
   "source": [
    "#dic_cor.dic_aligned_grid.X_ref_a"
   ]
  },
  {
   "cell_type": "code",
   "execution_count": 9,
   "id": "e19e36b4",
   "metadata": {},
   "outputs": [
    {
     "data": {
      "text/plain": [
       "(array([114.1775775 , 211.06035055]), array([114.6137369 , 211.09543354]))"
      ]
     },
     "execution_count": 9,
     "metadata": {},
     "output_type": "execute_result"
    }
   ],
   "source": [
    "dic_cor.X_cor, dic_cor.X_cor_b"
   ]
  },
  {
   "cell_type": "markdown",
   "id": "db2989c6",
   "metadata": {},
   "source": [
    "# B1_TV2"
   ]
  },
  {
   "cell_type": "code",
   "execution_count": 10,
   "id": "9a987cfc",
   "metadata": {},
   "outputs": [],
   "source": [
    "B1_TV2_cracks = [\n",
    "    # crack 1\n",
    "    (dict(y_ref_i=-1, y_ref_j_min=1, y_ref_j_max=10),\n",
    "     dict(n_x_min = -7, n_x_max = -6, n_x_step=1, n_y_min = 1, n_y_max=-5, n_y_step = 1)),\n",
    "    # crack 2\n",
    "    (dict(y_ref_i=-7, y_ref_j_min=1, y_ref_j_max=10),\n",
    "     dict(n_x_min = -16, n_x_max = -12, n_x_step=1, n_y_min = 7, n_y_max=-1, n_y_step = 1)),\n",
    "    # crack 3\n",
    "    (dict(y_ref_i=-23, y_ref_j_min=1, y_ref_j_max=10),\n",
    "     dict(n_x_min = -31, n_x_max = -26, n_x_step=1, n_y_min = 1, n_y_max=7, n_y_step = 1)),\n",
    "    # crack 4\n",
    "    (dict(y_ref_i=-31, y_ref_j_min=1, y_ref_j_max=10),\n",
    "     dict(n_x_min = 20, n_x_max = 24, n_x_step=1, n_y_min = 7, n_y_step = 1)),\n",
    "    # crack 5\n",
    "    (dict(y_ref_i=15, y_ref_j_min=1, y_ref_j_max=10),\n",
    "     dict(n_x_min=5, n_x_max=9, n_x_step=1, n_y_min = 7, n_y_max=12, n_y_step = 1)),\n",
    "]"
   ]
  },
  {
   "cell_type": "code",
   "execution_count": 11,
   "id": "8d916acb",
   "metadata": {
    "scrolled": false
   },
   "outputs": [
    {
     "name": "stderr",
     "output_type": "stream",
     "text": [
      "c:\\users\\fahad\\pycharmprojects\\bmcs_shear_zone\\bmcs_shear\\dic_crack\\dic_cor.py:142: RuntimeWarning: invalid value encountered in true_divide\n",
      "  phi = 2 * np.arctan(len_d_0t / len_d_0c)\n"
     ]
    },
    {
     "data": {
      "application/vnd.jupyter.widget-view+json": {
       "model_id": "121652d14a8a4f3285d9b0c5dfd93186",
       "version_major": 2,
       "version_minor": 0
      },
      "text/plain": [
       "VBox(children=(HBox(children=(VBox(children=(Tree(layout=Layout(align_items='stretch', border='solid 1px black…"
      ]
     },
     "metadata": {},
     "output_type": "display_data"
    }
   ],
   "source": [
    "dic_grid = DICGrid(n_x=57, n_y=15, d_x = 22, d_y = 22,  start_t = 0, end_t =27, U_factor = 1, \n",
    "                   dir_name='B1_TV2', grid_column_first = False, grid_number_vertical = False)\n",
    "dic_insp = DICInspector(dic_grid=dic_grid)\n",
    "dic_insp.dic_cracks.items = construct_dic_cracks(B1_TV2_cracks)\n",
    "dic_insp.interact()"
   ]
  },
  {
   "cell_type": "code",
   "execution_count": 12,
   "id": "454a942c",
   "metadata": {},
   "outputs": [
    {
     "data": {
      "text/plain": [
       "array([  0.   ,  11.   ,  27.   ,  37.   ,  53.   ,  64.   ,  74.   ,\n",
       "        84.   , 100.   , 116.   , 127.   , 138.   , 151.   , 161.5  ,\n",
       "       175.   , 173.136, 170.93 , 173.6  , 185.351, 193.255, 195.103,\n",
       "       195.381, 195.842, 196.132, 190.4  , 186.732, 185.528, 173.   ])"
      ]
     },
     "execution_count": 12,
     "metadata": {},
     "output_type": "execute_result"
    }
   ],
   "source": [
    "dic_grid.load_levels"
   ]
  },
  {
   "cell_type": "markdown",
   "id": "7f297fb5",
   "metadata": {},
   "source": [
    "# B5_TV1"
   ]
  },
  {
   "cell_type": "code",
   "execution_count": 4,
   "id": "550e88ba",
   "metadata": {},
   "outputs": [],
   "source": [
    "B5_TV1_cracks = [\n",
    "    # crack 1\n",
    "    (dict(y_ref_i=-1, y_ref_j_min=1, y_ref_j_max=10),\n",
    "     dict(n_x_min = -7, n_x_max = -6, n_x_step=1, n_y_min = 1, n_y_max=-5, n_y_step = 1)),\n",
    "    # crack 2\n",
    "    (dict(y_ref_i=-7, y_ref_j_min=1, y_ref_j_max=10),\n",
    "     dict(n_x_min = -12, n_x_max = -11, n_x_step=1, n_y_min = 1, n_y_max=-5, n_y_step = 1)),\n",
    "    # crack 3\n",
    "    (dict(y_ref_i=-12, y_ref_j_min=1, y_ref_j_max=10),\n",
    "     dict(n_x_min = -18, n_x_max = -16, n_x_step=1, n_y_min = 1, n_y_max=7, n_y_step = 1)),\n",
    "    # crack 4\n",
    "    (dict(y_ref_i=-18, y_ref_j_min=1, y_ref_j_max=10),\n",
    "     dict(n_x_min = -23, n_x_max = -21, n_x_step=1, n_y_min = 5, n_y_step = 1)),\n",
    "    # crack 5\n",
    "    (dict(y_ref_i=-23, y_ref_j_min=1, y_ref_j_max=10),\n",
    "     dict(n_x_min=-30, n_x_max=-27, n_x_step=1, n_y_min = 1, n_y_max=8, n_y_step = 1)),\n",
    "    # crack 6\n",
    "    (dict(y_ref_i=-30, y_ref_j_min=1, y_ref_j_max=10),\n",
    "     dict(n_x_min=-37, n_x_max=-34, n_x_step=1, n_y_min = 1, n_y_max=8, n_y_step = 1)),\n",
    "    # crack 7\n",
    "    (dict(y_ref_i=-37, y_ref_j_min=1, y_ref_j_max=10),\n",
    "     dict(n_x_min=-46, n_x_max=-42, n_x_step=1, n_y_min = 5, n_y_max=12, n_y_step = 1)),\n",
    "    # crack 8\n",
    "    (dict(y_ref_i=-44, y_ref_j_min=1, y_ref_j_max=10),\n",
    "     dict(n_x_min=-52, n_x_max=-50, n_x_step=1, n_y_min = 5, n_y_max=12, n_y_step = 1)),\n",
    "    # crack 9\n",
    "    (dict(y_ref_i=-52, y_ref_j_min=1, y_ref_j_max=10),\n",
    "     dict(n_x_min=-64, n_x_max=-58, n_x_step=1, n_y_min = 1, n_y_max=9, n_y_step = 1)),\n",
    "]"
   ]
  },
  {
   "cell_type": "code",
   "execution_count": 25,
   "id": "a4bfce83",
   "metadata": {},
   "outputs": [
    {
     "name": "stderr",
     "output_type": "stream",
     "text": [
      "c:\\users\\fahad\\pycharmprojects\\bmcs_shear_zone\\bmcs_shear\\dic_crack\\dic_cor.py:142: RuntimeWarning: invalid value encountered in true_divide\n",
      "  phi = 2 * np.arctan(len_d_0t / len_d_0c)\n"
     ]
    },
    {
     "data": {
      "application/vnd.jupyter.widget-view+json": {
       "model_id": "0c3409967a4b4f76940a90b96f61717d",
       "version_major": 2,
       "version_minor": 0
      },
      "text/plain": [
       "VBox(children=(HBox(children=(VBox(children=(Tree(layout=Layout(align_items='stretch', border='solid 1px black…"
      ]
     },
     "metadata": {},
     "output_type": "display_data"
    }
   ],
   "source": [
    "dic_grid = DICGrid(n_x=68, n_y=11, d_x = 25, d_y = 25,  start_t = 0, end_t =23, U_factor = 1, \n",
    "                   dir_name='B5_TV1', grid_column_first = True, grid_number_vertical = True)\n",
    "dic_aligned_grid = DICAlignedGrid(dic_grid=dic_grid,\n",
    "                                 y_ref_i=-1, y_ref_j_min=1, y_ref_j_max=10)\n",
    "dic_cor = DICCOR(dic_aligned_grid=dic_aligned_grid,\n",
    "                 n_x_min = -7, n_x_max = -6, n_x_step=1, n_y_min = 1, n_y_max=-5, n_y_step = 1)\n",
    "dic_cor.interact()"
   ]
  },
  {
   "cell_type": "code",
   "execution_count": 5,
   "id": "67bebd90",
   "metadata": {
    "scrolled": false
   },
   "outputs": [
    {
     "name": "stderr",
     "output_type": "stream",
     "text": [
      "c:\\users\\fahad\\pycharmprojects\\bmcs_shear_zone\\bmcs_shear\\dic_crack\\dic_cor.py:142: RuntimeWarning: invalid value encountered in true_divide\n",
      "  phi = 2 * np.arctan(len_d_0t / len_d_0c)\n",
      "c:\\users\\fahad\\pycharmprojects\\bmcs_shear_zone\\bmcs_shear\\dic_crack\\dic_cor.py:142: RuntimeWarning: invalid value encountered in true_divide\n",
      "  phi = 2 * np.arctan(len_d_0t / len_d_0c)\n",
      "c:\\users\\fahad\\pycharmprojects\\bmcs_shear_zone\\bmcs_shear\\dic_crack\\dic_cor.py:142: RuntimeWarning: invalid value encountered in true_divide\n",
      "  phi = 2 * np.arctan(len_d_0t / len_d_0c)\n",
      "c:\\users\\fahad\\pycharmprojects\\bmcs_shear_zone\\bmcs_shear\\dic_crack\\dic_cor.py:142: RuntimeWarning: invalid value encountered in true_divide\n",
      "  phi = 2 * np.arctan(len_d_0t / len_d_0c)\n"
     ]
    },
    {
     "data": {
      "application/vnd.jupyter.widget-view+json": {
       "model_id": "17c3e41351924468bb7a013bdbd0ee22",
       "version_major": 2,
       "version_minor": 0
      },
      "text/plain": [
       "VBox(children=(HBox(children=(VBox(children=(Tree(layout=Layout(align_items='stretch', border='solid 1px black…"
      ]
     },
     "metadata": {},
     "output_type": "display_data"
    }
   ],
   "source": [
    "dic_grid = DICGrid(n_x=68, n_y=11, d_x = 25, d_y = 25,  start_t = 0, end_t =23, U_factor = 1, \n",
    "                   dir_name='B5_TV1', grid_column_first = True, grid_number_vertical = True)\n",
    "dic_insp = DICInspector(dic_grid=dic_grid)\n",
    "dic_insp.dic_cracks.items = construct_dic_cracks(B5_TV1_cracks)\n",
    "dic_insp.interact()"
   ]
  },
  {
   "cell_type": "markdown",
   "id": "f1f651c9",
   "metadata": {},
   "source": [
    "# B5_TV2"
   ]
  },
  {
   "cell_type": "code",
   "execution_count": 6,
   "id": "e898db7f",
   "metadata": {},
   "outputs": [],
   "source": [
    "B5_TV2_cracks = [\n",
    "    # crack 1\n",
    "    (dict(y_ref_i=-1, y_ref_j_min=1, y_ref_j_max=10),\n",
    "     dict(n_x_min = -4, n_x_max = -3, n_x_step=1, n_y_min = 1, n_y_max=6, n_y_step = 1)),\n",
    "    # crack 2\n",
    "    (dict(y_ref_i=-4, y_ref_j_min=1, y_ref_j_max=10),\n",
    "     dict(n_x_min = -13, n_x_max = -11, n_x_step=1, n_y_min = 5, n_y_max=9, n_y_step = 1)),\n",
    "    # crack 3\n",
    "    (dict(y_ref_i=-13, y_ref_j_min=1, y_ref_j_max=10),\n",
    "     dict(n_x_min = -18, n_x_max = -16, n_x_step=1, n_y_min = 5, n_y_max=9, n_y_step = 1)),\n",
    "    # crack 4\n",
    "    (dict(y_ref_i=-18, y_ref_j_min=1, y_ref_j_max=10),\n",
    "     dict(n_x_min = -26, n_x_max = -23, n_x_step=1, n_y_min = 5, n_y_step = 1)),\n",
    "    # crack 5\n",
    "    (dict(y_ref_i=-26, y_ref_j_min=1, y_ref_j_max=10),\n",
    "     dict(n_x_min=-31, n_x_max=-28, n_x_step=1, n_y_min = 3, n_y_max=10, n_y_step = 1)),\n",
    "    # crack 6\n",
    "    (dict(y_ref_i=-31, y_ref_j_min=1, y_ref_j_max=10),\n",
    "     dict(n_x_min=-37, n_x_max=-35, n_x_step=1, n_y_min = 4, n_y_max=11, n_y_step = 1)),\n",
    "    # crack 7\n",
    "    (dict(y_ref_i=-37, y_ref_j_min=1, y_ref_j_max=10),\n",
    "     dict(n_x_min=-46, n_x_max=-42, n_x_step=1, n_y_min = 5, n_y_max=10, n_y_step = 1)),\n",
    "    # crack 8\n",
    "    (dict(y_ref_i=-46, y_ref_j_min=1, y_ref_j_max=10),\n",
    "     dict(n_x_min=-51, n_x_max=-48, n_x_step=1, n_y_min = 5, n_y_max=10, n_y_step = 1)),\n",
    "    # crack 9\n",
    "    (dict(y_ref_i=-52, y_ref_j_min=1, y_ref_j_max=10),\n",
    "     dict(n_x_min=-64, n_x_max=-58, n_x_step=1, n_y_min = 2, n_y_max=9, n_y_step = 1)),\n",
    "]"
   ]
  },
  {
   "cell_type": "code",
   "execution_count": 7,
   "id": "454dc2fd",
   "metadata": {
    "scrolled": false
   },
   "outputs": [
    {
     "name": "stderr",
     "output_type": "stream",
     "text": [
      "c:\\users\\fahad\\pycharmprojects\\bmcs_shear_zone\\bmcs_shear\\dic_crack\\dic_cor.py:142: RuntimeWarning: invalid value encountered in true_divide\n",
      "  phi = 2 * np.arctan(len_d_0t / len_d_0c)\n",
      "c:\\users\\fahad\\pycharmprojects\\bmcs_shear_zone\\bmcs_shear\\dic_crack\\dic_cor.py:142: RuntimeWarning: invalid value encountered in true_divide\n",
      "  phi = 2 * np.arctan(len_d_0t / len_d_0c)\n",
      "c:\\users\\fahad\\pycharmprojects\\bmcs_shear_zone\\bmcs_shear\\dic_crack\\dic_cor.py:142: RuntimeWarning: invalid value encountered in true_divide\n",
      "  phi = 2 * np.arctan(len_d_0t / len_d_0c)\n"
     ]
    },
    {
     "data": {
      "application/vnd.jupyter.widget-view+json": {
       "model_id": "90a4cbdd96fb44579e20b03ebf80f89f",
       "version_major": 2,
       "version_minor": 0
      },
      "text/plain": [
       "VBox(children=(HBox(children=(VBox(children=(Tree(layout=Layout(align_items='stretch', border='solid 1px black…"
      ]
     },
     "metadata": {},
     "output_type": "display_data"
    }
   ],
   "source": [
    "dic_grid = DICGrid(n_x=71, n_y=12, d_x = 25, d_y = 25,  start_t = 0, end_t =20, U_factor = 1, \n",
    "                   dir_name='B5_TV2', grid_column_first = True, grid_number_vertical = True)\n",
    "dic_insp = DICInspector(dic_grid=dic_grid)\n",
    "dic_insp.dic_cracks.items = construct_dic_cracks(B5_TV2_cracks)\n",
    "dic_insp.interact()"
   ]
  },
  {
   "cell_type": "markdown",
   "id": "f8103140",
   "metadata": {},
   "source": [
    "# B6_TV1"
   ]
  },
  {
   "cell_type": "code",
   "execution_count": 17,
   "id": "b9cd4ff3",
   "metadata": {},
   "outputs": [],
   "source": [
    "B6_TV1_cracks = [\n",
    "    # crask 1\n",
    "    (dict(y_ref_i=-1, y_ref_j_min=1, y_ref_j_max=10),\n",
    "     dict(n_x_min = -10, n_x_max = -9, n_x_step=1, n_y_min = 1, n_y_max=10, n_y_step = 1)),\n",
    "    # crack 2\n",
    "    (dict(y_ref_i=-10, y_ref_j_min=1, y_ref_j_max=10),\n",
    "     dict(n_x_min = -16, n_x_max = -13, n_x_step=1, n_y_min = 1, n_y_max=10, n_y_step = 1)),\n",
    "    # crack 3\n",
    "    (dict(y_ref_i=-15, y_ref_j_min=1, y_ref_j_max=10),\n",
    "     dict(n_x_min = -20, n_x_max = -18, n_x_step=1, n_y_min = 1, n_y_max=7, n_y_step = 1)),\n",
    "    # crack 4\n",
    "    (dict(y_ref_i=-21, y_ref_j_min=1, y_ref_j_max=10),\n",
    "     dict(n_x_min = -29, n_x_max = -23, n_x_step=1, n_y_min = 4, n_y_max=-1, n_y_step = 1)),\n",
    "    # crack 5\n",
    "    (dict(y_ref_i=31, y_ref_j_min=1, y_ref_j_max=10),\n",
    "     dict(n_x_min = 21, n_x_max = 26, n_x_step=1, n_y_min =3, n_y_max=-1, n_y_step = 1)),\n",
    "    # crack 6\n",
    "    (dict(y_ref_i=22, y_ref_j_min=1, y_ref_j_max=10),#22\n",
    "     dict(n_x_min = 1, n_x_max = 14, n_x_step=2, n_y_min = 3, n_y_max=-3, n_y_step = 2))\n",
    "]"
   ]
  },
  {
   "cell_type": "code",
   "execution_count": 18,
   "id": "c2a41030",
   "metadata": {
    "scrolled": false
   },
   "outputs": [
    {
     "name": "stderr",
     "output_type": "stream",
     "text": [
      "c:\\users\\fahad\\pycharmprojects\\bmcs_shear_zone\\bmcs_shear\\dic_crack\\dic_cor.py:142: RuntimeWarning: invalid value encountered in true_divide\n",
      "  phi = 2 * np.arctan(len_d_0t / len_d_0c)\n",
      "c:\\users\\fahad\\pycharmprojects\\bmcs_shear_zone\\bmcs_shear\\dic_crack\\dic_cor.py:142: RuntimeWarning: invalid value encountered in true_divide\n",
      "  phi = 2 * np.arctan(len_d_0t / len_d_0c)\n",
      "c:\\users\\fahad\\pycharmprojects\\bmcs_shear_zone\\bmcs_shear\\dic_crack\\dic_cor.py:142: RuntimeWarning: invalid value encountered in true_divide\n",
      "  phi = 2 * np.arctan(len_d_0t / len_d_0c)\n",
      "c:\\users\\fahad\\pycharmprojects\\bmcs_shear_zone\\bmcs_shear\\dic_crack\\dic_cor.py:142: RuntimeWarning: invalid value encountered in true_divide\n",
      "  phi = 2 * np.arctan(len_d_0t / len_d_0c)\n"
     ]
    },
    {
     "data": {
      "application/vnd.jupyter.widget-view+json": {
       "model_id": "1dc728b7e4804a338acffe2806736da4",
       "version_major": 2,
       "version_minor": 0
      },
      "text/plain": [
       "VBox(children=(HBox(children=(VBox(children=(Tree(layout=Layout(align_items='stretch', border='solid 1px black…"
      ]
     },
     "metadata": {},
     "output_type": "display_data"
    }
   ],
   "source": [
    "dic_grid = DICGrid(n_x=58, n_y=15, d_x = 22, d_y = 22, start_t = 0, end_t =31, U_factor = 1, \n",
    "                   dir_name='B6_TV1', grid_column_first = False, grid_number_vertical = False)\n",
    "dic_insp = DICInspector(dic_grid=dic_grid)\n",
    "dic_insp.dic_cracks.items = construct_dic_cracks(B6_TV1_cracks)\n",
    "dic_insp.interact()"
   ]
  },
  {
   "cell_type": "markdown",
   "id": "5103616b",
   "metadata": {},
   "source": [
    "# B6_TV2"
   ]
  },
  {
   "cell_type": "code",
   "execution_count": 19,
   "id": "9d754842",
   "metadata": {},
   "outputs": [],
   "source": [
    "B6_TV2_cracks = [\n",
    "    # crask 1\n",
    "    (dict(y_ref_i=-1, y_ref_j_min=1, y_ref_j_max=10),\n",
    "     dict(n_x_min = -7, n_x_max = -4, n_x_step=1, n_y_min = 1, n_y_max=10, n_y_step = 1)),\n",
    "    # crack 2\n",
    "    (dict(y_ref_i=-7, y_ref_j_min=1, y_ref_j_max=10),\n",
    "     dict(n_x_min = -15, n_x_max = -12, n_x_step=1, n_y_min = 5, n_y_max=12, n_y_step = 1)),\n",
    "    # crack 3\n",
    "    (dict(y_ref_i=-15, y_ref_j_min=1, y_ref_j_max=10),\n",
    "     dict(n_x_min = -25, n_x_max = -21, n_x_step=1, n_y_min = 7, n_y_max=12, n_y_step = 1)),\n",
    "    # crack 4\n",
    "    (dict(y_ref_i=20, y_ref_j_min=1, y_ref_j_max=10),\n",
    "     dict(n_x_min = 1, n_x_max = 14, n_x_step=1, n_y_min = 1, n_y_max=-1, n_y_step = 1)),\n",
    "#     # crack 5\n",
    "#     (dict(y_ref_i=31, y_ref_j_min=1, y_ref_j_max=10),\n",
    "#      dict(n_x_min = 21, n_x_max = 26, n_x_step=1, n_y_min =3, n_y_max=-1, n_y_step = 1)),\n",
    "#     # crack 6\n",
    "#     (dict(y_ref_i=22, y_ref_j_min=1, y_ref_j_max=10),#22\n",
    "#      dict(n_x_min = 1, n_x_max = 14, n_x_step=2, n_y_min = 3, n_y_max=-3, n_y_step = 2))\n",
    "]"
   ]
  },
  {
   "cell_type": "code",
   "execution_count": 20,
   "id": "655805bf",
   "metadata": {
    "scrolled": false
   },
   "outputs": [
    {
     "name": "stderr",
     "output_type": "stream",
     "text": [
      "c:\\users\\fahad\\pycharmprojects\\bmcs_shear_zone\\bmcs_shear\\dic_crack\\dic_cor.py:142: RuntimeWarning: invalid value encountered in true_divide\n",
      "  phi = 2 * np.arctan(len_d_0t / len_d_0c)\n",
      "c:\\users\\fahad\\pycharmprojects\\bmcs_shear_zone\\bmcs_shear\\dic_crack\\dic_cor.py:142: RuntimeWarning: invalid value encountered in true_divide\n",
      "  phi = 2 * np.arctan(len_d_0t / len_d_0c)\n",
      "c:\\users\\fahad\\pycharmprojects\\bmcs_shear_zone\\bmcs_shear\\dic_crack\\dic_cor.py:142: RuntimeWarning: invalid value encountered in true_divide\n",
      "  phi = 2 * np.arctan(len_d_0t / len_d_0c)\n"
     ]
    },
    {
     "data": {
      "application/vnd.jupyter.widget-view+json": {
       "model_id": "cae1a55fe843499fb0b459578a54a324",
       "version_major": 2,
       "version_minor": 0
      },
      "text/plain": [
       "VBox(children=(HBox(children=(VBox(children=(Tree(layout=Layout(align_items='stretch', border='solid 1px black…"
      ]
     },
     "metadata": {},
     "output_type": "display_data"
    }
   ],
   "source": [
    "dic_grid = DICGrid(n_x=57, n_y=13, d_x = 22, d_y = 22, start_t = 0, end_t =19, U_factor = 1, \n",
    "                   dir_name='B6_TV2_', grid_column_first = False, grid_number_vertical = False)\n",
    "dic_insp = DICInspector(dic_grid=dic_grid)\n",
    "dic_insp.dic_cracks.items = construct_dic_cracks(B6_TV2_cracks)\n",
    "dic_insp.interact()"
   ]
  },
  {
   "cell_type": "markdown",
   "id": "882f8e89",
   "metadata": {},
   "source": [
    "# B7_TV1"
   ]
  },
  {
   "cell_type": "code",
   "execution_count": 23,
   "id": "075284be",
   "metadata": {},
   "outputs": [],
   "source": [
    "B7_TV1_cracks = [\n",
    "    # crask 1\n",
    "    (dict(y_ref_i=-1, y_ref_j_min=1, y_ref_j_max=10),\n",
    "     dict(n_x_min = -12, n_x_max = -8, n_x_step=1, n_y_min = 1, n_y_max=10, n_y_step = 1)),\n",
    "    # crack 2\n",
    "    (dict(y_ref_i=-12, y_ref_j_min=1, y_ref_j_max=10),\n",
    "     dict(n_x_min = -19, n_x_max = -16, n_x_step=1, n_y_min = 1, n_y_max=10, n_y_step = 1)),\n",
    "     # crack 3\n",
    "     (dict(y_ref_i=-19, y_ref_j_min=1, y_ref_j_max=10),\n",
    "      dict(n_x_min = 32, n_x_max = 35, n_x_step=1, n_y_min = 1, n_y_max=8, n_y_step = 1)),\n",
    "     # crack 4\n",
    "     (dict(y_ref_i=32, y_ref_j_min=1, y_ref_j_max=10),\n",
    "      dict(n_x_min = 23, n_x_max = 26, n_x_step=1, n_y_min = 1, n_y_max=7, n_y_step = 1)),\n",
    "     # crack 5\n",
    "     (dict(y_ref_i=25, y_ref_j_min=1, y_ref_j_max=10),\n",
    "      dict(n_x_min = 0, n_x_max = 18, n_x_step=2, n_y_min = 1, n_y_max=-1, n_y_step = 2)),\n",
    "]"
   ]
  },
  {
   "cell_type": "code",
   "execution_count": 24,
   "id": "3a2863e8",
   "metadata": {
    "scrolled": false
   },
   "outputs": [
    {
     "name": "stdout",
     "output_type": "stream",
     "text": [
      "evaluating step 0\n",
      "phi_avg 0.0\n",
      "evaluating step 1\n",
      "phi_avg 0.00011141290386465849\n",
      "evaluating step 2\n",
      "phi_avg 0.00013300995536972714\n",
      "evaluating step 3\n",
      "phi_avg 0.00031612524734117066\n",
      "evaluating step 4\n",
      "phi_avg 0.0006827830277979685\n",
      "evaluating step 5\n",
      "phi_avg 0.000840919012208924\n",
      "evaluating step 6\n",
      "phi_avg 0.001135403197348864\n",
      "evaluating step 7\n",
      "phi_avg 0.0013288220137698146\n",
      "evaluating step 8\n",
      "phi_avg 0.0017017972114850718\n",
      "evaluating step 9\n",
      "phi_avg 0.002027776671251026\n",
      "evaluating step 10\n",
      "phi_avg 0.0022778952881165257\n",
      "evaluating step 11\n",
      "phi_avg 0.0023261105625896716\n",
      "evaluating step 12\n",
      "phi_avg 0.002296081551005789\n",
      "evaluating step 13\n",
      "phi_avg 0.0024649415208334085\n",
      "evaluating step 14\n",
      "phi_avg 0.0026307182331956527\n",
      "evaluating step 15\n",
      "phi_avg 0.002510754590645288\n",
      "evaluating step 16\n",
      "phi_avg 0.0025554033734338883\n",
      "evaluating step 17\n",
      "phi_avg 0.0025427261774971788\n",
      "evaluating step 18\n",
      "phi_avg 0.00257567559180902\n",
      "evaluating step 19\n",
      "phi_avg 0.002586592076983337\n",
      "evaluating step 20\n",
      "phi_avg 0.002657674268942046\n",
      "evaluating step 21\n",
      "phi_avg 0.002802203174415366\n",
      "evaluating step 22\n",
      "phi_avg 0.0030246955199048466\n",
      "evaluating step 23\n",
      "phi_avg 0.003170844383375518\n",
      "evaluating step 24\n",
      "phi_avg 0.003546779161471123\n",
      "evaluating step 0\n"
     ]
    },
    {
     "name": "stderr",
     "output_type": "stream",
     "text": [
      "c:\\users\\fahad\\pycharmprojects\\bmcs_shear_zone\\bmcs_shear\\dic_crack\\dic_cor.py:142: RuntimeWarning: invalid value encountered in true_divide\n",
      "  phi = 2 * np.arctan(len_d_0t / len_d_0c)\n"
     ]
    },
    {
     "name": "stdout",
     "output_type": "stream",
     "text": [
      "phi_avg 0.0\n",
      "evaluating step 1\n",
      "phi_avg 0.00011587510509033528\n",
      "evaluating step 2\n",
      "phi_avg 8.848986612788287e-05\n",
      "evaluating step 3\n",
      "phi_avg 0.00020686768670395207\n",
      "evaluating step 4\n",
      "phi_avg 0.0006280137790971821\n",
      "evaluating step 5\n",
      "phi_avg 0.0007080061968819317\n",
      "evaluating step 6\n",
      "phi_avg 0.0008065296294776015\n",
      "evaluating step 7\n",
      "phi_avg 0.000881785934560829\n",
      "evaluating step 8\n",
      "phi_avg 0.0011117447749438417\n",
      "evaluating step 9\n",
      "phi_avg 0.001342898979897236\n",
      "evaluating step 10\n",
      "phi_avg 0.0014645086384244427\n",
      "evaluating step 11\n",
      "phi_avg 0.0014883635500573089\n",
      "evaluating step 12\n",
      "phi_avg 0.001503472182119669\n",
      "evaluating step 13\n",
      "phi_avg 0.0014994796605752756\n",
      "evaluating step 14\n",
      "phi_avg 0.0015335313448746539\n",
      "evaluating step 15\n",
      "phi_avg 0.0016924517384684509\n",
      "evaluating step 16\n",
      "phi_avg 0.001574411596030668\n",
      "evaluating step 17\n",
      "phi_avg 0.0015194321960721872\n",
      "evaluating step 18\n",
      "phi_avg 0.0015867783923134951\n",
      "evaluating step 19\n",
      "phi_avg 0.0015838045148726945\n",
      "evaluating step 20\n",
      "phi_avg 0.001559316147902921\n",
      "evaluating step 21\n",
      "phi_avg 0.001613516396088448\n",
      "evaluating step 22\n",
      "phi_avg 0.0017008797735179831\n",
      "evaluating step 23\n",
      "phi_avg 0.0017497005684100177\n",
      "evaluating step 0\n"
     ]
    },
    {
     "name": "stderr",
     "output_type": "stream",
     "text": [
      "c:\\users\\fahad\\pycharmprojects\\bmcs_shear_zone\\bmcs_shear\\dic_crack\\dic_cor.py:142: RuntimeWarning: invalid value encountered in true_divide\n",
      "  phi = 2 * np.arctan(len_d_0t / len_d_0c)\n"
     ]
    },
    {
     "name": "stdout",
     "output_type": "stream",
     "text": [
      "phi_avg 0.0\n",
      "evaluating step 1\n",
      "phi_avg 0.00015283495182353207\n",
      "evaluating step 2\n",
      "phi_avg 0.00018970818372580691\n",
      "evaluating step 3\n",
      "phi_avg 0.0002565710055545414\n",
      "evaluating step 4\n",
      "phi_avg 0.00028961596209030625\n",
      "evaluating step 5\n",
      "phi_avg 0.0002860997764840788\n",
      "evaluating step 6\n",
      "phi_avg 0.000514154139508621\n",
      "evaluating step 7\n",
      "phi_avg 0.0006617186838175688\n",
      "evaluating step 8\n",
      "phi_avg 0.0007434547513625881\n",
      "evaluating step 9\n",
      "phi_avg 0.0008234580078907862\n",
      "evaluating step 10\n",
      "phi_avg 0.0010175493491134473\n",
      "evaluating step 11\n",
      "phi_avg 0.0008838258550682933\n",
      "evaluating step 12\n",
      "phi_avg 0.0008881810192438172\n",
      "evaluating step 13\n",
      "phi_avg 0.000981152775808253\n",
      "evaluating step 14\n",
      "phi_avg 0.0009796520918866531\n",
      "evaluating step 15\n",
      "phi_avg 0.0011356289267335804\n",
      "evaluating step 16\n",
      "phi_avg 0.0010349164683505195\n",
      "evaluating step 17\n",
      "phi_avg 0.0009662432024815223\n",
      "evaluating step 18\n",
      "phi_avg 0.0009695381086518516\n",
      "evaluating step 19\n",
      "phi_avg 0.0009925032725041916\n",
      "evaluating step 20\n",
      "phi_avg 0.0009008124071562355\n",
      "evaluating step 21\n",
      "phi_avg 0.0010514542201704364\n",
      "evaluating step 22\n",
      "phi_avg 0.0011076288849687327\n",
      "evaluating step 0\n",
      "phi_avg 0.0\n",
      "evaluating step 1\n",
      "phi_avg 0.0001282580690486013\n",
      "evaluating step 2\n",
      "phi_avg 0.0002986408988472047\n",
      "evaluating step 3\n",
      "phi_avg 0.0002442895919696224\n",
      "evaluating step 4\n",
      "phi_avg 0.00022407843051433995\n",
      "evaluating step 5\n",
      "phi_avg 0.0003686861177715919\n",
      "evaluating step 6\n",
      "phi_avg 0.0004039629652154379\n",
      "evaluating step 7\n",
      "phi_avg 0.0005107089568624766\n",
      "evaluating step 8\n",
      "phi_avg 0.0007336102922805554\n",
      "evaluating step 9\n",
      "phi_avg 0.0007940285090230143\n",
      "evaluating step 10\n",
      "phi_avg 0.0010609552298597247\n",
      "evaluating step 11\n",
      "phi_avg 0.0011055519506950819\n",
      "evaluating step 12\n",
      "phi_avg 0.00110521279632774\n",
      "evaluating step 13\n",
      "phi_avg 0.0010469228515898013\n",
      "evaluating step 14\n",
      "phi_avg 0.0012467579157428323\n",
      "evaluating step 15\n",
      "phi_avg 0.001242879868844784\n",
      "evaluating step 16\n",
      "phi_avg 0.001257697462793912\n",
      "evaluating step 17\n",
      "phi_avg 0.0012658342763032732\n",
      "evaluating step 18\n",
      "phi_avg 0.0012584003281161148\n",
      "evaluating step 19\n",
      "phi_avg 0.0012037180072530084\n",
      "evaluating step 20\n",
      "phi_avg 0.0013259497830881313\n",
      "evaluating step 21\n",
      "phi_avg 0.0012393491672971985\n",
      "evaluating step 0\n",
      "phi_avg 0.0\n",
      "evaluating step 1\n",
      "phi_avg 0.00013618917513091747\n",
      "evaluating step 2\n",
      "phi_avg 0.00016032777025771447\n",
      "evaluating step 3\n",
      "phi_avg 0.00012333883918670113\n",
      "evaluating step 4\n",
      "phi_avg 0.00020012532726330172\n",
      "evaluating step 5\n",
      "phi_avg 0.0002545081715441132\n",
      "evaluating step 6\n",
      "phi_avg 0.0001810518813746113\n",
      "evaluating step 7\n",
      "phi_avg 0.00023034709065105827\n",
      "evaluating step 8\n",
      "phi_avg 0.0005004688571963156\n",
      "evaluating step 9\n",
      "phi_avg 0.0006595952708245917\n",
      "evaluating step 10\n",
      "phi_avg 0.000732321156196092\n",
      "evaluating step 11\n",
      "phi_avg 0.0006719691183977299\n",
      "evaluating step 12\n",
      "phi_avg 0.0007195164651575115\n",
      "evaluating step 13\n",
      "phi_avg 0.0007778052489784699\n",
      "evaluating step 14\n",
      "phi_avg 0.0008061716471363374\n",
      "evaluating step 15\n",
      "phi_avg 0.0008501759822756633\n",
      "evaluating step 16\n",
      "phi_avg 0.0008616611351756573\n",
      "evaluating step 17\n",
      "phi_avg 0.0009634551504388712\n",
      "evaluating step 18\n",
      "phi_avg 0.0009021821941325782\n",
      "evaluating step 19\n",
      "phi_avg 0.0008740443940901448\n",
      "evaluating step 20\n",
      "phi_avg 0.0009111074420171766\n"
     ]
    },
    {
     "data": {
      "application/vnd.jupyter.widget-view+json": {
       "model_id": "0bb61a55e0a945ffb484806603c5cdc9",
       "version_major": 2,
       "version_minor": 0
      },
      "text/plain": [
       "VBox(children=(HBox(children=(VBox(children=(Tree(layout=Layout(align_items='stretch', border='solid 1px black…"
      ]
     },
     "metadata": {},
     "output_type": "display_data"
    }
   ],
   "source": [
    "dic_grid = DICGrid(n_x=58, n_y=14, d_x = 22, d_y = 22, start_t = 0, end_t =25, U_factor = 1, \n",
    "                   dir_name='B7_TV1', grid_column_first = False, grid_number_vertical = False)\n",
    "dic_insp = DICInspector(dic_grid=dic_grid)\n",
    "dic_insp.dic_cracks.items = construct_dic_cracks(B7_TV1_cracks)\n",
    "dic_insp.interact()"
   ]
  },
  {
   "cell_type": "markdown",
   "id": "6e853f8a",
   "metadata": {},
   "source": [
    "# B7_TV2"
   ]
  },
  {
   "cell_type": "code",
   "execution_count": 25,
   "id": "8c42316c",
   "metadata": {},
   "outputs": [],
   "source": [
    "B7_TV2_cracks = [\n",
    "    # crask 1\n",
    "    (dict(y_ref_i=-1, y_ref_j_min=1, y_ref_j_max=10),\n",
    "     dict(n_x_min = -8, n_x_max = -6, n_x_step=1, n_y_min = 1, n_y_max=10, n_y_step = 1)),\n",
    "    # crack 2\n",
    "    (dict(y_ref_i=-8, y_ref_j_min=1, y_ref_j_max=10),\n",
    "     dict(n_x_min = -13, n_x_max = -11, n_x_step=1, n_y_min = 1, n_y_max=10, n_y_step = 1)),\n",
    "     # crack 3\n",
    "     (dict(y_ref_i=-13, y_ref_j_min=1, y_ref_j_max=10),\n",
    "      dict(n_x_min = -23, n_x_max = -18, n_x_step=1, n_y_min = 3, n_y_max=8, n_y_step = 1)),\n",
    "     # crack 4\n",
    "     (dict(y_ref_i=-23, y_ref_j_min=1, y_ref_j_max=10),\n",
    "      dict(n_x_min = -28, n_x_max = -24, n_x_step=1, n_y_min = 3, n_y_max=7, n_y_step = 1)),\n",
    "     # crack 5\n",
    "     (dict(y_ref_i=-28, y_ref_j_min=1, y_ref_j_max=10),\n",
    "      dict(n_x_min = 1, n_x_max = 12, n_x_step=1, n_y_min = 1, n_y_max=-1, n_y_step = 1)),\n",
    "]"
   ]
  },
  {
   "cell_type": "code",
   "execution_count": 26,
   "id": "4d7abe9b",
   "metadata": {
    "scrolled": false
   },
   "outputs": [
    {
     "name": "stdout",
     "output_type": "stream",
     "text": [
      "evaluating step 0\n",
      "phi_avg 0.0\n",
      "evaluating step 1\n",
      "phi_avg 0.00018042559987524551\n",
      "evaluating step 2\n",
      "phi_avg 0.0002006973464519511\n",
      "evaluating step 3\n",
      "phi_avg 0.00011407478474649171\n",
      "evaluating step 4\n",
      "phi_avg 0.00010559218971922248\n",
      "evaluating step 5\n",
      "phi_avg 0.00036120955289678454\n",
      "evaluating step 6\n",
      "phi_avg 0.0005336206645646991\n",
      "evaluating step 7\n",
      "phi_avg 0.0007182781011176551\n",
      "evaluating step 8\n",
      "phi_avg 0.0008831663973533568\n",
      "evaluating step 9\n",
      "phi_avg 0.0010084803755225523\n",
      "evaluating step 10\n",
      "phi_avg 0.001025466726246144\n",
      "evaluating step 11\n",
      "phi_avg 0.001161754797790918\n",
      "evaluating step 12\n",
      "phi_avg 0.0013605320952935448\n",
      "evaluating step 13\n",
      "phi_avg 0.0014071067026064047\n",
      "evaluating step 14\n",
      "phi_avg 0.0015564390418429665\n",
      "evaluating step 0\n",
      "phi_avg 0.0\n",
      "evaluating step 1\n",
      "phi_avg 0.00015040009373235724\n",
      "evaluating step 2\n",
      "phi_avg 9.169834643183831e-05\n",
      "evaluating step 3\n",
      "phi_avg 0.00020726281093839643\n",
      "evaluating step 4\n",
      "phi_avg 0.0005560691708006393\n",
      "evaluating step 5\n",
      "phi_avg 0.0006330785514163969\n",
      "evaluating step 6\n",
      "phi_avg 0.0007200037836481057\n",
      "evaluating step 7\n",
      "phi_avg 0.0008224900343723223\n",
      "evaluating step 8\n",
      "phi_avg 0.0010269999467206773\n",
      "evaluating step 9\n",
      "phi_avg 0.0012099379979142654\n",
      "evaluating step 10\n",
      "phi_avg 0.001263648750464259\n",
      "evaluating step 11\n",
      "phi_avg 0.0013970147814985094\n",
      "evaluating step 12\n",
      "phi_avg 0.001591232112657898\n",
      "evaluating step 13\n",
      "phi_avg 0.001629527110314171\n",
      "evaluating step 0\n",
      "phi_avg 0.0\n",
      "evaluating step 1\n"
     ]
    },
    {
     "name": "stderr",
     "output_type": "stream",
     "text": [
      "c:\\users\\fahad\\pycharmprojects\\bmcs_shear_zone\\bmcs_shear\\dic_crack\\dic_cor.py:142: RuntimeWarning: invalid value encountered in true_divide\n",
      "  phi = 2 * np.arctan(len_d_0t / len_d_0c)\n"
     ]
    },
    {
     "name": "stdout",
     "output_type": "stream",
     "text": [
      "phi_avg 0.0002608998922774604\n",
      "evaluating step 2\n",
      "phi_avg 0.0002453306749989491\n",
      "evaluating step 3\n",
      "phi_avg 0.00020944282867168325\n",
      "evaluating step 4\n",
      "phi_avg 0.00019458185413108908\n",
      "evaluating step 5\n",
      "phi_avg 0.0006037539985879925\n",
      "evaluating step 6\n",
      "phi_avg 0.0007268882011423872\n",
      "evaluating step 7\n",
      "phi_avg 0.0008743145084408679\n",
      "evaluating step 8\n",
      "phi_avg 0.0010232877811425102\n",
      "evaluating step 9\n",
      "phi_avg 0.0012381058499866093\n",
      "evaluating step 10\n",
      "phi_avg 0.0012061041693446795\n",
      "evaluating step 11\n",
      "phi_avg 0.0014070415351407353\n",
      "evaluating step 12\n",
      "phi_avg 0.0017126518669092628\n",
      "evaluating step 0\n",
      "phi_avg 0.0\n",
      "evaluating step 1\n",
      "phi_avg 0.00015003173242170633\n",
      "evaluating step 2\n",
      "phi_avg 0.000510209867731805\n",
      "evaluating step 3\n",
      "phi_avg 0.00032149640548381726\n",
      "evaluating step 4\n",
      "phi_avg 0.0003950565419318289\n",
      "evaluating step 5\n",
      "phi_avg 0.0005058706852904002\n",
      "evaluating step 6\n",
      "phi_avg 0.0005165884609153363\n",
      "evaluating step 7\n",
      "phi_avg 0.000697567982766163\n",
      "evaluating step 8\n",
      "phi_avg 0.000799427670429075\n",
      "evaluating step 9\n",
      "phi_avg 0.0008328541374470479\n",
      "evaluating step 10\n",
      "phi_avg 0.0007865336794789733\n",
      "evaluating step 11\n",
      "phi_avg 0.0009351615524025539\n",
      "evaluating step 0\n",
      "phi_avg 0.0\n",
      "evaluating step 1\n",
      "phi_avg 0.0001572344153677343\n",
      "evaluating step 2\n",
      "phi_avg 0.0002754837310241097\n",
      "evaluating step 3\n",
      "phi_avg 0.0002765949121545766\n",
      "evaluating step 4\n",
      "phi_avg 0.00028783957415019654\n",
      "evaluating step 5\n",
      "phi_avg 0.0002762146994020617\n",
      "evaluating step 6\n",
      "phi_avg 0.00035559961558219986\n",
      "evaluating step 7\n",
      "phi_avg 0.0003129779973935995\n",
      "evaluating step 8\n",
      "phi_avg 0.0006991762362347483\n",
      "evaluating step 9\n",
      "phi_avg 0.000903828845008898\n",
      "evaluating step 10\n",
      "phi_avg 0.000984283562821494\n"
     ]
    },
    {
     "data": {
      "application/vnd.jupyter.widget-view+json": {
       "model_id": "7442fa722506418cbf7bf0ce5bcd3c39",
       "version_major": 2,
       "version_minor": 0
      },
      "text/plain": [
       "VBox(children=(HBox(children=(VBox(children=(Tree(layout=Layout(align_items='stretch', border='solid 1px black…"
      ]
     },
     "metadata": {},
     "output_type": "display_data"
    }
   ],
   "source": [
    "dic_grid = DICGrid(n_x=53, n_y=12, d_x = 23, d_y = 23, start_t = 0, end_t =15, U_factor = 1, \n",
    "                   dir_name='B7_TV2', grid_column_first = True, grid_number_vertical = True)\n",
    "dic_insp = DICInspector(dic_grid=dic_grid)\n",
    "dic_insp.dic_cracks.items = construct_dic_cracks(B7_TV2_cracks)\n",
    "dic_insp.interact()"
   ]
  },
  {
   "cell_type": "markdown",
   "id": "d9d25531",
   "metadata": {},
   "source": [
    "# B8_TV1"
   ]
  },
  {
   "cell_type": "code",
   "execution_count": 27,
   "id": "533d7ffc",
   "metadata": {},
   "outputs": [],
   "source": [
    "B8_TV1_cracks = [\n",
    "    # crack 1\n",
    "    (dict(y_ref_i=-1 , y_ref_j_min=1, y_ref_j_max=10),\n",
    "     dict(n_x_min = -15, n_x_max = -8, n_x_step=1, n_y_min = 5, n_y_max=-2, n_y_step = 1)),\n",
    "    # crack 2\n",
    "    (dict(y_ref_i=-13, y_ref_j_min=1, y_ref_j_max=10),\n",
    "     dict(n_x_min = -19, n_x_max = -17, n_x_step=1, n_y_min = 8, n_y_max=-1, n_y_step = 1)),\n",
    "    # crack 3\n",
    "    (dict(y_ref_i=-19, y_ref_j_min=1, y_ref_j_max=10),\n",
    "     dict(n_x_min = -24, n_x_max = -21, n_x_step=1, n_y_min = 5, n_y_max=-1, n_y_step = 1)),\n",
    "    # crack 4\n",
    "    (dict(y_ref_i=-24, y_ref_j_min=1, y_ref_j_max=10),\n",
    "     dict(n_x_min = -33, n_x_max = -29, n_x_step=1, n_y_min = 7, n_y_step = 1)),\n",
    "    # crack 5\n",
    "    (dict(y_ref_i=-33, y_ref_j_min=1, y_ref_j_max=10),\n",
    "     dict(n_x_min=1, n_x_max=15, n_x_step=1, n_y_min = 2, n_y_max=12, n_y_step = 1)),\n",
    "]"
   ]
  },
  {
   "cell_type": "code",
   "execution_count": 28,
   "id": "4029dedb",
   "metadata": {
    "scrolled": false
   },
   "outputs": [
    {
     "name": "stdout",
     "output_type": "stream",
     "text": [
      "evaluating step 0\n",
      "phi_avg 0.0\n",
      "evaluating step 1\n",
      "phi_avg 9.48314617354356e-05\n",
      "evaluating step 2\n",
      "phi_avg 0.00041579210623353847\n",
      "evaluating step 3\n",
      "phi_avg 0.00014594776082000512\n",
      "evaluating step 4\n",
      "phi_avg 0.0002830194702041944\n",
      "evaluating step 5\n",
      "phi_avg 0.0004094221929633157\n",
      "evaluating step 6\n",
      "phi_avg 0.0005983097942808978\n",
      "evaluating step 7\n",
      "phi_avg 0.000776678126959806\n",
      "evaluating step 8\n",
      "phi_avg 0.0009739994621828973\n",
      "evaluating step 9\n",
      "phi_avg 0.0011324248864598284\n",
      "evaluating step 10\n",
      "phi_avg 0.0013929463924097977\n",
      "evaluating step 11\n",
      "phi_avg 0.0015451241994845597\n",
      "evaluating step 12\n",
      "phi_avg 0.0018105465053917694\n",
      "evaluating step 13\n",
      "phi_avg 0.00192704209101195\n",
      "evaluating step 0\n",
      "phi_avg 0.0\n",
      "evaluating step 1\n",
      "phi_avg 0.00024447246478967596\n",
      "evaluating step 2\n",
      "phi_avg 0.00016824094065373313\n",
      "evaluating step 3\n",
      "phi_avg 0.0002747286779520757\n",
      "evaluating step 4\n",
      "phi_avg 0.0003277452425221258\n",
      "evaluating step 5\n",
      "phi_avg 0.0004797462227602203\n",
      "evaluating step 6\n",
      "phi_avg 0.0005940739512724958\n",
      "evaluating step 7\n",
      "phi_avg 0.0007026992345344744\n",
      "evaluating step 8\n",
      "phi_avg 0.0009208305304926198\n",
      "evaluating step 9\n",
      "phi_avg 0.0010756081364071371\n",
      "evaluating step 10\n",
      "phi_avg 0.0011766938546290812\n",
      "evaluating step 11\n",
      "phi_avg 0.001310717326917244\n",
      "evaluating step 12\n",
      "phi_avg 0.0014793953472332332\n",
      "evaluating step 0\n",
      "phi_avg 0.0\n",
      "evaluating step 1\n"
     ]
    },
    {
     "name": "stderr",
     "output_type": "stream",
     "text": [
      "c:\\users\\fahad\\pycharmprojects\\bmcs_shear_zone\\bmcs_shear\\dic_crack\\dic_cor.py:142: RuntimeWarning: invalid value encountered in true_divide\n",
      "  phi = 2 * np.arctan(len_d_0t / len_d_0c)\n"
     ]
    },
    {
     "name": "stdout",
     "output_type": "stream",
     "text": [
      "phi_avg 0.00018123393430352015\n",
      "evaluating step 2\n",
      "phi_avg 0.00017752694372637874\n",
      "evaluating step 3\n",
      "phi_avg 0.00010936429448178393\n",
      "evaluating step 4\n",
      "phi_avg 0.0001365537661055326\n",
      "evaluating step 5\n",
      "phi_avg 0.00013339678439360552\n",
      "evaluating step 6\n",
      "phi_avg 0.00019962759769374722\n",
      "evaluating step 7\n",
      "phi_avg 0.00022881926030111327\n",
      "evaluating step 8\n",
      "phi_avg 0.00016412797516856097\n",
      "evaluating step 9\n",
      "phi_avg 0.0002603865782997551\n",
      "evaluating step 10\n",
      "phi_avg 0.0002625819512891287\n",
      "evaluating step 11\n",
      "phi_avg 0.00035646752101581167\n",
      "evaluating step 0\n",
      "phi_avg 0.0\n",
      "evaluating step 1\n",
      "phi_avg 6.204549836295909e-05\n",
      "evaluating step 2\n",
      "phi_avg 0.00010189434710348483\n",
      "evaluating step 3\n",
      "phi_avg 0.0001905314982856403\n",
      "evaluating step 4\n",
      "phi_avg 0.00024254483955690395\n",
      "evaluating step 5\n",
      "phi_avg 0.0003068560962312404\n",
      "evaluating step 6\n",
      "phi_avg 0.0004457034221097528\n",
      "evaluating step 7\n",
      "phi_avg 0.0005579856682457753\n",
      "evaluating step 8\n",
      "phi_avg 0.0008003319141151967\n",
      "evaluating step 9\n",
      "phi_avg 0.0008617601664512043\n",
      "evaluating step 10\n",
      "phi_avg 0.0009293151330387748\n",
      "evaluating step 0\n",
      "phi_avg 0.0\n",
      "evaluating step 1\n",
      "phi_avg 9.436870710016156e-05\n",
      "evaluating step 2\n",
      "phi_avg 9.583367948975796e-05\n",
      "evaluating step 3\n",
      "phi_avg 0.00019757572601356612\n",
      "evaluating step 4\n",
      "phi_avg 0.00013903675867437616\n",
      "evaluating step 5\n",
      "phi_avg 0.00017202056382601967\n",
      "evaluating step 6\n",
      "phi_avg 0.00020443024248072435\n",
      "evaluating step 7\n",
      "phi_avg 0.00029871705497158083\n",
      "evaluating step 8\n",
      "phi_avg 0.0005243151365207098\n",
      "evaluating step 9\n",
      "phi_avg 0.0005354070319680142\n"
     ]
    },
    {
     "data": {
      "application/vnd.jupyter.widget-view+json": {
       "model_id": "c3befa9a4c904ea39056bdea39fb774c",
       "version_major": 2,
       "version_minor": 0
      },
      "text/plain": [
       "VBox(children=(HBox(children=(VBox(children=(Tree(layout=Layout(align_items='stretch', border='solid 1px black…"
      ]
     },
     "metadata": {},
     "output_type": "display_data"
    }
   ],
   "source": [
    "dic_grid = DICGrid(n_x=56, n_y=13, d_x = 23, d_y = 23,  start_t = 0, end_t =14, U_factor = 1, \n",
    "                   dir_name='B8_TV1', grid_column_first = True, grid_number_vertical = True)\n",
    "dic_insp = DICInspector(dic_grid=dic_grid)\n",
    "dic_insp.dic_cracks.items = construct_dic_cracks(B8_TV1_cracks)\n",
    "dic_insp.interact()"
   ]
  },
  {
   "cell_type": "markdown",
   "id": "5acc3139",
   "metadata": {},
   "source": [
    "# B8_TV2"
   ]
  },
  {
   "cell_type": "code",
   "execution_count": 29,
   "id": "a891cb5a",
   "metadata": {},
   "outputs": [],
   "source": [
    "B8_TV2_cracks = [\n",
    "    # crack 1\n",
    "    (dict(y_ref_i=-1 , y_ref_j_min=1, y_ref_j_max=10),\n",
    "     dict(n_x_min = -8, n_x_max = -3, n_x_step=1, n_y_min = 5, n_y_max=-2, n_y_step = 1)),\n",
    "    # crack 2\n",
    "    (dict(y_ref_i=-8, y_ref_j_min=1, y_ref_j_max=10),\n",
    "     dict(n_x_min = -16, n_x_max = -13, n_x_step=1, n_y_min = 5, n_y_max=11, n_y_step = 1)),\n",
    "    # crack 3\n",
    "    (dict(y_ref_i=-16, y_ref_j_min=1, y_ref_j_max=10),\n",
    "     dict(n_x_min = -25, n_x_max = -21, n_x_step=1, n_y_min = 5, n_y_max=10, n_y_step = 1)),\n",
    "    # crack 4\n",
    "    (dict(y_ref_i=-24, y_ref_j_min=1, y_ref_j_max=10),\n",
    "     dict(n_x_min = -35, n_x_max = -31, n_x_step=1, n_y_min = 5, n_y_step = 1)),\n",
    "    # crack 5\n",
    "    (dict(y_ref_i=-33, y_ref_j_min=1, y_ref_j_max=10),\n",
    "     dict(n_x_min=1, n_x_max=14, n_x_step=1, n_y_min = 2, n_y_max=12, n_y_step = 1)),\n",
    "]"
   ]
  },
  {
   "cell_type": "code",
   "execution_count": 30,
   "id": "f1da3bb6",
   "metadata": {
    "scrolled": false
   },
   "outputs": [
    {
     "name": "stdout",
     "output_type": "stream",
     "text": [
      "evaluating step 0\n",
      "phi_avg 0.0\n",
      "evaluating step 1\n"
     ]
    },
    {
     "name": "stderr",
     "output_type": "stream",
     "text": [
      "c:\\users\\fahad\\pycharmprojects\\bmcs_shear_zone\\bmcs_shear\\dic_crack\\dic_cor.py:142: RuntimeWarning: invalid value encountered in true_divide\n",
      "  phi = 2 * np.arctan(len_d_0t / len_d_0c)\n"
     ]
    },
    {
     "name": "stdout",
     "output_type": "stream",
     "text": [
      "phi_avg 9.060903285157222e-05\n",
      "evaluating step 2\n",
      "phi_avg 0.00022491418292242113\n",
      "evaluating step 3\n",
      "phi_avg 0.0004068793077469551\n",
      "evaluating step 4\n",
      "phi_avg 0.000626429754043621\n",
      "evaluating step 5\n",
      "phi_avg 0.0008256085398137159\n",
      "evaluating step 6\n",
      "phi_avg 0.001121485566110636\n",
      "evaluating step 7\n",
      "phi_avg 0.0013150163386231994\n",
      "evaluating step 8\n",
      "phi_avg 0.0016217254098150338\n",
      "evaluating step 9\n",
      "phi_avg 0.001811776800017737\n",
      "evaluating step 10\n",
      "phi_avg 0.002006305385211729\n",
      "evaluating step 11\n",
      "phi_avg 0.0022559860230635365\n",
      "evaluating step 12\n",
      "phi_avg 0.0024966186347272325\n",
      "evaluating step 13\n",
      "phi_avg 0.002702144792645716\n",
      "evaluating step 14\n",
      "phi_avg 0.0030301431040953425\n",
      "evaluating step 0\n",
      "phi_avg 0.0\n",
      "evaluating step 1\n",
      "phi_avg 8.772263721893118e-05\n",
      "evaluating step 2\n",
      "phi_avg 0.00011976955833883258\n",
      "evaluating step 3\n",
      "phi_avg 0.00024545684955257604\n",
      "evaluating step 4\n",
      "phi_avg 0.0004735380010241613\n",
      "evaluating step 5\n",
      "phi_avg 0.0006348235365345435\n",
      "evaluating step 6\n",
      "phi_avg 0.000831424943969695\n",
      "evaluating step 7\n",
      "phi_avg 0.0009418774021666265\n",
      "evaluating step 8\n",
      "phi_avg 0.0011927135684817276\n",
      "evaluating step 9\n",
      "phi_avg 0.0013587255023790332\n",
      "evaluating step 10\n",
      "phi_avg 0.0015220058896915087\n",
      "evaluating step 11\n",
      "phi_avg 0.0017069415956690603\n",
      "evaluating step 12\n",
      "phi_avg 0.0019324662383733854\n",
      "evaluating step 13\n",
      "phi_avg 0.002159227860367465\n",
      "evaluating step 0\n",
      "phi_avg 0.0\n",
      "evaluating step 1\n",
      "phi_avg 0.00020053169385226226\n",
      "evaluating step 2\n",
      "phi_avg 0.00010669105334826551\n",
      "evaluating step 3\n",
      "phi_avg 0.0001392900320775799\n",
      "evaluating step 4\n",
      "phi_avg 0.0002479054052307351\n",
      "evaluating step 5\n",
      "phi_avg 0.00042455068507996985\n",
      "evaluating step 6\n",
      "phi_avg 0.0005889733057653829\n",
      "evaluating step 7\n",
      "phi_avg 0.0007107094296895498\n",
      "evaluating step 8\n",
      "phi_avg 0.0008220043039171958\n",
      "evaluating step 9\n",
      "phi_avg 0.0009217286011589333\n",
      "evaluating step 10\n",
      "phi_avg 0.001021779517902237\n",
      "evaluating step 11\n",
      "phi_avg 0.0011053656281473354\n",
      "evaluating step 12\n",
      "phi_avg 0.0012227000113079211\n",
      "evaluating step 0\n",
      "phi_avg 0.0\n",
      "evaluating step 1\n",
      "phi_avg 3.748690991815963e-05\n",
      "evaluating step 2\n",
      "phi_avg 0.00013767941672535277\n",
      "evaluating step 3\n",
      "phi_avg 9.236781322400996e-05\n",
      "evaluating step 4\n",
      "phi_avg 0.000127564618345541\n",
      "evaluating step 5\n",
      "phi_avg 0.00022727730080328317\n",
      "evaluating step 6\n",
      "phi_avg 0.0003787937871037603\n",
      "evaluating step 7\n",
      "phi_avg 0.0004381802245077152\n",
      "evaluating step 8\n",
      "phi_avg 0.0005723877365454192\n",
      "evaluating step 9\n",
      "phi_avg 0.0006533628572481446\n",
      "evaluating step 10\n",
      "phi_avg 0.0007873854923437214\n",
      "evaluating step 11\n",
      "phi_avg 0.0009304321815074674\n",
      "evaluating step 0\n",
      "phi_avg 0.0\n",
      "evaluating step 1\n",
      "phi_avg 8.791847438112708e-05\n",
      "evaluating step 2\n",
      "phi_avg 0.00019391906038083791\n",
      "evaluating step 3\n",
      "phi_avg 0.0001832904250819183\n",
      "evaluating step 4\n",
      "phi_avg 0.0001134284803497865\n",
      "evaluating step 5\n",
      "phi_avg 0.00012550598697790445\n",
      "evaluating step 6\n",
      "phi_avg 0.000174973530481267\n",
      "evaluating step 7\n",
      "phi_avg 0.00017754259636395536\n",
      "evaluating step 8\n",
      "phi_avg 0.0002864857352335632\n",
      "evaluating step 9\n",
      "phi_avg 0.0002962748162734624\n",
      "evaluating step 10\n",
      "phi_avg 0.00037324138776468393\n"
     ]
    },
    {
     "data": {
      "application/vnd.jupyter.widget-view+json": {
       "model_id": "fa7f07ac3e4548da916fecd7a41ed7a4",
       "version_major": 2,
       "version_minor": 0
      },
      "text/plain": [
       "VBox(children=(HBox(children=(VBox(children=(Tree(layout=Layout(align_items='stretch', border='solid 1px black…"
      ]
     },
     "metadata": {},
     "output_type": "display_data"
    }
   ],
   "source": [
    "dic_grid = DICGrid(n_x=56, n_y=14, d_x = 23, d_y = 23,  start_t = 0, end_t =15, U_factor = 1, \n",
    "                   dir_name='B8_TV2', grid_column_first = True, grid_number_vertical = True)\n",
    "dic_insp = DICInspector(dic_grid=dic_grid)\n",
    "dic_insp.dic_cracks.items = construct_dic_cracks(B8_TV2_cracks)\n",
    "dic_insp.interact()"
   ]
  },
  {
   "cell_type": "markdown",
   "id": "3a1030c1",
   "metadata": {},
   "source": [
    "# B9_TV1"
   ]
  },
  {
   "cell_type": "code",
   "execution_count": 31,
   "id": "93a3a63c",
   "metadata": {},
   "outputs": [],
   "source": [
    "B9_TV1_cracks = [\n",
    "    # crack 1\n",
    "    (dict(y_ref_i=-1 , y_ref_j_min=1, y_ref_j_max=10),\n",
    "     dict(n_x_min = -9, n_x_max = -6, n_x_step=1, n_y_min = 5, n_y_max=-2, n_y_step = 1)),\n",
    "    # crack 2\n",
    "    (dict(y_ref_i=-9, y_ref_j_min=1, y_ref_j_max=10),\n",
    "     dict(n_x_min = -15, n_x_max = -12, n_x_step=1, n_y_min = 1, n_y_max=4, n_y_step = 1)),\n",
    "    # crack 3\n",
    "    (dict(y_ref_i=-14, y_ref_j_min=1, y_ref_j_max=10),\n",
    "     dict(n_x_min = -19, n_x_max = -16, n_x_step=1, n_y_min = 5, n_y_max=10, n_y_step = 1)),\n",
    "    # crack 4\n",
    "    (dict(y_ref_i=-19, y_ref_j_min=1, y_ref_j_max=10),\n",
    "     dict(n_x_min = -25, n_x_max = -22, n_x_step=1, n_y_min = 3, n_y_max = 8, n_y_step = 1)),\n",
    "    # crack 5\n",
    "    (dict(y_ref_i=-25, y_ref_j_min=1, y_ref_j_max=10),\n",
    "     dict(n_x_min=-30, n_x_max=-28, n_x_step=1, n_y_min = 3, n_y_max=8, n_y_step = 1)),\n",
    "    # crack 6\n",
    "    (dict(y_ref_i=-30, y_ref_j_min=1, y_ref_j_max=10),\n",
    "     dict(n_x_min=1, n_x_max=14, n_x_step=1, n_y_min = 1, n_y_max=10, n_y_step = 1)),\n",
    "]"
   ]
  },
  {
   "cell_type": "code",
   "execution_count": 32,
   "id": "ae76da91",
   "metadata": {
    "scrolled": false
   },
   "outputs": [
    {
     "name": "stdout",
     "output_type": "stream",
     "text": [
      "evaluating step 0\n",
      "phi_avg 0.0\n",
      "evaluating step 1\n",
      "phi_avg 0.00016216638311275421\n",
      "evaluating step 2\n"
     ]
    },
    {
     "name": "stderr",
     "output_type": "stream",
     "text": [
      "c:\\users\\fahad\\pycharmprojects\\bmcs_shear_zone\\bmcs_shear\\dic_crack\\dic_cor.py:142: RuntimeWarning: invalid value encountered in true_divide\n",
      "  phi = 2 * np.arctan(len_d_0t / len_d_0c)\n"
     ]
    },
    {
     "name": "stdout",
     "output_type": "stream",
     "text": [
      "phi_avg 0.00014918939554631132\n",
      "evaluating step 3\n",
      "phi_avg 0.00031639436922208336\n",
      "evaluating step 4\n",
      "phi_avg 0.00030859886147312476\n",
      "evaluating step 5\n",
      "phi_avg 0.0003297485765047232\n",
      "evaluating step 6\n",
      "phi_avg 0.0005566507593045314\n",
      "evaluating step 7\n",
      "phi_avg 0.0006123749494793821\n",
      "evaluating step 8\n",
      "phi_avg 0.00078011716543488\n",
      "evaluating step 9\n",
      "phi_avg 0.0009763494410712457\n",
      "evaluating step 10\n",
      "phi_avg 0.0011090362486101324\n",
      "evaluating step 11\n",
      "phi_avg 0.0013138334192122289\n",
      "evaluating step 12\n",
      "phi_avg 0.0014088125307509176\n",
      "evaluating step 13\n",
      "phi_avg 0.0014122793489073668\n",
      "evaluating step 14\n",
      "phi_avg 0.0015800675864847747\n",
      "evaluating step 15\n",
      "phi_avg 0.0017522369840164752\n",
      "evaluating step 16\n",
      "phi_avg 0.0017492685628319605\n",
      "evaluating step 17\n",
      "phi_avg 0.0018089694157065574\n",
      "evaluating step 0\n",
      "phi_avg 0.0\n",
      "evaluating step 1\n"
     ]
    },
    {
     "name": "stderr",
     "output_type": "stream",
     "text": [
      "c:\\users\\fahad\\pycharmprojects\\bmcs_shear_zone\\bmcs_shear\\dic_crack\\dic_cor.py:142: RuntimeWarning: invalid value encountered in true_divide\n",
      "  phi = 2 * np.arctan(len_d_0t / len_d_0c)\n"
     ]
    },
    {
     "name": "stdout",
     "output_type": "stream",
     "text": [
      "phi_avg 0.00029288935154208424\n",
      "evaluating step 2\n",
      "phi_avg 0.0003789926516589577\n",
      "evaluating step 3\n",
      "phi_avg 0.000294442231458687\n",
      "evaluating step 4\n",
      "phi_avg 0.0005048539162507564\n",
      "evaluating step 5\n",
      "phi_avg 0.0005823241442785564\n",
      "evaluating step 6\n",
      "phi_avg 0.001190147086453719\n",
      "evaluating step 7\n",
      "phi_avg 0.0036288031333709617\n",
      "evaluating step 8\n",
      "phi_avg 0.0019002885719604126\n",
      "evaluating step 9\n",
      "phi_avg 0.001789140602351612\n",
      "evaluating step 10\n",
      "phi_avg 0.0018619582557064425\n",
      "evaluating step 11\n",
      "phi_avg 0.0014511085558491811\n",
      "evaluating step 12\n",
      "phi_avg 0.0015117931057595825\n",
      "evaluating step 13\n",
      "phi_avg 0.0014081187776383436\n",
      "evaluating step 14\n",
      "phi_avg 0.0014974965051819857\n",
      "evaluating step 15\n",
      "phi_avg 0.0017284992656743216\n",
      "evaluating step 16\n",
      "phi_avg 0.0017535396902148435\n",
      "evaluating step 0\n"
     ]
    },
    {
     "name": "stderr",
     "output_type": "stream",
     "text": [
      "c:\\users\\fahad\\pycharmprojects\\bmcs_shear_zone\\bmcs_shear\\dic_crack\\dic_cor.py:142: RuntimeWarning: invalid value encountered in true_divide\n",
      "  phi = 2 * np.arctan(len_d_0t / len_d_0c)\n"
     ]
    },
    {
     "name": "stdout",
     "output_type": "stream",
     "text": [
      "phi_avg 0.0\n",
      "evaluating step 1\n",
      "phi_avg 0.00021074535870570793\n",
      "evaluating step 2\n",
      "phi_avg 0.00025780318564262364\n",
      "evaluating step 3\n",
      "phi_avg 0.0003772249556338764\n",
      "evaluating step 4\n",
      "phi_avg 0.00030292629542671393\n",
      "evaluating step 5\n",
      "phi_avg 0.00014194665738820298\n",
      "evaluating step 6\n",
      "phi_avg 0.0005701662947808064\n",
      "evaluating step 7\n",
      "phi_avg 0.0009335816027720739\n",
      "evaluating step 8\n",
      "phi_avg 0.0011315927210188202\n",
      "evaluating step 9\n",
      "phi_avg 0.0013699589492023087\n",
      "evaluating step 10\n",
      "phi_avg 0.0016063700079885855\n",
      "evaluating step 11\n",
      "phi_avg 0.0015082128818886124\n",
      "evaluating step 12\n",
      "phi_avg 0.0016509441146574306\n",
      "evaluating step 13\n",
      "phi_avg 0.001652657590783617\n",
      "evaluating step 14\n",
      "phi_avg 0.001897730908523382\n",
      "evaluating step 15\n",
      "phi_avg 0.002177722814039781\n",
      "evaluating step 0\n"
     ]
    },
    {
     "name": "stderr",
     "output_type": "stream",
     "text": [
      "c:\\users\\fahad\\pycharmprojects\\bmcs_shear_zone\\bmcs_shear\\dic_crack\\dic_cor.py:142: RuntimeWarning: invalid value encountered in true_divide\n",
      "  phi = 2 * np.arctan(len_d_0t / len_d_0c)\n"
     ]
    },
    {
     "name": "stdout",
     "output_type": "stream",
     "text": [
      "phi_avg 0.0\n",
      "evaluating step 1\n",
      "phi_avg 0.0003092486501733007\n",
      "evaluating step 2\n",
      "phi_avg 0.00024241610540695708\n",
      "evaluating step 3\n",
      "phi_avg 0.00024144546907140435\n",
      "evaluating step 4\n",
      "phi_avg 0.0008091169067992338\n",
      "evaluating step 5\n",
      "phi_avg 0.00028689628461073794\n",
      "evaluating step 6\n",
      "phi_avg 0.00046726130824211424\n",
      "evaluating step 7\n",
      "phi_avg 0.0003558689441226781\n",
      "evaluating step 8\n",
      "phi_avg 0.000473695696857216\n",
      "evaluating step 9\n",
      "phi_avg 0.0006093219791126345\n",
      "evaluating step 10\n",
      "phi_avg 0.0007936223870743294\n",
      "evaluating step 11\n",
      "phi_avg 0.001006897614980728\n",
      "evaluating step 12\n",
      "phi_avg 0.0010716882029514134\n",
      "evaluating step 13\n",
      "phi_avg 0.0010586477061242593\n",
      "evaluating step 14\n",
      "phi_avg 0.0010837843852314608\n",
      "evaluating step 0\n",
      "phi_avg 0.0\n",
      "evaluating step 1\n",
      "phi_avg 0.0007913423159449902\n",
      "evaluating step 2\n",
      "phi_avg 0.00024919181705295677\n",
      "evaluating step 3\n",
      "phi_avg 0.0003554510422271217\n",
      "evaluating step 4\n",
      "phi_avg 0.000647122256073366\n",
      "evaluating step 5\n",
      "phi_avg 0.00035597522024318043\n",
      "evaluating step 6\n",
      "phi_avg 0.0003678016680896156\n",
      "evaluating step 7\n",
      "phi_avg 0.0005366497975019826\n",
      "evaluating step 8\n",
      "phi_avg 0.0005207762315885535\n",
      "evaluating step 9\n",
      "phi_avg 0.0006390254104066661\n",
      "evaluating step 10\n",
      "phi_avg 0.0009321746564298433\n",
      "evaluating step 11\n",
      "phi_avg 0.0009583773233261082\n",
      "evaluating step 12\n",
      "phi_avg 0.001043876968520585\n",
      "evaluating step 13\n",
      "phi_avg 0.0009464568769785832\n",
      "evaluating step 0\n",
      "phi_avg 0.0\n",
      "evaluating step 1\n"
     ]
    },
    {
     "name": "stderr",
     "output_type": "stream",
     "text": [
      "c:\\users\\fahad\\pycharmprojects\\bmcs_shear_zone\\bmcs_shear\\dic_crack\\dic_cor.py:142: RuntimeWarning: invalid value encountered in true_divide\n",
      "  phi = 2 * np.arctan(len_d_0t / len_d_0c)\n"
     ]
    },
    {
     "name": "stdout",
     "output_type": "stream",
     "text": [
      "phi_avg 0.00025417163612329903\n",
      "evaluating step 2\n",
      "phi_avg 0.00021733822341593573\n",
      "evaluating step 3\n",
      "phi_avg 0.00022534177559669393\n",
      "evaluating step 4\n",
      "phi_avg 0.0002061534332301122\n",
      "evaluating step 5\n",
      "phi_avg 0.0002398629203474157\n",
      "evaluating step 6\n",
      "phi_avg 0.0002300492842038118\n",
      "evaluating step 7\n",
      "phi_avg 0.0002466458182705637\n",
      "evaluating step 8\n",
      "phi_avg 0.0002489789816939101\n",
      "evaluating step 9\n",
      "phi_avg 0.000295835091511878\n",
      "evaluating step 10\n",
      "phi_avg 0.0004558395240008791\n",
      "evaluating step 11\n",
      "phi_avg 0.0006306968961522453\n",
      "evaluating step 12\n",
      "phi_avg 0.0010788277231452178\n"
     ]
    },
    {
     "data": {
      "application/vnd.jupyter.widget-view+json": {
       "model_id": "6777282c6c13463bb296eda1168a0c19",
       "version_major": 2,
       "version_minor": 0
      },
      "text/plain": [
       "VBox(children=(HBox(children=(VBox(children=(Tree(layout=Layout(align_items='stretch', border='solid 1px black…"
      ]
     },
     "metadata": {},
     "output_type": "display_data"
    }
   ],
   "source": [
    "dic_grid = DICGrid(n_x=54, n_y=12, d_x = 23, d_y = 23, start_t = 0, end_t =18, U_factor = 1, \n",
    "                   dir_name='B9_TV1_', grid_column_first = True, grid_number_vertical = True)\n",
    "dic_insp = DICInspector(dic_grid=dic_grid)\n",
    "dic_insp.dic_cracks.items = construct_dic_cracks(B9_TV1_cracks)\n",
    "dic_insp.interact()"
   ]
  },
  {
   "cell_type": "markdown",
   "id": "d5b6fdb6",
   "metadata": {},
   "source": [
    "# B9_TV2"
   ]
  },
  {
   "cell_type": "code",
   "execution_count": 33,
   "id": "45a5b1a5",
   "metadata": {},
   "outputs": [],
   "source": [
    "B9_TV2_cracks = [\n",
    "    # crack 1\n",
    "    (dict(y_ref_i=-1 , y_ref_j_min=1, y_ref_j_max=10),\n",
    "     dict(n_x_min = -9, n_x_max = -6, n_x_step=1, n_y_min = 5, n_y_max=-2, n_y_step = 1)),\n",
    "    # crack 2\n",
    "    (dict(y_ref_i=-9, y_ref_j_min=1, y_ref_j_max=10),\n",
    "     dict(n_x_min = -15, n_x_max = -11, n_x_step=1, n_y_min = 6, n_y_max=10, n_y_step = 1)),\n",
    "    # crack 3\n",
    "    (dict(y_ref_i=-14, y_ref_j_min=1, y_ref_j_max=10),\n",
    "     dict(n_x_min = -20, n_x_max = -17, n_x_step=1, n_y_min = 5, n_y_max=10, n_y_step = 1)),\n",
    "    # crack 4\n",
    "    (dict(y_ref_i=-19, y_ref_j_min=1, y_ref_j_max=10),\n",
    "     dict(n_x_min = -25, n_x_max = -22, n_x_step=1, n_y_min = 3, n_y_max = 8, n_y_step = 1)),\n",
    "    # crack 5\n",
    "    (dict(y_ref_i=-25, y_ref_j_min=1, y_ref_j_max=10),\n",
    "     dict(n_x_min=-33, n_x_max=-30, n_x_step=1, n_y_min = 6, n_y_max=10, n_y_step = 1)),\n",
    "    # crack 6\n",
    "    (dict(y_ref_i=-33, y_ref_j_min=1, y_ref_j_max=10),\n",
    "     dict(n_x_min=1, n_x_max=14, n_x_step=1, n_y_min = 1, n_y_max=10, n_y_step = 1)),\n",
    "]"
   ]
  },
  {
   "cell_type": "code",
   "execution_count": 34,
   "id": "ca4e1892",
   "metadata": {
    "scrolled": false
   },
   "outputs": [
    {
     "name": "stdout",
     "output_type": "stream",
     "text": [
      "evaluating step 0\n",
      "phi_avg 0.0\n",
      "evaluating step 1\n",
      "phi_avg 9.952042681228787e-05\n",
      "evaluating step 2\n",
      "phi_avg 0.00010548302991555993\n",
      "evaluating step 3\n",
      "phi_avg 0.0002654261577644264\n",
      "evaluating step 4\n",
      "phi_avg 0.00034318630228252994\n",
      "evaluating step 5\n",
      "phi_avg 0.000565376785457412\n",
      "evaluating step 6\n",
      "phi_avg 0.0007208055553099701\n",
      "evaluating step 7\n",
      "phi_avg 0.0009184350472513826\n",
      "evaluating step 8\n",
      "phi_avg 0.0013095010729629241\n",
      "evaluating step 9\n",
      "phi_avg 0.001439383795610855\n",
      "evaluating step 10\n",
      "phi_avg 0.001820283713683343\n",
      "evaluating step 11\n",
      "phi_avg 0.002068870818415064\n",
      "evaluating step 12\n",
      "phi_avg 0.0023520923048134437\n",
      "evaluating step 13\n",
      "phi_avg 0.0026096868019360574\n",
      "evaluating step 14\n",
      "phi_avg 0.0028707724947472564\n",
      "evaluating step 15\n",
      "phi_avg 0.0031053762037716167\n",
      "evaluating step 0\n",
      "phi_avg 0.0\n",
      "evaluating step 1\n",
      "phi_avg 0.00020841245725877983\n",
      "evaluating step 2\n",
      "phi_avg 0.00017243854522010893\n",
      "evaluating step 3\n",
      "phi_avg 0.00020352616943178825\n",
      "evaluating step 4\n",
      "phi_avg 0.0002426894402646211\n",
      "evaluating step 5\n",
      "phi_avg 0.0002020750304529456\n",
      "evaluating step 6\n",
      "phi_avg 0.00026883346243121653\n",
      "evaluating step 7\n",
      "phi_avg 0.00032940801122136325\n",
      "evaluating step 8\n",
      "phi_avg 0.0003835266112828914\n",
      "evaluating step 9\n",
      "phi_avg 0.00042646183427234624\n",
      "evaluating step 10\n",
      "phi_avg 0.0005463321841257507\n",
      "evaluating step 11\n",
      "phi_avg 0.0006260574662368726\n",
      "evaluating step 12\n",
      "phi_avg 0.0006743058132319817\n",
      "evaluating step 13\n",
      "phi_avg 0.0007572799623458554\n",
      "evaluating step 14\n",
      "phi_avg 0.0008863068965679947\n",
      "evaluating step 0\n",
      "phi_avg 0.0\n",
      "evaluating step 1\n"
     ]
    },
    {
     "name": "stderr",
     "output_type": "stream",
     "text": [
      "c:\\users\\fahad\\pycharmprojects\\bmcs_shear_zone\\bmcs_shear\\dic_crack\\dic_cor.py:142: RuntimeWarning: invalid value encountered in true_divide\n",
      "  phi = 2 * np.arctan(len_d_0t / len_d_0c)\n"
     ]
    },
    {
     "name": "stdout",
     "output_type": "stream",
     "text": [
      "phi_avg 9.251483020780558e-05\n",
      "evaluating step 2\n",
      "phi_avg 0.0002978006444295784\n",
      "evaluating step 3\n",
      "phi_avg 0.00022093350387546659\n",
      "evaluating step 4\n",
      "phi_avg 0.00019233983580544512\n",
      "evaluating step 5\n",
      "phi_avg 0.000299074708695254\n",
      "evaluating step 6\n",
      "phi_avg 0.0004332676192565511\n",
      "evaluating step 7\n",
      "phi_avg 0.0005530213506973315\n",
      "evaluating step 8\n",
      "phi_avg 0.0008009583149067248\n",
      "evaluating step 9\n",
      "phi_avg 0.0007740528736340321\n",
      "evaluating step 10\n",
      "phi_avg 0.001065253357756332\n",
      "evaluating step 11\n",
      "phi_avg 0.0009703571483328193\n",
      "evaluating step 12\n",
      "phi_avg 0.0010966448453647462\n",
      "evaluating step 13\n",
      "phi_avg 0.0012809965556911797\n",
      "evaluating step 0\n",
      "phi_avg 0.0\n",
      "evaluating step 1\n"
     ]
    },
    {
     "name": "stderr",
     "output_type": "stream",
     "text": [
      "c:\\users\\fahad\\pycharmprojects\\bmcs_shear_zone\\bmcs_shear\\dic_crack\\dic_cor.py:142: RuntimeWarning: invalid value encountered in true_divide\n",
      "  phi = 2 * np.arctan(len_d_0t / len_d_0c)\n"
     ]
    },
    {
     "name": "stdout",
     "output_type": "stream",
     "text": [
      "phi_avg 0.00014199877700448924\n",
      "evaluating step 2\n",
      "phi_avg 0.00026778757681469704\n",
      "evaluating step 3\n",
      "phi_avg 0.00038123464051415304\n",
      "evaluating step 4\n",
      "phi_avg 0.00012055016820895743\n",
      "evaluating step 5\n",
      "phi_avg 0.00024973526353475826\n",
      "evaluating step 6\n",
      "phi_avg 0.00010787151295417905\n",
      "evaluating step 7\n",
      "phi_avg 0.0002319624406433748\n",
      "evaluating step 8\n",
      "phi_avg 0.00032816409317647726\n",
      "evaluating step 9\n",
      "phi_avg 0.0005172896038229374\n",
      "evaluating step 10\n",
      "phi_avg 0.0007821526484797297\n",
      "evaluating step 11\n",
      "phi_avg 0.000595526169338261\n",
      "evaluating step 12\n",
      "phi_avg 0.0007266151980956614\n",
      "evaluating step 0\n",
      "phi_avg 0.0\n",
      "evaluating step 1\n",
      "phi_avg 0.00015840334069866405\n",
      "evaluating step 2\n",
      "phi_avg 0.00028902214145036515\n",
      "evaluating step 3\n",
      "phi_avg 0.000186335637565155\n",
      "evaluating step 4\n",
      "phi_avg 0.00012057336948512904\n",
      "evaluating step 5\n",
      "phi_avg 0.00020183817669434335\n",
      "evaluating step 6\n",
      "phi_avg 0.0005693765078767193\n",
      "evaluating step 7\n",
      "phi_avg 0.0003251409417868634\n",
      "evaluating step 8\n",
      "phi_avg 0.00039310757038449237\n",
      "evaluating step 9\n",
      "phi_avg 0.00046841134970058095\n",
      "evaluating step 10\n",
      "phi_avg 0.0005519339952853268\n",
      "evaluating step 11\n",
      "phi_avg 0.0006939817449509532\n",
      "evaluating step 0\n",
      "phi_avg 0.0\n",
      "evaluating step 1\n"
     ]
    },
    {
     "name": "stderr",
     "output_type": "stream",
     "text": [
      "c:\\users\\fahad\\pycharmprojects\\bmcs_shear_zone\\bmcs_shear\\dic_crack\\dic_cor.py:142: RuntimeWarning: invalid value encountered in true_divide\n",
      "  phi = 2 * np.arctan(len_d_0t / len_d_0c)\n"
     ]
    },
    {
     "name": "stdout",
     "output_type": "stream",
     "text": [
      "phi_avg 0.00014273407002579337\n",
      "evaluating step 2\n",
      "phi_avg 0.0001569264978017126\n",
      "evaluating step 3\n",
      "phi_avg 0.00011461129465088612\n",
      "evaluating step 4\n",
      "phi_avg 0.00017796071716141653\n",
      "evaluating step 5\n",
      "phi_avg 0.00019476668825619273\n",
      "evaluating step 6\n",
      "phi_avg 0.00021236482943164252\n",
      "evaluating step 7\n",
      "phi_avg 0.0002410317810874941\n",
      "evaluating step 8\n",
      "phi_avg 0.00016059690455963013\n",
      "evaluating step 9\n",
      "phi_avg 0.0002467109848205844\n",
      "evaluating step 10\n",
      "phi_avg 0.00034544272239252764\n"
     ]
    },
    {
     "data": {
      "application/vnd.jupyter.widget-view+json": {
       "model_id": "70e4be6a74e44552a041634ef33190eb",
       "version_major": 2,
       "version_minor": 0
      },
      "text/plain": [
       "VBox(children=(HBox(children=(VBox(children=(Tree(layout=Layout(align_items='stretch', border='solid 1px black…"
      ]
     },
     "metadata": {},
     "output_type": "display_data"
    }
   ],
   "source": [
    "dic_grid = DICGrid(n_x=57, n_y=13, d_x = 22, d_y = 22, start_t = 0, end_t =16, U_factor = 1, \n",
    "                   dir_name='B9_TV2', grid_column_first = True, grid_number_vertical = True)\n",
    "dic_insp = DICInspector(dic_grid=dic_grid)\n",
    "dic_insp.dic_cracks.items = construct_dic_cracks(B9_TV2_cracks)\n",
    "dic_insp.interact()"
   ]
  },
  {
   "cell_type": "markdown",
   "id": "fa444215",
   "metadata": {},
   "source": [
    "# B10_TV1"
   ]
  },
  {
   "cell_type": "code",
   "execution_count": 35,
   "id": "ce1e1976",
   "metadata": {},
   "outputs": [],
   "source": [
    "B10_TV1_cracks = [\n",
    "    # crack 1\n",
    "    (dict(y_ref_i=-1 , y_ref_j_min=1, y_ref_j_max=10),\n",
    "     dict(n_x_min = -6, n_x_max = -3, n_x_step=1, n_y_min = 1, n_y_max=5, n_y_step = 1)),\n",
    "    # crack 2\n",
    "    (dict(y_ref_i=-6, y_ref_j_min=1, y_ref_j_max=10),\n",
    "     dict(n_x_min = -16, n_x_max = -13, n_x_step=1, n_y_min = 6, n_y_max=10, n_y_step = 1)),\n",
    "    # crack 3\n",
    "    (dict(y_ref_i=-14, y_ref_j_min=1, y_ref_j_max=10),\n",
    "     dict(n_x_min = -25, n_x_max = -22, n_x_step=1, n_y_min = 5, n_y_max=10, n_y_step = 1)),\n",
    "    # crack 4\n",
    "    (dict(y_ref_i=-25, y_ref_j_min=1, y_ref_j_max=10),\n",
    "     dict(n_x_min = -33, n_x_max = -28, n_x_step=1, n_y_min = 7, n_y_max = 12, n_y_step = 1)),\n",
    "    # crack 5\n",
    "    (dict(y_ref_i=-33, y_ref_j_min=1, y_ref_j_max=10),\n",
    "     dict(n_x_min=1, n_x_max=14, n_x_step=1, n_y_min = 1, n_y_max=12, n_y_step = 1)),\n",
    "]"
   ]
  },
  {
   "cell_type": "code",
   "execution_count": 36,
   "id": "839f97f2",
   "metadata": {
    "scrolled": false
   },
   "outputs": [
    {
     "name": "stdout",
     "output_type": "stream",
     "text": [
      "evaluating step 0\n",
      "phi_avg 0.0\n",
      "evaluating step 1\n",
      "phi_avg 0.00019145905435867693\n",
      "evaluating step 2\n",
      "phi_avg 0.001254696176576462\n",
      "evaluating step 3\n",
      "phi_avg 0.0024884723624373005\n",
      "evaluating step 4\n",
      "phi_avg 0.002313235260341996\n",
      "evaluating step 5\n",
      "phi_avg 0.0024865227965158235\n",
      "evaluating step 6\n",
      "phi_avg 0.0030493904474457084\n",
      "evaluating step 7\n",
      "phi_avg 0.004200067502043321\n",
      "evaluating step 8\n",
      "phi_avg 0.0025715661649576347\n",
      "evaluating step 9\n",
      "phi_avg 0.004187289318433293\n",
      "evaluating step 10\n",
      "phi_avg 0.0038942766947831727\n",
      "evaluating step 11\n",
      "phi_avg 0.003948274892105988\n",
      "evaluating step 12\n",
      "phi_avg 0.004135323244170747\n",
      "evaluating step 13\n",
      "phi_avg 0.0035030887150102833\n",
      "evaluating step 14\n",
      "phi_avg 0.0037720022479588258\n",
      "evaluating step 0\n",
      "phi_avg 0.0\n",
      "evaluating step 1\n",
      "phi_avg 0.00013261549297445663\n",
      "evaluating step 2\n",
      "phi_avg 0.000176920330946592\n",
      "evaluating step 3\n",
      "phi_avg 0.0005252468068019927\n",
      "evaluating step 4\n",
      "phi_avg 0.0009964238482659796\n",
      "evaluating step 5\n",
      "phi_avg 0.0013340188092912841\n",
      "evaluating step 6\n",
      "phi_avg 0.0016487519093217851\n",
      "evaluating step 7\n",
      "phi_avg 0.001984701416551871\n",
      "evaluating step 8\n",
      "phi_avg 0.0021671183808406537\n",
      "evaluating step 9\n",
      "phi_avg 0.002423239128310379\n",
      "evaluating step 10\n",
      "phi_avg 0.0024477683910788224\n",
      "evaluating step 11\n",
      "phi_avg 0.0023682093055373515\n",
      "evaluating step 12\n",
      "phi_avg 0.0026404638168318704\n",
      "evaluating step 13\n",
      "phi_avg 0.0025565558171541138\n",
      "evaluating step 0\n",
      "phi_avg 0.0\n",
      "evaluating step 1\n"
     ]
    },
    {
     "name": "stderr",
     "output_type": "stream",
     "text": [
      "c:\\users\\fahad\\pycharmprojects\\bmcs_shear_zone\\bmcs_shear\\dic_crack\\dic_cor.py:142: RuntimeWarning: invalid value encountered in true_divide\n",
      "  phi = 2 * np.arctan(len_d_0t / len_d_0c)\n"
     ]
    },
    {
     "name": "stdout",
     "output_type": "stream",
     "text": [
      "phi_avg 0.00028827825761778387\n",
      "evaluating step 2\n",
      "phi_avg 0.00018993593112479732\n",
      "evaluating step 3\n",
      "phi_avg 0.00035564192715344903\n",
      "evaluating step 4\n",
      "phi_avg 0.00040700203795196303\n",
      "evaluating step 5\n",
      "phi_avg 0.0005585599331875909\n",
      "evaluating step 6\n",
      "phi_avg 0.00074722612485147\n",
      "evaluating step 7\n",
      "phi_avg 0.0008442502787787062\n",
      "evaluating step 8\n",
      "phi_avg 0.001009668048618919\n",
      "evaluating step 9\n",
      "phi_avg 0.0009172093603642715\n",
      "evaluating step 10\n",
      "phi_avg 0.0010841406382118698\n",
      "evaluating step 11\n",
      "phi_avg 0.0011105990884470313\n",
      "evaluating step 12\n",
      "phi_avg 0.001358852221790102\n",
      "evaluating step 0\n",
      "phi_avg 0.0\n",
      "evaluating step 1\n"
     ]
    },
    {
     "name": "stderr",
     "output_type": "stream",
     "text": [
      "c:\\users\\fahad\\pycharmprojects\\bmcs_shear_zone\\bmcs_shear\\dic_crack\\dic_cor.py:142: RuntimeWarning: invalid value encountered in true_divide\n",
      "  phi = 2 * np.arctan(len_d_0t / len_d_0c)\n"
     ]
    },
    {
     "name": "stdout",
     "output_type": "stream",
     "text": [
      "phi_avg 0.00021086525879563392\n",
      "evaluating step 2\n",
      "phi_avg 0.00041100276732816124\n",
      "evaluating step 3\n",
      "phi_avg 0.0002919294291647994\n",
      "evaluating step 4\n",
      "phi_avg 0.000353311447366805\n",
      "evaluating step 5\n",
      "phi_avg 0.0004383759120729785\n",
      "evaluating step 6\n",
      "phi_avg 0.0005660499323211656\n",
      "evaluating step 7\n",
      "phi_avg 0.0005550418412731924\n",
      "evaluating step 8\n",
      "phi_avg 0.0006307829223315434\n",
      "evaluating step 9\n",
      "phi_avg 0.0009064945062502224\n",
      "evaluating step 10\n",
      "phi_avg 0.0009347694239118565\n",
      "evaluating step 11\n",
      "phi_avg 0.0009915120798898744\n",
      "evaluating step 0\n",
      "phi_avg 0.0\n",
      "evaluating step 1\n"
     ]
    },
    {
     "name": "stderr",
     "output_type": "stream",
     "text": [
      "c:\\users\\fahad\\pycharmprojects\\bmcs_shear_zone\\bmcs_shear\\dic_crack\\dic_cor.py:142: RuntimeWarning: invalid value encountered in true_divide\n",
      "  phi = 2 * np.arctan(len_d_0t / len_d_0c)\n"
     ]
    },
    {
     "name": "stdout",
     "output_type": "stream",
     "text": [
      "phi_avg 0.00015780810383966905\n",
      "evaluating step 2\n",
      "phi_avg 0.00021112823534240422\n",
      "evaluating step 3\n",
      "phi_avg 0.0001477434065904804\n",
      "evaluating step 4\n",
      "phi_avg 0.0002395654379415439\n",
      "evaluating step 5\n",
      "phi_avg 0.0004222986787743298\n",
      "evaluating step 6\n",
      "phi_avg 0.0005702746297894646\n",
      "evaluating step 7\n",
      "phi_avg 0.0006894711264261504\n",
      "evaluating step 8\n",
      "phi_avg 0.0008503166065295955\n",
      "evaluating step 9\n",
      "phi_avg 0.0009811383002989425\n",
      "evaluating step 10\n",
      "phi_avg 0.0010515005426457598\n"
     ]
    },
    {
     "data": {
      "application/vnd.jupyter.widget-view+json": {
       "model_id": "ea1f74d627eb4184a8eeed32143d7e18",
       "version_major": 2,
       "version_minor": 0
      },
      "text/plain": [
       "VBox(children=(HBox(children=(VBox(children=(Tree(layout=Layout(align_items='stretch', border='solid 1px black…"
      ]
     },
     "metadata": {},
     "output_type": "display_data"
    }
   ],
   "source": [
    "dic_grid = DICGrid(n_x=57, n_y=14, d_x = 22, d_y = 22, start_t = 0, end_t =15, U_factor = 1, \n",
    "                   dir_name='B10_TV1', grid_column_first = True, grid_number_vertical = True)\n",
    "dic_insp = DICInspector(dic_grid=dic_grid)\n",
    "dic_insp.dic_cracks.items = construct_dic_cracks(B10_TV1_cracks)\n",
    "dic_insp.interact()"
   ]
  },
  {
   "cell_type": "markdown",
   "id": "04f44845",
   "metadata": {},
   "source": [
    "# B10_TV2"
   ]
  },
  {
   "cell_type": "code",
   "execution_count": 37,
   "id": "6110e3f3",
   "metadata": {},
   "outputs": [],
   "source": [
    "B10_TV2_cracks = [\n",
    "    # crack 1\n",
    "    (dict(y_ref_i=-1 , y_ref_j_min=1, y_ref_j_max=10),\n",
    "     dict(n_x_min = -11, n_x_max = -8, n_x_step=1, n_y_min = 1, n_y_max=5, n_y_step = 1)),\n",
    "    # crack 2\n",
    "    (dict(y_ref_i=-11, y_ref_j_min=1, y_ref_j_max=10),\n",
    "     dict(n_x_min = -16, n_x_max = -13, n_x_step=1, n_y_min = 1, n_y_max=4, n_y_step = 1)),\n",
    "    # crack 3\n",
    "    (dict(y_ref_i=-16, y_ref_j_min=1, y_ref_j_max=10),\n",
    "     dict(n_x_min = -21, n_x_max = -18, n_x_step=1, n_y_min = 1, n_y_max=5, n_y_step = 1)),\n",
    "    # crack 4\n",
    "    (dict(y_ref_i=-21, y_ref_j_min=1, y_ref_j_max=10),\n",
    "     dict(n_x_min = -29, n_x_max = -24, n_x_step=1, n_y_min = 1, n_y_max = 7, n_y_step = 1)),\n",
    "    # crack 5\n",
    "    (dict(y_ref_i=-29, y_ref_j_min=1, y_ref_j_max=10),\n",
    "     dict(n_x_min=-37, n_x_max=-33, n_x_step=1, n_y_min = 1, n_y_max=5, n_y_step = 1)),\n",
    "     # crack 6\n",
    "    (dict(y_ref_i=-37, y_ref_j_min=1, y_ref_j_max=10),\n",
    "     dict(n_x_min=0, n_x_max=14, n_x_step=1, n_y_min = 1, n_y_max=10, n_y_step = 1)),\n",
    "]"
   ]
  },
  {
   "cell_type": "code",
   "execution_count": 38,
   "id": "73f0893d",
   "metadata": {},
   "outputs": [
    {
     "name": "stdout",
     "output_type": "stream",
     "text": [
      "evaluating step 0\n",
      "phi_avg 0.0\n",
      "evaluating step 1\n",
      "phi_avg 0.00017545149186479097\n",
      "evaluating step 2\n",
      "phi_avg 0.0003913160348418573\n",
      "evaluating step 3\n",
      "phi_avg 0.0006368234345455437\n",
      "evaluating step 4\n",
      "phi_avg 0.0008729009125297093\n",
      "evaluating step 5\n",
      "phi_avg 0.001059374145230022\n",
      "evaluating step 6\n",
      "phi_avg 0.0013111483712865428\n",
      "evaluating step 7\n",
      "phi_avg 0.001638695402075936\n",
      "evaluating step 8\n",
      "phi_avg 0.0019059265938414533\n",
      "evaluating step 9\n",
      "phi_avg 0.001962270167191908\n",
      "evaluating step 0\n"
     ]
    },
    {
     "name": "stderr",
     "output_type": "stream",
     "text": [
      "c:\\users\\fahad\\pycharmprojects\\bmcs_shear_zone\\bmcs_shear\\dic_crack\\dic_cor.py:142: RuntimeWarning: invalid value encountered in true_divide\n",
      "  phi = 2 * np.arctan(len_d_0t / len_d_0c)\n"
     ]
    },
    {
     "name": "stdout",
     "output_type": "stream",
     "text": [
      "phi_avg 0.0\n",
      "evaluating step 1\n",
      "phi_avg 0.0002191437146863288\n",
      "evaluating step 2\n",
      "phi_avg 0.000368141225260316\n",
      "evaluating step 3\n",
      "phi_avg 0.0004241326288931568\n",
      "evaluating step 4\n",
      "phi_avg 0.0004258725191167338\n",
      "evaluating step 5\n",
      "phi_avg 0.0007002040148946612\n",
      "evaluating step 6\n",
      "phi_avg 0.0006378608245061055\n",
      "evaluating step 7\n",
      "phi_avg 0.0007753762067577375\n",
      "evaluating step 8\n",
      "phi_avg 0.0008674212637481332\n",
      "evaluating step 0\n",
      "phi_avg 0.0\n",
      "evaluating step 1\n",
      "phi_avg 0.0003168467164471753\n",
      "evaluating step 2\n",
      "phi_avg 0.00039108681674453644\n",
      "evaluating step 3\n",
      "phi_avg 0.0002880506036932947\n",
      "evaluating step 4\n",
      "phi_avg 0.0004363420715320664\n",
      "evaluating step 5\n",
      "phi_avg 0.0006152172306577741\n",
      "evaluating step 6\n",
      "phi_avg 0.0007318803875277346\n",
      "evaluating step 7\n",
      "phi_avg 0.0008390322775951934\n",
      "evaluating step 0\n",
      "phi_avg 0.0\n",
      "evaluating step 1\n",
      "phi_avg 0.000125239960264578\n",
      "evaluating step 2\n",
      "phi_avg 0.0003331404076326799\n",
      "evaluating step 3\n",
      "phi_avg 0.0004191897694039965\n",
      "evaluating step 4\n",
      "phi_avg 0.0004248602542214293\n",
      "evaluating step 5\n",
      "phi_avg 0.0006542512184091633\n",
      "evaluating step 6\n",
      "phi_avg 0.0008152647724765383\n",
      "evaluating step 0\n",
      "phi_avg 0.0\n",
      "evaluating step 1\n",
      "phi_avg 0.0001452134298505371\n",
      "evaluating step 2\n",
      "phi_avg 0.00047197598193954467\n",
      "evaluating step 3\n",
      "phi_avg 0.00030354925586919927\n",
      "evaluating step 4\n",
      "phi_avg 0.00039027150654924475\n",
      "evaluating step 5\n",
      "phi_avg 0.00047064454896121653\n",
      "evaluating step 0\n",
      "phi_avg 0.0\n",
      "evaluating step 1\n",
      "phi_avg 0.00021709619396783911\n",
      "evaluating step 2\n",
      "phi_avg 0.00017473160109420684\n",
      "evaluating step 3\n",
      "phi_avg 0.00019235752696881685\n",
      "evaluating step 4\n",
      "phi_avg 0.000257984083890483\n"
     ]
    },
    {
     "data": {
      "application/vnd.jupyter.widget-view+json": {
       "model_id": "fc7ebdb43b544f60a151ed3fd0137869",
       "version_major": 2,
       "version_minor": 0
      },
      "text/plain": [
       "VBox(children=(HBox(children=(VBox(children=(Tree(layout=Layout(align_items='stretch', border='solid 1px black…"
      ]
     },
     "metadata": {},
     "output_type": "display_data"
    }
   ],
   "source": [
    "dic_grid = DICGrid(n_x=54, n_y=13, d_x = 23, d_y = 23, start_t = 0, end_t =10, U_factor = 1, \n",
    "                   dir_name='B10_TV2', grid_column_first = False, grid_number_vertical = False)\n",
    "dic_insp = DICInspector(dic_grid=dic_grid)\n",
    "dic_insp.dic_cracks.items = construct_dic_cracks(B10_TV2_cracks)\n",
    "dic_insp.interact()"
   ]
  },
  {
   "cell_type": "code",
   "execution_count": null,
   "id": "a73d97c2",
   "metadata": {},
   "outputs": [],
   "source": []
  }
 ],
 "metadata": {
  "kernelspec": {
   "display_name": "Python 3",
   "language": "python",
   "name": "python3"
  },
  "language_info": {
   "codemirror_mode": {
    "name": "ipython",
    "version": 3
   },
   "file_extension": ".py",
   "mimetype": "text/x-python",
   "name": "python",
   "nbconvert_exporter": "python",
   "pygments_lexer": "ipython3",
   "version": "3.9.7"
  }
 },
 "nbformat": 4,
 "nbformat_minor": 5
}
