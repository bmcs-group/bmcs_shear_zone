{
 "cells": [
  {
   "cell_type": "markdown",
   "id": "37f44a69",
   "metadata": {},
   "source": [
    "# DIC Crack Inspector"
   ]
  },
  {
   "cell_type": "code",
   "execution_count": null,
   "id": "08da8ef9",
   "metadata": {},
   "outputs": [],
   "source": [
    "from reportlab.pdfgen import canvas\n",
    "from reportlab.lib.pagesizes import A4\n",
    "from io import BytesIO"
   ]
  },
  {
   "cell_type": "code",
   "execution_count": null,
   "id": "41eef2fc",
   "metadata": {},
   "outputs": [],
   "source": [
    "%matplotlib widget\n",
    "import matplotlib.pylab as plt\n",
    "import matplotlib.gridspec as gridspec\n",
    "from bmcs_shear.dic_crack import sz_tests_series_2023 as ts\n",
    "import numpy as np\n",
    "plt.rc('text', usetex=True)\n",
    "plt.rc('font', family='serif')"
   ]
  },
  {
   "cell_type": "code",
   "execution_count": null,
   "id": "41e4c358",
   "metadata": {},
   "outputs": [],
   "source": [
    "tests = [ts.B1_TV1, ts.B1_TV2, ts.B6_TV1, ts.B6_TV2, ts.B7_TV1, ts.B7_TV2, \n",
    "         ts.B8_TV1, ts.B8_TV2, ts.B9_TV1, ts.B9_TV2, ts.B10_TV1, ts.B10_TV2]"
   ]
  },
  {
   "cell_type": "code",
   "execution_count": null,
   "id": "c8aae58a",
   "metadata": {},
   "outputs": [],
   "source": [
    "def fig_test_subplots():\n",
    "    fig = plt.figure(figsize=(10, 10))\n",
    "    fig.canvas.header_visible = False\n",
    "    grid = gridspec.GridSpec(3, 3, width_ratios=[1, 1, 1], height_ratios=[0.4, 0.4, 0.7])\n",
    "    ax_list = [fig.add_subplot(grid[0, :]),     \n",
    "               fig.add_subplot(grid[1, :2]),\n",
    "               fig.add_subplot(grid[1, 2])] + \\\n",
    "        [fig.add_subplot(grid[2, i]) for i in range(3)]\n",
    "    return fig, ax_list"
   ]
  },
  {
   "cell_type": "code",
   "execution_count": null,
   "id": "769b79f3",
   "metadata": {},
   "outputs": [],
   "source": [
    "active_tests = tests #  [tests[1]]\n",
    "dcl_tests = [ts.new_dcl(test) for test in active_tests]\n",
    "\n"
   ]
  },
  {
   "cell_type": "code",
   "execution_count": null,
   "id": "59646f88",
   "metadata": {},
   "outputs": [],
   "source": [
    "def plot_crack_detection_field(dcl, ax, t_detect=None):\n",
    "    if t_detect is None:\n",
    "        t_detect = dcl.t_detect\n",
    "    dcl.dsf.dic_grid.t = t_detect\n",
    "    xx_MN, yy_MN, cd_field_irn_MN = dcl.dsf.omega_irn_1_MN\n",
    "    cd_field_irn_MN[cd_field_irn_MN<0.1] = 0\n",
    "    contour_levels = np.array([0.15, 0.35, 0.65, 0.85, 1.05], dtype=np.float_)\n",
    "    cs = ax.contourf(xx_MN, yy_MN, cd_field_irn_MN, contour_levels,\n",
    "                            #cmap=cm.GnBu,\n",
    "                            #cmap=cm.coolwarm,\n",
    "                            antialiased=False)\n",
    "    ax.set_aspect(\"equal\")"
   ]
  },
  {
   "cell_type": "code",
   "execution_count": null,
   "id": "17f45322",
   "metadata": {},
   "outputs": [],
   "source": [
    "# dcl = dcl_tests[0]\n",
    "# fig, (ax) = plt.subplots(1,1, figsize=(10,3))\n",
    "# fig.canvas.header_visible=False\n",
    "# plot_crack_detection_field(dcl, ax)\n",
    "# dcl.dsf.dic_grid.sz_bd.plot_sz_bd(ax)\n",
    "# dcl.plot_primary_cracks(ax_cracks=ax)\n",
    "# ax.set_title(f'Test {dcl.dir_name}')\n",
    "# ax.set_aspect(\"equal\")"
   ]
  },
  {
   "cell_type": "code",
   "execution_count": null,
   "id": "fd9be8d0",
   "metadata": {},
   "outputs": [],
   "source": [
    "n_tests = len(dcl_tests)\n",
    "figs = []\n",
    "for dcl in dcl_tests:\n",
    "    fig, (ax, ax_cracks, ax_ld, ax1, ax2, ax3) = fig_test_subplots()\n",
    "    # dcl.bd.plot_sz_bd(ax)\n",
    "    plot_crack_detection_field(dcl, ax)\n",
    "    dcl.dsf.dic_grid.sz_bd.plot_sz_bd(ax)\n",
    "    # dcl.plot_primary_cracks(ax_cracks=ax)\n",
    "    ax.set_title(f'Test specimen {dcl.dir_name}: FE-DIC damage at $F_{{\\max}}$',\n",
    "        loc='left')\n",
    "    ax.title.set_position([.0, 0.95])\n",
    "    ax.set_aspect(\"equal\")\n",
    "\n",
    "    dcl.dsf.plot_crack_detection_field(ax_cracks, fig)\n",
    "    dcl.plot_primary_cracks(ax_cracks=ax_cracks)\n",
    "    ax_cracks.set_aspect(\"equal\")\n",
    "    ax_cracks.set_title(f'Cracks at detection state $t$={dcl.t_detect}$F_{{\\max}}$ extended to ultimate state', loc='left')\n",
    "    ax.title.set_position([0,1])\n",
    "    ax_cracks.set_aspect(\"equal\")\n",
    "\n",
    "    dcl.dsf.dic_grid.dic_inp.plot_load_deflection(ax_ld)\n",
    "    ax_ld.set_title('Load-deflection')\n",
    "\n",
    "    M_Ct, phi_Ct = np.einsum('CMt->MCt', dcl.M_phi_Ct)\n",
    "    phi_Ct = np.rad2deg(phi_Ct)\n",
    "\n",
    "    for i, (cr, M_t, phi_t) in enumerate(zip(dcl.cracks, M_Ct, phi_Ct), start=1):\n",
    "        F_T = cr.dic_grid.dic_inp.F_T\n",
    "        T_range = F_T / F_T[-1]\n",
    "        T_range[T_range<0] = 0\n",
    "        u_Ta = np.max(cr.get_u_crc_Ka(T_range, cr.X_crc_1_Ka[:5,:]), axis=1)\n",
    "        ax1.plot(u_Ta[:, 0], F_T, label=f'crack {cr.name}', color=cr.color)\n",
    "        ax2.plot(u_Ta[:, 1], F_T, label=f'crack {i}', color=cr.color)\n",
    "        ax3.plot(phi_t, M_t, label=f'crack {cr.name}', color=cr.color)\n",
    "    ax1.set_ylabel(r'$F$/kN')\n",
    "    ax1.set_xlabel(r'$w$/mm')\n",
    "    ax1.set_title('Load vs. crack opening')\n",
    "    ax1.grid()\n",
    "\n",
    "    ax2.set_ylabel(r'$F$/kN')\n",
    "    ax2.set_xlabel(r'$s$/mm')\n",
    "    ax2.set_title('Load vs. slip')\n",
    "    ax2.grid()\n",
    "    ax2.legend()\n",
    "\n",
    "    ax3.set_ylabel(r'$M$/kNm')\n",
    "    ax3.set_xlabel(r'$\\phi$/deg')\n",
    "    ax3.set_title('Bending moment vs. tooth rotation')\n",
    "    ax3.grid()\n",
    "\n",
    "    fig.subplots_adjust(wspace=0.3, hspace=0.4)\n",
    "    figs.append(fig)"
   ]
  },
  {
   "cell_type": "markdown",
   "id": "e26a9517",
   "metadata": {},
   "source": [
    "\\begin{equation}\n",
    "M = \\frac{F}{2} (L - X^{cor})\n",
    "\\end{equation}"
   ]
  },
  {
   "cell_type": "code",
   "execution_count": null,
   "id": "f0c90ddf",
   "metadata": {},
   "outputs": [],
   "source": [
    "import os\n",
    "# Function to create a PDF report with figures and text\n",
    "def create_report(filename, figures, texts):\n",
    "    c = canvas.Canvas(filename, pagesize=A4)\n",
    "    \n",
    "    # Add figures to the report\n",
    "    for i, fig in enumerate(figures):\n",
    "        img_data = BytesIO()\n",
    "        fig.savefig(img_data, format='png')\n",
    "        img_data.seek(0)\n",
    "        \n",
    "        # Save the image data to a temporary PNG file\n",
    "        img_path = f\"temp_image_{i}.png\"\n",
    "        with open(img_path, 'wb') as img_file:\n",
    "            img_file.write(img_data.read())\n",
    "        \n",
    "        # Draw the image from the file path\n",
    "        c.drawImage(img_path, 0, 200, width=600, height=400)\n",
    "        \n",
    "        # Delete the temporary image file\n",
    "        os.remove(img_path)\n",
    "        c.showPage()  # Move to the next page\n",
    "    \n",
    "    c.save()\n",
    "\n",
    "# Example figures and text\n",
    "figures = [plt.figure(), plt.figure()]  # Add your matplotlib figures here\n",
    "texts = [\n",
    "    \"This is the report text.\",\n",
    "    \"This is the report text.\",\n",
    "    \"This is the report text.\",\n",
    "    \"This is the report text.\",\n",
    "    \"This is the report text.\",\n",
    "    \"This is the report text.\",\n",
    "    \"This is the report text.\",\n",
    "    \"This is the report text.\",\n",
    "    \"This is the report text.\",\n",
    "    \"This is the report text.\",\n",
    "    \"This is the report text.\",\n",
    "    \"This is the report text.\",\n",
    "]\n",
    "\n",
    "# Create the PDF report\n",
    "create_report(\"report.pdf\", figs, texts)"
   ]
  },
  {
   "cell_type": "code",
   "execution_count": null,
   "id": "e7bc2090",
   "metadata": {},
   "outputs": [],
   "source": [
    "M_tC, phi_tC = np.einsum('CMt->MtC', dsl.M_phi_Ct)\n",
    "M_tC.shape\n"
   ]
  },
  {
   "cell_type": "code",
   "execution_count": null,
   "id": "a19f3252",
   "metadata": {},
   "outputs": [],
   "source": []
  }
 ],
 "metadata": {
  "kernelspec": {
   "display_name": "bmcs_env2",
   "language": "python",
   "name": "bmcs_env2"
  },
  "language_info": {
   "codemirror_mode": {
    "name": "ipython",
    "version": 3
   },
   "file_extension": ".py",
   "mimetype": "text/x-python",
   "name": "python",
   "nbconvert_exporter": "python",
   "pygments_lexer": "ipython3"
  }
 },
 "nbformat": 4,
 "nbformat_minor": 5
}
