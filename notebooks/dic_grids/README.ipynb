{
 "cells": [
  {
   "cell_type": "markdown",
   "id": "9491cc31",
   "metadata": {},
   "source": [
    "# **DIC Shear Zone Inspector**"
   ]
  },
  {
   "cell_type": "markdown",
   "id": "a5b366ad",
   "metadata": {},
   "source": [
    "The base of the present analysis is a grid of points \n",
    "$\n",
    "X_{ija}\n",
    "$\n",
    "with indexes $i\\in(0,N_i-1)$ and $j\\in(0,N_j-1)$ denoting the nodes in horizontal and vertical direction, respectively. The index $a \\in (0,1)$ represents the coordinate in $x$ and $y$ directions."
   ]
  },
  {
   "cell_type": "markdown",
   "id": "78465993",
   "metadata": {},
   "source": [
    "The displacement of these points at time with an index $t$ is denoted as $U_{tija}$ where $U$ denotes the global displacement and is written as:\n",
    "\\begin{equation}\n",
    "U_{tija} = u_{tija} - u_{0ija}\n",
    "\\label{eq: global displacement}\n",
    "\\end{equation}\n",
    "here, $u_{0ija}$ denotes the initial diplacement and $u_{tija}$ depicts the displacement increment at each time step where index $t$ denotes a time step. The displacement field is numerically analyzed to detect the relative center of rotation between the concrete teeth of the cracked zone. "
   ]
  },
  {
   "cell_type": "markdown",
   "id": "c5445f29",
   "metadata": {},
   "source": [
    "Now, the displacement increment to the upper left corner is obtained to find the angle of rotation of the grid of points along the reference boundary line. Therefore, the displacement increment to the upper left corner will be equated as:\n",
    "\\begin{equation}\n",
    "\\Delta u^{ul}_{ija} = U_{tija} - u_{11a}\n",
    "\\label{eq: displacement upper left corner}\n",
    "\\end{equation}\n",
    "where, $u_{11a}$ is the displacement of the referenced left corner. Based on this displacement increment, we can calculate the rotation of the reference boundary line. Hence,\n",
    "\\begin{equation}\n",
    "\\Delta \\alpha = \\sin^{-1}\\left(\\frac{du}{dx}\\right)\n",
    "\\label{eq: delta alpha}\n",
    "\\end{equation}\n"
   ]
  },
  {
   "cell_type": "markdown",
   "id": "ac6bfa70",
   "metadata": {},
   "source": [
    "To find a center of rotation for a single crack in between concrete teeth, a reference frame is selected such that the origin of this reference frame will be:\n",
    "\\begin{equation}\n",
    "X^{ref}_{a} = X_{ija} + \\Delta u^{ul}_{ija}\n",
    "\\label{eq: reference frame}\n",
    "\\end{equation}"
   ]
  },
  {
   "cell_type": "markdown",
   "id": "a393f5d7",
   "metadata": {},
   "source": [
    "and the displacement increment relative to the reference frame will be calculated as:\n",
    "\\begin{equation}\n",
    "\\Delta v^{ul}_{ija} = *Cannot\\,understand*\n",
    "\\end{equation}"
   ]
  },
  {
   "cell_type": "markdown",
   "id": "4657bc84",
   "metadata": {},
   "source": [
    "Now, the rotated grid of points can be written as:\n",
    "\\begin{equation}\n",
    "X^{rot}_{ija} = X_{ija} + \\Delta v^{ul}_{ija} U_{factor}\n",
    "\\label{eq: X_rot}\n",
    "\\end{equation}\n",
    "where $U_{factor}$ is a visualization factor. "
   ]
  },
  {
   "cell_type": "markdown",
   "id": "ae309975",
   "metadata": {},
   "source": [
    "$X^{rot}_{ija}$ and $X_{ija}$ can identify the rotated vector. Now, the perpendicular displacement can be obtained as:\n",
    "\\begin{equation}\n",
    "\\perp u_{aij} = [\\Delta v^{ul}_{tij1}, -\\Delta v^{ul}_{tij0}]\n",
    "\\label{eq: perp vector}\n",
    "\\end{equation}\n",
    "Based on this calculation the perpendicular positions of the grid of point will be:\n",
    "\\begin{equation}\n",
    "X^{perp}_{ija} = X_{ija} + \\perp u_{aij} U_{factor}\n",
    "\\label{eq: X_perp}\n",
    "\\end{equation}\n",
    "Hence, the corresponding perpendicular vector can be found from $X_{ija}$ and $X^{perp}_{ija}$."
   ]
  },
  {
   "cell_type": "markdown",
   "id": "d556eebf",
   "metadata": {},
   "source": [
    "The center of rotation (COR) can be identified as an optimization problem such that for each point movement the COR lies on the normal vector. This can be done by adding an unknown scalar variable $\\eta_p$ defining the position of $\\mathrm{COR}_p$ of a point $p$. Hence, the points on the perpendicular lines with $\\eta_p$ can be calculated as:\n",
    "\\begin{equation}\n",
    "X^{\\mathrm{cor}}_{pa} = X_{pa} + \\eta_p \\perp u_{pa}\n",
    "\\label{eq: X_cor_pa}\n",
    "\\end{equation}"
   ]
  },
  {
   "cell_type": "markdown",
   "id": "13f16a24",
   "metadata": {},
   "source": [
    "Now, the norm of an optimization problem is defined that identifies the value of $\\eta_p$ such that the sum of square of distances between the $COR$ and the individual $COR_p$ of a point $p$ is minimized. Therefore, \n",
    "\\begin{equation}\n",
    "R  = \\sqrt{(X^{cor} - X^{cor}_{pa})^2} (Code \\, unclear)\n",
    "\\label{eq: Residuum}\n",
    "\\end{equation}"
   ]
  },
  {
   "cell_type": "markdown",
   "id": "b7eed1d7",
   "metadata": {},
   "source": [
    "The result will be a crowd of points whose average will depict the center of rotation for a selected grid of points in a concrete teeth. "
   ]
  },
  {
   "cell_type": "code",
   "execution_count": null,
   "id": "28eb9537",
   "metadata": {},
   "outputs": [],
   "source": []
  }
 ],
 "metadata": {
  "kernelspec": {
   "display_name": "Python 3",
   "language": "python",
   "name": "python3"
  },
  "language_info": {
   "codemirror_mode": {
    "name": "ipython",
    "version": 3
   },
   "file_extension": ".py",
   "mimetype": "text/x-python",
   "name": "python",
   "nbconvert_exporter": "python",
   "pygments_lexer": "ipython3",
   "version": "3.8.8"
  }
 },
 "nbformat": 4,
 "nbformat_minor": 5
}
