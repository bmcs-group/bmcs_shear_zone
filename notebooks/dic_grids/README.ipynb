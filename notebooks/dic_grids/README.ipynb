{
 "cells": [
  {
   "cell_type": "markdown",
   "id": "e13a85fc-71ad-4bcc-8855-3be23bdd227c",
   "metadata": {},
   "source": [
    "# **DIC Shear Zone Inspector**"
   ]
  },
  {
   "cell_type": "markdown",
   "id": "a775f1ac-e6a6-4df8-832a-a0e76440baf1",
   "metadata": {},
   "source": [
    "The base of the present analysis is a grid of points \n",
    "$\n",
    "X_{ija}\n",
    "$\n",
    "with indexes $i\\in(0,N_i-1)$ and $j\\in(0,N_j-1)$ denoting the nodes in horizontal and vertical directin, respectively. The index $a \\in (0,1)$ represents the coordinate in $x$ and $y$ directions."
   ]
  },
  {
   "cell_type": "markdown",
   "id": "1fd3835f-346b-4c55-b34e-30469a799bd1",
   "metadata": {},
   "source": [
    "The displacement of these points at time with an index $t$ is denoted as $U_{tija}$"
   ]
  },
  {
   "cell_type": "code",
   "execution_count": null,
   "id": "5bd9f413-f1cf-48d4-923e-1fd58e3d11e9",
   "metadata": {},
   "outputs": [],
   "source": []
  }
 ],
 "metadata": {
  "kernelspec": {
   "display_name": "bmcs_env",
   "language": "python",
   "name": "bmcs_env"
  },
  "language_info": {
   "codemirror_mode": {
    "name": "ipython",
    "version": 3
   },
   "file_extension": ".py",
   "mimetype": "text/x-python",
   "name": "python",
   "nbconvert_exporter": "python",
   "pygments_lexer": "ipython3",
   "version": "3.8.8"
  }
 },
 "nbformat": 4,
 "nbformat_minor": 5
}
