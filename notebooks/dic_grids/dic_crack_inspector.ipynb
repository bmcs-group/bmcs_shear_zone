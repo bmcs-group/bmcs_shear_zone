{
 "cells": [
  {
   "cell_type": "markdown",
   "id": "54b6e742-7681-4c76-9bce-e052ae8abcca",
   "metadata": {},
   "source": [
    "# DIC Crack Inspector"
   ]
  },
  {
   "cell_type": "code",
   "execution_count": 7,
   "id": "e9f7ff95-99f6-4ff1-98e9-e5695e73628a",
   "metadata": {},
   "outputs": [],
   "source": [
    "%matplotlib widget"
   ]
  },
  {
   "cell_type": "code",
   "execution_count": 8,
   "id": "166ae46d-6472-49f5-97ac-48d1c8160019",
   "metadata": {},
   "outputs": [],
   "source": [
    "from bmcs_shear.dic_crack import DICGrid, DICAlignedGrid, DICCOR, DICInspector, DICCrack"
   ]
  },
  {
   "cell_type": "markdown",
   "id": "491c4861-fc99-4950-abdf-b2b40e581c2f",
   "metadata": {},
   "source": [
    "Convenience function to construct cracks"
   ]
  },
  {
   "cell_type": "code",
   "execution_count": 9,
   "id": "f160ac56-060c-4a1e-825e-9510026bc76d",
   "metadata": {},
   "outputs": [],
   "source": [
    "def construct_dic_cracks(cracks):\n",
    "    '''Use the supplied list of crack specifications to construct the DICCrack objects'''\n",
    "    dic_cracks = []\n",
    "    for i, (ref_frame, rot_grid) in enumerate(cracks):\n",
    "        dic_aligned_grid = DICAlignedGrid(dic_grid=dic_grid)\n",
    "        dic_aligned_grid.trait_set(**ref_frame)\n",
    "        dic_cor = DICCOR(dic_aligned_grid=dic_aligned_grid)\n",
    "        dic_cor.trait_set(**rot_grid)\n",
    "        dic_crack = DICCrack(name='crack #%d' % (i+1), dic_cor=dic_cor)\n",
    "        dic_cracks.append(dic_crack)\n",
    "    return dic_cracks"
   ]
  },
  {
   "cell_type": "markdown",
   "id": "145ed75d-544c-4922-98e3-bef65602641c",
   "metadata": {},
   "source": [
    "# B1_TV1"
   ]
  },
  {
   "cell_type": "code",
   "execution_count": 15,
   "id": "b74e3efa-a4da-4253-9d47-3808f6ee7eff",
   "metadata": {},
   "outputs": [],
   "source": [
    "B1_TV1_cracks = [\n",
    "    # crack 1\n",
    "    (dict(y_ref_i=-1, y_ref_j_min=1, y_ref_j_max=10),\n",
    "     dict(n_x_min = -7, n_x_max = -6, n_x_step=1, n_y_min = 1, n_y_max=8, n_y_step = 1)),\n",
    "    # crack 2\n",
    "    (dict(y_ref_i=-7, y_ref_j_min=1, y_ref_j_max=10),\n",
    "     dict(n_x_min = -13, n_x_max = -10, n_x_step=1, n_y_min = 1, n_y_max=8, n_y_step = 1)),\n",
    "    # crack 3\n",
    "    (dict(y_ref_i=-12, y_ref_j_min=1, y_ref_j_max=10),\n",
    "     dict(n_x_min = -20, n_x_max = -18, n_x_step=1, n_y_min = 1, n_y_max=6, n_y_step = 1)),\n",
    "    # crack 4\n",
    "    (dict(y_ref_i=-17, y_ref_j_min=1, y_ref_j_max=10),\n",
    "     dict(n_x_min = 29, n_x_max = 37, n_x_step=2, n_y_min = 7, n_y_step = 2)),\n",
    "    # crack 5\n",
    "    (dict(y_ref_i=-30, y_ref_j_min=1, y_ref_j_max=10),\n",
    "     dict(n_x_min=-35, n_x_max=-32, n_x_step=1, n_y_min = 2, n_y_max=12, n_y_step = 2)),\n",
    "    # crack 6\n",
    "    (dict(y_ref_i=-35, y_ref_j_min=1, y_ref_j_max=10),\n",
    "     dict(n_x_min=-44, n_x_max=-40, n_x_step=1, n_y_min = 2, n_y_max=5, n_y_step = 1))\n",
    "]"
   ]
  },
  {
   "cell_type": "code",
   "execution_count": 16,
   "id": "33f2f538-5f94-4e6b-b974-a1cd7d27161a",
   "metadata": {},
   "outputs": [
    {
     "data": {
      "application/vnd.jupyter.widget-view+json": {
       "model_id": "6d9d867213b944959a8323d3d5276434",
       "version_major": 2,
       "version_minor": 0
      },
      "text/plain": [
       "VBox(children=(HBox(children=(VBox(children=(Tree(layout=Layout(align_items='stretch', border='solid 1px black…"
      ]
     },
     "metadata": {},
     "output_type": "display_data"
    }
   ],
   "source": [
    "dic_grid = DICGrid(n_x=59, n_y=15, d_x = 22, d_y = 22,  \n",
    "                   start_t = 0, end_t =8, U_factor = 1, dir_name='B1_TV1')\n",
    "dic_insp = DICInspector(dic_grid=dic_grid)\n",
    "dic_insp.dic_cracks.items = construct_dic_cracks(B1_TV1_cracks)\n",
    "dic_insp.interact()"
   ]
  },
  {
   "cell_type": "code",
   "execution_count": 17,
   "id": "12a91f96-b5e6-41d6-9221-cc7f557e416c",
   "metadata": {},
   "outputs": [],
   "source": [
    "dic_cor = dic_insp.dic_cracks.items[1].dic_cor"
   ]
  },
  {
   "cell_type": "code",
   "execution_count": 18,
   "id": "34fa976f-c582-44d5-a5c5-912b00bedf0a",
   "metadata": {},
   "outputs": [
    {
     "data": {
      "text/plain": [
       "array([132.,  22.])"
      ]
     },
     "execution_count": 18,
     "metadata": {},
     "output_type": "execute_result"
    }
   ],
   "source": [
    "dic_cor.dic_aligned_grid.X_ref_a"
   ]
  },
  {
   "cell_type": "code",
   "execution_count": 19,
   "id": "5cba3f6b-4993-42c3-a2bd-cf1252cff2fa",
   "metadata": {},
   "outputs": [
    {
     "data": {
      "text/plain": [
       "(array([104.31014689, 230.06426287]), array([104.69341516, 230.11491026]))"
      ]
     },
     "execution_count": 19,
     "metadata": {},
     "output_type": "execute_result"
    }
   ],
   "source": [
    "dic_cor.X_cor, dic_cor.X_cor_b"
   ]
  },
  {
   "cell_type": "markdown",
   "id": "b83d14bc-97de-4e9f-a085-30d7e5c8db43",
   "metadata": {},
   "source": [
    "# B6_TV1"
   ]
  },
  {
   "cell_type": "code",
   "execution_count": 28,
   "id": "4fe9ff91-7fb3-411e-bfac-8d591599f8c0",
   "metadata": {},
   "outputs": [],
   "source": [
    "B6_TV1_cracks = [\n",
    "    # crask 1\n",
    "    (dict(y_ref_i=-1, y_ref_j_min=1, y_ref_j_max=10),\n",
    "     dict(n_x_min = -7, n_x_max = -3, n_x_step=1, n_y_min = 1, n_y_max=10, n_y_step = 1)),\n",
    "    # crask 2\n",
    "    (dict(y_ref_i=-7, y_ref_j_min=1, y_ref_j_max=10),\n",
    "     dict(n_x_min = -10, n_x_max = -9, n_x_step=1, n_y_min = 1, n_y_max=10, n_y_step = 1)),\n",
    "    # crack 3\n",
    "    (dict(y_ref_i=-10, y_ref_j_min=1, y_ref_j_max=10),\n",
    "     dict(n_x_min = -16, n_x_max = -13, n_x_step=1, n_y_min = 1, n_y_max=8, n_y_step = 1)),\n",
    "    # crack 4\n",
    "    (dict(y_ref_i=-13, y_ref_j_min=1, y_ref_j_max=10),\n",
    "     dict(n_x_min = -20, n_x_max = -18, n_x_step=1, n_y_min = 1, n_y_max=7, n_y_step = 1)),\n",
    "    # crack 5\n",
    "    (dict(y_ref_i=-19, y_ref_j_min=1, y_ref_j_max=10),\n",
    "     dict(n_x_min = -22, n_x_max = -20, n_x_step=1, n_y_min = 10, n_y_max=-1, n_y_step = 1)),\n",
    "    # crack 6\n",
    "    (dict(y_ref_i=-27, y_ref_j_min=1, y_ref_j_max=10),\n",
    "     dict(n_x_min = -35, n_x_max = -31, n_x_step=1, n_y_min = 1, n_y_max=10, n_y_step = 2))\n",
    "]"
   ]
  },
  {
   "cell_type": "code",
   "execution_count": 29,
   "id": "22d3aa53-2b8c-49d8-99ba-948716ef64a2",
   "metadata": {},
   "outputs": [
    {
     "data": {
      "application/vnd.jupyter.widget-view+json": {
       "model_id": "798ffae5335e489ca76b9e19e96a8c70",
       "version_major": 2,
       "version_minor": 0
      },
      "text/plain": [
       "VBox(children=(HBox(children=(VBox(children=(Tree(layout=Layout(align_items='stretch', border='solid 1px black…"
      ]
     },
     "metadata": {},
     "output_type": "display_data"
    }
   ],
   "source": [
    "dic_grid = DICGrid(n_x=58, n_y=15, d_x = 22, d_y = 22, \n",
    "                     start_t = 0, end_t =8, U_factor = 1, dir_name='B6_TV1')\n",
    "dic_insp = DICInspector(dic_grid=dic_grid)\n",
    "dic_insp.dic_cracks.items = construct_dic_cracks(B6_TV1_cracks)\n",
    "dic_insp.interact()"
   ]
  },
  {
   "cell_type": "code",
   "execution_count": null,
   "id": "6a24484b-e13a-4458-a116-2f491601ae57",
   "metadata": {},
   "outputs": [],
   "source": []
  },
  {
   "cell_type": "code",
   "execution_count": null,
   "id": "12185965-4ade-4c1d-96aa-485c7f38eccc",
   "metadata": {},
   "outputs": [],
   "source": []
  }
 ],
 "metadata": {
  "kernelspec": {
   "display_name": "bmcs_env",
   "language": "python",
   "name": "bmcs_env"
  },
  "language_info": {
   "codemirror_mode": {
    "name": "ipython",
    "version": 3
   },
   "file_extension": ".py",
   "mimetype": "text/x-python",
   "name": "python",
   "nbconvert_exporter": "python",
   "pygments_lexer": "ipython3",
   "version": "3.8.8"
  }
 },
 "nbformat": 4,
 "nbformat_minor": 5
}
