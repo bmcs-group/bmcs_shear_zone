{
 "cells": [
  {
   "cell_type": "markdown",
   "id": "f7094662",
   "metadata": {},
   "source": [
    "# DIC Crack Inspector"
   ]
  },
  {
   "cell_type": "code",
   "execution_count": 1,
   "id": "62538a5c",
   "metadata": {},
   "outputs": [],
   "source": [
    "%matplotlib widget"
   ]
  },
  {
   "cell_type": "code",
   "execution_count": 2,
   "id": "667233d9",
   "metadata": {},
   "outputs": [],
   "source": [
    "from bmcs_shear.dic_crack import DICGrid, DICAlignedGrid, DICCOR, DICInspector, DICCrack"
   ]
  },
  {
   "cell_type": "markdown",
   "id": "f3856d82",
   "metadata": {},
   "source": [
    "Convenience function to construct cracks"
   ]
  },
  {
   "cell_type": "code",
   "execution_count": 3,
   "id": "bd61d20d",
   "metadata": {},
   "outputs": [],
   "source": [
    "def construct_dic_cracks(cracks):\n",
    "    '''Use the supplied list of crack specifications to construct the DICCrack objects'''\n",
    "    dic_cracks = []\n",
    "    for i, (ref_frame, rot_grid) in enumerate(cracks):\n",
    "        dic_aligned_grid = DICAlignedGrid(dic_grid=dic_grid)\n",
    "        dic_aligned_grid.trait_set(**ref_frame)\n",
    "        dic_cor = DICCOR(dic_aligned_grid=dic_aligned_grid)\n",
    "        dic_cor.trait_set(**rot_grid)\n",
    "        dic_crack = DICCrack(name='crack #%d' % (i+1), dic_cor=dic_cor)\n",
    "        dic_cracks.append(dic_crack)\n",
    "    return dic_cracks"
   ]
  },
  {
   "cell_type": "markdown",
   "id": "d90ef3a9",
   "metadata": {},
   "source": [
    "# B1_TV1"
   ]
  },
  {
   "cell_type": "code",
   "execution_count": 4,
   "id": "bc3dc4ed",
   "metadata": {},
   "outputs": [],
   "source": [
    "B1_TV1_cracks = [\n",
    "#     # crack 1\n",
    "#     (dict(y_ref_i=-1, y_ref_j_min=1, y_ref_j_max=10),\n",
    "#      dict(n_x_min = -7, n_x_max = -6, n_x_step=1, n_y_min = 1, n_y_max=-2, n_y_step = 1)),\n",
    "#     # crack 2\n",
    "#     (dict(y_ref_i=-7, y_ref_j_min=1, y_ref_j_max=10),\n",
    "#      dict(n_x_min = -13, n_x_max = -10, n_x_step=1, n_y_min = 1, n_y_max=-1, n_y_step = 1)),\n",
    "#     # crack 3\n",
    "#     (dict(y_ref_i=-11, y_ref_j_min=1, y_ref_j_max=10),\n",
    "#      dict(n_x_min = -20, n_x_max = -17, n_x_step=1, n_y_min = 1, n_y_max=7, n_y_step = 1)),\n",
    "    # crack 4\n",
    "    (dict(y_ref_i=-20, y_ref_j_min=1, y_ref_j_max=10),\n",
    "     dict(n_x_min = 29, n_x_max = 37, n_x_step=1, n_y_min = 7, n_y_step = 1)),\n",
    "#     # crack 5\n",
    "#     (dict(y_ref_i=-28, y_ref_j_min=1, y_ref_j_max=10),\n",
    "#      dict(n_x_min=-35, n_x_max=-32, n_x_step=1, n_y_min = 2, n_y_max=12, n_y_step = 1)),\n",
    "#     # crack 6\n",
    "#     (dict(y_ref_i=-33, y_ref_j_min=1, y_ref_j_max=10),\n",
    "#      dict(n_x_min=-46, n_x_max=-39, n_x_step=2, n_y_min = 6, n_y_max=-1, n_y_step = 2)),\n",
    "#     # crack 7\n",
    "#     (dict(y_ref_i=13, y_ref_j_min=1, y_ref_j_max=10),\n",
    "#      dict(n_x_min=1, n_x_max=8, n_x_step=2, n_y_min = 2, n_y_max=10, n_y_step = 2)),\n",
    "]"
   ]
  },
  {
   "cell_type": "code",
   "execution_count": 5,
   "id": "2e3091e0",
   "metadata": {},
   "outputs": [
    {
     "name": "stdout",
     "output_type": "stream",
     "text": [
      "0.001814546375133464\n"
     ]
    },
    {
     "data": {
      "application/vnd.jupyter.widget-view+json": {
       "model_id": "b639223587ca47038008d41bddd8a496",
       "version_major": 2,
       "version_minor": 0
      },
      "text/plain": [
       "VBox(children=(HBox(children=(VBox(children=(Tree(layout=Layout(align_items='stretch', border='solid 1px black…"
      ]
     },
     "metadata": {},
     "output_type": "display_data"
    }
   ],
   "source": [
    "dic_grid = DICGrid(n_x=59, n_y=15, d_x = 22, d_y = 22,  \n",
    "                   start_t = 0, end_t =18, U_factor = 1, dir_name='B1_TV1')\n",
    "dic_insp = DICInspector(dic_grid=dic_grid)\n",
    "dic_insp.dic_cracks.items = construct_dic_cracks(B1_TV1_cracks)\n",
    "dic_insp.interact()"
   ]
  },
  {
   "cell_type": "code",
   "execution_count": null,
   "id": "98569e35",
   "metadata": {},
   "outputs": [],
   "source": [
    "dic_cor= DICCOR()"
   ]
  },
  {
   "cell_type": "code",
   "execution_count": null,
   "id": "2972069e",
   "metadata": {},
   "outputs": [],
   "source": [
    "dic_cor = dic_insp.dic_cracks.items[1].dic_cor"
   ]
  },
  {
   "cell_type": "code",
   "execution_count": null,
   "id": "0c7132c0",
   "metadata": {},
   "outputs": [],
   "source": [
    "dic_cor.dic_aligned_grid.X_ref_a"
   ]
  },
  {
   "cell_type": "code",
   "execution_count": null,
   "id": "4a67173a",
   "metadata": {},
   "outputs": [],
   "source": [
    "dic_cor.X_cor, dic_cor.X_cor_b"
   ]
  },
  {
   "cell_type": "markdown",
   "id": "31e0d05f",
   "metadata": {},
   "source": [
    "# B6_TV1"
   ]
  },
  {
   "cell_type": "code",
   "execution_count": null,
   "id": "bf74f881",
   "metadata": {},
   "outputs": [],
   "source": [
    "B6_TV1_cracks = [\n",
    "#     # crask 1\n",
    "#     (dict(y_ref_i=-1, y_ref_j_min=1, y_ref_j_max=10),\n",
    "#      dict(n_x_min = -10, n_x_max = -9, n_x_step=1, n_y_min = 1, n_y_max=10, n_y_step = 1)),\n",
    "#     # crack 2\n",
    "#     (dict(y_ref_i=-10, y_ref_j_min=1, y_ref_j_max=10),\n",
    "#      dict(n_x_min = -16, n_x_max = -13, n_x_step=1, n_y_min = 1, n_y_max=10, n_y_step = 1)),\n",
    "#     # crack 3\n",
    "#     (dict(y_ref_i=-15, y_ref_j_min=1, y_ref_j_max=10),\n",
    "#      dict(n_x_min = -20, n_x_max = -18, n_x_step=1, n_y_min = 1, n_y_max=7, n_y_step = 1)),\n",
    "    # crack 4\n",
    "    (dict(y_ref_i=-21, y_ref_j_min=1, y_ref_j_max=10),\n",
    "     dict(n_x_min = -29, n_x_max = -23, n_x_step=1, n_y_min = 4, n_y_max=-1, n_y_step = 1)),\n",
    "#     # crack 5\n",
    "#     (dict(y_ref_i=31, y_ref_j_min=1, y_ref_j_max=10),\n",
    "#      dict(n_x_min = 21, n_x_max = 26, n_x_step=1, n_y_min =3, n_y_max=-1, n_y_step = 1)),\n",
    "#     # crack 6\n",
    "#     (dict(y_ref_i=22, y_ref_j_min=1, y_ref_j_max=10),#22\n",
    "#      dict(n_x_min = 1, n_x_max = 14, n_x_step=2, n_y_min = 3, n_y_max=-3, n_y_step = 2))\n",
    "]"
   ]
  },
  {
   "cell_type": "code",
   "execution_count": null,
   "id": "ed152c66",
   "metadata": {},
   "outputs": [],
   "source": [
    "dic_grid = DICGrid(n_x=58, n_y=15, d_x = 22, d_y = 22, \n",
    "                     start_t = 0, end_t =24, U_factor = 1, dir_name='B6_TV1')\n",
    "dic_insp = DICInspector(dic_grid=dic_grid)\n",
    "dic_insp.dic_cracks.items = construct_dic_cracks(B6_TV1_cracks)\n",
    "dic_insp.interact()"
   ]
  },
  {
   "cell_type": "markdown",
   "id": "b719b73f",
   "metadata": {},
   "source": [
    "# B7_TV1"
   ]
  },
  {
   "cell_type": "code",
   "execution_count": null,
   "id": "9e5f7aa4",
   "metadata": {},
   "outputs": [],
   "source": [
    "B7_TV1_cracks = [\n",
    "    # crask 1\n",
    "    (dict(y_ref_i=-1, y_ref_j_min=1, y_ref_j_max=10),\n",
    "     dict(n_x_min = -11, n_x_max = -9, n_x_step=1, n_y_min = 1, n_y_max=10, n_y_step = 1)),\n",
    "    # crack 2\n",
    "    (dict(y_ref_i=-12, y_ref_j_min=1, y_ref_j_max=10),\n",
    "     dict(n_x_min = -20, n_x_max = -16, n_x_step=1, n_y_min = 1, n_y_max=10, n_y_step = 1)),\n",
    "     # crack 3\n",
    "     (dict(y_ref_i=-21, y_ref_j_min=1, y_ref_j_max=10),\n",
    "      dict(n_x_min = 32, n_x_max = 33, n_x_step=1, n_y_min = 1, n_y_max=8, n_y_step = 1)),\n",
    "     # crack 4\n",
    "     (dict(y_ref_i=32, y_ref_j_min=1, y_ref_j_max=10),\n",
    "      dict(n_x_min = 23, n_x_max = 26, n_x_step=1, n_y_min = 1, n_y_max=7, n_y_step = 1)),\n",
    "     # crack 5\n",
    "     (dict(y_ref_i=25, y_ref_j_min=1, y_ref_j_max=10),\n",
    "      dict(n_x_min = 0, n_x_max = 18, n_x_step=2, n_y_min = 1, n_y_max=-1, n_y_step = 2)),\n",
    "]"
   ]
  },
  {
   "cell_type": "code",
   "execution_count": null,
   "id": "794db144",
   "metadata": {},
   "outputs": [],
   "source": [
    "dic_grid = DICGrid(n_x=58, n_y=14, d_x = 22, d_y = 22, \n",
    "                     start_t = 0, end_t =9, U_factor = 1, dir_name='B7_TV1')\n",
    "dic_insp = DICInspector(dic_grid=dic_grid)\n",
    "dic_insp.dic_cracks.items = construct_dic_cracks(B7_TV1_cracks)\n",
    "dic_insp.interact()"
   ]
  },
  {
   "cell_type": "markdown",
   "id": "641907d6",
   "metadata": {},
   "source": [
    "# B1_TV2"
   ]
  },
  {
   "cell_type": "code",
   "execution_count": null,
   "id": "07ab5553",
   "metadata": {},
   "outputs": [],
   "source": [
    "B1_TV2_cracks = [\n",
    "    # crask 1\n",
    "    (dict(y_ref_i=-1, y_ref_j_min=1, y_ref_j_max=10),\n",
    "     dict(n_x_min = -9, n_x_max = -7, n_x_step=1, n_y_min = 1, n_y_max=8, n_y_step = 1)),\n",
    "    # crack 2\n",
    "    (dict(y_ref_i=-9, y_ref_j_min=1, y_ref_j_max=10),\n",
    "     dict(n_x_min = -20, n_x_max = -15, n_x_step=1, n_y_min = 5, n_y_max=9, n_y_step = 1)),\n",
    "     # crack 3\n",
    "     (dict(y_ref_i=-21, y_ref_j_min=1, y_ref_j_max=10),\n",
    "      dict(n_x_min = -31, n_x_max = -26, n_x_step=1, n_y_min = 3, n_y_max=8, n_y_step = 1)),\n",
    "#      # crack 4\n",
    "#      (dict(y_ref_i=26, y_ref_j_min=1, y_ref_j_max=10),\n",
    "#       dict(n_x_min = 20, n_x_max = 22, n_x_step=1, n_y_min = 1, n_y_max=7, n_y_step = 1)),\n",
    "#      # crack 5\n",
    "#      (dict(y_ref_i=13, y_ref_j_min=1, y_ref_j_max=10), #13\n",
    "#       dict(n_x_min =2, n_x_max = 8, n_x_step=2, n_y_min = 4, n_y_max=-1, n_y_step = 2)),\n",
    "]"
   ]
  },
  {
   "cell_type": "code",
   "execution_count": null,
   "id": "c1029140",
   "metadata": {},
   "outputs": [],
   "source": [
    "dic_grid = DICGrid(n_x=57, n_y=15, d_x = 22, d_y = 22, \n",
    "                     start_t = 0, end_t =24, U_factor = 1, dir_name='B1_TV2')\n",
    "dic_insp = DICInspector(dic_grid=dic_grid)\n",
    "dic_insp.dic_cracks.items = construct_dic_cracks(B1_TV2_cracks)\n",
    "dic_insp.interact()"
   ]
  },
  {
   "cell_type": "markdown",
   "id": "bec55769",
   "metadata": {},
   "source": [
    "# B6_TV2"
   ]
  },
  {
   "cell_type": "code",
   "execution_count": null,
   "id": "a7785c0a",
   "metadata": {},
   "outputs": [],
   "source": [
    "B6_TV2_cracks = [\n",
    "    # crask 1\n",
    "    (dict(y_ref_i=-1, y_ref_j_min=1, y_ref_j_max=10),\n",
    "     dict(n_x_min = -9, n_x_max = -6, n_x_step=1, n_y_min = 1, n_y_max=10, n_y_step = 1)),\n",
    "    # crack 2\n",
    "    (dict(y_ref_i=-9, y_ref_j_min=1, y_ref_j_max=10),\n",
    "     dict(n_x_min = -15, n_x_max = -12, n_x_step=1, n_y_min = 5, n_y_max=10, n_y_step = 1)),\n",
    "     # crack 3\n",
    "     (dict(y_ref_i=-13, y_ref_j_min=1, y_ref_j_max=10),\n",
    "      dict(n_x_min = -19, n_x_max = -17, n_x_step=1, n_y_min = 1, n_y_max=8, n_y_step = 1)),\n",
    "     # crack 4\n",
    "     (dict(y_ref_i=-18, y_ref_j_min=1, y_ref_j_max=10),\n",
    "      dict(n_x_min = -25, n_x_max = -23, n_x_step=1, n_y_min = 1, n_y_max=-1, n_y_step = 1)),\n",
    "    # crack 5\n",
    "    (dict(y_ref_i=-25, y_ref_j_min=1, y_ref_j_max=10),\n",
    "    dict(n_x_min = -29, n_x_max = -28, n_x_step=1, n_y_min = 7, n_y_max=-1, n_y_step = 1)),\n",
    "#     # crack 6\n",
    "#     (dict(y_ref_i=-29, y_ref_j_min=1, y_ref_j_max=10),\n",
    "#     dict(n_x_min = 20, n_x_max = 22, n_x_step=1, n_y_min = 1, n_y_max=-1, n_y_step = 1)),\n",
    "# #     # crack 7\n",
    "# #     (dict(y_ref_i=20, y_ref_j_min=1, y_ref_j_max=10),\n",
    "# #     dict(n_x_min =12, n_x_max = 18, n_x_step=1, n_y_min = 1, n_y_max = 4, n_y_step = 1)),\n",
    "#     # crack 7\n",
    "#     (dict(y_ref_i=-18, y_ref_j_min=1, y_ref_j_max=10), #14 20\n",
    "#     dict(n_x_min =1, n_x_max = 8, n_x_step=1, n_y_min = 1, n_y_max = 5, n_y_step = 1)),\n",
    "]"
   ]
  },
  {
   "cell_type": "code",
   "execution_count": null,
   "id": "782a5c70",
   "metadata": {},
   "outputs": [],
   "source": [
    "dic_grid = DICGrid(n_x=58, n_y=14, d_x = 22, d_y = 22, \n",
    "                     start_t = 0, end_t =25, U_factor = 1, dir_name='B6_TV2')\n",
    "dic_insp = DICInspector(dic_grid=dic_grid)\n",
    "dic_insp.dic_cracks.items = construct_dic_cracks(B6_TV2_cracks)\n",
    "dic_insp.interact()"
   ]
  },
  {
   "cell_type": "code",
   "execution_count": null,
   "id": "f3adfa30",
   "metadata": {},
   "outputs": [],
   "source": []
  }
 ],
 "metadata": {
  "kernelspec": {
   "display_name": "Python 3",
   "language": "python",
   "name": "python3"
  },
  "language_info": {
   "codemirror_mode": {
    "name": "ipython",
    "version": 3
   },
   "file_extension": ".py",
   "mimetype": "text/x-python",
   "name": "python",
   "nbconvert_exporter": "python",
   "pygments_lexer": "ipython3",
   "version": "3.8.8"
  }
 },
 "nbformat": 4,
 "nbformat_minor": 5
}
