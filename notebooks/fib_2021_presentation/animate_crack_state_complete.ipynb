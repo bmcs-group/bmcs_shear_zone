{
 "cells": [
  {
   "cell_type": "code",
   "execution_count": null,
   "id": "ab930b11",
   "metadata": {},
   "outputs": [],
   "source": [
    "%matplotlib widget\n",
    "import bmcs_utils.api as bu\n",
    "from bmcs_cross_section.api import ReinfLayer\n",
    "from bmcs_shear.shear_crack.crack_tip_orientation import CrackStateAnimator\n",
    "#from bmcs_shear.shear_crack.crack_extension import CrackStateAnimator\n",
    "ce = CrackStateAnimator()\n",
    "ce.sz_bd.cmm.trait_set(tau_1 = 4, s_1 = 0.2, tau_2 = 3, tau_3 = 2, s_2 = 1.4, s_3 = 5)\n",
    "x_00=250\n",
    "ce.sz_cp.trait_set(x_00=x_00, n_m = 15)\n",
    "ce.sz_bd.Rectangle = True\n",
    "ce.sz_bd.trait_set(H=300, B=200, L=500)\n",
    "ce.sz_cp.add_x_tip_an([x_00-10, 50]) \n",
    "ce.sz_cp.add_x_tip_an([x_00-30, 100]) \n",
    "\n",
    "bl1 = ReinfLayer(name='layer1', z=44, A=ce.sz_bd.smm.A_f, matmod='steel')\n",
    "bl1.matmod_.trait_set(E=ce.sz_bd.smm.E_f, f_t=ce.sz_bd.smm.sig_y)\n",
    "ce.sz_bd.cross_section_layout.add_layer(bl1)\n",
    "ce.sz_bd\n",
    "ce.sz_cp.sz_ctr.w = 10\n",
    "#ce.sz_bd.cross_section_layout.reinforcement[0].trait_set(z=20, A=1, E=1)"
   ]
  },
  {
   "cell_type": "code",
   "execution_count": null,
   "id": "2db00914",
   "metadata": {},
   "outputs": [],
   "source": [
    "ce.interact()"
   ]
  },
  {
   "cell_type": "code",
   "execution_count": null,
   "id": "7f4cb588",
   "metadata": {},
   "outputs": [],
   "source": [
    "%%capture\n",
    "import numpy as np\n",
    "import matplotlib.pylab as plt\n",
    "from matplotlib import animation, rc\n",
    "\n",
    "fig = plt.figure(figsize=(13,6))\n",
    "fig.canvas.header_visible = False\n",
    "\n",
    "psi_range = np.linspace(0, np.pi/4, 15)\n",
    "psi_range = np.hstack([psi_range, psi_range[-1:0:-1]])\n",
    "\n",
    "ce.sz_cp.sz_ctr.x_rot_1k = 200\n",
    "\n",
    "x_rot_1k = ce.sz_cp.sz_ctr.x_rot_1k\n",
    "\n",
    "w_range = np.linspace(0, 40, 15)\n",
    "w_range = np.hstack([w_range, w_range[-1:0:-1]])\n",
    "\n",
    "\n",
    "def plot_crack_path(i):\n",
    "    ce.psi_slider = psi_range[i]\n",
    "    #ce.x_rot_1k_slider = x_rot_1k\n",
    "    ce.w_slider = w_range[i]\n",
    "    fig.clf()\n",
    "    axes = ce.sz_cp.subplots(fig)\n",
    "    ce.sz_cp.update_plot(axes)\n",
    "    axes.set_ylim(ymin=-10, ymax=320)\n",
    "    axes.set_xlim(xmin = 295, xmax=296)\n",
    "    \n",
    "\n",
    "def plot_crack_tip_rotation(i):\n",
    "    ce.psi_slider = psi_range[i]\n",
    "    #ce.x_rot_1k_slider = x_rot_1k\n",
    "    ce.w_slider = w_range[i]\n",
    "    fig.clf()\n",
    "    axes = ce.sz_cp.sz_ctr.subplots(fig)\n",
    "    ce.sz_cp.sz_ctr.update_plot(axes)\n",
    "    axes.set_xlim(xmin=50, xmax=350)\n",
    "    \n",
    "\n",
    "def plot_stress_state(i):\n",
    "    ce.psi_slider = psi_range[i]\n",
    "    fig.clf()\n",
    "    axes = ce.sz_stress_profile.subplots(fig)\n",
    "    ce.sz_stress_profile.update_plot(axes)\n",
    "    ax_u_0, ax_w_0, ax_S_0, ax_F_0, ax_u_1, ax_w_1, ax_S_1, ax_F_1 = axes\n",
    "    \n",
    "    \n",
    "def plot_deformed_state(i):\n",
    "    ce.psi_slider = psi_range[i]\n",
    "    ce.x_rot_1k_slider = x_rot_1k\n",
    "    fig.clf()\n",
    "    axes = ce.sz_stress_profile.ds.subplots(fig)\n",
    "    ce.sz_stress_profile.ds.update_plot(axes)\n",
    "    axes.set_ylim(ymin=-10, ymax=340)\n",
    "    axes.set_xlim(xmin = 295, xmax=296)"
   ]
  },
  {
   "cell_type": "code",
   "execution_count": null,
   "id": "0bdaa894",
   "metadata": {},
   "outputs": [],
   "source": [
    "def html5_crack_path_video():\n",
    "    n_t = len(psi_range)\n",
    "    # call the animator. blit=True means only re-draw the parts that have changed.\n",
    "    anim = animation.FuncAnimation(fig, plot_crack_path,\n",
    "                                   frames=n_t, interval=100, blit=True)\n",
    "    return anim.to_html5_video()\n",
    "\n",
    "\n",
    "def html5_crack_tip_rotation_video():\n",
    "    n_t = len(psi_range)\n",
    "    # call the animator. blit=True means only re-draw the parts that have changed.\n",
    "    anim = animation.FuncAnimation(fig, plot_crack_tip_rotation,\n",
    "                                   frames=n_t, interval=100, blit=True)\n",
    "    return anim.to_html5_video()\n",
    "\n",
    "def html5_stress_state_video():\n",
    "    n_t = len(psi_range)\n",
    "    # call the animator. blit=True means only re-draw the parts that have changed.\n",
    "    anim = animation.FuncAnimation(fig, plot_stress_state,\n",
    "                                   frames=n_t, interval=150, blit=True)\n",
    "    return anim.to_html5_video()\n",
    "\n",
    "def html5_deformed_state_video():\n",
    "    n_t = len(psi_range)\n",
    "    # call the animator. blit=True means only re-draw the parts that have changed.\n",
    "    anim = animation.FuncAnimation(fig, plot_deformed_state,\n",
    "                                   frames=n_t, interval=100, blit=True)\n",
    "    return anim.to_html5_video()"
   ]
  },
  {
   "cell_type": "code",
   "execution_count": null,
   "id": "0fa61de4",
   "metadata": {},
   "outputs": [],
   "source": [
    "import os.path\n",
    "home_dir = os.path.expanduser('~')\n",
    "anim_dir = os.path.join(home_dir, 'generated_animation')\n",
    "if not os.path.exists(anim_dir):\n",
    "    os.makedirs(anim_dir)"
   ]
  },
  {
   "cell_type": "code",
   "execution_count": null,
   "id": "8ca41da4",
   "metadata": {},
   "outputs": [],
   "source": [
    "%%capture\n",
    "crack_path_anim_file = os.path.join(anim_dir, 'crack_path.html')\n",
    "with open(crack_path_anim_file,'w') as html_video_file:\n",
    "    html_video_file.write(html5_crack_path_video())"
   ]
  },
  {
   "cell_type": "code",
   "execution_count": null,
   "id": "d358bd28",
   "metadata": {},
   "outputs": [],
   "source": [
    "%%capture\n",
    "crack_tip_rotation_anim_file = os.path.join(anim_dir, 'crack_tip_rotation.html')\n",
    "with open(crack_tip_rotation_anim_file,'w') as html_video_file:\n",
    "    html_video_file.write(html5_crack_tip_rotation_video())"
   ]
  },
  {
   "cell_type": "code",
   "execution_count": null,
   "id": "18c57229",
   "metadata": {},
   "outputs": [],
   "source": [
    "%%capture\n",
    "stress_anim_file = os.path.join(anim_dir, 'stress_state_animation.html')\n",
    "with open(stress_anim_file,'w') as html_video_file:\n",
    "    html_video_file.write(html5_stress_state_video())"
   ]
  },
  {
   "cell_type": "code",
   "execution_count": null,
   "id": "4c615aae",
   "metadata": {},
   "outputs": [],
   "source": [
    "%%capture\n",
    "deformed_anim_file = os.path.join(anim_dir, 'deformed_state_animation.html')\n",
    "with open(deformed_anim_file,'w') as html_video_file:\n",
    "    html_video_file.write(html5_deformed_state_video())"
   ]
  },
  {
   "cell_type": "code",
   "execution_count": null,
   "id": "17b85b3a",
   "metadata": {},
   "outputs": [],
   "source": [
    "from IPython.display import HTML\n",
    "html_video_file = open(stress_anim_file,'r')\n",
    "HTML(html_video_file.read())"
   ]
  },
  {
   "cell_type": "code",
   "execution_count": null,
   "id": "15f0e4d5",
   "metadata": {},
   "outputs": [],
   "source": [
    "# from IPython.display import HTML\n",
    "# html_video_file = open(crack_tip_rotation_anim_file,'r')\n",
    "# HTML(html_video_file.read())"
   ]
  },
  {
   "cell_type": "code",
   "execution_count": null,
   "id": "8ad27907",
   "metadata": {},
   "outputs": [],
   "source": [
    "from IPython.display import HTML\n",
    "html_video_file = open(crack_path_anim_file,'r')\n",
    "HTML(html_video_file.read())"
   ]
  },
  {
   "cell_type": "code",
   "execution_count": null,
   "id": "459398fa",
   "metadata": {},
   "outputs": [],
   "source": [
    "%matplotlib widget\n",
    "import matplotlib.pylab as plt\n",
    "import numpy as np\n",
    "from matplotlib import animation, rc\n",
    "from bmcs_shear.shear_crack.crack_propagation import CrackPropagation\n",
    "from bmcs_cross_section.api import ReinfLayer\n",
    "\n",
    "\n",
    "\n",
    "ce = CrackPropagation(n_seg=140)\n",
    "ce.sz_bd.Rectangle = True\n",
    "ce.sz_bd.trait_set(H=600, B=250, L=3870)\n",
    "ce.sz_cp.trait_set(x_00=ce.sz_bd.L * 0.5, n_m = 4)\n",
    "ce.sz_cp.sz_ctr.L_fps = 80\n",
    "ce.sz_cp.sz_ctr.trait_set(ell = 2)\n",
    "\n",
    "bl1 = ReinfLayer(name='layer1', z=44, A=ce.sz_bd.smm.A_f, matmod='steel')\n",
    "bl1.matmod_.trait_set(E=ce.sz_bd.smm.E_f, f_t=ce.sz_bd.smm.sig_y)\n",
    "ce.sz_bd.cross_section_layout.add_layer(bl1)\n",
    "ce.sz_bd"
   ]
  },
  {
   "cell_type": "code",
   "execution_count": null,
   "id": "c68040b0",
   "metadata": {},
   "outputs": [],
   "source": [
    "ce.run()\n",
    "ce.interact()"
   ]
  },
  {
   "cell_type": "code",
   "execution_count": null,
   "id": "72e80437",
   "metadata": {},
   "outputs": [],
   "source": [
    "%%capture\n",
    "fig, (ax, ax_F) = plt.subplots(1,2, figsize = (8, 3), tight_layout = True)\n",
    "ds = ce.crack_tip_orientation.crack_tip_shear_stress.sz_stress_profile.ds\n",
    "sz_cp =ce.sz_cp\n",
    "x_n_a =sz_cp.x_t_Ia[0,:]\n",
    "x_Ia = sz_cp.x_t_Ia\n",
    "n_extend = 10\n",
    "F_beam = np.array(ce.F_beam) / 1000\n",
    "v_beam = np.array(ce.v_n)\n",
    "v_beam = np.hstack([v_beam, v_beam[-1]*np.ones((n_extend,))])\n",
    "F_beam = np.hstack([F_beam, F_beam[-1]*np.ones((n_extend,))])\n",
    "x_Ia = np.vstack([x_Ia, x_Ia[-1,:]*np.ones((n_extend,2))])\n",
    "\n",
    "ds.plot_sz_fill(ax)\n",
    "ax_F.set_xlim(xmax = 1.04 * np.max(v_beam))\n",
    "ax_F.set_ylim(ymax = 1.04 * np.max(F_beam))\n",
    "v_n = v_beam[0]\n",
    "F_n = F_beam[0]\n",
    "\n",
    "def plot_crack_step(i):\n",
    "    global x_n_a, v_n, F_n\n",
    "    x_n1_a = sz_cp.x_t_Ia[i,:]\n",
    "    ax.plot([x_n_a[0], x_n1_a[0]], [x_n_a[1], x_n1_a[1]], '-', color = 'black')\n",
    "    ax.set_ylim(ymin=0 ,ymax=600)\n",
    "    ax.set_xlim(xmin=0 ,xmax=3870)\n",
    "    ax.set_xlabel('Length of beam [mm]')\n",
    "    ax.set_ylabel('Height of beam [mm]')\n",
    "    ax.set_title('Crack propagation')\n",
    "    ax.axis('equal');\n",
    "    x_n_a = x_n1_a\n",
    "    v_n1, F_n1 = v_beam[i], F_beam[i]\n",
    "    ax_F.plot([v_n, v_n1], [F_n, F_n1], 'o-', color = 'blue')\n",
    "    ax_F.set_xlabel('Deflection [mm]')\n",
    "    ax_F.set_ylabel('Load [kN]')\n",
    "    ax_F.set_title('Load deflection curve')\n",
    "    v_n, F_n = v_n1, F_n1"
   ]
  },
  {
   "cell_type": "code",
   "execution_count": null,
   "id": "611f0ebd",
   "metadata": {},
   "outputs": [],
   "source": [
    "# import matplotlib.pylab as plt\n",
    "# fig, ax = plt.subplots(1,1, figsize = (10, 4))\n",
    "# sz_cp.plot_sz0(ax)"
   ]
  },
  {
   "cell_type": "code",
   "execution_count": null,
   "id": "eaef08fe",
   "metadata": {},
   "outputs": [],
   "source": [
    "def html5_crack_propagate_video():\n",
    "    n_t = len(x_Ia)\n",
    "    # call the animator. blit=True means only re-draw the parts that have changed.\n",
    "    anim = animation.FuncAnimation(fig, plot_crack_step,\n",
    "                                   frames=n_t, interval=200, blit=True, repeat_delay = 2000)\n",
    "    return anim.to_html5_video()"
   ]
  },
  {
   "cell_type": "code",
   "execution_count": null,
   "id": "df5ea1d3",
   "metadata": {},
   "outputs": [],
   "source": [
    "# def html5_load_deflection_video():\n",
    "#     n_t = len(sz_cp.x_t_Ia)\n",
    "#     # call the animator. blit=True means only re-draw the parts that have changed.\n",
    "#     anim = animation.FuncAnimation(fig, plot_load_deflection,\n",
    "#                                    frames=n_t, interval=100, blit=True, repeat_delay = 1000)\n",
    "#     return anim.to_html5_video()"
   ]
  },
  {
   "cell_type": "code",
   "execution_count": null,
   "id": "39661c89",
   "metadata": {},
   "outputs": [],
   "source": [
    "import os.path\n",
    "home_dir = os.path.expanduser('~')\n",
    "anim_dir = os.path.join(home_dir, 'generated_animation')\n",
    "if not os.path.exists(anim_dir):\n",
    "    os.makedirs(anim_dir)"
   ]
  },
  {
   "cell_type": "code",
   "execution_count": null,
   "id": "97fdde30",
   "metadata": {},
   "outputs": [],
   "source": [
    "%%capture\n",
    "crack_propagate_file = os.path.join(anim_dir, 'crack_propagate.html')\n",
    "with open(crack_propagate_file,'w') as html_video_file:\n",
    "    html_video_file.write(html5_crack_propagate_video())"
   ]
  },
  {
   "cell_type": "code",
   "execution_count": null,
   "id": "5b6d112f",
   "metadata": {},
   "outputs": [],
   "source": [
    "# %%capture\n",
    "# # load_deflection_file = os.path.join(anim_dir, 'load_deflection.html')\n",
    "# with open(load_deflection_file,'w') as html_video_file:\n",
    "#     html_video_file.write(html5_load_deflection_video())"
   ]
  },
  {
   "cell_type": "code",
   "execution_count": null,
   "id": "382cc001",
   "metadata": {},
   "outputs": [],
   "source": [
    "from IPython.display import HTML\n",
    "html_video_file = open(crack_propagate_file,'r')\n",
    "HTML(html_video_file.read())"
   ]
  },
  {
   "cell_type": "code",
   "execution_count": null,
   "id": "0ec6e674",
   "metadata": {},
   "outputs": [],
   "source": [
    "# from IPython.display import HTML\n",
    "# html_video_file = open(load_deflection_file,'r')\n",
    "# HTML(html_video_file.read())"
   ]
  },
  {
   "cell_type": "code",
   "execution_count": null,
   "id": "8e9ea830",
   "metadata": {},
   "outputs": [],
   "source": [
    "%matplotlib widget\n",
    "import matplotlib.pylab as plt\n",
    "import numpy as np\n",
    "from matplotlib import animation, rc\n",
    "from bmcs_shear.shear_crack.crack_propagation import CrackPropagation\n",
    "from bmcs_cross_section.api import ReinfLayer\n",
    "\n",
    "\n",
    "\n",
    "ce = CrackPropagation(n_seg=140)\n",
    "ce.sz_bd.Rectangle = True\n",
    "ce.sz_bd.trait_set(H=600, B=250, L=3870)\n",
    "ce.sz_cp.trait_set(x_00=ce.sz_bd.L * 0.5, n_m = 4)\n",
    "ce.sz_cp.sz_ctr.L_fps = 80\n",
    "ce.sz_cp.sz_ctr.trait_set(ell = 2)"
   ]
  },
  {
   "cell_type": "code",
   "execution_count": null,
   "id": "df52be74",
   "metadata": {},
   "outputs": [],
   "source": [
    "ce.run()\n",
    "ce.interact()"
   ]
  },
  {
   "cell_type": "code",
   "execution_count": null,
   "id": "2024af66",
   "metadata": {},
   "outputs": [],
   "source": [
    "%%capture\n",
    "fig, (ax, ax_F) = plt.subplots(1,2, figsize = (8, 3), tight_layout = True)\n",
    "ds = ce.crack_tip_orientation.crack_tip_shear_stress.sz_stress_profile.ds\n",
    "sz_cp =ce.sz_cp\n",
    "x_n_a =sz_cp.x_t_Ia[0,:]\n",
    "x_Ia = sz_cp.x_t_Ia\n",
    "n_extend = 10\n",
    "F_beam = np.array(ce.F_beam) / 1000\n",
    "v_beam = np.array(ce.v_n)\n",
    "v_beam = np.hstack([v_beam, v_beam[-1]*np.ones((n_extend,))])\n",
    "F_beam = np.hstack([F_beam, F_beam[-1]*np.ones((n_extend,))])\n",
    "x_Ia = np.vstack([x_Ia, x_Ia[-1,:]*np.ones((n_extend,2))])\n",
    "\n",
    "ds.plot_sz_fill(ax)\n",
    "ax_F.set_xlim(xmax = 1.04 * np.max(v_beam))\n",
    "ax_F.set_ylim(ymax = 1.04 * np.max(F_beam))\n",
    "v_n = v_beam[0]\n",
    "F_n = F_beam[0]\n",
    "\n",
    "def plot_crack_step(i):\n",
    "    global x_n_a, v_n, F_n\n",
    "    x_n1_a = sz_cp.x_t_Ia[i,:]\n",
    "    ax.plot([x_n_a[0], x_n1_a[0]], [x_n_a[1], x_n1_a[1]], '-', color = 'black')\n",
    "    ax.set_ylim(ymin=0 ,ymax=600)\n",
    "    ax.set_xlim(xmin=0 ,xmax=3870)\n",
    "    ax.set_xlabel('Length of beam [mm]')\n",
    "    ax.set_ylabel('Height of beam [mm]')\n",
    "    ax.set_title('Crack propagation')\n",
    "    ax.axis('equal');\n",
    "    x_n_a = x_n1_a\n",
    "    v_n1, F_n1 = v_beam[i], F_beam[i]\n",
    "    ax_F.plot([v_n, v_n1], [F_n, F_n1], 'o-', color = 'blue')\n",
    "    ax_F.set_xlabel('Deflection [mm]')\n",
    "    ax_F.set_ylabel('Load [kN]')\n",
    "    ax_F.set_title('Load deflection curve')\n",
    "    v_n, F_n = v_n1, F_n1"
   ]
  },
  {
   "cell_type": "code",
   "execution_count": null,
   "id": "38363660",
   "metadata": {},
   "outputs": [],
   "source": [
    "def html5_crack_propagate_video():\n",
    "    n_t = len(sz_cp.x_t_Ia)\n",
    "    # call the animator. blit=True means only re-draw the parts that have changed.\n",
    "    anim = animation.FuncAnimation(fig, plot_crack_step,\n",
    "                                   frames=n_t, interval=100, blit=True, repeat_delay = 2000)\n",
    "    return anim.to_html5_video()"
   ]
  },
  {
   "cell_type": "code",
   "execution_count": null,
   "id": "249b6588",
   "metadata": {},
   "outputs": [],
   "source": [
    "import os.path\n",
    "home_dir = os.path.expanduser('~')\n",
    "anim_dir = os.path.join(home_dir, 'generated_animation')\n",
    "if not os.path.exists(anim_dir):\n",
    "    os.makedirs(anim_dir)"
   ]
  },
  {
   "cell_type": "code",
   "execution_count": null,
   "id": "d66e4c91",
   "metadata": {},
   "outputs": [],
   "source": [
    "%%capture\n",
    "crack_propagate_file = os.path.join(anim_dir, 'crack_propagate.html')\n",
    "with open(crack_propagate_file,'w') as html_video_file:\n",
    "    html_video_file.write(html5_crack_propagate_video())"
   ]
  },
  {
   "cell_type": "code",
   "execution_count": null,
   "id": "2e5cc4ed",
   "metadata": {},
   "outputs": [],
   "source": [
    "from IPython.display import HTML\n",
    "html_video_file = open(crack_propagate_file,'r')\n",
    "HTML(html_video_file.read())"
   ]
  },
  {
   "cell_type": "code",
   "execution_count": null,
   "id": "f243e52e",
   "metadata": {},
   "outputs": [],
   "source": [
    "import matplotlib.pylab as plt\n",
    "fig, ax = plt.subplots(1,1, figsize = (10, 4))\n",
    "ax.set_ylim(ymin = 0, ymax = ce.sz_bd.H)\n",
    "ax.set_xlim(xmin = 0.05 * ce.sz_bd.L, xmax = 1.05 * ce.sz_bd.L)\n",
    "ax.axis('equal')\n",
    "bd = ce.sz_cp.sz_bd\n",
    "bd.plot_sz_bd(ax)\n",
    "ds = ce.crack_tip_orientation.crack_tip_shear_stress.sz_stress_profile.ds\n",
    "ds.sz_ctr.plot_crack_tip_rotation(ax)\n",
    "ce.sz_cp.plot_sz0(ax)\n",
    "ds.plot_sz1(ax)\n",
    "ds.plot_sz_fill(ax)"
   ]
  },
  {
   "cell_type": "code",
   "execution_count": null,
   "id": "8d2af407",
   "metadata": {},
   "outputs": [],
   "source": [
    "%matplotlib widget\n",
    "import bmcs_utils.api as bu\n",
    "from bmcs_shear.shear_crack.crack_propagation import CrackPropagation\n",
    "from bmcs_cross_section.api import ReinfLayer\n",
    "\n",
    "\n",
    "ce = CrackPropagation(n_seg=150) #150 #35 #70\n",
    "ce.sz_bd.Rectangle = True\n",
    "ce.sz_bd.trait_set(H=600, B=250, L=3870)\n",
    "ce.sz_cp.trait_set(x_00=ce.sz_bd.L * 0.5, n_m = 4)\n",
    "ce.sz_cp.sz_ctr.L_fps = 80 #80\n",
    "ce.sz_cp.sz_ctr.trait_set(ell = 2) #2 #9 #4.5\n",
    "\n",
    "# bl1 = ReinfLayer(name='layer1', z=44, A=ce.sz_bd.smm.A_f, matmod='steel')\n",
    "# bl1.matmod_.trait_set(E=ce.sz_bd.smm.E_f, f_t=ce.sz_bd.smm.sig_y)\n",
    "# ce.sz_bd.cross_section_layout.add_layer(bl1)\n",
    "# ce.sz_bd"
   ]
  },
  {
   "cell_type": "code",
   "execution_count": null,
   "id": "1358b1f2",
   "metadata": {},
   "outputs": [],
   "source": [
    "ce.run()\n",
    "ce.interact()"
   ]
  },
  {
   "cell_type": "code",
   "execution_count": null,
   "id": "fef4482a",
   "metadata": {},
   "outputs": [],
   "source": [
    "from bmcs_shear.shear_crack.crack_extension import CrackExtension\n",
    "cext = CrackExtension()\n",
    "cext.sz_cp.x_00 = ce.sz_cp.x_t_Ia[0,0]\n",
    "cext.sz_cp.x_t_Ia[0,:]"
   ]
  },
  {
   "cell_type": "code",
   "execution_count": null,
   "id": "b70a716f",
   "metadata": {},
   "outputs": [],
   "source": [
    "%%capture\n",
    "import matplotlib.pylab as plt\n",
    "import numpy as np\n",
    "from matplotlib import animation, rc\n",
    "fig, (ax, ax_F) = plt.subplots(1,2,figsize=(8,3), tight_layout=True)\n",
    "ds = ce.crack_tip_orientation.crack_tip_shear_stress.sz_stress_profile.ds\n",
    "sz_cp = ce.sz_cp\n",
    "x_n_a = sz_cp.x_t_Ia[0,:]\n",
    "x_Ia = sz_cp.x_t_Ia\n",
    "n_extend = 10\n",
    "F_beam = np.array(ce.F_beam)/ 1000\n",
    "v_beam = np.array(ce.v_n)\n",
    "v_beam = np.hstack([v_beam, v_beam[-1]*np.ones((n_extend,))])\n",
    "F_beam = np.hstack([F_beam, F_beam[-1]*np.ones((n_extend,))])\n",
    "x_Ia = np.vstack([x_Ia, x_Ia[-1,:]*np.ones((n_extend,2))])\n",
    "\n",
    "ds.plot_sz_fill(ax)\n",
    "ax_F.set_xlim(xmax=1.04*np.max(v_beam))\n",
    "ax_F.set_ylim(ymax=1.04*np.max(F_beam))\n",
    "v_n = v_beam[0]\n",
    "F_n = F_beam[0]\n",
    "\n",
    "def plot_crack_step(i):\n",
    "    global x_n_a, v_n, F_n\n",
    "    x_n1_a = x_Ia[i,:]\n",
    "    ax.plot([x_n_a[0],x_n1_a[0]], [x_n_a[1], x_n1_a[1]], '-', color='black')\n",
    "    ax.set_ylim(ymin=0 ,ymax=600)\n",
    "    ax.set_xlim(xmin=0 ,xmax=3870)\n",
    "    ax.set_xlabel('Length of beam [mm]')\n",
    "    ax.set_ylabel('Height of beam [mm]')\n",
    "    ax.set_title('Crack propagation')\n",
    "    ax.axis('equal');\n",
    "    x_n_a = x_n1_a\n",
    "    v_n1, F_n1 = v_beam[i], F_beam[i]\n",
    "    ax_F.plot([v_n, v_n1], [F_n, F_n1], 'o-', color = 'blue')\n",
    "    ax_F.set_xlabel('Deflection [mm]')\n",
    "    ax_F.set_ylabel('Load [kN]')\n",
    "    ax_F.set_title('Load deflection curve')\n",
    "    v_n, F_n = v_n1, F_n1"
   ]
  },
  {
   "cell_type": "code",
   "execution_count": null,
   "id": "b1d41f50",
   "metadata": {},
   "outputs": [],
   "source": [
    "def html5_crack_propagate_video():\n",
    "    n_t = len(x_Ia)\n",
    "    # call the animator. blit=True means only re-draw the parts that have changed.\n",
    "    anim = animation.FuncAnimation(fig, plot_crack_step,\n",
    "                                   frames=n_t, interval=200, blit=True, repeat=True, repeat_delay=2000)\n",
    "    return anim.to_html5_video()"
   ]
  },
  {
   "cell_type": "code",
   "execution_count": null,
   "id": "dc0c901b",
   "metadata": {},
   "outputs": [],
   "source": [
    "import os.path\n",
    "home_dir = os.path.expanduser('~')\n",
    "anim_dir = os.path.join(home_dir, 'generated_animation')\n",
    "if not os.path.exists(anim_dir):\n",
    "    os.makedirs(anim_dir)"
   ]
  },
  {
   "cell_type": "code",
   "execution_count": null,
   "id": "cbec0e2e",
   "metadata": {},
   "outputs": [],
   "source": [
    "%%capture\n",
    "crack_propagate_file = os.path.join(anim_dir, 'crack_propagate_animation.html')\n",
    "with open(crack_propagate_file,'w') as html_video_file:\n",
    "    html_video_file.write(html5_crack_propagate_video())"
   ]
  },
  {
   "cell_type": "code",
   "execution_count": null,
   "id": "a7cc1136",
   "metadata": {},
   "outputs": [],
   "source": [
    "from IPython.display import HTML\n",
    "html_video_file = open(crack_propagate_file,'r')\n",
    "HTML(html_video_file.read())"
   ]
  },
  {
   "cell_type": "code",
   "execution_count": null,
   "id": "e80d4e0e",
   "metadata": {},
   "outputs": [],
   "source": []
  },
  {
   "cell_type": "code",
   "execution_count": null,
   "id": "685b7c62",
   "metadata": {},
   "outputs": [],
   "source": []
  }
 ],
 "metadata": {
  "kernelspec": {
   "display_name": "Python 3",
   "language": "python",
   "name": "python3"
  },
  "language_info": {
   "codemirror_mode": {
    "name": "ipython",
    "version": 3
   },
   "file_extension": ".py",
   "mimetype": "text/x-python",
   "name": "python",
   "nbconvert_exporter": "python",
   "pygments_lexer": "ipython3"
  }
 },
 "nbformat": 4,
 "nbformat_minor": 5
}
