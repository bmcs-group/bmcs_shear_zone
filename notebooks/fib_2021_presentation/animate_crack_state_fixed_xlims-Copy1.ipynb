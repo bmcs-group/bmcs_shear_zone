{
 "cells": [
  {
   "cell_type": "code",
   "execution_count": null,
   "id": "2bab241b",
   "metadata": {},
   "outputs": [],
   "source": [
    "%matplotlib widget\n",
    "import bmcs_utils.api as bu\n",
    "from bmcs_cross_section.api import ReinfLayer\n",
    "from bmcs_shear.shear_crack.crack_tip_orientation import CrackStateAnimator\n",
    "ce = CrackStateAnimator()\n",
    "ce.sz_bd.cmm.trait_set(tau_1 = 4, s_1 = 0.2, tau_2 = 3, tau_3 = 2, s_2 = 1.4, s_3 = 5)\n",
    "x_00=250\n",
    "ce.sz_cp.trait_set(x_00=x_00, n_m = 15)\n",
    "ce.sz_bd.Rectangle = True\n",
    "ce.sz_bd.trait_set(H=300, B=200, L=500)\n",
    "ce.sz_cp.add_x_tip_an([x_00-10, 50]) \n",
    "ce.sz_cp.add_x_tip_an([x_00-30, 100]) \n",
    "\n",
    "bl1 = ReinfLayer(name='layer1', z=44, A=ce.sz_bd.smm.A_f, matmod='steel')\n",
    "bl1.matmod_.trait_set(E=ce.sz_bd.smm.E_f, f_t=ce.sz_bd.smm.sig_y)\n",
    "ce.sz_bd.cross_section_layout.add_layer(bl1)\n",
    "#ce.sz_cp.sz_ctr.w = 5"
   ]
  },
  {
   "cell_type": "code",
   "execution_count": null,
   "id": "037a1eb3",
   "metadata": {},
   "outputs": [],
   "source": [
    "# %matplotlib widget\n",
    "# import bmcs_utils.api as bu\n",
    "# from bmcs_shear.shear_crack.crack_path import CrackPathAnimator\n",
    "# cp = CrackPathAnimator()\n",
    "# #ce.sz_bd.cmm.trait_set(tau_1 = 4, s_1 = 0.2, tau_2 = 3, tau_3 = 2, s_2 = 1.4, s_3 = 5)\n",
    "# x_00=250\n",
    "# cp.trait_set(x_00=x_00, n_m = 15)\n",
    "# cp.sz_bd.Rectangle = True\n",
    "# cp.sz_bd.trait_set(H=300, B=200, L=500)\n",
    "# #cp.sz_cp.add_x_tip_an([x_00-10, 50]) \n",
    "# #cp.sz_cp.add_x_tip_an([x_00-30, 100]) \n",
    "# #ce.sz_cp.sz_ctr.w = 5"
   ]
  },
  {
   "cell_type": "code",
   "execution_count": null,
   "id": "1a554194",
   "metadata": {},
   "outputs": [],
   "source": [
    "ce.interact()"
   ]
  },
  {
   "cell_type": "code",
   "execution_count": null,
   "id": "c9d9d8be",
   "metadata": {},
   "outputs": [],
   "source": [
    "%%capture\n",
    "import numpy as np\n",
    "import matplotlib.pylab as plt\n",
    "from matplotlib import animation, rc\n",
    "\n",
    "ce = CrackStateAnimator()\n",
    "ce.sz_bd.cmm.trait_set(tau_1 = 4, s_1 = 0.2, tau_2 = 3, tau_3 = 2, s_2 = 1.4, s_3 = 5)\n",
    "x_00=250\n",
    "ce.sz_cp.trait_set(x_00=x_00, n_m = 10)\n",
    "ce.sz_bd.Rectangle = True\n",
    "ce.sz_bd.trait_set(H=300, B=200, L=500)\n",
    "ce.sz_cp.add_x_tip_an([x_00-10, 50]) \n",
    "ce.sz_cp.add_x_tip_an([x_00-30, 100]) \n",
    "#ce.sz_cp.sz_ctr.w = 30\n",
    "\n",
    "fig = plt.figure(figsize=(12,5))\n",
    "fig.canvas.header_visible = False\n",
    "\n",
    "psi_range = np.linspace(0, np.pi/4, 15)\n",
    "psi_range = np.hstack([psi_range, psi_range[-1:0:-1]])\n",
    "ce.sz_cp.sz_ctr.x_rot_1k = 200\n",
    "x_rot_1k = ce.sz_cp.sz_ctr.x_rot_1k\n",
    "\n",
    "def plot_stress_state(i):\n",
    "    ce.psi_slider = psi_range[i]\n",
    "    fig.clf()\n",
    "    axes = ce.sz_stress_profile.subplots(fig)\n",
    "    ce.sz_stress_profile.update_plot(axes)\n",
    "    ax_u_0, ax_w_0, ax_S_0, ax_F_0, ax_u_1, ax_w_1, ax_S_1, ax_F_1 = axes\n",
    "    x_factor = 0.11\n",
    "    ax_u_0.set_xlim(xmin=-0.5*x_factor, xmax=1*x_factor)\n",
    "    x_factor = 0.05\n",
    "    ax_u_1.set_xlim(xmin=-0.5*x_factor, xmax=1*x_factor)\n",
    "    x_factor = 0.11\n",
    "    ax_w_0.set_xlim(xmin=-0.6*x_factor, xmax=1*x_factor)\n",
    "    x_factor = 0.06\n",
    "    ax_w_1.set_xlim(xmin=-0.6*x_factor, xmax=1*x_factor)\n",
    "    x_factor = 1000\n",
    "    ax_S_0.set_xlim(xmin=-3*x_factor, xmax=1*x_factor)\n",
    "    x_factor = 350\n",
    "    ax_S_1.set_xlim(xmin=-3*x_factor, xmax=1*x_factor)\n",
    "    x_factor = 1040\n",
    "    ax_F_0.set_xlim(xmin=-1.7*x_factor, xmax=1*x_factor)\n",
    "    x_factor = 300\n",
    "    ax_F_1.set_xlim(xmin=-1.7*x_factor, xmax=1*x_factor)\n",
    "    \n",
    "def plot_deformed_state(i):\n",
    "    ce.psi_slider = psi_range[i]\n",
    "    ce.x_rot_1k_slider = x_rot_1k\n",
    "    fig.clf()\n",
    "    axes = ce.sz_stress_profile.ds.subplots(fig)\n",
    "    ce.sz_stress_profile.ds.update_plot(axes)\n",
    "    axes.set_ylim(ymin=-10, ymax=310)\n",
    "    axes.set_xlim(xmin = 295, xmax=296)\n",
    "    "
   ]
  },
  {
   "cell_type": "code",
   "execution_count": null,
   "id": "fb1c5b97",
   "metadata": {},
   "outputs": [],
   "source": []
  },
  {
   "cell_type": "code",
   "execution_count": null,
   "id": "04513888",
   "metadata": {},
   "outputs": [],
   "source": [
    "def html5_stress_state_video():\n",
    "    n_t = len(psi_range)\n",
    "    # call the animator. blit=True means only re-draw the parts that have changed.\n",
    "    anim = animation.FuncAnimation(fig, plot_stress_state,\n",
    "                                   frames=n_t, interval=100, blit=True)\n",
    "    return anim.to_html5_video()\n",
    "\n",
    "def html5_deformed_state_video():\n",
    "    n_t = len(psi_range)\n",
    "    # call the animator. blit=True means only re-draw the parts that have changed.\n",
    "    anim = animation.FuncAnimation(fig, plot_deformed_state,\n",
    "                                   frames=n_t, interval=100, blit=True)\n",
    "    return anim.to_html5_video()"
   ]
  },
  {
   "cell_type": "code",
   "execution_count": null,
   "id": "50a5e861",
   "metadata": {},
   "outputs": [],
   "source": [
    "import os.path\n",
    "home_dir = os.path.expanduser('~')\n",
    "anim_dir = os.path.join(home_dir, 'generated_animation')\n",
    "if not os.path.exists(anim_dir):\n",
    "    os.makedirs(anim_dir)"
   ]
  },
  {
   "cell_type": "code",
   "execution_count": null,
   "id": "8ff1ad13",
   "metadata": {},
   "outputs": [],
   "source": [
    "%%capture\n",
    "deformed_anim_file = os.path.join(anim_dir, 'deformed_state_animation.html')\n",
    "with open(deformed_anim_file,'w') as html_video_file:\n",
    "    html_video_file.write(html5_deformed_state_video())"
   ]
  },
  {
   "cell_type": "code",
   "execution_count": null,
   "id": "1b25381b",
   "metadata": {},
   "outputs": [],
   "source": [
    "from IPython.display import HTML\n",
    "html_video_file = open(deformed_anim_file,'r')\n",
    "HTML(html_video_file.read())"
   ]
  },
  {
   "cell_type": "code",
   "execution_count": null,
   "id": "408f2192",
   "metadata": {},
   "outputs": [],
   "source": [
    "%%capture\n",
    "stress_anim_file = os.path.join(anim_dir, 'stress_state_animation.html')\n",
    "with open(stress_anim_file,'w') as html_video_file:\n",
    "    html_video_file.write(html5_stress_state_video())"
   ]
  },
  {
   "cell_type": "code",
   "execution_count": null,
   "id": "609084ae",
   "metadata": {},
   "outputs": [],
   "source": [
    "from IPython.display import HTML\n",
    "html_video_file = open(stress_anim_file,'r')\n",
    "HTML(html_video_file.read())"
   ]
  },
  {
   "cell_type": "code",
   "execution_count": null,
   "id": "4040e685",
   "metadata": {},
   "outputs": [],
   "source": [
    "fig, ax = plt.subplots(1,1)\n",
    "ds = ce.crack_tip_shear_stress.sz_stress_profile.ds\n",
    "ds.plot_sz1(ax)\n",
    "#ds.sz_cp.plot_sz0(ax)"
   ]
  },
  {
   "cell_type": "code",
   "execution_count": null,
   "id": "88978660",
   "metadata": {},
   "outputs": [],
   "source": [
    "fig, ax = plt.subplots(1,1)\n",
    "ds = ce.plot_geo\n",
    "ds"
   ]
  },
  {
   "cell_type": "code",
   "execution_count": null,
   "id": "86ace25a",
   "metadata": {},
   "outputs": [],
   "source": [
    "rect = 0, 0, 0.25, 1\n",
    "fig = plt.figure()\n",
    "ax1 = fig.add_axes((0,0,0.25,1), label='label1')\n",
    "ax2 = fig.add_axes((0.25,0,0.25,1), label='label1', sharey=ax1)\n",
    "ax3 = fig.add_axes((0.5,0,0.25,1), frameon=True, facecolor='g')\n",
    "ax4 = fig.add_axes((0.75,0,0.25,1), polar=True)\n",
    "#ax = fig.add_axes(rect, projection='polar')\n",
    "#fig.delaxes(ax)\n",
    "#fig.add_axes(ax)"
   ]
  },
  {
   "cell_type": "code",
   "execution_count": null,
   "id": "e29d5d0e",
   "metadata": {},
   "outputs": [],
   "source": []
  }
 ],
 "metadata": {
  "kernelspec": {
   "display_name": "Python 3",
   "language": "python",
   "name": "python3"
  },
  "language_info": {
   "codemirror_mode": {
    "name": "ipython",
    "version": 3
   },
   "file_extension": ".py",
   "mimetype": "text/x-python",
   "name": "python",
   "nbconvert_exporter": "python",
   "pygments_lexer": "ipython3"
  }
 },
 "nbformat": 4,
 "nbformat_minor": 5
}
