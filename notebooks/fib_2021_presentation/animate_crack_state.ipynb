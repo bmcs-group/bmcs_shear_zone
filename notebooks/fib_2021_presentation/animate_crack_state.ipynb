{
 "cells": [
  {
   "cell_type": "code",
   "execution_count": null,
   "id": "90de8eaa",
   "metadata": {},
   "outputs": [],
   "source": [
    "%matplotlib widget\n",
    "import bmcs_utils.api as bu\n",
    "from bmcs_cross_section.api import ReinfLayer\n",
    "from bmcs_shear.shear_crack.crack_tip_orientation import CrackStateAnimator\n",
    "#from bmcs_shear.shear_crack.crack_extension import CrackStateAnimator\n",
    "ce = CrackStateAnimator()\n",
    "ce.sz_bd.cmm.trait_set(tau_1 = 4, s_1 = 0.2, tau_2 = 3, tau_3 = 2, s_2 = 1.4, s_3 = 5)\n",
    "x_00=250\n",
    "ce.sz_cp.trait_set(x_00=x_00, n_m = 15)\n",
    "ce.sz_bd.Rectangle = True\n",
    "ce.sz_bd.trait_set(H=300, B=200, L=500)\n",
    "ce.sz_cp.add_x_tip_an([x_00-10, 50]) \n",
    "ce.sz_cp.add_x_tip_an([x_00-30, 100]) \n",
    "\n",
    "bl1 = ReinfLayer(name='layer1', z=44, A=ce.sz_bd.smm.A_f, matmod='steel')\n",
    "bl1.matmod_.trait_set(E=ce.sz_bd.smm.E_f, f_t=ce.sz_bd.smm.sig_y)\n",
    "ce.sz_bd.cross_section_layout.add_layer(bl1)\n",
    "ce.sz_bd\n",
    "ce.sz_cp.sz_ctr.w = 10\n",
    "#ce.sz_bd.cross_section_layout.reinforcement[0].trait_set(z=20, A=1, E=1)"
   ]
  },
  {
   "cell_type": "code",
   "execution_count": null,
   "id": "846be3e4",
   "metadata": {},
   "outputs": [],
   "source": [
    "ce.interact()"
   ]
  },
  {
   "cell_type": "code",
   "execution_count": null,
   "id": "54b34b46",
   "metadata": {},
   "outputs": [],
   "source": [
    "%%capture\n",
    "import numpy as np\n",
    "import matplotlib.pylab as plt\n",
    "from matplotlib import animation, rc\n",
    "\n",
    "fig = plt.figure(figsize=(13,6))\n",
    "fig.canvas.header_visible = False\n",
    "fig_sub_plot_ = fig.add_subplot(1,1,1)\n",
    "\n",
    "psi_range = np.linspace(0, np.pi/4, 15)\n",
    "psi_range = np.hstack([psi_range, psi_range[-1:0:-1]])\n",
    "\n",
    "ce.sz_cp.sz_ctr.x_rot_1k = 200\n",
    "\n",
    "x_rot_1k = ce.sz_cp.sz_ctr.x_rot_1k\n",
    "\n",
    "w_range = np.linspace(0, 40, 15)\n",
    "w_range = np.hstack([w_range, w_range[-1:0:-1]])\n",
    "\n",
    "v_n_range = np.linspace(0,1, 15)\n",
    "v_n_range = np.hstack([v_n_range, v_n_range[-1:0:-1]])\n",
    "\n",
    "load_def_range = np.linspace(0,1,15)\n",
    "load_def_range = np.hstack([load_def_range, load_def_range[-1:0:-1]])\n",
    "\n",
    "\n",
    "# def load_deformation_path(i):\n",
    "#     ce.v_n_slider = v_n_range[i]\n",
    "#     ce.load_slider = load_def_range[i]\n",
    "#     fig.clf()\n",
    "#     v_n = ce.\n",
    "\n",
    "def plot_crack_path(i):\n",
    "    ce.psi_slider = psi_range[i]\n",
    "    #ce.x_rot_1k_slider = x_rot_1k\n",
    "    ce.w_slider = w_range[i]\n",
    "    fig.clf()\n",
    "    axes = ce.sz_cp.subplots(fig)\n",
    "    ce.sz_cp.update_plot(axes)\n",
    "    axes.set_ylim(ymin=-10, ymax=320)\n",
    "    axes.set_xlim(xmin = 295, xmax=296)\n",
    "    \n",
    "\n",
    "def plot_crack_tip_rotation(i):\n",
    "    ce.psi_slider = psi_range[i]\n",
    "    #ce.x_rot_1k_slider = x_rot_1k\n",
    "    ce.w_slider = w_range[i]\n",
    "    fig.clf()\n",
    "    axes = ce.sz_cp.sz_ctr.subplots(fig)\n",
    "    ce.sz_cp.sz_ctr.update_plot(axes)\n",
    "    axes.set_xlim(xmin=50, xmax=350)\n",
    "    \n",
    "\n",
    "def plot_stress_state(i):\n",
    "    ce.psi_slider = psi_range[i]\n",
    "    fig.clf()\n",
    "    axes = ce.sz_stress_profile.subplots(fig)\n",
    "    ce.sz_stress_profile.update_plot(axes)\n",
    "    ax_u_0, ax_w_0, ax_S_0, ax_F_0, ax_u_1, ax_w_1, ax_S_1, ax_F_1 = axes\n",
    "    \n",
    "    \n",
    "def plot_deformed_state(i):\n",
    "    ce.psi_slider = psi_range[i]\n",
    "    ce.x_rot_1k_slider = x_rot_1k\n",
    "    fig.clf()\n",
    "    axes = ce.sz_stress_profile.ds.subplots(fig)\n",
    "    ce.sz_stress_profile.ds.update_plot(axes)\n",
    "    axes.set_ylim(ymin=-10, ymax=340)\n",
    "    axes.set_xlim(xmin = 295, xmax=296)"
   ]
  },
  {
   "cell_type": "code",
   "execution_count": null,
   "id": "6948f45e",
   "metadata": {},
   "outputs": [],
   "source": [
    "def html5_crack_path_video():\n",
    "    n_t = len(psi_range)\n",
    "    # call the animator. blit=True means only re-draw the parts that have changed.\n",
    "    anim = animation.FuncAnimation(fig, plot_crack_path,\n",
    "                                   frames=n_t, interval=100, blit=True)\n",
    "    return anim.to_html5_video()\n",
    "\n",
    "\n",
    "def html5_crack_tip_rotation_video():\n",
    "    n_t = len(psi_range)\n",
    "    # call the animator. blit=True means only re-draw the parts that have changed.\n",
    "    anim = animation.FuncAnimation(fig, plot_crack_tip_rotation,\n",
    "                                   frames=n_t, interval=100, blit=True)\n",
    "    return anim.to_html5_video()\n",
    "\n",
    "def html5_stress_state_video():\n",
    "    n_t = len(psi_range)\n",
    "    # call the animator. blit=True means only re-draw the parts that have changed.\n",
    "    anim = animation.FuncAnimation(fig, plot_stress_state,\n",
    "                                   frames=n_t, interval=150, blit=True)\n",
    "    return anim.to_html5_video()\n",
    "\n",
    "def html5_deformed_state_video():\n",
    "    n_t = len(psi_range)\n",
    "    # call the animator. blit=True means only re-draw the parts that have changed.\n",
    "    anim = animation.FuncAnimation(fig, plot_deformed_state,\n",
    "                                   frames=n_t, interval=100, blit=True)\n",
    "    return anim.to_html5_video()"
   ]
  },
  {
   "cell_type": "code",
   "execution_count": null,
   "id": "7594458d",
   "metadata": {},
   "outputs": [],
   "source": [
    "import os.path\n",
    "home_dir = os.path.expanduser('~')\n",
    "anim_dir = os.path.join(home_dir, 'generated_animation')\n",
    "if not os.path.exists(anim_dir):\n",
    "    os.makedirs(anim_dir)"
   ]
  },
  {
   "cell_type": "code",
   "execution_count": null,
   "id": "d7dfc890",
   "metadata": {},
   "outputs": [],
   "source": [
    "%%capture\n",
    "crack_path_anim_file = os.path.join(anim_dir, 'crack_path.html')\n",
    "with open(crack_path_anim_file,'w') as html_video_file:\n",
    "    html_video_file.write(html5_crack_path_video())"
   ]
  },
  {
   "cell_type": "code",
   "execution_count": null,
   "id": "3528e179",
   "metadata": {},
   "outputs": [],
   "source": [
    "%%capture\n",
    "crack_tip_rotation_anim_file = os.path.join(anim_dir, 'crack_tip_rotation.html')\n",
    "with open(crack_tip_rotation_anim_file,'w') as html_video_file:\n",
    "    html_video_file.write(html5_crack_tip_rotation_video())"
   ]
  },
  {
   "cell_type": "code",
   "execution_count": null,
   "id": "0e2d8fd4",
   "metadata": {},
   "outputs": [],
   "source": [
    "%%capture\n",
    "stress_anim_file = os.path.join(anim_dir, 'stress_state_animation.html')\n",
    "with open(stress_anim_file,'w') as html_video_file:\n",
    "    html_video_file.write(html5_stress_state_video())"
   ]
  },
  {
   "cell_type": "code",
   "execution_count": null,
   "id": "9a9615e7",
   "metadata": {},
   "outputs": [],
   "source": [
    "%%capture\n",
    "deformed_anim_file = os.path.join(anim_dir, 'deformed_state_animation.html')\n",
    "with open(deformed_anim_file,'w') as html_video_file:\n",
    "    html_video_file.write(html5_deformed_state_video())"
   ]
  },
  {
   "cell_type": "code",
   "execution_count": null,
   "id": "0132d16f",
   "metadata": {},
   "outputs": [],
   "source": [
    "from IPython.display import HTML\n",
    "html_video_file = open(deformed_anim_file,'r')\n",
    "HTML(html_video_file.read())"
   ]
  },
  {
   "cell_type": "code",
   "execution_count": null,
   "id": "baa76ffa",
   "metadata": {},
   "outputs": [],
   "source": [
    "from IPython.display import HTML\n",
    "html_video_file = open(crack_tip_rotation_anim_file,'r')\n",
    "HTML(html_video_file.read())"
   ]
  },
  {
   "cell_type": "code",
   "execution_count": null,
   "id": "3faba905",
   "metadata": {},
   "outputs": [],
   "source": [
    "from IPython.display import HTML\n",
    "html_video_file = open(crack_path_anim_file,'r')\n",
    "HTML(html_video_file.read())"
   ]
  },
  {
   "cell_type": "code",
   "execution_count": null,
   "id": "0299cae5",
   "metadata": {},
   "outputs": [],
   "source": [
    "%%capture\n",
    "import matplotlib.pylab as plt\n",
    "import numpy as np\n",
    "from matplotlib import animation, rc\n",
    "from bmcs_shear.shear_crack.crack_propagation import CrackPropagation\n",
    "ce = CrackPropagation()\n",
    "x_00=250\n",
    "ce.sz_cp.trait_set(x_00=x_00, n_m = 15)\n",
    "fig, (ax, ax_F) = plt.subplots(1,2, figsize = (8, 4))\n",
    "ds = ce.crack_tip_orientation.crack_tip_shear_stress.sz_stress_profile.ds\n",
    "sz_cp =ce.sz_cp\n",
    "x_n_a =sz_cp.x_t_Ia[0,:]\n",
    "ds.plot_sz_fill(ax)\n",
    "F_beam = np.array(ce.F_beam)\n",
    "v_beam = np.array(ce.v_n)\n",
    "ax_F.set_xlim(xmax = 1.04 * np.max(v_beam))\n",
    "ax_F.set_ylim(ymax = 1.04 * np.max(F_beam))\n",
    "v_n = v_beam[0]\n",
    "F_n = F_beam[0]\n",
    "\n",
    "def plot_crack_step(i):\n",
    "    global x_n_a, v_n, F_n\n",
    "    x_n1_a = sz_cp.x_t_Ia[i,:]\n",
    "    ax.plot([x_n_a[0], x_n1_a[0]], [x_n_a[1], x_n1_a[1]], '-', color = 'black')\n",
    "    x_n_a = x_n1_a\n",
    "    v_n1, F_n1 = v_beam[i], F_beam[i]\n",
    "    ax_F.plot([v_n, v_n1], [F_n, F_n1], '-', color = 'blue')\n",
    "    v_n, F_n = v_n1, F_n1"
   ]
  },
  {
   "cell_type": "code",
   "execution_count": null,
   "id": "6e36f39b",
   "metadata": {},
   "outputs": [],
   "source": [
    "def html5_crack_step_video():\n",
    "    n_t = len(sz_cp.x_t_Ia)\n",
    "    # call the animator. blit=True means only re-draw the parts that have changed.\n",
    "    anim = animation.FuncAnimation(fig, plot_crack_step,\n",
    "                                   frames=n_t, interval=100, blit=True)\n",
    "    return anim.to_html5_video()"
   ]
  },
  {
   "cell_type": "code",
   "execution_count": null,
   "id": "76d13e76",
   "metadata": {},
   "outputs": [],
   "source": [
    "import os.path\n",
    "home_dir = os.path.expanduser('~')\n",
    "anim_dir = os.path.join(home_dir, 'generated_animation')\n",
    "if not os.path.exists(anim_dir):\n",
    "    os.makedirs(anim_dir)"
   ]
  },
  {
   "cell_type": "code",
   "execution_count": null,
   "id": "cc2bc68c",
   "metadata": {},
   "outputs": [],
   "source": [
    "%%capture\n",
    "crack_propagate_file = os.path.join(anim_dir, 'crack_propagate.html')\n",
    "with open(crack_propagate_file,'w') as html_video_file:\n",
    "    html_video_file.write(html5_crack_step_video())"
   ]
  },
  {
   "cell_type": "code",
   "execution_count": null,
   "id": "5833bd18",
   "metadata": {},
   "outputs": [],
   "source": [
    "from IPython.display import HTML\n",
    "html_video_file = open(deformed_anim_file,'r')\n",
    "HTML(html_video_file.read())"
   ]
  },
  {
   "cell_type": "code",
   "execution_count": null,
   "id": "1809eef2",
   "metadata": {},
   "outputs": [],
   "source": []
  }
 ],
 "metadata": {
  "kernelspec": {
   "display_name": "Python 3",
   "language": "python",
   "name": "python3"
  },
  "language_info": {
   "codemirror_mode": {
    "name": "ipython",
    "version": 3
   },
   "file_extension": ".py",
   "mimetype": "text/x-python",
   "name": "python",
   "nbconvert_exporter": "python",
   "pygments_lexer": "ipython3"
  }
 },
 "nbformat": 4,
 "nbformat_minor": 5
}
