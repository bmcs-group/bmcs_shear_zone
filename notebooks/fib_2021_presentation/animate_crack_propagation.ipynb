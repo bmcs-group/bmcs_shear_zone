{
 "cells": [
  {
   "cell_type": "code",
   "execution_count": null,
   "id": "48665037",
   "metadata": {},
   "outputs": [],
   "source": [
    "%matplotlib widget\n",
    "import bmcs_utils.api as bu\n",
    "from bmcs_shear.shear_crack.crack_propagation import CrackPropagation\n",
    "ce = CrackPropagation(n_seg=28)\n",
    "ce.sz_bd.matrix='advanced'\n",
    "ce.sz_cp.trait_set(x_00=ce.sz_bd.L * 0.3, n_m = 15)\n",
    "ce.sz_bd.Rectangle = True\n",
    "ce.sz_bd.trait_set(H=300, B=200, L=1000)\n",
    "#ce.sz_bd.cross_section_layout.reinforcement[0].trait_set(z=20, A=1, E=1)"
   ]
  },
  {
   "cell_type": "code",
   "execution_count": null,
   "id": "7dbbbfec",
   "metadata": {},
   "outputs": [],
   "source": [
    "ce.run()\n",
    "ce.interact()"
   ]
  },
  {
   "cell_type": "markdown",
   "id": "f0925897",
   "metadata": {},
   "source": []
  },
  {
   "cell_type": "markdown",
   "id": "d9bec413",
   "metadata": {},
   "source": [
    "How to construct an animation?\n",
    "\n",
    "- Each model with a progress bar records the history. Thus, the history browsing might be defines at an abstract level."
   ]
  },
  {
   "cell_type": "markdown",
   "id": "ad1e883b",
   "metadata": {},
   "source": [
    "# Access the plot functions of the components"
   ]
  },
  {
   "cell_type": "code",
   "execution_count": null,
   "id": "9e021798",
   "metadata": {},
   "outputs": [],
   "source": [
    "import matplotlib.pylab as plt\n",
    "fig, ax = plt.subplots(1,1,figsize=(10,4))\n",
    "bd = ce.sz_cp.sz_bd\n",
    "ax.set_ylim(ymin=0 ,ymax=bd.H)\n",
    "ax.set_xlim(xmin=-0.05*bd.L ,xmax=1.05*bd.L)\n",
    "ax.axis('equal');\n",
    "bd.plot_sz_bd(ax)\n",
    "ds = ce.crack_tip_orientation.crack_tip_shear_stress.sz_stress_profile.ds\n",
    "ds.sz_ctr.plot_crack_tip_rotation(ax)\n",
    "ce.sz_cp.plot_sz0(ax)\n",
    "ds.plot_sz1(ax)\n",
    "ds.plot_sz_fill(ax)"
   ]
  },
  {
   "cell_type": "markdown",
   "id": "5fa276cf",
   "metadata": {},
   "source": [
    "# Plot the crack path by looping over its nodes"
   ]
  },
  {
   "cell_type": "code",
   "execution_count": null,
   "id": "ac11775b",
   "metadata": {},
   "outputs": [],
   "source": [
    "ce.sz_cp.x_t_Ia[0,:]"
   ]
  },
  {
   "cell_type": "code",
   "execution_count": null,
   "id": "05cd0daf",
   "metadata": {},
   "outputs": [],
   "source": [
    "from bmcs_shear.shear_crack.crack_extension import CrackExtension\n",
    "cext = CrackExtension()\n",
    "cext.sz_cp.x_00 = ce.sz_cp.x_t_Ia[0,0]\n",
    "cext.sz_cp.x_t_Ia[0,:]"
   ]
  },
  {
   "cell_type": "code",
   "execution_count": null,
   "id": "7910aa53",
   "metadata": {},
   "outputs": [],
   "source": [
    "%%capture\n",
    "import matplotlib.pylab as plt\n",
    "import numpy as np\n",
    "from matplotlib import animation, rc\n",
    "fig, (ax, ax_F) = plt.subplots(1,2,figsize=(8,3), tight_layout=True)\n",
    "ds = ce.crack_tip_orientation.crack_tip_shear_stress.sz_stress_profile.ds\n",
    "sz_cp = ce.sz_cp\n",
    "x_n_a = sz_cp.x_t_Ia[0,:]\n",
    "x_Ia = sz_cp.x_t_Ia\n",
    "n_extend = 10\n",
    "F_beam = np.array(ce.F_beam)\n",
    "v_beam = np.array(ce.v_n)\n",
    "v_beam = np.hstack([v_beam, v_beam[-1]*np.ones((n_extend,))])\n",
    "F_beam = np.hstack([F_beam, F_beam[-1]*np.ones((n_extend,))])\n",
    "x_Ia = np.vstack([x_Ia, x_Ia[-1,:]*np.ones((n_extend,2))])\n",
    "\n",
    "ds.plot_sz_fill(ax)\n",
    "ax_F.set_xlim(xmax=1.04*np.max(v_beam))\n",
    "ax_F.set_ylim(ymax=1.04*np.max(F_beam))\n",
    "v_n = v_beam[0]\n",
    "F_n = F_beam[0]\n",
    "\n",
    "def plot_crack_step(i):\n",
    "    global x_n_a, v_n, F_n\n",
    "    x_n1_a = x_Ia[i,:]\n",
    "    ax.plot([x_n_a[0],x_n1_a[0]], [x_n_a[1], x_n1_a[1]], '-', color='black')\n",
    "    ax.axis('equal');\n",
    "    x_n_a = x_n1_a\n",
    "    v_n1, F_n1 = v_beam[i], F_beam[i]\n",
    "    ax_F.plot([v_n,v_n1], [F_n, F_n1], 'o-', color='blue')\n",
    "    v_n, F_n = v_n1, F_n1"
   ]
  },
  {
   "cell_type": "code",
   "execution_count": null,
   "id": "86e3135f",
   "metadata": {},
   "outputs": [],
   "source": [
    "def html5_crack_propagate_video():\n",
    "    n_t = len(x_Ia)\n",
    "    # call the animator. blit=True means only re-draw the parts that have changed.\n",
    "    anim = animation.FuncAnimation(fig, plot_crack_step,\n",
    "                                   frames=n_t, interval=200, blit=True, repeat=True, repeat_delay=2000)\n",
    "    return anim.to_html5_video()"
   ]
  },
  {
   "cell_type": "code",
   "execution_count": null,
   "id": "c9ca9ab8",
   "metadata": {},
   "outputs": [],
   "source": [
    "import os.path\n",
    "home_dir = os.path.expanduser('~')\n",
    "anim_dir = os.path.join(home_dir, 'generated_animation')\n",
    "if not os.path.exists(anim_dir):\n",
    "    os.makedirs(anim_dir)"
   ]
  },
  {
   "cell_type": "code",
   "execution_count": null,
   "id": "8114245f",
   "metadata": {},
   "outputs": [],
   "source": [
    "%%capture\n",
    "crack_propagate_file = os.path.join(anim_dir, 'crack_propagate_animation.html')\n",
    "with open(crack_propagate_file,'w') as html_video_file:\n",
    "    html_video_file.write(html5_crack_propagate_video())"
   ]
  },
  {
   "cell_type": "code",
   "execution_count": null,
   "id": "2238684b",
   "metadata": {},
   "outputs": [],
   "source": [
    "from IPython.display import HTML\n",
    "html_video_file = open(crack_propagate_file,'r')\n",
    "HTML(html_video_file.read())"
   ]
  },
  {
   "cell_type": "code",
   "execution_count": null,
   "id": "f69926fb",
   "metadata": {},
   "outputs": [],
   "source": []
  },
  {
   "cell_type": "markdown",
   "id": "59838f35",
   "metadata": {},
   "source": [
    "# TODO\n",
    " - Check if the crack segments are picked up correctly\n",
    " - Check if the L_fps should be plotted as well at the end?"
   ]
  }
 ],
 "metadata": {
  "kernelspec": {
   "display_name": "Python 3",
   "language": "python",
   "name": "python3"
  },
  "language_info": {
   "codemirror_mode": {
    "name": "ipython",
    "version": 3
   },
   "file_extension": ".py",
   "mimetype": "text/x-python",
   "name": "python",
   "nbconvert_exporter": "python",
   "pygments_lexer": "ipython3"
  }
 },
 "nbformat": 4,
 "nbformat_minor": 5
}
