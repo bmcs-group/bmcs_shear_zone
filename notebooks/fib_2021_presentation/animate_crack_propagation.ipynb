{
 "cells": [
  {
   "cell_type": "code",
   "execution_count": 3,
   "metadata": {},
   "outputs": [
    {
     "data": {
      "text/plain": [
       "<bmcs_shear.shear_crack.beam_design.RCBeamDesign at 0x2a6acac9450>"
      ]
     },
     "execution_count": 3,
     "metadata": {},
     "output_type": "execute_result"
    }
   ],
   "source": [
    "%matplotlib widget\n",
    "import bmcs_utils.api as bu\n",
    "from bmcs_shear.shear_crack.crack_propagation import CrackPropagation\n",
    "ce = CrackPropagation(n_seg=28)\n",
    "ce.sz_bd.cmm.trait_set(tau_1 = 4, s_1 = 0.2, tau_2 = 3, tau_3 = 2, s_2 = 1.4, s_3 = 5)\n",
    "ce.sz_cp.trait_set(x_00=ce.sz_bd.L * 0.3, n_m = 15)\n",
    "ce.sz_bd.Rectangle = True\n",
    "ce.sz_bd.trait_set(H=300, B=200, L=1000)\n",
    "#ce.sz_bd.cross_section_layout.reinforcement[0].trait_set(z=20, A=1, E=1)"
   ]
  },
  {
   "cell_type": "code",
   "execution_count": 4,
   "metadata": {},
   "outputs": [
    {
     "name": "stderr",
     "output_type": "stream",
     "text": [
      "<lambdifygenerated-32>:2: RuntimeWarning: invalid value encountered in sqrt\n",
      "  return (select([less_equal(w, 0),True], [0,0.25*f_c*s*(-sqrt(2)*sqrt(w/d_a) + 1)*((2.44 - 39.04/f_c)*abs(s/w)**3 + 9.8/f_c)/(w*(s**4*(2.44 - 39.04/f_c)/w**4 + 1))], default=nan))\n"
     ]
    },
    {
     "data": {
      "application/vnd.jupyter.widget-view+json": {
       "model_id": "bbdbd67f16fb478ba4d835c938e25907",
       "version_major": 2,
       "version_minor": 0
      },
      "text/plain": [
       "VBox(children=(HBox(children=(VBox(children=(Tree(layout=Layout(align_items='stretch', border='solid 1px black…"
      ]
     },
     "metadata": {},
     "output_type": "display_data"
    }
   ],
   "source": [
    "ce.run()\n",
    "ce.interact()"
   ]
  },
  {
   "cell_type": "markdown",
   "metadata": {},
   "source": []
  },
  {
   "cell_type": "markdown",
   "metadata": {},
   "source": [
    "How to construct an animation?\n",
    "\n",
    "- Each model with a progress bar records the history. Thus, the history browsing might be defines at an abstract level."
   ]
  },
  {
   "cell_type": "markdown",
   "metadata": {},
   "source": [
    "# Access the plot functions of the components"
   ]
  },
  {
   "cell_type": "code",
   "execution_count": 5,
   "metadata": {},
   "outputs": [
    {
     "data": {
      "application/vnd.jupyter.widget-view+json": {
       "model_id": "421268a08e994ad08b3026c25fcec500",
       "version_major": 2,
       "version_minor": 0
      },
      "text/plain": [
       "Canvas(toolbar=Toolbar(toolitems=[('Home', 'Reset original view', 'home', 'home'), ('Back', 'Back to previous …"
      ]
     },
     "metadata": {},
     "output_type": "display_data"
    }
   ],
   "source": [
    "import matplotlib.pylab as plt\n",
    "fig, ax = plt.subplots(1,1,figsize=(10,4))\n",
    "bd = ce.sz_cp.sz_bd\n",
    "ax.set_ylim(ymin=0 ,ymax=bd.H)\n",
    "ax.set_xlim(xmin=-0.05*bd.L ,xmax=1.05*bd.L)\n",
    "ax.axis('equal');\n",
    "bd.plot_sz_bd(ax)\n",
    "ds = ce.crack_tip_orientation.crack_tip_shear_stress.sz_stress_profile.ds\n",
    "ds.sz_ctr.plot_crack_tip_rotation(ax)\n",
    "ce.sz_cp.plot_sz0(ax)\n",
    "ds.plot_sz1(ax)\n",
    "ds.plot_sz_fill(ax)"
   ]
  },
  {
   "cell_type": "markdown",
   "metadata": {},
   "source": [
    "# Plot the crack path by looping over its nodes"
   ]
  },
  {
   "cell_type": "code",
   "execution_count": 6,
   "metadata": {},
   "outputs": [
    {
     "data": {
      "text/plain": [
       "array([240.,   0.])"
      ]
     },
     "execution_count": 6,
     "metadata": {},
     "output_type": "execute_result"
    }
   ],
   "source": [
    "ce.sz_cp.x_t_Ia[0,:]"
   ]
  },
  {
   "cell_type": "code",
   "execution_count": 7,
   "metadata": {},
   "outputs": [
    {
     "data": {
      "text/plain": [
       "array([240.,   0.])"
      ]
     },
     "execution_count": 7,
     "metadata": {},
     "output_type": "execute_result"
    }
   ],
   "source": [
    "from bmcs_shear.shear_crack.crack_extension import CrackExtension\n",
    "cext = CrackExtension()\n",
    "cext.sz_cp.x_00 = ce.sz_cp.x_t_Ia[0,0]\n",
    "cext.sz_cp.x_t_Ia[0,:]"
   ]
  },
  {
   "cell_type": "code",
   "execution_count": 8,
   "metadata": {},
   "outputs": [],
   "source": [
    "%%capture\n",
    "import matplotlib.pylab as plt\n",
    "import numpy as np\n",
    "from matplotlib import animation, rc\n",
    "fig, (ax, ax_F) = plt.subplots(1,2,figsize=(8,3), tight_layout=True)\n",
    "ds = ce.crack_tip_orientation.crack_tip_shear_stress.sz_stress_profile.ds\n",
    "sz_cp = ce.sz_cp\n",
    "x_n_a = sz_cp.x_t_Ia[0,:]\n",
    "x_Ia = sz_cp.x_t_Ia\n",
    "n_extend = 10\n",
    "F_beam = np.array(ce.F_beam)\n",
    "v_beam = np.array(ce.v_n)\n",
    "v_beam = np.hstack([v_beam, v_beam[-1]*np.ones((n_extend,))])\n",
    "F_beam = np.hstack([F_beam, F_beam[-1]*np.ones((n_extend,))])\n",
    "x_Ia = np.vstack([x_Ia, x_Ia[-1,:]*np.ones((n_extend,2))])\n",
    "\n",
    "ds.plot_sz_fill(ax)\n",
    "ax_F.set_xlim(xmax=1.04*np.max(v_beam))\n",
    "ax_F.set_ylim(ymax=1.04*np.max(F_beam))\n",
    "v_n = v_beam[0]\n",
    "F_n = F_beam[0]\n",
    "\n",
    "def plot_crack_step(i):\n",
    "    global x_n_a, v_n, F_n\n",
    "    x_n1_a = x_Ia[i,:]\n",
    "    ax.plot([x_n_a[0],x_n1_a[0]], [x_n_a[1], x_n1_a[1]], '-', color='black')\n",
    "    ax.axis('equal');\n",
    "    x_n_a = x_n1_a\n",
    "    v_n1, F_n1 = v_beam[i], F_beam[i]\n",
    "    ax_F.plot([v_n,v_n1], [F_n, F_n1], 'o-', color='blue')\n",
    "    v_n, F_n = v_n1, F_n1"
   ]
  },
  {
   "cell_type": "code",
   "execution_count": 9,
   "metadata": {},
   "outputs": [],
   "source": [
    "def html5_crack_propagate_video():\n",
    "    n_t = len(x_Ia)\n",
    "    # call the animator. blit=True means only re-draw the parts that have changed.\n",
    "    anim = animation.FuncAnimation(fig, plot_crack_step,\n",
    "                                   frames=n_t, interval=200, blit=True, repeat=True, repeat_delay=2000)\n",
    "    return anim.to_html5_video()"
   ]
  },
  {
   "cell_type": "code",
   "execution_count": 10,
   "metadata": {},
   "outputs": [],
   "source": [
    "import os.path\n",
    "home_dir = os.path.expanduser('~')\n",
    "anim_dir = os.path.join(home_dir, 'generated_animation')\n",
    "if not os.path.exists(anim_dir):\n",
    "    os.makedirs(anim_dir)"
   ]
  },
  {
   "cell_type": "code",
   "execution_count": 11,
   "metadata": {},
   "outputs": [],
   "source": [
    "%%capture\n",
    "crack_propagate_file = os.path.join(anim_dir, 'crack_propagate_animation.html')\n",
    "with open(crack_propagate_file,'w') as html_video_file:\n",
    "    html_video_file.write(html5_crack_propagate_video())"
   ]
  },
  {
   "cell_type": "code",
   "execution_count": 12,
   "metadata": {},
   "outputs": [
    {
     "data": {
      "text/html": [
       "<video width=\"1000\" height=\"374\" controls autoplay loop>\n",
       "  <source type=\"video/mp4\" src=\"data:video/mp4;base64,AAAAIGZ0eXBNNFYgAAACAE00ViBpc29taXNvMmF2YzEAAAAIZnJlZQAARxxtZGF0AAACoAYF//+c\n",
       "3EXpvebZSLeWLNgg2SPu73gyNjQgLSBjb3JlIDE2MSAtIEguMjY0L01QRUctNCBBVkMgY29kZWMg\n",
       "LSBDb3B5bGVmdCAyMDAzLTIwMjAgLSBodHRwOi8vd3d3LnZpZGVvbGFuLm9yZy94MjY0Lmh0bWwg\n",
       "LSBvcHRpb25zOiBjYWJhYz0xIHJlZj0zIGRlYmxvY2s9MTowOjAgYW5hbHlzZT0weDM6MHgxMTMg\n",
       "bWU9aGV4IHN1Ym1lPTcgcHN5PTEgcHN5X3JkPTEuMDA6MC4wMCBtaXhlZF9yZWY9MSBtZV9yYW5n\n",
       "ZT0xNiBjaHJvbWFfbWU9MSB0cmVsbGlzPTEgOHg4ZGN0PTEgY3FtPTAgZGVhZHpvbmU9MjEsMTEg\n",
       "ZmFzdF9wc2tpcD0xIGNocm9tYV9xcF9vZmZzZXQ9LTIgdGhyZWFkcz0xMiBsb29rYWhlYWRfdGhy\n",
       "ZWFkcz0yIHNsaWNlZF90aHJlYWRzPTAgbnI9MCBkZWNpbWF0ZT0xIGludGVybGFjZWQ9MCBibHVy\n",
       "YXlfY29tcGF0PTAgY29uc3RyYWluZWRfaW50cmE9MCBiZnJhbWVzPTMgYl9weXJhbWlkPTIgYl9h\n",
       "ZGFwdD0xIGJfYmlhcz0wIGRpcmVjdD0xIHdlaWdodGI9MSBvcGVuX2dvcD0wIHdlaWdodHA9MiBr\n",
       "ZXlpbnQ9MjUwIGtleWludF9taW49NSBzY2VuZWN1dD00MCBpbnRyYV9yZWZyZXNoPTAgcmNfbG9v\n",
       "a2FoZWFkPTQwIHJjPWNyZiBtYnRyZWU9MSBjcmY9MjMuMCBxY29tcD0wLjYwIHFwbWluPTAgcXBt\n",
       "YXg9NjkgcXBzdGVwPTQgaXBfcmF0aW89MS40MCBhcT0xOjEuMDAAgAAAIddliIQAEP/+94G/Mstf\n",
       "IrrJcfnnfTKv0/se0zRTP1D8KEAAAAMAAAMAAAMAADdcnwdwn+Inj/AAfC9rl/fjLeGgAl2q0/vO\n",
       "ee3upWcN5WwSqSbrDmxE36Z95a88xJPSnRdPqrT7TjgVjsAABHimX8aK63N9TOsiRf3WJ3GGxF/Z\n",
       "nvcdOE7GQ0eRW9RaCvgi8cjyOvncYt2FJJZ9twBOL9t/Isul1Jq5CWLT/KFny/kCaIlwAANE3h+I\n",
       "WaPxY0wbBzzfKoxtjuUL6wdWRzDKvlDki23LQKapkmQzliQACMCUXAM5Z1DqB2SNN/4loh6F9shr\n",
       "/ubaTzpavQSlwutG9B6BxhPFy6RyI7yqx1uKIa+0FmrXZWmRfQ8jwqRXJOuS4NHclSABbuy31H0v\n",
       "lLssfeewDuGQ+6ducvHAcVRggAkwqDZi7cGzqyjIt86O7rVq+QNtuXTIfxzNJzIBBwNIhydRv53p\n",
       "ZfiBPUmcrcDUxMqyn5DG9YtlrqlgHKEMLCaMjAjBA2NQoUGnX1Mc1jQaF6KVKLXfQlWIdZD/E/kv\n",
       "whcYfG1XIUY82OvyuNgH/30HL1iCOmncn/4XDUi5sRbyjsCO7Tf+mxM8I631LeIQ97vk/CXEL7dm\n",
       "Wx3XZgQ8ZqdXiJDnzPlE4GUZiOTaG76KAbo4RIKaG4h9sV4WxXHSjP0j8f9mJsFvH8QivCMcGIjn\n",
       "aFPOmHeVnZZuiYjs5V32yVvcakNmVuVOLiK0clx62nzAzCHWsvkpkNDXGF/CIg2lEnBSSopJ3viB\n",
       "NnZzIsPteBZUK22gN9Qpd5y8wiJd3KfBc8X+W2rcA6kQYGvdgtc+gmPazSUbATrnFhTdmuHvBRTL\n",
       "wWBEeNj7s5PfYwMclk78b2e9jRUOJaaJThYR2DNd51+Saj6+4ldbUqv9XDop+pEo/LeFhXvXMFLN\n",
       "IyScAn2+OYMiGfjhIQBhHXMHKEZUSUfO4lago9iytFTCFaZASoQ+ZXuudcM7pkVeCO61EVRQbnRm\n",
       "Zr66LPAWgK2Bn1YAN66bML/InzrZhLwNjzvqZ22JtY2V3efPLadAdoWTN7dGl1rTC3jnTHv/2eHt\n",
       "Q1qinMgVs58l3uWiTODp5sQz7rjiuGixQCV7vphoo5XUUXCvhFU7poA38Mvz3HNqi1fUfGKdlz0C\n",
       "MOyF/fHgQD9qPpgm0B1uncWI11RJISxlRnbTFWkxxpoLJQs0043m14UPyrmA/rpZg4j9Ihd77hLp\n",
       "FJlP6VF0WfydEmLp/7NC2mcV7uIcXN9ewY9AN1P4NCYf2kffAd2WjnLNWPkH9MAgICOfjbLxuBgs\n",
       "PZIaYKw9hbI1iNGO+ffwLwh3/k6pOW1jfev97hGvSsQqtEhWSRpNlnqw0G+MKcPOBNx4xLk0V0fc\n",
       "o+xkMqIxvsEN+0KDIikOfD21C1hOSYFCkdIFeMeiLESLwT9ZVGB6uiHJOSFrWN5Y9O2CBcaWiOaE\n",
       "y0+7VGjrZwQoCkAanCcHryjg+8/kXdoyAaVTo8+nGo8+RKfLf15No5jYitjXYavQDQqDaJGnf/xx\n",
       "ISxyJBMv+LOSpXHJvBJYdGga1bCrs/Ukpoq/2JRZnBjkC80sjDOyce7qiWirW+hwJrTFEYvyo1Sv\n",
       "4O/6zVAgS9gAp7ArSmgANnIpXkG2s/gM5QY//43L/i930nP9pdh16/wstcM9vCyvKs//O50kWrNB\n",
       "QKsRb6N8q+qnHCK/Qz9p9TR328NHYWnu5cFM2nCMzca4mktMMAnzTEqgai7sLw8TEaoycJ84DmLU\n",
       "iAHiOISzR3F30FoflozMa20HCZYI35PzahAt3caVrEJdA5FBeqWFPPQY8x+zFVq6JFqXDkkToNfj\n",
       "atC2CtyoaiIe9zG0FxUTYhqWuH5alIJokdrYy7QMqbMWscZBNj19j4nwd7jjURzLwyiC+RqdRYKz\n",
       "7sjfCqKCK/X3ETbSzfaMCYLwBatruloGNrNXRCYTAbEV5/AnkVbplshxzBnf8xNIiLXjAZ1CgvPW\n",
       "ZoFYBYqktgMaZCP3ztm93t72nyEUTrsOIHCqnVzZWwWVpwFoZEvFi8/Bvzuf4rKUupGrHWPtAi33\n",
       "68mSBce3faLEL9hzCVw3WYiNly0ncUcJmYW81+lI/1NTqQ6Ws/hsfWCEbf7cM6Nqbt88nhBWQvQs\n",
       "7/TYmT6LKfBDHiiqAzFPazcaBEoLiW/KkcPIKIe9eeij9hs2dhAZ4rB+3jDqVWGcRntSQxpZ0Heg\n",
       "SCxbj8zdwOXSGzangCZockUWvugkjXzdceriezlNfFJWfte89vnedgOohYvEoVQVLYeNQW/i2Kgz\n",
       "QN2RwsotLteIb7qXL0dNLKtSMx2Qt/RiandyqZvOoeSL9Cpw92JKZLT1OW4P9LdsURCOvUTK9Kvr\n",
       "zCBxPlSwYAPGAsApaTXR76x9woO+sgtB0Xz9Vjt32f5Zz5JqyWeHnx1IqAACZAdv2+BXLgAQNC3y\n",
       "B0x5djdyjIm1hLg8gYx3h8SUggSuBeFhck3oR7LfT0JGUCwQEAZUiyIrx55y6wpxnnNb1un2UQLR\n",
       "tNKPg8nCTqWYCg1/vlyPxaOyGUVabKhalUNN6u3/huhYrFP2/xFt9Tv7hLxqF2O553vaIyxQEis8\n",
       "YV3qiSe2l162bwa6m0586PUzD7pGbY6ga3f2ZDELBTOyN2lchppB4MT7TpHB5pOcwavWSjaAu0BP\n",
       "xr/MZiZKqAkVVFoMODksM3X86fiE3CBTQx+dKn3kR6hksDqXcYMSW0xhLIV7Ubm3cN3WryPkSn30\n",
       "dn91z5p9PuLiXoeYOCl0aWL8gn9xpJ/WdVUCBVDa3czP/tUi20gGVpyl2PDi9RWP8seDvDKJzEBX\n",
       "3VlHaFnqjsHNbk9YTKLkshe8Lkuv45ipwJzY1GfYBivhkrO0wcpIgA7Zc6gg8Y0PhSvSC81AADrs\n",
       "rep29toCLX722aT/pB/rMCe5hMbbFftcQNcbs2qE/ZViE3Zy9XnkZ6T36DaqqIoSWGFKnGevdI2C\n",
       "JtEaS+oZMmKSOztsZDp8rvg8Gafbrggiznp56SUdDXv5GFzGFs2Y32frj03hsMOms3KRTvH1PWOZ\n",
       "zuMcL5N3LJZQAD/8vzFrMb5fJWT6/XqQyy2j7sfbiIKbIcmCakzAEsx0BvXpTkPC2EWHrokusf9n\n",
       "ldfyN3eL3qGkx98zWuCof/1+oW+RLgfAAnhb2q7rijabl31SGseIPjI2htcjI8OsT87gDTI5l3z9\n",
       "bChN4ZvV6/UgodPslPpThVkXo7ZoeDHuS6lru+/1h9PDMnBXMmd15DDaBadQEk+YGN2oUDdCN2SZ\n",
       "+vmXuw5pMom7UV60cIj4AtS0nl3nyonBFed2X+x4iaJQkTIbA7yiSTh+e3crEoWly+8TmJQl5dGl\n",
       "fO9P4jFwwflo78pGpFc3NnY8kjnRwUi/Gb18ojF59xrU7nfIwbSX0Q8y0X2B1uESSNFsoV2bOwxN\n",
       "T3yBtWIV1nD/7qbf7Qq8ubMkjVkgDSXzll7KcffX4MBXkEOcSDE/kTiztS20JyV/4kUALig/5qxP\n",
       "HeL1yDdWScaxHtxSS2S7KS1YVF8n4P0oFDlI0k1dfwhrdNNUpffFPEdsJkagI8lQs234yWNQwP1T\n",
       "wXdOUC/R3ev9j8+ugz/i4NOA7XzN8zrUvlTXw2L8B5OP9O8CpSlCDBkZZrtadOWEbK3ZFK8iiua5\n",
       "QbC2eApkKl+7UhGAQhITcc+1c89yapqoAjUCUD8Q2onEdwPeC811pR3sie9wCiq+C0ieUEFhidN0\n",
       "YTx1ilxhaY9/PXnUEaP4NfL9IjYse7MmfvQEK3nD4SU4fXyDbIAGgY5wDGcKCyP4KvX1WgbTqvvY\n",
       "RP+RcKfinCkUx7s+vvz6EZeIEETjl8JSX5/mcwZzw1Yv6TCDMlATCCz/8160iaIZ+khJkF1uoxZz\n",
       "WZJpy9pfYYOA91YGW3s7Yydk56MEiZ9rrbD9HjFXa16sxUgJM+mhqZgZa5tC2MY5O8qTzN6NB44y\n",
       "CXmOGAUwtcNav/1C4qPHYjzh1uVVfflajLxydwApkCOqKIk6TtQmKyYYaVW5BR1rFTmwn/VyIgSb\n",
       "3rJAMU7EQOpGNro88u+JjXqbiPl0vek+STZFAYRGcXp2n92HtAfSjjTY/sP+fj57l6GpU07fxNU/\n",
       "jAMDKfNTNjbURznxhoEpYnTMP3mRpn+6mymIvzGsws3B654LESyGCrs4PYzd/IwR2AUvODqH/6I+\n",
       "A9tUrWQGMsbpehyTTuH1NHxGjl+ONb8rsoiQBgvG26DZ1hi01DeIbobLmyvhVz88JjaIBW7p22YR\n",
       "alR2MGFKOrKUh4ir6XEaofMrbY33jSnmgv4OZ7UMxM4TSFtHd8U+XFkyyovc9VzXdRvXIKexsrac\n",
       "AVPFwk47mSGEQXYe5W2oBOmz7il1JKgXT63wCn1PaHxaKOnLyMgCyX4KPLDsfX8ay8U6gld03kz4\n",
       "56Up2YuPSqeTVO4WdrvaSSDI8zyKXUrHNgAOug/MxNEwvf/zWERKkwxVanCNwFDYLU6BBtNJsz64\n",
       "K8HnJ14FfJGxjj3q+43Zhx7IMEHIEHU9Zp++ViHwIVycr70+Z3QqKZKkpCTTW1m9Gbxfe5VpFrIg\n",
       "weGD5+q5Dncio/pJFYzm+ObCLMzLw0hIccoA+9dfEAC1Zsiw/xYCYBdSrW9iivGMW2KM/iTWIlpa\n",
       "E6hs3FY49ROi+vqQA6QjqLTvNqNJsa3ha4jyiby8HlufP73wOXXQr8ifdxVCk/K51KnMl5jI/q27\n",
       "MryL6fHn/MzEIBZZGMkZCtuxQzGEqZehJ3p40EjoIR2MkqEkja9E3IlUZHfNdxRCFnYa7ebKgPRC\n",
       "rRWByY59lNbT3l8B6BbjedscYlBnWHXSzgMcgTineZ9+h8s1tT7LH5tseDUPLLydgPrk2OGJELx9\n",
       "cL0WK3YImJjc5Jpmm0W5C4gRHfz8DGzK5L+AFHFMB4AAAdynhJj4eP+9QvUAAAMAOIYi9oFDoU4U\n",
       "DJRz2bF4l17H2a8hfi/Kj6n/61CwlMKxCAJtVC3gUheEFDqIBxCBQD/4DGpHQJKa/lFFtW8k4Vu9\n",
       "d4l+dkJkJbJvo1NxYvuv8ubqJM1amE7y2HQ4WHbmlxSUgPk+qz+zwKm/YrhlX+ufqZULT/mhSJ+I\n",
       "3vanBVpB8fOyDO6NgjM+UkiQWUGo92uIC0E8MaRb3rw4rnPbKjpFE6lY2XW5LsoSiWN1qqoplBfm\n",
       "6H1elLmnWXxVtA/nOZANeCmiA+9qT9BABdG8eL3IWX1XZzdg9NKOCFD1E7gN7X7K2K1vyHdlabIY\n",
       "dsPJYtawwACQqzHDbv5Kcb78F5nMyLyohIhCbnD+I2IeJp3gStgTkUszFTwgFHLfhuXlbIgeuDkC\n",
       "Xf2aHFkPDIf6Ape6kfFR8UXfUBDN1BIAUlc32keAKsJrDIx1awLkiZio3LpT5pN7+r2j71UrnByV\n",
       "hyQq7W6g/T/tFhpDlpVsELn2GOjxrwP+QadbMd/FB28gpR4R9iLErjoQcicdlT0VMcBu5M7hFss9\n",
       "ffBGS0JWR548xDwZMdZNaVYW4d2llslT/E7rc6b7fCkfJZAl+uy82Kk/hXGIC/HpiBp0U2LZkC+X\n",
       "j+bZQx24EF7MNgdqOmh9w+7mp/okQr33RQeI6wALw2nSwJQCX5Ajnsu3fIM9LaC6ZXI7Yfq8H0fS\n",
       "7cTgEYRpZKSRsCscrLsfowc+aKqLqfz1yhUxrovxvkoro4cP9DWdM73iJB5x3PcbuhqRlcPWl6vq\n",
       "XaSY1mHNchHy5md/1lnFz1L3AM7G8svs2wNL+v0Q3Q8CWC9Ut/6hk371JSc3Ti+uwRaHYwMBFKzj\n",
       "RNqZ7HV+sHxOLYTp3+4VoXg6kCez1bZbn+enU29F8vxSPynTXyuJ7KgVmw9QaqnYQ2mWqyAV8fsK\n",
       "BF0IdTDKTOLbBku22JZjpkZARzVCspkGlyZAAAozAduMWTDYZfdIn4cbyA3bB8vvQU9PgUgdH3Ez\n",
       "lyM0+ER5kfUceZrOaSFooMl5a5WdSZNVlp0q97qwBqaqarWcU84cQ6VlO2VCroYnvevSl93tVqyK\n",
       "A0pYvpkhJ3j1XCv5CeLUf4NiEDKBLm+IybpcEGO/b9z1WMX6E09mYnwYHWSm/c1FD5bLebG2yNIs\n",
       "bIc/KkySjqwmC4RZcQ5bWutGubTn5vKHu9wztdGpAvOj1izkckeSHlnPkBxi/1dJ+mgEAMef+8/L\n",
       "b7DSUOYjt4oOmO+ZnRoJWeZAlfwWZk0QNsqov3bPd3eC4vtp0D45b/OvYro7W9O0v1IIyY3rPjFB\n",
       "pxXrkyMSq+zdnRi3ExxCM3JJVW7e9LFaVPwnRxPSwMpCYmf7pF30AJe/CEMR4q34CN/MBqL/Zk06\n",
       "ZyHMNxZw1I13M//3ta8m44YtZlZKhMNS4Hl8yDNiRtLl1Wtpl/NB17v//v4Ysuo45YxZWsV00Rsl\n",
       "DCmeupAeBs/t8R693a0NrGpVGUYIkc5w8IVOIrZNPIfi+CapKzukEg46z0opnx1KAaNu/Ohb1pvz\n",
       "8DFJTSM2XZcXxduA0t2LHT08aAw9oSkI0JUbWR3GRwpVPM68NgXTSPaT6qM7f1+eKBmTOBY3/O6n\n",
       "bVoQ4/nvKm3rHjmIVB6EXrpzdInafdprms5BOj4u8wUPbx6hjuqulnWY0tna+xRni6c+E6l4jrFD\n",
       "fx+vrzswl+Y6H1Nx4bnBZJw5+0VDfPSBRf/5m0Bzkug2b8D7E14NlSQemFZqxVxaFPRUMKiMCGwN\n",
       "gwYD6bsJl23nGRXPTkCLR7cHnL1ri1mOlXAKMXOg7Wnuhs620pN4vxMrBc6CDR3+oIoaF4thpCaY\n",
       "CAw+Vwtpbpa1Q0r5xTIV/Z/m2GaBcKPhKAVjvJW5foJC2SENs392/lEC5gOYWtPuChDSjroXDiXr\n",
       "AxIIVF8Icy7i7mCDN+SqMZd5HqqZTiriRq5QNqB67HGbIuLi2SP4LGp/bnjXogvDVetM6O/9N73g\n",
       "reXV/7wNcwE/orOBpTIGNfTyzzAyqdkOJ/HDoma0CHiBS3U5Dpta7N/sELfT1unPCD/E6vJRP6J7\n",
       "4hI0K1ce/qRb69nu3kdJEKzzMWfPclESlr2cddv8zj50gZAmkLZOU5fM7bG8PqhUXdAqT/eVGSbC\n",
       "UUdJEKz1o5dkgdE4n7JzjAAOr9s/c3X9ta5lj6+5ftI0A92bCAmDMkLRripM/pVNyPlxjaBpMP12\n",
       "vlRkVHr7WfAj7DniFgvk65pJPiaus5mD6LbbJlONj+6zCsbYWADVl7N1/M7QqAd0X05dCaraEkr3\n",
       "HdLN/dow4FHheH7eVydrR05OCZnEn7uBEzFbSYHXIe4YE1vkVa6Wzev1qVJMU7+Og2M8SOYY7SPJ\n",
       "umgy4eDrduH1wxizTLm3N0CCLc59ensBkXQF5dsXOCvtrYYRN4WlYzUVqbNKJbfcPRlsuQI4b7zO\n",
       "1QFmUiBBGvOKslQ4h0h9BwDwJ8K2fZwqjfv0hbTqgbin3HLxyV//vqY+VRspirdYu38+Ubz97KWB\n",
       "OQela5dN5eZzdBNLPPSfO0lU2h5hcb4Wcml7GL2jHT8FMUUuSKx5TjqyxNbiZK09puR3zTi6y3p7\n",
       "CLVH1+eCbgTNxugetlJhKsMz/IJ/eNEpizj237o1ox6RID2te2aSOPjxjwuPSPve9YSHKzFTJq24\n",
       "sVW4ak6nReIy/1SWiMSvd2DNhy6uIT9jnG77EhmIftfOAFUcH86Zu+tgoM5Ulo5oHdZDJDWANrf7\n",
       "vKLMYWQoIF0L/czvTUlMGnlpoNKhPZzSwzLb3g2l3SE9CY6idh0BKc6K9QbRFn+qnJvCljo8zy/s\n",
       "oFBy2xh0wOkqs+KrjlokgkEv/oZtyZokBs4eODDJKT0tuuUOGO6fY0+6SjGayLx4b/EzE4ZUrMSK\n",
       "7fKbcirVlFR81eMvsQTYXyYUa/uVyPdLJea5DXVCGC762ETk1L+/VdpK6rFDPBzOFF1uf9shuFWP\n",
       "GiiUKb+cnmlixXL3bLoJDmWBBX6ILyfoOmD+OTNThUF1+A5KAw5XMsjHx64ucyamRZKYGFbm7jkk\n",
       "ap3FMWw8ZVw7zXnyT9RBBvP822pmB0eavA0/Wfkn2EplA0rqKdTV0rPtKpbzIYgWs1bGY7zqtsYP\n",
       "xkaxV034/UEMx6DEUug8Xscxoh7ug+OBtvvWRBkdy/soY6O74DR4Ew66oZoSkYYSAErtTanQJhW9\n",
       "8IXD9ZeG07vc3b/nbfrFzHHgZGmFYgi/S4nk3H3kwf04OlAA8EGzNQed0SOyLYNmU2slcHGHorin\n",
       "oCNVFNzQxhx/W++Bt0IfbasbnE4S6BWwyJbf4kzwJYnN8D7xkYLP8gIFKFEME/9v8M43eLVttbLm\n",
       "GVLDimJn+6lRJcOSY9Hk+/PHxtAqpNUrhEvRzWkzn2N2AzH1RreAj39xxP1q27Ssy6YzQWPSivkj\n",
       "5iEEc82K7ghYfBbtv4wdmdvibXM40k7EQWV+05qsD45+GB0dqLff6ZhZV5eueHVm0tWd+km2Am8u\n",
       "O2XnHeM7LTLBzF9yXjIjFwJGavd9vk5U9UQgwk1X/Av0UtCb72Dem2kGX6rku55aDqA/6z62VGIL\n",
       "BA+3mHf+SN++tSVeEeNuRD2Vo+nvMFqc+P9RtdoHNu8p6gK6owgIGq6pae8BCXT92GYYEQXpoh1l\n",
       "DuEOGAUwGiZwu48uyZ2cKABXKBitwnbBZxdD7U9CSAqREnOURdDaCJ8sFTTLZd/vzIORT7FsFa99\n",
       "DEAump4z9aT4vr7CgI42Ah8scVEHCzigMlNgD8fks7voAxhP48yzLRHoYmdYfWvtcslNxLobdPQU\n",
       "HVp6eYrqEUdjaan8s4MD9tqDMYVsr52sjRKb5yOx9AjHAdknjThAl6NH8IWdWWSv7L8QZTitpeBP\n",
       "w2fcrvj2uqiDVst+WujPTk6JXu2gFonS3oEUgRECa5CpeJuR2lvjgV7iQHer6Uv9p90TjRWkVTXK\n",
       "IJ7MgOefBO8DtblYhbtG62nvIY82avheb709mPZ15ED/nwd8RYVpzsc4v8wmi2o5Rz+FweOYOffo\n",
       "cHG4HszjxQH855DevK6tZKyXxnb7xiLl1uO3WTjw87L3iY7P3woEAh/FhcPOvRHiCer4eHMMd3jx\n",
       "o1Cbmal6A4H0L9FKTZWOneDKgwAdKfKFfJeMX8lDOOGe20q0M0L3vD6Ahtz3uTlo/0QxdUOcmG/v\n",
       "y8Cj71niYHrt4yyuNYO4sV0enaH+A51fRdG+5ZhM772XmZ7UdQl7n4f7rMBbIFA1Sw/2ki8Jgt3i\n",
       "5Ydjh639gGt8d85hCRz0WI4RNlflnXG53we5VSXx2ZMeBTlWHQqIdnqLwNQveVtDOtuTuciqUonI\n",
       "6zMOKgHA4DCAm+yvlZPxNbOWcy+umtGhtTpkKt4ZmyetkKOy0q3xpo7bJP6u+E2etusDo41HYaR/\n",
       "ubOuXi6mGq5n2DtypsQKSOdnXa13d3DC+ukv0ns3Z5bc1rCDG3If/fMYdaxMFnTD+GOkdlygA6H2\n",
       "ZbujZGnlp6RGlC5BOH/gVUVy1t1Ut2NxsTLwmJDwx95N67OR/H3Ywa1fO4qdPjQwcAUx4AiOkhDm\n",
       "K9EB3umAnefb+mVA+ZzyiAmYmJLqqfKAAmMY6mq7AnbklQHrXjjtfDTVGaw5ixun/uMXSpDy8iF1\n",
       "DDRP20gUc/VQsU9H0dpPUhRsTarVzx1z2Tf/MLnQoGbas/AF8QVMNPslhnTqqapuJL3zNEbzis6x\n",
       "24Ew4Xn198xfnN6w8Uf0sZbW6A2Bq2z/GC/+pcg4kF01/Yszamv5u3Ffm+IwpZHDOy3/xUoDnpAa\n",
       "5nUqGifto/omQBJyH0fR2k82vG5B8gtdGmlC4PzfTCRmyeMssNJTlWMoCGaD54Rf8WLnwD7wYXWK\n",
       "mXi/8UhwvPr75ftwNtMjzy8w9tsGmGKcfDZFzvZxtUNFfprg2RD6V/z+cdOrSz7YVVMr6fIdFuxA\n",
       "gDOG7rPYExG+wQWpy0eE0l5kHfMlKufvvWemxYJTkMcPAk61YLU2TR2FAosgztgMaaJsKAVqV3p4\n",
       "VqNnyYeCjSvFua07WlNxvgguC7fToJ27aZD91pmNBON3tt5mLeVHThrWIi0iqcIboSSGQIwL9zdX\n",
       "a/cA3LVeuao8RnZjbqiTAbvWzv6GHMdxRPNqkcX+wETT8JPtkIpTI8TZnlnDBqHNf9l2dVWAJ4dO\n",
       "xIqWUsio1Rlh0a/Rs7SRau5XpXr23g4IMISu0681keuc+EAa7d2FEBk6t3dN1K7N9BrqLvL9r2+u\n",
       "8GKiphh2rFbrTcr4+qLi4N1Wj5sM/9q6ErJ+aFVRLqTK7t6xxAwLIia15J23CkOKonZE+YyzI7Vm\n",
       "WR/kOLQD5djUVcHSBcCihBjei1UJfvbHmZu2Sk2vk5peNF6rlpf36G8hIhI//rJaebdeQULeowrA\n",
       "16Zj5tl/9+i7kX1DWcEYecTkeQ/bqVtnCiAwFA6I/KFwJFVuluPmfIhPircUdrUSYnrjrcQFSw5O\n",
       "Mws7THjhcd61UM6Vr+9wAE0a7bQCywx4nNR4G0sntUSJ+5sDiwicv0crjjDVNw7ZG4vZfR57VBBu\n",
       "NTCBOvXdjovdu3Au69TFVvMhJyWhMedtOXJt16zbSa/1JpulbrPTIZ9m72PC/DivPbbGwdVIu2aR\n",
       "Jjp6no+Og9r/H6veiiIa/Fyet98RQOcdRNLVDKxnuj+/gi7zFkhEdtdMMmwuwzjPMZdXh+wGQj+Y\n",
       "cuP06dpgHFo1Au/DRrPFseVdy65/2O0Rr+q35Vtwl9CBSAcOAdp2uZt/SY9eJVXLnwU6JILctusU\n",
       "yCNRVnDm1Fk43poCgTmwv35iGxYbURODib+Tdz6lJ1dE6VRJPg/WdV5MvfLYBthl5iCLtoSj7lL9\n",
       "4BRd96NggrFZjnhzdVD3xx+Dv7YkPD4lkj5efaBtd1b+GomcOEsVIK5smzplPKbB8Sntr5aDJMWk\n",
       "PYxTkIBAbWsYzHiNzfK49kAuzqRF3hC7Xk3+wpdiHdS8xlUQwk60ZtGW5ng/ed8vwlliRjkh6Bxf\n",
       "vdrQTrzhBrlb9+w7/XB9GfqkFRN3Ly0dqEm0AzKwjwmEVJi9Jx08acLlB3W0yIwNrluARB618unW\n",
       "qo+60wvnGf6mApz3fffucgHfsmLZxbfRzUQxmYhNX2O+qbgB7dFssqQm/3vkf7ZT00jQC3JFt2lN\n",
       "ucQUr0NPMZ92qaxT+p7ThQoJzyn9a8mKv38XWtQx1ck3FtJO7u0L5gRdcXg1Kd80Up3PnQijOpP0\n",
       "Arm4CoRjzan3XjW8hctYxOhOYN3G+auz44/hPWlqlTw16QbKgNr1GRmO3UBaaroMGkI/Oie4Wya9\n",
       "XmkOFW1/aL+qlt71M1H0ZYFCfdr8UH52hd+yKVBbuiDaB/hMDubI1DRwebrtVwi3Wl/G/WdQ5+t9\n",
       "I0flTAbegPNB4/XPpnptIA/GZjy/EEqnLE168yk0AKZ+0QDnb96NjxsdvdosnOo1Tefih3mFWaYg\n",
       "h1qJILNoq4qJwt0iBD9r6qWKRB/eihufsob5IP5xlUI4yjDGEhI3VUcWEZV8f7NhEgyV58OQXTiH\n",
       "d5jhgrUOe08Ekj2gXl5yJ3tPz5NMdlVB7g1ui32OM7xPWF28sAAAAwAh4QAADOhBmiJsQS/+tSqA\n",
       "CghlDX/RTVzhTpsQcnZzms/40aG/ADmbw1xHqSCBmSsTmwMoCO4Y43ePtl4GuwobL7Xp6fpsq/f6\n",
       "EGFQcWu1k15/5Hzqb7k9+uicyiOhJvbTBvpTMMAKUQ1XkgKxmMlsy8PjBnSI9htU1DFyg5utkKF5\n",
       "DGe/bGFYJgJJysqgGR1j8ktmLEf2QVci9TkmiEWxaxRVxxhIxMuynJI/DmipN8CewQv4e+YedzH7\n",
       "iPvWbV6W8QsQGXobBS/8gA1ObyBO5HRi1B2HyO/DzMKqJ6blXGikKedv0vKNArEDJvBw34fSN0O9\n",
       "v7ff3d4+tDK7qTlPPl4qigWrae3bvkelNe+HncFqwxjj2zWBsoW20EIJ8xTUpkrUdRBqW8jDKKEw\n",
       "yLzS6MX3G15X3rF/i4NDLEGKqL98mc5A1U8Dwe6GseInagp/TmrMzmQtTNEfqPr3VHqqsiC5gSFg\n",
       "0TgbgSsXNyVJPzrLWlz2XvizFqIYvYgPZkxi+5TgFDZ1wXXfDC/2ELJZ+6T84GLsyf3kd1sJ2ik2\n",
       "Z7k1GXwQGCqqfTeZWZyVWqS3MozpEqW5xj4vg45lkIb7LqIw3VYiz5lMxY+EAGBGZsISgqWACygM\n",
       "twVEHx4POsjISKKagbJwrHbyv3CWOrr/vi6f4Q2Im5TNWFVm8GvfBMi4xpTIGFYlliBTN0tEXKwH\n",
       "sJnm8or1fMzyB0OdHb+JVj9p/UICf/EWGjI0KYHPW+wTmX11owzb947dmHLL1vBJtk9xYHVvZ23+\n",
       "PNfrlV+ITOyxFF9GPIWQIT9HMy8E6/qWEhHaxGLUesfK4y7r43BAn92Mqv9vuOVLFeIxnUuYvlwp\n",
       "zGjvWPEeWTcgl5pGycH29I9ciIc+LsBgBUUDeb3IrZIUqA6A3Wv7wEISV9PHNjNVm0ubIYYy9S2D\n",
       "j2XqULT6nt1oGTEA3Qb2Yn2ZxuURYPG96gixQf7m1kHff55rjrupVY687N6vKZteLfhg9tZC5/nq\n",
       "QoYACZ+hp/ExKhCMI7SWso78g6BMJ5T3NKQ1QegdP4oAG1pVtKR8FvgZMI6mBFwoRowezHYdCW+W\n",
       "CL9BeMXCnROBvb8iqbrW1n+uPy+AD4qeWKc0A0jLCVRXqOkSJFtW3fBRE+bMBgRziBEjtx1ksHrc\n",
       "XJPqUbnRArd+o/Iwbd8Gt3bvLQEEuv+m3tcX9APiHc2+KO3nfKOb1peRCZjYjFAnnnF2pBx3ZpHS\n",
       "1fTdPgZKM5FKWBeQaUy5Tl5mKSw17CTkcak3jfs8d1KmItRoH2Lt08K3jYn3KDgl1ot8GIJXp8io\n",
       "9YZwYnxdtLa76cigG6n3RK1rQkz4AXDcmzBizDfLlzqrGVnU8KHBc+5C47VONt3/5EestAJrYS1R\n",
       "66kKVwlG5PkoTqEFEmhKRpaiLhabktLOqSNX1jS7E+K5skASap2PxeFIjORP3R2t7G3oDtLc0tTx\n",
       "g9EDFXGmtqniRuztXcNNffCi8kwZb351cm+iBB0TBBWCHpIJEcqiShgdwhkEJZiFnE5AzS9ZGUHj\n",
       "9WMti0hS0ANB1Ho68jeRNU7AWMS/veIRz4oM42vUX/Hf04i1YSLg5E6wZxiW4kQ3S7HE+ZVvDeaR\n",
       "gA879KfVu4U/CYyKTakwLyQzU3hehAzh3oE0RJ3ZCr9WSOjGr+Csv2in/E49JaHEaEGABO+Hngt1\n",
       "umH02hFE2oqrxtmNx46Or5o7EKbiLZRgfoEYFeU7KhAq4NgsZayuPXvijXMQdNJP1rtvWzl2kbYN\n",
       "zRlxBDsL6yyr0FZJr9/zQRyNpHyJTHfWCZiMI7gcM5xmDCnVtWlyScoJ26231z23GvXx6vpFTKwF\n",
       "GFn2YJz+qwijNwX8uAd1wrTM9sWx/ihHtFhptILLHxarHfR6bxJQ4pvIfL/CplRDE9A+4AI8/k00\n",
       "oCoK1pSnsWA2gP351xnZlYkDmnKYKoKHirA8HogQUbkcjOgu7C57xNxAszYxB6c3Lpm4rmoFkPoj\n",
       "obgdzoZtPuDduGCGk+LdmHdSS7pSljmw+SY79KYx6MT1aDPYL3b1hsUyLS/SqWzTgflIQlTq37ck\n",
       "srHis7cCLpyNttwS7i/Sg1i45IylAEJGCFv+glKtHF2P0sFIYS0FaHMXygUBR18mGIeU+7n4qzEZ\n",
       "CMQbJn5cb2Oo+ird6pD9EGZadZlzq+4+rHPVClEnBS/7RR+w2zcANtcbw9G8bRZ13MowF55F4ddB\n",
       "+I+KOgVMxLM77ClmJ6mhLBx+NaJFb5rsex6Mw9e/5QQC0cLRTINyf9FhF8f8cSwavnG3bgnB3glY\n",
       "SHeJAS7VIntzKp5SjOeuGFCI4QE7dCnmRcJ04SYWnMYajlT/qajXRybYCvkyJtxm9dJsvYZYFEfr\n",
       "YfeUecp4DdszVXXtAxJc8wM/825gPL0+TTliJd6YQ7ORWyvKIi/btOQjMltsM9PzvBhG3Fd2LNYb\n",
       "+DRSLR6G1p2yFIBgajAnr/43qjMGfuhQ6fmX0/5fpothu5I1lWL3xEFlktwTwKV7aoymuKfyNRgl\n",
       "dMpZk5ChqymOSMWKKIgBBJdDbA6zlmC30XlDHhjkndnTfFrkgaHdxk11lqCxAsRpcjgPxcs8FZIX\n",
       "o0S9uKoyu6VJOkPu/0sVaS02op9J+EJkuUXAb9WKjRtqbqVatpx6tQL7W2CaUcESdhDW+YCvYYoA\n",
       "EyVT3tTspmYSNGCjOpa1a0CGsPJyxjl/sr0F1HFr9fMXftW0Vfij2mehbE2dKR9W6vMIQVXzZJBu\n",
       "aHrIkZmwAepTnKmW5rSVwoeMOyMIvnCggXgN61CReIaSZEOT6SvV7OMldxyOwxc7VK6NeHkdZpgH\n",
       "2oyrj9JsHx2sTgGGUeGmyUs/HI1Uypt7q8hNeB57h+fBSURLLMSjTa37e+Gt2WI9lAF44OoCPUOB\n",
       "RJPy+/YCNv7/b1kPcC4qN0WIazhF0sA6ecXhUZVdrCzj/v80Egf7TzE8jw/eipHyMcrKECg8MHGh\n",
       "uVGCPblf3Ku+lNXN5pf+eEM/mgqcYGNMdJWyoHHtH/nEvLU0PRKZNjDXZvqcEtba4AiuaAHqY75j\n",
       "+3UHwUDh5JR//+KsueVSu9fnNvKdo9ef0K6nLet/5kLuLqpNNAPq8cWrrX8K5G1/lGdnbCvW4bND\n",
       "FG0JRooerH9wpfJWuRJWasTfVP//YI5wx1jZ6Xdc9AEW1l2x2EVEoCqCm82sUiZGNQb8P/nEVRGU\n",
       "GaI+2Sl2AKGVWMC2xtNJf/fG5/EXA94i3xFHaJVVdJSzNDjym4UOUVmm7mu69KhS6pILzwXjMgrl\n",
       "uEqgabNZFXIGbGaUYiNukTaexpX952hdE6HNLkGGXXHOHa7NL+qhXTZ2UE0ijJ/O5LF/P2RKLgVn\n",
       "Ee3mRUuIavNWA1qd8M+R26PyGZcxGza/68Y+dnu4oLI0wa8+nrp4mYo+/TAhQeD2IsDP//X0eSvb\n",
       "XYh7wt4xYWmBLH7CDLrsvCy0f6YyRFhyVJkbxonbtTAN2YLLV/sSim4DpJ3pBOoG8JJmq3H/2ZzE\n",
       "hp6YVFPiD8HS+k0aSa+h5IuGDR1w9vO1+AQ+nBNw/JppBRCC8nsSvH6ekdzX0Zl2a0nfajn+IZGg\n",
       "q8Ph/eHuc4g3dD4Uc59XwO/jUv2Cooy1RJCZ9KTJeGZVVHloBNH7/wja5dF59n4uEUU9Oq70UTtK\n",
       "X7wLKcMsWJQKvJQCUaqIREMXT1u7QszaV2IQ/nYr1g0UdrYvg6aKXGvAcW2rE+bggHSuT6p6t71q\n",
       "jnJ+JLVNvI7KtFLojBQgAGU/6SqzHuJj5Vcs33fwMZI2kTOqmFXl4oGpXj4o1kBOiFJN9AqiobSM\n",
       "95k61bxLEjUaXAOCdjHsSt7dx9BXv3WiPlkrbo30vIr8Yael9ivDXvv8fHVpLZhtDXcYoeO6fUhE\n",
       "5UsMW0iIPclq3bfPSPaX5+FlLvf3FWjGb2jv6gFsp97l8NIvfoDwoDYdyHCQG63jwb/pw6haNGZQ\n",
       "wnpI4Ma8hc7K2qQ7ZVQ93QCkgdtIFBTUlmAc388OnIMyMfIkm9cacfdLgwJn1aWEWgksRzjFsbqh\n",
       "8tJ0et1452K7YFC10lxYwVlEDWedC/kPIao8DvFL3EFBzA0EFOIjDmw6PQpZNOXaKI3B0b2K+2iX\n",
       "pJ3cyyAYRN3MpFV7pZIuBTgBzvFigreLCNniZJAIB9/g9WAXo9n5B2dzgOm9yp69BdQX8CDPTx1E\n",
       "1MHj0S2eJKMGxSvjknjvKcpSC60lualLuf3V3qyrGAyK+3kfskjFdgxwofQ6DIzrbbpYPKTxbCjN\n",
       "ElDo8Q4I8jHurNfwav4+ufBAXCpTTAm+ZEan9llp3VleLfb210NTmisjrg3BA2F49XB0ZYRfW7X6\n",
       "5vuLozPs97pNaExfxnxyMaLqkI1L8vs9SjyvzcBhtn/mnYBC2Jr++FVv18jAAAAA1wGeQXkP/wAb\n",
       "nM5fXM/z4txVmv4+hYHnQ8Ici2+PRG1w5BgAdeRz+HesOqpYwZEG/XHopcnAokIv/Baa2/bNHa6Y\n",
       "lTDcbUOiKSq22fMftAU6KfNof3cgVj70vaCpFm6pMcjKcGVjGywl+bV5k1AZH+xh+yDu/GnTtSAi\n",
       "9JcgRoyz9VKwFFpyahHlmmmFAwA7lqv94q6M72TUoazNTnBgB9V1cku9Be51RsBIvFkF9DNSVDqg\n",
       "vwN0BK0+Z2LK8sKWBrdwIC2isLQ2D5xty/6+PXDLek0WsGJBAAABW0GaRDwhkymEEv/+tSqAAYDP\n",
       "JcRYSsAXVc9Nnncj1QINJwP2i0h9Z6ZluTDNm3MDUaQNT3Nz80745yro31T+cew08sVZenvS/pF0\n",
       "HsAxzR0A4mQlzJQp8diFHvWKZkvFpGNXer8wAIyAKEabyTEQ95WP9NhWcy3H6AiYkzLXPKMiFptV\n",
       "kJXqa7yxRiiHeKmD3JZilcyyIv9p7d9fxZTLXhovBoFiGwrNEqtiwbBV58yDs19fiujn8VULqIiy\n",
       "6HfD6PkDRZuiZyVRk6eRhdWZZlqv10E2VsICydoP2A+iU2rTQ7VCJ+EHY4CUY5IpkU4iJOYVjrrq\n",
       "Nzloz1nNjx4ffQKHH1G63rxlu91WUM3VHVDFG0pyrnxgydI+ewpffSv68n3Lkt4qX1AuKMfOQ3dX\n",
       "zVOP7uI683Apyd5YItT0452GwzEAowLw/1nrG8QdPF2OnEH9Gv7Wtet2lJnwAAAASwGeY2pD/wAE\n",
       "Fg1ubz29kIYbw0AEOGX6MxYo8xdqL85ncolDwJ4AsdPyhCMYl5oWlVokdLy7jVwZsnYQbAlGAAvT\n",
       "eFT0d0WdInzYMQAAAPVBmmZJ4Q8mUwU8Ev/+tSqAAYG1D5XQmwAXvC3R1GydMW6up6YMEVl/WfTb\n",
       "nI7uZ8y6HQjzuybaySpnRPbp3jaUBuq+xZPwf6mgbj4XgoAKb0XA1b5VaP+D4DPwXFe3NV35+Ypb\n",
       "FT+yw2yVgMilBr4PuHMCCFw6H5BMF/epBIIH3b6uztk7KzRmTZhnFi/FzHXNPFQJYYWkCNaofyzz\n",
       "SGWNl453REpSpTpT/pg7SP4Q0Y9xDKdcYtMCbc1UvISHGABZNfJNfOj5WPHEH0D9vuMdxvcEgeh0\n",
       "wYrVE6PuTTSyYOIzwQSShlJjLdWgYwYv8uyagAC7gQAAAEwBnoVqQ/8ABAcTPuBUJRH0AG0kMu4S\n",
       "a6ii4hqzgcTwdYN8Cp/155GEK95zpxQNmFM+EVY2Ipz7yTrAXDmdjHJEjigAEjLui5Iq+GnBAAAA\n",
       "aUGah0nhDyZTAgl//rUqgAdJ/ESssD/qXVtx5F2uIZ6lbF/zGPJ1ZOBZsdnior9A1EFpLdUtf9WF\n",
       "vP31E2xJtum6uyymsOZ3tXYq3PZAAOh18jE+IQ7VDXD24A1B8fvyCE4tpclboAAZkQAAANxBmqlJ\n",
       "4Q8mUwURPBL//rUqgAdTK6/wfawA1m5yQef2on/G/2/7QZMA7r3QNB6k2pj8Hl0dDRe1c+H1N/1o\n",
       "smqE/UMeuhdkfOEAhbSVjeOXwTRGhhXqV36I2La7fyC+LofA/WohdzBOavlZdb85V17vpjCLvJIy\n",
       "E7MUx4uEn6S+8cdbNZjdMebK6GNa1lkuVsAOUOhd+cVNZIJa2EZvS+Einqnvh3Q21ZPUJRacGQl6\n",
       "xPmwxgAAyVUaLPVL+uSXXyEZsdABXo17MGrCLg8I6p+JbCVT65y6z3XuAAEHAAAATgGeyGpD/wAU\n",
       "co6oAJ2skm+8dIaKwkEA6TCbIv0U10nVt6f06YuU23uywWZBYa934bJhVt5Y4a+y40WZv1OmHzdf\n",
       "pZTigADa5qfFi/vBXwAAAPhBmspJ4Q8mUwIJf/61KoAHSgLNAFB3hxFyOwZS9HIh7uamqdmXyAi7\n",
       "U4d4ARZHuAbZ+JMfqczXOzWFcUadSZvqrV+4pgXW20h/rTYB1YIzGVZ7rRHd5+dy1YYpYNJMzZnr\n",
       "c45vuyjNSeoOHfXAlqvqZ1WYVPDewuscVh+Hm+cwt6kboZ4E3E5DbKoWobJRAt/Hp6De7co9Yccd\n",
       "Y8JlE9NBXEEiocWC1xUIq4dngABpWPLECtJ262b3/ZppRfx4AEtfOvpm8CgfsWEqsBBSbqqs5ykF\n",
       "6RrKxO++/EcMiBWSpKWv+7dTcKUi7r50BWg4wMdIyoiE0AAC7wAAAJhBmutJ4Q8mUwIJf/61KoAH\n",
       "HKk3siAFwGWls/raL02XomReoTp0UXpeevD7X++7ion02qdaLZyqWbN69E3rCIpHA7r4+w9tdg0b\n",
       "AxiV/m4kQf7m8ClC/RZxxvLNHZXOUCkbs+0AIMj369xgAKEdF5cvU9pey7e35ygZHpoVAuGZxCcg\n",
       "vr+HOX5P5u50hajDxqSLrc1VQAA+YAAAAItBmwxJ4Q8mUwIJf/61KoA5jL3GiMOwE/gBT7bM3Svm\n",
       "5v4CDRzw3dGc+EkCkxE3B5HUv+5oOx33i4cWaLK0RmlQ7naebkyW1B3dkzkHAfpSlreUJmukZo3l\n",
       "sxkFy1yyLTy0V8jnw31DwlVRTe1L9yUhcAA3dzgQGW3FUhNY5atM5gvXmHVBfBPAAAUEAAABSEGb\n",
       "LknhDyZTBRE8Ev/+tSqABvI5N7IgBE4k7wTUjjIEA/GkOsw8+uVKHtv6QNRr2aV+LNg1RWXUKVt4\n",
       "dXKYCv/YedZvv0f2hjKRk8KXdeDAaj9MpTZTz9OKWcnNn4nUrIhrqWwNOE+MuRbwHjQ7O+vqror6\n",
       "At1AOZmD7p4XClw+qHr1rU5WdsjcoT3GI/TRCrGu8YSgqvukxYUTduZ4g8n0ZFxKorFLVWswnc2U\n",
       "jv5kATx9zrgKpb89P5lR03i/UNLHgs1DV9UwR0thb7z+zcqZWFZEUh6y3scOSLp0GZs6K8HMo7nD\n",
       "3K4U3cGABO58AHDxOwyvTeoLdLJlNquI0mRwFKnviWxm+WXj5uoc41S6EuScO+zCmMb83bLX/1Mu\n",
       "S4XQaU9eXECKMfiW8RfScEYSwtdhMIfCbt4SWuCTiA65ZlOv21tARTcAAABRAZ9NakP/ABNWg3/f\n",
       "j12Xm5gAudhbQM+qEn5sa/VfcoAEjerEW5i+u/m4VM9XZfhJOaS9mPNJ6innWXpL87IyfkdJNAY5\n",
       "G2oAAtAkEHgAzR53AAABAkGbUEnhDyZTBTwS//61KoAGy2DqAFhNkUqXcb5jcNERAwqHgOy3sPKw\n",
       "vI84Gp27aRLybAfZYhnnKpKIuTAi57KhJktx2yLt8BrMFQfMbgOyfCJohmdx3dpL/YVlrnOjmTlZ\n",
       "iwjiZv7OGsq3adyti+oZomIi1qU2IDwGGvWFfmJe9VM/R3eML8ZbdyM7veyQOVDizcYHjM8E04Ud\n",
       "d7I7+00RWmG/Qa76xtm4h5DmLX1qYw7q0ov/OVE8AgaHxagQ7q2O2cc6vkZqeMyYHZ8Qhlwzi4AB\n",
       "3z6IXf9hEH1CcBzeLo6pf6eCs8Fv9gdyQx+CvOD6gdRQRTUfxh4m52xoAADfgQAAAD8Bn29qQ/8A\n",
       "EtaOnfQAP3c6Spg724b8/FQx4qT+F5AYn5rKWn59JGnF1FlPC1YQSFMeGGpjigAFVl0yYmAU7ZgA\n",
       "AAEEQZtySeEPJlMFPBD//qpVAAKljgCQSgCTve6/DSqbl/EXREy9vtNuTaPGzkRhKDno7Oj0uW0C\n",
       "4AgsLXKg5M/ekVxxgIl7l/wjBY1KsnrZyqThjSpPawKVkXJepdMP+fYMpWC4VLdQ3CFCQLBK8iBE\n",
       "EWBXtQJOSvMZ19fPwoC5I0CsZS+gjK0c1hOje9ph6QH2NAaeJDmnd2UwvlSRV7WHKV2/N3AyVBRv\n",
       "HnKR2BOKN/cOmJ+e+nzh9hvPT2c5nlLkeUBSLU1zD5YiSO2zoLMZLMfZSpMsKToo8AFCVCNZipXa\n",
       "zW0C/a9baCSZ5ABv5iI4oame00hPZvrn9zfdrdtV0SAxUUwAAABIAZ+RakP/AAOfgiMNqWXPYvU8\n",
       "YAOcjB9Fjjm11npFxZGBR/tDJMH/97/CAW5Uc/lA6H+aHX+IiVZY482SW/AAeHnLQmGu2PuBAAAA\n",
       "tEGbk0nhDyZTAh///qmWAAoHTbQCiDfFGoU7+hLsiEwhzyj+9VyaG0TfBH+bPjDqvVLV2Ui52OMJ\n",
       "iFnRBaVITcaBnHASdeXJo8is2hg9UTAoF+P35sZU12lmxWCB2vF3BGPHANs2kjPUQ9luJQtOqcps\n",
       "IzvRkAjIWsZivy0bUupo7eMuqsvBCU/s/puwCMET5gwhD7c6O2UXrkUQYnMSb2VkkusU1oR3mLXh\n",
       "lS9LXYUSsAABDwAAAH9Bm7RJ4Q8mUwIf//6plgAB5+fjIHWJL83Z/iyATx4ffgcmTSU6MK8KELGT\n",
       "MXK2zdGhKoAsbhVoPR7DL+T4KryyvqpR8bXmEkEFiFOdJOCaNitj9+zF1ODiqEz+TwwEj2cejn6w\n",
       "VYoBwvbUgB7LqlzN3R9/ZT6rWWfQLhjAAA6YAAAAsUGb1UnhDyZTAgh//qpVAAB8vdjIAAKDd5Ed\n",
       "EOr6lPJI7rM2eMuyN68sSlJlJO8MeW1o7oFxoM1sSkyDnkL5g40tJjvSQZduIXr9etKU0zBGzEzZ\n",
       "41Fc9MnlNvc7PSikGoj4cyRcKzpxdAY1fPmkly7dRkYWy1yAXW8pDD7IyKwaPyVWq1YTUR/wOeqq\n",
       "xaZOPSL5H55iJJYEwmOUGUcKVsQlXfEvXGTj9JAj9l6b1LQa6QAAAW5Bm/hJ4Q8mUwIJ//61KoAA\n",
       "PTkkOABbW5BnFtYZ26/BTuzw+mS0vBv1G9Q8M2ErTkFeVVIyjTzoIVk2StsHcYOmVcfJ6zC1gulg\n",
       "3geQBasKQ77fA/CW45M4511BWzdHDhDGEsKOxB3Lur76Nbsi2M4tLbv7loIpKPMl2QblGecwqB4J\n",
       "D7aSmJ1WW8647Z+ccnPIJitCRnJhsPZDyrWN3LEmQFPp/nE+KMyWRzEW3PFptV/J8CbNofw5zteK\n",
       "9R9jUFnDuj6azHV52NXbMvG1d9HM++Cphvo7sqcE/uvPPkVEGszVcU9Hs4kRg4rsVfgE018zZkdP\n",
       "wDotWf73zD9Do9xoqkKysmPMs7MoZ/lQqfueahLwKnET9t8DKW9NcO4dYfLNqvVGVb7Olzsr7PPq\n",
       "d2ou0IvVtRn2++6qCox8zPa6ARTjHZoUiWGvVfpKnPdnprtzkCpGL2Zw35KXGw6B/0W2JVpGekEe\n",
       "40G8Qs2aZ4AAAABJQZ4WRRE8EP8AAE1Q7/nWIH8O6/9sJByia/EW3QVI1cAAJr03y0YYgH+JC3X7\n",
       "cizIk8xXGzDjbOISJpsJe92gADHQXLpbSKEKiwAAAEsBnjdqQ/8AAKgj7w6NnoTHmAm+cuOpMhQA\n",
       "z2d2lPOMIiuSa5hL05jmPeXQdKLikiqJIJtaM8HfB5XiJ4/HcH5b4LQHgy+esnGIQuMAAAFCQZo6\n",
       "SahBaJlMFPBP//61KoAAO6iw1rntOE4LTyTyblBEAOOpUZve8VRB9oE/cM/H7nkHtzpVTUVIBiBr\n",
       "9OT0Jq+KHVxixAImi8wkU3OvxdEiUVpisBfhgXhR1oHbEhnUehTvYXmS2a1pNwWrRRvgyIk7vhjg\n",
       "Yq2UXJDPi88o0lzqPtTY2Ym+Yp/X0LAmZrXjnEz+ZMpdZFUgp7UL/xBncMpHpASahJNpXNvsgP3h\n",
       "OmOZgQFW0dRetvgUfUNnsXZG5u2/jMhr7OJp+dOt3ekmoNt7qHjmjCudugRVrFoavvA2I5PpL9VQ\n",
       "FEOATzP+2UEScxkIN4B6UlqXNeLg0MdbK/Z90kYlddEkMLZJwibOAitr8BK9Cdugaz1lsEHXhNpY\n",
       "x9pYMfHoDc+aFk18xcsjue/cHfEvOZ6/4V9lK5B5lpCvgAAAAF0BnllqQ/8AAKgTvVSFh81K7/t1\n",
       "A5QuAC3LxS24LhF4XvB4qywo62ldbjNPR9flFXOvKKz1r1T0XT75C/B5t78US65AndOKXAopMHoe\n",
       "G/1QrrLwABt5ntAXN0Ggj1kAAAEpQZpcSeEKUmUwUsE//rUqgAACQmgBQAK8WZVhqzu9uVCjdVsj\n",
       "Vl4pMmizkBg3G/E4glPRKDZAkj4pAlqI89Y/ItLLW+xG1CxnRcoP7Oty9jB6flB0Yd9f0rlbu8WW\n",
       "kU7bPAAQg12ZX4rq7lg12TyViHfL+2f8aYlkjt2KbZTwTbopfr2BKCrTAh/3olzV7gb15i8A3ynD\n",
       "sZpgEnx0+f5rx2EESTVsA1qzaDWc4o0oeu74c4ik+nsY6P6n7SndUVv+oYuvDX/tzzMVuX0Rl5fc\n",
       "6MzkKK2IPafVy4D/0obnWPy9X7f7V1Tn46PE4zLOGHhB83PmkU8zmaQWfrViBiNfsUZsp7kFpfkv\n",
       "CfhZlgGZT/J7FcF/iSSw++3kABBOygMcncK74WfsyOc8AAAATAGee2pD/wAAK9YT5RM9KWz7P0WN\n",
       "hs+XKOaCOwAO0oFveKwOhXZEUHyokSl9yD72qgebiWPZgeTeUQ/iBQRSS1oAp6ZDJKApgjG+CkkA\n",
       "AAEAQZpgSeEOiZTAgn/+tSqAAABtPlKUBOQ4AD86748I4U/O6Hudb1BziV0rXS7J4k+DkkHE2Jhr\n",
       "eoycvVp7HrKJiR/iT/njvTZhXyUnKeG0gMfCfZR13qwX5dsB3OGdiTlmRfKsn7gzkwULxR/m3wRA\n",
       "uwe7DxPrgs2crCen9VyZ70XpJkhwenk7FZrVXoeDQ9Ah8vDcfCXbOtMler+pTHIQ5wRBDM5Z9c5y\n",
       "C0+CrMCbAm5KGEcNU6WtLwd1m4Do9jJs4gdeCHV+2LtmqSfbQQg4IokdxM20JaMvBZK4GZ46MGKv\n",
       "H/Iv8WBFKkP6x9SlsED2haPjDtVsmhfVwa+iQAACVwAAAEFBnp5FFTwQ/wAAE6qPxJJuO6jjDRKt\n",
       "C962r8NiSYAF6xPMAVYOAQgoRlztoyudW6uuAzRLERuYEa5/VyJbB+6y/gAAADMBnr10Q/8AACxC\n",
       "302eSLGdVHXeFSd+wScTo87gsnzcZosV/QvQ1QeN5IHK53B7SVm060AAAAAmAZ6/akP/AAAsSPt8\n",
       "UxE+4HMVQjN8u+ikzyoCx0KAjPD+ztMA/UkAAABMQZqkSahBaJlMCCP//rUqgAAAFU+X2RqlPqOv\n",
       "aLXwAguSG4iYLwpM9tVy6RPu9Ocp+6Bstjc0bazwJBUzQfs3my5bbtBB76hAAAALaAAAAChBnsJF\n",
       "ESwQ/wAAE+LTOPJY94NU7IDXZlihMzy0Pp/4HhMM7ag5TWsbAAAAIgGe4XRD/wAALELfSK1Ap36X\n",
       "CnBdqsF8vE2vAAnlT4V0MWAAAAAeAZ7jakP/AAAsSPt7gS16oqr5qjIuiIBFKA+++on5AAAAHEGa\n",
       "5kmoQWyZTBRMP//+qZYAAAMAAAMAAAMAA8MAAAAfAZ8FakP/AAAsS6ZTwFlTVFiEJ8Mi2WwBUijF\n",
       "Me4zzQAABOBtb292AAAAbG12aGQAAAAAAAAAAAAAAAAAAAPoAAAeeAABAAABAAAAAAAAAAAAAAAA\n",
       "AQAAAAAAAAAAAAAAAAAAAAEAAAAAAAAAAAAAAAAAAEAAAAAAAAAAAAAAAAAAAAAAAAAAAAAAAAAA\n",
       "AAAAAAACAAAECnRyYWsAAABcdGtoZAAAAAMAAAAAAAAAAAAAAAEAAAAAAAAeeAAAAAAAAAAAAAAA\n",
       "AAAAAAAAAQAAAAAAAAAAAAAAAAAAAAEAAAAAAAAAAAAAAAAAAEAAAAAD6AAAAXYAAAAAACRlZHRz\n",
       "AAAAHGVsc3QAAAAAAAAAAQAAHngAABAAAAEAAAAAA4JtZGlhAAAAIG1kaGQAAAAAAAAAAAAAAAAA\n",
       "ACgAAAE4AFXEAAAAAAAtaGRscgAAAAAAAAAAdmlkZQAAAAAAAAAAAAAAAFZpZGVvSGFuZGxlcgAA\n",
       "AAMtbWluZgAAABR2bWhkAAAAAQAAAAAAAAAAAAAAJGRpbmYAAAAcZHJlZgAAAAAAAAABAAAADHVy\n",
       "bCAAAAABAAAC7XN0YmwAAAC5c3RzZAAAAAAAAAABAAAAqWF2YzEAAAAAAAAAAQAAAAAAAAAAAAAA\n",
       "AAAAAAAD6AF2AEgAAABIAAAAAAAAAAEAAAAAAAAAAAAAAAAAAAAAAAAAAAAAAAAAAAAAAAAAAAAY\n",
       "//8AAAA3YXZjQwFkABb/4QAaZ2QAFqzZQPwx5ZoQAAADABAAAAMAoPFi2WABAAZo6+PLIsD9+PgA\n",
       "AAAAHHV1aWRraEDyXyRPxbo5pRvPAyPzAAAAAAAAABhzdHRzAAAAAAAAAAEAAAAnAAAIAAAAABRz\n",
       "dHNzAAAAAAAAAAEAAAABAAABIGN0dHMAAAAAAAAAIgAAAAEAABAAAAAAAQAAGAAAAAABAAAIAAAA\n",
       "AAEAABgAAAAAAQAACAAAAAABAAAYAAAAAAEAAAgAAAAAAQAAEAAAAAABAAAYAAAAAAEAAAgAAAAA\n",
       "AwAAEAAAAAABAAAYAAAAAAEAAAgAAAAAAQAAGAAAAAABAAAIAAAAAAEAABgAAAAAAQAACAAAAAAD\n",
       "AAAQAAAAAAEAACAAAAAAAgAACAAAAAABAAAYAAAAAAEAAAgAAAAAAQAAGAAAAAABAAAIAAAAAAEA\n",
       "ACgAAAAAAQAAEAAAAAABAAAAAAAAAAEAAAgAAAAAAQAAKAAAAAABAAAQAAAAAAEAAAAAAAAAAQAA\n",
       "CAAAAAABAAAYAAAAAAEAAAgAAAAAHHN0c2MAAAAAAAAAAQAAAAEAAAAnAAAAAQAAALBzdHN6AAAA\n",
       "AAAAAAAAAAAnAAAkfwAADOwAAADbAAABXwAAAE8AAAD5AAAAUAAAAG0AAADgAAAAUgAAAPwAAACc\n",
       "AAAAjwAAAUwAAABVAAABBgAAAEMAAAEIAAAATAAAALgAAACDAAAAtQAAAXIAAABNAAAATwAAAUYA\n",
       "AABhAAABLQAAAFAAAAEEAAAARQAAADcAAAAqAAAAUAAAACwAAAAmAAAAIgAAACAAAAAjAAAAFHN0\n",
       "Y28AAAAAAAAAAQAAADAAAABidWR0YQAAAFptZXRhAAAAAAAAACFoZGxyAAAAAAAAAABtZGlyYXBw\n",
       "bAAAAAAAAAAAAAAAAC1pbHN0AAAAJal0b28AAAAdZGF0YQAAAAEAAAAATGF2ZjU4LjQ1LjEwMA==\n",
       "\">\n",
       "  Your browser does not support the video tag.\n",
       "</video>"
      ],
      "text/plain": [
       "<IPython.core.display.HTML object>"
      ]
     },
     "execution_count": 12,
     "metadata": {},
     "output_type": "execute_result"
    }
   ],
   "source": [
    "from IPython.display import HTML\n",
    "html_video_file = open(crack_propagate_file,'r')\n",
    "HTML(html_video_file.read())"
   ]
  },
  {
   "cell_type": "code",
   "execution_count": null,
   "metadata": {},
   "outputs": [],
   "source": []
  },
  {
   "cell_type": "markdown",
   "metadata": {},
   "source": [
    "# TODO\n",
    " - Check if the crack segments are picked up correctly\n",
    " - Check if the L_fps should be plotted as well at the end?"
   ]
  }
 ],
 "metadata": {
  "kernelspec": {
   "display_name": "Python 3",
   "language": "python",
   "name": "python3"
  },
  "language_info": {
   "codemirror_mode": {
    "name": "ipython",
    "version": 3
   },
   "file_extension": ".py",
   "mimetype": "text/x-python",
   "name": "python",
   "nbconvert_exporter": "python",
   "pygments_lexer": "ipython3",
   "version": "3.9.1"
  }
 },
 "nbformat": 4,
 "nbformat_minor": 5
}
