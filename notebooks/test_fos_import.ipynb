{
 "cells": [
  {
   "cell_type": "code",
   "execution_count": null,
   "id": "eba882ac-5113-4ab5-a4fa-27a3aacfbad1",
   "metadata": {},
   "outputs": [],
   "source": [
    "%matplotlib widget\n",
    "import numpy as np\n",
    "from matplotlib import cm\n",
    "import matplotlib.pylab as plt"
   ]
  },
  {
   "cell_type": "code",
   "execution_count": null,
   "id": "4fcd0c9d-e92a-4fba-badb-ac402aca9846",
   "metadata": {},
   "outputs": [],
   "source": [
    "import os.path as op"
   ]
  },
  {
   "cell_type": "code",
   "execution_count": null,
   "id": "a5fa40b9-4df9-4717-9ee4-c815e187ab97",
   "metadata": {},
   "outputs": [],
   "source": [
    "home_dir = op.expanduser('~')"
   ]
  },
  {
   "cell_type": "code",
   "execution_count": null,
   "id": "62260ef6-3e90-4417-a505-f6c7ef804419",
   "metadata": {},
   "outputs": [],
   "source": [
    "data_dir = op.join(home_dir,'simdb','data','test')\n",
    "data_file = op.join(data_dir, 'test3.npz')"
   ]
  },
  {
   "cell_type": "code",
   "execution_count": null,
   "id": "07b30a77-5c92-4854-8d78-aba036d8b964",
   "metadata": {},
   "outputs": [],
   "source": [
    "loaded = np.load(data_file)"
   ]
  },
  {
   "cell_type": "code",
   "execution_count": null,
   "id": "352b8acc-e630-4497-b4d0-1afad6c86509",
   "metadata": {},
   "outputs": [],
   "source": [
    "for key in loaded.keys():\n",
    "    print(key)"
   ]
  },
  {
   "cell_type": "code",
   "execution_count": null,
   "id": "15fff4f8-7eed-48ae-9ae4-4bec666a52c0",
   "metadata": {},
   "outputs": [],
   "source": [
    "T_sl = slice(None, None, 20)\n",
    "I_sl = slice(None, -500, 20)"
   ]
  },
  {
   "cell_type": "code",
   "execution_count": null,
   "id": "fc181e94-e6fe-4c97-845f-30f07e90aba2",
   "metadata": {},
   "outputs": [],
   "source": [
    "eps_TI = loaded['da'][T_sl, I_sl]"
   ]
  },
  {
   "cell_type": "code",
   "execution_count": null,
   "id": "00ea12a0-2340-4961-bb42-cd34fdd5f69b",
   "metadata": {},
   "outputs": [],
   "source": [
    "X_I = loaded['col'][I_sl]"
   ]
  },
  {
   "cell_type": "code",
   "execution_count": null,
   "id": "99cb9894-f585-4290-9bbc-ffa8296e20f9",
   "metadata": {},
   "outputs": [],
   "source": [
    "t_T = loaded['ind'][T_sl]"
   ]
  },
  {
   "cell_type": "code",
   "execution_count": null,
   "id": "21d31164-920f-4167-bf03-e20abc0bc48b",
   "metadata": {},
   "outputs": [],
   "source": [
    "X_TI, t_TI = np.meshgrid(X_I, t_T)"
   ]
  },
  {
   "cell_type": "code",
   "execution_count": null,
   "id": "45f8fbd4-da0b-4ff7-a086-54ee030653a7",
   "metadata": {},
   "outputs": [],
   "source": [
    "X_TI.shape"
   ]
  },
  {
   "cell_type": "code",
   "execution_count": null,
   "id": "264b2ebf-ad47-42d9-9055-3f50bc01165e",
   "metadata": {},
   "outputs": [],
   "source": [
    "fig = plt.figure()\n",
    "ax = fig.add_subplot(projection='3d')\n",
    "surf = ax.plot_surface(t_TI, X_TI, eps_TI, rstride=1, cstride=1, cmap=cm.coolwarm,\n",
    "                       linewidth=0, antialiased=False)"
   ]
  },
  {
   "cell_type": "code",
   "execution_count": null,
   "id": "e620c18d-1dcb-4545-af08-28feea7168b2",
   "metadata": {},
   "outputs": [],
   "source": []
  },
  {
   "cell_type": "code",
   "execution_count": null,
   "id": "b9b07459-8e8c-4f27-b404-e6a6869faa94",
   "metadata": {},
   "outputs": [],
   "source": []
  }
 ],
 "metadata": {
  "kernelspec": {
   "display_name": "bmcs_env2",
   "language": "python",
   "name": "bmcs_env2"
  },
  "language_info": {
   "codemirror_mode": {
    "name": "ipython",
    "version": 3
   },
   "file_extension": ".py",
   "mimetype": "text/x-python",
   "name": "python",
   "nbconvert_exporter": "python",
   "pygments_lexer": "ipython3"
  }
 },
 "nbformat": 4,
 "nbformat_minor": 5
}
