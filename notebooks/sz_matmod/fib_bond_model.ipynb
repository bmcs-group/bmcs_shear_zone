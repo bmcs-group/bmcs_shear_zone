{
 "cells": [
  {
   "cell_type": "code",
   "execution_count": null,
   "metadata": {},
   "outputs": [],
   "source": [
    "import sympy as sp\n",
    "import numpy as np\n",
    "import matplotlib.pylab as plt\n",
    "sp.init_printing()"
   ]
  },
  {
   "cell_type": "markdown",
   "metadata": {},
   "source": [
    "# fib Model Code 2010\n",
    "In the case of monotonic loading, the reference $\\tau_{b0}$ value of the bond stresses between concrete and reinforcing bar for pullout and splitting failure can be calculated as a function of the relative displacement $s$ parallel to the bar axis.\n",
    "\\begin{equation}\n",
    "\\tau_{b0} = \\tau_{b\\, max} \\left(\\frac{s}{s_1}\\right)\\,\\, \\mathrm{for}\\,\\,0\\leq s \\leq s_1 \\\\\n",
    "\\tau_{b0} = \\tau_{b\\, max} \\,\\, \\mathrm{for}\\,\\,s_1 \\leq s \\leq s_2 \\\\\n",
    "\\tau_{b0} = \\tau_{b\\, max} - \\left( \\tau_{b\\, max} - \\tau_{bf} \\left(\\frac{s -s_2}{s_3 - s_2}\\right) \\right) \\,\\, \\mathrm{for}\\,\\,s_2 \\leq s \\leq s_3 \\\\\n",
    "\\tau_{b0} = \\tau_{bf} \\,\\, \\mathrm{for}\\,\\,s_3 < s \\\\\n",
    "\\end{equation}\n",
    "The parameters to be applied depend primarily on the failure mode i.e. Pullout or Splitting.\n",
    "## Pullout\n",
    "### Good Bond Condition \n",
    "\\begin{equation}\n",
    "\\tau_{b\\,max} = 2.5 \\sqrt{f_{cm}} \\,;\\, s_1  = 1.00 \\,;\\, s_2 = 2.00 \\,;\\, s_3 = c_{clear} \\,;\\, \\alpha = 0.4 \\,;\\, \n",
    "\\tau_{bf} = 0.4 \\tau_{bmax} \\\\\n",
    "\\end{equation}\n",
    "### Other Bond Condition\n",
    "\\begin{equation}\n",
    "\\tau_{b\\,max} = 1.25 \\sqrt{f_{cm}} \\,;\\, s_1  = 1.8 \\,;\\, s_2 = 3.6 \\,;\\, s_3 = c_{clear} \\,;\\, \\alpha = 0.4 \\,;\\, \n",
    "\\tau_{bf} = 0.4 \\tau_{bmax} \\\\\n",
    "\\end{equation}"
   ]
  },
  {
   "cell_type": "code",
   "execution_count": null,
   "metadata": {},
   "outputs": [],
   "source": [
    "s  = sp.Symbol('s', nonnegative = True)\n",
    "s_1  = sp.Symbol('s_1', nonnegative = True)\n",
    "s_2 = sp.Symbol('s_2', nonnegative = True)\n",
    "s_3 = sp.Symbol('s_3', nonnegative = True)\n",
    "f_cm = sp.Symbol(r'f_{cm}', nonnegative = True)\n",
    "alpha = sp.Symbol(r'\\alpha', nonnegative = True)"
   ]
  },
  {
   "cell_type": "code",
   "execution_count": null,
   "metadata": {},
   "outputs": [],
   "source": [
    "tau_b_max_gc = 2.5 * sp.sqrt(f_cm)\n",
    "tau_b_max_aoc = 1.25 * sp.sqrt(f_cm)\n",
    "tau_b_max_gc, tau_b_max_aoc"
   ]
  },
  {
   "cell_type": "code",
   "execution_count": null,
   "metadata": {},
   "outputs": [],
   "source": [
    "tau_bf_gc = 0.4 * tau_b_max_gc\n",
    "tau_bf_aoc = 0.4 * tau_b_max_aoc\n",
    "tau_bf_gc, tau_bf_aoc"
   ]
  },
  {
   "cell_type": "code",
   "execution_count": null,
   "metadata": {},
   "outputs": [],
   "source": [
    "tau_b0_gc = sp.Piecewise(\n",
    "    (tau_b_max_gc * (s/s_1)**alpha,  s <= s_1),\n",
    "    (tau_b_max_gc ,  s <= s_2),\n",
    "    (tau_b_max_gc - ((tau_b_max_gc - tau_bf_gc)*(s - s_2)/(s_3 - s_2) ), s <= s_3),\n",
    "    (tau_bf_gc, s >= s_3)\n",
    ")\n",
    "tau_b0_gc"
   ]
  },
  {
   "cell_type": "code",
   "execution_count": null,
   "metadata": {},
   "outputs": [],
   "source": [
    "tau_b0_aoc = sp.Piecewise(\n",
    "    (tau_b_max_aoc * (s/s_1)**alpha,  s <= s_1),\n",
    "    (tau_b_max_aoc ,  s <= s_2),\n",
    "    (tau_b_max_aoc - ((tau_b_max_aoc - tau_bf_aoc)*(s - s_2)/(s_3 - s_2) ), s <= s_3),\n",
    "    (tau_bf_aoc, s >= s_3)\n",
    ")\n",
    "tau_b0_aoc"
   ]
  },
  {
   "cell_type": "code",
   "execution_count": null,
   "metadata": {},
   "outputs": [],
   "source": [
    "params = {\n",
    "    f_cm : 3, \n",
    "    alpha : 0.4,\n",
    "    s_1 : 1,\n",
    "    s_2 : 2,\n",
    "    s_3 : 4\n",
    "}"
   ]
  },
  {
   "cell_type": "code",
   "execution_count": null,
   "metadata": {},
   "outputs": [],
   "source": [
    "get_tau_b0_gc = sp.lambdify((s), tau_b0_gc.subs(params), 'numpy')\n",
    "get_tau_b0_gc                      "
   ]
  },
  {
   "cell_type": "code",
   "execution_count": null,
   "metadata": {},
   "outputs": [],
   "source": [
    "_, (ax1) = plt.subplots(1, 1, figsize=(12,7))\n",
    "s_ = np.linspace(0, 6, 100)\n",
    "tau_b0_val1 = get_tau_b0_gc  (s_)\n",
    "ax1.plot(s_, tau_b0_val1, color='blue', lw=2);\n",
    "ax1.set_xlabel(r'$s$'); ax1.set_ylabel(r'$\\tau_{b0}$')\n",
    "ax1.legend()"
   ]
  },
  {
   "cell_type": "code",
   "execution_count": null,
   "metadata": {},
   "outputs": [],
   "source": [
    "params = {\n",
    "    f_cm : 3, \n",
    "    alpha : 0.4,\n",
    "    s_1 : 1.8,\n",
    "    s_2 : 3.6,\n",
    "    s_3 : 5\n",
    "}"
   ]
  },
  {
   "cell_type": "code",
   "execution_count": null,
   "metadata": {},
   "outputs": [],
   "source": [
    "get_tau_b0_aoc = sp.lambdify((s), tau_b0_aoc.subs(params), 'numpy')\n",
    "get_tau_b0_aoc"
   ]
  },
  {
   "cell_type": "code",
   "execution_count": null,
   "metadata": {},
   "outputs": [],
   "source": [
    "_, (ax1) = plt.subplots(1, 1, figsize=(12,7))\n",
    "s_ = np.linspace(0, 6, 100)\n",
    "tau_b0_val2 = get_tau_b0_aoc(s_)\n",
    "ax1.plot(s_, tau_b0_val2, color='blue', lw=2);\n",
    "ax1.set_xlabel(r'$s$'); ax1.set_ylabel(r'$\\tau_{b0}$')\n",
    "ax1.legend()"
   ]
  },
  {
   "cell_type": "code",
   "execution_count": null,
   "metadata": {},
   "outputs": [],
   "source": [
    "_, (ax1) = plt.subplots(1, 1, figsize=(12,7))\n",
    "ax1.plot(s_, tau_b0_val1, color='red', lw=2);\n",
    "ax1.plot(s_, tau_b0_val2, color='blue', lw=2);\n",
    "ax1.set_xlabel(r'$s$'); ax1.set_ylabel(r'$\\tau_{b0}$')\n",
    "ax1.legend()"
   ]
  },
  {
   "cell_type": "code",
   "execution_count": null,
   "metadata": {},
   "outputs": [],
   "source": []
  }
 ],
 "metadata": {
  "kernelspec": {
   "display_name": "Python 3",
   "language": "python",
   "name": "python3"
  },
  "language_info": {
   "codemirror_mode": {
    "name": "ipython",
    "version": 3
   },
   "file_extension": ".py",
   "mimetype": "text/x-python",
   "name": "python",
   "nbconvert_exporter": "python",
   "pygments_lexer": "ipython3"
  },
  "toc": {
   "base_numbering": 1,
   "nav_menu": {},
   "number_sections": true,
   "sideBar": true,
   "skip_h1_title": false,
   "title_cell": "Table of Contents",
   "title_sidebar": "Contents",
   "toc_cell": false,
   "toc_position": {},
   "toc_section_display": true,
   "toc_window_display": false
  }
 },
 "nbformat": 4,
 "nbformat_minor": 4
}
