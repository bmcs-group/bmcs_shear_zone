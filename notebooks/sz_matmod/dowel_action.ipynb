{
 "cells": [
  {
   "cell_type": "code",
   "execution_count": null,
   "metadata": {},
   "outputs": [],
   "source": [
    "import sympy as sp\n",
    "import numpy as np\n",
    "import matplotlib.pylab as plt\n",
    "sp.init_printing()"
   ]
  },
  {
   "cell_type": "markdown",
   "metadata": {},
   "source": [
    "# Muttoni Approach\n",
    "Relative vertical displacement existing between crack surfaces at the level of flexural reinforcement causes activation of Dowel Action. Effective area of concrete in tension in the region around the flexural reinforcement and its flexural strength governs the capacity of doweling action that transfers shear. The vertical dowel force is given by:\n",
    "\\begin{equation}\n",
    "    V_{Dowel} = n f_{ct,ef} b_{ef} l_{ef}\n",
    "    \\label{eq: V_dowel}\n",
    "\\end{equation}\n",
    "here, $n, f_{ct,ef}, b_{ef}, l_{ef}$ represent the number of bars activated, effective tensile strength of concrete, effective width and length in which the tensile strength develops for each bar.\n",
    "Effective width $b_{ef}$ accounts the fact that tensile strength distribution in concrete is not constant and it can be expressed as:\n",
    "\\begin{equation}\n",
    "    b_{ef} =  min[ b/n - d_b; 4 c_b; 6 d_b]\n",
    "    \\label{eq: b_ef}\n",
    "\\end{equation}\n",
    "Effective length $l_{ef}$ depicts the length where the pullout force is transferred to concrete. After extensive analytical and experimental research it has been concluded that it is correlated to bar diameter and assuming a constant value for this parameter is sufficient for design purposes i.e. \n",
    "\\begin{equation}\n",
    "    l_{ef} =  2 d_b\n",
    "    \\label{eq: l_ef}\n",
    "\\end{equation}\n",
    "It is stated that effective tensile strength of concrete is strongly influenced by the state of strains in flexural reinforcement. Therefore,\n",
    "\\begin{equation}\n",
    "    f_{ct,ef} =  k_b f_{ct}\n",
    "    \\label{eq: f_ctef}\n",
    "\\end{equation}\n",
    "where, $k_b$ is a reduction factor and it follows decay for increasing strains in flexural reinforcement. The reduction factor for increasing value of strains calibrated with respect to experiments is given by:\n",
    "\\begin{equation}\n",
    "    k_b =   0.063 \\epsilon_s^{-1/4} \\leq 1\n",
    "    \\label{eq: k_b}\n",
    "\\end{equation}"
   ]
  },
  {
   "cell_type": "markdown",
   "metadata": {},
   "source": [
    "<img src=\"fig/dowel_fig_baumann.png\" width=\"800\"/>"
   ]
  },
  {
   "cell_type": "code",
   "execution_count": null,
   "metadata": {},
   "outputs": [],
   "source": [
    "n = sp.Symbol('n', nonnegative = True)\n",
    "f_ct = sp.Symbol(r'f_{ct}', nonnegative = True)\n",
    "b = sp.Symbol(r'b', nonnegative = True)\n",
    "d_b = sp.Symbol(r'd_b', nonnegative = True)\n",
    "c_b = sp.Symbol(r'c_b', nonnegative = True)\n",
    "epsilon_s = sp.Symbol('\\epsilon_s', nonnegative = True)"
   ]
  },
  {
   "cell_type": "code",
   "execution_count": null,
   "metadata": {},
   "outputs": [],
   "source": [
    "b_ef = sp.Min(b/n - d_b, 4 * c_b, 6 * d_b)\n",
    "b_ef"
   ]
  },
  {
   "cell_type": "code",
   "execution_count": null,
   "metadata": {},
   "outputs": [],
   "source": [
    "l_ef = 2 * d_b\n",
    "l_ef"
   ]
  },
  {
   "cell_type": "code",
   "execution_count": null,
   "metadata": {},
   "outputs": [],
   "source": [
    "k_b = 0.063 * epsilon_s**(-1/4)\n",
    "k_b"
   ]
  },
  {
   "cell_type": "code",
   "execution_count": null,
   "metadata": {},
   "outputs": [],
   "source": [
    "f_ct_ef = k_b * f_ct\n",
    "f_ct_ef"
   ]
  },
  {
   "cell_type": "code",
   "execution_count": null,
   "metadata": {},
   "outputs": [],
   "source": [
    "V_dowel = n * f_ct_ef * b_ef * l_ef\n",
    "V_dowel"
   ]
  },
  {
   "cell_type": "code",
   "execution_count": null,
   "metadata": {},
   "outputs": [],
   "source": [
    "params = {\n",
    "    n : 2, #no of bars\n",
    "    c_b : 3, #mm\n",
    "    d_b : 5, #mm\n",
    "    b : 100, #mm\n",
    "    f_ct : 3\n",
    "}\n",
    "V_dowel_ = V_dowel.subs(params)\n",
    "V_dowel_"
   ]
  },
  {
   "cell_type": "code",
   "execution_count": null,
   "metadata": {},
   "outputs": [],
   "source": [
    "get_V_dowel = sp.lambdify((epsilon_s), V_dowel_, 'numpy')"
   ]
  },
  {
   "cell_type": "code",
   "execution_count": null,
   "metadata": {},
   "outputs": [],
   "source": [
    "_, (ax1) = plt.subplots(1, 1, figsize=(10,5))\n",
    "epsilon_s_ = np.linspace(0.001, 1, 100)\n",
    "V_dowel = get_V_dowel(epsilon_s_)\n",
    "ax1.plot(epsilon_s_, V_dowel, color='blue', lw=2);\n",
    "ax1.set_xlabel(r'$\\epsilon_s$'); ax1.set_ylabel(r'$V_{dowel}$')\n",
    "ax1.legend()"
   ]
  },
  {
   "cell_type": "markdown",
   "metadata": {},
   "source": [
    "# Baumann and Rusch Approach"
   ]
  },
  {
   "cell_type": "markdown",
   "metadata": {},
   "source": [
    "According to Baumann and Rusch, the vertical displacement along the opening of the crack and the shear resistance resulting from dowel action is assumed to be linear elastic before the maximum shear force $V_{dmax}$ is reached. Thereafter, the shear resistance remains constant upon any further shear displacement. Therefore, the maximum shear force carried by dowel action is given as:\n",
    "\\begin{equation}\n",
    "    V_{d\\,max} =  1.64 b_n \\phi f_c^{1/3}\n",
    "    \\label{eq: V_dmax}\n",
    "\\end{equation}\n",
    "where, $b_n$ is the clear width of the beam $(b - n \\phi)$. Here, $\\phi, n, b$ represents diameter of bar, number of bars and width of beam respectively. \n",
    "\\begin{equation}\n",
    "    V_{da} =  V_{d\\,max} \\frac{\\delta_k}{0.08}\\,\\mathrm{for\\, \\delta_k < 0.08 \\,mm}\n",
    "    \\label{eq: V_daBR}\n",
    "\\end{equation}\n",
    "where $\\delta_k$ is vertical shear deformation.\n"
   ]
  },
  {
   "cell_type": "code",
   "execution_count": null,
   "metadata": {},
   "outputs": [],
   "source": [
    "b = sp.Symbol('b', nonnegative = True)\n",
    "n = sp.Symbol('n', nonnegative = True)\n",
    "phi = sp.Symbol(r'\\phi', nonnegative = True)\n",
    "f_ct = sp.Symbol(r'f_{ct}', nonnegative = True)\n",
    "varphi = sp.Symbol(r'\\varphi', nonnegatve = True)\n",
    "y_1 = sp.Symbol(r'y_1', nonnegatve = True)\n",
    "y_2 = sp.Symbol(r'y_2', nonnegatve = True)\n",
    "beta_1 = sp.Symbol(r'beta_1', nonnegatve = True)\n",
    "beta_2 = sp.Symbol(r'beta_2', nonnegatve = True)\n",
    "epsilon_s = sp.Symbol(r'\\epsilon_s', nonnegative = True)\n",
    "d = sp.Symbol('d', nonnegative = True)\n",
    "x_0 = sp.Symbol(r'x_0', nonnegative = True)\n",
    "delta_k = sp.Symbol(r'\\delta_k', nonnegative = True)"
   ]
  },
  {
   "cell_type": "code",
   "execution_count": null,
   "metadata": {},
   "outputs": [],
   "source": [
    "b_n = (b - n * phi)\n",
    "b_n"
   ]
  },
  {
   "cell_type": "code",
   "execution_count": null,
   "metadata": {},
   "outputs": [],
   "source": [
    "V_dmax = 1.64 * b_n * phi * f_ct**(1/3)\n",
    "V_dmax"
   ]
  },
  {
   "cell_type": "code",
   "execution_count": null,
   "metadata": {},
   "outputs": [],
   "source": [
    "V_da_br = sp.Piecewise(\n",
    "    (V_dmax * (delta_k/0.08), delta_k < 0.08),\n",
    "    (V_dmax , delta_k >= 0.08)\n",
    "    ) \n",
    "V_da_br "
   ]
  },
  {
   "cell_type": "code",
   "execution_count": null,
   "metadata": {},
   "outputs": [],
   "source": [
    "get_V_da_br = sp.lambdify((delta_k), V_da_br.subs(params), 'numpy')\n",
    "get_V_da_br"
   ]
  },
  {
   "cell_type": "code",
   "execution_count": null,
   "metadata": {},
   "outputs": [],
   "source": [
    "_, (ax1) = plt.subplots(1, 1, figsize=(12,7))\n",
    "delta_k_ = np.linspace(0.001, 0.20, 100)\n",
    "V_da_val_br = get_V_da_br(delta_k_)\n",
    "ax1.plot(delta_k_, V_da_val_br, color='blue', lw=2);\n",
    "ax1.set_xlabel(r'$\\delta_k$'); ax1.set_ylabel(r'$V_{da}$')\n",
    "ax1.legend()"
   ]
  },
  {
   "cell_type": "markdown",
   "metadata": {},
   "source": [
    "## Martin's Approach for calculating $V_{da}$ and $\\delta_k$\n",
    "Peak force for pre-peak and ductile post peak dowel deformation is calculated as:\n",
    "\\begin{equation}\n",
    "    V_{da} =  V_{d\\,max} \\frac{\\delta_k}{0.05}\\left(2 - \\frac{\\delta_k}{0.05}\\right)\\,\\mathrm{for\\, \\delta_k \\leq 0.05 \\,mm}\n",
    "    \\label{eq: V_da1}\n",
    "\\end{equation}\n",
    "\\begin{equation}\n",
    "    V_{da} =  V_{d\\,max} \\frac{2.55 - \\delta_k}{2.5}\\,\\mathrm{for \\,\\delta_k > 0.05 \\,mm}\n",
    "    \\label{eq: V_da2}\n",
    "\\end{equation}\n",
    "where $\\delta_k$ is vertical shear deformation and is given as(SCPT):\n",
    "\\begin{equation}\n",
    "    \\delta_k = \\varphi \\left(\\frac{y_1}{\\tan{\\beta_1}} + \\frac{ y_2 }{\\tan{\\beta_2}} \\right) \n",
    "    \\label{eq: deltak}\n",
    "\\end{equation}\n",
    "$\\varphi, \\beta_{1,2}, y_{1,2}$ rotation of center of rotation of shear crack, angles of the cracks and length of the cracks in vertical coordinates."
   ]
  },
  {
   "cell_type": "code",
   "execution_count": null,
   "metadata": {},
   "outputs": [],
   "source": [
    "V_da = sp.Piecewise(\n",
    "    (V_dmax * (delta_k/0.05) * (2 - (delta_k/0.05)), delta_k <= 0.05),\n",
    "    (V_dmax * ((2.55 - delta_k) / 2.5), delta_k > 0.05)\n",
    "    ) \n",
    "V_da"
   ]
  },
  {
   "cell_type": "code",
   "execution_count": null,
   "metadata": {},
   "outputs": [],
   "source": [
    "params = {\n",
    "         b : 100,\n",
    "         n : 5,\n",
    "         phi : 10,\n",
    "         f_ct : 3\n",
    "         }"
   ]
  },
  {
   "cell_type": "code",
   "execution_count": null,
   "metadata": {},
   "outputs": [],
   "source": [
    "get_V_da = sp.lambdify((delta_k), V_da.subs(params), 'numpy')\n",
    "get_V_da"
   ]
  },
  {
   "cell_type": "code",
   "execution_count": null,
   "metadata": {},
   "outputs": [],
   "source": [
    "_, (ax1) = plt.subplots(1, 1, figsize=(12,7))\n",
    "delta_k_ = np.linspace(0.001, 0.1, 100)\n",
    "V_da_val = get_V_da(delta_k_)\n",
    "ax1.plot(delta_k_, V_da_val, color='blue', lw=2);\n",
    "ax1.set_xlabel(r'$\\delta_k$'); ax1.set_ylabel(r'$V_{da}$')\n",
    "ax1.legend()"
   ]
  },
  {
   "cell_type": "code",
   "execution_count": null,
   "metadata": {},
   "outputs": [],
   "source": []
  }
 ],
 "metadata": {
  "kernelspec": {
   "display_name": "Python 3",
   "language": "python",
   "name": "python3"
  },
  "language_info": {
   "codemirror_mode": {
    "name": "ipython",
    "version": 3
   },
   "file_extension": ".py",
   "mimetype": "text/x-python",
   "name": "python",
   "nbconvert_exporter": "python",
   "pygments_lexer": "ipython3"
  },
  "toc": {
   "base_numbering": 1,
   "nav_menu": {},
   "number_sections": true,
   "sideBar": true,
   "skip_h1_title": false,
   "title_cell": "Table of Contents",
   "title_sidebar": "Contents",
   "toc_cell": false,
   "toc_position": {},
   "toc_section_display": true,
   "toc_window_display": false
  }
 },
 "nbformat": 4,
 "nbformat_minor": 4
}
