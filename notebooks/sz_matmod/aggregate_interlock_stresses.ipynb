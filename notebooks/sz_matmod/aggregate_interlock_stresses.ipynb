{
 "cells": [
  {
   "cell_type": "markdown",
   "metadata": {},
   "source": [
    "# Aggregate interlock stresses"
   ]
  },
  {
   "cell_type": "markdown",
   "metadata": {},
   "source": [
    "<img src=\"matmod/fig/step 1.jpg\" width=\"600\"/>"
   ]
  },
  {
   "cell_type": "markdown",
   "metadata": {},
   "source": [
    "<img src=\"matmod/fig/step 2 3.jpg\" width=\"600\"/>"
   ]
  },
  {
   "cell_type": "markdown",
   "metadata": {},
   "source": [
    "<img src=\"matmod/fig/step 4 5.jpg\" width=\"600\"/>"
   ]
  },
  {
   "cell_type": "markdown",
   "metadata": {},
   "source": [
    "- Step I: Deformation path is given as a function of two independent parameters of the shear deformation $\\Delta$ and crack opening $w$ illustrated in four different relations of $w/\\Delta$.\n",
    "- Step II: Tensile stresses in the fracture process zone are captured using fictitious crack model of Hillerborg. \n",
    "- Step III: Pure shear is determined using the relation $w/\\Delta$ to determine shear and normal stresses in the crack due to aggregate interlock. \n",
    "- Step IV: Model I and Mode II models are combined for mixed mode simulation by superposing the normal stresses of mode I with those of mode II. The blue curve is attained through superposition.\n",
    "- Step V: Shear stresses is attained from shear stresses in step III.\n",
    "\n",
    "The model is based on following main assumptions:\n",
    "1. Formation of cracks occur under pure mode I condition after exceeding the biaxial tensile strength.\n",
    "2. A fixed crack model is applied.\n",
    "3. After initial crack opening, hillerborg model is combined with aggregate interlock models based on crack surface deformations $\\Delta$ and $w$.\n",
    "\n",
    "In order to make use of post cracking behavior, the compressive normal stress $\\sigma_{AI}$ resulting from aggregate interlock has to be subtracted from the total normal stress. This key concept is realised via superposition of the resulting tensile stresses of mode I, according to Hillerborg, and mode II, according to aggregate interlock models (see figure).\n",
    "\\begin{equation}\n",
    "\\sigma_{\\mathrm{N}} = \\sigma_{fpz} + \\sigma_{\\mathrm{AI}}\n",
    "\\end{equation}"
   ]
  },
  {
   "cell_type": "markdown",
   "metadata": {},
   "source": [
    "<img src=\"matmod/fig/superposition of stresses.jpg\" width=\"400\"/>"
   ]
  },
  {
   "cell_type": "code",
   "execution_count": null,
   "metadata": {},
   "outputs": [],
   "source": []
  }
 ],
 "metadata": {
  "kernelspec": {
   "display_name": "Python 3 (ipykernel)",
   "language": "python",
   "name": "python3"
  },
  "language_info": {
   "codemirror_mode": {
    "name": "ipython",
    "version": 3
   },
   "file_extension": ".py",
   "mimetype": "text/x-python",
   "name": "python",
   "nbconvert_exporter": "python",
   "pygments_lexer": "ipython3"
  }
 },
 "nbformat": 4,
 "nbformat_minor": 4
}
