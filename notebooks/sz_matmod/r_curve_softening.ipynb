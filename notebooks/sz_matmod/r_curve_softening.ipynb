{
 "cells": [
  {
   "cell_type": "markdown",
   "metadata": {},
   "source": [
    "# R-curve for cohesive materials"
   ]
  },
  {
   "cell_type": "code",
   "execution_count": null,
   "metadata": {},
   "outputs": [],
   "source": [
    "%matplotlib notebook\n",
    "import matplotlib.pyplot as plt\n",
    "import numpy as np\n",
    "import sympy as sp\n",
    "sp.init_printing()\n",
    "import ipywidgets as ipw\n"
   ]
  },
  {
   "cell_type": "markdown",
   "metadata": {},
   "source": [
    "<img src=\"Development of Fracture Process Zone.png\" width=\"800\"/>"
   ]
  },
  {
   "cell_type": "markdown",
   "metadata": {},
   "source": [
    "<img src=\"bilinear softening and damage.png\" width=\"500\"/>"
   ]
  },
  {
   "cell_type": "markdown",
   "metadata": {},
   "source": [
    "In cohesive models, the inclusion of process zone at the tip of the crack is considered and normal constitutive law for tensile normal stress $\\sigma$ and relative displacement $w$ is assumed. Process zone starts to dvelop when stress reaches the tensile strength $f_t$ of the material. The relation between $\\sigma - w$ is given by a softening law where stress is a decreasing function of relative displacement w and area under the stress displacement curve gives the fracture energy $G_c$. The constitutive law is given as:\n",
    "\\begin{equation}\n",
    "\\sigma = (1 - \\omega) K^{init} w\n",
    "\\end{equation}\n",
    "The figure above shows two conditions i.e. a) the process zone is developing and b) the state of fully developed process zone."
   ]
  },
  {
   "cell_type": "code",
   "execution_count": null,
   "metadata": {},
   "outputs": [],
   "source": [
    "K_init = sp.Symbol('K_init', nonnegative = True)\n",
    "w = sp.Symbol(r'w', nonnegative = True)\n",
    "w_0 = sp.Symbol(r'w_0', nonnegative = True)\n",
    "w_c = sp.Symbol(r'w_c', nonnegative = True)\n",
    "omega = sp.Symbol('\\omega', nonnegative = True)\n",
    "E = sp.Symbol('E', nonnegative = True)\n",
    "G_c_2 = sp.Symbol(r'\\bar{G_c}', nonnegative = True)\n",
    "nu = sp.Symbol(r'\\nu', nonnegative = True)\n",
    "f_t = sp.Symbol(r'f_t', nonnegative = True)"
   ]
  },
  {
   "cell_type": "code",
   "execution_count": null,
   "metadata": {},
   "outputs": [],
   "source": [
    "sigma_soft = (1 - omega) * K_init * w\n",
    "sigma_soft"
   ]
  },
  {
   "cell_type": "markdown",
   "metadata": {},
   "source": [
    "In order to obtain the R-curve for a cohesive material, following steps are followed:\n",
    "\n",
    "1) Consider a softening constitutive law for the interface\n",
    "    \\begin{equation}\n",
    "    \\sigma = K^{init} w \\,\\,\\mathrm{when}\\,\\, w \\leq w_0 \\\\\n",
    "    \\sigma = K^{init} w_0 \\frac{w_c - w}{w_c - w_0}\\,\\, \\mathrm{when}\\,\\, w_0 < w_0 < w_c \\\\\n",
    "    \\sigma = 0 \\,\\,\\mathrm{when} w_c \\geq w\n",
    "    \\end{equation}"
   ]
  },
  {
   "cell_type": "code",
   "execution_count": null,
   "metadata": {},
   "outputs": [],
   "source": [
    "sigma = sp.Piecewise(\n",
    "    (K_init * w, w <= w_0),\n",
    "    (K_init * w_0 * ((w_c - w)/(w_c - w_0)), w < w_c),\n",
    "    (0, True)\n",
    ")\n",
    "sigma"
   ]
  },
  {
   "cell_type": "markdown",
   "metadata": {},
   "source": [
    "2) Assume relative displacement. Here, relative displacement is taken as the cubic function of $\\xi$:\n",
    "    \\begin{equation}\n",
    "        w(\\xi,\\zeta) = \\frac{1}{L^3}\\left[a(\\zeta)\\xi^3 + b(\\zeta)\\xi^2 + c(\\zeta)\\xi + d(\\zeta)\\right]\n",
    "    \\end{equation}\n",
    "   The coefficients can be found by the boundaring conditions stated below:\n",
    "   \\begin{equation}\n",
    "        w(\\zeta - L,\\zeta) = w_c \\\\\n",
    "        w(\\zeta ,\\zeta) = w_0 \\\\ \n",
    "        \\frac{\\partial \\hat{w}}{\\partial \\xi} = 0\n",
    "    \\end{equation}\n",
    "    where the derivative will be replaced by $\\zeta - L, \\zeta$ to give two more boundary conditions."
   ]
  },
  {
   "cell_type": "code",
   "execution_count": null,
   "metadata": {},
   "outputs": [],
   "source": [
    "# Relative Displacement taken as cubic function\n",
    "L = sp.Symbol('L', nonnegative = True)\n",
    "a = sp.Symbol('a', nonnegative = True)\n",
    "b = sp.Symbol('b', nonnegative = True)\n",
    "c = sp.Symbol('c', nonnegative = True)\n",
    "d = sp.Symbol('d', nonnegative = True)\n",
    "xi = sp.Symbol(r'\\xi', nonnegative = True)\n",
    "hat_w = (1 / L**3) * (a * xi**3 + b * xi**2 + c * xi + d)\n",
    "hat_w"
   ]
  },
  {
   "cell_type": "code",
   "execution_count": null,
   "metadata": {},
   "outputs": [],
   "source": [
    "zeta = sp.Symbol(r'\\zeta', nonnegative = True)\n",
    "hat_w_c = hat_w.subs(xi,(zeta - L))\n",
    "hat_w_c_sim = sp.simplify(hat_w_c)\n",
    "hat_w_c_sim"
   ]
  },
  {
   "cell_type": "code",
   "execution_count": null,
   "metadata": {},
   "outputs": [],
   "source": [
    "hat_w_0 = hat_w.subs(xi,zeta)\n",
    "hat_w_0_sim = sp.simplify(hat_w_0)\n",
    "hat_w_0_sim"
   ]
  },
  {
   "cell_type": "code",
   "execution_count": null,
   "metadata": {},
   "outputs": [],
   "source": [
    "diff_hat_w = hat_w.diff(xi)\n",
    "diff_hat_w"
   ]
  },
  {
   "cell_type": "code",
   "execution_count": null,
   "metadata": {},
   "outputs": [],
   "source": [
    "diff_hat_val_c = diff_hat_w.subs(xi, (zeta - L))\n",
    "diff_hat_val_c"
   ]
  },
  {
   "cell_type": "code",
   "execution_count": null,
   "metadata": {},
   "outputs": [],
   "source": [
    "diff_hat_val_0 = diff_hat_w.subs(xi, zeta)\n",
    "diff_hat_val_0"
   ]
  },
  {
   "cell_type": "code",
   "execution_count": null,
   "metadata": {},
   "outputs": [],
   "source": [
    "hat_w_c_eq = sp.Eq(hat_w_c_sim, w_c)\n",
    "hat_w_c_eq"
   ]
  },
  {
   "cell_type": "code",
   "execution_count": null,
   "metadata": {},
   "outputs": [],
   "source": [
    "hat_w_0_eq = sp.Eq(hat_w_0_sim, w_0)\n",
    "hat_w_0_eq"
   ]
  },
  {
   "cell_type": "code",
   "execution_count": null,
   "metadata": {},
   "outputs": [],
   "source": [
    "co_efficients = sp.solve([(sp.Eq(diff_hat_val_0, 0)), (sp.Eq(diff_hat_val_c, 0)), (sp.Eq(hat_w_0_sim, w_0)),(sp.Eq(hat_w_c_sim, w_c))]\\\n",
    "                         , (a,b,c,d))\n",
    "co_efficients"
   ]
  },
  {
   "cell_type": "code",
   "execution_count": null,
   "metadata": {},
   "outputs": [],
   "source": [
    "hat_w_sub = hat_w.subs(a,co_efficients[a]).subs(b,co_efficients[b]).subs(c,co_efficients[c]).subs(d,co_efficients[d])\n",
    "hat_w_sim = sp.simplify(hat_w_sub)\n",
    "hat_w_sim"
   ]
  },
  {
   "cell_type": "markdown",
   "metadata": {},
   "source": [
    "3) Now obtain the damage distribution combining the constitutive relationship and the assigned relative displacement:"
   ]
  },
  {
   "cell_type": "code",
   "execution_count": null,
   "metadata": {},
   "outputs": [],
   "source": [
    "omega_val = sp.solve(sp.Eq(sigma_soft, sigma), omega)\n",
    "omega_val[0]"
   ]
  },
  {
   "cell_type": "code",
   "execution_count": null,
   "metadata": {},
   "outputs": [],
   "source": [
    "omega = (w_c * (hat_w_sim - w_0))/(hat_w_sim * (w_c - w_0))\n",
    "    #d_val[0].subs(omega, hat_omega_sim)\n",
    "#d_sim = sp.simplify(d_sub)\n",
    "omega"
   ]
  },
  {
   "cell_type": "code",
   "execution_count": null,
   "metadata": {},
   "outputs": [],
   "source": [
    "omega.diff(zeta)"
   ]
  },
  {
   "cell_type": "markdown",
   "metadata": {},
   "source": [
    "4) Consider a set $L$ of $n_L$ possible fracture zone lengths such as:\n",
    "    \\begin{equation}\n",
    "    L = L_1, L_2,...., L_i, ...., L_{n_L}\n",
    "    \\end{equation}\n",
    "5) Assign $L = L_i$"
   ]
  },
  {
   "cell_type": "code",
   "execution_count": null,
   "metadata": {},
   "outputs": [],
   "source": [
    "L_val = np.linspace(200,600,3)"
   ]
  },
  {
   "cell_type": "markdown",
   "metadata": {},
   "source": [
    "6) Determine R-curve as:\n",
    "    \\begin{equation}\n",
    "    R = \\frac{1}{2} K^{init} \\int_{(\\zeta - L)^+}^{\\zeta} w^2 \\frac{\\partial \\omega}{\\partial \\zeta} d \\xi\n",
    "    \\end{equation}"
   ]
  },
  {
   "cell_type": "code",
   "execution_count": null,
   "metadata": {},
   "outputs": [],
   "source": [
    "# R-curve\n",
    "xi_ = zeta - L\n",
    "R = ((1/2) * K_init * sp.integrate(hat_w_sim**2 * omega.diff(zeta), xi))#, (zeta - L, zeta))\n",
    "#R_eq = R.subs(omega, hat_omega_sim)\n",
    "R_sim = sp.simplify(R)\n",
    "R_sim"
   ]
  },
  {
   "cell_type": "code",
   "execution_count": null,
   "metadata": {},
   "outputs": [],
   "source": [
    "R_xi = R_sim.subs(xi, xi_)\n",
    "R_curve = sp.simplify(R_xi)\n",
    "R_curve"
   ]
  },
  {
   "cell_type": "code",
   "execution_count": null,
   "metadata": {},
   "outputs": [],
   "source": [
    "w_0 = sp.Symbol(r'w_0', nonnegative = True)\n",
    "w_c = sp.Symbol(r'w_c', nonnegative = True)\n",
    "get_R = sp.lambdify((K_init, w_0,w_c, L, zeta), R_curve, 'numpy')\n",
    "get_R"
   ]
  },
  {
   "cell_type": "code",
   "execution_count": null,
   "metadata": {},
   "outputs": [],
   "source": [
    "params = {E : 30000, #N/mm2\n",
    "         G_c_2 : 0.025, #N/mm2\n",
    "         K_init : 100000000, #N/mm3\n",
    "         nu : 0.2, \n",
    "         f_t : 3 #N/mm2\n",
    "         }\n",
    "w_0 = f_t / K_init\n",
    "w_c = 2 * G_c_2 / f_t\n",
    "w_c"
   ]
  },
  {
   "cell_type": "code",
   "execution_count": null,
   "metadata": {},
   "outputs": [],
   "source": [
    "L_val = np.linspace(200,600,3)\n",
    "R_xi_1 = np.zeros(10)\n",
    "R_xi_2 = np.zeros(10)\n",
    "R_xi_3 = np.zeros(10)\n",
    "for i, L_ in enumerate(L_val):\n",
    "    params = {E : 30000, #N/mm2\n",
    "         G_c_2 : 0.025, #N/mm2\n",
    "         K_init : 100000000, #N/mm3\n",
    "         nu : 0.2, \n",
    "         f_t : 3 #N/mm2\n",
    "         }\n",
    "    w_0 = f_t.subs(params) / K_init.subs(params)\n",
    "    w_c = 2 * G_c_2.subs(params) / f_t.subs(params)\n",
    "    zeta_val = np.linspace(0, 600, 12)\n",
    "    for j, z_ in enumerate(zeta_val): \n",
    "        if L_ == 200:\n",
    "            zeta_1 = np.linspace(0, 500, 10)\n",
    "            R_xi_1 = get_R(K_init.subs(params), w_0, w_c, L_, zeta_1)\n",
    "        if L_ == 400:\n",
    "            zeta_2 = np.linspace(200, 500, 10)\n",
    "            R_xi_2 = get_R(K_init.subs(params), w_0, w_c, L_, zeta_2)\n",
    "        if L_ == 600:\n",
    "            zeta_3 = np.linspace(400, 500, 10)\n",
    "            R_xi_3 = get_R(K_init.subs(params), w_0, w_c, L_, zeta_3)\n",
    "    #R_xi_ = np.concatenate(R_xi_1, R_xi_2, R_xi_3)\n",
    "print('R', R_xi_1)\n",
    "print('R', R_xi_2)\n",
    "print('R', R_xi_3)\n",
    "print('zeta_val', zeta_val)\n",
    "\n",
    "    "
   ]
  },
  {
   "cell_type": "code",
   "execution_count": null,
   "metadata": {},
   "outputs": [],
   "source": [
    "_, (ax1) = plt.subplots(1, 1, figsize=(8,4))\n",
    "ax1.plot(zeta_1, R_xi_1, color='red', lw=2, label = (r'$R_1$'))\n",
    "ax1.plot(zeta_2, R_xi_2, color='blue', lw=2, label = (r'$R_2$'))\n",
    "ax1.plot(zeta_3, R_xi_3, color='green', lw=2, label = (r'$R_3$'))\n",
    "ax1.set_xlabel(r'$\\zeta$'); ax1.set_ylabel('R')\n",
    "ax1.legend()\n",
    "#_.savefig(\"R_f_2.pdf\", bbox_inches='tight')"
   ]
  },
  {
   "cell_type": "code",
   "execution_count": null,
   "metadata": {},
   "outputs": [],
   "source": [
    "L_val = 200\n",
    "R_xi_ = np.zeros((10,1))\n",
    "zeta_val = np.linspace(0, 200, 10)\n",
    "for j, zeta_ in enumerate(zeta_val):\n",
    "                 params = {E : 30000, #N/mm2\n",
    "                           G_c_2 : 0.025, #N/mm2\n",
    "                           K_init : 100000000, #N/mm3\n",
    "                           nu : 0.2, \n",
    "                           f_t : 3 #N/mm2\n",
    "                        }\n",
    "                 w_0 = f_t.subs(params) / K_init.subs(params)\n",
    "                 w_c = 2 * G_c_2.subs(params) / f_t.subs(params)\n",
    "                 R_xi_[j] = get_R(K_init.subs(params), w_0, w_c, L_, zeta_)\n",
    "                 print(R_xi_[j])"
   ]
  },
  {
   "cell_type": "code",
   "execution_count": null,
   "metadata": {},
   "outputs": [],
   "source": [
    "_, (ax1) = plt.subplots(1, 1, figsize=(8,4))\n",
    "ax1.plot(zeta_val, R_xi_[:,0], color='red', lw=2, label = (r'$R_1$'))\n",
    "ax1.set_xlabel(r'$\\zeta$'); ax1.set_ylabel('R')\n",
    "ax1.legend()\n",
    "#_.savefig(\"R_f_2.pdf\", bbox_inches='tight')"
   ]
  },
  {
   "cell_type": "markdown",
   "metadata": {},
   "source": [
    "6) Evaluate the stiffness $K(\\zeta)$ through finite element analysis for each value of the damage zone length $\\zeta$."
   ]
  },
  {
   "cell_type": "markdown",
   "metadata": {},
   "source": [
    "7) Calculate the derivative $\\frac{d K(\\zeta)}{d \\zeta}$ as finite difference $\\frac{\\Delta K(\\zeta)}{\\Delta \\zeta}$."
   ]
  },
  {
   "cell_type": "markdown",
   "metadata": {},
   "source": [
    "8) Calculate displacement and Load as:\n",
    "    \\begin{equation}\n",
    "    \\eta (\\zeta) = \\sqrt{2 R(\\zeta) \\left(\\frac{d K(\\zeta)}{d \\zeta}\\right)^{-1}} \\\\\n",
    "    P (\\zeta) = K(\\zeta) \\eta(\\zeta)\n",
    "    \\end{equation}"
   ]
  },
  {
   "cell_type": "code",
   "execution_count": null,
   "metadata": {},
   "outputs": [],
   "source": [
    "f_2_val = np.linspace(1,4,3)\n",
    "alpha_0 = 1\n",
    "d_1 = np.zeros((10,3))\n",
    "d_2 = np.zeros((10,3))\n",
    "beta_2 = np.zeros((10,3))\n",
    "psi = np.zeros((10,3))\n",
    "alpha_ans = np.zeros((10,3))\n",
    "COD = np.zeros((10,3))\n",
    "R = np.zeros((10,3))\n",
    "for i, f_2_ in enumerate(f_2_val):\n",
    "    a_01 = np.linspace(10, 40, 10)\n",
    "    for j, a in enumerate(a_01):\n",
    "        if a == 10:\n",
    "            R[j, i] = 0\n",
    "        elif a > 10:\n",
    "            alpha_ans = 1\n",
    "        params = {\n",
    "              K_Ic : 30, #N/mm(3/2),\n",
    "              f_2 : 1.42, \n",
    "              E: 20000, #N/mm2\n",
    "              B : 76.2, #mm\n",
    "              S : 304.8, #mm\n",
    "              P : 120, #N\n",
    "              pi : 3.14, \n",
    "              a_0: 10, #mm\n",
    "              f_1: 1.123}\n",
    "        CMOD = (4 * sigma_x_ * f_2_) / E.subs(params)\n",
    "        print(CMOD)\n",
    "        alpha_ = (pi * E**2 * f_1**2 * (CMOD * sp.sqrt((alpha * a_0)**2 \\\n",
    "            - a_0**2))**2) / (32 * a_0 * K_Ic**2 * f_2_**2) \\\n",
    "             + sp.sqrt((pi * E**2 * f_1**2 * (CMOD * sp.sqrt((alpha * a_0)**2 - a_0**2))**2) \\\n",
    "                   / (32 * a_0 *  K_Ic**2 * f_2_**2) + 1)\n",
    "        alpha_val = alpha_.subs(params) - alpha\n",
    "        alpha_diff = alpha_val.diff(alpha)\n",
    "        alpha_n = alpha_0 - (alpha_val/alpha_diff)\n",
    "        alpha_sol = sp.solve(alpha_n, alpha)\n",
    "        print('*************')\n",
    "        print('a = ', j, a)\n",
    "        print('f_2 =', i, f_2_)\n",
    "        print('alpha_sol=', alpha_sol)\n",
    "        if alpha_sol[0] > 1:\n",
    "            alpha_ans = alpha_sol[0]\n",
    "        elif alpha_sol[0] < 1:\n",
    "            alpha_ans = alpha_sol[1]\n",
    "        print('alpha =', alpha_ans)\n",
    "        d_1 = (1/2) + ((alpha_ans - 1) /  alpha_ans) + sp.sqrt(1/4 + ( alpha_ans - 1) /  alpha_ans\\\n",
    "                                            - (( alpha_ans - 1) /  alpha_ans)**2)\n",
    "        print('d_1 =', d_1)\n",
    "        d_2 = (1/2) + (( alpha_ans - 1) /  alpha_ans) - sp.sqrt(1/4 + ( alpha_ans - 1) /  alpha_ans \\\n",
    "                                         - (( alpha_ans - 1) /  alpha_ans)**2)\n",
    "        print('d_2 = ', d_2)\n",
    "        beta_2 = (K_Ic.subs(params)**2 * ( alpha_ans * a_0.subs(params) - a_0.subs(params))**(-d_2)) / (E.subs(params) * (1 - (d_2 \\\n",
    "                                                        - (( alpha_ans-1)/ alpha_ans))\\\n",
    "                                                         /(d_1 - (( alpha_ans-1)/ alpha_ans))))\n",
    "        psi = 1 - ((d_2 - ( alpha_ans - 1) /  alpha_ans)/(d_1  - ( alpha_ans - 1) /  alpha_ans))\\\n",
    "            *  ((alpha_ans * a_0.subs(params) - a_0.subs(params))/(alpha_ans * a_0.subs(params) \\\n",
    "              - a_0.subs(params)))**(d_2 - d_1)\n",
    "        print('beta =', beta_2)\n",
    "        R[j, i] = beta_2 * psi * (a - a_0.subs(params))**d_2\n",
    "        if R[j, i] <= ((K_Ic.subs(params))**2 / E.subs(params)):\n",
    "            R[j, i] = beta_2 * psi * (a - a_0.subs(params))**d_2\n",
    "        else:\n",
    "                R[j, i] = ((K_Ic.subs(params))**2 / E.subs(params))\n",
    "        print('R =',[i, j], R[j, i])\n",
    "        print('*************')\n",
    "    print('R =',R)\n",
    "    #i +=1 "
   ]
  },
  {
   "cell_type": "code",
   "execution_count": null,
   "metadata": {},
   "outputs": [],
   "source": [
    "R.subs(params)"
   ]
  },
  {
   "cell_type": "code",
   "execution_count": null,
   "metadata": {},
   "outputs": [],
   "source": [
    "R.subs(xi, zeta - L)"
   ]
  },
  {
   "cell_type": "code",
   "execution_count": null,
   "metadata": {},
   "outputs": [],
   "source": [
    "R.subs(xi, zeta)"
   ]
  },
  {
   "cell_type": "code",
   "execution_count": null,
   "metadata": {},
   "outputs": [],
   "source": [
    "_, (ax1) = plt.subplots(1, 1, figsize=(8,4))\n",
    "ax1.plot(a_01, R[:,0], color='red', lw=2, label = (r'$f_2 = 1$'))\n",
    "ax1.plot(a_01, R[:,1], color='blue', lw=2, label = (r'$f_2 = 2.5$'))\n",
    "ax1.plot(a_01, R[:,2], color='green', lw=2, label = (r'$f_2 = 4$'))\n",
    "#ax1.plot(a_0_val, R_c, color='orange', lw=2, label = (r'R_c'))\n",
    "ax1.set_xlabel('a'); ax1.set_ylabel('R')\n",
    "ax1.legend()\n",
    "_.savefig(\"R_f_2.pdf\", bbox_inches='tight')"
   ]
  },
  {
   "cell_type": "code",
   "execution_count": null,
   "metadata": {},
   "outputs": [],
   "source": []
  }
 ],
 "metadata": {
  "kernelspec": {
   "display_name": "Python 3",
   "language": "python",
   "name": "python3"
  },
  "language_info": {
   "codemirror_mode": {
    "name": "ipython",
    "version": 3
   },
   "file_extension": ".py",
   "mimetype": "text/x-python",
   "name": "python",
   "nbconvert_exporter": "python",
   "pygments_lexer": "ipython3"
  },
  "toc": {
   "base_numbering": 1,
   "nav_menu": {},
   "number_sections": true,
   "sideBar": true,
   "skip_h1_title": false,
   "title_cell": "Table of Contents",
   "title_sidebar": "Contents",
   "toc_cell": false,
   "toc_position": {},
   "toc_section_display": true,
   "toc_window_display": false
  }
 },
 "nbformat": 4,
 "nbformat_minor": 4
}
