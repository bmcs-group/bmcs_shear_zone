{
 "cells": [
  {
   "cell_type": "code",
   "execution_count": null,
   "metadata": {
    "pycharm": {
     "name": "#%%\n"
    }
   },
   "outputs": [],
   "source": [
    "import sympy as sp\n",
    "import numpy as np\n",
    "import matplotlib.pylab as plt\n",
    "sp.init_printing()"
   ]
  },
  {
   "cell_type": "markdown",
   "metadata": {},
   "source": [
    "# Principal stress directions in FPS"
   ]
  },
  {
   "cell_type": "markdown",
   "metadata": {},
   "source": [
    "The corresponding tensile stress at this position which must be perpendicular to the crack propagation\n",
    "\\begin{align}\n",
    "\\sigma^{\\mathrm{tip},\\psi}_1 = f_{\\mathrm{t}}\n",
    "\\end{align}"
   ]
  },
  {
   "cell_type": "markdown",
   "metadata": {},
   "source": [
    "\\begin{align}\n",
    "\\sigma_{ij} =\n",
    "\\left[\n",
    "\\begin{array}{cc}\n",
    "\\sigma_{x} & \\tau^\\mathrm{tip} \\\\\n",
    "\\tau^\\mathrm{tip} & 0\n",
    "\\end{array}\n",
    "\\right]\n",
    "\\end{align}"
   ]
  },
  {
   "cell_type": "markdown",
   "metadata": {},
   "source": [
    "\\begin{align}\n",
    "{\\tilde{\\sigma}^{\\theta}_{ij}} =\n",
    "\\left[\n",
    "\\begin{array}{cc}\n",
    "\\mathrm{f_{ct}} & 0 \\\\\n",
    "0 & x\n",
    "\\end{array}\n",
    "\\right]\n",
    "\\end{align}"
   ]
  },
  {
   "cell_type": "markdown",
   "metadata": {},
   "source": [
    "As we know that the stress profile along the propagating crack is the transformation of the tip stress profile along the angle of propagation $\\theta$, therefore, we can obtain the stress state at the crack tip by retracing back from the stress field of the propagating crack back to crack tip stress by inverting the transformation procedure as shown with the help of python code below:"
   ]
  },
  {
   "cell_type": "code",
   "execution_count": null,
   "metadata": {},
   "outputs": [],
   "source": [
    "f_ct = sp.Symbol(r'f_{ct}', nonnegative = True)\n",
    "c_t = sp.Symbol(r'c_t', nonnegative = True)\n",
    "s_t = sp.Symbol(r's_t', nonnegative = True)\n",
    "sigma_x = sp.Symbol(r'\\sigma_x', nonnegative = True)\n",
    "tau_tip = sp.Symbol(r'\\tau_{\\mathrm{tip}}', nonnegative = True)\n",
    "x = sp.Symbol(r'x', nonnegative = True)\n",
    "theta = sp.Symbol(r'\\theta', nonnegative = True)\n",
    "s_b, c_b = sp.symbols('s_b, c_b')\n",
    "a = sp.Symbol('a', nonnegative = True)\n",
    "r = sp.Symbol('r', nonnegative = True)"
   ]
  },
  {
   "cell_type": "code",
   "execution_count": null,
   "metadata": {},
   "outputs": [],
   "source": [
    "sigma_tip_ij = sp.Matrix([[sigma_x, tau_tip],\n",
    "                       [tau_tip, 0]])\n",
    "sigma_tip_ij"
   ]
  },
  {
   "cell_type": "code",
   "execution_count": null,
   "metadata": {},
   "outputs": [],
   "source": [
    "R_beta_kl = sp.Matrix([[c_b, -s_b],\n",
    "                    [s_b, c_b]])\n",
    "R_beta_kl"
   ]
  },
  {
   "cell_type": "code",
   "execution_count": null,
   "metadata": {},
   "outputs": [],
   "source": [
    "tilde_sigma_beta = R_beta_kl.T * sigma_tip_ij * R_beta_kl\n",
    "tilde_sigma_beta"
   ]
  },
  {
   "cell_type": "code",
   "execution_count": null,
   "metadata": {},
   "outputs": [],
   "source": [
    "K_I = sp.sqrt(sp.pi * a) * tilde_sigma_beta[0,0]\n",
    "K_II  = sp.sqrt(sp.pi * a) * tilde_sigma_beta[1,0]\n",
    "K_I, K_II"
   ]
  },
  {
   "cell_type": "code",
   "execution_count": null,
   "metadata": {},
   "outputs": [],
   "source": [
    "cs_theta = sp.Matrix([c_t, s_t])\n",
    "cs_theta"
   ]
  },
  {
   "cell_type": "code",
   "execution_count": null,
   "metadata": {},
   "outputs": [],
   "source": [
    "cs_theta_ = sp.Matrix([sp.cos(theta), sp.sin(theta)])\n",
    "cs_theta_"
   ]
  },
  {
   "cell_type": "markdown",
   "metadata": {},
   "source": [
    "## Stress at Crack tip\n",
    "A solution for the stress field around the crack tip shown in figure was conceptualized by Westergaard which was further simplified by Irwin using the Airy Stress Functions based on the assumption that the material is isotropic. The solution of stress field in an infinite plate containing a crack found by Westergaard is given in complex numbers. Furthermore, this equation of complex numbers was taken to obtain stress field around the rupture which can generally be represented as:\n",
    "\\begin{align}\n",
    "\\bar{\\sigma}^{\\beta}_{ij}(\\rho) = \\frac{\\left[ K_I S_{ij}^I(\\theta) + K_{II} S_{ij}^{II}(\\theta) \\right]}{\\sqrt{2\\pi \\rho}}\n",
    "\\label{eq:dominantstresses}\n",
    "\\end{align}\n",
    "Hence, with respect to equation the local stress state in the vicinity of the crack tip can be described \n",
    "using the stress intensity factors $K_I$ and $K_{II}$ in combination with \n",
    "angular functions for mode I and mode II. The angular functions were obtained during Irwin formulation and are reported here directly as:\n",
    "\\begin{gather}\n",
    "S_{ij}^{I}(\\theta) = \n",
    "\\left[\n",
    "\\begin{array}{cc}\n",
    "S^{I}_{11} & S^{I}_{12} \\\\\n",
    "S^{I}_{12} &  S^{I}_{22}\n",
    "\\end{array}\n",
    "\\right] =\n",
    "\\\\\\left[\n",
    "\\begin{array}{cc}\n",
    "2 \\cos\\frac{\\theta}{2} -\\cos\\frac{\\theta}{2} \\left[ 1 + \\sin\\frac{\\theta}{2}\\sin\\frac{3\\theta}{2}\\right] & \\cos\\frac{\\theta}{2}\\sin\\frac{\\theta}{2}\\cos\\frac{3\\theta}{2} \\\\\n",
    "\\cos\\frac{\\theta}{2}\\sin\\frac{\\theta}{2}\\cos\\frac{3\\theta}{2} &  \\cos\\frac{\\theta}{2} \\left[ 1 + \\sin\\frac{\\theta}{2}\\sin\\frac{3\\theta}{2}\\right]\n",
    "\\end{array}\n",
    "\\right] \n",
    "\\label{eq:SI}\n",
    "\\end{gather}\n",
    "\\begin{gather}\n",
    "S_{ij}^{II}(\\theta) = \n",
    "\\left[\n",
    "\\begin{array}{cc}\n",
    "S^{II}_{11} & S^{II}_{12} \\\\\n",
    "S^{II}_{12} &  S^{II}_{22}\n",
    "\\end{array}\n",
    "\\right] =\n",
    "\\\\\\left[\n",
    "\\begin{array}{cc}\n",
    "-2 \\sin\\frac{\\theta}{2} - \\sin\\frac{\\theta}{2}\\cos\\frac{\\theta}{2}\\cos\\frac{3\\theta}{2} & \\cos\\frac{\\theta}{2}\\left[ 1 - \\sin\\frac{\\theta}{2}\\sin\\frac{3\\theta}{2}\\right] \\\\\n",
    "\\cos\\frac{\\theta}{2}\\left[ 1 - \\sin\\frac{\\theta}{2}\\sin\\frac{3\\theta}{2}\\right] &  \\sin\\frac{\\theta}{2}\\cos\\frac{\\theta}{2}\\cos\\frac{3\\theta}{2}\n",
    "\\end{array}\n",
    "\\right] \n",
    "\\label{eq:SII}\n",
    "\\end{gather}\n",
    "where, $\\rho$ shows radial distance for the crack to propagate and $\\theta$ constitutes the angle of propagation whose direction depends on the loading direction of the far field stresses. "
   ]
  },
  {
   "cell_type": "code",
   "execution_count": null,
   "metadata": {},
   "outputs": [],
   "source": [
    "s_3t = 3 * s_t - 4 * s_t**3\n",
    "c_3t = 4 * c_t**3 - 3 * c_t\n",
    "s_i_11 = 2 * c_t - c_t * (1 + s_t * s_3t) \n",
    "s_i_22 = c_t * (1 + s_t * s_3t)\n",
    "s_i_12 = c_t * s_t * c_3t\n",
    "s_i = sp.Matrix([[s_i_11, s_i_12],[s_i_12, s_i_22]])\n",
    "s_i_ = sp.simplify(s_i)\n",
    "s_i_"
   ]
  },
  {
   "cell_type": "code",
   "execution_count": null,
   "metadata": {},
   "outputs": [],
   "source": [
    "s_ii_11 = - 2 * s_t - s_t * c_t * c_3t  \n",
    "s_ii_22 = s_t * c_t * c_3t\n",
    "s_ii_12 = c_t * (1 - s_t * s_3t)\n",
    "s_ii = sp.Matrix([[s_ii_11, s_ii_12],[s_ii_12, s_ii_22]])\n",
    "s_ii_ = sp.simplify(s_ii)\n",
    "s_ii_"
   ]
  },
  {
   "cell_type": "code",
   "execution_count": null,
   "metadata": {},
   "outputs": [],
   "source": [
    "c_t_h = sp.sqrt((1 + c_t)/2)\n",
    "s_t_h = sp.sqrt((1 - c_t)/2)\n",
    "s_t_h"
   ]
  },
  {
   "cell_type": "code",
   "execution_count": null,
   "metadata": {},
   "outputs": [],
   "source": [
    "sigma_tip_ij_11 = sp.simplify(((K_I * s_i_[0,0] + K_II * s_ii_[0,0]).subs(c_t, c_t_h).subs(s_t, s_t_h))/sp.sqrt(2 * sp.pi * r))\n",
    "sigma_tip_ij_11"
   ]
  },
  {
   "cell_type": "code",
   "execution_count": null,
   "metadata": {},
   "outputs": [],
   "source": [
    "sigma_tip_ij_12 = sp.simplify(((K_I * s_i_[0,1] + K_II * s_ii_[0,1]).subs(c_t, c_t_h).subs(s_t, s_t_h))/sp.sqrt(2 * sp.pi * r))\n",
    "sigma_tip_ij_12"
   ]
  },
  {
   "cell_type": "code",
   "execution_count": null,
   "metadata": {},
   "outputs": [],
   "source": [
    "sigma_tip_ij_21 = sp.simplify(((K_I * s_i_[0,1] + K_II * s_ii_[0,1]).subs(c_t, c_t_h).subs(s_t, s_t_h))/sp.sqrt(2 * sp.pi * r))\n",
    "sigma_tip_ij_21"
   ]
  },
  {
   "cell_type": "code",
   "execution_count": null,
   "metadata": {},
   "outputs": [],
   "source": [
    "sigma_tip_ij_22 = sp.simplify(((K_I * s_i_[1,1] + K_II * s_ii_[1,1]).subs(c_t, c_t_h).subs(s_t, s_t_h))/sp.sqrt(2 * sp.pi * r))\n",
    "sigma_tip_ij_22"
   ]
  },
  {
   "cell_type": "code",
   "execution_count": null,
   "metadata": {},
   "outputs": [],
   "source": [
    "sigma_tip_ij_f = sp.Matrix([[sigma_tip_ij_11, sigma_tip_ij_12],\n",
    "                   [sigma_tip_ij_12, sigma_tip_ij_22]])\n",
    "sigma_tip_ij_f"
   ]
  },
  {
   "cell_type": "code",
   "execution_count": null,
   "metadata": {},
   "outputs": [],
   "source": [
    "#sigma_tip_ij_ = sp.Matrix([[K_I * s_i_[0,0] + K_II * s_ii_[0,0], K_I * s_i_[0,1] + K_II * s_ii_[0,1]],\n",
    "#                   [K_I * s_i_[0,1] + K_II * s_ii_[0,1], K_I * s_i_[1,1] + K_II * s_ii_[1,1]]])\n",
    "#sigma_tip_ij_sim = sp.simplify(sigma_tip_ij.subs(c_t, c_t_h).subs(s_t, s_t_h)) / sp.sqrt(2 * sp.pi * r)\n",
    "#sigma_tip_ij_sim"
   ]
  },
  {
   "cell_type": "code",
   "execution_count": null,
   "metadata": {},
   "outputs": [],
   "source": [
    "R_theta_kl = sp.Matrix([[c_t, -s_t],\n",
    "                       [s_t, c_t]])\n",
    "R_theta_kl"
   ]
  },
  {
   "cell_type": "code",
   "execution_count": null,
   "metadata": {},
   "outputs": [],
   "source": [
    "tilde_sigma_theta_ij = R_theta_kl.T * sigma_tip_ij_f * R_theta_kl\n",
    "tilde_sigma_theta_ij_sim = sp.simplify(tilde_sigma_theta_ij)\n",
    "tilde_sigma_theta_ij_sim"
   ]
  },
  {
   "cell_type": "code",
   "execution_count": null,
   "metadata": {},
   "outputs": [],
   "source": [
    "s_t_ = sp.sqrt(1 - c_t**2)\n",
    "tilde_sigma_theta_ij_sub = tilde_sigma_theta_ij_sim.subs(s_t, s_t_)\n",
    "tilde_sigma_theta_ij_sub;"
   ]
  },
  {
   "cell_type": "code",
   "execution_count": null,
   "metadata": {},
   "outputs": [],
   "source": [
    "tilde_sigma_theta = sp.Matrix([[f_ct, 0],\n",
    "                       [0, x]])\n",
    "tilde_sigma_theta"
   ]
  },
  {
   "cell_type": "code",
   "execution_count": null,
   "metadata": {},
   "outputs": [],
   "source": [
    "tilde_sigma_11 = sp.Eq(tilde_sigma_theta_ij_sub[0,0], tilde_sigma_theta[0,0])\n",
    "tilde_sigma_11"
   ]
  },
  {
   "cell_type": "code",
   "execution_count": null,
   "metadata": {},
   "outputs": [],
   "source": [
    "tilde_sigma_12 = sp.Eq(tilde_sigma_theta_ij_sub[0,1], tilde_sigma_theta[0,1])\n",
    "tilde_sigma_12"
   ]
  },
  {
   "cell_type": "code",
   "execution_count": null,
   "metadata": {},
   "outputs": [],
   "source": [
    "val_sigma_x = sp.solve((tilde_sigma_11), (sigma_x))\n",
    "sim_val_sigma_x = sp.simplify(val_sigma_x[0])\n",
    "sim_val_sigma_x"
   ]
  },
  {
   "cell_type": "markdown",
   "metadata": {},
   "source": [
    "## Mixed Mode State"
   ]
  },
  {
   "cell_type": "code",
   "execution_count": null,
   "metadata": {},
   "outputs": [],
   "source": [
    "params = {tau_tip : 1, sigma_x:1} \n",
    "#theta_val = sp.solve(tilde_sigma_12.subs(sigma_x, sim_val_sigma_x).subs(params), c_t)\n",
    "#theta_val\n",
    "cos_theta_val_mm = sp.solve(tilde_sigma_theta_ij_sub[0,1].subs(params), c_t) #'mm' depicts mixed mode\n",
    "cos_theta_val_mm"
   ]
  },
  {
   "cell_type": "code",
   "execution_count": null,
   "metadata": {},
   "outputs": [],
   "source": [
    "beta = sp.Symbol(r'\\beta')"
   ]
  },
  {
   "cell_type": "code",
   "execution_count": null,
   "metadata": {},
   "outputs": [],
   "source": [
    "cos_theta_mm = cos_theta_val_mm[1].subs(s_b, sp.sin(beta)).subs(c_b, sp.cos(beta))\n",
    "cos_theta_mm"
   ]
  },
  {
   "cell_type": "code",
   "execution_count": null,
   "metadata": {},
   "outputs": [],
   "source": [
    "theta_val_mm = sp.acos(cos_theta_mm)\n",
    "get_theta = sp.lambdify((beta), theta_val_mm, 'numpy')\n",
    "get_theta"
   ]
  },
  {
   "cell_type": "code",
   "execution_count": null,
   "metadata": {},
   "outputs": [],
   "source": [
    "_, (ax1) = plt.subplots(1, 1, figsize=(10,5))\n",
    "beta_0 = np.linspace(0 * np.pi/180, 31.70 * np.pi/180, 20)\n",
    "beta_1 = np.linspace(31.70 * np.pi/180, 90 * np.pi/180, 80)\n",
    "theta_val_1 = get_theta(beta_0)\n",
    "theta_val_2 = -get_theta(beta_1)\n",
    "theta_val_ = np.concatenate((theta_val_1, theta_val_2))\n",
    "beta_ = np.concatenate((beta_0, beta_1))\n",
    "ax1.plot(beta_/np.pi * 180, theta_val_/np.pi * 180, color='blue', lw=2);"
   ]
  },
  {
   "cell_type": "code",
   "execution_count": null,
   "metadata": {},
   "outputs": [],
   "source": [
    "theta_val_/np.pi * 180"
   ]
  },
  {
   "cell_type": "markdown",
   "metadata": {},
   "source": [
    "## Pure Tension"
   ]
  },
  {
   "cell_type": "code",
   "execution_count": null,
   "metadata": {},
   "outputs": [],
   "source": [
    "params = {tau_tip : 0, sigma_x:1} \n",
    "#theta_val = sp.solve(tilde_sigma_12.subs(sigma_x, sim_val_sigma_x).subs(params), c_t)\n",
    "#theta_val\n",
    "cos_theta_val_pt = sp.solve(tilde_sigma_theta_ij_sub[0,1].subs(params), c_t) ##pt depicts pure tension\n",
    "cos_theta_val_pt"
   ]
  },
  {
   "cell_type": "code",
   "execution_count": null,
   "metadata": {},
   "outputs": [],
   "source": [
    "cos_theta_pt = cos_theta_val_pt[1].subs(s_b, sp.sin(beta)).subs(c_b, sp.cos(beta))\n",
    "cos_theta_pt"
   ]
  },
  {
   "cell_type": "code",
   "execution_count": null,
   "metadata": {},
   "outputs": [],
   "source": [
    "theta_val_pt = sp.acos(cos_theta_pt)\n",
    "get_theta_pt = sp.lambdify((beta), theta_val_pt, 'numpy')\n",
    "get_theta_pt"
   ]
  },
  {
   "cell_type": "code",
   "execution_count": null,
   "metadata": {},
   "outputs": [],
   "source": [
    "_, (ax1) = plt.subplots(1, 1, figsize=(10,5))\n",
    "beta_0 = np.linspace(0 * np.pi/180, 90 * np.pi/180, 100)\n",
    "theta_val_1 = -get_theta_pt(beta_0)\n",
    "ax1.plot(beta_0/np.pi * 180, theta_val_1/np.pi * 180, color='blue', lw=2);"
   ]
  },
  {
   "cell_type": "markdown",
   "metadata": {
    "pycharm": {
     "name": "#%%\n"
    }
   },
   "source": [
    "## Pure Shear"
   ]
  },
  {
   "cell_type": "code",
   "execution_count": null,
   "metadata": {},
   "outputs": [],
   "source": [
    "params = {tau_tip : 1, sigma_x:0} \n",
    "#theta_val = sp.solve(tilde_sigma_12.subs(sigma_x, sim_val_sigma_x).subs(params), c_t)\n",
    "#theta_val\n",
    "cos_theta_val_ps = sp.solve(tilde_sigma_theta_ij_sub[0,1].subs(params), c_t) ##ps represents pure shear\n",
    "cos_theta_val_ps"
   ]
  },
  {
   "cell_type": "code",
   "execution_count": null,
   "metadata": {},
   "outputs": [],
   "source": [
    "cos_theta_ps = cos_theta_val_ps[1].subs(s_b, sp.sin(beta)).subs(c_b, sp.cos(beta))\n",
    "cos_theta_ps"
   ]
  },
  {
   "cell_type": "code",
   "execution_count": null,
   "metadata": {},
   "outputs": [],
   "source": [
    "theta_val_ps = sp.acos(cos_theta_ps)\n",
    "get_theta_ps = sp.lambdify((beta), theta_val_ps, 'numpy')\n",
    "get_theta_ps"
   ]
  },
  {
   "cell_type": "code",
   "execution_count": null,
   "metadata": {},
   "outputs": [],
   "source": [
    "_, (ax1) = plt.subplots(1, 1, figsize=(10,5))\n",
    "beta_0_ps = np.linspace(0 * np.pi/180, 45 * np.pi/180, 50)\n",
    "beta_1_ps = np.linspace(44.9 * np.pi/180, 90 * np.pi/180, 50)\n",
    "theta_val_1_ps = get_theta_ps(beta_0_ps)\n",
    "theta_val_2_ps = -get_theta_ps(beta_1_ps)\n",
    "theta_val_ps = np.concatenate((theta_val_1_ps, theta_val_2_ps))\n",
    "beta_ps = np.concatenate((beta_0_ps, beta_1_ps))\n",
    "ax1.plot(beta_ps/np.pi * 180, theta_val_ps/np.pi * 180, color='blue', lw=2);"
   ]
  },
  {
   "cell_type": "code",
   "execution_count": null,
   "metadata": {},
   "outputs": [],
   "source": []
  }
 ],
 "metadata": {
  "kernelspec": {
   "display_name": "Python 3",
   "language": "python",
   "name": "python3"
  },
  "language_info": {
   "codemirror_mode": {
    "name": "ipython",
    "version": 3
   },
   "file_extension": ".py",
   "mimetype": "text/x-python",
   "name": "python",
   "nbconvert_exporter": "python",
   "pygments_lexer": "ipython3"
  },
  "toc": {
   "base_numbering": 1,
   "nav_menu": {},
   "number_sections": true,
   "sideBar": true,
   "skip_h1_title": false,
   "title_cell": "Table of Contents",
   "title_sidebar": "Contents",
   "toc_cell": false,
   "toc_position": {},
   "toc_section_display": true,
   "toc_window_display": false
  }
 },
 "nbformat": 4,
 "nbformat_minor": 1
}
