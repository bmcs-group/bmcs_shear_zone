{
 "cells": [
  {
   "cell_type": "code",
   "execution_count": null,
   "metadata": {},
   "outputs": [],
   "source": [
    "import sympy as sp\n",
    "import numpy as np"
   ]
  },
  {
   "cell_type": "code",
   "execution_count": null,
   "metadata": {},
   "outputs": [],
   "source": [
    "f_ct = sp.Symbol(r'f_{ct}', nonnegative = True)\n",
    "c_t = sp.Symbol(r'c_t', nonnegative = True)\n",
    "s_t = sp.Symbol(r's_t', nonnegative = True)\n",
    "sigma_x = sp.Symbol(r'\\sigma_x', nonnegative = True)\n",
    "tau_xy = sp.Symbol(r'\\tau_{xy}', nonnegative = True)\n",
    "x = sp.Symbol(r'x', nonnegative = True)"
   ]
  },
  {
   "cell_type": "code",
   "execution_count": null,
   "metadata": {},
   "outputs": [],
   "source": [
    "sigma_tip = sp.Matrix([[sigma_x, tau_xy],\n",
    "                       [tau_xy, 0]])\n",
    "sigma_tip"
   ]
  },
  {
   "cell_type": "code",
   "execution_count": null,
   "metadata": {},
   "outputs": [],
   "source": [
    "R_theta = sp.Matrix([[c_t, -s_t],\n",
    "                       [s_t, c_t]])\n",
    "R_theta"
   ]
  },
  {
   "cell_type": "code",
   "execution_count": null,
   "metadata": {},
   "outputs": [],
   "source": [
    "sigma_rot = sp.Matrix([[f_ct, 0],\n",
    "                       [0, x]])\n",
    "sigma_rot"
   ]
  },
  {
   "cell_type": "code",
   "execution_count": null,
   "metadata": {},
   "outputs": [],
   "source": [
    "sigma_rot_ = R_theta.T * sigma_tip * R_theta\n",
    "sigma_rot_"
   ]
  },
  {
   "cell_type": "code",
   "execution_count": null,
   "metadata": {},
   "outputs": [],
   "source": [
    "sp.Eq(sigma_rot_, sigma_rot)"
   ]
  },
  {
   "cell_type": "code",
   "execution_count": null,
   "metadata": {},
   "outputs": [],
   "source": [
    "sigma_x_val = sp.solve(sp.Eq(sigma_rot_[0,0], sigma_rot[0,0]), sigma_x)\n",
    "sigma_x_val[0]"
   ]
  },
  {
   "cell_type": "code",
   "execution_count": null,
   "metadata": {},
   "outputs": [],
   "source": [
    "sigma_rot_y = sp.simplify(sigma_rot_[1,1].subs(sigma_x, sigma_x_val[0]))\n",
    "sigma_rot_y"
   ]
  },
  {
   "cell_type": "code",
   "execution_count": null,
   "metadata": {},
   "outputs": [],
   "source": [
    "x_val = sp.solve(sp.Eq(sigma_rot_y,sigma_rot[1,1]), x)\n",
    "x_val[0]"
   ]
  },
  {
   "cell_type": "code",
   "execution_count": null,
   "metadata": {},
   "outputs": [],
   "source": [
    "sigma_tip_ = sp.Matrix([[sigma_x_val[0], tau_xy],\n",
    "                       [tau_xy, 0]])\n",
    "sigma_tip_"
   ]
  },
  {
   "cell_type": "code",
   "execution_count": null,
   "metadata": {},
   "outputs": [],
   "source": [
    "sigma_rot_check = R_theta.T * sigma_tip_ * R_theta\n",
    "sp.simplify(sigma_rot_check)"
   ]
  },
  {
   "cell_type": "markdown",
   "metadata": {},
   "source": [
    "<img src=\"fig/westergaard_functions.png\" width=\"1000\"/>"
   ]
  },
  {
   "cell_type": "code",
   "execution_count": null,
   "metadata": {},
   "outputs": [],
   "source": []
  }
 ],
 "metadata": {
  "kernelspec": {
   "display_name": "Python 3",
   "language": "python",
   "name": "python3"
  },
  "language_info": {
   "codemirror_mode": {
    "name": "ipython",
    "version": 3
   },
   "file_extension": ".py",
   "mimetype": "text/x-python",
   "name": "python",
   "nbconvert_exporter": "python",
   "pygments_lexer": "ipython3"
  },
  "toc": {
   "base_numbering": 1,
   "nav_menu": {},
   "number_sections": true,
   "sideBar": true,
   "skip_h1_title": false,
   "title_cell": "Table of Contents",
   "title_sidebar": "Contents",
   "toc_cell": false,
   "toc_position": {},
   "toc_section_display": true,
   "toc_window_display": false
  }
 },
 "nbformat": 4,
 "nbformat_minor": 4
}
