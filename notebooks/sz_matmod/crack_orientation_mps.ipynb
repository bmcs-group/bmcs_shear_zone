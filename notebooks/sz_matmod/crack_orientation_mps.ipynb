{
 "cells": [
  {
   "cell_type": "code",
   "execution_count": null,
   "metadata": {},
   "outputs": [],
   "source": [
    "%matplotlib widget\n",
    "# Documentation needed for ipyml - notifications on push from github\n",
    "\n",
    "from bmcs_utils.api import InteractiveModel, InteractiveWindow, Item, View\n",
    "from bmcs_beam.models.moment_curvature.moment_curvature_ import MomentCurvature\n",
    "\n",
    "import numpy as np\n",
    "import sympy as sp\n",
    "import traits.api as tr\n",
    "import matplotlib.pylab as plt\n",
    "\n",
    "from matplotlib.path import Path\n",
    "import matplotlib.patches as mpatches\n",
    "from matplotlib.patches import PathPatch\n",
    "import ipywidgets as widgets\n",
    "\n",
    "from scipy.integrate import cumtrapz\n",
    "sp.init_printing()\n",
    "\n",
    "from scipy.signal import find_peaks\n",
    "from sympy.physics.continuum_mechanics.beam import Beam\n",
    "# https://docs.sympy.org/latest/modules/physics/continuum_mechanics/beam_problems.html\n"
   ]
  },
  {
   "cell_type": "markdown",
   "metadata": {},
   "source": [
    "The external stresses at a point in the finite element and along the crack are shown in  figure and the far field stress profile at a point in a finite element is represented in equation.\n",
    "\\begin{align}\n",
    "{\\sigma}_{ij} = \n",
    "\\left[\n",
    "\\begin{array}{cc}\n",
    "\\sigma_{x} & \\tau^\\mathrm{tip} \\\\\n",
    "\\tau^\\mathrm{tip} & \\sigma_{z}\n",
    "\\end{array}\n",
    "\\right]\n",
    "\\label{eq:sigmaxz}\n",
    "\\end{align}\n",
    "Here, $\\sigma_x$ represents the far field stress that can be assumed to be equivalent to the normalized applied load. Therefore, for a three point bend beam it is taken as:\n",
    "\\begin{equation}\n",
    "\\sigma_x = \\frac{P s}{b^2}\n",
    "\\end{equation}\n",
    "where $P, s, b$ represents the load, span and breadth of the beam respectively. Furthermore, $\\sigma_z$ is considered to be zero in this simulation whereas $\\tau^\\mathrm{tip}$ can be obtained from the shear profile of the section. Hence:\n",
    "\\begin{align}\n",
    "{\\sigma}_{ij} = \n",
    "\\left[\n",
    "\\begin{array}{cc}\n",
    "\\frac{P s}{b^2} & \\tau^\\mathrm{tip} \\\\\n",
    "\\tau^\\mathrm{tip} & 0\n",
    "\\end{array}\n",
    "\\right]\n",
    "\\label{eq:sigmaij}\n",
    "\\end{align}"
   ]
  },
  {
   "cell_type": "markdown",
   "metadata": {},
   "source": [
    "<img src=\"fig/crack_model.png\" width=\"800\"/>"
   ]
  },
  {
   "cell_type": "markdown",
   "metadata": {},
   "source": [
    "Figure shows cohesive crack model with mode I and boundary conditions acting along center line i.e. zero stress on the notch, softening equation on the cohesive zone whereas zero opening along the uncracked ligament and zero stress intensity factor at the cohesive zone front."
   ]
  },
  {
   "cell_type": "code",
   "execution_count": null,
   "metadata": {},
   "outputs": [],
   "source": [
    "class FarFieldStress(InteractiveModel):\n",
    "    \n",
    "    name = 'FarFieldStress'\n",
    "   \n",
    "    P = tr.Int(5000)\n",
    "    s = tr.Int(600)\n",
    "    b = tr.Int(200)\n",
    "    tau_tip = tr.Int(10)\n",
    "    #ipw_view = View(\n",
    "    #    Item('P', latex='P \\mathrm{[N]}', minmax=(1000,10000)),\n",
    "    #    Item('s', latex='s \\mathrm{[mm]}', minmax=(100,1000)),\n",
    "    #    Item('b', latex='b \\mathrm{[mm]}', minmax=(100,500))\n",
    "    #)\n",
    "    def __init__(self,P,s,b):\n",
    "        self.P = P\n",
    "        self.s = s\n",
    "        self.b = b\n",
    "        \n",
    "    def get_sigma_ij(self):\n",
    "        sigma_x = (self.P * self.s) / (self.b**2)\n",
    "        tau_tip = self.tau_tip\n",
    "        sigma_ij = np.matrix([[sigma_x, tau_tip], [tau_tip, 0]])\n",
    "        return sigma_ij\n",
    "    "
   ]
  },
  {
   "cell_type": "code",
   "execution_count": null,
   "metadata": {},
   "outputs": [],
   "source": [
    "f = FarFieldStress(1,10,1)\n",
    "print(f.get_sigma_ij())"
   ]
  },
  {
   "cell_type": "code",
   "execution_count": null,
   "metadata": {},
   "outputs": [],
   "source": [
    "f = FarFieldStress(1,10,1)\n",
    "class SIF(InteractiveModel):\n",
    "    \n",
    "    name = 'SIF'\n",
    "    \n",
    "    beta = tr.Int(0)\n",
    "    a = tr.Int(1)\n",
    "    def get_sif_K_I(self):\n",
    "        R_beta_kl = np.matrix([[np.cos(self.beta), - np.sin(self.beta)], [np.sin(self.beta), np.cos(self.beta)]])\n",
    "        sigma_beta_kl = R_beta_kl.T * f.get_sigma_ij() * R_beta_kl \n",
    "        K_I = np.sqrt(np.pi * self.a) * sigma_beta_kl[0,0]\n",
    "        K_II = np.sqrt(np.pi * self.a) * sigma_beta_kl[1,0]\n",
    "        return K_I\n",
    "    \n",
    "    def get_sif_K_II(self):\n",
    "        R_beta_kl = np.matrix([[np.cos(self.beta), - np.sin(self.beta)], [np.sin(self.beta), np.cos(self.beta)]])\n",
    "        sigma_beta_kl = R_beta_kl.T * f.get_sigma_ij() * R_beta_kl \n",
    "        K_II = np.sqrt(np.pi * self.a) * sigma_beta_kl[1,0]\n",
    "        return K_II"
   ]
  },
  {
   "cell_type": "code",
   "execution_count": null,
   "metadata": {},
   "outputs": [],
   "source": [
    "s = SIF()\n",
    "print(s.get_sif_K_I())"
   ]
  },
  {
   "cell_type": "code",
   "execution_count": null,
   "metadata": {},
   "outputs": [],
   "source": [
    "f = FarFieldStress(1,10,1)\n",
    "s = SIF()\n",
    "class CrackOrientationAngle:\n",
    "    \n",
    "    name = 'CrackOrientationAngle'\n",
    "    \n",
    "    def get_crack_angle(self):\n",
    "        \n",
    "        theta = sp.Symbol(r'\\theta', real = True)\n",
    "        c_t = sp.Symbol('c_t')\n",
    "        s_t = sp.Symbol('c_t')\n",
    "        s_3t = 3 * s_t - 4 * s_t**3\n",
    "        c_3t = 4 * c_t**3 - 3 * c_t\n",
    "    \n",
    "        S_I_11 = 2 * c_t - c_t * (1 + s_t * s_3t)\n",
    "        S_I_22 = c_t * (1 + s_t * s_3t)\n",
    "        S_I_12 = c_t * s_t * c_3t\n",
    "        S_I = sp.Matrix([[S_I_11, S_I_12],[S_I_12, S_I_22]])\n",
    "        S_I_ = sp.simplify(S_I)\n",
    "\n",
    "        S_II_11 = - 2 * s_t - s_t * c_t * c_3t\n",
    "        S_II_22 = s_t * c_t * c_3t\n",
    "        S_II_12 = c_t * (1 - s_t * s_3t)\n",
    "        S_II = sp.Matrix([[S_II_11, S_II_12],[S_II_12, S_II_22]])\n",
    "        S_II_ = sp.simplify(S_II)\n",
    "\n",
    "        c_t_h = sp.sqrt((1 + c_t)/2)\n",
    "        s_t_h = sp.sqrt((1 - c_t)/2)\n",
    "\n",
    "        sigma_tip_ij = sp.Matrix([[s.get_sif_K_I() * S_I_[0,0] + s.get_sif_K_II() * S_II_[0,0], \\\n",
    "                                   s.get_sif_K_I() * S_I_[0,1] + s.get_sif_K_II() * S_II_[0,1]],\n",
    "                   [s.get_sif_K_I() * S_I_[0,1] + s.get_sif_K_II() * S_II_[0,1], \\\n",
    "                    s.get_sif_K_I() * S_I_[1,1] + s.get_sif_K_II() * S_II_[1,1]]])\n",
    "        cs_theta = sp.Matrix([c_t, s_t])\n",
    "        R_theta_kl = sp.Matrix([[cs_theta[0], -cs_theta[1]],[cs_theta[1], cs_theta[0]]])\n",
    "\n",
    "        sig_tip_theta_ij = R_theta_kl.T * sigma_tip_ij * R_theta_kl\n",
    "        #sig_tip_theta_ij_ = sp.simplify(sig_tip_theta_ij)\n",
    "        s_t_ = sp.sqrt(1 - c_t**2)\n",
    "        sig_tip_theta_ij_sub = sig_tip_theta_ij.subs(s_t, s_t_)\n",
    "        #sig_tip_theta_ij_sim = sp.simplify(sig_tip_theta_ij_sub)\n",
    "        sig_tip_kl = sig_tip_theta_ij_sub.subs(sp.cos(theta), c_t)\n",
    "        cos_theta_ = sp.solve(sig_tip_kl[1,0], c_t)\n",
    "        print(sig_tip_theta_ij_sub)\n",
    "        theta_ = sp.acos(cos_theta_)\n",
    "        return theta_\n",
    "    "
   ]
  },
  {
   "cell_type": "code",
   "execution_count": null,
   "metadata": {},
   "outputs": [],
   "source": [
    "co = CrackOrientationAngle()\n",
    "print(co.get_crack_angle())"
   ]
  },
  {
   "cell_type": "code",
   "execution_count": null,
   "metadata": {},
   "outputs": [],
   "source": [
    "print(c.get_crack_angle())"
   ]
  },
  {
   "cell_type": "code",
   "execution_count": null,
   "metadata": {},
   "outputs": [],
   "source": [
    "windows = InteractiveWindow([FarFieldStress()])\n",
    "windows.interact()"
   ]
  },
  {
   "cell_type": "code",
   "execution_count": null,
   "metadata": {},
   "outputs": [],
   "source": []
  }
 ],
 "metadata": {
  "kernelspec": {
   "display_name": "Python 3",
   "language": "python",
   "name": "python3"
  },
  "language_info": {
   "codemirror_mode": {
    "name": "ipython",
    "version": 3
   },
   "file_extension": ".py",
   "mimetype": "text/x-python",
   "name": "python",
   "nbconvert_exporter": "python",
   "pygments_lexer": "ipython3"
  },
  "toc": {
   "base_numbering": 1,
   "nav_menu": {},
   "number_sections": true,
   "sideBar": true,
   "skip_h1_title": false,
   "title_cell": "Table of Contents",
   "title_sidebar": "Contents",
   "toc_cell": false,
   "toc_position": {},
   "toc_section_display": true,
   "toc_window_display": false
  }
 },
 "nbformat": 4,
 "nbformat_minor": 4
}
