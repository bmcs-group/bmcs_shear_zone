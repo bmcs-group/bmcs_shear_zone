{
 "cells": [
  {
   "cell_type": "markdown",
   "metadata": {},
   "source": [
    "# Aggregate Interlock"
   ]
  },
  {
   "cell_type": "code",
   "execution_count": 1,
   "metadata": {},
   "outputs": [],
   "source": [
    "import sympy as sp\n",
    "import numpy as np\n",
    "import matplotlib.pylab as plt\n",
    "sp.init_printing()"
   ]
  },
  {
   "cell_type": "markdown",
   "metadata": {},
   "source": [
    "## Walraven's Approach\n",
    "By using regression analysis, simplified equations fitting the experimental results have been derived by Walraven. The curves of aggregate interloack which mostly fit the experimental curves are:\n",
    "\\begin{equation}\n",
    "\\tau_{ai} = -\\frac{f_{c}}{30} + \\left( 1.8 w^{-0.8} + (0.234 w^{-0.707} - 0.2) f_{c}\\right) \\delta \\geq 0 \\\\ \n",
    "\\sigma_{ai} = -\\frac{f_{c}}{20} + \\left( 1.35 w^{-0.63} + (0.191 w^{-0.552} - 0.15) f_{c}\\right) \\delta \\geq 0\n",
    "\\end{equation}"
   ]
  },
  {
   "cell_type": "code",
   "execution_count": 2,
   "metadata": {},
   "outputs": [],
   "source": [
    "f_ct =sp.Symbol('f_ct', nonnegative = True)\n",
    "w = sp.Symbol('w', nonnegative = True)\n",
    "delta = sp.Symbol(r'\\delta', nonnegative = True)"
   ]
  },
  {
   "cell_type": "code",
   "execution_count": 3,
   "metadata": {},
   "outputs": [
    {
     "data": {
      "image/png": "[encoded data removed]",
      "text/latex": [
       "$\\displaystyle \\delta \\left(f_{ct} \\left(\\frac{0.234}{w^{0.707}} - 0.2\\right) + \\frac{1.8}{w^{0.8}}\\right) - \\frac{f_{ct}}{30}$"
      ],
      "text/plain": [
       "       ⎛     ⎛       -0.707      ⎞        -0.8⎞   f_ct\n",
       "\\delta⋅⎝f_ct⋅⎝0.234⋅w       - 0.2⎠ + 1.8⋅w    ⎠ - ────\n",
       "                                                   30 "
      ]
     },
     "execution_count": 3,
     "metadata": {},
     "output_type": "execute_result"
    }
   ],
   "source": [
    "tau_ai = - f_ct/30 + (1.8*w**(-0.8) +(0.234*w**(-0.707) - 0.2) * f_ct)*delta\n",
    "tau_ai"
   ]
  },
  {
   "cell_type": "code",
   "execution_count": 4,
   "metadata": {},
   "outputs": [
    {
     "data": {
      "image/png": "[encoded data removed]",
      "text/latex": [
       "$\\displaystyle \\delta \\left(f_{ct} \\left(\\frac{0.191}{w^{0.552}} - 0.15\\right) + \\frac{1.35}{w^{0.63}}\\right) - \\frac{f_{ct}}{20}$"
      ],
      "text/plain": [
       "       ⎛     ⎛       -0.552       ⎞         -0.63⎞   f_ct\n",
       "\\delta⋅⎝f_ct⋅⎝0.191⋅w       - 0.15⎠ + 1.35⋅w     ⎠ - ────\n",
       "                                                      20 "
      ]
     },
     "execution_count": 4,
     "metadata": {},
     "output_type": "execute_result"
    }
   ],
   "source": [
    "sigma_ai = - f_ct/20 + (1.35*w**(-0.63) +(0.191*w**(-0.552) - 0.15) * f_ct)*delta\n",
    "sigma_ai"
   ]
  },
  {
   "cell_type": "code",
   "execution_count": 5,
   "metadata": {},
   "outputs": [
    {
     "data": {
      "text/plain": [
       "<function _lambdifygenerated(w, Dummy_22)>"
      ]
     },
     "execution_count": 5,
     "metadata": {},
     "output_type": "execute_result"
    }
   ],
   "source": [
    "f_ct_ = 35\n",
    "get_sigma_ai = sp.lambdify((w, delta), sigma_ai.subs(f_ct, f_ct_), 'numpy')\n",
    "get_sigma_ai"
   ]
  },
  {
   "cell_type": "code",
   "execution_count": 6,
   "metadata": {},
   "outputs": [
    {
     "data": {
      "text/plain": [
       "<function _lambdifygenerated(w, Dummy_23)>"
      ]
     },
     "execution_count": 6,
     "metadata": {},
     "output_type": "execute_result"
    }
   ],
   "source": [
    "get_tau_ai = sp.lambdify((w, delta), tau_ai.subs(f_ct, f_ct_), 'numpy')\n",
    "get_tau_ai"
   ]
  },
  {
   "cell_type": "markdown",
   "metadata": {},
   "source": [
    "## Plotting $\\tau$"
   ]
  },
  {
   "cell_type": "code",
   "execution_count": 9,
   "metadata": {},
   "outputs": [
    {
     "name": "stderr",
     "output_type": "stream",
     "text": [
      "<lambdifygenerated-2>:2: RuntimeWarning: invalid value encountered in double_scalars\n",
      "  return (Dummy_23*(1.8*w**(-0.8) + 8.19*w**(-0.707) - 7.0) - 7/6)\n",
      "<lambdifygenerated-2>:2: RuntimeWarning: divide by zero encountered in double_scalars\n",
      "  return (Dummy_23*(1.8*w**(-0.8) + 8.19*w**(-0.707) - 7.0) - 7/6)\n"
     ]
    }
   ],
   "source": [
    "w_ = np.linspace(-1, 1, 3)\n",
    "tau_ai = np.zeros((100,3))\n",
    "for i, w in enumerate(w_):\n",
    "    delta_ = np.linspace(0, 2, 100)\n",
    "    for j, delta in enumerate(delta_):\n",
    "        tau_ai[j,i] = get_tau_ai(w, delta)\n",
    "#print(tau_ai);"
   ]
  },
  {
   "cell_type": "code",
   "execution_count": 10,
   "metadata": {},
   "outputs": [
    {
     "data": {
      "text/plain": [
       "<matplotlib.legend.Legend at 0x207c2169d60>"
      ]
     },
     "execution_count": 10,
     "metadata": {},
     "output_type": "execute_result"
    },
    {
     "data": {
      "image/png": "[encoded data removed]",
      "text/plain": [
       "<Figure size 576x288 with 1 Axes>"
      ]
     },
     "metadata": {
      "needs_background": "light"
     },
     "output_type": "display_data"
    }
   ],
   "source": [
    "_, (ax1) = plt.subplots(1, 1, figsize=(8,4))\n",
    "ax1.plot(delta_, tau_ai[:,0], color='blue', lw=2, label = (r'$w = 0.1$'))\n",
    "ax1.plot(delta_, tau_ai[:,1], color='black', lw=2, label = (r'$w = 0.5$'))\n",
    "ax1.plot(delta_, tau_ai[:,2], color='green', lw=2, label = (r'$w = 1$'))\n",
    "ax1.set_xlabel(r'$\\delta_k$'); ax1.set_ylabel(r'$\\tau_{ai}$')\n",
    "ax1.legend()"
   ]
  },
  {
   "cell_type": "markdown",
   "metadata": {},
   "source": [
    "## Plotting $\\sigma$"
   ]
  },
  {
   "cell_type": "code",
   "execution_count": null,
   "metadata": {},
   "outputs": [],
   "source": [
    "w_ = np.linspace(0.1, 1, 3)\n",
    "sigma_ai = np.zeros((100,3))\n",
    "for i, w in enumerate(w_):\n",
    "    delta_ = np.linspace(0.1, 2, 100)\n",
    "    for j, delta in enumerate(delta_):\n",
    "        sigma_ai[j,i] = get_sigma_ai(w, delta)\n",
    "#print(sigma_ai);"
   ]
  },
  {
   "cell_type": "code",
   "execution_count": null,
   "metadata": {},
   "outputs": [],
   "source": [
    "_, (ax1) = plt.subplots(1, 1, figsize=(8,4))\n",
    "ax1.plot(delta_, sigma_ai[:,0], color='blue', lw=2, label = (r'$w = 0.1 $'))\n",
    "ax1.plot(delta_, sigma_ai[:,1], color='black', lw=2, label = (r'$w = 0.5$'))\n",
    "ax1.plot(delta_, sigma_ai[:,2], color='green', lw=2, label = (r'$w = 1$'))\n",
    "ax1.set_xlabel(r'$\\delta_k$'); ax1.set_ylabel(r'$\\sigma_{ai}$')\n",
    "ax1.legend()"
   ]
  },
  {
   "cell_type": "markdown",
   "metadata": {},
   "source": [
    "## Bazant's Approach refined by Gambarova\n",
    "The Rough Crack Model proposed by Bazant was later refined by Gambarova in which he modified the relationship between normal stresses $\\sigma_{ag}$ and crack kinematics (w and s). He further stated that the aggregate size $d_g$ plays a greater role in transferring shear. The stress can be transferred according to the following equations:\n",
    "\\begin{equation}\n",
    "\\sigma_{ag} = -0.62 \\sqrt{w} \\frac{r}{(1 + r^2)^{0.25}} \\tau_{ag} \\\\\n",
    "\\tau_{ag} = \\tau_0 \\left( 1 - \\sqrt{\\frac{2 w}{d_g}}\\right) r \\frac{a_3 + a_4 \\|r\\|^3}{1 + a_4 r^4}\n",
    "\\end{equation}\n",
    "where,\n",
    "\\begin{equation}\n",
    "r = \\frac{s}{w} \\\\\n",
    "\\tau_0 = 0.25 f_c \\\\\n",
    "a_3 = \\frac{2.45}{\\tau_0} \\\\\n",
    "a_4 = 2.44 \\left( 1 - \\frac{4}{\\tau_0}\\right)\n",
    "\\end{equation}"
   ]
  },
  {
   "cell_type": "code",
   "execution_count": null,
   "metadata": {},
   "outputs": [],
   "source": [
    "w = sp.Symbol('w', nonnegative = True)\n",
    "s = sp.Symbol('s', nonnegative = True)\n",
    "f_c = sp.Symbol('f_c', nonnegative = True)\n",
    "d_g  = sp.Symbol('d_g', nonnegative = True)"
   ]
  },
  {
   "cell_type": "code",
   "execution_count": null,
   "metadata": {},
   "outputs": [],
   "source": [
    "r = s/w\n",
    "r"
   ]
  },
  {
   "cell_type": "code",
   "execution_count": null,
   "metadata": {},
   "outputs": [],
   "source": [
    "tau_0 = 0.25 * f_c\n",
    "tau_0"
   ]
  },
  {
   "cell_type": "code",
   "execution_count": null,
   "metadata": {},
   "outputs": [],
   "source": [
    "a_3  =  2.45/tau_0\n",
    "a_3"
   ]
  },
  {
   "cell_type": "code",
   "execution_count": null,
   "metadata": {},
   "outputs": [],
   "source": [
    "a_4  = 2.44 * (1 - (4/tau_0))\n",
    "a_4"
   ]
  },
  {
   "cell_type": "code",
   "execution_count": null,
   "metadata": {},
   "outputs": [],
   "source": [
    "#r = sp.Symbol('r', nonnegative = True)\n",
    "#a_3 = sp.Symbol('a_3', nonnegative = True)\n",
    "#a_4 = sp.Symbol('a_4',nonnegative = True)\n",
    "#tau_0 = sp.Symbol(r'\\tau_0',nonnegative = True)\n",
    "tau_ag = tau_0 * (1 - sp.sqrt((2 * w)/d_g)) * r * (a_3 + (a_4 * sp.Abs(r)**3)) / (1 + (a_4 *r**4))\n",
    "tau_ag"
   ]
  },
  {
   "cell_type": "code",
   "execution_count": null,
   "metadata": {},
   "outputs": [],
   "source": [
    "sigma_ag = -0.62 * sp.sqrt(w) * (r)/(1 + r**2)**0.25 * tau_ag\n",
    "sigma_ag"
   ]
  },
  {
   "cell_type": "code",
   "execution_count": null,
   "metadata": {},
   "outputs": [],
   "source": [
    "params = {\n",
    "    f_c : 35,\n",
    "    d_g : 22\n",
    "}"
   ]
  },
  {
   "cell_type": "code",
   "execution_count": null,
   "metadata": {},
   "outputs": [],
   "source": [
    "get_tau_ag = sp.lambdify((w, s), tau_ag.subs(params), 'numpy')\n",
    "tau_ag.subs(params)"
   ]
  },
  {
   "cell_type": "code",
   "execution_count": null,
   "metadata": {},
   "outputs": [],
   "source": [
    "get_sigma_ag = sp.lambdify((w, s), sigma_ag.subs(params), 'numpy')\n",
    "get_sigma_ag"
   ]
  },
  {
   "cell_type": "markdown",
   "metadata": {},
   "source": [
    "## Plotting $\\tau$"
   ]
  },
  {
   "cell_type": "code",
   "execution_count": null,
   "metadata": {},
   "outputs": [],
   "source": [
    "w_ = np.linspace(0.1, 1, 3)\n",
    "tau_ag = np.zeros((100,3))\n",
    "for i, w in enumerate(w_):\n",
    "    s_ = np.linspace(0, 2, 100)\n",
    "    for j, s in enumerate(s_):\n",
    "        tau_ag[j,i] = get_tau_ag(w, s)\n",
    "#print(tau_ag);"
   ]
  },
  {
   "cell_type": "code",
   "execution_count": null,
   "metadata": {},
   "outputs": [],
   "source": [
    "_, (ax1) = plt.subplots(1, 1, figsize=(8,4))\n",
    "ax1.plot(s_, tau_ag[:,0], color='blue', lw=2, label = (r'$w = 0.1$'))\n",
    "ax1.plot(s_, tau_ag[:,1], color='black', lw=2, label = (r'$w = 0.5$'))\n",
    "ax1.plot(s_, tau_ag[:,2], color='green', lw=2, label = (r'$w = 1$'))\n",
    "ax1.set_xlabel(r'$s$'); ax1.set_ylabel(r'$\\tau_{ag}$')\n",
    "ax1.legend()"
   ]
  },
  {
   "cell_type": "markdown",
   "metadata": {},
   "source": [
    "## Plotting $\\sigma$"
   ]
  },
  {
   "cell_type": "code",
   "execution_count": null,
   "metadata": {},
   "outputs": [],
   "source": [
    "w_ = np.linspace(0.1, 1, 3)\n",
    "sigma_ag = np.zeros((100,3))\n",
    "for i, w in enumerate(w_):\n",
    "    s_ = np.linspace(0, 2, 100)\n",
    "    for j, s in enumerate(s_):\n",
    "        sigma_ag[j,i] = get_sigma_ag(w, s)\n",
    "#print(sigma_ag)"
   ]
  },
  {
   "cell_type": "code",
   "execution_count": null,
   "metadata": {},
   "outputs": [],
   "source": [
    "_, (ax1) = plt.subplots(1, 1, figsize=(8,4))\n",
    "ax1.plot(s_, sigma_ag[:,0], color='blue', lw=2, label = (r'$w = 0.1$'))\n",
    "ax1.plot(s_, sigma_ag[:,1], color='black', lw=2, label = (r'$w = 0.5$'))\n",
    "ax1.plot(s_, sigma_ag[:,2], color='green', lw=2, label = (r'$w = 1$'))\n",
    "ax1.set_xlabel(r'$s$'); ax1.set_ylabel(r'$\\sigma_{ag}$')\n",
    "ax1.legend()"
   ]
  },
  {
   "cell_type": "code",
   "execution_count": null,
   "metadata": {},
   "outputs": [],
   "source": []
  }
 ],
 "metadata": {
  "kernelspec": {
   "display_name": "Python 3",
   "language": "python",
   "name": "python3"
  },
  "language_info": {
   "codemirror_mode": {
    "name": "ipython",
    "version": 3
   },
   "file_extension": ".py",
   "mimetype": "text/x-python",
   "name": "python",
   "nbconvert_exporter": "python",
   "pygments_lexer": "ipython3",
   "version": "3.9.0"
  },
  "toc": {
   "base_numbering": 1,
   "nav_menu": {},
   "number_sections": true,
   "sideBar": true,
   "skip_h1_title": false,
   "title_cell": "Table of Contents",
   "title_sidebar": "Contents",
   "toc_cell": false,
   "toc_position": {},
   "toc_section_display": true,
   "toc_window_display": false
  }
 },
 "nbformat": 4,
 "nbformat_minor": 4
}
