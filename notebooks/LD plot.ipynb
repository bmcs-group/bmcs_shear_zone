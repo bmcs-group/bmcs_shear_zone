{
 "cells": [
  {
   "cell_type": "code",
   "execution_count": 31,
   "metadata": {},
   "outputs": [],
   "source": [
    "import numpy as np\n",
    "import pandas as pd\n",
    "import matplotlib.pyplot as plt"
   ]
  },
  {
   "cell_type": "code",
   "execution_count": 32,
   "metadata": {},
   "outputs": [
    {
     "data": {
      "text/plain": [
       "(       0,00165\n",
       " 0      0.00153\n",
       " 1      0.00150\n",
       " 2      0.00224\n",
       " 3      0.00252\n",
       " 4      0.00248\n",
       " ...        ...\n",
       " 43258  5.39000\n",
       " 43259  5.39000\n",
       " 43260  5.39000\n",
       " 43261  5.39000\n",
       " 43262  5.39000\n",
       " \n",
       " [43263 rows x 1 columns],\n",
       "         0,2339\n",
       " 0       0.2344\n",
       " 1       0.2344\n",
       " 2       0.2343\n",
       " 3       0.2342\n",
       " 4       0.2309\n",
       " ...        ...\n",
       " 43258  72.1400\n",
       " 43259  72.1400\n",
       " 43260  72.1400\n",
       " 43261  72.1400\n",
       " 43262  72.1400\n",
       " \n",
       " [43263 rows x 1 columns])"
      ]
     },
     "execution_count": 32,
     "metadata": {},
     "output_type": "execute_result"
    }
   ],
   "source": [
    "df = pd.read_csv(r\"C:\\Users\\Fahad\\Downloads\\DeflectionB6.txt\", sep = None, delimiter=\";\", decimal=\",\")\n",
    "#df1 = df.to_csv(\"test2.csv\", sep=',', encoding='utf-8', quotechar='\"', decimal='.')\n",
    "Load = pd.read_csv(r\"C:\\Users\\Fahad\\Downloads\\Load B6.txt\", delimiter=\";\", decimal=\",\")\n",
    "df, Load"
   ]
  },
  {
   "cell_type": "code",
   "execution_count": 33,
   "metadata": {},
   "outputs": [
    {
     "data": {
      "text/plain": [
       "(array([[1.53e-03],\n",
       "        [1.50e-03],\n",
       "        [2.24e-03],\n",
       "        ...,\n",
       "        [5.39e+00],\n",
       "        [5.39e+00],\n",
       "        [5.39e+00]]),\n",
       " array([[ 0.2344],\n",
       "        [ 0.2344],\n",
       "        [ 0.2343],\n",
       "        ...,\n",
       "        [72.14  ],\n",
       "        [72.14  ],\n",
       "        [72.14  ]]))"
      ]
     },
     "execution_count": 33,
     "metadata": {},
     "output_type": "execute_result"
    }
   ],
   "source": [
    "deflection = np.array(df)\n",
    "Load_val = np.array(Load)\n",
    "deflection, Load_val"
   ]
  },
  {
   "cell_type": "code",
   "execution_count": 39,
   "metadata": {},
   "outputs": [
    {
     "data": {
      "image/png": "[encoded data removed]",
      "text/plain": [
       "<Figure size 792x288 with 1 Axes>"
      ]
     },
     "metadata": {
      "needs_background": "light"
     },
     "output_type": "display_data"
    }
   ],
   "source": [
    "import matplotlib.pylab as plt\n",
    "_, ax1 = plt.subplots(1, 1, figsize=(11,4))\n",
    "\n",
    "ax1.plot(deflection, Load, color = 'black')\n",
    "plt.savefig(\"D:\\\\Shear zones\\drawings\\Load_def_B6.pdf\")"
   ]
  },
  {
   "cell_type": "code",
   "execution_count": null,
   "metadata": {},
   "outputs": [],
   "source": []
  }
 ],
 "metadata": {
  "kernelspec": {
   "display_name": "Python 3",
   "language": "python",
   "name": "python3"
  },
  "language_info": {
   "codemirror_mode": {
    "name": "ipython",
    "version": 3
   },
   "file_extension": ".py",
   "mimetype": "text/x-python",
   "name": "python",
   "nbconvert_exporter": "python",
   "pygments_lexer": "ipython3",
   "version": "3.9.1"
  }
 },
 "nbformat": 4,
 "nbformat_minor": 4
}
