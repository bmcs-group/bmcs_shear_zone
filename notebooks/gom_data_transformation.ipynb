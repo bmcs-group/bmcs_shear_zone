{
 "cells": [
  {
   "cell_type": "markdown",
   "metadata": {},
   "source": [
    "# DIC - shear zone field analysis"
   ]
  },
  {
   "cell_type": "code",
   "execution_count": 1,
   "metadata": {},
   "outputs": [],
   "source": [
    "%matplotlib widget"
   ]
  },
  {
   "cell_type": "code",
   "execution_count": 2,
   "metadata": {},
   "outputs": [],
   "source": [
    "import matplotlib as plt\n",
    "import numpy as np\n",
    "import os"
   ]
  },
  {
   "cell_type": "markdown",
   "metadata": {},
   "source": [
    "# System independent file management"
   ]
  },
  {
   "cell_type": "code",
   "execution_count": 3,
   "metadata": {},
   "outputs": [],
   "source": [
    "from os.path import expanduser, join"
   ]
  },
  {
   "cell_type": "markdown",
   "metadata": {},
   "source": [
    "Get the user directlry and locate the data relative to it"
   ]
  },
  {
   "cell_type": "code",
   "execution_count": 4,
   "metadata": {},
   "outputs": [
    {
     "data": {
      "text/plain": [
       "'/home/rch/simdb/data/shear_zone/example_01'"
      ]
     },
     "execution_count": 4,
     "metadata": {},
     "output_type": "execute_result"
    }
   ],
   "source": [
    "home_dir = expanduser('~')\n",
    "data_dir = join(home_dir,'simdb','data','shear_zone','example_01')\n",
    "data_dir"
   ]
  },
  {
   "cell_type": "markdown",
   "metadata": {},
   "source": [
    "Get the list of files within the directory and sort them alphabetically"
   ]
  },
  {
   "cell_type": "code",
   "execution_count": 5,
   "metadata": {},
   "outputs": [
    {
     "data": {
      "text/plain": [
       "['/home/rch/simdb/data/shear_zone/example_01/Load_000_KN.csv',\n",
       " '/home/rch/simdb/data/shear_zone/example_01/Load_050_KN.csv',\n",
       " '/home/rch/simdb/data/shear_zone/example_01/Load_103_KN.csv',\n",
       " '/home/rch/simdb/data/shear_zone/example_01/Load_150_KN.csv',\n",
       " '/home/rch/simdb/data/shear_zone/example_01/Load_191_KN.csv']"
      ]
     },
     "execution_count": 5,
     "metadata": {},
     "output_type": "execute_result"
    }
   ],
   "source": [
    "results = [join(data_dir,each) \n",
    "           for each in sorted(os.listdir(data_dir)) \n",
    "           if each.endswith('.csv')]\n",
    "results"
   ]
  },
  {
   "cell_type": "markdown",
   "metadata": {},
   "source": [
    "Verify - read a single file"
   ]
  },
  {
   "cell_type": "code",
   "execution_count": 6,
   "metadata": {},
   "outputs": [
    {
     "data": {
      "text/plain": [
       "array([[ 1.651,  1.651],\n",
       "       [-5.978, -5.978],\n",
       "       [ 1.653,  1.653],\n",
       "       ...,\n",
       "       [-5.866, -5.866],\n",
       "       [-0.801, -0.801],\n",
       "       [-9.623, -9.623]])"
      ]
     },
     "execution_count": 6,
     "metadata": {},
     "output_type": "execute_result"
    }
   ],
   "source": [
    "np.loadtxt(results[4], dtype=float, \n",
    "            skiprows=1, delimiter=',', usecols=(4,7), unpack=False)"
   ]
  },
  {
   "cell_type": "markdown",
   "metadata": {},
   "source": [
    "# Read the displacements into a single two dimensional array\n",
    "\n",
    "Read all files as array using `loadtxt` and put them into a list, than make an array from the list, show the shape. Denote the dimensionality of the array using the index names, i.e. `u_te`, with `t` denoting the time index and `e` data entry index "
   ]
  },
  {
   "cell_type": "code",
   "execution_count": 7,
   "metadata": {},
   "outputs": [],
   "source": [
    "u_te = np.array([\n",
    "    np.loadtxt(csv_file, dtype=float,  \n",
    "               skiprows=1, delimiter=',', usecols=(4), unpack=False)\n",
    "    for csv_file in results\n",
    "], dtype=np.float_)\n",
    "u_te.shape\n",
    "u_te = np.hstack([u_te])"
   ]
  },
  {
   "cell_type": "markdown",
   "metadata": {},
   "source": [
    "Reshape the array such that the last two indexes are the x and y displacements, the array indexes are then\n",
    "`tpa`\n",
    "where `p` denotes the point index and `a` the dimensional index"
   ]
  },
  {
   "cell_type": "code",
   "execution_count": 8,
   "metadata": {},
   "outputs": [
    {
     "data": {
      "text/plain": [
       "(5, 863, 2)"
      ]
     },
     "execution_count": 8,
     "metadata": {},
     "output_type": "execute_result"
    }
   ],
   "source": [
    "n_t, n_e = u_te.shape # get the dimensions of the time and entry dimensions\n",
    "u_tpa = u_te.reshape(n_t,-1,2)\n",
    "u_tpa.shape"
   ]
  },
  {
   "cell_type": "code",
   "execution_count": 9,
   "metadata": {},
   "outputs": [
    {
     "data": {
      "text/plain": [
       "array([-5.978, -6.09 , -6.204, -6.325, -6.493, -6.668, -6.796, -6.927,\n",
       "       -7.059, -7.217, -7.388, -7.549, -7.697, -7.805, -7.918, -8.033,\n",
       "       -8.14 , -8.244, -8.345, -8.449, -8.702, -8.766, -8.835, -8.913,\n",
       "       -8.982, -9.057, -9.127, -9.199, -9.268, -9.381, -9.468, -9.549,\n",
       "       -9.617, -9.679])"
      ]
     },
     "execution_count": 9,
     "metadata": {},
     "output_type": "execute_result"
    }
   ],
   "source": [
    "u_tpa[-1,:34,1]"
   ]
  },
  {
   "cell_type": "code",
   "execution_count": 38,
   "metadata": {},
   "outputs": [
    {
     "data": {
      "text/plain": [
       "(5, 864, 2)"
      ]
     },
     "execution_count": 38,
     "metadata": {},
     "output_type": "execute_result"
    }
   ],
   "source": [
    "add_point_tpa=np.zeros((5,1,2))\n",
    "uu_tpa = np.concatenate([u_tpa, add_point_tpa],axis=1)\n",
    "uu_tpa.shape"
   ]
  },
  {
   "cell_type": "code",
   "execution_count": 39,
   "metadata": {},
   "outputs": [],
   "source": [
    "n_cols, n_rows = 36, 24"
   ]
  },
  {
   "cell_type": "code",
   "execution_count": 40,
   "metadata": {},
   "outputs": [
    {
     "data": {
      "text/plain": [
       "((5, 24, 36, 2), (5, 36, 24, 2))"
      ]
     },
     "execution_count": 40,
     "metadata": {},
     "output_type": "execute_result"
    }
   ],
   "source": [
    "u_tjia = uu_tpa.reshape(n_t,n_rows, n_cols,2)\n",
    "u_tija = np.einsum('tjia->tija', u_tjia)\n",
    "u_tjia.shape, u_tija.shape"
   ]
  },
  {
   "cell_type": "code",
   "execution_count": 41,
   "metadata": {},
   "outputs": [],
   "source": [
    "u1x_tija = u_tija[:,:-1,:,:]"
   ]
  },
  {
   "cell_type": "code",
   "execution_count": 42,
   "metadata": {},
   "outputs": [],
   "source": [
    "u1_tija = u1x_tija[:,::4,14:,:]"
   ]
  },
  {
   "cell_type": "code",
   "execution_count": 47,
   "metadata": {},
   "outputs": [
    {
     "data": {
      "text/plain": [
       "(9, 10)"
      ]
     },
     "execution_count": 47,
     "metadata": {},
     "output_type": "execute_result"
    }
   ],
   "source": [
    "u1_tija[-1,:,:,1].shape"
   ]
  },
  {
   "cell_type": "markdown",
   "metadata": {},
   "source": [
    "# Generate the grid of initial positions"
   ]
  },
  {
   "cell_type": "code",
   "execution_count": 44,
   "metadata": {},
   "outputs": [],
   "source": [
    "d_x, d_y = 14, 14"
   ]
  },
  {
   "cell_type": "code",
   "execution_count": 45,
   "metadata": {},
   "outputs": [],
   "source": [
    "_, n_c, n_r, _ = u1_tija.shape \n",
    "#n_c, n_r = n_cols-1, n_rows\n",
    "x_range = np.arange(n_c)[::-1] * d_x\n",
    "y_range = np.arange(n_r) * d_y\n",
    "y_ij, x_ij = np.meshgrid(y_range, x_range)"
   ]
  },
  {
   "cell_type": "code",
   "execution_count": 46,
   "metadata": {},
   "outputs": [
    {
     "data": {
      "text/plain": [
       "(9, 10, 2)"
      ]
     },
     "execution_count": 46,
     "metadata": {},
     "output_type": "execute_result"
    }
   ],
   "source": [
    "X_aij = np.array([x_ij, y_ij])\n",
    "X_ija = np.einsum('aij->ija', X_aij)\n",
    "X_ija.shape"
   ]
  },
  {
   "cell_type": "code",
   "execution_count": 48,
   "metadata": {},
   "outputs": [],
   "source": [
    "#X_ija"
   ]
  },
  {
   "cell_type": "markdown",
   "metadata": {},
   "source": [
    "# Convert to a FE mesh"
   ]
  },
  {
   "cell_type": "code",
   "execution_count": null,
   "metadata": {},
   "outputs": [],
   "source": []
  },
  {
   "cell_type": "markdown",
   "metadata": {},
   "source": [
    "# Evaluate a center of rotation from displacement data on a grid"
   ]
  },
  {
   "cell_type": "markdown",
   "metadata": {},
   "source": [
    "Calculate the difference between the origin and the displacement at time $t$"
   ]
  },
  {
   "cell_type": "markdown",
   "metadata": {},
   "source": [
    "$$\n",
    "\\Delta u_{tija} = u_{tija} - u_{0ija}\n",
    "$$"
   ]
  },
  {
   "cell_type": "markdown",
   "metadata": {},
   "source": [
    "Perpendicular vector to the movement of the point"
   ]
  },
  {
   "cell_type": "markdown",
   "metadata": {},
   "source": [
    "$$\n",
    "\\perp u_{aij} = [\\Delta u_{tij1}, -\\Delta u_{tij0}]\n",
    "$$"
   ]
  },
  {
   "cell_type": "code",
   "execution_count": 20,
   "metadata": {},
   "outputs": [
    {
     "data": {
      "text/plain": [
       "(5, 9, 10, 2)"
      ]
     },
     "execution_count": 20,
     "metadata": {},
     "output_type": "execute_result"
    }
   ],
   "source": [
    "u1_tija.shape"
   ]
  },
  {
   "cell_type": "code",
   "execution_count": 21,
   "metadata": {},
   "outputs": [
    {
     "data": {
      "text/plain": [
       "array([-0.38246667, -2.0172    ])"
      ]
     },
     "execution_count": 21,
     "metadata": {},
     "output_type": "execute_result"
    }
   ],
   "source": [
    "delta_u_ija = u1_tija[-1] - u1_tija[-2]\n",
    "#delta_u_ija = u1_tija[1] - u1_tija[0]\n",
    "avg_a = np.average(delta_u_ija, axis=(0,1))\n",
    "avg_a"
   ]
  },
  {
   "cell_type": "code",
   "execution_count": 22,
   "metadata": {},
   "outputs": [],
   "source": [
    "u_rot_ija = delta_u_ija - avg_a[np.newaxis,np.newaxis,:] "
   ]
  },
  {
   "cell_type": "code",
   "execution_count": 23,
   "metadata": {},
   "outputs": [],
   "source": [
    "rot_Xu_ija = X_ija + u_rot_ija * 100\n",
    "rot_vect_u_nija = np.array([X_ija, rot_Xu_ija])\n",
    "rot_vect_u_anij = np.einsum('nija->anij', rot_vect_u_nija)\n",
    "rot_vect_u_anp = rot_vect_u_anij.reshape(2,2,-1)"
   ]
  },
  {
   "cell_type": "code",
   "execution_count": 24,
   "metadata": {},
   "outputs": [],
   "source": [
    "#rot_vect_u_anp"
   ]
  },
  {
   "cell_type": "code",
   "execution_count": 25,
   "metadata": {},
   "outputs": [],
   "source": [
    "perp_u_aij = np.array([u_rot_ija[...,1], -u_rot_ija[...,0]])\n",
    "perp_u_ija = np.einsum('aij->ija', perp_u_aij)\n",
    "perp_Xu_ija = X_ija + perp_u_ija * 100\n",
    "perp_vect_u_nija = np.array([X_ija, perp_Xu_ija])\n",
    "perp_vect_u_anij = np.einsum('nija->anij', perp_vect_u_nija)\n",
    "perp_vect_u_anp = perp_vect_u_anij.reshape(2,2,-1)\n",
    "#perp_vect_u_anp"
   ]
  },
  {
   "cell_type": "code",
   "execution_count": 26,
   "metadata": {},
   "outputs": [
    {
     "data": {
      "application/vnd.jupyter.widget-view+json": {
       "model_id": "3727ef844c404c9baaf053c881ea065a",
       "version_major": 2,
       "version_minor": 0
      },
      "text/plain": [
       "Canvas(toolbar=Toolbar(toolitems=[('Home', 'Reset original view', 'home', 'home'), ('Back', 'Back to previous …"
      ]
     },
     "metadata": {},
     "output_type": "display_data"
    }
   ],
   "source": [
    "import matplotlib.pylab as plt\n",
    "fig, ax = plt.subplots(1,1)\n",
    "ax.plot(*rot_vect_u_anp,color='blue');\n",
    "ax.plot(*perp_vect_u_anp,color='green');\n",
    "ax.axis('equal');"
   ]
  },
  {
   "cell_type": "markdown",
   "metadata": {},
   "source": [
    "The point on the line can be expressed using a scalar $\\eta_{p}$ \n",
    "$$\n",
    "  x^{\\mathrm{CoR}}_{pa} = x_{pa} + \\eta_{p} (\\perp\\!u_{pa})\n",
    "$$"
   ]
  },
  {
   "cell_type": "markdown",
   "metadata": {},
   "source": [
    "\n",
    "$$\n",
    "R = \\sqrt{(x_{pa}^\\mathrm{CoR} - x_{qa}^\\mathrm{CoR}) (x_{pa}^\\mathrm{CoR} - x_{qa}^\\mathrm{CoR})}\n",
    "$$"
   ]
  },
  {
   "cell_type": "markdown",
   "metadata": {},
   "source": [
    "$$ (x_a^\\mathrm{CoR} - x_{ija}) (x_a^\\mathrm{CoR} - x_{ija})\n",
    "$$"
   ]
  },
  {
   "cell_type": "code",
   "execution_count": 27,
   "metadata": {},
   "outputs": [],
   "source": [
    "X_pa = X_ija.reshape(-1,2)\n",
    "perp_u_pa = perp_u_ija.reshape(-1,2)"
   ]
  },
  {
   "cell_type": "code",
   "execution_count": 28,
   "metadata": {},
   "outputs": [],
   "source": [
    "def get_x_cor_pa(eta_p):\n",
    "    return X_pa + np.einsum('p,pa->pa', eta_p, perp_u_pa)"
   ]
  },
  {
   "cell_type": "code",
   "execution_count": 29,
   "metadata": {},
   "outputs": [],
   "source": [
    "def get_R(eta_p):\n",
    "    x_cor_pa = get_x_cor_pa(eta_p)\n",
    "    delta_x_cor_pqa = x_cor_pa[:,np.newaxis,:] - x_cor_pa[np.newaxis,:,:]\n",
    "    R2 = np.einsum('pqa,pqa->',delta_x_cor_pqa,delta_x_cor_pqa)\n",
    "    return np.sqrt(R2)"
   ]
  },
  {
   "cell_type": "code",
   "execution_count": 30,
   "metadata": {},
   "outputs": [],
   "source": [
    "eta0_p = np.zeros((X_pa.shape[0],))"
   ]
  },
  {
   "cell_type": "code",
   "execution_count": 31,
   "metadata": {},
   "outputs": [
    {
     "data": {
      "text/plain": [
       "6882.1072354330545"
      ]
     },
     "execution_count": 31,
     "metadata": {},
     "output_type": "execute_result"
    }
   ],
   "source": [
    "get_R(eta0_p)"
   ]
  },
  {
   "cell_type": "code",
   "execution_count": 32,
   "metadata": {},
   "outputs": [],
   "source": [
    "from scipy.optimize import minimize"
   ]
  },
  {
   "cell_type": "code",
   "execution_count": 33,
   "metadata": {},
   "outputs": [],
   "source": [
    "min_eta_p_sol = minimize(get_R, eta0_p, method='BFGS')\n",
    "eta_p_sol = min_eta_p_sol.x"
   ]
  },
  {
   "cell_type": "code",
   "execution_count": 34,
   "metadata": {},
   "outputs": [],
   "source": [
    "x_cor_pa_sol = get_x_cor_pa(eta_p_sol)"
   ]
  },
  {
   "cell_type": "code",
   "execution_count": 35,
   "metadata": {},
   "outputs": [
    {
     "data": {
      "text/plain": [
       "array([50.06698947, 62.87073293])"
      ]
     },
     "execution_count": 35,
     "metadata": {},
     "output_type": "execute_result"
    }
   ],
   "source": [
    "X_cor = np.average(x_cor_pa_sol,axis=0)\n",
    "X_cor"
   ]
  },
  {
   "cell_type": "code",
   "execution_count": 36,
   "metadata": {},
   "outputs": [
    {
     "data": {
      "application/vnd.jupyter.widget-view+json": {
       "model_id": "eb5f5462a4604587946aad4ec7fd5ac1",
       "version_major": 2,
       "version_minor": 0
      },
      "text/plain": [
       "Canvas(toolbar=Toolbar(toolitems=[('Home', 'Reset original view', 'home', 'home'), ('Back', 'Back to previous …"
      ]
     },
     "metadata": {},
     "output_type": "display_data"
    }
   ],
   "source": [
    "import matplotlib.pylab as plt\n",
    "fig, ax = plt.subplots(1,1)\n",
    "ax.plot(*rot_vect_u_anp,color='blue');\n",
    "ax.plot(*perp_vect_u_anp,color='green');\n",
    "ax.plot(*x_cor_pa_sol.T, 'o')\n",
    "ax.plot([X_cor[0]], [X_cor[1]], 'o',color='red')\n",
    "ax.axis('equal');"
   ]
  },
  {
   "cell_type": "markdown",
   "metadata": {},
   "source": [
    "# TODO\n",
    "\n",
    "- Implement the above functionality as a bu.Model with an interactive control of the visualization.\n",
    "- Dimensions of the particular specimen - to plot the measured DIC field within the beam.\n",
    "- Parameters - specifying the input file, the shape of the grid, the spacing.\n",
    "- Slices for the further evaluation\n"
   ]
  },
  {
   "cell_type": "markdown",
   "metadata": {},
   "source": [
    "# Concept of the strain evaluation"
   ]
  },
  {
   "cell_type": "code",
   "execution_count": null,
   "metadata": {},
   "outputs": [],
   "source": []
  }
 ],
 "metadata": {
  "kernelspec": {
   "display_name": "Python 3",
   "language": "python",
   "name": "python3"
  },
  "language_info": {
   "codemirror_mode": {
    "name": "ipython",
    "version": 3
   },
   "file_extension": ".py",
   "mimetype": "text/x-python",
   "name": "python",
   "nbconvert_exporter": "python",
   "pygments_lexer": "ipython3",
   "version": "3.8.8"
  }
 },
 "nbformat": 4,
 "nbformat_minor": 4
}
