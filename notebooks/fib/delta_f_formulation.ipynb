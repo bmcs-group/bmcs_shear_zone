{
 "cells": [
  {
   "cell_type": "markdown",
   "metadata": {},
   "source": [
    "# $\\Delta F_s$ Derivation"
   ]
  },
  {
   "cell_type": "markdown",
   "metadata": {},
   "source": [
    "<img src=\"snapshot f_s.jpg\" width=\"700\"/> "
   ]
  },
  {
   "cell_type": "code",
   "execution_count": 1,
   "metadata": {},
   "outputs": [],
   "source": [
    "import sympy as sp\n",
    "import numpy as np"
   ]
  },
  {
   "cell_type": "markdown",
   "metadata": {},
   "source": [
    "<img src=\"delta f_s derivation.png\" width=\"700\"/> "
   ]
  },
  {
   "cell_type": "markdown",
   "metadata": {},
   "source": [
    "The total moment around the center of rotation corresponding to the ligament $R$ is evaluated as an integral\n",
    "$$\n",
    "M^{R} = \\int_R \\sigma_a (x_a(r) - x^\\mathrm{rot}_a) \\, \\mathrm{d}r + \n",
    "\\sum_i^N F^i_a (x^i_a(r) - x^\\mathrm{rot}_a)\n",
    "$$\n",
    "along the ligament $x_a(r)$ including the crack path and the compressed cross section line, \n",
    "where $a = [1,2]$ represents the index of the spatial dimensions corresponding to $x, y$. This expression includes all mechanisms acting along the ligament, i.e. compressive and tensile behavior of concrete, aggregate interlock, crack bridging effect and dowel effect. For convenience, let us denote\n",
    "$$\n",
    "M_\\sigma^R = \\int_R \\sigma_a (x_a(r) - x^\\mathrm{rot}_a) \\, \\mathrm{d}r\n",
    "$$\n",
    "and\n",
    "\\begin{align}\n",
    "M^R_y &= \\sum_i^N F^i_y (y^i(r) - y^\\mathrm{rot})\\\\\n",
    "M^R_x &= \\sum_i^N F^i_x (x^i(r) - x^\\mathrm{rot})\n",
    "\\end{align}\n",
    "so that\n",
    "$$\n",
    "M^R = M_\\sigma + \n",
    "M^R_y + \n",
    "M^R_x \n",
    "$$"
   ]
  },
  {
   "cell_type": "markdown",
   "metadata": {},
   "source": [
    "Consider a a ligament $S$ with the geometry\n",
    "which is shifted from the ligament $R$ by the distance $L_\\mathrm{cs}$\n",
    "$$\n",
    "x_a(s) = x_a(r) + L_\\mathrm{cs}\n",
    "$$\n",
    "The moment related to this ligament can obtained as \n",
    "$$\n",
    "M^S = M^R + Q L_\\mathrm{cs}\n",
    "$$\n",
    "where $Q$ is the shear force along the beam."
   ]
  },
  {
   "cell_type": "markdown",
   "metadata": {},
   "source": [
    "What is the stress profile along the ligament?"
   ]
  },
  {
   "cell_type": "markdown",
   "metadata": {},
   "source": [
    "The distance $\\Delta y_\\mathrm{c}$ of the center of gravity of the compressive stress from the neutral axis is given as\n",
    "$$\n",
    "\\int_{y^\\mathrm{rot}}^H \\sigma_x \\, \\mathrm{d}y \\cdot \\Delta y_\\mathrm{c} = \n",
    "\\int_{y^\\mathrm{rot}}^H \\sigma_x (y - y^\\mathrm{rot}) \\, \\mathrm{d}y\n",
    "\\implies\n",
    "\\Delta y_c = \\dfrac{\\int_{y^\\mathrm{rot}}^H \\sigma_x (y - y^\\mathrm{rot}) \\, \\mathrm{d}y}{\\int_{y^\\mathrm{rot}}^H \\sigma_x \\, \\mathrm{d}y }\n",
    "$$"
   ]
  },
  {
   "cell_type": "markdown",
   "metadata": {},
   "source": [
    "Similarly, the distance $\\Delta y_\\mathrm{t}$ of the center of gravity of the tensile stress from the neutral axis is given as\n",
    "$$\n",
    "\\int_0^{y^\\mathrm{rot}} \\sigma_x \\, \\mathrm{d}y \\cdot \\Delta y_\\mathrm{t} = \n",
    "\\int_0^{y^\\mathrm{rot}} \\sigma_x (y - y^\\mathrm{rot}) \\, \\mathrm{d}y\n",
    "\\implies\n",
    "\\Delta y_t = \\dfrac{\\int_0^{y^\\mathrm{rot}} \\sigma_x (y - y^\\mathrm{rot}) \\, \\mathrm{d}y}{\\int_0^{y^\\mathrm{rot}} \\sigma_x \\, \\mathrm{d}y }\n",
    "$$"
   ]
  },
  {
   "cell_type": "code",
   "execution_count": 2,
   "metadata": {},
   "outputs": [
    {
     "data": {
      "text/latex": [
       "$\\displaystyle Q$"
      ],
      "text/plain": [
       "Q"
      ]
     },
     "execution_count": 2,
     "metadata": {},
     "output_type": "execute_result"
    }
   ],
   "source": [
    "F_L, F_R = sp.symbols('F_L, F_R')\n",
    "h = sp.Symbol('h')\n",
    "Q, L_cs = sp.symbols('Q, L_{cs}')\n",
    "Q"
   ]
  },
  {
   "cell_type": "code",
   "execution_count": 3,
   "metadata": {},
   "outputs": [
    {
     "data": {
      "text/latex": [
       "$\\displaystyle F_{R} h$"
      ],
      "text/plain": [
       "F_R*h"
      ]
     },
     "execution_count": 3,
     "metadata": {},
     "output_type": "execute_result"
    }
   ],
   "source": [
    "M_R = F_R * h\n",
    "M_R"
   ]
  },
  {
   "cell_type": "code",
   "execution_count": 4,
   "metadata": {},
   "outputs": [
    {
     "data": {
      "text/latex": [
       "$\\displaystyle L_{cs} Q$"
      ],
      "text/plain": [
       "L_{cs}*Q"
      ]
     },
     "execution_count": 4,
     "metadata": {},
     "output_type": "execute_result"
    }
   ],
   "source": [
    "delta_M = Q * L_cs\n",
    "delta_M"
   ]
  },
  {
   "cell_type": "code",
   "execution_count": 5,
   "metadata": {},
   "outputs": [
    {
     "data": {
      "text/latex": [
       "$\\displaystyle F_{R} h + L_{cs} Q$"
      ],
      "text/plain": [
       "F_R*h + L_{cs}*Q"
      ]
     },
     "execution_count": 5,
     "metadata": {},
     "output_type": "execute_result"
    }
   ],
   "source": [
    "M_L = M_R + delta_M\n",
    "M_L"
   ]
  },
  {
   "cell_type": "code",
   "execution_count": 9,
   "metadata": {},
   "outputs": [
    {
     "data": {
      "text/latex": [
       "$\\displaystyle F_{L} h$"
      ],
      "text/plain": [
       "F_L*h"
      ]
     },
     "execution_count": 9,
     "metadata": {},
     "output_type": "execute_result"
    }
   ],
   "source": [
    "M_L_f = F_L * h\n",
    "M_L_f"
   ]
  },
  {
   "cell_type": "code",
   "execution_count": 10,
   "metadata": {},
   "outputs": [
    {
     "data": {
      "text/latex": [
       "$\\displaystyle F_{R} h + L_{cs} Q = F_{L} h$"
      ],
      "text/plain": [
       "Eq(F_R*h + L_{cs}*Q, F_L*h)"
      ]
     },
     "execution_count": 10,
     "metadata": {},
     "output_type": "execute_result"
    }
   ],
   "source": [
    "sp.Eq(M_L,M_L_f)"
   ]
  },
  {
   "cell_type": "code",
   "execution_count": 16,
   "metadata": {},
   "outputs": [
    {
     "data": {
      "text/latex": [
       "$\\displaystyle F_{R} + \\frac{L_{cs} Q}{h}$"
      ],
      "text/plain": [
       "F_R + L_{cs}*Q/h"
      ]
     },
     "execution_count": 16,
     "metadata": {},
     "output_type": "execute_result"
    }
   ],
   "source": [
    "F_L_eq = sp.solve(sp.Eq(M_L,M_L_f), F_L)\n",
    "F_L_eq[0]"
   ]
  },
  {
   "cell_type": "code",
   "execution_count": 17,
   "metadata": {},
   "outputs": [
    {
     "data": {
      "text/latex": [
       "$\\displaystyle \\frac{L_{cs} Q}{h}$"
      ],
      "text/plain": [
       "L_{cs}*Q/h"
      ]
     },
     "execution_count": 17,
     "metadata": {},
     "output_type": "execute_result"
    }
   ],
   "source": [
    "delta_F = F_L_eq[0] - F_R\n",
    "delta_F"
   ]
  },
  {
   "cell_type": "code",
   "execution_count": null,
   "metadata": {},
   "outputs": [],
   "source": []
  }
 ],
 "metadata": {
  "kernelspec": {
   "display_name": "Python 3",
   "language": "python",
   "name": "python3"
  },
  "language_info": {
   "codemirror_mode": {
    "name": "ipython",
    "version": 3
   },
   "file_extension": ".py",
   "mimetype": "text/x-python",
   "name": "python",
   "nbconvert_exporter": "python",
   "pygments_lexer": "ipython3",
   "version": "3.8.8"
  }
 },
 "nbformat": 4,
 "nbformat_minor": 4
}
