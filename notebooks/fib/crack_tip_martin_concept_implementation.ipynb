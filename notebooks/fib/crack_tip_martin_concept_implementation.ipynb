{
 "cells": [
  {
   "cell_type": "markdown",
   "metadata": {},
   "source": [
    "# Implementation of Martin's Classen crack orientation concept"
   ]
  },
  {
   "cell_type": "code",
   "execution_count": 1,
   "metadata": {},
   "outputs": [],
   "source": [
    "import sympy as sp\n",
    "import numpy as np"
   ]
  },
  {
   "cell_type": "markdown",
   "metadata": {},
   "source": [
    "<img src=\"martin concept.png\" width=\"700\"/> "
   ]
  },
  {
   "cell_type": "markdown",
   "metadata": {},
   "source": [
    "## Symbol representation"
   ]
  },
  {
   "cell_type": "code",
   "execution_count": 2,
   "metadata": {},
   "outputs": [
    {
     "data": {
      "text/latex": [
       "$\\displaystyle \\beta$"
      ],
      "text/plain": [
       "\\beta"
      ]
     },
     "execution_count": 2,
     "metadata": {},
     "output_type": "execute_result"
    }
   ],
   "source": [
    "sigma_x0, sigma_z0, tau_0 = sp.symbols('sigma_x0, sigma_z0, tau_0')\n",
    "beta = sp.Symbol(r'\\beta')\n",
    "beta"
   ]
  },
  {
   "cell_type": "markdown",
   "metadata": {},
   "source": [
    "## Tranformation of global stresses into cosine components"
   ]
  },
  {
   "cell_type": "markdown",
   "metadata": {},
   "source": [
    "\\begin{align}\n",
    "\\sigma_{x0} = \n",
    "\\left[\n",
    "\\begin{array}{cc}\n",
    "\\sigma_{x0} \\cos \\beta \\\\\n",
    "\\sigma_{x0} \\sin \\beta \\\\\n",
    "\\end{array}\n",
    "\\right]\n",
    "\\end{align}"
   ]
  },
  {
   "cell_type": "code",
   "execution_count": 3,
   "metadata": {},
   "outputs": [
    {
     "data": {
      "text/latex": [
       "$\\displaystyle \\left[\\begin{matrix}\\sigma_{x0} \\cos{\\left(\\beta \\right)}\\\\\\sigma_{x0} \\sin{\\left(\\beta \\right)}\\end{matrix}\\right]$"
      ],
      "text/plain": [
       "Matrix([\n",
       "[sigma_x0*cos(\\beta)],\n",
       "[sigma_x0*sin(\\beta)]])"
      ]
     },
     "execution_count": 3,
     "metadata": {},
     "output_type": "execute_result"
    }
   ],
   "source": [
    "sigma_x0_components = sp.Matrix([sigma_x0 * sp.cos(beta), sigma_x0 * sp.sin(beta)])\n",
    "sigma_x0_components"
   ]
  },
  {
   "cell_type": "markdown",
   "metadata": {},
   "source": [
    "\\begin{align}\n",
    "\\sigma_{z0} = \n",
    "\\left[\n",
    "\\begin{array}{cc}\n",
    "\\sigma_{z0} \\cos \\beta \\\\\n",
    "\\sigma_{z0} \\sin \\beta \\\\\n",
    "\\end{array}\n",
    "\\right]\n",
    "\\end{align}"
   ]
  },
  {
   "cell_type": "code",
   "execution_count": 4,
   "metadata": {},
   "outputs": [
    {
     "data": {
      "text/latex": [
       "$\\displaystyle \\left[\\begin{matrix}\\sigma_{z0} \\cos{\\left(\\beta \\right)}\\\\\\sigma_{z0} \\sin{\\left(\\beta \\right)}\\end{matrix}\\right]$"
      ],
      "text/plain": [
       "Matrix([\n",
       "[sigma_z0*cos(\\beta)],\n",
       "[sigma_z0*sin(\\beta)]])"
      ]
     },
     "execution_count": 4,
     "metadata": {},
     "output_type": "execute_result"
    }
   ],
   "source": [
    "sigma_z0_components = sp.Matrix([sigma_z0 * sp.cos(beta), sigma_z0 * sp.sin(beta)])\n",
    "sigma_z0_components"
   ]
  },
  {
   "cell_type": "markdown",
   "metadata": {},
   "source": [
    "\\begin{align}\n",
    "\\tau_{0} = \n",
    "\\left[\n",
    "\\begin{array}{cc}\n",
    "\\tau_{0} \\cos \\beta \\\\\n",
    "\\tau_{0} \\sin \\beta \\\\\n",
    "\\end{array}\n",
    "\\right]\n",
    "\\end{align}"
   ]
  },
  {
   "cell_type": "code",
   "execution_count": 5,
   "metadata": {},
   "outputs": [
    {
     "data": {
      "text/latex": [
       "$\\displaystyle \\left[\\begin{matrix}\\tau_{0} \\cos{\\left(\\beta \\right)}\\\\\\tau_{0} \\sin{\\left(\\beta \\right)}\\end{matrix}\\right]$"
      ],
      "text/plain": [
       "Matrix([\n",
       "[tau_0*cos(\\beta)],\n",
       "[tau_0*sin(\\beta)]])"
      ]
     },
     "execution_count": 5,
     "metadata": {},
     "output_type": "execute_result"
    }
   ],
   "source": [
    "tau_0_components = sp.Matrix([tau_0 * sp.cos(beta), tau_0 * sp.sin(beta)])\n",
    "tau_0_components"
   ]
  },
  {
   "cell_type": "markdown",
   "metadata": {},
   "source": [
    "## Principle Stress tensor"
   ]
  },
  {
   "cell_type": "markdown",
   "metadata": {},
   "source": [
    "\\begin{align}\n",
    "\\sigma_{ij} = \n",
    "\\left[\n",
    "\\begin{array}{cc}\n",
    "\\sigma_{1} & 0 \\\\\n",
    "0 & \\sigma_{2}\n",
    "\\end{array}\n",
    "\\right]\n",
    "\\end{align}"
   ]
  },
  {
   "cell_type": "code",
   "execution_count": 6,
   "metadata": {},
   "outputs": [
    {
     "data": {
      "text/latex": [
       "$\\displaystyle \\left[\\begin{matrix}\\sigma_{1} & 0\\\\0 & \\sigma_{2}\\end{matrix}\\right]$"
      ],
      "text/plain": [
       "Matrix([\n",
       "[sigma_1,       0],\n",
       "[      0, sigma_2]])"
      ]
     },
     "execution_count": 6,
     "metadata": {},
     "output_type": "execute_result"
    }
   ],
   "source": [
    "sigma_1, sigma_2 = sp.symbols('sigma_1, sigma_2')\n",
    "sigma_ps = sp.Matrix([[sigma_1, 0], [0, sigma_2]])\n",
    "sigma_ps"
   ]
  },
  {
   "cell_type": "markdown",
   "metadata": {},
   "source": [
    "## Triangle 1"
   ]
  },
  {
   "cell_type": "markdown",
   "metadata": {},
   "source": [
    "<img src=\"triangle 1.png\" width=\"400\"/> "
   ]
  },
  {
   "cell_type": "markdown",
   "metadata": {},
   "source": [
    "## Principle Stress Tensor equivalence from triangle 1"
   ]
  },
  {
   "cell_type": "code",
   "execution_count": 7,
   "metadata": {},
   "outputs": [
    {
     "data": {
      "text/latex": [
       "$\\displaystyle \\left[\\begin{matrix}\\sigma_{z0} + \\tau_{0} \\tan{\\left(\\beta \\right)} & 0\\\\0 & \\left\\lfloor{\\sigma_{z0} - \\frac{\\tau_{0}}{\\tan{\\left(\\beta \\right)}}}\\right\\rfloor\\end{matrix}\\right]$"
      ],
      "text/plain": [
       "Matrix([\n",
       "[sigma_z0 + tau_0*tan(\\beta),                                  0],\n",
       "[                          0, floor(sigma_z0 - tau_0/tan(\\beta))]])"
      ]
     },
     "execution_count": 7,
     "metadata": {},
     "output_type": "execute_result"
    }
   ],
   "source": [
    "sigma_ps_equiv_1 = sp.simplify(sp.Matrix([[(sigma_z0_components[0] + tau_0_components[1])/sp.cos(beta), 0], \n",
    "                            [0, (sigma_z0_components[1] - tau_0_components[0])//sp.sin(beta)]]))\n",
    "sigma_ps_equiv_1"
   ]
  },
  {
   "cell_type": "code",
   "execution_count": 8,
   "metadata": {},
   "outputs": [
    {
     "data": {
      "text/latex": [
       "$\\displaystyle \\left[\\begin{matrix}\\sigma_{1} & 0\\\\0 & \\sigma_{2}\\end{matrix}\\right] = \\left[\\begin{matrix}\\sigma_{z0} + \\tau_{0} \\tan{\\left(\\beta \\right)} & 0\\\\0 & \\left\\lfloor{\\sigma_{z0} - \\frac{\\tau_{0}}{\\tan{\\left(\\beta \\right)}}}\\right\\rfloor\\end{matrix}\\right]$"
      ],
      "text/plain": [
       "Eq(Matrix([\n",
       "[sigma_1,       0],\n",
       "[      0, sigma_2]]), Matrix([\n",
       "[sigma_z0 + tau_0*tan(\\beta),                                  0],\n",
       "[                          0, floor(sigma_z0 - tau_0/tan(\\beta))]]))"
      ]
     },
     "execution_count": 8,
     "metadata": {},
     "output_type": "execute_result"
    }
   ],
   "source": [
    "sig_ps_1 = sp.Eq(sigma_ps, sigma_ps_equiv_1)\n",
    "sig_ps_1"
   ]
  },
  {
   "cell_type": "code",
   "execution_count": 9,
   "metadata": {},
   "outputs": [
    {
     "data": {
      "text/latex": [
       "$\\displaystyle \\operatorname{atan}{\\left(\\frac{\\sigma_{1} - \\sigma_{z0}}{\\tau_{0}} \\right)}$"
      ],
      "text/plain": [
       "atan((sigma_1 - sigma_z0)/tau_0)"
      ]
     },
     "execution_count": 9,
     "metadata": {},
     "output_type": "execute_result"
    }
   ],
   "source": [
    "beta_solved = sp.solve(sp.Eq(sigma_ps[0,0], sigma_ps_equiv_1[0,0]), beta)[0]\n",
    "beta_solved"
   ]
  },
  {
   "cell_type": "code",
   "execution_count": 10,
   "metadata": {},
   "outputs": [
    {
     "data": {
      "text/latex": [
       "$\\displaystyle \\operatorname{atan}{\\left(\\frac{f_{ct} - \\sigma_{z0}}{\\tau_{0}} \\right)}$"
      ],
      "text/plain": [
       "atan((f_ct - sigma_z0)/tau_0)"
      ]
     },
     "execution_count": 10,
     "metadata": {},
     "output_type": "execute_result"
    }
   ],
   "source": [
    "f_ct = sp.Symbol('f_ct')\n",
    "beta_subs = beta_solved.subs(sigma_1, f_ct)\n",
    "beta_subs"
   ]
  },
  {
   "cell_type": "code",
   "execution_count": 11,
   "metadata": {},
   "outputs": [
    {
     "data": {
      "text/plain": [
       "<function _lambdifygenerated(sigma_1, sigma_z0, tau_0)>"
      ]
     },
     "execution_count": 11,
     "metadata": {},
     "output_type": "execute_result"
    }
   ],
   "source": [
    "get_beta = sp.lambdify((sigma_1, sigma_z0, tau_0), beta_solved)\n",
    "get_beta"
   ]
  },
  {
   "cell_type": "code",
   "execution_count": 12,
   "metadata": {},
   "outputs": [
    {
     "data": {
      "text/plain": [
       "<matplotlib.legend.Legend at 0x1413510df40>"
      ]
     },
     "execution_count": 12,
     "metadata": {},
     "output_type": "execute_result"
    },
    {
     "data": {
      "image/png": "[encoded data removed]",
      "text/plain": [
       "<Figure size 792x288 with 1 Axes>"
      ]
     },
     "metadata": {
      "needs_background": "light"
     },
     "output_type": "display_data"
    }
   ],
   "source": [
    "import matplotlib.pylab as plt\n",
    "_, ax1 = plt.subplots(1, 1, figsize=(11,4))\n",
    "\n",
    "f_ct_val = 3\n",
    "eta = 0.5\n",
    "tau_xx = eta * f_ct_val\n",
    "sigma_z = np.linspace(0, 3, 50)\n",
    "theta_xz = get_beta(f_ct_val, sigma_z, tau_xx)\n",
    "\n",
    "ax1.plot(theta_xz * 180/ np.pi,  sigma_z, 'o-', lw= 2, label = r'$\\sigma_{\\mathrm{z}}}$')\n",
    "ax1.set_xlabel(r'$\\theta_{\\mathrm{xz}}$'); ax1.set_ylabel(r'$\\sigma_{\\mathrm{z}}$');\n",
    "ax1.set_title(r'$\\tau_{\\mathrm{fpz}} = constant$, and changing $\\sigma_{\\mathrm{z}}$')\n",
    "ax1.legend()"
   ]
  },
  {
   "cell_type": "code",
   "execution_count": 13,
   "metadata": {},
   "outputs": [
    {
     "data": {
      "text/plain": [
       "<matplotlib.legend.Legend at 0x141362b81f0>"
      ]
     },
     "execution_count": 13,
     "metadata": {},
     "output_type": "execute_result"
    },
    {
     "data": {
      "image/png": "[encoded data removed]",
      "text/plain": [
       "<Figure size 792x288 with 1 Axes>"
      ]
     },
     "metadata": {
      "needs_background": "light"
     },
     "output_type": "display_data"
    }
   ],
   "source": [
    "import matplotlib.pylab as plt\n",
    "_, ax1 = plt.subplots(1, 1, figsize=(11,4))\n",
    "\n",
    "f_ct_val = 3\n",
    "sigma_z = 2.9\n",
    "tau_xx = np.linspace(0.1, 3, 50)\n",
    "theta_xz = get_beta(f_ct_val, sigma_z, tau_xx)\n",
    "\n",
    "ax1.plot(theta_xz * 180/ np.pi,  tau_xx, 'o-', lw= 2, label = r'$\\tau_{\\mathrm{0}}}$')\n",
    "ax1.set_xlabel(r'$\\theta_{\\mathrm{xz}}$'); ax1.set_ylabel(r'$\\tau_{\\mathrm{0}}$');\n",
    "ax1.set_title(r'$\\sigma_{\\mathrm{z}} = constant$, and changing $\\tau_{\\mathrm{0}}$')\n",
    "ax1.legend()"
   ]
  },
  {
   "cell_type": "code",
   "execution_count": 14,
   "metadata": {},
   "outputs": [
    {
     "name": "stdout",
     "output_type": "stream",
     "text": [
      "[[87.13759477 84.28940686 81.46923439 78.69006753 75.96375653 73.30075577\n",
      "  70.70995378 68.19859051 65.77225468 63.43494882]\n",
      " [86.79383608 83.60762632 80.46058967 77.37054105 74.35334448 71.42252466\n",
      "  68.58905069 65.86128465 63.24507121 60.74393478]\n",
      " [86.35636772 82.74196989 79.18465761 75.70967492 72.33872115 69.08936965\n",
      "  65.97485162 63.00416161 60.18240836 57.51132349]\n",
      " [85.78090465 81.60707481 77.5209282  73.55962048 69.75337992 66.12471915\n",
      "  62.68846625 59.45242825 56.41844708 53.58362148]\n",
      " [84.99012494 80.05570574 75.26559423 70.67681568 66.3315991  62.25679553\n",
      "  58.46520809 54.9580706  51.72793593 48.76143748]\n",
      " [83.83594756 77.8113668  72.04767569 66.63565552 61.63095371 57.05676253\n",
      "  52.91071946 49.17298448 45.81347567 42.79740184]\n",
      " [81.99527114 74.29136217 67.12633481 60.64224646 54.88798882 49.84400038\n",
      "  45.45113855 41.63353934 38.31309067 35.41705528]\n",
      " [78.60786417 68.05130092 58.84797762 51.1322225  44.78700552 39.59620864\n",
      "  35.33643905 31.8142387  28.87411397 26.39503453]\n",
      " [70.44174846 54.60520416 43.17591017 35.13419306 29.37789974 25.13295499\n",
      "  21.9058684  19.38451568 17.36744914 15.72092779]\n",
      " [33.69006753 18.43494882 12.52880771  9.46232221  7.59464337  6.34019175\n",
      "   5.44033203  4.76364169  4.2363948   3.81407483]]\n"
     ]
    }
   ],
   "source": [
    "f_ct_val = 3\n",
    "tau_xx_num = 10\n",
    "tau_xx = np.linspace(0.15,1.5, tau_xx_num)\n",
    "#eta = 0.2\n",
    "#tau_xx = eta * f_ct_val\n",
    "sig_z_num = 10\n",
    "sigma_z = np.linspace(0, 2.9, sig_z_num)\n",
    "beta = np.zeros([tau_xx_num, sig_z_num])\n",
    "for j in  range(len(sigma_z)):\n",
    "    #print('sigma_z =', sigma_z[j])\n",
    "    for i in range(len(tau_xx)):\n",
    "        #print('tau_fpz =', tau_fpz[i])\n",
    "        beta_xz = get_beta(f_ct_val, sigma_z[j], tau_xx[i])\n",
    "        beta[j, i] = beta_xz\n",
    "print(beta * 180/ np.pi) "
   ]
  },
  {
   "cell_type": "code",
   "execution_count": 15,
   "metadata": {},
   "outputs": [
    {
     "data": {
      "text/plain": [
       "<matplotlib.legend.Legend at 0x141362f3d90>"
      ]
     },
     "execution_count": 15,
     "metadata": {},
     "output_type": "execute_result"
    },
    {
     "data": {
      "image/png": "[encoded data removed]",
      "text/plain": [
       "<Figure size 936x432 with 1 Axes>"
      ]
     },
     "metadata": {
      "needs_background": "light"
     },
     "output_type": "display_data"
    }
   ],
   "source": [
    "import matplotlib.pylab as plt\n",
    "_, ax1 = plt.subplots(1, 1, figsize=(13,6))\n",
    "ax1.plot(beta[:,0] * 180/ np.pi,  sigma_z, 'o-',lw= 2, label = r'$\\tau_{\\mathrm{fpz}} = 0.15}$')\n",
    "ax1.plot(beta[:,1] * 180/ np.pi,  sigma_z, 'o-',lw= 2, label = r'$\\tau_{\\mathrm{fpz}} = 0.3}$')\n",
    "ax1.plot(beta[:,2] * 180/ np.pi,  sigma_z, 'o-',lw= 2, label = r'$\\tau_{\\mathrm{fpz}} = 0.45}$')\n",
    "ax1.plot(beta[:,3] * 180/ np.pi,  sigma_z, 'o-',lw= 2, label = r'$\\tau_{\\mathrm{fpz}} = 0.6}$')\n",
    "ax1.plot(beta[:,4] * 180/ np.pi,  sigma_z, 'o-',lw= 2, label = r'$\\tau_{\\mathrm{fpz}} = 0.75}$')\n",
    "ax1.plot(beta[:,5] * 180/ np.pi,  sigma_z, 'o-',lw= 2, label = r'$\\tau_{\\mathrm{fpz}} = 0.9}$')\n",
    "ax1.plot(beta[:,6] * 180/ np.pi,  sigma_z, 'o-',lw= 2, label = r'$\\tau_{\\mathrm{fpz}} = 1.05}$')\n",
    "ax1.plot(beta[:,7] * 180/ np.pi,  sigma_z, 'o-',lw= 2, label = r'$\\tau_{\\mathrm{fpz}} = 1.2}$')\n",
    "ax1.plot(beta[:,8] * 180/ np.pi,  sigma_z, 'o-',lw= 2, label = r'$\\tau_{\\mathrm{fpz}} = 1.35}$')\n",
    "ax1.plot(beta[:,9] * 180/ np.pi,  sigma_z, 'o-',lw= 2, label = r'$\\tau_{\\mathrm{fpz}} = 1.5}$')\n",
    "ax1.set_xlabel(r'$\\theta_{xy}$'); ax1.set_ylabel(r'$\\sigma_y$');\n",
    "ax1.set_title(r'Angle of orientation with crack parallel stress')\n",
    "ax1.legend()"
   ]
  },
  {
   "cell_type": "markdown",
   "metadata": {},
   "source": [
    "## Triangle 2"
   ]
  },
  {
   "cell_type": "markdown",
   "metadata": {},
   "source": [
    "<img src=\"triangle 2.png\" width=\"300\"/> "
   ]
  },
  {
   "cell_type": "markdown",
   "metadata": {},
   "source": [
    "## Principle Stress Tensor equivalence from triangle 2"
   ]
  },
  {
   "cell_type": "code",
   "execution_count": 16,
   "metadata": {},
   "outputs": [
    {
     "ename": "AttributeError",
     "evalue": "'ImmutableDenseNDimArray' object has no attribute 'could_extract_minus_sign'",
     "output_type": "error",
     "traceback": [
      "\u001b[1;31m---------------------------------------------------------------------------\u001b[0m",
      "\u001b[1;31mTypeError\u001b[0m                                 Traceback (most recent call last)",
      "\u001b[1;32m~\\Anaconda3\\envs\\bmcs_env\\lib\\site-packages\\sympy\\core\\cache.py\u001b[0m in \u001b[0;36mwrapper\u001b[1;34m(*args, **kwargs)\u001b[0m\n\u001b[0;32m     71\u001b[0m             \u001b[1;32mtry\u001b[0m\u001b[1;33m:\u001b[0m\u001b[1;33m\u001b[0m\u001b[1;33m\u001b[0m\u001b[0m\n\u001b[1;32m---> 72\u001b[1;33m                 \u001b[0mretval\u001b[0m \u001b[1;33m=\u001b[0m \u001b[0mcfunc\u001b[0m\u001b[1;33m(\u001b[0m\u001b[1;33m*\u001b[0m\u001b[0margs\u001b[0m\u001b[1;33m,\u001b[0m \u001b[1;33m**\u001b[0m\u001b[0mkwargs\u001b[0m\u001b[1;33m)\u001b[0m\u001b[1;33m\u001b[0m\u001b[1;33m\u001b[0m\u001b[0m\n\u001b[0m\u001b[0;32m     73\u001b[0m             \u001b[1;32mexcept\u001b[0m \u001b[0mTypeError\u001b[0m \u001b[1;32mas\u001b[0m \u001b[0me\u001b[0m\u001b[1;33m:\u001b[0m\u001b[1;33m\u001b[0m\u001b[1;33m\u001b[0m\u001b[0m\n",
      "\u001b[1;31mTypeError\u001b[0m: unhashable type: 'numpy.ndarray'",
      "\nDuring handling of the above exception, another exception occurred:\n",
      "\u001b[1;31mTypeError\u001b[0m                                 Traceback (most recent call last)",
      "\u001b[1;32m~\\Anaconda3\\envs\\bmcs_env\\lib\\site-packages\\sympy\\core\\cache.py\u001b[0m in \u001b[0;36mwrapper\u001b[1;34m(*args, **kwargs)\u001b[0m\n\u001b[0;32m     71\u001b[0m             \u001b[1;32mtry\u001b[0m\u001b[1;33m:\u001b[0m\u001b[1;33m\u001b[0m\u001b[1;33m\u001b[0m\u001b[0m\n\u001b[1;32m---> 72\u001b[1;33m                 \u001b[0mretval\u001b[0m \u001b[1;33m=\u001b[0m \u001b[0mcfunc\u001b[0m\u001b[1;33m(\u001b[0m\u001b[1;33m*\u001b[0m\u001b[0margs\u001b[0m\u001b[1;33m,\u001b[0m \u001b[1;33m**\u001b[0m\u001b[0mkwargs\u001b[0m\u001b[1;33m)\u001b[0m\u001b[1;33m\u001b[0m\u001b[1;33m\u001b[0m\u001b[0m\n\u001b[0m\u001b[0;32m     73\u001b[0m             \u001b[1;32mexcept\u001b[0m \u001b[0mTypeError\u001b[0m \u001b[1;32mas\u001b[0m \u001b[0me\u001b[0m\u001b[1;33m:\u001b[0m\u001b[1;33m\u001b[0m\u001b[1;33m\u001b[0m\u001b[0m\n",
      "\u001b[1;31mTypeError\u001b[0m: unhashable type: 'numpy.ndarray'",
      "\nDuring handling of the above exception, another exception occurred:\n",
      "\u001b[1;31mAttributeError\u001b[0m                            Traceback (most recent call last)",
      "\u001b[1;32m<ipython-input-16-a13ede92e4ce>\u001b[0m in \u001b[0;36m<module>\u001b[1;34m\u001b[0m\n\u001b[1;32m----> 1\u001b[1;33m sigma_ps_equiv_2 = sp.simplify(sp.Matrix([[(sigma_x0_components[1] + tau_0_components[0])/sp.sin(beta), 0], \n\u001b[0m\u001b[0;32m      2\u001b[0m                             [0, (sigma_x0_components[0] - tau_0_components[1])//sp.cos(beta)]]))\n\u001b[0;32m      3\u001b[0m \u001b[0msigma_ps_equiv_2\u001b[0m\u001b[1;33m\u001b[0m\u001b[1;33m\u001b[0m\u001b[0m\n",
      "\u001b[1;32m~\\Anaconda3\\envs\\bmcs_env\\lib\\site-packages\\sympy\\core\\cache.py\u001b[0m in \u001b[0;36mwrapper\u001b[1;34m(*args, **kwargs)\u001b[0m\n\u001b[0;32m     74\u001b[0m                 \u001b[1;32mif\u001b[0m \u001b[1;32mnot\u001b[0m \u001b[0me\u001b[0m\u001b[1;33m.\u001b[0m\u001b[0margs\u001b[0m \u001b[1;32mor\u001b[0m \u001b[1;32mnot\u001b[0m \u001b[0me\u001b[0m\u001b[1;33m.\u001b[0m\u001b[0margs\u001b[0m\u001b[1;33m[\u001b[0m\u001b[1;36m0\u001b[0m\u001b[1;33m]\u001b[0m\u001b[1;33m.\u001b[0m\u001b[0mstartswith\u001b[0m\u001b[1;33m(\u001b[0m\u001b[1;34m'unhashable type:'\u001b[0m\u001b[1;33m)\u001b[0m\u001b[1;33m:\u001b[0m\u001b[1;33m\u001b[0m\u001b[1;33m\u001b[0m\u001b[0m\n\u001b[0;32m     75\u001b[0m                     \u001b[1;32mraise\u001b[0m\u001b[1;33m\u001b[0m\u001b[1;33m\u001b[0m\u001b[0m\n\u001b[1;32m---> 76\u001b[1;33m                 \u001b[0mretval\u001b[0m \u001b[1;33m=\u001b[0m \u001b[0mfunc\u001b[0m\u001b[1;33m(\u001b[0m\u001b[1;33m*\u001b[0m\u001b[0margs\u001b[0m\u001b[1;33m,\u001b[0m \u001b[1;33m**\u001b[0m\u001b[0mkwargs\u001b[0m\u001b[1;33m)\u001b[0m\u001b[1;33m\u001b[0m\u001b[1;33m\u001b[0m\u001b[0m\n\u001b[0m\u001b[0;32m     77\u001b[0m             \u001b[1;32mreturn\u001b[0m \u001b[0mretval\u001b[0m\u001b[1;33m\u001b[0m\u001b[1;33m\u001b[0m\u001b[0m\n\u001b[0;32m     78\u001b[0m \u001b[1;33m\u001b[0m\u001b[0m\n",
      "\u001b[1;32m~\\Anaconda3\\envs\\bmcs_env\\lib\\site-packages\\sympy\\core\\function.py\u001b[0m in \u001b[0;36m__new__\u001b[1;34m(cls, *args, **options)\u001b[0m\n\u001b[0;32m    471\u001b[0m \u001b[1;33m\u001b[0m\u001b[0m\n\u001b[0;32m    472\u001b[0m         \u001b[0mevaluate\u001b[0m \u001b[1;33m=\u001b[0m \u001b[0moptions\u001b[0m\u001b[1;33m.\u001b[0m\u001b[0mget\u001b[0m\u001b[1;33m(\u001b[0m\u001b[1;34m'evaluate'\u001b[0m\u001b[1;33m,\u001b[0m \u001b[0mglobal_parameters\u001b[0m\u001b[1;33m.\u001b[0m\u001b[0mevaluate\u001b[0m\u001b[1;33m)\u001b[0m\u001b[1;33m\u001b[0m\u001b[1;33m\u001b[0m\u001b[0m\n\u001b[1;32m--> 473\u001b[1;33m         \u001b[0mresult\u001b[0m \u001b[1;33m=\u001b[0m \u001b[0msuper\u001b[0m\u001b[1;33m(\u001b[0m\u001b[1;33m)\u001b[0m\u001b[1;33m.\u001b[0m\u001b[0m__new__\u001b[0m\u001b[1;33m(\u001b[0m\u001b[0mcls\u001b[0m\u001b[1;33m,\u001b[0m \u001b[1;33m*\u001b[0m\u001b[0margs\u001b[0m\u001b[1;33m,\u001b[0m \u001b[1;33m**\u001b[0m\u001b[0moptions\u001b[0m\u001b[1;33m)\u001b[0m\u001b[1;33m\u001b[0m\u001b[1;33m\u001b[0m\u001b[0m\n\u001b[0m\u001b[0;32m    474\u001b[0m         \u001b[1;32mif\u001b[0m \u001b[0mevaluate\u001b[0m \u001b[1;32mand\u001b[0m \u001b[0misinstance\u001b[0m\u001b[1;33m(\u001b[0m\u001b[0mresult\u001b[0m\u001b[1;33m,\u001b[0m \u001b[0mcls\u001b[0m\u001b[1;33m)\u001b[0m \u001b[1;32mand\u001b[0m \u001b[0mresult\u001b[0m\u001b[1;33m.\u001b[0m\u001b[0margs\u001b[0m\u001b[1;33m:\u001b[0m\u001b[1;33m\u001b[0m\u001b[1;33m\u001b[0m\u001b[0m\n\u001b[0;32m    475\u001b[0m             \u001b[0mpr2\u001b[0m \u001b[1;33m=\u001b[0m \u001b[0mmin\u001b[0m\u001b[1;33m(\u001b[0m\u001b[0mcls\u001b[0m\u001b[1;33m.\u001b[0m\u001b[0m_should_evalf\u001b[0m\u001b[1;33m(\u001b[0m\u001b[0ma\u001b[0m\u001b[1;33m)\u001b[0m \u001b[1;32mfor\u001b[0m \u001b[0ma\u001b[0m \u001b[1;32min\u001b[0m \u001b[0mresult\u001b[0m\u001b[1;33m.\u001b[0m\u001b[0margs\u001b[0m\u001b[1;33m)\u001b[0m\u001b[1;33m\u001b[0m\u001b[1;33m\u001b[0m\u001b[0m\n",
      "\u001b[1;32m~\\Anaconda3\\envs\\bmcs_env\\lib\\site-packages\\sympy\\core\\cache.py\u001b[0m in \u001b[0;36mwrapper\u001b[1;34m(*args, **kwargs)\u001b[0m\n\u001b[0;32m     74\u001b[0m                 \u001b[1;32mif\u001b[0m \u001b[1;32mnot\u001b[0m \u001b[0me\u001b[0m\u001b[1;33m.\u001b[0m\u001b[0margs\u001b[0m \u001b[1;32mor\u001b[0m \u001b[1;32mnot\u001b[0m \u001b[0me\u001b[0m\u001b[1;33m.\u001b[0m\u001b[0margs\u001b[0m\u001b[1;33m[\u001b[0m\u001b[1;36m0\u001b[0m\u001b[1;33m]\u001b[0m\u001b[1;33m.\u001b[0m\u001b[0mstartswith\u001b[0m\u001b[1;33m(\u001b[0m\u001b[1;34m'unhashable type:'\u001b[0m\u001b[1;33m)\u001b[0m\u001b[1;33m:\u001b[0m\u001b[1;33m\u001b[0m\u001b[1;33m\u001b[0m\u001b[0m\n\u001b[0;32m     75\u001b[0m                     \u001b[1;32mraise\u001b[0m\u001b[1;33m\u001b[0m\u001b[1;33m\u001b[0m\u001b[0m\n\u001b[1;32m---> 76\u001b[1;33m                 \u001b[0mretval\u001b[0m \u001b[1;33m=\u001b[0m \u001b[0mfunc\u001b[0m\u001b[1;33m(\u001b[0m\u001b[1;33m*\u001b[0m\u001b[0margs\u001b[0m\u001b[1;33m,\u001b[0m \u001b[1;33m**\u001b[0m\u001b[0mkwargs\u001b[0m\u001b[1;33m)\u001b[0m\u001b[1;33m\u001b[0m\u001b[1;33m\u001b[0m\u001b[0m\n\u001b[0m\u001b[0;32m     77\u001b[0m             \u001b[1;32mreturn\u001b[0m \u001b[0mretval\u001b[0m\u001b[1;33m\u001b[0m\u001b[1;33m\u001b[0m\u001b[0m\n\u001b[0;32m     78\u001b[0m \u001b[1;33m\u001b[0m\u001b[0m\n",
      "\u001b[1;32m~\\Anaconda3\\envs\\bmcs_env\\lib\\site-packages\\sympy\\core\\function.py\u001b[0m in \u001b[0;36m__new__\u001b[1;34m(cls, *args, **options)\u001b[0m\n\u001b[0;32m    283\u001b[0m \u001b[1;33m\u001b[0m\u001b[0m\n\u001b[0;32m    284\u001b[0m         \u001b[1;32mif\u001b[0m \u001b[0mevaluate\u001b[0m\u001b[1;33m:\u001b[0m\u001b[1;33m\u001b[0m\u001b[1;33m\u001b[0m\u001b[0m\n\u001b[1;32m--> 285\u001b[1;33m             \u001b[0mevaluated\u001b[0m \u001b[1;33m=\u001b[0m \u001b[0mcls\u001b[0m\u001b[1;33m.\u001b[0m\u001b[0meval\u001b[0m\u001b[1;33m(\u001b[0m\u001b[1;33m*\u001b[0m\u001b[0margs\u001b[0m\u001b[1;33m)\u001b[0m\u001b[1;33m\u001b[0m\u001b[1;33m\u001b[0m\u001b[0m\n\u001b[0m\u001b[0;32m    286\u001b[0m             \u001b[1;32mif\u001b[0m \u001b[0mevaluated\u001b[0m \u001b[1;32mis\u001b[0m \u001b[1;32mnot\u001b[0m \u001b[1;32mNone\u001b[0m\u001b[1;33m:\u001b[0m\u001b[1;33m\u001b[0m\u001b[1;33m\u001b[0m\u001b[0m\n\u001b[0;32m    287\u001b[0m                 \u001b[1;32mreturn\u001b[0m \u001b[0mevaluated\u001b[0m\u001b[1;33m\u001b[0m\u001b[1;33m\u001b[0m\u001b[0m\n",
      "\u001b[1;32m~\\Anaconda3\\envs\\bmcs_env\\lib\\site-packages\\sympy\\functions\\elementary\\trigonometric.py\u001b[0m in \u001b[0;36meval\u001b[1;34m(cls, arg)\u001b[0m\n\u001b[0;32m    303\u001b[0m             \u001b[1;32mreturn\u001b[0m \u001b[0marg\u001b[0m\u001b[1;33m.\u001b[0m\u001b[0m_eval_func\u001b[0m\u001b[1;33m(\u001b[0m\u001b[0mcls\u001b[0m\u001b[1;33m)\u001b[0m\u001b[1;33m\u001b[0m\u001b[1;33m\u001b[0m\u001b[0m\n\u001b[0;32m    304\u001b[0m \u001b[1;33m\u001b[0m\u001b[0m\n\u001b[1;32m--> 305\u001b[1;33m         \u001b[1;32mif\u001b[0m \u001b[0marg\u001b[0m\u001b[1;33m.\u001b[0m\u001b[0mcould_extract_minus_sign\u001b[0m\u001b[1;33m(\u001b[0m\u001b[1;33m)\u001b[0m\u001b[1;33m:\u001b[0m\u001b[1;33m\u001b[0m\u001b[1;33m\u001b[0m\u001b[0m\n\u001b[0m\u001b[0;32m    306\u001b[0m             \u001b[1;32mreturn\u001b[0m \u001b[1;33m-\u001b[0m\u001b[0mcls\u001b[0m\u001b[1;33m(\u001b[0m\u001b[1;33m-\u001b[0m\u001b[0marg\u001b[0m\u001b[1;33m)\u001b[0m\u001b[1;33m\u001b[0m\u001b[1;33m\u001b[0m\u001b[0m\n\u001b[0;32m    307\u001b[0m \u001b[1;33m\u001b[0m\u001b[0m\n",
      "\u001b[1;31mAttributeError\u001b[0m: 'ImmutableDenseNDimArray' object has no attribute 'could_extract_minus_sign'"
     ]
    }
   ],
   "source": [
    "sigma_ps_equiv_2 = sp.simplify(sp.Matrix([[(sigma_x0_components[1] + tau_0_components[0])/sp.sin(beta), 0], \n",
    "                            [0, (sigma_x0_components[0] - tau_0_components[1])//sp.cos(beta)]]))\n",
    "sigma_ps_equiv_2"
   ]
  },
  {
   "cell_type": "code",
   "execution_count": 17,
   "metadata": {},
   "outputs": [
    {
     "ename": "NameError",
     "evalue": "name 'sigma_ps_equiv_2' is not defined",
     "output_type": "error",
     "traceback": [
      "\u001b[1;31m---------------------------------------------------------------------------\u001b[0m",
      "\u001b[1;31mNameError\u001b[0m                                 Traceback (most recent call last)",
      "\u001b[1;32m<ipython-input-17-8d618d53564f>\u001b[0m in \u001b[0;36m<module>\u001b[1;34m\u001b[0m\n\u001b[1;32m----> 1\u001b[1;33m \u001b[0msig_ps_2\u001b[0m \u001b[1;33m=\u001b[0m \u001b[0msp\u001b[0m\u001b[1;33m.\u001b[0m\u001b[0mEq\u001b[0m\u001b[1;33m(\u001b[0m\u001b[0msigma_ps\u001b[0m\u001b[1;33m,\u001b[0m \u001b[0msigma_ps_equiv_2\u001b[0m\u001b[1;33m)\u001b[0m\u001b[1;33m\u001b[0m\u001b[1;33m\u001b[0m\u001b[0m\n\u001b[0m\u001b[0;32m      2\u001b[0m \u001b[0msig_ps_2\u001b[0m\u001b[1;33m\u001b[0m\u001b[1;33m\u001b[0m\u001b[0m\n",
      "\u001b[1;31mNameError\u001b[0m: name 'sigma_ps_equiv_2' is not defined"
     ]
    }
   ],
   "source": [
    "sig_ps_2 = sp.Eq(sigma_ps, sigma_ps_equiv_2)\n",
    "sig_ps_2"
   ]
  },
  {
   "cell_type": "markdown",
   "metadata": {},
   "source": [
    "## $\\sigma_{x0}$, $\\tau_{0}$ calculation based on principal stress criteria"
   ]
  },
  {
   "cell_type": "code",
   "execution_count": 18,
   "metadata": {},
   "outputs": [
    {
     "data": {
      "text/latex": [
       "$\\displaystyle \\frac{\\sigma_{1} - \\sigma_{z0}}{\\tan{\\left(\\beta \\right)}}$"
      ],
      "text/plain": [
       "(sigma_1 - sigma_z0)/tan(\\beta)"
      ]
     },
     "execution_count": 18,
     "metadata": {},
     "output_type": "execute_result"
    }
   ],
   "source": [
    "tau_0_solve = sp.solve(sp.Eq(sigma_ps[0,0], sigma_ps_equiv_1[0,0]), tau_0)[0]\n",
    "tau_0_solve"
   ]
  },
  {
   "cell_type": "code",
   "execution_count": 19,
   "metadata": {},
   "outputs": [
    {
     "ename": "NameError",
     "evalue": "name 'sigma_ps_equiv_2' is not defined",
     "output_type": "error",
     "traceback": [
      "\u001b[1;31m---------------------------------------------------------------------------\u001b[0m",
      "\u001b[1;31mNameError\u001b[0m                                 Traceback (most recent call last)",
      "\u001b[1;32m<ipython-input-19-acd052395e23>\u001b[0m in \u001b[0;36m<module>\u001b[1;34m\u001b[0m\n\u001b[1;32m----> 1\u001b[1;33m \u001b[0msigma_x0_solve\u001b[0m \u001b[1;33m=\u001b[0m \u001b[0msp\u001b[0m\u001b[1;33m.\u001b[0m\u001b[0msolve\u001b[0m\u001b[1;33m(\u001b[0m\u001b[0msp\u001b[0m\u001b[1;33m.\u001b[0m\u001b[0mEq\u001b[0m\u001b[1;33m(\u001b[0m\u001b[0msigma_ps\u001b[0m\u001b[1;33m[\u001b[0m\u001b[1;36m0\u001b[0m\u001b[1;33m,\u001b[0m\u001b[1;36m0\u001b[0m\u001b[1;33m]\u001b[0m\u001b[1;33m,\u001b[0m \u001b[0msigma_ps_equiv_2\u001b[0m\u001b[1;33m[\u001b[0m\u001b[1;36m0\u001b[0m\u001b[1;33m,\u001b[0m\u001b[1;36m0\u001b[0m\u001b[1;33m]\u001b[0m\u001b[1;33m)\u001b[0m\u001b[1;33m.\u001b[0m\u001b[0msubs\u001b[0m\u001b[1;33m(\u001b[0m\u001b[0mtau_0\u001b[0m\u001b[1;33m,\u001b[0m \u001b[0mtau_0_solve\u001b[0m\u001b[1;33m)\u001b[0m\u001b[1;33m,\u001b[0m \u001b[0msigma_x0\u001b[0m\u001b[1;33m)\u001b[0m\u001b[1;33m[\u001b[0m\u001b[1;36m0\u001b[0m\u001b[1;33m]\u001b[0m\u001b[1;33m\u001b[0m\u001b[1;33m\u001b[0m\u001b[0m\n\u001b[0m\u001b[0;32m      2\u001b[0m \u001b[0msigma_x0_solve\u001b[0m\u001b[1;33m\u001b[0m\u001b[1;33m\u001b[0m\u001b[0m\n",
      "\u001b[1;31mNameError\u001b[0m: name 'sigma_ps_equiv_2' is not defined"
     ]
    }
   ],
   "source": [
    "sigma_x0_solve = sp.solve(sp.Eq(sigma_ps[0,0], sigma_ps_equiv_2[0,0]).subs(tau_0, tau_0_solve), sigma_x0)[0]\n",
    "sigma_x0_solve"
   ]
  },
  {
   "cell_type": "markdown",
   "metadata": {},
   "source": [
    "### Global stress tensor\n",
    "\\begin{align}\n",
    "\\sigma_{ij} = \n",
    "\\left[\n",
    "\\begin{array}{cc}\n",
    "\\sigma_{x0} & \\tau_0 \\\\\n",
    "\\tau_0 & \\sigma_{z0}\n",
    "\\end{array}\n",
    "\\right]\n",
    "\\end{align}"
   ]
  },
  {
   "cell_type": "code",
   "execution_count": 20,
   "metadata": {},
   "outputs": [
    {
     "ename": "NameError",
     "evalue": "name 'sigma_x0_solve' is not defined",
     "output_type": "error",
     "traceback": [
      "\u001b[1;31m---------------------------------------------------------------------------\u001b[0m",
      "\u001b[1;31mNameError\u001b[0m                                 Traceback (most recent call last)",
      "\u001b[1;32m<ipython-input-20-4b8e28f476fd>\u001b[0m in \u001b[0;36m<module>\u001b[1;34m\u001b[0m\n\u001b[1;32m----> 1\u001b[1;33m sigma_ij = sp.simplify(sp.Matrix([[sigma_x0_solve, tau_0_solve], \n\u001b[0m\u001b[0;32m      2\u001b[0m                             [tau_0_solve, sigma_z0]]))\n\u001b[0;32m      3\u001b[0m \u001b[0msigma_ij\u001b[0m\u001b[1;33m\u001b[0m\u001b[1;33m\u001b[0m\u001b[0m\n",
      "\u001b[1;31mNameError\u001b[0m: name 'sigma_x0_solve' is not defined"
     ]
    }
   ],
   "source": [
    "sigma_ij = sp.simplify(sp.Matrix([[sigma_x0_solve, tau_0_solve], \n",
    "                            [tau_0_solve, sigma_z0]]))\n",
    "sigma_ij"
   ]
  },
  {
   "cell_type": "markdown",
   "metadata": {},
   "source": [
    "### Ratio of principal stresses\n",
    "\\begin{equation}\n",
    "\\alpha = \\frac{\\sigma_1}{\\sigma_2}\n",
    "\\end{equation}"
   ]
  },
  {
   "cell_type": "code",
   "execution_count": 21,
   "metadata": {},
   "outputs": [
    {
     "data": {
      "text/latex": [
       "$\\displaystyle \\frac{\\sigma_{z0} + \\tau_{0} \\tan{\\left(\\beta \\right)}}{\\left\\lfloor{\\sigma_{z0} - \\frac{\\tau_{0}}{\\tan{\\left(\\beta \\right)}}}\\right\\rfloor}$"
      ],
      "text/plain": [
       "(sigma_z0 + tau_0*tan(\\beta))/floor(sigma_z0 - tau_0/tan(\\beta))"
      ]
     },
     "execution_count": 21,
     "metadata": {},
     "output_type": "execute_result"
    }
   ],
   "source": [
    "alpha = sigma_ps_equiv_1[0,0] / sigma_ps_equiv_1[1,1]\n",
    "alpha"
   ]
  },
  {
   "cell_type": "markdown",
   "metadata": {},
   "source": [
    "# Tensor formulation"
   ]
  },
  {
   "cell_type": "code",
   "execution_count": 1,
   "metadata": {},
   "outputs": [],
   "source": [
    "import sympy as sp\n",
    "import numpy as np\n",
    "sp.init_printing()"
   ]
  },
  {
   "cell_type": "markdown",
   "metadata": {},
   "source": [
    "To simplify orientation, a the components of a general 2D stress tensor are introduced as follows"
   ]
  },
  {
   "cell_type": "markdown",
   "metadata": {},
   "source": [
    "\\begin{align}\n",
    "\\sigma_{ij} = \n",
    "\\left[\n",
    "\\begin{array}{cc}\n",
    "\\sigma_{xx} & \\sigma_{xy} \\\\\n",
    "\\sigma_{yx} & \\sigma_{yy}\n",
    "\\end{array}\n",
    "\\right] =\n",
    "\\left[\n",
    "\\begin{array}{cc}\n",
    "\\sigma_{x} & \\tau^\\mathrm{fps} \\\\\n",
    "\\tau^\\mathrm{fps} & \\sigma_{y}\n",
    "\\end{array}\n",
    "\\right]\n",
    "\\end{align}"
   ]
  },
  {
   "cell_type": "markdown",
   "metadata": {},
   "source": [
    "The global stress components $\\sigma_x$ and $\\sigma_y$ are given based on the equilibrium conditions at the cross sectional level. The shear stress $\\tau^\\mathrm{fps}$ can be calculated either using a cross-sectional equilibrium or based on the compression-tension yield envelope. "
   ]
  },
  {
   "cell_type": "markdown",
   "metadata": {},
   "source": [
    "The crack is assumed to propagate along $\\sigma_2$ and open along $\\sigma_1$, i.e.\n",
    "\\begin{align}\n",
    "\\sigma_{12} =\n",
    "\\left[\n",
    "\\begin{array}{cc}\n",
    "\\sigma_1 & 0 \\\\\n",
    "0 & \\sigma_2\n",
    "\\end{array}\n",
    "\\right]\n",
    "\\end{align}"
   ]
  },
  {
   "cell_type": "code",
   "execution_count": 2,
   "metadata": {},
   "outputs": [],
   "source": [
    "tau_fps, sigma_x, sigma_y = sp.symbols(r'tau_fps, sigma_x, sigma_y')\n",
    "sigma_1, sigma_2 = sp.symbols(r'sigma_1, sigma_2')\n",
    "f_ct, f_cm = sp.symbols(r'f_ct, f_cm', nonnegative=True)"
   ]
  },
  {
   "cell_type": "code",
   "execution_count": 3,
   "metadata": {},
   "outputs": [],
   "source": [
    "sigma_xy = sp.Matrix([[sigma_x, tau_fps],\n",
    "                     [tau_fps, sigma_y]])\n",
    "sigma_12 = sp.Matrix([[sigma_1, 0],\n",
    "                      [0, sigma_2]])"
   ]
  },
  {
   "cell_type": "code",
   "execution_count": 4,
   "metadata": {},
   "outputs": [
    {
     "data": {
      "image/png": "[encoded data removed]",
      "text/latex": [
       "$\\displaystyle \\left( \\left[\\begin{matrix}\\frac{\\sigma_{x} - \\sigma_{y} - \\sqrt{\\sigma_{x}^{2} - 2 \\sigma_{x} \\sigma_{y} + \\sigma_{y}^{2} + 4 \\tau_{fps}^{2}}}{2 \\tau_{fps}} & \\frac{\\sigma_{x} - \\sigma_{y} + \\sqrt{\\sigma_{x}^{2} - 2 \\sigma_{x} \\sigma_{y} + \\sigma_{y}^{2} + 4 \\tau_{fps}^{2}}}{2 \\tau_{fps}}\\\\1 & 1\\end{matrix}\\right], \\  \\left[\\begin{matrix}\\frac{\\sigma_{x}}{2} + \\frac{\\sigma_{y}}{2} - \\frac{\\sqrt{\\sigma_{x}^{2} - 2 \\sigma_{x} \\sigma_{y} + \\sigma_{y}^{2} + 4 \\tau_{fps}^{2}}}{2} & 0\\\\0 & \\frac{\\sigma_{x}}{2} + \\frac{\\sigma_{y}}{2} + \\frac{\\sqrt{\\sigma_{x}^{2} - 2 \\sigma_{x} \\sigma_{y} + \\sigma_{y}^{2} + 4 \\tau_{fps}^{2}}}{2}\\end{matrix}\\right]\\right)$"
      ],
      "text/plain": [
       "⎛                                                                             \n",
       "⎜                                                                             \n",
       "⎜⎡              __________________________________                ____________\n",
       "⎜⎢             ╱   2                 2          2                ╱   2        \n",
       "⎜⎢σₓ - σ_y - ╲╱  σₓ  - 2⋅σₓ⋅σ_y + σ_y  + 4⋅τ_fps    σₓ - σ_y + ╲╱  σₓ  - 2⋅σₓ⋅\n",
       "⎜⎢────────────────────────────────────────────────  ──────────────────────────\n",
       "⎜⎢                    2⋅τ_fps                                           2⋅τ_fp\n",
       "⎜⎢                                                                            \n",
       "⎜⎣                       1                                                 1  \n",
       "⎜                                                                             \n",
       "⎝                                                                             \n",
       "\n",
       "                         ⎡              __________________________________    \n",
       "                         ⎢             ╱   2                 2          2     \n",
       "______________________⎤  ⎢σₓ   σ_y   ╲╱  σₓ  - 2⋅σₓ⋅σ_y + σ_y  + 4⋅τ_fps      \n",
       "         2          2 ⎥  ⎢── + ─── - ─────────────────────────────────────    \n",
       "σ_y + σ_y  + 4⋅τ_fps  ⎥  ⎢2     2                      2                      \n",
       "──────────────────────⎥, ⎢                                                    \n",
       "s                     ⎥  ⎢                                                    \n",
       "                      ⎥  ⎢                                                    \n",
       "                      ⎦  ⎢                                                  σₓ\n",
       "                         ⎢                       0                          ──\n",
       "                         ⎣                                                  2 \n",
       "\n",
       "                                              ⎤⎞\n",
       "                                              ⎥⎟\n",
       "                                              ⎥⎟\n",
       "                     0                        ⎥⎟\n",
       "                                              ⎥⎟\n",
       "                                              ⎥⎟\n",
       "            __________________________________⎥⎟\n",
       "           ╱   2                 2          2 ⎥⎟\n",
       "   σ_y   ╲╱  σₓ  - 2⋅σₓ⋅σ_y + σ_y  + 4⋅τ_fps  ⎥⎟\n",
       " + ─── + ─────────────────────────────────────⎥⎟\n",
       "    2                      2                  ⎦⎠"
      ]
     },
     "execution_count": 4,
     "metadata": {},
     "output_type": "execute_result"
    }
   ],
   "source": [
    "P_xy, D_xy = sigma_xy.diagonalize()\n",
    "P_xy, D_xy"
   ]
  },
  {
   "cell_type": "markdown",
   "metadata": {},
   "source": [
    "## Kupfer envelope on combined tension and compression"
   ]
  },
  {
   "cell_type": "code",
   "execution_count": 5,
   "metadata": {},
   "outputs": [
    {
     "data": {
      "image/png": "[encoded data removed]",
      "text/latex": [
       "$\\displaystyle \\frac{\\sigma_{2}}{f_{ct}} - \\frac{4 \\sigma_{1}}{5 f_{cm}} = 1$"
      ],
      "text/plain": [
       " σ₂     4⋅σ₁     \n",
       "──── - ────── = 1\n",
       "f_ct   5⋅f_cm    "
      ]
     },
     "execution_count": 5,
     "metadata": {},
     "output_type": "execute_result"
    }
   ],
   "source": [
    "Kupfer_ct = sp.Eq(-sp.Rational(8,10) * sigma_1 / f_cm + sigma_2 / f_ct, 1)\n",
    "Kupfer_ct"
   ]
  },
  {
   "cell_type": "code",
   "execution_count": 6,
   "metadata": {},
   "outputs": [
    {
     "data": {
      "image/png": "[encoded data removed]",
      "text/latex": [
       "$\\displaystyle \\frac{5 f_{cm} \\left(- f_{ct} + \\sigma_{2}\\right)}{4 f_{ct}}$"
      ],
      "text/plain": [
       "5⋅f_cm⋅(-f_ct + σ₂)\n",
       "───────────────────\n",
       "       4⋅f_ct      "
      ]
     },
     "execution_count": 6,
     "metadata": {},
     "output_type": "execute_result"
    }
   ],
   "source": [
    "sigma_1_ct_solved = sp.solve(Kupfer_ct, sigma_1)[0]\n",
    "sigma_1_ct_solved"
   ]
  },
  {
   "cell_type": "code",
   "execution_count": 7,
   "metadata": {},
   "outputs": [
    {
     "data": {
      "image/png": "[encoded data removed]",
      "text/latex": [
       "$\\displaystyle \\frac{5 f_{cm} \\left(- f_{ct} + \\sigma_{2}\\right)}{4 f_{ct}} = \\frac{\\sigma_{x}}{2} + \\frac{\\sigma_{y}}{2} - \\frac{\\sqrt{\\sigma_{x}^{2} - 2 \\sigma_{x} \\sigma_{y} + \\sigma_{y}^{2} + 4 \\tau_{fps}^{2}}}{2}$"
      ],
      "text/plain": [
       "                                    __________________________________\n",
       "                                   ╱   2                 2          2 \n",
       "5⋅f_cm⋅(-f_ct + σ₂)   σₓ   σ_y   ╲╱  σₓ  - 2⋅σₓ⋅σ_y + σ_y  + 4⋅τ_fps  \n",
       "─────────────────── = ── + ─── - ─────────────────────────────────────\n",
       "       4⋅f_ct         2     2                      2                  "
      ]
     },
     "execution_count": 7,
     "metadata": {},
     "output_type": "execute_result"
    }
   ],
   "source": [
    "sig_1_ct_eq = sp.Eq(sigma_1_ct_solved, D_xy[0,0])\n",
    "sig_1_ct_eq"
   ]
  },
  {
   "cell_type": "code",
   "execution_count": 8,
   "metadata": {},
   "outputs": [
    {
     "data": {
      "image/png": "[encoded data removed]",
      "text/latex": [
       "$\\displaystyle \\frac{\\sigma_{x}}{2} + \\frac{\\sigma_{y}}{2} + \\frac{\\sqrt{\\sigma_{x}^{2} - 2 \\sigma_{x} \\sigma_{y} + \\sigma_{y}^{2} + 4 \\tau_{fps}^{2}}}{2}$"
      ],
      "text/plain": [
       "              __________________________________\n",
       "             ╱   2                 2          2 \n",
       "σₓ   σ_y   ╲╱  σₓ  - 2⋅σₓ⋅σ_y + σ_y  + 4⋅τ_fps  \n",
       "── + ─── + ─────────────────────────────────────\n",
       "2     2                      2                  "
      ]
     },
     "execution_count": 8,
     "metadata": {},
     "output_type": "execute_result"
    }
   ],
   "source": [
    "sigma_2_xy = D_xy[1,1]\n",
    "sigma_2_xy"
   ]
  },
  {
   "cell_type": "code",
   "execution_count": 10,
   "metadata": {},
   "outputs": [
    {
     "data": {
      "image/png": "[encoded data removed]",
      "text/latex": [
       "$\\displaystyle \\frac{\\sqrt{\\frac{\\left(10 f_{cm} f_{ct} - 5 f_{cm} \\sigma_{x} - 5 f_{cm} \\sigma_{y} + 4 f_{ct} \\sigma_{x} + 4 f_{ct} \\sigma_{y} + \\left(5 f_{cm} + 4 f_{ct}\\right) \\left(- \\sigma_{x} + \\sigma_{y}\\right)\\right) \\left(10 f_{cm} f_{ct} - 5 f_{cm} \\sigma_{x} - 5 f_{cm} \\sigma_{y} + 4 f_{ct} \\sigma_{x} + 4 f_{ct} \\sigma_{y} + \\left(5 f_{cm} + 4 f_{ct}\\right) \\left(\\sigma_{x} - \\sigma_{y}\\right)\\right)}{\\left(5 f_{cm} + 4 f_{ct}\\right)^{2}}}}{2}$"
      ],
      "text/plain": [
       "     _________________________________________________________________________\n",
       "    ╱ (10⋅f_cm⋅f_ct - 5⋅f_cm⋅σₓ - 5⋅f_cm⋅σ_y + 4⋅f_ct⋅σₓ + 4⋅f_ct⋅σ_y + (5⋅f_c\n",
       "   ╱  ────────────────────────────────────────────────────────────────────────\n",
       "  ╱                                                                           \n",
       "╲╱                                                                            \n",
       "──────────────────────────────────────────────────────────────────────────────\n",
       "                                                                              \n",
       "\n",
       "______________________________________________________________________________\n",
       "m + 4⋅f_ct)⋅(-σₓ + σ_y))⋅(10⋅f_cm⋅f_ct - 5⋅f_cm⋅σₓ - 5⋅f_cm⋅σ_y + 4⋅f_ct⋅σₓ + \n",
       "──────────────────────────────────────────────────────────────────────────────\n",
       "                                2                                             \n",
       "               (5⋅f_cm + 4⋅f_ct)                                              \n",
       "──────────────────────────────────────────────────────────────────────────────\n",
       "                     2                                                        \n",
       "\n",
       "___________________________________________\n",
       "4⋅f_ct⋅σ_y + (5⋅f_cm + 4⋅f_ct)⋅(σₓ - σ_y)) \n",
       "────────────────────────────────────────── \n",
       "                                           \n",
       "                                           \n",
       "───────────────────────────────────────────\n",
       "                                           "
      ]
     },
     "execution_count": 10,
     "metadata": {},
     "output_type": "execute_result"
    }
   ],
   "source": [
    "tau_fps_ct_solved = sp.solve(sig_1_ct_eq.subs(sigma_2, sigma_2_xy), tau_fps)[0]\n",
    "tau_fps_ct_solved"
   ]
  },
  {
   "cell_type": "code",
   "execution_count": 11,
   "metadata": {},
   "outputs": [
    {
     "data": {
      "image/png": "[encoded data removed]",
      "text/latex": [
       "$\\displaystyle \\frac{25}{9}$"
      ],
      "text/plain": [
       "25/9"
      ]
     },
     "execution_count": 11,
     "metadata": {},
     "output_type": "execute_result"
    }
   ],
   "source": [
    "tau_fps_ct_solved.subs({sigma_x:0, sigma_y:0, f_ct:3, f_cm:30})"
   ]
  },
  {
   "cell_type": "code",
   "execution_count": 12,
   "metadata": {},
   "outputs": [
    {
     "data": {
      "image/png": "[encoded data removed]",
      "text/latex": [
       "$\\displaystyle \\sigma_{1}^{2} + \\sigma_{2}^{2} = f_{ct}^{2}$"
      ],
      "text/plain": [
       "  2     2       2\n",
       "σ₁  + σ₂  = f_ct "
      ]
     },
     "execution_count": 12,
     "metadata": {},
     "output_type": "execute_result"
    }
   ],
   "source": [
    "Kupfer_tt = sp.Eq(sigma_1**2 + sigma_2**2, f_ct**2)\n",
    "Kupfer_tt"
   ]
  },
  {
   "cell_type": "code",
   "execution_count": 13,
   "metadata": {},
   "outputs": [
    {
     "data": {
      "image/png": "[encoded data removed]",
      "text/latex": [
       "$\\displaystyle - \\sqrt{\\left(f_{ct} - \\sigma_{2}\\right) \\left(f_{ct} + \\sigma_{2}\\right)}$"
      ],
      "text/plain": [
       "   _________________________\n",
       "-╲╱ (f_ct - σ₂)⋅(f_ct + σ₂) "
      ]
     },
     "execution_count": 13,
     "metadata": {},
     "output_type": "execute_result"
    }
   ],
   "source": [
    "sigma_1_tt_solved = sp.solve(Kupfer_tt, sigma_1)[0]\n",
    "sigma_1_tt_solved"
   ]
  },
  {
   "cell_type": "code",
   "execution_count": 14,
   "metadata": {},
   "outputs": [
    {
     "data": {
      "image/png": "[encoded data removed]",
      "text/latex": [
       "$\\displaystyle - \\sqrt{\\left(f_{ct} - \\sigma_{2}\\right) \\left(f_{ct} + \\sigma_{2}\\right)} = \\frac{\\sigma_{x}}{2} + \\frac{\\sigma_{y}}{2} - \\frac{\\sqrt{\\sigma_{x}^{2} - 2 \\sigma_{x} \\sigma_{y} + \\sigma_{y}^{2} + 4 \\tau_{fps}^{2}}}{2}$"
      ],
      "text/plain": [
       "                                             _________________________________\n",
       "                                            ╱   2                 2          2\n",
       "   _________________________   σₓ   σ_y   ╲╱  σₓ  - 2⋅σₓ⋅σ_y + σ_y  + 4⋅τ_fps \n",
       "-╲╱ (f_ct - σ₂)⋅(f_ct + σ₂)  = ── + ─── - ────────────────────────────────────\n",
       "                               2     2                      2                 \n",
       "\n",
       "_\n",
       " \n",
       " \n",
       "─\n",
       " "
      ]
     },
     "execution_count": 14,
     "metadata": {},
     "output_type": "execute_result"
    }
   ],
   "source": [
    "sig_1_tt_eq = sp.Eq(sigma_1_tt_solved, D_xy[0,0])\n",
    "sig_1_tt_eq"
   ]
  },
  {
   "cell_type": "code",
   "execution_count": 15,
   "metadata": {},
   "outputs": [
    {
     "data": {
      "image/png": "[encoded data removed]",
      "text/latex": [
       "$\\displaystyle - \\frac{\\sqrt{2} \\sqrt{f_{ct}^{2} - \\sigma_{x}^{2} - \\sigma_{y}^{2}}}{2}$"
      ],
      "text/plain": [
       "       ____________________ \n",
       "      ╱     2     2      2  \n",
       "-√2⋅╲╱  f_ct  - σₓ  - σ_y   \n",
       "────────────────────────────\n",
       "             2              "
      ]
     },
     "execution_count": 15,
     "metadata": {},
     "output_type": "execute_result"
    }
   ],
   "source": [
    "tau_fps_tt_solved = sp.solve(sig_1_tt_eq.subs(sigma_2, D_xy[1,1]), tau_fps)[0]\n",
    "tau_fps_tt_solved"
   ]
  },
  {
   "cell_type": "code",
   "execution_count": 16,
   "metadata": {},
   "outputs": [
    {
     "data": {
      "image/png": "[encoded data removed]",
      "text/latex": [
       "$\\displaystyle - \\frac{3 \\sqrt{2}}{2}$"
      ],
      "text/plain": [
       "-3⋅√2 \n",
       "──────\n",
       "  2   "
      ]
     },
     "execution_count": 16,
     "metadata": {},
     "output_type": "execute_result"
    }
   ],
   "source": [
    "tau_fps_tt_solved.subs({sigma_x:0, sigma_y:0, f_ct:3, f_cm:30})"
   ]
  },
  {
   "cell_type": "code",
   "execution_count": 17,
   "metadata": {},
   "outputs": [
    {
     "data": {
      "image/png": "[encoded data removed]",
      "text/latex": [
       "$\\displaystyle \\begin{cases} \\frac{\\sqrt{\\frac{\\left(10 f_{cm} f_{ct} - 5 f_{cm} \\sigma_{x} - 5 f_{cm} \\sigma_{y} + 4 f_{ct} \\sigma_{x} + 4 f_{ct} \\sigma_{y} + \\left(5 f_{cm} + 4 f_{ct}\\right) \\left(- \\sigma_{x} + \\sigma_{y}\\right)\\right) \\left(10 f_{cm} f_{ct} - 5 f_{cm} \\sigma_{x} - 5 f_{cm} \\sigma_{y} + 4 f_{ct} \\sigma_{x} + 4 f_{ct} \\sigma_{y} + \\left(5 f_{cm} + 4 f_{ct}\\right) \\left(\\sigma_{x} - \\sigma_{y}\\right)\\right)}{\\left(5 f_{cm} + 4 f_{ct}\\right)^{2}}}}{2} & \\text{for}\\: \\frac{\\sigma_{x}}{2} + \\frac{\\sigma_{y}}{2} + \\frac{\\sqrt{\\sigma_{x}^{2} - 2 \\sigma_{x} \\sigma_{y} + \\sigma_{y}^{2} + 4 \\tau_{fps}^{2}}}{2} \\leq 0 \\\\- \\frac{\\sqrt{2} \\sqrt{f_{ct}^{2} - \\sigma_{x}^{2} - \\sigma_{y}^{2}}}{2} & \\text{otherwise} \\end{cases}$"
      ],
      "text/plain": [
       "⎧     ________________________________________________________________________\n",
       "⎪    ╱ (10⋅f_cm⋅f_ct - 5⋅f_cm⋅σₓ - 5⋅f_cm⋅σ_y + 4⋅f_ct⋅σₓ + 4⋅f_ct⋅σ_y + (5⋅f_\n",
       "⎪   ╱  ───────────────────────────────────────────────────────────────────────\n",
       "⎪  ╱                                                                          \n",
       "⎪╲╱                                                                           \n",
       "⎪─────────────────────────────────────────────────────────────────────────────\n",
       "⎨                                                                             \n",
       "⎪                                                                             \n",
       "⎪                                                                             \n",
       "⎪                                                                             \n",
       "⎪                                                                             \n",
       "⎪                                                                             \n",
       "⎩                                                                             \n",
       "\n",
       "______________________________________________________________________________\n",
       "cm + 4⋅f_ct)⋅(-σₓ + σ_y))⋅(10⋅f_cm⋅f_ct - 5⋅f_cm⋅σₓ - 5⋅f_cm⋅σ_y + 4⋅f_ct⋅σₓ +\n",
       "──────────────────────────────────────────────────────────────────────────────\n",
       "                                 2                                            \n",
       "                (5⋅f_cm + 4⋅f_ct)                                             \n",
       "──────────────────────────────────────────────────────────────────────────────\n",
       "                      2                                                       \n",
       "                                                                              \n",
       "               ____________________                                           \n",
       "              ╱     2     2      2                                            \n",
       "        -√2⋅╲╱  f_ct  - σₓ  - σ_y                                             \n",
       "        ────────────────────────────                                          \n",
       "                     2                                                        \n",
       "\n",
       "____________________________________________                                  \n",
       " 4⋅f_ct⋅σ_y + (5⋅f_cm + 4⋅f_ct)⋅(σₓ - σ_y))                                   \n",
       "───────────────────────────────────────────                     ______________\n",
       "                                                               ╱   2          \n",
       "                                                  σₓ   σ_y   ╲╱  σₓ  - 2⋅σₓ⋅σ_\n",
       "────────────────────────────────────────────  for ── + ─── + ─────────────────\n",
       "                                                  2     2                     \n",
       "                                                                              \n",
       "                                                                              \n",
       "                                                                              \n",
       "                                                                              \n",
       "                                                                     otherwise\n",
       "                                                                              \n",
       "\n",
       "                        \n",
       "                        \n",
       "____________________    \n",
       "       2          2     \n",
       "y + σ_y  + 4⋅τ_fps      \n",
       "──────────────────── ≤ 0\n",
       " 2                      \n",
       "                        \n",
       "                        \n",
       "                        \n",
       "                        \n",
       "                        \n",
       "                        "
      ]
     },
     "execution_count": 17,
     "metadata": {},
     "output_type": "execute_result"
    }
   ],
   "source": [
    "tau_fps_solved = sp.Piecewise( \n",
    "    (tau_fps_ct_solved, sigma_2_xy <=0),\n",
    "    (tau_fps_tt_solved, True)\n",
    ")\n",
    "tau_fps_solved"
   ]
  },
  {
   "cell_type": "code",
   "execution_count": 18,
   "metadata": {},
   "outputs": [],
   "source": [
    "params = (sigma_x, sigma_y, f_ct, f_cm)"
   ]
  },
  {
   "cell_type": "code",
   "execution_count": 19,
   "metadata": {},
   "outputs": [
    {
     "data": {
      "image/png": "[encoded data removed]",
      "text/latex": [
       "$\\displaystyle \\begin{cases} \\frac{25}{9} & \\text{for}\\: \\sqrt{\\tau_{fps}^{2}} \\leq 0 \\\\- \\frac{3 \\sqrt{2}}{2} & \\text{otherwise} \\end{cases}$"
      ],
      "text/plain": [
       "⎧               ________    \n",
       "⎪              ╱      2     \n",
       "⎪ 25/9   for ╲╱  τ_fps   ≤ 0\n",
       "⎨                           \n",
       "⎪-3⋅√2                      \n",
       "⎪──────       otherwise     \n",
       "⎩  2                        "
      ]
     },
     "execution_count": 19,
     "metadata": {},
     "output_type": "execute_result"
    }
   ],
   "source": [
    "tau_fps_solved.subs({sigma_x:0, sigma_y:0, f_ct:3, f_cm:30})"
   ]
  },
  {
   "cell_type": "code",
   "execution_count": 20,
   "metadata": {},
   "outputs": [
    {
     "ename": "TypeError",
     "evalue": "loop of ufunc does not support argument 0 of type Add which has no callable sqrt method",
     "output_type": "error",
     "traceback": [
      "\u001b[1;31m---------------------------------------------------------------------------\u001b[0m",
      "\u001b[1;31mAttributeError\u001b[0m                            Traceback (most recent call last)",
      "\u001b[1;31mAttributeError\u001b[0m: 'Add' object has no attribute 'sqrt'",
      "\nThe above exception was the direct cause of the following exception:\n",
      "\u001b[1;31mTypeError\u001b[0m                                 Traceback (most recent call last)",
      "\u001b[1;32m<ipython-input-20-a9c8252a3574>\u001b[0m in \u001b[0;36m<module>\u001b[1;34m\u001b[0m\n\u001b[0;32m      1\u001b[0m \u001b[0mget_tau_fps\u001b[0m \u001b[1;33m=\u001b[0m \u001b[0msp\u001b[0m\u001b[1;33m.\u001b[0m\u001b[0mlambdify\u001b[0m\u001b[1;33m(\u001b[0m\u001b[0mparams\u001b[0m\u001b[1;33m,\u001b[0m \u001b[0mtau_fps_solved\u001b[0m\u001b[1;33m,\u001b[0m \u001b[1;34m'numpy'\u001b[0m\u001b[1;33m)\u001b[0m\u001b[1;33m\u001b[0m\u001b[1;33m\u001b[0m\u001b[0m\n\u001b[1;32m----> 2\u001b[1;33m \u001b[0mget_tau_fps\u001b[0m\u001b[1;33m(\u001b[0m\u001b[1;36m0\u001b[0m\u001b[1;33m,\u001b[0m\u001b[1;33m-\u001b[0m\u001b[1;36m37.5\u001b[0m\u001b[1;33m,\u001b[0m\u001b[1;36m3\u001b[0m\u001b[1;33m,\u001b[0m\u001b[1;36m30\u001b[0m\u001b[1;33m)\u001b[0m\u001b[1;33m\u001b[0m\u001b[1;33m\u001b[0m\u001b[0m\n\u001b[0m",
      "\u001b[1;32m<lambdifygenerated-1>\u001b[0m in \u001b[0;36m_lambdifygenerated\u001b[1;34m(sigma_x, sigma_y, f_ct, f_cm)\u001b[0m\n\u001b[0;32m      1\u001b[0m \u001b[1;32mdef\u001b[0m \u001b[0m_lambdifygenerated\u001b[0m\u001b[1;33m(\u001b[0m\u001b[0msigma_x\u001b[0m\u001b[1;33m,\u001b[0m \u001b[0msigma_y\u001b[0m\u001b[1;33m,\u001b[0m \u001b[0mf_ct\u001b[0m\u001b[1;33m,\u001b[0m \u001b[0mf_cm\u001b[0m\u001b[1;33m)\u001b[0m\u001b[1;33m:\u001b[0m\u001b[1;33m\u001b[0m\u001b[1;33m\u001b[0m\u001b[0m\n\u001b[1;32m----> 2\u001b[1;33m     \u001b[1;32mreturn\u001b[0m \u001b[0mselect\u001b[0m\u001b[1;33m(\u001b[0m\u001b[1;33m[\u001b[0m\u001b[0mless_equal\u001b[0m\u001b[1;33m(\u001b[0m\u001b[1;33m(\u001b[0m\u001b[1;36m1\u001b[0m\u001b[1;33m/\u001b[0m\u001b[1;36m2\u001b[0m\u001b[1;33m)\u001b[0m\u001b[1;33m*\u001b[0m\u001b[0msigma_x\u001b[0m \u001b[1;33m+\u001b[0m \u001b[1;33m(\u001b[0m\u001b[1;36m1\u001b[0m\u001b[1;33m/\u001b[0m\u001b[1;36m2\u001b[0m\u001b[1;33m)\u001b[0m\u001b[1;33m*\u001b[0m\u001b[0msigma_y\u001b[0m \u001b[1;33m+\u001b[0m \u001b[1;33m(\u001b[0m\u001b[1;36m1\u001b[0m\u001b[1;33m/\u001b[0m\u001b[1;36m2\u001b[0m\u001b[1;33m)\u001b[0m\u001b[1;33m*\u001b[0m\u001b[0msqrt\u001b[0m\u001b[1;33m(\u001b[0m\u001b[0msigma_x\u001b[0m\u001b[1;33m**\u001b[0m\u001b[1;36m2\u001b[0m \u001b[1;33m-\u001b[0m \u001b[1;36m2\u001b[0m\u001b[1;33m*\u001b[0m\u001b[0msigma_x\u001b[0m\u001b[1;33m*\u001b[0m\u001b[0msigma_y\u001b[0m \u001b[1;33m+\u001b[0m \u001b[0msigma_y\u001b[0m\u001b[1;33m**\u001b[0m\u001b[1;36m2\u001b[0m \u001b[1;33m+\u001b[0m \u001b[1;36m4\u001b[0m\u001b[1;33m*\u001b[0m\u001b[0mtau_fps\u001b[0m\u001b[1;33m**\u001b[0m\u001b[1;36m2\u001b[0m\u001b[1;33m)\u001b[0m\u001b[1;33m,\u001b[0m \u001b[1;36m0\u001b[0m\u001b[1;33m)\u001b[0m\u001b[1;33m,\u001b[0m\u001b[1;32mTrue\u001b[0m\u001b[1;33m]\u001b[0m\u001b[1;33m,\u001b[0m \u001b[1;33m[\u001b[0m\u001b[1;33m(\u001b[0m\u001b[1;36m1\u001b[0m\u001b[1;33m/\u001b[0m\u001b[1;36m2\u001b[0m\u001b[1;33m)\u001b[0m\u001b[1;33m*\u001b[0m\u001b[0msqrt\u001b[0m\u001b[1;33m(\u001b[0m\u001b[1;33m(\u001b[0m\u001b[1;36m10\u001b[0m\u001b[1;33m*\u001b[0m\u001b[0mf_cm\u001b[0m\u001b[1;33m*\u001b[0m\u001b[0mf_ct\u001b[0m \u001b[1;33m-\u001b[0m \u001b[1;36m5\u001b[0m\u001b[1;33m*\u001b[0m\u001b[0mf_cm\u001b[0m\u001b[1;33m*\u001b[0m\u001b[0msigma_x\u001b[0m \u001b[1;33m-\u001b[0m \u001b[1;36m5\u001b[0m\u001b[1;33m*\u001b[0m\u001b[0mf_cm\u001b[0m\u001b[1;33m*\u001b[0m\u001b[0msigma_y\u001b[0m \u001b[1;33m+\u001b[0m \u001b[1;36m4\u001b[0m\u001b[1;33m*\u001b[0m\u001b[0mf_ct\u001b[0m\u001b[1;33m*\u001b[0m\u001b[0msigma_x\u001b[0m \u001b[1;33m+\u001b[0m \u001b[1;36m4\u001b[0m\u001b[1;33m*\u001b[0m\u001b[0mf_ct\u001b[0m\u001b[1;33m*\u001b[0m\u001b[0msigma_y\u001b[0m \u001b[1;33m+\u001b[0m \u001b[1;33m(\u001b[0m\u001b[1;36m5\u001b[0m\u001b[1;33m*\u001b[0m\u001b[0mf_cm\u001b[0m \u001b[1;33m+\u001b[0m \u001b[1;36m4\u001b[0m\u001b[1;33m*\u001b[0m\u001b[0mf_ct\u001b[0m\u001b[1;33m)\u001b[0m\u001b[1;33m*\u001b[0m\u001b[1;33m(\u001b[0m\u001b[1;33m-\u001b[0m\u001b[0msigma_x\u001b[0m \u001b[1;33m+\u001b[0m \u001b[0msigma_y\u001b[0m\u001b[1;33m)\u001b[0m\u001b[1;33m)\u001b[0m\u001b[1;33m*\u001b[0m\u001b[1;33m(\u001b[0m\u001b[1;36m10\u001b[0m\u001b[1;33m*\u001b[0m\u001b[0mf_cm\u001b[0m\u001b[1;33m*\u001b[0m\u001b[0mf_ct\u001b[0m \u001b[1;33m-\u001b[0m \u001b[1;36m5\u001b[0m\u001b[1;33m*\u001b[0m\u001b[0mf_cm\u001b[0m\u001b[1;33m*\u001b[0m\u001b[0msigma_x\u001b[0m \u001b[1;33m-\u001b[0m \u001b[1;36m5\u001b[0m\u001b[1;33m*\u001b[0m\u001b[0mf_cm\u001b[0m\u001b[1;33m*\u001b[0m\u001b[0msigma_y\u001b[0m \u001b[1;33m+\u001b[0m \u001b[1;36m4\u001b[0m\u001b[1;33m*\u001b[0m\u001b[0mf_ct\u001b[0m\u001b[1;33m*\u001b[0m\u001b[0msigma_x\u001b[0m \u001b[1;33m+\u001b[0m \u001b[1;36m4\u001b[0m\u001b[1;33m*\u001b[0m\u001b[0mf_ct\u001b[0m\u001b[1;33m*\u001b[0m\u001b[0msigma_y\u001b[0m \u001b[1;33m+\u001b[0m \u001b[1;33m(\u001b[0m\u001b[1;36m5\u001b[0m\u001b[1;33m*\u001b[0m\u001b[0mf_cm\u001b[0m \u001b[1;33m+\u001b[0m \u001b[1;36m4\u001b[0m\u001b[1;33m*\u001b[0m\u001b[0mf_ct\u001b[0m\u001b[1;33m)\u001b[0m\u001b[1;33m*\u001b[0m\u001b[1;33m(\u001b[0m\u001b[0msigma_x\u001b[0m \u001b[1;33m-\u001b[0m \u001b[0msigma_y\u001b[0m\u001b[1;33m)\u001b[0m\u001b[1;33m)\u001b[0m\u001b[1;33m/\u001b[0m\u001b[1;33m(\u001b[0m\u001b[1;36m5\u001b[0m\u001b[1;33m*\u001b[0m\u001b[0mf_cm\u001b[0m \u001b[1;33m+\u001b[0m \u001b[1;36m4\u001b[0m\u001b[1;33m*\u001b[0m\u001b[0mf_ct\u001b[0m\u001b[1;33m)\u001b[0m\u001b[1;33m**\u001b[0m\u001b[1;36m2\u001b[0m\u001b[1;33m)\u001b[0m\u001b[1;33m,\u001b[0m\u001b[1;33m-\u001b[0m\u001b[1;36m1\u001b[0m\u001b[1;33m/\u001b[0m\u001b[1;36m2\u001b[0m\u001b[1;33m*\u001b[0m\u001b[0msqrt\u001b[0m\u001b[1;33m(\u001b[0m\u001b[1;36m2\u001b[0m\u001b[1;33m)\u001b[0m\u001b[1;33m*\u001b[0m\u001b[0msqrt\u001b[0m\u001b[1;33m(\u001b[0m\u001b[0mf_ct\u001b[0m\u001b[1;33m**\u001b[0m\u001b[1;36m2\u001b[0m \u001b[1;33m-\u001b[0m \u001b[0msigma_x\u001b[0m\u001b[1;33m**\u001b[0m\u001b[1;36m2\u001b[0m \u001b[1;33m-\u001b[0m \u001b[0msigma_y\u001b[0m\u001b[1;33m**\u001b[0m\u001b[1;36m2\u001b[0m\u001b[1;33m)\u001b[0m\u001b[1;33m]\u001b[0m\u001b[1;33m,\u001b[0m \u001b[0mdefault\u001b[0m\u001b[1;33m=\u001b[0m\u001b[0mnan\u001b[0m\u001b[1;33m)\u001b[0m\u001b[1;33m\u001b[0m\u001b[1;33m\u001b[0m\u001b[0m\n\u001b[0m",
      "\u001b[1;31mTypeError\u001b[0m: loop of ufunc does not support argument 0 of type Add which has no callable sqrt method"
     ]
    }
   ],
   "source": [
    "get_tau_fps = sp.lambdify(params, tau_fps_solved, 'numpy')\n",
    "get_tau_fps(0,-37.5,3,30)"
   ]
  },
  {
   "cell_type": "markdown",
   "metadata": {},
   "source": [
    "The consequence of using the Kupfer criterion for the determination of the shear stress at the crack tip is that the currently used evaluation of the critical strain cannot be calculated as \n",
    "$$\n",
    "w_\\mathrm{cr} = \\frac{1}{E_\\mathrm{cr}} \\sigma_2 L_\\mathrm{c}\n",
    "$$\n",
    "as done so far. The question is, if the currently used criterion \n",
    "on the principle stress direction could be modified to search for a consistent\n",
    "value of the shear stress at the crack tip within the stress tensor. \n",
    "Then, $w_\\mathrm{cr}$ could be expressed in terms of the stress state \n",
    "$$\n",
    " \\varepsilon_{ab} = C_{abcd} \\sigma_{cd} \n",
    "$$\n",
    "The crack opening would be obtained as the principle strain distributed over a predefined length $L_\\mathrm{c}$."
   ]
  },
  {
   "cell_type": "markdown",
   "metadata": {},
   "source": [
    "$$\n",
    "\\varepsilon_{12} = P_{ab} \\varepsilon_{bc} P_{cd}\n",
    "$$"
   ]
  },
  {
   "cell_type": "markdown",
   "metadata": {},
   "source": [
    "$$\n",
    "w_\\mathrm{cr} = \\varepsilon_{2} L_\\mathrm{c}\n",
    "$$"
   ]
  },
  {
   "cell_type": "markdown",
   "metadata": {},
   "source": [
    "## Principle direction"
   ]
  },
  {
   "cell_type": "code",
   "execution_count": 57,
   "metadata": {},
   "outputs": [
    {
     "data": {
      "image/png": "[encoded data removed]",
      "text/latex": [
       "$\\displaystyle \\operatorname{atan}{\\left(\\frac{2 \\tau_{fps}}{\\sigma_{x} - \\sigma_{y} + \\sqrt{\\sigma_{x}^{2} - 2 \\sigma_{x} \\sigma_{y} + \\sigma_{y}^{2} + 4 \\tau_{fps}^{2}}} \\right)}$"
      ],
      "text/plain": [
       "    ⎛                    2⋅τ_fps                     ⎞\n",
       "atan⎜────────────────────────────────────────────────⎟\n",
       "    ⎜              __________________________________⎟\n",
       "    ⎜             ╱   2                 2          2 ⎟\n",
       "    ⎝σₓ - σ_y + ╲╱  σₓ  - 2⋅σₓ⋅σ_y + σ_y  + 4⋅τ_fps  ⎠"
      ]
     },
     "execution_count": 57,
     "metadata": {},
     "output_type": "execute_result"
    }
   ],
   "source": [
    "theta_f = sp.atan( sp.simplify(-P_xy[0,0] / P_xy[1,0]))\n",
    "theta_f"
   ]
  },
  {
   "cell_type": "code",
   "execution_count": 58,
   "metadata": {},
   "outputs": [],
   "source": [
    "get_theta = sp.lambdify(params, theta_f, 'numpy')"
   ]
  },
  {
   "cell_type": "code",
   "execution_count": 59,
   "metadata": {},
   "outputs": [
    {
     "data": {
      "image/png": "[encoded data removed]",
      "text/latex": [
       "$\\displaystyle 3.68848726059952$"
      ],
      "text/plain": [
       "3.6884872605995183"
      ]
     },
     "execution_count": 59,
     "metadata": {},
     "output_type": "execute_result"
    }
   ],
   "source": [
    "#_, ax = plt.subplots(1,1)\n",
    "f_cm_, f_ct_ = 30, 3\n",
    "get_tau_fps(0,1,f_cm_,f_ct_)"
   ]
  },
  {
   "cell_type": "markdown",
   "metadata": {},
   "source": [
    "# Implementation \n",
    "\n",
    " - Evaluate $\\tau_\\mathrm{fps}$ using the bi-axial stress envelope `crack_tip_stress/orientation`\n",
    " - Access the values of `f_t` and `f_c`\n",
    " - Control the w_cr in each iteration"
   ]
  },
  {
   "cell_type": "markdown",
   "metadata": {},
   "source": [
    "## Provide an alternative model component for `crack_tip_shear_stress`.\n",
    "\n",
    "- `CrackTipShearStressCSE`\n",
    "- `CrackTipShearStressBAC`"
   ]
  },
  {
   "cell_type": "code",
   "execution_count": null,
   "metadata": {},
   "outputs": [],
   "source": []
  }
 ],
 "metadata": {
  "kernelspec": {
   "display_name": "Python 3",
   "language": "python",
   "name": "python3"
  },
  "language_info": {
   "codemirror_mode": {
    "name": "ipython",
    "version": 3
   },
   "file_extension": ".py",
   "mimetype": "text/x-python",
   "name": "python",
   "nbconvert_exporter": "python",
   "pygments_lexer": "ipython3",
   "version": "3.9.1"
  }
 },
 "nbformat": 4,
 "nbformat_minor": 4
}
