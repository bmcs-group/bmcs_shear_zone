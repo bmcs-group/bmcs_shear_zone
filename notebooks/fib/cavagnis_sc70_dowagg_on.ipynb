{
 "cells": [
  {
   "cell_type": "code",
   "execution_count": 7,
   "metadata": {},
   "outputs": [],
   "source": [
    "%matplotlib widget  \n",
    "import numpy as np\n",
    "import bmcs_utils.api as bu\n",
    "from bmcs_cross_section.api import ReinfLayer\n",
    "from bmcs_shear.api import CrackBridgeAdv\n",
    "from bmcs_shear.shear_crack.crack_propagation import CrackPropagation\n",
    "ce = CrackPropagation(n_seg=200)\n",
    "ce.sz_bd.Rectangle = True\n",
    "ce.sz_bd.matrix='advanced'\n",
    "ce.sz_bd.matrix_.trait_set(f_t = 0.3 * 33.3 **(2/3), f_c = 33.3, d_a = 16, E_c = 28000, L_fps = 80, interlock_factor = 1) \n",
    "\n",
    "\n",
    "ce.sz_bd.trait_set(H=600, B=250, L=3850)\n",
    "ce.sz_cp.trait_set(x_00=ce.sz_bd.L * 0.9, n_m = 12)\n",
    "ce.crack_tip_shear_stress.trait_set(L_cs = 300)\n",
    "#ce.sz_cp.sz_ctr.L_fps = 50\n",
    "ce.sz_cp.sz_ctr.trait_set(ell = 2, L_fps = 80)\n",
    "ce.sz_bd.csl.add_layer(CrackBridgeAdv(z=44, n=2, d_s=28, E = 210000, tau = 16, sig_y = 713, dowel_factor = 1, f_c = 33.3))\n",
    "\n",
    "#ce.sz_bd.csl.items[0].d_s = 50\n",
    "\n",
    "# bl1 = ReinfLayer(name='layer1', z=44, A=ce.sz_bd.smm.A_f, matmod='steel')\n",
    "# bl1.matmod_.trait_set(E=ce.sz_bd.smm.E_f, f_t=ce.sz_bd.smm.sig_y)\n",
    "# ce.sz_bd.cross_section_layout.add_layer(bl1)\n",
    "# ce.sz_bd"
   ]
  },
  {
   "cell_type": "code",
   "execution_count": 8,
   "metadata": {
    "scrolled": false
   },
   "outputs": [],
   "source": [
    "#ce.run()"
   ]
  },
  {
   "cell_type": "code",
   "execution_count": 9,
   "metadata": {
    "scrolled": false
   },
   "outputs": [
    {
     "name": "stderr",
     "output_type": "stream",
     "text": [
      "<lambdifygenerated-28>:2: RuntimeWarning: invalid value encountered in sqrt\n",
      "  return (select([less(f_c, -35.7142857142857*d_a**(-0.32)*f_c**(-0.18)*f_t**2*w),less_equal(w, 0.028*d_a**0.32*f_c**0.18/f_t),less_equal(w, 0.14392*d_a**0.32*f_c**0.18/f_t),True], [-f_c,35.7142857142857*d_a**(-0.32)*f_c**(-0.18)*f_t**2*w,f_t*exp(-35.7142857142857*d_a**(-0.32)*f_c**(-0.18)*f_t*(-0.028*d_a**0.32*f_c**0.18/f_t + w)),select([greater(w, 0.028*d_a**0.32*f_c**0.18/f_t)], [-0.62*s*(s**2/w**2 + 1)**(-0.25)*select([less_equal(w, 0),True], [0,0.25*f_c*s*(-sqrt(2)*sqrt(w/d_a) + 1)*((2.44 - 39.04/f_c)*abs(s/w)**3 + 9.8/f_c)/(w*(s**4*(2.44 - 39.04/f_c)/w**4 + 1))], default=nan)/sqrt(w)], default=nan)], default=nan))\n",
      "<lambdifygenerated-29>:2: RuntimeWarning: invalid value encountered in sqrt\n",
      "  return (select([less_equal(w, 0),True], [0,0.25*f_c*s*(-sqrt(2)*sqrt(w/d_a) + 1)*((2.44 - 39.04/f_c)*abs(s/w)**3 + 9.8/f_c)/(w*(s**4*(2.44 - 39.04/f_c)/w**4 + 1))], default=nan))\n",
      "<lambdifygenerated-50>:2: RuntimeWarning: invalid value encountered in sqrt\n",
      "  return (select([less(w, (1/2)*A*Dummy_328**2/(Dummy_329*E*p)),True], [sqrt(2)*sqrt(A)*sqrt(Dummy_329)*sqrt(E)*sqrt(p)*sqrt(w),A*Dummy_328], default=nan))\n"
     ]
    },
    {
     "data": {
      "application/vnd.jupyter.widget-view+json": {
       "model_id": "5dd13c72d487483582432f76049e766c",
       "version_major": 2,
       "version_minor": 0
      },
      "text/plain": [
       "VBox(children=(HBox(children=(VBox(children=(Tree(layout=Layout(align_items='stretch', border='solid 1px black…"
      ]
     },
     "metadata": {},
     "output_type": "display_data"
    },
    {
     "name": "stdout",
     "output_type": "stream",
     "text": [
      "start thread\n"
     ]
    },
    {
     "name": "stderr",
     "output_type": "stream",
     "text": [
      "<lambdifygenerated-28>:2: RuntimeWarning: invalid value encountered in sqrt\n",
      "  return (select([less(f_c, -35.7142857142857*d_a**(-0.32)*f_c**(-0.18)*f_t**2*w),less_equal(w, 0.028*d_a**0.32*f_c**0.18/f_t),less_equal(w, 0.14392*d_a**0.32*f_c**0.18/f_t),True], [-f_c,35.7142857142857*d_a**(-0.32)*f_c**(-0.18)*f_t**2*w,f_t*exp(-35.7142857142857*d_a**(-0.32)*f_c**(-0.18)*f_t*(-0.028*d_a**0.32*f_c**0.18/f_t + w)),select([greater(w, 0.028*d_a**0.32*f_c**0.18/f_t)], [-0.62*s*(s**2/w**2 + 1)**(-0.25)*select([less_equal(w, 0),True], [0,0.25*f_c*s*(-sqrt(2)*sqrt(w/d_a) + 1)*((2.44 - 39.04/f_c)*abs(s/w)**3 + 9.8/f_c)/(w*(s**4*(2.44 - 39.04/f_c)/w**4 + 1))], default=nan)/sqrt(w)], default=nan)], default=nan))\n",
      "<lambdifygenerated-29>:2: RuntimeWarning: invalid value encountered in sqrt\n",
      "  return (select([less_equal(w, 0),True], [0,0.25*f_c*s*(-sqrt(2)*sqrt(w/d_a) + 1)*((2.44 - 39.04/f_c)*abs(s/w)**3 + 9.8/f_c)/(w*(s**4*(2.44 - 39.04/f_c)/w**4 + 1))], default=nan))\n",
      "<lambdifygenerated-50>:2: RuntimeWarning: invalid value encountered in sqrt\n",
      "  return (select([less(w, (1/2)*A*Dummy_328**2/(Dummy_329*E*p)),True], [sqrt(2)*sqrt(A)*sqrt(Dummy_329)*sqrt(E)*sqrt(p)*sqrt(w),A*Dummy_328], default=nan))\n"
     ]
    },
    {
     "name": "stdout",
     "output_type": "stream",
     "text": [
      "no convergence\n",
      "stopped after 0\n"
     ]
    }
   ],
   "source": [
    "ce.interact()"
   ]
  },
  {
   "cell_type": "code",
   "execution_count": 58,
   "metadata": {},
   "outputs": [
    {
     "data": {
      "text/plain": [
       "(138232.49506256825, 552929.980250273, 64, 64, 138232.49506256825)"
      ]
     },
     "execution_count": 58,
     "metadata": {},
     "output_type": "execute_result"
    }
   ],
   "source": [
    "np.max(ce.F_N_delta), np.max(ce.F_beam), np.argmax(ce.F_N_delta), np.argmax(ce.F_beam), ce.F_N_delta[64]"
   ]
  },
  {
   "cell_type": "code",
   "execution_count": 60,
   "metadata": {},
   "outputs": [
    {
     "data": {
      "text/plain": [
       "0.14308062192401394"
      ]
     },
     "execution_count": 60,
     "metadata": {},
     "output_type": "execute_result"
    }
   ],
   "source": [
    "ce.v_n[64]"
   ]
  },
  {
   "cell_type": "code",
   "execution_count": 16,
   "metadata": {},
   "outputs": [
    {
     "data": {
      "text/plain": [
       "(36981.16458374302, 18490.58229187151)"
      ]
     },
     "execution_count": 16,
     "metadata": {},
     "output_type": "execute_result"
    }
   ],
   "source": [
    "ce.Q[117], ce.F_N_delta[117]#/4.5"
   ]
  },
  {
   "cell_type": "code",
   "execution_count": null,
   "metadata": {},
   "outputs": [],
   "source": [
    "ce.F_beam[89]"
   ]
  },
  {
   "cell_type": "code",
   "execution_count": null,
   "metadata": {},
   "outputs": [],
   "source": [
    "ce.sig_z1[89]"
   ]
  },
  {
   "cell_type": "code",
   "execution_count": null,
   "metadata": {},
   "outputs": [],
   "source": [
    "ce.crack_tip_shear_stress.M_cantilever"
   ]
  },
  {
   "cell_type": "code",
   "execution_count": null,
   "metadata": {},
   "outputs": [],
   "source": [
    "import matplotlib.pylab as plt\n",
    "_, ax1 = plt.subplots(1, 1, figsize=(11,4))\n",
    "\n",
    "crack_positions = np.linspace(0.1 * ce.sz_bd.L, 0.9 * ce.sz_bd.L, 9)\n",
    "ax1.plot(ce.x_tip_1n,  ce.sig_x_tip_0, lw= 2, label = r'$\\sigma_{x}$');\n",
    "ax1.plot(ce.x_tip_1n,  ce.tau_x_tip_1k, lw= 2, label = r'$\\tau_{fpz}$')\n",
    "ax1.plot(ce.x_tip_1n,  ce.sig_z1, lw= 2, label = r'$\\sigma_{z}$'); \n",
    "ax1.set_xlabel(r'$\\mathrm{Crack\\,Height}\\,(mm)$'); ax1.set_ylabel(r'$\\mathrm{Stress\\,at\\,crack\\,tip}\\,(N/mm)$');\n",
    "ax1.set_title(r'Stress state at crack tip')\n",
    "ax1.legend()"
   ]
  },
  {
   "cell_type": "code",
   "execution_count": null,
   "metadata": {},
   "outputs": [],
   "source": [
    "import matplotlib.pylab as plt\n",
    "_, ax1 = plt.subplots(1, 1, figsize=(11,4))\n",
    "\n",
    "crack_positions = np.linspace(0.1 * ce.sz_bd.L, 0.9 * ce.sz_bd.L, 9)\n",
    "ax1.plot(ce.x_tip_1n,  ce.sig_x_tip_0, lw= 2, label = r'$\\sigma_{x}$');\n",
    "ax1.plot(ce.x_tip_1n,  ce.tau_x_tip_1k, lw= 2, label = r'$\\tau_{fpz}$')\n",
    "ax1.set_xlabel(r'$\\mathrm{Crack\\,Height}\\,(mm)$'); ax1.set_ylabel(r'$\\mathrm{Stress\\,at\\,crack\\,tip}\\,(N/mm)$');\n",
    "ax1.set_title(r'Stress state at crack tip')\n",
    "ax1.legend()"
   ]
  },
  {
   "cell_type": "code",
   "execution_count": null,
   "metadata": {},
   "outputs": [],
   "source": [
    "ce.crack_tip_shear_stress.tau_x_tip_1k"
   ]
  },
  {
   "cell_type": "code",
   "execution_count": null,
   "metadata": {},
   "outputs": [],
   "source": [
    "ce.crack_tip_shear_stress.sig_x_tip_0"
   ]
  },
  {
   "cell_type": "code",
   "execution_count": null,
   "metadata": {},
   "outputs": [],
   "source": [
    "ce.crack_tip_shear_stress.sig_z1"
   ]
  },
  {
   "cell_type": "code",
   "execution_count": null,
   "metadata": {},
   "outputs": [],
   "source": [
    "ce.crack_tip_shear_stress.sig_z1\n",
    "#ce.crack_tip_shear_stress.tau_x_tip_1k"
   ]
  },
  {
   "cell_type": "code",
   "execution_count": null,
   "metadata": {},
   "outputs": [],
   "source": [
    "ce.sz_stress_profile.M"
   ]
  },
  {
   "cell_type": "code",
   "execution_count": null,
   "metadata": {},
   "outputs": [],
   "source": [
    "ce.sz_stress_profile.F_Na"
   ]
  },
  {
   "cell_type": "code",
   "execution_count": null,
   "metadata": {
    "scrolled": false
   },
   "outputs": [],
   "source": [
    "ce.sz_stress_profile.M"
   ]
  },
  {
   "cell_type": "code",
   "execution_count": null,
   "metadata": {},
   "outputs": [],
   "source": [
    "x_tip_1 = ce.sz_cp.sz_ctr.x_tip_ak[1,0]\n",
    "idx_tip0 = np.argmax(ce.sz_cp.x_Ka[:, 1] >= x_tip_1)\n",
    "H_fpz = 100\n",
    "idx_tip1 = np.argmax(ce.sz_cp.x_Ka[:, 1] >= x_tip_1 + H_fpz)\n",
    "N_c = np.sum(ce.sz_stress_profile.F_La[idx_tip0:idx_tip1, 0])\n",
    "B = ce.sz_bd.B\n",
    "H = ce.sz_bd.H\n",
    "sigma_c = N_c / B / H_fpz\n",
    "sigma_c\n",
    "x_tip_1, idx_tip0"
   ]
  },
  {
   "cell_type": "code",
   "execution_count": null,
   "metadata": {},
   "outputs": [],
   "source": [
    "2850 / ce.sz_bd.B"
   ]
  },
  {
   "cell_type": "code",
   "execution_count": 61,
   "metadata": {},
   "outputs": [
    {
     "name": "stdout",
     "output_type": "stream",
     "text": [
      "**************\n",
      "385.0\n",
      "53.00311028773144\n",
      "**************\n",
      "770.0\n",
      "59.628313107495856\n",
      "**************\n",
      "1155.0\n",
      "68.14458239864324\n",
      "**************\n",
      "1540.0\n",
      "79.50337163954886\n",
      "**************\n",
      "1925.0\n",
      "95.39967121255984\n",
      "**************\n",
      "2310.0\n",
      "119.24658428656124\n",
      "**************\n",
      "2695.0\n",
      "158.9849312489178\n",
      "**************\n",
      "3080.0\n",
      "238.43245146924502\n",
      "**************\n",
      "3465.0\n",
      "476.37535198749873\n"
     ]
    }
   ],
   "source": [
    "import numpy as np\n",
    "import matplotlib.pylab as plt\n",
    "from bmcs_shear.shear_crack.crack_propagation import CrackPropagation\n",
    "n =10\n",
    "ce = CrackPropagation(n_seg=n)\n",
    "ce.sz_bd.Rectangle = True\n",
    "ce.sz_bd.matrix='advanced'\n",
    "ce.sz_bd.matrix_.trait_set(f_t = 0.3 * 33.3 **(2/3), f_c = 33.3, d_a = 16, E_c = 28000, L_fps = 80, interlock_factor = 1) \n",
    "\n",
    "\n",
    "ce.sz_bd.trait_set(H=600, B=250, L=3850)\n",
    "crack_positions = np.linspace(0.1 * ce.sz_bd.L, 0.9 * ce.sz_bd.L, 9)\n",
    "ce.crack_tip_shear_stress.trait_set(L_cs = 200)\n",
    "ce.sz_cp.sz_ctr.L_fps = 80\n",
    "ce.sz_cp.sz_ctr.trait_set(ell = 2)\n",
    "ce.sz_bd.csl.add_layer(CrackBridgeAdv(z=44, n=2, d_s=28, E = 210000, tau = 16, sig_y = 713, dowel_factor = 1, f_c = 33.3))\n",
    "ce.sz_bd\n",
    "#ce.sz_cp.trait_set(x_00=ce.sz_bd.L * 0.9, n_m = 12)\n",
    "#ce.sz_cp.sz_ctr.L_fps = 80\n",
    "#ce.sz_cp.sz_ctr.trait_set(ell = 2)\n",
    "#ce.sz_bd.csl.add_layer(CrackBridgeAdv(z=44, n=2, d_s=28, E = 210000, tau = 16, sig_y = 713))\n",
    "\n",
    "\n",
    "\n",
    "\n",
    "\n",
    "F_beam = []\n",
    "v_beam = []\n",
    "for crack_position in crack_positions:\n",
    "    ce.reset()\n",
    "    ce.sz_cp.trait_set(x_00=crack_position)\n",
    "    ce.run()\n",
    "    F_beam_ = np.array(ce.F_beam) / 1000\n",
    "    v_beam_ = np.array(ce.v_n)\n",
    "    F_beam.append(F_beam_)\n",
    "    v_beam.append(v_beam_)\n",
    "    print('**************')\n",
    "    print(crack_position)\n",
    "    print(np.max(F_beam))"
   ]
  },
  {
   "cell_type": "code",
   "execution_count": 62,
   "metadata": {},
   "outputs": [
    {
     "data": {
      "application/vnd.jupyter.widget-view+json": {
       "model_id": "0ef0ee97dcb04706add5c85cde8a3426",
       "version_major": 2,
       "version_minor": 0
      },
      "text/plain": [
       "Canvas(toolbar=Toolbar(toolitems=[('Home', 'Reset original view', 'home', 'home'), ('Back', 'Back to previous …"
      ]
     },
     "metadata": {},
     "output_type": "display_data"
    },
    {
     "data": {
      "text/plain": [
       "<matplotlib.legend.Legend at 0x24afa614160>"
      ]
     },
     "execution_count": 62,
     "metadata": {},
     "output_type": "execute_result"
    }
   ],
   "source": [
    "import matplotlib.pylab as plt\n",
    "_, ax1 = plt.subplots(1, 1, figsize=(11,4))\n",
    "ax1.plot(v_beam[0],  F_beam[0], lw= 2, label = r'$0.1L$'); #/1000#\n",
    "ax1.plot(v_beam[1],  F_beam[1], lw= 2, label = r'$0.2L$');\n",
    "ax1.plot(v_beam[2],  F_beam[2], lw= 2, label = r'$0.3L$');\n",
    "ax1.plot(v_beam[3],  F_beam[3], lw= 2, label = r'$0.4L$');\n",
    "ax1.plot(v_beam[4],  F_beam[4], lw= 2, label = r'$0.5L$');\n",
    "ax1.plot(v_beam[5],  F_beam[5], lw= 2, label = r'$0.6L$');\n",
    "ax1.plot(v_beam[6],  F_beam[6], lw= 2, label = r'$0.7L$');\n",
    "ax1.plot(v_beam[7],  F_beam[7], lw= 2, label = r'$0.8L$');\n",
    "ax1.plot(v_beam[8],  F_beam[8], lw= 2, label = r'$0.9L$');\n",
    "ax1.set_xlabel(r'$\\mathrm{Deflection\\,(mm)}$'); ax1.set_ylabel(r'$F\\,(kN)$');\n",
    "ax1.set_title(r'Load Deflection')\n",
    "ax1.legend()"
   ]
  },
  {
   "cell_type": "code",
   "execution_count": 63,
   "metadata": {},
   "outputs": [
    {
     "data": {
      "application/vnd.jupyter.widget-view+json": {
       "model_id": "aef6f15a49664d3cb339dcdd111eb8e7",
       "version_major": 2,
       "version_minor": 0
      },
      "text/plain": [
       "Canvas(toolbar=Toolbar(toolitems=[('Home', 'Reset original view', 'home', 'home'), ('Back', 'Back to previous …"
      ]
     },
     "metadata": {},
     "output_type": "display_data"
    },
    {
     "name": "stderr",
     "output_type": "stream",
     "text": [
      "<lambdifygenerated-28>:2: RuntimeWarning: invalid value encountered in sqrt\n",
      "  return (select([less(f_c, -35.7142857142857*d_a**(-0.32)*f_c**(-0.18)*f_t**2*w),less_equal(w, 0.028*d_a**0.32*f_c**0.18/f_t),less_equal(w, 0.14392*d_a**0.32*f_c**0.18/f_t),True], [-f_c,35.7142857142857*d_a**(-0.32)*f_c**(-0.18)*f_t**2*w,f_t*exp(-35.7142857142857*d_a**(-0.32)*f_c**(-0.18)*f_t*(-0.028*d_a**0.32*f_c**0.18/f_t + w)),select([greater(w, 0.028*d_a**0.32*f_c**0.18/f_t)], [-0.62*s*(s**2/w**2 + 1)**(-0.25)*select([less_equal(w, 0),True], [0,0.25*f_c*s*(-sqrt(2)*sqrt(w/d_a) + 1)*((2.44 - 39.04/f_c)*abs(s/w)**3 + 9.8/f_c)/(w*(s**4*(2.44 - 39.04/f_c)/w**4 + 1))], default=nan)/sqrt(w)], default=nan)], default=nan))\n",
      "<lambdifygenerated-29>:2: RuntimeWarning: invalid value encountered in sqrt\n",
      "  return (select([less_equal(w, 0),True], [0,0.25*f_c*s*(-sqrt(2)*sqrt(w/d_a) + 1)*((2.44 - 39.04/f_c)*abs(s/w)**3 + 9.8/f_c)/(w*(s**4*(2.44 - 39.04/f_c)/w**4 + 1))], default=nan))\n",
      "<lambdifygenerated-28>:2: RuntimeWarning: invalid value encountered in sqrt\n",
      "  return (select([less(f_c, -35.7142857142857*d_a**(-0.32)*f_c**(-0.18)*f_t**2*w),less_equal(w, 0.028*d_a**0.32*f_c**0.18/f_t),less_equal(w, 0.14392*d_a**0.32*f_c**0.18/f_t),True], [-f_c,35.7142857142857*d_a**(-0.32)*f_c**(-0.18)*f_t**2*w,f_t*exp(-35.7142857142857*d_a**(-0.32)*f_c**(-0.18)*f_t*(-0.028*d_a**0.32*f_c**0.18/f_t + w)),select([greater(w, 0.028*d_a**0.32*f_c**0.18/f_t)], [-0.62*s*(s**2/w**2 + 1)**(-0.25)*select([less_equal(w, 0),True], [0,0.25*f_c*s*(-sqrt(2)*sqrt(w/d_a) + 1)*((2.44 - 39.04/f_c)*abs(s/w)**3 + 9.8/f_c)/(w*(s**4*(2.44 - 39.04/f_c)/w**4 + 1))], default=nan)/sqrt(w)], default=nan)], default=nan))\n",
      "<lambdifygenerated-29>:2: RuntimeWarning: invalid value encountered in sqrt\n",
      "  return (select([less_equal(w, 0),True], [0,0.25*f_c*s*(-sqrt(2)*sqrt(w/d_a) + 1)*((2.44 - 39.04/f_c)*abs(s/w)**3 + 9.8/f_c)/(w*(s**4*(2.44 - 39.04/f_c)/w**4 + 1))], default=nan))\n",
      "<lambdifygenerated-28>:2: RuntimeWarning: invalid value encountered in sqrt\n",
      "  return (select([less(f_c, -35.7142857142857*d_a**(-0.32)*f_c**(-0.18)*f_t**2*w),less_equal(w, 0.028*d_a**0.32*f_c**0.18/f_t),less_equal(w, 0.14392*d_a**0.32*f_c**0.18/f_t),True], [-f_c,35.7142857142857*d_a**(-0.32)*f_c**(-0.18)*f_t**2*w,f_t*exp(-35.7142857142857*d_a**(-0.32)*f_c**(-0.18)*f_t*(-0.028*d_a**0.32*f_c**0.18/f_t + w)),select([greater(w, 0.028*d_a**0.32*f_c**0.18/f_t)], [-0.62*s*(s**2/w**2 + 1)**(-0.25)*select([less_equal(w, 0),True], [0,0.25*f_c*s*(-sqrt(2)*sqrt(w/d_a) + 1)*((2.44 - 39.04/f_c)*abs(s/w)**3 + 9.8/f_c)/(w*(s**4*(2.44 - 39.04/f_c)/w**4 + 1))], default=nan)/sqrt(w)], default=nan)], default=nan))\n",
      "<lambdifygenerated-29>:2: RuntimeWarning: invalid value encountered in sqrt\n",
      "  return (select([less_equal(w, 0),True], [0,0.25*f_c*s*(-sqrt(2)*sqrt(w/d_a) + 1)*((2.44 - 39.04/f_c)*abs(s/w)**3 + 9.8/f_c)/(w*(s**4*(2.44 - 39.04/f_c)/w**4 + 1))], default=nan))\n",
      "<lambdifygenerated-28>:2: RuntimeWarning: invalid value encountered in sqrt\n",
      "  return (select([less(f_c, -35.7142857142857*d_a**(-0.32)*f_c**(-0.18)*f_t**2*w),less_equal(w, 0.028*d_a**0.32*f_c**0.18/f_t),less_equal(w, 0.14392*d_a**0.32*f_c**0.18/f_t),True], [-f_c,35.7142857142857*d_a**(-0.32)*f_c**(-0.18)*f_t**2*w,f_t*exp(-35.7142857142857*d_a**(-0.32)*f_c**(-0.18)*f_t*(-0.028*d_a**0.32*f_c**0.18/f_t + w)),select([greater(w, 0.028*d_a**0.32*f_c**0.18/f_t)], [-0.62*s*(s**2/w**2 + 1)**(-0.25)*select([less_equal(w, 0),True], [0,0.25*f_c*s*(-sqrt(2)*sqrt(w/d_a) + 1)*((2.44 - 39.04/f_c)*abs(s/w)**3 + 9.8/f_c)/(w*(s**4*(2.44 - 39.04/f_c)/w**4 + 1))], default=nan)/sqrt(w)], default=nan)], default=nan))\n",
      "<lambdifygenerated-29>:2: RuntimeWarning: invalid value encountered in sqrt\n",
      "  return (select([less_equal(w, 0),True], [0,0.25*f_c*s*(-sqrt(2)*sqrt(w/d_a) + 1)*((2.44 - 39.04/f_c)*abs(s/w)**3 + 9.8/f_c)/(w*(s**4*(2.44 - 39.04/f_c)/w**4 + 1))], default=nan))\n",
      "<lambdifygenerated-28>:2: RuntimeWarning: invalid value encountered in sqrt\n",
      "  return (select([less(f_c, -35.7142857142857*d_a**(-0.32)*f_c**(-0.18)*f_t**2*w),less_equal(w, 0.028*d_a**0.32*f_c**0.18/f_t),less_equal(w, 0.14392*d_a**0.32*f_c**0.18/f_t),True], [-f_c,35.7142857142857*d_a**(-0.32)*f_c**(-0.18)*f_t**2*w,f_t*exp(-35.7142857142857*d_a**(-0.32)*f_c**(-0.18)*f_t*(-0.028*d_a**0.32*f_c**0.18/f_t + w)),select([greater(w, 0.028*d_a**0.32*f_c**0.18/f_t)], [-0.62*s*(s**2/w**2 + 1)**(-0.25)*select([less_equal(w, 0),True], [0,0.25*f_c*s*(-sqrt(2)*sqrt(w/d_a) + 1)*((2.44 - 39.04/f_c)*abs(s/w)**3 + 9.8/f_c)/(w*(s**4*(2.44 - 39.04/f_c)/w**4 + 1))], default=nan)/sqrt(w)], default=nan)], default=nan))\n",
      "<lambdifygenerated-29>:2: RuntimeWarning: invalid value encountered in sqrt\n",
      "  return (select([less_equal(w, 0),True], [0,0.25*f_c*s*(-sqrt(2)*sqrt(w/d_a) + 1)*((2.44 - 39.04/f_c)*abs(s/w)**3 + 9.8/f_c)/(w*(s**4*(2.44 - 39.04/f_c)/w**4 + 1))], default=nan))\n",
      "<lambdifygenerated-28>:2: RuntimeWarning: invalid value encountered in sqrt\n",
      "  return (select([less(f_c, -35.7142857142857*d_a**(-0.32)*f_c**(-0.18)*f_t**2*w),less_equal(w, 0.028*d_a**0.32*f_c**0.18/f_t),less_equal(w, 0.14392*d_a**0.32*f_c**0.18/f_t),True], [-f_c,35.7142857142857*d_a**(-0.32)*f_c**(-0.18)*f_t**2*w,f_t*exp(-35.7142857142857*d_a**(-0.32)*f_c**(-0.18)*f_t*(-0.028*d_a**0.32*f_c**0.18/f_t + w)),select([greater(w, 0.028*d_a**0.32*f_c**0.18/f_t)], [-0.62*s*(s**2/w**2 + 1)**(-0.25)*select([less_equal(w, 0),True], [0,0.25*f_c*s*(-sqrt(2)*sqrt(w/d_a) + 1)*((2.44 - 39.04/f_c)*abs(s/w)**3 + 9.8/f_c)/(w*(s**4*(2.44 - 39.04/f_c)/w**4 + 1))], default=nan)/sqrt(w)], default=nan)], default=nan))\n",
      "<lambdifygenerated-29>:2: RuntimeWarning: invalid value encountered in sqrt\n",
      "  return (select([less_equal(w, 0),True], [0,0.25*f_c*s*(-sqrt(2)*sqrt(w/d_a) + 1)*((2.44 - 39.04/f_c)*abs(s/w)**3 + 9.8/f_c)/(w*(s**4*(2.44 - 39.04/f_c)/w**4 + 1))], default=nan))\n",
      "<lambdifygenerated-28>:2: RuntimeWarning: invalid value encountered in sqrt\n",
      "  return (select([less(f_c, -35.7142857142857*d_a**(-0.32)*f_c**(-0.18)*f_t**2*w),less_equal(w, 0.028*d_a**0.32*f_c**0.18/f_t),less_equal(w, 0.14392*d_a**0.32*f_c**0.18/f_t),True], [-f_c,35.7142857142857*d_a**(-0.32)*f_c**(-0.18)*f_t**2*w,f_t*exp(-35.7142857142857*d_a**(-0.32)*f_c**(-0.18)*f_t*(-0.028*d_a**0.32*f_c**0.18/f_t + w)),select([greater(w, 0.028*d_a**0.32*f_c**0.18/f_t)], [-0.62*s*(s**2/w**2 + 1)**(-0.25)*select([less_equal(w, 0),True], [0,0.25*f_c*s*(-sqrt(2)*sqrt(w/d_a) + 1)*((2.44 - 39.04/f_c)*abs(s/w)**3 + 9.8/f_c)/(w*(s**4*(2.44 - 39.04/f_c)/w**4 + 1))], default=nan)/sqrt(w)], default=nan)], default=nan))\n",
      "<lambdifygenerated-29>:2: RuntimeWarning: invalid value encountered in sqrt\n",
      "  return (select([less_equal(w, 0),True], [0,0.25*f_c*s*(-sqrt(2)*sqrt(w/d_a) + 1)*((2.44 - 39.04/f_c)*abs(s/w)**3 + 9.8/f_c)/(w*(s**4*(2.44 - 39.04/f_c)/w**4 + 1))], default=nan))\n",
      "<lambdifygenerated-28>:2: RuntimeWarning: invalid value encountered in sqrt\n",
      "  return (select([less(f_c, -35.7142857142857*d_a**(-0.32)*f_c**(-0.18)*f_t**2*w),less_equal(w, 0.028*d_a**0.32*f_c**0.18/f_t),less_equal(w, 0.14392*d_a**0.32*f_c**0.18/f_t),True], [-f_c,35.7142857142857*d_a**(-0.32)*f_c**(-0.18)*f_t**2*w,f_t*exp(-35.7142857142857*d_a**(-0.32)*f_c**(-0.18)*f_t*(-0.028*d_a**0.32*f_c**0.18/f_t + w)),select([greater(w, 0.028*d_a**0.32*f_c**0.18/f_t)], [-0.62*s*(s**2/w**2 + 1)**(-0.25)*select([less_equal(w, 0),True], [0,0.25*f_c*s*(-sqrt(2)*sqrt(w/d_a) + 1)*((2.44 - 39.04/f_c)*abs(s/w)**3 + 9.8/f_c)/(w*(s**4*(2.44 - 39.04/f_c)/w**4 + 1))], default=nan)/sqrt(w)], default=nan)], default=nan))\n",
      "<lambdifygenerated-29>:2: RuntimeWarning: invalid value encountered in sqrt\n",
      "  return (select([less_equal(w, 0),True], [0,0.25*f_c*s*(-sqrt(2)*sqrt(w/d_a) + 1)*((2.44 - 39.04/f_c)*abs(s/w)**3 + 9.8/f_c)/(w*(s**4*(2.44 - 39.04/f_c)/w**4 + 1))], default=nan))\n",
      "<lambdifygenerated-28>:2: RuntimeWarning: invalid value encountered in sqrt\n",
      "  return (select([less(f_c, -35.7142857142857*d_a**(-0.32)*f_c**(-0.18)*f_t**2*w),less_equal(w, 0.028*d_a**0.32*f_c**0.18/f_t),less_equal(w, 0.14392*d_a**0.32*f_c**0.18/f_t),True], [-f_c,35.7142857142857*d_a**(-0.32)*f_c**(-0.18)*f_t**2*w,f_t*exp(-35.7142857142857*d_a**(-0.32)*f_c**(-0.18)*f_t*(-0.028*d_a**0.32*f_c**0.18/f_t + w)),select([greater(w, 0.028*d_a**0.32*f_c**0.18/f_t)], [-0.62*s*(s**2/w**2 + 1)**(-0.25)*select([less_equal(w, 0),True], [0,0.25*f_c*s*(-sqrt(2)*sqrt(w/d_a) + 1)*((2.44 - 39.04/f_c)*abs(s/w)**3 + 9.8/f_c)/(w*(s**4*(2.44 - 39.04/f_c)/w**4 + 1))], default=nan)/sqrt(w)], default=nan)], default=nan))\n",
      "<lambdifygenerated-29>:2: RuntimeWarning: invalid value encountered in sqrt\n",
      "  return (select([less_equal(w, 0),True], [0,0.25*f_c*s*(-sqrt(2)*sqrt(w/d_a) + 1)*((2.44 - 39.04/f_c)*abs(s/w)**3 + 9.8/f_c)/(w*(s**4*(2.44 - 39.04/f_c)/w**4 + 1))], default=nan))\n"
     ]
    }
   ],
   "source": [
    "fig, ax = plt.subplots(1,1, figsize = (11, 5))\n",
    "n = 10\n",
    "ce = CrackPropagation(n_seg=n)\n",
    "ce.sz_bd.Rectangle = True\n",
    "ce.sz_bd.matrix='advanced'\n",
    "ce.sz_bd.matrix_.trait_set(f_t = 0.3 * 33.3 **(2/3), f_c = 33.3, d_a = 16, E_c = 28000, L_fps = 80, interlock_factor = 1) \n",
    "\n",
    "\n",
    "ce.sz_bd.trait_set(H=600, B=250, L=3850)\n",
    "crack_positions = np.linspace(0.1 * ce.sz_bd.L, 0.9 * ce.sz_bd.L, 9)\n",
    "ce.crack_tip_shear_stress.trait_set(L_cs = 200)\n",
    "ce.sz_cp.sz_ctr.L_fps = 80\n",
    "ce.sz_cp.sz_ctr.trait_set(ell = 2)\n",
    "ce.sz_bd.csl.add_layer(CrackBridgeAdv(z=44, n=2, d_s=28, E = 210000, tau = 16, sig_y = 713, dowel_factor = 1, f_c = 33.3))\n",
    "ce.sz_bd\n",
    "\n",
    "x_Ia = []\n",
    "for crack_position in crack_positions:\n",
    "    ce.reset()\n",
    "    ce.sz_cp.trait_set(x_00=crack_position)\n",
    "    ce.run()\n",
    "    sz_cp =ce.sz_cp\n",
    "    x_n_a =sz_cp.x_t_Ia[0,:]\n",
    "    x_Ia = sz_cp.x_t_Ia\n",
    "    ds = ce.crack_tip_orientation.crack_tip_shear_stress.sz_stress_profile.ds\n",
    "    ce.sz_cp.plot_sz0(ax)\n",
    "    ds.plot_sz1(ax)\n",
    "    #print(x_Ia)"
   ]
  },
  {
   "cell_type": "code",
   "execution_count": null,
   "metadata": {},
   "outputs": [],
   "source": [
    "import matplotlib.pylab as plt\n",
    "fig, axes = plt.subplots(1,1, figsize = (15, 6))\n",
    "n = 145\n",
    "ce = CrackPropagation(n_seg=n)\n",
    "ce.sz_bd.Rectangle = True\n",
    "ce.sz_bd.matrix='advanced'\n",
    "ce.sz_bd.matrix_.trait_set(f_t = 0.3 * 33.3 **(2/3), f_c = 33.3, d_a = 16, E_c = 28000, L_fps = 80, interlock_factor = 1) \n",
    "\n",
    "\n",
    "ce.sz_bd.trait_set(H=600, B=250, L=3850)\n",
    "crack_position = 0.5 * ce.sz_bd.L\n",
    "ce.crack_tip_shear_stress.trait_set(L_cs = 200)\n",
    "ce.sz_cp.sz_ctr.L_fps = 80\n",
    "ce.sz_cp.sz_ctr.trait_set(ell = 2)\n",
    "ce.sz_bd.csl.add_layer(CrackBridgeAdv(z=44, n=2, d_s=28, E = 210000, tau = 16, sig_y = 713, dowel_factor = 1, f_c = 33.3))\n",
    "ce.sz_bd\n",
    "\n",
    "ce.reset()\n",
    "ce.sz_cp.trait_set(x_00=crack_position)\n",
    "ce.run()\n",
    "fig.clf()\n",
    "axes = ce.sz_stress_profile.subplots(fig)\n",
    "ce.sz_stress_profile.update_plot(axes)\n",
    "ax_u_0, ax_w_0, ax_S_0, ax_F_0, ax_u_1, ax_w_1, ax_S_1, ax_F_1 = axes"
   ]
  },
  {
   "cell_type": "code",
   "execution_count": null,
   "metadata": {},
   "outputs": [],
   "source": [
    "%matplotlib widget  \n",
    "import numpy as np\n",
    "import bmcs_utils.api as bu\n",
    "from bmcs_cross_section.api import ReinfLayer\n",
    "from bmcs_shear.api import CrackBridgeAdv\n",
    "from bmcs_shear.shear_crack.crack_propagation import CrackPropagation\n",
    "ce = CrackPropagation(n_seg=144)\n",
    "ce.sz_bd.Rectangle = True\n",
    "ce.sz_bd.matrix='advanced'\n",
    "ce.sz_bd.matrix_.trait_set(f_t = 0.3 * 33.3 **(2/3), f_c = 33.3, d_a = 16, E_c = 28000, L_fps = 80, interlock_factor = 1) \n",
    "\n",
    "ce.sz_bd.trait_set(H=600, B=250, L=3850)\n",
    "#ce.sz_cp.trait_set(x_00=ce.sz_bd.L * 0.1, n_m = 12)\n",
    "crack_positions = np.linspace(0.1 * ce.sz_bd.L, 0.9 * ce.sz_bd.L, 9)\n",
    "ce.crack_tip_shear_stress.trait_set(L_cs = 200)\n",
    "#ce.sz_cp.sz_ctr.L_fps = 50\n",
    "ce.sz_cp.sz_ctr.trait_set(ell = 2, L_fps = 80)\n",
    "ce.sz_bd.csl.add_layer(CrackBridgeAdv(z=44, n=2, d_s=28, E = 210000, tau = 16, sig_y = 713, dowel_factor = 1, f_c = 33.3))\n",
    "\n",
    "F_max = []\n",
    "F_max_i = []\n",
    "M = []\n",
    "\n",
    "for crack_position in crack_positions:\n",
    "    ce.reset()\n",
    "    ce.sz_cp.trait_set(x_00=crack_position)\n",
    "    ce.run()\n",
    "    \n",
    "    F_beam = ce.F_beam\n",
    "    F_max_ = np.max(F_beam)\n",
    "    F_max_i_ = np.argmax(F_beam)\n",
    "    F_max_i_int = np.array(F_max_i_)\n",
    "    M_ = ce.M[F_max_i_int]\n",
    "    \n",
    "    F_max.append(F_max_)\n",
    "    F_max_i.append(F_max_i_)\n",
    "    M.append(M_)\n",
    "    \n",
    "print('M',  M)"
   ]
  },
  {
   "cell_type": "code",
   "execution_count": null,
   "metadata": {},
   "outputs": [],
   "source": [
    "import matplotlib.pylab as plt\n",
    "_, ax1 = plt.subplots(1, 1, figsize=(9,4))\n",
    "ax1.plot(crack_positions ,  M, lw= 2, label = r'$M$');"
   ]
  },
  {
   "cell_type": "code",
   "execution_count": null,
   "metadata": {},
   "outputs": [],
   "source": [
    "np.sum(np.array([1,2,5]))"
   ]
  }
 ],
 "metadata": {
  "kernelspec": {
   "display_name": "Python 3",
   "language": "python",
   "name": "python3"
  },
  "language_info": {
   "codemirror_mode": {
    "name": "ipython",
    "version": 3
   },
   "file_extension": ".py",
   "mimetype": "text/x-python",
   "name": "python",
   "nbconvert_exporter": "python",
   "pygments_lexer": "ipython3",
   "version": "3.9.1"
  }
 },
 "nbformat": 4,
 "nbformat_minor": 4
}
