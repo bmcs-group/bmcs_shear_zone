{
 "cells": [
  {
   "cell_type": "code",
   "execution_count": 1,
   "metadata": {},
   "outputs": [],
   "source": [
    "%matplotlib widget  \n",
    "import numpy as np\n",
    "import bmcs_utils.api as bu\n",
    "from bmcs_cross_section.api import ReinfLayer\n",
    "from bmcs_shear.api import CrackBridgeAdv\n",
    "from bmcs_shear.shear_crack.crack_propagation import CrackPropagation\n",
    "ce = CrackPropagation(n_seg=200) #250\n",
    "ce.sz_bd.Rectangle = True\n",
    "ce.sz_bd.matrix='advanced'\n",
    "# ce.sz_cto.crack_tip_shear_stress = 'global'\n",
    "ce.sz_bd.matrix_.trait_set(f_t = 0.3 * 38 **(2/3), f_c = 38, d_a = 8, E_c = 28000, L_fps = 3, interlock_factor = 1) \n",
    "\n",
    "\n",
    "ce.sz_bd.trait_set(H=350, B=320, L=1395)#(H=600, B=250, L=3850)\n",
    "ce.sz_cp.trait_set(x_00=ce.sz_bd.L * 0.4, n_m = 12)\n",
    "ce.sz_ctss.trait_set(L_cs = 300)\n",
    "#ce.sz_cp.sz_ctr.L_fps = 50\n",
    "ce.sz_cp.sz_ctr.trait_set(ell = 1, L_fps = 3)\n",
    "ce.sz_bd.csl.add_layer(CrackBridgeAdv(z=50, n=5, d_s=1, E = 210000, tau = 16, sig_y = 713, dowel_factor = 1, f_c = 38))\n",
    "\n",
    "#ce.sz_bd.csl.items[0].d_s = 50\n",
    "\n",
    "# bl1 = ReinfLayer(name='layer1', z=44, A=ce.sz_bd.smm.A_f, matmod='steel')\n",
    "# bl1.matmod_.trait_set(E=ce.sz_bd.smm.E_f, f_t=ce.sz_bd.smm.sig_y)\n",
    "# ce.sz_bd.cross_section_layout.add_layer(bl1)\n",
    "# ce.sz_bd"
   ]
  },
  {
   "cell_type": "code",
   "execution_count": 2,
   "metadata": {},
   "outputs": [],
   "source": [
    "#ce.sz_cp.add_x_tip_an([ce.sz_bd.L * 0.05, 1])"
   ]
  },
  {
   "cell_type": "code",
   "execution_count": 3,
   "metadata": {},
   "outputs": [],
   "source": [
    "# ce.sz_cp.beta"
   ]
  },
  {
   "cell_type": "code",
   "execution_count": 4,
   "metadata": {
    "scrolled": false
   },
   "outputs": [
    {
     "name": "stderr",
     "output_type": "stream",
     "text": [
      "<lambdifygenerated-23>:2: RuntimeWarning: invalid value encountered in sqrt\n",
      "  return select([less(f_c, -35.7142857142857*d_a**(-0.32)*f_c**(-0.18)*f_t**2*w),less_equal(w, 0.028*d_a**0.32*f_c**0.18/f_t),less_equal(w, 0.14392*d_a**0.32*f_c**0.18/f_t),True], [-f_c,35.7142857142857*d_a**(-0.32)*f_c**(-0.18)*f_t**2*w,f_t*exp(-35.7142857142857*d_a**(-0.32)*f_c**(-0.18)*f_t*(-0.028*d_a**0.32*f_c**0.18/f_t + w)),select([greater(w, 0.028*d_a**0.32*f_c**0.18/f_t)], [-0.62*s*(s**2/w**2 + 1)**(-0.25)*select([less_equal(w, 0),True], [0,0.25*f_c*s*(-sqrt(2)*sqrt(w/d_a) + 1)*((2.44 - 39.04/f_c)*abs(s/w)**3 + 9.8/f_c)/(w*(s**4*(2.44 - 39.04/f_c)/w**4 + 1))], default=nan)/sqrt(w)], default=nan)], default=nan)\n",
      "<lambdifygenerated-24>:2: RuntimeWarning: invalid value encountered in sqrt\n",
      "  return select([less_equal(w, 0),True], [0,0.25*f_c*s*(-sqrt(2)*sqrt(w/d_a) + 1)*((2.44 - 39.04/f_c)*abs(s/w)**3 + 9.8/f_c)/(w*(s**4*(2.44 - 39.04/f_c)/w**4 + 1))], default=nan)\n"
     ]
    },
    {
     "data": {
      "application/vnd.jupyter.widget-view+json": {
       "model_id": "d51dddbcf3874a14ae26878a45a153ab",
       "version_major": 2,
       "version_minor": 0
      },
      "text/plain": [
       "VBox(children=(HBox(children=(VBox(children=(Tree(layout=Layout(align_items='stretch', border='solid 1px black…"
      ]
     },
     "metadata": {},
     "output_type": "display_data"
    }
   ],
   "source": [
    "ce.interact()"
   ]
  },
  {
   "cell_type": "code",
   "execution_count": null,
   "metadata": {},
   "outputs": [],
   "source": []
  },
  {
   "cell_type": "code",
   "execution_count": 5,
   "metadata": {},
   "outputs": [
    {
     "data": {
      "text/plain": [
       "1084.5094321369052"
      ]
     },
     "execution_count": 5,
     "metadata": {},
     "output_type": "execute_result"
    }
   ],
   "source": [
    "x_tip_1 = ce.sz_cp.sz_ctr.x_tip_ak[1,0]\n",
    "idx_tip0 = np.argmax(ce.sz_cp.x_Ka[:, 1] >= x_tip_1)\n",
    "ce.sz_cp.x_Ka[:, 1], np.argmax(ce.sz_cp.x_Ka[:, 1] >= x_tip_1), x_tip_1\n",
    "ce.sz_stress_profile.S_La[idx_tip0,0]"
   ]
  },
  {
   "cell_type": "code",
   "execution_count": 6,
   "metadata": {},
   "outputs": [
    {
     "data": {
      "text/plain": [
       "<matplotlib.legend.Legend at 0x19e1db63dc0>"
      ]
     },
     "execution_count": 6,
     "metadata": {},
     "output_type": "execute_result"
    },
    {
     "data": {
      "application/vnd.jupyter.widget-view+json": {
       "model_id": "a0408732dd674373afc75b78228c6d50",
       "version_major": 2,
       "version_minor": 0
      },
      "image/png": "[encoded data removed]",
      "text/plain": [
       "Canvas(toolbar=Toolbar(toolitems=[('Home', 'Reset original view', 'home', 'home'), ('Back', 'Back to previous …"
      ]
     },
     "metadata": {},
     "output_type": "display_data"
    }
   ],
   "source": [
    "import matplotlib.pylab as plt\n",
    "_, ax1 = plt.subplots(1, 1, figsize=(11,4))\n",
    "\n",
    "ax1.plot(ce.x_tip_1k, ce.tau_x_tip_1k, 'o-', lw= 2, label = r'$\\tau_{fps}$');\n",
    "ax1.plot(ce.x_tip_1k,  ce.sig_x_tip_0, 'o-', lw= 2, label = r'$\\sigma_{x}$');\n",
    "ax1.plot(ce.x_tip_1k,  ce.sig_z1, 'o-',  lw= 2, label = r'$\\sigma_{z}$');\n",
    "ax1.set_xlabel('Height of the crack'); ax1.set_ylabel('Stress resultants at crack tip');\n",
    "#ce.x_tip_1k\n",
    "ax1.legend()"
   ]
  },
  {
   "cell_type": "code",
   "execution_count": 7,
   "metadata": {},
   "outputs": [
    {
     "data": {
      "text/plain": [
       "[]"
      ]
     },
     "execution_count": 7,
     "metadata": {},
     "output_type": "execute_result"
    }
   ],
   "source": [
    "ce.R_n #* 180/np.pi"
   ]
  },
  {
   "cell_type": "code",
   "execution_count": 8,
   "metadata": {},
   "outputs": [
    {
     "ename": "AttributeError",
     "evalue": "'CrackPropagation' object has no attribute 'F_N_delta'",
     "output_type": "error",
     "traceback": [
      "\u001b[1;31m---------------------------------------------------------------------------\u001b[0m",
      "\u001b[1;31mAttributeError\u001b[0m                            Traceback (most recent call last)",
      "\u001b[1;32m<ipython-input-8-bbbac3f6043a>\u001b[0m in \u001b[0;36m<module>\u001b[1;34m\u001b[0m\n\u001b[1;32m----> 1\u001b[1;33m \u001b[0mnp\u001b[0m\u001b[1;33m.\u001b[0m\u001b[0mmax\u001b[0m\u001b[1;33m(\u001b[0m\u001b[0mce\u001b[0m\u001b[1;33m.\u001b[0m\u001b[0mF_N_delta\u001b[0m\u001b[1;33m)\u001b[0m\u001b[1;33m,\u001b[0m \u001b[0mnp\u001b[0m\u001b[1;33m.\u001b[0m\u001b[0mmax\u001b[0m\u001b[1;33m(\u001b[0m\u001b[0mce\u001b[0m\u001b[1;33m.\u001b[0m\u001b[0mF_beam\u001b[0m\u001b[1;33m)\u001b[0m\u001b[1;33m,\u001b[0m \u001b[0mnp\u001b[0m\u001b[1;33m.\u001b[0m\u001b[0margmax\u001b[0m\u001b[1;33m(\u001b[0m\u001b[0mce\u001b[0m\u001b[1;33m.\u001b[0m\u001b[0mF_N_delta\u001b[0m\u001b[1;33m)\u001b[0m\u001b[1;33m,\u001b[0m \u001b[0mnp\u001b[0m\u001b[1;33m.\u001b[0m\u001b[0margmax\u001b[0m\u001b[1;33m(\u001b[0m\u001b[0mce\u001b[0m\u001b[1;33m.\u001b[0m\u001b[0mF_beam\u001b[0m\u001b[1;33m)\u001b[0m\u001b[1;33m,\u001b[0m \u001b[0mce\u001b[0m\u001b[1;33m.\u001b[0m\u001b[0mF_N_delta\u001b[0m\u001b[1;33m[\u001b[0m\u001b[1;36m64\u001b[0m\u001b[1;33m]\u001b[0m\u001b[1;33m\u001b[0m\u001b[1;33m\u001b[0m\u001b[0m\n\u001b[0m",
      "\u001b[1;31mAttributeError\u001b[0m: 'CrackPropagation' object has no attribute 'F_N_delta'"
     ]
    }
   ],
   "source": [
    "np.max(ce.F_N_delta), np.max(ce.F_beam), np.argmax(ce.F_N_delta), np.argmax(ce.F_beam), ce.F_N_delta[64]"
   ]
  },
  {
   "cell_type": "code",
   "execution_count": null,
   "metadata": {},
   "outputs": [],
   "source": [
    "ce.v_n[64]"
   ]
  },
  {
   "cell_type": "code",
   "execution_count": null,
   "metadata": {},
   "outputs": [],
   "source": [
    "ce.Q[117], ce.F_N_delta[117]#/4.5"
   ]
  },
  {
   "cell_type": "code",
   "execution_count": null,
   "metadata": {},
   "outputs": [],
   "source": [
    "ce.F_beam[89]"
   ]
  },
  {
   "cell_type": "code",
   "execution_count": null,
   "metadata": {},
   "outputs": [],
   "source": [
    "ce.sig_z1[89]"
   ]
  },
  {
   "cell_type": "code",
   "execution_count": null,
   "metadata": {},
   "outputs": [],
   "source": [
    "ce.crack_tip_shear_stress.M_cantilever"
   ]
  },
  {
   "cell_type": "code",
   "execution_count": null,
   "metadata": {},
   "outputs": [],
   "source": [
    "import matplotlib.pylab as plt\n",
    "_, ax1 = plt.subplots(1, 1, figsize=(11,4))\n",
    "\n",
    "crack_positions = np.linspace(0.1 * ce.sz_bd.L, 0.9 * ce.sz_bd.L, 9)\n",
    "ax1.plot(ce.x_tip_1n,  ce.sig_x_tip_0, lw= 2, label = r'$\\sigma_{x}$');\n",
    "ax1.plot(ce.x_tip_1n,  ce.tau_x_tip_1k, lw= 2, label = r'$\\tau_{fpz}$')\n",
    "ax1.plot(ce.x_tip_1n,  ce.sig_z1, lw= 2, label = r'$\\sigma_{z}$'); \n",
    "ax1.set_xlabel(r'$\\mathrm{Crack\\,Height}\\,(mm)$'); ax1.set_ylabel(r'$\\mathrm{Stress\\,at\\,crack\\,tip}\\,(N/mm)$');\n",
    "ax1.set_title(r'Stress state at crack tip')\n",
    "ax1.legend()"
   ]
  },
  {
   "cell_type": "code",
   "execution_count": null,
   "metadata": {},
   "outputs": [],
   "source": [
    "import matplotlib.pylab as plt\n",
    "_, ax1 = plt.subplots(1, 1, figsize=(11,4))\n",
    "\n",
    "crack_positions = np.linspace(0.1 * ce.sz_bd.L, 0.9 * ce.sz_bd.L, 9)\n",
    "ax1.plot(ce.x_tip_1n,  ce.sig_x_tip_0, lw= 2, label = r'$\\sigma_{x}$');\n",
    "ax1.plot(ce.x_tip_1n,  ce.tau_x_tip_1k, lw= 2, label = r'$\\tau_{fpz}$')\n",
    "ax1.set_xlabel(r'$\\mathrm{Crack\\,Height}\\,(mm)$'); ax1.set_ylabel(r'$\\mathrm{Stress\\,at\\,crack\\,tip}\\,(N/mm)$');\n",
    "ax1.set_title(r'Stress state at crack tip')\n",
    "ax1.legend()"
   ]
  },
  {
   "cell_type": "code",
   "execution_count": null,
   "metadata": {},
   "outputs": [],
   "source": [
    "ce.crack_tip_shear_stress.tau_x_tip_1k"
   ]
  },
  {
   "cell_type": "code",
   "execution_count": null,
   "metadata": {},
   "outputs": [],
   "source": [
    "ce.crack_tip_shear_stress.sig_x_tip_0"
   ]
  },
  {
   "cell_type": "code",
   "execution_count": null,
   "metadata": {},
   "outputs": [],
   "source": [
    "ce.crack_tip_shear_stress.sig_z1"
   ]
  },
  {
   "cell_type": "code",
   "execution_count": null,
   "metadata": {},
   "outputs": [],
   "source": [
    "ce.crack_tip_shear_stress.sig_z1\n",
    "#ce.crack_tip_shear_stress.tau_x_tip_1k"
   ]
  },
  {
   "cell_type": "code",
   "execution_count": null,
   "metadata": {},
   "outputs": [],
   "source": [
    "ce.sz_stress_profile.M"
   ]
  },
  {
   "cell_type": "code",
   "execution_count": null,
   "metadata": {},
   "outputs": [],
   "source": [
    "ce.sz_stress_profile.F_Na"
   ]
  },
  {
   "cell_type": "code",
   "execution_count": null,
   "metadata": {},
   "outputs": [],
   "source": [
    "ce.sz_stress_profile.M"
   ]
  },
  {
   "cell_type": "code",
   "execution_count": null,
   "metadata": {},
   "outputs": [],
   "source": [
    "2850 / ce.sz_bd.B"
   ]
  },
  {
   "cell_type": "code",
   "execution_count": 6,
   "metadata": {},
   "outputs": [
    {
     "name": "stderr",
     "output_type": "stream",
     "text": [
      "<lambdifygenerated-29>:2: RuntimeWarning: invalid value encountered in sqrt\n",
      "  return select([less(f_c, -35.7142857142857*d_a**(-0.32)*f_c**(-0.18)*f_t**2*w),less_equal(w, 0.028*d_a**0.32*f_c**0.18/f_t),less_equal(w, 0.14392*d_a**0.32*f_c**0.18/f_t),True], [-f_c,35.7142857142857*d_a**(-0.32)*f_c**(-0.18)*f_t**2*w,f_t*exp(-35.7142857142857*d_a**(-0.32)*f_c**(-0.18)*f_t*(-0.028*d_a**0.32*f_c**0.18/f_t + w)),select([greater(w, 0.028*d_a**0.32*f_c**0.18/f_t)], [-0.62*s*(s**2/w**2 + 1)**(-0.25)*select([less_equal(w, 0),True], [0,0.25*f_c*s*(-sqrt(2)*sqrt(w/d_a) + 1)*((2.44 - 39.04/f_c)*abs(s/w)**3 + 9.8/f_c)/(w*(s**4*(2.44 - 39.04/f_c)/w**4 + 1))], default=nan)/sqrt(w)], default=nan)], default=nan)\n",
      "<lambdifygenerated-30>:2: RuntimeWarning: invalid value encountered in sqrt\n",
      "  return select([less_equal(w, 0),True], [0,0.25*f_c*s*(-sqrt(2)*sqrt(w/d_a) + 1)*((2.44 - 39.04/f_c)*abs(s/w)**3 + 9.8/f_c)/(w*(s**4*(2.44 - 39.04/f_c)/w**4 + 1))], default=nan)\n",
      "<lambdifygenerated-29>:2: RuntimeWarning: overflow encountered in exp\n",
      "  return select([less(f_c, -35.7142857142857*d_a**(-0.32)*f_c**(-0.18)*f_t**2*w),less_equal(w, 0.028*d_a**0.32*f_c**0.18/f_t),less_equal(w, 0.14392*d_a**0.32*f_c**0.18/f_t),True], [-f_c,35.7142857142857*d_a**(-0.32)*f_c**(-0.18)*f_t**2*w,f_t*exp(-35.7142857142857*d_a**(-0.32)*f_c**(-0.18)*f_t*(-0.028*d_a**0.32*f_c**0.18/f_t + w)),select([greater(w, 0.028*d_a**0.32*f_c**0.18/f_t)], [-0.62*s*(s**2/w**2 + 1)**(-0.25)*select([less_equal(w, 0),True], [0,0.25*f_c*s*(-sqrt(2)*sqrt(w/d_a) + 1)*((2.44 - 39.04/f_c)*abs(s/w)**3 + 9.8/f_c)/(w*(s**4*(2.44 - 39.04/f_c)/w**4 + 1))], default=nan)/sqrt(w)], default=nan)], default=nan)\n",
      "<lambdifygenerated-23>:2: RuntimeWarning: invalid value encountered in sqrt\n",
      "  return (1/2)*sqrt((10*f_cm*f_ct - 5*f_cm*sigma_x - 5*f_cm*sigma_y + 4*f_ct*sigma_x + 4*f_ct*sigma_y + (5*f_cm + 4*f_ct)*(-sigma_x + sigma_y))*(10*f_cm*f_ct - 5*f_cm*sigma_x - 5*f_cm*sigma_y + 4*f_ct*sigma_x + 4*f_ct*sigma_y + (5*f_cm + 4*f_ct)*(sigma_x - sigma_y))/(5*f_cm + 4*f_ct)**2)\n",
      "<lambdifygenerated-28>:2: RuntimeWarning: invalid value encountered in sqrt\n",
      "  return arctan((-sigma_x + sigma_z + sqrt(sigma_x**2 - 2*sigma_x*sigma_z + sigma_z**2 + (10*f_cm*f_ct - 5*f_cm*sigma_x - 5*f_cm*sigma_z + 4*f_ct*sigma_x + 4*f_ct*sigma_z + (5*f_cm + 4*f_ct)*(-sigma_x + sigma_z))*(10*f_cm*f_ct - 5*f_cm*sigma_x - 5*f_cm*sigma_z + 4*f_ct*sigma_x + 4*f_ct*sigma_z + (5*f_cm + 4*f_ct)*(sigma_x - sigma_z))/(5*f_cm + 4*f_ct)**2))/sqrt((10*f_cm*f_ct - 5*f_cm*sigma_x - 5*f_cm*sigma_z + 4*f_ct*sigma_x + 4*f_ct*sigma_z + (5*f_cm + 4*f_ct)*(-sigma_x + sigma_z))*(10*f_cm*f_ct - 5*f_cm*sigma_x - 5*f_cm*sigma_z + 4*f_ct*sigma_x + 4*f_ct*sigma_z + (5*f_cm + 4*f_ct)*(sigma_x - sigma_z))/(5*f_cm + 4*f_ct)**2))\n",
      "<lambdifygenerated-4>:2: RuntimeWarning: invalid value encountered in sqrt\n",
      "  return (-Dummy_417*c_psi + Dummy_419*c_psi - Dummy_421*c_psi**2 - Dummy_421*s_psi**2 + Dummy_422*s_psi**2 - sqrt(Dummy_417**2*c_psi**2 - 2*Dummy_417*Dummy_419*c_psi**2 - 2*Dummy_417*Dummy_420*c_psi**2*s_psi - 2*Dummy_417*Dummy_420*s_psi**3 + 2*Dummy_417*Dummy_421*c_psi**3 + 2*Dummy_417*Dummy_421*c_psi*s_psi**2 - 2*Dummy_417*Dummy_422*c_psi*s_psi**2 + Dummy_419**2*c_psi**2 + 2*Dummy_419*Dummy_420*c_psi**2*s_psi + 2*Dummy_419*Dummy_420*s_psi**3 - 2*Dummy_419*Dummy_421*c_psi**3 - 2*Dummy_419*Dummy_421*c_psi*s_psi**2 + 2*Dummy_419*Dummy_422*c_psi*s_psi**2 - Dummy_420**2*c_psi**4 - 2*Dummy_420**2*c_psi**2*s_psi**2 - Dummy_420**2*s_psi**4 - 2*Dummy_420*Dummy_422*c_psi**3*s_psi - 2*Dummy_420*Dummy_422*c_psi*s_psi**3 + Dummy_421**2*c_psi**4 + 2*Dummy_421**2*c_psi**2*s_psi**2 + Dummy_421**2*s_psi**4 - 2*Dummy_421*Dummy_422*c_psi**2*s_psi**2 - 2*Dummy_421*Dummy_422*s_psi**4 + Dummy_422**2*s_psi**4))/(c_psi**2 + s_psi**2)\n",
      "<lambdifygenerated-12>:2: RuntimeWarning: invalid value encountered in sqrt\n",
      "  return (-2*Dummy_469*s_psi + 2*Dummy_470*s_psi - (-Dummy_465*Dummy_468*c_psi**2 - 3*Dummy_465*Dummy_468*s_psi**2 + 2*Dummy_465*Dummy_469*c_psi*s_psi - 2*Dummy_465*Dummy_470*c_psi*s_psi + Dummy_467*Dummy_468*c_psi**2 + 3*Dummy_467*Dummy_468*s_psi**2 - 2*Dummy_467*Dummy_469*c_psi*s_psi + 2*Dummy_467*Dummy_470*c_psi*s_psi - 2*Dummy_468**2*c_psi**2*s_psi - 2*Dummy_468**2*s_psi**3 - Dummy_468*Dummy_470*c_psi**3 - 3*Dummy_468*Dummy_470*c_psi*s_psi**2 + 2*Dummy_469**2*c_psi**2*s_psi + 2*Dummy_469**2*s_psi**3 - 2*Dummy_469*Dummy_470*c_psi**2*s_psi - 4*Dummy_469*Dummy_470*s_psi**3 + 2*Dummy_470**2*s_psi**3)/sqrt(Dummy_465**2*c_psi**2 - 2*Dummy_465*Dummy_467*c_psi**2 - 2*Dummy_465*Dummy_468*c_psi**2*s_psi - 2*Dummy_465*Dummy_468*s_psi**3 + 2*Dummy_465*Dummy_469*c_psi**3 + 2*Dummy_465*Dummy_469*c_psi*s_psi**2 - 2*Dummy_465*Dummy_470*c_psi*s_psi**2 + Dummy_467**2*c_psi**2 + 2*Dummy_467*Dummy_468*c_psi**2*s_psi + 2*Dummy_467*Dummy_468*s_psi**3 - 2*Dummy_467*Dummy_469*c_psi**3 - 2*Dummy_467*Dummy_469*c_psi*s_psi**2 + 2*Dummy_467*Dummy_470*c_psi*s_psi**2 - Dummy_468**2*c_psi**4 - 2*Dummy_468**2*c_psi**2*s_psi**2 - Dummy_468**2*s_psi**4 - 2*Dummy_468*Dummy_470*c_psi**3*s_psi - 2*Dummy_468*Dummy_470*c_psi*s_psi**3 + Dummy_469**2*c_psi**4 + 2*Dummy_469**2*c_psi**2*s_psi**2 + Dummy_469**2*s_psi**4 - 2*Dummy_469*Dummy_470*c_psi**2*s_psi**2 - 2*Dummy_469*Dummy_470*s_psi**4 + Dummy_470**2*s_psi**4))*cos(psi) - (-Dummy_465 + Dummy_467 - 2*Dummy_469*c_psi - (Dummy_465**2*c_psi - 2*Dummy_465*Dummy_467*c_psi - 2*Dummy_465*Dummy_468*c_psi*s_psi + 3*Dummy_465*Dummy_469*c_psi**2 + Dummy_465*Dummy_469*s_psi**2 - Dummy_465*Dummy_470*s_psi**2 + Dummy_467**2*c_psi + 2*Dummy_467*Dummy_468*c_psi*s_psi - 3*Dummy_467*Dummy_469*c_psi**2 - Dummy_467*Dummy_469*s_psi**2 + Dummy_467*Dummy_470*s_psi**2 - 2*Dummy_468**2*c_psi**3 - 2*Dummy_468**2*c_psi*s_psi**2 - 3*Dummy_468*Dummy_470*c_psi**2*s_psi - Dummy_468*Dummy_470*s_psi**3 + 2*Dummy_469**2*c_psi**3 + 2*Dummy_469**2*c_psi*s_psi**2 - 2*Dummy_469*Dummy_470*c_psi*s_psi**2)/sqrt(Dummy_465**2*c_psi**2 - 2*Dummy_465*Dummy_467*c_psi**2 - 2*Dummy_465*Dummy_468*c_psi**2*s_psi - 2*Dummy_465*Dummy_468*s_psi**3 + 2*Dummy_465*Dummy_469*c_psi**3 + 2*Dummy_465*Dummy_469*c_psi*s_psi**2 - 2*Dummy_465*Dummy_470*c_psi*s_psi**2 + Dummy_467**2*c_psi**2 + 2*Dummy_467*Dummy_468*c_psi**2*s_psi + 2*Dummy_467*Dummy_468*s_psi**3 - 2*Dummy_467*Dummy_469*c_psi**3 - 2*Dummy_467*Dummy_469*c_psi*s_psi**2 + 2*Dummy_467*Dummy_470*c_psi*s_psi**2 - Dummy_468**2*c_psi**4 - 2*Dummy_468**2*c_psi**2*s_psi**2 - Dummy_468**2*s_psi**4 - 2*Dummy_468*Dummy_470*c_psi**3*s_psi - 2*Dummy_468*Dummy_470*c_psi*s_psi**3 + Dummy_469**2*c_psi**4 + 2*Dummy_469**2*c_psi**2*s_psi**2 + Dummy_469**2*s_psi**4 - 2*Dummy_469*Dummy_470*c_psi**2*s_psi**2 - 2*Dummy_469*Dummy_470*s_psi**4 + Dummy_470**2*s_psi**4))*sin(psi)\n",
      "<lambdifygenerated-13>:2: RuntimeWarning: invalid value encountered in sqrt\n",
      "  return c_psi - (-Dummy_471*c_psi**2 + Dummy_473*c_psi**2 + Dummy_474*c_psi**2*s_psi + Dummy_474*s_psi**3 - Dummy_475*c_psi**3 - Dummy_475*c_psi*s_psi**2 + Dummy_476*c_psi*s_psi**2)/sqrt(Dummy_471**2*c_psi**2 - 2*Dummy_471*Dummy_473*c_psi**2 - 2*Dummy_471*Dummy_474*c_psi**2*s_psi - 2*Dummy_471*Dummy_474*s_psi**3 + 2*Dummy_471*Dummy_475*c_psi**3 + 2*Dummy_471*Dummy_475*c_psi*s_psi**2 - 2*Dummy_471*Dummy_476*c_psi*s_psi**2 + Dummy_473**2*c_psi**2 + 2*Dummy_473*Dummy_474*c_psi**2*s_psi + 2*Dummy_473*Dummy_474*s_psi**3 - 2*Dummy_473*Dummy_475*c_psi**3 - 2*Dummy_473*Dummy_475*c_psi*s_psi**2 + 2*Dummy_473*Dummy_476*c_psi*s_psi**2 - Dummy_474**2*c_psi**4 - 2*Dummy_474**2*c_psi**2*s_psi**2 - Dummy_474**2*s_psi**4 - 2*Dummy_474*Dummy_476*c_psi**3*s_psi - 2*Dummy_474*Dummy_476*c_psi*s_psi**3 + Dummy_475**2*c_psi**4 + 2*Dummy_475**2*c_psi**2*s_psi**2 + Dummy_475**2*s_psi**4 - 2*Dummy_475*Dummy_476*c_psi**2*s_psi**2 - 2*Dummy_475*Dummy_476*s_psi**4 + Dummy_476**2*s_psi**4)\n"
     ]
    },
    {
     "name": "stdout",
     "output_type": "stream",
     "text": [
      "**************\n",
      "139.5\n",
      "61.25977373246319\n"
     ]
    },
    {
     "name": "stderr",
     "output_type": "stream",
     "text": [
      "<lambdifygenerated-29>:2: RuntimeWarning: overflow encountered in multiply\n",
      "  return select([less(f_c, -35.7142857142857*d_a**(-0.32)*f_c**(-0.18)*f_t**2*w),less_equal(w, 0.028*d_a**0.32*f_c**0.18/f_t),less_equal(w, 0.14392*d_a**0.32*f_c**0.18/f_t),True], [-f_c,35.7142857142857*d_a**(-0.32)*f_c**(-0.18)*f_t**2*w,f_t*exp(-35.7142857142857*d_a**(-0.32)*f_c**(-0.18)*f_t*(-0.028*d_a**0.32*f_c**0.18/f_t + w)),select([greater(w, 0.028*d_a**0.32*f_c**0.18/f_t)], [-0.62*s*(s**2/w**2 + 1)**(-0.25)*select([less_equal(w, 0),True], [0,0.25*f_c*s*(-sqrt(2)*sqrt(w/d_a) + 1)*((2.44 - 39.04/f_c)*abs(s/w)**3 + 9.8/f_c)/(w*(s**4*(2.44 - 39.04/f_c)/w**4 + 1))], default=nan)/sqrt(w)], default=nan)], default=nan)\n"
     ]
    },
    {
     "name": "stdout",
     "output_type": "stream",
     "text": [
      "**************\n",
      "279.0\n",
      "68.91724544901791\n",
      "**************\n",
      "418.5\n",
      "78.76256622744903\n",
      "**************\n",
      "558.0\n",
      "99.53179043375204\n",
      "**************\n",
      "697.5\n",
      "119.43762484251627\n",
      "**************\n",
      "837.0\n",
      "149.29604916768412\n",
      "**************\n",
      "976.5\n",
      "199.05921696082058\n",
      "**************\n",
      "1116.0\n",
      "275.66898179610115\n",
      "**************\n",
      "1255.5\n",
      "551.3379635922023\n"
     ]
    }
   ],
   "source": [
    "import numpy as np\n",
    "import matplotlib.pylab as plt\n",
    "from bmcs_shear.shear_crack.crack_propagation import CrackPropagation\n",
    "n =60\n",
    "ce = CrackPropagation(n_seg=n)\n",
    "ce.sz_bd.Rectangle = True\n",
    "ce.sz_bd.matrix='advanced'\n",
    "ce.sz_bd.matrix_.trait_set(f_t = 0.3 * 38 **(2/3), f_c = 38, d_a = 8, E_c = 28000, L_fps = 3, interlock_factor = 1) \n",
    "\n",
    "\n",
    "ce.sz_bd.trait_set(H=350, B=320, L=1395)#(H=600, B=250, L=3850)\n",
    "crack_positions = np.linspace(0.1 * ce.sz_bd.L, 0.9 * ce.sz_bd.L, 9)\n",
    "ce.crack_tip_shear_stress.trait_set(L_cs = 300)\n",
    "ce.sz_cp.sz_ctr.trait_set(ell = 1, L_fps = 3)\n",
    "ce.sz_bd.csl.add_layer(CrackBridgeAdv(z=50, n=5, d_s=16, E = 210000, tau = 16, sig_y = 713, dowel_factor = 1, f_c = 38))\n",
    "\n",
    "\n",
    "\n",
    "\n",
    "F_beam = []\n",
    "F_max = []\n",
    "v_beam = []\n",
    "for crack_position in crack_positions:\n",
    "    ce.reset()\n",
    "    ce.sz_cp.trait_set(x_00=crack_position)\n",
    "    ce.run()\n",
    "    F_beam_ = np.array(ce.F_beam) / 1000\n",
    "    F_max_ = np.max(F_beam_)\n",
    "    v_beam_ = np.array(ce.v_n)\n",
    "    F_beam.append(F_beam_)\n",
    "    v_beam.append(v_beam_)\n",
    "    F_max.append(F_max_)\n",
    "    print('**************')\n",
    "    print(crack_position)\n",
    "    print(np.max(F_beam))"
   ]
  },
  {
   "cell_type": "code",
   "execution_count": 7,
   "metadata": {},
   "outputs": [
    {
     "data": {
      "text/plain": [
       "<matplotlib.legend.Legend at 0x26723332a00>"
      ]
     },
     "execution_count": 7,
     "metadata": {},
     "output_type": "execute_result"
    },
    {
     "data": {
      "application/vnd.jupyter.widget-view+json": {
       "model_id": "52c0bfa1ed2e4e18b65752341d41c7ba",
       "version_major": 2,
       "version_minor": 0
      },
      "image/png": "[encoded data removed]",
      "text/plain": [
       "Canvas(toolbar=Toolbar(toolitems=[('Home', 'Reset original view', 'home', 'home'), ('Back', 'Back to previous …"
      ]
     },
     "metadata": {},
     "output_type": "display_data"
    }
   ],
   "source": [
    "import matplotlib.pylab as plt\n",
    "_, ax1 = plt.subplots(1, 1, figsize=(11,4))\n",
    "ax1.plot(v_beam[0],  F_beam[0], lw= 2, label = r'$0.1L$'); #/1000#\n",
    "ax1.plot(v_beam[1],  F_beam[1], lw= 2, label = r'$0.2L$');\n",
    "ax1.plot(v_beam[2],  F_beam[2], lw= 2, label = r'$0.3L$');\n",
    "ax1.plot(v_beam[3],  F_beam[3], lw= 2, label = r'$0.4L$');\n",
    "ax1.plot(v_beam[4],  F_beam[4], lw= 2, label = r'$0.5L$');\n",
    "ax1.plot(v_beam[5],  F_beam[5], lw= 2, label = r'$0.6L$');\n",
    "ax1.plot(v_beam[6],  F_beam[6], lw= 2, label = r'$0.7L$');\n",
    "ax1.plot(v_beam[7],  F_beam[7], lw= 2, label = r'$0.8L$');\n",
    "ax1.plot(v_beam[8],  F_beam[8], lw= 2, label = r'$0.9L$');\n",
    "ax1.set_xlabel(r'$\\mathrm{Deflection\\,(mm)}$'); ax1.set_ylabel(r'$F\\,(kN)$');\n",
    "ax1.set_title(r'Load Deflection')\n",
    "ax1.legend()"
   ]
  },
  {
   "cell_type": "code",
   "execution_count": null,
   "metadata": {},
   "outputs": [],
   "source": [
    "fig, ax = plt.subplots(1,1, figsize = (11, 5))\n",
    "n = 10\n",
    "ce = CrackPropagation(n_seg=n)\n",
    "ce.sz_bd.Rectangle = True\n",
    "ce.sz_bd.matrix='advanced'\n",
    "ce.sz_bd.matrix_.trait_set(f_t = 0.3 * 33.3 **(2/3), f_c = 33.3, d_a = 16, E_c = 28000, L_fps = 80, interlock_factor = 1) \n",
    "\n",
    "\n",
    "ce.sz_bd.trait_set(H=600, B=250, L=3850)\n",
    "crack_positions = np.linspace(0.1 * ce.sz_bd.L, 0.9 * ce.sz_bd.L, 9)\n",
    "ce.crack_tip_shear_stress.trait_set(L_cs = 200)\n",
    "ce.sz_cp.sz_ctr.L_fps = 80\n",
    "ce.sz_cp.sz_ctr.trait_set(ell = 2)\n",
    "ce.sz_bd.csl.add_layer(CrackBridgeAdv(z=44, n=2, d_s=28, E = 210000, tau = 16, sig_y = 713, dowel_factor = 1, f_c = 33.3))\n",
    "ce.sz_bd\n",
    "\n",
    "x_Ia = []\n",
    "for crack_position in crack_positions:\n",
    "    ce.reset()\n",
    "    ce.sz_cp.trait_set(x_00=crack_position)\n",
    "    ce.run()\n",
    "    sz_cp =ce.sz_cp\n",
    "    x_n_a =sz_cp.x_t_Ia[0,:]\n",
    "    x_Ia = sz_cp.x_t_Ia\n",
    "    ds = ce.crack_tip_orientation.crack_tip_shear_stress.sz_stress_profile.ds\n",
    "    ce.sz_cp.plot_sz0(ax)\n",
    "    ds.plot_sz1(ax)\n",
    "    #print(x_Ia)"
   ]
  },
  {
   "cell_type": "code",
   "execution_count": null,
   "metadata": {},
   "outputs": [],
   "source": [
    "import matplotlib.pylab as plt\n",
    "fig, axes = plt.subplots(1,1, figsize = (15, 6))\n",
    "n = 145\n",
    "ce = CrackPropagation(n_seg=n)\n",
    "ce.sz_bd.Rectangle = True\n",
    "ce.sz_bd.matrix='advanced'\n",
    "ce.sz_bd.matrix_.trait_set(f_t = 0.3 * 33.3 **(2/3), f_c = 33.3, d_a = 16, E_c = 28000, L_fps = 80, interlock_factor = 1) \n",
    "\n",
    "\n",
    "ce.sz_bd.trait_set(H=600, B=250, L=3850)\n",
    "crack_position = 0.5 * ce.sz_bd.L\n",
    "ce.crack_tip_shear_stress.trait_set(L_cs = 200)\n",
    "ce.sz_cp.sz_ctr.L_fps = 80\n",
    "ce.sz_cp.sz_ctr.trait_set(ell = 2)\n",
    "ce.sz_bd.csl.add_layer(CrackBridgeAdv(z=44, n=2, d_s=28, E = 210000, tau = 16, sig_y = 713, dowel_factor = 1, f_c = 33.3))\n",
    "ce.sz_bd\n",
    "\n",
    "ce.reset()\n",
    "ce.sz_cp.trait_set(x_00=crack_position)\n",
    "ce.run()\n",
    "fig.clf()\n",
    "axes = ce.sz_stress_profile.subplots(fig)\n",
    "ce.sz_stress_profile.update_plot(axes)\n",
    "ax_u_0, ax_w_0, ax_S_0, ax_F_0, ax_u_1, ax_w_1, ax_S_1, ax_F_1 = axes"
   ]
  },
  {
   "cell_type": "code",
   "execution_count": null,
   "metadata": {},
   "outputs": [],
   "source": [
    "%matplotlib widget  \n",
    "import numpy as np\n",
    "import bmcs_utils.api as bu\n",
    "from bmcs_cross_section.api import ReinfLayer\n",
    "from bmcs_shear.api import CrackBridgeAdv\n",
    "from bmcs_shear.shear_crack.crack_propagation import CrackPropagation\n",
    "ce = CrackPropagation(n_seg=144)\n",
    "ce.sz_bd.Rectangle = True\n",
    "ce.sz_bd.matrix='advanced'\n",
    "ce.sz_bd.matrix_.trait_set(f_t = 0.3 * 33.3 **(2/3), f_c = 33.3, d_a = 16, E_c = 28000, L_fps = 80, interlock_factor = 1) \n",
    "\n",
    "ce.sz_bd.trait_set(H=600, B=250, L=3850)\n",
    "#ce.sz_cp.trait_set(x_00=ce.sz_bd.L * 0.1, n_m = 12)\n",
    "crack_positions = np.linspace(0.1 * ce.sz_bd.L, 0.9 * ce.sz_bd.L, 9)\n",
    "ce.crack_tip_shear_stress.trait_set(L_cs = 200)\n",
    "#ce.sz_cp.sz_ctr.L_fps = 50\n",
    "ce.sz_cp.sz_ctr.trait_set(ell = 2, L_fps = 80)\n",
    "ce.sz_bd.csl.add_layer(CrackBridgeAdv(z=44, n=2, d_s=28, E = 210000, tau = 16, sig_y = 713, dowel_factor = 1, f_c = 33.3))\n",
    "\n",
    "F_max = []\n",
    "F_max_i = []\n",
    "M = []\n",
    "\n",
    "for crack_position in crack_positions:\n",
    "    ce.reset()\n",
    "    ce.sz_cp.trait_set(x_00=crack_position)\n",
    "    ce.run()\n",
    "    \n",
    "    F_beam = ce.F_beam\n",
    "    F_max_ = np.max(F_beam)\n",
    "    F_max_i_ = np.argmax(F_beam)\n",
    "    F_max_i_int = np.array(F_max_i_)\n",
    "    M_ = ce.M[F_max_i_int]\n",
    "    \n",
    "    F_max.append(F_max_)\n",
    "    F_max_i.append(F_max_i_)\n",
    "    M.append(M_)\n",
    "    \n",
    "print('M',  M)"
   ]
  },
  {
   "cell_type": "code",
   "execution_count": null,
   "metadata": {},
   "outputs": [],
   "source": [
    "import matplotlib.pylab as plt\n",
    "_, ax1 = plt.subplots(1, 1, figsize=(9,4))\n",
    "ax1.plot(crack_positions ,  M, lw= 2, label = r'$M$');"
   ]
  },
  {
   "cell_type": "code",
   "execution_count": null,
   "metadata": {},
   "outputs": [],
   "source": [
    "np.sum(np.array([1,2,5]))"
   ]
  }
 ],
 "metadata": {
  "kernelspec": {
   "display_name": "Python 3",
   "language": "python",
   "name": "python3"
  },
  "language_info": {
   "codemirror_mode": {
    "name": "ipython",
    "version": 3
   },
   "file_extension": ".py",
   "mimetype": "text/x-python",
   "name": "python",
   "nbconvert_exporter": "python",
   "pygments_lexer": "ipython3",
   "version": "3.9.7"
  }
 },
 "nbformat": 4,
 "nbformat_minor": 4
}
