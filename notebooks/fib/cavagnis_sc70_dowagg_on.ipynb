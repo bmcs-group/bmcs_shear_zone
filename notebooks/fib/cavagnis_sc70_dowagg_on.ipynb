{
 "cells": [
  {
   "cell_type": "code",
   "execution_count": null,
   "metadata": {},
   "outputs": [],
   "source": [
    "%matplotlib widget  \n",
    "import numpy as np\n",
    "import bmcs_utils.api as bu\n",
    "from bmcs_cross_section.api import ReinfLayer\n",
    "from bmcs_shear.api import CrackBridgeAdv\n",
    "from bmcs_shear.shear_crack.crack_propagation import CrackPropagation\n",
    "ce = CrackPropagation(n_seg=200) #250\n",
    "ce.sz_bd.Rectangle = True\n",
    "ce.sz_bd.matrix='advanced'\n",
    "# ce.sz_cto.crack_tip_shear_stress = 'global'\n",
    "ce.sz_bd.matrix_.trait_set(f_t = 0.3 * 38 **(2/3), f_c = 38, d_a = 8, E_c = 28000, L_fps = 3, interlock_factor = 1) \n",
    "\n",
    "\n",
    "ce.sz_bd.trait_set(H=350, B=320, L=1395)#(H=600, B=250, L=3850)\n",
    "ce.sz_cp.trait_set(x_00=ce.sz_bd.L * 0.4, n_m = 12)\n",
    "ce.sz_ctss.trait_set(L_cs = 300)\n",
    "#ce.sz_cp.sz_ctr.L_fps = 50\n",
    "ce.sz_cp.sz_ctr.trait_set(ell = 1, L_fps = 3)\n",
    "ce.sz_bd.csl.add_layer(CrackBridgeAdv(z=50, n=5, d_s=1, E = 210000, tau = 16, sig_y = 713, dowel_factor = 1, f_c = 38))\n",
    "\n",
    "#ce.sz_bd.csl.items[0].d_s = 50\n",
    "\n",
    "# bl1 = ReinfLayer(name='layer1', z=44, A=ce.sz_bd.smm.A_f, matmod='steel')\n",
    "# bl1.matmod_.trait_set(E=ce.sz_bd.smm.E_f, f_t=ce.sz_bd.smm.sig_y)\n",
    "# ce.sz_bd.cross_section_layout.add_layer(bl1)\n",
    "# ce.sz_bd"
   ]
  },
  {
   "cell_type": "code",
   "execution_count": null,
   "metadata": {},
   "outputs": [],
   "source": [
    "#ce.sz_cp.add_x_tip_an([ce.sz_bd.L * 0.05, 1])"
   ]
  },
  {
   "cell_type": "code",
   "execution_count": null,
   "metadata": {},
   "outputs": [],
   "source": [
    "# ce.sz_cp.beta"
   ]
  },
  {
   "cell_type": "code",
   "execution_count": null,
   "metadata": {},
   "outputs": [],
   "source": [
    "ce.interact()"
   ]
  },
  {
   "cell_type": "code",
   "execution_count": null,
   "metadata": {},
   "outputs": [],
   "source": []
  },
  {
   "cell_type": "code",
   "execution_count": null,
   "metadata": {},
   "outputs": [],
   "source": [
    "x_tip_1 = ce.sz_cp.sz_ctr.x_tip_ak[1,0]\n",
    "idx_tip0 = np.argmax(ce.sz_cp.x_Ka[:, 1] >= x_tip_1)\n",
    "ce.sz_cp.x_Ka[:, 1], np.argmax(ce.sz_cp.x_Ka[:, 1] >= x_tip_1), x_tip_1\n",
    "ce.sz_stress_profile.S_La[idx_tip0,0]"
   ]
  },
  {
   "cell_type": "code",
   "execution_count": null,
   "metadata": {},
   "outputs": [],
   "source": [
    "import matplotlib.pylab as plt\n",
    "_, ax1 = plt.subplots(1, 1, figsize=(11,4))\n",
    "\n",
    "ax1.plot(ce.x_tip_1k, ce.tau_x_tip_1k, 'o-', lw= 2, label = r'$\\tau_{fps}$');\n",
    "ax1.plot(ce.x_tip_1k,  ce.sig_x_tip_0, 'o-', lw= 2, label = r'$\\sigma_{x}$');\n",
    "ax1.plot(ce.x_tip_1k,  ce.sig_z1, 'o-',  lw= 2, label = r'$\\sigma_{z}$');\n",
    "ax1.set_xlabel('Height of the crack'); ax1.set_ylabel('Stress resultants at crack tip');\n",
    "#ce.x_tip_1k\n",
    "ax1.legend()"
   ]
  },
  {
   "cell_type": "code",
   "execution_count": null,
   "metadata": {},
   "outputs": [],
   "source": [
    "ce.R_n #* 180/np.pi"
   ]
  },
  {
   "cell_type": "code",
   "execution_count": null,
   "metadata": {},
   "outputs": [],
   "source": [
    "np.max(ce.F_N_delta), np.max(ce.F_beam), np.argmax(ce.F_N_delta), np.argmax(ce.F_beam), ce.F_N_delta[64]"
   ]
  },
  {
   "cell_type": "code",
   "execution_count": null,
   "metadata": {},
   "outputs": [],
   "source": [
    "ce.v_n[64]"
   ]
  },
  {
   "cell_type": "code",
   "execution_count": null,
   "metadata": {},
   "outputs": [],
   "source": [
    "ce.Q[117], ce.F_N_delta[117]#/4.5"
   ]
  },
  {
   "cell_type": "code",
   "execution_count": null,
   "metadata": {},
   "outputs": [],
   "source": [
    "ce.F_beam[89]"
   ]
  },
  {
   "cell_type": "code",
   "execution_count": null,
   "metadata": {},
   "outputs": [],
   "source": [
    "ce.sig_z1[89]"
   ]
  },
  {
   "cell_type": "code",
   "execution_count": null,
   "metadata": {},
   "outputs": [],
   "source": [
    "ce.crack_tip_shear_stress.M_cantilever"
   ]
  },
  {
   "cell_type": "code",
   "execution_count": null,
   "metadata": {},
   "outputs": [],
   "source": [
    "import matplotlib.pylab as plt\n",
    "_, ax1 = plt.subplots(1, 1, figsize=(11,4))\n",
    "\n",
    "crack_positions = np.linspace(0.1 * ce.sz_bd.L, 0.9 * ce.sz_bd.L, 9)\n",
    "ax1.plot(ce.x_tip_1n,  ce.sig_x_tip_0, lw= 2, label = r'$\\sigma_{x}$');\n",
    "ax1.plot(ce.x_tip_1n,  ce.tau_x_tip_1k, lw= 2, label = r'$\\tau_{fpz}$')\n",
    "ax1.plot(ce.x_tip_1n,  ce.sig_z1, lw= 2, label = r'$\\sigma_{z}$'); \n",
    "ax1.set_xlabel(r'$\\mathrm{Crack\\,Height}\\,(mm)$'); ax1.set_ylabel(r'$\\mathrm{Stress\\,at\\,crack\\,tip}\\,(N/mm)$');\n",
    "ax1.set_title(r'Stress state at crack tip')\n",
    "ax1.legend()"
   ]
  },
  {
   "cell_type": "code",
   "execution_count": null,
   "metadata": {},
   "outputs": [],
   "source": [
    "import matplotlib.pylab as plt\n",
    "_, ax1 = plt.subplots(1, 1, figsize=(11,4))\n",
    "\n",
    "crack_positions = np.linspace(0.1 * ce.sz_bd.L, 0.9 * ce.sz_bd.L, 9)\n",
    "ax1.plot(ce.x_tip_1n,  ce.sig_x_tip_0, lw= 2, label = r'$\\sigma_{x}$');\n",
    "ax1.plot(ce.x_tip_1n,  ce.tau_x_tip_1k, lw= 2, label = r'$\\tau_{fpz}$')\n",
    "ax1.set_xlabel(r'$\\mathrm{Crack\\,Height}\\,(mm)$'); ax1.set_ylabel(r'$\\mathrm{Stress\\,at\\,crack\\,tip}\\,(N/mm)$');\n",
    "ax1.set_title(r'Stress state at crack tip')\n",
    "ax1.legend()"
   ]
  },
  {
   "cell_type": "code",
   "execution_count": null,
   "metadata": {},
   "outputs": [],
   "source": [
    "ce.crack_tip_shear_stress.tau_x_tip_1k"
   ]
  },
  {
   "cell_type": "code",
   "execution_count": null,
   "metadata": {},
   "outputs": [],
   "source": [
    "ce.crack_tip_shear_stress.sig_x_tip_0"
   ]
  },
  {
   "cell_type": "code",
   "execution_count": null,
   "metadata": {},
   "outputs": [],
   "source": [
    "ce.crack_tip_shear_stress.sig_z1"
   ]
  },
  {
   "cell_type": "code",
   "execution_count": null,
   "metadata": {},
   "outputs": [],
   "source": [
    "ce.crack_tip_shear_stress.sig_z1\n",
    "#ce.crack_tip_shear_stress.tau_x_tip_1k"
   ]
  },
  {
   "cell_type": "code",
   "execution_count": null,
   "metadata": {},
   "outputs": [],
   "source": [
    "ce.sz_stress_profile.M"
   ]
  },
  {
   "cell_type": "code",
   "execution_count": null,
   "metadata": {},
   "outputs": [],
   "source": [
    "ce.sz_stress_profile.F_Na"
   ]
  },
  {
   "cell_type": "code",
   "execution_count": null,
   "metadata": {},
   "outputs": [],
   "source": [
    "ce.sz_stress_profile.M"
   ]
  },
  {
   "cell_type": "code",
   "execution_count": null,
   "metadata": {},
   "outputs": [],
   "source": [
    "2850 / ce.sz_bd.B"
   ]
  },
  {
   "cell_type": "code",
   "execution_count": null,
   "metadata": {},
   "outputs": [],
   "source": [
    "import numpy as np\n",
    "import matplotlib.pylab as plt\n",
    "from bmcs_shear.shear_crack.crack_propagation import CrackPropagation\n",
    "n =60\n",
    "ce = CrackPropagation(n_seg=n)\n",
    "ce.sz_bd.Rectangle = True\n",
    "ce.sz_bd.matrix='advanced'\n",
    "ce.sz_bd.matrix_.trait_set(f_t = 0.3 * 38 **(2/3), f_c = 38, d_a = 8, E_c = 28000, L_fps = 3, interlock_factor = 1) \n",
    "\n",
    "\n",
    "ce.sz_bd.trait_set(H=350, B=320, L=1395)#(H=600, B=250, L=3850)\n",
    "crack_positions = np.linspace(0.1 * ce.sz_bd.L, 0.9 * ce.sz_bd.L, 9)\n",
    "ce.crack_tip_shear_stress.trait_set(L_cs = 300)\n",
    "ce.sz_cp.sz_ctr.trait_set(ell = 1, L_fps = 3)\n",
    "ce.sz_bd.csl.add_layer(CrackBridgeAdv(z=50, n=5, d_s=16, E = 210000, tau = 16, sig_y = 713, dowel_factor = 1, f_c = 38))\n",
    "\n",
    "\n",
    "\n",
    "\n",
    "F_beam = []\n",
    "F_max = []\n",
    "v_beam = []\n",
    "for crack_position in crack_positions:\n",
    "    ce.reset()\n",
    "    ce.sz_cp.trait_set(x_00=crack_position)\n",
    "    ce.run()\n",
    "    F_beam_ = np.array(ce.F_beam) / 1000\n",
    "    F_max_ = np.max(F_beam_)\n",
    "    v_beam_ = np.array(ce.v_n)\n",
    "    F_beam.append(F_beam_)\n",
    "    v_beam.append(v_beam_)\n",
    "    F_max.append(F_max_)\n",
    "    print('**************')\n",
    "    print(crack_position)\n",
    "    print(np.max(F_beam))"
   ]
  },
  {
   "cell_type": "code",
   "execution_count": null,
   "metadata": {},
   "outputs": [],
   "source": [
    "import matplotlib.pylab as plt\n",
    "_, ax1 = plt.subplots(1, 1, figsize=(11,4))\n",
    "ax1.plot(v_beam[0],  F_beam[0], lw= 2, label = r'$0.1L$'); #/1000#\n",
    "ax1.plot(v_beam[1],  F_beam[1], lw= 2, label = r'$0.2L$');\n",
    "ax1.plot(v_beam[2],  F_beam[2], lw= 2, label = r'$0.3L$');\n",
    "ax1.plot(v_beam[3],  F_beam[3], lw= 2, label = r'$0.4L$');\n",
    "ax1.plot(v_beam[4],  F_beam[4], lw= 2, label = r'$0.5L$');\n",
    "ax1.plot(v_beam[5],  F_beam[5], lw= 2, label = r'$0.6L$');\n",
    "ax1.plot(v_beam[6],  F_beam[6], lw= 2, label = r'$0.7L$');\n",
    "ax1.plot(v_beam[7],  F_beam[7], lw= 2, label = r'$0.8L$');\n",
    "ax1.plot(v_beam[8],  F_beam[8], lw= 2, label = r'$0.9L$');\n",
    "ax1.set_xlabel(r'$\\mathrm{Deflection\\,(mm)}$'); ax1.set_ylabel(r'$F\\,(kN)$');\n",
    "ax1.set_title(r'Load Deflection')\n",
    "ax1.legend()"
   ]
  },
  {
   "cell_type": "code",
   "execution_count": null,
   "metadata": {},
   "outputs": [],
   "source": [
    "fig, ax = plt.subplots(1,1, figsize = (11, 5))\n",
    "n = 10\n",
    "ce = CrackPropagation(n_seg=n)\n",
    "ce.sz_bd.Rectangle = True\n",
    "ce.sz_bd.matrix='advanced'\n",
    "ce.sz_bd.matrix_.trait_set(f_t = 0.3 * 33.3 **(2/3), f_c = 33.3, d_a = 16, E_c = 28000, L_fps = 80, interlock_factor = 1) \n",
    "\n",
    "\n",
    "ce.sz_bd.trait_set(H=600, B=250, L=3850)\n",
    "crack_positions = np.linspace(0.1 * ce.sz_bd.L, 0.9 * ce.sz_bd.L, 9)\n",
    "ce.crack_tip_shear_stress.trait_set(L_cs = 200)\n",
    "ce.sz_cp.sz_ctr.L_fps = 80\n",
    "ce.sz_cp.sz_ctr.trait_set(ell = 2)\n",
    "ce.sz_bd.csl.add_layer(CrackBridgeAdv(z=44, n=2, d_s=28, E = 210000, tau = 16, sig_y = 713, dowel_factor = 1, f_c = 33.3))\n",
    "ce.sz_bd\n",
    "\n",
    "x_Ia = []\n",
    "for crack_position in crack_positions:\n",
    "    ce.reset()\n",
    "    ce.sz_cp.trait_set(x_00=crack_position)\n",
    "    ce.run()\n",
    "    sz_cp =ce.sz_cp\n",
    "    x_n_a =sz_cp.x_t_Ia[0,:]\n",
    "    x_Ia = sz_cp.x_t_Ia\n",
    "    ds = ce.crack_tip_orientation.crack_tip_shear_stress.sz_stress_profile.ds\n",
    "    ce.sz_cp.plot_sz0(ax)\n",
    "    ds.plot_sz1(ax)\n",
    "    #print(x_Ia)"
   ]
  },
  {
   "cell_type": "code",
   "execution_count": null,
   "metadata": {},
   "outputs": [],
   "source": [
    "import matplotlib.pylab as plt\n",
    "fig, axes = plt.subplots(1,1, figsize = (15, 6))\n",
    "n = 145\n",
    "ce = CrackPropagation(n_seg=n)\n",
    "ce.sz_bd.Rectangle = True\n",
    "ce.sz_bd.matrix='advanced'\n",
    "ce.sz_bd.matrix_.trait_set(f_t = 0.3 * 33.3 **(2/3), f_c = 33.3, d_a = 16, E_c = 28000, L_fps = 80, interlock_factor = 1) \n",
    "\n",
    "\n",
    "ce.sz_bd.trait_set(H=600, B=250, L=3850)\n",
    "crack_position = 0.5 * ce.sz_bd.L\n",
    "ce.crack_tip_shear_stress.trait_set(L_cs = 200)\n",
    "ce.sz_cp.sz_ctr.L_fps = 80\n",
    "ce.sz_cp.sz_ctr.trait_set(ell = 2)\n",
    "ce.sz_bd.csl.add_layer(CrackBridgeAdv(z=44, n=2, d_s=28, E = 210000, tau = 16, sig_y = 713, dowel_factor = 1, f_c = 33.3))\n",
    "ce.sz_bd\n",
    "\n",
    "ce.reset()\n",
    "ce.sz_cp.trait_set(x_00=crack_position)\n",
    "ce.run()\n",
    "fig.clf()\n",
    "axes = ce.sz_stress_profile.subplots(fig)\n",
    "ce.sz_stress_profile.update_plot(axes)\n",
    "ax_u_0, ax_w_0, ax_S_0, ax_F_0, ax_u_1, ax_w_1, ax_S_1, ax_F_1 = axes"
   ]
  },
  {
   "cell_type": "code",
   "execution_count": null,
   "metadata": {},
   "outputs": [],
   "source": [
    "%matplotlib widget  \n",
    "import numpy as np\n",
    "import bmcs_utils.api as bu\n",
    "from bmcs_cross_section.api import ReinfLayer\n",
    "from bmcs_shear.api import CrackBridgeAdv\n",
    "from bmcs_shear.shear_crack.crack_propagation import CrackPropagation\n",
    "ce = CrackPropagation(n_seg=144)\n",
    "ce.sz_bd.Rectangle = True\n",
    "ce.sz_bd.matrix='advanced'\n",
    "ce.sz_bd.matrix_.trait_set(f_t = 0.3 * 33.3 **(2/3), f_c = 33.3, d_a = 16, E_c = 28000, L_fps = 80, interlock_factor = 1) \n",
    "\n",
    "ce.sz_bd.trait_set(H=600, B=250, L=3850)\n",
    "#ce.sz_cp.trait_set(x_00=ce.sz_bd.L * 0.1, n_m = 12)\n",
    "crack_positions = np.linspace(0.1 * ce.sz_bd.L, 0.9 * ce.sz_bd.L, 9)\n",
    "ce.crack_tip_shear_stress.trait_set(L_cs = 200)\n",
    "#ce.sz_cp.sz_ctr.L_fps = 50\n",
    "ce.sz_cp.sz_ctr.trait_set(ell = 2, L_fps = 80)\n",
    "ce.sz_bd.csl.add_layer(CrackBridgeAdv(z=44, n=2, d_s=28, E = 210000, tau = 16, sig_y = 713, dowel_factor = 1, f_c = 33.3))\n",
    "\n",
    "F_max = []\n",
    "F_max_i = []\n",
    "M = []\n",
    "\n",
    "for crack_position in crack_positions:\n",
    "    ce.reset()\n",
    "    ce.sz_cp.trait_set(x_00=crack_position)\n",
    "    ce.run()\n",
    "    \n",
    "    F_beam = ce.F_beam\n",
    "    F_max_ = np.max(F_beam)\n",
    "    F_max_i_ = np.argmax(F_beam)\n",
    "    F_max_i_int = np.array(F_max_i_)\n",
    "    M_ = ce.M[F_max_i_int]\n",
    "    \n",
    "    F_max.append(F_max_)\n",
    "    F_max_i.append(F_max_i_)\n",
    "    M.append(M_)\n",
    "    \n",
    "print('M',  M)"
   ]
  },
  {
   "cell_type": "code",
   "execution_count": null,
   "metadata": {},
   "outputs": [],
   "source": [
    "import matplotlib.pylab as plt\n",
    "_, ax1 = plt.subplots(1, 1, figsize=(9,4))\n",
    "ax1.plot(crack_positions ,  M, lw= 2, label = r'$M$');"
   ]
  },
  {
   "cell_type": "code",
   "execution_count": null,
   "metadata": {},
   "outputs": [],
   "source": [
    "np.sum(np.array([1,2,5]))"
   ]
  }
 ],
 "metadata": {
  "kernelspec": {
   "display_name": "Python 3",
   "language": "python",
   "name": "python3"
  },
  "language_info": {
   "codemirror_mode": {
    "name": "ipython",
    "version": 3
   },
   "file_extension": ".py",
   "mimetype": "text/x-python",
   "name": "python",
   "nbconvert_exporter": "python",
   "pygments_lexer": "ipython3"
  }
 },
 "nbformat": 4,
 "nbformat_minor": 4
}
