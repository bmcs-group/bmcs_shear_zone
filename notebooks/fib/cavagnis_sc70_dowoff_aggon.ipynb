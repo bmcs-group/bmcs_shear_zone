{
 "cells": [
  {
   "cell_type": "code",
   "execution_count": null,
   "metadata": {},
   "outputs": [],
   "source": [
    "%matplotlib widget  \n",
    "import numpy as np\n",
    "import bmcs_utils.api as bu\n",
    "from bmcs_cross_section.api import ReinfLayer\n",
    "from bmcs_shear.api import CrackBridgeAdv\n",
    "from bmcs_shear.shear_crack.crack_propagation import CrackPropagation\n",
    "ce = CrackPropagation(n_seg=400)\n",
    "ce.sz_bd.Rectangle = True\n",
    "ce.sz_bd.matrix='advanced'\n",
    "ce.sz_bd.matrix_.trait_set(f_t = 0.3 * 33.3 **(2/3), f_c = 33.3, d_a = 16, E_c = 28000, L_fps = 80, interlock_factor = 1) \n",
    "\n",
    "ce.sz_bd.trait_set(H=600, B=250, L=3850)\n",
    "ce.sz_cp.trait_set(x_00=ce.sz_bd.L * 0.1, n_m = 12)\n",
    "#ce.sz_cp.sz_ctr.L_fps = 50\n",
    "ce.sz_cp.sz_ctr.trait_set(ell = 1, L_fps = 80)\n",
    "ce.sz_bd.csl.add_layer(CrackBridgeAdv(z=44, n=2, d_s=28, E = 210000, tau = 16, sig_y = 713, dowel_factor = 0, f_c = 33.3))"
   ]
  },
  {
   "cell_type": "code",
   "execution_count": null,
   "metadata": {},
   "outputs": [],
   "source": [
    "ce.interact()"
   ]
  },
  {
   "cell_type": "code",
   "execution_count": null,
   "metadata": {},
   "outputs": [],
   "source": [
    "import numpy as np\n",
    "import matplotlib.pylab as plt\n",
    "from bmcs_shear.shear_crack.crack_propagation import CrackPropagation\n",
    "n = 143\n",
    "ce = CrackPropagation(n_seg=n)\n",
    "ce.sz_bd.Rectangle = True\n",
    "ce.sz_bd.matrix='advanced'\n",
    "ce.sz_bd.matrix_.trait_set(f_t = 0.3 * 33.3 **(2/3), f_c = 33.3, d_a = 16, E_c = 28000, L_fps = 80) \n",
    "\n",
    "ce.sz_bd.trait_set(H=600, B=250, L=3850)\n",
    "crack_positions = np.linspace(0.1 * ce.sz_bd.L, 0.9 * ce.sz_bd.L, 9)\n",
    "ce.sz_cp.sz_ctr.L_fps = 80\n",
    "ce.sz_cp.sz_ctr.trait_set(ell = 2)\n",
    "ce.sz_bd.csl.add_layer(CrackBridgeAdv(z=44, n=2, d_s=28, E = 210000, tau = 16, sig_y = 713, dowel_factor = 0, f_c = 33.3))\n",
    "ce.sz_bd\n",
    "\n",
    "\n",
    "F_beam = []\n",
    "v_beam = []\n",
    "for crack_position in crack_positions:\n",
    "    ce.reset()\n",
    "    ce.sz_cp.trait_set(x_00=crack_position)\n",
    "    ce.run()\n",
    "    F_beam_ = np.array(ce.F_beam) / 1000\n",
    "    v_beam_ = np.array(ce.v_n)\n",
    "    F_beam.append(F_beam_)\n",
    "    v_beam.append(v_beam_)\n",
    "    print('**************')\n",
    "    print(crack_position)\n",
    "    print(np.max(F_beam))"
   ]
  },
  {
   "cell_type": "code",
   "execution_count": null,
   "metadata": {},
   "outputs": [],
   "source": [
    "import matplotlib.pylab as plt\n",
    "_, ax1 = plt.subplots(1, 1, figsize=(11,4))\n",
    "ax1.plot(v_beam[0],  F_beam[0], lw= 2, label = r'$0.1L$'); #/1000#\n",
    "ax1.plot(v_beam[1],  F_beam[1], lw= 2, label = r'$0.2L$');\n",
    "ax1.plot(v_beam[2],  F_beam[2], lw= 2, label = r'$0.3L$');\n",
    "ax1.plot(v_beam[3],  F_beam[3], lw= 2, label = r'$0.4L$');\n",
    "ax1.plot(v_beam[4],  F_beam[4], lw= 2, label = r'$0.5L$');\n",
    "ax1.plot(v_beam[5],  F_beam[5], lw= 2, label = r'$0.6L$');\n",
    "ax1.plot(v_beam[6],  F_beam[6], lw= 2, label = r'$0.7L$');\n",
    "ax1.plot(v_beam[7],  F_beam[7], lw= 2, label = r'$0.8L$');\n",
    "ax1.plot(v_beam[8],  F_beam[8], lw= 2, label = r'$0.9L$');\n",
    "ax1.set_xlabel(r'$\\mathrm{Deflection\\,(mm)}$'); ax1.set_ylabel(r'$F\\,(kN)$');\n",
    "ax1.set_title(r'Load Deflection')\n",
    "ax1.legend()"
   ]
  },
  {
   "cell_type": "code",
   "execution_count": null,
   "metadata": {},
   "outputs": [],
   "source": [
    "fig, ax = plt.subplots(1,1, figsize = (11, 5))\n",
    "n = 143\n",
    "ce = CrackPropagation(n_seg=n)\n",
    "ce.sz_bd.Rectangle = True\n",
    "ce.sz_bd.matrix='advanced'\n",
    "ce.sz_bd.matrix_.trait_set(f_t = 0.3 * 33.3 **(2/3), f_c = 33.3, d_a = 16, E_c = 28000, L_fps = 80) \n",
    "\n",
    "ce.sz_bd.trait_set(H=600, B=250, L=3850)\n",
    "crack_positions = np.linspace(0.1 * ce.sz_bd.L, 0.9 * ce.sz_bd.L, 9)\n",
    "ce.sz_cp.sz_ctr.L_fps = 80\n",
    "ce.sz_cp.sz_ctr.trait_set(ell = 2)\n",
    "ce.sz_bd.csl.add_layer(CrackBridgeAdv(z=44, n=2, d_s=28, E = 210000, tau = 16, sig_y = 713, dowel_factor = 0, f_c = 33.3))\n",
    "ce.sz_bd\n",
    "\n",
    "x_Ia = []\n",
    "for crack_position in crack_positions:\n",
    "    ce.reset()\n",
    "    ce.sz_cp.trait_set(x_00=crack_position)\n",
    "    ce.run()\n",
    "    sz_cp =ce.sz_cp\n",
    "    x_n_a =sz_cp.x_t_Ia[0,:]\n",
    "    x_Ia = sz_cp.x_t_Ia\n",
    "    ds = ce.crack_tip_orientation.crack_tip_shear_stress.sz_stress_profile.ds\n",
    "    ce.sz_cp.plot_sz0(ax)\n",
    "    ds.plot_sz1(ax)\n",
    "    #print(x_Ia)"
   ]
  },
  {
   "cell_type": "code",
   "execution_count": null,
   "metadata": {},
   "outputs": [],
   "source": [
    "import matplotlib.pylab as plt\n",
    "fig, axes = plt.subplots(1,1, figsize = (15, 6))\n",
    "n = 144\n",
    "ce = CrackPropagation(n_seg=n)\n",
    "ce.sz_bd.Rectangle = True\n",
    "ce.sz_bd.matrix='advanced'\n",
    "ce.sz_bd.matrix_.trait_set(f_t = 0.3 * 33.3 **(2/3), f_c = 33.3, d_a = 16, E_c = 28000, L_fps = 80) \n",
    "\n",
    "ce.sz_bd.trait_set(H=600, B=250, L=3850)\n",
    "crack_position = 0.9 * ce.sz_bd.L\n",
    "ce.sz_cp.sz_ctr.L_fps = 80\n",
    "ce.sz_cp.sz_ctr.trait_set(ell = 2)\n",
    "ce.sz_bd.csl.add_layer(CrackBridgeAdv(z=44, n=2, d_s=28, E = 210000, tau = 16, sig_y = 713, dowel_factor = 0, f_c = 33.3))\n",
    "ce.sz_bd\n",
    "\n",
    "ce.reset()\n",
    "ce.sz_cp.trait_set(x_00=crack_position)\n",
    "ce.run()\n",
    "fig.clf()\n",
    "axes = ce.sz_stress_profile.subplots(fig)\n",
    "ce.sz_stress_profile.update_plot(axes)\n",
    "ax_u_0, ax_w_0, ax_S_0, ax_F_0, ax_u_1, ax_w_1, ax_S_1, ax_F_1 = axes"
   ]
  },
  {
   "cell_type": "code",
   "execution_count": null,
   "metadata": {},
   "outputs": [],
   "source": [
    "ce.sz_stress_profile.F_Na"
   ]
  },
  {
   "cell_type": "code",
   "execution_count": null,
   "metadata": {},
   "outputs": [],
   "source": []
  }
 ],
 "metadata": {
  "kernelspec": {
   "display_name": "Python 3",
   "language": "python",
   "name": "python3"
  },
  "language_info": {
   "codemirror_mode": {
    "name": "ipython",
    "version": 3
   },
   "file_extension": ".py",
   "mimetype": "text/x-python",
   "name": "python",
   "nbconvert_exporter": "python",
   "pygments_lexer": "ipython3"
  }
 },
 "nbformat": 4,
 "nbformat_minor": 4
}
