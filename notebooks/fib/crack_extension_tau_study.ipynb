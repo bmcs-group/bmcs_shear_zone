{
 "cells": [
  {
   "cell_type": "code",
   "execution_count": null,
   "metadata": {},
   "outputs": [],
   "source": [
    "%matplotlib widget  \n",
    "import numpy as np\n",
    "import bmcs_utils.api as bu\n",
    "from bmcs_cross_section.api import ReinfLayer\n",
    "from bmcs_shear.api import CrackBridgeAdv\n",
    "from bmcs_shear.shear_crack.crack_propagation import CrackPropagation\n",
    "ce = CrackPropagation(n_seg=100)\n",
    "ce.sz_bd.Rectangle = True\n",
    "ce.sz_bd.matrix='advanced'\n",
    "# ce.sz_cto.crack_tip_shear_stress = 'global'\n",
    "ce.sz_bd.matrix_.trait_set(f_t = 0.3 * 33.3 **(2/3), f_c = 33.3, d_a = 16, E_c = 28000, L_fps = 80, interlock_factor = 1) \n",
    "\n",
    "\n",
    "ce.crack_tip_shear_stress.trait_set(L_cs = 300)\n",
    "#ce.sz_cp.x_t_Ia[0,:]\n",
    "x_00= 20\n",
    "ce.sz_cp.trait_set(x_00=x_00, n_m = 15)\n",
    "ce.sz_bd.Rectangle = True\n",
    "ce.sz_bd.trait_set(H=300, B=200, L=500)\n",
    "#ce.sz_cp.add_x_tip_an([x_00-10, 50]) \n",
    "#ce.sz_cp.add_x_tip_an([x_00-30, 100]) \n",
    "#ce.sz_cp.sz_ctr.trait_set(ell = 2, L_fps = 80)\n",
    "#ce.sz_cp.sz_ctr.x_rot_1k = 200\n",
    "ce.sz_bd.csl.add_layer(CrackBridgeAdv(z=44, n=2, d_s=1, E = 210000, tau = 16, sig_y = 713, dowel_factor = 1, f_c = 33.3))"
   ]
  },
  {
   "cell_type": "code",
   "execution_count": null,
   "metadata": {},
   "outputs": [],
   "source": [
    "ce.sz_cp.add_x_tip_an([x_00, 50]) \n",
    "ce.sz_cp.add_x_tip_an([x_00, 100]) \n",
    "#ce.sz_cp.sz_ctr.trait_set(ell = 2, L_fps = 80)\n",
    "#ce.reset()\n",
    "ce.make_incr()\n",
    "ce.interact()"
   ]
  },
  {
   "cell_type": "code",
   "execution_count": null,
   "metadata": {},
   "outputs": [],
   "source": [
    "ce.tau_x_tip_1k, ce.sig_z1, ce.sig_x_tip_0, ce.crack_tip_orientation.get_psi() * 180 / np.pi"
   ]
  },
  {
   "cell_type": "code",
   "execution_count": null,
   "metadata": {},
   "outputs": [],
   "source": [
    "ce.crack_tip_shear_stress. sig_x_tip_0"
   ]
  },
  {
   "cell_type": "code",
   "execution_count": null,
   "metadata": {},
   "outputs": [],
   "source": [
    "#ce.interact()"
   ]
  },
  {
   "cell_type": "code",
   "execution_count": null,
   "metadata": {},
   "outputs": [],
   "source": [
    "#ce.run()"
   ]
  },
  {
   "cell_type": "code",
   "execution_count": null,
   "metadata": {},
   "outputs": [],
   "source": [
    "ce.sz_cp.beta"
   ]
  },
  {
   "cell_type": "code",
   "execution_count": null,
   "metadata": {},
   "outputs": [],
   "source": [
    "ce.sz_cp.sz_ctr.x_tip_ak[:,:]"
   ]
  },
  {
   "cell_type": "code",
   "execution_count": null,
   "metadata": {},
   "outputs": [],
   "source": [
    "from bmcs_shear.shear_crack.crack_propagation import CrackPropagation\n",
    "ce = CrackPropagation(n_seg=2)\n",
    "ce.sz_ctr.x_tip_ak[:,:]"
   ]
  },
  {
   "cell_type": "code",
   "execution_count": null,
   "metadata": {},
   "outputs": [],
   "source": [
    "ce.sz_cp.sz_ctr.x_rot_ak"
   ]
  },
  {
   "cell_type": "code",
   "execution_count": null,
   "metadata": {},
   "outputs": [],
   "source": [
    "idx_tip0 = np.argmax(ce.sz_cp.x_Ka[:, 1] >= ce.sz_cp.sz_ctr.x_rot_ak)\n",
    "idx_tip0"
   ]
  },
  {
   "cell_type": "code",
   "execution_count": null,
   "metadata": {},
   "outputs": [],
   "source": [
    "ce.sz_cp.x_Ka"
   ]
  },
  {
   "cell_type": "code",
   "execution_count": null,
   "metadata": {},
   "outputs": [],
   "source": [
    "ce.run()"
   ]
  },
  {
   "cell_type": "code",
   "execution_count": null,
   "metadata": {},
   "outputs": [],
   "source": []
  }
 ],
 "metadata": {
  "kernelspec": {
   "display_name": "Python 3",
   "language": "python",
   "name": "python3"
  },
  "language_info": {
   "codemirror_mode": {
    "name": "ipython",
    "version": 3
   },
   "file_extension": ".py",
   "mimetype": "text/x-python",
   "name": "python",
   "nbconvert_exporter": "python",
   "pygments_lexer": "ipython3"
  }
 },
 "nbformat": 4,
 "nbformat_minor": 4
}
