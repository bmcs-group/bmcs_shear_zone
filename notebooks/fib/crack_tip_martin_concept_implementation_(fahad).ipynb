{
 "cells": [
  {
   "cell_type": "markdown",
   "metadata": {},
   "source": [
    "# Implementation of Martin's Classen crack orientation concept"
   ]
  },
  {
   "cell_type": "code",
   "execution_count": 3,
   "metadata": {},
   "outputs": [],
   "source": [
    "import sympy as sp\n",
    "import numpy as np"
   ]
  },
  {
   "cell_type": "markdown",
   "metadata": {},
   "source": [
    "<img src=\"martin concept.png\" width=\"700\"/> "
   ]
  },
  {
   "cell_type": "markdown",
   "metadata": {},
   "source": [
    "## Symbol representation"
   ]
  },
  {
   "cell_type": "code",
   "execution_count": 4,
   "metadata": {},
   "outputs": [
    {
     "data": {
      "text/latex": [
       "$\\displaystyle \\psi$"
      ],
      "text/plain": [
       "\\psi"
      ]
     },
     "execution_count": 4,
     "metadata": {},
     "output_type": "execute_result"
    }
   ],
   "source": [
    "sigma_x0, sigma_z0, tau_0 = sp.symbols('sigma_x0, sigma_z0, tau_0')\n",
    "psi = sp.Symbol(r'\\psi')\n",
    "psi"
   ]
  },
  {
   "cell_type": "markdown",
   "metadata": {},
   "source": [
    "## Tranformation of global stresses into cosine components"
   ]
  },
  {
   "cell_type": "markdown",
   "metadata": {},
   "source": [
    "\\begin{align}\n",
    "\\sigma_{x0} = \n",
    "\\left[\n",
    "\\begin{array}{cc}\n",
    "\\sigma_{x0} \\cos \\psi \\\\\n",
    "\\sigma_{x0} \\sin \\psi \\\\\n",
    "\\end{array}\n",
    "\\right]\n",
    "\\end{align}"
   ]
  },
  {
   "cell_type": "code",
   "execution_count": 5,
   "metadata": {},
   "outputs": [
    {
     "data": {
      "text/latex": [
       "$\\displaystyle \\left[\\begin{matrix}\\sigma_{x0} \\cos{\\left(\\psi \\right)}\\\\\\sigma_{x0} \\sin{\\left(\\psi \\right)}\\end{matrix}\\right]$"
      ],
      "text/plain": [
       "Matrix([\n",
       "[sigma_x0*cos(\\psi)],\n",
       "[sigma_x0*sin(\\psi)]])"
      ]
     },
     "execution_count": 5,
     "metadata": {},
     "output_type": "execute_result"
    }
   ],
   "source": [
    "sigma_x0_components = sp.Matrix([sigma_x0 * sp.cos(psi), sigma_x0 * sp.sin(psi)])\n",
    "sigma_x0_components"
   ]
  },
  {
   "cell_type": "markdown",
   "metadata": {},
   "source": [
    "\\begin{align}\n",
    "\\sigma_{z0} = \n",
    "\\left[\n",
    "\\begin{array}{cc}\n",
    "\\sigma_{z0} \\cos \\psi \\\\\n",
    "\\sigma_{z0} \\sin \\psi \\\\\n",
    "\\end{array}\n",
    "\\right]\n",
    "\\end{align}"
   ]
  },
  {
   "cell_type": "code",
   "execution_count": 6,
   "metadata": {},
   "outputs": [
    {
     "data": {
      "text/latex": [
       "$\\displaystyle \\left[\\begin{matrix}\\sigma_{z0} \\cos{\\left(\\psi \\right)}\\\\\\sigma_{z0} \\sin{\\left(\\psi \\right)}\\end{matrix}\\right]$"
      ],
      "text/plain": [
       "Matrix([\n",
       "[sigma_z0*cos(\\psi)],\n",
       "[sigma_z0*sin(\\psi)]])"
      ]
     },
     "execution_count": 6,
     "metadata": {},
     "output_type": "execute_result"
    }
   ],
   "source": [
    "sigma_z0_components = sp.Matrix([sigma_z0 * sp.cos(psi), sigma_z0 * sp.sin(psi)])\n",
    "sigma_z0_components"
   ]
  },
  {
   "cell_type": "markdown",
   "metadata": {},
   "source": [
    "\\begin{align}\n",
    "\\tau_{0} = \n",
    "\\left[\n",
    "\\begin{array}{cc}\n",
    "\\tau_{0} \\cos \\psi \\\\\n",
    "\\tau_{0} \\sin \\psi \\\\\n",
    "\\end{array}\n",
    "\\right]\n",
    "\\end{align}"
   ]
  },
  {
   "cell_type": "code",
   "execution_count": 7,
   "metadata": {},
   "outputs": [
    {
     "data": {
      "text/latex": [
       "$\\displaystyle \\left[\\begin{matrix}\\tau_{0} \\cos{\\left(\\psi \\right)}\\\\\\tau_{0} \\sin{\\left(\\psi \\right)}\\end{matrix}\\right]$"
      ],
      "text/plain": [
       "Matrix([\n",
       "[tau_0*cos(\\psi)],\n",
       "[tau_0*sin(\\psi)]])"
      ]
     },
     "execution_count": 7,
     "metadata": {},
     "output_type": "execute_result"
    }
   ],
   "source": [
    "tau_0_components = sp.Matrix([tau_0 * sp.cos(psi), tau_0 * sp.sin(psi)])\n",
    "tau_0_components"
   ]
  },
  {
   "cell_type": "markdown",
   "metadata": {},
   "source": [
    "## Principle Stress tensor"
   ]
  },
  {
   "cell_type": "markdown",
   "metadata": {},
   "source": [
    "\\begin{align}\n",
    "\\sigma_{ij} = \n",
    "\\left[\n",
    "\\begin{array}{cc}\n",
    "\\sigma_{1} & 0 \\\\\n",
    "0 & \\sigma_{2}\n",
    "\\end{array}\n",
    "\\right]\n",
    "\\end{align}"
   ]
  },
  {
   "cell_type": "code",
   "execution_count": 8,
   "metadata": {},
   "outputs": [
    {
     "data": {
      "text/latex": [
       "$\\displaystyle \\left[\\begin{matrix}\\sigma_{1} & 0\\\\0 & \\sigma_{2}\\end{matrix}\\right]$"
      ],
      "text/plain": [
       "Matrix([\n",
       "[sigma_1,       0],\n",
       "[      0, sigma_2]])"
      ]
     },
     "execution_count": 8,
     "metadata": {},
     "output_type": "execute_result"
    }
   ],
   "source": [
    "sigma_1, sigma_2 = sp.symbols('sigma_1, sigma_2')\n",
    "sigma_ps = sp.Matrix([[sigma_1, 0], [0, sigma_2]])\n",
    "sigma_ps"
   ]
  },
  {
   "cell_type": "markdown",
   "metadata": {},
   "source": [
    "## Triangle 1"
   ]
  },
  {
   "cell_type": "markdown",
   "metadata": {},
   "source": [
    "<img src=\"triangle 1.png\" width=\"400\"/> "
   ]
  },
  {
   "cell_type": "markdown",
   "metadata": {},
   "source": [
    "## Principle Stress Tensor equivalence from triangle 1"
   ]
  },
  {
   "cell_type": "code",
   "execution_count": 9,
   "metadata": {},
   "outputs": [
    {
     "data": {
      "text/latex": [
       "$\\displaystyle \\left[\\begin{matrix}\\sigma_{z0} + \\tau_{0} \\tan{\\left(\\psi \\right)} & 0\\\\0 & \\left\\lfloor{\\sigma_{z0} - \\frac{\\tau_{0}}{\\tan{\\left(\\psi \\right)}}}\\right\\rfloor\\end{matrix}\\right]$"
      ],
      "text/plain": [
       "Matrix([\n",
       "[sigma_z0 + tau_0*tan(\\psi),                                 0],\n",
       "[                         0, floor(sigma_z0 - tau_0/tan(\\psi))]])"
      ]
     },
     "execution_count": 9,
     "metadata": {},
     "output_type": "execute_result"
    }
   ],
   "source": [
    "sigma_ps_equiv_1 = sp.simplify(sp.Matrix([[(sigma_z0_components[0] + tau_0_components[1])/sp.cos(psi), 0], \n",
    "                            [0, (sigma_z0_components[1] - tau_0_components[0])//sp.sin(psi)]]))\n",
    "sigma_ps_equiv_1"
   ]
  },
  {
   "cell_type": "code",
   "execution_count": 10,
   "metadata": {},
   "outputs": [
    {
     "data": {
      "text/latex": [
       "$\\displaystyle \\left[\\begin{matrix}\\sigma_{1} & 0\\\\0 & \\sigma_{2}\\end{matrix}\\right] = \\left[\\begin{matrix}\\sigma_{z0} + \\tau_{0} \\tan{\\left(\\psi \\right)} & 0\\\\0 & \\left\\lfloor{\\sigma_{z0} - \\frac{\\tau_{0}}{\\tan{\\left(\\psi \\right)}}}\\right\\rfloor\\end{matrix}\\right]$"
      ],
      "text/plain": [
       "Eq(Matrix([\n",
       "[sigma_1,       0],\n",
       "[      0, sigma_2]]), Matrix([\n",
       "[sigma_z0 + tau_0*tan(\\psi),                                 0],\n",
       "[                         0, floor(sigma_z0 - tau_0/tan(\\psi))]]))"
      ]
     },
     "execution_count": 10,
     "metadata": {},
     "output_type": "execute_result"
    }
   ],
   "source": [
    "sig_ps_1 = sp.Eq(sigma_ps, sigma_ps_equiv_1)\n",
    "sig_ps_1"
   ]
  },
  {
   "cell_type": "code",
   "execution_count": 11,
   "metadata": {},
   "outputs": [
    {
     "data": {
      "text/latex": [
       "$\\displaystyle \\operatorname{atan}{\\left(\\frac{\\sigma_{1} - \\sigma_{z0}}{\\tau_{0}} \\right)}$"
      ],
      "text/plain": [
       "atan((sigma_1 - sigma_z0)/tau_0)"
      ]
     },
     "execution_count": 11,
     "metadata": {},
     "output_type": "execute_result"
    }
   ],
   "source": [
    "psi_solved = sp.solve(sp.Eq(sigma_ps[0,0], sigma_ps_equiv_1[0,0]), psi)[0]\n",
    "psi_solved"
   ]
  },
  {
   "cell_type": "code",
   "execution_count": 12,
   "metadata": {},
   "outputs": [
    {
     "data": {
      "text/latex": [
       "$\\displaystyle \\operatorname{atan}{\\left(\\frac{f_{ct} - \\sigma_{z0}}{\\tau_{0}} \\right)}$"
      ],
      "text/plain": [
       "atan((f_ct - sigma_z0)/tau_0)"
      ]
     },
     "execution_count": 12,
     "metadata": {},
     "output_type": "execute_result"
    }
   ],
   "source": [
    "f_ct = sp.Symbol('f_ct')\n",
    "psi_subs = psi_solved.subs(sigma_1, f_ct)\n",
    "psi_subs"
   ]
  },
  {
   "cell_type": "code",
   "execution_count": 13,
   "metadata": {},
   "outputs": [
    {
     "data": {
      "text/plain": [
       "<function _lambdifygenerated(sigma_1, sigma_z0, tau_0)>"
      ]
     },
     "execution_count": 13,
     "metadata": {},
     "output_type": "execute_result"
    }
   ],
   "source": [
    "get_psi = sp.lambdify((sigma_1, sigma_z0, tau_0), psi_solved)\n",
    "get_psi"
   ]
  },
  {
   "cell_type": "code",
   "execution_count": 14,
   "metadata": {},
   "outputs": [
    {
     "data": {
      "text/plain": [
       "<matplotlib.legend.Legend at 0x28c0e383370>"
      ]
     },
     "execution_count": 14,
     "metadata": {},
     "output_type": "execute_result"
    },
    {
     "data": {
      "image/png": "[encoded data removed]",
      "text/plain": [
       "<Figure size 792x288 with 1 Axes>"
      ]
     },
     "metadata": {
      "needs_background": "light"
     },
     "output_type": "display_data"
    }
   ],
   "source": [
    "import matplotlib.pylab as plt\n",
    "_, ax1 = plt.subplots(1, 1, figsize=(11,4))\n",
    "\n",
    "f_ct_val = 3\n",
    "eta = 0.5\n",
    "tau_xx = eta * f_ct_val\n",
    "sigma_z = np.linspace(0, 3, 50)\n",
    "psi_xz = get_psi(f_ct_val, sigma_z, tau_xx)\n",
    "\n",
    "ax1.plot(psi_xz * 180/ np.pi,  sigma_z, 'o-', lw= 2, label = r'$\\sigma_{\\mathrm{z}}}$')\n",
    "ax1.set_xlabel(r'$\\psi_{\\mathrm{xz}}$'); ax1.set_ylabel(r'$\\sigma_{\\mathrm{z}}$');\n",
    "ax1.set_title(r'$\\tau_{\\mathrm{fpz}} = constant$, and changing $\\sigma_{\\mathrm{z}}$')\n",
    "ax1.legend()"
   ]
  },
  {
   "cell_type": "code",
   "execution_count": 15,
   "metadata": {},
   "outputs": [
    {
     "data": {
      "text/plain": [
       "<matplotlib.legend.Legend at 0x28c0f520a30>"
      ]
     },
     "execution_count": 15,
     "metadata": {},
     "output_type": "execute_result"
    },
    {
     "data": {
      "image/png": "[encoded data removed]",
      "text/plain": [
       "<Figure size 792x288 with 1 Axes>"
      ]
     },
     "metadata": {
      "needs_background": "light"
     },
     "output_type": "display_data"
    }
   ],
   "source": [
    "import matplotlib.pylab as plt\n",
    "_, ax1 = plt.subplots(1, 1, figsize=(11,4))\n",
    "\n",
    "f_ct_val = 3\n",
    "sigma_z = 2.9\n",
    "tau_xx = np.linspace(0.1, 3, 50)\n",
    "psi_xz = get_psi(f_ct_val, sigma_z, tau_xx)\n",
    "\n",
    "ax1.plot(psi_xz * 180/ np.pi,  tau_xx, 'o-', lw= 2, label = r'$\\tau_{\\mathrm{0}}}$')\n",
    "ax1.set_xlabel(r'$\\theta_{\\mathrm{xz}}$'); ax1.set_ylabel(r'$\\tau_{\\mathrm{0}}$');\n",
    "ax1.set_title(r'$\\sigma_{\\mathrm{z}} = constant$, and changing $\\tau_{\\mathrm{0}}$')\n",
    "ax1.legend()"
   ]
  },
  {
   "cell_type": "code",
   "execution_count": 16,
   "metadata": {},
   "outputs": [
    {
     "name": "stdout",
     "output_type": "stream",
     "text": [
      "[[87.13759477 84.28940686 81.46923439 78.69006753 75.96375653 73.30075577\n",
      "  70.70995378 68.19859051 65.77225468 63.43494882]\n",
      " [86.79383608 83.60762632 80.46058967 77.37054105 74.35334448 71.42252466\n",
      "  68.58905069 65.86128465 63.24507121 60.74393478]\n",
      " [86.35636772 82.74196989 79.18465761 75.70967492 72.33872115 69.08936965\n",
      "  65.97485162 63.00416161 60.18240836 57.51132349]\n",
      " [85.78090465 81.60707481 77.5209282  73.55962048 69.75337992 66.12471915\n",
      "  62.68846625 59.45242825 56.41844708 53.58362148]\n",
      " [84.99012494 80.05570574 75.26559423 70.67681568 66.3315991  62.25679553\n",
      "  58.46520809 54.9580706  51.72793593 48.76143748]\n",
      " [83.83594756 77.8113668  72.04767569 66.63565552 61.63095371 57.05676253\n",
      "  52.91071946 49.17298448 45.81347567 42.79740184]\n",
      " [81.99527114 74.29136217 67.12633481 60.64224646 54.88798882 49.84400038\n",
      "  45.45113855 41.63353934 38.31309067 35.41705528]\n",
      " [78.60786417 68.05130092 58.84797762 51.1322225  44.78700552 39.59620864\n",
      "  35.33643905 31.8142387  28.87411397 26.39503453]\n",
      " [70.44174846 54.60520416 43.17591017 35.13419306 29.37789974 25.13295499\n",
      "  21.9058684  19.38451568 17.36744914 15.72092779]\n",
      " [33.69006753 18.43494882 12.52880771  9.46232221  7.59464337  6.34019175\n",
      "   5.44033203  4.76364169  4.2363948   3.81407483]]\n"
     ]
    }
   ],
   "source": [
    "f_ct_val = 3\n",
    "tau_xx_num = 10\n",
    "tau_xx = np.linspace(0.15,1.5, tau_xx_num)\n",
    "#eta = 0.2\n",
    "#tau_xx = eta * f_ct_val\n",
    "sig_z_num = 10\n",
    "sigma_z = np.linspace(0, 2.9, sig_z_num)\n",
    "psi = np.zeros([tau_xx_num, sig_z_num])\n",
    "for j in  range(len(sigma_z)):\n",
    "    #print('sigma_z =', sigma_z[j])\n",
    "    for i in range(len(tau_xx)):\n",
    "        #print('tau_fpz =', tau_fpz[i])\n",
    "        psi_xz = get_psi(f_ct_val, sigma_z[j], tau_xx[i])\n",
    "        psi[j, i] = psi_xz\n",
    "print(psi * 180/ np.pi) "
   ]
  },
  {
   "cell_type": "code",
   "execution_count": 17,
   "metadata": {},
   "outputs": [
    {
     "data": {
      "text/plain": [
       "<matplotlib.legend.Legend at 0x28c0f646f10>"
      ]
     },
     "execution_count": 17,
     "metadata": {},
     "output_type": "execute_result"
    },
    {
     "data": {
      "image/png": "[encoded data removed]",
      "text/plain": [
       "<Figure size 936x432 with 1 Axes>"
      ]
     },
     "metadata": {
      "needs_background": "light"
     },
     "output_type": "display_data"
    }
   ],
   "source": [
    "import matplotlib.pylab as plt\n",
    "_, ax1 = plt.subplots(1, 1, figsize=(13,6))\n",
    "ax1.plot(psi[:,0] * 180/ np.pi,  sigma_z, 'o-',lw= 2, label = r'$\\tau_{\\mathrm{fpz}} = 0.15}$')\n",
    "ax1.plot(psi[:,1] * 180/ np.pi,  sigma_z, 'o-',lw= 2, label = r'$\\tau_{\\mathrm{fpz}} = 0.3}$')\n",
    "ax1.plot(psi[:,2] * 180/ np.pi,  sigma_z, 'o-',lw= 2, label = r'$\\tau_{\\mathrm{fpz}} = 0.45}$')\n",
    "ax1.plot(psi[:,3] * 180/ np.pi,  sigma_z, 'o-',lw= 2, label = r'$\\tau_{\\mathrm{fpz}} = 0.6}$')\n",
    "ax1.plot(psi[:,4] * 180/ np.pi,  sigma_z, 'o-',lw= 2, label = r'$\\tau_{\\mathrm{fpz}} = 0.75}$')\n",
    "ax1.plot(psi[:,5] * 180/ np.pi,  sigma_z, 'o-',lw= 2, label = r'$\\tau_{\\mathrm{fpz}} = 0.9}$')\n",
    "ax1.plot(psi[:,6] * 180/ np.pi,  sigma_z, 'o-',lw= 2, label = r'$\\tau_{\\mathrm{fpz}} = 1.05}$')\n",
    "ax1.plot(psi[:,7] * 180/ np.pi,  sigma_z, 'o-',lw= 2, label = r'$\\tau_{\\mathrm{fpz}} = 1.2}$')\n",
    "ax1.plot(psi[:,8] * 180/ np.pi,  sigma_z, 'o-',lw= 2, label = r'$\\tau_{\\mathrm{fpz}} = 1.35}$')\n",
    "ax1.plot(psi[:,9] * 180/ np.pi,  sigma_z, 'o-',lw= 2, label = r'$\\tau_{\\mathrm{fpz}} = 1.5}$')\n",
    "ax1.set_xlabel(r'$\\theta_{\\mathrm{xz}}$'); ax1.set_ylabel(r'$\\sigma_{\\mathrm{z}}$');\n",
    "ax1.set_title(r'Angle of orientation with crack parallel stress')\n",
    "ax1.legend()"
   ]
  },
  {
   "cell_type": "markdown",
   "metadata": {},
   "source": [
    "## Triangle 2"
   ]
  },
  {
   "cell_type": "markdown",
   "metadata": {},
   "source": [
    "<img src=\"triangle 2.png\" width=\"300\"/> "
   ]
  },
  {
   "cell_type": "markdown",
   "metadata": {},
   "source": [
    "## Principle Stress Tensor equivalence from triangle 2"
   ]
  },
  {
   "cell_type": "code",
   "execution_count": 18,
   "metadata": {},
   "outputs": [
    {
     "data": {
      "text/latex": [
       "$\\displaystyle \\left[\\begin{matrix}\\sigma_{x0} + \\frac{\\tau_{0}}{\\tan{\\left(\\psi \\right)}} & 0\\\\0 & \\left\\lfloor{\\sigma_{x0} - \\tau_{0} \\tan{\\left(\\psi \\right)}}\\right\\rfloor\\end{matrix}\\right]$"
      ],
      "text/plain": [
       "Matrix([\n",
       "[sigma_x0 + tau_0/tan(\\psi),                                 0],\n",
       "[                         0, floor(sigma_x0 - tau_0*tan(\\psi))]])"
      ]
     },
     "execution_count": 18,
     "metadata": {},
     "output_type": "execute_result"
    }
   ],
   "source": [
    "sigma_x0, sigma_z0, tau_0 = sp.symbols('sigma_x0, sigma_z0, tau_0')\n",
    "psi = sp.Symbol(r'\\psi')\n",
    "sigma_ps_equiv_2 = sp.simplify(sp.Matrix([[(sigma_x0_components[1] + tau_0_components[0])/sp.sin(psi), 0], \n",
    "                                          [0, (sigma_x0_components[0] - tau_0_components[1])//sp.cos(psi)]]))\n",
    "sigma_ps_equiv_2"
   ]
  },
  {
   "cell_type": "code",
   "execution_count": 19,
   "metadata": {},
   "outputs": [
    {
     "data": {
      "text/latex": [
       "$\\displaystyle \\left[\\begin{matrix}\\sigma_{1} & 0\\\\0 & \\sigma_{2}\\end{matrix}\\right] = \\left[\\begin{matrix}\\sigma_{x0} + \\frac{\\tau_{0}}{\\tan{\\left(\\psi \\right)}} & 0\\\\0 & \\left\\lfloor{\\sigma_{x0} - \\tau_{0} \\tan{\\left(\\psi \\right)}}\\right\\rfloor\\end{matrix}\\right]$"
      ],
      "text/plain": [
       "Eq(Matrix([\n",
       "[sigma_1,       0],\n",
       "[      0, sigma_2]]), Matrix([\n",
       "[sigma_x0 + tau_0/tan(\\psi),                                 0],\n",
       "[                         0, floor(sigma_x0 - tau_0*tan(\\psi))]]))"
      ]
     },
     "execution_count": 19,
     "metadata": {},
     "output_type": "execute_result"
    }
   ],
   "source": [
    "sig_ps_2 = sp.Eq(sigma_ps, sigma_ps_equiv_2)\n",
    "sig_ps_2"
   ]
  },
  {
   "cell_type": "markdown",
   "metadata": {},
   "source": [
    "## $\\sigma_{x0}$, $\\tau_{0}$ calculation based on principal stress criteria"
   ]
  },
  {
   "cell_type": "code",
   "execution_count": 20,
   "metadata": {},
   "outputs": [
    {
     "data": {
      "text/latex": [
       "$\\displaystyle \\frac{\\sigma_{1} - \\sigma_{z0}}{\\tan{\\left(\\psi \\right)}}$"
      ],
      "text/plain": [
       "(sigma_1 - sigma_z0)/tan(\\psi)"
      ]
     },
     "execution_count": 20,
     "metadata": {},
     "output_type": "execute_result"
    }
   ],
   "source": [
    "tau_0_solve = sp.solve(sp.Eq(sigma_ps[0,0], sigma_ps_equiv_1[0,0]), tau_0)[0]\n",
    "tau_0_solve"
   ]
  },
  {
   "cell_type": "code",
   "execution_count": 21,
   "metadata": {},
   "outputs": [
    {
     "data": {
      "text/plain": [
       "<function _lambdifygenerated(sigma_1, sigma_z0, Dummy_27)>"
      ]
     },
     "execution_count": 21,
     "metadata": {},
     "output_type": "execute_result"
    }
   ],
   "source": [
    "psi = sp.Symbol(r'\\psi')\n",
    "get_tau_0 = sp.lambdify((sigma_1, sigma_z0, psi), tau_0_solve, 'numpy')\n",
    "get_tau_0"
   ]
  },
  {
   "cell_type": "code",
   "execution_count": 99,
   "metadata": {},
   "outputs": [
    {
     "data": {
      "image/png": "[encoded data removed]",
      "text/plain": [
       "<Figure size 792x288 with 1 Axes>"
      ]
     },
     "metadata": {
      "needs_background": "light"
     },
     "output_type": "display_data"
    }
   ],
   "source": [
    "import matplotlib.pylab as plt\n",
    "_, ax1 = plt.subplots(1, 1, figsize=(11,4))\n",
    "sigma_1 = 3.1#np.linspace(0, 3.1, 50)\n",
    "sigma_z = 0\n",
    "psi = np.linspace(1 * np.pi/180, 89.99 * np.pi/180 , 50)#* np.pi/180\n",
    "tau_0_val = get_tau_0(sigma_1, sigma_z, psi)\n",
    "ax1.plot(psi * 180/np.pi, tau_0_val)#color='blue', label = r'$\\sigma_{\\mathrm{x}}[i]}$')\n",
    "ax1.set_xlabel(r'$\\psi}$')\n",
    "ax1.set_ylabel(r'$\\tau_{fps}}$')\n",
    "#ax1.legend()\n",
    "plt.savefig(\"D:\\Shear zones\\Python plots\\shear sig z-0.25.pdf\")"
   ]
  },
  {
   "cell_type": "code",
   "execution_count": 100,
   "metadata": {},
   "outputs": [
    {
     "data": {
      "text/plain": [
       "(array([1.77598881e+02, 6.30206494e+01, 3.82600145e+01, 2.74280835e+01,\n",
       "        2.13423189e+01, 1.74374748e+01, 1.47147103e+01, 1.27043208e+01,\n",
       "        1.11563238e+01, 9.92542892e+00, 8.92142318e+00, 8.08532944e+00,\n",
       "        7.37696218e+00, 6.76799355e+00, 6.23787856e+00, 5.77135257e+00,\n",
       "        5.35683586e+00, 4.98538371e+00, 4.64997599e+00, 4.34502480e+00,\n",
       "        4.06602582e+00, 3.80930671e+00, 3.57184246e+00, 3.35111774e+00,\n",
       "        3.14502289e+00, 2.95177429e+00, 2.76985277e+00, 2.59795531e+00,\n",
       "        2.43495699e+00, 2.27988052e+00, 2.13187183e+00, 1.99018022e+00,\n",
       "        1.85414216e+00, 1.72316794e+00, 1.59673065e+00, 1.47435693e+00,\n",
       "        1.35561924e+00, 1.24012929e+00, 1.12753250e+00, 1.01750322e+00,\n",
       "        9.09740588e-01, 8.03964963e-01, 6.99914787e-01, 5.97343810e-01,\n",
       "        4.96018607e-01, 3.95716354e-01, 2.96222780e-01, 1.97330292e-01,\n",
       "        9.88362015e-02, 5.41052074e-04]),\n",
       " 3.1,\n",
       " array([ 1.        ,  2.81612245,  4.6322449 ,  6.44836735,  8.2644898 ,\n",
       "        10.08061224, 11.89673469, 13.71285714, 15.52897959, 17.34510204,\n",
       "        19.16122449, 20.97734694, 22.79346939, 24.60959184, 26.42571429,\n",
       "        28.24183673, 30.05795918, 31.87408163, 33.69020408, 35.50632653,\n",
       "        37.32244898, 39.13857143, 40.95469388, 42.77081633, 44.58693878,\n",
       "        46.40306122, 48.21918367, 50.03530612, 51.85142857, 53.66755102,\n",
       "        55.48367347, 57.29979592, 59.11591837, 60.93204082, 62.74816327,\n",
       "        64.56428571, 66.38040816, 68.19653061, 70.01265306, 71.82877551,\n",
       "        73.64489796, 75.46102041, 77.27714286, 79.09326531, 80.90938776,\n",
       "        82.7255102 , 84.54163265, 86.3577551 , 88.17387755, 89.99      ]))"
      ]
     },
     "execution_count": 100,
     "metadata": {},
     "output_type": "execute_result"
    }
   ],
   "source": [
    "tau_0_val, sigma_1, psi * 180/np.pi"
   ]
  },
  {
   "cell_type": "code",
   "execution_count": 35,
   "metadata": {},
   "outputs": [
    {
     "data": {
      "text/latex": [
       "$\\displaystyle \\sigma_{1} - \\frac{\\sigma_{1}}{\\tan^{2}{\\left(\\psi \\right)}} + \\frac{\\sigma_{z0}}{\\tan^{2}{\\left(\\psi \\right)}}$"
      ],
      "text/plain": [
       "sigma_1 - sigma_1/tan(\\psi)**2 + sigma_z0/tan(\\psi)**2"
      ]
     },
     "execution_count": 35,
     "metadata": {},
     "output_type": "execute_result"
    }
   ],
   "source": [
    "sigma_x0_solve = sp.solve(sp.Eq(sigma_ps[0,0], sigma_ps_equiv_2[0,0]).subs(tau_0, tau_0_solve), sigma_x0)[0]\n",
    "sigma_x0_solve"
   ]
  },
  {
   "cell_type": "code",
   "execution_count": 36,
   "metadata": {},
   "outputs": [
    {
     "data": {
      "text/plain": [
       "<function _lambdifygenerated(sigma_1, sigma_z0, Dummy_34)>"
      ]
     },
     "execution_count": 36,
     "metadata": {},
     "output_type": "execute_result"
    }
   ],
   "source": [
    "psi = sp.Symbol(r'\\psi')\n",
    "sigma_1 = sp.Symbol('sigma_1')\n",
    "get_sig_x0 = sp.lambdify((sigma_1, sigma_z0, psi), sigma_x0_solve, 'numpy')\n",
    "get_sig_x0"
   ]
  },
  {
   "cell_type": "code",
   "execution_count": 106,
   "metadata": {},
   "outputs": [
    {
     "data": {
      "image/png": "[encoded data removed]",
      "text/plain": [
       "<Figure size 792x288 with 1 Axes>"
      ]
     },
     "metadata": {
      "needs_background": "light"
     },
     "output_type": "display_data"
    }
   ],
   "source": [
    "import matplotlib.pylab as plt\n",
    "_, ax1 = plt.subplots(1, 1, figsize=(11,4))\n",
    "sigma_1 = 3.1#np.linspace(0, 3.1, 50)\n",
    "sigma_z = 0\n",
    "psi = np.linspace(1 * np.pi/180, 90 * np.pi/180, 50) #* np.pi/180\n",
    "sigma_x0_val = get_sig_x0(sigma_1, sigma_z, psi)\n",
    "sigma_x0_val\n",
    "ax1.plot(psi * 180/np.pi, sigma_x0_val)#color='blue', label = r'$\\sigma_{\\mathrm{x}}[i]}$')\n",
    "ax1.set_xlabel(r'$\\psi}$')\n",
    "ax1.set_ylabel(r'$\\sigma_{x}}$')\n",
    "#ax1.legend()\n",
    "plt.savefig(\"D:\\Shear zones\\Python plots\\sig_x.pdf\")"
   ]
  },
  {
   "cell_type": "code",
   "execution_count": 107,
   "metadata": {},
   "outputs": [
    {
     "data": {
      "text/plain": [
       "(array([-1.01715331e+04, -1.27787605e+03, -4.69019241e+02, -2.39530877e+02,\n",
       "        -1.43804305e+02, -9.49653841e+01, -6.67312349e+01, -4.89531692e+01,\n",
       "        -3.70406670e+01, -2.86715959e+01, -2.25688732e+01, -1.79829773e+01,\n",
       "        -1.44504993e+01, -1.16724304e+01, -9.44883649e+00, -7.64192703e+00,\n",
       "        -6.15424098e+00, -4.91527086e+00, -3.87299046e+00, -2.98833440e+00,\n",
       "        -2.23151013e+00, -1.57947879e+00, -1.01420003e+00, -5.21386964e-01,\n",
       "        -8.96087075e-02,  2.90366189e-01,  6.26056519e-01,  9.23633785e-01,\n",
       "         1.18819954e+00,  1.42399814e+00,  1.63458144e+00,  1.82293753e+00,\n",
       "         1.99159210e+00,  2.14268894e+00,  2.27805415e+00,  2.39924796e+00,\n",
       "         2.50760646e+00,  2.60427566e+00,  2.69023921e+00,  2.76634119e+00,\n",
       "         2.83330472e+00,  2.89174741e+00,  2.94219397e+00,  2.98508658e+00,\n",
       "         3.02079342e+00,  3.04961547e+00,  3.07179208e+00,  3.08750520e+00,\n",
       "         3.09688258e+00,  3.10000000e+00]),\n",
       " array([ 1.        ,  2.81632653,  4.63265306,  6.44897959,  8.26530612,\n",
       "        10.08163265, 11.89795918, 13.71428571, 15.53061224, 17.34693878,\n",
       "        19.16326531, 20.97959184, 22.79591837, 24.6122449 , 26.42857143,\n",
       "        28.24489796, 30.06122449, 31.87755102, 33.69387755, 35.51020408,\n",
       "        37.32653061, 39.14285714, 40.95918367, 42.7755102 , 44.59183673,\n",
       "        46.40816327, 48.2244898 , 50.04081633, 51.85714286, 53.67346939,\n",
       "        55.48979592, 57.30612245, 59.12244898, 60.93877551, 62.75510204,\n",
       "        64.57142857, 66.3877551 , 68.20408163, 70.02040816, 71.83673469,\n",
       "        73.65306122, 75.46938776, 77.28571429, 79.10204082, 80.91836735,\n",
       "        82.73469388, 84.55102041, 86.36734694, 88.18367347, 90.        ]))"
      ]
     },
     "execution_count": 107,
     "metadata": {},
     "output_type": "execute_result"
    }
   ],
   "source": [
    "sigma_x0_val, psi * 180/np.pi"
   ]
  },
  {
   "cell_type": "markdown",
   "metadata": {},
   "source": [
    "### Global stress tensor\n",
    "\\begin{align}\n",
    "\\sigma_{ij} = \n",
    "\\left[\n",
    "\\begin{array}{cc}\n",
    "\\sigma_{x0} & \\tau_0 \\\\\n",
    "\\tau_0 & \\sigma_{z0}\n",
    "\\end{array}\n",
    "\\right]\n",
    "\\end{align}"
   ]
  },
  {
   "cell_type": "code",
   "execution_count": null,
   "metadata": {},
   "outputs": [],
   "source": [
    "# sigma_ij = sp.simplify(sp.Matrix([[sigma_x0_solve, tau_0_solve], \n",
    "#                             [tau_0_solve, sigma_z0]]))\n",
    "# sigma_ij"
   ]
  },
  {
   "cell_type": "markdown",
   "metadata": {},
   "source": [
    "### Ratio of principal stresses\n",
    "\\begin{equation}\n",
    "\\alpha = \\frac{\\sigma_1}{\\sigma_2}\n",
    "\\end{equation}"
   ]
  },
  {
   "cell_type": "code",
   "execution_count": null,
   "metadata": {},
   "outputs": [],
   "source": [
    "alpha = sigma_ps_equiv_1[0,0] / sigma_ps_equiv_1[1,1]\n",
    "alpha"
   ]
  },
  {
   "cell_type": "markdown",
   "metadata": {},
   "source": [
    "# Tensor formulation"
   ]
  },
  {
   "cell_type": "code",
   "execution_count": null,
   "metadata": {},
   "outputs": [],
   "source": [
    "import sympy as sp\n",
    "import numpy as np\n",
    "sp.init_printing()"
   ]
  },
  {
   "cell_type": "markdown",
   "metadata": {},
   "source": [
    "To simplify orientation, a the components of a general 2D stress tensor are introduced as follows"
   ]
  },
  {
   "cell_type": "markdown",
   "metadata": {},
   "source": [
    "\\begin{align}\n",
    "\\sigma_{ij} = \n",
    "\\left[\n",
    "\\begin{array}{cc}\n",
    "\\sigma_{xx} & \\sigma_{xy} \\\\\n",
    "\\sigma_{yx} & \\sigma_{yy}\n",
    "\\end{array}\n",
    "\\right] =\n",
    "\\left[\n",
    "\\begin{array}{cc}\n",
    "\\sigma_{x} & \\tau^\\mathrm{fps} \\\\\n",
    "\\tau^\\mathrm{fps} & \\sigma_{y}\n",
    "\\end{array}\n",
    "\\right]\n",
    "\\end{align}"
   ]
  },
  {
   "cell_type": "markdown",
   "metadata": {},
   "source": [
    "The global stress components $\\sigma_x$ and $\\sigma_y$ are given based on the equilibrium conditions at the cross sectional level. The shear stress $\\tau^\\mathrm{fps}$ can be calculated either using a cross-sectional equilibrium or based on the compression-tension yield envelope. "
   ]
  },
  {
   "cell_type": "markdown",
   "metadata": {},
   "source": [
    "The crack is assumed to propagate along $\\sigma_2$ and open along $\\sigma_1$, i.e.\n",
    "\\begin{align}\n",
    "\\sigma_{12} =\n",
    "\\left[\n",
    "\\begin{array}{cc}\n",
    "\\sigma_1 & 0 \\\\\n",
    "0 & \\sigma_2\n",
    "\\end{array}\n",
    "\\right]\n",
    "\\end{align}"
   ]
  },
  {
   "cell_type": "code",
   "execution_count": null,
   "metadata": {},
   "outputs": [],
   "source": [
    "tau_fps, sigma_x, sigma_y = sp.symbols(r'tau_fps, sigma_x, sigma_y')\n",
    "sigma_1, sigma_2 = sp.symbols(r'sigma_1, sigma_2')\n",
    "f_ct, f_cm = sp.symbols(r'f_ct, f_cm', nonnegative=True)"
   ]
  },
  {
   "cell_type": "code",
   "execution_count": null,
   "metadata": {},
   "outputs": [],
   "source": [
    "sigma_xy = sp.Matrix([[sigma_x, tau_fps],\n",
    "                     [tau_fps, sigma_y]])\n",
    "sigma_12 = sp.Matrix([[sigma_1, 0],\n",
    "                      [0, sigma_2]])"
   ]
  },
  {
   "cell_type": "code",
   "execution_count": null,
   "metadata": {},
   "outputs": [],
   "source": [
    "P_xy, D_xy = sigma_xy.diagonalize()\n",
    "P_xy, D_xy"
   ]
  },
  {
   "cell_type": "markdown",
   "metadata": {},
   "source": [
    "## Kupfer envelope on combined tension and compression"
   ]
  },
  {
   "cell_type": "code",
   "execution_count": null,
   "metadata": {},
   "outputs": [],
   "source": [
    "Kupfer = sp.Eq(-sp.Rational(8,10) * sigma_1 / f_cm + sigma_2 / f_ct, 1)\n",
    "Kupfer"
   ]
  },
  {
   "cell_type": "code",
   "execution_count": null,
   "metadata": {},
   "outputs": [],
   "source": [
    "sigma_1_solved = sp.solve(Kupfer, sigma_1)[0]\n",
    "sigma_1_solved"
   ]
  },
  {
   "cell_type": "code",
   "execution_count": null,
   "metadata": {},
   "outputs": [],
   "source": [
    "sig_1_eq = sp.Eq(sigma_1_solved, D_xy[0,0])\n",
    "sig_1_eq"
   ]
  },
  {
   "cell_type": "code",
   "execution_count": null,
   "metadata": {},
   "outputs": [],
   "source": [
    "tau_fps_solved = sp.solve(sig_1_eq.subs(sigma_2, D_xy[1,1]), tau_fps)[0]"
   ]
  },
  {
   "cell_type": "code",
   "execution_count": null,
   "metadata": {},
   "outputs": [],
   "source": [
    "tau_fps_solved"
   ]
  },
  {
   "cell_type": "code",
   "execution_count": null,
   "metadata": {},
   "outputs": [],
   "source": [
    "tau_simplified = tau_fps_solved.subs(f_cm, 33.3).subs(f_ct, 3.1)\n",
    "get_tau_fps = sp.lambdify((sigma_x, sigma_y), tau_simplified, 'numpy')"
   ]
  },
  {
   "cell_type": "code",
   "execution_count": null,
   "metadata": {},
   "outputs": [],
   "source": [
    "import matplotlib.pylab as plt\n",
    "_, ax1 = plt.subplots(1, 1, figsize=(11,4))\n",
    "sigma_x_fix = 1.57\n",
    "sigma_y_var = np.linspace(0, 3, 100)\n",
    "tau_fps_val = get_tau_fps(sigma_x_fix, sigma_y_var)\n",
    "ax1.plot(sigma_y_var, tau_fps_val)#color='blue', label = r'$\\sigma_{\\mathrm{x}}[i]}$')\n",
    "ax1.set_xlabel(r'$\\sigma_{\\mathrm{y}}$')\n",
    "ax1.set_ylabel(r'$\\tau_{fps}}$')\n",
    "ax1.legend()\n",
    "plt.savefig(\"D:\\Shear zones\\Python plots\\shear_fps_.pdf\")"
   ]
  },
  {
   "cell_type": "code",
   "execution_count": null,
   "metadata": {},
   "outputs": [],
   "source": [
    "import matplotlib.pylab as plt\n",
    "_, ax1 = plt.subplots(1, 1, figsize=(11,4))\n",
    "sigma_y_fix = 0\n",
    "sigma_x_var = np.linspace(0, 3, 100)\n",
    "tau_fps_val = get_tau_fps(sigma_x_var, sigma_y_fix)\n",
    "ax1.plot(sigma_x_var, tau_fps_val)#color='blue', label = r'$\\sigma_{\\mathrm{x}}[i]}$')\n",
    "ax1.set_xlabel(r'$\\sigma_{\\mathrm{x}}$')\n",
    "ax1.set_ylabel(r'$\\tau_{fps}}$')\n",
    "ax1.legend()\n",
    "plt.savefig(\"D:\\Shear zones\\Python plots\\shear_fps_.pdf\")"
   ]
  },
  {
   "cell_type": "code",
   "execution_count": null,
   "metadata": {
    "scrolled": false
   },
   "outputs": [],
   "source": [
    "import matplotlib.pylab as plt\n",
    "_, ax1 = plt.subplots(1, 1, figsize=(13,6))\n",
    "sig_x_num = 10\n",
    "sig_x_var = np.linspace(0, 3, sig_x_num)\n",
    "sig_y_num = 10\n",
    "sig_y_var = np.linspace(0, 3, sig_y_num)\n",
    "tau_fps_val = np.zeros([sig_x_num, sig_y_num])\n",
    "for j in range(len(sig_y_var)):\n",
    "    # print('sigma_z =', sigma_z[j])\n",
    "    for i in range(len(sig_x_var)):\n",
    "        # print('tau_fpz =', tau_fpz[i])\n",
    "        tau_fps = get_tau_fps(sig_x_var[i], sig_y_var[j])\n",
    "        tau_fps_val[j, i] = tau_fps\n",
    "    ax1.plot(sig_y_var, tau_fps_val[j,:])#color='blue', label = r'$\\sigma_{\\mathrm{x}}[i]}$')\n",
    "    ax1.set_xlabel(r'$\\sigma_{\\mathrm{y}}$')\n",
    "    ax1.set_ylabel(r'$\\tau_{\\mathrm{fpz}}$')\n",
    "    #ax2.set_title(r'$\\sigma_{\\mathrm{x}} = constant$, and changing $\\sigma_{\\mathrm{y}}$')\n",
    "#   ax1.legend()"
   ]
  },
  {
   "cell_type": "code",
   "execution_count": null,
   "metadata": {},
   "outputs": [],
   "source": [
    "sigma_y_fix = 0\n",
    "sigma_x_var = 3\n",
    "tau_fps_val = get_tau_fps(sigma_x_var, sigma_y_fix)\n",
    "tau_fps_val"
   ]
  },
  {
   "cell_type": "code",
   "execution_count": null,
   "metadata": {},
   "outputs": [],
   "source": [
    "sigma_y_fix = 1\n",
    "sigma_x_var = 3\n",
    "tau_fps_val = get_tau_fps(sigma_x_var, sigma_y_fix)\n",
    "tau_fps_val "
   ]
  },
  {
   "cell_type": "code",
   "execution_count": null,
   "metadata": {},
   "outputs": [],
   "source": [
    "sigma_y_fix = 1\n",
    "sigma_x_var = 0\n",
    "tau_fps_val = get_tau_fps(sigma_x_var, sigma_y_fix)\n",
    "tau_fps_val "
   ]
  },
  {
   "cell_type": "code",
   "execution_count": null,
   "metadata": {},
   "outputs": [],
   "source": [
    "sigma_y_fix = 3\n",
    "sigma_x_var = 0\n",
    "tau_fps_val = get_tau_fps(sigma_x_var, sigma_y_fix)\n",
    "tau_fps_val "
   ]
  },
  {
   "cell_type": "code",
   "execution_count": null,
   "metadata": {},
   "outputs": [],
   "source": [
    "sigma_y_fix = 1.0155263137082111\n",
    "sigma_x_var = 1.3208937518187431\n",
    "tau_fps_val = get_tau_fps(sigma_x_var, sigma_y_fix)\n",
    "tau_fps_val "
   ]
  },
  {
   "cell_type": "code",
   "execution_count": null,
   "metadata": {},
   "outputs": [],
   "source": [
    "tau_fps_solved.subs({sigma_x:0, sigma_y:0, f_ct:3, f_cm:30})"
   ]
  },
  {
   "cell_type": "code",
   "execution_count": null,
   "metadata": {},
   "outputs": [],
   "source": [
    "params = (sigma_x, sigma_y, f_ct, f_cm)"
   ]
  },
  {
   "cell_type": "code",
   "execution_count": null,
   "metadata": {},
   "outputs": [],
   "source": [
    "get_tau_fps = sp.lambdify(params, tau_fps_solved, 'numpy')\n",
    "get_tau_fps(3,0,3,30)"
   ]
  },
  {
   "cell_type": "markdown",
   "metadata": {},
   "source": [
    "The consequence of using the Kupfer criterion for the determination of the shear stress at the crack tip is that the currently used evaluation of the critical strain cannot be calculated as \n",
    "$$\n",
    "w_\\mathrm{cr} = \\frac{1}{E_\\mathrm{cr}} \\sigma_2 L_\\mathrm{c}\n",
    "$$\n",
    "as done so far. The question is, if the currently used criterion \n",
    "on the principle stress direction could be modified to search for a consistent\n",
    "value of the shear stress at the crack tip within the stress tensor. \n",
    "Then, $w_\\mathrm{cr}$ could be expressed in terms of the stress state \n",
    "$$\n",
    " \\varepsilon_{ab} = C_{abcd} \\sigma_{cd} \n",
    "$$\n",
    "The crack opening would be obtained as the principle strain distributed over a predefined length $L_\\mathrm{c}$."
   ]
  },
  {
   "cell_type": "markdown",
   "metadata": {},
   "source": [
    "$$\n",
    "\\varepsilon_{12} = P_{ab} \\varepsilon_{bc} P_{cd}\n",
    "$$"
   ]
  },
  {
   "cell_type": "markdown",
   "metadata": {},
   "source": [
    "$$\n",
    "w_\\mathrm{cr} = \\varepsilon_{2} L_\\mathrm{c}\n",
    "$$"
   ]
  },
  {
   "cell_type": "markdown",
   "metadata": {},
   "source": [
    "## Principle direction"
   ]
  },
  {
   "cell_type": "code",
   "execution_count": null,
   "metadata": {},
   "outputs": [],
   "source": [
    "tau_fps, sigma_x, sigma_y = sp.symbols(r'tau_fps, sigma_x, sigma_y')\n",
    "tau_fps, sigma_x, sigma_y = sp.symbols(r'tau_fps, sigma_x, sigma_y')\n",
    "sigma_1, sigma_2 = sp.symbols(r'sigma_1, sigma_2')\n",
    "f_ct, f_cm = sp.symbols(r'f_ct, f_cm', nonnegative=True)"
   ]
  },
  {
   "cell_type": "code",
   "execution_count": null,
   "metadata": {},
   "outputs": [],
   "source": [
    "sigma_xy = sp.Matrix([[sigma_x, tau_fps],\n",
    "                     [tau_fps, sigma_y]])\n",
    "sigma_12 = sp.Matrix([[sigma_1, 0],\n",
    "                      [0, sigma_2]])"
   ]
  },
  {
   "cell_type": "code",
   "execution_count": null,
   "metadata": {},
   "outputs": [],
   "source": [
    "P_xy, D_xy = sigma_xy.diagonalize()\n",
    "P_xy, D_xy"
   ]
  },
  {
   "cell_type": "code",
   "execution_count": null,
   "metadata": {},
   "outputs": [],
   "source": [
    "P_xy_tau = P_xy.subs(tau_fps, tau_fps_solved)\n",
    "P_xy_tau"
   ]
  },
  {
   "cell_type": "code",
   "execution_count": null,
   "metadata": {},
   "outputs": [],
   "source": [
    "theta_f = sp.atan( sp.simplify(-P_xy_tau[0,0] / P_xy_tau[1,0]))\n",
    "theta_f"
   ]
  },
  {
   "cell_type": "code",
   "execution_count": null,
   "metadata": {},
   "outputs": [],
   "source": [
    "#get_theta = sp.lambdify(params, theta_f, 'numpy')\n",
    "get_theta = sp.lambdify((sigma_x, sigma_y, f_cm, f_ct), theta_f, 'numpy')"
   ]
  },
  {
   "cell_type": "code",
   "execution_count": null,
   "metadata": {},
   "outputs": [],
   "source": [
    "#_, ax = plt.subplots(1,1)\n",
    "# f_cm_, f_ct_ = 30, 3\n",
    "# get_tau_fps(0,1,f_cm_,f_ct_)"
   ]
  },
  {
   "cell_type": "code",
   "execution_count": null,
   "metadata": {},
   "outputs": [],
   "source": [
    "tau_fps_solved"
   ]
  },
  {
   "cell_type": "code",
   "execution_count": null,
   "metadata": {},
   "outputs": [],
   "source": [
    "#theta = theta_f.subs(tau_fps, tau_fps_solved)\n",
    "#theta"
   ]
  },
  {
   "cell_type": "code",
   "execution_count": null,
   "metadata": {},
   "outputs": [],
   "source": [
    "#get_theta_ = sp.lambdify((sigma_x, sigma_y, f_cm, f_ct), theta, 'numpy')\n",
    "#get_theta_"
   ]
  },
  {
   "cell_type": "code",
   "execution_count": null,
   "metadata": {},
   "outputs": [],
   "source": [
    "get_theta(3, 0, 33.3, 3.1) * 180/ np.pi"
   ]
  },
  {
   "cell_type": "code",
   "execution_count": null,
   "metadata": {},
   "outputs": [],
   "source": [
    "get_theta(1.47, 2, 33.3, 3.1) * 180/ np.pi"
   ]
  },
  {
   "cell_type": "code",
   "execution_count": null,
   "metadata": {},
   "outputs": [],
   "source": [
    "get_theta(1.5, 1.5, 33.3, 3.1) * 180/ np.pi"
   ]
  },
  {
   "cell_type": "code",
   "execution_count": null,
   "metadata": {},
   "outputs": [],
   "source": [
    "get_theta(0, 0, 33.3, 3.1) * 180/ np.pi"
   ]
  },
  {
   "cell_type": "code",
   "execution_count": null,
   "metadata": {},
   "outputs": [],
   "source": [
    "get_theta(2, 0, 33.3, 3.1) * 180/ np.pi"
   ]
  },
  {
   "cell_type": "code",
   "execution_count": null,
   "metadata": {},
   "outputs": [],
   "source": [
    "get_theta(1.3208937518187431,1.0155263137082111, 33.3, 3.1) * 180/ np.pi"
   ]
  },
  {
   "cell_type": "code",
   "execution_count": null,
   "metadata": {},
   "outputs": [],
   "source": [
    "get_theta(1, 2, 33.3, 3.1) * 180/ np.pi"
   ]
  },
  {
   "cell_type": "code",
   "execution_count": null,
   "metadata": {},
   "outputs": [],
   "source": [
    "get_theta(0, 3.1, 33.3, 3.1) * 180/ np.pi"
   ]
  },
  {
   "cell_type": "code",
   "execution_count": null,
   "metadata": {},
   "outputs": [],
   "source": [
    "params = {\n",
    "    f_cm : 33,\n",
    "    f_ct : 3\n",
    "}"
   ]
  },
  {
   "cell_type": "code",
   "execution_count": null,
   "metadata": {},
   "outputs": [],
   "source": [
    "theta_simplify = sp.simplify(theta_f.subs(params))\n",
    "theta_simplify"
   ]
  },
  {
   "cell_type": "code",
   "execution_count": null,
   "metadata": {},
   "outputs": [],
   "source": [
    "get_theta = sp.lambdify((sigma_x, sigma_y), theta_simplify, 'numpy')\n",
    "get_theta"
   ]
  },
  {
   "cell_type": "code",
   "execution_count": null,
   "metadata": {},
   "outputs": [],
   "source": [
    "get_theta(0, 0) * 180/ np.pi"
   ]
  },
  {
   "cell_type": "code",
   "execution_count": null,
   "metadata": {},
   "outputs": [],
   "source": [
    "import matplotlib.pylab as plt\n",
    "_, ax1 = plt.subplots(1, 1, figsize=(11,4))\n",
    "sig_x_num = 10\n",
    "sig_x_var_ = np.linspace(0.1, 3, sig_x_num)\n",
    "sig_y_fix_ = 3\n",
    "theta = get_theta(sig_x_var_, sig_y_fix_)\n",
    "ax1.plot(sig_x_var, theta * 180 / np.pi)#color='blue', label = r'$\\sigma_{\\mathrm{x}}[i]}$')\n",
    "ax1.set_xlabel(r'$\\sigma_{\\mathrm{x}}$')\n",
    "ax1.set_ylabel(r'$\\theta}$')\n",
    "ax1.legend()"
   ]
  },
  {
   "cell_type": "code",
   "execution_count": null,
   "metadata": {},
   "outputs": [],
   "source": [
    "import matplotlib.pylab as plt\n",
    "_, ax1 = plt.subplots(1, 1, figsize=(11,4))\n",
    "sig_y_num = 100\n",
    "sig_y_var = np.linspace(0.1, 3, sig_x_num)\n",
    "sig_x_fix = 3\n",
    "theta = get_theta(sig_x_fix, sig_y_var)\n",
    "ax1.plot(sig_y_var,theta * 180/ np.pi)#color='blue', label = r'$\\sigma_{\\mathrm{x}}[i]}$')\n",
    "ax1.set_xlabel(r'$\\sigma_{\\mathrm{y}}$')\n",
    "ax1.set_ylabel(r'$\\theta}$')\n",
    "ax1.legend()\n"
   ]
  },
  {
   "cell_type": "code",
   "execution_count": null,
   "metadata": {},
   "outputs": [],
   "source": [
    "import matplotlib.pylab as plt\n",
    "_, ax1 = plt.subplots(1, 1, figsize=(11,4))\n",
    "\n",
    "sig_x_num = 10\n",
    "sig_x_var = np.linspace(0, 3, sig_x_num)\n",
    "sig_y_num = 10\n",
    "sig_y_var = np.linspace(0, 3, sig_y_num)\n",
    "theta = np.zeros([sig_x_num, sig_y_num])\n",
    "for j in range(len(sig_y_var)):\n",
    "    # print('sigma_z =', sigma_z[j])\n",
    "    for i in range(len(sig_x_var)):\n",
    "        # print('tau_fpz =', tau_fpz[i])\n",
    "        theta_ = get_theta(sig_x_var[i], sig_y_var[j])\n",
    "        theta[j, i] = theta_\n",
    "    ax1.plot(sig_y_var[:],theta[j,:] * 180/np.pi, 'o-')#color='blue', label = r'$\\sigma_{\\mathrm{x}}[i]}$')\n",
    "    ax1.set_xlabel(r'$\\sigma_{\\mathrm{y}}$')\n",
    "    ax1.set_ylabel(r'$\\theta}$')\n",
    "    #ax2.set_title(r'$\\sigma_{\\mathrm{x}} = constant$, and changing $\\sigma_{\\mathrm{y}}$')\n",
    "#     ax1.legend()"
   ]
  },
  {
   "cell_type": "markdown",
   "metadata": {},
   "source": [
    "# Implementation \n",
    "\n",
    " - Evaluate $\\tau_\\mathrm{fps}$ using the bi-axial stress envelope `crack_tip_stress/orientation`\n",
    " - Access the values of `f_t` and `f_c`\n",
    " - Control the w_cr in each iteration"
   ]
  },
  {
   "cell_type": "markdown",
   "metadata": {},
   "source": [
    "## Provide an alternative model component for `crack_tip_shear_stress`.\n",
    "\n",
    "- `CrackTipShearStressCSE`\n",
    "- `CrackTipShearStressBAC`"
   ]
  },
  {
   "cell_type": "code",
   "execution_count": null,
   "metadata": {},
   "outputs": [],
   "source": []
  }
 ],
 "metadata": {
  "kernelspec": {
   "display_name": "Python 3",
   "language": "python",
   "name": "python3"
  },
  "language_info": {
   "codemirror_mode": {
    "name": "ipython",
    "version": 3
   },
   "file_extension": ".py",
   "mimetype": "text/x-python",
   "name": "python",
   "nbconvert_exporter": "python",
   "pygments_lexer": "ipython3",
   "version": "3.9.1"
  }
 },
 "nbformat": 4,
 "nbformat_minor": 4
}
