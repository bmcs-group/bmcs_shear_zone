{
 "cells": [
  {
   "cell_type": "markdown",
   "metadata": {},
   "source": [
    "# Implementation of Martin's Classen crack orientation concept"
   ]
  },
  {
   "cell_type": "code",
   "execution_count": null,
   "metadata": {},
   "outputs": [],
   "source": [
    "import sympy as sp\n",
    "import numpy as np"
   ]
  },
  {
   "cell_type": "markdown",
   "metadata": {},
   "source": [
    "<img src=\"martin concept.png\" width=\"700\"/> "
   ]
  },
  {
   "cell_type": "markdown",
   "metadata": {},
   "source": [
    "## Symbol representation"
   ]
  },
  {
   "cell_type": "code",
   "execution_count": null,
   "metadata": {},
   "outputs": [],
   "source": [
    "sigma_x0, sigma_z0, tau_0 = sp.symbols('sigma_x0, sigma_z0, tau_0')\n",
    "psi = sp.Symbol(r'\\psi')\n",
    "psi"
   ]
  },
  {
   "cell_type": "markdown",
   "metadata": {},
   "source": [
    "## Tranformation of global stresses into cosine components"
   ]
  },
  {
   "cell_type": "markdown",
   "metadata": {},
   "source": [
    "\\begin{align}\n",
    "\\sigma_{x0} = \n",
    "\\left[\n",
    "\\begin{array}{cc}\n",
    "\\sigma_{x0} \\cos \\psi \\\\\n",
    "\\sigma_{x0} \\sin \\psi \\\\\n",
    "\\end{array}\n",
    "\\right]\n",
    "\\end{align}"
   ]
  },
  {
   "cell_type": "code",
   "execution_count": null,
   "metadata": {},
   "outputs": [],
   "source": [
    "sigma_x0_components = sp.Matrix([sigma_x0 * sp.cos(psi), sigma_x0 * sp.sin(psi)])\n",
    "sigma_x0_components"
   ]
  },
  {
   "cell_type": "markdown",
   "metadata": {},
   "source": [
    "\\begin{align}\n",
    "\\sigma_{z0} = \n",
    "\\left[\n",
    "\\begin{array}{cc}\n",
    "\\sigma_{z0} \\cos \\psi \\\\\n",
    "\\sigma_{z0} \\sin \\psi \\\\\n",
    "\\end{array}\n",
    "\\right]\n",
    "\\end{align}"
   ]
  },
  {
   "cell_type": "code",
   "execution_count": null,
   "metadata": {},
   "outputs": [],
   "source": [
    "sigma_z0_components = sp.Matrix([sigma_z0 * sp.cos(psi), sigma_z0 * sp.sin(psi)])\n",
    "sigma_z0_components"
   ]
  },
  {
   "cell_type": "markdown",
   "metadata": {},
   "source": [
    "\\begin{align}\n",
    "\\tau_{0} = \n",
    "\\left[\n",
    "\\begin{array}{cc}\n",
    "\\tau_{0} \\cos \\psi \\\\\n",
    "\\tau_{0} \\sin \\psi \\\\\n",
    "\\end{array}\n",
    "\\right]\n",
    "\\end{align}"
   ]
  },
  {
   "cell_type": "code",
   "execution_count": null,
   "metadata": {},
   "outputs": [],
   "source": [
    "tau_0_components = sp.Matrix([tau_0 * sp.cos(psi), tau_0 * sp.sin(psi)])\n",
    "tau_0_components"
   ]
  },
  {
   "cell_type": "markdown",
   "metadata": {},
   "source": [
    "## Principle Stress tensor"
   ]
  },
  {
   "cell_type": "markdown",
   "metadata": {},
   "source": [
    "\\begin{align}\n",
    "\\sigma_{ij} = \n",
    "\\left[\n",
    "\\begin{array}{cc}\n",
    "\\sigma_{1} & 0 \\\\\n",
    "0 & \\sigma_{2}\n",
    "\\end{array}\n",
    "\\right]\n",
    "\\end{align}"
   ]
  },
  {
   "cell_type": "code",
   "execution_count": null,
   "metadata": {},
   "outputs": [],
   "source": [
    "sigma_1, sigma_2 = sp.symbols('sigma_1, sigma_2')\n",
    "sigma_ps = sp.Matrix([[sigma_1, 0], [0, sigma_2]])\n",
    "sigma_ps"
   ]
  },
  {
   "cell_type": "markdown",
   "metadata": {},
   "source": [
    "## Triangle 1"
   ]
  },
  {
   "cell_type": "markdown",
   "metadata": {},
   "source": [
    "<img src=\"triangle 1.png\" width=\"400\"/> "
   ]
  },
  {
   "cell_type": "markdown",
   "metadata": {},
   "source": [
    "## Principle Stress Tensor equivalence from triangle 1"
   ]
  },
  {
   "cell_type": "code",
   "execution_count": null,
   "metadata": {},
   "outputs": [],
   "source": [
    "sigma_ps_equiv_1 = sp.simplify(sp.Matrix([[(sigma_z0_components[0] + tau_0_components[1])/sp.cos(psi), 0], \n",
    "                            [0, (sigma_z0_components[1] - tau_0_components[0])//sp.sin(psi)]]))\n",
    "sigma_ps_equiv_1"
   ]
  },
  {
   "cell_type": "code",
   "execution_count": null,
   "metadata": {},
   "outputs": [],
   "source": [
    "sig_ps_1 = sp.Eq(sigma_ps, sigma_ps_equiv_1)\n",
    "sig_ps_1"
   ]
  },
  {
   "cell_type": "code",
   "execution_count": null,
   "metadata": {},
   "outputs": [],
   "source": [
    "psi_solved = sp.solve(sp.Eq(sigma_ps[0,0], sigma_ps_equiv_1[0,0]), psi)[0]\n",
    "psi_solved"
   ]
  },
  {
   "cell_type": "code",
   "execution_count": null,
   "metadata": {},
   "outputs": [],
   "source": [
    "f_ct = sp.Symbol('f_ct')\n",
    "psi_subs = psi_solved.subs(sigma_1, f_ct)\n",
    "psi_subs"
   ]
  },
  {
   "cell_type": "code",
   "execution_count": null,
   "metadata": {},
   "outputs": [],
   "source": [
    "get_psi = sp.lambdify((sigma_1, sigma_z0, tau_0), psi_solved)\n",
    "get_psi"
   ]
  },
  {
   "cell_type": "code",
   "execution_count": null,
   "metadata": {},
   "outputs": [],
   "source": [
    "import matplotlib.pylab as plt\n",
    "_, ax1 = plt.subplots(1, 1, figsize=(11,4))\n",
    "\n",
    "f_ct_val = 3\n",
    "eta = 0.5\n",
    "tau_xx = eta * f_ct_val\n",
    "sigma_z = np.linspace(0, 3, 50)\n",
    "psi_xz = get_psi(f_ct_val, sigma_z, tau_xx)\n",
    "\n",
    "ax1.plot(psi_xz * 180/ np.pi,  sigma_z, 'o-', lw= 2, label = r'$\\sigma_{\\mathrm{z}}}$')\n",
    "ax1.set_xlabel(r'$\\psi_{\\mathrm{xz}}$'); ax1.set_ylabel(r'$\\sigma_{\\mathrm{z}}$');\n",
    "ax1.set_title(r'$\\tau_{\\mathrm{fpz}} = constant$, and changing $\\sigma_{\\mathrm{z}}$')\n",
    "ax1.legend()"
   ]
  },
  {
   "cell_type": "code",
   "execution_count": null,
   "metadata": {},
   "outputs": [],
   "source": [
    "import matplotlib.pylab as plt\n",
    "_, ax1 = plt.subplots(1, 1, figsize=(11,4))\n",
    "\n",
    "f_ct_val = 3\n",
    "sigma_z = 2.9\n",
    "tau_xx = np.linspace(0.1, 3, 50)\n",
    "psi_xz = get_psi(f_ct_val, sigma_z, tau_xx)\n",
    "\n",
    "ax1.plot(psi_xz * 180/ np.pi,  tau_xx, 'o-', lw= 2, label = r'$\\tau_{\\mathrm{0}}}$')\n",
    "ax1.set_xlabel(r'$\\theta_{\\mathrm{xz}}$'); ax1.set_ylabel(r'$\\tau_{\\mathrm{0}}$');\n",
    "ax1.set_title(r'$\\sigma_{\\mathrm{z}} = constant$, and changing $\\tau_{\\mathrm{0}}$')\n",
    "ax1.legend()"
   ]
  },
  {
   "cell_type": "code",
   "execution_count": null,
   "metadata": {},
   "outputs": [],
   "source": [
    "f_ct_val = 3\n",
    "tau_xx_num = 10\n",
    "tau_xx = np.linspace(0.15,1.5, tau_xx_num)\n",
    "#eta = 0.2\n",
    "#tau_xx = eta * f_ct_val\n",
    "sig_z_num = 10\n",
    "sigma_z = np.linspace(0, 2.9, sig_z_num)\n",
    "psi = np.zeros([tau_xx_num, sig_z_num])\n",
    "for j in  range(len(sigma_z)):\n",
    "    #print('sigma_z =', sigma_z[j])\n",
    "    for i in range(len(tau_xx)):\n",
    "        #print('tau_fpz =', tau_fpz[i])\n",
    "        psi_xz = get_psi(f_ct_val, sigma_z[j], tau_xx[i])\n",
    "        psi[j, i] = psi_xz\n",
    "print(psi * 180/ np.pi) "
   ]
  },
  {
   "cell_type": "code",
   "execution_count": null,
   "metadata": {},
   "outputs": [],
   "source": [
    "import matplotlib.pylab as plt\n",
    "_, ax1 = plt.subplots(1, 1, figsize=(13,6))\n",
    "ax1.plot(psi[:,0] * 180/ np.pi,  sigma_z, 'o-',lw= 2, label = r'$\\tau_{\\mathrm{fpz}} = 0.15}$')\n",
    "ax1.plot(psi[:,1] * 180/ np.pi,  sigma_z, 'o-',lw= 2, label = r'$\\tau_{\\mathrm{fpz}} = 0.3}$')\n",
    "ax1.plot(psi[:,2] * 180/ np.pi,  sigma_z, 'o-',lw= 2, label = r'$\\tau_{\\mathrm{fpz}} = 0.45}$')\n",
    "ax1.plot(psi[:,3] * 180/ np.pi,  sigma_z, 'o-',lw= 2, label = r'$\\tau_{\\mathrm{fpz}} = 0.6}$')\n",
    "ax1.plot(psi[:,4] * 180/ np.pi,  sigma_z, 'o-',lw= 2, label = r'$\\tau_{\\mathrm{fpz}} = 0.75}$')\n",
    "ax1.plot(psi[:,5] * 180/ np.pi,  sigma_z, 'o-',lw= 2, label = r'$\\tau_{\\mathrm{fpz}} = 0.9}$')\n",
    "ax1.plot(psi[:,6] * 180/ np.pi,  sigma_z, 'o-',lw= 2, label = r'$\\tau_{\\mathrm{fpz}} = 1.05}$')\n",
    "ax1.plot(psi[:,7] * 180/ np.pi,  sigma_z, 'o-',lw= 2, label = r'$\\tau_{\\mathrm{fpz}} = 1.2}$')\n",
    "ax1.plot(psi[:,8] * 180/ np.pi,  sigma_z, 'o-',lw= 2, label = r'$\\tau_{\\mathrm{fpz}} = 1.35}$')\n",
    "ax1.plot(psi[:,9] * 180/ np.pi,  sigma_z, 'o-',lw= 2, label = r'$\\tau_{\\mathrm{fpz}} = 1.5}$')\n",
    "ax1.set_xlabel(r'$\\theta_{\\mathrm{xz}}$'); ax1.set_ylabel(r'$\\sigma_{\\mathrm{z}}$');\n",
    "ax1.set_title(r'Angle of orientation with crack parallel stress')\n",
    "ax1.legend()"
   ]
  },
  {
   "cell_type": "markdown",
   "metadata": {},
   "source": [
    "## Triangle 2"
   ]
  },
  {
   "cell_type": "markdown",
   "metadata": {},
   "source": [
    "<img src=\"triangle 2.png\" width=\"300\"/> "
   ]
  },
  {
   "cell_type": "markdown",
   "metadata": {},
   "source": [
    "## Principle Stress Tensor equivalence from triangle 2"
   ]
  },
  {
   "cell_type": "code",
   "execution_count": null,
   "metadata": {},
   "outputs": [],
   "source": [
    "sigma_x0, sigma_z0, tau_0 = sp.symbols('sigma_x0, sigma_z0, tau_0')\n",
    "psi = sp.Symbol(r'\\psi')\n",
    "sigma_ps_equiv_2 = sp.simplify(sp.Matrix([[(sigma_x0_components[1] + tau_0_components[0])/sp.sin(psi), 0], \n",
    "                                          [0, (sigma_x0_components[0] - tau_0_components[1])//sp.cos(psi)]]))\n",
    "sigma_ps_equiv_2"
   ]
  },
  {
   "cell_type": "code",
   "execution_count": null,
   "metadata": {},
   "outputs": [],
   "source": [
    "sig_ps_2 = sp.Eq(sigma_ps, sigma_ps_equiv_2)\n",
    "sig_ps_2"
   ]
  },
  {
   "cell_type": "markdown",
   "metadata": {},
   "source": [
    "## $\\sigma_{x0}$, $\\tau_{0}$ calculation based on principal stress criteria"
   ]
  },
  {
   "cell_type": "code",
   "execution_count": null,
   "metadata": {},
   "outputs": [],
   "source": [
    "tau_0_solve = sp.solve(sp.Eq(sigma_ps[0,0], sigma_ps_equiv_1[0,0]), tau_0)[0]\n",
    "tau_0_solve"
   ]
  },
  {
   "cell_type": "code",
   "execution_count": null,
   "metadata": {},
   "outputs": [],
   "source": [
    "psi = sp.Symbol(r'\\psi')\n",
    "get_tau_0 = sp.lambdify((sigma_1, sigma_z0, psi), tau_0_solve, 'numpy')\n",
    "get_tau_0"
   ]
  },
  {
   "cell_type": "code",
   "execution_count": null,
   "metadata": {},
   "outputs": [],
   "source": [
    "import matplotlib.pylab as plt\n",
    "_, ax1 = plt.subplots(1, 1, figsize=(11,4))\n",
    "sigma_1 = 3.1#np.linspace(0, 3.1, 50)\n",
    "sigma_z = 0\n",
    "psi = np.linspace(1 * np.pi/180, 89.99 * np.pi/180 , 50)#* np.pi/180\n",
    "tau_0_val = get_tau_0(sigma_1, sigma_z, psi)\n",
    "ax1.plot(psi * 180/np.pi, tau_0_val)#color='blue', label = r'$\\sigma_{\\mathrm{x}}[i]}$')\n",
    "ax1.set_xlabel(r'$\\psi}$')\n",
    "ax1.set_ylabel(r'$\\tau_{fps}}$')\n",
    "#ax1.legend()\n",
    "plt.savefig(\"D:\\Shear zones\\Python plots\\shear sig z-0.25.pdf\")"
   ]
  },
  {
   "cell_type": "code",
   "execution_count": null,
   "metadata": {},
   "outputs": [],
   "source": [
    "tau_0_val, sigma_1, psi * 180/np.pi"
   ]
  },
  {
   "cell_type": "code",
   "execution_count": null,
   "metadata": {},
   "outputs": [],
   "source": [
    "sigma_x0_solve = sp.solve(sp.Eq(sigma_ps[0,0], sigma_ps_equiv_2[0,0]).subs(tau_0, tau_0_solve), sigma_x0)[0]\n",
    "sigma_x0_solve"
   ]
  },
  {
   "cell_type": "code",
   "execution_count": null,
   "metadata": {},
   "outputs": [],
   "source": [
    "psi = sp.Symbol(r'\\psi')\n",
    "sigma_1 = sp.Symbol('sigma_1')\n",
    "get_sig_x0 = sp.lambdify((sigma_1, sigma_z0, psi), sigma_x0_solve, 'numpy')\n",
    "get_sig_x0"
   ]
  },
  {
   "cell_type": "code",
   "execution_count": null,
   "metadata": {},
   "outputs": [],
   "source": [
    "import matplotlib.pylab as plt\n",
    "_, ax1 = plt.subplots(1, 1, figsize=(11,4))\n",
    "sigma_1 = 3.1#np.linspace(0, 3.1, 50)\n",
    "sigma_z = 0\n",
    "psi = np.linspace(1 * np.pi/180, 90 * np.pi/180, 50) #* np.pi/180\n",
    "sigma_x0_val = get_sig_x0(sigma_1, sigma_z, psi)\n",
    "sigma_x0_val\n",
    "ax1.plot(psi * 180/np.pi, sigma_x0_val)#color='blue', label = r'$\\sigma_{\\mathrm{x}}[i]}$')\n",
    "ax1.set_xlabel(r'$\\psi}$')\n",
    "ax1.set_ylabel(r'$\\sigma_{x}}$')\n",
    "#ax1.legend()\n",
    "plt.savefig(\"D:\\Shear zones\\Python plots\\sig_x.pdf\")"
   ]
  },
  {
   "cell_type": "code",
   "execution_count": null,
   "metadata": {},
   "outputs": [],
   "source": [
    "sigma_x0_val, psi * 180/np.pi"
   ]
  },
  {
   "cell_type": "markdown",
   "metadata": {},
   "source": [
    "### Global stress tensor\n",
    "\\begin{align}\n",
    "\\sigma_{ij} = \n",
    "\\left[\n",
    "\\begin{array}{cc}\n",
    "\\sigma_{x0} & \\tau_0 \\\\\n",
    "\\tau_0 & \\sigma_{z0}\n",
    "\\end{array}\n",
    "\\right]\n",
    "\\end{align}"
   ]
  },
  {
   "cell_type": "code",
   "execution_count": null,
   "metadata": {},
   "outputs": [],
   "source": [
    "# sigma_ij = sp.simplify(sp.Matrix([[sigma_x0_solve, tau_0_solve], \n",
    "#                             [tau_0_solve, sigma_z0]]))\n",
    "# sigma_ij"
   ]
  },
  {
   "cell_type": "markdown",
   "metadata": {},
   "source": [
    "### Ratio of principal stresses\n",
    "\\begin{equation}\n",
    "\\alpha = \\frac{\\sigma_1}{\\sigma_2}\n",
    "\\end{equation}"
   ]
  },
  {
   "cell_type": "code",
   "execution_count": null,
   "metadata": {},
   "outputs": [],
   "source": [
    "alpha = sigma_ps_equiv_1[0,0] / sigma_ps_equiv_1[1,1]\n",
    "alpha"
   ]
  },
  {
   "cell_type": "markdown",
   "metadata": {},
   "source": [
    "# Tensor formulation"
   ]
  },
  {
   "cell_type": "code",
   "execution_count": null,
   "metadata": {},
   "outputs": [],
   "source": [
    "import sympy as sp\n",
    "import numpy as np\n",
    "sp.init_printing()"
   ]
  },
  {
   "cell_type": "markdown",
   "metadata": {},
   "source": [
    "To simplify orientation, a the components of a general 2D stress tensor are introduced as follows"
   ]
  },
  {
   "cell_type": "markdown",
   "metadata": {},
   "source": [
    "\\begin{align}\n",
    "\\sigma_{ij} = \n",
    "\\left[\n",
    "\\begin{array}{cc}\n",
    "\\sigma_{xx} & \\sigma_{xy} \\\\\n",
    "\\sigma_{yx} & \\sigma_{yy}\n",
    "\\end{array}\n",
    "\\right] =\n",
    "\\left[\n",
    "\\begin{array}{cc}\n",
    "\\sigma_{x} & \\tau^\\mathrm{fps} \\\\\n",
    "\\tau^\\mathrm{fps} & \\sigma_{y}\n",
    "\\end{array}\n",
    "\\right]\n",
    "\\end{align}"
   ]
  },
  {
   "cell_type": "markdown",
   "metadata": {},
   "source": [
    "The global stress components $\\sigma_x$ and $\\sigma_y$ are given based on the equilibrium conditions at the cross sectional level. The shear stress $\\tau^\\mathrm{fps}$ can be calculated either using a cross-sectional equilibrium or based on the compression-tension yield envelope. "
   ]
  },
  {
   "cell_type": "markdown",
   "metadata": {},
   "source": [
    "The crack is assumed to propagate along $\\sigma_2$ and open along $\\sigma_1$, i.e.\n",
    "\\begin{align}\n",
    "\\sigma_{12} =\n",
    "\\left[\n",
    "\\begin{array}{cc}\n",
    "\\sigma_1 & 0 \\\\\n",
    "0 & \\sigma_2\n",
    "\\end{array}\n",
    "\\right]\n",
    "\\end{align}"
   ]
  },
  {
   "cell_type": "code",
   "execution_count": null,
   "metadata": {},
   "outputs": [],
   "source": [
    "tau_fps, sigma_x, sigma_y = sp.symbols(r'tau_fps, sigma_x, sigma_y')\n",
    "sigma_1, sigma_2 = sp.symbols(r'sigma_1, sigma_2')\n",
    "f_ct, f_cm = sp.symbols(r'f_ct, f_cm', nonnegative=True)"
   ]
  },
  {
   "cell_type": "code",
   "execution_count": null,
   "metadata": {},
   "outputs": [],
   "source": [
    "sigma_xy = sp.Matrix([[sigma_x, tau_fps],\n",
    "                     [tau_fps, sigma_y]])\n",
    "sigma_12 = sp.Matrix([[sigma_1, 0],\n",
    "                      [0, sigma_2]])"
   ]
  },
  {
   "cell_type": "code",
   "execution_count": null,
   "metadata": {},
   "outputs": [],
   "source": [
    "P_xy, D_xy = sigma_xy.diagonalize()\n",
    "P_xy, D_xy"
   ]
  },
  {
   "cell_type": "markdown",
   "metadata": {},
   "source": [
    "## Kupfer envelope on combined tension and compression"
   ]
  },
  {
   "cell_type": "code",
   "execution_count": null,
   "metadata": {},
   "outputs": [],
   "source": [
    "Kupfer = sp.Eq(-sp.Rational(8,10) * sigma_1 / f_cm + sigma_2 / f_ct, 1)\n",
    "Kupfer"
   ]
  },
  {
   "cell_type": "code",
   "execution_count": null,
   "metadata": {},
   "outputs": [],
   "source": [
    "sigma_1_solved = sp.solve(Kupfer, sigma_1)[0]\n",
    "sigma_1_solved"
   ]
  },
  {
   "cell_type": "code",
   "execution_count": null,
   "metadata": {},
   "outputs": [],
   "source": [
    "sig_1_eq = sp.Eq(sigma_1_solved, D_xy[0,0])\n",
    "sig_1_eq"
   ]
  },
  {
   "cell_type": "code",
   "execution_count": null,
   "metadata": {},
   "outputs": [],
   "source": [
    "tau_fps_solved = sp.solve(sig_1_eq.subs(sigma_2, D_xy[1,1]), tau_fps)[0]"
   ]
  },
  {
   "cell_type": "code",
   "execution_count": null,
   "metadata": {},
   "outputs": [],
   "source": [
    "tau_fps_solved"
   ]
  },
  {
   "cell_type": "code",
   "execution_count": null,
   "metadata": {},
   "outputs": [],
   "source": [
    "tau_simplified = tau_fps_solved.subs(f_cm, 33.3).subs(f_ct, 3.1)\n",
    "get_tau_fps = sp.lambdify((sigma_x, sigma_y), tau_simplified, 'numpy')"
   ]
  },
  {
   "cell_type": "code",
   "execution_count": null,
   "metadata": {},
   "outputs": [],
   "source": [
    "import matplotlib.pylab as plt\n",
    "_, ax1 = plt.subplots(1, 1, figsize=(11,4))\n",
    "sigma_x_fix = 1.57\n",
    "sigma_y_var = np.linspace(0, 3, 100)\n",
    "tau_fps_val = get_tau_fps(sigma_x_fix, sigma_y_var)\n",
    "ax1.plot(sigma_y_var, tau_fps_val)#color='blue', label = r'$\\sigma_{\\mathrm{x}}[i]}$')\n",
    "ax1.set_xlabel(r'$\\sigma_{\\mathrm{y}}$')\n",
    "ax1.set_ylabel(r'$\\tau_{fps}}$')\n",
    "ax1.legend()\n",
    "plt.savefig(\"D:\\Shear zones\\Python plots\\shear_fps_.pdf\")"
   ]
  },
  {
   "cell_type": "code",
   "execution_count": null,
   "metadata": {},
   "outputs": [],
   "source": [
    "import matplotlib.pylab as plt\n",
    "_, ax1 = plt.subplots(1, 1, figsize=(11,4))\n",
    "sigma_y_fix = 0\n",
    "sigma_x_var = np.linspace(0, 3, 100)\n",
    "tau_fps_val = get_tau_fps(sigma_x_var, sigma_y_fix)\n",
    "ax1.plot(sigma_x_var, tau_fps_val)#color='blue', label = r'$\\sigma_{\\mathrm{x}}[i]}$')\n",
    "ax1.set_xlabel(r'$\\sigma_{\\mathrm{x}}$')\n",
    "ax1.set_ylabel(r'$\\tau_{fps}}$')\n",
    "ax1.legend()\n",
    "plt.savefig(\"D:\\Shear zones\\Python plots\\shear_fps_.pdf\")"
   ]
  },
  {
   "cell_type": "code",
   "execution_count": null,
   "metadata": {},
   "outputs": [],
   "source": [
    "import matplotlib.pylab as plt\n",
    "_, ax1 = plt.subplots(1, 1, figsize=(13,6))\n",
    "sig_x_num = 10\n",
    "sig_x_var = np.linspace(0, 3, sig_x_num)\n",
    "sig_y_num = 10\n",
    "sig_y_var = np.linspace(0, 3, sig_y_num)\n",
    "tau_fps_val = np.zeros([sig_x_num, sig_y_num])\n",
    "for j in range(len(sig_y_var)):\n",
    "    # print('sigma_z =', sigma_z[j])\n",
    "    for i in range(len(sig_x_var)):\n",
    "        # print('tau_fpz =', tau_fpz[i])\n",
    "        tau_fps = get_tau_fps(sig_x_var[i], sig_y_var[j])\n",
    "        tau_fps_val[j, i] = tau_fps\n",
    "    ax1.plot(sig_y_var, tau_fps_val[j,:])#color='blue', label = r'$\\sigma_{\\mathrm{x}}[i]}$')\n",
    "    ax1.set_xlabel(r'$\\sigma_{\\mathrm{y}}$')\n",
    "    ax1.set_ylabel(r'$\\tau_{\\mathrm{fpz}}$')\n",
    "    #ax2.set_title(r'$\\sigma_{\\mathrm{x}} = constant$, and changing $\\sigma_{\\mathrm{y}}$')\n",
    "#   ax1.legend()"
   ]
  },
  {
   "cell_type": "code",
   "execution_count": null,
   "metadata": {},
   "outputs": [],
   "source": [
    "sigma_y_fix = 0\n",
    "sigma_x_var = 3\n",
    "tau_fps_val = get_tau_fps(sigma_x_var, sigma_y_fix)\n",
    "tau_fps_val"
   ]
  },
  {
   "cell_type": "code",
   "execution_count": null,
   "metadata": {},
   "outputs": [],
   "source": [
    "sigma_y_fix = 1\n",
    "sigma_x_var = 3\n",
    "tau_fps_val = get_tau_fps(sigma_x_var, sigma_y_fix)\n",
    "tau_fps_val "
   ]
  },
  {
   "cell_type": "code",
   "execution_count": null,
   "metadata": {},
   "outputs": [],
   "source": [
    "sigma_y_fix = 1\n",
    "sigma_x_var = 0\n",
    "tau_fps_val = get_tau_fps(sigma_x_var, sigma_y_fix)\n",
    "tau_fps_val "
   ]
  },
  {
   "cell_type": "code",
   "execution_count": null,
   "metadata": {},
   "outputs": [],
   "source": [
    "sigma_y_fix = 3\n",
    "sigma_x_var = 0\n",
    "tau_fps_val = get_tau_fps(sigma_x_var, sigma_y_fix)\n",
    "tau_fps_val "
   ]
  },
  {
   "cell_type": "code",
   "execution_count": null,
   "metadata": {},
   "outputs": [],
   "source": [
    "sigma_y_fix = 1.0155263137082111\n",
    "sigma_x_var = 1.3208937518187431\n",
    "tau_fps_val = get_tau_fps(sigma_x_var, sigma_y_fix)\n",
    "tau_fps_val "
   ]
  },
  {
   "cell_type": "code",
   "execution_count": null,
   "metadata": {},
   "outputs": [],
   "source": [
    "tau_fps_solved.subs({sigma_x:0, sigma_y:0, f_ct:3, f_cm:30})"
   ]
  },
  {
   "cell_type": "code",
   "execution_count": null,
   "metadata": {},
   "outputs": [],
   "source": [
    "params = (sigma_x, sigma_y, f_ct, f_cm)"
   ]
  },
  {
   "cell_type": "code",
   "execution_count": null,
   "metadata": {},
   "outputs": [],
   "source": [
    "get_tau_fps = sp.lambdify(params, tau_fps_solved, 'numpy')\n",
    "get_tau_fps(3,0,3,30)"
   ]
  },
  {
   "cell_type": "markdown",
   "metadata": {},
   "source": [
    "The consequence of using the Kupfer criterion for the determination of the shear stress at the crack tip is that the currently used evaluation of the critical strain cannot be calculated as \n",
    "$$\n",
    "w_\\mathrm{cr} = \\frac{1}{E_\\mathrm{cr}} \\sigma_2 L_\\mathrm{c}\n",
    "$$\n",
    "as done so far. The question is, if the currently used criterion \n",
    "on the principle stress direction could be modified to search for a consistent\n",
    "value of the shear stress at the crack tip within the stress tensor. \n",
    "Then, $w_\\mathrm{cr}$ could be expressed in terms of the stress state \n",
    "$$\n",
    " \\varepsilon_{ab} = C_{abcd} \\sigma_{cd} \n",
    "$$\n",
    "The crack opening would be obtained as the principle strain distributed over a predefined length $L_\\mathrm{c}$."
   ]
  },
  {
   "cell_type": "markdown",
   "metadata": {},
   "source": [
    "$$\n",
    "\\varepsilon_{12} = P_{ab} \\varepsilon_{bc} P_{cd}\n",
    "$$"
   ]
  },
  {
   "cell_type": "markdown",
   "metadata": {},
   "source": [
    "$$\n",
    "w_\\mathrm{cr} = \\varepsilon_{2} L_\\mathrm{c}\n",
    "$$"
   ]
  },
  {
   "cell_type": "markdown",
   "metadata": {},
   "source": [
    "## Principle direction"
   ]
  },
  {
   "cell_type": "code",
   "execution_count": null,
   "metadata": {},
   "outputs": [],
   "source": [
    "tau_fps, sigma_x, sigma_y = sp.symbols(r'tau_fps, sigma_x, sigma_y')\n",
    "tau_fps, sigma_x, sigma_y = sp.symbols(r'tau_fps, sigma_x, sigma_y')\n",
    "sigma_1, sigma_2 = sp.symbols(r'sigma_1, sigma_2')\n",
    "f_ct, f_cm = sp.symbols(r'f_ct, f_cm', nonnegative=True)"
   ]
  },
  {
   "cell_type": "code",
   "execution_count": null,
   "metadata": {},
   "outputs": [],
   "source": [
    "sigma_xy = sp.Matrix([[sigma_x, tau_fps],\n",
    "                     [tau_fps, sigma_y]])\n",
    "sigma_12 = sp.Matrix([[sigma_1, 0],\n",
    "                      [0, sigma_2]])"
   ]
  },
  {
   "cell_type": "code",
   "execution_count": null,
   "metadata": {},
   "outputs": [],
   "source": [
    "P_xy, D_xy = sigma_xy.diagonalize()\n",
    "P_xy, D_xy"
   ]
  },
  {
   "cell_type": "code",
   "execution_count": null,
   "metadata": {},
   "outputs": [],
   "source": [
    "P_xy_tau = P_xy.subs(tau_fps, tau_fps_solved)\n",
    "P_xy_tau"
   ]
  },
  {
   "cell_type": "code",
   "execution_count": null,
   "metadata": {},
   "outputs": [],
   "source": [
    "theta_f = sp.atan( sp.simplify(-P_xy_tau[0,0] / P_xy_tau[1,0]))\n",
    "theta_f"
   ]
  },
  {
   "cell_type": "code",
   "execution_count": null,
   "metadata": {},
   "outputs": [],
   "source": [
    "#get_theta = sp.lambdify(params, theta_f, 'numpy')\n",
    "get_theta = sp.lambdify((sigma_x, sigma_y, f_cm, f_ct), theta_f, 'numpy')"
   ]
  },
  {
   "cell_type": "code",
   "execution_count": null,
   "metadata": {},
   "outputs": [],
   "source": [
    "#_, ax = plt.subplots(1,1)\n",
    "# f_cm_, f_ct_ = 30, 3\n",
    "# get_tau_fps(0,1,f_cm_,f_ct_)"
   ]
  },
  {
   "cell_type": "code",
   "execution_count": null,
   "metadata": {},
   "outputs": [],
   "source": [
    "tau_fps_solved"
   ]
  },
  {
   "cell_type": "code",
   "execution_count": null,
   "metadata": {},
   "outputs": [],
   "source": [
    "#theta = theta_f.subs(tau_fps, tau_fps_solved)\n",
    "#theta"
   ]
  },
  {
   "cell_type": "code",
   "execution_count": null,
   "metadata": {},
   "outputs": [],
   "source": [
    "#get_theta_ = sp.lambdify((sigma_x, sigma_y, f_cm, f_ct), theta, 'numpy')\n",
    "#get_theta_"
   ]
  },
  {
   "cell_type": "code",
   "execution_count": null,
   "metadata": {},
   "outputs": [],
   "source": [
    "get_theta(3, 0, 33.3, 3.1) * 180/ np.pi"
   ]
  },
  {
   "cell_type": "code",
   "execution_count": null,
   "metadata": {},
   "outputs": [],
   "source": [
    "get_theta(1.47, 2, 33.3, 3.1) * 180/ np.pi"
   ]
  },
  {
   "cell_type": "code",
   "execution_count": null,
   "metadata": {},
   "outputs": [],
   "source": [
    "get_theta(1.5, 1.5, 33.3, 3.1) * 180/ np.pi"
   ]
  },
  {
   "cell_type": "code",
   "execution_count": null,
   "metadata": {},
   "outputs": [],
   "source": [
    "get_theta(0, 0, 33.3, 3.1) * 180/ np.pi"
   ]
  },
  {
   "cell_type": "code",
   "execution_count": null,
   "metadata": {},
   "outputs": [],
   "source": [
    "get_theta(2, 0, 33.3, 3.1) * 180/ np.pi"
   ]
  },
  {
   "cell_type": "code",
   "execution_count": null,
   "metadata": {},
   "outputs": [],
   "source": [
    "get_theta(1.3208937518187431,1.0155263137082111, 33.3, 3.1) * 180/ np.pi"
   ]
  },
  {
   "cell_type": "code",
   "execution_count": null,
   "metadata": {},
   "outputs": [],
   "source": [
    "get_theta(1, 2, 33.3, 3.1) * 180/ np.pi"
   ]
  },
  {
   "cell_type": "code",
   "execution_count": null,
   "metadata": {},
   "outputs": [],
   "source": [
    "get_theta(0, 3.1, 33.3, 3.1) * 180/ np.pi"
   ]
  },
  {
   "cell_type": "code",
   "execution_count": null,
   "metadata": {},
   "outputs": [],
   "source": [
    "params = {\n",
    "    f_cm : 33,\n",
    "    f_ct : 3\n",
    "}"
   ]
  },
  {
   "cell_type": "code",
   "execution_count": null,
   "metadata": {},
   "outputs": [],
   "source": [
    "theta_simplify = sp.simplify(theta_f.subs(params))\n",
    "theta_simplify"
   ]
  },
  {
   "cell_type": "code",
   "execution_count": null,
   "metadata": {},
   "outputs": [],
   "source": [
    "get_theta = sp.lambdify((sigma_x, sigma_y), theta_simplify, 'numpy')\n",
    "get_theta"
   ]
  },
  {
   "cell_type": "code",
   "execution_count": null,
   "metadata": {},
   "outputs": [],
   "source": [
    "get_theta(0, 0) * 180/ np.pi"
   ]
  },
  {
   "cell_type": "code",
   "execution_count": null,
   "metadata": {},
   "outputs": [],
   "source": [
    "import matplotlib.pylab as plt\n",
    "_, ax1 = plt.subplots(1, 1, figsize=(11,4))\n",
    "sig_x_num = 10\n",
    "sig_x_var_ = np.linspace(0.1, 3, sig_x_num)\n",
    "sig_y_fix_ = 3\n",
    "theta = get_theta(sig_x_var_, sig_y_fix_)\n",
    "ax1.plot(sig_x_var, theta * 180 / np.pi)#color='blue', label = r'$\\sigma_{\\mathrm{x}}[i]}$')\n",
    "ax1.set_xlabel(r'$\\sigma_{\\mathrm{x}}$')\n",
    "ax1.set_ylabel(r'$\\theta}$')\n",
    "ax1.legend()"
   ]
  },
  {
   "cell_type": "code",
   "execution_count": null,
   "metadata": {},
   "outputs": [],
   "source": [
    "import matplotlib.pylab as plt\n",
    "_, ax1 = plt.subplots(1, 1, figsize=(11,4))\n",
    "sig_y_num = 100\n",
    "sig_y_var = np.linspace(0.1, 3, sig_x_num)\n",
    "sig_x_fix = 3\n",
    "theta = get_theta(sig_x_fix, sig_y_var)\n",
    "ax1.plot(sig_y_var,theta * 180/ np.pi)#color='blue', label = r'$\\sigma_{\\mathrm{x}}[i]}$')\n",
    "ax1.set_xlabel(r'$\\sigma_{\\mathrm{y}}$')\n",
    "ax1.set_ylabel(r'$\\theta}$')\n",
    "ax1.legend()\n"
   ]
  },
  {
   "cell_type": "code",
   "execution_count": null,
   "metadata": {},
   "outputs": [],
   "source": [
    "import matplotlib.pylab as plt\n",
    "_, ax1 = plt.subplots(1, 1, figsize=(11,4))\n",
    "\n",
    "sig_x_num = 10\n",
    "sig_x_var = np.linspace(0, 3, sig_x_num)\n",
    "sig_y_num = 10\n",
    "sig_y_var = np.linspace(0, 3, sig_y_num)\n",
    "theta = np.zeros([sig_x_num, sig_y_num])\n",
    "for j in range(len(sig_y_var)):\n",
    "    # print('sigma_z =', sigma_z[j])\n",
    "    for i in range(len(sig_x_var)):\n",
    "        # print('tau_fpz =', tau_fpz[i])\n",
    "        theta_ = get_theta(sig_x_var[i], sig_y_var[j])\n",
    "        theta[j, i] = theta_\n",
    "    ax1.plot(sig_y_var[:],theta[j,:] * 180/np.pi, 'o-')#color='blue', label = r'$\\sigma_{\\mathrm{x}}[i]}$')\n",
    "    ax1.set_xlabel(r'$\\sigma_{\\mathrm{y}}$')\n",
    "    ax1.set_ylabel(r'$\\theta}$')\n",
    "    #ax2.set_title(r'$\\sigma_{\\mathrm{x}} = constant$, and changing $\\sigma_{\\mathrm{y}}$')\n",
    "#     ax1.legend()"
   ]
  },
  {
   "cell_type": "markdown",
   "metadata": {},
   "source": [
    "# Implementation \n",
    "\n",
    " - Evaluate $\\tau_\\mathrm{fps}$ using the bi-axial stress envelope `crack_tip_stress/orientation`\n",
    " - Access the values of `f_t` and `f_c`\n",
    " - Control the w_cr in each iteration"
   ]
  },
  {
   "cell_type": "markdown",
   "metadata": {},
   "source": [
    "## Provide an alternative model component for `crack_tip_shear_stress`.\n",
    "\n",
    "- `CrackTipShearStressCSE`\n",
    "- `CrackTipShearStressBAC`"
   ]
  },
  {
   "cell_type": "code",
   "execution_count": null,
   "metadata": {},
   "outputs": [],
   "source": []
  }
 ],
 "metadata": {
  "kernelspec": {
   "display_name": "Python 3",
   "language": "python",
   "name": "python3"
  },
  "language_info": {
   "codemirror_mode": {
    "name": "ipython",
    "version": 3
   },
   "file_extension": ".py",
   "mimetype": "text/x-python",
   "name": "python",
   "nbconvert_exporter": "python",
   "pygments_lexer": "ipython3"
  }
 },
 "nbformat": 4,
 "nbformat_minor": 4
}
