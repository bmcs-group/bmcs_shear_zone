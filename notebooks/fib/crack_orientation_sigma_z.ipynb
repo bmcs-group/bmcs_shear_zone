{
 "cells": [
  {
   "cell_type": "markdown",
   "metadata": {},
   "source": [
    "# Crack orientation with crack parallel stress $\\sigma_{\\mathrm{z}}$"
   ]
  },
  {
   "cell_type": "code",
   "execution_count": 22,
   "metadata": {},
   "outputs": [
    {
     "data": {
      "text/latex": [
       "$\\displaystyle \\left[\\begin{matrix}\\sigma_{x} & \\tau_\\mathrm{fps}\\\\\\tau_\\mathrm{fps} & \\sigma_{z}\\end{matrix}\\right]$"
      ],
      "text/plain": [
       "Matrix([\n",
       "[          sigma_x, \\tau_\\mathrm{fps}],\n",
       "[\\tau_\\mathrm{fps},           sigma_z]])"
      ]
     },
     "execution_count": 22,
     "metadata": {},
     "output_type": "execute_result"
    }
   ],
   "source": [
    "import numpy as np\n",
    "import sympy as sp\n",
    "\n",
    "\n",
    "tau_fps, sigma_x, sigma_z = sp.symbols(r'\\tau_\\mathrm{fps}, sigma_x, sigma_z')\n",
    "f_ct = sp.Symbol(r'f_ct')\n",
    "\n",
    "\n",
    "sigma_xz = sp.Matrix([[sigma_x, tau_fps],\n",
    "                     [tau_fps, sigma_z]])\n",
    "sigma_xz"
   ]
  },
  {
   "cell_type": "markdown",
   "metadata": {},
   "source": [
    "<img src=\"beam_crack_prop_sig_z.png\" width=\"400\"/> "
   ]
  },
  {
   "cell_type": "markdown",
   "metadata": {},
   "source": [
    "With the inclusion of the crack parallel stress, the stress tensor at the tip of the crack will be given as:\n",
    "\\begin{align}\n",
    "\\bar{\\sigma}_{ij} = \n",
    "\\left[\n",
    "\\begin{array}{cc}\n",
    "\\sigma_x & \\tau_{\\mathrm{fpz}} \\\\\n",
    "\\tau_{\\mathrm{fpz}} & \\sigma_z \n",
    "\\end{array}\n",
    "\\right]\n",
    "\\label{eq: sigma_tip}\n",
    "\\end{align}\n",
    "where the crack parallel stress $\\sigma_z$, $\\tau_\\mathrm{fpz}$ will be obtained by the cantilever action and the parabolic profile of shear stress along the height of the cross section. "
   ]
  },
  {
   "cell_type": "markdown",
   "metadata": {},
   "source": [
    "Based on this stress tensor, the orientation of the crack can be attained by using principal stress directions:\n",
    "\\begin{align}\n",
    "    \\bar{\\sigma}_{ij} = PDP^{-1}\n",
    "    \\label{eq: barsigma}\n",
    "\\end{align}"
   ]
  },
  {
   "cell_type": "code",
   "execution_count": 23,
   "metadata": {},
   "outputs": [
    {
     "data": {
      "text/latex": [
       "$\\displaystyle \\left[\\begin{matrix}\\frac{\\sigma_{x} - \\sigma_{z} - \\sqrt{4 \\tau_\\mathrm{fps}^{2} + \\sigma_{x}^{2} - 2 \\sigma_{x} \\sigma_{z} + \\sigma_{z}^{2}}}{2 \\tau_\\mathrm{fps}} & \\frac{\\sigma_{x} - \\sigma_{z} + \\sqrt{4 \\tau_\\mathrm{fps}^{2} + \\sigma_{x}^{2} - 2 \\sigma_{x} \\sigma_{z} + \\sigma_{z}^{2}}}{2 \\tau_\\mathrm{fps}}\\\\1 & 1\\end{matrix}\\right]$"
      ],
      "text/plain": [
       "Matrix([\n",
       "[(sigma_x - sigma_z - sqrt(4*\\tau_\\mathrm{fps}**2 + sigma_x**2 - 2*sigma_x*sigma_z + sigma_z**2))/(2*\\tau_\\mathrm{fps}), (sigma_x - sigma_z + sqrt(4*\\tau_\\mathrm{fps}**2 + sigma_x**2 - 2*sigma_x*sigma_z + sigma_z**2))/(2*\\tau_\\mathrm{fps})],\n",
       "[                                                                                                                     1,                                                                                                                      1]])"
      ]
     },
     "execution_count": 23,
     "metadata": {},
     "output_type": "execute_result"
    }
   ],
   "source": [
    "P_xz, D_xz = sigma_xz.diagonalize()\n",
    "P_xz"
   ]
  },
  {
   "cell_type": "code",
   "execution_count": 24,
   "metadata": {},
   "outputs": [
    {
     "data": {
      "text/latex": [
       "$\\displaystyle \\left[\\begin{matrix}\\frac{\\sigma_{x}}{2} + \\frac{\\sigma_{z}}{2} - \\frac{\\sqrt{4 \\tau_\\mathrm{fps}^{2} + \\sigma_{x}^{2} - 2 \\sigma_{x} \\sigma_{z} + \\sigma_{z}^{2}}}{2} & 0\\\\0 & \\frac{\\sigma_{x}}{2} + \\frac{\\sigma_{z}}{2} + \\frac{\\sqrt{4 \\tau_\\mathrm{fps}^{2} + \\sigma_{x}^{2} - 2 \\sigma_{x} \\sigma_{z} + \\sigma_{z}^{2}}}{2}\\end{matrix}\\right]$"
      ],
      "text/plain": [
       "Matrix([\n",
       "[sigma_x/2 + sigma_z/2 - sqrt(4*\\tau_\\mathrm{fps}**2 + sigma_x**2 - 2*sigma_x*sigma_z + sigma_z**2)/2,                                                                                                    0],\n",
       "[                                                                                                   0, sigma_x/2 + sigma_z/2 + sqrt(4*\\tau_\\mathrm{fps}**2 + sigma_x**2 - 2*sigma_x*sigma_z + sigma_z**2)/2]])"
      ]
     },
     "execution_count": 24,
     "metadata": {},
     "output_type": "execute_result"
    }
   ],
   "source": [
    "D_xz"
   ]
  },
  {
   "cell_type": "markdown",
   "metadata": {},
   "source": [
    "By assuming the tensile strength of concrete as the governing parameter for $\\sigma_x$ and by equating $\\sigma_x = f_{\\mathrm{ct}}$, the solution for the horizontal stress can be evaluated based on the known $\\sigma_z, \\tau_{\\mathrm{fpz}}$ as:"
   ]
  },
  {
   "cell_type": "code",
   "execution_count": 25,
   "metadata": {},
   "outputs": [
    {
     "data": {
      "text/plain": [
       "{sigma_x: (-\\tau_\\mathrm{fps}**2 + f_ct**2 - f_ct*sigma_z)/(f_ct - sigma_z)}"
      ]
     },
     "execution_count": 25,
     "metadata": {},
     "output_type": "execute_result"
    }
   ],
   "source": [
    "subs_sigma_x = sp.solve({D_xz[0,0] - f_ct}, {sigma_x})[0]\n",
    "subs_sigma_x"
   ]
  },
  {
   "cell_type": "code",
   "execution_count": 26,
   "metadata": {},
   "outputs": [
    {
     "data": {
      "text/latex": [
       "$\\displaystyle \\left[\\begin{matrix}\\frac{- \\tau_\\mathrm{fps}^{2} + f_{ct}^{2} - f_{ct} \\sigma_{z}}{f_{ct} - \\sigma_{z}} & \\tau_\\mathrm{fps}\\\\\\tau_\\mathrm{fps} & \\sigma_{z}\\end{matrix}\\right]$"
      ],
      "text/plain": [
       "Matrix([\n",
       "[(-\\tau_\\mathrm{fps}**2 + f_ct**2 - f_ct*sigma_z)/(f_ct - sigma_z), \\tau_\\mathrm{fps}],\n",
       "[                                                \\tau_\\mathrm{fps},           sigma_z]])"
      ]
     },
     "execution_count": 26,
     "metadata": {},
     "output_type": "execute_result"
    }
   ],
   "source": [
    "sigma_xf = sigma_xz.subs(subs_sigma_x)\n",
    "sigma_xf"
   ]
  },
  {
   "cell_type": "code",
   "execution_count": 27,
   "metadata": {},
   "outputs": [
    {
     "data": {
      "text/latex": [
       "$\\displaystyle \\left[\\begin{matrix}\\frac{- \\sigma_{z} - \\sqrt{4 \\tau_\\mathrm{fps}^{2} + \\sigma_{z}^{2} - \\frac{2 \\sigma_{z} \\left(- \\tau_\\mathrm{fps}^{2} + f_{ct}^{2} - f_{ct} \\sigma_{z}\\right)}{f_{ct} - \\sigma_{z}} + \\frac{\\left(- \\tau_\\mathrm{fps}^{2} + f_{ct}^{2} - f_{ct} \\sigma_{z}\\right)^{2}}{\\left(f_{ct} - \\sigma_{z}\\right)^{2}}} + \\frac{- \\tau_\\mathrm{fps}^{2} + f_{ct}^{2} - f_{ct} \\sigma_{z}}{f_{ct} - \\sigma_{z}}}{2 \\tau_\\mathrm{fps}} & \\frac{- \\sigma_{z} + \\sqrt{4 \\tau_\\mathrm{fps}^{2} + \\sigma_{z}^{2} - \\frac{2 \\sigma_{z} \\left(- \\tau_\\mathrm{fps}^{2} + f_{ct}^{2} - f_{ct} \\sigma_{z}\\right)}{f_{ct} - \\sigma_{z}} + \\frac{\\left(- \\tau_\\mathrm{fps}^{2} + f_{ct}^{2} - f_{ct} \\sigma_{z}\\right)^{2}}{\\left(f_{ct} - \\sigma_{z}\\right)^{2}}} + \\frac{- \\tau_\\mathrm{fps}^{2} + f_{ct}^{2} - f_{ct} \\sigma_{z}}{f_{ct} - \\sigma_{z}}}{2 \\tau_\\mathrm{fps}}\\\\1 & 1\\end{matrix}\\right]$"
      ],
      "text/plain": [
       "Matrix([\n",
       "[(-sigma_z - sqrt(4*\\tau_\\mathrm{fps}**2 + sigma_z**2 - 2*sigma_z*(-\\tau_\\mathrm{fps}**2 + f_ct**2 - f_ct*sigma_z)/(f_ct - sigma_z) + (-\\tau_\\mathrm{fps}**2 + f_ct**2 - f_ct*sigma_z)**2/(f_ct - sigma_z)**2) + (-\\tau_\\mathrm{fps}**2 + f_ct**2 - f_ct*sigma_z)/(f_ct - sigma_z))/(2*\\tau_\\mathrm{fps}), (-sigma_z + sqrt(4*\\tau_\\mathrm{fps}**2 + sigma_z**2 - 2*sigma_z*(-\\tau_\\mathrm{fps}**2 + f_ct**2 - f_ct*sigma_z)/(f_ct - sigma_z) + (-\\tau_\\mathrm{fps}**2 + f_ct**2 - f_ct*sigma_z)**2/(f_ct - sigma_z)**2) + (-\\tau_\\mathrm{fps}**2 + f_ct**2 - f_ct*sigma_z)/(f_ct - sigma_z))/(2*\\tau_\\mathrm{fps})],\n",
       "[                                                                                                                                                                                                                                                                                                       1,                                                                                                                                                                                                                                                                                                        1]])"
      ]
     },
     "execution_count": 27,
     "metadata": {},
     "output_type": "execute_result"
    }
   ],
   "source": [
    "P_xf = P_xz.subs(subs_sigma_x)\n",
    "D_xf = D_xz.subs(subs_sigma_x)\n",
    "P_xf"
   ]
  },
  {
   "cell_type": "code",
   "execution_count": 28,
   "metadata": {},
   "outputs": [
    {
     "data": {
      "text/latex": [
       "$\\displaystyle \\operatorname{atan}{\\left(\\frac{\\tau_\\mathrm{fps}^{2} - f_{ct}^{2} + f_{ct} \\sigma_{z} + \\left(f_{ct} - \\sigma_{z}\\right) \\left(\\sigma_{z} + \\sqrt{\\frac{2 \\sigma_{z} \\left(f_{ct} - \\sigma_{z}\\right) \\left(\\tau_\\mathrm{fps}^{2} - f_{ct}^{2} + f_{ct} \\sigma_{z}\\right) + \\left(4 \\tau_\\mathrm{fps}^{2} + \\sigma_{z}^{2}\\right) \\left(f_{ct} - \\sigma_{z}\\right)^{2} + \\left(\\tau_\\mathrm{fps}^{2} - f_{ct}^{2} + f_{ct} \\sigma_{z}\\right)^{2}}{\\left(f_{ct} - \\sigma_{z}\\right)^{2}}}\\right)}{2 \\tau_\\mathrm{fps} \\left(f_{ct} - \\sigma_{z}\\right)} \\right)}$"
      ],
      "text/plain": [
       "atan((\\tau_\\mathrm{fps}**2 - f_ct**2 + f_ct*sigma_z + (f_ct - sigma_z)*(sigma_z + sqrt((2*sigma_z*(f_ct - sigma_z)*(\\tau_\\mathrm{fps}**2 - f_ct**2 + f_ct*sigma_z) + (4*\\tau_\\mathrm{fps}**2 + sigma_z**2)*(f_ct - sigma_z)**2 + (\\tau_\\mathrm{fps}**2 - f_ct**2 + f_ct*sigma_z)**2)/(f_ct - sigma_z)**2)))/(2*\\tau_\\mathrm{fps}*(f_ct - sigma_z)))"
      ]
     },
     "execution_count": 28,
     "metadata": {},
     "output_type": "execute_result"
    }
   ],
   "source": [
    "theta_xz = sp.atan( sp.simplify(-P_xf[0,0] / P_xf[1,0]))\n",
    "theta_xz"
   ]
  },
  {
   "cell_type": "code",
   "execution_count": 29,
   "metadata": {},
   "outputs": [
    {
     "data": {
      "text/plain": [
       "<function _lambdifygenerated(Dummy_47, f_ct, sigma_z)>"
      ]
     },
     "execution_count": 29,
     "metadata": {},
     "output_type": "execute_result"
    }
   ],
   "source": [
    "get_theta_xz = sp.lambdify((tau_fps, f_ct, sigma_z), theta_xz)\n",
    "get_theta_xz"
   ]
  },
  {
   "cell_type": "code",
   "execution_count": 30,
   "metadata": {},
   "outputs": [
    {
     "data": {
      "text/plain": [
       "<function _lambdifygenerated(Dummy_48, f_ct, sigma_z)>"
      ]
     },
     "execution_count": 30,
     "metadata": {},
     "output_type": "execute_result"
    }
   ],
   "source": [
    "get_sigma_x_val = sp.lambdify((tau_fps, f_ct, sigma_z),sigma_xf[0,0])\n",
    "get_sigma_x_val"
   ]
  },
  {
   "cell_type": "code",
   "execution_count": 31,
   "metadata": {},
   "outputs": [
    {
     "name": "stderr",
     "output_type": "stream",
     "text": [
      "<lambdifygenerated-3>:2: RuntimeWarning: divide by zero encountered in true_divide\n",
      "  return (arctan((1/2)*(Dummy_47**2 - f_ct**2 + f_ct*sigma_z + (f_ct - sigma_z)*(sigma_z + sqrt((2*sigma_z*(f_ct - sigma_z)*(Dummy_47**2 - f_ct**2 + f_ct*sigma_z) + (4*Dummy_47**2 + sigma_z**2)*(f_ct - sigma_z)**2 + (Dummy_47**2 - f_ct**2 + f_ct*sigma_z)**2)/(f_ct - sigma_z)**2)))/(Dummy_47*(f_ct - sigma_z))))\n",
      "<lambdifygenerated-3>:2: RuntimeWarning: invalid value encountered in multiply\n",
      "  return (arctan((1/2)*(Dummy_47**2 - f_ct**2 + f_ct*sigma_z + (f_ct - sigma_z)*(sigma_z + sqrt((2*sigma_z*(f_ct - sigma_z)*(Dummy_47**2 - f_ct**2 + f_ct*sigma_z) + (4*Dummy_47**2 + sigma_z**2)*(f_ct - sigma_z)**2 + (Dummy_47**2 - f_ct**2 + f_ct*sigma_z)**2)/(f_ct - sigma_z)**2)))/(Dummy_47*(f_ct - sigma_z))))\n",
      "<lambdifygenerated-4>:2: RuntimeWarning: divide by zero encountered in true_divide\n",
      "  return ((-Dummy_48**2 + f_ct**2 - f_ct*sigma_z)/(f_ct - sigma_z))\n"
     ]
    },
    {
     "data": {
      "text/plain": [
       "<matplotlib.legend.Legend at 0x2bb4d248fa0>"
      ]
     },
     "execution_count": 31,
     "metadata": {},
     "output_type": "execute_result"
    },
    {
     "data": {
      "image/png": "[encoded data removed]",
      "text/plain": [
       "<Figure size 792x288 with 1 Axes>"
      ]
     },
     "metadata": {
      "needs_background": "light"
     },
     "output_type": "display_data"
    }
   ],
   "source": [
    "import matplotlib.pylab as plt\n",
    "_, ax1 = plt.subplots(1, 1, figsize=(11,4))\n",
    "\n",
    "f_ct_val = 3\n",
    "eta = 0.5\n",
    "tau_xx = eta * f_ct_val\n",
    "sigma_z = np.linspace(0, 3, 50)\n",
    "theta_xz = get_theta_xz(tau_xx, f_ct_val, sigma_z)\n",
    "sigma_x = get_sigma_x_val(tau_xx, f_ct_val, sigma_z)\n",
    "\n",
    "ax1.plot(theta_xz * 180/ np.pi,  sigma_z, 'o-', lw= 2, label = r'$\\sigma_{\\mathrm{z}}}$')\n",
    "ax1.set_xlabel(r'$\\theta_{\\mathrm{xz}}$'); ax1.set_ylabel(r'$\\sigma_{\\mathrm{z}}$');\n",
    "ax1.set_title(r'$\\tau_{\\mathrm{fpz}} = constant$, and changing $\\sigma_{\\mathrm{z}}$')\n",
    "ax1.legend()\n",
    "#plt.savefig(\"D:\\Shear zones\\Python plots\\Angle of orientation with crack parallel stress.pdf\")"
   ]
  },
  {
   "cell_type": "code",
   "execution_count": 32,
   "metadata": {},
   "outputs": [
    {
     "data": {
      "text/plain": [
       "<matplotlib.legend.Legend at 0x2bb4d700610>"
      ]
     },
     "execution_count": 32,
     "metadata": {},
     "output_type": "execute_result"
    },
    {
     "data": {
      "image/png": "[encoded data removed]",
      "text/plain": [
       "<Figure size 792x288 with 1 Axes>"
      ]
     },
     "metadata": {
      "needs_background": "light"
     },
     "output_type": "display_data"
    }
   ],
   "source": [
    "import matplotlib.pylab as plt\n",
    "_, ax1 = plt.subplots(1, 1, figsize=(11,4))\n",
    "ax1.plot(sigma_x,  sigma_z, 'o-', lw= 2, label = r'$\\sigma_{\\mathrm{z}}}$')\n",
    "ax1.set_xlabel(r'$\\sigma_{\\mathrm{x}}$'); ax1.set_ylabel(r'$\\sigma_{\\mathrm{z}}$');\n",
    "ax1.set_title(r'$\\tau_{\\mathrm{fpz}} = constant$, and changing $\\sigma_{\\mathrm{z}}$')\n",
    "ax1.legend()"
   ]
  },
  {
   "cell_type": "code",
   "execution_count": 33,
   "metadata": {},
   "outputs": [
    {
     "data": {
      "text/plain": [
       "<matplotlib.legend.Legend at 0x2bb4abe3910>"
      ]
     },
     "execution_count": 33,
     "metadata": {},
     "output_type": "execute_result"
    },
    {
     "data": {
      "image/png": "[encoded data removed]",
      "text/plain": [
       "<Figure size 792x288 with 1 Axes>"
      ]
     },
     "metadata": {
      "needs_background": "light"
     },
     "output_type": "display_data"
    }
   ],
   "source": [
    "import matplotlib.pylab as plt\n",
    "_, ax1 = plt.subplots(1, 1, figsize=(11,4))\n",
    "\n",
    "f_ct_val = 3\n",
    "sigma_z = 2.9\n",
    "tau_xx = np.linspace(0.1, 3, 50)\n",
    "theta_xz = get_theta_xz(tau_xx, f_ct_val, sigma_z)\n",
    "sigma_x = get_sigma_x_val(tau_xx, f_ct_val, sigma_z)\n",
    "\n",
    "ax1.plot(theta_xz * 180/ np.pi,  tau_xx, 'o-', lw= 2, label = r'$\\tau_{\\mathrm{fpz}}}$')\n",
    "ax1.set_xlabel(r'$\\theta_{\\mathrm{xz}}$'); ax1.set_ylabel(r'$\\tau_{\\mathrm{fpz}}$');\n",
    "ax1.set_title(r'$\\sigma_{\\mathrm{z}} = constant$, and changing $\\tau_{\\mathrm{fpz}}$')\n",
    "ax1.legend()"
   ]
  },
  {
   "cell_type": "code",
   "execution_count": 34,
   "metadata": {},
   "outputs": [
    {
     "data": {
      "text/plain": [
       "<matplotlib.legend.Legend at 0x2bb4d4e1e20>"
      ]
     },
     "execution_count": 34,
     "metadata": {},
     "output_type": "execute_result"
    },
    {
     "data": {
      "image/png": "[encoded data removed]",
      "text/plain": [
       "<Figure size 792x288 with 1 Axes>"
      ]
     },
     "metadata": {
      "needs_background": "light"
     },
     "output_type": "display_data"
    }
   ],
   "source": [
    "import matplotlib.pylab as plt\n",
    "_, ax1 = plt.subplots(1, 1, figsize=(11,4))\n",
    "\n",
    "ax1.plot(sigma_x,  tau_xx, 'o-', lw= 2, label = r'$\\tau_{\\mathrm{fpz}}}$')\n",
    "ax1.set_xlabel(r'$\\theta_{\\mathrm{xz}}$'); ax1.set_ylabel(r'$\\tau_{\\mathrm{fpz}}$');\n",
    "ax1.set_title(r'$\\sigma_{\\mathrm{z}} = constant$, and changing $\\tau_{\\mathrm{fpz}}$')\n",
    "ax1.legend()"
   ]
  },
  {
   "cell_type": "code",
   "execution_count": 35,
   "metadata": {
    "scrolled": false
   },
   "outputs": [
    {
     "name": "stdout",
     "output_type": "stream",
     "text": [
      "[[ 2.86240523  5.71059314  8.53076561 11.30993247 14.03624347 16.69924423\n",
      "  19.29004622 21.80140949 24.22774532 26.56505118]\n",
      " [ 3.20616392  6.39237368  9.53941033 12.62945895 15.64665552 18.57747534\n",
      "  21.41094931 24.13871535 26.75492879 29.25606522]\n",
      " [ 3.64363228  7.25803011 10.81534239 14.29032508 17.66127885 20.91063035\n",
      "  24.02514838 26.99583839 29.81759164 32.48867651]\n",
      " [ 4.21909535  8.39292519 12.4790718  16.44037952 20.24662008 23.87528085\n",
      "  27.31153375 30.54757175 33.58155292 36.41637852]\n",
      " [ 5.00987506  9.94429426 14.73440577 19.32318432 23.6684009  27.74320447\n",
      "  31.53479191 35.0419294  38.27206407 41.23856252]\n",
      " [ 6.16405244 12.1886332  17.95232431 23.36434448 28.36904629 32.94323747\n",
      "  37.08928054 40.82701552 44.18652433 47.20259816]\n",
      " [ 8.00472886 15.70863783 22.87366519 29.35775354 35.11201118 40.15599962\n",
      "  44.54886145 48.36646066 51.68690933 54.58294472]\n",
      " [11.39213583 21.94869908 31.15202238 38.8677775  45.21299448 50.40379136\n",
      "  54.66356095 58.1857613  61.12588603 63.60496547]\n",
      " [19.55825154 35.39479584 46.82408983 54.86580694 60.62210026 64.86704501\n",
      "  68.0941316  70.61548432 72.63255086 74.27907221]\n",
      " [56.30993247 71.56505118 77.47119229 80.53767779 82.40535663 83.65980825\n",
      "  84.55966797 85.23635831 85.7636052  86.18592517]]\n"
     ]
    }
   ],
   "source": [
    "f_ct_val = 3\n",
    "tau_fpz_num = 10\n",
    "tau_fpz = np.linspace(0.15,1.5, tau_fpz_num)\n",
    "#eta = 0.2\n",
    "#tau_xx = eta * f_ct_val\n",
    "sig_z_num = 10\n",
    "sigma_z = np.linspace(0, 2.9, sig_z_num)\n",
    "theta = np.zeros([tau_fpz_num, sig_z_num])\n",
    "for j in  range(len(sigma_z)):\n",
    "    #print('sigma_z =', sigma_z[j])\n",
    "    for i in range(len(tau_fpz)):\n",
    "        #print('tau_fpz =', tau_fpz[i])\n",
    "        theta_xz = get_theta_xz(tau_fpz[i], f_ct_val, sigma_z[j])\n",
    "        theta[j, i] = theta_xz\n",
    "print(theta * 180/ np.pi)"
   ]
  },
  {
   "cell_type": "code",
   "execution_count": null,
   "metadata": {},
   "outputs": [],
   "source": [
    "import matplotlib.pylab as plt\n",
    "_, ax1 = plt.subplots(1, 1, figsize=(13,6))\n",
    "ax1.plot(theta[:,0] * 180/ np.pi,  sigma_z, 'o-',lw= 2, label = r'$\\tau_{\\mathrm{fpz}} = 0.15}$')\n",
    "ax1.plot(theta[:,1] * 180/ np.pi,  sigma_z, 'o-',lw= 2, label = r'$\\tau_{\\mathrm{fpz}} = 0.3}$')\n",
    "ax1.plot(theta[:,2] * 180/ np.pi,  sigma_z, 'o-',lw= 2, label = r'$\\tau_{\\mathrm{fpz}} = 0.45}$')\n",
    "ax1.plot(theta[:,3] * 180/ np.pi,  sigma_z, 'o-',lw= 2, label = r'$\\tau_{\\mathrm{fpz}} = 0.6}$')\n",
    "ax1.plot(theta[:,4] * 180/ np.pi,  sigma_z, 'o-',lw= 2, label = r'$\\tau_{\\mathrm{fpz}} = 0.75}$')\n",
    "ax1.plot(theta[:,5] * 180/ np.pi,  sigma_z, 'o-',lw= 2, label = r'$\\tau_{\\mathrm{fpz}} = 0.9}$')\n",
    "ax1.plot(theta[:,6] * 180/ np.pi,  sigma_z, 'o-',lw= 2, label = r'$\\tau_{\\mathrm{fpz}} = 1.05}$')\n",
    "ax1.plot(theta[:,7] * 180/ np.pi,  sigma_z, 'o-',lw= 2, label = r'$\\tau_{\\mathrm{fpz}} = 1.2}$')\n",
    "ax1.plot(theta[:,8] * 180/ np.pi,  sigma_z, 'o-',lw= 2, label = r'$\\tau_{\\mathrm{fpz}} = 1.35}$')\n",
    "ax1.plot(theta[:,9] * 180/ np.pi,  sigma_z, 'o-',lw= 2, label = r'$\\tau_{\\mathrm{fpz}} = 1.5}$')\n",
    "ax1.set_xlabel(r'$\\theta_{\\mathrm{xz}}$'); ax1.set_ylabel(r'$\\sigma_{\\mathrm{z}}$');\n",
    "ax1.set_title(r'Angle of orientation with crack parallel stress')\n",
    "ax1.legend()\n",
    "plt.savefig(\"D:\\Shear zones\\Python plots\\Angle of orientation with crack parallel stress_sig_x.pdf\")"
   ]
  },
  {
   "cell_type": "code",
   "execution_count": null,
   "metadata": {},
   "outputs": [],
   "source": []
  },
  {
   "cell_type": "code",
   "execution_count": null,
   "metadata": {},
   "outputs": [],
   "source": []
  }
 ],
 "metadata": {
  "kernelspec": {
   "display_name": "Python 3",
   "language": "python",
   "name": "python3"
  },
  "language_info": {
   "codemirror_mode": {
    "name": "ipython",
    "version": 3
   },
   "file_extension": ".py",
   "mimetype": "text/x-python",
   "name": "python",
   "nbconvert_exporter": "python",
   "pygments_lexer": "ipython3",
   "version": "3.9.1"
  }
 },
 "nbformat": 4,
 "nbformat_minor": 4
}
