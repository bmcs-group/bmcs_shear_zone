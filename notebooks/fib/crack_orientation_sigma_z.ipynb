{
 "cells": [
  {
   "cell_type": "markdown",
   "metadata": {},
   "source": [
    "# Crack orientation with crack parallel stress $\\sigma_{\\mathrm{z}}$"
   ]
  },
  {
   "cell_type": "code",
   "execution_count": 1,
   "metadata": {},
   "outputs": [
    {
     "data": {
      "text/latex": [
       "$\\displaystyle \\left[\\begin{matrix}\\sigma_{x} & \\tau_\\mathrm{fps}\\\\\\tau_\\mathrm{fps} & \\sigma_{z}\\end{matrix}\\right]$"
      ],
      "text/plain": [
       "Matrix([\n",
       "[          sigma_x, \\tau_\\mathrm{fps}],\n",
       "[\\tau_\\mathrm{fps},           sigma_z]])"
      ]
     },
     "execution_count": 1,
     "metadata": {},
     "output_type": "execute_result"
    }
   ],
   "source": [
    "import numpy as np\n",
    "import sympy as sp\n",
    "\n",
    "\n",
    "tau_fps, sigma_x, sigma_z = sp.symbols(r'\\tau_\\mathrm{fps}, sigma_x, sigma_z')\n",
    "f_ct = sp.Symbol(r'f_ct')\n",
    "\n",
    "\n",
    "sigma_xz = sp.Matrix([[sigma_x, tau_fps],\n",
    "                     [tau_fps, sigma_z]])\n",
    "sigma_xz"
   ]
  },
  {
   "cell_type": "markdown",
   "metadata": {},
   "source": [
    "<img src=\"beam_crack_prop_sig_z.png\" width=\"400\"/> "
   ]
  },
  {
   "cell_type": "markdown",
   "metadata": {},
   "source": [
    "With the inclusion of the crack parallel stress, the stress tensor at the tip of the crack will be given as:\n",
    "\\begin{align}\n",
    "\\bar{\\sigma}_{ij} = \n",
    "\\left[\n",
    "\\begin{array}{cc}\n",
    "\\sigma_x & \\tau_{\\mathrm{fpz}} \\\\\n",
    "\\tau_{\\mathrm{fpz}} & \\sigma_z \n",
    "\\end{array}\n",
    "\\right]\n",
    "\\label{eq: sigma_tip}\n",
    "\\end{align}\n",
    "where the crack parallel stress $\\sigma_z$, $\\tau_\\mathrm{fpz}$ will be obtained by the cantilever action and the parabolic profile of shear stress along the height of the cross section. "
   ]
  },
  {
   "cell_type": "markdown",
   "metadata": {},
   "source": [
    "Based on this stress tensor, the orientation of the crack can be attained by using principal stress directions:\n",
    "\\begin{align}\n",
    "    \\bar{\\sigma}_{ij} = PDP^{-1}\n",
    "    \\label{eq: barsigma}\n",
    "\\end{align}"
   ]
  },
  {
   "cell_type": "code",
   "execution_count": 2,
   "metadata": {},
   "outputs": [
    {
     "data": {
      "text/latex": [
       "$\\displaystyle \\left[\\begin{matrix}\\frac{\\sigma_{x} - \\sigma_{z} - \\sqrt{4 \\tau_\\mathrm{fps}^{2} + \\sigma_{x}^{2} - 2 \\sigma_{x} \\sigma_{z} + \\sigma_{z}^{2}}}{2 \\tau_\\mathrm{fps}} & \\frac{\\sigma_{x} - \\sigma_{z} + \\sqrt{4 \\tau_\\mathrm{fps}^{2} + \\sigma_{x}^{2} - 2 \\sigma_{x} \\sigma_{z} + \\sigma_{z}^{2}}}{2 \\tau_\\mathrm{fps}}\\\\1 & 1\\end{matrix}\\right]$"
      ],
      "text/plain": [
       "Matrix([\n",
       "[(sigma_x - sigma_z - sqrt(4*\\tau_\\mathrm{fps}**2 + sigma_x**2 - 2*sigma_x*sigma_z + sigma_z**2))/(2*\\tau_\\mathrm{fps}), (sigma_x - sigma_z + sqrt(4*\\tau_\\mathrm{fps}**2 + sigma_x**2 - 2*sigma_x*sigma_z + sigma_z**2))/(2*\\tau_\\mathrm{fps})],\n",
       "[                                                                                                                     1,                                                                                                                      1]])"
      ]
     },
     "execution_count": 2,
     "metadata": {},
     "output_type": "execute_result"
    }
   ],
   "source": [
    "P_xz, D_xz = sigma_xz.diagonalize()\n",
    "P_xz"
   ]
  },
  {
   "cell_type": "code",
   "execution_count": 3,
   "metadata": {},
   "outputs": [
    {
     "data": {
      "text/latex": [
       "$\\displaystyle \\left[\\begin{matrix}\\frac{\\sigma_{x}}{2} + \\frac{\\sigma_{z}}{2} - \\frac{\\sqrt{4 \\tau_\\mathrm{fps}^{2} + \\sigma_{x}^{2} - 2 \\sigma_{x} \\sigma_{z} + \\sigma_{z}^{2}}}{2} & 0\\\\0 & \\frac{\\sigma_{x}}{2} + \\frac{\\sigma_{z}}{2} + \\frac{\\sqrt{4 \\tau_\\mathrm{fps}^{2} + \\sigma_{x}^{2} - 2 \\sigma_{x} \\sigma_{z} + \\sigma_{z}^{2}}}{2}\\end{matrix}\\right]$"
      ],
      "text/plain": [
       "Matrix([\n",
       "[sigma_x/2 + sigma_z/2 - sqrt(4*\\tau_\\mathrm{fps}**2 + sigma_x**2 - 2*sigma_x*sigma_z + sigma_z**2)/2,                                                                                                    0],\n",
       "[                                                                                                   0, sigma_x/2 + sigma_z/2 + sqrt(4*\\tau_\\mathrm{fps}**2 + sigma_x**2 - 2*sigma_x*sigma_z + sigma_z**2)/2]])"
      ]
     },
     "execution_count": 3,
     "metadata": {},
     "output_type": "execute_result"
    }
   ],
   "source": [
    "D_xz"
   ]
  },
  {
   "cell_type": "markdown",
   "metadata": {},
   "source": [
    "By assuming the tensile strength of concrete as the governing parameter for $\\sigma_x$ and by equating $\\sigma_x = f_{\\mathrm{ct}}$, the solution for the horizontal stress can be evaluated based on the known $\\sigma_z, \\tau_{\\mathrm{fpz}}$ as:"
   ]
  },
  {
   "cell_type": "code",
   "execution_count": 8,
   "metadata": {},
   "outputs": [
    {
     "data": {
      "text/plain": [
       "{sigma_x: (-\\tau_\\mathrm{fps}**2 + f_ct**2 - f_ct*sigma_z)/(f_ct - sigma_z)}"
      ]
     },
     "execution_count": 8,
     "metadata": {},
     "output_type": "execute_result"
    }
   ],
   "source": [
    "subs_sigma_x = sp.solve({D_xz[0,0] - f_ct}, {sigma_x})[0]\n",
    "subs_sigma_x"
   ]
  },
  {
   "cell_type": "code",
   "execution_count": 9,
   "metadata": {},
   "outputs": [
    {
     "data": {
      "text/latex": [
       "$\\displaystyle \\left[\\begin{matrix}\\frac{- \\tau_\\mathrm{fps}^{2} + f_{ct}^{2} - f_{ct} \\sigma_{z}}{f_{ct} - \\sigma_{z}} & \\tau_\\mathrm{fps}\\\\\\tau_\\mathrm{fps} & \\sigma_{z}\\end{matrix}\\right]$"
      ],
      "text/plain": [
       "Matrix([\n",
       "[(-\\tau_\\mathrm{fps}**2 + f_ct**2 - f_ct*sigma_z)/(f_ct - sigma_z), \\tau_\\mathrm{fps}],\n",
       "[                                                \\tau_\\mathrm{fps},           sigma_z]])"
      ]
     },
     "execution_count": 9,
     "metadata": {},
     "output_type": "execute_result"
    }
   ],
   "source": [
    "sigma_xf = sigma_xz.subs(subs_sigma_x)\n",
    "sigma_xf"
   ]
  },
  {
   "cell_type": "code",
   "execution_count": 10,
   "metadata": {},
   "outputs": [
    {
     "data": {
      "text/latex": [
       "$\\displaystyle \\left[\\begin{matrix}\\frac{- \\sigma_{z} - \\sqrt{4 \\tau_\\mathrm{fps}^{2} + \\sigma_{z}^{2} - \\frac{2 \\sigma_{z} \\left(- \\tau_\\mathrm{fps}^{2} + f_{ct}^{2} - f_{ct} \\sigma_{z}\\right)}{f_{ct} - \\sigma_{z}} + \\frac{\\left(- \\tau_\\mathrm{fps}^{2} + f_{ct}^{2} - f_{ct} \\sigma_{z}\\right)^{2}}{\\left(f_{ct} - \\sigma_{z}\\right)^{2}}} + \\frac{- \\tau_\\mathrm{fps}^{2} + f_{ct}^{2} - f_{ct} \\sigma_{z}}{f_{ct} - \\sigma_{z}}}{2 \\tau_\\mathrm{fps}} & \\frac{- \\sigma_{z} + \\sqrt{4 \\tau_\\mathrm{fps}^{2} + \\sigma_{z}^{2} - \\frac{2 \\sigma_{z} \\left(- \\tau_\\mathrm{fps}^{2} + f_{ct}^{2} - f_{ct} \\sigma_{z}\\right)}{f_{ct} - \\sigma_{z}} + \\frac{\\left(- \\tau_\\mathrm{fps}^{2} + f_{ct}^{2} - f_{ct} \\sigma_{z}\\right)^{2}}{\\left(f_{ct} - \\sigma_{z}\\right)^{2}}} + \\frac{- \\tau_\\mathrm{fps}^{2} + f_{ct}^{2} - f_{ct} \\sigma_{z}}{f_{ct} - \\sigma_{z}}}{2 \\tau_\\mathrm{fps}}\\\\1 & 1\\end{matrix}\\right]$"
      ],
      "text/plain": [
       "Matrix([\n",
       "[(-sigma_z - sqrt(4*\\tau_\\mathrm{fps}**2 + sigma_z**2 - 2*sigma_z*(-\\tau_\\mathrm{fps}**2 + f_ct**2 - f_ct*sigma_z)/(f_ct - sigma_z) + (-\\tau_\\mathrm{fps}**2 + f_ct**2 - f_ct*sigma_z)**2/(f_ct - sigma_z)**2) + (-\\tau_\\mathrm{fps}**2 + f_ct**2 - f_ct*sigma_z)/(f_ct - sigma_z))/(2*\\tau_\\mathrm{fps}), (-sigma_z + sqrt(4*\\tau_\\mathrm{fps}**2 + sigma_z**2 - 2*sigma_z*(-\\tau_\\mathrm{fps}**2 + f_ct**2 - f_ct*sigma_z)/(f_ct - sigma_z) + (-\\tau_\\mathrm{fps}**2 + f_ct**2 - f_ct*sigma_z)**2/(f_ct - sigma_z)**2) + (-\\tau_\\mathrm{fps}**2 + f_ct**2 - f_ct*sigma_z)/(f_ct - sigma_z))/(2*\\tau_\\mathrm{fps})],\n",
       "[                                                                                                                                                                                                                                                                                                       1,                                                                                                                                                                                                                                                                                                        1]])"
      ]
     },
     "execution_count": 10,
     "metadata": {},
     "output_type": "execute_result"
    }
   ],
   "source": [
    "P_xf = P_xz.subs(subs_sigma_x)\n",
    "D_xf = D_xz.subs(subs_sigma_x)\n",
    "P_xf"
   ]
  },
  {
   "cell_type": "code",
   "execution_count": null,
   "metadata": {},
   "outputs": [],
   "source": [
    "theta_xz = sp.atan( sp.simplify(-P_xf[0,0] / P_xf[1,0]))\n",
    "theta_xz"
   ]
  },
  {
   "cell_type": "code",
   "execution_count": null,
   "metadata": {},
   "outputs": [],
   "source": [
    "get_theta_xz = sp.lambdify((tau_fps, f_ct, sigma_z), theta_xz)\n",
    "get_theta_xz"
   ]
  },
  {
   "cell_type": "code",
   "execution_count": null,
   "metadata": {},
   "outputs": [],
   "source": [
    "get_sigma_x_val = sp.lambdify((tau_fps, f_ct, sigma_z),sigma_xf[0,0])\n",
    "get_sigma_x_val"
   ]
  },
  {
   "cell_type": "code",
   "execution_count": null,
   "metadata": {},
   "outputs": [],
   "source": [
    "import matplotlib.pylab as plt\n",
    "_, ax1 = plt.subplots(1, 1, figsize=(11,4))\n",
    "\n",
    "f_ct_val = 3\n",
    "eta = 0.5\n",
    "tau_xx = eta * f_ct_val\n",
    "sigma_z = np.linspace(0, 3, 50)\n",
    "theta_xz = get_theta_xz(tau_xx, f_ct_val, sigma_z)\n",
    "sigma_x = get_sigma_x_val(tau_xx, f_ct_val, sigma_z)\n",
    "\n",
    "ax1.plot(theta_xz * 180/ np.pi,  sigma_z, 'o-', lw= 2, label = r'$\\sigma_{\\mathrm{z}}}$')\n",
    "ax1.set_xlabel(r'$\\theta_{\\mathrm{xz}}$'); ax1.set_ylabel(r'$\\sigma_{\\mathrm{z}}$');\n",
    "ax1.set_title(r'$\\tau_{\\mathrm{fpz}} = constant$, and changing $\\sigma_{\\mathrm{z}}$')\n",
    "ax1.legend()\n",
    "#plt.savefig(\"D:\\Shear zones\\Python plots\\Angle of orientation with crack parallel stress.pdf\")"
   ]
  },
  {
   "cell_type": "code",
   "execution_count": null,
   "metadata": {},
   "outputs": [],
   "source": [
    "import matplotlib.pylab as plt\n",
    "_, ax1 = plt.subplots(1, 1, figsize=(11,4))\n",
    "ax1.plot(sigma_x,  sigma_z, 'o-', lw= 2, label = r'$\\sigma_{\\mathrm{z}}}$')\n",
    "ax1.set_xlabel(r'$\\sigma_{\\mathrm{x}}$'); ax1.set_ylabel(r'$\\sigma_{\\mathrm{z}}$');\n",
    "ax1.set_title(r'$\\tau_{\\mathrm{fpz}} = constant$, and changing $\\sigma_{\\mathrm{z}}$')\n",
    "ax1.legend()"
   ]
  },
  {
   "cell_type": "code",
   "execution_count": null,
   "metadata": {},
   "outputs": [],
   "source": [
    "import matplotlib.pylab as plt\n",
    "_, ax1 = plt.subplots(1, 1, figsize=(11,4))\n",
    "\n",
    "f_ct_val = 3\n",
    "sigma_z = 2.9\n",
    "tau_xx = np.linspace(0.1, 3, 50)\n",
    "theta_xz = get_theta_xz(tau_xx, f_ct_val, sigma_z)\n",
    "sigma_x = get_sigma_x_val(tau_xx, f_ct_val, sigma_z)\n",
    "\n",
    "ax1.plot(theta_xz * 180/ np.pi,  tau_xx, 'o-', lw= 2, label = r'$\\tau_{\\mathrm{fpz}}}$')\n",
    "ax1.set_xlabel(r'$\\theta_{\\mathrm{xz}}$'); ax1.set_ylabel(r'$\\tau_{\\mathrm{fpz}}$');\n",
    "ax1.set_title(r'$\\sigma_{\\mathrm{z}} = constant$, and changing $\\tau_{\\mathrm{fpz}}$')\n",
    "ax1.legend()"
   ]
  },
  {
   "cell_type": "code",
   "execution_count": null,
   "metadata": {},
   "outputs": [],
   "source": [
    "import matplotlib.pylab as plt\n",
    "_, ax1 = plt.subplots(1, 1, figsize=(11,4))\n",
    "\n",
    "ax1.plot(sigma_x,  tau_xx, 'o-', lw= 2, label = r'$\\tau_{\\mathrm{fpz}}}$')\n",
    "ax1.set_xlabel(r'$\\theta_{\\mathrm{xz}}$'); ax1.set_ylabel(r'$\\tau_{\\mathrm{fpz}}$');\n",
    "ax1.set_title(r'$\\sigma_{\\mathrm{z}} = constant$, and changing $\\tau_{\\mathrm{fpz}}$')\n",
    "ax1.legend()"
   ]
  },
  {
   "cell_type": "code",
   "execution_count": null,
   "metadata": {
    "scrolled": false
   },
   "outputs": [],
   "source": [
    "f_ct_val = 3\n",
    "tau_fpz_num = 10\n",
    "tau_fpz = np.linspace(0.15,1.5, tau_fpz_num)\n",
    "#eta = 0.2\n",
    "#tau_xx = eta * f_ct_val\n",
    "sig_z_num = 10\n",
    "sigma_z = np.linspace(0, 2.9, sig_z_num)\n",
    "theta = np.zeros([tau_fpz_num, sig_z_num])\n",
    "for j in  range(len(sigma_z)):\n",
    "    #print('sigma_z =', sigma_z[j])\n",
    "    for i in range(len(tau_fpz)):\n",
    "        #print('tau_fpz =', tau_fpz[i])\n",
    "        theta_xz = get_theta_xz(tau_fpz[i], f_ct_val, sigma_z[j])\n",
    "        theta[j, i] = theta_xz\n",
    "print(theta * 180/ np.pi)"
   ]
  },
  {
   "cell_type": "code",
   "execution_count": null,
   "metadata": {},
   "outputs": [],
   "source": [
    "import matplotlib.pylab as plt\n",
    "_, ax1 = plt.subplots(1, 1, figsize=(13,6))\n",
    "ax1.plot(theta[:,0] * 180/ np.pi,  sigma_z, 'o-',lw= 2, label = r'$\\tau_{\\mathrm{fpz}} = 0.15}$')\n",
    "ax1.plot(theta[:,1] * 180/ np.pi,  sigma_z, 'o-',lw= 2, label = r'$\\tau_{\\mathrm{fpz}} = 0.3}$')\n",
    "ax1.plot(theta[:,2] * 180/ np.pi,  sigma_z, 'o-',lw= 2, label = r'$\\tau_{\\mathrm{fpz}} = 0.45}$')\n",
    "ax1.plot(theta[:,3] * 180/ np.pi,  sigma_z, 'o-',lw= 2, label = r'$\\tau_{\\mathrm{fpz}} = 0.6}$')\n",
    "ax1.plot(theta[:,4] * 180/ np.pi,  sigma_z, 'o-',lw= 2, label = r'$\\tau_{\\mathrm{fpz}} = 0.75}$')\n",
    "ax1.plot(theta[:,5] * 180/ np.pi,  sigma_z, 'o-',lw= 2, label = r'$\\tau_{\\mathrm{fpz}} = 0.9}$')\n",
    "ax1.plot(theta[:,6] * 180/ np.pi,  sigma_z, 'o-',lw= 2, label = r'$\\tau_{\\mathrm{fpz}} = 1.05}$')\n",
    "ax1.plot(theta[:,7] * 180/ np.pi,  sigma_z, 'o-',lw= 2, label = r'$\\tau_{\\mathrm{fpz}} = 1.2}$')\n",
    "ax1.plot(theta[:,8] * 180/ np.pi,  sigma_z, 'o-',lw= 2, label = r'$\\tau_{\\mathrm{fpz}} = 1.35}$')\n",
    "ax1.plot(theta[:,9] * 180/ np.pi,  sigma_z, 'o-',lw= 2, label = r'$\\tau_{\\mathrm{fpz}} = 1.5}$')\n",
    "ax1.set_xlabel(r'$\\theta_{\\mathrm{xz}}$'); ax1.set_ylabel(r'$\\sigma_{\\mathrm{z}}$');\n",
    "ax1.set_title(r'Angle of orientation with crack parallel stress')\n",
    "ax1.legend()\n",
    "plt.savefig(\"D:\\Shear zones\\Python plots\\Angle of orientation with crack parallel stress_sig_x.pdf\")"
   ]
  },
  {
   "cell_type": "code",
   "execution_count": null,
   "metadata": {},
   "outputs": [],
   "source": []
  },
  {
   "cell_type": "code",
   "execution_count": null,
   "metadata": {},
   "outputs": [],
   "source": []
  }
 ],
 "metadata": {
  "kernelspec": {
   "display_name": "Python 3",
   "language": "python",
   "name": "python3"
  },
  "language_info": {
   "codemirror_mode": {
    "name": "ipython",
    "version": 3
   },
   "file_extension": ".py",
   "mimetype": "text/x-python",
   "name": "python",
   "nbconvert_exporter": "python",
   "pygments_lexer": "ipython3",
   "version": "3.9.1"
  }
 },
 "nbformat": 4,
 "nbformat_minor": 4
}
