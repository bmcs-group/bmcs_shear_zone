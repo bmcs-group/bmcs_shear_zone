{
 "cells": [
  {
   "cell_type": "markdown",
   "metadata": {},
   "source": [
    "# **Identification of shear at yielding from normal stress components**"
   ]
  },
  {
   "cell_type": "markdown",
   "metadata": {},
   "source": [
    "# Tensor formulation"
   ]
  },
  {
   "cell_type": "code",
   "execution_count": 51,
   "metadata": {},
   "outputs": [],
   "source": [
    "%matplotlib widget\n",
    "import sympy as sp\n",
    "import numpy as np\n",
    "import matplotlib.pylab as plt\n",
    "sp.init_printing()"
   ]
  },
  {
   "cell_type": "markdown",
   "metadata": {},
   "source": [
    "To simplify orientation, a the components of a general 2D stress tensor are introduced as follows"
   ]
  },
  {
   "cell_type": "markdown",
   "metadata": {},
   "source": [
    "\\begin{align}\n",
    "\\sigma_{ij} = \n",
    "\\left[\n",
    "\\begin{array}{cc}\n",
    "\\sigma_{xx} & \\sigma_{xy} \\\\\n",
    "\\sigma_{yx} & \\sigma_{yy}\n",
    "\\end{array}\n",
    "\\right] =\n",
    "\\left[\n",
    "\\begin{array}{cc}\n",
    "\\sigma_{x} & \\tau \\\\\n",
    "\\tau & \\sigma_{y}\n",
    "\\end{array}\n",
    "\\right]\n",
    "\\end{align}"
   ]
  },
  {
   "cell_type": "markdown",
   "metadata": {},
   "source": [
    "The global stress components $\\sigma_x$ and $\\sigma_y$ are given based on the equilibrium conditions at the cross sectional level. The shear stress $\\tau^\\mathrm{fps}$ can be calculated either using a cross-sectional equilibrium or based on the compression-tension yield envelope. "
   ]
  },
  {
   "cell_type": "code",
   "execution_count": 52,
   "metadata": {},
   "outputs": [],
   "source": [
    "tau_fps, sigma_x, sigma_y = sp.symbols(r'tau, sigma_x, sigma_y')\n",
    "sigma_1, sigma_2 = sp.symbols(r'sigma_1, sigma_2')\n",
    "f_ct, f_cm = sp.symbols(r'f_ct, f_cm', nonnegative=True)"
   ]
  },
  {
   "cell_type": "code",
   "execution_count": 53,
   "metadata": {},
   "outputs": [
    {
     "data": {
      "image/png": "[encoded data removed]",
      "text/latex": [
       "$\\displaystyle \\left[\\begin{matrix}\\sigma_{x} & \\tau\\\\\\tau & \\sigma_{y}\\end{matrix}\\right]$"
      ],
      "text/plain": [
       "⎡σₓ   τ ⎤\n",
       "⎢       ⎥\n",
       "⎣τ   σ_y⎦"
      ]
     },
     "execution_count": 53,
     "metadata": {},
     "output_type": "execute_result"
    }
   ],
   "source": [
    "sigma_xy = sp.Matrix([[sigma_x, tau_fps],\n",
    "                     [tau_fps, sigma_y]])\n",
    "sigma_xy"
   ]
  },
  {
   "cell_type": "code",
   "execution_count": 54,
   "metadata": {},
   "outputs": [],
   "source": [
    "params = (sigma_x, sigma_y, f_ct, f_cm)"
   ]
  },
  {
   "cell_type": "markdown",
   "metadata": {},
   "source": [
    "The principal stress tensor is introduced as\n",
    "\\begin{align}\n",
    "\\sigma_{12} =\n",
    "\\left[\n",
    "\\begin{array}{cc}\n",
    "\\sigma_1 & 0 \\\\\n",
    "0 & \\sigma_2\n",
    "\\end{array}\n",
    "\\right]\n",
    "\\end{align}"
   ]
  },
  {
   "cell_type": "code",
   "execution_count": 55,
   "metadata": {},
   "outputs": [],
   "source": [
    "sigma_12 = sp.Matrix([[sigma_1, 0],\n",
    "                      [0, sigma_2]])"
   ]
  },
  {
   "cell_type": "code",
   "execution_count": 56,
   "metadata": {},
   "outputs": [
    {
     "data": {
      "image/png": "[encoded data removed]",
      "text/latex": [
       "$\\displaystyle \\left( \\left[\\begin{matrix}- \\frac{2 \\tau}{\\sigma_{x} - \\sigma_{y} + \\sqrt{\\sigma_{x}^{2} - 2 \\sigma_{x} \\sigma_{y} + \\sigma_{y}^{2} + 4 \\tau^{2}}} & \\frac{2 \\tau}{- \\sigma_{x} + \\sigma_{y} + \\sqrt{\\sigma_{x}^{2} - 2 \\sigma_{x} \\sigma_{y} + \\sigma_{y}^{2} + 4 \\tau^{2}}}\\\\1 & 1\\end{matrix}\\right], \\  \\left[\\begin{matrix}\\frac{\\sigma_{x}}{2} + \\frac{\\sigma_{y}}{2} - \\frac{\\sqrt{\\sigma_{x}^{2} - 2 \\sigma_{x} \\sigma_{y} + \\sigma_{y}^{2} + 4 \\tau^{2}}}{2} & 0\\\\0 & \\frac{\\sigma_{x}}{2} + \\frac{\\sigma_{y}}{2} + \\frac{\\sqrt{\\sigma_{x}^{2} - 2 \\sigma_{x} \\sigma_{y} + \\sigma_{y}^{2} + 4 \\tau^{2}}}{2}\\end{matrix}\\right]\\right)$"
      ],
      "text/plain": [
       "⎛                                                                             \n",
       "⎜                                                                             \n",
       "⎜⎡                   -2⋅τ                                            2⋅τ      \n",
       "⎜⎢────────────────────────────────────────────  ──────────────────────────────\n",
       "⎜⎢              ______________________________                 _______________\n",
       "⎜⎢             ╱   2                 2      2                 ╱   2           \n",
       "⎜⎢σₓ - σ_y + ╲╱  σₓ  - 2⋅σₓ⋅σ_y + σ_y  + 4⋅τ    -σₓ + σ_y + ╲╱  σₓ  - 2⋅σₓ⋅σ_y\n",
       "⎜⎢                                                                            \n",
       "⎜⎣                     1                                              1       \n",
       "⎜                                                                             \n",
       "⎝                                                                             \n",
       "\n",
       "                  ⎡              ______________________________               \n",
       "                  ⎢             ╱   2                 2      2                \n",
       "               ⎤  ⎢σₓ   σ_y   ╲╱  σₓ  - 2⋅σₓ⋅σ_y + σ_y  + 4⋅τ                 \n",
       "───────────────⎥  ⎢── + ─── - ─────────────────────────────────               \n",
       "_______________⎥  ⎢2     2                    2                               \n",
       "      2      2 ⎥, ⎢                                                           \n",
       " + σ_y  + 4⋅τ  ⎥  ⎢                                                           \n",
       "               ⎥  ⎢                                                           \n",
       "               ⎦  ⎢                                              σₓ   σ_y   ╲╱\n",
       "                  ⎢                     0                        ── + ─── + ──\n",
       "                  ⎣                                              2     2      \n",
       "\n",
       "                               ⎤⎞\n",
       "                               ⎥⎟\n",
       "                               ⎥⎟\n",
       "        0                      ⎥⎟\n",
       "                               ⎥⎟\n",
       "                               ⎥⎟\n",
       " ______________________________⎥⎟\n",
       "╱   2                 2      2 ⎥⎟\n",
       "  σₓ  - 2⋅σₓ⋅σ_y + σ_y  + 4⋅τ  ⎥⎟\n",
       "───────────────────────────────⎥⎟\n",
       "              2                ⎦⎠"
      ]
     },
     "execution_count": 56,
     "metadata": {},
     "output_type": "execute_result"
    }
   ],
   "source": [
    "P_xy, D_xy = sigma_xy.diagonalize()\n",
    "P_xy, D_xy"
   ]
  },
  {
   "cell_type": "code",
   "execution_count": 57,
   "metadata": {},
   "outputs": [],
   "source": [
    "sigma_1_xy = D_xy[0,0]\n",
    "sigma_2_xy = D_xy[1,1]"
   ]
  },
  {
   "cell_type": "markdown",
   "metadata": {},
   "source": [
    "The orientation of principal stresses"
   ]
  },
  {
   "cell_type": "markdown",
   "metadata": {},
   "source": [
    "## Kupfer envelope on combined tension and compression"
   ]
  },
  {
   "cell_type": "markdown",
   "metadata": {},
   "source": [
    "A linear transition between the tensile and compressive strength is assumed\n",
    "$$\n",
    "\\displaystyle \\frac{\\sigma_{2}}{f_{ct}} - \\frac{4 \\sigma_{1}}{5 f_{cm}} = 1\n",
    "$$\n",
    "where $\\sigma_1$ is representing the compressive strength and $\\sigma_2$ represents the tensile stress. "
   ]
  },
  {
   "cell_type": "code",
   "execution_count": 58,
   "metadata": {},
   "outputs": [
    {
     "data": {
      "image/png": "[encoded data removed]",
      "text/latex": [
       "$\\displaystyle \\frac{\\sigma_{2}}{f_{ct}} - \\frac{4 \\sigma_{1}}{5 f_{cm}} = 1$"
      ],
      "text/plain": [
       " σ₂     4⋅σ₁     \n",
       "──── - ────── = 1\n",
       "f_ct   5⋅f_cm    "
      ]
     },
     "execution_count": 58,
     "metadata": {},
     "output_type": "execute_result"
    }
   ],
   "source": [
    "Kupfer_ct = sp.Eq(sigma_2 / f_ct - sp.Rational(8,10) * sigma_1 / f_cm, 1)\n",
    "Kupfer_ct"
   ]
  },
  {
   "cell_type": "markdown",
   "metadata": {},
   "source": [
    "The tensile stress $\\sigma_2$ can be resolved as\n",
    "$$\n",
    "\\sigma_2 = \\displaystyle f_{\\mathrm{ct}} \\left( 1 + \\frac{4 \\sigma_{1}}{5 f_{\\mathrm{cm}}} \\right)\n",
    "$$"
   ]
  },
  {
   "cell_type": "code",
   "execution_count": 59,
   "metadata": {},
   "outputs": [
    {
     "data": {
      "image/png": "[encoded data removed]",
      "text/latex": [
       "$\\displaystyle \\left\\{ \\sigma_{2} : f_{ct} + \\frac{4 f_{ct} \\sigma_{1}}{5 f_{cm}}\\right\\}$"
      ],
      "text/plain": [
       "⎧           4⋅f_ct⋅σ₁⎫\n",
       "⎨σ₂: f_ct + ─────────⎬\n",
       "⎩             5⋅f_cm ⎭"
      ]
     },
     "execution_count": 59,
     "metadata": {},
     "output_type": "execute_result"
    }
   ],
   "source": [
    "sigma_2_ct_solved = sp.solve(Kupfer_ct, sigma_2)[0]\n",
    "{sigma_2: sigma_2_ct_solved}"
   ]
  },
  {
   "cell_type": "markdown",
   "metadata": {},
   "source": [
    "Verify the shape of the yield limit by plotting $\\sigma_2$ in the range of $\\sigma_1 \\in (-f_\\mathrm{cc}, f_\\mathrm{ct})$. Note that the line intersects the horizontal axis at the value of 37.5. The nonlinear part of the Kupfer function is not considered yet."
   ]
  },
  {
   "cell_type": "code",
   "execution_count": 60,
   "metadata": {},
   "outputs": [
    {
     "data": {
      "application/vnd.jupyter.widget-view+json": {
       "model_id": "38ba925e63994edf999f90fd3c9e5398",
       "version_major": 2,
       "version_minor": 0
      },
      "text/plain": [
       "Canvas(toolbar=Toolbar(toolitems=[('Home', 'Reset original view', 'home', 'home'), ('Back', 'Back to previous …"
      ]
     },
     "metadata": {},
     "output_type": "display_data"
    }
   ],
   "source": [
    "get_sigma_2_ct_solved = sp.lambdify((sigma_1, f_ct, f_cm), sigma_2_ct_solved, \"numpy\")\n",
    "fig, ax = plt.subplots(1,1)\n",
    "fig.canvas.header_visible=False\n",
    "sigma_1_range = np.linspace(-40,5,100)\n",
    "ax.plot(sigma_1_range, get_sigma_2_ct_solved(sigma_1_range, 3, 30))\n",
    "ax.set_xlabel(r'$\\sigma_1$'); ax.set_ylabel(r'$\\sigma_2$');"
   ]
  },
  {
   "cell_type": "markdown",
   "metadata": {},
   "source": [
    "Let us now require that $\\sigma_2$ constrained by the Kupfer condition be equal to the \n",
    "second principal stress component expressed in terms of the global stress components $\\sigma_x, \\sigma_y, \\tau$"
   ]
  },
  {
   "cell_type": "code",
   "execution_count": 61,
   "metadata": {},
   "outputs": [
    {
     "data": {
      "image/png": "[encoded data removed]",
      "text/latex": [
       "$\\displaystyle f_{ct} + \\frac{4 f_{ct} \\sigma_{1}}{5 f_{cm}} = \\frac{\\sigma_{x}}{2} + \\frac{\\sigma_{y}}{2} + \\frac{\\sqrt{\\sigma_{x}^{2} - 2 \\sigma_{x} \\sigma_{y} + \\sigma_{y}^{2} + 4 \\tau^{2}}}{2}$"
      ],
      "text/plain": [
       "                                 ______________________________\n",
       "                                ╱   2                 2      2 \n",
       "       4⋅f_ct⋅σ₁   σₓ   σ_y   ╲╱  σₓ  - 2⋅σₓ⋅σ_y + σ_y  + 4⋅τ  \n",
       "f_ct + ───────── = ── + ─── + ─────────────────────────────────\n",
       "         5⋅f_cm    2     2                    2                "
      ]
     },
     "execution_count": 61,
     "metadata": {},
     "output_type": "execute_result"
    }
   ],
   "source": [
    "sig_2_ct_eq = sp.Eq(sigma_2_ct_solved, sigma_2_xy)\n",
    "sig_2_ct_eq"
   ]
  },
  {
   "cell_type": "markdown",
   "metadata": {},
   "source": [
    "and substitute the first principal stress component $\\sigma_1(\\sigma_x, \\sigma_y, \\tau)$ to obtain"
   ]
  },
  {
   "cell_type": "code",
   "execution_count": 62,
   "metadata": {},
   "outputs": [
    {
     "data": {
      "image/png": "[encoded data removed]",
      "text/latex": [
       "$\\displaystyle f_{ct} + \\frac{4 f_{ct} \\left(\\frac{\\sigma_{x}}{2} + \\frac{\\sigma_{y}}{2} - \\frac{\\sqrt{\\sigma_{x}^{2} - 2 \\sigma_{x} \\sigma_{y} + \\sigma_{y}^{2} + 4 \\tau^{2}}}{2}\\right)}{5 f_{cm}} = \\frac{\\sigma_{x}}{2} + \\frac{\\sigma_{y}}{2} + \\frac{\\sqrt{\\sigma_{x}^{2} - 2 \\sigma_{x} \\sigma_{y} + \\sigma_{y}^{2} + 4 \\tau^{2}}}{2}$"
      ],
      "text/plain": [
       "              ⎛              ______________________________⎞                  \n",
       "              ⎜             ╱   2                 2      2 ⎟                  \n",
       "              ⎜σₓ   σ_y   ╲╱  σₓ  - 2⋅σₓ⋅σ_y + σ_y  + 4⋅τ  ⎟                 _\n",
       "       4⋅f_ct⋅⎜── + ─── - ─────────────────────────────────⎟                ╱ \n",
       "              ⎝2     2                    2                ⎠   σₓ   σ_y   ╲╱  \n",
       "f_ct + ───────────────────────────────────────────────────── = ── + ─── + ────\n",
       "                               5⋅f_cm                          2     2        \n",
       "\n",
       "                             \n",
       "                             \n",
       "_____________________________\n",
       "  2                 2      2 \n",
       "σₓ  - 2⋅σₓ⋅σ_y + σ_y  + 4⋅τ  \n",
       "─────────────────────────────\n",
       "            2                "
      ]
     },
     "execution_count": 62,
     "metadata": {},
     "output_type": "execute_result"
    }
   ],
   "source": [
    "sig_2_ct_eq_xy = sig_2_ct_eq.subs(sigma_1, sigma_1_xy)\n",
    "sig_2_ct_eq_xy"
   ]
  },
  {
   "cell_type": "markdown",
   "metadata": {},
   "source": [
    "Using this equation, the global shear stress component inducing yielding can be expressed in terms of the global stress components $\\sigma_x, \\sigma_y$"
   ]
  },
  {
   "cell_type": "code",
   "execution_count": 63,
   "metadata": {},
   "outputs": [
    {
     "data": {
      "image/png": "[encoded data removed]",
      "text/latex": [
       "$\\displaystyle \\left\\{ \\tau : \\frac{\\sqrt{\\frac{\\left(10 f_{cm} f_{ct} - 5 f_{cm} \\sigma_{x} - 5 f_{cm} \\sigma_{y} + 4 f_{ct} \\sigma_{x} + 4 f_{ct} \\sigma_{y} - \\left(5 f_{cm} + 4 f_{ct}\\right) \\left(\\sigma_{x} - \\sigma_{y}\\right)\\right) \\left(10 f_{cm} f_{ct} - 5 f_{cm} \\sigma_{x} - 5 f_{cm} \\sigma_{y} + 4 f_{ct} \\sigma_{x} + 4 f_{ct} \\sigma_{y} + \\left(5 f_{cm} + 4 f_{ct}\\right) \\left(\\sigma_{x} - \\sigma_{y}\\right)\\right)}{\\left(5 f_{cm} + 4 f_{ct}\\right)^{2}}}}{2}\\right\\}$"
      ],
      "text/plain": [
       "⎧        _____________________________________________________________________\n",
       "⎪       ╱ (10⋅f_cm⋅f_ct - 5⋅f_cm⋅σₓ - 5⋅f_cm⋅σ_y + 4⋅f_ct⋅σₓ + 4⋅f_ct⋅σ_y - (5\n",
       "⎪      ╱  ────────────────────────────────────────────────────────────────────\n",
       "⎨     ╱                                                                       \n",
       "⎪   ╲╱                                                                        \n",
       "⎪τ: ──────────────────────────────────────────────────────────────────────────\n",
       "⎩                                                                             \n",
       "\n",
       "______________________________________________________________________________\n",
       "⋅f_cm + 4⋅f_ct)⋅(σₓ - σ_y))⋅(10⋅f_cm⋅f_ct - 5⋅f_cm⋅σₓ - 5⋅f_cm⋅σ_y + 4⋅f_ct⋅σₓ\n",
       "──────────────────────────────────────────────────────────────────────────────\n",
       "                                    2                                         \n",
       "                   (5⋅f_cm + 4⋅f_ct)                                          \n",
       "──────────────────────────────────────────────────────────────────────────────\n",
       "                        2                                                     \n",
       "\n",
       "______________________________________________⎫\n",
       " + 4⋅f_ct⋅σ_y + (5⋅f_cm + 4⋅f_ct)⋅(σₓ - σ_y)) ⎪\n",
       "───────────────────────────────────────────── ⎪\n",
       "                                              ⎬\n",
       "                                              ⎪\n",
       "──────────────────────────────────────────────⎪\n",
       "                                              ⎭"
      ]
     },
     "execution_count": 63,
     "metadata": {},
     "output_type": "execute_result"
    }
   ],
   "source": [
    "tau_fps_ct_solved = sp.solve(sig_2_ct_eq_xy, tau_fps)[0]\n",
    "{tau_fps : sp.simplify(tau_fps_ct_solved)}"
   ]
  },
  {
   "cell_type": "markdown",
   "metadata": {},
   "source": [
    "The orientation of the principle axes can then be obtained as"
   ]
  },
  {
   "cell_type": "code",
   "execution_count": 64,
   "metadata": {},
   "outputs": [
    {
     "data": {
      "image/png": "[encoded data removed]",
      "text/latex": [
       "$\\displaystyle \\operatorname{atan}{\\left(\\frac{\\sqrt{\\frac{\\left(10 f_{cm} f_{ct} - 5 f_{cm} \\sigma_{x} - 5 f_{cm} \\sigma_{y} + 4 f_{ct} \\sigma_{x} + 4 f_{ct} \\sigma_{y} + \\left(5 f_{cm} + 4 f_{ct}\\right) \\left(- \\sigma_{x} + \\sigma_{y}\\right)\\right) \\left(10 f_{cm} f_{ct} - 5 f_{cm} \\sigma_{x} - 5 f_{cm} \\sigma_{y} + 4 f_{ct} \\sigma_{x} + 4 f_{ct} \\sigma_{y} + \\left(5 f_{cm} + 4 f_{ct}\\right) \\left(\\sigma_{x} - \\sigma_{y}\\right)\\right)}{\\left(5 f_{cm} + 4 f_{ct}\\right)^{2}}}}{\\sigma_{x} - \\sigma_{y} + \\sqrt{\\sigma_{x}^{2} - 2 \\sigma_{x} \\sigma_{y} + \\sigma_{y}^{2} + \\frac{\\left(10 f_{cm} f_{ct} - 5 f_{cm} \\sigma_{x} - 5 f_{cm} \\sigma_{y} + 4 f_{ct} \\sigma_{x} + 4 f_{ct} \\sigma_{y} + \\left(5 f_{cm} + 4 f_{ct}\\right) \\left(- \\sigma_{x} + \\sigma_{y}\\right)\\right) \\left(10 f_{cm} f_{ct} - 5 f_{cm} \\sigma_{x} - 5 f_{cm} \\sigma_{y} + 4 f_{ct} \\sigma_{x} + 4 f_{ct} \\sigma_{y} + \\left(5 f_{cm} + 4 f_{ct}\\right) \\left(\\sigma_{x} - \\sigma_{y}\\right)\\right)}{\\left(5 f_{cm} + 4 f_{ct}\\right)^{2}}}} \\right)}$"
      ],
      "text/plain": [
       "    ⎛                      ___________________________________________________\n",
       "    ⎜                     ╱ (10⋅f_cm⋅f_ct - 5⋅f_cm⋅σₓ - 5⋅f_cm⋅σ_y + 4⋅f_ct⋅σₓ\n",
       "    ⎜                    ╱  ──────────────────────────────────────────────────\n",
       "    ⎜                   ╱                                                     \n",
       "    ⎜                 ╲╱                                                      \n",
       "atan⎜─────────────────────────────────────────────────────────────────────────\n",
       "    ⎜                _________________________________________________________\n",
       "    ⎜               ╱   2                 2   (10⋅f_cm⋅f_ct - 5⋅f_cm⋅σₓ - 5⋅f_\n",
       "    ⎜σₓ - σ_y +    ╱  σₓ  - 2⋅σₓ⋅σ_y + σ_y  + ────────────────────────────────\n",
       "    ⎜             ╱                                                           \n",
       "    ⎝           ╲╱                                                            \n",
       "\n",
       "______________________________________________________________________________\n",
       " + 4⋅f_ct⋅σ_y + (5⋅f_cm + 4⋅f_ct)⋅(-σₓ + σ_y))⋅(10⋅f_cm⋅f_ct - 5⋅f_cm⋅σₓ - 5⋅f\n",
       "──────────────────────────────────────────────────────────────────────────────\n",
       "                                                      2                       \n",
       "                                     (5⋅f_cm + 4⋅f_ct)                        \n",
       "──────────────────────────────────────────────────────────────────────────────\n",
       "______________________________________________________________________________\n",
       "cm⋅σ_y + 4⋅f_ct⋅σₓ + 4⋅f_ct⋅σ_y + (5⋅f_cm + 4⋅f_ct)⋅(-σₓ + σ_y))⋅(10⋅f_cm⋅f_ct\n",
       "──────────────────────────────────────────────────────────────────────────────\n",
       "                                                                        2     \n",
       "                                                       (5⋅f_cm + 4⋅f_ct)      \n",
       "\n",
       "_________________________________________________________________             \n",
       "_cm⋅σ_y + 4⋅f_ct⋅σₓ + 4⋅f_ct⋅σ_y + (5⋅f_cm + 4⋅f_ct)⋅(σₓ - σ_y))              \n",
       "────────────────────────────────────────────────────────────────              \n",
       "                                                                              \n",
       "                                                                              \n",
       "──────────────────────────────────────────────────────────────────────────────\n",
       "______________________________________________________________________________\n",
       " - 5⋅f_cm⋅σₓ - 5⋅f_cm⋅σ_y + 4⋅f_ct⋅σₓ + 4⋅f_ct⋅σ_y + (5⋅f_cm + 4⋅f_ct)⋅(σₓ - σ\n",
       "──────────────────────────────────────────────────────────────────────────────\n",
       "                                                                              \n",
       "                                                                              \n",
       "\n",
       "     ⎞\n",
       "     ⎟\n",
       "     ⎟\n",
       "     ⎟\n",
       "     ⎟\n",
       "─────⎟\n",
       "_____⎟\n",
       "_y)) ⎟\n",
       "──── ⎟\n",
       "     ⎟\n",
       "     ⎠"
      ]
     },
     "execution_count": 64,
     "metadata": {},
     "output_type": "execute_result"
    }
   ],
   "source": [
    "theta = sp.atan( sp.simplify(-P_xy[0,0] / P_xy[1,0])).subs(tau_fps, tau_fps_ct_solved)\n",
    "theta"
   ]
  },
  {
   "cell_type": "markdown",
   "metadata": {},
   "source": [
    "# Symbolic verification\n",
    "\n",
    "To verify the solution, let us study two limit cases"
   ]
  },
  {
   "cell_type": "markdown",
   "metadata": {},
   "source": [
    "## Verification 1: Test the solution for zero $\\tau$\n",
    "\n",
    "Using the obtained $\\tau$ at yielding, we can pose the question: What is the link between $\\sigma_y$ and $\\sigma_x$ if $\\tau = 0$.\n",
    "$$\n",
    "\\tau(\\sigma_x, \\sigma_y) = 0 \\; \\implies \\; \\left. \\sigma_y(\\sigma_x) \\right|_{\\tau=0}\n",
    "$$"
   ]
  },
  {
   "cell_type": "code",
   "execution_count": 15,
   "metadata": {},
   "outputs": [
    {
     "data": {
      "image/png": "[encoded data removed]",
      "text/latex": [
       "$\\displaystyle \\left\\{ \\sigma_{y} : \\frac{- 25 f_{cm}^{2} f_{ct} + 25 f_{cm}^{2} \\sigma_{x} + 20 f_{cm} f_{ct}^{2} + 16 f_{ct}^{2} \\sigma_{x} - \\left(5 f_{cm} + 4 f_{ct}\\right) \\sqrt{25 f_{cm}^{2} f_{ct}^{2} - 50 f_{cm}^{2} f_{ct} \\sigma_{x} + 25 f_{cm}^{2} \\sigma_{x}^{2} + 40 f_{cm} f_{ct}^{2} \\sigma_{x} - 40 f_{cm} f_{ct} \\sigma_{x}^{2} + 16 f_{ct}^{2} \\sigma_{x}^{2}}}{40 f_{cm} f_{ct}}\\right\\}$"
      ],
      "text/plain": [
       "⎧                                                                             \n",
       "⎪              2               2                  2          2                \n",
       "⎨     - 25⋅f_cm ⋅f_ct + 25⋅f_cm ⋅σₓ + 20⋅f_cm⋅f_ct  + 16⋅f_ct ⋅σₓ - (5⋅f_cm + \n",
       "⎪σ_y: ────────────────────────────────────────────────────────────────────────\n",
       "⎩                                                                             \n",
       "\n",
       "           ___________________________________________________________________\n",
       "          ╱        2     2          2                  2   2               2  \n",
       "4⋅f_ct)⋅╲╱  25⋅f_cm ⋅f_ct  - 50⋅f_cm ⋅f_ct⋅σₓ + 25⋅f_cm ⋅σₓ  + 40⋅f_cm⋅f_ct ⋅σ\n",
       "──────────────────────────────────────────────────────────────────────────────\n",
       "               40⋅f_cm⋅f_ct                                                   \n",
       "\n",
       "____________________________________⎫\n",
       "                   2          2   2 ⎪\n",
       "ₓ - 40⋅f_cm⋅f_ct⋅σₓ  + 16⋅f_ct ⋅σₓ  ⎬\n",
       "────────────────────────────────────⎪\n",
       "                                    ⎭"
      ]
     },
     "execution_count": 15,
     "metadata": {},
     "output_type": "execute_result"
    }
   ],
   "source": [
    "sigma_y_ct_at_tau_zero = sp.solve(tau_fps_ct_solved, sigma_y)[0]\n",
    "{sigma_y : sp.simplify(sigma_y_ct_at_tau_zero)}"
   ]
  },
  {
   "cell_type": "markdown",
   "metadata": {},
   "source": [
    "Given the parameters $\\sigma_x = 0, f_\\mathrm{ct} = 3, f_\\mathrm{cc} = 30$ get $\\sigma_y$ and put it into a dictionary"
   ]
  },
  {
   "cell_type": "code",
   "execution_count": 65,
   "metadata": {},
   "outputs": [
    {
     "data": {
      "image/png": "[encoded data removed]",
      "text/latex": [
       "$\\displaystyle \\left\\{ f_{cm} : 30, \\  f_{ct} : 3, \\  \\sigma_{x} : 0, \\  \\sigma_{y} : - \\frac{75}{2}\\right\\}$"
      ],
      "text/plain": [
       "{f_cm: 30, f_ct: 3, σₓ: 0, σ_y: -75/2}"
      ]
     },
     "execution_count": 65,
     "metadata": {},
     "output_type": "execute_result"
    }
   ],
   "source": [
    "test_param = {sigma_x:0, f_ct:3, f_cm:30}\n",
    "sigma_y_param = sigma_y_ct_at_tau_zero.subs(test_param)\n",
    "test_param.update({sigma_y: sigma_y_param})\n",
    "test_param"
   ]
  },
  {
   "cell_type": "markdown",
   "metadata": {},
   "source": [
    "Verify that the shear stress is zero for the identified set of parameters"
   ]
  },
  {
   "cell_type": "code",
   "execution_count": 66,
   "metadata": {},
   "outputs": [
    {
     "data": {
      "image/png": "[encoded data removed]",
      "text/latex": [
       "$\\displaystyle 0$"
      ],
      "text/plain": [
       "0"
      ]
     },
     "execution_count": 66,
     "metadata": {},
     "output_type": "execute_result"
    }
   ],
   "source": [
    "tau_fps_ct_solved.subs(test_param)"
   ]
  },
  {
   "cell_type": "markdown",
   "metadata": {},
   "source": [
    "Since $\\sigma_x$ was set equal to zero and $\\tau$ is zero implicitly, the only way how to satisfy the Kupfer criterion is \n",
    "$$\n",
    "\\sigma_y = - 5/4 f_\\mathrm{cc} = -37.5\n",
    "$$"
   ]
  },
  {
   "cell_type": "code",
   "execution_count": 67,
   "metadata": {},
   "outputs": [
    {
     "data": {
      "image/png": "[encoded data removed]",
      "text/latex": [
       "$\\displaystyle - \\frac{75}{2}$"
      ],
      "text/plain": [
       "-75/2"
      ]
     },
     "execution_count": 67,
     "metadata": {},
     "output_type": "execute_result"
    }
   ],
   "source": [
    "sigma_1_xy.subs(tau_fps, tau_fps_ct_solved).subs(test_param)"
   ]
  },
  {
   "cell_type": "markdown",
   "metadata": {},
   "source": [
    "Note that $\\sigma_2$ is then equal to $\\sigma_x$ and $\\sigma_1 = \\sigma_y$"
   ]
  },
  {
   "cell_type": "code",
   "execution_count": 68,
   "metadata": {},
   "outputs": [
    {
     "data": {
      "image/png": "[encoded data removed]",
      "text/latex": [
       "$\\displaystyle 0$"
      ],
      "text/plain": [
       "0"
      ]
     },
     "execution_count": 68,
     "metadata": {},
     "output_type": "execute_result"
    }
   ],
   "source": [
    "sigma_2_xy.subs(tau_fps, tau_fps_ct_solved).subs(test_param)"
   ]
  },
  {
   "cell_type": "code",
   "execution_count": 70,
   "metadata": {},
   "outputs": [
    {
     "data": {
      "image/png": "[encoded data removed]",
      "text/latex": [
       "$\\displaystyle 0$"
      ],
      "text/plain": [
       "0"
      ]
     },
     "execution_count": 70,
     "metadata": {},
     "output_type": "execute_result"
    }
   ],
   "source": [
    "theta.subs(test_param).subs(tau_fps,0)"
   ]
  },
  {
   "cell_type": "markdown",
   "metadata": {},
   "source": [
    "## Verification 2: Test the solution for values with $\\sigma_1 = 0$ "
   ]
  },
  {
   "cell_type": "markdown",
   "metadata": {},
   "source": [
    "Similarly to the case $\\tau = 0$ let us now test the case in which the principal compressive stress \n",
    "component is zero, i.e. $\\sigma_1 = 0$. This case is particularly important to define the transition between tension-compression and tension-tension regime within the Kupfer condition."
   ]
  },
  {
   "cell_type": "markdown",
   "metadata": {},
   "source": [
    "To derive the relation between $\\sigma_y$ and $\\sigma_x$ assuming $\\sigma_1 = 0$, let us first substitute the solved function $\\tau(\\sigma_x, \\sigma_y)$ into the function $\\sigma_1(\\sigma_x, \\sigma_y, \\tau)$"
   ]
  },
  {
   "cell_type": "code",
   "execution_count": 71,
   "metadata": {},
   "outputs": [
    {
     "data": {
      "image/png": "[encoded data removed]",
      "text/latex": [
       "$\\displaystyle \\left\\{ \\sigma_{1} : \\frac{\\sigma_{x}}{2} + \\frac{\\sigma_{y}}{2} - \\frac{\\sqrt{\\sigma_{x}^{2} - 2 \\sigma_{x} \\sigma_{y} + \\sigma_{y}^{2} + \\frac{\\left(10 f_{cm} f_{ct} - 5 f_{cm} \\sigma_{x} - 5 f_{cm} \\sigma_{y} + 4 f_{ct} \\sigma_{x} + 4 f_{ct} \\sigma_{y} + \\left(5 f_{cm} + 4 f_{ct}\\right) \\left(- \\sigma_{x} + \\sigma_{y}\\right)\\right) \\left(10 f_{cm} f_{ct} - 5 f_{cm} \\sigma_{x} - 5 f_{cm} \\sigma_{y} + 4 f_{ct} \\sigma_{x} + 4 f_{ct} \\sigma_{y} + \\left(5 f_{cm} + 4 f_{ct}\\right) \\left(\\sigma_{x} - \\sigma_{y}\\right)\\right)}{\\left(5 f_{cm} + 4 f_{ct}\\right)^{2}}}}{2}\\right\\}$"
      ],
      "text/plain": [
       "⎧                    _________________________________________________________\n",
       "⎪                   ╱   2                 2   (10⋅f_cm⋅f_ct - 5⋅f_cm⋅σₓ - 5⋅f_\n",
       "⎪                  ╱  σₓ  - 2⋅σₓ⋅σ_y + σ_y  + ────────────────────────────────\n",
       "⎨                 ╱                                                           \n",
       "⎪    σₓ   σ_y   ╲╱                                                            \n",
       "⎪σ₁: ── + ─── - ──────────────────────────────────────────────────────────────\n",
       "⎩    2     2                                                                  \n",
       "\n",
       "______________________________________________________________________________\n",
       "cm⋅σ_y + 4⋅f_ct⋅σₓ + 4⋅f_ct⋅σ_y + (5⋅f_cm + 4⋅f_ct)⋅(-σₓ + σ_y))⋅(10⋅f_cm⋅f_ct\n",
       "──────────────────────────────────────────────────────────────────────────────\n",
       "                                                                        2     \n",
       "                                                       (5⋅f_cm + 4⋅f_ct)      \n",
       "──────────────────────────────────────────────────────────────────────────────\n",
       "                                                 2                            \n",
       "\n",
       "______________________________________________________________________________\n",
       " - 5⋅f_cm⋅σₓ - 5⋅f_cm⋅σ_y + 4⋅f_ct⋅σₓ + 4⋅f_ct⋅σ_y + (5⋅f_cm + 4⋅f_ct)⋅(σₓ - σ\n",
       "──────────────────────────────────────────────────────────────────────────────\n",
       "                                                                              \n",
       "                                                                              \n",
       "──────────────────────────────────────────────────────────────────────────────\n",
       "                                                                              \n",
       "\n",
       "_____⎫\n",
       "_y)) ⎪\n",
       "──── ⎪\n",
       "     ⎬\n",
       "     ⎪\n",
       "─────⎪\n",
       "     ⎭"
      ]
     },
     "execution_count": 71,
     "metadata": {},
     "output_type": "execute_result"
    }
   ],
   "source": [
    "sigma_1_ct_xy_solved = sigma_1_xy.subs(tau_fps, tau_fps_ct_solved)\n",
    "{sigma_1 : sigma_1_ct_xy_solved}"
   ]
  },
  {
   "cell_type": "markdown",
   "metadata": {},
   "source": [
    "By this expression to be zero we can obtain the desired link \n",
    "$$\n",
    "\\left. \\sigma_1(\\sigma_x, \\sigma_y) \\right|_{f=0}= 0 \\; \\implies \\;\n",
    "\\left. \\sigma_y(\\sigma_x) \\right|_{\\sigma_1 = 0}\n",
    "$$"
   ]
  },
  {
   "cell_type": "code",
   "execution_count": 72,
   "metadata": {},
   "outputs": [
    {
     "data": {
      "image/png": "[encoded data removed]",
      "text/latex": [
       "$\\displaystyle \\left\\{ \\sigma_{y} : f_{ct} - \\sigma_{x}\\right\\}$"
      ],
      "text/plain": [
       "{σ_y: f_ct - σₓ}"
      ]
     },
     "execution_count": 72,
     "metadata": {},
     "output_type": "execute_result"
    }
   ],
   "source": [
    "sigma_y_at_sigma_1_zero = sp.solve(sigma_1_ct_xy_solved,sigma_y)[0]\n",
    "{sigma_y: sigma_y_at_sigma_1_zero}"
   ]
  },
  {
   "cell_type": "markdown",
   "metadata": {},
   "source": [
    "Let us now use this link to identify a state with $\\sigma_1 = 0$\n",
    "Given the global stress component $\\sigma_x = 0$\n",
    "and the strength parameters $f_\\mathrm{ct} = 3, f_\\mathrm{cc} = 30$\n",
    "let us derive the corresponding $\\sigma_y$ and insert it into the `test_param` dictionary"
   ]
  },
  {
   "cell_type": "code",
   "execution_count": 87,
   "metadata": {},
   "outputs": [
    {
     "data": {
      "image/png": "[encoded data removed]",
      "text/latex": [
       "$\\displaystyle \\left\\{ f_{cm} : 30, \\  f_{ct} : 3, \\  \\sigma_{x} : 3, \\  \\sigma_{y} : 0\\right\\}$"
      ],
      "text/plain": [
       "{f_cm: 30, f_ct: 3, σₓ: 3, σ_y: 0}"
      ]
     },
     "execution_count": 87,
     "metadata": {},
     "output_type": "execute_result"
    }
   ],
   "source": [
    "test_param = {sigma_x:3, f_ct:3, f_cm:30}\n",
    "sigma_y_param = sigma_y_at_sigma_1_zero.subs(test_param)\n",
    "test_param.update({sigma_y: sigma_y_param})\n",
    "test_param"
   ]
  },
  {
   "cell_type": "markdown",
   "metadata": {},
   "source": [
    "Note that we set $\\sigma_x = f_\\mathrm{ct}$. This means that the only way to satisfy the requirement of simultaneous yielding and uniaxial stress state is the zero value of $\\tau$"
   ]
  },
  {
   "cell_type": "code",
   "execution_count": 88,
   "metadata": {},
   "outputs": [
    {
     "data": {
      "image/png": "[encoded data removed]",
      "text/latex": [
       "$\\displaystyle 0$"
      ],
      "text/plain": [
       "0"
      ]
     },
     "execution_count": 88,
     "metadata": {},
     "output_type": "execute_result"
    }
   ],
   "source": [
    "tau_fps_ct_solved.subs(test_param)"
   ]
  },
  {
   "cell_type": "markdown",
   "metadata": {},
   "source": [
    "The zero value of $\\sigma_1$ is implicitly fulfilled, so that we verify"
   ]
  },
  {
   "cell_type": "code",
   "execution_count": 89,
   "metadata": {},
   "outputs": [
    {
     "data": {
      "image/png": "[encoded data removed]",
      "text/latex": [
       "$\\displaystyle 0$"
      ],
      "text/plain": [
       "0"
      ]
     },
     "execution_count": 89,
     "metadata": {},
     "output_type": "execute_result"
    }
   ],
   "source": [
    "sigma_1_xy.subs(tau_fps, tau_fps_ct_solved).subs(test_param)"
   ]
  },
  {
   "cell_type": "markdown",
   "metadata": {},
   "source": [
    "Finally, the tensile component of the principal stress is equal to the specified the tensile yield limit $f_\\mathrm{ct}$, i.e. $\\sigma_2 = \\sigma_x$"
   ]
  },
  {
   "cell_type": "code",
   "execution_count": 90,
   "metadata": {},
   "outputs": [
    {
     "data": {
      "image/png": "[encoded data removed]",
      "text/latex": [
       "$\\displaystyle 3$"
      ],
      "text/plain": [
       "3"
      ]
     },
     "execution_count": 90,
     "metadata": {},
     "output_type": "execute_result"
    }
   ],
   "source": [
    "sigma_2_xy.subs(tau_fps, tau_fps_ct_solved).subs(test_param)"
   ]
  },
  {
   "cell_type": "code",
   "execution_count": 91,
   "metadata": {},
   "outputs": [
    {
     "data": {
      "image/png": "[encoded data removed]",
      "text/latex": [
       "$\\displaystyle 0$"
      ],
      "text/plain": [
       "0"
      ]
     },
     "execution_count": 91,
     "metadata": {},
     "output_type": "execute_result"
    }
   ],
   "source": [
    "theta.subs(test_param).subs(tau_fps,0)"
   ]
  },
  {
   "cell_type": "markdown",
   "metadata": {},
   "source": [
    "## Verification 3 - crack parallel stress"
   ]
  },
  {
   "cell_type": "markdown",
   "metadata": {},
   "source": [
    "Is there a configuration at which both $\\sigma_x$ and $\\sigma_y$ are positive and $\\sigma_1$, representing the crack parallel stress, is negative?"
   ]
  },
  {
   "cell_type": "code",
   "execution_count": 29,
   "metadata": {},
   "outputs": [
    {
     "data": {
      "image/png": "[encoded data removed]",
      "text/latex": [
       "$\\displaystyle f_{ct} - \\sigma_{x}$"
      ],
      "text/plain": [
       "f_ct - σₓ"
      ]
     },
     "execution_count": 29,
     "metadata": {},
     "output_type": "execute_result"
    }
   ],
   "source": [
    "sp.solve(sigma_1_xy.subs(tau_fps, tau_fps_ct_solved), sigma_y)[0]"
   ]
  },
  {
   "cell_type": "markdown",
   "metadata": {},
   "source": [
    "This means that to obtain a negative $\\sigma_1$ the condition \n",
    "$$\\sigma_y < f_\\mathrm{ct} - \\sigma_x$$\n",
    "must hold. Thus, in an extreme case $\\sigma_x = 0$, $\\sigma_y$ must be at most $-f_\\mathrm{ct}$ to obtain a negative $\\sigma_1$"
   ]
  },
  {
   "cell_type": "markdown",
   "metadata": {},
   "source": [
    "# Plot diagrams\n",
    "\n",
    "The two symbolic tests defined above are now reproduced using numerical evaluation \n",
    "over a relevant range of parameters"
   ]
  },
  {
   "cell_type": "code",
   "execution_count": 30,
   "metadata": {},
   "outputs": [],
   "source": [
    "get_tau = sp.lambdify(params, tau_fps_ct_solved, 'numpy')\n",
    "get_sigma_y_ct_at_tau_zero = sp.lambdify(params, sigma_y_ct_at_tau_zero, 'numpy')\n",
    "get_sigma_y_at_sigma_1_zero = sp.lambdify(params, sigma_y_at_sigma_1_zero, 'numpy')\n",
    "get_theta = sp.lambdify(params, theta, 'numpy')\n",
    "get_sigma_1 = sp.lambdify(params, sigma_1_ct_xy_solved, 'numpy' )\n",
    "get_sigma_2 = sp.lambdify(params, sigma_2_xy.subs(tau_fps, tau_fps_ct_solved), 'numpy' )"
   ]
  },
  {
   "cell_type": "code",
   "execution_count": 92,
   "metadata": {},
   "outputs": [
    {
     "data": {
      "image/png": "[encoded data removed]",
      "text/latex": [
       "$\\displaystyle -37.5$"
      ],
      "text/plain": [
       "-37.5"
      ]
     },
     "execution_count": 92,
     "metadata": {},
     "output_type": "execute_result"
    }
   ],
   "source": [
    "get_sigma_y_ct_at_tau_zero(0,0,3,30)"
   ]
  },
  {
   "cell_type": "code",
   "execution_count": 93,
   "metadata": {},
   "outputs": [
    {
     "data": {
      "image/png": "[encoded data removed]",
      "text/latex": [
       "$\\displaystyle 3$"
      ],
      "text/plain": [
       "3"
      ]
     },
     "execution_count": 93,
     "metadata": {},
     "output_type": "execute_result"
    }
   ],
   "source": [
    "get_sigma_y_at_sigma_1_zero(0,5,3,30)"
   ]
  },
  {
   "cell_type": "code",
   "execution_count": 94,
   "metadata": {},
   "outputs": [
    {
     "data": {
      "image/png": "[encoded data removed]",
      "text/latex": [
       "$\\displaystyle 0.785398163397448$"
      ],
      "text/plain": [
       "0.7853981633974483"
      ]
     },
     "execution_count": 94,
     "metadata": {},
     "output_type": "execute_result"
    }
   ],
   "source": [
    "get_theta(0,0,3,30)"
   ]
  },
  {
   "cell_type": "code",
   "execution_count": 41,
   "metadata": {},
   "outputs": [
    {
     "data": {
      "application/vnd.jupyter.widget-view+json": {
       "model_id": "5ce20a09a6a144afac0892e782c0dd15",
       "version_major": 2,
       "version_minor": 0
      },
      "text/plain": [
       "Canvas(toolbar=Toolbar(toolitems=[('Home', 'Reset original view', 'home', 'home'), ('Back', 'Back to previous …"
      ]
     },
     "metadata": {},
     "output_type": "display_data"
    },
    {
     "name": "stderr",
     "output_type": "stream",
     "text": [
      "<lambdifygenerated-5>:2: RuntimeWarning: invalid value encountered in true_divide\n",
      "  return (arctan(sqrt((10*f_cm*f_ct - 5*f_cm*sigma_x - 5*f_cm*sigma_y + 4*f_ct*sigma_x + 4*f_ct*sigma_y + (5*f_cm + 4*f_ct)*(-sigma_x + sigma_y))*(10*f_cm*f_ct - 5*f_cm*sigma_x - 5*f_cm*sigma_y + 4*f_ct*sigma_x + 4*f_ct*sigma_y + (5*f_cm + 4*f_ct)*(sigma_x - sigma_y))/(5*f_cm + 4*f_ct)**2)/(sigma_x - sigma_y + sqrt(sigma_x**2 - 2*sigma_x*sigma_y + sigma_y**2 + (10*f_cm*f_ct - 5*f_cm*sigma_x - 5*f_cm*sigma_y + 4*f_ct*sigma_x + 4*f_ct*sigma_y + (5*f_cm + 4*f_ct)*(-sigma_x + sigma_y))*(10*f_cm*f_ct - 5*f_cm*sigma_x - 5*f_cm*sigma_y + 4*f_ct*sigma_x + 4*f_ct*sigma_y + (5*f_cm + 4*f_ct)*(sigma_x - sigma_y))/(5*f_cm + 4*f_ct)**2))))\n"
     ]
    }
   ],
   "source": [
    "fig, ax_theta = plt.subplots(1,1)\n",
    "ax_tau = ax_theta.twinx()\n",
    "fig.canvas.header_visible=False\n",
    "sigma_x_range = np.linspace(3,0,100)\n",
    "sigma_y_range = get_sigma_y_at_sigma_1_zero(sigma_x_range,0,3,30)\n",
    "ax_theta.plot(sigma_x_range, get_theta(sigma_x_range, sigma_y_range, 3, 30))\n",
    "ax_theta.set_xlabel(r'$\\sigma_x$ [MPa]'); ax_theta.set_ylabel(r'$\\theta$ [rad]');\n",
    "ax_tau.plot(sigma_x_range, get_tau(sigma_x_range, sigma_y_range, 3, 30), color='red', label=r'$\\tau$')\n",
    "ax_tau.set_ylabel(r'$\\tau$ [MPa]');\n",
    "ax_tau.legend();"
   ]
  },
  {
   "cell_type": "code",
   "execution_count": 95,
   "metadata": {},
   "outputs": [
    {
     "name": "stderr",
     "output_type": "stream",
     "text": [
      "<lambdifygenerated-5>:2: RuntimeWarning: invalid value encountered in sqrt\n",
      "  return (arctan(sqrt((10*f_cm*f_ct - 5*f_cm*sigma_x - 5*f_cm*sigma_y + 4*f_ct*sigma_x + 4*f_ct*sigma_y + (5*f_cm + 4*f_ct)*(-sigma_x + sigma_y))*(10*f_cm*f_ct - 5*f_cm*sigma_x - 5*f_cm*sigma_y + 4*f_ct*sigma_x + 4*f_ct*sigma_y + (5*f_cm + 4*f_ct)*(sigma_x - sigma_y))/(5*f_cm + 4*f_ct)**2)/(sigma_x - sigma_y + sqrt(sigma_x**2 - 2*sigma_x*sigma_y + sigma_y**2 + (10*f_cm*f_ct - 5*f_cm*sigma_x - 5*f_cm*sigma_y + 4*f_ct*sigma_x + 4*f_ct*sigma_y + (5*f_cm + 4*f_ct)*(-sigma_x + sigma_y))*(10*f_cm*f_ct - 5*f_cm*sigma_x - 5*f_cm*sigma_y + 4*f_ct*sigma_x + 4*f_ct*sigma_y + (5*f_cm + 4*f_ct)*(sigma_x - sigma_y))/(5*f_cm + 4*f_ct)**2))))\n",
      "<lambdifygenerated-2>:2: RuntimeWarning: invalid value encountered in sqrt\n",
      "  return ((1/2)*sqrt((10*f_cm*f_ct - 5*f_cm*sigma_x - 5*f_cm*sigma_y + 4*f_ct*sigma_x + 4*f_ct*sigma_y + (5*f_cm + 4*f_ct)*(-sigma_x + sigma_y))*(10*f_cm*f_ct - 5*f_cm*sigma_x - 5*f_cm*sigma_y + 4*f_ct*sigma_x + 4*f_ct*sigma_y + (5*f_cm + 4*f_ct)*(sigma_x - sigma_y))/(5*f_cm + 4*f_ct)**2))\n"
     ]
    }
   ],
   "source": [
    "sigma_x_range = np.linspace(-30,3,40)\n",
    "sigma_y_range = np.linspace(-30,3,40)\n",
    "sx, sy = np.meshgrid(sigma_x_range, sigma_y_range)\n",
    "theta_xy = get_theta(sx, sy, 3, 30)\n",
    "sigma_1_xy = get_sigma_1(sx, sy, 3, 30)\n",
    "sigma_2_xy = get_sigma_2(sx, sy, 3, 30)\n",
    "tau_xy = get_tau(sx, sy, 3, 30)"
   ]
  },
  {
   "cell_type": "code",
   "execution_count": 96,
   "metadata": {},
   "outputs": [
    {
     "data": {
      "application/vnd.jupyter.widget-view+json": {
       "model_id": "4873994e7e5c4d5488c6dd728483da0b",
       "version_major": 2,
       "version_minor": 0
      },
      "text/plain": [
       "Canvas(toolbar=Toolbar(toolitems=[('Home', 'Reset original view', 'home', 'home'), ('Back', 'Back to previous …"
      ]
     },
     "metadata": {},
     "output_type": "display_data"
    },
    {
     "name": "stderr",
     "output_type": "stream",
     "text": [
      "<ipython-input-96-f4d828c017e0>:17: UserWarning: Z contains NaN values. This may result in rendering artifacts.\n",
      "  ax_theta.plot_surface(sx, sy, tau_xy, color='orange',\n"
     ]
    }
   ],
   "source": [
    "fig = plt.figure()\n",
    "ax_theta = fig.gca(projection='3d')\n",
    "fig.canvas.header_visible=False\n",
    "ax_theta.contour(sx, sy, sigma_1_xy)\n",
    "ax_theta.plot_surface(sx, sy, sigma_1_xy, color='red',\n",
    "                       #linewidth=0, antialiased=False)\n",
    "                       alpha=.6, linewidth=5,\n",
    "                       #cmap=cm.gist_earth,antialiased=False, \n",
    "                        shade=False,rstride=1, cstride=1)\n",
    "ax_theta.contour(sx, sy, sigma_2_xy)\n",
    "ax_theta.plot_surface(sx, sy, sigma_2_xy, color='blue',\n",
    "                       #linewidth=0, antialiased=False)\n",
    "                       alpha=.6, linewidth=5,\n",
    "                       #cmap=cm.gist_earth,antialiased=False, \n",
    "                        shade=False,rstride=1, cstride=1)\n",
    "ax_theta.contour(sx, sy, tau_xy)\n",
    "ax_theta.plot_surface(sx, sy, tau_xy, color='orange',\n",
    "                       #linewidth=0, antialiased=False)\n",
    "                       alpha=.6, linewidth=5,\n",
    "                       #cmap=cm.gist_earth,antialiased=False, \n",
    "                        shade=False,rstride=1, cstride=1)\n",
    "ax_theta.set_xlabel(r'$\\sigma_x$ [MPa]'); \n",
    "ax_theta.set_ylabel(r'$\\sigma_y$ [MPa]'); \n",
    "ax_theta.set_zlabel(r'$\\sigma_1, \\sigma_2, \\tau$ [MPa]');\n",
    "\n",
    "# ax_tau.plot(sigma_x_range, get_tau(sx, sy, 3, 30), color='red', label=r'$\\tau$')\n",
    "# ax_tau.set_ylabel(r'$\\tau$ [MPa]');\n",
    "# ax_tau.legend();"
   ]
  },
  {
   "cell_type": "code",
   "execution_count": 97,
   "metadata": {},
   "outputs": [
    {
     "data": {
      "application/vnd.jupyter.widget-view+json": {
       "model_id": "6fb691b655ff460793d849621f7f0fac",
       "version_major": 2,
       "version_minor": 0
      },
      "text/plain": [
       "Canvas(toolbar=Toolbar(toolitems=[('Home', 'Reset original view', 'home', 'home'), ('Back', 'Back to previous …"
      ]
     },
     "metadata": {},
     "output_type": "display_data"
    }
   ],
   "source": [
    "fig = plt.figure()\n",
    "ax_theta = fig.gca(projection='3d')\n",
    "fig.canvas.header_visible=False\n",
    "ax_theta.plot_surface(theta_xy, sy, sx, color='green',\n",
    "                       #linewidth=0, antialiased=False)\n",
    "                       alpha=.6, linewidth=5,\n",
    "                       #cmap=cm.gist_earth,antialiased=False, \n",
    "                        shade=False,rstride=1, cstride=1)\n",
    "ax_theta.set_zlabel(r'$\\sigma_x$ [MPa]'); \n",
    "ax_theta.set_ylabel(r'$\\sigma_y$ [MPa]'); \n",
    "ax_theta.set_xlabel(r'$\\theta$ [rad]');"
   ]
  },
  {
   "cell_type": "code",
   "execution_count": 98,
   "metadata": {},
   "outputs": [
    {
     "data": {
      "application/vnd.jupyter.widget-view+json": {
       "model_id": "2a04b62668b44d2391c109951e9ebfb9",
       "version_major": 2,
       "version_minor": 0
      },
      "text/plain": [
       "Canvas(toolbar=Toolbar(toolitems=[('Home', 'Reset original view', 'home', 'home'), ('Back', 'Back to previous …"
      ]
     },
     "metadata": {},
     "output_type": "display_data"
    },
    {
     "name": "stderr",
     "output_type": "stream",
     "text": [
      "<ipython-input-98-fe0739077f4b>:4: UserWarning: Z contains NaN values. This may result in rendering artifacts.\n",
      "  ax_theta.plot_surface(theta_xy, sy, tau_xy, color='green',\n"
     ]
    }
   ],
   "source": [
    "fig = plt.figure()\n",
    "ax_theta = fig.gca(projection='3d')\n",
    "fig.canvas.header_visible=False\n",
    "ax_theta.plot_surface(theta_xy, sy, tau_xy, color='green',\n",
    "                       #linewidth=0, antialiased=False)\n",
    "                       alpha=.6, linewidth=5,\n",
    "                       #cmap=cm.gist_earth,antialiased=False, \n",
    "                        shade=False,rstride=1, cstride=1)\n",
    "ax_theta.set_zlabel(r'$\\tau$ [MPa]'); \n",
    "ax_theta.set_ylabel(r'$\\sigma_y$ [MPa]'); \n",
    "ax_theta.set_xlabel(r'$\\theta$ [rad]');"
   ]
  },
  {
   "cell_type": "markdown",
   "metadata": {},
   "source": [
    "# Update the description below"
   ]
  },
  {
   "cell_type": "markdown",
   "metadata": {},
   "source": [
    "The consequence of using the Kupfer criterion for the determination of the shear stress at the crack tip is that the currently used evaluation of the critical strain cannot be calculated as \n",
    "$$\n",
    "w_\\mathrm{cr} = \\frac{1}{E_\\mathrm{cr}} \\sigma_2 L_\\mathrm{c}\n",
    "$$\n",
    "as done so far. The question is, if the currently used criterion \n",
    "on the principle stress direction could be modified to search for a consistent\n",
    "value of the shear stress at the crack tip within the stress tensor. \n",
    "Then, $w_\\mathrm{cr}$ could be expressed in terms of the stress state \n",
    "$$\n",
    " \\varepsilon_{ab} = C_{abcd} \\sigma_{cd} \n",
    "$$\n",
    "The crack opening would be obtained as the principle strain distributed over a predefined length $L_\\mathrm{c}$."
   ]
  },
  {
   "cell_type": "markdown",
   "metadata": {},
   "source": [
    "$$\n",
    "\\varepsilon_{12} = P_{ab} \\varepsilon_{bc} P_{cd}\n",
    "$$"
   ]
  },
  {
   "cell_type": "markdown",
   "metadata": {},
   "source": [
    "$$\n",
    "w_\\mathrm{cr} = \\varepsilon_{2} L_\\mathrm{c}\n",
    "$$"
   ]
  },
  {
   "cell_type": "markdown",
   "metadata": {},
   "source": [
    "# Implementation \n",
    "\n",
    " - Evaluate $\\tau_\\mathrm{fps}$ using the bi-axial stress envelope `crack_tip_stress/orientation`\n",
    " - Access the values of `f_t` and `f_c`\n",
    " - Control the w_cr in each iteration"
   ]
  },
  {
   "cell_type": "markdown",
   "metadata": {},
   "source": [
    "## Provide an alternative model component for `crack_tip_shear_stress`.\n",
    "\n",
    "- `CrackTipShearStressCSE`\n",
    "- `CrackTipShearStressBAC`"
   ]
  },
  {
   "cell_type": "code",
   "execution_count": null,
   "metadata": {},
   "outputs": [],
   "source": []
  }
 ],
 "metadata": {
  "kernelspec": {
   "display_name": "bmcs_env",
   "language": "python",
   "name": "bmcs_env"
  },
  "language_info": {
   "codemirror_mode": {
    "name": "ipython",
    "version": 3
   },
   "file_extension": ".py",
   "mimetype": "text/x-python",
   "name": "python",
   "nbconvert_exporter": "python",
   "pygments_lexer": "ipython3",
   "version": "3.8.8"
  }
 },
 "nbformat": 4,
 "nbformat_minor": 4
}
