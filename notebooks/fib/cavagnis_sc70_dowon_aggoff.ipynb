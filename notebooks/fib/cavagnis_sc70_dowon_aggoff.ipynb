{
 "cells": [
  {
   "cell_type": "code",
   "execution_count": 7,
   "metadata": {},
   "outputs": [
    {
     "data": {
      "text/plain": [
       "<bmcs_shear.shear_crack.beam_design.RCBeamDesign at 0x1b2f1370770>"
      ]
     },
     "execution_count": 7,
     "metadata": {},
     "output_type": "execute_result"
    }
   ],
   "source": [
    "%matplotlib widget\n",
    "import numpy as np\n",
    "import bmcs_utils.api as bu\n",
    "from bmcs_cross_section.api import ReinfLayer\n",
    "from bmcs_shear.shear_crack.crack_propagation import CrackPropagation\n",
    "ce = CrackPropagation(n_seg=198)\n",
    "#ce.sz_bd.cmm.trait_set(tau_1 = 4, s_1 = 0.2, tau_2 = 3, tau_3 = 2, s_2 = 1.4, s_3 = 5)\n",
    "#ce.sz_bd.cmm.trait_set(f_c = 33.3, f_t = 0.3 * 33.3 **(2/3), d_a = 16)\n",
    "ce.sz_bd.Rectangle = True\n",
    "ce.sz_bd.trait_set(H=600, B=250, L=3850)\n",
    "ce.sz_cp.trait_set(x_00=ce.sz_bd.L * 0.1, n_m = 4)\n",
    "ce.sz_cp.sz_ctr.L_fps = 80\n",
    "ce.sz_cp.sz_ctr.trait_set(ell = 2)\n",
    "ce.sz_bd.cmm.trait_set(tau_factor = 0)\n",
    "bl1 = ReinfLayer(name='layer1', z=44, A=ce.sz_bd.smm.A_f, matmod='steel')\n",
    "bl1.matmod_.trait_set(E=ce.sz_bd.smm.E_f, f_t=ce.sz_bd.smm.sig_y)\n",
    "ce.sz_bd.cross_section_layout.add_layer(bl1)\n",
    "ce.sz_bd"
   ]
  },
  {
   "cell_type": "code",
   "execution_count": 8,
   "metadata": {},
   "outputs": [
    {
     "name": "stderr",
     "output_type": "stream",
     "text": [
      "<lambdifygenerated-43>:2: RuntimeWarning: invalid value encountered in sqrt\n",
      "  return (select([less_equal(w, 0),True], [0,0.25*f_c*s*(-sqrt(2)*sqrt(w/d_a) + 1)*((2.44 - 39.04/f_c)*abs(s/w)**3 + 9.8/f_c)/(w*(s**4*(2.44 - 39.04/f_c)/w**4 + 1))], default=nan))\n"
     ]
    },
    {
     "data": {
      "application/vnd.jupyter.widget-view+json": {
       "model_id": "a829ae318d4e4c60bdc15f688d6c3815",
       "version_major": 2,
       "version_minor": 0
      },
      "text/plain": [
       "VBox(children=(HBox(children=(VBox(children=(Tree(layout=Layout(align_items='stretch', border='solid 1px black…"
      ]
     },
     "metadata": {},
     "output_type": "display_data"
    },
    {
     "name": "stdout",
     "output_type": "stream",
     "text": [
      "start thread\n"
     ]
    },
    {
     "name": "stderr",
     "output_type": "stream",
     "text": [
      "<lambdifygenerated-43>:2: RuntimeWarning: invalid value encountered in sqrt\n",
      "  return (select([less_equal(w, 0),True], [0,0.25*f_c*s*(-sqrt(2)*sqrt(w/d_a) + 1)*((2.44 - 39.04/f_c)*abs(s/w)**3 + 9.8/f_c)/(w*(s**4*(2.44 - 39.04/f_c)/w**4 + 1))], default=nan))\n",
      "<lambdifygenerated-43>:2: RuntimeWarning: invalid value encountered in sqrt\n",
      "  return (select([less_equal(w, 0),True], [0,0.25*f_c*s*(-sqrt(2)*sqrt(w/d_a) + 1)*((2.44 - 39.04/f_c)*abs(s/w)**3 + 9.8/f_c)/(w*(s**4*(2.44 - 39.04/f_c)/w**4 + 1))], default=nan))\n"
     ]
    },
    {
     "name": "stdout",
     "output_type": "stream",
     "text": [
      "start thread\n"
     ]
    },
    {
     "name": "stderr",
     "output_type": "stream",
     "text": [
      "<lambdifygenerated-43>:2: RuntimeWarning: invalid value encountered in sqrt\n",
      "  return (select([less_equal(w, 0),True], [0,0.25*f_c*s*(-sqrt(2)*sqrt(w/d_a) + 1)*((2.44 - 39.04/f_c)*abs(s/w)**3 + 9.8/f_c)/(w*(s**4*(2.44 - 39.04/f_c)/w**4 + 1))], default=nan))\n",
      "<lambdifygenerated-43>:2: RuntimeWarning: invalid value encountered in sqrt\n",
      "  return (select([less_equal(w, 0),True], [0,0.25*f_c*s*(-sqrt(2)*sqrt(w/d_a) + 1)*((2.44 - 39.04/f_c)*abs(s/w)**3 + 9.8/f_c)/(w*(s**4*(2.44 - 39.04/f_c)/w**4 + 1))], default=nan))\n",
      "<lambdifygenerated-43>:2: RuntimeWarning: invalid value encountered in sqrt\n",
      "  return (select([less_equal(w, 0),True], [0,0.25*f_c*s*(-sqrt(2)*sqrt(w/d_a) + 1)*((2.44 - 39.04/f_c)*abs(s/w)**3 + 9.8/f_c)/(w*(s**4*(2.44 - 39.04/f_c)/w**4 + 1))], default=nan))\n",
      "<lambdifygenerated-43>:2: RuntimeWarning: invalid value encountered in sqrt\n",
      "  return (select([less_equal(w, 0),True], [0,0.25*f_c*s*(-sqrt(2)*sqrt(w/d_a) + 1)*((2.44 - 39.04/f_c)*abs(s/w)**3 + 9.8/f_c)/(w*(s**4*(2.44 - 39.04/f_c)/w**4 + 1))], default=nan))\n",
      "<lambdifygenerated-43>:2: RuntimeWarning: invalid value encountered in sqrt\n",
      "  return (select([less_equal(w, 0),True], [0,0.25*f_c*s*(-sqrt(2)*sqrt(w/d_a) + 1)*((2.44 - 39.04/f_c)*abs(s/w)**3 + 9.8/f_c)/(w*(s**4*(2.44 - 39.04/f_c)/w**4 + 1))], default=nan))\n",
      "<lambdifygenerated-43>:2: RuntimeWarning: invalid value encountered in sqrt\n",
      "  return (select([less_equal(w, 0),True], [0,0.25*f_c*s*(-sqrt(2)*sqrt(w/d_a) + 1)*((2.44 - 39.04/f_c)*abs(s/w)**3 + 9.8/f_c)/(w*(s**4*(2.44 - 39.04/f_c)/w**4 + 1))], default=nan))\n"
     ]
    }
   ],
   "source": [
    "ce.interact()"
   ]
  },
  {
   "cell_type": "code",
   "execution_count": 9,
   "metadata": {},
   "outputs": [
    {
     "data": {
      "text/plain": [
       "array([[ 1.23168375e+00,  0.00000000e+00],\n",
       "       [ 1.24808024e+00,  0.00000000e+00],\n",
       "       [ 1.26469501e+00,  0.00000000e+00],\n",
       "       ...,\n",
       "       [-3.04065830e+03,  0.00000000e+00],\n",
       "       [-3.17039756e+03,  0.00000000e+00],\n",
       "       [-3.30013681e+03,  0.00000000e+00]])"
      ]
     },
     "execution_count": 9,
     "metadata": {},
     "output_type": "execute_result"
    }
   ],
   "source": [
    "ce.sz_stress_profile.S_Lb"
   ]
  },
  {
   "cell_type": "code",
   "execution_count": 16,
   "metadata": {},
   "outputs": [
    {
     "name": "stderr",
     "output_type": "stream",
     "text": [
      "<lambdifygenerated-75>:2: RuntimeWarning: invalid value encountered in sqrt\n",
      "  return (select([less_equal(w, 0),True], [0,0.25*f_c*s*(-sqrt(2)*sqrt(w/d_a) + 1)*((2.44 - 39.04/f_c)*abs(s/w)**3 + 9.8/f_c)/(w*(s**4*(2.44 - 39.04/f_c)/w**4 + 1))], default=nan))\n",
      "<lambdifygenerated-74>:2: RuntimeWarning: overflow encountered in exp\n",
      "  return (select([less(f_c, -35.7142857142857*d_a**(-0.32)*f_c**(-0.18)*f_t**2*w),less_equal(w, 0.028*d_a**0.32*f_c**0.18/f_t),True], [-f_c,35.7142857142857*d_a**(-0.32)*f_c**(-0.18)*f_t**2*w,f_t*exp(-35.7142857142857*d_a**(-0.32)*f_c**(-0.18)*f_t*(-0.028*d_a**0.32*f_c**0.18/f_t + w))], default=nan))\n"
     ]
    },
    {
     "name": "stdout",
     "output_type": "stream",
     "text": [
      "**************\n",
      "385.0\n",
      "103.35722283194856\n"
     ]
    },
    {
     "name": "stderr",
     "output_type": "stream",
     "text": [
      "<lambdifygenerated-77>:2: RuntimeWarning: invalid value encountered in sqrt\n",
      "  return (select([less(w, (1/2)*A_f*Dummy_285**2/(Dummy_286*Dummy_287*p)),True], [sqrt(2)*sqrt(A_f)*sqrt(Dummy_286)*sqrt(Dummy_287)*sqrt(p)*sqrt(w),A_f*Dummy_285], default=nan))\n"
     ]
    },
    {
     "name": "stdout",
     "output_type": "stream",
     "text": [
      "**************\n",
      "770.0\n",
      "115.22995854569447\n"
     ]
    },
    {
     "name": "stderr",
     "output_type": "stream",
     "text": [
      "<lambdifygenerated-74>:2: RuntimeWarning: overflow encountered in multiply\n",
      "  return (select([less(f_c, -35.7142857142857*d_a**(-0.32)*f_c**(-0.18)*f_t**2*w),less_equal(w, 0.028*d_a**0.32*f_c**0.18/f_t),True], [-f_c,35.7142857142857*d_a**(-0.32)*f_c**(-0.18)*f_t**2*w,f_t*exp(-35.7142857142857*d_a**(-0.32)*f_c**(-0.18)*f_t*(-0.028*d_a**0.32*f_c**0.18/f_t + w))], default=nan))\n",
      "<lambdifygenerated-4>:2: RuntimeWarning: invalid value encountered in sqrt\n",
      "  return ((-Dummy_33*c_psi + Dummy_35*c_psi - Dummy_37*c_psi**2 - Dummy_37*s_psi**2 + Dummy_38*s_psi**2 - sqrt(Dummy_33**2*c_psi**2 - 2*Dummy_33*Dummy_35*c_psi**2 - 2*Dummy_33*Dummy_36*c_psi**2*s_psi - 2*Dummy_33*Dummy_36*s_psi**3 + 2*Dummy_33*Dummy_37*c_psi**3 + 2*Dummy_33*Dummy_37*c_psi*s_psi**2 - 2*Dummy_33*Dummy_38*c_psi*s_psi**2 + Dummy_35**2*c_psi**2 + 2*Dummy_35*Dummy_36*c_psi**2*s_psi + 2*Dummy_35*Dummy_36*s_psi**3 - 2*Dummy_35*Dummy_37*c_psi**3 - 2*Dummy_35*Dummy_37*c_psi*s_psi**2 + 2*Dummy_35*Dummy_38*c_psi*s_psi**2 - Dummy_36**2*c_psi**4 - 2*Dummy_36**2*c_psi**2*s_psi**2 - Dummy_36**2*s_psi**4 - 2*Dummy_36*Dummy_38*c_psi**3*s_psi - 2*Dummy_36*Dummy_38*c_psi*s_psi**3 + Dummy_37**2*c_psi**4 + 2*Dummy_37**2*c_psi**2*s_psi**2 + Dummy_37**2*s_psi**4 - 2*Dummy_37*Dummy_38*c_psi**2*s_psi**2 - 2*Dummy_37*Dummy_38*s_psi**4 + Dummy_38**2*s_psi**4))/(c_psi**2 + s_psi**2))\n",
      "<lambdifygenerated-12>:2: RuntimeWarning: invalid value encountered in sqrt\n",
      "  return ((-2*Dummy_85*s_psi + 2*Dummy_86*s_psi - (-Dummy_81*Dummy_84*c_psi**2 - 3*Dummy_81*Dummy_84*s_psi**2 + 2*Dummy_81*Dummy_85*c_psi*s_psi - 2*Dummy_81*Dummy_86*c_psi*s_psi + Dummy_83*Dummy_84*c_psi**2 + 3*Dummy_83*Dummy_84*s_psi**2 - 2*Dummy_83*Dummy_85*c_psi*s_psi + 2*Dummy_83*Dummy_86*c_psi*s_psi - 2*Dummy_84**2*c_psi**2*s_psi - 2*Dummy_84**2*s_psi**3 - Dummy_84*Dummy_86*c_psi**3 - 3*Dummy_84*Dummy_86*c_psi*s_psi**2 + 2*Dummy_85**2*c_psi**2*s_psi + 2*Dummy_85**2*s_psi**3 - 2*Dummy_85*Dummy_86*c_psi**2*s_psi - 4*Dummy_85*Dummy_86*s_psi**3 + 2*Dummy_86**2*s_psi**3)/sqrt(Dummy_81**2*c_psi**2 - 2*Dummy_81*Dummy_83*c_psi**2 - 2*Dummy_81*Dummy_84*c_psi**2*s_psi - 2*Dummy_81*Dummy_84*s_psi**3 + 2*Dummy_81*Dummy_85*c_psi**3 + 2*Dummy_81*Dummy_85*c_psi*s_psi**2 - 2*Dummy_81*Dummy_86*c_psi*s_psi**2 + Dummy_83**2*c_psi**2 + 2*Dummy_83*Dummy_84*c_psi**2*s_psi + 2*Dummy_83*Dummy_84*s_psi**3 - 2*Dummy_83*Dummy_85*c_psi**3 - 2*Dummy_83*Dummy_85*c_psi*s_psi**2 + 2*Dummy_83*Dummy_86*c_psi*s_psi**2 - Dummy_84**2*c_psi**4 - 2*Dummy_84**2*c_psi**2*s_psi**2 - Dummy_84**2*s_psi**4 - 2*Dummy_84*Dummy_86*c_psi**3*s_psi - 2*Dummy_84*Dummy_86*c_psi*s_psi**3 + Dummy_85**2*c_psi**4 + 2*Dummy_85**2*c_psi**2*s_psi**2 + Dummy_85**2*s_psi**4 - 2*Dummy_85*Dummy_86*c_psi**2*s_psi**2 - 2*Dummy_85*Dummy_86*s_psi**4 + Dummy_86**2*s_psi**4))*cos(psi) - (-Dummy_81 + Dummy_83 - 2*Dummy_85*c_psi - (Dummy_81**2*c_psi - 2*Dummy_81*Dummy_83*c_psi - 2*Dummy_81*Dummy_84*c_psi*s_psi + 3*Dummy_81*Dummy_85*c_psi**2 + Dummy_81*Dummy_85*s_psi**2 - Dummy_81*Dummy_86*s_psi**2 + Dummy_83**2*c_psi + 2*Dummy_83*Dummy_84*c_psi*s_psi - 3*Dummy_83*Dummy_85*c_psi**2 - Dummy_83*Dummy_85*s_psi**2 + Dummy_83*Dummy_86*s_psi**2 - 2*Dummy_84**2*c_psi**3 - 2*Dummy_84**2*c_psi*s_psi**2 - 3*Dummy_84*Dummy_86*c_psi**2*s_psi - Dummy_84*Dummy_86*s_psi**3 + 2*Dummy_85**2*c_psi**3 + 2*Dummy_85**2*c_psi*s_psi**2 - 2*Dummy_85*Dummy_86*c_psi*s_psi**2)/sqrt(Dummy_81**2*c_psi**2 - 2*Dummy_81*Dummy_83*c_psi**2 - 2*Dummy_81*Dummy_84*c_psi**2*s_psi - 2*Dummy_81*Dummy_84*s_psi**3 + 2*Dummy_81*Dummy_85*c_psi**3 + 2*Dummy_81*Dummy_85*c_psi*s_psi**2 - 2*Dummy_81*Dummy_86*c_psi*s_psi**2 + Dummy_83**2*c_psi**2 + 2*Dummy_83*Dummy_84*c_psi**2*s_psi + 2*Dummy_83*Dummy_84*s_psi**3 - 2*Dummy_83*Dummy_85*c_psi**3 - 2*Dummy_83*Dummy_85*c_psi*s_psi**2 + 2*Dummy_83*Dummy_86*c_psi*s_psi**2 - Dummy_84**2*c_psi**4 - 2*Dummy_84**2*c_psi**2*s_psi**2 - Dummy_84**2*s_psi**4 - 2*Dummy_84*Dummy_86*c_psi**3*s_psi - 2*Dummy_84*Dummy_86*c_psi*s_psi**3 + Dummy_85**2*c_psi**4 + 2*Dummy_85**2*c_psi**2*s_psi**2 + Dummy_85**2*s_psi**4 - 2*Dummy_85*Dummy_86*c_psi**2*s_psi**2 - 2*Dummy_85*Dummy_86*s_psi**4 + Dummy_86**2*s_psi**4))*sin(psi))\n",
      "<lambdifygenerated-13>:2: RuntimeWarning: invalid value encountered in sqrt\n",
      "  return (c_psi - (-Dummy_87*c_psi**2 + Dummy_89*c_psi**2 + Dummy_90*c_psi**2*s_psi + Dummy_90*s_psi**3 - Dummy_91*c_psi**3 - Dummy_91*c_psi*s_psi**2 + Dummy_92*c_psi*s_psi**2)/sqrt(Dummy_87**2*c_psi**2 - 2*Dummy_87*Dummy_89*c_psi**2 - 2*Dummy_87*Dummy_90*c_psi**2*s_psi - 2*Dummy_87*Dummy_90*s_psi**3 + 2*Dummy_87*Dummy_91*c_psi**3 + 2*Dummy_87*Dummy_91*c_psi*s_psi**2 - 2*Dummy_87*Dummy_92*c_psi*s_psi**2 + Dummy_89**2*c_psi**2 + 2*Dummy_89*Dummy_90*c_psi**2*s_psi + 2*Dummy_89*Dummy_90*s_psi**3 - 2*Dummy_89*Dummy_91*c_psi**3 - 2*Dummy_89*Dummy_91*c_psi*s_psi**2 + 2*Dummy_89*Dummy_92*c_psi*s_psi**2 - Dummy_90**2*c_psi**4 - 2*Dummy_90**2*c_psi**2*s_psi**2 - Dummy_90**2*s_psi**4 - 2*Dummy_90*Dummy_92*c_psi**3*s_psi - 2*Dummy_90*Dummy_92*c_psi*s_psi**3 + Dummy_91**2*c_psi**4 + 2*Dummy_91**2*c_psi**2*s_psi**2 + Dummy_91**2*s_psi**4 - 2*Dummy_91*Dummy_92*c_psi**2*s_psi**2 - 2*Dummy_91*Dummy_92*s_psi**4 + Dummy_92**2*s_psi**4))\n"
     ]
    },
    {
     "name": "stdout",
     "output_type": "stream",
     "text": [
      "**************\n",
      "1155.0\n",
      "124.19699914865429\n",
      "**************\n",
      "1540.0\n",
      "144.61262592354677\n",
      "**************\n",
      "1925.0\n",
      "149.95562177405344\n",
      "**************\n",
      "2310.0\n",
      "174.53851996340293\n",
      "**************\n",
      "2695.0\n",
      "227.79971086030383\n",
      "**************\n",
      "3080.0\n",
      "318.1221432521111\n",
      "**************\n",
      "3465.0\n",
      "522.3507549910735\n"
     ]
    }
   ],
   "source": [
    "import numpy as np\n",
    "import matplotlib.pylab as plt\n",
    "from bmcs_shear.shear_crack.crack_propagation import CrackPropagation\n",
    "n = 198\n",
    "ce = CrackPropagation(n_seg=n)\n",
    "ce.sz_bd.Rectangle = True\n",
    "ce.sz_bd.trait_set(H=600, B=250, L=3850)\n",
    "crack_positions = np.linspace(0.1 * ce.sz_bd.L, 0.9 * ce.sz_bd.L, 9)\n",
    "ce.sz_cp.sz_ctr.L_fps = 80\n",
    "ce.sz_cp.sz_ctr.trait_set(ell = 2)\n",
    "ce.sz_bd.cmm.trait_set(tau_factor = 0)\n",
    "bl1 = ReinfLayer(name='layer1', z=44, A=ce.sz_bd.smm.A_f, matmod='steel')\n",
    "bl1.matmod_.trait_set(E=ce.sz_bd.smm.E_f, f_t=ce.sz_bd.smm.sig_y)\n",
    "ce.sz_bd.cross_section_layout.add_layer(bl1)\n",
    "ce.sz_bd\n",
    "F_beam = []\n",
    "v_beam = []\n",
    "for crack_position in crack_positions:\n",
    "    ce.reset()\n",
    "    ce.sz_cp.trait_set(x_00=crack_position)\n",
    "    ce.run()\n",
    "    F_beam_ = np.array(ce.F_beam) / 1000\n",
    "    v_beam_ = np.array(ce.v_n)\n",
    "    F_beam.append(F_beam_)\n",
    "    v_beam.append(v_beam_)\n",
    "    print('**************')\n",
    "    print(crack_position)\n",
    "    print(np.max(F_beam))"
   ]
  },
  {
   "cell_type": "code",
   "execution_count": 17,
   "metadata": {},
   "outputs": [
    {
     "data": {
      "application/vnd.jupyter.widget-view+json": {
       "model_id": "190f8058cdbd49029ff36c52b534860b",
       "version_major": 2,
       "version_minor": 0
      },
      "text/plain": [
       "Canvas(toolbar=Toolbar(toolitems=[('Home', 'Reset original view', 'home', 'home'), ('Back', 'Back to previous …"
      ]
     },
     "metadata": {},
     "output_type": "display_data"
    },
    {
     "data": {
      "text/plain": [
       "<matplotlib.legend.Legend at 0x1b2f39250d0>"
      ]
     },
     "execution_count": 17,
     "metadata": {},
     "output_type": "execute_result"
    }
   ],
   "source": [
    "import matplotlib.pylab as plt\n",
    "_, ax1 = plt.subplots(1, 1, figsize=(11,4))\n",
    "ax1.plot(v_beam[0],  F_beam[0], lw= 2, label = r'$0.1L$'); #/1000#\n",
    "ax1.plot(v_beam[1],  F_beam[1], lw= 2, label = r'$0.2L$');\n",
    "ax1.plot(v_beam[2],  F_beam[2], lw= 2, label = r'$0.3L$');\n",
    "ax1.plot(v_beam[3],  F_beam[3], lw= 2, label = r'$0.4L$');\n",
    "ax1.plot(v_beam[4],  F_beam[4], lw= 2, label = r'$0.5L$');\n",
    "ax1.plot(v_beam[5],  F_beam[5], lw= 2, label = r'$0.6L$');\n",
    "ax1.plot(v_beam[6],  F_beam[6], lw= 2, label = r'$0.7L$');\n",
    "ax1.plot(v_beam[7],  F_beam[7], lw= 2, label = r'$0.8L$');\n",
    "ax1.plot(v_beam[8],  F_beam[8], lw= 2, label = r'$0.9L$');\n",
    "ax1.set_xlabel(r'$\\mathrm{Deflection\\,(mm)}$'); ax1.set_ylabel(r'$F\\,(kN)$');\n",
    "ax1.set_title(r'Load Deflection')\n",
    "ax1.legend()"
   ]
  },
  {
   "cell_type": "code",
   "execution_count": 21,
   "metadata": {
    "scrolled": false
   },
   "outputs": [
    {
     "data": {
      "application/vnd.jupyter.widget-view+json": {
       "model_id": "e73dcabd53744f519191f72876226ee1",
       "version_major": 2,
       "version_minor": 0
      },
      "text/plain": [
       "Canvas(toolbar=Toolbar(toolitems=[('Home', 'Reset original view', 'home', 'home'), ('Back', 'Back to previous …"
      ]
     },
     "metadata": {},
     "output_type": "display_data"
    },
    {
     "name": "stderr",
     "output_type": "stream",
     "text": [
      "<lambdifygenerated-99>:2: RuntimeWarning: invalid value encountered in sqrt\n",
      "  return (select([less_equal(w, 0),True], [0,0.25*f_c*s*(-sqrt(2)*sqrt(w/d_a) + 1)*((2.44 - 39.04/f_c)*abs(s/w)**3 + 9.8/f_c)/(w*(s**4*(2.44 - 39.04/f_c)/w**4 + 1))], default=nan))\n",
      "<lambdifygenerated-98>:2: RuntimeWarning: overflow encountered in exp\n",
      "  return (select([less(f_c, -35.7142857142857*d_a**(-0.32)*f_c**(-0.18)*f_t**2*w),less_equal(w, 0.028*d_a**0.32*f_c**0.18/f_t),True], [-f_c,35.7142857142857*d_a**(-0.32)*f_c**(-0.18)*f_t**2*w,f_t*exp(-35.7142857142857*d_a**(-0.32)*f_c**(-0.18)*f_t*(-0.028*d_a**0.32*f_c**0.18/f_t + w))], default=nan))\n",
      "<lambdifygenerated-99>:2: RuntimeWarning: invalid value encountered in sqrt\n",
      "  return (select([less_equal(w, 0),True], [0,0.25*f_c*s*(-sqrt(2)*sqrt(w/d_a) + 1)*((2.44 - 39.04/f_c)*abs(s/w)**3 + 9.8/f_c)/(w*(s**4*(2.44 - 39.04/f_c)/w**4 + 1))], default=nan))\n",
      "<lambdifygenerated-98>:2: RuntimeWarning: overflow encountered in exp\n",
      "  return (select([less(f_c, -35.7142857142857*d_a**(-0.32)*f_c**(-0.18)*f_t**2*w),less_equal(w, 0.028*d_a**0.32*f_c**0.18/f_t),True], [-f_c,35.7142857142857*d_a**(-0.32)*f_c**(-0.18)*f_t**2*w,f_t*exp(-35.7142857142857*d_a**(-0.32)*f_c**(-0.18)*f_t*(-0.028*d_a**0.32*f_c**0.18/f_t + w))], default=nan))\n",
      "<lambdifygenerated-101>:2: RuntimeWarning: invalid value encountered in sqrt\n",
      "  return (select([less(w, (1/2)*A_f*Dummy_348**2/(Dummy_349*Dummy_350*p)),True], [sqrt(2)*sqrt(A_f)*sqrt(Dummy_349)*sqrt(Dummy_350)*sqrt(p)*sqrt(w),A_f*Dummy_348], default=nan))\n",
      "<lambdifygenerated-99>:2: RuntimeWarning: invalid value encountered in sqrt\n",
      "  return (select([less_equal(w, 0),True], [0,0.25*f_c*s*(-sqrt(2)*sqrt(w/d_a) + 1)*((2.44 - 39.04/f_c)*abs(s/w)**3 + 9.8/f_c)/(w*(s**4*(2.44 - 39.04/f_c)/w**4 + 1))], default=nan))\n",
      "<lambdifygenerated-98>:2: RuntimeWarning: overflow encountered in exp\n",
      "  return (select([less(f_c, -35.7142857142857*d_a**(-0.32)*f_c**(-0.18)*f_t**2*w),less_equal(w, 0.028*d_a**0.32*f_c**0.18/f_t),True], [-f_c,35.7142857142857*d_a**(-0.32)*f_c**(-0.18)*f_t**2*w,f_t*exp(-35.7142857142857*d_a**(-0.32)*f_c**(-0.18)*f_t*(-0.028*d_a**0.32*f_c**0.18/f_t + w))], default=nan))\n",
      "<lambdifygenerated-101>:2: RuntimeWarning: invalid value encountered in sqrt\n",
      "  return (select([less(w, (1/2)*A_f*Dummy_348**2/(Dummy_349*Dummy_350*p)),True], [sqrt(2)*sqrt(A_f)*sqrt(Dummy_349)*sqrt(Dummy_350)*sqrt(p)*sqrt(w),A_f*Dummy_348], default=nan))\n",
      "<lambdifygenerated-98>:2: RuntimeWarning: overflow encountered in multiply\n",
      "  return (select([less(f_c, -35.7142857142857*d_a**(-0.32)*f_c**(-0.18)*f_t**2*w),less_equal(w, 0.028*d_a**0.32*f_c**0.18/f_t),True], [-f_c,35.7142857142857*d_a**(-0.32)*f_c**(-0.18)*f_t**2*w,f_t*exp(-35.7142857142857*d_a**(-0.32)*f_c**(-0.18)*f_t*(-0.028*d_a**0.32*f_c**0.18/f_t + w))], default=nan))\n",
      "<lambdifygenerated-4>:2: RuntimeWarning: invalid value encountered in sqrt\n",
      "  return ((-Dummy_33*c_psi + Dummy_35*c_psi - Dummy_37*c_psi**2 - Dummy_37*s_psi**2 + Dummy_38*s_psi**2 - sqrt(Dummy_33**2*c_psi**2 - 2*Dummy_33*Dummy_35*c_psi**2 - 2*Dummy_33*Dummy_36*c_psi**2*s_psi - 2*Dummy_33*Dummy_36*s_psi**3 + 2*Dummy_33*Dummy_37*c_psi**3 + 2*Dummy_33*Dummy_37*c_psi*s_psi**2 - 2*Dummy_33*Dummy_38*c_psi*s_psi**2 + Dummy_35**2*c_psi**2 + 2*Dummy_35*Dummy_36*c_psi**2*s_psi + 2*Dummy_35*Dummy_36*s_psi**3 - 2*Dummy_35*Dummy_37*c_psi**3 - 2*Dummy_35*Dummy_37*c_psi*s_psi**2 + 2*Dummy_35*Dummy_38*c_psi*s_psi**2 - Dummy_36**2*c_psi**4 - 2*Dummy_36**2*c_psi**2*s_psi**2 - Dummy_36**2*s_psi**4 - 2*Dummy_36*Dummy_38*c_psi**3*s_psi - 2*Dummy_36*Dummy_38*c_psi*s_psi**3 + Dummy_37**2*c_psi**4 + 2*Dummy_37**2*c_psi**2*s_psi**2 + Dummy_37**2*s_psi**4 - 2*Dummy_37*Dummy_38*c_psi**2*s_psi**2 - 2*Dummy_37*Dummy_38*s_psi**4 + Dummy_38**2*s_psi**4))/(c_psi**2 + s_psi**2))\n",
      "<lambdifygenerated-12>:2: RuntimeWarning: invalid value encountered in sqrt\n",
      "  return ((-2*Dummy_85*s_psi + 2*Dummy_86*s_psi - (-Dummy_81*Dummy_84*c_psi**2 - 3*Dummy_81*Dummy_84*s_psi**2 + 2*Dummy_81*Dummy_85*c_psi*s_psi - 2*Dummy_81*Dummy_86*c_psi*s_psi + Dummy_83*Dummy_84*c_psi**2 + 3*Dummy_83*Dummy_84*s_psi**2 - 2*Dummy_83*Dummy_85*c_psi*s_psi + 2*Dummy_83*Dummy_86*c_psi*s_psi - 2*Dummy_84**2*c_psi**2*s_psi - 2*Dummy_84**2*s_psi**3 - Dummy_84*Dummy_86*c_psi**3 - 3*Dummy_84*Dummy_86*c_psi*s_psi**2 + 2*Dummy_85**2*c_psi**2*s_psi + 2*Dummy_85**2*s_psi**3 - 2*Dummy_85*Dummy_86*c_psi**2*s_psi - 4*Dummy_85*Dummy_86*s_psi**3 + 2*Dummy_86**2*s_psi**3)/sqrt(Dummy_81**2*c_psi**2 - 2*Dummy_81*Dummy_83*c_psi**2 - 2*Dummy_81*Dummy_84*c_psi**2*s_psi - 2*Dummy_81*Dummy_84*s_psi**3 + 2*Dummy_81*Dummy_85*c_psi**3 + 2*Dummy_81*Dummy_85*c_psi*s_psi**2 - 2*Dummy_81*Dummy_86*c_psi*s_psi**2 + Dummy_83**2*c_psi**2 + 2*Dummy_83*Dummy_84*c_psi**2*s_psi + 2*Dummy_83*Dummy_84*s_psi**3 - 2*Dummy_83*Dummy_85*c_psi**3 - 2*Dummy_83*Dummy_85*c_psi*s_psi**2 + 2*Dummy_83*Dummy_86*c_psi*s_psi**2 - Dummy_84**2*c_psi**4 - 2*Dummy_84**2*c_psi**2*s_psi**2 - Dummy_84**2*s_psi**4 - 2*Dummy_84*Dummy_86*c_psi**3*s_psi - 2*Dummy_84*Dummy_86*c_psi*s_psi**3 + Dummy_85**2*c_psi**4 + 2*Dummy_85**2*c_psi**2*s_psi**2 + Dummy_85**2*s_psi**4 - 2*Dummy_85*Dummy_86*c_psi**2*s_psi**2 - 2*Dummy_85*Dummy_86*s_psi**4 + Dummy_86**2*s_psi**4))*cos(psi) - (-Dummy_81 + Dummy_83 - 2*Dummy_85*c_psi - (Dummy_81**2*c_psi - 2*Dummy_81*Dummy_83*c_psi - 2*Dummy_81*Dummy_84*c_psi*s_psi + 3*Dummy_81*Dummy_85*c_psi**2 + Dummy_81*Dummy_85*s_psi**2 - Dummy_81*Dummy_86*s_psi**2 + Dummy_83**2*c_psi + 2*Dummy_83*Dummy_84*c_psi*s_psi - 3*Dummy_83*Dummy_85*c_psi**2 - Dummy_83*Dummy_85*s_psi**2 + Dummy_83*Dummy_86*s_psi**2 - 2*Dummy_84**2*c_psi**3 - 2*Dummy_84**2*c_psi*s_psi**2 - 3*Dummy_84*Dummy_86*c_psi**2*s_psi - Dummy_84*Dummy_86*s_psi**3 + 2*Dummy_85**2*c_psi**3 + 2*Dummy_85**2*c_psi*s_psi**2 - 2*Dummy_85*Dummy_86*c_psi*s_psi**2)/sqrt(Dummy_81**2*c_psi**2 - 2*Dummy_81*Dummy_83*c_psi**2 - 2*Dummy_81*Dummy_84*c_psi**2*s_psi - 2*Dummy_81*Dummy_84*s_psi**3 + 2*Dummy_81*Dummy_85*c_psi**3 + 2*Dummy_81*Dummy_85*c_psi*s_psi**2 - 2*Dummy_81*Dummy_86*c_psi*s_psi**2 + Dummy_83**2*c_psi**2 + 2*Dummy_83*Dummy_84*c_psi**2*s_psi + 2*Dummy_83*Dummy_84*s_psi**3 - 2*Dummy_83*Dummy_85*c_psi**3 - 2*Dummy_83*Dummy_85*c_psi*s_psi**2 + 2*Dummy_83*Dummy_86*c_psi*s_psi**2 - Dummy_84**2*c_psi**4 - 2*Dummy_84**2*c_psi**2*s_psi**2 - Dummy_84**2*s_psi**4 - 2*Dummy_84*Dummy_86*c_psi**3*s_psi - 2*Dummy_84*Dummy_86*c_psi*s_psi**3 + Dummy_85**2*c_psi**4 + 2*Dummy_85**2*c_psi**2*s_psi**2 + Dummy_85**2*s_psi**4 - 2*Dummy_85*Dummy_86*c_psi**2*s_psi**2 - 2*Dummy_85*Dummy_86*s_psi**4 + Dummy_86**2*s_psi**4))*sin(psi))\n",
      "<lambdifygenerated-13>:2: RuntimeWarning: invalid value encountered in sqrt\n",
      "  return (c_psi - (-Dummy_87*c_psi**2 + Dummy_89*c_psi**2 + Dummy_90*c_psi**2*s_psi + Dummy_90*s_psi**3 - Dummy_91*c_psi**3 - Dummy_91*c_psi*s_psi**2 + Dummy_92*c_psi*s_psi**2)/sqrt(Dummy_87**2*c_psi**2 - 2*Dummy_87*Dummy_89*c_psi**2 - 2*Dummy_87*Dummy_90*c_psi**2*s_psi - 2*Dummy_87*Dummy_90*s_psi**3 + 2*Dummy_87*Dummy_91*c_psi**3 + 2*Dummy_87*Dummy_91*c_psi*s_psi**2 - 2*Dummy_87*Dummy_92*c_psi*s_psi**2 + Dummy_89**2*c_psi**2 + 2*Dummy_89*Dummy_90*c_psi**2*s_psi + 2*Dummy_89*Dummy_90*s_psi**3 - 2*Dummy_89*Dummy_91*c_psi**3 - 2*Dummy_89*Dummy_91*c_psi*s_psi**2 + 2*Dummy_89*Dummy_92*c_psi*s_psi**2 - Dummy_90**2*c_psi**4 - 2*Dummy_90**2*c_psi**2*s_psi**2 - Dummy_90**2*s_psi**4 - 2*Dummy_90*Dummy_92*c_psi**3*s_psi - 2*Dummy_90*Dummy_92*c_psi*s_psi**3 + Dummy_91**2*c_psi**4 + 2*Dummy_91**2*c_psi**2*s_psi**2 + Dummy_91**2*s_psi**4 - 2*Dummy_91*Dummy_92*c_psi**2*s_psi**2 - 2*Dummy_91*Dummy_92*s_psi**4 + Dummy_92**2*s_psi**4))\n",
      "<lambdifygenerated-99>:2: RuntimeWarning: invalid value encountered in sqrt\n",
      "  return (select([less_equal(w, 0),True], [0,0.25*f_c*s*(-sqrt(2)*sqrt(w/d_a) + 1)*((2.44 - 39.04/f_c)*abs(s/w)**3 + 9.8/f_c)/(w*(s**4*(2.44 - 39.04/f_c)/w**4 + 1))], default=nan))\n",
      "<lambdifygenerated-98>:2: RuntimeWarning: overflow encountered in exp\n",
      "  return (select([less(f_c, -35.7142857142857*d_a**(-0.32)*f_c**(-0.18)*f_t**2*w),less_equal(w, 0.028*d_a**0.32*f_c**0.18/f_t),True], [-f_c,35.7142857142857*d_a**(-0.32)*f_c**(-0.18)*f_t**2*w,f_t*exp(-35.7142857142857*d_a**(-0.32)*f_c**(-0.18)*f_t*(-0.028*d_a**0.32*f_c**0.18/f_t + w))], default=nan))\n",
      "<lambdifygenerated-99>:2: RuntimeWarning: invalid value encountered in sqrt\n",
      "  return (select([less_equal(w, 0),True], [0,0.25*f_c*s*(-sqrt(2)*sqrt(w/d_a) + 1)*((2.44 - 39.04/f_c)*abs(s/w)**3 + 9.8/f_c)/(w*(s**4*(2.44 - 39.04/f_c)/w**4 + 1))], default=nan))\n"
     ]
    },
    {
     "name": "stderr",
     "output_type": "stream",
     "text": [
      "<lambdifygenerated-98>:2: RuntimeWarning: overflow encountered in exp\n",
      "  return (select([less(f_c, -35.7142857142857*d_a**(-0.32)*f_c**(-0.18)*f_t**2*w),less_equal(w, 0.028*d_a**0.32*f_c**0.18/f_t),True], [-f_c,35.7142857142857*d_a**(-0.32)*f_c**(-0.18)*f_t**2*w,f_t*exp(-35.7142857142857*d_a**(-0.32)*f_c**(-0.18)*f_t*(-0.028*d_a**0.32*f_c**0.18/f_t + w))], default=nan))\n",
      "<lambdifygenerated-98>:2: RuntimeWarning: overflow encountered in multiply\n",
      "  return (select([less(f_c, -35.7142857142857*d_a**(-0.32)*f_c**(-0.18)*f_t**2*w),less_equal(w, 0.028*d_a**0.32*f_c**0.18/f_t),True], [-f_c,35.7142857142857*d_a**(-0.32)*f_c**(-0.18)*f_t**2*w,f_t*exp(-35.7142857142857*d_a**(-0.32)*f_c**(-0.18)*f_t*(-0.028*d_a**0.32*f_c**0.18/f_t + w))], default=nan))\n",
      "<lambdifygenerated-101>:2: RuntimeWarning: invalid value encountered in sqrt\n",
      "  return (select([less(w, (1/2)*A_f*Dummy_348**2/(Dummy_349*Dummy_350*p)),True], [sqrt(2)*sqrt(A_f)*sqrt(Dummy_349)*sqrt(Dummy_350)*sqrt(p)*sqrt(w),A_f*Dummy_348], default=nan))\n",
      "<lambdifygenerated-4>:2: RuntimeWarning: invalid value encountered in sqrt\n",
      "  return ((-Dummy_33*c_psi + Dummy_35*c_psi - Dummy_37*c_psi**2 - Dummy_37*s_psi**2 + Dummy_38*s_psi**2 - sqrt(Dummy_33**2*c_psi**2 - 2*Dummy_33*Dummy_35*c_psi**2 - 2*Dummy_33*Dummy_36*c_psi**2*s_psi - 2*Dummy_33*Dummy_36*s_psi**3 + 2*Dummy_33*Dummy_37*c_psi**3 + 2*Dummy_33*Dummy_37*c_psi*s_psi**2 - 2*Dummy_33*Dummy_38*c_psi*s_psi**2 + Dummy_35**2*c_psi**2 + 2*Dummy_35*Dummy_36*c_psi**2*s_psi + 2*Dummy_35*Dummy_36*s_psi**3 - 2*Dummy_35*Dummy_37*c_psi**3 - 2*Dummy_35*Dummy_37*c_psi*s_psi**2 + 2*Dummy_35*Dummy_38*c_psi*s_psi**2 - Dummy_36**2*c_psi**4 - 2*Dummy_36**2*c_psi**2*s_psi**2 - Dummy_36**2*s_psi**4 - 2*Dummy_36*Dummy_38*c_psi**3*s_psi - 2*Dummy_36*Dummy_38*c_psi*s_psi**3 + Dummy_37**2*c_psi**4 + 2*Dummy_37**2*c_psi**2*s_psi**2 + Dummy_37**2*s_psi**4 - 2*Dummy_37*Dummy_38*c_psi**2*s_psi**2 - 2*Dummy_37*Dummy_38*s_psi**4 + Dummy_38**2*s_psi**4))/(c_psi**2 + s_psi**2))\n",
      "<lambdifygenerated-12>:2: RuntimeWarning: invalid value encountered in sqrt\n",
      "  return ((-2*Dummy_85*s_psi + 2*Dummy_86*s_psi - (-Dummy_81*Dummy_84*c_psi**2 - 3*Dummy_81*Dummy_84*s_psi**2 + 2*Dummy_81*Dummy_85*c_psi*s_psi - 2*Dummy_81*Dummy_86*c_psi*s_psi + Dummy_83*Dummy_84*c_psi**2 + 3*Dummy_83*Dummy_84*s_psi**2 - 2*Dummy_83*Dummy_85*c_psi*s_psi + 2*Dummy_83*Dummy_86*c_psi*s_psi - 2*Dummy_84**2*c_psi**2*s_psi - 2*Dummy_84**2*s_psi**3 - Dummy_84*Dummy_86*c_psi**3 - 3*Dummy_84*Dummy_86*c_psi*s_psi**2 + 2*Dummy_85**2*c_psi**2*s_psi + 2*Dummy_85**2*s_psi**3 - 2*Dummy_85*Dummy_86*c_psi**2*s_psi - 4*Dummy_85*Dummy_86*s_psi**3 + 2*Dummy_86**2*s_psi**3)/sqrt(Dummy_81**2*c_psi**2 - 2*Dummy_81*Dummy_83*c_psi**2 - 2*Dummy_81*Dummy_84*c_psi**2*s_psi - 2*Dummy_81*Dummy_84*s_psi**3 + 2*Dummy_81*Dummy_85*c_psi**3 + 2*Dummy_81*Dummy_85*c_psi*s_psi**2 - 2*Dummy_81*Dummy_86*c_psi*s_psi**2 + Dummy_83**2*c_psi**2 + 2*Dummy_83*Dummy_84*c_psi**2*s_psi + 2*Dummy_83*Dummy_84*s_psi**3 - 2*Dummy_83*Dummy_85*c_psi**3 - 2*Dummy_83*Dummy_85*c_psi*s_psi**2 + 2*Dummy_83*Dummy_86*c_psi*s_psi**2 - Dummy_84**2*c_psi**4 - 2*Dummy_84**2*c_psi**2*s_psi**2 - Dummy_84**2*s_psi**4 - 2*Dummy_84*Dummy_86*c_psi**3*s_psi - 2*Dummy_84*Dummy_86*c_psi*s_psi**3 + Dummy_85**2*c_psi**4 + 2*Dummy_85**2*c_psi**2*s_psi**2 + Dummy_85**2*s_psi**4 - 2*Dummy_85*Dummy_86*c_psi**2*s_psi**2 - 2*Dummy_85*Dummy_86*s_psi**4 + Dummy_86**2*s_psi**4))*cos(psi) - (-Dummy_81 + Dummy_83 - 2*Dummy_85*c_psi - (Dummy_81**2*c_psi - 2*Dummy_81*Dummy_83*c_psi - 2*Dummy_81*Dummy_84*c_psi*s_psi + 3*Dummy_81*Dummy_85*c_psi**2 + Dummy_81*Dummy_85*s_psi**2 - Dummy_81*Dummy_86*s_psi**2 + Dummy_83**2*c_psi + 2*Dummy_83*Dummy_84*c_psi*s_psi - 3*Dummy_83*Dummy_85*c_psi**2 - Dummy_83*Dummy_85*s_psi**2 + Dummy_83*Dummy_86*s_psi**2 - 2*Dummy_84**2*c_psi**3 - 2*Dummy_84**2*c_psi*s_psi**2 - 3*Dummy_84*Dummy_86*c_psi**2*s_psi - Dummy_84*Dummy_86*s_psi**3 + 2*Dummy_85**2*c_psi**3 + 2*Dummy_85**2*c_psi*s_psi**2 - 2*Dummy_85*Dummy_86*c_psi*s_psi**2)/sqrt(Dummy_81**2*c_psi**2 - 2*Dummy_81*Dummy_83*c_psi**2 - 2*Dummy_81*Dummy_84*c_psi**2*s_psi - 2*Dummy_81*Dummy_84*s_psi**3 + 2*Dummy_81*Dummy_85*c_psi**3 + 2*Dummy_81*Dummy_85*c_psi*s_psi**2 - 2*Dummy_81*Dummy_86*c_psi*s_psi**2 + Dummy_83**2*c_psi**2 + 2*Dummy_83*Dummy_84*c_psi**2*s_psi + 2*Dummy_83*Dummy_84*s_psi**3 - 2*Dummy_83*Dummy_85*c_psi**3 - 2*Dummy_83*Dummy_85*c_psi*s_psi**2 + 2*Dummy_83*Dummy_86*c_psi*s_psi**2 - Dummy_84**2*c_psi**4 - 2*Dummy_84**2*c_psi**2*s_psi**2 - Dummy_84**2*s_psi**4 - 2*Dummy_84*Dummy_86*c_psi**3*s_psi - 2*Dummy_84*Dummy_86*c_psi*s_psi**3 + Dummy_85**2*c_psi**4 + 2*Dummy_85**2*c_psi**2*s_psi**2 + Dummy_85**2*s_psi**4 - 2*Dummy_85*Dummy_86*c_psi**2*s_psi**2 - 2*Dummy_85*Dummy_86*s_psi**4 + Dummy_86**2*s_psi**4))*sin(psi))\n",
      "<lambdifygenerated-13>:2: RuntimeWarning: invalid value encountered in sqrt\n",
      "  return (c_psi - (-Dummy_87*c_psi**2 + Dummy_89*c_psi**2 + Dummy_90*c_psi**2*s_psi + Dummy_90*s_psi**3 - Dummy_91*c_psi**3 - Dummy_91*c_psi*s_psi**2 + Dummy_92*c_psi*s_psi**2)/sqrt(Dummy_87**2*c_psi**2 - 2*Dummy_87*Dummy_89*c_psi**2 - 2*Dummy_87*Dummy_90*c_psi**2*s_psi - 2*Dummy_87*Dummy_90*s_psi**3 + 2*Dummy_87*Dummy_91*c_psi**3 + 2*Dummy_87*Dummy_91*c_psi*s_psi**2 - 2*Dummy_87*Dummy_92*c_psi*s_psi**2 + Dummy_89**2*c_psi**2 + 2*Dummy_89*Dummy_90*c_psi**2*s_psi + 2*Dummy_89*Dummy_90*s_psi**3 - 2*Dummy_89*Dummy_91*c_psi**3 - 2*Dummy_89*Dummy_91*c_psi*s_psi**2 + 2*Dummy_89*Dummy_92*c_psi*s_psi**2 - Dummy_90**2*c_psi**4 - 2*Dummy_90**2*c_psi**2*s_psi**2 - Dummy_90**2*s_psi**4 - 2*Dummy_90*Dummy_92*c_psi**3*s_psi - 2*Dummy_90*Dummy_92*c_psi*s_psi**3 + Dummy_91**2*c_psi**4 + 2*Dummy_91**2*c_psi**2*s_psi**2 + Dummy_91**2*s_psi**4 - 2*Dummy_91*Dummy_92*c_psi**2*s_psi**2 - 2*Dummy_91*Dummy_92*s_psi**4 + Dummy_92**2*s_psi**4))\n",
      "<lambdifygenerated-99>:2: RuntimeWarning: invalid value encountered in sqrt\n",
      "  return (select([less_equal(w, 0),True], [0,0.25*f_c*s*(-sqrt(2)*sqrt(w/d_a) + 1)*((2.44 - 39.04/f_c)*abs(s/w)**3 + 9.8/f_c)/(w*(s**4*(2.44 - 39.04/f_c)/w**4 + 1))], default=nan))\n",
      "<lambdifygenerated-99>:2: RuntimeWarning: invalid value encountered in sqrt\n",
      "  return (select([less_equal(w, 0),True], [0,0.25*f_c*s*(-sqrt(2)*sqrt(w/d_a) + 1)*((2.44 - 39.04/f_c)*abs(s/w)**3 + 9.8/f_c)/(w*(s**4*(2.44 - 39.04/f_c)/w**4 + 1))], default=nan))\n",
      "<lambdifygenerated-99>:2: RuntimeWarning: invalid value encountered in sqrt\n",
      "  return (select([less_equal(w, 0),True], [0,0.25*f_c*s*(-sqrt(2)*sqrt(w/d_a) + 1)*((2.44 - 39.04/f_c)*abs(s/w)**3 + 9.8/f_c)/(w*(s**4*(2.44 - 39.04/f_c)/w**4 + 1))], default=nan))\n",
      "<lambdifygenerated-98>:2: RuntimeWarning: overflow encountered in exp\n",
      "  return (select([less(f_c, -35.7142857142857*d_a**(-0.32)*f_c**(-0.18)*f_t**2*w),less_equal(w, 0.028*d_a**0.32*f_c**0.18/f_t),True], [-f_c,35.7142857142857*d_a**(-0.32)*f_c**(-0.18)*f_t**2*w,f_t*exp(-35.7142857142857*d_a**(-0.32)*f_c**(-0.18)*f_t*(-0.028*d_a**0.32*f_c**0.18/f_t + w))], default=nan))\n",
      "<lambdifygenerated-101>:2: RuntimeWarning: invalid value encountered in sqrt\n",
      "  return (select([less(w, (1/2)*A_f*Dummy_348**2/(Dummy_349*Dummy_350*p)),True], [sqrt(2)*sqrt(A_f)*sqrt(Dummy_349)*sqrt(Dummy_350)*sqrt(p)*sqrt(w),A_f*Dummy_348], default=nan))\n",
      "<lambdifygenerated-99>:2: RuntimeWarning: invalid value encountered in sqrt\n",
      "  return (select([less_equal(w, 0),True], [0,0.25*f_c*s*(-sqrt(2)*sqrt(w/d_a) + 1)*((2.44 - 39.04/f_c)*abs(s/w)**3 + 9.8/f_c)/(w*(s**4*(2.44 - 39.04/f_c)/w**4 + 1))], default=nan))\n"
     ]
    }
   ],
   "source": [
    "fig, ax = plt.subplots(1,1, figsize = (11, 5))\n",
    "n = 198\n",
    "ce = CrackPropagation(n_seg=n)\n",
    "ce.sz_bd.Rectangle = True\n",
    "ce.sz_bd.trait_set(H=600, B=250, L=3850)\n",
    "crack_positions = np.linspace(0.1 * ce.sz_bd.L, 0.9 * ce.sz_bd.L, 9)\n",
    "ce.sz_cp.sz_ctr.L_fps = 80\n",
    "ce.sz_cp.sz_ctr.trait_set(ell = 2)\n",
    "ce.sz_bd.cmm.trait_set(tau_factor = 0)\n",
    "bl1 = ReinfLayer(name='layer1', z=44, A=ce.sz_bd.smm.A_f, matmod='steel')\n",
    "bl1.matmod_.trait_set(E=ce.sz_bd.smm.E_f, f_t=ce.sz_bd.smm.sig_y)\n",
    "ce.sz_bd.cross_section_layout.add_layer(bl1)\n",
    "ce.sz_bd\n",
    "x_Ia = []\n",
    "for crack_position in crack_positions:\n",
    "    ce.reset()\n",
    "    ce.sz_cp.trait_set(x_00=crack_position)\n",
    "    ce.run()\n",
    "    sz_cp =ce.sz_cp\n",
    "    x_n_a =sz_cp.x_t_Ia[0,:]\n",
    "    x_Ia = sz_cp.x_t_Ia\n",
    "    ds = ce.crack_tip_orientation.crack_tip_shear_stress.sz_stress_profile.ds\n",
    "    ce.sz_cp.plot_sz0(ax)\n",
    "    ds.plot_sz1(ax)\n",
    "    #print(x_Ia)"
   ]
  },
  {
   "cell_type": "code",
   "execution_count": 32,
   "metadata": {},
   "outputs": [
    {
     "data": {
      "application/vnd.jupyter.widget-view+json": {
       "model_id": "9fc28cd6480e462586a52d8d3ce4adb4",
       "version_major": 2,
       "version_minor": 0
      },
      "text/plain": [
       "Canvas(toolbar=Toolbar(toolitems=[('Home', 'Reset original view', 'home', 'home'), ('Back', 'Back to previous …"
      ]
     },
     "metadata": {},
     "output_type": "display_data"
    },
    {
     "name": "stderr",
     "output_type": "stream",
     "text": [
      "<lambdifygenerated-179>:2: RuntimeWarning: invalid value encountered in sqrt\n",
      "  return (select([less_equal(w, 0),True], [0,0.25*f_c*s*(-sqrt(2)*sqrt(w/d_a) + 1)*((2.44 - 39.04/f_c)*abs(s/w)**3 + 9.8/f_c)/(w*(s**4*(2.44 - 39.04/f_c)/w**4 + 1))], default=nan))\n"
     ]
    }
   ],
   "source": [
    "import matplotlib.pylab as plt\n",
    "fig, axes = plt.subplots(1,1, figsize = (15, 6))\n",
    "n = 198\n",
    "ce = CrackPropagation(n_seg=n)\n",
    "ce.sz_bd.Rectangle = True\n",
    "ce.sz_bd.trait_set(H=600, B=250, L=3850)\n",
    "#crack_positions = np.linspace(0.1 * ce.sz_bd.L, 0.9 * ce.sz_bd.L, 9)\n",
    "crack_position = 0.9 * ce.sz_bd.L\n",
    "ce.sz_cp.sz_ctr.L_fps = 80\n",
    "ce.sz_cp.sz_ctr.trait_set(ell = 2)\n",
    "ce.sz_bd.cmm.trait_set(tau_factor = 0)\n",
    "bl1 = ReinfLayer(name='layer1', z=44, A=ce.sz_bd.smm.A_f, matmod='steel')\n",
    "bl1.matmod_.trait_set(E=ce.sz_bd.smm.E_f, f_t=ce.sz_bd.smm.sig_y)\n",
    "ce.sz_bd.cross_section_layout.add_layer(bl1)\n",
    "ce.sz_bd\n",
    "ce.reset()\n",
    "ce.sz_cp.trait_set(x_00=crack_position)\n",
    "ce.run()\n",
    "fig.clf()\n",
    "axes = ce.sz_stress_profile.subplots(fig)\n",
    "ce.sz_stress_profile.update_plot(axes)\n",
    "ax_u_0, ax_w_0, ax_S_0, ax_F_0, ax_u_1, ax_w_1, ax_S_1, ax_F_1 = axes"
   ]
  },
  {
   "cell_type": "code",
   "execution_count": 23,
   "metadata": {},
   "outputs": [
    {
     "data": {
      "text/plain": [
       "array([[ 1.23168375e+00,  0.00000000e+00],\n",
       "       [ 1.24808024e+00,  0.00000000e+00],\n",
       "       [ 1.26469501e+00,  0.00000000e+00],\n",
       "       ...,\n",
       "       [-3.04065830e+03,  0.00000000e+00],\n",
       "       [-3.17039756e+03,  0.00000000e+00],\n",
       "       [-3.30013681e+03,  0.00000000e+00]])"
      ]
     },
     "execution_count": 23,
     "metadata": {},
     "output_type": "execute_result"
    }
   ],
   "source": [
    "ce.sz_stress_profile.S_Lb"
   ]
  },
  {
   "cell_type": "code",
   "execution_count": null,
   "metadata": {},
   "outputs": [],
   "source": []
  }
 ],
 "metadata": {
  "kernelspec": {
   "display_name": "Python 3",
   "language": "python",
   "name": "python3"
  },
  "language_info": {
   "codemirror_mode": {
    "name": "ipython",
    "version": 3
   },
   "file_extension": ".py",
   "mimetype": "text/x-python",
   "name": "python",
   "nbconvert_exporter": "python",
   "pygments_lexer": "ipython3",
   "version": "3.9.1"
  }
 },
 "nbformat": 4,
 "nbformat_minor": 4
}
