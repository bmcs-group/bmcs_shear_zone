{
 "cells": [
  {
   "cell_type": "markdown",
   "metadata": {},
   "source": [
    "# Concrete Teeth"
   ]
  },
  {
   "cell_type": "markdown",
   "metadata": {},
   "source": [
    "- A reinforced concrete beam transforms into a comb like structure under increasing load. \n",
    "- The flexural cracks occurring in the tensile zone create more or less vertical concrete teeth while the compressive zone represents the backbone of the concrete comb. \n",
    "- As long as the capacity of concrete teeth is not exceeded, the beam like behavior governs.\n",
    "- After the resistance of concrete teeth has been destroyed, a tied arch having quite different properties remains. \n",
    "- The first cracks will appear long before the allowable load is reached. These cracks are narrow and unimportant provided the tensile strain is less than 0.1 percent. Due to the bond, the concrete and steel attain the same strain. Further loading increases the crack width and length indicating that the area of compressive zone decreases. This effect is especially visible when the stress in steel reaches and exceeds the yield point stress. The internal mechanism of such a beam is shown in figure."
   ]
  },
  {
   "cell_type": "markdown",
   "metadata": {},
   "source": [
    "<img src=\"matmod/fig/concrete teeth flex.png\" width=\"400\"/>"
   ]
  },
  {
   "cell_type": "markdown",
   "metadata": {},
   "source": [
    "- The concrete teeth separated from each other by flexural cracks represent the teeth of the comb. \n",
    "- The stress in the compressive zone increases rapidly during the continuation of the bending process. This rise is due to the decrease in the area of compressive zone as a result of cracks and to a lesser extent due to increasing load. "
   ]
  },
  {
   "cell_type": "code",
   "execution_count": 1,
   "metadata": {},
   "outputs": [],
   "source": [
    "import sympy as sp\n",
    "P, a = sp.symbols('P, a')\n",
    "C,z  = sp.symbols('C, z')\n",
    "M = P * a\n",
    "M_1 = C * z"
   ]
  },
  {
   "cell_type": "code",
   "execution_count": 2,
   "metadata": {},
   "outputs": [
    {
     "data": {
      "text/latex": [
       "$\\displaystyle P a = C z$"
      ],
      "text/plain": [
       "Eq(P*a, C*z)"
      ]
     },
     "execution_count": 2,
     "metadata": {},
     "output_type": "execute_result"
    }
   ],
   "source": [
    "sp.Eq(M,M_1)"
   ]
  },
  {
   "cell_type": "code",
   "execution_count": 3,
   "metadata": {},
   "outputs": [
    {
     "data": {
      "text/plain": [
       "[P*a/z]"
      ]
     },
     "execution_count": 3,
     "metadata": {},
     "output_type": "execute_result"
    }
   ],
   "source": [
    "T = sp.solve(sp.Eq(M,M_1), C)\n",
    "T"
   ]
  },
  {
   "cell_type": "markdown",
   "metadata": {},
   "source": [
    "## Mechanism of diagonal failure"
   ]
  },
  {
   "cell_type": "markdown",
   "metadata": {},
   "source": [
    "- Diagonal failure occurs when the central section of the test beam under pure bending is stronger than the end sections. \n",
    "- In the case of a reinforced concrete beam with bond, the tensile force $T$ is added to the concrete body as a distributed load along reinforcing bar (see figure)."
   ]
  },
  {
   "cell_type": "markdown",
   "metadata": {},
   "source": [
    "<img src=\"matmod/fig/int forces with bond.png\" width=\"400\"/>"
   ]
  },
  {
   "cell_type": "markdown",
   "metadata": {},
   "source": [
    "- In case of a fully effective bond, we would have in the end sections of the beam, where the shear force $V$ is constant, the force $T$ uniformly distributed along the reinforcing bars. This is indicated by $\\Delta T$ forces in the figure.\n",
    "- Now the thrust line which is defined as the line showing the location of the resultant force is no longer a straight line. \n",
    "- The reaction $A$ is combined with a small $\\Delta T$ so that the resultant starts steeply upwards. More $\\Delta T$ forces join the free body with increasing distance of the cross section from section A so that the thrust line bends up to the right.\n",
    "- The shape of the thrust line depends on the distribution of the $\\Delta T$ forces. \n",
    "- Considering equilibrium of the part of the beam we see that the tensile force is:\n",
    "\\begin{equation}\n",
    "    T = \\frac{M_x}{z}\n",
    "\\end{equation}\n",
    "'z' denotes the lever arm, as "
   ]
  },
  {
   "cell_type": "code",
   "execution_count": 4,
   "metadata": {},
   "outputs": [
    {
     "data": {
      "text/latex": [
       "$\\displaystyle \\frac{P a}{z}$"
      ],
      "text/plain": [
       "P*a/z"
      ]
     },
     "execution_count": 4,
     "metadata": {},
     "output_type": "execute_result"
    }
   ],
   "source": [
    "T = M / z\n",
    "T"
   ]
  },
  {
   "cell_type": "markdown",
   "metadata": {},
   "source": [
    "- As long as the comb like structure functions as a beam, the force $T$ is more or less proportional to the bending moment $M_x$.\n",
    "- The force $T$ has its maximum value in the central part of the beam and decreases to zero in the vicinity of the supports.\n",
    "- The $\\Delta T$ forces, i.e the bond forces between reinforcement and concrete are internal forces and appear twice, one acting on the bars and one with opposite direction acting on the concrete body."
   ]
  },
  {
   "cell_type": "markdown",
   "metadata": {},
   "source": [
    "<img src=\"matmod/fig/function of conc teeth.PNG\" width=\"400\"/>"
   ]
  },
  {
   "cell_type": "markdown",
   "metadata": {},
   "source": [
    "- (See above figure) Taking the concrete as free body and replacing the actions of the bars by corresponding internal forces, the $\\Delta T$ forces will be directed towards mid span while the $\\Delta T$ forces on the reinforcement will be directed towards the bar ends. \n",
    "- Figure illustrates the mechanism of comb like structure, the concrete teeth separated by flexural cracks and loaded by horizontal $\\Delta T$ forces. Concrete teeth being short cantilevers loaded by horizontal $\\Delta T$ forces are subject to bending. \n",
    "- The function of every concrete tooth can be compared to that of short vertical cantilever anchored in the compressive zone of beam and acted on by a horizontal $\\Delta T$ force. \n",
    "- As long as the concrete teeth are capable of carrying the $\\Delta T$ forces, the comb like structure is essentially a beam with a distinctive compressive zone with the highest compressive strain at the top fiber. \n",
    "- Without $\\Delta T$ forces, the comb like structure cannot be in equilibrium. This short study of the internal mechanism shows that the usual assumption of the beam theory that \"plane cross sections remains plane\" is inaccurate because it leads to an inconsistent shear strength theory. \n",
    "- An originally straight axis of a concrete tooth will become curved due to the bending action of the $\\Delta T$ forces. Assuming the axis of the concrete tooth to remain straight will correspond to the condition of no bending i.e $\\Delta T = 0$."
   ]
  },
  {
   "cell_type": "markdown",
   "metadata": {},
   "source": [
    "<img src=\"matmod/fig/tooth deformation.PNG\" width=\"250\"/>"
   ]
  },
  {
   "cell_type": "markdown",
   "metadata": {},
   "source": [
    "- By assuming the figure above for determining the resistance of concrete tooth and employing the relation of the beam theory, the maximum tensile stress in a concrete tooth due to a force $\\Delta T$ is given by:\n",
    "\\begin{equation}\n",
    "    \\sigma = f_t = \\frac{M}{Z} = \\frac{M}{S} = \\frac{\\Delta T s}{b (\\Delta x)^2/6}\n",
    "\\end{equation}\n",
    "- The maximum resistance $\\Delta T$ of the concrete tooth is reached when the stress $f_t$ reaches the tensile strength $f_t'$ of the concrete. Thus the resistance of the concrete teeth per unit length of the beam can be expressed as:\n",
    "\\begin{equation}\n",
    "    \\frac{\\Delta T}{\\Delta x} = \\frac{f_t'}{6}\\frac{\\Delta x}{s}b\n",
    "\\end{equation}\n",
    "- Concrete teeth breaks off under increasing load when this resistance is reached. If $T$ represents the full tensile force of the reinforcement in the central section of the beam, which towards the support is gradually reduced to zero due to bond action, the average bond between concrete and reinforcement will be $T/a$. When this bond load which actually constitutes the horizontal load of the concrete teeth reaches the resistance of the concrete teeth i.e.:\n",
    "\\begin{equation}\n",
    "    \\frac{T}{a}= \\frac{\\Delta T}{\\Delta x} = \\frac{f_t'}{6}\\frac{\\Delta x}{s}b\n",
    "\\end{equation}\n",
    "- The maximum bending moment existing at the center of the teeth beam can be expressed by:\n",
    "\\begin{equation}\n",
    "    M_{CR} = \\frac{7}{8} d T\n",
    "\\end{equation}\n",
    "or by using the expression for $T$:\n",
    "\\begin{equation}\n",
    "    M_{CR} = \\frac{7}{8}\\frac{f_t'}{6}\\frac{\\Delta x}{s} ba d \n",
    "\\end{equation}\n",
    "- Let us designate that part of this moment which depends only on the properties of the cross section with:\n",
    "\\begin{equation}\n",
    "    M_{0} = \\frac{7}{8}\\frac{f_t'}{6}bd^2 \n",
    "\\end{equation}\n",
    "- Thus, the critical bending moment at which the concrete teeth break away can be expressed by:\n",
    "\\begin{equation}\n",
    "    M_{cr} = M_0 \\frac{\\Delta x}{s}\\frac{a}{d}\n",
    "\\end{equation}"
   ]
  },
  {
   "cell_type": "markdown",
   "metadata": {},
   "source": [
    "<img src=\"matmod/fig/capacity of concrete teeth.JPG\" width=\"500\"/>"
   ]
  },
  {
   "cell_type": "code",
   "execution_count": null,
   "metadata": {},
   "outputs": [],
   "source": []
  }
 ],
 "metadata": {
  "kernelspec": {
   "display_name": "Python 3",
   "language": "python",
   "name": "python3"
  },
  "language_info": {
   "codemirror_mode": {
    "name": "ipython",
    "version": 3
   },
   "file_extension": ".py",
   "mimetype": "text/x-python",
   "name": "python",
   "nbconvert_exporter": "python",
   "pygments_lexer": "ipython3",
   "version": "3.9.1"
  }
 },
 "nbformat": 4,
 "nbformat_minor": 4
}
