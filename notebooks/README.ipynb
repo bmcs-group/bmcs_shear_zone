{
 "cells": [
  {
   "cell_type": "markdown",
   "id": "0231012d-55a7-431e-b898-07e84a6d021a",
   "metadata": {},
   "source": [
    "# Structure of the shear zone notebooks"
   ]
  },
  {
   "cell_type": "markdown",
   "id": "4f62ad70-813b-41bd-a3db-b94fb1abebea",
   "metadata": {},
   "source": [
    "The notebooks in this directory are organized according to the following topics "
   ]
  },
  {
   "cell_type": "markdown",
   "id": "83fbe1ad-5694-47dd-8f88-c3f5c3b1ee0c",
   "metadata": {},
   "source": [
    "## Material models for the stress transfer mechanisms"
   ]
  },
  {
   "cell_type": "markdown",
   "id": "ba7b784c-af39-4c79-a047-e41edb73f847",
   "metadata": {},
   "source": [
    "Demonstrate the constitutive laws applied for\n",
    " - Concrete compression\n",
    " - Concrete tensile softening\n",
    " - Interlock \n",
    " - Crack bridge and dowel action"
   ]
  },
  {
   "cell_type": "markdown",
   "id": "a97ef638-850f-4394-b304-9641583b56de",
   "metadata": {},
   "source": [
    "## Rigid kinematics of plates around a shear crack"
   ]
  },
  {
   "cell_type": "markdown",
   "id": "dcf3ff74-e104-4cb6-b3a2-3c7af53120e3",
   "metadata": {},
   "source": [
    "## DIC grid analysis "
   ]
  },
  {
   "cell_type": "markdown",
   "id": "f5a36589-a0ac-426e-9707-d81996593803",
   "metadata": {},
   "source": [
    "### [Evaluation of the center of rotation](sz_dic_grids/COR(README).ipynb)"
   ]
  },
  {
   "cell_type": "markdown",
   "id": "bc08ec4e-d7ba-484b-9bf8-ef96b44d8256",
   "metadata": {},
   "source": [
    "### Strain field calculation of DIC grid data"
   ]
  },
  {
   "cell_type": "code",
   "execution_count": null,
   "id": "ca4e5b1f-5a66-4eff-98c7-5a1582436c02",
   "metadata": {},
   "outputs": [],
   "source": []
  }
 ],
 "metadata": {
  "kernelspec": {
   "display_name": "Python 3",
   "language": "python",
   "name": "python3"
  },
  "language_info": {
   "codemirror_mode": {
    "name": "ipython",
    "version": 3
   },
   "file_extension": ".py",
   "mimetype": "text/x-python",
   "name": "python",
   "nbconvert_exporter": "python",
   "pygments_lexer": "ipython3",
   "version": "3.9.7"
  }
 },
 "nbformat": 4,
 "nbformat_minor": 5
}
