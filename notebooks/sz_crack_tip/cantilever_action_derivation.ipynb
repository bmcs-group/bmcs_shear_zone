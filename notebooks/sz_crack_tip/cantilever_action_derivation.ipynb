{
 "cells": [
  {
   "cell_type": "markdown",
   "metadata": {},
   "source": [
    "# Cantilever Action\n",
    "## Conditions for cantilever action:\n",
    "- Different shear transfer actions will be accounted as shown below.\n",
    "- The considered shear transfer actions are assumed to be identical in crack (1) and (2) which border the concrete tooth.\n",
    "- It should consider the variable length and geometry of cantilevers and these should grow during the propagation process."
   ]
  },
  {
   "cell_type": "markdown",
   "metadata": {},
   "source": [
    "<img src=\"matmod/fig/cantilever figure (our model).png\" width=\"700\"/>"
   ]
  },
  {
   "cell_type": "code",
   "execution_count": null,
   "metadata": {},
   "outputs": [],
   "source": [
    "import sympy as sp\n",
    "import numpy as np\n",
    "# lever arms\n",
    "z_fpz_2, z_fpz_1 = sp.symbols('z_{fpz(2)}, z_{fpz(1)}')\n",
    "z_agg_2, z_agg_1 = sp.symbols('z_{agg(2)}, z_{agg(1)}')\n",
    "x_agg_2, x_agg_1 = sp.symbols('x_{Vagg(2)}, x_{Vagg(1)}')\n",
    "x_da_2, x_da_1 = sp.symbols('x_{da(2)}, x_{da(1)}')\n",
    "z_fs = sp.Symbol('z_{fs}')"
   ]
  },
  {
   "cell_type": "code",
   "execution_count": null,
   "metadata": {},
   "outputs": [],
   "source": [
    "#forces\n",
    "\n",
    "F_fpz_2, F_fpz_1 = sp.symbols('F_{fpz(2)}, F_{fpz(1)}')\n",
    "F_agg_2, F_agg_1 = sp.symbols('F_{agg(2)}, F_{agg(1)}')\n",
    "V_agg_2, V_agg_1 = sp.symbols('V_{agg(2)}, V_{agg(1)}')\n",
    "V_da_2, V_da_1 = sp.symbols('V_{da(2)}, V_{da(1)}')\n",
    "delta_Fs = sp.Symbol('\\Delta F_s')\n",
    "delta_Fs"
   ]
  },
  {
   "cell_type": "markdown",
   "metadata": {},
   "source": [
    "- With reference to the condition of considered shear transfer actions to be identical on both cracks, we get:\n",
    "\\begin{equation}\n",
    "F_{fpz(2)} = F_{fpz(1)} \\\\\n",
    "F_{agg(2)} = F_{agg(1)} \\\\\n",
    "V_{agg(2)} = V_{agg(1)}  \\\\\n",
    "V_{da(2)} = V_{da(1)}  \\\\\n",
    "\\end{equation}\n",
    "and based on our kinematics, the lever arms will be:\n",
    "\\begin{equation}\n",
    "z_{fpz(2)} = z_{fpz(1)} \\\\\n",
    "z_{agg(2)} = z_{agg(1)} \\\\\n",
    "x_{V,agg(1)} > x_{V,agg(2)}  \\\\\n",
    "x_{da(1)} > x_{da(2)}  \\\\\n",
    "\\end{equation}"
   ]
  },
  {
   "cell_type": "code",
   "execution_count": null,
   "metadata": {},
   "outputs": [],
   "source": [
    "F_fpz_1 = F_fpz_2\n",
    "F_agg_1 = F_agg_2\n",
    "V_agg_1 = V_agg_2\n",
    "V_da_1 = V_da_2\n",
    "z_fpz_1 = z_fpz_2\n",
    "z_agg_1 = z_agg_2 "
   ]
  },
  {
   "cell_type": "code",
   "execution_count": null,
   "metadata": {},
   "outputs": [],
   "source": [
    "# clamping moment\n",
    "M_ca = sp.Symbol('M_{ca}')\n",
    "Eq = + M_ca - F_fpz_2 * z_fpz_2 + F_fpz_1 * z_fpz_1 + F_agg_2 * z_agg_2 - F_agg_1 * z_agg_1 - V_agg_2 * x_agg_2 +\\\n",
    "            V_agg_1 * x_agg_1 - V_da_2 * x_da_2 + V_da_1 * x_da_1 - delta_Fs * z_fs\n",
    "Eq"
   ]
  },
  {
   "cell_type": "markdown",
   "metadata": {},
   "source": [
    "<img src=\"matmod/fig/equation.png\" width=\"700\"/>"
   ]
  },
  {
   "cell_type": "code",
   "execution_count": null,
   "metadata": {},
   "outputs": [],
   "source": [
    "condition = sp.Eq(Eq, 0)\n",
    "condition"
   ]
  },
  {
   "cell_type": "code",
   "execution_count": null,
   "metadata": {},
   "outputs": [],
   "source": [
    "M_ca_ = sp.solve(condition, M_ca)\n",
    "M_ca_arr = np.array(M_ca_)\n",
    "M_ca_arr"
   ]
  },
  {
   "cell_type": "code",
   "execution_count": null,
   "metadata": {},
   "outputs": [],
   "source": [
    "B, L = sp.symbols('B, L')\n",
    "sigma_z = M_ca_arr / (B * (0.1 * L)**2 / 6)\n",
    "sigma_z"
   ]
  },
  {
   "cell_type": "markdown",
   "metadata": {},
   "source": [
    "## Important questions and assumptions:\n",
    "- For the type of beam assumed, $\\Delta F_s$ i.e. the tensile force in the reinforcement decreases linearly from maximum bending moment regions to zero bending moment regions due to the activation of bond and cantilever action.\n",
    "- The variation of $\\Delta F_s$ is limited by the bond strength properties of reinforcement taken from MC2010.\n",
    "- How to calculate $\\Delta F_s$?\n",
    "- Will the horizontal forces due to aggregate and fracture process zone cancel and have no impact on the clamping moment for our case?"
   ]
  },
  {
   "cell_type": "code",
   "execution_count": null,
   "metadata": {},
   "outputs": [],
   "source": []
  }
 ],
 "metadata": {
  "kernelspec": {
   "display_name": "Python 3",
   "language": "python",
   "name": "python3"
  },
  "language_info": {
   "codemirror_mode": {
    "name": "ipython",
    "version": 3
   },
   "file_extension": ".py",
   "mimetype": "text/x-python",
   "name": "python",
   "nbconvert_exporter": "python",
   "pygments_lexer": "ipython3"
  }
 },
 "nbformat": 4,
 "nbformat_minor": 4
}
