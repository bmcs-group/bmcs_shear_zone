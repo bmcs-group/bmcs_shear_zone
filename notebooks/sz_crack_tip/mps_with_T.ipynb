{
 "cells": [
  {
   "cell_type": "code",
   "execution_count": null,
   "metadata": {},
   "outputs": [],
   "source": [
    "%matplotlib notebook\n",
    "import matplotlib.pyplot as plt\n",
    "import numpy as np\n",
    "import sympy as sp\n",
    "sp.init_printing()\n",
    "import ipywidgets as ipw"
   ]
  },
  {
   "cell_type": "code",
   "execution_count": null,
   "metadata": {},
   "outputs": [],
   "source": [
    "# sigma_x = sp.Symbol(r'\\sigma_x', nonnegative = True)\n",
    "# sigma_y = sp.Symbol(r'\\sigma_y', nonnegative = True)\n",
    "# T = sp.Symbol('T', nonnegative = True)\n",
    "# c_t, s_t = sp.symbols('c_t, s_t', nonnegative = True)"
   ]
  },
  {
   "cell_type": "code",
   "execution_count": null,
   "metadata": {},
   "outputs": [],
   "source": [
    "# sigma_ij = sp.Matrix([[sigma_x, 0],\n",
    "#                      [0, sigma_y + T]])\n",
    "# sigma_ij"
   ]
  },
  {
   "cell_type": "code",
   "execution_count": null,
   "metadata": {},
   "outputs": [],
   "source": [
    "# R = sp.Matrix([[c_t, -s_t],\n",
    "#                      [s_t, c_t]])\n",
    "# R"
   ]
  },
  {
   "cell_type": "code",
   "execution_count": null,
   "metadata": {},
   "outputs": [],
   "source": [
    "# R.T * sigma_ij * R"
   ]
  },
  {
   "cell_type": "code",
   "execution_count": null,
   "metadata": {},
   "outputs": [],
   "source": [
    "theta = sp.Symbol(r'\\theta', nonnegative = True)\n",
    "K_I = sp.Symbol('K_I', nonnegative = True)\n",
    "K_II = sp.Symbol('K_{II}', nonnegative = True)\n",
    "T = sp.Symbol('T', nonnegative = True)\n",
    "sigma =  sp.Symbol(r'\\sigma', nonnegative = True)\n",
    "eta =  sp.Symbol(r'\\eta', nonnegative = True)\n",
    "a = sp.Symbol('a', nonnegative = True)\n",
    "beta = sp.Symbol(r'\\beta', nonnegative = True)\n",
    "r = sp.Symbol('r', nonnegative = True)"
   ]
  },
  {
   "cell_type": "code",
   "execution_count": null,
   "metadata": {},
   "outputs": [],
   "source": [
    "s_b, c_b = sp.symbols('s_b, c_b')"
   ]
  },
  {
   "cell_type": "code",
   "execution_count": null,
   "metadata": {},
   "outputs": [],
   "source": [
    "sigma_ij = sp.Matrix([[(1 - eta) * sigma, eta * sigma],\n",
    "                     [eta * sigma, 0]])\n",
    "sigma_ij"
   ]
  },
  {
   "cell_type": "code",
   "execution_count": null,
   "metadata": {},
   "outputs": [],
   "source": [
    "R_beta = sp.Matrix([[c_b, -s_b],\n",
    "                    [s_b, c_b]])"
   ]
  },
  {
   "cell_type": "code",
   "execution_count": null,
   "metadata": {},
   "outputs": [],
   "source": [
    "sigma_beta_ij = R_beta.T * sigma_ij * R_beta"
   ]
  },
  {
   "cell_type": "code",
   "execution_count": null,
   "metadata": {},
   "outputs": [],
   "source": [
    "sigma_beta_ij_sim_ = sp.simplify(sigma_beta_ij)"
   ]
  },
  {
   "cell_type": "code",
   "execution_count": null,
   "metadata": {},
   "outputs": [],
   "source": [
    "K_I = sp.sqrt(sp.pi * a) * sigma_beta_ij_sim_[0,0]\n",
    "K_II  = sp.sqrt(sp.pi * a) * sigma_beta_ij_sim_[1,0]\n",
    "K_I"
   ]
  },
  {
   "cell_type": "code",
   "execution_count": null,
   "metadata": {},
   "outputs": [],
   "source": [
    "B = sp.Symbol('B', nonnegative = True)\n",
    "K_eff = sp.sqrt(K_I**2 + K_II**2)\n",
    "T = sigma_beta_ij_sim_[0,0] - sigma_beta_ij_sim_[1,1] # 1,1 - 0,0\n",
    "T = B * K_eff * (1/(sp.sqrt(sp.pi * a)))\n",
    "T"
   ]
  },
  {
   "cell_type": "code",
   "execution_count": null,
   "metadata": {},
   "outputs": [],
   "source": [
    "s_t, c_t = sp.symbols('s_t,c_t')"
   ]
  },
  {
   "cell_type": "code",
   "execution_count": null,
   "metadata": {},
   "outputs": [],
   "source": [
    "cs_theta = sp.Matrix([c_t, s_t])"
   ]
  },
  {
   "cell_type": "code",
   "execution_count": null,
   "metadata": {},
   "outputs": [],
   "source": [
    "cs_theta_ = sp.Matrix([sp.cos(theta), sp.sin(theta)])"
   ]
  },
  {
   "cell_type": "code",
   "execution_count": null,
   "metadata": {},
   "outputs": [],
   "source": [
    "s_3t = 3 * s_t - 4 * s_t**3\n",
    "c_3t = 4 * c_t**3 - 3 * c_t\n",
    "S_I_11 = 2 * c_t - c_t * (1 + s_t * s_3t) \n",
    "S_I_22 = c_t * (1 + s_t * s_3t)\n",
    "S_I_12 = c_t * s_t * c_3t\n",
    "S_I = sp.Matrix([[S_I_11, S_I_12],[S_I_12, S_I_22]])\n",
    "S_I_ = sp.simplify(S_I)"
   ]
  },
  {
   "cell_type": "code",
   "execution_count": null,
   "metadata": {},
   "outputs": [],
   "source": [
    "S_II_11 = - 2 * s_t - s_t * c_t * c_3t  \n",
    "S_II_22 = s_t * c_t * c_3t\n",
    "S_II_12 = c_t * (1 - s_t * s_3t)\n",
    "S_II = sp.Matrix([[S_II_11, S_II_12],[S_II_12, S_II_22]])\n",
    "S_II_ = sp.simplify(S_II)"
   ]
  },
  {
   "cell_type": "code",
   "execution_count": null,
   "metadata": {},
   "outputs": [],
   "source": [
    "c_t_h = sp.sqrt((1 + c_t)/2)\n",
    "s_t_h = sp.sqrt((1 - c_t)/2)"
   ]
  },
  {
   "cell_type": "code",
   "execution_count": null,
   "metadata": {},
   "outputs": [],
   "source": [
    "sigma_tip_ij = sp.Matrix([[K_I * S_I_[0,0] + K_II * S_II_[0,0] + T, K_I * S_I_[0,1] + K_II * S_II_[0,1] ],\n",
    "                   [K_I * S_I_[0,1] + K_II * S_II_[0,1], K_I * S_I_[1,1] + K_II * S_II_[1,1]]])\n",
    "sigma_tip_ij_ = sp.simplify(sigma_tip_ij.subs(c_t, c_t_h).subs(s_t, s_t_h)) / sp.sqrt(2 * sp.pi * r)\n",
    "sigma_tip_ij_"
   ]
  },
  {
   "cell_type": "code",
   "execution_count": null,
   "metadata": {},
   "outputs": [],
   "source": [
    "R_theta = sp.Matrix([[cs_theta[0], -cs_theta[1]],[cs_theta[1], cs_theta[0]]])"
   ]
  },
  {
   "cell_type": "code",
   "execution_count": null,
   "metadata": {},
   "outputs": [],
   "source": [
    "sig_tip_theta_ij = R_theta.T * sigma_tip_ij_ * R_theta\n",
    "sig_tip_theta_ij_ = sp.simplify(sig_tip_theta_ij)\n",
    "sig_tip_theta_ij_"
   ]
  },
  {
   "cell_type": "code",
   "execution_count": null,
   "metadata": {},
   "outputs": [],
   "source": [
    "s_t_ = sp.sqrt(1 - c_t**2)\n",
    "sig_tip_theta_ij_sub = sig_tip_theta_ij_.subs(s_t, s_t_)"
   ]
  },
  {
   "cell_type": "code",
   "execution_count": null,
   "metadata": {},
   "outputs": [],
   "source": [
    "sig_tip_theta_ij_sim = sp.simplify(sig_tip_theta_ij_sub)\n",
    "sig_tip_theta_ij_sim"
   ]
  },
  {
   "cell_type": "code",
   "execution_count": null,
   "metadata": {},
   "outputs": [],
   "source": [
    "params = {eta : 0, B : 0}\n",
    "cos_theta_sigma_tension = sp.solve(sig_tip_theta_ij_sim[1,0].subs(params), c_t)\n",
    "cos_theta_sigma_tension"
   ]
  },
  {
   "cell_type": "code",
   "execution_count": null,
   "metadata": {},
   "outputs": [],
   "source": [
    "params = {eta : 0, B: 0.5}\n",
    "cos_theta_sigma_tension_t1 = sp.solve(sig_tip_theta_ij_sim[1,0].subs(params), c_t)\n",
    "cos_theta_sigma_tension_t1"
   ]
  },
  {
   "cell_type": "code",
   "execution_count": null,
   "metadata": {},
   "outputs": [],
   "source": [
    "# params = {eta : 0, T: -1}\n",
    "# cos_theta_sigma_tension_tm1 = sp.solve(sig_tip_theta_ij_sim[1,0].subs(params), c_t)\n",
    "# cos_theta_sigma_tension_tm1"
   ]
  },
  {
   "cell_type": "code",
   "execution_count": null,
   "metadata": {},
   "outputs": [],
   "source": [
    "params_ = {eta : 1, B: 0} \n",
    "cos_theta_sigma_pure_shear = sp.solve(sig_tip_theta_ij_sim[1,0].subs(params_), c_t)\n",
    "cos_theta_sigma_pure_shear"
   ]
  },
  {
   "cell_type": "code",
   "execution_count": null,
   "metadata": {},
   "outputs": [],
   "source": [
    "params_ = {eta : 1, B:-1} \n",
    "cos_theta_sigma_pure_shear_t1 = sp.solve(sig_tip_theta_ij_sim[1,0].subs(params_), c_t)\n",
    "cos_theta_sigma_pure_shear_t1"
   ]
  },
  {
   "cell_type": "code",
   "execution_count": null,
   "metadata": {},
   "outputs": [],
   "source": [
    "# params_ = {eta : 1,} \n",
    "# cos_theta_sigma_pure_shear_tm1 = sp.solve(sig_tip_theta_ij_sim[1,0].subs(params_), c_t)\n",
    "# cos_theta_sigma_pure_shear_tm1"
   ]
  },
  {
   "cell_type": "code",
   "execution_count": null,
   "metadata": {},
   "outputs": [],
   "source": [
    "params_ = {eta : 0.5} \n",
    "cos_theta_sigma_tension_shear = sp.solve(sig_tip_theta_ij_sim[1,0].subs(params_), c_t)\n",
    "cos_theta_sigma_tension_shear"
   ]
  },
  {
   "cell_type": "code",
   "execution_count": null,
   "metadata": {},
   "outputs": [],
   "source": [
    "theta_pure_tension = cos_theta_sigma_tension[2].subs(c_b, sp.cos(beta)).subs(s_b, sp.sin(beta))\n",
    "theta_pt = sp.acos(theta_pure_tension)\n",
    "get_theta_sig_pt = sp.lambdify((beta), theta_pt, 'numpy')"
   ]
  },
  {
   "cell_type": "code",
   "execution_count": null,
   "metadata": {},
   "outputs": [],
   "source": [
    "theta_pure_shear = cos_theta_sigma_pure_shear[2].subs(c_b, sp.cos(beta)).subs(s_b, sp.sin(beta))\n",
    "theta_sig_ps = sp.acos(theta_pure_shear)\n",
    "get_theta_sig_ps = sp.lambdify((beta), theta_sig_ps, 'numpy')"
   ]
  },
  {
   "cell_type": "code",
   "execution_count": null,
   "metadata": {},
   "outputs": [],
   "source": [
    "theta_sig_tension_shear = cos_theta_sigma_tension_shear[2].subs(c_b, sp.cos(beta)).subs(s_b, sp.sin(beta))\n",
    "theta_sig_ts = sp.acos(theta_sig_tension_shear)\n",
    "get_theta_sig_ts = sp.lambdify((beta), theta_sig_ts, 'numpy')"
   ]
  },
  {
   "cell_type": "code",
   "execution_count": null,
   "metadata": {},
   "outputs": [],
   "source": [
    "_, (ax1) = plt.subplots(1, 1, figsize=(7,3))\n",
    "beta_pt_0 = np.linspace(-90 * np.pi/180, 0 * np.pi/180, 50)\n",
    "beta_pt_1 = np.linspace(0 * np.pi/180, 90 * np.pi/180, 50)\n",
    "beta_pt = np.concatenate((beta_pt_0, beta_pt_1  ))\n",
    "beta_0_ts = np.linspace(0 * np.pi/180, 31.70 * np.pi/180, 20)\n",
    "beta_1_ts = np.linspace(31.70 * np.pi/180, 90 * np.pi/180, 80)\n",
    "beta_ts = np.concatenate((beta_0_ts, beta_1_ts  ))\n",
    "theta_sig_pt_0 = get_theta_sig_pt(beta_pt_0)\n",
    "theta_sig_pt_1 = -get_theta_sig_pt(beta_pt_1)\n",
    "theta_sig_pt = np.concatenate((theta_sig_pt_0, theta_sig_pt_1  ))\n",
    "theta_sig_pt = -get_theta_sig_pt(beta_ts)\n",
    "beta_0_ps = np.linspace(0 * np.pi/180, 45 * np.pi/180, 50)\n",
    "beta_1_ps = np.linspace(45 * np.pi/180, 90 * np.pi/180, 50)\n",
    "beta_ps = np.concatenate((beta_0_ps, beta_1_ps))\n",
    "theta_sig_ps_1 = get_theta_sig_ps(beta_0_ps)\n",
    "theta_sig_ps_2 = -get_theta_sig_ps(beta_1_ps)\n",
    "#if beta_ps.any() == 45 * np.pi/180:\n",
    "#theta_ps_0 = 0\n",
    "theta_sig_ps_fin = np.concatenate((theta_sig_ps_1, theta_sig_ps_2)) #, theta_ps_0\n",
    "theta_ts_1 = get_theta_sig_ts(beta_0_ts)\n",
    "theta_ts_2 = -get_theta_sig_ts(beta_1_ts)\n",
    "theta_sig_ts_fin = np.concatenate((theta_ts_1, theta_ts_2))\n",
    "ax1.plot(beta_ts * 180/np.pi, theta_sig_ts_fin * 180/ np.pi, color='blue', lw=2, label = r'$Tension\\,Shear$')\n",
    "ax1.plot(beta_ps * 180/np.pi, theta_sig_ps_fin * 180/ np.pi, color='red', lw=2, label = r'$Pure\\,Shear$')\n",
    "ax1.plot(beta_ts * 180/np.pi, theta_sig_pt * 180/ np.pi, color='orange', lw=2, label = r'$Uniaxial\\,Tension$')\n",
    "ax1.set_xlabel(r'$\\beta$'); ax1.set_ylabel(r'$\\theta$')\n",
    "ax1.legend()\n",
    "#_.savefig(\"crackpropagationagainstinclination.pdf\", bbox_inches='tight')"
   ]
  },
  {
   "cell_type": "code",
   "execution_count": null,
   "metadata": {},
   "outputs": [],
   "source": [
    "theta_sig_pt * 180/ np.pi"
   ]
  },
  {
   "cell_type": "code",
   "execution_count": null,
   "metadata": {},
   "outputs": [],
   "source": [
    "beta_ts * 180/np.pi"
   ]
  },
  {
   "cell_type": "code",
   "execution_count": null,
   "metadata": {},
   "outputs": [],
   "source": []
  }
 ],
 "metadata": {
  "kernelspec": {
   "display_name": "Python 3",
   "language": "python",
   "name": "python3"
  },
  "language_info": {
   "codemirror_mode": {
    "name": "ipython",
    "version": 3
   },
   "file_extension": ".py",
   "mimetype": "text/x-python",
   "name": "python",
   "nbconvert_exporter": "python",
   "pygments_lexer": "ipython3"
  }
 },
 "nbformat": 4,
 "nbformat_minor": 4
}
