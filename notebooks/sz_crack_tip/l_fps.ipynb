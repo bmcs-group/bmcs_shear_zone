{
 "cells": [
  {
   "cell_type": "markdown",
   "metadata": {},
   "source": [
    "# Length of fracture Process Zone ($L^{fps}$)"
   ]
  },
  {
   "cell_type": "markdown",
   "metadata": {},
   "source": [
    "- Linear elastic fracture mechanics assumes the size of the inelastic zone at the tip of the crack to be zero but it must in reality have a finite size $R$.\n",
    "- $R$ was estimated by Irwin for plastic materials and denotes the limit of the zone where the tensile strength is exceeded.\n",
    "- We will have a softening behavior at the tip of the crack for the case of quasi-brittle materials. To see how the softening influences the size of the fracture process zone, consider the approximation considered in figure. This assumption is similar to Irwin for estimate for ductile material but with an assumption that when the critical situation $K_I = K_{Ic}$ is reached, the point at the crack tip have already softened and the points ahead of it are in the intermediate states of fracture, in such a way that the stress distribution over the fracture process zone is linear. The result of this approximation is double Irwin's estimate. \n"
   ]
  },
  {
   "cell_type": "markdown",
   "metadata": {},
   "source": [
    "<img src=\"matmod/fig/linearR.png\" width=\"400\"/>"
   ]
  },
  {
   "cell_type": "markdown",
   "metadata": {},
   "source": [
    "- If progressive softening is assumed to be concave upwards then one can get much larger sizes of fracture process zone for quasi brittle materials. This progressive softening is shown in figure."
   ]
  },
  {
   "cell_type": "markdown",
   "metadata": {},
   "source": [
    "<img src=\"matmod/fig/curve R.png\" width=\"400\"/>"
   ]
  },
  {
   "cell_type": "markdown",
   "metadata": {},
   "source": [
    "The stress profile in this case is assumed to be parabolic of degree $n$ and sizes $OBCDO = DEBCD$.  This leads to the equation:\n",
    "    \\begin{equation}\n",
    "        \\int_{r_1}^{R_c} K_{Ic}[2 \\pi (x - r_1)]^{-1/2} dx = \\int_{0}^{R_c} f'_t \\left(\\frac{x}{R_c}\\right)^n dx = \\frac{1}{n+1} R_c f'_t\n",
    "    \\end{equation}\n",
    "Further simplification of the equation leads to:\n",
    "    \\begin{equation}\n",
    "        R_c = \\frac{n+1}{\\pi} \\left( \\frac{K_{Ic}}{f'_t}\\right)^2\n",
    "    \\end{equation}\n",
    "To sum up, one may state that the nonlinear zone ahead of the crack tip at the critical state for a very large structure may be written as:\n",
    "    \\begin{equation}\n",
    "        R_c = \\eta \\left( \\frac{K_{Ic}}{f'_t}\\right)^2 = \\eta \\left( \\frac{E G_f}{f_t^{'2}}\\right)\n",
    "    \\end{equation}\n",
    "where, $K_{Ic} = \\sqrt{E G_f}$ and $\\eta$ is the dimensionless parameter and is taken roughly between 2 to 5 for quasi-brittle materials. \n",
    "    By simplification:\n",
    "    \\begin{equation}\n",
    "        R_c = \\eta L_c\n",
    "    \\end{equation}"
   ]
  },
  {
   "cell_type": "code",
   "execution_count": null,
   "metadata": {},
   "outputs": [],
   "source": []
  }
 ],
 "metadata": {
  "kernelspec": {
   "display_name": "Python 3",
   "language": "python",
   "name": "python3"
  },
  "language_info": {
   "codemirror_mode": {
    "name": "ipython",
    "version": 3
   },
   "file_extension": ".py",
   "mimetype": "text/x-python",
   "name": "python",
   "nbconvert_exporter": "python",
   "pygments_lexer": "ipython3"
  }
 },
 "nbformat": 4,
 "nbformat_minor": 4
}
