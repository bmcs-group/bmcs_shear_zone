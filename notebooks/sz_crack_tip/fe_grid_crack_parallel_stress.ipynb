{
 "cells": [
  {
   "cell_type": "code",
   "execution_count": 1,
   "id": "567c4414",
   "metadata": {},
   "outputs": [],
   "source": [
    "%matplotlib widget"
   ]
  },
  {
   "cell_type": "code",
   "execution_count": 2,
   "id": "2627111b",
   "metadata": {},
   "outputs": [],
   "source": [
    "from ibvpy.api import TStepBC\n",
    "from ibvpy.bcond import BCDof, BCSlice\n",
    "from ibvpy.api import XDomainFEGrid\n",
    "from ibvpy.fets import FETS2D4Q\n",
    "from ibvpy.tmodel.mats2D.mats2D_elastic.vmats2D_elastic import MATS2DElastic\n",
    "from ibvpy.tmodel.viz3d_tensor_field import \\\n",
    "   Vis3DTensorField, Viz3DTensorField"
   ]
  },
  {
   "cell_type": "code",
   "execution_count": 3,
   "id": "f472a96c",
   "metadata": {},
   "outputs": [],
   "source": [
    "B = 1\n",
    "fe_grid = XDomainFEGrid(integ_factor = B,\n",
    "                        coord_min=(0,0),\n",
    "                        coord_max=(1,1),\n",
    "                        shape=(10,10),\n",
    "                        fets=FETS2D4Q())"
   ]
  },
  {
   "cell_type": "code",
   "execution_count": 4,
   "id": "345bca30",
   "metadata": {},
   "outputs": [],
   "source": [
    "mat_elastic = MATS2DElastic(E=28000, nu=0.2)"
   ]
  },
  {
   "cell_type": "code",
   "execution_count": 5,
   "id": "97050436",
   "metadata": {},
   "outputs": [],
   "source": [
    "ts = TStepBC(\n",
    "    domains = [(fe_grid, mat_elastic)]\n",
    ")"
   ]
  },
  {
   "cell_type": "code",
   "execution_count": 6,
   "id": "4d75eb02",
   "metadata": {},
   "outputs": [],
   "source": [
    "fix_left = BCSlice(slice=fe_grid.mesh[0, 3:, 0, :], var='u',\n",
    "                   dims=[0,1], value=0 )\n",
    "load_right = BCSlice(slice=fe_grid.mesh[-1,:,-1,:],\n",
    "                    var='u', dims=[1], value=0.1)\n",
    "ts.bc = [fix_left, load_right]"
   ]
  },
  {
   "cell_type": "code",
   "execution_count": 7,
   "id": "4a706258",
   "metadata": {},
   "outputs": [],
   "source": [
    "ts.hist.vis_record = {\n",
    "    'stress' : Vis3DTensorField(var='sig_ab')\n",
    "}"
   ]
  },
  {
   "cell_type": "code",
   "execution_count": 8,
   "id": "684e4229",
   "metadata": {},
   "outputs": [
    {
     "name": "stdout",
     "output_type": "stream",
     "text": [
      "t:\t 0.00(0), \n",
      "\t 1.00(1), \n",
      "\n"
     ]
    }
   ],
   "source": [
    "sim = ts.sim\n",
    "sim.tloop.verbose=True\n",
    "sim.tline.step=1\n",
    "sim.reset()\n",
    "sim.run()"
   ]
  },
  {
   "cell_type": "code",
   "execution_count": 9,
   "id": "4b98db73",
   "metadata": {},
   "outputs": [],
   "source": [
    "U_1 = ts.hist.U_t[-1]"
   ]
  },
  {
   "cell_type": "code",
   "execution_count": 10,
   "id": "232f58d6",
   "metadata": {},
   "outputs": [],
   "source": [
    "eps_Emab = fe_grid.map_U_to_field(U_1)"
   ]
  },
  {
   "cell_type": "code",
   "execution_count": 11,
   "id": "abd5e0f0",
   "metadata": {},
   "outputs": [
    {
     "data": {
      "text/plain": [
       "array([[ 0.08516775,  0.03104485],\n",
       "       [ 0.03104485, -0.00359675]])"
      ]
     },
     "execution_count": 11,
     "metadata": {},
     "output_type": "execute_result"
    }
   ],
   "source": [
    "eps_Emab[3,0]"
   ]
  },
  {
   "cell_type": "code",
   "execution_count": 12,
   "id": "0865c9ba",
   "metadata": {},
   "outputs": [],
   "source": [
    "sig_tip, _ = mat_elastic.get_corr_pred(eps_Emab[3,:],1)"
   ]
  },
  {
   "cell_type": "code",
   "execution_count": 13,
   "id": "70535c52",
   "metadata": {},
   "outputs": [
    {
     "data": {
      "text/plain": [
       "array([[[2463.07839181,  724.37980758],\n",
       "        [ 724.37980758,  391.90672802]],\n",
       "\n",
       "       [[2405.75714825,  331.74294693],\n",
       "        [ 331.74294693,  105.3005102 ]],\n",
       "\n",
       "       [[1424.16499662,  217.1004598 ],\n",
       "        [ 217.1004598 ,  -91.01792012]],\n",
       "\n",
       "       [[1481.48624019,  609.73732045],\n",
       "        [ 609.73732045,  195.5882977 ]]])"
      ]
     },
     "execution_count": 13,
     "metadata": {},
     "output_type": "execute_result"
    }
   ],
   "source": [
    "sig_tip"
   ]
  },
  {
   "cell_type": "code",
   "execution_count": 14,
   "id": "445a76c5",
   "metadata": {
    "scrolled": false
   },
   "outputs": [],
   "source": [
    "if True:\n",
    "    from mayavi import mlab\n",
    "    mlab.options.backend = 'envisage'\n",
    "    mlab.options.offscreen = False\n",
    "    f_stress = mlab.figure()\n",
    "    scene = mlab.get_engine().scenes[-1]\n",
    "    scene.name = 'stress'\n",
    "    stress_viz = Viz3DTensorField(vis3d=ts.hist['stress'])\n",
    "    stress_viz.setup()\n",
    "    stress_viz.plot(ts.t_n)\n",
    "    mlab.show()"
   ]
  },
  {
   "cell_type": "code",
   "execution_count": null,
   "id": "9339329e",
   "metadata": {},
   "outputs": [],
   "source": []
  }
 ],
 "metadata": {
  "kernelspec": {
   "display_name": "Python 3",
   "language": "python",
   "name": "python3"
  },
  "language_info": {
   "codemirror_mode": {
    "name": "ipython",
    "version": 3
   },
   "file_extension": ".py",
   "mimetype": "text/x-python",
   "name": "python",
   "nbconvert_exporter": "python",
   "pygments_lexer": "ipython3",
   "version": "3.9.7"
  }
 },
 "nbformat": 4,
 "nbformat_minor": 5
}
